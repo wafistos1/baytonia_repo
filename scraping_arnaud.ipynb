{
 "cells": [
  {
   "cell_type": "code",
   "execution_count": 1,
   "metadata": {},
   "outputs": [],
   "source": [
    "#imports here\n",
    "from selenium import webdriver\n",
    "from selenium.webdriver.common.keys import Keys\n",
    "from selenium.webdriver.support import expected_conditions as EC\n",
    "from selenium.webdriver.common.by import By\n",
    "from selenium.webdriver.support.wait import WebDriverWait\n",
    "from selenium.webdriver.firefox.options import Options\n",
    "import time\n",
    "import os\n",
    "from fake_useragent import UserAgent\n",
    "from random import randint\n",
    "import re\n",
    "import pandas as pd"
   ]
  },
  {
   "cell_type": "code",
   "execution_count": null,
   "metadata": {},
   "outputs": [],
   "source": []
  },
  {
   "cell_type": "code",
   "execution_count": null,
   "metadata": {},
   "outputs": [],
   "source": []
  },
  {
   "cell_type": "code",
   "execution_count": null,
   "metadata": {},
   "outputs": [],
   "source": []
  },
  {
   "cell_type": "code",
   "execution_count": null,
   "metadata": {},
   "outputs": [],
   "source": []
  },
  {
   "cell_type": "code",
   "execution_count": null,
   "metadata": {},
   "outputs": [],
   "source": []
  },
  {
   "cell_type": "code",
   "execution_count": null,
   "metadata": {},
   "outputs": [],
   "source": []
  },
  {
   "cell_type": "code",
   "execution_count": 2,
   "metadata": {},
   "outputs": [
    {
     "name": "stdout",
     "output_type": "stream",
     "text": [
      "Mozilla/5.0 (Windows NT 5.1) AppleWebKit/537.36 (KHTML, like Gecko) Chrome/35.0.2309.372 Safari/537.36\n"
     ]
    },
    {
     "name": "stderr",
     "output_type": "stream",
     "text": [
      "<ipython-input-2-5315509cced7>:7: DeprecationWarning: use options instead of firefox_options\n",
      "  driver = webdriver.Firefox(firefox_options=options)\n"
     ]
    }
   ],
   "source": [
    "options = Options()\n",
    "ua = UserAgent()\n",
    "userAgent = ua.random\n",
    "print(userAgent)\n",
    "options.add_argument(f'user-agent={userAgent}')\n",
    "#options.add_argument(\"--headless\")\n",
    "driver = webdriver.Firefox(firefox_options=options)\n",
    "#driver = webdriver.Firefox()\n"
   ]
  },
  {
   "cell_type": "code",
   "execution_count": null,
   "metadata": {},
   "outputs": [],
   "source": []
  },
  {
   "cell_type": "code",
   "execution_count": null,
   "metadata": {},
   "outputs": [],
   "source": []
  },
  {
   "cell_type": "code",
   "execution_count": null,
   "metadata": {},
   "outputs": [],
   "source": []
  },
  {
   "cell_type": "code",
   "execution_count": null,
   "metadata": {},
   "outputs": [],
   "source": []
  },
  {
   "cell_type": "code",
   "execution_count": null,
   "metadata": {},
   "outputs": [],
   "source": []
  },
  {
   "cell_type": "code",
   "execution_count": null,
   "metadata": {},
   "outputs": [],
   "source": []
  },
  {
   "cell_type": "code",
   "execution_count": null,
   "metadata": {},
   "outputs": [],
   "source": []
  },
  {
   "cell_type": "code",
   "execution_count": null,
   "metadata": {},
   "outputs": [],
   "source": []
  },
  {
   "cell_type": "code",
   "execution_count": 3,
   "metadata": {},
   "outputs": [],
   "source": [
    "#Connect to instagram account\n",
    "driver.get(\"http://www.instagram.fr\")\n",
    "driver.implicitly_wait(10) # seconds\n",
    "\n",
    "#target username\n",
    "username = WebDriverWait(driver, 10).until(EC.element_to_be_clickable((By.CSS_SELECTOR, \"input[name='username']\")))\n",
    "password = WebDriverWait(driver, 10).until(EC.element_to_be_clickable((By.CSS_SELECTOR, \"input[name='password']\")))\n",
    "\n",
    "#enter username and password\n",
    "username.clear()\n",
    "username.send_keys('11fd8b1df0')\n",
    "password.clear()\n",
    "password.send_keys('dimarawa')\n",
    "\n",
    "#target the login button and click it\n",
    "button = WebDriverWait(driver, 2).until(EC.element_to_be_clickable((By.CSS_SELECTOR, \"button[type='submit']\"))).click()\n",
    "\n",
    "#We are logged in!\n",
    "\n",
    "\n",
    "#target the  button not Now and click it\n",
    "time.sleep(5)\n",
    "button = driver.find_element_by_xpath(\"/html/body/div[1]/section/main/div/div/div/div/button\")\n",
    "button.click()\n",
    "time.sleep(2)\n",
    "button2 = driver.find_element_by_xpath(\"/html/body/div[4]/div/div/div/div[3]/button[2]\")\n",
    "button2.click()"
   ]
  },
  {
   "cell_type": "code",
   "execution_count": null,
   "metadata": {},
   "outputs": [],
   "source": []
  },
  {
   "cell_type": "code",
   "execution_count": null,
   "metadata": {},
   "outputs": [],
   "source": []
  },
  {
   "cell_type": "code",
   "execution_count": null,
   "metadata": {},
   "outputs": [],
   "source": []
  },
  {
   "cell_type": "code",
   "execution_count": null,
   "metadata": {},
   "outputs": [],
   "source": []
  },
  {
   "cell_type": "code",
   "execution_count": 114,
   "metadata": {},
   "outputs": [],
   "source": [
    "driver.get('https://www.instagram.com/danielarsham/')"
   ]
  },
  {
   "cell_type": "code",
   "execution_count": null,
   "metadata": {},
   "outputs": [],
   "source": []
  },
  {
   "cell_type": "code",
   "execution_count": null,
   "metadata": {},
   "outputs": [],
   "source": []
  },
  {
   "cell_type": "code",
   "execution_count": 4,
   "metadata": {},
   "outputs": [],
   "source": [
    "LIST_INSTA = ['https://www.instagram.com/danielarsham/', 'https://www.instagram.com/obeygiant/', 'https://www.instagram.com/swaggolfco/']"
   ]
  },
  {
   "cell_type": "code",
   "execution_count": null,
   "metadata": {},
   "outputs": [],
   "source": []
  },
  {
   "cell_type": "code",
   "execution_count": null,
   "metadata": {},
   "outputs": [],
   "source": []
  },
  {
   "cell_type": "code",
   "execution_count": 5,
   "metadata": {},
   "outputs": [
    {
     "name": "stdout",
     "output_type": "stream",
     "text": [
      "['18,146 likes\\ndanielarsham\\nVerified\\nI got a new Art Storage Space.\\n4h\\nqueenb\\nVerified\\nperfect\\n3h4 likesReply\\nbrett_david\\nVerified\\n🔥\\n2h1 likeReply\\nkamsinghnota\\nThe colour on the GT2 🔥🔥🔥\\n4h13 likesReply\\nmrk.rcnl\\nGT2 color is amazing\\n2h5 likesReply\\nView replies (1)\\ngreganagnost\\nGT2.....\\n4h4 likesReply\\nwoke_kohl\\nI only hope my future garage could look like this 😱\\n4h2 likesReply\\nView replies (1)\\narixant\\nwhat color is that on the 996????\\n4h1 likeReply\\nView replies (2)\\nmercedesolondriz\\n🔥🔥🔥\\n4h1 likeReply\\nView replies (1)\\ndj_g_blaster\\n🔥🔥🔥🔥🔥\\n4h1 likeReply\\nView replies (1)\\nkadenhisgen\\nWhat dreams look like\\n3h1 likeReply\\nView replies (1)\\nphilllllthy\\ntoys 😍\\n3h2 likesReply\\nbaby_niko_bih\\n🔥🔥🔥🔥🔥🔥🔥\\n4h1 likeReply\\nView replies (1)\\n4 HOURS AGO\\nPost']\n",
      "['20,125 likes\\ndanielarsham\\nVerified\\nA few of the different styles and subject matter I have explored over the past Decade. Which one is your favorite? Which one are you not into? ✌🏼\\n18h\\nstudio.drift\\nVerified\\nThe cube eye’s .. love it.\\n16h12 likesReply\\njackmcdermott97\\nI’m not into the work you’ve been doing with the Cavs\\n17h3 likesReply\\nView replies (2)\\nftorkler\\nOnly the ruined diors I wasn’t into. Everything else is 🔥🔥🔥\\n17h4 likesReply\\njoelrea\\nVerified\\nIt’s all dope but I like the paintings the most🔥\\n12h6 likesReply\\njuicijake\\nI love that artwork that makes the walls almost alive\\n17h4 likesReply\\nView replies (1)\\nbrooklynnlive\\nThe alocasia ❤️\\n17h3 likesReply\\nsamuelhennessy\\nI sprayed a plant blue for a uni project 10 years ago and got a 3rd. 😅\\n16h2 likesReply\\ndavidseiter\\nLove all the architecture stuff but the paintings this past year are technically so astounding. Hard to choose\\n17h3 likesReply\\nsandrakemal\\nGorgeous\\n17h1 likeReply\\nmarty_bqm\\nThe Lily is my favorite\\U0001fab4 🔥🔥🔥🔥🔥🔥🔥\\n18h1 likeReply\\nstaniflou\\nI mean... second one is definitely on another level 🔥\\n9h1 likeReply\\nmitchygee\\nI want that houseplant\\n18h1 likeReply\\n18 HOURS AGO\\nPost']\n"
     ]
    }
   ],
   "source": [
    "\n",
    "\n",
    "posts = driver.find_elements_by_class_name('v1Nh3')[0].click()\n",
    "time.sleep(4)\n",
    "#Fonction sending message\n",
    "def sending_msg(body, subject, receiver, sender):\n",
    "    import smtplib\n",
    "    from email.mime.text import MIMEText\n",
    "\n",
    "    \n",
    "    receivers = [receiver]\n",
    "    body_of_email = 'The body of the email'\n",
    "    #msg = MIMEText(body_of_email, 'plain')\n",
    "    html_body_of_email = f'<h1>{body}</h1>'\n",
    "    msg = MIMEText(html_body_of_email, 'html')\n",
    "    msg['Subject'] = subject\n",
    "    msg['From'] = sender\n",
    "    msg['To'] = ','.join(receivers)\n",
    "\n",
    "    s = smtplib.SMTP_SSL(host = 'smtp.gmail.com', port = 465)\n",
    "    s.login(user = 'mameri.wafi@gmail.com', password = 'ahrjqyhvlyhlkdib')\n",
    "    s.sendmail(sender, receivers, msg.as_string())\n",
    "    print(f'Sending to {receivers}')\n",
    "    s.quit()\n",
    "\n",
    "\n",
    "#traitement des expressions\n",
    "list_words = []\n",
    "LIST_KEYS_WORD = ['available', 'purchase', 'plant']\n",
    "LIST_INSTAGRAM_ACCOUNT = [\n",
    "    'https://www.instagram.com/danielarsham/',\n",
    "    'https://www.instagram.com/obeygiant/',\n",
    "    'https://www.instagram.com/swaggolfco/',\n",
    "                         ]\n",
    "posts = driver.find_elements_by_class_name('eo2As')\n",
    "for post in posts:\n",
    "    list_words.append(post.text)\n",
    "print(list_words)\n",
    "time.sleep(2)\n",
    "\n",
    "for i in range(1, 2):\n",
    "    close = driver.find_element_by_class_name('_65Bje').click()\n",
    "    #traitement des expressions\n",
    "    list_words = []\n",
    "    posts = driver.find_elements_by_class_name('eo2As')\n",
    "    for post in posts:\n",
    "        list_words.append(post.text)\n",
    "  \n",
    "    time.sleep(2)\n",
    "print(list_words)\n",
    "#driver.execute_script(\"arguments[0].click();\", close)\n"
   ]
  },
  {
   "cell_type": "code",
   "execution_count": null,
   "metadata": {},
   "outputs": [],
   "source": []
  },
  {
   "cell_type": "code",
   "execution_count": 8,
   "metadata": {},
   "outputs": [
    {
     "name": "stdout",
     "output_type": "stream",
     "text": [
      "Key Word: plant finding in https://www.instagram.com/danielarsham/\n"
     ]
    }
   ],
   "source": [
    "LIST_KEYS_WORD = ['available', 'purchase', 'plant', 'Verified']\n",
    "#Check if key_word in post\n",
    "for word in list_words:\n",
    "    for key_word in LIST_KEYS_WORD:\n",
    "        if key_word in word:\n",
    "            print(f'Key Word: {key_word} finding in {LIST_INSTAGRAM_ACCOUNT[0]}')\n",
    "\n",
    "            #Sendin Alert\n",
    "            #sending_msg('Find:, 'Alert', 'mameri.ouafi@gmail.com')\n",
    "        "
   ]
  },
  {
   "cell_type": "code",
   "execution_count": 7,
   "metadata": {},
   "outputs": [],
   "source": [
    "\n",
    "#Trouver les URL des post et sauvgarder dans une list\n",
    "serial = driver.find_elements_by_css_selector('a')\n",
    "for t in serial:\n",
    "    #print(t.get_attribute('href'))\n",
    "    pass"
   ]
  },
  {
   "cell_type": "code",
   "execution_count": null,
   "metadata": {},
   "outputs": [],
   "source": []
  },
  {
   "cell_type": "code",
   "execution_count": 8,
   "metadata": {},
   "outputs": [],
   "source": [
    "my_regex_pattern = r\"https://www.instagram.com/p/(?P<post_id>[\\w-]+)\"\n",
    "regex = re.compile(my_regex_pattern)"
   ]
  },
  {
   "cell_type": "code",
   "execution_count": null,
   "metadata": {},
   "outputs": [],
   "source": []
  },
  {
   "cell_type": "code",
   "execution_count": null,
   "metadata": {},
   "outputs": [],
   "source": []
  },
  {
   "cell_type": "code",
   "execution_count": 6,
   "metadata": {},
   "outputs": [],
   "source": [
    "#Fonction sending message\n",
    "def sending_msg(body, subject, receiver, sender):\n",
    "    import smtplib\n",
    "    from email.mime.text import MIMEText\n",
    "\n",
    "    \n",
    "    receivers = [receiver]\n",
    "    body_of_email = 'The body of the email'\n",
    "    #msg = MIMEText(body_of_email, 'plain')\n",
    "    html_body_of_email = f'<h1>{body}</h1>'\n",
    "    msg = MIMEText(html_body_of_email, 'html')\n",
    "    msg['Subject'] = subject\n",
    "    msg['From'] = sender\n",
    "    msg['To'] = ','.join(receivers)\n",
    "\n",
    "    s = smtplib.SMTP_SSL(host = 'smtp.gmail.com', port = 465)\n",
    "    s.login(user = 'mameri.wafi@gmail.com', password = 'ahrjqyhvlyhlkdib')\n",
    "    s.sendmail(sender, receivers, msg.as_string())\n",
    "    print(f'Sending to {receivers}')\n",
    "    s.quit()"
   ]
  },
  {
   "cell_type": "code",
   "execution_count": null,
   "metadata": {},
   "outputs": [],
   "source": []
  },
  {
   "cell_type": "code",
   "execution_count": null,
   "metadata": {},
   "outputs": [],
   "source": []
  },
  {
   "cell_type": "code",
   "execution_count": null,
   "metadata": {},
   "outputs": [],
   "source": []
  },
  {
   "cell_type": "code",
   "execution_count": null,
   "metadata": {},
   "outputs": [],
   "source": []
  },
  {
   "cell_type": "code",
   "execution_count": null,
   "metadata": {},
   "outputs": [],
   "source": []
  },
  {
   "cell_type": "code",
   "execution_count": 11,
   "metadata": {},
   "outputs": [
    {
     "name": "stdout",
     "output_type": "stream",
     "text": [
      "['https://www.instagram.com/p/CPgDX3RAeqG/', 'https://www.instagram.com/p/CPeP239gK22/', 'https://www.instagram.com/p/CPdR6_lg9-R/', 'https://www.instagram.com/p/CPat1Zygu7O/', 'https://www.instagram.com/p/CPZQ_6IgWWZ/']\n",
      "['https://www.instagram.com/p/CPbJZ5bHaBh/', 'https://www.instagram.com/p/CPXLkvjFVqH/', 'https://www.instagram.com/p/CPQzCAolXve/', 'https://www.instagram.com/p/CPJIROrF7aY/', 'https://www.instagram.com/p/CPGt4QMBJlO/']\n",
      "['https://www.instagram.com/p/CPd_qbYNKpf/', 'https://www.instagram.com/p/CPZWzX9NnTu/', 'https://www.instagram.com/p/CPY4-B5trXD/', 'https://www.instagram.com/p/CPWQFPTNhKH/', 'https://www.instagram.com/p/CPRcUAAtv3Q/']\n",
      "Key Word: Double-tap finding in https://www.instagram.com/p/CPY4-B5trXD/\n",
      "None\n",
      "Sending to ['mameri.ouafi@gmail.com']\n",
      "KEY: DOUBLE-TAP  lien https://www.instagram.com/p/CPY4-B5trXD/: sending Alert \n"
     ]
    }
   ],
   "source": [
    "\n",
    "#Check list insta \n",
    "for list_insta in LIST_INSTA:\n",
    "    driver.get(list_insta)\n",
    "\n",
    "    LIST_5_LAST_POST = []\n",
    "    #Trouver le nom unique du poste\n",
    "    serial = driver.find_elements_by_css_selector('a')\n",
    "    for t in serial:\n",
    "\n",
    "\n",
    "        my_match = regex.match(t.get_attribute('href'))\n",
    "        if my_match != None :\n",
    "            LIST_5_LAST_POST.append(t.get_attribute('href'))\n",
    "            #rint(t.get_attribute('href'))\n",
    "            #int(my_match['post_id'])\n",
    "    print(LIST_5_LAST_POST[:5])\n",
    "    #Save all words from 5 last posts in list_wors and track keys word\n",
    "    LIST_KEYS_WORD = ['available', 'purchase', 'wafistos', 'Double-tap']\n",
    "    list_words = []\n",
    "    df = pd.read_excel('List_instagramArnaud.xlsx')\n",
    "    for last_post in LIST_5_LAST_POST[:3]:\n",
    "        go_to_post = driver.get(last_post)\n",
    "        time.sleep(1)\n",
    "\n",
    "        posts = driver.find_elements_by_class_name('eo2As')\n",
    "        for post in posts:\n",
    "            #list_words.append(post.text)#Ajouter uppercase plus tard.\n",
    "            for i, key_word in enumerate(LIST_KEYS_WORD):\n",
    "                df1 = None\n",
    "                #Check if key word exist in post\n",
    "                if key_word in post.text and ((df['Key Word'] == str(key_word)) & (df['URL'] == str(last_post))).any() == False:\n",
    "                    #Sending email with url and key word and and row with url and key word on excel file\n",
    "                    print(f'Key Word: {key_word} finding in {last_post}')\n",
    "                    print(df1)\n",
    "                    df1 = pd.DataFrame([[key_word, last_post  ], ], columns=['Key Word', 'URL'])\n",
    "                    df.append(df1)\n",
    "                    df = pd.concat([df1, df])\n",
    "                    sending_msg(f\"KEY: <strong>{key_word.upper()}</strong>  lien {last_post}: sending Alert \", \"Alert\", 'mameri.ouafi@gmail.com', 'mameri.wafi@gmail.com')\n",
    "                    print(f\"KEY: {key_word.upper()}  lien {last_post}: sending Alert \")\n",
    "\n",
    "                #Sendin Alert\n",
    "                #sending_msg('Find:, 'Alert', 'mameri.ouafi@gmail.com')\n",
    "\n",
    "        df.to_excel( 'List_instagramArnaud.xlsx', index=False)\n",
    "\n",
    "                #Sendin Alert\n",
    "                #sending_msg('Find:, 'Alert', 'mameri.ouafi@gmail.com')\n",
    "        time.sleep(2)\n",
    "        #print(list_words)\n",
    "\n"
   ]
  },
  {
   "cell_type": "code",
   "execution_count": null,
   "metadata": {},
   "outputs": [],
   "source": []
  },
  {
   "cell_type": "code",
   "execution_count": null,
   "metadata": {},
   "outputs": [],
   "source": []
  },
  {
   "cell_type": "code",
   "execution_count": null,
   "metadata": {},
   "outputs": [],
   "source": []
  },
  {
   "cell_type": "code",
   "execution_count": null,
   "metadata": {},
   "outputs": [],
   "source": []
  },
  {
   "cell_type": "code",
   "execution_count": null,
   "metadata": {},
   "outputs": [],
   "source": []
  },
  {
   "cell_type": "code",
   "execution_count": null,
   "metadata": {},
   "outputs": [],
   "source": []
  },
  {
   "cell_type": "code",
   "execution_count": null,
   "metadata": {},
   "outputs": [],
   "source": []
  },
  {
   "cell_type": "code",
   "execution_count": null,
   "metadata": {},
   "outputs": [],
   "source": []
  },
  {
   "cell_type": "code",
   "execution_count": null,
   "metadata": {},
   "outputs": [],
   "source": []
  },
  {
   "cell_type": "code",
   "execution_count": null,
   "metadata": {},
   "outputs": [],
   "source": []
  },
  {
   "cell_type": "code",
   "execution_count": null,
   "metadata": {},
   "outputs": [],
   "source": []
  },
  {
   "cell_type": "code",
   "execution_count": null,
   "metadata": {},
   "outputs": [],
   "source": []
  },
  {
   "cell_type": "code",
   "execution_count": null,
   "metadata": {},
   "outputs": [],
   "source": []
  },
  {
   "cell_type": "code",
   "execution_count": null,
   "metadata": {},
   "outputs": [],
   "source": []
  },
  {
   "cell_type": "code",
   "execution_count": null,
   "metadata": {},
   "outputs": [],
   "source": []
  },
  {
   "cell_type": "code",
   "execution_count": null,
   "metadata": {},
   "outputs": [],
   "source": []
  },
  {
   "cell_type": "code",
   "execution_count": null,
   "metadata": {},
   "outputs": [],
   "source": []
  },
  {
   "cell_type": "code",
   "execution_count": null,
   "metadata": {},
   "outputs": [],
   "source": []
  },
  {
   "cell_type": "code",
   "execution_count": null,
   "metadata": {},
   "outputs": [],
   "source": []
  },
  {
   "cell_type": "code",
   "execution_count": null,
   "metadata": {},
   "outputs": [],
   "source": []
  },
  {
   "cell_type": "code",
   "execution_count": null,
   "metadata": {},
   "outputs": [],
   "source": []
  },
  {
   "cell_type": "code",
   "execution_count": null,
   "metadata": {},
   "outputs": [],
   "source": []
  },
  {
   "cell_type": "code",
   "execution_count": 98,
   "metadata": {},
   "outputs": [
    {
     "name": "stdout",
     "output_type": "stream",
     "text": [
      "0 = available\n",
      "1 = purchase\n",
      "2 = plant\n",
      "3 = Storage\n"
     ]
    }
   ],
   "source": [
    "for i, key_word in enumerate(LIST_KEYS_WORD):\n",
    "    print(i, '=', key_word)"
   ]
  },
  {
   "cell_type": "code",
   "execution_count": null,
   "metadata": {},
   "outputs": [],
   "source": []
  },
  {
   "cell_type": "code",
   "execution_count": null,
   "metadata": {},
   "outputs": [],
   "source": []
  },
  {
   "cell_type": "code",
   "execution_count": 96,
   "metadata": {},
   "outputs": [
    {
     "name": "stdout",
     "output_type": "stream",
     "text": [
      "20,816 likes\n",
      "danielarsham\n",
      "Verified\n",
      "I got a new Art Storage Space.\n",
      "6h\n",
      "queenb\n",
      "Verified\n",
      "perfect\n",
      "5h4 likesReply\n",
      "brett_david\n",
      "Verified\n",
      "🔥\n",
      "4h3 likesReply\n",
      "architectanddesign\n",
      "Verified\n",
      "Perfect colours!!! 😍😍\n",
      "1h1 likeReply\n",
      "kamsinghnota\n",
      "The colour on the GT2 🔥🔥🔥\n",
      "6h15 likesReply\n",
      "mrk.rcnl\n",
      "GT2 color is amazing\n",
      "5h6 likesReply\n",
      "View replies (1)\n",
      "greganagnost\n",
      "GT2.....\n",
      "6h4 likesReply\n",
      "woke_kohl\n",
      "I only hope my future garage could look like this 😱\n",
      "6h2 likesReply\n",
      "View replies (1)\n",
      "arixant\n",
      "what color is that on the 996????\n",
      "6h2 likesReply\n",
      "View replies (2)\n",
      "mercedesolondriz\n",
      "🔥🔥🔥\n",
      "6h1 likeReply\n",
      "View replies (1)\n",
      "dj_g_blaster\n",
      "🔥🔥🔥🔥🔥\n",
      "6h1 likeReply\n",
      "View replies (1)\n",
      "kadenhisgen\n",
      "What dreams look like\n",
      "6h1 likeReply\n",
      "View replies (1)\n",
      "philllllthy\n",
      "toys 😍\n",
      "5h2 likesReply\n",
      "6 HOURS AGO\n",
      "Post\n"
     ]
    }
   ],
   "source": [
    "for post in posts:\n",
    "    print(post.text)"
   ]
  },
  {
   "cell_type": "code",
   "execution_count": null,
   "metadata": {},
   "outputs": [],
   "source": []
  },
  {
   "cell_type": "code",
   "execution_count": null,
   "metadata": {},
   "outputs": [],
   "source": []
  },
  {
   "cell_type": "code",
   "execution_count": null,
   "metadata": {},
   "outputs": [],
   "source": []
  },
  {
   "cell_type": "code",
   "execution_count": null,
   "metadata": {},
   "outputs": [],
   "source": []
  },
  {
   "cell_type": "code",
   "execution_count": null,
   "metadata": {},
   "outputs": [],
   "source": []
  },
  {
   "cell_type": "code",
   "execution_count": null,
   "metadata": {},
   "outputs": [],
   "source": []
  },
  {
   "cell_type": "code",
   "execution_count": null,
   "metadata": {},
   "outputs": [],
   "source": []
  },
  {
   "cell_type": "code",
   "execution_count": 88,
   "metadata": {},
   "outputs": [
    {
     "data": {
      "text/plain": [
       "True"
      ]
     },
     "execution_count": 88,
     "metadata": {},
     "output_type": "execute_result"
    }
   ],
   "source": [
    "((df['Key Word'] == 'plant') & (df['URL'] == 'https://www.instagram.com/p/CPZQ_6IgWWZ/')).any()"
   ]
  },
  {
   "cell_type": "code",
   "execution_count": null,
   "metadata": {},
   "outputs": [],
   "source": []
  },
  {
   "cell_type": "code",
   "execution_count": null,
   "metadata": {},
   "outputs": [],
   "source": []
  },
  {
   "cell_type": "code",
   "execution_count": null,
   "metadata": {},
   "outputs": [],
   "source": []
  },
  {
   "cell_type": "code",
   "execution_count": null,
   "metadata": {},
   "outputs": [],
   "source": []
  },
  {
   "cell_type": "code",
   "execution_count": 83,
   "metadata": {},
   "outputs": [
    {
     "data": {
      "text/plain": [
       "False"
      ]
     },
     "execution_count": 83,
     "metadata": {},
     "output_type": "execute_result"
    }
   ],
   "source": []
  },
  {
   "cell_type": "code",
   "execution_count": null,
   "metadata": {},
   "outputs": [],
   "source": []
  },
  {
   "cell_type": "code",
   "execution_count": null,
   "metadata": {},
   "outputs": [],
   "source": []
  },
  {
   "cell_type": "code",
   "execution_count": null,
   "metadata": {},
   "outputs": [],
   "source": []
  },
  {
   "cell_type": "code",
   "execution_count": null,
   "metadata": {},
   "outputs": [],
   "source": []
  },
  {
   "cell_type": "code",
   "execution_count": null,
   "metadata": {},
   "outputs": [],
   "source": []
  },
  {
   "cell_type": "code",
   "execution_count": null,
   "metadata": {},
   "outputs": [],
   "source": []
  },
  {
   "cell_type": "code",
   "execution_count": null,
   "metadata": {},
   "outputs": [],
   "source": []
  },
  {
   "cell_type": "code",
   "execution_count": null,
   "metadata": {},
   "outputs": [],
   "source": []
  },
  {
   "cell_type": "code",
   "execution_count": null,
   "metadata": {},
   "outputs": [],
   "source": []
  },
  {
   "cell_type": "code",
   "execution_count": null,
   "metadata": {},
   "outputs": [],
   "source": []
  },
  {
   "cell_type": "code",
   "execution_count": null,
   "metadata": {},
   "outputs": [],
   "source": []
  },
  {
   "cell_type": "code",
   "execution_count": null,
   "metadata": {},
   "outputs": [],
   "source": []
  },
  {
   "cell_type": "code",
   "execution_count": 70,
   "metadata": {},
   "outputs": [
    {
     "data": {
      "text/html": [
       "<div>\n",
       "<style scoped>\n",
       "    .dataframe tbody tr th:only-of-type {\n",
       "        vertical-align: middle;\n",
       "    }\n",
       "\n",
       "    .dataframe tbody tr th {\n",
       "        vertical-align: top;\n",
       "    }\n",
       "\n",
       "    .dataframe thead th {\n",
       "        text-align: right;\n",
       "    }\n",
       "</style>\n",
       "<table border=\"1\" class=\"dataframe\">\n",
       "  <thead>\n",
       "    <tr style=\"text-align: right;\">\n",
       "      <th></th>\n",
       "      <th>Unnamed: 0</th>\n",
       "      <th>Key Word</th>\n",
       "      <th>URL</th>\n",
       "    </tr>\n",
       "  </thead>\n",
       "  <tbody>\n",
       "    <tr>\n",
       "      <th>0</th>\n",
       "      <td>2</td>\n",
       "      <td>plant</td>\n",
       "      <td>https://www.instagram.com/danielarsham/</td>\n",
       "    </tr>\n",
       "  </tbody>\n",
       "</table>\n",
       "</div>"
      ],
      "text/plain": [
       "   Unnamed: 0 Key Word                                      URL\n",
       "0           2    plant  https://www.instagram.com/danielarsham/"
      ]
     },
     "execution_count": 70,
     "metadata": {},
     "output_type": "execute_result"
    }
   ],
   "source": [
    "df"
   ]
  },
  {
   "cell_type": "code",
   "execution_count": null,
   "metadata": {},
   "outputs": [],
   "source": []
  },
  {
   "cell_type": "code",
   "execution_count": null,
   "metadata": {},
   "outputs": [],
   "source": []
  },
  {
   "cell_type": "code",
   "execution_count": null,
   "metadata": {},
   "outputs": [],
   "source": []
  },
  {
   "cell_type": "code",
   "execution_count": 67,
   "metadata": {},
   "outputs": [
    {
     "data": {
      "text/html": [
       "<div>\n",
       "<style scoped>\n",
       "    .dataframe tbody tr th:only-of-type {\n",
       "        vertical-align: middle;\n",
       "    }\n",
       "\n",
       "    .dataframe tbody tr th {\n",
       "        vertical-align: top;\n",
       "    }\n",
       "\n",
       "    .dataframe thead th {\n",
       "        text-align: right;\n",
       "    }\n",
       "</style>\n",
       "<table border=\"1\" class=\"dataframe\">\n",
       "  <thead>\n",
       "    <tr style=\"text-align: right;\">\n",
       "      <th></th>\n",
       "      <th>Key Word</th>\n",
       "      <th>URL</th>\n",
       "    </tr>\n",
       "  </thead>\n",
       "  <tbody>\n",
       "    <tr>\n",
       "      <th>2</th>\n",
       "      <td>plant</td>\n",
       "      <td>https://www.instagram.com/danielarsham/</td>\n",
       "    </tr>\n",
       "  </tbody>\n",
       "</table>\n",
       "</div>"
      ],
      "text/plain": [
       "  Key Word                                      URL\n",
       "2    plant  https://www.instagram.com/danielarsham/"
      ]
     },
     "execution_count": 67,
     "metadata": {},
     "output_type": "execute_result"
    }
   ],
   "source": [
    "df"
   ]
  },
  {
   "cell_type": "code",
   "execution_count": null,
   "metadata": {},
   "outputs": [],
   "source": []
  },
  {
   "cell_type": "code",
   "execution_count": null,
   "metadata": {},
   "outputs": [],
   "source": []
  },
  {
   "cell_type": "code",
   "execution_count": null,
   "metadata": {},
   "outputs": [],
   "source": []
  },
  {
   "cell_type": "code",
   "execution_count": null,
   "metadata": {},
   "outputs": [],
   "source": []
  },
  {
   "cell_type": "code",
   "execution_count": null,
   "metadata": {},
   "outputs": [],
   "source": []
  },
  {
   "cell_type": "code",
   "execution_count": null,
   "metadata": {},
   "outputs": [],
   "source": []
  },
  {
   "cell_type": "code",
   "execution_count": null,
   "metadata": {},
   "outputs": [],
   "source": []
  },
  {
   "cell_type": "code",
   "execution_count": null,
   "metadata": {},
   "outputs": [],
   "source": []
  },
  {
   "cell_type": "code",
   "execution_count": null,
   "metadata": {},
   "outputs": [],
   "source": []
  },
  {
   "cell_type": "code",
   "execution_count": null,
   "metadata": {},
   "outputs": [],
   "source": []
  },
  {
   "cell_type": "code",
   "execution_count": null,
   "metadata": {},
   "outputs": [],
   "source": []
  },
  {
   "cell_type": "code",
   "execution_count": 57,
   "metadata": {},
   "outputs": [],
   "source": [
    "LIST_KEYS_WORD = ['available', 'purchase', 'plant', 'Storage']\n",
    "df = pd.DataFrame()\n",
    "#Check if key_word in post\n",
    "for word in list_words:\n",
    "    for key_word in LIST_KEYS_WORD:\n",
    "        if key_word in word:\n",
    "            print(f'Key Word: {key_word} finding in {LIST_INSTAGRAM_ACCOUNT[0]}')\n",
    "            df = pd.DataFrame({'Key Word': key_word,\n",
    "                       'URL': LIST_INSTAGRAM_ACCOUNT[0], \n",
    "                       \n",
    "                      })\n",
    "            \n",
    "            #Sendin Alert\n",
    "            #sending_msg('Find:, 'Alert', 'mameri.ouafi@gmail.com')\n",
    "df.to_excel( 'List_instagramArnaud.xlsx', index = True)"
   ]
  },
  {
   "cell_type": "code",
   "execution_count": null,
   "metadata": {},
   "outputs": [],
   "source": []
  },
  {
   "cell_type": "code",
   "execution_count": null,
   "metadata": {},
   "outputs": [],
   "source": []
  },
  {
   "cell_type": "code",
   "execution_count": null,
   "metadata": {},
   "outputs": [],
   "source": []
  },
  {
   "cell_type": "code",
   "execution_count": null,
   "metadata": {},
   "outputs": [],
   "source": []
  },
  {
   "cell_type": "code",
   "execution_count": null,
   "metadata": {},
   "outputs": [],
   "source": []
  },
  {
   "cell_type": "code",
   "execution_count": null,
   "metadata": {},
   "outputs": [],
   "source": []
  },
  {
   "cell_type": "code",
   "execution_count": null,
   "metadata": {},
   "outputs": [],
   "source": []
  },
  {
   "cell_type": "code",
   "execution_count": null,
   "metadata": {},
   "outputs": [],
   "source": []
  },
  {
   "cell_type": "code",
   "execution_count": null,
   "metadata": {},
   "outputs": [],
   "source": []
  },
  {
   "cell_type": "code",
   "execution_count": null,
   "metadata": {},
   "outputs": [],
   "source": []
  },
  {
   "cell_type": "code",
   "execution_count": null,
   "metadata": {},
   "outputs": [],
   "source": []
  },
  {
   "cell_type": "code",
   "execution_count": null,
   "metadata": {},
   "outputs": [],
   "source": []
  },
  {
   "cell_type": "code",
   "execution_count": null,
   "metadata": {},
   "outputs": [],
   "source": []
  },
  {
   "cell_type": "code",
   "execution_count": null,
   "metadata": {},
   "outputs": [],
   "source": []
  },
  {
   "cell_type": "code",
   "execution_count": null,
   "metadata": {},
   "outputs": [],
   "source": []
  },
  {
   "cell_type": "code",
   "execution_count": null,
   "metadata": {},
   "outputs": [],
   "source": []
  },
  {
   "cell_type": "code",
   "execution_count": null,
   "metadata": {},
   "outputs": [],
   "source": []
  },
  {
   "cell_type": "code",
   "execution_count": null,
   "metadata": {},
   "outputs": [],
   "source": []
  },
  {
   "cell_type": "code",
   "execution_count": null,
   "metadata": {},
   "outputs": [],
   "source": []
  },
  {
   "cell_type": "code",
   "execution_count": null,
   "metadata": {},
   "outputs": [],
   "source": []
  },
  {
   "cell_type": "code",
   "execution_count": null,
   "metadata": {},
   "outputs": [],
   "source": []
  },
  {
   "cell_type": "code",
   "execution_count": null,
   "metadata": {},
   "outputs": [],
   "source": []
  },
  {
   "cell_type": "code",
   "execution_count": null,
   "metadata": {},
   "outputs": [],
   "source": []
  },
  {
   "cell_type": "code",
   "execution_count": null,
   "metadata": {},
   "outputs": [],
   "source": []
  },
  {
   "cell_type": "code",
   "execution_count": 21,
   "metadata": {},
   "outputs": [],
   "source": [
    "click = driver.find_elements_by_class_name('v1Nh3')[0]\n",
    "time.sleep\n",
    "click.click()"
   ]
  },
  {
   "cell_type": "code",
   "execution_count": 22,
   "metadata": {},
   "outputs": [
    {
     "ename": "ElementClickInterceptedException",
     "evalue": "Message: Element <svg class=\"_8-yf5 \"> is not clickable at point (631,105) because another element <div class=\"_2dDPU   CkGkG\"> obscures it\n",
     "output_type": "error",
     "traceback": [
      "\u001b[0;31m---------------------------------------------------------------------------\u001b[0m",
      "\u001b[0;31mElementClickInterceptedException\u001b[0m          Traceback (most recent call last)",
      "\u001b[0;32m<ipython-input-22-e416db978753>\u001b[0m in \u001b[0;36m<module>\u001b[0;34m\u001b[0m\n\u001b[1;32m      1\u001b[0m \u001b[0mclick\u001b[0m \u001b[0;34m=\u001b[0m \u001b[0mdriver\u001b[0m\u001b[0;34m.\u001b[0m\u001b[0mfind_element_by_class_name\u001b[0m\u001b[0;34m(\u001b[0m\u001b[0;34m'_8-yf5 '\u001b[0m\u001b[0;34m)\u001b[0m\u001b[0;34m\u001b[0m\u001b[0;34m\u001b[0m\u001b[0m\n\u001b[1;32m      2\u001b[0m \u001b[0mtime\u001b[0m\u001b[0;34m.\u001b[0m\u001b[0msleep\u001b[0m\u001b[0;34m(\u001b[0m\u001b[0;36m1\u001b[0m\u001b[0;34m)\u001b[0m\u001b[0;34m\u001b[0m\u001b[0;34m\u001b[0m\u001b[0m\n\u001b[0;32m----> 3\u001b[0;31m \u001b[0mclick\u001b[0m\u001b[0;34m.\u001b[0m\u001b[0mclick\u001b[0m\u001b[0;34m(\u001b[0m\u001b[0;34m)\u001b[0m\u001b[0;34m\u001b[0m\u001b[0;34m\u001b[0m\u001b[0m\n\u001b[0m",
      "\u001b[0;32m~/Downloads/yes/lib/python3.8/site-packages/selenium/webdriver/remote/webelement.py\u001b[0m in \u001b[0;36mclick\u001b[0;34m(self)\u001b[0m\n\u001b[1;32m     78\u001b[0m     \u001b[0;32mdef\u001b[0m \u001b[0mclick\u001b[0m\u001b[0;34m(\u001b[0m\u001b[0mself\u001b[0m\u001b[0;34m)\u001b[0m\u001b[0;34m:\u001b[0m\u001b[0;34m\u001b[0m\u001b[0;34m\u001b[0m\u001b[0m\n\u001b[1;32m     79\u001b[0m         \u001b[0;34m\"\"\"Clicks the element.\"\"\"\u001b[0m\u001b[0;34m\u001b[0m\u001b[0;34m\u001b[0m\u001b[0m\n\u001b[0;32m---> 80\u001b[0;31m         \u001b[0mself\u001b[0m\u001b[0;34m.\u001b[0m\u001b[0m_execute\u001b[0m\u001b[0;34m(\u001b[0m\u001b[0mCommand\u001b[0m\u001b[0;34m.\u001b[0m\u001b[0mCLICK_ELEMENT\u001b[0m\u001b[0;34m)\u001b[0m\u001b[0;34m\u001b[0m\u001b[0;34m\u001b[0m\u001b[0m\n\u001b[0m\u001b[1;32m     81\u001b[0m \u001b[0;34m\u001b[0m\u001b[0m\n\u001b[1;32m     82\u001b[0m     \u001b[0;32mdef\u001b[0m \u001b[0msubmit\u001b[0m\u001b[0;34m(\u001b[0m\u001b[0mself\u001b[0m\u001b[0;34m)\u001b[0m\u001b[0;34m:\u001b[0m\u001b[0;34m\u001b[0m\u001b[0;34m\u001b[0m\u001b[0m\n",
      "\u001b[0;32m~/Downloads/yes/lib/python3.8/site-packages/selenium/webdriver/remote/webelement.py\u001b[0m in \u001b[0;36m_execute\u001b[0;34m(self, command, params)\u001b[0m\n\u001b[1;32m    631\u001b[0m             \u001b[0mparams\u001b[0m \u001b[0;34m=\u001b[0m \u001b[0;34m{\u001b[0m\u001b[0;34m}\u001b[0m\u001b[0;34m\u001b[0m\u001b[0;34m\u001b[0m\u001b[0m\n\u001b[1;32m    632\u001b[0m         \u001b[0mparams\u001b[0m\u001b[0;34m[\u001b[0m\u001b[0;34m'id'\u001b[0m\u001b[0;34m]\u001b[0m \u001b[0;34m=\u001b[0m \u001b[0mself\u001b[0m\u001b[0;34m.\u001b[0m\u001b[0m_id\u001b[0m\u001b[0;34m\u001b[0m\u001b[0;34m\u001b[0m\u001b[0m\n\u001b[0;32m--> 633\u001b[0;31m         \u001b[0;32mreturn\u001b[0m \u001b[0mself\u001b[0m\u001b[0;34m.\u001b[0m\u001b[0m_parent\u001b[0m\u001b[0;34m.\u001b[0m\u001b[0mexecute\u001b[0m\u001b[0;34m(\u001b[0m\u001b[0mcommand\u001b[0m\u001b[0;34m,\u001b[0m \u001b[0mparams\u001b[0m\u001b[0;34m)\u001b[0m\u001b[0;34m\u001b[0m\u001b[0;34m\u001b[0m\u001b[0m\n\u001b[0m\u001b[1;32m    634\u001b[0m \u001b[0;34m\u001b[0m\u001b[0m\n\u001b[1;32m    635\u001b[0m     \u001b[0;32mdef\u001b[0m \u001b[0mfind_element\u001b[0m\u001b[0;34m(\u001b[0m\u001b[0mself\u001b[0m\u001b[0;34m,\u001b[0m \u001b[0mby\u001b[0m\u001b[0;34m=\u001b[0m\u001b[0mBy\u001b[0m\u001b[0;34m.\u001b[0m\u001b[0mID\u001b[0m\u001b[0;34m,\u001b[0m \u001b[0mvalue\u001b[0m\u001b[0;34m=\u001b[0m\u001b[0;32mNone\u001b[0m\u001b[0;34m)\u001b[0m\u001b[0;34m:\u001b[0m\u001b[0;34m\u001b[0m\u001b[0;34m\u001b[0m\u001b[0m\n",
      "\u001b[0;32m~/Downloads/yes/lib/python3.8/site-packages/selenium/webdriver/remote/webdriver.py\u001b[0m in \u001b[0;36mexecute\u001b[0;34m(self, driver_command, params)\u001b[0m\n\u001b[1;32m    319\u001b[0m         \u001b[0mresponse\u001b[0m \u001b[0;34m=\u001b[0m \u001b[0mself\u001b[0m\u001b[0;34m.\u001b[0m\u001b[0mcommand_executor\u001b[0m\u001b[0;34m.\u001b[0m\u001b[0mexecute\u001b[0m\u001b[0;34m(\u001b[0m\u001b[0mdriver_command\u001b[0m\u001b[0;34m,\u001b[0m \u001b[0mparams\u001b[0m\u001b[0;34m)\u001b[0m\u001b[0;34m\u001b[0m\u001b[0;34m\u001b[0m\u001b[0m\n\u001b[1;32m    320\u001b[0m         \u001b[0;32mif\u001b[0m \u001b[0mresponse\u001b[0m\u001b[0;34m:\u001b[0m\u001b[0;34m\u001b[0m\u001b[0;34m\u001b[0m\u001b[0m\n\u001b[0;32m--> 321\u001b[0;31m             \u001b[0mself\u001b[0m\u001b[0;34m.\u001b[0m\u001b[0merror_handler\u001b[0m\u001b[0;34m.\u001b[0m\u001b[0mcheck_response\u001b[0m\u001b[0;34m(\u001b[0m\u001b[0mresponse\u001b[0m\u001b[0;34m)\u001b[0m\u001b[0;34m\u001b[0m\u001b[0;34m\u001b[0m\u001b[0m\n\u001b[0m\u001b[1;32m    322\u001b[0m             response['value'] = self._unwrap_value(\n\u001b[1;32m    323\u001b[0m                 response.get('value', None))\n",
      "\u001b[0;32m~/Downloads/yes/lib/python3.8/site-packages/selenium/webdriver/remote/errorhandler.py\u001b[0m in \u001b[0;36mcheck_response\u001b[0;34m(self, response)\u001b[0m\n\u001b[1;32m    240\u001b[0m                 \u001b[0malert_text\u001b[0m \u001b[0;34m=\u001b[0m \u001b[0mvalue\u001b[0m\u001b[0;34m[\u001b[0m\u001b[0;34m'alert'\u001b[0m\u001b[0;34m]\u001b[0m\u001b[0;34m.\u001b[0m\u001b[0mget\u001b[0m\u001b[0;34m(\u001b[0m\u001b[0;34m'text'\u001b[0m\u001b[0;34m)\u001b[0m\u001b[0;34m\u001b[0m\u001b[0;34m\u001b[0m\u001b[0m\n\u001b[1;32m    241\u001b[0m             \u001b[0;32mraise\u001b[0m \u001b[0mexception_class\u001b[0m\u001b[0;34m(\u001b[0m\u001b[0mmessage\u001b[0m\u001b[0;34m,\u001b[0m \u001b[0mscreen\u001b[0m\u001b[0;34m,\u001b[0m \u001b[0mstacktrace\u001b[0m\u001b[0;34m,\u001b[0m \u001b[0malert_text\u001b[0m\u001b[0;34m)\u001b[0m\u001b[0;34m\u001b[0m\u001b[0;34m\u001b[0m\u001b[0m\n\u001b[0;32m--> 242\u001b[0;31m         \u001b[0;32mraise\u001b[0m \u001b[0mexception_class\u001b[0m\u001b[0;34m(\u001b[0m\u001b[0mmessage\u001b[0m\u001b[0;34m,\u001b[0m \u001b[0mscreen\u001b[0m\u001b[0;34m,\u001b[0m \u001b[0mstacktrace\u001b[0m\u001b[0;34m)\u001b[0m\u001b[0;34m\u001b[0m\u001b[0;34m\u001b[0m\u001b[0m\n\u001b[0m\u001b[1;32m    243\u001b[0m \u001b[0;34m\u001b[0m\u001b[0m\n\u001b[1;32m    244\u001b[0m     \u001b[0;32mdef\u001b[0m \u001b[0m_value_or_default\u001b[0m\u001b[0;34m(\u001b[0m\u001b[0mself\u001b[0m\u001b[0;34m,\u001b[0m \u001b[0mobj\u001b[0m\u001b[0;34m,\u001b[0m \u001b[0mkey\u001b[0m\u001b[0;34m,\u001b[0m \u001b[0mdefault\u001b[0m\u001b[0;34m)\u001b[0m\u001b[0;34m:\u001b[0m\u001b[0;34m\u001b[0m\u001b[0;34m\u001b[0m\u001b[0m\n",
      "\u001b[0;31mElementClickInterceptedException\u001b[0m: Message: Element <svg class=\"_8-yf5 \"> is not clickable at point (631,105) because another element <div class=\"_2dDPU   CkGkG\"> obscures it\n"
     ]
    }
   ],
   "source": [
    "click = driver.find_element_by_class_name('_8-yf5 ')\n",
    "time.sleep(1)\n",
    "click.click()"
   ]
  },
  {
   "cell_type": "code",
   "execution_count": null,
   "metadata": {},
   "outputs": [],
   "source": []
  },
  {
   "cell_type": "code",
   "execution_count": null,
   "metadata": {},
   "outputs": [],
   "source": []
  },
  {
   "cell_type": "code",
   "execution_count": null,
   "metadata": {},
   "outputs": [],
   "source": []
  },
  {
   "cell_type": "code",
   "execution_count": null,
   "metadata": {},
   "outputs": [],
   "source": []
  },
  {
   "cell_type": "code",
   "execution_count": null,
   "metadata": {},
   "outputs": [],
   "source": []
  },
  {
   "cell_type": "code",
   "execution_count": null,
   "metadata": {},
   "outputs": [],
   "source": []
  },
  {
   "cell_type": "code",
   "execution_count": null,
   "metadata": {},
   "outputs": [],
   "source": []
  },
  {
   "cell_type": "code",
   "execution_count": 12,
   "metadata": {},
   "outputs": [
    {
     "data": {
      "text/plain": [
       "'Photo by ARSHAM STUDIO 3021 on May 28, 2021. May be an image of car.'"
      ]
     },
     "execution_count": 12,
     "metadata": {},
     "output_type": "execute_result"
    }
   ],
   "source": []
  },
  {
   "cell_type": "code",
   "execution_count": null,
   "metadata": {},
   "outputs": [],
   "source": []
  },
  {
   "cell_type": "code",
   "execution_count": null,
   "metadata": {},
   "outputs": [],
   "source": []
  },
  {
   "cell_type": "code",
   "execution_count": null,
   "metadata": {},
   "outputs": [],
   "source": []
  },
  {
   "cell_type": "code",
   "execution_count": null,
   "metadata": {},
   "outputs": [],
   "source": []
  },
  {
   "cell_type": "code",
   "execution_count": null,
   "metadata": {},
   "outputs": [],
   "source": []
  },
  {
   "cell_type": "code",
   "execution_count": 58,
   "metadata": {},
   "outputs": [],
   "source": [
    "#Fonction sending message\n",
    "def sending_msg(body, subject, receiver):\n",
    "    import smtplib\n",
    "    from email.mime.text import MIMEText\n",
    "\n",
    "    sender = 'mameri.wafi@gmail.com'\n",
    "    receivers = [receiver]\n",
    "    body_of_email = 'The body of the email'\n",
    "    #msg = MIMEText(body_of_email, 'plain')\n",
    "    html_body_of_email = f'<h1>{body}</h1>'\n",
    "    msg = MIMEText(html_body_of_email, 'html')\n",
    "    msg['Subject'] = subject\n",
    "    msg['From'] = sender\n",
    "    msg['To'] = ','.join(receivers)\n",
    "\n",
    "    s = smtplib.SMTP_SSL(host = 'smtp.gmail.com', port = 465)\n",
    "    s.login(user = 'mameri.wafi@gmail.com', password = 'ahrjqyhvlyhlkdib')\n",
    "    s.sendmail(sender, receivers, msg.as_string())\n",
    "    print(f'Sending to {receivers}')\n",
    "    s.quit()"
   ]
  },
  {
   "cell_type": "code",
   "execution_count": null,
   "metadata": {},
   "outputs": [],
   "source": []
  },
  {
   "cell_type": "code",
   "execution_count": 50,
   "metadata": {},
   "outputs": [
    {
     "name": "stdout",
     "output_type": "stream",
     "text": [
      "Sending to ['mameri.ouafi@gmail.com']\n"
     ]
    }
   ],
   "source": [
    "sending_msg('Salut', 'Alert', 'mameri.ouafi@gmail.com')"
   ]
  },
  {
   "cell_type": "code",
   "execution_count": null,
   "metadata": {},
   "outputs": [],
   "source": []
  },
  {
   "cell_type": "code",
   "execution_count": null,
   "metadata": {},
   "outputs": [],
   "source": []
  },
  {
   "cell_type": "code",
   "execution_count": null,
   "metadata": {},
   "outputs": [],
   "source": []
  },
  {
   "cell_type": "code",
   "execution_count": null,
   "metadata": {},
   "outputs": [],
   "source": []
  },
  {
   "cell_type": "code",
   "execution_count": null,
   "metadata": {},
   "outputs": [],
   "source": []
  },
  {
   "cell_type": "code",
   "execution_count": null,
   "metadata": {},
   "outputs": [],
   "source": []
  },
  {
   "cell_type": "code",
   "execution_count": 59,
   "metadata": {},
   "outputs": [
    {
     "name": "stdout",
     "output_type": "stream",
     "text": [
      "['5,138,386 likes\\ncristiano\\nVerified\\nFINO ALLA FINE 🏳️🏴💪🏽\\n1w\\neduaguirre7\\nVerified\\nUno maaaaassss🔥🔥🔥\\n1w4,166 likesReply\\nView replies (182)\\ndrmiguelstanley\\nVerified\\nEspetáculo 🙌\\n1w2,869 likesReply\\nView replies (63)\\nmiguelpaixao7\\nVerified\\nVaaamoossss 💪🏽👊🏽\\n1w1,588 likesReply\\nView replies (102)\\nrichkidslondon\\nVerified\\nYou are greatest of all time\\n1w1,525 likesReply\\nView replies (68)\\nthegoodlifeinc\\nVerified\\n👏👏👏🔥🔥🔥\\n1w1,068 likesReply\\nView replies (46)\\nandrewhenderson\\nVerified\\n🙌🙌🙌 savage\\n1w938 likesReply\\nView replies (30)\\nrichkidslondon\\nVerified\\n🔥🔥\\n1w939 likesReply\\nView replies (36)\\nhoussemdhahri10\\n🇵🇸🇵🇸🇵🇸\\n1w763 likesReply\\nView replies (7)\\nbac_with_zaide\\n🇵🇸 فلسطين شهداء\\n1w612 likesReply\\nView replies (17)\\nonlygoat7\\nاعشقك يابوجونير\\n1w302 likesReply\\nView replies (7)\\nonlygoat7\\nالقوت الحقيقي اقسم بالله\\n1w303 likesReply\\nView replies (4)\\nmahmod_alhariri\\n#🇵🇸\\n1w635 likesReply\\nView replies (5)\\nMAY 15\\nPost']\n"
     ]
    }
   ],
   "source": [
    "list_words = []\n",
    "posts = driver.find_elements_by_class_name('eo2As')\n",
    "for post in posts:\n",
    "    list_words.append(post.text)\n",
    "print(list_words)"
   ]
  },
  {
   "cell_type": "code",
   "execution_count": null,
   "metadata": {},
   "outputs": [],
   "source": []
  },
  {
   "cell_type": "code",
   "execution_count": null,
   "metadata": {},
   "outputs": [],
   "source": []
  },
  {
   "cell_type": "code",
   "execution_count": null,
   "metadata": {},
   "outputs": [],
   "source": []
  },
  {
   "cell_type": "code",
   "execution_count": null,
   "metadata": {},
   "outputs": [],
   "source": []
  },
  {
   "cell_type": "code",
   "execution_count": null,
   "metadata": {},
   "outputs": [],
   "source": []
  },
  {
   "cell_type": "code",
   "execution_count": 60,
   "metadata": {},
   "outputs": [
    {
     "name": "stdout",
     "output_type": "stream",
     "text": [
      "ok\n",
      "Sending to ['mameri.ouafi@gmail.com']\n"
     ]
    }
   ],
   "source": [
    " for word in list_words:   \n",
    "    if 'فلسطين شهداء' in word:\n",
    "        print('ok')\n",
    "        sending_msg('Find:فلسطين شهداء', 'Alert', 'mameri.ouafi@gmail.com')\n",
    "    else:\n",
    "        print('non')"
   ]
  },
  {
   "cell_type": "code",
   "execution_count": null,
   "metadata": {},
   "outputs": [],
   "source": []
  },
  {
   "cell_type": "code",
   "execution_count": null,
   "metadata": {},
   "outputs": [],
   "source": []
  },
  {
   "cell_type": "code",
   "execution_count": 106,
   "metadata": {},
   "outputs": [],
   "source": [
    "driver.find_element_by_tag_name('body').send_keys(Keys.CONTROL + 't')\n",
    "driver.get('https://www.instagram.com/cristiano/')\n"
   ]
  },
  {
   "cell_type": "code",
   "execution_count": 109,
   "metadata": {},
   "outputs": [],
   "source": [
    "#open NEW TAB.\n",
    "driver.execute_script('''window.open(\"https://www.instagram.com/cristiano/\",\"_blank\");''')"
   ]
  },
  {
   "cell_type": "code",
   "execution_count": null,
   "metadata": {},
   "outputs": [],
   "source": []
  },
  {
   "cell_type": "code",
   "execution_count": null,
   "metadata": {},
   "outputs": [],
   "source": []
  },
  {
   "cell_type": "code",
   "execution_count": null,
   "metadata": {},
   "outputs": [],
   "source": []
  },
  {
   "cell_type": "code",
   "execution_count": null,
   "metadata": {},
   "outputs": [],
   "source": []
  },
  {
   "cell_type": "code",
   "execution_count": null,
   "metadata": {},
   "outputs": [],
   "source": []
  },
  {
   "cell_type": "code",
   "execution_count": null,
   "metadata": {},
   "outputs": [],
   "source": []
  },
  {
   "cell_type": "code",
   "execution_count": null,
   "metadata": {},
   "outputs": [],
   "source": []
  },
  {
   "cell_type": "code",
   "execution_count": null,
   "metadata": {},
   "outputs": [],
   "source": []
  },
  {
   "cell_type": "code",
   "execution_count": null,
   "metadata": {},
   "outputs": [],
   "source": []
  },
  {
   "cell_type": "code",
   "execution_count": null,
   "metadata": {},
   "outputs": [],
   "source": []
  },
  {
   "cell_type": "code",
   "execution_count": null,
   "metadata": {},
   "outputs": [],
   "source": []
  },
  {
   "cell_type": "code",
   "execution_count": null,
   "metadata": {},
   "outputs": [],
   "source": []
  },
  {
   "cell_type": "code",
   "execution_count": null,
   "metadata": {},
   "outputs": [],
   "source": []
  },
  {
   "cell_type": "code",
   "execution_count": null,
   "metadata": {},
   "outputs": [],
   "source": []
  },
  {
   "cell_type": "code",
   "execution_count": null,
   "metadata": {},
   "outputs": [],
   "source": []
  },
  {
   "cell_type": "code",
   "execution_count": null,
   "metadata": {},
   "outputs": [],
   "source": []
  },
  {
   "cell_type": "code",
   "execution_count": null,
   "metadata": {},
   "outputs": [],
   "source": []
  },
  {
   "cell_type": "code",
   "execution_count": null,
   "metadata": {},
   "outputs": [],
   "source": []
  },
  {
   "cell_type": "code",
   "execution_count": null,
   "metadata": {},
   "outputs": [],
   "source": []
  },
  {
   "cell_type": "code",
   "execution_count": null,
   "metadata": {},
   "outputs": [],
   "source": []
  },
  {
   "cell_type": "code",
   "execution_count": null,
   "metadata": {},
   "outputs": [],
   "source": []
  },
  {
   "cell_type": "code",
   "execution_count": null,
   "metadata": {},
   "outputs": [],
   "source": []
  },
  {
   "cell_type": "code",
   "execution_count": null,
   "metadata": {},
   "outputs": [],
   "source": []
  },
  {
   "cell_type": "code",
   "execution_count": null,
   "metadata": {},
   "outputs": [],
   "source": []
  },
  {
   "cell_type": "code",
   "execution_count": null,
   "metadata": {},
   "outputs": [],
   "source": []
  },
  {
   "cell_type": "code",
   "execution_count": null,
   "metadata": {},
   "outputs": [],
   "source": []
  },
  {
   "cell_type": "code",
   "execution_count": null,
   "metadata": {},
   "outputs": [],
   "source": []
  },
  {
   "cell_type": "code",
   "execution_count": null,
   "metadata": {},
   "outputs": [],
   "source": []
  },
  {
   "cell_type": "code",
   "execution_count": null,
   "metadata": {},
   "outputs": [],
   "source": []
  },
  {
   "cell_type": "code",
   "execution_count": null,
   "metadata": {},
   "outputs": [],
   "source": []
  },
  {
   "cell_type": "code",
   "execution_count": null,
   "metadata": {},
   "outputs": [],
   "source": []
  },
  {
   "cell_type": "code",
   "execution_count": null,
   "metadata": {},
   "outputs": [],
   "source": []
  },
  {
   "cell_type": "code",
   "execution_count": null,
   "metadata": {},
   "outputs": [],
   "source": []
  },
  {
   "cell_type": "code",
   "execution_count": null,
   "metadata": {},
   "outputs": [],
   "source": []
  },
  {
   "cell_type": "code",
   "execution_count": null,
   "metadata": {},
   "outputs": [],
   "source": []
  },
  {
   "cell_type": "code",
   "execution_count": null,
   "metadata": {},
   "outputs": [],
   "source": []
  },
  {
   "cell_type": "code",
   "execution_count": null,
   "metadata": {},
   "outputs": [],
   "source": []
  },
  {
   "cell_type": "code",
   "execution_count": null,
   "metadata": {},
   "outputs": [],
   "source": []
  },
  {
   "cell_type": "code",
   "execution_count": 43,
   "metadata": {},
   "outputs": [
    {
     "name": "stdout",
     "output_type": "stream",
     "text": [
      "<div class=\"v1Nh3 kIKUG  _bz0w\"><a href=\"/p/CPRNPVjpvW3/\" tabindex=\"0\"><div class=\"eLAPa\"><div class=\"KL4Bh\"><img alt=\"Photo shared by Cristiano Ronaldo on May 24, 2021 tagging @juventus. May be an image of 1 person.\" class=\"FFVAD\" crossorigin=\"anonymous\" decoding=\"auto\" style=\"object-fit: cover;\" sizes=\"293px\" srcset=\"https://instagram.falg7-2.fna.fbcdn.net/v/t51.2885-15/e35/c0.180.1440.1440a/s150x150/190585676_318714452999306_3044538251791946310_n.jpg?tp=1&amp;_nc_ht=instagram.falg7-2.fna.fbcdn.net&amp;_nc_cat=1&amp;_nc_ohc=gISqK8YjeAQAX9g1_l6&amp;edm=ABfd0MgBAAAA&amp;ccb=7-4&amp;oh=382bceaf530285cf8dd43077fbe7c13d&amp;oe=60B3B28C&amp;_nc_sid=7bff83 150w,https://instagram.falg7-2.fna.fbcdn.net/v/t51.2885-15/e35/c0.180.1440.1440a/s240x240/190585676_318714452999306_3044538251791946310_n.jpg?tp=1&amp;_nc_ht=instagram.falg7-2.fna.fbcdn.net&amp;_nc_cat=1&amp;_nc_ohc=gISqK8YjeAQAX9g1_l6&amp;edm=ABfd0MgBAAAA&amp;ccb=7-4&amp;oh=cf956b9b81fee34276f54876ced8b118&amp;oe=60B27B8E&amp;_nc_sid=7bff83 240w,https://instagram.falg7-2.fna.fbcdn.net/v/t51.2885-15/e35/c0.180.1440.1440a/s320x320/190585676_318714452999306_3044538251791946310_n.jpg?tp=1&amp;_nc_ht=instagram.falg7-2.fna.fbcdn.net&amp;_nc_cat=1&amp;_nc_ohc=gISqK8YjeAQAX9g1_l6&amp;edm=ABfd0MgBAAAA&amp;ccb=7-4&amp;oh=03201804215ebc7555ceee0e40455422&amp;oe=60B2C074&amp;_nc_sid=7bff83 320w,https://instagram.falg7-2.fna.fbcdn.net/v/t51.2885-15/e35/c0.180.1440.1440a/s480x480/190585676_318714452999306_3044538251791946310_n.jpg?tp=1&amp;_nc_ht=instagram.falg7-2.fna.fbcdn.net&amp;_nc_cat=1&amp;_nc_ohc=gISqK8YjeAQAX9g1_l6&amp;edm=ABfd0MgBAAAA&amp;ccb=7-4&amp;oh=907f09cbe707ad4b8ef34da12e39ab34&amp;oe=60B32D35&amp;_nc_sid=7bff83 480w,https://instagram.falg7-2.fna.fbcdn.net/v/t51.2885-15/sh0.08/e35/c0.180.1440.1440a/s640x640/190585676_318714452999306_3044538251791946310_n.jpg?tp=1&amp;_nc_ht=instagram.falg7-2.fna.fbcdn.net&amp;_nc_cat=1&amp;_nc_ohc=gISqK8YjeAQAX9g1_l6&amp;edm=ABfd0MgBAAAA&amp;ccb=7-4&amp;oh=c43d8d151fa9fd7e33ff3372e77d5343&amp;oe=60B3E43C&amp;_nc_sid=7bff83 640w\" src=\"https://instagram.falg7-2.fna.fbcdn.net/v/t51.2885-15/sh0.08/e35/c0.180.1440.1440a/s640x640/190585676_318714452999306_3044538251791946310_n.jpg?tp=1&amp;_nc_ht=instagram.falg7-2.fna.fbcdn.net&amp;_nc_cat=1&amp;_nc_ohc=gISqK8YjeAQAX9g1_l6&amp;edm=ABfd0MgBAAAA&amp;ccb=7-4&amp;oh=c43d8d151fa9fd7e33ff3372e77d5343&amp;oe=60B3E43C&amp;_nc_sid=7bff83\"></div><div class=\"_9AhH0\"></div></div><div class=\"u7YqG\"><div class=\"                     Igw0E     IwRSH      eGOV_         _4EzTm    bkEs3                  soMvl                  JI_ht                  DhRcB                                                    \"><svg aria-label=\"Carousel\" class=\"_8-yf5 \" fill=\"#ffffff\" height=\"22\" viewBox=\"0 0 48 48\" width=\"22\"><path d=\"M34.8 29.7V11c0-2.9-2.3-5.2-5.2-5.2H11c-2.9 0-5.2 2.3-5.2 5.2v18.7c0 2.9 2.3 5.2 5.2 5.2h18.7c2.8-.1 5.1-2.4 5.1-5.2zM39.2 15v16.1c0 4.5-3.7 8.2-8.2 8.2H14.9c-.6 0-.9.7-.5 1.1 1 1.1 2.4 1.8 4.1 1.8h13.4c5.7 0 10.3-4.6 10.3-10.3V18.5c0-1.6-.7-3.1-1.8-4.1-.5-.4-1.2 0-1.2.6z\"></path></svg></div></div></a></div><div class=\"v1Nh3 kIKUG  _bz0w\"><a href=\"/p/CPOvENpg-p0/\" tabindex=\"0\"><div class=\"eLAPa\"><div class=\"KL4Bh\"><img alt=\"Photo by Cristiano Ronaldo on May 23, 2021. May be a black-and-white image of 1 person.\" class=\"FFVAD\" crossorigin=\"anonymous\" decoding=\"auto\" style=\"object-fit: cover;\" sizes=\"293px\" srcset=\"https://instagram.falg7-2.fna.fbcdn.net/v/t51.2885-15/e35/c0.179.1440.1440a/s150x150/189750581_230568861761727_6372619783953552304_n.jpg?tp=1&amp;_nc_ht=instagram.falg7-2.fna.fbcdn.net&amp;_nc_cat=1&amp;_nc_ohc=KYrbQs4QDxMAX8KO50N&amp;edm=ABfd0MgBAAAA&amp;ccb=7-4&amp;oh=4fa65c7d477f4ed5c507985cac8da9c7&amp;oe=60B28351&amp;_nc_sid=7bff83 150w,https://instagram.falg7-2.fna.fbcdn.net/v/t51.2885-15/e35/c0.179.1440.1440a/s240x240/189750581_230568861761727_6372619783953552304_n.jpg?tp=1&amp;_nc_ht=instagram.falg7-2.fna.fbcdn.net&amp;_nc_cat=1&amp;_nc_ohc=KYrbQs4QDxMAX8KO50N&amp;edm=ABfd0MgBAAAA&amp;ccb=7-4&amp;oh=31836a8effba5abc048277ba7acc9110&amp;oe=60B2C057&amp;_nc_sid=7bff83 240w,https://instagram.falg7-2.fna.fbcdn.net/v/t51.2885-15/e35/c0.179.1440.1440a/s320x320/189750581_230568861761727_6372619783953552304_n.jpg?tp=1&amp;_nc_ht=instagram.falg7-2.fna.fbcdn.net&amp;_nc_cat=1&amp;_nc_ohc=KYrbQs4QDxMAX8KO50N&amp;edm=ABfd0MgBAAAA&amp;ccb=7-4&amp;oh=8a5e2c5b4f474896bf2fa68fd4665e91&amp;oe=60B3EE69&amp;_nc_sid=7bff83 320w,https://instagram.falg7-2.fna.fbcdn.net/v/t51.2885-15/e35/c0.179.1440.1440a/s480x480/189750581_230568861761727_6372619783953552304_n.jpg?tp=1&amp;_nc_ht=instagram.falg7-2.fna.fbcdn.net&amp;_nc_cat=1&amp;_nc_ohc=KYrbQs4QDxMAX8KO50N&amp;edm=ABfd0MgBAAAA&amp;ccb=7-4&amp;oh=a8628d3ab304e2d2e529d170a0904b41&amp;oe=60B33B70&amp;_nc_sid=7bff83 480w,https://instagram.falg7-2.fna.fbcdn.net/v/t51.2885-15/sh0.08/e35/c0.179.1440.1440a/s640x640/189750581_230568861761727_6372619783953552304_n.jpg?tp=1&amp;_nc_ht=instagram.falg7-2.fna.fbcdn.net&amp;_nc_cat=1&amp;_nc_ohc=KYrbQs4QDxMAX8KO50N&amp;edm=ABfd0MgBAAAA&amp;ccb=7-4&amp;oh=7edc45742b73505e66dee80d04137a36&amp;oe=60B28CE1&amp;_nc_sid=7bff83 640w\" src=\"https://instagram.falg7-2.fna.fbcdn.net/v/t51.2885-15/sh0.08/e35/c0.179.1440.1440a/s640x640/189750581_230568861761727_6372619783953552304_n.jpg?tp=1&amp;_nc_ht=instagram.falg7-2.fna.fbcdn.net&amp;_nc_cat=1&amp;_nc_ohc=KYrbQs4QDxMAX8KO50N&amp;edm=ABfd0MgBAAAA&amp;ccb=7-4&amp;oh=7edc45742b73505e66dee80d04137a36&amp;oe=60B28CE1&amp;_nc_sid=7bff83\"></div><div class=\"_9AhH0\"></div></div><div class=\"u7YqG\"><div class=\"                     Igw0E     IwRSH      eGOV_         _4EzTm    bkEs3                  soMvl                  JI_ht                  DhRcB                                                    \"><svg aria-label=\"Carousel\" class=\"_8-yf5 \" fill=\"#ffffff\" height=\"22\" viewBox=\"0 0 48 48\" width=\"22\"><path d=\"M34.8 29.7V11c0-2.9-2.3-5.2-5.2-5.2H11c-2.9 0-5.2 2.3-5.2 5.2v18.7c0 2.9 2.3 5.2 5.2 5.2h18.7c2.8-.1 5.1-2.4 5.1-5.2zM39.2 15v16.1c0 4.5-3.7 8.2-8.2 8.2H14.9c-.6 0-.9.7-.5 1.1 1 1.1 2.4 1.8 4.1 1.8h13.4c5.7 0 10.3-4.6 10.3-10.3V18.5c0-1.6-.7-3.1-1.8-4.1-.5-.4-1.2 0-1.2.6z\"></path></svg></div></div></a></div><div class=\"v1Nh3 kIKUG  _bz0w\"><a href=\"/p/CPJIJ4SroFc/\" tabindex=\"0\"><div class=\"eLAPa\"><div class=\"KL4Bh\"><img alt=\"How to choose the perfect pair? Simple as that: CR7 Eyewear New Collection is the answer. \n",
      "\n",
      "#CR7EYEWEAR\" class=\"FFVAD\" crossorigin=\"anonymous\" decoding=\"auto\" style=\"object-fit: cover;\" sizes=\"293px\" srcset=\"https://instagram.falg7-2.fna.fbcdn.net/v/t51.2885-15/e15/s150x150/189211441_542966746693863_4396219858847137956_n.jpg?tp=1&amp;_nc_ht=instagram.falg7-2.fna.fbcdn.net&amp;_nc_cat=1&amp;_nc_ohc=B32Jl-om8mkAX_6WnYm&amp;edm=ABfd0MgBAAAA&amp;ccb=7-4&amp;oh=e94c9265c0c7ba1a73f3a92961847ef7&amp;oe=60AE7528&amp;_nc_sid=7bff83 150w,https://instagram.falg7-2.fna.fbcdn.net/v/t51.2885-15/e15/s240x240/189211441_542966746693863_4396219858847137956_n.jpg?tp=1&amp;_nc_ht=instagram.falg7-2.fna.fbcdn.net&amp;_nc_cat=1&amp;_nc_ohc=B32Jl-om8mkAX_6WnYm&amp;edm=ABfd0MgBAAAA&amp;ccb=7-4&amp;oh=5c9bd56aae7546c0218518ace7b56dc3&amp;oe=60AE6822&amp;_nc_sid=7bff83 240w,https://instagram.falg7-2.fna.fbcdn.net/v/t51.2885-15/e15/s320x320/189211441_542966746693863_4396219858847137956_n.jpg?tp=1&amp;_nc_ht=instagram.falg7-2.fna.fbcdn.net&amp;_nc_cat=1&amp;_nc_ohc=B32Jl-om8mkAX_6WnYm&amp;edm=ABfd0MgBAAAA&amp;ccb=7-4&amp;oh=91ab8a0fe4712a51fac98375a9af0662&amp;oe=60AE5E20&amp;_nc_sid=7bff83 320w,https://instagram.falg7-2.fna.fbcdn.net/v/t51.2885-15/e15/s480x480/189211441_542966746693863_4396219858847137956_n.jpg?tp=1&amp;_nc_ht=instagram.falg7-2.fna.fbcdn.net&amp;_nc_cat=1&amp;_nc_ohc=B32Jl-om8mkAX_6WnYm&amp;edm=ABfd0MgBAAAA&amp;ccb=7-4&amp;oh=ece46ac43ae8d2e83f9a78405553b191&amp;oe=60AE36D9&amp;_nc_sid=7bff83 480w,https://instagram.falg7-2.fna.fbcdn.net/v/t51.2885-15/sh0.08/e35/s640x640/189211441_542966746693863_4396219858847137956_n.jpg?tp=1&amp;_nc_ht=instagram.falg7-2.fna.fbcdn.net&amp;_nc_cat=1&amp;_nc_ohc=B32Jl-om8mkAX_6WnYm&amp;edm=ABfd0MgBAAAA&amp;ccb=7-4&amp;oh=6e7ad0ecc43c6d9332e117e4cadc06e8&amp;oe=60AEBF5B&amp;_nc_sid=7bff83 640w\" src=\"https://instagram.falg7-2.fna.fbcdn.net/v/t51.2885-15/sh0.08/e35/s640x640/189211441_542966746693863_4396219858847137956_n.jpg?tp=1&amp;_nc_ht=instagram.falg7-2.fna.fbcdn.net&amp;_nc_cat=1&amp;_nc_ohc=B32Jl-om8mkAX_6WnYm&amp;edm=ABfd0MgBAAAA&amp;ccb=7-4&amp;oh=6e7ad0ecc43c6d9332e117e4cadc06e8&amp;oe=60AEBF5B&amp;_nc_sid=7bff83\"></div><div class=\"_9AhH0\"></div></div><div class=\"u7YqG\"><div class=\"                     Igw0E     IwRSH      eGOV_         _4EzTm    bkEs3                  soMvl                  JI_ht                  DhRcB                                                    \"><svg aria-label=\"Video\" class=\"_8-yf5 \" fill=\"#ffffff\" height=\"18\" viewBox=\"0 0 48 48\" width=\"18\"><path d=\"M9.6 46.5c-1 0-2-.3-2.9-.8-1.8-1.1-2.9-2.9-2.9-5.1V7.3c0-2.1 1.1-4 2.9-5.1 1.9-1.1 4.1-1.1 5.9 0l30.1 17.6c1.5.9 2.3 2.4 2.3 4.1 0 1.7-.9 3.2-2.3 4.1L12.6 45.7c-.9.5-2 .8-3 .8z\"></path></svg></div></div></a></div>\n",
      "<div class=\"v1Nh3 kIKUG  _bz0w\"><a href=\"/p/CPG4zbrg6Wh/\" tabindex=\"0\"><div class=\"eLAPa\"><div class=\"KL4Bh\"><img alt=\"Photo shared by Cristiano Ronaldo on May 20, 2021 tagging @juventus. May be an image of 1 person and standing.\" class=\"FFVAD\" crossorigin=\"anonymous\" decoding=\"auto\" style=\"object-fit: cover;\" sizes=\"293px\" srcset=\"https://instagram.falg7-2.fna.fbcdn.net/v/t51.2885-15/e35/s150x150/189133832_585342232380119_2222051965796759189_n.jpg?tp=1&amp;_nc_ht=instagram.falg7-2.fna.fbcdn.net&amp;_nc_cat=1&amp;_nc_ohc=FYFG8u9csxYAX-FJL3S&amp;edm=ABfd0MgBAAAA&amp;ccb=7-4&amp;oh=7d9c5f275a485fb5431440cb7c39cd21&amp;oe=60B3B862&amp;_nc_sid=7bff83 150w,https://instagram.falg7-2.fna.fbcdn.net/v/t51.2885-15/e35/s240x240/189133832_585342232380119_2222051965796759189_n.jpg?tp=1&amp;_nc_ht=instagram.falg7-2.fna.fbcdn.net&amp;_nc_cat=1&amp;_nc_ohc=FYFG8u9csxYAX-FJL3S&amp;edm=ABfd0MgBAAAA&amp;ccb=7-4&amp;oh=1f37e489e5906607330a1e463bcdda92&amp;oe=60B26C28&amp;_nc_sid=7bff83 240w,https://instagram.falg7-2.fna.fbcdn.net/v/t51.2885-15/e35/s320x320/189133832_585342232380119_2222051965796759189_n.jpg?tp=1&amp;_nc_ht=instagram.falg7-2.fna.fbcdn.net&amp;_nc_cat=1&amp;_nc_ohc=FYFG8u9csxYAX-FJL3S&amp;edm=ABfd0MgBAAAA&amp;ccb=7-4&amp;oh=0eb73fa2ea6c8039c3d37978070773e8&amp;oe=60B2F15A&amp;_nc_sid=7bff83 320w,https://instagram.falg7-2.fna.fbcdn.net/v/t51.2885-15/e35/s480x480/189133832_585342232380119_2222051965796759189_n.jpg?tp=1&amp;_nc_ht=instagram.falg7-2.fna.fbcdn.net&amp;_nc_cat=1&amp;_nc_ohc=FYFG8u9csxYAX-FJL3S&amp;edm=ABfd0MgBAAAA&amp;ccb=7-4&amp;oh=08c9a5b90ba76dcb7bb9640048becf33&amp;oe=60B3779F&amp;_nc_sid=7bff83 480w,https://instagram.falg7-2.fna.fbcdn.net/v/t51.2885-15/sh0.08/e35/s640x640/189133832_585342232380119_2222051965796759189_n.jpg?tp=1&amp;_nc_ht=instagram.falg7-2.fna.fbcdn.net&amp;_nc_cat=1&amp;_nc_ohc=FYFG8u9csxYAX-FJL3S&amp;edm=ABfd0MgBAAAA&amp;ccb=7-4&amp;oh=5862451f44870f51bdb0291090941acc&amp;oe=60B3D165&amp;_nc_sid=7bff83 640w\" src=\"https://instagram.falg7-2.fna.fbcdn.net/v/t51.2885-15/sh0.08/e35/s640x640/189133832_585342232380119_2222051965796759189_n.jpg?tp=1&amp;_nc_ht=instagram.falg7-2.fna.fbcdn.net&amp;_nc_cat=1&amp;_nc_ohc=FYFG8u9csxYAX-FJL3S&amp;edm=ABfd0MgBAAAA&amp;ccb=7-4&amp;oh=5862451f44870f51bdb0291090941acc&amp;oe=60B3D165&amp;_nc_sid=7bff83\"></div><div class=\"_9AhH0\"></div></div><div class=\"u7YqG\"><div class=\"                     Igw0E     IwRSH      eGOV_         _4EzTm    bkEs3                  soMvl                  JI_ht                  DhRcB                                                    \"><svg aria-label=\"Carousel\" class=\"_8-yf5 \" fill=\"#ffffff\" height=\"22\" viewBox=\"0 0 48 48\" width=\"22\"><path d=\"M34.8 29.7V11c0-2.9-2.3-5.2-5.2-5.2H11c-2.9 0-5.2 2.3-5.2 5.2v18.7c0 2.9 2.3 5.2 5.2 5.2h18.7c2.8-.1 5.1-2.4 5.1-5.2zM39.2 15v16.1c0 4.5-3.7 8.2-8.2 8.2H14.9c-.6 0-.9.7-.5 1.1 1 1.1 2.4 1.8 4.1 1.8h13.4c5.7 0 10.3-4.6 10.3-10.3V18.5c0-1.6-.7-3.1-1.8-4.1-.5-.4-1.2 0-1.2.6z\"></path></svg></div></div></a></div><div class=\"v1Nh3 kIKUG  _bz0w\"><a href=\"/p/CPGLLcKgVNb/\" tabindex=\"0\"><div class=\"eLAPa\"><div class=\"KL4Bh\"><img alt=\"Photo shared by Cristiano Ronaldo on May 20, 2021 tagging @juventus. May be an image of 12 people, people standing and indoor.\" class=\"FFVAD\" crossorigin=\"anonymous\" decoding=\"auto\" style=\"object-fit: cover;\" sizes=\"293px\" srcset=\"https://instagram.falg7-2.fna.fbcdn.net/v/t51.2885-15/e35/c240.0.960.960a/s150x150/189096195_943352923155650_8549128389192148592_n.jpg?tp=1&amp;_nc_ht=instagram.falg7-2.fna.fbcdn.net&amp;_nc_cat=1&amp;_nc_ohc=hGC5wE3oEmUAX9-xxTB&amp;edm=ABfd0MgBAAAA&amp;ccb=7-4&amp;oh=81fdc865c62b963b5089d689e44a35e5&amp;oe=60B3CDF7&amp;_nc_sid=7bff83 150w,https://instagram.falg7-2.fna.fbcdn.net/v/t51.2885-15/e35/c240.0.960.960a/s240x240/189096195_943352923155650_8549128389192148592_n.jpg?tp=1&amp;_nc_ht=instagram.falg7-2.fna.fbcdn.net&amp;_nc_cat=1&amp;_nc_ohc=hGC5wE3oEmUAX9-xxTB&amp;edm=ABfd0MgBAAAA&amp;ccb=7-4&amp;oh=a9d70065b0ea65dbd20343130a0d109a&amp;oe=60B2BC31&amp;_nc_sid=7bff83 240w,https://instagram.falg7-2.fna.fbcdn.net/v/t51.2885-15/e35/c240.0.960.960a/s320x320/189096195_943352923155650_8549128389192148592_n.jpg?tp=1&amp;_nc_ht=instagram.falg7-2.fna.fbcdn.net&amp;_nc_cat=1&amp;_nc_ohc=hGC5wE3oEmUAX9-xxTB&amp;edm=ABfd0MgBAAAA&amp;ccb=7-4&amp;oh=f05a14184df88effc3276e1885f6cd56&amp;oe=60B2200F&amp;_nc_sid=7bff83 320w,https://instagram.falg7-2.fna.fbcdn.net/v/t51.2885-15/e35/c240.0.960.960a/s480x480/189096195_943352923155650_8549128389192148592_n.jpg?tp=1&amp;_nc_ht=instagram.falg7-2.fna.fbcdn.net&amp;_nc_cat=1&amp;_nc_ohc=hGC5wE3oEmUAX9-xxTB&amp;edm=ABfd0MgBAAAA&amp;ccb=7-4&amp;oh=6ee4010f8a39731ac66ef1e1cfef15f3&amp;oe=60B2DA8A&amp;_nc_sid=7bff83 480w,https://instagram.falg7-2.fna.fbcdn.net/v/t51.2885-15/sh0.08/e35/c240.0.960.960a/s640x640/189096195_943352923155650_8549128389192148592_n.jpg?tp=1&amp;_nc_ht=instagram.falg7-2.fna.fbcdn.net&amp;_nc_cat=1&amp;_nc_ohc=hGC5wE3oEmUAX9-xxTB&amp;edm=ABfd0MgBAAAA&amp;ccb=7-4&amp;oh=93bd9b840d5b2e551e7224c1c8d1eb13&amp;oe=60B2D732&amp;_nc_sid=7bff83 640w\" src=\"https://instagram.falg7-2.fna.fbcdn.net/v/t51.2885-15/sh0.08/e35/c240.0.960.960a/s640x640/189096195_943352923155650_8549128389192148592_n.jpg?tp=1&amp;_nc_ht=instagram.falg7-2.fna.fbcdn.net&amp;_nc_cat=1&amp;_nc_ohc=hGC5wE3oEmUAX9-xxTB&amp;edm=ABfd0MgBAAAA&amp;ccb=7-4&amp;oh=93bd9b840d5b2e551e7224c1c8d1eb13&amp;oe=60B2D732&amp;_nc_sid=7bff83\"></div><div class=\"_9AhH0\"></div></div></a></div><div class=\"v1Nh3 kIKUG  _bz0w\"><a href=\"/p/CPEqZnsAH5G/\" tabindex=\"0\"><div class=\"eLAPa\"><div class=\"KL4Bh\"><img alt=\"Photo shared by Cristiano Ronaldo on May 19, 2021 tagging @juventus, and @museucr7funchal. May be an image of 3 people.\" class=\"FFVAD\" crossorigin=\"anonymous\" decoding=\"auto\" style=\"object-fit: cover;\" sizes=\"293px\" srcset=\"https://instagram.falg7-2.fna.fbcdn.net/v/t51.2885-15/e35/c0.180.1440.1440a/s150x150/189432233_579887316328824_9168547381053963287_n.jpg?tp=1&amp;_nc_ht=instagram.falg7-2.fna.fbcdn.net&amp;_nc_cat=1&amp;_nc_ohc=VBizlb8LzRoAX_OIrgr&amp;edm=ABfd0MgBAAAA&amp;ccb=7-4&amp;oh=bbdde82a2996c21a12b3730a13f4e97a&amp;oe=60B2821D&amp;_nc_sid=7bff83 150w,https://instagram.falg7-2.fna.fbcdn.net/v/t51.2885-15/e35/c0.180.1440.1440a/s240x240/189432233_579887316328824_9168547381053963287_n.jpg?tp=1&amp;_nc_ht=instagram.falg7-2.fna.fbcdn.net&amp;_nc_cat=1&amp;_nc_ohc=VBizlb8LzRoAX_OIrgr&amp;edm=ABfd0MgBAAAA&amp;ccb=7-4&amp;oh=b6887c05e712a43febd256d5c82dbc46&amp;oe=60B3039B&amp;_nc_sid=7bff83 240w,https://instagram.falg7-2.fna.fbcdn.net/v/t51.2885-15/e35/c0.180.1440.1440a/s320x320/189432233_579887316328824_9168547381053963287_n.jpg?tp=1&amp;_nc_ht=instagram.falg7-2.fna.fbcdn.net&amp;_nc_cat=1&amp;_nc_ohc=VBizlb8LzRoAX_OIrgr&amp;edm=ABfd0MgBAAAA&amp;ccb=7-4&amp;oh=886dd8c48c51f3f929c7c38e3f37f8d8&amp;oe=60B26E65&amp;_nc_sid=7bff83 320w,https://instagram.falg7-2.fna.fbcdn.net/v/t51.2885-15/e35/c0.180.1440.1440a/s480x480/189432233_579887316328824_9168547381053963287_n.jpg?tp=1&amp;_nc_ht=instagram.falg7-2.fna.fbcdn.net&amp;_nc_cat=1&amp;_nc_ohc=VBizlb8LzRoAX_OIrgr&amp;edm=ABfd0MgBAAAA&amp;ccb=7-4&amp;oh=8f79a71ff1debf88e58bbb61f3081ce0&amp;oe=60B241E4&amp;_nc_sid=7bff83 480w,https://instagram.falg7-2.fna.fbcdn.net/v/t51.2885-15/sh0.08/e35/c0.180.1440.1440a/s640x640/189432233_579887316328824_9168547381053963287_n.jpg?tp=1&amp;_nc_ht=instagram.falg7-2.fna.fbcdn.net&amp;_nc_cat=1&amp;_nc_ohc=VBizlb8LzRoAX_OIrgr&amp;edm=ABfd0MgBAAAA&amp;ccb=7-4&amp;oh=6f5771a71c693392c4eda247d8a184b6&amp;oe=60B2DAAD&amp;_nc_sid=7bff83 640w\" src=\"https://instagram.falg7-2.fna.fbcdn.net/v/t51.2885-15/sh0.08/e35/c0.180.1440.1440a/s640x640/189432233_579887316328824_9168547381053963287_n.jpg?tp=1&amp;_nc_ht=instagram.falg7-2.fna.fbcdn.net&amp;_nc_cat=1&amp;_nc_ohc=VBizlb8LzRoAX_OIrgr&amp;edm=ABfd0MgBAAAA&amp;ccb=7-4&amp;oh=6f5771a71c693392c4eda247d8a184b6&amp;oe=60B2DAAD&amp;_nc_sid=7bff83\"></div><div class=\"_9AhH0\"></div></div></a></div>\n",
      "<div class=\"v1Nh3 kIKUG  _bz0w\"><a href=\"/p/CPEgVsrAanH/\" tabindex=\"0\"><div class=\"eLAPa\"><div class=\"KL4Bh\"><img alt=\"Photo shared by Cristiano Ronaldo on May 19, 2021 tagging @juventus. May be an image of 1 person, playing football and outdoors.\" class=\"FFVAD\" crossorigin=\"anonymous\" decoding=\"auto\" style=\"object-fit: cover;\" sizes=\"293px\" srcset=\"https://instagram.falg7-2.fna.fbcdn.net/v/t51.2885-15/e35/c153.0.1133.1133a/s150x150/187692353_138264038332163_3839891102685300299_n.jpg?tp=1&amp;_nc_ht=instagram.falg7-2.fna.fbcdn.net&amp;_nc_cat=1&amp;_nc_ohc=PFCi3HISyUcAX-pxxx_&amp;edm=ABfd0MgBAAAA&amp;ccb=7-4&amp;oh=82a7de71a379ce89895ea3bf1ae7a339&amp;oe=60B3D0FD&amp;_nc_sid=7bff83 150w,https://instagram.falg7-2.fna.fbcdn.net/v/t51.2885-15/e35/c153.0.1133.1133a/s240x240/187692353_138264038332163_3839891102685300299_n.jpg?tp=1&amp;_nc_ht=instagram.falg7-2.fna.fbcdn.net&amp;_nc_cat=1&amp;_nc_ohc=PFCi3HISyUcAX-pxxx_&amp;edm=ABfd0MgBAAAA&amp;ccb=7-4&amp;oh=d969c7bc0b97e15ee055d09ed7285fd0&amp;oe=60B3C73B&amp;_nc_sid=7bff83 240w,https://instagram.falg7-2.fna.fbcdn.net/v/t51.2885-15/e35/c153.0.1133.1133a/s320x320/187692353_138264038332163_3839891102685300299_n.jpg?tp=1&amp;_nc_ht=instagram.falg7-2.fna.fbcdn.net&amp;_nc_cat=1&amp;_nc_ohc=PFCi3HISyUcAX-pxxx_&amp;edm=ABfd0MgBAAAA&amp;ccb=7-4&amp;oh=1cfad2de5bc9ddf6e41181f4bad3ffb6&amp;oe=60B3A545&amp;_nc_sid=7bff83 320w,https://instagram.falg7-2.fna.fbcdn.net/v/t51.2885-15/e35/c153.0.1133.1133a/s480x480/187692353_138264038332163_3839891102685300299_n.jpg?tp=1&amp;_nc_ht=instagram.falg7-2.fna.fbcdn.net&amp;_nc_cat=1&amp;_nc_ohc=PFCi3HISyUcAX-pxxx_&amp;edm=ABfd0MgBAAAA&amp;ccb=7-4&amp;oh=dbd27542afacdc51c83b95ffdc741d54&amp;oe=60B28D84&amp;_nc_sid=7bff83 480w,https://instagram.falg7-2.fna.fbcdn.net/v/t51.2885-15/sh0.08/e35/c153.0.1133.1133a/s640x640/187692353_138264038332163_3839891102685300299_n.jpg?tp=1&amp;_nc_ht=instagram.falg7-2.fna.fbcdn.net&amp;_nc_cat=1&amp;_nc_ohc=PFCi3HISyUcAX-pxxx_&amp;edm=ABfd0MgBAAAA&amp;ccb=7-4&amp;oh=ca9c7179820ca29ce16b86691ac6e42e&amp;oe=60B39F4D&amp;_nc_sid=7bff83 640w\" src=\"https://instagram.falg7-2.fna.fbcdn.net/v/t51.2885-15/sh0.08/e35/c153.0.1133.1133a/s640x640/187692353_138264038332163_3839891102685300299_n.jpg?tp=1&amp;_nc_ht=instagram.falg7-2.fna.fbcdn.net&amp;_nc_cat=1&amp;_nc_ohc=PFCi3HISyUcAX-pxxx_&amp;edm=ABfd0MgBAAAA&amp;ccb=7-4&amp;oh=ca9c7179820ca29ce16b86691ac6e42e&amp;oe=60B39F4D&amp;_nc_sid=7bff83\"></div><div class=\"_9AhH0\"></div></div><div class=\"u7YqG\"><div class=\"                     Igw0E     IwRSH      eGOV_         _4EzTm    bkEs3                  soMvl                  JI_ht                  DhRcB                                                    \"><svg aria-label=\"Carousel\" class=\"_8-yf5 \" fill=\"#ffffff\" height=\"22\" viewBox=\"0 0 48 48\" width=\"22\"><path d=\"M34.8 29.7V11c0-2.9-2.3-5.2-5.2-5.2H11c-2.9 0-5.2 2.3-5.2 5.2v18.7c0 2.9 2.3 5.2 5.2 5.2h18.7c2.8-.1 5.1-2.4 5.1-5.2zM39.2 15v16.1c0 4.5-3.7 8.2-8.2 8.2H14.9c-.6 0-.9.7-.5 1.1 1 1.1 2.4 1.8 4.1 1.8h13.4c5.7 0 10.3-4.6 10.3-10.3V18.5c0-1.6-.7-3.1-1.8-4.1-.5-.4-1.2 0-1.2.6z\"></path></svg></div></div></a></div><div class=\"v1Nh3 kIKUG  _bz0w\"><a href=\"/p/CO93BS6pBpY/\" tabindex=\"0\"><div class=\"eLAPa\"><div class=\"KL4Bh\"><img alt=\"Excited to have signed for @livescore\" class=\"FFVAD\" crossorigin=\"anonymous\" decoding=\"auto\" style=\"object-fit: cover;\" sizes=\"293px\" srcset=\"https://instagram.falg7-2.fna.fbcdn.net/v/t51.2885-15/e35/s150x150/186739630_798441934125717_3066393541228266227_n.jpg?tp=1&amp;_nc_ht=instagram.falg7-2.fna.fbcdn.net&amp;_nc_cat=1&amp;_nc_ohc=X4N02NCr8aoAX8kH1mP&amp;edm=ABfd0MgBAAAA&amp;ccb=7-4&amp;oh=8408f0680a5b0821d95ef6407df5c8a4&amp;oe=60AEC315&amp;_nc_sid=7bff83 150w,https://instagram.falg7-2.fna.fbcdn.net/v/t51.2885-15/e35/s240x240/186739630_798441934125717_3066393541228266227_n.jpg?tp=1&amp;_nc_ht=instagram.falg7-2.fna.fbcdn.net&amp;_nc_cat=1&amp;_nc_ohc=X4N02NCr8aoAX8kH1mP&amp;edm=ABfd0MgBAAAA&amp;ccb=7-4&amp;oh=b2844eeabbcc32982af2385b5157b9a5&amp;oe=60AE8193&amp;_nc_sid=7bff83 240w,https://instagram.falg7-2.fna.fbcdn.net/v/t51.2885-15/e35/s320x320/186739630_798441934125717_3066393541228266227_n.jpg?tp=1&amp;_nc_ht=instagram.falg7-2.fna.fbcdn.net&amp;_nc_cat=1&amp;_nc_ohc=X4N02NCr8aoAX8kH1mP&amp;edm=ABfd0MgBAAAA&amp;ccb=7-4&amp;oh=e7b758c221bbe4889b144b180496e453&amp;oe=60AE672D&amp;_nc_sid=7bff83 320w,https://instagram.falg7-2.fna.fbcdn.net/v/t51.2885-15/e35/s480x480/186739630_798441934125717_3066393541228266227_n.jpg?tp=1&amp;_nc_ht=instagram.falg7-2.fna.fbcdn.net&amp;_nc_cat=1&amp;_nc_ohc=X4N02NCr8aoAX8kH1mP&amp;edm=ABfd0MgBAAAA&amp;ccb=7-4&amp;oh=08ae383da29f29c007081125460640ad&amp;oe=60AE2FEC&amp;_nc_sid=7bff83 480w,https://instagram.falg7-2.fna.fbcdn.net/v/t51.2885-15/sh0.08/e35/s640x640/186739630_798441934125717_3066393541228266227_n.jpg?tp=1&amp;_nc_ht=instagram.falg7-2.fna.fbcdn.net&amp;_nc_cat=1&amp;_nc_ohc=X4N02NCr8aoAX8kH1mP&amp;edm=ABfd0MgBAAAA&amp;ccb=7-4&amp;oh=e4cfd8d44b78624081584935de219b4f&amp;oe=60AEA5D2&amp;_nc_sid=7bff83 640w\" src=\"https://instagram.falg7-2.fna.fbcdn.net/v/t51.2885-15/sh0.08/e35/s640x640/186739630_798441934125717_3066393541228266227_n.jpg?tp=1&amp;_nc_ht=instagram.falg7-2.fna.fbcdn.net&amp;_nc_cat=1&amp;_nc_ohc=X4N02NCr8aoAX8kH1mP&amp;edm=ABfd0MgBAAAA&amp;ccb=7-4&amp;oh=e4cfd8d44b78624081584935de219b4f&amp;oe=60AEA5D2&amp;_nc_sid=7bff83\"></div><div class=\"_9AhH0\"></div></div><div class=\"u7YqG\"><div class=\"                     Igw0E     IwRSH      eGOV_         _4EzTm    bkEs3                  soMvl                  JI_ht                  DhRcB                                                    \"><svg aria-label=\"Video\" class=\"_8-yf5 \" fill=\"#ffffff\" height=\"18\" viewBox=\"0 0 48 48\" width=\"18\"><path d=\"M9.6 46.5c-1 0-2-.3-2.9-.8-1.8-1.1-2.9-2.9-2.9-5.1V7.3c0-2.1 1.1-4 2.9-5.1 1.9-1.1 4.1-1.1 5.9 0l30.1 17.6c1.5.9 2.3 2.4 2.3 4.1 0 1.7-.9 3.2-2.3 4.1L12.6 45.7c-.9.5-2 .8-3 .8z\"></path></svg></div></div></a></div><div class=\"v1Nh3 kIKUG  _bz0w\"><a href=\"/p/CO5zSuIgqpY/\" tabindex=\"0\"><div class=\"eLAPa\"><div class=\"KL4Bh\"><img alt=\"Photo shared by Cristiano Ronaldo on May 15, 2021 tagging @juventus. May be an image of 4 people, people standing, people playing football and outdoors.\" class=\"FFVAD\" crossorigin=\"anonymous\" decoding=\"auto\" style=\"object-fit: cover;\" sizes=\"293px\" srcset=\"https://instagram.falg7-2.fna.fbcdn.net/v/t51.2885-15/e35/c214.0.1009.1009a/s150x150/186741822_138275511656914_7751645823387035199_n.jpg?tp=1&amp;_nc_ht=instagram.falg7-2.fna.fbcdn.net&amp;_nc_cat=1&amp;_nc_ohc=jX_uotdAnawAX-rDOOI&amp;edm=ABfd0MgBAAAA&amp;ccb=7-4&amp;oh=f5b0c79098cf933d55389af2d83a04cb&amp;oe=60B314B0&amp;_nc_sid=7bff83 150w,https://instagram.falg7-2.fna.fbcdn.net/v/t51.2885-15/e35/c214.0.1009.1009a/s240x240/186741822_138275511656914_7751645823387035199_n.jpg?tp=1&amp;_nc_ht=instagram.falg7-2.fna.fbcdn.net&amp;_nc_cat=1&amp;_nc_ohc=jX_uotdAnawAX-rDOOI&amp;edm=ABfd0MgBAAAA&amp;ccb=7-4&amp;oh=af8323630f6c0c8fd66d4dc5339336fe&amp;oe=60B230AA&amp;_nc_sid=7bff83 240w,https://instagram.falg7-2.fna.fbcdn.net/v/t51.2885-15/e35/c214.0.1009.1009a/s320x320/186741822_138275511656914_7751645823387035199_n.jpg?tp=1&amp;_nc_ht=instagram.falg7-2.fna.fbcdn.net&amp;_nc_cat=1&amp;_nc_ohc=jX_uotdAnawAX-rDOOI&amp;edm=ABfd0MgBAAAA&amp;ccb=7-4&amp;oh=ea6968b2256d8917bbbb113212cc84b2&amp;oe=60B29F58&amp;_nc_sid=7bff83 320w,https://instagram.falg7-2.fna.fbcdn.net/v/t51.2885-15/e35/c214.0.1009.1009a/s480x480/186741822_138275511656914_7751645823387035199_n.jpg?tp=1&amp;_nc_ht=instagram.falg7-2.fna.fbcdn.net&amp;_nc_cat=1&amp;_nc_ohc=jX_uotdAnawAX-rDOOI&amp;edm=ABfd0MgBAAAA&amp;ccb=7-4&amp;oh=8589db044827382302e4ab0e3598f181&amp;oe=60B2E111&amp;_nc_sid=7bff83 480w,https://instagram.falg7-2.fna.fbcdn.net/v/t51.2885-15/sh0.08/e35/c214.0.1009.1009a/s640x640/186741822_138275511656914_7751645823387035199_n.jpg?tp=1&amp;_nc_ht=instagram.falg7-2.fna.fbcdn.net&amp;_nc_cat=1&amp;_nc_ohc=jX_uotdAnawAX-rDOOI&amp;edm=ABfd0MgBAAAA&amp;ccb=7-4&amp;oh=d5181a37b407f38d51ec1e8f50e4eb62&amp;oe=60B30B20&amp;_nc_sid=7bff83 640w\" src=\"https://instagram.falg7-2.fna.fbcdn.net/v/t51.2885-15/sh0.08/e35/c214.0.1009.1009a/s640x640/186741822_138275511656914_7751645823387035199_n.jpg?tp=1&amp;_nc_ht=instagram.falg7-2.fna.fbcdn.net&amp;_nc_cat=1&amp;_nc_ohc=jX_uotdAnawAX-rDOOI&amp;edm=ABfd0MgBAAAA&amp;ccb=7-4&amp;oh=d5181a37b407f38d51ec1e8f50e4eb62&amp;oe=60B30B20&amp;_nc_sid=7bff83\"></div><div class=\"_9AhH0\"></div></div><div class=\"u7YqG\"><div class=\"                     Igw0E     IwRSH      eGOV_         _4EzTm    bkEs3                  soMvl                  JI_ht                  DhRcB                                                    \"><svg aria-label=\"Carousel\" class=\"_8-yf5 \" fill=\"#ffffff\" height=\"22\" viewBox=\"0 0 48 48\" width=\"22\"><path d=\"M34.8 29.7V11c0-2.9-2.3-5.2-5.2-5.2H11c-2.9 0-5.2 2.3-5.2 5.2v18.7c0 2.9 2.3 5.2 5.2 5.2h18.7c2.8-.1 5.1-2.4 5.1-5.2zM39.2 15v16.1c0 4.5-3.7 8.2-8.2 8.2H14.9c-.6 0-.9.7-.5 1.1 1 1.1 2.4 1.8 4.1 1.8h13.4c5.7 0 10.3-4.6 10.3-10.3V18.5c0-1.6-.7-3.1-1.8-4.1-.5-.4-1.2 0-1.2.6z\"></path></svg></div></div></a></div>\n",
      "<div class=\"v1Nh3 kIKUG  _bz0w\"><a href=\"/p/CO0hv2VKNep/\" tabindex=\"0\"><div class=\"eLAPa\"><div class=\"KL4Bh\"><img alt=\"Know why eCampus University is your perfect choice? \n",
      "Because it’s always been online, with online lessons and exams and the option of having a personal tutor to accompany you step by step, like a true coach. \n",
      "See you there!\" class=\"FFVAD\" crossorigin=\"anonymous\" decoding=\"auto\" style=\"object-fit: cover;\" sizes=\"293px\" srcset=\"https://instagram.falg7-2.fna.fbcdn.net/v/t51.2885-15/e15/s150x150/185049152_135501061958931_454352704908903728_n.jpg?tp=1&amp;_nc_ht=instagram.falg7-2.fna.fbcdn.net&amp;_nc_cat=1&amp;_nc_ohc=gE992CX-G9oAX_DRSs2&amp;edm=ABfd0MgBAAAA&amp;ccb=7-4&amp;oh=d5d67bbfb959cf21f49048fa5a396d28&amp;oe=60AEAF5C&amp;_nc_sid=7bff83 150w,https://instagram.falg7-2.fna.fbcdn.net/v/t51.2885-15/e15/s240x240/185049152_135501061958931_454352704908903728_n.jpg?tp=1&amp;_nc_ht=instagram.falg7-2.fna.fbcdn.net&amp;_nc_cat=1&amp;_nc_ohc=gE992CX-G9oAX_DRSs2&amp;edm=ABfd0MgBAAAA&amp;ccb=7-4&amp;oh=c2858ec5d3ee8354069c8df6f3dbaa78&amp;oe=60AE8012&amp;_nc_sid=7bff83 240w,https://instagram.falg7-2.fna.fbcdn.net/v/t51.2885-15/e15/s320x320/185049152_135501061958931_454352704908903728_n.jpg?tp=1&amp;_nc_ht=instagram.falg7-2.fna.fbcdn.net&amp;_nc_cat=1&amp;_nc_ohc=gE992CX-G9oAX_DRSs2&amp;edm=ABfd0MgBAAAA&amp;ccb=7-4&amp;oh=900bcf839e957ef86ab4f84730102d0e&amp;oe=60AE976C&amp;_nc_sid=7bff83 320w,https://instagram.falg7-2.fna.fbcdn.net/v/t51.2885-15/e15/s480x480/185049152_135501061958931_454352704908903728_n.jpg?tp=1&amp;_nc_ht=instagram.falg7-2.fna.fbcdn.net&amp;_nc_cat=1&amp;_nc_ohc=gE992CX-G9oAX_DRSs2&amp;edm=ABfd0MgBAAAA&amp;ccb=7-4&amp;oh=acd383a48216abab67ace436a76be1d8&amp;oe=60AE9DB2&amp;_nc_sid=7bff83 480w,https://instagram.falg7-2.fna.fbcdn.net/v/t51.2885-15/sh0.08/e35/s640x640/185049152_135501061958931_454352704908903728_n.jpg?tp=1&amp;_nc_ht=instagram.falg7-2.fna.fbcdn.net&amp;_nc_cat=1&amp;_nc_ohc=gE992CX-G9oAX_DRSs2&amp;edm=ABfd0MgBAAAA&amp;ccb=7-4&amp;oh=4567fe9789a1717eed2cdbd699d49c63&amp;oe=60AE2EDE&amp;_nc_sid=7bff83 640w\" src=\"https://instagram.falg7-2.fna.fbcdn.net/v/t51.2885-15/sh0.08/e35/s640x640/185049152_135501061958931_454352704908903728_n.jpg?tp=1&amp;_nc_ht=instagram.falg7-2.fna.fbcdn.net&amp;_nc_cat=1&amp;_nc_ohc=gE992CX-G9oAX_DRSs2&amp;edm=ABfd0MgBAAAA&amp;ccb=7-4&amp;oh=4567fe9789a1717eed2cdbd699d49c63&amp;oe=60AE2EDE&amp;_nc_sid=7bff83\"></div><div class=\"_9AhH0\"></div></div><div class=\"u7YqG\"><div class=\"                     Igw0E     IwRSH      eGOV_         _4EzTm    bkEs3                  soMvl                  JI_ht                  DhRcB                                                    \"><svg aria-label=\"Video\" class=\"_8-yf5 \" fill=\"#ffffff\" height=\"18\" viewBox=\"0 0 48 48\" width=\"18\"><path d=\"M9.6 46.5c-1 0-2-.3-2.9-.8-1.8-1.1-2.9-2.9-2.9-5.1V7.3c0-2.1 1.1-4 2.9-5.1 1.9-1.1 4.1-1.1 5.9 0l30.1 17.6c1.5.9 2.3 2.4 2.3 4.1 0 1.7-.9 3.2-2.3 4.1L12.6 45.7c-.9.5-2 .8-3 .8z\"></path></svg></div></div></a></div><div class=\"v1Nh3 kIKUG  _bz0w\"><a href=\"/p/CO0Ei2TgDtL/\" tabindex=\"0\"><div class=\"eLAPa\"><div class=\"KL4Bh\"><img alt=\"Photo shared by Cristiano Ronaldo on May 13, 2021 tagging @juventus, and @museucr7funchal. May be an image of 1 person and text.\" class=\"FFVAD\" crossorigin=\"anonymous\" decoding=\"auto\" style=\"object-fit: cover;\" sizes=\"293px\" srcset=\"https://instagram.falg7-2.fna.fbcdn.net/v/t51.2885-15/e35/c0.169.1349.1349a/s150x150/186208674_798835654092741_5468624264078180543_n.jpg?tp=1&amp;_nc_ht=instagram.falg7-2.fna.fbcdn.net&amp;_nc_cat=1&amp;_nc_ohc=SfAA44AysG8AX-aQz_W&amp;edm=ABfd0MgBAAAA&amp;ccb=7-4&amp;oh=91df3bc4e77a5b934049897cd05c6d63&amp;oe=60B39928&amp;_nc_sid=7bff83 150w,https://instagram.falg7-2.fna.fbcdn.net/v/t51.2885-15/e35/c0.169.1349.1349a/s240x240/186208674_798835654092741_5468624264078180543_n.jpg?tp=1&amp;_nc_ht=instagram.falg7-2.fna.fbcdn.net&amp;_nc_cat=1&amp;_nc_ohc=SfAA44AysG8AX-aQz_W&amp;edm=ABfd0MgBAAAA&amp;ccb=7-4&amp;oh=e120e6c84e27315a09d39df8ccdd4012&amp;oe=60B3A662&amp;_nc_sid=7bff83 240w,https://instagram.falg7-2.fna.fbcdn.net/v/t51.2885-15/e35/c0.169.1349.1349a/s320x320/186208674_798835654092741_5468624264078180543_n.jpg?tp=1&amp;_nc_ht=instagram.falg7-2.fna.fbcdn.net&amp;_nc_cat=1&amp;_nc_ohc=SfAA44AysG8AX-aQz_W&amp;edm=ABfd0MgBAAAA&amp;ccb=7-4&amp;oh=da7a8c2b0f54f2701ef5bf01246f707d&amp;oe=60B2B3A0&amp;_nc_sid=7bff83 320w,https://instagram.falg7-2.fna.fbcdn.net/v/t51.2885-15/e35/c0.169.1349.1349a/s480x480/186208674_798835654092741_5468624264078180543_n.jpg?tp=1&amp;_nc_ht=instagram.falg7-2.fna.fbcdn.net&amp;_nc_cat=1&amp;_nc_ohc=SfAA44AysG8AX-aQz_W&amp;edm=ABfd0MgBAAAA&amp;ccb=7-4&amp;oh=767306ba94364da39b83a75709b177b9&amp;oe=60B28299&amp;_nc_sid=7bff83 480w,https://instagram.falg7-2.fna.fbcdn.net/v/t51.2885-15/sh0.08/e35/c0.169.1349.1349a/s640x640/186208674_798835654092741_5468624264078180543_n.jpg?tp=1&amp;_nc_ht=instagram.falg7-2.fna.fbcdn.net&amp;_nc_cat=1&amp;_nc_ohc=SfAA44AysG8AX-aQz_W&amp;edm=ABfd0MgBAAAA&amp;ccb=7-4&amp;oh=fe8226d7dcd2343d9f291ed5f711e2df&amp;oe=60B2AC58&amp;_nc_sid=7bff83 640w\" src=\"https://instagram.falg7-2.fna.fbcdn.net/v/t51.2885-15/sh0.08/e35/c0.169.1349.1349a/s640x640/186208674_798835654092741_5468624264078180543_n.jpg?tp=1&amp;_nc_ht=instagram.falg7-2.fna.fbcdn.net&amp;_nc_cat=1&amp;_nc_ohc=SfAA44AysG8AX-aQz_W&amp;edm=ABfd0MgBAAAA&amp;ccb=7-4&amp;oh=fe8226d7dcd2343d9f291ed5f711e2df&amp;oe=60B2AC58&amp;_nc_sid=7bff83\"></div><div class=\"_9AhH0\"></div></div></a></div><div class=\"v1Nh3 kIKUG  _bz0w\"><a href=\"/p/COyZhkcAQrR/\" tabindex=\"0\"><div class=\"eLAPa\"><div class=\"KL4Bh\"><img alt=\"Photo shared by Cristiano Ronaldo on May 12, 2021 tagging @juventus. May be an image of 2 people, people standing, people playing football, stadium and outdoors.\" class=\"FFVAD\" crossorigin=\"anonymous\" decoding=\"auto\" style=\"object-fit: cover;\" sizes=\"293px\" srcset=\"https://instagram.falg7-2.fna.fbcdn.net/v/t51.2885-15/e35/c190.0.1060.1060a/s150x150/184917527_158728376195094_941858506861977250_n.jpg?tp=1&amp;_nc_ht=instagram.falg7-2.fna.fbcdn.net&amp;_nc_cat=1&amp;_nc_ohc=13AGkGhiV4MAX9TkZDM&amp;edm=ABfd0MgBAAAA&amp;ccb=7-4&amp;oh=4aabe6b1c22aaef74836872102ab7598&amp;oe=60B23E80&amp;_nc_sid=7bff83 150w,https://instagram.falg7-2.fna.fbcdn.net/v/t51.2885-15/e35/c190.0.1060.1060a/s240x240/184917527_158728376195094_941858506861977250_n.jpg?tp=1&amp;_nc_ht=instagram.falg7-2.fna.fbcdn.net&amp;_nc_cat=1&amp;_nc_ohc=13AGkGhiV4MAX9TkZDM&amp;edm=ABfd0MgBAAAA&amp;ccb=7-4&amp;oh=c23d216566c32477a4469c0880a48620&amp;oe=60B32236&amp;_nc_sid=7bff83 240w,https://instagram.falg7-2.fna.fbcdn.net/v/t51.2885-15/e35/c190.0.1060.1060a/s320x320/184917527_158728376195094_941858506861977250_n.jpg?tp=1&amp;_nc_ht=instagram.falg7-2.fna.fbcdn.net&amp;_nc_cat=1&amp;_nc_ohc=13AGkGhiV4MAX9TkZDM&amp;edm=ABfd0MgBAAAA&amp;ccb=7-4&amp;oh=905cd02a17d84f56f4e1f6568f349f1b&amp;oe=60B35250&amp;_nc_sid=7bff83 320w,https://instagram.falg7-2.fna.fbcdn.net/v/t51.2885-15/e35/c190.0.1060.1060a/s480x480/184917527_158728376195094_941858506861977250_n.jpg?tp=1&amp;_nc_ht=instagram.falg7-2.fna.fbcdn.net&amp;_nc_cat=1&amp;_nc_ohc=13AGkGhiV4MAX9TkZDM&amp;edm=ABfd0MgBAAAA&amp;ccb=7-4&amp;oh=cfa88347003052be8fcb787f49cc24ac&amp;oe=60B39156&amp;_nc_sid=7bff83 480w,https://instagram.falg7-2.fna.fbcdn.net/v/t51.2885-15/sh0.08/e35/c190.0.1060.1060a/s640x640/184917527_158728376195094_941858506861977250_n.jpg?tp=1&amp;_nc_ht=instagram.falg7-2.fna.fbcdn.net&amp;_nc_cat=1&amp;_nc_ohc=13AGkGhiV4MAX9TkZDM&amp;edm=ABfd0MgBAAAA&amp;ccb=7-4&amp;oh=8c4a45adac6d21cef3514df4164c1e67&amp;oe=60B405F5&amp;_nc_sid=7bff83 640w\" src=\"https://instagram.falg7-2.fna.fbcdn.net/v/t51.2885-15/sh0.08/e35/c190.0.1060.1060a/s640x640/184917527_158728376195094_941858506861977250_n.jpg?tp=1&amp;_nc_ht=instagram.falg7-2.fna.fbcdn.net&amp;_nc_cat=1&amp;_nc_ohc=13AGkGhiV4MAX9TkZDM&amp;edm=ABfd0MgBAAAA&amp;ccb=7-4&amp;oh=8c4a45adac6d21cef3514df4164c1e67&amp;oe=60B405F5&amp;_nc_sid=7bff83\"></div><div class=\"_9AhH0\"></div></div><div class=\"u7YqG\"><div class=\"                     Igw0E     IwRSH      eGOV_         _4EzTm    bkEs3                  soMvl                  JI_ht                  DhRcB                                                    \"><svg aria-label=\"Carousel\" class=\"_8-yf5 \" fill=\"#ffffff\" height=\"22\" viewBox=\"0 0 48 48\" width=\"22\"><path d=\"M34.8 29.7V11c0-2.9-2.3-5.2-5.2-5.2H11c-2.9 0-5.2 2.3-5.2 5.2v18.7c0 2.9 2.3 5.2 5.2 5.2h18.7c2.8-.1 5.1-2.4 5.1-5.2zM39.2 15v16.1c0 4.5-3.7 8.2-8.2 8.2H14.9c-.6 0-.9.7-.5 1.1 1 1.1 2.4 1.8 4.1 1.8h13.4c5.7 0 10.3-4.6 10.3-10.3V18.5c0-1.6-.7-3.1-1.8-4.1-.5-.4-1.2 0-1.2.6z\"></path></svg></div></div></a></div>\n",
      "<div class=\"v1Nh3 kIKUG  _bz0w\"><a href=\"/p/COv6BW-AIsy/\" tabindex=\"0\"><div class=\"eLAPa\"><div class=\"KL4Bh\"><img alt=\"Muitos Parabéns CAMPEÕES! 🦁💚👏🏽\" class=\"FFVAD\" crossorigin=\"anonymous\" decoding=\"auto\" style=\"object-fit: cover;\" sizes=\"293px\" srcset=\"https://instagram.falg7-2.fna.fbcdn.net/v/t51.2885-15/e35/c0.0.827.827a/s150x150/184855793_303490184706530_47880971476894771_n.jpg?tp=1&amp;_nc_ht=instagram.falg7-2.fna.fbcdn.net&amp;_nc_cat=1&amp;_nc_ohc=J1UZTESh7S0AX-m6rUP&amp;edm=APU89FABAAAA&amp;ccb=7-4&amp;oh=91729b9c9b2744e864303431d890e53a&amp;oe=60B3597B&amp;_nc_sid=86f79a 150w,https://instagram.falg7-2.fna.fbcdn.net/v/t51.2885-15/e35/c0.0.827.827a/s240x240/184855793_303490184706530_47880971476894771_n.jpg?tp=1&amp;_nc_ht=instagram.falg7-2.fna.fbcdn.net&amp;_nc_cat=1&amp;_nc_ohc=J1UZTESh7S0AX-m6rUP&amp;edm=APU89FABAAAA&amp;ccb=7-4&amp;oh=1db6d5b1af28d3ce3a90001b388cc6bb&amp;oe=60B22510&amp;_nc_sid=86f79a 240w,https://instagram.falg7-2.fna.fbcdn.net/v/t51.2885-15/e35/c0.0.827.827a/s320x320/184855793_303490184706530_47880971476894771_n.jpg?tp=1&amp;_nc_ht=instagram.falg7-2.fna.fbcdn.net&amp;_nc_cat=1&amp;_nc_ohc=J1UZTESh7S0AX-m6rUP&amp;edm=APU89FABAAAA&amp;ccb=7-4&amp;oh=340046b1ffbcdf05da8cef0eef1fe161&amp;oe=60B31078&amp;_nc_sid=86f79a 320w,https://instagram.falg7-2.fna.fbcdn.net/v/t51.2885-15/e35/c0.0.827.827a/s480x480/184855793_303490184706530_47880971476894771_n.jpg?tp=1&amp;_nc_ht=instagram.falg7-2.fna.fbcdn.net&amp;_nc_cat=1&amp;_nc_ohc=J1UZTESh7S0AX-m6rUP&amp;edm=APU89FABAAAA&amp;ccb=7-4&amp;oh=45ce857014794f0980b543d9aac57e99&amp;oe=60B351EC&amp;_nc_sid=86f79a 480w,https://instagram.falg7-2.fna.fbcdn.net/v/t51.2885-15/sh0.08/e35/c0.0.827.827a/s640x640/184855793_303490184706530_47880971476894771_n.jpg?tp=1&amp;_nc_ht=instagram.falg7-2.fna.fbcdn.net&amp;_nc_cat=1&amp;_nc_ohc=J1UZTESh7S0AX-m6rUP&amp;edm=APU89FABAAAA&amp;ccb=7-4&amp;oh=0d8d24b71582e3ee2a9447c2d47543c7&amp;oe=60B2759C&amp;_nc_sid=86f79a 640w\" src=\"https://instagram.falg7-2.fna.fbcdn.net/v/t51.2885-15/sh0.08/e35/c0.0.827.827a/s640x640/184855793_303490184706530_47880971476894771_n.jpg?tp=1&amp;_nc_ht=instagram.falg7-2.fna.fbcdn.net&amp;_nc_cat=1&amp;_nc_ohc=J1UZTESh7S0AX-m6rUP&amp;edm=APU89FABAAAA&amp;ccb=7-4&amp;oh=0d8d24b71582e3ee2a9447c2d47543c7&amp;oe=60B2759C&amp;_nc_sid=86f79a\"></div><div class=\"_9AhH0\"></div></div></a></div><div class=\"v1Nh3 kIKUG  _bz0w\"><a href=\"/p/COkuDxbAIJP/\" tabindex=\"0\"><div class=\"eLAPa\"><div class=\"KL4Bh\"><img alt=\"Right or left foot?! 🤔#workdone #forzajuve\" class=\"FFVAD\" crossorigin=\"anonymous\" decoding=\"auto\" style=\"object-fit: cover;\" sizes=\"293px\" srcset=\"https://instagram.falg7-2.fna.fbcdn.net/v/t51.2885-15/e35/c122.0.1195.1195a/s150x150/182875415_349396226574191_1339156267191061014_n.jpg?tp=1&amp;_nc_ht=instagram.falg7-2.fna.fbcdn.net&amp;_nc_cat=1&amp;_nc_ohc=5lSP7af-q90AX8GRbSU&amp;edm=APU89FABAAAA&amp;ccb=7-4&amp;oh=1ffe5868b8039449a8dbf1a1361c848a&amp;oe=60B2A582&amp;_nc_sid=86f79a 150w,https://instagram.falg7-2.fna.fbcdn.net/v/t51.2885-15/e35/c122.0.1195.1195a/s240x240/182875415_349396226574191_1339156267191061014_n.jpg?tp=1&amp;_nc_ht=instagram.falg7-2.fna.fbcdn.net&amp;_nc_cat=1&amp;_nc_ohc=5lSP7af-q90AX8GRbSU&amp;edm=APU89FABAAAA&amp;ccb=7-4&amp;oh=27f6cfb6ac73ee417832285a554f1d74&amp;oe=60B3D748&amp;_nc_sid=86f79a 240w,https://instagram.falg7-2.fna.fbcdn.net/v/t51.2885-15/e35/c122.0.1195.1195a/s320x320/182875415_349396226574191_1339156267191061014_n.jpg?tp=1&amp;_nc_ht=instagram.falg7-2.fna.fbcdn.net&amp;_nc_cat=1&amp;_nc_ohc=5lSP7af-q90AX8GRbSU&amp;edm=APU89FABAAAA&amp;ccb=7-4&amp;oh=25764e953b69f8a98622915e71801c67&amp;oe=60B3F7BA&amp;_nc_sid=86f79a 320w,https://instagram.falg7-2.fna.fbcdn.net/v/t51.2885-15/e35/c122.0.1195.1195a/s480x480/182875415_349396226574191_1339156267191061014_n.jpg?tp=1&amp;_nc_ht=instagram.falg7-2.fna.fbcdn.net&amp;_nc_cat=1&amp;_nc_ohc=5lSP7af-q90AX8GRbSU&amp;edm=APU89FABAAAA&amp;ccb=7-4&amp;oh=1249a862703f905f475c6ae1730ab9bc&amp;oe=60B257FF&amp;_nc_sid=86f79a 480w,https://instagram.falg7-2.fna.fbcdn.net/v/t51.2885-15/sh0.08/e35/c122.0.1195.1195a/s640x640/182875415_349396226574191_1339156267191061014_n.jpg?tp=1&amp;_nc_ht=instagram.falg7-2.fna.fbcdn.net&amp;_nc_cat=1&amp;_nc_ohc=5lSP7af-q90AX8GRbSU&amp;edm=APU89FABAAAA&amp;ccb=7-4&amp;oh=c765d9611367458df5f813b9925bb7d2&amp;oe=60B2F7F2&amp;_nc_sid=86f79a 640w\" src=\"https://instagram.falg7-2.fna.fbcdn.net/v/t51.2885-15/sh0.08/e35/c122.0.1195.1195a/s640x640/182875415_349396226574191_1339156267191061014_n.jpg?tp=1&amp;_nc_ht=instagram.falg7-2.fna.fbcdn.net&amp;_nc_cat=1&amp;_nc_ohc=5lSP7af-q90AX8GRbSU&amp;edm=APU89FABAAAA&amp;ccb=7-4&amp;oh=c765d9611367458df5f813b9925bb7d2&amp;oe=60B2F7F2&amp;_nc_sid=86f79a\"></div><div class=\"_9AhH0\"></div></div><div class=\"u7YqG\"><div class=\"                     Igw0E     IwRSH      eGOV_         _4EzTm    bkEs3                  soMvl                  JI_ht                  DhRcB                                                    \"><svg aria-label=\"Carousel\" class=\"_8-yf5 \" fill=\"#ffffff\" height=\"22\" viewBox=\"0 0 48 48\" width=\"22\"><path d=\"M34.8 29.7V11c0-2.9-2.3-5.2-5.2-5.2H11c-2.9 0-5.2 2.3-5.2 5.2v18.7c0 2.9 2.3 5.2 5.2 5.2h18.7c2.8-.1 5.1-2.4 5.1-5.2zM39.2 15v16.1c0 4.5-3.7 8.2-8.2 8.2H14.9c-.6 0-.9.7-.5 1.1 1 1.1 2.4 1.8 4.1 1.8h13.4c5.7 0 10.3-4.6 10.3-10.3V18.5c0-1.6-.7-3.1-1.8-4.1-.5-.4-1.2 0-1.2.6z\"></path></svg></div></div></a></div><div class=\"v1Nh3 kIKUG  _bz0w\"><a href=\"/p/COiTrJogGGz/\" tabindex=\"0\"><div class=\"eLAPa\"><div class=\"KL4Bh\"><img alt=\"👩‍❤️‍👨😘 #lovelymoments\" class=\"FFVAD\" crossorigin=\"anonymous\" decoding=\"auto\" style=\"object-fit: cover;\" sizes=\"293px\" srcset=\"https://instagram.falg7-2.fna.fbcdn.net/v/t51.2885-15/e35/c180.0.1080.1080a/s150x150/182149723_1336934500021765_5420062849395696429_n.jpg?tp=1&amp;_nc_ht=instagram.falg7-2.fna.fbcdn.net&amp;_nc_cat=1&amp;_nc_ohc=Yu0qQFAMlrEAX80ZXif&amp;edm=APU89FABAAAA&amp;ccb=7-4&amp;oh=df9fa3992aa19b7f48bb7c628191c5ab&amp;oe=60B2C498&amp;_nc_sid=86f79a 150w,https://instagram.falg7-2.fna.fbcdn.net/v/t51.2885-15/e35/c180.0.1080.1080a/s240x240/182149723_1336934500021765_5420062849395696429_n.jpg?tp=1&amp;_nc_ht=instagram.falg7-2.fna.fbcdn.net&amp;_nc_cat=1&amp;_nc_ohc=Yu0qQFAMlrEAX80ZXif&amp;edm=APU89FABAAAA&amp;ccb=7-4&amp;oh=896ba22c3ba28a6f6496d908f12420bf&amp;oe=60B21420&amp;_nc_sid=86f79a 240w,https://instagram.falg7-2.fna.fbcdn.net/v/t51.2885-15/e35/c180.0.1080.1080a/s320x320/182149723_1336934500021765_5420062849395696429_n.jpg?tp=1&amp;_nc_ht=instagram.falg7-2.fna.fbcdn.net&amp;_nc_cat=1&amp;_nc_ohc=Yu0qQFAMlrEAX80ZXif&amp;edm=APU89FABAAAA&amp;ccb=7-4&amp;oh=c9144ddc03ea6f7a0a7e2e337d1ccafd&amp;oe=60B21701&amp;_nc_sid=86f79a 320w,https://instagram.falg7-2.fna.fbcdn.net/v/t51.2885-15/e35/c180.0.1080.1080a/s480x480/182149723_1336934500021765_5420062849395696429_n.jpg?tp=1&amp;_nc_ht=instagram.falg7-2.fna.fbcdn.net&amp;_nc_cat=1&amp;_nc_ohc=Yu0qQFAMlrEAX80ZXif&amp;edm=APU89FABAAAA&amp;ccb=7-4&amp;oh=c5f85b197fd908a73ac6e6782b272884&amp;oe=60B30B03&amp;_nc_sid=86f79a 480w,https://instagram.falg7-2.fna.fbcdn.net/v/t51.2885-15/sh0.08/e35/c180.0.1080.1080a/s640x640/182149723_1336934500021765_5420062849395696429_n.jpg?tp=1&amp;_nc_ht=instagram.falg7-2.fna.fbcdn.net&amp;_nc_cat=1&amp;_nc_ohc=Yu0qQFAMlrEAX80ZXif&amp;edm=APU89FABAAAA&amp;ccb=7-4&amp;oh=219de36f6b2a68811526326814c388d9&amp;oe=60B3EB39&amp;_nc_sid=86f79a 640w\" src=\"https://instagram.falg7-2.fna.fbcdn.net/v/t51.2885-15/sh0.08/e35/c180.0.1080.1080a/s640x640/182149723_1336934500021765_5420062849395696429_n.jpg?tp=1&amp;_nc_ht=instagram.falg7-2.fna.fbcdn.net&amp;_nc_cat=1&amp;_nc_ohc=Yu0qQFAMlrEAX80ZXif&amp;edm=APU89FABAAAA&amp;ccb=7-4&amp;oh=219de36f6b2a68811526326814c388d9&amp;oe=60B3EB39&amp;_nc_sid=86f79a\"></div><div class=\"_9AhH0\"></div></div></a></div>\n",
      "<div class=\"v1Nh3 kIKUG  _bz0w\"><a href=\"/p/COfa0-IglC5/\" tabindex=\"0\"><div class=\"eLAPa\"><div class=\"KL4Bh\"><img alt=\"🤷🏽‍♂️😅 ssssiiiimmmm 💪🏽 #winningteam\" class=\"FFVAD\" crossorigin=\"anonymous\" decoding=\"auto\" style=\"object-fit: cover;\" sizes=\"293px\" srcset=\"https://instagram.falg7-2.fna.fbcdn.net/v/t51.2885-15/e35/c128.0.768.768a/s150x150/181778322_246391893932871_1067905385357081013_n.jpg?tp=1&amp;_nc_ht=instagram.falg7-2.fna.fbcdn.net&amp;_nc_cat=1&amp;_nc_ohc=qHoljhDgsQ8AX8-x49V&amp;edm=APU89FABAAAA&amp;ccb=7-4&amp;oh=ae5b9213ce9ac75a44259a571a2ed15d&amp;oe=60B22C05&amp;_nc_sid=86f79a 150w,https://instagram.falg7-2.fna.fbcdn.net/v/t51.2885-15/e35/c128.0.768.768a/s240x240/181778322_246391893932871_1067905385357081013_n.jpg?tp=1&amp;_nc_ht=instagram.falg7-2.fna.fbcdn.net&amp;_nc_cat=1&amp;_nc_ohc=qHoljhDgsQ8AX8-x49V&amp;edm=APU89FABAAAA&amp;ccb=7-4&amp;oh=f5b306898b8fbf82511efcc61dd72d72&amp;oe=60B21503&amp;_nc_sid=86f79a 240w,https://instagram.falg7-2.fna.fbcdn.net/v/t51.2885-15/e35/c128.0.768.768a/s320x320/181778322_246391893932871_1067905385357081013_n.jpg?tp=1&amp;_nc_ht=instagram.falg7-2.fna.fbcdn.net&amp;_nc_cat=1&amp;_nc_ohc=qHoljhDgsQ8AX8-x49V&amp;edm=APU89FABAAAA&amp;ccb=7-4&amp;oh=1a831fc56030132c18d1f2e019719aa6&amp;oe=60B2217D&amp;_nc_sid=86f79a 320w,https://instagram.falg7-2.fna.fbcdn.net/v/t51.2885-15/e35/c128.0.768.768a/s480x480/181778322_246391893932871_1067905385357081013_n.jpg?tp=1&amp;_nc_ht=instagram.falg7-2.fna.fbcdn.net&amp;_nc_cat=1&amp;_nc_ohc=qHoljhDgsQ8AX8-x49V&amp;edm=APU89FABAAAA&amp;ccb=7-4&amp;oh=a936def022b7f2d841315fa688a7ef23&amp;oe=60B251FC&amp;_nc_sid=86f79a 480w,https://instagram.falg7-2.fna.fbcdn.net/v/t51.2885-15/sh0.08/e35/c128.0.768.768a/s640x640/181778322_246391893932871_1067905385357081013_n.jpg?tp=1&amp;_nc_ht=instagram.falg7-2.fna.fbcdn.net&amp;_nc_cat=1&amp;_nc_ohc=qHoljhDgsQ8AX8-x49V&amp;edm=APU89FABAAAA&amp;ccb=7-4&amp;oh=459264318a37a9880700dbe891bc3a58&amp;oe=60B21C44&amp;_nc_sid=86f79a 640w\" src=\"https://instagram.falg7-2.fna.fbcdn.net/v/t51.2885-15/sh0.08/e35/c128.0.768.768a/s640x640/181778322_246391893932871_1067905385357081013_n.jpg?tp=1&amp;_nc_ht=instagram.falg7-2.fna.fbcdn.net&amp;_nc_cat=1&amp;_nc_ohc=qHoljhDgsQ8AX8-x49V&amp;edm=APU89FABAAAA&amp;ccb=7-4&amp;oh=459264318a37a9880700dbe891bc3a58&amp;oe=60B21C44&amp;_nc_sid=86f79a\"></div><div class=\"_9AhH0\"></div></div></a></div><div class=\"v1Nh3 kIKUG  _bz0w\"><a href=\"/p/COYjLgjAhWa/\" tabindex=\"0\"><div class=\"eLAPa\"><div class=\"KL4Bh\"><img alt=\"Grandi ragazzi, 3 punti importantissimi !👏🏽💪🏽\n",
      "\n",
      "⚽️⚽️ Buona Notte 😉 #finoallafine\" class=\"FFVAD\" crossorigin=\"anonymous\" decoding=\"auto\" style=\"object-fit: cover;\" sizes=\"293px\" srcset=\"https://instagram.falg7-2.fna.fbcdn.net/v/t51.2885-15/e35/c149.0.1142.1142a/s150x150/180125860_259387992536645_4706890032842264586_n.jpg?tp=1&amp;_nc_ht=instagram.falg7-2.fna.fbcdn.net&amp;_nc_cat=1&amp;_nc_ohc=iw4paKA9rOYAX-f3hCA&amp;edm=APU89FABAAAA&amp;ccb=7-4&amp;oh=ed6f57c745c4d98835a12659bcd35ff7&amp;oe=60B29DBF&amp;_nc_sid=86f79a 150w,https://instagram.falg7-2.fna.fbcdn.net/v/t51.2885-15/e35/c149.0.1142.1142a/s240x240/180125860_259387992536645_4706890032842264586_n.jpg?tp=1&amp;_nc_ht=instagram.falg7-2.fna.fbcdn.net&amp;_nc_cat=1&amp;_nc_ohc=iw4paKA9rOYAX-f3hCA&amp;edm=APU89FABAAAA&amp;ccb=7-4&amp;oh=3536bfd3cfd9dc853b6baa409f1d628c&amp;oe=60B31CB9&amp;_nc_sid=86f79a 240w,https://instagram.falg7-2.fna.fbcdn.net/v/t51.2885-15/e35/c149.0.1142.1142a/s320x320/180125860_259387992536645_4706890032842264586_n.jpg?tp=1&amp;_nc_ht=instagram.falg7-2.fna.fbcdn.net&amp;_nc_cat=1&amp;_nc_ohc=iw4paKA9rOYAX-f3hCA&amp;edm=APU89FABAAAA&amp;ccb=7-4&amp;oh=8b9eea851e5636a5d68127d81ab28eb2&amp;oe=60B31987&amp;_nc_sid=86f79a 320w,https://instagram.falg7-2.fna.fbcdn.net/v/t51.2885-15/e35/c149.0.1142.1142a/s480x480/180125860_259387992536645_4706890032842264586_n.jpg?tp=1&amp;_nc_ht=instagram.falg7-2.fna.fbcdn.net&amp;_nc_cat=1&amp;_nc_ohc=iw4paKA9rOYAX-f3hCA&amp;edm=APU89FABAAAA&amp;ccb=7-4&amp;oh=5d26ff0107338521484ee7f8ba452a4e&amp;oe=60B39742&amp;_nc_sid=86f79a 480w,https://instagram.falg7-2.fna.fbcdn.net/v/t51.2885-15/sh0.08/e35/c149.0.1142.1142a/s640x640/180125860_259387992536645_4706890032842264586_n.jpg?tp=1&amp;_nc_ht=instagram.falg7-2.fna.fbcdn.net&amp;_nc_cat=1&amp;_nc_ohc=iw4paKA9rOYAX-f3hCA&amp;edm=APU89FABAAAA&amp;ccb=7-4&amp;oh=3170b68d78d4ad784684c20664e43ea7&amp;oe=60B3704F&amp;_nc_sid=86f79a 640w\" src=\"https://instagram.falg7-2.fna.fbcdn.net/v/t51.2885-15/sh0.08/e35/c149.0.1142.1142a/s640x640/180125860_259387992536645_4706890032842264586_n.jpg?tp=1&amp;_nc_ht=instagram.falg7-2.fna.fbcdn.net&amp;_nc_cat=1&amp;_nc_ohc=iw4paKA9rOYAX-f3hCA&amp;edm=APU89FABAAAA&amp;ccb=7-4&amp;oh=3170b68d78d4ad784684c20664e43ea7&amp;oe=60B3704F&amp;_nc_sid=86f79a\"></div><div class=\"_9AhH0\"></div></div><div class=\"u7YqG\"><div class=\"                     Igw0E     IwRSH      eGOV_         _4EzTm    bkEs3                  soMvl                  JI_ht                  DhRcB                                                    \"><svg aria-label=\"Carousel\" class=\"_8-yf5 \" fill=\"#ffffff\" height=\"22\" viewBox=\"0 0 48 48\" width=\"22\"><path d=\"M34.8 29.7V11c0-2.9-2.3-5.2-5.2-5.2H11c-2.9 0-5.2 2.3-5.2 5.2v18.7c0 2.9 2.3 5.2 5.2 5.2h18.7c2.8-.1 5.1-2.4 5.1-5.2zM39.2 15v16.1c0 4.5-3.7 8.2-8.2 8.2H14.9c-.6 0-.9.7-.5 1.1 1 1.1 2.4 1.8 4.1 1.8h13.4c5.7 0 10.3-4.6 10.3-10.3V18.5c0-1.6-.7-3.1-1.8-4.1-.5-.4-1.2 0-1.2.6z\"></path></svg></div></div></a></div><div class=\"v1Nh3 kIKUG  _bz0w\"><a href=\"/p/COSsDD3AF4i/\" tabindex=\"0\"><div class=\"eLAPa\"><div class=\"KL4Bh\"><img alt=\"🏃🏻‍♂️💨💪🏽 #finoallafine\" class=\"FFVAD\" crossorigin=\"anonymous\" decoding=\"auto\" style=\"object-fit: cover;\" sizes=\"293px\" srcset=\"https://instagram.falg7-2.fna.fbcdn.net/v/t51.2885-15/e35/c58.0.899.899a/s150x150/179153258_325594092256059_4329427722056522370_n.jpg?tp=1&amp;_nc_ht=instagram.falg7-2.fna.fbcdn.net&amp;_nc_cat=1&amp;_nc_ohc=tgXDovssN4cAX-UEcQa&amp;edm=APU89FABAAAA&amp;ccb=7-4&amp;oh=04639edf008dd1672b3fa0145d314c35&amp;oe=60B399F9&amp;_nc_sid=86f79a 150w,https://instagram.falg7-2.fna.fbcdn.net/v/t51.2885-15/e35/c58.0.899.899a/s240x240/179153258_325594092256059_4329427722056522370_n.jpg?tp=1&amp;_nc_ht=instagram.falg7-2.fna.fbcdn.net&amp;_nc_cat=1&amp;_nc_ohc=tgXDovssN4cAX-UEcQa&amp;edm=APU89FABAAAA&amp;ccb=7-4&amp;oh=5d91df9d6d5120bfe7730a9cbea7be6f&amp;oe=60B2BD3F&amp;_nc_sid=86f79a 240w,https://instagram.falg7-2.fna.fbcdn.net/v/t51.2885-15/e35/c58.0.899.899a/s320x320/179153258_325594092256059_4329427722056522370_n.jpg?tp=1&amp;_nc_ht=instagram.falg7-2.fna.fbcdn.net&amp;_nc_cat=1&amp;_nc_ohc=tgXDovssN4cAX-UEcQa&amp;edm=APU89FABAAAA&amp;ccb=7-4&amp;oh=0327a66ffa70d4e2e2247bc6b96fe1ee&amp;oe=60B37B41&amp;_nc_sid=86f79a 320w,https://instagram.falg7-2.fna.fbcdn.net/v/t51.2885-15/e35/c58.0.899.899a/s480x480/179153258_325594092256059_4329427722056522370_n.jpg?tp=1&amp;_nc_ht=instagram.falg7-2.fna.fbcdn.net&amp;_nc_cat=1&amp;_nc_ohc=tgXDovssN4cAX-UEcQa&amp;edm=APU89FABAAAA&amp;ccb=7-4&amp;oh=b31680f26eac28a980280c911887d7b7&amp;oe=60B2F7C8&amp;_nc_sid=86f79a 480w,https://instagram.falg7-2.fna.fbcdn.net/v/t51.2885-15/sh0.08/e35/c58.0.899.899a/s640x640/179153258_325594092256059_4329427722056522370_n.jpg?tp=1&amp;_nc_ht=instagram.falg7-2.fna.fbcdn.net&amp;_nc_cat=1&amp;_nc_ohc=tgXDovssN4cAX-UEcQa&amp;edm=APU89FABAAAA&amp;ccb=7-4&amp;oh=ae9c342241697ef868077550e5abb875&amp;oe=60B2410D&amp;_nc_sid=86f79a 640w\" src=\"https://instagram.falg7-2.fna.fbcdn.net/v/t51.2885-15/sh0.08/e35/c58.0.899.899a/s640x640/179153258_325594092256059_4329427722056522370_n.jpg?tp=1&amp;_nc_ht=instagram.falg7-2.fna.fbcdn.net&amp;_nc_cat=1&amp;_nc_ohc=tgXDovssN4cAX-UEcQa&amp;edm=APU89FABAAAA&amp;ccb=7-4&amp;oh=ae9c342241697ef868077550e5abb875&amp;oe=60B2410D&amp;_nc_sid=86f79a\"></div><div class=\"_9AhH0\"></div></div></a></div>\n",
      "<div class=\"v1Nh3 kIKUG  _bz0w\"><a href=\"/p/COKhn8wAss5/\" tabindex=\"0\"><div class=\"eLAPa\"><div class=\"KL4Bh\"><img alt=\"El éxito ocurre cuando tus sueños son más grandes que tus excusas. 😉💪🏽\" class=\"FFVAD\" crossorigin=\"anonymous\" decoding=\"auto\" style=\"object-fit: cover;\" sizes=\"293px\" srcset=\"https://instagram.falg7-2.fna.fbcdn.net/v/t51.2885-15/e35/c0.170.1440.1440a/s150x150/178727643_616475436418163_7366696148809534724_n.jpg?tp=1&amp;_nc_ht=instagram.falg7-2.fna.fbcdn.net&amp;_nc_cat=1&amp;_nc_ohc=fBRq60JtpG4AX-maG-3&amp;edm=APU89FABAAAA&amp;ccb=7-4&amp;oh=bd364b7eddc74bef1cee761499992f61&amp;oe=60B3E696&amp;_nc_sid=86f79a 150w,https://instagram.falg7-2.fna.fbcdn.net/v/t51.2885-15/e35/c0.170.1440.1440a/s240x240/178727643_616475436418163_7366696148809534724_n.jpg?tp=1&amp;_nc_ht=instagram.falg7-2.fna.fbcdn.net&amp;_nc_cat=1&amp;_nc_ohc=fBRq60JtpG4AX-maG-3&amp;edm=APU89FABAAAA&amp;ccb=7-4&amp;oh=d13b23f2e508f5412008bc3908aa3fbc&amp;oe=60B3F494&amp;_nc_sid=86f79a 240w,https://instagram.falg7-2.fna.fbcdn.net/v/t51.2885-15/e35/c0.170.1440.1440a/s320x320/178727643_616475436418163_7366696148809534724_n.jpg?tp=1&amp;_nc_ht=instagram.falg7-2.fna.fbcdn.net&amp;_nc_cat=1&amp;_nc_ohc=fBRq60JtpG4AX-maG-3&amp;edm=APU89FABAAAA&amp;ccb=7-4&amp;oh=a760ac9e2c38703e6449a89378d31311&amp;oe=60B302AE&amp;_nc_sid=86f79a 320w,https://instagram.falg7-2.fna.fbcdn.net/v/t51.2885-15/e35/c0.170.1440.1440a/s480x480/178727643_616475436418163_7366696148809534724_n.jpg?tp=1&amp;_nc_ht=instagram.falg7-2.fna.fbcdn.net&amp;_nc_cat=1&amp;_nc_ohc=fBRq60JtpG4AX-maG-3&amp;edm=APU89FABAAAA&amp;ccb=7-4&amp;oh=c70bb9399e2f232b05e82b6044def3e0&amp;oe=60B3076B&amp;_nc_sid=86f79a 480w,https://instagram.falg7-2.fna.fbcdn.net/v/t51.2885-15/sh0.08/e35/c0.170.1440.1440a/s640x640/178727643_616475436418163_7366696148809534724_n.jpg?tp=1&amp;_nc_ht=instagram.falg7-2.fna.fbcdn.net&amp;_nc_cat=1&amp;_nc_ohc=fBRq60JtpG4AX-maG-3&amp;edm=APU89FABAAAA&amp;ccb=7-4&amp;oh=191b40cf6a065665fb229ce45a66e837&amp;oe=60B299E6&amp;_nc_sid=86f79a 640w\" src=\"https://instagram.falg7-2.fna.fbcdn.net/v/t51.2885-15/sh0.08/e35/c0.170.1440.1440a/s640x640/178727643_616475436418163_7366696148809534724_n.jpg?tp=1&amp;_nc_ht=instagram.falg7-2.fna.fbcdn.net&amp;_nc_cat=1&amp;_nc_ohc=fBRq60JtpG4AX-maG-3&amp;edm=APU89FABAAAA&amp;ccb=7-4&amp;oh=191b40cf6a065665fb229ce45a66e837&amp;oe=60B299E6&amp;_nc_sid=86f79a\"></div><div class=\"_9AhH0\"></div></div></a></div><div class=\"v1Nh3 kIKUG  _bz0w\"><a href=\"/p/COAUqeUKK4U/\" tabindex=\"0\"><div class=\"eLAPa\"><div class=\"KL4Bh\"><img alt=\"Start the day empowering yourself in the most comfortable way possible. #cr7underwear\" class=\"FFVAD\" crossorigin=\"anonymous\" decoding=\"auto\" style=\"object-fit: cover;\" sizes=\"293px\" srcset=\"https://instagram.falg7-2.fna.fbcdn.net/v/t51.2885-15/e15/c0.0.1080.1080a/s150x150/176043092_323546539165887_4717256049592627045_n.jpg?tp=1&amp;_nc_ht=instagram.falg7-2.fna.fbcdn.net&amp;_nc_cat=1&amp;_nc_ohc=fsoGVdxs2A8AX8QWepO&amp;edm=APU89FABAAAA&amp;ccb=7-4&amp;oh=d0faaa0e0b96fca14c42e323e66f13a2&amp;oe=60B2F9F6&amp;_nc_sid=86f79a 150w,https://instagram.falg7-2.fna.fbcdn.net/v/t51.2885-15/e15/c0.0.1080.1080a/s240x240/176043092_323546539165887_4717256049592627045_n.jpg?tp=1&amp;_nc_ht=instagram.falg7-2.fna.fbcdn.net&amp;_nc_cat=1&amp;_nc_ohc=fsoGVdxs2A8AX8QWepO&amp;edm=APU89FABAAAA&amp;ccb=7-4&amp;oh=e886e231592e0a01782800081e5b847a&amp;oe=60B2D174&amp;_nc_sid=86f79a 240w,https://instagram.falg7-2.fna.fbcdn.net/v/t51.2885-15/e15/c0.0.1080.1080a/s320x320/176043092_323546539165887_4717256049592627045_n.jpg?tp=1&amp;_nc_ht=instagram.falg7-2.fna.fbcdn.net&amp;_nc_cat=1&amp;_nc_ohc=fsoGVdxs2A8AX8QWepO&amp;edm=APU89FABAAAA&amp;ccb=7-4&amp;oh=cef349a8f859ab2ac37a702b58ee2be3&amp;oe=60B3674E&amp;_nc_sid=86f79a 320w,https://instagram.falg7-2.fna.fbcdn.net/v/t51.2885-15/e15/c0.0.1080.1080a/s480x480/176043092_323546539165887_4717256049592627045_n.jpg?tp=1&amp;_nc_ht=instagram.falg7-2.fna.fbcdn.net&amp;_nc_cat=1&amp;_nc_ohc=fsoGVdxs2A8AX8QWepO&amp;edm=APU89FABAAAA&amp;ccb=7-4&amp;oh=9c7d9863511525cf97b94aa1f549f6b9&amp;oe=60B2104B&amp;_nc_sid=86f79a 480w,https://instagram.falg7-2.fna.fbcdn.net/v/t51.2885-15/sh0.08/e35/c0.0.1080.1080a/s640x640/176043092_323546539165887_4717256049592627045_n.jpg?tp=1&amp;_nc_ht=instagram.falg7-2.fna.fbcdn.net&amp;_nc_cat=1&amp;_nc_ohc=fsoGVdxs2A8AX8QWepO&amp;edm=APU89FABAAAA&amp;ccb=7-4&amp;oh=a4981887547f78c261266f7a91bcf9cc&amp;oe=60B2B2D1&amp;_nc_sid=86f79a 640w\" src=\"https://instagram.falg7-2.fna.fbcdn.net/v/t51.2885-15/sh0.08/e35/c0.0.1080.1080a/s640x640/176043092_323546539165887_4717256049592627045_n.jpg?tp=1&amp;_nc_ht=instagram.falg7-2.fna.fbcdn.net&amp;_nc_cat=1&amp;_nc_ohc=fsoGVdxs2A8AX8QWepO&amp;edm=APU89FABAAAA&amp;ccb=7-4&amp;oh=a4981887547f78c261266f7a91bcf9cc&amp;oe=60B2B2D1&amp;_nc_sid=86f79a\"></div><div class=\"_9AhH0\"></div></div></a></div><div class=\"v1Nh3 kIKUG  _bz0w\"><a href=\"/p/CN8XdS1gTqS/\" tabindex=\"0\"><div class=\"eLAPa\"><div class=\"KL4Bh\"><img alt=\"Obiettivo raggiunto! Avanti cosi💪🏽👊🏽 #finoallafine\" class=\"FFVAD\" crossorigin=\"anonymous\" decoding=\"auto\" style=\"object-fit: cover;\" sizes=\"293px\" srcset=\"https://instagram.falg7-2.fna.fbcdn.net/v/t51.2885-15/e35/c142.0.1156.1156a/s150x150/175999095_1030104157811379_5718078551434773549_n.jpg?tp=1&amp;_nc_ht=instagram.falg7-2.fna.fbcdn.net&amp;_nc_cat=1&amp;_nc_ohc=f-GSXaXHECIAX_9Yn3X&amp;edm=APU89FABAAAA&amp;ccb=7-4&amp;oh=5a4854961799451f8f8e5972d16db465&amp;oe=60B3C59C&amp;_nc_sid=86f79a 150w,https://instagram.falg7-2.fna.fbcdn.net/v/t51.2885-15/e35/c142.0.1156.1156a/s240x240/175999095_1030104157811379_5718078551434773549_n.jpg?tp=1&amp;_nc_ht=instagram.falg7-2.fna.fbcdn.net&amp;_nc_cat=1&amp;_nc_ohc=f-GSXaXHECIAX_9Yn3X&amp;edm=APU89FABAAAA&amp;ccb=7-4&amp;oh=301ad2b741b82c62b950133a4fd3a7ff&amp;oe=60B292D4&amp;_nc_sid=86f79a 240w,https://instagram.falg7-2.fna.fbcdn.net/v/t51.2885-15/e35/c142.0.1156.1156a/s320x320/175999095_1030104157811379_5718078551434773549_n.jpg?tp=1&amp;_nc_ht=instagram.falg7-2.fna.fbcdn.net&amp;_nc_cat=1&amp;_nc_ohc=f-GSXaXHECIAX_9Yn3X&amp;edm=APU89FABAAAA&amp;ccb=7-4&amp;oh=cd42c101e6abaf4037bc591a7e83c49b&amp;oe=60B2270D&amp;_nc_sid=86f79a 320w,https://instagram.falg7-2.fna.fbcdn.net/v/t51.2885-15/e35/c142.0.1156.1156a/s480x480/175999095_1030104157811379_5718078551434773549_n.jpg?tp=1&amp;_nc_ht=instagram.falg7-2.fna.fbcdn.net&amp;_nc_cat=1&amp;_nc_ohc=f-GSXaXHECIAX_9Yn3X&amp;edm=APU89FABAAAA&amp;ccb=7-4&amp;oh=b634a6d58c2c874c761de6af92e2932c&amp;oe=60B3AB4F&amp;_nc_sid=86f79a 480w,https://instagram.falg7-2.fna.fbcdn.net/v/t51.2885-15/sh0.08/e35/c142.0.1156.1156a/s640x640/175999095_1030104157811379_5718078551434773549_n.jpg?tp=1&amp;_nc_ht=instagram.falg7-2.fna.fbcdn.net&amp;_nc_cat=1&amp;_nc_ohc=f-GSXaXHECIAX_9Yn3X&amp;edm=APU89FABAAAA&amp;ccb=7-4&amp;oh=c295a41b228f7cde9ceb0e757b2343b0&amp;oe=60B3D2B5&amp;_nc_sid=86f79a 640w\" src=\"https://instagram.falg7-2.fna.fbcdn.net/v/t51.2885-15/sh0.08/e35/c142.0.1156.1156a/s640x640/175999095_1030104157811379_5718078551434773549_n.jpg?tp=1&amp;_nc_ht=instagram.falg7-2.fna.fbcdn.net&amp;_nc_cat=1&amp;_nc_ohc=f-GSXaXHECIAX_9Yn3X&amp;edm=APU89FABAAAA&amp;ccb=7-4&amp;oh=c295a41b228f7cde9ceb0e757b2343b0&amp;oe=60B3D2B5&amp;_nc_sid=86f79a\"></div><div class=\"_9AhH0\"></div></div></a></div>\n",
      "<div class=\"v1Nh3 kIKUG  _bz0w\"><a href=\"/p/CN2cF1rgWX7/\" tabindex=\"0\"><div class=\"eLAPa\"><div class=\"KL4Bh\"><img alt=\"🏳️🏴 #workdone #keepfighting\" class=\"FFVAD\" crossorigin=\"anonymous\" decoding=\"auto\" style=\"object-fit: cover;\" sizes=\"293px\" srcset=\"https://instagram.falg7-2.fna.fbcdn.net/v/t51.2885-15/e35/s150x150/174633434_475314940410927_6088128052382806707_n.jpg?tp=1&amp;_nc_ht=instagram.falg7-2.fna.fbcdn.net&amp;_nc_cat=1&amp;_nc_ohc=Pe44Gp3W6VgAX_zV7_7&amp;edm=APU89FABAAAA&amp;ccb=7-4&amp;oh=b66f4eda117ec95e0d5200f8a66a8f42&amp;oe=60B28023&amp;_nc_sid=86f79a 150w,https://instagram.falg7-2.fna.fbcdn.net/v/t51.2885-15/e35/s240x240/174633434_475314940410927_6088128052382806707_n.jpg?tp=1&amp;_nc_ht=instagram.falg7-2.fna.fbcdn.net&amp;_nc_cat=1&amp;_nc_ohc=Pe44Gp3W6VgAX_zV7_7&amp;edm=APU89FABAAAA&amp;ccb=7-4&amp;oh=843e7e9e805a6f64e03a9e675b4c3f21&amp;oe=60B3F5E5&amp;_nc_sid=86f79a 240w,https://instagram.falg7-2.fna.fbcdn.net/v/t51.2885-15/e35/s320x320/174633434_475314940410927_6088128052382806707_n.jpg?tp=1&amp;_nc_ht=instagram.falg7-2.fna.fbcdn.net&amp;_nc_cat=1&amp;_nc_ohc=Pe44Gp3W6VgAX_zV7_7&amp;edm=APU89FABAAAA&amp;ccb=7-4&amp;oh=2ff6d6590b46732b8cd890896ab6f57f&amp;oe=60B2749B&amp;_nc_sid=86f79a 320w,https://instagram.falg7-2.fna.fbcdn.net/v/t51.2885-15/e35/s480x480/174633434_475314940410927_6088128052382806707_n.jpg?tp=1&amp;_nc_ht=instagram.falg7-2.fna.fbcdn.net&amp;_nc_cat=1&amp;_nc_ohc=Pe44Gp3W6VgAX_zV7_7&amp;edm=APU89FABAAAA&amp;ccb=7-4&amp;oh=de1a24bd101839b98b27bbed2beb02cc&amp;oe=60B3B15E&amp;_nc_sid=86f79a 480w,https://instagram.falg7-2.fna.fbcdn.net/v/t51.2885-15/sh0.08/e35/s640x640/174633434_475314940410927_6088128052382806707_n.jpg?tp=1&amp;_nc_ht=instagram.falg7-2.fna.fbcdn.net&amp;_nc_cat=1&amp;_nc_ohc=Pe44Gp3W6VgAX_zV7_7&amp;edm=APU89FABAAAA&amp;ccb=7-4&amp;oh=1e2e25ff6ad3e83fa855ee49088ba4be&amp;oe=60B2FA68&amp;_nc_sid=86f79a 640w\" src=\"https://instagram.falg7-2.fna.fbcdn.net/v/t51.2885-15/sh0.08/e35/s640x640/174633434_475314940410927_6088128052382806707_n.jpg?tp=1&amp;_nc_ht=instagram.falg7-2.fna.fbcdn.net&amp;_nc_cat=1&amp;_nc_ohc=Pe44Gp3W6VgAX_zV7_7&amp;edm=APU89FABAAAA&amp;ccb=7-4&amp;oh=1e2e25ff6ad3e83fa855ee49088ba4be&amp;oe=60B2FA68&amp;_nc_sid=86f79a\"></div><div class=\"_9AhH0\"></div></div></a></div><div class=\"v1Nh3 kIKUG  _bz0w\"><a href=\"/p/CNsiSOlpccF/\" tabindex=\"0\"><div class=\"eLAPa\"><div class=\"KL4Bh\"><img class=\"FFVAD\" crossorigin=\"anonymous\" decoding=\"auto\" style=\"object-fit: cover;\" sizes=\"293px\" srcset=\"https://instagram.falg7-2.fna.fbcdn.net/v/t51.2885-15/e35/c157.0.405.405a/s150x150/173278786_513374886342694_8193338709595113146_n.jpg?tp=1&amp;_nc_ht=instagram.falg7-2.fna.fbcdn.net&amp;_nc_cat=1&amp;_nc_ohc=kf5NFyXTPZwAX8VPYUW&amp;edm=APU89FABAAAA&amp;ccb=7-4&amp;oh=a1a3b45c72728feb91855a90004fed2b&amp;oe=60AE8E7E&amp;_nc_sid=86f79a 150w,https://instagram.falg7-2.fna.fbcdn.net/v/t51.2885-15/e35/c157.0.405.405a/s240x240/173278786_513374886342694_8193338709595113146_n.jpg?tp=1&amp;_nc_ht=instagram.falg7-2.fna.fbcdn.net&amp;_nc_cat=1&amp;_nc_ohc=kf5NFyXTPZwAX8VPYUW&amp;edm=APU89FABAAAA&amp;ccb=7-4&amp;oh=0945fb428598d2e9223c192af494da5a&amp;oe=60AE663C&amp;_nc_sid=86f79a 240w,https://instagram.falg7-2.fna.fbcdn.net/v/t51.2885-15/e35/c157.0.405.405a/s320x320/173278786_513374886342694_8193338709595113146_n.jpg?tp=1&amp;_nc_ht=instagram.falg7-2.fna.fbcdn.net&amp;_nc_cat=1&amp;_nc_ohc=kf5NFyXTPZwAX8VPYUW&amp;edm=APU89FABAAAA&amp;ccb=7-4&amp;oh=1afdbec54e89c1fe4350c1428031e525&amp;oe=60AEB7C6&amp;_nc_sid=86f79a 320w,https://instagram.falg7-2.fna.fbcdn.net/v/t51.2885-15/e35/c157.0.405.405a/173278786_513374886342694_8193338709595113146_n.jpg?tp=1&amp;_nc_ht=instagram.falg7-2.fna.fbcdn.net&amp;_nc_cat=1&amp;_nc_ohc=kf5NFyXTPZwAX8VPYUW&amp;edm=APU89FABAAAA&amp;ccb=7-4&amp;oh=df2bf359dc9e8f7bcab07fa0133cdf9f&amp;oe=60AE5A0D&amp;_nc_sid=86f79a 480w,https://instagram.falg7-2.fna.fbcdn.net/v/t51.2885-15/e35/c157.0.405.405a/173278786_513374886342694_8193338709595113146_n.jpg?tp=1&amp;_nc_ht=instagram.falg7-2.fna.fbcdn.net&amp;_nc_cat=1&amp;_nc_ohc=kf5NFyXTPZwAX8VPYUW&amp;edm=APU89FABAAAA&amp;ccb=7-4&amp;oh=df2bf359dc9e8f7bcab07fa0133cdf9f&amp;oe=60AE5A0D&amp;_nc_sid=86f79a 640w\" src=\"https://instagram.falg7-2.fna.fbcdn.net/v/t51.2885-15/e35/c157.0.405.405a/173278786_513374886342694_8193338709595113146_n.jpg?tp=1&amp;_nc_ht=instagram.falg7-2.fna.fbcdn.net&amp;_nc_cat=1&amp;_nc_ohc=kf5NFyXTPZwAX8VPYUW&amp;edm=APU89FABAAAA&amp;ccb=7-4&amp;oh=df2bf359dc9e8f7bcab07fa0133cdf9f&amp;oe=60AE5A0D&amp;_nc_sid=86f79a\"></div><div class=\"_9AhH0\"></div></div><div class=\"u7YqG\"><div class=\"                     Igw0E     IwRSH      eGOV_         _4EzTm    bkEs3                  soMvl                  JI_ht                  DhRcB                                                    \"><svg aria-label=\"Video\" class=\"_8-yf5 \" fill=\"#ffffff\" height=\"18\" viewBox=\"0 0 48 48\" width=\"18\"><path d=\"M9.6 46.5c-1 0-2-.3-2.9-.8-1.8-1.1-2.9-2.9-2.9-5.1V7.3c0-2.1 1.1-4 2.9-5.1 1.9-1.1 4.1-1.1 5.9 0l30.1 17.6c1.5.9 2.3 2.4 2.3 4.1 0 1.7-.9 3.2-2.3 4.1L12.6 45.7c-.9.5-2 .8-3 .8z\"></path></svg></div></div></a></div><div class=\"v1Nh3 kIKUG  _bz0w\"><a href=\"/p/CNsSZPtAuQR/\" tabindex=\"0\"><div class=\"eLAPa\"><div class=\"KL4Bh\"><img alt=\"Free your mind!😉\" class=\"FFVAD\" crossorigin=\"anonymous\" decoding=\"auto\" style=\"object-fit: cover;\" sizes=\"293px\" srcset=\"https://instagram.falg7-2.fna.fbcdn.net/v/t51.2885-15/e35/c0.180.1440.1440a/s150x150/173487143_181423830380492_4923933669159253052_n.jpg?tp=1&amp;_nc_ht=instagram.falg7-2.fna.fbcdn.net&amp;_nc_cat=1&amp;_nc_ohc=oDwP-B1CTqsAX-x48Sx&amp;edm=APU89FABAAAA&amp;ccb=7-4&amp;oh=95e25f6d1d3f7c1ebdb61b2a20e445e3&amp;oe=60B28967&amp;_nc_sid=86f79a 150w,https://instagram.falg7-2.fna.fbcdn.net/v/t51.2885-15/e35/c0.180.1440.1440a/s240x240/173487143_181423830380492_4923933669159253052_n.jpg?tp=1&amp;_nc_ht=instagram.falg7-2.fna.fbcdn.net&amp;_nc_cat=1&amp;_nc_ohc=oDwP-B1CTqsAX-x48Sx&amp;edm=APU89FABAAAA&amp;ccb=7-4&amp;oh=17641c9e09f7b752bc48719462f127d3&amp;oe=60B3B5E1&amp;_nc_sid=86f79a 240w,https://instagram.falg7-2.fna.fbcdn.net/v/t51.2885-15/e35/c0.180.1440.1440a/s320x320/173487143_181423830380492_4923933669159253052_n.jpg?tp=1&amp;_nc_ht=instagram.falg7-2.fna.fbcdn.net&amp;_nc_cat=1&amp;_nc_ohc=oDwP-B1CTqsAX-x48Sx&amp;edm=APU89FABAAAA&amp;ccb=7-4&amp;oh=af0c2f03a619a9102f4d0d19f0992827&amp;oe=60B3805F&amp;_nc_sid=86f79a 320w,https://instagram.falg7-2.fna.fbcdn.net/v/t51.2885-15/e35/c0.180.1440.1440a/s480x480/173487143_181423830380492_4923933669159253052_n.jpg?tp=1&amp;_nc_ht=instagram.falg7-2.fna.fbcdn.net&amp;_nc_cat=1&amp;_nc_ohc=oDwP-B1CTqsAX-x48Sx&amp;edm=APU89FABAAAA&amp;ccb=7-4&amp;oh=48eb599c7b156b2421afe5435fee9611&amp;oe=60B2C11A&amp;_nc_sid=86f79a 480w,https://instagram.falg7-2.fna.fbcdn.net/v/t51.2885-15/sh0.08/e35/c0.180.1440.1440a/s640x640/173487143_181423830380492_4923933669159253052_n.jpg?tp=1&amp;_nc_ht=instagram.falg7-2.fna.fbcdn.net&amp;_nc_cat=1&amp;_nc_ohc=oDwP-B1CTqsAX-x48Sx&amp;edm=APU89FABAAAA&amp;ccb=7-4&amp;oh=4e3c6fe258d2b6c722518d63ab54876b&amp;oe=60B312D7&amp;_nc_sid=86f79a 640w\" src=\"https://instagram.falg7-2.fna.fbcdn.net/v/t51.2885-15/sh0.08/e35/c0.180.1440.1440a/s640x640/173487143_181423830380492_4923933669159253052_n.jpg?tp=1&amp;_nc_ht=instagram.falg7-2.fna.fbcdn.net&amp;_nc_cat=1&amp;_nc_ohc=oDwP-B1CTqsAX-x48Sx&amp;edm=APU89FABAAAA&amp;ccb=7-4&amp;oh=4e3c6fe258d2b6c722518d63ab54876b&amp;oe=60B312D7&amp;_nc_sid=86f79a\"></div><div class=\"_9AhH0\"></div></div></a></div>\n",
      "<div class=\"v1Nh3 kIKUG  _bz0w\"><a href=\"/p/CNkAc_QgjdU/\" tabindex=\"0\"><div class=\"eLAPa\"><div class=\"KL4Bh\"><img alt=\"Work done! 💪🏽😘\" class=\"FFVAD\" crossorigin=\"anonymous\" decoding=\"auto\" style=\"object-fit: cover;\" sizes=\"293px\" srcset=\"https://instagram.falg7-2.fna.fbcdn.net/v/t51.2885-15/e35/s150x150/172138014_201753944783841_6972004931353139792_n.jpg?tp=1&amp;_nc_ht=instagram.falg7-2.fna.fbcdn.net&amp;_nc_cat=1&amp;_nc_ohc=ASeJqShPx_UAX8mbNA6&amp;edm=APU89FABAAAA&amp;ccb=7-4&amp;oh=e2f34d708e9925e22f64093d27ffb6f1&amp;oe=60B2EF10&amp;_nc_sid=86f79a 150w,https://instagram.falg7-2.fna.fbcdn.net/v/t51.2885-15/e35/s240x240/172138014_201753944783841_6972004931353139792_n.jpg?tp=1&amp;_nc_ht=instagram.falg7-2.fna.fbcdn.net&amp;_nc_cat=1&amp;_nc_ohc=ASeJqShPx_UAX8mbNA6&amp;edm=APU89FABAAAA&amp;ccb=7-4&amp;oh=dc3bf64f5dc628f4fb839d6d23bddb18&amp;oe=60B2278A&amp;_nc_sid=86f79a 240w,https://instagram.falg7-2.fna.fbcdn.net/v/t51.2885-15/e35/s320x320/172138014_201753944783841_6972004931353139792_n.jpg?tp=1&amp;_nc_ht=instagram.falg7-2.fna.fbcdn.net&amp;_nc_cat=1&amp;_nc_ohc=ASeJqShPx_UAX8mbNA6&amp;edm=APU89FABAAAA&amp;ccb=7-4&amp;oh=f3b643dbba537dddfed09eb274db81ab&amp;oe=60B3F538&amp;_nc_sid=86f79a 320w,https://instagram.falg7-2.fna.fbcdn.net/v/t51.2885-15/e35/s480x480/172138014_201753944783841_6972004931353139792_n.jpg?tp=1&amp;_nc_ht=instagram.falg7-2.fna.fbcdn.net&amp;_nc_cat=1&amp;_nc_ohc=ASeJqShPx_UAX8mbNA6&amp;edm=APU89FABAAAA&amp;ccb=7-4&amp;oh=e49e38e0d8cd40277a64a3dcd5f0e324&amp;oe=60B38131&amp;_nc_sid=86f79a 480w,https://instagram.falg7-2.fna.fbcdn.net/v/t51.2885-15/sh0.08/e35/s640x640/172138014_201753944783841_6972004931353139792_n.jpg?tp=1&amp;_nc_ht=instagram.falg7-2.fna.fbcdn.net&amp;_nc_cat=1&amp;_nc_ohc=ASeJqShPx_UAX8mbNA6&amp;edm=APU89FABAAAA&amp;ccb=7-4&amp;oh=0d542ed862f5f785e8bd79a49fa157fb&amp;oe=60B23A4B&amp;_nc_sid=86f79a 640w\" src=\"https://instagram.falg7-2.fna.fbcdn.net/v/t51.2885-15/sh0.08/e35/s640x640/172138014_201753944783841_6972004931353139792_n.jpg?tp=1&amp;_nc_ht=instagram.falg7-2.fna.fbcdn.net&amp;_nc_cat=1&amp;_nc_ohc=ASeJqShPx_UAX8mbNA6&amp;edm=APU89FABAAAA&amp;ccb=7-4&amp;oh=0d542ed862f5f785e8bd79a49fa157fb&amp;oe=60B23A4B&amp;_nc_sid=86f79a\"></div><div class=\"_9AhH0\"></div></div></a></div><div class=\"v1Nh3 kIKUG  _bz0w\"><a href=\"/p/CNiBiURAIWR/\" tabindex=\"0\"><div class=\"eLAPa\"><div class=\"KL4Bh\"><img alt=\"Avanti Cosi! 🏳️🏴💪🏽 #finoallafine\" class=\"FFVAD\" crossorigin=\"anonymous\" decoding=\"auto\" style=\"object-fit: cover;\" sizes=\"293px\" srcset=\"https://instagram.falg7-2.fna.fbcdn.net/v/t51.2885-15/e35/c133.0.1174.1174a/s150x150/170854372_796406944337191_1182613589240945318_n.jpg?tp=1&amp;_nc_ht=instagram.falg7-2.fna.fbcdn.net&amp;_nc_cat=1&amp;_nc_ohc=V-VsPSXGZ5QAX--jqOL&amp;edm=APU89FABAAAA&amp;ccb=7-4&amp;oh=48576ffce0a8d0ffef7489b0e86f81cf&amp;oe=60B27B12&amp;_nc_sid=86f79a 150w,https://instagram.falg7-2.fna.fbcdn.net/v/t51.2885-15/e35/c133.0.1174.1174a/s240x240/170854372_796406944337191_1182613589240945318_n.jpg?tp=1&amp;_nc_ht=instagram.falg7-2.fna.fbcdn.net&amp;_nc_cat=1&amp;_nc_ohc=V-VsPSXGZ5QAX--jqOL&amp;edm=APU89FABAAAA&amp;ccb=7-4&amp;oh=8bf683d81bfeb05ab32bc1c22e8d5834&amp;oe=60B26A98&amp;_nc_sid=86f79a 240w,https://instagram.falg7-2.fna.fbcdn.net/v/t51.2885-15/e35/c133.0.1174.1174a/s320x320/170854372_796406944337191_1182613589240945318_n.jpg?tp=1&amp;_nc_ht=instagram.falg7-2.fna.fbcdn.net&amp;_nc_cat=1&amp;_nc_ohc=V-VsPSXGZ5QAX--jqOL&amp;edm=APU89FABAAAA&amp;ccb=7-4&amp;oh=fdf7eb9c26f44ed8ef9b57454fba8ae3&amp;oe=60B22B2A&amp;_nc_sid=86f79a 320w,https://instagram.falg7-2.fna.fbcdn.net/v/t51.2885-15/e35/c133.0.1174.1174a/s480x480/170854372_796406944337191_1182613589240945318_n.jpg?tp=1&amp;_nc_ht=instagram.falg7-2.fna.fbcdn.net&amp;_nc_cat=1&amp;_nc_ohc=V-VsPSXGZ5QAX--jqOL&amp;edm=APU89FABAAAA&amp;ccb=7-4&amp;oh=4f308ef1a007c1bf03a51023cd05bbbc&amp;oe=60B3FFEF&amp;_nc_sid=86f79a 480w,https://instagram.falg7-2.fna.fbcdn.net/v/t51.2885-15/sh0.08/e35/c133.0.1174.1174a/s640x640/170854372_796406944337191_1182613589240945318_n.jpg?tp=1&amp;_nc_ht=instagram.falg7-2.fna.fbcdn.net&amp;_nc_cat=1&amp;_nc_ohc=V-VsPSXGZ5QAX--jqOL&amp;edm=APU89FABAAAA&amp;ccb=7-4&amp;oh=e2ffc8a10f25e1958db51948f1190931&amp;oe=60B22A62&amp;_nc_sid=86f79a 640w\" src=\"https://instagram.falg7-2.fna.fbcdn.net/v/t51.2885-15/sh0.08/e35/c133.0.1174.1174a/s640x640/170854372_796406944337191_1182613589240945318_n.jpg?tp=1&amp;_nc_ht=instagram.falg7-2.fna.fbcdn.net&amp;_nc_cat=1&amp;_nc_ohc=V-VsPSXGZ5QAX--jqOL&amp;edm=APU89FABAAAA&amp;ccb=7-4&amp;oh=e2ffc8a10f25e1958db51948f1190931&amp;oe=60B22A62&amp;_nc_sid=86f79a\"></div><div class=\"_9AhH0\"></div></div><div class=\"u7YqG\"><div class=\"                     Igw0E     IwRSH      eGOV_         _4EzTm    bkEs3                  soMvl                  JI_ht                  DhRcB                                                    \"><svg aria-label=\"Carousel\" class=\"_8-yf5 \" fill=\"#ffffff\" height=\"22\" viewBox=\"0 0 48 48\" width=\"22\"><path d=\"M34.8 29.7V11c0-2.9-2.3-5.2-5.2-5.2H11c-2.9 0-5.2 2.3-5.2 5.2v18.7c0 2.9 2.3 5.2 5.2 5.2h18.7c2.8-.1 5.1-2.4 5.1-5.2zM39.2 15v16.1c0 4.5-3.7 8.2-8.2 8.2H14.9c-.6 0-.9.7-.5 1.1 1 1.1 2.4 1.8 4.1 1.8h13.4c5.7 0 10.3-4.6 10.3-10.3V18.5c0-1.6-.7-3.1-1.8-4.1-.5-.4-1.2 0-1.2.6z\"></path></svg></div></div></a></div><div class=\"v1Nh3 kIKUG  _bz0w\"><a href=\"/p/CNYHX40ggEU/\" tabindex=\"0\"><div class=\"eLAPa\"><div class=\"KL4Bh\"><img alt=\"Grandi ragazzi, 3 punti importantissimi !👏🏽\n",
      "Abbiamo bisogno di questo spirito até ao final! 🏳️🏴💪🏽 #finoallafine\" class=\"FFVAD\" crossorigin=\"anonymous\" decoding=\"auto\" style=\"object-fit: cover;\" sizes=\"293px\" srcset=\"https://instagram.falg7-2.fna.fbcdn.net/v/t51.2885-15/e35/c206.0.1008.1008a/s150x150/169178253_289959782523017_1949996635575348643_n.jpg?tp=1&amp;_nc_ht=instagram.falg7-2.fna.fbcdn.net&amp;_nc_cat=1&amp;_nc_ohc=qrSTgfnO0NUAX-C5ijl&amp;edm=APU89FABAAAA&amp;ccb=7-4&amp;oh=6efbefd884f0e0ee8b0090a9af72a95a&amp;oe=60B28172&amp;_nc_sid=86f79a 150w,https://instagram.falg7-2.fna.fbcdn.net/v/t51.2885-15/e35/c206.0.1008.1008a/s240x240/169178253_289959782523017_1949996635575348643_n.jpg?tp=1&amp;_nc_ht=instagram.falg7-2.fna.fbcdn.net&amp;_nc_cat=1&amp;_nc_ohc=qrSTgfnO0NUAX-C5ijl&amp;edm=APU89FABAAAA&amp;ccb=7-4&amp;oh=0557487240a36ef76f816b741f5d69cc&amp;oe=60B360F8&amp;_nc_sid=86f79a 240w,https://instagram.falg7-2.fna.fbcdn.net/v/t51.2885-15/e35/c206.0.1008.1008a/s320x320/169178253_289959782523017_1949996635575348643_n.jpg?tp=1&amp;_nc_ht=instagram.falg7-2.fna.fbcdn.net&amp;_nc_cat=1&amp;_nc_ohc=qrSTgfnO0NUAX-C5ijl&amp;edm=APU89FABAAAA&amp;ccb=7-4&amp;oh=1d0068b1b1653d0a5ed68d070143da70&amp;oe=60B3E04A&amp;_nc_sid=86f79a 320w,https://instagram.falg7-2.fna.fbcdn.net/v/t51.2885-15/e35/c206.0.1008.1008a/s480x480/169178253_289959782523017_1949996635575348643_n.jpg?tp=1&amp;_nc_ht=instagram.falg7-2.fna.fbcdn.net&amp;_nc_cat=1&amp;_nc_ohc=qrSTgfnO0NUAX-C5ijl&amp;edm=APU89FABAAAA&amp;ccb=7-4&amp;oh=84aac709f17c7e875e3004b34090f9a9&amp;oe=60B2744F&amp;_nc_sid=86f79a 480w,https://instagram.falg7-2.fna.fbcdn.net/v/t51.2885-15/sh0.08/e35/c206.0.1008.1008a/s640x640/169178253_289959782523017_1949996635575348643_n.jpg?tp=1&amp;_nc_ht=instagram.falg7-2.fna.fbcdn.net&amp;_nc_cat=1&amp;_nc_ohc=qrSTgfnO0NUAX-C5ijl&amp;edm=APU89FABAAAA&amp;ccb=7-4&amp;oh=1d3203be2d64bd90816282a786845393&amp;oe=60B32EC2&amp;_nc_sid=86f79a 640w\" src=\"https://instagram.falg7-2.fna.fbcdn.net/v/t51.2885-15/sh0.08/e35/c206.0.1008.1008a/s640x640/169178253_289959782523017_1949996635575348643_n.jpg?tp=1&amp;_nc_ht=instagram.falg7-2.fna.fbcdn.net&amp;_nc_cat=1&amp;_nc_ohc=qrSTgfnO0NUAX-C5ijl&amp;edm=APU89FABAAAA&amp;ccb=7-4&amp;oh=1d3203be2d64bd90816282a786845393&amp;oe=60B32EC2&amp;_nc_sid=86f79a\"></div><div class=\"_9AhH0\"></div></div><div class=\"u7YqG\"><div class=\"                     Igw0E     IwRSH      eGOV_         _4EzTm    bkEs3                  soMvl                  JI_ht                  DhRcB                                                    \"><svg aria-label=\"Carousel\" class=\"_8-yf5 \" fill=\"#ffffff\" height=\"22\" viewBox=\"0 0 48 48\" width=\"22\"><path d=\"M34.8 29.7V11c0-2.9-2.3-5.2-5.2-5.2H11c-2.9 0-5.2 2.3-5.2 5.2v18.7c0 2.9 2.3 5.2 5.2 5.2h18.7c2.8-.1 5.1-2.4 5.1-5.2zM39.2 15v16.1c0 4.5-3.7 8.2-8.2 8.2H14.9c-.6 0-.9.7-.5 1.1 1 1.1 2.4 1.8 4.1 1.8h13.4c5.7 0 10.3-4.6 10.3-10.3V18.5c0-1.6-.7-3.1-1.8-4.1-.5-.4-1.2 0-1.2.6z\"></path></svg></div></div></a></div>\n",
      "<div class=\"v1Nh3 kIKUG  _bz0w\"><a href=\"/p/CNU8ukQA5Q4/\" tabindex=\"0\"><div class=\"eLAPa\"><div class=\"KL4Bh\"><img alt=\"🏳️🏴👏🏽 #juventus\" class=\"FFVAD\" crossorigin=\"anonymous\" decoding=\"auto\" style=\"object-fit: cover;\" sizes=\"293px\" srcset=\"https://instagram.falg7-2.fna.fbcdn.net/v/t51.2885-15/e35/c240.0.960.960a/s150x150/169250006_930638837755557_6393625046837512615_n.jpg?tp=1&amp;_nc_ht=instagram.falg7-2.fna.fbcdn.net&amp;_nc_cat=1&amp;_nc_ohc=sfPvHhj3EAAAX_8XhIV&amp;edm=APU89FABAAAA&amp;ccb=7-4&amp;oh=39b2eb130f8de72e4dd35cf1861f5570&amp;oe=60B21047&amp;_nc_sid=86f79a 150w,https://instagram.falg7-2.fna.fbcdn.net/v/t51.2885-15/e35/c240.0.960.960a/s240x240/169250006_930638837755557_6393625046837512615_n.jpg?tp=1&amp;_nc_ht=instagram.falg7-2.fna.fbcdn.net&amp;_nc_cat=1&amp;_nc_ohc=sfPvHhj3EAAAX_8XhIV&amp;edm=APU89FABAAAA&amp;ccb=7-4&amp;oh=7ccc470f63b5147d6e026424670169ea&amp;oe=60B3C481&amp;_nc_sid=86f79a 240w,https://instagram.falg7-2.fna.fbcdn.net/v/t51.2885-15/e35/c240.0.960.960a/s320x320/169250006_930638837755557_6393625046837512615_n.jpg?tp=1&amp;_nc_ht=instagram.falg7-2.fna.fbcdn.net&amp;_nc_cat=1&amp;_nc_ohc=sfPvHhj3EAAAX_8XhIV&amp;edm=APU89FABAAAA&amp;ccb=7-4&amp;oh=416bd30518366982f0002a3e53152e46&amp;oe=60B2CCBF&amp;_nc_sid=86f79a 320w,https://instagram.falg7-2.fna.fbcdn.net/v/t51.2885-15/e35/c240.0.960.960a/s480x480/169250006_930638837755557_6393625046837512615_n.jpg?tp=1&amp;_nc_ht=instagram.falg7-2.fna.fbcdn.net&amp;_nc_cat=1&amp;_nc_ohc=sfPvHhj3EAAAX_8XhIV&amp;edm=APU89FABAAAA&amp;ccb=7-4&amp;oh=7ab87195021f0e3b413c79300fdf0164&amp;oe=60B2B93A&amp;_nc_sid=86f79a 480w,https://instagram.falg7-2.fna.fbcdn.net/v/t51.2885-15/sh0.08/e35/c240.0.960.960a/s640x640/169250006_930638837755557_6393625046837512615_n.jpg?tp=1&amp;_nc_ht=instagram.falg7-2.fna.fbcdn.net&amp;_nc_cat=1&amp;_nc_ohc=sfPvHhj3EAAAX_8XhIV&amp;edm=APU89FABAAAA&amp;ccb=7-4&amp;oh=9eb34208b919116ce6171696cc64c99b&amp;oe=60B25A02&amp;_nc_sid=86f79a 640w\" src=\"https://instagram.falg7-2.fna.fbcdn.net/v/t51.2885-15/sh0.08/e35/c240.0.960.960a/s640x640/169250006_930638837755557_6393625046837512615_n.jpg?tp=1&amp;_nc_ht=instagram.falg7-2.fna.fbcdn.net&amp;_nc_cat=1&amp;_nc_ohc=sfPvHhj3EAAAX_8XhIV&amp;edm=APU89FABAAAA&amp;ccb=7-4&amp;oh=9eb34208b919116ce6171696cc64c99b&amp;oe=60B25A02&amp;_nc_sid=86f79a\"></div><div class=\"_9AhH0\"></div></div></a></div><div class=\"v1Nh3 kIKUG  _bz0w\"><a href=\"/p/CNDu9yCgf_-/\" tabindex=\"0\"><div class=\"eLAPa\"><div class=\"KL4Bh\"><img alt=\"Vitória importante rumo ao nosso objectivo. Parabéns Equipa! 💪🏼🇵🇹 #todosportugal\" class=\"FFVAD\" crossorigin=\"anonymous\" decoding=\"auto\" style=\"object-fit: cover;\" sizes=\"293px\" srcset=\"https://instagram.falg7-2.fna.fbcdn.net/v/t51.2885-15/e35/c240.0.959.959a/s150x150/167184716_445186599903611_8200045631928063529_n.jpg?tp=1&amp;_nc_ht=instagram.falg7-2.fna.fbcdn.net&amp;_nc_cat=1&amp;_nc_ohc=ndK4RrHJnFcAX9lwZxr&amp;edm=APU89FABAAAA&amp;ccb=7-4&amp;oh=fcb9951ea19e4f38f7062f023618b71f&amp;oe=60B2CFC7&amp;_nc_sid=86f79a 150w,https://instagram.falg7-2.fna.fbcdn.net/v/t51.2885-15/e35/c240.0.959.959a/s240x240/167184716_445186599903611_8200045631928063529_n.jpg?tp=1&amp;_nc_ht=instagram.falg7-2.fna.fbcdn.net&amp;_nc_cat=1&amp;_nc_ohc=ndK4RrHJnFcAX9lwZxr&amp;edm=APU89FABAAAA&amp;ccb=7-4&amp;oh=218026c87fdf46db44fc0102a406f5fe&amp;oe=60B37381&amp;_nc_sid=86f79a 240w,https://instagram.falg7-2.fna.fbcdn.net/v/t51.2885-15/e35/c240.0.959.959a/s320x320/167184716_445186599903611_8200045631928063529_n.jpg?tp=1&amp;_nc_ht=instagram.falg7-2.fna.fbcdn.net&amp;_nc_cat=1&amp;_nc_ohc=ndK4RrHJnFcAX9lwZxr&amp;edm=APU89FABAAAA&amp;ccb=7-4&amp;oh=e528b781c5b0a71ae942a60f9aab01bc&amp;oe=60B3683F&amp;_nc_sid=86f79a 320w,https://instagram.falg7-2.fna.fbcdn.net/v/t51.2885-15/e35/c240.0.959.959a/s480x480/167184716_445186599903611_8200045631928063529_n.jpg?tp=1&amp;_nc_ht=instagram.falg7-2.fna.fbcdn.net&amp;_nc_cat=1&amp;_nc_ohc=ndK4RrHJnFcAX9lwZxr&amp;edm=APU89FABAAAA&amp;ccb=7-4&amp;oh=3ffd40c2b10ef449b3c0d2649e11e853&amp;oe=60B29B3A&amp;_nc_sid=86f79a 480w,https://instagram.falg7-2.fna.fbcdn.net/v/t51.2885-15/sh0.08/e35/c240.0.959.959a/s640x640/167184716_445186599903611_8200045631928063529_n.jpg?tp=1&amp;_nc_ht=instagram.falg7-2.fna.fbcdn.net&amp;_nc_cat=1&amp;_nc_ohc=ndK4RrHJnFcAX9lwZxr&amp;edm=APU89FABAAAA&amp;ccb=7-4&amp;oh=2aec2c48b6036d410d79b35a8a5d12a6&amp;oe=60B247C2&amp;_nc_sid=86f79a 640w\" src=\"https://instagram.falg7-2.fna.fbcdn.net/v/t51.2885-15/sh0.08/e35/c240.0.959.959a/s640x640/167184716_445186599903611_8200045631928063529_n.jpg?tp=1&amp;_nc_ht=instagram.falg7-2.fna.fbcdn.net&amp;_nc_cat=1&amp;_nc_ohc=ndK4RrHJnFcAX9lwZxr&amp;edm=APU89FABAAAA&amp;ccb=7-4&amp;oh=2aec2c48b6036d410d79b35a8a5d12a6&amp;oe=60B247C2&amp;_nc_sid=86f79a\"></div><div class=\"_9AhH0\"></div></div><div class=\"u7YqG\"><div class=\"                     Igw0E     IwRSH      eGOV_         _4EzTm    bkEs3                  soMvl                  JI_ht                  DhRcB                                                    \"><svg aria-label=\"Carousel\" class=\"_8-yf5 \" fill=\"#ffffff\" height=\"22\" viewBox=\"0 0 48 48\" width=\"22\"><path d=\"M34.8 29.7V11c0-2.9-2.3-5.2-5.2-5.2H11c-2.9 0-5.2 2.3-5.2 5.2v18.7c0 2.9 2.3 5.2 5.2 5.2h18.7c2.8-.1 5.1-2.4 5.1-5.2zM39.2 15v16.1c0 4.5-3.7 8.2-8.2 8.2H14.9c-.6 0-.9.7-.5 1.1 1 1.1 2.4 1.8 4.1 1.8h13.4c5.7 0 10.3-4.6 10.3-10.3V18.5c0-1.6-.7-3.1-1.8-4.1-.5-.4-1.2 0-1.2.6z\"></path></svg></div></div></a></div><div class=\"v1Nh3 kIKUG  _bz0w\"><a href=\"/p/CNAwrksAoew/\" tabindex=\"0\"><div class=\"eLAPa\"><div class=\"KL4Bh\"><img alt=\"🇵🇹❤️\" class=\"FFVAD\" crossorigin=\"anonymous\" decoding=\"auto\" style=\"object-fit: cover;\" sizes=\"293px\" srcset=\"https://instagram.falg7-2.fna.fbcdn.net/v/t51.2885-15/e35/c241.0.958.958a/s150x150/166100188_910515019744560_4126389696619205823_n.jpg?tp=1&amp;_nc_ht=instagram.falg7-2.fna.fbcdn.net&amp;_nc_cat=1&amp;_nc_ohc=HmrMAsbryigAX8Mrdb2&amp;edm=APU89FABAAAA&amp;ccb=7-4&amp;oh=aa10a659d5135f65542dd0674922abcc&amp;oe=60B2CBF8&amp;_nc_sid=86f79a 150w,https://instagram.falg7-2.fna.fbcdn.net/v/t51.2885-15/e35/c241.0.958.958a/s240x240/166100188_910515019744560_4126389696619205823_n.jpg?tp=1&amp;_nc_ht=instagram.falg7-2.fna.fbcdn.net&amp;_nc_cat=1&amp;_nc_ohc=HmrMAsbryigAX8Mrdb2&amp;edm=APU89FABAAAA&amp;ccb=7-4&amp;oh=acaac476872a2e9efece7e764cefde2e&amp;oe=60B224B2&amp;_nc_sid=86f79a 240w,https://instagram.falg7-2.fna.fbcdn.net/v/t51.2885-15/e35/c241.0.958.958a/s320x320/166100188_910515019744560_4126389696619205823_n.jpg?tp=1&amp;_nc_ht=instagram.falg7-2.fna.fbcdn.net&amp;_nc_cat=1&amp;_nc_ohc=HmrMAsbryigAX8Mrdb2&amp;edm=APU89FABAAAA&amp;ccb=7-4&amp;oh=c371465536ea85952bff393d7368fde1&amp;oe=60B27F90&amp;_nc_sid=86f79a 320w,https://instagram.falg7-2.fna.fbcdn.net/v/t51.2885-15/e35/c241.0.958.958a/s480x480/166100188_910515019744560_4126389696619205823_n.jpg?tp=1&amp;_nc_ht=instagram.falg7-2.fna.fbcdn.net&amp;_nc_cat=1&amp;_nc_ohc=HmrMAsbryigAX8Mrdb2&amp;edm=APU89FABAAAA&amp;ccb=7-4&amp;oh=8188180cbd754990e6c1e9c835058846&amp;oe=60B3F089&amp;_nc_sid=86f79a 480w,https://instagram.falg7-2.fna.fbcdn.net/v/t51.2885-15/sh0.08/e35/c241.0.958.958a/s640x640/166100188_910515019744560_4126389696619205823_n.jpg?tp=1&amp;_nc_ht=instagram.falg7-2.fna.fbcdn.net&amp;_nc_cat=1&amp;_nc_ohc=HmrMAsbryigAX8Mrdb2&amp;edm=APU89FABAAAA&amp;ccb=7-4&amp;oh=827b7066a5207e9d51a3a8f36bec95b3&amp;oe=60B31E71&amp;_nc_sid=86f79a 640w\" src=\"https://instagram.falg7-2.fna.fbcdn.net/v/t51.2885-15/sh0.08/e35/c241.0.958.958a/s640x640/166100188_910515019744560_4126389696619205823_n.jpg?tp=1&amp;_nc_ht=instagram.falg7-2.fna.fbcdn.net&amp;_nc_cat=1&amp;_nc_ohc=HmrMAsbryigAX8Mrdb2&amp;edm=APU89FABAAAA&amp;ccb=7-4&amp;oh=827b7066a5207e9d51a3a8f36bec95b3&amp;oe=60B31E71&amp;_nc_sid=86f79a\"></div><div class=\"_9AhH0\"></div></div></a></div>\n",
      "<div class=\"v1Nh3 kIKUG  _bz0w\"><a href=\"/p/CM8EecQA6Z4/\" tabindex=\"0\"><div class=\"eLAPa\"><div class=\"KL4Bh\"><img alt=\"Ser capitão da Selecção de Portugal é um dos maiores orgulhos e privilégios da minha vida. Dou e darei sempre tudo pelo meu país, isso não vai mudar nunca. Mas há momentos difíceis de lidar, principalmente quando sentimos que está uma nação inteira a ser prejudicada. Levantar a cabeça e encarar já o próximo desafio! Força, Portugal! 🇵🇹❤️💪🏽\" class=\"FFVAD\" crossorigin=\"anonymous\" decoding=\"auto\" style=\"object-fit: cover;\" sizes=\"293px\" srcset=\"https://instagram.falg7-2.fna.fbcdn.net/v/t51.2885-15/e35/s150x150/165648787_793805954866451_6883316138791970300_n.jpg?tp=1&amp;_nc_ht=instagram.falg7-2.fna.fbcdn.net&amp;_nc_cat=1&amp;_nc_ohc=32XvRSkiSc8AX8L3aap&amp;edm=APU89FABAAAA&amp;ccb=7-4&amp;oh=0b7df8161795f8703e0196dc231cec77&amp;oe=60B34514&amp;_nc_sid=86f79a 150w,https://instagram.falg7-2.fna.fbcdn.net/v/t51.2885-15/e35/s240x240/165648787_793805954866451_6883316138791970300_n.jpg?tp=1&amp;_nc_ht=instagram.falg7-2.fna.fbcdn.net&amp;_nc_cat=1&amp;_nc_ohc=32XvRSkiSc8AX8L3aap&amp;edm=APU89FABAAAA&amp;ccb=7-4&amp;oh=763cee9079907699e0509ecd1a8bd262&amp;oe=60B3CB16&amp;_nc_sid=86f79a 240w,https://instagram.falg7-2.fna.fbcdn.net/v/t51.2885-15/e35/s320x320/165648787_793805954866451_6883316138791970300_n.jpg?tp=1&amp;_nc_ht=instagram.falg7-2.fna.fbcdn.net&amp;_nc_cat=1&amp;_nc_ohc=32XvRSkiSc8AX8L3aap&amp;edm=APU89FABAAAA&amp;ccb=7-4&amp;oh=d12f591797bd9fbc37c6a964e340ada5&amp;oe=60B250EC&amp;_nc_sid=86f79a 320w,https://instagram.falg7-2.fna.fbcdn.net/v/t51.2885-15/e35/s480x480/165648787_793805954866451_6883316138791970300_n.jpg?tp=1&amp;_nc_ht=instagram.falg7-2.fna.fbcdn.net&amp;_nc_cat=1&amp;_nc_ohc=32XvRSkiSc8AX8L3aap&amp;edm=APU89FABAAAA&amp;ccb=7-4&amp;oh=148364e415d1a62965484f2ec8d0c9ed&amp;oe=60B311AD&amp;_nc_sid=86f79a 480w,https://instagram.falg7-2.fna.fbcdn.net/v/t51.2885-15/sh0.08/e35/s640x640/165648787_793805954866451_6883316138791970300_n.jpg?tp=1&amp;_nc_ht=instagram.falg7-2.fna.fbcdn.net&amp;_nc_cat=1&amp;_nc_ohc=32XvRSkiSc8AX8L3aap&amp;edm=APU89FABAAAA&amp;ccb=7-4&amp;oh=fe5998c6a85d5f9640263e3559ec7ed0&amp;oe=60B37FD7&amp;_nc_sid=86f79a 640w\" src=\"https://instagram.falg7-2.fna.fbcdn.net/v/t51.2885-15/sh0.08/e35/s640x640/165648787_793805954866451_6883316138791970300_n.jpg?tp=1&amp;_nc_ht=instagram.falg7-2.fna.fbcdn.net&amp;_nc_cat=1&amp;_nc_ohc=32XvRSkiSc8AX8L3aap&amp;edm=APU89FABAAAA&amp;ccb=7-4&amp;oh=fe5998c6a85d5f9640263e3559ec7ed0&amp;oe=60B37FD7&amp;_nc_sid=86f79a\"></div><div class=\"_9AhH0\"></div></div></a></div><div class=\"v1Nh3 kIKUG  _bz0w\"><a href=\"/p/CM1uZPbgOpk/\" tabindex=\"0\"><div class=\"eLAPa\"><div class=\"KL4Bh\"><img alt=\"Muito importante começar a nossa qualificação para o Campeonato do Mundo com uma vitoria! Parabéns equipa 🇵🇹💪🏽\" class=\"FFVAD\" crossorigin=\"anonymous\" decoding=\"auto\" style=\"object-fit: cover;\" sizes=\"293px\" srcset=\"https://instagram.falg7-2.fna.fbcdn.net/v/t51.2885-15/e35/c0.180.1440.1440a/s150x150/163691720_1453694638305220_7494904475008956511_n.jpg?tp=1&amp;_nc_ht=instagram.falg7-2.fna.fbcdn.net&amp;_nc_cat=1&amp;_nc_ohc=HHdv6b5bimEAX84QxDU&amp;edm=APU89FABAAAA&amp;ccb=7-4&amp;oh=f28e47c49d914da496783574afca8fc1&amp;oe=60B3186F&amp;_nc_sid=86f79a 150w,https://instagram.falg7-2.fna.fbcdn.net/v/t51.2885-15/e35/c0.180.1440.1440a/s240x240/163691720_1453694638305220_7494904475008956511_n.jpg?tp=1&amp;_nc_ht=instagram.falg7-2.fna.fbcdn.net&amp;_nc_cat=1&amp;_nc_ohc=HHdv6b5bimEAX84QxDU&amp;edm=APU89FABAAAA&amp;ccb=7-4&amp;oh=e706710f80a8f1dac20e2d7f0e11b794&amp;oe=60B3BF27&amp;_nc_sid=86f79a 240w,https://instagram.falg7-2.fna.fbcdn.net/v/t51.2885-15/e35/c0.180.1440.1440a/s320x320/163691720_1453694638305220_7494904475008956511_n.jpg?tp=1&amp;_nc_ht=instagram.falg7-2.fna.fbcdn.net&amp;_nc_cat=1&amp;_nc_ohc=HHdv6b5bimEAX84QxDU&amp;edm=APU89FABAAAA&amp;ccb=7-4&amp;oh=d103604578ace5a51746e82c3adaaa53&amp;oe=60B3FF7A&amp;_nc_sid=86f79a 320w,https://instagram.falg7-2.fna.fbcdn.net/v/t51.2885-15/e35/c0.180.1440.1440a/s480x480/163691720_1453694638305220_7494904475008956511_n.jpg?tp=1&amp;_nc_ht=instagram.falg7-2.fna.fbcdn.net&amp;_nc_cat=1&amp;_nc_ohc=HHdv6b5bimEAX84QxDU&amp;edm=APU89FABAAAA&amp;ccb=7-4&amp;oh=bb436a220e72ff53725adeb6dc8a362d&amp;oe=60B337FC&amp;_nc_sid=86f79a 480w,https://instagram.falg7-2.fna.fbcdn.net/v/t51.2885-15/sh0.08/e35/c0.180.1440.1440a/s640x640/163691720_1453694638305220_7494904475008956511_n.jpg?tp=1&amp;_nc_ht=instagram.falg7-2.fna.fbcdn.net&amp;_nc_cat=1&amp;_nc_ohc=HHdv6b5bimEAX84QxDU&amp;edm=APU89FABAAAA&amp;ccb=7-4&amp;oh=6ea9a784be4d8f47fc985573f312c4ba&amp;oe=60B2F482&amp;_nc_sid=86f79a 640w\" src=\"https://instagram.falg7-2.fna.fbcdn.net/v/t51.2885-15/sh0.08/e35/c0.180.1440.1440a/s640x640/163691720_1453694638305220_7494904475008956511_n.jpg?tp=1&amp;_nc_ht=instagram.falg7-2.fna.fbcdn.net&amp;_nc_cat=1&amp;_nc_ohc=HHdv6b5bimEAX84QxDU&amp;edm=APU89FABAAAA&amp;ccb=7-4&amp;oh=6ea9a784be4d8f47fc985573f312c4ba&amp;oe=60B2F482&amp;_nc_sid=86f79a\"></div><div class=\"_9AhH0\"></div></div><div class=\"u7YqG\"><div class=\"                     Igw0E     IwRSH      eGOV_         _4EzTm    bkEs3                  soMvl                  JI_ht                  DhRcB                                                    \"><svg aria-label=\"Carousel\" class=\"_8-yf5 \" fill=\"#ffffff\" height=\"22\" viewBox=\"0 0 48 48\" width=\"22\"><path d=\"M34.8 29.7V11c0-2.9-2.3-5.2-5.2-5.2H11c-2.9 0-5.2 2.3-5.2 5.2v18.7c0 2.9 2.3 5.2 5.2 5.2h18.7c2.8-.1 5.1-2.4 5.1-5.2zM39.2 15v16.1c0 4.5-3.7 8.2-8.2 8.2H14.9c-.6 0-.9.7-.5 1.1 1 1.1 2.4 1.8 4.1 1.8h13.4c5.7 0 10.3-4.6 10.3-10.3V18.5c0-1.6-.7-3.1-1.8-4.1-.5-.4-1.2 0-1.2.6z\"></path></svg></div></div></a></div><div class=\"v1Nh3 kIKUG  _bz0w\"><a href=\"/p/CMwxe8Wg-P9/\" tabindex=\"0\"><div class=\"eLAPa\"><div class=\"KL4Bh\"><img alt=\"𝐏𝐎𝐑𝐓𝐔𝐆𝐀𝐋!🇵🇹❤️\" class=\"FFVAD\" crossorigin=\"anonymous\" decoding=\"auto\" style=\"object-fit: cover;\" sizes=\"293px\" srcset=\"https://instagram.falg7-2.fna.fbcdn.net/v/t51.2885-15/e35/c0.0.1439.1439a/s150x150/163558411_121116879989985_4271670176334930198_n.jpg?tp=1&amp;_nc_ht=instagram.falg7-2.fna.fbcdn.net&amp;_nc_cat=1&amp;_nc_ohc=3P5YYEXe6MsAX-9zl9K&amp;edm=APU89FABAAAA&amp;ccb=7-4&amp;oh=cb32e64f382e79f699d44a38259d3d9e&amp;oe=60B3AE9E&amp;_nc_sid=86f79a 150w,https://instagram.falg7-2.fna.fbcdn.net/v/t51.2885-15/e35/c0.0.1439.1439a/s240x240/163558411_121116879989985_4271670176334930198_n.jpg?tp=1&amp;_nc_ht=instagram.falg7-2.fna.fbcdn.net&amp;_nc_cat=1&amp;_nc_ohc=3P5YYEXe6MsAX-9zl9K&amp;edm=APU89FABAAAA&amp;ccb=7-4&amp;oh=bf06ee381041b234db6bf6434283a3d0&amp;oe=60B3A65C&amp;_nc_sid=86f79a 240w,https://instagram.falg7-2.fna.fbcdn.net/v/t51.2885-15/e35/c0.0.1439.1439a/s320x320/163558411_121116879989985_4271670176334930198_n.jpg?tp=1&amp;_nc_ht=instagram.falg7-2.fna.fbcdn.net&amp;_nc_cat=1&amp;_nc_ohc=3P5YYEXe6MsAX-9zl9K&amp;edm=APU89FABAAAA&amp;ccb=7-4&amp;oh=4ed91849bfa8bf3a774a9481067dfb11&amp;oe=60B241A6&amp;_nc_sid=86f79a 320w,https://instagram.falg7-2.fna.fbcdn.net/v/t51.2885-15/e35/c0.0.1439.1439a/s480x480/163558411_121116879989985_4271670176334930198_n.jpg?tp=1&amp;_nc_ht=instagram.falg7-2.fna.fbcdn.net&amp;_nc_cat=1&amp;_nc_ohc=3P5YYEXe6MsAX-9zl9K&amp;edm=APU89FABAAAA&amp;ccb=7-4&amp;oh=708b1d33b90de3bb89812de73e5adba0&amp;oe=60B29163&amp;_nc_sid=86f79a 480w,https://instagram.falg7-2.fna.fbcdn.net/v/t51.2885-15/sh0.08/e35/c0.0.1439.1439a/s640x640/163558411_121116879989985_4271670176334930198_n.jpg?tp=1&amp;_nc_ht=instagram.falg7-2.fna.fbcdn.net&amp;_nc_cat=1&amp;_nc_ohc=3P5YYEXe6MsAX-9zl9K&amp;edm=APU89FABAAAA&amp;ccb=7-4&amp;oh=95b394b3a704e7c4938074778224d065&amp;oe=60B2869B&amp;_nc_sid=86f79a 640w\" src=\"https://instagram.falg7-2.fna.fbcdn.net/v/t51.2885-15/sh0.08/e35/c0.0.1439.1439a/s640x640/163558411_121116879989985_4271670176334930198_n.jpg?tp=1&amp;_nc_ht=instagram.falg7-2.fna.fbcdn.net&amp;_nc_cat=1&amp;_nc_ohc=3P5YYEXe6MsAX-9zl9K&amp;edm=APU89FABAAAA&amp;ccb=7-4&amp;oh=95b394b3a704e7c4938074778224d065&amp;oe=60B2869B&amp;_nc_sid=86f79a\"></div><div class=\"_9AhH0\"></div></div><div class=\"u7YqG\"><div class=\"                     Igw0E     IwRSH      eGOV_         _4EzTm    bkEs3                  soMvl                  JI_ht                  DhRcB                                                    \"><svg aria-label=\"Carousel\" class=\"_8-yf5 \" fill=\"#ffffff\" height=\"22\" viewBox=\"0 0 48 48\" width=\"22\"><path d=\"M34.8 29.7V11c0-2.9-2.3-5.2-5.2-5.2H11c-2.9 0-5.2 2.3-5.2 5.2v18.7c0 2.9 2.3 5.2 5.2 5.2h18.7c2.8-.1 5.1-2.4 5.1-5.2zM39.2 15v16.1c0 4.5-3.7 8.2-8.2 8.2H14.9c-.6 0-.9.7-.5 1.1 1 1.1 2.4 1.8 4.1 1.8h13.4c5.7 0 10.3-4.6 10.3-10.3V18.5c0-1.6-.7-3.1-1.8-4.1-.5-.4-1.2 0-1.2.6z\"></path></svg></div></div></a></div>\n"
     ]
    }
   ],
   "source": [
    "for post in posts:\n",
    "    print(post.get_attribute('innerHTML'))"
   ]
  },
  {
   "cell_type": "code",
   "execution_count": null,
   "metadata": {},
   "outputs": [],
   "source": []
  },
  {
   "cell_type": "code",
   "execution_count": null,
   "metadata": {},
   "outputs": [],
   "source": []
  },
  {
   "cell_type": "code",
   "execution_count": null,
   "metadata": {},
   "outputs": [],
   "source": []
  },
  {
   "cell_type": "code",
   "execution_count": null,
   "metadata": {},
   "outputs": [],
   "source": []
  },
  {
   "cell_type": "code",
   "execution_count": null,
   "metadata": {},
   "outputs": [],
   "source": []
  },
  {
   "cell_type": "code",
   "execution_count": null,
   "metadata": {},
   "outputs": [],
   "source": []
  },
  {
   "cell_type": "code",
   "execution_count": null,
   "metadata": {},
   "outputs": [],
   "source": []
  },
  {
   "cell_type": "code",
   "execution_count": null,
   "metadata": {},
   "outputs": [],
   "source": []
  },
  {
   "cell_type": "code",
   "execution_count": null,
   "metadata": {},
   "outputs": [],
   "source": []
  },
  {
   "cell_type": "code",
   "execution_count": null,
   "metadata": {},
   "outputs": [],
   "source": []
  },
  {
   "cell_type": "code",
   "execution_count": null,
   "metadata": {},
   "outputs": [],
   "source": []
  },
  {
   "cell_type": "code",
   "execution_count": null,
   "metadata": {},
   "outputs": [],
   "source": []
  },
  {
   "cell_type": "code",
   "execution_count": null,
   "metadata": {},
   "outputs": [],
   "source": []
  },
  {
   "cell_type": "code",
   "execution_count": null,
   "metadata": {},
   "outputs": [],
   "source": []
  },
  {
   "cell_type": "code",
   "execution_count": null,
   "metadata": {},
   "outputs": [],
   "source": []
  },
  {
   "cell_type": "code",
   "execution_count": null,
   "metadata": {},
   "outputs": [],
   "source": []
  },
  {
   "cell_type": "code",
   "execution_count": null,
   "metadata": {},
   "outputs": [],
   "source": []
  },
  {
   "cell_type": "code",
   "execution_count": null,
   "metadata": {},
   "outputs": [],
   "source": []
  },
  {
   "cell_type": "code",
   "execution_count": null,
   "metadata": {},
   "outputs": [],
   "source": []
  },
  {
   "cell_type": "code",
   "execution_count": null,
   "metadata": {},
   "outputs": [],
   "source": []
  },
  {
   "cell_type": "code",
   "execution_count": null,
   "metadata": {},
   "outputs": [],
   "source": []
  },
  {
   "cell_type": "code",
   "execution_count": null,
   "metadata": {},
   "outputs": [],
   "source": []
  },
  {
   "cell_type": "code",
   "execution_count": null,
   "metadata": {},
   "outputs": [],
   "source": []
  },
  {
   "cell_type": "code",
   "execution_count": null,
   "metadata": {},
   "outputs": [],
   "source": []
  },
  {
   "cell_type": "code",
   "execution_count": null,
   "metadata": {},
   "outputs": [],
   "source": []
  }
 ],
 "metadata": {
  "kernelspec": {
   "display_name": "Python 3",
   "language": "python",
   "name": "python3"
  },
  "language_info": {
   "codemirror_mode": {
    "name": "ipython",
    "version": 3
   },
   "file_extension": ".py",
   "mimetype": "text/x-python",
   "name": "python",
   "nbconvert_exporter": "python",
   "pygments_lexer": "ipython3",
   "version": "3.8.5"
  }
 },
 "nbformat": 4,
 "nbformat_minor": 4
}
