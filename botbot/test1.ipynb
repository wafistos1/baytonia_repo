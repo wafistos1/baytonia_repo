{
 "cells": [
  {
   "cell_type": "code",
   "execution_count": 1,
   "metadata": {},
   "outputs": [],
   "source": [
    "import time\n",
    "import os\n",
    "import logging\n",
    "import requests\n",
    "import re\n",
    "from dataclasses import dataclass\n",
    "from random import randint\n",
    "import pandas as pd\n",
    "import numpy as np\n",
    "from bs4 import BeautifulSoup\n",
    "from selenium import webdriver\n",
    "from selenium.webdriver.common.keys import Keys\n",
    "from selenium.webdriver.support import expected_conditions as EC\n",
    "from selenium.webdriver.common.by import By\n",
    "from selenium.webdriver.support.wait import WebDriverWait\n",
    "from selenium.webdriver.firefox.options import Options\n",
    "from fake_useragent import UserAgent"
   ]
  },
  {
   "cell_type": "code",
   "execution_count": 2,
   "metadata": {},
   "outputs": [],
   "source": [
    "\n",
    "logging.basicConfig(format='%(levelname)s:%(message)s', level=logging.INFO)\n",
    "\n",
    "def return_id_ele(name, soup):\n",
    "    return soup.find('h5', text=name).next_element.next_element.next_element.next_element.next_element['id']\n"
   ]
  },
  {
   "cell_type": "code",
   "execution_count": 22,
   "metadata": {},
   "outputs": [],
   "source": [
    "@dataclass\n",
    "class Person:\n",
    "    \"\"\"Class for keeping track of an item in inventory.\"\"\"\n",
    "    first_name: str\n",
    "    last_name: str\n",
    "    third_name: str\n",
    "    phone: str\n",
    "    id_service_type: str  #  'نوع المعاملة'\n",
    "    name_cir: str # اسم دائرة الاحوال\n",
    "    meal: str #  الوجبة\n",
    "    familly_number: str # 'عدد افراد الاسرة'\n",
    "    confirmation: int\n",
    "\n"
   ]
  },
  {
   "cell_type": "code",
   "execution_count": 18,
   "metadata": {},
   "outputs": [],
   "source": [
    "def open_driver():\n",
    "    options = Options()\n",
    "    ua = UserAgent()\n",
    "    userAgent = ua.random\n",
    "    logging.info(userAgent)\n",
    "    options.add_argument(f'user-agent={userAgent}')\n",
    "    #opti#     driver = webdriver.Firefox()ons.add_argument(\"--headless\")\n",
    "    driver = webdriver.Firefox(firefox_options=options)\n",
    "    return driver"
   ]
  },
  {
   "cell_type": "code",
   "execution_count": 66,
   "metadata": {},
   "outputs": [],
   "source": [
    "def get_data_first_page(person: Person, driver):\n",
    "    waiting = 90\n",
    "    # Enter name1 --- > phone\n",
    "    wait = WebDriverWait(driver, 20)\n",
    "    first_name = WebDriverWait(driver,waiting).until(EC.visibility_of_element_located((By.XPATH,'//input[@name=\"FirstName\"]')))\n",
    "    first_name.send_keys(person.first_name)\n",
    "    last_name = driver.find_element_by_xpath('//input[@name=\"SecondName\"]').send_keys(person.last_name)\n",
    "    third_name = driver.find_element_by_xpath('//input[@name=\"ThirdName\"]').send_keys(person.third_name)\n",
    "    phone = driver.find_element_by_xpath('//input[@name=\"Phone\"]').send_keys(person.phone)\n",
    "\n",
    "    # Fresh data\n",
    "    r = driver.find_element_by_tag_name('body').get_attribute('innerHTML')\n",
    "    soup = BeautifulSoup(r, \"html.parser\")\n",
    "    \n",
    "    # Set servie type 'نوع المعاملة'\n",
    "    id_service_type = return_id_ele('نوع المعاملة', soup)\n",
    "    time.sleep(2)\n",
    "    wait.until(EC.element_to_be_clickable((By.ID, f'{id_service_type}'))).click()\n",
    "    print(\"id: \", person.id_service_type)\n",
    "    wait.until(EC.element_to_be_clickable((By.XPATH, f'//li[@aria-label=\"{person.id_service_type}\"]'))).click()\n",
    "    # driver.find_element_by_id(f'{id_service_type}').click()\n",
    "    # driver.find_element_by_xpath(f'//li[@aria-label=\"{person.id_service_type}\"]').click()\n",
    "    \n",
    "    # Set Name circonsiption 'اسم دائرة الاحوال'\n",
    "    name_cir = return_id_ele('اسم دائرة الاحوال', soup)\n",
    "    # driver.find_element_by_id(f'{name_cir}').click()\n",
    "    # driver.find_element_by_xpath(f'//li[@aria-label=\"{person.name_cir}\"]').click()\n",
    "    wait.until(EC.element_to_be_clickable((By.ID, f'{name_cir}'))).click()\n",
    "    wait.until(EC.element_to_be_clickable((By.XPATH, f'//li[@aria-label=\"{person.name_cir}\"]'))).click()\n",
    "    \n",
    "    # Set Meal الوجبة\n",
    "    name_toto = return_id_ele('الوجبة', soup)\n",
    "    # driver.find_element_by_id(f'{name_toto}').click()\n",
    "    # driver.find_element_by_xpath(f'//input[@id=\"search-{name_toto}\"]').click()\n",
    "    # driver.find_element_by_xpath(f'//li[@aria-label=\"{person.meal}\"]').click()\n",
    "    wait.until(EC.element_to_be_clickable((By.ID, f'{name_toto}'))).click()\n",
    "    wait.until(EC.element_to_be_clickable((By.XPATH, f'//input[@id=\"search-{name_toto}\"]'))).click()\n",
    "    wait.until(EC.element_to_be_clickable((By.XPATH, f'//li[@aria-label=\"{person.meal}\"]'))).click()\n",
    "    \n",
    "    # Set Family number 'عدد افراد الاسرة'\n",
    "    familly_number = return_id_ele('عدد افراد الاسرة', soup)\n",
    "    # driver.find_element_by_id(f'{familly_number}').click()\n",
    "    # driver.find_element_by_xpath(f'//input[@id=\"search-{familly_number}\"]').click()\n",
    "    # driver.find_element_by_xpath(f'//li[@aria-label=\"{person.familly_number}\"]').click()\n",
    "    wait.until(EC.element_to_be_clickable((By.ID, f'{familly_number}'))).click()\n",
    "    wait.until(EC.element_to_be_clickable((By.XPATH, f'//input[@id=\"search-{familly_number}\"]'))).click()\n",
    "    wait.until(EC.element_to_be_clickable((By.XPATH, f'//li[@aria-label=\"{person.familly_number}\"]'))).click()\n",
    "    \n",
    "    # Click next\n",
    "    enter_button = WebDriverWait(driver,waiting).until(EC.visibility_of_element_located((By.XPATH,'//span[text()=\"تسجيل الدخول\"]')))\n",
    "    enter_button.click()\n",
    "\n",
    "def get_confirmation_page(person: Person, driver):\n",
    "    waiting = 90\n",
    "    wait = WebDriverWait(driver, 20)\n",
    "    confirme_input = WebDriverWait(driver,waiting).until(EC.visibility_of_element_located((By.XPATH,'//input[@name=\"ConfirmCode\"]')))\n",
    "    confirme_input.send_keys(person.confirmation)\n",
    "    time.sleep(2)\n",
    "    # register_btn = driver.find_element_by_class_name('rz-button-text')\n",
    "    register_btn = wait.until(EC.element_to_be_clickable((By.CLASS_NAME, 'rz-button-text')))\n",
    "    register_btn.click()\n",
    "    time.sleep(4)\n",
    "    # confirmation_btn = driver.find_element_by_class_name('btn-success')\n",
    "    confirmation_btn = wait.until(EC.element_to_be_clickable((By.CLASS_NAME, 'btn-success')))\n",
    "    confirmation_btn.click()\n",
    "    click_for_confirmation = 'اضغط هنا لإكمال عملية الحجز'\n",
    "    return driver.find_element_by_xpath(f'//span[text()=\"{click_for_confirmation}\"]').text\n"
   ]
  },
  {
   "cell_type": "code",
   "execution_count": null,
   "metadata": {},
   "outputs": [],
   "source": [
    "url = 'https://reg.nid-moi.gov.iq/'"
   ]
  },
  {
   "cell_type": "code",
   "execution_count": 30,
   "metadata": {},
   "outputs": [],
   "source": [
    "WORNG_MESSAGE = 'رقم الهاتف تم الحجز به مسبقاً يرجى الانتظار 30 يوم للحجز مرة اخرى'\n",
    "SEVICE_TYPE_LIST = [\n",
    "    '>الواقعات الحياتية' ,\n",
    "    '>تسجيل لأول مرة',\n",
    "]\n",
    "\n",
    "NAME_CIRCONSIPTION_LIST = [\n",
    "    '>دائرة احوال الرصافة' ,\n",
    "    '>دائرة احوال بغداد الجديدة' ,\n",
    "    '>دائرة احوال الكرادة الشرقية' ,\n",
    "    '>دائرة احوال الراشدية' ,\n",
    "    '>دائرة احوال الموصل الايمن' ,\n",
    "]\n",
    "\n",
    "MEAL_LIST = [\n",
    "    '>صباحي'\n",
    "]\n",
    "\n",
    "NUMBER_FAMILY_LIST =[\n",
    "    '>1',\n",
    "    '>2',\n",
    "    '>3',\n",
    "    '>4',\n",
    "    '>4',\n",
    "    '>5',\n",
    "    '>6',\n",
    "    '>7',\n",
    "    '>8',\n",
    "    '>9',\n",
    "]"
   ]
  },
  {
   "cell_type": "code",
   "execution_count": 17,
   "metadata": {},
   "outputs": [],
   "source": [
    "def open_driver():\n",
    "    options = Options()\n",
    "    ua = UserAgent()\n",
    "    userAgent = ua.random\n",
    "    logging.info(userAgent)\n",
    "    options.add_argument(f'user-agent={userAgent}')\n",
    "    #opti#     driver = webdriver.Firefox()ons.add_argument(\"--headless\")\n",
    "    driver = webdriver.Firefox(firefox_options=options)\n",
    "    return driver"
   ]
  },
  {
   "cell_type": "code",
   "execution_count": 41,
   "metadata": {},
   "outputs": [],
   "source": [
    "person1 = Person(\n",
    "    'علي',\n",
    "    'هاشم',\n",
    "    'صالح',\n",
    "    '07806840569',\n",
    "    '>تسجيل لأول مرة',\n",
    "    NAME_CIRCONSIPTION_LIST[4],\n",
    "    MEAL_LIST[0],\n",
    "    NUMBER_FAMILY_LIST[5],\n",
    "    364536,\n",
    ")\n",
    "person2 = Person(\n",
    "    'عبدالله',\n",
    "    'رامي',\n",
    "    'موفق',\n",
    "    '07711037549',\n",
    "    SEVICE_TYPE_LIST[1],\n",
    "    NAME_CIRCONSIPTION_LIST[4],\n",
    "    MEAL_LIST[0],\n",
    "    NUMBER_FAMILY_LIST[3],\n",
    "    951864,\n",
    ")"
   ]
  },
  {
   "cell_type": "code",
   "execution_count": 31,
   "metadata": {},
   "outputs": [
    {
     "data": {
      "text/plain": [
       "'>تسجيل لأول مرة'"
      ]
     },
     "execution_count": 31,
     "metadata": {},
     "output_type": "execute_result"
    }
   ],
   "source": [
    "SEVICE_TYPE_LIST[1]"
   ]
  },
  {
   "cell_type": "code",
   "execution_count": 67,
   "metadata": {},
   "outputs": [
    {
     "name": "stderr",
     "output_type": "stream",
     "text": [
      "INFO:Mozilla/5.0 (Windows NT 6.2; WOW64) AppleWebKit/537.36 (KHTML, like Gecko) Chrome/27.0.1453.93 Safari/537.36\n"
     ]
    },
    {
     "name": "stdout",
     "output_type": "stream",
     "text": [
      "id:  >تسجيل لأول مرة\n"
     ]
    },
    {
     "name": "stderr",
     "output_type": "stream",
     "text": [
      "INFO:Go Reservation Page.\n",
      "INFO:Reservation Success\n"
     ]
    }
   ],
   "source": [
    "driver = open_driver()\n",
    "driver.get('https://reg.nid-moi.gov.iq/')\n",
    "get_data_first_page(person1, driver)\n",
    "logging.info('Go Reservation Page.')\n",
    "time.sleep(1)\n",
    "RESERVATION = get_confirmation_page(person1, driver)\n",
    "if RESERVATION != WORNG_MESSAGE:\n",
    "    logging.info('Reservation Success')\n",
    "else:\n",
    "    logging.info('Fail reservation.')"
   ]
  },
  {
   "cell_type": "code",
   "execution_count": 69,
   "metadata": {},
   "outputs": [
    {
     "name": "stderr",
     "output_type": "stream",
     "text": [
      "INFO:Mozilla/5.0 (Windows NT 5.1) AppleWebKit/537.36 (KHTML, like Gecko) Chrome/34.0.1866.237 Safari/537.36\n"
     ]
    },
    {
     "name": "stdout",
     "output_type": "stream",
     "text": [
      "id:  >تسجيل لأول مرة\n"
     ]
    },
    {
     "name": "stderr",
     "output_type": "stream",
     "text": [
      "INFO:Go Reservation Page.\n",
      "INFO:Reservation Success\n"
     ]
    }
   ],
   "source": [
    "driver = open_driver()\n",
    "driver.get('https://reg.nid-moi.gov.iq/')\n",
    "get_data_first_page(person2, driver)\n",
    "logging.info('Go Reservation Page.')\n",
    "time.sleep(1)\n",
    "RESERVATION = get_confirmation_page(person2, driver)\n",
    "if RESERVATION != WORNG_MESSAGE:\n",
    "    logging.info('Reservation Success')\n",
    "else:\n",
    "    logging.info('Fail reservation.')"
   ]
  },
  {
   "cell_type": "code",
   "execution_count": null,
   "metadata": {},
   "outputs": [],
   "source": [
    "ElementClickInterceptedException, TimeoutException, WebDriverException"
   ]
  },
  {
   "cell_type": "code",
   "execution_count": 65,
   "metadata": {},
   "outputs": [],
   "source": [
    "driver.find_element_by_xpath('//div[@id=\"6CfO0QqT5k\"]').click()"
   ]
  },
  {
   "cell_type": "code",
   "execution_count": 73,
   "metadata": {},
   "outputs": [
    {
     "name": "stderr",
     "output_type": "stream",
     "text": [
      "INFO:Mozilla/5.0 (Windows NT 6.3; Win64; x64) AppleWebKit/537.36 (KHTML, like Gecko) Chrome/37.0.2049.0 Safari/537.36\n"
     ]
    },
    {
     "ename": "TypeError",
     "evalue": "WebDriver.get() takes 2 positional arguments but 3 were given",
     "output_type": "error",
     "traceback": [
      "\u001b[0;31m---------------------------------------------------------------------------\u001b[0m",
      "\u001b[0;31mTypeError\u001b[0m                                 Traceback (most recent call last)",
      "\u001b[1;32m/home/wafistos/Documents/Projects/scaping_wafi/botbot/test1.ipynb Cell 15\u001b[0m in \u001b[0;36m<cell line: 2>\u001b[0;34m()\u001b[0m\n\u001b[1;32m      <a href='vscode-notebook-cell:/home/wafistos/Documents/Projects/scaping_wafi/botbot/test1.ipynb#X21sZmlsZQ%3D%3D?line=0'>1</a>\u001b[0m driver \u001b[39m=\u001b[39m open_driver()\n\u001b[0;32m----> <a href='vscode-notebook-cell:/home/wafistos/Documents/Projects/scaping_wafi/botbot/test1.ipynb#X21sZmlsZQ%3D%3D?line=1'>2</a>\u001b[0m driver\u001b[39m.\u001b[39;49mget(\u001b[39m'\u001b[39;49m\u001b[39mGET\u001b[39;49m\u001b[39m'\u001b[39;49m, \u001b[39m'\u001b[39;49m\u001b[39mhttps://reg.nid-moi.gov.iq/\u001b[39;49m\u001b[39m'\u001b[39;49m)\n",
      "\u001b[0;31mTypeError\u001b[0m: WebDriver.get() takes 2 positional arguments but 3 were given"
     ]
    }
   ],
   "source": [
    "driver = open_driver()\n",
    "driver.get('GET', 'https://reg.nid-moi.gov.iq/')"
   ]
  }
 ],
 "metadata": {
  "kernelspec": {
   "display_name": "Python 3.10.4 ('env310')",
   "language": "python",
   "name": "python3"
  },
  "language_info": {
   "codemirror_mode": {
    "name": "ipython",
    "version": 3
   },
   "file_extension": ".py",
   "mimetype": "text/x-python",
   "name": "python",
   "nbconvert_exporter": "python",
   "pygments_lexer": "ipython3",
   "version": "3.10.4"
  },
  "orig_nbformat": 4,
  "vscode": {
   "interpreter": {
    "hash": "3c84e890491e19a1806ba6d8997d3a5373ca13adc3832f7ff9f28d04534d40f7"
   }
  }
 },
 "nbformat": 4,
 "nbformat_minor": 2
}
