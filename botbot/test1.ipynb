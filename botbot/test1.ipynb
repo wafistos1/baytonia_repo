{
 "cells": [
  {
   "cell_type": "code",
   "execution_count": 1,
   "metadata": {},
   "outputs": [],
   "source": [
    "import time\n",
    "import os\n",
    "import logging\n",
    "import requests\n",
    "import re\n",
    "from dataclasses import dataclass\n",
    "from random import randint\n",
    "import pandas as pd\n",
    "import numpy as np\n",
    "from bs4 import BeautifulSoup\n",
    "from selenium import webdriver\n",
    "from selenium.webdriver.common.keys import Keys\n",
    "from selenium.webdriver.support import expected_conditions as EC\n",
    "from selenium.webdriver.common.by import By\n",
    "from selenium.webdriver.support.wait import WebDriverWait\n",
    "from selenium.webdriver.firefox.options import Options\n",
    "from fake_useragent import UserAgent"
   ]
  },
  {
   "cell_type": "code",
   "execution_count": 2,
   "metadata": {},
   "outputs": [],
   "source": [
    "\n",
    "logging.basicConfig(format='%(levelname)s:%(message)s', level=logging.INFO)\n",
    "\n",
    "def return_id_ele(name, soup):\n",
    "    return soup.find('h5', text=name).next_element.next_element.next_element.next_element.next_element['id']\n"
   ]
  },
  {
   "cell_type": "code",
   "execution_count": 22,
   "metadata": {},
   "outputs": [],
   "source": [
    "@dataclass\n",
    "class Person:\n",
    "    \"\"\"Class for keeping track of an item in inventory.\"\"\"\n",
    "    first_name: str\n",
    "    last_name: str\n",
    "    third_name: str\n",
    "    phone: str\n",
    "    id_service_type: str  #  'نوع المعاملة'\n",
    "    name_cir: str # اسم دائرة الاحوال\n",
    "    meal: str #  الوجبة\n",
    "    familly_number: str # 'عدد افراد الاسرة'\n",
    "    confirmation: int\n",
    "\n"
   ]
  },
  {
   "cell_type": "code",
   "execution_count": 18,
   "metadata": {},
   "outputs": [],
   "source": [
    "def open_driver():\n",
    "    options = Options()\n",
    "    ua = UserAgent()\n",
    "    userAgent = ua.random\n",
    "    logging.info(userAgent)\n",
    "    options.add_argument(f'user-agent={userAgent}')\n",
    "    #opti#     driver = webdriver.Firefox()ons.add_argument(\"--headless\")\n",
    "    driver = webdriver.Firefox(firefox_options=options)\n",
    "    return driver"
   ]
  },
  {
   "cell_type": "code",
   "execution_count": 66,
   "metadata": {},
   "outputs": [],
   "source": [
    "def get_data_first_page(person: Person, driver):\n",
    "    waiting = 90\n",
    "    # Enter name1 --- > phone\n",
    "    wait = WebDriverWait(driver, 20)\n",
    "    first_name = WebDriverWait(driver,waiting).until(EC.visibility_of_element_located((By.XPATH,'//input[@name=\"FirstName\"]')))\n",
    "    first_name.send_keys(person.first_name)\n",
    "    last_name = driver.find_element_by_xpath('//input[@name=\"SecondName\"]').send_keys(person.last_name)\n",
    "    third_name = driver.find_element_by_xpath('//input[@name=\"ThirdName\"]').send_keys(person.third_name)\n",
    "    phone = driver.find_element_by_xpath('//input[@name=\"Phone\"]').send_keys(person.phone)\n",
    "\n",
    "    # Fresh data\n",
    "    r = driver.find_element_by_tag_name('body').get_attribute('innerHTML')\n",
    "    soup = BeautifulSoup(r, \"html.parser\")\n",
    "    \n",
    "    # Set servie type 'نوع المعاملة'\n",
    "    id_service_type = return_id_ele('نوع المعاملة', soup)\n",
    "    time.sleep(2)\n",
    "    wait.until(EC.element_to_be_clickable((By.ID, f'{id_service_type}'))).click()\n",
    "    print(\"id: \", person.id_service_type)\n",
    "    wait.until(EC.element_to_be_clickable((By.XPATH, f'//li[@aria-label=\"{person.id_service_type}\"]'))).click()\n",
    "    # driver.find_element_by_id(f'{id_service_type}').click()\n",
    "    # driver.find_element_by_xpath(f'//li[@aria-label=\"{person.id_service_type}\"]').click()\n",
    "    \n",
    "    # Set Name circonsiption 'اسم دائرة الاحوال'\n",
    "    name_cir = return_id_ele('اسم دائرة الاحوال', soup)\n",
    "    # driver.find_element_by_id(f'{name_cir}').click()\n",
    "    # driver.find_element_by_xpath(f'//li[@aria-label=\"{person.name_cir}\"]').click()\n",
    "    wait.until(EC.element_to_be_clickable((By.ID, f'{name_cir}'))).click()\n",
    "    wait.until(EC.element_to_be_clickable((By.XPATH, f'//li[@aria-label=\"{person.name_cir}\"]'))).click()\n",
    "    \n",
    "    # Set Meal الوجبة\n",
    "    name_toto = return_id_ele('الوجبة', soup)\n",
    "    # driver.find_element_by_id(f'{name_toto}').click()\n",
    "    # driver.find_element_by_xpath(f'//input[@id=\"search-{name_toto}\"]').click()\n",
    "    # driver.find_element_by_xpath(f'//li[@aria-label=\"{person.meal}\"]').click()\n",
    "    wait.until(EC.element_to_be_clickable((By.ID, f'{name_toto}'))).click()\n",
    "    wait.until(EC.element_to_be_clickable((By.XPATH, f'//input[@id=\"search-{name_toto}\"]'))).click()\n",
    "    wait.until(EC.element_to_be_clickable((By.XPATH, f'//li[@aria-label=\"{person.meal}\"]'))).click()\n",
    "    \n",
    "    # Set Family number 'عدد افراد الاسرة'\n",
    "    familly_number = return_id_ele('عدد افراد الاسرة', soup)\n",
    "    # driver.find_element_by_id(f'{familly_number}').click()\n",
    "    # driver.find_element_by_xpath(f'//input[@id=\"search-{familly_number}\"]').click()\n",
    "    # driver.find_element_by_xpath(f'//li[@aria-label=\"{person.familly_number}\"]').click()\n",
    "    wait.until(EC.element_to_be_clickable((By.ID, f'{familly_number}'))).click()\n",
    "    wait.until(EC.element_to_be_clickable((By.XPATH, f'//input[@id=\"search-{familly_number}\"]'))).click()\n",
    "    wait.until(EC.element_to_be_clickable((By.XPATH, f'//li[@aria-label=\"{person.familly_number}\"]'))).click()\n",
    "    \n",
    "    # Click next\n",
    "    enter_button = WebDriverWait(driver,waiting).until(EC.visibility_of_element_located((By.XPATH,'//span[text()=\"تسجيل الدخول\"]')))\n",
    "    enter_button.click()\n",
    "\n",
    "def get_confirmation_page(person: Person, driver):\n",
    "    waiting = 90\n",
    "    wait = WebDriverWait(driver, 20)\n",
    "    confirme_input = WebDriverWait(driver,waiting).until(EC.visibility_of_element_located((By.XPATH,'//input[@name=\"ConfirmCode\"]')))\n",
    "    confirme_input.send_keys(person.confirmation)\n",
    "    time.sleep(2)\n",
    "    # register_btn = driver.find_element_by_class_name('rz-button-text')\n",
    "    register_btn = wait.until(EC.element_to_be_clickable((By.CLASS_NAME, 'rz-button-text')))\n",
    "    register_btn.click()\n",
    "    time.sleep(4)\n",
    "    # confirmation_btn = driver.find_element_by_class_name('btn-success')\n",
    "    confirmation_btn = wait.until(EC.element_to_be_clickable((By.CLASS_NAME, 'btn-success')))\n",
    "    confirmation_btn.click()\n",
    "    click_for_confirmation = 'اضغط هنا لإكمال عملية الحجز'\n",
    "    return driver.find_element_by_xpath(f'//span[text()=\"{click_for_confirmation}\"]').text\n"
   ]
  },
  {
   "cell_type": "code",
   "execution_count": null,
   "metadata": {},
   "outputs": [],
   "source": [
    "url = 'https://reg.nid-moi.gov.iq/'"
   ]
  },
  {
   "cell_type": "code",
   "execution_count": 30,
   "metadata": {},
   "outputs": [],
   "source": [
    "WORNG_MESSAGE = 'رقم الهاتف تم الحجز به مسبقاً يرجى الانتظار 30 يوم للحجز مرة اخرى'\n",
    "SEVICE_TYPE_LIST = [\n",
    "    '>الواقعات الحياتية' ,\n",
    "    '>تسجيل لأول مرة',\n",
    "]\n",
    "\n",
    "NAME_CIRCONSIPTION_LIST = [\n",
    "    '>دائرة احوال الرصافة' ,\n",
    "    '>دائرة احوال بغداد الجديدة' ,\n",
    "    '>دائرة احوال الكرادة الشرقية' ,\n",
    "    '>دائرة احوال الراشدية' ,\n",
    "    '>دائرة احوال الموصل الايمن' ,\n",
    "]\n",
    "\n",
    "MEAL_LIST = [\n",
    "    '>صباحي'\n",
    "]\n",
    "\n",
    "NUMBER_FAMILY_LIST =[\n",
    "    '>1',\n",
    "    '>2',\n",
    "    '>3',\n",
    "    '>4',\n",
    "    '>4',\n",
    "    '>5',\n",
    "    '>6',\n",
    "    '>7',\n",
    "    '>8',\n",
    "    '>9',\n",
    "]"
   ]
  },
  {
   "cell_type": "code",
   "execution_count": 17,
   "metadata": {},
   "outputs": [],
   "source": [
    "def open_driver():\n",
    "    options = Options()\n",
    "    ua = UserAgent()\n",
    "    userAgent = ua.random\n",
    "    logging.info(userAgent)\n",
    "    options.add_argument(f'user-agent={userAgent}')\n",
    "    #opti#     driver = webdriver.Firefox()ons.add_argument(\"--headless\")\n",
    "    driver = webdriver.Firefox(firefox_options=options)\n",
    "    return driver"
   ]
  },
  {
   "cell_type": "code",
   "execution_count": 41,
   "metadata": {},
   "outputs": [],
   "source": [
    "person1 = Person(\n",
    "    'علي',\n",
    "    'هاشم',\n",
    "    'صالح',\n",
    "    '07806840569',\n",
    "    '>تسجيل لأول مرة',\n",
    "    NAME_CIRCONSIPTION_LIST[4],\n",
    "    MEAL_LIST[0],\n",
    "    NUMBER_FAMILY_LIST[5],\n",
    "    364536,\n",
    ")\n",
    "person2 = Person(\n",
    "    'عبدالله',\n",
    "    'رامي',\n",
    "    'موفق',\n",
    "    '07711037549',\n",
    "    SEVICE_TYPE_LIST[1],\n",
    "    NAME_CIRCONSIPTION_LIST[4],\n",
    "    MEAL_LIST[0],\n",
    "    NUMBER_FAMILY_LIST[3],\n",
    "    951864,\n",
    ")"
   ]
  },
  {
   "cell_type": "code",
   "execution_count": 31,
   "metadata": {},
   "outputs": [
    {
     "data": {
      "text/plain": [
       "'>تسجيل لأول مرة'"
      ]
     },
     "execution_count": 31,
     "metadata": {},
     "output_type": "execute_result"
    }
   ],
   "source": [
    "SEVICE_TYPE_LIST[1]"
   ]
  },
  {
   "cell_type": "code",
   "execution_count": 67,
   "metadata": {},
   "outputs": [
    {
     "name": "stderr",
     "output_type": "stream",
     "text": [
      "INFO:Mozilla/5.0 (Windows NT 6.2; WOW64) AppleWebKit/537.36 (KHTML, like Gecko) Chrome/27.0.1453.93 Safari/537.36\n"
     ]
    },
    {
     "name": "stdout",
     "output_type": "stream",
     "text": [
      "id:  >تسجيل لأول مرة\n"
     ]
    },
    {
     "name": "stderr",
     "output_type": "stream",
     "text": [
      "INFO:Go Reservation Page.\n",
      "INFO:Reservation Success\n"
     ]
    }
   ],
   "source": [
    "driver = open_driver()\n",
    "driver.get('https://reg.nid-moi.gov.iq/')\n",
    "get_data_first_page(person1, driver)\n",
    "logging.info('Go Reservation Page.')\n",
    "time.sleep(1)\n",
    "RESERVATION = get_confirmation_page(person1, driver)\n",
    "if RESERVATION != WORNG_MESSAGE:\n",
    "    logging.info('Reservation Success')\n",
    "else:\n",
    "    logging.info('Fail reservation.')"
   ]
  },
  {
   "cell_type": "code",
   "execution_count": 69,
   "metadata": {},
   "outputs": [
    {
     "name": "stderr",
     "output_type": "stream",
     "text": [
      "INFO:Mozilla/5.0 (Windows NT 5.1) AppleWebKit/537.36 (KHTML, like Gecko) Chrome/34.0.1866.237 Safari/537.36\n"
     ]
    },
    {
     "name": "stdout",
     "output_type": "stream",
     "text": [
      "id:  >تسجيل لأول مرة\n"
     ]
    },
    {
     "name": "stderr",
     "output_type": "stream",
     "text": [
      "INFO:Go Reservation Page.\n",
      "INFO:Reservation Success\n"
     ]
    }
   ],
   "source": [
    "driver = open_driver()\n",
    "driver.get('https://reg.nid-moi.gov.iq/')\n",
    "get_data_first_page(person2, driver)\n",
    "logging.info('Go Reservation Page.')\n",
    "time.sleep(1)\n",
    "RESERVATION = get_confirmation_page(person2, driver)\n",
    "if RESERVATION != WORNG_MESSAGE:\n",
    "    logging.info('Reservation Success')\n",
    "else:\n",
    "    logging.info('Fail reservation.')"
   ]
  },
  {
   "cell_type": "code",
   "execution_count": null,
   "metadata": {},
   "outputs": [],
   "source": [
    "ElementClickInterceptedException, TimeoutException, WebDriverException"
   ]
  },
  {
   "cell_type": "code",
   "execution_count": 65,
   "metadata": {},
   "outputs": [],
   "source": [
    "driver.find_element_by_xpath('//div[@id=\"6CfO0QqT5k\"]').click()"
   ]
  },
  {
   "cell_type": "code",
   "execution_count": null,
   "metadata": {},
   "outputs": [],
   "source": [
    "driver = open_driver()\n",
    "driver.get('GET', 'https://reg.nid-moi.gov.iq/')"
   ]
  },
  {
   "cell_type": "code",
   "execution_count": null,
   "metadata": {},
   "outputs": [],
   "source": [
    "POST\n",
    "\thttps://www.moj.gov.sa/ar/opendata/bi/birealestate/_vti_bin/PPS/PPSRenderingService.json/UpdateProviderSelections"
   ]
  },
  {
   "cell_type": "code",
   "execution_count": 74,
   "metadata": {},
   "outputs": [],
   "source": [
    "payload = {\"providerSelectionsUpdateRecord\":{\"ProviderRecord\":{\"Id\":\"pps_73cc0abbdf1a4f2585a7e4f1c3373549\",\"ClientId\":\"pps_73cc0abbdf1a4f2585a7e4f1c3373549\",\"Configuration\":\"/ar/opendata/bi/birealestate/Lists/PerformancePoint Content/1150_.000\",\"AssemblyQualifiedName\":\"Microsoft.PerformancePoint.Scorecards.WebControls.FilterWebPart, Microsoft.PerformancePoint.Scorecards.WebControls, Version=15.0.0.0, Culture=neutral, PublicKeyToken=71e9bce111e9429c\",\"ConsumerInputs\":\"[]\",\"ViewState\":{\"FilterSelections\":\"{\\\"list\\\":[{\\\"_consumerParameter\\\":\\\"EndPoint_Filter_NonEmpty\\\",\\\"_dataValidated\\\":true,\\\"_displayColumnName\\\":\\\"DisplayValue\\\",\\\"_providerValues\\\":[[{\\\"Key\\\":\\\"Key\\\",\\\"Value\\\":\\\"F0D5C1DE60CE2D8742664F09230AFA37\\\"},{\\\"Key\\\":\\\"ParentKey\\\",\\\"Value\\\":\\\"BBE7D1F47156389FD96AA71602BDC027\\\"},{\\\"Key\\\":\\\"IsDefault\\\",\\\"Value\\\":false},{\\\"Key\\\":\\\"MemberLevelUniqueName\\\",\\\"Value\\\":\\\"[DimDate].[_DateYear].[_DateYear]\\\"},{\\\"Key\\\":\\\"MemberLevelDepthName\\\",\\\"Value\\\":\\\"1\\\"},{\\\"Key\\\":\\\"MemberDimensionUniqueName\\\",\\\"Value\\\":\\\"[DimDate].[_DateYear]\\\"},{\\\"Key\\\":\\\"IsCalculatedMemberColumn\\\",\\\"Value\\\":\\\"False\\\"},{\\\"Key\\\":\\\"CalculatedMemberExpressionColumn\\\",\\\"Value\\\":null},{\\\"Key\\\":\\\"DisplayValue\\\",\\\"Value\\\":\\\"1432\\\"},{\\\"Key\\\":\\\"MemberUniqueName\\\",\\\"Value\\\":\\\"[DimDate].[_DateYear].&[1432]\\\"}]],\\\"_valuesColumnName\\\":\\\"MemberUniqueName\\\"}]}\"}},\"ParameterRecord\":{\"ProviderId\":\"pps_73cc0abbdf1a4f2585a7e4f1c3373549\",\"Name\":\"FilterValues\",\"Selections\":[\"294F97B7218183CC3319EC83F1D51E21\"],\"UpdateAction\":2}}}"
   ]
  },
  {
   "cell_type": "code",
   "execution_count": 77,
   "metadata": {},
   "outputs": [
    {
     "ename": "ConnectTimeout",
     "evalue": "HTTPSConnectionPool(host='www.moj.gov.sa', port=443): Max retries exceeded with url: /ar/opendata/bi/birealestate/_vti_bin/PPS/PPSRenderingService.json/UpdateProviderSelections (Caused by ConnectTimeoutError(<urllib3.connection.HTTPSConnection object at 0x7f493ca8a920>, 'Connection to www.moj.gov.sa timed out. (connect timeout=None)'))",
     "output_type": "error",
     "traceback": [
      "\u001b[0;31m---------------------------------------------------------------------------\u001b[0m",
      "\u001b[0;31mTimeoutError\u001b[0m                              Traceback (most recent call last)",
      "File \u001b[0;32m~/anaconda3/envs/env310/lib/python3.10/site-packages/urllib3/connection.py:174\u001b[0m, in \u001b[0;36mHTTPConnection._new_conn\u001b[0;34m(self)\u001b[0m\n\u001b[1;32m    173\u001b[0m \u001b[39mtry\u001b[39;00m:\n\u001b[0;32m--> 174\u001b[0m     conn \u001b[39m=\u001b[39m connection\u001b[39m.\u001b[39;49mcreate_connection(\n\u001b[1;32m    175\u001b[0m         (\u001b[39mself\u001b[39;49m\u001b[39m.\u001b[39;49m_dns_host, \u001b[39mself\u001b[39;49m\u001b[39m.\u001b[39;49mport), \u001b[39mself\u001b[39;49m\u001b[39m.\u001b[39;49mtimeout, \u001b[39m*\u001b[39;49m\u001b[39m*\u001b[39;49mextra_kw\n\u001b[1;32m    176\u001b[0m     )\n\u001b[1;32m    178\u001b[0m \u001b[39mexcept\u001b[39;00m SocketTimeout:\n",
      "File \u001b[0;32m~/anaconda3/envs/env310/lib/python3.10/site-packages/urllib3/util/connection.py:95\u001b[0m, in \u001b[0;36mcreate_connection\u001b[0;34m(address, timeout, source_address, socket_options)\u001b[0m\n\u001b[1;32m     94\u001b[0m \u001b[39mif\u001b[39;00m err \u001b[39mis\u001b[39;00m \u001b[39mnot\u001b[39;00m \u001b[39mNone\u001b[39;00m:\n\u001b[0;32m---> 95\u001b[0m     \u001b[39mraise\u001b[39;00m err\n\u001b[1;32m     97\u001b[0m \u001b[39mraise\u001b[39;00m socket\u001b[39m.\u001b[39merror(\u001b[39m\"\u001b[39m\u001b[39mgetaddrinfo returns an empty list\u001b[39m\u001b[39m\"\u001b[39m)\n",
      "File \u001b[0;32m~/anaconda3/envs/env310/lib/python3.10/site-packages/urllib3/util/connection.py:85\u001b[0m, in \u001b[0;36mcreate_connection\u001b[0;34m(address, timeout, source_address, socket_options)\u001b[0m\n\u001b[1;32m     84\u001b[0m     sock\u001b[39m.\u001b[39mbind(source_address)\n\u001b[0;32m---> 85\u001b[0m sock\u001b[39m.\u001b[39;49mconnect(sa)\n\u001b[1;32m     86\u001b[0m \u001b[39mreturn\u001b[39;00m sock\n",
      "\u001b[0;31mTimeoutError\u001b[0m: [Errno 110] Connection timed out",
      "\nDuring handling of the above exception, another exception occurred:\n",
      "\u001b[0;31mConnectTimeoutError\u001b[0m                       Traceback (most recent call last)",
      "File \u001b[0;32m~/anaconda3/envs/env310/lib/python3.10/site-packages/urllib3/connectionpool.py:703\u001b[0m, in \u001b[0;36mHTTPConnectionPool.urlopen\u001b[0;34m(self, method, url, body, headers, retries, redirect, assert_same_host, timeout, pool_timeout, release_conn, chunked, body_pos, **response_kw)\u001b[0m\n\u001b[1;32m    702\u001b[0m \u001b[39m# Make the request on the httplib connection object.\u001b[39;00m\n\u001b[0;32m--> 703\u001b[0m httplib_response \u001b[39m=\u001b[39m \u001b[39mself\u001b[39;49m\u001b[39m.\u001b[39;49m_make_request(\n\u001b[1;32m    704\u001b[0m     conn,\n\u001b[1;32m    705\u001b[0m     method,\n\u001b[1;32m    706\u001b[0m     url,\n\u001b[1;32m    707\u001b[0m     timeout\u001b[39m=\u001b[39;49mtimeout_obj,\n\u001b[1;32m    708\u001b[0m     body\u001b[39m=\u001b[39;49mbody,\n\u001b[1;32m    709\u001b[0m     headers\u001b[39m=\u001b[39;49mheaders,\n\u001b[1;32m    710\u001b[0m     chunked\u001b[39m=\u001b[39;49mchunked,\n\u001b[1;32m    711\u001b[0m )\n\u001b[1;32m    713\u001b[0m \u001b[39m# If we're going to release the connection in ``finally:``, then\u001b[39;00m\n\u001b[1;32m    714\u001b[0m \u001b[39m# the response doesn't need to know about the connection. Otherwise\u001b[39;00m\n\u001b[1;32m    715\u001b[0m \u001b[39m# it will also try to release it and we'll have a double-release\u001b[39;00m\n\u001b[1;32m    716\u001b[0m \u001b[39m# mess.\u001b[39;00m\n",
      "File \u001b[0;32m~/anaconda3/envs/env310/lib/python3.10/site-packages/urllib3/connectionpool.py:386\u001b[0m, in \u001b[0;36mHTTPConnectionPool._make_request\u001b[0;34m(self, conn, method, url, timeout, chunked, **httplib_request_kw)\u001b[0m\n\u001b[1;32m    385\u001b[0m \u001b[39mtry\u001b[39;00m:\n\u001b[0;32m--> 386\u001b[0m     \u001b[39mself\u001b[39;49m\u001b[39m.\u001b[39;49m_validate_conn(conn)\n\u001b[1;32m    387\u001b[0m \u001b[39mexcept\u001b[39;00m (SocketTimeout, BaseSSLError) \u001b[39mas\u001b[39;00m e:\n\u001b[1;32m    388\u001b[0m     \u001b[39m# Py2 raises this as a BaseSSLError, Py3 raises it as socket timeout.\u001b[39;00m\n",
      "File \u001b[0;32m~/anaconda3/envs/env310/lib/python3.10/site-packages/urllib3/connectionpool.py:1040\u001b[0m, in \u001b[0;36mHTTPSConnectionPool._validate_conn\u001b[0;34m(self, conn)\u001b[0m\n\u001b[1;32m   1039\u001b[0m \u001b[39mif\u001b[39;00m \u001b[39mnot\u001b[39;00m \u001b[39mgetattr\u001b[39m(conn, \u001b[39m\"\u001b[39m\u001b[39msock\u001b[39m\u001b[39m\"\u001b[39m, \u001b[39mNone\u001b[39;00m):  \u001b[39m# AppEngine might not have  `.sock`\u001b[39;00m\n\u001b[0;32m-> 1040\u001b[0m     conn\u001b[39m.\u001b[39;49mconnect()\n\u001b[1;32m   1042\u001b[0m \u001b[39mif\u001b[39;00m \u001b[39mnot\u001b[39;00m conn\u001b[39m.\u001b[39mis_verified:\n",
      "File \u001b[0;32m~/anaconda3/envs/env310/lib/python3.10/site-packages/urllib3/connection.py:358\u001b[0m, in \u001b[0;36mHTTPSConnection.connect\u001b[0;34m(self)\u001b[0m\n\u001b[1;32m    356\u001b[0m \u001b[39mdef\u001b[39;00m \u001b[39mconnect\u001b[39m(\u001b[39mself\u001b[39m):\n\u001b[1;32m    357\u001b[0m     \u001b[39m# Add certificate verification\u001b[39;00m\n\u001b[0;32m--> 358\u001b[0m     \u001b[39mself\u001b[39m\u001b[39m.\u001b[39msock \u001b[39m=\u001b[39m conn \u001b[39m=\u001b[39m \u001b[39mself\u001b[39;49m\u001b[39m.\u001b[39;49m_new_conn()\n\u001b[1;32m    359\u001b[0m     hostname \u001b[39m=\u001b[39m \u001b[39mself\u001b[39m\u001b[39m.\u001b[39mhost\n",
      "File \u001b[0;32m~/anaconda3/envs/env310/lib/python3.10/site-packages/urllib3/connection.py:179\u001b[0m, in \u001b[0;36mHTTPConnection._new_conn\u001b[0;34m(self)\u001b[0m\n\u001b[1;32m    178\u001b[0m \u001b[39mexcept\u001b[39;00m SocketTimeout:\n\u001b[0;32m--> 179\u001b[0m     \u001b[39mraise\u001b[39;00m ConnectTimeoutError(\n\u001b[1;32m    180\u001b[0m         \u001b[39mself\u001b[39m,\n\u001b[1;32m    181\u001b[0m         \u001b[39m\"\u001b[39m\u001b[39mConnection to \u001b[39m\u001b[39m%s\u001b[39;00m\u001b[39m timed out. (connect timeout=\u001b[39m\u001b[39m%s\u001b[39;00m\u001b[39m)\u001b[39m\u001b[39m\"\u001b[39m\n\u001b[1;32m    182\u001b[0m         \u001b[39m%\u001b[39m (\u001b[39mself\u001b[39m\u001b[39m.\u001b[39mhost, \u001b[39mself\u001b[39m\u001b[39m.\u001b[39mtimeout),\n\u001b[1;32m    183\u001b[0m     )\n\u001b[1;32m    185\u001b[0m \u001b[39mexcept\u001b[39;00m SocketError \u001b[39mas\u001b[39;00m e:\n",
      "\u001b[0;31mConnectTimeoutError\u001b[0m: (<urllib3.connection.HTTPSConnection object at 0x7f493ca8a920>, 'Connection to www.moj.gov.sa timed out. (connect timeout=None)')",
      "\nDuring handling of the above exception, another exception occurred:\n",
      "\u001b[0;31mMaxRetryError\u001b[0m                             Traceback (most recent call last)",
      "File \u001b[0;32m~/anaconda3/envs/env310/lib/python3.10/site-packages/requests/adapters.py:440\u001b[0m, in \u001b[0;36mHTTPAdapter.send\u001b[0;34m(self, request, stream, timeout, verify, cert, proxies)\u001b[0m\n\u001b[1;32m    439\u001b[0m \u001b[39mif\u001b[39;00m \u001b[39mnot\u001b[39;00m chunked:\n\u001b[0;32m--> 440\u001b[0m     resp \u001b[39m=\u001b[39m conn\u001b[39m.\u001b[39;49murlopen(\n\u001b[1;32m    441\u001b[0m         method\u001b[39m=\u001b[39;49mrequest\u001b[39m.\u001b[39;49mmethod,\n\u001b[1;32m    442\u001b[0m         url\u001b[39m=\u001b[39;49murl,\n\u001b[1;32m    443\u001b[0m         body\u001b[39m=\u001b[39;49mrequest\u001b[39m.\u001b[39;49mbody,\n\u001b[1;32m    444\u001b[0m         headers\u001b[39m=\u001b[39;49mrequest\u001b[39m.\u001b[39;49mheaders,\n\u001b[1;32m    445\u001b[0m         redirect\u001b[39m=\u001b[39;49m\u001b[39mFalse\u001b[39;49;00m,\n\u001b[1;32m    446\u001b[0m         assert_same_host\u001b[39m=\u001b[39;49m\u001b[39mFalse\u001b[39;49;00m,\n\u001b[1;32m    447\u001b[0m         preload_content\u001b[39m=\u001b[39;49m\u001b[39mFalse\u001b[39;49;00m,\n\u001b[1;32m    448\u001b[0m         decode_content\u001b[39m=\u001b[39;49m\u001b[39mFalse\u001b[39;49;00m,\n\u001b[1;32m    449\u001b[0m         retries\u001b[39m=\u001b[39;49m\u001b[39mself\u001b[39;49m\u001b[39m.\u001b[39;49mmax_retries,\n\u001b[1;32m    450\u001b[0m         timeout\u001b[39m=\u001b[39;49mtimeout\n\u001b[1;32m    451\u001b[0m     )\n\u001b[1;32m    453\u001b[0m \u001b[39m# Send the request.\u001b[39;00m\n\u001b[1;32m    454\u001b[0m \u001b[39melse\u001b[39;00m:\n",
      "File \u001b[0;32m~/anaconda3/envs/env310/lib/python3.10/site-packages/urllib3/connectionpool.py:785\u001b[0m, in \u001b[0;36mHTTPConnectionPool.urlopen\u001b[0;34m(self, method, url, body, headers, retries, redirect, assert_same_host, timeout, pool_timeout, release_conn, chunked, body_pos, **response_kw)\u001b[0m\n\u001b[1;32m    783\u001b[0m     e \u001b[39m=\u001b[39m ProtocolError(\u001b[39m\"\u001b[39m\u001b[39mConnection aborted.\u001b[39m\u001b[39m\"\u001b[39m, e)\n\u001b[0;32m--> 785\u001b[0m retries \u001b[39m=\u001b[39m retries\u001b[39m.\u001b[39;49mincrement(\n\u001b[1;32m    786\u001b[0m     method, url, error\u001b[39m=\u001b[39;49me, _pool\u001b[39m=\u001b[39;49m\u001b[39mself\u001b[39;49m, _stacktrace\u001b[39m=\u001b[39;49msys\u001b[39m.\u001b[39;49mexc_info()[\u001b[39m2\u001b[39;49m]\n\u001b[1;32m    787\u001b[0m )\n\u001b[1;32m    788\u001b[0m retries\u001b[39m.\u001b[39msleep()\n",
      "File \u001b[0;32m~/anaconda3/envs/env310/lib/python3.10/site-packages/urllib3/util/retry.py:592\u001b[0m, in \u001b[0;36mRetry.increment\u001b[0;34m(self, method, url, response, error, _pool, _stacktrace)\u001b[0m\n\u001b[1;32m    591\u001b[0m \u001b[39mif\u001b[39;00m new_retry\u001b[39m.\u001b[39mis_exhausted():\n\u001b[0;32m--> 592\u001b[0m     \u001b[39mraise\u001b[39;00m MaxRetryError(_pool, url, error \u001b[39mor\u001b[39;00m ResponseError(cause))\n\u001b[1;32m    594\u001b[0m log\u001b[39m.\u001b[39mdebug(\u001b[39m\"\u001b[39m\u001b[39mIncremented Retry for (url=\u001b[39m\u001b[39m'\u001b[39m\u001b[39m%s\u001b[39;00m\u001b[39m'\u001b[39m\u001b[39m): \u001b[39m\u001b[39m%r\u001b[39;00m\u001b[39m\"\u001b[39m, url, new_retry)\n",
      "\u001b[0;31mMaxRetryError\u001b[0m: HTTPSConnectionPool(host='www.moj.gov.sa', port=443): Max retries exceeded with url: /ar/opendata/bi/birealestate/_vti_bin/PPS/PPSRenderingService.json/UpdateProviderSelections (Caused by ConnectTimeoutError(<urllib3.connection.HTTPSConnection object at 0x7f493ca8a920>, 'Connection to www.moj.gov.sa timed out. (connect timeout=None)'))",
      "\nDuring handling of the above exception, another exception occurred:\n",
      "\u001b[0;31mConnectTimeout\u001b[0m                            Traceback (most recent call last)",
      "\u001b[1;32m/home/wafistos/Documents/Projects/scaping_wafi/botbot/test1.ipynb Cell 18\u001b[0m in \u001b[0;36m<cell line: 3>\u001b[0;34m()\u001b[0m\n\u001b[1;32m      <a href='vscode-notebook-cell:/home/wafistos/Documents/Projects/scaping_wafi/botbot/test1.ipynb#X24sZmlsZQ%3D%3D?line=0'>1</a>\u001b[0m headers \u001b[39m=\u001b[39m {\u001b[39m'\u001b[39m\u001b[39mUser-Agent\u001b[39m\u001b[39m'\u001b[39m: \u001b[39m'\u001b[39m\u001b[39mMozilla/5.0 (Macintosh; Intel Mac OS X 10_10_1) AppleWebKit/537.36 (KHTML, like Gecko) Chrome/39.0.2171.95 Safari/537.36\u001b[39m\u001b[39m'\u001b[39m}\n\u001b[1;32m      <a href='vscode-notebook-cell:/home/wafistos/Documents/Projects/scaping_wafi/botbot/test1.ipynb#X24sZmlsZQ%3D%3D?line=1'>2</a>\u001b[0m cookies \u001b[39m=\u001b[39m {\u001b[39m'\u001b[39m\u001b[39msession\u001b[39m\u001b[39m'\u001b[39m: \u001b[39m'\u001b[39m\u001b[39m134-8225175-035522023\u001b[39m\u001b[39m'\u001b[39m}\n\u001b[0;32m----> <a href='vscode-notebook-cell:/home/wafistos/Documents/Projects/scaping_wafi/botbot/test1.ipynb#X24sZmlsZQ%3D%3D?line=2'>3</a>\u001b[0m r \u001b[39m=\u001b[39m requests\u001b[39m.\u001b[39;49mpost(\u001b[39m'\u001b[39;49m\u001b[39mhttps://www.moj.gov.sa/ar/opendata/bi/birealestate/_vti_bin/PPS/PPSRenderingService.json/UpdateProviderSelections\u001b[39;49m\u001b[39m'\u001b[39;49m, headers\u001b[39m=\u001b[39;49mheaders, cookies\u001b[39m=\u001b[39;49mcookies)\n\u001b[1;32m      <a href='vscode-notebook-cell:/home/wafistos/Documents/Projects/scaping_wafi/botbot/test1.ipynb#X24sZmlsZQ%3D%3D?line=3'>4</a>\u001b[0m soup \u001b[39m=\u001b[39m BeautifulSoup(r\u001b[39m.\u001b[39mcontent, \u001b[39m\"\u001b[39m\u001b[39mhtml.parser\u001b[39m\u001b[39m\"\u001b[39m, payload\u001b[39m=\u001b[39mpayload)\n",
      "File \u001b[0;32m~/anaconda3/envs/env310/lib/python3.10/site-packages/requests/api.py:117\u001b[0m, in \u001b[0;36mpost\u001b[0;34m(url, data, json, **kwargs)\u001b[0m\n\u001b[1;32m    105\u001b[0m \u001b[39mdef\u001b[39;00m \u001b[39mpost\u001b[39m(url, data\u001b[39m=\u001b[39m\u001b[39mNone\u001b[39;00m, json\u001b[39m=\u001b[39m\u001b[39mNone\u001b[39;00m, \u001b[39m*\u001b[39m\u001b[39m*\u001b[39mkwargs):\n\u001b[1;32m    106\u001b[0m     \u001b[39mr\u001b[39m\u001b[39m\"\"\"Sends a POST request.\u001b[39;00m\n\u001b[1;32m    107\u001b[0m \n\u001b[1;32m    108\u001b[0m \u001b[39m    :param url: URL for the new :class:`Request` object.\u001b[39;00m\n\u001b[0;32m   (...)\u001b[0m\n\u001b[1;32m    114\u001b[0m \u001b[39m    :rtype: requests.Response\u001b[39;00m\n\u001b[1;32m    115\u001b[0m \u001b[39m    \"\"\"\u001b[39;00m\n\u001b[0;32m--> 117\u001b[0m     \u001b[39mreturn\u001b[39;00m request(\u001b[39m'\u001b[39;49m\u001b[39mpost\u001b[39;49m\u001b[39m'\u001b[39;49m, url, data\u001b[39m=\u001b[39;49mdata, json\u001b[39m=\u001b[39;49mjson, \u001b[39m*\u001b[39;49m\u001b[39m*\u001b[39;49mkwargs)\n",
      "File \u001b[0;32m~/anaconda3/envs/env310/lib/python3.10/site-packages/requests/api.py:61\u001b[0m, in \u001b[0;36mrequest\u001b[0;34m(method, url, **kwargs)\u001b[0m\n\u001b[1;32m     57\u001b[0m \u001b[39m# By using the 'with' statement we are sure the session is closed, thus we\u001b[39;00m\n\u001b[1;32m     58\u001b[0m \u001b[39m# avoid leaving sockets open which can trigger a ResourceWarning in some\u001b[39;00m\n\u001b[1;32m     59\u001b[0m \u001b[39m# cases, and look like a memory leak in others.\u001b[39;00m\n\u001b[1;32m     60\u001b[0m \u001b[39mwith\u001b[39;00m sessions\u001b[39m.\u001b[39mSession() \u001b[39mas\u001b[39;00m session:\n\u001b[0;32m---> 61\u001b[0m     \u001b[39mreturn\u001b[39;00m session\u001b[39m.\u001b[39;49mrequest(method\u001b[39m=\u001b[39;49mmethod, url\u001b[39m=\u001b[39;49murl, \u001b[39m*\u001b[39;49m\u001b[39m*\u001b[39;49mkwargs)\n",
      "File \u001b[0;32m~/anaconda3/envs/env310/lib/python3.10/site-packages/requests/sessions.py:529\u001b[0m, in \u001b[0;36mSession.request\u001b[0;34m(self, method, url, params, data, headers, cookies, files, auth, timeout, allow_redirects, proxies, hooks, stream, verify, cert, json)\u001b[0m\n\u001b[1;32m    524\u001b[0m send_kwargs \u001b[39m=\u001b[39m {\n\u001b[1;32m    525\u001b[0m     \u001b[39m'\u001b[39m\u001b[39mtimeout\u001b[39m\u001b[39m'\u001b[39m: timeout,\n\u001b[1;32m    526\u001b[0m     \u001b[39m'\u001b[39m\u001b[39mallow_redirects\u001b[39m\u001b[39m'\u001b[39m: allow_redirects,\n\u001b[1;32m    527\u001b[0m }\n\u001b[1;32m    528\u001b[0m send_kwargs\u001b[39m.\u001b[39mupdate(settings)\n\u001b[0;32m--> 529\u001b[0m resp \u001b[39m=\u001b[39m \u001b[39mself\u001b[39;49m\u001b[39m.\u001b[39;49msend(prep, \u001b[39m*\u001b[39;49m\u001b[39m*\u001b[39;49msend_kwargs)\n\u001b[1;32m    531\u001b[0m \u001b[39mreturn\u001b[39;00m resp\n",
      "File \u001b[0;32m~/anaconda3/envs/env310/lib/python3.10/site-packages/requests/sessions.py:645\u001b[0m, in \u001b[0;36mSession.send\u001b[0;34m(self, request, **kwargs)\u001b[0m\n\u001b[1;32m    642\u001b[0m start \u001b[39m=\u001b[39m preferred_clock()\n\u001b[1;32m    644\u001b[0m \u001b[39m# Send the request\u001b[39;00m\n\u001b[0;32m--> 645\u001b[0m r \u001b[39m=\u001b[39m adapter\u001b[39m.\u001b[39;49msend(request, \u001b[39m*\u001b[39;49m\u001b[39m*\u001b[39;49mkwargs)\n\u001b[1;32m    647\u001b[0m \u001b[39m# Total elapsed time of the request (approximately)\u001b[39;00m\n\u001b[1;32m    648\u001b[0m elapsed \u001b[39m=\u001b[39m preferred_clock() \u001b[39m-\u001b[39m start\n",
      "File \u001b[0;32m~/anaconda3/envs/env310/lib/python3.10/site-packages/requests/adapters.py:507\u001b[0m, in \u001b[0;36mHTTPAdapter.send\u001b[0;34m(self, request, stream, timeout, verify, cert, proxies)\u001b[0m\n\u001b[1;32m    504\u001b[0m \u001b[39mif\u001b[39;00m \u001b[39misinstance\u001b[39m(e\u001b[39m.\u001b[39mreason, ConnectTimeoutError):\n\u001b[1;32m    505\u001b[0m     \u001b[39m# TODO: Remove this in 3.0.0: see #2811\u001b[39;00m\n\u001b[1;32m    506\u001b[0m     \u001b[39mif\u001b[39;00m \u001b[39mnot\u001b[39;00m \u001b[39misinstance\u001b[39m(e\u001b[39m.\u001b[39mreason, NewConnectionError):\n\u001b[0;32m--> 507\u001b[0m         \u001b[39mraise\u001b[39;00m ConnectTimeout(e, request\u001b[39m=\u001b[39mrequest)\n\u001b[1;32m    509\u001b[0m \u001b[39mif\u001b[39;00m \u001b[39misinstance\u001b[39m(e\u001b[39m.\u001b[39mreason, ResponseError):\n\u001b[1;32m    510\u001b[0m     \u001b[39mraise\u001b[39;00m RetryError(e, request\u001b[39m=\u001b[39mrequest)\n",
      "\u001b[0;31mConnectTimeout\u001b[0m: HTTPSConnectionPool(host='www.moj.gov.sa', port=443): Max retries exceeded with url: /ar/opendata/bi/birealestate/_vti_bin/PPS/PPSRenderingService.json/UpdateProviderSelections (Caused by ConnectTimeoutError(<urllib3.connection.HTTPSConnection object at 0x7f493ca8a920>, 'Connection to www.moj.gov.sa timed out. (connect timeout=None)'))"
     ]
    }
   ],
   "source": [
    "headers = {'User-Agent': 'Mozilla/5.0 (Macintosh; Intel Mac OS X 10_10_1) AppleWebKit/537.36 (KHTML, like Gecko) Chrome/39.0.2171.95 Safari/537.36'}\n",
    "cookies = {'session': '134-8225175-035522023'}\n",
    "r = requests.post('https://www.moj.gov.sa/ar/opendata/bi/birealestate/_vti_bin/PPS/PPSRenderingService.json/UpdateProviderSelections', headers=headers, cookies=cookies)\n",
    "soup = BeautifulSoup(r.content, \"html.parser\", payload=payload)"
   ]
  },
  {
   "cell_type": "code",
   "execution_count": null,
   "metadata": {},
   "outputs": [],
   "source": [
    "soup"
   ]
  }
 ],
 "metadata": {
  "kernelspec": {
   "display_name": "Python 3.10.4 ('env310')",
   "language": "python",
   "name": "python3"
  },
  "language_info": {
   "codemirror_mode": {
    "name": "ipython",
    "version": 3
   },
   "file_extension": ".py",
   "mimetype": "text/x-python",
   "name": "python",
   "nbconvert_exporter": "python",
   "pygments_lexer": "ipython3",
   "version": "3.10.4"
  },
  "orig_nbformat": 4,
  "vscode": {
   "interpreter": {
    "hash": "3c84e890491e19a1806ba6d8997d3a5373ca13adc3832f7ff9f28d04534d40f7"
   }
  }
 },
 "nbformat": 4,
 "nbformat_minor": 2
}
