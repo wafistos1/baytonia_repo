{
 "cells": [
  {
   "cell_type": "code",
   "execution_count": 8,
   "id": "51b0a636",
   "metadata": {},
   "outputs": [],
   "source": [
    "#imports here\n",
    "from selenium import webdriver\n",
    "from selenium.webdriver.common.keys import Keys\n",
    "from selenium.webdriver.support import expected_conditions as EC\n",
    "from selenium.webdriver.common.by import By\n",
    "from selenium.webdriver.support.wait import WebDriverWait\n",
    "from selenium.webdriver.firefox.options import Options\n",
    "import time\n",
    "import os\n",
    "from fake_useragent import UserAgent\n",
    "from random import randint\n",
    "import pandas as pd\n",
    "import re\n",
    "from datetime import datetime\n",
    "from datetime import timedelta\n",
    "from bs4 import BeautifulSoup\n",
    "from unidecode import unidecode"
   ]
  },
  {
   "cell_type": "code",
   "execution_count": null,
   "id": "a6ebfd88",
   "metadata": {},
   "outputs": [],
   "source": []
  },
  {
   "cell_type": "code",
   "execution_count": 26,
   "id": "e81ce385",
   "metadata": {},
   "outputs": [
    {
     "name": "stdout",
     "output_type": "stream",
     "text": [
      "Mozilla/5.0 (Windows NT 5.1) AppleWebKit/537.36 (KHTML, like Gecko) Chrome/34.0.1866.237 Safari/537.36\n"
     ]
    }
   ],
   "source": [
    "options = Options()\n",
    "ua = UserAgent()\n",
    "userAgent = ua.random\n",
    "print(userAgent)\n",
    "options.add_argument(f'user-agent={userAgent}')\n",
    "#options.add_argument(\"--headless\")\n",
    "driver = webdriver.Firefox(firefox_options=options)\n",
    "#     driver = webdriver.Firefox()"
   ]
  },
  {
   "cell_type": "code",
   "execution_count": 10,
   "id": "0df0b3f9",
   "metadata": {},
   "outputs": [],
   "source": [
    "driver.get('https://spring01.com/%D8%A7%D8%B1%D9%83%D8%A7%D9%86-%D8%A7%D9%84%D9%82%D9%87%D9%88%D8%A9-%D9%88-%D8%A7%D9%83%D8%B3%D8%B3%D9%88%D8%A7%D8%B1%D8%A7%D8%AA%D9%87%D8%A7/c611158635')"
   ]
  },
  {
   "cell_type": "code",
   "execution_count": null,
   "id": "39bd9610",
   "metadata": {},
   "outputs": [],
   "source": [
    "urls = [\n",
    "    \n",
    "    {'cat1': 'طاولات وكراسي', 'cat2': '', 'cat3': '', 'url': ''},\n",
    "    {'cat1': 'طاولات وكراسي', 'cat2': '', 'cat3': '', 'url': ''},\n",
    "    {'cat1': 'طاولات وكراسي', 'cat2': '', 'cat3': '', 'url': ''},\n",
    "    {'cat1': '', 'cat2': '', 'cat3': '', 'url': ''},\n",
    "    {'cat1': '', 'cat2': '', 'cat3': '', 'url': ''},\n",
    "    {'cat1': '', 'cat2': '', 'cat3': '', 'url': ''},\n",
    "    {'cat1': '', 'cat2': '', 'cat3': '', 'url': ''},\n",
    "    {'cat1': '', 'cat2': '', 'cat3': '', 'url': ''},\n",
    "    {'cat1': '', 'cat2': '', 'cat3': '', 'url': ''},\n",
    "    {'cat1': '', 'cat2': '', 'cat3': '', 'url': ''},\n",
    "    {'cat1': '', 'cat2': '', 'cat3': '', 'url': ''},\n",
    "]"
   ]
  },
  {
   "cell_type": "code",
   "execution_count": 11,
   "id": "84d0765d",
   "metadata": {},
   "outputs": [],
   "source": [
    "urls = [\n",
    "    \n",
    "    'https://spring01.com/%D8%B7%D8%A7%D9%88%D9%84%D8%A7%D8%AA/c2022184649',\n",
    "    'https://spring01.com/%D9%83%D8%B1%D8%A7%D8%B3%D9%8A/c607278283',\n",
    "    'https://spring01.com/%D8%B7%D9%82%D9%85-%D8%AC%D9%84%D8%B3%D8%A9/c1139118805',\n",
    "    \n",
    "    'https://spring01.com/%D8%AF%D9%88%D8%A7%D9%84%D9%8A%D8%A8-%D9%85%D8%AF%D8%AE%D9%84/c1873793239',\n",
    "    'https://spring01.com/%D8%A3%D8%AF%D8%B1%D8%A7%D8%AC-%D9%88%D8%B5%D9%86%D8%A7%D8%AF%D9%8A%D9%82/c1698577874',\n",
    "    'https://spring01.com/%D8%AF%D9%88%D8%A7%D9%84%D9%8A%D8%A8-%D8%AC%D8%B2%D9%85/c14711772',\n",
    "    # رفوف / ستنادات / فازات\n",
    "    'https://spring01.com/%D8%B1%D9%81%D9%88%D9%81-%D8%B3%D8%AA%D9%86%D8%A7%D8%AF%D8%A7%D8%AA-%D9%81%D8%A7%D8%B2%D8%A7%D8%AA/c1951145440',\n",
    "    'https://spring01.com/%D9%81%D8%A7%D8%B2%D8%A7%D8%AA/c334912482',\n",
    "    # مفارش / مخدات \n",
    "    'https://spring01.com/%D9%85%D9%81%D8%A7%D8%B1%D8%B4-%D8%A3%D8%B1%D8%B6%D9%8A%D8%A9/c363359312',\n",
    "    'https://spring01.com/%D9%85%D8%AE%D8%AF%D8%A7%D8%AA/c1735822161',\n",
    "    #لوحات وديكورات جدارية\n",
    "    'https://spring01.com/%D9%84%D9%88%D8%AD%D8%A7%D8%AA/c331965220',\n",
    "    'https://spring01.com/%D9%85%D9%81%D8%A7%D8%B1%D8%B4-%D9%88%D8%B3%D8%AA%D8%A7%D8%A6%D8%B1-%D8%AC%D8%AF%D8%A7%D8%B1%D9%8A%D8%A9/c1529278240',\n",
    "    'https://spring01.com/%D8%AF%D9%8A%D9%83%D9%88%D8%B1%D8%A7%D8%AA-%D8%AC%D8%AF%D8%A7%D8%B1%D9%8A%D8%A9/c889392673',\n",
    "    # الساعات والمرايا \n",
    "    'https://spring01.com/%D8%A7%D9%84%D8%B3%D8%A7%D8%B9%D8%A7%D8%AA-%D9%88%D8%A7%D9%84%D9%85%D8%B1%D8%A7%D9%8A%D8%A7/c115879202',\n",
    "    'https://spring01.com/%D9%85%D8%B1%D8%A7%D9%8A%D8%A7/c2088274477',\n",
    "    #السلات و أواني التقديم   \n",
    "    'https://spring01.com/%D8%A7%D9%84%D8%B3%D9%84%D8%A7%D8%AA/c404932655',\n",
    "    'https://spring01.com/%D8%B5%D8%AD%D9%88%D9%86-%D8%AA%D9%82%D8%AF%D9%8A%D9%85/c1205138985',\n",
    "    #ركن القهوة\n",
    "    'https://spring01.com/%D8%AF%D9%88%D8%A7%D9%84%D9%8A%D8%A8-%D9%88%D8%B9%D8%B1%D8%A8%D8%A7%D8%AA-%D8%A7%D9%84%D9%82%D9%87%D9%88%D8%A9/c1671312427',\n",
    "    'https://spring01.com/%D8%A7%D9%83%D9%88%D8%A7%D8%A8-%D9%88%D8%AD%D8%A7%D9%85%D9%84-%D8%A7%D9%84%D8%A7%D9%83%D9%88%D8%A7%D8%A8/c1031492404',\n",
    "    'https://spring01.com/%D8%AF%D9%8A%D9%83%D9%88%D8%B1%D8%A7%D8%AA-%D8%A7%D9%84%D9%82%D9%87%D9%88%D8%A9/c1496224054',\n",
    "    #الحديقة والزرع\n",
    "    'https://spring01.com/%D9%85%D8%B1%D8%A7%D9%83%D9%86-%D9%88%D8%A7%D8%AD%D9%88%D8%A7%D8%B6-%D8%A7%D9%84%D8%B2%D8%B1%D8%B9/c80797488',\n",
    "    'https://spring01.com/%D8%B3%D9%84%D8%A7%D8%AA-%D9%82%D8%B4/c1455291953',\n",
    "    'https://spring01.com/%D9%81%D8%A7%D8%B2%D8%A7%D8%AA-%D9%88%D8%A3%D8%B4%D8%AC%D8%A7%D8%B1/c546970930',\n",
    "    # فوانيس وشموع ومباخر\n",
    "    'https://spring01.com/%D9%81%D9%88%D8%A7%D9%86%D9%8A%D8%B3/c506034749',\n",
    "    'https://spring01.com/%D8%B4%D9%85%D9%88%D8%B9/c1811388734',\n",
    "    'https://spring01.com/%D9%85%D8%A8%D8%A7%D8%AE%D8%B1/c1685281588',\n",
    "    #أنتيكات حديد و مجمسات سيراميك\n",
    "    'https://spring01.com/%D8%A3%D9%86%D8%AA%D9%8A%D9%83%D8%A7%D8%AA-%D8%AD%D8%AF%D9%8A%D8%AF-%D9%88-%D9%85%D8%AC%D9%85%D8%B3%D8%A7%D8%AA-%D8%B3%D9%8A%D8%B1%D8%A7%D9%85%D9%8A%D9%83/c987489530',\n",
    "    # منتجات متنوعة\n",
    "    'https://spring01.com/%D9%85%D9%86%D8%AA%D8%AC%D8%A7%D8%AA-%D9%85%D8%AA%D9%86%D9%88%D8%B9%D8%A9/c1172092991',\n",
    "\n",
    "]"
   ]
  },
  {
   "cell_type": "code",
   "execution_count": null,
   "id": "90afb251",
   "metadata": {},
   "outputs": [],
   "source": []
  },
  {
   "cell_type": "code",
   "execution_count": null,
   "id": "a8b84e87",
   "metadata": {},
   "outputs": [],
   "source": []
  },
  {
   "cell_type": "code",
   "execution_count": 30,
   "id": "4eec53e4",
   "metadata": {},
   "outputs": [],
   "source": [
    "links_products = []"
   ]
  },
  {
   "cell_type": "code",
   "execution_count": 31,
   "id": "bf5168fe",
   "metadata": {},
   "outputs": [
    {
     "name": "stdout",
     "output_type": "stream",
     "text": [
      "Count:  0\n",
      "URL:  https://spring01.com/%D8%B7%D8%A7%D9%88%D9%84%D8%A7%D8%AA/c2022184649\n",
      "Count:  1\n",
      "URL:  https://spring01.com/%D9%83%D8%B1%D8%A7%D8%B3%D9%8A/c607278283\n",
      "Count:  2\n",
      "URL:  https://spring01.com/%D8%B7%D9%82%D9%85-%D8%AC%D9%84%D8%B3%D8%A9/c1139118805\n",
      "Count:  3\n",
      "URL:  https://spring01.com/%D8%AF%D9%88%D8%A7%D9%84%D9%8A%D8%A8-%D9%85%D8%AF%D8%AE%D9%84/c1873793239\n",
      "Count:  4\n",
      "URL:  https://spring01.com/%D8%A3%D8%AF%D8%B1%D8%A7%D8%AC-%D9%88%D8%B5%D9%86%D8%A7%D8%AF%D9%8A%D9%82/c1698577874\n",
      "Count:  5\n",
      "URL:  https://spring01.com/%D8%AF%D9%88%D8%A7%D9%84%D9%8A%D8%A8-%D8%AC%D8%B2%D9%85/c14711772\n",
      "Count:  6\n",
      "URL:  https://spring01.com/%D8%B1%D9%81%D9%88%D9%81-%D8%B3%D8%AA%D9%86%D8%A7%D8%AF%D8%A7%D8%AA-%D9%81%D8%A7%D8%B2%D8%A7%D8%AA/c1951145440\n",
      "Count:  7\n",
      "URL:  https://spring01.com/%D9%81%D8%A7%D8%B2%D8%A7%D8%AA/c334912482\n",
      "Count:  8\n",
      "URL:  https://spring01.com/%D9%85%D9%81%D8%A7%D8%B1%D8%B4-%D8%A3%D8%B1%D8%B6%D9%8A%D8%A9/c363359312\n",
      "Count:  9\n",
      "URL:  https://spring01.com/%D9%85%D8%AE%D8%AF%D8%A7%D8%AA/c1735822161\n",
      "Count:  10\n",
      "URL:  https://spring01.com/%D9%84%D9%88%D8%AD%D8%A7%D8%AA/c331965220\n",
      "Count:  11\n",
      "URL:  https://spring01.com/%D9%85%D9%81%D8%A7%D8%B1%D8%B4-%D9%88%D8%B3%D8%AA%D8%A7%D8%A6%D8%B1-%D8%AC%D8%AF%D8%A7%D8%B1%D9%8A%D8%A9/c1529278240\n",
      "Count:  12\n",
      "URL:  https://spring01.com/%D8%AF%D9%8A%D9%83%D9%88%D8%B1%D8%A7%D8%AA-%D8%AC%D8%AF%D8%A7%D8%B1%D9%8A%D8%A9/c889392673\n",
      "Count:  13\n",
      "URL:  https://spring01.com/%D8%A7%D9%84%D8%B3%D8%A7%D8%B9%D8%A7%D8%AA-%D9%88%D8%A7%D9%84%D9%85%D8%B1%D8%A7%D9%8A%D8%A7/c115879202\n",
      "Count:  14\n",
      "URL:  https://spring01.com/%D9%85%D8%B1%D8%A7%D9%8A%D8%A7/c2088274477\n",
      "Count:  15\n",
      "URL:  https://spring01.com/%D8%A7%D9%84%D8%B3%D9%84%D8%A7%D8%AA/c404932655\n",
      "Count:  16\n",
      "URL:  https://spring01.com/%D8%B5%D8%AD%D9%88%D9%86-%D8%AA%D9%82%D8%AF%D9%8A%D9%85/c1205138985\n",
      "Count:  17\n",
      "URL:  https://spring01.com/%D8%AF%D9%88%D8%A7%D9%84%D9%8A%D8%A8-%D9%88%D8%B9%D8%B1%D8%A8%D8%A7%D8%AA-%D8%A7%D9%84%D9%82%D9%87%D9%88%D8%A9/c1671312427\n",
      "Count:  18\n",
      "URL:  https://spring01.com/%D8%A7%D9%83%D9%88%D8%A7%D8%A8-%D9%88%D8%AD%D8%A7%D9%85%D9%84-%D8%A7%D9%84%D8%A7%D9%83%D9%88%D8%A7%D8%A8/c1031492404\n",
      "Count:  19\n",
      "URL:  https://spring01.com/%D8%AF%D9%8A%D9%83%D9%88%D8%B1%D8%A7%D8%AA-%D8%A7%D9%84%D9%82%D9%87%D9%88%D8%A9/c1496224054\n",
      "Count:  20\n",
      "URL:  https://spring01.com/%D9%85%D8%B1%D8%A7%D9%83%D9%86-%D9%88%D8%A7%D8%AD%D9%88%D8%A7%D8%B6-%D8%A7%D9%84%D8%B2%D8%B1%D8%B9/c80797488\n",
      "Count:  21\n",
      "URL:  https://spring01.com/%D8%B3%D9%84%D8%A7%D8%AA-%D9%82%D8%B4/c1455291953\n",
      "Count:  22\n",
      "URL:  https://spring01.com/%D9%81%D8%A7%D8%B2%D8%A7%D8%AA-%D9%88%D8%A3%D8%B4%D8%AC%D8%A7%D8%B1/c546970930\n",
      "Count:  23\n",
      "URL:  https://spring01.com/%D9%81%D9%88%D8%A7%D9%86%D9%8A%D8%B3/c506034749\n",
      "Count:  24\n",
      "URL:  https://spring01.com/%D8%B4%D9%85%D9%88%D8%B9/c1811388734\n",
      "Count:  25\n",
      "URL:  https://spring01.com/%D9%85%D8%A8%D8%A7%D8%AE%D8%B1/c1685281588\n",
      "Count:  26\n",
      "URL:  https://spring01.com/%D8%A3%D9%86%D8%AA%D9%8A%D9%83%D8%A7%D8%AA-%D8%AD%D8%AF%D9%8A%D8%AF-%D9%88-%D9%85%D8%AC%D9%85%D8%B3%D8%A7%D8%AA-%D8%B3%D9%8A%D8%B1%D8%A7%D9%85%D9%8A%D9%83/c987489530\n",
      "Count:  27\n",
      "URL:  https://spring01.com/%D9%85%D9%86%D8%AA%D8%AC%D8%A7%D8%AA-%D9%85%D8%AA%D9%86%D9%88%D8%B9%D8%A9/c1172092991\n"
     ]
    }
   ],
   "source": [
    "toto = pd.read_excel('spring_url_model.xlsx')\n",
    "for i, url in enumerate(urls):\n",
    "    \n",
    "    print('Count: ', i)\n",
    "    print('URL: ', url)\n",
    "    driver.get(url)\n",
    "    products = driver.find_elements_by_xpath('//div[@class=\"product-block contain \"]//a[@class=\"thumb-wrapper\"]')\n",
    "    len(products)\n",
    "    links_products = [product.get_attribute('href') for product in products]\n",
    "    data = []\n",
    "    for pro in links_products:\n",
    "        data.append({\n",
    "            'url': pro,\n",
    "        })\n",
    "        df1 = pd.DataFrame(data)\n",
    "        toto= pd.concat([toto, df1], ignore_index=True)\n",
    "        toto.to_excel('spring_product_url_update1.xlsx')"
   ]
  },
  {
   "cell_type": "code",
   "execution_count": 68,
   "id": "8af3f918",
   "metadata": {},
   "outputs": [
    {
     "data": {
      "text/plain": [
       "91"
      ]
     },
     "execution_count": 68,
     "metadata": {},
     "output_type": "execute_result"
    }
   ],
   "source": [
    "len(links_products)"
   ]
  },
  {
   "cell_type": "code",
   "execution_count": 5,
   "id": "98f10bdb",
   "metadata": {},
   "outputs": [],
   "source": [
    "tiit = 'https://www.alrugaibfurniture.com/ar/collections/bedrooms/products/caracole-classic-fan-club-nightstand?lshst=collection'"
   ]
  },
  {
   "cell_type": "code",
   "execution_count": 6,
   "id": "e2c8a79b",
   "metadata": {},
   "outputs": [
    {
     "name": "stdout",
     "output_type": "stream",
     "text": [
      "745\n"
     ]
    }
   ],
   "source": [
    "for i, to in enumerate(links_products):\n",
    "    if to == tiit:\n",
    "        print(i)"
   ]
  },
  {
   "cell_type": "code",
   "execution_count": 5,
   "id": "d1a9715c",
   "metadata": {},
   "outputs": [],
   "source": [
    "link_url_all_product = pd.read_excel('/home/wafistos/Documents/Projects/scaping_wafi/scrapingalrugaibfurniture/link_all_products-26-06-2021-02-13-28.xlsx')"
   ]
  },
  {
   "cell_type": "code",
   "execution_count": 6,
   "id": "0cb596cd",
   "metadata": {},
   "outputs": [
    {
     "data": {
      "text/plain": [
       "Index(['Unnamed: 0', 'liste'], dtype='object')"
      ]
     },
     "execution_count": 6,
     "metadata": {},
     "output_type": "execute_result"
    }
   ],
   "source": [
    "link_url_all_product.columns\n"
   ]
  },
  {
   "cell_type": "code",
   "execution_count": 7,
   "id": "923d242c",
   "metadata": {},
   "outputs": [
    {
     "data": {
      "text/plain": [
       "9981"
      ]
     },
     "execution_count": 7,
     "metadata": {},
     "output_type": "execute_result"
    }
   ],
   "source": [
    "product_links = link_url_all_product['liste'].to_list()\n",
    "len(product_links)"
   ]
  },
  {
   "cell_type": "markdown",
   "id": "f481327f",
   "metadata": {},
   "source": [
    "# Create elements"
   ]
  },
  {
   "cell_type": "code",
   "execution_count": null,
   "id": "55fd7ca1",
   "metadata": {},
   "outputs": [],
   "source": []
  },
  {
   "cell_type": "code",
   "execution_count": null,
   "id": "2f820ae6",
   "metadata": {},
   "outputs": [],
   "source": []
  },
  {
   "cell_type": "code",
   "execution_count": null,
   "id": "2b5b31d7",
   "metadata": {},
   "outputs": [],
   "source": []
  },
  {
   "cell_type": "code",
   "execution_count": null,
   "id": "06be584f",
   "metadata": {},
   "outputs": [],
   "source": []
  },
  {
   "cell_type": "code",
   "execution_count": null,
   "id": "3a107ab1",
   "metadata": {},
   "outputs": [],
   "source": [
    "aaa"
   ]
  },
  {
   "cell_type": "code",
   "execution_count": null,
   "id": "8cc03281",
   "metadata": {},
   "outputs": [],
   "source": []
  },
  {
   "cell_type": "markdown",
   "id": "f57e48a4",
   "metadata": {},
   "source": [
    "# Regex size"
   ]
  },
  {
   "cell_type": "code",
   "execution_count": null,
   "id": "215e7d42",
   "metadata": {},
   "outputs": [],
   "source": []
  },
  {
   "cell_type": "code",
   "execution_count": 40,
   "id": "184fd98b",
   "metadata": {},
   "outputs": [],
   "source": [
    "df = pd.read_excel('spring_model.xlsx')"
   ]
  },
  {
   "cell_type": "code",
   "execution_count": null,
   "id": "9ddef47b",
   "metadata": {},
   "outputs": [],
   "source": []
  },
  {
   "cell_type": "markdown",
   "id": "3a1f4268",
   "metadata": {},
   "source": [
    "# Debut de la fonction"
   ]
  },
  {
   "cell_type": "code",
   "execution_count": 33,
   "id": "14f4125f",
   "metadata": {
    "scrolled": true
   },
   "outputs": [
    {
     "name": "stdout",
     "output_type": "stream",
     "text": [
      "***********************************************************\n",
      "Count: 0\n",
      "URl: https://spring01.com/%D9%84%D8%B9%D8%A8%D8%A9-%D8%A7%D9%83%D8%B3-%D8%A7%D9%88-%D8%AE%D8%B4%D8%A8/p610057651\n",
      "Cat1: \n",
      "Cat2: \n",
      "Cat3: \n"
     ]
    },
    {
     "ename": "NoSuchElementException",
     "evalue": "Message: Unable to locate element: //h1[@class='product-details__title']\n",
     "output_type": "error",
     "traceback": [
      "\u001b[0;31m---------------------------------------------------------------------------\u001b[0m",
      "\u001b[0;31mNoSuchElementException\u001b[0m                    Traceback (most recent call last)",
      "Input \u001b[0;32mIn [33]\u001b[0m, in \u001b[0;36m<module>\u001b[0;34m\u001b[0m\n\u001b[1;32m     88\u001b[0m time\u001b[38;5;241m.\u001b[39msleep(\u001b[38;5;241m1\u001b[39m)\n\u001b[1;32m     89\u001b[0m sku \u001b[38;5;241m=\u001b[39m \u001b[38;5;124m'\u001b[39m\u001b[38;5;124mSPR-\u001b[39m\u001b[38;5;124m'\u001b[39m \u001b[38;5;241m+\u001b[39m link_url\u001b[38;5;241m.\u001b[39msplit(\u001b[38;5;124m'\u001b[39m\u001b[38;5;124m/\u001b[39m\u001b[38;5;124m'\u001b[39m)[\u001b[38;5;241m-\u001b[39m\u001b[38;5;241m1\u001b[39m]\n\u001b[0;32m---> 90\u001b[0m name \u001b[38;5;241m=\u001b[39m \u001b[43mdriver\u001b[49m\u001b[38;5;241;43m.\u001b[39;49m\u001b[43mfind_element_by_xpath\u001b[49m\u001b[43m(\u001b[49m\u001b[38;5;124;43m\"\u001b[39;49m\u001b[38;5;124;43m//h1[@class=\u001b[39;49m\u001b[38;5;124;43m'\u001b[39;49m\u001b[38;5;124;43mproduct-details__title\u001b[39;49m\u001b[38;5;124;43m'\u001b[39;49m\u001b[38;5;124;43m]\u001b[39;49m\u001b[38;5;124;43m\"\u001b[39;49m\u001b[43m)\u001b[49m\u001b[38;5;241m.\u001b[39mtext\n\u001b[1;32m     91\u001b[0m url_key \u001b[38;5;241m=\u001b[39m (\u001b[38;5;124mf\u001b[39m\u001b[38;5;124m'\u001b[39m\u001b[38;5;132;01m{\u001b[39;00msku\u001b[38;5;132;01m}\u001b[39;00m\u001b[38;5;132;01m{\u001b[39;00mname \u001b[38;5;132;01m}\u001b[39;00m\u001b[38;5;124m'\u001b[39m)\u001b[38;5;241m.\u001b[39mreplace(\u001b[38;5;124m'\u001b[39m\u001b[38;5;124m,\u001b[39m\u001b[38;5;124m'\u001b[39m, \u001b[38;5;124m'\u001b[39m\u001b[38;5;124m-\u001b[39m\u001b[38;5;124m'\u001b[39m)\u001b[38;5;241m.\u001b[39mreplace(\u001b[38;5;124m'\u001b[39m\u001b[38;5;124m*\u001b[39m\u001b[38;5;124m'\u001b[39m, \u001b[38;5;124m'\u001b[39m\u001b[38;5;124m-\u001b[39m\u001b[38;5;124m'\u001b[39m)\u001b[38;5;241m.\u001b[39mreplace(\u001b[38;5;124m'\u001b[39m\u001b[38;5;124m،\u001b[39m\u001b[38;5;124m'\u001b[39m, \u001b[38;5;124m'\u001b[39m\u001b[38;5;124m-\u001b[39m\u001b[38;5;124m'\u001b[39m)   \n\u001b[1;32m     94\u001b[0m \u001b[38;5;28;01mtry\u001b[39;00m:\n",
      "File \u001b[0;32m~/anaconda3/lib/python3.8/site-packages/selenium/webdriver/remote/webdriver.py:393\u001b[0m, in \u001b[0;36mWebDriver.find_element_by_xpath\u001b[0;34m(self, xpath)\u001b[0m\n\u001b[1;32m    377\u001b[0m \u001b[38;5;28;01mdef\u001b[39;00m \u001b[38;5;21mfind_element_by_xpath\u001b[39m(\u001b[38;5;28mself\u001b[39m, xpath):\n\u001b[1;32m    378\u001b[0m     \u001b[38;5;124;03m\"\"\"\u001b[39;00m\n\u001b[1;32m    379\u001b[0m \u001b[38;5;124;03m    Finds an element by xpath.\u001b[39;00m\n\u001b[1;32m    380\u001b[0m \n\u001b[0;32m   (...)\u001b[0m\n\u001b[1;32m    391\u001b[0m \u001b[38;5;124;03m        element = driver.find_element_by_xpath('//div/td[1]')\u001b[39;00m\n\u001b[1;32m    392\u001b[0m \u001b[38;5;124;03m    \"\"\"\u001b[39;00m\n\u001b[0;32m--> 393\u001b[0m     \u001b[38;5;28;01mreturn\u001b[39;00m \u001b[38;5;28;43mself\u001b[39;49m\u001b[38;5;241;43m.\u001b[39;49m\u001b[43mfind_element\u001b[49m\u001b[43m(\u001b[49m\u001b[43mby\u001b[49m\u001b[38;5;241;43m=\u001b[39;49m\u001b[43mBy\u001b[49m\u001b[38;5;241;43m.\u001b[39;49m\u001b[43mXPATH\u001b[49m\u001b[43m,\u001b[49m\u001b[43m \u001b[49m\u001b[43mvalue\u001b[49m\u001b[38;5;241;43m=\u001b[39;49m\u001b[43mxpath\u001b[49m\u001b[43m)\u001b[49m\n",
      "File \u001b[0;32m~/anaconda3/lib/python3.8/site-packages/selenium/webdriver/remote/webdriver.py:964\u001b[0m, in \u001b[0;36mWebDriver.find_element\u001b[0;34m(self, by, value)\u001b[0m\n\u001b[1;32m    962\u001b[0m         by \u001b[38;5;241m=\u001b[39m By\u001b[38;5;241m.\u001b[39mCSS_SELECTOR\n\u001b[1;32m    963\u001b[0m         value \u001b[38;5;241m=\u001b[39m \u001b[38;5;124m'\u001b[39m\u001b[38;5;124m[name=\u001b[39m\u001b[38;5;124m\"\u001b[39m\u001b[38;5;132;01m%s\u001b[39;00m\u001b[38;5;124m\"\u001b[39m\u001b[38;5;124m]\u001b[39m\u001b[38;5;124m'\u001b[39m \u001b[38;5;241m%\u001b[39m value\n\u001b[0;32m--> 964\u001b[0m \u001b[38;5;28;01mreturn\u001b[39;00m \u001b[38;5;28;43mself\u001b[39;49m\u001b[38;5;241;43m.\u001b[39;49m\u001b[43mexecute\u001b[49m\u001b[43m(\u001b[49m\u001b[43mCommand\u001b[49m\u001b[38;5;241;43m.\u001b[39;49m\u001b[43mFIND_ELEMENT\u001b[49m\u001b[43m,\u001b[49m\u001b[43m \u001b[49m\u001b[43m{\u001b[49m\n\u001b[1;32m    965\u001b[0m \u001b[43m    \u001b[49m\u001b[38;5;124;43m'\u001b[39;49m\u001b[38;5;124;43musing\u001b[39;49m\u001b[38;5;124;43m'\u001b[39;49m\u001b[43m:\u001b[49m\u001b[43m \u001b[49m\u001b[43mby\u001b[49m\u001b[43m,\u001b[49m\n\u001b[1;32m    966\u001b[0m \u001b[43m    \u001b[49m\u001b[38;5;124;43m'\u001b[39;49m\u001b[38;5;124;43mvalue\u001b[39;49m\u001b[38;5;124;43m'\u001b[39;49m\u001b[43m:\u001b[49m\u001b[43m \u001b[49m\u001b[43mvalue\u001b[49m\u001b[43m}\u001b[49m\u001b[43m)\u001b[49m[\u001b[38;5;124m'\u001b[39m\u001b[38;5;124mvalue\u001b[39m\u001b[38;5;124m'\u001b[39m]\n",
      "File \u001b[0;32m~/anaconda3/lib/python3.8/site-packages/selenium/webdriver/remote/webdriver.py:320\u001b[0m, in \u001b[0;36mWebDriver.execute\u001b[0;34m(self, driver_command, params)\u001b[0m\n\u001b[1;32m    318\u001b[0m response \u001b[38;5;241m=\u001b[39m \u001b[38;5;28mself\u001b[39m\u001b[38;5;241m.\u001b[39mcommand_executor\u001b[38;5;241m.\u001b[39mexecute(driver_command, params)\n\u001b[1;32m    319\u001b[0m \u001b[38;5;28;01mif\u001b[39;00m response:\n\u001b[0;32m--> 320\u001b[0m     \u001b[38;5;28;43mself\u001b[39;49m\u001b[38;5;241;43m.\u001b[39;49m\u001b[43merror_handler\u001b[49m\u001b[38;5;241;43m.\u001b[39;49m\u001b[43mcheck_response\u001b[49m\u001b[43m(\u001b[49m\u001b[43mresponse\u001b[49m\u001b[43m)\u001b[49m\n\u001b[1;32m    321\u001b[0m     response[\u001b[38;5;124m'\u001b[39m\u001b[38;5;124mvalue\u001b[39m\u001b[38;5;124m'\u001b[39m] \u001b[38;5;241m=\u001b[39m \u001b[38;5;28mself\u001b[39m\u001b[38;5;241m.\u001b[39m_unwrap_value(\n\u001b[1;32m    322\u001b[0m         response\u001b[38;5;241m.\u001b[39mget(\u001b[38;5;124m'\u001b[39m\u001b[38;5;124mvalue\u001b[39m\u001b[38;5;124m'\u001b[39m, \u001b[38;5;28;01mNone\u001b[39;00m))\n\u001b[1;32m    323\u001b[0m     \u001b[38;5;28;01mreturn\u001b[39;00m response\n",
      "File \u001b[0;32m~/anaconda3/lib/python3.8/site-packages/selenium/webdriver/remote/errorhandler.py:242\u001b[0m, in \u001b[0;36mErrorHandler.check_response\u001b[0;34m(self, response)\u001b[0m\n\u001b[1;32m    240\u001b[0m         alert_text \u001b[38;5;241m=\u001b[39m value[\u001b[38;5;124m'\u001b[39m\u001b[38;5;124malert\u001b[39m\u001b[38;5;124m'\u001b[39m]\u001b[38;5;241m.\u001b[39mget(\u001b[38;5;124m'\u001b[39m\u001b[38;5;124mtext\u001b[39m\u001b[38;5;124m'\u001b[39m)\n\u001b[1;32m    241\u001b[0m     \u001b[38;5;28;01mraise\u001b[39;00m exception_class(message, screen, stacktrace, alert_text)\n\u001b[0;32m--> 242\u001b[0m \u001b[38;5;28;01mraise\u001b[39;00m exception_class(message, screen, stacktrace)\n",
      "\u001b[0;31mNoSuchElementException\u001b[0m: Message: Unable to locate element: //h1[@class='product-details__title']\n"
     ]
    }
   ],
   "source": [
    "now = datetime.now()\n",
    "dt_string = now.strftime(\"%d-%m-%Y-%H-%M-%S\")\n",
    "count = 0\n",
    "list_images = [] \n",
    "list_input_collection = []\n",
    "list_input_title = []\n",
    "list_input_price = []\n",
    "list_input_images1 = []\n",
    "list_input_images2 = []\n",
    "list_input_images3 = []\n",
    "list_input_images4 = []\n",
    "list_input_price_was = []\n",
    "list_input_model = []\n",
    "list_input_size = []\n",
    "list_input_color = []\n",
    "list_input_sku = []\n",
    "list_input_style = []\n",
    "list_input_in_stock = []\n",
    "list_input_mater = []\n",
    "list_input_link_url = []\n",
    "list_input_category1 = []\n",
    "list_input_category2 = []\n",
    "list_input_category3 = []\n",
    "list_input_width = []\n",
    "list_input_height = []\n",
    "list_input_length = []\n",
    "list_description = []\n",
    "list_news_from_date = []\n",
    "list_news_to_date = []\n",
    "list_tax_class_name = []\n",
    "list_visibility = []\n",
    "list_manufacturer = []\n",
    "list_concatenation = []\n",
    "display_bool = False\n",
    "\n",
    "\n",
    "\n",
    "\n",
    "\n",
    "\n",
    "\n",
    "#**********************************************************************\n",
    "#**********************************************************************\n",
    "#**********************************************************************\n",
    "#**********************************************************************\n",
    "#**********************************************************************\n",
    "#ForLoop main\n",
    "df = pd.read_excel('spring_model.xlsx')\n",
    "for i, product in enumerate(links_products):\n",
    "    height = 0\n",
    "    length = 0\n",
    "    width = 0\n",
    "    series = None\n",
    "    time.sleep(1)\n",
    "    try:\n",
    "        print('***********************************************************')\n",
    "        print('Count:', i)\n",
    "        print('URl:', product)\n",
    "        driver.get(product)\n",
    "        time.sleep(3)\n",
    "        display_bool = False\n",
    "    except:\n",
    "        continue\n",
    "    \n",
    "#**********************************************************************\n",
    "#**********************************************************************\n",
    "   \n",
    "\n",
    "    link_url = str(product)\n",
    "    time.sleep(4)\n",
    "    \n",
    "    \n",
    "    try:\n",
    "        categories1 =  driver.find_elements_by_class_name('breadcrumb-item')[1].text\n",
    "    except:\n",
    "        categories1 = ''\n",
    "    try:\n",
    "        categories2 =  driver.find_elements_by_class_name('breadcrumb-item')[2].text\n",
    "    except:\n",
    "        categories2 = ''\n",
    "    try:\n",
    "        categories3 =  ''#driver.find_elements_by_xpath(\"//li[contains(@class, 'breadcrumb__item')]\")[2].text\n",
    "    except:\n",
    "        categories3 = ''\n",
    "    print('Cat1:', categories1)\n",
    "    print('Cat2:', categories2)\n",
    "    print('Cat3:', categories3)\n",
    "    time.sleep(1)\n",
    "    sku = 'SPR-' + link_url.split('/')[-1]\n",
    "    name = driver.find_element_by_xpath(\"//h1[@class='product-details__title']\").text\n",
    "    url_key = (f'{sku}{name }').replace(',', '-').replace('*', '-').replace('،', '-')   \n",
    "\n",
    "    \n",
    "    try:\n",
    "        price = driver.find_element_by_class_name('product-price').text.replace('ر.س', '').strip()\n",
    "        special_price =  0\n",
    "    except:\n",
    "        prices = driver.find_elements_by_xpath(\"//span[starts-with(@id, 'price-')]\")\n",
    "        price = prices[0].text.replace('ر.س', '').strip()\n",
    "        special_price = prices[1].text.replace('ر.س', '').strip()\n",
    "    time.sleep(1)\n",
    "\n",
    "# Description*********************************************************************************\n",
    "    \n",
    "    description = driver.find_element_by_class_name('product-detials__desc ').text\n",
    "    short_description = ''\n",
    "    \n",
    "    free_colors = '__EMPTY__VALUE__'\n",
    "    raw_materials = '__EMPTY__VALUE__'\n",
    "\n",
    "# Images*********************************************************************************\n",
    "    list_images = []\n",
    "    images = driver.find_elements_by_class_name('image_first_click')\n",
    "    len(images)\n",
    "    for img in images:\n",
    "        list_images.append(img.get_attribute('src'))\n",
    "        time.sleep(0.5)\n",
    "    print('len list images',len(list_images))\n",
    "    base_image = list_images[0]\n",
    "    small_image = list_images[0]\n",
    "    swatch_image = list_images[0]\n",
    "    thumbnail_image = list_images[0]\n",
    "#************************************************************************** \n",
    "    print('Title:', name)\n",
    "    print('Price:', price)\n",
    "    print('Price old:',special_price)\n",
    "    print('Description:',short_description)\n",
    "    print('Colors:',free_colors)\n",
    "    print('Matter:',raw_materials)\n",
    "#     print('Size:',Dimensions)\n",
    "    print('URl:',link_url)\n",
    "    \n",
    "    try:\n",
    "\n",
    "        image1 = list_images[0]\n",
    "    except:\n",
    "        image1 = ''\n",
    "\n",
    "    try:\n",
    "        image2 = list_images[1:]\n",
    "    except:\n",
    "        image2 = ''\n",
    "    try:\n",
    "        timage = ''\n",
    "        for i, img in enumerate(list_images[1:]):\n",
    "            if i == 0:\n",
    "                timage += str(img)\n",
    "            else:\n",
    "                timage += ', ' + str(img)\n",
    "#         list_input_images2.append(timage)\n",
    "        print(timage)\n",
    "    except:\n",
    "        timage = ''\n",
    "\n",
    "    additional_images = timage\n",
    "        #         list_input_images2.append(t)\n",
    "#*******************************************************\n",
    "    two_month = datetime.now() + timedelta(days=60)\n",
    "    two_month = two_month.strftime(\"%m/%d/%Y\")\n",
    "    today = datetime.today().strftime(\"%m/%d/%Y\")\n",
    "    list_news_from_date.append(today)\n",
    "    list_news_to_date.append(two_month)\n",
    "#*******************************************************\n",
    "\n",
    "    \n",
    "\n",
    "    \n",
    "\n",
    "    series = pd.Series([sku,\n",
    "                         name,\n",
    "                         url_key,\n",
    "                         name,\n",
    "                        description,\n",
    "                         free_colors,\n",
    "                         raw_materials,\n",
    "                         base_image,\n",
    "                         small_image,\n",
    "                         swatch_image,\n",
    "                         thumbnail_image,\n",
    "                         additional_images ,\n",
    "                         categories1,\n",
    "                         categories2,\n",
    "                         categories3,\n",
    "                         price ,\n",
    "                        special_price,\n",
    "                        'Catalog, Search',\n",
    "                        'Taxable Goods',\n",
    "                        link_url,\n",
    "                        0,\n",
    "                        -5,\n",
    "                        1,\n",
    "                        1,\n",
    "                        1,\n",
    "                        'مستوردة',\n",
    "\n",
    "                         today,\n",
    "                         two_month,\n",
    "                         'base',\n",
    "                         'Default',\n",
    "                         'simple',\n",
    "                         '',\n",
    "                        'SPR'\n",
    "\n",
    "                        ],  index=df.columns)\n",
    "    #df.append(df1)\n",
    "    df = df.append(series, ignore_index=True)\n",
    "    df.to_excel( f'spring_update_27_12.xlsx', index = False)\n"
   ]
  },
  {
   "cell_type": "markdown",
   "id": "b7d8d492",
   "metadata": {},
   "source": [
    "# Fin de la fonction"
   ]
  },
  {
   "cell_type": "code",
   "execution_count": null,
   "id": "53a97f1e",
   "metadata": {},
   "outputs": [],
   "source": []
  },
  {
   "cell_type": "code",
   "execution_count": null,
   "id": "800d2ed3",
   "metadata": {},
   "outputs": [],
   "source": []
  },
  {
   "cell_type": "code",
   "execution_count": null,
   "id": "770e17a7",
   "metadata": {},
   "outputs": [],
   "source": []
  },
  {
   "cell_type": "code",
   "execution_count": null,
   "id": "1f2cea67",
   "metadata": {},
   "outputs": [],
   "source": []
  },
  {
   "cell_type": "code",
   "execution_count": 20,
   "id": "e9367e21",
   "metadata": {},
   "outputs": [],
   "source": [
    "df['sku number only'] = df['sku'].str.replace('SPR-', '')"
   ]
  },
  {
   "cell_type": "code",
   "execution_count": 21,
   "id": "3ea0a4ee",
   "metadata": {},
   "outputs": [],
   "source": [
    "df['additionnel_images'] = df['additional_images ']"
   ]
  },
  {
   "cell_type": "code",
   "execution_count": 22,
   "id": "0ba4e69e",
   "metadata": {},
   "outputs": [],
   "source": [
    "df['estimated_delivery_enable'] = 'Static, Text'\n",
    "df['estimated_delivery_text'] = 'الوقت المقدر لشحن هذا المنتج أسبوعين'"
   ]
  },
  {
   "cell_type": "code",
   "execution_count": 23,
   "id": "dd23175e",
   "metadata": {},
   "outputs": [],
   "source": [
    "df['categories'] = ''"
   ]
  },
  {
   "cell_type": "code",
   "execution_count": 24,
   "id": "cddb2888",
   "metadata": {},
   "outputs": [],
   "source": [
    "df['cost'] = ''"
   ]
  },
  {
   "cell_type": "code",
   "execution_count": null,
   "id": "a23abcb0",
   "metadata": {},
   "outputs": [],
   "source": []
  },
  {
   "cell_type": "code",
   "execution_count": null,
   "id": "5fb33f3d",
   "metadata": {},
   "outputs": [],
   "source": []
  },
  {
   "cell_type": "code",
   "execution_count": null,
   "id": "3991cdec",
   "metadata": {},
   "outputs": [],
   "source": []
  },
  {
   "cell_type": "code",
   "execution_count": null,
   "id": "291a3247",
   "metadata": {},
   "outputs": [],
   "source": []
  },
  {
   "cell_type": "code",
   "execution_count": 27,
   "id": "2ceacf9c",
   "metadata": {},
   "outputs": [],
   "source": [
    "df = df[[ 'sku number only',\n",
    "        'sku', \n",
    "         'store_view_code',\n",
    "         'attribute_set_code',\n",
    "         'product_websites',\n",
    "         'name',   \n",
    "         'description', \n",
    "         'short_description', \n",
    "         'Link_url', \n",
    "         'categories1', \n",
    "         'categories2', \n",
    "         'categories3', \n",
    "         'categories', \n",
    "         'free_colors', \n",
    "\n",
    "         'url_key',\n",
    "         'cost',  \n",
    "         'price', \n",
    "         'special_price', \n",
    "         'visibility',\n",
    "         'product_type',\n",
    "         'tax_class_name', \n",
    "         'news_from_date', \n",
    "         'news_to_date', \n",
    "         'base_image', \n",
    "         'small_image', \n",
    "         'swatch_image' , \n",
    "         'thumbnail_image', \n",
    "         'additionnel_images', \n",
    "         'product_online',\n",
    "         \n",
    "         \n",
    "         \n",
    "         \n",
    "         \n",
    "         \n",
    "         \n",
    "         'qty', \n",
    "         'out_of_stock_qty', \n",
    "         'allow_backorders', \n",
    "         'is_in_stock', \n",
    "         'estimated_delivery_enable',\n",
    "         'estimated_delivery_text',\n",
    "         'supplier',   \n",
    "        ]]"
   ]
  },
  {
   "cell_type": "code",
   "execution_count": 28,
   "id": "6308ec78",
   "metadata": {},
   "outputs": [],
   "source": [
    "df.to_excel('Spring_update_27_12.xlsx')"
   ]
  },
  {
   "cell_type": "code",
   "execution_count": 31,
   "id": "53f9b991",
   "metadata": {},
   "outputs": [],
   "source": [
    "df = pd.read_excel('/home/wafistos/Downloads/spring_update_27_12.xlsx')"
   ]
  },
  {
   "cell_type": "code",
   "execution_count": 33,
   "id": "15550f0d",
   "metadata": {},
   "outputs": [],
   "source": [
    "df['cost'] = df['price']"
   ]
  },
  {
   "cell_type": "code",
   "execution_count": 43,
   "id": "c83d05fc",
   "metadata": {},
   "outputs": [
    {
     "data": {
      "text/plain": [
       "0      650\n",
       "1      650\n",
       "2      160\n",
       "3      585\n",
       "4      585\n",
       "      ... \n",
       "796    339\n",
       "797    339\n",
       "798    339\n",
       "799    160\n",
       "800    577\n",
       "Name: price, Length: 801, dtype: object"
      ]
     },
     "execution_count": 43,
     "metadata": {},
     "output_type": "execute_result"
    }
   ],
   "source": [
    "df['price']"
   ]
  },
  {
   "cell_type": "code",
   "execution_count": 41,
   "id": "7e4fff39",
   "metadata": {},
   "outputs": [
    {
     "data": {
      "text/plain": [
       "'339'"
      ]
     },
     "execution_count": 41,
     "metadata": {},
     "output_type": "execute_result"
    }
   ],
   "source": [
    "from unidecode import unidecode\n",
    "def convert_number(num):\n",
    "    return unidecode(num)\n"
   ]
  },
  {
   "cell_type": "code",
   "execution_count": 45,
   "id": "79508abb",
   "metadata": {},
   "outputs": [
    {
     "data": {
      "text/plain": [
       "Index(['sku', 'name', 'url_key', 'short_description', 'description',\n",
       "       'free_colors', 'raw_materials', 'base_image', 'small_image',\n",
       "       'swatch_image', 'thumbnail_image', 'additional_images ', 'categories1',\n",
       "       'categories2', 'categories3', 'price', 'special_price', 'visibility',\n",
       "       'tax_class_name', 'Link_url', 'qty', 'out_of_stock_qty', 'is_in_stock',\n",
       "       'product_online', 'allow_backorders', 'manufacturer', 'news_from_date',\n",
       "       'news_to_date', 'product_websites', 'attribute_set_code',\n",
       "       'product_type', 'store_view_code', 'supplier', 'cost'],\n",
       "      dtype='object')"
      ]
     },
     "execution_count": 45,
     "metadata": {},
     "output_type": "execute_result"
    }
   ],
   "source": [
    "df.columns"
   ]
  },
  {
   "cell_type": "code",
   "execution_count": 42,
   "id": "0cddadcf",
   "metadata": {},
   "outputs": [],
   "source": [
    "df['price'] = [convert_number(x) for x in df['price']]"
   ]
  },
  {
   "cell_type": "code",
   "execution_count": 44,
   "id": "589a94bf",
   "metadata": {},
   "outputs": [],
   "source": [
    "df['cost'] = [convert_number(x) for x in df['cost']]"
   ]
  },
  {
   "cell_type": "code",
   "execution_count": 66,
   "id": "cb599078",
   "metadata": {},
   "outputs": [],
   "source": [
    "df.loc[df['special_price']=='.', 'special_price'] = 0"
   ]
  },
  {
   "cell_type": "code",
   "execution_count": 64,
   "id": "8a1ccb8a",
   "metadata": {},
   "outputs": [],
   "source": [
    "\n",
    "\n",
    "\n",
    "df['special_price'] = [convert_number(x) for x in df['special_price']]"
   ]
  },
  {
   "cell_type": "code",
   "execution_count": null,
   "id": "36e94e69",
   "metadata": {},
   "outputs": [],
   "source": [
    "num = [,'١', '٣']"
   ]
  },
  {
   "cell_type": "code",
   "execution_count": 65,
   "id": "4c708f56",
   "metadata": {},
   "outputs": [
    {
     "data": {
      "text/plain": [
       "0      .\n",
       "1      .\n",
       "2      .\n",
       "3      .\n",
       "4      .\n",
       "      ..\n",
       "796    .\n",
       "797    .\n",
       "798    .\n",
       "799    .\n",
       "800    .\n",
       "Name: special_price, Length: 801, dtype: object"
      ]
     },
     "execution_count": 65,
     "metadata": {},
     "output_type": "execute_result"
    }
   ],
   "source": [
    "df['special_price']"
   ]
  },
  {
   "cell_type": "code",
   "execution_count": 47,
   "id": "cec342cc",
   "metadata": {},
   "outputs": [],
   "source": [
    "df.to_excel('toto.xlsx')"
   ]
  },
  {
   "cell_type": "code",
   "execution_count": 58,
   "id": "9e81eeef",
   "metadata": {},
   "outputs": [],
   "source": [
    "df['cost'] = df['cost'].str.replace(',', '')"
   ]
  },
  {
   "cell_type": "code",
   "execution_count": 59,
   "id": "f6d2ec16",
   "metadata": {},
   "outputs": [],
   "source": [
    "df['price'] = df['price'].str.replace(',', '')"
   ]
  },
  {
   "cell_type": "code",
   "execution_count": 61,
   "id": "663ff2a7",
   "metadata": {},
   "outputs": [],
   "source": [
    "df['price'] = df['price'].astype(float)"
   ]
  },
  {
   "cell_type": "code",
   "execution_count": 67,
   "id": "ef01b1ad",
   "metadata": {},
   "outputs": [],
   "source": [
    "df['special_price'] = df['special_price'].astype(float)"
   ]
  },
  {
   "cell_type": "code",
   "execution_count": 62,
   "id": "9baa0d22",
   "metadata": {},
   "outputs": [],
   "source": [
    "df['price'] = df['price'] * 1.25"
   ]
  },
  {
   "cell_type": "code",
   "execution_count": 68,
   "id": "f2899e3a",
   "metadata": {},
   "outputs": [],
   "source": [
    "df['special_price'] = df['price'] * 0.95"
   ]
  },
  {
   "cell_type": "code",
   "execution_count": 69,
   "id": "714493c7",
   "metadata": {},
   "outputs": [],
   "source": [
    "df.to_excel('Spring_update_price.xlsx')"
   ]
  },
  {
   "cell_type": "code",
   "execution_count": null,
   "id": "e9eb60dd",
   "metadata": {},
   "outputs": [],
   "source": []
  }
 ],
 "metadata": {
  "celltoolbar": "Raw Cell Format",
  "kernelspec": {
   "display_name": "Python 3 (ipykernel)",
   "language": "python",
   "name": "python3"
  },
  "language_info": {
   "codemirror_mode": {
    "name": "ipython",
    "version": 3
   },
   "file_extension": ".py",
   "mimetype": "text/x-python",
   "name": "python",
   "nbconvert_exporter": "python",
   "pygments_lexer": "ipython3",
   "version": "3.8.8"
  },
  "toc": {
   "base_numbering": 1,
   "nav_menu": {},
   "number_sections": true,
   "sideBar": true,
   "skip_h1_title": false,
   "title_cell": "Table of Contents",
   "title_sidebar": "Contents",
   "toc_cell": false,
   "toc_position": {
    "height": "calc(100% - 180px)",
    "left": "10px",
    "top": "150px",
    "width": "352px"
   },
   "toc_section_display": true,
   "toc_window_display": true
  }
 },
 "nbformat": 4,
 "nbformat_minor": 5
}
