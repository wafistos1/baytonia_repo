{
 "cells": [
  {
   "cell_type": "code",
   "execution_count": 18,
   "metadata": {},
   "outputs": [],
   "source": [
    "#imports here\n",
    "from selenium import webdriver\n",
    "from selenium.webdriver.common.keys import Keys\n",
    "from selenium.webdriver.support import expected_conditions as EC\n",
    "from selenium.webdriver.common.by import By\n",
    "from selenium.webdriver.support.wait import WebDriverWait\n",
    "from selenium.webdriver.firefox.options import Options\n",
    "import time\n",
    "import os\n",
    "from fake_useragent import UserAgent\n",
    "from random import randint\n",
    "import pandas as pd\n",
    "import numpy as np\n",
    "import re\n",
    "from datetime import datetime\n",
    "from datetime import timedelta\n",
    "from bs4 import BeautifulSoup\n",
    "import requests"
   ]
  },
  {
   "cell_type": "code",
   "execution_count": 82,
   "metadata": {},
   "outputs": [],
   "source": [
    "url = 'https://fireandice-sa.com/products?page=2'\n",
    "\n",
    "headers = {'User-Agent': 'Mozilla/5.0 (Macintosh; Intel Mac OS X 10_10_1) AppleWebKit/537.36 (KHTML, like Gecko) Chrome/39.0.2171.95 Safari/537.36'}\n",
    "cookies = {'session': '134-8225175-0355220'}\n",
    "r = requests.get(url, headers=headers, cookies=cookies)\n",
    "soup = BeautifulSoup(r.content, \"html.parser\")"
   ]
  },
  {
   "cell_type": "code",
   "execution_count": 83,
   "metadata": {},
   "outputs": [
    {
     "data": {
      "text/plain": [
       "9"
      ]
     },
     "execution_count": 83,
     "metadata": {},
     "output_type": "execute_result"
    }
   ],
   "source": [
    "products = soup.find_all('div', {'class': 'product-item'})\n",
    "len(products)\n",
    "list_products = [ 'https://fireandice-sa.com' + pro.find('a')['href'] for pro in products]\n",
    "len(list_products)"
   ]
  },
  {
   "cell_type": "code",
   "execution_count": 84,
   "metadata": {},
   "outputs": [
    {
     "data": {
      "text/plain": [
       "33"
      ]
     },
     "execution_count": 84,
     "metadata": {},
     "output_type": "execute_result"
    }
   ],
   "source": [
    "\n",
    "list_urls += list_products\n",
    "len(list_urls)"
   ]
  },
  {
   "cell_type": "code",
   "execution_count": 54,
   "metadata": {},
   "outputs": [
    {
     "name": "stdout",
     "output_type": "stream",
     "text": [
      "Mozilla/5.0 (X11; CrOS i686 3912.101.0) AppleWebKit/537.36 (KHTML, like Gecko) Chrome/27.0.1453.116 Safari/537.36\n"
     ]
    }
   ],
   "source": [
    "options = Options()\n",
    "ua = UserAgent()\n",
    "userAgent = ua.random\n",
    "print(userAgent)\n",
    "options.add_argument(f'user-agent={userAgent}')\n",
    "#options.add_argument(\"--headless\")\n",
    "driver = webdriver.Firefox(firefox_options=options)\n",
    "#     driver = webdriver.Firefox()"
   ]
  },
  {
   "cell_type": "code",
   "execution_count": 55,
   "metadata": {},
   "outputs": [],
   "source": [
    "driver.get('https://fireandice-sa.com/products/%D9%86%D8%A7%D8%A8%D9%84%D9%8A%D9%88%D9%86-%D8%B1%D9%88%D9%82SE-525')\n",
    "r = driver.find_element_by_tag_name('body').get_attribute('innerHTML')\n",
    "\n",
    "soup = BeautifulSoup(r, 'html.parser')"
   ]
  },
  {
   "cell_type": "code",
   "execution_count": null,
   "metadata": {},
   "outputs": [],
   "source": [
    "details = soup.find('section', {'class': 'products-details mb-5'})\n",
    "print(details)"
   ]
  },
  {
   "cell_type": "code",
   "execution_count": 87,
   "metadata": {},
   "outputs": [
    {
     "name": "stdout",
     "output_type": "stream",
     "text": [
      "Mozilla/5.0 (X11; Linux x86_64) AppleWebKit/537.36 (KHTML, like Gecko) Chrome/34.0.1847.137 Safari/4E423F\n",
      "Count:  0\n",
      "URL:  https://fireandice-sa.com/products/kettle-grill-cart-model-cover-22s\n",
      "Count:  1\n",
      "URL:  https://fireandice-sa.com/products/brush-blast-with-stainless-steel-handle\n",
      "Count:  2\n",
      "URL:  https://fireandice-sa.com/products/nap-pro-wireless-thermometer\n",
      "Count:  3\n",
      "URL:  https://fireandice-sa.com/products/لمبات-انارة-داخل-الشواية\n",
      "Count:  4\n",
      "URL:  https://fireandice-sa.com/products/kit-burger-press\n",
      "Count:  5\n",
      "URL:  https://fireandice-sa.com/products/steak-knife-4-pc-and-2-pc-carving-set\n",
      "Count:  6\n",
      "URL:  https://fireandice-sa.com/products/غطاء-pro285-and-tq285\n",
      "Count:  7\n",
      "URL:  https://fireandice-sa.com/products/غطاء-travelq-pro-285\n",
      "Count:  8\n",
      "URL:  https://fireandice-sa.com/products/غطاء-بريستيج-و-بريستيج-برو-500\n",
      "Count:  9\n",
      "URL:  https://fireandice-sa.com/products/غطاء-لنابوليون-برو-825\n",
      "Count:  10\n",
      "URL:  https://fireandice-sa.com/products/قفازات-سيلكون-للحماية-نابليون\n",
      "Count:  11\n",
      "URL:  https://fireandice-sa.com/products/travelqtm-pro285e\n",
      "Count:  12\n",
      "URL:  https://fireandice-sa.com/products/rogue-se-625-rsib\n",
      "Count:  13\n",
      "URL:  https://fireandice-sa.com/products/prestige-500-rsib\n",
      "Count:  14\n",
      "URL:  https://fireandice-sa.com/products/gas-grill-prestige-pro-500-built-in\n",
      "Count:  15\n",
      "URL:  https://fireandice-sa.com/products/نابليون-بريستيج-برو-500\n",
      "Count:  16\n",
      "URL:  https://fireandice-sa.com/products/travelq-pro-285x\n",
      "Count:  17\n",
      "URL:  https://fireandice-sa.com/products/travelq-pro-285\n",
      "Count:  18\n",
      "URL:  https://fireandice-sa.com/products/pro-22-in-kettle-grill-charcoal\n",
      "Count:  19\n",
      "URL:  https://fireandice-sa.com/products/pro-22-in-freestanding-kettle-grill-charcoal\n",
      "Count:  20\n",
      "URL:  https://fireandice-sa.com/products/22-in-kettle-ngrill-charcoal\n",
      "Count:  21\n",
      "URL:  https://fireandice-sa.com/products/نابوليون-بريستيج-برو-665-تركيب-خارجي\n",
      "Count:  22\n",
      "URL:  https://fireandice-sa.com/products/نابليون-روقSE-525\n",
      "Count:  23\n",
      "URL:  https://fireandice-sa.com/products/نابوليون-روق-اكس-تي-625\n",
      "Count:  24\n",
      "URL:  https://fireandice-sa.com/products/نابوليون-برستيج-برو-500-اسود\n",
      "Count:  25\n",
      "URL:  https://fireandice-sa.com/products/نابليون-روق-425-اسود\n",
      "Count:  26\n",
      "URL:  https://fireandice-sa.com/products/نابوليون-بريستيج-برو-665-شواية-غاز-شوياتان-خلفية-وجانبية-حرارية\n",
      "Count:  27\n",
      "URL:  https://fireandice-sa.com/products/مقارنة\n",
      "Count:  28\n",
      "URL:  https://fireandice-sa.com/products/brush-brass-with-bottle-opener\n",
      "Count:  29\n",
      "URL:  https://fireandice-sa.com/products/indoor-outb-door-digital-thrmo-meter\n",
      "Count:  30\n",
      "URL:  https://fireandice-sa.com/products/غطاء-لشواية-500-تركيب-خارجي\n",
      "Count:  31\n",
      "URL:  https://fireandice-sa.com/products/نابليون-بريستيج-برو-825-المدمجة\n",
      "Count:  32\n",
      "URL:  https://fireandice-sa.com/products/شواية-فحم-احترافية\n"
     ]
    }
   ],
   "source": [
    "df = pd.read_excel('fireandice_product_model.xlsx')\n",
    "options = Options()\n",
    "ua = UserAgent()\n",
    "userAgent = ua.random\n",
    "print(userAgent)\n",
    "options.add_argument(f'user-agent={userAgent}')\n",
    "#options.add_argument(\"--headless\")\n",
    "driver = webdriver.Firefox(firefox_options=options)\n",
    "for i, url in enumerate(list_urls):\n",
    "    print('Count: ', i)\n",
    "    print('URL: ', url)\n",
    "    driver.get(url)\n",
    "    r = driver.find_element_by_tag_name('body').get_attribute('innerHTML')\n",
    "    time.sleep(1)\n",
    "    soup = BeautifulSoup(r, 'html.parser')\n",
    "    details = soup.find('section', {'class': 'products-details mb-5'})\n",
    "    name = details.find('h1').text.strip()\n",
    "    price = details.find('h1', {'class': 'product-formatted-price theme-text-primary'}).text.strip()\n",
    "    sku = details.find('div', {'class': 'product-sku'}).text.strip()\n",
    "    weight = details.find('div', {'class': 'product-weight'}).text.strip()\n",
    "    try:\n",
    "        qty = len(details.find('select', {'id': 'product-quantity'}).find_all('option'))\n",
    "    except:\n",
    "        continue\n",
    "    \n",
    "    description = soup.find('div', {'class': 'description-paragrah text-justify description-text-clear'}).text.strip()\n",
    "    images = soup.find('div', {'class': 'product-images slide gallery'}).find_all('a', {'class': 'image-link'})\n",
    "    list_images = [img.find('img')['src']for img in images ]\n",
    "    list_images = list(dict.fromkeys(list_images))\n",
    "    base_image = list_images[0]\n",
    "    add_images = ','.join(list_images[1:])\n",
    "    link_yts = driver.find_elements_by_xpath(\"//section[@id='product-description']//a[starts-with(@href, 'https://youtu.be/')]\")\n",
    "    yt_list = [yt.get_attribute('href') for yt in link_yts]\n",
    "\n",
    "    data = {\n",
    "        'sku': sku,\n",
    "        'name': name,\n",
    "        'price': price,\n",
    "        'link_url': url,\n",
    "        'weight': weight,\n",
    "        'qty': qty,\n",
    "        'link_yts': yt_list,\n",
    "        'description': description,\n",
    "        'base_image': base_image,\n",
    "        'add_images': add_images,\n",
    "        \n",
    "    }\n",
    "    df1 = pd.DataFrame([data])\n",
    "    df = pd.concat([df, df1], ignore_index=True)\n",
    "    df.to_excel('fireandice_test.xlsx')\n"
   ]
  }
 ],
 "metadata": {
  "interpreter": {
   "hash": "3c84e890491e19a1806ba6d8997d3a5373ca13adc3832f7ff9f28d04534d40f7"
  },
  "kernelspec": {
   "display_name": "Python 3.10.4 ('env310')",
   "language": "python",
   "name": "python3"
  },
  "language_info": {
   "codemirror_mode": {
    "name": "ipython",
    "version": 3
   },
   "file_extension": ".py",
   "mimetype": "text/x-python",
   "name": "python",
   "nbconvert_exporter": "python",
   "pygments_lexer": "ipython3",
   "version": "3.10.4"
  },
  "orig_nbformat": 4
 },
 "nbformat": 4,
 "nbformat_minor": 2
}
