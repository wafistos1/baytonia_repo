{
 "cells": [
  {
   "cell_type": "code",
   "execution_count": 1,
   "metadata": {},
   "outputs": [],
   "source": [
    "from colormap import rgb2hex\n",
    "import os,cv2,datetime,shutil,collections,random\n",
    "import glob as gb\n",
    "import numpy as np\n",
    "import pandas as pd\n",
    "import matplotlib.pyplot as plt\n",
    "from sklearn.cluster import KMeans"
   ]
  },
  {
   "cell_type": "code",
   "execution_count": 2,
   "metadata": {},
   "outputs": [],
   "source": [
    "def ImageAnalyse(Path,ColorsNumber=5,RemoveWhite=True,\n",
    "                 W=10,H=10,SavedPath='1.png',ColorsFile=os.path.join(os.getcwd(),'ColorsGroup.csv')) : \n",
    "\n",
    "    img=cv2.imread(Path)\n",
    "    img=cv2.cvtColor(img,cv2.COLOR_BGR2RGB)\n",
    "    img=img.reshape((img.shape[1]*img.shape[0],3))\n",
    "    Threshold = 10\n",
    "    if RemoveWhite : \n",
    "        NewImg = []\n",
    "        for i in img : \n",
    "            ThisDiff = abs(255-int(list(i)[0])) + abs(255-int(list(i)[1])) + abs(255-int(list(i)[2]))\n",
    "            if int(ThisDiff) > Threshold : \n",
    "                NewImg.append(np.array(i))\n",
    "        NewImg = np.array(NewImg)\n",
    "        img = NewImg\n",
    "    kmeans=KMeans(n_clusters=ColorsNumber)\n",
    "    s=kmeans.fit(img)    \n",
    "    labels=kmeans.labels_\n",
    "    labels=list(labels)\n",
    "    centroid=kmeans.cluster_centers_\n",
    "    SelectedCentroids = centroid\n",
    "    percent=[]\n",
    "    for i in range(len(centroid)):\n",
    "        j=labels.count(i)\n",
    "        j=j/(len(labels))\n",
    "        percent.append(j)\n",
    "\n",
    "    AllColorsDict = {}\n",
    "    for l in range(5) : \n",
    "        AllColorsDict[percent[l]] = np.array(centroid)[l]\n",
    "    \n",
    "    AllColorsDict = collections.OrderedDict(sorted(AllColorsDict.items(),reverse = True))    \n",
    "    percent= [k for k in AllColorsDict.keys()]\n",
    "    centroid = np.array([list(k) for k in AllColorsDict.values()])\n",
    "\n",
    "    plt.figure(figsize = (W, H))\n",
    "    plt.pie(percent,labels=np.arange(len(centroid)),\n",
    "            explode =[0.02 for i in range(len(centroid))],startangle=90,\n",
    "            colors=np.array(centroid/255),labeldistance=1.3,autopct ='%1.1f%%',pctdistance =1.1)\n",
    "\n",
    "    plt.axis('equal')\n",
    "    plt.title('Colors Analysis')\n",
    "    plt.savefig(SavedPath)\n",
    "    FinalImage = plt.imread(SavedPath)\n",
    "    \n",
    "    def MatchingColors(x): \n",
    "        data = pd.read_csv(ColorsFile)\n",
    "        minn = 100000\n",
    "        ThisIndex = 0\n",
    "        for i in range(data.shape[0]) : \n",
    "            l = abs(int(data.iloc[i,0])-x[0])\n",
    "            l += abs(int(data.iloc[i,1])-x[1])\n",
    "            l += abs(int(data.iloc[i,2])-x[2])\n",
    "            if l < minn : \n",
    "                minn = l\n",
    "                ThisIndex = int(data.iloc[i,3])\n",
    "        for i in range(data.shape[0]) : \n",
    "            if data.iloc[i,3] == ThisIndex : \n",
    "                A1 = [int(data.iloc[i,0]),int(data.iloc[i,1]),int(data.iloc[i,2])]\n",
    "                i +=1\n",
    "                A2 = [int(data.iloc[i,0]),int(data.iloc[i,1]),int(data.iloc[i,2])]\n",
    "                i +=1\n",
    "                A3 = [int(data.iloc[i,0]),int(data.iloc[i,1]),int(data.iloc[i,2])]\n",
    "                minn = 100000\n",
    "                j = 0\n",
    "                SpecificIndex = 0\n",
    "                for i in [A1,A2,A3] : \n",
    "                    j+=1\n",
    "                    l = abs(int(i[0])-x[0])\n",
    "                    l += abs(int(i[1])-x[1])\n",
    "                    l += abs(int(i[2])-x[2])\n",
    "                    if l < minn : \n",
    "                        minn = l\n",
    "                        SpecificIndex = j\n",
    "                if SpecificIndex ==1 : \n",
    "                    return [A1,A2,A3]\n",
    "                elif SpecificIndex ==2 : \n",
    "                    return [A2,A1,A3]\n",
    "                elif SpecificIndex ==3 : \n",
    "                    return [A3,A2,A1]\n",
    "\n",
    "\n",
    "    FinalColors = []\n",
    "    C = np.array(centroid/255)\n",
    "    a = int(C[0][0]*255)\n",
    "    b = int(C[0][1]*255)\n",
    "    c = int(C[0][2]*255)\n",
    "    CC = MatchingColors([a,b,c])\n",
    "    a1 = CC[0][0]\n",
    "    b1 = CC[0][1]\n",
    "    c1 = CC[0][2]\n",
    "    a2 = CC[1][0]\n",
    "    b2 = CC[1][1]\n",
    "    c2 = CC[1][2]\n",
    "    a3 = CC[2][0]\n",
    "    b3 = CC[2][1]\n",
    "    c3 = CC[2][2]\n",
    "    FinalColors.append([rgb2hex(a1,b1,c1),rgb2hex(a2,b2,c2),rgb2hex(a3,b3,c3)])\n",
    "    a = int(C[1][0]*255)\n",
    "    b = int(C[1][1]*255)\n",
    "    c = int(C[1][2]*255)\n",
    "    CC = MatchingColors([a,b,c])\n",
    "    a1 = CC[0][0]\n",
    "    b1 = CC[0][1]\n",
    "    c1 = CC[0][2]\n",
    "    a2 = CC[1][0]\n",
    "    b2 = CC[1][1]\n",
    "    c2 = CC[1][2]\n",
    "    a3 = CC[2][0]\n",
    "    b3 = CC[2][1]\n",
    "    c3 = CC[2][2]\n",
    "    \n",
    "    FinalColors.append([rgb2hex(a1,b1,c1),rgb2hex(a2,b2,c2),rgb2hex(a3,b3,c3)])\n",
    "    \n",
    "    a = int(C[2][0]*255)\n",
    "    b = int(C[2][1]*255)\n",
    "    c = int(C[2][2]*255)\n",
    "    CC = MatchingColors([a,b,c])\n",
    "    a1 = CC[0][0]\n",
    "    b1 = CC[0][1]\n",
    "    c1 = CC[0][2]\n",
    "    a2 = CC[1][0]\n",
    "    b2 = CC[1][1]\n",
    "    c2 = CC[1][2]\n",
    "    a3 = CC[2][0]\n",
    "    b3 = CC[2][1]\n",
    "    c3 = CC[2][2]\n",
    "    \n",
    "    FinalColors.append([rgb2hex(a1,b1,c1),rgb2hex(a2,b2,c2),rgb2hex(a3,b3,c3)])\n",
    "    \n",
    "    a = int(C[3][0]*255)\n",
    "    b = int(C[3][1]*255)\n",
    "    c = int(C[3][2]*255)\n",
    "    CC = MatchingColors([a,b,c])\n",
    "    a1 = CC[0][0]\n",
    "    b1 = CC[0][1]\n",
    "    c1 = CC[0][2]\n",
    "    a2 = CC[1][0]\n",
    "    b2 = CC[1][1]\n",
    "    c2 = CC[1][2]\n",
    "    a3 = CC[2][0]\n",
    "    b3 = CC[2][1]\n",
    "    c3 = CC[2][2]\n",
    "    \n",
    "    FinalColors.append([rgb2hex(a1,b1,c1),rgb2hex(a2,b2,c2),rgb2hex(a3,b3,c3)])\n",
    "    \n",
    "    \n",
    "    a = int(C[4][0]*255)\n",
    "    b = int(C[4][1]*255)\n",
    "    c = int(C[4][2]*255)\n",
    "    CC = MatchingColors([a,b,c])\n",
    "    a1 = CC[0][0]\n",
    "    b1 = CC[0][1]\n",
    "    c1 = CC[0][2]\n",
    "    a2 = CC[1][0]\n",
    "    b2 = CC[1][1]\n",
    "    c2 = CC[1][2]\n",
    "    a3 = CC[2][0]\n",
    "    b3 = CC[2][1]\n",
    "    c3 = CC[2][2]\n",
    "    \n",
    "    FinalColors.append([rgb2hex(a1,b1,c1),rgb2hex(a2,b2,c2),rgb2hex(a3,b3,c3)])\n",
    "    RandomColors = []\n",
    "    RandomColors.extend(FinalColors[0])\n",
    "    RandomColors.extend(random.sample([FinalColors[1][0],FinalColors[2][0],FinalColors[3][0],FinalColors[4][0]], 2))\n",
    " \n",
    "    return SelectedCentroids,FinalImage, FinalColors,RandomColors"
   ]
  },
  {
   "cell_type": "code",
   "execution_count": 3,
   "metadata": {},
   "outputs": [
    {
     "data": {
      "image/png": "[encoded data removed]",
      "text/plain": [
       "<Figure size 720x720 with 1 Axes>"
      ]
     },
     "metadata": {},
     "output_type": "display_data"
    }
   ],
   "source": [
    "C,Image,Colors,RandomColors = ImageAnalyse(r'C:\\Users\\Admin#\\Desktop\\Gheid\\6666.jpg') "
   ]
  },
  {
   "cell_type": "code",
   "execution_count": 4,
   "metadata": {},
   "outputs": [
    {
     "data": {
      "text/plain": [
       "['#EC1D25', '#FEF102', '#0367B2', '#10A0C5', '#21AF4B']"
      ]
     },
     "execution_count": 4,
     "metadata": {},
     "output_type": "execute_result"
    }
   ],
   "source": [
    "RandomColors"
   ]
  },
  {
   "cell_type": "code",
   "execution_count": 5,
   "metadata": {},
   "outputs": [
    {
     "data": {
      "text/plain": [
       "[['#EC1D25', '#FEF102', '#0367B2'],\n",
       " ['#21AF4B', '#602E91', '#F8901F'],\n",
       " ['#10A0C5', '#C41A7E', '#FFC809'],\n",
       " ['#A34198', '#FDB928', '#3CB977'],\n",
       " ['#F58323', '#03A45E', '#5A3094']]"
      ]
     },
     "execution_count": 5,
     "metadata": {},
     "output_type": "execute_result"
    }
   ],
   "source": [
    "Colors"
   ]
  },
  {
   "cell_type": "code",
   "execution_count": 6,
   "metadata": {},
   "outputs": [
    {
     "data": {
      "text/plain": [
       "array([[235.7943028 ,  28.07082153,  36.49889833],\n",
       "       [  1.17795353, 161.8423134 , 230.36777064],\n",
       "       [ 35.16802168, 176.28485396,  77.34296899],\n",
       "       [159.97149644,  73.53285827, 160.37925574],\n",
       "       [251.2398317 , 126.76297335,  38.75175316]])"
      ]
     },
     "execution_count": 6,
     "metadata": {},
     "output_type": "execute_result"
    }
   ],
   "source": [
    "C"
   ]
  },
  {
   "cell_type": "code",
   "execution_count": 7,
   "metadata": {},
   "outputs": [
    {
     "data": {
      "text/plain": [
       "array([[[1., 1., 1., 1.],\n",
       "        [1., 1., 1., 1.],\n",
       "        [1., 1., 1., 1.],\n",
       "        ...,\n",
       "        [1., 1., 1., 1.],\n",
       "        [1., 1., 1., 1.],\n",
       "        [1., 1., 1., 1.]],\n",
       "\n",
       "       [[1., 1., 1., 1.],\n",
       "        [1., 1., 1., 1.],\n",
       "        [1., 1., 1., 1.],\n",
       "        ...,\n",
       "        [1., 1., 1., 1.],\n",
       "        [1., 1., 1., 1.],\n",
       "        [1., 1., 1., 1.]],\n",
       "\n",
       "       [[1., 1., 1., 1.],\n",
       "        [1., 1., 1., 1.],\n",
       "        [1., 1., 1., 1.],\n",
       "        ...,\n",
       "        [1., 1., 1., 1.],\n",
       "        [1., 1., 1., 1.],\n",
       "        [1., 1., 1., 1.]],\n",
       "\n",
       "       ...,\n",
       "\n",
       "       [[1., 1., 1., 1.],\n",
       "        [1., 1., 1., 1.],\n",
       "        [1., 1., 1., 1.],\n",
       "        ...,\n",
       "        [1., 1., 1., 1.],\n",
       "        [1., 1., 1., 1.],\n",
       "        [1., 1., 1., 1.]],\n",
       "\n",
       "       [[1., 1., 1., 1.],\n",
       "        [1., 1., 1., 1.],\n",
       "        [1., 1., 1., 1.],\n",
       "        ...,\n",
       "        [1., 1., 1., 1.],\n",
       "        [1., 1., 1., 1.],\n",
       "        [1., 1., 1., 1.]],\n",
       "\n",
       "       [[1., 1., 1., 1.],\n",
       "        [1., 1., 1., 1.],\n",
       "        [1., 1., 1., 1.],\n",
       "        ...,\n",
       "        [1., 1., 1., 1.],\n",
       "        [1., 1., 1., 1.],\n",
       "        [1., 1., 1., 1.]]], dtype=float32)"
      ]
     },
     "execution_count": 7,
     "metadata": {},
     "output_type": "execute_result"
    }
   ],
   "source": [
    "Image"
   ]
  },
  {
   "cell_type": "code",
   "execution_count": null,
   "metadata": {},
   "outputs": [],
   "source": []
  },
  {
   "cell_type": "code",
   "execution_count": 8,
   "metadata": {},
   "outputs": [],
   "source": [
    "def CheckImages(FilesPath=os.path.join(os.getcwd(), r'AllImages\\*.*'),SelectedNumber=5,ColorsNumber=5) : \n",
    "\n",
    "    if not os.path.isfile(os.path.join(os.getcwd(), 'ImagesCodes.csv')) : \n",
    "        ColorData = pd.DataFrame(columns = ['FileName','Color1','Color2','Color3','Color4','Color5'])\n",
    "        ColorData.head()\n",
    "        ColorData.to_csv(os.path.join(os.getcwd(), 'ImagesCodes.csv'),index=False)\n",
    "    \n",
    "    def GetColors(Path,Clusters = ColorsNumber) : \n",
    "        img=cv2.imread(Path)\n",
    "        img=cv2.cvtColor(img,cv2.COLOR_BGR2RGB)\n",
    "        img=img.reshape((img.shape[1]*img.shape[0],3))\n",
    "        Threshold = 10\n",
    "        NewImg = []\n",
    "        for i in img : \n",
    "            ThisDiff = abs(255-int(list(i)[0])) + abs(255-int(list(i)[1])) + abs(255-int(list(i)[2]))\n",
    "            if int(ThisDiff) > Threshold : \n",
    "                NewImg.append(np.array(i))\n",
    "        NewImg = np.array(NewImg)\n",
    "        img = NewImg\n",
    "\n",
    "        kmeans=KMeans(n_clusters=Clusters)\n",
    "        s=kmeans.fit(img)    \n",
    "        labels=kmeans.labels_\n",
    "        labels=list(labels)\n",
    "        centroid=kmeans.cluster_centers_\n",
    "        percent=[]\n",
    "        for i in range(len(centroid)):\n",
    "            j=labels.count(i)\n",
    "            j=j/(len(labels))\n",
    "            percent.append(j)\n",
    "        return np.array(centroid) \n",
    "\n",
    "\n",
    "    SelectedDict = {}\n",
    "    Files = gb.glob(FilesPath)\n",
    "    AllFiles = []\n",
    "    for f in Files : \n",
    "        if f[-3:].lower() in ['jpg','jpeg','png'] : \n",
    "            AllFiles.append(f.split('\\\\')[-1])\n",
    "\n",
    "    \n",
    "    \n",
    "    data = pd.read_csv(os.path.join(os.getcwd(), 'ImagesCodes.csv'))\n",
    "    ee = 0\n",
    "    for image in AllFiles : \n",
    "        ee+=1\n",
    "        if image not in  list(data['FileName']) : \n",
    "            \n",
    "            print(f'Processing Number  : {ee}  ,  File : {image}')\n",
    "            TheseColors = GetColors(os.path.join(os.getcwd(), 'AllImages',image))\n",
    "            a,b,c,d,e = TheseColors \n",
    "\n",
    "            Temp  = pd.DataFrame([[image,str(list(np.round(a))),str(list(np.round(b))),\n",
    "                                   str(list(np.round(c))),str(list(np.round(d))),str(list(np.round(e)))]],\n",
    "                                 columns=['FileName','Color1','Color2','Color3','Color4','Color5'])\n",
    "            \n",
    "\n",
    "            data = data.append(Temp)\n",
    "            data.to_csv(os.path.join(os.getcwd(), 'ImagesCodes.csv'),index=False)\n",
    "\n",
    "            \n",
    "            print('----------------------------------------------')\n",
    "    return data\n"
   ]
  },
  {
   "cell_type": "code",
   "execution_count": 9,
   "metadata": {},
   "outputs": [
    {
     "data": {
      "text/html": [
       "<div>\n",
       "<style scoped>\n",
       "    .dataframe tbody tr th:only-of-type {\n",
       "        vertical-align: middle;\n",
       "    }\n",
       "\n",
       "    .dataframe tbody tr th {\n",
       "        vertical-align: top;\n",
       "    }\n",
       "\n",
       "    .dataframe thead th {\n",
       "        text-align: right;\n",
       "    }\n",
       "</style>\n",
       "<table border=\"1\" class=\"dataframe\">\n",
       "  <thead>\n",
       "    <tr style=\"text-align: right;\">\n",
       "      <th></th>\n",
       "      <th>FileName</th>\n",
       "      <th>Color1</th>\n",
       "      <th>Color2</th>\n",
       "      <th>Color3</th>\n",
       "      <th>Color4</th>\n",
       "      <th>Color5</th>\n",
       "    </tr>\n",
       "  </thead>\n",
       "  <tbody>\n",
       "    <tr>\n",
       "      <th>0</th>\n",
       "      <td>1.png</td>\n",
       "      <td>[91.0, 90.0, 80.0]</td>\n",
       "      <td>[226.0, 228.0, 224.0]</td>\n",
       "      <td>[45.0, 46.0, 38.0]</td>\n",
       "      <td>[192.0, 189.0, 176.0]</td>\n",
       "      <td>[132.0, 133.0, 127.0]</td>\n",
       "    </tr>\n",
       "    <tr>\n",
       "      <th>1</th>\n",
       "      <td>2.png</td>\n",
       "      <td>[148.0, 151.0, 144.0]</td>\n",
       "      <td>[16.0, 14.0, 11.0]</td>\n",
       "      <td>[99.0, 100.0, 90.0]</td>\n",
       "      <td>[191.0, 195.0, 197.0]</td>\n",
       "      <td>[59.0, 57.0, 48.0]</td>\n",
       "    </tr>\n",
       "    <tr>\n",
       "      <th>2</th>\n",
       "      <td>3.png</td>\n",
       "      <td>[0.0, 0.0, 0.0]</td>\n",
       "      <td>[146.0, 114.0, 83.0]</td>\n",
       "      <td>[206.0, 177.0, 141.0]</td>\n",
       "      <td>[10.0, 19.0, 26.0]</td>\n",
       "      <td>[73.0, 59.0, 48.0]</td>\n",
       "    </tr>\n",
       "    <tr>\n",
       "      <th>3</th>\n",
       "      <td>3d-abstract-scene-background_23-2148893771.jpg</td>\n",
       "      <td>[231.0, 243.0, 234.0]</td>\n",
       "      <td>[166.0, 200.0, 174.0]</td>\n",
       "      <td>[189.0, 218.0, 197.0]</td>\n",
       "      <td>[211.0, 230.0, 217.0]</td>\n",
       "      <td>[138.0, 182.0, 151.0]</td>\n",
       "    </tr>\n",
       "    <tr>\n",
       "      <th>4</th>\n",
       "      <td>3d-render-gold-bowling-strike_167713-1.jpg</td>\n",
       "      <td>[37.0, 30.0, 11.0]</td>\n",
       "      <td>[137.0, 78.0, 21.0]</td>\n",
       "      <td>[251.0, 241.0, 74.0]</td>\n",
       "      <td>[230.0, 115.0, 21.0]</td>\n",
       "      <td>[84.0, 51.0, 14.0]</td>\n",
       "    </tr>\n",
       "  </tbody>\n",
       "</table>\n",
       "</div>"
      ],
      "text/plain": [
       "                                         FileName                 Color1  \\\n",
       "0                                           1.png     [91.0, 90.0, 80.0]   \n",
       "1                                           2.png  [148.0, 151.0, 144.0]   \n",
       "2                                           3.png        [0.0, 0.0, 0.0]   \n",
       "3  3d-abstract-scene-background_23-2148893771.jpg  [231.0, 243.0, 234.0]   \n",
       "4      3d-render-gold-bowling-strike_167713-1.jpg     [37.0, 30.0, 11.0]   \n",
       "\n",
       "                  Color2                 Color3                 Color4  \\\n",
       "0  [226.0, 228.0, 224.0]     [45.0, 46.0, 38.0]  [192.0, 189.0, 176.0]   \n",
       "1     [16.0, 14.0, 11.0]    [99.0, 100.0, 90.0]  [191.0, 195.0, 197.0]   \n",
       "2   [146.0, 114.0, 83.0]  [206.0, 177.0, 141.0]     [10.0, 19.0, 26.0]   \n",
       "3  [166.0, 200.0, 174.0]  [189.0, 218.0, 197.0]  [211.0, 230.0, 217.0]   \n",
       "4    [137.0, 78.0, 21.0]   [251.0, 241.0, 74.0]   [230.0, 115.0, 21.0]   \n",
       "\n",
       "                  Color5  \n",
       "0  [132.0, 133.0, 127.0]  \n",
       "1     [59.0, 57.0, 48.0]  \n",
       "2     [73.0, 59.0, 48.0]  \n",
       "3  [138.0, 182.0, 151.0]  \n",
       "4     [84.0, 51.0, 14.0]  "
      ]
     },
     "execution_count": 9,
     "metadata": {},
     "output_type": "execute_result"
    }
   ],
   "source": [
    "a = CheckImages()\n",
    "a.head()"
   ]
  },
  {
   "cell_type": "code",
   "execution_count": null,
   "metadata": {},
   "outputs": [],
   "source": []
  },
  {
   "cell_type": "code",
   "execution_count": null,
   "metadata": {},
   "outputs": [],
   "source": [
    "\n",
    "\n",
    "\n"
   ]
  },
  {
   "cell_type": "code",
   "execution_count": null,
   "metadata": {},
   "outputs": [],
   "source": []
  },
  {
   "cell_type": "code",
   "execution_count": null,
   "metadata": {},
   "outputs": [],
   "source": []
  },
  {
   "cell_type": "code",
   "execution_count": null,
   "metadata": {},
   "outputs": [],
   "source": []
  },
  {
   "cell_type": "code",
   "execution_count": null,
   "metadata": {},
   "outputs": [],
   "source": []
  },
  {
   "cell_type": "code",
   "execution_count": null,
   "metadata": {},
   "outputs": [],
   "source": []
  },
  {
   "cell_type": "code",
   "execution_count": null,
   "metadata": {},
   "outputs": [],
   "source": []
  },
  {
   "cell_type": "code",
   "execution_count": 10,
   "metadata": {},
   "outputs": [],
   "source": [
    "def NearestImages(SelectedCentroids,FilesPath=os.path.join(os.getcwd(), r'AllImages\\*.*'),\n",
    "                 SelectedNumber=5,ColorsNumber=5) : \n",
    "    if os.path.isfile(os.path.join(os.getcwd(), 'ImagesCodes.csv')) : \n",
    "        data = pd.read_csv(os.path.join(os.getcwd(), 'ImagesCodes.csv'))\n",
    "    else : \n",
    "        print('Images Codes file is not Found')\n",
    "        return None\n",
    "    \n",
    "    SelectedDict = {}\n",
    "    for i in range(data.shape[0]): \n",
    "        a1 = float(data['Color1'][i].strip('[').strip(']').split(',')[0])\n",
    "        a2 = float(data['Color1'][i].strip('[').strip(']').split(',')[1])\n",
    "        a3 = float(data['Color1'][i].strip('[').strip(']').split(',')[2])\n",
    "\n",
    "        b1 = float(data['Color2'][i].strip('[').strip(']').split(',')[0])\n",
    "        b2 = float(data['Color2'][i].strip('[').strip(']').split(',')[1])\n",
    "        b3 = float(data['Color2'][i].strip('[').strip(']').split(',')[2])\n",
    "\n",
    "        c1 = float(data['Color3'][i].strip('[').strip(']').split(',')[0])\n",
    "        c2 = float(data['Color3'][i].strip('[').strip(']').split(',')[1])\n",
    "        c3 = float(data['Color3'][i].strip('[').strip(']').split(',')[2])\n",
    "\n",
    "        d1 = float(data['Color4'][i].strip('[').strip(']').split(',')[0])\n",
    "        d2 = float(data['Color4'][i].strip('[').strip(']').split(',')[1])\n",
    "        d3 = float(data['Color4'][i].strip('[').strip(']').split(',')[2])\n",
    "\n",
    "        e1 = float(data['Color5'][i].strip('[').strip(']').split(',')[0])\n",
    "        e2 = float(data['Color5'][i].strip('[').strip(']').split(',')[1])\n",
    "        e3 = float(data['Color5'][i].strip('[').strip(']').split(',')[2])\n",
    "        \n",
    "        TheseColors = [[a1,a2,a3],\n",
    "                       [b1,b2,b3],\n",
    "                       [c1,c2,c3],\n",
    "                       [d1,d2,d3],\n",
    "                       [e1,e2,e3]]\n",
    "\n",
    "        FileDiff = 0\n",
    "        for TC in TheseColors : \n",
    "            SelectedDiff = []\n",
    "            for SC in SelectedCentroids : \n",
    "                ThisDiff=abs(int(list(SC)[0])-int(list(TC)[0]))+abs(int(list(SC)[1])-int(list(TC)[1]))+abs(int(list(SC)[2])-int(list(TC)[2]))\n",
    "                SelectedDiff.append(ThisDiff)\n",
    "            FileDiff +=min(SelectedDiff)\n",
    "        SelectedDict[str(data['FileName'][i])] = FileDiff\n",
    "    FinalDict  = {k: v for k, v in sorted(SelectedDict.items(), key=lambda item: item[1])}\n",
    "    FinalDict = {k: FinalDict[k] for k in list(FinalDict.keys())[:SelectedNumber]}\n",
    "    Now = datetime.datetime.now()\n",
    "    FileName = f'{Now.year}_{Now.month}_{Now.day}_{Now.hour}_{Now.minute}'\n",
    "    os.makedirs(os.path.join(os.getcwd(), FileName))\n",
    "    for file in list(FinalDict.keys()) : \n",
    "        shutil.copy(os.path.join(os.getcwd(),'AllImages',file),os.path.join(os.getcwd(), FileName,file))\n",
    "\n",
    "    return list(FinalDict.keys() )"
   ]
  },
  {
   "cell_type": "code",
   "execution_count": 11,
   "metadata": {},
   "outputs": [
    {
     "data": {
      "image/png": "[encoded data removed]",
      "text/plain": [
       "<Figure size 720x720 with 1 Axes>"
      ]
     },
     "metadata": {},
     "output_type": "display_data"
    }
   ],
   "source": [
    "C,Image,Colors,RandomColors = ImageAnalyse(r'C:\\Users\\Admin#\\Desktop\\Gheid\\Logos\\07.jpg') "
   ]
  },
  {
   "cell_type": "code",
   "execution_count": 12,
   "metadata": {},
   "outputs": [
    {
     "data": {
      "text/plain": [
       "['texture-sand-brown-crumpled-fabric_23-2148516006.jpg',\n",
       " 'yellow-red-leaves-surrounding-trees-park_181624-29883.jpg',\n",
       " 'pathway-middle-forest-with-big-green-leafed-trees_181624-4332.jpg',\n",
       " 'beautiful-wooden-pathway-going-breathtaking-colorful-trees-forest_181624-5840.jpg',\n",
       " '3d-render-gold-bowling-strike_167713-1.jpg']"
      ]
     },
     "execution_count": 12,
     "metadata": {},
     "output_type": "execute_result"
    }
   ],
   "source": [
    "NearestImages(C)"
   ]
  },
  {
   "cell_type": "code",
   "execution_count": 13,
   "metadata": {},
   "outputs": [
    {
     "data": {
      "text/plain": [
       "array([[ 45.51665234,  29.70122882,  16.2306043 ],\n",
       "       [225.55447708, 176.25817811, 112.97623541],\n",
       "       [103.23110891,  64.43696612,  32.85347794],\n",
       "       [229.13205255, 148.79258298,  34.14343958],\n",
       "       [254.08470315, 229.65467404, 165.58143912]])"
      ]
     },
     "execution_count": 13,
     "metadata": {},
     "output_type": "execute_result"
    }
   ],
   "source": [
    "C"
   ]
  },
  {
   "cell_type": "code",
   "execution_count": 14,
   "metadata": {},
   "outputs": [
    {
     "data": {
      "text/plain": [
       "['#7D0000', '#007D00', '#00007D', '#FFE4AD', '#E49E24']"
      ]
     },
     "execution_count": 14,
     "metadata": {},
     "output_type": "execute_result"
    }
   ],
   "source": [
    "RandomColors"
   ]
  },
  {
   "cell_type": "code",
   "execution_count": 15,
   "metadata": {},
   "outputs": [
    {
     "data": {
      "text/plain": [
       "[['#7D0000', '#007D00', '#00007D'],\n",
       " ['#F6A973', '#63C296', '#7D6DAE'],\n",
       " ['#000000', '#FAFAFA', '#7D7D7D'],\n",
       " ['#FFE4AD', '#D8A1C9', '#A0D6BE'],\n",
       " ['#E49E24', '#962C91', '#14A85C']]"
      ]
     },
     "execution_count": 15,
     "metadata": {},
     "output_type": "execute_result"
    }
   ],
   "source": [
    "Colors"
   ]
  },
  {
   "cell_type": "code",
   "execution_count": null,
   "metadata": {
    "collapsed": true
   },
   "outputs": [],
   "source": [
    "print('toto le chien')"
   ]
  }
 ],
 "metadata": {
  "kernelspec": {
   "display_name": "Python 3",
   "language": "python",
   "name": "python3"
  },
  "language_info": {
   "codemirror_mode": {
    "name": "ipython",
    "version": 3
   },
   "file_extension": ".py",
   "mimetype": "text/x-python",
   "name": "python",
   "nbconvert_exporter": "python",
   "pygments_lexer": "ipython3",
   "version": "3.8.8"
  }
 },
 "nbformat": 4,
 "nbformat_minor": 4
}
