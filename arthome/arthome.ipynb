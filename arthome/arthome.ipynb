{
 "cells": [
  {
   "cell_type": "code",
   "execution_count": 1,
   "id": "51b0a636",
   "metadata": {},
   "outputs": [],
   "source": [
    "#imports here\n",
    "from selenium import webdriver\n",
    "from selenium.webdriver.common.keys import Keys\n",
    "from selenium.webdriver.support import expected_conditions as EC\n",
    "from selenium.webdriver.common.by import By\n",
    "from selenium.webdriver.support.wait import WebDriverWait\n",
    "from selenium.webdriver.firefox.options import Options\n",
    "import time\n",
    "import os\n",
    "from fake_useragent import UserAgent\n",
    "from random import randint\n",
    "import pandas as pd\n",
    "import re\n",
    "from datetime import datetime\n",
    "from datetime import timedelta\n",
    "from bs4 import BeautifulSoup"
   ]
  },
  {
   "cell_type": "markdown",
   "id": "e09c5275",
   "metadata": {},
   "source": [
    "# firefox "
   ]
  },
  {
   "cell_type": "code",
   "execution_count": 138,
   "id": "e81ce385",
   "metadata": {},
   "outputs": [
    {
     "name": "stdout",
     "output_type": "stream",
     "text": [
      "Mozilla/5.0 (Macintosh; Intel Mac OS X 10_9_0) AppleWebKit/537.36 (KHTML, like Gecko) Chrome/32.0.1664.3 Safari/537.36\n"
     ]
    },
    {
     "name": "stderr",
     "output_type": "stream",
     "text": [
      "<ipython-input-138-5315509cced7>:7: DeprecationWarning: use options instead of firefox_options\n",
      "  driver = webdriver.Firefox(firefox_options=options)\n"
     ]
    }
   ],
   "source": [
    "options = Options()\n",
    "ua = UserAgent()\n",
    "userAgent = ua.random\n",
    "print(userAgent)\n",
    "options.add_argument(f'user-agent={userAgent}')\n",
    "#options.add_argument(\"--headless\")\n",
    "driver = webdriver.Firefox(firefox_options=options)\n",
    "#     driver = webdriver.Firefox()"
   ]
  },
  {
   "cell_type": "code",
   "execution_count": 120,
   "id": "4eec53e4",
   "metadata": {},
   "outputs": [],
   "source": [
    "driver.get('https://arthomefurnishings.com/shop/starlite-california-king-upholstered-panel-bed-with-storage/')"
   ]
  },
  {
   "cell_type": "code",
   "execution_count": 106,
   "id": "eae9ba2e",
   "metadata": {},
   "outputs": [
    {
     "data": {
      "text/plain": [
       "48"
      ]
     },
     "execution_count": 106,
     "metadata": {},
     "output_type": "execute_result"
    }
   ],
   "source": [
    "urls_links = driver.find_elements_by_class_name('woocommerce-LoopProduct-link')\n",
    "len(urls)"
   ]
  },
  {
   "cell_type": "code",
   "execution_count": 103,
   "id": "396ee38b",
   "metadata": {},
   "outputs": [],
   "source": [
    "links_products = []"
   ]
  },
  {
   "cell_type": "code",
   "execution_count": null,
   "id": "19126c9c",
   "metadata": {},
   "outputs": [],
   "source": []
  },
  {
   "cell_type": "code",
   "execution_count": 107,
   "id": "6d74f8eb",
   "metadata": {},
   "outputs": [],
   "source": [
    "for toto in urls_links:\n",
    "    \n",
    "   links_products.append(toto.get_attribute('href'))\n",
    "\n"
   ]
  },
  {
   "cell_type": "code",
   "execution_count": 108,
   "id": "7a29fc45",
   "metadata": {
    "scrolled": false
   },
   "outputs": [
    {
     "data": {
      "text/plain": [
       "['https://arthomefurnishings.com/shop/starlite-california-king-upholstered-panel-bed-with-storage/',\n",
       " 'https://arthomefurnishings.com/shop/starlite-king-upholstered-panel-bed-with-storage/',\n",
       " 'https://arthomefurnishings.com/shop/starlite-queen-upholstered-panel-bed-with-storage/',\n",
       " 'https://arthomefurnishings.com/shop/starlite-california-king-upholstered-panel-bed/',\n",
       " 'https://arthomefurnishings.com/shop/starlite-king-upholstered-panel-bed/',\n",
       " 'https://arthomefurnishings.com/shop/starlite-queen-upholstered-panel-bed/',\n",
       " 'https://arthomefurnishings.com/shop/charme-california-king-upholstered-panel-bed/',\n",
       " 'https://arthomefurnishings.com/shop/charme-king-upholstered-panel-bed/',\n",
       " 'https://arthomefurnishings.com/shop/charme-queen-upholstered-panel-bed/',\n",
       " 'https://arthomefurnishings.com/shop/cotiere-california-king-wood-platform-bed/',\n",
       " 'https://arthomefurnishings.com/shop/cotiere-king-panel-bed/',\n",
       " 'https://arthomefurnishings.com/shop/cotiere-queen-panel-bed/',\n",
       " 'https://arthomefurnishings.com/shop/newel-king-upholstered-bed/',\n",
       " 'https://arthomefurnishings.com/shop/newel-queen-upholstered-bed/',\n",
       " 'https://arthomefurnishings.com/shop/newel-california-king-panel-bed/',\n",
       " 'https://arthomefurnishings.com/shop/newel-king-panel-bed/',\n",
       " 'https://arthomefurnishings.com/shop/newel-queen-panel-bed/',\n",
       " 'https://arthomefurnishings.com/shop/passage-king-uph-bed/',\n",
       " 'https://arthomefurnishings.com/shop/passage-queen-uph-bed/',\n",
       " 'https://arthomefurnishings.com/shop/passage-california-king-bed/',\n",
       " 'https://arthomefurnishings.com/shop/passage-king-bed/',\n",
       " 'https://arthomefurnishings.com/shop/passage-queen-bed/',\n",
       " 'https://arthomefurnishings.com/shop/palisade-king-sleigh-bed/',\n",
       " 'https://arthomefurnishings.com/shop/palisade-queen-sleigh-bed/',\n",
       " 'https://arthomefurnishings.com/shop/palisade-california-king-panel-bed/',\n",
       " 'https://arthomefurnishings.com/shop/palisade-king-panel-bed/',\n",
       " 'https://arthomefurnishings.com/shop/palisade-queen-panel-bed/',\n",
       " 'https://arthomefurnishings.com/shop/north-side-king-panel-bed/',\n",
       " 'https://arthomefurnishings.com/shop/north-side-queen-panel-bed/',\n",
       " 'https://arthomefurnishings.com/shop/north-side-california-king-upholstered-panel-bed/',\n",
       " 'https://arthomefurnishings.com/shop/north-side-king-upholstered-panel-bed/',\n",
       " 'https://arthomefurnishings.com/shop/north-side-queen-upholstered-panel-bed/',\n",
       " 'https://arthomefurnishings.com/shop/la-scala-king-panel-bed/',\n",
       " 'https://arthomefurnishings.com/shop/la-scala-queen-panel-bed/',\n",
       " 'https://arthomefurnishings.com/shop/summer-creek-shoals-california-king-upholstered-tufted-sleigh-bed/',\n",
       " 'https://arthomefurnishings.com/shop/summer-creek-shoals-king-upholstered-tufted-sleigh-bed/',\n",
       " 'https://arthomefurnishings.com/shop/summer-creek-shoals-queen-upholstered-tufted-sleigh-bed/',\n",
       " 'https://arthomefurnishings.com/shop/bobby-berk-california-king-faber-platform-storage-bed-by-a-r-t-furniture/',\n",
       " 'https://arthomefurnishings.com/shop/bobby-berk-king-faber-platform-storage-bed-by-a-r-t-furniture/',\n",
       " 'https://arthomefurnishings.com/shop/bobby-berk-queen-faber-platform-storage-bed-by-a-r-t-furniture/',\n",
       " 'https://arthomefurnishings.com/shop/bobby-berk-california-king-kirkeby-upholstered-bed-by-a-r-t-furniture/',\n",
       " 'https://arthomefurnishings.com/shop/bobby-berk-king-kirkeby-upholstered-bed-by-a-r-t-furniture/',\n",
       " 'https://arthomefurnishings.com/shop/bobby-berk-queen-kirkeby-upholstered-bed-by-a-r-t-furniture/',\n",
       " 'https://arthomefurnishings.com/shop/arch-salvage-california-king-chambers-panel-bed/',\n",
       " 'https://arthomefurnishings.com/shop/arch-salvage-king-chambers-panel-bed/',\n",
       " 'https://arthomefurnishings.com/shop/arch-salvage-queen-chambers-panel-bed/',\n",
       " 'https://arthomefurnishings.com/shop/cityscapes-6-0-chelsea-uph-shelter-sleigh-bed/',\n",
       " 'https://arthomefurnishings.com/shop/cityscapes-king-chelsea-upholstered-shelter-sleigh-bed/']"
      ]
     },
     "execution_count": 108,
     "metadata": {},
     "output_type": "execute_result"
    }
   ],
   "source": [
    "links_products\n"
   ]
  },
  {
   "cell_type": "code",
   "execution_count": 13,
   "id": "3e57a631",
   "metadata": {},
   "outputs": [],
   "source": [
    "list_url = [\n",
    "    \n",
    "    [\n",
    "        'https://www.sagebrookhome.com/decorative-accessories/bookends/?page=', 2\n",
    "    ],\n",
    "    [\n",
    "            'https://www.sagebrookhome.com/decorative-accessories/bowls-and-plates/?page=', 2\n",
    "    ],\n",
    "    [\n",
    "        'https://www.sagebrookhome.com/decorative-accessories/boxes/?page=', 2\n",
    "    ],\n",
    "    [\n",
    "        'https://www.sagebrookhome.com/decorative-accessories/clocks/?page=', 2\n",
    "    ],\n",
    "    [\n",
    "        'https://www.sagebrookhome.com/decorative-accessories/decorative-objects/?page=', 4\n",
    "    ],\n",
    "    [\n",
    "        'https://www.sagebrookhome.com/figurines/?page=', 5\n",
    "    ],\n",
    "    [\n",
    "        'https://www.sagebrookhome.com/decorative-accessories/frames/?page=', 2\n",
    "    ],\n",
    "    [\n",
    "        'https://www.sagebrookhome.com/decorative-accessories/sculptures/?page=', 3\n",
    "    ],\n",
    "    [\n",
    "        'https://www.sagebrookhome.com/decorative-accessories/storage/?page=', 2\n",
    "    ],\n",
    "    [\n",
    "        'https://www.sagebrookhome.com/decorative-accessories/trays/?page=', 2\n",
    "    ],\n",
    "    [\n",
    "        'https://www.sagebrookhome.com/decorative-accessories/trinkets-and-trays/?page=', 2\n",
    "    ],\n",
    "    [\n",
    "        'https://www.sagebrookhome.com/decorative-accessories/orbs/?page=', 2\n",
    "    ],\n",
    "    [\n",
    "        'https://www.sagebrookhome.com/vases-and-jars/vases/?page=', 5\n",
    "    ],\n",
    "    [\n",
    "        'https://www.sagebrookhome.com/vases-and-jars/jars/?page=', 2\n",
    "    ],\n",
    "    [\n",
    "        'https://www.sagebrookhome.com/candleholders-and-lanterns/candles/?page=', 2\n",
    "    ],\n",
    "    [\n",
    "        'https://www.sagebrookhome.com/candle-holders-and-lanterns/candles/indoor/?page=', 2\n",
    "    ],\n",
    "    [\n",
    "        'https://www.sagebrookhome.com/candleholders-and-lanterns/candleholders-and-tealights/?page=', 5\n",
    "    ],\n",
    "    [\n",
    "        'https://www.sagebrookhome.com/candleholders-and-lanterns/lanterns/?page=', 2\n",
    "    ],\n",
    "    [\n",
    "        'https://www.sagebrookhome.com/wall-decor/wall-art/?page=', 2\n",
    "    ],\n",
    "    [\n",
    "        'https://www.sagebrookhome.com/wall-decor/wall-clocks/?page=', 2\n",
    "    ],\n",
    "    [\n",
    "        'https://www.sagebrookhome.com/wall-decor/wall-flowers/?page=', 2\n",
    "    ],\n",
    "    [\n",
    "        \n",
    "    \n",
    "        'https://www.sagebrookhome.com/wall-decor/wall-hangings/new-category/?page=', 2\n",
    "    ],\n",
    "    [\n",
    "        'https://www.sagebrookhome.com/wall-decor/metal-wall/?page=', 3\n",
    "    ],\n",
    "    [\n",
    "        'https://www.sagebrookhome.com/wall-decor/mirrors/?page=', 2\n",
    "    ],\n",
    "    [\n",
    "        'https://www.sagebrookhome.com/wall-decor/wall-storage/?page=', 2\n",
    "    ],\n",
    "    [\n",
    "        'https://www.sagebrookhome.com/wall-decor/animal-heads/?page=', 2\n",
    "    ],\n",
    "    [\n",
    "        'https://www.sagebrookhome.com/furniture/accent-tables/?page=', 3\n",
    "    ],\n",
    "    [\n",
    "        'https://www.sagebrookhome.com/furniture/bar-carts-and-bars/?page=', 2\n",
    "    ],\n",
    "    [\n",
    "        'https://www.sagebrookhome.com/furniture/chairs/?page=', 2\n",
    "    ],\n",
    "    [\n",
    "        'https://www.sagebrookhome.com/furniture/consoles-and-cabinets/?page=', 2\n",
    "    ],\n",
    "    [\n",
    "        'https://www.sagebrookhome.com/furniture/shelves-bookcases/?page=', 2\n",
    "    ],\n",
    "    [\n",
    "        'https://www.sagebrookhome.com/furniture/sofas-and-loveseats/?page=', 2\n",
    "    ],\n",
    "    [\n",
    "        'https://www.sagebrookhome.com/furniture/stools-ottomans-and-benches/?page=', 2\n",
    "    ],\n",
    "    [\n",
    "        'https://www.sagebrookhome.com/lighting/desk-lamps/?page=', 2\n",
    "    ],\n",
    "    [\n",
    "        'https://www.sagebrookhome.com/lighting/floor-lamps/?page=', 3\n",
    "    ],\n",
    "    [\n",
    "        'https://www.sagebrookhome.com/lighting/table-lamps/?page=', 8\n",
    "    ],\n",
    "    [\n",
    "        'https://www.sagebrookhome.com/lighting/pendants-chandeliers/?page=', 2\n",
    "    ],\n",
    "    [\n",
    "        'https://www.sagebrookhome.com/decorative-accessories/outdoor-decor/birding/?page=', 2\n",
    "    ],\n",
    "    [\n",
    "        'https://www.sagebrookhome.com/decorative-accessories/outdoor-decor/garden-statuary/?page=', 2\n",
    "    ],\n",
    "    [\n",
    "        'https://www.sagebrookhome.com/garden/planters/?page=', 9\n",
    "    ],\n",
    "    [\n",
    "        'https://www.sagebrookhome.com/decorative-accessories/outdoor-decor/plant-stands/?page=', 2\n",
    "    ],\n",
    "    \n",
    "]"
   ]
  },
  {
   "cell_type": "code",
   "execution_count": 291,
   "id": "4537a53b",
   "metadata": {},
   "outputs": [
    {
     "data": {
      "text/plain": [
       "2"
      ]
     },
     "execution_count": 291,
     "metadata": {},
     "output_type": "execute_result"
    }
   ],
   "source": [
    "list_url[0][1]"
   ]
  },
  {
   "cell_type": "code",
   "execution_count": 4,
   "id": "c7f90b28",
   "metadata": {},
   "outputs": [],
   "source": [
    "all_df = pd.read_excel('SageBrook_update2.xlsx')"
   ]
  },
  {
   "cell_type": "code",
   "execution_count": 37,
   "id": "fe185da2",
   "metadata": {},
   "outputs": [
    {
     "data": {
      "text/plain": [
       "(1856, 39)"
      ]
     },
     "execution_count": 37,
     "metadata": {},
     "output_type": "execute_result"
    }
   ],
   "source": [
    "all_df.shape"
   ]
  },
  {
   "cell_type": "code",
   "execution_count": 9,
   "id": "7ce76371",
   "metadata": {},
   "outputs": [
    {
     "data": {
      "text/plain": [
       "0       Marble , Metal\n",
       "1       Marble , Metal\n",
       "2           Ceramic , \n",
       "3           Ceramic , \n",
       "4           Ceramic , \n",
       "             ...      \n",
       "1851           Iron , \n",
       "1852           Iron , \n",
       "1853      Polyresin , \n",
       "1854      Polyresin , \n",
       "1855      Polyresin , \n",
       "Name: raw_materials, Length: 1856, dtype: object"
      ]
     },
     "execution_count": 9,
     "metadata": {},
     "output_type": "execute_result"
    }
   ],
   "source": [
    "all_df.loc[all_df['raw_materials'] == '', 'raw_meterials'] = "
   ]
  },
  {
   "cell_type": "code",
   "execution_count": null,
   "id": "705650f6",
   "metadata": {},
   "outputs": [],
   "source": [
    "for i in range(1, urls):\n",
    "        print('Count:', i)\n",
    "        driver.get(f'{cat[0]}{i}')\n",
    "\n",
    "        urls = driver.find_elements_by_class_name('woocommerce-LoopProduct-link')\n",
    "        len(urls)\n"
   ]
  },
  {
   "cell_type": "markdown",
   "id": "1a2cda0c",
   "metadata": {},
   "source": [
    "# Urls"
   ]
  },
  {
   "cell_type": "code",
   "execution_count": 5,
   "id": "fc76bf03",
   "metadata": {
    "scrolled": true
   },
   "outputs": [
    {
     "ename": "NameError",
     "evalue": "name 'list_url' is not defined",
     "output_type": "error",
     "traceback": [
      "\u001b[0;31m---------------------------------------------------------------------------\u001b[0m",
      "\u001b[0;31mNameError\u001b[0m                                 Traceback (most recent call last)",
      "\u001b[0;32m<ipython-input-5-71cd29557d55>\u001b[0m in \u001b[0;36m<module>\u001b[0;34m\u001b[0m\n\u001b[1;32m      1\u001b[0m \u001b[0mlinks_products\u001b[0m \u001b[0;34m=\u001b[0m \u001b[0;34m[\u001b[0m\u001b[0;34m]\u001b[0m\u001b[0;34m\u001b[0m\u001b[0;34m\u001b[0m\u001b[0m\n\u001b[0;32m----> 2\u001b[0;31m \u001b[0;32mfor\u001b[0m \u001b[0mcat\u001b[0m \u001b[0;32min\u001b[0m \u001b[0mlist_url\u001b[0m\u001b[0;34m:\u001b[0m\u001b[0;34m\u001b[0m\u001b[0;34m\u001b[0m\u001b[0m\n\u001b[0m\u001b[1;32m      3\u001b[0m     \u001b[0;32mfor\u001b[0m \u001b[0mi\u001b[0m \u001b[0;32min\u001b[0m \u001b[0mrange\u001b[0m\u001b[0;34m(\u001b[0m\u001b[0;36m1\u001b[0m\u001b[0;34m,\u001b[0m \u001b[0mcat\u001b[0m\u001b[0;34m[\u001b[0m\u001b[0;36m1\u001b[0m\u001b[0;34m]\u001b[0m\u001b[0;34m)\u001b[0m\u001b[0;34m:\u001b[0m\u001b[0;34m\u001b[0m\u001b[0;34m\u001b[0m\u001b[0m\n\u001b[1;32m      4\u001b[0m         \u001b[0mprint\u001b[0m\u001b[0;34m(\u001b[0m\u001b[0;34m'Count:'\u001b[0m\u001b[0;34m,\u001b[0m \u001b[0mi\u001b[0m\u001b[0;34m)\u001b[0m\u001b[0;34m\u001b[0m\u001b[0;34m\u001b[0m\u001b[0m\n\u001b[1;32m      5\u001b[0m         \u001b[0mdriver\u001b[0m\u001b[0;34m.\u001b[0m\u001b[0mget\u001b[0m\u001b[0;34m(\u001b[0m\u001b[0;34mf'{cat[0]}{i}'\u001b[0m\u001b[0;34m)\u001b[0m\u001b[0;34m\u001b[0m\u001b[0;34m\u001b[0m\u001b[0m\n",
      "\u001b[0;31mNameError\u001b[0m: name 'list_url' is not defined"
     ]
    }
   ],
   "source": [
    "links_products = []\n",
    "for cat in list_url:\n",
    "    for i in range(1, cat[1]):\n",
    "        print('Count:', i)\n",
    "        driver.get(f'{cat[0]}{i}')\n",
    "\n",
    "        urls = driver.find_elements_by_class_name('woocommerce-LoopProduct-link')\n",
    "        len(urls)\n",
    "\n",
    "        #Forloop to get all url products\n",
    "        for url in urls:\n",
    "            links_products.append(url.get_attribute('href'))\n",
    "        #     time.sleep(0.5)\n",
    "        time.sleep(1)\n",
    "        print(len(links_products))\n",
    "now = datetime.now()\n",
    "dt_string = now.strftime(\"%d-%m-%Y-%H-%M-%S\")\n",
    "#Save link in excel files\n",
    "link_living_rooms = {\n",
    "    'liste': links_products,\n",
    "}\n",
    "\n",
    "liste_link_living_rooms = pd.DataFrame(link_living_rooms)\n",
    "liste_link_living_rooms.to_excel(f'link_sagebrook-{dt_string}.xlsx')"
   ]
  },
  {
   "cell_type": "code",
   "execution_count": 38,
   "id": "505b32e5",
   "metadata": {},
   "outputs": [
    {
     "data": {
      "text/plain": [
       "1970"
      ]
     },
     "execution_count": 38,
     "metadata": {},
     "output_type": "execute_result"
    }
   ],
   "source": [
    "len(links_products)\n",
    "\n"
   ]
  },
  {
   "cell_type": "code",
   "execution_count": 6,
   "id": "e2c8a79b",
   "metadata": {},
   "outputs": [
    {
     "name": "stdout",
     "output_type": "stream",
     "text": [
      "745\n"
     ]
    }
   ],
   "source": [
    "\n",
    "Home\n",
    "Alternative Wall Decor\n",
    "View A"
   ]
  },
  {
   "cell_type": "markdown",
   "id": "f481327f",
   "metadata": {},
   "source": [
    "# Create elements"
   ]
  },
  {
   "cell_type": "code",
   "execution_count": null,
   "id": "f8ce39de",
   "metadata": {},
   "outputs": [],
   "source": []
  },
  {
   "cell_type": "code",
   "execution_count": 198,
   "id": "a1220573",
   "metadata": {},
   "outputs": [
    {
     "name": "stdout",
     "output_type": "stream",
     "text": [
      "Bookends\n"
     ]
    }
   ],
   "source": [
    "cats = driver.find_elements_by_xpath('//ul[@class = \"breadcrumbs\"]//li')\n",
    "print(cats[2].text)"
   ]
  },
  {
   "cell_type": "code",
   "execution_count": null,
   "id": "5a52e2c9",
   "metadata": {},
   "outputs": [],
   "source": []
  },
  {
   "cell_type": "code",
   "execution_count": 17,
   "id": "383e3a65",
   "metadata": {},
   "outputs": [
    {
     "data": {
      "text/plain": [
       "'406167-2227S2'"
      ]
     },
     "execution_count": 17,
     "metadata": {},
     "output_type": "execute_result"
    }
   ],
   "source": [
    "sku = driver.find_elements_by_class_name('sku')[1].text\n",
    "sku"
   ]
  },
  {
   "cell_type": "code",
   "execution_count": 28,
   "id": "7ac5bf2f",
   "metadata": {},
   "outputs": [
    {
     "data": {
      "text/plain": [
       "'La Scala King Panel Bed'"
      ]
     },
     "execution_count": 28,
     "metadata": {},
     "output_type": "execute_result"
    }
   ],
   "source": [
    "name = driver.find_elements_by_xpath('//div[@class=\"et_pb_module_inner\"]//h1')[1].text\n",
    "name"
   ]
  },
  {
   "cell_type": "code",
   "execution_count": 27,
   "id": "6029ad9f",
   "metadata": {},
   "outputs": [
    {
     "data": {
      "text/plain": [
       "'Shapely and elegant, the romantic curves of the Panel Bed’s headboard are accentuated by a nickel-plated stainless steel border for an unmistakably lavish, yet thoughtfully welcoming look.'"
      ]
     },
     "execution_count": 27,
     "metadata": {},
     "output_type": "execute_result"
    }
   ],
   "source": [
    "short_description = driver.find_element_by_xpath('//div[@class=\"et_pb_module_inner\"]//p').get_attribute('innerHTML')\n",
    "short_description"
   ]
  },
  {
   "cell_type": "code",
   "execution_count": 30,
   "id": "d093241e",
   "metadata": {},
   "outputs": [
    {
     "data": {
      "text/plain": [
       "'Weight: 173.8 .lbs'"
      ]
     },
     "execution_count": 30,
     "metadata": {},
     "output_type": "execute_result"
    }
   ],
   "source": [
    "weight = driver.find_element_by_xpath('//div[contains(text(),\"Weight:\")]').text\n",
    "weight"
   ]
  },
  {
   "cell_type": "code",
   "execution_count": 78,
   "id": "4cb6e212",
   "metadata": {},
   "outputs": [
    {
     "data": {
      "text/plain": [
       "4"
      ]
     },
     "execution_count": 78,
     "metadata": {},
     "output_type": "execute_result"
    }
   ],
   "source": []
  },
  {
   "cell_type": "code",
   "execution_count": 79,
   "id": "e4b7ab04",
   "metadata": {},
   "outputs": [],
   "source": [
    "list_images = []\n",
    "flot_imgs = driver.find_elements_by_xpath('//ol//li')\n",
    "len(flot_imgs)\n",
    "for img in flot_imgs:\n",
    "    img.click()\n",
    "    time.sleep(1)\n",
    "images = driver.find_elements_by_class_name('zoomImg')\n",
    "for image in images:\n",
    "    list_images.append(image.get_attribute('src'))"
   ]
  },
  {
   "cell_type": "code",
   "execution_count": 80,
   "id": "8fbb2527",
   "metadata": {},
   "outputs": [
    {
     "data": {
      "text/plain": [
       "['https://20tb1g1nfzm2bjgyv1sj208o-wpengine.netdna-ssl.com/wp-content/uploads/2020/07/brn6knksqpvngoch26rx.jpg',\n",
       " 'https://20tb1g1nfzm2bjgyv1sj208o-wpengine.netdna-ssl.com/wp-content/uploads/2020/06/ovitjapjyz1pjvx1eml1.jpg',\n",
       " 'https://20tb1g1nfzm2bjgyv1sj208o-wpengine.netdna-ssl.com/wp-content/uploads/2020/06/e4akz3h4bnbs9ckcrx6u.jpg',\n",
       " 'https://20tb1g1nfzm2bjgyv1sj208o-wpengine.netdna-ssl.com/wp-content/uploads/2020/06/u4wrmoq3anitrm7n5eqm.jpg']"
      ]
     },
     "execution_count": 80,
     "metadata": {},
     "output_type": "execute_result"
    }
   ],
   "source": [
    "list_images"
   ]
  },
  {
   "cell_type": "code",
   "execution_count": null,
   "id": "ebafe101",
   "metadata": {},
   "outputs": [],
   "source": []
  },
  {
   "cell_type": "code",
   "execution_count": 45,
   "id": "6f7f185b",
   "metadata": {},
   "outputs": [
    {
     "data": {
      "text/plain": [
       "'Dimensions In Centimeters: w- 215.01 x d- 307.54 x h- 134.8'"
      ]
     },
     "execution_count": 45,
     "metadata": {},
     "output_type": "execute_result"
    }
   ],
   "source": [
    "dimension = driver.find_element_by_xpath('//div[contains(text(),\"Dimensions In Centimeters:\")]').text\n",
    "dimension"
   ]
  },
  {
   "cell_type": "code",
   "execution_count": 44,
   "id": "45239f58",
   "metadata": {},
   "outputs": [
    {
     "data": {
      "text/plain": [
       "'Parawood Solids, Primavera Veneer, and Tufted Upholstery'"
      ]
     },
     "execution_count": 44,
     "metadata": {},
     "output_type": "execute_result"
    }
   ],
   "source": [
    "list_elements = driver.find_element_by_xpath('//div[contains(text(),\"Style\")]').text\n",
    "raw_material_list = list_elements.split('\\n')\n",
    "raw_material = [ele for ele in raw_material_list if 'Material' in ele][0].split(':')[1].strip()\n",
    "raw_material"
   ]
  },
  {
   "cell_type": "code",
   "execution_count": 47,
   "id": "19f2e607",
   "metadata": {},
   "outputs": [
    {
     "data": {
      "text/plain": [
       "(0, 0, 0)"
      ]
     },
     "execution_count": 47,
     "metadata": {},
     "output_type": "execute_result"
    }
   ],
   "source": [
    "pich = 'Dimensions In Centimeters: w- 215.01 x d- 307.54 x h- 134.8'"
   ]
  },
  {
   "cell_type": "code",
   "execution_count": 131,
   "id": "77da91f5",
   "metadata": {},
   "outputs": [
    {
     "name": "stdout",
     "output_type": "stream",
     "text": [
      "84.65\n"
     ]
    }
   ],
   "source": [
    "pich = 'Dimensions In Inches: w-84.65 x d-121.08 x h-53.07'\n",
    "regex = re.compile(r'Dimensions In Inches: w-(?P<width>\\s*\\d*.?\\d+\\s*) x d-(?P<lenght>\\s*\\d*.?\\d+\\s*) x h-(?P<hight>\\s*\\d*.?\\d+\\s*)')\n",
    "p = re.match(regex, pich)\n",
    "print(p['width'])"
   ]
  },
  {
   "cell_type": "code",
   "execution_count": 65,
   "id": "2396b013",
   "metadata": {},
   "outputs": [
    {
     "name": "stdout",
     "output_type": "stream",
     "text": [
      "W: 215.01\n",
      "H: 134.8\n",
      "L: 307.54\n"
     ]
    },
    {
     "data": {
      "text/plain": [
       "(215.01, 307.54, 134.8)"
      ]
     },
     "execution_count": 65,
     "metadata": {},
     "output_type": "execute_result"
    }
   ],
   "source": [
    "clear_size(pich)"
   ]
  },
  {
   "cell_type": "code",
   "execution_count": 64,
   "id": "ee7ad6cc",
   "metadata": {},
   "outputs": [],
   "source": [
    "def clear_size(text):\n",
    "    regex = re.compile(r'Dimensions In Inches:w- (?P<width>\\s*\\d*.?\\d+\\s*) x d- (?P<lenght>\\s*\\d*.?\\d+\\s*) x h- (?P<hight>\\s*\\d*.?\\d+\\s*)')\n",
    "    p = re.match(regex, text)\n",
    "    \n",
    "    if p != None:   \n",
    "        width = p['width']   \n",
    "        lenght = p['lenght'] \n",
    "        height = p['hight'] \n",
    "        print('W:', width)\n",
    "        print('H:', height)\n",
    "        print('L:', lenght)\n",
    "        return float(width) , float(lenght) , float(height) \n",
    "    else:\n",
    "        width = 0  \n",
    "        lenght = 0\n",
    "        height = 0\n",
    "        return width, lenght, height"
   ]
  },
  {
   "cell_type": "code",
   "execution_count": null,
   "id": "0c041d77",
   "metadata": {},
   "outputs": [],
   "source": []
  },
  {
   "cell_type": "code",
   "execution_count": 28,
   "id": "8cc03281",
   "metadata": {},
   "outputs": [
    {
     "data": {
      "text/plain": [
       "'25.4x25.4x33.02'"
      ]
     },
     "execution_count": 28,
     "metadata": {},
     "output_type": "execute_result"
    }
   ],
   "source": []
  },
  {
   "cell_type": "markdown",
   "id": "f57e48a4",
   "metadata": {},
   "source": [
    "# Regex size"
   ]
  },
  {
   "cell_type": "code",
   "execution_count": 192,
   "id": "215e7d42",
   "metadata": {
    "scrolled": true
   },
   "outputs": [
    {
     "data": {
      "text/plain": [
       "'Glass'"
      ]
     },
     "execution_count": 192,
     "metadata": {},
     "output_type": "execute_result"
    }
   ],
   "source": [
    "matters2 = driver.find_elements_by_xpath(\"//div[contains(@class, 'product__material2')]/span\")\n",
    "matter2 = matters2[1].text\n",
    "matter2\n",
    "   "
   ]
  },
  {
   "cell_type": "code",
   "execution_count": 40,
   "id": "184fd98b",
   "metadata": {},
   "outputs": [],
   "source": [
    "df = pd.read_excel('spring_model.xlsx')"
   ]
  },
  {
   "cell_type": "code",
   "execution_count": 102,
   "id": "9c343065",
   "metadata": {},
   "outputs": [
    {
     "data": {
      "text/plain": [
       "4"
      ]
     },
     "execution_count": 102,
     "metadata": {},
     "output_type": "execute_result"
    }
   ],
   "source": [
    "len(links_products)"
   ]
  },
  {
   "cell_type": "code",
   "execution_count": 136,
   "id": "97bdf67b",
   "metadata": {},
   "outputs": [
    {
     "name": "stdout",
     "output_type": "stream",
     "text": [
      "Dimensions In Inches: w-84.65 x d-121.08 x h-53.07\n",
      "W: 84.65\n",
      "H: 53.07\n",
      "L: 121.08\n"
     ]
    }
   ],
   "source": [
    "dimension = driver.find_element_by_xpath('//div[contains(text(),\"Dimensions In Inches:\")]').text\n",
    "print(dimension) \n",
    "    \n",
    "   \n",
    "width , height , length = clear_size(dimension)"
   ]
  },
  {
   "cell_type": "code",
   "execution_count": null,
   "id": "3f29408b",
   "metadata": {},
   "outputs": [],
   "source": []
  },
  {
   "cell_type": "code",
   "execution_count": null,
   "id": "440fb6c9",
   "metadata": {},
   "outputs": [],
   "source": []
  },
  {
   "cell_type": "code",
   "execution_count": null,
   "id": "59ddab29",
   "metadata": {},
   "outputs": [],
   "source": []
  },
  {
   "cell_type": "code",
   "execution_count": 40,
   "id": "9ddef47b",
   "metadata": {},
   "outputs": [],
   "source": [
    "driver.get('https://www.sagebrookhome.com/15520-s-2-10-12-bowl-with-handles-gold/')"
   ]
  },
  {
   "cell_type": "markdown",
   "id": "3a1f4268",
   "metadata": {},
   "source": [
    "# Debut de la fonction"
   ]
  },
  {
   "cell_type": "code",
   "execution_count": 140,
   "id": "14f4125f",
   "metadata": {
    "scrolled": true
   },
   "outputs": [
    {
     "name": "stdout",
     "output_type": "stream",
     "text": [
      "***********************************************************\n",
      "Count: 0\n",
      "URl: https://arthomefurnishings.com/shop/cotiere-queen-panel-bed/\n",
      "Cat1: Bedroom\n",
      "Cat2: Beds\n",
      "Cat3: \n",
      "W: 66\n",
      "H: 58\n",
      "L: 86.75\n",
      "W: 167.64000000000001\n",
      "H: 220.345\n",
      "L: 147.32\n",
      "len list images 5\n",
      "Sku: ROG-299125-2349\n",
      "Title: Cotiere Queen Panel Bed\n",
      "Price: 0\n",
      "Price old: 0\n",
      "Description: \n",
      "Colors: \n",
      "Matter: Parawood Solids, Mixed plit Cathedral Quarter-Wite Oak Veneer and Fabric\n",
      "URl: https://arthomefurnishings.com/shop/cotiere-queen-panel-bed/\n",
      "https://20tb1g1nfzm2bjgyv1sj208o-wpengine.netdna-ssl.com/wp-content/uploads/2021/02/ybq74zwkep3asik6kshc-scaled.jpg, https://20tb1g1nfzm2bjgyv1sj208o-wpengine.netdna-ssl.com/wp-content/uploads/2021/02/juv3ti7a3pfjq1bs0pwy-scaled.jpg, https://20tb1g1nfzm2bjgyv1sj208o-wpengine.netdna-ssl.com/wp-content/uploads/2021/03/xuqbtrmcmzk5wwsjk23p-scaled.jpg, https://20tb1g1nfzm2bjgyv1sj208o-wpengine.netdna-ssl.com/wp-content/uploads/2021/02/l0kxpoxwifrptibc3wfz-scaled.jpg\n",
      "***********************************************************\n",
      "Count: 1\n",
      "URl: https://arthomefurnishings.com/shop/newel-king-upholstered-bed/\n",
      "Cat1: Bedroom\n",
      "Cat2: Beds\n",
      "Cat3: \n",
      "W: 82.5\n",
      "H: 68\n",
      "L: 87.5\n",
      "W: 209.55\n",
      "H: 222.25\n",
      "L: 172.72\n",
      "len list images 6\n",
      "Sku: ROG-294146-1406\n",
      "Title: Newel King Upholstered Bed\n",
      "Price: 0\n",
      "Price old: 0\n",
      "Description: \n",
      "Colors: \n",
      "Matter: Poplar Solid, Cherry Veneer\n",
      "URl: https://arthomefurnishings.com/shop/newel-king-upholstered-bed/\n",
      "https://20tb1g1nfzm2bjgyv1sj208o-wpengine.netdna-ssl.com/wp-content/uploads/2021/02/ce12zrmuoroig1mgqm7c.jpg, https://20tb1g1nfzm2bjgyv1sj208o-wpengine.netdna-ssl.com/wp-content/uploads/2021/03/dyjpyqkboy5hjfw7mgml-scaled.jpg, https://20tb1g1nfzm2bjgyv1sj208o-wpengine.netdna-ssl.com/wp-content/uploads/2021/02/ziwmvi9k51qqsy7fnicu-scaled.jpg, https://20tb1g1nfzm2bjgyv1sj208o-wpengine.netdna-ssl.com/wp-content/uploads/2021/02/hoe375lxmjtytavxku0q-scaled.jpg, https://20tb1g1nfzm2bjgyv1sj208o-wpengine.netdna-ssl.com/wp-content/uploads/2021/02/aekf2j7entyu8vepmz54-scaled.jpg\n",
      "***********************************************************\n",
      "Count: 2\n",
      "URl: https://arthomefurnishings.com/shop/newel-queen-upholstered-bed/\n",
      "Cat1: Bedroom\n",
      "Cat2: Beds\n",
      "Cat3: \n",
      "W: 66.5\n",
      "H: 68\n",
      "L: 87.5\n",
      "W: 168.91\n",
      "H: 222.25\n",
      "L: 172.72\n",
      "len list images 6\n",
      "Sku: ROG-294145-1406\n",
      "Title: Newel Queen Upholstered Bed\n",
      "Price: 0\n",
      "Price old: 0\n",
      "Description: \n",
      "Colors: \n",
      "Matter: Poplar Solid, Cherry Veneer\n",
      "URl: https://arthomefurnishings.com/shop/newel-queen-upholstered-bed/\n",
      "https://20tb1g1nfzm2bjgyv1sj208o-wpengine.netdna-ssl.com/wp-content/uploads/2021/02/ce12zrmuoroig1mgqm7c.jpg, https://20tb1g1nfzm2bjgyv1sj208o-wpengine.netdna-ssl.com/wp-content/uploads/2021/03/dyjpyqkboy5hjfw7mgml-scaled.jpg, https://20tb1g1nfzm2bjgyv1sj208o-wpengine.netdna-ssl.com/wp-content/uploads/2021/02/ziwmvi9k51qqsy7fnicu-scaled.jpg, https://20tb1g1nfzm2bjgyv1sj208o-wpengine.netdna-ssl.com/wp-content/uploads/2021/02/hoe375lxmjtytavxku0q-scaled.jpg, https://20tb1g1nfzm2bjgyv1sj208o-wpengine.netdna-ssl.com/wp-content/uploads/2021/02/aekf2j7entyu8vepmz54-scaled.jpg\n",
      "***********************************************************\n",
      "Count: 3\n",
      "URl: https://arthomefurnishings.com/shop/newel-california-king-panel-bed/\n",
      "Cat1: Bedroom\n",
      "Cat2: Beds\n",
      "Cat3: \n",
      "W: 82.125\n",
      "H: 68\n",
      "L: 93.25\n",
      "W: 208.5975\n",
      "H: 236.855\n",
      "L: 172.72\n",
      "len list images 6\n",
      "Sku: ROG-294127-1406\n",
      "Title: Newel California King Panel Bed\n",
      "Price: 0\n",
      "Price old: 0\n",
      "Description: \n",
      "Colors: \n",
      "Matter: Poplar Solid, Cherry Veneer\n",
      "URl: https://arthomefurnishings.com/shop/newel-california-king-panel-bed/\n",
      "https://20tb1g1nfzm2bjgyv1sj208o-wpengine.netdna-ssl.com/wp-content/uploads/2021/03/wp55xboi3jnaelgo5a8h-scaled.jpg, https://20tb1g1nfzm2bjgyv1sj208o-wpengine.netdna-ssl.com/wp-content/uploads/2021/02/jjqw8z0ozqqxot3mwkjb.jpg, https://20tb1g1nfzm2bjgyv1sj208o-wpengine.netdna-ssl.com/wp-content/uploads/2021/02/t2cumutjf9hkp2ppntnr-scaled.jpg, https://20tb1g1nfzm2bjgyv1sj208o-wpengine.netdna-ssl.com/wp-content/uploads/2021/02/mpddgzk1hucolymp1rs7-scaled.jpg, https://20tb1g1nfzm2bjgyv1sj208o-wpengine.netdna-ssl.com/wp-content/uploads/2021/02/quk9gssmwyzynqlu7n9h-scaled.jpg\n",
      "***********************************************************\n",
      "Count: 4\n",
      "URl: https://arthomefurnishings.com/shop/newel-king-panel-bed/\n",
      "Cat1: Bedroom\n",
      "Cat2: Beds\n",
      "Cat3: \n",
      "W: 82\n",
      "H: 68\n",
      "L: 90.25\n",
      "W: 208.28\n",
      "H: 229.235\n",
      "L: 172.72\n",
      "len list images 8\n",
      "Sku: ROG-294126-1406\n",
      "Title: Newel King Panel Bed\n",
      "Price: 0\n",
      "Price old: 0\n",
      "Description: \n",
      "Colors: \n",
      "Matter: Poplar Solid, Cherry Veneer\n",
      "URl: https://arthomefurnishings.com/shop/newel-king-panel-bed/\n",
      "https://20tb1g1nfzm2bjgyv1sj208o-wpengine.netdna-ssl.com/wp-content/uploads/2021/02/bq8hnucuj9ozoa8nuqok-scaled.jpg, https://20tb1g1nfzm2bjgyv1sj208o-wpengine.netdna-ssl.com/wp-content/uploads/2021/02/ux60gky13n02uw5htbki-scaled.jpg, https://20tb1g1nfzm2bjgyv1sj208o-wpengine.netdna-ssl.com/wp-content/uploads/2021/03/wp55xboi3jnaelgo5a8h-scaled.jpg, https://20tb1g1nfzm2bjgyv1sj208o-wpengine.netdna-ssl.com/wp-content/uploads/2021/02/jjqw8z0ozqqxot3mwkjb.jpg, https://20tb1g1nfzm2bjgyv1sj208o-wpengine.netdna-ssl.com/wp-content/uploads/2021/02/t2cumutjf9hkp2ppntnr-scaled.jpg, https://20tb1g1nfzm2bjgyv1sj208o-wpengine.netdna-ssl.com/wp-content/uploads/2021/02/mpddgzk1hucolymp1rs7-scaled.jpg, https://20tb1g1nfzm2bjgyv1sj208o-wpengine.netdna-ssl.com/wp-content/uploads/2021/02/quk9gssmwyzynqlu7n9h-scaled.jpg\n",
      "***********************************************************\n",
      "Count: 5\n",
      "URl: https://arthomefurnishings.com/shop/newel-queen-panel-bed/\n",
      "Cat1: Bedroom\n",
      "Cat2: Beds\n",
      "Cat3: \n",
      "W: 66\n",
      "H: 68\n",
      "L: 90.25\n",
      "W: 167.64000000000001\n",
      "H: 229.235\n",
      "L: 172.72\n",
      "len list images 8\n",
      "Sku: ROG-294125-1406\n",
      "Title: Newel Queen Panel Bed\n",
      "Price: 0\n",
      "Price old: 0\n",
      "Description: \n",
      "Colors: \n",
      "Matter: Poplar Solid, Cherry Veneer\n",
      "URl: https://arthomefurnishings.com/shop/newel-queen-panel-bed/\n",
      "https://20tb1g1nfzm2bjgyv1sj208o-wpengine.netdna-ssl.com/wp-content/uploads/2021/02/bq8hnucuj9ozoa8nuqok-scaled.jpg, https://20tb1g1nfzm2bjgyv1sj208o-wpengine.netdna-ssl.com/wp-content/uploads/2021/02/ux60gky13n02uw5htbki-scaled.jpg, https://20tb1g1nfzm2bjgyv1sj208o-wpengine.netdna-ssl.com/wp-content/uploads/2021/03/wp55xboi3jnaelgo5a8h-scaled.jpg, https://20tb1g1nfzm2bjgyv1sj208o-wpengine.netdna-ssl.com/wp-content/uploads/2021/02/jjqw8z0ozqqxot3mwkjb.jpg, https://20tb1g1nfzm2bjgyv1sj208o-wpengine.netdna-ssl.com/wp-content/uploads/2021/02/t2cumutjf9hkp2ppntnr-scaled.jpg, https://20tb1g1nfzm2bjgyv1sj208o-wpengine.netdna-ssl.com/wp-content/uploads/2021/02/mpddgzk1hucolymp1rs7-scaled.jpg, https://20tb1g1nfzm2bjgyv1sj208o-wpengine.netdna-ssl.com/wp-content/uploads/2021/02/quk9gssmwyzynqlu7n9h-scaled.jpg\n",
      "***********************************************************\n",
      "Count: 6\n",
      "URl: https://arthomefurnishings.com/shop/passage-king-uph-bed/\n",
      "Cat1: Bedroom\n",
      "Cat2: Beds\n",
      "Cat3: \n",
      "W: 81.5\n",
      "H: 64\n",
      "L: 87\n",
      "W: 207.01\n",
      "H: 220.98\n",
      "L: 162.56\n",
      "len list images 3\n",
      "Sku: ROG-287146-2302\n",
      "Title: Passage King Uph Bed\n",
      "Price: 0\n",
      "Price old: 0\n",
      "Description: \n",
      "Colors: \n",
      "Matter: Ash Solids with Knotty Oak Veneers\n",
      "URl: https://arthomefurnishings.com/shop/passage-king-uph-bed/\n",
      "https://20tb1g1nfzm2bjgyv1sj208o-wpengine.netdna-ssl.com/wp-content/uploads/2020/08/b9i5vpk06gefi9joil11-scaled.jpg, https://20tb1g1nfzm2bjgyv1sj208o-wpengine.netdna-ssl.com/wp-content/uploads/2020/08/vf3s0ikh5i1bzz9aoptf-scaled.jpg\n",
      "***********************************************************\n",
      "Count: 7\n",
      "URl: https://arthomefurnishings.com/shop/passage-queen-uph-bed/\n",
      "Cat1: Bedroom\n",
      "Cat2: Beds\n",
      "Cat3: \n",
      "W: 65.5\n",
      "H: 64\n",
      "L: 87\n",
      "W: 166.37\n",
      "H: 220.98\n",
      "L: 162.56\n",
      "len list images 4\n",
      "Sku: ROG-287145-2302\n",
      "Title: Passage Queen Uph Bed\n",
      "Price: 0\n",
      "Price old: 0\n",
      "Description: \n",
      "Colors: \n",
      "Matter: Ash Solids with Knotty Oak Veneers\n",
      "URl: https://arthomefurnishings.com/shop/passage-queen-uph-bed/\n",
      "https://20tb1g1nfzm2bjgyv1sj208o-wpengine.netdna-ssl.com/wp-content/uploads/2020/08/vf3s0ikh5i1bzz9aoptf-scaled.jpg, https://20tb1g1nfzm2bjgyv1sj208o-wpengine.netdna-ssl.com/wp-content/uploads/2020/08/b9i5vpk06gefi9joil11-scaled.jpg, https://20tb1g1nfzm2bjgyv1sj208o-wpengine.netdna-ssl.com/wp-content/uploads/2020/08/ppd36e5evllwvsdfaoqx.jpg\n",
      "***********************************************************\n",
      "Count: 8\n",
      "URl: https://arthomefurnishings.com/shop/passage-california-king-bed/\n",
      "Cat1: Bedroom\n",
      "Cat2: Beds\n",
      "Cat3: \n",
      "W: 82.75\n",
      "H: 64\n",
      "L: 91.8\n",
      "W: 210.185\n",
      "H: 233.172\n",
      "L: 162.56\n"
     ]
    },
    {
     "name": "stdout",
     "output_type": "stream",
     "text": [
      "len list images 2\n",
      "Sku: ROG-287127-2302\n",
      "Title: Passage California King Bed\n",
      "Price: 0\n",
      "Price old: 0\n",
      "Description: \n",
      "Colors: \n",
      "Matter: Ash Solids with Knotty Oak Veneers\n",
      "URl: https://arthomefurnishings.com/shop/passage-california-king-bed/\n",
      "https://20tb1g1nfzm2bjgyv1sj208o-wpengine.netdna-ssl.com/wp-content/uploads/2020/08/frdxtybj9ibgs69fwvu8-scaled.jpg\n",
      "***********************************************************\n",
      "Count: 9\n",
      "URl: https://arthomefurnishings.com/shop/passage-king-bed/\n",
      "Cat1: Bedroom\n",
      "Cat2: Beds\n",
      "Cat3: \n",
      "W: 0\n",
      "H: 0\n",
      "L: 0\n",
      "len list images 6\n",
      "Sku: ROG-287126-2302\n",
      "Title: Passage King Bed\n",
      "Price: 0\n",
      "Price old: 0\n",
      "Description: \n",
      "Colors: \n",
      "Matter: Ash Solids with Knotty Oak Veneers\n",
      "URl: https://arthomefurnishings.com/shop/passage-king-bed/\n",
      "https://20tb1g1nfzm2bjgyv1sj208o-wpengine.netdna-ssl.com/wp-content/uploads/2020/08/frdxtybj9ibgs69fwvu8-scaled.jpg, https://20tb1g1nfzm2bjgyv1sj208o-wpengine.netdna-ssl.com/wp-content/uploads/2020/08/bq3ydnrlosu62tdsboev-scaled.jpg, https://20tb1g1nfzm2bjgyv1sj208o-wpengine.netdna-ssl.com/wp-content/uploads/2021/02/gyhtlgqsisl4rtyhn8ah-scaled.jpg, https://20tb1g1nfzm2bjgyv1sj208o-wpengine.netdna-ssl.com/wp-content/uploads/2021/02/qslr3btt9um7ukqokkpt-scaled.jpg, https://20tb1g1nfzm2bjgyv1sj208o-wpengine.netdna-ssl.com/wp-content/uploads/2020/08/kvlhsv9ovioomws0cosy.jpg\n",
      "***********************************************************\n",
      "Count: 10\n",
      "URl: https://arthomefurnishings.com/shop/passage-queen-bed/\n",
      "Cat1: Bedroom\n",
      "Cat2: Beds\n",
      "Cat3: \n",
      "W: 0\n",
      "H: 0\n",
      "L: 0\n",
      "len list images 6\n",
      "Sku: ROG-287125-2302\n",
      "Title: Passage Queen Bed\n",
      "Price: 0\n",
      "Price old: 0\n",
      "Description: \n",
      "Colors: \n",
      "Matter: Ash Solids with Knotty Oak Veneers\n",
      "URl: https://arthomefurnishings.com/shop/passage-queen-bed/\n",
      "https://20tb1g1nfzm2bjgyv1sj208o-wpengine.netdna-ssl.com/wp-content/uploads/2020/08/frdxtybj9ibgs69fwvu8-scaled.jpg, https://20tb1g1nfzm2bjgyv1sj208o-wpengine.netdna-ssl.com/wp-content/uploads/2020/08/bq3ydnrlosu62tdsboev-scaled.jpg, https://20tb1g1nfzm2bjgyv1sj208o-wpengine.netdna-ssl.com/wp-content/uploads/2021/02/msw5we0wi0qksjixbijl-scaled.jpg, https://20tb1g1nfzm2bjgyv1sj208o-wpengine.netdna-ssl.com/wp-content/uploads/2021/02/qslr3btt9um7ukqokkpt-scaled.jpg, https://20tb1g1nfzm2bjgyv1sj208o-wpengine.netdna-ssl.com/wp-content/uploads/2021/02/gyhtlgqsisl4rtyhn8ah-scaled.jpg\n",
      "***********************************************************\n",
      "Count: 11\n",
      "URl: https://arthomefurnishings.com/shop/palisade-king-sleigh-bed/\n",
      "Cat1: Bedroom\n",
      "Cat2: Beds\n",
      "Cat3: \n",
      "W: 83.25\n",
      "H: 60.5\n",
      "L: 92.4\n",
      "W: 211.455\n",
      "H: 234.69600000000003\n",
      "L: 153.67000000000002\n",
      "len list images 4\n",
      "Sku: ROG-273146-2940\n",
      "Title: Palisade King Sleigh Bed\n",
      "Price: 0\n",
      "Price old: 0\n",
      "Description: \n",
      "Colors: \n",
      "Matter: Poplar & Parawood Solids with Hickory Veneers\n",
      "URl: https://arthomefurnishings.com/shop/palisade-king-sleigh-bed/\n",
      "https://20tb1g1nfzm2bjgyv1sj208o-wpengine.netdna-ssl.com/wp-content/uploads/2021/03/ooo02ylstqablpoapllp-scaled.jpg, https://20tb1g1nfzm2bjgyv1sj208o-wpengine.netdna-ssl.com/wp-content/uploads/2021/03/xcqcuaswassnylfioguq-scaled.jpg, https://20tb1g1nfzm2bjgyv1sj208o-wpengine.netdna-ssl.com/wp-content/uploads/2021/02/uf6aby18tbpdbfqzuyz3-scaled.jpg\n",
      "***********************************************************\n",
      "Count: 12\n",
      "URl: https://arthomefurnishings.com/shop/palisade-queen-sleigh-bed/\n",
      "Cat1: Bedroom\n",
      "Cat2: Beds\n",
      "Cat3: \n",
      "W: 67.25\n",
      "H: 58\n",
      "L: 92.16\n",
      "W: 170.815\n",
      "H: 234.0864\n",
      "L: 147.32\n",
      "len list images 4\n",
      "Sku: ROG-273145-2940\n",
      "Title: Palisade Queen Sleigh Bed\n",
      "Price: 0\n",
      "Price old: 0\n",
      "Description: \n",
      "Colors: \n",
      "Matter: Poplar & Parawood Solids with Hickory Veneers\n",
      "URl: https://arthomefurnishings.com/shop/palisade-queen-sleigh-bed/\n",
      "https://20tb1g1nfzm2bjgyv1sj208o-wpengine.netdna-ssl.com/wp-content/uploads/2021/03/ooo02ylstqablpoapllp-scaled.jpg, https://20tb1g1nfzm2bjgyv1sj208o-wpengine.netdna-ssl.com/wp-content/uploads/2021/03/xcqcuaswassnylfioguq-scaled.jpg, https://20tb1g1nfzm2bjgyv1sj208o-wpengine.netdna-ssl.com/wp-content/uploads/2021/02/uf6aby18tbpdbfqzuyz3-scaled.jpg\n",
      "***********************************************************\n",
      "Count: 13\n",
      "URl: https://arthomefurnishings.com/shop/palisade-california-king-panel-bed/\n",
      "Cat1: Bedroom\n",
      "Cat2: Beds\n",
      "Cat3: \n",
      "W: 84\n",
      "H: 68.75\n",
      "L: 93.5\n",
      "W: 213.36\n",
      "H: 237.49\n",
      "L: 174.625\n",
      "len list images 5\n",
      "Sku: ROG-273127-2917\n",
      "Title: Palisade California King Panel Bed\n",
      "Price: 0\n",
      "Price old: 0\n",
      "Description: \n",
      "Colors: \n",
      "Matter: Poplar & Parawood Solids with Hickory Veneers\n",
      "URl: https://arthomefurnishings.com/shop/palisade-california-king-panel-bed/\n",
      "https://20tb1g1nfzm2bjgyv1sj208o-wpengine.netdna-ssl.com/wp-content/uploads/2021/03/n0bhmfb5ywauitkq6dje.jpg, https://20tb1g1nfzm2bjgyv1sj208o-wpengine.netdna-ssl.com/wp-content/uploads/2021/03/rbo1to0wlmojfbfxzi4h.jpg, https://20tb1g1nfzm2bjgyv1sj208o-wpengine.netdna-ssl.com/wp-content/uploads/2021/03/uatnxq4fz3sdsenvg6ij.jpg, https://20tb1g1nfzm2bjgyv1sj208o-wpengine.netdna-ssl.com/wp-content/uploads/2021/03/zifxukv7vl49z31ckii2.jpg\n",
      "***********************************************************\n",
      "Count: 14\n",
      "URl: https://arthomefurnishings.com/shop/palisade-king-panel-bed/\n",
      "Cat1: Bedroom\n",
      "Cat2: Beds\n",
      "Cat3: \n",
      "W: 84\n",
      "H: 68.75\n",
      "L: 89.5\n",
      "W: 213.36\n",
      "H: 227.33\n",
      "L: 174.625\n",
      "len list images 5\n",
      "Sku: ROG-273126-2917\n",
      "Title: Palisade King Panel Bed\n",
      "Price: 0\n",
      "Price old: 0\n",
      "Description: \n",
      "Colors: \n",
      "Matter: Poplar & Parawood Solids with Hickory Veneers\n",
      "URl: https://arthomefurnishings.com/shop/palisade-king-panel-bed/\n",
      "https://20tb1g1nfzm2bjgyv1sj208o-wpengine.netdna-ssl.com/wp-content/uploads/2021/03/n0bhmfb5ywauitkq6dje.jpg, https://20tb1g1nfzm2bjgyv1sj208o-wpengine.netdna-ssl.com/wp-content/uploads/2021/03/rbo1to0wlmojfbfxzi4h.jpg, https://20tb1g1nfzm2bjgyv1sj208o-wpengine.netdna-ssl.com/wp-content/uploads/2021/03/uatnxq4fz3sdsenvg6ij.jpg, https://20tb1g1nfzm2bjgyv1sj208o-wpengine.netdna-ssl.com/wp-content/uploads/2021/03/zifxukv7vl49z31ckii2.jpg\n",
      "***********************************************************\n",
      "Count: 15\n",
      "URl: https://arthomefurnishings.com/shop/palisade-queen-panel-bed/\n",
      "Cat1: Bedroom\n",
      "Cat2: Beds\n",
      "Cat3: \n",
      "W: 68\n",
      "H: 67.75\n",
      "L: 89.5\n",
      "W: 172.72\n",
      "H: 227.33\n",
      "L: 172.085\n",
      "len list images 5\n",
      "Sku: ROG-273125-2917\n",
      "Title: Palisade Queen Panel Bed\n",
      "Price: 0\n",
      "Price old: 0\n",
      "Description: \n",
      "Colors: \n",
      "Matter: Poplar & Parawood Solids with Hickory Veneers\n",
      "URl: https://arthomefurnishings.com/shop/palisade-queen-panel-bed/\n",
      "https://20tb1g1nfzm2bjgyv1sj208o-wpengine.netdna-ssl.com/wp-content/uploads/2021/03/n0bhmfb5ywauitkq6dje.jpg, https://20tb1g1nfzm2bjgyv1sj208o-wpengine.netdna-ssl.com/wp-content/uploads/2021/03/rbo1to0wlmojfbfxzi4h.jpg, https://20tb1g1nfzm2bjgyv1sj208o-wpengine.netdna-ssl.com/wp-content/uploads/2021/03/uatnxq4fz3sdsenvg6ij.jpg, https://20tb1g1nfzm2bjgyv1sj208o-wpengine.netdna-ssl.com/wp-content/uploads/2021/03/zifxukv7vl49z31ckii2.jpg\n",
      "***********************************************************\n",
      "Count: 16\n",
      "URl: https://arthomefurnishings.com/shop/north-side-king-panel-bed/\n",
      "Cat1: Bedroom\n",
      "Cat2: Beds\n",
      "Cat3: \n",
      "W: 85.5\n",
      "H: 63\n",
      "L: 101.5\n",
      "W: 217.17000000000002\n",
      "H: 257.81\n",
      "L: 160.02\n",
      "len list images 1\n",
      "Sku: ROG-269136-2556\n",
      "Title: North Side King Panel Bed\n",
      "Price: 0\n",
      "Price old: 0\n",
      "Description: \n",
      "Colors: \n",
      "Matter: Parrawood Solids, Quarter Figured/Fiddle Ash Veneer\n",
      "URl: https://arthomefurnishings.com/shop/north-side-king-panel-bed/\n",
      "\n",
      "***********************************************************\n",
      "Count: 17\n",
      "URl: https://arthomefurnishings.com/shop/north-side-queen-panel-bed/\n",
      "Cat1: Bedroom\n",
      "Cat2: Beds\n",
      "Cat3: \n",
      "W: 69.5\n",
      "H: 63\n",
      "L: 101.5\n",
      "W: 176.53\n",
      "H: 257.81\n",
      "L: 160.02\n",
      "len list images 3\n",
      "Sku: ROG-269135-2556\n",
      "Title: North Side Queen Panel Bed\n",
      "Price: 0\n",
      "Price old: 0\n",
      "Description: \n",
      "Colors: \n",
      "Matter: Parrawood Solids, Quarter Figured/Fiddle Ash Veneer\n",
      "URl: https://arthomefurnishings.com/shop/north-side-queen-panel-bed/\n",
      "https://20tb1g1nfzm2bjgyv1sj208o-wpengine.netdna-ssl.com/wp-content/uploads/2021/06/ypneio88xzufymbxepzp-scaled.jpg, https://20tb1g1nfzm2bjgyv1sj208o-wpengine.netdna-ssl.com/wp-content/uploads/2021/06/iemntojh9yl6srirz5t9-scaled.jpg\n",
      "***********************************************************\n",
      "Count: 18\n",
      "URl: https://arthomefurnishings.com/shop/north-side-california-king-upholstered-panel-bed/\n",
      "Cat1: Bedroom\n",
      "Cat2: Beds\n",
      "Cat3: \n",
      "W: 82.5\n",
      "H: 57.75\n",
      "L: 93.5\n",
      "W: 209.55\n",
      "H: 237.49\n",
      "L: 146.685\n",
      "len list images 4\n",
      "Sku: ROG-269127-2556\n",
      "Title: North Side California King Upholstered Panel Bed\n",
      "Price: 0\n",
      "Price old: 0\n",
      "Description: \n",
      "Colors: \n",
      "Matter: Parrawood Solids, Quarter Figured/Fiddle Ash Veneer\n",
      "URl: https://arthomefurnishings.com/shop/north-side-california-king-upholstered-panel-bed/\n",
      "https://20tb1g1nfzm2bjgyv1sj208o-wpengine.netdna-ssl.com/wp-content/uploads/2021/06/dzfkshc6worsfrk52udu-scaled.jpg, https://20tb1g1nfzm2bjgyv1sj208o-wpengine.netdna-ssl.com/wp-content/uploads/2021/06/gm77ifwbbsclydq0q1he-scaled.jpg, https://20tb1g1nfzm2bjgyv1sj208o-wpengine.netdna-ssl.com/wp-content/uploads/2021/06/sujorrfvwohphnp2dfbd-scaled.jpg\n",
      "***********************************************************\n",
      "Count: 19\n",
      "URl: https://arthomefurnishings.com/shop/north-side-king-upholstered-panel-bed/\n"
     ]
    },
    {
     "name": "stdout",
     "output_type": "stream",
     "text": [
      "Cat1: Bedroom\n",
      "Cat2: Beds\n",
      "Cat3: \n",
      "W: 82.5\n",
      "H: 57.75\n",
      "L: 89.5\n",
      "W: 209.55\n",
      "H: 227.33\n",
      "L: 146.685\n",
      "len list images 5\n",
      "Sku: ROG-269126-2556\n",
      "Title: North Side King Upholstered Panel Bed\n",
      "Price: 0\n",
      "Price old: 0\n",
      "Description: \n",
      "Colors: \n",
      "Matter: Parrawood Solids, Quarter Figured/Fiddle Ash Veneer\n",
      "URl: https://arthomefurnishings.com/shop/north-side-king-upholstered-panel-bed/\n",
      "https://20tb1g1nfzm2bjgyv1sj208o-wpengine.netdna-ssl.com/wp-content/uploads/2021/06/gm77ifwbbsclydq0q1he-scaled.jpg, https://20tb1g1nfzm2bjgyv1sj208o-wpengine.netdna-ssl.com/wp-content/uploads/2021/06/sujorrfvwohphnp2dfbd-scaled.jpg, https://20tb1g1nfzm2bjgyv1sj208o-wpengine.netdna-ssl.com/wp-content/uploads/2021/06/sdysuf8cmr9egsfnzhfa.png, https://20tb1g1nfzm2bjgyv1sj208o-wpengine.netdna-ssl.com/wp-content/uploads/2021/06/dzfkshc6worsfrk52udu-scaled.jpg\n",
      "***********************************************************\n",
      "Count: 20\n",
      "URl: https://arthomefurnishings.com/shop/north-side-queen-upholstered-panel-bed/\n",
      "Cat1: Bedroom\n",
      "Cat2: Beds\n",
      "Cat3: \n",
      "W: 66.5\n",
      "H: 57.75\n",
      "L: 89.5\n",
      "W: 168.91\n",
      "H: 227.33\n",
      "L: 146.685\n",
      "len list images 5\n",
      "Sku: ROG-269125-2556\n",
      "Title: North Side Queen Upholstered Panel Bed\n",
      "Price: 0\n",
      "Price old: 0\n",
      "Description: \n",
      "Colors: \n",
      "Matter: Parrawood Solids, Quarter Figured/Fiddle Ash Veneer\n",
      "URl: https://arthomefurnishings.com/shop/north-side-queen-upholstered-panel-bed/\n",
      "https://20tb1g1nfzm2bjgyv1sj208o-wpengine.netdna-ssl.com/wp-content/uploads/2021/06/dzfkshc6worsfrk52udu-scaled.jpg, https://20tb1g1nfzm2bjgyv1sj208o-wpengine.netdna-ssl.com/wp-content/uploads/2021/06/gm77ifwbbsclydq0q1he-scaled.jpg, https://20tb1g1nfzm2bjgyv1sj208o-wpengine.netdna-ssl.com/wp-content/uploads/2021/06/sujorrfvwohphnp2dfbd-scaled.jpg, https://20tb1g1nfzm2bjgyv1sj208o-wpengine.netdna-ssl.com/wp-content/uploads/2021/06/sdysuf8cmr9egsfnzhfa.png\n",
      "***********************************************************\n",
      "Count: 21\n",
      "URl: https://arthomefurnishings.com/shop/la-scala-king-panel-bed/\n",
      "Cat1: Bedroom\n",
      "Cat2: Beds\n",
      "Cat3: \n",
      "W:  80.38\n",
      "H: 64\n",
      "L: 86.7\n",
      "W: 204.1652\n",
      "H: 220.21800000000002\n",
      "L: 162.56\n",
      "len list images 6\n",
      "Sku: ROG-257156-3146\n",
      "Title: La Scala King Panel Bed\n",
      "Price: 0\n",
      "Price old: 0\n",
      "Description: \n",
      "Colors: \n",
      "Matter: Parawood Solids & Figured Quarter Ash Veneer\n",
      "URl: https://arthomefurnishings.com/shop/la-scala-king-panel-bed/\n",
      "https://20tb1g1nfzm2bjgyv1sj208o-wpengine.netdna-ssl.com/wp-content/uploads/2020/07/qe5lcxak0cj1nkr8tl7s-scaled.jpg, https://20tb1g1nfzm2bjgyv1sj208o-wpengine.netdna-ssl.com/wp-content/uploads/2020/06/bkwqdjuq1q78d8ifox7k-scaled.jpg, https://20tb1g1nfzm2bjgyv1sj208o-wpengine.netdna-ssl.com/wp-content/uploads/2020/07/rf97n5mufsgqt8ua26bi-scaled.jpg, https://20tb1g1nfzm2bjgyv1sj208o-wpengine.netdna-ssl.com/wp-content/uploads/2020/07/wgbw1agggpbafzdzj0kb-scaled.jpg, https://20tb1g1nfzm2bjgyv1sj208o-wpengine.netdna-ssl.com/wp-content/uploads/2020/07/dnzkiczqb7sufrjjzhi5-scaled.jpg\n",
      "***********************************************************\n",
      "Count: 22\n",
      "URl: https://arthomefurnishings.com/shop/la-scala-queen-panel-bed/\n",
      "Cat1: Bedroom\n",
      "Cat2: Beds\n",
      "Cat3: \n",
      "W:  64.38\n",
      "H: 64\n",
      "L: 86.7\n",
      "W: 163.52519999999998\n",
      "H: 220.21800000000002\n",
      "L: 162.56\n",
      "len list images 6\n",
      "Sku: ROG-257155-3146\n",
      "Title: La Scala Queen Panel Bed\n",
      "Price: 0\n",
      "Price old: 0\n",
      "Description: \n",
      "Colors: \n",
      "Matter: Parawood Solids & Figured Quarter Ash Veneer\n",
      "URl: https://arthomefurnishings.com/shop/la-scala-queen-panel-bed/\n",
      "https://20tb1g1nfzm2bjgyv1sj208o-wpengine.netdna-ssl.com/wp-content/uploads/2020/07/qe5lcxak0cj1nkr8tl7s-scaled.jpg, https://20tb1g1nfzm2bjgyv1sj208o-wpengine.netdna-ssl.com/wp-content/uploads/2020/06/bkwqdjuq1q78d8ifox7k-scaled.jpg, https://20tb1g1nfzm2bjgyv1sj208o-wpengine.netdna-ssl.com/wp-content/uploads/2020/07/rf97n5mufsgqt8ua26bi-scaled.jpg, https://20tb1g1nfzm2bjgyv1sj208o-wpengine.netdna-ssl.com/wp-content/uploads/2020/07/wgbw1agggpbafzdzj0kb-scaled.jpg, https://20tb1g1nfzm2bjgyv1sj208o-wpengine.netdna-ssl.com/wp-content/uploads/2020/07/dnzkiczqb7sufrjjzhi5-scaled.jpg\n",
      "***********************************************************\n",
      "Count: 23\n",
      "URl: https://arthomefurnishings.com/shop/summer-creek-shoals-california-king-upholstered-tufted-sleigh-bed/\n",
      "Cat1: Bedroom\n",
      "Cat2: Beds\n",
      "Cat3: \n",
      "W: 85\n",
      "H: 69.5\n",
      "L: 113.3\n",
      "W: 215.9\n",
      "H: 287.782\n",
      "L: 176.53\n",
      "len list images 3\n",
      "Sku: ROG-251127-1303\n",
      "Title: Summer Creek Shoals California King Upholstered Tufted Sleigh Bed\n",
      "Price: 0\n",
      "Price old: 0\n",
      "Description: \n",
      "Colors: \n",
      "Matter: Flakey Cathedral Oak Veneer, Parawood Solids\n",
      "URl: https://arthomefurnishings.com/shop/summer-creek-shoals-california-king-upholstered-tufted-sleigh-bed/\n",
      "https://20tb1g1nfzm2bjgyv1sj208o-wpengine.netdna-ssl.com/wp-content/uploads/2020/06/jaaskelz7109esbstkxu-scaled.jpg, https://20tb1g1nfzm2bjgyv1sj208o-wpengine.netdna-ssl.com/wp-content/uploads/2020/06/nab3jkym29cnvbpre8hy.jpg\n",
      "***********************************************************\n",
      "Count: 24\n",
      "URl: https://arthomefurnishings.com/shop/summer-creek-shoals-king-upholstered-tufted-sleigh-bed/\n",
      "Cat1: Bedroom\n",
      "Cat2: Beds\n",
      "Cat3: \n",
      "W: 85\n",
      "H: 69.5\n",
      "L: 109.3\n",
      "W: 215.9\n",
      "H: 277.622\n",
      "L: 176.53\n",
      "len list images 6\n",
      "Sku: ROG-251126-1303\n",
      "Title: Summer Creek Shoals King Upholstered Tufted Sleigh Bed\n",
      "Price: 0\n",
      "Price old: 0\n",
      "Description: \n",
      "Colors: \n",
      "Matter: Flakey Cathedral Oak Veneer, Parawood Solids\n",
      "URl: https://arthomefurnishings.com/shop/summer-creek-shoals-king-upholstered-tufted-sleigh-bed/\n",
      "https://20tb1g1nfzm2bjgyv1sj208o-wpengine.netdna-ssl.com/wp-content/uploads/2020/06/eldxruw0oyxgmc5hs1gq-scaled.jpg, https://20tb1g1nfzm2bjgyv1sj208o-wpengine.netdna-ssl.com/wp-content/uploads/2020/06/z9lj9t4ogarrlq0ppm4c-scaled.jpg, https://20tb1g1nfzm2bjgyv1sj208o-wpengine.netdna-ssl.com/wp-content/uploads/2020/06/xnh2ryjwe4rfmowikyjw-scaled.jpg, https://20tb1g1nfzm2bjgyv1sj208o-wpengine.netdna-ssl.com/wp-content/uploads/2020/06/w684rxbnrvpog2ttzna7.jpg, https://20tb1g1nfzm2bjgyv1sj208o-wpengine.netdna-ssl.com/wp-content/uploads/2020/06/igi9wmi1olmzncuac2pz.jpg\n",
      "***********************************************************\n",
      "Count: 25\n",
      "URl: https://arthomefurnishings.com/shop/summer-creek-shoals-queen-upholstered-tufted-sleigh-bed/\n",
      "Cat1: Bedroom\n",
      "Cat2: Beds\n",
      "Cat3: \n",
      "W: 69\n",
      "H: 82.75\n",
      "L: 109.3\n",
      "W: 175.26\n",
      "H: 277.622\n",
      "L: 210.185\n",
      "len list images 3\n",
      "Sku: ROG-251125-1303\n",
      "Title: Summer Creek Shoals Queen Upholstered Tufted Sleigh Bed\n",
      "Price: 0\n",
      "Price old: 0\n",
      "Description: \n",
      "Colors: \n",
      "Matter: Flakey Cathedral Oak Veneer, Parawood Solids\n",
      "URl: https://arthomefurnishings.com/shop/summer-creek-shoals-queen-upholstered-tufted-sleigh-bed/\n",
      "https://20tb1g1nfzm2bjgyv1sj208o-wpengine.netdna-ssl.com/wp-content/uploads/2020/06/d1ygmhxvlu0mr0dizdxx-scaled.jpg, https://20tb1g1nfzm2bjgyv1sj208o-wpengine.netdna-ssl.com/wp-content/uploads/2020/06/v66pk0jsvb8gohicfgro.jpg\n",
      "***********************************************************\n",
      "Count: 26\n",
      "URl: https://arthomefurnishings.com/shop/bobby-berk-california-king-faber-platform-storage-bed-by-a-r-t-furniture/\n",
      "Cat1: Bedroom\n",
      "Cat2: Beds\n",
      "Cat3: \n",
      "W: 82.24\n",
      "H: 52.01\n",
      "L: 91.50\n",
      "W: 208.8896\n",
      "H: 232.41\n",
      "L: 132.1054\n",
      "len list images 6\n",
      "Sku: ROG-239137-2348\n",
      "Title: Bobby Berk California King Faber Platform Storage Bed by A.R.T. Furniture\n",
      "Price: 0\n",
      "Price old: 0\n",
      "Description: \n",
      "Colors: \n",
      "Matter: Parawood Solids & Oak veneer & Soft Package Board\n",
      "URl: https://arthomefurnishings.com/shop/bobby-berk-california-king-faber-platform-storage-bed-by-a-r-t-furniture/\n",
      "https://20tb1g1nfzm2bjgyv1sj208o-wpengine.netdna-ssl.com/wp-content/uploads/2020/06/m3cfnh575v2xg9s2ndom-scaled.jpg, https://20tb1g1nfzm2bjgyv1sj208o-wpengine.netdna-ssl.com/wp-content/uploads/2020/06/zod0b6ftuc6tpnqlvtzv-scaled.jpg, https://20tb1g1nfzm2bjgyv1sj208o-wpengine.netdna-ssl.com/wp-content/uploads/2020/06/c9cdccwblieznm1ahjj0-scaled.jpg, https://20tb1g1nfzm2bjgyv1sj208o-wpengine.netdna-ssl.com/wp-content/uploads/2020/06/agnlgjmau5addesymsai-scaled.jpg, https://20tb1g1nfzm2bjgyv1sj208o-wpengine.netdna-ssl.com/wp-content/uploads/2020/06/bqvkmkv02fwmjxpailmo-scaled.jpg\n",
      "***********************************************************\n",
      "Count: 27\n",
      "URl: https://arthomefurnishings.com/shop/bobby-berk-king-faber-platform-storage-bed-by-a-r-t-furniture/\n",
      "Cat1: Bedroom\n",
      "Cat2: Beds\n",
      "Cat3: \n",
      "W: 82.24\n",
      "H: 52.01\n",
      "L: 87.48\n",
      "W: 208.8896\n",
      "H: 222.19920000000002\n",
      "L: 132.1054\n",
      "len list images 7\n",
      "Sku: ROG-239136-2348\n",
      "Title: Bobby Berk King Faber Platform Storage Bed by A.R.T. Furniture\n",
      "Price: 0\n",
      "Price old: 0\n",
      "Description: \n",
      "Colors: \n",
      "Matter: Parawood Solids & Oak veneer & Soft Package Board\n",
      "URl: https://arthomefurnishings.com/shop/bobby-berk-king-faber-platform-storage-bed-by-a-r-t-furniture/\n",
      "https://20tb1g1nfzm2bjgyv1sj208o-wpengine.netdna-ssl.com/wp-content/uploads/2020/06/bk0ytaonvorf9xtk6vyh-scaled.jpg, https://20tb1g1nfzm2bjgyv1sj208o-wpengine.netdna-ssl.com/wp-content/uploads/2020/06/zod0b6ftuc6tpnqlvtzv-scaled.jpg, https://20tb1g1nfzm2bjgyv1sj208o-wpengine.netdna-ssl.com/wp-content/uploads/2020/06/c9cdccwblieznm1ahjj0-scaled.jpg, https://20tb1g1nfzm2bjgyv1sj208o-wpengine.netdna-ssl.com/wp-content/uploads/2020/06/ftp7nurwuip0oyc1kyvq-scaled.jpg, https://20tb1g1nfzm2bjgyv1sj208o-wpengine.netdna-ssl.com/wp-content/uploads/2020/06/agnlgjmau5addesymsai-scaled.jpg, https://20tb1g1nfzm2bjgyv1sj208o-wpengine.netdna-ssl.com/wp-content/uploads/2020/06/bqvkmkv02fwmjxpailmo-scaled.jpg\n",
      "***********************************************************\n",
      "Count: 28\n",
      "URl: https://arthomefurnishings.com/shop/bobby-berk-queen-faber-platform-storage-bed-by-a-r-t-furniture/\n"
     ]
    },
    {
     "name": "stdout",
     "output_type": "stream",
     "text": [
      "Cat1: Bedroom\n",
      "Cat2: Beds\n",
      "Cat3: \n",
      "W: 66.26\n",
      "H: 52.01\n",
      "L: 87.48\n",
      "W: 168.30040000000002\n",
      "H: 222.19920000000002\n",
      "L: 132.1054\n",
      "len list images 6\n",
      "Sku: ROG-239135-2348\n",
      "Title: Bobby Berk Queen Faber Platform Storage Bed by A.R.T. Furniture\n",
      "Price: 0\n",
      "Price old: 0\n",
      "Description: \n",
      "Colors: \n",
      "Matter: Parawood Solids & Oak veneer & Soft Package Board\n",
      "URl: https://arthomefurnishings.com/shop/bobby-berk-queen-faber-platform-storage-bed-by-a-r-t-furniture/\n",
      "https://20tb1g1nfzm2bjgyv1sj208o-wpengine.netdna-ssl.com/wp-content/uploads/2020/06/bk0ytaonvorf9xtk6vyh-scaled.jpg, https://20tb1g1nfzm2bjgyv1sj208o-wpengine.netdna-ssl.com/wp-content/uploads/2020/06/zod0b6ftuc6tpnqlvtzv-scaled.jpg, https://20tb1g1nfzm2bjgyv1sj208o-wpengine.netdna-ssl.com/wp-content/uploads/2020/06/c9cdccwblieznm1ahjj0-scaled.jpg, https://20tb1g1nfzm2bjgyv1sj208o-wpengine.netdna-ssl.com/wp-content/uploads/2020/06/agnlgjmau5addesymsai-scaled.jpg, https://20tb1g1nfzm2bjgyv1sj208o-wpengine.netdna-ssl.com/wp-content/uploads/2020/06/bqvkmkv02fwmjxpailmo-scaled.jpg\n",
      "***********************************************************\n",
      "Count: 29\n",
      "URl: https://arthomefurnishings.com/shop/bobby-berk-california-king-kirkeby-upholstered-bed-by-a-r-t-furniture/\n",
      "Cat1: Bedroom\n",
      "Cat2: Beds\n",
      "Cat3: \n",
      "W: 83.74\n",
      "H: 47.99\n",
      "L: 91.93\n",
      "W: 212.6996\n",
      "H: 233.50220000000002\n",
      "L: 121.89460000000001\n",
      "len list images 7\n",
      "Sku: ROG-239127-5020\n",
      "Title: Bobby Berk California King Kirkeby Upholstered Bed by A.R.T. Furniture\n",
      "Price: 0\n",
      "Price old: 0\n",
      "Description: \n",
      "Colors: \n",
      "Matter: Soft Package Board & Metal foot\n",
      "URl: https://arthomefurnishings.com/shop/bobby-berk-california-king-kirkeby-upholstered-bed-by-a-r-t-furniture/\n",
      "https://20tb1g1nfzm2bjgyv1sj208o-wpengine.netdna-ssl.com/wp-content/uploads/2020/06/wx2nv1b7ckjclot4oywb.jpg, https://20tb1g1nfzm2bjgyv1sj208o-wpengine.netdna-ssl.com/wp-content/uploads/2020/06/g9eqrugcovwc7rtj2x8r.jpg, https://20tb1g1nfzm2bjgyv1sj208o-wpengine.netdna-ssl.com/wp-content/uploads/2020/07/sizi6ivgxkfthn5qp7v1-scaled.jpg, https://20tb1g1nfzm2bjgyv1sj208o-wpengine.netdna-ssl.com/wp-content/uploads/2020/06/g6edksulxjbqqdlea6q5.jpg, https://20tb1g1nfzm2bjgyv1sj208o-wpengine.netdna-ssl.com/wp-content/uploads/2020/07/wold3si5ry842pjktsgw-scaled.jpg, https://20tb1g1nfzm2bjgyv1sj208o-wpengine.netdna-ssl.com/wp-content/uploads/2020/07/anya7gikszpwq2duj7fb-scaled.jpg\n",
      "***********************************************************\n",
      "Count: 30\n",
      "URl: https://arthomefurnishings.com/shop/bobby-berk-king-kirkeby-upholstered-bed-by-a-r-t-furniture/\n",
      "Cat1: Bedroom\n",
      "Cat2: Beds\n",
      "Cat3: \n",
      "W: 83.74\n",
      "H: 47.99\n",
      "L: 87.66\n",
      "W: 212.6996\n",
      "H: 222.6564\n",
      "L: 121.89460000000001\n",
      "len list images 6\n",
      "Sku: ROG-239126-5020\n",
      "Title: Bobby Berk King Kirkeby Upholstered Bed by A.R.T. Furniture\n",
      "Price: 0\n",
      "Price old: 0\n",
      "Description: \n",
      "Colors: \n",
      "Matter: Soft Package Board & Metal foot\n",
      "URl: https://arthomefurnishings.com/shop/bobby-berk-king-kirkeby-upholstered-bed-by-a-r-t-furniture/\n",
      "https://20tb1g1nfzm2bjgyv1sj208o-wpengine.netdna-ssl.com/wp-content/uploads/2020/06/wx2nv1b7ckjclot4oywb.jpg, https://20tb1g1nfzm2bjgyv1sj208o-wpengine.netdna-ssl.com/wp-content/uploads/2020/06/g9eqrugcovwc7rtj2x8r.jpg, https://20tb1g1nfzm2bjgyv1sj208o-wpengine.netdna-ssl.com/wp-content/uploads/2020/07/sizi6ivgxkfthn5qp7v1-scaled.jpg, https://20tb1g1nfzm2bjgyv1sj208o-wpengine.netdna-ssl.com/wp-content/uploads/2020/07/wold3si5ry842pjktsgw-scaled.jpg, https://20tb1g1nfzm2bjgyv1sj208o-wpengine.netdna-ssl.com/wp-content/uploads/2020/07/anya7gikszpwq2duj7fb-scaled.jpg\n",
      "***********************************************************\n",
      "Count: 31\n",
      "URl: https://arthomefurnishings.com/shop/bobby-berk-queen-kirkeby-upholstered-bed-by-a-r-t-furniture/\n",
      "Cat1: Bedroom\n",
      "Cat2: Beds\n",
      "Cat3: \n",
      "W: 67.72\n",
      "H: 47.99\n",
      "L: 87.66\n",
      "W: 172.0088\n",
      "H: 222.6564\n",
      "L: 121.89460000000001\n",
      "len list images 7\n",
      "Sku: ROG-239125-5020\n",
      "Title: Bobby Berk Queen Kirkeby Upholstered Bed by A.R.T. Furniture\n",
      "Price: 0\n",
      "Price old: 0\n",
      "Description: \n",
      "Colors: \n",
      "Matter: Soft Package Board & Metal foot\n",
      "URl: https://arthomefurnishings.com/shop/bobby-berk-queen-kirkeby-upholstered-bed-by-a-r-t-furniture/\n",
      "https://20tb1g1nfzm2bjgyv1sj208o-wpengine.netdna-ssl.com/wp-content/uploads/2020/06/wx2nv1b7ckjclot4oywb.jpg, https://20tb1g1nfzm2bjgyv1sj208o-wpengine.netdna-ssl.com/wp-content/uploads/2020/06/g9eqrugcovwc7rtj2x8r.jpg, https://20tb1g1nfzm2bjgyv1sj208o-wpengine.netdna-ssl.com/wp-content/uploads/2020/07/sizi6ivgxkfthn5qp7v1-scaled.jpg, https://20tb1g1nfzm2bjgyv1sj208o-wpengine.netdna-ssl.com/wp-content/uploads/2020/06/g6edksulxjbqqdlea6q5.jpg, https://20tb1g1nfzm2bjgyv1sj208o-wpengine.netdna-ssl.com/wp-content/uploads/2020/07/wold3si5ry842pjktsgw-scaled.jpg, https://20tb1g1nfzm2bjgyv1sj208o-wpengine.netdna-ssl.com/wp-content/uploads/2020/07/anya7gikszpwq2duj7fb-scaled.jpg\n",
      "***********************************************************\n",
      "Count: 32\n",
      "URl: https://arthomefurnishings.com/shop/arch-salvage-california-king-chambers-panel-bed/\n",
      "Cat1: Bedroom\n",
      "Cat2: Beds\n",
      "Cat3: \n",
      "W: 91.22\n",
      "H: 82.01\n",
      "L: 96.85\n",
      "W: 231.6988\n",
      "H: 245.999\n",
      "L: 208.30540000000002\n",
      "len list images 7\n",
      "Sku: ROG-233157-2802\n",
      "Title: Arch Salvage California King Chambers Panel Bed\n",
      "Price: 0\n",
      "Price old: 0\n",
      "Description: \n",
      "Colors: \n",
      "Matter: Parrawood solids, Cathedral Elm veneers\n",
      "URl: https://arthomefurnishings.com/shop/arch-salvage-california-king-chambers-panel-bed/\n",
      "https://20tb1g1nfzm2bjgyv1sj208o-wpengine.netdna-ssl.com/wp-content/uploads/2020/07/rern5usz12xavu5tuvef-scaled.jpg, https://20tb1g1nfzm2bjgyv1sj208o-wpengine.netdna-ssl.com/wp-content/uploads/2020/07/nfms9ubfmfi0farca5t7.jpg, https://20tb1g1nfzm2bjgyv1sj208o-wpengine.netdna-ssl.com/wp-content/uploads/2020/06/guu78hbqdadg09z8mq1y-scaled.jpg, https://20tb1g1nfzm2bjgyv1sj208o-wpengine.netdna-ssl.com/wp-content/uploads/2020/07/ykleqpol4hsmrxrx8m5d-scaled.jpg, https://20tb1g1nfzm2bjgyv1sj208o-wpengine.netdna-ssl.com/wp-content/uploads/2020/06/yrfctkvgfzslplmz47hn-scaled.jpg, https://20tb1g1nfzm2bjgyv1sj208o-wpengine.netdna-ssl.com/wp-content/uploads/2020/07/qxvgoajgghjxfnz8z2nb-scaled.jpg\n",
      "***********************************************************\n",
      "Count: 33\n",
      "URl: https://arthomefurnishings.com/shop/arch-salvage-king-chambers-panel-bed/\n",
      "Cat1: Bedroom\n",
      "Cat2: Beds\n",
      "Cat3: \n",
      "W: 91.22\n",
      "H: 82.01\n",
      "L: 96.85\n",
      "W: 231.6988\n",
      "H: 245.999\n",
      "L: 208.30540000000002\n",
      "len list images 7\n",
      "Sku: ROG-233156-2802\n",
      "Title: Arch Salvage King Chambers Panel Bed\n",
      "Price: 0\n",
      "Price old: 0\n",
      "Description: \n",
      "Colors: \n",
      "Matter: Parrawood solids, Cathedral Elm veneers\n",
      "URl: https://arthomefurnishings.com/shop/arch-salvage-king-chambers-panel-bed/\n",
      "https://20tb1g1nfzm2bjgyv1sj208o-wpengine.netdna-ssl.com/wp-content/uploads/2020/07/rern5usz12xavu5tuvef-scaled.jpg, https://20tb1g1nfzm2bjgyv1sj208o-wpengine.netdna-ssl.com/wp-content/uploads/2020/07/nfms9ubfmfi0farca5t7.jpg, https://20tb1g1nfzm2bjgyv1sj208o-wpengine.netdna-ssl.com/wp-content/uploads/2020/06/fwf3xfekg3ds5x5x3i1d-scaled.jpg, https://20tb1g1nfzm2bjgyv1sj208o-wpengine.netdna-ssl.com/wp-content/uploads/2020/07/ykleqpol4hsmrxrx8m5d-scaled.jpg, https://20tb1g1nfzm2bjgyv1sj208o-wpengine.netdna-ssl.com/wp-content/uploads/2020/06/uqvlrppat1uevp3nlxye-scaled.jpg, https://20tb1g1nfzm2bjgyv1sj208o-wpengine.netdna-ssl.com/wp-content/uploads/2020/07/ldon6ahe3r0doezkbfzj-scaled.jpg\n",
      "***********************************************************\n",
      "Count: 34\n",
      "URl: https://arthomefurnishings.com/shop/arch-salvage-queen-chambers-panel-bed/\n",
      "Cat1: Bedroom\n",
      "Cat2: Beds\n",
      "Cat3: \n",
      "W: 75.2\n",
      "H: 82.75\n",
      "L: 96.85\n",
      "W: 191.008\n",
      "H: 245.999\n",
      "L: 210.185\n",
      "len list images 7\n",
      "Sku: ROG-233155-2802\n",
      "Title: Arch Salvage Queen Chambers Panel Bed\n",
      "Price: 0\n",
      "Price old: 0\n",
      "Description: \n",
      "Colors: \n",
      "Matter: Parrawood solids, Cathedral Elm veneers\n",
      "URl: https://arthomefurnishings.com/shop/arch-salvage-queen-chambers-panel-bed/\n",
      "https://20tb1g1nfzm2bjgyv1sj208o-wpengine.netdna-ssl.com/wp-content/uploads/2020/07/rern5usz12xavu5tuvef-scaled.jpg, https://20tb1g1nfzm2bjgyv1sj208o-wpengine.netdna-ssl.com/wp-content/uploads/2020/07/nfms9ubfmfi0farca5t7.jpg, https://20tb1g1nfzm2bjgyv1sj208o-wpengine.netdna-ssl.com/wp-content/uploads/2020/06/ill36hy3vjztfev1akqy-scaled.jpg, https://20tb1g1nfzm2bjgyv1sj208o-wpengine.netdna-ssl.com/wp-content/uploads/2020/06/vlaxdaty8z0vhvholtri-scaled.jpg, https://20tb1g1nfzm2bjgyv1sj208o-wpengine.netdna-ssl.com/wp-content/uploads/2020/07/ykleqpol4hsmrxrx8m5d-scaled.jpg, https://20tb1g1nfzm2bjgyv1sj208o-wpengine.netdna-ssl.com/wp-content/uploads/2020/07/itdhpqkjxxrbbu9yd41e-scaled.jpg\n",
      "***********************************************************\n",
      "Count: 35\n",
      "URl: https://arthomefurnishings.com/shop/cityscapes-6-0-chelsea-uph-shelter-sleigh-bed/\n"
     ]
    },
    {
     "name": "stdout",
     "output_type": "stream",
     "text": [
      "Cat1: Bedroom\n",
      "Cat2: Beds\n",
      "Cat3: \n",
      "W: 81.5\n",
      "H: 62\n",
      "L: 99.5\n",
      "W: 207.01\n",
      "H: 252.73\n",
      "L: 157.48\n",
      "len list images 2\n",
      "Sku: ROG-232147-2323\n",
      "Title: Cityscapes – 6/0 Chelsea Uph Shelter Sleigh Bed\n",
      "Price: 0\n",
      "Price old: 0\n",
      "Description: \n",
      "Colors: \n",
      "Matter: \n",
      "URl: https://arthomefurnishings.com/shop/cityscapes-6-0-chelsea-uph-shelter-sleigh-bed/\n",
      "https://20tb1g1nfzm2bjgyv1sj208o-wpengine.netdna-ssl.com/wp-content/uploads/2021/06/pyj70g78zswcjjgbvias.jpg\n",
      "***********************************************************\n",
      "Count: 36\n",
      "URl: https://arthomefurnishings.com/shop/cityscapes-king-chelsea-upholstered-shelter-sleigh-bed/\n",
      "Cat1: Bedroom\n",
      "Cat2: Beds\n",
      "Cat3: \n",
      "W: 81\n",
      "H: 62\n",
      "L: 96.2\n",
      "W: 205.74\n",
      "H: 244.348\n",
      "L: 157.48\n",
      "len list images 1\n",
      "Sku: ROG-232146-2323\n",
      "Title: Cityscapes King Chelsea Upholstered Shelter Sleigh Bed\n",
      "Price: 0\n",
      "Price old: 0\n",
      "Description: \n",
      "Colors: \n",
      "Matter: Parawood Solids, Quarter Oak Veneer, and Channel Tufted Upholstery\n",
      "URl: https://arthomefurnishings.com/shop/cityscapes-king-chelsea-upholstered-shelter-sleigh-bed/\n",
      "\n"
     ]
    }
   ],
   "source": [
    "now = datetime.now()\n",
    "dt_string = now.strftime(\"%d-%m-%Y-%H-%M-%S\")\n",
    "count = 0\n",
    "\n",
    "\n",
    "def clear_size(text):\n",
    "    regex = re.compile(r'Dimensions In Inches: w-(?P<width>\\s*\\d*.?\\d+\\s*) x d-(?P<lenght>\\s*\\d*.?\\d+\\s*) x h-(?P<hight>\\s*\\d*.?\\d+\\s*)')\n",
    "    p = re.match(regex, text)\n",
    "    \n",
    "    if p != None:   \n",
    "        width = p['width']   \n",
    "        lenght = p['lenght'] \n",
    "        height = p['hight'] \n",
    "        print('W:', width)\n",
    "        print('H:', height)\n",
    "        print('L:', lenght)\n",
    "        return float(width) * 2.54 , float(lenght)* 2.54 , float(height) * 2.54\n",
    "    else:\n",
    "        width = 0  \n",
    "        lenght = 0\n",
    "        height = 0\n",
    "        return width, lenght, height\n",
    "#**********************************************************************\n",
    "#**********************************************************************\n",
    "#**********************************************************************\n",
    "#**********************************************************************\n",
    "#**********************************************************************\n",
    "#ForLoop main\n",
    "\n",
    "df = pd.read_excel('arthome_model.xlsx')\n",
    "for i, product in enumerate(links_products[11:]):\n",
    "    height = 0\n",
    "    length = 0\n",
    "    width = 0\n",
    "    link_url = ''\n",
    "    series = None\n",
    "    \n",
    "    try:\n",
    "        print('***********************************************************')\n",
    "        print('Count:', i)\n",
    "        print('URl:', product)\n",
    "        driver.get(product)\n",
    "        time.sleep(1)\n",
    "        link_url = str(product)\n",
    "    except:\n",
    "        continue\n",
    "    \n",
    "#**********************************************************************\n",
    "#**********************************************************************\n",
    "\n",
    "    \n",
    "\n",
    "    try:\n",
    "        categories1 =  'Bedroom'\n",
    "    except:\n",
    "        categories1 = ''\n",
    "    try:\n",
    "        categories2 =  'Beds' \n",
    "    except:\n",
    "        categories2 = ''\n",
    "    try:\n",
    "        categories3 =  ''#driver.find_elements_by_xpath(\"//li[contains(@class, 'breadcrumb__item')]\")[2].text\n",
    "    except:\n",
    "        categories3 = ''\n",
    "    print('Cat1:', categories1)\n",
    "    print('Cat2:', categories2)\n",
    "    print('Cat3:', categories3)\n",
    "    time.sleep(1)\n",
    "    try:\n",
    "        sku = 'ROG-' + driver.find_elements_by_class_name('sku')[1].text \n",
    "    except:\n",
    "        print('pas de produit')\n",
    "        continue\n",
    "    name = driver.find_elements_by_xpath('//div[@class=\"et_pb_module_inner\"]//h1')[1].text\n",
    "    url_key = (f'{sku}-{name}').replace(',', '-').replace('*', '-').replace('،', '-').replace('/', '-').replace('%', '').replace('\"', '')\n",
    "    \n",
    "    price = 0\n",
    "    try:\n",
    "        special_price =  0\n",
    "    except:\n",
    "        special_price = 0\n",
    "    time.sleep(1)\n",
    "\n",
    "# Description*********************************************************************************\n",
    "    \n",
    "    description = ''\n",
    "    try:\n",
    "        short_description = driver.find_element_by_xpath('//div[@class=\"et_pb_module_inner\"]//p').get_attribute('innerHTML')\n",
    "    except:\n",
    "        short_description = ''\n",
    "    try:\n",
    "        weight = driver.find_element_by_xpath('//div[contains(text(),\"Weight:\")]').text.replace('Weight:', '').replace('.lbs', '').strip()\n",
    "    except:\n",
    "        weight = ''\n",
    "    time.sleep(1)\n",
    "    dimension = driver.find_element_by_xpath('//div[contains(text(),\"Dimensions In Inches:\")]').text\n",
    "    \n",
    "    \n",
    "   \n",
    "    width , height , length = clear_size(dimension)\n",
    "        \n",
    "  \n",
    "    print('W:', width)\n",
    "    print('H:', height)\n",
    "    print('L:', length)\n",
    "    \n",
    "    free_colors = ''\n",
    "        \n",
    "    \n",
    "    try:\n",
    "        list_elements = driver.find_element_by_xpath('//div[contains(text(),\"Style\")]').text\n",
    "        raw_material_list = list_elements.split('\\n')\n",
    "        raw_materials = [ele for ele in raw_material_list if 'Material' in ele][0].split(':')[1].strip()\n",
    "        \n",
    "    except:\n",
    "        raw_materials = ''\n",
    "    \n",
    "\n",
    "# Images*********************************************************************************\n",
    "    list_images = []\n",
    "    flot_imgs = driver.find_elements_by_xpath('//ol//li')\n",
    "    len(flot_imgs)\n",
    "    for img in flot_imgs:\n",
    "        img.click()\n",
    "        time.sleep(1)\n",
    "    images = driver.find_elements_by_class_name('zoomImg')\n",
    "    for image in images:\n",
    "        list_images.append(image.get_attribute('src'))\n",
    "\n",
    "    print('len list images',len(list_images))\n",
    "    base_image = list_images[0]\n",
    "    small_image = list_images[0]\n",
    "    swatch_image = list_images[0]\n",
    "    thumbnail_image = list_images[0]\n",
    "#************************************************************************** \n",
    "    print('Sku:', sku)\n",
    "    print('Title:', name)\n",
    "    print('Price:', price)\n",
    "    print('Price old:',special_price)\n",
    "    print('Description:',description)\n",
    "    print('Colors:',free_colors)\n",
    "    print('Matter:',raw_materials)\n",
    "#     print('Size:',Dimensions)\n",
    "    \n",
    "    print('URl:',link_url)\n",
    "    \n",
    "    try:\n",
    "\n",
    "        image1 = list_images[0]\n",
    "    except:\n",
    "        image1 = ''\n",
    "\n",
    "    try:\n",
    "        image2 = list_images[1:]\n",
    "    except:\n",
    "        image2 = ''\n",
    "    try:\n",
    "        timage = ''\n",
    "        for i, img in enumerate(list_images[1:]):\n",
    "            if i == 0:\n",
    "                timage += str(img)\n",
    "            else:\n",
    "                timage += ', ' + str(img)\n",
    "#         list_input_images2.append(timage)\n",
    "        print(timage)\n",
    "    except:\n",
    "        timage = ''\n",
    "\n",
    "    additional_images = timage\n",
    "        #         list_input_images2.append(t)\n",
    "#*******************************************************\n",
    "    two_month = datetime.now() + timedelta(days=60)\n",
    "    two_month = two_month.strftime(\"%m/%d/%Y\")\n",
    "    today = datetime.today().strftime(\"%m/%d/%Y\")\n",
    "#*******************************************************\n",
    "    series = pd.Series([sku,\n",
    "                         name,\n",
    "                         url_key,\n",
    "                         short_description,\n",
    "                        description,\n",
    "                         free_colors,\n",
    "                         raw_materials,\n",
    "                        width,\n",
    "                        height,\n",
    "                        length,\n",
    "                        weight,\n",
    "                         base_image,\n",
    "                         small_image,\n",
    "                         swatch_image,\n",
    "                         thumbnail_image,\n",
    "                         additional_images ,\n",
    "                         categories1,\n",
    "                         categories2,\n",
    "                         categories3,\n",
    "                         price ,\n",
    "                        special_price,\n",
    "                        'Catalog, Search',\n",
    "                        'Taxable Goods',\n",
    "                        link_url,\n",
    "                        0,\n",
    "                        -5,\n",
    "                        1,\n",
    "                        1,\n",
    "                        1,\n",
    "                        'مستوردة',\n",
    "\n",
    "                         today,\n",
    "                         two_month,\n",
    "                         'base',\n",
    "                         'Default',\n",
    "                         'simple',\n",
    "                         '',\n",
    "                        'ROG'\n",
    "\n",
    "                        ],  index=df.columns)\n",
    "    #df.append(df1)\n",
    "    df = df.append(series, ignore_index=True)\n",
    "    df.to_excel( f'{name_excel}', index = False)\n"
   ]
  },
  {
   "cell_type": "code",
   "execution_count": 133,
   "id": "26d09891",
   "metadata": {},
   "outputs": [],
   "source": [
    "driver.get('https://arthomefurnishings.com/shop/starlite-california-king-upholstered-panel-bed-with-storage/')"
   ]
  },
  {
   "cell_type": "code",
   "execution_count": 100,
   "id": "6d970833",
   "metadata": {},
   "outputs": [
    {
     "data": {
      "text/plain": [
       "'325.6'"
      ]
     },
     "execution_count": 100,
     "metadata": {},
     "output_type": "execute_result"
    }
   ],
   "source": [
    "weights = driver.find_element_by_xpath('//div[contains(text(),\"Weight:\")]').text.replace('Weight:', '').replace('.lbs', '').strip()\n",
    "\n",
    "weights"
   ]
  },
  {
   "cell_type": "code",
   "execution_count": 73,
   "id": "6a210f1f",
   "metadata": {},
   "outputs": [],
   "source": [
    "https://www.sagebrookhome.com/decorative-accessories/bowls-and-plates/"
   ]
  },
  {
   "cell_type": "code",
   "execution_count": null,
   "id": "bf71b203",
   "metadata": {},
   "outputs": [],
   "source": []
  },
  {
   "cell_type": "markdown",
   "id": "b7d8d492",
   "metadata": {},
   "source": [
    "# Fin de la fonction"
   ]
  },
  {
   "cell_type": "code",
   "execution_count": null,
   "id": "3a22a88f",
   "metadata": {},
   "outputs": [],
   "source": [
    "re"
   ]
  },
  {
   "cell_type": "code",
   "execution_count": 49,
   "id": "53a97f1e",
   "metadata": {},
   "outputs": [],
   "source": [
    "df.loc[df['special_price'] == 0, 'special_price'] = '__EMPTY__VALUE__'"
   ]
  },
  {
   "cell_type": "code",
   "execution_count": 127,
   "id": "800d2ed3",
   "metadata": {},
   "outputs": [
    {
     "name": "stdout",
     "output_type": "stream",
     "text": [
      "Dimensions In Inches: w-84.65 x d-121.08 x h-53.07\n"
     ]
    }
   ],
   "source": [
    "dimension = driver.find_element_by_xpath('//div[contains(text(),\"Dimensions In Inches:\")]').text\n",
    "print(dimension)\n",
    "    \n",
    "   \n",
    "width , height , length = clear_size(dimension)"
   ]
  },
  {
   "cell_type": "code",
   "execution_count": 124,
   "id": "23372af2",
   "metadata": {},
   "outputs": [
    {
     "data": {
      "text/plain": [
       "(0, 0, 0)"
      ]
     },
     "execution_count": 124,
     "metadata": {},
     "output_type": "execute_result"
    }
   ],
   "source": [
    "clear_size('Dimensions In Inches: w-84.65 x d-121.08 x h-53.07')"
   ]
  },
  {
   "cell_type": "code",
   "execution_count": 50,
   "id": "ee125233",
   "metadata": {},
   "outputs": [],
   "source": [
    "driver.get('https://www.alrugaibfurniture.com/ar/collections/rugs/products/fusion-rug-blue-multi-colored')"
   ]
  },
  {
   "cell_type": "code",
   "execution_count": 51,
   "id": "5a71234a",
   "metadata": {},
   "outputs": [
    {
     "data": {
      "text/plain": [
       "3"
      ]
     },
     "execution_count": 51,
     "metadata": {},
     "output_type": "execute_result"
    }
   ],
   "source": [
    "list_products_other = driver.find_elements_by_class_name('block-swatch__item-text')\n",
    "len(list_products_other)"
   ]
  },
  {
   "cell_type": "code",
   "execution_count": 52,
   "id": "1933edf4",
   "metadata": {},
   "outputs": [],
   "source": [
    "list_products_other[0].click()"
   ]
  },
  {
   "cell_type": "code",
   "execution_count": null,
   "id": "2d9bba02",
   "metadata": {},
   "outputs": [],
   "source": []
  },
  {
   "cell_type": "code",
   "execution_count": 5,
   "id": "770e17a7",
   "metadata": {},
   "outputs": [],
   "source": [
    "df1 = pd.read_excel('sagebrookh_bookends.xlsx')\n",
    "df2 = pd.read_excel('sagebrookh_bowls-and-plates.xlsx')\n",
    "df3 = pd.read_excel('sagebrookh_boxes.xlsx')\n",
    "df4 = pd.read_excel('sagebrookh_candleholders-and-tealights.xlsx')\n",
    "df5 = pd.read_excel('sagebrookh_candles.xlsx')\n",
    "df6 = pd.read_excel('sagebrookh_clocks.xlsx')\n",
    "df7 = pd.read_excel('sagebrookh_decorative-objects.xlsx')\n",
    "df8 = pd.read_excel('sagebrookh_figurines.xlsx')\n",
    "df9 = pd.read_excel('sagebrookh_figurines1.xlsx')\n",
    "df10 = pd.read_excel('sagebrookh_frames.xlsx')\n",
    "df11 = pd.read_excel('sagebrookh_indoor.xlsx')\n",
    "df12 = pd.read_excel('sagebrookh_jars.xlsx')\n",
    "df13 = pd.read_excel('sagebrookh_lanterns.xlsx')\n",
    "df14 = pd.read_excel('sagebrookh_orbs.xlsx')\n",
    "df15 = pd.read_excel('sagebrookh_REST.xlsx')\n",
    "df16 = pd.read_excel('sagebrookh_REST1.xlsx')\n",
    "df17 = pd.read_excel('sagebrookh_sculptures.xlsx')\n",
    "df18 = pd.read_excel('sagebrookh_storage.xlsx')\n",
    "df19 = pd.read_excel('sagebrookh_trays.xlsx')\n",
    "df20 = pd.read_excel('sagebrookh_trinkets-and-trays.xlsx')\n",
    "df21 = pd.read_excel('sagebrookh_vases.xlsx')\n",
    "df22 = pd.read_excel('sagebrookh_wall-art.xlsx')\n",
    "df23 = pd.read_excel('sagebrookh_wall-clocks.xlsx')\n",
    "df24 = pd.read_excel('sagebrookh_wall-flowers.xlsx')\n",
    "\n",
    "\n",
    "\n",
    "\n",
    "\n"
   ]
  },
  {
   "cell_type": "code",
   "execution_count": 37,
   "id": "10b93eb2",
   "metadata": {},
   "outputs": [],
   "source": [
    "df['small_image'] =  df['base_image']\n",
    "df['swatch_image'] =  df['base_image']\n",
    "df['thumbnail_image'] =  df['base_image']\n",
    "df['attribute_set_code'] = 'Default'\n",
    "df['product_websites'] = 'base'\n"
   ]
  },
  {
   "cell_type": "code",
   "execution_count": 38,
   "id": "7deef635",
   "metadata": {},
   "outputs": [],
   "source": [
    "df['allow_backorders'] = df['is_in_stock']\n",
    "df['estimated_delivery_enable'] = 'Static Text'"
   ]
  },
  {
   "cell_type": "code",
   "execution_count": 39,
   "id": "f2909c74",
   "metadata": {},
   "outputs": [],
   "source": [
    "df['url_key'] = df['url_key'].str.replace(', ', '-')\n",
    "df['url_key'] = df['url_key'].str.replace('/', '-')\n",
    "df['url_key'] = df['url_key'].str.replace('\"', '-')\n",
    "df['url_key'] = df['url_key'].str.replace('%', '-')\n",
    "df['url_key'] = df['url_key'].str.replace('+', '-', regex=False)"
   ]
  },
  {
   "cell_type": "code",
   "execution_count": null,
   "id": "c5fbd6f2",
   "metadata": {},
   "outputs": [],
   "source": []
  },
  {
   "cell_type": "code",
   "execution_count": 52,
   "id": "4a767f67",
   "metadata": {},
   "outputs": [],
   "source": [
    "df_all = pd.read_excel('SageBrook_update1.xlsx')"
   ]
  },
  {
   "cell_type": "code",
   "execution_count": 53,
   "id": "07978719",
   "metadata": {},
   "outputs": [],
   "source": [
    "df_all.loc[df_all['ts_dimensions_width'] == 0, 'ts_dimensions_width'] = '__EMPTY__VALUE__'"
   ]
  },
  {
   "cell_type": "code",
   "execution_count": 54,
   "id": "8e2627e1",
   "metadata": {},
   "outputs": [],
   "source": [
    "df_all.loc[df_all['ts_dimensions_height'] == 0, 'ts_dimensions_height'] = '__EMPTY__VALUE__'"
   ]
  },
  {
   "cell_type": "code",
   "execution_count": 56,
   "id": "b86ba161",
   "metadata": {},
   "outputs": [],
   "source": [
    "df_all.loc[df_all['Weight'] == 0, 'Weight'] = '__EMPTY__VALUE__'"
   ]
  },
  {
   "cell_type": "code",
   "execution_count": 10,
   "id": "40aadb38",
   "metadata": {},
   "outputs": [],
   "source": [
    "all_df.loc[all_df['raw_materials'] == '', 'raw_materials'] = '__EMPTY__VALUE__'"
   ]
  },
  {
   "cell_type": "code",
   "execution_count": null,
   "id": "8852be3f",
   "metadata": {},
   "outputs": [],
   "source": []
  },
  {
   "cell_type": "code",
   "execution_count": 29,
   "id": "1f2cea67",
   "metadata": {},
   "outputs": [],
   "source": [
    "df = pd.concat([df, df24], ignore_index=True)\n"
   ]
  },
  {
   "cell_type": "code",
   "execution_count": 45,
   "id": "e9367e21",
   "metadata": {},
   "outputs": [],
   "source": [
    "df = pd.concat([df, df8], ignore_index=True)\n"
   ]
  },
  {
   "cell_type": "code",
   "execution_count": 32,
   "id": "3ea0a4ee",
   "metadata": {},
   "outputs": [],
   "source": [
    "df.drop_duplicates(subset=['sku'], inplace=True)\n"
   ]
  },
  {
   "cell_type": "code",
   "execution_count": 41,
   "id": "19815700",
   "metadata": {},
   "outputs": [
    {
     "data": {
      "text/plain": [
       "0       https://www.youtube.com/embed/8fnWUF6KunU?enab...\n",
       "1       https://www.youtube.com/embed/szRbzB13zdI?enab...\n",
       "2                                       javascript:false;\n",
       "3       https://www.youtube.com/embed/-C7txhyQd00?enab...\n",
       "4       https://www.youtube.com/embed/M2-B_gSSBPI?enab...\n",
       "                              ...                        \n",
       "1872                                    javascript:false;\n",
       "1873                                    javascript:false;\n",
       "1874                                    javascript:false;\n",
       "1875                                    javascript:false;\n",
       "1876                                    javascript:false;\n",
       "Name: video_url, Length: 1856, dtype: object"
      ]
     },
     "execution_count": 41,
     "metadata": {},
     "output_type": "execute_result"
    }
   ],
   "source": [
    "df.loc[df['video_url'] == ' javascript:false;'] = ''"
   ]
  },
  {
   "cell_type": "code",
   "execution_count": null,
   "id": "a7d6372d",
   "metadata": {},
   "outputs": [],
   "source": []
  },
  {
   "cell_type": "code",
   "execution_count": 35,
   "id": "ce779ebb",
   "metadata": {},
   "outputs": [
    {
     "data": {
      "text/plain": [
       "Index(['sku', 'name', 'url_key', 'short_description', 'description',\n",
       "       'free_colors', 'raw_materials', 'ts_dimensions_width',\n",
       "       'ts_dimensions_height', 'ts_dimensions_length', 'Weight', 'base_image',\n",
       "       'small_image', 'swatch_image', 'thumbnail_image', 'additional_images ',\n",
       "       'categories1', 'categories2', 'categories3', 'price', 'special_price',\n",
       "       'visibility', 'tax_class_name', 'Link_url', 'video_url', 'qty',\n",
       "       'out_of_stock_qty', 'is_in_stock', 'product_online', 'allow_backorders',\n",
       "       'manufacturer', 'news_from_date', 'news_to_date', 'product_websites',\n",
       "       'attribute_set_code', 'product_type', 'store_view_code', 'supplier'],\n",
       "      dtype='object')"
      ]
     },
     "execution_count": 35,
     "metadata": {},
     "output_type": "execute_result"
    }
   ],
   "source": [
    "df.columns"
   ]
  },
  {
   "cell_type": "code",
   "execution_count": 53,
   "id": "0ba4e69e",
   "metadata": {},
   "outputs": [],
   "source": [
    "df.loc[df['special_price'] == 0, 'special_price'] = '__EMPTY__VALUE__'"
   ]
  },
  {
   "cell_type": "code",
   "execution_count": 54,
   "id": "dd23175e",
   "metadata": {},
   "outputs": [
    {
     "data": {
      "text/plain": [
       "0       __EMPTY__VALUE__\n",
       "1       __EMPTY__VALUE__\n",
       "2       __EMPTY__VALUE__\n",
       "3       __EMPTY__VALUE__\n",
       "4       __EMPTY__VALUE__\n",
       "              ...       \n",
       "2363    __EMPTY__VALUE__\n",
       "2364    __EMPTY__VALUE__\n",
       "2365    __EMPTY__VALUE__\n",
       "2366    __EMPTY__VALUE__\n",
       "2367    __EMPTY__VALUE__\n",
       "Name: special_price, Length: 2368, dtype: object"
      ]
     },
     "execution_count": 54,
     "metadata": {},
     "output_type": "execute_result"
    }
   ],
   "source": [
    "df['special_price']"
   ]
  },
  {
   "cell_type": "code",
   "execution_count": 57,
   "id": "cddb2888",
   "metadata": {},
   "outputs": [],
   "source": [
    "df_all.to_excel('SageBrook_update2.xlsx')"
   ]
  },
  {
   "cell_type": "code",
   "execution_count": null,
   "id": "a23abcb0",
   "metadata": {},
   "outputs": [],
   "source": []
  },
  {
   "cell_type": "code",
   "execution_count": null,
   "id": "5fb33f3d",
   "metadata": {},
   "outputs": [],
   "source": [
    "df"
   ]
  },
  {
   "cell_type": "code",
   "execution_count": null,
   "id": "3991cdec",
   "metadata": {},
   "outputs": [],
   "source": []
  },
  {
   "cell_type": "code",
   "execution_count": null,
   "id": "291a3247",
   "metadata": {},
   "outputs": [],
   "source": []
  },
  {
   "cell_type": "code",
   "execution_count": null,
   "id": "2ceacf9c",
   "metadata": {},
   "outputs": [],
   "source": []
  },
  {
   "cell_type": "code",
   "execution_count": null,
   "id": "6308ec78",
   "metadata": {},
   "outputs": [],
   "source": []
  },
  {
   "cell_type": "code",
   "execution_count": null,
   "id": "53f9b991",
   "metadata": {},
   "outputs": [],
   "source": []
  },
  {
   "cell_type": "code",
   "execution_count": null,
   "id": "15550f0d",
   "metadata": {},
   "outputs": [],
   "source": []
  },
  {
   "cell_type": "code",
   "execution_count": null,
   "id": "9baa0d22",
   "metadata": {},
   "outputs": [],
   "source": []
  },
  {
   "cell_type": "code",
   "execution_count": null,
   "id": "f2899e3a",
   "metadata": {},
   "outputs": [],
   "source": []
  },
  {
   "cell_type": "code",
   "execution_count": null,
   "id": "714493c7",
   "metadata": {},
   "outputs": [],
   "source": []
  },
  {
   "cell_type": "code",
   "execution_count": null,
   "id": "e9eb60dd",
   "metadata": {},
   "outputs": [],
   "source": []
  }
 ],
 "metadata": {
  "celltoolbar": "Raw Cell Format",
  "kernelspec": {
   "display_name": "Python 3",
   "language": "python",
   "name": "python3"
  },
  "language_info": {
   "codemirror_mode": {
    "name": "ipython",
    "version": 3
   },
   "file_extension": ".py",
   "mimetype": "text/x-python",
   "name": "python",
   "nbconvert_exporter": "python",
   "pygments_lexer": "ipython3",
   "version": "3.8.8"
  },
  "toc": {
   "base_numbering": 1,
   "nav_menu": {},
   "number_sections": true,
   "sideBar": true,
   "skip_h1_title": false,
   "title_cell": "Table of Contents",
   "title_sidebar": "Contents",
   "toc_cell": false,
   "toc_position": {
    "height": "calc(100% - 180px)",
    "left": "10px",
    "top": "150px",
    "width": "352px"
   },
   "toc_section_display": true,
   "toc_window_display": true
  }
 },
 "nbformat": 4,
 "nbformat_minor": 5
}
