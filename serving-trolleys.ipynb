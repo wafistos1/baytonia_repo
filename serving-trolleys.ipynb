{
 "cells": [
  {
   "cell_type": "code",
   "execution_count": 1,
   "metadata": {},
   "outputs": [],
   "source": [
    "#imports here\n",
    "from selenium import webdriver\n",
    "from selenium.webdriver.common.keys import Keys\n",
    "from selenium.webdriver.support import expected_conditions as EC\n",
    "from selenium.webdriver.common.by import By\n",
    "from selenium.webdriver.support.wait import WebDriverWait\n",
    "from selenium.webdriver.firefox.options import Options\n",
    "import time\n",
    "import os\n",
    "from fake_useragent import UserAgent\n",
    "from random import randint"
   ]
  },
  {
   "cell_type": "code",
   "execution_count": null,
   "metadata": {},
   "outputs": [],
   "source": []
  },
  {
   "cell_type": "code",
   "execution_count": null,
   "metadata": {},
   "outputs": [],
   "source": []
  },
  {
   "cell_type": "code",
   "execution_count": null,
   "metadata": {},
   "outputs": [],
   "source": []
  },
  {
   "cell_type": "code",
   "execution_count": null,
   "metadata": {},
   "outputs": [],
   "source": []
  },
  {
   "cell_type": "code",
   "execution_count": 2,
   "metadata": {
    "scrolled": true
   },
   "outputs": [
    {
     "name": "stdout",
     "output_type": "stream",
     "text": [
      "Mozilla/5.0 (Macintosh; Intel Mac OS X 10_8_3) AppleWebKit/537.36 (KHTML, like Gecko) Chrome/54.0.2866.71 Safari/537.36\n"
     ]
    },
    {
     "name": "stderr",
     "output_type": "stream",
     "text": [
      "<ipython-input-2-5315509cced7>:7: DeprecationWarning: use options instead of firefox_options\n",
      "  driver = webdriver.Firefox(firefox_options=options)\n"
     ]
    }
   ],
   "source": [
    "options = Options()\n",
    "ua = UserAgent()\n",
    "userAgent = ua.random\n",
    "print(userAgent)\n",
    "options.add_argument(f'user-agent={userAgent}')\n",
    "#options.add_argument(\"--headless\")\n",
    "driver = webdriver.Firefox(firefox_options=options)\n",
    "#     driver = webdriver.Firefox()\n"
   ]
  },
  {
   "cell_type": "code",
   "execution_count": null,
   "metadata": {},
   "outputs": [],
   "source": []
  },
  {
   "cell_type": "code",
   "execution_count": null,
   "metadata": {},
   "outputs": [],
   "source": []
  },
  {
   "cell_type": "code",
   "execution_count": null,
   "metadata": {},
   "outputs": [],
   "source": []
  },
  {
   "cell_type": "code",
   "execution_count": null,
   "metadata": {},
   "outputs": [],
   "source": []
  },
  {
   "cell_type": "code",
   "execution_count": null,
   "metadata": {},
   "outputs": [],
   "source": []
  },
  {
   "cell_type": "code",
   "execution_count": null,
   "metadata": {},
   "outputs": [],
   "source": []
  },
  {
   "cell_type": "code",
   "execution_count": 3,
   "metadata": {},
   "outputs": [],
   "source": [
    "driver.get(f'https://midasfurniture.com/ksa_ar/accessories/serving-trolleys.html')"
   ]
  },
  {
   "cell_type": "code",
   "execution_count": null,
   "metadata": {},
   "outputs": [],
   "source": []
  },
  {
   "cell_type": "code",
   "execution_count": null,
   "metadata": {},
   "outputs": [],
   "source": []
  },
  {
   "cell_type": "code",
   "execution_count": null,
   "metadata": {},
   "outputs": [],
   "source": []
  },
  {
   "cell_type": "code",
   "execution_count": null,
   "metadata": {},
   "outputs": [],
   "source": []
  },
  {
   "cell_type": "code",
   "execution_count": 5,
   "metadata": {},
   "outputs": [
    {
     "name": "stdout",
     "output_type": "stream",
     "text": [
      "36\n"
     ]
    }
   ],
   "source": [
    "import pandas as pd\n",
    "links_products = []\n",
    "def return_details(value, list_dic):\n",
    "        val = ''\n",
    "        for i in list_dic:\n",
    "            if value in i:\n",
    "                val = i.replace(value, '')\n",
    "        return val\n",
    "for i in range(1, 3):\n",
    "    driver.get(f'https://midasfurniture.com/ksa_ar/accessories/serving-trolleys/page/{i}.html')\n",
    "    \n",
    "    products = driver.find_elements_by_class_name('product-image')\n",
    "    \n",
    "    \n",
    "    #Forloop to get all url products\n",
    "    for product in products:\n",
    "\n",
    "        links_products.append(product.get_attribute('href'))\n",
    "        time.sleep(1)\n",
    "    time.sleep(1)\n",
    "print(len(links_products))"
   ]
  },
  {
   "cell_type": "code",
   "execution_count": null,
   "metadata": {},
   "outputs": [],
   "source": []
  },
  {
   "cell_type": "code",
   "execution_count": null,
   "metadata": {},
   "outputs": [],
   "source": []
  },
  {
   "cell_type": "code",
   "execution_count": null,
   "metadata": {},
   "outputs": [],
   "source": []
  },
  {
   "cell_type": "code",
   "execution_count": null,
   "metadata": {},
   "outputs": [],
   "source": []
  },
  {
   "cell_type": "code",
   "execution_count": null,
   "metadata": {},
   "outputs": [],
   "source": []
  },
  {
   "cell_type": "code",
   "execution_count": null,
   "metadata": {},
   "outputs": [],
   "source": []
  },
  {
   "cell_type": "code",
   "execution_count": null,
   "metadata": {},
   "outputs": [],
   "source": []
  },
  {
   "cell_type": "code",
   "execution_count": null,
   "metadata": {},
   "outputs": [],
   "source": []
  },
  {
   "cell_type": "code",
   "execution_count": null,
   "metadata": {},
   "outputs": [],
   "source": [
    "\n"
   ]
  },
  {
   "cell_type": "code",
   "execution_count": null,
   "metadata": {},
   "outputs": [],
   "source": []
  },
  {
   "cell_type": "code",
   "execution_count": null,
   "metadata": {},
   "outputs": [],
   "source": []
  },
  {
   "cell_type": "code",
   "execution_count": 6,
   "metadata": {},
   "outputs": [
    {
     "name": "stdout",
     "output_type": "stream",
     "text": [
      "Mater    إستانلس ستيل / مراية\n",
      "Detail:     عربة تقديم 1 قطعة\n",
      "Color:     فضى، مراية\n",
      "Size    عربة تقديم * عرض 30 * عمق 50 * ارتفاع 63 سم\n",
      "Style:   معاصر\n",
      "Mater    الإستانلس ستيل / زجاج شفاف\n",
      "Detail:     عربة تقديم 1 قطعة\n",
      "Color:     ذهبى\n",
      "Size \n",
      "Style:   معاصر\n",
      "Cat1: إكسسوارات\n",
      "Mater    إستانلس ستيل / سطحية زجاج شفافة / عجلات دوارة\n",
      "Detail:     عربة تقديم 1 قطعة\n",
      "Color:     ذهبى، شفاف\n",
      "Size    عربة تقديم * عرض 77 * عمق 42 * ارتفاع 77 سم\n",
      "Style:   معاصر\n",
      "Cat1: إكسسوارات\n",
      "Mater    معدن / زجاج\n",
      "Detail:     عربة تقديم 1 قطعة\n",
      "Color:     وردى ذهبى\n",
      "Size    عربة تقديم * عرض 69 * عمق 48 * ارتفاع 86 سم\n",
      "Style:   معاصر\n",
      "Cat1: إكسسوارات\n",
      "Mater    معدن / زجاج مراية\n",
      "Detail:     عربة تقديم 1 قطعة\n",
      "Color:     ذهبى عتيق، شفاف\n",
      "Size    عربة تقديم * عرض 86 * عمق 51 * ارتفاع 89 سم\n",
      "Style:   معاصر\n",
      "Cat1: إكسسوارات\n",
      "Mater    معدن / زجاج\n",
      "Detail:     عربة تقديم 1 قطعة\n",
      "Color:     ذهبى، شفاف\n",
      "Size    عربة تقديم * عرض 84 * عمق 48 * ارتفاع 89 سم\n",
      "Style:   معاصر\n",
      "Cat1: إكسسوارات\n",
      "Mater    خشب مصنع\n",
      "Detail:     عربة تقديم 1 قطعة\n",
      "Color:     أسود\n",
      "Size    عربة تقديم * عرض 65 * عمق 46 * ارتفاع 92 سم\n",
      "Style:   إنتقالى\n",
      "Mater    معدن\n",
      "Detail:     عربة تقديم 1 قطعة\n",
      "Color:     أبيض\n",
      "Size    عربة تقديم * عرض 64 * عمق 27 * ارتفاع 89 سم\n",
      "Style:   إنتقالى\n",
      "Cat1: إكسسوارات\n",
      "Mater    معدن / زجاج\n",
      "Detail:     عربة تقديم 1 قطعة\n",
      "Color:     ذهبى، شفاف\n",
      "Size    عربة تقديم * عرض 90 * عمق 40 * ارتفاع 95 سم\n",
      "Style:   إنتقالى\n",
      "Cat1: إكسسوارات\n",
      "Mater    معدن / زجاج\n",
      "Detail:     عربة تقديم 1 قطعة\n",
      "Color:     ذهبى، شفاف\n",
      "Size    عربة تقديم * عرض 100 * عمق 38 * ارتفاع 84 سم\n",
      "Style:   إنتقالى\n",
      "Cat1: إكسسوارات\n",
      "Mater    خشب مصنع / معدن\n",
      "Detail:     عربة تقديم 1 قطعة\n",
      "Color:     أخضر\n",
      "Size    عربة تقديم * عرض 76 * عمق 35 * ارتفاع 101 سم\n",
      "Style:   إنتقالى\n",
      "Cat1: إكسسوارات\n",
      "Mater    إستانلس ستيل / إكليريك / زجاج مراية\n",
      "Detail:     عربة تقديم عدد 1 قطعة\n",
      "Color:     فضى، شفاف\n",
      "Size    عربة تقديم عرض 81 * عمق 43 * ارتفاع 80 سم\n",
      "Style:   معاصر\n",
      "Cat1: إكسسوارات\n",
      "Mater    خشب مصنع / معدن\n",
      "Detail:     عربة تقديم 1 قطعة\n",
      "Color:     أسود، بنى\n",
      "Size    عربة تقديم * عرض 82 * عمق 38 * ارتفاع 103 سم\n",
      "Style:   إنتقالى\n",
      "Mater    حديد / خشب\n",
      "Detail:     عربة تقديم 1 قطعة\n",
      "Color:     رمادى، أسود\n",
      "Size    عربة تقديم * عرض 80 * عمق 38 * ارتفاع 100 سم\n",
      "Style:   معاصر\n",
      "Cat1: إكسسوارات\n",
      "Mater    حديد / خشب\n",
      "Detail:     عربة تقديم 1 قطعة\n",
      "Color:     بنى داكن، أسود\n",
      "Size    عربة تقديم * عرض 96 * عمق 60 * ارتفاع 90 سم\n",
      "Style:   معاصر\n",
      "Cat1: إكسسوارات\n",
      "Mater \n",
      "Detail:     عربة تقديم 1 قطعة \n",
      "Color:   فضي\n",
      "Size    عربة تقديم * عرض 76 * عمق 41 * ارتفاع 79 سم \n",
      "3\n",
      "3\n",
      "3\n",
      "3\n",
      "3\n",
      "3\n",
      "Style: \n",
      "Cat1: إكسسوارات\n",
      "Mater \n",
      "Detail:     عربة تقديم 1 قطعة \n",
      "Color:   ذهبي\n",
      "Size    عربة تقديم * عرض 86 * عمق 43 * ارتفاع 96 سم \n",
      "3\n",
      "3\n",
      "3\n",
      "3\n",
      "3\n",
      "3\n",
      "Style: \n",
      "Mater \n",
      "Detail:     عربة تقديم 1 قطعة \n",
      "Color:   ذهبي\n",
      "Size    عربة تقديم * عرض 71 * عمق 43 * ارتفاع 81 سم \n",
      "3\n",
      "3\n",
      "3\n",
      "3\n",
      "3\n",
      "3\n",
      "Style: \n",
      "Cat1: إكسسوارات\n",
      "Mater \n",
      "Detail:     عربة تقديم عدد 1 قطعة \n",
      "Color:    بني غامق / أسود \n",
      "Size    عربة تقديم العرض 83 * العمق 44 * الارتفاع 91 سم\n",
      "Style:  إنتقالي \n",
      "Mater \n",
      "Detail:     عربة تقديم عدد 1 قطعة \n",
      "Color:    بني / أسود \n",
      "Size    عربة تقديم العرض 59 * العمق 42 * الارتفاع 80 سم\n",
      "3\n",
      "3\n",
      "3\n",
      "3\n",
      "3\n",
      "3\n",
      "3\n",
      "Style: \n",
      "Cat1: إكسسوارات\n",
      "Mater \n",
      "Detail:     عربة تقديم عدد 1 قطعة\n",
      "Color:   أسود\n",
      "Size    عربة تقديم العرض 54 * العمق 27 * الارتفاع 80 سم\n",
      "3\n",
      "3\n",
      "3\n",
      "3\n",
      "Style: \n",
      "Mater \n",
      "Detail:     عربة للمطبخ عدد 1 قطعة\n",
      "Color:   أبيض\n",
      "Size    عربة للمطبخ العرض 128 * العمق 44 * الارتفاع 90 سم\n",
      "3\n",
      "3\n",
      "3\n",
      "3\n",
      "Style: \n",
      "Cat1: إكسسوارات\n",
      "Mater \n",
      "Detail:   \n",
      "Color:   ذهبي أنتيك\n",
      "Size    عربة تقديم * عرض 83 * عمق 47 * ارتفاع 99 سم \n",
      "3\n",
      "3\n",
      "3\n",
      "3\n",
      "3\n",
      "3\n",
      "3\n",
      "Style: \n",
      "Mater \n",
      "Detail:     عربة تقديم عدد 1 قطعة\n",
      "Color:   برونز\n",
      "Size    عربة تقديم العرض 63 * العمق 45 * الارتفاع 74 سم\n",
      "3\n",
      "3\n",
      "3\n",
      "3\n",
      "Style: \n",
      "Cat1: إكسسوارات\n",
      "Mater \n",
      "Detail:     عربة للمطبخ عدد 1 قطعة\n",
      "Color:   ذهبي\n",
      "Size    عربة للمطبخ العرض 92 * العمق 38 * الارتفاع 93 سم\n",
      "3\n",
      "3\n",
      "3\n",
      "3\n",
      "Style: \n",
      "Cat1: إكسسوارات\n",
      "Mater \n",
      "Detail:     عربة للمطبخ عدد 1 قطعة\n",
      "Color:   ذهبي\n",
      "Size    عربة للمطبخ العرض 70 * العمق 36 * الارتفاع 81 سم\n",
      "3\n",
      "3\n",
      "3\n",
      "3\n",
      "Style: \n",
      "Cat1: إكسسوارات\n",
      "Mater \n",
      "Detail:     عربة تقديم 1 قطعة\n",
      "Color:     ذهبى، ألوان متنوعة\n",
      "Size    عربة تقديم * عرض 83 * عمق 47 * ارتفاع 99 سم\n",
      "Style:   معاصر\n",
      "Mater    إستانلس ستيل / زجاج مراية\n",
      "Detail:     عربة تقديم 1 قطعة\n",
      "Color:     فضى، شفاف\n",
      "Size    عربة تقديم * عرض 77 * عمق 42 * ارتفاع 77 سم\n",
      "Style:   معاصر\n",
      "Mater    خشب مصنع\n",
      "Detail:     عربة تقديم 1 قطعة\n",
      "Color:     بيج\n",
      "Size    عربة تقديم * عرض 56 * عمق 46 * ارتفاع 91 سم\n",
      "Style:   إنتقالى\n"
     ]
    }
   ],
   "source": [
    "count = 0\n",
    "list_images = []\n",
    "list_input_title = []\n",
    "list_input_price = []\n",
    "list_input_images1 = []\n",
    "list_input_images2 = []\n",
    "list_input_images3 = []\n",
    "list_input_images4 = []\n",
    "list_input_price_was = []\n",
    "list_input_model = []\n",
    "list_input_size = []\n",
    "list_input_color = []\n",
    "list_input_sku = []\n",
    "list_input_style = []\n",
    "list_input_in_stock = []\n",
    "list_input_mater = []\n",
    "list_input_link_url = []\n",
    "list_input_category1 = []\n",
    "list_input_category2 = []\n",
    "\n",
    "#ForLoop main\n",
    "for product in links_products:\n",
    "    time.sleep(1)\n",
    "    try:\n",
    "        driver.get(product)\n",
    "        time.sleep(3)\n",
    "    except:\n",
    "        continue\n",
    "    try:\n",
    "        product_name = driver.find_element_by_class_name('product-name').text\n",
    "    \n",
    "        link_url = str(product)\n",
    "\n",
    "        in_stock = driver.find_element_by_class_name('availability').text\n",
    "\n",
    "        sku = driver.find_element_by_class_name('sku').text[4:]\n",
    "\n",
    "        old_price = driver.find_elements_by_class_name('price')[0].get_attribute('innerHTML').replace('SAR', '').replace('\\n', '').replace(' ', '')\n",
    "\n",
    "        price = driver.find_elements_by_class_name('price')[1].get_attribute('innerHTML').replace('SAR', '').replace('\\n', '').replace(' ', '')\n",
    "\n",
    "        combination = driver.find_element_by_class_name('std').text\n",
    "    except:\n",
    "        continue\n",
    "    combination_product_size_list = combination.split('\\n')\n",
    "    combination_product_size_list1 = driver.find_element_by_class_name('std').text.split('\\n\\n')\n",
    "    combination = combination_product_size_list[1].replace('♦', '')\n",
    "    #product_size = combination_product_size_list[4].replace('♦', '')\n",
    "    \n",
    " # CATEGORY  *******************************************   \n",
    " \n",
    "    try:\n",
    "        category1 = driver.find_element_by_class_name('category47').text\n",
    "        print('Cat1:', category1)\n",
    "    except:\n",
    "        category1 = ''\n",
    "    try:\n",
    "        category2 = driver.find_element_by_class_name('category62').text\n",
    "        print('Cat2:', category2)\n",
    "    except:\n",
    "        category2 = ''\n",
    "    \n",
    "    \n",
    "\n",
    "\n",
    " # MATTER  *******************************************   \n",
    "  \n",
    "    mater = return_details('مواد التصنيع', combination_product_size_list1).replace(\"\\n\", \" \").replace(':', '').replace('♦', '')\n",
    "    if mater == '':\n",
    "        for  matter in combination_product_size_list1:\n",
    "            if matter.find('Materials') == 0:\n",
    "                \n",
    "                mater = matter.replace('Materials', '').replace(':', '').replace('♦', '')\n",
    "\n",
    "\n",
    "    print('Mater', mater)\n",
    "# DETAIL  *******************************************   \n",
    "    \n",
    "    detail = return_details('تفاصيل المنتج', combination_product_size_list1).replace(\"\\n\", \" \").replace(':', '').replace('♦', '')\n",
    "    if detail == '':\n",
    "        for dt in combination_product_size_list1:\n",
    "\n",
    "\n",
    "            if dt.find('Combination') == 0:\n",
    "                print('coucou')\n",
    "                detail = dt.replace('♦ ', '').replace('Combination', '').replace(':', '').replace('\\n', '')\n",
    "    print('Detail: ',detail)   \n",
    "# COLOR  *******************************************   \n",
    "\n",
    "    color = return_details('اللون', combination_product_size_list1).replace(\"\\n\", \" \").replace('♦', '').replace(':', '')\n",
    "    if color == '':\n",
    "        # Additional\n",
    "        try:\n",
    "            additional_tabbed = driver.find_element_by_id('product_tabs_additional_tabbed')\n",
    "            additional_tabbed.click()\n",
    "            time.sleep(1)\n",
    "            color = driver.find_element_by_id('product-attribute-specs-table').text.replace('اللون', '')\n",
    "            \n",
    "        except:\n",
    "            color = ''\n",
    "    print('Color: ', color)\n",
    "# SIZE  *******************************************   \n",
    "    size = return_details('حجم المنتج', combination_product_size_list1).replace(\"\\n\", \" \").replace('♦', '').replace(':', '').replace('مصباح طاولة', '').replace('مصباح أرضي', '').replace('مصباح أرضي:', '').replace('ثريا سقف', '')\n",
    "    if size == '':\n",
    "        for size_find in combination_product_size_list1:\n",
    "            if size_find.find('Product Size') == 0:\n",
    "                size = size_find.replace('Product Size', '').replace(':', '').replace('\\n', ''). replace('♦', '').replace('  ', '')\n",
    "    if size.find('Table Lamp') == 0:\n",
    "        size = size.replace('Table Lamp', '')\n",
    "        \n",
    "    print('Size',size)\n",
    "# STYLE  *******************************************   \n",
    "    style = return_details('النوع :', combination_product_size_list1).replace(\"\\n\", \" \").replace('♦', '')\n",
    "\n",
    "    if style == '':\n",
    "        try:\n",
    "\n",
    "\n",
    "            for styl in combination_product_size_list1:\n",
    "                print('3')\n",
    "\n",
    "                if styl.find('Concept') == 0:\n",
    "                    style = styl.replace('Concept :\\n♦', '').replace(':', '').replace('\\n', '')\n",
    "\n",
    "\n",
    "        except:\n",
    "            style = ''\n",
    "    if style.find('نوع المنتج') == 0:\n",
    "        style = style.replace('نوع المنتج', '').replace(':', '')\n",
    "    print('Style:', style)\n",
    "#     price = driver.find_element_by_id(\"product-attribute-specs-table\").text\n",
    "#     print(price)\n",
    "\n",
    "# IMAGES ***************************************************\n",
    "    list_images = []\n",
    "    \n",
    "    \n",
    "    images = driver.find_elements_by_class_name(\"gallery-image\")# 4 images.\n",
    "    for i in images:\n",
    "        list_images.append(i.get_attribute('src'))\n",
    "    list_input_title.append(product_name)\n",
    "    list_input_price.append(price)\n",
    "    list_input_price_was.append(old_price)\n",
    "    list_input_model.append(detail)\n",
    "    list_input_color.append(color)\n",
    "    list_input_size.append(size)\n",
    "    list_input_in_stock.append(in_stock)\n",
    "    list_input_sku.append(sku)\n",
    "    list_input_style.append(style)\n",
    "    list_input_mater.append(mater)\n",
    "    list_input_link_url.append(link_url)\n",
    "    list_input_category1.append(category1)\n",
    "    list_input_category2.append(category2)\n",
    "    try:\n",
    "        list_input_images1.append(list_images[0])\n",
    "    except:\n",
    "        list_input_images1.append('')\n",
    "        \n",
    "    try:\n",
    "        list_input_images2.append(list_images[1])\n",
    "    except:\n",
    "        list_input_images2.append('')\n",
    "        \n",
    "        \n",
    "    try:\n",
    "        list_input_images3.append(list_images[2])\n",
    "    except:\n",
    "        list_input_images3.append('')\n",
    "    try:\n",
    "        list_input_images4.append(list_images[3])\n",
    "    except:\n",
    "        list_input_images4.append('')\n",
    "    #df['Images'] = list_images\n",
    "    \n",
    "df = pd.DataFrame({'Sku': list_input_sku,\n",
    "                    'In Stock': list_input_in_stock,\n",
    "                    'Title': list_input_title,\n",
    "#                    'Price': list_input_price, \n",
    "#                    \"Price was\":list_input_price_was,  \n",
    "#                    'Model': list_input_model, \n",
    "#                    'Color': list_input_color, \n",
    "#                    'size': list_input_size,\n",
    "#                    'Style': list_input_style,\n",
    "#                    'Matter': list_input_mater,\n",
    "                   'Images1': list_input_images1,\n",
    "                   'Images2': list_input_images2,\n",
    "                   'Images3': list_input_images3,\n",
    "                   'Images4': list_input_images4,\n",
    "                   'Link url': list_input_link_url,\n",
    "#                    'Category1': list_input_category1,\n",
    "#                    'Category2': list_input_category2,\n",
    "\n",
    "                  })\n",
    "#     new_df = pd.concat([df])\n",
    "df.to_excel( 'resultserving_trolleys.xlsx', index = True)\n",
    "    \n",
    "    \n",
    "    \n",
    "    \n",
    "    \n",
    "    \n",
    "    "
   ]
  },
  {
   "cell_type": "code",
   "execution_count": null,
   "metadata": {},
   "outputs": [],
   "source": []
  },
  {
   "cell_type": "code",
   "execution_count": null,
   "metadata": {},
   "outputs": [],
   "source": []
  },
  {
   "cell_type": "code",
   "execution_count": null,
   "metadata": {},
   "outputs": [],
   "source": []
  },
  {
   "cell_type": "code",
   "execution_count": null,
   "metadata": {},
   "outputs": [],
   "source": []
  },
  {
   "cell_type": "code",
   "execution_count": 85,
   "metadata": {},
   "outputs": [],
   "source": [
    "#data = pd.read_excel(\"resultMidasLight.xlsx\")"
   ]
  },
  {
   "cell_type": "code",
   "execution_count": 141,
   "metadata": {},
   "outputs": [],
   "source": [
    "data_colum_check = ['size', ]\n"
   ]
  },
  {
   "cell_type": "code",
   "execution_count": null,
   "metadata": {},
   "outputs": [],
   "source": []
  },
  {
   "cell_type": "code",
   "execution_count": null,
   "metadata": {},
   "outputs": [],
   "source": []
  },
  {
   "cell_type": "code",
   "execution_count": null,
   "metadata": {},
   "outputs": [],
   "source": []
  },
  {
   "cell_type": "code",
   "execution_count": 142,
   "metadata": {},
   "outputs": [],
   "source": [
    "df[data_colum_check] = df[data_colum_check].replace({'عربة':''}, regex=True).replace({'تقديم':''}, regex=True).replace({'للمطبخ':''}, regex=True).replace({'تمثال':''}, regex=True).replace({'فنى':''}, regex=True).replace({'تحفة':''}, regex=True).replace({'فنية':''}, regex=True).replace({'قطعة':''}, regex=True).replace({'ديكور':''}, regex=True).replace({'/':' '}, regex=True).replace({'على':''}, regex=True).replace({'شكل':''}, regex=True).replace({'مسند':''}, regex=True).replace({'طاووس':''}, regex=True).replace({'مسند':''}, regex=True).replace({'اكسسوارات':''}, regex=True).replace({'متنوعة':''}, regex=True).replace({'مسند':''}, regex=True).replace({'جمل':''}, regex=True).replace({'مفتاح':''}, regex=True).replace({'كتب':''}, regex=True).replace({'حامل':''}, regex=True).replace({'ببغاء':''}, regex=True).replace({'مصباح':''}, regex=True).replace({'يد':''}, regex=True)"
   ]
  },
  {
   "cell_type": "code",
   "execution_count": null,
   "metadata": {},
   "outputs": [],
   "source": []
  },
  {
   "cell_type": "code",
   "execution_count": null,
   "metadata": {},
   "outputs": [],
   "source": []
  },
  {
   "cell_type": "code",
   "execution_count": null,
   "metadata": {},
   "outputs": [],
   "source": []
  },
  {
   "cell_type": "code",
   "execution_count": null,
   "metadata": {},
   "outputs": [],
   "source": []
  },
  {
   "cell_type": "code",
   "execution_count": null,
   "metadata": {},
   "outputs": [],
   "source": []
  },
  {
   "cell_type": "code",
   "execution_count": 143,
   "metadata": {},
   "outputs": [],
   "source": [
    "df.to_excel( 'result4-1.xlsx',  index=1)"
   ]
  },
  {
   "cell_type": "code",
   "execution_count": null,
   "metadata": {},
   "outputs": [],
   "source": []
  },
  {
   "cell_type": "code",
   "execution_count": null,
   "metadata": {},
   "outputs": [],
   "source": []
  },
  {
   "cell_type": "code",
   "execution_count": null,
   "metadata": {},
   "outputs": [],
   "source": [
    "df[data_colum_check] = df[data_colum_check].replace({'مسند':''}, regex=True).replace({'طاووس':''}, regex=True).replace({'مسند':''}, regex=True).replace({'اكسسوارات':''}, regex=True).replace({'متنوعة':''}, regex=True).replace({'مسند':''}, regex=True).replace({'جمل':''}, regex=True).replace({'مفتاح':''}, regex=True).replace({'كتب':''}, regex=True).replace({'حامل':''}, regex=True)"
   ]
  },
  {
   "cell_type": "code",
   "execution_count": 119,
   "metadata": {},
   "outputs": [],
   "source": [
    "toto = df.drop('In Stock',\n",
    "  axis='columns', inplace=True)"
   ]
  },
  {
   "cell_type": "code",
   "execution_count": null,
   "metadata": {},
   "outputs": [],
   "source": []
  },
  {
   "cell_type": "code",
   "execution_count": null,
   "metadata": {},
   "outputs": [],
   "source": []
  },
  {
   "cell_type": "code",
   "execution_count": null,
   "metadata": {},
   "outputs": [],
   "source": []
  },
  {
   "cell_type": "code",
   "execution_count": null,
   "metadata": {},
   "outputs": [],
   "source": []
  },
  {
   "cell_type": "code",
   "execution_count": 66,
   "metadata": {},
   "outputs": [],
   "source": [
    "combination = driver.find_element_by_class_name('std').text\n",
    "    \n",
    "combination_product_size_list = combination.split('\\n')\n",
    "combination_product_size_list1 = driver.find_element_by_class_name('std').text.split('\\n\\n')"
   ]
  },
  {
   "cell_type": "code",
   "execution_count": 74,
   "metadata": {},
   "outputs": [
    {
     "data": {
      "text/plain": [
       "['Combination :\\n♦ مصباح طاولة عدد 1 قطعة',\n",
       " 'Product Size :\\n♦ مصباح طاولة: عرض 35 * عمق 35 * ارتفاع 63 سم']"
      ]
     },
     "execution_count": 74,
     "metadata": {},
     "output_type": "execute_result"
    }
   ],
   "source": [
    "combination_product_size_list1"
   ]
  },
  {
   "cell_type": "code",
   "execution_count": null,
   "metadata": {},
   "outputs": [],
   "source": []
  },
  {
   "cell_type": "code",
   "execution_count": 72,
   "metadata": {},
   "outputs": [
    {
     "name": "stdout",
     "output_type": "stream",
     "text": [
      " عرض 35 * عمق 35 * ارتفاع 63 سم\n"
     ]
    }
   ],
   "source": [
    "size = return_details('حجم المنتج', combination_product_size_list1).replace(\"\\n\", \" \").replace('♦', '').replace(':', '').replace('مصباح طاولة', '').replace('مصباح أرضي', '').replace('مصباح أرضي:', '').replace('ثريا سقف', '')\n",
    "if size == '':\n",
    "    for size_find in combination_product_size_list1:\n",
    "        if size_find.find('Product Size') == 0:\n",
    "            size = size_find.replace('Product Size', '').replace(':', '').replace('\\n', ''). replace('♦', '').replace('  ', '')\n",
    "if size.find('Table Lamp') == 0:\n",
    "    size = size.replace('Table Lamp', '')\n",
    "if size.find('مصباح طاولة') == 0:\n",
    "    size = size.replace('مصباح طاولة', '')\n",
    "if size.find('مصباح أرضي') == 0:\n",
    "    size = size.replace('مصباح أرضي', '')\n",
    "if size.find('مصباح سقف') == 0:\n",
    "    size = size.replace('مصباح سقف', '')\n",
    "if size.find('مصباح حائط') == 0:\n",
    "    size = size.replace('مصباح حائط', '')\n",
    "if size.find('/معلقة/ ثريا ') == 0:\n",
    "    size = size.replace('/معلقة/ ثريا', '')\n",
    "print(size)"
   ]
  },
  {
   "cell_type": "code",
   "execution_count": null,
   "metadata": {},
   "outputs": [],
   "source": []
  },
  {
   "cell_type": "code",
   "execution_count": null,
   "metadata": {},
   "outputs": [],
   "source": []
  },
  {
   "cell_type": "code",
   "execution_count": 82,
   "metadata": {},
   "outputs": [
    {
     "name": "stdout",
     "output_type": "stream",
     "text": [
      "1\n",
      "style1 \n",
      "2\n",
      "3\n",
      "3\n",
      "Style: \n"
     ]
    }
   ],
   "source": [
    "style = return_details('النوع :', combination_product_size_list1).replace(\"\\n\", \" \").replace('♦', '')\n",
    "\n",
    "if style == '':\n",
    "    try:\n",
    "\n",
    "        \n",
    "        for styl in combination_product_size_list1:\n",
    "            print('3')\n",
    "            \n",
    "            if styl.find('Concept') == 0:\n",
    "                style = styl.replace('Concept :\\n♦', '').replace(':', '').replace('\\n', '')\n",
    "                \n",
    "\n",
    "    except:\n",
    "        style = ''\n",
    "if style.find('نوع المنتج') == 0:\n",
    "    style = style.replace('نوع المنتج', '').replace(':', '')\n",
    "print('Style:', style)"
   ]
  },
  {
   "cell_type": "code",
   "execution_count": null,
   "metadata": {},
   "outputs": [],
   "source": []
  },
  {
   "cell_type": "code",
   "execution_count": null,
   "metadata": {},
   "outputs": [],
   "source": []
  },
  {
   "cell_type": "code",
   "execution_count": null,
   "metadata": {},
   "outputs": [],
   "source": []
  },
  {
   "cell_type": "code",
   "execution_count": 64,
   "metadata": {},
   "outputs": [
    {
     "name": "stdout",
     "output_type": "stream",
     "text": [
      "Mater \n"
     ]
    }
   ],
   "source": [
    "mater = return_details('مواد التصنيع', combination_product_size_list1).replace(\"\\n\", \" \").replace(':', '').replace('♦', '')\n",
    "if mater == '':\n",
    "    for  matter in combination_product_size_list1:\n",
    "        if matter.find('Materials') == 0:\n",
    "\n",
    "            mater = matter.replace('Materials', '').replace(':', '').replace('♦', '')\n",
    "\n",
    "\n",
    "print('Mater', mater)"
   ]
  },
  {
   "cell_type": "code",
   "execution_count": null,
   "metadata": {},
   "outputs": [],
   "source": []
  },
  {
   "cell_type": "code",
   "execution_count": null,
   "metadata": {},
   "outputs": [],
   "source": []
  },
  {
   "cell_type": "code",
   "execution_count": null,
   "metadata": {},
   "outputs": [],
   "source": []
  },
  {
   "cell_type": "code",
   "execution_count": null,
   "metadata": {},
   "outputs": [],
   "source": []
  },
  {
   "cell_type": "code",
   "execution_count": null,
   "metadata": {},
   "outputs": [],
   "source": []
  },
  {
   "cell_type": "code",
   "execution_count": null,
   "metadata": {},
   "outputs": [],
   "source": []
  },
  {
   "cell_type": "code",
   "execution_count": null,
   "metadata": {},
   "outputs": [],
   "source": []
  },
  {
   "cell_type": "code",
   "execution_count": null,
   "metadata": {},
   "outputs": [],
   "source": []
  },
  {
   "cell_type": "code",
   "execution_count": null,
   "metadata": {},
   "outputs": [],
   "source": []
  },
  {
   "cell_type": "code",
   "execution_count": 44,
   "metadata": {},
   "outputs": [
    {
     "data": {
      "text/plain": [
       "['الصفحة', 'الرئيسية', 'MARISKA', 'TABLE', 'LAMP']"
      ]
     },
     "execution_count": 44,
     "metadata": {},
     "output_type": "execute_result"
    }
   ],
   "source": [
    "category"
   ]
  },
  {
   "cell_type": "code",
   "execution_count": null,
   "metadata": {},
   "outputs": [],
   "source": []
  },
  {
   "cell_type": "code",
   "execution_count": null,
   "metadata": {},
   "outputs": [],
   "source": []
  },
  {
   "cell_type": "code",
   "execution_count": null,
   "metadata": {},
   "outputs": [],
   "source": []
  },
  {
   "cell_type": "code",
   "execution_count": 40,
   "metadata": {},
   "outputs": [
    {
     "name": "stdout",
     "output_type": "stream",
     "text": [
      "إكسسوارات الإضاءة\n"
     ]
    }
   ],
   "source": [
    "category_1 = category[1]\n",
    "category_2 = category[2]\n",
    "print(category_1, category_2)"
   ]
  },
  {
   "cell_type": "code",
   "execution_count": null,
   "metadata": {},
   "outputs": [],
   "source": []
  },
  {
   "cell_type": "code",
   "execution_count": null,
   "metadata": {},
   "outputs": [],
   "source": []
  },
  {
   "cell_type": "code",
   "execution_count": null,
   "metadata": {},
   "outputs": [],
   "source": []
  },
  {
   "cell_type": "code",
   "execution_count": null,
   "metadata": {},
   "outputs": [],
   "source": []
  },
  {
   "cell_type": "code",
   "execution_count": null,
   "metadata": {},
   "outputs": [],
   "source": []
  },
  {
   "cell_type": "code",
   "execution_count": 30,
   "metadata": {},
   "outputs": [
    {
     "data": {
      "text/plain": [
       "['الوصف : مصباح طاولة',\n",
       " 'تفاصيل المنتج :\\n♦ مصباح طاولة 1 قطعة',\n",
       " 'حجم المنتج :\\n♦ مصباح طاولة * عرض 40 * عمق 40 * ارتفاع 67 سم',\n",
       " 'اللون :\\n♦ ذهبى، أبيض',\n",
       " 'النوع :\\n♦ معاصر']"
      ]
     },
     "execution_count": 30,
     "metadata": {},
     "output_type": "execute_result"
    }
   ],
   "source": [
    "combination_product_size_list1"
   ]
  },
  {
   "cell_type": "code",
   "execution_count": 34,
   "metadata": {},
   "outputs": [
    {
     "name": "stdout",
     "output_type": "stream",
     "text": [
      "Detail:     مصباح طاولة 1 قطعة\n"
     ]
    }
   ],
   "source": [
    "detail = return_details('تفاصيل المنتج', combination_product_size_list1).replace(\"\\n\", \" \").replace(':', '').replace('♦', '')\n",
    "if detail == '':\n",
    "    for dt in combination_product_size_list1:\n",
    "\n",
    "\n",
    "        if dt.find('Combination') == 0:\n",
    "            print('coucou')\n",
    "            detail = dt.replace('♦ ', '').replace('Combination', '').replace(':', '').replace('\\n', '')\n",
    "print('Detail: ',detail) "
   ]
  },
  {
   "cell_type": "code",
   "execution_count": null,
   "metadata": {},
   "outputs": [],
   "source": []
  },
  {
   "cell_type": "code",
   "execution_count": null,
   "metadata": {},
   "outputs": [],
   "source": []
  },
  {
   "cell_type": "code",
   "execution_count": null,
   "metadata": {},
   "outputs": [],
   "source": []
  },
  {
   "cell_type": "code",
   "execution_count": null,
   "metadata": {},
   "outputs": [],
   "source": []
  },
  {
   "cell_type": "code",
   "execution_count": null,
   "metadata": {},
   "outputs": [],
   "source": []
  },
  {
   "cell_type": "code",
   "execution_count": 25,
   "metadata": {},
   "outputs": [
    {
     "name": "stdout",
     "output_type": "stream",
     "text": [
      "Size Table Lamp * W34 * D34 * H80 CM\n"
     ]
    }
   ],
   "source": [
    "\n",
    "size = return_details('حجم المنتج', combination_product_size_list1).replace(\"\\n\", \" \").replace('♦', '').replace(':', '').replace('مصباح طاولة', '').replace('مصباح أرضي', '').replace('مصباح أرضي:', '').replace('ثريا سقف', '')\n",
    "if size == '':\n",
    "    for size_find in combination_product_size_list1:\n",
    "        if size_find.find('Product Size') == 0:\n",
    "            size = size_find.replace('Product Size', '').replace(':', '').replace('\\n', ''). replace('♦', '').replace('  ', '')\n",
    "\n",
    "print('Size',size)"
   ]
  },
  {
   "cell_type": "code",
   "execution_count": null,
   "metadata": {},
   "outputs": [],
   "source": []
  },
  {
   "cell_type": "code",
   "execution_count": null,
   "metadata": {},
   "outputs": [],
   "source": []
  },
  {
   "cell_type": "code",
   "execution_count": null,
   "metadata": {},
   "outputs": [],
   "source": []
  },
  {
   "cell_type": "code",
   "execution_count": null,
   "metadata": {},
   "outputs": [],
   "source": []
  },
  {
   "cell_type": "code",
   "execution_count": null,
   "metadata": {},
   "outputs": [],
   "source": []
  },
  {
   "cell_type": "code",
   "execution_count": 18,
   "metadata": {},
   "outputs": [
    {
     "name": "stdout",
     "output_type": "stream",
     "text": [
      "coucou\n",
      " Table Lamp 1 PCS\n"
     ]
    }
   ],
   "source": [
    "detail = return_details('الوصف', combination_product_size_list1).replace(\"\\n\", \" \").replace('♦', '')\n",
    "if detail == '':\n",
    "    for dt in combination_product_size_list1:\n",
    "        \n",
    "        \n",
    "        if dt.find('Combination') == 0:\n",
    "            print('coucou')\n",
    "            detail = dt.replace('♦ ', '').replace('Combination', '').replace(':', '').replace('\\n', '')\n",
    "print(detail)  "
   ]
  },
  {
   "cell_type": "code",
   "execution_count": null,
   "metadata": {},
   "outputs": [],
   "source": []
  },
  {
   "cell_type": "code",
   "execution_count": null,
   "metadata": {},
   "outputs": [],
   "source": []
  },
  {
   "cell_type": "code",
   "execution_count": null,
   "metadata": {},
   "outputs": [],
   "source": []
  },
  {
   "cell_type": "code",
   "execution_count": null,
   "metadata": {},
   "outputs": [],
   "source": []
  },
  {
   "cell_type": "code",
   "execution_count": null,
   "metadata": {},
   "outputs": [],
   "source": []
  },
  {
   "cell_type": "code",
   "execution_count": null,
   "metadata": {},
   "outputs": [],
   "source": []
  },
  {
   "cell_type": "code",
   "execution_count": null,
   "metadata": {},
   "outputs": [],
   "source": []
  },
  {
   "cell_type": "code",
   "execution_count": null,
   "metadata": {},
   "outputs": [],
   "source": []
  },
  {
   "cell_type": "code",
   "execution_count": null,
   "metadata": {},
   "outputs": [],
   "source": []
  },
  {
   "cell_type": "code",
   "execution_count": null,
   "metadata": {},
   "outputs": [],
   "source": []
  },
  {
   "cell_type": "code",
   "execution_count": 424,
   "metadata": {},
   "outputs": [
    {
     "name": "stdout",
     "output_type": "stream",
     "text": [
      "TTTT \n",
      "couccou\n",
      "Mater  \n",
      " Metal\n"
     ]
    }
   ],
   "source": [
    "mater = return_details('مواد التصنيع', combination_product_size_list1).replace(\"\\n\", \" \").replace(':', '').replace('♦', '')\n",
    "print('TTTT', mater)\n",
    "if mater == '':\n",
    "    try:\n",
    "        for  matter in combination_product_size_list1:\n",
    "            if matter.find('Materials') == 0:\n",
    "                print('couccou')\n",
    "                mater = matter.replace('Materials', '').replace(':', '').replace('♦', '')\n",
    "                \n",
    "\n",
    "    except:\n",
    "        mater = ''\n",
    "print('Mater', mater)\n",
    "# DETAIL  ********************"
   ]
  },
  {
   "cell_type": "code",
   "execution_count": null,
   "metadata": {},
   "outputs": [],
   "source": []
  },
  {
   "cell_type": "code",
   "execution_count": null,
   "metadata": {},
   "outputs": [],
   "source": []
  },
  {
   "cell_type": "code",
   "execution_count": null,
   "metadata": {},
   "outputs": [],
   "source": []
  },
  {
   "cell_type": "code",
   "execution_count": null,
   "metadata": {},
   "outputs": [],
   "source": []
  },
  {
   "cell_type": "code",
   "execution_count": null,
   "metadata": {},
   "outputs": [],
   "source": []
  },
  {
   "cell_type": "code",
   "execution_count": null,
   "metadata": {},
   "outputs": [],
   "source": []
  },
  {
   "cell_type": "code",
   "execution_count": null,
   "metadata": {},
   "outputs": [],
   "source": []
  },
  {
   "cell_type": "code",
   "execution_count": null,
   "metadata": {},
   "outputs": [],
   "source": []
  },
  {
   "cell_type": "code",
   "execution_count": null,
   "metadata": {},
   "outputs": [],
   "source": []
  },
  {
   "cell_type": "code",
   "execution_count": null,
   "metadata": {},
   "outputs": [],
   "source": []
  },
  {
   "cell_type": "code",
   "execution_count": null,
   "metadata": {},
   "outputs": [],
   "source": []
  },
  {
   "cell_type": "code",
   "execution_count": null,
   "metadata": {},
   "outputs": [],
   "source": []
  },
  {
   "cell_type": "code",
   "execution_count": null,
   "metadata": {},
   "outputs": [],
   "source": []
  },
  {
   "cell_type": "code",
   "execution_count": null,
   "metadata": {},
   "outputs": [],
   "source": []
  },
  {
   "cell_type": "code",
   "execution_count": null,
   "metadata": {},
   "outputs": [],
   "source": []
  },
  {
   "cell_type": "code",
   "execution_count": 389,
   "metadata": {},
   "outputs": [
    {
     "data": {
      "text/plain": [
       "['Overview : StyleCraft Jane Seymour Westlake Table Lamp with round self fabric trimmed and round base',\n",
       " 'Combination :\\n♦ Table Lamp 1 PCS',\n",
       " 'Product Size :\\n♦ Table Lamp * W38 * D43 * H78 CM',\n",
       " 'Materials :\\n♦ Metal',\n",
       " 'Concept :\\n♦ Contemporary',\n",
       " 'Color :\\n♦ Cream',\n",
       " ' ']"
      ]
     },
     "execution_count": 389,
     "metadata": {},
     "output_type": "execute_result"
    }
   ],
   "source": [
    "combination_product_size_list1"
   ]
  },
  {
   "cell_type": "code",
   "execution_count": null,
   "metadata": {},
   "outputs": [],
   "source": []
  },
  {
   "cell_type": "code",
   "execution_count": null,
   "metadata": {},
   "outputs": [],
   "source": []
  },
  {
   "cell_type": "code",
   "execution_count": null,
   "metadata": {},
   "outputs": [],
   "source": []
  },
  {
   "cell_type": "code",
   "execution_count": null,
   "metadata": {},
   "outputs": [],
   "source": []
  },
  {
   "cell_type": "code",
   "execution_count": null,
   "metadata": {},
   "outputs": [],
   "source": []
  },
  {
   "cell_type": "code",
   "execution_count": null,
   "metadata": {},
   "outputs": [],
   "source": []
  },
  {
   "cell_type": "code",
   "execution_count": 375,
   "metadata": {},
   "outputs": [
    {
     "data": {
      "text/plain": [
       "'Metal'"
      ]
     },
     "execution_count": 375,
     "metadata": {},
     "output_type": "execute_result"
    }
   ],
   "source": [
    "size = combination_product_size_list1[3].replace('Materials :\\n♦ ', '')\n",
    "size"
   ]
  },
  {
   "cell_type": "code",
   "execution_count": null,
   "metadata": {},
   "outputs": [],
   "source": []
  },
  {
   "cell_type": "code",
   "execution_count": null,
   "metadata": {},
   "outputs": [],
   "source": []
  },
  {
   "cell_type": "code",
   "execution_count": null,
   "metadata": {},
   "outputs": [],
   "source": [
    "s"
   ]
  },
  {
   "cell_type": "code",
   "execution_count": null,
   "metadata": {},
   "outputs": [],
   "source": []
  },
  {
   "cell_type": "code",
   "execution_count": null,
   "metadata": {},
   "outputs": [],
   "source": []
  },
  {
   "cell_type": "code",
   "execution_count": null,
   "metadata": {},
   "outputs": [],
   "source": []
  },
  {
   "cell_type": "code",
   "execution_count": null,
   "metadata": {},
   "outputs": [],
   "source": []
  },
  {
   "cell_type": "code",
   "execution_count": 368,
   "metadata": {},
   "outputs": [
    {
     "data": {
      "text/plain": [
       "'* W38 * D49 * H101 CM'"
      ]
     },
     "execution_count": 368,
     "metadata": {},
     "output_type": "execute_result"
    }
   ],
   "source": [
    "size"
   ]
  },
  {
   "cell_type": "code",
   "execution_count": null,
   "metadata": {},
   "outputs": [],
   "source": []
  },
  {
   "cell_type": "code",
   "execution_count": null,
   "metadata": {},
   "outputs": [],
   "source": []
  },
  {
   "cell_type": "code",
   "execution_count": null,
   "metadata": {},
   "outputs": [],
   "source": []
  },
  {
   "cell_type": "code",
   "execution_count": 327,
   "metadata": {},
   "outputs": [
    {
     "data": {
      "text/plain": [
       "'Gold'"
      ]
     },
     "execution_count": 327,
     "metadata": {},
     "output_type": "execute_result"
    }
   ],
   "source": [
    "mater"
   ]
  },
  {
   "cell_type": "code",
   "execution_count": null,
   "metadata": {},
   "outputs": [],
   "source": []
  },
  {
   "cell_type": "code",
   "execution_count": null,
   "metadata": {},
   "outputs": [],
   "source": []
  },
  {
   "cell_type": "code",
   "execution_count": null,
   "metadata": {},
   "outputs": [],
   "source": []
  },
  {
   "cell_type": "code",
   "execution_count": 317,
   "metadata": {},
   "outputs": [
    {
     "data": {
      "text/plain": [
       "' Contemporary'"
      ]
     },
     "execution_count": 317,
     "metadata": {},
     "output_type": "execute_result"
    }
   ],
   "source": [
    "size"
   ]
  },
  {
   "cell_type": "code",
   "execution_count": null,
   "metadata": {},
   "outputs": [],
   "source": []
  },
  {
   "cell_type": "code",
   "execution_count": null,
   "metadata": {},
   "outputs": [],
   "source": []
  },
  {
   "cell_type": "code",
   "execution_count": 301,
   "metadata": {},
   "outputs": [
    {
     "data": {
      "text/plain": [
       "'Description  Table Lamp'"
      ]
     },
     "execution_count": 301,
     "metadata": {},
     "output_type": "execute_result"
    }
   ],
   "source": [
    "detail\n"
   ]
  },
  {
   "cell_type": "code",
   "execution_count": null,
   "metadata": {},
   "outputs": [],
   "source": []
  },
  {
   "cell_type": "code",
   "execution_count": null,
   "metadata": {},
   "outputs": [],
   "source": []
  },
  {
   "cell_type": "code",
   "execution_count": 288,
   "metadata": {},
   "outputs": [],
   "source": [
    "detail = driver.find_elements_by_class_name('std')[0].text.split('\\n')"
   ]
  },
  {
   "cell_type": "code",
   "execution_count": 294,
   "metadata": {},
   "outputs": [
    {
     "data": {
      "text/plain": [
       "'تفاصيل المنتج '"
      ]
     },
     "execution_count": 294,
     "metadata": {},
     "output_type": "execute_result"
    }
   ],
   "source": [
    "detail[2].replace('♦', '').replace(':', '')"
   ]
  },
  {
   "cell_type": "code",
   "execution_count": null,
   "metadata": {},
   "outputs": [],
   "source": []
  },
  {
   "cell_type": "code",
   "execution_count": 293,
   "metadata": {},
   "outputs": [
    {
     "data": {
      "text/plain": [
       "'تفاصيل المنتج  مصباح سقف 1 قطعة'"
      ]
     },
     "execution_count": 293,
     "metadata": {},
     "output_type": "execute_result"
    }
   ],
   "source": [
    "combination_product_size_list1[1].replace('Combination', '').replace(':', '').replace('♦', '').replace('\\n', '')"
   ]
  },
  {
   "cell_type": "code",
   "execution_count": null,
   "metadata": {},
   "outputs": [],
   "source": []
  },
  {
   "cell_type": "code",
   "execution_count": null,
   "metadata": {},
   "outputs": [],
   "source": []
  },
  {
   "cell_type": "code",
   "execution_count": null,
   "metadata": {},
   "outputs": [],
   "source": []
  },
  {
   "cell_type": "code",
   "execution_count": null,
   "metadata": {},
   "outputs": [],
   "source": []
  },
  {
   "cell_type": "code",
   "execution_count": 289,
   "metadata": {},
   "outputs": [
    {
     "data": {
      "text/plain": [
       "['وصف المنتج : مصباح سقف',\n",
       " '',\n",
       " 'تفاصيل المنتج :',\n",
       " '♦ مصباح سقف 1 قطعة',\n",
       " '',\n",
       " 'حجم المنتج :',\n",
       " '♦ مصباح سقف * عرض 96 * عمق * ارتفاع 70 سم',\n",
       " '',\n",
       " 'مواد التصنيع :',\n",
       " '♦ معدن / زجاج',\n",
       " '',\n",
       " 'اللون :',\n",
       " '♦ ذهبى, أبيض',\n",
       " '',\n",
       " 'النوع :',\n",
       " '♦ معاصر']"
      ]
     },
     "execution_count": 289,
     "metadata": {},
     "output_type": "execute_result"
    }
   ],
   "source": [
    "detail"
   ]
  },
  {
   "cell_type": "code",
   "execution_count": null,
   "metadata": {},
   "outputs": [],
   "source": []
  },
  {
   "cell_type": "code",
   "execution_count": null,
   "metadata": {},
   "outputs": [],
   "source": []
  },
  {
   "cell_type": "code",
   "execution_count": null,
   "metadata": {},
   "outputs": [],
   "source": []
  },
  {
   "cell_type": "code",
   "execution_count": null,
   "metadata": {},
   "outputs": [],
   "source": []
  },
  {
   "cell_type": "code",
   "execution_count": null,
   "metadata": {},
   "outputs": [],
   "source": []
  },
  {
   "cell_type": "code",
   "execution_count": null,
   "metadata": {},
   "outputs": [],
   "source": []
  },
  {
   "cell_type": "code",
   "execution_count": 246,
   "metadata": {},
   "outputs": [],
   "source": [
    "price = driver.find_elements_by_class_name('price')[0].get_attribute('innerHTML').replace('SAR', '').replace('\\n', '').replace(' ', '')"
   ]
  },
  {
   "cell_type": "code",
   "execution_count": 276,
   "metadata": {},
   "outputs": [
    {
     "name": "stdout",
     "output_type": "stream",
     "text": [
      "['Overview : The gracefully curved StyleCraft Jane Table Lamp features a filigree design in Bellevue silver finish and clear acrylic base. A flared white fabric hardback shade and filigree finial add the finishing touches to this table lamp.', 'Combination :\\n♦ Table Lamp 1 PCS', 'Product Size :\\n♦ Table Lamp * W38 * D49 * H101 CM', 'Concept :\\n♦ Contemporary', 'Color :\\n♦ Cream', ' ']\n"
     ]
    }
   ],
   "source": [
    "combination_product_size_list1 = driver.find_element_by_class_name('std').text.split('\\n\\n')\n",
    "print(combination)"
   ]
  },
  {
   "cell_type": "code",
   "execution_count": null,
   "metadata": {},
   "outputs": [],
   "source": []
  },
  {
   "cell_type": "code",
   "execution_count": 274,
   "metadata": {},
   "outputs": [
    {
     "name": "stdout",
     "output_type": "stream",
     "text": [
      " \n",
      " Table Lamp 1 PCS\n"
     ]
    }
   ],
   "source": [
    "detail = combination[1].replace('Combination', '').replace(':', '').replace('♦', '')\n",
    "print(detail)"
   ]
  },
  {
   "cell_type": "code",
   "execution_count": 281,
   "metadata": {},
   "outputs": [
    {
     "data": {
      "text/plain": [
       "'  Table Lamp 1 PCS'"
      ]
     },
     "execution_count": 281,
     "metadata": {},
     "output_type": "execute_result"
    }
   ],
   "source": [
    "combination_product_size_list1[1].replace('Combination', '').replace(':', '').replace('♦', '').replace('\\n', '')"
   ]
  },
  {
   "cell_type": "code",
   "execution_count": null,
   "metadata": {},
   "outputs": [],
   "source": []
  },
  {
   "cell_type": "code",
   "execution_count": null,
   "metadata": {},
   "outputs": [],
   "source": []
  },
  {
   "cell_type": "code",
   "execution_count": null,
   "metadata": {},
   "outputs": [],
   "source": []
  },
  {
   "cell_type": "code",
   "execution_count": null,
   "metadata": {},
   "outputs": [],
   "source": []
  },
  {
   "cell_type": "code",
   "execution_count": null,
   "metadata": {},
   "outputs": [],
   "source": []
  },
  {
   "cell_type": "code",
   "execution_count": null,
   "metadata": {},
   "outputs": [],
   "source": []
  },
  {
   "cell_type": "code",
   "execution_count": null,
   "metadata": {},
   "outputs": [],
   "source": []
  },
  {
   "cell_type": "code",
   "execution_count": null,
   "metadata": {},
   "outputs": [],
   "source": []
  },
  {
   "cell_type": "code",
   "execution_count": null,
   "metadata": {},
   "outputs": [],
   "source": []
  },
  {
   "cell_type": "code",
   "execution_count": null,
   "metadata": {},
   "outputs": [],
   "source": []
  },
  {
   "cell_type": "code",
   "execution_count": 270,
   "metadata": {},
   "outputs": [
    {
     "name": "stdout",
     "output_type": "stream",
     "text": [
      "['Overview : The gracefully curved StyleCraft Jane Table Lamp features a filigree design in Bellevue silver finish and clear acrylic base. A flared white fabric hardback shade and filigree finial add the finishing touches to this table lamp.', '', 'Combination :', '♦ Table Lamp 1 PCS', '', 'Product Size :', '♦ Table Lamp * W38 * D49 * H101 CM', '', 'Concept :', '♦ Contemporary', '', 'Color :', '♦ Cream', '', ' ']\n"
     ]
    }
   ],
   "source": [
    "size = driver.find_element_by_class_name('std').text.split('\\n')\n",
    "print(size)"
   ]
  },
  {
   "cell_type": "code",
   "execution_count": null,
   "metadata": {},
   "outputs": [],
   "source": []
  },
  {
   "cell_type": "code",
   "execution_count": null,
   "metadata": {},
   "outputs": [],
   "source": [
    "s"
   ]
  },
  {
   "cell_type": "code",
   "execution_count": null,
   "metadata": {},
   "outputs": [],
   "source": []
  },
  {
   "cell_type": "code",
   "execution_count": null,
   "metadata": {},
   "outputs": [],
   "source": []
  },
  {
   "cell_type": "code",
   "execution_count": null,
   "metadata": {},
   "outputs": [],
   "source": []
  },
  {
   "cell_type": "code",
   "execution_count": 266,
   "metadata": {},
   "outputs": [],
   "source": [
    "size = size[6].replace('♦', '').replace('Table Lamp', '')\n"
   ]
  },
  {
   "cell_type": "code",
   "execution_count": null,
   "metadata": {},
   "outputs": [],
   "source": []
  },
  {
   "cell_type": "code",
   "execution_count": null,
   "metadata": {},
   "outputs": [],
   "source": []
  },
  {
   "cell_type": "code",
   "execution_count": null,
   "metadata": {},
   "outputs": [],
   "source": []
  },
  {
   "cell_type": "code",
   "execution_count": null,
   "metadata": {},
   "outputs": [],
   "source": []
  },
  {
   "cell_type": "code",
   "execution_count": 263,
   "metadata": {},
   "outputs": [
    {
     "data": {
      "text/plain": [
       "'  * W38 * D43 * H78 CM'"
      ]
     },
     "execution_count": 263,
     "metadata": {},
     "output_type": "execute_result"
    }
   ],
   "source": [
    "size"
   ]
  },
  {
   "cell_type": "code",
   "execution_count": null,
   "metadata": {},
   "outputs": [],
   "source": []
  },
  {
   "cell_type": "code",
   "execution_count": null,
   "metadata": {},
   "outputs": [],
   "source": []
  },
  {
   "cell_type": "code",
   "execution_count": null,
   "metadata": {},
   "outputs": [],
   "source": []
  },
  {
   "cell_type": "code",
   "execution_count": null,
   "metadata": {},
   "outputs": [],
   "source": []
  },
  {
   "cell_type": "code",
   "execution_count": null,
   "metadata": {},
   "outputs": [],
   "source": []
  },
  {
   "cell_type": "code",
   "execution_count": null,
   "metadata": {},
   "outputs": [],
   "source": []
  },
  {
   "cell_type": "code",
   "execution_count": null,
   "metadata": {},
   "outputs": [],
   "source": []
  },
  {
   "cell_type": "code",
   "execution_count": null,
   "metadata": {},
   "outputs": [],
   "source": []
  },
  {
   "cell_type": "code",
   "execution_count": null,
   "metadata": {},
   "outputs": [],
   "source": []
  },
  {
   "cell_type": "code",
   "execution_count": null,
   "metadata": {},
   "outputs": [],
   "source": []
  },
  {
   "cell_type": "code",
   "execution_count": 247,
   "metadata": {},
   "outputs": [
    {
     "data": {
      "text/plain": [
       "'675.00'"
      ]
     },
     "execution_count": 247,
     "metadata": {},
     "output_type": "execute_result"
    }
   ],
   "source": [
    "price"
   ]
  },
  {
   "cell_type": "code",
   "execution_count": null,
   "metadata": {},
   "outputs": [],
   "source": []
  },
  {
   "cell_type": "code",
   "execution_count": null,
   "metadata": {},
   "outputs": [],
   "source": []
  },
  {
   "cell_type": "code",
   "execution_count": null,
   "metadata": {},
   "outputs": [],
   "source": []
  },
  {
   "cell_type": "code",
   "execution_count": null,
   "metadata": {},
   "outputs": [],
   "source": []
  },
  {
   "cell_type": "code",
   "execution_count": null,
   "metadata": {},
   "outputs": [],
   "source": []
  },
  {
   "cell_type": "code",
   "execution_count": null,
   "metadata": {},
   "outputs": [],
   "source": []
  },
  {
   "cell_type": "code",
   "execution_count": 229,
   "metadata": {},
   "outputs": [
    {
     "name": "stdout",
     "output_type": "stream",
     "text": [
      "   زجاج / معدن\n"
     ]
    }
   ],
   "source": [
    "combination_product_size_list1 = driver.find_element_by_class_name('std').text.split('\\n\\n')\n",
    "\n",
    "mater = return_details('مواد التصنيع', combination_product_size_list1).replace(\"\\n\", \" \").replace('♦', '').replace(':', '')\n",
    "print(mater)"
   ]
  },
  {
   "cell_type": "code",
   "execution_count": 230,
   "metadata": {},
   "outputs": [],
   "source": [
    "size = driver.find_elements_by_class_name('std')[0].text.split('\\n')\n"
   ]
  },
  {
   "cell_type": "code",
   "execution_count": 231,
   "metadata": {},
   "outputs": [
    {
     "data": {
      "text/plain": [
       "['الوصف : مصباح طاولة ',\n",
       " '',\n",
       " 'تفاصيل المنتج :',\n",
       " '♦ مصباح طاولة 1 قطعة',\n",
       " '',\n",
       " 'حجم المنتج :',\n",
       " '♦ مصباح طاولة * عرض 40 * عمق 40 * ارتفاع 64 سم',\n",
       " '',\n",
       " 'اللون :',\n",
       " '♦ ذهبى، أبيض',\n",
       " '',\n",
       " 'النوع :',\n",
       " '♦ معاصر']"
      ]
     },
     "execution_count": 231,
     "metadata": {},
     "output_type": "execute_result"
    }
   ],
   "source": [
    "size\n"
   ]
  },
  {
   "cell_type": "code",
   "execution_count": 234,
   "metadata": {},
   "outputs": [],
   "source": [
    "size = return_details('حجم المنتج', combination_product_size_list1).replace(\"\\n\", \" \").replace('♦', '').replace(':', '').replace('مصباح طاولة', '')\n"
   ]
  },
  {
   "cell_type": "code",
   "execution_count": null,
   "metadata": {},
   "outputs": [],
   "source": []
  },
  {
   "cell_type": "code",
   "execution_count": 235,
   "metadata": {},
   "outputs": [
    {
     "data": {
      "text/plain": [
       "'    * عرض 38 * عمق 38 * ارتفاع 71 سم'"
      ]
     },
     "execution_count": 235,
     "metadata": {},
     "output_type": "execute_result"
    }
   ],
   "source": [
    "size"
   ]
  },
  {
   "cell_type": "code",
   "execution_count": null,
   "metadata": {},
   "outputs": [],
   "source": []
  },
  {
   "cell_type": "code",
   "execution_count": null,
   "metadata": {},
   "outputs": [],
   "source": []
  },
  {
   "cell_type": "code",
   "execution_count": null,
   "metadata": {},
   "outputs": [],
   "source": []
  },
  {
   "cell_type": "code",
   "execution_count": null,
   "metadata": {},
   "outputs": [],
   "source": []
  },
  {
   "cell_type": "code",
   "execution_count": null,
   "metadata": {},
   "outputs": [],
   "source": []
  },
  {
   "cell_type": "code",
   "execution_count": null,
   "metadata": {},
   "outputs": [],
   "source": []
  },
  {
   "cell_type": "code",
   "execution_count": null,
   "metadata": {},
   "outputs": [],
   "source": []
  },
  {
   "cell_type": "code",
   "execution_count": 216,
   "metadata": {},
   "outputs": [
    {
     "data": {
      "text/plain": [
       "'\\n363.75 SAR '"
      ]
     },
     "execution_count": 216,
     "metadata": {},
     "output_type": "execute_result"
    }
   ],
   "source": [
    "\n",
    "driver.find_elements_by_class_name('price')[1].get_attribute('innerHTML')"
   ]
  },
  {
   "cell_type": "code",
   "execution_count": 224,
   "metadata": {},
   "outputs": [
    {
     "name": "stdout",
     "output_type": "stream",
     "text": [
      "الوصف : مصباح طاولة \n",
      "\n",
      "تفاصيل المنتج :\n",
      "♦ مصباح طاولة 1 قطعة\n",
      "\n",
      "حجم المنتج :\n",
      "♦ مصباح طاولة * عرض 38 * عمق 38 * ارتفاع 71 سم\n",
      "\n",
      "مواد التصنيع :\n",
      "♦ زجاج / معدن\n",
      "\n",
      "اللون :\n",
      "♦ ذهبى، أسود\n",
      "\n",
      "النوع :\n",
      "♦ معاصر\n"
     ]
    }
   ],
   "source": [
    "combination = driver.find_element_by_class_name('std').text\n",
    "print(combination)"
   ]
  },
  {
   "cell_type": "code",
   "execution_count": null,
   "metadata": {},
   "outputs": [],
   "source": []
  },
  {
   "cell_type": "code",
   "execution_count": null,
   "metadata": {},
   "outputs": [],
   "source": []
  },
  {
   "cell_type": "code",
   "execution_count": null,
   "metadata": {},
   "outputs": [],
   "source": []
  },
  {
   "cell_type": "code",
   "execution_count": 209,
   "metadata": {},
   "outputs": [],
   "source": [
    "size = driver.find_elements_by_class_name('std')[0].text.split('\\n')"
   ]
  },
  {
   "cell_type": "code",
   "execution_count": 210,
   "metadata": {},
   "outputs": [
    {
     "data": {
      "text/plain": [
       "['مصباح طاولة عدد 1 قطعة', '', '', 'العرض 38 * العمق 38 * الارتفاع 61 سم']"
      ]
     },
     "execution_count": 210,
     "metadata": {},
     "output_type": "execute_result"
    }
   ],
   "source": [
    "size"
   ]
  },
  {
   "cell_type": "code",
   "execution_count": 212,
   "metadata": {},
   "outputs": [
    {
     "data": {
      "text/plain": [
       "'العرض 38 * العمق 38 * الارتفاع 61 سم'"
      ]
     },
     "execution_count": 212,
     "metadata": {},
     "output_type": "execute_result"
    }
   ],
   "source": [
    "size[3]"
   ]
  },
  {
   "cell_type": "code",
   "execution_count": null,
   "metadata": {},
   "outputs": [],
   "source": []
  },
  {
   "cell_type": "code",
   "execution_count": null,
   "metadata": {},
   "outputs": [],
   "source": []
  },
  {
   "cell_type": "code",
   "execution_count": null,
   "metadata": {},
   "outputs": [],
   "source": []
  },
  {
   "cell_type": "code",
   "execution_count": null,
   "metadata": {},
   "outputs": [],
   "source": []
  },
  {
   "cell_type": "code",
   "execution_count": null,
   "metadata": {},
   "outputs": [],
   "source": []
  },
  {
   "cell_type": "code",
   "execution_count": null,
   "metadata": {},
   "outputs": [],
   "source": []
  },
  {
   "cell_type": "code",
   "execution_count": null,
   "metadata": {},
   "outputs": [],
   "source": []
  },
  {
   "cell_type": "code",
   "execution_count": null,
   "metadata": {},
   "outputs": [],
   "source": []
  },
  {
   "cell_type": "code",
   "execution_count": null,
   "metadata": {},
   "outputs": [],
   "source": []
  },
  {
   "cell_type": "code",
   "execution_count": null,
   "metadata": {},
   "outputs": [],
   "source": []
  },
  {
   "cell_type": "code",
   "execution_count": 156,
   "metadata": {},
   "outputs": [],
   "source": [
    "detail = return_details('Combination', combination_product_size_list).replace(\"\\n\", \" \").replace('♦', '')"
   ]
  },
  {
   "cell_type": "code",
   "execution_count": 159,
   "metadata": {},
   "outputs": [
    {
     "name": "stdout",
     "output_type": "stream",
     "text": [
      "Combination :\n",
      "♦ مصباح طاولة عدد 1 قطعة\n",
      "\n",
      "Product Size :\n",
      "♦ مصباح طاولة: عرض 35 * عمق 35 * ارتفاع 63 سم\n"
     ]
    }
   ],
   "source": [
    "print(driver.find_elements_by_class_name('std')[0].text)"
   ]
  },
  {
   "cell_type": "code",
   "execution_count": 177,
   "metadata": {},
   "outputs": [
    {
     "name": "stdout",
     "output_type": "stream",
     "text": [
      " عرض 35 * عمق 35 * ارتفاع 63 سم\n"
     ]
    }
   ],
   "source": [
    "detail = driver.find_elements_by_class_name('std')[0].text.split('\\n')\n",
    "print(detail[4].replace('♦ مصباح طاولة:', ''))"
   ]
  },
  {
   "cell_type": "code",
   "execution_count": 180,
   "metadata": {},
   "outputs": [],
   "source": [
    "olor = return_details('اللون', combination_product_size_list).replace(\"\\n\", \" \").replace('♦', '')"
   ]
  },
  {
   "cell_type": "code",
   "execution_count": 181,
   "metadata": {},
   "outputs": [
    {
     "data": {
      "text/plain": [
       "['Combination :',\n",
       " '♦ مصباح طاولة عدد 1 قطعة',\n",
       " '',\n",
       " 'Product Size :',\n",
       " '♦ مصباح طاولة: عرض 35 * عمق 35 * ارتفاع 63 سم']"
      ]
     },
     "execution_count": 181,
     "metadata": {},
     "output_type": "execute_result"
    }
   ],
   "source": [
    "combination_product_size_list"
   ]
  },
  {
   "cell_type": "code",
   "execution_count": null,
   "metadata": {},
   "outputs": [],
   "source": []
  },
  {
   "cell_type": "code",
   "execution_count": null,
   "metadata": {},
   "outputs": [],
   "source": []
  },
  {
   "cell_type": "code",
   "execution_count": 182,
   "metadata": {},
   "outputs": [],
   "source": [
    "combination = driver.find_element_by_class_name('std').text\n",
    "    \n",
    "combination_product_size_list = combination.split('\\n')"
   ]
  },
  {
   "cell_type": "code",
   "execution_count": 183,
   "metadata": {},
   "outputs": [
    {
     "data": {
      "text/plain": [
       "['نظرة عامة : أضئ منزلك بجمال هذا المصباح الرائع',\n",
       " '',\n",
       " 'الوصف : مصباح طاولة ',\n",
       " '',\n",
       " 'تفاصيل المنتج :',\n",
       " '♦ مصباح طاولة 1 قطعة',\n",
       " '',\n",
       " 'حجم المنتج :',\n",
       " '♦ مصباح طاولة * عرض 36 * عمق 36 * ارتفاع 68 سم',\n",
       " '',\n",
       " 'اللون :',\n",
       " '♦ ذهبى',\n",
       " '',\n",
       " 'النوع :',\n",
       " '♦ كلاسيكى']"
      ]
     },
     "execution_count": 183,
     "metadata": {},
     "output_type": "execute_result"
    }
   ],
   "source": [
    "combination_product_size_list"
   ]
  },
  {
   "cell_type": "code",
   "execution_count": null,
   "metadata": {},
   "outputs": [],
   "source": []
  },
  {
   "cell_type": "code",
   "execution_count": null,
   "metadata": {},
   "outputs": [],
   "source": []
  },
  {
   "cell_type": "code",
   "execution_count": null,
   "metadata": {},
   "outputs": [],
   "source": []
  },
  {
   "cell_type": "code",
   "execution_count": null,
   "metadata": {},
   "outputs": [],
   "source": []
  },
  {
   "cell_type": "code",
   "execution_count": null,
   "metadata": {},
   "outputs": [],
   "source": []
  },
  {
   "cell_type": "code",
   "execution_count": 193,
   "metadata": {},
   "outputs": [],
   "source": [
    "combination_product_size_list = driver.find_element_by_class_name('std').text.split('\\n\\n')"
   ]
  },
  {
   "cell_type": "code",
   "execution_count": null,
   "metadata": {},
   "outputs": [],
   "source": []
  },
  {
   "cell_type": "code",
   "execution_count": null,
   "metadata": {},
   "outputs": [],
   "source": []
  },
  {
   "cell_type": "code",
   "execution_count": null,
   "metadata": {},
   "outputs": [],
   "source": []
  },
  {
   "cell_type": "code",
   "execution_count": null,
   "metadata": {},
   "outputs": [],
   "source": []
  },
  {
   "cell_type": "code",
   "execution_count": null,
   "metadata": {},
   "outputs": [],
   "source": []
  },
  {
   "cell_type": "code",
   "execution_count": 194,
   "metadata": {},
   "outputs": [
    {
     "data": {
      "text/plain": [
       "' :\\n♦ ذهبى'"
      ]
     },
     "execution_count": 194,
     "metadata": {},
     "output_type": "execute_result"
    }
   ],
   "source": [
    "return_details('اللون', combination_product_size_list)"
   ]
  },
  {
   "cell_type": "code",
   "execution_count": null,
   "metadata": {},
   "outputs": [],
   "source": []
  },
  {
   "cell_type": "code",
   "execution_count": null,
   "metadata": {},
   "outputs": [],
   "source": []
  },
  {
   "cell_type": "code",
   "execution_count": 187,
   "metadata": {},
   "outputs": [
    {
     "name": "stdout",
     "output_type": "stream",
     "text": [
      "اللون :\n"
     ]
    }
   ],
   "source": [
    "for i in combination_product_size_list:\n",
    "    if 'اللون' in i:\n",
    "        print(i)"
   ]
  },
  {
   "cell_type": "code",
   "execution_count": null,
   "metadata": {},
   "outputs": [],
   "source": []
  },
  {
   "cell_type": "code",
   "execution_count": null,
   "metadata": {},
   "outputs": [],
   "source": []
  },
  {
   "cell_type": "code",
   "execution_count": null,
   "metadata": {},
   "outputs": [],
   "source": []
  },
  {
   "cell_type": "code",
   "execution_count": null,
   "metadata": {},
   "outputs": [],
   "source": []
  },
  {
   "cell_type": "code",
   "execution_count": null,
   "metadata": {},
   "outputs": [],
   "source": []
  },
  {
   "cell_type": "code",
   "execution_count": null,
   "metadata": {},
   "outputs": [],
   "source": []
  },
  {
   "cell_type": "code",
   "execution_count": 165,
   "metadata": {},
   "outputs": [
    {
     "data": {
      "text/plain": [
       "'Combination :\\n♦ مصباح طاولة عدد 1 قطعة\\n\\nProduct Size :\\n♦ مصباح طاولة: عرض 35 * عمق 35 * ارتفاع 63 سم'"
      ]
     },
     "execution_count": 165,
     "metadata": {},
     "output_type": "execute_result"
    }
   ],
   "source": [
    "driver.find_elements_by_class_name('std')[0].text"
   ]
  },
  {
   "cell_type": "code",
   "execution_count": null,
   "metadata": {},
   "outputs": [],
   "source": []
  },
  {
   "cell_type": "code",
   "execution_count": null,
   "metadata": {},
   "outputs": [],
   "source": []
  },
  {
   "cell_type": "code",
   "execution_count": null,
   "metadata": {},
   "outputs": [],
   "source": []
  },
  {
   "cell_type": "code",
   "execution_count": 161,
   "metadata": {},
   "outputs": [
    {
     "data": {
      "text/plain": [
       "''"
      ]
     },
     "execution_count": 161,
     "metadata": {},
     "output_type": "execute_result"
    }
   ],
   "source": [
    "detail"
   ]
  },
  {
   "cell_type": "code",
   "execution_count": null,
   "metadata": {},
   "outputs": [],
   "source": []
  },
  {
   "cell_type": "code",
   "execution_count": null,
   "metadata": {},
   "outputs": [],
   "source": []
  },
  {
   "cell_type": "code",
   "execution_count": null,
   "metadata": {},
   "outputs": [],
   "source": []
  },
  {
   "cell_type": "code",
   "execution_count": 157,
   "metadata": {},
   "outputs": [
    {
     "data": {
      "text/plain": [
       "' :'"
      ]
     },
     "execution_count": 157,
     "metadata": {},
     "output_type": "execute_result"
    }
   ],
   "source": [
    "detail"
   ]
  },
  {
   "cell_type": "code",
   "execution_count": null,
   "metadata": {},
   "outputs": [],
   "source": []
  },
  {
   "cell_type": "code",
   "execution_count": null,
   "metadata": {},
   "outputs": [],
   "source": []
  },
  {
   "cell_type": "code",
   "execution_count": null,
   "metadata": {},
   "outputs": [],
   "source": []
  },
  {
   "cell_type": "code",
   "execution_count": null,
   "metadata": {},
   "outputs": [],
   "source": []
  },
  {
   "cell_type": "code",
   "execution_count": null,
   "metadata": {},
   "outputs": [],
   "source": []
  },
  {
   "cell_type": "code",
   "execution_count": null,
   "metadata": {},
   "outputs": [],
   "source": []
  },
  {
   "cell_type": "code",
   "execution_count": null,
   "metadata": {},
   "outputs": [],
   "source": []
  },
  {
   "cell_type": "code",
   "execution_count": 198,
   "metadata": {},
   "outputs": [
    {
     "name": "stdout",
     "output_type": "stream",
     "text": [
      "اللون ذهبي\n"
     ]
    }
   ],
   "source": [
    "# Additional\n",
    "try:\n",
    "    additional_tabbed = driver.find_element_by_id('product_tabs_additional_tabbed')\n",
    "    additional_tabbed.click()\n",
    "    time.sleep(1)\n",
    "    addi = driver.find_element_by_id('product-attribute-specs-table').text\n",
    "    print(addi)\n",
    "except:\n",
    "    addi = ''"
   ]
  },
  {
   "cell_type": "code",
   "execution_count": null,
   "metadata": {},
   "outputs": [],
   "source": []
  },
  {
   "cell_type": "code",
   "execution_count": null,
   "metadata": {},
   "outputs": [],
   "source": []
  },
  {
   "cell_type": "code",
   "execution_count": null,
   "metadata": {},
   "outputs": [],
   "source": []
  },
  {
   "cell_type": "code",
   "execution_count": 72,
   "metadata": {},
   "outputs": [
    {
     "name": "stdout",
     "output_type": "stream",
     "text": [
      "اللون أبيض\n"
     ]
    }
   ],
   "source": [
    "# Additional\n",
    "try:\n",
    "    additional_description = driver.find_element_by_id('product_tabs_description_tabbed')\n",
    "    additional_description.click()\n",
    "    time.sleep(1)\n",
    "    discr = driver.find_element_by_id('product_tabs_description_tabbed_contents').text\n",
    "    print(addi)\n",
    "except:\n",
    "    discr = ''"
   ]
  },
  {
   "cell_type": "code",
   "execution_count": 74,
   "metadata": {},
   "outputs": [
    {
     "name": "stdout",
     "output_type": "stream",
     "text": [
      "الوصف : مصباح طاولة \n",
      "\n",
      "تفاصيل المنتج :\n",
      "♦ مصباح طاولة 1 قطعة\n",
      "\n",
      "حجم المنتج :\n",
      "♦ مصباح طاولة * عرض 42 * عمق 28 * ارتفاع 69 سم\n",
      "\n",
      "اللون :\n",
      "♦ أبيض، ذهبى\n",
      "\n",
      "النوع :\n",
      "♦ معاصر\n"
     ]
    }
   ],
   "source": [
    "combination = driver.find_element_by_class_name('std').text\n",
    "print(combination)"
   ]
  },
  {
   "cell_type": "code",
   "execution_count": 80,
   "metadata": {},
   "outputs": [],
   "source": [
    "combination_product_size_list = combination.split('\\n\\n')"
   ]
  },
  {
   "cell_type": "code",
   "execution_count": null,
   "metadata": {},
   "outputs": [],
   "source": []
  },
  {
   "cell_type": "code",
   "execution_count": 81,
   "metadata": {},
   "outputs": [
    {
     "data": {
      "text/plain": [
       "['الوصف : مصباح طاولة ',\n",
       " 'تفاصيل المنتج :\\n♦ مصباح طاولة 1 قطعة',\n",
       " 'حجم المنتج :\\n♦ مصباح طاولة * عرض 42 * عمق 28 * ارتفاع 69 سم',\n",
       " 'اللون :\\n♦ أبيض، ذهبى',\n",
       " 'النوع :\\n♦ معاصر']"
      ]
     },
     "execution_count": 81,
     "metadata": {},
     "output_type": "execute_result"
    }
   ],
   "source": [
    "combination_product_size_list"
   ]
  },
  {
   "cell_type": "code",
   "execution_count": null,
   "metadata": {},
   "outputs": [],
   "source": []
  },
  {
   "cell_type": "code",
   "execution_count": 86,
   "metadata": {},
   "outputs": [
    {
     "name": "stdout",
     "output_type": "stream",
     "text": [
      "\n",
      "♦ مصباح طاولة * عرض 42 * عمق 28 * ارتفاع 69 سم\n"
     ]
    }
   ],
   "source": [
    "for i in combination_product_size_list:\n",
    "    if 'حجم المنتج :' in i:\n",
    "        print(i.replace('حجم المنتج :', ''))\n",
    "    "
   ]
  },
  {
   "cell_type": "code",
   "execution_count": 100,
   "metadata": {},
   "outputs": [],
   "source": [
    "def return_details(value, list_dic):\n",
    "    val = ''\n",
    "    for i in list_dic:\n",
    "        if value in i:\n",
    "            val = i.replace(value, '').repalce(\"!@#$%^&*()[]{};:,./<>?\\|`~-=_+♦\\n\", \" \")\n",
    "    return val"
   ]
  },
  {
   "cell_type": "code",
   "execution_count": null,
   "metadata": {},
   "outputs": [],
   "source": []
  },
  {
   "cell_type": "code",
   "execution_count": null,
   "metadata": {},
   "outputs": [],
   "source": []
  },
  {
   "cell_type": "code",
   "execution_count": 94,
   "metadata": {},
   "outputs": [
    {
     "data": {
      "text/plain": [
       "['الوصف : مصباح طاولة ',\n",
       " 'تفاصيل المنتج :\\n♦ مصباح طاولة 1 قطعة',\n",
       " 'حجم المنتج :\\n♦ مصباح طاولة * عرض 42 * عمق 28 * ارتفاع 69 سم',\n",
       " 'اللون :\\n♦ أبيض، ذهبى',\n",
       " 'النوع :\\n♦ معاصر']"
      ]
     },
     "execution_count": 94,
     "metadata": {},
     "output_type": "execute_result"
    }
   ],
   "source": [
    "combination_product_size_list"
   ]
  },
  {
   "cell_type": "code",
   "execution_count": null,
   "metadata": {},
   "outputs": [],
   "source": []
  },
  {
   "cell_type": "code",
   "execution_count": null,
   "metadata": {},
   "outputs": [],
   "source": []
  },
  {
   "cell_type": "code",
   "execution_count": 112,
   "metadata": {},
   "outputs": [],
   "source": [
    "detail = return_details('الوصف :', combination_product_size_list).replace(\"\\n\", \" \").replace('♦', '')"
   ]
  },
  {
   "cell_type": "code",
   "execution_count": 92,
   "metadata": {},
   "outputs": [],
   "source": [
    "size = return_details('حجم المنتج :', combination_product_size_list).replace(\"\\n\", \" \").replace('♦', '')"
   ]
  },
  {
   "cell_type": "code",
   "execution_count": 120,
   "metadata": {},
   "outputs": [],
   "source": [
    "color = return_details('اللون :', combination_product_size_list).replace(\"\\n\", \" \").replace('♦', '')"
   ]
  },
  {
   "cell_type": "code",
   "execution_count": 122,
   "metadata": {},
   "outputs": [],
   "source": [
    "style = return_details('النوع :', combination_product_size_list).replace(\"\\n\", \" \").replace('♦', '')"
   ]
  },
  {
   "cell_type": "code",
   "execution_count": 123,
   "metadata": {},
   "outputs": [
    {
     "data": {
      "text/plain": [
       "'  معاصر'"
      ]
     },
     "execution_count": 123,
     "metadata": {},
     "output_type": "execute_result"
    }
   ],
   "source": []
  },
  {
   "cell_type": "code",
   "execution_count": null,
   "metadata": {},
   "outputs": [],
   "source": []
  },
  {
   "cell_type": "code",
   "execution_count": null,
   "metadata": {},
   "outputs": [],
   "source": []
  },
  {
   "cell_type": "code",
   "execution_count": null,
   "metadata": {},
   "outputs": [],
   "source": []
  },
  {
   "cell_type": "code",
   "execution_count": null,
   "metadata": {},
   "outputs": [],
   "source": []
  },
  {
   "cell_type": "code",
   "execution_count": 121,
   "metadata": {},
   "outputs": [
    {
     "data": {
      "text/plain": [
       "'  أبيض، ذهبى'"
      ]
     },
     "execution_count": 121,
     "metadata": {},
     "output_type": "execute_result"
    }
   ],
   "source": [
    "color"
   ]
  },
  {
   "cell_type": "code",
   "execution_count": null,
   "metadata": {},
   "outputs": [],
   "source": []
  },
  {
   "cell_type": "code",
   "execution_count": null,
   "metadata": {},
   "outputs": [],
   "source": []
  },
  {
   "cell_type": "code",
   "execution_count": null,
   "metadata": {},
   "outputs": [],
   "source": []
  },
  {
   "cell_type": "code",
   "execution_count": null,
   "metadata": {},
   "outputs": [],
   "source": []
  },
  {
   "cell_type": "code",
   "execution_count": 79,
   "metadata": {},
   "outputs": [
    {
     "data": {
      "text/plain": [
       "'الوصف : مصباح طاولة \\n\\nتفاصيل المنتج :\\n♦ مصباح طاولة 1 قطعة\\n\\nحجم المنتج :\\n♦ مصباح طاولة * عرض 42 * عمق 28 * ارتفاع 69 سم\\n\\nاللون :\\n♦ أبيض، ذهبى\\n\\nالنوع :\\n♦ معاصر'"
      ]
     },
     "execution_count": 79,
     "metadata": {},
     "output_type": "execute_result"
    }
   ],
   "source": [
    "combination"
   ]
  },
  {
   "cell_type": "code",
   "execution_count": null,
   "metadata": {},
   "outputs": [],
   "source": []
  },
  {
   "cell_type": "code",
   "execution_count": null,
   "metadata": {},
   "outputs": [],
   "source": []
  },
  {
   "cell_type": "code",
   "execution_count": null,
   "metadata": {},
   "outputs": [],
   "source": []
  },
  {
   "cell_type": "code",
   "execution_count": null,
   "metadata": {},
   "outputs": [],
   "source": []
  },
  {
   "cell_type": "code",
   "execution_count": null,
   "metadata": {},
   "outputs": [],
   "source": []
  },
  {
   "cell_type": "code",
   "execution_count": null,
   "metadata": {},
   "outputs": [],
   "source": []
  },
  {
   "cell_type": "code",
   "execution_count": null,
   "metadata": {},
   "outputs": [],
   "source": []
  },
  {
   "cell_type": "code",
   "execution_count": null,
   "metadata": {},
   "outputs": [],
   "source": []
  },
  {
   "cell_type": "code",
   "execution_count": null,
   "metadata": {},
   "outputs": [],
   "source": []
  },
  {
   "cell_type": "code",
   "execution_count": null,
   "metadata": {},
   "outputs": [],
   "source": []
  },
  {
   "cell_type": "code",
   "execution_count": null,
   "metadata": {},
   "outputs": [],
   "source": []
  },
  {
   "cell_type": "code",
   "execution_count": 5,
   "metadata": {},
   "outputs": [],
   "source": []
  },
  {
   "cell_type": "code",
   "execution_count": 10,
   "metadata": {},
   "outputs": [
    {
     "name": "stdout",
     "output_type": "stream",
     "text": [
      "27\n"
     ]
    }
   ],
   "source": []
  },
  {
   "cell_type": "code",
   "execution_count": 12,
   "metadata": {},
   "outputs": [],
   "source": [
    "\n",
    "    "
   ]
  },
  {
   "cell_type": "code",
   "execution_count": 15,
   "metadata": {},
   "outputs": [],
   "source": []
  },
  {
   "cell_type": "code",
   "execution_count": 17,
   "metadata": {},
   "outputs": [
    {
     "name": "stdout",
     "output_type": "stream",
     "text": [
      "فيلا\n"
     ]
    }
   ],
   "source": []
  },
  {
   "cell_type": "code",
   "execution_count": 20,
   "metadata": {},
   "outputs": [
    {
     "name": "stdout",
     "output_type": "stream",
     "text": [
      "7901\n"
     ]
    }
   ],
   "source": []
  },
  {
   "cell_type": "code",
   "execution_count": 31,
   "metadata": {},
   "outputs": [
    {
     "name": "stdout",
     "output_type": "stream",
     "text": [
      "\n",
      "450.00 SAR \n"
     ]
    }
   ],
   "source": []
  },
  {
   "cell_type": "code",
   "execution_count": 33,
   "metadata": {},
   "outputs": [
    {
     "name": "stdout",
     "output_type": "stream",
     "text": [
      "\n",
      "337.50 SAR \n"
     ]
    }
   ],
   "source": []
  },
  {
   "cell_type": "code",
   "execution_count": 40,
   "metadata": {},
   "outputs": [
    {
     "name": "stdout",
     "output_type": "stream",
     "text": [
      "['Combination :', '♦ مصباح طاولة عدد 1 قطعة', '', 'Product Size :', '♦ مصباح طاولة: عرض 37 * عمق 37 * ارتفاع 62 سم']\n"
     ]
    }
   ],
   "source": []
  },
  {
   "cell_type": "code",
   "execution_count": null,
   "metadata": {},
   "outputs": [],
   "source": []
  },
  {
   "cell_type": "code",
   "execution_count": null,
   "metadata": {},
   "outputs": [],
   "source": []
  },
  {
   "cell_type": "code",
   "execution_count": 42,
   "metadata": {},
   "outputs": [],
   "source": []
  },
  {
   "cell_type": "code",
   "execution_count": null,
   "metadata": {},
   "outputs": [],
   "source": []
  },
  {
   "cell_type": "code",
   "execution_count": 43,
   "metadata": {},
   "outputs": [
    {
     "data": {
      "text/plain": [
       "['Combination :',\n",
       " '♦ مصباح طاولة عدد 1 قطعة',\n",
       " '',\n",
       " 'Product Size :',\n",
       " '♦ مصباح طاولة: عرض 37 * عمق 37 * ارتفاع 62 سم']"
      ]
     },
     "execution_count": 43,
     "metadata": {},
     "output_type": "execute_result"
    }
   ],
   "source": [
    "combination_product_size_list"
   ]
  },
  {
   "cell_type": "code",
   "execution_count": 44,
   "metadata": {},
   "outputs": [],
   "source": []
  },
  {
   "cell_type": "code",
   "execution_count": 46,
   "metadata": {},
   "outputs": [],
   "source": []
  },
  {
   "cell_type": "code",
   "execution_count": 47,
   "metadata": {},
   "outputs": [
    {
     "data": {
      "text/plain": [
       "' مصباح طاولة: عرض 37 * عمق 37 * ارتفاع 62 سم'"
      ]
     },
     "execution_count": 47,
     "metadata": {},
     "output_type": "execute_result"
    }
   ],
   "source": [
    "product_size"
   ]
  },
  {
   "cell_type": "code",
   "execution_count": null,
   "metadata": {},
   "outputs": [],
   "source": [
    "product-attribute-specs-table"
   ]
  },
  {
   "cell_type": "code",
   "execution_count": 51,
   "metadata": {},
   "outputs": [
    {
     "name": "stdout",
     "output_type": "stream",
     "text": [
      "\n"
     ]
    }
   ],
   "source": []
  },
  {
   "cell_type": "code",
   "execution_count": 57,
   "metadata": {},
   "outputs": [],
   "source": []
  },
  {
   "cell_type": "code",
   "execution_count": null,
   "metadata": {},
   "outputs": [],
   "source": []
  },
  {
   "cell_type": "code",
   "execution_count": 58,
   "metadata": {},
   "outputs": [
    {
     "name": "stdout",
     "output_type": "stream",
     "text": [
      "https://cdn.midasfurniture.com/media/catalog/product/cache/6/image/0dc2d03fe217f8c83829496872af24a0/1/3/13-SR-ZY-9699TL1_A.jpg\n",
      "https://cdn.midasfurniture.com/media/catalog/product/cache/6/image/1800x/040ec09b1e35df139433887a97daa66f/1/3/13-SR-ZY-9699TL1_A.jpg\n",
      "https://cdn.midasfurniture.com/media/catalog/product/cache/6/image/1800x/040ec09b1e35df139433887a97daa66f/1/3/13-SR-ZY-9699TL1_C.jpg\n",
      "https://cdn.midasfurniture.com/media/catalog/product/cache/6/image/1800x/040ec09b1e35df139433887a97daa66f/1/3/13-SR-ZY-9699TL1_B.jpg\n"
     ]
    }
   ],
   "source": []
  },
  {
   "cell_type": "code",
   "execution_count": null,
   "metadata": {},
   "outputs": [],
   "source": []
  },
  {
   "cell_type": "code",
   "execution_count": 55,
   "metadata": {},
   "outputs": [
    {
     "data": {
      "text/plain": [
       "<selenium.webdriver.firefox.webelement.FirefoxWebElement (session=\"aa1614c6-b250-43e8-b9b0-7be35735b0cd\", element=\"5091dd3a-4653-4ddc-a404-88bd43d58d8a\")>"
      ]
     },
     "execution_count": 55,
     "metadata": {},
     "output_type": "execute_result"
    }
   ],
   "source": [
    "image"
   ]
  },
  {
   "cell_type": "code",
   "execution_count": null,
   "metadata": {},
   "outputs": [],
   "source": []
  },
  {
   "cell_type": "code",
   "execution_count": null,
   "metadata": {},
   "outputs": [],
   "source": []
  },
  {
   "cell_type": "code",
   "execution_count": null,
   "metadata": {},
   "outputs": [],
   "source": []
  },
  {
   "cell_type": "code",
   "execution_count": null,
   "metadata": {},
   "outputs": [],
   "source": []
  },
  {
   "cell_type": "code",
   "execution_count": null,
   "metadata": {},
   "outputs": [],
   "source": []
  },
  {
   "cell_type": "code",
   "execution_count": null,
   "metadata": {},
   "outputs": [],
   "source": []
  },
  {
   "cell_type": "code",
   "execution_count": null,
   "metadata": {},
   "outputs": [],
   "source": []
  },
  {
   "cell_type": "code",
   "execution_count": null,
   "metadata": {},
   "outputs": [],
   "source": []
  },
  {
   "cell_type": "code",
   "execution_count": null,
   "metadata": {},
   "outputs": [],
   "source": []
  },
  {
   "cell_type": "code",
   "execution_count": null,
   "metadata": {},
   "outputs": [],
   "source": []
  },
  {
   "cell_type": "code",
   "execution_count": null,
   "metadata": {},
   "outputs": [],
   "source": []
  },
  {
   "cell_type": "code",
   "execution_count": null,
   "metadata": {},
   "outputs": [],
   "source": []
  },
  {
   "cell_type": "code",
   "execution_count": null,
   "metadata": {},
   "outputs": [],
   "source": []
  },
  {
   "cell_type": "code",
   "execution_count": null,
   "metadata": {},
   "outputs": [],
   "source": []
  },
  {
   "cell_type": "code",
   "execution_count": null,
   "metadata": {},
   "outputs": [],
   "source": []
  },
  {
   "cell_type": "code",
   "execution_count": null,
   "metadata": {},
   "outputs": [],
   "source": []
  },
  {
   "cell_type": "code",
   "execution_count": null,
   "metadata": {},
   "outputs": [],
   "source": []
  },
  {
   "cell_type": "code",
   "execution_count": null,
   "metadata": {},
   "outputs": [],
   "source": []
  },
  {
   "cell_type": "code",
   "execution_count": null,
   "metadata": {},
   "outputs": [],
   "source": []
  },
  {
   "cell_type": "code",
   "execution_count": null,
   "metadata": {},
   "outputs": [],
   "source": []
  },
  {
   "cell_type": "code",
   "execution_count": null,
   "metadata": {},
   "outputs": [],
   "source": []
  },
  {
   "cell_type": "code",
   "execution_count": null,
   "metadata": {},
   "outputs": [],
   "source": []
  },
  {
   "cell_type": "code",
   "execution_count": null,
   "metadata": {},
   "outputs": [],
   "source": []
  },
  {
   "cell_type": "code",
   "execution_count": 16,
   "metadata": {},
   "outputs": [
    {
     "data": {
      "text/plain": [
       "'متوفر'"
      ]
     },
     "execution_count": 16,
     "metadata": {},
     "output_type": "execute_result"
    }
   ],
   "source": [
    "in_stock.text"
   ]
  },
  {
   "cell_type": "code",
   "execution_count": null,
   "metadata": {},
   "outputs": [],
   "source": []
  },
  {
   "cell_type": "code",
   "execution_count": null,
   "metadata": {},
   "outputs": [],
   "source": []
  },
  {
   "cell_type": "code",
   "execution_count": null,
   "metadata": {},
   "outputs": [],
   "source": []
  },
  {
   "cell_type": "code",
   "execution_count": null,
   "metadata": {},
   "outputs": [],
   "source": []
  },
  {
   "cell_type": "code",
   "execution_count": null,
   "metadata": {},
   "outputs": [],
   "source": []
  },
  {
   "cell_type": "code",
   "execution_count": null,
   "metadata": {},
   "outputs": [],
   "source": []
  },
  {
   "cell_type": "code",
   "execution_count": null,
   "metadata": {},
   "outputs": [],
   "source": []
  },
  {
   "cell_type": "code",
   "execution_count": null,
   "metadata": {},
   "outputs": [],
   "source": []
  }
 ],
 "metadata": {
  "kernelspec": {
   "display_name": "Python 3",
   "language": "python",
   "name": "python3"
  },
  "language_info": {
   "codemirror_mode": {
    "name": "ipython",
    "version": 3
   },
   "file_extension": ".py",
   "mimetype": "text/x-python",
   "name": "python",
   "nbconvert_exporter": "python",
   "pygments_lexer": "ipython3",
   "version": "3.8.8"
  }
 },
 "nbformat": 4,
 "nbformat_minor": 4
}
