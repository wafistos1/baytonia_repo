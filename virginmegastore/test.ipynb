{
 "cells": [
  {
   "cell_type": "code",
   "execution_count": 1,
   "metadata": {},
   "outputs": [],
   "source": [
    "from bs4 import BeautifulSoup\n",
    "from selenium.webdriver.common.action_chains import ActionChains\n",
    "from selenium.webdriver.support import expected_conditions as EC\n",
    "from selenium.webdriver.common.by import By\n",
    "from selenium.webdriver.support.wait import WebDriverWait\n",
    "import requests, re\n",
    "import pandas as pd\n",
    "import cssutils"
   ]
  },
  {
   "cell_type": "code",
   "execution_count": 6,
   "metadata": {},
   "outputs": [],
   "source": [
    "df = pd.read_excel('/home/wafistos/Documents/Projects/scaping_wafi/virginmegastore/virgin-update1.xlsx')"
   ]
  },
  {
   "cell_type": "code",
   "execution_count": 21,
   "metadata": {},
   "outputs": [],
   "source": [
    "df['sku'] = df['sku'].astype(str)"
   ]
  },
  {
   "cell_type": "code",
   "execution_count": 3,
   "metadata": {},
   "outputs": [],
   "source": [
    "toto = pd.read_excel('/home/wafistos/Downloads/YAN VERGIN.xlsx')"
   ]
  },
  {
   "cell_type": "code",
   "execution_count": 22,
   "metadata": {},
   "outputs": [
    {
     "data": {
      "text/plain": [
       "['VER-91001043',\n",
       " 'VER-91000103',\n",
       " 'VER-91000102',\n",
       " 'VER-91001017',\n",
       " 'VER-05090536',\n",
       " 'VER-05090537',\n",
       " 'VER-05090543',\n",
       " 'VER-05090544',\n",
       " 'VER-05090545',\n",
       " 'VER-05090546',\n",
       " 'VER-05086851',\n",
       " 'VER-05086854',\n",
       " 'VER-05086855',\n",
       " 'VER-05086856',\n",
       " 'VER-05086859',\n",
       " 'VER-05086867',\n",
       " 'VER-05086865',\n",
       " 'VER-05086860',\n",
       " 'VER-05086866',\n",
       " 'VER-05086868']"
      ]
     },
     "execution_count": 22,
     "metadata": {},
     "output_type": "execute_result"
    }
   ],
   "source": [
    "toto = toto.loc[~toto['url'].isnull()]\n",
    "titi = toto['url'].str.split('/')\n",
    "skus = ['VER-' + t[-1] for t in titi]\n",
    "ksu = [k.replace('0000000000', '') for k in skus]\n",
    "ksu"
   ]
  },
  {
   "cell_type": "code",
   "execution_count": null,
   "metadata": {},
   "outputs": [],
   "source": []
  },
  {
   "cell_type": "code",
   "execution_count": 23,
   "metadata": {},
   "outputs": [
    {
     "data": {
      "text/html": [
       "<div>\n",
       "<style scoped>\n",
       "    .dataframe tbody tr th:only-of-type {\n",
       "        vertical-align: middle;\n",
       "    }\n",
       "\n",
       "    .dataframe tbody tr th {\n",
       "        vertical-align: top;\n",
       "    }\n",
       "\n",
       "    .dataframe thead th {\n",
       "        text-align: right;\n",
       "    }\n",
       "</style>\n",
       "<table border=\"1\" class=\"dataframe\">\n",
       "  <thead>\n",
       "    <tr style=\"text-align: right;\">\n",
       "      <th></th>\n",
       "      <th>Unnamed: 0</th>\n",
       "      <th>sku number only</th>\n",
       "      <th>sku</th>\n",
       "      <th>store_view_code</th>\n",
       "      <th>attribute_set_code</th>\n",
       "      <th>product_type</th>\n",
       "      <th>product_websites</th>\n",
       "      <th>name</th>\n",
       "      <th>estimated_delivery_enable</th>\n",
       "      <th>estimated_delivery_text</th>\n",
       "      <th>...</th>\n",
       "      <th>small_image</th>\n",
       "      <th>swatch_image</th>\n",
       "      <th>thumbnail_image</th>\n",
       "      <th>additionnel_images</th>\n",
       "      <th>product_online</th>\n",
       "      <th>qty</th>\n",
       "      <th>out_of_stock_qty</th>\n",
       "      <th>allow_backorders</th>\n",
       "      <th>is_in_stock</th>\n",
       "      <th>supplier</th>\n",
       "    </tr>\n",
       "  </thead>\n",
       "  <tbody>\n",
       "    <tr>\n",
       "      <th>424</th>\n",
       "      <td>424</td>\n",
       "      <td>91001043</td>\n",
       "      <td>VER-91001043</td>\n",
       "      <td>NaN</td>\n",
       "      <td>Default</td>\n",
       "      <td>simple</td>\n",
       "      <td>base</td>\n",
       "      <td>دايسون اوت سايز V11</td>\n",
       "      <td>Static Text</td>\n",
       "      <td>NaN</td>\n",
       "      <td>...</td>\n",
       "      <td>https://www.virginmegastore.sa/medias/00000000...</td>\n",
       "      <td>https://www.virginmegastore.sa/medias/00000000...</td>\n",
       "      <td>https://www.virginmegastore.sa/medias/00000000...</td>\n",
       "      <td>https://www.virginmegastore.sa/medias/00000000...</td>\n",
       "      <td>1</td>\n",
       "      <td>0</td>\n",
       "      <td>-5</td>\n",
       "      <td>1</td>\n",
       "      <td>1</td>\n",
       "      <td>VER</td>\n",
       "    </tr>\n",
       "    <tr>\n",
       "      <th>428</th>\n",
       "      <td>428</td>\n",
       "      <td>91001017</td>\n",
       "      <td>VER-91001017</td>\n",
       "      <td>NaN</td>\n",
       "      <td>Default</td>\n",
       "      <td>simple</td>\n",
       "      <td>base</td>\n",
       "      <td>دايسون منقي الهواء Tp7A ابيض</td>\n",
       "      <td>Static Text</td>\n",
       "      <td>NaN</td>\n",
       "      <td>...</td>\n",
       "      <td>https://www.virginmegastore.sa/medias/00000000...</td>\n",
       "      <td>https://www.virginmegastore.sa/medias/00000000...</td>\n",
       "      <td>https://www.virginmegastore.sa/medias/00000000...</td>\n",
       "      <td>https://www.virginmegastore.sa/medias/00000000...</td>\n",
       "      <td>1</td>\n",
       "      <td>0</td>\n",
       "      <td>-5</td>\n",
       "      <td>1</td>\n",
       "      <td>1</td>\n",
       "      <td>VER</td>\n",
       "    </tr>\n",
       "  </tbody>\n",
       "</table>\n",
       "<p>2 rows × 38 columns</p>\n",
       "</div>"
      ],
      "text/plain": [
       "     Unnamed: 0  sku number only           sku  store_view_code  \\\n",
       "424         424         91001043  VER-91001043              NaN   \n",
       "428         428         91001017  VER-91001017              NaN   \n",
       "\n",
       "    attribute_set_code product_type product_websites  \\\n",
       "424            Default       simple             base   \n",
       "428            Default       simple             base   \n",
       "\n",
       "                             name estimated_delivery_enable  \\\n",
       "424           دايسون اوت سايز V11               Static Text   \n",
       "428  دايسون منقي الهواء Tp7A ابيض               Static Text   \n",
       "\n",
       "     estimated_delivery_text  ...  \\\n",
       "424                      NaN  ...   \n",
       "428                      NaN  ...   \n",
       "\n",
       "                                           small_image  \\\n",
       "424  https://www.virginmegastore.sa/medias/00000000...   \n",
       "428  https://www.virginmegastore.sa/medias/00000000...   \n",
       "\n",
       "                                          swatch_image  \\\n",
       "424  https://www.virginmegastore.sa/medias/00000000...   \n",
       "428  https://www.virginmegastore.sa/medias/00000000...   \n",
       "\n",
       "                                       thumbnail_image  \\\n",
       "424  https://www.virginmegastore.sa/medias/00000000...   \n",
       "428  https://www.virginmegastore.sa/medias/00000000...   \n",
       "\n",
       "                                    additionnel_images product_online qty  \\\n",
       "424  https://www.virginmegastore.sa/medias/00000000...              1   0   \n",
       "428  https://www.virginmegastore.sa/medias/00000000...              1   0   \n",
       "\n",
       "    out_of_stock_qty allow_backorders  is_in_stock  supplier  \n",
       "424               -5                1            1       VER  \n",
       "428               -5                1            1       VER  \n",
       "\n",
       "[2 rows x 38 columns]"
      ]
     },
     "execution_count": 23,
     "metadata": {},
     "output_type": "execute_result"
    }
   ],
   "source": [
    "df1 = df.loc[df['sku'].isin(ksu)]\n",
    "df1"
   ]
  },
  {
   "cell_type": "code",
   "execution_count": 4,
   "metadata": {},
   "outputs": [
    {
     "data": {
      "text/plain": [
       "['https://www.virginmegastore.sa/ar/p/000000000005086858',\n",
       " 'https://www.virginmegastore.sa/ar/p/000000000005086851',\n",
       " 'https://www.virginmegastore.sa/ar/p/000000000005086877',\n",
       " 'https://www.virginmegastore.sa/ar/p/000000000005086853',\n",
       " 'https://www.virginmegastore.sa/ar/p/000000000005086856',\n",
       " 'https://www.virginmegastore.sa/ar/p/000000000005086859',\n",
       " 'https://www.virginmegastore.sa/ar/p/000000000005086861',\n",
       " 'https://www.virginmegastore.sa/ar/p/000000000005086857',\n",
       " 'https://www.virginmegastore.sa/ar/p/000000000005086854',\n",
       " 'https://www.virginmegastore.sa/ar/p/000000000005086867',\n",
       " 'https://www.virginmegastore.sa/ar/p/000000000005086873',\n",
       " 'https://www.virginmegastore.sa/ar/p/000000000005086860',\n",
       " 'https://www.virginmegastore.sa/ar/p/000000000005086865',\n",
       " 'https://www.virginmegastore.sa/ar/p/000000000005086864',\n",
       " 'https://www.virginmegastore.sa/ar/p/000000000005086866',\n",
       " 'https://www.virginmegastore.sa/ar/p/000000000005086876',\n",
       " 'https://www.virginmegastore.sa/ar/p/000000000005086852',\n",
       " 'https://www.virginmegastore.sa/ar/p/000000000005086863',\n",
       " 'https://www.virginmegastore.sa/ar/p/000000000005086875',\n",
       " 'https://www.virginmegastore.sa/ar/p/000000000005086870',\n",
       " 'https://www.virginmegastore.sa/ar/p/000000000005086855',\n",
       " 'https://www.virginmegastore.sa/ar/p/000000000005086862',\n",
       " 'https://www.virginmegastore.sa/ar/p/000000000005086868',\n",
       " 'https://www.virginmegastore.sa/ar/p/000000000005086869',\n",
       " 'https://www.virginmegastore.sa/ar/p/000000000005086785',\n",
       " 'https://www.virginmegastore.sa/ar/p/000000000005091082',\n",
       " 'https://www.virginmegastore.sa/ar/p/000000000005053246',\n",
       " 'https://www.virginmegastore.sa/ar/p/000000000005053248',\n",
       " 'https://www.virginmegastore.sa/ar/p/000000000005083087',\n",
       " 'https://www.virginmegastore.sa/ar/p/000000000005083086',\n",
       " 'https://www.virginmegastore.sa/ar/p/000000000005053247',\n",
       " 'https://www.virginmegastore.sa/ar/p/000000000005087616',\n",
       " 'https://www.virginmegastore.sa/ar/p/000000000005087617',\n",
       " 'https://www.virginmegastore.sa/ar/p/000000000005092378',\n",
       " 'https://www.virginmegastore.sa/ar/p/000000000005087619',\n",
       " 'https://www.virginmegastore.sa/ar/p/000000000005087618',\n",
       " 'https://www.virginmegastore.sa/ar/p/000000000005063490',\n",
       " 'https://www.virginmegastore.sa/ar/p/000000000005087620',\n",
       " 'https://www.virginmegastore.sa/ar/p/000000000005091074',\n",
       " 'https://www.virginmegastore.sa/ar/p/000000000005091042',\n",
       " 'https://www.virginmegastore.sa/ar/p/000000000005091044',\n",
       " 'https://www.virginmegastore.sa/ar/p/000000000005091078',\n",
       " 'https://www.virginmegastore.sa/ar/p/000000000005091043',\n",
       " 'https://www.virginmegastore.sa/ar/p/000000000005090765',\n",
       " 'https://www.virginmegastore.sa/ar/p/000000000005089673',\n",
       " 'https://www.virginmegastore.sa/ar/p/000000000005090767',\n",
       " 'https://www.virginmegastore.sa/ar/p/000000000005089674',\n",
       " 'https://www.virginmegastore.sa/ar/p/000000000005089675']"
      ]
     },
     "execution_count": 4,
     "metadata": {},
     "output_type": "execute_result"
    }
   ],
   "source": [
    "r = requests.get('https://www.virginmegastore.sa/ar/House/Kitchen-Dining/Kitchen-Accessories/c/K030109')\n",
    "soup = BeautifulSoup(r.text, 'html.parser')\n",
    "products = soup.find_all('a', {'class': 'product-list__thumb position-relative d-flex'})\n",
    "len(products)\n",
    "\n",
    "list_products = ['https://www.virginmegastore.sa' + t['href'] for t in products]\n",
    "list_products"
   ]
  },
  {
   "cell_type": "code",
   "execution_count": 54,
   "metadata": {},
   "outputs": [],
   "source": [
    "url = 'https://www.virginmegastore.sa/ar/house/kitchen-dining/kitchen-accessories/grillight-smart-tongs-with-light/p/000000000005087617'\n",
    "r = requests.get(url)\n",
    "soup = BeautifulSoup(r.text, 'html.parser')"
   ]
  },
  {
   "cell_type": "code",
   "execution_count": null,
   "metadata": {},
   "outputs": [],
   "source": [
    "     "
   ]
  },
  {
   "cell_type": "code",
   "execution_count": 107,
   "metadata": {},
   "outputs": [
    {
     "name": "stdout",
     "output_type": "stream",
     "text": [
      "URL:  https://www.virginmegastore.sa/medias/000000000005087617-main.jpg?context=bWFzdGVyfHJvb3R8MzM1MzR8aW1hZ2UvanBlZ3xoOGYvaDIzLzk4MzkxOTI4NjY4NDYvMDAwMDAwMDAwMDA1MDg3NjE3X19tYWluLmpwZ3w0MDVmNzg3MDlmNGNiMTEzNDkyMzBiMzAyNmFkNThjMWZhNDgzOGU1YzZmMTZlNzFhNmE1YzhlZWY0MWQzMjE4\n",
      "URL:  https://www.virginmegastore.sa/medias/000000000005087617-detail1.jpg-Detail?context=bWFzdGVyfHJvb3R8MTM5NDR8aW1hZ2UvanBlZ3xoZGYvaDEyLzk4MzkyNzgyNjAyNTQvMDAwMDAwMDAwMDA1MDg3NjE3X19kZXRhaWwxLmpwZ19EZXRhaWx8N2NkMzg0Y2UwMzAxYzkxMGExYWRmYmNjODc0MDcwMWNlNmYzMGFlYzZmNGMxMzM1OGFiNzM2ZjU2YmJiN2Y2YQ\n"
     ]
    }
   ],
   "source": [
    "name = soup.find('h1', {'class': 'name'}).text.strip()\n",
    "price = soup.find('span', {'class': 'price__number price__number--strike-through'}).text.strip()\n",
    "special_price = soup.find('span', {'class': 'price__number'})\n",
    "mgs_brans = soup.find('p', {'class': 'brand'}).find('a').text.strip()\n",
    "description = soup.find('div', {'id': 'details'}).text.strip()\n",
    "images = soup.find_all('div', {'class': 'pdp_image-carousel-image js-zoomImage c-pointer'})\n",
    "list_images = []\n",
    "for img in images:\n",
    "    \n",
    "    style = cssutils.parseStyle(img['style'])\n",
    "    url = style['background']\n",
    "    url = url.replace('url(', '').replace(')', '')\n",
    "    list_images.append('URL: ', 'https://www.virginmegastore.sa' + url)\n",
    "\n",
    "\n",
    "video = soup.find('iframe')['src']\n"
   ]
  },
  {
   "cell_type": "code",
   "execution_count": 99,
   "metadata": {},
   "outputs": [
    {
     "name": "stdout",
     "output_type": "stream",
     "text": [
      "<re.Match object; span=(0, 232), match=\"url('/medias/000000000005087617contextbWFzdGVyfHJ>\n"
     ]
    }
   ],
   "source": [
    "text = \"url('/medias/000000000005087617contextbWFzdGVyfHJvb3R8MzM1MzR8aW1hZ2UvanBlZ3xoOGYvaDIzLzk4MzkxOTI4NjY4NDYvMDAwMDAwMDAwMDA1MDg3NjE3X19tYWluLmpwZ3w0MDVmNzg3MDlmNGNiMTEzNDkyMzBiMzAyNmFkNThjMWZhNDgzOGU1YzZmMTZlNzFhNmE1YzhlZWY0MWQzMjE4')\"\n",
    "regex = re.compile(r\"url\\('/medias/(?P<product_id>[\\w-]*)'\\)\")\n",
    "p = regex.search(text)\n",
    "print(p)"
   ]
  },
  {
   "cell_type": "code",
   "execution_count": 18,
   "metadata": {},
   "outputs": [],
   "source": [
    "def select_images(x):\n",
    "    return x[0]\n",
    "def select_images1(list_images):\n",
    "    print(list_images[1:])\n",
    "    print('*******')\n",
    "    return "
   ]
  },
  {
   "cell_type": "code",
   "execution_count": 4,
   "metadata": {},
   "outputs": [],
   "source": [
    "df = pd.read_excel('/home/wafistos/Documents/Projects/scaping_wafi/virginmegastore/Vergin_product_update.xlsx')"
   ]
  },
  {
   "cell_type": "code",
   "execution_count": 11,
   "metadata": {},
   "outputs": [
    {
     "data": {
      "text/plain": [
       "0       ',h,t,t,p,s,:,/,/,w,w,w,.,v,i,r,g,i,n,m,e,g,a,...\n",
       "1       ',h,t,t,p,s,:,/,/,w,w,w,.,v,i,r,g,i,n,m,e,g,a,...\n",
       "2       ',h,t,t,p,s,:,/,/,w,w,w,.,v,i,r,g,i,n,m,e,g,a,...\n",
       "3       ',h,t,t,p,s,:,/,/,w,w,w,.,v,i,r,g,i,n,m,e,g,a,...\n",
       "4       ',h,t,t,p,s,:,/,/,w,w,w,.,v,i,r,g,i,n,m,e,g,a,...\n",
       "                              ...                        \n",
       "1829    ',h,t,t,p,s,:,/,/,w,w,w,.,v,i,r,g,i,n,m,e,g,a,...\n",
       "1830    ',h,t,t,p,s,:,/,/,w,w,w,.,v,i,r,g,i,n,m,e,g,a,...\n",
       "1831    ',h,t,t,p,s,:,/,/,w,w,w,.,v,i,r,g,i,n,m,e,g,a,...\n",
       "1832    ',h,t,t,p,s,:,/,/,w,w,w,.,v,i,r,g,i,n,m,e,g,a,...\n",
       "1833    ',h,t,t,p,s,:,/,/,w,w,w,.,v,i,r,g,i,n,m,e,g,a,...\n",
       "Name: additionnel_images, Length: 1834, dtype: object"
      ]
     },
     "execution_count": 11,
     "metadata": {},
     "output_type": "execute_result"
    }
   ],
   "source": [
    "df['additionnel_images']"
   ]
  },
  {
   "cell_type": "code",
   "execution_count": null,
   "metadata": {},
   "outputs": [],
   "source": [
    "df.to_excel('toto.xlsx')"
   ]
  },
  {
   "cell_type": "code",
   "execution_count": null,
   "metadata": {},
   "outputs": [],
   "source": [
    "\n",
    "\n",
    "df['additionnel_images'] = [select_images1(x) for x in df['list_images']]"
   ]
  }
 ],
 "metadata": {
  "interpreter": {
   "hash": "901bbe481fb91f862c10b8e54f95d7da636ff35e7b7d7322c639cfaac06e5987"
  },
  "kernelspec": {
   "display_name": "Python 3.8.8 ('base')",
   "language": "python",
   "name": "python3"
  },
  "language_info": {
   "codemirror_mode": {
    "name": "ipython",
    "version": 3
   },
   "file_extension": ".py",
   "mimetype": "text/x-python",
   "name": "python",
   "nbconvert_exporter": "python",
   "pygments_lexer": "ipython3",
   "version": "3.8.8"
  },
  "orig_nbformat": 4
 },
 "nbformat": 4,
 "nbformat_minor": 2
}
