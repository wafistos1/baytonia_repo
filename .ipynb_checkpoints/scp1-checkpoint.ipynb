{
 "cells": [
  {
   "cell_type": "code",
   "execution_count": 147,
   "metadata": {},
   "outputs": [],
   "source": [
    "#imports here\n",
    "from selenium import webdriver\n",
    "from selenium.webdriver.common.keys import Keys\n",
    "from selenium.webdriver.support import expected_conditions as EC\n",
    "from selenium.webdriver.common.by import By\n",
    "from selenium.webdriver.support.wait import WebDriverWait\n",
    "import time\n",
    "import os\n",
    "\n"
   ]
  },
  {
   "cell_type": "code",
   "execution_count": 148,
   "metadata": {},
   "outputs": [],
   "source": [
    "driver = webdriver.Firefox()\n",
    "\n",
    "#open the webpage\n",
    "driver.get(\"http://www.instagram.com\")\n",
    "\n",
    "#target username\n",
    "username = WebDriverWait(driver, 10).until(EC.element_to_be_clickable((By.CSS_SELECTOR, \"input[name='username']\")))\n",
    "password = WebDriverWait(driver, 10).until(EC.element_to_be_clickable((By.CSS_SELECTOR, \"input[name='password']\")))\n",
    "\n",
    "#enter username and password\n",
    "username.clear()\n",
    "username.send_keys(\"jimytos1413\")\n",
    "password.clear()\n",
    "password.send_keys(\"djamel2013\")\n",
    "\n",
    "#target the login button and click it\n",
    "button = WebDriverWait(driver, 2).until(EC.element_to_be_clickable((By.CSS_SELECTOR, \"button[type='submit']\"))).click()\n",
    "\n",
    "#We are logged in!\n",
    "\n",
    "\n",
    "\n"
   ]
  },
  {
   "cell_type": "code",
   "execution_count": 149,
   "metadata": {},
   "outputs": [],
   "source": [
    "#target the  button not Now and click it\n",
    "time.sleep(5)\n",
    "button = WebDriverWait(driver, 10).until(EC.element_to_be_clickable((By.XPATH, \"//button[contains(text(), 'Not Now') ]\"))).click()\n",
    "button = WebDriverWait(driver, 10).until(EC.element_to_be_clickable((By.XPATH, \"//button[contains(text(), 'Not Now') ]\"))).click()\n"
   ]
  },
  {
   "cell_type": "code",
   "execution_count": 150,
   "metadata": {},
   "outputs": [],
   "source": [
    "\n",
    "\n",
    "#target the search input field\n",
    "searchbox = WebDriverWait(driver, 10).until(EC.element_to_be_clickable((By.XPATH, \"//input[@placeholder='Search']\")))\n",
    "searchbox.clear()\n",
    "\n",
    "#search for the hashtag cat\n",
    "keyword = \"#cat\"\n",
    "searchbox.send_keys(keyword)\n",
    " \n",
    "#FIXING THE DOUBLE ENTER\n",
    "time.sleep(5) # Wait for 5 seconds\n",
    "my_link = WebDriverWait(driver, 10).until(EC.element_to_be_clickable((By.XPATH, \"//a[contains(@href, '/\" + keyword[1:] + \"/')]\")))\n",
    "my_link.click()\n",
    "\n"
   ]
  },
  {
   "cell_type": "code",
   "execution_count": 151,
   "metadata": {},
   "outputs": [],
   "source": [
    "#scroll down 2 times\n",
    "#increase the range to sroll more\n",
    "n_scrolls = 3\n",
    "for j in range(0, n_scrolls):\n",
    "    driver.execute_script(\"window.scrollTo(0, document.body.scrollHeight);\")\n",
    "    time.sleep(5)\n",
    "\n"
   ]
  },
  {
   "cell_type": "code",
   "execution_count": 152,
   "metadata": {},
   "outputs": [
    {
     "name": "stdout",
     "output_type": "stream",
     "text": [
      "Found 84 links to images\n"
     ]
    },
    {
     "data": {
      "text/plain": [
       "['https://www.instagram.com/p/CNIMduLBMjv/',\n",
       " 'https://www.instagram.com/p/CNIVxfrJb2-/',\n",
       " 'https://www.instagram.com/p/CNIRdhdsj37/',\n",
       " 'https://www.instagram.com/p/CNH-cGojpbG/',\n",
       " 'https://www.instagram.com/p/CNIF09lJ9wm/']"
      ]
     },
     "execution_count": 152,
     "metadata": {},
     "output_type": "execute_result"
    }
   ],
   "source": [
    "#target all the link elements on the page\n",
    "anchors = driver.find_elements_by_tag_name('a')\n",
    "anchors = [a.get_attribute('href') for a in anchors]\n",
    "#narrow down all links to image links only\n",
    "anchors = [a for a in anchors if str(a).startswith(\"https://www.instagram.com/p/\")]\n",
    "\n",
    "print('Found ' + str(len(anchors)) + ' links to images')\n",
    "anchors[:5]\n",
    "\n",
    "\n"
   ]
  },
  {
   "cell_type": "code",
   "execution_count": 154,
   "metadata": {},
   "outputs": [
    {
     "data": {
      "text/plain": [
       "['https://scontent-pmo1-1.cdninstagram.com/v/t51.2885-15/e35/s1080x1080/167789951_153413266658937_8143433529029171994_n.jpg?tp=1&_nc_ht=scontent-pmo1-1.cdninstagram.com&_nc_cat=1&_nc_ohc=XjzX31FWdrsAX8F0qp8&edm=APU89FAAAAAA&ccb=7-4&oh=3330857b23929976e824a3ab3c7bde07&oe=608CCEA0&_nc_sid=86f79a',\n",
       " 'https://scontent-pmo1-1.cdninstagram.com/v/t51.2885-19/s150x150/129736842_206440277758312_754715249900665099_n.jpg?tp=1&_nc_ht=scontent-pmo1-1.cdninstagram.com&_nc_ohc=C3EqbflZB0MAX-faxPs&edm=AABBvjUAAAAA&ccb=7-4&oh=92d3d677b7566ecd4dca47f28f2033fb&oe=608CF333&_nc_sid=83d603',\n",
       " 'https://scontent-pmo1-1.cdninstagram.com/v/t51.2885-15/fr/e15/p1080x1080/167245783_824792911463180_5003905938548637747_n.jpg?tp=1&_nc_ht=scontent-pmo1-1.cdninstagram.com&_nc_cat=108&_nc_ohc=g4_CEi95eSkAX8mCO1y&edm=APU89FAAAAAA&ccb=7-4&oh=de57833feb701b0bf5ccbb314158e5b1&oe=608C0DB5&_nc_sid=86f79a',\n",
       " 'https://scontent-pmo1-1.cdninstagram.com/v/t51.2885-19/s150x150/79601750_854570135004869_3625578586875887616_n.jpg?tp=1&_nc_ht=scontent-pmo1-1.cdninstagram.com&_nc_ohc=YjW8_O_i88YAX-Askqw&edm=AABBvjUAAAAA&ccb=7-4&oh=4bafe849c34187ed014a43a0fcede191&oe=608C4459&_nc_sid=83d603']"
      ]
     },
     "execution_count": 154,
     "metadata": {},
     "output_type": "execute_result"
    }
   ],
   "source": [
    "images = []\n",
    "\n",
    "#follow each image link and extract only image at index=1\n",
    "for a in anchors[:4]:\n",
    "    driver.get(a)\n",
    "    time.sleep(5)\n",
    "    img = driver.find_elements_by_tag_name('img')\n",
    "    img = [i.get_attribute('src') for i in img]\n",
    "    images.append(img[1])\n",
    "    \n",
    "images[:5]"
   ]
  },
  {
   "cell_type": "code",
   "execution_count": null,
   "metadata": {},
   "outputs": [],
   "source": []
  }
 ],
 "metadata": {
  "kernelspec": {
   "display_name": "Python 3",
   "language": "python",
   "name": "python3"
  },
  "language_info": {
   "codemirror_mode": {
    "name": "ipython",
    "version": 3
   },
   "file_extension": ".py",
   "mimetype": "text/x-python",
   "name": "python",
   "nbconvert_exporter": "python",
   "pygments_lexer": "ipython3",
   "version": "3.8.5"
  }
 },
 "nbformat": 4,
 "nbformat_minor": 4
}
