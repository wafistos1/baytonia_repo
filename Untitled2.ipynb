{
 "cells": [
  {
   "cell_type": "code",
   "execution_count": 3,
   "metadata": {},
   "outputs": [],
   "source": [
    "from wkhtmltopdf import wkhtmltopdf\n",
    "from wkhtmltopdf import WKHtmlToPdf"
   ]
  },
  {
   "cell_type": "code",
   "execution_count": null,
   "metadata": {},
   "outputs": [],
   "source": []
  },
  {
   "cell_type": "code",
   "execution_count": 8,
   "metadata": {},
   "outputs": [
    {
     "ename": "Exception",
     "evalue": "b'Loading page (1/2)\\n[>                                                           ] 0%\\r[==================>                                         ] 30%\\r[==================>                                         ] 31%\\r[====================>                                       ] 34%\\r[=====================>                                      ] 36%\\r[======================>                                     ] 38%\\r[========================>                                   ] 41%\\r[=========================>                                  ] 43%\\r[==========================>                                 ] 44%\\rError: Failed to load http://139.177.189.196/static/app-assets/vendors/js/charts/apexcharts.min.js, with network status code 203 and http status code 404 - Error transferring http://139.177.189.196/static/app-assets/vendors/js/charts/apexcharts.min.js - server replied: Not Found\\n[=================================>                          ] 56%\\r[===========================================>                ] 72%\\rError: Failed to load http://139.177.189.196/static/app-assets/vendors/extensions/dropzone.min.js, with network status code 203 and http status code 404 - Error transferring http://139.177.189.196/static/app-assets/vendors/extensions/dropzone.min.js - server replied: Not Found\\n[=====================================================>      ] 89%\\r[=====================================================>      ] 89%\\r[=====================================================>      ] 89%\\r[=====================================================>      ] 89%\\rError: Failed to load http://139.177.189.196/app-assets/data/locales/en.json, with network status code 203 and http status code 404 - Error transferring http://139.177.189.196/app-assets/data/locales/en.json - server replied: Not Found\\n[=====================================================>      ] 89%\\r[=====================================================>      ] 89%\\r[=====================================================>      ] 89%\\r[======================================================>     ] 90%\\r[======================================================>     ] 90%\\r[======================================================>     ] 90%\\r[======================================================>     ] 90%\\r[======================================================>     ] 90%\\r[======================================================>     ] 90%\\r[======================================================>     ] 90%\\r[======================================================>     ] 90%\\r[============================================================] 100%\\rPrinting pages (2/2)                                               \\n[>                                                           ] \\rDone                                                           \\nExit with code 1 due to network error: ContentNotFoundError\\n'",
     "output_type": "error",
     "traceback": [
      "\u001b[0;31m---------------------------------------------------------------------------\u001b[0m",
      "\u001b[0;31mException\u001b[0m                                 Traceback (most recent call last)",
      "\u001b[0;32m<ipython-input-8-1a15c7693bc7>\u001b[0m in \u001b[0;36m<module>\u001b[0;34m\u001b[0m\n\u001b[1;32m      3\u001b[0m     \u001b[0moutput_file\u001b[0m\u001b[0;34m=\u001b[0m\u001b[0;34m'/home/wafi/example.pdf'\u001b[0m\u001b[0;34m,\u001b[0m\u001b[0;34m\u001b[0m\u001b[0;34m\u001b[0m\u001b[0m\n\u001b[1;32m      4\u001b[0m )\n\u001b[0;32m----> 5\u001b[0;31m \u001b[0mwkhtmltopdf\u001b[0m\u001b[0;34m.\u001b[0m\u001b[0mrender\u001b[0m\u001b[0;34m(\u001b[0m\u001b[0;34m)\u001b[0m\u001b[0;34m\u001b[0m\u001b[0;34m\u001b[0m\u001b[0m\n\u001b[0m",
      "\u001b[0;32m~/Downloads/yes/lib/python3.8/site-packages/wkhtmltopdf/main.py\u001b[0m in \u001b[0;36mrender\u001b[0;34m(self)\u001b[0m\n\u001b[1;32m    154\u001b[0m                 \u001b[0;32mraise\u001b[0m \u001b[0mException\u001b[0m\u001b[0;34m(\u001b[0m\u001b[0;34m\"Terminated by signal: \"\u001b[0m\u001b[0;34m,\u001b[0m \u001b[0;34m-\u001b[0m\u001b[0mretcode\u001b[0m\u001b[0;34m)\u001b[0m\u001b[0;34m\u001b[0m\u001b[0;34m\u001b[0m\u001b[0m\n\u001b[1;32m    155\u001b[0m             \u001b[0;32melse\u001b[0m\u001b[0;34m:\u001b[0m\u001b[0;34m\u001b[0m\u001b[0;34m\u001b[0m\u001b[0m\n\u001b[0;32m--> 156\u001b[0;31m                 \u001b[0;32mraise\u001b[0m \u001b[0mException\u001b[0m\u001b[0;34m(\u001b[0m\u001b[0mstderr\u001b[0m\u001b[0;34m)\u001b[0m\u001b[0;34m\u001b[0m\u001b[0;34m\u001b[0m\u001b[0m\n\u001b[0m\u001b[1;32m    157\u001b[0m \u001b[0;34m\u001b[0m\u001b[0m\n\u001b[1;32m    158\u001b[0m         \u001b[0;32mexcept\u001b[0m \u001b[0mOSError\u001b[0m \u001b[0;32mas\u001b[0m \u001b[0mexc\u001b[0m\u001b[0;34m:\u001b[0m\u001b[0;34m\u001b[0m\u001b[0;34m\u001b[0m\u001b[0m\n",
      "\u001b[0;31mException\u001b[0m: b'Loading page (1/2)\\n[>                                                           ] 0%\\r[==================>                                         ] 30%\\r[==================>                                         ] 31%\\r[====================>                                       ] 34%\\r[=====================>                                      ] 36%\\r[======================>                                     ] 38%\\r[========================>                                   ] 41%\\r[=========================>                                  ] 43%\\r[==========================>                                 ] 44%\\rError: Failed to load http://139.177.189.196/static/app-assets/vendors/js/charts/apexcharts.min.js, with network status code 203 and http status code 404 - Error transferring http://139.177.189.196/static/app-assets/vendors/js/charts/apexcharts.min.js - server replied: Not Found\\n[=================================>                          ] 56%\\r[===========================================>                ] 72%\\rError: Failed to load http://139.177.189.196/static/app-assets/vendors/extensions/dropzone.min.js, with network status code 203 and http status code 404 - Error transferring http://139.177.189.196/static/app-assets/vendors/extensions/dropzone.min.js - server replied: Not Found\\n[=====================================================>      ] 89%\\r[=====================================================>      ] 89%\\r[=====================================================>      ] 89%\\r[=====================================================>      ] 89%\\rError: Failed to load http://139.177.189.196/app-assets/data/locales/en.json, with network status code 203 and http status code 404 - Error transferring http://139.177.189.196/app-assets/data/locales/en.json - server replied: Not Found\\n[=====================================================>      ] 89%\\r[=====================================================>      ] 89%\\r[=====================================================>      ] 89%\\r[======================================================>     ] 90%\\r[======================================================>     ] 90%\\r[======================================================>     ] 90%\\r[======================================================>     ] 90%\\r[======================================================>     ] 90%\\r[======================================================>     ] 90%\\r[======================================================>     ] 90%\\r[======================================================>     ] 90%\\r[============================================================] 100%\\rPrinting pages (2/2)                                               \\n[>                                                           ] \\rDone                                                           \\nExit with code 1 due to network error: ContentNotFoundError\\n'"
     ]
    }
   ],
   "source": [
    "wkhtmltopdf = WKHtmlToPdf(\n",
    "    url='http://139.177.189.196/',\n",
    "    output_file='/home/wafi/example.pdf',\n",
    ")\n",
    "wkhtmltopdf.render()"
   ]
  },
  {
   "cell_type": "code",
   "execution_count": null,
   "metadata": {},
   "outputs": [],
   "source": []
  },
  {
   "cell_type": "code",
   "execution_count": null,
   "metadata": {},
   "outputs": [],
   "source": []
  },
  {
   "cell_type": "code",
   "execution_count": null,
   "metadata": {},
   "outputs": [],
   "source": []
  },
  {
   "cell_type": "code",
   "execution_count": null,
   "metadata": {},
   "outputs": [],
   "source": []
  },
  {
   "cell_type": "code",
   "execution_count": null,
   "metadata": {},
   "outputs": [],
   "source": []
  },
  {
   "cell_type": "code",
   "execution_count": null,
   "metadata": {},
   "outputs": [],
   "source": []
  }
 ],
 "metadata": {
  "kernelspec": {
   "display_name": "Python 3",
   "language": "python",
   "name": "python3"
  },
  "language_info": {
   "codemirror_mode": {
    "name": "ipython",
    "version": 3
   },
   "file_extension": ".py",
   "mimetype": "text/x-python",
   "name": "python",
   "nbconvert_exporter": "python",
   "pygments_lexer": "ipython3",
   "version": "3.8.8"
  },
  "toc": {
   "base_numbering": 1,
   "nav_menu": {},
   "number_sections": true,
   "sideBar": true,
   "skip_h1_title": false,
   "title_cell": "Table of Contents",
   "title_sidebar": "Contents",
   "toc_cell": false,
   "toc_position": {},
   "toc_section_display": true,
   "toc_window_display": false
  }
 },
 "nbformat": 4,
 "nbformat_minor": 4
}
