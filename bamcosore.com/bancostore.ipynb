{
 "cells": [
  {
   "cell_type": "code",
   "execution_count": 676,
   "id": "51b0a636",
   "metadata": {},
   "outputs": [],
   "source": [
    "#imports here\n",
    "from selenium import webdriver\n",
    "from selenium.webdriver.common.keys import Keys\n",
    "from selenium.webdriver.support import expected_conditions as EC\n",
    "from selenium.webdriver.common.by import By\n",
    "from selenium.webdriver.support.wait import WebDriverWait\n",
    "from selenium.webdriver.firefox.options import Options\n",
    "import time\n",
    "import os\n",
    "from fake_useragent import UserAgent\n",
    "from random import randint\n",
    "import pandas as pd\n",
    "import numpy as np\n",
    "import re\n",
    "from datetime import datetime\n",
    "from datetime import timedelta\n",
    "from bs4 import BeautifulSoup\n",
    "from urllib.parse import urljoin\n",
    "import requests\n",
    "from sqlalchemy.exc import IntegrityError\n",
    "import string\n",
    "from bs4 import BeautifulSoup\n",
    "import requests\n",
    "import pandas as pd\n",
    "import cssutils\n",
    "from selenium.webdriver.common.proxy import Proxy, ProxyType"
   ]
  },
  {
   "cell_type": "markdown",
   "id": "bdae2a94",
   "metadata": {},
   "source": [
    "# Firefox"
   ]
  },
  {
   "cell_type": "code",
   "execution_count": 3,
   "id": "f73cd73e",
   "metadata": {},
   "outputs": [],
   "source": [
    "myProxy = \"77.30.111.248:8080\"\n",
    "\n",
    "proxy = Proxy({\n",
    "    'proxyType': ProxyType.MANUAL,\n",
    "    'httpProxy': myProxy,\n",
    "    'ftpProxy': myProxy,\n",
    "    'sslProxy': myProxy,\n",
    "    'noProxy': '' # set this value as desired\n",
    "    })"
   ]
  },
  {
   "cell_type": "code",
   "execution_count": 677,
   "id": "e81ce385",
   "metadata": {},
   "outputs": [
    {
     "name": "stdout",
     "output_type": "stream",
     "text": [
      "Mozilla/5.0 (Macintosh; Intel Mac OS X 10_8_2) AppleWebKit/537.17 (KHTML, like Gecko) Chrome/24.0.1309.0 Safari/537.17\n"
     ]
    },
    {
     "name": "stderr",
     "output_type": "stream",
     "text": [
      "/tmp/ipykernel_170757/2510784215.py:7: DeprecationWarning: use options instead of firefox_options\n",
      "  driver = webdriver.Firefox(firefox_options=options)\n"
     ]
    }
   ],
   "source": [
    "options = Options()\n",
    "ua = UserAgent()\n",
    "userAgent = ua.random\n",
    "print(userAgent)\n",
    "options.add_argument(f'user-agent={userAgent}')\n",
    "# options.add_argument(\"--headless\")\n",
    "driver = webdriver.Firefox(firefox_options=options)\n",
    "#     driver = webdriver.Firefox()"
   ]
  },
  {
   "cell_type": "code",
   "execution_count": 1,
   "id": "38a2052d",
   "metadata": {},
   "outputs": [
    {
     "name": "stdout",
     "output_type": "stream",
     "text": [
      "Backyard Starship\n",
      "Red Bounty (Backyard Starship Book 2)\n",
      "Valkyrie's Daughter (The Lunar Free State Book 3)\n",
      "Zero Day Threat: A space opera adventure (The Ungovernable Book 1)\n",
      "Futures (Death's Handmaiden Book 4)\n",
      "Earthrise - Super Box Set (Book 1-6): An Epic Sci-Fi Adventure\n",
      "Fair Trade: An Alien Invasion Story\n",
      "Agent of the 300\n",
      "The Bad Company: A Military Space Opera Adventure\n",
      "Watch the Skies: A Terran Republic Novel\n",
      "The Power of Your Subconscious Mind\n",
      "Monster Trainer Academy II: A Progression Portal Adventure\n",
      "His Witch Harem: Part One (A Men's Harem Adventure)\n",
      "Fortitude (Scattered Stars: Conviction Book 4)\n",
      "Meet the Alexes: A Dungeon Core Adventure\n",
      "Purgatory's Shore (Artillerymen Book 1)\n",
      "Mary and the Minotaur: A SciFi Alien Romance (Alien Abduction Book 13)\n",
      "Warrior Stolen: A Sci-Fi Alien Romance (Fated Mates of Halia Book 4)\n",
      "Mage-Commander (Starship's Mage Book 11)\n",
      "Magnitude: A Military Science Fiction Thriller (Multiverse Space Book One)\n",
      "Infinite: Super Low Rank Soldier Commander System: LitRPG Fantasy Urban Novels With System ( Teen fiction action-adventure and young adult harem romance ) Book 1\n",
      "Black Sand Baron (The Ripple System Book 2)\n",
      "BattleTech: A Rock and a Hard Place (A Gray Death Legion Novel)\n",
      "Delphi Diversion (Delphi in Space Book 12)\n",
      "Grimalkins Don't Purr: A Paranormal Suspense Novel with a Touch of Romance (Valkyrie Bestiary Book 4)\n",
      "Realms Of Aethindra 2: A LitRPG/Gamelit Adventure\n",
      "The Vacuum of Space: A Funny Sci Fi Mystery (Space Janitor Book 1)\n",
      "His Mate to Keep: A Sci-Fi Alien Romance (Warriors of the Lost Planet)\n",
      "Possessed: A Sci-Fi Alien Romance (Fated Mates of the Kalixian Warriors Book 11)\n",
      "Nancy and the Naga: A SciFi Alien Romance (Alien Abduction Book 14)\n",
      "Hunted: A Thomas Hunter Novel (Thomas Hunter Novels Book 2)\n",
      "Arbiter (Underdog Book #7): LitRPG Series\n",
      "Starship Freedom\n",
      "Shaman's Call- Frostburn: A Litrpg Adventure\n",
      "Helios High\n",
      "Dune: The Lady of Caladan (The Caladan Trilogy Book 2)\n",
      "The Dragon's Mate: A SciFi Romance (Interstellar Dragon Mates Book 1)\n",
      "Father Brown Complete Murder Mysteries: The Innocence of Father Brown, The Wisdom of Father Brown, The Donnington Affair…\n",
      "A Song of Flight (Warrior Bards Book 3)\n",
      "Enter Prehistoric (West Of Prehistoric Book 2)\n",
      "Walden\n",
      "Renaissance and Reboot in Flyover Country\n",
      "Havoc Tales Volume 1 Terror Below\n",
      "Sunreach (Skyward Flight: Novella 1) (The Skyward Series)\n",
      "20,000 Leagues Under the Sea Annotated\n",
      "Extinct: A Post-Apocalyptic Survival Thriller\n",
      "System: The Ancient Dragon’s Dragon Hunting Trip: Reborn Cultivation Fantasy Fiction Dragon Novel With System ( Teen Action-Adventure with Sword and Sorcery ) Book 1\n",
      "Into the West (The Founding of Valdemar Book 2)\n",
      "The Professor Wore Prussian Blue: Mysterious Devices 6 (Magnificent Devices Book 22)\n",
      "Starship Freedom\n",
      "Running Black (The Black Chronicles Book 3)\n",
      "The Choice\n",
      "Fred & the Night Knights\n",
      "The Cassowary\n",
      "Kingdom of Sails: A LitRPG/GameLit Series (World of Magic Book 2)\n",
      "The Last Graduate: A Novel (The Scholomance Book 2)\n",
      "The Scarlet Hopewell Box Set: Books 1–3: The Keepers of Light, The Dragon's Burden, and The Queen of the New World\n",
      "Monster Girl Defense Force: Skulls and Stones\n",
      "Storgin: Warlord Brides (Warriors of the Golden Meridian Book 4)\n",
      "Love on Impact: An Earthbound Alien Romance (Cosmic Kissed)\n",
      "H. P. Lovecraft: The Complete Fiction\n",
      "Spark of Imagination: Source of Power Book 1\n",
      "When Sorrows Come: An October Daye Novel\n",
      "The Actual Star: A Novel\n",
      "Claus Boxed: A Science Fiction Holiday Adventure (Claus Universe Boxed Book 1)\n",
      "Shadow's Fall: New White Sands City Cyberpunk Book 1\n"
     ]
    }
   ],
   "source": [
    "from bs4 import BeautifulSoup\n",
    "import requests\n",
    "import pandas as pd\n",
    "\n",
    "headers = {\n",
    "    \"User-Agent\": \"Mozilla/5.0 (Windows NT 10.0; Win64; x64) AppleWebKit/537.36 (KHTML, like Gecko) Chrome/93.0.4577.82 Safari/537.36\",\n",
    "    \"Accept-Encoding\": \"gzip, deflate, br\",\n",
    "    \"Accept\": \"text/html,application/xhtml+xml,application/xml;q=0.9,image/avif,image/webp,image/apng,*/*;q=0.8,application/signed-exchange;v=b3;q=0.9\",\n",
    "    \"DNT\": \"1\",\n",
    "    \"Connection\": \"close\",\n",
    "    \"Upgrade-Insecure-Requests\": \"1\",\n",
    "}\n",
    "for page in range(1, 5):\n",
    "    cookies = {'session': '134-8225175-0355220'}\n",
    "    r = requests.get(\"https://www.amazon.com/s?k=science+fiction+adventure&i=digital-text&page={page}&qid=1632193003&ref=sr_pg_2\".format(\n",
    "            page=page\n",
    "        ),\n",
    "        headers=headers,\n",
    "        cookies=cookies\n",
    "    )\n",
    "    soup = BeautifulSoup(r.content, \"lxml\")\n",
    "    for d in soup.select(\"span.a-size-medium.a-color-base.a-text-normal\"):\n",
    "        \n",
    "        print(d.text)"
   ]
  },
  {
   "cell_type": "code",
   "execution_count": null,
   "id": "9b59baba",
   "metadata": {},
   "outputs": [],
   "source": [
    "headers = {\n",
    "    \"User-Agent\": \"Mozilla/5.0 (Windows NT 10.0; Win64; x64) AppleWebKit/537.36 (KHTML, like Gecko) Chrome/93.0.4577.82 Safari/537.36\",\n",
    "    \"Accept-Encoding\": \"gzip, deflate, br\",\n",
    "    \"Accept\": \"text/html,application/xhtml+xml,application/xml;q=0.9,image/avif,image/webp,image/apng,*/*;q=0.8,application/signed-exchange;v=b3;q=0.9\",\n",
    "    \"DNT\": \"1\",\n",
    "    \"Connection\": \"close\",\n",
    "    \"Upgrade-Insecure-Requests\": \"1\",\n",
    "}\n",
    "cookies = {'session': '134-8225175-0355220'}\n",
    "r = requests.get(\"https://www.amazon.com/s?k=science+fiction+adventure&i=digital-text&page={page}&qid=1632193003&ref=sr_pg_2\".format(\n",
    "        page=page\n",
    "    ),\n",
    "    headers=headers,\n",
    "    cookies=cookies\n",
    ")\n",
    "soup = BeautifulSoup(r.content, \"lxml\")"
   ]
  },
  {
   "cell_type": "code",
   "execution_count": 7,
   "id": "82eee494",
   "metadata": {},
   "outputs": [
    {
     "data": {
      "text/plain": [
       "9"
      ]
     },
     "execution_count": 7,
     "metadata": {},
     "output_type": "execute_result"
    }
   ],
   "source": [
    "headers = {\n",
    "    \"User-Agent\": \"Mozilla/5.0 (Windows NT 10.0; Win64; x64) AppleWebKit/537.36 (KHTML, like Gecko) Chrome/93.0.4577.82 Safari/537.36\",\n",
    "    \"Accept-Encoding\": \"gzip, deflate, br\",\n",
    "    \"Accept\": \"text/html,application/xhtml+xml,application/xml;q=0.9,image/avif,image/webp,image/apng,*/*;q=0.8,application/signed-exchange;v=b3;q=0.9\",\n",
    "    \"DNT\": \"1\",\n",
    "    \"Connection\": \"close\",\n",
    "    \"Upgrade-Insecure-Requests\": \"1\",\n",
    "}\n",
    "r = requests.get('https://bamcostore.com/ar/category/137/%D9%82%D9%84%D8%A7%D9%8A%D8%A7%D8%AA?page=1')\n",
    "soup = BeautifulSoup(r.text, 'html.parser')\n",
    "products = soup.find_all('div', {'class': 'product_img'})\n",
    "len(products)"
   ]
  },
  {
   "cell_type": "code",
   "execution_count": 16,
   "id": "c1bd6abc",
   "metadata": {},
   "outputs": [
    {
     "ename": "NameError",
     "evalue": "name 'product' is not defined",
     "output_type": "error",
     "traceback": [
      "\u001b[0;31m---------------------------------------------------------------------------\u001b[0m",
      "\u001b[0;31mNameError\u001b[0m                                 Traceback (most recent call last)",
      "\u001b[0;32m<ipython-input-16-53c1bbeace13>\u001b[0m in \u001b[0;36m<module>\u001b[0;34m\u001b[0m\n\u001b[1;32m      1\u001b[0m \u001b[0mdriver\u001b[0m\u001b[0;34m.\u001b[0m\u001b[0mget\u001b[0m\u001b[0;34m(\u001b[0m\u001b[0;34m'https://bamcostore.com/ar/category/166/?&per-page=18'\u001b[0m\u001b[0;34m)\u001b[0m\u001b[0;34m\u001b[0m\u001b[0;34m\u001b[0m\u001b[0m\n\u001b[0;32m----> 2\u001b[0;31m \u001b[0murl_base\u001b[0m \u001b[0;34m=\u001b[0m \u001b[0;34mf'https://bamcostore.com/ar/category/{product}?&per-page=18'\u001b[0m\u001b[0;34m\u001b[0m\u001b[0;34m\u001b[0m\u001b[0m\n\u001b[0m",
      "\u001b[0;31mNameError\u001b[0m: name 'product' is not defined"
     ]
    }
   ],
   "source": [
    "driver.get('https://bamcostore.com/ar/category/166/?&per-page=18')\n",
    "url_base = f'https://bamcostore.com/ar/category/{product}?&per-page=18'"
   ]
  },
  {
   "cell_type": "code",
   "execution_count": 5,
   "id": "b4a2c339",
   "metadata": {},
   "outputs": [],
   "source": [
    "\n",
    "\n",
    "list_urls = (\n",
    "    {'url': '137/', 'cat1': 'أجهزة الطبخ', 'cat2': 'قلايات'},\n",
    "    {'url': '138/', 'cat1': 'أجهزة الطبخ', 'cat2': 'طباخات الأرز'},\n",
    "    {'url': '300/', 'cat1': 'أجهزة الطبخ', 'cat2': 'مايكروّيف'},\n",
    "    {'url': '140/', 'cat1': 'أجهزة الطبخ', 'cat2': 'أفران-كهربائية'},\n",
    "    {'url': '140/', 'cat1': 'أجهزة الطبخ', 'cat2': 'قدور-ضغط-كهربائية'},\n",
    "    {'url': '319/', 'cat1': 'أجهزة الطبخ', 'cat2': 'طباخ-كهربائي'},\n",
    "    {'url': '336/', 'cat1': 'أجهزة الطبخ', 'cat2': 'الشوايات'},\n",
    "    {'url': '314/', 'cat1': 'أجهزة تحضير الطعام', 'cat2': 'صانعة-فشار'},\n",
    "    {'url': '269/', 'cat1': 'أجهزة تحضير الطعام', 'cat2': 'صانعة-حلوى'},\n",
    "    {'url': '318/', 'cat1': 'أجهزة تحضير الطعام', 'cat2': 'صانعة خبز'},\n",
    "    {'url': '313/', 'cat1': 'أجهزة تحضير الطعام', 'cat2': 'صانعة كريب'},\n",
    "    {'url': '155/', 'cat1': 'أجهزة تحضير الطعام', 'cat2': 'صانعة معكرونة'},\n",
    "    {'url': '149/', 'cat1': 'أجهزة تحضير الطعام', 'cat2': 'سخان ساندوتش'},\n",
    "    {'url': '154/', 'cat1': 'أجهزة تحضير الطعام', 'cat2': 'فرامة/ قطاعة'},\n",
    "    {'url': '146/', 'cat1': 'أجهزة تحضير الطعام', 'cat2': 'عجانة'},\n",
    "    {'url': '147/', 'cat1': 'أجهزة تحضير الطعام', 'cat2': 'خلاطات'},\n",
    "    {'url': '337/', 'cat1': 'أجهزة تحضير الطعام', 'cat2': 'صانعة السلطة'},\n",
    "    {'url': '166/', 'cat1': 'أجهزة تحضير القهوة  والمشروبات', 'cat2': 'مطحنة قهوة'},\n",
    "    {'url': '165/', 'cat1': 'أجهزة تحضير القهوة  والمشروبات', 'cat2': 'صانعة - شاي'},\n",
    "    {'url': '163/', 'cat1': 'أجهزة تحضير القهوة  والمشروبات', 'cat2': 'محضرات-القهوة-/-إسبريسو'},\n",
    "    {'url': '167/', 'cat1': 'أجهزة تحضير القهوة  والمشروبات', 'cat2': 'الغلايات'},\n",
    "    {'url': '162/', 'cat1': 'أجهزة تحضير القهوة  والمشروبات', 'cat2': 'عصارة حمضيات'},\n",
    "    {'url': '189/', 'cat1': 'أجهزة العناية الشخصية', 'cat2': 'العناية بالشعر'},\n",
    "    {'url': '188/', 'cat1': 'أجهزة العناية الشخصية', 'cat2': 'أجهزة إزالة الشعر'},\n",
    "    {'url': '187/', 'cat1': 'أجهزة العناية الشخصية', 'cat2': 'العناية الرجالية'},\n",
    "    {'url': '324/', 'cat1': 'أجهزة العناية الشخصية', 'cat2': 'أدوات العناية بالقدم'},\n",
    "    {'url': '221/', 'cat1': 'زجاجيات', 'cat2': 'موزع-زيت'},\n",
    "    {'url': '212/', 'cat1': 'زجاجيات', 'cat2': 'البيالات والفناجين'},\n",
    "    {'url': '270/', 'cat1': 'زجاجيات', 'cat2': 'أكواب'},\n",
    "    {'url': '211/', 'cat1': 'زجاجيات', 'cat2': 'كاسات'},\n",
    "    {'url': '207/', 'cat1': 'زجاجيات', 'cat2': 'زبديات / سكريات'},\n",
    "    {'url': '298/', 'cat1': 'زجاجيات', 'cat2': 'حامل كيك'},\n",
    "    {'url': '206/', 'cat1': 'زجاجيات', 'cat2': 'صواني فرن'},\n",
    "    {'url': '205/', 'cat1': 'زجاجيات', 'cat2': 'حافظات'},\n",
    "    {'url': '216/', 'cat1': 'زجاجيات', 'cat2': 'جك'},\n",
    "    {'url': '204/', 'cat1': 'زجاجيات', 'cat2': 'أواني زجاجية'},\n",
    "    {'url': '323/', 'cat1': 'زجاجيات', 'cat2': 'مزهريات'},\n",
    "    {'url': '329/', 'cat1': 'زجاجيات', 'cat2': 'تحف منزلية'},\n",
    "    {'url': '272/', 'cat1': 'أواني طهي', 'cat2': 'التفلون'},\n",
    "    {'url': '257/', 'cat1': 'أواني طهي', 'cat2': 'أدوات مطبخ'},\n",
    "    {'url': '248/', 'cat1': 'أواني طهي', 'cat2': 'ستانلس ستيل'},\n",
    "    {'url': '274/', 'cat1': 'أواني طهي', 'cat2': 'التفلون'},\n",
    "    {'url': '254/', 'cat1': 'أواني طهي', 'cat2': 'حديد الزهر'},\n",
    "    {'url': '249/', 'cat1': 'أواني طهي', 'cat2': 'جرانيت'},\n",
    "    {'url': '253/', 'cat1': 'أواني طهي', 'cat2': 'الومنيوم'},\n",
    "    {'url': '299/', 'cat1': 'أواني طهي', 'cat2': 'جرانيت'},\n",
    "    {'url': '273/', 'cat1': 'أواني طهي', 'cat2': 'صواني'},\n",
    "    {'url': '247/', 'cat1': 'أواني طهي', 'cat2': 'مقلاة'},\n",
    "    {'url': '320/', 'cat1': 'أواني طهي', 'cat2': 'سيراميك'},\n",
    "    {'url': '321/', 'cat1': 'أواني طهي', 'cat2': 'سيراميك'},\n",
    "    {'url': '264/', 'cat1': 'أجهزة منزلية صغيرة', 'cat2': 'منقيات الهواء'},\n",
    "    {'url': '293/', 'cat1': 'أجهزة منزلية صغيرة', 'cat2': 'مبردات الماء'},\n",
    "    {'url': '263/', 'cat1': 'أجهزة منزلية صغيرة', 'cat2': 'مكانس'},\n",
    "    {'url': '265/', 'cat1': 'أجهزة منزلية صغيرة', 'cat2': 'كاويات'},\n",
    "    {'url': '335/', 'cat1': 'أجهزة منزلية صغيرة', 'cat2': 'دفايات'},\n",
    "    {'url': '312/', 'cat1': 'أجهزة منزلية صغيرة', 'cat2': 'صائد حشرات'},\n",
    "    {'url': '297/', 'cat1': 'أجهزة منزلية صغيرة', 'cat2': 'مراوح'},\n",
    "    {'url': '252/', 'cat1': 'ترامس القهوة والشاي', 'cat2': 'أدوات تحضير شاي'},\n",
    "    {'url': '317/', 'cat1': 'ترامس القهوة والشاي', 'cat2': 'ترمس حراري'},\n",
    "    {'url': '331/', 'cat1': 'ترامس القهوة والشاي', 'cat2': 'ترامس روز'},\n",
    "    {'url': '294/', 'cat1': 'صحون و أداوت مائدة', 'cat2': 'أطقم صحون سفرة'},\n",
    "    {'url': '269/', 'cat1': 'صحون و أداوت مائدة', 'cat2': 'أدوات تناول الطعام'},\n",
    "    {'url': '332/', 'cat1': 'صحون و أداوت مائدة', 'cat2': 'ملاّحة'},\n",
    "    {'url': '287/', 'cat1': 'العناية و الجمال', 'cat2': 'معطرات جو'},\n",
    "    {'url': '288/', 'cat1': 'العناية و الجمال', 'cat2': 'صبغات شعر'},\n",
    "    {'url': '283/', 'cat1': 'العناية و الجمال', 'cat2': 'العناية بالشعر'},\n",
    "    {'url': '286/', 'cat1': 'العناية و الجمال', 'cat2': 'قطن-أعواد'},\n",
    "    {'url': '285/', 'cat1': 'العناية و الجمال', 'cat2': 'مستلزمات العناية بالبشرة'},\n",
    "    {'url': '282/', 'cat1': 'العناية و الجمال', 'cat2': 'العناية بالجسم'},\n",
    "    {'url': '281/', 'cat1': 'العناية و الجمال', 'cat2': 'العناية بالوجه'},\n",
    "    {'url': '303/', 'cat1': 'قسم القدور ', 'cat2': 'ستانلس ستيل'},\n",
    "    {'url': '302/', 'cat1': 'قسم القدور ', 'cat2': 'أطقم قدور'},\n",
    "    {'url': '311/', 'cat1': 'قسم القدور ', 'cat2': 'الومنيوم'},\n",
    "    {'url': '310/', 'cat1': 'قسم القدور ', 'cat2': 'ستانلس ستيل'},\n",
    "    {'url': '309/', 'cat1': 'قسم القدور ', 'cat2': 'قدور ضغط'},\n",
    "    {'url': '308/', 'cat1': 'قسم القدور ', 'cat2': 'تفلون'},\n",
    "    {'url': '307/', 'cat1': 'قسم القدور ', 'cat2': 'جرانيت'},\n",
    "    {'url': '306/', 'cat1': 'قسم القدور ', 'cat2': 'ستانلس ستيل'},\n",
    "    {'url': '305/', 'cat1': 'قسم القدور ', 'cat2': 'قدور مفردة'},\n",
    "    {'url': '304/', 'cat1': 'قسم القدور ', 'cat2': 'جرانيت'},\n",
    "    {'url': '322/', 'cat1': 'قسم القدور ', 'cat2': 'سيراميك'},\n",
    "    {'url': '316/', 'cat1': 'مستلزمات منزل', 'cat2': 'أدوات تنظيف'},\n",
    "    {'url': '330/', 'cat1': 'مستلزمات منزل', 'cat2': 'إكسسوارات الحمام'},\n",
    "    {'url': '327/', 'cat1': 'أثاث', 'cat2': 'طاولات'},\n",
    "    {'url': '334/', 'cat1': 'تخزين وتنظيم المطبخ', 'cat2': 'حافظات'},\n",
    "   \n",
    ")"
   ]
  },
  {
   "cell_type": "markdown",
   "id": "4fbf7c38",
   "metadata": {},
   "source": [
    "# Scrape urls"
   ]
  },
  {
   "cell_type": "code",
   "execution_count": 6,
   "id": "1376079c",
   "metadata": {},
   "outputs": [
    {
     "name": "stdout",
     "output_type": "stream",
     "text": [
      "Count: 0\n",
      "url: https://bamcostore.com/ar/category/137/?&per-page=18\n",
      "Count: 1\n",
      "url: https://bamcostore.com/ar/category/138/?&per-page=18\n",
      "Count: 2\n",
      "url: https://bamcostore.com/ar/category/300/?&per-page=18\n",
      "Count: 3\n",
      "url: https://bamcostore.com/ar/category/140/?&per-page=18\n",
      "Count: 4\n",
      "url: https://bamcostore.com/ar/category/140/?&per-page=18\n",
      "Count: 5\n",
      "url: https://bamcostore.com/ar/category/319/?&per-page=18\n",
      "Count: 6\n",
      "url: https://bamcostore.com/ar/category/336/?&per-page=18\n",
      "Count: 7\n",
      "url: https://bamcostore.com/ar/category/314/?&per-page=18\n",
      "Count: 8\n",
      "url: https://bamcostore.com/ar/category/269/?&per-page=18\n",
      "Count: 9\n",
      "url: https://bamcostore.com/ar/category/318/?&per-page=18\n",
      "Count: 10\n",
      "url: https://bamcostore.com/ar/category/313/?&per-page=18\n",
      "Count: 11\n",
      "url: https://bamcostore.com/ar/category/155/?&per-page=18\n",
      "Count: 12\n",
      "url: https://bamcostore.com/ar/category/149/?&per-page=18\n",
      "Count: 13\n",
      "url: https://bamcostore.com/ar/category/154/?&per-page=18\n",
      "Count: 14\n",
      "url: https://bamcostore.com/ar/category/146/?&per-page=18\n",
      "Count: 15\n",
      "url: https://bamcostore.com/ar/category/147/?&per-page=18\n",
      "Count: 16\n",
      "url: https://bamcostore.com/ar/category/337/?&per-page=18\n",
      "Count: 17\n",
      "url: https://bamcostore.com/ar/category/166/?&per-page=18\n",
      "Count: 18\n",
      "url: https://bamcostore.com/ar/category/165/?&per-page=18\n",
      "Count: 19\n",
      "url: https://bamcostore.com/ar/category/163/?&per-page=18\n",
      "Count: 20\n",
      "url: https://bamcostore.com/ar/category/167/?&per-page=18\n",
      "Count: 21\n",
      "url: https://bamcostore.com/ar/category/162/?&per-page=18\n",
      "Count: 22\n",
      "url: https://bamcostore.com/ar/category/189/?&per-page=18\n",
      "Count: 23\n",
      "url: https://bamcostore.com/ar/category/188/?&per-page=18\n",
      "Count: 24\n",
      "url: https://bamcostore.com/ar/category/187/?&per-page=18\n",
      "Count: 25\n",
      "url: https://bamcostore.com/ar/category/324/?&per-page=18\n",
      "Count: 26\n",
      "url: https://bamcostore.com/ar/category/221/?&per-page=18\n",
      "Count: 27\n",
      "url: https://bamcostore.com/ar/category/212/?&per-page=18\n",
      "Count: 28\n",
      "url: https://bamcostore.com/ar/category/270/?&per-page=18\n",
      "Count: 29\n",
      "url: https://bamcostore.com/ar/category/211/?&per-page=18\n",
      "Count: 30\n",
      "url: https://bamcostore.com/ar/category/207/?&per-page=18\n",
      "Count: 31\n",
      "url: https://bamcostore.com/ar/category/298/?&per-page=18\n",
      "Count: 32\n",
      "url: https://bamcostore.com/ar/category/206/?&per-page=18\n",
      "Count: 33\n",
      "url: https://bamcostore.com/ar/category/205/?&per-page=18\n",
      "Count: 34\n",
      "url: https://bamcostore.com/ar/category/216/?&per-page=18\n",
      "Count: 35\n",
      "url: https://bamcostore.com/ar/category/204/?&per-page=18\n",
      "Count: 36\n",
      "url: https://bamcostore.com/ar/category/323/?&per-page=18\n",
      "Count: 37\n",
      "url: https://bamcostore.com/ar/category/329/?&per-page=18\n",
      "Count: 38\n",
      "url: https://bamcostore.com/ar/category/272/?&per-page=18\n",
      "Count: 39\n",
      "url: https://bamcostore.com/ar/category/257/?&per-page=18\n",
      "Count: 40\n",
      "url: https://bamcostore.com/ar/category/248/?&per-page=18\n",
      "Count: 41\n",
      "url: https://bamcostore.com/ar/category/274/?&per-page=18\n",
      "Count: 42\n",
      "url: https://bamcostore.com/ar/category/254/?&per-page=18\n",
      "Count: 43\n",
      "url: https://bamcostore.com/ar/category/249/?&per-page=18\n",
      "Count: 44\n",
      "url: https://bamcostore.com/ar/category/253/?&per-page=18\n",
      "Count: 45\n",
      "url: https://bamcostore.com/ar/category/299/?&per-page=18\n",
      "Count: 46\n",
      "url: https://bamcostore.com/ar/category/273/?&per-page=18\n",
      "Count: 47\n",
      "url: https://bamcostore.com/ar/category/247/?&per-page=18\n",
      "Count: 48\n",
      "url: https://bamcostore.com/ar/category/320/?&per-page=18\n",
      "Count: 49\n",
      "url: https://bamcostore.com/ar/category/321/?&per-page=18\n",
      "Count: 50\n",
      "url: https://bamcostore.com/ar/category/264/?&per-page=18\n",
      "Count: 51\n",
      "url: https://bamcostore.com/ar/category/293/?&per-page=18\n",
      "Count: 52\n",
      "url: https://bamcostore.com/ar/category/263/?&per-page=18\n",
      "Count: 53\n",
      "url: https://bamcostore.com/ar/category/265/?&per-page=18\n",
      "Count: 54\n",
      "url: https://bamcostore.com/ar/category/335/?&per-page=18\n",
      "Count: 55\n",
      "url: https://bamcostore.com/ar/category/312/?&per-page=18\n",
      "Count: 56\n",
      "url: https://bamcostore.com/ar/category/297/?&per-page=18\n",
      "Count: 57\n",
      "url: https://bamcostore.com/ar/category/252/?&per-page=18\n",
      "Count: 58\n",
      "url: https://bamcostore.com/ar/category/317/?&per-page=18\n",
      "Count: 59\n",
      "url: https://bamcostore.com/ar/category/331/?&per-page=18\n",
      "Count: 60\n",
      "url: https://bamcostore.com/ar/category/294/?&per-page=18\n",
      "Count: 61\n",
      "url: https://bamcostore.com/ar/category/269/?&per-page=18\n",
      "Count: 62\n",
      "url: https://bamcostore.com/ar/category/332/?&per-page=18\n",
      "Count: 63\n",
      "url: https://bamcostore.com/ar/category/287/?&per-page=18\n",
      "Count: 64\n",
      "url: https://bamcostore.com/ar/category/288/?&per-page=18\n",
      "Count: 65\n",
      "url: https://bamcostore.com/ar/category/283/?&per-page=18\n",
      "Count: 66\n",
      "url: https://bamcostore.com/ar/category/286/?&per-page=18\n",
      "Count: 67\n",
      "url: https://bamcostore.com/ar/category/285/?&per-page=18\n",
      "Count: 68\n",
      "url: https://bamcostore.com/ar/category/282/?&per-page=18\n",
      "Count: 69\n",
      "url: https://bamcostore.com/ar/category/281/?&per-page=18\n",
      "Count: 70\n",
      "url: https://bamcostore.com/ar/category/303/?&per-page=18\n",
      "Count: 71\n",
      "url: https://bamcostore.com/ar/category/302/?&per-page=18\n",
      "Count: 72\n",
      "url: https://bamcostore.com/ar/category/311/?&per-page=18\n",
      "Count: 73\n",
      "url: https://bamcostore.com/ar/category/310/?&per-page=18\n",
      "Count: 74\n",
      "url: https://bamcostore.com/ar/category/309/?&per-page=18\n",
      "Count: 75\n",
      "url: https://bamcostore.com/ar/category/308/?&per-page=18\n",
      "Count: 76\n",
      "url: https://bamcostore.com/ar/category/307/?&per-page=18\n",
      "Count: 77\n",
      "url: https://bamcostore.com/ar/category/306/?&per-page=18\n",
      "Count: 78\n",
      "url: https://bamcostore.com/ar/category/305/?&per-page=18\n",
      "Count: 79\n",
      "url: https://bamcostore.com/ar/category/304/?&per-page=18\n",
      "Count: 80\n",
      "url: https://bamcostore.com/ar/category/322/?&per-page=18\n",
      "Count: 81\n",
      "url: https://bamcostore.com/ar/category/316/?&per-page=18\n",
      "Count: 82\n",
      "url: https://bamcostore.com/ar/category/330/?&per-page=18\n",
      "Count: 83\n",
      "url: https://bamcostore.com/ar/category/327/?&per-page=18\n",
      "Count: 84\n",
      "url: https://bamcostore.com/ar/category/334/?&per-page=18\n"
     ]
    }
   ],
   "source": [
    "headers = {\n",
    "    \"User-Agent\": \"Mozilla/5.0 (Windows NT 10.0; Win64; x64) AppleWebKit/537.36 (KHTML, like Gecko) Chrome/93.0.4577.82 Safari/537.36\",\n",
    "    \"Accept-Encoding\": \"gzip, deflate, br\",\n",
    "    \"Accept\": \"text/html,application/xhtml+xml,application/xml;q=0.9,image/avif,image/webp,image/apng,*/*;q=0.8,application/signed-exchange;v=b3;q=0.9\",\n",
    "    \"DNT\": \"1\",\n",
    "    \"Connection\": \"close\",\n",
    "    \"Upgrade-Insecure-Requests\": \"1\",\n",
    "}\n",
    "r = requests.get('https://bamcostore.com/ar/category/137/%D9%82%D9%84%D8%A7%D9%8A%D8%A7%D8%AA?page=1')\n",
    "soup = BeautifulSoup(r.text, 'html.parser')\n",
    "products = soup.find_all('div', {'class': 'product_img'})\n",
    "len(products)\n",
    "\n",
    "products_urls = []\n",
    "for i, url in enumerate(list_urls):\n",
    "    print('Count:', i)\n",
    "    \n",
    "    toto = url['url']\n",
    "    cat1 = url['cat1']\n",
    "    cat2 = url['cat2']\n",
    "    url_base = f'https://bamcostore.com/ar/category/{toto}?&per-page=18'\n",
    "    print('url:', url_base)\n",
    "    try:\n",
    "        r = requests.get(url_base, headers=headers)\n",
    "    except:\n",
    "        continue\n",
    "    time.sleep(0.5)\n",
    "    soup = BeautifulSoup(r.text, 'html.parser')\n",
    "    products = soup.find_all('a', {'class': 'product_id'})\n",
    "    for product in products:\n",
    "        products_urls.append(\n",
    "            { \n",
    "                'url':'https://bamcostore.com' + product['href'],\n",
    "                'cat1': cat1,\n",
    "                'cat2': cat2,\n",
    "            }\n",
    "        )"
   ]
  },
  {
   "cell_type": "code",
   "execution_count": 35,
   "id": "2f01b7fd",
   "metadata": {
    "scrolled": true
   },
   "outputs": [
    {
     "ename": "NameError",
     "evalue": "name 'products_urls' is not defined",
     "output_type": "error",
     "traceback": [
      "\u001b[0;31m---------------------------------------------------------------------------\u001b[0m",
      "\u001b[0;31mNameError\u001b[0m                                 Traceback (most recent call last)",
      "Input \u001b[0;32mIn [35]\u001b[0m, in \u001b[0;36m<module>\u001b[0;34m\u001b[0m\n\u001b[0;32m----> 1\u001b[0m \u001b[38;5;28mlen\u001b[39m(\u001b[43mproducts_urls\u001b[49m)\n",
      "\u001b[0;31mNameError\u001b[0m: name 'products_urls' is not defined"
     ]
    }
   ],
   "source": [
    "len(products_urls)"
   ]
  },
  {
   "cell_type": "code",
   "execution_count": 39,
   "id": "70c3a8b7",
   "metadata": {},
   "outputs": [
    {
     "ename": "TypeError",
     "evalue": "unhashable type: 'dict'",
     "output_type": "error",
     "traceback": [
      "\u001b[0;31m---------------------------------------------------------------------------\u001b[0m",
      "\u001b[0;31mTypeError\u001b[0m                                 Traceback (most recent call last)",
      "Input \u001b[0;32mIn [39]\u001b[0m, in \u001b[0;36m<module>\u001b[0;34m\u001b[0m\n\u001b[0;32m----> 1\u001b[0m products_urls \u001b[38;5;241m=\u001b[39m \u001b[38;5;28mlist\u001b[39m(\u001b[38;5;28;43mdict\u001b[39;49m\u001b[38;5;241;43m.\u001b[39;49m\u001b[43mfromkeys\u001b[49m\u001b[43m(\u001b[49m\u001b[43mproducts_urls\u001b[49m\u001b[43m)\u001b[49m)\n",
      "\u001b[0;31mTypeError\u001b[0m: unhashable type: 'dict'"
     ]
    }
   ],
   "source": [
    "products_urls = list(dict.fromkeys(products_urls))"
   ]
  },
  {
   "cell_type": "markdown",
   "id": "b71c8511",
   "metadata": {},
   "source": [
    "## Scrape all products"
   ]
  },
  {
   "cell_type": "code",
   "execution_count": 1080,
   "id": "5bef3632",
   "metadata": {},
   "outputs": [],
   "source": [
    "products_urls = []"
   ]
  },
  {
   "cell_type": "code",
   "execution_count": 1081,
   "id": "f60920c7",
   "metadata": {},
   "outputs": [
    {
     "data": {
      "text/plain": [
       "8"
      ]
     },
     "execution_count": 1081,
     "metadata": {},
     "output_type": "execute_result"
    }
   ],
   "source": [
    "products = driver.find_elements_by_xpath('//a[@class=\"product_id\"]')\n",
    "len(products)\n",
    "\n",
    "for product in products:\n",
    "    products_urls.append(product.get_attribute('href'))\n",
    "products_urls = list(dict.fromkeys(products_urls))\n",
    "len(products_urls)"
   ]
  },
  {
   "cell_type": "code",
   "execution_count": null,
   "id": "f59ae7b0",
   "metadata": {},
   "outputs": [],
   "source": []
  },
  {
   "cell_type": "code",
   "execution_count": null,
   "id": "4905c5f4",
   "metadata": {},
   "outputs": [],
   "source": []
  },
  {
   "cell_type": "code",
   "execution_count": 10,
   "id": "ca6236fc",
   "metadata": {},
   "outputs": [],
   "source": []
  },
  {
   "cell_type": "code",
   "execution_count": null,
   "id": "b6e83bab",
   "metadata": {},
   "outputs": [],
   "source": []
  },
  {
   "cell_type": "code",
   "execution_count": null,
   "id": "81976240",
   "metadata": {},
   "outputs": [],
   "source": []
  },
  {
   "cell_type": "code",
   "execution_count": null,
   "id": "47417ef0",
   "metadata": {},
   "outputs": [],
   "source": []
  },
  {
   "cell_type": "code",
   "execution_count": 68,
   "id": "e1d98328",
   "metadata": {},
   "outputs": [],
   "source": [
    "aaa"
   ]
  },
  {
   "cell_type": "code",
   "execution_count": null,
   "id": "d26755d4",
   "metadata": {},
   "outputs": [],
   "source": []
  },
  {
   "cell_type": "code",
   "execution_count": null,
   "id": "6640cb7d",
   "metadata": {},
   "outputs": [],
   "source": []
  },
  {
   "cell_type": "markdown",
   "id": "3a1f4268",
   "metadata": {},
   "source": [
    "# Debut de la fonction"
   ]
  },
  {
   "cell_type": "code",
   "execution_count": 1082,
   "id": "14f4125f",
   "metadata": {
    "scrolled": true
   },
   "outputs": [
    {
     "name": "stdout",
     "output_type": "stream",
     "text": [
      "Count: 0\n",
      "URL: https://bamcostore.com/ar/product/1002/%D9%85%D8%B9%D8%B7%D8%B1-%D8%A7%D9%84%D8%AC%D9%88-%D8%B4%D9%81%D8%A7-%D8%B1%D8%A7%D8%A6%D8%AD%D8%A9-%D8%A7%D9%84%D8%A8%D8%AD%D8%B1-300-%D9%85%D9%84\n",
      "sku:  8692949411158\n",
      "Title: معطر الجو شفا رائحة البحر 300 مل\n",
      "Price: 9.00 \n",
      "Sku: 8692949411158\n",
      "Count: 1\n",
      "URL: https://bamcostore.com/ar/product/1003/%D9%85%D8%B9%D8%B7%D8%B1-%D8%A7%D9%84%D8%AC%D9%88-%D8%B4%D9%81%D8%A7-%D9%83%D9%8A%D9%88%D9%8A-300-%D9%85%D9%84\n",
      "sku:  8692949411096\n",
      "Title: معطر الجو شفا كيوي 300 مل\n",
      "Price: 9.00 \n",
      "Sku: 8692949411096\n",
      "Count: 2\n",
      "URL: https://bamcostore.com/ar/product/1004/%D9%85%D8%B9%D8%B7%D8%B1-%D8%A7%D9%84%D8%AC%D9%88-%D8%B4%D9%81%D8%A7-%D9%88%D8%B1%D8%AF-300-%D9%85%D9%84\n",
      "sku:  8692949411133\n",
      "Title: معطر الجو شفا ورد 300 مل\n",
      "Price: 9.00 \n",
      "Sku: 8692949411133\n",
      "Count: 3\n",
      "URL: https://bamcostore.com/ar/product/1005/%D9%85%D8%B9%D8%B7%D8%B1-%D8%A7%D9%84%D8%AC%D9%88-%D8%B4%D9%81%D8%A7-%D8%A3%D9%85%D9%88%D8%B1-300-%D9%85%D9%84\n",
      "sku:  8692949411201\n",
      "Title: معطر الجو شفا أمور 300 مل\n",
      "Price: 9.00 \n",
      "Sku: 8692949411201\n",
      "Count: 4\n",
      "URL: https://bamcostore.com/ar/product/1006/%D9%85%D8%B9%D8%B7%D8%B1-%D8%A7%D9%84%D8%AC%D9%88-%D8%B4%D9%81%D8%A7-%D8%A7%D9%84%D8%A3%D9%81%D9%86%D8%AF%D8%B1-300-%D9%85%D9%84\n",
      "sku:  8692949411102\n",
      "Title: معطر الجو شفا الأفندر 300 مل\n",
      "Price: 9.00 \n",
      "Sku: 8692949411102\n",
      "Count: 5\n",
      "URL: https://bamcostore.com/ar/product/1007/%D9%85%D8%B9%D8%B7%D8%B1-%D8%A7%D9%84%D8%AC%D9%88-%D8%B4%D9%81%D8%A7-%D8%B9%D9%88%D8%AF-300-%D9%85%D9%84\n",
      "sku:  8692949411126\n",
      "Title: معطر الجو شفا عود 300 مل\n",
      "Price: 9.00 \n",
      "Sku: 8692949411126\n",
      "Count: 6\n",
      "URL: https://bamcostore.com/ar/product/1009/%D9%85%D8%B9%D8%B7%D8%B1-%D8%A7%D9%84%D8%AC%D9%88-%D8%B4%D9%81%D8%A7-%D9%81%D8%B1%D8%A7%D9%88%D9%84%D8%A9-300-%D9%85%D9%84\n",
      "sku:  8682949411141\n",
      "Title: معطر الجو شفا فراولة 300 مل\n",
      "Price: 9.00 \n",
      "Sku: 8682949411141\n",
      "Count: 7\n",
      "URL: https://bamcostore.com/ar/product/1010/%D9%85%D8%B9%D8%B7%D8%B1-%D8%A7%D9%84%D8%AC%D9%88-%D8%B4%D9%81%D8%A7-%D9%84%D9%8A%D9%85%D9%88%D9%86-300-%D9%85%D9%84\n",
      "sku:  8692949411713\n",
      "Title: معطر الجو شفا ليمون 300 مل\n",
      "Price: 9.00 \n",
      "Sku: 8692949411713\n"
     ]
    }
   ],
   "source": [
    "now = datetime.now()\n",
    "dt_string = now.strftime(\"%d-%m-%Y-%H-%M-%S\")\n",
    "\n",
    "def extract_dim(name, details):\n",
    "    try:\n",
    "        toto = details.find('span',text=name).parent.parent.parent.find_all('div')[-1].text.strip()\n",
    "    except:\n",
    "        toto = ''\n",
    "    return toto\n",
    "\n",
    "def extraire_ele(name, soup):\n",
    "    try:\n",
    "        toto = soup.find('li', text=re.compile(f'^{name}')).text.replace(':', '').replace(name, '').strip()\n",
    "    except:\n",
    "        toto = ''\n",
    "    if toto == '':\n",
    "        try:\n",
    "            toto = soup.find('p', text=re.compile(f'^{name}')).replace(':', '').text.replace(name, '').strip()\n",
    "            \n",
    "        except:\n",
    "            try:\n",
    "                toto = soup.find('li', text=re.compile(f'{name}')).replace(':', '').text.replace(name, '').strip()\n",
    "            except:\n",
    "                toto = ''\n",
    "    return toto\n",
    "\n",
    "def return_image():\n",
    "    regex = re.compile(r'(?:http\\:|https\\:)?\\/\\/.*\\.(?:png|jpg)')\n",
    "    soup1 = driver.find_element_by_class_name('zoomWindowContainer').get_attribute('innerHTML')\n",
    "    soup = BeautifulSoup(soup1, 'html.parser')\n",
    "    div_style = soup.find('div')['style']\n",
    "    images_href = regex.search(str(div_style))\n",
    "    if images_href != None:\n",
    "        return (images_href.group(0))\n",
    "    \n",
    "    \n",
    "def extract_sku(text):\n",
    "    if text.split('/')[-2].isdigit():\n",
    "        return text.split('/')[-2]\n",
    "    if text.split('/')[-3].isdigit():\n",
    "        return text.split('/')[-3]\n",
    "regex1 = re.compile(r'(?P<power>\\d*\\.?\\d*) واط')\n",
    "regex2 = re.compile(r'(?P<capa>\\d*\\.?\\d*) لتر')\n",
    "def retrun_text(txt):\n",
    "        details = driver.find_element_by_class_name('product-meta')\n",
    "        uls = details.find_elements_by_tag_name('li')\n",
    "\n",
    "        for tt in uls:\n",
    "            if txt in tt.text:\n",
    "                return (tt.text.replace(txt, '').replace(':', '').strip())\n",
    "        return None\n",
    "#**********************************************************************\n",
    "#**********************************************************************\n",
    "#**********************************************************************\n",
    "#**********************************************************************\n",
    "#**********************************************************************\n",
    "#ForLoop main\n",
    "#cat2 = 'قلايات'\n",
    "# cat2 = 'طباخات الأرز'\n",
    "cat2 = 'معطرات جو'\n",
    "cat1 = 'العناية - الجمال'\n",
    "categories = '43816,43619,113'\n",
    "df = pd.read_excel('/home/wafistos/Documents/Projects/scaping_wafi/bamcosore.com/bamcostore_model1.xlsx')\n",
    "for i, url1 in enumerate(products_urls):\n",
    "    url = url1\n",
    "\n",
    "    print('Count:', i)\n",
    "    print('URL:', url)\n",
    "    driver.get(url)\n",
    "    text = driver.find_element_by_tag_name('body').get_attribute('innerHTML')\n",
    "\n",
    "\n",
    "    try:\n",
    "        name = driver.find_element_by_class_name('product_title').text.strip()\n",
    "    except:\n",
    "        continue\n",
    "    \n",
    "    power = ''\n",
    "    volume = ''\n",
    "    p = regex1.search(name)\n",
    "    if p != None:\n",
    "        power = p['power']\n",
    "    p1 = regex2.search(name)\n",
    "    if p1 != None:\n",
    "        volume = p1['capa']\n",
    "    text = driver.find_element_by_tag_name('body').get_attribute('innerHTML')\n",
    "    soup = BeautifulSoup(text, 'html.parser')\n",
    "    sku = extraire_ele('رقم المنتج', soup)\n",
    "    print('sku: ', sku)\n",
    "    if sku == '':\n",
    "        sku = extract_sku(url)\n",
    "    \n",
    "#     if sku == None:\n",
    "#        continue\n",
    "    time.sleep(1)\n",
    "\n",
    "    price = driver.find_element_by_class_name('price').text.replace('ريال', '')\n",
    "    special_price = ''\n",
    "    brands = retrun_text('العلامة التجارية')\n",
    "    description = driver.find_element_by_id('Description').text\n",
    "    text = driver.find_element_by_tag_name('body').get_attribute('innerHTML')\n",
    "    soup = BeautifulSoup(text, 'html.parser')\n",
    "    details = soup.find('ul', {'class': 'product-meta'})\n",
    "    \n",
    "    list_images = []\n",
    "#     colors = driver.find_elements_by_xpath('//div[@class=\"product_color_switch color-switcher\"]//a')\n",
    "#     for color in colors:\n",
    "#         color.click()\n",
    "#         time.sleep(0.5)\n",
    "    imgs = driver.find_elements_by_xpath('//div[@id=\"pr_item_gallery\"]//img')\n",
    "    len(imgs)\n",
    "    for img in imgs:\n",
    "        list_images.append(img.get_attribute('src'))\n",
    "    image_base = list_images[0]\n",
    "    try:\n",
    "        additionnel_images = ','.join(list_images[1:])\n",
    "    except:\n",
    "        pass\n",
    "    soup = BeautifulSoup(text, 'html.parser')\n",
    "    ts_dimensions_width = extract_dim('العرض', soup)\n",
    "    ts_dimensions_highet = extract_dim('الارتفاع', soup)\n",
    "    ts_dimensions_length = extract_dim('الارتفاع', soup)\n",
    "    depth = extract_dim('العمق', soup)\n",
    "    type_ = extract_dim('نوع المنتج', soup)\n",
    "    color = extract_dim('لون المنتج', soup)\n",
    "    \n",
    "    hertz = extract_dim('تردد دخل AC', soup)\n",
    "    power_cord_length = extract_dim('طول السلك', soup)\n",
    "    power1 = extract_dim('القدرة', soup)\n",
    "    \n",
    "    manufacturer = extract_dim('بلد المنشأ', soup)\n",
    "    if manufacturer == '':\n",
    "        manufacturer = '‫مستوردة‬'\n",
    "    recharge_time = extract_dim('مدة الشحن', soup)\n",
    "#************************************************************************** \n",
    "    print('Title:', name)\n",
    "    print('Price:', price)\n",
    "\n",
    "#     print('Size:',Dimensions)\n",
    "    print('Sku:',sku)\n",
    "\n",
    "#         list_input_images2.append(t)\n",
    "#*******************************************************\n",
    "    two_month = datetime.now() + timedelta(days=60)\n",
    "    two_month = two_month.strftime(\"%m/%d/%Y\")\n",
    "    today = datetime.today().strftime(\"%m/%d/%Y\")\n",
    "\n",
    "#*******************************************************\n",
    "\n",
    "\n",
    "    series = pd.Series([sku,\n",
    "                         name,\n",
    "                         price,\n",
    "                        special_price,\n",
    "                        ts_dimensions_width,\n",
    "                        ts_dimensions_highet,\n",
    "                        ts_dimensions_length,\n",
    "                        depth,\n",
    "                        type_,\n",
    "                        color,\n",
    "                        power,\n",
    "                        volume,\n",
    "                        hertz,\n",
    "                    power_cord_length,\n",
    "                    power1,\n",
    "                         description,\n",
    "                         brands,\n",
    "                        image_base,\n",
    "                        additionnel_images,\n",
    "                        url,#link_url,\n",
    "                         cat1,#category1,\n",
    "                         cat2,#category2,\n",
    "                         '',#category3,\n",
    "                        categories,\n",
    "                        manufacturer,\n",
    "                        recharge_time,\n",
    "\n",
    "                        ],  index=df.columns)\n",
    "    #df.append(df1)\n",
    "    df = df.append(series, ignore_index=True)\n",
    "    df.to_excel( f'bamcostore_update{cat2}.xlsx', index = False)\n"
   ]
  },
  {
   "cell_type": "code",
   "execution_count": null,
   "id": "96fc6e0b",
   "metadata": {},
   "outputs": [],
   "source": []
  },
  {
   "cell_type": "code",
   "execution_count": 402,
   "id": "e3b09cba",
   "metadata": {},
   "outputs": [
    {
     "data": {
      "text/plain": [
       "'50-60 هرتز'"
      ]
     },
     "execution_count": 402,
     "metadata": {},
     "output_type": "execute_result"
    }
   ],
   "source": [
    "hertz = extract_dim('تردد دخل AC', soup)\n",
    "hertz"
   ]
  },
  {
   "cell_type": "code",
   "execution_count": null,
   "id": "64779d38",
   "metadata": {},
   "outputs": [],
   "source": []
  },
  {
   "cell_type": "code",
   "execution_count": null,
   "id": "a352ce1a",
   "metadata": {},
   "outputs": [],
   "source": []
  },
  {
   "cell_type": "code",
   "execution_count": 8,
   "id": "c06751f6",
   "metadata": {},
   "outputs": [],
   "source": [
    "text = driver.find_element_by_tag_name('body').get_attribute('innerHTML')\n",
    "soup = BeautifulSoup(text, 'html.parser')"
   ]
  },
  {
   "cell_type": "code",
   "execution_count": 15,
   "id": "8aa057f1",
   "metadata": {},
   "outputs": [
    {
     "data": {
      "text/plain": [
       "'8710103597209'"
      ]
     },
     "execution_count": 15,
     "metadata": {},
     "output_type": "execute_result"
    }
   ],
   "source": [
    "sku = extraire_ele('رقم المنتج', soup)\n",
    "sku"
   ]
  },
  {
   "cell_type": "code",
   "execution_count": null,
   "id": "2863069f",
   "metadata": {},
   "outputs": [],
   "source": [
    "power = "
   ]
  },
  {
   "cell_type": "code",
   "execution_count": 48,
   "id": "fa7232da",
   "metadata": {},
   "outputs": [
    {
     "data": {
      "text/plain": [
       "'45'"
      ]
     },
     "execution_count": 48,
     "metadata": {},
     "output_type": "execute_result"
    }
   ],
   "source": [
    "text = 'فرن كهربائي كيون 45 لتر ، 2000 واط'\n",
    "regex1 = re.compile(r'(?P<power>\\d*\\.?\\d*) واط')\n",
    "regex2 = re.compile(r'(?P<capa>\\d*\\.?\\d*) لتر')\n",
    "p = regex1.search(text)\n",
    "p['power']\n",
    "p1 = regex2.search(text)\n",
    "p1['capa']"
   ]
  },
  {
   "cell_type": "code",
   "execution_count": null,
   "id": "ad8f7cb1",
   "metadata": {},
   "outputs": [],
   "source": []
  },
  {
   "cell_type": "code",
   "execution_count": null,
   "id": "cffb568a",
   "metadata": {},
   "outputs": [],
   "source": []
  },
  {
   "cell_type": "markdown",
   "id": "b7d8d492",
   "metadata": {},
   "source": [
    "    df.dro"
   ]
  },
  {
   "cell_type": "code",
   "execution_count": 66,
   "id": "c55afd8c",
   "metadata": {},
   "outputs": [],
   "source": [
    "df.drop_duplicates(subset='sku', inplace=True)"
   ]
  },
  {
   "cell_type": "code",
   "execution_count": 25,
   "id": "60fdde8e",
   "metadata": {},
   "outputs": [
    {
     "data": {
      "text/plain": [
       "(176, 11)"
      ]
     },
     "execution_count": 25,
     "metadata": {},
     "output_type": "execute_result"
    }
   ],
   "source": [
    "df2.shape"
   ]
  },
  {
   "cell_type": "code",
   "execution_count": 97,
   "id": "9e4e2667",
   "metadata": {},
   "outputs": [],
   "source": [
    "df = None"
   ]
  },
  {
   "cell_type": "code",
   "execution_count": 99,
   "id": "8b7f268e",
   "metadata": {},
   "outputs": [],
   "source": [
    "df = pd.concat([df, df1], ignore_index=True)"
   ]
  },
  {
   "cell_type": "code",
   "execution_count": 16,
   "id": "5297bd02",
   "metadata": {},
   "outputs": [],
   "source": [
    "toto = pd.read_excel('/home/wafistos/Downloads/BAYTONIA-باركود(1).xlsx')"
   ]
  },
  {
   "cell_type": "code",
   "execution_count": 17,
   "id": "377335c2",
   "metadata": {},
   "outputs": [],
   "source": [
    "toti = toto['  الباركود  '].to_list()"
   ]
  },
  {
   "cell_type": "code",
   "execution_count": 100,
   "id": "54677b2f",
   "metadata": {},
   "outputs": [
    {
     "data": {
      "text/plain": [
       "(1022, 12)"
      ]
     },
     "execution_count": 100,
     "metadata": {},
     "output_type": "execute_result"
    }
   ],
   "source": [
    "df.shape"
   ]
  },
  {
   "cell_type": "code",
   "execution_count": 108,
   "id": "4ba20eab",
   "metadata": {},
   "outputs": [],
   "source": [
    "list_brand = df['brand'].unique().to"
   ]
  },
  {
   "cell_type": "code",
   "execution_count": 110,
   "id": "78dc778e",
   "metadata": {},
   "outputs": [],
   "source": [
    "list_brd = [{'Brand': toto}for toto in list_brand]\n"
   ]
  },
  {
   "cell_type": "code",
   "execution_count": 112,
   "id": "9051cd49",
   "metadata": {},
   "outputs": [],
   "source": [
    "dtaf = pd.DataFrame(list_brd)"
   ]
  },
  {
   "cell_type": "code",
   "execution_count": 114,
   "id": "73894d55",
   "metadata": {},
   "outputs": [],
   "source": [
    "dtaf.to_excel('Brand_bamcostore.xlsx')"
   ]
  },
  {
   "cell_type": "code",
   "execution_count": 117,
   "id": "301995c3",
   "metadata": {},
   "outputs": [],
   "source": [
    "list_cat1= df['cat1'].unique().tolist()"
   ]
  },
  {
   "cell_type": "code",
   "execution_count": 118,
   "id": "212fb593",
   "metadata": {},
   "outputs": [],
   "source": [
    "list_cat2= df['cat2'].unique().tolist()"
   ]
  },
  {
   "cell_type": "code",
   "execution_count": 119,
   "id": "5ec12724",
   "metadata": {},
   "outputs": [],
   "source": [
    "list_cat3= df['cat3'].unique().tolist()"
   ]
  },
  {
   "cell_type": "code",
   "execution_count": null,
   "id": "28aaf170",
   "metadata": {},
   "outputs": [],
   "source": [
    "list_cats  = [\n",
    "    'cat1': \n",
    "]"
   ]
  },
  {
   "cell_type": "code",
   "execution_count": 122,
   "id": "c5cc3cf7",
   "metadata": {},
   "outputs": [
    {
     "data": {
      "text/plain": [
       "19"
      ]
     },
     "execution_count": 122,
     "metadata": {},
     "output_type": "execute_result"
    }
   ],
   "source": [
    "len(cat1)"
   ]
  },
  {
   "cell_type": "code",
   "execution_count": null,
   "id": "17ab84bc",
   "metadata": {},
   "outputs": [],
   "source": [
    "for tt in list_cat3:\n",
    "    "
   ]
  },
  {
   "cell_type": "code",
   "execution_count": 127,
   "id": "5b0296d4",
   "metadata": {},
   "outputs": [],
   "source": [
    "list_cats = [{'cat2': toto}for toto in list_cat2]\n",
    "dtaf = pd.DataFrame(list_cats)\n",
    "dtaf.to_excel('ca2.xlsx')"
   ]
  },
  {
   "cell_type": "code",
   "execution_count": null,
   "id": "5c301ac6",
   "metadata": {},
   "outputs": [],
   "source": []
  },
  {
   "cell_type": "code",
   "execution_count": 19,
   "id": "9e2b0ff0",
   "metadata": {},
   "outputs": [],
   "source": [
    "df = df.loc[df['sku'].isin(toti)]"
   ]
  },
  {
   "cell_type": "code",
   "execution_count": 5,
   "id": "a9c03703",
   "metadata": {},
   "outputs": [],
   "source": [
    "df.to_excel('باركود.xlsx')"
   ]
  },
  {
   "cell_type": "code",
   "execution_count": null,
   "id": "c8103c5b",
   "metadata": {},
   "outputs": [],
   "source": [
    "df['m']"
   ]
  },
  {
   "cell_type": "code",
   "execution_count": null,
   "id": "35a7ae0c",
   "metadata": {},
   "outputs": [],
   "source": [
    "new price = price * 1.1"
   ]
  },
  {
   "cell_type": "code",
   "execution_count": null,
   "id": "1e9cfc74",
   "metadata": {},
   "outputs": [],
   "source": [
    "new cost = price * 0.75"
   ]
  },
  {
   "cell_type": "code",
   "execution_count": null,
   "id": "573eb283",
   "metadata": {},
   "outputs": [],
   "source": [
    "special price = cost * "
   ]
  },
  {
   "cell_type": "code",
   "execution_count": null,
   "id": "d4c7ffde",
   "metadata": {},
   "outputs": [],
   "source": [
    "supplier = 'BMA'"
   ]
  },
  {
   "cell_type": "code",
   "execution_count": null,
   "id": "40faa2aa",
   "metadata": {},
   "outputs": [],
   "source": [
    "3.703703704"
   ]
  },
  {
   "cell_type": "code",
   "execution_count": null,
   "id": "7a465344",
   "metadata": {},
   "outputs": [],
   "source": []
  },
  {
   "cell_type": "code",
   "execution_count": 15,
   "id": "77ee66d2",
   "metadata": {},
   "outputs": [
    {
     "data": {
      "text/plain": [
       "'\"https://bamcostore.com/uploads/product_gallery/thumbs/KHD 501R.png\"'"
      ]
     },
     "execution_count": 15,
     "metadata": {},
     "output_type": "execute_result"
    }
   ],
   "source": [
    "soup1 = driver.find_element_by_class_name('zoomWindowContainer').get_attribute('innerHTML')\n",
    "soup = BeautifulSoup(soup1, 'html.parser')\n",
    "div_style = soup.find('div')['style']\n",
    "style = cssutils.parseStyle(div_style)\n",
    "image = style['background-image'].replace('url', '').replace('(','').replace(')', '').strip()\n",
    "image"
   ]
  },
  {
   "cell_type": "code",
   "execution_count": 10,
   "id": "1638e494",
   "metadata": {},
   "outputs": [
    {
     "data": {
      "text/plain": [
       "{'url': 'https://bamcostore.com/ar/product/1134/مقلاة-هوائية-ديجيتال-كيون-,-1800-واط-,-6-لتر',\n",
       " 'cat1': 'أجهزة الطبخ',\n",
       " 'cat2': 'قلايات'}"
      ]
     },
     "execution_count": 10,
     "metadata": {},
     "output_type": "execute_result"
    }
   ],
   "source": [
    "products_urls[2]"
   ]
  },
  {
   "cell_type": "code",
   "execution_count": 15,
   "id": "d584245a",
   "metadata": {},
   "outputs": [
    {
     "data": {
      "text/plain": [
       "'230.30 '"
      ]
     },
     "execution_count": 15,
     "metadata": {},
     "output_type": "execute_result"
    }
   ],
   "source": [
    "price = driver.find_element_by_tag_name('del').text.replace('ريال', '').strip()\n",
    "special_price = driver.find_element_by_class_name('price').text.replace('ريال', '')\n",
    "special_price"
   ]
  },
  {
   "cell_type": "code",
   "execution_count": null,
   "id": "3feb416f",
   "metadata": {},
   "outputs": [],
   "source": []
  },
  {
   "cell_type": "code",
   "execution_count": null,
   "id": "7f8d32b9",
   "metadata": {},
   "outputs": [],
   "source": [
    "len(links_products)"
   ]
  },
  {
   "cell_type": "code",
   "execution_count": 26,
   "id": "8827de37",
   "metadata": {},
   "outputs": [],
   "source": [
    "driver.get('https://www.alrugaibfurniture.com/ar/collections/accessories')"
   ]
  },
  {
   "cell_type": "code",
   "execution_count": 31,
   "id": "198e1184",
   "metadata": {},
   "outputs": [
    {
     "data": {
      "text/plain": [
       "40"
      ]
     },
     "execution_count": 31,
     "metadata": {},
     "output_type": "execute_result"
    }
   ],
   "source": [
    "price = driver.find_elements_by_class_name('money')\n",
    "len(price)"
   ]
  },
  {
   "cell_type": "code",
   "execution_count": 41,
   "id": "278bdcb2",
   "metadata": {},
   "outputs": [
    {
     "name": "stdout",
     "output_type": "stream",
     "text": [
      "price: 330\n",
      "special_price: \n"
     ]
    }
   ],
   "source": [
    "pric = driver.find_elements_by_xpath('//div[@class=\"price-list\"]//span')\n",
    "len(pric)\n",
    "if len(pric)==4:\n",
    "    price = pric[2].text.replace('SR', '').replace('SAR', '').strip()\n",
    "    print('price:', price)\n",
    "    special_price = pric[0].text.replace('SR', '').replace('SAR', '').strip()\n",
    "    print('special_price:', special_price)\n",
    "elif len(pric) == 2:\n",
    "    price = pric[0].text.replace('SR', '').replace('SAR', '').strip()\n",
    "    print('price:', price)\n",
    "    special_price = ''\n",
    "    print('special_price:', special_price)"
   ]
  },
  {
   "cell_type": "code",
   "execution_count": 37,
   "id": "e81c6433",
   "metadata": {},
   "outputs": [
    {
     "name": "stdout",
     "output_type": "stream",
     "text": [
      "SR 4,495\n",
      "SR 4,495\n",
      "SR 6,097\n",
      "SR 6,097\n"
     ]
    }
   ],
   "source": [
    "for t in pric:\n",
    "    print(t.text)"
   ]
  },
  {
   "cell_type": "code",
   "execution_count": 38,
   "id": "a67501b1",
   "metadata": {},
   "outputs": [
    {
     "name": "stdout",
     "output_type": "stream",
     "text": [
      "toto\n"
     ]
    }
   ],
   "source": [
    "if len(pric)==4:\n",
    "    price"
   ]
  },
  {
   "cell_type": "code",
   "execution_count": null,
   "id": "180e334a",
   "metadata": {},
   "outputs": [],
   "source": []
  },
  {
   "cell_type": "code",
   "execution_count": null,
   "id": "3165d274",
   "metadata": {},
   "outputs": [],
   "source": []
  },
  {
   "cell_type": "markdown",
   "id": "2fd70855",
   "metadata": {},
   "source": [
    "# Traitement "
   ]
  },
  {
   "cell_type": "code",
   "execution_count": 153,
   "id": "6308ec78",
   "metadata": {},
   "outputs": [],
   "source": []
  },
  {
   "cell_type": "code",
   "execution_count": 139,
   "id": "53f9b991",
   "metadata": {},
   "outputs": [],
   "source": [
    "df1  = pd.read_excel('/home/wafistos/Documents/Projects/scaping_wafi/bamcosore.com/bamcostore_test2.xlsx')\n",
    "df2  = pd.read_excel('/home/wafistos/Documents/Projects/scaping_wafi/bamcosore.com/bamcostore_test3.xlsx')\n",
    "\n",
    "\n",
    "\n"
   ]
  },
  {
   "cell_type": "code",
   "execution_count": null,
   "id": "f2d17dd3",
   "metadata": {},
   "outputs": [],
   "source": []
  },
  {
   "cell_type": "code",
   "execution_count": 5,
   "id": "27af02eb",
   "metadata": {},
   "outputs": [],
   "source": [
    "df = None"
   ]
  },
  {
   "cell_type": "code",
   "execution_count": 8,
   "id": "7355ea81",
   "metadata": {},
   "outputs": [],
   "source": [
    "df = pd.read_excel('/home/wafistos/Documents/Projects/scaping_wafi/Amazon sagabrook/Amazon_update.xlsx')"
   ]
  },
  {
   "cell_type": "code",
   "execution_count": 141,
   "id": "ef85f627",
   "metadata": {},
   "outputs": [],
   "source": [
    "df = pd.concat([df, df2], ignore_index=True)"
   ]
  },
  {
   "cell_type": "code",
   "execution_count": 142,
   "id": "19f60561",
   "metadata": {},
   "outputs": [
    {
     "data": {
      "text/plain": [
       "(1168, 12)"
      ]
     },
     "execution_count": 142,
     "metadata": {},
     "output_type": "execute_result"
    }
   ],
   "source": [
    "df.shape"
   ]
  },
  {
   "cell_type": "code",
   "execution_count": 137,
   "id": "d30552f5",
   "metadata": {},
   "outputs": [],
   "source": [
    "df.drop_duplicates(subset=['sku'], inplace=True)"
   ]
  },
  {
   "cell_type": "code",
   "execution_count": 101,
   "id": "5ad7b2d7",
   "metadata": {},
   "outputs": [],
   "source": [
    "\n",
    "        "
   ]
  },
  {
   "cell_type": "code",
   "execution_count": 119,
   "id": "c784d224",
   "metadata": {},
   "outputs": [],
   "source": [
    "df['price'] = df['price'].str.replace('USD', '')"
   ]
  },
  {
   "cell_type": "code",
   "execution_count": 120,
   "id": "416aba75",
   "metadata": {},
   "outputs": [],
   "source": [
    "df['price'] = df['price'].str.replace(',', '')"
   ]
  },
  {
   "cell_type": "code",
   "execution_count": 19,
   "id": "e9deec43",
   "metadata": {},
   "outputs": [],
   "source": [
    "df['price'] = df['price'].astype(float)"
   ]
  },
  {
   "cell_type": "code",
   "execution_count": 122,
   "id": "8195a8cc",
   "metadata": {},
   "outputs": [],
   "source": [
    "df['price'] = df['price'] * 3.703703704"
   ]
  },
  {
   "cell_type": "code",
   "execution_count": 123,
   "id": "bcdf0678",
   "metadata": {},
   "outputs": [
    {
     "data": {
      "text/plain": [
       "0    139.0\n",
       "1    125.0\n",
       "2    340.0\n",
       "Name: price, dtype: float64"
      ]
     },
     "execution_count": 123,
     "metadata": {},
     "output_type": "execute_result"
    }
   ],
   "source": [
    "df['price']"
   ]
  },
  {
   "cell_type": "code",
   "execution_count": 20,
   "id": "15f5c5d3",
   "metadata": {},
   "outputs": [],
   "source": [
    "df.loc[df['special_price'] == '', 'special_price'] = '__EMPTY__VALUE__'"
   ]
  },
  {
   "cell_type": "code",
   "execution_count": null,
   "id": "7017bd7f",
   "metadata": {},
   "outputs": [],
   "source": []
  },
  {
   "cell_type": "code",
   "execution_count": null,
   "id": "5bab84da",
   "metadata": {},
   "outputs": [],
   "source": []
  },
  {
   "cell_type": "code",
   "execution_count": 147,
   "id": "714493c7",
   "metadata": {},
   "outputs": [
    {
     "data": {
      "text/plain": [
       "(1168, 12)"
      ]
     },
     "execution_count": 147,
     "metadata": {},
     "output_type": "execute_result"
    }
   ],
   "source": [
    "df.shape"
   ]
  },
  {
   "cell_type": "code",
   "execution_count": 148,
   "id": "bee8f96d",
   "metadata": {},
   "outputs": [
    {
     "data": {
      "text/plain": [
       "Index(['sku', 'name', 'price', 'special_price', 'description', 'brand',\n",
       "       'image_base', 'additionnel_images', 'url', 'cat1', 'cat2', 'cat3'],\n",
       "      dtype='object')"
      ]
     },
     "execution_count": 148,
     "metadata": {},
     "output_type": "execute_result"
    }
   ],
   "source": [
    "df.columns"
   ]
  },
  {
   "cell_type": "code",
   "execution_count": 57,
   "id": "54f70895",
   "metadata": {},
   "outputs": [],
   "source": []
  },
  {
   "cell_type": "code",
   "execution_count": 1022,
   "id": "e51e3336",
   "metadata": {},
   "outputs": [],
   "source": [
    "def convert_to_cent(name):\n",
    "    df.loc[df[name] == '', name] = 0\n",
    "    df[name] = df[name].str.replace('ملم', '').astype(float)\n",
    "    df[name] = df[name] / 100"
   ]
  },
  {
   "cell_type": "code",
   "execution_count": 1023,
   "id": "6b51fd05",
   "metadata": {},
   "outputs": [],
   "source": [
    "list_dim = [\n",
    "    'ts_dimensions_width',\n",
    "    'ts_dimensions_highet',\n",
    "    'ts_dimensions_length',\n",
    "    'depth',\n",
    "]"
   ]
  },
  {
   "cell_type": "code",
   "execution_count": 1024,
   "id": "8edb9bbe",
   "metadata": {},
   "outputs": [
    {
     "ename": "AttributeError",
     "evalue": "Can only use .str accessor with string values!",
     "output_type": "error",
     "traceback": [
      "\u001b[0;31m---------------------------------------------------------------------------\u001b[0m",
      "\u001b[0;31mAttributeError\u001b[0m                            Traceback (most recent call last)",
      "Input \u001b[0;32mIn [1024]\u001b[0m, in \u001b[0;36m<module>\u001b[0;34m\u001b[0m\n\u001b[1;32m      1\u001b[0m \u001b[38;5;28;01mfor\u001b[39;00m tt \u001b[38;5;129;01min\u001b[39;00m list_dim:\n\u001b[0;32m----> 2\u001b[0m     \u001b[43mconvert_to_cent\u001b[49m\u001b[43m(\u001b[49m\u001b[43mtt\u001b[49m\u001b[43m)\u001b[49m\n",
      "Input \u001b[0;32mIn [1022]\u001b[0m, in \u001b[0;36mconvert_to_cent\u001b[0;34m(name)\u001b[0m\n\u001b[1;32m      1\u001b[0m \u001b[38;5;28;01mdef\u001b[39;00m \u001b[38;5;21mconvert_to_cent\u001b[39m(name):\n\u001b[1;32m      2\u001b[0m     df\u001b[38;5;241m.\u001b[39mloc[df[name] \u001b[38;5;241m==\u001b[39m \u001b[38;5;124m'\u001b[39m\u001b[38;5;124m'\u001b[39m, name] \u001b[38;5;241m=\u001b[39m \u001b[38;5;241m0\u001b[39m\n\u001b[0;32m----> 3\u001b[0m     df[name] \u001b[38;5;241m=\u001b[39m \u001b[43mdf\u001b[49m\u001b[43m[\u001b[49m\u001b[43mname\u001b[49m\u001b[43m]\u001b[49m\u001b[38;5;241;43m.\u001b[39;49m\u001b[43mstr\u001b[49m\u001b[38;5;241m.\u001b[39mreplace(\u001b[38;5;124m'\u001b[39m\u001b[38;5;124mملم\u001b[39m\u001b[38;5;124m'\u001b[39m, \u001b[38;5;124m'\u001b[39m\u001b[38;5;124m'\u001b[39m)\u001b[38;5;241m.\u001b[39mastype(\u001b[38;5;28mfloat\u001b[39m)\n\u001b[1;32m      4\u001b[0m     df[name] \u001b[38;5;241m=\u001b[39m df[name] \u001b[38;5;241m/\u001b[39m \u001b[38;5;241m100\u001b[39m\n",
      "File \u001b[0;32m~/anaconda3/lib/python3.8/site-packages/pandas/core/generic.py:5461\u001b[0m, in \u001b[0;36mNDFrame.__getattr__\u001b[0;34m(self, name)\u001b[0m\n\u001b[1;32m   5454\u001b[0m \u001b[38;5;66;03m# Note: obj.x will always call obj.__getattribute__('x') prior to\u001b[39;00m\n\u001b[1;32m   5455\u001b[0m \u001b[38;5;66;03m# calling obj.__getattr__('x').\u001b[39;00m\n\u001b[1;32m   5456\u001b[0m \u001b[38;5;28;01mif\u001b[39;00m (\n\u001b[1;32m   5457\u001b[0m     name \u001b[38;5;129;01min\u001b[39;00m \u001b[38;5;28mself\u001b[39m\u001b[38;5;241m.\u001b[39m_internal_names_set\n\u001b[1;32m   5458\u001b[0m     \u001b[38;5;129;01mor\u001b[39;00m name \u001b[38;5;129;01min\u001b[39;00m \u001b[38;5;28mself\u001b[39m\u001b[38;5;241m.\u001b[39m_metadata\n\u001b[1;32m   5459\u001b[0m     \u001b[38;5;129;01mor\u001b[39;00m name \u001b[38;5;129;01min\u001b[39;00m \u001b[38;5;28mself\u001b[39m\u001b[38;5;241m.\u001b[39m_accessors\n\u001b[1;32m   5460\u001b[0m ):\n\u001b[0;32m-> 5461\u001b[0m     \u001b[38;5;28;01mreturn\u001b[39;00m \u001b[38;5;28;43mobject\u001b[39;49m\u001b[38;5;241;43m.\u001b[39;49m\u001b[38;5;21;43m__getattribute__\u001b[39;49m\u001b[43m(\u001b[49m\u001b[38;5;28;43mself\u001b[39;49m\u001b[43m,\u001b[49m\u001b[43m \u001b[49m\u001b[43mname\u001b[49m\u001b[43m)\u001b[49m\n\u001b[1;32m   5462\u001b[0m \u001b[38;5;28;01melse\u001b[39;00m:\n\u001b[1;32m   5463\u001b[0m     \u001b[38;5;28;01mif\u001b[39;00m \u001b[38;5;28mself\u001b[39m\u001b[38;5;241m.\u001b[39m_info_axis\u001b[38;5;241m.\u001b[39m_can_hold_identifiers_and_holds_name(name):\n",
      "File \u001b[0;32m~/anaconda3/lib/python3.8/site-packages/pandas/core/accessor.py:180\u001b[0m, in \u001b[0;36mCachedAccessor.__get__\u001b[0;34m(self, obj, cls)\u001b[0m\n\u001b[1;32m    177\u001b[0m \u001b[38;5;28;01mif\u001b[39;00m obj \u001b[38;5;129;01mis\u001b[39;00m \u001b[38;5;28;01mNone\u001b[39;00m:\n\u001b[1;32m    178\u001b[0m     \u001b[38;5;66;03m# we're accessing the attribute of the class, i.e., Dataset.geo\u001b[39;00m\n\u001b[1;32m    179\u001b[0m     \u001b[38;5;28;01mreturn\u001b[39;00m \u001b[38;5;28mself\u001b[39m\u001b[38;5;241m.\u001b[39m_accessor\n\u001b[0;32m--> 180\u001b[0m accessor_obj \u001b[38;5;241m=\u001b[39m \u001b[38;5;28;43mself\u001b[39;49m\u001b[38;5;241;43m.\u001b[39;49m\u001b[43m_accessor\u001b[49m\u001b[43m(\u001b[49m\u001b[43mobj\u001b[49m\u001b[43m)\u001b[49m\n\u001b[1;32m    181\u001b[0m \u001b[38;5;66;03m# Replace the property with the accessor object. Inspired by:\u001b[39;00m\n\u001b[1;32m    182\u001b[0m \u001b[38;5;66;03m# https://www.pydanny.com/cached-property.html\u001b[39;00m\n\u001b[1;32m    183\u001b[0m \u001b[38;5;66;03m# We need to use object.__setattr__ because we overwrite __setattr__ on\u001b[39;00m\n\u001b[1;32m    184\u001b[0m \u001b[38;5;66;03m# NDFrame\u001b[39;00m\n\u001b[1;32m    185\u001b[0m \u001b[38;5;28mobject\u001b[39m\u001b[38;5;241m.\u001b[39m\u001b[38;5;21m__setattr__\u001b[39m(obj, \u001b[38;5;28mself\u001b[39m\u001b[38;5;241m.\u001b[39m_name, accessor_obj)\n",
      "File \u001b[0;32m~/anaconda3/lib/python3.8/site-packages/pandas/core/strings/accessor.py:154\u001b[0m, in \u001b[0;36mStringMethods.__init__\u001b[0;34m(self, data)\u001b[0m\n\u001b[1;32m    151\u001b[0m \u001b[38;5;28;01mdef\u001b[39;00m \u001b[38;5;21m__init__\u001b[39m(\u001b[38;5;28mself\u001b[39m, data):\n\u001b[1;32m    152\u001b[0m     \u001b[38;5;28;01mfrom\u001b[39;00m \u001b[38;5;21;01mpandas\u001b[39;00m\u001b[38;5;21;01m.\u001b[39;00m\u001b[38;5;21;01mcore\u001b[39;00m\u001b[38;5;21;01m.\u001b[39;00m\u001b[38;5;21;01marrays\u001b[39;00m\u001b[38;5;21;01m.\u001b[39;00m\u001b[38;5;21;01mstring_\u001b[39;00m \u001b[38;5;28;01mimport\u001b[39;00m StringDtype\n\u001b[0;32m--> 154\u001b[0m     \u001b[38;5;28mself\u001b[39m\u001b[38;5;241m.\u001b[39m_inferred_dtype \u001b[38;5;241m=\u001b[39m \u001b[38;5;28;43mself\u001b[39;49m\u001b[38;5;241;43m.\u001b[39;49m\u001b[43m_validate\u001b[49m\u001b[43m(\u001b[49m\u001b[43mdata\u001b[49m\u001b[43m)\u001b[49m\n\u001b[1;32m    155\u001b[0m     \u001b[38;5;28mself\u001b[39m\u001b[38;5;241m.\u001b[39m_is_categorical \u001b[38;5;241m=\u001b[39m is_categorical_dtype(data\u001b[38;5;241m.\u001b[39mdtype)\n\u001b[1;32m    156\u001b[0m     \u001b[38;5;28mself\u001b[39m\u001b[38;5;241m.\u001b[39m_is_string \u001b[38;5;241m=\u001b[39m \u001b[38;5;28misinstance\u001b[39m(data\u001b[38;5;241m.\u001b[39mdtype, StringDtype)\n",
      "File \u001b[0;32m~/anaconda3/lib/python3.8/site-packages/pandas/core/strings/accessor.py:217\u001b[0m, in \u001b[0;36mStringMethods._validate\u001b[0;34m(data)\u001b[0m\n\u001b[1;32m    214\u001b[0m     inferred_dtype \u001b[38;5;241m=\u001b[39m \u001b[38;5;28;01mNone\u001b[39;00m\n\u001b[1;32m    216\u001b[0m \u001b[38;5;28;01mif\u001b[39;00m inferred_dtype \u001b[38;5;129;01mnot\u001b[39;00m \u001b[38;5;129;01min\u001b[39;00m allowed_types:\n\u001b[0;32m--> 217\u001b[0m     \u001b[38;5;28;01mraise\u001b[39;00m \u001b[38;5;167;01mAttributeError\u001b[39;00m(\u001b[38;5;124m\"\u001b[39m\u001b[38;5;124mCan only use .str accessor with string values!\u001b[39m\u001b[38;5;124m\"\u001b[39m)\n\u001b[1;32m    218\u001b[0m \u001b[38;5;28;01mreturn\u001b[39;00m inferred_dtype\n",
      "\u001b[0;31mAttributeError\u001b[0m: Can only use .str accessor with string values!"
     ]
    }
   ],
   "source": [
    "for tt in list_dim:\n",
    "    convert_to_cent(tt)"
   ]
  },
  {
   "cell_type": "code",
   "execution_count": 1046,
   "id": "bc6da7a2",
   "metadata": {},
   "outputs": [
    {
     "data": {
      "text/plain": [
       "0     \n",
       "1     \n",
       "2     \n",
       "3     \n",
       "4     \n",
       "5     \n",
       "6     \n",
       "7     \n",
       "8     \n",
       "9     \n",
       "10    \n",
       "11    \n",
       "12    \n",
       "13    \n",
       "14    \n",
       "15    \n",
       "16    \n",
       "17    \n",
       "18    \n",
       "19    \n",
       "20    \n",
       "21    \n",
       "22    \n",
       "23    \n",
       "24    \n",
       "25    \n",
       "26    \n",
       "27    \n",
       "28    \n",
       "29    \n",
       "30    \n",
       "31    \n",
       "32    \n",
       "33    \n",
       "34    \n",
       "35    \n",
       "36    \n",
       "37    \n",
       "38    \n",
       "39    \n",
       "40    \n",
       "41    \n",
       "42    \n",
       "43    \n",
       "44    \n",
       "Name: ts_dimensions_length, dtype: object"
      ]
     },
     "execution_count": 1046,
     "metadata": {},
     "output_type": "execute_result"
    }
   ],
   "source": [
    "df['ts_dimensions_length']"
   ]
  },
  {
   "cell_type": "code",
   "execution_count": null,
   "id": "cb2b4735",
   "metadata": {},
   "outputs": [],
   "source": []
  },
  {
   "cell_type": "code",
   "execution_count": null,
   "id": "e20d4572",
   "metadata": {},
   "outputs": [],
   "source": []
  },
  {
   "cell_type": "code",
   "execution_count": 1083,
   "id": "3edc3c60",
   "metadata": {},
   "outputs": [],
   "source": [
    "df['sku number only'] = df['sku']\n",
    "df['sku'] = 'BAM-' + df['sku'].astype(str)\n",
    "df['supplier'] = 'BAM'\n",
    "df['is_in_stock']  = 1\n",
    "df['allow_backorders'] = df['is_in_stock']\n",
    "df['estimated_delivery_enable'] = 'Static, Text'\n",
    "df['base_image'] = df['image_base']\n",
    "df['small_image'] =  df['base_image']\n",
    "df['swatch_image'] =  df['base_image']\n",
    "df['thumbnail_image'] =  df['base_image']\n",
    "df['attribute_set_code'] = 'Default'\n",
    "df['product_websites'] = 'base'\n",
    "df['out_of_stock_qty'] = -5\n",
    "df['qty'] = 0\n",
    "df['product_online'] = df['is_in_stock']"
   ]
  },
  {
   "cell_type": "code",
   "execution_count": null,
   "id": "a3a0b482",
   "metadata": {},
   "outputs": [],
   "source": []
  },
  {
   "cell_type": "code",
   "execution_count": null,
   "id": "040ad96a",
   "metadata": {},
   "outputs": [],
   "source": []
  },
  {
   "cell_type": "markdown",
   "id": "1909734b",
   "metadata": {},
   "source": [
    "# Traitement fonctions"
   ]
  },
  {
   "cell_type": "code",
   "execution_count": 1084,
   "id": "38f0e9e5",
   "metadata": {},
   "outputs": [],
   "source": [
    "def toto_clean(name):\n",
    "    df[name] = df[name].str.replace('•', '-')\n",
    "    df[name] = df[name].str.replace(':', '-')\n",
    "    df[name] = df[name].str.replace('/', '-')\n",
    "    df[name] = df[name].str.replace('\"', '-')\n",
    "    df[name] = df[name].str.replace('%', '-')\n",
    "    df[name] = df[name].str.replace('&', '-')\n",
    "    df[name] = df[name].str.replace('?', '-', regex=False)\n",
    "    df[name] = df[name].str.replace('(', '-', regex=False)\n",
    "    df[name] = df[name].str.replace(')', '-', regex=False)\n",
    "    df[name] = df[name].str.replace('{', '-', regex=False)\n",
    "    df[name] = df[name].str.replace('}', '-', regex=False)\n",
    "    df[name] = df[name].str.replace(\"'\", '-', regex=False)\n",
    "    df[name] = df[name].str.replace('*', 'X', regex=False)\n",
    "    df[name] = df[name].str.replace('#', '-')\n",
    "    df[name] = df[name].str.replace('”', '-')\n",
    "    df[name] = df[name].str.replace('!', '-')\n",
    "    df[name] = df[name].str.replace('”', '-')\n",
    "    df[name] = df[name].str.replace('=', '-')\n",
    "    df[name] = df[name].str.replace('+', '-', regex=False)\n",
    "    df[name] = df[name].str.replace('،', '-', regex=False)\n",
    "    df[name] = df[name].str.replace('عرض أقل', '', regex=False)\n",
    "    df[name] = df[name].str.replace('،', '-', regex=False)\n",
    "    \n",
    "        \n",
    "    \n",
    "def ampty_value(name):\n",
    "    df.loc[df[name].isnull(), name] = '__EMPTY__VALUE__'\n",
    "    \n",
    "    \n",
    "def price_num(name):\n",
    "    try:\n",
    "        df[name] = df[name].str.replace('-', '')\n",
    "        df[name] = df[name].str.replace(',', '')\n",
    "    except:\n",
    "        pass\n",
    "    df.loc[df[name] == '__EMPTY__VALUE__', name] = 0\n",
    "    \n",
    "    df[name] = pd.to_numeric(df[name])\n",
    "    df.loc[df[name] == 0, name] = '__EMPTY__VALUE__'"
   ]
  },
  {
   "cell_type": "code",
   "execution_count": 1085,
   "id": "739ce77d",
   "metadata": {},
   "outputs": [],
   "source": [
    "def clean_punct(name):\n",
    "    for c in string.punctuation:\n",
    "        df[name] = df[name].str.replace(c, '-', regex=False)"
   ]
  },
  {
   "cell_type": "code",
   "execution_count": 1086,
   "id": "db216b12",
   "metadata": {},
   "outputs": [],
   "source": [
    "toto_clean('name')\n",
    "toto_clean('description')\n",
    "df['url_key'] = df['sku'] + '-' + df['name']\n",
    "df['estimated_delivery_enable'] = 'Static Text'"
   ]
  },
  {
   "cell_type": "code",
   "execution_count": 1087,
   "id": "7a397b4a",
   "metadata": {},
   "outputs": [],
   "source": [
    "df['price'] = df['price'].astype(float)"
   ]
  },
  {
   "cell_type": "code",
   "execution_count": 1088,
   "id": "b6cdf55f",
   "metadata": {},
   "outputs": [],
   "source": [
    "df['cost'] = df['price'] * 0.70"
   ]
  },
  {
   "cell_type": "code",
   "execution_count": null,
   "id": "817c3cf0",
   "metadata": {},
   "outputs": [],
   "source": []
  },
  {
   "cell_type": "code",
   "execution_count": 1089,
   "id": "45b8cbc5",
   "metadata": {},
   "outputs": [],
   "source": [
    "df['free_colors'] = df['color']\n",
    "\n",
    "#df['manufacturer'] = '‫مستوردة‬'\n",
    "df['visibility'] = 'Catalog, Search'\n",
    "df['tax_class_name'] = 'Taxable Goods'\n",
    "df['link_url'] = df['url']\n",
    "df['mgs_brand'] = df['brand']\n",
    "df['store_view_code'] = ''\n",
    "df['attribute_set_code'] = 'Default'\n",
    "df['product_websites'] = 'base'"
   ]
  },
  {
   "cell_type": "code",
   "execution_count": 1090,
   "id": "dea6d825",
   "metadata": {},
   "outputs": [],
   "source": [
    "list_columns = [\n",
    "    'special_price',\n",
    "    'depth',\n",
    "    'mgs_brand',\n",
    "    'type_',\n",
    "    'free_colors',\n",
    "    'ts_dimensions_width',\n",
    "    'ts_dimensions_highet',\n",
    "    'ts_dimensions_length',\n",
    "    'special_price',\n",
    "    'power',\n",
    "    'volume',\n",
    "    'hertz',\n",
    "'power_cord_length',\n",
    "'power1',\n",
    "    'recharge_time',\n",
    "\n",
    "    \n",
    "    \n",
    "    \n",
    "]\n",
    "for column in list_columns:\n",
    "    df.loc[(df[column] == '') | (df[column].isnull()), column] = '__EMPTY__VALUE__'"
   ]
  },
  {
   "cell_type": "code",
   "execution_count": null,
   "id": "1a3b3d46",
   "metadata": {},
   "outputs": [],
   "source": []
  },
  {
   "cell_type": "code",
   "execution_count": 1091,
   "id": "d75339a6",
   "metadata": {},
   "outputs": [],
   "source": [
    "two_month = datetime.now() + timedelta(days=60)\n",
    "two_month = two_month.strftime(\"%m/%d/%Y\")\n",
    "today = datetime.today().strftime(\"%m/%d/%Y\")"
   ]
  },
  {
   "cell_type": "code",
   "execution_count": 1092,
   "id": "f19d2577",
   "metadata": {},
   "outputs": [],
   "source": [
    "df['news_from_date'] =  today"
   ]
  },
  {
   "cell_type": "code",
   "execution_count": 1093,
   "id": "207d6504",
   "metadata": {},
   "outputs": [],
   "source": [
    "df['news_to_date'] =  two_month"
   ]
  },
  {
   "cell_type": "code",
   "execution_count": 1094,
   "id": "215e320a",
   "metadata": {},
   "outputs": [],
   "source": [
    "df['estimated_delivery_text'] = '__EMPTY__VALUE__'"
   ]
  },
  {
   "cell_type": "code",
   "execution_count": 1095,
   "id": "687b3863",
   "metadata": {},
   "outputs": [],
   "source": [
    "df['product_type'] = 'simple'"
   ]
  },
  {
   "cell_type": "code",
   "execution_count": null,
   "id": "d07def54",
   "metadata": {},
   "outputs": [],
   "source": []
  },
  {
   "cell_type": "code",
   "execution_count": 1096,
   "id": "72eb9f32",
   "metadata": {},
   "outputs": [],
   "source": [
    "df = df[[ 'sku number only',\n",
    "        'sku', \n",
    "         'store_view_code',\n",
    "         'attribute_set_code',\n",
    "         'product_websites',\n",
    "         'name',   \n",
    "         'description', \n",
    "         'link_url', \n",
    "         'categories1', \n",
    "         'categories2', \n",
    "         'categories3', \n",
    "         'categories',\n",
    "         'depth',\n",
    "         'mgs_brand',\n",
    "         'url_key',\n",
    "         'type_',\n",
    "         'free_colors',\n",
    "         'power',\n",
    "         'volume',\n",
    "            'hertz',\n",
    "        'power_cord_length',\n",
    "        'power1',\n",
    "         'recharge_time',\n",
    "         'ts_dimensions_width',\n",
    "         'ts_dimensions_highet',\n",
    "         'ts_dimensions_length',\n",
    "         'cost',  \n",
    "         'price', \n",
    "         'special_price', \n",
    "         'visibility',\n",
    "         'product_type',\n",
    "         'tax_class_name', \n",
    "         'news_from_date', \n",
    "         'news_to_date', \n",
    "         'base_image', \n",
    "         'small_image', \n",
    "         'swatch_image' , \n",
    "         'thumbnail_image', \n",
    "         'additionnel_images', \n",
    "         'product_online',\n",
    "         'manufacturer',\n",
    "         'qty', \n",
    "         'out_of_stock_qty', \n",
    "         'allow_backorders', \n",
    "         'is_in_stock', \n",
    "         'estimated_delivery_enable',\n",
    "         'estimated_delivery_text',\n",
    "         'supplier',   \n",
    "        ]]"
   ]
  },
  {
   "cell_type": "code",
   "execution_count": 1097,
   "id": "a86e663e",
   "metadata": {},
   "outputs": [],
   "source": [
    "df.to_excel(f\"Bam_update.{cat2}.xlsx\")"
   ]
  },
  {
   "cell_type": "code",
   "execution_count": null,
   "id": "456dda6e",
   "metadata": {},
   "outputs": [],
   "source": []
  },
  {
   "cell_type": "code",
   "execution_count": null,
   "id": "58b1ddea",
   "metadata": {},
   "outputs": [],
   "source": []
  },
  {
   "cell_type": "code",
   "execution_count": null,
   "id": "f49242ca",
   "metadata": {},
   "outputs": [],
   "source": []
  }
 ],
 "metadata": {
  "kernelspec": {
   "display_name": "Python 3 (ipykernel)",
   "language": "python",
   "name": "python3"
  },
  "language_info": {
   "codemirror_mode": {
    "name": "ipython",
    "version": 3
   },
   "file_extension": ".py",
   "mimetype": "text/x-python",
   "name": "python",
   "nbconvert_exporter": "python",
   "pygments_lexer": "ipython3",
   "version": "3.8.8"
  },
  "toc": {
   "base_numbering": 1,
   "nav_menu": {},
   "number_sections": true,
   "sideBar": true,
   "skip_h1_title": false,
   "title_cell": "Table of Contents",
   "title_sidebar": "Contents",
   "toc_cell": false,
   "toc_position": {
    "height": "calc(100% - 180px)",
    "left": "10px",
    "top": "150px",
    "width": "352px"
   },
   "toc_section_display": true,
   "toc_window_display": true
  }
 },
 "nbformat": 4,
 "nbformat_minor": 5
}
