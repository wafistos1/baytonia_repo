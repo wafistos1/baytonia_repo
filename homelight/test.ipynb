{
 "cells": [
  {
   "cell_type": "code",
   "execution_count": 1,
   "metadata": {},
   "outputs": [],
   "source": [
    "\n",
    "from bs4 import BeautifulSoup\n",
    "from selenium import webdriver\n",
    "from selenium.webdriver.common.keys import Keys\n",
    "from selenium.webdriver.support import expected_conditions as EC\n",
    "from selenium.webdriver.common.by import By\n",
    "from selenium.webdriver.support.wait import WebDriverWait\n",
    "from selenium.webdriver.firefox.options import Options\n",
    "import time\n",
    "import os\n",
    "from fake_useragent import UserAgent\n",
    "from random import randint\n",
    "import pandas as pd\n",
    "import numpy as np\n",
    "import requests\n",
    "import pandas as pd\n",
    "import re, logging\n"
   ]
  },
  {
   "cell_type": "code",
   "execution_count": null,
   "metadata": {},
   "outputs": [],
   "source": [
    "\n",
    "\n",
    "logging.basicConfig(format='%(levelname)s:%(message)s', level=logging.INFO)\n",
    "\n",
    "\n",
    "urls = pd.read_excel('path excel url file')\n",
    "list_urls = []\n",
    "for index, row in urls.iterrows():\n",
    "    list_urls.append(\n",
    "        {\n",
    "            'url': row['url'],\n",
    "            'categories1': row['categories1'],\n",
    "            'categories2': row['categories2'],\n",
    "            'categories3': row['categories3'],\n",
    "        }\n",
    "    )\n",
    "\n",
    "\n",
    "def scrape_data(url):\n",
    "    data = {\n",
    "        \n",
    "    }\n",
    "    return data\n",
    "\n",
    "for i, url in enumerate(urls):\n",
    "    logging.info('--Count: %s', i)\n",
    "    data = scrape_data(url)\n",
    "    df1 = pd.DataFrame([data])\n",
    "    df = pd.concat([df, df1], ignore_index=True)\n",
    "    df.to_excel()\n"
   ]
  },
  {
   "cell_type": "code",
   "execution_count": 2,
   "metadata": {},
   "outputs": [],
   "source": [
    "options = Options()\n",
    "ua = UserAgent()\n",
    "userAgent = ua.random\n",
    "logging.info(userAgent)\n",
    "options.add_argument(f'user-agent={userAgent}')\n",
    "#opti#     driver = webdriver.Firefox()ons.add_argument(\"--headless\")\n",
    "driver = webdriver.Firefox(firefox_options=options)"
   ]
  },
  {
   "cell_type": "code",
   "execution_count": 12,
   "metadata": {},
   "outputs": [],
   "source": [
    "body=WebDriverWait(driver,20).until(EC.visibility_of_element_located((By.TAG_NAME,'body')))\n",
    "r = body.get_attribute('innerHTML')\n",
    "soup = BeautifulSoup(r, \"html.parser\")"
   ]
  },
  {
   "cell_type": "code",
   "execution_count": 9,
   "metadata": {},
   "outputs": [],
   "source": [
    "driver.find_element_by_xpath('//a[@class=\"btn btn--padded btn--primary btn--oval pagination__next mt-10\"]').click()"
   ]
  },
  {
   "cell_type": "code",
   "execution_count": 11,
   "metadata": {},
   "outputs": [],
   "source": [
    "while True:\n",
    "    time.sleep(4)\n",
    "    try:\n",
    "        driver.find_element_by_xpath('//a[@class=\"btn btn--padded btn--primary btn--oval pagination__next mt-10\"]').click()\n",
    "        \n",
    "    except:\n",
    "        logging.info('Next page..')\n",
    "        break"
   ]
  },
  {
   "cell_type": "code",
   "execution_count": null,
   "metadata": {},
   "outputs": [],
   "source": [
    "body=WebDriverWait(driver,20).until(EC.visibility_of_element_located((By.TAG_NAME,'body')))\n",
    "r = body.get_attribute('innerHTML')\n",
    "soup = BeautifulSoup(r, \"html.parser\")\n"
   ]
  },
  {
   "cell_type": "code",
   "execution_count": 27,
   "metadata": {},
   "outputs": [],
   "source": [
    "url = 'https://homelight.sa/nZGjwn'"
   ]
  },
  {
   "cell_type": "code",
   "execution_count": null,
   "metadata": {},
   "outputs": [],
   "source": [
    "headers = {'User-Agent': 'Mozilla/5.0 (Macintosh; Intel Mac OS X 10_10_1) AppleWebKit/537.36 (KHTML, like Gecko) Chrome/39.0.2171.95 Safari/537.36'}\n",
    "cookies = {'session': '134-8225175-0355220'}\n",
    "r = requests.get(url, headers=headers, cookies=cookies)\n",
    "soup = BeautifulSoup(r.content, \"html.parser\")\n"
   ]
  },
  {
   "cell_type": "code",
   "execution_count": null,
   "metadata": {},
   "outputs": [],
   "source": [
    "name = soup.find('h1', {'class': 'title'}).text.strip()\n",
    "price = soup.find('div', {'class': 'price-wrapper-info'}).text.replace('ر.س', '').strip()\n",
    "description = soup.find('article', {'class':'article'}).text\n",
    "images = soup.find_all('a', {'data-fancybox':'product-details'})\n",
    "\n",
    "list_images = [img.find('img')['data-splide-lazy'] for img in images]\n",
    "base_image = list_images[0]\n",
    "add_images = ','.join(list_images[1: ])\n",
    "list_images"
   ]
  },
  {
   "cell_type": "code",
   "execution_count": 23,
   "metadata": {},
   "outputs": [],
   "source": [
    "def return_ele(name, soup):\n",
    "    try:\n",
    "        return soup.find('li', text=re.compile(name)).text.replace(name, '').strip()\n",
    "    except:\n",
    "        return ''"
   ]
  },
  {
   "cell_type": "code",
   "execution_count": null,
   "metadata": {},
   "outputs": [],
   "source": [
    "toto = soup.find('div', {'class': 'product-details__title'})\n",
    "toto"
   ]
  },
  {
   "cell_type": "code",
   "execution_count": null,
   "metadata": {},
   "outputs": [],
   "source": [
    "soup.find_all('script', {'type': 'application/ld+json'})"
   ]
  },
  {
   "cell_type": "code",
   "execution_count": 36,
   "metadata": {},
   "outputs": [
    {
     "data": {
      "text/plain": [
       "('36 واط', 'اسود', '36 واط', '2700', '4000K')"
      ]
     },
     "execution_count": 36,
     "metadata": {},
     "output_type": "execute_result"
    }
   ],
   "source": [
    "power = return_ele('القدرة :', soup)\n",
    "lights_color1 = return_ele('اضاءة ليد', soup)\n",
    "free_colors = return_ele('لون المنتج :', soup)\n",
    "lumen = return_ele('اللومن :', soup)\n",
    "tmp = return_ele('درجة حرارة اللون', soup)\n",
    "\n",
    "power, free_colors, power, lumen, tmp"
   ]
  },
  {
   "cell_type": "code",
   "execution_count": 35,
   "metadata": {},
   "outputs": [
    {
     "data": {
      "text/plain": [
       "('معدن اسود + اكريليك', '36 واط', '', '220 فولت', '3 سنوات', 'IP65')"
      ]
     },
     "execution_count": 35,
     "metadata": {},
     "output_type": "execute_result"
    }
   ],
   "source": [
    "raws_materials = return_ele('خامة المنتج :', soup)\n",
    "power_lights = return_ele('اضاءة ليد بقدرة :', soup)\n",
    "lights_color = return_ele('لون الاضاءة :', soup)\n",
    "technics_description = return_ele('معيار مقاومة الماء و الغبار :', soup)\n",
    "elec_power = return_ele('الجهد الكهربائي :', soup)\n",
    "guarante = return_ele('ضمان', soup)\n",
    "raws_materials, power_lights, lights_color, elec_power, guarante, technics_description"
   ]
  },
  {
   "cell_type": "code",
   "execution_count": 15,
   "metadata": {},
   "outputs": [
    {
     "data": {
      "text/plain": [
       "'1014-36w BK'"
      ]
     },
     "execution_count": 15,
     "metadata": {},
     "output_type": "execute_result"
    }
   ],
   "source": [
    "sku = soup.find('div', {'class': 'list--table-view__cell value text-unicode'}).text.strip()\n",
    "sku"
   ]
  }
 ],
 "metadata": {
  "kernelspec": {
   "display_name": "Python 3.10.4 ('env310')",
   "language": "python",
   "name": "python3"
  },
  "language_info": {
   "codemirror_mode": {
    "name": "ipython",
    "version": 3
   },
   "file_extension": ".py",
   "mimetype": "text/x-python",
   "name": "python",
   "nbconvert_exporter": "python",
   "pygments_lexer": "ipython3",
   "version": "3.10.4"
  },
  "orig_nbformat": 4,
  "vscode": {
   "interpreter": {
    "hash": "3c84e890491e19a1806ba6d8997d3a5373ca13adc3832f7ff9f28d04534d40f7"
   }
  }
 },
 "nbformat": 4,
 "nbformat_minor": 2
}
