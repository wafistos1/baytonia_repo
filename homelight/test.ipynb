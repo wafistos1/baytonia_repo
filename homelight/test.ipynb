{
 "cells": [
  {
   "cell_type": "code",
   "execution_count": 2,
   "metadata": {},
   "outputs": [],
   "source": [
    "\n",
    "from bs4 import BeautifulSoup\n",
    "from selenium import webdriver\n",
    "from selenium.webdriver.common.keys import Keys\n",
    "from selenium.webdriver.support import expected_conditions as EC\n",
    "from selenium.webdriver.common.by import By\n",
    "from selenium.webdriver.support.wait import WebDriverWait\n",
    "from selenium.webdriver.firefox.options import Options\n",
    "import time\n",
    "import os\n",
    "from fake_useragent import UserAgent\n",
    "from random import randint\n",
    "import pandas as pd\n",
    "import numpy as np\n",
    "import requests\n",
    "import pandas as pd\n",
    "import re, logging\n"
   ]
  },
  {
   "cell_type": "code",
   "execution_count": null,
   "metadata": {},
   "outputs": [],
   "source": [
    "\n",
    "\n",
    "logging.basicConfig(format='%(levelname)s:%(message)s', level=logging.INFO)\n",
    "\n",
    "\n",
    "urls = pd.read_excel('path excel url file')\n",
    "list_urls = []\n",
    "for index, row in urls.iterrows():\n",
    "    list_urls.append(\n",
    "        {\n",
    "            'url': row['url'],\n",
    "            'categories1': row['categories1'],\n",
    "            'categories2': row['categories2'],\n",
    "            'categories3': row['categories3'],\n",
    "        }\n",
    "    )\n",
    "\n",
    "\n",
    "def scrape_data(url):\n",
    "    data = {\n",
    "        \n",
    "    }\n",
    "    return data\n",
    "\n",
    "for i, url in enumerate(urls):\n",
    "    logging.info('--Count: %s', i)\n",
    "    data = scrape_data(url)\n",
    "    df1 = pd.DataFrame([data])\n",
    "    df = pd.concat([df, df1], ignore_index=True)\n",
    "    df.to_excel()\n"
   ]
  },
  {
   "cell_type": "code",
   "execution_count": 3,
   "metadata": {},
   "outputs": [],
   "source": [
    "options = Options()\n",
    "ua = UserAgent()\n",
    "userAgent = ua.random\n",
    "logging.info(userAgent)\n",
    "options.add_argument(f'user-agent={userAgent}')\n",
    "#opti#     driver = webdriver.Firefox()ons.add_argument(\"--headless\")\n",
    "driver = webdriver.Firefox(firefox_options=options)"
   ]
  },
  {
   "cell_type": "code",
   "execution_count": 5,
   "metadata": {},
   "outputs": [],
   "source": [
    "body=WebDriverWait(driver,20).until(EC.visibility_of_element_located((By.TAG_NAME,'body')))\n",
    "r = body.get_attribute('innerHTML')\n",
    "soup = BeautifulSoup(r, \"html.parser\")"
   ]
  },
  {
   "cell_type": "code",
   "execution_count": 9,
   "metadata": {},
   "outputs": [],
   "source": [
    "driver.find_element_by_xpath('//a[@class=\"btn btn--padded btn--primary btn--oval pagination__next mt-10\"]').click()"
   ]
  },
  {
   "cell_type": "code",
   "execution_count": 11,
   "metadata": {},
   "outputs": [],
   "source": [
    "while True:\n",
    "    time.sleep(4)\n",
    "    try:\n",
    "        driver.find_element_by_xpath('//a[@class=\"btn btn--padded btn--primary btn--oval pagination__next mt-10\"]').click()\n",
    "        \n",
    "    except:\n",
    "        logging.info('Next page..')\n",
    "        break"
   ]
  },
  {
   "cell_type": "code",
   "execution_count": 12,
   "metadata": {},
   "outputs": [
    {
     "name": "stdout",
     "output_type": "stream",
     "text": [
      "Len products 360\n"
     ]
    }
   ],
   "source": [
    "body=WebDriverWait(driver,20).until(EC.visibility_of_element_located((By.TAG_NAME,'body')))\n",
    "r = body.get_attribute('innerHTML')\n",
    "soup = BeautifulSoup(r, \"html.parser\")\n",
    "time.sleep(1)\n",
    "products = soup.find_all('div', {'class': 'product-block'})\n",
    "len(products)\n",
    "liens = [toto.find('a')['href']  for toto in products]\n",
    "print('Len products', len(liens))"
   ]
  }
 ],
 "metadata": {
  "kernelspec": {
   "display_name": "Python 3.10.4 ('env310')",
   "language": "python",
   "name": "python3"
  },
  "language_info": {
   "codemirror_mode": {
    "name": "ipython",
    "version": 3
   },
   "file_extension": ".py",
   "mimetype": "text/x-python",
   "name": "python",
   "nbconvert_exporter": "python",
   "pygments_lexer": "ipython3",
   "version": "3.10.4"
  },
  "orig_nbformat": 4,
  "vscode": {
   "interpreter": {
    "hash": "3c84e890491e19a1806ba6d8997d3a5373ca13adc3832f7ff9f28d04534d40f7"
   }
  }
 },
 "nbformat": 4,
 "nbformat_minor": 2
}
