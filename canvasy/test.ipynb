{
 "cells": [
  {
   "cell_type": "code",
   "execution_count": 3,
   "metadata": {},
   "outputs": [],
   "source": [
    "from bs4 import BeautifulSoup\n",
    "from selenium import webdriver\n",
    "from selenium.webdriver.common.keys import Keys\n",
    "from selenium.webdriver.support import expected_conditions as EC\n",
    "from selenium.webdriver.common.by import By\n",
    "from selenium.webdriver.support.wait import WebDriverWait\n",
    "from selenium.webdriver.firefox.options import Options\n",
    "import time\n",
    "import os\n",
    "from fake_useragent import UserAgent\n",
    "from random import randint\n",
    "import pandas as pd\n",
    "import numpy as np\n",
    "import requests\n",
    "import pandas as pd\n",
    "import re\n",
    "from selenium.webdriver.support.ui import Select\n",
    "from dataclasses import dataclass, field"
   ]
  },
  {
   "cell_type": "code",
   "execution_count": 5,
   "metadata": {},
   "outputs": [
    {
     "name": "stdout",
     "output_type": "stream",
     "text": [
      "Mozilla/5.0 (Windows NT 6.2; WOW64) AppleWebKit/537.14 (KHTML, like Gecko) Chrome/24.0.1292.0 Safari/537.14\n"
     ]
    }
   ],
   "source": [
    "options = Options()\n",
    "ua = UserAgent()\n",
    "userAgent = ua.random\n",
    "print(userAgent)\n",
    "options.add_argument(f'user-agent={userAgent}')\n",
    "#opti#     driver = webdriver.Firefox()ons.add_argument(\"--headless\")\n",
    "driver = webdriver.Firefox(firefox_options=options)\n",
    "driver.get('https://canvasy.net/product-category/%d9%84%d9%88%d8%ad%d8%a7%d8%aa-%d8%a7%d8%b2%d9%87%d8%a7%d8%b1/page/9/')"
   ]
  },
  {
   "cell_type": "code",
   "execution_count": null,
   "metadata": {},
   "outputs": [],
   "source": []
  },
  {
   "cell_type": "code",
   "execution_count": 129,
   "metadata": {},
   "outputs": [],
   "source": [
    "driver.get('https://canvasy.net/product-category/%d9%84%d9%88%d8%ad%d8%a7%d8%aa-%d8%a7%d8%b2%d9%87%d8%a7%d8%b1/page/9/')"
   ]
  },
  {
   "cell_type": "code",
   "execution_count": null,
   "metadata": {},
   "outputs": [],
   "source": [
    "urls = []"
   ]
  },
  {
   "cell_type": "code",
   "execution_count": 7,
   "metadata": {},
   "outputs": [],
   "source": [
    "r = driver.find_element_by_tag_name('body').get_attribute('innerHTML')\n",
    "soup = BeautifulSoup(r, \"html.parser\")\n"
   ]
  },
  {
   "cell_type": "code",
   "execution_count": 9,
   "metadata": {},
   "outputs": [],
   "source": [
    "images = soup.find_all('div', {'class': 'product-image-thumbnail'})\n",
    "len(images)\n",
    "list_images = [img.find('img')['src'].replace('-300x300', '') for img in images]\n",
    "base_image = list_images[0]\n",
    "add_images = ','.join(list_images[1:])"
   ]
  },
  {
   "cell_type": "code",
   "execution_count": 4,
   "metadata": {},
   "outputs": [],
   "source": [
    "COLORS = {\n",
    "    'اسود': 'BLACK',\n",
    "    'خشبي': 'WOODEN',\n",
    "    'ذهبي': 'GOLDEN',\n",
    "    'فضي': 'SILVER',\n",
    "    '': ''\n",
    "}"
   ]
  },
  {
   "cell_type": "code",
   "execution_count": 5,
   "metadata": {},
   "outputs": [
    {
     "data": {
      "text/plain": [
       "''"
      ]
     },
     "execution_count": 5,
     "metadata": {},
     "output_type": "execute_result"
    }
   ],
   "source": [
    "COLORS['']"
   ]
  },
  {
   "cell_type": "code",
   "execution_count": 10,
   "metadata": {},
   "outputs": [
    {
     "data": {
      "text/plain": [
       "['https://canvasy.net/wp-content/uploads/2020/08/كانفس-95.png',\n",
       " 'https://canvasy.net/wp-content/uploads/2020/08/mockup-48.jpg',\n",
       " 'https://canvasy.net/wp-content/uploads/2020/08/اسود-14.jpg',\n",
       " 'https://canvasy.net/wp-content/uploads/2020/08/ذهبي-52.jpg',\n",
       " 'https://canvasy.net/wp-content/uploads/2020/08/خشبي-58.jpg',\n",
       " 'https://canvasy.net/wp-content/uploads/2020/08/فضي-53.jpg',\n",
       " 'https://canvasy.net/wp-content/uploads/2020/08/flo0020-1.jpg']"
      ]
     },
     "execution_count": 10,
     "metadata": {},
     "output_type": "execute_result"
    }
   ],
   "source": [
    "list_images"
   ]
  },
  {
   "cell_type": "code",
   "execution_count": 133,
   "metadata": {},
   "outputs": [],
   "source": [
    "def scrap_product(driver, prozes=None, size=None):\n",
    "    r = driver.find_element_by_tag_name('body').get_attribute('innerHTML')\n",
    "    soup = BeautifulSoup(r, \"html.parser\")\n",
    "    name = soup.find('h1',{'class': 'product_title entry-title wd-entities-title'}).text.strip()\n",
    "    try:\n",
    "        prices = soup.find('div', {'class': 'single_variation_wrap'}).find_all('span', {'class': 'woocommerce-Price-amount amount'})\n",
    "        try:\n",
    "            price = prices[0].text.strip()\n",
    "            special_price = prices[1].text.strip()\n",
    "        except:\n",
    "            price = prices[0].text.strip()\n",
    "            special_price = ''\n",
    "        \n",
    "    except: \n",
    "        price =''\n",
    "    description = soup.find('div', {'class': 'woocommerce-product-details__short-description'}).text.strip()\n",
    "    cat1 = soup.find('a', {'class': 'breadcrumb-link breadcrumb-link-last'}).text.strip()\n",
    "    sku = soup.find('span', {'class', 'sku'}).text.strip()\n",
    "    try:\n",
    "        qty = soup.find('p', {'class': 'stock in-stock'}).text.replace('متوفر في المخزون', '').strip()\n",
    "    except:\n",
    "        qty = ''\n",
    "    images = soup.find_all('div', {'class': 'product-image-thumbnail'})\n",
    "    len(images)\n",
    "    list_images = [img.find('img')['src'].replace('-300x300', '') for img in images]\n",
    "    base_image = list_images[0]\n",
    "    add_images = ','.join(list_images[1:])\n",
    "    data = {\n",
    "        'sku': sku,\n",
    "        'name': name,\n",
    "        'price': price,\n",
    "        'special_price': special_price,\n",
    "        'link_url': driver.current_url,\n",
    "        'qty': qty,\n",
    "        'prozes': prozes,\n",
    "        'size': size,\n",
    "        'description': description,\n",
    "        'base_image': base_image,\n",
    "        'add_images': add_images,\n",
    "        'cat1': cat1,\n",
    "        'cat2': '',\n",
    "        \n",
    "    }\n",
    "    return data\n"
   ]
  },
  {
   "cell_type": "code",
   "execution_count": null,
   "metadata": {},
   "outputs": [],
   "source": [
    "df = pd.read_excel('cancasy_product_model.xlsx')\n",
    "def try_except(name):\n",
    "        try:\n",
    "            return name.first_selected_option.text\n",
    "        except:\n",
    "            return None\n",
    "        \n",
    "for i, url in enumerate(urls):\n",
    "    print('Count: ', i)\n",
    "    print('URL: ', url)\n",
    "    driver.get(url)\n",
    "    time.sleep(1)\n",
    "    prozes = driver.find_elements_by_xpath('//table[@class=\"variations\"]//ul[@class=\"variable-items-wrapper image-variable-wrapper\"]//li')\n",
    "    \n",
    "    \n",
    "    #select = Select(driver.find_element_by_id('pa_retsting'))\n",
    "    count = len(prozes)\n",
    "    for t in prozes:\n",
    "        time.sleep(1)\n",
    "        t.click()\n",
    "        print('Dans le prozes')\n",
    "        proz = t.find_element_by_tag_name('img').get_attribute('alt')\n",
    "        print('prozes', t.find_element_by_tag_name('img').get_attribute('alt'))\n",
    "        sizes1 = driver.find_elements_by_xpath('//table[@class=\"variations\"]//select')\n",
    "        sizes_id = sizes1[1].get_attribute('id')\n",
    "        sizes = driver.find_elements_by_xpath(f'//select[@id=\"{sizes_id}\"]//option')\n",
    "        select = Select(driver.find_element_by_id(sizes_id))\n",
    "        for i in range(1, len(sizes)):\n",
    "            time.sleep(1)\n",
    "            select.select_by_index(i)\n",
    "            size =try_except(select)\n",
    "            print('Size: ', size)\n",
    "            data = scrap_product(driver, prozes=proz, size=size)\n",
    "            df1 = pd.DataFrame([data])\n",
    "            df = pd.concat([df, df1], ignore_index=True)\n",
    "            df.to_excel('cancasy_product_update.xlsx')\n",
    "            \n",
    "\n",
    "            "
   ]
  },
  {
   "cell_type": "code",
   "execution_count": null,
   "metadata": {},
   "outputs": [],
   "source": [
    "sizes1 = driver.find_elements_by_xpath('//table[@class=\"variations\"]//select')\n",
    "sizes_id = sizes1[1].get_attribute('id')\n",
    "print(sizes_id)\n",
    "sizes = driver.find_elements_by_xpath(f'//select[@id=\"{sizes_id}\"]//option')\n",
    "select = Select(driver.find_element_by_id(sizes_id))\n",
    "for i in range(1, len(sizes)):\n",
    "        try:\n",
    "            time.sleep(1)\n",
    "       \n",
    "            size =try_except(select)\n",
    "            select.select_by_index(i)\n",
    "            print('Size: ', size)\n",
    "            data = scrap_product(driver, prozes=proz, size=size)\n",
    "            df1 = pd.DataFrame([data])\n",
    "            df = pd.concat([df, df1], ignore_index=True)\n",
    "            df.to_excel('cancasy_product_update.xlsx')\n",
    "        except:\n",
    "            continue"
   ]
  },
  {
   "cell_type": "code",
   "execution_count": null,
   "metadata": {},
   "outputs": [],
   "source": [
    "prozes = driver.find_elements_by_xpath('//table[@class=\"variations\"]//ul[@class=\"variable-items-wrapper image-variable-wrapper\"]//li')\n",
    "len(prozes)\n",
    "for t in prozes:\n",
    "    t.click()\n",
    "    print('prozes', t.find_element_by_tag_name('img').get_attribute('alt'))\n",
    "    time.sleep(2)\n"
   ]
  },
  {
   "cell_type": "code",
   "execution_count": null,
   "metadata": {},
   "outputs": [],
   "source": [
    "sizes = driver.find_elements_by_xpath('//select[@id=\"pa_retsting\"]//option')\n",
    "len(sizes)\n",
    "select = Select(driver.find_element_by_id('pa_retsting'))\n",
    "data = []\n",
    "for i in range(1, len(sizes)):\n",
    "    print('Count: ', i )\n",
    "    select.select_by_index(i)\n",
    "    size = try_except(select)\n",
    "    print('Size: ', size)\n",
    "    \n",
    "    time.sleep(2)"
   ]
  }
 ],
 "metadata": {
  "interpreter": {
   "hash": "3c84e890491e19a1806ba6d8997d3a5373ca13adc3832f7ff9f28d04534d40f7"
  },
  "kernelspec": {
   "display_name": "Python 3.10.4 ('env310')",
   "language": "python",
   "name": "python3"
  },
  "language_info": {
   "codemirror_mode": {
    "name": "ipython",
    "version": 3
   },
   "file_extension": ".py",
   "mimetype": "text/x-python",
   "name": "python",
   "nbconvert_exporter": "python",
   "pygments_lexer": "ipython3",
   "version": "3.10.4"
  },
  "orig_nbformat": 4
 },
 "nbformat": 4,
 "nbformat_minor": 2
}
