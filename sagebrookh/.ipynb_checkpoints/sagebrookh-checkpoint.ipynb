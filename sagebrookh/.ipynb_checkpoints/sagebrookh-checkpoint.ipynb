{
 "cells": [
  {
   "cell_type": "code",
   "execution_count": 78,
   "id": "51b0a636",
   "metadata": {},
   "outputs": [],
   "source": [
    "#imports here\n",
    "from selenium import webdriver\n",
    "from selenium.webdriver.common.keys import Keys\n",
    "from selenium.webdriver.support import expected_conditions as EC\n",
    "from selenium.webdriver.common.by import By\n",
    "from selenium.webdriver.support.wait import WebDriverWait\n",
    "from selenium.webdriver.firefox.options import Options\n",
    "import time\n",
    "import os\n",
    "from fake_useragent import UserAgent\n",
    "from random import randint\n",
    "import pandas as pd\n",
    "import re\n",
    "from datetime import datetime\n",
    "from datetime import timedelta\n",
    "from bs4 import BeautifulSoup"
   ]
  },
  {
   "cell_type": "markdown",
   "id": "e09c5275",
   "metadata": {},
   "source": [
    "# firefox "
   ]
  },
  {
   "cell_type": "code",
   "execution_count": 127,
   "id": "e81ce385",
   "metadata": {},
   "outputs": [
    {
     "name": "stdout",
     "output_type": "stream",
     "text": [
      "Mozilla/5.0 (Windows NT 6.2; WOW64) AppleWebKit/537.36 (KHTML, like Gecko) Chrome/29.0.1547.2 Safari/537.36\n"
     ]
    },
    {
     "name": "stderr",
     "output_type": "stream",
     "text": [
      "<ipython-input-127-5315509cced7>:7: DeprecationWarning: use options instead of firefox_options\n",
      "  driver = webdriver.Firefox(firefox_options=options)\n"
     ]
    }
   ],
   "source": [
    "options = Options()\n",
    "ua = UserAgent()\n",
    "userAgent = ua.random\n",
    "print(userAgent)\n",
    "options.add_argument(f'user-agent={userAgent}')\n",
    "#options.add_argument(\"--headless\")\n",
    "driver = webdriver.Firefox(firefox_options=options)\n",
    "#     driver = webdriver.Firefox()"
   ]
  },
  {
   "cell_type": "code",
   "execution_count": 74,
   "id": "4eec53e4",
   "metadata": {},
   "outputs": [],
   "source": [
    "driver.get('https://www.sagebrookhome.com/13107-01-ec-s-5-wood-metal-wall-shelves/')"
   ]
  },
  {
   "cell_type": "code",
   "execution_count": 210,
   "id": "eae9ba2e",
   "metadata": {},
   "outputs": [
    {
     "data": {
      "text/plain": [
       "5"
      ]
     },
     "execution_count": 210,
     "metadata": {},
     "output_type": "execute_result"
    }
   ],
   "source": [
    "urls = driver.find_elements_by_xpath(\"//iframe\")\n",
    "len(urls)"
   ]
  },
  {
   "cell_type": "code",
   "execution_count": null,
   "id": "6d74f8eb",
   "metadata": {},
   "outputs": [],
   "source": []
  },
  {
   "cell_type": "code",
   "execution_count": 153,
   "id": "7a29fc45",
   "metadata": {
    "scrolled": false
   },
   "outputs": [
    {
     "data": {
      "text/plain": [
       "5"
      ]
     },
     "execution_count": 153,
     "metadata": {},
     "output_type": "execute_result"
    }
   ],
   "source": [
    "urls = driver.find_elements_by_xpath(\"//iframe\")\n",
    "len(urls[0])\n"
   ]
  },
  {
   "cell_type": "code",
   "execution_count": 87,
   "id": "3e57a631",
   "metadata": {},
   "outputs": [],
   "source": [
    "list_url = [\n",
    "    \n",
    "    [\n",
    "        'https://www.sagebrookhome.com/decorative-accessories/bookends/?page=', 2\n",
    "    ],\n",
    "    [\n",
    "            'https://www.sagebrookhome.com/decorative-accessories/bowls-and-plates/?page=', 2\n",
    "    ],\n",
    "    [\n",
    "        'https://www.sagebrookhome.com/decorative-accessories/boxes/?page=', 2\n",
    "    ],\n",
    "    [\n",
    "        'https://www.sagebrookhome.com/decorative-accessories/clocks/?page=', 2\n",
    "    ],\n",
    "    [\n",
    "        'https://www.sagebrookhome.com/decorative-accessories/decorative-objects/?page=', 4\n",
    "    ],\n",
    "    [\n",
    "        'https://www.sagebrookhome.com/figurines/?page=', 5\n",
    "    ],\n",
    "    [\n",
    "        'https://www.sagebrookhome.com/decorative-accessories/frames/?page=', 2\n",
    "    ],\n",
    "    [\n",
    "        'https://www.sagebrookhome.com/decorative-accessories/sculptures/?page=', 3\n",
    "    ],\n",
    "    [\n",
    "        'https://www.sagebrookhome.com/decorative-accessories/storage/?page=', 2\n",
    "    ],\n",
    "    [\n",
    "        'https://www.sagebrookhome.com/decorative-accessories/trays/?page=', 2\n",
    "    ],\n",
    "    [\n",
    "        'https://www.sagebrookhome.com/decorative-accessories/trinkets-and-trays/?page=', 2\n",
    "    ],\n",
    "    [\n",
    "        'https://www.sagebrookhome.com/decorative-accessories/orbs/?page=', 2\n",
    "    ],\n",
    "    [\n",
    "        'https://www.sagebrookhome.com/vases-and-jars/vases/?page=', 5\n",
    "    ],\n",
    "    [\n",
    "        'https://www.sagebrookhome.com/vases-and-jars/jars/?page=', 2\n",
    "    ],\n",
    "    [\n",
    "        'https://www.sagebrookhome.com/candleholders-and-lanterns/candles/?page=', 2\n",
    "    ],\n",
    "    [\n",
    "        'https://www.sagebrookhome.com/candle-holders-and-lanterns/candles/indoor/?page=', 2\n",
    "    ],\n",
    "    [\n",
    "        'https://www.sagebrookhome.com/candleholders-and-lanterns/candleholders-and-tealights/?page=', 5\n",
    "    ],\n",
    "    [\n",
    "        'https://www.sagebrookhome.com/candleholders-and-lanterns/lanterns/?page=', 2\n",
    "    ],\n",
    "    [\n",
    "        'https://www.sagebrookhome.com/wall-decor/wall-art/?page=', 2\n",
    "    ],\n",
    "    [\n",
    "        'https://www.sagebrookhome.com/wall-decor/wall-clocks/?page=', 2\n",
    "    ],\n",
    "    [\n",
    "        'https://www.sagebrookhome.com/wall-decor/wall-flowers/?page=', 2\n",
    "    ],\n",
    "    [\n",
    "        \n",
    "    \n",
    "        'https://www.sagebrookhome.com/wall-decor/wall-hangings/new-category/?page=', 2\n",
    "    ],\n",
    "    [\n",
    "        'https://www.sagebrookhome.com/wall-decor/metal-wall/?page=', 3\n",
    "    ],\n",
    "    [\n",
    "        'https://www.sagebrookhome.com/wall-decor/mirrors/?page=', 2\n",
    "    ],\n",
    "    [\n",
    "        'https://www.sagebrookhome.com/wall-decor/wall-storage/?page=', 2\n",
    "    ],\n",
    "    [\n",
    "        'https://www.sagebrookhome.com/wall-decor/animal-heads/?page=', 2\n",
    "    ],\n",
    "    [\n",
    "        'https://www.sagebrookhome.com/furniture/accent-tables/?page=', 3\n",
    "    ],\n",
    "    [\n",
    "        'https://www.sagebrookhome.com/furniture/bar-carts-and-bars/?page=', 2\n",
    "    ],\n",
    "    [\n",
    "        'https://www.sagebrookhome.com/furniture/chairs/?page=', 2\n",
    "    ],\n",
    "    [\n",
    "        'https://www.sagebrookhome.com/furniture/consoles-and-cabinets/?page=', 2\n",
    "    ],\n",
    "    [\n",
    "        'https://www.sagebrookhome.com/furniture/shelves-bookcases/?page=', 2\n",
    "    ],\n",
    "    [\n",
    "        'https://www.sagebrookhome.com/furniture/sofas-and-loveseats/?page=', 2\n",
    "    ],\n",
    "    [\n",
    "        'https://www.sagebrookhome.com/furniture/stools-ottomans-and-benches/?page=', 2\n",
    "    ],\n",
    "    [\n",
    "        'https://www.sagebrookhome.com/lighting/desk-lamps/?page=', 2\n",
    "    ],\n",
    "    [\n",
    "        'https://www.sagebrookhome.com/lighting/floor-lamps/?page=', 3\n",
    "    ],\n",
    "    [\n",
    "        'https://www.sagebrookhome.com/lighting/table-lamps/?page=', 8\n",
    "    ],\n",
    "    [\n",
    "        'https://www.sagebrookhome.com/lighting/pendants-chandeliers/?page=', 2\n",
    "    ],\n",
    "    [\n",
    "        'https://www.sagebrookhome.com/decorative-accessories/outdoor-decor/birding/?page=', 2\n",
    "    ],\n",
    "    [\n",
    "        'https://www.sagebrookhome.com/decorative-accessories/outdoor-decor/garden-statuary/?page=', 2\n",
    "    ],\n",
    "    [\n",
    "        'https://www.sagebrookhome.com/garden/planters/?page=', 9\n",
    "    ],\n",
    "    [\n",
    "        'https://www.sagebrookhome.com/decorative-accessories/outdoor-decor/plant-stands/?page=', 2\n",
    "    ],\n",
    "    \n",
    "]"
   ]
  },
  {
   "cell_type": "code",
   "execution_count": null,
   "id": "3c830bc4",
   "metadata": {},
   "outputs": [],
   "source": []
  },
  {
   "cell_type": "code",
   "execution_count": null,
   "id": "2835b929",
   "metadata": {},
   "outputs": [],
   "source": []
  },
  {
   "cell_type": "code",
   "execution_count": 4,
   "id": "c7f90b28",
   "metadata": {},
   "outputs": [],
   "source": [
    "all_df = pd.read_excel('SageBrook_update2.xlsx')"
   ]
  },
  {
   "cell_type": "code",
   "execution_count": 37,
   "id": "fe185da2",
   "metadata": {},
   "outputs": [
    {
     "data": {
      "text/plain": [
       "(1856, 39)"
      ]
     },
     "execution_count": 37,
     "metadata": {},
     "output_type": "execute_result"
    }
   ],
   "source": [
    "all_df.shape"
   ]
  },
  {
   "cell_type": "code",
   "execution_count": 9,
   "id": "7ce76371",
   "metadata": {},
   "outputs": [
    {
     "data": {
      "text/plain": [
       "0       Marble , Metal\n",
       "1       Marble , Metal\n",
       "2           Ceramic , \n",
       "3           Ceramic , \n",
       "4           Ceramic , \n",
       "             ...      \n",
       "1851           Iron , \n",
       "1852           Iron , \n",
       "1853      Polyresin , \n",
       "1854      Polyresin , \n",
       "1855      Polyresin , \n",
       "Name: raw_materials, Length: 1856, dtype: object"
      ]
     },
     "execution_count": 9,
     "metadata": {},
     "output_type": "execute_result"
    }
   ],
   "source": [
    "all_df.loc[all_df['raw_materials'] == '', 'raw_meterials'] = "
   ]
  },
  {
   "cell_type": "code",
   "execution_count": null,
   "id": "705650f6",
   "metadata": {},
   "outputs": [],
   "source": []
  },
  {
   "cell_type": "markdown",
   "id": "1a2cda0c",
   "metadata": {},
   "source": [
    "# Urls"
   ]
  },
  {
   "cell_type": "code",
   "execution_count": 89,
   "id": "fc76bf03",
   "metadata": {
    "scrolled": true
   },
   "outputs": [
    {
     "name": "stdout",
     "output_type": "stream",
     "text": [
      "Count: 1\n",
      "21\n",
      "Count: 1\n",
      "32\n",
      "Count: 1\n",
      "58\n",
      "Count: 1\n",
      "62\n",
      "Count: 1\n",
      "112\n",
      "Count: 2\n",
      "162\n",
      "Count: 3\n",
      "191\n",
      "Count: 1\n",
      "241\n",
      "Count: 2\n",
      "291\n",
      "Count: 3\n",
      "341\n",
      "Count: 4\n",
      "347\n",
      "Count: 1\n",
      "352\n",
      "Count: 1\n",
      "402\n",
      "Count: 2\n",
      "437\n",
      "Count: 1\n",
      "457\n",
      "Count: 1\n",
      "478\n",
      "Count: 1\n",
      "508\n",
      "Count: 1\n",
      "511\n",
      "Count: 1\n",
      "561\n",
      "Count: 2\n",
      "610\n",
      "Count: 3\n",
      "658\n",
      "Count: 4\n",
      "658\n",
      "Count: 1\n",
      "701\n",
      "Count: 1\n",
      "717\n",
      "Count: 1\n",
      "733\n",
      "Count: 1\n",
      "783\n",
      "Count: 2\n",
      "833\n",
      "Count: 3\n",
      "863\n",
      "Count: 4\n",
      "863\n",
      "Count: 1\n",
      "870\n",
      "Count: 1\n",
      "885\n",
      "Count: 1\n",
      "886\n",
      "Count: 1\n",
      "904\n",
      "Count: 1\n",
      "919\n",
      "Count: 1\n",
      "969\n",
      "Count: 2\n",
      "971\n",
      "Count: 1\n",
      "1011\n",
      "Count: 1\n",
      "1061\n",
      "Count: 1\n",
      "1065\n",
      "Count: 1\n",
      "1115\n",
      "Count: 2\n",
      "1115\n",
      "Count: 1\n",
      "1122\n",
      "Count: 1\n",
      "1127\n",
      "Count: 1\n",
      "1139\n",
      "Count: 1\n",
      "1144\n",
      "Count: 1\n",
      "1148\n",
      "Count: 1\n",
      "1155\n",
      "Count: 1\n",
      "1169\n",
      "Count: 1\n",
      "1219\n",
      "Count: 2\n",
      "1221\n",
      "Count: 1\n",
      "1271\n",
      "Count: 2\n",
      "1321\n",
      "Count: 3\n",
      "1371\n",
      "Count: 4\n",
      "1421\n",
      "Count: 5\n",
      "1452\n",
      "Count: 6\n",
      "1452\n",
      "Count: 7\n",
      "1452\n",
      "Count: 1\n",
      "1460\n",
      "Count: 1\n",
      "1466\n",
      "Count: 1\n",
      "1504\n",
      "Count: 1\n",
      "1554\n",
      "Count: 2\n",
      "1604\n",
      "Count: 3\n",
      "1654\n",
      "Count: 4\n",
      "1704\n",
      "Count: 5\n",
      "1754\n",
      "Count: 6\n",
      "1804\n",
      "Count: 7\n",
      "1854\n",
      "Count: 8\n",
      "1866\n",
      "Count: 1\n",
      "1868\n"
     ]
    }
   ],
   "source": [
    "links_products = []\n",
    "for cat in list_url:\n",
    "    for i in range(1, cat[1]):\n",
    "        print('Count:', i)\n",
    "        driver.get(f'{cat[0]}{i}')\n",
    "\n",
    "        urls = driver.find_elements_by_xpath(\"//figure[@class='card-figure']/a\")\n",
    "        len(urls)\n",
    "        ca1 = cat[0]\n",
    "        #Forloop to get all url products\n",
    "        for url in urls:\n",
    "            links_products.append(url.get_attribute('href'))\n",
    "        #     time.sleep(0.5)\n",
    "        time.sleep(1)\n",
    "        print(len(links_products))\n",
    "now = datetime.now()\n",
    "dt_string = now.strftime(\"%d-%m-%Y-%H-%M-%S\")\n",
    "#Save link in excel files\n",
    "link_living_rooms = {\n",
    "    'liste': links_products,\n",
    "}\n",
    "\n",
    "liste_link_living_rooms = pd.DataFrame(link_living_rooms)\n",
    "liste_link_living_rooms.to_excel(f'link_sagebrook-{dt_string}.xlsx')"
   ]
  },
  {
   "cell_type": "code",
   "execution_count": 92,
   "id": "505b32e5",
   "metadata": {},
   "outputs": [
    {
     "data": {
      "text/plain": [
       "'https://www.sagebrookhome.com/15977-01-marble-13h-love-bookends-white/'"
      ]
     },
     "execution_count": 92,
     "metadata": {},
     "output_type": "execute_result"
    }
   ],
   "source": [
    "links_products[0]\n",
    "\n"
   ]
  },
  {
   "cell_type": "code",
   "execution_count": 6,
   "id": "e2c8a79b",
   "metadata": {},
   "outputs": [
    {
     "name": "stdout",
     "output_type": "stream",
     "text": [
      "745\n"
     ]
    }
   ],
   "source": [
    "\n",
    "Home\n",
    "Alternative Wall Decor\n",
    "View A"
   ]
  },
  {
   "cell_type": "markdown",
   "id": "f481327f",
   "metadata": {},
   "source": [
    "# Create elements"
   ]
  },
  {
   "cell_type": "code",
   "execution_count": null,
   "id": "f8ce39de",
   "metadata": {},
   "outputs": [],
   "source": []
  },
  {
   "cell_type": "code",
   "execution_count": 198,
   "id": "a1220573",
   "metadata": {},
   "outputs": [
    {
     "name": "stdout",
     "output_type": "stream",
     "text": [
      "Bookends\n"
     ]
    }
   ],
   "source": [
    "cats = driver.find_elements_by_xpath('//ul[@class = \"breadcrumbs\"]//li')\n",
    "print(cats[2].text)"
   ]
  },
  {
   "cell_type": "code",
   "execution_count": null,
   "id": "5a52e2c9",
   "metadata": {},
   "outputs": [],
   "source": []
  },
  {
   "cell_type": "code",
   "execution_count": 27,
   "id": "383e3a65",
   "metadata": {},
   "outputs": [],
   "source": [
    "def change_size_dimension(size):\n",
    "    sizes = size.split('x')\n",
    "    list_si = []\n",
    "    result = ''\n",
    "    for si in sizes:\n",
    "        list_si.append(str(float(si) * 2.54))\n",
    "    \n",
    "    result = 'x'.join(list_si)\n",
    "    \n",
    "    return result\n",
    "    "
   ]
  },
  {
   "cell_type": "code",
   "execution_count": null,
   "id": "7ac5bf2f",
   "metadata": {},
   "outputs": [],
   "source": []
  },
  {
   "cell_type": "code",
   "execution_count": null,
   "id": "6029ad9f",
   "metadata": {},
   "outputs": [],
   "source": []
  },
  {
   "cell_type": "code",
   "execution_count": 28,
   "id": "8cc03281",
   "metadata": {},
   "outputs": [
    {
     "data": {
      "text/plain": [
       "'25.4x25.4x33.02'"
      ]
     },
     "execution_count": 28,
     "metadata": {},
     "output_type": "execute_result"
    }
   ],
   "source": [
    "dimension3 = driver.find_elements_by_xpath(\"//div[contains(@class, 'product__set')]/span\")[5].text\n",
    "change_size_dimension(dimension3)"
   ]
  },
  {
   "cell_type": "markdown",
   "id": "f57e48a4",
   "metadata": {},
   "source": [
    "# Regex size"
   ]
  },
  {
   "cell_type": "code",
   "execution_count": 192,
   "id": "215e7d42",
   "metadata": {
    "scrolled": true
   },
   "outputs": [
    {
     "data": {
      "text/plain": [
       "'Glass'"
      ]
     },
     "execution_count": 192,
     "metadata": {},
     "output_type": "execute_result"
    }
   ],
   "source": [
    "matters2 = driver.find_elements_by_xpath(\"//div[contains(@class, 'product__material2')]/span\")\n",
    "matter2 = matters2[1].text\n",
    "matter2\n",
    "   "
   ]
  },
  {
   "cell_type": "code",
   "execution_count": 40,
   "id": "184fd98b",
   "metadata": {},
   "outputs": [],
   "source": [
    "df = pd.read_excel('spring_model.xlsx')"
   ]
  },
  {
   "cell_type": "code",
   "execution_count": 40,
   "id": "9ddef47b",
   "metadata": {},
   "outputs": [],
   "source": [
    "driver.get('https://www.sagebrookhome.com/15520-s-2-10-12-bowl-with-handles-gold/')"
   ]
  },
  {
   "cell_type": "markdown",
   "id": "3a1f4268",
   "metadata": {},
   "source": [
    "# Debut de la fonction"
   ]
  },
  {
   "cell_type": "code",
   "execution_count": 128,
   "id": "14f4125f",
   "metadata": {
    "scrolled": true
   },
   "outputs": [
    {
     "name": "stdout",
     "output_type": "stream",
     "text": [
      "***********************************************************\n",
      "Count: 0\n",
      "URl: https://www.sagebrookhome.com/15977-01-marble-13h-love-bookends-white/\n",
      "Cat1: Categories\n",
      "Cat2: Shop All\n",
      "Cat3: \n",
      "disss5\n",
      "cas2\n",
      "W: 8 \n",
      "H:  7\n",
      "L:  3 \n",
      "W: 20.32\n",
      "H: 7.62\n",
      "L: 17.78\n",
      "Qty: 11\n",
      "len list images 2\n",
      "Sku: ROG-15977-01\n",
      "Title: S/2 MARBLE 7\"H LOVE BOOKENDS, WHITE\n",
      "Price: __EMPTY__VALUE__\n",
      "Price old: __EMPTY__VALUE__\n",
      "Description: \n",
      "Colors: White\n",
      "Matter: Marble , Metal\n",
      "url video: https://www.youtube.com/embed/szRbzB13zdI?enablejsapi=1&autoplay=1&controls=0&fs=1&loop=1&playlist=szRbzB13zdI&rel=0\n",
      "URl: https://www.sagebrookhome.com/15977-01-marble-13h-love-bookends-white/\n",
      "https://cdn11.bigcommerce.com/s-4j2yr9mzig/images/stencil/500x500/products/32885/180083/15977-01_2__88146.1615262711.jpg\n",
      "***********************************************************\n",
      "Count: 1\n",
      "URl: https://www.sagebrookhome.com/15925-01-9-elephant-bookends-white/\n",
      "Cat1: Categories\n",
      "Cat2: Shop All\n",
      "Cat3: \n",
      "disss5\n",
      "cas2\n",
      "W: 5 \n",
      "H:  9\n",
      "L:  4 \n",
      "W: 12.7\n",
      "H: 10.16\n",
      "L: 22.86\n",
      "Qty: +50\n",
      "len list images 3\n",
      "Sku: ROG-15925-01\n",
      "Title: CER, S/2 9\" ELEPHANT BOOKENDS, WHITE\n",
      "Price: __EMPTY__VALUE__\n",
      "Price old: __EMPTY__VALUE__\n",
      "Description: \n",
      "Colors: White\n",
      "Matter: Ceramic\n",
      "url video: https://www.youtube.com/embed/-C7txhyQd00?enablejsapi=1&autoplay=1&controls=0&fs=1&loop=1&playlist=-C7txhyQd00&rel=0\n",
      "URl: https://www.sagebrookhome.com/15925-01-9-elephant-bookends-white/\n",
      "https://cdn11.bigcommerce.com/s-4j2yr9mzig/images/stencil/500x500/products/32813/193727/15925-01_2__70504.1622776393.jpg, https://cdn11.bigcommerce.com/s-4j2yr9mzig/images/stencil/500x500/products/32813/193728/15925-01_3__48126.1622776396.jpg\n",
      "***********************************************************\n",
      "Count: 2\n",
      "URl: https://www.sagebrookhome.com/15924-01-7-elephant-bookends-white/\n",
      "Cat1: Categories\n",
      "Cat2: Shop All\n",
      "Cat3: \n",
      "disss5\n",
      "cas2\n",
      "W: 6.692913 \n",
      "H:  6.574803\n",
      "L:  3.818898 \n",
      "W: 16.99999902\n",
      "H: 9.700000919999999\n",
      "L: 16.69999962\n",
      "Qty: +50\n",
      "len list images 3\n",
      "Sku: ROG-15924-01\n",
      "Title: CER, S/2 7\" ELEPHANT BOOKENDS, WHITE\n",
      "Price: __EMPTY__VALUE__\n",
      "Price old: __EMPTY__VALUE__\n",
      "Description: \n",
      "Colors: White\n",
      "Matter: Ceramic\n",
      "url video: https://www.youtube.com/embed/M2-B_gSSBPI?enablejsapi=1&autoplay=1&controls=0&fs=1&loop=1&playlist=M2-B_gSSBPI&rel=0\n",
      "URl: https://www.sagebrookhome.com/15924-01-7-elephant-bookends-white/\n",
      "https://cdn11.bigcommerce.com/s-4j2yr9mzig/images/stencil/500x500/products/32812/184264/15924-01_2__22395.1619492537.jpg, https://cdn11.bigcommerce.com/s-4j2yr9mzig/images/stencil/500x500/products/32812/184265/15924-01_3__56836.1619492540.jpg\n"
     ]
    }
   ],
   "source": [
    "now = datetime.now()\n",
    "dt_string = now.strftime(\"%d-%m-%Y-%H-%M-%S\")\n",
    "count = 0\n",
    "def change_size_dimension(size):\n",
    "    sizes = size.split('x')\n",
    "    list_si = []\n",
    "    result = ''\n",
    "    for si in sizes:\n",
    "        list_si.append(str(float(si) * 2.54))\n",
    "    \n",
    "    result = 'x'.join(list_si)\n",
    "    \n",
    "    return result\n",
    "\n",
    "def clear_size(text):\n",
    "    regex = re.compile(r'(?P<width>\\s*\\d*.?\\d+\\s*)[ x\\*](?P<lenght>\\s*\\d*.?\\d+\\s*)[ x\\*](?P<hight>\\s*\\d*.?\\d+\\s*)*')\n",
    "    p = re.match(regex, text)\n",
    "    \n",
    "    if p != None:   \n",
    "        width = p['width']   \n",
    "        lenght = p['lenght'] \n",
    "        height = p['hight'] \n",
    "        print('W:', width)\n",
    "        print('H:', height)\n",
    "        print('L:', lenght)\n",
    "        return float(width) * 2.54, float(lenght) * 2.54, float(height) * 2.54\n",
    "    else:\n",
    "        width = 0  \n",
    "        lenght = 0\n",
    "        height = 0\n",
    "        return width, lenght, height\n",
    "#**********************************************************************\n",
    "#**********************************************************************\n",
    "#**********************************************************************\n",
    "#**********************************************************************\n",
    "#**********************************************************************\n",
    "#ForLoop main\n",
    "name_excel = 'sagebrookh_update_sagebrookh_new.xlsx'\n",
    "df = pd.read_excel('sagebrookh_model.xlsx')\n",
    "for i, product in enumerate(links_products[:3]):\n",
    "    height = 0\n",
    "    length = 0\n",
    "    width = 0\n",
    "    series = None\n",
    "    time.sleep(1)\n",
    "    try:\n",
    "        print('***********************************************************')\n",
    "        print('Count:', i)\n",
    "        print('URl:', product)\n",
    "        driver.get(str(product))\n",
    "        time.sleep(2)\n",
    "        \n",
    "    except:\n",
    "        continue\n",
    "    \n",
    "#**********************************************************************\n",
    "#**********************************************************************\n",
    "   \n",
    "\n",
    "    link_url = str(product)\n",
    "    time.sleep(2)\n",
    "    cats = driver.find_elements_by_xpath('//ul[@class = \"breadcrumbs\"]//li')\n",
    "\n",
    "    try:\n",
    "        categories1 =  cats[1].text\n",
    "    except:\n",
    "        categories1 = ''\n",
    "    try:\n",
    "        categories2 =  cats[2].text \n",
    "    except:\n",
    "        categories2 = ''\n",
    "    try:\n",
    "        categories3 =  ''#driver.find_elements_by_xpath(\"//li[contains(@class, 'breadcrumb__item')]\")[2].text\n",
    "    except:\n",
    "        categories3 = ''\n",
    "    print('Cat1:', categories1)\n",
    "    print('Cat2:', categories2)\n",
    "    print('Cat3:', categories3)\n",
    "    time.sleep(1)\n",
    "    try:\n",
    "        sku = driver.find_element_by_class_name('pp_sku').text.replace('#', 'ROG-')\n",
    "    except:\n",
    "        print('pas de produit')\n",
    "        continue\n",
    "    name = driver.find_element_by_class_name('productView-title').text\n",
    "    url_key = (f'{sku}-{name}').replace(',', '-').replace('*', '-').replace('،', '-').replace('/', '-').replace('%', '').replace('\"', '')\n",
    "    try:\n",
    "        url_video =  driver.find_element_by_xpath(\"//iframe\").get_attribute('src')\n",
    "    except:\n",
    "        url_video = ''\n",
    "\n",
    "    if url_video == '':\n",
    "        try:\n",
    "            url_videos = driver.find_element_by_xpath(\"//iframe\").get_attribute('data-src')\n",
    "            url_video ='https:'+url_videos.split('?')[0]\n",
    "        except:\n",
    "            url_video = ''\n",
    "    price = '__EMPTY__VALUE__'\n",
    "    try:\n",
    "        special_price =  '__EMPTY__VALUE__'\n",
    "    except:\n",
    "        special_price = '__EMPTY__VALUE__'\n",
    "    time.sleep(1)\n",
    "\n",
    "# Description*********************************************************************************\n",
    "    \n",
    "    description = ''\n",
    "    short_description = ''\n",
    "    try:\n",
    "        weights = driver.find_elements_by_xpath(\"//div[contains(@class, 'product__weight')]/span\")\n",
    "        weight = weights[1].text.replace('LBS', '').strip()\n",
    "    except:\n",
    "        weight = ''\n",
    "    \n",
    "    dimension = driver.find_elements_by_xpath(\"//div[contains(@class, 'product__dimensions')]/span\")[1].text\n",
    "    try:\n",
    "        dimension2 = driver.find_elements_by_xpath(\"//div[contains(@class, 'product__set')]/span\")[3].text\n",
    "    except:\n",
    "        dimension2 = 0\n",
    "    try:\n",
    "        dimension3 = driver.find_elements_by_xpath(\"//div[contains(@class, 'product__set')]/span\")[5].text\n",
    "    except:\n",
    "        dimension3 = 0\n",
    "    try:\n",
    "        dimension4 = driver.find_elements_by_xpath(\"//div[contains(@class, 'product__set')]/span\")[7].text\n",
    "    except:\n",
    "        dimension4 = 0\n",
    "    try:\n",
    "        dimension5 = driver.find_elements_by_xpath(\"//div[contains(@class, 'product__set')]/span\")[9].text\n",
    "        print('di5')\n",
    "    except:\n",
    "        dimension5 =  0     \n",
    "        print('disss5')\n",
    "    if dimension2 == 0:\n",
    "        print('cas2')\n",
    "        try:\n",
    "            width , height , length = clear_size(dimension)\n",
    "        except:\n",
    "            pass\n",
    "    else:\n",
    "        if dimension3 == 0:\n",
    "            print('cas3')\n",
    "            description = 'Dimension: ' + change_size_dimension(dimension) + ' , ' + change_size_dimension(dimension2) \n",
    "        elif dimension4 == 0:\n",
    "            print('cas4')\n",
    "            description = 'Dimension: ' + change_size_dimension(dimension) + ' , ' + change_size_dimension(dimension2) +', '+ change_size_dimension(dimension3) \n",
    "        elif dimension5 == 0:\n",
    "            print('cas5')\n",
    "            description ='Dimension: ' + change_size_dimension(dimension) + ' , ' + change_size_dimension(dimension2) + ', ' + change_size_dimension(dimension3) +', '+ change_size_dimension(dimension4) \n",
    "\n",
    "\n",
    "        else:\n",
    "            description ='Dimension: ' + change_size_dimension(dimension) + ' , ' + change_size_dimension(dimension2) + ', ' + change_size_dimension(dimension3) +', '+ change_size_dimension(dimension4) +', '+ change_size_dimension(dimension5)\n",
    "\n",
    "    print('W:', width)\n",
    "    print('H:', height)\n",
    "    print('L:', length)\n",
    "    try:\n",
    "        colors = driver.find_elements_by_xpath(\"//div[contains(@class, 'product__color')]/span\")\n",
    "        color = matters[1].text\n",
    "    except:\n",
    "        color = ''\n",
    "    try:\n",
    "        matters = driver.find_elements_by_xpath(\"//div[contains(@class, 'product__material1')]/span\")\n",
    "        matter = matters[1].text \n",
    "    except:\n",
    "        matter = ''\n",
    "    try:\n",
    "        matters2 = driver.find_elements_by_xpath(\"//div[contains(@class, 'product__material2')]/span\")\n",
    "        matter2 = matters2[1].text\n",
    "    except:\n",
    "        matter2 = ''\n",
    "    qtys =  driver.find_elements_by_xpath(\"//div[contains(@class, 'available_qty')]/span\")\n",
    "    qty = qtys[1].text\n",
    "    print('Qty:', qty)\n",
    "    free_colors = colors[1].text\n",
    "    if matter2 != '':\n",
    "        raw_materials = matter + ' , ' + matter2\n",
    "    else:\n",
    "        raw_materials = matter\n",
    "\n",
    "# Images*********************************************************************************\n",
    "    images = driver.find_elements_by_xpath(\"//a[contains(@class, 'productView-thumbnail-link')]/img\")\n",
    "    len(images)\n",
    "    list_images = []\n",
    "    for img in images:\n",
    "        list_images.append(img.get_attribute('src').split('?')[0])\n",
    "\n",
    "    print('len list images',len(list_images))\n",
    "    base_image = list_images[0]\n",
    "    small_image = list_images[0]\n",
    "    swatch_image = list_images[0]\n",
    "    thumbnail_image = list_images[0]\n",
    "#************************************************************************** \n",
    "    print('Sku:', sku)\n",
    "    print('Title:', name)\n",
    "    print('Price:', price)\n",
    "    print('Price old:',special_price)\n",
    "    print('Description:',description)\n",
    "    print('Colors:',free_colors)\n",
    "    print('Matter:',raw_materials)\n",
    "#     print('Size:',Dimensions)\n",
    "    print('url video:',url_video)\n",
    "    print('URl:',link_url)\n",
    "    \n",
    "    try:\n",
    "\n",
    "        image1 = list_images[0]\n",
    "    except:\n",
    "        image1 = ''\n",
    "\n",
    "    try:\n",
    "        image2 = list_images[1:]\n",
    "    except:\n",
    "        image2 = ''\n",
    "    try:\n",
    "        timage = ''\n",
    "        for i, img in enumerate(list_images[1:]):\n",
    "            if i == 0:\n",
    "                timage += str(img)\n",
    "            else:\n",
    "                timage += ', ' + str(img)\n",
    "#         list_input_images2.append(timage)\n",
    "        print(timage)\n",
    "    except:\n",
    "        timage = ''\n",
    "\n",
    "    additional_images = timage\n",
    "        #         list_input_images2.append(t)\n",
    "#*******************************************************\n",
    "    two_month = datetime.now() + timedelta(days=60)\n",
    "    two_month = two_month.strftime(\"%m/%d/%Y\")\n",
    "    today = datetime.today().strftime(\"%m/%d/%Y\")\n",
    "#*******************************************************\n",
    "    series = pd.Series([sku,\n",
    "                         name,\n",
    "                         url_key,\n",
    "                         short_description,\n",
    "                        description,\n",
    "                         free_colors,\n",
    "                         raw_materials,\n",
    "                        width,\n",
    "                        height,\n",
    "                        length,\n",
    "                        weight,\n",
    "                         base_image,\n",
    "                         small_image,\n",
    "                         swatch_image,\n",
    "                         thumbnail_image,\n",
    "                         additional_images ,\n",
    "                         categories1,\n",
    "                         categories2,\n",
    "                         categories3,\n",
    "                         price ,\n",
    "                        special_price,\n",
    "                        'Catalog, Search',\n",
    "                        'Taxable Goods',\n",
    "                        link_url,\n",
    "                        url_video,\n",
    "                        qty,\n",
    "                        -5,\n",
    "                        1,\n",
    "                        1,\n",
    "                        1,\n",
    "                        'مستوردة',\n",
    "\n",
    "                         today,\n",
    "                         two_month,\n",
    "                         'base',\n",
    "                         'Default',\n",
    "                         'simple',\n",
    "                         '',\n",
    "                        'ROG'\n",
    "\n",
    "                        ],  index=df.columns)\n",
    "    #df.append(df1)\n",
    "    df = df.append(series, ignore_index=True)\n",
    "    df.to_excel( f'{name_excel}', index = False)\n"
   ]
  },
  {
   "cell_type": "code",
   "execution_count": 118,
   "id": "6d970833",
   "metadata": {},
   "outputs": [
    {
     "name": "stdout",
     "output_type": "stream",
     "text": [
      "+50\n"
     ]
    }
   ],
   "source": [
    "\n"
   ]
  },
  {
   "cell_type": "code",
   "execution_count": 73,
   "id": "6a210f1f",
   "metadata": {},
   "outputs": [],
   "source": [
    "https://www.sagebrookhome.com/decorative-accessories/bowls-and-plates/"
   ]
  },
  {
   "cell_type": "code",
   "execution_count": 77,
   "id": "bf71b203",
   "metadata": {},
   "outputs": [
    {
     "data": {
      "text/plain": [
       "'7.75x7.5x13'"
      ]
     },
     "execution_count": 77,
     "metadata": {},
     "output_type": "execute_result"
    }
   ],
   "source": [
    "dimension3 = driver.find_elements_by_xpath(\"//div[contains(@class, 'product__set')]/span\")[9].text\n",
    "dimension3"
   ]
  },
  {
   "cell_type": "markdown",
   "id": "b7d8d492",
   "metadata": {},
   "source": [
    "# Fin de la fonction"
   ]
  },
  {
   "cell_type": "code",
   "execution_count": 131,
   "id": "8a125d6e",
   "metadata": {},
   "outputs": [],
   "source": [
    "driver.get('https://www.sagebrookhome.com/15925-01-9-elephant-bookends-white/')"
   ]
  },
  {
   "cell_type": "code",
   "execution_count": null,
   "id": "8b78587e",
   "metadata": {},
   "outputs": [],
   "source": []
  },
  {
   "cell_type": "code",
   "execution_count": 119,
   "id": "3a22a88f",
   "metadata": {},
   "outputs": [
    {
     "name": "stdout",
     "output_type": "stream",
     "text": [
      "di5\n"
     ]
    }
   ],
   "source": [
    "dimension = driver.find_elements_by_xpath(\"//div[contains(@class, 'product__dimensions')]/span\")[1].text\n",
    "try:\n",
    "    dimension2 = driver.find_elements_by_xpath(\"//div[contains(@class, 'product__set')]/span\")[3].text\n",
    "except:\n",
    "    dimension2 = 0\n",
    "try:\n",
    "    dimension3 = driver.find_elements_by_xpath(\"//div[contains(@class, 'product__set')]/span\")[5].text\n",
    "except:\n",
    "    dimension3 = 0\n",
    "try:\n",
    "    dimension4 = driver.find_elements_by_xpath(\"//div[contains(@class, 'product__set')]/span\")[7].text\n",
    "except:\n",
    "    dimension4 = 0\n",
    "try:\n",
    "    dimension5 = driver.find_elements_by_xpath(\"//div[contains(@class, 'product__set')]/span\")[9].text\n",
    "    print('di5')\n",
    "except:\n",
    "    dimension5 =  0     \n",
    "    print('disss5')\n",
    "if dimension2 == 0:\n",
    "    print('cas2')\n",
    "    try:\n",
    "        width , height , length = clear_size(dimension)\n",
    "    except:\n",
    "        pass\n",
    "else:\n",
    "    if dimension3 == 0:\n",
    "        print('cas3')\n",
    "        description = 'Dimension: ' + change_size_dimension(dimension) + ' , ' + change_size_dimension(dimension2) \n",
    "    elif dimension4 == 0:\n",
    "        print('cas4')\n",
    "        description = 'Dimension: ' + change_size_dimension(dimension) + ' , ' + change_size_dimension(dimension2) +', '+ change_size_dimension(dimension3) \n",
    "    elif dimension5 == 0:\n",
    "        print('cas5')\n",
    "        description ='Dimension: ' + change_size_dimension(dimension) + ' , ' + change_size_dimension(dimension2) + ', ' + change_size_dimension(dimension3) +', '+ change_size_dimension(dimension4) \n",
    "\n",
    "\n",
    "    else:\n",
    "        description ='Dimension: ' + change_size_dimension(dimension) + ' , ' + change_size_dimension(dimension2) + ', ' + change_size_dimension(dimension3) +', '+ change_size_dimension(dimension4) +', '+ change_size_dimension(dimension5)\n",
    "\n"
   ]
  },
  {
   "cell_type": "code",
   "execution_count": 120,
   "id": "21e27231",
   "metadata": {},
   "outputs": [
    {
     "data": {
      "text/plain": [
       "'Dimension: 62.865x19.685x33.02 , 52.705x19.685x33.02, 33.02x187.325x33.02, 22.86x19.685x73.025, 19.685x19.05x33.02'"
      ]
     },
     "execution_count": 120,
     "metadata": {},
     "output_type": "execute_result"
    }
   ],
   "source": [
    "description"
   ]
  },
  {
   "cell_type": "code",
   "execution_count": 101,
   "id": "452b9ce7",
   "metadata": {},
   "outputs": [],
   "source": [
    "description = 'Dimension: ' + change_size_dimension(dimension) + ' , ' + change_size_dimension(dimension2) + ', ' + change_size_dimension(dimension3) +', '+ change_size_dimension(dimension4) +', '+ change_size_dimension(dimension5)"
   ]
  },
  {
   "cell_type": "code",
   "execution_count": 114,
   "id": "df038cae",
   "metadata": {},
   "outputs": [
    {
     "data": {
      "text/plain": [
       "'9x7.75x28.75'"
      ]
     },
     "execution_count": 114,
     "metadata": {},
     "output_type": "execute_result"
    }
   ],
   "source": [
    "dimension4 = driver.find_elements_by_xpath(\"//div[contains(@class, 'product__set')]/span\")[7].text\n",
    "dimension4"
   ]
  },
  {
   "cell_type": "code",
   "execution_count": 109,
   "id": "d09a2d10",
   "metadata": {},
   "outputs": [
    {
     "name": "stdout",
     "output_type": "stream",
     "text": [
      "di5\n"
     ]
    },
    {
     "data": {
      "text/plain": [
       "'7.75x7.5x13'"
      ]
     },
     "execution_count": 109,
     "metadata": {},
     "output_type": "execute_result"
    }
   ],
   "source": [
    "try:\n",
    "    dimension5 = driver.find_elements_by_xpath(\"//div[contains(@class, 'product__set')]/span\")[9].text\n",
    "    print('di5')\n",
    "except:\n",
    "    dimension5 =  0     \n",
    "    print('disss5')\n",
    "dimension5"
   ]
  },
  {
   "cell_type": "code",
   "execution_count": 111,
   "id": "0f670fcc",
   "metadata": {},
   "outputs": [
    {
     "data": {
      "text/plain": [
       "'Dimension: 62.865x19.685x33.02 , 52.705x19.685x33.02, 33.02x187.325x33.02, 22.86x19.685x73.025, 19.685x19.05x33.02'"
      ]
     },
     "execution_count": 111,
     "metadata": {},
     "output_type": "execute_result"
    }
   ],
   "source": [
    "if dimension5 != 0:\n",
    "    description = 'Dimension: ' + change_size_dimension(dimension) + ' , ' + change_size_dimension(dimension2) + ', ' + change_size_dimension(dimension3) +', '+ change_size_dimension(dimension4) +', '+ change_size_dimension(dimension5)\n",
    "description"
   ]
  },
  {
   "cell_type": "code",
   "execution_count": 49,
   "id": "53a97f1e",
   "metadata": {},
   "outputs": [],
   "source": [
    "df.loc[df['special_price'] == 0, 'special_price'] = '__EMPTY__VALUE__'"
   ]
  },
  {
   "cell_type": "code",
   "execution_count": 97,
   "id": "800d2ed3",
   "metadata": {},
   "outputs": [
    {
     "data": {
      "text/plain": [
       "'Dimension: 62.865x19.685x33.02 , 52.705x19.685x33.02 , 33.02x187.325x33.02'"
      ]
     },
     "execution_count": 97,
     "metadata": {},
     "output_type": "execute_result"
    }
   ],
   "source": [
    "description"
   ]
  },
  {
   "cell_type": "code",
   "execution_count": null,
   "id": "23372af2",
   "metadata": {},
   "outputs": [],
   "source": []
  },
  {
   "cell_type": "code",
   "execution_count": null,
   "id": "2d9bba02",
   "metadata": {},
   "outputs": [],
   "source": []
  },
  {
   "cell_type": "code",
   "execution_count": 57,
   "id": "770e17a7",
   "metadata": {},
   "outputs": [],
   "source": [
    "df = pd.read_excel('sagebrookh_bookends.xlsx')\n",
    "\n",
    "\n",
    "\n",
    "\n",
    "\n",
    "\n"
   ]
  },
  {
   "cell_type": "code",
   "execution_count": 37,
   "id": "10b93eb2",
   "metadata": {},
   "outputs": [],
   "source": [
    "df['small_image'] =  df['base_image']\n",
    "df['swatch_image'] =  df['base_image']\n",
    "df['thumbnail_image'] =  df['base_image']\n",
    "df['attribute_set_code'] = 'Default'\n",
    "df['product_websites'] = 'base'\n"
   ]
  },
  {
   "cell_type": "code",
   "execution_count": 38,
   "id": "7deef635",
   "metadata": {},
   "outputs": [],
   "source": [
    "df['allow_backorders'] = df['is_in_stock']\n",
    "df['estimated_delivery_enable'] = 'Static Text'"
   ]
  },
  {
   "cell_type": "code",
   "execution_count": 58,
   "id": "f2909c74",
   "metadata": {},
   "outputs": [],
   "source": [
    "df['url_key'] = df['url_key'].str.replace(', ', '-')\n",
    "df['url_key'] = df['url_key'].str.replace('/', '-')\n",
    "df['url_key'] = df['url_key'].str.replace('\"', '-')\n",
    "df['url_key'] = df['url_key'].str.replace('%', '-')\n",
    "df['url_key'] = df['url_key'].str.replace('+', '-', regex=False)"
   ]
  },
  {
   "cell_type": "code",
   "execution_count": null,
   "id": "c5fbd6f2",
   "metadata": {},
   "outputs": [],
   "source": []
  },
  {
   "cell_type": "code",
   "execution_count": 52,
   "id": "4a767f67",
   "metadata": {},
   "outputs": [],
   "source": [
    "df_all = pd.read_excel('SageBrook_update1.xlsx')"
   ]
  },
  {
   "cell_type": "code",
   "execution_count": 54,
   "id": "07978719",
   "metadata": {},
   "outputs": [],
   "source": [
    "update.loc[update['ts_dimensions_length'] == 0, 'ts_dimensions_length'] = '__EMPTY__VALUE__'"
   ]
  },
  {
   "cell_type": "code",
   "execution_count": 53,
   "id": "8e2627e1",
   "metadata": {},
   "outputs": [],
   "source": [
    "update.loc[update['ts_dimensions_height'] == 0, 'ts_dimensions_height'] = '__EMPTY__VALUE__'"
   ]
  },
  {
   "cell_type": "code",
   "execution_count": 56,
   "id": "b86ba161",
   "metadata": {},
   "outputs": [],
   "source": [
    "df_all.loc[df_all['Weight'] == 0, 'Weight'] = '__EMPTY__VALUE__'"
   ]
  },
  {
   "cell_type": "code",
   "execution_count": 10,
   "id": "40aadb38",
   "metadata": {},
   "outputs": [],
   "source": [
    "all_df.loc[all_df['raw_materials'] == '', 'raw_materials'] = '__EMPTY__VALUE__'"
   ]
  },
  {
   "cell_type": "code",
   "execution_count": null,
   "id": "8852be3f",
   "metadata": {},
   "outputs": [],
   "source": []
  },
  {
   "cell_type": "code",
   "execution_count": 29,
   "id": "1f2cea67",
   "metadata": {},
   "outputs": [],
   "source": [
    "df = pd.concat([df, df24], ignore_index=True)\n"
   ]
  },
  {
   "cell_type": "code",
   "execution_count": 45,
   "id": "e9367e21",
   "metadata": {},
   "outputs": [],
   "source": [
    "df = pd.concat([df, df8], ignore_index=True)\n"
   ]
  },
  {
   "cell_type": "code",
   "execution_count": 32,
   "id": "3ea0a4ee",
   "metadata": {},
   "outputs": [],
   "source": [
    "df.drop_duplicates(subset=['sku'], inplace=True)\n"
   ]
  },
  {
   "cell_type": "code",
   "execution_count": 67,
   "id": "19815700",
   "metadata": {},
   "outputs": [],
   "source": [
    "df.loc[df['special_price'] == 0] = '__EMPTY__VALUE__'"
   ]
  },
  {
   "cell_type": "code",
   "execution_count": 68,
   "id": "703ce6ba",
   "metadata": {},
   "outputs": [],
   "source": [
    "df['supplier'] = 'ROG'"
   ]
  },
  {
   "cell_type": "code",
   "execution_count": 70,
   "id": "92c19e78",
   "metadata": {},
   "outputs": [
    {
     "data": {
      "text/plain": [
       "Index(['sku', 'name', 'url_key', 'short_description', 'description',\n",
       "       'free_colors', 'raw_materials', 'ts_dimensions_width',\n",
       "       'ts_dimensions_height', 'ts_dimensions_length', 'Weight', 'base_image',\n",
       "       'small_image', 'swatch_image', 'thumbnail_image', 'additional_images ',\n",
       "       'categories1', 'categories2', 'categories3', 'price', 'special_price',\n",
       "       'visibility', 'tax_class_name', 'Link_url', 'video_url', 'qty',\n",
       "       'out_of_stock_qty', 'is_in_stock', 'product_online', 'allow_backorders',\n",
       "       'manufacturer', 'news_from_date', 'news_to_date', 'product_websites',\n",
       "       'attribute_set_code', 'product_type', 'store_view_code', 'supplier'],\n",
       "      dtype='object')"
      ]
     },
     "execution_count": 70,
     "metadata": {},
     "output_type": "execute_result"
    }
   ],
   "source": [
    "df.columns"
   ]
  },
  {
   "cell_type": "code",
   "execution_count": null,
   "id": "197259b4",
   "metadata": {},
   "outputs": [],
   "source": []
  },
  {
   "cell_type": "code",
   "execution_count": null,
   "id": "b52e5fe8",
   "metadata": {},
   "outputs": [],
   "source": []
  },
  {
   "cell_type": "code",
   "execution_count": 43,
   "id": "a7d6372d",
   "metadata": {},
   "outputs": [],
   "source": [
    "update = pd.read_excel('sagebrookh_update_sagebrookh.xlsx')"
   ]
  },
  {
   "cell_type": "code",
   "execution_count": 35,
   "id": "ce779ebb",
   "metadata": {},
   "outputs": [
    {
     "data": {
      "text/plain": [
       "Index(['sku', 'name', 'url_key', 'short_description', 'description',\n",
       "       'free_colors', 'raw_materials', 'ts_dimensions_width',\n",
       "       'ts_dimensions_height', 'ts_dimensions_length', 'Weight', 'base_image',\n",
       "       'small_image', 'swatch_image', 'thumbnail_image', 'additional_images ',\n",
       "       'categories1', 'categories2', 'categories3', 'price', 'special_price',\n",
       "       'visibility', 'tax_class_name', 'Link_url', 'video_url', 'qty',\n",
       "       'out_of_stock_qty', 'is_in_stock', 'product_online', 'allow_backorders',\n",
       "       'manufacturer', 'news_from_date', 'news_to_date', 'product_websites',\n",
       "       'attribute_set_code', 'product_type', 'store_view_code', 'supplier'],\n",
       "      dtype='object')"
      ]
     },
     "execution_count": 35,
     "metadata": {},
     "output_type": "execute_result"
    }
   ],
   "source": [
    "df.columns"
   ]
  },
  {
   "cell_type": "code",
   "execution_count": 53,
   "id": "0ba4e69e",
   "metadata": {},
   "outputs": [],
   "source": [
    "df.loc[df['special_price'] == 0, 'special_price'] = '__EMPTY__VALUE__'"
   ]
  },
  {
   "cell_type": "code",
   "execution_count": 54,
   "id": "dd23175e",
   "metadata": {},
   "outputs": [
    {
     "data": {
      "text/plain": [
       "0       __EMPTY__VALUE__\n",
       "1       __EMPTY__VALUE__\n",
       "2       __EMPTY__VALUE__\n",
       "3       __EMPTY__VALUE__\n",
       "4       __EMPTY__VALUE__\n",
       "              ...       \n",
       "2363    __EMPTY__VALUE__\n",
       "2364    __EMPTY__VALUE__\n",
       "2365    __EMPTY__VALUE__\n",
       "2366    __EMPTY__VALUE__\n",
       "2367    __EMPTY__VALUE__\n",
       "Name: special_price, Length: 2368, dtype: object"
      ]
     },
     "execution_count": 54,
     "metadata": {},
     "output_type": "execute_result"
    }
   ],
   "source": [
    "df['special_price']"
   ]
  },
  {
   "cell_type": "code",
   "execution_count": 57,
   "id": "cddb2888",
   "metadata": {},
   "outputs": [],
   "source": [
    "df_all.to_excel('SageBrook_update2.xlsx')"
   ]
  },
  {
   "cell_type": "code",
   "execution_count": null,
   "id": "a23abcb0",
   "metadata": {},
   "outputs": [],
   "source": []
  },
  {
   "cell_type": "code",
   "execution_count": 50,
   "id": "5fb33f3d",
   "metadata": {},
   "outputs": [
    {
     "data": {
      "text/plain": [
       "Index(['sku', 'name', 'url_key', 'short_description', 'description',\n",
       "       'free_colors', 'raw_materials', 'ts_dimensions_width',\n",
       "       'ts_dimensions_height', 'ts_dimensions_length', 'Weight', 'base_image',\n",
       "       'small_image', 'swatch_image', 'thumbnail_image', 'additional_images ',\n",
       "       'categories1', 'categories2', 'categories3', 'price', 'special_price',\n",
       "       'visibility', 'tax_class_name', 'Link_url', 'video_url', 'qty',\n",
       "       'out_of_stock_qty', 'is_in_stock', 'product_online', 'allow_backorders',\n",
       "       'manufacturer', 'news_from_date', 'news_to_date', 'product_websites',\n",
       "       'attribute_set_code', 'product_type', 'store_view_code', 'supplier'],\n",
       "      dtype='object')"
      ]
     },
     "execution_count": 50,
     "metadata": {},
     "output_type": "execute_result"
    }
   ],
   "source": [
    "update.columns"
   ]
  },
  {
   "cell_type": "code",
   "execution_count": 48,
   "id": "3991cdec",
   "metadata": {},
   "outputs": [
    {
     "data": {
      "text/plain": [
       "0         ROG-15977-01-S-2 MARBLE 7H LOVE BOOKENDS- WHITE\n",
       "1       ROG-15926-01-CER- S-3 6 STANDING ELEPHANT BOOK...\n",
       "2        ROG-15925-01-CER- S-2 9 ELEPHANT BOOKENDS- WHITE\n",
       "3        ROG-15924-01-CER- S-2 7 ELEPHANT BOOKENDS- WHITE\n",
       "4       ROG-14971-01-S-2 POLYRESIN 9 YOGA WOMAN BOOKEN...\n",
       "                              ...                        \n",
       "1938    ROG-16313-02-24H WICKER-BAMBOO 2-LAYER PLANTER...\n",
       "1939    ROG-16313-01-26H WICKER-BAMBOO 2-LAYER PLANTER...\n",
       "1940     ROG-16312-26H WICKER-BAMBOO PLANTER STAND- BROWN\n",
       "1941           ROG-16064-METAL 30H BIKE PLANTER- WHITE KD\n",
       "1942    ROG-15048-S-2 METAL-WOOD PLANTER STANDS 23-28-...\n",
       "Name: url_key, Length: 1943, dtype: object"
      ]
     },
     "execution_count": 48,
     "metadata": {},
     "output_type": "execute_result"
    }
   ],
   "source": [
    "update['url_key']"
   ]
  },
  {
   "cell_type": "code",
   "execution_count": 49,
   "id": "291a3247",
   "metadata": {},
   "outputs": [],
   "source": [
    "update.to_excel('SageBrookh_update.xlsx')"
   ]
  },
  {
   "cell_type": "code",
   "execution_count": 55,
   "id": "2ceacf9c",
   "metadata": {},
   "outputs": [
    {
     "data": {
      "text/plain": [
       "Series([], Name: ts_dimensions_length, dtype: object)"
      ]
     },
     "execution_count": 55,
     "metadata": {},
     "output_type": "execute_result"
    }
   ],
   "source": [
    "update.loc[update['ts_dimensions_length'] == 0, 'ts_dimensions_length'] "
   ]
  },
  {
   "cell_type": "code",
   "execution_count": 56,
   "id": "6308ec78",
   "metadata": {},
   "outputs": [],
   "source": [
    "update.to_excel('SageBrookh_update1.xlsx')"
   ]
  },
  {
   "cell_type": "code",
   "execution_count": null,
   "id": "53f9b991",
   "metadata": {},
   "outputs": [],
   "source": []
  },
  {
   "cell_type": "code",
   "execution_count": null,
   "id": "15550f0d",
   "metadata": {},
   "outputs": [],
   "source": []
  },
  {
   "cell_type": "code",
   "execution_count": null,
   "id": "9baa0d22",
   "metadata": {},
   "outputs": [],
   "source": []
  },
  {
   "cell_type": "code",
   "execution_count": null,
   "id": "f2899e3a",
   "metadata": {},
   "outputs": [],
   "source": []
  },
  {
   "cell_type": "code",
   "execution_count": null,
   "id": "714493c7",
   "metadata": {},
   "outputs": [],
   "source": []
  },
  {
   "cell_type": "code",
   "execution_count": null,
   "id": "e9eb60dd",
   "metadata": {},
   "outputs": [],
   "source": []
  }
 ],
 "metadata": {
  "celltoolbar": "Raw Cell Format",
  "kernelspec": {
   "display_name": "Python 3",
   "language": "python",
   "name": "python3"
  },
  "language_info": {
   "codemirror_mode": {
    "name": "ipython",
    "version": 3
   },
   "file_extension": ".py",
   "mimetype": "text/x-python",
   "name": "python",
   "nbconvert_exporter": "python",
   "pygments_lexer": "ipython3",
   "version": "3.8.8"
  },
  "toc": {
   "base_numbering": 1,
   "nav_menu": {},
   "number_sections": true,
   "sideBar": true,
   "skip_h1_title": false,
   "title_cell": "Table of Contents",
   "title_sidebar": "Contents",
   "toc_cell": false,
   "toc_position": {
    "height": "calc(100% - 180px)",
    "left": "10px",
    "top": "150px",
    "width": "352px"
   },
   "toc_section_display": true,
   "toc_window_display": true
  }
 },
 "nbformat": 4,
 "nbformat_minor": 5
}
