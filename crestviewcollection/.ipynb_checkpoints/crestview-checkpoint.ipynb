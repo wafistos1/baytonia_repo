{
 "cells": [
  {
   "cell_type": "code",
   "execution_count": 1,
   "id": "51b0a636",
   "metadata": {},
   "outputs": [],
   "source": [
    "#imports here\n",
    "from selenium import webdriver\n",
    "from selenium.webdriver.common.keys import Keys\n",
    "from selenium.webdriver.support import expected_conditions as EC\n",
    "from selenium.webdriver.common.by import By\n",
    "from selenium.webdriver.support.wait import WebDriverWait\n",
    "from selenium.webdriver.firefox.options import Options\n",
    "import time\n",
    "import os\n",
    "from fake_useragent import UserAgent\n",
    "from random import randint\n",
    "import pandas as pd\n",
    "import re\n",
    "from datetime import datetime\n",
    "from datetime import timedelta\n",
    "from bs4 import BeautifulSoup"
   ]
  },
  {
   "cell_type": "code",
   "execution_count": null,
   "id": "a6ebfd88",
   "metadata": {},
   "outputs": [],
   "source": []
  },
  {
   "cell_type": "code",
   "execution_count": 2,
   "id": "e81ce385",
   "metadata": {},
   "outputs": [
    {
     "name": "stdout",
     "output_type": "stream",
     "text": [
      "Mozilla/5.0 (Windows NT 6.3; Win64; x64) AppleWebKit/537.36 (KHTML, like Gecko) Chrome/37.0.2049.0 Safari/537.36\n"
     ]
    },
    {
     "name": "stderr",
     "output_type": "stream",
     "text": [
      "<ipython-input-2-5315509cced7>:7: DeprecationWarning: use options instead of firefox_options\n",
      "  driver = webdriver.Firefox(firefox_options=options)\n"
     ]
    }
   ],
   "source": [
    "options = Options()\n",
    "ua = UserAgent()\n",
    "userAgent = ua.random\n",
    "print(userAgent)\n",
    "options.add_argument(f'user-agent={userAgent}')\n",
    "#options.add_argument(\"--headless\")\n",
    "driver = webdriver.Firefox(firefox_options=options)\n",
    "#     driver = webdriver.Firefox()"
   ]
  },
  {
   "cell_type": "code",
   "execution_count": 3,
   "id": "4eec53e4",
   "metadata": {},
   "outputs": [],
   "source": [
    "driver.get('https://www.crestviewcollection.com/categories/414923/furniture')"
   ]
  },
  {
   "cell_type": "code",
   "execution_count": 4,
   "id": "7a29fc45",
   "metadata": {},
   "outputs": [
    {
     "data": {
      "text/plain": [
       "96"
      ]
     },
     "execution_count": 4,
     "metadata": {},
     "output_type": "execute_result"
    }
   ],
   "source": [
    "urls = driver.find_elements_by_xpath(\"//a[@class='thumbnail__imageLink--alt']\")\n",
    "len(urls)\n"
   ]
  },
  {
   "cell_type": "code",
   "execution_count": 16,
   "id": "fc76bf03",
   "metadata": {
    "scrolled": true
   },
   "outputs": [
    {
     "name": "stdout",
     "output_type": "stream",
     "text": [
      "Count: 1\n",
      "96\n",
      "Count: 2\n",
      "192\n",
      "Count: 3\n",
      "223\n"
     ]
    }
   ],
   "source": [
    "links_products = []\n",
    "\n",
    "for i in range(1, 4):\n",
    "    print('Count:', i)\n",
    "    driver.get(f'https://www.uttermost.com/Art-View-All/?pageNumber={i}')\n",
    "\n",
    "    urls = driver.find_elements_by_xpath(\"//a[@class='thumbnail__imageLink--alt']\")\n",
    "    len(urls)\n",
    "\n",
    "    #Forloop to get all url products\n",
    "    for url in urls:\n",
    "        links_products.append(url.get_attribute('href'))\n",
    "    #     time.sleep(0.5)\n",
    "    time.sleep(1)\n",
    "    print(len(links_products))\n",
    "now = datetime.now()\n",
    "dt_string = now.strftime(\"%d-%m-%Y-%H-%M-%S\")\n",
    "#Save link in excel files\n",
    "link_living_rooms = {\n",
    "    'liste': links_products,\n",
    "}\n",
    "\n",
    "liste_link_living_rooms = pd.DataFrame(link_living_rooms)\n",
    "liste_link_living_rooms.to_excel(f'link_uttermost-{dt_string}.xlsx')"
   ]
  },
  {
   "cell_type": "code",
   "execution_count": 14,
   "id": "505b32e5",
   "metadata": {},
   "outputs": [
    {
     "data": {
      "text/plain": [
       "149"
      ]
     },
     "execution_count": 14,
     "metadata": {},
     "output_type": "execute_result"
    }
   ],
   "source": [
    "len(links_products)\n",
    "\n"
   ]
  },
  {
   "cell_type": "code",
   "execution_count": 6,
   "id": "e2c8a79b",
   "metadata": {},
   "outputs": [
    {
     "name": "stdout",
     "output_type": "stream",
     "text": [
      "745\n"
     ]
    }
   ],
   "source": [
    "\n",
    "Home\n",
    "Alternative Wall Decor\n",
    "View A"
   ]
  },
  {
   "cell_type": "markdown",
   "id": "f481327f",
   "metadata": {},
   "source": [
    "# Create elements"
   ]
  },
  {
   "cell_type": "code",
   "execution_count": 11,
   "id": "55fd7ca1",
   "metadata": {},
   "outputs": [
    {
     "data": {
      "text/plain": [
       "'KAMALA CONSOLE TABLE'"
      ]
     },
     "execution_count": 11,
     "metadata": {},
     "output_type": "execute_result"
    }
   ],
   "source": [
    "name = driver.find_element_by_class_name('product__name').text\n",
    "description = driver.find_element_by_class_name('product__description').text\n",
    "sku = driver.find_element_by_class_name('product__property').text.replace('#', 'UTT-')\n",
    "dimension = driver.find_element_by_class_name('product__dimensions').text.split('\\n')[1]\n",
    "weight = driver.find_element_by_class_name('product__weight').text.split\n",
    "name"
   ]
  },
  {
   "cell_type": "code",
   "execution_count": 13,
   "id": "2f820ae6",
   "metadata": {},
   "outputs": [
    {
     "data": {
      "text/plain": [
       "'UTT-25373'"
      ]
     },
     "execution_count": 13,
     "metadata": {},
     "output_type": "execute_result"
    }
   ],
   "source": [
    "sku = driver.find_element_by_class_name('product__property').text.replace('#', 'UTT-')\n",
    "sku"
   ]
  },
  {
   "cell_type": "code",
   "execution_count": 15,
   "id": "2b5b31d7",
   "metadata": {},
   "outputs": [
    {
     "data": {
      "text/plain": [
       "'54 W X 30 H X 14 D (in)'"
      ]
     },
     "execution_count": 15,
     "metadata": {},
     "output_type": "execute_result"
    }
   ],
   "source": [
    "dimension = driver.find_element_by_class_name('product__dimensions').text.split('\\n')[1]\n",
    "dimension"
   ]
  },
  {
   "cell_type": "code",
   "execution_count": 16,
   "id": "06be584f",
   "metadata": {},
   "outputs": [
    {
     "data": {
      "text/plain": [
       "'74'"
      ]
     },
     "execution_count": 16,
     "metadata": {},
     "output_type": "execute_result"
    }
   ],
   "source": [
    "weight = driver.find_element_by_class_name('product__weight').text.split('\\n')[1]\n",
    "weight"
   ]
  },
  {
   "cell_type": "code",
   "execution_count": 17,
   "id": "3a107ab1",
   "metadata": {},
   "outputs": [
    {
     "data": {
      "text/plain": [
       "'With modern simplicity, this console table is layered in an oak veneer and finished in a light mushroom gray stain featuring two hidden storage drawers. Sits on a stainless steel base finished in brushed nickel.'"
      ]
     },
     "execution_count": 17,
     "metadata": {},
     "output_type": "execute_result"
    }
   ],
   "source": [
    "description = driver.find_element_by_class_name('product__description').text\n",
    "description"
   ]
  },
  {
   "cell_type": "code",
   "execution_count": 18,
   "id": "416b0ece",
   "metadata": {},
   "outputs": [
    {
     "data": {
      "text/plain": [
       "7"
      ]
     },
     "execution_count": 18,
     "metadata": {},
     "output_type": "execute_result"
    }
   ],
   "source": [
    "images = driver.find_elements_by_xpath(\"//img[@class='zoomPanel__content']\")\n",
    "len(images)\n",
    "list_images = []\n",
    "for img in images:\n",
    "    list_images.append(img.get_attribute('src').split('?')[0])\n",
    "list_images"
   ]
  },
  {
   "cell_type": "code",
   "execution_count": 22,
   "id": "af29f68b",
   "metadata": {},
   "outputs": [
    {
     "data": {
      "text/plain": [
       "['https://uttermost.azureedge.net/495b97/globalassets/product-images/25373.jpg',\n",
       " 'https://uttermost.azureedge.net/495b98/globalassets/product-images/25373_2_.jpg',\n",
       " 'https://uttermost.azureedge.net/495b99/globalassets/product-images/25373_3_.jpg',\n",
       " 'https://uttermost.azureedge.net/495b9a/globalassets/product-images/25373_4_.jpg',\n",
       " 'https://uttermost.azureedge.net/495b9b/globalassets/product-images/25373_5_.jpg',\n",
       " 'https://uttermost.azureedge.net/495b9b/globalassets/product-images/25373_6_.jpg',\n",
       " 'https://uttermost.azureedge.net/495b9c/globalassets/product-images/25373_7_.jpg']"
      ]
     },
     "execution_count": 22,
     "metadata": {},
     "output_type": "execute_result"
    }
   ],
   "source": []
  },
  {
   "cell_type": "code",
   "execution_count": 61,
   "id": "2b496f1c",
   "metadata": {},
   "outputs": [
    {
     "name": "stdout",
     "output_type": "stream",
     "text": [
      "ACCENT FURNITURE TABLES\n"
     ]
    }
   ],
   "source": [
    "cat1 = driver.find_elements_by_xpath(\"//ul[contains(@class,'productBreadcrumb')]//li\")[0].text\n",
    "cat2 = driver.find_elements_by_xpath(\"//ul[contains(@class,'productBreadcrumb')]//li\")[2].text\n",
    "print(cat1, cat2)"
   ]
  },
  {
   "cell_type": "code",
   "execution_count": 36,
   "id": "f9fa1723",
   "metadata": {},
   "outputs": [
    {
     "data": {
      "text/plain": [
       "1"
      ]
     },
     "execution_count": 36,
     "metadata": {},
     "output_type": "execute_result"
    }
   ],
   "source": [
    "cats = driver.find_elements_by_class_name('nav--productBreadcrumb')\n",
    "len(cats)"
   ]
  },
  {
   "cell_type": "code",
   "execution_count": null,
   "id": "8cc03281",
   "metadata": {},
   "outputs": [],
   "source": []
  },
  {
   "cell_type": "markdown",
   "id": "f57e48a4",
   "metadata": {},
   "source": [
    "# Regex size"
   ]
  },
  {
   "cell_type": "code",
   "execution_count": null,
   "id": "215e7d42",
   "metadata": {},
   "outputs": [],
   "source": []
  },
  {
   "cell_type": "code",
   "execution_count": 40,
   "id": "184fd98b",
   "metadata": {},
   "outputs": [],
   "source": [
    "df = pd.read_excel('spring_model.xlsx')"
   ]
  },
  {
   "cell_type": "code",
   "execution_count": null,
   "id": "9ddef47b",
   "metadata": {},
   "outputs": [],
   "source": []
  },
  {
   "cell_type": "markdown",
   "id": "3a1f4268",
   "metadata": {},
   "source": [
    "# Debut de la fonction"
   ]
  },
  {
   "cell_type": "code",
   "execution_count": null,
   "id": "14f4125f",
   "metadata": {
    "scrolled": true
   },
   "outputs": [
    {
     "name": "stdout",
     "output_type": "stream",
     "text": [
      "***********************************************************\n",
      "Count: 0\n",
      "URl: https://www.uttermost.com/Ocala-Framed-Print-41399/?SelectedSKU=41399\n",
      "Cat1: ART\n",
      "Cat2: OCALA FRAMED PRINT\n",
      "Cat3: \n",
      "W: 106.68\n",
      "H: 157.48\n",
      "L: 7.62\n",
      "len list images 7\n",
      "Sku: ROG-41399-UTT\n",
      "Title: OCALA FRAMED PRINT\n",
      "Price: 0\n",
      "Price old: 0\n",
      "Description: 42 W X 62 H X 3 D (in)\n",
      "Colors: __EMPTY__VALUE__\n",
      "Matter: __EMPTY__VALUE__\n",
      "URl: https://www.uttermost.com/Ocala-Framed-Print-41399/?SelectedSKU=41399\n",
      "https://uttermost.azureedge.net/49bf70/globalassets/product-images/41399_2_.jpg, https://uttermost.azureedge.net/49bf70/globalassets/product-images/41399_3_.jpg, https://uttermost.azureedge.net/49bf71/globalassets/product-images/41399_4_.jpg, https://uttermost.azureedge.net/49bf71/globalassets/product-images/41399_5_.jpg, https://uttermost.azureedge.net/49bf72/globalassets/product-images/41399_6_.jpg, https://uttermost.azureedge.net/49bf73/globalassets/product-images/41399_7_.jpg\n",
      "***********************************************************\n",
      "Count: 1\n",
      "URl: https://www.uttermost.com/Anthophila-Framed-Prints--S-4-41428/?SelectedSKU=41428\n",
      "Cat1: ART\n",
      "Cat2: ANTHOPHILA FRAMED PRINTS, S/4\n",
      "Cat3: \n",
      "W: 50.8\n",
      "H: 53.34\n",
      "L: 5.08\n",
      "len list images 5\n",
      "Sku: ROG-41428-UTT\n",
      "Title: ANTHOPHILA FRAMED PRINTS, S/4\n",
      "Price: 0\n",
      "Price old: 0\n",
      "Description: 20 W X 21 H X 2 D (in)\n",
      "Colors: __EMPTY__VALUE__\n",
      "Matter: __EMPTY__VALUE__\n",
      "URl: https://www.uttermost.com/Anthophila-Framed-Prints--S-4-41428/?SelectedSKU=41428\n",
      "https://uttermost.azureedge.net/49bf81/globalassets/product-images/41428_2_.jpg, https://uttermost.azureedge.net/49bf81/globalassets/product-images/41428_3_.jpg, https://uttermost.azureedge.net/49bf82/globalassets/product-images/41428_4_.jpg, https://uttermost.azureedge.net/49bf83/globalassets/product-images/41428_5_.jpg\n",
      "***********************************************************\n",
      "Count: 2\n",
      "URl: https://www.uttermost.com/Contemporary-Floret-Framed-Prints--S-4-41427/?SelectedSKU=41427\n",
      "Cat1: ART\n",
      "Cat2: CONTEMPORARY FLORET FRAMED PRINTS, S/4\n",
      "Cat3: \n",
      "W: 60.96\n",
      "H: 71.12\n",
      "L: 2.54\n",
      "len list images 5\n",
      "Sku: ROG-41427-UTT\n",
      "Title: CONTEMPORARY FLORET FRAMED PRINTS, S/4\n",
      "Price: 0\n",
      "Price old: 0\n",
      "Description: 24 W X 28 H X 1 D (in)\n",
      "Colors: __EMPTY__VALUE__\n",
      "Matter: __EMPTY__VALUE__\n",
      "URl: https://www.uttermost.com/Contemporary-Floret-Framed-Prints--S-4-41427/?SelectedSKU=41427\n",
      "https://uttermost.azureedge.net/49bf7d/globalassets/product-images/41427_2_.jpg, https://uttermost.azureedge.net/49bf7d/globalassets/product-images/41427_3_.jpg, https://uttermost.azureedge.net/49bf7e/globalassets/product-images/41427_4_.jpg, https://uttermost.azureedge.net/49bf7f/globalassets/product-images/41427_5_.jpg\n",
      "***********************************************************\n",
      "Count: 3\n",
      "URl: https://www.uttermost.com/Open-Plain-Hand-Painted-Canvas-32278/?SelectedSKU=32278\n",
      "Cat1: ART\n",
      "Cat2: OPEN PLAIN HAND PAINTED CANVAS\n",
      "Cat3: \n",
      "W: 106.68\n",
      "H: 157.48\n",
      "L: 5.08\n",
      "len list images 8\n",
      "Sku: ROG-32278-UTT\n",
      "Title: OPEN PLAIN HAND PAINTED CANVAS\n",
      "Price: 0\n",
      "Price old: 0\n",
      "Description: 42 W X 62 H X 2 D (in)\n",
      "Colors: __EMPTY__VALUE__\n",
      "Matter: __EMPTY__VALUE__\n",
      "URl: https://www.uttermost.com/Open-Plain-Hand-Painted-Canvas-32278/?SelectedSKU=32278\n",
      "https://uttermost.azureedge.net/497974/globalassets/product-images/32278_2_.jpg, https://uttermost.azureedge.net/497974/globalassets/product-images/32278_3_.jpg, https://uttermost.azureedge.net/497975/globalassets/product-images/32278_4_.jpg, https://uttermost.azureedge.net/497976/globalassets/product-images/32278_5_.jpg, https://uttermost.azureedge.net/497977/globalassets/product-images/32278_6_.jpg, https://uttermost.azureedge.net/497977/globalassets/product-images/32278_7_.jpg, https://uttermost.azureedge.net/497978/globalassets/product-images/32278_8_.jpg\n",
      "***********************************************************\n",
      "Count: 4\n",
      "URl: https://www.uttermost.com/Natural-Beauties-Framed-Prints--S-4-33679/?SelectedSKU=33679\n",
      "Cat1: ART\n",
      "Cat2: NATURAL BEAUTIES FRAMED PRINTS, S/4\n",
      "Cat3: \n",
      "W: 55.88\n",
      "H: 55.88\n",
      "L: 5.08\n",
      "len list images 6\n",
      "Sku: ROG-33679-UTT\n",
      "Title: NATURAL BEAUTIES FRAMED PRINTS, S/4\n",
      "Price: 0\n",
      "Price old: 0\n",
      "Description: 22 W X 22 H X 2 D (in)\n",
      "Colors: __EMPTY__VALUE__\n",
      "Matter: __EMPTY__VALUE__\n",
      "URl: https://www.uttermost.com/Natural-Beauties-Framed-Prints--S-4-33679/?SelectedSKU=33679\n",
      "https://uttermost.azureedge.net/4a7789/globalassets/product-images/33679_2_.jpg, https://uttermost.azureedge.net/4a778a/globalassets/product-images/33679_3_.jpg, https://uttermost.azureedge.net/4a778b/globalassets/product-images/33679_4_.jpg, https://uttermost.azureedge.net/4a778b/globalassets/product-images/33679_5_.jpg, https://uttermost.azureedge.net/4a778c/globalassets/product-images/33679_6_.jpg\n",
      "***********************************************************\n",
      "Count: 5\n",
      "URl: https://www.uttermost.com/Deep-Sleep-Framed-Print-33661/?SelectedSKU=33661\n",
      "Cat1: ART\n",
      "Cat2: DEEP SLEEP FRAMED PRINT\n",
      "Cat3: \n",
      "W: 127.0\n",
      "H: 81.28\n",
      "L: 2.54\n",
      "len list images 5\n",
      "Sku: ROG-33661-UTT\n",
      "Title: DEEP SLEEP FRAMED PRINT\n",
      "Price: 0\n",
      "Price old: 0\n",
      "Description: 50 W X 32 H X 1 D (in)\n",
      "Colors: __EMPTY__VALUE__\n",
      "Matter: __EMPTY__VALUE__\n",
      "URl: https://www.uttermost.com/Deep-Sleep-Framed-Print-33661/?SelectedSKU=33661\n",
      "https://uttermost.azureedge.net/48dbc3/globalassets/product-images/33661_2_.jpg, https://uttermost.azureedge.net/48dbc4/globalassets/product-images/33661_3_.jpg, https://uttermost.azureedge.net/48dbc4/globalassets/product-images/33661_4_.jpg, https://uttermost.azureedge.net/48dbc5/globalassets/product-images/33661_5_.jpg\n",
      "***********************************************************\n",
      "Count: 6\n",
      "URl: https://www.uttermost.com/Shore-Birds-Framed-Prints--S-2-33668/?SelectedSKU=33668\n",
      "Cat1: ART\n",
      "Cat2: SHORE BIRDS FRAMED PRINTS, S/2\n",
      "Cat3: \n",
      "W: 83.82000000000001\n",
      "H: 109.22\n",
      "L: 5.08\n",
      "len list images 3\n",
      "Sku: ROG-33668-UTT\n",
      "Title: SHORE BIRDS FRAMED PRINTS, S/2\n",
      "Price: 0\n",
      "Price old: 0\n",
      "Description: 33 W X 43 H X 2 D (in)\n",
      "Colors: __EMPTY__VALUE__\n",
      "Matter: __EMPTY__VALUE__\n",
      "URl: https://www.uttermost.com/Shore-Birds-Framed-Prints--S-2-33668/?SelectedSKU=33668\n",
      "https://uttermost.azureedge.net/4a7775/globalassets/product-images/33668_2_.jpg, https://uttermost.azureedge.net/4a7776/globalassets/product-images/33668_3_.jpg\n",
      "***********************************************************\n",
      "Count: 7\n",
      "URl: https://www.uttermost.com/Green-Floral-Botanical-Study-Framed-Prints--S-6-33651/?SelectedSKU=33651\n",
      "Cat1: ART\n",
      "Cat2: GREEN FLORAL BOTANICAL STUDY FRAMED PRINTS, S/6\n",
      "Cat3: \n",
      "W: 45.72\n",
      "H: 58.42\n",
      "L: 5.08\n",
      "len list images 3\n",
      "Sku: ROG-33651-UTT\n",
      "Title: GREEN FLORAL BOTANICAL STUDY FRAMED PRINTS, S/6\n",
      "Price: 0\n",
      "Price old: 0\n",
      "Description: 18 W X 23 H X 2 D (in)\n",
      "Colors: __EMPTY__VALUE__\n",
      "Matter: __EMPTY__VALUE__\n",
      "URl: https://www.uttermost.com/Green-Floral-Botanical-Study-Framed-Prints--S-6-33651/?SelectedSKU=33651\n",
      "https://uttermost.azureedge.net/4a776e/globalassets/product-images/33651_2_.jpg, https://uttermost.azureedge.net/4a776f/globalassets/product-images/33651_3_.jpg\n",
      "***********************************************************\n",
      "Count: 8\n",
      "URl: https://www.uttermost.com/Dazzling-Hand-Painted-Canvas-35330/?SelectedSKU=35330\n",
      "Cat1: ART\n",
      "Cat2: DAZZLING HAND PAINTED CANVAS\n",
      "Cat3: \n",
      "W: 104.14\n",
      "H: 129.54\n",
      "L: 5.08\n",
      "len list images 7\n",
      "Sku: ROG-35330-UTT\n",
      "Title: DAZZLING HAND PAINTED CANVAS\n",
      "Price: 0\n",
      "Price old: 0\n",
      "Description: 41 W X 51 H X 2 D (in)\n",
      "Colors: __EMPTY__VALUE__\n",
      "Matter: __EMPTY__VALUE__\n",
      "URl: https://www.uttermost.com/Dazzling-Hand-Painted-Canvas-35330/?SelectedSKU=35330\n",
      "https://uttermost.azureedge.net/48dbc7/globalassets/product-images/35330_2_.jpg, https://uttermost.azureedge.net/48dbc8/globalassets/product-images/35330_3_.jpg, https://uttermost.azureedge.net/48dbc9/globalassets/product-images/35330_4_.jpg, https://uttermost.azureedge.net/48dbc9/globalassets/product-images/35330_5_.jpg, https://uttermost.azureedge.net/48dbca/globalassets/product-images/35330_6_.jpg, https://uttermost.azureedge.net/48dbcb/globalassets/product-images/35330_7_.jpg\n",
      "***********************************************************\n",
      "Count: 9\n",
      "URl: https://www.uttermost.com/Simple-Sage-Framed-Prints--S-3-33723/?SelectedSKU=33723\n",
      "Cat1: ART\n",
      "Cat2: SIMPLE SAGE FRAMED PRINTS, S/3\n",
      "Cat3: \n",
      "W: 66.04\n",
      "H: 93.98\n",
      "L: 5.08\n",
      "len list images 7\n",
      "Sku: ROG-33723-UTT\n",
      "Title: SIMPLE SAGE FRAMED PRINTS, S/3\n",
      "Price: 0\n",
      "Price old: 0\n",
      "Description: 26 W X 37 H X 2 D (in)\n",
      "Colors: __EMPTY__VALUE__\n",
      "Matter: __EMPTY__VALUE__\n",
      "URl: https://www.uttermost.com/Simple-Sage-Framed-Prints--S-3-33723/?SelectedSKU=33723\n",
      "https://uttermost.azureedge.net/497994/globalassets/product-images/33723_2_.jpg, https://uttermost.azureedge.net/497994/globalassets/product-images/33723_3_.jpg, https://uttermost.azureedge.net/497995/globalassets/product-images/33723_4_.jpg, https://uttermost.azureedge.net/497996/globalassets/product-images/33723_5_.jpg, https://uttermost.azureedge.net/497996/globalassets/product-images/33723_6_.jpg, https://uttermost.azureedge.net/497997/globalassets/product-images/33723_7_.jpg\n"
     ]
    },
    {
     "name": "stdout",
     "output_type": "stream",
     "text": [
      "***********************************************************\n",
      "Count: 10\n",
      "URl: https://www.uttermost.com/Custom-Black-and-White-Horses-Framed-Print-51110/?SelectedSKU=51110\n",
      "Cat1: ART\n",
      "Cat2: CUSTOM BLACK AND WHITE HORSES FRAMED PRINT\n",
      "Cat3: \n",
      "W: 81.28\n",
      "H: 81.28\n",
      "L: 7.62\n",
      "len list images 7\n",
      "Sku: ROG-51110-UTT\n",
      "Title: CUSTOM BLACK AND WHITE HORSES FRAMED PRINT\n",
      "Price: 0\n",
      "Price old: 0\n",
      "Description: 32 W X 32 H X 3 D (in)\n",
      "Colors: __EMPTY__VALUE__\n",
      "Matter: __EMPTY__VALUE__\n",
      "URl: https://www.uttermost.com/Custom-Black-and-White-Horses-Framed-Print-51110/?SelectedSKU=51110\n",
      "https://uttermost.azureedge.net/48ea7f/globalassets/product-images/51110_2_.jpg, https://uttermost.azureedge.net/48ea80/globalassets/product-images/51110_3_.jpg, https://uttermost.azureedge.net/48ea80/globalassets/product-images/51110_4_.jpg, https://uttermost.azureedge.net/48ea81/globalassets/product-images/51110_5_.jpg, https://uttermost.azureedge.net/48ea82/globalassets/product-images/51110_6_.jpg, https://uttermost.azureedge.net/48ea82/globalassets/product-images/51110_7_.jpg\n",
      "***********************************************************\n",
      "Count: 11\n",
      "URl: https://www.uttermost.com/Feathered-Beauty-Framed-Prints--S-4-41554/?SelectedSKU=41554\n",
      "Cat1: ART\n",
      "Cat2: FEATHERED BEAUTY FRAMED PRINTS, S/4\n",
      "Cat3: \n",
      "W: 35.56\n",
      "H: 96.52\n",
      "L: 5.08\n",
      "len list images 3\n",
      "Sku: ROG-41554-UTT\n",
      "Title: FEATHERED BEAUTY FRAMED PRINTS, S/4\n",
      "Price: 0\n",
      "Price old: 0\n",
      "Description: 14 W X 38 H X 2 D (in)\n",
      "Colors: __EMPTY__VALUE__\n",
      "Matter: __EMPTY__VALUE__\n",
      "URl: https://www.uttermost.com/Feathered-Beauty-Framed-Prints--S-4-41554/?SelectedSKU=41554\n",
      "https://uttermost.azureedge.net/48f8dd/globalassets/product-images/41554_2_.jpg, https://uttermost.azureedge.net/48f8dd/globalassets/product-images/41554_3_.jpg\n",
      "***********************************************************\n",
      "Count: 12\n",
      "URl: https://www.uttermost.com/Plein-Air-Reservoir-Framed-Prints--S-2-33719/?SelectedSKU=33719\n",
      "Cat1: ART\n",
      "Cat2: PLEIN AIR RESERVOIR FRAMED PRINTS, S/2\n",
      "Cat3: \n",
      "W: 68.58\n",
      "H: 58.42\n",
      "L: 5.08\n",
      "len list images 7\n",
      "Sku: ROG-33719-UTT\n",
      "Title: PLEIN AIR RESERVOIR FRAMED PRINTS, S/2\n",
      "Price: 0\n",
      "Price old: 0\n",
      "Description: 27 W X 23 H X 2 D (in)\n",
      "Colors: __EMPTY__VALUE__\n",
      "Matter: __EMPTY__VALUE__\n",
      "URl: https://www.uttermost.com/Plein-Air-Reservoir-Framed-Prints--S-2-33719/?SelectedSKU=33719\n",
      "https://uttermost.azureedge.net/497982/globalassets/product-images/33719_2_.jpg, https://uttermost.azureedge.net/497983/globalassets/product-images/33719_3_.jpg, https://uttermost.azureedge.net/497983/globalassets/product-images/33719_4_.jpg, https://uttermost.azureedge.net/497984/globalassets/product-images/33719_5_.jpg, https://uttermost.azureedge.net/497984/globalassets/product-images/33719_6_.jpg, https://uttermost.azureedge.net/497985/globalassets/product-images/33719_7_.jpg\n",
      "***********************************************************\n",
      "Count: 13\n",
      "URl: https://www.uttermost.com/Stormy-Seas-Hand-Painted-Canvas-36058/?SelectedSKU=36058\n",
      "Cat1: ART\n",
      "Cat2: STORMY SEAS HAND PAINTED CANVAS\n",
      "Cat3: \n",
      "W: 129.54\n",
      "H: 154.94\n",
      "L: 5.08\n",
      "len list images 9\n",
      "Sku: ROG-36058-UTT\n",
      "Title: STORMY SEAS HAND PAINTED CANVAS\n",
      "Price: 0\n",
      "Price old: 0\n",
      "Description: 51 W X 61 H X 2 D (in)\n",
      "Colors: __EMPTY__VALUE__\n",
      "Matter: __EMPTY__VALUE__\n",
      "URl: https://www.uttermost.com/Stormy-Seas-Hand-Painted-Canvas-36058/?SelectedSKU=36058\n",
      "https://uttermost.azureedge.net/4a7d65/globalassets/product-images/36058_2_.jpg, https://uttermost.azureedge.net/4a7d65/globalassets/product-images/36058_3_.jpg, https://uttermost.azureedge.net/4a7d66/globalassets/product-images/36058_4_.jpg, https://uttermost.azureedge.net/4a7d67/globalassets/product-images/36058_5_.jpg, https://uttermost.azureedge.net/4a7d67/globalassets/product-images/36058_6_.jpg, https://uttermost.azureedge.net/4a7d68/globalassets/product-images/36058_7_.jpg, https://uttermost.azureedge.net/4a7d68/globalassets/product-images/36058_8_.jpg, https://uttermost.azureedge.net/4a7d69/globalassets/product-images/36058_9_.jpg\n",
      "***********************************************************\n",
      "Count: 14\n",
      "URl: https://www.uttermost.com/Strength-In-Numbers-Hand-Painted-Canvas-35351/?SelectedSKU=35351\n",
      "Cat1: ART\n",
      "Cat2: STRENGTH IN NUMBERS HAND PAINTED CANVAS\n",
      "Cat3: \n",
      "W: 106.68\n",
      "H: 157.48\n",
      "L: 5.08\n",
      "len list images 4\n",
      "Sku: ROG-35351-UTT\n",
      "Title: STRENGTH IN NUMBERS HAND PAINTED CANVAS\n",
      "Price: 0\n",
      "Price old: 0\n",
      "Description: 42 W X 62 H X 2 D (in)\n",
      "Colors: __EMPTY__VALUE__\n",
      "Matter: __EMPTY__VALUE__\n",
      "URl: https://www.uttermost.com/Strength-In-Numbers-Hand-Painted-Canvas-35351/?SelectedSKU=35351\n",
      "https://uttermost.azureedge.net/4a7d50/globalassets/product-images/35351_2_.jpg, https://uttermost.azureedge.net/4a7d51/globalassets/product-images/35351_3_.jpg, https://uttermost.azureedge.net/4a7d51/globalassets/product-images/35351_4_.jpg\n",
      "***********************************************************\n",
      "Count: 15\n",
      "URl: https://www.uttermost.com/Force-Reaction-Framed-Prints--S-2-33718/?SelectedSKU=33718\n",
      "Cat1: ART\n",
      "Cat2: FORCE REACTION FRAMED PRINTS, S/2\n",
      "Cat3: \n",
      "W: 55.88\n",
      "H: 76.2\n",
      "L: 5.08\n",
      "len list images 7\n",
      "Sku: ROG-33718-UTT\n",
      "Title: FORCE REACTION FRAMED PRINTS, S/2\n",
      "Price: 0\n",
      "Price old: 0\n",
      "Description: 22 W X 30 H X 2 D (in)\n",
      "Colors: __EMPTY__VALUE__\n",
      "Matter: __EMPTY__VALUE__\n",
      "URl: https://www.uttermost.com/Force-Reaction-Framed-Prints--S-2-33718/?SelectedSKU=33718\n",
      "https://uttermost.azureedge.net/49797d/globalassets/product-images/33718_2_.jpg, https://uttermost.azureedge.net/49797e/globalassets/product-images/33718_3_.jpg, https://uttermost.azureedge.net/49797f/globalassets/product-images/33718_4_.jpg, https://uttermost.azureedge.net/49797f/globalassets/product-images/33718_5_.jpg, https://uttermost.azureedge.net/497980/globalassets/product-images/33718_6_.jpg, https://uttermost.azureedge.net/497981/globalassets/product-images/33718_7_.jpg\n",
      "***********************************************************\n",
      "Count: 16\n",
      "URl: https://www.uttermost.com/Golden-Raindrops-Hand-Painted-Canvas-34362/?SelectedSKU=34362\n",
      "Cat1: ART\n",
      "Cat2: GOLDEN RAINDROPS HAND PAINTED CANVAS\n",
      "Cat3: \n",
      "W: 157.48\n",
      "H: 157.48\n",
      "L: 5.08\n",
      "len list images 6\n",
      "Sku: ROG-34362-UTT\n",
      "Title: GOLDEN RAINDROPS HAND PAINTED CANVAS\n",
      "Price: 0\n",
      "Price old: 0\n",
      "Description: 62 W X 62 H X 2 D (in)\n",
      "Colors: __EMPTY__VALUE__\n",
      "Matter: __EMPTY__VALUE__\n",
      "URl: https://www.uttermost.com/Golden-Raindrops-Hand-Painted-Canvas-34362/?SelectedSKU=34362\n",
      "https://uttermost.azureedge.net/48ea7b/globalassets/product-images/34362_2_.jpg, https://uttermost.azureedge.net/48ea7b/globalassets/product-images/34362_3_.jpg, https://uttermost.azureedge.net/48ea7c/globalassets/product-images/34362_4_.jpg, https://uttermost.azureedge.net/48ea7d/globalassets/product-images/34362_5_.jpg, https://uttermost.azureedge.net/48ea7d/globalassets/product-images/34362_6_.jpg\n",
      "***********************************************************\n",
      "Count: 17\n",
      "URl: https://www.uttermost.com/Walk-In-The-Meadow-Hand-Painted-Canvas-35348/?SelectedSKU=35348\n",
      "Cat1: ART\n",
      "Cat2: WALK IN THE MEADOW HAND PAINTED CANVAS\n",
      "Cat3: \n",
      "W: 154.94\n",
      "H: 104.14\n",
      "L: 5.08\n",
      "len list images 3\n",
      "Sku: ROG-35348-UTT\n",
      "Title: WALK IN THE MEADOW HAND PAINTED CANVAS\n",
      "Price: 0\n",
      "Price old: 0\n",
      "Description: 61 W X 41 H X 2 D (in)\n",
      "Colors: __EMPTY__VALUE__\n",
      "Matter: __EMPTY__VALUE__\n",
      "URl: https://www.uttermost.com/Walk-In-The-Meadow-Hand-Painted-Canvas-35348/?SelectedSKU=35348\n",
      "https://uttermost.azureedge.net/4a7d4e/globalassets/product-images/35348_2_.jpg, https://uttermost.azureedge.net/4a7d4f/globalassets/product-images/35348_3_.jpg\n",
      "***********************************************************\n",
      "Count: 18\n",
      "URl: https://www.uttermost.com/Gilded-Whimsy-Framed-Prints--S-2-41613/?SelectedSKU=41613\n",
      "Cat1: ART\n",
      "Cat2: GILDED WHIMSY FRAMED PRINTS, S/2\n",
      "Cat3: \n",
      "W: 78.74\n",
      "H: 93.98\n",
      "L: 2.54\n",
      "len list images 7\n",
      "Sku: ROG-41613-UTT\n",
      "Title: GILDED WHIMSY FRAMED PRINTS, S/2\n",
      "Price: 0\n",
      "Price old: 0\n",
      "Description: 31 W X 37 H X 1 D (in)\n",
      "Colors: __EMPTY__VALUE__\n",
      "Matter: __EMPTY__VALUE__\n",
      "URl: https://www.uttermost.com/Gilded-Whimsy-Framed-Prints--S-2-41613/?SelectedSKU=41613\n",
      "https://uttermost.azureedge.net/4a7d98/globalassets/product-images/41613_2_.jpg, https://uttermost.azureedge.net/4a7d99/globalassets/product-images/41613_3_.jpg, https://uttermost.azureedge.net/4a7d99/globalassets/product-images/41613_4_.jpg, https://uttermost.azureedge.net/4a7d9a/globalassets/product-images/41613_5_.jpg, https://uttermost.azureedge.net/4a7d9a/globalassets/product-images/41613_6_.jpg, https://uttermost.azureedge.net/4a7d9b/globalassets/product-images/41613_7_.jpg\n"
     ]
    },
    {
     "name": "stdout",
     "output_type": "stream",
     "text": [
      "***********************************************************\n",
      "Count: 19\n",
      "URl: https://www.uttermost.com/Desert-Rain-Hand-Painted-Canvas-31331/?SelectedSKU=31331\n",
      "Cat1: ART\n",
      "Cat2: DESERT RAIN HAND PAINTED CANVAS\n",
      "Cat3: \n",
      "W: 104.14\n",
      "H: 154.94\n",
      "L: 5.08\n",
      "len list images 7\n",
      "Sku: ROG-31331-UTT\n",
      "Title: DESERT RAIN HAND PAINTED CANVAS\n",
      "Price: 0\n",
      "Price old: 0\n",
      "Description: 41 W X 61 H X 2 D (in)\n",
      "Colors: __EMPTY__VALUE__\n",
      "Matter: __EMPTY__VALUE__\n",
      "URl: https://www.uttermost.com/Desert-Rain-Hand-Painted-Canvas-31331/?SelectedSKU=31331\n",
      "https://uttermost.azureedge.net/49798e/globalassets/product-images/31331_2_.jpg, https://uttermost.azureedge.net/49798f/globalassets/product-images/31331_3_.jpg, https://uttermost.azureedge.net/49796b/globalassets/product-images/31331_4_.jpg, https://uttermost.azureedge.net/49796c/globalassets/product-images/31331_5_.jpg, https://uttermost.azureedge.net/49796c/globalassets/product-images/31331_6_.jpg, https://uttermost.azureedge.net/49796e/globalassets/product-images/31331_7_.jpg\n",
      "***********************************************************\n",
      "Count: 20\n",
      "URl: https://www.uttermost.com/Historical-Buildings-Framed-Prints--S-4-41295/?SelectedSKU=41295\n",
      "Cat1: ART\n",
      "Cat2: HISTORICAL BUILDINGS FRAMED PRINTS, S/4\n",
      "Cat3: \n",
      "W: 58.42\n",
      "H: 53.34\n",
      "L: 2.54\n",
      "len list images 4\n",
      "Sku: ROG-41295-UTT\n",
      "Title: HISTORICAL BUILDINGS FRAMED PRINTS, S/4\n",
      "Price: 0\n",
      "Price old: 0\n",
      "Description: 23 W X 21 H X 1 D (in)\n",
      "Colors: __EMPTY__VALUE__\n",
      "Matter: __EMPTY__VALUE__\n",
      "URl: https://www.uttermost.com/Historical-Buildings-Framed-Prints--S-4-41295/?SelectedSKU=41295\n",
      "https://uttermost.azureedge.net/4a7d84/globalassets/product-images/41295_2_.jpg, https://uttermost.azureedge.net/4a7d84/globalassets/product-images/41295_3_.jpg, https://uttermost.azureedge.net/4a7d85/globalassets/product-images/41295_4_.jpg\n",
      "***********************************************************\n",
      "Count: 21\n",
      "URl: https://www.uttermost.com/Foliage-Framed-Prints--S-6-33671/?SelectedSKU=33671\n"
     ]
    }
   ],
   "source": [
    "now = datetime.now()\n",
    "dt_string = now.strftime(\"%d-%m-%Y-%H-%M-%S\")\n",
    "count = 0\n",
    "def parce_dimension(text):\n",
    "    text = text.split('X')\n",
    "    width = float(text[0].replace('W', '').strip()) * 2.54\n",
    "    height = float(text[1].replace('H', '').strip()) * 2.54\n",
    "    lenght = float(text[2].replace('D', '').replace('(in)', '').strip()) * 2.54\n",
    "    return width, height, lenght\n",
    "#**********************************************************************\n",
    "#**********************************************************************\n",
    "#**********************************************************************\n",
    "#**********************************************************************\n",
    "#**********************************************************************\n",
    "#ForLoop main\n",
    "name_excel = 'utter_ART.xlsx'\n",
    "df = pd.read_excel('utter_model.xlsx')\n",
    "for i, product in enumerate(links_products):\n",
    "    height = 0\n",
    "    length = 0\n",
    "    width = 0\n",
    "    series = None\n",
    "    time.sleep(1)\n",
    "    try:\n",
    "        print('***********************************************************')\n",
    "        print('Count:', i)\n",
    "        print('URl:', product)\n",
    "        driver.get(product)\n",
    "        time.sleep(3)\n",
    "        \n",
    "    except:\n",
    "        continue\n",
    "    \n",
    "#**********************************************************************\n",
    "#**********************************************************************\n",
    "   \n",
    "\n",
    "    link_url = str(product)\n",
    "    time.sleep(2)\n",
    "    try:\n",
    "        categories1 =  driver.find_elements_by_xpath(\"//ul[contains(@class,'productBreadcrumb')]//li\")[0].text\n",
    "    except:\n",
    "        categories1 = ''\n",
    "    try:\n",
    "        categories2 =  driver.find_elements_by_xpath(\"//ul[contains(@class,'productBreadcrumb')]//li\")[2].text  \n",
    "    except:\n",
    "        categories2 = ''\n",
    "    try:\n",
    "        categories3 =  ''#driver.find_elements_by_xpath(\"//li[contains(@class, 'breadcrumb__item')]\")[2].text\n",
    "    except:\n",
    "        categories3 = ''\n",
    "    print('Cat1:', categories1)\n",
    "    print('Cat2:', categories2)\n",
    "    print('Cat3:', categories3)\n",
    "    time.sleep(1)\n",
    "    sku = driver.find_element_by_class_name('product__property').text.replace('#', 'ROG-')\n",
    "    sku = sku + '-UTT'\n",
    "    name = driver.find_element_by_class_name('product__name').text\n",
    "    url_key = (f'{sku}-{name}').replace(',', '-').replace('*', '-').replace('،', '-').replace('/', '-').replace('%', '') \n",
    "\n",
    "    price = 0\n",
    "    try:\n",
    "        special_price =  0\n",
    "    except:\n",
    "        special_price = 0\n",
    "    time.sleep(1)\n",
    "\n",
    "# Description*********************************************************************************\n",
    "    \n",
    "    description = driver.find_element_by_class_name('product__description').text\n",
    "    short_description = driver.find_element_by_class_name('product__dimensions').text.split('\\n')[1]\n",
    "    weight = driver.find_element_by_class_name('product__weight').text.split('\\n')[1]\n",
    "    dimension = driver.find_element_by_class_name('product__dimensions').text.split('\\n')[1]\n",
    "    \n",
    "    width , height , length = parce_dimension(dimension)\n",
    "        \n",
    "    print('W:', width)\n",
    "    print('H:', height)\n",
    "    print('L:', length)\n",
    "    \n",
    "    free_colors = '__EMPTY__VALUE__'\n",
    "    raw_materials = '__EMPTY__VALUE__'\n",
    "\n",
    "# Images*********************************************************************************\n",
    "    list_images = []\n",
    "    images = driver.find_elements_by_xpath(\"//img[@class='zoomPanel__content']\")\n",
    "    len(images)\n",
    "    \n",
    "    for img in images:\n",
    "        list_images.append(img.get_attribute('src').split('?')[0])\n",
    "    print('len list images',len(list_images))\n",
    "    base_image = list_images[0]\n",
    "    small_image = list_images[0]\n",
    "    swatch_image = list_images[0]\n",
    "    thumbnail_image = list_images[0]\n",
    "#************************************************************************** \n",
    "    print('Sku:', sku)\n",
    "    print('Title:', name)\n",
    "    print('Price:', price)\n",
    "    print('Price old:',special_price)\n",
    "    print('Description:',short_description)\n",
    "    print('Colors:',free_colors)\n",
    "    print('Matter:',raw_materials)\n",
    "#     print('Size:',Dimensions)\n",
    "    print('URl:',link_url)\n",
    "    \n",
    "    try:\n",
    "\n",
    "        image1 = list_images[0]\n",
    "    except:\n",
    "        image1 = ''\n",
    "\n",
    "    try:\n",
    "        image2 = list_images[1:]\n",
    "    except:\n",
    "        image2 = ''\n",
    "    try:\n",
    "        timage = ''\n",
    "        for i, img in enumerate(list_images[1:]):\n",
    "            if i == 0:\n",
    "                timage += str(img)\n",
    "            else:\n",
    "                timage += ', ' + str(img)\n",
    "#         list_input_images2.append(timage)\n",
    "        print(timage)\n",
    "    except:\n",
    "        timage = ''\n",
    "\n",
    "    additional_images = timage\n",
    "        #         list_input_images2.append(t)\n",
    "#*******************************************************\n",
    "    two_month = datetime.now() + timedelta(days=60)\n",
    "    two_month = two_month.strftime(\"%m/%d/%Y\")\n",
    "    today = datetime.today().strftime(\"%m/%d/%Y\")\n",
    "#*******************************************************\n",
    "    series = pd.Series([sku,\n",
    "                         name,\n",
    "                         url_key,\n",
    "                         short_description,\n",
    "                        description,\n",
    "                         free_colors,\n",
    "                         raw_materials,\n",
    "                        width,\n",
    "                        height,\n",
    "                        length,\n",
    "                        weight,\n",
    "                         base_image,\n",
    "                         small_image,\n",
    "                         swatch_image,\n",
    "                         thumbnail_image,\n",
    "                         additional_images ,\n",
    "                         categories1,\n",
    "                         categories2,\n",
    "                         categories3,\n",
    "                         price ,\n",
    "                        special_price,\n",
    "                        'Catalog, Search',\n",
    "                        'Taxable Goods',\n",
    "                        link_url,\n",
    "                        0,\n",
    "                        -5,\n",
    "                        1,\n",
    "                        1,\n",
    "                        1,\n",
    "                        'مستوردة',\n",
    "\n",
    "                         today,\n",
    "                         two_month,\n",
    "                         'base',\n",
    "                         'Default',\n",
    "                         'simple',\n",
    "                         '',\n",
    "                        'UTT'\n",
    "\n",
    "                        ],  index=df.columns)\n",
    "    #df.append(df1)\n",
    "    df = df.append(series, ignore_index=True)\n",
    "    df.to_excel( f'{name_excel}', index = False)\n"
   ]
  },
  {
   "cell_type": "code",
   "execution_count": null,
   "id": "6d970833",
   "metadata": {},
   "outputs": [],
   "source": []
  },
  {
   "cell_type": "code",
   "execution_count": 73,
   "id": "6a210f1f",
   "metadata": {},
   "outputs": [],
   "source": []
  },
  {
   "cell_type": "code",
   "execution_count": null,
   "id": "7638520c",
   "metadata": {},
   "outputs": [],
   "source": [
    "text = ' 12 W X 18 H X 12 D (in)'"
   ]
  },
  {
   "cell_type": "code",
   "execution_count": 74,
   "id": "e21a1166",
   "metadata": {},
   "outputs": [
    {
     "name": "stdout",
     "output_type": "stream",
     "text": [
      "(29.400000000000002, 44.1, 29.400000000000002)\n"
     ]
    }
   ],
   "source": [
    "print(parce_dimension(' 12 W X 18 H X 12 D (in)'))"
   ]
  },
  {
   "cell_type": "code",
   "execution_count": 52,
   "id": "77568740",
   "metadata": {},
   "outputs": [
    {
     "data": {
      "text/plain": [
       "'p2136683293'"
      ]
     },
     "execution_count": 52,
     "metadata": {},
     "output_type": "execute_result"
    }
   ],
   "source": [
    "\n",
    "sku"
   ]
  },
  {
   "cell_type": "code",
   "execution_count": null,
   "id": "88069e64",
   "metadata": {},
   "outputs": [],
   "source": []
  },
  {
   "cell_type": "code",
   "execution_count": null,
   "id": "778f6c2f",
   "metadata": {},
   "outputs": [],
   "source": []
  },
  {
   "cell_type": "code",
   "execution_count": null,
   "id": "69b3fbc2",
   "metadata": {},
   "outputs": [],
   "source": []
  },
  {
   "cell_type": "code",
   "execution_count": null,
   "id": "e71b6543",
   "metadata": {},
   "outputs": [],
   "source": []
  },
  {
   "cell_type": "code",
   "execution_count": null,
   "id": "2736f1ff",
   "metadata": {},
   "outputs": [],
   "source": []
  },
  {
   "cell_type": "code",
   "execution_count": null,
   "id": "6736635a",
   "metadata": {},
   "outputs": [],
   "source": []
  },
  {
   "cell_type": "code",
   "execution_count": null,
   "id": "bf71b203",
   "metadata": {},
   "outputs": [],
   "source": []
  },
  {
   "cell_type": "code",
   "execution_count": null,
   "id": "985b5cc3",
   "metadata": {},
   "outputs": [],
   "source": [
    "198 W x 203 L x 46 H cm' 51 W x 66 L x 16 H cm  2” L x 2” W x 3.75” H"
   ]
  },
  {
   "cell_type": "code",
   "execution_count": null,
   "id": "29a8b49c",
   "metadata": {},
   "outputs": [],
   "source": [
    "4.5 x 4.5 x 2.75 inch, متري: 838.2 مم عرض × 889 مم عمق × 990.6 مم ارتفاع"
   ]
  },
  {
   "cell_type": "markdown",
   "id": "b7d8d492",
   "metadata": {},
   "source": [
    "# Fin de la fonction"
   ]
  },
  {
   "cell_type": "code",
   "execution_count": null,
   "id": "3a22a88f",
   "metadata": {},
   "outputs": [],
   "source": [
    "re"
   ]
  },
  {
   "cell_type": "code",
   "execution_count": null,
   "id": "53a97f1e",
   "metadata": {},
   "outputs": [],
   "source": []
  },
  {
   "cell_type": "code",
   "execution_count": null,
   "id": "800d2ed3",
   "metadata": {},
   "outputs": [],
   "source": []
  },
  {
   "cell_type": "code",
   "execution_count": null,
   "id": "23372af2",
   "metadata": {},
   "outputs": [],
   "source": []
  },
  {
   "cell_type": "code",
   "execution_count": 50,
   "id": "ee125233",
   "metadata": {},
   "outputs": [],
   "source": [
    "driver.get('https://www.alrugaibfurniture.com/ar/collections/rugs/products/fusion-rug-blue-multi-colored')"
   ]
  },
  {
   "cell_type": "code",
   "execution_count": 51,
   "id": "5a71234a",
   "metadata": {},
   "outputs": [
    {
     "data": {
      "text/plain": [
       "3"
      ]
     },
     "execution_count": 51,
     "metadata": {},
     "output_type": "execute_result"
    }
   ],
   "source": [
    "list_products_other = driver.find_elements_by_class_name('block-swatch__item-text')\n",
    "len(list_products_other)"
   ]
  },
  {
   "cell_type": "code",
   "execution_count": 52,
   "id": "1933edf4",
   "metadata": {},
   "outputs": [],
   "source": [
    "list_products_other[0].click()"
   ]
  },
  {
   "cell_type": "code",
   "execution_count": null,
   "id": "2d9bba02",
   "metadata": {},
   "outputs": [],
   "source": []
  },
  {
   "cell_type": "code",
   "execution_count": null,
   "id": "770e17a7",
   "metadata": {},
   "outputs": [],
   "source": []
  },
  {
   "cell_type": "code",
   "execution_count": null,
   "id": "1f2cea67",
   "metadata": {},
   "outputs": [],
   "source": []
  },
  {
   "cell_type": "code",
   "execution_count": null,
   "id": "e9367e21",
   "metadata": {},
   "outputs": [],
   "source": []
  },
  {
   "cell_type": "code",
   "execution_count": null,
   "id": "3ea0a4ee",
   "metadata": {},
   "outputs": [],
   "source": []
  },
  {
   "cell_type": "code",
   "execution_count": null,
   "id": "0ba4e69e",
   "metadata": {},
   "outputs": [],
   "source": []
  },
  {
   "cell_type": "code",
   "execution_count": null,
   "id": "dd23175e",
   "metadata": {},
   "outputs": [],
   "source": []
  },
  {
   "cell_type": "code",
   "execution_count": null,
   "id": "cddb2888",
   "metadata": {},
   "outputs": [],
   "source": []
  },
  {
   "cell_type": "code",
   "execution_count": null,
   "id": "a23abcb0",
   "metadata": {},
   "outputs": [],
   "source": []
  },
  {
   "cell_type": "code",
   "execution_count": null,
   "id": "5fb33f3d",
   "metadata": {},
   "outputs": [],
   "source": []
  },
  {
   "cell_type": "code",
   "execution_count": null,
   "id": "3991cdec",
   "metadata": {},
   "outputs": [],
   "source": []
  },
  {
   "cell_type": "code",
   "execution_count": null,
   "id": "291a3247",
   "metadata": {},
   "outputs": [],
   "source": []
  },
  {
   "cell_type": "code",
   "execution_count": null,
   "id": "2ceacf9c",
   "metadata": {},
   "outputs": [],
   "source": []
  },
  {
   "cell_type": "code",
   "execution_count": null,
   "id": "6308ec78",
   "metadata": {},
   "outputs": [],
   "source": []
  },
  {
   "cell_type": "code",
   "execution_count": null,
   "id": "53f9b991",
   "metadata": {},
   "outputs": [],
   "source": []
  },
  {
   "cell_type": "code",
   "execution_count": null,
   "id": "15550f0d",
   "metadata": {},
   "outputs": [],
   "source": []
  },
  {
   "cell_type": "code",
   "execution_count": null,
   "id": "9baa0d22",
   "metadata": {},
   "outputs": [],
   "source": []
  },
  {
   "cell_type": "code",
   "execution_count": null,
   "id": "f2899e3a",
   "metadata": {},
   "outputs": [],
   "source": []
  },
  {
   "cell_type": "code",
   "execution_count": null,
   "id": "714493c7",
   "metadata": {},
   "outputs": [],
   "source": []
  },
  {
   "cell_type": "code",
   "execution_count": null,
   "id": "e9eb60dd",
   "metadata": {},
   "outputs": [],
   "source": []
  }
 ],
 "metadata": {
  "celltoolbar": "Raw Cell Format",
  "kernelspec": {
   "display_name": "Python 3",
   "language": "python",
   "name": "python3"
  },
  "language_info": {
   "codemirror_mode": {
    "name": "ipython",
    "version": 3
   },
   "file_extension": ".py",
   "mimetype": "text/x-python",
   "name": "python",
   "nbconvert_exporter": "python",
   "pygments_lexer": "ipython3",
   "version": "3.8.8"
  },
  "toc": {
   "base_numbering": 1,
   "nav_menu": {},
   "number_sections": true,
   "sideBar": true,
   "skip_h1_title": false,
   "title_cell": "Table of Contents",
   "title_sidebar": "Contents",
   "toc_cell": false,
   "toc_position": {
    "height": "calc(100% - 180px)",
    "left": "10px",
    "top": "150px",
    "width": "352px"
   },
   "toc_section_display": true,
   "toc_window_display": true
  }
 },
 "nbformat": 4,
 "nbformat_minor": 5
}
