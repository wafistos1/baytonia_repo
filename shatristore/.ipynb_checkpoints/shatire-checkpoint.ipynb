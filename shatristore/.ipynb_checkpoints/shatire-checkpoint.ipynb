{
 "cells": [
  {
   "cell_type": "code",
   "execution_count": 873,
   "id": "51b0a636",
   "metadata": {},
   "outputs": [],
   "source": [
    "#imports here\n",
    "from selenium import webdriver\n",
    "from selenium.webdriver.common.keys import Keys\n",
    "from selenium.webdriver.support import expected_conditions as EC\n",
    "from selenium.webdriver.common.by import By\n",
    "from selenium.webdriver.support.wait import WebDriverWait\n",
    "from selenium.webdriver.firefox.options import Options\n",
    "import time\n",
    "import os\n",
    "from fake_useragent import UserAgent\n",
    "from random import randint\n",
    "import pandas as pd\n",
    "import numpy as np\n",
    "import re\n",
    "from datetime import datetime\n",
    "from datetime import timedelta\n",
    "from bs4 import BeautifulSoup\n",
    "import string"
   ]
  },
  {
   "cell_type": "markdown",
   "id": "e09c5275",
   "metadata": {},
   "source": [
    "# firefox "
   ]
  },
  {
   "cell_type": "code",
   "execution_count": null,
   "id": "44dd5226",
   "metadata": {},
   "outputs": [],
   "source": []
  },
  {
   "cell_type": "code",
   "execution_count": null,
   "id": "fdae0b3b",
   "metadata": {},
   "outputs": [],
   "source": []
  },
  {
   "cell_type": "code",
   "execution_count": 1257,
   "id": "e81ce385",
   "metadata": {},
   "outputs": [
    {
     "name": "stdout",
     "output_type": "stream",
     "text": [
      "Mozilla/5.0 (Windows NT 6.1) AppleWebKit/537.36 (KHTML, like Gecko) Chrome/27.0.1453.90 Safari/537.36\n"
     ]
    },
    {
     "name": "stderr",
     "output_type": "stream",
     "text": [
      "<ipython-input-1257-5315509cced7>:7: DeprecationWarning: use options instead of firefox_options\n",
      "  driver = webdriver.Firefox(firefox_options=options)\n"
     ]
    }
   ],
   "source": [
    "options = Options()\n",
    "ua = UserAgent()\n",
    "userAgent = ua.random\n",
    "print(userAgent)\n",
    "options.add_argument(f'user-agent={userAgent}')\n",
    "#options.add_argument(\"--headless\")\n",
    "driver = webdriver.Firefox(firefox_options=options)\n",
    "#     driver = webdriver.Firefox()"
   ]
  },
  {
   "cell_type": "code",
   "execution_count": 1258,
   "id": "4eec53e4",
   "metadata": {},
   "outputs": [],
   "source": [
    "driver.get('https://shatristore.com/ar/household-appliances/vacuum/dwb800')"
   ]
  },
  {
   "cell_type": "markdown",
   "id": "1a2cda0c",
   "metadata": {},
   "source": [
    "# Urls"
   ]
  },
  {
   "cell_type": "code",
   "execution_count": 5,
   "id": "fc76bf03",
   "metadata": {
    "scrolled": true
   },
   "outputs": [
    {
     "ename": "NameError",
     "evalue": "name 'list_url' is not defined",
     "output_type": "error",
     "traceback": [
      "\u001b[0;31m---------------------------------------------------------------------------\u001b[0m",
      "\u001b[0;31mNameError\u001b[0m                                 Traceback (most recent call last)",
      "\u001b[0;32m<ipython-input-5-71cd29557d55>\u001b[0m in \u001b[0;36m<module>\u001b[0;34m\u001b[0m\n\u001b[1;32m      1\u001b[0m \u001b[0mlinks_products\u001b[0m \u001b[0;34m=\u001b[0m \u001b[0;34m[\u001b[0m\u001b[0;34m]\u001b[0m\u001b[0;34m\u001b[0m\u001b[0;34m\u001b[0m\u001b[0m\n\u001b[0;32m----> 2\u001b[0;31m \u001b[0;32mfor\u001b[0m \u001b[0mcat\u001b[0m \u001b[0;32min\u001b[0m \u001b[0mlist_url\u001b[0m\u001b[0;34m:\u001b[0m\u001b[0;34m\u001b[0m\u001b[0;34m\u001b[0m\u001b[0m\n\u001b[0m\u001b[1;32m      3\u001b[0m     \u001b[0;32mfor\u001b[0m \u001b[0mi\u001b[0m \u001b[0;32min\u001b[0m \u001b[0mrange\u001b[0m\u001b[0;34m(\u001b[0m\u001b[0;36m1\u001b[0m\u001b[0;34m,\u001b[0m \u001b[0mcat\u001b[0m\u001b[0;34m[\u001b[0m\u001b[0;36m1\u001b[0m\u001b[0;34m]\u001b[0m\u001b[0;34m)\u001b[0m\u001b[0;34m:\u001b[0m\u001b[0;34m\u001b[0m\u001b[0;34m\u001b[0m\u001b[0m\n\u001b[1;32m      4\u001b[0m         \u001b[0mprint\u001b[0m\u001b[0;34m(\u001b[0m\u001b[0;34m'Count:'\u001b[0m\u001b[0;34m,\u001b[0m \u001b[0mi\u001b[0m\u001b[0;34m)\u001b[0m\u001b[0;34m\u001b[0m\u001b[0;34m\u001b[0m\u001b[0m\n\u001b[1;32m      5\u001b[0m         \u001b[0mdriver\u001b[0m\u001b[0;34m.\u001b[0m\u001b[0mget\u001b[0m\u001b[0;34m(\u001b[0m\u001b[0;34mf'{cat[0]}{i}'\u001b[0m\u001b[0;34m)\u001b[0m\u001b[0;34m\u001b[0m\u001b[0;34m\u001b[0m\u001b[0m\n",
      "\u001b[0;31mNameError\u001b[0m: name 'list_url' is not defined"
     ]
    }
   ],
   "source": [
    "links_products = []\n",
    "for cat in list_url:\n",
    "    for i in range(1, cat[1]):\n",
    "        print('Count:', i)\n",
    "        driver.get(f'{cat[0]}{i}')\n",
    "\n",
    "        urls = driver.find_elements_by_class_name('woocommerce-LoopProduct-link')\n",
    "        len(urls)\n",
    "\n",
    "        #Forloop to get all url products\n",
    "        for url in urls:\n",
    "            links_products.append(url.get_attribute('href'))\n",
    "        #     time.sleep(0.5)\n",
    "        time.sleep(1)\n",
    "        print(len(links_products))\n",
    "now = datetime.now()\n",
    "dt_string = now.strftime(\"%d-%m-%Y-%H-%M-%S\")\n",
    "#Save link in excel files\n",
    "link_living_rooms = {\n",
    "    'liste': links_products,\n",
    "}\n",
    "\n",
    "liste_link_living_rooms = pd.DataFrame(link_living_rooms)\n",
    "liste_link_living_rooms.to_excel(f'link_sagebrook-{dt_string}.xlsx')"
   ]
  },
  {
   "cell_type": "markdown",
   "id": "f481327f",
   "metadata": {},
   "source": [
    "# Create elements"
   ]
  },
  {
   "cell_type": "code",
   "execution_count": 1261,
   "id": "6d9a2a0a",
   "metadata": {},
   "outputs": [],
   "source": [
    "links_products = []"
   ]
  },
  {
   "cell_type": "code",
   "execution_count": 1262,
   "id": "b243eb50",
   "metadata": {},
   "outputs": [
    {
     "data": {
      "text/plain": [
       "10"
      ]
     },
     "execution_count": 1262,
     "metadata": {},
     "output_type": "execute_result"
    }
   ],
   "source": [
    "url_links = driver.find_elements_by_xpath('//a[contains(@class, \"product-item-link\")]')\n",
    "len(url_links)"
   ]
  },
  {
   "cell_type": "code",
   "execution_count": null,
   "id": "020b6166",
   "metadata": {},
   "outputs": [],
   "source": []
  },
  {
   "cell_type": "code",
   "execution_count": 1263,
   "id": "64df8cd0",
   "metadata": {},
   "outputs": [
    {
     "data": {
      "text/plain": [
       "10"
      ]
     },
     "execution_count": 1263,
     "metadata": {},
     "output_type": "execute_result"
    }
   ],
   "source": [
    "\n",
    "for tt in url_links:\n",
    "\n",
    "    links_products.append(tt.get_attribute('href'))\n",
    "len(links_products)"
   ]
  },
  {
   "cell_type": "code",
   "execution_count": null,
   "id": "90b874f6",
   "metadata": {},
   "outputs": [],
   "source": []
  },
  {
   "cell_type": "code",
   "execution_count": 13,
   "id": "180ba959",
   "metadata": {},
   "outputs": [
    {
     "data": {
      "text/plain": [
       "'مكيفات شباك'"
      ]
     },
     "execution_count": 13,
     "metadata": {},
     "output_type": "execute_result"
    }
   ],
   "source": [
    "barcode = driver.find_element_by_xpath('//th[contains(text(),\"النوع\")]/following-sibling::td').text.strip()\n",
    "with_controller = driver.find_element_by_xpath('//th[contains(text(),\"مع جهاز تحكم\")]/following-sibling::td').text.strip()\n",
    "hot_and_cold = driver.find_element_by_xpath('//th[contains(text(),\"حار وبارد\")]/following-sibling::td').text.strip()\n",
    "voltage = driver.find_element_by_xpath('//th[contains(text(),\"الجهد الكهربائي\")]/following-sibling::td').text.strip()\n",
    "garantie = driver.find_element_by_xpath('//th[contains(text(),\"الضمان\")]/following-sibling::td').text.strip()\n",
    "models =  driver.find_element_by_xpath('//th[contains(text(),\"الموديل\")]/following-sibling::td').text.strip()\n",
    "free_colors =  driver.find_element_by_xpath('//th[contains(text(),\"اللون\")]/following-sibling::td').text.strip()\n",
    "manufactere =  driver.find_element_by_xpath('//th[contains(text(),\"بلد الصنع\")]/following-sibling::td').text.strip()\n",
    "pipes =  driver.find_element_by_xpath('//th[contains(text(),\"مع مواسير\")]/following-sibling::td').text.strip()\n",
    "hertz = driver.find_element_by_xpath('//th[contains(text(),\"التردد الكهربائي\")]/following-sibling::td').text.strip()"
   ]
  },
  {
   "cell_type": "code",
   "execution_count": 4,
   "id": "a76d8cf1",
   "metadata": {},
   "outputs": [
    {
     "data": {
      "text/plain": [
       "'نعم'"
      ]
     },
     "execution_count": 4,
     "metadata": {},
     "output_type": "execute_result"
    }
   ],
   "source": [
    "usb = driver.find_element_by_xpath('//th[contains(text(),\"يو اس بي\")]/following-sibling::td').text.strip()\n",
    "with_wifi = driver.find_element_by_xpath('//th[contains(text(),\"واي فاي\")]/following-sibling::td').text.strip()\n",
    "guarantee = driver.find_element_by_xpath('//th[contains(text(),\"الضمان\")]/following-sibling::td').text.strip()\n",
    "HDMI = driver.find_element_by_xpath('//th[contains(text(),\"HDMI\")]/following-sibling::td').text.strip()\n",
    "screen_resolution = driver.find_element_by_xpath('//th[contains(text(),\"دقة الشاشة\")]/following-sibling::td').text.strip()\n",
    "screen_system = driver.find_element_by_xpath('//th[contains(text(),\"نظام الشاشة\")]/following-sibling::td').text.strip()\n",
    "with_base = driver.find_element_by_xpath('//th[contains(text(),\"مع قاعدة\")]/following-sibling::td').text.strip()\n",
    "weight = driver.find_element_by_xpath('//th[contains(text(),\"المقاس\")]/following-sibling::td').text.strip("
   ]
  },
  {
   "cell_type": "code",
   "execution_count": 11,
   "id": "49a2d74a",
   "metadata": {},
   "outputs": [
    {
     "data": {
      "text/plain": [
       "'نعم'"
      ]
     },
     "execution_count": 11,
     "metadata": {},
     "output_type": "execute_result"
    }
   ],
   "source": [
    "with_base = driver.find_element_by_xpath('//th[contains(text(),\"مع قاعدة\")]/following-sibling::td').text.strip()\n",
    "with_base"
   ]
  },
  {
   "cell_type": "code",
   "execution_count": 6,
   "id": "eb80c558",
   "metadata": {},
   "outputs": [
    {
     "data": {
      "text/plain": [
       "'ضمان الوكيل سنتين'"
      ]
     },
     "execution_count": 6,
     "metadata": {},
     "output_type": "execute_result"
    }
   ],
   "source": [
    "guarantee = driver.find_element_by_xpath('//th[contains(text(),\"الضمان\")]/following-sibling::td').text.strip()\n",
    "guarantee"
   ]
  },
  {
   "cell_type": "code",
   "execution_count": 8,
   "id": "9d441f6d",
   "metadata": {},
   "outputs": [
    {
     "data": {
      "text/plain": [
       "'نعم'"
      ]
     },
     "execution_count": 8,
     "metadata": {},
     "output_type": "execute_result"
    }
   ],
   "source": [
    "HDMI = driver.find_element_by_xpath('//th[contains(text(),\"HDMI\")]/following-sibling::td').text.strip()\n",
    "HDMI"
   ]
  },
  {
   "cell_type": "code",
   "execution_count": null,
   "id": "c8c49fea",
   "metadata": {},
   "outputs": [],
   "source": []
  },
  {
   "cell_type": "code",
   "execution_count": 15,
   "id": "0a61c5a7",
   "metadata": {},
   "outputs": [
    {
     "data": {
      "text/plain": [
       "'نعم'"
      ]
     },
     "execution_count": 15,
     "metadata": {},
     "output_type": "execute_result"
    }
   ],
   "source": [
    "with_controller = driver.find_element_by_xpath('//th[contains(text(),\"مع جهاز تحكم\")]/following-sibling::td').text.strip()\n",
    "remote"
   ]
  },
  {
   "cell_type": "code",
   "execution_count": 16,
   "id": "d529cd7c",
   "metadata": {},
   "outputs": [
    {
     "data": {
      "text/plain": [
       "'بارد'"
      ]
     },
     "execution_count": 16,
     "metadata": {},
     "output_type": "execute_result"
    }
   ],
   "source": [
    "hot_hair = driver.find_element_by_xpath('//th[contains(text(),\"حار وبارد\")]/following-sibling::td').text.strip()\n",
    "hot_hair"
   ]
  },
  {
   "cell_type": "code",
   "execution_count": 18,
   "id": "f48bde02",
   "metadata": {},
   "outputs": [
    {
     "data": {
      "text/plain": [
       "'220/240 فولت'"
      ]
     },
     "execution_count": 18,
     "metadata": {},
     "output_type": "execute_result"
    }
   ],
   "source": [
    "power_elec = driver.find_element_by_xpath('//th[contains(text(),\"الجهد الكهربائي\")]/following-sibling::td').text.strip()\n",
    "power_elec"
   ]
  },
  {
   "cell_type": "code",
   "execution_count": 19,
   "id": "9e8533fd",
   "metadata": {},
   "outputs": [
    {
     "data": {
      "text/plain": [
       "'ضمان الوكيل 5 سنين على الكمبروسر'"
      ]
     },
     "execution_count": 19,
     "metadata": {},
     "output_type": "execute_result"
    }
   ],
   "source": [
    "garantie = driver.find_element_by_xpath('//th[contains(text(),\"الضمان\")]/following-sibling::td').text.strip()\n",
    "garantie"
   ]
  },
  {
   "cell_type": "code",
   "execution_count": 21,
   "id": "42fae4b4",
   "metadata": {},
   "outputs": [
    {
     "data": {
      "text/plain": [
       "'GWC18AGE-D3NTA1A'"
      ]
     },
     "execution_count": 21,
     "metadata": {},
     "output_type": "execute_result"
    }
   ],
   "source": [
    "models =  driver.find_element_by_xpath('//th[contains(text(),\"الموديل\")]/following-sibling::td').text.strip()\n",
    "models"
   ]
  },
  {
   "cell_type": "code",
   "execution_count": 22,
   "id": "aa6f7552",
   "metadata": {},
   "outputs": [
    {
     "data": {
      "text/plain": [
       "'أبيض'"
      ]
     },
     "execution_count": 22,
     "metadata": {},
     "output_type": "execute_result"
    }
   ],
   "source": [
    "free_colors =  driver.find_element_by_xpath('//th[contains(text(),\"اللون\")]/following-sibling::td').text.strip()\n",
    "free_colors"
   ]
  },
  {
   "cell_type": "code",
   "execution_count": 24,
   "id": "e7c4a766",
   "metadata": {},
   "outputs": [
    {
     "data": {
      "text/plain": [
       "'صنع في الصين'"
      ]
     },
     "execution_count": 24,
     "metadata": {},
     "output_type": "execute_result"
    }
   ],
   "source": [
    "manufactere =  driver.find_element_by_xpath('//th[contains(text(),\"بلد الصنع\")]/following-sibling::td').text.strip()\n",
    "manufactere"
   ]
  },
  {
   "cell_type": "code",
   "execution_count": null,
   "id": "2a07ca89",
   "metadata": {},
   "outputs": [],
   "source": []
  },
  {
   "cell_type": "code",
   "execution_count": 4,
   "id": "4b82463b",
   "metadata": {},
   "outputs": [],
   "source": [
    "links_products = []"
   ]
  },
  {
   "cell_type": "code",
   "execution_count": null,
   "id": "bbc0d45e",
   "metadata": {},
   "outputs": [],
   "source": []
  },
  {
   "cell_type": "code",
   "execution_count": 41,
   "id": "1e117919",
   "metadata": {},
   "outputs": [
    {
     "name": "stdout",
     "output_type": "stream",
     "text": [
      "163054\n"
     ]
    }
   ],
   "source": [
    "sku = driver.find_element_by_xpath('//div[@itemprop=\"sku\"]')\n",
    "print(sku.text)\n",
    "//"
   ]
  },
  {
   "cell_type": "code",
   "execution_count": 43,
   "id": "1ca631e0",
   "metadata": {},
   "outputs": [
    {
     "name": "stdout",
     "output_type": "stream",
     "text": [
      "بيبي ليس مملس الشعر الرقمي\n"
     ]
    }
   ],
   "source": [
    "name = driver.find_element_by_xpath('//h1[@class=\"page-title\"]')\n",
    "print(name.text)\n",
    "//"
   ]
  },
  {
   "cell_type": "code",
   "execution_count": 48,
   "id": "78fdb1c0",
   "metadata": {},
   "outputs": [
    {
     "name": "stdout",
     "output_type": "stream",
     "text": [
      ":قبل\n",
      "ريال320.00\n"
     ]
    }
   ],
   "source": [
    "price_old = driver.find_element_by_xpath('//span[@class=\"old-price\"]')\n",
    "print(price_old.text)\n",
    "//"
   ]
  },
  {
   "cell_type": "code",
   "execution_count": 49,
   "id": "e8b8ca21",
   "metadata": {},
   "outputs": [
    {
     "name": "stdout",
     "output_type": "stream",
     "text": [
      "Now:\n",
      "ريال219.00\n"
     ]
    }
   ],
   "source": [
    "price = driver.find_element_by_xpath('//span[@class=\"special-price\"]')\n",
    "print(price.text)\n",
    "//"
   ]
  },
  {
   "cell_type": "code",
   "execution_count": null,
   "id": "75b6ae2e",
   "metadata": {},
   "outputs": [],
   "source": []
  },
  {
   "cell_type": "code",
   "execution_count": 52,
   "id": "f3a8a565",
   "metadata": {},
   "outputs": [
    {
     "name": "stdout",
     "output_type": "stream",
     "text": [
      "متوفر\n"
     ]
    }
   ],
   "source": [
    "is_in_stock = driver.find_element_by_xpath('//div[@class=\"product-info-stock-sku\"]//span').text\n",
    "print(is_in_stock.text)\n",
    "//"
   ]
  },
  {
   "cell_type": "code",
   "execution_count": null,
   "id": "46543eae",
   "metadata": {},
   "outputs": [],
   "source": []
  },
  {
   "cell_type": "code",
   "execution_count": 114,
   "id": "eed8937a",
   "metadata": {},
   "outputs": [
    {
     "data": {
      "text/plain": [
       "['معلومات اخرى',\n",
       " 'علامة تجارية بيورير',\n",
       " 'بلد الصنع صنع في الصين',\n",
       " 'اللون روز',\n",
       " 'الموديل (FB30)',\n",
       " 'الضمان ضمان الوكيل سنتين',\n",
       " 'التردد الكهربائي 50 - 60 هيرتز',\n",
       " 'الجهد الكهربائي 220/240 فولت']"
      ]
     },
     "execution_count": 114,
     "metadata": {},
     "output_type": "execute_result"
    }
   ],
   "source": [
    "click_details = driver.find_element_by_xpath('//a[@id=\"tab-label-additional-title\"]')\n",
    "webdriver.ActionChains(driver).move_to_element(click_details ).click(click_details ).perform()\n",
    "details_ele = driver.find_element_by_xpath('//DIV[@id=\"additional\"]')\n",
    "details = details_ele.text.split('\\n')\n",
    "details"
   ]
  },
  {
   "cell_type": "code",
   "execution_count": null,
   "id": "b3e608b8",
   "metadata": {},
   "outputs": [],
   "source": [
    "additional"
   ]
  },
  {
   "cell_type": "code",
   "execution_count": null,
   "id": "8435bda0",
   "metadata": {},
   "outputs": [],
   "source": []
  },
  {
   "cell_type": "code",
   "execution_count": 59,
   "id": "4d04289c",
   "metadata": {},
   "outputs": [
    {
     "name": "stdout",
     "output_type": "stream",
     "text": [
      "['معلومات اخرى', 'علامة تجارية بيبي ليس', 'النوع سيراميكات ديجتال', 'درجة الحرارة 220 c', 'بخاصية البخار لا', 'بلد الصنع صنع في الصين', 'اللون أسود', 'الموديل BABST450SDE', 'الضمان ضمان الوكيل سنتين', 'التردد الكهربائي 50 - 60 هيرتز', 'الجهد الكهربائي 220/240 فولت']\n"
     ]
    }
   ],
   "source": [
    "\n",
    "print(details)"
   ]
  },
  {
   "cell_type": "code",
   "execution_count": 60,
   "id": "94863d1a",
   "metadata": {},
   "outputs": [
    {
     "name": "stdout",
     "output_type": "stream",
     "text": [
      "['اللون أسود']\n"
     ]
    }
   ],
   "source": [
    "try:\n",
    "    free_colors = [fo for fo in details if 'اللون' in fo ]\n",
    "except:\n",
    "    free_colors = ''\n",
    "//"
   ]
  },
  {
   "cell_type": "code",
   "execution_count": 61,
   "id": "1a3372fc",
   "metadata": {},
   "outputs": [
    {
     "name": "stdout",
     "output_type": "stream",
     "text": [
      "['التردد الكهربائي 50 - 60 هيرتز']\n"
     ]
    }
   ],
   "source": [
    "try:\n",
    "    hertz = [fo for fo in details if 'التردد الكهربائي' in fo][0]\n",
    "except:\n",
    "    hertz = ''\n",
    "//"
   ]
  },
  {
   "cell_type": "code",
   "execution_count": 62,
   "id": "0966b401",
   "metadata": {},
   "outputs": [
    {
     "data": {
      "text/plain": [
       "['الجهد الكهربائي 220/240 فولت']"
      ]
     },
     "execution_count": 62,
     "metadata": {},
     "output_type": "execute_result"
    }
   ],
   "source": [
    "try:\n",
    "    voltage = [fo for fo in details if 'الجهد الكهربائي' in fo][0]\n",
    "except:\n",
    "    voltage\n",
    "    //"
   ]
  },
  {
   "cell_type": "code",
   "execution_count": 8,
   "id": "f7b66af9",
   "metadata": {},
   "outputs": [
    {
     "data": {
      "text/plain": [
       "''"
      ]
     },
     "execution_count": 8,
     "metadata": {},
     "output_type": "execute_result"
    }
   ],
   "source": [
    "try:\n",
    "    power = [fo for fo in details if 'االقوة الكهربائية' in fo][0]\n",
    "    print('tit')\n",
    "except:\n",
    "    power = ''\n",
    "power"
   ]
  },
  {
   "cell_type": "code",
   "execution_count": 18,
   "id": "6d0190e6",
   "metadata": {},
   "outputs": [
    {
     "name": "stdout",
     "output_type": "stream",
     "text": [
      "tit\n"
     ]
    },
    {
     "data": {
      "text/plain": [
       "' شاشة تلفزيون عادي'"
      ]
     },
     "execution_count": 18,
     "metadata": {},
     "output_type": "execute_result"
    }
   ],
   "source": [
    "try:\n",
    "    tp = [fo for fo in details if 'النوع' in fo][0].replace('النوع', '')\n",
    "    print('tit')\n",
    "except:\n",
    "    tp = ''\n",
    "try:\n",
    "    size = [fo for fo in details if 'المقاس ' in fo][0].replace('المقاس ', '')\n",
    "    print('tit')\n",
    "except:\n",
    "    size = ''\n",
    "tp"
   ]
  },
  {
   "cell_type": "code",
   "execution_count": 20,
   "id": "7cabcd31",
   "metadata": {},
   "outputs": [
    {
     "name": "stdout",
     "output_type": "stream",
     "text": [
      "tit\n"
     ]
    },
    {
     "data": {
      "text/plain": [
       "'32 بوصه'"
      ]
     },
     "execution_count": 20,
     "metadata": {},
     "output_type": "execute_result"
    }
   ],
   "source": [
    "try:\n",
    "    size = [fo for fo in details if 'المقاس ' in fo][0].replace('المقاس ', '')\n",
    "    print('tit')\n",
    "except:\n",
    "    size = ''\n",
    "size"
   ]
  },
  {
   "cell_type": "code",
   "execution_count": null,
   "id": "2e8337ca",
   "metadata": {},
   "outputs": [],
   "source": []
  },
  {
   "cell_type": "code",
   "execution_count": 11,
   "id": "5007d22b",
   "metadata": {},
   "outputs": [
    {
     "data": {
      "text/plain": [
       "['معلومات اخرى',\n",
       " 'القوة الكهربائية 800 واط',\n",
       " 'بلد الصنع صنع في الصين',\n",
       " 'اللون الأصفر',\n",
       " 'الموديل DWB800',\n",
       " 'الضمان ضمان الوكيل سنتين',\n",
       " 'التردد الكهربائي 50 - 60 هيرتز',\n",
       " 'الجهد الكهربائي 220/240 فولت',\n",
       " 'الابعاد 33x20x22 cm']"
      ]
     },
     "execution_count": 11,
     "metadata": {},
     "output_type": "execute_result"
    }
   ],
   "source": [
    "details"
   ]
  },
  {
   "cell_type": "code",
   "execution_count": 15,
   "id": "45edcf22",
   "metadata": {},
   "outputs": [
    {
     "data": {
      "text/plain": [
       "'33x20x22'"
      ]
     },
     "execution_count": 15,
     "metadata": {},
     "output_type": "execute_result"
    }
   ],
   "source": [
    "product_size = [fo for fo in details if 'الابعاد' in fo][0].replace('الابعاد', '').replace('cm', '').strip()\n",
    "product_size\n",
    "//"
   ]
  },
  {
   "cell_type": "code",
   "execution_count": null,
   "id": "9791c823",
   "metadata": {},
   "outputs": [],
   "source": []
  },
  {
   "cell_type": "code",
   "execution_count": 14,
   "id": "b77ed7b2",
   "metadata": {},
   "outputs": [
    {
     "data": {
      "text/plain": [
       "'800'"
      ]
     },
     "execution_count": 14,
     "metadata": {},
     "output_type": "execute_result"
    }
   ],
   "source": [
    "power = [fo for fo in details if 'القوة الكهربائية' in fo][0].replace('القوة الكهربائية', '').replace('واط', '').strip()\n",
    "power\n",
    "//"
   ]
  },
  {
   "cell_type": "code",
   "execution_count": 165,
   "id": "6988a25f",
   "metadata": {},
   "outputs": [
    {
     "data": {
      "text/plain": [
       "5"
      ]
     },
     "execution_count": 165,
     "metadata": {},
     "output_type": "execute_result"
    }
   ],
   "source": [
    "cats = driver.find_elements_by_xpath('//div[@class=\"breadcrumbs\"]//li')\n",
    "len(cats)//"
   ]
  },
  {
   "cell_type": "code",
   "execution_count": 167,
   "id": "4cfbc905",
   "metadata": {},
   "outputs": [
    {
     "data": {
      "text/plain": [
       "'العنايه الشخصيه'"
      ]
     },
     "execution_count": 167,
     "metadata": {},
     "output_type": "execute_result"
    }
   ],
   "source": [
    "cat1 = cats[1].text\n",
    "cat1//"
   ]
  },
  {
   "cell_type": "code",
   "execution_count": 97,
   "id": "e18256fd",
   "metadata": {},
   "outputs": [
    {
     "data": {
      "text/plain": [
       "'عادة في نفس اليوم جدة. - عادة في نفس اليوم جدة.'"
      ]
     },
     "execution_count": 97,
     "metadata": {},
     "output_type": "execute_result"
    }
   ],
   "source": [
    "estimated_delivery_text1 = driver.find_elements_by_class_name('widedelivery-container')[0].text\n",
    "estimated_delivery_text2 = driver.find_elements_by_class_name('widedelivery-container')[1].text\n",
    "estimated_delivery_text = estimated_delivery_text1  + ' - ' + estimated_delivery_text1 \n",
    "estimated_delivery_text"
   ]
  },
  {
   "cell_type": "code",
   "execution_count": 96,
   "id": "24762ee1",
   "metadata": {},
   "outputs": [
    {
     "data": {
      "text/plain": [
       "'عادة في غضون 4-5 أيام خارج جدة.'"
      ]
     },
     "execution_count": 96,
     "metadata": {},
     "output_type": "execute_result"
    }
   ],
   "source": [
    "estimated_delivery_text2 = driver.find_elements_by_class_name('widedelivery-container')[1].text\n",
    "estimated_delivery_text2"
   ]
  },
  {
   "cell_type": "code",
   "execution_count": null,
   "id": "e0964365",
   "metadata": {},
   "outputs": [],
   "source": []
  },
  {
   "cell_type": "code",
   "execution_count": null,
   "id": "6106735c",
   "metadata": {},
   "outputs": [],
   "source": []
  },
  {
   "cell_type": "code",
   "execution_count": null,
   "id": "e8a38cb4",
   "metadata": {},
   "outputs": [],
   "source": []
  },
  {
   "cell_type": "code",
   "execution_count": null,
   "id": "5a99cf46",
   "metadata": {},
   "outputs": [],
   "source": [
    "https://shatristore.com/pub/media/catalog/product/re-2042-3.png\n",
    "https://shatristore.com/pub/media/catalog/product/cache/8564f01c48ad13e49c920532682fbe1b/r/e/re-2042-3.png"
   ]
  },
  {
   "cell_type": "code",
   "execution_count": null,
   "id": "6cf27b95",
   "metadata": {},
   "outputs": [],
   "source": [
    "https://shatristore.com/pub/media/catalog/product/cache/8564f01c48ad13e49c920532682fbe1b/r/e/re-2042-2.png"
   ]
  },
  {
   "cell_type": "code",
   "execution_count": null,
   "id": "9bd7c308",
   "metadata": {},
   "outputs": [],
   "source": [
    "https://shatristore.com/pub/media/catalog/product/cache/2e24353f833bba322b482bccad1c1fdf/u/e/uehd-403.png"
   ]
  },
  {
   "cell_type": "code",
   "execution_count": 116,
   "id": "5bad418a",
   "metadata": {},
   "outputs": [
    {
     "data": {
      "text/plain": [
       "3"
      ]
     },
     "execution_count": 116,
     "metadata": {},
     "output_type": "execute_result"
    }
   ],
   "source": [
    "flot_imgs = driver.find_elements_by_xpath('//div[@class=\"fotorama__nav__frame fotorama__nav__frame--thumb\"]')\n",
    "len(flot_imgs)"
   ]
  },
  {
   "cell_type": "code",
   "execution_count": 135,
   "id": "a0f93f29",
   "metadata": {},
   "outputs": [
    {
     "data": {
      "text/plain": [
       "'https://shatristore.com/pub/media/catalog/product/cache/2e24353f833bba322b482bccad1c1fdf/r/e/re-2042-1.png'"
      ]
     },
     "execution_count": 135,
     "metadata": {},
     "output_type": "execute_result"
    }
   ],
   "source": [
    "toto = driver.find_element_by_class_name('fotorama__img').get_attribute('src')\n",
    "toto"
   ]
  },
  {
   "cell_type": "code",
   "execution_count": 151,
   "id": "76c479dd",
   "metadata": {},
   "outputs": [
    {
     "data": {
      "text/plain": [
       "3"
      ]
     },
     "execution_count": 151,
     "metadata": {},
     "output_type": "execute_result"
    }
   ],
   "source": [
    "flot_imgs = driver.find_elements_by_xpath('//div[@class=\"fotorama__stage__shaft fotorama__grab\"]//img')\n",
    "len(flot_imgs)"
   ]
  },
  {
   "cell_type": "code",
   "execution_count": 150,
   "id": "98a14f4c",
   "metadata": {},
   "outputs": [
    {
     "data": {
      "text/plain": [
       "'https://shatristore.com/pub/media/catalog/product/cache/2e24353f833bba322b482bccad1c1fdf/r/e/re-2042.png'"
      ]
     },
     "execution_count": 150,
     "metadata": {},
     "output_type": "execute_result"
    }
   ],
   "source": [
    "image = driver.find_element_by_class_name('fotorama__img').get_attribute('src')\n",
    "image"
   ]
  },
  {
   "cell_type": "code",
   "execution_count": null,
   "id": "53063ac4",
   "metadata": {},
   "outputs": [],
   "source": [
    "fotorama__img"
   ]
  },
  {
   "cell_type": "code",
   "execution_count": 152,
   "id": "435d95aa",
   "metadata": {},
   "outputs": [
    {
     "name": "stdout",
     "output_type": "stream",
     "text": [
      "https://shatristore.com/pub/media/catalog/product/cache/2e24353f833bba322b482bccad1c1fdf/r/e/re-2042.png\n",
      "https://shatristore.com/pub/media/catalog/product/cache/2e24353f833bba322b482bccad1c1fdf/r/e/re-2042-1.png\n",
      "https://shatristore.com/pub/media/catalog/product/cache/2e24353f833bba322b482bccad1c1fdf/r/e/re-2042-3.png\n"
     ]
    }
   ],
   "source": [
    "for img in flot_imgs:\n",
    "    print(img.get_attribute('src'))"
   ]
  },
  {
   "cell_type": "code",
   "execution_count": 153,
   "id": "e4b7ab04",
   "metadata": {},
   "outputs": [
    {
     "name": "stdout",
     "output_type": "stream",
     "text": [
      "3\n"
     ]
    }
   ],
   "source": [
    "list_images = []\n",
    "flot_imgs = driver.find_elements_by_xpath('//div[@class=\"fotorama__stage__shaft fotorama__grab\"]//img')\n",
    "print(len(flot_imgs))\n",
    "for img in flot_imgs:\n",
    "    \n",
    "    list_images.append(img.get_attribute('src'))\n",
    "    time.sleep(2)\n",
    "    \n",
    "    \n",
    "\n"
   ]
  },
  {
   "cell_type": "code",
   "execution_count": 173,
   "id": "418f87fe",
   "metadata": {},
   "outputs": [
    {
     "data": {
      "text/plain": [
       "'نيكاي'"
      ]
     },
     "execution_count": 173,
     "metadata": {},
     "output_type": "execute_result"
    }
   ],
   "source": [
    "brand = driver.find_element_by_xpath('//div[@class=\"product-brand-logo\"]/a/img').get_attribute('title')\n",
    "brand_image = driver.find_element_by_xpath('//div[@class=\"product-brand-logo\"]/a/img').get_attribute('src')\n",
    "brand\n",
    "//"
   ]
  },
  {
   "cell_type": "code",
   "execution_count": 174,
   "id": "a2675bda",
   "metadata": {},
   "outputs": [
    {
     "data": {
      "text/plain": [
       "'https://shatristore.com/pub/media/mageplaza/brand/nikai-_logo-ready_2.png'"
      ]
     },
     "execution_count": 174,
     "metadata": {},
     "output_type": "execute_result"
    }
   ],
   "source": [
    "brand_image = driver.find_element_by_xpath('//div[@class=\"product-brand-logo\"]/a/img').get_attribute('src')\n",
    "brand_image\n",
    "//"
   ]
  },
  {
   "cell_type": "code",
   "execution_count": null,
   "id": "84b4ad11",
   "metadata": {},
   "outputs": [],
   "source": []
  },
  {
   "cell_type": "code",
   "execution_count": null,
   "id": "91322267",
   "metadata": {},
   "outputs": [],
   "source": []
  },
  {
   "cell_type": "code",
   "execution_count": null,
   "id": "3d74aac0",
   "metadata": {},
   "outputs": [],
   "source": []
  },
  {
   "cell_type": "code",
   "execution_count": 154,
   "id": "8fbb2527",
   "metadata": {},
   "outputs": [
    {
     "data": {
      "text/plain": [
       "['https://shatristore.com/pub/media/catalog/product/cache/2e24353f833bba322b482bccad1c1fdf/r/e/re-2042.png',\n",
       " 'https://shatristore.com/pub/media/catalog/product/cache/2e24353f833bba322b482bccad1c1fdf/r/e/re-2042-1.png',\n",
       " 'https://shatristore.com/pub/media/catalog/product/cache/2e24353f833bba322b482bccad1c1fdf/r/e/re-2042-3.png']"
      ]
     },
     "execution_count": 154,
     "metadata": {},
     "output_type": "execute_result"
    }
   ],
   "source": [
    "list_images"
   ]
  },
  {
   "cell_type": "code",
   "execution_count": 73,
   "id": "ebafe101",
   "metadata": {},
   "outputs": [
    {
     "name": "stdout",
     "output_type": "stream",
     "text": [
      "width 210.8 depth 105.4 92.7 71.6\n"
     ]
    }
   ],
   "source": [
    "click_dimension = driver.find_elements_by_class_name('product-tab-heading')[0]\n",
    "click_dimension.click()\n",
    "time.sleep(0.5)\n",
    "dimension = driver.find_elements_by_xpath('//div[@data-tab-class=\"Dimensions\"]/p')\n",
    "width = dimension[0].text.split(' ')[-2].replace('(', '')\n",
    "depth = dimension[1].text.split(' ')[-2].replace('(', '')\n",
    "height = dimension[2].text.split(' ')[-2].replace('(', '')\n",
    "weight = dimension[3].text.split(' ')[-2].replace('(', '')\n",
    "\n",
    "print('width',width, 'depth',depth, height, weight)"
   ]
  },
  {
   "cell_type": "code",
   "execution_count": 67,
   "id": "6f7f185b",
   "metadata": {},
   "outputs": [
    {
     "name": "stdout",
     "output_type": "stream",
     "text": [
      "Width: 83\" (210.8 cm) Depth: 41 1/2\" (105.4 cm) Height: 36 1/2\" (92.7 cm) Weight: 159 lb (71.6 kg)\n"
     ]
    }
   ],
   "source": [
    "dimensions = driver.find_elements_by_xpath('//div[@data-tab-class=\"Dimensions\"]/p')\n",
    "width = dimensions[0].text\n",
    "depth = dimensions[1].text\n",
    "height = dimensions[2].text\n",
    "weight = dimensions[3].text\n",
    "\n",
    "print(width, depth, height, weight)"
   ]
  },
  {
   "cell_type": "code",
   "execution_count": 61,
   "id": "93eb6234",
   "metadata": {},
   "outputs": [
    {
     "data": {
      "text/plain": [
       "'Brown'"
      ]
     },
     "execution_count": 61,
     "metadata": {},
     "output_type": "execute_result"
    }
   ],
   "source": [
    "\n"
   ]
  },
  {
   "cell_type": "code",
   "execution_count": 50,
   "id": "c6148cf4",
   "metadata": {},
   "outputs": [
    {
     "name": "stdout",
     "output_type": "stream",
     "text": [
      "i 0\n",
      "Frame Construction: Kiln dried, laminated, and select hardwoods that are precision machined for fluid and consistent shape.\n",
      "i 1\n",
      "Padding: Pattern cut urethane foam that is padded with felt polyester fibers, assuring the important qualities of comfort, loft, resilience, and good recovery.\n",
      "i 2\n",
      "Seat: A high resilient, high density foam core wrapped with virgin polyester fibers, assuring luxurious comfort and pleasing crown appearance. This is then covered with a special ticking for pillow soft comfort.\n",
      "i 3\n",
      "Seat Back: Filled with precision cut foam and highly resilient polyester fibers or filled with 100% virgin polyester fibers enclosed in a special ticking for pillow soft comfort.\n",
      "i 4\n",
      "Color Family: Brown\n",
      "i 5\n",
      "SKU: SS387-03-087\n",
      "i 6\n",
      "Brand: Hooker Furniture\n",
      "i 7\n",
      "Category: Living Room\n",
      "i 8\n",
      "Description: Exton Stationary Sofa\n",
      "i 9\n",
      "Leather Type: Aniline\n",
      "i 10\n",
      "Status: Active\n",
      "i 11\n",
      "Type: Sofas, Three Cushion Sofas\n"
     ]
    }
   ],
   "source": [
    "for i, detail in enumerate(details):\n",
    "    print('i', i)\n",
    "    print( detail.text)"
   ]
  },
  {
   "cell_type": "code",
   "execution_count": 60,
   "id": "15be3fda",
   "metadata": {},
   "outputs": [
    {
     "data": {
      "text/plain": [
       "'Leather'"
      ]
     },
     "execution_count": 60,
     "metadata": {},
     "output_type": "execute_result"
    }
   ],
   "source": [
    "click_material = driver.find_elements_by_class_name('product-tab-heading')\n",
    "click_material[2].click()\n",
    "toto = driver.find_elements_by_xpath('//div[@data-tab-class=\"DesignElementsFeatures\"]/p')\n",
    "raw_materials = toto[0].text.replace('Material:', '').strip()\n",
    "raw_materials\n"
   ]
  },
  {
   "cell_type": "code",
   "execution_count": 102,
   "id": "2506ca2a",
   "metadata": {},
   "outputs": [
    {
     "data": {
      "text/plain": [
       "'Brown'"
      ]
     },
     "execution_count": 102,
     "metadata": {},
     "output_type": "execute_result"
    }
   ],
   "source": [
    "free_colors = ''\n",
    "click_other = driver.find_elements_by_class_name('product-tab-heading')\n",
    "click_other[3].click()\n",
    "details = driver.find_elements_by_xpath('//div[@data-tab-class=\"OtherDetails\"]/p')\n",
    "for det in details:\n",
    "    if  'Color Family:' in det.text:\n",
    "        free_colors = det.text.replace('Color Family:', '').strip()\n",
    "# free_colors = details[4].text.replace('Color Family:', '').strip()\n",
    "free_colors"
   ]
  },
  {
   "cell_type": "code",
   "execution_count": 89,
   "id": "7dddc23d",
   "metadata": {},
   "outputs": [
    {
     "data": {
      "text/plain": [
       "['https://images2.imgix.net/p4dbimg/5/images/old-english-saddle.jpg',\n",
       " 'https://images2.imgix.net/p4dbimg/5/images/ss387-03-087-silo.jpg']"
      ]
     },
     "execution_count": 89,
     "metadata": {},
     "output_type": "execute_result"
    }
   ],
   "source": [
    "list_images = []\n",
    "images = driver.find_elements_by_xpath('//a[@class=\"mz-thumb\"]')\n",
    "for img in images:\n",
    "    img.click()\n",
    "    toto = driver.find_element_by_xpath('//figure/img')\n",
    "    list_images.append(toto.get_attribute('src').split('?')[0])\n",
    "    time.sleep(0.8)\n",
    "list_images "
   ]
  },
  {
   "cell_type": "code",
   "execution_count": 84,
   "id": "20ef5ee0",
   "metadata": {},
   "outputs": [
    {
     "name": "stdout",
     "output_type": "stream",
     "text": [
      "https://images2.imgix.net/p4dbimg/5/images/ss387-03-087-silo.jpg\n"
     ]
    }
   ],
   "source": []
  },
  {
   "cell_type": "code",
   "execution_count": null,
   "id": "425703f1",
   "metadata": {},
   "outputs": [],
   "source": []
  },
  {
   "cell_type": "code",
   "execution_count": null,
   "id": "a923d28f",
   "metadata": {},
   "outputs": [],
   "source": []
  },
  {
   "cell_type": "code",
   "execution_count": null,
   "id": "5d479390",
   "metadata": {},
   "outputs": [],
   "source": []
  },
  {
   "cell_type": "code",
   "execution_count": null,
   "id": "3588d935",
   "metadata": {},
   "outputs": [],
   "source": []
  },
  {
   "cell_type": "code",
   "execution_count": null,
   "id": "1c831f3c",
   "metadata": {},
   "outputs": [],
   "source": []
  },
  {
   "cell_type": "code",
   "execution_count": 29,
   "id": "45239f58",
   "metadata": {},
   "outputs": [
    {
     "ename": "NoSuchElementException",
     "evalue": "Message: Unable to locate element: //div[contains(text(),\"Style\")]\n",
     "output_type": "error",
     "traceback": [
      "\u001b[0;31m---------------------------------------------------------------------------\u001b[0m",
      "\u001b[0;31mNoSuchElementException\u001b[0m                    Traceback (most recent call last)",
      "\u001b[0;32m<ipython-input-29-d3429a8eb199>\u001b[0m in \u001b[0;36m<module>\u001b[0;34m\u001b[0m\n\u001b[0;32m----> 1\u001b[0;31m \u001b[0mlist_elements\u001b[0m \u001b[0;34m=\u001b[0m \u001b[0mdriver\u001b[0m\u001b[0;34m.\u001b[0m\u001b[0mfind_element_by_xpath\u001b[0m\u001b[0;34m(\u001b[0m\u001b[0;34m'//div[contains(text(),\"Style\")]'\u001b[0m\u001b[0;34m)\u001b[0m\u001b[0;34m.\u001b[0m\u001b[0mtext\u001b[0m\u001b[0;34m\u001b[0m\u001b[0;34m\u001b[0m\u001b[0m\n\u001b[0m\u001b[1;32m      2\u001b[0m \u001b[0mraw_material_list\u001b[0m \u001b[0;34m=\u001b[0m \u001b[0mlist_elements\u001b[0m\u001b[0;34m.\u001b[0m\u001b[0msplit\u001b[0m\u001b[0;34m(\u001b[0m\u001b[0;34m'\\n'\u001b[0m\u001b[0;34m)\u001b[0m\u001b[0;34m\u001b[0m\u001b[0;34m\u001b[0m\u001b[0m\n\u001b[1;32m      3\u001b[0m \u001b[0mraw_material\u001b[0m \u001b[0;34m=\u001b[0m \u001b[0;34m[\u001b[0m\u001b[0mele\u001b[0m \u001b[0;32mfor\u001b[0m \u001b[0mele\u001b[0m \u001b[0;32min\u001b[0m \u001b[0mraw_material_list\u001b[0m \u001b[0;32mif\u001b[0m \u001b[0;34m'Material'\u001b[0m \u001b[0;32min\u001b[0m \u001b[0mele\u001b[0m\u001b[0;34m]\u001b[0m\u001b[0;34m[\u001b[0m\u001b[0;36m0\u001b[0m\u001b[0;34m]\u001b[0m\u001b[0;34m.\u001b[0m\u001b[0msplit\u001b[0m\u001b[0;34m(\u001b[0m\u001b[0;34m':'\u001b[0m\u001b[0;34m)\u001b[0m\u001b[0;34m[\u001b[0m\u001b[0;36m1\u001b[0m\u001b[0;34m]\u001b[0m\u001b[0;34m.\u001b[0m\u001b[0mstrip\u001b[0m\u001b[0;34m(\u001b[0m\u001b[0;34m)\u001b[0m\u001b[0;34m\u001b[0m\u001b[0;34m\u001b[0m\u001b[0m\n\u001b[1;32m      4\u001b[0m \u001b[0mraw_material\u001b[0m\u001b[0;34m\u001b[0m\u001b[0;34m\u001b[0m\u001b[0m\n",
      "\u001b[0;32m~/anaconda3/lib/python3.8/site-packages/selenium/webdriver/remote/webdriver.py\u001b[0m in \u001b[0;36mfind_element_by_xpath\u001b[0;34m(self, xpath)\u001b[0m\n\u001b[1;32m    392\u001b[0m             \u001b[0melement\u001b[0m \u001b[0;34m=\u001b[0m \u001b[0mdriver\u001b[0m\u001b[0;34m.\u001b[0m\u001b[0mfind_element_by_xpath\u001b[0m\u001b[0;34m(\u001b[0m\u001b[0;34m'//div/td[1]'\u001b[0m\u001b[0;34m)\u001b[0m\u001b[0;34m\u001b[0m\u001b[0;34m\u001b[0m\u001b[0m\n\u001b[1;32m    393\u001b[0m         \"\"\"\n\u001b[0;32m--> 394\u001b[0;31m         \u001b[0;32mreturn\u001b[0m \u001b[0mself\u001b[0m\u001b[0;34m.\u001b[0m\u001b[0mfind_element\u001b[0m\u001b[0;34m(\u001b[0m\u001b[0mby\u001b[0m\u001b[0;34m=\u001b[0m\u001b[0mBy\u001b[0m\u001b[0;34m.\u001b[0m\u001b[0mXPATH\u001b[0m\u001b[0;34m,\u001b[0m \u001b[0mvalue\u001b[0m\u001b[0;34m=\u001b[0m\u001b[0mxpath\u001b[0m\u001b[0;34m)\u001b[0m\u001b[0;34m\u001b[0m\u001b[0;34m\u001b[0m\u001b[0m\n\u001b[0m\u001b[1;32m    395\u001b[0m \u001b[0;34m\u001b[0m\u001b[0m\n\u001b[1;32m    396\u001b[0m     \u001b[0;32mdef\u001b[0m \u001b[0mfind_elements_by_xpath\u001b[0m\u001b[0;34m(\u001b[0m\u001b[0mself\u001b[0m\u001b[0;34m,\u001b[0m \u001b[0mxpath\u001b[0m\u001b[0;34m)\u001b[0m\u001b[0;34m:\u001b[0m\u001b[0;34m\u001b[0m\u001b[0;34m\u001b[0m\u001b[0m\n",
      "\u001b[0;32m~/anaconda3/lib/python3.8/site-packages/selenium/webdriver/remote/webdriver.py\u001b[0m in \u001b[0;36mfind_element\u001b[0;34m(self, by, value)\u001b[0m\n\u001b[1;32m    974\u001b[0m                 \u001b[0mby\u001b[0m \u001b[0;34m=\u001b[0m \u001b[0mBy\u001b[0m\u001b[0;34m.\u001b[0m\u001b[0mCSS_SELECTOR\u001b[0m\u001b[0;34m\u001b[0m\u001b[0;34m\u001b[0m\u001b[0m\n\u001b[1;32m    975\u001b[0m                 \u001b[0mvalue\u001b[0m \u001b[0;34m=\u001b[0m \u001b[0;34m'[name=\"%s\"]'\u001b[0m \u001b[0;34m%\u001b[0m \u001b[0mvalue\u001b[0m\u001b[0;34m\u001b[0m\u001b[0;34m\u001b[0m\u001b[0m\n\u001b[0;32m--> 976\u001b[0;31m         return self.execute(Command.FIND_ELEMENT, {\n\u001b[0m\u001b[1;32m    977\u001b[0m             \u001b[0;34m'using'\u001b[0m\u001b[0;34m:\u001b[0m \u001b[0mby\u001b[0m\u001b[0;34m,\u001b[0m\u001b[0;34m\u001b[0m\u001b[0;34m\u001b[0m\u001b[0m\n\u001b[1;32m    978\u001b[0m             'value': value})['value']\n",
      "\u001b[0;32m~/anaconda3/lib/python3.8/site-packages/selenium/webdriver/remote/webdriver.py\u001b[0m in \u001b[0;36mexecute\u001b[0;34m(self, driver_command, params)\u001b[0m\n\u001b[1;32m    319\u001b[0m         \u001b[0mresponse\u001b[0m \u001b[0;34m=\u001b[0m \u001b[0mself\u001b[0m\u001b[0;34m.\u001b[0m\u001b[0mcommand_executor\u001b[0m\u001b[0;34m.\u001b[0m\u001b[0mexecute\u001b[0m\u001b[0;34m(\u001b[0m\u001b[0mdriver_command\u001b[0m\u001b[0;34m,\u001b[0m \u001b[0mparams\u001b[0m\u001b[0;34m)\u001b[0m\u001b[0;34m\u001b[0m\u001b[0;34m\u001b[0m\u001b[0m\n\u001b[1;32m    320\u001b[0m         \u001b[0;32mif\u001b[0m \u001b[0mresponse\u001b[0m\u001b[0;34m:\u001b[0m\u001b[0;34m\u001b[0m\u001b[0;34m\u001b[0m\u001b[0m\n\u001b[0;32m--> 321\u001b[0;31m             \u001b[0mself\u001b[0m\u001b[0;34m.\u001b[0m\u001b[0merror_handler\u001b[0m\u001b[0;34m.\u001b[0m\u001b[0mcheck_response\u001b[0m\u001b[0;34m(\u001b[0m\u001b[0mresponse\u001b[0m\u001b[0;34m)\u001b[0m\u001b[0;34m\u001b[0m\u001b[0;34m\u001b[0m\u001b[0m\n\u001b[0m\u001b[1;32m    322\u001b[0m             response['value'] = self._unwrap_value(\n\u001b[1;32m    323\u001b[0m                 response.get('value', None))\n",
      "\u001b[0;32m~/anaconda3/lib/python3.8/site-packages/selenium/webdriver/remote/errorhandler.py\u001b[0m in \u001b[0;36mcheck_response\u001b[0;34m(self, response)\u001b[0m\n\u001b[1;32m    240\u001b[0m                 \u001b[0malert_text\u001b[0m \u001b[0;34m=\u001b[0m \u001b[0mvalue\u001b[0m\u001b[0;34m[\u001b[0m\u001b[0;34m'alert'\u001b[0m\u001b[0;34m]\u001b[0m\u001b[0;34m.\u001b[0m\u001b[0mget\u001b[0m\u001b[0;34m(\u001b[0m\u001b[0;34m'text'\u001b[0m\u001b[0;34m)\u001b[0m\u001b[0;34m\u001b[0m\u001b[0;34m\u001b[0m\u001b[0m\n\u001b[1;32m    241\u001b[0m             \u001b[0;32mraise\u001b[0m \u001b[0mexception_class\u001b[0m\u001b[0;34m(\u001b[0m\u001b[0mmessage\u001b[0m\u001b[0;34m,\u001b[0m \u001b[0mscreen\u001b[0m\u001b[0;34m,\u001b[0m \u001b[0mstacktrace\u001b[0m\u001b[0;34m,\u001b[0m \u001b[0malert_text\u001b[0m\u001b[0;34m)\u001b[0m\u001b[0;34m\u001b[0m\u001b[0;34m\u001b[0m\u001b[0m\n\u001b[0;32m--> 242\u001b[0;31m         \u001b[0;32mraise\u001b[0m \u001b[0mexception_class\u001b[0m\u001b[0;34m(\u001b[0m\u001b[0mmessage\u001b[0m\u001b[0;34m,\u001b[0m \u001b[0mscreen\u001b[0m\u001b[0;34m,\u001b[0m \u001b[0mstacktrace\u001b[0m\u001b[0;34m)\u001b[0m\u001b[0;34m\u001b[0m\u001b[0;34m\u001b[0m\u001b[0m\n\u001b[0m\u001b[1;32m    243\u001b[0m \u001b[0;34m\u001b[0m\u001b[0m\n\u001b[1;32m    244\u001b[0m     \u001b[0;32mdef\u001b[0m \u001b[0m_value_or_default\u001b[0m\u001b[0;34m(\u001b[0m\u001b[0mself\u001b[0m\u001b[0;34m,\u001b[0m \u001b[0mobj\u001b[0m\u001b[0;34m,\u001b[0m \u001b[0mkey\u001b[0m\u001b[0;34m,\u001b[0m \u001b[0mdefault\u001b[0m\u001b[0;34m)\u001b[0m\u001b[0;34m:\u001b[0m\u001b[0;34m\u001b[0m\u001b[0;34m\u001b[0m\u001b[0m\n",
      "\u001b[0;31mNoSuchElementException\u001b[0m: Message: Unable to locate element: //div[contains(text(),\"Style\")]\n"
     ]
    }
   ],
   "source": [
    "list_elements = driver.find_element_by_xpath('//div[contains(text(),\"Style\")]').text\n",
    "raw_material_list = list_elements.split('\\n')\n",
    "raw_material = [ele for ele in raw_material_list if 'Material' in ele][0].split(':')[1].strip()\n",
    "raw_material"
   ]
  },
  {
   "cell_type": "code",
   "execution_count": null,
   "id": "c7994776",
   "metadata": {},
   "outputs": [],
   "source": []
  },
  {
   "cell_type": "code",
   "execution_count": null,
   "id": "47948402",
   "metadata": {},
   "outputs": [],
   "source": []
  },
  {
   "cell_type": "code",
   "execution_count": 47,
   "id": "19f2e607",
   "metadata": {},
   "outputs": [
    {
     "data": {
      "text/plain": [
       "(0, 0, 0)"
      ]
     },
     "execution_count": 47,
     "metadata": {},
     "output_type": "execute_result"
    }
   ],
   "source": [
    "pich = 'Dimensions In Centimeters: w- 215.01 x d- 307.54 x h- 134.8'"
   ]
  },
  {
   "cell_type": "code",
   "execution_count": 131,
   "id": "77da91f5",
   "metadata": {},
   "outputs": [
    {
     "name": "stdout",
     "output_type": "stream",
     "text": [
      "84.65\n"
     ]
    }
   ],
   "source": [
    "pich = 'Dimensions In Inches: w-84.65 x d-121.08 x h-53.07'\n",
    "regex = re.compile(r'Dimensions In Inches: w-(?P<width>\\s*\\d*.?\\d+\\s*) x d-(?P<lenght>\\s*\\d*.?\\d+\\s*) x h-(?P<hight>\\s*\\d*.?\\d+\\s*)')\n",
    "p = re.match(regex, pich)\n",
    "print(p['width'])"
   ]
  },
  {
   "cell_type": "code",
   "execution_count": 65,
   "id": "2396b013",
   "metadata": {},
   "outputs": [
    {
     "name": "stdout",
     "output_type": "stream",
     "text": [
      "W: 215.01\n",
      "H: 134.8\n",
      "L: 307.54\n"
     ]
    },
    {
     "data": {
      "text/plain": [
       "(215.01, 307.54, 134.8)"
      ]
     },
     "execution_count": 65,
     "metadata": {},
     "output_type": "execute_result"
    }
   ],
   "source": [
    "clear_size(pich)"
   ]
  },
  {
   "cell_type": "code",
   "execution_count": 64,
   "id": "ee7ad6cc",
   "metadata": {},
   "outputs": [],
   "source": [
    "def clear_size(text):\n",
    "    regex = re.compile(r'Dimensions In Inches:w- (?P<width>\\s*\\d*.?\\d+\\s*) x d- (?P<lenght>\\s*\\d*.?\\d+\\s*) x h- (?P<hight>\\s*\\d*.?\\d+\\s*)')\n",
    "    p = re.match(regex, text)\n",
    "    \n",
    "    if p != None:   \n",
    "        width = p['width']   \n",
    "        lenght = p['lenght'] \n",
    "        height = p['hight'] \n",
    "        print('W:', width)\n",
    "        print('H:', height)\n",
    "        print('L:', lenght)\n",
    "        return float(width) , float(lenght) , float(height) \n",
    "    else:\n",
    "        width = 0  \n",
    "        lenght = 0\n",
    "        height = 0\n",
    "        return width, lenght, height"
   ]
  },
  {
   "cell_type": "code",
   "execution_count": null,
   "id": "0c041d77",
   "metadata": {},
   "outputs": [],
   "source": []
  },
  {
   "cell_type": "code",
   "execution_count": 28,
   "id": "8cc03281",
   "metadata": {},
   "outputs": [
    {
     "data": {
      "text/plain": [
       "'25.4x25.4x33.02'"
      ]
     },
     "execution_count": 28,
     "metadata": {},
     "output_type": "execute_result"
    }
   ],
   "source": []
  },
  {
   "cell_type": "markdown",
   "id": "f57e48a4",
   "metadata": {},
   "source": [
    "# Regex size"
   ]
  },
  {
   "cell_type": "code",
   "execution_count": 192,
   "id": "215e7d42",
   "metadata": {
    "scrolled": true
   },
   "outputs": [
    {
     "data": {
      "text/plain": [
       "'Glass'"
      ]
     },
     "execution_count": 192,
     "metadata": {},
     "output_type": "execute_result"
    }
   ],
   "source": [
    "matters2 = driver.find_elements_by_xpath(\"//div[contains(@class, 'product__material2')]/span\")\n",
    "matter2 = matters2[1].text\n",
    "matter2\n",
    "   "
   ]
  },
  {
   "cell_type": "code",
   "execution_count": 40,
   "id": "184fd98b",
   "metadata": {},
   "outputs": [],
   "source": [
    "df = pd.read_excel('spring_model.xlsx')"
   ]
  },
  {
   "cell_type": "code",
   "execution_count": 102,
   "id": "9c343065",
   "metadata": {},
   "outputs": [
    {
     "data": {
      "text/plain": [
       "4"
      ]
     },
     "execution_count": 102,
     "metadata": {},
     "output_type": "execute_result"
    }
   ],
   "source": [
    "len(links_products)"
   ]
  },
  {
   "cell_type": "code",
   "execution_count": 136,
   "id": "97bdf67b",
   "metadata": {},
   "outputs": [
    {
     "name": "stdout",
     "output_type": "stream",
     "text": [
      "Dimensions In Inches: w-84.65 x d-121.08 x h-53.07\n",
      "W: 84.65\n",
      "H: 53.07\n",
      "L: 121.08\n"
     ]
    }
   ],
   "source": [
    "dimension = driver.find_element_by_xpath('//div[contains(text(),\"Dimensions In Inches:\")]').text\n",
    "print(dimension) \n",
    "    \n",
    "   \n",
    "width , height , length = clear_size(dimension)"
   ]
  },
  {
   "cell_type": "code",
   "execution_count": 95,
   "id": "3f29408b",
   "metadata": {},
   "outputs": [
    {
     "data": {
      "text/plain": [
       "'Living Room'"
      ]
     },
     "execution_count": 95,
     "metadata": {},
     "output_type": "execute_result"
    }
   ],
   "source": [
    "cats = driver.find_elements_by_xpath('//li[@itemprop=\"itemListElement\"]/a/span')\n",
    "cat1 = cats[-4].text\n",
    "cat2 = cats[-3].text\n",
    "cat3 = cats[-2].text"
   ]
  },
  {
   "cell_type": "code",
   "execution_count": 3,
   "id": "12c11bd2",
   "metadata": {},
   "outputs": [],
   "source": [
    "links = pd.read_excel('/home/wafistos/Documents/Projects/scaping_wafi/shatristore/shatristore_is_stock.xlsx')"
   ]
  },
  {
   "cell_type": "code",
   "execution_count": 5,
   "id": "0bd81a12",
   "metadata": {},
   "outputs": [
    {
     "data": {
      "text/plain": [
       "Index(['sku', 'name', 'link_url', 'is_in_stock'], dtype='object')"
      ]
     },
     "execution_count": 5,
     "metadata": {},
     "output_type": "execute_result"
    }
   ],
   "source": [
    "links.columns"
   ]
  },
  {
   "cell_type": "code",
   "execution_count": 4,
   "id": "680c8501",
   "metadata": {},
   "outputs": [],
   "source": [
    "links_products = links['link_url'].to_list()"
   ]
  },
  {
   "cell_type": "code",
   "execution_count": 5,
   "id": "5e33b83b",
   "metadata": {},
   "outputs": [
    {
     "data": {
      "text/plain": [
       "829"
      ]
     },
     "execution_count": 5,
     "metadata": {},
     "output_type": "execute_result"
    }
   ],
   "source": [
    "len(links_products)"
   ]
  },
  {
   "cell_type": "code",
   "execution_count": null,
   "id": "09615a97",
   "metadata": {},
   "outputs": [],
   "source": []
  },
  {
   "cell_type": "markdown",
   "id": "ee1e88a2",
   "metadata": {},
   "source": [
    "# Scrape in stock only"
   ]
  },
  {
   "cell_type": "code",
   "execution_count": 113,
   "id": "59ddab29",
   "metadata": {},
   "outputs": [
    {
     "name": "stdout",
     "output_type": "stream",
     "text": [
      "***********************************************************\n",
      "Count: 0\n",
      "URl: https://shatristore.com/ar/tvs-and-audios/stands/%D8%A8%D9%84%D9%88%D8%AA%D9%83-%D9%82%D8%A7%D8%B9%D8%AF%D9%87-%D8%B1%D8%B3%D9%8A%D9%81%D8%B1-%D8%B2%D8%AC%D8%A7%D8%AC%D9%8A%D8%A9\n",
      "***********************************************************\n",
      "Count: 1\n",
      "URl: https://shatristore.com/ar/tvs-and-audios/stands/%D8%A8%D9%84%D9%88%D8%AA%D9%83-%D9%82%D8%A7%D8%B9%D8%AF%D9%87-%D8%B1%D8%B3%D9%8A%D9%81%D8%B1-%D8%B2%D8%AC%D8%A7%D8%AC%D9%8A%D8%8C-%D8%B1%D9%81-%D9%88%D8%A7%D8%AD%D8%AF\n",
      "***********************************************************\n",
      "Count: 2\n",
      "URl: https://shatristore.com/ar/tvs-and-audios/stands/%D8%A8%D9%84%D9%88%D8%AA%D9%83-%D8%AD%D8%A7%D9%85%D9%84-%D8%B4%D8%A7%D8%B4%D8%A9-%D8%AA%D9%84%D9%81%D8%B2%D9%8A%D9%88%D9%86-%D9%85%D8%AA%D8%AD%D8%B1%D9%83-%D8%8C23-42-%D8%A8%D9%88%D8%B5%D8%A9\n",
      "***********************************************************\n",
      "Count: 3\n",
      "URl: https://shatristore.com/ar/tvs-and-audios/stands/%D8%A8%D9%84%D9%88%D8%AA%D9%83-%D9%82%D8%A7%D8%B9%D8%AF%D9%87-%D8%B1%D8%B3%D9%8A%D9%81%D8%B1-%D8%B2%D8%AC%D8%A7%D8%AC%D9%8A-%D9%83%D8%A8%D9%8A%D8%B1%D8%A9\n",
      "***********************************************************\n",
      "Count: 4\n",
      "URl: https://shatristore.com/ar/tvs-and-audios/stands/%D8%A8%D9%84%D9%88%D8%AA%D9%83-%D8%AD%D8%A7%D9%85%D9%84-%D8%B4%D8%A7%D8%B4%D9%87-%D8%AA%D9%84%D9%81%D8%B2%D9%8A%D9%88%D9%86-%D9%85%D8%AA%D8%AD%D8%B1%D9%83%D8%8C-13-27-%D8%A8%D9%88%D8%B5%D8%A9\n",
      "***********************************************************\n",
      "Count: 5\n",
      "URl: https://shatristore.com/ar/tvs-and-audios/stands/%D8%A8%D9%84%D9%88%D8%AA%D9%83-%D9%82%D8%A7%D8%B9%D8%AF%D9%87-%D8%B1%D8%B3%D9%8A%D9%81%D8%B1-%D8%B2%D8%AC%D8%A7%D8%AC%D9%8A-%D8%8C-%D8%B1%D9%81%D9%8A%D9%86\n",
      "***********************************************************\n",
      "Count: 6\n",
      "URl: https://shatristore.com/ar/tvs-and-audios/stands/%D8%A8%D9%84%D9%88%D8%AA%D9%83-%D8%AD%D8%A7%D9%85%D9%84-%D8%AA%D9%84%D9%81%D8%B2%D9%8A%D9%88%D9%86-%D9%85%D8%AA%D8%AD%D8%B1%D9%83-%D8%8C13-23-%D8%A8%D9%88%D8%B5%D8%A9\n",
      "***********************************************************\n",
      "Count: 7\n",
      "URl: https://shatristore.com/ar/tvs-and-audios/stands/%D8%A8%D9%84%D9%88%D8%AA%D9%83-%D8%AD%D8%A7%D9%85%D9%84-%D8%AA%D9%84%D9%81%D8%B2%D9%8A%D9%88%D9%86-%D9%85%D8%AA%D8%AD%D8%B1%D9%83%D8%8C-13-23-%D8%A8%D9%88%D8%B5%D8%A9\n",
      "***********************************************************\n",
      "Count: 8\n",
      "URl: https://shatristore.com/ar/tvs-and-audios/stands/%D8%A8%D9%84%D9%88%D8%AA%D9%83-%D8%AD%D8%A7%D9%85%D9%84-%D8%AA%D9%84%D9%81%D8%B2%D9%8A%D9%88%D9%86-%D9%85%D8%AA%D8%AD%D8%B1%D9%83-%D8%8C-26-46-%D8%A8%D9%88%D8%B5%D8%A9\n",
      "***********************************************************\n",
      "Count: 9\n",
      "URl: https://shatristore.com/ar/tvs-and-audios/stands/26-55\n",
      "***********************************************************\n",
      "Count: 10\n",
      "URl: https://shatristore.com/ar/tvs-and-audios/stands/%D8%A8%D9%84%D9%88%D8%AA%D9%83-%D8%AD%D8%A7%D9%85%D9%84-%D8%B4%D8%A7%D8%B4%D9%87-%D8%AA%D9%84%D9%81%D8%B2%D9%8A%D9%88%D9%86-%D8%B3%D9%82%D9%81%D9%8A-%D9%85%D8%AA%D8%AD%D8%B1%D9%83%D8%8C-30-64-%D8%A8%D9%88%D8%B5%D8%A9\n",
      "***********************************************************\n",
      "Count: 11\n",
      "URl: https://shatristore.com/ar/tvs-and-audios/stands/23-47\n",
      "***********************************************************\n",
      "Count: 12\n",
      "URl: https://shatristore.com/ar/tvs-and-audios/tvs/30-60\n",
      "***********************************************************\n",
      "Count: 13\n",
      "URl: https://shatristore.com/ar/tvs-and-audios/stands/%D8%A8%D9%84%D9%88%D8%AA%D9%83-%D8%AD%D8%A7%D9%85%D9%84-%D8%AA%D9%84%D9%81%D8%B2%D9%8A%D9%88%D9%86-%D9%85%D8%AA%D8%AD%D8%B1%D9%83-13-23-%D8%A8%D9%88%D8%B5%D8%A9\n",
      "***********************************************************\n",
      "Count: 14\n",
      "URl: https://shatristore.com/ar/tvs-and-audios/stands/tvs-and-audios-stand-fb202-26-55\n",
      "***********************************************************\n",
      "Count: 15\n",
      "URl: https://shatristore.com/ar/tvs-and-audios/stands/shatristor-tilt-wall-stand-26-55\n",
      "***********************************************************\n",
      "Count: 16\n",
      "URl: https://shatristore.com/ar/tvs-and-audios/stands/%D8%A8%D9%84%D9%88%D8%AA%D9%83-%D8%AD%D8%A7%D9%85%D9%84-%D8%B4%D8%A7%D8%B4%D8%A9-%D8%AA%D9%84%D9%81%D8%B2%D9%8A%D9%88%D9%86-%D9%85%D9%83%D8%AA%D8%A8%D9%8A%D8%8C-%D8%B4%D8%A7%D8%B4%D8%AA%D9%8A%D9%86%D8%8C-13-27-%D8%A8%D9%88%D8%B5%D8%A9\n",
      "***********************************************************\n",
      "Count: 17\n",
      "URl: https://shatristore.com/ar/tvs-and-audios/stands/%D8%A8%D9%84%D9%88%D8%AA%D9%83-%D8%AD%D8%A7%D9%85%D9%84-%D8%AA%D9%84%D9%81%D8%B2%D9%8A%D9%88%D9%86-%D9%85%D8%AA%D8%AD%D8%B1%D9%83-%D8%8C10-30-%D8%A8%D9%88%D8%B5%D8%A9\n",
      "***********************************************************\n",
      "Count: 18\n",
      "URl: https://shatristore.com/ar/tvs-and-audios/stands/%D8%A8%D9%84%D9%88%D8%AA%D9%83-%D8%AD%D8%A7%D9%85%D9%84-%D8%B4%D8%A7%D8%B4%D8%A9-%D8%AA%D9%84%D9%81%D8%B2%D9%8A%D9%88%D9%86-%D9%85%D8%AA%D8%AD%D8%B1%D9%83-%D8%8C37-70-%D8%A8%D9%88%D8%B5%D8%A9\n",
      "***********************************************************\n",
      "Count: 19\n",
      "URl: https://shatristore.com/ar/tvs-and-audios/stands/%D8%A8%D9%84%D9%88%D8%AA%D9%83-%D8%AD%D8%A7%D9%85%D9%84-%D8%B4%D8%A7%D8%B4%D8%A9-%D8%AA%D9%84%D9%81%D8%B2%D9%8A%D9%88%D9%86-%D9%85%D9%83%D8%AA%D8%A8%D9%8A%D8%8C-13-27-%D8%A8%D9%88%D8%B5%D8%A9\n",
      "***********************************************************\n",
      "Count: 20\n",
      "URl: https://shatristore.com/ar/tvs-and-audios/stands/%D8%A8%D9%84%D9%88%D8%AA%D9%83-%D8%AD%D8%A7%D9%85%D9%84-%D8%B4%D8%A7%D8%B4%D8%A9-%D8%AA%D9%84%D9%81%D8%B2%D9%8A%D9%88%D9%86-%D9%85%D9%83%D8%AA%D8%A8%D9%8A%D8%8C-13-32-%D8%A8%D9%88%D8%B5%D8%A9-1\n",
      "***********************************************************\n",
      "Count: 21\n",
      "URl: https://shatristore.com/ar/tvs-and-audios/stands/%D8%A8%D9%84%D9%88%D8%AA%D9%83-%D8%AD%D8%A7%D9%85%D9%84-%D8%B4%D8%A7%D8%B4%D8%A9-%D8%AA%D9%84%D9%81%D8%B2%D9%8A%D9%88%D9%86-%D9%85%D9%83%D8%AA%D8%A8%D9%8A%D8%8C-13-27-%D8%A8%D9%88%D8%B5%D8%A9%D8%8C-usb3-0\n",
      "***********************************************************\n",
      "Count: 22\n",
      "URl: https://shatristore.com/ar/tvs-and-audios/stands/%D8%AE%D8%AF%D9%85%D8%A9-%D8%AA%D8%B1%D9%83%D9%8A%D8%A8-%D9%82%D8%A7%D8%B9%D8%AF%D8%A9-%D8%B4%D8%A7%D8%B4%D8%A9-%D8%AC%D8%AF%D8%A7%D8%B1%D9%8A%D8%A9\n",
      "***********************************************************\n",
      "Count: 23\n",
      "URl: https://shatristore.com/ar/tvs-and-audios/stands/%D8%A8%D9%84%D9%88%D8%AA%D9%83-%D8%AD%D8%A7%D9%85%D9%84-%D8%AA%D9%84%D9%81%D8%B2%D9%8A%D9%88%D9%86-%D9%85%D8%AA%D8%AD%D8%B1%D9%83-%D8%8C23-55-%D8%A8%D9%88%D8%B5%D8%A9\n",
      "***********************************************************\n",
      "Count: 24\n",
      "URl: https://shatristore.com/ar/tvs-and-audios/stands/%D8%A8%D9%84%D9%88%D8%AA%D9%83-%D9%82%D8%A7%D8%B9%D8%AF%D8%A9-%D8%B4%D8%A7%D8%B4%D8%A9-%D9%85%D8%AA%D8%AD%D8%B1%D9%83%D8%A9-%D9%85%D9%86-32-%D8%A8%D9%88%D8%B5%D9%87-%D8%A7%D9%84%D9%89-55-%D8%A8%D9%88%D8%B5%D9%87\n",
      "***********************************************************\n",
      "Count: 25\n",
      "URl: https://shatristore.com/ar/tvs-and-audios/stands/%D8%A8%D9%84%D9%88%D8%AA%D9%83-%D8%AD%D8%A7%D9%85%D9%84-%D8%B4%D8%A7%D8%B4%D9%87-%D8%AA%D9%84%D9%81%D8%B2%D9%8A%D9%88%D9%86-%D9%85%D8%AA%D8%AD%D8%B1%D9%83%D8%8C-23-42-%D8%A8%D9%88%D8%B5%D8%A9-1\n",
      "***********************************************************\n",
      "Count: 26\n",
      "URl: https://shatristore.com/ar/tvs-and-audios/radios/%D8%AC%D9%8A-%D9%81%D9%8A-%D8%B3%D9%8A-%D8%A8%D8%B1%D9%88-%D8%B1%D8%A7%D8%AF%D9%8A%D9%88-gvc-8000-%D9%85%D8%AA%D9%86%D9%82%D9%84-usb\n",
      "***********************************************************\n",
      "Count: 27\n",
      "URl: https://shatristore.com/ar/tvs-and-audios/radios/%D8%AC%D9%8A-%D9%81%D9%8A-%D8%B3%D9%8A-%D8%A8%D8%B1%D9%88-%D8%B1%D8%A7%D8%AF%D9%8A%D9%88-gvc-1703-%D9%85%D8%AA%D9%86%D9%82%D9%84-%D8%8Cusb\n",
      "***********************************************************\n",
      "Count: 28\n",
      "URl: https://shatristore.com/ar/tvs-and-audios/radios/%D8%AC%D9%8A-%D9%81%D9%8A-%D8%B3%D9%8A-%D8%A8%D8%B1%D9%88-%D8%B1%D8%A7%D8%AF%D9%8A%D9%88-gvc-1702-%D9%85%D8%AA%D9%86%D9%82%D9%84-%D8%8Cusb\n",
      "***********************************************************\n",
      "Count: 29\n",
      "URl: https://shatristore.com/ar/tvs-and-audios/radios/%D8%A8%D8%A7%D9%86%D8%A7%D8%B3%D9%88%D9%86%D9%8A%D9%83-%D8%B1%D8%A7%D8%AF%D9%8A%D9%88-r-218dd-%D8%A7%D9%84%D9%85%D8%AA%D9%86%D9%82%D9%84\n",
      "***********************************************************\n",
      "Count: 30\n",
      "URl: https://shatristore.com/ar/tvs-and-audios/radios/%D8%A8%D8%A7%D9%86%D8%A7%D8%B3%D9%88%D9%86%D9%8A%D9%83-%D8%B1%D8%A7%D8%AF%D9%8A%D9%88-rf-562d-%D8%A7%D9%84%D9%85%D8%AA%D9%86%D9%82%D9%84\n"
     ]
    },
    {
     "name": "stdout",
     "output_type": "stream",
     "text": [
      "***********************************************************\n",
      "Count: 31\n",
      "URl: https://shatristore.com/ar/tvs-and-audios/receivers/%D8%A7%D9%88%D8%B1%D9%8A%D9%86%D9%88-%D9%85%D9%83%D8%A8%D8%B1-%D8%B5%D9%88%D8%AA-%D9%84%D8%A7%D8%B3%D9%84%D9%83%D9%8A-%D8%8C-%D8%A8%D9%84%D9%88%D8%AA%D9%88%D8%AB-6\n",
      "***********************************************************\n",
      "Count: 32\n",
      "URl: https://shatristore.com/ar/tvs-and-audios/receivers/%D8%A3%D9%88%D8%B1%D9%8A%D9%86%D9%88-%D9%85%D9%83%D8%A8%D8%B1-%D8%B5%D9%88%D8%AA-%D9%84%D8%A7%D8%B3%D9%84%D9%83%D9%8A-%D8%8C-%D8%A8%D9%84%D9%88%D8%AA%D9%88%D8%AB-1\n",
      "***********************************************************\n",
      "Count: 33\n",
      "URl: https://shatristore.com/ar/tvs-and-audios/receivers/%D8%A7%D9%88%D8%B1%D9%8A%D9%86%D9%88-%D9%85%D9%83%D8%A8%D8%B1-%D8%B5%D9%88%D8%AA-%D9%84%D8%A7%D8%B3%D9%84%D9%83%D9%8A-%D8%8C-%D8%A8%D9%84%D9%88%D8%AA%D9%88%D8%AB-7\n",
      "***********************************************************\n",
      "Count: 34\n",
      "URl: https://shatristore.com/ar/tvs-and-audios/receivers/%D8%A7%D9%88%D8%B1%D9%8A%D9%86%D9%88-%D9%85%D9%83%D8%A8%D8%B1-%D8%B5%D9%88%D8%AA-%D9%84%D8%A7%D8%B3%D9%84%D9%83%D9%8A-%D8%8C-%D8%A8%D9%84%D9%88%D8%AA%D9%88%D8%AB-1\n",
      "***********************************************************\n",
      "Count: 35\n",
      "URl: https://shatristore.com/ar/tvs-and-audios/receivers/%D8%A7%D9%88%D8%B1%D9%8A%D9%86%D9%88-%D9%85%D9%83%D8%A8%D8%B1-%D8%B5%D9%88%D8%AA-%D9%84%D8%A7%D8%B3%D9%84%D9%83%D9%8A-%D8%8C-%D8%A8%D9%84%D9%88%D8%AA%D9%88%D8%AB-3\n",
      "***********************************************************\n",
      "Count: 36\n",
      "URl: https://shatristore.com/ar/tvs-and-audios/home-theaters/%D8%AC%D9%8A-%D9%81%D9%8A-%D8%B3%D9%8A-%D8%A8%D8%B1%D9%88-%D9%85%D8%B3%D8%B1%D8%AD-%D9%85%D9%86%D8%B2%D9%84%D9%8A-51\n",
      "***********************************************************\n",
      "Count: 37\n",
      "URl: https://shatristore.com/ar/tvs-and-audios/home-theaters/%D8%AC%D9%8A-%D9%81%D9%8A-%D8%B3%D9%8A-%D8%A8%D8%B1%D9%88-%D9%85%D8%B3%D8%B1%D8%AD-%D9%85%D9%86%D8%B2%D9%84%D9%8A-21-2\n",
      "***********************************************************\n",
      "Count: 38\n",
      "URl: https://shatristore.com/ar/tvs-and-audios/home-theaters/%D8%AC%D9%8A-%D9%81%D9%8A-%D8%B3%D9%8A-%D8%A8%D8%B1%D9%88-%D9%85%D8%B3%D8%B1%D8%AD-%D9%85%D9%86%D8%B2%D9%84%D9%8A-21-1\n",
      "***********************************************************\n",
      "Count: 39\n",
      "URl: https://shatristore.com/ar/tvs-and-audios/home-theaters/%D8%AF%D8%A7%D9%86%D8%B3%D8%A7%D8%AA-%D8%B1%D8%B3%D9%8A%D9%81%D8%B1-%D8%B5%D8%BA%D9%8A%D8%B1-dsr9320\n",
      "***********************************************************\n",
      "Count: 40\n",
      "URl: https://shatristore.com/ar/tvs-and-audios/home-theaters/%D8%AF%D8%A7%D9%86%D8%B3%D8%A7%D8%AA-%D8%B1%D8%B3%D9%8A%D9%81%D8%B1-%D8%B5%D8%BA%D9%8A%D8%B1-hd-993\n",
      "***********************************************************\n",
      "Count: 41\n",
      "URl: https://shatristore.com/ar/tvs-and-audios/home-theaters/%D8%AF%D8%A7%D9%86%D8%B3%D8%A7%D8%AA-%D8%B1%D8%B3%D9%8A%D9%81%D8%B1-%D8%B5%D8%BA%D9%8A%D8%B1-%D8%8C%D8%A7%D8%AA%D8%B4-%D8%AF%D9%8A\n",
      "***********************************************************\n",
      "Count: 42\n",
      "URl: https://shatristore.com/ar/tvs-and-audios/home-theaters/%D9%86%D9%8A%D9%83%D8%A7%D9%8A-%D9%85%D8%B3%D8%B1%D8%AD-%D9%85%D9%86%D8%B2%D9%84%D9%8A-1-5-%D9%82%D9%86%D8%A7%D8%A9\n",
      "***********************************************************\n",
      "Count: 43\n",
      "URl: https://shatristore.com/ar/catalog/product/view/id/44380/s/%D8%AF%D8%A7%D9%86%D8%B3%D8%A7%D8%AA-%D8%B4%D8%A7%D8%B4%D9%87-%D8%AA%D9%84%D9%81%D8%B2%D9%8A%D9%88%D9%86-%D8%A7%D8%AA%D8%B4-%D8%AF%D9%8A%D8%8C-32-%D8%A8%D9%88%D8%B5%D8%A9/category/130/\n",
      "***********************************************************\n",
      "Count: 44\n",
      "URl: https://shatristore.com/ar/tvs-and-audios/tvs/%D8%AC%D9%8A-%D9%81%D9%8A-%D8%B3%D9%8A-%D8%A8%D8%B1%D9%88-%D8%B4%D8%A7%D8%B4%D9%87-%D8%AA%D9%84%D9%81%D8%B2%D9%8A%D9%88%D9%86-%D9%81%D9%84-%D8%A7%D8%AA%D8%B4-%D8%AF%D9%8A-43-%D8%A8%D9%88%D8%B5%D9%87\n",
      "***********************************************************\n",
      "Count: 45\n",
      "URl: https://shatristore.com/ar/catalog/product/view/id/44382/s/%D9%86%D9%8A%D9%83%D8%A7%D9%8A-%D8%B4%D8%A7%D8%B4%D9%87-%D8%AA%D9%84%D9%81%D8%B2%D9%8A%D9%88%D9%86-%D8%A7%D8%AA%D8%B4-%D8%AF%D9%8A%D8%8C-32-%D8%A8%D9%88%D8%B5%D8%A9/category/130/\n",
      "***********************************************************\n",
      "Count: 46\n",
      "URl: https://shatristore.com/ar/tvs-and-audios/tvs/%D9%86%D9%8A%D9%83%D8%A7%D9%8A-%D8%B4%D8%A7%D8%B4%D9%87-%D8%AA%D9%84%D9%81%D8%B2%D9%8A%D9%88%D9%86-%D8%B3%D9%85%D8%A7%D8%B1%D8%AAhd-32-%D8%A8%D9%88%D8%B5%D8%A9\n",
      "***********************************************************\n",
      "Count: 47\n",
      "URl: https://shatristore.com/ar/tvs-and-audios/tvs/24-1\n",
      "***********************************************************\n",
      "Count: 48\n",
      "URl: https://shatristore.com/ar/catalog/product/view/id/44378/s/%D8%AF%D8%A7%D9%86%D8%B3%D8%A7%D8%AA-%D8%B4%D8%A7%D8%B4%D9%87-%D8%AA%D9%84%D9%81%D8%B2%D9%8A%D9%88%D9%86-%D9%81%D9%84-%D8%A7%D8%AA%D8%B4-%D8%AF%D9%8A-39-%D8%A8%D9%88%D8%B5%D9%87/category/130/\n",
      "***********************************************************\n",
      "Count: 49\n",
      "URl: https://shatristore.com/ar/tvs-and-audios/tvs/%D9%86%D9%8A%D9%83%D8%A7%D9%8A-%D8%B4%D8%A7%D8%B4%D8%A9-%D8%AA%D9%84%D9%81%D8%B2%D9%8A%D9%88%D9%86-%D8%B3%D9%85%D8%A7%D8%B1%D8%AA-%D9%81%D9%84-%D8%A7%D8%AA%D8%B4-%D8%AF%D9%8A%D8%8C-43-%D8%A8%D9%88%D8%B5%D8%A9\n",
      "***********************************************************\n",
      "Count: 50\n",
      "URl: https://shatristore.com/ar/tvs-and-audios/tvs/le65u6900ug-4k-65\n",
      "***********************************************************\n",
      "Count: 51\n",
      "URl: https://shatristore.com/ar/tvs-and-audios/tvs/%D9%86%D9%8A%D9%83%D8%A7%D9%8A-%D8%B4%D8%A7%D8%B4%D8%A9-%D8%AA%D9%84%D9%81%D8%B2%D9%8A%D9%88%D9%86-%D8%B3%D9%85%D8%A7%D8%B1%D8%AA-%D9%81%D9%84-%D8%A7%D8%AA%D8%B4-%D8%AF%D9%8A-50-%D8%A8%D9%88%D8%B5%D9%87\n",
      "***********************************************************\n",
      "Count: 52\n",
      "URl: https://shatristore.com/ar/tvs-and-audios/tvs/39\n",
      "***********************************************************\n",
      "Count: 53\n",
      "URl: https://shatristore.com/ar/tvs-and-audios/tvs/%D8%AF%D8%A7%D9%86%D8%B3%D8%A7%D8%AA-%D8%B4%D8%A7%D8%B4%D8%A9-%D8%AA%D9%84%D9%81%D8%B2%D9%8A%D9%88%D9%86-%D8%B3%D9%85%D8%A7%D8%B1%D8%AA-60-%D8%A8%D9%88%D8%B5%D8%A9%D8%8C-4k\n",
      "***********************************************************\n",
      "Count: 54\n",
      "URl: https://shatristore.com/ar/catalog/product/view/id/44387/s/%D8%AF%D8%A7%D9%86%D8%B3%D8%A7%D8%AA-%D8%B4%D8%A7%D8%B4%D9%87-%D8%AA%D9%84%D9%81%D8%B2%D9%8A%D9%88%D9%86-%D8%B3%D9%85%D8%A7%D8%B1%D8%AA-%D9%81%D9%84-%D8%A7%D8%AA%D8%B4-%D8%AF%D9%8A-55-%D8%A8%D9%88%D8%B5%D9%87/category/130/\n",
      "***********************************************************\n",
      "Count: 55\n",
      "URl: https://shatristore.com/ar/tvs-and-audios/tvs/%D8%AF%D8%A7%D9%86%D8%B3%D8%A7%D8%AA-%D8%B4%D8%A7%D8%B4%D8%A9-%D8%AA%D9%84%D9%81%D8%B2%D9%8A%D9%88%D9%86-%D8%B3%D9%85%D8%A7%D8%B1%D8%AA%D8%8C-65-%D8%A8%D9%88%D8%B5%D8%A9%D8%8C-4k\n",
      "***********************************************************\n",
      "Count: 56\n",
      "URl: https://shatristore.com/ar/catalog/product/view/id/44375/s/%D9%86%D9%8A%D9%83%D8%A7%D9%8A-%D8%B4%D8%A7%D8%B4%D9%87-%D8%AA%D9%84%D9%81%D8%B2%D9%8A%D9%88%D9%86-full-hd-40-%D8%A8%D9%88%D8%B5%D8%A9/category/130/\n",
      "***********************************************************\n",
      "Count: 57\n",
      "URl: https://shatristore.com/ar/catalog/product/view/id/44393/s/%D8%AC%D9%8A-%D9%81%D9%8A-%D8%B3%D9%8A-%D8%A8%D8%B1%D9%88-%D8%B4%D8%A7%D8%B4%D9%87-%D8%AA%D9%84%D9%81%D8%B2%D9%8A%D9%88%D9%86-%D8%B3%D9%85%D8%A7%D8%B1%D8%AA-%D9%81%D9%84-%D8%A7%D8%AA%D8%B4-%D8%AF%D9%8A-43-%D8%A8%D9%88%D8%B5%D9%87/category/130/\n",
      "***********************************************************\n",
      "Count: 58\n",
      "URl: https://shatristore.com/ar/catalog/product/view/id/44395/s/%D9%86%D9%8A%D9%83%D8%A7%D9%8A-%D8%B4%D8%A7%D8%B4%D9%87-%D8%AA%D9%84%D9%81%D8%B2%D9%8A%D9%88%D9%86-%D8%B3%D9%85%D8%A7%D8%B1%D8%AA-%D9%81%D9%84-%D8%A7%D8%AA%D8%B4-%D8%AF%D9%8A-40-%D8%A8%D9%88%D8%B5%D8%A9/category/130/\n",
      "***********************************************************\n",
      "Count: 59\n",
      "URl: https://shatristore.com/ar/tvs-and-audios/tvs/%D8%AF%D8%A7%D9%86%D8%B3%D8%A7%D8%AA-%D8%B4%D8%A7%D8%B4%D9%87-%D8%AA%D9%84%D9%81%D8%B2%D9%8A%D9%88%D9%86-%D9%81%D9%84-%D8%A7%D8%AA%D8%B4-%D8%AF%D9%8A-%D8%8C-43-%D8%A8%D9%88%D8%B5%D8%A9\n",
      "***********************************************************\n",
      "Count: 60\n",
      "URl: https://shatristore.com/ar/tvs-and-audios/tvs/%D8%AC%D9%8A-%D9%81%D9%8A-%D8%B3%D9%8A-%D8%A8%D8%B1%D9%88-%D8%B4%D8%A7%D8%B4%D8%A9-%D8%AA%D9%84%D9%81%D8%B2%D9%8A%D9%88%D9%86-%D8%B3%D9%85%D8%A7%D8%B1%D8%AA-50-%D8%A8%D9%88%D8%B5%D8%A9-%D8%8C-4k-ld-50tvus\n"
     ]
    },
    {
     "name": "stdout",
     "output_type": "stream",
     "text": [
      "***********************************************************\n",
      "Count: 61\n",
      "URl: https://shatristore.com/ar/catalog/product/view/id/44371/s/%D9%86%D9%8A%D9%83%D8%A7%D9%8A-%D8%B4%D8%A7%D8%B4%D9%87-%D8%AA%D9%84%D9%81%D8%B2%D9%8A%D9%88%D9%86-%D9%81%D9%84-%D8%A7%D8%AA%D8%B4-%D8%AF%D9%8A%D8%8C-43-%D8%A8%D9%88%D8%B5%D9%87/category/130/\n",
      "***********************************************************\n",
      "Count: 62\n",
      "URl: https://shatristore.com/ar/catalog/product/view/id/44389/s/%D9%86%D9%8A%D9%83%D8%A7%D9%8A-%D8%B4%D8%A7%D8%B4%D9%87-%D8%AA%D9%84%D9%81%D8%B2%D9%8A%D9%88%D9%86-%D8%B3%D9%85%D8%A7%D8%B1%D8%AA-%D9%81%D9%84-%D8%A7%D8%AA%D8%B4-%D8%AF%D9%8A-55-%D8%A8%D9%88%D8%B5%D9%87/category/130/\n",
      "***********************************************************\n",
      "Count: 63\n",
      "URl: https://shatristore.com/ar/tvs-and-audios/tvs/65\n",
      "***********************************************************\n",
      "Count: 64\n",
      "URl: https://shatristore.com/ar/tvs-and-audios/tvs/%D8%AA%D9%8A-%D8%B3%D9%8A-%D8%A7%D9%84-%D8%B4%D8%A7%D8%B4%D8%A9-%D8%AA%D9%84%D9%81%D8%B2%D9%8A%D9%88%D9%86-%D8%A7%D9%86%D8%AF%D8%B1%D9%88%D9%8A%D8%AF-75-%D8%A8%D9%88%D8%B5%D8%A9%D8%8C-4kuhd-75t715\n",
      "***********************************************************\n",
      "Count: 65\n",
      "URl: https://shatristore.com/ar/tvs-and-audios/tvs/%D8%AA%D9%8A-%D8%B3%D9%8A-%D8%A7%D9%84-%D8%B4%D8%A7%D8%B4%D8%A9-%D8%AA%D9%84%D9%81%D8%B2%D9%8A%D9%88%D9%86-%D8%A7%D9%86%D8%AF%D8%B1%D9%88%D9%8A%D8%AF-50-%D8%A8%D9%88%D8%B5%D8%A9%D8%8C-4k-uhd,-50p715\n",
      "***********************************************************\n",
      "Count: 66\n",
      "URl: https://shatristore.com/ar/tvs-and-audios/tvs/%D8%AC%D9%8A-%D9%81%D9%8A-%D8%B3%D9%8A-%D8%A8%D8%B1%D9%88-%D8%B4%D8%A7%D8%B4%D8%A9-%D8%AA%D9%84%D9%81%D8%B2%D9%8A%D9%88%D9%86-%D8%B3%D9%85%D8%A7%D8%B1%D8%AA-%D9%81%D9%84-%D8%A7%D8%AA%D8%B4-%D8%AF%D9%8A-50-%D8%A8%D9%88%D8%B5%D8%A9%D8%8C-ld-50tvs\n",
      "***********************************************************\n",
      "Count: 67\n",
      "URl: https://shatristore.com/ar/tvs-and-audios/tvs/%D8%AC%D9%8A-%D9%81%D9%8A-%D8%B3%D9%8A-%D8%A8%D8%B1%D9%88-%D8%B4%D8%A7%D8%B4%D8%A9-%D8%AA%D9%84%D9%81%D8%B2%D9%8A%D9%88%D9%86-%D8%B3%D9%85%D8%A7%D8%B1%D8%AA%D8%8C-58-%D8%A8%D9%88%D8%B5%D8%A9%D8%8C4k\n",
      "***********************************************************\n",
      "Count: 68\n",
      "URl: https://shatristore.com/ar/tvs-and-audios/tvs/%D8%AC%D9%8A-%D9%81%D9%8A-%D8%B3%D9%8A-%D8%A8%D8%B1%D9%88-%D8%B4%D8%A7%D8%B4%D8%A9-%D8%AA%D9%84%D9%81%D8%B2%D9%8A%D9%88%D9%86-%D8%B3%D9%85%D8%A7%D8%B1%D8%AA%D8%8C-65-%D8%A8%D9%88%D8%B5%D8%A9%D8%8C4k-ld-65tvus\n",
      "***********************************************************\n",
      "Count: 69\n",
      "URl: https://shatristore.com/ar/tvs-and-audios/tvs/7cl-55tvs-55\n",
      "***********************************************************\n",
      "Count: 70\n",
      "URl: https://shatristore.com/ar/tvs-and-audios/tvs/%D8%AA%D9%8A-%D8%B3%D9%8A-%D8%A7%D9%84-%D8%B4%D8%A7%D8%B4%D8%A9-%D8%AA%D9%84%D9%81%D8%B2%D9%8A%D9%88%D9%86-%D8%B0%D9%83%D9%8A-%D8%A7%D9%86%D8%AF%D8%B1%D9%88%D9%8A%D8%AF-55-%D8%A8%D9%88%D8%B5%D8%A9-qled55c715\n",
      "***********************************************************\n",
      "Count: 71\n",
      "URl: https://shatristore.com/ar/tvs-and-audios/tvs/24\n",
      "***********************************************************\n",
      "Count: 72\n",
      "URl: https://shatristore.com/ar/tvs-and-audios/tvs/%D8%AF%D8%A7%D9%86%D8%B3%D8%A7%D8%AA-%D8%B4%D8%A7%D8%B4%D9%87-%D8%AA%D9%84%D9%81%D8%B2%D9%8A%D9%88%D9%86-%D9%83%D9%8A%D8%B1%D9%81-%D8%B3%D9%85%D8%A7%D8%B1%D8%AA%D8%8C-55%D8%A8%D9%88%D8%B5%D8%A9%D8%8C-4k\n",
      "***********************************************************\n",
      "Count: 73\n",
      "URl: https://shatristore.com/ar/tvs-and-audios/stands/%D8%AE%D8%AF%D9%85%D8%A9-%D8%AA%D8%B1%D9%83%D9%8A%D8%A8-%D9%82%D8%A7%D8%B9%D8%AF%D8%A9-%D8%B4%D8%A7%D8%B4%D8%A9-%D8%AC%D8%AF%D8%A7%D8%B1%D9%8A%D8%A9\n",
      "***********************************************************\n",
      "Count: 74\n",
      "URl: https://shatristore.com/ar/tvs-and-audios/tvs/%D8%AC%D9%8A-%D9%81%D9%8A-%D8%B3%D9%8A-%D8%A8%D8%B1%D9%88-%D8%B4%D8%A7%D8%B4%D9%87-%D8%AA%D9%84%D9%81%D8%B2%D9%8A%D9%88%D9%86-%D8%B3%D9%85%D8%A7%D8%B1%D8%AA-%D9%81%D9%84-%D8%A7%D8%AA%D8%B4-%D8%AF%D9%8A-%D8%8C-55-%D8%A8%D9%88%D8%B5%D8%A9-ld-55tvs\n",
      "***********************************************************\n",
      "Count: 75\n",
      "URl: https://shatristore.com/ar/tvs-and-audios/tvs/7-55-4k\n",
      "***********************************************************\n",
      "Count: 76\n",
      "URl: https://shatristore.com/ar/tvs-and-audios/tvs/-65-4k-1-1\n",
      "***********************************************************\n",
      "Count: 77\n",
      "URl: https://shatristore.com/ar/tvs-and-audios/tvs/-50-\n",
      "***********************************************************\n",
      "Count: 78\n",
      "URl: https://shatristore.com/ar/tvs-and-audios/tvs/%D8%AA%D9%8A-%D8%B3%D9%8A-%D8%A7%D9%84-%D8%B4%D8%A7%D8%B4%D8%A9-%D8%AA%D9%84%D9%81%D8%B2%D9%8A%D9%88%D9%86-%D8%A7%D9%86%D8%AF%D8%B1%D9%88%D9%8A%D8%AF-55-%D8%A8%D9%88%D8%B5%D8%A9%D8%8C4kuhd-55t615\n",
      "***********************************************************\n",
      "Count: 79\n",
      "URl: https://shatristore.com/ar/tvs-and-audios/tvs/-4k-58-\n",
      "***********************************************************\n",
      "Count: 80\n",
      "URl: https://shatristore.com/ar/tvs-and-audios/tvs/-4k-50-131766\n",
      "***********************************************************\n",
      "Count: 81\n",
      "URl: https://shatristore.com/ar/tvs-and-audios/tvs/%D8%AC%D9%8A-%D9%81%D9%8A-%D8%B3%D9%8A-%D8%A8%D8%B1%D9%88-%D8%B4%D8%A7%D8%B4%D8%A9-%D8%AA%D9%84%D9%81%D8%B2%D9%8A%D9%88%D9%86-%D8%B3%D9%85%D8%A7%D8%B1%D8%AA%D8%8C-55-%D8%A8%D9%88%D8%B5%D8%A9%D8%8C4k-ld-55tvus\n",
      "***********************************************************\n",
      "Count: 82\n",
      "URl: https://shatristore.com/ar/household-appliances/vacuum/dwb800\n",
      "***********************************************************\n",
      "Count: 83\n",
      "URl: https://shatristore.com/ar/household-appliances/vacuum/gbl800\n",
      "***********************************************************\n",
      "Count: 84\n",
      "URl: https://shatristore.com/ar/household-appliances/vacuum/%D8%A8%D9%8A%D8%B3%D9%8A%D9%84-%D9%85%D9%83%D9%86%D8%B3%D8%A9-%D9%83%D9%87%D8%B1%D8%A8%D8%A7%D8%A6%D9%8A%D8%A9-%D8%A7%D9%84%D8%B9%D9%85%D9%88%D8%AF%D9%8A%D8%A9-450-%D9%88%D8%A7%D8%B7%D8%8C-0.5-%D9%84%D8%AA%D8%B1\n",
      "***********************************************************\n",
      "Count: 85\n",
      "URl: https://shatristore.com/ar/household-appliances/vacuum/2155e-21\n",
      "***********************************************************\n",
      "Count: 86\n",
      "URl: https://shatristore.com/ar/household-appliances/vacuum/2026i-23\n",
      "***********************************************************\n",
      "Count: 87\n",
      "URl: https://shatristore.com/ar/household-appliances/vacuum/2026e-21\n",
      "***********************************************************\n",
      "Count: 88\n",
      "URl: https://shatristore.com/ar/household-appliances/vacuum/%D9%87%D9%8A%D8%AA%D8%A7%D8%B4%D9%8A-%D9%85%D9%83%D9%86%D8%B3%D8%A9-%D9%83%D9%87%D8%B1%D8%A8%D8%A7%D8%A6%D9%8A%D8%A9-%D8%A8%D9%83%D9%8A%D8%B3%D8%8C-1300-%D9%88%D8%A7%D8%B7\n",
      "***********************************************************\n",
      "Count: 89\n",
      "URl: https://shatristore.com/ar/household-appliances/vacuum/%D8%B1%D9%8A%D8%A8%D9%88%D9%86-%D9%85%D9%83%D9%86%D8%B3%D8%A9-%D9%83%D9%87%D8%B1%D8%A8%D8%A7%D8%A6%D9%8A%D8%A9-%D8%A8%D8%B1%D9%85%D9%8A%D9%84%D8%8C-2000-%D9%88%D8%A7%D8%B7-1\n",
      "***********************************************************\n",
      "Count: 90\n",
      "URl: https://shatristore.com/ar/household-appliances/vacuum/%D8%A8%D8%A7%D9%86%D8%A7%D8%B3%D9%88%D9%86%D9%8A%D9%83-%D9%85%D9%83%D9%86%D8%B3%D8%A9-%D8%A8%D8%B1%D9%85%D9%8A%D9%84-%D8%8C-2300-%D9%88%D8%A7%D8%B7\n",
      "***********************************************************\n",
      "Count: 91\n",
      "URl: https://shatristore.com/ar/household-appliances/vacuum/1200-1\n",
      "***********************************************************\n",
      "Count: 92\n",
      "URl: https://shatristore.com/ar/household-appliances/vacuum/%D8%A8%D8%A7%D9%86%D8%A7%D8%B3%D9%88%D9%86%D9%8A%D9%83-%D9%85%D9%83%D9%86%D8%B3%D8%A9-%D9%83%D9%87%D8%B1%D8%A8%D8%A7%D8%A6%D9%8A%D8%A9-%D8%A8%D8%B1%D9%85%D9%8A%D9%84%D8%8C-2300-%D9%88%D8%A7%D8%B7-3\n",
      "***********************************************************\n",
      "Count: 93\n",
      "URl: https://shatristore.com/ar/household-appliances/vacuum/%D8%A8%D8%A7%D9%86%D8%A7%D8%B3%D9%88%D9%86%D9%8A%D9%83-%D9%85%D9%83%D9%86%D8%B3%D8%A9-%D9%83%D9%87%D8%B1%D8%A8%D8%A7%D8%A6%D9%8A%D8%A9-%D8%A8%D8%B1%D9%85%D9%8A%D9%84%D8%8C-2200-%D9%88%D8%A7%D8%B7-2\n",
      "***********************************************************\n",
      "Count: 94\n",
      "URl: https://shatristore.com/ar/household-appliances/vacuum/%D8%AC%D9%8A-%D9%81%D9%8A-%D8%B3%D9%8A-%D8%A8%D8%B1%D9%88-%D9%85%D9%83%D9%86%D8%B3%D8%A9-%D9%83%D9%87%D8%B1%D8%A8%D8%A7%D8%A6%D9%8A%D8%A9-%D8%A8%D8%B1%D9%85%D9%8A%D9%84%D8%8C-1600-%D9%88%D8%A7%D8%B7\n"
     ]
    },
    {
     "name": "stdout",
     "output_type": "stream",
     "text": [
      "***********************************************************\n",
      "Count: 95\n",
      "URl: https://shatristore.com/ar/household-appliances/vacuum/%D8%AC%D9%8A-%D9%81%D9%8A-%D8%B3%D9%8A-%D8%A8%D8%B1%D9%88-%D9%85%D9%83%D9%86%D8%B3%D8%A9-%D9%83%D9%87%D8%B1%D8%A8%D8%A7%D8%A6%D9%8A%D8%A9-%D8%A8%D8%B1%D9%85%D9%8A%D9%84%D8%8C-1800-%D9%88%D8%A7%D8%B7\n",
      "***********************************************************\n",
      "Count: 96\n",
      "URl: https://shatristore.com/ar/household-appliances/vacuum/%D8%AC%D9%8A-%D9%81%D9%8A-%D8%B3%D9%8A-%D8%A8%D8%B1%D9%88-%D9%85%D9%83%D9%86%D8%B3%D8%A9-%D9%83%D9%87%D8%B1%D8%A8%D8%A7%D8%A6%D9%8A%D8%A9-%D8%A8%D8%B1%D9%85%D9%8A%D9%84%D8%8C-2000-%D9%88%D8%A7%D8%B7\n",
      "***********************************************************\n",
      "Count: 97\n",
      "URl: https://shatristore.com/ar/household-appliances/vacuum/%D8%A8%D8%A7%D9%86%D8%A7%D8%B3%D9%88%D9%86%D9%8A%D9%83-%D9%85%D9%83%D9%86%D8%B3%D8%A9-%D9%83%D9%87%D8%B1%D8%A8%D8%A7%D8%A6%D9%8A%D8%A9-%D8%A8%D8%B1%D9%85%D9%8A%D9%84%D8%8C-2100-%D9%88%D8%A7%D8%B7\n",
      "***********************************************************\n",
      "Count: 98\n",
      "URl: https://shatristore.com/ar/household-appliances/vacuum/%D9%87%D9%8A%D8%AA%D8%A7%D8%B4%D9%8A-%D9%85%D9%83%D9%86%D8%B3%D8%A9-%D9%83%D9%87%D8%B1%D8%A8%D8%A7%D8%A6%D9%8A%D8%A9-%D8%A8%D8%B1%D9%85%D9%8A%D9%84-%D8%8C-2100-%D9%88%D8%A7%D8%B7\n",
      "***********************************************************\n",
      "Count: 99\n",
      "URl: https://shatristore.com/ar/household-appliances/vacuum/%D8%AF%D8%A7%D9%86%D8%B3%D8%A7%D8%AA-%D9%85%D9%83%D9%86%D8%B3%D8%A9-%D9%83%D9%87%D8%B1%D8%A8%D8%A7%D8%A6%D9%8A%D8%A9-%D8%A8%D8%B1%D9%85%D9%8A%D9%84%D8%8C-1400-%D9%88%D8%A7%D8%B7-2\n",
      "***********************************************************\n",
      "Count: 100\n",
      "URl: https://shatristore.com/ar/household-appliances/vacuum/%D8%AC%D9%8A-%D9%81%D9%8A-%D8%B3%D9%8A-%D8%A8%D8%B1%D9%88-%D9%85%D9%83%D9%86%D8%B3%D8%A9-%D8%A8%D8%B7%D9%87%D8%8C-%D8%A8%D8%AF%D9%88%D9%86-%D9%83%D9%8A%D8%B3%D8%8C-2200-%D9%88%D8%A7%D8%B7\n",
      "***********************************************************\n",
      "Count: 101\n",
      "URl: https://shatristore.com/ar/household-appliances/vacuum/%D8%AC%D9%8A-%D9%81%D9%8A-%D8%B3%D9%8A-%D8%A8%D8%B1%D9%88-%D9%85%D9%83%D9%86%D8%B3%D8%A9-%D9%83%D9%87%D8%B1%D8%A8%D8%A7%D8%A6%D9%8A%D8%A9-%D8%A8%D8%B7%D9%87-%D9%83%D9%8A%D8%B3%D8%8C-2200-%D9%88%D8%A7%D8%B7-1\n",
      "***********************************************************\n",
      "Count: 102\n",
      "URl: https://shatristore.com/ar/household-appliances/vacuum/%D8%AC%D9%8A-%D9%81%D9%8A-%D8%B3%D9%8A-%D8%A8%D8%B1%D9%88-%D9%85%D9%83%D9%86%D8%B3%D8%A9-%D8%A8%D8%B7%D9%87%D8%8C-%D8%A8%D8%AF%D9%88%D9%86-%D9%83%D9%8A%D8%B3%D8%8C-1800-%D9%88%D8%A7%D8%B7\n",
      "***********************************************************\n",
      "Count: 103\n",
      "URl: https://shatristore.com/ar/household-appliances/vacuum/%D8%AC%D9%8A-%D9%81%D9%8A-%D8%B3%D9%8A-%D8%A8%D8%B1%D9%88-%D9%85%D9%83%D9%86%D8%B3%D8%A9-%D9%83%D9%87%D8%B1%D8%A8%D8%A7%D8%A6%D9%8A%D8%A9-%D8%A8%D8%B7%D9%87-%D9%83%D9%8A%D8%B3%D8%8C-2200-%D9%88%D8%A7%D8%B7\n",
      "***********************************************************\n",
      "Count: 104\n",
      "URl: https://shatristore.com/ar/household-appliances/vacuum/%D8%A8%D8%A7%D9%86%D8%A7%D8%B3%D9%88%D9%86%D9%8A%D9%83-%D9%85%D9%83%D9%86%D8%B3%D8%A9-%D9%83%D9%87%D8%B1%D8%A8%D8%A7%D8%A6%D9%8A%D8%A9-%D8%A8%D8%B7%D9%87%D8%8C-%D8%A8%D8%AF%D9%88%D9%86-%D9%83%D9%8A%D8%B3%D8%8C-1600-%D9%88%D8%A7%D8%B7\n",
      "***********************************************************\n",
      "Count: 105\n",
      "URl: https://shatristore.com/ar/household-appliances/vacuum/%D9%87%D9%88%D9%81%D8%B1-%D9%85%D9%83%D9%86%D8%B3%D8%A9-%D9%83%D9%87%D8%B1%D8%A8%D8%A7%D8%A6%D9%8A%D8%A9-%D8%BA%D8%B3%D9%8A%D9%84-%D8%A7%D9%84%D8%B3%D8%AC%D8%A7%D8%AF%D8%8C-1200-%D9%88%D8%A7%D8%B7\n",
      "***********************************************************\n",
      "Count: 106\n",
      "URl: https://shatristore.com/ar/household-appliances/vacuum/%D9%87%D9%88%D9%81%D8%B1-%D9%85%D9%83%D9%86%D8%B3%D8%A9-%D9%83%D9%87%D8%B1%D8%A8%D8%A7%D8%A6%D9%8A%D8%A9-%D8%BA%D8%B3%D9%8A%D9%84-%D8%A7%D9%84%D8%B3%D8%AC%D8%A7%D8%AF%D8%8C-1350-%D9%88%D8%A7%D8%B7\n",
      "***********************************************************\n",
      "Count: 107\n",
      "URl: https://shatristore.com/ar/household-appliances/vacuum/%D8%A8%D8%A7%D9%86%D8%A7%D8%B3%D9%88%D9%86%D9%8A%D9%83-%D9%85%D9%83%D9%86%D8%B3%D8%A9-%D9%83%D9%87%D8%B1%D8%A8%D8%A7%D8%A6%D9%8A%D8%A9-%D8%A8%D8%B7%D9%87-%D9%83%D9%8A%D8%B3%D8%8C-1400-%D9%88%D8%A7%D8%B7-1\n",
      "***********************************************************\n",
      "Count: 108\n",
      "URl: https://shatristore.com/ar/household-appliances/vacuum/%D8%A8%D8%A7%D9%86%D8%A7%D8%B3%D9%88%D9%86%D9%8A%D9%83-%D9%85%D9%83%D9%86%D8%B3%D8%A9-%D9%83%D9%87%D8%B1%D8%A8%D8%A7%D8%A6%D9%8A%D8%A9-%D8%A8%D8%B7%D9%87-%D9%83%D9%8A%D8%B3%D8%8C-1400-%D9%88%D8%A7%D8%B7\n",
      "***********************************************************\n",
      "Count: 109\n",
      "URl: https://shatristore.com/ar/household-appliances/vacuum/%D9%86%D9%8A%D9%83%D8%A7%D9%8A-%D9%85%D9%83%D9%86%D8%B3%D8%A9-%D9%83%D9%87%D8%B1%D8%A8%D8%A7%D8%A6%D9%8A%D8%A9-%D8%A8%D8%B7%D9%87-%D8%A8%D9%83%D9%8A%D8%B3-%D8%8C-1400-%D9%88%D8%A7%D8%B7\n",
      "***********************************************************\n",
      "Count: 110\n",
      "URl: https://shatristore.com/ar/household-appliances/vacuum/%D8%A8%D8%A7%D9%86%D8%A7%D8%B3%D9%88%D9%86%D9%8A%D9%83-%D9%85%D9%83%D9%86%D8%B3%D8%A9-%D9%83%D9%87%D8%B1%D8%A8%D8%A7%D8%A6%D9%8A%D8%A9-%D8%A8%D8%B7%D9%87-%D9%83%D9%8A%D8%B3%D8%8C-1700-%D9%88%D8%A7%D8%B7\n",
      "***********************************************************\n",
      "Count: 111\n",
      "URl: https://shatristore.com/ar/household-appliances/vacuum/%D8%A8%D8%A7%D9%86%D8%A7%D8%B3%D9%88%D9%86%D9%8A%D9%83-%D9%85%D9%83%D9%86%D8%B3%D8%A9-%D9%83%D9%87%D8%B1%D8%A8%D8%A7%D8%A6%D9%8A%D8%A9-%D8%A8%D8%B7%D9%87-%D9%83%D9%8A%D8%B3%D8%8C-2300-%D9%88%D8%A7%D8%B7\n",
      "***********************************************************\n",
      "Count: 112\n",
      "URl: https://shatristore.com/ar/household-appliances/vacuum/%D9%87%D9%8A%D8%AA%D8%A7%D8%B4%D9%8A-%D9%85%D9%83%D9%86%D8%B3%D8%A9-%D9%83%D9%87%D8%B1%D8%A8%D8%A7%D8%A6%D9%8A%D8%A9-%D8%A8%D8%B1%D9%85%D9%8A%D9%84-%D8%8C-1300-%D9%88%D8%A7%D8%B7\n",
      "***********************************************************\n",
      "Count: 113\n",
      "URl: https://shatristore.com/ar/household-appliances/vacuum/%D8%A8%D8%A7%D9%86%D8%A7%D8%B3%D9%88%D9%86%D9%8A%D9%83-%D9%85%D9%83%D9%86%D8%B3%D8%A9-%D9%83%D9%87%D8%B1%D8%A8%D8%A7%D8%A6%D9%8A%D8%A9-%D8%A8%D8%B1%D9%85%D9%8A%D9%84%D8%8C-1500-%D9%88%D8%A7%D8%B7-1\n",
      "***********************************************************\n",
      "Count: 114\n",
      "URl: https://shatristore.com/ar/household-appliances/vacuum/%D9%87%D9%8A%D8%AA%D8%A7%D8%B4%D9%8A-%D9%85%D9%83%D9%86%D8%B3%D8%A9-%D9%83%D9%87%D8%B1%D8%A8%D8%A7%D8%A6%D9%8A%D8%A9-%D8%A8%D8%B1%D9%85%D9%8A%D9%84%D8%8C-1600-%D9%88%D8%A7%D8%B7\n",
      "***********************************************************\n",
      "Count: 115\n",
      "URl: https://shatristore.com/ar/household-appliances/vacuum/%D8%A8%D8%A7%D9%86%D8%A7%D8%B3%D9%88%D9%86%D9%8A%D9%83-%D9%85%D9%83%D9%86%D8%B3%D8%A9-%D9%83%D9%87%D8%B1%D8%A8%D8%A7%D8%A6%D9%8A%D8%A9-%D8%A8%D8%B1%D9%85%D9%8A%D9%84%D8%8C-1700-%D9%88%D8%A7%D8%B7\n",
      "***********************************************************\n",
      "Count: 116\n",
      "URl: https://shatristore.com/ar/household-appliances/vacuum/%D9%87%D9%8A%D8%AA%D8%A7%D8%B4%D9%8A-%D9%85%D9%83%D9%86%D8%B3%D8%A9-%D9%83%D9%87%D8%B1%D8%A8%D8%A7%D8%A6%D9%8A%D8%A9-%D8%A8%D8%B1%D9%85%D9%8A%D9%84%D8%8C-1800-%D9%88%D8%A7%D8%B7\n",
      "***********************************************************\n",
      "Count: 117\n",
      "URl: https://shatristore.com/ar/household-appliances/vacuum/%D9%87%D9%8A%D8%AA%D8%A7%D8%B4%D9%8A-%D9%85%D9%83%D9%86%D8%B3%D8%A9-%D9%83%D9%87%D8%B1%D8%A8%D8%A7%D8%A6%D9%8A%D8%A9-%D8%A8%D8%B1%D9%85%D9%8A%D9%84%D8%8C-2100-%D9%88%D8%A7%D8%B7-1\n",
      "***********************************************************\n",
      "Count: 118\n",
      "URl: https://shatristore.com/ar/household-appliances/vacuum/%D9%87%D9%8A%D8%AA%D8%A7%D8%B4%D9%8A-%D9%85%D9%83%D9%86%D8%B3%D8%A9-%D9%83%D9%87%D8%B1%D8%A8%D8%A7%D8%A6%D9%8A%D8%A9-%D8%A8%D8%B1%D9%85%D9%8A%D9%84%D8%8C-2300-%D9%88%D8%A7%D8%B7-1\n",
      "***********************************************************\n",
      "Count: 119\n",
      "URl: https://shatristore.com/ar/household-appliances/vacuum/%D8%AF%D8%A7%D9%86%D8%B3%D8%A7%D8%AA-%D9%85%D9%83%D9%86%D8%B3%D8%A9-%D9%83%D9%87%D8%B1%D8%A8%D8%A7%D8%A6%D9%8A%D8%A9-%D8%A8%D8%B1%D9%85%D9%8A%D9%84%D8%8C-1400-%D9%88%D8%A7%D8%B7\n",
      "***********************************************************\n",
      "Count: 120\n",
      "URl: https://shatristore.com/ar/household-appliances/washers-1/gvds-1501\n"
     ]
    },
    {
     "name": "stdout",
     "output_type": "stream",
     "text": [
      "***********************************************************\n",
      "Count: 121\n",
      "URl: https://shatristore.com/ar/household-appliances/washers-1/%D9%86%D9%8A%D9%83%D8%A7%D9%8A-%D8%BA%D8%B3%D8%A7%D9%84%D8%A9-%D8%B5%D8%AD%D9%88%D9%86%D8%8C-6-%D8%A8%D8%B1%D8%A7%D9%85%D8%AC-1\n",
      "***********************************************************\n",
      "Count: 122\n",
      "URl: https://shatristore.com/ar/household-appliances/washers-1/%D9%86%D9%8A%D9%83%D8%A7%D9%8A-%D8%BA%D8%B3%D8%A7%D9%84%D8%A9-%D8%B5%D8%AD%D9%88%D9%86%D8%8C-6-%D8%A8%D8%B1%D8%A7%D9%85%D8%AC\n",
      "***********************************************************\n",
      "Count: 123\n",
      "URl: https://shatristore.com/ar/household-appliances/-1/hw80-bp12829-8-k\n",
      "***********************************************************\n",
      "Count: 124\n",
      "URl: https://shatristore.com/ar/household-appliances/-1/hw100-bp14829-10-k\n",
      "***********************************************************\n",
      "Count: 125\n",
      "URl: https://shatristore.com/ar/household-appliances/-1/hwd100-bp14636-10-k\n",
      "***********************************************************\n",
      "Count: 126\n",
      "URl: https://shatristore.com/ar/household-appliances/-1/ksgw1488-13-5gk\n",
      "***********************************************************\n",
      "Count: 127\n",
      "URl: https://shatristore.com/ar/household-appliances/-1/%D8%B3%D9%88%D8%A8%D8%B1-%D8%AC%D9%86%D8%B1%D8%A7%D9%84-%D8%BA%D8%B3%D8%A7%D9%84%D8%A9-%D8%AD%D9%88%D8%B6%D9%8A%D9%86%D8%8C-12-%D9%83%D9%8A%D9%84%D9%88\n",
      "***********************************************************\n",
      "Count: 128\n",
      "URl: https://shatristore.com/ar/household-appliances/-1/%D8%B3%D9%88%D8%A8%D8%B1-%D8%AC%D9%86%D8%B1%D8%A7%D9%84-%D8%BA%D8%B3%D8%A7%D9%84%D8%A9-%D8%AD%D9%88%D8%B6%D9%8A%D9%86%D8%8C-6-%D9%83%D9%8A%D9%84%D9%88\n",
      "***********************************************************\n",
      "Count: 129\n",
      "URl: https://shatristore.com/ar/household-appliances/-1/ndm700favw-%D9%86%D8%B4%D8%A7%D9%81%D8%A9-%D9%86%D9%8A%D9%83%D8%A7%D9%8A\n",
      "***********************************************************\n",
      "Count: 130\n",
      "URl: https://shatristore.com/ar/household-appliances/-1/%D8%A8%D8%A7%D9%86%D8%A7%D8%B3%D9%88%D9%86%D9%8A%D9%83-%D8%BA%D8%B3%D8%A7%D9%84%D8%A9-%D8%A3%D8%AA%D9%88%D9%85%D8%AA%D9%8A%D9%83%D8%8C-%D9%81%D8%AA%D8%AD%D8%A9-%D8%A3%D9%85%D8%A7%D9%85%D9%8A%D8%8C-7-%D9%83%D9%8A%D9%84%D9%88\n",
      "***********************************************************\n",
      "Count: 131\n",
      "URl: https://shatristore.com/ar/household-appliances/-1/%D9%86%D9%8A%D9%83%D8%A7%D9%8A-%D8%BA%D8%B3%D8%A7%D9%84%D8%A9-%D8%A3%D8%AA%D9%88%D9%85%D8%AA%D9%8A%D9%83%D8%8C-%D9%81%D8%AA%D8%AD%D8%A9-%D8%B9%D9%84%D9%88%D9%8A%D8%8C-11-%D9%83%D9%8A%D9%84%D9%88\n",
      "***********************************************************\n",
      "Count: 132\n",
      "URl: https://shatristore.com/ar/household-appliances/-1/%D9%86%D9%8A%D9%83%D8%A7%D9%8A-%D8%BA%D8%B3%D8%A7%D9%84%D8%A9-%D8%A3%D8%AA%D9%88%D9%85%D8%AA%D9%8A%D9%83%D8%8C-%D9%81%D8%AA%D8%AD%D8%A9-%D8%B9%D9%84%D9%88%D9%8A%D8%8C-7-%D9%83%D9%8A%D9%84%D9%88\n",
      "***********************************************************\n",
      "Count: 133\n",
      "URl: https://shatristore.com/ar/household-appliances/-1/ndms800fhpw-%D9%86%D8%B4%D8%A7%D9%81%D8%A9-%D9%86%D9%8A%D9%83%D8%A7%D9%8A\n",
      "***********************************************************\n",
      "Count: 134\n",
      "URl: https://shatristore.com/ar/household-appliances/-1/%D8%AC%D9%8A-%D9%81%D9%8A-%D8%B3%D9%8A-%D8%A8%D8%B1%D9%88-%D9%86%D8%B4%D8%A7%D9%81%D8%A9-%D8%A8%D9%85%D9%83%D8%AB%D9%81-%D8%A8%D8%B3%D8%B9%D8%A9-8-%D9%83%D9%8A%D9%84%D9%88\n",
      "***********************************************************\n",
      "Count: 135\n",
      "URl: https://shatristore.com/ar/household-appliances/-1/%D8%AF%D8%A7%D9%86%D8%B3%D8%A7%D8%AA-%D8%BA%D8%B3%D8%A7%D9%84%D8%A9-%D8%AD%D9%88%D8%B6%D9%8A%D9%86-14-%D9%83%D9%8A%D9%84%D9%88\n",
      "***********************************************************\n",
      "Count: 136\n",
      "URl: https://shatristore.com/ar/household-appliances/-1/%D9%86%D9%8A%D9%83%D8%A7%D9%8A-%D8%BA%D8%B3%D8%A7%D9%84%D8%A9-%D8%AD%D9%88%D8%B6%D9%8A%D9%86%D8%8C-10-%D9%83%D9%8A%D9%84%D9%88\n",
      "***********************************************************\n",
      "Count: 137\n",
      "URl: https://shatristore.com/ar/household-appliances/-1/%D8%AC%D9%8A-%D9%81%D9%8A-%D8%B3%D9%8A-%D8%A8%D8%B1%D9%88-%D8%BA%D8%B3%D8%A7%D9%84%D8%A9-%D8%AD%D9%88%D8%B6%D9%8A%D9%86%D8%8C-14-%D9%83%D9%8A%D9%84%D9%88\n",
      "***********************************************************\n",
      "Count: 138\n",
      "URl: https://shatristore.com/ar/household-appliances/-1/%D8%AC%D9%8A-%D9%81%D9%8A-%D8%B3%D9%8A-%D8%A8%D8%B1%D9%88-%D8%BA%D8%B3%D8%A7%D9%84%D8%A9-%D8%A3%D8%AA%D9%88%D9%85%D8%AA%D9%8A%D9%83-%D8%8C-%D9%81%D8%AA%D8%AD%D8%A9-%D8%B9%D9%84%D9%88%D9%8A%D8%8C-13-%D9%83%D9%8A%D9%84%D9%88\n",
      "***********************************************************\n",
      "Count: 139\n",
      "URl: https://shatristore.com/ar/household-appliances/-1/%D8%AC%D9%8A-%D9%81%D9%8A-%D8%B3%D9%8A-%D8%A8%D8%B1%D9%88-%D8%BA%D8%B3%D8%A7%D9%84%D8%A9-%D8%AD%D9%88%D8%B6%D9%8A%D9%86%D8%8C-16-%D9%83%D9%8A%D9%84%D9%88\n",
      "***********************************************************\n",
      "Count: 140\n",
      "URl: https://shatristore.com/ar/household-appliances/-1/%D9%86%D9%8A%D9%83%D8%A7%D9%8A-%D8%BA%D8%B3%D8%A7%D9%84%D8%A9-%D8%AD%D9%88%D8%B6%D9%8A%D9%86%D8%8C-7-%D9%83%D9%8A%D9%84%D9%88\n",
      "***********************************************************\n",
      "Count: 141\n",
      "URl: https://shatristore.com/ar/household-appliances/-1/%D8%AF%D8%A7%D9%86%D8%B3%D8%A7%D8%AA-%D8%BA%D8%B3%D8%A7%D9%84%D8%A9-%D8%AD%D9%88%D8%B6%D9%8A%D9%86%D8%8C-5-%D9%83%D9%8A%D9%84%D9%88\n",
      "***********************************************************\n",
      "Count: 142\n",
      "URl: https://shatristore.com/ar/household-appliances/water-dispensers/135\n",
      "***********************************************************\n",
      "Count: 143\n",
      "URl: https://shatristore.com/ar/household-appliances/water-dispensers/%D8%A8%D8%A7%D9%86%D8%A7%D8%B3%D9%88%D9%86%D9%8A%D9%83-%D8%A8%D8%B1%D8%A7%D8%AF%D8%A9-%D9%85%D8%A7%D8%A1%D8%8C-%D8%AA%D8%B9%D8%A8%D8%A6%D8%A9-%D9%85%D9%86-%D8%A7%D9%84%D8%A3-%D8%B9%D9%84%D9%89-1\n",
      "***********************************************************\n",
      "Count: 144\n",
      "URl: https://shatristore.com/ar/household-appliances/water-dispensers/%D8%A7%D9%85%D8%AC%D9%88%D9%8A-%D8%A8%D8%B1%D8%A7%D8%AF%D8%A9-%D9%85%D8%A7%D8%A1%D8%8C-%D8%AA%D8%B9%D8%A8%D8%A6%D8%A9-%D9%85%D9%86-%D8%A7%D9%84%D8%A3%D8%B9%D9%84%D9%89\n",
      "***********************************************************\n",
      "Count: 145\n",
      "URl: https://shatristore.com/ar/household-appliances/water-dispensers/%D9%83%D9%88%D9%84%D9%8A%D9%86-%D8%A8%D8%B1%D8%A7%D8%AF%D8%A9-%D9%85%D8%A7%D8%A1%D8%8C-%D8%AA%D8%B9%D8%A8%D8%A6%D8%A9-%D9%85%D9%86-%D8%A7%D9%84%D8%A3%D8%B9%D9%84%D9%89-%D8%8C360-%D9%88%D8%A7%D8%B7-2\n",
      "***********************************************************\n",
      "Count: 146\n",
      "URl: https://shatristore.com/ar/household-appliances/water-dispensers/%D9%83%D9%88%D9%84%D9%8A%D9%86-%D8%A8%D8%B1%D8%A7%D8%AF%D8%A9-%D9%85%D8%A7%D8%A1%D8%8C-%D8%AA%D8%B9%D8%A8%D8%A6%D8%A9-%D9%85%D9%86-%D8%A7%D9%84%D8%A3%D8%B9%D9%84%D9%89-%D8%8C630-%D9%88%D8%A7%D8%B7\n",
      "***********************************************************\n",
      "Count: 147\n",
      "URl: https://shatristore.com/ar/household-appliances/water-dispensers/%D9%83%D9%88%D9%84%D9%8A%D9%86-%D8%A8%D8%B1%D8%A7%D8%AF%D8%A9-%D9%85%D8%A7%D8%A1%D8%8C-%D8%AA%D8%B9%D8%A8%D8%A6%D8%A9-%D9%85%D9%86-%D8%A7%D9%84%D8%A3%D8%B9%D9%84%D9%89-%D8%8C360-%D9%88%D8%A7%D8%B7\n",
      "***********************************************************\n",
      "Count: 148\n",
      "URl: https://shatristore.com/ar/household-appliances/water-dispensers/%D9%86%D9%8A%D9%83%D8%A7%D9%8A-%D8%A8%D8%B1%D8%A7%D8%AF%D8%A9-%D9%85%D8%A7%D8%A1%D8%8C-%D8%AA%D8%B9%D8%A8%D8%A6%D8%A9-%D9%85%D9%86-%D8%A7%D9%84%D8%A3%D8%B9%D9%84%D9%89%D8%8C-%D8%AE%D8%A7%D9%86%D8%A9-%D9%84%D8%AD%D9%81%D8%B8-%D8%A7%D9%84%D8%A3%D9%83%D9%88%D8%A7%D8%A8-1\n",
      "***********************************************************\n",
      "Count: 149\n",
      "URl: https://shatristore.com/ar/household-appliances/water-dispensers/%D8%AC%D9%8A-%D9%81%D9%8A-%D8%B3%D9%8A-%D8%A8%D8%B1%D9%88-%D8%A8%D8%B1%D8%A7%D8%AF%D8%A9-%D9%85%D8%A7%D8%A1%D8%8C-%D8%AA%D8%B9%D8%A8%D8%A6%D8%A9-%D9%85%D9%86-%D8%A7%D9%84%D8%A3%D8%B9%D9%84%D9%89-3\n",
      "***********************************************************\n",
      "Count: 150\n",
      "URl: https://shatristore.com/ar/household-appliances/water-dispensers/%D8%AC%D9%8A-%D9%81%D9%8A-%D8%B3%D9%8A-%D8%A8%D8%B1%D9%88-%D8%A8%D8%B1%D8%A7%D8%AF%D8%A9-%D9%85%D8%A7%D8%A1-%D9%85%D9%83%D8%AA%D8%A8%D9%8A%D8%8C-%D8%AA%D8%B9%D8%A8%D8%A6%D8%A9-%D9%85%D9%86-%D8%A7%D9%84%D8%A3%D8%B9%D9%84%D9%89\n"
     ]
    },
    {
     "name": "stdout",
     "output_type": "stream",
     "text": [
      "***********************************************************\n",
      "Count: 151\n",
      "URl: https://shatristore.com/ar/household-appliances/water-dispensers/%D9%86%D9%8A%D9%83%D8%A7%D9%8A-%D8%A8%D8%B1%D8%A7%D8%AF%D8%A9-%D9%85%D8%A7%D8%A1%D8%8C-%D8%AA%D8%B9%D8%A8%D8%A6%D8%A9-%D9%85%D9%86-%D8%A7%D9%84%D8%A3%D8%B9%D9%84%D9%89%D8%8C-%D8%AE%D8%A7%D9%86%D8%A9-%D9%84%D8%AD%D9%81%D8%B8-%D8%A7%D9%84%D8%A3%D9%83%D9%88%D8%A7%D8%A8\n",
      "***********************************************************\n",
      "Count: 152\n",
      "URl: https://shatristore.com/ar/household-appliances/water-dispensers/%D8%AF%D8%A7%D9%86%D8%B3%D8%A7%D8%AA-%D8%A8%D8%B1%D8%A7%D8%AF%D8%A9-%D9%85%D8%A7%D8%A1%D8%8C-%D8%AA%D8%B9%D8%A8%D8%A6%D8%A9-%D9%85%D9%86-%D8%A7%D9%84%D8%A3%D8%B9%D9%84%D9%89\n",
      "***********************************************************\n",
      "Count: 153\n",
      "URl: https://shatristore.com/ar/household-appliances/water-dispensers/%D8%AC%D9%8A-%D9%81%D9%8A-%D8%B3%D9%8A-%D8%A8%D8%B1%D9%88-%D8%A8%D8%B1%D8%A7%D8%AF%D8%A9-%D9%85%D8%A7%D8%A1%D8%8C-%D8%AA%D8%B9%D8%A8%D8%A6%D8%A9-%D9%85%D9%86-%D8%A7%D9%84%D8%A3%D8%B9%D9%84%D9%89-1\n",
      "***********************************************************\n",
      "Count: 154\n",
      "URl: https://shatristore.com/ar/household-appliances/water-dispensers/%D8%AC%D9%8A-%D9%81%D9%8A-%D8%B3%D9%8A-%D8%A8%D8%B1%D9%88-%D8%A8%D8%B1%D8%A7%D8%AF%D8%A9-%D9%85%D8%A7%D8%A1%D8%8C-%D8%AA%D8%B9%D8%A8%D8%A6%D8%A9-%D9%85%D9%86-%D8%A7%D9%84%D8%A3%D8%B9%D9%84%D9%89\n",
      "***********************************************************\n",
      "Count: 155\n",
      "URl: https://shatristore.com/ar/household-appliances/freezers/ksguf441dfnd-380\n",
      "***********************************************************\n",
      "Count: 156\n",
      "URl: https://shatristore.com/ar/household-appliances/freezers/%D8%AC%D9%8A-%D9%81%D9%8A-%D8%B3%D9%8A-%D8%A8%D8%B1%D9%88-%D9%81%D8%B1%D9%8A%D8%B2%D8%B1-%D8%A3%D9%81%D9%82%D9%8A%D8%8C-380-%D9%84%D8%AA%D8%B1\n",
      "***********************************************************\n",
      "Count: 157\n",
      "URl: https://shatristore.com/ar/household-appliances/freezers/%D8%AC%D9%8A-%D9%81%D9%8A-%D8%B3%D9%8A-%D8%A8%D8%B1%D9%88-%D9%81%D8%B1%D9%8A%D8%B2%D8%B1-%D8%A3%D9%81%D9%82%D9%8A%D8%8C-310-%D9%84%D8%AA%D8%B1\n",
      "***********************************************************\n",
      "Count: 158\n",
      "URl: https://shatristore.com/ar/household-appliances/freezers/%D8%AC%D9%8A-%D9%81%D9%8A-%D8%B3%D9%8A-%D8%A8%D8%B1%D9%88-%D9%81%D8%B1%D9%8A%D8%B2%D8%B1-%D8%A3%D9%81%D9%82%D9%8A%D8%8C-200-%D9%84%D8%AA%D8%B1\n",
      "***********************************************************\n",
      "Count: 159\n",
      "URl: https://shatristore.com/ar/household-appliances/freezers/%D8%AC%D9%8A-%D9%81%D9%8A-%D8%B3%D9%8A-%D8%A8%D8%B1%D9%88-%D9%81%D8%B1%D9%8A%D8%B2%D8%B1-%D8%A3%D9%81%D9%82%D9%8A%D8%8C-100-%D9%84%D8%AA%D8%B1\n",
      "***********************************************************\n",
      "Count: 160\n",
      "URl: https://shatristore.com/ar/household-appliances/refrigerators/gvrg-75-50\n",
      "***********************************************************\n",
      "Count: 161\n",
      "URl: https://shatristore.com/ar/household-appliances/refrigerators/hrf-650ss-sid-by-sid\n",
      "***********************************************************\n",
      "Count: 162\n",
      "URl: https://shatristore.com/ar/household-appliances/refrigerators/hrf-580nw-2-16-9\n",
      "***********************************************************\n",
      "Count: 163\n",
      "URl: https://shatristore.com/ar/household-appliances/refrigerators/hrf-380nw-2-12-1\n",
      "***********************************************************\n",
      "Count: 164\n",
      "URl: https://shatristore.com/ar/household-appliances/refrigerators/hrf-350n-2-10-1\n",
      "***********************************************************\n",
      "Count: 165\n",
      "URl: https://shatristore.com/ar/household-appliances/refrigerators/%D8%B3%D9%88%D8%A8%D8%B1-%D8%AC%D9%86%D8%B1%D8%A7%D9%84-%D8%AB%D9%84%D8%A7%D8%AC%D8%A9-%D9%88%D9%81%D8%B1%D9%8A%D8%B2%D8%B1-%D8%B9%D9%84%D9%88%D9%8A-9-%D9%82%D8%AF%D9%85\n",
      "***********************************************************\n",
      "Count: 166\n",
      "URl: https://shatristore.com/ar/household-appliances/refrigerators/%D8%B3%D9%88%D8%A8%D8%B1-%D8%AC%D9%86%D8%B1%D8%A7%D9%84-%D8%AB%D9%84%D8%A7%D8%AC%D8%A9-%D9%88%D9%81%D8%B1%D9%8A%D8%B2%D8%B1-%D8%B9%D9%84%D9%88%D9%8A-12-%D9%82%D8%AF%D9%85-%D8%8C-%D9%81%D8%B6%D9%8A\n",
      "***********************************************************\n",
      "Count: 167\n",
      "URl: https://shatristore.com/ar/household-appliances/refrigerators/%D8%AC%D9%8A-%D9%81%D9%8A-%D8%B3%D9%8A-%D8%A8%D8%B1%D9%88-%D8%AB%D9%84%D8%A7%D8%AC%D8%A9-%D9%88%D9%81%D8%B1%D9%8A%D8%B2%D8%B1-%D8%B9%D9%84%D9%88%D9%8A-3-%D9%82%D8%AF%D9%85%D8%8C-%D8%A3%D8%A8%D9%8A%D8%B6\n",
      "***********************************************************\n",
      "Count: 168\n",
      "URl: https://shatristore.com/ar/household-appliances/refrigerators/%D8%AC%D9%8A-%D9%81%D9%8A-%D8%B3%D9%8A-%D8%A8%D8%B1%D9%88-%D8%AB%D9%84%D8%A7%D8%AC%D8%A9-%D9%88%D9%81%D8%B1%D9%8A%D8%B2%D8%B1-%D8%B9%D9%84%D9%88%D9%8A-3-%D9%82%D8%AF%D9%85-%D8%8C-%D9%81%D8%B6%D9%8A\n",
      "***********************************************************\n",
      "Count: 169\n",
      "URl: https://shatristore.com/ar/household-appliances/refrigerators/%D8%AC%D9%8A-%D9%81%D9%8A-%D8%B3%D9%8A-%D8%A8%D8%B1%D9%88-%D8%AB%D9%84%D8%A7%D8%AC%D8%A9-%D9%88-%D9%81%D8%B1%D9%8A%D8%B2%D8%B1-%D8%B9%D9%84%D9%88%D9%8A%D8%8C-15-%D9%82%D8%AF%D9%85%D8%8C-%D8%A3%D8%A8%D9%8A%D8%B6\n",
      "***********************************************************\n",
      "Count: 170\n",
      "URl: https://shatristore.com/ar/household-appliances/refrigerators/%D8%AC%D9%8A-%D9%81%D9%8A-%D8%B3%D9%8A-%D8%A8%D8%B1%D9%88-%D8%AB%D9%84%D8%A7%D8%AC%D8%A9-%D9%88-%D9%81%D8%B1%D9%8A%D8%B2%D8%B1-%D8%B9%D9%84%D9%88%D9%8A%D8%8C-19-%D9%82%D8%AF%D9%85%D8%8C-%D8%A3%D8%A8%D9%8A%D8%B6\n",
      "***********************************************************\n",
      "Count: 171\n",
      "URl: https://shatristore.com/ar/household-appliances/refrigerators/%D8%AC%D9%8A-%D9%81%D9%8A-%D8%B3%D9%8A-%D8%A8%D8%B1%D9%88-%D8%AB%D9%84%D8%A7%D8%AC%D8%A9-%D9%88-%D9%81%D8%B1%D9%8A%D8%B2%D8%B1-%D8%B9%D9%84%D9%88%D9%8A%D8%8C-15-%D9%82%D8%AF%D9%85%D8%8C-%D9%81%D8%B6%D9%8A\n",
      "***********************************************************\n",
      "Count: 172\n",
      "URl: https://shatristore.com/ar/household-appliances/refrigerators/%D8%AC%D9%8A-%D9%81%D9%8A-%D8%B3%D9%8A-%D8%A8%D8%B1%D9%88-%D8%AB%D9%84%D8%A7%D8%AC%D8%A9-%D8%B9%D8%B1%D8%B6-%D8%8C-17-%D9%82%D8%AF%D9%85\n",
      "***********************************************************\n",
      "Count: 173\n",
      "URl: https://shatristore.com/ar/household-appliances/refrigerators/%D8%AC%D9%8A-%D9%81%D9%8A-%D8%B3%D9%8A-%D8%A8%D8%B1%D9%88-%D8%AB%D9%84%D8%A7%D8%AC%D8%A9-%D8%AF%D9%88%D9%84%D8%A7%D8%A8%D9%8A%D8%8C-18-5%D9%82%D8%AF%D9%85%D8%8C-%D9%81%D8%B6%D9%8A\n",
      "***********************************************************\n",
      "Count: 174\n",
      "URl: https://shatristore.com/ar/household-appliances/refrigerators/%D8%AC%D9%8A-%D9%81%D9%8A-%D8%B3%D9%8A-%D8%A8%D8%B1%D9%88-%D8%AB%D9%84%D8%A7%D8%AC%D8%A9-%D8%B9%D8%B1%D8%B6-%D8%8C-13-%D9%82%D8%AF%D9%85\n",
      "***********************************************************\n",
      "Count: 175\n",
      "URl: https://shatristore.com/ar/household-appliances/refrigerators/%D8%AC%D9%8A-%D9%81%D9%8A-%D8%B3%D9%8A-%D8%A8%D8%B1%D9%88-%D8%AB%D9%84%D8%A7%D8%AC%D8%A9-%D9%88-%D9%81%D8%B1%D9%8A%D8%B2%D8%B1-%D8%B9%D9%84%D9%88%D9%8A-%D8%8C-12-%D9%82%D8%AF%D9%85%D8%8C-%D9%81%D8%B6%D9%8A\n",
      "***********************************************************\n",
      "Count: 176\n",
      "URl: https://shatristore.com/ar/household-appliances/refrigerators/%D8%AC%D9%8A-%D9%81%D9%8A-%D8%B3%D9%8A-%D8%A8%D8%B1%D9%88-%D8%AB%D9%84%D8%A7%D8%AC%D8%A9-%D9%88-%D9%81%D8%B1%D9%8A%D8%B2%D8%B1-%D8%B9%D9%84%D9%88%D9%8A-%D8%8C-12-%D9%82%D8%AF%D9%85%D8%8C-%D8%A3%D8%A8%D9%8A%D8%B6\n",
      "***********************************************************\n",
      "Count: 177\n",
      "URl: https://shatristore.com/ar/household-appliances/refrigerators/%D8%AC%D9%8A-%D9%81%D9%8A-%D8%B3%D9%8A-%D8%A8%D8%B1%D9%88-%D8%AB%D9%84%D8%A7%D8%AC%D8%A9-%D9%88%D9%81%D8%B1%D9%8A%D8%B2%D8%B1-%D8%B9%D9%84%D9%88%D9%8A-10-%D9%82%D8%AF%D9%85%D8%8C-%D9%81%D8%B6%D9%8A\n",
      "***********************************************************\n",
      "Count: 178\n",
      "URl: https://shatristore.com/ar/household-appliances/refrigerators/%D8%AC%D9%8A-%D9%81%D9%8A-%D8%B3%D9%8A-%D8%A8%D8%B1%D9%88-%D8%AB%D9%84%D8%A7%D8%AC%D8%A9-%D9%88%D9%81%D8%B1%D9%8A%D8%B2%D8%B1-%D8%B9%D9%84%D9%88%D9%8A-10-%D9%82%D8%AF%D9%85%D8%8C-%D8%A3%D8%A8%D9%8A%D8%B6\n",
      "***********************************************************\n",
      "Count: 179\n",
      "URl: https://shatristore.com/ar/household-appliances/refrigerators/%D8%AC%D9%8A-%D9%81%D9%8A-%D8%B3%D9%8A-%D8%A8%D8%B1%D9%88-%D8%AB%D9%84%D8%A7%D8%AC%D8%A9-%D9%88-%D9%81%D8%B1%D9%8A%D8%B2%D8%B1-%D8%B9%D9%84%D9%88%D9%8A-%D8%8C-9-%D9%82%D8%AF%D9%85%D8%8C-%D9%81%D8%B6%D9%8A\n"
     ]
    },
    {
     "name": "stdout",
     "output_type": "stream",
     "text": [
      "***********************************************************\n",
      "Count: 180\n",
      "URl: https://shatristore.com/ar/household-appliances/refrigerators/%D8%AC%D9%8A-%D9%81%D9%8A-%D8%B3%D9%8A-%D8%A8%D8%B1%D9%88-%D8%AB%D9%84%D8%A7%D8%AC%D8%A9-%D9%88-%D9%81%D8%B1%D9%8A%D8%B2%D8%B1-%D8%B9%D9%84%D9%88%D9%8A-%D8%8C-9-%D9%82%D8%AF%D9%85-%D8%8C-%D8%A3%D8%A8%D9%8A%D8%B6\n",
      "***********************************************************\n",
      "Count: 181\n",
      "URl: https://shatristore.com/ar/household-appliances/refrigerators/%D8%AC%D9%8A-%D9%81%D9%8A-%D8%B3%D9%8A-%D8%A8%D8%B1%D9%88-%D8%AB%D9%84%D8%A7%D8%AC%D8%A9-%D9%88-%D9%81%D8%B1%D9%8A%D8%B2%D8%B1-%D8%B9%D9%84%D9%88%D9%8A-%D8%8C-7-%D9%82%D8%AF%D9%85%D8%8C-%D9%81%D8%B6%D9%8A\n",
      "***********************************************************\n",
      "Count: 182\n",
      "URl: https://shatristore.com/ar/household-appliances/refrigerators/%D8%AC%D9%8A-%D9%81%D9%8A-%D8%B3%D9%8A-%D8%A8%D8%B1%D9%88-%D8%AB%D9%84%D8%A7%D8%AC%D8%A9-%D9%88-%D9%81%D8%B1%D9%8A%D8%B2%D8%B1-%D8%B9%D9%84%D9%88%D9%8A-%D8%8C-7-%D9%82%D8%AF%D9%85%D8%8C-%D8%A3%D8%A8%D9%8A%D8%B6\n",
      "***********************************************************\n",
      "Count: 183\n",
      "URl: https://shatristore.com/ar/household-appliances/refrigerators/%D8%AC%D9%8A-%D9%81%D9%8A-%D8%B3%D9%8A-%D8%A8%D8%B1%D9%88-%D8%AB%D9%84%D8%A7%D8%AC%D8%A9-%D9%88-%D9%81%D8%B1%D9%8A%D8%B2%D8%B1-%D8%B9%D9%84%D9%88%D9%8A-%D8%8C-6-5-%D9%82%D8%AF%D9%85%D8%8C-%D9%81%D8%B6%D9%8A\n",
      "***********************************************************\n",
      "Count: 184\n",
      "URl: https://shatristore.com/ar/household-appliances/refrigerators/%D8%AC%D9%8A-%D9%81%D9%8A-%D8%B3%D9%8A-%D8%A8%D8%B1%D9%88-%D8%AB%D9%84%D8%A7%D8%AC%D8%A9-%D9%88-%D9%81%D8%B1%D9%8A%D8%B2%D8%B1-%D8%B9%D9%84%D9%88%D9%8A-%D8%8C-6-5-%D9%82%D8%AF%D9%85%D8%8C-%D8%A3%D8%A8%D9%8A%D8%B6\n",
      "***********************************************************\n",
      "Count: 185\n",
      "URl: https://shatristore.com/ar/household-appliances/refrigerators/%D8%AC%D9%8A-%D9%81%D9%8A-%D8%B3%D9%8A-%D8%A8%D8%B1%D9%88-%D8%AB%D9%84%D8%A7%D8%AC%D8%A9-%D8%A8%D8%A7%D8%A8-%D9%88%D8%A7%D8%AD%D8%AF-2-7-%D9%82%D8%AF%D9%85%D8%8C-%D8%A3%D8%A8%D9%8A%D8%B6\n",
      "***********************************************************\n",
      "Count: 186\n",
      "URl: https://shatristore.com/ar/household-appliances/refrigerators/%D8%AC%D9%8A-%D9%81%D9%8A-%D8%B3%D9%8A-%D8%A8%D8%B1%D9%88-%D8%AB%D9%84%D8%A7%D8%AC%D9%87-%D8%B9%D8%B1%D8%B6-%D8%8C-7-%D9%82%D8%AF%D9%85\n",
      "***********************************************************\n",
      "Count: 187\n",
      "URl: https://shatristore.com/ar/household-appliances/refrigerators/%D8%AC%D9%8A-%D9%81%D9%8A-%D8%B3%D9%8A-%D8%A8%D8%B1%D9%88-%D8%AB%D9%84%D8%A7%D8%AC%D8%A9-%D8%B9%D8%B1%D8%B6-5-%D9%82%D8%AF%D9%85\n",
      "***********************************************************\n",
      "Count: 188\n",
      "URl: https://shatristore.com/ar/household-appliances/refrigerators/%D8%AC%D9%8A-%D9%81%D9%8A-%D8%B3%D9%8A-%D8%A8%D8%B1%D9%88-%D8%AB%D9%84%D8%A7%D8%AC%D8%A9-%D8%B9%D8%B1%D8%B6-4-%D9%82%D8%AF%D9%85\n",
      "***********************************************************\n",
      "Count: 189\n",
      "URl: https://shatristore.com/ar/household-appliances/refrigerators/%D9%86%D9%8A%D9%83%D8%A7%D9%8A-%D8%AB%D9%84%D8%A7%D8%AC%D8%A9-%D9%88-%D9%81%D8%B1%D9%8A%D8%B2%D8%B1-%D8%B9%D9%84%D9%88%D9%8A%D8%8C-14-%D9%82%D8%AF%D9%85\n",
      "***********************************************************\n",
      "Count: 190\n",
      "URl: https://shatristore.com/ar/household-appliances/refrigerators/%D9%86%D9%8A%D9%83%D8%A7%D9%8A-%D8%AB%D9%84%D8%A7%D8%AC%D8%A9-%D8%A8%D8%A7%D8%A8-%D9%88%D8%A7%D8%AD%D8%AF%D8%8C-1-5-%D9%82%D8%AF%D9%85\n",
      "***********************************************************\n",
      "Count: 191\n",
      "URl: https://shatristore.com/ar/household-appliances/refrigerators/%D9%86%D9%8A%D9%83%D8%A7%D9%8A-%D8%AB%D9%84%D8%A7%D8%AC%D8%A9-%D9%88-%D9%81%D8%B1%D9%8A%D8%B2%D8%B1-%D8%B9%D9%84%D9%88%D9%8A%D8%8C11-%D9%82%D8%AF%D9%85\n",
      "***********************************************************\n",
      "Count: 192\n",
      "URl: https://shatristore.com/ar/household-appliances/refrigerators/%D9%86%D9%8A%D9%83%D8%A7%D9%8A-%D8%AB%D9%84%D8%A7%D8%AC%D8%A9-%D9%88-%D9%81%D8%B1%D9%8A%D8%B2%D8%B1-%D8%B9%D9%84%D9%88%D9%8A-%D8%8C-4-7-%D9%82%D8%AF%D9%85\n",
      "***********************************************************\n",
      "Count: 193\n",
      "URl: https://shatristore.com/ar/household-appliances/refrigerators/%D8%AF%D8%A7%D9%86%D8%B3%D8%A7%D8%AA-%D8%AB%D9%84%D8%A7%D8%AC%D8%A9-%D8%A8%D8%A7%D8%A8-%D9%88%D8%A7%D8%AD%D8%AF%D8%8C-3-%D9%82%D8%AF%D9%85\n",
      "***********************************************************\n",
      "Count: 194\n",
      "URl: https://shatristore.com/ar/household-appliances/refrigerators/-4-\n",
      "***********************************************************\n",
      "Count: 195\n",
      "URl: https://shatristore.com/ar/household-appliances/-3/%D8%AC%D8%A7%D9%86%D9%88-%D9%85%D8%B5%D9%8A%D8%AF%D8%A9-%D9%86%D8%A7%D9%85%D9%88%D8%B3-%D9%83%D9%87%D8%B1%D8%A8%D8%A7%D8%A6%D9%8A%D8%A9-%D8%8C-%D8%AA%D8%BA%D8%B7%D9%8A%D8%A9-130-150-%D9%85%D8%AA%D8%B1-%D9%85%D8%B1%D8%A8%D8%B9\n",
      "***********************************************************\n",
      "Count: 196\n",
      "URl: https://shatristore.com/ar/household-appliances/-3/%D8%AC%D8%A7%D9%86%D9%88-%D9%85%D8%B5%D9%8A%D8%AF%D8%A9-%D9%86%D8%A7%D9%85%D9%88%D8%B3-%D9%83%D9%87%D8%B1%D8%A8%D8%A7%D8%A6%D9%8A%D8%A9-%D8%8C-%D8%AA%D8%BA%D8%B7%D9%8A%D8%A9-60-80-%D9%85%D8%AA%D8%B1-%D9%85%D8%B1%D8%A8%D8%B9\n",
      "***********************************************************\n",
      "Count: 197\n",
      "URl: https://shatristore.com/ar/household-appliances/-3/%D8%AC%D8%A7%D9%86%D9%88-%D9%85%D8%B5%D9%8A%D8%AF%D8%A9-%D9%86%D8%A7%D9%85%D9%88%D8%B3-%D9%83%D9%87%D8%B1%D8%A8%D8%A7%D8%A6%D9%8A%D8%A9-%D8%8C-%D8%AA%D8%BA%D8%B7%D9%8A%D8%A9-30-50-%D9%85%D8%AA%D8%B1-%D9%85%D8%B1%D8%A8%D8%B9\n",
      "***********************************************************\n",
      "Count: 198\n",
      "URl: https://shatristore.com/ar/household-appliances/-3/%D8%AC%D8%A7%D9%86%D9%88-%D9%85%D8%B5%D9%8A%D8%AF%D8%A9-%D9%86%D8%A7%D9%85%D9%88%D8%B3-%D9%83%D9%87%D8%B1%D8%A8%D8%A7%D8%A6%D9%8A%D8%A9-%D8%8C-%D8%AA%D8%BA%D8%B7%D9%8A%D8%A9-10-30%D9%85%D8%AA%D8%B1-%D9%85%D8%B1%D8%A8%D8%B9\n",
      "***********************************************************\n",
      "Count: 199\n",
      "URl: https://shatristore.com/ar/household-appliances/-3/%D8%B1%D9%8A%D8%A8%D9%88%D9%86-%D9%85%D8%B5%D9%8A%D8%AF%D8%A9-%D9%86%D8%A7%D9%85%D9%88%D8%B3-%D9%83%D9%87%D8%B1%D8%A8%D8%A7%D8%A6%D9%8A%D8%A9%D8%8C30-%D9%88%D8%A7%D8%B7\n",
      "***********************************************************\n",
      "Count: 200\n",
      "URl: https://shatristore.com/ar/household-appliances/-3/%D8%B1%D9%8A%D8%A8%D9%88%D9%86-%D9%85%D8%B5%D9%8A%D8%AF%D8%A9-%D9%86%D8%A7%D9%85%D9%88%D8%B3-%D9%83%D9%87%D8%B1%D8%A8%D8%A7%D8%A6%D9%8A%D8%A9%D8%8C38-%D9%88%D8%A7%D8%B7\n",
      "***********************************************************\n",
      "Count: 201\n",
      "URl: https://shatristore.com/ar/household-appliances/-3/%D8%AC%D9%8A-%D8%AA%D9%8A-%D8%A7%D9%8A-%D9%85%D8%B5%D9%8A%D8%AF%D8%A9-%D9%86%D8%A7%D9%85%D9%88%D8%B3-%D9%83%D9%87%D8%B1%D8%A8%D8%A7%D8%A6%D9%8A%D8%A9%D8%8C-16-%D9%88%D8%A7%D8%B7\n",
      "***********************************************************\n",
      "Count: 202\n",
      "URl: https://shatristore.com/ar/household-appliances/-3/%D8%B1%D9%8A%D8%A8%D9%88%D9%86-%D9%85%D8%B5%D9%8A%D8%AF%D8%A9-%D9%86%D8%A7%D9%85%D9%88%D8%B3-%D9%83%D9%87%D8%B1%D8%A8%D8%A7%D8%A6%D9%8A%D8%A9%D8%8C25-%D9%88%D8%A7%D8%B7\n",
      "***********************************************************\n",
      "Count: 203\n",
      "URl: https://shatristore.com/ar/household-appliances/-3/%D9%83%D9%88%D9%84%D9%8A%D9%86-%D9%85%D8%B5%D9%8A%D8%AF%D8%A9-%D9%86%D8%A7%D9%85%D9%88%D8%B3-%D9%83%D9%87%D8%B1%D8%A8%D8%A7%D8%A6%D9%8A%D8%A9%D8%8C-30-%D9%88%D8%A7%D8%B7\n",
      "***********************************************************\n",
      "Count: 204\n",
      "URl: https://shatristore.com/ar/household-appliances/-3/%D9%83%D9%88%D9%84%D9%8A%D9%86-%D9%85%D8%B5%D9%8A%D8%AF%D8%A9-%D9%86%D8%A7%D9%85%D9%88%D8%B3-%D9%83%D9%87%D8%B1%D8%A8%D8%A7%D8%A6%D9%8A%D8%A9-%D8%8C20-%D9%88%D8%A7%D8%B7\n",
      "***********************************************************\n",
      "Count: 205\n",
      "URl: https://shatristore.com/ar/household-appliances/-2/ds-1jt\n",
      "***********************************************************\n",
      "Count: 206\n",
      "URl: https://shatristore.com/ar/household-appliances/-2/%D9%83%D8%A7%D8%B3%D9%8A%D9%88-%D8%A2%D9%84%D8%A9-%D8%AD%D8%A7%D8%B3%D8%A8%D8%A9-12-%D8%B1%D9%82%D9%85\n",
      "***********************************************************\n",
      "Count: 207\n",
      "URl: https://shatristore.com/ar/household-appliances/-2/%D9%83%D8%A7%D8%B3%D9%8A%D9%88-%D8%A2%D9%84%D8%A9-%D8%AD%D8%A7%D8%B3%D8%A8%D8%A9-%D8%B9%D9%84%D9%85%D9%8A%D8%A9-12-%D8%B1%D9%82%D9%85-2\n"
     ]
    },
    {
     "name": "stdout",
     "output_type": "stream",
     "text": [
      "***********************************************************\n",
      "Count: 208\n",
      "URl: https://shatristore.com/ar/household-appliances/-2/%D9%83%D8%A7%D8%B3%D9%8A%D9%88-%D8%A7%D9%84%D8%A9-%D8%AD%D8%A7%D8%B3%D8%A8%D8%A9-%D9%84%D8%AC%D9%8A%D8%A8-8-%D8%A7%D8%B1%D9%82%D8%A7%D9%85\n",
      "***********************************************************\n",
      "Count: 209\n",
      "URl: https://shatristore.com/ar/household-appliances/-2/%D9%83%D8%A7%D8%B3%D9%8A%D9%88-%D8%A2%D9%84%D8%A9-%D8%AD%D8%A7%D8%B3%D8%A8%D8%A9-%D8%B9%D9%84%D9%85%D9%8A%D8%A9-12-%D8%B1%D9%82%D9%85-1\n",
      "***********************************************************\n",
      "Count: 210\n",
      "URl: https://shatristore.com/ar/household-appliances/-2/%D9%83%D8%A7%D8%B3%D9%8A%D9%88-%D8%A7%D9%84%D8%A9-%D8%AD%D8%A7%D8%B3%D8%A8%D8%A9-10-%D8%A7%D8%B1%D9%82%D8%A7%D9%85\n",
      "***********************************************************\n",
      "Count: 211\n",
      "URl: https://shatristore.com/ar/household-appliances/-2/%D9%83%D8%A7%D8%B3%D9%8A%D9%88-%D8%A2%D9%84%D8%A9-%D8%AD%D8%A7%D8%B3%D8%A8%D8%A9-%D8%B9%D9%84%D9%85%D9%8A%D8%A9-12-%D8%B1%D9%82%D9%85\n",
      "***********************************************************\n",
      "Count: 212\n",
      "URl: https://shatristore.com/ar/household-appliances/-2/12-1\n",
      "***********************************************************\n",
      "Count: 213\n",
      "URl: https://shatristore.com/ar/household-appliances//--1\n",
      "***********************************************************\n",
      "Count: 214\n",
      "URl: https://shatristore.com/ar/household-appliances/%D8%B3%D8%A7%D9%86-%D9%81%D9%88%D8%B1%D8%AF-%D9%83%D8%B4%D8%A7%D9%81-%D8%B1%D8%A3%D8%B3-%D9%82%D8%A7%D8%A8%D9%84-%D9%84%D8%B4%D8%AD%D9%86\n",
      "***********************************************************\n",
      "Count: 215\n",
      "URl: https://shatristore.com/ar/household-appliances/%D8%B3%D8%A7%D9%86-%D9%81%D9%88%D8%B1%D8%AF-%D9%83%D8%B4%D8%A7%D9%81-%D9%8A%D8%AF%D9%88%D9%8A-%D9%82%D8%A7%D8%A8%D9%84-%D9%84%D9%84%D8%B4%D8%AD%D9%86-4%D9%81%D9%8A1\n",
      "***********************************************************\n",
      "Count: 216\n",
      "URl: https://shatristore.com/ar/household-appliances/%D8%A7%D9%8A%D8%B3%D9%88%D9%86%D9%83-%D9%83%D8%B4%D8%A7%D9%81-%D8%B7%D9%88%D8%A7%D8%B1%D9%89-%D9%82%D8%A7%D8%A8%D9%84-%D9%84%D9%84%D8%B4%D8%AD%D9%86-2%D9%81%D9%8A1%D8%8C-4-%D8%B3%D8%A7%D8%B9%D8%A9\n",
      "***********************************************************\n",
      "Count: 217\n",
      "URl: https://shatristore.com/ar/household-appliances/%D8%B3%D8%AA%D8%B1%D9%88%D9%86%D9%82-%D9%84%D8%A7%D9%8A%D8%AA-%D9%83%D8%B4%D8%A7%D9%81-%D9%8A%D8%AF%D9%88%D9%8A-%D9%82%D8%A7%D8%A8%D9%84-%D9%84%D8%B4%D8%AD%D9%86-3\n",
      "***********************************************************\n",
      "Count: 218\n",
      "URl: https://shatristore.com/ar/household-appliances/%D8%B3%D8%AA%D8%B1%D9%88%D9%86%D9%82-%D9%84%D8%A7%D9%8A%D8%AA-%D9%83%D8%B4%D8%A7%D9%81-%D9%8A%D8%AF%D9%88%D9%8A-%D9%82%D8%A7%D8%A8%D9%84-%D9%84%D8%B4%D8%AD%D9%86-2\n",
      "***********************************************************\n",
      "Count: 219\n",
      "URl: https://shatristore.com/ar/household-appliances/%D8%B3%D8%AA%D8%B1%D9%88%D9%86%D9%82-%D9%84%D8%A7%D9%8A%D8%AA-%D9%83%D8%B4%D8%A7%D9%81-%D8%B7%D9%88%D8%B1%D8%A7%D8%A6-%D9%82%D8%A7%D8%A8%D9%84-%D9%84%D9%84%D8%B4%D8%AD%D9%86%D8%8C-2%D9%81%D9%8A1\n",
      "***********************************************************\n",
      "Count: 220\n",
      "URl: https://shatristore.com/ar/household-appliances/%D8%B3%D8%AA%D8%B1%D9%88%D9%86%D9%82-%D9%84%D8%A7%D9%8A%D8%AA-%D9%83%D8%B4%D8%A7%D9%81-%D9%8A%D8%AF%D9%88%D9%8A-%D9%82%D8%A7%D8%A8%D9%84-%D9%84%D8%B4%D8%AD%D9%86\n",
      "***********************************************************\n",
      "Count: 221\n",
      "URl: https://shatristore.com/ar/household-appliances/%D8%B3%D8%AA%D8%B1%D9%88%D9%86%D9%82-%D9%84%D8%A7%D9%8A%D8%AA-%D9%83%D8%B4%D8%A7%D9%81-%D8%B7%D9%88%D8%A7%D8%B1%D8%A6-%D9%82%D8%A7%D8%A8%D9%84-%D9%84%D8%B4%D8%AD%D9%86-1\n",
      "***********************************************************\n",
      "Count: 222\n",
      "URl: https://shatristore.com/ar/household-appliances/%D8%B3%D8%A7%D9%86-%D9%81%D9%88%D8%B1%D8%AF-%D9%83%D8%B4%D8%A7%D9%81-%D9%8A%D8%AF%D9%88%D9%8A-%D9%82%D8%A7%D8%A8%D9%84-%D9%84%D8%A7%D8%B9%D8%A7%D8%AF%D8%A9-%D8%A7%D9%84%D8%B4%D8%AD%D9%86-2%D9%81%D9%8A1\n",
      "***********************************************************\n",
      "Count: 223\n",
      "URl: https://shatristore.com/ar/household-appliances/%D8%B3%D8%AA%D8%B1%D9%88%D9%86%D9%82-%D9%84%D8%A7%D9%8A%D8%AA-%D9%83%D8%B4%D8%A7%D9%81-%D8%B7%D9%88%D8%A7%D8%B1%D8%A6-%D9%82%D8%A7%D8%A8%D9%84-%D9%84%D8%B4%D8%AD%D9%86\n",
      "***********************************************************\n",
      "Count: 224\n",
      "URl: https://shatristore.com/ar/household-appliances/%D8%B3%D8%AA%D8%B1%D9%88%D9%86%D9%82-%D9%84%D8%A7%D9%8A%D8%AA-%D9%83%D8%B4%D8%A7%D9%81-%D9%8A%D8%AF%D9%88%D9%8A-%D9%82%D8%A7%D8%A8%D9%84-%D9%84%D9%84%D8%B4%D8%AD%D9%86-9\n",
      "***********************************************************\n",
      "Count: 225\n",
      "URl: https://shatristore.com/ar/household-appliances/%D8%B3%D8%AA%D8%B1%D9%88%D9%86%D9%82-%D9%84%D8%A7%D9%8A%D8%AA-%D9%83%D8%B4%D8%A7%D9%81-%D9%8A%D8%AF%D9%88%D9%8A-%D9%82%D8%A7%D8%A8%D9%84-%D9%84%D9%84%D8%B4%D8%AD%D9%86-6\n",
      "***********************************************************\n",
      "Count: 226\n",
      "URl: https://shatristore.com/ar/household-appliances/%D8%B3%D8%AA%D8%B1%D9%88%D9%86%D9%82-%D9%84%D8%A7%D9%8A%D8%AA-%D9%83%D8%B4%D8%A7%D9%81-%D9%8A%D8%AF%D9%88%D9%8A-%D9%82%D8%A7%D8%A8%D9%84-%D9%84%D9%84%D8%B4%D8%AD%D9%86-4\n",
      "***********************************************************\n",
      "Count: 227\n",
      "URl: https://shatristore.com/ar/household-appliances/telephones-and-faxes/%D8%A8%D8%A7%D9%86%D8%A7%D8%B3%D9%88%D9%86%D9%8A%D9%83-%D9%87%D8%A7%D8%AA%D9%81-%D8%AB%D8%A7%D8%A8%D8%AA-%D8%8C-%D8%A3%D8%A8%D9%8A%D8%B6\n",
      "***********************************************************\n",
      "Count: 228\n",
      "URl: https://shatristore.com/ar/household-appliances/telephones-and-faxes/%D8%A8%D8%A7%D9%86%D8%A7%D8%B3%D9%88%D9%86%D9%8A%D9%83-%D9%87%D8%A7%D8%AA%D9%81-%D8%AB%D8%A7%D8%A8%D8%AA-%D9%85%D8%B9-%D8%AE%D8%A7%D8%B5%D9%8A%D8%A9-%D8%A7%D8%B8%D9%87%D8%A7%D8%B1-%D8%B1%D9%82%D9%85-%D8%A7%D9%84%D9%85%D8%AA%D8%B5%D9%84%D8%8C-%D8%A3%D8%A8%D9%8A%D8%B6-3\n",
      "***********************************************************\n",
      "Count: 229\n",
      "URl: https://shatristore.com/ar/household-appliances/telephones-and-faxes/%D8%A8%D8%A7%D9%86%D8%A7%D8%B3%D9%88%D9%86%D9%8A%D9%83-%D9%87%D8%A7%D8%AA%D9%81-%D8%AB%D8%A7%D8%A8%D8%AA-%D9%85%D8%B9-%D8%AE%D8%A7%D8%B5%D9%8A%D8%A9-%D8%A7%D8%B8%D9%87%D8%A7%D8%B1-%D8%B1%D9%82%D9%85-%D8%A7%D9%84%D9%85%D8%AA%D8%B5%D9%84%D8%8C-%D8%A3%D8%B3%D9%88%D8%AF\n",
      "***********************************************************\n",
      "Count: 230\n",
      "URl: https://shatristore.com/ar/household-appliances/telephones-and-faxes/%D8%A8%D8%A7%D9%86%D8%A7%D8%B3%D9%88%D9%86%D9%8A%D9%83-%D9%87%D8%A7%D8%AA%D9%81-%D8%AB%D8%A7%D8%A8%D8%AA%D8%8C-%D8%A3%D8%B3%D9%88%D8%AF-1\n",
      "***********************************************************\n",
      "Count: 231\n",
      "URl: https://shatristore.com/ar/catalog/product/view/id/50551/s/%D8%A8%D8%B1%D8%A7%D9%88%D9%86-%D9%85%D9%83%D9%88%D8%A7%D8%A9-%D8%A8%D8%AE%D8%A7%D8%B1-2400-%D9%88%D8%A7%D8%B7/category/134/\n",
      "***********************************************************\n",
      "Count: 232\n",
      "URl: https://shatristore.com/ar/catalog/product/view/id/50550/s/%D9%83%D9%8A%D9%86%D9%88%D9%88%D8%AF-%D9%85%D9%83%D9%88%D8%A7%D8%A9-%D8%A8%D8%AE%D8%A7%D8%B1-%D8%B9%D9%85%D9%88%D8%AF%D9%8A%D8%A9-1500-%D9%88%D8%A7%D8%B7-%D8%8C2%D9%84%D8%AA%D8%B1/category/134/\n",
      "***********************************************************\n",
      "Count: 233\n",
      "URl: https://shatristore.com/ar/catalog/product/view/id/50549/s/%D9%83%D9%8A%D9%86%D9%88%D9%88%D8%AF-%D9%85%D9%83%D9%88%D8%A7%D8%A9-%D8%A8%D8%AE%D8%A7%D8%B1-2%D9%81%D9%8A1%D8%8C-1000-%D9%88%D8%A7%D8%B7/category/134/\n",
      "***********************************************************\n",
      "Count: 234\n",
      "URl: https://shatristore.com/ar/catalog/product/view/id/50212/s/%D8%AC%D9%8A-%D9%81%D9%8A-%D8%B3%D9%8A-%D8%A8%D8%B1%D9%88-%D9%83%D8%A7%D9%88%D9%8A%D8%A9-%D9%83%D8%A8%D8%B3-%D8%AF%D9%88%D8%A7%D8%B1%D8%A9%D8%8C-30-%D8%A8%D9%88%D8%B5%D9%87-2200-%D9%88%D8%A7%D8%B7/category/134/\n",
      "***********************************************************\n",
      "Count: 235\n",
      "URl: https://shatristore.com/ar/catalog/product/view/id/49990/s/%D8%AC%D9%8A-%D9%81%D9%8A-%D8%B3%D9%8A-%D8%A8%D8%B1%D9%88-%D9%85%D9%83%D9%88%D8%A7%D8%A9-%D8%A8%D8%AE%D8%A7%D8%B1-%D8%B9%D9%84%D8%A7%D9%82%D9%8A%D8%8C1600-%D9%88%D8%A7%D8%B7/category/134/\n",
      "***********************************************************\n",
      "Count: 236\n",
      "URl: https://shatristore.com/ar/catalog/product/view/id/49989/s/%D8%AA%D9%8A%D9%81%D8%A7%D9%84-%D9%85%D9%83%D9%88%D8%A7%D8%A9-%D8%A8%D8%AE%D8%A7%D8%B1%D8%8C-1800-%D9%88%D8%A7%D8%B7/category/134/\n"
     ]
    },
    {
     "name": "stdout",
     "output_type": "stream",
     "text": [
      "***********************************************************\n",
      "Count: 237\n",
      "URl: https://shatristore.com/ar/catalog/product/view/id/49988/s/%D8%AA%D9%8A%D9%81%D8%A7%D9%84-%D9%85%D9%83%D9%88%D8%A7%D8%A9-%D8%A8%D8%AE%D8%A7%D8%B1%D8%8C-2400-%D9%88%D8%A7%D8%B7/category/134/\n",
      "***********************************************************\n",
      "Count: 238\n",
      "URl: https://shatristore.com/ar/catalog/product/view/id/49987/s/%D8%A8%D8%B1%D8%A7%D9%88%D9%86-%D9%85%D9%83%D9%88%D8%A7%D8%A9-%D8%A8%D8%AE%D8%A7%D8%B1%D8%8C-2350-%D9%88%D8%A7%D8%B7/category/134/\n",
      "***********************************************************\n",
      "Count: 239\n",
      "URl: https://shatristore.com/ar/catalog/product/view/id/49986/s/%D8%A8%D8%B1%D8%A7%D9%88%D9%86-%D9%85%D9%83%D9%88%D8%A7%D8%A9-%D8%A8%D8%AE%D8%A7%D8%B1%D8%8C-2350-%D9%88%D8%A7%D8%B7/category/134/\n",
      "***********************************************************\n",
      "Count: 240\n",
      "URl: https://shatristore.com/ar/catalog/product/view/id/49984/s/%D9%83%D9%88%D9%84%D9%8A%D9%86-%D9%85%D9%83%D9%88%D8%A7%D8%A9-%D8%A8%D8%AE%D8%A7%D8%B1-%D8%B9%D9%84%D8%A7%D9%82%D9%8A%D8%8C-1500-%D9%88%D8%A7%D8%B7/category/134/\n",
      "***********************************************************\n",
      "Count: 241\n",
      "URl: https://shatristore.com/ar/catalog/product/view/id/48907/s/%D8%AC%D9%8A-%D9%81%D9%8A-%D8%B3%D9%8A-%D8%A8%D8%B1%D9%88-%D9%85%D9%83%D9%88%D8%A7%D8%A9-%D8%B6%D8%BA%D8%B7-%D8%A8%D8%A7%D9%84%D8%A8%D8%AE%D8%A7%D8%B1-%D9%85%D8%B9-%D8%A7%D8%B3%D8%AA%D8%A7%D9%86%D8%AF%D8%8C-40-%D8%A8%D9%88%D8%B5%D8%A9%D8%8C-1600-%D9%88%D8%A7%D8%B7/category/134/\n",
      "***********************************************************\n",
      "Count: 242\n",
      "URl: https://shatristore.com/ar/catalog/product/view/id/48851/s/%D9%81%D9%8A%D9%84%D9%8A%D8%A8%D8%B3-%D9%85%D9%83%D9%88%D8%A7%D8%A9-%D8%A8%D8%AE%D8%A7%D8%B1-%D8%B9%D9%84%D8%A7%D9%82%D9%8A%D8%8C-1600-%D9%88%D8%A7%D8%B7/category/134/\n",
      "***********************************************************\n",
      "Count: 243\n",
      "URl: https://shatristore.com/ar/catalog/product/view/id/48801/s/%D8%AA%D9%8A%D9%81%D8%A7%D9%84-%D9%85%D9%83%D9%88%D8%A7%D8%A9-%D8%A8%D8%AE%D8%A7%D8%B1%D8%8C-2100-%D9%88%D8%A7%D8%B7/category/134/\n",
      "***********************************************************\n",
      "Count: 244\n",
      "URl: https://shatristore.com/ar/catalog/product/view/id/48490/s/%D9%83%D9%88%D9%84%D9%8A%D9%86-%D9%85%D9%83%D9%88%D8%A7%D8%A9-%D8%B6%D8%BA%D8%B7-%D8%A8%D8%A7%D9%84%D8%A8%D8%AE%D8%A7%D8%B1-%D9%85%D8%B9-%D8%A7%D8%B3%D8%AA%D8%A7%D9%86%D8%AF%D8%8C-38-%D8%A8%D9%88%D8%B5%D8%A9%D8%8C-2200-%D9%88%D8%A7%D8%B7/category/134/\n",
      "***********************************************************\n",
      "Count: 245\n",
      "URl: https://shatristore.com/ar/catalog/product/view/id/48489/s/%D9%83%D9%88%D9%84%D9%8A%D9%86-%D9%85%D9%83%D9%88%D8%A7%D8%A9-%D8%B6%D8%BA%D8%B7-%D8%A8%D8%A7%D9%84%D8%A8%D8%AE%D8%A7%D8%B1-%D9%85%D8%B9-%D8%A7%D8%B3%D8%AA%D8%A7%D9%86%D8%AF%D8%8C-42-%D8%A8%D9%88%D8%B5%D8%A9%D8%8C-2200-%D9%88%D8%A7%D8%B7/category/134/\n",
      "***********************************************************\n",
      "Count: 246\n",
      "URl: https://shatristore.com/ar/catalog/product/view/id/48488/s/%D8%AA%D9%8A%D9%81%D8%A7%D9%84-%D9%85%D9%83%D9%88%D8%A7%D8%A9-%D8%A8%D8%AE%D8%A7%D8%B1%D8%8C-2400-%D9%88%D8%A7%D8%B7/category/134/\n",
      "***********************************************************\n",
      "Count: 247\n",
      "URl: https://shatristore.com/ar/catalog/product/view/id/48487/s/%D8%AA%D9%8A%D9%81%D8%A7%D9%84-%D9%85%D9%83%D9%88%D8%A7%D8%A9-%D8%A8%D8%AE%D8%A7%D8%B1-%D8%B9%D9%84%D8%A7%D9%82%D9%8A%D8%8C-1800-%D9%88%D8%A7%D8%B7/category/134/\n",
      "***********************************************************\n",
      "Count: 248\n",
      "URl: https://shatristore.com/ar/catalog/product/view/id/48486/s/%D8%AA%D9%8A%D9%81%D8%A7%D9%84-%D9%85%D9%83%D9%88%D8%A7%D8%A9-%D8%AC%D8%A7%D9%81%D8%A9%D8%8C-1200-%D9%88%D8%A7%D8%B7/category/134/\n",
      "***********************************************************\n",
      "Count: 249\n",
      "URl: https://shatristore.com/ar/catalog/product/view/id/48225/s/%D8%AC%D9%8A-%D9%81%D9%8A-%D8%B3%D9%8A-%D8%A8%D8%B1%D9%88-%D9%85%D9%83%D9%88%D8%A7%D8%A9-%D8%A8%D8%AE%D8%A7%D8%B1%D8%8C-1600-%D9%88%D8%A7%D8%B7/category/134/\n",
      "***********************************************************\n",
      "Count: 250\n",
      "URl: https://shatristore.com/ar/catalog/product/view/id/48224/s/%D8%AC%D9%8A-%D9%81%D9%8A-%D8%B3%D9%8A-%D8%A8%D8%B1%D9%88-%D9%85%D9%83%D9%88%D8%A7%D8%A9-%D8%AC%D8%A7%D9%81%D8%A9%D8%8C-1200-%D9%88%D8%A7%D8%B7/category/134/\n",
      "***********************************************************\n",
      "Count: 251\n",
      "URl: https://shatristore.com/ar/catalog/product/view/id/48222/s/%D8%A8%D8%A7%D9%86%D8%A7%D8%B3%D9%88%D9%86%D9%8A%D9%83-%D9%85%D9%83%D9%88%D8%A7%D8%A9-%D8%A8%D8%AE%D8%A7%D8%B1%D8%8C-2300-%D9%88%D8%A7%D8%B7/category/134/\n",
      "***********************************************************\n",
      "Count: 252\n",
      "URl: https://shatristore.com/ar/catalog/product/view/id/48221/s/%D8%AC%D9%8A-%D9%81%D9%8A-%D8%B3%D9%8A-%D8%A8%D8%B1%D9%88-%D9%85%D9%83%D9%88%D8%A7%D8%A9-%D8%A8%D8%AE%D8%A7%D8%B1-%D8%B9%D9%84%D8%A7%D9%82%D9%8A%D8%8C-1700-%D9%88%D8%A7%D8%B7/category/134/\n",
      "***********************************************************\n",
      "Count: 253\n",
      "URl: https://shatristore.com/ar/catalog/product/view/id/48220/s/%D8%AC%D9%8A-%D9%81%D9%8A-%D8%B3%D9%8A-%D8%A8%D8%B1%D9%88-%D9%85%D9%83%D9%88%D8%A7%D8%A9-%D8%A8%D8%AE%D8%A7%D8%B1-%D8%B9%D9%84%D8%A7%D9%82%D9%8A%D8%8C-1500-%D9%88%D8%A7%D8%B7/category/134/\n",
      "***********************************************************\n",
      "Count: 254\n",
      "URl: https://shatristore.com/ar/catalog/product/view/id/48213/s/%D8%AC%D9%8A-%D9%81%D9%8A-%D8%B3%D9%8A-%D8%A8%D8%B1%D9%88-%D9%85%D9%83%D9%88%D8%A7%D8%A9-%D8%B6%D8%BA%D8%B7-%D8%A8%D8%A7%D9%84%D8%A8%D8%AE%D8%A7%D8%B1-%D9%85%D8%B9-%D8%A7%D8%B3%D8%AA%D8%A7%D9%86%D8%AF%D8%8C-36-%D8%A8%D9%88%D8%B5%D8%A9%D8%8C-1600-%D9%88%D8%A7%D8%B7/category/134/\n",
      "***********************************************************\n",
      "Count: 255\n",
      "URl: https://shatristore.com/ar/catalog/product/view/id/48209/s/%D8%AF%D9%88%D8%AA%D8%B3-%D9%85%D9%83%D9%88%D8%A7%D8%A9-%D8%A8%D8%AE%D8%A7%D8%B1-%D8%B9%D9%84%D8%A7%D9%82%D9%8A%D8%8C-1600-%D9%88%D8%A7%D8%B7/category/134/\n",
      "***********************************************************\n",
      "Count: 256\n",
      "URl: https://shatristore.com/ar/catalog/product/view/id/48208/s/%D8%A3%D9%88%D9%83%D8%A7%D8%B1%D9%8A%D9%86%D8%A7-%D9%85%D9%83%D9%88%D8%A7%D9%87-%D8%AB%D9%82%D9%8A%D9%84%D8%A9%D8%8C-1200%D9%88%D8%A7%D8%B7/category/134/\n",
      "***********************************************************\n",
      "Count: 257\n",
      "URl: https://shatristore.com/ar/catalog/product/view/id/47631/s/%D8%A8%D8%A7%D9%86%D8%A7%D8%B3%D9%88%D9%86%D9%8A%D9%83-%D9%85%D9%83%D9%88%D8%A7%D8%A9-%D8%AC%D8%A7%D9%81%D8%A9%D8%8C-1000-%D9%88%D8%A7%D8%B7/category/134/\n",
      "***********************************************************\n",
      "Count: 258\n",
      "URl: https://shatristore.com/ar/catalog/product/view/id/47561/s/%D8%A8%D8%A7%D9%86%D8%A7%D8%B3%D9%88%D9%86%D9%8A%D9%83-%D9%85%D9%83%D9%88%D8%A7%D8%A9-%D8%AB%D9%82%D9%8A%D9%84%D8%A9%D8%8C-1000-%D9%88%D8%A7%D8%B7/category/134/\n",
      "***********************************************************\n",
      "Count: 259\n",
      "URl: https://shatristore.com/ar/catalog/product/view/id/47560/s/%D8%A8%D8%A7%D9%86%D8%A7%D8%B3%D9%88%D9%86%D9%8A%D9%83-%D9%85%D9%83%D9%88%D8%A7%D8%A9-%D8%AB%D9%82%D9%8A%D9%84%D8%A9%D8%8C-1000-%D9%88%D8%A7%D8%B7/category/134/\n",
      "***********************************************************\n",
      "Count: 260\n",
      "URl: https://shatristore.com/ar/catalog/product/view/id/47500/s/%D8%AA%D9%8A%D9%81%D8%A7%D9%84-%D9%85%D9%83%D9%88%D8%A7%D8%A9-%D8%A8%D8%AE%D8%A7%D8%B1%D8%8C-1200-%D9%88%D8%A7%D8%B7/category/134/\n",
      "***********************************************************\n",
      "Count: 261\n",
      "URl: https://shatristore.com/ar/catalog/product/view/id/47499/s/%D8%A8%D8%A7%D9%86%D8%A7%D8%B3%D9%88%D9%86%D9%8A%D9%83-%D9%85%D9%83%D9%88%D8%A7%D8%A9-%D8%A8%D8%AE%D8%A7%D8%B1%D8%8C-1550-%D9%88%D8%A7%D8%B7/category/134/\n",
      "***********************************************************\n",
      "Count: 262\n",
      "URl: https://shatristore.com/ar/catalog/product/view/id/47487/s/%D9%86%D9%8A%D9%83%D8%A7%D9%8A-%D9%85%D9%83%D9%88%D8%A7%D8%A9-%D8%A8%D8%AE%D8%A7%D8%B1%D8%8C-2200-%D9%88%D8%A7%D8%B7/category/134/\n",
      "***********************************************************\n",
      "Count: 263\n",
      "URl: https://shatristore.com/ar/kitchen-appliances//3-1-gvcm-1908\n",
      "***********************************************************\n",
      "Count: 264\n",
      "URl: https://shatristore.com/ar/kitchen-appliances//3-1-gvcm-1909\n",
      "***********************************************************\n",
      "Count: 265\n",
      "URl: https://shatristore.com/ar/kitchen-appliances//gvcm-1907\n"
     ]
    },
    {
     "name": "stdout",
     "output_type": "stream",
     "text": [
      "***********************************************************\n",
      "Count: 266\n",
      "URl: https://shatristore.com/ar/kitchen-appliances//gvcm-1906\n",
      "***********************************************************\n",
      "Count: 267\n",
      "URl: https://shatristore.com/ar/kitchen-appliances//gvcm-1905\n",
      "***********************************************************\n",
      "Count: 268\n",
      "URl: https://shatristore.com/ar/kitchen-appliances/%D9%86%D8%B3%D9%83%D8%A7%D9%81%D9%8A%D9%87-%D8%AF%D9%88%D9%84%D8%AA%D8%B4%D9%8A-%D8%BA%D9%88%D8%B3%D8%AA%D9%88-%D8%A2%D9%84%D8%A9-%D8%B5%D9%86%D8%B9-%D8%A7%D9%84%D9%82%D9%87%D9%88%D8%A9-%D8%AC%D9%8A%D9%86%D9%8A%D9%88-%D8%A5%D8%B3-%D8%A8%D9%84%D8%B3%D8%8C-%D8%A3%D8%B3%D9%88%D8%AF\n",
      "***********************************************************\n",
      "Count: 269\n",
      "URl: https://shatristore.com/ar/kitchen-appliances/%D9%83%D9%88%D9%84%D9%8A%D9%86-%D8%A7%D9%84%D8%A9-%D8%B5%D9%86%D8%B9-%D8%A7%D9%84%D9%82%D9%87%D9%88%D8%A9-%D8%A7%D9%84%D8%AA%D8%B1%D9%83%D9%8A-500-%D9%88%D8%A7%D8%B7-%D8%8C-0-4-%D9%84%D8%AA%D8%B1\n",
      "***********************************************************\n",
      "Count: 270\n",
      "URl: https://shatristore.com/ar/kitchen-appliances/%D9%86%D8%B3%D9%83%D8%A7%D9%81%D9%8A%D9%87-%D8%AF%D9%88%D9%84%D8%AA%D8%B4%D9%8A-%D8%BA%D9%88%D8%B3%D8%AA%D9%88-%D8%A2%D9%84%D8%A9-%D8%B5%D9%86%D8%B9-%D8%A7%D9%84%D9%82%D9%87%D9%88%D8%A9-%D9%85%D9%8A%D9%86%D9%8A-%D9%85%D9%8A-%D8%8C-%D8%A3%D8%B3%D9%88%D8%AF\n",
      "***********************************************************\n",
      "Count: 271\n",
      "URl: https://shatristore.com/ar/kitchen-appliances/%D9%86%D8%B3%D9%83%D8%A7%D9%81%D9%8A%D9%87-%D8%AF%D9%88%D9%84%D8%AA%D8%B4%D9%8A-%D8%BA%D9%88%D8%B3%D8%AA%D9%88-%D8%A2%D9%84%D8%A9-%D8%B5%D9%86%D8%B9-%D8%A7%D9%84%D9%82%D9%87%D9%88%D8%A9-%D8%AF%D9%8A%D9%84%D9%88%D9%86%D8%AC%D9%8A-1500-%D9%88%D8%A7%D8%B7-%D8%8C-%D8%A3%D8%B3%D9%88%D8%AF\n",
      "***********************************************************\n",
      "Count: 272\n",
      "URl: https://shatristore.com/ar/kitchen-appliances/%D9%86%D8%B3%D9%83%D8%A7%D9%81%D9%8A%D9%87-%D8%AF%D9%88%D9%84%D8%AA%D8%B4%D9%8A-%D8%BA%D9%88%D8%B3%D8%AA%D9%88-%D8%A2%D9%84%D8%A9-%D8%B5%D9%86%D8%B9-%D8%A7%D9%84%D9%82%D9%87%D9%88%D8%A9-%D9%85%D9%8A%D9%86%D9%8A-%D9%85%D9%8A-%D8%8C-%D8%A3%D8%AD%D9%85%D8%B1\n",
      "***********************************************************\n",
      "Count: 273\n",
      "URl: https://shatristore.com/ar/kitchen-appliances//--27\n",
      "***********************************************************\n",
      "Count: 274\n",
      "URl: https://shatristore.com/ar/kitchen-appliances/%D9%83%D9%88%D9%84%D9%8A%D9%86-%D8%A7%D9%84%D8%A9-%D8%B5%D9%86%D8%B9-%D8%A7%D9%84%D9%82%D9%87%D9%88%D8%A9-900-%D9%88%D8%A7%D8%B7-1\n",
      "***********************************************************\n",
      "Count: 275\n",
      "URl: https://shatristore.com/ar/kitchen-appliances/%D9%86%D8%B3%D9%83%D8%A7%D9%81%D9%8A%D9%87-%D8%AF%D9%88%D9%84%D8%AA%D8%B4%D9%8A-%D8%BA%D9%88%D8%B3%D8%AA%D9%88-%D8%A2%D9%84%D8%A9-%D8%B5%D9%86%D8%B9-%D8%A7%D9%84%D9%82%D9%87%D9%88%D8%A9-%D8%AC%D9%8A%D9%86%D9%8A%D9%88-%D8%A5%D8%B3-%D8%A8%D9%84%D8%B3%D8%8C-%D8%A3%D8%AD%D9%85%D8%B1\n",
      "***********************************************************\n",
      "Count: 276\n",
      "URl: https://shatristore.com/ar/kitchen-appliances/%D8%B1%D9%8A%D8%A8%D9%88%D9%86-%D8%A7%D9%84%D8%A9-%D8%B5%D9%86%D8%B9-%D8%A7%D9%84%D9%82%D9%87%D9%88%D8%A9-%D8%A7%D8%B3%D8%A8%D8%B1%D9%8A%D8%B3%D9%88-850-%D9%88%D8%A7%D8%B7-%D8%8C-1-6-%D9%84%D8%AA%D8%B1\n",
      "***********************************************************\n",
      "Count: 277\n",
      "URl: https://shatristore.com/ar/kitchen-appliances/%D8%A7%D9%84%D8%B3%D9%8A%D9%81-%D8%A7%D9%84%D9%8A%D9%83-%D8%B5%D8%A7%D9%86%D8%B9%D8%A9-%D8%A7%D9%84%D9%82%D9%87%D9%88%D8%A9-%D8%A8%D8%A7%D9%84%D9%83%D8%A8%D8%B3%D9%88%D9%84%D8%A7%D8%AA-1350-%D9%88%D8%A7%D8%B7-%D8%8C-0-75-%D9%84%D8%AA%D8%B1\n",
      "***********************************************************\n",
      "Count: 278\n",
      "URl: https://shatristore.com/ar/kitchen-appliances//600\n",
      "***********************************************************\n",
      "Count: 279\n",
      "URl: https://shatristore.com/ar/kitchen-appliances/%D8%AF%D9%8A%D9%84%D9%88%D9%86%D9%82%D9%8A-%D8%A7%D9%84%D8%A9-%D8%B5%D9%86%D8%B9-%D8%A7%D9%84%D9%82%D9%87%D9%88%D8%A9-1300-%D9%88%D8%A7%D8%B7-%D8%8C-1-1-%D9%84%D8%AA%D8%B1\n",
      "***********************************************************\n",
      "Count: 280\n",
      "URl: https://shatristore.com/ar/kitchen-appliances/%D8%B1%D9%8A%D8%A8%D9%88%D9%86-%D8%A7%D9%84%D8%A9-%D8%B5%D9%86%D8%B9-%D8%A7%D9%84%D9%82%D9%87%D9%88%D8%A9-800-%D9%88%D8%A7%D8%B7-%D8%8C-0-24-%D9%84%D8%AA%D8%B1\n",
      "***********************************************************\n",
      "Count: 281\n",
      "URl: https://shatristore.com/ar/kitchen-appliances//850-1-25\n",
      "***********************************************************\n",
      "Count: 282\n",
      "URl: https://shatristore.com/ar/kitchen-appliances/%D8%B1%D9%8A%D8%A8%D9%88%D9%86-%D8%A7%D9%84%D8%A9-%D8%B5%D9%86%D8%B9-%D8%A7%D9%84%D9%82%D9%87%D9%88%D8%A9-1000-%D9%88%D8%A7%D8%B7-%D8%8C-1-25-%D9%84%D8%AA%D8%B1\n",
      "***********************************************************\n",
      "Count: 283\n",
      "URl: https://shatristore.com/ar/kitchen-appliances/%D8%B1%D9%8A%D8%A8%D9%88%D9%86-%D8%A7%D9%84%D8%A9-%D8%B5%D9%86%D8%B9-%D8%A7%D9%84%D9%82%D9%87%D9%88%D8%A9-600-%D9%88%D8%A7%D8%B7-%D8%8C-0-65-%D9%84%D8%AA%D8%B1\n",
      "***********************************************************\n",
      "Count: 284\n",
      "URl: https://shatristore.com/ar/kitchen-appliances//550-500\n",
      "***********************************************************\n",
      "Count: 285\n",
      "URl: https://shatristore.com/ar/kitchen-appliances//gvcm-1902-gvcpro-3-1\n",
      "***********************************************************\n",
      "Count: 286\n",
      "URl: https://shatristore.com/ar/kitchen-appliances//gvcm-1901-gvcpro-3-1\n",
      "***********************************************************\n",
      "Count: 287\n",
      "URl: https://shatristore.com/ar/kitchen-appliances/%D9%86%D8%B3%D9%83%D8%A7%D9%81%D9%8A%D9%87-%D8%AF%D9%88%D9%84%D8%AA%D8%B4%D9%8A-%D8%BA%D9%88%D8%B3%D8%AA%D9%88-%D8%A2%D9%84%D8%A9-%D8%B5%D9%86%D8%B9-%D8%A7%D9%84%D9%82%D9%87%D9%88%D8%A9-%D8%A8%D9%8A%D9%83%D9%88%D9%84%D9%88-1460-%D9%88%D8%A7%D8%B7-%D8%8C-%D8%A3%D8%A8%D9%8A%D8%B6\n",
      "***********************************************************\n",
      "Count: 288\n",
      "URl: https://shatristore.com/ar/kitchen-appliances/%D8%A7%D9%84%D8%B3%D9%8A%D9%81-%D8%A7%D9%84%D9%8A%D9%83-%D8%B5%D8%A7%D9%86%D8%B9%D8%A9-%D8%A7%D9%84%D9%82%D9%87%D9%88%D8%A9-%D8%A7%D9%84%D8%AA%D8%B1%D9%83%D9%8A-480-%D9%88%D8%A7%D8%B7-%D8%8C-0-25-%D9%84%D8%AA%D8%B1\n",
      "***********************************************************\n",
      "Count: 289\n",
      "URl: https://shatristore.com/ar/kitchen-appliances/%D8%A7%D9%84%D8%B3%D9%8A%D9%81-%D8%A7%D9%84%D9%8A%D9%83-%D8%B5%D8%A7%D9%86%D8%B9%D8%A9-%D8%A7%D9%84%D9%82%D9%87%D9%88%D8%A9-%D8%A7%D9%84%D8%AA%D8%B1%D9%83%D9%8A-480-%D9%88%D8%A7%D8%B7-%D8%8C-0-25-%D9%84%D8%AA%D8%B1-1\n",
      "***********************************************************\n",
      "Count: 290\n",
      "URl: https://shatristore.com/ar/kitchen-appliances/housewares/j1326982\n",
      "***********************************************************\n",
      "Count: 291\n",
      "URl: https://shatristore.com/ar/kitchen-appliances/housewares/k99018-18\n",
      "***********************************************************\n",
      "Count: 292\n",
      "URl: https://shatristore.com/ar/kitchen-appliances/housewares/%D8%A7%D9%84%D8%B3%D9%8A%D9%81-%D8%A7%D9%84%D9%8A%D9%83-%D9%82%D8%AF%D8%B1-%D8%A7%D9%84%D8%B6%D8%BA%D8%B7-%D8%A7%D9%84%D9%85%D9%86%D9%8A%D9%88%D9%85-10-%D9%84%D8%AA%D8%B1\n",
      "***********************************************************\n",
      "Count: 293\n",
      "URl: https://shatristore.com/ar/kitchen-appliances/housewares/%D8%B4%D8%A7%D9%87%D8%A7-%D8%AA%D8%B1%D9%85%D8%B3-%D8%A7%D9%84%D8%B1%D8%AD%D9%84%D8%A7%D8%AA-%D8%B3%D8%AA%D9%8A%D9%84-%D9%8A%D8%AD%D9%81%D8%B8-%D8%A7%D9%84%D8%AD%D8%B1%D8%A7%D8%B1%D8%A9-%D9%84%D9%81%D8%AA%D8%B1%D8%A7%D8%AA-%D8%B7%D9%88%D9%8A%D9%84%D8%A9-1-9-%D9%84%D8%AA%D8%B1-3\n",
      "***********************************************************\n",
      "Count: 294\n",
      "URl: https://shatristore.com/ar/kitchen-appliances/housewares/%D8%B4%D8%A7%D9%87%D8%A7-%D8%AA%D8%B1%D9%85%D8%B3-%D8%A7%D9%84%D8%B1%D8%AD%D9%84%D8%A7%D8%AA-%D8%B3%D8%AA%D9%8A%D9%84-%D9%8A%D8%AD%D9%81%D8%B8-%D8%A7%D9%84%D8%AD%D8%B1%D8%A7%D8%B1%D8%A9-%D9%84%D9%81%D8%AA%D8%B1%D8%A7%D8%AA-%D8%B7%D9%88%D9%8A%D9%84%D8%A9-1-9-%D9%84%D8%AA%D8%B1-2\n",
      "***********************************************************\n",
      "Count: 295\n",
      "URl: https://shatristore.com/ar/kitchen-appliances/housewares/%D8%B4%D8%A7%D9%87%D8%A7-%D8%AA%D8%B1%D9%85%D8%B3-%D8%B3%D9%88%D8%A7%D8%A6%D9%84-%D8%A8%D8%AA%D8%B5%D9%85%D9%8A%D9%85-%D8%A3%D9%86%D9%8A%D9%82-%D9%8A%D8%AD%D9%81%D8%B8-%D8%A7%D9%84%D8%AD%D8%B1%D8%A7%D8%B1%D8%A9-%D9%84%D9%81%D8%AA%D8%B1%D8%A7%D8%AA-%D8%B7%D9%88%D9%8A%D9%84%D8%A9-1-4-%D9%84%D8%AA%D8%B1\n"
     ]
    },
    {
     "name": "stdout",
     "output_type": "stream",
     "text": [
      "***********************************************************\n",
      "Count: 296\n",
      "URl: https://shatristore.com/ar/kitchen-appliances/housewares/%D8%B4%D8%A7%D9%87%D8%A7-%D8%AA%D8%B1%D9%85%D8%B3-%D8%A7%D9%84%D8%B1%D8%AD%D9%84%D8%A7%D8%AA-%D8%B3%D8%AA%D9%8A%D9%84-%D9%8A%D8%AD%D9%81%D8%B8-%D8%A7%D9%84%D8%AD%D8%B1%D8%A7%D8%B1%D8%A9-%D9%84%D9%81%D8%AA%D8%B1%D8%A7%D8%AA-%D8%B7%D9%88%D9%8A%D9%84%D8%A9-1-9-%D9%84%D8%AA%D8%B1-1\n",
      "***********************************************************\n",
      "Count: 297\n",
      "URl: https://shatristore.com/ar/kitchen-appliances/housewares/%D8%B4%D8%A7%D9%87%D8%A7-%D8%AA%D8%B1%D9%85%D8%B3-%D8%B3%D9%88%D8%A7%D8%A6%D9%84-%D8%B3%D8%AA%D9%8A%D9%84-%D9%8A%D8%AD%D9%81%D8%B8-%D8%A7%D9%84%D8%AD%D8%B1%D8%A7%D8%B1%D8%A9-%D9%84%D9%81%D8%AA%D8%B1%D8%A7%D8%AA-%D8%B7%D9%88%D9%8A%D9%84%D8%A9-1-1-%D9%84%D8%AA%D8%B1-2\n",
      "***********************************************************\n",
      "Count: 298\n",
      "URl: https://shatristore.com/ar/kitchen-appliances/housewares/%D8%B4%D8%A7%D9%87%D8%A7-%D8%AA%D8%B1%D9%85%D8%B3-%D8%B3%D9%88%D8%A7%D8%A6%D9%84-%D8%B3%D8%AA%D9%8A%D9%84-%D9%8A%D8%AD%D9%81%D8%B8-%D8%A7%D9%84%D8%AD%D8%B1%D8%A7%D8%B1%D8%A9-%D9%84%D9%81%D8%AA%D8%B1%D8%A7%D8%AA-%D8%B7%D9%88%D9%8A%D9%84%D8%A9-1-1-%D9%84%D8%AA%D8%B1-1\n",
      "***********************************************************\n",
      "Count: 299\n",
      "URl: https://shatristore.com/ar/kitchen-appliances/housewares/%D8%B4%D8%A7%D9%87%D8%A7-%D8%AA%D8%B1%D9%85%D8%B3-%D8%B3%D9%88%D8%A7%D8%A6%D9%84-%D8%B3%D8%AA%D9%8A%D9%84-%D9%8A%D8%AD%D9%81%D8%B8-%D8%A7%D9%84%D8%AD%D8%B1%D8%A7%D8%B1%D8%A9-%D9%84%D9%81%D8%AA%D8%B1%D8%A7%D8%AA-%D8%B7%D9%88%D9%8A%D9%84%D8%A9-1-1-%D9%84%D8%AA%D8%B1\n",
      "***********************************************************\n",
      "Count: 300\n",
      "URl: https://shatristore.com/ar/kitchen-appliances/housewares/%D8%B4%D8%A7%D9%87%D8%A7-%D8%AA%D8%B1%D9%85%D8%B3-%D8%B3%D9%88%D8%A7%D8%A6%D9%84-%D8%B3%D8%AA%D9%8A%D9%84-%D8%AD%D9%81%D8%B8-%D8%A7%D9%84%D8%AD%D8%B1%D8%A7%D8%B1%D8%A9-%D8%A3%D9%88-%D8%A7%D9%84%D8%A8%D8%B1%D9%88%D8%AF%D8%A9-24-%D8%B3%D8%A7%D8%B9%D8%A9%D8%8C-2-%D9%84%D8%AA%D8%B1-3\n",
      "***********************************************************\n",
      "Count: 301\n",
      "URl: https://shatristore.com/ar/kitchen-appliances/housewares/%D8%B4%D8%A7%D9%87%D8%A7-%D8%AA%D8%B1%D9%85%D8%B3-%D8%B3%D9%88%D8%A7%D8%A6%D9%84-%D8%B3%D8%AA%D9%8A%D9%84-%D8%AD%D9%81%D8%B8-%D8%A7%D9%84%D8%AD%D8%B1%D8%A7%D8%B1%D8%A9-%D8%A3%D9%88-%D8%A7%D9%84%D8%A8%D8%B1%D9%88%D8%AF%D8%A9-24-%D8%B3%D8%A7%D8%B9%D8%A9%D8%8C-2-%D9%84%D8%AA%D8%B1-2\n",
      "***********************************************************\n",
      "Count: 302\n",
      "URl: https://shatristore.com/ar/kitchen-appliances/housewares/%D8%B4%D8%A7%D9%87%D8%A7-%D8%AA%D8%B1%D9%85%D8%B3-%D8%B3%D9%88%D8%A7%D8%A6%D9%84-%D8%B3%D8%AA%D9%8A%D9%84-%D8%AD%D9%81%D8%B8-%D8%A7%D9%84%D8%AD%D8%B1%D8%A7%D8%B1%D8%A9-%D8%A3%D9%88-%D8%A7%D9%84%D8%A8%D8%B1%D9%88%D8%AF%D8%A9-24-%D8%B3%D8%A7%D8%B9%D8%A9%D8%8C-2-%D9%84%D8%AA%D8%B1-1\n",
      "***********************************************************\n",
      "Count: 303\n",
      "URl: https://shatristore.com/ar/kitchen-appliances/housewares/%D8%B4%D8%A7%D9%87%D8%A7-%D8%AA%D8%B1%D9%85%D8%B3-%D8%B3%D9%88%D8%A7%D8%A6%D9%84-%D8%B3%D8%AA%D9%8A%D9%84-1-5-%D9%84%D8%AA%D8%B1\n",
      "***********************************************************\n",
      "Count: 304\n",
      "URl: https://shatristore.com/ar/kitchen-appliances/housewares/%D8%B3%D8%A7%D9%86-%D9%81%D9%88%D8%B1%D8%AF-%D8%AA%D8%B1%D9%85%D8%B3-%D9%84%D8%AD%D9%81%D8%B8-%D8%A7%D9%84%D8%B3%D9%88%D8%A7%D8%A6%D9%84-1-3-%D9%84%D8%AA%D8%B1\n",
      "***********************************************************\n",
      "Count: 305\n",
      "URl: https://shatristore.com/ar/kitchen-appliances/housewares/%D8%B3%D8%A7%D9%86-%D9%81%D9%88%D8%B1%D8%AF-%D8%AA%D8%B1%D9%85%D8%B3-%D9%84%D8%AD%D9%81%D8%B8-%D8%A7%D9%84%D8%B3%D9%88%D8%A7%D8%A6%D9%84-1-6-%D9%84%D8%AA%D8%B1\n",
      "***********************************************************\n",
      "Count: 306\n",
      "URl: https://shatristore.com/ar/kitchen-appliances/housewares/%D8%B4%D8%A7%D9%87%D8%A7-%D8%AA%D8%B1%D9%85%D8%B3-%D8%B3%D9%88%D8%A7%D8%A6%D9%84-%D8%B3%D8%AA%D9%8A%D9%84-%D8%AD%D9%81%D8%B8-%D8%A7%D9%84%D8%AD%D8%B1%D8%A7%D8%B1%D8%A9-%D8%A3%D9%88-%D8%A7%D9%84%D8%A8%D8%B1%D9%88%D8%AF%D8%A9-24-%D8%B3%D8%A7%D8%B9%D8%A9%D8%8C-1-5-%D9%84%D8%AA%D8%B1\n",
      "***********************************************************\n",
      "Count: 307\n",
      "URl: https://shatristore.com/ar/kitchen-appliances/housewares/%D8%B4%D8%A7%D9%87%D8%A7-%D8%AA%D8%B1%D9%85%D8%B3-%D8%B3%D9%88%D8%A7%D8%A6%D9%84-%D8%B3%D8%AA%D9%8A%D9%84-2-%D9%84%D8%AA%D8%B1\n",
      "***********************************************************\n",
      "Count: 308\n",
      "URl: https://shatristore.com/ar/kitchen-appliances/housewares/%D8%AA%D9%8A%D9%81%D8%A7%D9%84-%D9%82%D8%AF%D8%B1-%D8%B6%D8%BA%D8%B7-%D8%B3%D8%AA%D8%A7%D9%86%D9%84%D8%B3-%D8%B3%D8%AA%D9%8A%D9%84-12-%D9%84%D8%AA%D8%B1\n",
      "***********************************************************\n",
      "Count: 309\n",
      "URl: https://shatristore.com/ar/kitchen-appliances/housewares/%D8%AA%D9%8A%D9%81%D8%A7%D9%84-%D9%82%D8%A7%D9%84%D8%A8-%D9%83%D9%8A%D9%83-%D8%A7%D9%84%D9%85%D9%86%D9%8A%D9%88%D9%85-27-%D8%B3%D9%85-2\n",
      "***********************************************************\n",
      "Count: 310\n",
      "URl: https://shatristore.com/ar/kitchen-appliances/housewares/%D8%AA%D9%8A%D9%81%D8%A7%D9%84-%D9%85%D8%AC%D9%85%D9%88%D8%B9%D8%A9-%D8%B5%D9%88%D8%A7%D9%86%D9%8A-%D9%81%D8%B1%D9%86-%D8%AF%D8%A7%D8%A6%D8%B1%D9%8A%D8%A9-%D9%85%D9%82%D8%A7%D8%B3-34-38-%D8%B3%D9%85-1\n",
      "***********************************************************\n",
      "Count: 311\n",
      "URl: https://shatristore.com/ar/kitchen-appliances/housewares/%D8%AA%D9%8A%D9%81%D8%A7%D9%84-%D9%85%D8%AC%D9%85%D9%88%D8%B9%D8%A9-%D8%B5%D9%88%D8%A7%D9%86%D9%8A-%D9%81%D8%B1%D9%86-%D9%85%D8%B3%D8%AA%D8%B7%D9%8A%D9%84%D8%A9-3-%D9%82%D8%B7%D8%B9-3\n",
      "***********************************************************\n",
      "Count: 312\n",
      "URl: https://shatristore.com/ar/kitchen-appliances/housewares/%D8%AA%D9%8A%D9%81%D8%A7%D9%84-%D9%85%D8%AC%D9%85%D9%88%D8%B9%D8%A9-%D8%B5%D9%88%D8%A7%D9%86%D9%8A-%D9%81%D8%B1%D9%86-%D9%85%D8%B3%D8%AA%D8%B7%D9%8A%D9%84%D8%A9-3-%D9%82%D8%B7%D8%B9-2\n",
      "***********************************************************\n",
      "Count: 313\n",
      "URl: https://shatristore.com/ar/kitchen-appliances/housewares/%D9%84%D8%A7%D9%85%D8%A8%D8%B1%D8%AA-%D9%82%D8%AF%D8%B1-%D8%B6%D8%BA%D8%B7-%D8%AC%D8%B1%D8%A7%D9%86%D9%8A%D8%AA-11-%D9%84%D8%AA%D8%B1-2\n",
      "***********************************************************\n",
      "Count: 314\n",
      "URl: https://shatristore.com/ar/kitchen-appliances/housewares/%D9%84%D8%A7%D9%85%D8%A8%D8%B1%D8%AA-%D9%82%D8%AF%D8%B1-%D8%B6%D8%BA%D8%B7-%D8%AC%D8%B1%D8%A7%D9%86%D9%8A%D8%AA-9-%D9%84%D8%AA%D8%B1-2\n",
      "***********************************************************\n",
      "Count: 315\n",
      "URl: https://shatristore.com/ar/kitchen-appliances/housewares/%D9%84%D8%A7%D9%85%D8%A8%D8%B1%D8%AA-%D9%82%D8%AF%D8%B1-%D8%B6%D8%BA%D8%B7-%D8%AC%D8%B1%D8%A7%D9%86%D9%8A%D8%AA-9-%D9%84%D8%AA%D8%B1-1\n",
      "***********************************************************\n",
      "Count: 316\n",
      "URl: https://shatristore.com/ar/kitchen-appliances/housewares/%D9%84%D8%A7%D9%85%D8%A8%D8%B1%D8%AA-%D9%82%D8%AF%D8%B1-%D8%B6%D8%BA%D8%B7-%D8%AC%D8%B1%D8%A7%D9%86%D9%8A%D8%AA-7-%D9%84%D8%AA%D8%B1-1\n",
      "***********************************************************\n",
      "Count: 317\n",
      "URl: https://shatristore.com/ar/kitchen-appliances/housewares/%D8%B1%D9%8A%D8%A8%D9%88%D9%86-%D9%82%D8%AF%D8%B1-%D8%B6%D8%BA%D8%B7-%D8%A7%D9%84%D9%85%D9%86%D9%8A%D9%88%D9%85-15-%D9%84%D8%AA%D8%B1\n",
      "***********************************************************\n",
      "Count: 318\n",
      "URl: https://shatristore.com/ar/kitchen-appliances/housewares/%D8%B1%D9%8A%D8%A8%D9%88%D9%86-%D9%82%D8%AF%D8%B1-%D8%B6%D8%BA%D8%B7-%D8%A7%D9%84%D9%85%D9%86%D9%8A%D9%88%D9%85-11-%D9%84%D8%AA%D8%B1-1\n",
      "***********************************************************\n",
      "Count: 319\n",
      "URl: https://shatristore.com/ar/kitchen-appliances/housewares/%D8%B1%D9%8A%D8%A8%D9%88%D9%86-%D9%82%D8%AF%D8%B1-%D8%B6%D8%BA%D8%B7-%D8%A7%D9%84%D9%85%D9%86%D9%8A%D9%88%D9%85-9-%D9%84%D8%AA%D8%B1-1\n",
      "***********************************************************\n",
      "Count: 320\n",
      "URl: https://shatristore.com/ar/kitchen-appliances/housewares/%D8%AA%D9%8A%D9%81%D8%A7%D9%84-%D9%85%D9%82%D9%84%D8%A7%D9%87-%D8%AA%D9%85%D8%A8%D9%88-%D8%AA%D8%A7%D9%88%D8%A7-30-%D8%B3%D9%85\n",
      "***********************************************************\n",
      "Count: 321\n",
      "URl: https://shatristore.com/ar/kitchen-appliances/housewares/%D8%A7%D9%84%D8%B3%D9%8A%D9%81-%D8%A7%D9%84%D9%8A%D9%83-%D9%82%D8%AF%D8%B1-%D8%B6%D8%BA%D8%B7-%D8%A7%D9%84%D9%85%D9%86%D9%8A%D9%88%D9%85-15-%D9%84%D8%AA%D8%B1\n"
     ]
    },
    {
     "name": "stdout",
     "output_type": "stream",
     "text": [
      "***********************************************************\n",
      "Count: 322\n",
      "URl: https://shatristore.com/ar/kitchen-appliances/housewares/%D8%AA%D9%8A%D9%81%D8%A7%D9%84-%D9%85%D8%AC%D9%85%D9%88%D8%B9%D8%A9-%D8%B5%D9%88%D8%A7%D9%86%D9%8A-%D9%81%D8%B1%D9%86-%D9%85%D8%B3%D8%AA%D8%B7%D9%8A%D9%84%D8%A9-3-%D9%82%D8%B7%D8%B9\n",
      "***********************************************************\n",
      "Count: 323\n",
      "URl: https://shatristore.com/ar/kitchen-appliances/housewares/%D8%A7%D9%84%D8%B3%D9%8A%D9%81-%D8%A7%D9%84%D9%8A%D9%83-%D9%82%D8%AF%D8%B1-%D8%B6%D8%BA%D8%B7-%D8%A7%D9%84%D9%85%D9%86%D9%8A%D9%88%D9%85-7-%D9%84%D8%AA%D8%B1\n",
      "***********************************************************\n",
      "Count: 324\n",
      "URl: https://shatristore.com/ar/kitchen-appliances/housewares/%D8%A7%D9%84%D8%B3%D9%8A%D9%81-%D8%A7%D9%84%D9%8A%D9%83-%D9%82%D8%AF%D8%B1-%D8%A7%D9%84%D8%B6%D8%BA%D8%B7-%D8%A7%D9%84%D9%85%D9%86%D9%8A%D9%88%D9%85-11-%D9%84%D8%AA%D8%B1\n",
      "***********************************************************\n",
      "Count: 325\n",
      "URl: https://shatristore.com/ar/kitchen-appliances/housewares/%D8%AA%D9%8A%D9%81%D8%A7%D9%84-%D9%82%D8%AF%D8%B1-%D8%B6%D8%BA%D8%B7-%D8%B3%D8%AA%D8%A7%D9%86%D9%84%D8%B3-%D8%B3%D8%AA%D9%8A%D9%84-10-%D9%84%D8%AA%D8%B1\n",
      "***********************************************************\n",
      "Count: 326\n",
      "URl: https://shatristore.com/ar/kitchen-appliances/housewares/%D8%A7%D9%84%D8%B3%D9%8A%D9%81-%D8%A7%D9%84%D9%8A%D9%83-%D9%82%D8%AF%D8%B1-%D8%B6%D8%BA%D8%B7-%D8%A7%D9%84%D9%85%D9%86%D9%8A%D9%88%D9%85-8-%D9%84%D8%AA%D8%B1\n",
      "***********************************************************\n",
      "Count: 327\n",
      "URl: https://shatristore.com/ar/kitchen-appliances/housewares/%D8%AA%D9%8A%D9%81%D8%A7%D9%84-%D9%82%D8%AF%D8%B1-%D8%A7%D9%84%D8%B7%D9%87%D9%8A-22-%D8%B3%D9%85\n",
      "***********************************************************\n",
      "Count: 328\n",
      "URl: https://shatristore.com/ar/kitchen-appliances/housewares/%D8%AA%D9%8A%D9%81%D8%A7%D9%84-%D9%82%D8%AF%D8%B1-%D8%A7%D9%84%D8%B7%D9%87%D9%8A-24-%D8%B3%D9%85\n",
      "***********************************************************\n",
      "Count: 329\n",
      "URl: https://shatristore.com/ar/kitchen-appliances/housewares/%D8%AA%D9%8A%D9%81%D8%A7%D9%84-%D8%B5%D9%8A%D9%86%D9%8A%D8%A9-%D9%81%D8%B1%D9%86-%D9%85%D8%B3%D8%AA%D8%B7%D9%8A%D9%84%D8%A9-%D9%85%D9%82%D8%A7%D8%B3-37-%D8%B3%D9%85\n",
      "***********************************************************\n",
      "Count: 330\n",
      "URl: https://shatristore.com/ar/kitchen-appliances/housewares/%D8%AA%D9%8A%D9%81%D8%A7%D9%84-%D9%82%D8%AF%D8%B1-%D8%A7%D9%84%D8%B7%D9%87%D9%8A-28-%D8%B3%D9%85\n",
      "***********************************************************\n",
      "Count: 331\n",
      "URl: https://shatristore.com/ar/kitchen-appliances/housewares/%D8%AA%D9%8A%D9%81%D8%A7%D9%84-%D8%B5%D9%8A%D9%86%D9%8A%D8%A9-%D9%81%D8%B1%D9%86-%D9%85%D8%B3%D8%AA%D8%B7%D9%8A%D9%84%D8%A9-%D9%85%D9%82%D8%A7%D8%B3-45-%D8%B3%D9%85\n",
      "***********************************************************\n",
      "Count: 332\n",
      "URl: https://shatristore.com/ar/kitchen-appliances/housewares/%D8%AA%D9%8A%D9%81%D8%A7%D9%84-%D9%82%D8%AF%D8%B1-%D8%B6%D8%BA%D8%B7-%D8%B3%D8%AA%D8%A7%D9%86%D9%84%D8%B3-%D8%B3%D8%AA%D9%8A%D9%84-6-%D9%84%D8%AA%D8%B1\n",
      "***********************************************************\n",
      "Count: 333\n",
      "URl: https://shatristore.com/ar/kitchen-appliances/housewares/%D8%AA%D9%8A%D9%81%D8%A7%D9%84-%D9%82%D8%AF%D8%B1-%D8%B6%D8%BA%D8%B7-%D8%B3%D8%AA%D8%A7%D9%86%D9%84%D8%B3-%D8%B3%D8%AA%D9%8A%D9%84-8-%D9%84%D8%AA%D8%B1\n",
      "***********************************************************\n",
      "Count: 334\n",
      "URl: https://shatristore.com/ar/kitchen-appliances/housewares/%D8%AA%D9%8A%D9%81%D8%A7%D9%84-%D9%85%D8%AC%D9%85%D9%88%D8%B9%D8%A9-%D9%82%D8%AF%D9%88%D8%B1-%D8%A7%D9%84%D8%B7%D9%87%D9%8A-%D8%A8%D9%84%D9%8A%D8%AC%D8%B1-%D9%85%D8%B9-%D8%BA%D8%B7%D8%A7%D8%A1-%D8%B2%D8%AC%D8%A7%D8%AC%D9%8A-9-%D9%82%D8%B7%D8%B9\n",
      "***********************************************************\n",
      "Count: 335\n",
      "URl: https://shatristore.com/ar/kitchen-appliances/fryers/%D9%81%D9%8A%D9%84%D9%8A%D8%A8%D8%B3-%D9%82%D9%84%D8%A7%D9%8A%D8%A9-%D8%B5%D8%AD%D9%8A%D8%A9-%D8%A8%D8%AF%D9%88%D9%86-%D8%B2%D9%8A%D8%AA-1425-%D9%88%D8%A7%D8%B7-%D8%8C-0-8-%D9%83%D8%AC%D9%85-1\n",
      "***********************************************************\n",
      "Count: 336\n",
      "URl: https://shatristore.com/ar/kitchen-appliances/fryers/%D8%A7%D9%84%D8%B3%D9%8A%D9%81-%D8%A7%D9%84%D9%8A%D9%83-%D9%82%D9%84%D8%A7%D9%8A%D8%A9-%D8%B5%D8%AD%D9%8A%D8%A9-%D8%A8%D8%AF%D9%88%D9%86-%D8%B2%D9%8A%D8%AA-1800-%D9%88%D8%A7%D8%B7-%D8%8C-6-%D9%84%D8%AA%D8%B1-1\n",
      "***********************************************************\n",
      "Count: 337\n",
      "URl: https://shatristore.com/ar/kitchen-appliances/fryers/%D9%81%D9%8A%D9%84%D9%8A%D8%A8%D8%B3-%D9%82%D9%84%D8%A7%D9%8A%D8%A9-%D8%B5%D8%AD%D9%8A%D8%A9-%D8%A8%D8%AF%D9%88%D9%86-%D8%B2%D9%8A%D8%AA-1425-%D9%88%D8%A7%D8%B7-%D8%8C-0-8-%D9%83%D8%AC%D9%85-3\n",
      "***********************************************************\n",
      "Count: 338\n",
      "URl: https://shatristore.com/ar/kitchen-appliances/fryers/%D9%83%D9%88%D9%84%D9%8A%D9%86-%D9%82%D9%84%D8%A7%D9%8A%D8%A9-%D8%B2%D9%8A%D8%AA-%D8%A8%D9%88%D8%B9%D8%A7%D8%A1-%D8%AB%D8%A7%D8%A8%D8%AA-%D9%88-%D9%81%D9%84%D8%AA%D8%B1-%D8%8C-3-%D9%84%D8%AA%D8%B1\n",
      "***********************************************************\n",
      "Count: 339\n",
      "URl: https://shatristore.com/ar/kitchen-appliances/fryers/%D9%81%D9%8A%D9%84%D9%8A%D8%A8%D8%B3-%D9%82%D9%84%D8%A7%D9%8A%D8%A9-%D8%B5%D8%AD%D9%8A%D8%A9-%D8%A8%D8%AF%D9%88%D9%86-%D8%B2%D9%8A%D8%AA-2200-%D9%88%D8%A7%D8%B7-%D8%8C-1-4-%D9%83%D8%AC%D9%85-1\n",
      "***********************************************************\n",
      "Count: 340\n",
      "URl: https://shatristore.com/ar/kitchen-appliances/fryers/%D8%A7%D9%84%D8%B3%D9%8A%D9%81-%D8%A7%D9%84%D9%8A%D9%83-%D9%82%D9%84%D8%A7%D9%8A%D8%A9-%D8%B5%D8%AD%D9%8A%D8%A9-%D8%A8%D8%AF%D9%88%D9%86-%D8%B2%D9%8A%D8%AA-1800-%D9%88%D8%A7%D8%B7-%D8%8C-9-%D9%84%D8%AA%D8%B1-2\n",
      "***********************************************************\n",
      "Count: 341\n",
      "URl: https://shatristore.com/ar/kitchen-appliances/fryers/%D8%A7%D9%84%D8%B3%D9%8A%D9%81-%D8%A7%D9%84%D9%8A%D9%83-%D9%82%D9%84%D8%A7%D9%8A%D8%A9-%D8%B5%D8%AD%D9%8A%D8%A9-%D8%A8%D8%AF%D9%88%D9%86-%D8%B2%D9%8A%D8%AA-1800-%D9%88%D8%A7%D8%B7-%D8%8C-9-%D9%84%D8%AA%D8%B1-4\n",
      "***********************************************************\n",
      "Count: 342\n",
      "URl: https://shatristore.com/ar/kitchen-appliances/fryers/%D8%A7%D9%84%D8%B3%D9%8A%D9%81-%D8%A7%D9%84%D9%8A%D9%83-%D9%82%D9%84%D8%A7%D9%8A%D8%A9-%D8%B5%D8%AD%D9%8A%D8%A9-%D8%A8%D8%AF%D9%88%D9%86-%D8%B2%D9%8A%D8%AA-1800-%D9%88%D8%A7%D8%B7-%D8%8C-6-%D9%84%D8%AA%D8%B1-2\n",
      "***********************************************************\n",
      "Count: 343\n",
      "URl: https://shatristore.com/ar/kitchen-appliances/fryers/%D9%81%D9%8A%D9%84%D9%8A%D8%A8%D8%B3-%D9%82%D9%84%D8%A7%D9%8A%D8%A9-%D8%B5%D8%AD%D9%8A%D8%A9-%D8%A8%D8%AF%D9%88%D9%86-%D8%B2%D9%8A%D8%AA-1425-%D9%88%D8%A7%D8%B7-%D8%8C-0-8-%D9%83%D8%AC%D9%85\n",
      "***********************************************************\n",
      "Count: 344\n",
      "URl: https://shatristore.com/ar/kitchen-appliances/fryers/%D8%A7%D9%84%D8%B3%D9%8A%D9%81-%D8%A7%D9%84%D9%8A%D9%83-%D9%82%D9%84%D8%A7%D9%8A%D8%A9-%D8%B5%D8%AD%D9%8A%D8%A9-%D8%A8%D8%AF%D9%88%D9%86-%D8%B2%D9%8A%D8%AA-1800-%D9%88%D8%A7%D8%B7-%D8%8C-6-%D9%84%D8%AA%D8%B1\n",
      "***********************************************************\n",
      "Count: 345\n",
      "URl: https://shatristore.com/ar/kitchen-appliances/fryers/%D9%83%D9%88%D9%84%D9%8A%D9%86-%D9%82%D9%84%D8%A7%D9%8A%D8%A9-%D8%B5%D8%AD%D9%8A%D8%A9-%D8%A8%D8%AF%D9%88%D9%86-%D8%B2%D9%8A%D8%AA-1000-%D9%88%D8%A7%D8%B7-%D8%8C-2-%D9%84%D8%AA%D8%B1\n",
      "***********************************************************\n",
      "Count: 346\n",
      "URl: https://shatristore.com/ar/kitchen-appliances/fryers/%D9%83%D9%88%D9%84%D9%8A%D9%86-%D9%82%D9%84%D8%A7%D9%8A%D8%A9-%D8%B5%D8%AD%D9%8A%D8%A9-%D8%A8%D8%AF%D9%88%D9%86-%D8%B2%D9%8A%D8%AA-2000-%D9%88%D8%A7%D8%B7-%D8%8C-4-5-%D9%84%D8%AA%D8%B1\n",
      "***********************************************************\n",
      "Count: 347\n",
      "URl: https://shatristore.com/ar/kitchen-appliances/fryers/%D8%AC%D9%8A-%D9%81%D9%8A-%D8%B3%D9%8A-%D8%A8%D8%B1%D9%88-%D9%82%D9%84%D8%A7%D9%8A%D9%87-%D8%B5%D8%AD%D9%8A%D9%87-%D8%A8%D8%AF%D9%88%D9%86-%D8%B2%D9%8A%D8%AA-7-%D9%84%D8%AA%D8%B1-1\n",
      "***********************************************************\n",
      "Count: 348\n",
      "URl: https://shatristore.com/ar/kitchen-appliances/fryers/%D8%A7%D9%84%D8%B3%D9%8A%D9%81-%D8%A7%D9%84%D9%8A%D9%83-%D9%82%D9%84%D8%A7%D9%8A%D8%A9-%D8%B5%D8%AD%D9%8A%D8%A9-%D8%A8%D8%AF%D9%88%D9%86-%D8%B2%D9%8A%D8%AA-1800-%D9%88%D8%A7%D8%B7-%D8%8C-6-%D9%84%D8%AA%D8%B1-4\n"
     ]
    },
    {
     "name": "stdout",
     "output_type": "stream",
     "text": [
      "***********************************************************\n",
      "Count: 349\n",
      "URl: https://shatristore.com/ar/kitchen-appliances/fryers/%D8%A7%D9%84%D8%B3%D9%8A%D9%81-%D8%A7%D9%84%D9%8A%D9%83-%D9%82%D9%84%D8%A7%D9%8A%D8%A9-%D8%B5%D8%AD%D9%8A%D8%A9-%D8%A8%D8%AF%D9%88%D9%86-%D8%B2%D9%8A%D8%AA-1800-%D9%88%D8%A7%D8%B7-%D8%8C-9-%D9%84%D8%AA%D8%B1-3\n",
      "***********************************************************\n",
      "Count: 350\n",
      "URl: https://shatristore.com/ar/kitchen-appliances/fryers/%D8%AA%D9%8A%D9%81%D8%A7%D9%84-%D9%82%D9%84%D8%A7%D9%8A%D8%A9-%D8%B5%D8%AD%D9%8A%D8%A9-%D8%A8%D9%85%D9%84%D8%B9%D9%82%D8%A9-%D8%B2%D9%8A%D8%AA-1400-%D9%88%D8%A7%D8%B7-%D8%8C-1-2-%D9%83%D8%AC%D9%85\n",
      "***********************************************************\n",
      "Count: 351\n",
      "URl: https://shatristore.com/ar/kitchen-appliances/fryers/%D8%A7%D9%84%D8%B3%D9%8A%D9%81-%D8%A7%D9%84%D9%8A%D9%83-%D9%82%D9%84%D8%A7%D9%8A%D8%A9-%D8%B5%D8%AD%D9%8A%D8%A9-%D8%A8%D8%AF%D9%88%D9%86-%D8%B2%D9%8A%D8%AA-1800-%D9%88%D8%A7%D8%B7-%D8%8C-6-%D9%84%D8%AA%D8%B1-3\n",
      "***********************************************************\n",
      "Count: 352\n",
      "URl: https://shatristore.com/ar/kitchen-appliances/fryers/%D8%AC%D9%8A-%D9%81%D9%8A-%D8%B3%D9%8A-%D8%A8%D8%B1%D9%88-%D9%82%D9%84%D8%A7%D9%8A%D9%87-%D8%B5%D8%AD%D9%8A%D9%87-%D8%A8%D8%AF%D9%88%D9%86-%D8%B2%D9%8A%D8%AA-7-%D9%84%D8%AA%D8%B1\n",
      "***********************************************************\n",
      "Count: 353\n",
      "URl: https://shatristore.com/ar/kitchen-appliances/fryers/%D8%A7%D9%84%D8%B3%D9%8A%D9%81-%D8%A7%D9%84%D9%8A%D9%83-%D9%82%D9%84%D8%A7%D9%8A%D8%A9-%D8%B5%D8%AD%D9%8A%D8%A9-%D8%A8%D8%AF%D9%88%D9%86-%D8%B2%D9%8A%D8%AA-1800-%D9%88%D8%A7%D8%B7-%D8%8C-9-%D9%84%D8%AA%D8%B1-5\n",
      "***********************************************************\n",
      "Count: 354\n",
      "URl: https://shatristore.com/ar/kitchen-appliances/fryers/%D8%AF%D9%8A%D9%84%D9%88%D9%86%D9%82%D9%8A-%D9%82%D9%84%D8%A7%D9%8A%D8%A9-%D8%B5%D8%AD%D9%8A%D8%A9-%D8%A8%D8%AF%D9%88%D9%86-%D8%B2%D9%8A%D8%AA-1400-%D9%88%D8%A7%D8%B7-%D8%8C-1-5-%D9%83%D8%AC%D9%85-1\n",
      "***********************************************************\n",
      "Count: 355\n",
      "URl: https://shatristore.com/ar/kitchen-appliances/fryers/%D8%B3%D9%88%D9%8A%D8%B3%D9%83%D9%8A%D8%B1-%D9%82%D9%84%D8%A7%D9%8A%D8%A9-%D8%B5%D8%AD%D9%8A%D8%A9-%D8%A8%D8%AF%D9%88%D9%86-%D8%B2%D9%8A%D8%AA-1400-%D9%88%D8%A7%D8%B7-%D8%8C-3-%D9%84%D8%AA%D8%B1\n",
      "***********************************************************\n",
      "Count: 356\n",
      "URl: https://shatristore.com/ar/kitchen-appliances/fryers/%D8%A7%D9%84%D8%B3%D9%8A%D9%81-%D8%A7%D9%84%D9%8A%D9%83-%D9%82%D9%84%D8%A7%D9%8A%D8%A9-%D8%B5%D8%AD%D9%8A%D8%A9-%D8%A8%D8%AF%D9%88%D9%86-%D8%B2%D9%8A%D8%AA-1800-%D9%88%D8%A7%D8%B7-%D8%8C-9-%D9%84%D8%AA%D8%B1-1\n",
      "***********************************************************\n",
      "Count: 357\n",
      "URl: https://shatristore.com/ar/kitchen-appliances/fryers/%D8%AC%D9%8A-%D9%81%D9%8A-%D8%B3%D9%8A-%D8%A8%D8%B1%D9%88-%D9%82%D9%84%D8%A7%D9%8A%D9%87-%D8%B5%D8%AD%D9%8A%D9%87-%D8%A8%D8%AF%D9%88%D9%86-%D8%B2%D9%8A%D8%AA-4-%D9%84%D8%AA%D8%B1\n",
      "***********************************************************\n",
      "Count: 358\n",
      "URl: https://shatristore.com/ar/kitchen-appliances/cookers/2\n",
      "***********************************************************\n",
      "Count: 359\n",
      "URl: https://shatristore.com/ar/kitchen-appliances/cookers/%D8%B3%D8%A7%D9%86-%D9%81%D9%88%D8%B1%D8%AF-%D8%B7%D8%A8%D8%A7%D8%AE%D8%A9-%D8%BA%D8%A7%D8%B2-2-%D8%B4%D8%B9%D9%84%D8%A9\n",
      "***********************************************************\n",
      "Count: 360\n",
      "URl: https://shatristore.com/ar/kitchen-appliances/cookers/%D8%B3%D8%A7%D9%86%D9%81%D9%88%D8%B1%D8%AF-%D8%B7%D8%A8%D8%A7%D8%AE%D8%A9-%D8%BA%D8%A7%D8%B2-3-%D8%B4%D8%B9%D9%84%D8%A7%D8%AA-1\n",
      "***********************************************************\n",
      "Count: 361\n",
      "URl: https://shatristore.com/ar/kitchen-appliances/cookers/%D8%B3%D8%A7%D9%86%D9%81%D9%88%D8%B1%D8%AF-%D8%B7%D8%A8%D8%A7%D8%AE%D8%A9-%D8%BA%D8%A7%D8%B2-3-%D8%B4%D8%B9%D9%84%D8%A7%D8%AA\n",
      "***********************************************************\n",
      "Count: 362\n",
      "URl: https://shatristore.com/ar/kitchen-appliances/cookers/%D8%AC%D9%8A%D8%A8%D8%A7%D8%B3-%D8%B7%D8%A8%D8%A7%D8%AE-%D8%BA%D8%A7%D8%B2-3-%D8%B4%D8%B9%D9%84%D8%A7%D8%AA\n",
      "***********************************************************\n",
      "Count: 363\n",
      "URl: https://shatristore.com/ar/kitchen-appliances/cookers/%D8%B3%D8%A7%D9%86%D9%81%D9%88%D8%B1%D8%AF-%D8%B7%D8%A8%D8%A7%D8%AE%D8%A9-%D8%BA%D8%A7%D8%B2-2-%D8%B4%D8%B9%D9%84%D8%A9\n",
      "***********************************************************\n",
      "Count: 364\n",
      "URl: https://shatristore.com/ar/kitchen-appliances/cookers/%D8%B3%D8%A7%D9%86%D9%81%D9%88%D8%B1%D8%AF-%D8%B7%D8%A8%D8%A7%D8%AE%D8%A9-%D8%BA%D8%A7%D8%B2-1-%D8%B4%D8%B9%D9%84%D8%A9\n",
      "***********************************************************\n",
      "Count: 365\n",
      "URl: https://shatristore.com/ar/kitchen-appliances/cookers/%D9%8A%D8%B1%D9%88%D8%B3%D8%AA%D8%A7%D8%B1-%D8%B7%D8%A8%D8%A7%D8%AE-%D9%83%D9%87%D8%B1%D8%A8%D8%A7%D8%A6%D9%8A-1500-%D9%88%D8%A7%D8%B7\n",
      "***********************************************************\n",
      "Count: 366\n",
      "URl: https://shatristore.com/ar/kitchen-appliances/cookers/%D9%86%D9%8A%D9%83%D8%A7%D9%8A-%D8%B7%D8%A8%D8%A7%D8%AE%D8%A9-%D9%83%D9%87%D8%B1%D8%A8%D8%A7%D8%A6%D9%8A%D8%A9-2500-%D9%88%D8%A7%D8%B7-%D8%8C-2-%D8%B9%D9%8A%D9%86\n",
      "***********************************************************\n",
      "Count: 367\n",
      "URl: https://shatristore.com/ar/kitchen-appliances/cookers/%D8%AC%D9%8A-%D9%81%D9%8A-%D8%B3%D9%8A-%D8%A8%D8%B1%D9%88-%D8%B7%D8%A8%D8%A7%D8%AE-%D9%83%D9%87%D8%B1%D8%A8%D8%A7%D8%A6%D9%8A-2500-%D9%88%D8%A7%D8%B7\n",
      "***********************************************************\n",
      "Count: 368\n",
      "URl: https://shatristore.com/ar/kitchen-appliances/cookers/%D8%AC%D9%8A-%D9%81%D9%8A-%D8%B3%D9%8A-%D8%A8%D8%B1%D9%88-%D8%B7%D8%A8%D8%A7%D8%AE-%D9%83%D9%87%D8%B1%D8%A8%D8%A7%D8%A6%D9%8A-%D8%8C-1500-%D9%88%D8%A7%D8%B7\n",
      "***********************************************************\n",
      "Count: 369\n",
      "URl: https://shatristore.com/ar/kitchen-appliances/cookers/%D8%AC%D9%8A-%D9%81%D9%8A-%D8%B3%D9%8A-%D8%A8%D8%B1%D9%88-%D8%B7%D8%A8%D8%A7%D8%AE-%D9%83%D9%87%D8%B1%D8%A8%D8%A7%D8%A6%D9%8A-2000%D9%88%D8%A7%D8%B7-%D8%8C-2-%D8%B9%D9%8A%D9%86\n",
      "***********************************************************\n",
      "Count: 370\n",
      "URl: https://shatristore.com/ar/kitchen-appliances/cookers/%D8%AC%D9%8A-%D9%81%D9%8A-%D8%B3%D9%8A-%D8%A8%D8%B1%D9%88-%D8%B7%D8%A8%D8%A7%D8%AE-%D9%83%D9%87%D8%B1%D8%A8%D8%A7%D8%A6%D9%8A%D8%8C-1000%D9%88%D8%A7%D8%B7\n",
      "***********************************************************\n",
      "Count: 371\n",
      "URl: https://shatristore.com/ar/kitchen-appliances/cookers/%D8%AF%D9%8A%D9%83%D9%84-%D8%B7%D8%A8%D8%A7%D8%AE-%D9%83%D9%87%D8%B1%D8%A8%D8%A7%D8%A6%D9%8A-1500-%D9%88%D8%A7%D8%B7\n",
      "***********************************************************\n",
      "Count: 372\n",
      "URl: https://shatristore.com/ar/kitchen-appliances/cookers/%D8%AF%D9%8A%D9%83%D9%84-%D8%B7%D8%A8%D8%A7%D8%AE-%D9%83%D9%87%D8%B1%D8%A8%D8%A7%D8%A6%D9%8A-2000-%D9%88%D8%A7%D8%B7-%D8%8C-2-%D8%B9%D9%8A%D9%86\n",
      "***********************************************************\n",
      "Count: 373\n",
      "URl: https://shatristore.com/ar/kitchen-appliances/cookers/%D8%B1%D9%8A%D8%A8%D9%88%D9%86-%D8%B7%D8%A8%D8%A7%D8%AE-%D9%83%D9%87%D8%B1%D8%A8%D8%A7%D8%A6%D9%8A-1000-%D9%88%D8%A7%D8%B7\n",
      "***********************************************************\n",
      "Count: 374\n",
      "URl: https://shatristore.com/ar/kitchen-appliances/microwave/%D8%AC%D9%8A-%D9%81%D9%8A-%D8%B3%D9%8A-%D8%A8%D8%B1%D9%88-%D9%85%D8%A7%D9%8A%D9%83%D8%B1%D9%88%D9%8A%D9%81-%D9%85%D8%B9-%D8%B4%D9%88%D8%A7%D9%8A%D8%A91000-%D9%88%D8%A7%D8%B7-%D8%8C-43-%D9%84%D8%AA%D8%B1\n",
      "***********************************************************\n",
      "Count: 375\n",
      "URl: https://shatristore.com/ar/kitchen-appliances/microwave/%D8%AC%D9%8A-%D9%81%D9%8A-%D8%B3%D9%8A-%D8%A8%D8%B1%D9%88-%D9%85%D8%A7%D9%8A%D9%83%D8%B1%D9%88%D9%8A%D9%81-%D9%85%D8%B9-%D8%B4%D9%88%D8%A7%D9%8A%D8%A9900-%D9%88%D8%A7%D8%B7-%D8%8C-30-%D9%84%D8%AA%D8%B1\n",
      "***********************************************************\n",
      "Count: 376\n",
      "URl: https://shatristore.com/ar/kitchen-appliances/microwave/%D8%B1%D9%8A%D8%A8%D9%88%D9%86-%D9%85%D8%A7%D9%8A%D9%83%D8%B1%D9%88%D9%8A%D9%81-700-%D9%88%D8%A7%D8%B7-%D8%8C-20-%D9%84%D8%AA%D8%B1\n",
      "***********************************************************\n",
      "Count: 377\n",
      "URl: https://shatristore.com/ar/kitchen-appliances/microwave/%D8%AC%D9%8A-%D9%81%D9%8A-%D8%B3%D9%8A-%D8%A8%D8%B1%D9%88-%D9%85%D8%A7%D9%8A%D9%83%D8%B1%D9%88%D9%8A%D9%81900-%D9%88%D8%A7%D8%B7-%D8%8C-25-%D9%84%D8%AA%D8%B1\n"
     ]
    },
    {
     "name": "stdout",
     "output_type": "stream",
     "text": [
      "***********************************************************\n",
      "Count: 378\n",
      "URl: https://shatristore.com/ar/kitchen-appliances/microwave/%D8%AC%D9%8A-%D9%81%D9%8A-%D8%B3%D9%8A-%D8%A8%D8%B1%D9%88-%D9%85%D9%8A%D9%83%D8%B1%D9%88%D9%88%D9%8A%D9%81700-%D9%88%D8%A7%D8%B7-%D8%8C-20-%D9%84%D8%AA%D8%B1\n",
      "***********************************************************\n",
      "Count: 379\n",
      "URl: https://shatristore.com/ar/kitchen-appliances/microwave/%D9%87%D9%88%D9%85%D8%B1-%D9%85%D8%A7%D9%8A%D9%83%D8%B1%D9%88%D9%8A%D9%81-700-%D9%88%D8%A7%D8%B7-%D8%8C-20-%D9%84%D8%AA%D8%B1\n",
      "***********************************************************\n",
      "Count: 380\n",
      "URl: https://shatristore.com/ar/kitchen-appliances/microwave/%D9%86%D9%8A%D9%83%D8%A7%D9%8A-%D9%85%D8%A7%D9%8A%D9%83%D8%B1%D9%88%D9%8A%D9%81-800-%D9%88%D8%A7%D8%B7-%D8%8C-23-%D9%84%D8%AA%D8%B1\n",
      "***********************************************************\n",
      "Count: 381\n",
      "URl: https://shatristore.com/ar/kitchen-appliances/microwave/%D9%86%D9%8A%D9%83%D8%A7%D9%8A-%D9%85%D8%A7%D9%8A%D9%83%D8%B1%D9%88%D9%8A%D9%81-700-%D9%88%D8%A7%D8%B7-%D8%8C-20-%D9%84%D8%AA%D8%B1\n",
      "***********************************************************\n",
      "Count: 382\n",
      "URl: https://shatristore.com/ar/kitchen-appliances/-1/%D8%B1%D9%8A%D8%A8%D9%88%D9%86-%D9%81%D8%B1%D9%86-%D9%83%D9%87%D8%B1%D8%A8%D8%A7%D8%A6%D9%8A2200-%D9%88%D8%A7%D8%B7-%D8%8C-55-%D9%84%D8%AA%D8%B1-1\n",
      "***********************************************************\n",
      "Count: 383\n",
      "URl: https://shatristore.com/ar/kitchen-appliances/-1/%D8%AC%D9%8A-%D9%81%D9%8A-%D8%B3%D9%8A-%D8%A8%D8%B1%D9%88-%D9%81%D8%B1%D9%86-%D9%83%D9%87%D8%B1%D8%A8%D8%A7%D8%A6%D9%8A-2400-%D9%88%D8%A7%D8%B7-%D8%8C-80%D9%84%D8%AA%D8%B1\n",
      "***********************************************************\n",
      "Count: 384\n",
      "URl: https://shatristore.com/ar/kitchen-appliances/-1/%D8%AC%D9%8A-%D9%81%D9%8A-%D8%B3%D9%8A-%D8%A8%D8%B1%D9%88-%D9%81%D8%B1%D9%86-%D9%83%D9%87%D8%B1%D8%A8%D8%A7%D8%A6%D9%8A-2800-%D9%88%D8%A7%D8%B7-%D8%8C-100%D9%84%D8%AA%D8%B1\n",
      "***********************************************************\n",
      "Count: 385\n",
      "URl: https://shatristore.com/ar/kitchen-appliances/-1/%D8%AC%D9%8A-%D9%81%D9%8A-%D8%B3%D9%8A-%D8%A8%D8%B1%D9%88-%D9%81%D8%B1%D9%86-%D9%83%D9%87%D8%B1%D8%A8%D8%A7%D8%A6%D9%8A-2800-%D9%88%D8%A7%D8%B7-%D8%8C-120%D9%84%D8%AA%D8%B1\n",
      "***********************************************************\n",
      "Count: 386\n",
      "URl: https://shatristore.com/ar/kitchen-appliances/-1/%D8%AC%D9%8A-%D9%81%D9%8A-%D8%B3%D9%8A-%D8%A8%D8%B1%D9%88-%D9%81%D8%B1%D9%86-%D8%BA%D8%A7%D8%B2-4-%D8%B9%D9%8A%D9%88%D9%86\n",
      "***********************************************************\n",
      "Count: 387\n",
      "URl: https://shatristore.com/ar/kitchen-appliances/-1/%D9%83%D9%88%D9%84%D9%8A%D9%86-%D9%81%D8%B1%D9%86-%D9%83%D9%87%D8%B1%D8%A8%D8%A7%D8%A6%D9%8A2400-%D9%88%D8%A7%D8%B7-%D8%8C-80-%D9%84%D8%AA%D8%B1\n",
      "***********************************************************\n",
      "Count: 388\n",
      "URl: https://shatristore.com/ar/kitchen-appliances/-1/%D9%86%D9%8A%D9%83%D8%A7%D9%8A-%D9%81%D8%B1%D9%86-%D9%83%D9%87%D8%B1%D8%A8%D8%A7%D8%A6%D9%8A-1800-%D9%88%D8%A7%D8%B7-%D8%8C-60-%D9%84%D8%AA%D8%B1\n",
      "***********************************************************\n",
      "Count: 389\n",
      "URl: https://shatristore.com/ar/kitchen-appliances/-1/%D8%AC%D9%8A-%D9%81%D9%8A-%D8%B3%D9%8A-%D8%A8%D8%B1%D9%88-%D9%81%D8%B1%D9%86-%D9%83%D9%87%D8%B1%D8%A8%D8%A7%D8%A6%D9%8A-1800-%D9%88%D8%A7%D8%B7-%D8%8C-45-%D9%84%D8%AA%D8%B1\n",
      "***********************************************************\n",
      "Count: 390\n",
      "URl: https://shatristore.com/ar/kitchen-appliances/-1/%D8%AC%D9%8A-%D9%81%D9%8A-%D8%B3%D9%8A-%D8%A8%D8%B1%D9%88-%D9%81%D8%B1%D9%86-%D9%83%D9%87%D8%B1%D8%A8%D8%A7%D8%A6%D9%8A-1600-%D9%88%D8%A7%D8%B7-%D8%8C-35-%D9%84%D8%AA%D8%B1\n",
      "***********************************************************\n",
      "Count: 391\n",
      "URl: https://shatristore.com/ar/kitchen-appliances/-1/%D8%B1%D9%8A%D8%A8%D9%88%D9%86-%D9%81%D8%B1%D9%86-%D9%83%D9%87%D8%B1%D8%A8%D8%A7%D8%A6%D9%8A-2800-%D9%88%D8%A7%D8%B7-%D8%8C-80-%D9%84%D8%AA%D8%B1\n",
      "***********************************************************\n",
      "Count: 392\n",
      "URl: https://shatristore.com/ar/kitchen-appliances/-1/%D8%B1%D9%8A%D8%A8%D9%88%D9%86-%D9%81%D8%B1%D9%86-%D9%83%D9%87%D8%B1%D8%A8%D8%A7%D8%A6%D9%8A-%D9%85%D8%B9-%D8%B4%D9%88%D8%A7%D9%8A%D8%A9-3800-%D9%88%D8%A7%D8%B7-%D8%8C-120-%D9%84%D8%AA%D8%B1\n",
      "***********************************************************\n",
      "Count: 393\n",
      "URl: https://shatristore.com/ar/kitchen-appliances/-1/%D9%83%D9%88%D9%84%D9%8A%D9%86-%D9%81%D8%B1%D9%86-%D9%83%D9%87%D8%B1%D8%A8%D8%A7%D8%A6%D9%8A2000-%D9%88%D8%A7%D8%B7-%D8%8C-45-%D9%84%D8%AA%D8%B1\n",
      "***********************************************************\n",
      "Count: 394\n",
      "URl: https://shatristore.com/ar/kitchen-appliances/-1/%D9%86%D9%8A%D9%83%D8%A7%D9%8A-%D9%81%D8%B1%D9%86-%D9%83%D9%87%D8%B1%D8%A8%D8%A7%D8%A6%D9%8A-2700%D9%88%D8%A7%D8%B7-%D8%8C-100-%D9%84%D8%AA%D8%B1\n",
      "***********************************************************\n",
      "Count: 395\n",
      "URl: https://shatristore.com/ar/kitchen-appliances/-1/%D8%B1%D9%8A%D8%A8%D9%88%D9%86-%D9%81%D8%B1%D9%86-%D9%83%D9%87%D8%B1%D8%A8%D8%A7%D8%A6%D9%8A2200-%D9%88%D8%A7%D8%B7-%D8%8C-55-%D9%84%D8%AA%D8%B1\n",
      "***********************************************************\n",
      "Count: 396\n",
      "URl: https://shatristore.com/ar/kitchen-appliances/-1/%D8%B1%D9%8A%D8%A8%D9%88%D9%86-%D9%81%D8%B1%D9%86-%D9%83%D9%87%D8%B1%D8%A8%D8%A7%D8%A6%D9%8A2200-%D9%88%D8%A7%D8%B7-%D8%8C-55-%D9%84%D8%AA%D8%B1-1\n",
      "***********************************************************\n",
      "Count: 397\n",
      "URl: https://shatristore.com/ar/kitchen-appliances/-1/%D8%AC%D9%8A-%D9%81%D9%8A-%D8%B3%D9%8A-%D8%A8%D8%B1%D9%88-%D9%81%D8%B1%D9%86-%D9%83%D9%87%D8%B1%D8%A8%D8%A7%D8%A6%D9%8A-2400-%D9%88%D8%A7%D8%B7-%D8%8C-80%D9%84%D8%AA%D8%B1\n",
      "***********************************************************\n",
      "Count: 398\n",
      "URl: https://shatristore.com/ar/kitchen-appliances/-1/%D8%AC%D9%8A-%D9%81%D9%8A-%D8%B3%D9%8A-%D8%A8%D8%B1%D9%88-%D9%81%D8%B1%D9%86-%D9%83%D9%87%D8%B1%D8%A8%D8%A7%D8%A6%D9%8A-2800-%D9%88%D8%A7%D8%B7-%D8%8C-100%D9%84%D8%AA%D8%B1\n",
      "***********************************************************\n",
      "Count: 399\n",
      "URl: https://shatristore.com/ar/kitchen-appliances/-1/%D8%AC%D9%8A-%D9%81%D9%8A-%D8%B3%D9%8A-%D8%A8%D8%B1%D9%88-%D9%81%D8%B1%D9%86-%D9%83%D9%87%D8%B1%D8%A8%D8%A7%D8%A6%D9%8A-2800-%D9%88%D8%A7%D8%B7-%D8%8C-120%D9%84%D8%AA%D8%B1\n",
      "***********************************************************\n",
      "Count: 400\n",
      "URl: https://shatristore.com/ar/kitchen-appliances/-1/%D8%AC%D9%8A-%D9%81%D9%8A-%D8%B3%D9%8A-%D8%A8%D8%B1%D9%88-%D9%81%D8%B1%D9%86-%D8%BA%D8%A7%D8%B2-4-%D8%B9%D9%8A%D9%88%D9%86\n",
      "***********************************************************\n",
      "Count: 401\n",
      "URl: https://shatristore.com/ar/kitchen-appliances/-1/%D9%83%D9%88%D9%84%D9%8A%D9%86-%D9%81%D8%B1%D9%86-%D9%83%D9%87%D8%B1%D8%A8%D8%A7%D8%A6%D9%8A2400-%D9%88%D8%A7%D8%B7-%D8%8C-80-%D9%84%D8%AA%D8%B1\n",
      "***********************************************************\n",
      "Count: 402\n",
      "URl: https://shatristore.com/ar/kitchen-appliances/-1/%D9%86%D9%8A%D9%83%D8%A7%D9%8A-%D9%81%D8%B1%D9%86-%D9%83%D9%87%D8%B1%D8%A8%D8%A7%D8%A6%D9%8A-1800-%D9%88%D8%A7%D8%B7-%D8%8C-60-%D9%84%D8%AA%D8%B1\n",
      "***********************************************************\n",
      "Count: 403\n",
      "URl: https://shatristore.com/ar/kitchen-appliances/-1/%D8%AC%D9%8A-%D9%81%D9%8A-%D8%B3%D9%8A-%D8%A8%D8%B1%D9%88-%D9%81%D8%B1%D9%86-%D9%83%D9%87%D8%B1%D8%A8%D8%A7%D8%A6%D9%8A-1800-%D9%88%D8%A7%D8%B7-%D8%8C-45-%D9%84%D8%AA%D8%B1\n",
      "***********************************************************\n",
      "Count: 404\n",
      "URl: https://shatristore.com/ar/kitchen-appliances/-1/%D8%AC%D9%8A-%D9%81%D9%8A-%D8%B3%D9%8A-%D8%A8%D8%B1%D9%88-%D9%81%D8%B1%D9%86-%D9%83%D9%87%D8%B1%D8%A8%D8%A7%D8%A6%D9%8A-1600-%D9%88%D8%A7%D8%B7-%D8%8C-35-%D9%84%D8%AA%D8%B1\n",
      "***********************************************************\n",
      "Count: 405\n",
      "URl: https://shatristore.com/ar/kitchen-appliances/-1/%D8%B1%D9%8A%D8%A8%D9%88%D9%86-%D9%81%D8%B1%D9%86-%D9%83%D9%87%D8%B1%D8%A8%D8%A7%D8%A6%D9%8A-2800-%D9%88%D8%A7%D8%B7-%D8%8C-80-%D9%84%D8%AA%D8%B1\n",
      "***********************************************************\n",
      "Count: 406\n",
      "URl: https://shatristore.com/ar/kitchen-appliances/-1/%D8%B1%D9%8A%D8%A8%D9%88%D9%86-%D9%81%D8%B1%D9%86-%D9%83%D9%87%D8%B1%D8%A8%D8%A7%D8%A6%D9%8A-%D9%85%D8%B9-%D8%B4%D9%88%D8%A7%D9%8A%D8%A9-3800-%D9%88%D8%A7%D8%B7-%D8%8C-120-%D9%84%D8%AA%D8%B1\n",
      "***********************************************************\n",
      "Count: 407\n",
      "URl: https://shatristore.com/ar/kitchen-appliances/-1/%D9%83%D9%88%D9%84%D9%8A%D9%86-%D9%81%D8%B1%D9%86-%D9%83%D9%87%D8%B1%D8%A8%D8%A7%D8%A6%D9%8A2000-%D9%88%D8%A7%D8%B7-%D8%8C-45-%D9%84%D8%AA%D8%B1\n"
     ]
    },
    {
     "name": "stdout",
     "output_type": "stream",
     "text": [
      "***********************************************************\n",
      "Count: 408\n",
      "URl: https://shatristore.com/ar/kitchen-appliances/-1/%D9%86%D9%8A%D9%83%D8%A7%D9%8A-%D9%81%D8%B1%D9%86-%D9%83%D9%87%D8%B1%D8%A8%D8%A7%D8%A6%D9%8A-2700%D9%88%D8%A7%D8%B7-%D8%8C-100-%D9%84%D8%AA%D8%B1\n",
      "***********************************************************\n",
      "Count: 409\n",
      "URl: https://shatristore.com/ar/kitchen-appliances/-1/%D8%B1%D9%8A%D8%A8%D9%88%D9%86-%D9%81%D8%B1%D9%86-%D9%83%D9%87%D8%B1%D8%A8%D8%A7%D8%A6%D9%8A2200-%D9%88%D8%A7%D8%B7-%D8%8C-55-%D9%84%D8%AA%D8%B1\n",
      "***********************************************************\n",
      "Count: 410\n",
      "URl: https://shatristore.com/ar/kitchen-appliances/food-processor/%D9%85%D9%88%D9%84%D9%8A%D9%86%D9%83%D8%B3-%D9%85%D8%AD%D8%B6%D8%B1-%D8%A7%D9%84%D8%B7%D8%B9%D8%A7%D9%85-%D9%85%D8%AA%D8%B9%D8%AF%D8%AF-%D8%A7%D9%84%D9%88%D8%B8%D8%A7%D8%A6%D9%81-800-%D9%88%D8%A7%D8%B7-%D8%8C-25-%D9%88%D8%B8%D9%8A%D9%81%D8%A9\n",
      "***********************************************************\n",
      "Count: 411\n",
      "URl: https://shatristore.com/ar/kitchen-appliances/food-processor/%D9%83%D9%8A%D9%86%D9%88%D9%88%D8%AF-%D9%85%D8%AD%D8%B6%D8%B1-%D8%A7%D9%84%D8%B7%D8%B9%D8%A7%D9%85-%D9%85%D8%AA%D8%B9%D8%AF%D8%AF-%D8%A7%D9%84%D9%88%D8%B8%D8%A7%D8%A6%D9%81-750-%D9%88%D8%A7%D8%B7-%D8%8C-8-%D9%88%D8%B8%D9%8A%D9%81%D8%A9\n",
      "***********************************************************\n",
      "Count: 412\n",
      "URl: https://shatristore.com/ar/kitchen-appliances/food-processor/%D9%83%D9%8A%D9%86%D9%88%D9%88%D8%AF-%D9%85%D8%AD%D8%B6%D8%B1-%D8%A7%D9%84%D8%B7%D8%B9%D8%A7%D9%85-%D9%85%D8%AA%D8%B9%D8%AF%D8%AF-%D8%A7%D9%84%D9%88%D8%B8%D8%A7%D8%A6%D9%81-600-%D9%88%D8%A7%D8%B7-%D8%8C-16-%D9%88%D8%B8%D9%8A%D9%81%D8%A9-1\n",
      "***********************************************************\n",
      "Count: 413\n",
      "URl: https://shatristore.com/ar/kitchen-appliances/food-processor/%D9%83%D9%8A%D9%86%D9%88%D9%88%D8%AF-%D9%85%D8%AD%D8%B6%D8%B1-%D8%A7%D9%84%D8%B7%D8%B9%D8%A7%D9%85-%D9%85%D8%AA%D8%B9%D8%AF%D8%AF-%D8%A7%D9%84%D9%88%D8%B8%D8%A7%D8%A6%D9%81-800-%D9%88%D8%A7%D8%B7-%D8%8C-18-%D9%88%D8%B8%D9%8A%D9%81%D8%A9\n",
      "***********************************************************\n",
      "Count: 414\n",
      "URl: https://shatristore.com/ar/kitchen-appliances/food-processor/%D9%85%D9%88%D9%84%D9%8A%D9%86%D9%83%D8%B3-%D9%85%D8%AD%D8%B6%D8%B1-%D8%A7%D9%84%D8%B7%D8%B9%D8%A7%D9%85-%D9%85%D8%AA%D8%B9%D8%AF%D8%AF-%D8%A7%D9%84%D9%88%D8%B8%D8%A7%D8%A6%D9%81-1000-%D9%88%D8%A7%D8%B7-%D8%8C-38-%D9%88%D8%B8%D9%8A%D9%81%D8%A9\n",
      "***********************************************************\n",
      "Count: 415\n",
      "URl: https://shatristore.com/ar/kitchen-appliances/chopper/%D9%85%D9%88%D9%84%D9%8A%D9%86%D9%83%D8%B3-%D9%85%D9%81%D8%B1%D9%85%D8%A9-%D9%88-%D9%82%D8%B7%D8%A7%D8%B9%D8%A9-%D8%AE%D8%B6%D8%A7%D8%B1-500-%D9%88%D8%A7%D8%B7-1\n",
      "***********************************************************\n",
      "Count: 416\n",
      "URl: https://shatristore.com/ar/kitchen-appliances/chopper/%D9%83%D9%88%D9%84%D9%8A%D9%86-%D9%85%D9%81%D8%B1%D9%85%D8%A9-%D9%88-%D9%82%D8%B7%D8%A7%D8%B9%D8%A9-%D8%AE%D8%B6%D8%A7%D8%B1-300-%D9%88%D8%A7%D8%B7-1\n",
      "***********************************************************\n",
      "Count: 417\n",
      "URl: https://shatristore.com/ar/kitchen-appliances/chopper/%D8%AC%D9%8A-%D9%81%D9%8A-%D8%B3%D9%8A-%D8%A8%D8%B1%D9%88-%D9%85%D9%81%D8%B1%D9%85%D8%A9-%D9%88-%D9%82%D8%B7%D8%A7%D8%B9%D8%A9-%D8%AE%D8%B6%D8%A7%D8%B1-450-%D9%88%D8%A7%D8%B7-2\n",
      "***********************************************************\n",
      "Count: 418\n",
      "URl: https://shatristore.com/ar/kitchen-appliances/chopper/%D8%AC%D9%8A-%D9%81%D9%8A-%D8%B3%D9%8A-%D8%A8%D8%B1%D9%88-%D9%85%D9%81%D8%B1%D9%85%D8%A9-%D9%88-%D9%82%D8%B7%D8%A7%D8%B9%D8%A9-%D8%AE%D8%B6%D8%A7%D8%B1-450-%D9%88%D8%A7%D8%B7-1\n",
      "***********************************************************\n",
      "Count: 419\n",
      "URl: https://shatristore.com/ar/kitchen-appliances/chopper/%D8%AC%D9%8A-%D9%81%D9%8A-%D8%B3%D9%8A-%D8%A8%D8%B1%D9%88-%D9%85%D9%81%D8%B1%D9%85%D8%A9-%D9%88-%D9%82%D8%B7%D8%A7%D8%B9%D8%A9-%D8%AE%D8%B6%D8%A7%D8%B1-450-%D9%88%D8%A7%D8%B7\n",
      "***********************************************************\n",
      "Count: 420\n",
      "URl: https://shatristore.com/ar/kitchen-appliances/chopper/%D9%83%D9%88%D9%84%D9%8A%D9%86-%D9%85%D9%81%D8%B1%D9%85%D8%A9-%D9%88-%D9%82%D8%B7%D8%A7%D8%B9%D8%A9-%D8%AE%D8%B6%D8%A7%D8%B1-300-%D9%88%D8%A7%D8%B7\n",
      "***********************************************************\n",
      "Count: 421\n",
      "URl: https://shatristore.com/ar/kitchen-appliances/chopper/%D8%B1%D9%8A%D8%A8%D9%88%D9%86-%D9%85%D9%81%D8%B1%D9%85%D8%A9-%D9%88-%D9%82%D8%B7%D8%A7%D8%B9%D8%A9-%D8%AE%D8%B6%D8%A7%D8%B1-400-%D9%88%D8%A7%D8%B7\n",
      "***********************************************************\n",
      "Count: 422\n",
      "URl: https://shatristore.com/ar/kitchen-appliances/chopper/%D9%85%D9%88%D9%84%D9%8A%D9%86%D9%83%D8%B3-%D9%82%D8%B7%D8%A7%D8%B9%D9%87-%D8%AE%D8%B6%D8%A7%D8%B1-%D9%88%D9%83%D8%A8%D8%A9-%D9%84%D8%AD%D9%85-1000-%D9%88%D8%A7%D8%B7\n",
      "***********************************************************\n",
      "Count: 423\n",
      "URl: https://shatristore.com/ar/kitchen-appliances/chopper/%D9%85%D9%88%D9%84%D9%8A%D9%86%D9%83%D8%B3-%D9%85%D9%81%D8%B1%D9%85%D8%A9-%D9%88-%D9%82%D8%B7%D8%A7%D8%B9%D8%A9-%D8%AE%D8%B6%D8%A7%D8%B1-300-%D9%88%D8%A7%D8%B7\n",
      "***********************************************************\n",
      "Count: 424\n",
      "URl: https://shatristore.com/ar/kitchen-appliances/chopper/%D9%83%D9%8A%D9%86%D9%88%D9%88%D8%AF-%D9%85%D9%81%D8%B1%D9%85%D8%A9-%D9%88-%D9%82%D8%B7%D8%A7%D8%B9%D8%A9-%D8%AE%D8%B6%D8%A7%D8%B1-400-%D9%88%D8%A7%D8%B7\n",
      "***********************************************************\n",
      "Count: 425\n",
      "URl: https://shatristore.com/ar/kitchen-appliances/chopper/%D8%A7%D9%84%D8%B3%D9%8A%D9%81-%D8%A7%D9%84%D9%8A%D9%83-%D9%85%D9%81%D8%B1%D9%85%D8%A9-%D9%88-%D9%82%D8%B7%D8%A7%D8%B9%D8%A9-%D9%85%D8%AA%D8%B9%D8%AF%D8%AF%D8%A9-%D8%A7%D9%84%D8%A7%D8%B3%D8%AA%D8%AE%D8%AF%D8%A7%D9%85-250-%D9%88%D8%A7%D8%B7\n",
      "***********************************************************\n",
      "Count: 426\n",
      "URl: https://shatristore.com/ar/kitchen-appliances/grinders/%D8%B3%D8%A7%D9%86-%D9%81%D9%88%D8%B1%D8%AF-%D9%85%D8%B7%D8%AD%D9%86%D8%A9-%D9%87%D9%86%D8%AF%D9%8A%D8%A9-3%D9%81%D9%8A1-%D8%8C600-%D9%88%D8%A7%D8%B7\n",
      "***********************************************************\n",
      "Count: 427\n",
      "URl: https://shatristore.com/ar/kitchen-appliances/grinders/%D9%83%D9%88%D9%84%D9%8A%D9%86-%D9%85%D8%B7%D8%AD%D9%86%D8%A9-%D8%A7%D9%84%D9%82%D9%87%D9%88%D8%A9-%D9%88%D8%A7%D9%84%D8%A8%D9%87%D8%A7%D8%B1%D8%A7%D8%AA-200-%D9%88%D8%A7%D8%B7-%D8%8C-150-%D8%AC%D8%B1%D8%A7%D9%85\n",
      "***********************************************************\n",
      "Count: 428\n",
      "URl: https://shatristore.com/ar/kitchen-appliances/grinders/%D8%B1%D9%8A%D8%A8%D9%88%D9%86-%D9%85%D8%B7%D8%AD%D9%86%D8%A9-%D9%82%D9%87%D9%88%D8%A9%D8%8C-100-%D8%AC%D8%B1%D8%A7%D9%85%D8%8C-250-%D9%88%D8%A7%D8%B7\n",
      "***********************************************************\n",
      "Count: 429\n",
      "URl: https://shatristore.com/ar/kitchen-appliances/grinders/%D8%AC%D8%A7%D9%86%D9%88-%D9%85%D8%AD%D9%85%D8%B5%D8%A9-%D8%A7%D9%84%D9%82%D9%87%D9%88%D8%A9-%D8%A7%D9%84%D9%83%D9%87%D8%B1%D8%A8%D8%A7%D8%A6%D9%8A%D8%A9-800-%D9%88%D8%A7%D8%B7-%D8%8C-750-%D8%AC%D8%B1%D8%A7%D9%85\n",
      "***********************************************************\n",
      "Count: 430\n",
      "URl: https://shatristore.com/ar/kitchen-appliances/grinders/%D8%AC%D9%8A-%D9%81%D9%8A-%D8%B3%D9%8A-%D8%A8%D8%B1%D9%88-%D9%85%D8%B7%D8%AD%D9%86%D8%A9-%D8%A7%D9%84%D9%82%D9%87%D9%88%D8%A9-%D9%88-%D8%A7%D9%84%D8%A8%D9%87%D8%A7%D8%B1%D8%A7%D8%AA-200-%D9%88%D8%A7%D8%B7-%D8%8C-50%D8%AC%D8%B1%D8%A7%D9%85-2\n",
      "***********************************************************\n",
      "Count: 431\n",
      "URl: https://shatristore.com/ar/kitchen-appliances/grinders/%D8%B1%D9%8A%D8%A8%D9%88%D9%86-%D9%85%D8%B7%D8%AD%D9%86%D8%A9-%D8%A7%D9%84%D9%82%D9%87%D9%88%D8%A9%D8%8C-50-%D8%AC%D8%B1%D8%A7%D9%85%D8%8C-200-%D9%88%D8%A7%D8%B7-1\n",
      "***********************************************************\n",
      "Count: 432\n",
      "URl: https://shatristore.com/ar/kitchen-appliances/grinders/%D8%AC%D9%8A-%D9%81%D9%8A-%D8%B3%D9%8A-%D8%A8%D8%B1%D9%88-%D9%85%D8%B7%D8%AD%D9%86%D8%A9-%D8%A7%D9%84%D9%82%D9%87%D9%88%D8%A9-%D9%88-%D8%A7%D9%84%D8%A8%D9%87%D8%A7%D8%B1%D8%A7%D8%AA-200-%D9%88%D8%A7%D8%B7-%D8%8C-50%D8%AC%D8%B1%D8%A7%D9%85\n",
      "***********************************************************\n",
      "Count: 433\n",
      "URl: https://shatristore.com/ar/kitchen-appliances/grinders/%D8%B1%D9%8A%D8%A8%D9%88%D9%86-%D9%85%D8%B7%D8%AD%D9%86%D8%A9-%D8%A7%D9%84%D9%82%D9%87%D9%88%D8%A9-%D9%88%D8%A7%D9%84%D8%A8%D9%87%D8%A7%D8%B1%D8%A7%D8%AA-300-%D9%88%D8%A7%D8%B7-%D8%8C-300%D8%AC%D8%B1%D8%A7%D9%85\n"
     ]
    },
    {
     "name": "stdout",
     "output_type": "stream",
     "text": [
      "***********************************************************\n",
      "Count: 434\n",
      "URl: https://shatristore.com/ar/kitchen-appliances/grinders/%D8%B1%D9%8A%D8%A8%D9%88%D9%86-%D9%85%D8%B7%D8%AD%D9%86%D8%A9-%D8%A7%D9%84%D9%82%D9%87%D9%88%D8%A9%D8%8C-50-%D8%AC%D8%B1%D8%A7%D9%85%D8%8C-200-%D9%88%D8%A7%D8%B7\n",
      "***********************************************************\n",
      "Count: 435\n",
      "URl: https://shatristore.com/ar/kitchen-appliances/grinders/%D9%85%D9%88%D8%AF%D9%8A%D9%86%D8%A7-%D9%85%D8%B7%D8%AD%D9%86%D8%A9-%D9%87%D9%86%D8%AF%D9%8A-550-%D9%88%D8%A7%D8%B7-1\n",
      "***********************************************************\n",
      "Count: 436\n",
      "URl: https://shatristore.com/ar/kitchen-appliances/grinders/%D9%85%D9%88%D8%AF%D9%8A%D9%86%D8%A7-%D9%85%D8%B7%D8%AD%D9%86%D8%A9-%D9%87%D9%86%D8%AF%D9%8A-550-%D9%88%D8%A7%D8%B7\n",
      "***********************************************************\n",
      "Count: 437\n",
      "URl: https://shatristore.com/ar/kitchen-appliances/grinders/%D9%85%D9%88%D9%84%D9%8A%D9%86%D9%83%D8%B3-%D9%85%D8%B7%D8%AD%D9%86%D9%87-%D8%A7%D9%84%D9%82%D9%87%D9%88%D8%A9%D8%8C-50-%D8%AC%D8%B1%D8%A7%D9%85%D8%8C-1800-%D9%88%D8%A7%D8%B7\n",
      "***********************************************************\n",
      "Count: 438\n",
      "URl: https://shatristore.com/ar/kitchen-appliances/grinders/%D8%A7%D9%84%D8%B3%D9%8A%D9%81-%D8%A7%D9%84%D9%8A%D9%83-%D9%85%D8%B7%D8%AD%D9%86%D8%A9-%D8%A7%D9%84%D9%82%D9%87%D9%88%D8%A9-%D9%88%D8%A7%D9%84%D8%A8%D9%87%D8%A7%D8%B1%D8%A7%D8%AA-500-%D9%88%D8%A7%D8%B7-%D8%8C-0-3-%D9%84%D8%AA%D8%B1\n",
      "***********************************************************\n",
      "Count: 439\n",
      "URl: https://shatristore.com/ar/kitchen-appliances/grinders/%D8%A7%D9%84%D8%B3%D9%8A%D9%81-%D8%A7%D9%84%D9%8A%D9%83-%D9%85%D8%B7%D8%AD%D9%86%D8%A9-%D8%A7%D9%84%D9%82%D9%87%D9%88%D8%A9-%D9%88%D8%A7%D9%84%D8%A8%D9%87%D8%A7%D8%B1%D8%A7%D8%AA-160-%D9%88%D8%A7%D8%B7-%D8%8C-60%D8%AC%D8%B1%D8%A7%D9%85\n",
      "***********************************************************\n",
      "Count: 440\n",
      "URl: https://shatristore.com/ar/kitchen-appliances/grinders/%D8%B3%D8%AA%D8%A7%D8%B1%D8%AF%D8%B3%D8%AA-%D9%85%D8%B7%D8%AD%D9%86%D9%87-%D8%A7%D9%84%D9%82%D9%87%D9%88%D8%A9%D8%8C-100-%D8%AC%D8%B1%D8%A7%D9%85%D8%8C-250-%D9%88%D8%A7%D8%B7\n",
      "***********************************************************\n",
      "Count: 441\n",
      "URl: https://shatristore.com/ar/kitchen-appliances/grinders/%D8%B3%D8%AA%D8%A7%D8%B1%D8%AF%D8%B3%D8%AA-%D9%85%D8%B7%D8%AD%D9%86%D8%A9-%D8%A7%D9%84%D9%82%D9%87%D9%88%D8%A9-%D8%8C-150-%D8%AC%D8%B1%D8%A7%D9%85%D8%8C-300-%D9%88%D8%A7%D8%B7\n",
      "***********************************************************\n",
      "Count: 442\n",
      "URl: https://shatristore.com/ar/kitchen-appliances/grinders/%D8%B3%D8%AA%D8%A7%D8%B1%D8%AF%D8%B3%D8%AA-%D9%85%D8%B7%D8%AD%D9%86%D9%87-%D8%A7%D9%84%D9%82%D9%87%D9%88%D8%A9%D8%8C-50-%D8%AC%D8%B1%D8%A7%D9%85-%D8%8C-150-%D9%88%D8%A7%D8%B7\n",
      "***********************************************************\n",
      "Count: 443\n",
      "URl: https://shatristore.com/ar/kitchen-appliances/juicers/600-2-0-6-1-0-7\n",
      "***********************************************************\n",
      "Count: 444\n",
      "URl: https://shatristore.com/ar/kitchen-appliances/juicers/%D8%AC%D9%8A-%D9%81%D9%8A-%D8%B3%D9%8A-%D8%A8%D8%B1%D9%88-%D8%B9%D8%B5%D8%A7%D8%B1%D8%A9-%D8%A7%D9%84%D9%81%D9%88%D8%A7%D9%83%D9%87%D8%A9-%D8%A7%D9%84%D9%83%D9%87%D8%B1%D8%A8%D8%A7%D8%A6%D9%8A%D8%A9-500-%D9%88%D8%A7%D8%B7\n",
      "***********************************************************\n",
      "Count: 445\n",
      "URl: https://shatristore.com/ar/kitchen-appliances/juicers/%D9%85%D9%88%D9%84%D9%8A%D9%86%D9%83%D8%B3-%D8%B9%D8%B5%D8%A7%D8%B1%D8%A9-%D8%A7%D9%84%D9%81%D9%88%D8%A7%D9%83%D9%87%D8%A9-%D8%A7%D9%84%D9%83%D9%87%D8%B1%D8%A8%D8%A7%D8%A6%D9%8A%D8%A9-350-%D9%88%D8%A7%D8%B7\n",
      "***********************************************************\n",
      "Count: 446\n",
      "URl: https://shatristore.com/ar/kitchen-appliances/juicers/%D9%83%D9%88%D9%84%D9%8A%D9%86-%D8%B9%D8%B5%D8%A7%D8%B1%D8%A9-%D8%A7%D9%84%D8%A8%D8%B1%D8%AA%D9%82%D8%A7%D9%84-%D8%A7%D9%84%D9%83%D9%87%D8%B1%D8%A8%D8%A7%D8%A6%D9%8A%D8%A9\n",
      "***********************************************************\n",
      "Count: 447\n",
      "URl: https://shatristore.com/ar/kitchen-appliances/juicers/%D9%83%D9%8A%D9%86%D9%88%D9%88%D8%AF-%D8%B9%D8%B5%D8%A7%D8%B1%D8%A9-%D8%A7%D9%84%D9%81%D9%88%D8%A7%D9%83%D9%87%D8%A9-%D8%A7%D9%84%D9%83%D9%87%D8%B1%D8%A8%D8%A7%D8%A6%D9%8A%D8%A9-%D8%A8%D8%AA%D9%82%D9%86%D9%8A%D8%A9-%D8%A7%D9%84%D8%B9%D8%B5%D8%B1-%D8%A7%D9%84%D8%A8%D8%B7%D9%8A%D8%A1%D8%8C-800-%D9%88%D8%A7%D8%B7-%D8%8C-2-%D9%84%D8%AA%D8%B1\n",
      "***********************************************************\n",
      "Count: 448\n",
      "URl: https://shatristore.com/ar/kitchen-appliances/blenders/%D9%83%D9%8A%D9%86%D9%88%D9%88%D8%AF-%D8%AE%D9%84%D8%A7%D8%B7-%D9%85%D8%AA%D8%B9%D8%AF%D8%AF-3%D9%81%D9%8A1-%D8%8C-350-%D9%88%D8%A7%D8%B7\n",
      "***********************************************************\n",
      "Count: 449\n",
      "URl: https://shatristore.com/ar/kitchen-appliances/juicers/%D8%B1%D9%8A%D8%A8%D9%88%D9%86-%D8%B9%D8%B5%D8%A7%D8%B1%D8%A9-%D8%A7%D9%84%D8%AD%D9%85%D8%B6%D8%A7%D8%AA-%D9%83%D9%87%D8%B1%D8%A8%D8%A7%D8%A6%D9%8A%D8%A9-40-%D9%88%D8%A7%D8%B7-%D8%8C-1-%D9%84%D8%AA%D8%B1\n",
      "***********************************************************\n",
      "Count: 450\n",
      "URl: https://shatristore.com/ar/kitchen-appliances/blenders/%D8%AC%D9%8A-%D9%81%D9%8A-%D8%B3%D9%8A-%D8%A8%D8%B1%D9%88-%D8%B9%D8%B5%D8%A7%D8%B1%D8%A9-%D9%88-%D8%AE%D9%84%D8%A7%D8%B7-%D9%85%D8%AA%D8%B9%D8%AF%D8%AF-4%D9%81%D9%8A1-%D8%8C-400-%D9%88%D8%A7%D8%B7\n",
      "***********************************************************\n",
      "Count: 451\n",
      "URl: https://shatristore.com/ar/kitchen-appliances/juicers/%D8%A8%D8%B1%D8%A7%D9%88%D9%86-%D8%B9%D8%B5%D8%A7%D8%B1%D8%A9-%D8%A7%D9%84%D9%81%D9%88%D8%A7%D9%83%D9%87%D8%A9-%D8%A7%D9%84%D9%83%D9%87%D8%B1%D8%A8%D8%A7%D8%A6%D9%8A%D8%A9-%D9%85%D8%A7%D9%84%D8%AA%D9%8A-%D9%83%D9%88%D9%8A%D9%83-7-%D8%8C-1000-%D9%88%D8%A7%D8%B7%D8%8C-1-25-%D9%84%D8%AA%D8%B1\n",
      "***********************************************************\n",
      "Count: 452\n",
      "URl: https://shatristore.com/ar/kitchen-appliances/juicers/%D9%85%D9%88%D9%84%D9%8A%D9%86%D9%83%D8%B3-%D8%B9%D8%B5%D8%A7%D8%B1%D8%A9-%D8%A7%D9%84%D8%AD%D9%85%D8%B6%D9%8A%D8%A7%D8%AA-%D8%A7%D9%84%D9%83%D9%87%D8%B1%D8%A8%D8%A7%D8%A6%D9%8A%D8%A9-100-%D9%88%D8%A7%D8%B7\n",
      "***********************************************************\n",
      "Count: 453\n",
      "URl: https://shatristore.com/ar/kitchen-appliances/juicers/%D9%85%D9%88%D9%84%D9%8A%D9%86%D9%83%D8%B3-%D8%B9%D8%B5%D8%A7%D8%B1%D8%A9-%D8%A7%D9%84%D8%A8%D8%B1%D8%AA%D9%82%D8%A7%D9%84-%D8%A7%D9%84%D9%83%D9%87%D8%B1%D8%A8%D8%A7%D8%A6%D9%8A%D8%A9-25-%D9%88%D8%A7%D8%B7%D8%8C-0-6-%D9%84%D8%AA%D8%B1\n",
      "***********************************************************\n",
      "Count: 454\n",
      "URl: https://shatristore.com/ar/kitchen-appliances/juicers/%D9%83%D9%8A%D9%86%D9%88%D9%88%D8%AF-%D8%B9%D8%B5%D8%A7%D8%B1%D8%A9-%D8%A7%D9%84%D8%A8%D8%B1%D8%AA%D9%82%D8%A7%D9%84-%D8%A7%D9%84%D9%83%D9%87%D8%B1%D8%A8%D8%A7%D8%A6%D9%8A%D8%A9-40-%D9%88%D8%A7%D8%B7-%D8%8C-1-%D9%84%D8%AA%D8%B1\n",
      "***********************************************************\n",
      "Count: 455\n",
      "URl: https://shatristore.com/ar/kitchen-appliances/juicers/%D8%A8%D8%B1%D8%A7%D9%88%D9%86-%D8%B9%D8%B5%D8%A7%D8%B1%D8%A9-%D8%A7%D9%84%D8%A8%D8%B1%D8%AA%D9%82%D8%A7%D9%84-%D8%A7%D9%84%D9%83%D9%87%D8%B1%D8%A8%D8%A7%D8%A6%D9%8A%D8%A9-20%D9%88%D8%A7%D8%B7\n",
      "***********************************************************\n",
      "Count: 456\n",
      "URl: https://shatristore.com/ar/kitchen-appliances/blenders/%D8%A8%D8%A7%D9%86%D8%A7%D8%B3%D9%88%D9%86%D9%8A%D9%83-%D8%AE%D9%84%D8%A7%D8%B7-%D9%88-%D8%B9%D8%B5%D8%A7%D8%B1%D8%A9-3%D9%81%D9%8A1-%D8%AC%D9%83-%D8%B2%D8%AC%D8%A7%D8%AC%D9%8A-400-%D9%88%D8%A7%D8%B7\n",
      "***********************************************************\n",
      "Count: 457\n",
      "URl: https://shatristore.com/ar/kitchen-appliances/blenders/%D8%A8%D8%A7%D9%86%D8%A7%D8%B3%D9%88%D9%86%D9%8A%D9%83-%D8%AE%D9%84%D8%A7%D8%B7-%D8%AC%D9%83-%D8%B2%D8%AC%D8%A7%D8%AC%D9%8A-%D9%88-%D8%B9%D8%B5%D8%A7%D8%B1%D8%A9-3%D9%81%D9%8A1-%D8%8C-230-%D9%88%D8%A7%D8%B7\n",
      "***********************************************************\n",
      "Count: 458\n",
      "URl: https://shatristore.com/ar/kitchen-appliances/blenders/%D9%83%D9%8A%D9%86%D9%88%D9%88%D8%AF-%D8%AE%D9%84%D8%A7%D8%B7-%D8%B3%D9%85%D9%88%D8%B0%D9%8A-%D8%AC%D9%83-%D8%B2%D8%AC%D8%A7%D8%AC%D9%8A-750-%D9%88%D8%A7%D8%B7\n",
      "***********************************************************\n",
      "Count: 459\n",
      "URl: https://shatristore.com/ar/kitchen-appliances/blenders/%D8%A8%D8%B1%D8%A7%D9%88%D9%86-%D8%AE%D9%84%D8%A7%D8%B7-%D9%8A%D8%AF%D9%88%D9%8A-3%D9%81%D9%8A1-%D8%8C-700-%D9%88%D8%A7%D8%B7\n"
     ]
    },
    {
     "name": "stdout",
     "output_type": "stream",
     "text": [
      "***********************************************************\n",
      "Count: 460\n",
      "URl: https://shatristore.com/ar/kitchen-appliances/blenders/%D8%A8%D8%B1%D8%A7%D9%88%D9%86-%D8%AE%D9%84%D8%A7%D8%B7-%D9%8A%D8%AF%D9%88%D9%8A-2%D9%81%D9%8A1-%D8%8C-600-%D9%88%D8%A7%D8%B7\n",
      "***********************************************************\n",
      "Count: 461\n",
      "URl: https://shatristore.com/ar/kitchen-appliances/blenders/%D8%AC%D9%8A-%D9%81%D9%8A-%D8%B3%D9%8A-%D8%A8%D8%B1%D9%88-%D8%AE%D9%84%D8%A7%D8%B7-%D8%AC%D9%83-%D9%85%D8%B9-%D9%85%D8%B7%D8%AD%D9%86%D8%A9-%D8%8C600-%D9%88%D8%A7%D8%B7\n",
      "***********************************************************\n",
      "Count: 462\n",
      "URl: https://shatristore.com/ar/kitchen-appliances/blenders/%D8%AC%D9%8A-%D9%81%D9%8A-%D8%B3%D9%8A-%D8%A8%D8%B1%D9%88-%D8%AE%D9%84%D8%A7%D8%B7-%D8%AC%D9%83-%D9%85%D8%B9-%D9%85%D8%B7%D8%AD%D9%86%D8%A9-400-%D9%88%D8%A7%D8%B7\n",
      "***********************************************************\n",
      "Count: 463\n",
      "URl: https://shatristore.com/ar/kitchen-appliances/blenders/%D9%85%D9%88%D9%84%D9%8A%D9%86%D9%83%D8%B3-%D8%AE%D9%84%D8%A7%D8%B7-%D9%8A%D8%AF%D9%88%D9%8A-450-%D9%88%D8%A7%D8%B7\n",
      "***********************************************************\n",
      "Count: 464\n",
      "URl: https://shatristore.com/ar/kitchen-appliances/blenders/%D9%83%D9%8A%D9%86%D9%88%D9%88%D8%AF-%D8%AE%D9%84%D8%A7%D8%B7-%D8%AC%D9%83-%D9%85%D8%B9-%D9%85%D8%B7%D8%AD%D9%86%D8%AA%D9%8A%D9%86-400-%D9%88%D8%A7%D8%B7\n",
      "***********************************************************\n",
      "Count: 465\n",
      "URl: https://shatristore.com/ar/kitchen-appliances/blenders/%D9%83%D9%8A%D9%86%D9%88%D9%88%D8%AF-%D8%AE%D9%84%D8%A7%D8%B7-%D8%AC%D9%83-%D9%85%D8%B9-%D9%85%D8%B7%D8%AD%D9%86%D8%A9-400-%D9%88%D8%A7%D8%B7\n",
      "***********************************************************\n",
      "Count: 466\n",
      "URl: https://shatristore.com/ar/kitchen-appliances/blenders/%D9%85%D9%88%D9%84%D9%8A%D9%86%D9%83%D8%B3-%D8%AE%D9%84%D8%A7%D8%B7-%D8%AC%D9%83-%D9%88-%D9%85%D8%B7%D8%AD%D9%86%D8%AA%D9%8A%D9%86-400-%D9%88%D8%A7%D8%B7\n",
      "***********************************************************\n",
      "Count: 467\n",
      "URl: https://shatristore.com/ar/kitchen-appliances/blenders/%D9%83%D9%8A%D9%86%D9%88%D9%88%D8%AF-%D8%AE%D9%84%D8%A7%D8%B7-%D8%AC%D9%83-%D9%85%D8%B9-%D9%85%D8%B7%D8%AD%D9%86%D8%A9-400-%D9%88%D8%A7%D8%B7-%D8%8C-2-%D9%84%D8%AA%D8%B1\n",
      "***********************************************************\n",
      "Count: 468\n",
      "URl: https://shatristore.com/ar/kitchen-appliances/blenders/%D8%B1%D9%8A%D8%A8%D9%88%D9%86-%D8%AE%D9%84%D8%A7%D8%B7-%D9%83%D9%87%D8%B1%D8%A8%D8%A7%D8%A6%D9%8A-350-%D9%88%D8%A7%D8%B7\n",
      "***********************************************************\n",
      "Count: 469\n",
      "URl: https://shatristore.com/ar/kitchen-appliances/blenders/%D9%83%D9%88%D9%84%D9%8A%D9%86-%D8%AE%D9%84%D8%A7%D8%B7-%D8%AC%D9%83-%D9%83%D9%87%D8%B1%D8%A8%D8%A7%D8%A6%D9%8A-350-%D9%88%D8%A7%D8%B7\n",
      "***********************************************************\n",
      "Count: 470\n",
      "URl: https://shatristore.com/ar/kitchen-appliances/blenders/%D9%85%D9%88%D9%84%D9%8A%D9%86%D9%83%D8%B3-%D8%AE%D9%84%D8%A7%D8%B7-%D8%AC%D9%83-%D9%85%D8%B9-%D9%85%D8%B7%D8%AD%D9%86%D8%AA%D9%8A%D9%86-700-%D9%88%D8%A7%D8%B7\n",
      "***********************************************************\n",
      "Count: 471\n",
      "URl: https://shatristore.com/ar/kitchen-appliances/blenders/%D9%85%D9%88%D9%84%D9%8A%D9%86%D9%83%D8%B3-%D8%AE%D9%84%D8%A7%D8%B7-%D8%AC%D9%83-%D9%85%D8%B9-%D9%85%D8%B7%D8%AD%D9%86%D8%AA%D9%8A%D9%86-500-%D9%88%D8%A7%D8%B7\n",
      "***********************************************************\n",
      "Count: 472\n",
      "URl: https://shatristore.com/ar/kitchen-appliances/blenders/%D8%AC%D9%8A-%D9%81%D9%8A-%D8%B3%D9%8A-%D8%A8%D8%B1%D9%88-%D8%AE%D9%84%D8%A7%D8%B7-%D9%85%D8%AA%D8%B9%D8%AF%D8%AF-3%D9%81%D9%8A1-%D8%8C400-%D9%88%D8%A7%D8%B7\n",
      "***********************************************************\n",
      "Count: 473\n",
      "URl: https://shatristore.com/ar/kitchen-appliances/blenders/%D9%83%D9%8A%D9%86%D9%88%D9%88%D8%AF-%D8%AE%D9%84%D8%A7%D8%B7-%D9%85%D8%AA%D8%B9%D8%AF%D8%AF-3%D9%81%D9%8A1-%D8%8C-350-%D9%88%D8%A7%D8%B7\n",
      "***********************************************************\n",
      "Count: 474\n",
      "URl: https://shatristore.com/ar/kitchen-appliances/blenders/%D9%83%D9%8A%D9%86%D9%88%D9%88%D8%AF-%D8%AE%D9%84%D8%A7%D8%B7-%D9%8A%D8%AF%D9%88%D9%8A-3%D9%81%D9%8A1-%D8%8C-600-%D9%88%D8%A7%D8%B7-1\n",
      "***********************************************************\n",
      "Count: 475\n",
      "URl: https://shatristore.com/ar/kitchen-appliances/blenders/%D9%83%D9%8A%D9%86%D9%88%D9%88%D8%AF-%D8%AE%D9%84%D8%A7%D8%B7-%D9%8A%D8%AF%D9%88%D9%8A-3%D9%81%D9%8A1-%D8%8C-600-%D9%88%D8%A7%D8%B7\n",
      "***********************************************************\n",
      "Count: 476\n",
      "URl: https://shatristore.com/ar/kitchen-appliances/blenders/%D8%AC%D9%8A-%D9%81%D9%8A-%D8%B3%D9%8A-%D8%A8%D8%B1%D9%88-%D8%AE%D9%84%D8%A7%D8%B7-%D8%AC%D9%83-%D8%B2%D8%AC%D8%A7%D8%AC%D9%8A-%D9%85%D8%B9-%D8%A8%D8%B1%D8%B7%D9%85%D8%A7%D9%86%D8%8C-600-%D9%88%D8%A7%D8%B7\n",
      "***********************************************************\n",
      "Count: 477\n",
      "URl: https://shatristore.com/ar/kitchen-appliances/blenders/%D8%AC%D9%8A-%D9%81%D9%8A-%D8%B3%D9%8A-%D8%A8%D8%B1%D9%88-%D8%AE%D9%84%D8%A7%D8%B7-%D9%85%D8%B9-%D9%85%D8%B7%D8%AD%D9%86%D8%AA%D9%8A%D9%86-400-%D9%88%D8%A7%D8%B7\n",
      "***********************************************************\n",
      "Count: 478\n",
      "URl: https://shatristore.com/ar/kitchen-appliances/blenders/%D8%AC%D9%8A-%D9%81%D9%8A-%D8%B3%D9%8A-%D8%A8%D8%B1%D9%88-%D8%B9%D8%B5%D8%A7%D8%B1%D8%A9-%D9%88-%D8%AE%D9%84%D8%A7%D8%B7-%D9%85%D8%AA%D8%B9%D8%AF%D8%AF-4%D9%81%D9%8A1-%D8%8C-400-%D9%88%D8%A7%D8%B7\n",
      "***********************************************************\n",
      "Count: 479\n",
      "URl: https://shatristore.com/ar/kitchen-appliances/blenders/%D8%AF%D9%8A%D8%AC%D8%AA%D8%B1%D9%88%D9%86-%D8%AE%D9%84%D8%A7%D8%B7-%D9%85%D8%B9-%D9%85%D8%B7%D8%AD%D9%86%D8%AA%D9%8A%D9%86-%D8%AC%D9%83-%D8%B6%D8%AF-%D8%A7%D9%84%D9%83%D8%B3%D8%B1-600-%D9%88%D8%A7%D8%B7\n",
      "***********************************************************\n",
      "Count: 480\n",
      "URl: https://shatristore.com/ar/kitchen-appliances/blenders/%D9%81%D9%8A%D8%B4%D8%B1-%D8%AC%D9%83-%D8%B2%D8%AC%D8%A7%D8%AC%D9%8A-%D9%85%D8%B9-%D8%A8%D8%B1%D8%B7%D9%85%D8%A7%D9%86-220-%D9%88%D8%A7%D8%B7\n",
      "***********************************************************\n",
      "Count: 481\n",
      "URl: https://shatristore.com/ar/kitchen-appliances/blenders/%D9%83%D9%8A%D9%86%D9%88%D9%88%D8%AF-%D8%AE%D9%84%D8%A7%D8%B7-%D8%AC%D9%83-%D9%85%D8%B9-%D9%85%D8%B7%D8%AD%D9%86%D8%A9-350-%D9%88%D8%A7%D8%B7\n",
      "***********************************************************\n",
      "Count: 482\n",
      "URl: https://shatristore.com/ar/kitchen-appliances/blenders/%D8%B3%D8%A7%D9%86%D9%8A%D9%88-%D8%AE%D9%84%D8%A7%D8%B7-%D8%B2%D8%AC%D8%A7%D8%AC%D9%8A-%D9%85%D8%B9-%D9%85%D8%B7%D8%AD%D9%86%D8%A9-230-%D9%88%D8%A7%D8%B7\n",
      "***********************************************************\n",
      "Count: 483\n",
      "URl: https://shatristore.com/ar/kitchen-appliances/blenders/%D9%81%D9%8A%D9%84%D9%8A%D8%A8%D8%B3-%D8%AE%D9%84%D8%A7%D8%B7-%D8%AC%D9%83-%D9%85%D8%B9-%D9%85%D8%B7%D8%AD%D9%86%D8%A9-450-%D9%88%D8%A7%D8%B7\n",
      "***********************************************************\n",
      "Count: 484\n",
      "URl: https://shatristore.com/ar/kitchen-appliances/blenders/%D9%81%D9%8A%D9%84%D9%8A%D8%A8%D8%B3-%D8%AE%D9%84%D8%A7%D8%B7-%D8%AC%D9%83-%D9%85%D8%B9-%D9%85%D8%B7%D8%AD%D9%86%D8%AA%D9%8A%D9%86-450-%D9%88%D8%A7%D8%B7\n",
      "***********************************************************\n",
      "Count: 485\n",
      "URl: https://shatristore.com/ar/kitchen-appliances/blenders/%D8%A8%D8%A7%D9%86%D8%A7%D8%B3%D9%88%D9%86%D9%8A%D9%83-%D8%AE%D9%84%D8%A7%D8%B7-%D8%AC%D9%83-%D9%85%D8%B9-%D9%85%D8%B7%D8%AD%D9%86%D8%AA%D9%8A%D9%86-500-%D9%88%D8%A7%D8%B7\n",
      "***********************************************************\n",
      "Count: 486\n",
      "URl: https://shatristore.com/ar/kitchen-appliances/blenders/%D8%A8%D8%B1%D8%A7%D9%88%D9%86-%D8%AE%D9%84%D8%A7%D8%B7-%D9%8A%D8%AF%D9%88%D9%8A-4%D9%81%D9%8A1-%D8%8C-750-%D9%88%D8%A7%D8%B7\n",
      "***********************************************************\n",
      "Count: 487\n",
      "URl: https://shatristore.com/ar/kitchen-appliances/blenders/%D8%A8%D8%B1%D8%A7%D9%88%D9%86-%D8%AE%D9%84%D8%A7%D8%B7-%D9%8A%D8%AF%D9%88%D9%8A-%D9%84%D8%A7%D8%B3%D9%84%D9%83%D9%8A-%D8%8C-750-%D9%88%D8%A7%D8%B7\n",
      "***********************************************************\n",
      "Count: 488\n",
      "URl: https://shatristore.com/ar/kitchen-appliances/blenders/%D8%A8%D8%A7%D9%86%D8%A7%D8%B3%D9%88%D9%86%D9%8A%D9%83-%D8%AE%D9%84%D8%A7%D8%B7-%D9%88-%D8%B9%D8%B5%D8%A7%D8%B1%D8%A9-3%D9%81%D9%8A1-%D8%AC%D9%83-%D8%B2%D8%AC%D8%A7%D8%AC%D9%8A-400-%D9%88%D8%A7%D8%B7\n"
     ]
    },
    {
     "name": "stdout",
     "output_type": "stream",
     "text": [
      "***********************************************************\n",
      "Count: 489\n",
      "URl: https://shatristore.com/ar/kitchen-appliances/blenders/%D8%A8%D8%A7%D9%86%D8%A7%D8%B3%D9%88%D9%86%D9%8A%D9%83-%D8%AE%D9%84%D8%A7%D8%B7-%D8%AC%D9%83-%D8%B2%D8%AC%D8%A7%D8%AC%D9%8A-%D9%88-%D8%B9%D8%B5%D8%A7%D8%B1%D8%A9-3%D9%81%D9%8A1-%D8%8C-230-%D9%88%D8%A7%D8%B7\n",
      "***********************************************************\n",
      "Count: 490\n",
      "URl: https://shatristore.com/ar/kitchen-appliances/blenders/%D9%83%D9%8A%D9%86%D9%88%D9%88%D8%AF-%D8%AE%D9%84%D8%A7%D8%B7-%D8%B3%D9%85%D9%88%D8%B0%D9%8A-%D8%AC%D9%83-%D8%B2%D8%AC%D8%A7%D8%AC%D9%8A-750-%D9%88%D8%A7%D8%B7\n",
      "***********************************************************\n",
      "Count: 491\n",
      "URl: https://shatristore.com/ar/kitchen-appliances/blenders/%D9%83%D9%8A%D9%86%D9%88%D9%88%D8%AF-%D8%AE%D9%84%D8%A7%D8%B7-%D9%85%D8%B9-%D9%85%D8%B7%D8%AD%D9%86%D8%AA%D9%8A%D9%86-350-%D9%88%D8%A7%D8%B7\n",
      "***********************************************************\n",
      "Count: 492\n",
      "URl: https://shatristore.com/ar/kitchen-appliances/blenders/%D9%83%D9%8A%D9%86%D9%88%D9%88%D8%AF-%D8%AE%D9%84%D8%A7%D8%B7-%D9%85%D8%B9-%D9%85%D8%B7%D8%AD%D9%86%D8%AA%D9%8A%D9%86-450-%D9%88%D8%A7%D8%B7\n",
      "***********************************************************\n",
      "Count: 493\n",
      "URl: https://shatristore.com/ar/kitchen-appliances/mixers/%D8%AC%D8%A7%D9%86%D9%88-%D8%B9%D8%AC%D8%A7%D9%86%D8%A9-%D9%88-%D8%AE%D9%84%D8%A7%D8%B7-%D9%87%D8%A7%D9%8A%D8%A8%D8%B1-%D8%A8%D9%84%D8%B3-1200-%D9%88%D8%A7%D8%B7-%D8%8C-5%D9%81%D9%8A1-%D8%8C-7%D9%84%D8%AA%D8%B1-1\n",
      "***********************************************************\n",
      "Count: 494\n",
      "URl: https://shatristore.com/ar/kitchen-appliances/mixers/%D8%AC%D8%A7%D9%86%D9%88-%D8%B9%D8%AC%D8%A7%D9%86%D8%A9-%D9%88-%D8%AE%D9%84%D8%A7%D8%B7-%D9%87%D8%A7%D9%8A%D8%A8%D8%B1-%D8%A8%D9%84%D8%B3-1200-%D9%88%D8%A7%D8%B7-%D8%8C-5%D9%81%D9%8A1-%D8%8C-7%D9%84%D8%AA%D8%B1\n",
      "***********************************************************\n",
      "Count: 495\n",
      "URl: https://shatristore.com/ar/kitchen-appliances/mixers/%D8%AC%D9%8A-%D9%81%D9%8A-%D8%B3%D9%8A-%D8%A8%D8%B1%D9%88-%D8%B9%D8%AC%D8%A7%D9%86%D8%A9-%D8%AA%D9%8A%D8%AA%D8%A7%D9%86%D9%8A%D9%88%D9%85-1100-%D9%88%D8%A7%D8%B7-%D8%8C-6-5-%D9%84%D8%AA%D8%B1\n",
      "***********************************************************\n",
      "Count: 496\n",
      "URl: https://shatristore.com/ar/kitchen-appliances/mixers/%D9%83%D9%88%D9%84%D9%8A%D9%86-%D8%B9%D8%AC%D8%A7%D9%86%D8%A9-1000-%D9%88%D8%A7%D8%B7-%D8%8C-5%D9%84%D8%AA%D8%B1\n",
      "***********************************************************\n",
      "Count: 497\n",
      "URl: https://shatristore.com/ar/kitchen-appliances/mixers/%D8%A7%D9%84%D8%B3%D9%8A%D9%81-%D8%A7%D9%84%D9%8A%D9%83-%D8%B9%D8%AC%D8%A7%D9%86%D8%A9-%D9%83%D8%B1%D9%88%D8%A7%D9%86-650-%D9%88%D8%A7%D8%B7-%D8%8C-5%D9%84%D8%AA%D8%B1-1\n",
      "***********************************************************\n",
      "Count: 498\n",
      "URl: https://shatristore.com/ar/kitchen-appliances/mixers/%D8%A7%D9%84%D8%B3%D9%8A%D9%81-%D8%A7%D9%84%D9%8A%D9%83-%D8%B9%D8%AC%D8%A7%D9%86%D8%A9-%D9%83%D8%B1%D9%88%D8%A7%D9%86-650-%D9%88%D8%A7%D8%B7-%D8%8C-5%D9%84%D8%AA%D8%B1\n",
      "***********************************************************\n",
      "Count: 499\n",
      "URl: https://shatristore.com/ar/kitchen-appliances/mixers/%D8%B1%D9%8A%D8%A8%D9%88%D9%86-%D8%B9%D8%AC%D8%A7%D9%86%D8%A9-1100-%D9%88%D8%A7%D8%B7-%D8%8C5-5-%D9%84%D8%AA%D8%B1-1\n",
      "***********************************************************\n",
      "Count: 500\n",
      "URl: https://shatristore.com/ar/kitchen-appliances/mixers/%D8%A7%D9%84%D8%B3%D9%8A%D9%81-%D8%A7%D9%84%D9%8A%D9%83-mk-20-%D8%B9%D8%AC%D8%A7%D9%86%D8%A9-800-%D9%88%D8%A7%D8%B7-%D8%8C-7-%D9%84%D8%AA%D8%B1-2\n",
      "***********************************************************\n",
      "Count: 501\n",
      "URl: https://shatristore.com/ar/kitchen-appliances/mixers/%D8%A7%D9%84%D8%B3%D9%8A%D9%81-%D8%A7%D9%84%D9%8A%D9%83-mk-20-%D8%B9%D8%AC%D8%A7%D9%86%D8%A9-800-%D9%88%D8%A7%D8%B7-%D8%8C-7-%D9%84%D8%AA%D8%B1-1\n",
      "***********************************************************\n",
      "Count: 502\n",
      "URl: https://shatristore.com/ar/kitchen-appliances/mixers/%D8%AC%D9%8A-%D9%81%D9%8A-%D8%B3%D9%8A-%D8%A8%D8%B1%D9%88-%D8%B9%D8%AC%D8%A7%D9%86%D8%A9-%D9%88-%D9%85%D8%AD%D8%B6%D8%B1-%D8%B7%D8%B9%D8%A7%D9%85-3%D9%81%D9%8A1-%D8%8C1100-%D9%88%D8%A7%D8%B7-%D8%8C7-5-%D9%84%D8%AA%D8%B1-1\n",
      "***********************************************************\n",
      "Count: 503\n",
      "URl: https://shatristore.com/ar/kitchen-appliances/mixers/%D8%AC%D9%8A-%D9%81%D9%8A-%D8%B3%D9%8A-%D8%A8%D8%B1%D9%88-%D8%B9%D8%AC%D8%A7%D9%86%D8%A9-%D9%88-%D9%85%D8%AD%D8%B6%D8%B1-%D8%B7%D8%B9%D8%A7%D9%85-3%D9%81%D9%8A1-%D8%8C1100-%D9%88%D8%A7%D8%B7-%D8%8C7-5-%D9%84%D8%AA%D8%B1\n",
      "***********************************************************\n",
      "Count: 504\n",
      "URl: https://shatristore.com/ar/kitchen-appliances/mixers/%D8%AC%D9%8A-%D9%81%D9%8A-%D8%B3%D9%8A-%D8%A8%D8%B1%D9%88-%D8%B9%D8%AC%D8%A7%D9%86%D8%A9-%D9%87%D8%A7%D9%8A%D8%A8%D8%B1-1100-%D9%88%D8%A7%D8%B7-%D8%8C7-5-%D9%84%D8%AA%D8%B1-3\n",
      "***********************************************************\n",
      "Count: 505\n",
      "URl: https://shatristore.com/ar/kitchen-appliances/mixers/%D8%AC%D9%8A-%D9%81%D9%8A-%D8%B3%D9%8A-%D8%A8%D8%B1%D9%88-%D8%B9%D8%AC%D8%A7%D9%86%D8%A9-%D9%87%D8%A7%D9%8A%D8%A8%D8%B1-1100-%D9%88%D8%A7%D8%B7-%D8%8C7-5-%D9%84%D8%AA%D8%B1-2\n",
      "***********************************************************\n",
      "Count: 506\n",
      "URl: https://shatristore.com/ar/kitchen-appliances/mixers/%D8%AC%D8%A7%D9%86%D9%88-%D8%B9%D8%AC%D8%A7%D9%86%D8%A9-%D9%83%D9%8A%D9%88%D8%AA%D9%8A-800-%D9%88%D8%A7%D8%B7-%D8%8C-6-%D8%B3%D8%B1%D8%B9%D8%A7%D8%AA-2\n",
      "***********************************************************\n",
      "Count: 507\n",
      "URl: https://shatristore.com/ar/kitchen-appliances/mixers/%D8%AC%D8%A7%D9%86%D9%88-%D8%B9%D8%AC%D8%A7%D9%86%D8%A9-%D9%83%D9%8A%D9%88%D8%AA%D9%8A-800-%D9%88%D8%A7%D8%B7-%D8%8C-6-%D8%B3%D8%B1%D8%B9%D8%A7%D8%AA\n",
      "***********************************************************\n",
      "Count: 508\n",
      "URl: https://shatristore.com/ar/kitchen-appliances/mixers/%D8%AC%D8%A7%D9%86%D9%88-%D8%B9%D8%AC%D8%A7%D9%86%D8%A9-%D9%85%D9%8A%D8%B1%D8%A7-500-%D9%88%D8%A7%D8%B7-%D8%8C-8-%D8%B3%D8%B1%D8%B9%D8%A7%D8%AA-1\n",
      "***********************************************************\n",
      "Count: 509\n",
      "URl: https://shatristore.com/ar/kitchen-appliances/mixers/%D8%AC%D8%A7%D9%86%D9%88-%D8%B9%D8%AC%D8%A7%D9%86%D8%A9-%D9%85%D9%8A%D8%B1%D8%A7-500-%D9%88%D8%A7%D8%B7-%D8%8C-8-%D8%B3%D8%B1%D8%B9%D8%A7%D8%AA\n",
      "***********************************************************\n",
      "Count: 510\n",
      "URl: https://shatristore.com/ar/kitchen-appliances/mixers/%D8%A7%D9%84%D8%B3%D9%8A%D9%81-%D8%A7%D9%84%D9%8A%D9%83-%D8%AE%D9%84%D8%A7%D8%B7-%D8%A7%D8%AD%D8%AA%D8%B1%D8%A7%D9%81%D9%8A-1000-%D9%88%D8%A7%D8%B7-%D8%8C-5-%D9%84%D8%AA%D8%B1-3\n",
      "***********************************************************\n",
      "Count: 511\n",
      "URl: https://shatristore.com/ar/kitchen-appliances/mixers/%D8%AC%D9%8A-%D9%81%D9%8A-%D8%B3%D9%8A-%D8%A8%D8%B1%D9%88-%D8%B9%D8%AC%D8%A7%D9%86%D8%A9-%D9%87%D8%A7%D9%8A%D8%A8%D8%B1-1100-%D9%88%D8%A7%D8%B7-%D8%8C7-5-%D9%84%D8%AA%D8%B1-1\n",
      "***********************************************************\n",
      "Count: 512\n",
      "URl: https://shatristore.com/ar/kitchen-appliances/mixers/%D8%AC%D9%8A-%D9%81%D9%8A-%D8%B3%D9%8A-%D8%A8%D8%B1%D9%88-%D8%B9%D8%AC%D8%A7%D9%86%D8%A9-1100-%D9%88%D8%A7%D8%B7-%D8%8C6-5-%D9%84%D8%AA%D8%B1-2\n",
      "***********************************************************\n",
      "Count: 513\n",
      "URl: https://shatristore.com/ar/kitchen-appliances/mixers/%D8%AC%D9%8A-%D9%81%D9%8A-%D8%B3%D9%8A-%D8%A8%D8%B1%D9%88-%D8%B9%D8%AC%D8%A7%D9%86%D8%A9-1100-%D9%88%D8%A7%D8%B7-%D8%8C6-5-%D9%84%D8%AA%D8%B1-1\n",
      "***********************************************************\n",
      "Count: 514\n",
      "URl: https://shatristore.com/ar/kitchen-appliances/mixers/%D8%B1%D9%8A%D8%A8%D9%88%D9%86-%D8%B9%D8%AC%D8%A7%D9%86%D8%A9-1100-%D9%88%D8%A7%D8%B7-%D8%8C5-5-%D9%84%D8%AA%D8%B1\n",
      "***********************************************************\n",
      "Count: 515\n",
      "URl: https://shatristore.com/ar/kitchen-appliances/mixers/%D8%AC%D8%A7%D9%86%D9%88-%D8%B9%D8%AC%D8%A7%D9%86%D8%A9-%D9%88-%D8%AE%D9%84%D8%A7%D8%B7-%D9%87%D8%A7%D9%8A%D8%A8%D8%B1-1200-%D9%88%D8%A7%D8%B7-%D8%8C-5%D9%81%D9%8A1-%D8%8C-7%D9%84%D8%AA%D8%B1-2\n",
      "***********************************************************\n",
      "Count: 516\n",
      "URl: https://shatristore.com/ar/kitchen-appliances/mixers/%D8%AC%D8%A7%D9%86%D9%88-%D8%B9%D8%AC%D8%A7%D9%86%D8%A9-%D9%88-%D8%AE%D9%84%D8%A7%D8%B7-%D9%87%D8%A7%D9%8A%D8%A8%D8%B1-1200-%D9%88%D8%A7%D8%B7-%D8%8C-5%D9%81%D9%8A1-%D8%8C-7%D9%84%D8%AA%D8%B1-1\n"
     ]
    },
    {
     "name": "stdout",
     "output_type": "stream",
     "text": [
      "***********************************************************\n",
      "Count: 517\n",
      "URl: https://shatristore.com/ar/kitchen-appliances/mixers/%D8%AC%D8%A7%D9%86%D9%88-%D8%B9%D8%AC%D8%A7%D9%86%D8%A9-%D9%87%D8%A7%D9%8A%D8%A8%D8%B1-%D9%85%D9%81%D8%B1%D8%AF%D8%A9-1200-%D9%88%D8%A7%D8%B7-%D8%8C-7-%D9%84%D8%AA%D8%B1-2\n",
      "***********************************************************\n",
      "Count: 518\n",
      "URl: https://shatristore.com/ar/kitchen-appliances/mixers/%D8%AC%D8%A7%D9%86%D9%88-%D8%B9%D8%AC%D8%A7%D9%86%D8%A9-%D9%87%D8%A7%D9%8A%D8%A8%D8%B1-%D9%85%D9%81%D8%B1%D8%AF%D8%A9-1200-%D9%88%D8%A7%D8%B7-%D8%8C-7-%D9%84%D8%AA%D8%B1-1\n",
      "***********************************************************\n",
      "Count: 519\n",
      "URl: https://shatristore.com/ar/kitchen-appliances/mixers/%D8%AC%D8%A7%D9%86%D9%88-%D8%B9%D8%AC%D8%A7%D9%86%D8%A9-%D9%87%D8%A7%D9%8A%D8%A8%D8%B1-%D9%85%D9%81%D8%B1%D8%AF%D8%A9-1200-%D9%88%D8%A7%D8%B7-%D8%8C-7-%D9%84%D8%AA%D8%B1\n",
      "***********************************************************\n",
      "Count: 520\n",
      "URl: https://shatristore.com/ar/kitchen-appliances/mixers/%D9%83%D9%8A%D9%86%D9%88%D9%88%D8%AF-%D8%B9%D8%AC%D8%A7%D9%86%D8%A9-%D8%A8%D8%B1%D9%88%D8%B3%D8%A8%D9%8A%D8%B1%D9%88-900-%D9%88%D8%A7%D8%B7-%D8%8C-4-3-%D9%84%D8%AA%D8%B1-1\n",
      "***********************************************************\n",
      "Count: 521\n",
      "URl: https://shatristore.com/ar/kitchen-appliances/mixers/%D8%A7%D9%84%D8%B3%D9%8A%D9%81-%D8%A7%D9%84%D9%8A%D9%83-%D8%AE%D9%84%D8%A7%D8%B7-%D8%A7%D8%AD%D8%AA%D8%B1%D8%A7%D9%81%D9%8A-1000-%D9%88%D8%A7%D8%B7-%D8%8C-5-%D9%84%D8%AA%D8%B1-2\n",
      "***********************************************************\n",
      "Count: 522\n",
      "URl: https://shatristore.com/ar/kitchen-appliances/mixers/%D8%A7%D9%84%D8%B3%D9%8A%D9%81-%D8%A7%D9%84%D9%8A%D9%83-%D8%AE%D9%84%D8%A7%D8%B7-%D8%A7%D8%AD%D8%AA%D8%B1%D8%A7%D9%81%D9%8A-1000-%D9%88%D8%A7%D8%B7-%D8%8C-5-%D9%84%D8%AA%D8%B1-1\n",
      "***********************************************************\n",
      "Count: 523\n",
      "URl: https://shatristore.com/ar/kitchen-appliances/mixers/%D8%A7%D9%84%D8%B3%D9%8A%D9%81-%D8%A7%D9%84%D9%8A%D9%83-%D8%AE%D9%84%D8%A7%D8%B7-%D8%A7%D8%AD%D8%AA%D8%B1%D8%A7%D9%81%D9%8A-1000-%D9%88%D8%A7%D8%B7-%D8%8C-5-%D9%84%D8%AA%D8%B1\n",
      "***********************************************************\n",
      "Count: 524\n",
      "URl: https://shatristore.com/ar/kitchen-appliances/-3/nr674n3\n",
      "***********************************************************\n",
      "Count: 525\n",
      "URl: https://shatristore.com/ar/kitchen-appliances/-3/%D8%A7%D9%8A%D8%B3%D9%88%D9%86%D9%8A%D9%83-%D8%B7%D8%A8%D8%A7%D8%AE%D8%A9-%D8%A3%D8%B1%D8%B2-%D9%83%D9%87%D8%B1%D8%A8%D8%A7%D8%A6%D9%8A%D8%A9-1-8-%D9%84%D8%AA%D8%B1\n",
      "***********************************************************\n",
      "Count: 526\n",
      "URl: https://shatristore.com/ar/kitchen-appliances/-3/%D8%AC%D9%8A-%D9%81%D9%8A-%D8%B3%D9%8A-%D8%A8%D8%B1%D9%88-%D9%82%D8%AF%D8%B1-%D8%B6%D8%BA%D8%B7-%D9%83%D9%87%D8%B1%D8%A8%D8%A7%D8%A6%D9%8A-%D8%AC%D8%B1%D8%A7%D9%86%D9%8A%D8%AA-12-%D9%84%D8%AA%D8%B1\n",
      "***********************************************************\n",
      "Count: 527\n",
      "URl: https://shatristore.com/ar/kitchen-appliances/-3/%D8%AC%D9%8A-%D9%81%D9%8A-%D8%B3%D9%8A-%D8%A8%D8%B1%D9%88-%D9%82%D8%AF%D8%B1-%D8%B6%D8%BA%D8%B7-%D9%83%D9%87%D8%B1%D8%A8%D8%A7%D8%A6%D9%8A-%D8%AC%D8%B1%D8%A7%D9%86%D9%8A%D8%AA-10-%D9%84%D8%AA%D8%B1\n",
      "***********************************************************\n",
      "Count: 528\n",
      "URl: https://shatristore.com/ar/kitchen-appliances/-3/%D8%AC%D9%8A-%D9%81%D9%8A-%D8%B3%D9%8A-%D8%A8%D8%B1%D9%88-%D9%82%D8%AF%D8%B1-%D8%B6%D8%BA%D8%B7-%D9%83%D9%87%D8%B1%D8%A8%D8%A7%D8%A6%D9%8A-10-%D9%84%D8%AA%D8%B1\n",
      "***********************************************************\n",
      "Count: 529\n",
      "URl: https://shatristore.com/ar/kitchen-appliances/-3/%D8%AC%D9%8A-%D9%81%D9%8A-%D8%B3%D9%8A-%D8%A8%D8%B1%D9%88-%D9%82%D8%AF%D8%B1-%D8%B6%D8%BA%D8%B7-%D9%83%D9%87%D8%B1%D8%A8%D8%A7%D8%A6%D9%8A-%D8%AC%D8%B1%D8%A7%D9%86%D9%8A%D8%AA-8-%D9%84%D8%AA%D8%B1\n",
      "***********************************************************\n",
      "Count: 530\n",
      "URl: https://shatristore.com/ar/kitchen-appliances/-3/%D8%AC%D9%8A-%D9%81%D9%8A-%D8%B3%D9%8A-%D8%A8%D8%B1%D9%88-%D9%82%D8%AF%D8%B1-%D8%B6%D8%BA%D8%B7-%D9%83%D9%87%D8%B1%D8%A8%D8%A7%D8%A6%D9%8A-8-%D9%84%D8%AA%D8%B1\n",
      "***********************************************************\n",
      "Count: 531\n",
      "URl: https://shatristore.com/ar/kitchen-appliances/-3/%D8%AC%D9%8A-%D9%81%D9%8A-%D8%B3%D9%8A-%D8%A8%D8%B1%D9%88-%D9%82%D8%AF%D8%B1-%D8%B6%D8%BA%D8%B7-%D9%83%D9%87%D8%B1%D8%A8%D8%A7%D8%A6%D9%8A-%D8%AC%D8%B1%D8%A7%D9%86%D9%8A%D8%AA-6-%D9%84%D8%AA%D8%B1\n",
      "***********************************************************\n",
      "Count: 532\n",
      "URl: https://shatristore.com/ar/kitchen-appliances/-3/%D8%AC%D9%8A-%D9%81%D9%8A-%D8%B3%D9%8A-%D8%A8%D8%B1%D9%88-%D9%82%D8%AF%D8%B1-%D8%B6%D8%BA%D8%B7-%D9%83%D9%87%D8%B1%D8%A8%D8%A7%D8%A6%D9%8A-6-%D9%84%D8%AA%D8%B1\n",
      "***********************************************************\n",
      "Count: 533\n",
      "URl: https://shatristore.com/ar/kitchen-appliances/-3/%D8%B3%D8%A7%D9%86-%D9%81%D9%88%D8%B1%D8%AF-%D8%B7%D8%A8%D8%A7%D8%AE%D8%A9-%D8%A7%D9%84%D8%A3%D8%B1%D8%B2-%D8%A7%D9%84%D9%83%D9%87%D8%B1%D8%A8%D8%A7%D8%A6%D9%8A%D8%A9-1-5-%D9%84%D8%AA%D8%B1\n",
      "***********************************************************\n",
      "Count: 534\n",
      "URl: https://shatristore.com/ar/kitchen-appliances/-3/%D8%B3%D8%A7%D9%86-%D9%81%D9%88%D8%B1%D8%AF-%D8%B7%D8%A8%D8%A7%D8%AE%D8%A9-%D8%A7%D9%84%D8%A3%D8%B1%D8%B2-%D8%A7%D9%84%D9%83%D9%87%D8%B1%D8%A8%D8%A7%D8%A6%D9%8A%D8%A9-1-8-%D9%84%D8%AA%D8%B1\n",
      "***********************************************************\n",
      "Count: 535\n",
      "URl: https://shatristore.com/ar/kitchen-appliances/-3/%D9%83%D9%8A%D9%86%D9%88%D9%88%D8%AF-%D8%B7%D8%A8%D8%A7%D8%AE%D8%A9-%D8%A3%D8%B1%D8%B2-%D9%83%D9%87%D8%B1%D8%A8%D8%A7%D8%A6%D9%8A%D8%A9%D8%8C-0-6-%D9%84%D8%AA%D8%B1\n",
      "***********************************************************\n",
      "Count: 536\n",
      "URl: https://shatristore.com/ar/kitchen-appliances/-3/%D9%83%D9%88%D9%84%D9%8A%D9%86-%D8%B7%D8%A8%D8%A7%D8%AE%D8%A9-%D8%A3%D8%B1%D8%B2-%D9%83%D9%87%D8%B1%D8%A8%D8%A7%D8%A6%D9%8A%D8%A9%D8%8C-1-5-%D9%84%D8%AA%D8%B1\n",
      "***********************************************************\n",
      "Count: 537\n",
      "URl: https://shatristore.com/ar/kitchen-appliances/others-makers/1\n",
      "***********************************************************\n",
      "Count: 538\n",
      "URl: https://shatristore.com/ar/kitchen-appliances/others-makers/%D8%B1%D9%8A%D8%A8%D9%88%D9%86-%D8%A2%D9%84%D8%A9-%D8%B5%D9%86%D8%B9-%D8%A7%D9%84%D8%AE%D8%A8%D8%B2-%D8%A7%D9%84%D9%83%D9%87%D8%B1%D8%A8%D8%A7%D8%A6%D9%8A%D8%A9-2600-%D9%88%D8%A7%D8%B7\n",
      "***********************************************************\n",
      "Count: 539\n",
      "URl: https://shatristore.com/ar/kitchen-appliances/meat-mincer/pfs-300-.html\n",
      "***********************************************************\n",
      "Count: 540\n",
      "URl: https://shatristore.com/ar/kitchen-appliances/others-makers/%D8%AA%D8%A7%D9%8A%D9%88%D8%A7%D9%86-%D8%AC%D9%87%D8%A7%D8%B2-%D8%A7%D8%BA%D9%84%D8%A7%D9%82-%D8%A7%D9%84%D8%A3%D9%83%D9%8A%D8%A7%D8%B3-%D8%A7%D9%84%D8%A8%D9%84%D8%A7%D8%B3%D8%AA%D9%8A%D9%83%D9%8A%D8%A9-20-%D8%B3%D9%85\n",
      "***********************************************************\n",
      "Count: 541\n",
      "URl: https://shatristore.com/ar/kitchen-appliances/others-makers/%D8%A8%D9%8A%D8%B3%D9%83-%D8%BA%D8%B3%D8%A7%D9%84%D8%A9-%D8%A3%D8%B7%D9%81%D8%A7%D9%84-%D8%AE%D8%B6%D8%A7%D8%B6%D8%A9-%D9%84%D8%A8%D9%86-1-5-%D9%83%D9%8A%D9%84%D9%88\n",
      "***********************************************************\n",
      "Count: 542\n",
      "URl: https://shatristore.com/ar/kitchen-appliances/others-makers/%D8%A7%D9%84%D8%B3%D9%8A%D9%81-%D8%A7%D9%84%D9%8A%D9%83-%D8%A2%D9%84%D8%A9-%D8%B5%D9%86%D8%B9-%D8%A7%D9%84%D9%81%D8%B4%D8%A7%D8%B1-%D8%A7%D9%84%D9%83%D9%87%D8%B1%D8%A8%D8%A7%D8%A6%D9%8A%D8%A9-1200-%D9%88%D8%A7%D8%B7-%D8%8C-%D9%83%D8%A8%D9%8A%D8%B1\n",
      "***********************************************************\n",
      "Count: 543\n",
      "URl: https://shatristore.com/ar/kitchen-appliances/others-makers/%D9%86%D9%8A%D9%83%D8%A7%D9%8A-%D8%A2%D9%84%D8%A9-%D8%B5%D9%86%D8%B9-%D8%A7%D9%84%D8%B3%D9%85%D8%A8%D9%88%D8%B3%D8%A9-%D8%BA%D9%8A%D8%B1-%D9%82%D8%A7%D8%A8%D9%84%D8%A9-%D9%84%D9%84%D8%A5%D9%84%D8%AA%D8%B5%D8%A7%D9%82-1200-%D9%88%D8%A7%D8%B7%D8%8C-24-%D9%82%D8%B7%D8%B9%D8%A9\n",
      "***********************************************************\n",
      "Count: 544\n",
      "URl: https://shatristore.com/ar/kitchen-appliances/others-makers/%D8%B1%D9%8A%D8%A8%D9%88%D9%86-%D8%A2%D9%84%D8%A9-%D8%B5%D9%86%D8%B9-%D8%A7%D9%84%D8%AA%D8%B4%D9%88%D8%B1%D9%88-%D8%A7%D9%84%D9%83%D9%87%D8%B1%D8%A8%D8%A7%D8%A6%D9%8A%D8%A9-750-%D9%88%D8%A7%D8%B7\n"
     ]
    },
    {
     "name": "stdout",
     "output_type": "stream",
     "text": [
      "***********************************************************\n",
      "Count: 545\n",
      "URl: https://shatristore.com/ar/kitchen-appliances/others-makers/%D8%A7%D9%84%D8%B3%D9%8A%D9%81-%D8%A7%D9%84%D9%8A%D9%83-%D8%A2%D9%84%D8%A9-%D8%B5%D9%86%D8%B9-%D8%A7%D9%84%D8%B3%D9%85%D8%A8%D9%88%D8%B3%D8%A9-%D8%BA%D9%8A%D8%B1-%D9%82%D8%A7%D8%A8%D9%84%D8%A9-%D9%84%D9%84%D8%A5%D9%84%D8%AA%D8%B5%D8%A7%D9%82-1800-%D9%88%D8%A7%D8%B7%D8%8C-14-%D9%82%D8%B7%D8%B9%D8%A9-2\n",
      "***********************************************************\n",
      "Count: 546\n",
      "URl: https://shatristore.com/ar/kitchen-appliances/others-makers/%D8%A7%D9%84%D8%B3%D9%8A%D9%81-%D8%A7%D9%84%D9%8A%D9%83-%D8%A2%D9%84%D8%A9-%D8%B5%D9%86%D8%B9-%D8%A7%D9%84%D8%B3%D9%85%D8%A8%D9%88%D8%B3%D8%A9-%D8%BA%D9%8A%D8%B1-%D9%82%D8%A7%D8%A8%D9%84%D8%A9-%D9%84%D9%84%D8%A5%D9%84%D8%AA%D8%B5%D8%A7%D9%82-1800-%D9%88%D8%A7%D8%B7%D8%8C-14-%D9%82%D8%B7%D8%B9%D8%A9-1\n",
      "***********************************************************\n",
      "Count: 547\n",
      "URl: https://shatristore.com/ar/kitchen-appliances/others-makers/%D8%A7%D9%84%D8%B3%D9%8A%D9%81-%D8%A7%D9%84%D9%8A%D9%83-%D8%A2%D9%84%D8%A9-%D8%B5%D9%86%D8%B9-%D8%A7%D9%84%D9%85%D8%B5%D8%A7%D8%A8%D9%8A%D8%A8-%D8%AC%D8%B1%D8%A7%D9%86%D9%8A%D8%AA-1350-%D9%88%D8%A7%D8%B7\n",
      "***********************************************************\n",
      "Count: 548\n",
      "URl: https://shatristore.com/ar/kitchen-appliances/others-makers/%D8%A7%D9%84%D8%B3%D9%8A%D9%81-%D8%A7%D9%84%D9%8A%D9%83-%D8%A2%D9%84%D8%A9-%D8%B5%D9%86%D8%B9-%D8%A7%D9%84%D8%B3%D9%85%D8%A8%D9%88%D8%B3%D8%A9-%D8%BA%D9%8A%D8%B1-%D9%82%D8%A7%D8%A8%D9%84%D8%A9-%D9%84%D9%84%D8%A5%D9%84%D8%AA%D8%B5%D8%A7%D9%82-1800-%D9%88%D8%A7%D8%B7%D8%8C-14-%D9%82%D8%B7%D8%B9%D8%A9\n",
      "***********************************************************\n",
      "Count: 549\n",
      "URl: https://shatristore.com/ar/kitchen-appliances/others-makers/%D8%B1%D9%8A%D8%A8%D9%88%D9%86-%D8%A2%D9%84%D8%A9-%D8%B5%D9%86%D8%B9-%D8%A7%D9%84%D9%88%D8%A7%D9%81%D9%84-%D8%A7%D9%84%D9%83%D9%87%D8%B1%D8%A8%D8%A7%D8%A6%D9%8A%D8%A9-1400-%D9%88%D8%A7%D8%B7-%D8%8C-4%D9%82%D8%B7%D8%B9\n",
      "***********************************************************\n",
      "Count: 550\n",
      "URl: https://shatristore.com/ar/kitchen-appliances/others-makers/%D8%AA%D8%A7%D9%8A%D9%88%D8%A7%D9%86-%D8%AC%D9%87%D8%A7%D8%B2-%D8%A7%D8%BA%D9%84%D8%A7%D9%82-%D8%A7%D9%84%D8%A3%D9%83%D9%8A%D8%A7%D8%B3-%D8%A7%D9%84%D8%A8%D9%84%D8%A7%D8%B3%D8%AA%D9%8A%D9%83%D9%8A%D8%A9-40-%D8%B3%D9%85\n",
      "***********************************************************\n",
      "Count: 551\n",
      "URl: https://shatristore.com/ar/kitchen-appliances/others-makers/%D8%A7%D9%84%D8%B3%D9%8A%D9%81-%D8%A7%D9%84%D9%8A%D9%83-%D8%A2%D9%84%D8%A9-%D8%AD%D9%85%D8%B5-%D8%A7%D9%84%D9%82%D9%87%D9%88%D8%A9-%D8%A7%D9%84%D9%83%D9%87%D8%B1%D8%A8%D8%A7%D8%A6%D9%8A%D8%A9-%D8%AC%D8%B1%D8%A7%D9%86%D9%8A%D8%AA-940-%D9%88%D8%A7%D8%B7\n",
      "***********************************************************\n",
      "Count: 552\n",
      "URl: https://shatristore.com/ar/kitchen-appliances/others-makers/%D8%A7%D9%86%D8%B1%D8%AC%D9%8A-%D8%A7%D9%84%D8%A9-%D8%B5%D9%86%D8%B9-%D8%A7%D9%84%D8%AE%D8%A8%D8%B2-%D8%A7%D9%84%D9%83%D9%87%D8%B1%D8%A8%D8%A7%D8%A6%D9%8A%D8%A9-1800-%D9%88%D8%A7%D8%B7-1\n",
      "***********************************************************\n",
      "Count: 553\n",
      "URl: https://shatristore.com/ar/kitchen-appliances/others-makers/%D8%B1%D9%8A%D8%A8%D9%88%D9%86-%D9%88%D9%84%D8%A7%D8%B9%D8%A9-%D9%81%D8%AD%D9%85-%D9%83%D9%87%D8%B1%D8%A8%D8%A7%D8%A6%D9%8A%D8%A9-450-%D9%88%D8%A7%D8%B7\n",
      "***********************************************************\n",
      "Count: 554\n",
      "URl: https://shatristore.com/ar/kitchen-appliances/others-makers/%D9%87%D9%88%D9%85-%D9%85%D8%A7%D8%B3%D8%AA%D8%B1-%D8%A2%D9%84%D8%A9-%D8%B5%D9%86%D8%B9-%D8%A7%D9%84%D8%AE%D8%A8%D8%B2-%D8%A7%D9%84%D9%83%D9%87%D8%B1%D8%A8%D8%A7%D8%A6%D9%8A%D8%A9-1700-%D9%88%D8%A7%D8%B7\n",
      "***********************************************************\n",
      "Count: 555\n",
      "URl: https://shatristore.com/ar/kitchen-appliances/others-makers/%D8%A7%D9%85%D8%A8%D9%8A%D8%B1%D9%8A%D8%A7-%D8%A7%D9%84%D8%A9-%D9%81%D8%B1%D8%AF-%D8%A7%D9%84%D8%B9%D8%AC%D9%8A%D9%86-%D9%88-%D8%B5%D9%86%D8%B9-%D8%A7%D9%84%D8%A8%D8%A7%D8%B3%D8%AA%D8%A7-%D8%A7%D9%84%D9%8A%D8%AF%D9%88%D9%8A%D8%A9\n",
      "***********************************************************\n",
      "Count: 556\n",
      "URl: https://shatristore.com/ar/kitchen-appliances/others-makers/%D8%B1%D9%8A%D8%A8%D9%88%D9%86-%D8%A7%D9%84%D8%A9-%D8%B5%D9%86%D8%B9-%D8%A7%D9%84%D8%A8%D8%A7%D9%86-%D9%83%D9%8A%D9%83-1200-%D9%88%D8%A7%D8%B7-%D8%8C%D8%A8%D8%B4%D9%83%D9%84-%D9%81%D8%B1%D8%A7%D8%B4%D8%A9\n",
      "***********************************************************\n",
      "Count: 557\n",
      "URl: https://shatristore.com/ar/kitchen-appliances/others-makers/%D8%A7%D9%84%D8%B3%D9%8A%D9%81-%D8%A7%D9%84%D9%8A%D9%83-%D8%A2%D9%84%D8%A9-%D8%B5%D9%86%D8%B9-%D8%A7%D9%84%D9%85%D8%B5%D8%A7%D8%A8%D9%8A%D8%A8-%D8%BA%D9%8A%D8%B1-%D9%82%D8%A7%D8%A8%D9%84%D8%A9-%D9%84%D9%84%D8%A5%D9%84%D8%AA%D8%B5%D8%A7%D9%82-1300-%D9%88%D8%A7%D8%B7\n",
      "***********************************************************\n",
      "Count: 558\n",
      "URl: https://shatristore.com/ar/kitchen-appliances/others-makers/%D8%B1%D9%8A%D8%A8%D9%88%D9%86-%D8%A2%D9%84%D8%A9-%D8%B5%D9%86%D8%B9-%D8%A7%D9%84%D9%88%D8%A7%D9%81%D9%84-%D9%85%D8%A7%D9%86%D8%B9-%D9%84%D8%A5%D9%84%D8%AA%D8%B5%D8%A7%D9%82\n",
      "***********************************************************\n",
      "Count: 559\n",
      "URl: https://shatristore.com/ar/kitchen-appliances/others-makers/%D8%AC%D8%A7%D9%86%D9%88-%D8%A2%D9%84%D8%A9-%D8%B5%D9%86%D8%B9-%D8%A7%D9%84%D9%88%D8%A7%D9%81%D9%84-%D9%85%D8%A7%D9%86%D8%B9-%D9%84%D8%A5%D9%84%D8%AA%D8%B5%D8%A7%D9%82-700-%D9%88%D8%A7%D8%B7\n",
      "***********************************************************\n",
      "Count: 560\n",
      "URl: https://shatristore.com/ar/kitchen-appliances/others-makers/%D8%AC%D8%A7%D9%86%D9%88-%D8%A2%D9%84%D8%A9-%D8%B5%D9%86%D8%B9-%D8%A7%D9%84%D9%88%D8%A7%D9%81%D9%84-%D9%85%D8%A7%D9%86%D8%B9-%D9%84%D8%A5%D9%84%D8%AA%D8%B5%D8%A7%D9%82-900-%D9%88%D8%A7%D8%B7\n",
      "***********************************************************\n",
      "Count: 561\n",
      "URl: https://shatristore.com/ar/kitchen-appliances/others-makers/%D8%A7%D9%84%D8%B3%D9%8A%D9%81-%D8%A7%D9%84%D9%8A%D9%83-%D8%A2%D9%84%D8%A9-%D8%B5%D9%86%D8%B9-%D8%A7%D9%84%D9%85%D9%83%D8%B1%D9%88%D9%86%D8%A9\n",
      "***********************************************************\n",
      "Count: 562\n",
      "URl: https://shatristore.com/ar/kitchen-appliances/others-makers/%D8%B1%D9%8A%D8%A8%D9%88%D9%86-%D8%A2%D9%84%D8%A9-%D8%B5%D9%86%D8%B9-%D8%A7%D9%84%D8%AE%D8%A8%D8%B2-%D9%88%D8%A7%D9%84%D9%81%D8%B7%D8%A7%D8%A6%D8%B1-%D8%A7%D9%84%D9%83%D9%87%D8%B1%D8%A8%D8%A7%D8%A6%D9%8A%D8%A9-1800-%D9%88%D8%A7%D8%B7\n",
      "***********************************************************\n",
      "Count: 563\n",
      "URl: https://shatristore.com/ar/kitchen-appliances/others-makers/%D8%A7%D9%84%D8%B3%D9%8A%D9%81-%D8%A7%D9%84%D9%8A%D9%83-%D8%A7%D9%84%D8%A9-%D8%B5%D9%86%D8%B9-%D8%A7%D9%84%D8%AF%D9%88%D9%86%D8%A7%D8%AA-%D9%88%D8%A7%D9%84%D8%AC%D9%88%D8%B2%D9%8A%D8%A9-1400-%D9%88%D8%A7%D8%B7%D8%8C-%D9%83%D8%A8%D9%8A%D8%B1%D8%A9\n",
      "***********************************************************\n",
      "Count: 564\n",
      "URl: https://shatristore.com/ar/kitchen-appliances/others-makers/%D8%A7%D9%84%D8%B3%D9%8A%D9%81-%D8%A7%D9%84%D9%8A%D9%83-%D8%A7%D9%84%D8%A9-%D8%B5%D9%86%D8%B9-%D9%85%D9%8A%D9%86%D9%8A-%D8%AF%D9%88%D9%86%D8%A7%D8%AA-%D9%88%D8%AC%D9%88%D8%B2%D9%8A%D8%A9-750-%D9%88%D8%A7%D8%B7\n",
      "***********************************************************\n",
      "Count: 565\n",
      "URl: https://shatristore.com/ar/kitchen-appliances/kettles/owzjp00-000wh\n",
      "***********************************************************\n",
      "Count: 566\n",
      "URl: https://shatristore.com/ar/kitchen-appliances/kettles/%D8%AA%D9%8A%D9%81%D8%A7%D9%84-%D8%BA%D9%84%D8%A7%D9%8A%D8%A9-%D9%85%D8%A7%D8%A1-%D9%83%D9%87%D8%B1%D8%A8%D8%A7%D8%A6%D9%8A%D8%A9-1-7-%D9%84%D8%AA%D8%B1-9\n",
      "***********************************************************\n",
      "Count: 567\n",
      "URl: https://shatristore.com/ar/kitchen-appliances/kettles/%D8%A8%D8%B1%D8%A7%D9%88%D9%86-%D8%BA%D9%84%D8%A7%D9%8A%D8%A9-%D9%85%D9%8A%D8%A7%D8%A9-%D9%83%D9%87%D8%B1%D8%A8%D8%A7%D8%A6%D9%8A%D8%A9-1-%D9%84%D8%AA%D8%B1\n",
      "***********************************************************\n",
      "Count: 568\n",
      "URl: https://shatristore.com/ar/kitchen-appliances/kettles/%D9%83%D9%8A%D9%86%D9%88%D9%88%D8%AF-%D8%BA%D9%84%D8%A7%D9%8A%D8%A9-%D9%85%D9%8A%D8%A7%D8%A9-%D9%83%D9%87%D8%B1%D8%A8%D8%A7%D8%A6%D9%8A%D8%A9-1-7-%D9%84%D8%AA%D8%B1-4\n",
      "***********************************************************\n",
      "Count: 569\n",
      "URl: https://shatristore.com/ar/kitchen-appliances/kettles/%D8%AA%D9%8A%D9%81%D8%A7%D9%84-%D8%BA%D9%84%D8%A7%D9%8A%D8%A9-%D9%85%D8%A7%D8%A1-%D9%83%D9%87%D8%B1%D8%A8%D8%A7%D8%A6%D9%8A%D8%A9-1-5-%D9%84%D8%AA%D8%B1-2\n"
     ]
    },
    {
     "name": "stdout",
     "output_type": "stream",
     "text": [
      "***********************************************************\n",
      "Count: 570\n",
      "URl: https://shatristore.com/ar/kitchen-appliances/kettles/%D8%B1%D9%8A%D8%A8%D9%88%D9%86-%D8%BA%D9%84%D8%A7%D9%8A%D8%A9-%D9%85%D8%A7%D8%A1-%D9%83%D9%87%D8%B1%D8%A8%D8%A7%D8%A6%D9%8A%D8%A9-2-%D9%84%D8%AA%D8%B1-1\n",
      "***********************************************************\n",
      "Count: 571\n",
      "URl: https://shatristore.com/ar/kitchen-appliances/kettles/%D9%83%D9%8A%D9%86%D9%88%D9%88%D8%AF-%D8%BA%D9%84%D8%A7%D9%8A%D8%A9-%D9%85%D9%8A%D8%A7%D8%A9-%D9%83%D9%87%D8%B1%D8%A8%D8%A7%D8%A6%D9%8A%D8%A9-1-7-%D9%84%D8%AA%D8%B1-2\n",
      "***********************************************************\n",
      "Count: 572\n",
      "URl: https://shatristore.com/ar/kitchen-appliances/kettles/%D8%AC%D9%8A-%D9%81%D9%8A-%D8%B3%D9%8A-%D8%A8%D8%B1%D9%88-%D8%BA%D9%84%D8%A7%D9%8A%D9%87-%D9%85%D8%A7%D8%A1-%D8%A7%D9%84%D9%81%D9%86%D8%A7%D8%AF%D9%82-1-5-%D9%84%D8%AA%D8%B1-%D8%8C-%D8%A8%D9%83%D9%88%D8%A8%D9%8A%D9%86-%D8%A7%D8%B6%D8%A7%D9%81%D9%8A\n",
      "***********************************************************\n",
      "Count: 573\n",
      "URl: https://shatristore.com/ar/kitchen-appliances/kettles/%D8%B1%D9%8A%D8%A8%D9%88%D9%86-%D8%BA%D9%84%D8%A7%D9%8A%D8%A9-%D9%85%D8%A7%D8%A1-%D9%83%D9%87%D8%B1%D8%A8%D8%A7%D8%A6%D9%8A%D8%A9-1-2-%D9%84%D8%AA%D8%B1\n",
      "***********************************************************\n",
      "Count: 574\n",
      "URl: https://shatristore.com/ar/kitchen-appliances/kettles/%D8%B1%D9%8A%D8%A8%D9%88%D9%86-%D8%BA%D9%84%D8%A7%D9%8A%D8%A9-%D9%85%D8%A7%D8%A1-%D9%83%D9%87%D8%B1%D8%A8%D8%A7%D8%A6%D9%8A%D8%A9-1-7-%D9%84%D8%AA%D8%B1-6\n",
      "***********************************************************\n",
      "Count: 575\n",
      "URl: https://shatristore.com/ar/kitchen-appliances/kettles/%D8%B1%D9%8A%D8%A8%D9%88%D9%86-%D8%BA%D9%84%D8%A7%D9%8A%D8%A9-%D9%85%D8%A7%D8%A1-%D9%83%D9%87%D8%B1%D8%A8%D8%A7%D8%A6%D9%8A%D8%A9-20-%D9%84%D8%AA%D8%B1-1\n",
      "***********************************************************\n",
      "Count: 576\n",
      "URl: https://shatristore.com/ar/kitchen-appliances/kettles/%D8%B1%D9%8A%D8%A8%D9%88%D9%86-%D8%BA%D9%84%D8%A7%D9%8A%D8%A9-%D9%85%D8%A7%D8%A1-%D9%83%D9%87%D8%B1%D8%A8%D8%A7%D8%A6%D9%8A%D8%A9-15-%D9%84%D8%AA%D8%B1-1\n",
      "***********************************************************\n",
      "Count: 577\n",
      "URl: https://shatristore.com/ar/kitchen-appliances/kettles/%D8%A7%D9%88%D9%84%D8%B3%D9%86-%D9%85%D8%A7%D8%B1%D9%83-%D8%BA%D9%84%D8%A7%D9%8A%D8%A9-%D9%85%D9%8A%D8%A7%D8%A9-%D9%83%D9%87%D8%B1%D8%A8%D8%A7%D8%A6%D9%8A%D8%A9-1-8-%D9%84%D8%AA%D8%B1\n",
      "***********************************************************\n",
      "Count: 578\n",
      "URl: https://shatristore.com/ar/kitchen-appliances/kettles/%D9%83%D9%88%D9%84%D9%8A%D9%86-%D8%BA%D9%84%D8%A7%D9%8A%D8%A9-%D9%85%D8%A7%D8%A1-%D9%83%D9%87%D8%B1%D8%A8%D8%A7%D8%A6%D9%8A%D8%A9-1-8-%D9%84%D8%AA%D8%B1\n",
      "***********************************************************\n",
      "Count: 579\n",
      "URl: https://shatristore.com/ar/kitchen-appliances/kettles/%D9%83%D9%88%D9%84%D9%8A%D9%86-%D8%BA%D9%84%D8%A7%D9%8A%D8%A9-%D9%85%D8%A7%D8%A1-%D9%83%D9%87%D8%B1%D8%A8%D8%A7%D8%A6%D9%8A%D8%A9-2-%D9%84%D8%AA%D8%B1\n",
      "***********************************************************\n",
      "Count: 580\n",
      "URl: https://shatristore.com/ar/kitchen-appliances/kettles/%D8%AC%D9%8A-%D9%81%D9%8A-%D8%B3%D9%8A-%D8%A8%D8%B1%D9%88-%D8%BA%D9%84%D8%A7%D9%8A%D8%A9-%D9%85%D8%A7%D8%A1-%D9%83%D9%87%D8%B1%D8%A8%D8%A7%D8%A6%D9%8A%D8%A9-%D8%B3%D8%AA%D9%8A%D9%84-1-8-%D9%84%D8%AA%D8%B1\n",
      "***********************************************************\n",
      "Count: 581\n",
      "URl: https://shatristore.com/ar/kitchen-appliances/kettles/%D8%B1%D9%8A%D8%A8%D9%88%D9%86-%D8%BA%D9%84%D8%A7%D9%8A%D8%A9-%D9%85%D8%A7%D8%A1-%D9%83%D9%87%D8%B1%D8%A8%D8%A7%D8%A6%D9%8A%D8%A9-4-%D9%84%D8%AA%D8%B1\n",
      "***********************************************************\n",
      "Count: 582\n",
      "URl: https://shatristore.com/ar/kitchen-appliances/kettles/%D8%B1%D9%8A%D8%A8%D9%88%D9%86-%D8%BA%D9%84%D8%A7%D9%8A%D8%A9-%D9%85%D8%A7%D8%A1-%D9%83%D9%87%D8%B1%D8%A8%D8%A7%D8%A6%D9%8A%D8%A930-%D9%84%D8%AA%D8%B1\n",
      "***********************************************************\n",
      "Count: 583\n",
      "URl: https://shatristore.com/ar/kitchen-appliances/kettles/%D8%B1%D9%8A%D8%A8%D9%88%D9%86-%D8%BA%D9%84%D8%A7%D9%8A%D8%A9-%D9%85%D8%A7%D8%A1-%D9%83%D9%87%D8%B1%D8%A8%D8%A7%D8%A6%D9%8A%D8%A9-20-%D9%84%D8%AA%D8%B1\n",
      "***********************************************************\n",
      "Count: 584\n",
      "URl: https://shatristore.com/ar/kitchen-appliances/kettles/%D8%B1%D9%8A%D8%A8%D9%88%D9%86-%D8%BA%D9%84%D8%A7%D9%8A%D8%A9-%D9%85%D8%A7%D8%A1-%D9%83%D9%87%D8%B1%D8%A8%D8%A7%D8%A6%D9%8A%D8%A9-15-%D9%84%D8%AA%D8%B1\n",
      "***********************************************************\n",
      "Count: 585\n",
      "URl: https://shatristore.com/ar/kitchen-appliances/kettles/%D8%B1%D9%8A%D8%A8%D9%88%D9%86-%D8%BA%D9%84%D8%A7%D9%8A%D8%A9-%D9%85%D8%A7%D8%A1-%D9%83%D9%87%D8%B1%D8%A8%D8%A7%D8%A6%D9%8A%D8%A9-10-%D9%84%D8%AA%D8%B1\n",
      "***********************************************************\n",
      "Count: 586\n",
      "URl: https://shatristore.com/ar/kitchen-appliances/kettles/%D8%B1%D9%8A%D8%A8%D9%88%D9%86-%D8%BA%D9%84%D8%A7%D9%8A%D8%A9-%D9%85%D8%A7%D8%A1-%D9%83%D9%87%D8%B1%D8%A8%D8%A7%D8%A6%D9%8A%D8%A9-1-7-%D9%84%D8%AA%D8%B1\n",
      "***********************************************************\n",
      "Count: 587\n",
      "URl: https://shatristore.com/ar/kitchen-appliances/kettles/%D8%A8%D8%B1%D8%A7%D9%88%D9%86-%D8%BA%D9%84%D8%A7%D9%8A%D8%A9-%D9%85%D9%8A%D8%A7%D8%A9-%D9%83%D9%87%D8%B1%D8%A8%D8%A7%D8%A6%D9%8A%D8%A9-1-7-%D9%84%D8%AA%D8%B1-2\n",
      "***********************************************************\n",
      "Count: 588\n",
      "URl: https://shatristore.com/ar/kitchen-appliances/kettles/%D8%A7%D9%84%D8%B3%D9%8A%D9%81-%D8%A7%D9%84%D9%8A%D9%83-%D8%BA%D9%84%D8%A7%D9%8A%D8%A9-%D9%85%D9%8A%D8%A7%D8%A9-%D9%83%D9%87%D8%B1%D8%A8%D8%A7%D8%A6%D9%8A%D8%A9-1-8-%D9%84%D8%AA%D8%B1\n",
      "***********************************************************\n",
      "Count: 589\n",
      "URl: https://shatristore.com/ar/kitchen-appliances/kettles/%D9%83%D9%8A%D9%86%D9%88%D9%88%D8%AF-%D8%BA%D9%84%D8%A7%D9%8A%D8%A9-%D9%85%D9%8A%D8%A7%D8%A9-%D9%83%D9%87%D8%B1%D8%A8%D8%A7%D8%A6%D9%8A%D8%A9-0-5-%D9%84%D8%AA%D8%B1\n",
      "***********************************************************\n",
      "Count: 590\n",
      "URl: https://shatristore.com/ar/kitchen-appliances/kettles/%D9%83%D9%8A%D9%86%D9%88%D9%88%D8%AF-%D8%BA%D9%84%D8%A7%D9%8A%D8%A9-%D9%85%D9%8A%D8%A7%D8%A9-%D9%83%D9%87%D8%B1%D8%A8%D8%A7%D8%A6%D9%8A%D8%A9-1-7-%D9%84%D8%AA%D8%B1-1\n",
      "***********************************************************\n",
      "Count: 591\n",
      "URl: https://shatristore.com/ar/kitchen-appliances/kettles/%D9%81%D9%8A%D9%84%D9%8A%D8%A8%D8%B3-%D8%BA%D9%84%D8%A7%D9%8A%D8%A9-%D9%85%D8%A7%D8%A1-%D9%83%D9%87%D8%B1%D8%A8%D8%A7%D8%A6%D9%8A%D8%A9-1-5-%D9%84%D8%AA%D8%B1-2\n",
      "***********************************************************\n",
      "Count: 592\n",
      "URl: https://shatristore.com/ar/kitchen-appliances/kettles/%D9%81%D9%8A%D9%84%D9%8A%D8%A8%D8%B3-%D8%BA%D9%84%D8%A7%D9%8A%D8%A9-%D9%85%D8%A7%D8%A1-%D9%83%D9%87%D8%B1%D8%A8%D8%A7%D8%A6%D9%8A%D8%A9-1-5-%D9%84%D8%AA%D8%B1-1\n",
      "***********************************************************\n",
      "Count: 593\n",
      "URl: https://shatristore.com/ar/kitchen-appliances/kettles/%D9%83%D9%8A%D9%86%D9%88%D9%88%D8%AF-%D8%BA%D9%84%D8%A7%D9%8A%D8%A9-%D9%85%D9%8A%D8%A7%D8%A9-%D9%83%D9%87%D8%B1%D8%A8%D8%A7%D8%A6%D9%8A%D8%A9-1-6-%D9%84%D8%AA%D8%B1\n",
      "***********************************************************\n",
      "Count: 594\n",
      "URl: https://shatristore.com/ar/kitchen-appliances/kettles/%D8%AA%D9%8A%D9%81%D8%A7%D9%84-%D8%BA%D9%84%D8%A7%D9%8A%D8%A9-%D9%85%D8%A7%D8%A1-%D9%83%D9%87%D8%B1%D8%A8%D8%A7%D8%A6%D9%8A%D8%A9-1-7-%D9%84%D8%AA%D8%B1-4\n",
      "***********************************************************\n",
      "Count: 595\n",
      "URl: https://shatristore.com/ar/kitchen-appliances/kettles/%D8%A8%D8%B1%D8%A7%D9%88%D9%86-%D8%BA%D9%84%D8%A7%D9%8A%D8%A9-%D9%85%D9%8A%D8%A7%D8%A9-%D9%83%D9%87%D8%B1%D8%A8%D8%A7%D8%A6%D9%8A%D8%A9-1-7-%D9%84%D8%AA%D8%B1-1\n",
      "***********************************************************\n",
      "Count: 596\n",
      "URl: https://shatristore.com/ar/kitchen-appliances/kettles/%D8%A8%D8%B1%D8%A7%D9%88%D9%86-%D8%BA%D9%84%D8%A7%D9%8A%D8%A9-%D9%85%D9%8A%D8%A7%D8%A9-%D9%83%D9%87%D8%B1%D8%A8%D8%A7%D8%A6%D9%8A%D8%A9-1-7-%D9%84%D8%AA%D8%B1\n",
      "***********************************************************\n",
      "Count: 597\n",
      "URl: https://shatristore.com/ar/kitchen-appliances/kettles/%D9%83%D9%8A%D9%86%D9%88%D9%88%D8%AF-%D8%BA%D9%84%D8%A7%D9%8A%D8%A9-%D9%85%D9%8A%D8%A7%D8%A9-%D9%83%D9%87%D8%B1%D8%A8%D8%A7%D8%A6%D9%8A%D8%A9-1-7-%D9%84%D8%AA%D8%B1\n"
     ]
    },
    {
     "name": "stdout",
     "output_type": "stream",
     "text": [
      "***********************************************************\n",
      "Count: 598\n",
      "URl: https://shatristore.com/ar/kitchen-appliances/grills-sandwiches-makers/grills-sandwiches-nst522t1\n",
      "***********************************************************\n",
      "Count: 599\n",
      "URl: https://shatristore.com/ar/kitchen-appliances/grills-sandwiches-makers/%D9%83%D9%88%D9%84%D9%8A%D9%86-%D8%B4%D9%88%D8%A7%D9%8A%D8%A9-%D9%83%D9%87%D8%B1%D8%A8%D8%A7%D8%A6%D9%8A%D8%A9-%D8%BA%D9%8A%D8%B1-%D9%82%D8%A7%D8%A8%D9%84%D8%A9-%D9%84%D9%84%D8%A7%D9%84%D8%AA%D8%B5%D8%A7%D9%82-%D8%8C-1600-%D9%88%D8%A7%D8%B7\n",
      "***********************************************************\n",
      "Count: 600\n",
      "URl: https://shatristore.com/ar/kitchen-appliances/grills-sandwiches-makers/%D9%83%D9%88%D9%84%D9%8A%D9%86-%D8%B4%D9%88%D8%A7%D9%8A%D8%A9-%D9%83%D9%87%D8%B1%D8%A8%D8%A7%D8%A6%D9%8A%D8%A9-%D8%BA%D9%8A%D8%B1-%D9%82%D8%A7%D8%A8%D9%84%D8%A9-%D9%84%D9%84%D8%A7%D9%84%D8%AA%D8%B5%D8%A7%D9%82-%D8%8C-750-%D9%88%D8%A7%D8%B7\n",
      "***********************************************************\n",
      "Count: 601\n",
      "URl: https://shatristore.com/ar/kitchen-appliances/grills-sandwiches-makers/%D9%83%D9%8A%D9%86%D9%88%D9%88%D8%AF-%D8%B5%D8%A7%D9%86%D8%B9-%D8%A7%D9%84%D8%B3%D9%86%D8%AF%D9%88%D8%AA%D8%B4%D8%A7%D8%AA-2%D9%81%D9%8A1-%D8%8C-550-%D9%88%D8%A7%D8%B7\n",
      "***********************************************************\n",
      "Count: 602\n",
      "URl: https://shatristore.com/ar/kitchen-appliances/grills-sandwiches-makers/%D9%83%D9%8A%D9%86%D9%88%D8%AF-%D8%B5%D8%A7%D9%86%D8%B9-%D8%A7%D9%84%D8%B3%D9%86%D8%AF%D9%88%D8%AA%D8%B4%D8%A7%D8%AA-3%D9%81%D9%8A1-%D8%8C-700-%D9%88%D8%A7%D8%B7\n",
      "***********************************************************\n",
      "Count: 603\n",
      "URl: https://shatristore.com/ar/kitchen-appliances/grills-sandwiches-makers/%D9%83%D9%8A%D9%86%D9%88%D9%88%D8%AF-%D8%B5%D8%A7%D9%86%D8%B9-%D8%A7%D9%84%D8%B3%D9%86%D8%AF%D9%88%D8%AA%D8%B4%D8%A7%D8%AA-2%D9%81%D9%8A1-%D8%8C-1300-%D9%88%D8%A7%D8%B7\n",
      "***********************************************************\n",
      "Count: 604\n",
      "URl: https://shatristore.com/ar/kitchen-appliances/grills-sandwiches-makers/%D9%83%D9%8A%D9%86%D9%88%D9%88%D8%AF-%D8%B5%D8%A7%D9%86%D8%B9-%D8%A7%D9%84%D8%B3%D9%86%D8%AF%D9%88%D8%AA%D8%B4%D8%A7%D8%AA-3%D9%81%D9%8A1-%D8%8C-750-%D9%88%D8%A7%D8%B7\n",
      "***********************************************************\n",
      "Count: 605\n",
      "URl: https://shatristore.com/ar/kitchen-appliances/grills-sandwiches-makers/%D9%83%D9%8A%D9%86%D9%88%D9%88%D8%AF-%D8%B5%D8%A7%D9%86%D8%B9-%D8%A7%D9%84%D8%B3%D9%86%D8%AF%D9%88%D8%AA%D8%B4%D8%A7%D8%AA-2%D9%81%D9%8A1-%D8%8C-750-%D9%88%D8%A7%D8%B7\n",
      "***********************************************************\n",
      "Count: 606\n",
      "URl: https://shatristore.com/ar/kitchen-appliances/grills-sandwiches-makers/%D8%B1%D9%8A%D8%A8%D9%88%D9%86-%D9%85%D8%AD%D9%85%D8%B5%D8%A9-%D8%AA%D9%88%D8%B3%D8%AA-%D9%83%D9%87%D8%B1%D8%A8%D8%A7%D8%A6%D9%8A%D8%A9%D8%8C-4-%D8%B4%D8%B1%D8%A7%D8%A6%D8%AD-%D8%8C-1400-%D9%88%D8%A7%D8%B7\n",
      "***********************************************************\n",
      "Count: 607\n",
      "URl: https://shatristore.com/ar/kitchen-appliances/grills-sandwiches-makers/%D9%83%D9%88%D9%84%D9%8A%D9%86-%D8%B4%D9%88%D8%A7%D9%8A%D8%A9-%D9%83%D9%87%D8%B1%D8%A8%D8%A7%D8%A6%D9%8A%D8%A9-%D8%BA%D9%8A%D8%B1-%D9%82%D8%A7%D8%A8%D9%84%D8%A9-%D9%84%D9%84%D8%A5%D9%84%D8%AA%D8%B5%D8%A7%D9%82-%D8%8C-2000-%D9%88%D8%A7%D8%B7\n",
      "***********************************************************\n",
      "Count: 608\n",
      "URl: https://shatristore.com/ar/kitchen-appliances/grills-sandwiches-makers/%D9%83%D9%8A%D9%86%D9%88%D9%88%D8%AF-%D8%B4%D9%88%D8%A7%D9%8A%D8%A9-%D9%83%D9%87%D8%B1%D8%A8%D8%A7%D8%A6%D9%8A%D8%A9-%D8%BA%D9%8A%D8%B1-%D9%82%D8%A7%D8%A8%D9%84%D8%A9-%D9%84%D9%84%D8%A5%D9%84%D8%AA%D8%B5%D8%A7%D9%82-%D8%8C-2000-%D9%88%D8%A7%D8%B7\n",
      "***********************************************************\n",
      "Count: 609\n",
      "URl: https://shatristore.com/ar/kitchen-appliances/meat-mincer/%D9%83%D9%88%D9%84%D9%8A%D9%86-%D9%85%D9%81%D8%B1%D9%85%D8%A9-%D8%A7%D9%84%D9%84%D8%AD%D9%85-1400-%D9%88%D8%A7%D8%B7\n",
      "***********************************************************\n",
      "Count: 610\n",
      "URl: https://shatristore.com/ar/kitchen-appliances/meat-mincer/%D9%85%D9%88%D9%84%D9%8A%D9%86%D9%83%D8%B3-%D9%85%D9%81%D8%B1%D9%85%D8%A9-%D8%A7%D9%84%D9%84%D8%AD%D9%85-2000-%D9%88%D8%A7%D8%B7-3\n",
      "***********************************************************\n",
      "Count: 611\n",
      "URl: https://shatristore.com/ar/kitchen-appliances/meat-mincer/%D8%A8%D8%A7%D9%86%D8%A7%D8%B3%D9%88%D9%86%D9%8A%D9%83-%D9%85%D9%81%D8%B1%D9%85%D8%A9-%D8%A7%D9%84%D9%84%D8%AD%D9%85-3500-%D9%88%D8%A7%D8%B7\n",
      "***********************************************************\n",
      "Count: 612\n",
      "URl: https://shatristore.com/ar/kitchen-appliances/meat-mincer/%D8%A8%D8%A7%D9%86%D8%A7%D8%B3%D9%88%D9%86%D9%8A%D9%83-%D9%85%D9%81%D8%B1%D9%85%D8%A9-%D8%A7%D9%84%D9%84%D8%AD%D9%85-1500-%D9%88%D8%A7%D8%B7-1\n",
      "***********************************************************\n",
      "Count: 613\n",
      "URl: https://shatristore.com/ar/kitchen-appliances/meat-mincer/%D9%83%D9%8A%D9%86%D9%88%D9%88%D8%AF-%D9%85%D9%81%D8%B1%D9%85%D8%A9-%D8%A7%D9%84%D9%84%D8%AD%D9%85-1600-%D9%88%D8%A7%D8%B7\n",
      "***********************************************************\n",
      "Count: 614\n",
      "URl: https://shatristore.com/ar/kitchen-appliances/egg-mixers/%D8%AC%D8%A7%D9%86%D9%88-%D9%85%D8%B6%D8%B1%D8%A8-%D8%A7%D9%84%D8%A8%D9%8A%D8%B6-%D8%A7%D9%84%D9%83%D9%87%D8%B1%D8%A8%D8%A7%D8%A6%D9%8A-300-%D9%88%D8%A7%D8%B7-1\n",
      "***********************************************************\n",
      "Count: 615\n",
      "URl: https://shatristore.com/ar/kitchen-appliances/egg-mixers/%D8%AC%D8%A7%D9%86%D9%88-%D9%85%D8%B6%D8%B1%D8%A8-%D8%A7%D9%84%D8%A8%D9%8A%D8%B6-%D8%A7%D9%84%D9%83%D9%87%D8%B1%D8%A8%D8%A7%D8%A6%D9%8A-300-%D9%88%D8%A7%D8%B7\n",
      "***********************************************************\n",
      "Count: 616\n",
      "URl: https://shatristore.com/ar/kitchen-appliances/egg-mixers/%D8%B1%D9%8A%D8%A8%D9%88%D9%86-%D9%85%D8%B6%D8%B1%D8%A8-%D8%A7%D9%84%D8%A8%D9%8A%D8%B6-%D8%A7%D9%84%D9%83%D9%87%D8%B1%D8%A8%D8%A7%D8%A6%D9%8A-200-%D9%88%D8%A7%D8%B7\n",
      "***********************************************************\n",
      "Count: 617\n",
      "URl: https://shatristore.com/ar/kitchen-appliances/egg-mixers/%D9%83%D9%88%D9%84%D9%8A%D9%86-%D9%85%D8%B6%D8%B1%D8%A8-%D8%A7%D9%84%D8%A8%D9%8A%D8%B6-%D8%A7%D9%84%D9%83%D9%87%D8%B1%D8%A8%D8%A7%D8%A6%D9%8A-150-%D9%88%D8%A7%D8%B7-%D8%8C-%D9%85%D8%B9-%D9%88%D8%B9%D8%A7%D8%A1\n",
      "***********************************************************\n",
      "Count: 618\n",
      "URl: https://shatristore.com/ar/kitchen-appliances/egg-mixers/%D9%85%D9%88%D9%84%D9%8A%D9%86%D9%83%D8%B3-%D9%85%D8%B6%D8%B1%D8%A8-%D8%A7%D9%84%D8%A8%D9%8A%D8%B6-%D8%A7%D9%84%D9%83%D9%87%D8%B1%D8%A8%D8%A7%D8%A6%D9%8A-200-%D9%88%D8%A7%D8%B7-1\n",
      "***********************************************************\n",
      "Count: 619\n",
      "URl: https://shatristore.com/ar/kitchen-appliances/egg-mixers/%D9%83%D9%8A%D9%86%D9%88%D9%88%D8%AF-%D9%85%D8%B6%D8%B1%D8%A8-%D8%A7%D9%84%D8%A8%D9%8A%D8%B6-%D8%A7%D9%84%D9%83%D9%87%D8%B1%D8%A8%D8%A7%D8%A6%D9%8A-250-%D9%88%D8%A7%D8%B7\n",
      "***********************************************************\n",
      "Count: 620\n",
      "URl: https://shatristore.com/ar/kitchen-appliances/egg-mixers/%D9%86%D9%8A%D9%83%D8%A7%D9%8A-%D9%85%D8%B6%D8%B1%D8%A8-%D8%A7%D9%84%D8%A8%D9%8A%D8%B6-%D8%A7%D9%84%D9%83%D9%87%D8%B1%D8%A8%D8%A7%D8%A6%D9%8A-250-%D9%88%D8%A7%D8%B7\n",
      "***********************************************************\n",
      "Count: 621\n",
      "URl: https://shatristore.com/ar/heating-and-cooling/purifiers/%D8%AC%D9%8A-%D9%81%D9%8A-%D8%B3%D9%8A-%D8%A8%D8%B1%D9%88-%D8%B3%D8%AA%D8%A7%D8%B1%D9%87-%D9%87%D9%88%D8%A7%D8%A6%D9%8A%D9%87-150-%D8%B3%D9%85\n",
      "***********************************************************\n",
      "Count: 622\n",
      "URl: https://shatristore.com/ar/heating-and-cooling/purifiers/%D8%AC%D9%8A-%D9%81%D9%8A-%D8%B3%D9%8A-%D8%A8%D8%B1%D9%88-%D8%B3%D8%AA%D8%A7%D8%B1%D9%87-%D9%87%D9%88%D8%A7%D8%A6%D9%8A%D9%87-%D8%A7%D8%A8%D9%8A%D8%B6-120-%D8%B3%D9%85\n",
      "***********************************************************\n",
      "Count: 623\n",
      "URl: https://shatristore.com/ar/heating-and-cooling/purifiers/%D8%AC%D9%8A-%D9%81%D9%8A-%D8%B3%D9%8A-%D8%A8%D8%B1%D9%88-%D8%B3%D8%AA%D8%A7%D8%B1%D9%87-%D9%87%D9%88%D8%A7%D8%A6%D9%8A%D9%87-90-%D8%B3%D9%85\n",
      "***********************************************************\n",
      "Count: 624\n",
      "URl: https://shatristore.com/ar/heating-and-cooling/%D9%83%D9%88%D9%84%D9%8A%D9%86-%D9%85%D8%B1%D9%88%D8%AD%D9%87-%D8%B9%D9%85%D9%88%D8%AF%D9%8A%D8%A9-%D8%B1%D8%B0%D8%A7%D8%B0-16-%D8%A7%D9%86%D8%B4-%D8%A7%D8%AD%D9%85%D8%B1\n"
     ]
    },
    {
     "name": "stdout",
     "output_type": "stream",
     "text": [
      "***********************************************************\n",
      "Count: 625\n",
      "URl: https://shatristore.com/ar/heating-and-cooling/%D9%83%D9%88%D9%84%D9%8A%D9%86-%D9%85%D8%B1%D9%88%D8%AD%D9%87-%D8%B9%D9%85%D9%88%D8%AF%D9%8A%D8%A9-%D8%B1%D8%B0%D8%A7%D8%B0-16-%D8%A7%D9%86%D8%B4-%D8%A7%D8%B3%D9%88%D8%AF\n",
      "***********************************************************\n",
      "Count: 626\n",
      "URl: https://shatristore.com/ar/heating-and-cooling/%D9%83%D9%88%D9%84%D9%8A%D9%86-%D9%85%D8%B1%D9%88%D8%AD%D9%87-%D8%B9%D9%85%D9%88%D8%AF%D9%8A%D8%A9-%D8%B1%D8%B0%D8%A7%D8%B0-16-%D8%A7%D9%86%D8%B4-%D8%B0%D9%87%D8%A8%D9%8A\n",
      "***********************************************************\n",
      "Count: 627\n",
      "URl: https://shatristore.com/ar/heating-and-cooling/%D8%AF%D9%88%D8%AA%D8%B3-%D9%85%D8%B1%D9%88%D8%AD%D9%87-%D8%AC%D8%AF%D8%A7%D8%B1-16-%D8%A7%D9%86%D8%B4\n",
      "***********************************************************\n",
      "Count: 628\n",
      "URl: https://shatristore.com/ar/heating-and-cooling/%D8%A8%D8%A7%D9%86%D8%A7%D8%B3%D9%88%D9%86%D9%8A%D9%83-%D9%85%D8%B1%D9%88%D8%AD%D9%87-%D8%B3%D9%82%D9%81-1\n",
      "***********************************************************\n",
      "Count: 629\n",
      "URl: https://shatristore.com/ar/heating-and-cooling/%D8%AA%D9%8A-%D8%A7%D9%85-%D8%AA%D9%8A-%D9%85%D8%B1%D9%88%D8%AD%D9%87-%D8%AC%D8%AF%D8%A7%D8%B1\n",
      "***********************************************************\n",
      "Count: 630\n",
      "URl: https://shatristore.com/ar/heating-and-cooling/%D9%83%D9%8A-%D8%AF%D9%8A-%D9%83%D9%8A-%D9%85%D8%B1%D9%88%D8%AD%D9%87-%D8%B3%D9%82%D9%81\n",
      "***********************************************************\n",
      "Count: 631\n",
      "URl: https://shatristore.com/ar/heating-and-cooling/%D9%83%D9%87%D9%86%D8%AF-%D9%85%D8%B1%D9%88%D8%AD%D9%87-%D8%B9%D9%85%D9%88%D8%AF\n",
      "***********************************************************\n",
      "Count: 632\n",
      "URl: https://shatristore.com/ar/heating-and-cooling/%D9%83%D9%87%D9%86%D8%AF-%D9%85%D8%B1%D9%88%D8%AD%D9%87-%D8%AC%D9%84%D8%A7%D8%B3%D9%8A\n",
      "***********************************************************\n",
      "Count: 633\n",
      "URl: https://shatristore.com/ar/heating-and-cooling/%D9%83%D9%87%D9%86%D8%AF-%D9%85%D8%B1%D9%88%D8%AD%D9%87-%D8%AC%D8%AF%D8%A7%D8%B1\n",
      "***********************************************************\n",
      "Count: 634\n",
      "URl: https://shatristore.com/ar/heating-and-cooling/heaters/gvcht-203b\n",
      "***********************************************************\n",
      "Count: 635\n",
      "URl: https://shatristore.com/ar/heating-and-cooling/heaters/%D9%83%D9%88%D9%84%D9%8A%D9%86-%D8%AF%D9%81%D8%A7%D9%8A%D8%A9-%D8%AF%D9%8A%D9%83%D9%88%D8%B1-%D8%B9%D9%84%D9%89-%D8%B4%D9%83%D9%84-%D8%B4%D8%A7%D8%B4%D8%A9-%D8%A7%D8%B3%D9%88%D8%AF\n",
      "***********************************************************\n",
      "Count: 636\n",
      "URl: https://shatristore.com/ar/heating-and-cooling/heaters/%D8%AC%D9%8A-%D9%81%D9%8A-%D8%B3%D9%8A-%D8%A8%D8%B1%D9%88-%D8%AF%D9%81%D8%A7%D9%8A%D8%A9-%D9%83%D9%87%D8%B1%D8%A8%D8%A7%D8%A6%D9%8A%D8%A9-2000-%D9%88%D8%A7%D8%B7\n",
      "***********************************************************\n",
      "Count: 637\n",
      "URl: https://shatristore.com/ar/heating-and-cooling/heaters/%D9%87%D9%88%D9%85-%D9%85%D8%A7%D8%B3%D8%AA%D8%B1-%D8%AF%D9%81%D8%A7%D9%8A%D8%A9-%D9%83%D9%87%D8%B1%D8%A8%D8%A7%D8%A6%D9%8A%D8%A9-1800-%D9%88%D8%A7%D8%B7-%D8%AE%D8%B4%D8%A8%D9%8A\n",
      "***********************************************************\n",
      "Count: 638\n",
      "URl: https://shatristore.com/ar/heating-and-cooling/heaters/%D9%87%D9%88%D9%85-%D9%85%D8%A7%D8%B3%D8%AA%D8%B1-%D8%AF%D9%81%D8%A7%D9%8A%D8%A9-%D9%83%D9%87%D8%B1%D8%A8%D8%A7%D8%A6%D9%8A%D8%A9-2400-%D9%88%D8%A7%D8%B7-%D8%AE%D8%B4%D8%A8%D9%8A\n",
      "***********************************************************\n",
      "Count: 639\n",
      "URl: https://shatristore.com/ar/heating-and-cooling/heaters/%D9%83%D9%88%D9%85%D8%AA%D9%8A%D9%84-%D8%AF%D9%81%D8%A7%D9%8A%D8%A9-%D9%83%D9%87%D8%B1%D8%A8%D8%A7%D8%A6%D9%8A%D8%A9-%D8%B9%D9%85%D9%88%D8%AF%D9%8A%D8%A9-mh-1800\n",
      "***********************************************************\n",
      "Count: 640\n",
      "URl: https://shatristore.com/ar/heating-and-cooling/heaters/%D9%83%D9%88%D9%84%D9%8A%D9%86-%D8%AF%D9%81%D8%A7%D9%8A%D9%87-%D9%83%D9%87%D8%B1%D8%A8%D8%A7%D8%A6%D9%8A%D8%A9-2000-%D9%88%D8%A7%D8%B7-1\n",
      "***********************************************************\n",
      "Count: 641\n",
      "URl: https://shatristore.com/ar/heating-and-cooling/heaters/%D8%AC%D8%A7%D9%86%D9%88-%D8%AF%D9%81%D8%A7%D9%8A%D9%87-%D9%83%D9%87%D8%B1%D8%A8%D8%A7%D8%A6%D9%8A%D8%A9-%D8%A7%D9%84%D9%81%D8%B5%D9%88%D9%84-%D8%A7%D9%84%D8%A7%D8%B1%D8%A8%D8%B9%D9%87-2000-%D9%88%D8%A7%D8%B7-8\n",
      "***********************************************************\n",
      "Count: 642\n",
      "URl: https://shatristore.com/ar/heating-and-cooling/heaters/%D8%A7%D9%88%D9%83%D8%A7%D8%B3%D9%88%D9%86%D9%8A%D9%83-%D8%AF%D9%81%D8%A7%D9%8A%D9%87-%D9%83%D9%87%D8%B1%D8%A8%D8%A7%D8%A6%D9%8A%D8%A9-4-%D8%B4%D9%85%D8%B9%D8%A7%D8%AA-2000-%D9%88%D8%A7%D8%B7\n",
      "***********************************************************\n",
      "Count: 643\n",
      "URl: https://shatristore.com/ar/heating-and-cooling/heaters/%D9%87%D9%8A%D9%84%D9%8A%D8%B1-%D8%AF%D9%81%D8%A7%D9%8A%D9%87-%D8%B2%D9%8A%D8%AA%D9%8A-9-%D8%B1%D9%8A%D8%B4%D9%87-2000-%D9%88%D8%A7%D8%B7\n",
      "***********************************************************\n",
      "Count: 644\n",
      "URl: https://shatristore.com/ar/heating-and-cooling/air-conditioners/24-gvwa24c\n",
      "***********************************************************\n",
      "Count: 645\n",
      "URl: https://shatristore.com/ar/heating-and-cooling/air-conditioners/18-gvwa19c\n",
      "***********************************************************\n",
      "Count: 646\n",
      "URl: https://shatristore.com/ar/heating-and-cooling/air-conditioners/24-gvsp24hc\n",
      "***********************************************************\n",
      "Count: 647\n",
      "URl: https://shatristore.com/ar/heating-and-cooling/air-conditioners/24-gvsp24c\n",
      "***********************************************************\n",
      "Count: 648\n",
      "URl: https://shatristore.com/ar/heating-and-cooling/air-conditioners/18-gvsp19hc\n",
      "***********************************************************\n",
      "Count: 649\n",
      "URl: https://shatristore.com/ar/heating-and-cooling/air-conditioners/18-gvsp19c\n",
      "***********************************************************\n",
      "Count: 650\n",
      "URl: https://shatristore.com/ar/heating-and-cooling/air-conditioners/bwac-g18c6-18\n",
      "***********************************************************\n",
      "Count: 651\n",
      "URl: https://shatristore.com/ar/heating-and-cooling/air-conditioners/%D8%AF%D8%A7%D9%86%D8%B3%D8%A7%D8%AA-%D9%85%D9%83%D9%8A%D9%81-%D8%B4%D8%A8%D8%A7%D9%83-%D8%A8%D8%A7%D8%B1%D8%AF-18-%D8%A7%D9%84%D9%81-%D9%88%D8%AD%D8%AF%D9%87\n",
      "***********************************************************\n",
      "Count: 652\n",
      "URl: https://shatristore.com/ar/heating-and-cooling/air-conditioners/%D8%AC%D8%B1%D9%8A-%D9%85%D9%83%D9%8A%D9%81-%D8%B3%D8%A8%D9%84%D9%8A%D8%AA-%D8%AD%D8%A7%D8%B1-%D8%A8%D8%A7%D8%B1%D8%AF-%D8%A8%D9%88%D9%84%D8%B1-30-%D8%A7%D9%84%D9%81-%D9%88%D8%AD%D8%AF%D9%87\n",
      "***********************************************************\n",
      "Count: 653\n",
      "URl: https://shatristore.com/ar/heating-and-cooling/air-conditioners/%D8%AC%D8%B1%D9%8A-%D9%85%D9%83%D9%8A%D9%81-%D8%B3%D8%A8%D9%84%D9%8A%D8%AA-%D8%AD%D8%A7%D8%B1-%D8%A8%D8%A7%D8%B1%D8%AF-%D8%A8%D9%88%D9%84%D8%B1-24-%D8%A7%D9%84%D9%81-%D9%88%D8%AD%D8%AF%D9%87\n",
      "***********************************************************\n",
      "Count: 654\n",
      "URl: https://shatristore.com/ar/heating-and-cooling/air-conditioners/%D8%AC%D8%B1%D9%8A-%D9%85%D9%83%D9%8A%D9%81-%D8%B3%D8%A8%D9%84%D9%8A%D8%AA-%D8%AD%D8%A7%D8%B1-%D8%A8%D8%A7%D8%B1%D8%AF-%D8%A8%D9%88%D9%84%D8%B1-18-%D8%A7%D9%84%D9%81-%D9%88%D8%AD%D8%AF%D9%87\n",
      "***********************************************************\n",
      "Count: 655\n",
      "URl: https://shatristore.com/ar/heating-and-cooling/air-conditioners/%D9%81%D9%8A%D8%B4%D8%B1-%D9%85%D9%83%D9%8A%D9%81-%D8%B4%D8%A8%D8%A7%D9%83-%D8%A8%D8%A7%D8%B1%D8%AF-18-%D8%A7%D9%84%D9%81-%D9%88%D8%AD%D8%AF%D9%87\n",
      "***********************************************************\n",
      "Count: 656\n",
      "URl: https://shatristore.com/ar/heating-and-cooling/air-conditioners/%D8%AC%D8%B1%D9%8A-%D9%85%D9%83%D9%8A%D9%81-%D8%B3%D8%A8%D9%84%D9%8A%D8%AA-%D8%A8%D8%A7%D8%B1%D8%AF-%D8%A8%D9%88%D9%84%D8%B1-12-%D8%A7%D9%84%D9%81-%D9%88%D8%AD%D8%AF%D9%87\n",
      "***********************************************************\n",
      "Count: 657\n",
      "URl: https://shatristore.com/ar/heating-and-cooling/air-conditioners/%D8%AC%D8%B1%D9%8A-%D9%85%D9%83%D9%8A%D9%81-%D8%B3%D8%A8%D9%84%D9%8A%D8%AA-%D8%A8%D8%A7%D8%B1%D8%AF-%D8%A8%D9%88%D9%84%D8%B1-30-%D8%A7%D9%84%D9%81-%D9%88%D8%AD%D8%AF%D9%87\n"
     ]
    },
    {
     "name": "stdout",
     "output_type": "stream",
     "text": [
      "***********************************************************\n",
      "Count: 658\n",
      "URl: https://shatristore.com/ar/heating-and-cooling/air-conditioners/%D8%AC%D8%B1%D9%8A-%D9%85%D9%83%D9%8A%D9%81-%D8%B3%D8%A8%D9%84%D9%8A%D8%AA-%D8%A8%D8%A7%D8%B1%D8%AF-%D8%A8%D9%88%D9%84%D8%B1-24-%D8%A7%D9%84%D9%81-%D9%88%D8%AD%D8%AF%D9%87\n",
      "***********************************************************\n",
      "Count: 659\n",
      "URl: https://shatristore.com/ar/heating-and-cooling/air-conditioners/%D8%AC%D8%B1%D9%8A-%D9%85%D9%83%D9%8A%D9%81-%D8%B3%D8%A8%D9%84%D9%8A%D8%AA-%D8%A8%D8%A7%D8%B1%D8%AF-%D8%A8%D9%88%D9%84%D8%B1-18-%D8%A7%D9%84%D9%81-%D9%88%D8%AD%D8%AF%D9%87\n",
      "***********************************************************\n",
      "Count: 660\n",
      "URl: https://shatristore.com/ar/heating-and-cooling/air-conditioners/%D9%86%D9%8A%D9%83%D8%A7%D9%8A-%D9%85%D9%83%D9%8A%D9%81-%D8%B4%D8%A8%D8%A7%D9%83-%D8%AD%D8%A7%D8%B1-%D8%A8%D8%A7%D8%B1%D8%AF-18-%D8%A7%D9%84%D9%81-%D9%88%D8%AD%D8%AF%D9%87\n",
      "***********************************************************\n",
      "Count: 661\n",
      "URl: https://shatristore.com/ar/heating-and-cooling/air-conditioners/%D9%86%D9%8A%D9%83%D8%A7%D9%8A-%D9%85%D9%83%D9%8A%D9%81-%D8%B3%D8%A8%D9%84%D9%8A%D8%AA-%D8%AD%D8%A7%D8%B1-%D8%A8%D8%A7%D8%B1%D8%AF-12-%D8%A7%D9%84%D9%81-%D9%88%D8%AD%D8%AF%D9%87\n",
      "***********************************************************\n",
      "Count: 662\n",
      "URl: https://shatristore.com/ar/heating-and-cooling/air-conditioners/%D8%B3%D9%88%D8%A8%D8%B1-%D8%AC%D9%86%D8%B1%D8%A7%D9%84-%D9%85%D9%83%D9%8A%D9%81-%D8%B4%D8%A8%D8%A7%D9%83-%D8%AD%D8%A7%D8%B1-%D8%A8%D8%A7%D8%B1%D8%AF-18-%D8%A7%D9%84%D9%81-%D9%88%D8%AD%D8%AF%D9%87\n",
      "***********************************************************\n",
      "Count: 663\n",
      "URl: https://shatristore.com/ar/heating-and-cooling/air-conditioners/%D8%A8%D9%84%D9%88%D8%B3%D8%AA%D8%A7%D8%B1-%D9%85%D9%83%D9%8A%D9%81-%D8%B3%D8%A8%D9%84%D9%8A%D8%AA-%D8%A8%D8%A7%D8%B1%D8%AF-24-%D8%A7%D9%84%D9%81-%D9%88%D8%AD%D8%AF%D9%87\n",
      "***********************************************************\n",
      "Count: 664\n",
      "URl: https://shatristore.com/ar/heating-and-cooling/air-conditioners/%D8%A8%D9%84%D9%88%D8%B3%D8%AA%D8%A7%D8%B1-%D9%85%D9%83%D9%8A%D9%81-%D8%B4%D8%A8%D8%A7%D9%83-%D8%A8%D8%A7%D8%B1%D8%AF-18-%D8%A7%D9%84%D9%81-%D9%88%D8%AD%D8%AF%D9%87\n",
      "***********************************************************\n",
      "Count: 665\n",
      "URl: https://shatristore.com/ar/heating-and-cooling/air-conditioners/%D8%AA%D9%8A-%D8%B3%D9%8A-%D8%A7%D9%84-%D9%85%D9%83%D9%8A%D9%81-%D8%B3%D8%A8%D9%84%D9%8A%D8%AA-%D8%A8%D8%A7%D8%B1%D8%AF-24-%D8%A7%D9%84%D9%81-%D9%88%D8%AD%D8%AF%D9%87-1\n",
      "***********************************************************\n",
      "Count: 666\n",
      "URl: https://shatristore.com/ar/heating-and-cooling/air-conditioners/%D8%B3%D9%88%D8%A8%D8%B1-%D8%AC%D9%86%D8%B1%D8%A7%D9%84-%D9%85%D9%83%D9%8A%D9%81-%D8%B3%D8%A8%D9%84%D9%8A%D8%AA-%D8%AD%D8%A7%D8%B1-%D9%88-%D8%A8%D8%A7%D8%B1%D8%AF-24-%D8%A7%D9%84%D9%81-%D9%88%D8%AD%D8%AF%D8%A9\n",
      "***********************************************************\n",
      "Count: 667\n",
      "URl: https://shatristore.com/ar/heating-and-cooling/air-conditioners/%D8%B3%D9%88%D8%A8%D8%B1-%D8%AC%D9%86%D8%B1%D8%A7%D9%84-%D9%85%D9%83%D9%8A%D9%81-%D8%B3%D8%A8%D9%84%D9%8A%D8%AA-%D8%A8%D8%A7%D8%B1%D8%AF-24-%D9%88%D8%AD%D8%AF%D8%A9\n",
      "***********************************************************\n",
      "Count: 668\n",
      "URl: https://shatristore.com/ar/heating-and-cooling/air-conditioners/%D8%B3%D9%88%D8%A8%D8%B1-%D8%AC%D9%86%D8%B1%D8%A7%D9%84-%D9%85%D9%83%D9%8A%D9%81-%D8%B4%D8%A8%D8%A7%D9%83-%D8%A8%D8%A7%D8%B1%D8%AF-18-%D8%A7%D9%84%D9%81-%D9%88%D8%AD%D8%AF%D8%A9\n",
      "***********************************************************\n",
      "Count: 669\n",
      "URl: https://shatristore.com/ar/heating-and-cooling/air-conditioners/%D8%A8%D9%84%D9%88%D8%B3%D8%AA%D8%A7%D8%B1-%D9%85%D9%83%D9%8A%D9%81-%D8%B4%D8%A8%D8%A7%D9%83-%D8%A8%D8%A7%D8%B1%D8%AF-24-%D8%A7%D9%84%D9%81-%D9%88%D8%AD%D8%AF%D9%87\n",
      "***********************************************************\n",
      "Count: 670\n",
      "URl: https://shatristore.com/ar/heating-and-cooling/air-conditioners/%D8%AA%D9%8A-%D8%B3%D9%8A-%D8%A7%D9%84-%D9%85%D9%83%D9%8A%D9%81-%D8%B4%D8%A8%D8%A7%D9%83-%D8%A8%D8%A7%D8%B1%D8%AF-18-%D8%A7%D9%84%D9%81-%D9%88%D8%AD%D8%AF%D8%A9\n",
      "***********************************************************\n",
      "Count: 671\n",
      "URl: https://shatristore.com/ar/heating-and-cooling/air-conditioners/%D8%AA%D9%8A-%D8%B3%D9%8A-%D8%A7%D9%84-%D9%85%D9%83%D9%8A%D9%81-%D8%B3%D8%A8%D9%84%D9%8A%D8%AA-%D8%A8%D8%A7%D8%B1%D8%AF-18-%D8%A7%D9%84%D9%81-%D9%88%D8%AD%D8%AF%D9%87-2\n",
      "***********************************************************\n",
      "Count: 672\n",
      "URl: https://shatristore.com/ar/heating-and-cooling/air-conditioners/%D9%85%D9%83%D9%8A%D9%81-%D8%A7%D8%B3%D8%A8%D9%84%D9%8A%D8%AA-%D8%B3%D9%88%D8%A8%D8%B1-%D8%AC%D9%86%D8%B1%D8%A7%D9%84-18%D9%88%D8%AD%D8%AF%D8%A9-%D8%A8%D8%A7%D8%B1%D8%AF\n",
      "***********************************************************\n",
      "Count: 673\n",
      "URl: https://shatristore.com/ar/heating-and-cooling/air-conditioners/%D9%85%D9%83%D9%8A%D9%81-%D8%B4%D8%A8%D8%A7%D9%83-%D8%B3%D9%88%D8%A8%D8%B1-%D8%AC%D9%86%D8%B1%D8%A7%D9%84-24%D9%88%D8%AD%D8%AF%D8%A9-%D8%A8%D8%A7%D8%B1%D8%AF\n",
      "***********************************************************\n",
      "Count: 674\n",
      "URl: https://shatristore.com/ar/heating-and-cooling/air-conditioners/%D8%AC%D8%B1%D9%8A-%D9%85%D9%83%D9%8A%D9%81-%D8%B4%D8%A8%D8%A7%D9%83-%D8%A8%D8%A7%D8%B1%D8%AF-18-%D8%A7%D9%84%D9%81-%D9%88%D8%AD%D8%AF%D8%A9\n",
      "***********************************************************\n",
      "Count: 675\n",
      "URl: https://shatristore.com/ar/heating-and-cooling/air-conditioners/%D8%AF%D8%A7%D9%86%D8%B3%D8%A7%D8%AA-%D9%85%D9%83%D9%8A%D9%81-%D8%B3%D8%A8%D9%84%D9%8A%D8%AA-%D8%A8%D8%A7%D8%B1%D8%AF-24-%D8%A7%D9%84%D9%81-%D9%88%D8%AD%D8%AF%D8%A9\n",
      "***********************************************************\n",
      "Count: 676\n",
      "URl: https://shatristore.com/ar/heating-and-cooling/air-conditioners/%D8%AC%D8%B1%D9%8A-%D9%85%D9%83%D9%8A%D9%81-%D8%B3%D8%A8%D9%84%D9%8A%D8%AA-%D8%A8%D8%A7%D8%B1%D8%AF-36-%D8%A7%D9%84%D9%81-%D9%88%D8%AD%D8%AF%D9%87\n",
      "***********************************************************\n",
      "Count: 677\n",
      "URl: https://shatristore.com/ar/heating-and-cooling/air-conditioners/%D9%86%D9%8A%D9%83%D8%A7%D9%8A-%D9%85%D9%83%D9%8A%D9%81-%D8%B4%D8%A8%D8%A7%D9%83-%D8%A8%D8%A7%D8%B1%D8%AF-24-%D8%A7%D9%84%D9%81-%D9%88%D8%AD%D8%AF%D9%87-1\n",
      "***********************************************************\n",
      "Count: 678\n",
      "URl: https://shatristore.com/ar/heating-and-cooling/air-conditioners/%D9%86%D9%8A%D9%83%D8%A7%D9%8A-%D9%85%D9%83%D9%8A%D9%81-%D8%B4%D8%A8%D8%A7%D9%83-%D8%A8%D8%A7%D8%B1%D8%AF-18-%D8%A7%D9%84%D9%81-%D9%88%D8%AD%D8%AF%D9%87\n",
      "***********************************************************\n",
      "Count: 679\n",
      "URl: https://shatristore.com/ar/heating-and-cooling/air-conditioners/%D9%86%D9%8A%D9%83%D8%A7%D9%8A-%D9%85%D9%83%D9%8A%D9%81-%D8%B3%D8%A8%D9%84%D9%8A%D8%AA-%D8%A8%D8%A7%D8%B1%D8%AF-18-%D8%A7%D9%84%D9%81-%D9%88%D8%AD%D8%AF%D9%87\n",
      "***********************************************************\n",
      "Count: 680\n",
      "URl: https://shatristore.com/ar/heating-and-cooling/air-conditioners/%D9%85%D9%88%D8%AF%D9%8A%D9%86%D8%A7-%D9%85%D9%83%D9%8A%D9%81-%D8%B5%D8%AD%D8%B1%D8%A7%D9%88%D9%8A-34-%D9%84%D8%AA%D8%B1\n",
      "***********************************************************\n",
      "Count: 681\n",
      "URl: https://shatristore.com/ar/heating-and-cooling/air-conditioners/%D9%85%D9%88%D8%AF%D9%8A%D9%86%D8%A7-%D9%85%D9%83%D9%8A%D9%81-%D8%B5%D8%AD%D8%B1%D8%A7%D9%88%D9%8A-61-%D9%84%D8%AA%D8%B1\n",
      "***********************************************************\n",
      "Count: 682\n",
      "URl: https://shatristore.com/ar/heating-and-cooling/air-conditioners/%D9%86%D9%8A%D9%83%D8%A7%D9%8A-%D9%85%D9%83%D9%8A%D9%81-%D8%B3%D8%A8%D9%84%D9%8A%D8%AA-%D8%A8%D8%A7%D8%B1%D8%AF-24-%D8%A7%D9%84%D9%81-%D9%88%D8%AD%D8%AF%D9%87\n",
      "***********************************************************\n",
      "Count: 683\n",
      "URl: https://shatristore.com/ar/heating-and-cooling/air-conditioners/%D8%AE%D8%AF%D9%85%D8%A9-%D8%AA%D8%B1%D9%83%D9%8A%D8%A8-%D9%85%D9%83%D9%8A%D9%81-%D8%B4%D8%A8%D8%A7%D9%83\n",
      "***********************************************************\n",
      "Count: 684\n",
      "URl: https://shatristore.com/ar/heating-and-cooling/air-conditioners/%D8%AE%D8%AF%D9%85%D8%A9-%D8%AA%D8%B1%D9%83%D9%8A%D8%A8-%D9%85%D9%83%D9%8A%D9%81-%D8%A7%D8%B3%D8%A8%D9%84%D9%8A%D8%AA\n",
      "***********************************************************\n",
      "Count: 685\n",
      "URl: https://shatristore.com/ar/heating-and-cooling/air-conditioners/%D8%AE%D8%AF%D9%85%D8%A9-%D8%AA%D9%85%D8%AF%D9%8A%D8%AF-4-%D9%85%D8%AA%D8%B1-%D9%85%D9%88%D8%A7%D8%B3%D9%8A%D8%B1-%D9%85%D9%83%D9%8A%D9%81-%D8%A7%D8%B3%D8%A8%D9%84%D9%8A%D8%AA\n"
     ]
    },
    {
     "name": "stdout",
     "output_type": "stream",
     "text": [
      "***********************************************************\n",
      "Count: 686\n",
      "URl: https://shatristore.com/ar/personal-care/health-care/ipl8500-beurer\n",
      "***********************************************************\n",
      "Count: 687\n",
      "URl: https://shatristore.com/ar/personal-care/health-care/medical-devices/-beurer-mg155\n",
      "***********************************************************\n",
      "Count: 688\n",
      "URl: https://shatristore.com/ar/personal-care/health-care/medical-devices/ih21-beurer-\n",
      "***********************************************************\n",
      "Count: 689\n",
      "URl: https://shatristore.com/ar/personal-care/health-care/medical-devices/sf1520ps-\n",
      "***********************************************************\n",
      "Count: 690\n",
      "URl: https://shatristore.com/ar/personal-care/health-care/medical-devices/sgs06-\n",
      "***********************************************************\n",
      "Count: 691\n",
      "URl: https://shatristore.com/ar/personal-care/health-care/medical-devices/dsk-1011-\n",
      "***********************************************************\n",
      "Count: 692\n",
      "URl: https://shatristore.com/ar/personal-care/health-care/medical-devices/--129970\n",
      "***********************************************************\n",
      "Count: 693\n",
      "URl: https://shatristore.com/ar/personal-care/health-care/medical-devices/--129975\n",
      "***********************************************************\n",
      "Count: 694\n",
      "URl: https://shatristore.com/ar/personal-care/health-care/medical-devices/-ih18\n",
      "***********************************************************\n",
      "Count: 695\n",
      "URl: https://shatristore.com/ar/personal-care/health-care/medical-devices/%D8%A7%D9%83%D9%8A%D9%88%D8%AA%D8%B4%D9%8A%D9%83-%D8%A7%D9%83%D8%AA%D9%8A%D9%81-%D8%B4%D8%B1%D8%A7%D8%A6%D8%B7-%D9%82%D9%8A%D8%A7%D8%B3-%D8%A7%D9%84%D8%B3%D9%83%D8%B1-%D8%A8%D8%A7%D9%84%D8%AF%D9%85-%D8%B4%D8%B1%D8%A7%D8%A6%D8%AD\n",
      "***********************************************************\n",
      "Count: 696\n",
      "URl: https://shatristore.com/ar/personal-care/health-care/medical-devices/%D8%A8%D9%8A%D9%88%D8%B1%D9%8A%D8%B1-%D8%AC%D9%87%D8%A7%D8%B2-%D8%AA%D8%AF%D9%84%D9%8A%D9%83-%D8%A8%D9%86%D8%B8%D8%A7%D9%85-%D8%A7%D9%84%D8%A3%D8%B4%D8%B9%D8%A9-%D8%AA%D8%AD%D8%AA-%D8%A7%D9%84%D8%AD%D9%85%D8%B1%D8%A7%D8%A1\n",
      "***********************************************************\n",
      "Count: 697\n",
      "URl: https://shatristore.com/ar/personal-care/health-care/medical-devices/-mg145\n",
      "***********************************************************\n",
      "Count: 698\n",
      "URl: https://shatristore.com/ar/personal-care/health-care/medical-devices/-ft65\n",
      "***********************************************************\n",
      "Count: 699\n",
      "URl: https://shatristore.com/ar/personal-care/health-care/medical-devices/-bm35\n",
      "***********************************************************\n",
      "Count: 700\n",
      "URl: https://shatristore.com/ar/personal-care/health-care/medical-devices/-bm26\n",
      "***********************************************************\n",
      "Count: 701\n",
      "URl: https://shatristore.com/ar/personal-care/health-care/medical-devices/-bc30\n",
      "***********************************************************\n",
      "Count: 702\n",
      "URl: https://shatristore.com/ar/personal-care/health-care/medical-devices/-bc44\n",
      "***********************************************************\n",
      "Count: 703\n",
      "URl: https://shatristore.com/ar/personal-care/women-s-personal-care/hair-care-devices/re-2079\n",
      "***********************************************************\n",
      "Count: 704\n",
      "URl: https://shatristore.com/ar/personal-care/women-s-personal-care/hair-care-devices/as115psde\n",
      "***********************************************************\n",
      "Count: 705\n",
      "URl: https://shatristore.com/ar/personal-care/women-s-personal-care/3-270-3\n",
      "***********************************************************\n",
      "Count: 706\n",
      "URl: https://shatristore.com/ar/personal-care/women-s-personal-care/hair-care-devices/babas250sde\n",
      "***********************************************************\n",
      "Count: 707\n",
      "URl: https://shatristore.com/ar/personal-care/women-s-personal-care/hair-care-devices/bab6609sde-2100\n",
      "***********************************************************\n",
      "Count: 708\n",
      "URl: https://shatristore.com/ar/personal-care/women-s-personal-care/hair-care-devices/re-2042-2300\n",
      "***********************************************************\n",
      "Count: 709\n",
      "URl: https://shatristore.com/ar/personal-care/women-s-personal-care/hair-care-devices/re-2076-22-\n",
      "***********************************************************\n",
      "Count: 710\n",
      "URl: https://shatristore.com/ar/personal-care/women-s-personal-care/hair-care-devices/re-2070-\n",
      "***********************************************************\n",
      "Count: 711\n",
      "URl: https://shatristore.com/ar/personal-care/women-s-personal-care/hair-care-devices/re-2067-2300\n",
      "***********************************************************\n",
      "Count: 712\n",
      "URl: https://shatristore.com/ar/personal-care/women-s-personal-care/hair-care-devices/babd210sde-\n",
      "***********************************************************\n",
      "Count: 713\n",
      "URl: https://shatristore.com/ar/personal-care/women-s-personal-care/hair-care-devices/re2025-7-w-7-1200\n",
      "***********************************************************\n",
      "Count: 714\n",
      "URl: https://shatristore.com/ar/personal-care/women-s-personal-care/hair-care-devices/re2078-2-2-1200\n",
      "***********************************************************\n",
      "Count: 715\n",
      "URl: https://shatristore.com/ar/personal-care/women-s-personal-care/hair-care-devices/re2078-1-1-1200\n",
      "***********************************************************\n",
      "Count: 716\n",
      "URl: https://shatristore.com/ar/personal-care/women-s-personal-care/hair-care-devices/re-2066-2-1000-\n",
      "***********************************************************\n",
      "Count: 717\n",
      "URl: https://shatristore.com/ar/personal-care/women-s-personal-care/hair-care-devices/ar-1045-\n",
      "***********************************************************\n",
      "Count: 718\n",
      "URl: https://shatristore.com/ar/personal-care/women-s-personal-care/hair-care-devices/2044-\n",
      "***********************************************************\n",
      "Count: 719\n",
      "URl: https://shatristore.com/ar/personal-care/women-s-personal-care/hair-care-devices/re-2069-\n",
      "***********************************************************\n",
      "Count: 720\n",
      "URl: https://shatristore.com/ar/personal-care/women-s-personal-care/hair-care-devices/babc619sde-\n",
      "***********************************************************\n",
      "Count: 721\n",
      "URl: https://shatristore.com/ar/personal-care/women-s-personal-care/hair-care-devices/babst450sde-\n",
      "***********************************************************\n",
      "Count: 722\n",
      "URl: https://shatristore.com/ar/personal-care/women-s-personal-care/hair-care-devices/ar-1044-2500\n",
      "***********************************************************\n",
      "Count: 723\n",
      "URl: https://shatristore.com/ar/personal-care/women-s-personal-care/hair-care-devices/re-2071-\n",
      "***********************************************************\n",
      "Count: 724\n",
      "URl: https://shatristore.com/ar/personal-care/women-s-personal-care/hair-care-devices/babas125sde-\n",
      "***********************************************************\n",
      "Count: 725\n",
      "URl: https://shatristore.com/ar/personal-care/men-s-personal-care/mens-shavers/babh700sde-.html\n",
      "***********************************************************\n",
      "Count: 726\n",
      "URl: https://shatristore.com/ar/personal-care/women-s-personal-care/hair-care-devices/re-2074-25-\n",
      "***********************************************************\n",
      "Count: 727\n",
      "URl: https://shatristore.com/ar/personal-care/women-s-personal-care/hair-care-devices/re-2077-\n",
      "***********************************************************\n",
      "Count: 728\n",
      "URl: https://shatristore.com/ar/personal-care/women-s-personal-care/hair-care-devices/-48700\n",
      "***********************************************************\n",
      "Count: 729\n",
      "URl: https://shatristore.com/ar/personal-care/women-s-personal-care/hair-care-devices/-48699\n",
      "***********************************************************\n",
      "Count: 730\n",
      "URl: https://shatristore.com/ar/personal-care/women-s-personal-care/hair-care-devices/-16-\n",
      "***********************************************************\n",
      "Count: 731\n",
      "URl: https://shatristore.com/ar/personal-care/women-s-personal-care/hair-care-devices/-2500-\n",
      "***********************************************************\n",
      "Count: 732\n",
      "URl: https://shatristore.com/ar/personal-care/women-s-personal-care/hair-care-devices/-1000-\n",
      "***********************************************************\n",
      "Count: 733\n",
      "URl: https://shatristore.com/ar/personal-care/women-s-personal-care/hair-care-devices/-1200--48694\n"
     ]
    },
    {
     "name": "stdout",
     "output_type": "stream",
     "text": [
      "***********************************************************\n",
      "Count: 734\n",
      "URl: https://shatristore.com/ar/personal-care/women-s-personal-care/hair-care-devices/-1200-48691\n",
      "***********************************************************\n",
      "Count: 735\n",
      "URl: https://shatristore.com/ar/personal-care/women-s-personal-care/hair-care-devices/-3--347689\n",
      "***********************************************************\n",
      "Count: 736\n",
      "URl: https://shatristore.com/ar/personal-care/women-s-personal-care/hair-care-devices/-1200--48692\n",
      "***********************************************************\n",
      "Count: 737\n",
      "URl: https://shatristore.com/ar/personal-care/women-s-personal-care/hair-care-devices/--3347705\n",
      "***********************************************************\n",
      "Count: 738\n",
      "URl: https://shatristore.com/ar/personal-care/women-s-personal-care/hair-care-devices/--3347693\n",
      "***********************************************************\n",
      "Count: 739\n",
      "URl: https://shatristore.com/ar/personal-care/women-s-personal-care/hair-care-devices/-2200-3-\n",
      "***********************************************************\n",
      "Count: 740\n",
      "URl: https://shatristore.com/ar/personal-care/women-s-personal-care/hair-care-devices/--3347703\n",
      "***********************************************************\n",
      "Count: 741\n",
      "URl: https://shatristore.com/ar/personal-care/women-s-personal-care/hair-care-devices/-48677\n",
      "***********************************************************\n",
      "Count: 742\n",
      "URl: https://shatristore.com/ar/personal-care/women-s-personal-care/hair-care-devices/%D8%A8%D9%8A%D8%A8%D9%8A-%D9%84%D9%8A%D8%B3-%D9%81%D8%B1%D8%B4%D8%A9-%D8%AD%D8%B1%D8%A7%D8%B1%D9%8A%D8%A9-%D8%A8%D9%86%D9%81%D8%B3%D8%AC\n",
      "***********************************************************\n",
      "Count: 743\n",
      "URl: https://shatristore.com/ar/personal-care/women-s-personal-care/hair-care-devices/%D8%B1%D9%8A%D8%A8%D9%88%D9%86-%D9%81%D9%8A%D8%B1-%D8%B4%D8%B9%D8%B1-22-%D9%85%D9%84%D9%85-%D9%88%D8%B1%D8%AF%D9%8A\n",
      "***********************************************************\n",
      "Count: 744\n",
      "URl: https://shatristore.com/ar/personal-care/women-s-personal-care/hair-care-devices/-1200-48672\n",
      "***********************************************************\n",
      "Count: 745\n",
      "URl: https://shatristore.com/ar/personal-care/women-s-personal-care/hair-care-devices/--3347702\n",
      "***********************************************************\n",
      "Count: 746\n",
      "URl: https://shatristore.com/ar/personal-care/women-s-personal-care/hair-care-devices/-3--347690\n",
      "***********************************************************\n",
      "Count: 747\n",
      "URl: https://shatristore.com/ar/personal-care/women-s-personal-care/hair-care-devices/-25--31932\n",
      "***********************************************************\n",
      "Count: 748\n",
      "URl: https://shatristore.com/ar/personal-care/women-s-personal-care/hair-care-devices/-19--31925\n",
      "***********************************************************\n",
      "Count: 749\n",
      "URl: https://shatristore.com/ar/personal-care/women-s-personal-care/hair-care-devices/-1200-\n",
      "***********************************************************\n",
      "Count: 750\n",
      "URl: https://shatristore.com/ar/personal-care/women-s-personal-care/hair-care-devices/-1200--48693\n",
      "***********************************************************\n",
      "Count: 751\n",
      "URl: https://shatristore.com/ar/personal-care/women-s-personal-care/hair-care-devices/--3347706\n",
      "***********************************************************\n",
      "Count: 752\n",
      "URl: https://shatristore.com/ar/personal-care/women-s-personal-care/hair-care-devices/-48655\n",
      "***********************************************************\n",
      "Count: 753\n",
      "URl: https://shatristore.com/ar/personal-care/women-s-personal-care/hair-care-devices/-48654\n",
      "***********************************************************\n",
      "Count: 754\n",
      "URl: https://shatristore.com/ar/personal-care/women-s-personal-care/hair-care-devices/--3347694\n",
      "***********************************************************\n",
      "Count: 755\n",
      "URl: https://shatristore.com/ar/personal-care/women-s-personal-care/hair-care-devices/--120048673\n",
      "***********************************************************\n",
      "Count: 756\n",
      "URl: https://shatristore.com/ar/personal-care/women-s-personal-care/hair-care-devices/--120048694\n",
      "***********************************************************\n",
      "Count: 757\n",
      "URl: https://shatristore.com/ar/personal-care/women-s-personal-care/hair-care-devices/--3347700\n",
      "***********************************************************\n",
      "Count: 758\n",
      "URl: https://shatristore.com/ar/personal-care/women-s-personal-care/hair-care-devices/-20-\n",
      "***********************************************************\n",
      "Count: 759\n",
      "URl: https://shatristore.com/ar/personal-care/women-s-personal-care/hair-care-devices/-48368\n",
      "***********************************************************\n",
      "Count: 760\n",
      "URl: https://shatristore.com/ar/personal-care/women-s-personal-care/womens-shavers/--129963\n",
      "***********************************************************\n",
      "Count: 761\n",
      "URl: https://shatristore.com/ar/personal-care/women-s-personal-care/%D8%A8%D8%B1%D8%A7%D9%88%D9%86-%D9%85%D9%83%D9%8A%D9%86%D9%87-%D8%AD%D9%84%D8%A7%D9%82%D9%87-%D9%86%D8%B3%D8%A7%D8%A6%D9%8A%D9%87-%D9%82%D8%A7%D8%A8%D9%84-%D9%84%D9%84%D8%B4%D8%AD%D9%86\n",
      "***********************************************************\n",
      "Count: 762\n",
      "URl: https://shatristore.com/ar/personal-care/women-s-personal-care/womens-shavers/-47846\n",
      "***********************************************************\n",
      "Count: 763\n",
      "URl: https://shatristore.com/ar/personal-care/women-s-personal-care/hair-care-devices/-47783\n",
      "***********************************************************\n",
      "Count: 764\n",
      "URl: https://shatristore.com/ar/personal-care/women-s-personal-care/hair-care-devices/-babst325sde\n",
      "***********************************************************\n",
      "Count: 765\n",
      "URl: https://shatristore.com/ar/personal-care/women-s-personal-care/hair-care-devices/-47775\n",
      "***********************************************************\n",
      "Count: 766\n",
      "URl: https://shatristore.com/ar/personal-care/women-s-personal-care/hair-care-devices/-2500--1\n",
      "***********************************************************\n",
      "Count: 767\n",
      "URl: https://shatristore.com/ar/personal-care/women-s-personal-care/hair-care-devices/-2300-\n",
      "***********************************************************\n",
      "Count: 768\n",
      "URl: https://shatristore.com/ar/personal-care/women-s-personal-care/%D8%A8%D9%8A%D8%A8%D9%8A-%D9%84%D9%8A%D8%B3-%D9%85%D8%AC%D9%81%D9%81-%D8%B4%D8%B9%D8%B1-st6604sde\n",
      "***********************************************************\n",
      "Count: 769\n",
      "URl: https://shatristore.com/ar/personal-care/women-s-personal-care/hair-care-devices/-hs60\n",
      "***********************************************************\n",
      "Count: 770\n",
      "URl: https://shatristore.com/ar/personal-care/women-s-personal-care/hair-care-devices/-hsb100sde\n",
      "***********************************************************\n",
      "Count: 771\n",
      "URl: https://shatristore.com/ar/personal-care/women-s-personal-care/hair-care-devices/-200-2\n",
      "***********************************************************\n",
      "Count: 772\n",
      "URl: https://shatristore.com/ar/personal-care/women-s-personal-care/hair-care-devices/-c900\n",
      "***********************************************************\n",
      "Count: 773\n",
      "URl: https://shatristore.com/ar/personal-care/women-s-personal-care/hair-care-devices/-1--651\n",
      "***********************************************************\n",
      "Count: 774\n",
      "URl: https://shatristore.com/ar/personal-care/women-s-personal-care/hair-care-devices/-1-650-\n",
      "***********************************************************\n",
      "Count: 775\n",
      "URl: https://shatristore.com/ar/personal-care/men-s-personal-care/mens-shavers/bt5065\n",
      "***********************************************************\n",
      "Count: 776\n",
      "URl: https://shatristore.com/ar/personal-care/men-s-personal-care/mens-shavers/bt-3221-.html\n",
      "***********************************************************\n",
      "Count: 777\n",
      "URl: https://shatristore.com/ar/personal-care/men-s-personal-care/mens-shavers/ih836-\n",
      "***********************************************************\n",
      "Count: 778\n",
      "URl: https://shatristore.com/ar/personal-care/men-s-personal-care/mens-shavers/ih831-\n",
      "***********************************************************\n",
      "Count: 779\n",
      "URl: https://shatristore.com/ar/personal-care/men-s-personal-care/mens-shavers/ms-516-\n",
      "***********************************************************\n",
      "Count: 780\n",
      "URl: https://shatristore.com/ar/personal-care/men-s-personal-care/mens-shavers/ms-522-%D9%85%D9%83%D9%8A%D9%86%D8%A9-%D8%AD%D9%84%D8%A7%D9%82%D8%A9-%D8%B1%D8%AC%D8%A7%D9%84%D9%8A-%D8%B3%D8%A7%D9%85%D9%88%D8%B1%D8%A7%D9%86\n"
     ]
    },
    {
     "name": "stdout",
     "output_type": "stream",
     "text": [
      "***********************************************************\n",
      "Count: 781\n",
      "URl: https://shatristore.com/ar/personal-care/men-s-personal-care/mens-shavers/balding-\n",
      "***********************************************************\n",
      "Count: 782\n",
      "URl: https://shatristore.com/ar/personal-care/men-s-personal-care/mens-shavers/sf1965hc-bs-.html\n",
      "***********************************************************\n",
      "Count: 783\n",
      "URl: https://shatristore.com/ar/personal-care/men-s-personal-care/mens-shavers/magic-silver-wahl\n",
      "***********************************************************\n",
      "Count: 784\n",
      "URl: https://shatristore.com/ar/personal-care/men-s-personal-care/mens-shavers/detailer--1\n",
      "***********************************************************\n",
      "Count: 785\n",
      "URl: https://shatristore.com/ar/personal-care/men-s-personal-care/mens-shavers/hero-\n",
      "***********************************************************\n",
      "Count: 786\n",
      "URl: https://shatristore.com/ar/personal-care/men-s-personal-care/mens-shavers/bt121415-.html\n",
      "***********************************************************\n",
      "Count: 787\n",
      "URl: https://shatristore.com/ar/personal-care/men-s-personal-care/mens-shavers/bt320813-.html\n",
      "***********************************************************\n",
      "Count: 788\n",
      "URl: https://shatristore.com/ar/personal-care/men-s-personal-care/mens-shavers/gvc-5000-gvc-pro-.html\n",
      "***********************************************************\n",
      "Count: 789\n",
      "URl: https://shatristore.com/ar/personal-care/men-s-personal-care/mens-shavers/sf1957hc-bs-.html\n",
      "***********************************************************\n",
      "Count: 790\n",
      "URl: https://shatristore.com/ar/personal-care/men-s-personal-care/mens-shavers/mgk-5245-.html\n",
      "***********************************************************\n",
      "Count: 791\n",
      "URl: https://shatristore.com/ar/personal-care/men-s-personal-care/mens-shavers/--48641.html\n",
      "***********************************************************\n",
      "Count: 792\n",
      "URl: https://shatristore.com/ar/personal-care/men-s-personal-care/mens-shavers/babh700sde-.html\n",
      "***********************************************************\n",
      "Count: 793\n",
      "URl: https://shatristore.com/ar/personal-care/men-s-personal-care/mens-shavers/sh846-\n",
      "***********************************************************\n",
      "Count: 794\n",
      "URl: https://shatristore.com/ar/personal-care/men-s-personal-care/mens-shavers/rf-6025-gvc-pro-.html\n",
      "***********************************************************\n",
      "Count: 795\n",
      "URl: https://shatristore.com/ar/personal-care/men-s-personal-care/mens-shavers/is833-\n",
      "***********************************************************\n",
      "Count: 796\n",
      "URl: https://shatristore.com/ar/personal-care/men-s-personal-care/mens-shavers/sf1950hc-bs-.html\n",
      "***********************************************************\n",
      "Count: 797\n",
      "URl: https://shatristore.com/ar/personal-care/men-s-personal-care/mens-shavers/sf1960hc-usb-.html\n",
      "***********************************************************\n",
      "Count: 798\n",
      "URl: https://shatristore.com/ar/personal-care/men-s-personal-care/mens-shavers/-beret-\n",
      "***********************************************************\n",
      "Count: 799\n",
      "URl: https://shatristore.com/ar/personal-care/men-s-personal-care/mens-shavers/-senior\n",
      "***********************************************************\n",
      "Count: 800\n",
      "URl: https://shatristore.com/ar/personal-care/men-s-personal-care/mens-shavers/--48653\n",
      "***********************************************************\n",
      "Count: 801\n",
      "URl: https://shatristore.com/ar/personal-care/men-s-personal-care/mens-shavers/--48638.html\n",
      "***********************************************************\n",
      "Count: 802\n",
      "URl: https://shatristore.com/ar/personal-care/men-s-personal-care/mens-shavers/-48637.html\n",
      "***********************************************************\n",
      "Count: 803\n",
      "URl: https://shatristore.com/ar/personal-care/men-s-personal-care/mens-shavers/--48640.html\n",
      "***********************************************************\n",
      "Count: 804\n",
      "URl: https://shatristore.com/ar/personal-care/men-s-personal-care/mens-shavers/-finale\n",
      "***********************************************************\n",
      "Count: 805\n",
      "URl: https://shatristore.com/ar/personal-care/men-s-personal-care/mens-shavers/-magic-clip\n",
      "***********************************************************\n",
      "Count: 806\n",
      "URl: https://shatristore.com/ar/personal-care/men-s-personal-care/mens-shavers/-detailer\n",
      "***********************************************************\n",
      "Count: 807\n",
      "URl: https://shatristore.com/ar/personal-care/men-s-personal-care/mens-shavers/-cordless-taber\n",
      "***********************************************************\n",
      "Count: 808\n",
      "URl: https://shatristore.com/ar/personal-care/men-s-personal-care/mens-shavers/%D8%AA%D8%B3%D9%83%D9%88%D9%85-%D9%85%D9%83%D9%8A%D9%86%D9%87-%D8%AD%D9%84%D8%A7%D9%82%D9%87-%D8%B1%D8%AC%D8%A7%D9%84%D9%8A-%D9%82%D8%A7%D8%A8%D9%84-%D9%84%D9%84%D8%B4%D8%AD%D9%86\n",
      "***********************************************************\n",
      "Count: 809\n",
      "URl: https://shatristore.com/ar/personal-care/men-s-personal-care/mens-shavers/%D9%85%D9%88%D8%B2%D8%B1-%D9%85%D9%83%D9%8A%D9%86%D9%87-%D8%AD%D9%84%D8%A7%D9%82%D9%87-%D8%B1%D8%AC%D8%A7%D9%84%D9%8A\n",
      "***********************************************************\n",
      "Count: 810\n",
      "URl: https://shatristore.com/ar/personal-care/men-s-personal-care/mens-shavers/%D9%88%D8%A7%D9%84-%D9%85%D9%83%D9%8A%D9%86%D9%87-%D8%A7%D9%86%D9%81-%D9%88%D8%A7%D8%B0%D9%86\n",
      "***********************************************************\n",
      "Count: 811\n",
      "URl: https://shatristore.com/ar/personal-care/men-s-personal-care/mens-shavers/%D8%A8%D8%A7%D9%86%D8%A7%D8%B3%D9%88%D9%86%D9%8A%D9%83-%D9%85%D9%83%D9%8A%D9%86%D8%A9-%D8%AA%D9%86%D8%B9%D9%8A%D9%85-%D8%B1%D8%AC%D8%A7%D9%84%D9%8A-%D9%82%D8%A7%D8%A8%D9%84%D8%A9-%D9%84%D8%A5%D8%B9%D8%A7%D8%AF%D8%A9-%D8%A7%D9%84%D8%B4%D8%AD%D9%86\n",
      "***********************************************************\n",
      "Count: 812\n",
      "URl: https://shatristore.com/ar/personal-care/men-s-personal-care/mens-shavers/%D8%A8%D8%A7%D9%86%D8%A7%D8%B3%D9%88%D9%86%D9%8A%D9%83-%D9%85%D9%83%D9%8A%D9%86%D8%A9-%D8%AD%D9%84%D8%A7%D9%82%D8%A9-%D8%B1%D8%AC%D8%A7%D9%84%D9%8A-%D9%82%D8%A7%D8%A8%D9%84%D8%A9-%D9%84%D8%A5%D8%B9%D8%A7%D8%AF%D8%A9-%D8%A7%D9%84%D8%B4%D8%AD%D9%86-%D8%8C-%D9%82%D8%A7%D8%A8%D9%84%D8%A9-%D9%84%D8%AA%D8%B9%D8%AF%D9%8A%D9%84-3-15-%D9%85%D9%84%D9%85\n",
      "***********************************************************\n",
      "Count: 813\n",
      "URl: https://shatristore.com/ar/personal-care/men-s-personal-care/mens-shavers/%D8%A8%D8%A7%D9%86%D8%A7%D8%B3%D9%88%D9%86%D9%8A%D9%83-%D9%85%D9%83%D9%8A%D9%86%D8%A9-%D8%AD%D9%84%D8%A7%D9%82%D8%A9-%D8%B1%D8%AC%D8%A7%D9%84%D9%8A-%D9%82%D8%A7%D8%A8%D9%84-%D9%84%D9%84%D8%B4%D8%AD%D9%86%D8%8C-%D9%82%D8%A7%D8%A8%D9%84%D8%A9-%D9%84%D8%AA%D8%B9%D8%AF%D9%8A%D9%84-2-18-%D9%85%D9%84%D9%85-1\n",
      "***********************************************************\n",
      "Count: 814\n",
      "URl: https://shatristore.com/ar/personal-care/men-s-personal-care/mens-shavers/%D8%A8%D8%A7%D9%86%D8%A7%D8%B3%D9%88%D9%86%D9%8A%D9%83-%D9%85%D9%83%D9%8A%D9%86%D8%A9-%D8%AD%D9%84%D8%A7%D9%82%D8%A9-%D8%B1%D8%AC%D8%A7%D9%84%D9%8A-%D9%82%D8%A7%D8%A8%D9%84-%D9%84%D9%84%D8%B4%D8%AD%D9%86%D8%8C-%D9%82%D8%A7%D8%A8%D9%84%D8%A9-%D9%84%D8%AA%D8%B9%D8%AF%D9%8A%D9%84-0-5-20-%D9%85%D9%84%D9%85\n",
      "***********************************************************\n",
      "Count: 815\n",
      "URl: https://shatristore.com/ar/personal-care/men-s-personal-care/mens-shavers/%D8%A8%D8%A7%D9%86%D8%A7%D8%B3%D9%88%D9%86%D9%8A%D9%83-%D9%85%D9%83%D9%8A%D9%86%D8%A9-%D8%AD%D9%84%D8%A7%D9%82%D8%A9-%D8%B1%D8%AC%D8%A7%D9%84%D9%8A-%D9%82%D8%A7%D8%A8%D9%84-%D9%84%D9%84%D8%B4%D8%AD%D9%86%D8%8C-%D9%82%D8%A7%D8%A8%D9%84%D8%A9-%D9%84%D8%AA%D8%B9%D8%AF%D9%8A%D9%84-2-18-%D9%85%D9%84%D9%85\n",
      "***********************************************************\n",
      "Count: 816\n",
      "URl: https://shatristore.com/ar/personal-care/men-s-personal-care/mens-shavers/-16-\n",
      "***********************************************************\n",
      "Count: 817\n",
      "URl: https://shatristore.com/ar/personal-care/men-s-personal-care/mens-shavers/%D9%81%D9%8A%D9%84%D9%8A%D8%A8%D8%B3-%D9%85%D9%83%D9%8A%D9%86%D9%87-%D8%AA%D9%86%D8%B9%D9%8A%D9%85-%D9%82%D8%A7%D8%A8%D9%84-%D9%84%D9%84%D8%B4%D8%AD%D9%86-2\n",
      "***********************************************************\n",
      "Count: 818\n",
      "URl: https://shatristore.com/ar/personal-care/men-s-personal-care/mens-shavers/%D9%87%D9%8A%D8%AA%D8%A7%D8%B4%D9%8A-%D9%85%D9%83%D9%8A%D9%86%D9%87-%D8%AA%D9%86%D8%B9%D9%8A%D9%85-%D9%82%D8%A7%D8%A8%D9%84-%D9%84%D9%84%D8%B4%D8%AD%D9%86-1\n"
     ]
    },
    {
     "name": "stdout",
     "output_type": "stream",
     "text": [
      "***********************************************************\n",
      "Count: 819\n",
      "URl: https://shatristore.com/ar/personal-care/men-s-personal-care/mens-shavers/-5642-135\n",
      "***********************************************************\n",
      "Count: 820\n",
      "URl: https://shatristore.com/ar/personal-care/men-s-personal-care/mens-shavers/-47244\n",
      "***********************************************************\n",
      "Count: 821\n",
      "URl: https://shatristore.com/ar/personal-care/men-s-personal-care/mens-shavers/--99531029\n",
      "***********************************************************\n",
      "Count: 822\n",
      "URl: https://shatristore.com/ar/personal-care/men-s-personal-care/mens-shavers/--72.html\n",
      "***********************************************************\n",
      "Count: 823\n",
      "URl: https://shatristore.com/ar/personal-care/health-care/medical-devices/home-beauuty-\n",
      "***********************************************************\n",
      "Count: 824\n",
      "URl: https://shatristore.com/ar/personal-care/health-care/medical-devices/-48693\n",
      "***********************************************************\n",
      "Count: 825\n",
      "URl: https://shatristore.com/ar/personal-care/health-care/medical-devices/--129965\n",
      "***********************************************************\n",
      "Count: 826\n",
      "URl: https://shatristore.com/ar/personal-care/health-care/medical-devices/-mp41\n",
      "***********************************************************\n",
      "Count: 827\n",
      "URl: https://shatristore.com/ar/personal-care/health-care/medical-devices/-47798\n",
      "***********************************************************\n",
      "Count: 828\n",
      "URl: https://shatristore.com/ar/personal-care/health-care/medical-devices/--129976\n"
     ]
    }
   ],
   "source": [
    "now = datetime.now()\n",
    "dt_string = now.strftime(\"%d-%m-%Y-%H-%M-%S\")\n",
    "count = 0\n",
    "#ForLoop main\n",
    "name_excel = 'shatristore_is_stock.xlsx'\n",
    "df = pd.read_excel('sku_stock.xlsx')\n",
    "for i, product in enumerate(links_products):\n",
    "\n",
    "    link_url = ''\n",
    "    series = None\n",
    "    \n",
    "    try:\n",
    "        print('***********************************************************')\n",
    "        print('Count:', i)\n",
    "        print('URl:', product)\n",
    "        driver.get(product)\n",
    "        time.sleep(0.5)\n",
    "        link_url = str(product)\n",
    "    except:\n",
    "        continue\n",
    "    \n",
    "#**********************************************************************\n",
    "#**********************************************************************\n",
    "\n",
    "    time.sleep(0.5)\n",
    "    try:\n",
    "        sku = driver.find_element_by_xpath('//div[@itemprop=\"sku\"]').text\n",
    "        sku = 'TRI'+ '-' +sku\n",
    "    except:\n",
    "        print('pas de produit')\n",
    "        continue\n",
    "    name = driver.find_element_by_xpath('//h1[@class=\"page-title\"]').text\n",
    "\n",
    "    name = driver.find_element_by_xpath('//h1[@class=\"page-title\"]').text\n",
    "    url_key = (f'{sku}-{name}').replace(',', '-').replace('*', '-').replace('،', '-').replace('/', '-').replace('%', '').replace('\"', '').strip()\n",
    "\n",
    "    is_in_stock = driver.find_element_by_xpath('//div[@class=\"product-info-stock-sku\"]//span').text\n",
    "# Description*********************************************************************************\n",
    "\n",
    "        #         list_input_images2.append(t)\n",
    "#*******************************************************\n",
    "\n",
    "#*******************************************************\n",
    "    \n",
    "    series = pd.Series([sku,\n",
    "                       \n",
    "                        name,\n",
    "                        \n",
    "                        link_url,\n",
    "                        \n",
    "                        is_in_stock,\n",
    "                        \n",
    "\n",
    "                        ],  index=df.columns)\n",
    "    #df.append(df1)\n",
    "    df = df.append(series, ignore_index=True)\n",
    "    df.to_excel( f'{name_excel}', index = False)"
   ]
  },
  {
   "cell_type": "code",
   "execution_count": 40,
   "id": "9ddef47b",
   "metadata": {},
   "outputs": [],
   "source": [
    "driver.get('https://www.sagebrookhome.com/15520-s-2-10-12-bowl-with-handles-gold/')"
   ]
  },
  {
   "cell_type": "markdown",
   "id": "3a1f4268",
   "metadata": {},
   "source": [
    "# Debut de la fonction"
   ]
  },
  {
   "cell_type": "code",
   "execution_count": null,
   "id": "14f4125f",
   "metadata": {
    "scrolled": true
   },
   "outputs": [
    {
     "name": "stdout",
     "output_type": "stream",
     "text": [
      "***********************************************************\n",
      "Count: 0\n",
      "URl: https://shatristore.com/ar/heating-and-cooling/%D9%83%D9%88%D9%84%D9%8A%D9%86-%D9%85%D8%B1%D9%88%D8%AD%D9%87-%D8%B9%D9%85%D9%88%D8%AF%D9%8A%D8%A9-%D8%B1%D8%B0%D8%A7%D8%B0-16-%D8%A7%D9%86%D8%B4-%D8%A7%D8%AD%D9%85%D8%B1\n",
      "Cat1: اجهزة التكييف\n",
      "Cat2: المراوح\n",
      "Cat3: \n",
      "2\n",
      "len list images 2\n",
      "Sku: TRI-55563\n",
      "Title: كولين مروحه عمودية رذاذ 16 انش - احمر\n",
      "Price: 470.00\n",
      "Price old: 319.00\n",
      "Description: -\n",
      "Colors: \n",
      "Matter: \n",
      "URl: https://shatristore.com/ar/heating-and-cooling/%D9%83%D9%88%D9%84%D9%8A%D9%86-%D9%85%D8%B1%D9%88%D8%AD%D9%87-%D8%B9%D9%85%D9%88%D8%AF%D9%8A%D8%A9-%D8%B1%D8%B0%D8%A7%D8%B0-16-%D8%A7%D9%86%D8%B4-%D8%A7%D8%AD%D9%85%D8%B1\n",
      "Image add https://shatristore.com/pub/media/catalog/product/cache/2e24353f833bba322b482bccad1c1fdf/k/o/koolen_red.jpg,https://shatristore.com/pub/media/catalog/product/cache/2e24353f833bba322b482bccad1c1fdf/k/o/koolen_red-2.jpg\n",
      "***********************************************************\n",
      "Count: 1\n",
      "URl: https://shatristore.com/ar/heating-and-cooling/%D9%83%D9%88%D9%84%D9%8A%D9%86-%D9%85%D8%B1%D9%88%D8%AD%D9%87-%D8%B9%D9%85%D9%88%D8%AF%D9%8A%D8%A9-%D8%B1%D8%B0%D8%A7%D8%B0-16-%D8%A7%D9%86%D8%B4-%D8%A7%D8%B3%D9%88%D8%AF\n"
     ]
    }
   ],
   "source": [
    "now = datetime.now()\n",
    "dt_string = now.strftime(\"%d-%m-%Y-%H-%M-%S\")\n",
    "count = 0\n",
    "#ForLoop main\n",
    "name_excel = 'shatristore_update_wind_03_10_2012.xlsx'\n",
    "df = pd.read_excel('/home/wafistos/Documents/Projects/scaping_wafi/shatristore/categories/Model of Shatri.xlsx')\n",
    "for i, product in enumerate(links_products):\n",
    "\n",
    "    link_url = ''\n",
    "    series = None\n",
    "    \n",
    "    try:\n",
    "        print('***********************************************************')\n",
    "        print('Count:', i)\n",
    "        print('URl:', product)\n",
    "        driver.get(product)\n",
    "        time.sleep(0.5)\n",
    "        link_url = str(product)\n",
    "    except:\n",
    "        continue\n",
    "    \n",
    "#**********************************************************************\n",
    "#**********************************************************************\n",
    "\n",
    "    time.sleep(1)\n",
    "    try:\n",
    "        sku = driver.find_element_by_xpath('//div[@itemprop=\"sku\"]').text\n",
    "        sku = 'TRI'+ '-' +sku\n",
    "    except:\n",
    "        print('pas de produit')\n",
    "        continue\n",
    "    name = driver.find_element_by_xpath('//h1[@class=\"page-title\"]').text\n",
    "    cats = driver.find_elements_by_xpath('//div[@class=\"breadcrumbs\"]//li')\n",
    "    try:\n",
    "        categories1 =  cats[1].text\n",
    "    except:\n",
    "        categories1 = ''\n",
    "    try:\n",
    "        categories2 =  cats[2].text\n",
    "    except:\n",
    "        categories2 = ''\n",
    "    try:\n",
    "        categories3 =  cats[3].text\n",
    "        if categories3 == name:\n",
    "            categories3 = ''\n",
    "    except:\n",
    "        categories3 = ''\n",
    "    print('Cat1:', categories1)\n",
    "    print('Cat2:', categories2)\n",
    "    print('Cat3:', categories3)\n",
    "    name = driver.find_element_by_xpath('//h1[@class=\"page-title\"]').text\n",
    "    url_key = (f'{sku}-{name}').replace(',', '-').replace('*', '-').replace('،', '-').replace('/', '-').replace('%', '').replace('\"', '').strip()\n",
    "    \n",
    "    special_price = driver.find_element_by_xpath('//span[@class=\"special-price\"]').text.replace('Now:', '').replace('ريال', '').replace('\\n', '').strip()\n",
    "    try:\n",
    "        price =  driver.find_element_by_xpath('//span[@class=\"old-price\"]').text.replace(':', '').replace('قبل', '').replace('ريال', '').replace('\\n', '').strip()\n",
    "    except:\n",
    "        continue\n",
    "    is_in_stock = driver.find_element_by_xpath('//div[@class=\"product-info-stock-sku\"]//span').text\n",
    "# Description*********************************************************************************\n",
    "    time.sleep(0.5)\n",
    "    n_scrolls = 1\n",
    "#     for j in range(0, n_scrolls):\n",
    "#         driver.execute_script(\"window.scrollTo(0, document.body.scrollHeight);\")\n",
    "#         time.sleep(0.5)\n",
    "    click_details = driver.find_element_by_id(\"tab-label-additional-title\")\n",
    "#     driver.execute_script(\"arguments[0].click();\", click_details)\n",
    "    click_details.click()\n",
    "    details_ele = driver.find_element_by_xpath('//div[@id=\"additional\"]')\n",
    "    details = details_ele.text.split('\\n')\n",
    "    \n",
    "#*****************************************************************************************************    \n",
    "\n",
    "    try:\n",
    "        usb = driver.find_element_by_xpath('//th[contains(text(),\"يو اس بي\")]/following-sibling::td').text.strip()\n",
    "    except:\n",
    "        usb = ''\n",
    "    try:\n",
    "        with_wifi = driver.find_element_by_xpath('//th[contains(text(),\"واي فاي\")]/following-sibling::td').text.strip()\n",
    "    except:\n",
    "        with_wifi = ''\n",
    "        \n",
    "    try:\n",
    "        guarantee = driver.find_element_by_xpath('//th[contains(text(),\"الضمان\")]/following-sibling::td').text.strip()\n",
    "    except:\n",
    "        guarantee = ''\n",
    "    try:\n",
    "        HDMI = driver.find_element_by_xpath('//th[contains(text(),\"HDMI\")]/following-sibling::td').text.strip()\n",
    "    except:\n",
    "        HDMI = ''\n",
    "    try:\n",
    "        screen_resolution = driver.find_element_by_xpath('//th[contains(text(),\"دقة الشاشة\")]/following-sibling::td').text.strip()\n",
    "    except:\n",
    "        screen_resolution = ''\n",
    "    try:\n",
    "        screen_system = driver.find_element_by_xpath('//th[contains(text(),\"نظام الشاشة\")]/following-sibling::td').text.strip()\n",
    "    except:\n",
    "        screen_system = ''\n",
    "    try:\n",
    "        with_base = driver.find_element_by_xpath('//th[contains(text(),\"المقاس\")]/following-sibling::td').text.strip()\n",
    "    except:\n",
    "        with_base = ''\n",
    "    try:\n",
    "        size = driver.find_element_by_xpath('//th[contains(text(),\"المقاس\")]/following-sibling::td').text.strip()\n",
    "    except:\n",
    "        size = ''\n",
    "    \n",
    "    \n",
    "    \n",
    "    \n",
    "         \n",
    "\n",
    "    raw_materials = ''\n",
    " \n",
    "    #*****************************************************************************************************    \n",
    "    try:\n",
    "        pipes =  driver.find_element_by_xpath('//th[contains(text(),\"مع مواسير\")]/following-sibling::td').text.strip()\n",
    "    except:\n",
    "        pipes = ''\n",
    "     \n",
    "    #*\n",
    "\n",
    "    #*****************************************************************************************************    \n",
    "    try:\n",
    "        barcode =  driver.find_element_by_xpath('//th[contains(text(),\"الموديل\")]/following-sibling::td').text.strip()\n",
    "    except:\n",
    "        barcode = ''\n",
    "     \n",
    "    #*****************************************************************************************************   \n",
    "\n",
    "        #*****************************************************************************************************    \n",
    "    try:\n",
    "        attr_241fea66 =  driver.find_element_by_xpath('//th[contains(text(),\"سعة الثلاجة\")]/following-sibling::td').text.strip()\n",
    "    except:\n",
    "        attr_241fea66 = ''\n",
    "     \n",
    "    #*****************************************************************************************************   \n",
    "    \n",
    "    #*****************************************************************************************************    \n",
    "    try:\n",
    "        hot_and_cold = driver.find_element_by_xpath('//th[contains(text(),\"حار وبارد\")]/following-sibling::td').text.strip()\n",
    "    except:\n",
    "        hot_and_cold = ''\n",
    "     \n",
    "    #*****************************************************************************************************   \n",
    "    try:\n",
    "        weight = driver.find_element_by_xpath('//th[contains(text(),\"المقاس\")]/following-sibling::td').text.strip()\n",
    "    except:\n",
    "        weight = ''\n",
    "    \n",
    "    \n",
    "#*****************************************************************************************************    \n",
    "    try:\n",
    "        with_controller = driver.find_element_by_xpath('//th[contains(text(),\"مع جهاز تحكم\")]/following-sibling::td').text.strip()\n",
    "    except:\n",
    "        with_controller = ''\n",
    "     \n",
    "    #*****************************************************************************************************   \n",
    "    \n",
    "    #*****************************************************************************************************    \n",
    "    try:\n",
    "        type_ =  driver.find_element_by_xpath('//th[contains(text(),\"النوع\")]/following-sibling::td').text.strip()\n",
    "    except:\n",
    "        type_ = ''\n",
    "     \n",
    "    #*****************************************************************************************************    \n",
    "    try:\n",
    "        free_colors =  driver.find_element_by_xpath('//th[contains(text(),\"اللون\")]/following-sibling::td').text.strip()\n",
    "    except:\n",
    "        free_colors = ''\n",
    "# free_colors = details[4].text.replace('Color Family:', '').strip()\n",
    "    #*****************************************************************************************************    \n",
    "    try:\n",
    "        water_loading_type =  driver.find_element_by_xpath('//th[contains(text(),\"نوع تحميل الماء\")]/following-sibling::td').text.strip()\n",
    "    except:\n",
    "        water_loading_type = ''\n",
    "#*****************************************************************************************************   \n",
    "    try:\n",
    "        hertz = driver.find_element_by_xpath('//th[contains(text(),\"التردد الكهربائي\")]/following-sibling::td').text.replace('هيرتز', '').strip()\n",
    "    except:\n",
    "        hertz = ''\n",
    "#*****************************************************************************************************   \n",
    "    try:\n",
    "        voltage = driver.find_element_by_xpath('//th[contains(text(),\"الجهد الكهربائي\")]/following-sibling::td').text.replace('فولت', '').strip()\n",
    "    except:\n",
    "        voltage\n",
    "#*****************************************************************************************************   \n",
    "    try:\n",
    "        power = driver.find_element_by_xpath('//th[contains(text(),\"القوة الكهربائية\")]/following-sibling::td').text.replace('واط', '').strip()\n",
    "    except:\n",
    "        power = ''\n",
    "#*****************************************************************************************************   \n",
    "    try:\n",
    "        brands = driver.find_element_by_xpath('//th[contains(text(),\"علامة تجارية\")]/following-sibling::td').text\n",
    "    except:\n",
    "        brands = ''\n",
    "# ********************************************************************************\n",
    "    try:\n",
    "        products_size = [fo for fo in details if 'الابعاد' in fo][0].replace('الابعاد', '').replace('CM', '').replace('cm', '').strip()\n",
    "    except:\n",
    "        products_size = ''       \n",
    "# *********************************************************************************\n",
    "    try:\n",
    "        manufacturer = driver.find_element_by_xpath('//th[contains(text(),\"بلد الصنع\")]/following-sibling::td').text.replace('صنع', '').replace('في', '').strip()\n",
    "    except:\n",
    "        manufacturer = 'مستوردة'\n",
    "\n",
    "# *********************************************************************************   \n",
    "    estimated_delivery_text1 = driver.find_elements_by_class_name('widedelivery-container')[0].text\n",
    "    estimated_delivery_text2 = driver.find_elements_by_class_name('widedelivery-container')[1].text\n",
    "    estimated_delivery_text = estimated_delivery_text1  + ' - ' + estimated_delivery_text2 \n",
    "\n",
    "\n",
    "\n",
    "# Description*********************************************************************************\n",
    "    try:\n",
    "        tp = [fo for fo in details if 'النوع' in fo][0].replace('النوع', '')\n",
    "    \n",
    "    except:\n",
    "        tp = ''\n",
    "    try:\n",
    "        size = [fo for fo in details if 'المقاس ' in fo][0].replace('المقاس ', '')\n",
    "        \n",
    "    except:\n",
    "        size = ''\n",
    "        \n",
    "    \n",
    "    description =  tp + '-' + size\n",
    "    if description == '':\n",
    "        description = short_description\n",
    "    \n",
    "    short_description = name\n",
    "\n",
    "# brand*********************************************************************************\n",
    "    try:\n",
    "        mgs_brand = driver.find_element_by_xpath('//div[@class=\"product-brand-logo\"]/a/img').get_attribute('title')\n",
    "        brand_image = driver.find_element_by_xpath('//div[@class=\"product-brand-logo\"]/a/img').get_attribute('src')\n",
    "    except:\n",
    "        mgs_brand = ''\n",
    "        brand_image = ''\n",
    "# Images*********************************************************************************\n",
    "#     time.sleep(1)\n",
    "    try:\n",
    "        image = driver.find_element_by_class_name('fotorama__img').get_attribute('src')\n",
    "    except:\n",
    "        driver.get(product)\n",
    "        time.sleep(1)\n",
    "        image = driver.find_element_by_class_name('fotorama__img').get_attribute('src')\n",
    "    list_images = []\n",
    "    flot_imgs = driver.find_elements_by_xpath('//div[@class=\"fotorama__stage__shaft fotorama__grab\"]//img')\n",
    "    print(len(flot_imgs))\n",
    "    for img in flot_imgs:\n",
    "\n",
    "        list_images.append(img.get_attribute('src'))\n",
    "#         time.sleep(1)\n",
    "        \n",
    "            \n",
    "    print('len list images',len(list_images))\n",
    "    base_image = image\n",
    "    small_image = image\n",
    "    swatch_image = image\n",
    "    thumbnail_image = image\n",
    "#************************************************************************** \n",
    "    print('Sku:', sku)\n",
    "    print('Title:', name)\n",
    "    print('Price:', price)\n",
    "    print('Price old:',special_price)\n",
    "    print('Description:',description)\n",
    "    print('Colors:',free_colors)\n",
    "    print('Matter:',raw_materials)\n",
    "#     print('Size:',Dimensions)\n",
    "    \n",
    "    print('URl:',link_url)\n",
    "    \n",
    "        \n",
    "    timage = ','.join(list_images)\n",
    "#         list_input_images2.append(timage)\n",
    "    print('Image add',timage)\n",
    "    \n",
    "\n",
    "    additional_images = timage\n",
    "        #         list_input_images2.append(t)\n",
    "#*******************************************************\n",
    "    two_month = datetime.now() + timedelta(days=60)\n",
    "    two_month = two_month.strftime(\"%m/%d/%Y\")\n",
    "    today = datetime.today().strftime(\"%m/%d/%Y\")\n",
    "#*******************************************************\n",
    "    \n",
    "    series = pd.Series([sku,\n",
    "                        '', # store_view_code\n",
    "                        '', # attribute_set_code\n",
    "                        '', # product_websites\n",
    "                        tp, # product_type\n",
    "                        name,\n",
    "                        description,\n",
    "                         short_description,\n",
    "                         url_key,\n",
    "                        link_url,\n",
    "                        '',#cost\n",
    "                        price ,\n",
    "                        special_price,\n",
    "                         categories1,\n",
    "                         categories2,\n",
    "                         categories3,\n",
    "                        '',# categories\n",
    "                         free_colors,\n",
    "                        raw_materials,\n",
    "                        weight,\n",
    "                        power,\n",
    "                        voltage,\n",
    "                        hertz,\n",
    "                        size,\n",
    "                        water_loading_type,\n",
    "                        \n",
    "                        pipes,\n",
    "                        models,\n",
    "                        hot_and_cold,\n",
    "                        attr_241fea66,\n",
    "                        with_controller,\n",
    "                        barcode,\n",
    "                        type_,\n",
    "                        \n",
    "                        usb,\n",
    "                        with_wifi,\n",
    "                        guarantee,\n",
    "                        HDMI,\n",
    "                        screen_resolution,\n",
    "                        screen_system,\n",
    "                        with_base,\n",
    "                        \n",
    "                        \n",
    "                        products_size,\n",
    "                        mgs_brand,\n",
    "                         base_image,\n",
    "                         small_image,\n",
    "                         swatch_image,\n",
    "                         thumbnail_image,\n",
    "                         additional_images ,\n",
    "                        is_in_stock,\n",
    "                        'product_online', \n",
    "                        0,\n",
    "                        -5,\n",
    "                        is_in_stock,\n",
    "                        'Catalog, Search',\n",
    "                        'Taxable Goods',\n",
    "                        manufacturer,\n",
    "                         today,\n",
    "                         two_month,\n",
    "                         '', # news_to_date\testimated_delivery_enable\n",
    "                         estimated_delivery_text, # estimated_delivery_text\n",
    "                         ' TRI',\n",
    "\n",
    "                        ],  index=df.columns)\n",
    "    #df.append(df1)\n",
    "    df = df.append(series, ignore_index=True)\n",
    "    df.to_excel( f'{name_excel}', index = False)\n"
   ]
  },
  {
   "cell_type": "code",
   "execution_count": 99,
   "id": "b3588698",
   "metadata": {},
   "outputs": [
    {
     "data": {
      "text/plain": [
       "'https://shatristore.com/pub/media/catalog/product/cache/2e24353f833bba322b482bccad1c1fdf/a/l/al7300.png'"
      ]
     },
     "execution_count": 99,
     "metadata": {},
     "output_type": "execute_result"
    }
   ],
   "source": [
    "image = driver.find_element_by_class_name('fotorama__img').get_attribute('src')\n",
    "image"
   ]
  },
  {
   "cell_type": "code",
   "execution_count": 25,
   "id": "7f598c74",
   "metadata": {},
   "outputs": [],
   "source": [
    "df = pd.read_excel('/home/wafistos/Documents/Projects/scaping_wafi/shatristore/shatristore_test.xlsx')"
   ]
  },
  {
   "cell_type": "code",
   "execution_count": 26,
   "id": "4608bd60",
   "metadata": {},
   "outputs": [],
   "source": [
    "df.loc[df['name'] == df['categories3'], 'categories3'] = ''"
   ]
  },
  {
   "cell_type": "code",
   "execution_count": 27,
   "id": "feb6f665",
   "metadata": {},
   "outputs": [
    {
     "data": {
      "text/plain": [
       "0     NaN\n",
       "1     NaN\n",
       "2     NaN\n",
       "3     NaN\n",
       "4     NaN\n",
       "     ... \n",
       "58    NaN\n",
       "59    NaN\n",
       "60    NaN\n",
       "61    NaN\n",
       "62    NaN\n",
       "Name: categories3, Length: 63, dtype: object"
      ]
     },
     "execution_count": 27,
     "metadata": {},
     "output_type": "execute_result"
    }
   ],
   "source": [
    "df['categories3']"
   ]
  },
  {
   "cell_type": "code",
   "execution_count": 28,
   "id": "1456e5c8",
   "metadata": {},
   "outputs": [],
   "source": [
    "df.to_excel('test_Shatristore.xlsx')"
   ]
  },
  {
   "cell_type": "code",
   "execution_count": 7,
   "id": "7f11b88a",
   "metadata": {},
   "outputs": [],
   "source": [
    "df = None"
   ]
  },
  {
   "cell_type": "code",
   "execution_count": 183,
   "id": "3759b800",
   "metadata": {},
   "outputs": [
    {
     "ename": "NoSuchElementException",
     "evalue": "Message: Unable to locate element: //th[contains(text(),\"نظام الشاشة\")]/following-sibling::td\n",
     "output_type": "error",
     "traceback": [
      "\u001b[0;31m---------------------------------------------------------------------------\u001b[0m",
      "\u001b[0;31mNoSuchElementException\u001b[0m                    Traceback (most recent call last)",
      "\u001b[0;32m<ipython-input-183-eec0f0710587>\u001b[0m in \u001b[0;36m<module>\u001b[0;34m\u001b[0m\n\u001b[0;32m----> 1\u001b[0;31m \u001b[0mscreen_system\u001b[0m \u001b[0;34m=\u001b[0m \u001b[0mdriver\u001b[0m\u001b[0;34m.\u001b[0m\u001b[0mfind_element_by_xpath\u001b[0m\u001b[0;34m(\u001b[0m\u001b[0;34m'//th[contains(text(),\"نظام الشاشة\")]/following-sibling::td'\u001b[0m\u001b[0;34m)\u001b[0m\u001b[0;34m.\u001b[0m\u001b[0mtext\u001b[0m\u001b[0;34m.\u001b[0m\u001b[0mstrip\u001b[0m\u001b[0;34m(\u001b[0m\u001b[0;34m)\u001b[0m\u001b[0;34m\u001b[0m\u001b[0;34m\u001b[0m\u001b[0m\n\u001b[0m\u001b[1;32m      2\u001b[0m \u001b[0mscreen_system\u001b[0m\u001b[0;34m\u001b[0m\u001b[0;34m\u001b[0m\u001b[0m\n",
      "\u001b[0;32m~/anaconda3/lib/python3.8/site-packages/selenium/webdriver/remote/webdriver.py\u001b[0m in \u001b[0;36mfind_element_by_xpath\u001b[0;34m(self, xpath)\u001b[0m\n\u001b[1;32m    392\u001b[0m             \u001b[0melement\u001b[0m \u001b[0;34m=\u001b[0m \u001b[0mdriver\u001b[0m\u001b[0;34m.\u001b[0m\u001b[0mfind_element_by_xpath\u001b[0m\u001b[0;34m(\u001b[0m\u001b[0;34m'//div/td[1]'\u001b[0m\u001b[0;34m)\u001b[0m\u001b[0;34m\u001b[0m\u001b[0;34m\u001b[0m\u001b[0m\n\u001b[1;32m    393\u001b[0m         \"\"\"\n\u001b[0;32m--> 394\u001b[0;31m         \u001b[0;32mreturn\u001b[0m \u001b[0mself\u001b[0m\u001b[0;34m.\u001b[0m\u001b[0mfind_element\u001b[0m\u001b[0;34m(\u001b[0m\u001b[0mby\u001b[0m\u001b[0;34m=\u001b[0m\u001b[0mBy\u001b[0m\u001b[0;34m.\u001b[0m\u001b[0mXPATH\u001b[0m\u001b[0;34m,\u001b[0m \u001b[0mvalue\u001b[0m\u001b[0;34m=\u001b[0m\u001b[0mxpath\u001b[0m\u001b[0;34m)\u001b[0m\u001b[0;34m\u001b[0m\u001b[0;34m\u001b[0m\u001b[0m\n\u001b[0m\u001b[1;32m    395\u001b[0m \u001b[0;34m\u001b[0m\u001b[0m\n\u001b[1;32m    396\u001b[0m     \u001b[0;32mdef\u001b[0m \u001b[0mfind_elements_by_xpath\u001b[0m\u001b[0;34m(\u001b[0m\u001b[0mself\u001b[0m\u001b[0;34m,\u001b[0m \u001b[0mxpath\u001b[0m\u001b[0;34m)\u001b[0m\u001b[0;34m:\u001b[0m\u001b[0;34m\u001b[0m\u001b[0;34m\u001b[0m\u001b[0m\n",
      "\u001b[0;32m~/anaconda3/lib/python3.8/site-packages/selenium/webdriver/remote/webdriver.py\u001b[0m in \u001b[0;36mfind_element\u001b[0;34m(self, by, value)\u001b[0m\n\u001b[1;32m    974\u001b[0m                 \u001b[0mby\u001b[0m \u001b[0;34m=\u001b[0m \u001b[0mBy\u001b[0m\u001b[0;34m.\u001b[0m\u001b[0mCSS_SELECTOR\u001b[0m\u001b[0;34m\u001b[0m\u001b[0;34m\u001b[0m\u001b[0m\n\u001b[1;32m    975\u001b[0m                 \u001b[0mvalue\u001b[0m \u001b[0;34m=\u001b[0m \u001b[0;34m'[name=\"%s\"]'\u001b[0m \u001b[0;34m%\u001b[0m \u001b[0mvalue\u001b[0m\u001b[0;34m\u001b[0m\u001b[0;34m\u001b[0m\u001b[0m\n\u001b[0;32m--> 976\u001b[0;31m         return self.execute(Command.FIND_ELEMENT, {\n\u001b[0m\u001b[1;32m    977\u001b[0m             \u001b[0;34m'using'\u001b[0m\u001b[0;34m:\u001b[0m \u001b[0mby\u001b[0m\u001b[0;34m,\u001b[0m\u001b[0;34m\u001b[0m\u001b[0;34m\u001b[0m\u001b[0m\n\u001b[1;32m    978\u001b[0m             'value': value})['value']\n",
      "\u001b[0;32m~/anaconda3/lib/python3.8/site-packages/selenium/webdriver/remote/webdriver.py\u001b[0m in \u001b[0;36mexecute\u001b[0;34m(self, driver_command, params)\u001b[0m\n\u001b[1;32m    319\u001b[0m         \u001b[0mresponse\u001b[0m \u001b[0;34m=\u001b[0m \u001b[0mself\u001b[0m\u001b[0;34m.\u001b[0m\u001b[0mcommand_executor\u001b[0m\u001b[0;34m.\u001b[0m\u001b[0mexecute\u001b[0m\u001b[0;34m(\u001b[0m\u001b[0mdriver_command\u001b[0m\u001b[0;34m,\u001b[0m \u001b[0mparams\u001b[0m\u001b[0;34m)\u001b[0m\u001b[0;34m\u001b[0m\u001b[0;34m\u001b[0m\u001b[0m\n\u001b[1;32m    320\u001b[0m         \u001b[0;32mif\u001b[0m \u001b[0mresponse\u001b[0m\u001b[0;34m:\u001b[0m\u001b[0;34m\u001b[0m\u001b[0;34m\u001b[0m\u001b[0m\n\u001b[0;32m--> 321\u001b[0;31m             \u001b[0mself\u001b[0m\u001b[0;34m.\u001b[0m\u001b[0merror_handler\u001b[0m\u001b[0;34m.\u001b[0m\u001b[0mcheck_response\u001b[0m\u001b[0;34m(\u001b[0m\u001b[0mresponse\u001b[0m\u001b[0;34m)\u001b[0m\u001b[0;34m\u001b[0m\u001b[0;34m\u001b[0m\u001b[0m\n\u001b[0m\u001b[1;32m    322\u001b[0m             response['value'] = self._unwrap_value(\n\u001b[1;32m    323\u001b[0m                 response.get('value', None))\n",
      "\u001b[0;32m~/anaconda3/lib/python3.8/site-packages/selenium/webdriver/remote/errorhandler.py\u001b[0m in \u001b[0;36mcheck_response\u001b[0;34m(self, response)\u001b[0m\n\u001b[1;32m    240\u001b[0m                 \u001b[0malert_text\u001b[0m \u001b[0;34m=\u001b[0m \u001b[0mvalue\u001b[0m\u001b[0;34m[\u001b[0m\u001b[0;34m'alert'\u001b[0m\u001b[0;34m]\u001b[0m\u001b[0;34m.\u001b[0m\u001b[0mget\u001b[0m\u001b[0;34m(\u001b[0m\u001b[0;34m'text'\u001b[0m\u001b[0;34m)\u001b[0m\u001b[0;34m\u001b[0m\u001b[0;34m\u001b[0m\u001b[0m\n\u001b[1;32m    241\u001b[0m             \u001b[0;32mraise\u001b[0m \u001b[0mexception_class\u001b[0m\u001b[0;34m(\u001b[0m\u001b[0mmessage\u001b[0m\u001b[0;34m,\u001b[0m \u001b[0mscreen\u001b[0m\u001b[0;34m,\u001b[0m \u001b[0mstacktrace\u001b[0m\u001b[0;34m,\u001b[0m \u001b[0malert_text\u001b[0m\u001b[0;34m)\u001b[0m\u001b[0;34m\u001b[0m\u001b[0;34m\u001b[0m\u001b[0m\n\u001b[0;32m--> 242\u001b[0;31m         \u001b[0;32mraise\u001b[0m \u001b[0mexception_class\u001b[0m\u001b[0;34m(\u001b[0m\u001b[0mmessage\u001b[0m\u001b[0;34m,\u001b[0m \u001b[0mscreen\u001b[0m\u001b[0;34m,\u001b[0m \u001b[0mstacktrace\u001b[0m\u001b[0;34m)\u001b[0m\u001b[0;34m\u001b[0m\u001b[0;34m\u001b[0m\u001b[0m\n\u001b[0m\u001b[1;32m    243\u001b[0m \u001b[0;34m\u001b[0m\u001b[0m\n\u001b[1;32m    244\u001b[0m     \u001b[0;32mdef\u001b[0m \u001b[0m_value_or_default\u001b[0m\u001b[0;34m(\u001b[0m\u001b[0mself\u001b[0m\u001b[0;34m,\u001b[0m \u001b[0mobj\u001b[0m\u001b[0;34m,\u001b[0m \u001b[0mkey\u001b[0m\u001b[0;34m,\u001b[0m \u001b[0mdefault\u001b[0m\u001b[0;34m)\u001b[0m\u001b[0;34m:\u001b[0m\u001b[0;34m\u001b[0m\u001b[0;34m\u001b[0m\u001b[0m\n",
      "\u001b[0;31mNoSuchElementException\u001b[0m: Message: Unable to locate element: //th[contains(text(),\"نظام الشاشة\")]/following-sibling::td\n"
     ]
    }
   ],
   "source": [
    "screen_system = driver.find_element_by_xpath('//th[contains(text(),\"نظام الشاشة\")]/following-sibling::td').text.strip()\n",
    "screen_system"
   ]
  },
  {
   "cell_type": "code",
   "execution_count": null,
   "id": "4c37fa8a",
   "metadata": {},
   "outputs": [],
   "source": []
  },
  {
   "cell_type": "code",
   "execution_count": 13,
   "id": "46df2486",
   "metadata": {},
   "outputs": [],
   "source": [
    "click_details = driver.find_element_by_id(\"tab-label-additional-title\")\n",
    "click_details.click()"
   ]
  },
  {
   "cell_type": "code",
   "execution_count": null,
   "id": "f7e77e3b",
   "metadata": {},
   "outputs": [],
   "source": []
  },
  {
   "cell_type": "code",
   "execution_count": 177,
   "id": "3c13f8fe",
   "metadata": {},
   "outputs": [
    {
     "name": "stdout",
     "output_type": "stream",
     "text": [
      "len list images 1\n"
     ]
    }
   ],
   "source": [
    "list_images = []\n",
    "images = driver.find_elements_by_xpath('//a[@class=\"mz-thumb\"]')\n",
    "if len(images) > 0:\n",
    "    for img in images:\n",
    "        time.sleep(0.8)\n",
    "        driver.execute_script(\"arguments[0].click();\", img)\n",
    "        toto = driver.find_element_by_xpath('//figure/img')\n",
    "\n",
    "        list_images.append(toto.get_attribute('src').split('?')[0])\n",
    "else:\n",
    "    try:\n",
    "        images2 = driver.find_element_by_id('itemimage')\n",
    "        list_images.append(images2.get_attribute('src').split('?')[0])\n",
    "    except:\n",
    "        pass\n",
    "        \n",
    "            \n",
    "print('len list images',len(list_images))"
   ]
  },
  {
   "cell_type": "code",
   "execution_count": 184,
   "id": "5c74fffe",
   "metadata": {},
   "outputs": [
    {
     "ename": "IndexError",
     "evalue": "list index out of range",
     "output_type": "error",
     "traceback": [
      "\u001b[0;31m---------------------------------------------------------------------------\u001b[0m",
      "\u001b[0;31mIndexError\u001b[0m                                Traceback (most recent call last)",
      "\u001b[0;32m<ipython-input-184-d054465e1704>\u001b[0m in \u001b[0;36m<module>\u001b[0;34m\u001b[0m\n\u001b[1;32m      1\u001b[0m \u001b[0mclick_other\u001b[0m \u001b[0;34m=\u001b[0m \u001b[0mdriver\u001b[0m\u001b[0;34m.\u001b[0m\u001b[0mfind_elements_by_class_name\u001b[0m\u001b[0;34m(\u001b[0m\u001b[0;34m'product-tab-heading'\u001b[0m\u001b[0;34m)\u001b[0m\u001b[0;34m\u001b[0m\u001b[0;34m\u001b[0m\u001b[0m\n\u001b[0;32m----> 2\u001b[0;31m \u001b[0mclick_other\u001b[0m\u001b[0;34m[\u001b[0m\u001b[0;36m3\u001b[0m\u001b[0;34m]\u001b[0m\u001b[0;34m.\u001b[0m\u001b[0mclick\u001b[0m\u001b[0;34m(\u001b[0m\u001b[0;34m)\u001b[0m\u001b[0;34m\u001b[0m\u001b[0;34m\u001b[0m\u001b[0m\n\u001b[0m\u001b[1;32m      3\u001b[0m \u001b[0mdetails\u001b[0m \u001b[0;34m=\u001b[0m \u001b[0mdriver\u001b[0m\u001b[0;34m.\u001b[0m\u001b[0mfind_elements_by_xpath\u001b[0m\u001b[0;34m(\u001b[0m\u001b[0;34m'//div[@data-tab-class=\"OtherDetails\"]/p'\u001b[0m\u001b[0;34m)\u001b[0m\u001b[0;34m\u001b[0m\u001b[0;34m\u001b[0m\u001b[0m\n\u001b[1;32m      4\u001b[0m \u001b[0mfree_colors\u001b[0m \u001b[0;34m=\u001b[0m \u001b[0;34m''\u001b[0m\u001b[0;34m\u001b[0m\u001b[0;34m\u001b[0m\u001b[0m\n\u001b[1;32m      5\u001b[0m \u001b[0;32mfor\u001b[0m \u001b[0mdet\u001b[0m \u001b[0;32min\u001b[0m \u001b[0mdetails\u001b[0m\u001b[0;34m:\u001b[0m\u001b[0;34m\u001b[0m\u001b[0;34m\u001b[0m\u001b[0m\n",
      "\u001b[0;31mIndexError\u001b[0m: list index out of range"
     ]
    }
   ],
   "source": [
    "click_other = driver.find_elements_by_class_name('product-tab-heading')\n",
    "click_other[3].click()\n",
    "details = driver.find_elements_by_xpath('//div[@data-tab-class=\"OtherDetails\"]/p')\n",
    "free_colors = ''\n",
    "for det in details:\n",
    "    if  'Color Family:' in det.text:\n",
    "        free_colors = det.text.replace('Color Family:', '').strip()"
   ]
  },
  {
   "cell_type": "code",
   "execution_count": null,
   "id": "a8bb9a25",
   "metadata": {},
   "outputs": [],
   "source": []
  },
  {
   "cell_type": "code",
   "execution_count": null,
   "id": "9a8178f9",
   "metadata": {},
   "outputs": [],
   "source": []
  },
  {
   "cell_type": "code",
   "execution_count": 133,
   "id": "26d09891",
   "metadata": {},
   "outputs": [],
   "source": [
    "driver.get('https://arthomefurnishings.com/shop/starlite-california-king-upholstered-panel-bed-with-storage/')"
   ]
  },
  {
   "cell_type": "code",
   "execution_count": 100,
   "id": "6d970833",
   "metadata": {},
   "outputs": [
    {
     "data": {
      "text/plain": [
       "'325.6'"
      ]
     },
     "execution_count": 100,
     "metadata": {},
     "output_type": "execute_result"
    }
   ],
   "source": [
    "weights = driver.find_element_by_xpath('//div[contains(text(),\"Weight:\")]').text.replace('Weight:', '').replace('.lbs', '').strip()\n",
    "\n",
    "weights"
   ]
  },
  {
   "cell_type": "code",
   "execution_count": 73,
   "id": "6a210f1f",
   "metadata": {},
   "outputs": [],
   "source": [
    "https://www.sagebrookhome.com/decorative-accessories/bowls-and-plates/"
   ]
  },
  {
   "cell_type": "code",
   "execution_count": 201,
   "id": "bf71b203",
   "metadata": {},
   "outputs": [
    {
     "name": "stdout",
     "output_type": "stream",
     "text": [
      "0\n",
      "len list images 0\n"
     ]
    }
   ],
   "source": [
    "list_images = []\n",
    "image = driver.find_element_by_class_name('fotorama__img').get_attribute('src')\n",
    "flot_imgs = driver.find_elements_by_xpath('//div[@class=\"fotorama__stage__shaft fotorama__grab\"]//img')\n",
    "print(len(flot_imgs))\n",
    "for img in flot_imgs:\n",
    "\n",
    "    list_images.append(img.get_attribute('src'))\n",
    "    time.sleep(2)\n",
    "\n",
    "\n",
    "print('len list images',len(list_images))"
   ]
  },
  {
   "cell_type": "markdown",
   "id": "b7d8d492",
   "metadata": {},
   "source": [
    "# Fin de la fonction"
   ]
  },
  {
   "cell_type": "code",
   "execution_count": 49,
   "id": "53a97f1e",
   "metadata": {},
   "outputs": [],
   "source": [
    "df.loc[df['special_price'] == 0, 'special_price'] = '__EMPTY__VALUE__'"
   ]
  },
  {
   "cell_type": "code",
   "execution_count": 50,
   "id": "ee125233",
   "metadata": {},
   "outputs": [],
   "source": [
    "driver.get('https://www.alrugaibfurniture.com/ar/collections/rugs/products/fusion-rug-blue-multi-colored')"
   ]
  },
  {
   "cell_type": "code",
   "execution_count": 51,
   "id": "5a71234a",
   "metadata": {},
   "outputs": [
    {
     "data": {
      "text/plain": [
       "3"
      ]
     },
     "execution_count": 51,
     "metadata": {},
     "output_type": "execute_result"
    }
   ],
   "source": [
    "list_products_other = driver.find_elements_by_class_name('block-swatch__item-text')\n",
    "len(list_products_other)"
   ]
  },
  {
   "cell_type": "code",
   "execution_count": 52,
   "id": "1933edf4",
   "metadata": {},
   "outputs": [],
   "source": [
    "list_products_other[0].click()"
   ]
  },
  {
   "cell_type": "markdown",
   "id": "3934b467",
   "metadata": {},
   "source": [
    "# Traitement"
   ]
  },
  {
   "cell_type": "code",
   "execution_count": 158,
   "id": "770e17a7",
   "metadata": {},
   "outputs": [],
   "source": [
    "df1 = pd.read_excel('/home/wafistos/Documents/Projects/scaping_wafi/shatristore/shatristore_update_12_09_2021.xlsx')\n",
    "df2 = pd.read_excel('/home/wafistos/Documents/Projects/scaping_wafi/shatristore/shatristore_update_12_09_2021_add1.xlsx')\n",
    "\n",
    "\n",
    "\n",
    "\n",
    "\n",
    "\n"
   ]
  },
  {
   "cell_type": "code",
   "execution_count": 159,
   "id": "e37621fb",
   "metadata": {},
   "outputs": [],
   "source": [
    "df = pd.concat([df1, df2], ignore_index=True)"
   ]
  },
  {
   "cell_type": "code",
   "execution_count": 99,
   "id": "ce831eb5",
   "metadata": {},
   "outputs": [],
   "source": [
    "df.drop_duplicates(subset=['sku'], inplace=True)"
   ]
  },
  {
   "cell_type": "code",
   "execution_count": 100,
   "id": "dd3c6391",
   "metadata": {},
   "outputs": [
    {
     "data": {
      "text/plain": [
       "(824, 42)"
      ]
     },
     "execution_count": 100,
     "metadata": {},
     "output_type": "execute_result"
    }
   ],
   "source": [
    "df.shape"
   ]
  },
  {
   "cell_type": "code",
   "execution_count": 94,
   "id": "a58e1ccf",
   "metadata": {},
   "outputs": [
    {
     "data": {
      "text/plain": [
       "Index(['sku', 'store_view_code', 'attribute_set_code', 'product_websites',\n",
       "       'product_type', 'name', 'description', 'short_description', 'url_key',\n",
       "       'link_url', 'cost', 'price', 'special_price', 'categories1',\n",
       "       'categories2', 'categories3', 'categories', 'free_colors',\n",
       "       'raw_materials', 'power', 'voltage', 'hertz', 'products_size',\n",
       "       'mgs_brand', 'base_image', 'small_image', 'swatch_image',\n",
       "       'thumbnail_image', 'additional_images', 'is_in_stock', 'product_online',\n",
       "       'qty', 'out_of_stock_qty', 'allow_backorders', 'visibility',\n",
       "       'tax_class_name', 'manufacturer', 'news_from_date', 'news_to_date',\n",
       "       'estimated_delivery_enable', 'estimated_delivery_text', 'supplier'],\n",
       "      dtype='object')"
      ]
     },
     "execution_count": 94,
     "metadata": {},
     "output_type": "execute_result"
    }
   ],
   "source": [
    "df.columns"
   ]
  },
  {
   "cell_type": "code",
   "execution_count": 993,
   "id": "41ddaca3",
   "metadata": {},
   "outputs": [],
   "source": [
    "df = pd.read_excel('/home/wafistos/Documents/Projects/scaping_wafi/shatristore/shatristore_update_frez_03_10_2012.xlsx')"
   ]
  },
  {
   "cell_type": "markdown",
   "id": "be4d8b57",
   "metadata": {},
   "source": [
    "# delevery"
   ]
  },
  {
   "cell_type": "code",
   "execution_count": 994,
   "id": "218ac7cc",
   "metadata": {},
   "outputs": [
    {
     "data": {
      "text/plain": [
       "(12, 59)"
      ]
     },
     "execution_count": 994,
     "metadata": {},
     "output_type": "execute_result"
    }
   ],
   "source": [
    "df.shape"
   ]
  },
  {
   "cell_type": "code",
   "execution_count": 1085,
   "id": "51a16e78",
   "metadata": {},
   "outputs": [],
   "source": [
    "df.loc[df['raw_materials'].isnull(), 'raw_materials'] =  '__EMPTY__VALUE__'"
   ]
  },
  {
   "cell_type": "code",
   "execution_count": 1086,
   "id": "315d7828",
   "metadata": {},
   "outputs": [
    {
     "data": {
      "text/plain": [
       "0    2,899.00\n",
       "1    2,949.00\n",
       "2    2,579.00\n",
       "3    1,999.00\n",
       "4    1,489.00\n",
       "Name: price, dtype: object"
      ]
     },
     "execution_count": 1086,
     "metadata": {},
     "output_type": "execute_result"
    }
   ],
   "source": [
    "df['price']"
   ]
  },
  {
   "cell_type": "code",
   "execution_count": 1177,
   "id": "177fe3cb",
   "metadata": {},
   "outputs": [],
   "source": [
    "df['price'] = df['price'].str.replace(',', '')"
   ]
  },
  {
   "cell_type": "code",
   "execution_count": 1178,
   "id": "17e372f1",
   "metadata": {},
   "outputs": [],
   "source": [
    "df['special_price'] = df['special_price'].str.replace(',', '')"
   ]
  },
  {
   "cell_type": "code",
   "execution_count": 1179,
   "id": "5cdd6102",
   "metadata": {},
   "outputs": [],
   "source": [
    "df['price'] = pd.to_numeric(df['price'])"
   ]
  },
  {
   "cell_type": "code",
   "execution_count": 1180,
   "id": "3269ec30",
   "metadata": {},
   "outputs": [],
   "source": [
    "df['special_price'] = pd.to_numeric(df['special_price'])"
   ]
  },
  {
   "cell_type": "code",
   "execution_count": 1181,
   "id": "59633f28",
   "metadata": {},
   "outputs": [],
   "source": [
    "df['cost'] = df['price']"
   ]
  },
  {
   "cell_type": "code",
   "execution_count": 1182,
   "id": "e0f464e2",
   "metadata": {},
   "outputs": [],
   "source": [
    "df['price'] = df['price'] * 1.20"
   ]
  },
  {
   "cell_type": "code",
   "execution_count": 1183,
   "id": "42409f69",
   "metadata": {},
   "outputs": [],
   "source": [
    "df['special_price'] = df['special_price'] * 1.20"
   ]
  },
  {
   "cell_type": "code",
   "execution_count": null,
   "id": "693ad17b",
   "metadata": {},
   "outputs": [],
   "source": []
  },
  {
   "cell_type": "code",
   "execution_count": 1184,
   "id": "58872eb9",
   "metadata": {},
   "outputs": [],
   "source": [
    "def toto_clean(name):\n",
    "    df[name] = df[name].str.replace('•', '-')\n",
    "    df[name] = df[name].str.replace(':', '-')\n",
    "    df[name] = df[name].str.replace('/', '-')\n",
    "    df[name] = df[name].str.replace('\"', '-')\n",
    "    df[name] = df[name].str.replace('%', '-')\n",
    "    df[name] = df[name].str.replace('&', '-')\n",
    "    df[name] = df[name].str.replace('?', '-', regex=False)\n",
    "    df[name] = df[name].str.replace('(', '-', regex=False)\n",
    "    df[name] = df[name].str.replace(')', '-', regex=False)\n",
    "    df[name] = df[name].str.replace('{', '-', regex=False)\n",
    "    df[name] = df[name].str.replace('}', '-', regex=False)\n",
    "    df[name] = df[name].str.replace(\"'\", '-', regex=False)\n",
    "    df[name] = df[name].str.replace('*', 'X', regex=False)\n",
    "    df[name] = df[name].str.replace('#', '-')\n",
    "    df[name] = df[name].str.replace('”', '-')\n",
    "    df[name] = df[name].str.replace('!', '-')\n",
    "    df[name] = df[name].str.replace(',', '-')\n",
    "    df[name] = df[name].str.replace('”', '-')\n",
    "    df[name] = df[name].str.replace('=', '-')\n",
    "    df[name] = df[name].str.replace('+', '-', regex=False)\n",
    "    df[name] = df[name].str.replace('،', '-')\n",
    "    \n",
    "def ampty_value(name):\n",
    "    df.loc[df[name].isnull(), name] = '__EMPTY__VALUE__'\n",
    "    \n",
    "    \n",
    "def price_num(name):\n",
    "    try:\n",
    "        df[name] = df[name].str.replace('-', '')\n",
    "        df[name] = df[name].str.replace(',', '')\n",
    "    except:\n",
    "        pass\n",
    "    df.loc[df[name] == '__EMPTY__VALUE__', name] = 0\n",
    "    \n",
    "    df[name] = pd.to_numeric(df[name])\n",
    "    df.loc[df[name] == 0, name] = '__EMPTY__VALUE__'"
   ]
  },
  {
   "cell_type": "code",
   "execution_count": 1185,
   "id": "dcb81d91",
   "metadata": {},
   "outputs": [],
   "source": [
    "def clean_punct(name):\n",
    "    for c in string.punctuation:\n",
    "        df[name] = df[name].str.replace(c, '-', regex=False)"
   ]
  },
  {
   "cell_type": "code",
   "execution_count": 1186,
   "id": "201d3647",
   "metadata": {},
   "outputs": [],
   "source": [
    "df.loc[(df['weight'] == '') | (df['weight'].isnull()), 'weight'] = '__EMPTY__VALUE__'"
   ]
  },
  {
   "cell_type": "code",
   "execution_count": 1187,
   "id": "a7aefbf8",
   "metadata": {},
   "outputs": [],
   "source": [
    "df.loc[(df['attr_241fea66'] == '') | (df['attr_241fea66'].isnull()), 'attr_241fea66'] = '__EMPTY__VALUE__'"
   ]
  },
  {
   "cell_type": "code",
   "execution_count": 1188,
   "id": "a2a740ac",
   "metadata": {},
   "outputs": [],
   "source": [
    "df.loc[(df['free_colors'] == '') | (df['free_colors'].isnull()), 'free_colors'] = '__EMPTY__VALUE__'"
   ]
  },
  {
   "cell_type": "code",
   "execution_count": 1189,
   "id": "00db8872",
   "metadata": {},
   "outputs": [],
   "source": [
    "df.loc[(df['raw_materials'] == '') | (df['raw_materials'].isnull()), 'raw_materials'] = '__EMPTY__VALUE__'"
   ]
  },
  {
   "cell_type": "code",
   "execution_count": 1190,
   "id": "5ed12d2f",
   "metadata": {},
   "outputs": [],
   "source": [
    "df.loc[(df['power'] == '') | (df['power'].isnull()), 'power'] = '__EMPTY__VALUE__'"
   ]
  },
  {
   "cell_type": "code",
   "execution_count": 1191,
   "id": "12f62414",
   "metadata": {},
   "outputs": [],
   "source": [
    "df.loc[(df['voltage'] == '') | (df['voltage'].isnull()), 'voltage'] = '__EMPTY__VALUE__'"
   ]
  },
  {
   "cell_type": "code",
   "execution_count": 1192,
   "id": "10d305b6",
   "metadata": {},
   "outputs": [],
   "source": [
    "df.loc[(df['pipes'] == '') | (df['pipes'].isnull()), 'pipes'] = '__EMPTY__VALUE__'"
   ]
  },
  {
   "cell_type": "code",
   "execution_count": 1193,
   "id": "59b0f4f4",
   "metadata": {},
   "outputs": [],
   "source": [
    "df.loc[(df['hertz'] == '') | (df['hertz'].isnull()), 'hertz'] = '__EMPTY__VALUE__'"
   ]
  },
  {
   "cell_type": "code",
   "execution_count": 1194,
   "id": "a2c98799",
   "metadata": {},
   "outputs": [],
   "source": [
    "df.loc[(df['models'] == '') | (df['models'].isnull()), 'models'] = '__EMPTY__VALUE__'"
   ]
  },
  {
   "cell_type": "code",
   "execution_count": 1195,
   "id": "726b367e",
   "metadata": {},
   "outputs": [],
   "source": [
    "df.loc[(df['hot_and_cold'] == '') | (df['hot_and_cold'].isnull()), 'hot_and_cold'] = '__EMPTY__VALUE__'"
   ]
  },
  {
   "cell_type": "code",
   "execution_count": 1196,
   "id": "2abe7d2c",
   "metadata": {},
   "outputs": [],
   "source": [
    "df.loc[(df['with_controller'] == '') | (df['with_controller'].isnull()), 'with_controller'] = '__EMPTY__VALUE__'"
   ]
  },
  {
   "cell_type": "code",
   "execution_count": 1197,
   "id": "d96f8d33",
   "metadata": {},
   "outputs": [],
   "source": [
    "df.loc[(df['usb'] == '') | (df['usb'].isnull()), 'usb'] = '__EMPTY__VALUE__'"
   ]
  },
  {
   "cell_type": "code",
   "execution_count": 1198,
   "id": "fa0c3b11",
   "metadata": {},
   "outputs": [],
   "source": [
    "df.loc[(df['with_wifi'] == '') | (df['with_wifi'].isnull()), 'with_wifi'] = '__EMPTY__VALUE__'"
   ]
  },
  {
   "cell_type": "code",
   "execution_count": 1199,
   "id": "0e52d07d",
   "metadata": {},
   "outputs": [],
   "source": [
    "df.loc[(df['guarantee'] == '') | (df['guarantee'].isnull()), 'guarantee'] = '__EMPTY__VALUE__'"
   ]
  },
  {
   "cell_type": "code",
   "execution_count": 1200,
   "id": "5fad9ccd",
   "metadata": {},
   "outputs": [],
   "source": [
    "df.loc[(df['HDMI'] == '') | (df['HDMI'].isnull()), 'HDMI'] = '__EMPTY__VALUE__'"
   ]
  },
  {
   "cell_type": "code",
   "execution_count": 1201,
   "id": "6ba4c9c7",
   "metadata": {},
   "outputs": [],
   "source": [
    "df.loc[(df['screen_resolution'] == '') | (df['screen_resolution'].isnull()), 'screen_resolution'] = '__EMPTY__VALUE__'"
   ]
  },
  {
   "cell_type": "code",
   "execution_count": 1202,
   "id": "bc5d8315",
   "metadata": {},
   "outputs": [],
   "source": [
    "df.loc[(df['screen_system'] == '') | (df['screen_system'].isnull()), 'screen_system'] = '__EMPTY__VALUE__'"
   ]
  },
  {
   "cell_type": "code",
   "execution_count": 1203,
   "id": "a346248a",
   "metadata": {},
   "outputs": [],
   "source": [
    "df.loc[(df['with_base'] == '') | (df['with_base'].isnull()), 'with_base'] = '__EMPTY__VALUE__'"
   ]
  },
  {
   "cell_type": "code",
   "execution_count": 1204,
   "id": "cd031c5b",
   "metadata": {},
   "outputs": [],
   "source": [
    "df.loc[(df['products_size'] == '') | (df['products_size'].isnull()), 'products_size'] = '__EMPTY__VALUE__'"
   ]
  },
  {
   "cell_type": "code",
   "execution_count": 1205,
   "id": "c2725632",
   "metadata": {},
   "outputs": [],
   "source": [
    "df.loc[(df['barcode'] == '') | (df['barcode'].isnull()), 'barcode'] = '__EMPTY__VALUE__'"
   ]
  },
  {
   "cell_type": "code",
   "execution_count": 1206,
   "id": "ad23e3e9",
   "metadata": {},
   "outputs": [],
   "source": [
    "df.loc[(df['size'] == '') | (df['size'].isnull()), 'size'] = '__EMPTY__VALUE__'"
   ]
  },
  {
   "cell_type": "code",
   "execution_count": 1207,
   "id": "1a5900b6",
   "metadata": {},
   "outputs": [],
   "source": [
    "df.loc[(df['type_'] == '') | (df['type_'].isnull()), 'type_'] = '__EMPTY__VALUE__'"
   ]
  },
  {
   "cell_type": "code",
   "execution_count": 1208,
   "id": "dec5b340",
   "metadata": {},
   "outputs": [],
   "source": [
    "df.loc[(df['water_loading_type'] == '') | (df['water_loading_type'].isnull()), 'water_loading_type'] = '__EMPTY__VALUE__'"
   ]
  },
  {
   "cell_type": "code",
   "execution_count": 1209,
   "id": "87a61ca9",
   "metadata": {},
   "outputs": [
    {
     "name": "stderr",
     "output_type": "stream",
     "text": [
      "<ipython-input-1209-2337f3b4b00e>:1: FutureWarning: The default value of regex will change from True to False in a future version. In addition, single character regular expressions will*not* be treated as literal strings when regex=True.\n",
      "  df['barcode'] = df['barcode'].str.replace('(', '').str.replace(')', '')\n"
     ]
    }
   ],
   "source": [
    "df['barcode'] = df['barcode'].str.replace('(', '').str.replace(')', '')"
   ]
  },
  {
   "cell_type": "code",
   "execution_count": 1210,
   "id": "a129bbf6",
   "metadata": {},
   "outputs": [],
   "source": [
    "df.to_excel('toto20.xlsx')"
   ]
  },
  {
   "cell_type": "code",
   "execution_count": null,
   "id": "cfa3206c",
   "metadata": {},
   "outputs": [],
   "source": []
  },
  {
   "cell_type": "code",
   "execution_count": null,
   "id": "9520bfe0",
   "metadata": {},
   "outputs": [],
   "source": []
  },
  {
   "cell_type": "code",
   "execution_count": null,
   "id": "d2ec17b5",
   "metadata": {},
   "outputs": [],
   "source": []
  },
  {
   "cell_type": "code",
   "execution_count": null,
   "id": "f2aad0dc",
   "metadata": {},
   "outputs": [],
   "source": []
  },
  {
   "cell_type": "code",
   "execution_count": 1211,
   "id": "0692601a",
   "metadata": {},
   "outputs": [],
   "source": [
    "toto_clean('name')"
   ]
  },
  {
   "cell_type": "code",
   "execution_count": 1212,
   "id": "911e1d05",
   "metadata": {},
   "outputs": [],
   "source": [
    "toto_clean('description')"
   ]
  },
  {
   "cell_type": "code",
   "execution_count": 1213,
   "id": "c87eb913",
   "metadata": {},
   "outputs": [],
   "source": [
    "toto_clean('short_description')"
   ]
  },
  {
   "cell_type": "code",
   "execution_count": 1214,
   "id": "4fd8b6e4",
   "metadata": {},
   "outputs": [],
   "source": [
    "df.to_excel('toto.xlsx')"
   ]
  },
  {
   "cell_type": "code",
   "execution_count": 1215,
   "id": "9cfcd46d",
   "metadata": {},
   "outputs": [],
   "source": [
    "clean_punct('short_description')"
   ]
  },
  {
   "cell_type": "code",
   "execution_count": 1216,
   "id": "25437c9b",
   "metadata": {},
   "outputs": [],
   "source": [
    "df.loc[df['description'].str.len() <= 5, 'description'] = df['short_description']"
   ]
  },
  {
   "cell_type": "code",
   "execution_count": 1217,
   "id": "5289df09",
   "metadata": {},
   "outputs": [],
   "source": [
    "df['url_key'] = df['sku'] + df['name']"
   ]
  },
  {
   "cell_type": "code",
   "execution_count": 1218,
   "id": "b7cfdc4c",
   "metadata": {},
   "outputs": [],
   "source": [
    "df.loc[df['mgs_brand'].isnull(), 'mgs_brand'] = '__EMPTY__VALUE__'"
   ]
  },
  {
   "cell_type": "code",
   "execution_count": 1219,
   "id": "908a156a",
   "metadata": {},
   "outputs": [],
   "source": [
    "df.loc[df['is_in_stock'] == 'متوفر', 'is_in_stock']  = 1"
   ]
  },
  {
   "cell_type": "code",
   "execution_count": 1220,
   "id": "c4e5b981",
   "metadata": {},
   "outputs": [],
   "source": [
    "df['product_online']  = df['is_in_stock']"
   ]
  },
  {
   "cell_type": "code",
   "execution_count": 1221,
   "id": "10b93eb2",
   "metadata": {},
   "outputs": [],
   "source": [
    "df['small_image'] =  df['base_image']\n",
    "df['swatch_image'] =  df['base_image']\n",
    "df['thumbnail_image'] =  df['base_image']\n",
    "df['attribute_set_code'] = 'Default'\n",
    "df['product_websites'] = 'base'\n"
   ]
  },
  {
   "cell_type": "code",
   "execution_count": 1222,
   "id": "7deef635",
   "metadata": {},
   "outputs": [],
   "source": [
    "df['allow_backorders'] = df['is_in_stock']\n",
    "# df['estimated_delivery_enable'] = 'Static Text'"
   ]
  },
  {
   "cell_type": "code",
   "execution_count": 1223,
   "id": "f2909c74",
   "metadata": {},
   "outputs": [],
   "source": [
    "df['url_key'] = df['url_key'].str.replace(', ', '-')\n",
    "df['url_key'] = df['url_key'].str.replace('/', '-')\n",
    "df['url_key'] = df['url_key'].str.replace('\"', '-')\n",
    "df['url_key'] = df['url_key'].str.replace('%', '-')\n",
    "df['url_key'] = df['url_key'].str.replace('+', '-', regex=False)"
   ]
  },
  {
   "cell_type": "code",
   "execution_count": 1224,
   "id": "ffee4d7f",
   "metadata": {},
   "outputs": [],
   "source": [
    "df['store_view_code'] = ''"
   ]
  },
  {
   "cell_type": "code",
   "execution_count": 1225,
   "id": "16c8813c",
   "metadata": {},
   "outputs": [],
   "source": [
    "df['attribute_set_code'] = 'Default'"
   ]
  },
  {
   "cell_type": "code",
   "execution_count": 1226,
   "id": "a5703b47",
   "metadata": {},
   "outputs": [],
   "source": [
    "df['product_websites'] = 'base'"
   ]
  },
  {
   "cell_type": "code",
   "execution_count": 1227,
   "id": "4b181979",
   "metadata": {},
   "outputs": [],
   "source": [
    "df['product_type'] = 'simple'"
   ]
  },
  {
   "cell_type": "code",
   "execution_count": 1228,
   "id": "a2df0616",
   "metadata": {},
   "outputs": [],
   "source": [
    "df['out_of_stock_qty'] =  -20"
   ]
  },
  {
   "cell_type": "code",
   "execution_count": 1229,
   "id": "237dbddf",
   "metadata": {},
   "outputs": [],
   "source": [
    "df.to_excel('toto2.xlsx')"
   ]
  },
  {
   "cell_type": "code",
   "execution_count": null,
   "id": "8d559cf4",
   "metadata": {},
   "outputs": [],
   "source": []
  },
  {
   "cell_type": "code",
   "execution_count": 1230,
   "id": "2ceacf9c",
   "metadata": {},
   "outputs": [],
   "source": [
    "df['product_type'] = 'simple'"
   ]
  },
  {
   "cell_type": "code",
   "execution_count": 1231,
   "id": "6308ec78",
   "metadata": {},
   "outputs": [],
   "source": [
    "df['products_size'] = df['products_size'].str.replace('x', '*')"
   ]
  },
  {
   "cell_type": "code",
   "execution_count": 1232,
   "id": "1245e1f6",
   "metadata": {},
   "outputs": [],
   "source": [
    "df['product_online'] = df['is_in_stock']"
   ]
  },
  {
   "cell_type": "code",
   "execution_count": 1233,
   "id": "53f9b991",
   "metadata": {},
   "outputs": [],
   "source": [
    "df.loc[df['is_in_stock'] == 0, 'product_online'] = 2"
   ]
  },
  {
   "cell_type": "markdown",
   "id": "2f17af86",
   "metadata": {},
   "source": [
    "# Scrape Brand"
   ]
  },
  {
   "cell_type": "code",
   "execution_count": 1234,
   "id": "15550f0d",
   "metadata": {},
   "outputs": [],
   "source": [
    "mgs_brand = pd.read_excel('/home/wafistos/Downloads/Shatri brand.xlsx')"
   ]
  },
  {
   "cell_type": "code",
   "execution_count": 1235,
   "id": "9baa0d22",
   "metadata": {},
   "outputs": [],
   "source": [
    "list_brand = []\n",
    "for index, row in mgs_brand.iterrows():\n",
    "    list_brand.append([row['brands'], row['mgs_brand']])"
   ]
  },
  {
   "cell_type": "code",
   "execution_count": 1236,
   "id": "f2899e3a",
   "metadata": {},
   "outputs": [],
   "source": [
    "for tt in list_brand:\n",
    "    df.loc[df['mgs_brand'] == str(tt[0]).strip(), 'mgs_brand'] = str(tt[1]).strip()"
   ]
  },
  {
   "cell_type": "code",
   "execution_count": 1237,
   "id": "714493c7",
   "metadata": {},
   "outputs": [
    {
     "data": {
      "text/plain": [
       "0        GVC PRO\n",
       "1         Koolen\n",
       "2        GVC PRO\n",
       "3    Home Master\n",
       "4    Home Master\n",
       "5         KUMTEL\n",
       "6         Koolen\n",
       "7           JANO\n",
       "8               \n",
       "9         HELLER\n",
       "Name: mgs_brand, dtype: object"
      ]
     },
     "execution_count": 1237,
     "metadata": {},
     "output_type": "execute_result"
    }
   ],
   "source": [
    "df['mgs_brand']"
   ]
  },
  {
   "cell_type": "code",
   "execution_count": 1238,
   "id": "224416de",
   "metadata": {},
   "outputs": [],
   "source": [
    "df['estimated_delivery_enable'] = 'Static Text'"
   ]
  },
  {
   "cell_type": "code",
   "execution_count": 1239,
   "id": "03bf1292",
   "metadata": {},
   "outputs": [],
   "source": [
    "df.to_excel('toto5.xlsx') "
   ]
  },
  {
   "cell_type": "code",
   "execution_count": 1240,
   "id": "e3fce4be",
   "metadata": {},
   "outputs": [],
   "source": [
    "df.loc[df['mgs_brand'] == '', 'mgs_brand'] = '__EMPTY__VALUE__'"
   ]
  },
  {
   "cell_type": "code",
   "execution_count": 1241,
   "id": "7827d7f0",
   "metadata": {},
   "outputs": [],
   "source": [
    "df.loc[df['mgs_brand'] == 'براون ', 'mgs_brand'] = 'BRAUN'"
   ]
  },
  {
   "cell_type": "code",
   "execution_count": 1242,
   "id": "ab60a704",
   "metadata": {},
   "outputs": [],
   "source": [
    "df.to_excel('toto6.xlsx')"
   ]
  },
  {
   "cell_type": "markdown",
   "id": "2d0ae40a",
   "metadata": {},
   "source": [
    "# add CAtegories files"
   ]
  },
  {
   "cell_type": "code",
   "execution_count": 1243,
   "id": "344522be",
   "metadata": {},
   "outputs": [],
   "source": [
    "cats = pd.read_excel('/home/wafistos/Documents/Projects/scaping_wafi/shatristore/categories/Shatirallcat(1).xlsx')"
   ]
  },
  {
   "cell_type": "code",
   "execution_count": 1244,
   "id": "0a6dbeef",
   "metadata": {},
   "outputs": [],
   "source": [
    "list_cats = []\n",
    "for index, row in cats.iterrows():\n",
    "    list_cats.append([row['cat2'], row['ID']] )"
   ]
  },
  {
   "cell_type": "code",
   "execution_count": 1245,
   "id": "ed42205e",
   "metadata": {},
   "outputs": [
    {
     "data": {
      "text/plain": [
       "[['الافران', '43870,42725,43885,113'],\n",
       " ['محضرات الطعام', '43870,42725,43894'],\n",
       " ['قطاعات الخضار', '43870,42725,43893'],\n",
       " ['مطاحن البن والتوابل', '43870,42725,43892'],\n",
       " ['العصارات', '43870,42725,43891'],\n",
       " ['الخلاطات', '43870,42725,43890'],\n",
       " ['العجانات', '43870,42725,43889,113'],\n",
       " ['قدور كهربائية', '43870,42725,43900,113'],\n",
       " ['صانعات مميزة', '43870,42725,43899,113'],\n",
       " ['الغلايات', '43870,42725,43898,113'],\n",
       " ['الشوايات وسخانات الساندويتش', '43870,42725,43897,113'],\n",
       " ['مفارم اللحم', '43870,42725,43896,113'],\n",
       " ['مضارب بيض', '43870,42725,43895,113'],\n",
       " ['منقيات الهواء', '43870,43901,43903,113'],\n",
       " ['المراوح', '43870,43901,43905,113'],\n",
       " ['الدفايات', '43870,43901,43904,113'],\n",
       " ['المكيفات', '43901,43902,113'],\n",
       " ['اجهزة العناية الصحية', 'dont scrap it'],\n",
       " ['اجهزة العناية بالمرأة', 'dont scrap it'],\n",
       " ['اجهزة العناية بالرجل', 'dont scrap it'],\n",
       " ['مكاوي كهربائية', '43870,43876,43883,113'],\n",
       " ['الآت صنع القهوة', '43870,42725,33,113'],\n",
       " ['الأواني المنزلية', '29,113'],\n",
       " ['القلايات', '43870,42725,43888,113'],\n",
       " ['الطباخات', '43870,42725,43887,113'],\n",
       " ['المايكرويفات', '43870,42725,43886,113'],\n",
       " ['قواعد وستاندات', '43870,43871,43869,113'],\n",
       " ['التلفزيونات', '43870,43871,43872,113'],\n",
       " ['راديوهات ومسجلات', '43870,43871,43875,113'],\n",
       " ['سماعات ومكبرات صوت', '43870,43871,43874,113'],\n",
       " ['السينما المنزلية', '43870,43871,43873,113'],\n",
       " ['مكانس كهربائية', '43870,43876,43882,113'],\n",
       " ['غسالات الصحون', '43870,43876,43881,113'],\n",
       " ['غسالات ونشافات', '43870,43876,43880,113'],\n",
       " ['برادات الماء', '43870,43876,43879,113'],\n",
       " ['فريزرات', '43870,43876,43878,113'],\n",
       " ['الثلاجات', '43870,43876,43877,113'],\n",
       " ['مكافحه الحشرات', 'dont scrap it'],\n",
       " ['الآلات الحاسبة', 'dont scrap it'],\n",
       " ['كشافات', '43870,43876,43884,113'],\n",
       " ['تليفونات وفاكسات', 'dont scrap it']]"
      ]
     },
     "execution_count": 1245,
     "metadata": {},
     "output_type": "execute_result"
    }
   ],
   "source": [
    "list_cats"
   ]
  },
  {
   "cell_type": "code",
   "execution_count": 1246,
   "id": "ad86d680",
   "metadata": {},
   "outputs": [],
   "source": [
    "for col in list_cats:\n",
    "    df.loc[df['categories2'] == col[0], 'categories'] = col[1]"
   ]
  },
  {
   "cell_type": "code",
   "execution_count": 1247,
   "id": "89f7b41b",
   "metadata": {},
   "outputs": [
    {
     "data": {
      "text/plain": [
       "0    43870,43901,43904,113\n",
       "1    43870,43901,43904,113\n",
       "2    43870,43901,43904,113\n",
       "3    43870,43901,43904,113\n",
       "4    43870,43901,43904,113\n",
       "5    43870,43901,43904,113\n",
       "6    43870,43901,43904,113\n",
       "7    43870,43901,43904,113\n",
       "8    43870,43901,43904,113\n",
       "9    43870,43901,43904,113\n",
       "Name: categories, dtype: object"
      ]
     },
     "execution_count": 1247,
     "metadata": {},
     "output_type": "execute_result"
    }
   ],
   "source": [
    "df['categories']"
   ]
  },
  {
   "cell_type": "code",
   "execution_count": 1248,
   "id": "a31ea5ff",
   "metadata": {},
   "outputs": [],
   "source": [
    "df.drop(df[df['categories'] == 'dont scrap it'].index, inplace=True)"
   ]
  },
  {
   "cell_type": "code",
   "execution_count": 1249,
   "id": "412cdc6f",
   "metadata": {},
   "outputs": [],
   "source": [
    "df.drop(df[df['mgs_brand'] == 'dont scrape it '].index,inplace=True)"
   ]
  },
  {
   "cell_type": "code",
   "execution_count": 1250,
   "id": "3e2924cf",
   "metadata": {},
   "outputs": [],
   "source": [
    "df.drop(df[df['categories'] == 'dont scrape it '].index,inplace=True)"
   ]
  },
  {
   "cell_type": "code",
   "execution_count": null,
   "id": "a7483a77",
   "metadata": {},
   "outputs": [],
   "source": []
  },
  {
   "cell_type": "code",
   "execution_count": 1251,
   "id": "dd474d3e",
   "metadata": {},
   "outputs": [
    {
     "data": {
      "text/html": [
       "<div>\n",
       "<style scoped>\n",
       "    .dataframe tbody tr th:only-of-type {\n",
       "        vertical-align: middle;\n",
       "    }\n",
       "\n",
       "    .dataframe tbody tr th {\n",
       "        vertical-align: top;\n",
       "    }\n",
       "\n",
       "    .dataframe thead th {\n",
       "        text-align: right;\n",
       "    }\n",
       "</style>\n",
       "<table border=\"1\" class=\"dataframe\">\n",
       "  <thead>\n",
       "    <tr style=\"text-align: right;\">\n",
       "      <th></th>\n",
       "      <th>sku</th>\n",
       "      <th>store_view_code</th>\n",
       "      <th>attribute_set_code</th>\n",
       "      <th>product_websites</th>\n",
       "      <th>product_type</th>\n",
       "      <th>name</th>\n",
       "      <th>description</th>\n",
       "      <th>short_description</th>\n",
       "      <th>url_key</th>\n",
       "      <th>link_url</th>\n",
       "      <th>...</th>\n",
       "      <th>out_of_stock_qty</th>\n",
       "      <th>allow_backorders</th>\n",
       "      <th>visibility</th>\n",
       "      <th>tax_class_name</th>\n",
       "      <th>manufacturer</th>\n",
       "      <th>news_from_date</th>\n",
       "      <th>news_to_date</th>\n",
       "      <th>estimated_delivery_enable</th>\n",
       "      <th>estimated_delivery_text</th>\n",
       "      <th>supplier</th>\n",
       "    </tr>\n",
       "  </thead>\n",
       "  <tbody>\n",
       "  </tbody>\n",
       "</table>\n",
       "<p>0 rows × 59 columns</p>\n",
       "</div>"
      ],
      "text/plain": [
       "Empty DataFrame\n",
       "Columns: [sku, store_view_code, attribute_set_code, product_websites, product_type, name, description, short_description, url_key, link_url, cost, price, special_price, categories1, categories2, categories3, categories, free_colors, raw_materials, weight, power, voltage, hertz, size, water_loading_type, pipes, models, hot_and_cold, attr_241fea66, with_controller, barcode, type_, usb, with_wifi, guarantee, HDMI, screen_resolution, screen_system, with_base, products_size, mgs_brand, base_image, small_image, swatch_image, thumbnail_image, additional_images, is_in_stock, product_online, qty, out_of_stock_qty, allow_backorders, visibility, tax_class_name, manufacturer, news_from_date, news_to_date, estimated_delivery_enable, estimated_delivery_text, supplier]\n",
       "Index: []\n",
       "\n",
       "[0 rows x 59 columns]"
      ]
     },
     "execution_count": 1251,
     "metadata": {},
     "output_type": "execute_result"
    }
   ],
   "source": [
    "url = 'https://shatristore.com/pub/media/catalog/product/cache/2e24353f833bba322b482bccad1c1fdf/f/i/file_14.png'\n",
    "df.loc[df['base_image']== 'https://shatristore.com/pub/media/catalog/product/cache/2e24353f833bba322b482bccad1c1fdf/f/i/file_14.png']"
   ]
  },
  {
   "cell_type": "code",
   "execution_count": 1252,
   "id": "ff058de3",
   "metadata": {},
   "outputs": [],
   "source": [
    "df.drop(df[df['base_image']== url ].index, inplace=True )"
   ]
  },
  {
   "cell_type": "code",
   "execution_count": 1253,
   "id": "854e4f89",
   "metadata": {},
   "outputs": [
    {
     "data": {
      "text/html": [
       "<div>\n",
       "<style scoped>\n",
       "    .dataframe tbody tr th:only-of-type {\n",
       "        vertical-align: middle;\n",
       "    }\n",
       "\n",
       "    .dataframe tbody tr th {\n",
       "        vertical-align: top;\n",
       "    }\n",
       "\n",
       "    .dataframe thead th {\n",
       "        text-align: right;\n",
       "    }\n",
       "</style>\n",
       "<table border=\"1\" class=\"dataframe\">\n",
       "  <thead>\n",
       "    <tr style=\"text-align: right;\">\n",
       "      <th></th>\n",
       "      <th>sku</th>\n",
       "      <th>store_view_code</th>\n",
       "      <th>attribute_set_code</th>\n",
       "      <th>product_websites</th>\n",
       "      <th>product_type</th>\n",
       "      <th>name</th>\n",
       "      <th>description</th>\n",
       "      <th>short_description</th>\n",
       "      <th>url_key</th>\n",
       "      <th>link_url</th>\n",
       "      <th>...</th>\n",
       "      <th>out_of_stock_qty</th>\n",
       "      <th>allow_backorders</th>\n",
       "      <th>visibility</th>\n",
       "      <th>tax_class_name</th>\n",
       "      <th>manufacturer</th>\n",
       "      <th>news_from_date</th>\n",
       "      <th>news_to_date</th>\n",
       "      <th>estimated_delivery_enable</th>\n",
       "      <th>estimated_delivery_text</th>\n",
       "      <th>supplier</th>\n",
       "    </tr>\n",
       "  </thead>\n",
       "  <tbody>\n",
       "  </tbody>\n",
       "</table>\n",
       "<p>0 rows × 59 columns</p>\n",
       "</div>"
      ],
      "text/plain": [
       "Empty DataFrame\n",
       "Columns: [sku, store_view_code, attribute_set_code, product_websites, product_type, name, description, short_description, url_key, link_url, cost, price, special_price, categories1, categories2, categories3, categories, free_colors, raw_materials, weight, power, voltage, hertz, size, water_loading_type, pipes, models, hot_and_cold, attr_241fea66, with_controller, barcode, type_, usb, with_wifi, guarantee, HDMI, screen_resolution, screen_system, with_base, products_size, mgs_brand, base_image, small_image, swatch_image, thumbnail_image, additional_images, is_in_stock, product_online, qty, out_of_stock_qty, allow_backorders, visibility, tax_class_name, manufacturer, news_from_date, news_to_date, estimated_delivery_enable, estimated_delivery_text, supplier]\n",
       "Index: []\n",
       "\n",
       "[0 rows x 59 columns]"
      ]
     },
     "execution_count": 1253,
     "metadata": {},
     "output_type": "execute_result"
    }
   ],
   "source": [
    "url = 'https://shatristore.com/pub/media/catalog/product/placeholder/default/watermark_10.png'\n",
    "df.loc[df['base_image']== 'https://shatristore.com/pub/media/catalog/product/placeholder/default/watermark_10.png']"
   ]
  },
  {
   "cell_type": "code",
   "execution_count": 1254,
   "id": "c61894d8",
   "metadata": {},
   "outputs": [],
   "source": [
    "df['sku number only'] = df['sku'].str.replace('TRI-', '')"
   ]
  },
  {
   "cell_type": "code",
   "execution_count": null,
   "id": "775ce31f",
   "metadata": {},
   "outputs": [],
   "source": []
  },
  {
   "cell_type": "code",
   "execution_count": null,
   "id": "b3c8d2f3",
   "metadata": {},
   "outputs": [],
   "source": []
  },
  {
   "cell_type": "code",
   "execution_count": null,
   "id": "2b50038c",
   "metadata": {},
   "outputs": [],
   "source": []
  },
  {
   "cell_type": "code",
   "execution_count": null,
   "id": "c6ed05ac",
   "metadata": {},
   "outputs": [],
   "source": []
  },
  {
   "cell_type": "code",
   "execution_count": null,
   "id": "3ef0150a",
   "metadata": {},
   "outputs": [],
   "source": []
  },
  {
   "cell_type": "code",
   "execution_count": null,
   "id": "1fb353da",
   "metadata": {},
   "outputs": [],
   "source": [
    "df = df[['sku number only', 'sku', 'store_view_code', 'attribute_set_code', 'product_websites',\n",
    "         'name',  'estimated_delivery_enable', 'estimated_delivery_text',  'url_key',  'description', 'short_description'\n",
    ", 'link_url', 'categories1', 'categories2', 'categories3', 'categories',\n",
    "         \n",
    "         'free_colors', 'raw_materials', 'weight ','mgs_brand','pipes', 'models', 'hot_and_cold', 'with_controller', 'barcode',\n",
    "        'usb', 'with_wifi', 'guarantee', 'HDMI','screen_resolution',  'screen_system', 'with_base' ,\n",
    "        \n",
    "            'hertz', 'voltage', 'power', \n",
    "\n",
    "\n",
    "\n",
    "         'cost',  'price', 'special_price', 'visibility', 'tax_class_name', 'manufacturer',\n",
    "         'news_from_date', 'news_to_date', 'base_image', 'small_image', 'swatch_image' \n",
    "    , 'thumbnail_image', 'additional_images', 'product_online', 'qty', 'out_of_stock_qty', 'allow_backorders'\n",
    "    , 'is_in_stock',  'supplier'\n",
    "        ]]"
   ]
  },
  {
   "cell_type": "code",
   "execution_count": null,
   "id": "abc7226c",
   "metadata": {},
   "outputs": [],
   "source": []
  },
  {
   "cell_type": "code",
   "execution_count": null,
   "id": "7c172ba1",
   "metadata": {},
   "outputs": [],
   "source": []
  },
  {
   "cell_type": "code",
   "execution_count": null,
   "id": "9c7f4859",
   "metadata": {},
   "outputs": [],
   "source": [
    "# clim"
   ]
  },
  {
   "cell_type": "code",
   "execution_count": null,
   "id": "df543b19",
   "metadata": {},
   "outputs": [],
   "source": []
  },
  {
   "cell_type": "code",
   "execution_count": 686,
   "id": "c3e40a4f",
   "metadata": {},
   "outputs": [],
   "source": [
    "df = df[['sku number only', 'sku', 'store_view_code', 'attribute_set_code', 'product_websites',\n",
    "         'name',  'estimated_delivery_enable', 'estimated_delivery_text',  'url_key',  'description', 'short_description'\n",
    ", 'link_url', 'categories1', 'categories2', 'categories3', 'categories', \n",
    "          'raw_materials', 'mgs_brand',\n",
    "         \n",
    "         'type_', 'voltage',  'pipes',  'hot_and_cold', 'barcode', 'guarantee',   'hertz', 'with_controller', 'free_colors', \n",
    "          'products_size', \n",
    "         \n",
    "    'cost',  'price', 'special_price', 'visibility', 'tax_class_name', 'manufacturer',\n",
    "         'news_from_date', 'news_to_date', 'base_image', 'small_image', 'swatch_image' \n",
    "    , 'thumbnail_image', 'additional_images', 'product_online', 'qty', 'out_of_stock_qty', 'allow_backorders'\n",
    "    , 'is_in_stock',  'supplier'\n",
    "        ]]"
   ]
  },
  {
   "cell_type": "code",
   "execution_count": 687,
   "id": "bcc9eed3",
   "metadata": {},
   "outputs": [],
   "source": [
    "df.to_excel('Shatri_02_10_2021_clim.xlsx')"
   ]
  },
  {
   "cell_type": "code",
   "execution_count": null,
   "id": "b9c7e448",
   "metadata": {},
   "outputs": [],
   "source": []
  },
  {
   "cell_type": "code",
   "execution_count": null,
   "id": "cd6cd24c",
   "metadata": {},
   "outputs": [],
   "source": []
  },
  {
   "cell_type": "code",
   "execution_count": null,
   "id": "af2510bb",
   "metadata": {},
   "outputs": [],
   "source": []
  },
  {
   "cell_type": "code",
   "execution_count": 562,
   "id": "15adae2a",
   "metadata": {},
   "outputs": [],
   "source": [
    "#TV"
   ]
  },
  {
   "cell_type": "code",
   "execution_count": 565,
   "id": "5b7e0c30",
   "metadata": {},
   "outputs": [],
   "source": [
    "df = df[['sku number only', 'sku', 'store_view_code', 'attribute_set_code', 'product_websites',\n",
    "         'name',  'estimated_delivery_enable', 'estimated_delivery_text',  'url_key',  'description', 'short_description'\n",
    ", 'link_url', 'categories1', 'categories2', 'categories3', 'categories', \n",
    "         'raw_materials' ,'mgs_brand',\n",
    "         \n",
    "           \n",
    "        'usb', 'with_wifi', 'guarantee','barcode','type_', 'free_colors', 'HDMI','screen_resolution',  'screen_system', 'with_base' , \n",
    "         'size',\n",
    "    \n",
    "         'cost',  'price', 'special_price', 'visibility', 'tax_class_name', 'manufacturer',\n",
    "         'news_from_date', 'news_to_date', 'base_image', 'small_image', 'swatch_image' \n",
    "    , 'thumbnail_image', 'additional_images', 'product_online', 'qty', 'out_of_stock_qty', 'allow_backorders'\n",
    "    , 'is_in_stock',  'supplier'\n",
    "        ]]"
   ]
  },
  {
   "cell_type": "code",
   "execution_count": 566,
   "id": "307799bc",
   "metadata": {},
   "outputs": [],
   "source": [
    "df.to_excel('Shatri_02_10_2021_tv.xlsx')"
   ]
  },
  {
   "cell_type": "code",
   "execution_count": null,
   "id": "2ec5cddf",
   "metadata": {},
   "outputs": [],
   "source": []
  },
  {
   "cell_type": "code",
   "execution_count": null,
   "id": "976d130a",
   "metadata": {},
   "outputs": [],
   "source": []
  },
  {
   "cell_type": "code",
   "execution_count": null,
   "id": "c836498a",
   "metadata": {},
   "outputs": [],
   "source": []
  },
  {
   "cell_type": "code",
   "execution_count": null,
   "id": "9975631b",
   "metadata": {},
   "outputs": [],
   "source": []
  },
  {
   "cell_type": "code",
   "execution_count": null,
   "id": "e3567e87",
   "metadata": {},
   "outputs": [],
   "source": []
  },
  {
   "cell_type": "code",
   "execution_count": null,
   "id": "e821baa2",
   "metadata": {},
   "outputs": [],
   "source": [
    "# wash"
   ]
  },
  {
   "cell_type": "code",
   "execution_count": 778,
   "id": "06e9b2b0",
   "metadata": {},
   "outputs": [],
   "source": [
    "df = df[['sku number only', 'sku', 'store_view_code', 'attribute_set_code', 'product_websites',\n",
    "         'name',  'estimated_delivery_enable', 'estimated_delivery_text',  'url_key',  'description', 'short_description'\n",
    ", 'link_url', 'categories1', 'categories2', 'categories3', 'categories', \n",
    "         \n",
    "         'guarantee', 'barcode','type_', 'free_colors','weight', 'hertz', 'products_size', \n",
    "         \n",
    "          'mgs_brand', \n",
    "    \n",
    "         'cost',  'price', 'special_price', 'visibility', 'tax_class_name', 'manufacturer',\n",
    "         'news_from_date', 'news_to_date', 'base_image', 'small_image', 'swatch_image' \n",
    "    , 'thumbnail_image', 'additional_images', 'product_online', 'qty', 'out_of_stock_qty', 'allow_backorders'\n",
    "    , 'is_in_stock',  'supplier'\n",
    "        ]]"
   ]
  },
  {
   "cell_type": "code",
   "execution_count": 779,
   "id": "aaaeb02e",
   "metadata": {},
   "outputs": [],
   "source": [
    "df.to_excel('Shatri_02_10_2021_wash.xlsx')"
   ]
  },
  {
   "cell_type": "code",
   "execution_count": null,
   "id": "56b80ee3",
   "metadata": {},
   "outputs": [],
   "source": []
  },
  {
   "cell_type": "code",
   "execution_count": null,
   "id": "6a5c05cf",
   "metadata": {},
   "outputs": [],
   "source": []
  },
  {
   "cell_type": "code",
   "execution_count": null,
   "id": "7bf83eb6",
   "metadata": {},
   "outputs": [],
   "source": []
  },
  {
   "cell_type": "code",
   "execution_count": null,
   "id": "e6b98896",
   "metadata": {},
   "outputs": [],
   "source": []
  },
  {
   "cell_type": "code",
   "execution_count": null,
   "id": "26f5004a",
   "metadata": {},
   "outputs": [],
   "source": [
    "# frigo"
   ]
  },
  {
   "cell_type": "code",
   "execution_count": 871,
   "id": "c555db75",
   "metadata": {},
   "outputs": [],
   "source": [
    "df = df[['sku number only', 'sku', 'store_view_code', 'attribute_set_code', 'product_websites',\n",
    "         'name',  'estimated_delivery_enable', 'estimated_delivery_text',  'url_key',  'description', 'short_description'\n",
    ", 'link_url', 'categories1', 'categories2', 'categories3', 'categories', \n",
    "         \n",
    "         'guarantee', 'barcode','type_', 'free_colors','weight','voltage', 'hertz', 'products_size', 'attr_241fea66',\n",
    "         \n",
    "          'mgs_brand', \n",
    "    \n",
    "         'cost',  'price', 'special_price', 'visibility', 'tax_class_name', 'manufacturer',\n",
    "         'news_from_date', 'news_to_date', 'base_image', 'small_image', 'swatch_image' \n",
    "    , 'thumbnail_image', 'additional_images', 'product_online', 'qty', 'out_of_stock_qty', 'allow_backorders'\n",
    "    , 'is_in_stock',  'supplier'\n",
    "        ]]"
   ]
  },
  {
   "cell_type": "code",
   "execution_count": 872,
   "id": "55be38ab",
   "metadata": {},
   "outputs": [],
   "source": [
    "df.to_excel('Shatri_02_10_2021_frigo.xlsx')"
   ]
  },
  {
   "cell_type": "code",
   "execution_count": null,
   "id": "2500d3fd",
   "metadata": {},
   "outputs": [],
   "source": []
  },
  {
   "cell_type": "code",
   "execution_count": 1077,
   "id": "fc3a2ba2",
   "metadata": {},
   "outputs": [],
   "source": [
    "#برادات الماء\t"
   ]
  },
  {
   "cell_type": "code",
   "execution_count": 1079,
   "id": "a065ac4a",
   "metadata": {},
   "outputs": [],
   "source": [
    "df = df[['sku number only', 'sku', 'store_view_code', 'attribute_set_code', 'product_websites',\n",
    "         'name',  'estimated_delivery_enable', 'estimated_delivery_text',  'url_key',  'description', 'short_description'\n",
    ", 'link_url', 'categories1', 'categories2', 'categories3', 'categories',\n",
    "         \n",
    "         'free_colors', 'raw_materials', 'weight','pipes', 'models', 'hot_and_cold', 'with_controller', \n",
    "        \n",
    "        \n",
    "            \n",
    "'guarantee','barcode','type_', 'voltage','hertz','free_colors', 'water_loading_type', \n",
    "\n",
    "\n",
    "         'mgs_brand','cost',  'price', 'special_price', 'visibility', 'tax_class_name', 'manufacturer',\n",
    "         'news_from_date', 'news_to_date', 'base_image', 'small_image', 'swatch_image' \n",
    "    , 'thumbnail_image', 'additional_images', 'product_online', 'qty', 'out_of_stock_qty', 'allow_backorders'\n",
    "    , 'is_in_stock',  'supplier'\n",
    "        ]]"
   ]
  },
  {
   "cell_type": "code",
   "execution_count": 1080,
   "id": "ac830ae2",
   "metadata": {},
   "outputs": [],
   "source": [
    "df.to_excel('Shatri_03_10_2021_freez.xlsx')"
   ]
  },
  {
   "cell_type": "code",
   "execution_count": null,
   "id": "b7f3ad2a",
   "metadata": {},
   "outputs": [],
   "source": []
  },
  {
   "cell_type": "code",
   "execution_count": null,
   "id": "cc5119d5",
   "metadata": {},
   "outputs": [],
   "source": [
    "# freezers"
   ]
  },
  {
   "cell_type": "code",
   "execution_count": 1168,
   "id": "4a8bc6c7",
   "metadata": {},
   "outputs": [],
   "source": [
    "df = df[['sku number only', 'sku', 'store_view_code', 'attribute_set_code', 'product_websites',\n",
    "         'name',  'estimated_delivery_enable', 'estimated_delivery_text',  'url_key',  'description', 'short_description'\n",
    ", 'link_url', 'categories1', 'categories2', 'categories3', 'categories',\n",
    "         \n",
    "         'mgs_brand',\n",
    "        \n",
    "        \n",
    "             \n",
    "'guarantee','barcode', 'type_', 'voltage','hertz','free_colors',\n",
    "\n",
    "\n",
    "         'cost',  'price', 'special_price', 'visibility', 'tax_class_name', 'manufacturer',\n",
    "         'news_from_date', 'news_to_date', 'base_image', 'small_image', 'swatch_image' \n",
    "    , 'thumbnail_image', 'additional_images', 'product_online', 'qty', 'out_of_stock_qty', 'allow_backorders'\n",
    "    , 'is_in_stock',  'supplier'\n",
    "        ]]"
   ]
  },
  {
   "cell_type": "code",
   "execution_count": 1169,
   "id": "75f34321",
   "metadata": {},
   "outputs": [],
   "source": [
    "df.to_excel('Shatri_03_10_2021_freezers.xlsx')"
   ]
  },
  {
   "cell_type": "code",
   "execution_count": null,
   "id": "dce83a55",
   "metadata": {},
   "outputs": [],
   "source": []
  },
  {
   "cell_type": "code",
   "execution_count": null,
   "id": "7714e789",
   "metadata": {},
   "outputs": [],
   "source": []
  },
  {
   "cell_type": "code",
   "execution_count": null,
   "id": "a5d12ea8",
   "metadata": {},
   "outputs": [],
   "source": [
    "# Heating "
   ]
  },
  {
   "cell_type": "code",
   "execution_count": 1255,
   "id": "a37b60e7",
   "metadata": {},
   "outputs": [],
   "source": [
    "df = df[['sku number only', 'sku', 'store_view_code', 'attribute_set_code', 'product_websites',\n",
    "         'name',  'estimated_delivery_enable', 'estimated_delivery_text',  'url_key',  'description', 'short_description'\n",
    ", 'link_url', 'categories1', 'categories2', 'categories3', 'categories',\n",
    "         \n",
    "         'mgs_brand',\n",
    "        \n",
    "        \n",
    "             \n",
    "'guarantee','barcode', 'type_', 'voltage','hertz', 'power', 'free_colors',\n",
    "\n",
    "\n",
    "         'cost',  'price', 'special_price', 'visibility', 'tax_class_name', 'manufacturer',\n",
    "         'news_from_date', 'news_to_date', 'base_image', 'small_image', 'swatch_image' \n",
    "    , 'thumbnail_image', 'additional_images', 'product_online', 'qty', 'out_of_stock_qty', 'allow_backorders'\n",
    "    , 'is_in_stock',  'supplier'\n",
    "        ]]"
   ]
  },
  {
   "cell_type": "code",
   "execution_count": 1256,
   "id": "4f2fa71d",
   "metadata": {},
   "outputs": [],
   "source": [
    "df.to_excel('Shatri_03_10_2021_heating.xlsx')"
   ]
  },
  {
   "cell_type": "code",
   "execution_count": null,
   "id": "092fadbd",
   "metadata": {},
   "outputs": [],
   "source": []
  },
  {
   "cell_type": "code",
   "execution_count": 374,
   "id": "9120f03d",
   "metadata": {},
   "outputs": [
    {
     "name": "stderr",
     "output_type": "stream",
     "text": [
      "<ipython-input-374-bef98f4b5351>:1: SettingWithCopyWarning: \n",
      "A value is trying to be set on a copy of a slice from a DataFrame.\n",
      "Try using .loc[row_indexer,col_indexer] = value instead\n",
      "\n",
      "See the caveats in the documentation: https://pandas.pydata.org/pandas-docs/stable/user_guide/indexing.html#returning-a-view-versus-a-copy\n",
      "  df['cost'] = df['cost'].astype(float)\n"
     ]
    }
   ],
   "source": [
    "df['cost'] = df['cost'].astype(float)"
   ]
  },
  {
   "cell_type": "code",
   "execution_count": 375,
   "id": "7c4eaeda",
   "metadata": {},
   "outputs": [],
   "source": [
    "df.to_excel('Shatristore_update_wash_.xlsx')"
   ]
  },
  {
   "cell_type": "code",
   "execution_count": 273,
   "id": "0e85a5bb",
   "metadata": {},
   "outputs": [],
   "source": [
    "df.to_excel('toto10.xlsx')"
   ]
  },
  {
   "cell_type": "code",
   "execution_count": 182,
   "id": "ae322b2a",
   "metadata": {},
   "outputs": [
    {
     "data": {
      "text/plain": [
       "(632, 37)"
      ]
     },
     "execution_count": 182,
     "metadata": {},
     "output_type": "execute_result"
    }
   ],
   "source": [
    "df.shape"
   ]
  },
  {
   "cell_type": "code",
   "execution_count": null,
   "id": "12b7d28f",
   "metadata": {},
   "outputs": [],
   "source": []
  }
 ],
 "metadata": {
  "celltoolbar": "Raw Cell Format",
  "kernelspec": {
   "display_name": "Python 3",
   "language": "python",
   "name": "python3"
  },
  "language_info": {
   "codemirror_mode": {
    "name": "ipython",
    "version": 3
   },
   "file_extension": ".py",
   "mimetype": "text/x-python",
   "name": "python",
   "nbconvert_exporter": "python",
   "pygments_lexer": "ipython3",
   "version": "3.8.8"
  },
  "toc": {
   "base_numbering": 1,
   "nav_menu": {},
   "number_sections": true,
   "sideBar": true,
   "skip_h1_title": false,
   "title_cell": "Table of Contents",
   "title_sidebar": "Contents",
   "toc_cell": false,
   "toc_position": {
    "height": "calc(100% - 180px)",
    "left": "10px",
    "top": "150px",
    "width": "352px"
   },
   "toc_section_display": true,
   "toc_window_display": true
  }
 },
 "nbformat": 4,
 "nbformat_minor": 5
}
