{
 "cells": [
  {
   "cell_type": "code",
   "execution_count": 1,
   "metadata": {},
   "outputs": [],
   "source": [
    "from bs4 import BeautifulSoup\n",
    "from selenium import webdriver\n",
    "from selenium.webdriver.common.keys import Keys\n",
    "from selenium.webdriver.support import expected_conditions as EC\n",
    "from selenium.webdriver.common.by import By\n",
    "from selenium.webdriver.support.wait import WebDriverWait\n",
    "from selenium.webdriver.firefox.options import Options\n",
    "import time\n",
    "import os\n",
    "from fake_useragent import UserAgent\n",
    "from random import randint\n",
    "import pandas as pd\n",
    "import numpy as np\n",
    "import requests\n",
    "import pandas as pd\n",
    "import re"
   ]
  },
  {
   "cell_type": "code",
   "execution_count": 12,
   "metadata": {},
   "outputs": [],
   "source": [
    "df = pd.read_excel('/home/wafistos/Documents/Projects/scaping_wafi/otantiksaudi/otantiksaudi_update_products_ar.xlsx')\n"
   ]
  },
  {
   "cell_type": "code",
   "execution_count": 4,
   "metadata": {},
   "outputs": [],
   "source": [
    "df['qty'] = ''"
   ]
  },
  {
   "cell_type": "code",
   "execution_count": 4,
   "metadata": {},
   "outputs": [],
   "source": [
    "link = 'https://www.otantiksaudi.com/web/image/product.product/7434/image_1024/%5B126-ET21-PINK%5D%20%D9%88%D8%B1%D8%AF%D9%8A%20-%20%D8%B7%D9%82%D9%85%20%D9%82%D9%87%D9%88%D8%A9%20%D8%AA%D8%B1%D9%83%D9%8A%D8%A9%20%D9%84%D9%80%206%20%D8%A3%D8%B4%D8%AE%D8%A7%D8%B5%20%D9%85%D9%86%20%D8%B3%D8%B1%D8%A7%D9%8A%D8%A7'"
   ]
  },
  {
   "cell_type": "code",
   "execution_count": 5,
   "metadata": {},
   "outputs": [
    {
     "name": "stdout",
     "output_type": "stream",
     "text": [
      "https://www.otantiksaudi.com/web/image/product.product/7434/image_1024\n"
     ]
    }
   ],
   "source": [
    "link1 = '/'.join(img['src'].split('?')[0].split('/')[:-1])\n",
    "print(link1)"
   ]
  },
  {
   "cell_type": "code",
   "execution_count": 14,
   "metadata": {},
   "outputs": [],
   "source": [
    "\n",
    "df.loc[df['is_in_stock'] == 'نفذت الكمية مؤقتًا', 'qty'] = 0\n",
    "df.loc[df['qty'] == 0, 'is_in_stock'] = 0\n",
    "df.loc[df['is_in_stock'] != 0, 'qty'] = 1\n",
    "df.loc[df['is_in_stock'] == 'x', 'is_in_stock'] = 1"
   ]
  },
  {
   "cell_type": "code",
   "execution_count": 18,
   "metadata": {},
   "outputs": [],
   "source": [
    "df.loc[df['is_in_stock'] != 0, 'qty'] = 1\n",
    "df.loc[df['is_in_stock'] == 'x', 'qty'] = 1"
   ]
  },
  {
   "cell_type": "code",
   "execution_count": null,
   "metadata": {},
   "outputs": [],
   "source": [
    "df.loc[df['is_in_stock'] == '1']"
   ]
  },
  {
   "cell_type": "code",
   "execution_count": null,
   "metadata": {},
   "outputs": [],
   "source": [
    "df.loc[(df['is_in_stock'] != 'في المخزون') & (df['is_in_stock'] != 'نفذت الكمية مؤقتًا')]"
   ]
  },
  {
   "cell_type": "code",
   "execution_count": 12,
   "metadata": {},
   "outputs": [
    {
     "name": "stdout",
     "output_type": "stream",
     "text": [
      "Mozilla/5.0 (X11; NetBSD) AppleWebKit/537.36 (KHTML, like Gecko) Chrome/27.0.1453.116 Safari/537.36\n"
     ]
    },
    {
     "name": "stderr",
     "output_type": "stream",
     "text": [
      "<ipython-input-12-5cd918e09ffa>:7: DeprecationWarning: use options instead of firefox_options\n",
      "  driver = webdriver.Firefox(firefox_options=options)\n"
     ]
    }
   ],
   "source": [
    "options = Options()\n",
    "ua = UserAgent()\n",
    "userAgent = ua.random\n",
    "print(userAgent)\n",
    "options.add_argument(f'user-agent={userAgent}')\n",
    "#opti#     driver = webdriver.Firefox()ons.add_argument(\"--headless\")\n",
    "driver = webdriver.Firefox(firefox_options=options)"
   ]
  },
  {
   "cell_type": "code",
   "execution_count": 18,
   "metadata": {},
   "outputs": [],
   "source": [
    "\n",
    "url = 'https://www.otantiksaudi.com/ar/shop/123-et21-white-tqm-qhw-trky-l-6-shkhs-lwn-byd-mn-mhr-7459?category=64#attr=26,30,27,29,28,25'\n",
    "driver.get(url)\n",
    "r = driver.find_element_by_tag_name('body').get_attribute('innerHTML')\n",
    "soup = BeautifulSoup(r, 'html.parser')"
   ]
  },
  {
   "cell_type": "code",
   "execution_count": 22,
   "metadata": {},
   "outputs": [
    {
     "data": {
      "text/plain": [
       "'https://www.otantiksaudi.com/web/image/product.product/7459/image_1024'"
      ]
     },
     "execution_count": 22,
     "metadata": {},
     "output_type": "execute_result"
    }
   ],
   "source": [
    "images = soup.find('div', {'id': 'mainSlider'}).find_all('img', {'alt': 'Product image'})\n",
    "len(images)\n",
    "'https://www.otantiksaudi.com' + images[0]['data-src']"
   ]
  },
  {
   "cell_type": "code",
   "execution_count": 17,
   "metadata": {},
   "outputs": [
    {
     "name": "stdout",
     "output_type": "stream",
     "text": [
      "https://www.otantiksaudi.com/web/image/product.product/7433/image_1024\n",
      "https://www.otantiksaudi.com/web/image/product.image/263/image_1024\n"
     ]
    }
   ],
   "source": [
    "images = soup.find('div', {'id': 'thumbnailSlider'}).find_all('img', {'alt': 'Product image'})\n",
    "len(images)\n",
    "\n",
    "for img in images:\n",
    "    print('https://www.otantiksaudi.com' + img['data-src'].replace('image_128', 'image_1024'))"
   ]
  },
  {
   "cell_type": "code",
   "execution_count": 22,
   "metadata": {},
   "outputs": [
    {
     "data": {
      "text/plain": [
       "('رمادي', '80cc', 'روماني', 'بورسلين', '12')"
      ]
     },
     "execution_count": 22,
     "metadata": {},
     "output_type": "execute_result"
    }
   ],
   "source": [
    "r = driver.find_element_by_tag_name('body').get_attribute('innerHTML')\n",
    "soup = BeautifulSoup(r, 'html.parser')\n",
    "free_colors = return_ele('اللون', soup)\n",
    "capacity = return_ele('السعة / القياسات', soup)\n",
    "style = return_ele('التصميم', soup)\n",
    "raw_materials = return_ele('الخامة', soup)\n",
    "num_pieces = return_ele('عدد القطع', soup)\n",
    "group = return_ele('المجموعة', soup)\n",
    "\n",
    "free_colors, capacity, style, raw_materials, num_pieces"
   ]
  },
  {
   "cell_type": "code",
   "execution_count": 17,
   "metadata": {},
   "outputs": [],
   "source": [
    "def return_ele(name, soup):\n",
    "    try:\n",
    "        return soup.find('span', text=re.compile(name)).next_element.next_element.next_element.next_element.text.strip()\n",
    "    except:\n",
    "        return ''"
   ]
  },
  {
   "cell_type": "code",
   "execution_count": 57,
   "metadata": {},
   "outputs": [
    {
     "data": {
      "text/plain": [
       "'Set Of 6 Glass Cup, 6 Saucers, 6 Cawa Cup And Suger Bowl'"
      ]
     },
     "execution_count": 57,
     "metadata": {},
     "output_type": "execute_result"
    }
   ],
   "source": [
    "r = driver.find_element_by_tag_name('body').get_attribute('innerHTML')\n",
    "soup = BeautifulSoup(r, 'html.parser')\n",
    "\n",
    "name = soup.find('h1', {'itemprop': 'name'}).text.strip()\n",
    "price = soup.find('span', {'class': 'oe_currency_value'}).text.strip()\n",
    "is_in_stock = soup.find('div', {'class': re.compile('^availability_message_')}).text.strip()\n",
    "sku  = soup.find('div', {'itemprop': 'sku'}).text.strip()\n",
    "description = soup.find('div', {'id': 'product_details'}).find('p').text.strip()\n",
    "images = soup.find_all('img', {'class': 'img img-fluid product_detail_img mh-100'})\n",
    "len(images)\n",
    "list_images = ['https://www.otantiksaudi.com' + img['src'].split('?')[0] for img in images]\n",
    "base_image = list_images[0]\n",
    "add_images = ','.join(list_images[1:])\n",
    "\n",
    "\n",
    "data = {\n",
    "    'sku': sku,\n",
    "    'name': name,\n",
    "    'price': price,\n",
    "    'is_in_stock': is_in_stock,\n",
    "    'description': description,\n",
    "    'base_images': base_image,\n",
    "    'add_images': add_images,\n",
    "    'cat1': cat1,\n",
    "    'cat2': cat2,\n",
    "    'cat3': cat3,\n",
    "}\n",
    "# name, sku, is_in_stock, description"
   ]
  },
  {
   "cell_type": "code",
   "execution_count": 79,
   "metadata": {},
   "outputs": [
    {
     "name": "stdout",
     "output_type": "stream",
     "text": [
      "2\n"
     ]
    },
    {
     "ename": "IndexError",
     "evalue": "list index out of range",
     "output_type": "error",
     "traceback": [
      "\u001b[0;31m---------------------------------------------------------------------------\u001b[0m",
      "\u001b[0;31mIndexError\u001b[0m                                Traceback (most recent call last)",
      "\u001b[0;32m<ipython-input-79-84874428002d>\u001b[0m in \u001b[0;36m<module>\u001b[0;34m\u001b[0m\n\u001b[1;32m      6\u001b[0m \u001b[0mbase_images\u001b[0m \u001b[0;34m=\u001b[0m \u001b[0mlist_images\u001b[0m\u001b[0;34m[\u001b[0m\u001b[0;36m0\u001b[0m\u001b[0;34m]\u001b[0m\u001b[0;34m\u001b[0m\u001b[0;34m\u001b[0m\u001b[0m\n\u001b[1;32m      7\u001b[0m \u001b[0madd_images\u001b[0m \u001b[0;34m=\u001b[0m \u001b[0;34m','\u001b[0m\u001b[0;34m.\u001b[0m\u001b[0mjoin\u001b[0m\u001b[0;34m(\u001b[0m\u001b[0mlist_images\u001b[0m\u001b[0;34m[\u001b[0m\u001b[0;36m1\u001b[0m\u001b[0;34m:\u001b[0m\u001b[0;34m]\u001b[0m\u001b[0;34m)\u001b[0m\u001b[0;34m\u001b[0m\u001b[0;34m\u001b[0m\u001b[0m\n\u001b[0;32m----> 8\u001b[0;31m \u001b[0mprint\u001b[0m\u001b[0;34m(\u001b[0m\u001b[0mtype\u001b[0m\u001b[0;34m(\u001b[0m\u001b[0mlist_images\u001b[0m\u001b[0;34m[\u001b[0m\u001b[0;36m3\u001b[0m\u001b[0;34m]\u001b[0m\u001b[0;34m)\u001b[0m\u001b[0;34m)\u001b[0m\u001b[0;34m\u001b[0m\u001b[0;34m\u001b[0m\u001b[0m\n\u001b[0m\u001b[1;32m      9\u001b[0m \u001b[0mlist_images\u001b[0m\u001b[0;34m\u001b[0m\u001b[0;34m\u001b[0m\u001b[0m\n",
      "\u001b[0;31mIndexError\u001b[0m: list index out of range"
     ]
    }
   ],
   "source": [
    "name = soup.find('h1', {'itemprop': 'name'}).text.strip()\n",
    "images = soup.find_all('img', {'class': 'img img-fluid product_detail_img mh-100'})\n",
    "print(len(images))\n",
    "\n",
    "list_images = ['https://www.otantiksaudi.com' + img['src'].split('?')[0] for img in images if img['src'] != '']\n",
    "base_images = list_images[0]\n",
    "add_images = ','.join(list_images[1:])\n",
    "print(type(list_images[3]))\n",
    "list_images"
   ]
  },
  {
   "cell_type": "code",
   "execution_count": 17,
   "metadata": {},
   "outputs": [
    {
     "data": {
      "text/plain": [
       "20"
      ]
     },
     "execution_count": 17,
     "metadata": {},
     "output_type": "execute_result"
    }
   ],
   "source": [
    "products = soup.find_all('form', {'card oe_product_cart'})\n",
    "len(products)\n"
   ]
  },
  {
   "cell_type": "code",
   "execution_count": null,
   "metadata": {},
   "outputs": [],
   "source": []
  },
  {
   "cell_type": "code",
   "execution_count": null,
   "metadata": {},
   "outputs": [],
   "source": []
  },
  {
   "cell_type": "code",
   "execution_count": null,
   "metadata": {},
   "outputs": [],
   "source": [
    "for pro in products:\n",
    "    print(pro.find('a')['href'])"
   ]
  },
  {
   "cell_type": "code",
   "execution_count": null,
   "metadata": {},
   "outputs": [],
   "source": []
  }
 ],
 "metadata": {
  "interpreter": {
   "hash": "901bbe481fb91f862c10b8e54f95d7da636ff35e7b7d7322c639cfaac06e5987"
  },
  "kernelspec": {
   "display_name": "Python 3.8.8 ('base')",
   "language": "python",
   "name": "python3"
  },
  "language_info": {
   "codemirror_mode": {
    "name": "ipython",
    "version": 3
   },
   "file_extension": ".py",
   "mimetype": "text/x-python",
   "name": "python",
   "nbconvert_exporter": "python",
   "pygments_lexer": "ipython3",
   "version": "3.8.8"
  },
  "orig_nbformat": 4
 },
 "nbformat": 4,
 "nbformat_minor": 2
}
