{
 "cells": [
  {
   "cell_type": "code",
   "execution_count": 55,
   "metadata": {},
   "outputs": [],
   "source": [
    "#imports here\n",
    "from selenium import webdriver\n",
    "from selenium.webdriver.common.keys import Keys\n",
    "from selenium.webdriver.support import expected_conditions as EC\n",
    "from selenium.webdriver.common.by import By\n",
    "from selenium.webdriver.support.wait import WebDriverWait\n",
    "import time\n",
    "import os\n",
    "from twocaptcha import TwoCaptcha"
   ]
  },
  {
   "cell_type": "code",
   "execution_count": 56,
   "metadata": {},
   "outputs": [],
   "source": [
    "config = {\n",
    "            'server':           '2captcha.com',\n",
    "            'apiKey':           '272b0745e922e42bbe71571544a9b675',\n",
    "            'softId':            123,\n",
    "            'callback':         'https://sedeclave.dgt.gob.es/WEB_NCIT_CONSULTA/solicitarCita.faces',\n",
    "            'defaultTimeout':    120,\n",
    "            'recaptchaTimeout':  600,\n",
    "            'pollingInterval':   10,\n",
    "        }\n",
    "solver = TwoCaptcha(**config)"
   ]
  },
  {
   "cell_type": "code",
   "execution_count": 59,
   "metadata": {},
   "outputs": [
    {
     "ename": "TypeError",
     "evalue": "recaptcha() missing 1 required positional argument: 'sitekey'",
     "output_type": "error",
     "traceback": [
      "\u001b[0;31m---------------------------------------------------------------------------\u001b[0m",
      "\u001b[0;31mTypeError\u001b[0m                                 Traceback (most recent call last)",
      "\u001b[0;32m<ipython-input-59-dd6c38a4661e>\u001b[0m in \u001b[0;36m<module>\u001b[0;34m\u001b[0m\n\u001b[0;32m----> 1\u001b[0;31m result = solver.recaptcha(\n\u001b[0m\u001b[1;32m      2\u001b[0m                             \u001b[0murl\u001b[0m\u001b[0;34m=\u001b[0m\u001b[0;34m'https://sedeclave.dgt.gob.es/WEB_NCIT_CONSULTA/solicitarCita.faces'\u001b[0m\u001b[0;34m,\u001b[0m\u001b[0;34m\u001b[0m\u001b[0;34m\u001b[0m\u001b[0m\n\u001b[1;32m      3\u001b[0m                             version='v3')\n",
      "\u001b[0;31mTypeError\u001b[0m: recaptcha() missing 1 required positional argument: 'sitekey'"
     ]
    }
   ],
   "source": [
    "result = solver.recaptcha(sitekey=\"6Le-wvkSVVABCPBMRTvw0Q4Muexq1bi0DJwx_mJ-\",\n",
    "                            url='https://sedeclave.dgt.gob.es/WEB_NCIT_CONSULTA/solicitarCita.faces',\n",
    "                            version='v3')"
   ]
  },
  {
   "cell_type": "code",
   "execution_count": null,
   "metadata": {},
   "outputs": [],
   "source": []
  },
  {
   "cell_type": "code",
   "execution_count": null,
   "metadata": {},
   "outputs": [],
   "source": []
  },
  {
   "cell_type": "code",
   "execution_count": null,
   "metadata": {},
   "outputs": [],
   "source": []
  },
  {
   "cell_type": "code",
   "execution_count": null,
   "metadata": {},
   "outputs": [],
   "source": []
  },
  {
   "cell_type": "code",
   "execution_count": null,
   "metadata": {},
   "outputs": [],
   "source": []
  },
  {
   "cell_type": "code",
   "execution_count": 54,
   "metadata": {},
   "outputs": [],
   "source": [
    "driver = webdriver.Firefox()\n",
    "\n",
    "#open the webpage\n",
    "driver.get(\"https://sedeclave.dgt.gob.es/WEB_NCIT_CONSULTA/solicitarCita.faces\")\n"
   ]
  },
  {
   "cell_type": "code",
   "execution_count": null,
   "metadata": {},
   "outputs": [],
   "source": []
  },
  {
   "cell_type": "code",
   "execution_count": null,
   "metadata": {},
   "outputs": [],
   "source": [
    "https://www.linkedin.com/company/the-coca-cola-company/posts/?feedView=ads\n",
    "    "
   ]
  },
  {
   "cell_type": "code",
   "execution_count": 2,
   "metadata": {},
   "outputs": [],
   "source": [
    "\n"
   ]
  },
  {
   "cell_type": "code",
   "execution_count": 47,
   "metadata": {},
   "outputs": [],
   "source": [
    "#Connextion\n",
    "driver = webdriver.Firefox()\n",
    "\n",
    "# driver = webdriver.Chrome('C:/Users/Mariya/chromedriver.exe')\n",
    "driver.get('https://www.linkedin.com')\n",
    "time.sleep(2)\n",
    "\n",
    "#********** LOG IN *************\n",
    "\n",
    "username = driver.find_element_by_xpath(\"//input[@name='session_key']\")\n",
    "password = driver.find_element_by_xpath(\"//input[@name='session_password']\")\n",
    "\n",
    "username.send_keys('mameri.wafi@gmail.com')\n",
    "password.send_keys('djamel2013*')\n",
    "time.sleep(2)\n",
    "\n",
    "submit = driver.find_element_by_xpath(\"//button[@type='submit']\").click()\n",
    "\n",
    "#***************** ADD CONTACTS ***********************\n",
    "\n",
    "driver.get(\"https://www.linkedin.com/search/results/people/?network=%5B%22S%22%5D&origin=FACETED_SEARCH&page=10\")\n",
    "time.sleep(2)\n",
    "\n",
    "all_buttons = driver.find_elements_by_tag_name(\"button\")\n",
    "connect_buttons = [btn for btn in all_buttons if btn.text == \"Connect\"]\n",
    "\n",
    "for btn in connect_buttons:\n",
    "    driver.execute_script(\"arguments[0].click();\", btn)\n",
    "    time.sleep(2)\n",
    "    send = driver.find_element_by_xpath(\"//button[@aria-label='Send now']\")\n",
    "    driver.execute_script(\"arguments[0].click();\", send)\n",
    "    close = driver.find_element_by_xpath(\"//button[@aria-label='Dismiss']\")\n",
    "    driver.execute_script(\"arguments[0].click();\", close)\n",
    "    time.sleep(2)"
   ]
  },
  {
   "cell_type": "code",
   "execution_count": null,
   "metadata": {},
   "outputs": [],
   "source": []
  },
  {
   "cell_type": "code",
   "execution_count": null,
   "metadata": {},
   "outputs": [],
   "source": []
  },
  {
   "cell_type": "code",
   "execution_count": null,
   "metadata": {},
   "outputs": [],
   "source": []
  },
  {
   "cell_type": "code",
   "execution_count": null,
   "metadata": {},
   "outputs": [],
   "source": []
  },
  {
   "cell_type": "code",
   "execution_count": 48,
   "metadata": {},
   "outputs": [],
   "source": [
    "#open the webpage\n",
    "driver.get(\"https://www.linkedin.com/company/the-coca-cola-company/posts/?feedView=ads\")"
   ]
  },
  {
   "cell_type": "code",
   "execution_count": null,
   "metadata": {},
   "outputs": [],
   "source": []
  },
  {
   "cell_type": "code",
   "execution_count": null,
   "metadata": {},
   "outputs": [],
   "source": []
  },
  {
   "cell_type": "code",
   "execution_count": 49,
   "metadata": {},
   "outputs": [],
   "source": [
    "\n",
    "\n",
    "#scroll down 2 times\n",
    "#increase the range to sroll more\n",
    "n_scrolls = 4\n",
    "for j in range(0, n_scrolls):\n",
    "    driver.execute_script(\"window.scrollTo(0, document.body.scrollHeight);\")\n",
    "    time.sleep(5)\n",
    "\n"
   ]
  },
  {
   "cell_type": "code",
   "execution_count": null,
   "metadata": {},
   "outputs": [],
   "source": []
  },
  {
   "cell_type": "code",
   "execution_count": null,
   "metadata": {},
   "outputs": [],
   "source": []
  },
  {
   "cell_type": "code",
   "execution_count": null,
   "metadata": {},
   "outputs": [],
   "source": []
  },
  {
   "cell_type": "code",
   "execution_count": 50,
   "metadata": {},
   "outputs": [],
   "source": [
    "images = driver.find_elements_by_css_selector('img')\n"
   ]
  },
  {
   "cell_type": "code",
   "execution_count": null,
   "metadata": {},
   "outputs": [],
   "source": []
  },
  {
   "cell_type": "code",
   "execution_count": null,
   "metadata": {},
   "outputs": [],
   "source": []
  },
  {
   "cell_type": "code",
   "execution_count": 51,
   "metadata": {},
   "outputs": [
    {
     "name": "stdout",
     "output_type": "stream",
     "text": [
      "84\n"
     ]
    }
   ],
   "source": [
    "url = []\n",
    "for link in images:\n",
    "    url.append(link.get_attribute('src'))\n",
    "print(len(url))"
   ]
  },
  {
   "cell_type": "code",
   "execution_count": null,
   "metadata": {},
   "outputs": [],
   "source": [
    "84 images find  all not is valid but i will get a correct link by use REGEX "
   ]
  },
  {
   "cell_type": "code",
   "execution_count": 52,
   "metadata": {},
   "outputs": [
    {
     "data": {
      "text/plain": [
       "['data:image/gif;base64,R0lGODlhAQABAIAAAAAAAP///yH5BAEAAAAALAAAAAABAAEAAAIBRAA7',\n",
       " 'data:image/gif;base64,R0lGODlhAQABAIAAAAAAAP///yH5BAEAAAAALAAAAAABAAEAAAIBRAA7',\n",
       " 'data:image/gif;base64,R0lGODlhAQABAIAAAAAAAP///yH5BAEAAAAALAAAAAABAAEAAAIBRAA7',\n",
       " 'data:image/gif;base64,R0lGODlhAQABAIAAAAAAAP///yH5BAEAAAAALAAAAAABAAEAAAIBRAA7',\n",
       " 'data:image/gif;base64,R0lGODlhAQABAIAAAAAAAP///yH5BAEAAAAALAAAAAABAAEAAAIBRAA7',\n",
       " 'data:image/gif;base64,R0lGODlhAQABAIAAAAAAAP///yH5BAEAAAAALAAAAAABAAEAAAIBRAA7',\n",
       " 'data:image/gif;base64,R0lGODlhAQABAIAAAAAAAP///yH5BAEAAAAALAAAAAABAAEAAAIBRAA7',\n",
       " 'data:image/gif;base64,R0lGODlhAQABAIAAAAAAAP///yH5BAEAAAAALAAAAAABAAEAAAIBRAA7',\n",
       " 'data:image/gif;base64,R0lGODlhAQABAIAAAAAAAP///yH5BAEAAAAALAAAAAABAAEAAAIBRAA7',\n",
       " 'data:image/gif;base64,R0lGODlhAQABAIAAAAAAAP///yH5BAEAAAAALAAAAAABAAEAAAIBRAA7',\n",
       " 'data:image/gif;base64,R0lGODlhAQABAIAAAAAAAP///yH5BAEAAAAALAAAAAABAAEAAAIBRAA7',\n",
       " 'https://media-exp1.licdn.com/dms/image/C4E03AQFls_-KYg4bZA/profile-displayphoto-shrink_100_100/0/1604163103442?e=1626912000&v=beta&t=hZUuBKu2ox19_n34Drsy2fxzbZkefOHlJ6b2QtwDh-I',\n",
       " 'https://media-exp1.licdn.com/dms/image/C4E0BAQHB_kyJoKY-WA/company-logo_100_100/0/1586945762674?e=1629331200&v=beta&t=uiNMATHz6rnIZJOkBjL9o5DKaxcfXMzBUeYpLTAiERM',\n",
       " 'https://media-exp1.licdn.com/dms/image/C4E1BAQEYdIOHn4oGLQ/company-background_10000/0/1598461236684?e=1621584000&v=beta&t=EPA2TmmqsoXxsovw51a6U8NOj89nf1A72mGCcuUby_E',\n",
       " None,\n",
       " 'https://media-exp1.licdn.com/dms/image/C4E0BAQHB_kyJoKY-WA/company-logo_200_200/0/1586945762674?e=1629331200&v=beta&t=INCd3d7HOeA4p6MkMMbsZM7nZQLHy0xCk2Xv8Q5Lnkc',\n",
       " 'https://media-exp1.licdn.com/dms/image/C4E0BAQHB_kyJoKY-WA/company-logo_100_100/0/1586945762674?e=1629331200&v=beta&t=uiNMATHz6rnIZJOkBjL9o5DKaxcfXMzBUeYpLTAiERM',\n",
       " 'https://media-exp1.licdn.com/dms/image/C4E0BAQHB_kyJoKY-WA/company-logo_100_100/0/1586945762674?e=1629331200&v=beta&t=uiNMATHz6rnIZJOkBjL9o5DKaxcfXMzBUeYpLTAiERM',\n",
       " 'https://media-exp1.licdn.com/dms/image/C4D22AQHttHf9-5FozQ/feedshare-shrink_2048_1536/0/1620121319839?e=1624492800&v=beta&t=4zXMuh8sVbE2z9bjtOmTUtW8J-_kEuCL_JmRQ5wIRBk',\n",
       " 'https://media-exp1.licdn.com/dms/image/C4E0BAQHB_kyJoKY-WA/company-logo_100_100/0/1586945762674?e=1629331200&v=beta&t=uiNMATHz6rnIZJOkBjL9o5DKaxcfXMzBUeYpLTAiERM',\n",
       " 'https://media-exp1.licdn.com/dms/image/C4D22AQGlsVB_HNMEEw/feedshare-shrink_800/0/1620892894254?e=1624492800&v=beta&t=AWcoLsv_bil5Sg0li8sIwBfjfMpzMtsiajzTnGo_xyo',\n",
       " 'https://media-exp1.licdn.com/dms/image/C4E0BAQHB_kyJoKY-WA/company-logo_100_100/0/1586945762674?e=1629331200&v=beta&t=uiNMATHz6rnIZJOkBjL9o5DKaxcfXMzBUeYpLTAiERM',\n",
       " 'https://media-exp1.licdn.com/dms/image/C4E0BAQHB_kyJoKY-WA/company-logo_100_100/0/1586945762674?e=1629331200&v=beta&t=uiNMATHz6rnIZJOkBjL9o5DKaxcfXMzBUeYpLTAiERM',\n",
       " 'https://media-exp1.licdn.com/dms/image/sync/C5618AQHMbwLV6OS2IA/companyUpdate-article-image-shrink_627_1200/0/1612967151334?e=1624492800&v=beta&t=vCSfBKXtznar659OohI-XCpLVXx43XxHX3TUFhE0S2c',\n",
       " 'https://media-exp1.licdn.com/dms/image/C4E0BAQHB_kyJoKY-WA/company-logo_100_100/0/1586945762674?e=1629331200&v=beta&t=uiNMATHz6rnIZJOkBjL9o5DKaxcfXMzBUeYpLTAiERM',\n",
       " 'https://media-exp1.licdn.com/dms/image/C4E0BAQHB_kyJoKY-WA/company-logo_100_100/0/1586945762674?e=1629331200&v=beta&t=uiNMATHz6rnIZJOkBjL9o5DKaxcfXMzBUeYpLTAiERM',\n",
       " 'https://media-exp1.licdn.com/dms/image/C4E0BAQHB_kyJoKY-WA/company-logo_100_100/0/1586945762674?e=1629331200&v=beta&t=uiNMATHz6rnIZJOkBjL9o5DKaxcfXMzBUeYpLTAiERM',\n",
       " 'https://media-exp1.licdn.com/dms/image/C4E0BAQHB_kyJoKY-WA/company-logo_100_100/0/1586945762674?e=1629331200&v=beta&t=uiNMATHz6rnIZJOkBjL9o5DKaxcfXMzBUeYpLTAiERM',\n",
       " 'https://media-exp1.licdn.com/dms/image/C4E0BAQHB_kyJoKY-WA/company-logo_100_100/0/1586945762674?e=1629331200&v=beta&t=uiNMATHz6rnIZJOkBjL9o5DKaxcfXMzBUeYpLTAiERM',\n",
       " 'https://media-exp1.licdn.com/dms/image/C4D22AQEcZ1llK7E7mg/feedshare-shrink_800/0/1613149002485?e=1624492800&v=beta&t=gr_5MNYUH5uI4hvatuAeJ-z8MFCWQvDTN8_Bf0e5xI0',\n",
       " 'https://media-exp1.licdn.com/dms/image/C4E0BAQHB_kyJoKY-WA/company-logo_100_100/0/1586945762674?e=1629331200&v=beta&t=uiNMATHz6rnIZJOkBjL9o5DKaxcfXMzBUeYpLTAiERM',\n",
       " 'https://media-exp1.licdn.com/dms/image/C4E0BAQHB_kyJoKY-WA/company-logo_100_100/0/1586945762674?e=1629331200&v=beta&t=uiNMATHz6rnIZJOkBjL9o5DKaxcfXMzBUeYpLTAiERM',\n",
       " 'https://media-exp1.licdn.com/dms/image/C4D22AQEsrIWFZ1oc1A/feedshare-shrink_800/0/1603208875285?e=1624492800&v=beta&t=CVq_kqxWXHOOWGaHMvrMqGtNxJaiMdqWL_MDi1oANEA',\n",
       " 'https://media-exp1.licdn.com/dms/image/C4E0BAQHB_kyJoKY-WA/company-logo_100_100/0/1586945762674?e=1629331200&v=beta&t=uiNMATHz6rnIZJOkBjL9o5DKaxcfXMzBUeYpLTAiERM',\n",
       " 'https://media-exp1.licdn.com/dms/image/C4D22AQGl6Jzgw-PUQQ/feedshare-shrink_800/0/1619424745187?e=1624492800&v=beta&t=eMlWvOrucMFN9A9u3Q6-cV7ZGpsNzHk2tr94xn0MmD8',\n",
       " 'https://media-exp1.licdn.com/dms/image/C4E0BAQHB_kyJoKY-WA/company-logo_100_100/0/1586945762674?e=1629331200&v=beta&t=uiNMATHz6rnIZJOkBjL9o5DKaxcfXMzBUeYpLTAiERM',\n",
       " 'https://media-exp1.licdn.com/dms/image/C4E0BAQHB_kyJoKY-WA/company-logo_100_100/0/1586945762674?e=1629331200&v=beta&t=uiNMATHz6rnIZJOkBjL9o5DKaxcfXMzBUeYpLTAiERM',\n",
       " 'https://media-exp1.licdn.com/dms/image/sync/C4D34AQEQ4bFVttyvLA/ugc-proxy-shrink_800/0/1618911442538?e=1621584000&v=beta&t=Iuq8Komt3-vOFjLMUAvXRFtwPOlRKLoIxiVAzbn7fX4',\n",
       " 'https://media-exp1.licdn.com/dms/image/C4E0BAQHB_kyJoKY-WA/company-logo_100_100/0/1586945762674?e=1629331200&v=beta&t=uiNMATHz6rnIZJOkBjL9o5DKaxcfXMzBUeYpLTAiERM',\n",
       " 'https://media-exp1.licdn.com/dms/image/sync/C5618AQE6wMMZh7Y3RA/companyUpdate-article-image-shrink_627_1200/0/1613400667057?e=1624492800&v=beta&t=GPWSmF9iVozEMUjqhtI8LS1wZr0c5VFmVMogh1MYHHY',\n",
       " 'https://media-exp1.licdn.com/dms/image/C4E0BAQHB_kyJoKY-WA/company-logo_100_100/0/1586945762674?e=1629331200&v=beta&t=uiNMATHz6rnIZJOkBjL9o5DKaxcfXMzBUeYpLTAiERM',\n",
       " 'https://media-exp1.licdn.com/dms/image/C4E0BAQHB_kyJoKY-WA/company-logo_100_100/0/1586945762674?e=1629331200&v=beta&t=uiNMATHz6rnIZJOkBjL9o5DKaxcfXMzBUeYpLTAiERM',\n",
       " 'https://media-exp1.licdn.com/dms/image/C4E0BAQHB_kyJoKY-WA/company-logo_100_100/0/1586945762674?e=1629331200&v=beta&t=uiNMATHz6rnIZJOkBjL9o5DKaxcfXMzBUeYpLTAiERM',\n",
       " 'https://media-exp1.licdn.com/dms/image/C4E22AQEk3mFUX3y7Rw/feedshare-shrink_2048_1536/0/1619086502102?e=1624492800&v=beta&t=0SdAJAdgk_41B28ozZCEWs4VDovYkHdnnuD1wFoeqhc',\n",
       " 'https://media-exp1.licdn.com/dms/image/C4E0BAQHB_kyJoKY-WA/company-logo_100_100/0/1586945762674?e=1629331200&v=beta&t=uiNMATHz6rnIZJOkBjL9o5DKaxcfXMzBUeYpLTAiERM',\n",
       " 'https://media-exp1.licdn.com/dms/image/C4E0BAQHB_kyJoKY-WA/company-logo_100_100/0/1586945762674?e=1629331200&v=beta&t=uiNMATHz6rnIZJOkBjL9o5DKaxcfXMzBUeYpLTAiERM',\n",
       " 'https://media-exp1.licdn.com/dms/image/C4E0BAQHB_kyJoKY-WA/company-logo_100_100/0/1586945762674?e=1629331200&v=beta&t=uiNMATHz6rnIZJOkBjL9o5DKaxcfXMzBUeYpLTAiERM',\n",
       " 'https://media-exp1.licdn.com/dms/image/C4E0BAQHB_kyJoKY-WA/company-logo_100_100/0/1586945762674?e=1629331200&v=beta&t=uiNMATHz6rnIZJOkBjL9o5DKaxcfXMzBUeYpLTAiERM',\n",
       " 'https://media-exp1.licdn.com/dms/image/C4E0BAQHB_kyJoKY-WA/company-logo_100_100/0/1586945762674?e=1629331200&v=beta&t=uiNMATHz6rnIZJOkBjL9o5DKaxcfXMzBUeYpLTAiERM',\n",
       " 'https://media-exp1.licdn.com/dms/image/sync/C4D34AQEQ4bFVttyvLA/ugc-proxy-shrink_800/0/1618911442538?e=1621584000&v=beta&t=Iuq8Komt3-vOFjLMUAvXRFtwPOlRKLoIxiVAzbn7fX4',\n",
       " 'https://media-exp1.licdn.com/dms/image/C4E0BAQHB_kyJoKY-WA/company-logo_100_100/0/1586945762674?e=1629331200&v=beta&t=uiNMATHz6rnIZJOkBjL9o5DKaxcfXMzBUeYpLTAiERM',\n",
       " 'https://media-exp1.licdn.com/dms/image/C560BAQGQuWLvtTzYHA/company-logo_100_100/0/1552385547494?e=1629331200&v=beta&t=xm2TemBnOEZ0Jgb5BaoqVVMnyeQtQDcMg8ESfsXud_Y',\n",
       " 'https://media-exp1.licdn.com/dms/image/C4E0BAQFRN1C3kL7Wtw/company-logo_100_100/0/1519863943993?e=1629331200&v=beta&t=TwzFJcvavz2PpxPrxkyWn0yhZYlMPqDsHWOJ82A8dko',\n",
       " 'https://media-exp1.licdn.com/dms/image/C4D0BAQE9stRV5JkCFQ/company-logo_100_100/0/1519856314179?e=1629331200&v=beta&t=309X6BlsfMzy8EZGzp9zXOcy4Uxo19ppBEv1jXWr0OI',\n",
       " 'https://media-exp1.licdn.com/dms/image/C4E0BAQGaL-YyJ8xd7Q/company-logo_100_100/0/1592405863758?e=1629331200&v=beta&t=EqH9_Ce-cRXIygB7aw1DjJVWFPvcZsG6n8O5ZNAcZQU',\n",
       " 'https://media-exp1.licdn.com/dms/image/C4E03AQGCfMXLYO6zrQ/profile-displayphoto-shrink_100_100/0/1610619683861?e=1626912000&v=beta&t=K6Xk2tYxlw8BJ1Zn06T45NJs7RMf-ihYQnWL0wgj7h4',\n",
       " 'https://media-exp1.licdn.com/dms/image/C5603AQHr3PTiz4SGVQ/profile-displayphoto-shrink_100_100/0/1553188963542?e=1626912000&v=beta&t=y6biv_B1opi_n6sRyD25OWN3EyGRh8aArTTegIhh5gw',\n",
       " 'https://media-exp1.licdn.com/dms/image/C4D03AQEoMA08jh-j5w/profile-displayphoto-shrink_100_100/0/1518218708544?e=1626912000&v=beta&t=rPPvy3m2DeM0f1fPWoaouabr6kKCITOZmKXwD9Dzpnk',\n",
       " 'https://media-exp1.licdn.com/dms/image/C4E0BAQFC-wGW2UwMIQ/company-logo_100_100/0/1593590505853?e=1629331200&v=beta&t=JrhmGx9fx2sr5b4QO7mXQ9rVCG7jpqdEBGAtneVbBq0',\n",
       " 'https://media-exp1.licdn.com/dms/image/C4E03AQFls_-KYg4bZA/profile-displayphoto-shrink_100_100/0/1604163103442?e=1626912000&v=beta&t=hZUuBKu2ox19_n34Drsy2fxzbZkefOHlJ6b2QtwDh-I',\n",
       " 'https://media-exp1.licdn.com/dms/image/C4E0CAQHhyLeVefqvmQ/spinmail-customsender-displayphoto-shrink_100_100/0/1618575383011?e=1621584000&v=beta&t=zFCX8Ah8ozWmEXU_UmBuXAEReHkgSgWcOBTw3F18jaA',\n",
       " 'data:image/gif;base64,R0lGODlhAQABAIAAAAAAAP///yH5BAEAAAAALAAAAAABAAEAAAIBRAA7',\n",
       " 'data:image/gif;base64,R0lGODlhAQABAIAAAAAAAP///yH5BAEAAAAALAAAAAABAAEAAAIBRAA7',\n",
       " 'https://media-exp1.licdn.com/dms/image/C4D03AQGTDyC8_T4YCg/profile-displayphoto-shrink_100_100/0/1516238378546?e=1626912000&v=beta&t=ZQLvWg47GND4oOG50nvfvaeEncPDPghveF0QKY29AAM',\n",
       " 'https://media-exp1.licdn.com/dms/image/C5603AQGSHSXHrdTSPQ/profile-displayphoto-shrink_100_100/0/1582361484777?e=1626912000&v=beta&t=6tBpJuIvE8z0UYdunkJJFVFlWKnE92SPWNICClr4C8Y',\n",
       " 'https://media-exp1.licdn.com/dms/image/C4D03AQH2_Pq0Iopj6g/profile-displayphoto-shrink_100_100/0/1614778156121?e=1626912000&v=beta&t=yN_6R7fE9UgjorBTFKUEn93-k7jLb1RKoQQ5pEo7cVQ',\n",
       " 'https://media-exp1.licdn.com/dms/image/C4D03AQE6Bn5mKqe8Tg/profile-displayphoto-shrink_100_100/0/1540238531372?e=1626912000&v=beta&t=StFNAviDg-KJTzCoL2H0F3FBuU4Fr6CT1aJfBzJYJBU',\n",
       " 'https://media-exp1.licdn.com/dms/image/C5603AQGYzjXmSunLjw/profile-displayphoto-shrink_100_100/0/1517630506476?e=1626912000&v=beta&t=xh5ENgY0hQPYSKcxS42JIaLJHS8_2MG5fNFH01QMy90',\n",
       " 'https://media-exp1.licdn.com/dms/image/C5635AQFdRljj6s-PDQ/profile-framedphoto-shrink_100_100/0/1614100069780?e=1621584000&v=beta&t=15qYncHHyUSiu5V-Iwukle9CykJW6YfKOUpC7uHoP7U',\n",
       " 'https://media-exp1.licdn.com/dms/image/C4E35AQHIgi45pCa-3A/profile-framedphoto-shrink_100_100/0/1618424417297?e=1621584000&v=beta&t=CoVuW4xmsL1Go3UcfrvA9OKf_rl3lWpgRjgXh68flpY',\n",
       " 'https://media-exp1.licdn.com/dms/image/C4D35AQEGIDrXyBQtWg/profile-framedphoto-shrink_100_100/0/1619599923042?e=1621584000&v=beta&t=emv3oSIRD8nLo8ZvchWCQrCpbQzcx7QA8CyhuaWGgkc',\n",
       " 'https://media-exp1.licdn.com/dms/image/C4D35AQEfN5-lTeyqzw/profile-framedphoto-shrink_100_100/0/1606220313333?e=1621584000&v=beta&t=iaQ_MnJIMf_I7-SaOfIF8RwDGPWYPb8GOk3RxSI8Gsk',\n",
       " 'https://media-exp1.licdn.com/dms/image/C4D03AQHDnBNMAxQLdQ/profile-displayphoto-shrink_100_100/0/1597610513490?e=1626912000&v=beta&t=1DwpdgGu10rc-ULR2rw6-GinB0urVs0PhTVV_jf18hM',\n",
       " 'https://media-exp1.licdn.com/dms/image/C4E03AQFeoyG7gQxbPg/profile-displayphoto-shrink_100_100/0/1564537138204?e=1626912000&v=beta&t=quiqgkrpCZc2zoZ9rm2rvFgXdv5srsAnMj2UtFPGe-k',\n",
       " 'https://media-exp1.licdn.com/dms/image/C4D35AQEDSko-g2n_lw/profile-framedphoto-shrink_100_100/0/1619547762151?e=1621584000&v=beta&t=laGb0rkTLQraD7YBovUpT96hHlUO5SG0Oavhv9-rLR0',\n",
       " 'https://media-exp1.licdn.com/dms/image/C4E03AQH7NQgEEkKLkQ/profile-displayphoto-shrink_100_100/0/1522055956796?e=1626912000&v=beta&t=Kf2HZxlR9YW1I9e4h62CoQQftGyu3d9MmG_X8owpmbQ',\n",
       " 'https://media-exp1.licdn.com/dms/image/C4E35AQGKp6LI3tp4gA/profile-framedphoto-shrink_100_100/0/1595500848614?e=1621584000&v=beta&t=ZqbYldbSkdHigG_N1CuZBplBXNXY4fSfhChiaceFixw',\n",
       " 'https://media-exp1.licdn.com/dms/image/C4D03AQH0LjmLdbFwvg/profile-displayphoto-shrink_100_100/0/1600540691134?e=1626912000&v=beta&t=asAqGx0Ym7W1Xpl_2hHKZ7MysH1kC0An7JYWUtHvOoQ',\n",
       " 'https://media-exp1.licdn.com/dms/image/C5603AQFqVIxJ0e7KUA/profile-displayphoto-shrink_100_100/0/1516318872335?e=1626912000&v=beta&t=mn8stAxDPu8TSb5F4jgzsUPK3nA-tZHZYM79cSGQuOw',\n",
       " 'https://media-exp1.licdn.com/dms/image/C5603AQFwcaEJQzHi8g/profile-displayphoto-shrink_100_100/0/1585480343949?e=1626912000&v=beta&t=QQxHV3GiTEN7f9dOUJbUwCqKOL_3KjaFEtKNhQDqQTE',\n",
       " 'https://px.ads.linkedin.com/collect/?pid=6883&fmt=gif&_t=1621497291187',\n",
       " 'data:image/gif;base64,R0lGODlhAQABAIAAAAAAAP///yH5BAEAAAAALAAAAAABAAEAAAIBRAA7',\n",
       " 'data:image/gif;base64,R0lGODlhAQABAIAAAAAAAP///yH5BAEAAAAALAAAAAABAAEAAAIBRAA7',\n",
       " 'data:image/gif;base64,R0lGODlhAQABAIAAAAAAAP///yH5BAEAAAAALAAAAAABAAEAAAIBRAA7']"
      ]
     },
     "execution_count": 52,
     "metadata": {},
     "output_type": "execute_result"
    }
   ],
   "source": [
    "url"
   ]
  },
  {
   "cell_type": "code",
   "execution_count": null,
   "metadata": {},
   "outputs": [],
   "source": []
  },
  {
   "cell_type": "code",
   "execution_count": null,
   "metadata": {},
   "outputs": [],
   "source": []
  },
  {
   "cell_type": "code",
   "execution_count": null,
   "metadata": {},
   "outputs": [],
   "source": []
  },
  {
   "cell_type": "code",
   "execution_count": null,
   "metadata": {},
   "outputs": [],
   "source": []
  },
  {
   "cell_type": "code",
   "execution_count": null,
   "metadata": {},
   "outputs": [],
   "source": []
  },
  {
   "cell_type": "code",
   "execution_count": null,
   "metadata": {},
   "outputs": [],
   "source": []
  },
  {
   "cell_type": "code",
   "execution_count": null,
   "metadata": {},
   "outputs": [],
   "source": []
  },
  {
   "cell_type": "code",
   "execution_count": null,
   "metadata": {},
   "outputs": [],
   "source": []
  },
  {
   "cell_type": "code",
   "execution_count": null,
   "metadata": {},
   "outputs": [],
   "source": []
  },
  {
   "cell_type": "code",
   "execution_count": null,
   "metadata": {},
   "outputs": [],
   "source": []
  },
  {
   "cell_type": "code",
   "execution_count": null,
   "metadata": {},
   "outputs": [],
   "source": []
  },
  {
   "cell_type": "code",
   "execution_count": null,
   "metadata": {},
   "outputs": [],
   "source": []
  },
  {
   "cell_type": "code",
   "execution_count": 34,
   "metadata": {},
   "outputs": [
    {
     "ename": "InvalidSessionIdException",
     "evalue": "Message: Tried to run command without establishing a connection\n",
     "output_type": "error",
     "traceback": [
      "\u001b[0;31m---------------------------------------------------------------------------\u001b[0m",
      "\u001b[0;31mInvalidSessionIdException\u001b[0m                 Traceback (most recent call last)",
      "\u001b[0;32m<ipython-input-34-91abad1c01cf>\u001b[0m in \u001b[0;36m<module>\u001b[0;34m\u001b[0m\n\u001b[1;32m      1\u001b[0m \u001b[0;32mfrom\u001b[0m \u001b[0murllib\u001b[0m\u001b[0;34m.\u001b[0m\u001b[0mparse\u001b[0m \u001b[0;32mimport\u001b[0m \u001b[0murlparse\u001b[0m\u001b[0;34m\u001b[0m\u001b[0;34m\u001b[0m\u001b[0m\n\u001b[1;32m      2\u001b[0m \u001b[0;32mfor\u001b[0m \u001b[0mlink\u001b[0m \u001b[0;32min\u001b[0m \u001b[0mimage\u001b[0m\u001b[0;34m:\u001b[0m\u001b[0;34m\u001b[0m\u001b[0;34m\u001b[0m\u001b[0m\n\u001b[0;32m----> 3\u001b[0;31m     \u001b[0murl\u001b[0m \u001b[0;34m=\u001b[0m \u001b[0mlink\u001b[0m\u001b[0;34m.\u001b[0m\u001b[0mget_attribute\u001b[0m\u001b[0;34m(\u001b[0m\u001b[0;34m'src'\u001b[0m\u001b[0;34m)\u001b[0m\u001b[0;34m\u001b[0m\u001b[0;34m\u001b[0m\u001b[0m\n\u001b[0m\u001b[1;32m      4\u001b[0m     \u001b[0mprint\u001b[0m\u001b[0;34m(\u001b[0m\u001b[0mlen\u001b[0m\u001b[0;34m(\u001b[0m\u001b[0murl\u001b[0m\u001b[0;34m)\u001b[0m\u001b[0;34m)\u001b[0m\u001b[0;34m\u001b[0m\u001b[0;34m\u001b[0m\u001b[0m\n",
      "\u001b[0;32m~/Downloads/yes/lib/python3.8/site-packages/selenium/webdriver/remote/webelement.py\u001b[0m in \u001b[0;36mget_attribute\u001b[0;34m(self, name)\u001b[0m\n\u001b[1;32m    137\u001b[0m         \u001b[0mattributeValue\u001b[0m \u001b[0;34m=\u001b[0m \u001b[0;34m''\u001b[0m\u001b[0;34m\u001b[0m\u001b[0;34m\u001b[0m\u001b[0m\n\u001b[1;32m    138\u001b[0m         \u001b[0;32mif\u001b[0m \u001b[0mself\u001b[0m\u001b[0;34m.\u001b[0m\u001b[0m_w3c\u001b[0m\u001b[0;34m:\u001b[0m\u001b[0;34m\u001b[0m\u001b[0;34m\u001b[0m\u001b[0m\n\u001b[0;32m--> 139\u001b[0;31m             attributeValue = self.parent.execute_script(\n\u001b[0m\u001b[1;32m    140\u001b[0m                 \u001b[0;34m\"return (%s).apply(null, arguments);\"\u001b[0m \u001b[0;34m%\u001b[0m \u001b[0mgetAttribute_js\u001b[0m\u001b[0;34m,\u001b[0m\u001b[0;34m\u001b[0m\u001b[0;34m\u001b[0m\u001b[0m\n\u001b[1;32m    141\u001b[0m                 self, name)\n",
      "\u001b[0;32m~/Downloads/yes/lib/python3.8/site-packages/selenium/webdriver/remote/webdriver.py\u001b[0m in \u001b[0;36mexecute_script\u001b[0;34m(self, script, *args)\u001b[0m\n\u001b[1;32m    632\u001b[0m             \u001b[0mcommand\u001b[0m \u001b[0;34m=\u001b[0m \u001b[0mCommand\u001b[0m\u001b[0;34m.\u001b[0m\u001b[0mEXECUTE_SCRIPT\u001b[0m\u001b[0;34m\u001b[0m\u001b[0;34m\u001b[0m\u001b[0m\n\u001b[1;32m    633\u001b[0m \u001b[0;34m\u001b[0m\u001b[0m\n\u001b[0;32m--> 634\u001b[0;31m         return self.execute(command, {\n\u001b[0m\u001b[1;32m    635\u001b[0m             \u001b[0;34m'script'\u001b[0m\u001b[0;34m:\u001b[0m \u001b[0mscript\u001b[0m\u001b[0;34m,\u001b[0m\u001b[0;34m\u001b[0m\u001b[0;34m\u001b[0m\u001b[0m\n\u001b[1;32m    636\u001b[0m             'args': converted_args})['value']\n",
      "\u001b[0;32m~/Downloads/yes/lib/python3.8/site-packages/selenium/webdriver/remote/webdriver.py\u001b[0m in \u001b[0;36mexecute\u001b[0;34m(self, driver_command, params)\u001b[0m\n\u001b[1;32m    319\u001b[0m         \u001b[0mresponse\u001b[0m \u001b[0;34m=\u001b[0m \u001b[0mself\u001b[0m\u001b[0;34m.\u001b[0m\u001b[0mcommand_executor\u001b[0m\u001b[0;34m.\u001b[0m\u001b[0mexecute\u001b[0m\u001b[0;34m(\u001b[0m\u001b[0mdriver_command\u001b[0m\u001b[0;34m,\u001b[0m \u001b[0mparams\u001b[0m\u001b[0;34m)\u001b[0m\u001b[0;34m\u001b[0m\u001b[0;34m\u001b[0m\u001b[0m\n\u001b[1;32m    320\u001b[0m         \u001b[0;32mif\u001b[0m \u001b[0mresponse\u001b[0m\u001b[0;34m:\u001b[0m\u001b[0;34m\u001b[0m\u001b[0;34m\u001b[0m\u001b[0m\n\u001b[0;32m--> 321\u001b[0;31m             \u001b[0mself\u001b[0m\u001b[0;34m.\u001b[0m\u001b[0merror_handler\u001b[0m\u001b[0;34m.\u001b[0m\u001b[0mcheck_response\u001b[0m\u001b[0;34m(\u001b[0m\u001b[0mresponse\u001b[0m\u001b[0;34m)\u001b[0m\u001b[0;34m\u001b[0m\u001b[0;34m\u001b[0m\u001b[0m\n\u001b[0m\u001b[1;32m    322\u001b[0m             response['value'] = self._unwrap_value(\n\u001b[1;32m    323\u001b[0m                 response.get('value', None))\n",
      "\u001b[0;32m~/Downloads/yes/lib/python3.8/site-packages/selenium/webdriver/remote/errorhandler.py\u001b[0m in \u001b[0;36mcheck_response\u001b[0;34m(self, response)\u001b[0m\n\u001b[1;32m    240\u001b[0m                 \u001b[0malert_text\u001b[0m \u001b[0;34m=\u001b[0m \u001b[0mvalue\u001b[0m\u001b[0;34m[\u001b[0m\u001b[0;34m'alert'\u001b[0m\u001b[0;34m]\u001b[0m\u001b[0;34m.\u001b[0m\u001b[0mget\u001b[0m\u001b[0;34m(\u001b[0m\u001b[0;34m'text'\u001b[0m\u001b[0;34m)\u001b[0m\u001b[0;34m\u001b[0m\u001b[0;34m\u001b[0m\u001b[0m\n\u001b[1;32m    241\u001b[0m             \u001b[0;32mraise\u001b[0m \u001b[0mexception_class\u001b[0m\u001b[0;34m(\u001b[0m\u001b[0mmessage\u001b[0m\u001b[0;34m,\u001b[0m \u001b[0mscreen\u001b[0m\u001b[0;34m,\u001b[0m \u001b[0mstacktrace\u001b[0m\u001b[0;34m,\u001b[0m \u001b[0malert_text\u001b[0m\u001b[0;34m)\u001b[0m\u001b[0;34m\u001b[0m\u001b[0;34m\u001b[0m\u001b[0m\n\u001b[0;32m--> 242\u001b[0;31m         \u001b[0;32mraise\u001b[0m \u001b[0mexception_class\u001b[0m\u001b[0;34m(\u001b[0m\u001b[0mmessage\u001b[0m\u001b[0;34m,\u001b[0m \u001b[0mscreen\u001b[0m\u001b[0;34m,\u001b[0m \u001b[0mstacktrace\u001b[0m\u001b[0;34m)\u001b[0m\u001b[0;34m\u001b[0m\u001b[0;34m\u001b[0m\u001b[0m\n\u001b[0m\u001b[1;32m    243\u001b[0m \u001b[0;34m\u001b[0m\u001b[0m\n\u001b[1;32m    244\u001b[0m     \u001b[0;32mdef\u001b[0m \u001b[0m_value_or_default\u001b[0m\u001b[0;34m(\u001b[0m\u001b[0mself\u001b[0m\u001b[0;34m,\u001b[0m \u001b[0mobj\u001b[0m\u001b[0;34m,\u001b[0m \u001b[0mkey\u001b[0m\u001b[0;34m,\u001b[0m \u001b[0mdefault\u001b[0m\u001b[0;34m)\u001b[0m\u001b[0;34m:\u001b[0m\u001b[0;34m\u001b[0m\u001b[0;34m\u001b[0m\u001b[0m\n",
      "\u001b[0;31mInvalidSessionIdException\u001b[0m: Message: Tried to run command without establishing a connection\n"
     ]
    }
   ],
   "source": [
    "\n",
    "from urllib.parse import urlparse\n"
   ]
  },
  {
   "cell_type": "code",
   "execution_count": null,
   "metadata": {},
   "outputs": [],
   "source": []
  },
  {
   "cell_type": "code",
   "execution_count": null,
   "metadata": {},
   "outputs": [],
   "source": []
  },
  {
   "cell_type": "code",
   "execution_count": null,
   "metadata": {},
   "outputs": [],
   "source": []
  },
  {
   "cell_type": "code",
   "execution_count": 26,
   "metadata": {},
   "outputs": [
    {
     "name": "stdout",
     "output_type": "stream",
     "text": [
      "data:image/gif;base64,R0lGODlhAQABAIAAAAAAAP///yH5BAEAAAAALAAAAAABAAEAAAIBRAA7\n"
     ]
    }
   ],
   "source": [
    "print(url)"
   ]
  },
  {
   "cell_type": "code",
   "execution_count": null,
   "metadata": {},
   "outputs": [],
   "source": []
  },
  {
   "cell_type": "code",
   "execution_count": null,
   "metadata": {},
   "outputs": [],
   "source": []
  },
  {
   "cell_type": "code",
   "execution_count": null,
   "metadata": {},
   "outputs": [],
   "source": []
  },
  {
   "cell_type": "code",
   "execution_count": 22,
   "metadata": {},
   "outputs": [
    {
     "data": {
      "text/plain": [
       "['data:image/gif;base64,R0lGODlhAQABAIAAAAAAAP///yH5BAEAAAAALAAAAAABAAEAAAIBRAA7',\n",
       " 'data:image/gif;base64,R0lGODlhAQABAIAAAAAAAP///yH5BAEAAAAALAAAAAABAAEAAAIBRAA7',\n",
       " 'data:image/gif;base64,R0lGODlhAQABAIAAAAAAAP///yH5BAEAAAAALAAAAAABAAEAAAIBRAA7',\n",
       " 'data:image/gif;base64,R0lGODlhAQABAIAAAAAAAP///yH5BAEAAAAALAAAAAABAAEAAAIBRAA7',\n",
       " 'data:image/gif;base64,R0lGODlhAQABAIAAAAAAAP///yH5BAEAAAAALAAAAAABAAEAAAIBRAA7',\n",
       " 'data:image/gif;base64,R0lGODlhAQABAIAAAAAAAP///yH5BAEAAAAALAAAAAABAAEAAAIBRAA7',\n",
       " 'data:image/gif;base64,R0lGODlhAQABAIAAAAAAAP///yH5BAEAAAAALAAAAAABAAEAAAIBRAA7',\n",
       " 'data:image/gif;base64,R0lGODlhAQABAIAAAAAAAP///yH5BAEAAAAALAAAAAABAAEAAAIBRAA7',\n",
       " 'data:image/gif;base64,R0lGODlhAQABAIAAAAAAAP///yH5BAEAAAAALAAAAAABAAEAAAIBRAA7',\n",
       " 'data:image/gif;base64,R0lGODlhAQABAIAAAAAAAP///yH5BAEAAAAALAAAAAABAAEAAAIBRAA7',\n",
       " 'data:image/gif;base64,R0lGODlhAQABAIAAAAAAAP///yH5BAEAAAAALAAAAAABAAEAAAIBRAA7',\n",
       " 'https://media-exp1.licdn.com/dms/image/C4E03AQFls_-KYg4bZA/profile-displayphoto-shrink_100_100/0/1604163103442?e=1626912000&v=beta&t=hZUuBKu2ox19_n34Drsy2fxzbZkefOHlJ6b2QtwDh-I',\n",
       " 'https://media-exp1.licdn.com/dms/image/C4E0BAQHB_kyJoKY-WA/company-logo_100_100/0/1586945762674?e=1629331200&v=beta&t=uiNMATHz6rnIZJOkBjL9o5DKaxcfXMzBUeYpLTAiERM',\n",
       " 'https://media-exp1.licdn.com/dms/image/C4E1BAQEYdIOHn4oGLQ/company-background_10000/0/1598461236684?e=1621584000&v=beta&t=EPA2TmmqsoXxsovw51a6U8NOj89nf1A72mGCcuUby_E',\n",
       " None,\n",
       " 'https://media-exp1.licdn.com/dms/image/C4E0BAQHB_kyJoKY-WA/company-logo_200_200/0/1586945762674?e=1629331200&v=beta&t=INCd3d7HOeA4p6MkMMbsZM7nZQLHy0xCk2Xv8Q5Lnkc',\n",
       " 'https://media-exp1.licdn.com/dms/image/C4E0BAQHB_kyJoKY-WA/company-logo_100_100/0/1586945762674?e=1629331200&v=beta&t=uiNMATHz6rnIZJOkBjL9o5DKaxcfXMzBUeYpLTAiERM',\n",
       " 'https://media-exp1.licdn.com/dms/image/C4E0BAQHB_kyJoKY-WA/company-logo_100_100/0/1586945762674?e=1629331200&v=beta&t=uiNMATHz6rnIZJOkBjL9o5DKaxcfXMzBUeYpLTAiERM',\n",
       " 'https://media-exp1.licdn.com/dms/image/C4D22AQHttHf9-5FozQ/feedshare-shrink_2048_1536/0/1620121319839?e=1624492800&v=beta&t=4zXMuh8sVbE2z9bjtOmTUtW8J-_kEuCL_JmRQ5wIRBk',\n",
       " 'https://media-exp1.licdn.com/dms/image/C4E0BAQHB_kyJoKY-WA/company-logo_100_100/0/1586945762674?e=1629331200&v=beta&t=uiNMATHz6rnIZJOkBjL9o5DKaxcfXMzBUeYpLTAiERM',\n",
       " 'https://media-exp1.licdn.com/dms/image/C4D22AQGlsVB_HNMEEw/feedshare-shrink_800/0/1620892894254?e=1624492800&v=beta&t=AWcoLsv_bil5Sg0li8sIwBfjfMpzMtsiajzTnGo_xyo',\n",
       " 'https://media-exp1.licdn.com/dms/image/C4E0BAQHB_kyJoKY-WA/company-logo_100_100/0/1586945762674?e=1629331200&v=beta&t=uiNMATHz6rnIZJOkBjL9o5DKaxcfXMzBUeYpLTAiERM',\n",
       " 'https://media-exp1.licdn.com/dms/image/C4E0BAQHB_kyJoKY-WA/company-logo_100_100/0/1586945762674?e=1629331200&v=beta&t=uiNMATHz6rnIZJOkBjL9o5DKaxcfXMzBUeYpLTAiERM',\n",
       " 'https://media-exp1.licdn.com/dms/image/C4E0BAQHB_kyJoKY-WA/company-logo_100_100/0/1586945762674?e=1629331200&v=beta&t=uiNMATHz6rnIZJOkBjL9o5DKaxcfXMzBUeYpLTAiERM',\n",
       " 'https://media-exp1.licdn.com/dms/image/sync/C5618AQHMbwLV6OS2IA/companyUpdate-article-image-shrink_627_1200/0/1612967151334?e=1624492800&v=beta&t=vCSfBKXtznar659OohI-XCpLVXx43XxHX3TUFhE0S2c',\n",
       " 'https://media-exp1.licdn.com/dms/image/C4E0BAQHB_kyJoKY-WA/company-logo_100_100/0/1586945762674?e=1629331200&v=beta&t=uiNMATHz6rnIZJOkBjL9o5DKaxcfXMzBUeYpLTAiERM',\n",
       " 'https://media-exp1.licdn.com/dms/image/C4D22AQG93uXQIWvEzw/feedshare-shrink_800/0/1620114533790?e=1624492800&v=beta&t=AXQnw-wgPWoRZ_zWfE-86kYUt-AkqHYPx4yBgAQUQqA',\n",
       " 'https://media-exp1.licdn.com/dms/image/C4E0BAQHB_kyJoKY-WA/company-logo_100_100/0/1586945762674?e=1629331200&v=beta&t=uiNMATHz6rnIZJOkBjL9o5DKaxcfXMzBUeYpLTAiERM',\n",
       " 'https://media-exp1.licdn.com/dms/image/C4E0BAQHB_kyJoKY-WA/company-logo_100_100/0/1586945762674?e=1629331200&v=beta&t=uiNMATHz6rnIZJOkBjL9o5DKaxcfXMzBUeYpLTAiERM',\n",
       " 'https://media-exp1.licdn.com/dms/image/sync/C5618AQHMbwLV6OS2IA/companyUpdate-article-image-shrink_627_1200/0/1612967151334?e=1624492800&v=beta&t=vCSfBKXtznar659OohI-XCpLVXx43XxHX3TUFhE0S2c',\n",
       " 'https://media-exp1.licdn.com/dms/image/C4E0BAQHB_kyJoKY-WA/company-logo_100_100/0/1586945762674?e=1629331200&v=beta&t=uiNMATHz6rnIZJOkBjL9o5DKaxcfXMzBUeYpLTAiERM',\n",
       " 'https://media-exp1.licdn.com/dms/image/C4E0BAQHB_kyJoKY-WA/company-logo_100_100/0/1586945762674?e=1629331200&v=beta&t=uiNMATHz6rnIZJOkBjL9o5DKaxcfXMzBUeYpLTAiERM',\n",
       " 'https://media-exp1.licdn.com/dms/image/C4E0BAQHB_kyJoKY-WA/company-logo_100_100/0/1586945762674?e=1629331200&v=beta&t=uiNMATHz6rnIZJOkBjL9o5DKaxcfXMzBUeYpLTAiERM',\n",
       " 'https://media-exp1.licdn.com/dms/image/C4E0BAQHB_kyJoKY-WA/company-logo_100_100/0/1586945762674?e=1629331200&v=beta&t=uiNMATHz6rnIZJOkBjL9o5DKaxcfXMzBUeYpLTAiERM',\n",
       " 'https://media-exp1.licdn.com/dms/image/C4E0BAQHB_kyJoKY-WA/company-logo_100_100/0/1586945762674?e=1629331200&v=beta&t=uiNMATHz6rnIZJOkBjL9o5DKaxcfXMzBUeYpLTAiERM',\n",
       " 'https://media-exp1.licdn.com/dms/image/C4D22AQEcZ1llK7E7mg/feedshare-shrink_800/0/1613149002485?e=1624492800&v=beta&t=gr_5MNYUH5uI4hvatuAeJ-z8MFCWQvDTN8_Bf0e5xI0',\n",
       " 'https://media-exp1.licdn.com/dms/image/C4E0BAQHB_kyJoKY-WA/company-logo_100_100/0/1586945762674?e=1629331200&v=beta&t=uiNMATHz6rnIZJOkBjL9o5DKaxcfXMzBUeYpLTAiERM',\n",
       " 'https://media-exp1.licdn.com/dms/image/C4E0BAQHB_kyJoKY-WA/company-logo_100_100/0/1586945762674?e=1629331200&v=beta&t=uiNMATHz6rnIZJOkBjL9o5DKaxcfXMzBUeYpLTAiERM',\n",
       " 'https://media-exp1.licdn.com/dms/image/C4D22AQEsrIWFZ1oc1A/feedshare-shrink_800/0/1603208875285?e=1624492800&v=beta&t=CVq_kqxWXHOOWGaHMvrMqGtNxJaiMdqWL_MDi1oANEA',\n",
       " 'https://media-exp1.licdn.com/dms/image/C4E0BAQHB_kyJoKY-WA/company-logo_100_100/0/1586945762674?e=1629331200&v=beta&t=uiNMATHz6rnIZJOkBjL9o5DKaxcfXMzBUeYpLTAiERM',\n",
       " 'https://media-exp1.licdn.com/dms/image/C4D22AQGl6Jzgw-PUQQ/feedshare-shrink_800/0/1619424745187?e=1624492800&v=beta&t=eMlWvOrucMFN9A9u3Q6-cV7ZGpsNzHk2tr94xn0MmD8',\n",
       " 'https://media-exp1.licdn.com/dms/image/C4E0BAQHB_kyJoKY-WA/company-logo_100_100/0/1586945762674?e=1629331200&v=beta&t=uiNMATHz6rnIZJOkBjL9o5DKaxcfXMzBUeYpLTAiERM',\n",
       " 'https://media-exp1.licdn.com/dms/image/C4E0BAQHB_kyJoKY-WA/company-logo_100_100/0/1586945762674?e=1629331200&v=beta&t=uiNMATHz6rnIZJOkBjL9o5DKaxcfXMzBUeYpLTAiERM',\n",
       " 'https://media-exp1.licdn.com/dms/image/sync/C4D34AQEQ4bFVttyvLA/ugc-proxy-shrink_800/0/1618911442538?e=1621584000&v=beta&t=Iuq8Komt3-vOFjLMUAvXRFtwPOlRKLoIxiVAzbn7fX4',\n",
       " 'https://media-exp1.licdn.com/dms/image/C4E0BAQHB_kyJoKY-WA/company-logo_100_100/0/1586945762674?e=1629331200&v=beta&t=uiNMATHz6rnIZJOkBjL9o5DKaxcfXMzBUeYpLTAiERM',\n",
       " 'https://media-exp1.licdn.com/dms/image/sync/C5618AQE6wMMZh7Y3RA/companyUpdate-article-image-shrink_627_1200/0/1613400667057?e=1624492800&v=beta&t=GPWSmF9iVozEMUjqhtI8LS1wZr0c5VFmVMogh1MYHHY',\n",
       " 'https://media-exp1.licdn.com/dms/image/C560BAQGQuWLvtTzYHA/company-logo_100_100/0/1552385547494?e=1629331200&v=beta&t=xm2TemBnOEZ0Jgb5BaoqVVMnyeQtQDcMg8ESfsXud_Y',\n",
       " 'https://media-exp1.licdn.com/dms/image/C4E0BAQFRN1C3kL7Wtw/company-logo_100_100/0/1519863943993?e=1629331200&v=beta&t=TwzFJcvavz2PpxPrxkyWn0yhZYlMPqDsHWOJ82A8dko',\n",
       " 'https://media-exp1.licdn.com/dms/image/C4D0BAQE9stRV5JkCFQ/company-logo_100_100/0/1519856314179?e=1629331200&v=beta&t=309X6BlsfMzy8EZGzp9zXOcy4Uxo19ppBEv1jXWr0OI',\n",
       " 'https://media-exp1.licdn.com/dms/image/C4E0BAQGaL-YyJ8xd7Q/company-logo_100_100/0/1592405863758?e=1629331200&v=beta&t=EqH9_Ce-cRXIygB7aw1DjJVWFPvcZsG6n8O5ZNAcZQU',\n",
       " 'https://media-exp1.licdn.com/dms/image/C4E03AQGCfMXLYO6zrQ/profile-displayphoto-shrink_100_100/0/1610619683861?e=1626912000&v=beta&t=K6Xk2tYxlw8BJ1Zn06T45NJs7RMf-ihYQnWL0wgj7h4',\n",
       " 'https://media-exp1.licdn.com/dms/image/C5603AQHr3PTiz4SGVQ/profile-displayphoto-shrink_100_100/0/1553188963542?e=1626912000&v=beta&t=y6biv_B1opi_n6sRyD25OWN3EyGRh8aArTTegIhh5gw',\n",
       " 'https://media-exp1.licdn.com/dms/image/C4D03AQEoMA08jh-j5w/profile-displayphoto-shrink_100_100/0/1518218708544?e=1626912000&v=beta&t=rPPvy3m2DeM0f1fPWoaouabr6kKCITOZmKXwD9Dzpnk',\n",
       " 'https://media-exp1.licdn.com/dms/image/C4E0BAQFC-wGW2UwMIQ/company-logo_100_100/0/1593590505853?e=1629331200&v=beta&t=JrhmGx9fx2sr5b4QO7mXQ9rVCG7jpqdEBGAtneVbBq0',\n",
       " 'https://media-exp1.licdn.com/dms/image/C4E03AQFls_-KYg4bZA/profile-displayphoto-shrink_100_100/0/1604163103442?e=1626912000&v=beta&t=hZUuBKu2ox19_n34Drsy2fxzbZkefOHlJ6b2QtwDh-I',\n",
       " 'https://media-exp1.licdn.com/dms/image/C4E0CAQHhyLeVefqvmQ/spinmail-customsender-displayphoto-shrink_100_100/0/1618575383011?e=1621584000&v=beta&t=zFCX8Ah8ozWmEXU_UmBuXAEReHkgSgWcOBTw3F18jaA',\n",
       " 'data:image/gif;base64,R0lGODlhAQABAIAAAAAAAP///yH5BAEAAAAALAAAAAABAAEAAAIBRAA7',\n",
       " 'data:image/gif;base64,R0lGODlhAQABAIAAAAAAAP///yH5BAEAAAAALAAAAAABAAEAAAIBRAA7',\n",
       " 'https://media-exp1.licdn.com/dms/image/C4D03AQGTDyC8_T4YCg/profile-displayphoto-shrink_100_100/0/1516238378546?e=1626912000&v=beta&t=ZQLvWg47GND4oOG50nvfvaeEncPDPghveF0QKY29AAM',\n",
       " 'https://media-exp1.licdn.com/dms/image/C5603AQGSHSXHrdTSPQ/profile-displayphoto-shrink_100_100/0/1582361484777?e=1626912000&v=beta&t=6tBpJuIvE8z0UYdunkJJFVFlWKnE92SPWNICClr4C8Y',\n",
       " 'https://media-exp1.licdn.com/dms/image/C4D03AQH2_Pq0Iopj6g/profile-displayphoto-shrink_100_100/0/1614778156121?e=1626912000&v=beta&t=yN_6R7fE9UgjorBTFKUEn93-k7jLb1RKoQQ5pEo7cVQ',\n",
       " 'https://media-exp1.licdn.com/dms/image/C4D03AQE6Bn5mKqe8Tg/profile-displayphoto-shrink_100_100/0/1540238531372?e=1626912000&v=beta&t=StFNAviDg-KJTzCoL2H0F3FBuU4Fr6CT1aJfBzJYJBU',\n",
       " 'https://media-exp1.licdn.com/dms/image/C5603AQGYzjXmSunLjw/profile-displayphoto-shrink_100_100/0/1517630506476?e=1626912000&v=beta&t=xh5ENgY0hQPYSKcxS42JIaLJHS8_2MG5fNFH01QMy90',\n",
       " 'https://media-exp1.licdn.com/dms/image/C5635AQFdRljj6s-PDQ/profile-framedphoto-shrink_100_100/0/1614100069780?e=1621584000&v=beta&t=15qYncHHyUSiu5V-Iwukle9CykJW6YfKOUpC7uHoP7U',\n",
       " 'https://media-exp1.licdn.com/dms/image/C4E35AQHIgi45pCa-3A/profile-framedphoto-shrink_100_100/0/1618424417297?e=1621584000&v=beta&t=CoVuW4xmsL1Go3UcfrvA9OKf_rl3lWpgRjgXh68flpY',\n",
       " 'https://media-exp1.licdn.com/dms/image/C4D35AQEGIDrXyBQtWg/profile-framedphoto-shrink_100_100/0/1619599923042?e=1621584000&v=beta&t=emv3oSIRD8nLo8ZvchWCQrCpbQzcx7QA8CyhuaWGgkc',\n",
       " 'https://media-exp1.licdn.com/dms/image/C4D35AQEfN5-lTeyqzw/profile-framedphoto-shrink_100_100/0/1606220313333?e=1621584000&v=beta&t=iaQ_MnJIMf_I7-SaOfIF8RwDGPWYPb8GOk3RxSI8Gsk',\n",
       " 'https://media-exp1.licdn.com/dms/image/C4D03AQHDnBNMAxQLdQ/profile-displayphoto-shrink_100_100/0/1597610513490?e=1626912000&v=beta&t=1DwpdgGu10rc-ULR2rw6-GinB0urVs0PhTVV_jf18hM',\n",
       " 'https://media-exp1.licdn.com/dms/image/C4E03AQFeoyG7gQxbPg/profile-displayphoto-shrink_100_100/0/1564537138204?e=1626912000&v=beta&t=quiqgkrpCZc2zoZ9rm2rvFgXdv5srsAnMj2UtFPGe-k',\n",
       " 'https://media-exp1.licdn.com/dms/image/C4D35AQEDSko-g2n_lw/profile-framedphoto-shrink_100_100/0/1619547762151?e=1621584000&v=beta&t=laGb0rkTLQraD7YBovUpT96hHlUO5SG0Oavhv9-rLR0',\n",
       " 'https://media-exp1.licdn.com/dms/image/C4E03AQH7NQgEEkKLkQ/profile-displayphoto-shrink_100_100/0/1522055956796?e=1626912000&v=beta&t=Kf2HZxlR9YW1I9e4h62CoQQftGyu3d9MmG_X8owpmbQ',\n",
       " 'https://media-exp1.licdn.com/dms/image/C4E35AQGKp6LI3tp4gA/profile-framedphoto-shrink_100_100/0/1595500848614?e=1621584000&v=beta&t=ZqbYldbSkdHigG_N1CuZBplBXNXY4fSfhChiaceFixw',\n",
       " 'https://media-exp1.licdn.com/dms/image/C4D03AQH0LjmLdbFwvg/profile-displayphoto-shrink_100_100/0/1600540691134?e=1626912000&v=beta&t=asAqGx0Ym7W1Xpl_2hHKZ7MysH1kC0An7JYWUtHvOoQ',\n",
       " 'https://media-exp1.licdn.com/dms/image/C5603AQFqVIxJ0e7KUA/profile-displayphoto-shrink_100_100/0/1516318872335?e=1626912000&v=beta&t=mn8stAxDPu8TSb5F4jgzsUPK3nA-tZHZYM79cSGQuOw',\n",
       " 'https://media-exp1.licdn.com/dms/image/C5603AQFwcaEJQzHi8g/profile-displayphoto-shrink_100_100/0/1585480343949?e=1626912000&v=beta&t=QQxHV3GiTEN7f9dOUJbUwCqKOL_3KjaFEtKNhQDqQTE',\n",
       " 'https://media-exp1.licdn.com/dms/image/D4E35AQFuhSawGciFVw/profile-framedphoto-shrink_100_100/0/1621391189669?e=1621584000&v=beta&t=emEURZGNGhyamfyaJ23f2HxlAaPObl9Q2iuOig91yc0',\n",
       " 'https://media-exp1.licdn.com/dms/image/C4D03AQF-gqkkZmbvxA/profile-displayphoto-shrink_100_100/0/1548185258632?e=1626912000&v=beta&t=WDAI6hQg_gU2GJujNh07kn0F5wMUSg6Hv-ch-mSKWj8',\n",
       " 'https://media-exp1.licdn.com/dms/image/C4D03AQGzK7NQclg0_g/profile-displayphoto-shrink_100_100/0/1605688211425?e=1626912000&v=beta&t=4ovyk3VLVFJH8ozESaqc2CNm1W2js402vcVHWHrfE3U',\n",
       " 'data:image/gif;base64,R0lGODlhAQABAIAAAAAAAP///yH5BAEAAAAALAAAAAABAAEAAAIBRAA7',\n",
       " 'https://media-exp1.licdn.com/dms/image/C4E03AQEfddhIem5agg/profile-displayphoto-shrink_100_100/0/1574073441004?e=1626912000&v=beta&t=bDocGTer90oCZTQuEfY3tYMqdp4689Jw5nb8pt5Zdkk',\n",
       " 'https://media-exp1.licdn.com/dms/image/C4D03AQGXK_snSdUuXw/profile-displayphoto-shrink_100_100/0/1592070871170?e=1626912000&v=beta&t=8NObM9ZxEjkKnB-NCnezhvL9GQmzJtboLYOxGYdt11s',\n",
       " 'https://media-exp1.licdn.com/dms/image/C4D03AQG2ya3Vl9f03w/profile-displayphoto-shrink_100_100/0/1555246231834?e=1626912000&v=beta&t=YlpBY8C0XPMuY5tS3RzNAPj-ekkSKlHypmmGscNlErY',\n",
       " 'https://media-exp1.licdn.com/dms/image/C4D03AQGl5JC3H-omOA/profile-displayphoto-shrink_100_100/0/1586170889521?e=1626912000&v=beta&t=pFTIvhIi5d4ElngOVPxKMO8DsEa6jwF5rMlSNkgNeSk',\n",
       " 'https://media-exp1.licdn.com/dms/image/C5103AQEVqzlikt9vXA/profile-displayphoto-shrink_100_100/0/1566151932583?e=1626912000&v=beta&t=Pn5R8T91vDAfyzEEJCzAHMDrvYnHXkzeQpS9rM8Al50',\n",
       " 'https://media-exp1.licdn.com/dms/image/C4D03AQG50qmMlmaQww/profile-displayphoto-shrink_100_100/0/1548172832624?e=1626912000&v=beta&t=m9adIXmMgCrygXekIhV0QHO_Eq65j5GiFUfkmc2KJzU',\n",
       " 'https://media-exp1.licdn.com/dms/image/C4D03AQHcj7Zjq4bjdg/profile-displayphoto-shrink_100_100/0/1564034589345?e=1626912000&v=beta&t=VZ7uCrJnhYWadYGcoWC1uBzm6XNScC5qntBo9ugsdzE',\n",
       " 'https://media-exp1.licdn.com/dms/image/C5103AQFW5orDYXMnuA/profile-displayphoto-shrink_100_100/0/1545360186793?e=1626912000&v=beta&t=HsPHbHsHPC2wzOGZjT0sAN9-OA49U0omsn3T6qHCr4M',\n",
       " 'https://media-exp1.licdn.com/dms/image/C4E03AQFPmwP7drBGQQ/profile-displayphoto-shrink_100_100/0/1591289764912?e=1626912000&v=beta&t=0XxhlfrOLPvILtkNyigYAqfw0elVfkOnUxbyuTaJjtY',\n",
       " 'https://media-exp1.licdn.com/dms/image/C5103AQHUeqloNw44FA/profile-displayphoto-shrink_100_100/0/1516576719782?e=1626912000&v=beta&t=I4DGzrrZHWMtNv0xp_oNZ6XK7PbLiWlR54xe0cDqgRQ',\n",
       " 'https://media-exp1.licdn.com/dms/image/C5103AQECI0PrT7iePw/profile-displayphoto-shrink_100_100/0/1516989852084?e=1626912000&v=beta&t=9nsNK55a32zBSJpC6Q8b012RhWJ6YqjAysNlf5HEKtc',\n",
       " 'https://media-exp1.licdn.com/dms/image/C4D03AQGrJgSYeEJzFQ/profile-displayphoto-shrink_100_100/0/1571077554239?e=1626912000&v=beta&t=FaTJOvh2rhCk0Lk1UIQCQLacU0lfeT9Q3lK1yP_Kfpc',\n",
       " 'https://media-exp1.licdn.com/dms/image/C4D03AQGkeDS53vpb2g/profile-displayphoto-shrink_100_100/0/1617453521678?e=1626912000&v=beta&t=5ZhKSj6-5XFD0T-7Hr_jLtr-N7PIGKC193X4fV50YfQ',\n",
       " 'https://media-exp1.licdn.com/dms/image/C4D03AQHLh0EUyihYgw/profile-displayphoto-shrink_100_100/0/1598744126604?e=1626912000&v=beta&t=DwtubgzCCl3NAU4SCsCpqC64KBSxuwEZU4xRmLUNl1w',\n",
       " 'https://media-exp1.licdn.com/dms/image/C4E03AQGfmFFRSXcIKA/profile-displayphoto-shrink_100_100/0/1580543395645?e=1626912000&v=beta&t=_O3Rh508I3ohlV4Hk8ISDpgwROd6Il1YvuBMDDXnbAw',\n",
       " 'https://media-exp1.licdn.com/dms/image/C4E03AQGL0s1FaKGHfw/profile-displayphoto-shrink_100_100/0/1599338387391?e=1626912000&v=beta&t=eQPkN6h2MP5BOeyOyfg9pPlgpmsgKkCHHsB46ESZEpM',\n",
       " 'https://media-exp1.licdn.com/dms/image/C4E03AQG3CJnsuBcWmQ/profile-displayphoto-shrink_100_100/0/1616705022307?e=1626912000&v=beta&t=cESWsRM6QRMCd350bTOdJj_iV0gu-EK2DRQg81BlDg0',\n",
       " 'https://media-exp1.licdn.com/dms/image/C4E03AQFzYS4QnET23g/profile-displayphoto-shrink_100_100/0/1615224597319?e=1626912000&v=beta&t=46tZRnfNUPbt6qsWUOF6IVbVsImI651evJK2lYbhJQs',\n",
       " 'data:image/gif;base64,R0lGODlhAQABAIAAAAAAAP///yH5BAEAAAAALAAAAAABAAEAAAIBRAA7',\n",
       " 'data:image/gif;base64,R0lGODlhAQABAIAAAAAAAP///yH5BAEAAAAALAAAAAABAAEAAAIBRAA7',\n",
       " 'https://media-exp1.licdn.com/dms/image/C4D03AQHdUMwDKeNwZg/profile-displayphoto-shrink_100_100/0/1599933988955?e=1626912000&v=beta&t=umblP_ttrmtIqTji2AGm_ZZLONRySHZ_4szmb3idopQ',\n",
       " 'https://media-exp1.licdn.com/dms/image/C4D03AQFQ1OsopW7vOw/profile-displayphoto-shrink_100_100/0/1572786730624?e=1626912000&v=beta&t=4SbXJVedgcohUxUVWuK6xY9dc93-9C0jLHmvm4F7Nmc',\n",
       " 'https://media-exp1.licdn.com/dms/image/C5603AQFd6BYkktyGig/profile-displayphoto-shrink_100_100/0/1544003619323?e=1626912000&v=beta&t=5ah_tH6Ig9ouHgnC9Y1MNH_ZZVyJIrvYYk0mEiIjm7s',\n",
       " 'data:image/gif;base64,R0lGODlhAQABAIAAAAAAAP///yH5BAEAAAAALAAAAAABAAEAAAIBRAA7',\n",
       " 'https://media-exp1.licdn.com/dms/image/C5603AQGYLHs8m8dz4Q/profile-displayphoto-shrink_100_100/0/1621456081201?e=1626912000&v=beta&t=DCvVadUwL2sB_qxL7n7RUGXb298kGN-thQ6eNb4hNIM',\n",
       " 'https://media-exp1.licdn.com/dms/image/C5603AQERubhgteQRvw/profile-displayphoto-shrink_100_100/0/1517826179529?e=1626912000&v=beta&t=-N3PSNZj5zXDlcgO9VU6hnKlUW280jeMa3KUAQEkuiM',\n",
       " 'https://media-exp1.licdn.com/dms/image/C5603AQFgsXQmfnYXiQ/profile-displayphoto-shrink_100_100/0/1517467790711?e=1626912000&v=beta&t=QlLhbzGD69rAL0kgBCr8UzL3wwES_mO7M8iz3SCkWTM',\n",
       " 'https://media-exp1.licdn.com/dms/image/C4D03AQFWpX_X3eV2Lg/profile-displayphoto-shrink_100_100/0/1585686025039?e=1626912000&v=beta&t=dK7h-J--brY26fg_IinQnSrX1T2GTkqnYgeZV0oLzwo',\n",
       " 'https://media-exp1.licdn.com/dms/image/C4E35AQGdnQ1W71O1gg/profile-framedphoto-shrink_100_100/0/1607669592917?e=1621584000&v=beta&t=NJ1qsAcGFVpPa3HlYsQ7BV7tw9ibYCsvv1NWfPUdWe8',\n",
       " 'https://media-exp1.licdn.com/dms/image/C4D03AQFLrQWWC3WQBg/profile-displayphoto-shrink_100_100/0/1596295042102?e=1626912000&v=beta&t=qUpW5hUB48z4rN3Xvi1lzImFuwDoKq57jRoQa4BFf8A',\n",
       " 'https://media-exp1.licdn.com/dms/image/C4D03AQHhDxqyRAL21A/profile-displayphoto-shrink_100_100/0/1584276401094?e=1626912000&v=beta&t=e4j-rybeijcqokbuZlIerVXGeOOPuSTvY6a9tUa7s0I',\n",
       " 'https://media-exp1.licdn.com/dms/image/C4D03AQFU-GpsrCTPkQ/profile-displayphoto-shrink_100_100/0/1571505942633?e=1626912000&v=beta&t=wH4JgMkU1fogdn1kQgzS7I00k4JmRUReSc_iNJu_k1k',\n",
       " 'https://media-exp1.licdn.com/dms/image/C4D03AQHLahCTWSkYEA/profile-displayphoto-shrink_100_100/0/1589935208645?e=1626912000&v=beta&t=8VAOs0kGQFKXhSsuwYpTY182W0xOuxUAuvJbWPZTi9k',\n",
       " 'https://media-exp1.licdn.com/dms/image/C4E03AQHLIbPqSRsWbw/profile-displayphoto-shrink_100_100/0/1549877584269?e=1626912000&v=beta&t=bga7MuLXY8IJNKx49LPHRzoT8ARhcfCqWkEbV8gXxZo',\n",
       " 'https://media-exp1.licdn.com/dms/image/C4E03AQFwtIv6QliaDg/profile-displayphoto-shrink_100_100/0/1567369544482?e=1626912000&v=beta&t=ZWK1tnMK6-y8XPHJj7ik4e66669nzgAPgMY9q7YJqE4',\n",
       " 'https://media-exp1.licdn.com/dms/image/C4E35AQEqv-2PDrWJWg/profile-framedphoto-shrink_100_100/0/1596906605842?e=1621584000&v=beta&t=MZIp64zEArC6nTc9x06Sm6BYwwZJf-QzCf-CO1vohs8',\n",
       " 'https://media-exp1.licdn.com/dms/image/C5603AQE6b0KK8Z8ynw/profile-displayphoto-shrink_100_100/0/1517891340427?e=1626912000&v=beta&t=kO5T7uM-RHy3OrLrnIdO-ePt7MGDh2weziVRGKj2Oao',\n",
       " 'https://px.ads.linkedin.com/collect/?pid=6883&fmt=gif&_t=1621495534421',\n",
       " 'data:image/gif;base64,R0lGODlhAQABAIAAAAAAAP///yH5BAEAAAAALAAAAAABAAEAAAIBRAA7',\n",
       " 'data:image/gif;base64,R0lGODlhAQABAIAAAAAAAP///yH5BAEAAAAALAAAAAABAAEAAAIBRAA7',\n",
       " 'data:image/gif;base64,R0lGODlhAQABAIAAAAAAAP///yH5BAEAAAAALAAAAAABAAEAAAIBRAA7']"
      ]
     },
     "execution_count": 22,
     "metadata": {},
     "output_type": "execute_result"
    }
   ],
   "source": [
    "link"
   ]
  },
  {
   "cell_type": "code",
   "execution_count": null,
   "metadata": {},
   "outputs": [],
   "source": []
  },
  {
   "cell_type": "code",
   "execution_count": null,
   "metadata": {},
   "outputs": [],
   "source": []
  },
  {
   "cell_type": "code",
   "execution_count": null,
   "metadata": {},
   "outputs": [],
   "source": []
  },
  {
   "cell_type": "code",
   "execution_count": null,
   "metadata": {},
   "outputs": [],
   "source": []
  },
  {
   "cell_type": "code",
   "execution_count": null,
   "metadata": {},
   "outputs": [],
   "source": []
  },
  {
   "cell_type": "code",
   "execution_count": null,
   "metadata": {},
   "outputs": [],
   "source": []
  },
  {
   "cell_type": "code",
   "execution_count": null,
   "metadata": {},
   "outputs": [],
   "source": []
  },
  {
   "cell_type": "code",
   "execution_count": null,
   "metadata": {},
   "outputs": [],
   "source": []
  },
  {
   "cell_type": "code",
   "execution_count": null,
   "metadata": {},
   "outputs": [],
   "source": []
  },
  {
   "cell_type": "code",
   "execution_count": null,
   "metadata": {},
   "outputs": [],
   "source": []
  },
  {
   "cell_type": "code",
   "execution_count": null,
   "metadata": {},
   "outputs": [],
   "source": []
  },
  {
   "cell_type": "code",
   "execution_count": null,
   "metadata": {},
   "outputs": [],
   "source": []
  },
  {
   "cell_type": "code",
   "execution_count": null,
   "metadata": {},
   "outputs": [],
   "source": []
  },
  {
   "cell_type": "code",
   "execution_count": null,
   "metadata": {},
   "outputs": [],
   "source": []
  },
  {
   "cell_type": "code",
   "execution_count": null,
   "metadata": {},
   "outputs": [],
   "source": []
  },
  {
   "cell_type": "code",
   "execution_count": null,
   "metadata": {},
   "outputs": [],
   "source": []
  },
  {
   "cell_type": "code",
   "execution_count": null,
   "metadata": {},
   "outputs": [],
   "source": []
  },
  {
   "cell_type": "code",
   "execution_count": null,
   "metadata": {},
   "outputs": [],
   "source": []
  },
  {
   "cell_type": "code",
   "execution_count": null,
   "metadata": {},
   "outputs": [],
   "source": []
  },
  {
   "cell_type": "code",
   "execution_count": null,
   "metadata": {},
   "outputs": [],
   "source": []
  },
  {
   "cell_type": "code",
   "execution_count": null,
   "metadata": {},
   "outputs": [],
   "source": []
  },
  {
   "cell_type": "code",
   "execution_count": null,
   "metadata": {},
   "outputs": [],
   "source": []
  },
  {
   "cell_type": "code",
   "execution_count": 16,
   "metadata": {},
   "outputs": [],
   "source": [
    "input_btn  = driver.find_element_by_xpath('/html/body/div[1]/div[3]/form/div[1]/div[1]/div[1]/div/div[2]/input')\n",
    "input_btn.send_keys('toto tata')\n"
   ]
  },
  {
   "cell_type": "code",
   "execution_count": null,
   "metadata": {},
   "outputs": [],
   "source": []
  },
  {
   "cell_type": "code",
   "execution_count": null,
   "metadata": {},
   "outputs": [],
   "source": []
  },
  {
   "cell_type": "code",
   "execution_count": null,
   "metadata": {},
   "outputs": [],
   "source": []
  },
  {
   "cell_type": "code",
   "execution_count": null,
   "metadata": {},
   "outputs": [],
   "source": []
  },
  {
   "cell_type": "code",
   "execution_count": 18,
   "metadata": {},
   "outputs": [],
   "source": [
    "time.sleep(3)\n",
    "for i in range(len('tata')):\n",
    "    input_btn.send_keys(Keys.BACK_SPACE);"
   ]
  },
  {
   "cell_type": "code",
   "execution_count": 21,
   "metadata": {},
   "outputs": [
    {
     "name": "stdout",
     "output_type": "stream",
     "text": [
      "False  count  1\n",
      "False  count  2\n",
      "False  count  3\n",
      "False  count  4\n",
      "False  count  5\n",
      "True  count  6\n"
     ]
    }
   ],
   "source": [
    "count = 0\n",
    "check = False \n",
    "while check == False:\n",
    "    if count == 5:\n",
    "        check = True\n",
    "        \n",
    "    count += 1\n",
    "    print(check, ' count ', count)"
   ]
  },
  {
   "cell_type": "code",
   "execution_count": null,
   "metadata": {},
   "outputs": [],
   "source": []
  },
  {
   "cell_type": "code",
   "execution_count": null,
   "metadata": {},
   "outputs": [],
   "source": []
  },
  {
   "cell_type": "code",
   "execution_count": null,
   "metadata": {},
   "outputs": [],
   "source": []
  },
  {
   "cell_type": "code",
   "execution_count": null,
   "metadata": {},
   "outputs": [],
   "source": []
  },
  {
   "cell_type": "code",
   "execution_count": null,
   "metadata": {},
   "outputs": [],
   "source": []
  },
  {
   "cell_type": "code",
   "execution_count": null,
   "metadata": {},
   "outputs": [],
   "source": []
  },
  {
   "cell_type": "code",
   "execution_count": null,
   "metadata": {},
   "outputs": [],
   "source": []
  },
  {
   "cell_type": "code",
   "execution_count": null,
   "metadata": {},
   "outputs": [],
   "source": []
  },
  {
   "cell_type": "code",
   "execution_count": null,
   "metadata": {},
   "outputs": [],
   "source": []
  },
  {
   "cell_type": "code",
   "execution_count": null,
   "metadata": {},
   "outputs": [],
   "source": []
  },
  {
   "cell_type": "code",
   "execution_count": null,
   "metadata": {},
   "outputs": [],
   "source": []
  }
 ],
 "metadata": {
  "kernelspec": {
   "display_name": "Python 3",
   "language": "python",
   "name": "python3"
  },
  "language_info": {
   "codemirror_mode": {
    "name": "ipython",
    "version": 3
   },
   "file_extension": ".py",
   "mimetype": "text/x-python",
   "name": "python",
   "nbconvert_exporter": "python",
   "pygments_lexer": "ipython3",
   "version": "3.8.8"
  }
 },
 "nbformat": 4,
 "nbformat_minor": 4
}
