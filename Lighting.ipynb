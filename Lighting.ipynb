{
 "cells": [
  {
   "cell_type": "code",
   "execution_count": 1,
   "metadata": {},
   "outputs": [],
   "source": [
    "#imports here\n",
    "from selenium import webdriver\n",
    "from selenium.webdriver.common.keys import Keys\n",
    "from selenium.webdriver.support import expected_conditions as EC\n",
    "from selenium.webdriver.common.by import By\n",
    "from selenium.webdriver.support.wait import WebDriverWait\n",
    "from selenium.webdriver.firefox.options import Options\n",
    "import time\n",
    "import os\n",
    "from fake_useragent import UserAgent\n",
    "from random import randint"
   ]
  },
  {
   "cell_type": "code",
   "execution_count": null,
   "metadata": {},
   "outputs": [],
   "source": []
  },
  {
   "cell_type": "code",
   "execution_count": null,
   "metadata": {},
   "outputs": [],
   "source": []
  },
  {
   "cell_type": "code",
   "execution_count": 59,
   "metadata": {
    "scrolled": true
   },
   "outputs": [
    {
     "name": "stdout",
     "output_type": "stream",
     "text": [
      "Mozilla/5.0 (X11; CrOS i686 4319.74.0) AppleWebKit/537.36 (KHTML, like Gecko) Chrome/29.0.1547.57 Safari/537.36\n"
     ]
    },
    {
     "name": "stderr",
     "output_type": "stream",
     "text": [
      "<ipython-input-59-5315509cced7>:7: DeprecationWarning: use options instead of firefox_options\n",
      "  driver = webdriver.Firefox(firefox_options=options)\n"
     ]
    }
   ],
   "source": [
    "options = Options()\n",
    "ua = UserAgent()\n",
    "userAgent = ua.random\n",
    "print(userAgent)\n",
    "options.add_argument(f'user-agent={userAgent}')\n",
    "#options.add_argument(\"--headless\")\n",
    "driver = webdriver.Firefox(firefox_options=options)\n",
    "#     driver = webdriver.Firefox()\n"
   ]
  },
  {
   "cell_type": "code",
   "execution_count": null,
   "metadata": {},
   "outputs": [],
   "source": []
  },
  {
   "cell_type": "code",
   "execution_count": null,
   "metadata": {},
   "outputs": [],
   "source": []
  },
  {
   "cell_type": "code",
   "execution_count": null,
   "metadata": {},
   "outputs": [],
   "source": []
  },
  {
   "cell_type": "code",
   "execution_count": null,
   "metadata": {},
   "outputs": [],
   "source": []
  },
  {
   "cell_type": "code",
   "execution_count": 60,
   "metadata": {},
   "outputs": [
    {
     "name": "stdout",
     "output_type": "stream",
     "text": [
      "236\n"
     ]
    }
   ],
   "source": [
    "import pandas as pd\n",
    "links_products = []\n",
    "def return_details(value, list_dic):\n",
    "        val = ''\n",
    "        for i in list_dic:\n",
    "            if value in i:\n",
    "                val = i.replace(value, '')\n",
    "        return val\n",
    "for i in range(1, 10):\n",
    "    driver.get(f'https://midasfurniture.com/ksa_ar/accessories/lighting/page/{i}.html')\n",
    "    products = driver.find_elements_by_class_name('product-image')\n",
    "    \n",
    "    \n",
    "    #Forloop to get all url products\n",
    "    for product in products:\n",
    "\n",
    "        links_products.append(product.get_attribute('href'))\n",
    "        time.sleep(1)\n",
    "    time.sleep(1)\n",
    "print(len(links_products))"
   ]
  },
  {
   "cell_type": "code",
   "execution_count": null,
   "metadata": {},
   "outputs": [],
   "source": []
  },
  {
   "cell_type": "code",
   "execution_count": null,
   "metadata": {},
   "outputs": [],
   "source": []
  },
  {
   "cell_type": "code",
   "execution_count": null,
   "metadata": {},
   "outputs": [],
   "source": []
  },
  {
   "cell_type": "code",
   "execution_count": 84,
   "metadata": {},
   "outputs": [
    {
     "name": "stdout",
     "output_type": "stream",
     "text": [
      "Cat1: إكسسوارات\n",
      "Cat2: الإضاءة\n",
      "Mater \n",
      "Detail:     مصباح طاولة 1 قطعة\n",
      "Color:   ذهبي\n",
      "Size     * عرض 36 * عمق 36 * ارتفاع 69 سم\n",
      "3\n",
      "3\n",
      "3\n",
      "3\n",
      "Style: \n",
      "Cat1: إكسسوارات\n",
      "Cat2: الإضاءة\n",
      "Mater \n",
      "Detail:     مصباح طاولة 1 قطعة\n",
      "Color:     ذهبى\n",
      "Size     * عرض 36 * عمق 36 * ارتفاع 68 سم\n",
      "Style:   كلاسيكى\n",
      "Cat1: إكسسوارات\n",
      "Cat2: الإضاءة\n",
      "Mater \n",
      "coucou\n",
      "Detail:   مصباح طاولة عدد 1 قطعة\n",
      "Color:   أبيض\n",
      "Size مصباح طاولة عرض 35 * عمق 35 * ارتفاع 63 سم\n",
      "3\n",
      "3\n",
      "Style: \n",
      "Cat1: إكسسوارات\n",
      "Cat2: الإضاءة\n",
      "Mater \n",
      "Detail:     مصباح طاولة 1 قطعة\n",
      "Color:   ذهبي\n",
      "Size     * عرض 40 * عمق 40 * ارتفاع 68 سم\n",
      "3\n",
      "3\n",
      "3\n",
      "3\n",
      "Style: \n",
      "Cat1: إكسسوارات\n",
      "Cat2: الإضاءة\n",
      "Mater \n",
      "Detail:     مصباح طاولة 1 قطعة\n",
      "Color:   أبيض\n",
      "Size     * عرض 36 * عمق 36 * ارتفاع 60 سم\n",
      "3\n",
      "3\n",
      "3\n",
      "3\n",
      "Style: \n",
      "Cat1: إكسسوارات\n",
      "Cat2: الإضاءة\n",
      "Mater \n",
      "Detail:     مصباح طاولة 1 قطعة\n",
      "Color:     أبيض، ذهبى\n",
      "Size     * عرض 42 * عمق 28 * ارتفاع 69 سم\n",
      "Style:   معاصر\n",
      "Cat1: إكسسوارات\n",
      "Cat2: الإضاءة\n",
      "Mater \n",
      "coucou\n",
      "Detail:   مصباح طاولة عدد 1 قطعة\n",
      "Color:   ذهبي\n",
      "Size مصباح طاولة عرض 40 * عمق 40 * ارتفاع 70 سم\n",
      "3\n",
      "3\n",
      "Style: \n",
      "Cat1: إكسسوارات\n",
      "Cat2: الإضاءة\n",
      "Mater \n",
      "Detail:     مصباح أرضي 1 قطعة\n",
      "Color:     فضى\n",
      "Size     * عرض 23 * عمق 40 * ارتفاع 230 سم\n",
      "Style:   معاصر\n",
      "Cat1: إكسسوارات\n",
      "Cat2: الإضاءة\n",
      "Mater \n",
      "Detail:     مصباح طاولة 1 قطعة\n",
      "Color:   فضي\n",
      "Size     * عرض 32 * عمق 32 * ارتفاع 58 سم\n",
      "3\n",
      "3\n",
      "3\n",
      "3\n",
      "Style: \n",
      "Cat1: إكسسوارات\n",
      "Cat2: الإضاءة\n",
      "Mater \n",
      "Detail:     مصباح طاولة 1 قطعة\n",
      "Color:   أبيض\n",
      "Size     * عرض 35 * عمق 35 * ارتفاع 70 سم\n",
      "3\n",
      "3\n",
      "3\n",
      "3\n",
      "Style: \n",
      "Cat1: إكسسوارات\n",
      "Cat2: الإضاءة\n",
      "Mater \n",
      "Detail:     مصباح طاولة 1 قطعة\n",
      "Color:     ذهبى، كريمي\n",
      "Size     * عرض 38 * عمق 38 * ارتفاع 61 سم\n",
      "Style:   كلاسيكى\n",
      "Cat1: إكسسوارات\n",
      "Cat2: الإضاءة\n",
      "Mater \n",
      "coucou\n",
      "Detail:   مصباح طاولة عدد 1 قطعة\n",
      "Color:   أزرق\n",
      "Size مصباح طاولة عرض 40 * عمق 40 * ارتفاع 70 سم\n",
      "3\n",
      "3\n",
      "Style: \n",
      "Cat1: إكسسوارات\n",
      "Cat2: الإضاءة\n",
      "Mater \n",
      "Detail:     مصباح طاولة 1 قطعة\n",
      "Color:     ذهبى، بيج\n",
      "Size     * عرض 40 * عمق 40 * ارتفاع 73 سم\n",
      "Style:   معاصر\n",
      "Cat1: إكسسوارات\n",
      "Cat2: الإضاءة\n",
      "Mater \n",
      "Detail:     مصباح طاولة 1 قطعة\n",
      "Color:   ذهبي\n",
      "Size     * عرض 36 * عمق 36 * ارتفاع 62 سم\n",
      "3\n",
      "3\n",
      "3\n",
      "3\n",
      "Style: \n",
      "Cat1: إكسسوارات\n",
      "Cat2: الإضاءة\n",
      "Mater \n",
      "Detail:     مصباح طاولة 1 قطعة\n",
      "Color:     ذهبى، أبيض\n",
      "Size     * عرض 40 * عمق 40 * ارتفاع 67 سم\n",
      "Style:   معاصر\n",
      "Cat1: إكسسوارات\n",
      "Cat2: الإضاءة\n",
      "Mater \n",
      "Detail:     مصباح طاولة 1 قطعة\n",
      "Color:   ذهبي\n",
      "Size     * عرض 33 * عمق 33 * ارتفاع 66 سم\n",
      "3\n",
      "3\n",
      "3\n",
      "3\n",
      "Style: \n",
      "Cat1: إكسسوارات\n",
      "Cat2: الإضاءة\n",
      "Mater \n",
      "Detail:     مصباح طاولة 1 قطعة\n",
      "Color:     ذهبى، أسود\n",
      "Size     * عرض 40 * عمق 40 * ارتفاع 74 سم\n",
      "Style:   معاصر\n",
      "Cat1: إكسسوارات\n",
      "Cat2: الإضاءة\n",
      "Mater \n",
      "coucou\n",
      "Detail:   مصباح طاولة عدد 1 قطعة\n",
      "Color:   ذهبي\n",
      "Size مصباح طاولة عرض 40 * عمق 40 * ارتفاع 75 سم\n",
      "3\n",
      "3\n",
      "Style: \n",
      "Cat1: إكسسوارات\n",
      "Cat2: الإضاءة\n",
      "Mater \n",
      "Detail:     مصباح طاولة 1 قطعة\n",
      "Color:     ذهبى، أبيض\n",
      "Size     * عرض 40 * عمق 40 * ارتفاع 75 سم\n",
      "Style:   معاصر\n",
      "Cat1: إكسسوارات\n",
      "Cat2: الإضاءة\n",
      "Mater \n",
      "Detail:  \n",
      "Color:   ذهبي\n",
      "Size \n",
      "3\n",
      "3\n",
      "Style: \n",
      "Cat1: إكسسوارات\n",
      "Cat2: الإضاءة\n",
      "Mater \n",
      "Detail:     مصباح طاولة 1 قطعة\n",
      "Color:     ذهبى، كريمي\n",
      "Size     * عرض 36 * عمق 36 * ارتفاع 56 سم\n",
      "Style:   كلاسيكى\n",
      "Cat1: إكسسوارات\n",
      "Cat2: الإضاءة\n",
      "Mater \n",
      "coucou\n",
      "Detail:   مصباح طاولة عدد 1 قطعة\n",
      "Color:   ذهبي\n",
      "Size مصباح طاولة عرض 40 * عمق 40 * ارتفاع 62 سم\n",
      "3\n",
      "3\n",
      "Style: \n",
      "Cat1: إكسسوارات\n",
      "Cat2: الإضاءة\n",
      "Mater \n",
      "Detail:     مصباح طاولة 1 قطعة\n",
      "Color:     ذهبى، أبيض\n",
      "Size     * عرض 40 * عمق 40 * ارتفاع 62 سم\n",
      "Style:   معاصر\n",
      "Cat1: إكسسوارات\n",
      "Cat2: الإضاءة\n",
      "Mater \n",
      "coucou\n",
      "Detail:   مصباح طاولة عدد 1 قطعة\n",
      "Color:   ذهبي\n",
      "Size مصباح طاولة عرض 40 * عمق 40 * ارتفاع 53 سم\n",
      "3\n",
      "3\n",
      "Style: \n",
      "Cat1: إكسسوارات\n",
      "Cat2: الإضاءة\n",
      "Mater \n",
      "coucou\n",
      "Detail:   مصباح طاولة عدد 1 قطعة\n",
      "Color:   ذهبي\n",
      "Size مصباح طاولة عرض 35 * عمق 35 * ارتفاع 58 سم\n",
      "3\n",
      "3\n",
      "Style: \n",
      "Cat1: إكسسوارات\n",
      "Cat2: الإضاءة\n",
      "Mater \n",
      "Detail:     مصباح طاولة 1 قطعة\n",
      "Color:     ذهبى، أبيض\n",
      "Size     * عرض 36 * عمق 36 * ارتفاع 62 سم\n",
      "Style:   معاصر\n",
      "Cat1: إكسسوارات\n",
      "Cat2: الإضاءة\n",
      "Mater \n",
      "Detail:     مصباح طاولة 1 قطعة\n",
      "Color:   ذهبي\n",
      "Size     * عرض 36 * عمق 36 * ارتفاع 63 سم\n",
      "3\n",
      "3\n",
      "3\n",
      "3\n",
      "Style: \n",
      "Cat1: إكسسوارات\n",
      "Cat2: الإضاءة\n",
      "Mater \n",
      "Detail:     مصباح طاولة 1 قطعة\n",
      "Color:   ذهبي\n",
      "Size     * عرض 38 * عمق 38 * ارتفاع 68 سم\n",
      "3\n",
      "3\n",
      "3\n",
      "3\n",
      "Style: \n",
      "Cat1: إكسسوارات\n",
      "Cat2: الإضاءة\n",
      "Mater \n",
      "coucou\n",
      "Detail:   مصباح طاولة عدد 1 قطعة\n",
      "Color:   ذهبي\n",
      "Size مصباح طاولة عرض 40 * عمق 40 * ارتفاع 70 سم\n",
      "3\n",
      "3\n",
      "Style: \n",
      "Cat1: إكسسوارات\n",
      "Cat2: الإضاءة\n",
      "Mater \n",
      "Detail:     مصباح طاولة 1 قطعة\n",
      "Color:   ذهبي\n",
      "Size     * عرض 35 * عمق 35 * ارتفاع 62 سم\n",
      "3\n",
      "3\n",
      "3\n",
      "3\n",
      "Style: \n",
      "Cat1: إكسسوارات\n",
      "Cat2: الإضاءة\n",
      "Mater \n",
      "coucou\n",
      "Detail:   مصباح طاولة عدد 1 قطعة\n",
      "Color:   ذهبي\n",
      "Size مصباح طاولة عرض 37 * عمق 37 * ارتفاع 72 سم\n",
      "3\n",
      "3\n",
      "Style: \n",
      "Cat1: إكسسوارات\n",
      "Cat2: الإضاءة\n",
      "Mater \n",
      "coucou\n",
      "Detail:   مصباح أرضي عدد 1 قطعة\n",
      "Color:   ذهبي\n",
      "Size مصباح أرضي عرض 40 * عمق 40 * ارتفاع 158 سم\n",
      "3\n",
      "3\n",
      "Style: \n",
      "Cat1: إكسسوارات\n",
      "Cat2: الإضاءة\n",
      "Mater \n",
      "Detail:     مصباح طاولة 1 قطعة\n",
      "Color:   ذهبي\n",
      "Size     * عرض 35 * عمق 35 * ارتفاع 66 سم\n",
      "3\n",
      "3\n",
      "3\n",
      "3\n",
      "Style: \n",
      "Cat1: إكسسوارات\n",
      "Cat2: الإضاءة\n",
      "Mater \n",
      "Detail:     مصباح طاولة 1 قطعة\n",
      "Color:     ذهبى، أسود\n",
      "Size     * عرض 35 * عمق 35 * ارتفاع 66 سم\n",
      "Style:   معاصر\n",
      "Cat1: إكسسوارات\n",
      "Cat2: الإضاءة\n",
      "Mater \n",
      "Detail:     مصباح طاولة 1 قطعة\n",
      "Color:   ذهبي\n",
      "Size     * عرض 36 * عمق 36 * ارتفاع 70 سم\n",
      "3\n",
      "3\n",
      "3\n",
      "3\n",
      "Style: \n",
      "Cat1: إكسسوارات\n",
      "Cat2: الإضاءة\n",
      "Mater \n",
      "Detail:     مصباح طاولة 1 قطعة\n",
      "Color:     ذهبى, أبيض\n",
      "Size     * عرض 40 * عمق 40 * ارتفاع 70 سم\n",
      "Style:   معاصر\n",
      "Cat1: إكسسوارات\n",
      "Cat2: الإضاءة\n",
      "Mater \n",
      "Detail:     مصباح طاولة 1 قطعة\n",
      "Color:   ذهبي\n",
      "Size     * عرض 38 * عمق 38 * ارتفاع 72 سم\n",
      "3\n",
      "3\n",
      "3\n",
      "3\n",
      "Style: \n",
      "Cat1: إكسسوارات\n",
      "Cat2: الإضاءة\n",
      "Mater    إستانلس ستيل / زجاج\n",
      "Detail:     ثريا سقف 1 قطعة \n",
      "Color:     ذهبى، أبيض\n",
      "Size     * عرض 110 * عمق * ارتفاع 45 سم \n",
      "Style:   معاصر\n",
      "Cat1: إكسسوارات\n",
      "Cat2: الإضاءة\n",
      "Mater    حديد / زجاج\n",
      "Detail:     مصباح طاولة 1 قطعة\n",
      "Color:     أبيض\n",
      "Size     * عرض 25 * عمق * ارتفاع 30 سم\n",
      "Style:   معاصر\n",
      "Cat1: إكسسوارات\n",
      "Cat2: الإضاءة\n",
      "Mater    حديد\n",
      "Detail:     مصباح طاولة 1 قطعة\n",
      "Color:     أسود\n",
      "Size     * عرض 32 * عمق 37 * ارتفاع 65 سم\n",
      "Style:   معاصر\n",
      "Cat1: إكسسوارات\n",
      "Cat2: الإضاءة\n",
      "Mater    حديد / زجاج\n",
      "Detail:     مصباح أرضي 1 قطعة\n",
      "Color:     ذهبى\n",
      "Size     * عرض 25 * عمق 25 * ارتفاع 153 سم\n",
      "Style:   معاصر\n",
      "Cat1: إكسسوارات\n",
      "Cat2: الإضاءة\n",
      "Mater    حديد / زجاج\n",
      "Detail:     مصباح طاولة 1 قطعة\n",
      "Color:     ذهبى\n",
      "Size     * عرض 18 * عمق 18 * ارتفاع 62 سم\n",
      "Style:   معاصر\n",
      "Cat1: إكسسوارات\n",
      "Cat2: الإضاءة\n",
      "Mater    حديد / زجاج\n",
      "Detail:     مصباح طاولة 1 قطعة\n",
      "Color:     ذهبى\n",
      "Size     * عرض 18 * عمق 18 * ارتفاع 48 سم\n",
      "Style:   معاصر\n",
      "Cat1: إكسسوارات\n",
      "Cat2: الإضاءة\n",
      "Mater    حديد / زجاج\n",
      "Detail:     مصباح أرضي 1 قطعة\n",
      "Color:     ذهبى، شفاف\n",
      "Size     * عرض 40 * عمق 40 * ارتفاع 170 سم\n",
      "Style:   معاصر\n",
      "Cat1: إكسسوارات\n",
      "Cat2: الإضاءة\n",
      "Mater    حديد / زجاج\n",
      "Detail:     مصباح طاولة 1 قطعة\n",
      "Color:     ذهبى، شفاف\n",
      "Size     * عرض 32 * عمق * ارتفاع 65 سم\n",
      "Style:   معاصر\n",
      "Cat1: إكسسوارات\n",
      "Cat2: الإضاءة\n",
      "Mater \n",
      "Detail:     مصباح طاولة 1 قطعة\n",
      "Color:     شفاف، فضى\n",
      "Size     * عرض 30 * عمق 30 * ارتفاع 50 سم\n",
      "Style:   معاصر\n",
      "Cat1: إكسسوارات\n",
      "Cat2: الإضاءة\n",
      "Mater \n",
      "Detail:     ثريا سقف 1 قطعة \n",
      "Color:     رمادى داكن، ذهبى\n",
      "Size     * عرض 60 * عمق 60 * ارتفاع 45 سم \n",
      "Style:   معاصر\n",
      "Cat1: إكسسوارات\n",
      "Cat2: الإضاءة\n",
      "Mater \n",
      "Detail:     مصباح طاولة 1 قطعة\n",
      "Color:     شفاف، ذهبى\n",
      "Size     * عرض 35 * عمق 35 * ارتفاع 65 سم\n",
      "Style:   معاصر\n",
      "Cat1: إكسسوارات\n",
      "Cat2: الإضاءة\n",
      "Mater \n",
      "Detail:     مصباح طاولة 1 قطعة\n",
      "Color:     شفاف، ذهبى\n",
      "Size     * عرض 35 * عمق 35 * ارتفاع 50 سم\n",
      "Style:   معاصر\n",
      "Cat1: إكسسوارات\n",
      "Cat2: الإضاءة\n",
      "Mater \n",
      "Detail:     مصباح طاولة 1 قطعة\n",
      "Color:     شفاف، ذهبى\n",
      "Size     * عرض 35 * عمق 35 * ارتفاع 65 سم\n",
      "Style:   معاصر\n",
      "Cat1: إكسسوارات\n",
      "Cat2: الإضاءة\n",
      "Mater \n",
      "Detail:     مصباح طاولة 1 قطعة\n",
      "Color:     شفاف، ذهبى\n",
      "Size     * عرض 37 * عمق 37 * ارتفاع 60 سم\n",
      "Style:   معاصر\n",
      "Cat1: \n",
      "Cat2: \n",
      "Mater \n",
      "Detail:     مصباح طاولة 1 قطعة\n",
      "Color:   ذهبي\n",
      "Size     * عرض 38 * عمق 38 * ارتفاع 60 سم\n",
      "3\n",
      "3\n",
      "3\n",
      "3\n",
      "Style: \n",
      "Cat1: إكسسوارات\n",
      "Cat2: الإضاءة\n",
      "Mater \n",
      "Detail:     مصباح طاولة 1 قطعة\n",
      "Color:     ذهبى، أبيض\n",
      "Size     * عرض 37 * عمق 37 * ارتفاع 63 سم\n",
      "Style:   كلاسيكى\n",
      "Cat1: إكسسوارات\n",
      "Cat2: الإضاءة\n",
      "Mater \n",
      "Detail:     مصباح طاولة 1 قطعة\n",
      "Color:   أبيض\n",
      "Size     * عرض 23 * عمق 23 * ارتفاع 83 سم\n",
      "3\n",
      "3\n",
      "3\n",
      "3\n",
      "Style: \n",
      "Cat1: إكسسوارات\n",
      "Cat2: الإضاءة\n",
      "Mater    معدن\n",
      "Detail:     مصباح سقف 1 قطعة\n",
      "Color:     ذهبى\n",
      "Size    مصباح سقف * عرض 70 * عمق * ارتفاع 18 سم\n",
      "Style:   معاصر\n",
      "Cat1: إكسسوارات\n",
      "Cat2: الإضاءة\n",
      "Mater    معدن / زجاج\n",
      "Detail:     مصباح سقف 1 قطعة\n",
      "Color:     ذهبى، أبيض\n",
      "Size    مصباح سقف * عرض 90 * عمق * ارتفاع 90 سم\n",
      "Style:   معاصر\n",
      "Cat1: إكسسوارات\n",
      "Cat2: الإضاءة\n",
      "Mater    زجاج شفاف / معدن\n",
      "Detail:     مصباح طاولة 1 قطعة\n",
      "Color:     نحاسى، شفاف\n",
      "Size     * عرض 35 * عمق * ارتفاع 62 سم\n",
      "Style:   معاصر\n"
     ]
    },
    {
     "name": "stdout",
     "output_type": "stream",
     "text": [
      "Cat1: إكسسوارات\n",
      "Cat2: الإضاءة\n",
      "Mater \n",
      "Detail:     مصباح طاولة 1 قطعة\n",
      "Color:     بيج، رمادى\n",
      "Size     * عرض 43 * عمق 43 * ارتفاع 76 سم\n",
      "Style:   معاصر\n",
      "Cat1: إكسسوارات\n",
      "Cat2: الإضاءة\n",
      "Mater    نحاس\n",
      "Detail:     مصباح طاولة 1 قطعة\n",
      "Color:     أبيض\n",
      "Size     * عرض 38 * عمق 38 * ارتفاع 76 سم\n",
      "Style:   معاصر\n",
      "Cat1: إكسسوارات\n",
      "Cat2: الإضاءة\n",
      "Mater \n",
      "Detail:     مصباح طاولة 1 قطعة\n",
      "Color:     أبيض، ذهبى\n",
      "Size     * عرض 41 * عمق 41 * ارتفاع 68 سم\n",
      "Style:   معاصر\n",
      "Cat1: إكسسوارات\n",
      "Cat2: الإضاءة\n",
      "Mater    معدن / نحاس / رخام\n",
      "Detail:     مصباح طاولة 1 قطعة\n",
      "Color:     أبيض، ذهبى\n",
      "Size     * عرض 43 * عمق 43 * ارتفاع 76 سم\n",
      "Style:   معاصر\n",
      "Cat1: إكسسوارات\n",
      "Cat2: الإضاءة\n",
      "Mater \n",
      "Detail:     مصباح طاولة 1 قطعة\n",
      "Color:     أبيض\n",
      "Size     * عرض 38 * عمق 25 * ارتفاع 66 سم\n",
      "Style:   معاصر\n",
      "Cat1: إكسسوارات\n",
      "Cat2: الإضاءة\n",
      "Mater \n",
      "Detail:     مصباح طاولة 1 قطعة\n",
      "Color:     رمادى\n",
      "Size     * عرض 43 * عمق 43 * ارتفاع 94 سم\n",
      "Style:   معاصر\n",
      "Cat1: إكسسوارات\n",
      "Cat2: الإضاءة\n",
      "Mater    معدن / إكليريك\n",
      "Detail:     مصباح طاولة 1 قطعة\n",
      "Color:     فضى، ذهبى\n",
      "Size     * عرض 27 * عمق 27 * ارتفاع 67 سم\n",
      "Style:   معاصر\n",
      "Cat1: إكسسوارات\n",
      "Cat2: الإضاءة\n",
      "Mater \n",
      "Detail:     مصباح طاولة 1 قطعة\n",
      "Color:     أبيض، رمادى\n",
      "Size     * عرض 38 * عمق 38 * ارتفاع 69 سم\n",
      "Style:   معاصر\n",
      "Cat1: إكسسوارات\n",
      "Cat2: الإضاءة\n",
      "Mater \n",
      "Detail:     مصباح طاولة 1 قطعة\n",
      "Color:     بيج\n",
      "Size     * عرض 41 * عمق 41 * ارتفاع 71 سم\n",
      "Style:   معاصر\n",
      "Cat1: إكسسوارات\n",
      "Cat2: الإضاءة\n",
      "Mater    نحاس\n",
      "Detail:     مصباح حائط 1 قطعة\n",
      "Color:     ذهبى\n",
      "Size    مصباح حائط * عرض 55 * عمق 15 * ارتفاع 42 سم\n",
      "Style:   معاصر\n",
      "Cat1: إكسسوارات\n",
      "Cat2: الإضاءة\n",
      "Mater    زجاج شفاف / معدن\n",
      "Detail:     مصباح طاولة 1 قطعة\n",
      "Color:     ذهبى، شفاف\n",
      "Size     * عرض 33 * عمق 18 * ارتفاع 33 سم\n",
      "Style:   معاصر\n",
      "Cat1: إكسسوارات\n",
      "Cat2: الإضاءة\n",
      "Mater    معدن / زجاج\n",
      "Detail:     مصباح سقف 1 قطعة \n",
      "Color:     ذهبى، شفاف\n",
      "Size    مصباح سقف * عرض 60 * عمق * ارتفاع 45 سم \n",
      "Style:   معاصر\n",
      "Cat1: إكسسوارات\n",
      "Cat2: الإضاءة\n",
      "Mater    معدن / زجاج\n",
      "Detail:     مصباح سقف 1 قطعة \n",
      "Color:     ذهبى، شفاف\n",
      "Size    مصباح سقف * عرض 13 * عمق * ارتفاع 20 سم \n",
      "Style:   معاصر\n",
      "Cat1: إكسسوارات\n",
      "Cat2: الإضاءة\n",
      "Mater    معدن / زجاج\n",
      "Detail:     مصباح سقف 1 قطعة\n",
      "Color:     ذهبى، أبيض\n",
      "Size    مصباح سقف * عرض 30 * عمق * ارتفاع 35 سم\n",
      "Style:   معاصر\n",
      "Cat1: إكسسوارات\n",
      "Cat2: الإضاءة\n",
      "Mater    معدن / زجاج\n",
      "Detail:     مصباح سقف 1 قطعة\n",
      "Color:     ذهبى، شفاف\n",
      "Size    مصباح سقف * عرض 48 * عمق 48 * ارتفاع 155 سم\n",
      "Style:   معاصر\n",
      "Cat1: إكسسوارات\n",
      "Cat2: الإضاءة\n",
      "Mater    معدن / زجاج\n",
      "Detail:     مصباح سقف 1 قطعة\n",
      "Color:     ذهبى، شفاف\n",
      "Size    مصباح سقف * عرض 48 * عمق 48 * ارتفاع 60 سم\n",
      "Style:   معاصر\n",
      "Cat1: إكسسوارات\n",
      "Cat2: الإضاءة\n",
      "Mater    معدن / زجاج\n",
      "Detail:     مصباح سقف 1 قطعة\n",
      "Color:     ذهبى، شفاف\n",
      "Size    مصباح سقف * عرض 48 * عمق 48 * ارتفاع 155 سم\n",
      "Style:   معاصر\n",
      "Cat1: إكسسوارات\n",
      "Cat2: الإضاءة\n",
      "Mater    معدن / زجاج\n",
      "Detail:     مصباح سقف 1 قطعة\n",
      "Color:     ذهبى، شفاف\n",
      "Size    مصباح سقف * عرض 48 * عمق 48 * ارتفاع 60 سم\n",
      "Style:   معاصر\n",
      "Cat1: إكسسوارات\n",
      "Cat2: الإضاءة\n",
      "Mater    نحاس\n",
      "Detail:     مصباح طاولة 1 قطعة\n",
      "Color:     ذهبى\n",
      "Size     * عرض 20 * عمق 20 * ارتفاع 58 سم\n",
      "Style:   معاصر\n",
      "Cat1: إكسسوارات\n",
      "Cat2: الإضاءة\n",
      "Mater    معدن / زجاج\n",
      "Detail:     مصباح حائط 1 قطعة\n",
      "Color:     فضى، شفاف\n",
      "Size    مصباح حائط * عرض 17 * عمق 30 * ارتفاع 48 سم\n",
      "Style:   معاصر\n",
      "Cat1: إكسسوارات\n",
      "Cat2: الإضاءة\n",
      "Mater    صلب / زجاج\n",
      "Detail:     مصباح سقف 1 قطعة\n",
      "Color:     ذهبى، أبيض\n",
      "Size    مصباح سقف * عرض 50 * عمق 50 * ارتفاع 54 سم\n",
      "Style:   معاصر\n",
      "Cat1: إكسسوارات\n",
      "Cat2: الإضاءة\n",
      "Mater    صلب\n",
      "Detail:     مصباح سقف 1 قطعة\n",
      "Color:     ذهبى، أبيض\n",
      "Size    مصباح سقف * عرض 37* عمق 37 * ارتفاع 41 سم\n",
      "Style:   معاصر\n",
      "Cat1: إكسسوارات\n",
      "Cat2: الإضاءة\n",
      "Mater    معدن / زجاج\n",
      "Detail:     مصباح سقف 1 قطعة\n",
      "Color:     ذهبى، أبيض\n",
      "Size    مصباح سقف * عرض 36 * عمق 36 * ارتفاع 47 سم\n",
      "Style:   معاصر\n",
      "Cat1: إكسسوارات\n",
      "Cat2: الإضاءة\n",
      "Mater    معدن / زجاج\n",
      "Detail:     مصباح سقف 1 قطعة\n",
      "Color:     ذهبى، أبيض\n",
      "Size    مصباح سقف * عرض 36 * عمق 36 * ارتفاع 36 سم\n",
      "Style:   معاصر\n",
      "Cat1: إكسسوارات\n",
      "Cat2: الإضاءة\n",
      "Mater \n",
      "Detail:     مصباح طاولة 1 قطعة\n",
      "Color:     ذهبى\n",
      "Size     * عرض 32 * عمق 32 * ارتفاع 50 سم\n",
      "Style:   معاصر\n",
      "Cat1: إكسسوارات\n",
      "Cat2: الإضاءة\n",
      "Mater    معدن\n",
      "Detail:     مصباح سقف 1 قطعة\n",
      "Color:     ذهبى\n",
      "Size    مصباح سقف * عرض 55 * عمق 55 * ارتفاع 57 سم\n",
      "Style:   معاصر\n",
      "Cat1: إكسسوارات\n",
      "Cat2: الإضاءة\n",
      "Mater    قاعدة من الرخام / نحاس\n",
      "Detail:     مصباح طاولة 1 قطعة\n",
      "Color:     ذهبى، رمادى\n",
      "Size     * عرض 38 * عمق * ارتفاع 48 سم\n",
      "Style:   معاصر\n",
      "Cat1: إكسسوارات\n",
      "Cat2: الإضاءة\n",
      "Mater    معدن\n",
      "Detail:     مصباح طاولة 1 قطعة\n",
      "Color:     رمادى\n",
      "Size     * عرض 38 * عمق * ارتفاع 50 سم\n",
      "Style:   معاصر\n",
      "Cat1: إكسسوارات\n",
      "Cat2: الإضاءة\n",
      "Mater    قاعدة معدنية / إستانلس ستيل\n",
      "Detail:     مصباح طاولة 1 قطعة\n",
      "Color:     أسود، ذهبى\n",
      "Size     * عرض 35 * عمق 25 * ارتفاع 45 سم\n",
      "Style:   معاصر\n",
      "Cat1: إكسسوارات\n",
      "Cat2: الإضاءة\n",
      "Mater    إستانلس ستيل / رخام\n",
      "Detail:     مصباح طاولة 1 قطعة\n",
      "Color:     أبيض، رمادى\n",
      "Size     * عرض 35 * عمق 25 * ارتفاع 45 سم\n",
      "Style:   معاصر\n",
      "Cat1: إكسسوارات\n",
      "Cat2: الإضاءة\n",
      "Mater    إستانلس ستيل / كروم / زجاج\n",
      "Detail:     مصباح حائط 1 قطعة\n",
      "Color:     ذهبى، أبيض\n",
      "Size    مصباح حائط * عرض 30 * عمق 10 * ارتفاع 13 سم\n",
      "Style:   معاصر\n",
      "Cat1: إكسسوارات\n",
      "Cat2: الإضاءة\n",
      "Mater    إستانلس ستيل / كروم / زجاج\n",
      "Detail:     مصباح طاولة 1 قطعة\n",
      "Color:     فضى، أبيض\n",
      "Size     * عرض 17 * عمق * ارتفاع 18 سم\n",
      "Style:   معاصر\n",
      "Cat1: إكسسوارات\n",
      "Cat2: الإضاءة\n",
      "Mater    إستانلس ستيل / زجاج\n",
      "Detail:     مصباح طاولة 1 قطعة\n",
      "Color:     ذهبى، أبيض\n",
      "Size     * عرض 22 * عمق * ارتفاع 23 سم\n",
      "Style:   معاصر\n",
      "Cat1: إكسسوارات\n",
      "Cat2: الإضاءة\n",
      "Mater    زجاج أبيض / معدن\n",
      "Detail:     مصباح طاولة 1 قطعة\n",
      "Color:     ذهبى، أبيض\n",
      "Size     * عرض 22 * عمق * ارتفاع 40 سم\n",
      "Style:   معاصر\n",
      "Cat1: إكسسوارات\n",
      "Cat2: الإضاءة\n",
      "Mater    معدن / زجاج\n",
      "Detail:     مصباح سقف 1 قطعة \n",
      "Color:     ذهبى، أبيض\n",
      "Size    مصباح سقف * عرض 83 * عمق * ارتفاع 85 سم \n",
      "Style:   معاصر\n",
      "Cat1: إكسسوارات\n",
      "Cat2: الإضاءة\n",
      "Mater    معدن / زجاج\n",
      "Detail:     مصباح سقف 1 قطعة\n",
      "Color:     ذهبى, أبيض\n",
      "Size    مصباح سقف * عرض 96 * عمق * ارتفاع 70 سم\n",
      "Style:   معاصر\n",
      "Cat1: إكسسوارات\n",
      "Cat2: الإضاءة\n",
      "Mater    معدن\n",
      "Detail:     مصباح طاولة 1 قطعة\n",
      "Color:     ذهبى، أبيض\n",
      "Size     * عرض 36 * عمق * ارتفاع 65 سم\n",
      "Style:   معاصر\n",
      "Cat1: إكسسوارات\n",
      "Cat2: الإضاءة\n",
      "Mater    معدن / كريستال\n",
      "Detail:     مصباح أرضي 1 قطعة\n",
      "Color:     فضى، أبيض\n",
      "Size     * عرض 42 * عمق * ارتفاع 159 سم\n",
      "Style:   معاصر\n",
      "Cat1: إكسسوارات\n",
      "Cat2: الإضاءة\n",
      "Mater    معدن / كريستال\n",
      "Detail:     مصباح طاولة 1 قطعة\n",
      "Color:     فضى، أبيض\n",
      "Size     * عرض 40 * عمق * ارتفاع 70 سم\n",
      "Style:   معاصر\n",
      "Cat1: إكسسوارات\n",
      "Cat2: الإضاءة\n",
      "Mater    معدن / كريستال\n",
      "Detail:     مصباح أرضي 1 قطعة\n",
      "Color:     ذهبى، أبيض\n",
      "Size     * عرض 42 * عمق * ارتفاع 159 سم\n",
      "Style:   معاصر\n",
      "Cat1: إكسسوارات\n",
      "Cat2: الإضاءة\n",
      "Mater    معدن / كريستال\n",
      "Detail:     مصباح طاولة 1 قطعة\n",
      "Color:     ذهبى، أبيض\n",
      "Size     * عرض 40 * عمق * ارتفاع 70 سم\n",
      "Style:   معاصر\n",
      "Cat1: إكسسوارات\n",
      "Cat2: الإضاءة\n",
      "Mater    معدن / رخام\n",
      "Detail:     مصباح طاولة 1 قطعة\n",
      "Color:     ذهبى، أبيض\n",
      "Size     * عرض 23 * عمق * ارتفاع 28 سم\n",
      "Style:   معاصر\n",
      "Cat1: إكسسوارات\n",
      "Cat2: الإضاءة\n",
      "Mater    معدن / زجاج\n",
      "Detail:     مصباح طاولة 1 قطعة\n",
      "Color:     ذهبى، أبيض\n",
      "Size     * عرض 36 * عمق * ارتفاع 65 سم\n",
      "Style:   معاصر\n",
      "Cat1: إكسسوارات\n",
      "Cat2: الإضاءة\n",
      "Mater    معدن / رخام\n",
      "Detail:     مصباح طاولة 1 قطعة\n",
      "Color:     ذهبى، أسود\n",
      "Size     * عرض 35 * عمق * ارتفاع 61 سم\n",
      "Style:   معاصر\n",
      "Cat1: إكسسوارات\n",
      "Cat2: الإضاءة\n",
      "Mater    معدن / بولى ريسين\n",
      "Detail:     مصباح طاولة 1 قطعة\n",
      "Color:     ذهبى، أبيض\n",
      "Size     * عرض 38 * عمق * ارتفاع 68 سم\n",
      "Style:   معاصر\n",
      "Cat1: إكسسوارات\n",
      "Cat2: الإضاءة\n",
      "Mater    معدن\n",
      "Detail:     مصباح طاولة 1 قطعة\n",
      "Color:     ذهبى، أزرق\n",
      "Size     * عرض 35 * عمق * ارتفاع 64 سم\n",
      "Style:   معاصر\n",
      "Cat1: إكسسوارات\n",
      "Cat2: الإضاءة\n",
      "Mater    معدن / خشب مصنع\n",
      "Detail:     مصباح طاولة 1 قطعة\n",
      "Color:     ذهبى، أبيض\n",
      "Size     * عرض 38 * عمق * ارتفاع 67 سم\n",
      "Style:   معاصر\n",
      "Cat1: إكسسوارات\n",
      "Cat2: الإضاءة\n",
      "Mater    معدن / رخام\n",
      "Detail:     مصباح طاولة 1 قطعة\n",
      "Color:     ذهبى، أسود\n",
      "Size     * عرض 38 * عمق * ارتفاع 69 سم\n",
      "Style:   معاصر\n",
      "Cat1: إكسسوارات\n",
      "Cat2: الإضاءة\n",
      "Mater    معدن / كريستال\n",
      "Detail:     مصباح طاولة 1 قطعة\n",
      "Color:     ذهبى، أبيض\n",
      "Size     * عرض 40 * عمق * ارتفاع 78 سم\n",
      "Style:   معاصر\n",
      "Cat1: إكسسوارات\n",
      "Cat2: الإضاءة\n",
      "Mater    معدن / رخام\n",
      "Detail:     مصباح طاولة 1 قطعة\n",
      "Color:     ذهبى، أبيض\n",
      "Size     * عرض 40 * عمق * ارتفاع 72 سم\n",
      "Style:   معاصر\n",
      "Cat1: إكسسوارات\n",
      "Cat2: الإضاءة\n",
      "Mater    معدن / كريستال\n",
      "Detail:     مصباح طاولة 1 قطعة\n",
      "Color:     ذهبى، أبيض\n",
      "Size     * عرض 36 * عمق * ارتفاع 63 سم\n",
      "Style:   معاصر\n",
      "Cat1: إكسسوارات\n",
      "Cat2: الإضاءة\n",
      "Mater    معدن / كريستال\n",
      "Detail:     مصباح طاولة 1 قطعة\n",
      "Color:     ذهبى، أبيض\n",
      "Size     * عرض 40 * عمق * ارتفاع 60 سم\n",
      "Style:   معاصر\n"
     ]
    },
    {
     "name": "stdout",
     "output_type": "stream",
     "text": [
      "Cat1: إكسسوارات\n",
      "Cat2: الإضاءة\n",
      "Mater    معدن / كريستال\n",
      "Detail:     مصباح أرضي 1 قطعة\n",
      "Color:     ذهبى، أبيض\n",
      "Size     * عرض 42 * عمق * ارتفاع 159 سم\n",
      "Style:   معاصر\n",
      "Cat1: إكسسوارات\n",
      "Cat2: الإضاءة\n",
      "Mater    معدن / كريستال\n",
      "Detail:     مصباح طاولة 1 قطعة\n",
      "Color:     ذهبى، أبيض\n",
      "Size     * عرض 36 * عمق * ارتفاع 59 سم\n",
      "Style:   معاصر\n",
      "Cat1: إكسسوارات\n",
      "Cat2: الإضاءة\n",
      "Mater    معدن / رخام\n",
      "Detail:     مصباح طاولة 1 قطعة\n",
      "Color:     ذهبى، أسود\n",
      "Size     * عرض 40 * عمق * ارتفاع 73 سم\n",
      "Style:   معاصر\n",
      "Cat1: إكسسوارات\n",
      "Cat2: الإضاءة\n",
      "Mater    معدن / رخام\n",
      "Detail:     مصباح طاولة 1 قطعة\n",
      "Color:     ذهبى، أبيض\n",
      "Size     * عرض 40 * عمق * ارتفاع 51 سم\n",
      "Style:   معاصر\n",
      "Cat1: إكسسوارات\n",
      "Cat2: الإضاءة\n",
      "Mater    معدن / رخام\n",
      "Detail:     مصباح طاولة 1 قطعة\n",
      "Color:     ذهبى، أبيض\n",
      "Size     * عرض 40 * عمق * ارتفاع 66 سم\n",
      "Style:   معاصر\n",
      "Cat1: إكسسوارات\n",
      "Cat2: الإضاءة\n",
      "Mater    معدن / زجاج\n",
      "Detail:     مصباح طاولة 1 قطعة\n",
      "Color:     ذهبى، شفاف\n",
      "Size     * عرض 20 * عمق * ارتفاع 43 سم\n",
      "Style:   معاصر\n",
      "Cat1: إكسسوارات\n",
      "Cat2: الإضاءة\n",
      "Mater    معدن\n",
      "Detail:     مصباح طاولة 1 قطعة\n",
      "Color:     ذهبى، أبيض\n",
      "Size     * عرض 40 * عمق * ارتفاع 68 سم\n",
      "Style:   معاصر\n",
      "Cat1: إكسسوارات\n",
      "Cat2: الإضاءة\n",
      "Mater    معدن\n",
      "Detail:     مصباح طاولة 1 قطعة\n",
      "Color:     ذهبى، أبيض\n",
      "Size     * عرض 40 * عمق * ارتفاع 79 سم\n",
      "Style:   معاصر\n",
      "Cat1: إكسسوارات\n",
      "Cat2: الإضاءة\n",
      "Mater    معدن\n",
      "Detail:     مصباح طاولة 1 قطعة\n",
      "Color:     ذهبى، أسود\n",
      "Size     * عرض 32 * عمق * ارتفاع 57 سم\n",
      "Style:   معاصر\n",
      "Cat1: إكسسوارات\n",
      "Cat2: الإضاءة\n",
      "Mater    معدن\n",
      "Detail:     مصباح طاولة 1 قطعة\n",
      "Color:     ذهبى، أبيض\n",
      "Size     * عرض 38 * عمق * ارتفاع 58 سم\n",
      "Style:   معاصر\n",
      "Cat1: إكسسوارات\n",
      "Cat2: الإضاءة\n",
      "Mater    معدن\n",
      "Detail:     مصباح طاولة 1 قطعة\n",
      "Color:     ذهبى، أسود\n",
      "Size     * عرض 36 * عمق * ارتفاع 65 سم\n",
      "Style:   معاصر\n",
      "Cat1: إكسسوارات\n",
      "Cat2: الإضاءة\n",
      "Mater    معدن\n",
      "Detail:     مصباح طاولة 1 قطعة\n",
      "Color:     ذهبى، أبيض\n",
      "Size     * عرض 40 * عمق * ارتفاع 56 سم\n",
      "Style:   معاصر\n",
      "Cat1: إكسسوارات\n",
      "Cat2: الإضاءة\n",
      "Mater    معدن\n",
      "Detail:     مصباح أرضي 1 قطعة\n",
      "Color:     ذهبى، أبيض\n",
      "Size     * عرض 42 * عمق * ارتفاع 161 سم\n",
      "Style:   معاصر\n",
      "Cat1: إكسسوارات\n",
      "Cat2: الإضاءة\n",
      "Mater    معدن\n",
      "Detail:     مصباح طاولة 1 قطعة\n",
      "Color:     ذهبى، أبيض\n",
      "Size     * عرض 40 * عمق * ارتفاع 71 سم\n",
      "Style:   معاصر\n",
      "Cat1: إكسسوارات\n",
      "Cat2: الإضاءة\n",
      "Mater    معدن\n",
      "Detail:     مصباح طاولة 1 قطعة\n",
      "Color:     ذهبى، أبيض\n",
      "Size     * عرض 40 * عمق * ارتفاع 68 سم\n",
      "Style:   معاصر\n",
      "Cat1: إكسسوارات\n",
      "Cat2: الإضاءة\n",
      "Mater    معدن\n",
      "Detail:     مصباح طاولة 1 قطعة\n",
      "Color:     ذهبى، أبيض\n",
      "Size     * عرض 38 * عمق * ارتفاع 67 سم\n",
      "Style:   معاصر\n",
      "Cat1: إكسسوارات\n",
      "Cat2: الإضاءة\n",
      "Mater    معدن / كريستال\n",
      "Detail:     مصباح طاولة 1 قطعة\n",
      "Color:     ذهبى، أبيض\n",
      "Size     * عرض 40 * عمق * ارتفاع 65 سم\n",
      "Style:   معاصر\n",
      "Cat1: إكسسوارات\n",
      "Cat2: الإضاءة\n",
      "Mater    معدن / إكليريك\n",
      "Detail:     مصباح طاولة 1 قطعة\n",
      "Color:     ذهبى، أبيض\n",
      "Size     * عرض 40 * عمق * ارتفاع 63 سم\n",
      "Style:   معاصر\n",
      "Cat1: إكسسوارات\n",
      "Cat2: الإضاءة\n",
      "Mater  \n",
      " Metal\n",
      "coucou\n",
      "Detail:   Table Lamp 1 PCS\n",
      "Color:   كريمي\n",
      "Size  * W38 * D43 * H78 CM\n",
      "3\n",
      "3\n",
      "3\n",
      "3\n",
      "3\n",
      "3\n",
      "3\n",
      "Style:  Contemporary\n",
      "Cat1: إكسسوارات\n",
      "Cat2: الإضاءة\n",
      "Mater \n",
      "coucou\n",
      "Detail:   Table Lamp 1 PCS\n",
      "Color:   كريمي\n",
      "Size  * W38 * D49 * H101 CM\n",
      "3\n",
      "3\n",
      "3\n",
      "3\n",
      "3\n",
      "3\n",
      "Style:  Contemporary\n",
      "Cat1: إكسسوارات\n",
      "Cat2: الإضاءة\n",
      "Mater \n",
      "coucou\n",
      "Detail:   Table Lamp 1 PCS\n",
      "Color:   فضي\n",
      "Size  * W42 * D46 * H81 CM\n",
      "3\n",
      "3\n",
      "3\n",
      "3\n",
      "3\n",
      "Style:  Contemporary\n",
      "Cat1: إكسسوارات\n",
      "Cat2: الإضاءة\n",
      "Mater \n",
      "coucou\n",
      "Detail:   Table Lamp 1 PCS\n",
      "Color:   ذهبي\n",
      "Size  * W28 * D28 * H79 CM\n",
      "3\n",
      "3\n",
      "3\n",
      "3\n",
      "3\n",
      "Style:  Contemporary\n",
      "Cat1: إكسسوارات\n",
      "Cat2: الإضاءة\n",
      "Mater \n",
      "coucou\n",
      "Detail:   Table Lamp 1 PCS\n",
      "Color:   كريمي\n",
      "Size  * W28 * D28 * H65 CM\n",
      "3\n",
      "3\n",
      "3\n",
      "3\n",
      "3\n",
      "Style:  Contemporary\n",
      "Cat1: إكسسوارات\n",
      "Cat2: الإضاءة\n",
      "Mater \n",
      "coucou\n",
      "Detail:   Table Lamp 1 PCS\n",
      "Color:   ذهبي\n",
      "Size  * W42 * D42 * H104 CM\n",
      "3\n",
      "3\n",
      "3\n",
      "3\n",
      "3\n",
      "Style:  Contemporary\n",
      "Cat1: إكسسوارات\n",
      "Cat2: الإضاءة\n",
      "Mater \n",
      "coucou\n",
      "Detail:   Table Lamp 1 PCS\n",
      "Color:   ذهبي\n",
      "Size  * W44 * D44 * H98 CM\n",
      "3\n",
      "3\n",
      "3\n",
      "3\n",
      "3\n",
      "3\n",
      "Style:  Contemporary\n",
      "Cat1: إكسسوارات\n",
      "Cat2: الإضاءة\n",
      "Mater \n",
      "coucou\n",
      "Detail:   Table Lamp 1 PCS\n",
      "Color:   بني\n",
      "Size  * W34 * D34 * H80 CM\n",
      "3\n",
      "3\n",
      "3\n",
      "3\n",
      "3\n",
      "3\n",
      "3\n",
      "Style:  Contemporary\n",
      "Cat1: إكسسوارات\n",
      "Cat2: الإضاءة\n",
      "Mater \n",
      "coucou\n",
      "Detail:   Table Lamp 1 PCS\n",
      "Color:   فضي\n",
      "Size  * W51 * D51 * H96 CM\n",
      "3\n",
      "3\n",
      "3\n",
      "3\n",
      "3\n",
      "3\n",
      "Style:  Contemporary\n",
      "Cat1: إكسسوارات\n",
      "Cat2: الإضاءة\n",
      "Mater \n",
      "coucou\n",
      "Detail:   Table Lamp 1 PCS\n",
      "Color:   فضي\n",
      "Size  * W46 * D46 * H87 CM\n",
      "3\n",
      "3\n",
      "3\n",
      "3\n",
      "3\n",
      "3\n",
      "Style:  Contemporary\n",
      "Cat1: إكسسوارات\n",
      "Cat2: الإضاءة\n",
      "Mater  \n",
      " Metal\n",
      "coucou\n",
      "Detail:   Table Lamp 1 PCS\n",
      "Color:   ذهبي\n",
      "Size  * W30 * D30 * H63 CM\n",
      "3\n",
      "3\n",
      "3\n",
      "3\n",
      "3\n",
      "3\n",
      "3\n",
      "Style:  Contemporary\n",
      "Cat1: إكسسوارات\n",
      "Cat2: الإضاءة\n",
      "Mater  \n",
      " Polyresin\n",
      "coucou\n",
      "Detail:   Table Lamp 1 PCS\n",
      "Color:   فضي\n",
      "Size  * W32 * D32 * H88 CM\n",
      "3\n",
      "3\n",
      "3\n",
      "3\n",
      "3\n",
      "3\n",
      "3\n",
      "Style:  Contemporary\n",
      "Cat1: إكسسوارات\n",
      "Cat2: الإضاءة\n",
      "Mater  \n",
      " Metal\n",
      "coucou\n",
      "Detail:   Table Lamp 1 PCS\n",
      "Color:   ذهبي\n",
      "Size  * W28 * D28 * H54 CM\n",
      "3\n",
      "3\n",
      "3\n",
      "3\n",
      "3\n",
      "3\n",
      "3\n",
      "Style:  Contemporary\n",
      "Cat1: إكسسوارات\n",
      "Cat2: الإضاءة\n",
      "Mater  \n",
      " Metal\n",
      "coucou\n",
      "Detail:   Table Lamp 1 PCS\n",
      "Color:   فضي\n",
      "Size  * W46 * D46 * H91 CM\n",
      "3\n",
      "3\n",
      "3\n",
      "3\n",
      "3\n",
      "3\n",
      "3\n",
      "Style:  Contemporary\n",
      "Cat1: إكسسوارات\n",
      "Cat2: الإضاءة\n",
      "Mater \n",
      "coucou\n",
      "Detail:   Table Lamp 1 PCS\n",
      "Color:   فضي\n",
      "Size  * W33 * D33 * H90 CM\n",
      "3\n",
      "3\n",
      "3\n",
      "3\n",
      "3\n",
      "Style:  Contemporary\n",
      "Cat1: إكسسوارات\n",
      "Cat2: الإضاءة\n",
      "Mater \n",
      "coucou\n",
      "Detail:   Table Lamp 1 PCS\n",
      "Color:   فضي\n",
      "Size  * W30 * D30 * H58 CM\n",
      "3\n",
      "3\n",
      "3\n",
      "3\n",
      "3\n",
      "Style:  Contemporary\n",
      "Cat1: إكسسوارات\n",
      "Cat2: الإضاءة\n",
      "Mater    زجاج / رخام / معدن\n",
      "Detail:     مصباح طاولة 1 قطعة\n",
      "Color:     فضى، وردى\n",
      "Size     * عرض 28 * عمق 28 * ارتفاع 82 سم\n",
      "Style:   إنتقالى\n",
      "Cat1: إكسسوارات\n",
      "Cat2: الإضاءة\n",
      "Mater  \n",
      " Metal\n",
      "coucou\n",
      "Detail:   Floor Lamp 1 PCS\n",
      "Color:   ذهبي\n",
      "Size Floor Lamp * W46 * D46 * H122 CM\n",
      "3\n",
      "3\n",
      "3\n",
      "3\n",
      "3\n",
      "3\n",
      "3\n",
      "Style:  Contemporary\n",
      "Cat1: إكسسوارات\n",
      "Cat2: الإضاءة\n",
      "Mater    كريستال شفاف / معدن مطلى بالنيكل\n",
      "Detail:     مصباح طاولة 1 قطعة\n",
      "Color:     فضى، شفاف\n",
      "Size     * عرض 38 * عمق 38 * ارتفاع 65 سم\n",
      "Style:   معاصر\n",
      "Cat1: إكسسوارات\n",
      "Cat2: الإضاءة\n",
      "Mater \n",
      "Detail:     مصباح طاولة 1 قطعة\n",
      "Color:     ذهبى، شفاف\n",
      "Size     * عرض 30 * عمق 30 * ارتفاع 64 سم\n",
      "Style:   معاصر\n",
      "Cat1: إكسسوارات\n",
      "Cat2: الإضاءة\n",
      "Mater \n",
      "Detail:     مصباح طاولة 1 قطعة\n",
      "Color:     ذهبى، شفاف\n",
      "Size     * عرض 30 * عمق 30 * ارتفاع 63 سم\n",
      "Style:   معاصر\n",
      "Cat1: إكسسوارات\n",
      "Cat2: الإضاءة\n",
      "Mater    زجاج شفاف / معدن\n",
      "Detail:     مصباح طاولة 1 قطعة\n",
      "Color:     فضى، شفاف\n",
      "Size     * عرض 25 * عمق 25 * ارتفاع 61 سم\n",
      "Style:   معاصر\n",
      "Cat1: إكسسوارات\n",
      "Cat2: الإضاءة\n",
      "Mater    معدن / زجاج شفاف\n",
      "Detail:     مصباح طاولة 1 قطعة\n",
      "Color:     ذهبى، شفاف\n",
      "Size     * عرض 28 * عمق 28 * ارتفاع 57 سم\n",
      "Style:   معاصر\n",
      "Cat1: إكسسوارات\n",
      "Cat2: الإضاءة\n",
      "Mater    معدن / زجاج شفاف\n",
      "Detail:     مصباح طاولة 1 قطعة\n",
      "Color:     ذهبى، شفاف\n",
      "Size     * عرض 32 * عمق 32 * ارتفاع 72 سم\n",
      "Style:   معاصر\n",
      "Cat1: إكسسوارات\n",
      "Cat2: الإضاءة\n",
      "Mater \n",
      "Detail:     مصباح طاولة 1 قطعة\n",
      "Color:   ذهبي\n",
      "Size     * عرض 37 * عمق 37 * ارتفاع 65 سم\n",
      "3\n",
      "3\n",
      "3\n",
      "Style: \n",
      "Cat1: إكسسوارات\n",
      "Cat2: الإضاءة\n",
      "Mater \n",
      "Detail:     مصباح حائط 1 قطعة\n",
      "Color:   ذهبي\n",
      "Size    مصباح حائط * عرض 75 * عمق 75 * ارتفاع 39 سم\n",
      "3\n",
      "3\n",
      "3\n",
      "Style: \n",
      "Cat1: إكسسوارات\n",
      "Cat2: الإضاءة\n",
      "Mater \n",
      "Detail:     مصباح سقف /معلقة/ ثريا 1 قطعة\n",
      "Color:   ذهبي\n",
      "Size    مصباح سقف /معلقة/ ثريا * عرض 61 * عمق 61 * ارتفاع 112 سم\n",
      "3\n",
      "3\n",
      "3\n",
      "Style: \n",
      "Cat1: إكسسوارات\n",
      "Cat2: الإضاءة\n",
      "Mater    معدن مع نحاس\n",
      "Detail:     مصباح طاولة 1 قطعة\n",
      "Color:     أبيض، ذهبى\n",
      "Size     * عرض 45 * عمق 45 * ارتفاع 85 سم\n",
      "Style:   معاصر\n",
      "Cat1: إكسسوارات\n",
      "Cat2: الإضاءة\n",
      "Mater    معدن / قاعدة من الرخام\n",
      "Detail:     مصباح طاولة 1 قطعة\n",
      "Color:     أبيض، ذهبى\n",
      "Size     * عرض 12 * عمق 12 * ارتفاع 48 سم\n",
      "Style:   معاصر\n",
      "Cat1: إكسسوارات\n",
      "Cat2: الإضاءة\n",
      "Mater \n",
      "Detail:     مصباح سقف /معلقة/ ثريا 1 قطعة\n",
      "Color:   ذهبي\n",
      "Size    مصباح سقف /معلقة/ ثريا * عرض 45 * عمق 45 * ارتفاع 50 سم\n",
      "3\n",
      "3\n",
      "3\n",
      "Style: \n",
      "Cat1: إكسسوارات\n",
      "Cat2: الإضاءة\n",
      "Mater \n",
      "Detail:     مصباح طاولة 1 قطعة\n",
      "Color:   ذهبي\n",
      "Size     * عرض 32 * عمق 32 * ارتفاع 67 سم\n",
      "3\n",
      "3\n",
      "3\n",
      "3\n",
      "Style: \n",
      "Cat1: إكسسوارات\n",
      "Cat2: الإضاءة\n",
      "Mater    إطار معدنى\n",
      "Detail:     مصباح أرضي 1 قطعة\n",
      "Color:     أسود\n",
      "Size     * عرض 18 * عمق 18 * ارتفاع 95 سم\n",
      "Style:   معاصر\n",
      "Cat1: إكسسوارات\n",
      "Cat2: الإضاءة\n",
      "Mater \n",
      "Detail:     مصباح أرضي 1 قطعة\n",
      "Color:   ذهبي\n",
      "Size     * عرض 54 * عمق 54 * ارتفاع 162 سم\n",
      "3\n",
      "3\n",
      "3\n",
      "Style: \n",
      "Cat1: إكسسوارات\n",
      "Cat2: الإضاءة\n",
      "Mater \n",
      "Detail:     مصباح طاولة 1 قطعة\n",
      "Color:   ذهبي\n",
      "Size     * عرض 31 * عمق 31 * ارتفاع 58 سم\n",
      "3\n",
      "3\n",
      "3\n",
      "Style: \n",
      "Cat1: إكسسوارات\n",
      "Cat2: الإضاءة\n",
      "Mater \n",
      "Detail:     مصباح سقف /معلقة/ ثريا 1 قطعة\n",
      "Color:   ذهبي\n",
      "Size    مصباح سقف /معلقة/ ثريا * عرض 55 * عمق 55 * ارتفاع 40 سم\n",
      "3\n",
      "3\n",
      "3\n",
      "Style: \n",
      "Cat1: إكسسوارات\n",
      "Cat2: الإضاءة\n",
      "Mater \n",
      "Detail:     مصباح حائط 1 قطعة\n",
      "Color:     أسود، شفاف\n",
      "Size    مصباح حائط * عرض 35 * عمق 14 * ارتفاع 34 سم\n",
      "Style:   معاصر\n"
     ]
    },
    {
     "name": "stdout",
     "output_type": "stream",
     "text": [
      "Cat1: إكسسوارات\n",
      "Cat2: الإضاءة\n",
      "Mater    معدن / زجاج\n",
      "Detail:     مصباح سقف 1 قطعة \n",
      "Color:     أسود، شفاف\n",
      "Size    مصباح سقف * عرض 70 * عمق 70 * ارتفاع 34 سم \n",
      "Style:   معاصر\n",
      "Cat1: إكسسوارات\n",
      "Cat2: الإضاءة\n",
      "Mater \n",
      "Detail:     مصباح طاولة 1 قطعة\n",
      "Color:   أبيض\n",
      "Size     * عرض 35 * عمق 35 * ارتفاع 58 سم\n",
      "3\n",
      "3\n",
      "3\n",
      "Style: \n",
      "Cat1: إكسسوارات\n",
      "Cat2: الإضاءة\n",
      "Mater \n",
      "Detail:  وصف المنتج  مصباح أرضي    مصباح أرضي 1 قطعة\n",
      "Color:   أبيض\n",
      "Size     * عرض 58 * عمق 58 * ارتفاع 178 سم\n",
      "3\n",
      "3\n",
      "3\n",
      "3\n",
      "Style: \n",
      "Cat1: إكسسوارات\n",
      "Cat2: الإضاءة\n",
      "Mater \n",
      "Detail:  وصف المنتج  مصباح طاولة    مصباح طاولة 1 قطعة\n",
      "Color:   لا\n",
      "Size     * عرض 38 * عمق 38 * ارتفاع 81 سم\n",
      "3\n",
      "3\n",
      "3\n",
      "3\n",
      "Style: \n",
      "Cat1: إكسسوارات\n",
      "Cat2: الإضاءة\n",
      "Mater \n",
      "Detail:     مصباح طاولة 1 قطعة\n",
      "Color:     ذهبى، أبيض\n",
      "Size     * عرض 36 * عمق 36 * ارتفاع 60 سم\n",
      "Style:   معاصر\n",
      "Cat1: إكسسوارات\n",
      "Cat2: الإضاءة\n",
      "Mater \n",
      "coucou\n",
      "Detail:   Table Lamp 1 PCS\n",
      "Color:   ذهبي\n",
      "Size  * W36 * D36 * H62 CM\n",
      "3\n",
      "3\n",
      "3\n",
      "Style: \n",
      "Cat1: إكسسوارات\n",
      "Cat2: الإضاءة\n",
      "Mater \n",
      "Detail:     مصباح طاولة 1 قطعة\n",
      "Color:     ذهبى، أبيض\n",
      "Size     * عرض 36 * عمق 36 * ارتفاع 62 سم\n",
      "Style:   معاصر\n",
      "Cat1: إكسسوارات\n",
      "Cat2: الإضاءة\n",
      "Mater \n",
      "Detail:     مصباح طاولة 1 قطعة\n",
      "Color:     ذهبى، أبيض\n",
      "Size     * عرض 36 * عمق 36 * ارتفاع 62 سم\n",
      "Style:   معاصر\n",
      "Cat1: إكسسوارات\n",
      "Cat2: الإضاءة\n",
      "Mater \n",
      "Detail:     مصباح طاولة 1 قطعة\n",
      "Color:     ذهبى، أبيض\n",
      "Size     * عرض 40 * عمق 40 * ارتفاع 68 سم\n",
      "Style:   معاصر\n",
      "Cat1: إكسسوارات\n",
      "Cat2: الإضاءة\n",
      "Mater \n",
      "Detail:     مصباح طاولة 1 قطعة\n",
      "Color:    ذهبي / أبيض\n",
      "Size     * عرض 40 * عمق 40 * ارتفاع 71 سم\n",
      "3\n",
      "3\n",
      "3\n",
      "3\n",
      "3\n",
      "Style: \n",
      "Cat1: إكسسوارات\n",
      "Cat2: الإضاءة\n",
      "Mater    زجاج / معدن\n",
      "Detail:     مصباح طاولة 1 قطعة\n",
      "Color:     ذهبى، أبيض\n",
      "Size     * عرض 40 * عمق 40 * ارتفاع 71 سم\n",
      "Style:   إنتقالى\n",
      "Cat1: إكسسوارات\n",
      "Cat2: الإضاءة\n",
      "Mater \n",
      "Detail:     مصباح طاولة 1 قطعة\n",
      "Color:   ذهبي\n",
      "Size     * عرض 40 * عمق 40 * ارتفاع 72 سم\n",
      "3\n",
      "3\n",
      "3\n",
      "3\n",
      "Style: \n",
      "Cat1: إكسسوارات\n",
      "Cat2: الإضاءة\n",
      "Mater    زجاج / معدن\n",
      "Detail:     مصباح طاولة 1 قطعة\n",
      "Color:     ذهبى، أسود\n",
      "Size     * عرض 38 * عمق 38 * ارتفاع 71 سم\n",
      "Style:   معاصر\n",
      "Cat1: إكسسوارات\n",
      "Cat2: الإضاءة\n",
      "Mater \n",
      "Detail:     مصباح طاولة 1 قطعة\n",
      "Color:     ذهبى، أبيض\n",
      "Size     * عرض 40 * عمق 40 * ارتفاع 74 سم\n",
      "Style:   معاصر\n",
      "Cat1: إكسسوارات\n",
      "Cat2: الإضاءة\n",
      "Mater \n",
      "Detail:     مصباح طاولة 1 قطعة\n",
      "Color:     ذهبى، أبيض\n",
      "Size     * عرض 40 * عمق 40 * ارتفاع 74 سم\n",
      "Style:   معاصر\n",
      "Cat1: إكسسوارات\n",
      "Cat2: الإضاءة\n",
      "Mater \n",
      "Detail:     مصباح طاولة 1 قطعة\n",
      "Color:     ذهبى، أبيض\n",
      "Size     * عرض 38 * عمق 38 * ارتفاع 71 سم\n",
      "Style:   معاصر\n",
      "Cat1: إكسسوارات\n",
      "Cat2: الإضاءة\n",
      "Mater \n",
      "Detail:  وصف المنتج  مصباح طاولة    مصباح طاولة 1 قطعة\n",
      "Color:   لا\n",
      "Size     * عرض 38 * عمق 38 * ارتفاع 68 سم\n",
      "3\n",
      "3\n",
      "3\n",
      "3\n",
      "Style: \n",
      "Cat1: إكسسوارات\n",
      "Cat2: الإضاءة\n",
      "Mater \n",
      "Detail:     مصباح أرضي عدد 1 قطعة\n",
      "Color:   ذهبي\n",
      "Size     العرض 42 * العمق 42 * الارتفاع 158 سم\n",
      "3\n",
      "3\n",
      "3\n",
      "3\n",
      "Style: \n",
      "Cat1: إكسسوارات\n",
      "Cat2: الإضاءة\n",
      "Mater \n",
      "Detail:     مصباح طاولة عدد 1 قطعة\n",
      "Color:   ذهبي\n",
      "Size     العرض 40 * العمق 40 * الارتفاع 73 سم\n",
      "3\n",
      "3\n",
      "3\n",
      "3\n",
      "Style: \n",
      "Cat1: إكسسوارات\n",
      "Cat2: الإضاءة\n",
      "Mater \n",
      "Detail:     مصباح طاولة 1 قطعة\n",
      "Color:     ذهبى، أبيض\n",
      "Size     * عرض 40 * عمق 40 * ارتفاع 72 سم\n",
      "Style:   معاصر\n",
      "Cat1: إكسسوارات\n",
      "Cat2: الإضاءة\n",
      "Mater    كريستال\n",
      "Detail:     مصباح طاولة 1 قطعة\n",
      "Color:     ذهبى، أبيض\n",
      "Size     * عرض 40 * عمق 40 * ارتفاع 66 سم\n",
      "Style:   معاصر\n",
      "Cat1: إكسسوارات\n",
      "Cat2: الإضاءة\n",
      "Mater \n",
      "Detail:     مصباح طاولة 1 قطعة\n",
      "Color:     ذهبى، أبيض\n",
      "Size     * عرض 35 * عمق 35 * ارتفاع 63 سم\n",
      "Style:   معاصر\n",
      "Cat1: إكسسوارات\n",
      "Cat2: الإضاءة\n",
      "Mater \n",
      "Detail:     مصباح طاولة 1 قطعة\n",
      "Color:     ذهبى، أبيض\n",
      "Size     * عرض 37 * عمق 37 * ارتفاع 63 سم\n",
      "Style:   معاصر\n",
      "Cat1: إكسسوارات\n",
      "Cat2: الإضاءة\n",
      "Mater \n",
      "Detail:     مصباح طاولة 1 قطعة\n",
      "Color:     ذهبى، أبيض\n",
      "Size     * عرض 40 * عمق 40 * ارتفاع 49 سم\n",
      "Style:   معاصر\n",
      "Cat1: إكسسوارات\n",
      "Cat2: الإضاءة\n",
      "Mater \n",
      "Detail:     مصباح طاولة 1 قطعة\n",
      "Color:     ذهبى، أسود\n",
      "Size     * عرض 40 * عمق 40 * ارتفاع 65 سم\n",
      "Style:   معاصر\n",
      "Cat1: إكسسوارات\n",
      "Cat2: الإضاءة\n",
      "Mater \n",
      "Detail:     مصباح أرضي 1 قطعة\n",
      "Color:    ذهبي / أبيض\n",
      "Size     * عرض 42 * عمق 42 * ارتفاع 158 سم\n",
      "3\n",
      "3\n",
      "3\n",
      "3\n",
      "3\n",
      "Style: \n",
      "Cat1: إكسسوارات\n",
      "Cat2: الإضاءة\n",
      "Mater \n",
      "Detail:     مصباح طاولة 1 قطعة\n",
      "Color:    ذهبي / أبيض\n",
      "Size     * عرض 40 * عمق 40 * ارتفاع 69 سم\n",
      "3\n",
      "3\n",
      "3\n",
      "3\n",
      "3\n",
      "Style: \n",
      "Cat1: إكسسوارات\n",
      "Cat2: الإضاءة\n",
      "Mater \n",
      "Detail:     مصباح طاولة 1 قطعة\n",
      "Color:     ذهبى، أبيض\n",
      "Size     * عرض 40 * عمق 40 * ارتفاع 71 سم\n",
      "Style:   معاصر\n",
      "Cat1: إكسسوارات\n",
      "Cat2: الإضاءة\n",
      "Mater \n",
      "Detail:     مصباح طاولة 1 قطعة\n",
      "Color:     ذهبى، أبيض\n",
      "Size     * عرض 36 * عمق 36 * ارتفاع 74 سم\n",
      "Style:   معاصر\n",
      "Cat1: إكسسوارات\n",
      "Cat2: الإضاءة\n",
      "Mater \n",
      "Detail:     مصباح طاولة 1 قطعة\n",
      "Color:     ذهبى، أبيض\n",
      "Size     * عرض 40 * عمق 40 * ارتفاع 64 سم\n",
      "Style:   معاصر\n",
      "Cat1: إكسسوارات\n",
      "Cat2: الإضاءة\n",
      "Mater \n",
      "Detail:     مصباح طاولة 1 قطعة\n",
      "Color:     ذهبى، أبيض\n",
      "Size     * عرض 37 * عمق 37 * ارتفاع 67 سم\n",
      "Style:   معاصر\n",
      "Cat1: إكسسوارات\n",
      "Cat2: الإضاءة\n",
      "Mater \n",
      "Detail:     مصباح طاولة 1 قطعة\n",
      "Color:     ذهبى، أبيض\n",
      "Size     * عرض 38 * عمق 38 * ارتفاع 73 سم\n",
      "Style:   معاصر\n",
      "Cat1: إكسسوارات\n",
      "Cat2: الإضاءة\n",
      "Mater \n",
      "Detail:     مصباح طاولة 1 قطعة\n",
      "Color:     ذهبى، أبيض\n",
      "Size     * عرض 37 * عمق 37 * ارتفاع 49 سم\n",
      "Style:   معاصر\n",
      "Cat1: إكسسوارات\n",
      "Cat2: الإضاءة\n",
      "Mater \n",
      "Detail:     مصباح طاولة 1 قطعة\n",
      "Color:     ذهبى، أبيض\n",
      "Size     * عرض 40 * عمق 40 * ارتفاع 63 سم\n",
      "Style:   معاصر\n",
      "Cat1: إكسسوارات\n",
      "Cat2: الإضاءة\n",
      "Mater \n",
      "Detail:     مصباح طاولة 1 قطعة\n",
      "Color:     ذهبى، أسود\n",
      "Size     * عرض 40 * عمق 70 * ارتفاع 74 سم\n",
      "Style:   معاصر\n",
      "Cat1: إكسسوارات\n",
      "Cat2: الإضاءة\n",
      "Mater \n",
      "Detail:     مصباح طاولة 1 قطعة\n",
      "Color:     ذهبى، أبيض\n",
      "Size     * عرض 38 * عمق 38 * ارتفاع 68 سم\n",
      "Style:   معاصر\n",
      "Cat1: إكسسوارات\n",
      "Cat2: الإضاءة\n",
      "Mater \n",
      "Detail:     مصباح حائط 1 قطعة\n",
      "Color:   فضي\n",
      "Size    مصباح حائط * عرض 36 * عمق 36 * ارتفاع 98 سم\n",
      "3\n",
      "3\n",
      "3\n",
      "3\n",
      "Style: \n",
      "Cat1: إكسسوارات\n",
      "Cat2: الإضاءة\n",
      "Mater    معدن / زجاج\n",
      "Detail:     مصباح طاولة 1 قطعة\n",
      "Color:     ذهبى، أبيض\n",
      "Size     * عرض 20 * عمق 20 * ارتفاع 25 سم\n",
      "Style:   معاصر\n",
      "Cat1: إكسسوارات\n",
      "Cat2: الإضاءة\n",
      "Mater \n",
      "Detail:     مصباح طاولة 1 قطعة\n",
      "Color:     ذهبى، أسود\n",
      "Size     * عرض 40 * عمق 40 * ارتفاع 75 سم\n",
      "Style:   معاصر\n",
      "Cat1: إكسسوارات\n",
      "Cat2: الإضاءة\n",
      "Mater \n",
      "Detail:     مصباح طاولة 1 قطعة\n",
      "Color:     ذهبى، شفاف\n",
      "Size     * عرض 36 * عمق 36 * ارتفاع 52 سم\n",
      "Style:   معاصر\n",
      "Cat1: إكسسوارات\n",
      "Cat2: الإضاءة\n",
      "Mater \n",
      "Detail:     مصباح طاولة 1 قطعة\n",
      "Color:     ذهبى، أبيض\n",
      "Size     * عرض 32 * عمق 32 * ارتفاع 54 سم\n",
      "Style:   معاصر\n",
      "Cat1: إكسسوارات\n",
      "Cat2: الإضاءة\n",
      "Mater \n",
      "Detail:     مصباح طاولة 1 قطعة\n",
      "Color:     ذهبى، أبيض\n",
      "Size     * عرض 36 * عمق 36 * ارتفاع 65 سم\n",
      "Style:   معاصر\n",
      "Cat1: إكسسوارات\n",
      "Cat2: الإضاءة\n",
      "Mater \n",
      "Detail:     مصباح طاولة 1 قطعة\n",
      "Color:   ذهبي\n",
      "Size     * عرض 35 * عمق 35 * ارتفاع 60 سم\n",
      "3\n",
      "3\n",
      "3\n",
      "3\n",
      "Style: \n",
      "Cat1: إكسسوارات\n",
      "Cat2: الإضاءة\n",
      "Mater \n",
      "coucou\n",
      "Detail:   مصباح طاولة عدد 1 قطعة\n",
      "Color:   ذهبي\n",
      "Size مصباح طاولة عرض 35 * عمق 35 * ارتفاع 59 سم\n",
      "3\n",
      "3\n",
      "Style: \n",
      "Cat1: إكسسوارات\n",
      "Cat2: الإضاءة\n",
      "Mater \n",
      "Detail:     مصباح طاولة 1 قطعة\n",
      "Color:     ذهبى، أبيض\n",
      "Size     * عرض 36 * عمق 36 * ارتفاع 64 سم\n",
      "Style:   معاصر\n",
      "Cat1: إكسسوارات\n",
      "Cat2: الإضاءة\n",
      "Mater \n",
      "Detail:     مصباح طاولة 1 قطعة\n",
      "Color:     ذهبى، أبيض\n",
      "Size     * عرض 40 * عمق 40 * ارتفاع 70 سم\n",
      "Style:   معاصر\n",
      "Cat1: إكسسوارات\n",
      "Cat2: الإضاءة\n",
      "Mater \n",
      "Detail:     مصباح طاولة 1 قطعة\n",
      "Color:   ذهبي\n",
      "Size     * عرض 40 * عمق 40 * ارتفاع 76 سم\n",
      "3\n",
      "3\n",
      "3\n",
      "3\n",
      "Style: \n",
      "Cat1: إكسسوارات\n",
      "Cat2: الإضاءة\n",
      "Mater \n",
      "coucou\n",
      "Detail:   مصباح طاولة عدد 1 قطعة\n",
      "Color:   ذهبي\n",
      "Size مصباح طاولة عرض 36 * عمق 36 * ارتفاع 68 سم\n",
      "3\n",
      "3\n",
      "Style: \n",
      "Cat1: إكسسوارات\n",
      "Cat2: الإضاءة\n",
      "Mater    قاعدة من الرخام\n",
      "Detail:     مصباح طاولة 1 قطعة\n",
      "Color:     ذهبى، أبيض\n",
      "Size     * عرض 40 * عمق 40 * ارتفاع 68 سم\n",
      "Style:   معاصر\n",
      "Cat1: إكسسوارات\n",
      "Cat2: الإضاءة\n",
      "Mater \n",
      "Detail:     مصباح طاولة 1 قطعة\n",
      "Color:     ذهبى، أبيض\n",
      "Size     * عرض 40 * عمق 40 * ارتفاع 68 سم\n",
      "Style:   معاصر\n",
      "Cat1: إكسسوارات\n",
      "Cat2: الإضاءة\n",
      "Mater    معدن / زجاج\n",
      "Detail:     مصباح طاولة عدد 1 قطعة\n",
      "Color:     ذهبى\n",
      "Size     العرض 35 * العمق 35 * الارتفاع 62 سم\n",
      "Style:   معاصر\n",
      "Cat1: إكسسوارات\n",
      "Cat2: الإضاءة\n",
      "Mater \n",
      "Detail:     مصباح طاولة 1 قطعة\n",
      "Color:     شفاف، ذهبى\n",
      "Size     * عرض 32 * عمق 32 * ارتفاع 65 سم\n",
      "Style:   معاصر\n",
      "Cat1: إكسسوارات\n",
      "Cat2: الإضاءة\n",
      "Mater \n",
      "Detail:     مصباح طاولة 1 قطعة\n",
      "Color:     رمادى داكن، ذهبى\n",
      "Size     * عرض 35 * عمق 35 * ارتفاع 65 سم\n",
      "Style:   معاصر\n",
      "Cat1: إكسسوارات\n",
      "Cat2: الإضاءة\n",
      "Mater \n",
      "Detail:     مصباح طاولة 1 قطعة\n",
      "Color:     شفاف، ذهبى\n",
      "Size     * عرض 35 * عمق 35 * ارتفاع 65 سم\n",
      "Style:   معاصر\n"
     ]
    }
   ],
   "source": [
    "count = 0\n",
    "list_images = []\n",
    "list_input_title = []\n",
    "list_input_price = []\n",
    "list_input_images1 = []\n",
    "list_input_images2 = []\n",
    "list_input_images3 = []\n",
    "list_input_images4 = []\n",
    "list_input_price_was = []\n",
    "list_input_model = []\n",
    "list_input_size = []\n",
    "list_input_color = []\n",
    "list_input_sku = []\n",
    "list_input_style = []\n",
    "list_input_in_stock = []\n",
    "list_input_mater = []\n",
    "list_input_link_url = []\n",
    "list_input_category1 = []\n",
    "list_input_category2 = []\n",
    "\n",
    "#ForLoop main\n",
    "for product in links_products:\n",
    "    time.sleep(1)\n",
    "    try:\n",
    "        driver.get(product)\n",
    "        time.sleep(3)\n",
    "    except:\n",
    "        continue\n",
    "    try:\n",
    "        product_name = driver.find_element_by_class_name('product-name').text\n",
    "    \n",
    "        link_url = str(product)\n",
    "\n",
    "        in_stock = driver.find_element_by_class_name('availability').text\n",
    "\n",
    "        sku = driver.find_element_by_class_name('sku').text[4:]\n",
    "\n",
    "        old_price = driver.find_elements_by_class_name('price')[0].get_attribute('innerHTML').replace('SAR', '').replace('\\n', '').replace(' ', '')\n",
    "\n",
    "        price = driver.find_elements_by_class_name('price')[1].get_attribute('innerHTML').replace('SAR', '').replace('\\n', '').replace(' ', '')\n",
    "\n",
    "        combination = driver.find_element_by_class_name('std').text\n",
    "    except:\n",
    "        continue\n",
    "    combination_product_size_list = combination.split('\\n')\n",
    "    combination_product_size_list1 = driver.find_element_by_class_name('std').text.split('\\n\\n')\n",
    "    combination = combination_product_size_list[1].replace('♦', '')\n",
    "    #product_size = combination_product_size_list[4].replace('♦', '')\n",
    "    \n",
    " # CATEGORY  *******************************************   \n",
    " \n",
    "    try:\n",
    "        category1 = driver.find_element_by_class_name('category47').text\n",
    "    except:\n",
    "        category1 = ''\n",
    "    try:\n",
    "        category2 = driver.find_element_by_class_name('category62').text\n",
    "    except:\n",
    "        category2 = ''\n",
    "    print('Cat1:', category1)\n",
    "    print('Cat2:', category2)\n",
    "\n",
    "\n",
    " # MATTER  *******************************************   \n",
    "  \n",
    "    mater = return_details('مواد التصنيع', combination_product_size_list1).replace(\"\\n\", \" \").replace(':', '').replace('♦', '')\n",
    "    if mater == '':\n",
    "        for  matter in combination_product_size_list1:\n",
    "            if matter.find('Materials') == 0:\n",
    "                \n",
    "                mater = matter.replace('Materials', '').replace(':', '').replace('♦', '')\n",
    "\n",
    "\n",
    "    print('Mater', mater)\n",
    "# DETAIL  *******************************************   \n",
    "    \n",
    "    detail = return_details('تفاصيل المنتج', combination_product_size_list1).replace(\"\\n\", \" \").replace(':', '').replace('♦', '')\n",
    "    if detail == '':\n",
    "        for dt in combination_product_size_list1:\n",
    "\n",
    "\n",
    "            if dt.find('Combination') == 0:\n",
    "                print('coucou')\n",
    "                detail = dt.replace('♦ ', '').replace('Combination', '').replace(':', '').replace('\\n', '')\n",
    "    print('Detail: ',detail)   \n",
    "# COLOR  *******************************************   \n",
    "\n",
    "    color = return_details('اللون', combination_product_size_list1).replace(\"\\n\", \" \").replace('♦', '').replace(':', '')\n",
    "    if color == '':\n",
    "        # Additional\n",
    "        try:\n",
    "            additional_tabbed = driver.find_element_by_id('product_tabs_additional_tabbed')\n",
    "            additional_tabbed.click()\n",
    "            time.sleep(1)\n",
    "            color = driver.find_element_by_id('product-attribute-specs-table').text.replace('اللون', '')\n",
    "            \n",
    "        except:\n",
    "            color = ''\n",
    "    print('Color: ', color)\n",
    "# SIZE  *******************************************   \n",
    "    size = return_details('حجم المنتج', combination_product_size_list1).replace(\"\\n\", \" \").replace('♦', '').replace(':', '').replace('مصباح طاولة', '').replace('مصباح أرضي', '').replace('مصباح أرضي:', '').replace('ثريا سقف', '')\n",
    "    if size == '':\n",
    "        for size_find in combination_product_size_list1:\n",
    "            if size_find.find('Product Size') == 0:\n",
    "                size = size_find.replace('Product Size', '').replace(':', '').replace('\\n', ''). replace('♦', '').replace('  ', '')\n",
    "    if size.find('Table Lamp') == 0:\n",
    "        size = size.replace('Table Lamp', '')\n",
    "        \n",
    "    print('Size',size)\n",
    "# STYLE  *******************************************   \n",
    "    style = return_details('النوع :', combination_product_size_list1).replace(\"\\n\", \" \").replace('♦', '')\n",
    "\n",
    "    if style == '':\n",
    "        try:\n",
    "\n",
    "\n",
    "            for styl in combination_product_size_list1:\n",
    "                print('3')\n",
    "\n",
    "                if styl.find('Concept') == 0:\n",
    "                    style = styl.replace('Concept :\\n♦', '').replace(':', '').replace('\\n', '')\n",
    "\n",
    "\n",
    "        except:\n",
    "            style = ''\n",
    "    if style.find('نوع المنتج') == 0:\n",
    "        style = style.replace('نوع المنتج', '').replace(':', '')\n",
    "    print('Style:', style)\n",
    "#     price = driver.find_element_by_id(\"product-attribute-specs-table\").text\n",
    "#     print(price)\n",
    "\n",
    "# IMAGES ***************************************************\n",
    "    list_images = []\n",
    "    \n",
    "    \n",
    "    images = driver.find_elements_by_class_name(\"gallery-image\")# 4 images.\n",
    "    for i in images:\n",
    "        list_images.append(i.get_attribute('src'))\n",
    "    list_input_title.append(product_name)\n",
    "    list_input_price.append(price)\n",
    "    list_input_price_was.append(old_price)\n",
    "    list_input_model.append(detail)\n",
    "    list_input_color.append(color)\n",
    "    list_input_size.append(size)\n",
    "    list_input_in_stock.append(in_stock)\n",
    "    list_input_sku.append(sku)\n",
    "    list_input_style.append(style)\n",
    "    list_input_mater.append(mater)\n",
    "    list_input_link_url.append(link_url)\n",
    "    list_input_category1.append(category1)\n",
    "    list_input_category2.append(category2)\n",
    "    try:\n",
    "        list_input_images1.append(list_images[0])\n",
    "    except:\n",
    "        list_input_images1.append('')\n",
    "        \n",
    "    try:\n",
    "        list_input_images2.append(list_images[1])\n",
    "    except:\n",
    "        list_input_images2.append('')\n",
    "        \n",
    "        \n",
    "    try:\n",
    "        list_input_images3.append(list_images[2])\n",
    "    except:\n",
    "        list_input_images3.append('')\n",
    "    try:\n",
    "        list_input_images4.append(list_images[3])\n",
    "    except:\n",
    "        list_input_images4.append('')\n",
    "    #df['Images'] = list_images\n",
    "    \n",
    "df = pd.DataFrame({'Sku': list_input_sku,\n",
    "                    'In Stock': list_input_in_stock,\n",
    "                    'Title': list_input_title,\n",
    "                   'Price': list_input_price, \n",
    "                   \"Price was\":list_input_price_was,  \n",
    "                   'Model': list_input_model, \n",
    "                   'Color': list_input_color, \n",
    "                   'size': list_input_size,\n",
    "                   'Style': list_input_style,\n",
    "                   'Matter': list_input_mater,\n",
    "                   'Images1': list_input_images1,\n",
    "                   'Images2': list_input_images2,\n",
    "                   'Images3': list_input_images3,\n",
    "                   'Images4': list_input_images4,\n",
    "                   'Link url': list_input_link_url,\n",
    "                   'Category1': list_input_category1,\n",
    "                   'Category2': list_input_category2,\n",
    "\n",
    "                  })\n",
    "#     new_df = pd.concat([df])\n",
    "df.to_excel( 'resultMidasLight.xlsx', index = True)\n",
    "    \n",
    "    \n",
    "    \n",
    "    \n",
    "    \n",
    "    \n",
    "    "
   ]
  },
  {
   "cell_type": "code",
   "execution_count": 85,
   "metadata": {},
   "outputs": [],
   "source": [
    "data = pd.read_excel(\"resultMidasLight.xlsx\")"
   ]
  },
  {
   "cell_type": "code",
   "execution_count": 94,
   "metadata": {},
   "outputs": [],
   "source": [
    "data_colum_check = ['size', ]\n"
   ]
  },
  {
   "cell_type": "code",
   "execution_count": null,
   "metadata": {},
   "outputs": [],
   "source": []
  },
  {
   "cell_type": "code",
   "execution_count": null,
   "metadata": {},
   "outputs": [],
   "source": []
  },
  {
   "cell_type": "code",
   "execution_count": 101,
   "metadata": {},
   "outputs": [],
   "source": [
    "df[data_colum_check] = df[data_colum_check].replace({'أرضي':''}, regex=True).replace({'ثريا':''}, regex=True).replace({'/':' '}, regex=True).replace({'معلقة':''}, regex=True).replace({'حائط':''}, regex=True).replace({'سقف':''}, regex=True).replace({'مصباح':''}, regex=True).replace({'طاولة':''}, regex=True)"
   ]
  },
  {
   "cell_type": "code",
   "execution_count": null,
   "metadata": {},
   "outputs": [],
   "source": []
  },
  {
   "cell_type": "code",
   "execution_count": null,
   "metadata": {},
   "outputs": [],
   "source": []
  },
  {
   "cell_type": "code",
   "execution_count": 97,
   "metadata": {},
   "outputs": [
    {
     "data": {
      "text/html": [
       "<div>\n",
       "<style scoped>\n",
       "    .dataframe tbody tr th:only-of-type {\n",
       "        vertical-align: middle;\n",
       "    }\n",
       "\n",
       "    .dataframe tbody tr th {\n",
       "        vertical-align: top;\n",
       "    }\n",
       "\n",
       "    .dataframe thead th {\n",
       "        text-align: right;\n",
       "    }\n",
       "</style>\n",
       "<table border=\"1\" class=\"dataframe\">\n",
       "  <thead>\n",
       "    <tr style=\"text-align: right;\">\n",
       "      <th></th>\n",
       "      <th>Sku</th>\n",
       "      <th>In Stock</th>\n",
       "      <th>Title</th>\n",
       "      <th>Price</th>\n",
       "      <th>Price was</th>\n",
       "      <th>Model</th>\n",
       "      <th>Color</th>\n",
       "      <th>size</th>\n",
       "      <th>Style</th>\n",
       "      <th>Matter</th>\n",
       "      <th>Images1</th>\n",
       "      <th>Images2</th>\n",
       "      <th>Images3</th>\n",
       "      <th>Images4</th>\n",
       "      <th>Link url</th>\n",
       "      <th>Category1</th>\n",
       "      <th>Category2</th>\n",
       "    </tr>\n",
       "  </thead>\n",
       "  <tbody>\n",
       "    <tr>\n",
       "      <th>0</th>\n",
       "      <td>7899</td>\n",
       "      <td>متوفر</td>\n",
       "      <td>مصباح طاولة نيكو</td>\n",
       "      <td>281.25</td>\n",
       "      <td>375.00</td>\n",
       "      <td>مصباح طاولة 1 قطعة</td>\n",
       "      <td>ذهبي</td>\n",
       "      <td>* عرض 36 * عمق 36 * ارتفاع 69 سم</td>\n",
       "      <td></td>\n",
       "      <td></td>\n",
       "      <td>https://cdn.midasfurniture.com/media/catalog/p...</td>\n",
       "      <td>https://cdn.midasfurniture.com/media/catalog/p...</td>\n",
       "      <td>https://cdn.midasfurniture.com/media/catalog/p...</td>\n",
       "      <td>https://cdn.midasfurniture.com/media/catalog/p...</td>\n",
       "      <td>https://midasfurniture.com/ksa_ar/niko-table-l...</td>\n",
       "      <td>إكسسوارات</td>\n",
       "      <td>الإضاءة</td>\n",
       "    </tr>\n",
       "    <tr>\n",
       "      <th>1</th>\n",
       "      <td>7896</td>\n",
       "      <td>متوفر</td>\n",
       "      <td>مصباح طاولة نافى</td>\n",
       "      <td>326.25</td>\n",
       "      <td>435.00</td>\n",
       "      <td>مصباح طاولة 1 قطعة</td>\n",
       "      <td>ذهبى</td>\n",
       "      <td>* عرض 36 * عمق 36 * ارتفاع 68 سم</td>\n",
       "      <td>كلاسيكى</td>\n",
       "      <td></td>\n",
       "      <td>https://cdn.midasfurniture.com/media/catalog/p...</td>\n",
       "      <td>https://cdn.midasfurniture.com/media/catalog/p...</td>\n",
       "      <td>https://cdn.midasfurniture.com/media/catalog/p...</td>\n",
       "      <td></td>\n",
       "      <td>https://midasfurniture.com/ksa_ar/navee-table-...</td>\n",
       "      <td>إكسسوارات</td>\n",
       "      <td>الإضاءة</td>\n",
       "    </tr>\n",
       "    <tr>\n",
       "      <th>2</th>\n",
       "      <td>7891</td>\n",
       "      <td>متوفر</td>\n",
       "      <td>تونزبيرج</td>\n",
       "      <td>457.50</td>\n",
       "      <td>610.00</td>\n",
       "      <td>مصباح طاولة عدد 1 قطعة</td>\n",
       "      <td>أبيض</td>\n",
       "      <td>عرض 35 * عمق 35 * ارتفاع 63 سم</td>\n",
       "      <td></td>\n",
       "      <td></td>\n",
       "      <td>https://cdn.midasfurniture.com/media/catalog/p...</td>\n",
       "      <td>https://cdn.midasfurniture.com/media/catalog/p...</td>\n",
       "      <td>https://cdn.midasfurniture.com/media/catalog/p...</td>\n",
       "      <td>https://cdn.midasfurniture.com/media/catalog/p...</td>\n",
       "      <td>https://midasfurniture.com/ksa_ar/tonsberg.html</td>\n",
       "      <td>إكسسوارات</td>\n",
       "      <td>الإضاءة</td>\n",
       "    </tr>\n",
       "    <tr>\n",
       "      <th>3</th>\n",
       "      <td>7890</td>\n",
       "      <td>متوفر</td>\n",
       "      <td>مصباح طاولة زيرا</td>\n",
       "      <td>322.50</td>\n",
       "      <td>430.00</td>\n",
       "      <td>مصباح طاولة 1 قطعة</td>\n",
       "      <td>ذهبي</td>\n",
       "      <td>* عرض 40 * عمق 40 * ارتفاع 68 سم</td>\n",
       "      <td></td>\n",
       "      <td></td>\n",
       "      <td>https://cdn.midasfurniture.com/media/catalog/p...</td>\n",
       "      <td>https://cdn.midasfurniture.com/media/catalog/p...</td>\n",
       "      <td>https://cdn.midasfurniture.com/media/catalog/p...</td>\n",
       "      <td></td>\n",
       "      <td>https://midasfurniture.com/ksa_ar/zera-table-l...</td>\n",
       "      <td>إكسسوارات</td>\n",
       "      <td>الإضاءة</td>\n",
       "    </tr>\n",
       "    <tr>\n",
       "      <th>4</th>\n",
       "      <td>7889</td>\n",
       "      <td>متوفر</td>\n",
       "      <td>مصباح طاولة ويلونا</td>\n",
       "      <td>273.75</td>\n",
       "      <td>365.00</td>\n",
       "      <td>مصباح طاولة 1 قطعة</td>\n",
       "      <td>أبيض</td>\n",
       "      <td>* عرض 36 * عمق 36 * ارتفاع 60 سم</td>\n",
       "      <td></td>\n",
       "      <td></td>\n",
       "      <td>https://cdn.midasfurniture.com/media/catalog/p...</td>\n",
       "      <td>https://cdn.midasfurniture.com/media/catalog/p...</td>\n",
       "      <td>https://cdn.midasfurniture.com/media/catalog/p...</td>\n",
       "      <td>https://cdn.midasfurniture.com/media/catalog/p...</td>\n",
       "      <td>https://midasfurniture.com/ksa_ar/wilona-table...</td>\n",
       "      <td>إكسسوارات</td>\n",
       "      <td>الإضاءة</td>\n",
       "    </tr>\n",
       "    <tr>\n",
       "      <th>...</th>\n",
       "      <td>...</td>\n",
       "      <td>...</td>\n",
       "      <td>...</td>\n",
       "      <td>...</td>\n",
       "      <td>...</td>\n",
       "      <td>...</td>\n",
       "      <td>...</td>\n",
       "      <td>...</td>\n",
       "      <td>...</td>\n",
       "      <td>...</td>\n",
       "      <td>...</td>\n",
       "      <td>...</td>\n",
       "      <td>...</td>\n",
       "      <td>...</td>\n",
       "      <td>...</td>\n",
       "      <td>...</td>\n",
       "      <td>...</td>\n",
       "    </tr>\n",
       "    <tr>\n",
       "      <th>212</th>\n",
       "      <td>107369</td>\n",
       "      <td>متوفر</td>\n",
       "      <td>مصباح طاولة الدونا</td>\n",
       "      <td>341.25</td>\n",
       "      <td>455.00</td>\n",
       "      <td>مصباح طاولة 1 قطعة</td>\n",
       "      <td>ذهبى، أبيض</td>\n",
       "      <td>* عرض 40 * عمق 40 * ارتفاع 68 سم</td>\n",
       "      <td>معاصر</td>\n",
       "      <td></td>\n",
       "      <td>https://cdn.midasfurniture.com/media/catalog/p...</td>\n",
       "      <td>https://cdn.midasfurniture.com/media/catalog/p...</td>\n",
       "      <td>https://cdn.midasfurniture.com/media/catalog/p...</td>\n",
       "      <td>https://cdn.midasfurniture.com/media/catalog/p...</td>\n",
       "      <td>https://midasfurniture.com/ksa_ar/catalog/prod...</td>\n",
       "      <td>إكسسوارات</td>\n",
       "      <td>الإضاءة</td>\n",
       "    </tr>\n",
       "    <tr>\n",
       "      <th>213</th>\n",
       "      <td>116989</td>\n",
       "      <td>متوفر</td>\n",
       "      <td>مصباح طاولة لايرى</td>\n",
       "      <td>562.50</td>\n",
       "      <td>750.00</td>\n",
       "      <td>مصباح طاولة عدد 1 قطعة</td>\n",
       "      <td>ذهبى</td>\n",
       "      <td>العرض 35 * العمق 35 * الارتفاع 62 سم</td>\n",
       "      <td>معاصر</td>\n",
       "      <td>معدن / زجاج</td>\n",
       "      <td>https://cdn.midasfurniture.com/media/catalog/p...</td>\n",
       "      <td>https://cdn.midasfurniture.com/media/catalog/p...</td>\n",
       "      <td>https://cdn.midasfurniture.com/media/catalog/p...</td>\n",
       "      <td>https://cdn.midasfurniture.com/media/catalog/p...</td>\n",
       "      <td>https://midasfurniture.com/ksa_ar/laire-table-...</td>\n",
       "      <td>إكسسوارات</td>\n",
       "      <td>الإضاءة</td>\n",
       "    </tr>\n",
       "    <tr>\n",
       "      <th>214</th>\n",
       "      <td>126386</td>\n",
       "      <td>متوفر</td>\n",
       "      <td>مصباح طاولة بريتا</td>\n",
       "      <td>656.25</td>\n",
       "      <td>875.00</td>\n",
       "      <td>مصباح طاولة 1 قطعة</td>\n",
       "      <td>شفاف، ذهبى</td>\n",
       "      <td>* عرض 32 * عمق 32 * ارتفاع 65 سم</td>\n",
       "      <td>معاصر</td>\n",
       "      <td></td>\n",
       "      <td>https://cdn.midasfurniture.com/media/catalog/p...</td>\n",
       "      <td>https://cdn.midasfurniture.com/media/catalog/p...</td>\n",
       "      <td>https://cdn.midasfurniture.com/media/catalog/p...</td>\n",
       "      <td>https://cdn.midasfurniture.com/media/catalog/p...</td>\n",
       "      <td>https://midasfurniture.com/ksa_ar/catalog/prod...</td>\n",
       "      <td>إكسسوارات</td>\n",
       "      <td>الإضاءة</td>\n",
       "    </tr>\n",
       "    <tr>\n",
       "      <th>215</th>\n",
       "      <td>126378</td>\n",
       "      <td>متوفر</td>\n",
       "      <td>مصباح طاولة جروفن</td>\n",
       "      <td>596.25</td>\n",
       "      <td>795.00</td>\n",
       "      <td>مصباح طاولة 1 قطعة</td>\n",
       "      <td>رمادى داكن، ذهبى</td>\n",
       "      <td>* عرض 35 * عمق 35 * ارتفاع 65 سم</td>\n",
       "      <td>معاصر</td>\n",
       "      <td></td>\n",
       "      <td>https://cdn.midasfurniture.com/media/catalog/p...</td>\n",
       "      <td>https://cdn.midasfurniture.com/media/catalog/p...</td>\n",
       "      <td>https://cdn.midasfurniture.com/media/catalog/p...</td>\n",
       "      <td>https://cdn.midasfurniture.com/media/catalog/p...</td>\n",
       "      <td>https://midasfurniture.com/ksa_ar/catalog/prod...</td>\n",
       "      <td>إكسسوارات</td>\n",
       "      <td>الإضاءة</td>\n",
       "    </tr>\n",
       "    <tr>\n",
       "      <th>216</th>\n",
       "      <td>126368</td>\n",
       "      <td>متوفر</td>\n",
       "      <td>مصباح طاولة بروكاتور</td>\n",
       "      <td>596.25</td>\n",
       "      <td>795.00</td>\n",
       "      <td>مصباح طاولة 1 قطعة</td>\n",
       "      <td>شفاف، ذهبى</td>\n",
       "      <td>* عرض 35 * عمق 35 * ارتفاع 65 سم</td>\n",
       "      <td>معاصر</td>\n",
       "      <td></td>\n",
       "      <td>https://cdn.midasfurniture.com/media/catalog/p...</td>\n",
       "      <td>https://cdn.midasfurniture.com/media/catalog/p...</td>\n",
       "      <td>https://cdn.midasfurniture.com/media/catalog/p...</td>\n",
       "      <td>https://cdn.midasfurniture.com/media/catalog/p...</td>\n",
       "      <td>https://midasfurniture.com/ksa_ar/catalog/prod...</td>\n",
       "      <td>إكسسوارات</td>\n",
       "      <td>الإضاءة</td>\n",
       "    </tr>\n",
       "  </tbody>\n",
       "</table>\n",
       "<p>217 rows × 17 columns</p>\n",
       "</div>"
      ],
      "text/plain": [
       "        Sku In Stock                 Title   Price Price was  \\\n",
       "0      7899    متوفر      مصباح طاولة نيكو  281.25    375.00   \n",
       "1      7896    متوفر      مصباح طاولة نافى  326.25    435.00   \n",
       "2      7891    متوفر              تونزبيرج  457.50    610.00   \n",
       "3      7890    متوفر      مصباح طاولة زيرا  322.50    430.00   \n",
       "4      7889    متوفر    مصباح طاولة ويلونا  273.75    365.00   \n",
       "..      ...      ...                   ...     ...       ...   \n",
       "212  107369    متوفر    مصباح طاولة الدونا  341.25    455.00   \n",
       "213  116989    متوفر     مصباح طاولة لايرى  562.50    750.00   \n",
       "214  126386    متوفر     مصباح طاولة بريتا  656.25    875.00   \n",
       "215  126378    متوفر     مصباح طاولة جروفن  596.25    795.00   \n",
       "216  126368    متوفر  مصباح طاولة بروكاتور  596.25    795.00   \n",
       "\n",
       "                         Model                Color  \\\n",
       "0           مصباح طاولة 1 قطعة                 ذهبي   \n",
       "1           مصباح طاولة 1 قطعة                 ذهبى   \n",
       "2       مصباح طاولة عدد 1 قطعة                 أبيض   \n",
       "3           مصباح طاولة 1 قطعة                 ذهبي   \n",
       "4           مصباح طاولة 1 قطعة                 أبيض   \n",
       "..                         ...                  ...   \n",
       "212         مصباح طاولة 1 قطعة           ذهبى، أبيض   \n",
       "213     مصباح طاولة عدد 1 قطعة                 ذهبى   \n",
       "214         مصباح طاولة 1 قطعة           شفاف، ذهبى   \n",
       "215         مصباح طاولة 1 قطعة     رمادى داكن، ذهبى   \n",
       "216         مصباح طاولة 1 قطعة           شفاف، ذهبى   \n",
       "\n",
       "                                         size      Style          Matter  \\\n",
       "0            * عرض 36 * عمق 36 * ارتفاع 69 سم                              \n",
       "1            * عرض 36 * عمق 36 * ارتفاع 68 سم    كلاسيكى                   \n",
       "2              عرض 35 * عمق 35 * ارتفاع 63 سم                              \n",
       "3            * عرض 40 * عمق 40 * ارتفاع 68 سم                              \n",
       "4            * عرض 36 * عمق 36 * ارتفاع 60 سم                              \n",
       "..                                        ...        ...             ...   \n",
       "212          * عرض 40 * عمق 40 * ارتفاع 68 سم      معاصر                   \n",
       "213      العرض 35 * العمق 35 * الارتفاع 62 سم      معاصر     معدن / زجاج   \n",
       "214          * عرض 32 * عمق 32 * ارتفاع 65 سم      معاصر                   \n",
       "215          * عرض 35 * عمق 35 * ارتفاع 65 سم      معاصر                   \n",
       "216          * عرض 35 * عمق 35 * ارتفاع 65 سم      معاصر                   \n",
       "\n",
       "                                               Images1  \\\n",
       "0    https://cdn.midasfurniture.com/media/catalog/p...   \n",
       "1    https://cdn.midasfurniture.com/media/catalog/p...   \n",
       "2    https://cdn.midasfurniture.com/media/catalog/p...   \n",
       "3    https://cdn.midasfurniture.com/media/catalog/p...   \n",
       "4    https://cdn.midasfurniture.com/media/catalog/p...   \n",
       "..                                                 ...   \n",
       "212  https://cdn.midasfurniture.com/media/catalog/p...   \n",
       "213  https://cdn.midasfurniture.com/media/catalog/p...   \n",
       "214  https://cdn.midasfurniture.com/media/catalog/p...   \n",
       "215  https://cdn.midasfurniture.com/media/catalog/p...   \n",
       "216  https://cdn.midasfurniture.com/media/catalog/p...   \n",
       "\n",
       "                                               Images2  \\\n",
       "0    https://cdn.midasfurniture.com/media/catalog/p...   \n",
       "1    https://cdn.midasfurniture.com/media/catalog/p...   \n",
       "2    https://cdn.midasfurniture.com/media/catalog/p...   \n",
       "3    https://cdn.midasfurniture.com/media/catalog/p...   \n",
       "4    https://cdn.midasfurniture.com/media/catalog/p...   \n",
       "..                                                 ...   \n",
       "212  https://cdn.midasfurniture.com/media/catalog/p...   \n",
       "213  https://cdn.midasfurniture.com/media/catalog/p...   \n",
       "214  https://cdn.midasfurniture.com/media/catalog/p...   \n",
       "215  https://cdn.midasfurniture.com/media/catalog/p...   \n",
       "216  https://cdn.midasfurniture.com/media/catalog/p...   \n",
       "\n",
       "                                               Images3  \\\n",
       "0    https://cdn.midasfurniture.com/media/catalog/p...   \n",
       "1    https://cdn.midasfurniture.com/media/catalog/p...   \n",
       "2    https://cdn.midasfurniture.com/media/catalog/p...   \n",
       "3    https://cdn.midasfurniture.com/media/catalog/p...   \n",
       "4    https://cdn.midasfurniture.com/media/catalog/p...   \n",
       "..                                                 ...   \n",
       "212  https://cdn.midasfurniture.com/media/catalog/p...   \n",
       "213  https://cdn.midasfurniture.com/media/catalog/p...   \n",
       "214  https://cdn.midasfurniture.com/media/catalog/p...   \n",
       "215  https://cdn.midasfurniture.com/media/catalog/p...   \n",
       "216  https://cdn.midasfurniture.com/media/catalog/p...   \n",
       "\n",
       "                                               Images4  \\\n",
       "0    https://cdn.midasfurniture.com/media/catalog/p...   \n",
       "1                                                        \n",
       "2    https://cdn.midasfurniture.com/media/catalog/p...   \n",
       "3                                                        \n",
       "4    https://cdn.midasfurniture.com/media/catalog/p...   \n",
       "..                                                 ...   \n",
       "212  https://cdn.midasfurniture.com/media/catalog/p...   \n",
       "213  https://cdn.midasfurniture.com/media/catalog/p...   \n",
       "214  https://cdn.midasfurniture.com/media/catalog/p...   \n",
       "215  https://cdn.midasfurniture.com/media/catalog/p...   \n",
       "216  https://cdn.midasfurniture.com/media/catalog/p...   \n",
       "\n",
       "                                              Link url  Category1 Category2  \n",
       "0    https://midasfurniture.com/ksa_ar/niko-table-l...  إكسسوارات   الإضاءة  \n",
       "1    https://midasfurniture.com/ksa_ar/navee-table-...  إكسسوارات   الإضاءة  \n",
       "2      https://midasfurniture.com/ksa_ar/tonsberg.html  إكسسوارات   الإضاءة  \n",
       "3    https://midasfurniture.com/ksa_ar/zera-table-l...  إكسسوارات   الإضاءة  \n",
       "4    https://midasfurniture.com/ksa_ar/wilona-table...  إكسسوارات   الإضاءة  \n",
       "..                                                 ...        ...       ...  \n",
       "212  https://midasfurniture.com/ksa_ar/catalog/prod...  إكسسوارات   الإضاءة  \n",
       "213  https://midasfurniture.com/ksa_ar/laire-table-...  إكسسوارات   الإضاءة  \n",
       "214  https://midasfurniture.com/ksa_ar/catalog/prod...  إكسسوارات   الإضاءة  \n",
       "215  https://midasfurniture.com/ksa_ar/catalog/prod...  إكسسوارات   الإضاءة  \n",
       "216  https://midasfurniture.com/ksa_ar/catalog/prod...  إكسسوارات   الإضاءة  \n",
       "\n",
       "[217 rows x 17 columns]"
      ]
     },
     "execution_count": 97,
     "metadata": {},
     "output_type": "execute_result"
    }
   ],
   "source": [
    "df\n"
   ]
  },
  {
   "cell_type": "code",
   "execution_count": 102,
   "metadata": {},
   "outputs": [],
   "source": [
    "df.to_excel( 'resultMidasLight1.xlsx', index = True)"
   ]
  },
  {
   "cell_type": "code",
   "execution_count": null,
   "metadata": {},
   "outputs": [],
   "source": []
  },
  {
   "cell_type": "code",
   "execution_count": null,
   "metadata": {},
   "outputs": [],
   "source": []
  },
  {
   "cell_type": "code",
   "execution_count": null,
   "metadata": {},
   "outputs": [],
   "source": []
  },
  {
   "cell_type": "code",
   "execution_count": null,
   "metadata": {},
   "outputs": [],
   "source": []
  },
  {
   "cell_type": "code",
   "execution_count": null,
   "metadata": {},
   "outputs": [],
   "source": []
  },
  {
   "cell_type": "code",
   "execution_count": null,
   "metadata": {},
   "outputs": [],
   "source": []
  },
  {
   "cell_type": "code",
   "execution_count": null,
   "metadata": {},
   "outputs": [],
   "source": []
  },
  {
   "cell_type": "code",
   "execution_count": null,
   "metadata": {},
   "outputs": [],
   "source": []
  },
  {
   "cell_type": "code",
   "execution_count": null,
   "metadata": {},
   "outputs": [],
   "source": []
  },
  {
   "cell_type": "code",
   "execution_count": null,
   "metadata": {},
   "outputs": [],
   "source": []
  },
  {
   "cell_type": "code",
   "execution_count": null,
   "metadata": {},
   "outputs": [],
   "source": []
  },
  {
   "cell_type": "code",
   "execution_count": null,
   "metadata": {},
   "outputs": [],
   "source": []
  },
  {
   "cell_type": "code",
   "execution_count": null,
   "metadata": {},
   "outputs": [],
   "source": []
  },
  {
   "cell_type": "code",
   "execution_count": null,
   "metadata": {},
   "outputs": [],
   "source": []
  },
  {
   "cell_type": "code",
   "execution_count": null,
   "metadata": {},
   "outputs": [],
   "source": []
  },
  {
   "cell_type": "code",
   "execution_count": null,
   "metadata": {},
   "outputs": [],
   "source": []
  },
  {
   "cell_type": "code",
   "execution_count": null,
   "metadata": {},
   "outputs": [],
   "source": []
  },
  {
   "cell_type": "code",
   "execution_count": null,
   "metadata": {},
   "outputs": [],
   "source": []
  },
  {
   "cell_type": "code",
   "execution_count": null,
   "metadata": {},
   "outputs": [],
   "source": []
  },
  {
   "cell_type": "code",
   "execution_count": null,
   "metadata": {},
   "outputs": [],
   "source": []
  },
  {
   "cell_type": "code",
   "execution_count": null,
   "metadata": {},
   "outputs": [],
   "source": []
  },
  {
   "cell_type": "code",
   "execution_count": null,
   "metadata": {},
   "outputs": [],
   "source": []
  },
  {
   "cell_type": "code",
   "execution_count": null,
   "metadata": {},
   "outputs": [],
   "source": []
  },
  {
   "cell_type": "code",
   "execution_count": null,
   "metadata": {},
   "outputs": [],
   "source": []
  },
  {
   "cell_type": "code",
   "execution_count": null,
   "metadata": {},
   "outputs": [],
   "source": []
  },
  {
   "cell_type": "code",
   "execution_count": 66,
   "metadata": {},
   "outputs": [],
   "source": [
    "combination = driver.find_element_by_class_name('std').text\n",
    "    \n",
    "combination_product_size_list = combination.split('\\n')\n",
    "combination_product_size_list1 = driver.find_element_by_class_name('std').text.split('\\n\\n')"
   ]
  },
  {
   "cell_type": "code",
   "execution_count": 74,
   "metadata": {},
   "outputs": [
    {
     "data": {
      "text/plain": [
       "['Combination :\\n♦ مصباح طاولة عدد 1 قطعة',\n",
       " 'Product Size :\\n♦ مصباح طاولة: عرض 35 * عمق 35 * ارتفاع 63 سم']"
      ]
     },
     "execution_count": 74,
     "metadata": {},
     "output_type": "execute_result"
    }
   ],
   "source": [
    "combination_product_size_list1"
   ]
  },
  {
   "cell_type": "code",
   "execution_count": null,
   "metadata": {},
   "outputs": [],
   "source": []
  },
  {
   "cell_type": "code",
   "execution_count": 72,
   "metadata": {},
   "outputs": [
    {
     "name": "stdout",
     "output_type": "stream",
     "text": [
      " عرض 35 * عمق 35 * ارتفاع 63 سم\n"
     ]
    }
   ],
   "source": [
    "size = return_details('حجم المنتج', combination_product_size_list1).replace(\"\\n\", \" \").replace('♦', '').replace(':', '').replace('مصباح طاولة', '').replace('مصباح أرضي', '').replace('مصباح أرضي:', '').replace('ثريا سقف', '')\n",
    "if size == '':\n",
    "    for size_find in combination_product_size_list1:\n",
    "        if size_find.find('Product Size') == 0:\n",
    "            size = size_find.replace('Product Size', '').replace(':', '').replace('\\n', ''). replace('♦', '').replace('  ', '')\n",
    "if size.find('Table Lamp') == 0:\n",
    "    size = size.replace('Table Lamp', '')\n",
    "if size.find('مصباح طاولة') == 0:\n",
    "    size = size.replace('مصباح طاولة', '')\n",
    "if size.find('مصباح أرضي') == 0:\n",
    "    size = size.replace('مصباح أرضي', '')\n",
    "if size.find('مصباح سقف') == 0:\n",
    "    size = size.replace('مصباح سقف', '')\n",
    "if size.find('مصباح حائط') == 0:\n",
    "    size = size.replace('مصباح حائط', '')\n",
    "if size.find('/معلقة/ ثريا ') == 0:\n",
    "    size = size.replace('/معلقة/ ثريا', '')\n",
    "print(size)"
   ]
  },
  {
   "cell_type": "code",
   "execution_count": null,
   "metadata": {},
   "outputs": [],
   "source": []
  },
  {
   "cell_type": "code",
   "execution_count": null,
   "metadata": {},
   "outputs": [],
   "source": []
  },
  {
   "cell_type": "code",
   "execution_count": 82,
   "metadata": {},
   "outputs": [
    {
     "name": "stdout",
     "output_type": "stream",
     "text": [
      "1\n",
      "style1 \n",
      "2\n",
      "3\n",
      "3\n",
      "Style: \n"
     ]
    }
   ],
   "source": [
    "style = return_details('النوع :', combination_product_size_list1).replace(\"\\n\", \" \").replace('♦', '')\n",
    "\n",
    "if style == '':\n",
    "    try:\n",
    "\n",
    "        \n",
    "        for styl in combination_product_size_list1:\n",
    "            print('3')\n",
    "            \n",
    "            if styl.find('Concept') == 0:\n",
    "                style = styl.replace('Concept :\\n♦', '').replace(':', '').replace('\\n', '')\n",
    "                \n",
    "\n",
    "    except:\n",
    "        style = ''\n",
    "if style.find('نوع المنتج') == 0:\n",
    "    style = style.replace('نوع المنتج', '').replace(':', '')\n",
    "print('Style:', style)"
   ]
  },
  {
   "cell_type": "code",
   "execution_count": null,
   "metadata": {},
   "outputs": [],
   "source": []
  },
  {
   "cell_type": "code",
   "execution_count": null,
   "metadata": {},
   "outputs": [],
   "source": []
  },
  {
   "cell_type": "code",
   "execution_count": null,
   "metadata": {},
   "outputs": [],
   "source": []
  },
  {
   "cell_type": "code",
   "execution_count": null,
   "metadata": {},
   "outputs": [],
   "source": []
  },
  {
   "cell_type": "code",
   "execution_count": null,
   "metadata": {},
   "outputs": [],
   "source": []
  },
  {
   "cell_type": "code",
   "execution_count": null,
   "metadata": {},
   "outputs": [],
   "source": []
  },
  {
   "cell_type": "code",
   "execution_count": null,
   "metadata": {},
   "outputs": [],
   "source": []
  },
  {
   "cell_type": "code",
   "execution_count": null,
   "metadata": {},
   "outputs": [],
   "source": []
  },
  {
   "cell_type": "code",
   "execution_count": null,
   "metadata": {},
   "outputs": [],
   "source": []
  },
  {
   "cell_type": "code",
   "execution_count": null,
   "metadata": {},
   "outputs": [],
   "source": []
  },
  {
   "cell_type": "code",
   "execution_count": null,
   "metadata": {},
   "outputs": [],
   "source": []
  },
  {
   "cell_type": "code",
   "execution_count": null,
   "metadata": {},
   "outputs": [],
   "source": []
  },
  {
   "cell_type": "code",
   "execution_count": null,
   "metadata": {},
   "outputs": [],
   "source": []
  },
  {
   "cell_type": "code",
   "execution_count": null,
   "metadata": {},
   "outputs": [],
   "source": []
  },
  {
   "cell_type": "code",
   "execution_count": null,
   "metadata": {},
   "outputs": [],
   "source": []
  },
  {
   "cell_type": "code",
   "execution_count": 64,
   "metadata": {},
   "outputs": [
    {
     "name": "stdout",
     "output_type": "stream",
     "text": [
      "Mater \n"
     ]
    }
   ],
   "source": [
    "mater = return_details('مواد التصنيع', combination_product_size_list1).replace(\"\\n\", \" \").replace(':', '').replace('♦', '')\n",
    "if mater == '':\n",
    "    for  matter in combination_product_size_list1:\n",
    "        if matter.find('Materials') == 0:\n",
    "\n",
    "            mater = matter.replace('Materials', '').replace(':', '').replace('♦', '')\n",
    "\n",
    "\n",
    "print('Mater', mater)"
   ]
  },
  {
   "cell_type": "code",
   "execution_count": null,
   "metadata": {},
   "outputs": [],
   "source": []
  },
  {
   "cell_type": "code",
   "execution_count": null,
   "metadata": {},
   "outputs": [],
   "source": []
  },
  {
   "cell_type": "code",
   "execution_count": null,
   "metadata": {},
   "outputs": [],
   "source": []
  },
  {
   "cell_type": "code",
   "execution_count": null,
   "metadata": {},
   "outputs": [],
   "source": []
  },
  {
   "cell_type": "code",
   "execution_count": null,
   "metadata": {},
   "outputs": [],
   "source": []
  },
  {
   "cell_type": "code",
   "execution_count": null,
   "metadata": {},
   "outputs": [],
   "source": []
  },
  {
   "cell_type": "code",
   "execution_count": null,
   "metadata": {},
   "outputs": [],
   "source": []
  },
  {
   "cell_type": "code",
   "execution_count": null,
   "metadata": {},
   "outputs": [],
   "source": []
  },
  {
   "cell_type": "code",
   "execution_count": null,
   "metadata": {},
   "outputs": [],
   "source": []
  },
  {
   "cell_type": "code",
   "execution_count": 44,
   "metadata": {},
   "outputs": [
    {
     "data": {
      "text/plain": [
       "['الصفحة', 'الرئيسية', 'MARISKA', 'TABLE', 'LAMP']"
      ]
     },
     "execution_count": 44,
     "metadata": {},
     "output_type": "execute_result"
    }
   ],
   "source": [
    "category"
   ]
  },
  {
   "cell_type": "code",
   "execution_count": null,
   "metadata": {},
   "outputs": [],
   "source": []
  },
  {
   "cell_type": "code",
   "execution_count": null,
   "metadata": {},
   "outputs": [],
   "source": []
  },
  {
   "cell_type": "code",
   "execution_count": null,
   "metadata": {},
   "outputs": [],
   "source": []
  },
  {
   "cell_type": "code",
   "execution_count": 40,
   "metadata": {},
   "outputs": [
    {
     "name": "stdout",
     "output_type": "stream",
     "text": [
      "إكسسوارات الإضاءة\n"
     ]
    }
   ],
   "source": [
    "category_1 = category[1]\n",
    "category_2 = category[2]\n",
    "print(category_1, category_2)"
   ]
  },
  {
   "cell_type": "code",
   "execution_count": null,
   "metadata": {},
   "outputs": [],
   "source": []
  },
  {
   "cell_type": "code",
   "execution_count": null,
   "metadata": {},
   "outputs": [],
   "source": []
  },
  {
   "cell_type": "code",
   "execution_count": null,
   "metadata": {},
   "outputs": [],
   "source": []
  },
  {
   "cell_type": "code",
   "execution_count": null,
   "metadata": {},
   "outputs": [],
   "source": []
  },
  {
   "cell_type": "code",
   "execution_count": null,
   "metadata": {},
   "outputs": [],
   "source": []
  },
  {
   "cell_type": "code",
   "execution_count": 30,
   "metadata": {},
   "outputs": [
    {
     "data": {
      "text/plain": [
       "['الوصف : مصباح طاولة',\n",
       " 'تفاصيل المنتج :\\n♦ مصباح طاولة 1 قطعة',\n",
       " 'حجم المنتج :\\n♦ مصباح طاولة * عرض 40 * عمق 40 * ارتفاع 67 سم',\n",
       " 'اللون :\\n♦ ذهبى، أبيض',\n",
       " 'النوع :\\n♦ معاصر']"
      ]
     },
     "execution_count": 30,
     "metadata": {},
     "output_type": "execute_result"
    }
   ],
   "source": [
    "combination_product_size_list1"
   ]
  },
  {
   "cell_type": "code",
   "execution_count": 34,
   "metadata": {},
   "outputs": [
    {
     "name": "stdout",
     "output_type": "stream",
     "text": [
      "Detail:     مصباح طاولة 1 قطعة\n"
     ]
    }
   ],
   "source": [
    "detail = return_details('تفاصيل المنتج', combination_product_size_list1).replace(\"\\n\", \" \").replace(':', '').replace('♦', '')\n",
    "if detail == '':\n",
    "    for dt in combination_product_size_list1:\n",
    "\n",
    "\n",
    "        if dt.find('Combination') == 0:\n",
    "            print('coucou')\n",
    "            detail = dt.replace('♦ ', '').replace('Combination', '').replace(':', '').replace('\\n', '')\n",
    "print('Detail: ',detail) "
   ]
  },
  {
   "cell_type": "code",
   "execution_count": null,
   "metadata": {},
   "outputs": [],
   "source": []
  },
  {
   "cell_type": "code",
   "execution_count": null,
   "metadata": {},
   "outputs": [],
   "source": []
  },
  {
   "cell_type": "code",
   "execution_count": null,
   "metadata": {},
   "outputs": [],
   "source": []
  },
  {
   "cell_type": "code",
   "execution_count": null,
   "metadata": {},
   "outputs": [],
   "source": []
  },
  {
   "cell_type": "code",
   "execution_count": null,
   "metadata": {},
   "outputs": [],
   "source": []
  },
  {
   "cell_type": "code",
   "execution_count": 25,
   "metadata": {},
   "outputs": [
    {
     "name": "stdout",
     "output_type": "stream",
     "text": [
      "Size Table Lamp * W34 * D34 * H80 CM\n"
     ]
    }
   ],
   "source": [
    "\n",
    "size = return_details('حجم المنتج', combination_product_size_list1).replace(\"\\n\", \" \").replace('♦', '').replace(':', '').replace('مصباح طاولة', '').replace('مصباح أرضي', '').replace('مصباح أرضي:', '').replace('ثريا سقف', '')\n",
    "if size == '':\n",
    "    for size_find in combination_product_size_list1:\n",
    "        if size_find.find('Product Size') == 0:\n",
    "            size = size_find.replace('Product Size', '').replace(':', '').replace('\\n', ''). replace('♦', '').replace('  ', '')\n",
    "\n",
    "print('Size',size)"
   ]
  },
  {
   "cell_type": "code",
   "execution_count": null,
   "metadata": {},
   "outputs": [],
   "source": []
  },
  {
   "cell_type": "code",
   "execution_count": null,
   "metadata": {},
   "outputs": [],
   "source": []
  },
  {
   "cell_type": "code",
   "execution_count": null,
   "metadata": {},
   "outputs": [],
   "source": []
  },
  {
   "cell_type": "code",
   "execution_count": null,
   "metadata": {},
   "outputs": [],
   "source": []
  },
  {
   "cell_type": "code",
   "execution_count": null,
   "metadata": {},
   "outputs": [],
   "source": []
  },
  {
   "cell_type": "code",
   "execution_count": 18,
   "metadata": {},
   "outputs": [
    {
     "name": "stdout",
     "output_type": "stream",
     "text": [
      "coucou\n",
      " Table Lamp 1 PCS\n"
     ]
    }
   ],
   "source": [
    "detail = return_details('الوصف', combination_product_size_list1).replace(\"\\n\", \" \").replace('♦', '')\n",
    "if detail == '':\n",
    "    for dt in combination_product_size_list1:\n",
    "        \n",
    "        \n",
    "        if dt.find('Combination') == 0:\n",
    "            print('coucou')\n",
    "            detail = dt.replace('♦ ', '').replace('Combination', '').replace(':', '').replace('\\n', '')\n",
    "print(detail)  "
   ]
  },
  {
   "cell_type": "code",
   "execution_count": null,
   "metadata": {},
   "outputs": [],
   "source": []
  },
  {
   "cell_type": "code",
   "execution_count": null,
   "metadata": {},
   "outputs": [],
   "source": []
  },
  {
   "cell_type": "code",
   "execution_count": null,
   "metadata": {},
   "outputs": [],
   "source": []
  },
  {
   "cell_type": "code",
   "execution_count": null,
   "metadata": {},
   "outputs": [],
   "source": []
  },
  {
   "cell_type": "code",
   "execution_count": null,
   "metadata": {},
   "outputs": [],
   "source": []
  },
  {
   "cell_type": "code",
   "execution_count": null,
   "metadata": {},
   "outputs": [],
   "source": []
  },
  {
   "cell_type": "code",
   "execution_count": null,
   "metadata": {},
   "outputs": [],
   "source": []
  },
  {
   "cell_type": "code",
   "execution_count": null,
   "metadata": {},
   "outputs": [],
   "source": []
  },
  {
   "cell_type": "code",
   "execution_count": null,
   "metadata": {},
   "outputs": [],
   "source": []
  },
  {
   "cell_type": "code",
   "execution_count": null,
   "metadata": {},
   "outputs": [],
   "source": []
  },
  {
   "cell_type": "code",
   "execution_count": null,
   "metadata": {},
   "outputs": [],
   "source": []
  },
  {
   "cell_type": "code",
   "execution_count": null,
   "metadata": {},
   "outputs": [],
   "source": []
  },
  {
   "cell_type": "code",
   "execution_count": null,
   "metadata": {},
   "outputs": [],
   "source": []
  },
  {
   "cell_type": "code",
   "execution_count": null,
   "metadata": {},
   "outputs": [],
   "source": []
  },
  {
   "cell_type": "code",
   "execution_count": null,
   "metadata": {},
   "outputs": [],
   "source": []
  },
  {
   "cell_type": "code",
   "execution_count": null,
   "metadata": {},
   "outputs": [],
   "source": []
  },
  {
   "cell_type": "code",
   "execution_count": null,
   "metadata": {},
   "outputs": [],
   "source": []
  },
  {
   "cell_type": "code",
   "execution_count": null,
   "metadata": {},
   "outputs": [],
   "source": []
  },
  {
   "cell_type": "code",
   "execution_count": null,
   "metadata": {},
   "outputs": [],
   "source": []
  },
  {
   "cell_type": "code",
   "execution_count": 424,
   "metadata": {},
   "outputs": [
    {
     "name": "stdout",
     "output_type": "stream",
     "text": [
      "TTTT \n",
      "couccou\n",
      "Mater  \n",
      " Metal\n"
     ]
    }
   ],
   "source": [
    "mater = return_details('مواد التصنيع', combination_product_size_list1).replace(\"\\n\", \" \").replace(':', '').replace('♦', '')\n",
    "print('TTTT', mater)\n",
    "if mater == '':\n",
    "    try:\n",
    "        for  matter in combination_product_size_list1:\n",
    "            if matter.find('Materials') == 0:\n",
    "                print('couccou')\n",
    "                mater = matter.replace('Materials', '').replace(':', '').replace('♦', '')\n",
    "                \n",
    "\n",
    "    except:\n",
    "        mater = ''\n",
    "print('Mater', mater)\n",
    "# DETAIL  ********************"
   ]
  },
  {
   "cell_type": "code",
   "execution_count": null,
   "metadata": {},
   "outputs": [],
   "source": []
  },
  {
   "cell_type": "code",
   "execution_count": null,
   "metadata": {},
   "outputs": [],
   "source": []
  },
  {
   "cell_type": "code",
   "execution_count": null,
   "metadata": {},
   "outputs": [],
   "source": []
  },
  {
   "cell_type": "code",
   "execution_count": null,
   "metadata": {},
   "outputs": [],
   "source": []
  },
  {
   "cell_type": "code",
   "execution_count": null,
   "metadata": {},
   "outputs": [],
   "source": []
  },
  {
   "cell_type": "code",
   "execution_count": null,
   "metadata": {},
   "outputs": [],
   "source": []
  },
  {
   "cell_type": "code",
   "execution_count": null,
   "metadata": {},
   "outputs": [],
   "source": []
  },
  {
   "cell_type": "code",
   "execution_count": null,
   "metadata": {},
   "outputs": [],
   "source": []
  },
  {
   "cell_type": "code",
   "execution_count": null,
   "metadata": {},
   "outputs": [],
   "source": []
  },
  {
   "cell_type": "code",
   "execution_count": null,
   "metadata": {},
   "outputs": [],
   "source": []
  },
  {
   "cell_type": "code",
   "execution_count": null,
   "metadata": {},
   "outputs": [],
   "source": []
  },
  {
   "cell_type": "code",
   "execution_count": null,
   "metadata": {},
   "outputs": [],
   "source": []
  },
  {
   "cell_type": "code",
   "execution_count": null,
   "metadata": {},
   "outputs": [],
   "source": []
  },
  {
   "cell_type": "code",
   "execution_count": null,
   "metadata": {},
   "outputs": [],
   "source": []
  },
  {
   "cell_type": "code",
   "execution_count": null,
   "metadata": {},
   "outputs": [],
   "source": []
  },
  {
   "cell_type": "code",
   "execution_count": 389,
   "metadata": {},
   "outputs": [
    {
     "data": {
      "text/plain": [
       "['Overview : StyleCraft Jane Seymour Westlake Table Lamp with round self fabric trimmed and round base',\n",
       " 'Combination :\\n♦ Table Lamp 1 PCS',\n",
       " 'Product Size :\\n♦ Table Lamp * W38 * D43 * H78 CM',\n",
       " 'Materials :\\n♦ Metal',\n",
       " 'Concept :\\n♦ Contemporary',\n",
       " 'Color :\\n♦ Cream',\n",
       " ' ']"
      ]
     },
     "execution_count": 389,
     "metadata": {},
     "output_type": "execute_result"
    }
   ],
   "source": [
    "combination_product_size_list1"
   ]
  },
  {
   "cell_type": "code",
   "execution_count": null,
   "metadata": {},
   "outputs": [],
   "source": []
  },
  {
   "cell_type": "code",
   "execution_count": null,
   "metadata": {},
   "outputs": [],
   "source": []
  },
  {
   "cell_type": "code",
   "execution_count": null,
   "metadata": {},
   "outputs": [],
   "source": []
  },
  {
   "cell_type": "code",
   "execution_count": null,
   "metadata": {},
   "outputs": [],
   "source": []
  },
  {
   "cell_type": "code",
   "execution_count": null,
   "metadata": {},
   "outputs": [],
   "source": []
  },
  {
   "cell_type": "code",
   "execution_count": null,
   "metadata": {},
   "outputs": [],
   "source": []
  },
  {
   "cell_type": "code",
   "execution_count": 375,
   "metadata": {},
   "outputs": [
    {
     "data": {
      "text/plain": [
       "'Metal'"
      ]
     },
     "execution_count": 375,
     "metadata": {},
     "output_type": "execute_result"
    }
   ],
   "source": [
    "size = combination_product_size_list1[3].replace('Materials :\\n♦ ', '')\n",
    "size"
   ]
  },
  {
   "cell_type": "code",
   "execution_count": null,
   "metadata": {},
   "outputs": [],
   "source": []
  },
  {
   "cell_type": "code",
   "execution_count": null,
   "metadata": {},
   "outputs": [],
   "source": []
  },
  {
   "cell_type": "code",
   "execution_count": null,
   "metadata": {},
   "outputs": [],
   "source": [
    "s"
   ]
  },
  {
   "cell_type": "code",
   "execution_count": null,
   "metadata": {},
   "outputs": [],
   "source": []
  },
  {
   "cell_type": "code",
   "execution_count": null,
   "metadata": {},
   "outputs": [],
   "source": []
  },
  {
   "cell_type": "code",
   "execution_count": null,
   "metadata": {},
   "outputs": [],
   "source": []
  },
  {
   "cell_type": "code",
   "execution_count": null,
   "metadata": {},
   "outputs": [],
   "source": []
  },
  {
   "cell_type": "code",
   "execution_count": 368,
   "metadata": {},
   "outputs": [
    {
     "data": {
      "text/plain": [
       "'* W38 * D49 * H101 CM'"
      ]
     },
     "execution_count": 368,
     "metadata": {},
     "output_type": "execute_result"
    }
   ],
   "source": [
    "size"
   ]
  },
  {
   "cell_type": "code",
   "execution_count": null,
   "metadata": {},
   "outputs": [],
   "source": []
  },
  {
   "cell_type": "code",
   "execution_count": null,
   "metadata": {},
   "outputs": [],
   "source": []
  },
  {
   "cell_type": "code",
   "execution_count": null,
   "metadata": {},
   "outputs": [],
   "source": []
  },
  {
   "cell_type": "code",
   "execution_count": 327,
   "metadata": {},
   "outputs": [
    {
     "data": {
      "text/plain": [
       "'Gold'"
      ]
     },
     "execution_count": 327,
     "metadata": {},
     "output_type": "execute_result"
    }
   ],
   "source": [
    "mater"
   ]
  },
  {
   "cell_type": "code",
   "execution_count": null,
   "metadata": {},
   "outputs": [],
   "source": []
  },
  {
   "cell_type": "code",
   "execution_count": null,
   "metadata": {},
   "outputs": [],
   "source": []
  },
  {
   "cell_type": "code",
   "execution_count": null,
   "metadata": {},
   "outputs": [],
   "source": []
  },
  {
   "cell_type": "code",
   "execution_count": 317,
   "metadata": {},
   "outputs": [
    {
     "data": {
      "text/plain": [
       "' Contemporary'"
      ]
     },
     "execution_count": 317,
     "metadata": {},
     "output_type": "execute_result"
    }
   ],
   "source": [
    "size"
   ]
  },
  {
   "cell_type": "code",
   "execution_count": null,
   "metadata": {},
   "outputs": [],
   "source": []
  },
  {
   "cell_type": "code",
   "execution_count": null,
   "metadata": {},
   "outputs": [],
   "source": []
  },
  {
   "cell_type": "code",
   "execution_count": 301,
   "metadata": {},
   "outputs": [
    {
     "data": {
      "text/plain": [
       "'Description  Table Lamp'"
      ]
     },
     "execution_count": 301,
     "metadata": {},
     "output_type": "execute_result"
    }
   ],
   "source": [
    "detail\n"
   ]
  },
  {
   "cell_type": "code",
   "execution_count": null,
   "metadata": {},
   "outputs": [],
   "source": []
  },
  {
   "cell_type": "code",
   "execution_count": null,
   "metadata": {},
   "outputs": [],
   "source": []
  },
  {
   "cell_type": "code",
   "execution_count": 288,
   "metadata": {},
   "outputs": [],
   "source": [
    "detail = driver.find_elements_by_class_name('std')[0].text.split('\\n')"
   ]
  },
  {
   "cell_type": "code",
   "execution_count": 294,
   "metadata": {},
   "outputs": [
    {
     "data": {
      "text/plain": [
       "'تفاصيل المنتج '"
      ]
     },
     "execution_count": 294,
     "metadata": {},
     "output_type": "execute_result"
    }
   ],
   "source": [
    "detail[2].replace('♦', '').replace(':', '')"
   ]
  },
  {
   "cell_type": "code",
   "execution_count": null,
   "metadata": {},
   "outputs": [],
   "source": []
  },
  {
   "cell_type": "code",
   "execution_count": 293,
   "metadata": {},
   "outputs": [
    {
     "data": {
      "text/plain": [
       "'تفاصيل المنتج  مصباح سقف 1 قطعة'"
      ]
     },
     "execution_count": 293,
     "metadata": {},
     "output_type": "execute_result"
    }
   ],
   "source": [
    "combination_product_size_list1[1].replace('Combination', '').replace(':', '').replace('♦', '').replace('\\n', '')"
   ]
  },
  {
   "cell_type": "code",
   "execution_count": null,
   "metadata": {},
   "outputs": [],
   "source": []
  },
  {
   "cell_type": "code",
   "execution_count": null,
   "metadata": {},
   "outputs": [],
   "source": []
  },
  {
   "cell_type": "code",
   "execution_count": null,
   "metadata": {},
   "outputs": [],
   "source": []
  },
  {
   "cell_type": "code",
   "execution_count": null,
   "metadata": {},
   "outputs": [],
   "source": []
  },
  {
   "cell_type": "code",
   "execution_count": 289,
   "metadata": {},
   "outputs": [
    {
     "data": {
      "text/plain": [
       "['وصف المنتج : مصباح سقف',\n",
       " '',\n",
       " 'تفاصيل المنتج :',\n",
       " '♦ مصباح سقف 1 قطعة',\n",
       " '',\n",
       " 'حجم المنتج :',\n",
       " '♦ مصباح سقف * عرض 96 * عمق * ارتفاع 70 سم',\n",
       " '',\n",
       " 'مواد التصنيع :',\n",
       " '♦ معدن / زجاج',\n",
       " '',\n",
       " 'اللون :',\n",
       " '♦ ذهبى, أبيض',\n",
       " '',\n",
       " 'النوع :',\n",
       " '♦ معاصر']"
      ]
     },
     "execution_count": 289,
     "metadata": {},
     "output_type": "execute_result"
    }
   ],
   "source": [
    "detail"
   ]
  },
  {
   "cell_type": "code",
   "execution_count": null,
   "metadata": {},
   "outputs": [],
   "source": []
  },
  {
   "cell_type": "code",
   "execution_count": null,
   "metadata": {},
   "outputs": [],
   "source": []
  },
  {
   "cell_type": "code",
   "execution_count": null,
   "metadata": {},
   "outputs": [],
   "source": []
  },
  {
   "cell_type": "code",
   "execution_count": null,
   "metadata": {},
   "outputs": [],
   "source": []
  },
  {
   "cell_type": "code",
   "execution_count": null,
   "metadata": {},
   "outputs": [],
   "source": []
  },
  {
   "cell_type": "code",
   "execution_count": null,
   "metadata": {},
   "outputs": [],
   "source": []
  },
  {
   "cell_type": "code",
   "execution_count": 246,
   "metadata": {},
   "outputs": [],
   "source": [
    "price = driver.find_elements_by_class_name('price')[0].get_attribute('innerHTML').replace('SAR', '').replace('\\n', '').replace(' ', '')"
   ]
  },
  {
   "cell_type": "code",
   "execution_count": 276,
   "metadata": {},
   "outputs": [
    {
     "name": "stdout",
     "output_type": "stream",
     "text": [
      "['Overview : The gracefully curved StyleCraft Jane Table Lamp features a filigree design in Bellevue silver finish and clear acrylic base. A flared white fabric hardback shade and filigree finial add the finishing touches to this table lamp.', 'Combination :\\n♦ Table Lamp 1 PCS', 'Product Size :\\n♦ Table Lamp * W38 * D49 * H101 CM', 'Concept :\\n♦ Contemporary', 'Color :\\n♦ Cream', ' ']\n"
     ]
    }
   ],
   "source": [
    "combination_product_size_list1 = driver.find_element_by_class_name('std').text.split('\\n\\n')\n",
    "print(combination)"
   ]
  },
  {
   "cell_type": "code",
   "execution_count": null,
   "metadata": {},
   "outputs": [],
   "source": []
  },
  {
   "cell_type": "code",
   "execution_count": 274,
   "metadata": {},
   "outputs": [
    {
     "name": "stdout",
     "output_type": "stream",
     "text": [
      " \n",
      " Table Lamp 1 PCS\n"
     ]
    }
   ],
   "source": [
    "detail = combination[1].replace('Combination', '').replace(':', '').replace('♦', '')\n",
    "print(detail)"
   ]
  },
  {
   "cell_type": "code",
   "execution_count": 281,
   "metadata": {},
   "outputs": [
    {
     "data": {
      "text/plain": [
       "'  Table Lamp 1 PCS'"
      ]
     },
     "execution_count": 281,
     "metadata": {},
     "output_type": "execute_result"
    }
   ],
   "source": [
    "combination_product_size_list1[1].replace('Combination', '').replace(':', '').replace('♦', '').replace('\\n', '')"
   ]
  },
  {
   "cell_type": "code",
   "execution_count": null,
   "metadata": {},
   "outputs": [],
   "source": []
  },
  {
   "cell_type": "code",
   "execution_count": null,
   "metadata": {},
   "outputs": [],
   "source": []
  },
  {
   "cell_type": "code",
   "execution_count": null,
   "metadata": {},
   "outputs": [],
   "source": []
  },
  {
   "cell_type": "code",
   "execution_count": null,
   "metadata": {},
   "outputs": [],
   "source": []
  },
  {
   "cell_type": "code",
   "execution_count": null,
   "metadata": {},
   "outputs": [],
   "source": []
  },
  {
   "cell_type": "code",
   "execution_count": null,
   "metadata": {},
   "outputs": [],
   "source": []
  },
  {
   "cell_type": "code",
   "execution_count": null,
   "metadata": {},
   "outputs": [],
   "source": []
  },
  {
   "cell_type": "code",
   "execution_count": null,
   "metadata": {},
   "outputs": [],
   "source": []
  },
  {
   "cell_type": "code",
   "execution_count": null,
   "metadata": {},
   "outputs": [],
   "source": []
  },
  {
   "cell_type": "code",
   "execution_count": null,
   "metadata": {},
   "outputs": [],
   "source": []
  },
  {
   "cell_type": "code",
   "execution_count": 270,
   "metadata": {},
   "outputs": [
    {
     "name": "stdout",
     "output_type": "stream",
     "text": [
      "['Overview : The gracefully curved StyleCraft Jane Table Lamp features a filigree design in Bellevue silver finish and clear acrylic base. A flared white fabric hardback shade and filigree finial add the finishing touches to this table lamp.', '', 'Combination :', '♦ Table Lamp 1 PCS', '', 'Product Size :', '♦ Table Lamp * W38 * D49 * H101 CM', '', 'Concept :', '♦ Contemporary', '', 'Color :', '♦ Cream', '', ' ']\n"
     ]
    }
   ],
   "source": [
    "size = driver.find_element_by_class_name('std').text.split('\\n')\n",
    "print(size)"
   ]
  },
  {
   "cell_type": "code",
   "execution_count": null,
   "metadata": {},
   "outputs": [],
   "source": []
  },
  {
   "cell_type": "code",
   "execution_count": null,
   "metadata": {},
   "outputs": [],
   "source": [
    "s"
   ]
  },
  {
   "cell_type": "code",
   "execution_count": null,
   "metadata": {},
   "outputs": [],
   "source": []
  },
  {
   "cell_type": "code",
   "execution_count": null,
   "metadata": {},
   "outputs": [],
   "source": []
  },
  {
   "cell_type": "code",
   "execution_count": null,
   "metadata": {},
   "outputs": [],
   "source": []
  },
  {
   "cell_type": "code",
   "execution_count": 266,
   "metadata": {},
   "outputs": [],
   "source": [
    "size = size[6].replace('♦', '').replace('Table Lamp', '')\n"
   ]
  },
  {
   "cell_type": "code",
   "execution_count": null,
   "metadata": {},
   "outputs": [],
   "source": []
  },
  {
   "cell_type": "code",
   "execution_count": null,
   "metadata": {},
   "outputs": [],
   "source": []
  },
  {
   "cell_type": "code",
   "execution_count": null,
   "metadata": {},
   "outputs": [],
   "source": []
  },
  {
   "cell_type": "code",
   "execution_count": null,
   "metadata": {},
   "outputs": [],
   "source": []
  },
  {
   "cell_type": "code",
   "execution_count": 263,
   "metadata": {},
   "outputs": [
    {
     "data": {
      "text/plain": [
       "'  * W38 * D43 * H78 CM'"
      ]
     },
     "execution_count": 263,
     "metadata": {},
     "output_type": "execute_result"
    }
   ],
   "source": [
    "size"
   ]
  },
  {
   "cell_type": "code",
   "execution_count": null,
   "metadata": {},
   "outputs": [],
   "source": []
  },
  {
   "cell_type": "code",
   "execution_count": null,
   "metadata": {},
   "outputs": [],
   "source": []
  },
  {
   "cell_type": "code",
   "execution_count": null,
   "metadata": {},
   "outputs": [],
   "source": []
  },
  {
   "cell_type": "code",
   "execution_count": null,
   "metadata": {},
   "outputs": [],
   "source": []
  },
  {
   "cell_type": "code",
   "execution_count": null,
   "metadata": {},
   "outputs": [],
   "source": []
  },
  {
   "cell_type": "code",
   "execution_count": null,
   "metadata": {},
   "outputs": [],
   "source": []
  },
  {
   "cell_type": "code",
   "execution_count": null,
   "metadata": {},
   "outputs": [],
   "source": []
  },
  {
   "cell_type": "code",
   "execution_count": null,
   "metadata": {},
   "outputs": [],
   "source": []
  },
  {
   "cell_type": "code",
   "execution_count": null,
   "metadata": {},
   "outputs": [],
   "source": []
  },
  {
   "cell_type": "code",
   "execution_count": null,
   "metadata": {},
   "outputs": [],
   "source": []
  },
  {
   "cell_type": "code",
   "execution_count": 247,
   "metadata": {},
   "outputs": [
    {
     "data": {
      "text/plain": [
       "'675.00'"
      ]
     },
     "execution_count": 247,
     "metadata": {},
     "output_type": "execute_result"
    }
   ],
   "source": [
    "price"
   ]
  },
  {
   "cell_type": "code",
   "execution_count": null,
   "metadata": {},
   "outputs": [],
   "source": []
  },
  {
   "cell_type": "code",
   "execution_count": null,
   "metadata": {},
   "outputs": [],
   "source": []
  },
  {
   "cell_type": "code",
   "execution_count": null,
   "metadata": {},
   "outputs": [],
   "source": []
  },
  {
   "cell_type": "code",
   "execution_count": null,
   "metadata": {},
   "outputs": [],
   "source": []
  },
  {
   "cell_type": "code",
   "execution_count": null,
   "metadata": {},
   "outputs": [],
   "source": []
  },
  {
   "cell_type": "code",
   "execution_count": null,
   "metadata": {},
   "outputs": [],
   "source": []
  },
  {
   "cell_type": "code",
   "execution_count": 229,
   "metadata": {},
   "outputs": [
    {
     "name": "stdout",
     "output_type": "stream",
     "text": [
      "   زجاج / معدن\n"
     ]
    }
   ],
   "source": [
    "combination_product_size_list1 = driver.find_element_by_class_name('std').text.split('\\n\\n')\n",
    "\n",
    "mater = return_details('مواد التصنيع', combination_product_size_list1).replace(\"\\n\", \" \").replace('♦', '').replace(':', '')\n",
    "print(mater)"
   ]
  },
  {
   "cell_type": "code",
   "execution_count": 230,
   "metadata": {},
   "outputs": [],
   "source": [
    "size = driver.find_elements_by_class_name('std')[0].text.split('\\n')\n"
   ]
  },
  {
   "cell_type": "code",
   "execution_count": 231,
   "metadata": {},
   "outputs": [
    {
     "data": {
      "text/plain": [
       "['الوصف : مصباح طاولة ',\n",
       " '',\n",
       " 'تفاصيل المنتج :',\n",
       " '♦ مصباح طاولة 1 قطعة',\n",
       " '',\n",
       " 'حجم المنتج :',\n",
       " '♦ مصباح طاولة * عرض 40 * عمق 40 * ارتفاع 64 سم',\n",
       " '',\n",
       " 'اللون :',\n",
       " '♦ ذهبى، أبيض',\n",
       " '',\n",
       " 'النوع :',\n",
       " '♦ معاصر']"
      ]
     },
     "execution_count": 231,
     "metadata": {},
     "output_type": "execute_result"
    }
   ],
   "source": [
    "size\n"
   ]
  },
  {
   "cell_type": "code",
   "execution_count": 234,
   "metadata": {},
   "outputs": [],
   "source": [
    "size = return_details('حجم المنتج', combination_product_size_list1).replace(\"\\n\", \" \").replace('♦', '').replace(':', '').replace('مصباح طاولة', '')\n"
   ]
  },
  {
   "cell_type": "code",
   "execution_count": null,
   "metadata": {},
   "outputs": [],
   "source": []
  },
  {
   "cell_type": "code",
   "execution_count": 235,
   "metadata": {},
   "outputs": [
    {
     "data": {
      "text/plain": [
       "'    * عرض 38 * عمق 38 * ارتفاع 71 سم'"
      ]
     },
     "execution_count": 235,
     "metadata": {},
     "output_type": "execute_result"
    }
   ],
   "source": [
    "size"
   ]
  },
  {
   "cell_type": "code",
   "execution_count": null,
   "metadata": {},
   "outputs": [],
   "source": []
  },
  {
   "cell_type": "code",
   "execution_count": null,
   "metadata": {},
   "outputs": [],
   "source": []
  },
  {
   "cell_type": "code",
   "execution_count": null,
   "metadata": {},
   "outputs": [],
   "source": []
  },
  {
   "cell_type": "code",
   "execution_count": null,
   "metadata": {},
   "outputs": [],
   "source": []
  },
  {
   "cell_type": "code",
   "execution_count": null,
   "metadata": {},
   "outputs": [],
   "source": []
  },
  {
   "cell_type": "code",
   "execution_count": null,
   "metadata": {},
   "outputs": [],
   "source": []
  },
  {
   "cell_type": "code",
   "execution_count": null,
   "metadata": {},
   "outputs": [],
   "source": []
  },
  {
   "cell_type": "code",
   "execution_count": 216,
   "metadata": {},
   "outputs": [
    {
     "data": {
      "text/plain": [
       "'\\n363.75 SAR '"
      ]
     },
     "execution_count": 216,
     "metadata": {},
     "output_type": "execute_result"
    }
   ],
   "source": [
    "\n",
    "driver.find_elements_by_class_name('price')[1].get_attribute('innerHTML')"
   ]
  },
  {
   "cell_type": "code",
   "execution_count": 224,
   "metadata": {},
   "outputs": [
    {
     "name": "stdout",
     "output_type": "stream",
     "text": [
      "الوصف : مصباح طاولة \n",
      "\n",
      "تفاصيل المنتج :\n",
      "♦ مصباح طاولة 1 قطعة\n",
      "\n",
      "حجم المنتج :\n",
      "♦ مصباح طاولة * عرض 38 * عمق 38 * ارتفاع 71 سم\n",
      "\n",
      "مواد التصنيع :\n",
      "♦ زجاج / معدن\n",
      "\n",
      "اللون :\n",
      "♦ ذهبى، أسود\n",
      "\n",
      "النوع :\n",
      "♦ معاصر\n"
     ]
    }
   ],
   "source": [
    "combination = driver.find_element_by_class_name('std').text\n",
    "print(combination)"
   ]
  },
  {
   "cell_type": "code",
   "execution_count": null,
   "metadata": {},
   "outputs": [],
   "source": []
  },
  {
   "cell_type": "code",
   "execution_count": null,
   "metadata": {},
   "outputs": [],
   "source": []
  },
  {
   "cell_type": "code",
   "execution_count": null,
   "metadata": {},
   "outputs": [],
   "source": []
  },
  {
   "cell_type": "code",
   "execution_count": 209,
   "metadata": {},
   "outputs": [],
   "source": [
    "size = driver.find_elements_by_class_name('std')[0].text.split('\\n')"
   ]
  },
  {
   "cell_type": "code",
   "execution_count": 210,
   "metadata": {},
   "outputs": [
    {
     "data": {
      "text/plain": [
       "['مصباح طاولة عدد 1 قطعة', '', '', 'العرض 38 * العمق 38 * الارتفاع 61 سم']"
      ]
     },
     "execution_count": 210,
     "metadata": {},
     "output_type": "execute_result"
    }
   ],
   "source": [
    "size"
   ]
  },
  {
   "cell_type": "code",
   "execution_count": 212,
   "metadata": {},
   "outputs": [
    {
     "data": {
      "text/plain": [
       "'العرض 38 * العمق 38 * الارتفاع 61 سم'"
      ]
     },
     "execution_count": 212,
     "metadata": {},
     "output_type": "execute_result"
    }
   ],
   "source": [
    "size[3]"
   ]
  },
  {
   "cell_type": "code",
   "execution_count": null,
   "metadata": {},
   "outputs": [],
   "source": []
  },
  {
   "cell_type": "code",
   "execution_count": null,
   "metadata": {},
   "outputs": [],
   "source": []
  },
  {
   "cell_type": "code",
   "execution_count": null,
   "metadata": {},
   "outputs": [],
   "source": []
  },
  {
   "cell_type": "code",
   "execution_count": null,
   "metadata": {},
   "outputs": [],
   "source": []
  },
  {
   "cell_type": "code",
   "execution_count": null,
   "metadata": {},
   "outputs": [],
   "source": []
  },
  {
   "cell_type": "code",
   "execution_count": null,
   "metadata": {},
   "outputs": [],
   "source": []
  },
  {
   "cell_type": "code",
   "execution_count": null,
   "metadata": {},
   "outputs": [],
   "source": []
  },
  {
   "cell_type": "code",
   "execution_count": null,
   "metadata": {},
   "outputs": [],
   "source": []
  },
  {
   "cell_type": "code",
   "execution_count": null,
   "metadata": {},
   "outputs": [],
   "source": []
  },
  {
   "cell_type": "code",
   "execution_count": null,
   "metadata": {},
   "outputs": [],
   "source": []
  },
  {
   "cell_type": "code",
   "execution_count": 156,
   "metadata": {},
   "outputs": [],
   "source": [
    "detail = return_details('Combination', combination_product_size_list).replace(\"\\n\", \" \").replace('♦', '')"
   ]
  },
  {
   "cell_type": "code",
   "execution_count": 159,
   "metadata": {},
   "outputs": [
    {
     "name": "stdout",
     "output_type": "stream",
     "text": [
      "Combination :\n",
      "♦ مصباح طاولة عدد 1 قطعة\n",
      "\n",
      "Product Size :\n",
      "♦ مصباح طاولة: عرض 35 * عمق 35 * ارتفاع 63 سم\n"
     ]
    }
   ],
   "source": [
    "print(driver.find_elements_by_class_name('std')[0].text)"
   ]
  },
  {
   "cell_type": "code",
   "execution_count": 177,
   "metadata": {},
   "outputs": [
    {
     "name": "stdout",
     "output_type": "stream",
     "text": [
      " عرض 35 * عمق 35 * ارتفاع 63 سم\n"
     ]
    }
   ],
   "source": [
    "detail = driver.find_elements_by_class_name('std')[0].text.split('\\n')\n",
    "print(detail[4].replace('♦ مصباح طاولة:', ''))"
   ]
  },
  {
   "cell_type": "code",
   "execution_count": 180,
   "metadata": {},
   "outputs": [],
   "source": [
    "olor = return_details('اللون', combination_product_size_list).replace(\"\\n\", \" \").replace('♦', '')"
   ]
  },
  {
   "cell_type": "code",
   "execution_count": 181,
   "metadata": {},
   "outputs": [
    {
     "data": {
      "text/plain": [
       "['Combination :',\n",
       " '♦ مصباح طاولة عدد 1 قطعة',\n",
       " '',\n",
       " 'Product Size :',\n",
       " '♦ مصباح طاولة: عرض 35 * عمق 35 * ارتفاع 63 سم']"
      ]
     },
     "execution_count": 181,
     "metadata": {},
     "output_type": "execute_result"
    }
   ],
   "source": [
    "combination_product_size_list"
   ]
  },
  {
   "cell_type": "code",
   "execution_count": null,
   "metadata": {},
   "outputs": [],
   "source": []
  },
  {
   "cell_type": "code",
   "execution_count": null,
   "metadata": {},
   "outputs": [],
   "source": []
  },
  {
   "cell_type": "code",
   "execution_count": 182,
   "metadata": {},
   "outputs": [],
   "source": [
    "combination = driver.find_element_by_class_name('std').text\n",
    "    \n",
    "combination_product_size_list = combination.split('\\n')"
   ]
  },
  {
   "cell_type": "code",
   "execution_count": 183,
   "metadata": {},
   "outputs": [
    {
     "data": {
      "text/plain": [
       "['نظرة عامة : أضئ منزلك بجمال هذا المصباح الرائع',\n",
       " '',\n",
       " 'الوصف : مصباح طاولة ',\n",
       " '',\n",
       " 'تفاصيل المنتج :',\n",
       " '♦ مصباح طاولة 1 قطعة',\n",
       " '',\n",
       " 'حجم المنتج :',\n",
       " '♦ مصباح طاولة * عرض 36 * عمق 36 * ارتفاع 68 سم',\n",
       " '',\n",
       " 'اللون :',\n",
       " '♦ ذهبى',\n",
       " '',\n",
       " 'النوع :',\n",
       " '♦ كلاسيكى']"
      ]
     },
     "execution_count": 183,
     "metadata": {},
     "output_type": "execute_result"
    }
   ],
   "source": [
    "combination_product_size_list"
   ]
  },
  {
   "cell_type": "code",
   "execution_count": null,
   "metadata": {},
   "outputs": [],
   "source": []
  },
  {
   "cell_type": "code",
   "execution_count": null,
   "metadata": {},
   "outputs": [],
   "source": []
  },
  {
   "cell_type": "code",
   "execution_count": null,
   "metadata": {},
   "outputs": [],
   "source": []
  },
  {
   "cell_type": "code",
   "execution_count": null,
   "metadata": {},
   "outputs": [],
   "source": []
  },
  {
   "cell_type": "code",
   "execution_count": null,
   "metadata": {},
   "outputs": [],
   "source": []
  },
  {
   "cell_type": "code",
   "execution_count": 193,
   "metadata": {},
   "outputs": [],
   "source": [
    "combination_product_size_list = driver.find_element_by_class_name('std').text.split('\\n\\n')"
   ]
  },
  {
   "cell_type": "code",
   "execution_count": null,
   "metadata": {},
   "outputs": [],
   "source": []
  },
  {
   "cell_type": "code",
   "execution_count": null,
   "metadata": {},
   "outputs": [],
   "source": []
  },
  {
   "cell_type": "code",
   "execution_count": null,
   "metadata": {},
   "outputs": [],
   "source": []
  },
  {
   "cell_type": "code",
   "execution_count": null,
   "metadata": {},
   "outputs": [],
   "source": []
  },
  {
   "cell_type": "code",
   "execution_count": null,
   "metadata": {},
   "outputs": [],
   "source": []
  },
  {
   "cell_type": "code",
   "execution_count": 194,
   "metadata": {},
   "outputs": [
    {
     "data": {
      "text/plain": [
       "' :\\n♦ ذهبى'"
      ]
     },
     "execution_count": 194,
     "metadata": {},
     "output_type": "execute_result"
    }
   ],
   "source": [
    "return_details('اللون', combination_product_size_list)"
   ]
  },
  {
   "cell_type": "code",
   "execution_count": null,
   "metadata": {},
   "outputs": [],
   "source": []
  },
  {
   "cell_type": "code",
   "execution_count": null,
   "metadata": {},
   "outputs": [],
   "source": []
  },
  {
   "cell_type": "code",
   "execution_count": 187,
   "metadata": {},
   "outputs": [
    {
     "name": "stdout",
     "output_type": "stream",
     "text": [
      "اللون :\n"
     ]
    }
   ],
   "source": [
    "for i in combination_product_size_list:\n",
    "    if 'اللون' in i:\n",
    "        print(i)"
   ]
  },
  {
   "cell_type": "code",
   "execution_count": null,
   "metadata": {},
   "outputs": [],
   "source": []
  },
  {
   "cell_type": "code",
   "execution_count": null,
   "metadata": {},
   "outputs": [],
   "source": []
  },
  {
   "cell_type": "code",
   "execution_count": null,
   "metadata": {},
   "outputs": [],
   "source": []
  },
  {
   "cell_type": "code",
   "execution_count": null,
   "metadata": {},
   "outputs": [],
   "source": []
  },
  {
   "cell_type": "code",
   "execution_count": null,
   "metadata": {},
   "outputs": [],
   "source": []
  },
  {
   "cell_type": "code",
   "execution_count": null,
   "metadata": {},
   "outputs": [],
   "source": []
  },
  {
   "cell_type": "code",
   "execution_count": 165,
   "metadata": {},
   "outputs": [
    {
     "data": {
      "text/plain": [
       "'Combination :\\n♦ مصباح طاولة عدد 1 قطعة\\n\\nProduct Size :\\n♦ مصباح طاولة: عرض 35 * عمق 35 * ارتفاع 63 سم'"
      ]
     },
     "execution_count": 165,
     "metadata": {},
     "output_type": "execute_result"
    }
   ],
   "source": [
    "driver.find_elements_by_class_name('std')[0].text"
   ]
  },
  {
   "cell_type": "code",
   "execution_count": null,
   "metadata": {},
   "outputs": [],
   "source": []
  },
  {
   "cell_type": "code",
   "execution_count": null,
   "metadata": {},
   "outputs": [],
   "source": []
  },
  {
   "cell_type": "code",
   "execution_count": null,
   "metadata": {},
   "outputs": [],
   "source": []
  },
  {
   "cell_type": "code",
   "execution_count": 161,
   "metadata": {},
   "outputs": [
    {
     "data": {
      "text/plain": [
       "''"
      ]
     },
     "execution_count": 161,
     "metadata": {},
     "output_type": "execute_result"
    }
   ],
   "source": [
    "detail"
   ]
  },
  {
   "cell_type": "code",
   "execution_count": null,
   "metadata": {},
   "outputs": [],
   "source": []
  },
  {
   "cell_type": "code",
   "execution_count": null,
   "metadata": {},
   "outputs": [],
   "source": []
  },
  {
   "cell_type": "code",
   "execution_count": null,
   "metadata": {},
   "outputs": [],
   "source": []
  },
  {
   "cell_type": "code",
   "execution_count": 157,
   "metadata": {},
   "outputs": [
    {
     "data": {
      "text/plain": [
       "' :'"
      ]
     },
     "execution_count": 157,
     "metadata": {},
     "output_type": "execute_result"
    }
   ],
   "source": [
    "detail"
   ]
  },
  {
   "cell_type": "code",
   "execution_count": null,
   "metadata": {},
   "outputs": [],
   "source": []
  },
  {
   "cell_type": "code",
   "execution_count": null,
   "metadata": {},
   "outputs": [],
   "source": []
  },
  {
   "cell_type": "code",
   "execution_count": null,
   "metadata": {},
   "outputs": [],
   "source": []
  },
  {
   "cell_type": "code",
   "execution_count": null,
   "metadata": {},
   "outputs": [],
   "source": []
  },
  {
   "cell_type": "code",
   "execution_count": null,
   "metadata": {},
   "outputs": [],
   "source": []
  },
  {
   "cell_type": "code",
   "execution_count": null,
   "metadata": {},
   "outputs": [],
   "source": []
  },
  {
   "cell_type": "code",
   "execution_count": null,
   "metadata": {},
   "outputs": [],
   "source": []
  },
  {
   "cell_type": "code",
   "execution_count": 198,
   "metadata": {},
   "outputs": [
    {
     "name": "stdout",
     "output_type": "stream",
     "text": [
      "اللون ذهبي\n"
     ]
    }
   ],
   "source": [
    "# Additional\n",
    "try:\n",
    "    additional_tabbed = driver.find_element_by_id('product_tabs_additional_tabbed')\n",
    "    additional_tabbed.click()\n",
    "    time.sleep(1)\n",
    "    addi = driver.find_element_by_id('product-attribute-specs-table').text\n",
    "    print(addi)\n",
    "except:\n",
    "    addi = ''"
   ]
  },
  {
   "cell_type": "code",
   "execution_count": null,
   "metadata": {},
   "outputs": [],
   "source": []
  },
  {
   "cell_type": "code",
   "execution_count": null,
   "metadata": {},
   "outputs": [],
   "source": []
  },
  {
   "cell_type": "code",
   "execution_count": null,
   "metadata": {},
   "outputs": [],
   "source": []
  },
  {
   "cell_type": "code",
   "execution_count": 72,
   "metadata": {},
   "outputs": [
    {
     "name": "stdout",
     "output_type": "stream",
     "text": [
      "اللون أبيض\n"
     ]
    }
   ],
   "source": [
    "# Additional\n",
    "try:\n",
    "    additional_description = driver.find_element_by_id('product_tabs_description_tabbed')\n",
    "    additional_description.click()\n",
    "    time.sleep(1)\n",
    "    discr = driver.find_element_by_id('product_tabs_description_tabbed_contents').text\n",
    "    print(addi)\n",
    "except:\n",
    "    discr = ''"
   ]
  },
  {
   "cell_type": "code",
   "execution_count": 74,
   "metadata": {},
   "outputs": [
    {
     "name": "stdout",
     "output_type": "stream",
     "text": [
      "الوصف : مصباح طاولة \n",
      "\n",
      "تفاصيل المنتج :\n",
      "♦ مصباح طاولة 1 قطعة\n",
      "\n",
      "حجم المنتج :\n",
      "♦ مصباح طاولة * عرض 42 * عمق 28 * ارتفاع 69 سم\n",
      "\n",
      "اللون :\n",
      "♦ أبيض، ذهبى\n",
      "\n",
      "النوع :\n",
      "♦ معاصر\n"
     ]
    }
   ],
   "source": [
    "combination = driver.find_element_by_class_name('std').text\n",
    "print(combination)"
   ]
  },
  {
   "cell_type": "code",
   "execution_count": 80,
   "metadata": {},
   "outputs": [],
   "source": [
    "combination_product_size_list = combination.split('\\n\\n')"
   ]
  },
  {
   "cell_type": "code",
   "execution_count": null,
   "metadata": {},
   "outputs": [],
   "source": []
  },
  {
   "cell_type": "code",
   "execution_count": 81,
   "metadata": {},
   "outputs": [
    {
     "data": {
      "text/plain": [
       "['الوصف : مصباح طاولة ',\n",
       " 'تفاصيل المنتج :\\n♦ مصباح طاولة 1 قطعة',\n",
       " 'حجم المنتج :\\n♦ مصباح طاولة * عرض 42 * عمق 28 * ارتفاع 69 سم',\n",
       " 'اللون :\\n♦ أبيض، ذهبى',\n",
       " 'النوع :\\n♦ معاصر']"
      ]
     },
     "execution_count": 81,
     "metadata": {},
     "output_type": "execute_result"
    }
   ],
   "source": [
    "combination_product_size_list"
   ]
  },
  {
   "cell_type": "code",
   "execution_count": null,
   "metadata": {},
   "outputs": [],
   "source": []
  },
  {
   "cell_type": "code",
   "execution_count": 86,
   "metadata": {},
   "outputs": [
    {
     "name": "stdout",
     "output_type": "stream",
     "text": [
      "\n",
      "♦ مصباح طاولة * عرض 42 * عمق 28 * ارتفاع 69 سم\n"
     ]
    }
   ],
   "source": [
    "for i in combination_product_size_list:\n",
    "    if 'حجم المنتج :' in i:\n",
    "        print(i.replace('حجم المنتج :', ''))\n",
    "    "
   ]
  },
  {
   "cell_type": "code",
   "execution_count": 100,
   "metadata": {},
   "outputs": [],
   "source": [
    "def return_details(value, list_dic):\n",
    "    val = ''\n",
    "    for i in list_dic:\n",
    "        if value in i:\n",
    "            val = i.replace(value, '').repalce(\"!@#$%^&*()[]{};:,./<>?\\|`~-=_+♦\\n\", \" \")\n",
    "    return val"
   ]
  },
  {
   "cell_type": "code",
   "execution_count": null,
   "metadata": {},
   "outputs": [],
   "source": []
  },
  {
   "cell_type": "code",
   "execution_count": null,
   "metadata": {},
   "outputs": [],
   "source": []
  },
  {
   "cell_type": "code",
   "execution_count": 94,
   "metadata": {},
   "outputs": [
    {
     "data": {
      "text/plain": [
       "['الوصف : مصباح طاولة ',\n",
       " 'تفاصيل المنتج :\\n♦ مصباح طاولة 1 قطعة',\n",
       " 'حجم المنتج :\\n♦ مصباح طاولة * عرض 42 * عمق 28 * ارتفاع 69 سم',\n",
       " 'اللون :\\n♦ أبيض، ذهبى',\n",
       " 'النوع :\\n♦ معاصر']"
      ]
     },
     "execution_count": 94,
     "metadata": {},
     "output_type": "execute_result"
    }
   ],
   "source": [
    "combination_product_size_list"
   ]
  },
  {
   "cell_type": "code",
   "execution_count": null,
   "metadata": {},
   "outputs": [],
   "source": []
  },
  {
   "cell_type": "code",
   "execution_count": null,
   "metadata": {},
   "outputs": [],
   "source": []
  },
  {
   "cell_type": "code",
   "execution_count": 112,
   "metadata": {},
   "outputs": [],
   "source": [
    "detail = return_details('الوصف :', combination_product_size_list).replace(\"\\n\", \" \").replace('♦', '')"
   ]
  },
  {
   "cell_type": "code",
   "execution_count": 92,
   "metadata": {},
   "outputs": [],
   "source": [
    "size = return_details('حجم المنتج :', combination_product_size_list).replace(\"\\n\", \" \").replace('♦', '')"
   ]
  },
  {
   "cell_type": "code",
   "execution_count": 120,
   "metadata": {},
   "outputs": [],
   "source": [
    "color = return_details('اللون :', combination_product_size_list).replace(\"\\n\", \" \").replace('♦', '')"
   ]
  },
  {
   "cell_type": "code",
   "execution_count": 122,
   "metadata": {},
   "outputs": [],
   "source": [
    "style = return_details('النوع :', combination_product_size_list).replace(\"\\n\", \" \").replace('♦', '')"
   ]
  },
  {
   "cell_type": "code",
   "execution_count": 123,
   "metadata": {},
   "outputs": [
    {
     "data": {
      "text/plain": [
       "'  معاصر'"
      ]
     },
     "execution_count": 123,
     "metadata": {},
     "output_type": "execute_result"
    }
   ],
   "source": []
  },
  {
   "cell_type": "code",
   "execution_count": null,
   "metadata": {},
   "outputs": [],
   "source": []
  },
  {
   "cell_type": "code",
   "execution_count": null,
   "metadata": {},
   "outputs": [],
   "source": []
  },
  {
   "cell_type": "code",
   "execution_count": null,
   "metadata": {},
   "outputs": [],
   "source": []
  },
  {
   "cell_type": "code",
   "execution_count": null,
   "metadata": {},
   "outputs": [],
   "source": []
  },
  {
   "cell_type": "code",
   "execution_count": 121,
   "metadata": {},
   "outputs": [
    {
     "data": {
      "text/plain": [
       "'  أبيض، ذهبى'"
      ]
     },
     "execution_count": 121,
     "metadata": {},
     "output_type": "execute_result"
    }
   ],
   "source": [
    "color"
   ]
  },
  {
   "cell_type": "code",
   "execution_count": null,
   "metadata": {},
   "outputs": [],
   "source": []
  },
  {
   "cell_type": "code",
   "execution_count": null,
   "metadata": {},
   "outputs": [],
   "source": []
  },
  {
   "cell_type": "code",
   "execution_count": null,
   "metadata": {},
   "outputs": [],
   "source": []
  },
  {
   "cell_type": "code",
   "execution_count": null,
   "metadata": {},
   "outputs": [],
   "source": []
  },
  {
   "cell_type": "code",
   "execution_count": 79,
   "metadata": {},
   "outputs": [
    {
     "data": {
      "text/plain": [
       "'الوصف : مصباح طاولة \\n\\nتفاصيل المنتج :\\n♦ مصباح طاولة 1 قطعة\\n\\nحجم المنتج :\\n♦ مصباح طاولة * عرض 42 * عمق 28 * ارتفاع 69 سم\\n\\nاللون :\\n♦ أبيض، ذهبى\\n\\nالنوع :\\n♦ معاصر'"
      ]
     },
     "execution_count": 79,
     "metadata": {},
     "output_type": "execute_result"
    }
   ],
   "source": [
    "combination"
   ]
  },
  {
   "cell_type": "code",
   "execution_count": null,
   "metadata": {},
   "outputs": [],
   "source": []
  },
  {
   "cell_type": "code",
   "execution_count": null,
   "metadata": {},
   "outputs": [],
   "source": []
  },
  {
   "cell_type": "code",
   "execution_count": null,
   "metadata": {},
   "outputs": [],
   "source": []
  },
  {
   "cell_type": "code",
   "execution_count": null,
   "metadata": {},
   "outputs": [],
   "source": []
  },
  {
   "cell_type": "code",
   "execution_count": null,
   "metadata": {},
   "outputs": [],
   "source": []
  },
  {
   "cell_type": "code",
   "execution_count": null,
   "metadata": {},
   "outputs": [],
   "source": []
  },
  {
   "cell_type": "code",
   "execution_count": null,
   "metadata": {},
   "outputs": [],
   "source": []
  },
  {
   "cell_type": "code",
   "execution_count": null,
   "metadata": {},
   "outputs": [],
   "source": []
  },
  {
   "cell_type": "code",
   "execution_count": null,
   "metadata": {},
   "outputs": [],
   "source": []
  },
  {
   "cell_type": "code",
   "execution_count": null,
   "metadata": {},
   "outputs": [],
   "source": []
  },
  {
   "cell_type": "code",
   "execution_count": null,
   "metadata": {},
   "outputs": [],
   "source": []
  },
  {
   "cell_type": "code",
   "execution_count": 5,
   "metadata": {},
   "outputs": [],
   "source": []
  },
  {
   "cell_type": "code",
   "execution_count": 10,
   "metadata": {},
   "outputs": [
    {
     "name": "stdout",
     "output_type": "stream",
     "text": [
      "27\n"
     ]
    }
   ],
   "source": []
  },
  {
   "cell_type": "code",
   "execution_count": 12,
   "metadata": {},
   "outputs": [],
   "source": [
    "\n",
    "    "
   ]
  },
  {
   "cell_type": "code",
   "execution_count": 15,
   "metadata": {},
   "outputs": [],
   "source": []
  },
  {
   "cell_type": "code",
   "execution_count": 17,
   "metadata": {},
   "outputs": [
    {
     "name": "stdout",
     "output_type": "stream",
     "text": [
      "فيلا\n"
     ]
    }
   ],
   "source": []
  },
  {
   "cell_type": "code",
   "execution_count": 20,
   "metadata": {},
   "outputs": [
    {
     "name": "stdout",
     "output_type": "stream",
     "text": [
      "7901\n"
     ]
    }
   ],
   "source": []
  },
  {
   "cell_type": "code",
   "execution_count": 31,
   "metadata": {},
   "outputs": [
    {
     "name": "stdout",
     "output_type": "stream",
     "text": [
      "\n",
      "450.00 SAR \n"
     ]
    }
   ],
   "source": []
  },
  {
   "cell_type": "code",
   "execution_count": 33,
   "metadata": {},
   "outputs": [
    {
     "name": "stdout",
     "output_type": "stream",
     "text": [
      "\n",
      "337.50 SAR \n"
     ]
    }
   ],
   "source": []
  },
  {
   "cell_type": "code",
   "execution_count": 40,
   "metadata": {},
   "outputs": [
    {
     "name": "stdout",
     "output_type": "stream",
     "text": [
      "['Combination :', '♦ مصباح طاولة عدد 1 قطعة', '', 'Product Size :', '♦ مصباح طاولة: عرض 37 * عمق 37 * ارتفاع 62 سم']\n"
     ]
    }
   ],
   "source": []
  },
  {
   "cell_type": "code",
   "execution_count": null,
   "metadata": {},
   "outputs": [],
   "source": []
  },
  {
   "cell_type": "code",
   "execution_count": null,
   "metadata": {},
   "outputs": [],
   "source": []
  },
  {
   "cell_type": "code",
   "execution_count": 42,
   "metadata": {},
   "outputs": [],
   "source": []
  },
  {
   "cell_type": "code",
   "execution_count": null,
   "metadata": {},
   "outputs": [],
   "source": []
  },
  {
   "cell_type": "code",
   "execution_count": 43,
   "metadata": {},
   "outputs": [
    {
     "data": {
      "text/plain": [
       "['Combination :',\n",
       " '♦ مصباح طاولة عدد 1 قطعة',\n",
       " '',\n",
       " 'Product Size :',\n",
       " '♦ مصباح طاولة: عرض 37 * عمق 37 * ارتفاع 62 سم']"
      ]
     },
     "execution_count": 43,
     "metadata": {},
     "output_type": "execute_result"
    }
   ],
   "source": [
    "combination_product_size_list"
   ]
  },
  {
   "cell_type": "code",
   "execution_count": 44,
   "metadata": {},
   "outputs": [],
   "source": []
  },
  {
   "cell_type": "code",
   "execution_count": 46,
   "metadata": {},
   "outputs": [],
   "source": []
  },
  {
   "cell_type": "code",
   "execution_count": 47,
   "metadata": {},
   "outputs": [
    {
     "data": {
      "text/plain": [
       "' مصباح طاولة: عرض 37 * عمق 37 * ارتفاع 62 سم'"
      ]
     },
     "execution_count": 47,
     "metadata": {},
     "output_type": "execute_result"
    }
   ],
   "source": [
    "product_size"
   ]
  },
  {
   "cell_type": "code",
   "execution_count": null,
   "metadata": {},
   "outputs": [],
   "source": [
    "product-attribute-specs-table"
   ]
  },
  {
   "cell_type": "code",
   "execution_count": 51,
   "metadata": {},
   "outputs": [
    {
     "name": "stdout",
     "output_type": "stream",
     "text": [
      "\n"
     ]
    }
   ],
   "source": []
  },
  {
   "cell_type": "code",
   "execution_count": 57,
   "metadata": {},
   "outputs": [],
   "source": []
  },
  {
   "cell_type": "code",
   "execution_count": null,
   "metadata": {},
   "outputs": [],
   "source": []
  },
  {
   "cell_type": "code",
   "execution_count": 58,
   "metadata": {},
   "outputs": [
    {
     "name": "stdout",
     "output_type": "stream",
     "text": [
      "https://cdn.midasfurniture.com/media/catalog/product/cache/6/image/0dc2d03fe217f8c83829496872af24a0/1/3/13-SR-ZY-9699TL1_A.jpg\n",
      "https://cdn.midasfurniture.com/media/catalog/product/cache/6/image/1800x/040ec09b1e35df139433887a97daa66f/1/3/13-SR-ZY-9699TL1_A.jpg\n",
      "https://cdn.midasfurniture.com/media/catalog/product/cache/6/image/1800x/040ec09b1e35df139433887a97daa66f/1/3/13-SR-ZY-9699TL1_C.jpg\n",
      "https://cdn.midasfurniture.com/media/catalog/product/cache/6/image/1800x/040ec09b1e35df139433887a97daa66f/1/3/13-SR-ZY-9699TL1_B.jpg\n"
     ]
    }
   ],
   "source": []
  },
  {
   "cell_type": "code",
   "execution_count": null,
   "metadata": {},
   "outputs": [],
   "source": []
  },
  {
   "cell_type": "code",
   "execution_count": 55,
   "metadata": {},
   "outputs": [
    {
     "data": {
      "text/plain": [
       "<selenium.webdriver.firefox.webelement.FirefoxWebElement (session=\"aa1614c6-b250-43e8-b9b0-7be35735b0cd\", element=\"5091dd3a-4653-4ddc-a404-88bd43d58d8a\")>"
      ]
     },
     "execution_count": 55,
     "metadata": {},
     "output_type": "execute_result"
    }
   ],
   "source": [
    "image"
   ]
  },
  {
   "cell_type": "code",
   "execution_count": null,
   "metadata": {},
   "outputs": [],
   "source": []
  },
  {
   "cell_type": "code",
   "execution_count": null,
   "metadata": {},
   "outputs": [],
   "source": []
  },
  {
   "cell_type": "code",
   "execution_count": null,
   "metadata": {},
   "outputs": [],
   "source": []
  },
  {
   "cell_type": "code",
   "execution_count": null,
   "metadata": {},
   "outputs": [],
   "source": []
  },
  {
   "cell_type": "code",
   "execution_count": null,
   "metadata": {},
   "outputs": [],
   "source": []
  },
  {
   "cell_type": "code",
   "execution_count": null,
   "metadata": {},
   "outputs": [],
   "source": []
  },
  {
   "cell_type": "code",
   "execution_count": null,
   "metadata": {},
   "outputs": [],
   "source": []
  },
  {
   "cell_type": "code",
   "execution_count": null,
   "metadata": {},
   "outputs": [],
   "source": []
  },
  {
   "cell_type": "code",
   "execution_count": null,
   "metadata": {},
   "outputs": [],
   "source": []
  },
  {
   "cell_type": "code",
   "execution_count": null,
   "metadata": {},
   "outputs": [],
   "source": []
  },
  {
   "cell_type": "code",
   "execution_count": null,
   "metadata": {},
   "outputs": [],
   "source": []
  },
  {
   "cell_type": "code",
   "execution_count": null,
   "metadata": {},
   "outputs": [],
   "source": []
  },
  {
   "cell_type": "code",
   "execution_count": null,
   "metadata": {},
   "outputs": [],
   "source": []
  },
  {
   "cell_type": "code",
   "execution_count": null,
   "metadata": {},
   "outputs": [],
   "source": []
  },
  {
   "cell_type": "code",
   "execution_count": null,
   "metadata": {},
   "outputs": [],
   "source": []
  },
  {
   "cell_type": "code",
   "execution_count": null,
   "metadata": {},
   "outputs": [],
   "source": []
  },
  {
   "cell_type": "code",
   "execution_count": null,
   "metadata": {},
   "outputs": [],
   "source": []
  },
  {
   "cell_type": "code",
   "execution_count": null,
   "metadata": {},
   "outputs": [],
   "source": []
  },
  {
   "cell_type": "code",
   "execution_count": null,
   "metadata": {},
   "outputs": [],
   "source": []
  },
  {
   "cell_type": "code",
   "execution_count": null,
   "metadata": {},
   "outputs": [],
   "source": []
  },
  {
   "cell_type": "code",
   "execution_count": null,
   "metadata": {},
   "outputs": [],
   "source": []
  },
  {
   "cell_type": "code",
   "execution_count": null,
   "metadata": {},
   "outputs": [],
   "source": []
  },
  {
   "cell_type": "code",
   "execution_count": null,
   "metadata": {},
   "outputs": [],
   "source": []
  },
  {
   "cell_type": "code",
   "execution_count": 16,
   "metadata": {},
   "outputs": [
    {
     "data": {
      "text/plain": [
       "'متوفر'"
      ]
     },
     "execution_count": 16,
     "metadata": {},
     "output_type": "execute_result"
    }
   ],
   "source": [
    "in_stock.text"
   ]
  },
  {
   "cell_type": "code",
   "execution_count": null,
   "metadata": {},
   "outputs": [],
   "source": []
  },
  {
   "cell_type": "code",
   "execution_count": null,
   "metadata": {},
   "outputs": [],
   "source": []
  },
  {
   "cell_type": "code",
   "execution_count": null,
   "metadata": {},
   "outputs": [],
   "source": []
  },
  {
   "cell_type": "code",
   "execution_count": null,
   "metadata": {},
   "outputs": [],
   "source": []
  },
  {
   "cell_type": "code",
   "execution_count": null,
   "metadata": {},
   "outputs": [],
   "source": []
  },
  {
   "cell_type": "code",
   "execution_count": null,
   "metadata": {},
   "outputs": [],
   "source": []
  },
  {
   "cell_type": "code",
   "execution_count": null,
   "metadata": {},
   "outputs": [],
   "source": []
  },
  {
   "cell_type": "code",
   "execution_count": null,
   "metadata": {},
   "outputs": [],
   "source": []
  }
 ],
 "metadata": {
  "kernelspec": {
   "display_name": "Python 3",
   "language": "python",
   "name": "python3"
  },
  "language_info": {
   "codemirror_mode": {
    "name": "ipython",
    "version": 3
   },
   "file_extension": ".py",
   "mimetype": "text/x-python",
   "name": "python",
   "nbconvert_exporter": "python",
   "pygments_lexer": "ipython3",
   "version": "3.8.5"
  }
 },
 "nbformat": 4,
 "nbformat_minor": 4
}
