{
 "cells": [
  {
   "cell_type": "code",
   "execution_count": 4,
   "id": "51b0a636",
   "metadata": {},
   "outputs": [],
   "source": [
    "#imports here\n",
    "from selenium import webdriver\n",
    "from selenium.webdriver.common.keys import Keys\n",
    "from selenium.webdriver.support import expected_conditions as EC\n",
    "from selenium.webdriver.common.by import By\n",
    "from selenium.webdriver.support.wait import WebDriverWait\n",
    "from selenium.webdriver.firefox.options import Options\n",
    "import time\n",
    "import os\n",
    "from fake_useragent import UserAgent\n",
    "from random import randint\n",
    "import pandas as pd\n",
    "import numpy as np\n",
    "import re\n",
    "from datetime import datetime\n",
    "from datetime import timedelta\n",
    "from bs4 import BeautifulSoup\n",
    "from urllib.parse import urljoin\n",
    "import requests\n",
    "import string"
   ]
  },
  {
   "cell_type": "markdown",
   "id": "bdae2a94",
   "metadata": {},
   "source": [
    "# Firefox"
   ]
  },
  {
   "cell_type": "code",
   "execution_count": 5,
   "id": "e81ce385",
   "metadata": {},
   "outputs": [
    {
     "name": "stderr",
     "output_type": "stream",
     "text": [
      "Error occurred during loading data. Trying to use cache server https://fake-useragent.herokuapp.com/browsers/0.1.11\n",
      "Traceback (most recent call last):\n",
      "  File \"/home/wafistos/anaconda3/envs/env310/lib/python3.10/site-packages/fake_useragent/utils.py\", line 154, in load\n",
      "    for item in get_browsers(verify_ssl=verify_ssl):\n",
      "  File \"/home/wafistos/anaconda3/envs/env310/lib/python3.10/site-packages/fake_useragent/utils.py\", line 99, in get_browsers\n",
      "    html = html.split('<table class=\"w3-table-all notranslate\">')[1]\n",
      "IndexError: list index out of range\n"
     ]
    },
    {
     "name": "stdout",
     "output_type": "stream",
     "text": [
      "Mozilla/5.0 (Windows NT 6.3; Win64; x64) AppleWebKit/537.36 (KHTML, like Gecko) Chrome/37.0.2049.0 Safari/537.36\n"
     ]
    }
   ],
   "source": [
    "options = Options()\n",
    "ua = UserAgent()\n",
    "userAgent = ua.random\n",
    "print(userAgent)\n",
    "options.add_argument(f'user-agent={userAgent}')\n",
    "#options.add_argument(\"--headless\")\n",
    "driver = webdriver.Firefox(firefox_options=options)\n",
    "#     driver = webdriver.Firefox()"
   ]
  },
  {
   "cell_type": "code",
   "execution_count": 62,
   "id": "1b2a47d0",
   "metadata": {},
   "outputs": [],
   "source": [
    "headers = {\n",
    "    'User-Agent': 'Mozilla/5.0 (Macintosh; Intel Mac OS X 10_12_6) AppleWebKit/537.36 (KHTML, like Gecko) Chrome/74.0.3729.169 Safari/537.36', \n",
    "    'Accept-Encoding': 'gzip, deflate', \n",
    "    'Accept': 'text/html,application/xhtml+xml,application/xml;q=0.9,/;q=0.8', \n",
    "    'Connection': 'keep-alive', \n",
    "    'Accept-Language': 'en-US,en;q=0.5', \n",
    "    'Upgrade-Insecure-Requests': '1', \n",
    "    'Pragma': 'no-cache', \n",
    "    'Cache-Control': 'no-cache'\n",
    "    }\n",
    "    \n",
    "toto  = 'https://www.amazon.sa/%D8%B3%D9%88%D8%A8%D8%B1-%D8%AC%D9%8A%D9%86%D9%8A%D8%B1%D8%A7%D9%84-KSGL1171-%D9%85%D9%88%D8%B2%D8%B9-%D8%AC%D9%86%D8%B1%D8%A7%D9%84/dp/B08DBBDT6S/ref=lp_22576114031_1_1?dchild=1'\n",
    "r = requests.get(toto, headers=headers)\n",
    "soup = BeautifulSoup(r.text, 'html.parser')\n"
   ]
  },
  {
   "cell_type": "code",
   "execution_count": 64,
   "id": "c2364589",
   "metadata": {},
   "outputs": [
    {
     "data": {
      "text/plain": [
       "5"
      ]
     },
     "execution_count": 64,
     "metadata": {},
     "output_type": "execute_result"
    }
   ],
   "source": [
    "cats = soup.find('div', {'id': 'wayfinding-breadcrumbs_feature_div'}).find_all('span', {'class': 'a-list-item'})\n",
    "cat1 = cats[0].text.strip()\n",
    "cat2 = cats[2].text.strip()\n",
    "cat3 = cats[4].text.strip()"
   ]
  },
  {
   "cell_type": "code",
   "execution_count": 70,
   "id": "b4384af9",
   "metadata": {},
   "outputs": [
    {
     "data": {
      "text/plain": [
       "'موزعات مياه ومبردات'"
      ]
     },
     "execution_count": 70,
     "metadata": {},
     "output_type": "execute_result"
    }
   ],
   "source": [
    "\n"
   ]
  },
  {
   "cell_type": "code",
   "execution_count": 13,
   "id": "ed3bdfbd",
   "metadata": {},
   "outputs": [],
   "source": [
    "url_product = []\n",
    "for tt in product_url:\n",
    "    url_product.append('https://www.amazon.sa'+tt.find('a')['href'])"
   ]
  },
  {
   "cell_type": "code",
   "execution_count": null,
   "id": "bdaff619",
   "metadata": {},
   "outputs": [],
   "source": []
  },
  {
   "cell_type": "code",
   "execution_count": 15,
   "id": "447d1b42",
   "metadata": {},
   "outputs": [
    {
     "ename": "IndexError",
     "evalue": "list index out of range",
     "output_type": "error",
     "traceback": [
      "\u001b[0;31m---------------------------------------------------------------------------\u001b[0m",
      "\u001b[0;31mIndexError\u001b[0m                                Traceback (most recent call last)",
      "\u001b[0;32m<ipython-input-15-9f70a2cb78f2>\u001b[0m in \u001b[0;36m<module>\u001b[0;34m\u001b[0m\n\u001b[0;32m----> 1\u001b[0;31m \u001b[0msku\u001b[0m \u001b[0;34m=\u001b[0m \u001b[0msoup\u001b[0m\u001b[0;34m.\u001b[0m\u001b[0mfind\u001b[0m\u001b[0;34m(\u001b[0m\u001b[0;34m'span'\u001b[0m\u001b[0;34m,\u001b[0m \u001b[0;34m{\u001b[0m\u001b[0;34m'id'\u001b[0m\u001b[0;34m:\u001b[0m \u001b[0;34m'productTitle'\u001b[0m\u001b[0;34m}\u001b[0m\u001b[0;34m)\u001b[0m\u001b[0;34m.\u001b[0m\u001b[0mtext\u001b[0m\u001b[0;34m.\u001b[0m\u001b[0msplit\u001b[0m\u001b[0;34m(\u001b[0m\u001b[0;34m'-'\u001b[0m\u001b[0;34m)\u001b[0m\u001b[0;34m[\u001b[0m\u001b[0;36m1\u001b[0m\u001b[0;34m]\u001b[0m\u001b[0;34m.\u001b[0m\u001b[0mstrip\u001b[0m\u001b[0;34m(\u001b[0m\u001b[0;34m)\u001b[0m\u001b[0;34m\u001b[0m\u001b[0;34m\u001b[0m\u001b[0m\n\u001b[0m\u001b[1;32m      2\u001b[0m \u001b[0mname\u001b[0m \u001b[0;34m=\u001b[0m \u001b[0msoup\u001b[0m\u001b[0;34m.\u001b[0m\u001b[0mfind\u001b[0m\u001b[0;34m(\u001b[0m\u001b[0;34m'span'\u001b[0m\u001b[0;34m,\u001b[0m \u001b[0;34m{\u001b[0m\u001b[0;34m'id'\u001b[0m\u001b[0;34m:\u001b[0m \u001b[0;34m'productTitle'\u001b[0m\u001b[0;34m}\u001b[0m\u001b[0;34m)\u001b[0m\u001b[0;34m.\u001b[0m\u001b[0mtext\u001b[0m\u001b[0;34m.\u001b[0m\u001b[0msplit\u001b[0m\u001b[0;34m(\u001b[0m\u001b[0;34m'-'\u001b[0m\u001b[0;34m)\u001b[0m\u001b[0;34m[\u001b[0m\u001b[0;36m0\u001b[0m\u001b[0;34m]\u001b[0m\u001b[0;34m.\u001b[0m\u001b[0mstrip\u001b[0m\u001b[0;34m(\u001b[0m\u001b[0;34m)\u001b[0m\u001b[0;34m\u001b[0m\u001b[0;34m\u001b[0m\u001b[0m\n\u001b[1;32m      3\u001b[0m \u001b[0mbrand\u001b[0m \u001b[0;34m=\u001b[0m \u001b[0msoup\u001b[0m\u001b[0;34m.\u001b[0m\u001b[0mfind\u001b[0m\u001b[0;34m(\u001b[0m\u001b[0;34m'a'\u001b[0m\u001b[0;34m,\u001b[0m \u001b[0;34m{\u001b[0m\u001b[0;34m'id'\u001b[0m\u001b[0;34m:\u001b[0m \u001b[0;34m'bylineInfo'\u001b[0m\u001b[0;34m}\u001b[0m\u001b[0;34m)\u001b[0m\u001b[0;34m.\u001b[0m\u001b[0mtext\u001b[0m\u001b[0;34m.\u001b[0m\u001b[0mreplace\u001b[0m\u001b[0;34m(\u001b[0m\u001b[0;34m'العلامة التجارية:'\u001b[0m\u001b[0;34m,\u001b[0m \u001b[0;34m''\u001b[0m\u001b[0;34m)\u001b[0m\u001b[0;34m.\u001b[0m\u001b[0mstrip\u001b[0m\u001b[0;34m(\u001b[0m\u001b[0;34m)\u001b[0m\u001b[0;34m\u001b[0m\u001b[0;34m\u001b[0m\u001b[0m\n\u001b[1;32m      4\u001b[0m \u001b[0mprice\u001b[0m \u001b[0;34m=\u001b[0m \u001b[0msoup\u001b[0m\u001b[0;34m.\u001b[0m\u001b[0mfind\u001b[0m\u001b[0;34m(\u001b[0m\u001b[0;34m'tr'\u001b[0m\u001b[0;34m,\u001b[0m \u001b[0;34m{\u001b[0m\u001b[0;34m'id'\u001b[0m\u001b[0;34m:\u001b[0m \u001b[0;34m'priceblock_ourprice_row'\u001b[0m\u001b[0;34m}\u001b[0m\u001b[0;34m)\u001b[0m\u001b[0;34m.\u001b[0m\u001b[0mtext\u001b[0m\u001b[0;34m.\u001b[0m\u001b[0mreplace\u001b[0m\u001b[0;34m(\u001b[0m\u001b[0;34m'السعر:'\u001b[0m\u001b[0;34m,\u001b[0m \u001b[0;34m''\u001b[0m\u001b[0;34m)\u001b[0m\u001b[0;34m.\u001b[0m\u001b[0mreplace\u001b[0m\u001b[0;34m(\u001b[0m\u001b[0;34m'ريال'\u001b[0m\u001b[0;34m,\u001b[0m \u001b[0;34m''\u001b[0m\u001b[0;34m)\u001b[0m\u001b[0;34m.\u001b[0m\u001b[0mstrip\u001b[0m\u001b[0;34m(\u001b[0m\u001b[0;34m)\u001b[0m\u001b[0;34m\u001b[0m\u001b[0;34m\u001b[0m\u001b[0m\n\u001b[1;32m      5\u001b[0m \u001b[0mdescription\u001b[0m \u001b[0;34m=\u001b[0m \u001b[0msoup\u001b[0m\u001b[0;34m.\u001b[0m\u001b[0mfind\u001b[0m\u001b[0;34m(\u001b[0m\u001b[0;34m'div'\u001b[0m\u001b[0;34m,\u001b[0m \u001b[0;34m{\u001b[0m\u001b[0;34m'id'\u001b[0m\u001b[0;34m:\u001b[0m \u001b[0;34m'feature-bullets'\u001b[0m\u001b[0;34m}\u001b[0m\u001b[0;34m)\u001b[0m\u001b[0;34m.\u001b[0m\u001b[0mfind_all\u001b[0m\u001b[0;34m(\u001b[0m\u001b[0;34m'li'\u001b[0m\u001b[0;34m)\u001b[0m\u001b[0;34m\u001b[0m\u001b[0;34m\u001b[0m\u001b[0m\n",
      "\u001b[0;31mIndexError\u001b[0m: list index out of range"
     ]
    }
   ],
   "source": [
    "sku = soup.find('span', {'id': 'productTitle'}).text.split('-')[1].strip()\n",
    "name = soup.find('span', {'id': 'productTitle'}).text.split('-')[0].strip()\n",
    "brand = soup.find('a', {'id': 'bylineInfo'}).text.replace('العلامة التجارية:', '').strip()\n",
    "price = soup.find('tr', {'id': 'priceblock_ourprice_row'}).text.replace('السعر:', '').replace('ريال', '').strip()\n",
    "description = soup.find('div', {'id': 'feature-bullets'}).find_all('li')\n",
    "images = soup.find('img', {'id': 'landingImage'})['data-old-hires']\n",
    "dimension = soup.find('div', {'id': 'detailBullets_feature_div'}).find_all('li')\n",
    "dim = ''\n",
    "\n",
    "for dim in dimension:\n",
    "    if 'أبعاد الشحنة' in dim.text.strip():\n",
    "        print(dim.text.replace('أبعاد الشحنة', '').replace(':', '').replace('\\n', '').strip())\n",
    "        print('------')\n",
    "\n",
    "desc = ''\n",
    "for toto in description[1:]:\n",
    "#     print(toto.text)\n",
    "    desc += toto.text\n",
    "print(desc)\n",
    "sku"
   ]
  },
  {
   "cell_type": "code",
   "execution_count": null,
   "id": "9cb33dd1",
   "metadata": {},
   "outputs": [],
   "source": []
  },
  {
   "cell_type": "code",
   "execution_count": null,
   "id": "4815ed81",
   "metadata": {},
   "outputs": [],
   "source": []
  },
  {
   "cell_type": "code",
   "execution_count": null,
   "id": "d3071d27",
   "metadata": {},
   "outputs": [],
   "source": []
  },
  {
   "cell_type": "code",
   "execution_count": null,
   "id": "3295e6a1",
   "metadata": {},
   "outputs": [],
   "source": []
  },
  {
   "cell_type": "code",
   "execution_count": null,
   "id": "2599f403",
   "metadata": {},
   "outputs": [],
   "source": []
  },
  {
   "cell_type": "code",
   "execution_count": null,
   "id": "81976240",
   "metadata": {},
   "outputs": [],
   "source": []
  },
  {
   "cell_type": "code",
   "execution_count": null,
   "id": "8a880376",
   "metadata": {},
   "outputs": [],
   "source": []
  },
  {
   "cell_type": "code",
   "execution_count": null,
   "id": "4bc50fd9",
   "metadata": {},
   "outputs": [],
   "source": []
  },
  {
   "cell_type": "code",
   "execution_count": null,
   "id": "c4794184",
   "metadata": {},
   "outputs": [],
   "source": []
  },
  {
   "cell_type": "code",
   "execution_count": null,
   "id": "37dc7a8c",
   "metadata": {},
   "outputs": [],
   "source": []
  },
  {
   "cell_type": "code",
   "execution_count": null,
   "id": "e19f7e62",
   "metadata": {},
   "outputs": [],
   "source": []
  },
  {
   "cell_type": "code",
   "execution_count": null,
   "id": "c915674d",
   "metadata": {},
   "outputs": [],
   "source": []
  },
  {
   "cell_type": "code",
   "execution_count": null,
   "id": "008ba831",
   "metadata": {},
   "outputs": [],
   "source": []
  },
  {
   "cell_type": "code",
   "execution_count": null,
   "id": "47417ef0",
   "metadata": {},
   "outputs": [],
   "source": []
  },
  {
   "cell_type": "code",
   "execution_count": 68,
   "id": "e1d98328",
   "metadata": {},
   "outputs": [],
   "source": [
    "aaa"
   ]
  },
  {
   "cell_type": "code",
   "execution_count": null,
   "id": "0944cae6",
   "metadata": {},
   "outputs": [],
   "source": []
  },
  {
   "cell_type": "markdown",
   "id": "5bf903d1",
   "metadata": {},
   "source": [
    "# Alassly update urls\n"
   ]
  },
  {
   "cell_type": "code",
   "execution_count": 10,
   "id": "660f97e6",
   "metadata": {},
   "outputs": [
    {
     "name": "stdout",
     "output_type": "stream",
     "text": [
      "Count:  1\n",
      "Count:  2\n",
      "Count:  3\n",
      "Count:  4\n",
      "Count:  5\n",
      "Count:  6\n",
      "Count:  7\n",
      "Count:  8\n",
      "Count:  9\n",
      "Count:  10\n",
      "Count:  11\n",
      "Count:  12\n",
      "Count:  13\n",
      "Count:  14\n",
      "Count:  15\n",
      "Count:  16\n"
     ]
    }
   ],
   "source": [
    "list_urls = []\n",
    "for i in range(1, 17):\n",
    "    print('Count: ', i)\n",
    "    r = requests.get(f'https://alassly.com/%D8%A7%D9%84%D8%AA%D8%AC%D8%A7%D8%B1%D9%8A%D8%A9/%D8%AC%D9%8A-%D9%81%D9%8A-%D8%B3%D9%8A-%D8%A8%D8%B1%D9%88/page/{i}/?instock_products=both')\n",
    "    soup = BeautifulSoup(r.text, 'html.parser')\n",
    "    urls = soup.find_all('div', {'class': 'box-image'})\n",
    "    for tt in urls:\n",
    "        list_urls.append(tt.find('a')['href'])"
   ]
  },
  {
   "cell_type": "code",
   "execution_count": 13,
   "id": "ae81de68",
   "metadata": {},
   "outputs": [
    {
     "data": {
      "text/plain": [
       "234"
      ]
     },
     "execution_count": 13,
     "metadata": {},
     "output_type": "execute_result"
    }
   ],
   "source": [
    "len(list_urls)"
   ]
  },
  {
   "cell_type": "markdown",
   "id": "5b777bb5",
   "metadata": {},
   "source": [
    "# Create elements"
   ]
  },
  {
   "cell_type": "code",
   "execution_count": 78,
   "id": "11b303a4",
   "metadata": {},
   "outputs": [],
   "source": [
    "urls = [\n",
    "    'https://alassly.com/product/%d9%85%d9%83%d9%8a%d9%81-%d9%8a%d9%88%d8%ac%d9%8a%d9%86-%d8%b3%d9%88%d8%a8%d8%b1-%d8%b4%d8%a8%d8%a7%d9%83-18000-%d9%88%d8%ad%d8%af%d8%a9-%d8%ad%d8%a7%d8%b1-%d9%88-%d8%a8%d8%a7%d8%b1%d8%af/',\n",
    "    'https://alassly.com/product/%d8%ab%d9%84%d8%a7%d8%ac%d8%a9-%d8%a8%d8%a7%d8%a8%d9%8a%d9%86-%d9%8a%d9%88%d8%ac%d9%8a%d9%86-12-8-%d9%82%d8%af%d9%85-no-frost-%d8%a3%d8%a8%d9%8a%d8%b6/',\n",
    "'https://alassly.com/product/%d9%85%d9%83%d9%8a%d9%81-%d9%8a%d9%88%d8%ac%d9%8a%d9%86-%d8%b3%d9%88%d8%a8%d8%b1-%d8%b4%d8%a8%d8%a7%d9%83-18000-%d9%88%d8%ad%d8%af%d8%a9-%d8%ad%d8%a7%d8%b1-%d9%88-%d8%a8%d8%a7%d8%b1%d8%af/',\n",
    "\n",
    "]"
   ]
  },
  {
   "cell_type": "code",
   "execution_count": 148,
   "id": "6c042e21",
   "metadata": {},
   "outputs": [],
   "source": [
    "r = requests.get(urls[2])\n",
    "soup = BeautifulSoup(r.text, 'html.parser')"
   ]
  },
  {
   "cell_type": "code",
   "execution_count": 17,
   "id": "97b73ef2",
   "metadata": {},
   "outputs": [
    {
     "data": {
      "text/plain": [
       "'UR2DM365'"
      ]
     },
     "execution_count": 17,
     "metadata": {},
     "output_type": "execute_result"
    }
   ],
   "source": [
    "sku = soup.find('span', {'class': 'sku'}).text.strip()\n",
    "name = soup.find('h1', {'class': 'product-title product_title entry-title'}).text.strip()\n",
    "prices = soup.find('div', {'class': 'price-wrapper'}).find_all('span', {'class': 'woocommerce-Price-amount amount'})\n",
    "price = prices[0].text.replace('ر.س', '').strip()\n",
    "special_price =  prices[1].text.replace('ر.س', '').strip()\n",
    "images = soup.find('figure').find_all('img')\n",
    "categories = soup.find('nav', {'class': 'woocommerce-breadcrumb breadcrumbs'}).find_all('a')\n",
    "len(categories)\n",
    "cat1 = categories[1].text.strip()\n",
    "cat2 = categories[2].text.strip()\n",
    "for img in images:\n",
    "    print(img['data-src'])"
   ]
  },
  {
   "cell_type": "code",
   "execution_count": 18,
   "id": "d26755d4",
   "metadata": {},
   "outputs": [
    {
     "data": {
      "text/plain": [
       "'ثلاجة بابين يوجين 12.8 قدم  No Frost – أبيض'"
      ]
     },
     "execution_count": 18,
     "metadata": {},
     "output_type": "execute_result"
    }
   ],
   "source": [
    "name = soup.find('h1', {'class': 'product-title product_title entry-title'}).text.strip()\n",
    "name"
   ]
  },
  {
   "cell_type": "code",
   "execution_count": 21,
   "id": "0586da56",
   "metadata": {},
   "outputs": [
    {
     "data": {
      "text/plain": [
       "2"
      ]
     },
     "execution_count": 21,
     "metadata": {},
     "output_type": "execute_result"
    }
   ],
   "source": [
    "prices = soup.find('div', {'class': 'price-wrapper'}).find_all('span', {'class': 'woocommerce-Price-amount amount'})\n",
    "len(prices)"
   ]
  },
  {
   "cell_type": "code",
   "execution_count": 24,
   "id": "23344dd4",
   "metadata": {},
   "outputs": [
    {
     "data": {
      "text/plain": [
       "'2.552'"
      ]
     },
     "execution_count": 24,
     "metadata": {},
     "output_type": "execute_result"
    }
   ],
   "source": [
    "price = prices[0].text.replace('ر.س', '').strip()\n",
    "price"
   ]
  },
  {
   "cell_type": "code",
   "execution_count": 26,
   "id": "bd82af0f",
   "metadata": {},
   "outputs": [
    {
     "data": {
      "text/plain": [
       "'1.972'"
      ]
     },
     "execution_count": 26,
     "metadata": {},
     "output_type": "execute_result"
    }
   ],
   "source": [
    "special_price =  prices[1].text.replace('ر.س', '').strip()\n",
    "special_price"
   ]
  },
  {
   "cell_type": "code",
   "execution_count": 84,
   "id": "3ef54080",
   "metadata": {},
   "outputs": [
    {
     "data": {
      "text/plain": [
       "'نظام تشغيل حار و بارد\\nيوفر لك نظام التشغيل الحار و البارد تحقيق أقصى إستفادة من المكيف على مدار العام وتحت الظروف المناخية المختلفة , كما يوفر عليك شراء الدفايات في فصل الشتاء حيث يمتلك هذا المكيف نظام تدفئة مثالي في الشتاء , ويمكنك أيضا التغلب علي حرارة الصيف الشديدة من خلال هذا المكيف وذلك بفضل نظام التشغيل البارد في المكيف\\xa0\\n\\xa0\\n\\xa0\\n\\nصندوق تحكم سهل الصيانة\\nيوفر لك مرونة فائقة أثناء القيام بأعمال الصيانة ويعود الفضل في ذلك إلى تصميمه المرن والمخصص لذلك والذي يتيح سهولة الوصول إلى الأجزاء الداخلية .\\xa0\\n\\xa0\\n\\xa0\\n\\nنوم عميق وهاديء\\nيتيح لك الإستمتاع بنوم هادئ وعميق وذلك حيث أنه مزود بضاغط من نوع روتاري ذات الصوت المنخفض الذي يجعلك تشعر بالإسترخاء والهدوء أثناء التشغيل .\\xa0\\n\\xa0\\n\\xa0\\n\\xa0\\n\\nتوزيع الهواء فى اتجاهات مختلفة\\nيتميز هذا المكيف الرائع بتوزيع الهواء في أربع إتجاهات مختلفة ليضمن لك توزيع مثالي ومتساوي للهوء في جميع أركان الغرفة وبالتالي .'"
      ]
     },
     "execution_count": 84,
     "metadata": {},
     "output_type": "execute_result"
    }
   ],
   "source": [
    "description = soup.find('div', {'id': 'tab-description'}).text.strip()\n",
    "description"
   ]
  },
  {
   "cell_type": "code",
   "execution_count": 83,
   "id": "df4a42bc",
   "metadata": {},
   "outputs": [
    {
     "data": {
      "text/plain": [
       "'66 × 68 × 42.8'"
      ]
     },
     "execution_count": 83,
     "metadata": {},
     "output_type": "execute_result"
    }
   ],
   "source": [
    "dims = description.split('\\n')\n",
    "dim = [tt for tt in dims if 'الأبعاد' in tt][0].replace('الأبعاد', '').replace('سم', '').strip()\n",
    "dim"
   ]
  },
  {
   "cell_type": "code",
   "execution_count": 29,
   "id": "11cd1d3f",
   "metadata": {},
   "outputs": [
    {
     "data": {
      "text/plain": [
       "4"
      ]
     },
     "execution_count": 29,
     "metadata": {},
     "output_type": "execute_result"
    }
   ],
   "source": [
    "categories = soup.find('nav', {'class': 'woocommerce-breadcrumb breadcrumbs'}).find_all('a')\n",
    "len(categories)\n",
    "cat1 = categories[1].text.strip()\n",
    "cat2 = categories[2].text.strip()"
   ]
  },
  {
   "cell_type": "code",
   "execution_count": 30,
   "id": "f2e4ffe5",
   "metadata": {},
   "outputs": [
    {
     "data": {
      "text/plain": [
       "'الثلاجات و الفريزرات'"
      ]
     },
     "execution_count": 30,
     "metadata": {},
     "output_type": "execute_result"
    }
   ],
   "source": [
    "cat1 = categories[1].text.strip()\n",
    "cat1"
   ]
  },
  {
   "cell_type": "code",
   "execution_count": 31,
   "id": "cd700384",
   "metadata": {},
   "outputs": [
    {
     "data": {
      "text/plain": [
       "'ثلاجة بابين'"
      ]
     },
     "execution_count": 31,
     "metadata": {},
     "output_type": "execute_result"
    }
   ],
   "source": [
    "cat2 = categories[2].text.strip()\n",
    "cat2"
   ]
  },
  {
   "cell_type": "code",
   "execution_count": 149,
   "id": "397c64b2",
   "metadata": {},
   "outputs": [
    {
     "name": "stdout",
     "output_type": "stream",
     "text": [
      "https://alassly.com/wp-content/uploads/2018/12/يوجين-روتاري-مكيف-شباك-18000-وحدة-حار-–-بارد.jpg\n",
      "https://alassly.com/wp-content/uploads/2018/12/ضص-1.jpg\n"
     ]
    },
    {
     "data": {
      "text/plain": [
       "2"
      ]
     },
     "execution_count": 149,
     "metadata": {},
     "output_type": "execute_result"
    }
   ],
   "source": [
    "images = soup.find('figure').find_all('img')\n",
    "for img in images:\n",
    "    print(img['data-src'])\n",
    "len(images)"
   ]
  },
  {
   "cell_type": "code",
   "execution_count": 150,
   "id": "0369439b",
   "metadata": {},
   "outputs": [
    {
     "name": "stdout",
     "output_type": "stream",
     "text": [
      "https://alassly.com/wp-content/uploads/2018/12/يوجين-روتاري-مكيف-شباك-18000-وحدة-حار-–-بارد.jpg\n",
      "https://alassly.com/wp-content/uploads/2018/12/ضص-1.jpg\n"
     ]
    }
   ],
   "source": [
    "for img in images:\n",
    "    print(img['data-src'])"
   ]
  },
  {
   "cell_type": "code",
   "execution_count": null,
   "id": "f83b03e8",
   "metadata": {},
   "outputs": [],
   "source": []
  },
  {
   "cell_type": "code",
   "execution_count": 65,
   "id": "27f6b074",
   "metadata": {},
   "outputs": [],
   "source": [
    "def extraire_ele(name, list_details):\n",
    "    try:\n",
    "        toto = list_details.find('th', string=name).next_element.next_element.next_element.text.strip()\n",
    "    except:\n",
    "        toto = ''\n",
    "    return toto"
   ]
  },
  {
   "cell_type": "code",
   "execution_count": 56,
   "id": "6c7839c8",
   "metadata": {},
   "outputs": [
    {
     "name": "stdout",
     "output_type": "stream",
     "text": [
      "التبريد والتجميد\n"
     ]
    }
   ],
   "source": [
    "titi = extraire_ele('التصنيف', add_infos)\n"
   ]
  },
  {
   "cell_type": "code",
   "execution_count": 71,
   "id": "4659c772",
   "metadata": {},
   "outputs": [
    {
     "data": {
      "text/plain": [
       "''"
      ]
     },
     "execution_count": 71,
     "metadata": {},
     "output_type": "execute_result"
    }
   ],
   "source": [
    "type_ = extraire_ele('معدل كفاءة الطاقة', add_infos)\n",
    "type_"
   ]
  },
  {
   "cell_type": "code",
   "execution_count": null,
   "id": "7fede11d",
   "metadata": {},
   "outputs": [],
   "source": [
    "type_ = extraire_ele('النوع', add_infos)\n",
    "control_type = extraire_ele('نوع التحكم', add_infos)\n",
    "free_colors = extraire_ele('اللون', add_infos)\n",
    "barcode = extraire_ele('الموديل', add_infos)\n",
    "cooling_capacity = extraire_ele('السعة', add_infos)\n",
    "voltage  = extraire_ele('الجهد الكهربائي', add_infos)\n",
    "hertz  = extraire_ele('التردد', add_infos)\n",
    "energy_efficiency_class  = extraire_ele('فئة كفاءة الطاقة', add_infos)\n",
    "energy_efficiency_rate  = extraire_ele('معدل كفاءة الطاقة', add_infos)\n",
    "weight_kilo  = extraire_ele('الوزن (كلغ) صافي / الإجمالي', add_infos)\n",
    "indoor_lamp =  extraire_ele('مصباح داخلي', add_infos)\n",
    "guarantee = extraire_ele('الضمان الشامل', add_infos)\n",
    "compressor_warranty = extraire_ele('ضمان الضاغط', add_infos)\n",
    "compressor_type  = extraire_ele('نوع الضاغط', add_infos)\n",
    "manufacturer  = extraire_ele('بلد المنشأ', add_infos)\n"
   ]
  },
  {
   "cell_type": "code",
   "execution_count": null,
   "id": "04f44cb6",
   "metadata": {},
   "outputs": [],
   "source": []
  },
  {
   "cell_type": "code",
   "execution_count": null,
   "id": "9ddef47b",
   "metadata": {},
   "outputs": [],
   "source": []
  },
  {
   "cell_type": "markdown",
   "id": "3a1f4268",
   "metadata": {},
   "source": [
    "# Debut de la fonction"
   ]
  },
  {
   "cell_type": "code",
   "execution_count": 227,
   "id": "14f4125f",
   "metadata": {
    "scrolled": true
   },
   "outputs": [
    {
     "name": "stdout",
     "output_type": "stream",
     "text": [
      "Count: 0\n",
      "URL: https://alassly.com/product/%d8%ab%d9%84%d8%a7%d8%ac%d8%a9-%d8%a8%d8%a7%d8%a8-%d9%88%d8%a7%d8%ad%d8%af-%d8%ac%d9%8a-%d9%81%d9%8a-%d8%b3%d9%8a-%d8%a8%d8%b1%d9%88-3-%d9%82%d8%af%d9%85-%d8%a3%d8%b3%d9%88%d8%af/\n",
      "Count: 1\n",
      "URL: https://alassly.com/product/%d9%81%d8%b1%d9%8a%d8%b2%d8%b1-%d8%b9%d8%a7%d9%85%d9%88%d8%af%d9%8a-%d8%ac%d9%8a-%d9%81%d9%8a-%d8%b3%d9%8a-%d8%a8%d8%b1%d9%88-9-3-%d9%82%d8%af%d9%85-%d9%86%d9%88%d9%81%d8%b1%d9%88%d8%b3%d8%aa-%d8%af/\n",
      "Count: 2\n",
      "URL: https://alassly.com/product/%d8%ab%d9%84%d8%a7%d8%ac%d8%a9-%d8%ac%d9%8a-%d9%81%d9%8a-%d8%b3%d9%8a-%d8%a8%d8%b1%d9%88-%d8%a8%d8%a7%d8%a8-%d9%88%d8%a7%d8%ad%d8%af-2-7-%d9%82%d8%af%d9%85-%d8%a3%d8%a8%d9%8a%d8%b6/\n",
      "Count: 3\n",
      "URL: https://alassly.com/product/%d8%ab%d9%84%d8%a7%d8%ac%d8%a9-%d8%ac%d9%8a-%d9%81%d9%8a-%d8%b3%d9%8a-%d8%a8%d8%b1%d9%88-%d8%a8%d8%a7%d8%a8-%d9%88%d8%a7%d8%ad%d8%af-2-7-%d9%82%d8%af%d9%85-%d8%a3%d8%b3%d9%88%d8%af/\n",
      "Count: 4\n",
      "URL: https://alassly.com/product/%d8%ab%d9%84%d8%a7%d8%ac%d8%a9-%d8%ac%d9%8a-%d9%81%d9%8a-%d8%b3%d9%8a-%d8%a8%d8%b1%d9%88-%d8%a8%d8%a7%d8%a8-%d9%88%d8%a7%d8%ad%d8%af-2-7-%d9%82%d8%af%d9%85-%d9%81%d8%b6%d9%8a/\n",
      "Count: 5\n",
      "URL: https://alassly.com/product/%d8%ab%d9%84%d8%a7%d8%ac%d8%a9-%d8%ac%d9%8a-%d9%81%d9%8a-%d8%b3%d9%8a-%d8%a8%d8%b1%d9%88-%d8%a8%d8%a7%d8%a8-%d9%88%d8%a7%d8%ad%d8%af-3-2-%d9%82%d8%af%d9%85-%d8%a3%d8%a8%d9%8a%d8%b6/\n",
      "Count: 6\n",
      "URL: https://alassly.com/product/%d8%ab%d9%84%d8%a7%d8%ac%d8%a9-%d8%ac%d9%8a-%d9%81%d9%8a-%d8%b3%d9%8a-%d8%a8%d8%b1%d9%88-%d8%a8%d8%a7%d8%a8-%d9%88%d8%a7%d8%ad%d8%af-3-2-%d9%82%d8%af%d9%85-%d9%81%d8%b6%d9%8a/\n",
      "Count: 7\n",
      "URL: https://alassly.com/product/%d8%ab%d9%84%d8%a7%d8%ac%d8%a9-%d8%ac%d9%8a-%d9%81%d9%8a-%d8%b3%d9%8a-%d8%a8%d8%b1%d9%88-%d8%a8%d8%a7%d8%a8%d9%8a%d9%86-16-9-%d9%82%d8%af%d9%85-%d8%a3%d8%a8%d9%8a%d8%b6/\n",
      "Count: 8\n",
      "URL: https://alassly.com/product/%d8%ab%d9%84%d8%a7%d8%ac%d8%a9-%d8%ac%d9%8a-%d9%81%d9%8a-%d8%b3%d9%8a-%d8%a8%d8%b1%d9%88-%d8%a8%d8%a7%d8%a8%d9%8a%d9%86-17-%d9%82%d8%af%d9%85-%d8%b1%d9%85%d8%a7%d8%af%d9%8a/\n",
      "Count: 9\n",
      "URL: https://alassly.com/product/%d8%ab%d9%84%d8%a7%d8%ac%d8%a9-%d8%ac%d9%8a-%d9%81%d9%8a-%d8%b3%d9%8a-%d8%a8%d8%b1%d9%88-%d8%a8%d8%a7%d8%a8%d9%8a%d9%86-19-%d9%82%d8%af%d9%85-%d8%a3%d8%a8%d9%8a%d8%b6/\n",
      "Count: 10\n",
      "URL: https://alassly.com/product/%d8%ab%d9%84%d8%a7%d8%ac%d8%a9-%d8%ac%d9%8a-%d9%81%d9%8a-%d8%b3%d9%8a-%d8%a8%d8%b1%d9%88-%d8%a8%d8%a7%d8%a8%d9%8a%d9%86-19-%d9%82%d8%af%d9%85-%d9%81%d8%b6%d9%8a/\n",
      "Count: 11\n",
      "URL: https://alassly.com/product/%d8%ab%d9%84%d8%a7%d8%ac%d8%a9-%d8%b9%d8%b1%d8%b6-%d8%ac%d9%8a-%d9%81%d9%8a-%d8%b3%d9%8a-%d8%a8%d8%b1%d9%88-13-%d9%82%d8%af%d9%85-%d8%a7%d8%a8%d9%8a%d8%b6/\n",
      "Count: 12\n",
      "URL: https://alassly.com/product/%d8%ac%d9%87%d8%a7%d8%b2-%d8%b7%d8%a8%d8%ae-%d8%a8%d8%a7%d9%84%d8%a8%d8%ae%d8%a7%d8%b1-%d8%ac%d9%8a-%d9%81%d9%8a-%d8%b3%d9%8a-%d8%a8%d8%b1%d9%88-21-1800-%d9%88%d8%a7%d8%aa-6-%d9%84%d8%aa%d8%b1/\n",
      "Count: 13\n",
      "URL: https://alassly.com/product/%d8%ae%d8%a8%d8%a7%d8%b2%d8%a9-%d9%83%d9%87%d8%b1%d8%a8%d8%a7%d8%a6%d9%8a%d8%a9-%d8%ac%d9%8a-%d9%81%d9%8a-%d8%b3%d9%8a-%d8%a8%d8%b1%d9%88-45-%d8%b3%d9%85-2600-%d9%88%d8%a7%d8%aa-%d8%a3%d8%ad%d9%85/\n",
      "Count: 14\n",
      "URL: https://alassly.com/product/%d8%af%d9%81%d8%a7%d9%8a%d8%a9-%d9%83%d9%87%d8%b1%d8%a8%d8%a7%d8%a6%d9%8a%d8%a9-%d8%ac%d9%8a-%d9%81%d9%8a-%d8%b3%d9%8a-%d8%a8%d8%b1%d9%88-1000-%d9%88%d8%a7%d8%aa-2-%d9%85%d8%b3%d8%aa%d9%88%d9%8a/\n",
      "Count: 15\n",
      "URL: https://alassly.com/product/%d8%af%d9%81%d8%a7%d9%8a%d8%a9-%d8%ac%d8%af%d8%a7%d8%b1%d9%8a%d8%a9-%d8%b3%d8%a8%d9%84%d9%8a%d8%aa-%d8%ac%d9%8a-%d9%81%d9%8a-%d8%b3%d9%8a-%d8%a8%d8%b1%d9%88-2500-%d9%88%d8%a7%d8%aa/\n",
      "Count: 16\n",
      "URL: https://alassly.com/product/%d8%af%d9%81%d8%a7%d9%8a%d8%a9-%d9%83%d9%87%d8%b1%d8%a8%d8%a7%d8%a6%d9%8a%d8%a9-%d8%ac%d9%8a-%d9%81%d9%8a-%d8%b3%d9%8a-%d8%a8%d8%b1%d9%88-1800-%d9%88%d8%a7%d8%aa-%d8%a3%d8%b3%d9%88%d8%af/\n",
      "Count: 17\n",
      "URL: https://alassly.com/product/%d8%af%d9%81%d8%a7%d9%8a%d8%a9-%d9%87%d8%a7%d9%84%d9%88%d8%ac%d9%8a%d9%86-4-%d8%b4%d9%85%d8%b9%d8%a9-%d8%ac%d9%8a-%d9%81%d9%8a-%d8%b3%d9%8a-%d8%a8%d8%b1%d9%88-2400-%d9%88%d8%a7%d8%aa/\n",
      "Count: 18\n",
      "URL: https://alassly.com/product/%d8%af%d9%81%d8%a7%d9%8a%d8%a9-%d8%af%d9%8a%d9%83%d9%88%d8%b1-%d9%83%d9%87%d8%b1%d8%a8%d8%a7%d8%a6%d9%8a%d8%a9-%d8%ac%d9%8a-%d9%81%d9%8a-%d8%b3%d9%8a-%d8%a8%d8%b1%d9%88-1950-%d9%88%d8%a7%d8%aa-2/\n",
      "Count: 19\n",
      "URL: https://alassly.com/product/%d8%af%d9%81%d8%a7%d9%8a%d8%a9-%d9%83%d9%87%d8%b1%d8%a8%d8%a7%d8%a6%d9%8a%d8%a9-%d8%ac%d9%8a-%d9%81%d9%8a-%d8%b3%d9%8a-%d8%a8%d8%b1%d9%88-1800-%d9%88%d8%a7%d8%aa-%d8%a3%d8%b3%d9%88%d8%af-2/\n",
      "Count: 20\n",
      "URL: https://alassly.com/product/%d8%af%d9%81%d8%a7%d9%8a%d8%a9-%d9%83%d9%87%d8%b1%d8%a8%d8%a7%d8%a6%d9%8a%d8%a9-%d8%ac%d9%8a-%d9%81%d9%8a-%d8%b3%d9%8a-%d8%a8%d8%b1%d9%88-1800-%d9%88%d8%a7%d8%aa-%d8%b4%d8%a7%d8%b4%d8%a9/\n",
      "Count: 21\n",
      "URL: https://alassly.com/product/%d8%b4%d8%a7%d8%b4%d8%a9-32-%d8%a8%d9%88%d8%b5%d8%a9-%d8%ac%d9%8a-%d9%81%d9%8a-%d8%b3%d9%8a-%d8%a8%d8%b1%d9%88-%d8%b9%d8%a7%d8%af%d9%8a-led-fhd/\n",
      "Count: 22\n",
      "URL: https://alassly.com/product/%d8%b4%d8%a7%d8%b4%d8%a9-32-%d8%a8%d9%88%d8%b5%d8%a9-%d8%b3%d9%85%d8%a7%d8%b1%d8%aa-%d8%ac%d9%8a-%d9%81%d9%8a-%d8%b3%d9%8a-%d8%a8%d8%b1%d9%88-led-hd/\n",
      "Count: 23\n",
      "URL: https://alassly.com/product/%d8%b4%d8%a7%d8%b4%d8%a9-75-%d8%a8%d9%88%d8%b5%d8%a9-%d8%b3%d9%85%d8%a7%d8%b1%d8%aa-%d8%ac%d9%8a-%d9%81%d9%8a-%d8%b3%d9%8a-%d8%a8%d8%b1%d9%88-4k-uhd-led/\n",
      "Count: 24\n",
      "URL: https://alassly.com/product/%d8%b9%d8%ac%d8%a7%d9%86%d8%a9-%d9%83%d9%87%d8%b1%d8%a8%d8%a7%d8%a6%d9%8a%d8%a9-%d8%ac%d9%8a-%d9%81%d9%8a-%d8%b3%d9%8a-%d8%a8%d8%b1%d9%88-1100-%d9%88%d8%a7%d8%aa-6-5-%d9%84%d8%aa%d8%b1/\n",
      "Count: 25\n",
      "URL: https://alassly.com/product/%d8%ba%d8%b3%d8%a7%d9%84%d8%a9-13-%d9%83%d9%8a%d9%84%d9%88-gvc-pro-%d8%aa%d8%b9%d8%a8%d8%a6%d8%a9-%d8%a7%d9%85%d8%a7%d9%85%d9%8a%d8%a9-%d8%aa%d9%86%d8%b4%d9%8a%d9%81-100/\n",
      "Count: 26\n",
      "URL: https://alassly.com/product/%d8%ba%d8%b3%d8%a7%d9%84%d8%a9-%d8%b5%d8%ad%d9%88%d9%86-6-%d8%a8%d8%b1%d8%a7%d9%85%d8%ac-14-%d9%85%d9%83%d8%a7%d9%86-%d8%ac%d9%8a-%d9%81%d9%8a-%d8%b3%d9%8a-%d8%a8%d8%b1%d9%88-%d9%81%d8%b6%d9%8a/\n",
      "Count: 27\n",
      "URL: https://alassly.com/product/%d8%ba%d9%84%d8%a7%d9%8a%d8%a9-%d9%85%d8%a7%d8%a1-%d9%83%d9%87%d8%b1%d8%a8%d8%a7%d8%a6%d9%8a%d8%a9-%d8%ac%d9%8a-%d9%81%d9%8a-%d8%b3%d9%8a-%d8%a8%d8%b1%d9%88-1800-%d9%88%d8%a7%d8%aa-1-8-%d9%84%d8%aa/\n",
      "Count: 28\n",
      "URL: https://alassly.com/product/%d9%81%d8%b1%d9%86-%d8%ba%d8%a7%d8%b2-%d8%ac%d9%8a-%d9%81%d9%8a-%d8%b3%d9%8a-%d8%a8%d8%b1%d9%88-6090-5-%d8%b4%d8%b9%d9%84%d8%a7%d8%aa/\n",
      "Count: 29\n",
      "URL: https://alassly.com/product/%d9%81%d8%b1%d9%86-%d8%ba%d8%a7%d8%b2-%d8%ac%d9%8a-%d9%81%d9%8a-%d8%b3%d9%8a-%d8%a8%d8%b1%d9%88-6090-5-%d8%b4%d8%b9%d9%84%d8%a7%d8%aa-%d9%86%d8%ad%d8%a7%d8%b3/\n",
      "Count: 30\n",
      "URL: https://alassly.com/product/%d9%81%d8%b1%d9%86-%d9%83%d9%87%d8%b1%d8%a8%d8%a7%d8%a6%d9%8a-60-%d9%84%d8%aa%d8%b1-%d8%ac%d9%8a-%d9%81%d9%8a-%d8%b3%d9%8a-%d8%a8%d8%b1%d9%88-1800-%d9%88%d8%a7%d8%aa/\n",
      "Count: 31\n",
      "URL: https://alassly.com/product/%d9%83%d8%a7%d9%88%d9%8a%d8%a9-%d9%83%d8%a8%d8%b3-gvc-pro-%d8%af%d9%88%d8%a7%d8%b1%d8%a9-2200-%d9%88%d8%a7%d8%aa-32-%d8%a8%d9%88%d8%b5%d8%a9/\n",
      "Count: 32\n",
      "URL: https://alassly.com/product/%d9%85%d8%b1%d9%88%d8%ad%d8%a9-%d9%83%d9%87%d8%b1%d8%a8%d8%a7%d8%a6%d9%8a%d8%a9-gvc-pro-%d8%ac%d8%af%d8%a7%d8%b1%d9%8a%d8%a9-16-%d8%a8%d9%88%d8%b5%d8%a9-60-%d9%88%d8%a7%d8%aa/\n",
      "Count: 33\n",
      "URL: https://alassly.com/product/%d9%85%d8%b3%d8%b1%d8%ad-%d9%85%d9%86%d8%b2%d9%84%d9%8a-%d8%ac%d9%8a-%d9%81%d9%8a-%d8%b3%d9%8a-%d8%a8%d8%b1%d9%88-21-2200-%d9%88%d8%a7%d8%aa/\n",
      "Count: 34\n",
      "URL: https://alassly.com/product/%d9%85%d9%83%d9%86%d8%b3%d8%a9-%d9%83%d9%87%d8%b1%d8%a8%d8%a7%d8%a6%d9%8a%d8%a9-gvc-pro-%d8%a8%d8%b7%d9%87-2200-%d9%88%d8%a7%d8%aa-5-%d9%84%d8%aa%d8%b1/\n",
      "Count: 35\n",
      "URL: https://alassly.com/product/%d9%85%d9%83%d9%88%d8%a7%d8%a9-%d8%a8%d8%ae%d8%a7%d8%b1-%d8%b3%d8%aa%d8%a7%d9%86%d8%af-%d8%ac%d9%8a-%d9%81%d9%8a-%d8%b3%d9%8a-%d8%a8%d8%b1%d9%88-1700-%d9%88%d8%a7%d8%aa-2-6-%d9%84%d8%aa%d8%b1/\n",
      "Count: 36\n",
      "URL: https://alassly.com/product/%d9%85%d9%83%d9%8a%d9%86%d8%a9-%d8%aa%d9%86%d8%b9%d9%8a%d9%85-%d8%a7%d9%84%d9%88%d8%ac%d9%87-gvc-pro-%d9%82%d8%a7%d8%a8%d9%84%d8%a9-%d9%84%d9%84%d8%b4%d8%ad%d9%86-%d8%a3%d8%b3%d9%88%d8%af/\n",
      "Count: 37\n",
      "URL: https://alassly.com/product/%d9%85%d9%83%d9%8a%d9%86%d8%a9-%d8%aa%d9%86%d8%b9%d9%8a%d9%85-%d8%a7%d9%84%d9%88%d8%ac%d9%87-gvc-pro-%d9%82%d8%a7%d8%a8%d9%84%d8%a9-%d9%84%d9%84%d8%b4%d8%ad%d9%86-%d9%81%d8%b6%d9%8a/\n",
      "Count: 38\n",
      "URL: https://alassly.com/product/%d9%85%d9%83%d9%8a%d9%86%d8%a9-%d8%aa%d9%86%d8%b9%d9%8a%d9%85-%d8%a7%d9%84%d9%88%d8%ac%d9%87-%d8%b1%d8%ac%d8%a7%d9%84%d9%8a-gvc-pro-%d9%82%d8%a7%d8%a8%d9%84%d8%a9-%d9%84%d9%84%d8%b4%d8%ad%d9%86/\n",
      "Count: 39\n",
      "URL: https://alassly.com/product/%d9%85%d9%8a%d9%83%d8%b1%d9%88%d9%8a%d9%81-25-%d9%84%d8%aa%d8%b1-%d8%ac%d9%8a-%d9%81%d9%8a-%d8%b3%d9%8a-%d8%a8%d8%b1%d9%88-900-%d9%88%d8%a7%d8%aa/\n",
      "Count: 40\n",
      "URL: https://alassly.com/product/%d9%85%d9%8a%d9%83%d8%b1%d9%88%d9%8a%d9%81-30-%d9%84%d8%aa%d8%b1-%d8%ac%d9%8a-%d9%81%d9%8a-%d8%b3%d9%8a-%d8%a8%d8%b1%d9%88-%d9%85%d8%b9-%d8%b4%d9%88%d8%a7%d9%8a%d8%a9-900-%d9%88%d8%a7%d8%aa/\n",
      "Count: 41\n",
      "URL: https://alassly.com/product/%d8%b1%d8%a7%d8%af%d9%8a%d9%88-%d9%85%d8%aa%d9%86%d9%82%d9%84-%d8%ac%d9%8a-%d9%81%d9%8a-%d8%b3%d9%8a-%d8%a8%d8%b1%d9%88-usb/\n",
      "Count: 42\n",
      "URL: https://alassly.com/product/%d8%b4%d8%a7%d8%b4%d8%a9-24-%d8%a8%d9%88%d8%b5%d8%a9-%d8%ac%d9%8a-%d9%81%d9%8a-%d8%b3%d9%8a-%d8%a8%d8%b1%d9%88-hd/\n",
      "Count: 43\n",
      "URL: https://alassly.com/product/%d8%ab%d9%84%d8%a7%d8%ac%d8%a9-%d8%a8%d8%a7%d8%a8%d9%8a%d9%86-%d8%ac%d9%8a-%d9%81%d9%8a-%d8%b3%d9%8a-%d8%a8%d8%b1%d9%88-9-%d9%82%d8%af%d9%85-%d8%a7%d8%a8%d9%8a%d8%b6/\n",
      "Count: 44\n",
      "URL: https://alassly.com/product/%d9%85%d8%b3%d8%b1%d8%ad-%d9%85%d9%86%d8%b2%d9%84%d9%8a-%d8%ac%d9%8a-%d9%81%d9%8a-%d8%b3%d9%8a-%d8%a8%d8%b1%d9%88-21-6000-%d9%88%d8%a7%d8%aa/\n",
      "Count: 45\n",
      "URL: https://alassly.com/product/%d8%b4%d8%a7%d8%b4%d8%a9-43-%d8%a8%d9%88%d8%b5%d8%a9-%d8%ac%d9%8a-%d9%81%d9%8a-%d8%b3%d9%8a-%d8%a8%d8%b1%d9%88-fhd-led/\n",
      "Count: 46\n",
      "URL: https://alassly.com/product/%d8%ab%d9%84%d8%a7%d8%ac%d8%a9-%d8%a8%d8%a7%d8%a8%d9%8a%d9%86-%d8%ac%d9%8a-%d9%81%d9%8a-%d8%b3%d9%8a-%d8%a8%d8%b1%d9%88-10-%d9%82%d8%af%d9%85-%d9%81%d8%b6%d9%8a/\n",
      "Count: 47\n",
      "URL: https://alassly.com/product/%d8%ab%d9%84%d8%a7%d8%ac%d8%a9-%d8%a8%d8%a7%d8%a8%d9%8a%d9%86-%d8%ac%d9%8a-%d9%81%d9%8a-%d8%b3%d9%8a-%d8%a8%d8%b1%d9%88-10-%d9%82%d8%af%d9%85-%d8%a7%d8%a8%d9%8a%d8%b6/\n",
      "Count: 48\n",
      "URL: https://alassly.com/product/%d9%85%d8%b3%d8%b1%d8%ad-%d9%85%d9%86%d8%b2%d9%84%d9%8a-%d8%ac%d9%8a-%d9%81%d9%8a-%d8%b3%d9%8a-%d8%a8%d8%b1%d9%88-51-2000-%d9%88%d8%a7%d8%aa-%d8%a7%d8%b3%d9%88%d8%af/\n",
      "Count: 49\n",
      "URL: https://alassly.com/product/%d8%ab%d9%84%d8%a7%d8%ac%d8%a9-%d8%a8%d8%a7%d8%a8%d9%8a%d9%86-%d8%ac%d9%8a-%d9%81%d9%8a-%d8%b3%d9%8a-%d8%a8%d8%b1%d9%88-12-%d9%82%d8%af%d9%85-%d9%81%d8%b6%d9%8a/\n",
      "Count: 50\n",
      "URL: https://alassly.com/product/%d8%ab%d9%84%d8%a7%d8%ac%d8%a9-%d8%a8%d8%a7%d8%a8-%d9%88%d8%a7%d8%ad%d8%af-%d8%ac%d9%8a-%d9%81%d9%8a-%d8%b3%d9%8a-%d8%a8%d8%b1%d9%88-3-%d9%82%d8%af%d9%85-%d9%81%d8%b6%d9%8a/\n",
      "Count: 51\n",
      "URL: https://alassly.com/product/%d8%ab%d9%84%d8%a7%d8%ac%d8%a9-%d8%a8%d8%a7%d8%a8%d9%8a%d9%86-%d8%ac%d9%8a-%d9%81%d9%8a-%d8%b3%d9%8a-%d8%a8%d8%b1%d9%88-12-%d9%82%d8%af%d9%85-%d8%a7%d8%a8%d9%8a%d8%b6/\n",
      "Count: 52\n",
      "URL: https://alassly.com/product/%d8%ab%d9%84%d8%a7%d8%ac%d8%a9-%d8%a8%d8%a7%d8%a8%d9%8a%d9%86-%d8%ac%d9%8a-%d9%81%d9%8a-%d8%b3%d9%8a-%d8%a8%d8%b1%d9%88-15-%d9%82%d8%af%d9%85-%d9%81%d8%b6%d9%8a/\n",
      "Count: 53\n",
      "URL: https://alassly.com/product/%d8%ab%d9%84%d8%a7%d8%ac%d8%a9-%d8%a8%d8%a7%d8%a8-%d9%88%d8%a7%d8%ad%d8%af-%d8%ac%d9%8a-%d9%81%d9%8a-%d8%b3%d9%8a-%d8%a8%d8%b1%d9%88-3-%d9%82%d8%af%d9%85-%d8%a7%d8%a8%d9%8a%d8%b6/\n",
      "Count: 54\n",
      "URL: https://alassly.com/product/%d8%ab%d9%84%d8%a7%d8%ac%d8%a9-%d8%a8%d8%a7%d8%a8%d9%8a%d9%86-%d8%ac%d9%8a-%d9%81%d9%8a-%d8%b3%d9%8a-%d8%a8%d8%b1%d9%88-6-5-%d9%82%d8%af%d9%85-%d9%81%d8%b6%d9%8a/\n",
      "Count: 55\n",
      "URL: https://alassly.com/product/%d8%ab%d9%84%d8%a7%d8%ac%d8%a9-%d8%a8%d8%a7%d8%a8%d9%8a%d9%86-%d8%ac%d9%8a-%d9%81%d9%8a-%d8%b3%d9%8a-%d8%a8%d8%b1%d9%88-15-%d9%82%d8%af%d9%85-%d8%a7%d8%a8%d9%8a%d8%b6/\n",
      "Count: 56\n",
      "URL: https://alassly.com/product/%d8%ab%d9%84%d8%a7%d8%ac%d8%a9-%d8%af%d9%88%d9%84%d8%a7%d8%a8%d9%8a-%d8%ac%d9%8a-%d9%81%d9%8a-%d8%b3%d9%8a-%d8%a8%d8%b1%d9%88-18-5-%d9%82%d8%af%d9%85-%d9%81%d8%b6%d9%8a/\n",
      "Count: 57\n",
      "URL: https://alassly.com/product/%d8%b4%d8%a7%d8%b4%d8%a9-43-%d8%a8%d9%88%d8%b5%d8%a9-%d8%b3%d9%85%d8%a7%d8%b1%d8%aa-%d8%ac%d9%8a-%d9%81%d9%8a-%d8%b3%d9%8a-%d8%a8%d8%b1%d9%88-fhd/\n",
      "Count: 58\n",
      "URL: https://alassly.com/product/%d8%ab%d9%84%d8%a7%d8%ac%d8%a9-%d8%a8%d8%a7%d8%a8%d9%8a%d9%86-%d8%ac%d9%8a-%d9%81%d9%8a-%d8%b3%d9%8a-%d8%a8%d8%b1%d9%88-6-5-%d9%82%d8%af%d9%85-%d8%a7%d8%a8%d9%8a%d8%b6/\n",
      "Count: 59\n",
      "URL: https://alassly.com/product/%d8%b4%d8%a7%d8%b4%d8%a9-50-%d8%a8%d9%88%d8%b5%d8%a9-%d8%b3%d9%85%d8%a7%d8%b1%d8%aa-%d8%ac%d9%8a-%d9%81%d9%8a-%d8%b3%d9%8a-%d8%a8%d8%b1%d9%88-fhd/\n",
      "Count: 60\n",
      "URL: https://alassly.com/product/%d8%ab%d9%84%d8%a7%d8%ac%d8%a9-%d8%a8%d8%a7%d8%a8%d9%8a%d9%86-%d8%ac%d9%8a-%d9%81%d9%8a-%d8%b3%d9%8a-%d8%a8%d8%b1%d9%88-7-%d9%82%d8%af%d9%85-%d9%81%d8%b6%d9%8a/\n",
      "Count: 61\n",
      "URL: https://alassly.com/product/%d8%b4%d8%a7%d8%b4%d8%a9-50-%d8%a8%d9%88%d8%b5%d8%a9-%d8%b3%d9%85%d8%a7%d8%b1%d8%aa-%d8%ac%d9%8a-%d9%81%d9%8a-%d8%b3%d9%8a-%d8%a8%d8%b1%d9%88-4k-uhd/\n",
      "Count: 62\n",
      "URL: https://alassly.com/product/%d8%ab%d9%84%d8%a7%d8%ac%d8%a9-%d8%af%d9%88%d9%84%d8%a7%d8%a8%d9%8a-%d8%ac%d9%8a-%d9%81%d9%8a-%d8%b3%d9%8a-%d8%a8%d8%b1%d9%88-21-6-%d9%82%d8%af%d9%85-%d9%81%d8%b6%d9%8a/\n",
      "Count: 63\n",
      "URL: https://alassly.com/product/%d8%ab%d9%84%d8%a7%d8%ac%d8%a9-%d8%a8%d8%a7%d8%a8%d9%8a%d9%86-%d8%ac%d9%8a-%d9%81%d9%8a-%d8%b3%d9%8a-%d8%a8%d8%b1%d9%88-7-%d9%82%d8%af%d9%85-%d8%a7%d8%a8%d9%8a%d8%b6/\n",
      "Count: 64\n",
      "URL: https://alassly.com/product/%d8%ab%d9%84%d8%a7%d8%ac%d8%a9-%d8%a8%d8%a7%d8%a8%d9%8a%d9%86-%d8%ac%d9%8a-%d9%81%d9%8a-%d8%b3%d9%8a-%d8%a8%d8%b1%d9%88-9-%d9%82%d8%af%d9%85-%d9%81%d8%b6%d9%8a/\n",
      "Count: 65\n",
      "URL: https://alassly.com/product/%d8%b4%d8%a7%d8%b4%d8%a9-55-%d8%a8%d9%88%d8%b5%d8%a9-%d8%b3%d9%85%d8%a7%d8%b1%d8%aa-%d8%ac%d9%8a-%d9%81%d9%8a-%d8%b3%d9%8a-%d8%a8%d8%b1%d9%88-fhd/\n",
      "Count: 66\n",
      "URL: https://alassly.com/product/%d8%ab%d9%84%d8%a7%d8%ac%d8%a9-%d8%b9%d8%b1%d8%b6-%d8%ac%d9%8a-%d9%81%d9%8a-%d8%b3%d9%8a-%d8%a8%d8%b1%d9%88-7-%d9%82%d8%af%d9%85-%d8%a3%d8%b3%d9%88%d8%af/\n",
      "Count: 67\n",
      "URL: https://alassly.com/product/%d8%ab%d9%84%d8%a7%d8%ac%d8%a9-%d8%b9%d8%b1%d8%b6-%d8%ac%d9%8a-%d9%81%d9%8a-%d8%b3%d9%8a-%d8%a8%d8%b1%d9%88-1-7-%d9%82%d8%af%d9%85-%d8%a7%d8%b3%d9%88%d8%af/\n",
      "Count: 68\n",
      "URL: https://alassly.com/product/%d8%ab%d9%84%d8%a7%d8%ac%d8%a9-%d8%a8%d8%a7%d8%a8%d9%8a%d9%86-%d8%ac%d9%8a-%d9%81%d9%8a-%d8%b3%d9%8a-%d8%a8%d8%b1%d9%88-4-7-%d9%82%d8%af%d9%85-%d9%81%d8%b6%d9%8a/\n",
      "Count: 69\n",
      "URL: https://alassly.com/product/%d8%b4%d8%a7%d8%b4%d8%a9-55-%d8%a8%d9%88%d8%b5%d8%a9-%d8%b3%d9%85%d8%a7%d8%b1%d8%aa-%d8%ac%d9%8a-%d9%81%d9%8a-%d8%b3%d9%8a-%d8%a8%d8%b1%d9%88-4k-uhd/\n",
      "Count: 70\n",
      "URL: https://alassly.com/product/%d8%b4%d8%a7%d8%b4%d8%a9-58-%d8%a8%d9%88%d8%b5%d8%a9-%d8%b3%d9%85%d8%a7%d8%b1%d8%aa-%d8%ac%d9%8a-%d9%81%d9%8a-%d8%b3%d9%8a-%d8%a8%d8%b1%d9%88-4k-uhd/\n",
      "Count: 71\n",
      "URL: https://alassly.com/product/%d8%ab%d9%84%d8%a7%d8%ac%d8%a9-%d8%b9%d8%b1%d8%b6-17-%d9%82%d8%af%d9%85-%d8%ac%d9%8a-%d9%81%d9%8a-%d8%b3%d9%8a-%d8%a8%d8%b1%d9%88-%d8%a8%d8%a7%d8%a8-%d8%b2%d8%ac%d8%a7%d8%ac%d9%8a/\n",
      "Count: 72\n",
      "URL: https://alassly.com/product/%d8%ab%d9%84%d8%a7%d8%ac%d8%a9-%d8%b9%d8%b1%d8%b6-%d8%ac%d9%8a-%d9%81%d9%8a-%d8%b3%d9%8a-%d8%a8%d8%b1%d9%88-2-4-%d9%82%d8%af%d9%85-%d8%a7%d8%b3%d9%88%d8%af/\n",
      "Count: 73\n",
      "URL: https://alassly.com/product/%d8%b4%d8%a7%d8%b4%d8%a9-65-%d8%a8%d9%88%d8%b5%d8%a9-%d8%b3%d9%85%d8%a7%d8%b1%d8%aa-%d8%ac%d9%8a-%d9%81%d9%8a-%d8%b3%d9%8a-%d8%a8%d8%b1%d9%88-4k-uhd/\n",
      "Count: 74\n",
      "URL: https://alassly.com/product/%d8%ab%d9%84%d8%a7%d8%ac%d8%a9-%d8%b9%d8%b1%d8%b6-%d8%ac%d9%8a-%d9%81%d9%8a-%d8%b3%d9%8a-%d8%a8%d8%b1%d9%88-3-%d9%82%d8%af%d9%85-%d8%a7%d8%b3%d9%88%d8%af/\n",
      "Count: 75\n",
      "URL: https://alassly.com/product/%d8%ab%d9%84%d8%a7%d8%ac%d8%a9-%d8%a8%d8%a7%d8%a8%d9%8a%d9%86-%d8%ac%d9%8a-%d9%81%d9%8a-%d8%b3%d9%8a-%d8%a8%d8%b1%d9%88-4-7-%d9%82%d8%af%d9%85-%d8%a7%d8%a8%d9%8a%d8%b6/\n",
      "Count: 76\n",
      "URL: https://alassly.com/product/%d9%81%d8%b1%d9%8a%d8%b2%d8%b1-%d8%a7%d9%81%d9%82%d9%8a-%d8%ac%d9%8a-%d9%81%d9%8a-%d8%b3%d9%8a-%d8%a8%d8%b1%d9%88-3-5-%d9%82%d8%af%d9%85-%d8%a3%d8%a8%d9%8a%d8%b6/\n",
      "Count: 77\n",
      "URL: https://alassly.com/product/%d9%82%d8%af%d8%b1-%d8%b6%d8%ba%d8%b7-%d9%83%d9%87%d8%b1%d8%a8%d8%a7%d8%a6%d9%8a-%d8%ac%d9%8a-%d9%81%d9%8a-%d8%b3%d9%8a-%d8%a8%d8%b1%d9%88-%d8%ac%d8%b1%d8%a7%d9%86%d9%8a%d8%aa-12-%d9%84%d8%aa%d8%b1/\n",
      "Count: 78\n",
      "URL: https://alassly.com/product/%d8%b1%d8%b3%d9%8a%d9%81%d8%b1-%d9%85%d9%8a%d9%86%d9%8a-%d8%ac%d9%8a-%d9%81%d9%8a-%d8%b3%d9%8a-%d8%a8%d8%b1%d9%88-%d8%a3%d8%b2%d8%b1%d9%82/\n",
      "Count: 79\n",
      "URL: https://alassly.com/product/%d9%81%d8%b1%d9%86-%d9%83%d9%87%d8%b1%d8%a8%d8%a7%d8%a6%d9%8a-%d8%ac%d9%8a-%d9%81%d9%8a-%d8%b3%d9%8a-%d8%a8%d8%b1%d9%88-80-%d9%84%d8%aa%d8%b1/\n",
      "Count: 80\n",
      "URL: https://alassly.com/product/%d8%b1%d8%a7%d8%af%d9%8a%d9%88-%d8%b5%d8%ba%d9%8a%d8%b1-%d9%85%d8%aa%d9%86%d9%82%d9%84-%d8%ac%d9%8a-%d9%81%d9%8a-%d8%b3%d9%8a-%d8%a8%d8%b1%d9%88-%d8%a8%d9%84%d9%88%d8%aa%d9%88%d8%ab-usb/\n",
      "Count: 81\n",
      "URL: https://alassly.com/product/%d9%82%d9%84%d8%a7%d9%8a%d8%a9-%d8%a8%d8%af%d9%88%d9%86-%d8%b2%d9%8a%d8%aa-%d8%ac%d9%8a-%d9%81%d9%8a-%d8%b3%d9%8a-%d8%a8%d8%b1%d9%88-4-%d9%84%d8%aa%d8%b1-%d8%a3%d8%b3%d9%88%d8%af/\n",
      "Count: 82\n",
      "URL: https://alassly.com/product/%d9%81%d8%b1%d9%8a%d8%b2%d8%b1-%d8%a7%d9%81%d9%82%d9%8a-%d8%ac%d9%8a-%d9%81%d9%8a-%d8%b3%d9%8a-%d8%a8%d8%b1%d9%88-7-%d9%82%d8%af%d9%85-%d8%a3%d8%a8%d9%8a%d8%b6/\n",
      "Count: 83\n",
      "URL: https://alassly.com/product/%d9%81%d8%b1%d9%86-%d9%83%d9%87%d8%b1%d8%a8%d8%a7%d8%a6%d9%8a-%d8%ac%d9%8a-%d9%81%d9%8a-%d8%b3%d9%8a-%d8%a8%d8%b1%d9%88-%d8%a7%d8%b3%d9%88%d8%af-100-%d9%84%d8%aa%d8%b1/\n",
      "Count: 84\n",
      "URL: https://alassly.com/product/%d8%b1%d8%a7%d8%af%d9%8a%d9%88-%d9%85%d8%aa%d9%86%d9%82%d9%84-%d8%ac%d9%8a-%d9%81%d9%8a-%d8%b3%d9%8a-%d8%a8%d8%b1%d9%88-usb-%d8%a8%d9%84%d9%88%d8%aa%d9%88%d8%ab/\n",
      "Count: 85\n",
      "URL: https://alassly.com/product/%d9%82%d9%84%d8%a7%d9%8a%d8%a9-%d8%a8%d8%af%d9%88%d9%86-%d8%b2%d9%8a%d8%aa-%d8%ac%d9%8a-%d9%81%d9%8a-%d8%b3%d9%8a-%d8%a8%d8%b1%d9%88-7-%d9%84%d8%aa%d8%b1-%d8%a3%d8%b3%d9%88%d8%af/\n",
      "Count: 86\n",
      "URL: https://alassly.com/product/%d9%81%d8%b1%d9%86-%d9%83%d9%87%d8%b1%d8%a8%d8%a7%d8%a6%d9%8a-%d8%ac%d9%8a-%d9%81%d9%8a-%d8%b3%d9%8a-%d8%a8%d8%b1%d9%88-120-%d9%84%d8%aa%d8%b1-%d8%a7%d8%b3%d9%88%d8%af/\n",
      "Count: 87\n",
      "URL: https://alassly.com/product/%d9%82%d9%84%d8%a7%d9%8a%d8%a9-%d8%a8%d8%af%d9%88%d9%86-%d8%b2%d9%8a%d8%aa-%d8%ac%d9%8a-%d9%81%d9%8a-%d8%b3%d9%8a-%d8%a8%d8%b1%d9%88-%d8%af%d9%8a%d8%ac%d9%8a%d8%aa%d8%a7%d9%84-7-%d9%84%d8%aa%d8%b1/\n",
      "Count: 88\n",
      "URL: https://alassly.com/product/%d8%ba%d8%b3%d8%a7%d9%84%d8%a9-%d8%ad%d9%88%d8%b6%d9%8a%d9%86-16-%d9%83%d9%8a%d9%84%d9%88-%d8%ac%d9%8a-%d9%81%d9%8a-%d8%b3%d9%8a-%d8%a8%d8%b1%d9%88-%d8%a3%d8%a8%d9%8a%d8%b6/\n",
      "Count: 89\n",
      "URL: https://alassly.com/product/%d9%81%d8%b1%d9%8a%d8%b2%d8%b1-%d8%a7%d9%81%d9%82%d9%8a-%d8%ac%d9%8a-%d9%81%d9%8a-%d8%b3%d9%8a-%d8%a8%d8%b1%d9%88-10-9-%d9%82%d8%af%d9%85-%d8%a3%d8%a8%d9%8a%d8%b6/\n",
      "Count: 90\n",
      "URL: https://alassly.com/product/%d9%81%d8%b1%d9%86-%d8%ba%d8%a7%d8%b2-%d8%ac%d9%8a-%d9%81%d9%8a-%d8%b3%d9%8a-%d8%a8%d8%b1%d9%88-5055-%d8%b3%d9%85-4-%d8%b9%d9%8a%d9%88%d9%86/\n",
      "Count: 91\n",
      "URL: https://alassly.com/product/%d8%ba%d8%b3%d8%a7%d9%84%d8%a9-%d8%ad%d9%88%d8%b6%d9%8a%d9%86-18-%d9%83%d9%8a%d9%84%d9%88-%d8%ac%d9%8a-%d9%81%d9%8a-%d8%b3%d9%8a-%d8%a8%d8%b1%d9%88-%d8%a3%d8%a8%d9%8a%d8%b6/\n",
      "Count: 92\n",
      "URL: https://alassly.com/product/%d9%81%d8%b1%d9%8a%d8%b2%d8%b1-%d8%a7%d9%81%d9%82%d9%8a-%d8%ac%d9%8a-%d9%81%d9%8a-%d8%b3%d9%8a-%d8%a8%d8%b1%d9%88-13-4-%d9%82%d8%af%d9%85-%d8%a3%d8%a8%d9%8a%d8%b6/\n",
      "Count: 93\n",
      "URL: https://alassly.com/product/%d9%82%d9%84%d8%a7%d9%8a%d8%a9-%d8%a8%d8%af%d9%88%d9%86-%d8%b2%d9%8a%d8%aa-%d8%ac%d9%8a-%d9%81%d9%8a-%d8%b3%d9%8a-%d8%a8%d8%b1%d9%88-%d8%af%d9%8a%d8%ac%d9%8a%d8%aa%d8%a7%d9%84-9-%d9%84%d8%aa%d8%b1/\n",
      "Count: 94\n",
      "URL: https://alassly.com/product/%d8%ba%d8%b3%d8%a7%d9%84%d8%a9-9-%d9%83%d9%8a%d9%84%d9%88-%d8%ac%d9%8a-%d9%81%d9%8a-%d8%b3%d9%8a-%d8%a8%d8%b1%d9%88-%d8%b9%d9%84%d9%88%d9%8a%d8%a9-%d9%81%d8%b6%d9%8a/\n",
      "Count: 95\n",
      "URL: https://alassly.com/product/%d8%ba%d8%b3%d8%a7%d9%84%d8%a9-%d8%ad%d9%88%d8%b6%d9%8a%d9%86-5-%d9%83%d9%8a%d9%84%d9%88-%d8%ac%d9%8a-%d9%81%d9%8a-%d8%b3%d9%8a-%d8%a8%d8%b1%d9%88-%d8%a3%d8%a8%d9%8a%d8%b6/\n",
      "Count: 96\n",
      "URL: https://alassly.com/product/%d8%b9%d8%ac%d8%a7%d9%86%d8%a9-%d9%83%d9%87%d8%b1%d8%a8%d8%a7%d8%a6%d9%8a%d8%a9-%d8%ac%d9%8a-%d9%81%d9%8a-%d8%b3%d9%8a-%d8%a8%d8%b1%d9%88-1100-%d9%88%d8%a7%d8%aa-%d8%a3%d8%ad%d9%85%d8%b1/\n",
      "Count: 97\n",
      "URL: https://alassly.com/product/%d9%82%d9%84%d8%a7%d9%8a%d8%a9-%d8%a8%d8%af%d9%88%d9%86-%d8%b2%d9%8a%d8%aa-%d8%ac%d9%8a-%d9%81%d9%8a-%d8%b3%d9%8a-%d8%a8%d8%b1%d9%88-%d8%af%d9%8a%d8%ac%d9%8a%d8%aa%d8%a7%d9%84-9-%d9%84%d8%aa%d8%b1-2/\n",
      "Count: 98\n",
      "URL: https://alassly.com/product/%d8%ba%d8%b3%d8%a7%d9%84%d8%a9-%d8%ad%d9%88%d8%b6%d9%8a%d9%86-12-%d9%83%d9%8a%d9%84%d9%88-%d8%ac%d9%8a-%d9%81%d9%8a-%d8%b3%d9%8a-%d8%a8%d8%b1%d9%88-%d8%a3%d8%a8%d9%8a%d8%b6/\n",
      "Count: 99\n",
      "URL: https://alassly.com/product/%d8%ba%d8%b3%d8%a7%d9%84%d8%a9-11-%d9%83%d9%8a%d9%84%d9%88-%d8%ac%d9%8a-%d9%81%d9%8a-%d8%b3%d9%8a-%d8%a8%d8%b1%d9%88-%d8%b9%d9%84%d9%88%d9%8a%d8%a9-%d9%81%d8%b6%d9%8a/\n",
      "Count: 100\n",
      "URL: https://alassly.com/product/%d8%b7%d8%a8%d8%a7%d8%ae-%d9%83%d9%87%d8%b1%d8%a8%d8%a7%d8%a6%d9%8a-%d8%ac%d9%8a-%d9%81%d9%8a-%d8%b3%d9%8a-%d8%a8%d8%b1%d9%88-1-%d8%b9%d9%8a%d9%86-1000-%d9%88%d8%a7%d8%aa/\n",
      "Count: 101\n",
      "URL: https://alassly.com/product/%d8%b9%d8%ac%d8%a7%d9%86%d8%a9-%d9%83%d9%87%d8%b1%d8%a8%d8%a7%d8%a6%d9%8a%d8%a9-%d8%ac%d9%8a-%d9%81%d9%8a-%d8%b3%d9%8a-%d8%a8%d8%b1%d9%88-1100-%d9%88%d8%a7%d8%aa-%d9%81%d8%b6%d9%8a/\n",
      "Count: 102\n",
      "URL: https://alassly.com/product/%d8%ba%d8%b3%d8%a7%d9%84%d8%a9-13-%d9%83%d9%8a%d9%84%d9%88-%d8%ac%d9%8a-%d9%81%d9%8a-%d8%b3%d9%8a-%d8%a8%d8%b1%d9%88-%d8%b9%d9%84%d9%88%d9%8a%d8%a9-%d9%81%d8%b6%d9%8a/\n",
      "Count: 103\n",
      "URL: https://alassly.com/product/%d8%b5%d8%a7%d9%86%d8%b9%d8%a9-%d8%a7%d9%84%d8%a7%d8%b3%d8%a8%d8%b1%d9%8a%d8%b3%d9%88-%d9%85%d9%86-%d8%ac%d9%8a-%d9%81%d9%8a-%d8%b3%d9%8a-%d8%a8%d8%b1%d9%88-1400%d9%88%d8%a7%d8%aa-%d8%b0%d9%87%d8%a8/\n",
      "Count: 104\n",
      "URL: https://alassly.com/product/%d8%b7%d8%a8%d8%a7%d8%ae-%d9%83%d9%87%d8%b1%d8%a8%d8%a7%d8%a6%d9%8a-%d8%ac%d9%8a-%d9%81%d9%8a-%d8%b3%d9%8a-%d8%a8%d8%b1%d9%88-1500-%d9%88%d8%a7%d8%aa-%d9%81%d8%b6%d9%8a/\n",
      "Count: 105\n",
      "URL: https://alassly.com/product/%d8%b9%d8%ac%d8%a7%d9%86%d8%a9-%d9%83%d9%87%d8%b1%d8%a8%d8%a7%d8%a6%d9%8a%d8%a9-%d8%ac%d9%8a-%d9%81%d9%8a-%d8%b3%d9%8a-%d8%a8%d8%b1%d9%88-6-5-%d9%84%d8%aa%d8%b1-1100-%d9%88%d8%a7%d8%aa/\n",
      "Count: 106\n",
      "URL: https://alassly.com/product/%d8%a8%d8%b1%d8%a7%d8%af%d8%a9-%d9%85%d8%a7%d8%a1-%d8%ac%d9%8a-%d9%81%d9%8a-%d8%b3%d9%8a-%d8%a8%d8%b1%d9%88-%d8%b3%d8%aa%d8%a7%d9%86%d8%af-%d8%ad%d8%a7%d8%b1-%d8%a8%d8%a7%d8%b1%d8%af-%d8%a3%d8%a8/\n",
      "Count: 107\n",
      "URL: https://alassly.com/product/%d8%b7%d8%a8%d8%a7%d8%ae-%d9%83%d9%87%d8%b1%d8%a8%d8%a7%d8%a6%d9%8a-%d8%b9%d9%8a%d9%86%d9%8a%d9%86-%d8%ac%d9%8a-%d9%81%d9%8a-%d8%b3%d9%8a-%d8%a8%d8%b1%d9%88-2000-%d9%88%d8%a7%d8%aa/\n",
      "Count: 108\n",
      "URL: https://alassly.com/product/%d8%a8%d8%b1%d8%a7%d8%af%d8%a9-%d9%85%d8%a7%d8%a1-%d8%ac%d9%8a-%d9%81%d9%8a-%d8%b3%d9%8a-%d8%a8%d8%b1%d9%88-%d8%b7%d8%a7%d9%88%d9%84%d8%a9-%d8%ad%d8%a7%d8%b1-%d8%a8%d8%a7%d8%b1%d8%af-%d8%a3%d8%a8/\n",
      "Count: 109\n",
      "URL: https://alassly.com/product/%d8%b5%d8%a7%d9%86%d8%b9%d8%a9-%d8%a7%d9%84%d8%a7%d8%b3%d8%a8%d8%b1%d9%8a%d8%b3%d9%88-%d8%ac%d9%8a-%d9%81%d9%8a-%d8%b3%d9%8a-%d8%a8%d8%b1%d9%88-1400-%d9%88%d8%a7%d8%aa-%d8%a3%d8%ad%d9%85/\n",
      "Count: 110\n",
      "URL: https://alassly.com/product/%d8%b9%d8%ac%d8%a7%d9%86%d8%a9-%d9%83%d9%87%d8%b1%d8%a8%d8%a7%d8%a6%d9%8a%d8%a9-%d8%ac%d9%8a-%d9%81%d9%8a-%d8%b3%d9%8a-%d8%a8%d8%b1%d9%88-%d9%87%d8%a7%d9%8a%d8%a8%d8%b1-1100-%d9%88%d8%a7%d8%aa/\n",
      "Count: 111\n",
      "URL: https://alassly.com/product/%d8%a8%d8%b1%d8%a7%d8%af%d8%a9-%d9%85%d8%a7%d8%a1-%d8%ac%d9%8a-%d9%81%d9%8a-%d8%b3%d9%8a-%d8%a8%d8%b1%d9%88-%d8%b3%d8%aa%d8%a7%d9%86%d8%af-%d8%ad%d8%a7%d8%b1-%d8%a8%d8%a7%d8%b1%d8%af-%d8%a3%d8%b3/\n",
      "Count: 112\n",
      "URL: https://alassly.com/product/%d8%b7%d8%a8%d8%a7%d8%ae-%d9%83%d9%87%d8%b1%d8%a8%d8%a7%d8%a6%d9%8a-%d8%ac%d9%8a-%d9%81%d9%8a-%d8%b3%d9%8a-%d8%a8%d8%b1%d9%88-2-%d8%b4%d8%b9%d9%84%d8%a9-%d9%81%d8%b6%d9%8a/\n",
      "Count: 113\n",
      "URL: https://alassly.com/product/%d8%b9%d8%ac%d8%a7%d9%86%d8%a9-%d9%83%d9%87%d8%b1%d8%a8%d8%a7%d8%a6%d9%8a%d8%a9-%d8%ac%d9%8a-%d9%81%d9%8a-%d8%b3%d9%8a-%d8%a8%d8%b1%d9%88-7-5-%d9%84%d8%aa%d8%b1-1100-%d9%88%d8%a7%d8%aa/\n",
      "Count: 114\n",
      "URL: https://alassly.com/product/%d8%b5%d8%a7%d9%86%d8%b9%d8%a9-%d8%a7%d9%84%d8%a7%d8%b3%d8%a8%d8%b1%d9%8a%d8%b3%d9%88-%d8%ac%d9%8a-%d9%81%d9%8a-%d8%b3%d9%8a-%d8%a8%d8%b1%d9%88-1400-%d9%88%d8%a7%d8%aa-%d8%b3%d8%aa%d9%8a/\n",
      "Count: 115\n",
      "URL: https://alassly.com/product/%d8%a8%d8%b1%d8%a7%d8%af%d8%a9-%d9%85%d8%a7%d8%a1-%d8%b3%d8%aa%d8%a7%d9%86%d8%af-%d8%ac%d9%8a-%d9%81%d9%8a-%d8%b3%d9%8a-%d8%a8%d8%b1%d9%88-%d8%ad%d8%a7%d8%b1-%d8%a8%d8%a7%d8%b1%d8%af-%d8%a3%d8%b3/\n",
      "Count: 116\n",
      "URL: https://alassly.com/product/%d8%b7%d9%86%d8%ac%d8%b1%d8%a9-%d8%b6%d8%ba%d8%b7-%d9%83%d9%87%d8%b1%d8%a8%d8%a7%d8%a6%d9%8a%d8%a9-%d8%ac%d9%8a-%d9%81%d9%8a-%d8%b3%d9%8a-%d8%a8%d8%b1%d9%88-6-%d9%84%d8%aa%d8%b1/\n",
      "Count: 117\n",
      "URL: https://alassly.com/product/%d8%b9%d8%ac%d8%a7%d9%86%d8%a9-%d9%83%d9%87%d8%b1%d8%a8%d8%a7%d8%a6%d9%8a%d8%a9-%d8%ac%d9%8a-%d9%81%d9%8a-%d8%b3%d9%8a-%d8%a8%d8%b1%d9%88-7-5-%d9%84%d8%aa%d8%b1-%d8%b1%d9%85%d8%a7%d8%af%d9%8a/\n",
      "Count: 118\n",
      "URL: https://alassly.com/product/%d8%b5%d8%a7%d9%86%d8%b9%d8%a9-%d8%a7%d9%84%d9%82%d9%87%d9%88%d8%a9-%d9%83%d8%a8%d8%b3%d9%88%d9%84%d8%a7%d8%aa-%d8%ac%d9%8a-%d9%81%d9%8a-%d8%b3%d9%8a-%d8%a8%d8%b1%d9%88-31-1400-%d9%88%d8%a7%d8%aa/\n",
      "Count: 119\n",
      "URL: https://alassly.com/product/%d8%b7%d9%86%d8%ac%d8%b1%d8%a9-%d8%b6%d8%ba%d8%b7-%d9%83%d9%87%d8%b1%d8%a8%d8%a7%d8%a6%d9%8a%d8%a9-%d8%ac%d8%b1%d8%a7%d9%86%d9%8a%d8%aa-%d8%ac%d9%8a-%d9%81%d9%8a-%d8%b3%d9%8a-%d8%a8%d8%b1%d9%88-6/\n",
      "Count: 120\n",
      "URL: https://alassly.com/product/%d8%b5%d8%a7%d9%86%d8%b9%d8%a9-%d8%a7%d9%84%d9%82%d9%87%d9%88%d8%a9-%d9%83%d8%a8%d8%b3%d9%88%d9%84%d8%a7%d8%aa-%d8%ac%d9%8a-%d9%81%d9%8a-%d8%b3%d9%8a-%d8%a8%d8%b1%d9%88-31-1400-%d9%88%d8%a7%d8%aa-2/\n",
      "Count: 121\n",
      "URL: https://alassly.com/product/%d8%b9%d8%ac%d8%a7%d9%86%d8%a9-%d9%83%d9%87%d8%b1%d8%a8%d8%a7%d8%a6%d9%8a%d8%a9-%d9%88%d9%85%d8%ad%d8%b6%d8%b1-%d8%b7%d8%b9%d8%a7%d9%85-%d8%ac%d9%8a-%d9%81%d9%8a-%d8%b3%d9%8a-%d8%a8%d8%b1%d9%88-31/\n",
      "Count: 122\n",
      "URL: https://alassly.com/product/%d8%b7%d9%86%d8%ac%d8%b1%d8%a9-%d8%b6%d8%ba%d8%b7-%d9%83%d9%87%d8%b1%d8%a8%d8%a7%d8%a6%d9%8a%d8%a9-%d8%ac%d9%8a-%d9%81%d9%8a-%d8%b3%d9%8a-%d8%a8%d8%b1%d9%88-8-%d9%84%d8%aa%d8%b1/\n",
      "Count: 123\n",
      "URL: https://alassly.com/product/%d8%ae%d8%a8%d8%a7%d8%b2%d8%a9-%d9%83%d9%87%d8%b1%d8%a8%d8%a7%d8%a6%d9%8a%d8%a9-%d8%ac%d9%8a-%d9%81%d9%8a-%d8%b3%d9%8a-%d8%a8%d8%b1%d9%88-30-%d8%b3%d9%85-1800-%d9%88%d8%a7%d8%aa-%d8%a3%d8%ad%d9%85/\n",
      "Count: 124\n",
      "URL: https://alassly.com/product/%d8%ae%d8%a8%d8%a7%d8%b2%d8%a9-%d9%83%d9%87%d8%b1%d8%a8%d8%a7%d8%a6%d9%8a%d8%a9-%d8%ac%d9%8a-%d9%81%d9%8a-%d8%b3%d9%8a-%d8%a8%d8%b1%d9%88-30-%d8%b3%d9%85-1800-%d9%88%d8%a7%d8%aa-%d8%a3%d8%a8%d9%8a/\n",
      "Count: 125\n",
      "URL: https://alassly.com/product/%d8%b7%d9%86%d8%ac%d8%b1%d8%a9-%d8%b6%d8%ba%d8%b7-%d9%83%d9%87%d8%b1%d8%a8%d8%a7%d8%a6%d9%8a%d8%a9-%d8%ac%d8%b1%d8%a7%d9%86%d9%8a%d8%aa-%d8%ac%d9%8a-%d9%81%d9%8a-%d8%b3%d9%8a-%d8%a8%d8%b1%d9%88-8/\n",
      "Count: 126\n",
      "URL: https://alassly.com/product/%d9%82%d8%af%d8%b1-%d8%b6%d8%ba%d8%b7-%d9%83%d9%87%d8%b1%d8%a8%d8%a7%d8%a6%d9%8a-%d8%ac%d9%8a-%d9%81%d9%8a-%d8%b3%d9%8a-%d8%a8%d8%b1%d9%88-10-%d9%84%d8%aa%d8%b1/\n",
      "Count: 127\n",
      "URL: https://alassly.com/product/%d8%ae%d9%84%d8%a7%d8%b7-%d9%83%d9%87%d8%b1%d8%a8%d8%a7%d8%a6%d9%8a-%d8%ac%d9%8a-%d9%81%d9%8a-%d8%b3%d9%8a-%d8%a8%d8%b1%d9%88-600%d9%88%d8%a7%d8%aa-%d8%ac%d9%83-%d8%b2%d8%ac%d8%a7%d8%ac%d9%8a-%d9%85/\n",
      "Count: 128\n",
      "URL: https://alassly.com/product/%d9%82%d8%b7%d8%a7%d8%b9%d8%a9-%d8%ae%d8%b6%d8%a7%d8%b1-%d9%88-%d9%85%d9%81%d8%b1%d9%85%d8%a9-%d9%83%d9%87%d8%b1%d8%a8%d8%a7%d8%a6%d9%8a%d8%a9-%d8%ac%d9%8a-%d9%81%d9%8a-%d8%b3%d9%8a-%d8%a8%d8%b1%d9%88/\n",
      "Count: 129\n",
      "URL: https://alassly.com/product/%d9%82%d8%af%d8%b1-%d8%b6%d8%ba%d8%b7-%d9%83%d9%87%d8%b1%d8%a8%d8%a7%d8%a6%d9%8a-%d8%ac%d8%b1%d8%a7%d9%86%d9%8a%d8%aa-%d8%ac%d9%8a-%d9%81%d9%8a-%d8%b3%d9%8a-%d8%a8%d8%b1%d9%88-10-%d9%84%d8%aa%d8%b1/\n",
      "Count: 130\n",
      "URL: https://alassly.com/product/%d8%ae%d9%84%d8%a7%d8%b7-%d9%83%d9%87%d8%b1%d8%a8%d8%a7%d8%a6%d9%8a-%d8%ac%d9%8a-%d9%81%d9%8a-%d8%b3%d9%8a-%d8%a8%d8%b1%d9%88-%d9%85%d8%b9-%d9%85%d8%b7%d8%ad%d9%86%d8%aa%d9%8a%d9%86-400-%d9%88%d8%a7/\n",
      "Count: 131\n",
      "URL: https://alassly.com/product/%d9%82%d8%b7%d8%a7%d8%b9%d8%a9-%d8%ae%d8%b6%d8%a7%d8%b1-%d9%88-%d9%85%d9%81%d8%b1%d9%85%d8%a9-%d9%83%d9%87%d8%b1%d8%a8%d8%a7%d8%a6%d9%8a%d8%a9-gvc-pro-%d8%b4%d9%81%d8%b1%d8%aa%d9%8a%d9%86-450-%d9%88/\n",
      "Count: 132\n",
      "URL: https://alassly.com/product/%d9%82%d8%af%d8%b1-%d8%b6%d8%ba%d8%b7-%d9%83%d9%87%d8%b1%d8%a8%d8%a7%d8%a6%d9%8a-%d8%ac%d9%8a-%d9%81%d9%8a-%d8%b3%d9%8a-%d8%a8%d8%b1%d9%88-12-%d9%84%d8%aa%d8%b1/\n",
      "Count: 133\n",
      "URL: https://alassly.com/product/%d8%ae%d9%84%d8%a7%d8%b7-%d9%83%d9%87%d8%b1%d8%a8%d8%a7%d8%a6%d9%8a-%d8%ac%d9%8a-%d9%81%d9%8a-%d8%b3%d9%8a-%d8%a8%d8%b1%d9%88-%d8%ac%d9%83-%d9%85%d8%b9-%d9%85%d8%b7%d8%ad%d9%86%d9%87-400-%d9%88/\n",
      "Count: 134\n",
      "URL: https://alassly.com/product/%d8%ae%d8%a8%d8%a7%d8%b2%d8%a9-%d9%83%d9%87%d8%b1%d8%a8%d8%a7%d8%a6%d9%8a%d8%a9-%d8%ac%d9%8a-%d9%81%d9%8a-%d8%b3%d9%8a-%d8%a8%d8%b1%d9%88-1800-%d9%88%d8%a7%d8%aa-%d8%a7%d8%a8%d9%8a%d8%b6/\n",
      "Count: 135\n",
      "URL: https://alassly.com/product/%d8%ae%d9%84%d8%a7%d8%b7-%d9%83%d9%87%d8%b1%d8%a8%d8%a7%d8%a6%d9%8a-%d8%ac%d9%8a-%d9%81%d9%8a-%d8%b3%d9%8a-%d8%a8%d8%b1%d9%88-%d8%ac%d9%83-%d9%85%d8%b9-%d9%85%d8%b7%d8%ad%d9%86%d9%87-600-%d9%88/\n",
      "Count: 136\n",
      "URL: https://alassly.com/product/%d8%b5%d8%a7%d9%86%d8%b9%d8%a9-%d8%a7%d9%84%d8%af%d9%88%d9%86%d8%a7%d8%aa-%d8%ac%d9%8a-%d9%81%d9%8a-%d8%b3%d9%8a-%d8%a8%d8%b1%d9%88-100-%d9%88%d8%a7%d8%aa/\n",
      "Count: 137\n",
      "URL: https://alassly.com/product/%d8%b9%d8%b5%d8%a7%d8%b1%d9%87-%d9%81%d9%88%d8%a7%d9%83%d8%a9-%d9%83%d9%87%d8%b1%d8%a8%d8%a7%d8%a6%d9%8a%d8%a9-%d8%ac%d9%8a-%d9%81%d9%8a-%d8%b3%d9%8a-%d8%a8%d8%b1%d9%88-500-%d9%88%d8%a7%d8%aa/\n",
      "Count: 138\n",
      "URL: https://alassly.com/product/%d9%82%d8%b7%d8%a7%d8%b9%d8%a9-%d8%ae%d8%b6%d8%a7%d8%b1-%d9%88-%d9%85%d9%81%d8%b1%d9%85%d8%a9-%d9%83%d9%87%d8%b1%d8%a8%d8%a7%d8%a6%d9%8a%d8%a9-gvc-pro-%d8%b3%d8%b1%d8%b9%d8%aa%d8%a7%d9%86-450-%d9%88/\n",
      "Count: 139\n",
      "URL: https://alassly.com/product/%d9%85%d8%b7%d8%ad%d9%86%d9%87-%d9%82%d9%87%d9%88%d9%87-%d8%ac%d9%8a-%d9%81%d9%8a-%d8%b3%d9%8a-%d8%a8%d8%b1%d9%88-200-%d9%88%d8%a7%d8%aa-%d8%a3%d8%a8%d9%8a%d8%b6/\n",
      "Count: 140\n",
      "URL: https://alassly.com/product/%d8%ba%d9%84%d8%a7%d9%8a%d8%a9-%d9%85%d9%88%d9%8a%d9%87-%d8%ac%d9%8a-%d9%81%d9%8a-%d8%b3%d9%8a-%d8%a8%d8%b1%d9%88-3-%d9%84%d8%aa%d8%b1-1800-%d9%88%d8%a7%d8%aa/\n",
      "Count: 141\n",
      "URL: https://alassly.com/product/%d8%ae%d9%84%d8%a7%d8%b7-4-%d9%81%d9%8a-1-%d9%88-%d8%b9%d8%b5%d8%a7%d8%b1%d8%a9-%d8%ac%d9%8a-%d9%81%d9%8a-%d8%b3%d9%8a-%d8%a8%d8%b1%d9%88-400-%d9%88%d8%a7%d8%aa-1-5-%d9%84%d8%aa%d8%b1/\n",
      "Count: 142\n",
      "URL: https://alassly.com/product/%d9%85%d8%b7%d8%ad%d9%86%d9%87-%d9%82%d9%87%d9%88%d9%87-%d8%ac%d9%8a-%d9%81%d9%8a-%d8%b3%d9%8a-%d8%a8%d8%b1%d9%88-200-%d9%88%d8%a7%d8%aa-%d8%a3%d8%b3%d9%88%d8%af/\n",
      "Count: 143\n",
      "URL: https://alassly.com/product/%d9%85%d9%83%d9%8a%d9%81-%d8%b4%d8%a8%d8%a7%d9%83-18000-%d9%88%d8%ad%d8%af%d8%a9-%d8%ac%d9%8a-%d9%81%d9%8a-%d8%b3%d9%8a-%d8%a8%d8%b1%d9%88-%d8%a8%d8%a7%d8%b1%d8%af/\n",
      "Count: 144\n",
      "URL: https://alassly.com/product/%d9%85%d8%b7%d8%ad%d9%86%d9%87-%d9%82%d9%87%d9%88%d9%87-%d8%ac%d9%8a-%d9%81%d9%8a-%d8%b3%d9%8a-%d8%a8%d8%b1%d9%88-200-%d9%88%d8%a7%d8%aa-%d8%a8%d8%b1%d8%aa%d9%82%d8%a7%d9%84%d9%8a/\n",
      "Count: 145\n",
      "URL: https://alassly.com/product/%d8%ae%d9%84%d8%a7%d8%b7-3-%d9%81%d9%8a-1-%d8%ac%d9%8a-%d9%81%d9%8a-%d8%b3%d9%8a-%d8%a8%d8%b1%d9%88-400-%d9%88%d8%a7%d8%aa-2-%d8%b3%d8%b1%d8%b9%d8%a9-1-6-%d9%84%d8%aa%d8%b1/\n",
      "Count: 146\n",
      "URL: https://alassly.com/product/%d8%ba%d9%84%d8%a7%d9%8a%d8%a9-%d9%85%d8%a7%d8%a1-%d9%81%d9%86%d8%a7%d8%af%d9%82-%d8%ac%d9%8a-%d9%81%d9%8a-%d8%b3%d9%8a-%d8%a8%d8%b1%d9%88-1-5-%d9%84%d8%aa%d8%b1-%d9%85%d8%b9-%d9%83%d9%88%d8%a8%d9%8a/\n",
      "Count: 147\n",
      "URL: https://alassly.com/product/%d8%ba%d9%84%d8%a7%d9%8a%d8%a9-%d9%85%d8%a7%d8%a1-%d8%ac%d9%8a-%d9%81%d9%8a-%d8%b3%d9%8a-%d8%a8%d8%b1%d9%88-1-8-%d9%84%d8%aa%d8%b1/\n",
      "Count: 148\n",
      "URL: https://alassly.com/product/%d9%85%d9%83%d9%8a%d9%81-%d8%b3%d8%a8%d9%84%d9%8a%d8%aa-24000-%d9%88%d8%ad%d8%af%d8%a9-%d8%ac%d9%8a-%d9%81%d9%8a-%d8%b3%d9%8a-%d8%a8%d8%b1%d9%88-%d8%a8%d8%a7%d8%b1%d8%af/\n",
      "Count: 149\n",
      "URL: https://alassly.com/product/%d9%85%d9%83%d9%8a%d9%81-%d8%b4%d8%a8%d8%a7%d9%83-24000-%d9%88%d8%ad%d8%af%d8%a9-%d8%ac%d9%8a-%d9%81%d9%8a-%d8%b3%d9%8a-%d8%a8%d8%b1%d9%88-%d8%a8%d8%a7%d8%b1%d8%af/\n",
      "Count: 150\n",
      "URL: https://alassly.com/product/%d9%85%d9%83%d9%8a%d9%81-%d8%b3%d8%a8%d9%8a%d9%84%d8%aa-18000-%d9%88%d8%ad%d8%af%d8%a9-%d8%ac%d9%8a-%d9%81%d9%8a-%d8%b3%d9%8a-%d8%a8%d8%b1%d9%88-%d8%a8%d8%a7%d8%b1%d8%af/\n",
      "Count: 151\n",
      "URL: https://alassly.com/product/%d9%85%d9%83%d9%8a%d9%81-%d8%b3%d8%a8%d9%8a%d9%84%d8%aa-18000-%d9%88%d8%ad%d8%af%d8%a9-%d8%ac%d9%8a-%d9%81%d9%8a-%d8%b3%d9%8a-%d8%a8%d8%b1%d9%88-%d8%ad%d8%a7%d8%b1-%d8%a8%d8%a7%d8%b1%d8%af/\n",
      "Count: 152\n",
      "URL: https://alassly.com/product/%d9%81%d8%b1%d9%8a%d8%b2%d8%b1-%d8%b9%d8%a7%d9%85%d9%88%d8%af%d9%8a-%d8%ac%d9%8a-%d9%81%d9%8a-%d8%b3%d9%8a-%d8%a8%d8%b1%d9%88-15-5-%d9%82%d8%af%d9%85/\n",
      "Count: 153\n",
      "URL: https://alassly.com/product/%d9%81%d8%b1%d9%8a%d8%b2%d8%b1-%d8%b9%d8%a7%d9%85%d9%88%d8%af%d9%8a-%d8%ac%d9%8a-%d9%81%d9%8a-%d8%b3%d9%8a-%d8%a8%d8%b1%d9%88-15-5-%d9%82%d8%af%d9%85-%d8%a3%d8%a8%d9%8a%d8%b6/\n",
      "Count: 154\n",
      "URL: https://alassly.com/product/%d9%81%d8%b1%d9%86-%d9%83%d9%87%d8%b1%d8%a8%d8%a7%d8%a6%d9%8a-%d8%ac%d9%8a-%d9%81%d9%8a-%d8%b3%d9%8a-%d8%a8%d8%b1%d9%88-35-%d9%84%d8%aa%d8%b1-1600-%d9%88%d8%a7%d8%aa/\n",
      "Count: 155\n",
      "URL: https://alassly.com/product/%d8%ba%d8%b3%d8%a7%d9%84%d8%a9-%d8%ad%d9%88%d8%b6%d9%8a%d9%86-7-%d9%83%d9%8a%d9%84%d9%88-%d8%ac%d9%8a-%d9%81%d9%8a-%d8%b3%d9%8a-%d8%a8%d8%b1%d9%88-%d8%a3%d8%a8%d9%8a%d8%b6/\n",
      "Count: 156\n",
      "URL: https://alassly.com/product/%d9%81%d8%b1%d9%86-%d9%83%d9%87%d8%b1%d8%a8%d8%a7%d8%a6%d9%8a-%d8%ac%d9%8a-%d9%81%d9%8a-%d8%b3%d9%8a-%d8%a8%d8%b1%d9%88-45-%d9%84%d8%aa%d8%b1-1800-%d9%88%d8%a7%d8%aa/\n",
      "Count: 157\n",
      "URL: https://alassly.com/product/%d8%ba%d8%b3%d8%a7%d9%84%d8%a9-%d8%ad%d9%88%d8%b6%d9%8a%d9%86-10-%d9%83%d9%8a%d9%84%d9%88-%d8%ac%d9%8a-%d9%81%d9%8a-%d8%b3%d9%8a-%d8%a8%d8%b1%d9%88-%d8%a3%d8%a8%d9%8a%d8%b6/\n",
      "Count: 158\n",
      "URL: https://alassly.com/product/%d8%b3%d8%ae%d8%a7%d9%86-%d8%a7%d9%84%d8%b3%d8%a7%d9%86%d8%af%d9%88%d9%8a%d8%aa%d8%b4-%d8%ac%d9%8a-%d9%81%d9%8a-%d8%b3%d9%8a-%d8%a8%d8%b1%d9%88-750-%d9%88%d8%a7%d8%aa/\n",
      "Count: 159\n",
      "URL: https://alassly.com/product/%d8%ba%d8%b3%d8%a7%d9%84%d8%a9-%d8%ad%d9%88%d8%b6%d9%8a%d9%86-14-%d9%83%d9%8a%d9%84%d9%88-%d8%ac%d9%8a-%d9%81%d9%8a-%d8%b3%d9%8a-%d8%a8%d8%b1%d9%88-%d8%a3%d8%a8%d9%8a%d8%b6/\n",
      "Count: 160\n",
      "URL: https://alassly.com/product/%d8%b5%d8%a7%d9%86%d8%b9%d8%a9-%d9%88%d8%a7%d9%81%d9%84-%d8%ac%d9%8a-%d9%81%d9%8a-%d8%b3%d9%8a-%d8%a8%d8%b1%d9%88-31-1400-%d9%88%d8%a7%d8%aa/\n",
      "Count: 161\n",
      "URL: https://alassly.com/product/%d8%b3%d8%ae%d8%a7%d9%86-%d8%a7%d9%84%d8%b3%d8%a7%d9%86%d8%af%d9%88%d9%8a%d8%aa%d8%b4-%d8%ac%d9%8a-%d9%81%d9%8a-%d8%b3%d9%8a-%d8%a8%d8%b1%d9%88-31-1400-%d9%88%d8%a7%d8%aa/\n",
      "Count: 162\n",
      "URL: https://alassly.com/product/%d8%b3%d8%ae%d8%a7%d9%86-%d8%a7%d9%84%d8%b3%d8%a7%d9%86%d8%af%d9%88%d9%8a%d8%aa%d8%b4-%d8%ac%d9%8a-%d9%81%d9%8a-%d8%b3%d9%8a-%d8%a8%d8%b1%d9%88-31-800-%d9%88%d8%a7%d8%aa/\n",
      "Count: 163\n",
      "URL: https://alassly.com/product/%d8%b5%d8%a7%d9%86%d8%b9%d8%a9-%d9%88%d8%a7%d9%81%d9%84-%d8%ac%d9%8a-%d9%81%d9%8a-%d8%b3%d9%8a-%d8%a8%d8%b1%d9%88-750-%d9%88%d8%a7%d8%aa/\n",
      "Count: 164\n",
      "URL: https://alassly.com/product/%d8%b5%d8%a7%d9%86%d8%b9%d8%a9-%d9%88%d8%a7%d9%81%d9%84-%d8%ac%d9%8a-%d9%81%d9%8a-%d8%b3%d9%8a-%d8%a8%d8%b1%d9%88-1000-%d9%88%d8%a7%d8%aa/\n",
      "Count: 165\n",
      "URL: https://alassly.com/product/%d8%b4%d9%88%d8%a7%d9%8a%d8%a9-%d9%83%d9%87%d8%b1%d8%a8%d8%a7%d8%a6%d9%8a%d8%a9-%d8%ac%d9%8a-%d9%81%d9%8a-%d8%b3%d9%8a-%d8%a8%d8%b1%d9%88-750-%d9%88%d8%a7%d8%aa/\n",
      "Count: 166\n",
      "URL: https://alassly.com/product/%d8%ba%d9%84%d8%a7%d9%8a%d8%a9-%d9%85%d8%a7%d8%a1-%d9%83%d9%87%d8%b1%d8%a8%d8%a7%d8%a6%d9%8a%d8%a9-gvc-pro-%d8%b2%d8%ac%d8%a7%d8%ac-1-8-%d9%84%d8%aa%d8%b1-1500-%d9%88%d8%a7%d8%aa/\n",
      "Count: 167\n",
      "URL: https://alassly.com/product/%d9%85%d9%83%d9%8a%d9%81-%d8%b3%d8%a8%d9%84%d9%8a%d8%aa-24000-%d9%88%d8%ad%d8%af%d8%a9-%d8%ac%d9%8a-%d9%81%d9%8a-%d8%b3%d9%8a-%d8%a8%d8%b1%d9%88-%d8%ad%d8%a7%d8%b1-%d8%a8%d8%a7%d8%b1%d8%af/\n",
      "Count: 168\n",
      "URL: https://alassly.com/product/%d8%b5%d8%a7%d9%86%d8%b9%d8%a9-%d8%a7%d9%84%d9%82%d9%87%d9%88%d8%a9-%d9%83%d8%a8%d8%b3%d9%88%d9%84%d8%a7%d8%aa-%d8%ac%d9%8a-%d9%81%d9%8a-%d8%b3%d9%8a-%d8%a8%d8%b1%d9%88-31-%d8%a3%d8%ad%d9%85%d8%b1-2/\n",
      "Count: 169\n",
      "URL: https://alassly.com/product/%d8%b5%d8%a7%d9%86%d8%b9%d8%a9-%d8%a7%d9%84%d9%82%d9%87%d9%88%d8%a9-%d9%83%d8%a8%d8%b3%d9%88%d9%84%d8%a7%d8%aa-%d8%ac%d9%8a-%d9%81%d9%8a-%d8%b3%d9%8a-%d8%a8%d8%b1%d9%88-31-%d8%a3%d8%b3%d9%88%d8%af/\n",
      "Count: 170\n",
      "URL: https://alassly.com/product/%d8%b5%d8%a7%d9%86%d8%b9%d8%a9-%d8%a7%d9%84%d9%82%d9%87%d9%88%d8%a9-%d9%83%d8%a8%d8%b3%d9%88%d9%84%d8%a7%d8%aa-%d8%ac%d9%8a-%d9%81%d9%8a-%d8%b3%d9%8a-%d8%a8%d8%b1%d9%88-31-1450-%d9%88%d8%a7%d8%aa/\n",
      "Count: 171\n",
      "URL: https://alassly.com/product/%d9%85%d8%b1%d9%88%d8%ad%d8%a9-%d8%b7%d8%a7%d9%88%d9%84%d8%a9-%d8%ac%d9%8a-%d9%81%d9%8a-%d8%b3%d9%8a-%d8%a8%d8%b1%d9%88-14-%d8%a8%d9%88%d8%b5%d8%a9/\n",
      "Count: 172\n",
      "URL: https://alassly.com/product/%d8%b5%d8%a7%d9%86%d8%b9%d8%a9-%d8%a7%d9%84%d9%82%d9%87%d9%88%d8%a9-%d9%83%d8%a8%d8%b3%d9%88%d9%84%d8%a7%d8%aa-%d8%ac%d9%8a-%d9%81%d9%8a-%d8%b3%d9%8a-%d8%a8%d8%b1%d9%88-31-%d8%a3%d8%ad%d9%85%d8%b1/\n",
      "Count: 173\n",
      "URL: https://alassly.com/product/%d8%b4%d9%88%d8%a7%d9%8a%d8%a9-%d9%83%d9%87%d8%b1%d8%a8%d8%a7%d8%a6%d9%8a%d8%a9-%d8%ac%d9%8a-%d9%81%d9%8a-%d8%b3%d9%8a-%d8%a8%d8%b1%d9%88-1600-%d9%88%d8%a7%d8%aa/\n",
      "Count: 174\n",
      "URL: https://alassly.com/product/%d8%b4%d9%88%d8%a7%d9%8a%d8%a9-%d9%83%d9%87%d8%b1%d8%a8%d8%a7%d8%a6%d9%8a%d8%a9-%d8%ac%d9%8a-%d9%81%d9%8a-%d8%b3%d9%8a-%d8%a8%d8%b1%d9%88-2200-%d9%88%d8%a7%d8%aa/\n",
      "Count: 175\n",
      "URL: https://alassly.com/product/%d9%85%d9%83%d9%86%d8%b3%d8%a9-%d9%83%d9%87%d8%b1%d8%a8%d8%a7%d8%a6%d9%8a%d8%a9-%d8%a8%d8%b7%d8%a9-%d8%ac%d9%8a-%d9%81%d9%8a-%d8%b3%d9%8a-%d8%a8%d8%b1%d9%88-%d8%a8%d8%af%d9%88%d9%86-%d9%83%d9%8a%d8%b3/\n",
      "Count: 176\n",
      "URL: https://alassly.com/product/%d8%b3%d8%aa%d8%a7%d8%b1%d8%a9-%d9%87%d9%88%d8%a7%d8%a6%d9%8a%d8%a9-%d8%ac%d9%8a-%d9%81%d9%8a-%d8%b3%d9%8a-%d8%a8%d8%b1%d9%88-150%d8%b3%d9%85/\n",
      "Count: 177\n",
      "URL: https://alassly.com/product/%d9%85%d9%85%d9%84%d8%b3-%d8%a7%d9%84%d8%b4%d8%b9%d8%b1-%d8%b3%d9%8a%d8%b1%d8%a7%d9%85%d9%8a%d9%83-%d8%ac%d9%8a-%d9%81%d9%8a-%d8%b3%d9%8a-%d8%a8%d8%b1%d9%88-%d8%a3%d8%b3%d9%88%d8%af-%d8%a3%d8%ad/\n",
      "Count: 178\n",
      "URL: https://alassly.com/product/%d9%85%d9%83%d9%86%d8%b3%d8%a9-%d9%83%d9%87%d8%b1%d8%a8%d8%a7%d8%a6%d9%8a%d8%a9-%d8%a8%d8%b7%d8%a9-%d8%ac%d9%8a-%d9%81%d9%8a-%d8%b3%d9%8a-%d8%a8%d8%b1%d9%88-2200-%d9%88%d8%a7%d8%aa/\n",
      "Count: 179\n",
      "URL: https://alassly.com/product/%d9%83%d8%a7%d9%88%d9%8a%d8%a9-%d9%83%d9%87%d8%b1%d8%a8%d8%a7%d8%a6%d9%8a%d8%a9-%d9%83%d8%a8%d8%b3-gvc-pro-%d8%af%d9%88%d8%a7%d8%b1%d8%a9-30-%d8%a8%d9%88%d8%b5%d8%a9-2200-%d9%88%d8%a7%d8%aa/\n",
      "Count: 180\n",
      "URL: https://alassly.com/product/%d9%83%d8%a7%d9%88%d9%8a%d8%a9-%d8%ac%d8%a7%d9%81%d8%a9-%d8%ac%d9%8a-%d9%81%d9%8a-%d8%b3%d9%8a-%d8%a8%d8%b1%d9%88-1200-%d9%88%d8%a7%d8%aa-%d8%a3%d8%a8%d9%8a%d8%b6-%d9%88%d8%b1%d8%af%d9%8a/\n",
      "Count: 181\n",
      "URL: https://alassly.com/product/%d9%85%d9%85%d9%84%d8%b3-%d8%a7%d9%84%d8%b4%d8%b9%d8%b1-%d8%ac%d9%8a-%d9%81%d9%8a-%d8%b3%d9%8a-%d8%a8%d8%b1%d9%88-50-%d9%88%d8%a7%d8%aa-%d8%a3%d8%b3%d9%88%d8%af/\n",
      "Count: 182\n",
      "URL: https://alassly.com/product/%d9%85%d9%83%d9%86%d8%b3%d8%a9-%d9%83%d9%87%d8%b1%d8%a8%d8%a7%d8%a6%d9%8a%d8%a9-%d8%a8%d8%b7%d8%a9-%d8%ac%d9%8a-%d9%81%d9%8a-%d8%b3%d9%8a-%d8%a8%d8%b1%d9%88-%d8%a8%d8%af%d9%88%d9%86-%d9%83%d9%8a-2/\n",
      "Count: 183\n",
      "URL: https://alassly.com/product/%d8%a8%d8%b1%d9%88-%d9%81%d8%a7%d9%8a%d8%b1-%d8%aa%d8%ac%d8%b9%d9%8a%d8%af-%d9%84%d9%84%d8%b4%d8%b9%d8%b1-%d8%ac%d9%8a-%d9%81%d9%8a-%d8%b3%d9%8a-%d8%a8%d8%b1%d9%88-50-%d9%88%d8%a7%d8%aa-%d8%a8%d9%86/\n",
      "Count: 184\n",
      "URL: https://alassly.com/product/%d9%83%d8%a7%d9%88%d9%8a%d8%a9-%d8%a8%d8%ae%d8%a7%d8%b1-%d8%ac%d9%8a-%d9%81%d9%8a-%d8%b3%d9%8a-%d8%a8%d8%b1%d9%88-2200-%d9%88%d8%a7%d8%aa-%d8%a8%d9%86%d9%81%d8%b3%d8%ac%d9%8a/\n",
      "Count: 185\n",
      "URL: https://alassly.com/product/%d8%af%d9%81%d8%a7%d9%8a%d8%a9-%d8%b2%d9%8a%d8%aa-11-%d8%b1%d9%8a%d8%b4%d8%a9-%d8%ac%d9%8a-%d9%81%d9%8a-%d8%b3%d9%8a-2500-%d9%88%d8%a7%d8%aa/\n",
      "Count: 186\n",
      "URL: https://alassly.com/product/%d9%85%d9%83%d9%86%d8%b3%d8%a9-%d9%83%d9%87%d8%b1%d8%a8%d8%a7%d8%a6%d9%8a%d8%a9-%d8%a8%d8%b1%d9%85%d9%8a%d9%84-%d8%ac%d9%8a-%d9%81%d9%8a-%d8%b3%d9%8a-%d8%a8%d8%b1%d9%88-1600-%d9%88%d8%a7%d8%aa/\n",
      "Count: 187\n",
      "URL: https://alassly.com/product/%d9%83%d8%a7%d9%88%d9%8a%d8%a9-%d8%a8%d8%ae%d8%a7%d8%b1-%d8%ac%d9%8a-%d9%81%d9%8a-%d8%b3%d9%8a-%d8%a8%d8%b1%d9%88-1600-%d9%88%d8%a7%d8%aa-%d8%a8%d9%86%d9%81%d8%b3%d8%ac%d9%8a/\n",
      "Count: 188\n",
      "URL: https://alassly.com/product/%d8%af%d9%81%d8%a7%d9%8a%d8%a9-%d8%b2%d9%8a%d8%aa-13-%d8%b1%d9%8a%d8%b4%d8%a9-%d8%ac%d9%8a-%d9%81%d9%8a-%d8%b3%d9%8a-%d8%a8%d8%b1%d9%88-2500-%d9%88%d8%a7%d8%aa/\n",
      "Count: 189\n",
      "URL: https://alassly.com/product/%d8%af%d9%81%d8%a7%d9%8a%d8%a9-%d8%b2%d9%8a%d8%aa-15-%d8%b1%d9%8a%d8%b4%d8%a9-%d8%ac%d9%8a-%d9%81%d9%8a-%d8%b3%d9%8a-%d8%a8%d8%b1%d9%88-2500-%d9%88%d8%a7%d8%aa/\n",
      "Count: 190\n",
      "URL: https://alassly.com/product/%d9%83%d8%a7%d9%88%d9%8a%d8%a9-%d8%a8%d8%ae%d8%a7%d8%b1-%d8%b3%d8%aa%d8%a7%d9%86%d8%af-%d8%ac%d9%8a-%d9%81%d9%8a-%d8%b3%d9%8a-%d8%a8%d8%b1%d9%88-1600-%d9%88%d8%a7%d8%aa/\n",
      "Count: 191\n",
      "URL: https://alassly.com/product/%d8%af%d9%81%d8%a7%d9%8a%d8%a9-%d8%ac%d8%af%d8%a7%d8%b1%d9%8a%d8%a9-%d8%b3%d8%a8%d9%84%d9%8a%d8%aa-%d8%ac%d9%8a-%d9%81%d9%8a-%d8%b3%d9%8a-%d8%a8%d8%b1%d9%88-2000-%d9%88%d8%a7%d8%aa/\n",
      "Count: 192\n",
      "URL: https://alassly.com/product/%d9%85%d9%83%d9%8a%d9%86%d8%a9-%d8%ad%d9%84%d8%a7%d9%82%d8%a9-%d9%83%d9%87%d8%b1%d8%a8%d8%a7%d8%a6%d9%8a%d8%a9-gvc-pro-%d9%82%d8%a7%d8%a8%d9%84%d8%a9-%d9%84%d9%84%d8%b4%d8%ad%d9%86-%d8%b0%d9%87/\n",
      "Count: 193\n",
      "URL: https://alassly.com/product/%d9%83%d8%a7%d9%88%d9%8a%d8%a9-%d8%a8%d8%ae%d8%a7%d8%b1-%d8%b3%d8%aa%d8%a7%d9%86%d8%af-%d8%ac%d9%8a-%d9%81%d9%8a-%d8%b3%d9%8a-%d8%a8%d8%b1%d9%88-1500-%d9%88%d8%a7%d8%aa/\n",
      "Count: 194\n",
      "URL: https://alassly.com/product/%d9%85%d9%83%d9%86%d8%b3%d8%a9-%d9%83%d9%87%d8%b1%d8%a8%d8%a7%d8%a6%d9%8a%d8%a9-%d8%a8%d8%b1%d9%85%d9%8a%d9%84-%d8%ac%d9%8a-%d9%81%d9%8a-%d8%b3%d9%8a-%d8%a8%d8%b1%d9%88-1800-%d9%88%d8%a7%d8%aa/\n",
      "Count: 195\n",
      "URL: https://alassly.com/product/%d9%85%d8%ac%d9%81%d9%81-%d8%b4%d8%b9%d8%b1-%d8%ac%d9%8a-%d9%81%d9%8a-%d8%b3%d9%8a-%d8%a8%d8%b1%d9%88-2000-%d9%88%d8%a7%d8%aa-%d8%a3%d8%b3%d9%88%d8%af/\n",
      "Count: 196\n",
      "URL: https://alassly.com/product/%d9%85%d9%83%d9%8a%d9%86%d8%a9-%d8%ad%d9%84%d8%a7%d9%82%d8%a9-%d9%83%d9%87%d8%b1%d8%a8%d8%a7%d8%a6%d9%8a%d8%a9-gvc-pro-%d9%82%d8%a7%d8%a8%d9%84%d8%a9-%d9%84%d9%84%d8%b4%d8%ad%d9%86-%d9%81%d8%b6/\n",
      "Count: 197\n",
      "URL: https://alassly.com/product/%d9%85%d9%83%d9%86%d8%b3%d8%a9-%d9%83%d9%87%d8%b1%d8%a8%d8%a7%d8%a6%d9%8a%d8%a9-%d8%a8%d8%b1%d9%85%d9%8a%d9%84-%d8%ac%d9%8a-%d9%81%d9%8a-%d8%b3%d9%8a-%d8%a8%d8%b1%d9%88-2000-%d9%88%d8%a7%d8%aa/\n",
      "Count: 198\n",
      "URL: https://alassly.com/product/%d9%85%d8%b5%d9%8a%d8%af%d8%a9-%d8%ad%d8%b4%d8%b1%d8%a7%d8%aa-%d9%83%d9%87%d8%b1%d8%a8%d8%a7%d8%a6%d9%8a%d8%a9-%d8%ac%d9%8a-%d9%81%d9%8a-%d8%b3%d9%8a-%d8%a8%d8%b1%d9%88-16-%d9%88%d8%a7%d8%aa/\n",
      "Count: 199\n",
      "URL: https://alassly.com/product/%d9%85%d9%83%d9%86%d8%b3%d8%a9-%d9%83%d9%87%d8%b1%d8%a8%d8%a7%d8%a6%d9%8a%d8%a9-%d8%a8%d8%b1%d9%85%d9%8a%d9%84-%d8%ac%d9%8a-%d9%81%d9%8a-%d8%b3%d9%8a-%d8%a8%d8%b1%d9%88-2300-%d9%88%d8%a7%d8%aa/\n",
      "Count: 200\n",
      "URL: https://alassly.com/product/%d9%85%d8%ac%d9%81%d9%81-%d8%b4%d8%b9%d8%b1-%d8%ac%d9%8a-%d9%81%d9%8a-%d8%b3%d9%8a-%d8%a8%d8%b1%d9%88-2200-%d9%88%d8%a7%d8%aa-%d8%a3%d8%a8%d9%8a%d8%b6/\n",
      "Count: 201\n",
      "URL: https://alassly.com/product/%d9%85%d9%83%d9%8a%d9%86%d8%a9-%d8%ad%d9%84%d8%a7%d9%82%d8%a9-%d9%83%d9%87%d8%b1%d8%a8%d8%a7%d8%a6%d9%8a%d8%a9-gvc-pro-%d9%82%d8%a7%d8%a8%d9%84%d8%a9-%d9%84%d9%84%d8%b4%d8%ad%d9%86-%d8%b0%d9%87-2/\n",
      "Count: 202\n",
      "URL: https://alassly.com/product/%d9%85%d8%ac%d9%81%d9%81-%d8%b4%d8%b9%d8%b1-%d8%ac%d9%8a-%d9%81%d9%8a-%d8%b3%d9%8a-%d8%a8%d8%b1%d9%88-2000-%d9%88%d8%a7%d8%aa-%d8%a3%d8%b3%d9%88%d8%af-2/\n",
      "Count: 203\n",
      "URL: https://alassly.com/product/%d9%85%d8%b5%d9%8a%d8%af%d8%a9-%d8%ad%d8%b4%d8%b1%d8%a7%d8%aa-%d9%83%d9%87%d8%b1%d8%a8%d8%a7%d8%a6%d9%8a%d8%a9-%d8%ac%d9%8a-%d9%81%d9%8a-%d8%b3%d9%8a-%d8%a8%d8%b1%d9%88-20-%d9%88%d8%a7%d8%aa/\n",
      "Count: 204\n",
      "URL: https://alassly.com/product/%d9%85%d9%83%d9%8a%d9%86%d8%a9-%d8%ad%d9%84%d8%a7%d9%82%d8%a9-%d9%83%d9%87%d8%b1%d8%a8%d8%a7%d8%a6%d9%8a%d8%a9-gvc-pro-%d9%82%d8%a7%d8%a8%d9%84%d8%a9-%d9%84%d9%84%d8%b4%d8%ad%d9%86-%d8%a3%d8%a8/\n",
      "Count: 205\n",
      "URL: https://alassly.com/product/%d9%85%d8%b5%d9%8a%d8%af%d8%a9-%d8%ad%d8%b4%d8%b1%d8%a7%d8%aa-%d9%83%d9%87%d8%b1%d8%a8%d8%a7%d8%a6%d9%8a%d8%a9-%d8%ac%d9%8a-%d9%81%d9%8a-%d8%b3%d9%8a-%d8%a8%d8%b1%d9%88-30-%d9%88%d8%a7%d8%aa/\n",
      "Count: 206\n",
      "URL: https://alassly.com/product/%d8%a7%d8%b3%d8%aa%d8%b4%d9%88%d8%a7%d8%b1-%d8%b4%d8%b9%d8%b1-%d8%ac%d9%8a-%d9%81%d9%8a-%d8%b3%d9%8a-%d8%a8%d8%b1%d9%88-1200-%d9%88%d8%a7%d8%aa-%d8%a3%d8%a8%d9%8a%d8%b6-%d8%a3%d8%b2%d8%b1%d9%82/\n",
      "Count: 207\n",
      "URL: https://alassly.com/product/%d9%85%d8%b5%d9%8a%d8%af%d8%a9-%d8%ad%d8%b4%d8%b1%d8%a7%d8%aa-%d9%83%d9%87%d8%b1%d8%a8%d8%a7%d8%a6%d9%8a%d8%a9-%d8%ac%d9%8a-%d9%81%d9%8a-%d8%b3%d9%8a-%d8%a8%d8%b1%d9%88-38-%d9%88%d8%a7%d8%aa/\n",
      "Count: 208\n",
      "URL: https://alassly.com/product/%d9%85%d9%83%d9%8a%d9%86%d8%a9-%d8%aa%d9%86%d8%b9%d9%8a%d9%85-%d9%83%d9%87%d8%b1%d8%a8%d8%a7%d8%a6%d9%8a%d8%a9-gvc-pro-%d8%a8%d8%b1%d9%88-%d9%82%d8%a7%d8%a8%d9%84%d8%a9-%d9%84%d9%84%d8%b4%d8%ad%d9%86/\n",
      "Count: 209\n",
      "URL: https://alassly.com/product/%d8%b3%d8%aa%d8%a7%d8%b1%d8%a9-%d9%87%d9%88%d8%a7%d8%a6%d9%8a%d8%a9-%d8%ac%d9%8a-%d9%81%d9%8a-%d8%b3%d9%8a-%d8%a8%d8%b1%d9%88-90-%d8%b3%d9%85/\n",
      "Count: 210\n",
      "URL: https://alassly.com/product/%d8%a7%d8%b3%d8%aa%d8%b4%d9%88%d8%a7%d8%b1-%d8%b4%d8%b9%d8%b1-%d8%ac%d9%8a-%d9%81%d9%8a-%d8%b3%d9%8a-%d8%a8%d8%b1%d9%88-1200-%d9%88%d8%a7%d8%aa-%d9%81%d8%b1%d8%b4%d8%a7%d8%a9-%d8%a3%d8%b6%d8%a7/\n",
      "Count: 211\n",
      "URL: https://alassly.com/product/%d8%b3%d8%aa%d8%a7%d8%b1%d8%a9-%d9%87%d9%88%d8%a7%d8%a6%d9%8a%d8%a9-%d8%ac%d9%8a-%d9%81%d9%8a-%d8%b3%d9%8a-%d8%a8%d8%b1%d9%88-120-%d8%b3%d9%85-%d8%a3%d8%a8%d9%8a%d8%b6/\n",
      "Count: 212\n",
      "URL: https://alassly.com/product/%d8%af%d9%81%d8%a7%d9%8a%d8%a9-%d8%af%d9%8a%d9%83%d9%88%d8%b1-%d9%83%d9%87%d8%b1%d8%a8%d8%a7%d8%a6%d9%8a%d8%a9-%d8%ac%d9%8a-%d9%81%d9%8a-%d8%b3%d9%8a-%d8%a8%d8%b1%d9%88-2000-%d9%88%d8%a7%d8%aa/\n",
      "Count: 213\n",
      "URL: https://alassly.com/product/%d8%af%d9%81%d8%a7%d9%8a%d8%a9-%d9%83%d9%87%d8%b1%d8%a8%d8%a7%d8%a6%d9%8a%d8%a9-%d8%ac%d9%8a-%d9%81%d9%8a-%d8%b3%d9%8a-%d8%a8%d8%b1%d9%88-2000-%d9%88%d8%a7%d8%aa-%d8%a7%d8%ad%d9%85%d8%b1/\n",
      "Count: 214\n",
      "URL: https://alassly.com/product/%d8%af%d9%81%d8%a7%d9%8a%d8%a9-%d8%af%d9%8a%d9%83%d9%88%d8%b1-%d9%83%d9%87%d8%b1%d8%a8%d8%a7%d8%a6%d9%8a%d8%a9-%d8%ac%d9%8a-%d9%81%d9%8a-%d8%b3%d9%8a-%d8%a8%d8%b1%d9%88-%d8%a7%d8%a8%d9%8a%d8%b6/\n",
      "Count: 215\n",
      "URL: https://alassly.com/product/%d9%85%d9%83%d9%86%d8%b3%d8%a9-%d9%83%d9%87%d8%b1%d8%a8%d8%a7%d8%a6%d9%8a%d8%a9-%d8%ac%d9%8a-%d9%81%d9%8a-%d8%b3%d9%8a-%d8%a8%d8%b1%d9%88-1000-%d9%88%d8%a7%d8%aa/\n",
      "Count: 216\n",
      "URL: https://alassly.com/product/%d9%83%d8%a7%d9%88%d9%8a%d8%a9-%d8%a8%d8%ae%d8%a7%d8%b1-%d9%83%d8%a8%d8%b3gvc-pro-%d9%85%d8%b9-%d8%a7%d8%b3%d8%aa%d8%a7%d9%86%d8%af-32%d8%a8%d9%88%d8%b5%d8%a9-1600-%d9%88%d8%a7%d8%aa/\n",
      "Count: 217\n",
      "URL: https://alassly.com/product/%d9%83%d8%a7%d9%88%d9%8a%d8%a9-%d8%a8%d8%ae%d8%a7%d8%b1-%d9%83%d8%a8%d8%b3gvc-pro-%d9%85%d8%b9-%d8%a7%d8%b3%d8%aa%d8%a7%d9%86%d8%af-36%d8%a8%d9%88%d8%b5%d8%a9-1600-%d9%88%d8%a7%d8%aa/\n",
      "Count: 218\n",
      "URL: https://alassly.com/product/%d9%83%d8%a7%d9%88%d9%8a%d8%a9-%d8%a8%d8%ae%d8%a7%d8%b1-%d9%83%d8%a8%d8%b3gvc-pro-%d9%85%d8%b9-%d8%a7%d8%b3%d8%aa%d8%a7%d9%86%d8%af-40-%d8%a8%d9%88%d8%b5%d8%a9-1600-%d9%88%d8%a7%d8%aa/\n",
      "Count: 219\n",
      "URL: https://alassly.com/product/%d8%b9%d8%ac%d8%a7%d9%86%d8%a9-%d9%83%d9%87%d8%b1%d8%a8%d8%a7%d8%a6%d9%8a%d8%a9-%d8%ac%d9%8a-%d9%81%d9%8a-%d8%b3%d9%8a-%d8%a8%d8%b1%d9%88-1100-%d9%88%d8%a7%d8%aa-7-5-%d9%84%d8%aa%d8%b1/\n",
      "Count: 220\n",
      "URL: https://alassly.com/product/%d8%b9%d8%ac%d8%a7%d9%86%d8%a9-%d9%83%d9%87%d8%b1%d8%a8%d8%a7%d8%a6%d9%8a%d8%a9-gvc-pro-%d9%88-%d9%85%d8%ad%d8%b6%d8%b1%d8%a9-%d8%b7%d8%b9%d8%a7%d9%85-31-1100-%d9%88%d8%a7%d8%aa/\n",
      "Count: 221\n",
      "URL: https://alassly.com/product/%d8%af%d9%81%d8%a7%d9%8a%d8%a9-%d9%83%d9%87%d8%b1%d8%a8%d8%a7%d8%a1-%d8%ac%d9%8a-%d9%81%d9%8a-%d8%b3%d9%8a-%d8%a8%d8%b1%d9%88-2000-%d9%88%d8%a7%d8%aa-%d8%a3%d8%ad%d9%85%d8%b1/\n",
      "Count: 222\n",
      "URL: https://alassly.com/product/%d8%af%d9%81%d8%a7%d9%8a%d8%a9-%d8%af%d9%8a%d9%83%d9%88%d8%b1-%d9%83%d9%87%d8%b1%d8%a8%d8%a7%d8%a6%d9%8a%d8%a9-gvc-pro-%d8%b4%d9%83%d9%84-%d8%af%d9%88%d9%84%d8%a7%d8%a8-1950-%d9%88%d8%a7%d8%aa/\n",
      "Count: 223\n",
      "URL: https://alassly.com/product/%d8%af%d9%81%d8%a7%d9%8a%d8%a9-%d8%af%d9%8a%d9%83%d9%88%d8%b1-%d9%83%d9%87%d8%b1%d8%a8%d8%a7%d8%a6%d9%8a%d8%a9-%d8%ac%d9%8a-%d9%81%d9%8a-%d8%b3%d9%8a-%d8%a8%d8%b1%d9%88-1950-%d9%88%d8%a7%d8%aa/\n",
      "Count: 224\n",
      "URL: https://alassly.com/product/%d8%af%d9%81%d8%a7%d9%8a%d8%a9-%d8%af%d9%8a%d9%83%d9%88%d8%b1-%d9%83%d9%87%d8%b1%d8%a8%d8%a7%d8%a6%d9%8a%d8%a9-%d8%b4%d9%83%d9%84-%d8%af%d9%88%d9%84%d8%a7%d8%a8-%d8%ac%d9%8a-%d9%81%d9%8a-%d8%b3%d9%8a/\n",
      "Count: 225\n",
      "URL: https://alassly.com/product/%d8%b9%d8%ac%d8%a7%d9%86%d9%87-%d8%ac%d9%8a-%d9%81%d9%8a-%d8%b3%d9%8a-%d8%a8%d8%b1%d9%88-7-5-%d9%84%d8%aa%d8%b1-%d9%81%d8%b6%d9%8a/\n",
      "Count: 226\n",
      "URL: https://alassly.com/product/%d9%85%d8%b1%d9%88%d8%ad%d8%a9-%d8%ad%d8%a7%d8%a6%d8%b7-%d8%ac%d9%8a-%d9%81%d9%8a-%d8%b3%d9%8a-%d8%a8%d8%b1%d9%88-16-%d8%a8%d9%88%d8%b5%d8%a9/\n",
      "Count: 227\n",
      "URL: https://alassly.com/product/%d9%85%d8%b1%d9%88%d8%ad%d8%a9-%d8%b3%d8%aa%d8%a7%d9%86%d8%af-%d8%ac%d9%8a-%d9%81%d9%8a-%d8%b3%d9%8a-%d8%a8%d8%b1%d9%88-3-%d8%b3%d8%b1%d8%b9%d8%a7%d8%aa-%d8%a3%d8%a8%d9%8a%d8%b6/\n",
      "Count: 228\n",
      "URL: https://alassly.com/product/%d9%85%d8%b1%d9%88%d8%ad%d8%a9-%d8%b7%d8%a7%d9%88%d9%84%d8%a9-%d8%ac%d9%8a-%d9%81%d9%8a-%d8%b3%d9%8a-%d8%a8%d8%b1%d9%88-3-%d8%b3%d8%b1%d8%b9%d8%a7%d8%aa-%d8%b3%d9%85%d8%a7%d9%88%d9%8a/\n",
      "Count: 229\n",
      "URL: https://alassly.com/product/%d9%85%d8%b1%d9%88%d8%ad%d8%a9-%d9%83%d9%87%d8%b1%d8%a8%d8%a7%d8%a6%d9%8a%d8%a9-%d8%ac%d9%8a-%d9%81%d9%8a-%d8%b3%d9%8a-%d8%a8%d8%b1%d9%88-45-%d9%88%d8%a7%d8%aa/\n",
      "Count: 230\n",
      "URL: https://alassly.com/product/%d9%85%d8%b1%d9%88%d8%ad%d8%a9-%d9%83%d9%87%d8%b1%d8%a8%d8%a7%d8%a6%d9%8a%d8%a9-%d8%ac%d9%8a-%d9%81%d9%8a-%d8%b3%d9%8a-%d8%a8%d8%b1%d9%88-60-%d9%88%d8%a7%d8%aa/\n",
      "Count: 231\n",
      "URL: https://alassly.com/product/%d9%85%d9%83%d9%8a%d9%86%d8%a9-%d8%ad%d9%84%d8%a7%d9%82%d8%a9-gvc-pro-%d8%a8%d9%86%d9%8a/\n"
     ]
    },
    {
     "ename": "AttributeError",
     "evalue": "'NoneType' object has no attribute 'text'",
     "output_type": "error",
     "traceback": [
      "\u001b[0;31m---------------------------------------------------------------------------\u001b[0m",
      "\u001b[0;31mAttributeError\u001b[0m                            Traceback (most recent call last)",
      "\u001b[1;32m/home/wafistos/Documents/Projects/scaping_wafi/alassly/alassly.ipynb Cell 52'\u001b[0m in \u001b[0;36m<cell line: 32>\u001b[0;34m()\u001b[0m\n\u001b[1;32m     <a href='vscode-notebook-cell:/home/wafistos/Documents/Projects/scaping_wafi/alassly/alassly.ipynb#ch0000053?line=46'>47</a>\u001b[0m \u001b[39mexcept\u001b[39;00m:\n\u001b[1;32m     <a href='vscode-notebook-cell:/home/wafistos/Documents/Projects/scaping_wafi/alassly/alassly.ipynb#ch0000053?line=47'>48</a>\u001b[0m     special_price \u001b[39m=\u001b[39m \u001b[39m'\u001b[39m\u001b[39m0\u001b[39m\u001b[39m'\u001b[39m\n\u001b[0;32m---> <a href='vscode-notebook-cell:/home/wafistos/Documents/Projects/scaping_wafi/alassly/alassly.ipynb#ch0000053?line=48'>49</a>\u001b[0m description \u001b[39m=\u001b[39m soup\u001b[39m.\u001b[39;49mfind(\u001b[39m'\u001b[39;49m\u001b[39mdiv\u001b[39;49m\u001b[39m'\u001b[39;49m, {\u001b[39m'\u001b[39;49m\u001b[39mid\u001b[39;49m\u001b[39m'\u001b[39;49m: \u001b[39m'\u001b[39;49m\u001b[39mtab-description\u001b[39;49m\u001b[39m'\u001b[39;49m})\u001b[39m.\u001b[39;49mtext\u001b[39m.\u001b[39mstrip()\n\u001b[1;32m     <a href='vscode-notebook-cell:/home/wafistos/Documents/Projects/scaping_wafi/alassly/alassly.ipynb#ch0000053?line=49'>50</a>\u001b[0m short_description \u001b[39m=\u001b[39m soup\u001b[39m.\u001b[39mfind(\u001b[39m'\u001b[39m\u001b[39mdiv\u001b[39m\u001b[39m'\u001b[39m, {\u001b[39m'\u001b[39m\u001b[39mclass\u001b[39m\u001b[39m'\u001b[39m: \u001b[39m'\u001b[39m\u001b[39mproduct-short-description\u001b[39m\u001b[39m'\u001b[39m})\u001b[39m.\u001b[39mtext\u001b[39m.\u001b[39mstrip()\n\u001b[1;32m     <a href='vscode-notebook-cell:/home/wafistos/Documents/Projects/scaping_wafi/alassly/alassly.ipynb#ch0000053?line=50'>51</a>\u001b[0m dims \u001b[39m=\u001b[39m short_description\u001b[39m.\u001b[39msplit(\u001b[39m'\u001b[39m\u001b[39m\\n\u001b[39;00m\u001b[39m'\u001b[39m)\n",
      "\u001b[0;31mAttributeError\u001b[0m: 'NoneType' object has no attribute 'text'"
     ]
    }
   ],
   "source": [
    "def extraire_ele(name, list_details):\n",
    "    try:\n",
    "        toto = list_details.find('th', string=name).next_element.next_element.next_element.text.strip()\n",
    "    except:\n",
    "        toto = ''\n",
    "    return toto\n",
    "\n",
    "now = datetime.now()\n",
    "dt_string = now.strftime(\"%d-%m-%Y-%H-%M-%S\")\n",
    "count = 0\n",
    "list_images = [] \n",
    "\n",
    "display_bool = False\n",
    "headers = {\n",
    "'User-Agent': 'Mozilla/5.0 (Macintosh; Intel Mac OS X 10_12_6) AppleWebKit/537.36 (KHTML, like Gecko) Chrome/74.0.3729.169 Safari/537.36', \n",
    "'Accept-Encoding': 'gzip, deflate', \n",
    "'Accept': 'text/html,application/xhtml+xml,application/xml;q=0.9,/;q=0.8', \n",
    "'Connection': 'keep-alive', \n",
    "'Accept-Language': 'en-US,en;q=0.5', \n",
    "'Upgrade-Insecure-Requests': '1', \n",
    "'Pragma': 'no-cache', \n",
    "'Cache-Control': 'no-cache'\n",
    "}\n",
    "\n",
    "#**********************************************************************\n",
    "#**********************************************************************\n",
    "#**********************************************************************\n",
    "#**********************************************************************\n",
    "#**********************************************************************\n",
    "#ForLoop main\n",
    "df = pd.read_excel('alassly_model.xlsx')\n",
    "for i, url in enumerate(list_urls):\n",
    "\n",
    "    print('Count:', i)\n",
    "    print('URL:', url)\n",
    "    time.sleep(1)\n",
    "    link_url = url\n",
    "    r = requests.get(url, headers=headers)\n",
    "    soup = BeautifulSoup(r.text, 'html.parser')\n",
    "\n",
    "    sku = soup.find('span', {'class': 'sku'}).text.strip()\n",
    "    name = soup.find('h1', {'class': 'product-title product_title entry-title'}).text.strip()\n",
    "    prices = soup.find('div', {'class': 'price-wrapper'}).find_all('span', {'class': 'woocommerce-Price-amount amount'})\n",
    "    price = prices[0].text.strip()\n",
    "    try:\n",
    "        special_price =  prices[1].text.strip()\n",
    "    except:\n",
    "        special_price = '0'\n",
    "    description = soup.find('div', {'id': 'tab-description'}).text.strip()\n",
    "    short_description = soup.find('div', {'class': 'product-short-description'}).text.strip()\n",
    "    dims = short_description.split('\\n')\n",
    "    try:\n",
    "        dim = [tt for tt in dims if 'الأبعاد' in tt][0].replace('الأبعاد', '').replace('سم', '').strip()\n",
    "    except:\n",
    "        dim = ''\n",
    "    list_images = []\n",
    "    images = soup.find('figure').find_all('img')\n",
    "    \n",
    "    for img in images:\n",
    "        list_images.append(img['data-src'])\n",
    "    \n",
    "\n",
    "    base_image = list_images[0] \n",
    "    additionnel_images = ','.join(list_images[1:])\n",
    "    categories = soup.find('nav', {'class': 'woocommerce-breadcrumb breadcrumbs'}).find_all('a')\n",
    "    cat1 = categories[1].text.strip()\n",
    "    cat2 = categories[2].text.strip()\n",
    "    try:\n",
    "        cat1 = cat1\n",
    "    except:\n",
    "        cat1 = ''\n",
    "    try:\n",
    "        cat2 = cat2\n",
    "    except:\n",
    "        cat2 = ''\n",
    "    try:\n",
    "        cat3 = ''\n",
    "    except:\n",
    "        cat3 = ''\n",
    "    desc = ''\n",
    "    add_infos = soup.find('table', {'class': 'woocommerce-product-attributes shop_attributes'})\n",
    "    # attributes\n",
    "    type_ = extraire_ele('النوع', add_infos)\n",
    "    control_type = extraire_ele('نوع التحكم', add_infos)\n",
    "    free_colors = extraire_ele('اللون', add_infos)\n",
    "    barcode = extraire_ele('الموديل', add_infos)\n",
    "    cooling_capacity = extraire_ele('السعة', add_infos)\n",
    "    voltage  = extraire_ele('الجهد الكهربائي', add_infos)\n",
    "    hertz  = extraire_ele('التردد', add_infos)\n",
    "    energy_efficiency_class  = extraire_ele('فئة كفاءة الطاقة', add_infos)\n",
    "    energy_efficiency_rate  = extraire_ele('معدل كفاءة الطاقة', add_infos)\n",
    "    weight_kilo  = extraire_ele('الوزن (كلغ) صافي / الإجمالي', add_infos)\n",
    "    indoor_lamp =  extraire_ele('مصباح داخلي', add_infos)\n",
    "    guarantee = extraire_ele('الضمان الشامل', add_infos)\n",
    "    compressor_warranty = extraire_ele('ضمان الضاغط', add_infos)\n",
    "    compressor_type  = extraire_ele('نوع الضاغط', add_infos)\n",
    "    manufacturer  = extraire_ele('بلد المنشأ', add_infos)\n",
    "    air_direction = extraire_ele('اتجاه الهواء', add_infos)\n",
    "    brand = ''\n",
    "    try:\n",
    "        is_in_stock = soup.find('p', {\"class\": 'stock in-stock'}).text.replace('متوفر في المخزون', '').strip()\n",
    "    except:\n",
    "        is_in_stock = 0\n",
    "    \n",
    "\n",
    "    two_month = datetime.now() + timedelta(days=60)\n",
    "    two_month = two_month.strftime(\"%m/%d/%Y\")\n",
    "    today = datetime.today().strftime(\"%m/%d/%Y\")\n",
    "\n",
    "    data = {         'sku': sku,\n",
    "                         'name': name,\n",
    "                         'price': price,\n",
    "                        'special_price': special_price,\n",
    "                        'description': description,\n",
    "                        'short_description': short_description,\n",
    "                         'free_colors': free_colors,#colors,\n",
    "                        'link_url': link_url,\n",
    "                        'dim': dim,\n",
    "                         'brand': brand,\n",
    "                         'is_in_stock': is_in_stock,\n",
    "                         'base_image': base_image,\n",
    "                         'additionnel_images': additionnel_images,\n",
    "                         'today': today,\n",
    "                         'two_month': two_month,\n",
    "                         'cat1': cat1,#category1,\n",
    "                         'cat2': cat2,#category2,\n",
    "                         'cat3': cat3,#category3,\n",
    "                        'type_': type_,\n",
    "                        'control_type': control_type,\n",
    "                        'barcode': barcode,\n",
    "                        'cooling_capacity': cooling_capacity,\n",
    "                        'voltage': voltage,\n",
    "                        'hertz': hertz,\n",
    "                        'energy_efficiency_class': energy_efficiency_class,\n",
    "                        'energy_efficiency_rate': energy_efficiency_rate,\n",
    "                        'weight_kilo': weight_kilo,\n",
    "                        'indoor_lamp': indoor_lamp,\n",
    "                        'guarantee': guarantee,\n",
    "                        'compressor_warranty': compressor_warranty,\n",
    "                        'compressor_type': compressor_type,\n",
    "                        'manufacturer': manufacturer,\n",
    "                        'air_direction': air_direction,\n",
    "\n",
    "                        }\n",
    "    #df.append(df1)\n",
    "    df1 = pd.DataFrame([data])\n",
    "    df = pd.concat([df, df1],ignore_index=True)\n",
    "    df.to_excel( f'alssaly_update.xlsx', index = False)\n"
   ]
  },
  {
   "cell_type": "markdown",
   "id": "b7d8d492",
   "metadata": {},
   "source": [
    "# Fin de la fonction"
   ]
  },
  {
   "cell_type": "code",
   "execution_count": 24,
   "id": "7f8d32b9",
   "metadata": {},
   "outputs": [],
   "source": [
    "r = requests.get('https://alassly.com/product/%d8%ab%d9%84%d8%a7%d8%ac%d8%a9-%d8%a8%d8%a7%d8%a8-%d9%88%d8%a7%d8%ad%d8%af-%d8%ac%d9%8a-%d9%81%d9%8a-%d8%b3%d9%8a-%d8%a8%d8%b1%d9%88-3-%d9%82%d8%af%d9%85-%d8%a3%d8%b3%d9%88%d8%af/', headers=headers)"
   ]
  },
  {
   "cell_type": "code",
   "execution_count": 25,
   "id": "8827de37",
   "metadata": {},
   "outputs": [],
   "source": [
    "soup = BeautifulSoup(r.text, 'html.parser')"
   ]
  },
  {
   "cell_type": "code",
   "execution_count": 27,
   "id": "198e1184",
   "metadata": {},
   "outputs": [
    {
     "data": {
      "text/plain": [
       "'7'"
      ]
     },
     "execution_count": 27,
     "metadata": {},
     "output_type": "execute_result"
    }
   ],
   "source": [
    "is_in_stock = soup.find('p', {\"class\": 'stock in-stock'}).text.replace('متوفر في المخزون', '').strip()\n",
    "is_in_stock"
   ]
  },
  {
   "cell_type": "code",
   "execution_count": 41,
   "id": "278bdcb2",
   "metadata": {},
   "outputs": [
    {
     "name": "stdout",
     "output_type": "stream",
     "text": [
      "price: 330\n",
      "special_price: \n"
     ]
    }
   ],
   "source": [
    "pric = driver.find_elements_by_xpath('//div[@class=\"price-list\"]//span')\n",
    "len(pric)\n",
    "if len(pric)==4:\n",
    "    price = pric[2].text.replace('SR', '').replace('SAR', '').strip()\n",
    "    print('price:', price)\n",
    "    special_price = pric[0].text.replace('SR', '').replace('SAR', '').strip()\n",
    "    print('special_price:', special_price)\n",
    "elif len(pric) == 2:\n",
    "    price = pric[0].text.replace('SR', '').replace('SAR', '').strip()\n",
    "    print('price:', price)\n",
    "    special_price = ''\n",
    "    print('special_price:', special_price)"
   ]
  },
  {
   "cell_type": "code",
   "execution_count": 37,
   "id": "e81c6433",
   "metadata": {},
   "outputs": [
    {
     "name": "stdout",
     "output_type": "stream",
     "text": [
      "SR 4,495\n",
      "SR 4,495\n",
      "SR 6,097\n",
      "SR 6,097\n"
     ]
    }
   ],
   "source": [
    "for t in pric:\n",
    "    print(t.text)"
   ]
  },
  {
   "cell_type": "code",
   "execution_count": 38,
   "id": "a67501b1",
   "metadata": {},
   "outputs": [
    {
     "name": "stdout",
     "output_type": "stream",
     "text": [
      "toto\n"
     ]
    }
   ],
   "source": [
    "if len(pric)==4:\n",
    "    price"
   ]
  },
  {
   "cell_type": "code",
   "execution_count": null,
   "id": "180e334a",
   "metadata": {},
   "outputs": [],
   "source": []
  },
  {
   "cell_type": "code",
   "execution_count": null,
   "id": "3165d274",
   "metadata": {},
   "outputs": [],
   "source": []
  },
  {
   "cell_type": "markdown",
   "id": "e6608b45",
   "metadata": {},
   "source": [
    "# scrape images"
   ]
  },
  {
   "cell_type": "code",
   "execution_count": 5,
   "id": "aa518dea",
   "metadata": {},
   "outputs": [],
   "source": [
    "list_scrape1 = df['link_url'].to_list()"
   ]
  },
  {
   "cell_type": "code",
   "execution_count": 4,
   "id": "36774c43",
   "metadata": {},
   "outputs": [],
   "source": [
    "df =  pd.read_excel('/home/wafistos/Documents/Projects/scaping_wafi/scrapingalrugaibfurniture/sub_categories/Rugaid_update_06_08_2021v2.xlsx')"
   ]
  },
  {
   "cell_type": "code",
   "execution_count": 5,
   "id": "2e5ebc1d",
   "metadata": {},
   "outputs": [],
   "source": [
    "list_scrape1 = df['link_url'].to_list()"
   ]
  },
  {
   "cell_type": "code",
   "execution_count": null,
   "id": "cc1a9ff8",
   "metadata": {},
   "outputs": [],
   "source": []
  },
  {
   "cell_type": "code",
   "execution_count": 16,
   "id": "cb2fa4ad",
   "metadata": {},
   "outputs": [
    {
     "name": "stdout",
     "output_type": "stream",
     "text": [
      "*****************************************\n",
      "Count 0\n",
      "len list images 0\n",
      "\n",
      "images2- \n",
      "len list images 0\n",
      "\n",
      "images2- \n"
     ]
    },
    {
     "ename": "IndexError",
     "evalue": "list index out of range",
     "output_type": "error",
     "traceback": [
      "\u001b[0;31m---------------------------------------------------------------------------\u001b[0m",
      "\u001b[0;31mIndexError\u001b[0m                                Traceback (most recent call last)",
      "\u001b[0;32m<ipython-input-16-7da8b1b20cf2>\u001b[0m in \u001b[0;36m<module>\u001b[0;34m\u001b[0m\n\u001b[1;32m     47\u001b[0m     \u001b[0;32mtry\u001b[0m\u001b[0;34m:\u001b[0m\u001b[0;34m\u001b[0m\u001b[0;34m\u001b[0m\u001b[0m\n\u001b[0;32m---> 48\u001b[0;31m         \u001b[0mimage1\u001b[0m\u001b[0;34m,\u001b[0m \u001b[0mimage2\u001b[0m \u001b[0;34m=\u001b[0m \u001b[0mscrape_images\u001b[0m\u001b[0;34m(\u001b[0m\u001b[0;34m)\u001b[0m\u001b[0;34m\u001b[0m\u001b[0;34m\u001b[0m\u001b[0m\n\u001b[0m\u001b[1;32m     49\u001b[0m     \u001b[0;32mexcept\u001b[0m\u001b[0;34m:\u001b[0m\u001b[0;34m\u001b[0m\u001b[0;34m\u001b[0m\u001b[0m\n",
      "\u001b[0;32m<ipython-input-16-7da8b1b20cf2>\u001b[0m in \u001b[0;36mscrape_images\u001b[0;34m()\u001b[0m\n\u001b[1;32m     35\u001b[0m     \u001b[0mprint\u001b[0m\u001b[0;34m(\u001b[0m\u001b[0;34m'images2-'\u001b[0m\u001b[0;34m,\u001b[0m \u001b[0mtimage\u001b[0m\u001b[0;34m)\u001b[0m\u001b[0;34m\u001b[0m\u001b[0;34m\u001b[0m\u001b[0m\n\u001b[0;32m---> 36\u001b[0;31m     \u001b[0mimage1\u001b[0m \u001b[0;34m=\u001b[0m \u001b[0mlist_images\u001b[0m\u001b[0;34m[\u001b[0m\u001b[0;36m0\u001b[0m\u001b[0;34m]\u001b[0m\u001b[0;34m\u001b[0m\u001b[0;34m\u001b[0m\u001b[0m\n\u001b[0m\u001b[1;32m     37\u001b[0m     \u001b[0mimage2\u001b[0m \u001b[0;34m=\u001b[0m \u001b[0mtimage\u001b[0m\u001b[0;34m\u001b[0m\u001b[0;34m\u001b[0m\u001b[0m\n",
      "\u001b[0;31mIndexError\u001b[0m: list index out of range",
      "\nDuring handling of the above exception, another exception occurred:\n",
      "\u001b[0;31mIndexError\u001b[0m                                Traceback (most recent call last)",
      "\u001b[0;32m<ipython-input-16-7da8b1b20cf2>\u001b[0m in \u001b[0;36m<module>\u001b[0;34m\u001b[0m\n\u001b[1;32m     49\u001b[0m     \u001b[0;32mexcept\u001b[0m\u001b[0;34m:\u001b[0m\u001b[0;34m\u001b[0m\u001b[0;34m\u001b[0m\u001b[0m\n\u001b[1;32m     50\u001b[0m         \u001b[0mdriver\u001b[0m\u001b[0;34m.\u001b[0m\u001b[0mget\u001b[0m\u001b[0;34m(\u001b[0m\u001b[0mtoto\u001b[0m\u001b[0;34m)\u001b[0m\u001b[0;34m\u001b[0m\u001b[0;34m\u001b[0m\u001b[0m\n\u001b[0;32m---> 51\u001b[0;31m         \u001b[0mimage1\u001b[0m\u001b[0;34m,\u001b[0m \u001b[0mimage2\u001b[0m \u001b[0;34m=\u001b[0m \u001b[0mscrape_images\u001b[0m\u001b[0;34m(\u001b[0m\u001b[0;34m)\u001b[0m\u001b[0;34m\u001b[0m\u001b[0;34m\u001b[0m\u001b[0m\n\u001b[0m\u001b[1;32m     52\u001b[0m \u001b[0;34m\u001b[0m\u001b[0m\n\u001b[1;32m     53\u001b[0m \u001b[0;34m\u001b[0m\u001b[0m\n",
      "\u001b[0;32m<ipython-input-16-7da8b1b20cf2>\u001b[0m in \u001b[0;36mscrape_images\u001b[0;34m()\u001b[0m\n\u001b[1;32m     34\u001b[0m         \u001b[0mtimage\u001b[0m \u001b[0;34m=\u001b[0m \u001b[0;34m''\u001b[0m\u001b[0;34m\u001b[0m\u001b[0;34m\u001b[0m\u001b[0m\n\u001b[1;32m     35\u001b[0m     \u001b[0mprint\u001b[0m\u001b[0;34m(\u001b[0m\u001b[0;34m'images2-'\u001b[0m\u001b[0;34m,\u001b[0m \u001b[0mtimage\u001b[0m\u001b[0;34m)\u001b[0m\u001b[0;34m\u001b[0m\u001b[0;34m\u001b[0m\u001b[0m\n\u001b[0;32m---> 36\u001b[0;31m     \u001b[0mimage1\u001b[0m \u001b[0;34m=\u001b[0m \u001b[0mlist_images\u001b[0m\u001b[0;34m[\u001b[0m\u001b[0;36m0\u001b[0m\u001b[0;34m]\u001b[0m\u001b[0;34m\u001b[0m\u001b[0;34m\u001b[0m\u001b[0m\n\u001b[0m\u001b[1;32m     37\u001b[0m     \u001b[0mimage2\u001b[0m \u001b[0;34m=\u001b[0m \u001b[0mtimage\u001b[0m\u001b[0;34m\u001b[0m\u001b[0;34m\u001b[0m\u001b[0m\n\u001b[1;32m     38\u001b[0m     \u001b[0;32mreturn\u001b[0m \u001b[0mimage1\u001b[0m\u001b[0;34m,\u001b[0m \u001b[0mimage2\u001b[0m\u001b[0;34m\u001b[0m\u001b[0;34m\u001b[0m\u001b[0m\n",
      "\u001b[0;31mIndexError\u001b[0m: list index out of range"
     ]
    }
   ],
   "source": [
    "df_images1 = pd.read_excel('model_images1.xlsx')\n",
    "toto_images = []\n",
    "\n",
    "def scrape_images():\n",
    "    list_images = []\n",
    "    images_click = driver.find_elements_by_class_name('product-gallery__thumbnail')\n",
    "\n",
    "\n",
    "    for ele in images_click:\n",
    "        #ele.click()\n",
    "        driver.execute_script(\"arguments[0].click();\", ele)\n",
    "        time.sleep(0.5)\n",
    "    images = driver.find_elements_by_class_name('product-gallery__image')\n",
    "    len(images)\n",
    "    for img in images:\n",
    "        #list_images.append('https:'+img.get_attribute('data-srcset').split(' ')[0])\n",
    "    #     print(':', img.get_attribute('srcset').split(', ')[0].split('?')[0])\n",
    "        time.sleep(1)\n",
    "        try:\n",
    "            t = 'https:'+img.get_attribute('data-srcset').split(', ')[0].split('?')[0]\n",
    "        except:\n",
    "            continue\n",
    "    #     print(img.get_attribute('data-srcset'))\n",
    "    #     soup = BeautifulSoup(img.get_attribute('innerHTML'), 'html.parser')\n",
    "    #     print('toto',soup)\n",
    "        print(t)\n",
    "        list_images.append(t)\n",
    "    print('len list images',len(list_images))\n",
    "    try:\n",
    "        timage = ','.join(list_images[1:])\n",
    "    #         list_input_images2.append(timage)\n",
    "        print(timage)\n",
    "    except:\n",
    "        timage = ''\n",
    "    print('images2-', timage)\n",
    "    image1 = list_images[0]\n",
    "    image2 = timage\n",
    "    return image1, image2\n",
    "for i, toto in enumerate(list_scrape1[741:]):\n",
    "    print('*****************************************')\n",
    "    print('Count', i)\n",
    "    url = ''\n",
    "\n",
    "    driver.get(toto)\n",
    "    \n",
    "    time.sleep(2)\n",
    "    try:\n",
    "        image1, image2 = scrape_images()\n",
    "    except:\n",
    "        driver.get(toto)\n",
    "        image1, image2 = scrape_images()\n",
    "        \n",
    "    \n",
    "    url = toto\n",
    "    series = pd.Series([url, image1, image2],  index=df_images1.columns)\n",
    "    \n",
    "    df_images1 = df_images1.append(series, ignore_index=True)\n",
    "    df_images1.to_excel( f'update_rugaid_images4.xlsx', index = False)"
   ]
  },
  {
   "cell_type": "code",
   "execution_count": 20,
   "id": "c551a079",
   "metadata": {},
   "outputs": [
    {
     "data": {
      "text/html": [
       "<div>\n",
       "<style scoped>\n",
       "    .dataframe tbody tr th:only-of-type {\n",
       "        vertical-align: middle;\n",
       "    }\n",
       "\n",
       "    .dataframe tbody tr th {\n",
       "        vertical-align: top;\n",
       "    }\n",
       "\n",
       "    .dataframe thead th {\n",
       "        text-align: right;\n",
       "    }\n",
       "</style>\n",
       "<table border=\"1\" class=\"dataframe\">\n",
       "  <thead>\n",
       "    <tr style=\"text-align: right;\">\n",
       "      <th></th>\n",
       "      <th>url</th>\n",
       "      <th>images1</th>\n",
       "      <th>image2</th>\n",
       "    </tr>\n",
       "  </thead>\n",
       "  <tbody>\n",
       "  </tbody>\n",
       "</table>\n",
       "</div>"
      ],
      "text/plain": [
       "Empty DataFrame\n",
       "Columns: [url, images1, image2]\n",
       "Index: []"
      ]
     },
     "execution_count": 20,
     "metadata": {},
     "output_type": "execute_result"
    }
   ],
   "source": [
    "df_images1"
   ]
  },
  {
   "cell_type": "code",
   "execution_count": 11,
   "id": "a320f002",
   "metadata": {},
   "outputs": [
    {
     "ename": "IndexError",
     "evalue": "list index out of range",
     "output_type": "error",
     "traceback": [
      "\u001b[0;31m---------------------------------------------------------------------------\u001b[0m",
      "\u001b[0;31mIndexError\u001b[0m                                Traceback (most recent call last)",
      "\u001b[0;32m<ipython-input-11-f1c64f47abcd>\u001b[0m in \u001b[0;36m<module>\u001b[0;34m\u001b[0m\n\u001b[0;32m----> 1\u001b[0;31m \u001b[0mlist_images\u001b[0m\u001b[0;34m[\u001b[0m\u001b[0;36m0\u001b[0m\u001b[0;34m]\u001b[0m\u001b[0;34m\u001b[0m\u001b[0;34m\u001b[0m\u001b[0m\n\u001b[0m",
      "\u001b[0;31mIndexError\u001b[0m: list index out of range"
     ]
    }
   ],
   "source": [
    "list_images[0]"
   ]
  },
  {
   "cell_type": "code",
   "execution_count": 13,
   "id": "ce9a8280",
   "metadata": {},
   "outputs": [],
   "source": [
    "def scrape_images():\n",
    "    list_images = []\n",
    "    images_click = driver.find_elements_by_class_name('product-gallery__thumbnail')\n",
    "\n",
    "\n",
    "    for ele in images_click:\n",
    "        #ele.click()\n",
    "        driver.execute_script(\"arguments[0].click();\", ele)\n",
    "        time.sleep(0.5)\n",
    "    images = driver.find_elements_by_class_name('product-gallery__image')\n",
    "    len(images)\n",
    "    for img in images:\n",
    "        #list_images.append('https:'+img.get_attribute('data-srcset').split(' ')[0])\n",
    "    #     print(':', img.get_attribute('srcset').split(', ')[0].split('?')[0])\n",
    "        time.sleep(1)\n",
    "        try:\n",
    "            t = 'https:'+img.get_attribute('data-srcset').split(', ')[0].split('?')[0]\n",
    "        except:\n",
    "            continue\n",
    "    #     print(img.get_attribute('data-srcset'))\n",
    "    #     soup = BeautifulSoup(img.get_attribute('innerHTML'), 'html.parser')\n",
    "    #     print('toto',soup)\n",
    "        print(t)\n",
    "        list_images.append(t)\n",
    "    print('len list images',len(list_images))\n",
    "    try:\n",
    "        timage = ','.join(list_images[1:])\n",
    "    #         list_input_images2.append(timage)\n",
    "        print(timage)\n",
    "    except:\n",
    "        timage = ''\n",
    "    print('images2-', timage)\n",
    "    image1 = list_images[0]\n",
    "    image2 = timage\n",
    "    return image1, image2"
   ]
  },
  {
   "cell_type": "code",
   "execution_count": 14,
   "id": "802135f2",
   "metadata": {},
   "outputs": [
    {
     "name": "stdout",
     "output_type": "stream",
     "text": [
      "https://cdn.shopify.com/s/files/1/0773/5495/products/ciiktkasisyg3bumavxb_400x.jpg\n",
      "len list images 1\n",
      "\n",
      "images2- \n"
     ]
    },
    {
     "data": {
      "text/plain": [
       "('https://cdn.shopify.com/s/files/1/0773/5495/products/ciiktkasisyg3bumavxb_400x.jpg',\n",
       " '')"
      ]
     },
     "execution_count": 14,
     "metadata": {},
     "output_type": "execute_result"
    }
   ],
   "source": []
  },
  {
   "cell_type": "code",
   "execution_count": null,
   "id": "e9b50a4b",
   "metadata": {},
   "outputs": [],
   "source": []
  },
  {
   "cell_type": "code",
   "execution_count": 64,
   "id": "2e8fd384",
   "metadata": {},
   "outputs": [],
   "source": [
    "def regex_pass(toto):\n",
    "    \n",
    "#     if cas2_regex.search(toto) != None:\n",
    "#         print('regex2')\n",
    "#     if cas3_regex.search(toto) != None:\n",
    "#         print('regex3')\n",
    "#     if cas4_regex.search(toto) != None:\n",
    "#         print('regex4')\n",
    "    if cas5_regex.search(toto) != None:\n",
    "        print('regex5')\n",
    "        return  filter_data_size_regex5(toto)\n",
    "#         print(toto)\n",
    "            \n",
    "    elif cas1_regex.search(toto) != None:\n",
    "        print('regex1')\n",
    "        return  filter_data_size_regex1(toto)\n",
    "        \n",
    "    elif cas7_regex.search(toto) != None:\n",
    "        print('regex7')\n",
    "        return filter_data_size_regex7(toto)\n",
    "    \n",
    "    elif cas21_regex.search(toto) != None:\n",
    "        print('regex21')\n",
    "        return filter_data_size_regex21(toto)\n",
    "        \n",
    "    elif cas8_regex.search(toto) != None:\n",
    "        print('regex8')\n",
    "        return filter_data_size_regex8(toto)\n",
    "        \n",
    "    elif cas9_regex.search(toto) != None:\n",
    "        print('regex9')\n",
    "        return filter_data_size_regex9(toto)\n",
    "    \n",
    "    elif cas10_regex.search(toto) != None:\n",
    "        print('regex10')\n",
    "        return filter_data_size_regex10(toto)\n",
    "        \n",
    "    elif cas11_regex.search(toto) != None:\n",
    "        print('regex11')\n",
    "        return filter_data_size_regex11(toto)\n",
    "    \n",
    "    elif cas12_regex.search(toto) != None:\n",
    "        print('regex12')\n",
    "        return filter_data_size_regex12(toto)\n",
    "    \n",
    "    elif cas13_regex.search(toto) != None:\n",
    "        print('regex13')\n",
    "        return filter_data_size_regex13(toto)\n",
    "        \n",
    "    elif cas14_regex.search(toto) != None:\n",
    "        print('regex14')\n",
    "        return filter_data_size_regex14(toto)\n",
    "    \n",
    "    elif cas15_regex.search(toto) != None:\n",
    "        print('regex15')\n",
    "        return filter_data_size_regex15(toto)\n",
    "    \n",
    "    elif cas16_regex.search(toto) != None:\n",
    "        print('regex16')\n",
    "        return filter_data_size_regex16(toto)\n",
    "        \n",
    "    elif cas17_regex.search(toto) != None:\n",
    "        print('regex17')\n",
    "        height = 0, \n",
    "        length = 0\n",
    "        width = 0\n",
    "\n",
    "        return height, length, width\n",
    "    \n",
    "    elif cas18_regex.search(toto) != None:\n",
    "        print('regex18')\n",
    "        return filter_data_size_regex18(toto)\n",
    "        \n",
    "    elif cas19_regex.search(toto) != None:\n",
    "        print('regex19')\n",
    "        return filter_data_size_regex19(toto)\n",
    "    elif cas20_regex.search(toto) != None:\n",
    "        print('regex20')\n",
    "        return filter_data_size_regex20(toto)\n",
    "    \n",
    "    elif cas22_regex.search(toto) != None:\n",
    "        print('regex22')\n",
    "        return filter_data_size_regex22(toto)\n",
    "    \n",
    "    elif cas23_regex.search(toto) != None:\n",
    "            print('regex19')\n",
    "            return filter_data_size_regex23(toto)\n",
    "        \n",
    "    elif cas24_regex.search(toto) != None:\n",
    "            print('regex19')\n",
    "            return filter_data_size_regex24(toto)"
   ]
  },
  {
   "cell_type": "code",
   "execution_count": 70,
   "id": "d4f92a10",
   "metadata": {},
   "outputs": [],
   "source": [
    "text = 'Inches: 26\" W x 26\" D x 25.88\" H'"
   ]
  },
  {
   "cell_type": "code",
   "execution_count": null,
   "id": "ac485009",
   "metadata": {},
   "outputs": [],
   "source": []
  },
  {
   "cell_type": "code",
   "execution_count": 71,
   "id": "45e85a00",
   "metadata": {},
   "outputs": [
    {
     "name": "stdout",
     "output_type": "stream",
     "text": [
      "regex8\n",
      "['Inches: 26\" W ', ' 26\" D ', ' 25.88\" H']\n",
      "width Inches: 26\" W \n",
      "['Inches:', '26\"', 'W', '']\n",
      "W\n",
      "\n",
      "width 66.04\n",
      "lenght  26\" D \n",
      "['', '26\"', 'D', '']\n",
      "\n",
      "D\n",
      "\n",
      "lenght 66.04\n",
      "hight  25.88\" H\n",
      " 25.88\" H\n",
      "['', '25.88\"', 'H']\n",
      "\n",
      "H\n",
      "hight 65.73519999999999\n",
      "W: 66.04\n",
      "L: 66.04\n",
      "H: 65.73519999999999\n"
     ]
    },
    {
     "data": {
      "text/plain": [
       "(66.04, 66.04, 65.73519999999999)"
      ]
     },
     "execution_count": 71,
     "metadata": {},
     "output_type": "execute_result"
    }
   ],
   "source": [
    "regex_pass(text)"
   ]
  },
  {
   "cell_type": "code",
   "execution_count": null,
   "id": "e4b4e401",
   "metadata": {},
   "outputs": [],
   "source": []
  },
  {
   "cell_type": "code",
   "execution_count": null,
   "id": "c07f4949",
   "metadata": {},
   "outputs": [],
   "source": []
  },
  {
   "cell_type": "code",
   "execution_count": null,
   "id": "f25fa38f",
   "metadata": {},
   "outputs": [],
   "source": []
  },
  {
   "cell_type": "code",
   "execution_count": null,
   "id": "308a95f5",
   "metadata": {},
   "outputs": [],
   "source": []
  },
  {
   "cell_type": "code",
   "execution_count": null,
   "id": "05efcae3",
   "metadata": {},
   "outputs": [],
   "source": []
  },
  {
   "cell_type": "code",
   "execution_count": null,
   "id": "bca03039",
   "metadata": {},
   "outputs": [],
   "source": []
  },
  {
   "cell_type": "code",
   "execution_count": null,
   "id": "89e23c10",
   "metadata": {},
   "outputs": [],
   "source": []
  },
  {
   "cell_type": "code",
   "execution_count": null,
   "id": "9bad641c",
   "metadata": {},
   "outputs": [],
   "source": []
  },
  {
   "cell_type": "code",
   "execution_count": null,
   "id": "178e15c4",
   "metadata": {},
   "outputs": [],
   "source": []
  },
  {
   "cell_type": "code",
   "execution_count": null,
   "id": "a7318dda",
   "metadata": {},
   "outputs": [],
   "source": []
  },
  {
   "cell_type": "code",
   "execution_count": null,
   "id": "692102c3",
   "metadata": {},
   "outputs": [],
   "source": []
  },
  {
   "cell_type": "code",
   "execution_count": null,
   "id": "88c80795",
   "metadata": {},
   "outputs": [],
   "source": []
  },
  {
   "cell_type": "code",
   "execution_count": null,
   "id": "a5ca5ce8",
   "metadata": {},
   "outputs": [],
   "source": []
  },
  {
   "cell_type": "code",
   "execution_count": 197,
   "id": "f666efee",
   "metadata": {},
   "outputs": [
    {
     "data": {
      "text/plain": [
       "372"
      ]
     },
     "execution_count": 197,
     "metadata": {},
     "output_type": "execute_result"
    }
   ],
   "source": [
    "len(toto_images)"
   ]
  },
  {
   "cell_type": "code",
   "execution_count": 15,
   "id": "62dea5c8",
   "metadata": {},
   "outputs": [],
   "source": [
    "col = pd.read_excel('/home/wafistos/Documents/Projects/scaping_wafi/scrapingalrugaibfurniture/sub_categories/model_images.xlsx')"
   ]
  },
  {
   "cell_type": "code",
   "execution_count": 16,
   "id": "42628965",
   "metadata": {},
   "outputs": [
    {
     "data": {
      "text/plain": [
       "Index(['url', 'images1', 'image2'], dtype='object')"
      ]
     },
     "execution_count": 16,
     "metadata": {},
     "output_type": "execute_result"
    }
   ],
   "source": [
    "col.columns"
   ]
  },
  {
   "cell_type": "code",
   "execution_count": 4,
   "id": "bb5ed279",
   "metadata": {},
   "outputs": [],
   "source": [
    "df =  pd.read_excel('/home/wafistos/Documents/Projects/scaping_wafi/scrapingalrugaibfurniture/sub_categories/Rugaid_update_06_08_2021v2.xlsx')"
   ]
  },
  {
   "cell_type": "code",
   "execution_count": 205,
   "id": "083284bd",
   "metadata": {},
   "outputs": [
    {
     "data": {
      "text/plain": [
       "(10459, 37)"
      ]
     },
     "execution_count": 205,
     "metadata": {},
     "output_type": "execute_result"
    }
   ],
   "source": [
    "df.shape"
   ]
  },
  {
   "cell_type": "code",
   "execution_count": 206,
   "id": "30d62e41",
   "metadata": {},
   "outputs": [],
   "source": [
    "df['categories'] = ''"
   ]
  },
  {
   "cell_type": "code",
   "execution_count": null,
   "id": "030cd469",
   "metadata": {},
   "outputs": [],
   "source": []
  },
  {
   "cell_type": "code",
   "execution_count": null,
   "id": "1652aa65",
   "metadata": {},
   "outputs": [],
   "source": []
  },
  {
   "cell_type": "code",
   "execution_count": null,
   "id": "f8eec01f",
   "metadata": {},
   "outputs": [],
   "source": []
  },
  {
   "cell_type": "code",
   "execution_count": null,
   "id": "2f7ad8d1",
   "metadata": {},
   "outputs": [],
   "source": []
  },
  {
   "cell_type": "code",
   "execution_count": 170,
   "id": "4486827d",
   "metadata": {},
   "outputs": [
    {
     "data": {
      "text/html": [
       "<div>\n",
       "<style scoped>\n",
       "    .dataframe tbody tr th:only-of-type {\n",
       "        vertical-align: middle;\n",
       "    }\n",
       "\n",
       "    .dataframe tbody tr th {\n",
       "        vertical-align: top;\n",
       "    }\n",
       "\n",
       "    .dataframe thead th {\n",
       "        text-align: right;\n",
       "    }\n",
       "</style>\n",
       "<table border=\"1\" class=\"dataframe\">\n",
       "  <thead>\n",
       "    <tr style=\"text-align: right;\">\n",
       "      <th></th>\n",
       "      <th>sku</th>\n",
       "      <th>is_in_stock</th>\n",
       "      <th>name</th>\n",
       "      <th>price</th>\n",
       "      <th>special_price</th>\n",
       "      <th>short_description</th>\n",
       "      <th>free_colors</th>\n",
       "      <th>description</th>\n",
       "      <th>ts_dimensions_width</th>\n",
       "      <th>ts_dimensions_height</th>\n",
       "      <th>...</th>\n",
       "      <th>swatch_image</th>\n",
       "      <th>thumbnail_image</th>\n",
       "      <th>attribute_set_code</th>\n",
       "      <th>product_websites</th>\n",
       "      <th>out_of_stock_qty</th>\n",
       "      <th>qty</th>\n",
       "      <th>product_online</th>\n",
       "      <th>mgs_brand</th>\n",
       "      <th>estimated_delivery_text</th>\n",
       "      <th>supplier</th>\n",
       "    </tr>\n",
       "  </thead>\n",
       "  <tbody>\n",
       "  </tbody>\n",
       "</table>\n",
       "<p>0 rows × 37 columns</p>\n",
       "</div>"
      ],
      "text/plain": [
       "Empty DataFrame\n",
       "Columns: [sku, is_in_stock, name, price, special_price, short_description, free_colors, description, ts_dimensions_width, ts_dimensions_height, ts_dimensions_length, collection, base_image, url_key, visibility, tax_class_name, manufacturer, news_from_date, news_to_date, additional_images, link_url, categories1, categories2, categories3, allow_backorders, estimated_delivery_enable, small_image, swatch_image, thumbnail_image, attribute_set_code, product_websites, out_of_stock_qty, qty, product_online, mgs_brand, estimated_delivery_text, supplier]\n",
       "Index: []\n",
       "\n",
       "[0 rows x 37 columns]"
      ]
     },
     "execution_count": 170,
     "metadata": {},
     "output_type": "execute_result"
    }
   ],
   "source": [
    "df"
   ]
  },
  {
   "cell_type": "code",
   "execution_count": 207,
   "id": "39935f80",
   "metadata": {},
   "outputs": [],
   "source": [
    "brand_excel = pd.read_excel('/home/wafistos/Downloads/Rugaib categories and brands.xlsx')"
   ]
  },
  {
   "cell_type": "code",
   "execution_count": 214,
   "id": "b29fe39f",
   "metadata": {},
   "outputs": [
    {
     "data": {
      "text/plain": [
       "(69, 26)"
      ]
     },
     "execution_count": 214,
     "metadata": {},
     "output_type": "execute_result"
    }
   ],
   "source": [
    "brand_excel.shape"
   ]
  },
  {
   "cell_type": "code",
   "execution_count": 211,
   "id": "0b994d90",
   "metadata": {},
   "outputs": [],
   "source": [
    "list_brands_dic = []\n",
    "for index, row in brand_excel.iterrows():\n",
    "    list_brands_dic.append([row['Name of category '], row['Num of category '], row['Discription ']])"
   ]
  },
  {
   "cell_type": "code",
   "execution_count": 244,
   "id": "8dd9de91",
   "metadata": {},
   "outputs": [
    {
     "data": {
      "text/html": [
       "<div>\n",
       "<style scoped>\n",
       "    .dataframe tbody tr th:only-of-type {\n",
       "        vertical-align: middle;\n",
       "    }\n",
       "\n",
       "    .dataframe tbody tr th {\n",
       "        vertical-align: top;\n",
       "    }\n",
       "\n",
       "    .dataframe thead th {\n",
       "        text-align: right;\n",
       "    }\n",
       "</style>\n",
       "<table border=\"1\" class=\"dataframe\">\n",
       "  <thead>\n",
       "    <tr style=\"text-align: right;\">\n",
       "      <th></th>\n",
       "      <th>sku</th>\n",
       "      <th>is_in_stock</th>\n",
       "      <th>name</th>\n",
       "      <th>price</th>\n",
       "      <th>special_price</th>\n",
       "      <th>short_description</th>\n",
       "      <th>free_colors</th>\n",
       "      <th>description</th>\n",
       "      <th>ts_dimensions_width</th>\n",
       "      <th>ts_dimensions_height</th>\n",
       "      <th>...</th>\n",
       "      <th>thumbnail_image</th>\n",
       "      <th>attribute_set_code</th>\n",
       "      <th>product_websites</th>\n",
       "      <th>out_of_stock_qty</th>\n",
       "      <th>qty</th>\n",
       "      <th>product_online</th>\n",
       "      <th>mgs_brand</th>\n",
       "      <th>estimated_delivery_text</th>\n",
       "      <th>supplier</th>\n",
       "      <th>categories</th>\n",
       "    </tr>\n",
       "  </thead>\n",
       "  <tbody>\n",
       "  </tbody>\n",
       "</table>\n",
       "<p>0 rows × 38 columns</p>\n",
       "</div>"
      ],
      "text/plain": [
       "Empty DataFrame\n",
       "Columns: [sku, is_in_stock, name, price, special_price, short_description, free_colors, description, ts_dimensions_width, ts_dimensions_height, ts_dimensions_length, collection, base_image, url_key, visibility, tax_class_name, manufacturer, news_from_date, news_to_date, additional_images, link_url, categories1, categories2, categories3, allow_backorders, estimated_delivery_enable, small_image, swatch_image, thumbnail_image, attribute_set_code, product_websites, out_of_stock_qty, qty, product_online, mgs_brand, estimated_delivery_text, supplier, categories]\n",
       "Index: []\n",
       "\n",
       "[0 rows x 38 columns]"
      ]
     },
     "execution_count": 244,
     "metadata": {},
     "output_type": "execute_result"
    }
   ],
   "source": [
    "df.loc[df['short_description'].isnull()]"
   ]
  },
  {
   "cell_type": "code",
   "execution_count": 248,
   "id": "b8903a88",
   "metadata": {},
   "outputs": [],
   "source": [
    "df_msg = pd.read_excel('/home/wafistos/Downloads/Rugaib categories and brands(1).xlsx')"
   ]
  },
  {
   "cell_type": "code",
   "execution_count": 249,
   "id": "9bc99b6a",
   "metadata": {},
   "outputs": [
    {
     "data": {
      "text/plain": [
       "Index(['collection', 'mgs_brand', 'Unnamed: 2', 'Unnamed: 3', 'Unnamed: 4',\n",
       "       'Unnamed: 5', 'Unnamed: 6', 'Unnamed: 7', 'Unnamed: 8', 'Unnamed: 9',\n",
       "       'Unnamed: 10', 'Unnamed: 11', 'Unnamed: 12', 'Unnamed: 13',\n",
       "       'Unnamed: 14', 'Unnamed: 15', 'Unnamed: 16', 'Unnamed: 17',\n",
       "       'Unnamed: 18', 'Unnamed: 19', 'Unnamed: 20', 'Unnamed: 21',\n",
       "       'Unnamed: 22', 'Unnamed: 23', 'Unnamed: 24', 'Unnamed: 25'],\n",
       "      dtype='object')"
      ]
     },
     "execution_count": 249,
     "metadata": {},
     "output_type": "execute_result"
    }
   ],
   "source": [
    "df_msg.columns"
   ]
  },
  {
   "cell_type": "code",
   "execution_count": 252,
   "id": "1e3d2454",
   "metadata": {},
   "outputs": [],
   "source": [
    "list_mgs_dic = []\n",
    "for index, row in df_msg.iterrows():\n",
    "    list_mgs_dic.append([row['collection'], row['mgs_brand']])"
   ]
  },
  {
   "cell_type": "code",
   "execution_count": 256,
   "id": "7a083f04",
   "metadata": {},
   "outputs": [],
   "source": [
    "for titi in list_mgs_dic:\n",
    "    df.loc[df['collection'] == titi[0], 'mgs_brand'] = titi[1] "
   ]
  },
  {
   "cell_type": "code",
   "execution_count": null,
   "id": "8eaab2e5",
   "metadata": {},
   "outputs": [],
   "source": []
  },
  {
   "cell_type": "code",
   "execution_count": 245,
   "id": "62e90892",
   "metadata": {},
   "outputs": [
    {
     "data": {
      "text/plain": [
       "Index(['sku', 'is_in_stock', 'name', 'price', 'special_price',\n",
       "       'short_description', 'free_colors', 'description',\n",
       "       'ts_dimensions_width', 'ts_dimensions_height', 'ts_dimensions_length',\n",
       "       'collection', 'base_image', 'url_key', 'visibility', 'tax_class_name',\n",
       "       'manufacturer', 'news_from_date', 'news_to_date', 'additional_images',\n",
       "       'link_url', 'categories1', 'categories2', 'categories3',\n",
       "       'allow_backorders', 'estimated_delivery_enable', 'small_image',\n",
       "       'swatch_image', 'thumbnail_image', 'attribute_set_code',\n",
       "       'product_websites', 'out_of_stock_qty', 'qty', 'product_online',\n",
       "       'mgs_brand', 'estimated_delivery_text', 'supplier', 'categories'],\n",
       "      dtype='object')"
      ]
     },
     "execution_count": 245,
     "metadata": {},
     "output_type": "execute_result"
    }
   ],
   "source": [
    "df.columns"
   ]
  },
  {
   "cell_type": "code",
   "execution_count": null,
   "id": "2d16788f",
   "metadata": {},
   "outputs": [],
   "source": []
  },
  {
   "cell_type": "code",
   "execution_count": null,
   "id": "f320bf72",
   "metadata": {},
   "outputs": [],
   "source": []
  },
  {
   "cell_type": "code",
   "execution_count": 257,
   "id": "bbd8e61b",
   "metadata": {},
   "outputs": [],
   "source": [
    "df.to_excel('toto.xlsx')"
   ]
  },
  {
   "cell_type": "code",
   "execution_count": 233,
   "id": "aedab6a6",
   "metadata": {},
   "outputs": [
    {
     "data": {
      "text/html": [
       "<div>\n",
       "<style scoped>\n",
       "    .dataframe tbody tr th:only-of-type {\n",
       "        vertical-align: middle;\n",
       "    }\n",
       "\n",
       "    .dataframe tbody tr th {\n",
       "        vertical-align: top;\n",
       "    }\n",
       "\n",
       "    .dataframe thead th {\n",
       "        text-align: right;\n",
       "    }\n",
       "</style>\n",
       "<table border=\"1\" class=\"dataframe\">\n",
       "  <thead>\n",
       "    <tr style=\"text-align: right;\">\n",
       "      <th></th>\n",
       "      <th>sku</th>\n",
       "      <th>is_in_stock</th>\n",
       "      <th>name</th>\n",
       "      <th>price</th>\n",
       "      <th>special_price</th>\n",
       "      <th>short_description</th>\n",
       "      <th>free_colors</th>\n",
       "      <th>description</th>\n",
       "      <th>ts_dimensions_width</th>\n",
       "      <th>ts_dimensions_height</th>\n",
       "      <th>...</th>\n",
       "      <th>thumbnail_image</th>\n",
       "      <th>attribute_set_code</th>\n",
       "      <th>product_websites</th>\n",
       "      <th>out_of_stock_qty</th>\n",
       "      <th>qty</th>\n",
       "      <th>product_online</th>\n",
       "      <th>mgs_brand</th>\n",
       "      <th>estimated_delivery_text</th>\n",
       "      <th>supplier</th>\n",
       "      <th>categories</th>\n",
       "    </tr>\n",
       "  </thead>\n",
       "  <tbody>\n",
       "    <tr>\n",
       "      <th>4658</th>\n",
       "      <td>ROG-13651-01</td>\n",
       "      <td>1</td>\n",
       "      <td>DECOR ITEM</td>\n",
       "      <td>110.00</td>\n",
       "      <td>__EMPTY__VALUE__</td>\n",
       "      <td>Material-METAL - MDF - PVC\\nColor-WHITE\\nWeigh...</td>\n",
       "      <td>WHITE</td>\n",
       "      <td>Material-METAL - MDF - PVC\\nColor-WHITE\\nWeigh...</td>\n",
       "      <td>__EMPTY__VALUE__</td>\n",
       "      <td>__EMPTY__VALUE__</td>\n",
       "      <td>...</td>\n",
       "      <td>https://cdn.shopify.com/s/files/1/0773/5495/pr...</td>\n",
       "      <td>Default</td>\n",
       "      <td>base</td>\n",
       "      <td>-5</td>\n",
       "      <td>0</td>\n",
       "      <td>1</td>\n",
       "      <td>__EMPTY__VALUE__</td>\n",
       "      <td>__EMPTY__VALUE__</td>\n",
       "      <td>ROG</td>\n",
       "      <td></td>\n",
       "    </tr>\n",
       "    <tr>\n",
       "      <th>4659</th>\n",
       "      <td>ROG-A2000159</td>\n",
       "      <td>1</td>\n",
       "      <td>Photo Frame (Set of 2)</td>\n",
       "      <td>465.75</td>\n",
       "      <td>__EMPTY__VALUE__</td>\n",
       "      <td>Fond memories don’t have to fade. Capture them...</td>\n",
       "      <td>__EMPTY__VALUE__</td>\n",
       "      <td>Fond memories don’t have to fade. Capture them...</td>\n",
       "      <td>__EMPTY__VALUE__</td>\n",
       "      <td>__EMPTY__VALUE__</td>\n",
       "      <td>...</td>\n",
       "      <td>https://cdn.shopify.com/s/files/1/0773/5495/pr...</td>\n",
       "      <td>Default</td>\n",
       "      <td>base</td>\n",
       "      <td>-5</td>\n",
       "      <td>0</td>\n",
       "      <td>1</td>\n",
       "      <td>__EMPTY__VALUE__</td>\n",
       "      <td>__EMPTY__VALUE__</td>\n",
       "      <td>ROG</td>\n",
       "      <td></td>\n",
       "    </tr>\n",
       "    <tr>\n",
       "      <th>4660</th>\n",
       "      <td>ROG-A2080001</td>\n",
       "      <td>1</td>\n",
       "      <td>PHOTO FRAME</td>\n",
       "      <td>115.00</td>\n",
       "      <td>__EMPTY__VALUE__</td>\n",
       "      <td>Master Item Number-\\nA2080001\\nCarton Contains...</td>\n",
       "      <td>White/Purple</td>\n",
       "      <td>Master Item Number-\\nA2080001\\nCarton Contains...</td>\n",
       "      <td>__EMPTY__VALUE__</td>\n",
       "      <td>__EMPTY__VALUE__</td>\n",
       "      <td>...</td>\n",
       "      <td>https://cdn.shopify.com/s/files/1/0773/5495/pr...</td>\n",
       "      <td>Default</td>\n",
       "      <td>base</td>\n",
       "      <td>-5</td>\n",
       "      <td>0</td>\n",
       "      <td>1</td>\n",
       "      <td>__EMPTY__VALUE__</td>\n",
       "      <td>__EMPTY__VALUE__</td>\n",
       "      <td>ROG</td>\n",
       "      <td></td>\n",
       "    </tr>\n",
       "    <tr>\n",
       "      <th>4661</th>\n",
       "      <td>ROG-15682-02</td>\n",
       "      <td>1</td>\n",
       "      <td>5X5 RESIN ROUND SWIRLS PHOTO FRAME-BLACK</td>\n",
       "      <td>150.00</td>\n",
       "      <td>__EMPTY__VALUE__</td>\n",
       "      <td>12.7 W inch X12.7 H Inch</td>\n",
       "      <td>__EMPTY__VALUE__</td>\n",
       "      <td>12.7 W inch X12.7 H Inch</td>\n",
       "      <td>__EMPTY__VALUE__</td>\n",
       "      <td>__EMPTY__VALUE__</td>\n",
       "      <td>...</td>\n",
       "      <td>https://cdn.shopify.com/s/files/1/0773/5495/pr...</td>\n",
       "      <td>Default</td>\n",
       "      <td>base</td>\n",
       "      <td>-5</td>\n",
       "      <td>0</td>\n",
       "      <td>1</td>\n",
       "      <td>__EMPTY__VALUE__</td>\n",
       "      <td>__EMPTY__VALUE__</td>\n",
       "      <td>ROG</td>\n",
       "      <td></td>\n",
       "    </tr>\n",
       "    <tr>\n",
       "      <th>4662</th>\n",
       "      <td>ROG-A2080005</td>\n",
       "      <td>1</td>\n",
       "      <td>PHOTO FRAME (SET OF 2)</td>\n",
       "      <td>115.00</td>\n",
       "      <td>__EMPTY__VALUE__</td>\n",
       "      <td>A2080005</td>\n",
       "      <td>__EMPTY__VALUE__</td>\n",
       "      <td>A2080005</td>\n",
       "      <td>__EMPTY__VALUE__</td>\n",
       "      <td>__EMPTY__VALUE__</td>\n",
       "      <td>...</td>\n",
       "      <td>https://cdn.shopify.com/s/files/1/0773/5495/pr...</td>\n",
       "      <td>Default</td>\n",
       "      <td>base</td>\n",
       "      <td>-5</td>\n",
       "      <td>0</td>\n",
       "      <td>1</td>\n",
       "      <td>__EMPTY__VALUE__</td>\n",
       "      <td>__EMPTY__VALUE__</td>\n",
       "      <td>ROG</td>\n",
       "      <td></td>\n",
       "    </tr>\n",
       "    <tr>\n",
       "      <th>4663</th>\n",
       "      <td>ROG-18567-UTT</td>\n",
       "      <td>1</td>\n",
       "      <td>Daria Photo Frames-S-3</td>\n",
       "      <td>759.00</td>\n",
       "      <td>__EMPTY__VALUE__</td>\n",
       "      <td>Display those special photos in these sophisti...</td>\n",
       "      <td>__EMPTY__VALUE__</td>\n",
       "      <td>Display those special photos in these sophisti...</td>\n",
       "      <td>__EMPTY__VALUE__</td>\n",
       "      <td>__EMPTY__VALUE__</td>\n",
       "      <td>...</td>\n",
       "      <td>https://cdn.shopify.com/s/files/1/0773/5495/pr...</td>\n",
       "      <td>Default</td>\n",
       "      <td>base</td>\n",
       "      <td>-5</td>\n",
       "      <td>0</td>\n",
       "      <td>1</td>\n",
       "      <td>__EMPTY__VALUE__</td>\n",
       "      <td>__EMPTY__VALUE__</td>\n",
       "      <td>ROG</td>\n",
       "      <td></td>\n",
       "    </tr>\n",
       "    <tr>\n",
       "      <th>4664</th>\n",
       "      <td>ROG-18564-UTT</td>\n",
       "      <td>1</td>\n",
       "      <td>Ambrosia Photo Frames-S-3</td>\n",
       "      <td>816.50</td>\n",
       "      <td>__EMPTY__VALUE__</td>\n",
       "      <td>Frames feature o-idized copper sheeting. The o...</td>\n",
       "      <td>__EMPTY__VALUE__</td>\n",
       "      <td>Frames feature o-idized copper sheeting. The o...</td>\n",
       "      <td>__EMPTY__VALUE__</td>\n",
       "      <td>__EMPTY__VALUE__</td>\n",
       "      <td>...</td>\n",
       "      <td>https://cdn.shopify.com/s/files/1/0773/5495/pr...</td>\n",
       "      <td>Default</td>\n",
       "      <td>base</td>\n",
       "      <td>-5</td>\n",
       "      <td>0</td>\n",
       "      <td>1</td>\n",
       "      <td>__EMPTY__VALUE__</td>\n",
       "      <td>__EMPTY__VALUE__</td>\n",
       "      <td>ROG</td>\n",
       "      <td></td>\n",
       "    </tr>\n",
       "    <tr>\n",
       "      <th>4665</th>\n",
       "      <td>ROG-14969-02</td>\n",
       "      <td>1</td>\n",
       "      <td>POLYRESIN 5X7- STARFISH PHOTO FRAME-SILVER</td>\n",
       "      <td>170.00</td>\n",
       "      <td>__EMPTY__VALUE__</td>\n",
       "      <td>COLOR-SILVER\\nMATERIAL1-POLYRESIN\\nTREND-COAST...</td>\n",
       "      <td>SILVER</td>\n",
       "      <td>COLOR-SILVER\\nMATERIAL1-POLYRESIN\\nTREND-COAST...</td>\n",
       "      <td>__EMPTY__VALUE__</td>\n",
       "      <td>__EMPTY__VALUE__</td>\n",
       "      <td>...</td>\n",
       "      <td>https://cdn.shopify.com/s/files/1/0773/5495/pr...</td>\n",
       "      <td>Default</td>\n",
       "      <td>base</td>\n",
       "      <td>-5</td>\n",
       "      <td>0</td>\n",
       "      <td>1</td>\n",
       "      <td>__EMPTY__VALUE__</td>\n",
       "      <td>__EMPTY__VALUE__</td>\n",
       "      <td>ROG</td>\n",
       "      <td></td>\n",
       "    </tr>\n",
       "    <tr>\n",
       "      <th>4666</th>\n",
       "      <td>ROG-13651-02</td>\n",
       "      <td>1</td>\n",
       "      <td>WHITE MARBLE-GOLD PHOTO FRAME17-</td>\n",
       "      <td>109.25</td>\n",
       "      <td>__EMPTY__VALUE__</td>\n",
       "      <td>Material-METAL - MDF - PVC\\nColor-WHITE\\nWeigh...</td>\n",
       "      <td>WHITE</td>\n",
       "      <td>Material-METAL - MDF - PVC\\nColor-WHITE\\nWeigh...</td>\n",
       "      <td>__EMPTY__VALUE__</td>\n",
       "      <td>__EMPTY__VALUE__</td>\n",
       "      <td>...</td>\n",
       "      <td>https://cdn.shopify.com/s/files/1/0773/5495/pr...</td>\n",
       "      <td>Default</td>\n",
       "      <td>base</td>\n",
       "      <td>-5</td>\n",
       "      <td>0</td>\n",
       "      <td>1</td>\n",
       "      <td>__EMPTY__VALUE__</td>\n",
       "      <td>__EMPTY__VALUE__</td>\n",
       "      <td>ROG</td>\n",
       "      <td></td>\n",
       "    </tr>\n",
       "    <tr>\n",
       "      <th>4667</th>\n",
       "      <td>ROG-A2000193</td>\n",
       "      <td>1</td>\n",
       "      <td>PHOTO FRAME</td>\n",
       "      <td>230.00</td>\n",
       "      <td>__EMPTY__VALUE__</td>\n",
       "      <td>A2000193</td>\n",
       "      <td>__EMPTY__VALUE__</td>\n",
       "      <td>A2000193</td>\n",
       "      <td>__EMPTY__VALUE__</td>\n",
       "      <td>__EMPTY__VALUE__</td>\n",
       "      <td>...</td>\n",
       "      <td>https://cdn.shopify.com/s/files/1/0773/5495/pr...</td>\n",
       "      <td>Default</td>\n",
       "      <td>base</td>\n",
       "      <td>-5</td>\n",
       "      <td>0</td>\n",
       "      <td>1</td>\n",
       "      <td>__EMPTY__VALUE__</td>\n",
       "      <td>__EMPTY__VALUE__</td>\n",
       "      <td>ROG</td>\n",
       "      <td></td>\n",
       "    </tr>\n",
       "    <tr>\n",
       "      <th>4668</th>\n",
       "      <td>ROG-A2000150</td>\n",
       "      <td>1</td>\n",
       "      <td>Photo Frame</td>\n",
       "      <td>172.50</td>\n",
       "      <td>__EMPTY__VALUE__</td>\n",
       "      <td>Master Item Number-\\nA2000150\\nCarton Contains...</td>\n",
       "      <td>Orange</td>\n",
       "      <td>Master Item Number-\\nA2000150\\nCarton Contains...</td>\n",
       "      <td>629.031</td>\n",
       "      <td>806.45</td>\n",
       "      <td>...</td>\n",
       "      <td>https://cdn.shopify.com/s/files/1/0773/5495/pr...</td>\n",
       "      <td>Default</td>\n",
       "      <td>base</td>\n",
       "      <td>-5</td>\n",
       "      <td>0</td>\n",
       "      <td>1</td>\n",
       "      <td>__EMPTY__VALUE__</td>\n",
       "      <td>__EMPTY__VALUE__</td>\n",
       "      <td>ROG</td>\n",
       "      <td></td>\n",
       "    </tr>\n",
       "    <tr>\n",
       "      <th>4669</th>\n",
       "      <td>ROG-A2000148</td>\n",
       "      <td>1</td>\n",
       "      <td>Photo Frame</td>\n",
       "      <td>172.50</td>\n",
       "      <td>__EMPTY__VALUE__</td>\n",
       "      <td>Master Item Number-\\nA2000148\\nCarton Contains...</td>\n",
       "      <td>Teal</td>\n",
       "      <td>Master Item Number-\\nA2000148\\nCarton Contains...</td>\n",
       "      <td>645.16</td>\n",
       "      <td>419.354</td>\n",
       "      <td>...</td>\n",
       "      <td>https://cdn.shopify.com/s/files/1/0773/5495/pr...</td>\n",
       "      <td>Default</td>\n",
       "      <td>base</td>\n",
       "      <td>-5</td>\n",
       "      <td>0</td>\n",
       "      <td>1</td>\n",
       "      <td>__EMPTY__VALUE__</td>\n",
       "      <td>__EMPTY__VALUE__</td>\n",
       "      <td>ROG</td>\n",
       "      <td></td>\n",
       "    </tr>\n",
       "  </tbody>\n",
       "</table>\n",
       "<p>12 rows × 38 columns</p>\n",
       "</div>"
      ],
      "text/plain": [
       "                sku  is_in_stock                                        name  \\\n",
       "4658   ROG-13651-01            1                                  DECOR ITEM   \n",
       "4659   ROG-A2000159            1                      Photo Frame (Set of 2)   \n",
       "4660   ROG-A2080001            1                                 PHOTO FRAME   \n",
       "4661   ROG-15682-02            1    5X5 RESIN ROUND SWIRLS PHOTO FRAME-BLACK   \n",
       "4662   ROG-A2080005            1                      PHOTO FRAME (SET OF 2)   \n",
       "4663  ROG-18567-UTT            1                      Daria Photo Frames-S-3   \n",
       "4664  ROG-18564-UTT            1                   Ambrosia Photo Frames-S-3   \n",
       "4665   ROG-14969-02            1  POLYRESIN 5X7- STARFISH PHOTO FRAME-SILVER   \n",
       "4666   ROG-13651-02            1            WHITE MARBLE-GOLD PHOTO FRAME17-   \n",
       "4667   ROG-A2000193            1                                 PHOTO FRAME   \n",
       "4668   ROG-A2000150            1                                 Photo Frame   \n",
       "4669   ROG-A2000148            1                                 Photo Frame   \n",
       "\n",
       "       price     special_price  \\\n",
       "4658  110.00  __EMPTY__VALUE__   \n",
       "4659  465.75  __EMPTY__VALUE__   \n",
       "4660  115.00  __EMPTY__VALUE__   \n",
       "4661  150.00  __EMPTY__VALUE__   \n",
       "4662  115.00  __EMPTY__VALUE__   \n",
       "4663  759.00  __EMPTY__VALUE__   \n",
       "4664  816.50  __EMPTY__VALUE__   \n",
       "4665  170.00  __EMPTY__VALUE__   \n",
       "4666  109.25  __EMPTY__VALUE__   \n",
       "4667  230.00  __EMPTY__VALUE__   \n",
       "4668  172.50  __EMPTY__VALUE__   \n",
       "4669  172.50  __EMPTY__VALUE__   \n",
       "\n",
       "                                      short_description       free_colors  \\\n",
       "4658  Material-METAL - MDF - PVC\\nColor-WHITE\\nWeigh...             WHITE   \n",
       "4659  Fond memories don’t have to fade. Capture them...  __EMPTY__VALUE__   \n",
       "4660  Master Item Number-\\nA2080001\\nCarton Contains...      White/Purple   \n",
       "4661                           12.7 W inch X12.7 H Inch  __EMPTY__VALUE__   \n",
       "4662                                           A2080005  __EMPTY__VALUE__   \n",
       "4663  Display those special photos in these sophisti...  __EMPTY__VALUE__   \n",
       "4664  Frames feature o-idized copper sheeting. The o...  __EMPTY__VALUE__   \n",
       "4665  COLOR-SILVER\\nMATERIAL1-POLYRESIN\\nTREND-COAST...            SILVER   \n",
       "4666  Material-METAL - MDF - PVC\\nColor-WHITE\\nWeigh...             WHITE   \n",
       "4667                                           A2000193  __EMPTY__VALUE__   \n",
       "4668  Master Item Number-\\nA2000150\\nCarton Contains...            Orange   \n",
       "4669  Master Item Number-\\nA2000148\\nCarton Contains...              Teal   \n",
       "\n",
       "                                            description ts_dimensions_width  \\\n",
       "4658  Material-METAL - MDF - PVC\\nColor-WHITE\\nWeigh...    __EMPTY__VALUE__   \n",
       "4659  Fond memories don’t have to fade. Capture them...    __EMPTY__VALUE__   \n",
       "4660  Master Item Number-\\nA2080001\\nCarton Contains...    __EMPTY__VALUE__   \n",
       "4661                           12.7 W inch X12.7 H Inch    __EMPTY__VALUE__   \n",
       "4662                                           A2080005    __EMPTY__VALUE__   \n",
       "4663  Display those special photos in these sophisti...    __EMPTY__VALUE__   \n",
       "4664  Frames feature o-idized copper sheeting. The o...    __EMPTY__VALUE__   \n",
       "4665  COLOR-SILVER\\nMATERIAL1-POLYRESIN\\nTREND-COAST...    __EMPTY__VALUE__   \n",
       "4666  Material-METAL - MDF - PVC\\nColor-WHITE\\nWeigh...    __EMPTY__VALUE__   \n",
       "4667                                           A2000193    __EMPTY__VALUE__   \n",
       "4668  Master Item Number-\\nA2000150\\nCarton Contains...             629.031   \n",
       "4669  Master Item Number-\\nA2000148\\nCarton Contains...              645.16   \n",
       "\n",
       "     ts_dimensions_height  ...  \\\n",
       "4658     __EMPTY__VALUE__  ...   \n",
       "4659     __EMPTY__VALUE__  ...   \n",
       "4660     __EMPTY__VALUE__  ...   \n",
       "4661     __EMPTY__VALUE__  ...   \n",
       "4662     __EMPTY__VALUE__  ...   \n",
       "4663     __EMPTY__VALUE__  ...   \n",
       "4664     __EMPTY__VALUE__  ...   \n",
       "4665     __EMPTY__VALUE__  ...   \n",
       "4666     __EMPTY__VALUE__  ...   \n",
       "4667     __EMPTY__VALUE__  ...   \n",
       "4668               806.45  ...   \n",
       "4669              419.354  ...   \n",
       "\n",
       "                                        thumbnail_image attribute_set_code  \\\n",
       "4658  https://cdn.shopify.com/s/files/1/0773/5495/pr...            Default   \n",
       "4659  https://cdn.shopify.com/s/files/1/0773/5495/pr...            Default   \n",
       "4660  https://cdn.shopify.com/s/files/1/0773/5495/pr...            Default   \n",
       "4661  https://cdn.shopify.com/s/files/1/0773/5495/pr...            Default   \n",
       "4662  https://cdn.shopify.com/s/files/1/0773/5495/pr...            Default   \n",
       "4663  https://cdn.shopify.com/s/files/1/0773/5495/pr...            Default   \n",
       "4664  https://cdn.shopify.com/s/files/1/0773/5495/pr...            Default   \n",
       "4665  https://cdn.shopify.com/s/files/1/0773/5495/pr...            Default   \n",
       "4666  https://cdn.shopify.com/s/files/1/0773/5495/pr...            Default   \n",
       "4667  https://cdn.shopify.com/s/files/1/0773/5495/pr...            Default   \n",
       "4668  https://cdn.shopify.com/s/files/1/0773/5495/pr...            Default   \n",
       "4669  https://cdn.shopify.com/s/files/1/0773/5495/pr...            Default   \n",
       "\n",
       "     product_websites out_of_stock_qty qty product_online         mgs_brand  \\\n",
       "4658             base               -5   0              1  __EMPTY__VALUE__   \n",
       "4659             base               -5   0              1  __EMPTY__VALUE__   \n",
       "4660             base               -5   0              1  __EMPTY__VALUE__   \n",
       "4661             base               -5   0              1  __EMPTY__VALUE__   \n",
       "4662             base               -5   0              1  __EMPTY__VALUE__   \n",
       "4663             base               -5   0              1  __EMPTY__VALUE__   \n",
       "4664             base               -5   0              1  __EMPTY__VALUE__   \n",
       "4665             base               -5   0              1  __EMPTY__VALUE__   \n",
       "4666             base               -5   0              1  __EMPTY__VALUE__   \n",
       "4667             base               -5   0              1  __EMPTY__VALUE__   \n",
       "4668             base               -5   0              1  __EMPTY__VALUE__   \n",
       "4669             base               -5   0              1  __EMPTY__VALUE__   \n",
       "\n",
       "     estimated_delivery_text supplier categories  \n",
       "4658        __EMPTY__VALUE__      ROG             \n",
       "4659        __EMPTY__VALUE__      ROG             \n",
       "4660        __EMPTY__VALUE__      ROG             \n",
       "4661        __EMPTY__VALUE__      ROG             \n",
       "4662        __EMPTY__VALUE__      ROG             \n",
       "4663        __EMPTY__VALUE__      ROG             \n",
       "4664        __EMPTY__VALUE__      ROG             \n",
       "4665        __EMPTY__VALUE__      ROG             \n",
       "4666        __EMPTY__VALUE__      ROG             \n",
       "4667        __EMPTY__VALUE__      ROG             \n",
       "4668        __EMPTY__VALUE__      ROG             \n",
       "4669        __EMPTY__VALUE__      ROG             \n",
       "\n",
       "[12 rows x 38 columns]"
      ]
     },
     "execution_count": 233,
     "metadata": {},
     "output_type": "execute_result"
    }
   ],
   "source": [
    "df.loc[df['categories2'] == 'إطارات الصور']"
   ]
  },
  {
   "cell_type": "code",
   "execution_count": null,
   "id": "42521dc4",
   "metadata": {},
   "outputs": [],
   "source": []
  },
  {
   "cell_type": "code",
   "execution_count": 154,
   "id": "e5ff4bde",
   "metadata": {},
   "outputs": [
    {
     "name": "stdout",
     "output_type": "stream",
     "text": [
      "https://cdn.shopify.com/s/files/1/0773/5495/products/70021AR_400x.jpg\n",
      "len list images 1\n",
      "\n",
      "\n"
     ]
    }
   ],
   "source": [
    "driver.get('https://www.alrugaibfurniture.com/ar/collections/paintings-pictures/products/painting-70021')\n",
    "list_images = []\n",
    "time.sleep(0.5)\n",
    "images_click = driver.find_elements_by_class_name('product-gallery__thumbnail')\n",
    "\n",
    "\n",
    "for ele in images_click:\n",
    "    #ele.click()\n",
    "    driver.execute_script(\"arguments[0].click();\", ele)\n",
    "    time.sleep(0.5)\n",
    "images = driver.find_elements_by_class_name('product-gallery__image')\n",
    "len(images)\n",
    "for img in images:\n",
    "    #list_images.append('https:'+img.get_attribute('data-srcset').split(' ')[0])\n",
    "#     print(':', img.get_attribute('srcset').split(', ')[0].split('?')[0])\n",
    "    time.sleep(1)\n",
    "    try:\n",
    "        t = 'https:'+img.get_attribute('data-srcset').split(', ')[0].split('?')[0]\n",
    "    except:\n",
    "        continue\n",
    "#     print(img.get_attribute('data-srcset'))\n",
    "#     soup = BeautifulSoup(img.get_attribute('innerHTML'), 'html.parser')\n",
    "#     print('toto',soup)\n",
    "    print(t)\n",
    "    list_images.append(t)\n",
    "print('len list images',len(list_images))\n",
    "try:\n",
    "    timage = ','.join(list_images[1:])\n",
    "#         list_input_images2.append(timage)\n",
    "    print(timage)\n",
    "except:\n",
    "    timage = ''\n",
    "print(timage)\n",
    "\n",
    "toto_images.append([list_images[0], timage],)"
   ]
  },
  {
   "cell_type": "code",
   "execution_count": 7,
   "id": "dc83961b",
   "metadata": {},
   "outputs": [],
   "source": [
    "list_scrape1 = df['link_url'].to_list()"
   ]
  },
  {
   "cell_type": "code",
   "execution_count": 8,
   "id": "4dcdee0e",
   "metadata": {},
   "outputs": [
    {
     "data": {
      "text/plain": [
       "10459"
      ]
     },
     "execution_count": 8,
     "metadata": {},
     "output_type": "execute_result"
    }
   ],
   "source": [
    "len(list_scrape1)"
   ]
  },
  {
   "cell_type": "code",
   "execution_count": null,
   "id": "3e468cb9",
   "metadata": {},
   "outputs": [],
   "source": []
  },
  {
   "cell_type": "code",
   "execution_count": null,
   "id": "cc843858",
   "metadata": {},
   "outputs": [],
   "source": []
  },
  {
   "cell_type": "code",
   "execution_count": null,
   "id": "eac65045",
   "metadata": {},
   "outputs": [],
   "source": []
  },
  {
   "cell_type": "code",
   "execution_count": null,
   "id": "a353100e",
   "metadata": {},
   "outputs": [],
   "source": []
  },
  {
   "cell_type": "code",
   "execution_count": 64,
   "id": "3a22a88f",
   "metadata": {},
   "outputs": [
    {
     "name": "stdout",
     "output_type": "stream",
     "text": [
      "https://cdn.shopify.com/s/files/1/0773/5495/products/20242_400x.jpg\n",
      "len list images 1\n",
      "https://cdn.shopify.com/s/files/1/0773/5495/products/20242_400x.jpg\n"
     ]
    }
   ],
   "source": [
    "list_images = []\n",
    "time.sleep(2)\n",
    "images_click = driver.find_elements_by_class_name('product-gallery__thumbnail')\n",
    "\n",
    "\n",
    "for ele in images_click:\n",
    "    #ele.click()\n",
    "    driver.execute_script(\"arguments[0].click();\", ele)\n",
    "    time.sleep(1)\n",
    "images = driver.find_elements_by_class_name('product-gallery__image')\n",
    "len(images)\n",
    "for img in images:\n",
    "    #list_images.append('https:'+img.get_attribute('data-srcset').split(' ')[0])\n",
    "#     print(':', img.get_attribute('srcset').split(', ')[0].split('?')[0])\n",
    "    time.sleep(1)\n",
    "    try:\n",
    "        t = 'https:'+img.get_attribute('data-srcset').split(', ')[0].split('?')[0]\n",
    "    except:\n",
    "        continue\n",
    "#     print(img.get_attribute('data-srcset'))\n",
    "#     soup = BeautifulSoup(img.get_attribute('innerHTML'), 'html.parser')\n",
    "#     print('toto',soup)\n",
    "    print(t)\n",
    "    list_images.append(t)\n",
    "print('len list images',len(list_images))\n",
    "print(list_images[0])"
   ]
  },
  {
   "cell_type": "code",
   "execution_count": 61,
   "id": "374b5546",
   "metadata": {},
   "outputs": [],
   "source": [
    "df.to_excel('update1_rugaib.xlsx')"
   ]
  },
  {
   "cell_type": "code",
   "execution_count": 58,
   "id": "2369c20a",
   "metadata": {},
   "outputs": [
    {
     "ename": "NoSuchElementException",
     "evalue": "Message: Unable to locate element: .expandable-content\n",
     "output_type": "error",
     "traceback": [
      "\u001b[0;31m---------------------------------------------------------------------------\u001b[0m",
      "\u001b[0;31mNoSuchElementException\u001b[0m                    Traceback (most recent call last)",
      "\u001b[0;32m<ipython-input-58-4ae6c8ec7ab5>\u001b[0m in \u001b[0;36m<module>\u001b[0;34m\u001b[0m\n\u001b[0;32m----> 1\u001b[0;31m \u001b[0mtoto_des\u001b[0m \u001b[0;34m=\u001b[0m \u001b[0mdriver\u001b[0m\u001b[0;34m.\u001b[0m\u001b[0mfind_element_by_class_name\u001b[0m\u001b[0;34m(\u001b[0m\u001b[0;34m'expandable-content'\u001b[0m\u001b[0;34m)\u001b[0m\u001b[0;34m.\u001b[0m\u001b[0mtext\u001b[0m\u001b[0;34m.\u001b[0m\u001b[0msplit\u001b[0m\u001b[0;34m(\u001b[0m\u001b[0;34m'\\n'\u001b[0m\u001b[0;34m)\u001b[0m\u001b[0;34m\u001b[0m\u001b[0;34m\u001b[0m\u001b[0m\n\u001b[0m",
      "\u001b[0;32m~/anaconda3/lib/python3.8/site-packages/selenium/webdriver/remote/webdriver.py\u001b[0m in \u001b[0;36mfind_element_by_class_name\u001b[0;34m(self, name)\u001b[0m\n\u001b[1;32m    562\u001b[0m             \u001b[0melement\u001b[0m \u001b[0;34m=\u001b[0m \u001b[0mdriver\u001b[0m\u001b[0;34m.\u001b[0m\u001b[0mfind_element_by_class_name\u001b[0m\u001b[0;34m(\u001b[0m\u001b[0;34m'foo'\u001b[0m\u001b[0;34m)\u001b[0m\u001b[0;34m\u001b[0m\u001b[0;34m\u001b[0m\u001b[0m\n\u001b[1;32m    563\u001b[0m         \"\"\"\n\u001b[0;32m--> 564\u001b[0;31m         \u001b[0;32mreturn\u001b[0m \u001b[0mself\u001b[0m\u001b[0;34m.\u001b[0m\u001b[0mfind_element\u001b[0m\u001b[0;34m(\u001b[0m\u001b[0mby\u001b[0m\u001b[0;34m=\u001b[0m\u001b[0mBy\u001b[0m\u001b[0;34m.\u001b[0m\u001b[0mCLASS_NAME\u001b[0m\u001b[0;34m,\u001b[0m \u001b[0mvalue\u001b[0m\u001b[0;34m=\u001b[0m\u001b[0mname\u001b[0m\u001b[0;34m)\u001b[0m\u001b[0;34m\u001b[0m\u001b[0;34m\u001b[0m\u001b[0m\n\u001b[0m\u001b[1;32m    565\u001b[0m \u001b[0;34m\u001b[0m\u001b[0m\n\u001b[1;32m    566\u001b[0m     \u001b[0;32mdef\u001b[0m \u001b[0mfind_elements_by_class_name\u001b[0m\u001b[0;34m(\u001b[0m\u001b[0mself\u001b[0m\u001b[0;34m,\u001b[0m \u001b[0mname\u001b[0m\u001b[0;34m)\u001b[0m\u001b[0;34m:\u001b[0m\u001b[0;34m\u001b[0m\u001b[0;34m\u001b[0m\u001b[0m\n",
      "\u001b[0;32m~/anaconda3/lib/python3.8/site-packages/selenium/webdriver/remote/webdriver.py\u001b[0m in \u001b[0;36mfind_element\u001b[0;34m(self, by, value)\u001b[0m\n\u001b[1;32m    974\u001b[0m                 \u001b[0mby\u001b[0m \u001b[0;34m=\u001b[0m \u001b[0mBy\u001b[0m\u001b[0;34m.\u001b[0m\u001b[0mCSS_SELECTOR\u001b[0m\u001b[0;34m\u001b[0m\u001b[0;34m\u001b[0m\u001b[0m\n\u001b[1;32m    975\u001b[0m                 \u001b[0mvalue\u001b[0m \u001b[0;34m=\u001b[0m \u001b[0;34m'[name=\"%s\"]'\u001b[0m \u001b[0;34m%\u001b[0m \u001b[0mvalue\u001b[0m\u001b[0;34m\u001b[0m\u001b[0;34m\u001b[0m\u001b[0m\n\u001b[0;32m--> 976\u001b[0;31m         return self.execute(Command.FIND_ELEMENT, {\n\u001b[0m\u001b[1;32m    977\u001b[0m             \u001b[0;34m'using'\u001b[0m\u001b[0;34m:\u001b[0m \u001b[0mby\u001b[0m\u001b[0;34m,\u001b[0m\u001b[0;34m\u001b[0m\u001b[0;34m\u001b[0m\u001b[0m\n\u001b[1;32m    978\u001b[0m             'value': value})['value']\n",
      "\u001b[0;32m~/anaconda3/lib/python3.8/site-packages/selenium/webdriver/remote/webdriver.py\u001b[0m in \u001b[0;36mexecute\u001b[0;34m(self, driver_command, params)\u001b[0m\n\u001b[1;32m    319\u001b[0m         \u001b[0mresponse\u001b[0m \u001b[0;34m=\u001b[0m \u001b[0mself\u001b[0m\u001b[0;34m.\u001b[0m\u001b[0mcommand_executor\u001b[0m\u001b[0;34m.\u001b[0m\u001b[0mexecute\u001b[0m\u001b[0;34m(\u001b[0m\u001b[0mdriver_command\u001b[0m\u001b[0;34m,\u001b[0m \u001b[0mparams\u001b[0m\u001b[0;34m)\u001b[0m\u001b[0;34m\u001b[0m\u001b[0;34m\u001b[0m\u001b[0m\n\u001b[1;32m    320\u001b[0m         \u001b[0;32mif\u001b[0m \u001b[0mresponse\u001b[0m\u001b[0;34m:\u001b[0m\u001b[0;34m\u001b[0m\u001b[0;34m\u001b[0m\u001b[0m\n\u001b[0;32m--> 321\u001b[0;31m             \u001b[0mself\u001b[0m\u001b[0;34m.\u001b[0m\u001b[0merror_handler\u001b[0m\u001b[0;34m.\u001b[0m\u001b[0mcheck_response\u001b[0m\u001b[0;34m(\u001b[0m\u001b[0mresponse\u001b[0m\u001b[0;34m)\u001b[0m\u001b[0;34m\u001b[0m\u001b[0;34m\u001b[0m\u001b[0m\n\u001b[0m\u001b[1;32m    322\u001b[0m             response['value'] = self._unwrap_value(\n\u001b[1;32m    323\u001b[0m                 response.get('value', None))\n",
      "\u001b[0;32m~/anaconda3/lib/python3.8/site-packages/selenium/webdriver/remote/errorhandler.py\u001b[0m in \u001b[0;36mcheck_response\u001b[0;34m(self, response)\u001b[0m\n\u001b[1;32m    240\u001b[0m                 \u001b[0malert_text\u001b[0m \u001b[0;34m=\u001b[0m \u001b[0mvalue\u001b[0m\u001b[0;34m[\u001b[0m\u001b[0;34m'alert'\u001b[0m\u001b[0;34m]\u001b[0m\u001b[0;34m.\u001b[0m\u001b[0mget\u001b[0m\u001b[0;34m(\u001b[0m\u001b[0;34m'text'\u001b[0m\u001b[0;34m)\u001b[0m\u001b[0;34m\u001b[0m\u001b[0;34m\u001b[0m\u001b[0m\n\u001b[1;32m    241\u001b[0m             \u001b[0;32mraise\u001b[0m \u001b[0mexception_class\u001b[0m\u001b[0;34m(\u001b[0m\u001b[0mmessage\u001b[0m\u001b[0;34m,\u001b[0m \u001b[0mscreen\u001b[0m\u001b[0;34m,\u001b[0m \u001b[0mstacktrace\u001b[0m\u001b[0;34m,\u001b[0m \u001b[0malert_text\u001b[0m\u001b[0;34m)\u001b[0m\u001b[0;34m\u001b[0m\u001b[0;34m\u001b[0m\u001b[0m\n\u001b[0;32m--> 242\u001b[0;31m         \u001b[0;32mraise\u001b[0m \u001b[0mexception_class\u001b[0m\u001b[0;34m(\u001b[0m\u001b[0mmessage\u001b[0m\u001b[0;34m,\u001b[0m \u001b[0mscreen\u001b[0m\u001b[0;34m,\u001b[0m \u001b[0mstacktrace\u001b[0m\u001b[0;34m)\u001b[0m\u001b[0;34m\u001b[0m\u001b[0;34m\u001b[0m\u001b[0m\n\u001b[0m\u001b[1;32m    243\u001b[0m \u001b[0;34m\u001b[0m\u001b[0m\n\u001b[1;32m    244\u001b[0m     \u001b[0;32mdef\u001b[0m \u001b[0m_value_or_default\u001b[0m\u001b[0;34m(\u001b[0m\u001b[0mself\u001b[0m\u001b[0;34m,\u001b[0m \u001b[0mobj\u001b[0m\u001b[0;34m,\u001b[0m \u001b[0mkey\u001b[0m\u001b[0;34m,\u001b[0m \u001b[0mdefault\u001b[0m\u001b[0;34m)\u001b[0m\u001b[0;34m:\u001b[0m\u001b[0;34m\u001b[0m\u001b[0;34m\u001b[0m\u001b[0m\n",
      "\u001b[0;31mNoSuchElementException\u001b[0m: Message: Unable to locate element: .expandable-content\n"
     ]
    }
   ],
   "source": [
    "toto_des = driver.find_element_by_class_name('expandable-content').text.split('\\n')"
   ]
  },
  {
   "cell_type": "code",
   "execution_count": null,
   "id": "53a97f1e",
   "metadata": {},
   "outputs": [],
   "source": []
  },
  {
   "cell_type": "code",
   "execution_count": null,
   "id": "800d2ed3",
   "metadata": {},
   "outputs": [],
   "source": []
  },
  {
   "cell_type": "code",
   "execution_count": null,
   "id": "23372af2",
   "metadata": {},
   "outputs": [],
   "source": []
  },
  {
   "cell_type": "code",
   "execution_count": 50,
   "id": "ee125233",
   "metadata": {},
   "outputs": [],
   "source": [
    "driver.get('https://www.alrugaibfurniture.com/ar/collections/rugs/products/fusion-rug-blue-multi-colored')"
   ]
  },
  {
   "cell_type": "code",
   "execution_count": 51,
   "id": "5a71234a",
   "metadata": {},
   "outputs": [
    {
     "data": {
      "text/plain": [
       "3"
      ]
     },
     "execution_count": 51,
     "metadata": {},
     "output_type": "execute_result"
    }
   ],
   "source": [
    "list_products_other = driver.find_elements_by_class_name('block-swatch__item-text')\n",
    "len(list_products_other)"
   ]
  },
  {
   "cell_type": "code",
   "execution_count": 52,
   "id": "1933edf4",
   "metadata": {},
   "outputs": [],
   "source": [
    "list_products_other[0].click()"
   ]
  },
  {
   "cell_type": "code",
   "execution_count": 114,
   "id": "2d9bba02",
   "metadata": {},
   "outputs": [],
   "source": [
    "list_des_cat1 = []"
   ]
  },
  {
   "cell_type": "code",
   "execution_count": 93,
   "id": "770e17a7",
   "metadata": {},
   "outputs": [
    {
     "data": {
      "text/plain": [
       "Index(['Unnamed: 0', 'liste', 'cat1', 'cat2', 'cat3'], dtype='object')"
      ]
     },
     "execution_count": 93,
     "metadata": {},
     "output_type": "execute_result"
    }
   ],
   "source": [
    "link_cat = pd.read_excel('link_all_product_cats-08-07-2021-21-18-36.xlsx')\n",
    "link_cat.columns"
   ]
  },
  {
   "cell_type": "code",
   "execution_count": 115,
   "id": "1f2cea67",
   "metadata": {},
   "outputs": [],
   "source": [
    "for index, row in link_cat.iterrows():\n",
    "    list_des_cat1.append([row['liste'], row['cat1'], row['cat2'], row['cat3'] ], )\n"
   ]
  },
  {
   "cell_type": "code",
   "execution_count": 121,
   "id": "e9367e21",
   "metadata": {},
   "outputs": [],
   "source": [
    "all_products = pd.read_excel('Rugaib_update_08_07_2021_v1.xlsx')"
   ]
  },
  {
   "cell_type": "code",
   "execution_count": 123,
   "id": "68270f8a",
   "metadata": {},
   "outputs": [
    {
     "data": {
      "text/plain": [
       "Index(['Unnamed: 0', 'sku', 'is_in_stock', 'name', 'price', 'special_price',\n",
       "       'short_description', 'free_colors', 'description', 'Width', 'Height',\n",
       "       'Length', 'mgs_brand', 'base_image', 'url_key', 'visibility',\n",
       "       'tax_class_name', 'manufacturer', 'news_from_date', 'news_to_date',\n",
       "       'additional_images ', 'link_url', 'categories1', 'categories2',\n",
       "       'categories3', 'Unnamed: 0.1', 'raw_materials', 'small_image',\n",
       "       'swatch_image', 'thumbnail_image', 'attribute_set_code',\n",
       "       'product_websites', 'allow_backorders', 'estimated_delivery_enable'],\n",
       "      dtype='object')"
      ]
     },
     "execution_count": 123,
     "metadata": {},
     "output_type": "execute_result"
    }
   ],
   "source": [
    "all_products.columns"
   ]
  },
  {
   "cell_type": "code",
   "execution_count": 147,
   "id": "76f85db5",
   "metadata": {},
   "outputs": [],
   "source": [
    "all_toto[['url1', 'url2', 'url3', 'url4', 'url5', 'url6', 'url7', 'url8']] =  all_toto['link_url'].str.split('/', expand=True)"
   ]
  },
  {
   "cell_type": "code",
   "execution_count": 148,
   "id": "e386110f",
   "metadata": {},
   "outputs": [],
   "source": [
    "all_toto[['url', 'toto']] = all_toto['url8'].str.split('?', expand=True)"
   ]
  },
  {
   "cell_type": "code",
   "execution_count": 151,
   "id": "b90b9e7f",
   "metadata": {},
   "outputs": [
    {
     "data": {
      "text/plain": [
       "0       الخزائن الجانبية\n",
       "1          طاولات الطعام\n",
       "2           كراسي الطعام\n",
       "3            طاولات مكتب\n",
       "4          خزائن وصناديق\n",
       "              ...       \n",
       "2168             المرايا\n",
       "2169          سرير اطفال\n",
       "2170       طاولات الخدمة\n",
       "2171      ديكورات الحائط\n",
       "2172           كنب طاولة\n",
       "Name: categories3, Length: 2173, dtype: object"
      ]
     },
     "execution_count": 151,
     "metadata": {},
     "output_type": "execute_result"
    }
   ],
   "source": [
    "all_toto['categories3']"
   ]
  },
  {
   "cell_type": "code",
   "execution_count": 150,
   "id": "8ea0b3be",
   "metadata": {},
   "outputs": [],
   "source": [
    "for cat in list_des_cat1:\n",
    "    #print(cat[1], 'toto', cat[0])\n",
    "    all_toto.loc[all_products['url'] == cat[0] , 'categories3'] = cat[3]"
   ]
  },
  {
   "cell_type": "code",
   "execution_count": 140,
   "id": "d67a793b",
   "metadata": {},
   "outputs": [],
   "source": [
    "for cat in list_des_cat1:\n",
    "    #print(cat[1], 'toto', cat[0])\n",
    "    all_products.loc[all_products['url'] == cat[0] , 'categories1'] = cat[1]"
   ]
  },
  {
   "cell_type": "code",
   "execution_count": 142,
   "id": "1e0754e6",
   "metadata": {},
   "outputs": [],
   "source": [
    "for cat in list_des_cat1:\n",
    "    #print(cat[1], 'toto', cat[0])\n",
    "    all_products.loc[all_products['url'] == cat[0] , 'categories2'] = cat[2]"
   ]
  },
  {
   "cell_type": "code",
   "execution_count": null,
   "id": "09fc6b5e",
   "metadata": {},
   "outputs": [],
   "source": []
  },
  {
   "cell_type": "markdown",
   "id": "2fd70855",
   "metadata": {},
   "source": [
    "# Traitement "
   ]
  },
  {
   "cell_type": "code",
   "execution_count": 127,
   "id": "87a44ad3",
   "metadata": {},
   "outputs": [],
   "source": []
  },
  {
   "cell_type": "code",
   "execution_count": 128,
   "id": "b9340e0f",
   "metadata": {},
   "outputs": [],
   "source": []
  },
  {
   "cell_type": "code",
   "execution_count": 135,
   "id": "26e7f2b2",
   "metadata": {},
   "outputs": [],
   "source": []
  },
  {
   "cell_type": "code",
   "execution_count": 107,
   "id": "7ee58c8e",
   "metadata": {},
   "outputs": [],
   "source": []
  },
  {
   "cell_type": "code",
   "execution_count": 228,
   "id": "ce593adb",
   "metadata": {},
   "outputs": [],
   "source": [
    "df = pd.read_excel('alssaly_update.xlsx')\n",
    "df[['ts_dimensions_width','ts_dimensions_height', 'ts_dimensions_length']] = df['dim'].str.split(\"×\",expand=True,)\n",
    "df.rename(columns={'Width': 'ts_dimensions_width', 'Height': 'ts_dimensions_height', 'Length': 'ts_dimensions_length'}, inplace=True)\n",
    "list_columns = [\n",
    "    #'special_price',\n",
    "    'ts_dimensions_length',\n",
    "    'ts_dimensions_width',\n",
    "    'ts_dimensions_height',\n",
    "    'type_',\n",
    "    'control_type',\n",
    "    'barcode',\n",
    "    'cooling_capacity',\n",
    "    'voltage',\n",
    "    'hertz',\n",
    "    'energy_efficiency_class',\n",
    "    'energy_efficiency_rate',\n",
    "    'weight_kilo',\n",
    "    'indoor_lamp',\n",
    "    'guarantee',\n",
    "    'compressor_warranty',\n",
    "    'ts_dimensions_length',\n",
    "    'compressor_type',\n",
    "    'manufacturer',\n",
    "    \n",
    "    \n",
    "]\n",
    "for column in list_columns:\n",
    "    df.loc[(df[column] == '') | (df[column].isnull()), column] = '__EMPTY__VALUE__'\n",
    "df['sku'] = 'ALA-' + df['sku']\n",
    "df['allow_backorders'] = df['is_in_stock']\n",
    "df['estimated_delivery_enable'] = 'Static, Text'\n",
    "df['small_image'] =  df['base_image']\n",
    "df['swatch_image'] =  df['base_image']\n",
    "df['thumbnail_image'] =  df['base_image']\n",
    "df['attribute_set_code'] = 'Default'\n",
    "df['product_websites'] = 'base'\n",
    "df['out_of_stock_qty'] = -5\n",
    "df['qty'] = 0\n",
    "df['product_online'] = df['is_in_stock']\n",
    "df['supplier'] = 'AlA'\n",
    "df['url_key'] = df['sku'] + '-' + df['name']\n",
    "df['estimated_delivery_text'] = ''\n",
    "df['estimated_delivery_enable'] = 'Static Text'\n",
    "df['categories'] = ''\n",
    "def toto_clean(name):\n",
    "    df[name] = df[name].str.replace('•', '-')\n",
    "    df[name] = df[name].str.replace(':', '-')\n",
    "    df[name] = df[name].str.replace('/', '-')\n",
    "    df[name] = df[name].str.replace('\"', '-')\n",
    "    df[name] = df[name].str.replace('%', '-')\n",
    "    df[name] = df[name].str.replace('&', '-')\n",
    "    df[name] = df[name].str.replace('?', '-', regex=False)\n",
    "    df[name] = df[name].str.replace('(', '-', regex=False)\n",
    "    df[name] = df[name].str.replace(')', '-', regex=False)\n",
    "    df[name] = df[name].str.replace('{', '-', regex=False)\n",
    "    df[name] = df[name].str.replace('}', '-', regex=False)\n",
    "    df[name] = df[name].str.replace(\"'\", '-', regex=False)\n",
    "    df[name] = df[name].str.replace('*', 'X', regex=False)\n",
    "    df[name] = df[name].str.replace('#', '-')\n",
    "    df[name] = df[name].str.replace('”', '-')\n",
    "    df[name] = df[name].str.replace('!', '-')\n",
    "    df[name] = df[name].str.replace('”', '-')\n",
    "    df[name] = df[name].str.replace('=', '-')\n",
    "    df[name] = df[name].str.replace('+', '-', regex=False)\n",
    "    df[name] = df[name].str.replace('،', '-', regex=False)\n",
    "    df[name] = df[name].str.replace('عرض أقل', '', regex=False)\n",
    "    df[name] = df[name].str.replace('،', '-', regex=False)\n",
    "    \n",
    "        \n",
    "    \n",
    "def ampty_value(name):\n",
    "    df.loc[df[name].isnull(), name] = '__EMPTY__VALUE__'\n",
    "    \n",
    "    \n",
    "def price_num(name):\n",
    "    try:\n",
    "        df[name] = df[name].str.replace('-', '')\n",
    "        df[name] = df[name].str.replace(',', '')\n",
    "    except:\n",
    "        pass\n",
    "    df.loc[df[name] == '__EMPTY__VALUE__', name] = 0\n",
    "    \n",
    "    df[name] = pd.to_numeric(df[name])\n",
    "    df.loc[df[name] == 0, name] = '__EMPTY__VALUE__'\n",
    "toto_clean('name')\n",
    "toto_clean('description')"
   ]
  },
  {
   "cell_type": "code",
   "execution_count": 137,
   "id": "b87c1eaf",
   "metadata": {},
   "outputs": [],
   "source": []
  },
  {
   "cell_type": "code",
   "execution_count": 37,
   "id": "e4f34b56",
   "metadata": {},
   "outputs": [],
   "source": []
  },
  {
   "cell_type": "code",
   "execution_count": null,
   "id": "ebfd9615",
   "metadata": {},
   "outputs": [],
   "source": []
  },
  {
   "cell_type": "code",
   "execution_count": null,
   "id": "dfb3da72",
   "metadata": {},
   "outputs": [],
   "source": []
  },
  {
   "cell_type": "markdown",
   "id": "1909734b",
   "metadata": {},
   "source": [
    "# Traitement fonctions"
   ]
  },
  {
   "cell_type": "code",
   "execution_count": 232,
   "id": "ec3a35f6",
   "metadata": {},
   "outputs": [
    {
     "name": "stderr",
     "output_type": "stream",
     "text": [
      "/tmp/ipykernel_9298/798370583.py:1: FutureWarning: The default value of regex will change from True to False in a future version. In addition, single character regular expressions will *not* be treated as literal strings when regex=True.\n",
      "  df['price'] = df['price'].str.replace('.', '').str.replace('رس', '').str.strip()\n",
      "/tmp/ipykernel_9298/798370583.py:4: FutureWarning: The default value of regex will change from True to False in a future version. In addition, single character regular expressions will *not* be treated as literal strings when regex=True.\n",
      "  df['special_price'] = df['special_price'].str.replace('.', '').str.replace('رس', '').str.strip()\n"
     ]
    }
   ],
   "source": [
    "df['price'] = df['price'].str.replace('.', '').str.replace('رس', '').str.strip()\n",
    "\n",
    "\n",
    "df['special_price'] = df['special_price'].str.replace('.', '').str.replace('رس', '').str.strip()"
   ]
  },
  {
   "cell_type": "code",
   "execution_count": 238,
   "id": "a1419e48",
   "metadata": {},
   "outputs": [],
   "source": [
    "df.to_excel('toto.xlsx')"
   ]
  },
  {
   "cell_type": "code",
   "execution_count": 234,
   "id": "b8c1ce0a",
   "metadata": {},
   "outputs": [],
   "source": [
    "df['price'] = df['price'].astype(float)\n",
    "df['special_price'] = df['special_price'].astype(float)"
   ]
  },
  {
   "cell_type": "code",
   "execution_count": 236,
   "id": "6beb7605",
   "metadata": {},
   "outputs": [],
   "source": [
    "df['cost'] = df['price']"
   ]
  },
  {
   "cell_type": "code",
   "execution_count": 237,
   "id": "67bd3ab9",
   "metadata": {},
   "outputs": [],
   "source": [
    "df['price'] = df['price'] * 1.25\n",
    "df['special_price'] = df['special_price'] * 1.25"
   ]
  },
  {
   "cell_type": "markdown",
   "id": "e41794f3",
   "metadata": {},
   "source": [
    "# Categories add"
   ]
  },
  {
   "cell_type": "code",
   "execution_count": 239,
   "id": "48047293",
   "metadata": {},
   "outputs": [],
   "source": [
    "cats = pd.read_excel('/home/wafistos/Documents/Projects/scaping_wafi/alassly/categories/categories.xlsx')"
   ]
  },
  {
   "cell_type": "code",
   "execution_count": 240,
   "id": "2483662f",
   "metadata": {},
   "outputs": [],
   "source": [
    "list_cats = []\n",
    "for index, row in cats.iterrows():\n",
    "    list_cats.append([ row['cat2'], row['ID categories'], ])"
   ]
  },
  {
   "cell_type": "code",
   "execution_count": 241,
   "id": "e25d6b7e",
   "metadata": {},
   "outputs": [],
   "source": [
    "for tt in list_cats:\n",
    "    df.loc[df['cat1']== tt[0], 'categories'] = tt[1]"
   ]
  },
  {
   "cell_type": "code",
   "execution_count": 242,
   "id": "e28b0559",
   "metadata": {},
   "outputs": [],
   "source": [
    "for tt in list_cats:\n",
    "    df.loc[df['cat2']== tt[0], 'categories'] = tt[1]"
   ]
  },
  {
   "cell_type": "code",
   "execution_count": null,
   "id": "c608161d",
   "metadata": {},
   "outputs": [],
   "source": []
  },
  {
   "cell_type": "markdown",
   "id": "4e235404",
   "metadata": {},
   "source": [
    "# Collections add "
   ]
  },
  {
   "cell_type": "code",
   "execution_count": 84,
   "id": "b99fc8fd",
   "metadata": {},
   "outputs": [],
   "source": []
  },
  {
   "cell_type": "code",
   "execution_count": 243,
   "id": "49095c9f",
   "metadata": {},
   "outputs": [],
   "source": [
    "df['store_view_code'] = ''"
   ]
  },
  {
   "cell_type": "code",
   "execution_count": 244,
   "id": "88a47b94",
   "metadata": {},
   "outputs": [],
   "source": [
    "df.loc[df['special_price'] == 0 , 'special_price'] = '__EMPTY__VALUE__'"
   ]
  },
  {
   "cell_type": "code",
   "execution_count": 259,
   "id": "20d22d12",
   "metadata": {},
   "outputs": [],
   "source": [
    "df['sku number only'] = df['sku'].str.replace('ALA-', '')"
   ]
  },
  {
   "cell_type": "code",
   "execution_count": 246,
   "id": "687b3863",
   "metadata": {},
   "outputs": [],
   "source": [
    "df['product_type'] = 'simple'"
   ]
  },
  {
   "cell_type": "code",
   "execution_count": 88,
   "id": "78da78dd",
   "metadata": {},
   "outputs": [],
   "source": []
  },
  {
   "cell_type": "code",
   "execution_count": 247,
   "id": "e09f9ad3",
   "metadata": {},
   "outputs": [],
   "source": [
    "df['news_from_date'] = df['today']"
   ]
  },
  {
   "cell_type": "code",
   "execution_count": 248,
   "id": "a7b73cde",
   "metadata": {},
   "outputs": [],
   "source": [
    "df['news_to_date'] = df['two_month']"
   ]
  },
  {
   "cell_type": "code",
   "execution_count": 249,
   "id": "7d2855a3",
   "metadata": {},
   "outputs": [],
   "source": [
    "df['visibility'] = 'Catalog, Search'"
   ]
  },
  {
   "cell_type": "code",
   "execution_count": 250,
   "id": "ea3803fe",
   "metadata": {},
   "outputs": [],
   "source": [
    "df['tax_class_name']= 'Taxable Goods'"
   ]
  },
  {
   "cell_type": "code",
   "execution_count": 256,
   "id": "72eb9f32",
   "metadata": {},
   "outputs": [],
   "source": [
    "df = df[[ 'sku number only',\n",
    "        'sku', \n",
    "         'store_view_code',\n",
    "         'attribute_set_code',\n",
    "         'product_websites',\n",
    "         'name',   \n",
    "         'description', \n",
    "         'short_description', \n",
    "         'link_url', \n",
    "         'cat1', \n",
    "         'cat2', \n",
    "         'cat3', \n",
    "         'categories', \n",
    "         'free_colors', \n",
    "         'ts_dimensions_width', \n",
    "         'ts_dimensions_height', \n",
    "         'ts_dimensions_length',\n",
    "         'brand',\n",
    "         'url_key',\n",
    "         'cost',  \n",
    "         'price', \n",
    "         'special_price', \n",
    "         'visibility',\n",
    "         'product_type',\n",
    "         'tax_class_name', \n",
    "         'news_from_date', \n",
    "         'news_to_date', \n",
    "         'base_image', \n",
    "         'small_image', \n",
    "         'swatch_image' , \n",
    "         'thumbnail_image', \n",
    "         'additionnel_images', \n",
    "         'product_online',\n",
    "         \n",
    "         'type_',\n",
    "        'control_type',\n",
    "        'barcode',\n",
    "        'cooling_capacity',\n",
    "        'voltage',\n",
    "        'hertz',\n",
    "        'energy_efficiency_class',\n",
    "        'energy_efficiency_rate',\n",
    "        'weight_kilo',\n",
    "        'indoor_lamp',\n",
    "        'guarantee',\n",
    "        'compressor_warranty',\n",
    "        'compressor_type',\n",
    "        'manufacturer',\n",
    "        'air_direction',\n",
    "         \n",
    "         \n",
    "         \n",
    "         \n",
    "         \n",
    "         'qty', \n",
    "         'out_of_stock_qty', \n",
    "         'allow_backorders', \n",
    "         'is_in_stock', \n",
    "         'estimated_delivery_enable',\n",
    "         'estimated_delivery_text',\n",
    "         'supplier',   \n",
    "        ]]"
   ]
  },
  {
   "cell_type": "code",
   "execution_count": 257,
   "id": "ac5eb586",
   "metadata": {},
   "outputs": [],
   "source": [
    "df.to_excel('Alassly_update1.xlsx', index=False)"
   ]
  },
  {
   "cell_type": "code",
   "execution_count": 62,
   "id": "e5699973",
   "metadata": {},
   "outputs": [],
   "source": [
    "df.to_excel('toto.xlsx')"
   ]
  },
  {
   "cell_type": "code",
   "execution_count": 260,
   "id": "a86e663e",
   "metadata": {},
   "outputs": [
    {
     "data": {
      "text/plain": [
       "0      GVCRF-140B\n",
       "1        GVUF-310\n",
       "2      GVCRF-120W\n",
       "3      GVCRF-120B\n",
       "4      GVCRF-120S\n",
       "          ...    \n",
       "226       GVC7700\n",
       "227       GVC7800\n",
       "228       GVC7600\n",
       "229     GVCB-4400\n",
       "230     GVCS-6400\n",
       "Name: sku number only, Length: 231, dtype: object"
      ]
     },
     "execution_count": 260,
     "metadata": {},
     "output_type": "execute_result"
    }
   ],
   "source": [
    "df['sku number only'] "
   ]
  },
  {
   "cell_type": "code",
   "execution_count": null,
   "id": "88c55fdb",
   "metadata": {},
   "outputs": [],
   "source": []
  }
 ],
 "metadata": {
  "interpreter": {
   "hash": "3c84e890491e19a1806ba6d8997d3a5373ca13adc3832f7ff9f28d04534d40f7"
  },
  "kernelspec": {
   "display_name": "Python 3.10.4 ('env310')",
   "language": "python",
   "name": "python3"
  },
  "language_info": {
   "codemirror_mode": {
    "name": "ipython",
    "version": 3
   },
   "file_extension": ".py",
   "mimetype": "text/x-python",
   "name": "python",
   "nbconvert_exporter": "python",
   "pygments_lexer": "ipython3",
   "version": "3.10.4"
  },
  "toc": {
   "base_numbering": 1,
   "nav_menu": {},
   "number_sections": true,
   "sideBar": true,
   "skip_h1_title": false,
   "title_cell": "Table of Contents",
   "title_sidebar": "Contents",
   "toc_cell": false,
   "toc_position": {
    "height": "calc(100% - 180px)",
    "left": "10px",
    "top": "150px",
    "width": "352px"
   },
   "toc_section_display": true,
   "toc_window_display": true
  }
 },
 "nbformat": 4,
 "nbformat_minor": 5
}
