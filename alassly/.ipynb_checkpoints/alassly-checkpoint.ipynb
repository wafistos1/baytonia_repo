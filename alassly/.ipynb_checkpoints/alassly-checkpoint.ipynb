{
 "cells": [
  {
   "cell_type": "code",
   "execution_count": 2,
   "id": "51b0a636",
   "metadata": {},
   "outputs": [],
   "source": [
    "#imports here\n",
    "from selenium import webdriver\n",
    "from selenium.webdriver.common.keys import Keys\n",
    "from selenium.webdriver.support import expected_conditions as EC\n",
    "from selenium.webdriver.common.by import By\n",
    "from selenium.webdriver.support.wait import WebDriverWait\n",
    "from selenium.webdriver.firefox.options import Options\n",
    "import time\n",
    "import os\n",
    "from fake_useragent import UserAgent\n",
    "from random import randint\n",
    "import pandas as pd\n",
    "import numpy as np\n",
    "import re\n",
    "from datetime import datetime\n",
    "from datetime import timedelta\n",
    "from bs4 import BeautifulSoup\n",
    "from urllib.parse import urljoin\n",
    "import requests\n",
    "from sqlalchemy.exc import IntegrityError\n",
    "import string"
   ]
  },
  {
   "cell_type": "markdown",
   "id": "bdae2a94",
   "metadata": {},
   "source": [
    "# Firefox"
   ]
  },
  {
   "cell_type": "code",
   "execution_count": 2,
   "id": "e81ce385",
   "metadata": {},
   "outputs": [
    {
     "name": "stdout",
     "output_type": "stream",
     "text": [
      "Mozilla/4.0 (compatible; MSIE 8.0; Windows NT 6.1; WOW64; Trident/4.0; SLCC2; Media Center PC 6.0; InfoPath.2; MS-RTC LM 8)\n"
     ]
    },
    {
     "name": "stderr",
     "output_type": "stream",
     "text": [
      "<ipython-input-2-5315509cced7>:7: DeprecationWarning: use options instead of firefox_options\n",
      "  driver = webdriver.Firefox(firefox_options=options)\n"
     ]
    }
   ],
   "source": [
    "options = Options()\n",
    "ua = UserAgent()\n",
    "userAgent = ua.random\n",
    "print(userAgent)\n",
    "options.add_argument(f'user-agent={userAgent}')\n",
    "#options.add_argument(\"--headless\")\n",
    "driver = webdriver.Firefox(firefox_options=options)\n",
    "#     driver = webdriver.Firefox()"
   ]
  },
  {
   "cell_type": "code",
   "execution_count": 62,
   "id": "1b2a47d0",
   "metadata": {},
   "outputs": [],
   "source": [
    "headers = {\n",
    "    'User-Agent': 'Mozilla/5.0 (Macintosh; Intel Mac OS X 10_12_6) AppleWebKit/537.36 (KHTML, like Gecko) Chrome/74.0.3729.169 Safari/537.36', \n",
    "    'Accept-Encoding': 'gzip, deflate', \n",
    "    'Accept': 'text/html,application/xhtml+xml,application/xml;q=0.9,/;q=0.8', \n",
    "    'Connection': 'keep-alive', \n",
    "    'Accept-Language': 'en-US,en;q=0.5', \n",
    "    'Upgrade-Insecure-Requests': '1', \n",
    "    'Pragma': 'no-cache', \n",
    "    'Cache-Control': 'no-cache'\n",
    "    }\n",
    "    \n",
    "toto  = 'https://www.amazon.sa/%D8%B3%D9%88%D8%A8%D8%B1-%D8%AC%D9%8A%D9%86%D9%8A%D8%B1%D8%A7%D9%84-KSGL1171-%D9%85%D9%88%D8%B2%D8%B9-%D8%AC%D9%86%D8%B1%D8%A7%D9%84/dp/B08DBBDT6S/ref=lp_22576114031_1_1?dchild=1'\n",
    "r = requests.get(toto, headers=headers)\n",
    "soup = BeautifulSoup(r.text, 'html.parser')\n"
   ]
  },
  {
   "cell_type": "code",
   "execution_count": 64,
   "id": "c2364589",
   "metadata": {},
   "outputs": [
    {
     "data": {
      "text/plain": [
       "5"
      ]
     },
     "execution_count": 64,
     "metadata": {},
     "output_type": "execute_result"
    }
   ],
   "source": [
    "cats = soup.find('div', {'id': 'wayfinding-breadcrumbs_feature_div'}).find_all('span', {'class': 'a-list-item'})\n",
    "cat1 = cats[0].text.strip()\n",
    "cat2 = cats[2].text.strip()\n",
    "cat3 = cats[4].text.strip()"
   ]
  },
  {
   "cell_type": "code",
   "execution_count": 70,
   "id": "b4384af9",
   "metadata": {},
   "outputs": [
    {
     "data": {
      "text/plain": [
       "'موزعات مياه ومبردات'"
      ]
     },
     "execution_count": 70,
     "metadata": {},
     "output_type": "execute_result"
    }
   ],
   "source": [
    "\n"
   ]
  },
  {
   "cell_type": "code",
   "execution_count": 13,
   "id": "ed3bdfbd",
   "metadata": {},
   "outputs": [],
   "source": [
    "url_product = []\n",
    "for tt in product_url:\n",
    "    url_product.append('https://www.amazon.sa'+tt.find('a')['href'])"
   ]
  },
  {
   "cell_type": "code",
   "execution_count": null,
   "id": "bdaff619",
   "metadata": {},
   "outputs": [],
   "source": []
  },
  {
   "cell_type": "code",
   "execution_count": 15,
   "id": "447d1b42",
   "metadata": {},
   "outputs": [
    {
     "ename": "IndexError",
     "evalue": "list index out of range",
     "output_type": "error",
     "traceback": [
      "\u001b[0;31m---------------------------------------------------------------------------\u001b[0m",
      "\u001b[0;31mIndexError\u001b[0m                                Traceback (most recent call last)",
      "\u001b[0;32m<ipython-input-15-9f70a2cb78f2>\u001b[0m in \u001b[0;36m<module>\u001b[0;34m\u001b[0m\n\u001b[0;32m----> 1\u001b[0;31m \u001b[0msku\u001b[0m \u001b[0;34m=\u001b[0m \u001b[0msoup\u001b[0m\u001b[0;34m.\u001b[0m\u001b[0mfind\u001b[0m\u001b[0;34m(\u001b[0m\u001b[0;34m'span'\u001b[0m\u001b[0;34m,\u001b[0m \u001b[0;34m{\u001b[0m\u001b[0;34m'id'\u001b[0m\u001b[0;34m:\u001b[0m \u001b[0;34m'productTitle'\u001b[0m\u001b[0;34m}\u001b[0m\u001b[0;34m)\u001b[0m\u001b[0;34m.\u001b[0m\u001b[0mtext\u001b[0m\u001b[0;34m.\u001b[0m\u001b[0msplit\u001b[0m\u001b[0;34m(\u001b[0m\u001b[0;34m'-'\u001b[0m\u001b[0;34m)\u001b[0m\u001b[0;34m[\u001b[0m\u001b[0;36m1\u001b[0m\u001b[0;34m]\u001b[0m\u001b[0;34m.\u001b[0m\u001b[0mstrip\u001b[0m\u001b[0;34m(\u001b[0m\u001b[0;34m)\u001b[0m\u001b[0;34m\u001b[0m\u001b[0;34m\u001b[0m\u001b[0m\n\u001b[0m\u001b[1;32m      2\u001b[0m \u001b[0mname\u001b[0m \u001b[0;34m=\u001b[0m \u001b[0msoup\u001b[0m\u001b[0;34m.\u001b[0m\u001b[0mfind\u001b[0m\u001b[0;34m(\u001b[0m\u001b[0;34m'span'\u001b[0m\u001b[0;34m,\u001b[0m \u001b[0;34m{\u001b[0m\u001b[0;34m'id'\u001b[0m\u001b[0;34m:\u001b[0m \u001b[0;34m'productTitle'\u001b[0m\u001b[0;34m}\u001b[0m\u001b[0;34m)\u001b[0m\u001b[0;34m.\u001b[0m\u001b[0mtext\u001b[0m\u001b[0;34m.\u001b[0m\u001b[0msplit\u001b[0m\u001b[0;34m(\u001b[0m\u001b[0;34m'-'\u001b[0m\u001b[0;34m)\u001b[0m\u001b[0;34m[\u001b[0m\u001b[0;36m0\u001b[0m\u001b[0;34m]\u001b[0m\u001b[0;34m.\u001b[0m\u001b[0mstrip\u001b[0m\u001b[0;34m(\u001b[0m\u001b[0;34m)\u001b[0m\u001b[0;34m\u001b[0m\u001b[0;34m\u001b[0m\u001b[0m\n\u001b[1;32m      3\u001b[0m \u001b[0mbrand\u001b[0m \u001b[0;34m=\u001b[0m \u001b[0msoup\u001b[0m\u001b[0;34m.\u001b[0m\u001b[0mfind\u001b[0m\u001b[0;34m(\u001b[0m\u001b[0;34m'a'\u001b[0m\u001b[0;34m,\u001b[0m \u001b[0;34m{\u001b[0m\u001b[0;34m'id'\u001b[0m\u001b[0;34m:\u001b[0m \u001b[0;34m'bylineInfo'\u001b[0m\u001b[0;34m}\u001b[0m\u001b[0;34m)\u001b[0m\u001b[0;34m.\u001b[0m\u001b[0mtext\u001b[0m\u001b[0;34m.\u001b[0m\u001b[0mreplace\u001b[0m\u001b[0;34m(\u001b[0m\u001b[0;34m'العلامة التجارية:'\u001b[0m\u001b[0;34m,\u001b[0m \u001b[0;34m''\u001b[0m\u001b[0;34m)\u001b[0m\u001b[0;34m.\u001b[0m\u001b[0mstrip\u001b[0m\u001b[0;34m(\u001b[0m\u001b[0;34m)\u001b[0m\u001b[0;34m\u001b[0m\u001b[0;34m\u001b[0m\u001b[0m\n\u001b[1;32m      4\u001b[0m \u001b[0mprice\u001b[0m \u001b[0;34m=\u001b[0m \u001b[0msoup\u001b[0m\u001b[0;34m.\u001b[0m\u001b[0mfind\u001b[0m\u001b[0;34m(\u001b[0m\u001b[0;34m'tr'\u001b[0m\u001b[0;34m,\u001b[0m \u001b[0;34m{\u001b[0m\u001b[0;34m'id'\u001b[0m\u001b[0;34m:\u001b[0m \u001b[0;34m'priceblock_ourprice_row'\u001b[0m\u001b[0;34m}\u001b[0m\u001b[0;34m)\u001b[0m\u001b[0;34m.\u001b[0m\u001b[0mtext\u001b[0m\u001b[0;34m.\u001b[0m\u001b[0mreplace\u001b[0m\u001b[0;34m(\u001b[0m\u001b[0;34m'السعر:'\u001b[0m\u001b[0;34m,\u001b[0m \u001b[0;34m''\u001b[0m\u001b[0;34m)\u001b[0m\u001b[0;34m.\u001b[0m\u001b[0mreplace\u001b[0m\u001b[0;34m(\u001b[0m\u001b[0;34m'ريال'\u001b[0m\u001b[0;34m,\u001b[0m \u001b[0;34m''\u001b[0m\u001b[0;34m)\u001b[0m\u001b[0;34m.\u001b[0m\u001b[0mstrip\u001b[0m\u001b[0;34m(\u001b[0m\u001b[0;34m)\u001b[0m\u001b[0;34m\u001b[0m\u001b[0;34m\u001b[0m\u001b[0m\n\u001b[1;32m      5\u001b[0m \u001b[0mdescription\u001b[0m \u001b[0;34m=\u001b[0m \u001b[0msoup\u001b[0m\u001b[0;34m.\u001b[0m\u001b[0mfind\u001b[0m\u001b[0;34m(\u001b[0m\u001b[0;34m'div'\u001b[0m\u001b[0;34m,\u001b[0m \u001b[0;34m{\u001b[0m\u001b[0;34m'id'\u001b[0m\u001b[0;34m:\u001b[0m \u001b[0;34m'feature-bullets'\u001b[0m\u001b[0;34m}\u001b[0m\u001b[0;34m)\u001b[0m\u001b[0;34m.\u001b[0m\u001b[0mfind_all\u001b[0m\u001b[0;34m(\u001b[0m\u001b[0;34m'li'\u001b[0m\u001b[0;34m)\u001b[0m\u001b[0;34m\u001b[0m\u001b[0;34m\u001b[0m\u001b[0m\n",
      "\u001b[0;31mIndexError\u001b[0m: list index out of range"
     ]
    }
   ],
   "source": [
    "sku = soup.find('span', {'id': 'productTitle'}).text.split('-')[1].strip()\n",
    "name = soup.find('span', {'id': 'productTitle'}).text.split('-')[0].strip()\n",
    "brand = soup.find('a', {'id': 'bylineInfo'}).text.replace('العلامة التجارية:', '').strip()\n",
    "price = soup.find('tr', {'id': 'priceblock_ourprice_row'}).text.replace('السعر:', '').replace('ريال', '').strip()\n",
    "description = soup.find('div', {'id': 'feature-bullets'}).find_all('li')\n",
    "images = soup.find('img', {'id': 'landingImage'})['data-old-hires']\n",
    "dimension = soup.find('div', {'id': 'detailBullets_feature_div'}).find_all('li')\n",
    "dim = ''\n",
    "\n",
    "for dim in dimension:\n",
    "    if 'أبعاد الشحنة' in dim.text.strip():\n",
    "        print(dim.text.replace('أبعاد الشحنة', '').replace(':', '').replace('\\n', '').strip())\n",
    "        print('------')\n",
    "\n",
    "desc = ''\n",
    "for toto in description[1:]:\n",
    "#     print(toto.text)\n",
    "    desc += toto.text\n",
    "print(desc)\n",
    "sku"
   ]
  },
  {
   "cell_type": "code",
   "execution_count": null,
   "id": "9cb33dd1",
   "metadata": {},
   "outputs": [],
   "source": []
  },
  {
   "cell_type": "code",
   "execution_count": null,
   "id": "4815ed81",
   "metadata": {},
   "outputs": [],
   "source": []
  },
  {
   "cell_type": "code",
   "execution_count": null,
   "id": "d3071d27",
   "metadata": {},
   "outputs": [],
   "source": []
  },
  {
   "cell_type": "code",
   "execution_count": null,
   "id": "3295e6a1",
   "metadata": {},
   "outputs": [],
   "source": []
  },
  {
   "cell_type": "code",
   "execution_count": null,
   "id": "2599f403",
   "metadata": {},
   "outputs": [],
   "source": []
  },
  {
   "cell_type": "code",
   "execution_count": null,
   "id": "81976240",
   "metadata": {},
   "outputs": [],
   "source": []
  },
  {
   "cell_type": "code",
   "execution_count": null,
   "id": "8a880376",
   "metadata": {},
   "outputs": [],
   "source": []
  },
  {
   "cell_type": "code",
   "execution_count": null,
   "id": "4bc50fd9",
   "metadata": {},
   "outputs": [],
   "source": []
  },
  {
   "cell_type": "code",
   "execution_count": null,
   "id": "c4794184",
   "metadata": {},
   "outputs": [],
   "source": []
  },
  {
   "cell_type": "code",
   "execution_count": null,
   "id": "37dc7a8c",
   "metadata": {},
   "outputs": [],
   "source": []
  },
  {
   "cell_type": "code",
   "execution_count": null,
   "id": "e19f7e62",
   "metadata": {},
   "outputs": [],
   "source": []
  },
  {
   "cell_type": "code",
   "execution_count": null,
   "id": "c915674d",
   "metadata": {},
   "outputs": [],
   "source": []
  },
  {
   "cell_type": "code",
   "execution_count": null,
   "id": "008ba831",
   "metadata": {},
   "outputs": [],
   "source": []
  },
  {
   "cell_type": "code",
   "execution_count": null,
   "id": "47417ef0",
   "metadata": {},
   "outputs": [],
   "source": []
  },
  {
   "cell_type": "code",
   "execution_count": 68,
   "id": "e1d98328",
   "metadata": {},
   "outputs": [],
   "source": [
    "aaa"
   ]
  },
  {
   "cell_type": "code",
   "execution_count": null,
   "id": "0944cae6",
   "metadata": {},
   "outputs": [],
   "source": []
  },
  {
   "cell_type": "markdown",
   "id": "271ddcee",
   "metadata": {},
   "source": [
    "# Alassly update urls\n"
   ]
  },
  {
   "cell_type": "code",
   "execution_count": 13,
   "id": "660f97e6",
   "metadata": {},
   "outputs": [
    {
     "name": "stdout",
     "output_type": "stream",
     "text": [
      "Count:  1\n",
      "Count:  2\n",
      "Count:  3\n",
      "Count:  4\n",
      "Count:  5\n",
      "Count:  6\n",
      "Count:  7\n"
     ]
    }
   ],
   "source": [
    "list_urls = []\n",
    "for i in range(1, 8):\n",
    "    print('Count: ', i)\n",
    "    r = requests.get(f'https://alassly.com/shop/page/{i}/?filter_%D8%A7%D9%84%D8%AA%D8%AC%D8%A7%D8%B1%D9%8A%D8%A9=%D9%8A%D9%88%D8%AC%D9%8A%D9%86&query_type_%D8%A7%D9%84%D8%AA%D8%AC%D8%A7%D8%B1%D9%8A%D8%A9=or')\n",
    "    soup = BeautifulSoup(r.text, 'html.parser')\n",
    "    urls = soup.find_all('div', {'class': 'box-image'})\n",
    "    for tt in urls:\n",
    "        list_urls.append(tt.find('a')['href'])"
   ]
  },
  {
   "cell_type": "code",
   "execution_count": 14,
   "id": "ae81de68",
   "metadata": {},
   "outputs": [
    {
     "data": {
      "text/plain": [
       "96"
      ]
     },
     "execution_count": 14,
     "metadata": {},
     "output_type": "execute_result"
    }
   ],
   "source": [
    "len(list_urls)"
   ]
  },
  {
   "cell_type": "code",
   "execution_count": 15,
   "id": "51e7f4ba",
   "metadata": {},
   "outputs": [
    {
     "data": {
      "text/plain": [
       "['https://alassly.com/product/%d8%ab%d9%84%d8%a7%d8%ac%d8%a9-%d8%a8%d8%a7%d8%a8%d9%8a%d9%86-%d9%8a%d9%88%d8%ac%d9%8a%d9%86-12-8-%d9%82%d8%af%d9%85-no-frost-%d8%a3%d8%a8%d9%8a%d8%b6/',\n",
       " 'https://alassly.com/product/%d8%ab%d9%84%d8%a7%d8%ac%d8%a9-%d8%a8%d8%a7%d8%a8%d9%8a%d9%86-%d9%8a%d9%88%d8%ac%d9%8a%d9%86-12-8-%d9%82%d8%af%d9%85-no-frost-%d8%b3%d8%aa%d9%8a%d9%84/',\n",
       " 'https://alassly.com/product/%d8%ab%d9%84%d8%a7%d8%ac%d8%a9-%d9%8a%d9%88%d8%ac%d9%8a%d9%86-%d8%a8%d8%a7%d8%a8%d9%8a%d9%86-15-3-%d9%82%d8%af%d9%85-no-frost-%d8%a3%d8%a8%d9%8a%d8%b6/',\n",
       " 'https://alassly.com/product/%d8%ab%d9%84%d8%a7%d8%ac%d8%a9-%d9%8a%d9%88%d8%ac%d9%8a%d9%86-%d8%a8%d8%a7%d8%a8%d9%8a%d9%86-15-3-%d9%82%d8%af%d9%85-no-frost-%d8%b3%d8%aa%d9%8a%d9%84/',\n",
       " 'https://alassly.com/product/%d8%ab%d9%84%d8%a7%d8%ac%d8%a9-%d8%a8%d8%a7%d8%a8%d9%8a%d9%86-%d9%8a%d9%88%d8%ac%d9%8a%d9%86-18-1-%d9%82%d8%af%d9%85-no-frost-%d8%a3%d8%a8%d9%8a%d8%b6/',\n",
       " 'https://alassly.com/product/%d8%ab%d9%84%d8%a7%d8%ac%d8%a9-%d8%a8%d8%a7%d8%a8%d9%8a%d9%86-%d9%8a%d9%88%d8%ac%d9%8a%d9%86-18-1-%d9%82%d8%af%d9%85-no-frost-%d8%b3%d8%aa%d9%8a%d9%84/',\n",
       " 'https://alassly.com/product/%d8%ab%d9%84%d8%a7%d8%ac%d8%a9-%d9%8a%d9%88%d8%ac%d9%8a%d9%86-%d8%a8%d8%a7%d8%a8%d9%8a%d9%86-11-%d9%82%d8%af%d9%85-no-frost-%d8%a3%d8%a8%d9%8a%d8%b6-2/',\n",
       " 'https://alassly.com/product/%d8%ab%d9%84%d8%a7%d8%ac%d8%a9-%d9%8a%d9%88%d8%ac%d9%8a%d9%86-%d8%a8%d8%a7%d8%a8%d9%8a%d9%86-11-%d9%82%d8%af%d9%85-no-frost-%d8%a3%d8%a8%d9%8a%d8%b6/',\n",
       " 'https://alassly.com/product/%d8%ab%d9%84%d8%a7%d8%ac%d8%a9-%d9%8a%d9%88%d8%ac%d9%8a%d9%86-%d8%a8%d8%a7%d8%a8-%d9%88%d8%a7%d8%ad%d8%af-3-2-%d9%82%d8%af%d9%85-%d8%a3%d8%a8%d9%8a%d8%b6/',\n",
       " 'https://alassly.com/product/%d8%b4%d8%a7%d8%b4%d8%a9-43-%d8%a8%d9%88%d8%b5%d8%a9-%d9%8a%d9%88%d8%ac%d9%8a%d9%86-fhd-led/',\n",
       " 'https://alassly.com/product/%d8%b4%d8%a7%d8%b4%d8%a9-%d9%8a%d9%88%d8%ac%d9%8a%d9%86-75-%d8%a8%d9%88%d8%b5%d8%a9-%d8%b3%d9%85%d8%a7%d8%b1%d8%aa-4k-%d8%a3%d8%b3%d9%88%d8%af/',\n",
       " 'https://alassly.com/product/%d8%ab%d9%84%d8%a7%d8%ac%d8%a9-%d9%8a%d9%88%d8%ac%d9%8a%d9%86-23-%d9%82%d8%af%d9%85-%d8%a8%d8%a7%d8%a8%d9%8a%d9%86-%d8%a3%d8%a8%d9%8a%d8%b6/',\n",
       " 'https://alassly.com/product/%d8%ab%d9%84%d8%a7%d8%ac%d8%a9-%d9%8a%d9%88%d8%ac%d9%8a%d9%86-23-%d9%82%d8%af%d9%85-%d8%a8%d8%a7%d8%a8%d9%8a%d9%86-%d8%b3%d8%aa%d9%8a%d9%84/',\n",
       " 'https://alassly.com/product/%d9%81%d8%b1%d9%8a%d8%b2%d8%b1-%d9%8a%d9%88%d8%ac%d9%8a%d9%86-%d8%b9%d9%85%d9%88%d8%af%d9%8a-21-%d9%82%d8%af%d9%85-%d8%a3%d8%a8%d9%8a%d8%b6/',\n",
       " 'https://alassly.com/product/%d9%81%d8%b1%d9%8a%d8%b2%d8%b1-%d9%8a%d9%88%d8%ac%d9%8a%d9%86-%d8%b9%d9%85%d9%88%d8%af%d9%8a-21-%d9%82%d8%af%d9%85-%d8%b3%d8%aa%d9%8a%d9%84/',\n",
       " 'https://alassly.com/product/%d9%85%d9%83%d9%8a%d9%81-%d8%b3%d8%a8%d9%84%d9%8a%d8%aa-%d9%8a%d9%88%d8%ac%d9%8a%d9%86-%d8%b3%d9%88%d8%a8%d8%b1-12000-%d9%88%d8%ad%d8%af%d8%a9-%d8%a8%d8%a7%d8%b1%d8%af/',\n",
       " 'https://alassly.com/product/%d9%85%d9%83%d9%8a%d9%81-%d8%b3%d8%a8%d9%84%d9%8a%d8%aa-%d9%8a%d9%88%d8%ac%d9%8a%d9%86-%d8%b3%d9%88%d8%a8%d8%b1-36000-%d9%88%d8%ad%d8%af%d8%a9-%d8%a8%d8%a7%d8%b1%d8%af/',\n",
       " 'https://alassly.com/product/%d9%85%d9%83%d9%8a%d9%81-%d8%b3%d8%a8%d9%84%d9%8a%d8%aa-%d9%8a%d9%88%d8%ac%d9%8a%d9%86-%d8%b3%d9%88%d8%a8%d8%b1-12000-%d9%88%d8%ad%d8%af%d8%a9-%d8%ad%d8%a7%d8%b1-%d9%88-%d8%a8%d8%a7%d8%b1%d8%af/',\n",
       " 'https://alassly.com/product/%d9%8a%d9%88%d8%ac%d9%8a%d9%86-%d8%a8%d9%84%d8%a7%d8%b3%d9%85%d8%a7-%d8%b3%d8%a8%d9%8a%d9%84%d8%aa-12000-%d9%88%d8%ad%d8%af%d8%a9-%d8%a8%d8%a7%d8%b1%d8%af/',\n",
       " 'https://alassly.com/product/%d9%86%d8%b4%d8%a7%d9%81%d8%a9-%d9%8a%d9%88%d8%ac%d9%8a%d9%86-7-%d9%83%d9%8a%d9%84%d9%88-%d8%a3%d8%a8%d9%8a%d8%b6/',\n",
       " 'https://alassly.com/product/%d9%81%d8%b1%d9%8a%d8%b2%d8%b1-%d9%8a%d9%88%d8%ac%d9%8a%d9%86-%d8%b9%d9%85%d9%88%d8%af%d9%89-21-%d9%82%d8%af%d9%85-%d8%a7%d9%86%d9%81%d9%8a%d8%b1%d8%aa%d8%b1-%d8%a3%d8%a8%d9%8a%d8%b6/',\n",
       " 'https://alassly.com/product/%d9%81%d8%b1%d9%8a%d8%b2%d8%b1-%d9%8a%d9%88%d8%ac%d9%8a%d9%86-%d8%b9%d9%85%d9%88%d8%af%d9%89-21-%d9%82%d8%af%d9%85-%d8%a7%d9%86%d9%81%d9%8a%d8%b1%d8%aa%d8%b1-%d8%b3%d8%aa%d9%8a%d9%84/',\n",
       " 'https://alassly.com/product/%d8%a8%d8%b1%d8%a7%d8%af%d8%a9-%d9%85%d8%a7%d8%a1-%d9%8a%d9%88%d8%ac%d9%8a%d9%86-%d8%b3%d8%aa%d8%a7%d9%86%d8%af-%d8%a3%d8%a8%d9%8a%d8%b6-%d8%a3%d8%b2%d8%b1%d9%82/',\n",
       " 'https://alassly.com/product/%d9%85%d9%83%d9%8a%d9%81-%d8%b4%d8%a8%d8%a7%d9%83-%d9%8a%d9%88%d8%ac%d9%8a%d9%86-%d8%a8%d9%84%d8%a7%d8%aa%d9%8a%d9%86-18000-%d9%88%d8%ad%d8%af%d8%a9-%d8%ad%d8%a7%d8%b1-%d9%88-%d8%a8%d8%a7%d8%b1%d8%af/',\n",
       " 'https://alassly.com/product/%d9%8a%d9%88%d8%ac%d9%8a%d9%86-%d8%a8%d8%b1%d8%a7%d8%af%d8%a9-%d9%85%d8%a7%d8%a1-%d9%83%d9%88%d8%b1%d9%8a-%d8%b7%d8%a7%d9%88%d9%84%d8%a9-%d8%a3%d8%a8%d9%8a%d8%b6-%d8%a3%d8%ae%d8%b6%d8%b1-%d8%ba/',\n",
       " 'https://alassly.com/product/%d9%85%d9%83%d9%8a%d9%81-%d9%8a%d9%88%d8%ac%d9%8a%d9%86-%d8%b3%d9%88%d8%a8%d8%b1-%d8%b4%d8%a8%d8%a7%d9%83-18000-%d9%88%d8%ad%d8%af%d8%a9-%d8%ad%d8%a7%d8%b1-%d9%88-%d8%a8%d8%a7%d8%b1%d8%af/',\n",
       " 'https://alassly.com/product/%d8%ab%d9%84%d8%a7%d8%ac%d8%a9-%d9%85%d8%a7%d8%b1%d9%83%d8%a9-%d9%8a%d9%88%d8%ac%d9%8a%d9%86-350-%d9%84%d8%aa%d8%b1-%d9%81%d8%b6%d9%8a/',\n",
       " 'https://alassly.com/product/%d8%ab%d9%84%d8%a7%d8%ac%d8%a9-%d9%8a%d9%88%d8%ac%d9%8a%d9%86-%d8%a8%d8%a7%d8%a8%d9%8a%d9%86-17-3-%d9%82%d8%af%d9%85-%d8%a3%d8%a8%d9%8a%d8%b6/',\n",
       " 'https://alassly.com/product/%d8%ab%d9%84%d8%a7%d8%ac%d8%a9-%d9%8a%d9%88%d8%ac%d9%8a%d9%86-%d8%a8%d8%a7%d8%a8%d9%8a%d9%86-17-3-%d9%82%d8%af%d9%85-%d8%b3%d8%aa%d9%8a%d9%84/',\n",
       " 'https://alassly.com/product/%d8%ab%d9%84%d8%a7%d8%ac%d8%a9-%d9%8a%d9%88%d8%ac%d9%8a%d9%86-%d8%a8%d8%a7%d8%a8%d9%8a%d9%86-18-%d9%82%d8%af%d9%85-%d8%a3%d8%a8%d9%8a%d8%b6-2/',\n",
       " 'https://alassly.com/product/%d8%ab%d9%84%d8%a7%d8%ac%d8%a9-%d9%8a%d9%88%d8%ac%d9%8a%d9%86-%d8%a8%d8%a7%d8%a8%d9%8a%d9%86-18-%d9%82%d8%af%d9%85-%d8%b3%d9%8a%d9%84%d9%81%d8%b1/',\n",
       " 'https://alassly.com/product/%d8%b4%d8%a7%d8%b4%d8%a9-%d9%8a%d9%88%d8%ac%d9%8a%d9%86-55-%d8%a8%d9%88%d8%b5%d8%a9-%d8%b3%d9%85%d8%a7%d8%b1%d8%aa-4k-%d8%a3%d8%b3%d9%88%d8%af/',\n",
       " 'https://alassly.com/product/%d8%ba%d8%b3%d8%a7%d9%84%d8%a9-%d8%b5%d8%ad%d9%88%d9%86-%d9%8a%d9%88%d8%ac%d9%8a%d9%86-14-%d9%85%d9%83%d8%a7%d9%86-%d8%a3%d8%a8%d9%8a%d8%b6/',\n",
       " 'https://alassly.com/product/%d8%ba%d8%b3%d8%a7%d9%84%d8%a9-%d8%b5%d8%ad%d9%88%d9%86-%d9%8a%d9%88%d8%ac%d9%8a%d9%86-14%d9%85%d9%83%d8%a7%d9%86-%d8%b3%d8%aa%d9%8a%d9%84/',\n",
       " 'https://alassly.com/product/%d8%ba%d8%b3%d8%a7%d9%84%d8%a9-%d9%85%d9%84%d8%a7%d8%a8%d8%b3-%d9%8a%d9%88%d8%ac%d9%8a%d9%86-10-%d9%83%d9%8a%d9%84%d9%88-%d8%aa%d8%ad%d9%85%d9%8a%d9%84-%d8%a3%d9%85%d8%a7%d9%85%d9%8a-%d8%a5%d9%86/',\n",
       " 'https://alassly.com/product/%d8%ba%d8%b3%d8%a7%d9%84%d8%a9-%d9%85%d9%84%d8%a7%d8%a8%d8%b3-%d9%8a%d9%88%d8%ac%d9%8a%d9%86-10-%d9%83%d9%8a%d9%84%d9%88-%d8%a3%d9%85%d8%a7%d9%85%d9%8a%d8%a9-%d8%a5%d9%86%d9%81%d9%8a%d8%b1%d8%aa/',\n",
       " 'https://alassly.com/product/%d8%ba%d8%b3%d8%a7%d9%84%d8%a9-%d9%85%d9%84%d8%a7%d8%a8%d8%b3-%d8%a7%d8%aa%d9%88%d9%85%d8%a7%d8%aa%d9%8a%d9%83-%d9%8a%d9%88%d8%ac%d9%8a%d9%86-10-%d9%83%d9%8a%d9%84%d9%88-%d8%aa%d8%b9%d8%a8%d8%a6%d8%a9/',\n",
       " 'https://alassly.com/product/%d8%ba%d8%b3%d8%a7%d9%84%d8%a9-%d9%85%d9%84%d8%a7%d8%a8%d8%b3-%d9%8a%d9%88%d8%ac%d9%8a%d9%86-10-%d9%83%d9%8a%d9%84%d9%88-%d8%ad%d9%88%d8%b6%d9%8a%d9%86/',\n",
       " 'https://alassly.com/product/%d8%ba%d8%b3%d8%a7%d9%84%d8%a9-%d9%85%d9%84%d8%a7%d8%a8%d8%b3-%d9%8a%d9%88%d8%ac%d9%8a%d9%86-14-%d9%83%d9%8a%d9%84%d9%88-%d8%ad%d9%88%d8%b6%d9%8a%d9%86/',\n",
       " 'https://alassly.com/product/%d8%ba%d8%b3%d8%a7%d9%84%d8%a9-%d9%85%d9%84%d8%a7%d8%a8%d8%b3-%d9%8a%d9%88%d8%ac%d9%8a%d9%86-6-%d9%83%d9%8a%d9%84%d9%88-%d8%ad%d9%88%d8%b6%d9%8a%d9%86/',\n",
       " 'https://alassly.com/product/%d8%ba%d8%b3%d8%a7%d9%84%d8%a9-%d9%85%d9%84%d8%a7%d8%a8%d8%b3-%d9%8a%d9%88%d8%ac%d9%8a%d9%86-8-%d9%83%d9%8a%d9%84%d9%88-%d8%aa%d8%b9%d8%a8%d8%a6%d8%a9-%d8%a3%d9%85%d8%a7%d9%85%d9%8a%d8%a9-%d8%a3/',\n",
       " 'https://alassly.com/product/%d8%ba%d8%b3%d8%a7%d9%84%d8%a9-%d9%85%d9%84%d8%a7%d8%a8%d8%b3-%d9%8a%d9%88%d8%ac%d9%8a%d9%86-8-%d9%83%d9%8a%d9%84%d9%88-%d8%ad%d9%88%d8%b6%d9%8a%d9%86/',\n",
       " 'https://alassly.com/product/%d8%ba%d8%b3%d8%a7%d9%84%d8%a9-%d9%85%d9%84%d8%a7%d8%a8%d8%b3-%d8%a7%d8%aa%d9%88%d9%85%d8%a7%d8%aa%d9%8a%d9%83-%d9%8a%d9%88%d8%ac%d9%8a%d9%86-8-%d9%83%d9%8a%d9%84%d9%88-%d9%81%d8%aa%d8%ad%d8%a9-%d8%b9/',\n",
       " 'https://alassly.com/product/%d9%8a%d9%88%d8%ac%d9%8a%d9%86-%d8%ba%d8%b3%d8%a7%d9%84%d8%a9-%d8%a3%d8%aa%d9%88%d9%85%d8%a7%d8%aa%d9%8a%d9%83-%d8%aa%d8%b9%d8%a8%d8%a6%d8%a9-%d8%b9%d9%84%d9%88%d9%8a%d8%a9-16-%d9%83/',\n",
       " 'https://alassly.com/product/%d9%8a%d9%88%d8%ac%d9%8a%d9%86-%d8%ba%d8%b3%d8%a7%d9%84%d8%a9-%d8%a3%d8%aa%d9%88%d9%85%d8%a7%d8%aa%d9%8a%d9%83-%d8%aa%d8%b9%d8%a8%d8%a6%d8%a9-%d8%b9%d9%84%d9%88%d9%8a%d8%a9-16-%d9%83-%d9%81%d8%b6/',\n",
       " 'https://alassly.com/product/%d8%ba%d8%b3%d8%a7%d9%84%d8%a9-%d9%8a%d9%88%d8%ac%d9%8a%d9%86-%d8%a7%d8%aa%d9%88%d9%85%d8%a7%d8%aa%d9%8a%d9%83-10-%d9%83%d9%8a%d9%84%d9%88-%d9%81%d8%aa%d8%ad%d8%a9-%d8%b9%d9%84%d9%88%d9%8a%d8%a9/',\n",
       " 'https://alassly.com/product/%d8%ba%d8%b3%d8%a7%d9%84%d8%a9-%d9%8a%d9%88%d8%ac%d9%8a%d9%86-%d8%a7%d8%aa%d9%88%d9%85%d8%a7%d8%aa%d9%8a%d9%83-8-%d9%83%d9%8a%d9%84%d9%88-%d9%81%d8%aa%d8%ad%d8%a9-%d8%b9%d9%84%d9%88%d9%8a%d8%a9/',\n",
       " 'https://alassly.com/product/%d9%81%d8%b1%d9%86-%d9%83%d9%87%d8%b1%d8%a8%d8%a7%d8%a1-%d9%8a%d9%88%d8%ac%d9%8a%d9%86-60-%d8%b3%d9%85-4-%d8%b4%d8%b9%d9%84%d8%a7%d8%aa-%d8%a3%d8%a8%d9%8a%d8%b6/',\n",
       " 'https://alassly.com/product/%d9%81%d8%b1%d9%8a%d8%b2%d8%b1-%d8%b3%d8%b7%d8%ad%d9%8a-%d9%8a%d9%88%d8%ac%d9%8a%d9%86-7-%d9%82%d8%af%d9%85-%d8%a3%d8%a8%d9%8a%d8%b6/',\n",
       " 'https://alassly.com/product/%d9%81%d8%b1%d9%8a%d8%b2%d8%b1-%d8%a7%d9%81%d9%82%d9%8a-%d9%8a%d9%88%d8%ac%d9%8a%d9%86-24-7-%d9%82%d8%af%d9%85-d-frost-%d8%a3%d8%a8%d9%8a%d8%b6/',\n",
       " 'https://alassly.com/product/%d9%81%d8%b1%d9%8a%d8%b2%d8%b1-%d9%8a%d9%88%d8%ac%d9%8a%d9%86-%d8%a7%d8%b1%d8%b6%d9%8a-18-%d9%82%d8%af%d9%85-%d8%a3%d8%a8%d9%8a%d8%b6/',\n",
       " 'https://alassly.com/product/%d9%81%d8%b1%d9%8a%d8%b2%d8%b1-%d9%8a%d9%88%d8%ac%d9%8a%d9%86-%d8%a7%d8%b1%d8%b6%d9%8a-3-42-%d9%82%d8%af%d9%85-%d8%a3%d8%a8%d9%8a%d8%b6/',\n",
       " 'https://alassly.com/product/%d9%81%d8%b1%d9%8a%d8%b2%d8%b1-%d9%8a%d9%88%d8%ac%d9%8a%d9%86-%d8%a7%d8%b1%d8%b6%d9%8a-5-%d9%82%d8%af%d9%85-%d8%a3%d8%a8%d9%8a%d8%b6/',\n",
       " 'https://alassly.com/product/%d9%81%d8%b1%d9%8a%d8%b2%d8%b1-%d9%8a%d9%88%d8%ac%d9%8a%d9%86-%d8%a7%d8%b1%d8%b6%d9%8a-8-7-%d9%82%d8%af%d9%85-%d8%a3%d8%a8%d9%8a%d8%b6/',\n",
       " 'https://alassly.com/product/%d9%81%d8%b1%d9%8a%d8%b2%d8%b1-%d9%8a%d9%88%d8%ac%d9%8a%d9%86-%d8%b3%d8%b7%d8%ad%d9%8a-14-8-%d9%82%d8%af%d9%85-%d8%a3%d8%a8%d9%8a%d8%b6/',\n",
       " 'https://alassly.com/product/%d9%8a%d9%88%d8%ac%d9%8a%d9%86-%d9%81%d8%b1%d9%8a%d8%b2%d8%b1-%d9%88%d8%a7%d9%82%d9%81-%d8%a8%d8%a7%d8%a8-%d9%88%d8%a7%d8%ad%d8%af-%d9%81%d8%b6%d9%8a-260-%d9%84%d8%aa%d8%b1/',\n",
       " 'https://alassly.com/product/%d9%8a%d9%88%d8%ac%d9%8a%d9%86-%d9%85%d9%83%d9%88%d8%a7%d8%a9-%d8%b6%d8%ba%d8%b8-%d8%a8%d8%ae%d8%a7%d8%b1-220-%d9%81%d9%88%d9%84%d8%aa-%d9%85%d8%b9-%d8%b3%d8%aa%d8%a7%d9%86%d8%af/',\n",
       " 'https://alassly.com/product/%d9%83%d8%a7%d9%88%d9%8a%d8%a9-%d9%8a%d9%88%d8%ac%d9%8a%d9%86-%d8%b6%d8%ba%d8%b7-%d8%a8%d8%ae%d8%a7%d8%b1-220-%d9%81%d9%88%d9%84%d8%aa-%d9%85%d8%b9-%d8%b3%d8%aa%d8%a7%d9%86%d8%af/',\n",
       " 'https://alassly.com/product/%d9%85%d9%83%d9%86%d8%b3%d8%a9-%d9%83%d9%87%d8%b1%d8%a8%d8%a7%d8%a6%d9%8a%d8%a9-%d9%8a%d9%88%d8%ac%d9%8a%d9%86-1800-%d9%88%d8%a7%d8%aa-%d8%a3%d8%b2%d8%b1%d9%82/',\n",
       " 'https://alassly.com/product/%d9%85%d9%83%d9%8a%d9%81-%d8%af%d9%88%d9%84%d8%a7%d8%a8%d9%8a-%d9%8a%d9%88%d8%ac%d9%8a%d9%86-%d8%a7%d9%86%d9%81%d9%8a%d8%b1%d8%aa%d8%b1-48000-%d9%88%d8%ad%d8%af%d8%a9-%d8%ad%d8%a7%d8%b1-%d8%a8%d8%a7/',\n",
       " 'https://alassly.com/product/%d9%85%d9%83%d9%8a%d9%81-%d8%af%d9%88%d9%84%d8%a7%d8%a8%d9%8a-%d9%8a%d9%88%d8%ac%d9%8a%d9%86-%d8%a7%d9%86%d9%81%d9%8a%d8%b1%d8%aa%d8%b1-60000-%d9%88%d8%ad%d8%af%d8%a9-%d8%ad%d8%a7%d8%b1-%d8%a8%d8%a7/',\n",
       " 'https://alassly.com/product/%d9%85%d9%83%d9%8a%d9%81-%d8%b4%d8%a8%d8%a7%d9%83-%d9%8a%d9%88%d8%ac%d9%8a%d9%86-%d8%a8%d9%84%d8%a7%d8%aa%d9%8a%d9%86-24-%d8%a3%d9%84%d9%81-%d9%88%d8%ad%d8%af%d8%a9-%d8%ad%d8%a7%d8%b1-%d9%88-%d8%a8/',\n",
       " 'https://alassly.com/product/%d9%85%d9%83%d9%8a%d9%81-%d9%83%d8%a7%d8%b3%d9%8a%d8%aa-%d9%8a%d9%88%d8%ac%d9%8a%d9%86-%d8%a7%d9%86%d9%81%d9%8a%d8%b1%d8%aa%d8%b1-24000-%d9%88%d8%ad%d8%af%d8%a9-%d8%ad%d8%a7%d8%b1-%d8%a8%d8%a7%d8%b1/',\n",
       " 'https://alassly.com/product/%d9%85%d9%83%d9%8a%d9%81-%d9%83%d8%a7%d8%b3%d9%8a%d8%aa-%d9%8a%d9%88%d8%ac%d9%8a%d9%86-%d8%a7%d9%86%d9%81%d9%8a%d8%b1%d8%aa%d8%b1-36000-%d9%88%d8%ad%d8%af%d8%a9-%d8%ad%d8%a7%d8%b1-%d8%a8%d8%a7%d8%b1/',\n",
       " 'https://alassly.com/product/%d9%85%d9%83%d9%8a%d9%81-%d9%83%d8%a7%d8%b3%d9%8a%d8%aa-%d9%8a%d9%88%d8%ac%d9%8a%d9%86-%d8%a7%d9%86%d9%81%d9%8a%d8%b1%d8%aa%d8%b1-48000-%d9%88%d8%ad%d8%af%d8%a9-%d8%ad%d8%a7%d8%b1-%d8%a8%d8%a7%d8%b1/',\n",
       " 'https://alassly.com/product/%d9%85%d9%83%d9%8a%d9%81-%d9%83%d9%88%d9%86%d8%b3%d9%8a%d9%84%d8%af-%d9%8a%d9%88%d8%ac%d9%8a%d9%86-24000-%d9%88%d8%ad%d8%af%d8%a9-%d8%a7%d9%86%d9%81%d9%8a%d8%b1%d8%aa%d8%b1-%d8%ad%d8%a7%d8%b1-%d8%a8/',\n",
       " 'https://alassly.com/product/%d9%85%d9%83%d9%8a%d9%81-%d9%83%d9%88%d9%86%d8%b3%d9%8a%d9%84%d8%af-%d9%8a%d9%88%d8%ac%d9%8a%d9%86-36000-%d9%88%d8%ad%d8%af%d8%a9-%d8%a7%d9%86%d9%81%d9%8a%d8%b1%d8%aa%d8%b1-%d8%ad%d8%a7%d8%b1-%d8%a8/',\n",
       " 'https://alassly.com/product/%d9%85%d9%83%d9%8a%d9%81-%d9%85%d8%ae%d9%81%d9%8a-%d9%8a%d9%88%d8%ac%d9%8a%d9%86-48000-%d9%88%d8%ad%d8%af%d8%a9-%d8%a7%d9%86%d9%81%d9%8a%d8%b1%d8%aa%d8%b1-%d8%ad%d8%a7%d8%b1-%d8%a8%d8%a7%d8%b1%d8%af/',\n",
       " 'https://alassly.com/product/%d9%85%d9%83%d9%8a%d9%81-%d9%85%d8%ae%d9%81%d9%8a-%d9%8a%d9%88%d8%ac%d9%8a%d9%86-60000-%d9%88%d8%ad%d8%af%d8%a9-%d8%a7%d9%86%d9%81%d9%8a%d8%b1%d8%aa%d8%b1-%d8%ad%d8%a7%d8%b1-%d8%a8%d8%a7%d8%b1%d8%af/',\n",
       " 'https://alassly.com/product/%d9%85%d9%83%d9%8a%d9%81-%d9%8a%d9%88%d8%ac%d9%8a%d9%86-%d8%a8%d9%84%d8%a7%d8%aa%d9%8a%d9%86-%d8%b4%d8%a8%d8%a7%d9%83-18000-%d9%88%d8%ad%d8%af%d8%a9-%d8%a8%d8%a7%d8%b1%d8%af/',\n",
       " 'https://alassly.com/product/%d9%85%d9%83%d9%8a%d9%81-%d9%8a%d9%88%d8%ac%d9%8a%d9%86-%d8%a8%d9%84%d8%a7%d8%aa%d9%8a%d9%86-%d8%b4%d8%a8%d8%a7%d9%83-24000-%d9%88%d8%ad%d8%af%d8%a9-%d8%a8%d8%a7%d8%b1%d8%af/',\n",
       " 'https://alassly.com/product/%d9%85%d9%83%d9%8a%d9%81-%d9%8a%d9%88%d8%ac%d9%8a%d9%86-%d8%b3%d9%88%d8%a8%d8%b1-%d8%b4%d8%a8%d8%a7%d9%83-18000-%d9%88%d8%ad%d8%af%d8%a9-%d8%a8%d8%a7%d8%b1%d8%af/',\n",
       " 'https://alassly.com/product/%d9%85%d9%83%d9%8a%d9%81-%d9%8a%d9%88%d8%ac%d9%8a%d9%86-%d8%b3%d9%88%d8%a8%d8%b1-%d8%b4%d8%a8%d8%a7%d9%83-24-%d8%a3%d9%84%d9%81-%d9%88%d8%ad%d8%af%d8%a9-%d8%a8%d8%a7%d8%b1%d8%af/',\n",
       " 'https://alassly.com/product/%d9%85%d9%83%d9%8a%d9%81-%d9%8a%d9%88%d8%ac%d9%8a%d9%86-%d8%b3%d9%88%d8%a8%d8%b1-%d8%b4%d8%a8%d8%a7%d9%83-24-%d8%a3%d9%84%d9%81-%d9%88%d8%ad%d8%af%d8%a9-%d8%ad%d8%a7%d8%b1-%d9%88-%d8%a8%d8%a7%d8%b1/',\n",
       " 'https://alassly.com/product/%d9%85%d9%8a%d9%83%d8%b1%d9%88%d9%8a%d9%81-%d8%a8%d9%84%d8%aa-%d8%a7%d9%86-%d8%a3%d9%84%d8%ac%d9%88%d8%b1-%d8%a5%d9%8a%d8%b7%d8%a7%d9%84%d9%89-25-%d9%84%d8%aa%d8%b1/',\n",
       " 'https://alassly.com/product/%d9%85%d9%8a%d9%83%d8%b1%d9%88%d9%8a%d9%81-%d9%8a%d9%88%d8%ac%d9%8a%d9%86-20-%d9%84%d8%aa%d8%b1-%d8%a3%d8%a8%d9%8a%d8%b6/',\n",
       " 'https://alassly.com/product/%d9%85%d9%8a%d9%83%d8%b1%d9%88%d9%8a%d9%81-%d9%8a%d9%88%d8%ac%d9%8a%d9%86-30-%d9%84%d8%aa%d8%b1-%d8%a3%d8%a8%d9%8a%d8%b6/',\n",
       " 'https://alassly.com/product/%d9%85%d9%8a%d9%83%d8%b1%d9%88%d9%8a%d9%81-%d9%8a%d9%88%d8%ac%d9%8a%d9%86-30-%d9%84%d8%aa%d8%b1-%d9%85%d8%b9-%d8%b4%d9%88%d8%a7%d9%8a%d8%a9-%d8%b3%d8%aa%d9%8a%d9%84/',\n",
       " 'https://alassly.com/product/%d9%85%d9%8a%d9%83%d8%b1%d9%88%d9%8a%d9%81-%d9%8a%d9%88%d8%ac%d9%8a%d9%86-42-%d9%84%d8%aa%d8%b1-%d8%a3%d8%a8%d9%8a%d8%b6/',\n",
       " 'https://alassly.com/product/%d9%85%d9%8a%d9%83%d8%b1%d9%88%d9%8a%d9%81-%d9%8a%d9%88%d8%ac%d9%8a%d9%86-42-%d9%84%d8%aa%d8%b1-%d9%85%d8%b9-%d8%b4%d9%88%d8%a7%d9%8a%d8%a9-%d8%b3%d8%aa%d9%8a%d9%84/',\n",
       " 'https://alassly.com/product/%d9%85%d9%83%d9%8a%d9%81-%d8%b3%d8%a8%d9%84%d9%8a%d8%aa-%d9%8a%d9%88%d8%ac%d9%8a%d9%86-%d8%a8%d9%84%d8%a7%d8%b2%d9%85%d8%a7-12000-%d9%88%d8%ad%d8%af%d8%a9-%d8%ad%d8%a7%d8%b1-%d9%88-%d8%a8%d8%a7%d8%b1/',\n",
       " 'https://alassly.com/product/%d9%85%d9%83%d9%8a%d9%81-%d8%b3%d8%a8%d9%84%d9%8a%d8%aa-%d9%8a%d9%88%d8%ac%d9%8a%d9%86-%d8%a8%d9%84%d8%a7%d8%b2%d9%85%d8%a7-18000-%d9%88%d8%ad%d8%af%d8%a9-%d8%a8%d8%a7%d8%b1%d8%af/',\n",
       " 'https://alassly.com/product/%d9%85%d9%83%d9%8a%d9%81-%d8%b3%d8%a8%d9%84%d9%8a%d8%aa-%d9%8a%d9%88%d8%ac%d9%8a%d9%86-%d8%a8%d9%84%d8%a7%d8%b2%d9%85%d8%a7-18000-%d9%88%d8%ad%d8%af%d8%a9-%d8%ad%d8%a7%d8%b1-%d9%88-%d8%a8%d8%a7%d8%b1/',\n",
       " 'https://alassly.com/product/%d9%85%d9%83%d9%8a%d9%81-%d8%b3%d8%a8%d9%84%d9%8a%d8%aa-%d9%8a%d9%88%d8%ac%d9%8a%d9%86-%d8%a8%d9%84%d8%a7%d8%b2%d9%85%d8%a7-24000-%d9%88%d8%ad%d8%af%d8%a9-%d8%a8%d8%a7%d8%b1%d8%af/',\n",
       " 'https://alassly.com/product/%d9%85%d9%83%d9%8a%d9%81-%d8%b3%d8%a8%d9%84%d9%8a%d8%aa-%d9%8a%d9%88%d8%ac%d9%8a%d9%86-%d8%a8%d9%84%d8%a7%d8%b2%d9%85%d8%a7-24000-%d9%88%d8%ad%d8%af%d8%a9-%d8%ad%d8%a7%d8%b1-%d9%88-%d8%a8%d8%a7%d8%b1/',\n",
       " 'https://alassly.com/product/%d9%8a%d9%88%d8%ac%d9%8a%d9%86-%d8%a8%d9%84%d8%a7%d8%b2%d9%85%d8%a7-%d8%b3%d8%a8%d9%8a%d9%84%d8%aa-30000-%d9%88%d8%ad%d8%af%d8%a9-%d8%a8%d8%a7%d8%b1%d8%af/',\n",
       " 'https://alassly.com/product/%d9%85%d9%83%d9%8a%d9%81-%d8%b3%d8%a8%d9%84%d9%8a%d8%aa-%d9%8a%d9%88%d8%ac%d9%8a%d9%86-%d8%a8%d9%84%d8%a7%d8%b2%d9%85%d8%a7-30000-%d9%88%d8%ad%d8%af%d8%a9-%d8%ad%d8%a7%d8%b1-%d9%88-%d8%a8%d8%a7%d8%b1/',\n",
       " 'https://alassly.com/product/%d9%85%d9%83%d9%8a%d9%81-%d8%b3%d8%a8%d9%84%d9%8a%d8%aa-%d9%8a%d9%88%d8%ac%d9%8a%d9%86-%d8%a8%d9%84%d8%a7%d8%b2%d9%85%d8%a7-36000-%d9%88%d8%ad%d8%af%d8%a9-%d8%a8%d8%a7%d8%b1%d8%af/',\n",
       " 'https://alassly.com/product/%d9%85%d9%83%d9%8a%d9%81-%d8%b3%d8%a8%d9%84%d9%8a%d8%aa-%d9%8a%d9%88%d8%ac%d9%8a%d9%86-%d8%a8%d9%84%d8%a7%d8%b2%d9%85%d8%a7-36000-%d9%88%d8%ad%d8%af%d8%a9-%d8%ad%d8%a7%d8%b1-%d9%88-%d8%a8%d8%a7%d8%b1/',\n",
       " 'https://alassly.com/product/%d9%85%d9%83%d9%8a%d9%81-%d8%b3%d8%a8%d9%84%d9%8a%d8%aa-%d9%8a%d9%88%d8%ac%d9%8a%d9%86-%d8%b3%d9%88%d8%a8%d8%b1-18000-%d9%88%d8%ad%d8%af%d8%a9-%d8%a8%d8%a7%d8%b1%d8%af/',\n",
       " 'https://alassly.com/product/%d9%85%d9%83%d9%8a%d9%81-%d8%b3%d8%a8%d9%84%d9%8a%d8%aa-%d9%8a%d9%88%d8%ac%d9%8a%d9%86-%d8%b3%d9%88%d8%a8%d8%b1-18000-%d9%88%d8%ad%d8%af%d8%a9-%d8%ad%d8%a7%d8%b1-%d9%88-%d8%a8%d8%a7%d8%b1%d8%af/',\n",
       " 'https://alassly.com/product/%d9%85%d9%83%d9%8a%d9%81-%d8%b3%d8%a8%d9%84%d9%8a%d8%aa-%d9%8a%d9%88%d8%ac%d9%8a%d9%86-%d8%b3%d9%88%d8%a8%d8%b1-24000-%d9%88%d8%ad%d8%af%d8%a9-%d8%a8%d8%a7%d8%b1%d8%af/',\n",
       " 'https://alassly.com/product/%d9%85%d9%83%d9%8a%d9%81-%d8%b3%d8%a8%d9%84%d9%8a%d8%aa-%d9%8a%d9%88%d8%ac%d9%8a%d9%86-%d8%b3%d9%88%d8%a8%d8%b1-24000-%d9%88%d8%ad%d8%af%d8%a9-%d8%ad%d8%a7%d8%b1-%d9%88-%d8%a8%d8%a7%d8%b1%d8%af/',\n",
       " 'https://alassly.com/product/%d9%85%d9%83%d9%8a%d9%81-%d8%b3%d8%a8%d9%84%d9%8a%d8%aa-%d9%8a%d9%88%d8%ac%d9%8a%d9%86-%d8%b3%d9%88%d8%a8%d8%b1-30000-%d9%88%d8%ad%d8%af%d8%a9-%d8%a8%d8%a7%d8%b1%d8%af/',\n",
       " 'https://alassly.com/product/%d9%85%d9%83%d9%8a%d9%81-%d8%b3%d8%a8%d9%84%d9%8a%d8%aa-%d9%8a%d9%88%d8%ac%d9%8a%d9%86-%d8%b3%d9%88%d8%a8%d8%b1-30000-%d9%88%d8%ad%d8%af%d8%a9-%d8%ad%d8%a7%d8%b1-%d9%88-%d8%a8%d8%a7%d8%b1%d8%af/',\n",
       " 'https://alassly.com/product/%d9%85%d9%83%d9%8a%d9%81-%d8%b3%d8%a8%d9%84%d9%8a%d8%aa-%d9%8a%d9%88%d8%ac%d9%8a%d9%86-%d8%b3%d9%88%d8%a8%d8%b1-36000-%d9%88%d8%ad%d8%af%d8%a9-%d8%ad%d8%a7%d8%b1-%d9%88-%d8%a8%d8%a7%d8%b1%d8%af/']"
      ]
     },
     "execution_count": 15,
     "metadata": {},
     "output_type": "execute_result"
    }
   ],
   "source": [
    "list_urls"
   ]
  },
  {
   "cell_type": "markdown",
   "id": "060774c4",
   "metadata": {},
   "source": [
    "# Create elements"
   ]
  },
  {
   "cell_type": "code",
   "execution_count": null,
   "id": "440b801c",
   "metadata": {},
   "outputs": [],
   "source": [
    "sku , name , price , special_price, images, description, short description, categories,"
   ]
  },
  {
   "cell_type": "code",
   "execution_count": null,
   "id": "6c042e21",
   "metadata": {},
   "outputs": [],
   "source": [
    "    r = requests.get(f'https://alassly.com/shop/page/{i}/?filter_%D8%A7%D9%84%D8%AA%D8%AC%D8%A7%D8%B1%D9%8A%D8%A9=%D9%8A%D9%88%D8%AC%D9%8A%D9%86&query_type_%D8%A7%D9%84%D8%AA%D8%AC%D8%A7%D8%B1%D9%8A%D8%A9=or')\n",
    "    soup = BeautifulSoup(r.text, 'html.parser')"
   ]
  },
  {
   "cell_type": "code",
   "execution_count": null,
   "id": "97b73ef2",
   "metadata": {},
   "outputs": [],
   "source": []
  },
  {
   "cell_type": "code",
   "execution_count": null,
   "id": "d26755d4",
   "metadata": {},
   "outputs": [],
   "source": []
  },
  {
   "cell_type": "code",
   "execution_count": null,
   "id": "6640cb7d",
   "metadata": {},
   "outputs": [],
   "source": []
  },
  {
   "cell_type": "code",
   "execution_count": null,
   "id": "9ddef47b",
   "metadata": {},
   "outputs": [],
   "source": []
  },
  {
   "cell_type": "markdown",
   "id": "3a1f4268",
   "metadata": {},
   "source": [
    "# Debut de la fonction"
   ]
  },
  {
   "cell_type": "code",
   "execution_count": 97,
   "id": "14f4125f",
   "metadata": {
    "scrolled": true
   },
   "outputs": [
    {
     "name": "stdout",
     "output_type": "stream",
     "text": [
      "Count: 0\n",
      "URL: https://www.amazon.sa/%D8%B3%D9%88%D8%A8%D8%B1-%D8%AC%D9%8A%D9%86%D9%8A%D8%B1%D8%A7%D9%84-KSGL1171-%D9%85%D9%88%D8%B2%D8%B9-%D8%AC%D9%86%D8%B1%D8%A7%D9%84/dp/B08DBBDT6S/ref=lp_22576114031_1_1?dchild=1\n",
      "Title: موزع مياه سوبر جنرال\n",
      "Price: 355.00\n",
      "\n",
      "Sku: ‎KSGL1171\n",
      "Count: 1\n",
      "URL: https://www.amazon.sa/%D8%B3%D9%88%D8%A8%D8%B1-%D8%AC%D9%8A%D9%86%D9%8A%D8%B1%D8%A7%D9%84-KSGK219GD-%D8%BA%D9%84%D8%A7%D9%8A%D8%A9-%D8%B2%D8%AC%D8%A7%D8%AC%D9%8A%D8%A9/dp/B08DB9VRR4/ref=lp_22576114031_1_2?dchild=1\n",
      "Title: غلاية زجاجية\n",
      "Price: 67.00\n",
      "لوح تسخين SUS304.حلقة ضوء ليد على الجزء السفليهيكل زجاجي شفافخاصية الحماية من الغليان حتى جفاف الماء\n",
      "Sku: ‎KSGK219GD\n",
      "Count: 2\n",
      "URL: https://www.amazon.sa/%D8%B5%D8%A7%D9%86%D8%B9%D8%A9-%D8%A7%D9%84%D8%B3%D8%A7%D9%86%D8%AF%D9%88%D8%AA%D8%B4%D8%A7%D8%AA-%D8%B3%D9%88%D8%A8%D8%B1-%D8%AC%D9%86%D8%B1%D8%A7%D9%84%D8%8C-KSGSM23G/dp/B08DB9J5WS/ref=lp_22576114031_1_3?dchild=1\n",
      "Title: صانعة الساندوتشات من سوبر جنرال، لون ابيض- KSGSM23G\n",
      "Price: 52.00\n",
      "هيكل بخاصية اللمس الخارجي البارد\n",
      "Sku: ‎KSGSM23G\n",
      "Count: 3\n",
      "URL: https://www.amazon.sa/%D8%B3%D9%88%D8%A8%D8%B1-%D8%AC%D9%8A%D9%86%D9%8A%D8%B1%D8%A7%D9%84-KSGHB196P-%D8%AE%D9%84%D8%A7%D8%B7-%D9%8A%D8%AF%D9%88%D9%8A/dp/B08DB9FGTX/ref=lp_22576114031_1_4?dchild=1\n",
      "Title: خلاط يدوي\n",
      "Price: 107.00\n",
      "تنظيم سرعة الخطوات\n",
      "Sku: ‎KSGHB196P\n",
      "Count: 4\n",
      "URL: https://www.amazon.sa/%D8%B3%D9%88%D8%A8%D8%B1-%D8%AC%D9%8A%D9%86%D9%8A%D8%B1%D8%A7%D9%84-KSGCH13D-%D9%85%D9%8A%D9%86%D9%8A-%D8%B4%D9%88%D8%A8%D8%B1/dp/B08DB9XTYJ/ref=lp_22576114031_1_5?dchild=1\n",
      "Title: ميني شوبر\n",
      "Price: 72.40\n",
      "\n",
      "Sku: ‎KSGCH13D\n",
      "Count: 5\n",
      "URL: https://www.amazon.sa/%D8%B3%D9%88%D8%A8%D8%B1-%D8%AC%D9%8A%D9%86%D9%8A%D8%B1%D8%A7%D9%84-KSGHB195SDS-%D8%AE%D9%84%D8%A7%D8%B7-%D9%8A%D8%AF%D9%88%D9%8A/dp/B08DBB743V/ref=lp_22576114031_1_6?dchild=1\n",
      "Title: خلاط يدوي\n",
      "Price: 74.90\n",
      "\n",
      "Sku: ‎KSGHB195SDS\n",
      "Count: 6\n",
      "URL: https://www.amazon.sa/%D9%83%D9%87%D8%B1%D8%A8%D8%A7%D8%A6%D9%8A-%D8%B3%D9%88%D8%A8%D8%B1-%D8%AC%D9%86%D8%B1%D8%A7%D9%84-%D8%A7%D9%84%D9%83%D8%AA%D8%B1%D9%8A%D9%83%D8%8C-KSGEO46TRC/dp/B08DBB1HJ7/ref=lp_22576114031_1_7?dchild=1\n",
      "Title: فرن كهربائي من سوبر جنرال الكتريك، اسود، KSGEO46TRC\n",
      "Price: 273.76\n",
      "باب بزجاج مزدوجيعمل بتقنية الحث4 قواعد للتسخين من الستاليس ستيلالتحكم في درجة الحرارةمؤَقِت 60 دقيقة\n",
      "Sku: ‎KSGEO46TRC\n",
      "Count: 7\n",
      "URL: https://www.amazon.sa/%D9%85%D9%83%D9%86%D8%B3%D8%A9-%D9%83%D9%87%D8%B1%D8%A8%D8%A7%D8%A6%D9%8A%D8%A9-%D8%B3%D9%88%D8%A8%D8%B1-%D8%AC%D9%86%D8%B1%D8%A7%D9%84-KSGVC2001WD/dp/B08MDTVGJ9/ref=lp_22576114031_1_8?dchild=1\n",
      "Title: مكنسة كهربائية من سوبر جنرال/ سعة 21 لتر/ عجلات دوارة 360 درجة/ لون اسود / طراز KSGVC2001WD\n",
      "Price: 249.00\n",
      "سعة غبار كبيرة 21 لترهيكل من الحديد المقاوم للصدأعجلات دوارة 360 درجة سهلة الحركةمقبض مصمم لسهولة التنظيف\n",
      "Sku: ‎KSGVC2001WD\n",
      "Count: 8\n",
      "URL: https://www.amazon.sa/%D8%BA%D8%B3%D8%A7%D9%84%D8%A9-%D8%A7%D9%88%D8%AA%D9%88%D9%85%D8%A7%D8%AA%D9%8A%D9%83-%D8%A8%D8%AD%D9%88%D8%B6%D9%8A%D9%86-%D8%B3%D9%88%D8%A8%D8%B1-KSGW96%D8%8C/dp/B098FCTF4Y/ref=lp_22576114031_1_9?dchild=1\n",
      "Title: غسالة نصف اوتوماتيك سعة 9 كغم بحوضين من سوبر جنرال KSGW96، ابيض\n",
      "Price: 688.16\n",
      "جسم بلاستيكي مقاوم للصدأمجهزة بفلتر للوبرغطاء شفافحوض غسيل كبير / حوض تجفيفتُوفر الطاقة وتُوفر في استهلاك المياه\n",
      "Sku: ‎KSGW96\n",
      "Count: 9\n",
      "URL: https://www.amazon.sa/%D9%81%D8%B1%D9%86-%D9%85%D9%8A%D9%83%D8%B1%D9%88%D9%8A%D9%81-%D8%A8%D8%B3%D8%B9%D8%A9-30-%D9%84%D8%AA%D8%B1/dp/B08DBBF1TZ/ref=lp_22576114031_1_10?dchild=1\n",
      "Title: فرن ميكرويف بسعة 30 لتر\n",
      "Price: 412.39\n",
      "لوحة تحكم بشاشة عرض ليد5 مستويات للطاقة مع خاصية إذابة الجليد8 قوائم تلقائيةتصميم عاكسقفل أمان للأطفال\n",
      "Sku: ‎KSGMM930G\n",
      "Count: 10\n",
      "URL: https://www.amazon.sa/%D9%81%D8%B1%D9%86-%D9%85%D9%8A%D9%83%D8%B1%D9%88%D9%8A%D9%81-%D8%A8%D8%B3%D8%B9%D8%A9-42-%D9%84%D8%AA%D8%B1/dp/B08DBBQ21G/ref=lp_22576114031_1_11?dchild=1\n",
      "Title: فرن ميكرويف بسعة 42 لتر\n",
      "Price: 495.00\n",
      "لوحة تحكم بشاشة عرض ليد11 مستوى للطاقة مع خاصية إذابة الثلج7 قوائم تلقائيةقفل أمان للأطفال\n",
      "Sku: ‎KSGMM942G\n",
      "Count: 11\n",
      "URL: https://www.amazon.sa/%D8%B3%D9%88%D8%A8%D8%B1-%D8%AC%D9%8A%D9%86%D9%8A%D8%B1%D8%A7%D9%84-KSGBG40D-%D8%AE%D9%84%D8%A7%D8%B7-%D9%82%D8%A7%D8%A6%D9%85/dp/B08DB8GM1P/ref=lp_22576114031_1_12?dchild=1\n",
      "Title: خلاط قائم\n",
      "Price: 90.00\n",
      "\n",
      "Sku: ‎KSGBG40D\n"
     ]
    }
   ],
   "source": [
    "def return_ele(ele, details):\n",
    "    for tt in details:\n",
    "        if ele in tt.text:\n",
    "            return tt.text.replace(ele, '').strip()\n",
    "now = datetime.now()\n",
    "dt_string = now.strftime(\"%d-%m-%Y-%H-%M-%S\")\n",
    "count = 0\n",
    "list_images = [] \n",
    "\n",
    "display_bool = False\n",
    "headers = {\n",
    "'User-Agent': 'Mozilla/5.0 (Macintosh; Intel Mac OS X 10_12_6) AppleWebKit/537.36 (KHTML, like Gecko) Chrome/74.0.3729.169 Safari/537.36', \n",
    "'Accept-Encoding': 'gzip, deflate', \n",
    "'Accept': 'text/html,application/xhtml+xml,application/xml;q=0.9,/;q=0.8', \n",
    "'Connection': 'keep-alive', \n",
    "'Accept-Language': 'en-US,en;q=0.5', \n",
    "'Upgrade-Insecure-Requests': '1', \n",
    "'Pragma': 'no-cache', \n",
    "'Cache-Control': 'no-cache'\n",
    "}\n",
    "\n",
    "#**********************************************************************\n",
    "#**********************************************************************\n",
    "#**********************************************************************\n",
    "#**********************************************************************\n",
    "#**********************************************************************\n",
    "#ForLoop main\n",
    "df = pd.read_excel('amazon_model.xlsx')\n",
    "for i, url in enumerate(url_product):\n",
    "\n",
    "    print('Count:', i)\n",
    "    print('URL:', url)\n",
    "\n",
    "    r = requests.get(url, headers=headers)\n",
    "    soup = BeautifulSoup(r.text, 'html.parser')\n",
    "\n",
    "    sku = 'NONE'\n",
    "    name = soup.find('span', {'id': 'productTitle'}).text.strip()\n",
    "    brand = soup.find('a', {'id': 'bylineInfo'}).text.replace('العلامة التجارية:', '').strip()\n",
    "    price = soup.find('tr', {'id': 'priceblock_ourprice_row'}).text.replace('السعر:', '').replace('ريال', '').strip()\n",
    "    description = soup.find('div', {'id': 'feature-bullets'}).find_all('li')\n",
    "    \n",
    "    images = soup.find('img', {'id': 'landingImage'})['data-a-dynamic-image']\n",
    "    image = 'https:'+ images.split(',')[0].split(':')[1].replace('\"', '')\n",
    "    details = soup.find('table', {'id': 'productDetails_techSpec_section_1'}).find_all('tr')\n",
    "    \n",
    "    mgs_brand = return_ele('العلامة التجارية', details)\n",
    "    dim = return_ele('أبعاد', details)\n",
    "    raw_material = return_ele('المادة', details)\n",
    "    free_colors = return_ele('اللون', details)\n",
    "    sku = return_ele('الموديل', details)\n",
    "    sku = sku.replace('معلومات', '').replace('رقم', '').strip()\n",
    "#     for dim in dimension:\n",
    "#         if 'أبعاد الشحنة' in dim.text.strip():\n",
    "#             dim = dim.text.replace('أبعاد الشحنة', '').replace(':', '').replace('\\n', '').strip()\n",
    "#             print('------')\n",
    "#         else:\n",
    "#             dim = ''\n",
    "    cats = soup.find('div', {'id': 'wayfinding-breadcrumbs_feature_div'}).find_all('span', {'class': 'a-list-item'})\n",
    "    try:\n",
    "        cat1 = cats[0].text.strip()\n",
    "    except:\n",
    "        cat1 = ''\n",
    "    try:\n",
    "        cat2 = cats[2].text.strip()\n",
    "    except:\n",
    "        cat2 = ''\n",
    "    try:\n",
    "        cat3 = cats[4].text.strip()\n",
    "    except:\n",
    "        cat3 = ''\n",
    "    desc = ''\n",
    "    for toto in description[1:]:\n",
    "    #     print(toto.text)\n",
    "        desc += toto.text.replace('\\n', '').strip()\n",
    "\n",
    "\n",
    "#************************************************************************** \n",
    "    print('Title:', name)\n",
    "    print('Price:', price)\n",
    "\n",
    "#     print('Size:',Dimensions)\n",
    "    print(desc)\n",
    "    print('Sku:',sku)\n",
    "\n",
    "\n",
    "\n",
    "#         list_input_images2.append(t)\n",
    "#*******************************************************\n",
    "    two_month = datetime.now() + timedelta(days=60)\n",
    "    two_month = two_month.strftime(\"%m/%d/%Y\")\n",
    "    today = datetime.today().strftime(\"%m/%d/%Y\")\n",
    "\n",
    "#*******************************************************\n",
    "\n",
    "#     url_key = f'{sku} {title}'\n",
    "\n",
    "#     url_key = url_key.replace(',', '-').replace('*', '-').replace('،', '-')\n",
    "\n",
    "\n",
    "    series = pd.Series([sku,\n",
    "                         1,\n",
    "                         name,\n",
    "                         price,\n",
    "                         '',#special_price,\n",
    "                        '',#short_description,\n",
    "                         free_colors,#colors,\n",
    "                        raw_material, \n",
    "                        desc,\n",
    "                         dim,#width,\n",
    "                         '',#height,\n",
    "                         '',#length,\n",
    "                         brand,\n",
    "                         image,\n",
    "                         '',#url_key,\n",
    "                         'Catalog, Search',\n",
    "                         'Taxable Goods',\n",
    "                         'مستوردة',\n",
    "                         today,\n",
    "                         two_month,\n",
    "                         '',#timage,\n",
    "                         url,#link_url,\n",
    "                         cat1,#category1,\n",
    "                         cat2,#category2,\n",
    "                         cat3,#category3,\n",
    "\n",
    "                        ],  index=df.columns)\n",
    "    #df.append(df1)\n",
    "    df = df.append(series, ignore_index=True)\n",
    "    df.to_excel( f'amazon_test.xlsx', index = False)\n"
   ]
  },
  {
   "cell_type": "markdown",
   "id": "b7d8d492",
   "metadata": {},
   "source": [
    "# Fin de la fonction"
   ]
  },
  {
   "cell_type": "code",
   "execution_count": null,
   "id": "7f8d32b9",
   "metadata": {},
   "outputs": [],
   "source": [
    "len(links_products)"
   ]
  },
  {
   "cell_type": "code",
   "execution_count": 26,
   "id": "8827de37",
   "metadata": {},
   "outputs": [],
   "source": [
    "driver.get('https://www.alrugaibfurniture.com/ar/collections/accessories')"
   ]
  },
  {
   "cell_type": "code",
   "execution_count": 31,
   "id": "198e1184",
   "metadata": {},
   "outputs": [
    {
     "data": {
      "text/plain": [
       "40"
      ]
     },
     "execution_count": 31,
     "metadata": {},
     "output_type": "execute_result"
    }
   ],
   "source": [
    "price = driver.find_elements_by_class_name('money')\n",
    "len(price)"
   ]
  },
  {
   "cell_type": "code",
   "execution_count": 41,
   "id": "278bdcb2",
   "metadata": {},
   "outputs": [
    {
     "name": "stdout",
     "output_type": "stream",
     "text": [
      "price: 330\n",
      "special_price: \n"
     ]
    }
   ],
   "source": [
    "pric = driver.find_elements_by_xpath('//div[@class=\"price-list\"]//span')\n",
    "len(pric)\n",
    "if len(pric)==4:\n",
    "    price = pric[2].text.replace('SR', '').replace('SAR', '').strip()\n",
    "    print('price:', price)\n",
    "    special_price = pric[0].text.replace('SR', '').replace('SAR', '').strip()\n",
    "    print('special_price:', special_price)\n",
    "elif len(pric) == 2:\n",
    "    price = pric[0].text.replace('SR', '').replace('SAR', '').strip()\n",
    "    print('price:', price)\n",
    "    special_price = ''\n",
    "    print('special_price:', special_price)"
   ]
  },
  {
   "cell_type": "code",
   "execution_count": 37,
   "id": "e81c6433",
   "metadata": {},
   "outputs": [
    {
     "name": "stdout",
     "output_type": "stream",
     "text": [
      "SR 4,495\n",
      "SR 4,495\n",
      "SR 6,097\n",
      "SR 6,097\n"
     ]
    }
   ],
   "source": [
    "for t in pric:\n",
    "    print(t.text)"
   ]
  },
  {
   "cell_type": "code",
   "execution_count": 38,
   "id": "a67501b1",
   "metadata": {},
   "outputs": [
    {
     "name": "stdout",
     "output_type": "stream",
     "text": [
      "toto\n"
     ]
    }
   ],
   "source": [
    "if len(pric)==4:\n",
    "    price"
   ]
  },
  {
   "cell_type": "code",
   "execution_count": null,
   "id": "180e334a",
   "metadata": {},
   "outputs": [],
   "source": []
  },
  {
   "cell_type": "code",
   "execution_count": null,
   "id": "3165d274",
   "metadata": {},
   "outputs": [],
   "source": []
  },
  {
   "cell_type": "markdown",
   "id": "e6608b45",
   "metadata": {},
   "source": [
    "# scrape images"
   ]
  },
  {
   "cell_type": "code",
   "execution_count": 5,
   "id": "aa518dea",
   "metadata": {},
   "outputs": [],
   "source": [
    "list_scrape1 = df['link_url'].to_list()"
   ]
  },
  {
   "cell_type": "code",
   "execution_count": 4,
   "id": "36774c43",
   "metadata": {},
   "outputs": [],
   "source": [
    "df =  pd.read_excel('/home/wafistos/Documents/Projects/scaping_wafi/scrapingalrugaibfurniture/sub_categories/Rugaid_update_06_08_2021v2.xlsx')"
   ]
  },
  {
   "cell_type": "code",
   "execution_count": 5,
   "id": "2e5ebc1d",
   "metadata": {},
   "outputs": [],
   "source": [
    "list_scrape1 = df['link_url'].to_list()"
   ]
  },
  {
   "cell_type": "code",
   "execution_count": null,
   "id": "cc1a9ff8",
   "metadata": {},
   "outputs": [],
   "source": []
  },
  {
   "cell_type": "code",
   "execution_count": 16,
   "id": "cb2fa4ad",
   "metadata": {},
   "outputs": [
    {
     "name": "stdout",
     "output_type": "stream",
     "text": [
      "*****************************************\n",
      "Count 0\n",
      "len list images 0\n",
      "\n",
      "images2- \n",
      "len list images 0\n",
      "\n",
      "images2- \n"
     ]
    },
    {
     "ename": "IndexError",
     "evalue": "list index out of range",
     "output_type": "error",
     "traceback": [
      "\u001b[0;31m---------------------------------------------------------------------------\u001b[0m",
      "\u001b[0;31mIndexError\u001b[0m                                Traceback (most recent call last)",
      "\u001b[0;32m<ipython-input-16-7da8b1b20cf2>\u001b[0m in \u001b[0;36m<module>\u001b[0;34m\u001b[0m\n\u001b[1;32m     47\u001b[0m     \u001b[0;32mtry\u001b[0m\u001b[0;34m:\u001b[0m\u001b[0;34m\u001b[0m\u001b[0;34m\u001b[0m\u001b[0m\n\u001b[0;32m---> 48\u001b[0;31m         \u001b[0mimage1\u001b[0m\u001b[0;34m,\u001b[0m \u001b[0mimage2\u001b[0m \u001b[0;34m=\u001b[0m \u001b[0mscrape_images\u001b[0m\u001b[0;34m(\u001b[0m\u001b[0;34m)\u001b[0m\u001b[0;34m\u001b[0m\u001b[0;34m\u001b[0m\u001b[0m\n\u001b[0m\u001b[1;32m     49\u001b[0m     \u001b[0;32mexcept\u001b[0m\u001b[0;34m:\u001b[0m\u001b[0;34m\u001b[0m\u001b[0;34m\u001b[0m\u001b[0m\n",
      "\u001b[0;32m<ipython-input-16-7da8b1b20cf2>\u001b[0m in \u001b[0;36mscrape_images\u001b[0;34m()\u001b[0m\n\u001b[1;32m     35\u001b[0m     \u001b[0mprint\u001b[0m\u001b[0;34m(\u001b[0m\u001b[0;34m'images2-'\u001b[0m\u001b[0;34m,\u001b[0m \u001b[0mtimage\u001b[0m\u001b[0;34m)\u001b[0m\u001b[0;34m\u001b[0m\u001b[0;34m\u001b[0m\u001b[0m\n\u001b[0;32m---> 36\u001b[0;31m     \u001b[0mimage1\u001b[0m \u001b[0;34m=\u001b[0m \u001b[0mlist_images\u001b[0m\u001b[0;34m[\u001b[0m\u001b[0;36m0\u001b[0m\u001b[0;34m]\u001b[0m\u001b[0;34m\u001b[0m\u001b[0;34m\u001b[0m\u001b[0m\n\u001b[0m\u001b[1;32m     37\u001b[0m     \u001b[0mimage2\u001b[0m \u001b[0;34m=\u001b[0m \u001b[0mtimage\u001b[0m\u001b[0;34m\u001b[0m\u001b[0;34m\u001b[0m\u001b[0m\n",
      "\u001b[0;31mIndexError\u001b[0m: list index out of range",
      "\nDuring handling of the above exception, another exception occurred:\n",
      "\u001b[0;31mIndexError\u001b[0m                                Traceback (most recent call last)",
      "\u001b[0;32m<ipython-input-16-7da8b1b20cf2>\u001b[0m in \u001b[0;36m<module>\u001b[0;34m\u001b[0m\n\u001b[1;32m     49\u001b[0m     \u001b[0;32mexcept\u001b[0m\u001b[0;34m:\u001b[0m\u001b[0;34m\u001b[0m\u001b[0;34m\u001b[0m\u001b[0m\n\u001b[1;32m     50\u001b[0m         \u001b[0mdriver\u001b[0m\u001b[0;34m.\u001b[0m\u001b[0mget\u001b[0m\u001b[0;34m(\u001b[0m\u001b[0mtoto\u001b[0m\u001b[0;34m)\u001b[0m\u001b[0;34m\u001b[0m\u001b[0;34m\u001b[0m\u001b[0m\n\u001b[0;32m---> 51\u001b[0;31m         \u001b[0mimage1\u001b[0m\u001b[0;34m,\u001b[0m \u001b[0mimage2\u001b[0m \u001b[0;34m=\u001b[0m \u001b[0mscrape_images\u001b[0m\u001b[0;34m(\u001b[0m\u001b[0;34m)\u001b[0m\u001b[0;34m\u001b[0m\u001b[0;34m\u001b[0m\u001b[0m\n\u001b[0m\u001b[1;32m     52\u001b[0m \u001b[0;34m\u001b[0m\u001b[0m\n\u001b[1;32m     53\u001b[0m \u001b[0;34m\u001b[0m\u001b[0m\n",
      "\u001b[0;32m<ipython-input-16-7da8b1b20cf2>\u001b[0m in \u001b[0;36mscrape_images\u001b[0;34m()\u001b[0m\n\u001b[1;32m     34\u001b[0m         \u001b[0mtimage\u001b[0m \u001b[0;34m=\u001b[0m \u001b[0;34m''\u001b[0m\u001b[0;34m\u001b[0m\u001b[0;34m\u001b[0m\u001b[0m\n\u001b[1;32m     35\u001b[0m     \u001b[0mprint\u001b[0m\u001b[0;34m(\u001b[0m\u001b[0;34m'images2-'\u001b[0m\u001b[0;34m,\u001b[0m \u001b[0mtimage\u001b[0m\u001b[0;34m)\u001b[0m\u001b[0;34m\u001b[0m\u001b[0;34m\u001b[0m\u001b[0m\n\u001b[0;32m---> 36\u001b[0;31m     \u001b[0mimage1\u001b[0m \u001b[0;34m=\u001b[0m \u001b[0mlist_images\u001b[0m\u001b[0;34m[\u001b[0m\u001b[0;36m0\u001b[0m\u001b[0;34m]\u001b[0m\u001b[0;34m\u001b[0m\u001b[0;34m\u001b[0m\u001b[0m\n\u001b[0m\u001b[1;32m     37\u001b[0m     \u001b[0mimage2\u001b[0m \u001b[0;34m=\u001b[0m \u001b[0mtimage\u001b[0m\u001b[0;34m\u001b[0m\u001b[0;34m\u001b[0m\u001b[0m\n\u001b[1;32m     38\u001b[0m     \u001b[0;32mreturn\u001b[0m \u001b[0mimage1\u001b[0m\u001b[0;34m,\u001b[0m \u001b[0mimage2\u001b[0m\u001b[0;34m\u001b[0m\u001b[0;34m\u001b[0m\u001b[0m\n",
      "\u001b[0;31mIndexError\u001b[0m: list index out of range"
     ]
    }
   ],
   "source": [
    "df_images1 = pd.read_excel('model_images1.xlsx')\n",
    "toto_images = []\n",
    "\n",
    "def scrape_images():\n",
    "    list_images = []\n",
    "    images_click = driver.find_elements_by_class_name('product-gallery__thumbnail')\n",
    "\n",
    "\n",
    "    for ele in images_click:\n",
    "        #ele.click()\n",
    "        driver.execute_script(\"arguments[0].click();\", ele)\n",
    "        time.sleep(0.5)\n",
    "    images = driver.find_elements_by_class_name('product-gallery__image')\n",
    "    len(images)\n",
    "    for img in images:\n",
    "        #list_images.append('https:'+img.get_attribute('data-srcset').split(' ')[0])\n",
    "    #     print(':', img.get_attribute('srcset').split(', ')[0].split('?')[0])\n",
    "        time.sleep(1)\n",
    "        try:\n",
    "            t = 'https:'+img.get_attribute('data-srcset').split(', ')[0].split('?')[0]\n",
    "        except:\n",
    "            continue\n",
    "    #     print(img.get_attribute('data-srcset'))\n",
    "    #     soup = BeautifulSoup(img.get_attribute('innerHTML'), 'html.parser')\n",
    "    #     print('toto',soup)\n",
    "        print(t)\n",
    "        list_images.append(t)\n",
    "    print('len list images',len(list_images))\n",
    "    try:\n",
    "        timage = ','.join(list_images[1:])\n",
    "    #         list_input_images2.append(timage)\n",
    "        print(timage)\n",
    "    except:\n",
    "        timage = ''\n",
    "    print('images2-', timage)\n",
    "    image1 = list_images[0]\n",
    "    image2 = timage\n",
    "    return image1, image2\n",
    "for i, toto in enumerate(list_scrape1[741:]):\n",
    "    print('*****************************************')\n",
    "    print('Count', i)\n",
    "    url = ''\n",
    "\n",
    "    driver.get(toto)\n",
    "    \n",
    "    time.sleep(2)\n",
    "    try:\n",
    "        image1, image2 = scrape_images()\n",
    "    except:\n",
    "        driver.get(toto)\n",
    "        image1, image2 = scrape_images()\n",
    "        \n",
    "    \n",
    "    url = toto\n",
    "    series = pd.Series([url, image1, image2],  index=df_images1.columns)\n",
    "    \n",
    "    df_images1 = df_images1.append(series, ignore_index=True)\n",
    "    df_images1.to_excel( f'update_rugaid_images4.xlsx', index = False)"
   ]
  },
  {
   "cell_type": "code",
   "execution_count": 20,
   "id": "c551a079",
   "metadata": {},
   "outputs": [
    {
     "data": {
      "text/html": [
       "<div>\n",
       "<style scoped>\n",
       "    .dataframe tbody tr th:only-of-type {\n",
       "        vertical-align: middle;\n",
       "    }\n",
       "\n",
       "    .dataframe tbody tr th {\n",
       "        vertical-align: top;\n",
       "    }\n",
       "\n",
       "    .dataframe thead th {\n",
       "        text-align: right;\n",
       "    }\n",
       "</style>\n",
       "<table border=\"1\" class=\"dataframe\">\n",
       "  <thead>\n",
       "    <tr style=\"text-align: right;\">\n",
       "      <th></th>\n",
       "      <th>url</th>\n",
       "      <th>images1</th>\n",
       "      <th>image2</th>\n",
       "    </tr>\n",
       "  </thead>\n",
       "  <tbody>\n",
       "  </tbody>\n",
       "</table>\n",
       "</div>"
      ],
      "text/plain": [
       "Empty DataFrame\n",
       "Columns: [url, images1, image2]\n",
       "Index: []"
      ]
     },
     "execution_count": 20,
     "metadata": {},
     "output_type": "execute_result"
    }
   ],
   "source": [
    "df_images1"
   ]
  },
  {
   "cell_type": "code",
   "execution_count": 11,
   "id": "a320f002",
   "metadata": {},
   "outputs": [
    {
     "ename": "IndexError",
     "evalue": "list index out of range",
     "output_type": "error",
     "traceback": [
      "\u001b[0;31m---------------------------------------------------------------------------\u001b[0m",
      "\u001b[0;31mIndexError\u001b[0m                                Traceback (most recent call last)",
      "\u001b[0;32m<ipython-input-11-f1c64f47abcd>\u001b[0m in \u001b[0;36m<module>\u001b[0;34m\u001b[0m\n\u001b[0;32m----> 1\u001b[0;31m \u001b[0mlist_images\u001b[0m\u001b[0;34m[\u001b[0m\u001b[0;36m0\u001b[0m\u001b[0;34m]\u001b[0m\u001b[0;34m\u001b[0m\u001b[0;34m\u001b[0m\u001b[0m\n\u001b[0m",
      "\u001b[0;31mIndexError\u001b[0m: list index out of range"
     ]
    }
   ],
   "source": [
    "list_images[0]"
   ]
  },
  {
   "cell_type": "code",
   "execution_count": 13,
   "id": "ce9a8280",
   "metadata": {},
   "outputs": [],
   "source": [
    "def scrape_images():\n",
    "    list_images = []\n",
    "    images_click = driver.find_elements_by_class_name('product-gallery__thumbnail')\n",
    "\n",
    "\n",
    "    for ele in images_click:\n",
    "        #ele.click()\n",
    "        driver.execute_script(\"arguments[0].click();\", ele)\n",
    "        time.sleep(0.5)\n",
    "    images = driver.find_elements_by_class_name('product-gallery__image')\n",
    "    len(images)\n",
    "    for img in images:\n",
    "        #list_images.append('https:'+img.get_attribute('data-srcset').split(' ')[0])\n",
    "    #     print(':', img.get_attribute('srcset').split(', ')[0].split('?')[0])\n",
    "        time.sleep(1)\n",
    "        try:\n",
    "            t = 'https:'+img.get_attribute('data-srcset').split(', ')[0].split('?')[0]\n",
    "        except:\n",
    "            continue\n",
    "    #     print(img.get_attribute('data-srcset'))\n",
    "    #     soup = BeautifulSoup(img.get_attribute('innerHTML'), 'html.parser')\n",
    "    #     print('toto',soup)\n",
    "        print(t)\n",
    "        list_images.append(t)\n",
    "    print('len list images',len(list_images))\n",
    "    try:\n",
    "        timage = ','.join(list_images[1:])\n",
    "    #         list_input_images2.append(timage)\n",
    "        print(timage)\n",
    "    except:\n",
    "        timage = ''\n",
    "    print('images2-', timage)\n",
    "    image1 = list_images[0]\n",
    "    image2 = timage\n",
    "    return image1, image2"
   ]
  },
  {
   "cell_type": "code",
   "execution_count": 14,
   "id": "802135f2",
   "metadata": {},
   "outputs": [
    {
     "name": "stdout",
     "output_type": "stream",
     "text": [
      "https://cdn.shopify.com/s/files/1/0773/5495/products/ciiktkasisyg3bumavxb_400x.jpg\n",
      "len list images 1\n",
      "\n",
      "images2- \n"
     ]
    },
    {
     "data": {
      "text/plain": [
       "('https://cdn.shopify.com/s/files/1/0773/5495/products/ciiktkasisyg3bumavxb_400x.jpg',\n",
       " '')"
      ]
     },
     "execution_count": 14,
     "metadata": {},
     "output_type": "execute_result"
    }
   ],
   "source": []
  },
  {
   "cell_type": "code",
   "execution_count": null,
   "id": "e9b50a4b",
   "metadata": {},
   "outputs": [],
   "source": []
  },
  {
   "cell_type": "code",
   "execution_count": 64,
   "id": "2e8fd384",
   "metadata": {},
   "outputs": [],
   "source": [
    "def regex_pass(toto):\n",
    "    \n",
    "#     if cas2_regex.search(toto) != None:\n",
    "#         print('regex2')\n",
    "#     if cas3_regex.search(toto) != None:\n",
    "#         print('regex3')\n",
    "#     if cas4_regex.search(toto) != None:\n",
    "#         print('regex4')\n",
    "    if cas5_regex.search(toto) != None:\n",
    "        print('regex5')\n",
    "        return  filter_data_size_regex5(toto)\n",
    "#         print(toto)\n",
    "            \n",
    "    elif cas1_regex.search(toto) != None:\n",
    "        print('regex1')\n",
    "        return  filter_data_size_regex1(toto)\n",
    "        \n",
    "    elif cas7_regex.search(toto) != None:\n",
    "        print('regex7')\n",
    "        return filter_data_size_regex7(toto)\n",
    "    \n",
    "    elif cas21_regex.search(toto) != None:\n",
    "        print('regex21')\n",
    "        return filter_data_size_regex21(toto)\n",
    "        \n",
    "    elif cas8_regex.search(toto) != None:\n",
    "        print('regex8')\n",
    "        return filter_data_size_regex8(toto)\n",
    "        \n",
    "    elif cas9_regex.search(toto) != None:\n",
    "        print('regex9')\n",
    "        return filter_data_size_regex9(toto)\n",
    "    \n",
    "    elif cas10_regex.search(toto) != None:\n",
    "        print('regex10')\n",
    "        return filter_data_size_regex10(toto)\n",
    "        \n",
    "    elif cas11_regex.search(toto) != None:\n",
    "        print('regex11')\n",
    "        return filter_data_size_regex11(toto)\n",
    "    \n",
    "    elif cas12_regex.search(toto) != None:\n",
    "        print('regex12')\n",
    "        return filter_data_size_regex12(toto)\n",
    "    \n",
    "    elif cas13_regex.search(toto) != None:\n",
    "        print('regex13')\n",
    "        return filter_data_size_regex13(toto)\n",
    "        \n",
    "    elif cas14_regex.search(toto) != None:\n",
    "        print('regex14')\n",
    "        return filter_data_size_regex14(toto)\n",
    "    \n",
    "    elif cas15_regex.search(toto) != None:\n",
    "        print('regex15')\n",
    "        return filter_data_size_regex15(toto)\n",
    "    \n",
    "    elif cas16_regex.search(toto) != None:\n",
    "        print('regex16')\n",
    "        return filter_data_size_regex16(toto)\n",
    "        \n",
    "    elif cas17_regex.search(toto) != None:\n",
    "        print('regex17')\n",
    "        height = 0, \n",
    "        length = 0\n",
    "        width = 0\n",
    "\n",
    "        return height, length, width\n",
    "    \n",
    "    elif cas18_regex.search(toto) != None:\n",
    "        print('regex18')\n",
    "        return filter_data_size_regex18(toto)\n",
    "        \n",
    "    elif cas19_regex.search(toto) != None:\n",
    "        print('regex19')\n",
    "        return filter_data_size_regex19(toto)\n",
    "    elif cas20_regex.search(toto) != None:\n",
    "        print('regex20')\n",
    "        return filter_data_size_regex20(toto)\n",
    "    \n",
    "    elif cas22_regex.search(toto) != None:\n",
    "        print('regex22')\n",
    "        return filter_data_size_regex22(toto)\n",
    "    \n",
    "    elif cas23_regex.search(toto) != None:\n",
    "            print('regex19')\n",
    "            return filter_data_size_regex23(toto)\n",
    "        \n",
    "    elif cas24_regex.search(toto) != None:\n",
    "            print('regex19')\n",
    "            return filter_data_size_regex24(toto)"
   ]
  },
  {
   "cell_type": "code",
   "execution_count": 70,
   "id": "d4f92a10",
   "metadata": {},
   "outputs": [],
   "source": [
    "text = 'Inches: 26\" W x 26\" D x 25.88\" H'"
   ]
  },
  {
   "cell_type": "code",
   "execution_count": null,
   "id": "ac485009",
   "metadata": {},
   "outputs": [],
   "source": []
  },
  {
   "cell_type": "code",
   "execution_count": 71,
   "id": "45e85a00",
   "metadata": {},
   "outputs": [
    {
     "name": "stdout",
     "output_type": "stream",
     "text": [
      "regex8\n",
      "['Inches: 26\" W ', ' 26\" D ', ' 25.88\" H']\n",
      "width Inches: 26\" W \n",
      "['Inches:', '26\"', 'W', '']\n",
      "W\n",
      "\n",
      "width 66.04\n",
      "lenght  26\" D \n",
      "['', '26\"', 'D', '']\n",
      "\n",
      "D\n",
      "\n",
      "lenght 66.04\n",
      "hight  25.88\" H\n",
      " 25.88\" H\n",
      "['', '25.88\"', 'H']\n",
      "\n",
      "H\n",
      "hight 65.73519999999999\n",
      "W: 66.04\n",
      "L: 66.04\n",
      "H: 65.73519999999999\n"
     ]
    },
    {
     "data": {
      "text/plain": [
       "(66.04, 66.04, 65.73519999999999)"
      ]
     },
     "execution_count": 71,
     "metadata": {},
     "output_type": "execute_result"
    }
   ],
   "source": [
    "regex_pass(text)"
   ]
  },
  {
   "cell_type": "code",
   "execution_count": null,
   "id": "e4b4e401",
   "metadata": {},
   "outputs": [],
   "source": []
  },
  {
   "cell_type": "code",
   "execution_count": null,
   "id": "c07f4949",
   "metadata": {},
   "outputs": [],
   "source": []
  },
  {
   "cell_type": "code",
   "execution_count": null,
   "id": "f25fa38f",
   "metadata": {},
   "outputs": [],
   "source": []
  },
  {
   "cell_type": "code",
   "execution_count": null,
   "id": "308a95f5",
   "metadata": {},
   "outputs": [],
   "source": []
  },
  {
   "cell_type": "code",
   "execution_count": null,
   "id": "05efcae3",
   "metadata": {},
   "outputs": [],
   "source": []
  },
  {
   "cell_type": "code",
   "execution_count": null,
   "id": "bca03039",
   "metadata": {},
   "outputs": [],
   "source": []
  },
  {
   "cell_type": "code",
   "execution_count": null,
   "id": "89e23c10",
   "metadata": {},
   "outputs": [],
   "source": []
  },
  {
   "cell_type": "code",
   "execution_count": null,
   "id": "9bad641c",
   "metadata": {},
   "outputs": [],
   "source": []
  },
  {
   "cell_type": "code",
   "execution_count": null,
   "id": "178e15c4",
   "metadata": {},
   "outputs": [],
   "source": []
  },
  {
   "cell_type": "code",
   "execution_count": null,
   "id": "a7318dda",
   "metadata": {},
   "outputs": [],
   "source": []
  },
  {
   "cell_type": "code",
   "execution_count": null,
   "id": "692102c3",
   "metadata": {},
   "outputs": [],
   "source": []
  },
  {
   "cell_type": "code",
   "execution_count": null,
   "id": "88c80795",
   "metadata": {},
   "outputs": [],
   "source": []
  },
  {
   "cell_type": "code",
   "execution_count": null,
   "id": "a5ca5ce8",
   "metadata": {},
   "outputs": [],
   "source": []
  },
  {
   "cell_type": "code",
   "execution_count": 197,
   "id": "f666efee",
   "metadata": {},
   "outputs": [
    {
     "data": {
      "text/plain": [
       "372"
      ]
     },
     "execution_count": 197,
     "metadata": {},
     "output_type": "execute_result"
    }
   ],
   "source": [
    "len(toto_images)"
   ]
  },
  {
   "cell_type": "code",
   "execution_count": 15,
   "id": "62dea5c8",
   "metadata": {},
   "outputs": [],
   "source": [
    "col = pd.read_excel('/home/wafistos/Documents/Projects/scaping_wafi/scrapingalrugaibfurniture/sub_categories/model_images.xlsx')"
   ]
  },
  {
   "cell_type": "code",
   "execution_count": 16,
   "id": "42628965",
   "metadata": {},
   "outputs": [
    {
     "data": {
      "text/plain": [
       "Index(['url', 'images1', 'image2'], dtype='object')"
      ]
     },
     "execution_count": 16,
     "metadata": {},
     "output_type": "execute_result"
    }
   ],
   "source": [
    "col.columns"
   ]
  },
  {
   "cell_type": "code",
   "execution_count": 4,
   "id": "bb5ed279",
   "metadata": {},
   "outputs": [],
   "source": [
    "df =  pd.read_excel('/home/wafistos/Documents/Projects/scaping_wafi/scrapingalrugaibfurniture/sub_categories/Rugaid_update_06_08_2021v2.xlsx')"
   ]
  },
  {
   "cell_type": "code",
   "execution_count": 205,
   "id": "083284bd",
   "metadata": {},
   "outputs": [
    {
     "data": {
      "text/plain": [
       "(10459, 37)"
      ]
     },
     "execution_count": 205,
     "metadata": {},
     "output_type": "execute_result"
    }
   ],
   "source": [
    "df.shape"
   ]
  },
  {
   "cell_type": "code",
   "execution_count": 206,
   "id": "30d62e41",
   "metadata": {},
   "outputs": [],
   "source": [
    "df['categories'] = ''"
   ]
  },
  {
   "cell_type": "code",
   "execution_count": null,
   "id": "030cd469",
   "metadata": {},
   "outputs": [],
   "source": []
  },
  {
   "cell_type": "code",
   "execution_count": null,
   "id": "1652aa65",
   "metadata": {},
   "outputs": [],
   "source": []
  },
  {
   "cell_type": "code",
   "execution_count": null,
   "id": "f8eec01f",
   "metadata": {},
   "outputs": [],
   "source": []
  },
  {
   "cell_type": "code",
   "execution_count": null,
   "id": "2f7ad8d1",
   "metadata": {},
   "outputs": [],
   "source": []
  },
  {
   "cell_type": "code",
   "execution_count": 170,
   "id": "4486827d",
   "metadata": {},
   "outputs": [
    {
     "data": {
      "text/html": [
       "<div>\n",
       "<style scoped>\n",
       "    .dataframe tbody tr th:only-of-type {\n",
       "        vertical-align: middle;\n",
       "    }\n",
       "\n",
       "    .dataframe tbody tr th {\n",
       "        vertical-align: top;\n",
       "    }\n",
       "\n",
       "    .dataframe thead th {\n",
       "        text-align: right;\n",
       "    }\n",
       "</style>\n",
       "<table border=\"1\" class=\"dataframe\">\n",
       "  <thead>\n",
       "    <tr style=\"text-align: right;\">\n",
       "      <th></th>\n",
       "      <th>sku</th>\n",
       "      <th>is_in_stock</th>\n",
       "      <th>name</th>\n",
       "      <th>price</th>\n",
       "      <th>special_price</th>\n",
       "      <th>short_description</th>\n",
       "      <th>free_colors</th>\n",
       "      <th>description</th>\n",
       "      <th>ts_dimensions_width</th>\n",
       "      <th>ts_dimensions_height</th>\n",
       "      <th>...</th>\n",
       "      <th>swatch_image</th>\n",
       "      <th>thumbnail_image</th>\n",
       "      <th>attribute_set_code</th>\n",
       "      <th>product_websites</th>\n",
       "      <th>out_of_stock_qty</th>\n",
       "      <th>qty</th>\n",
       "      <th>product_online</th>\n",
       "      <th>mgs_brand</th>\n",
       "      <th>estimated_delivery_text</th>\n",
       "      <th>supplier</th>\n",
       "    </tr>\n",
       "  </thead>\n",
       "  <tbody>\n",
       "  </tbody>\n",
       "</table>\n",
       "<p>0 rows × 37 columns</p>\n",
       "</div>"
      ],
      "text/plain": [
       "Empty DataFrame\n",
       "Columns: [sku, is_in_stock, name, price, special_price, short_description, free_colors, description, ts_dimensions_width, ts_dimensions_height, ts_dimensions_length, collection, base_image, url_key, visibility, tax_class_name, manufacturer, news_from_date, news_to_date, additional_images, link_url, categories1, categories2, categories3, allow_backorders, estimated_delivery_enable, small_image, swatch_image, thumbnail_image, attribute_set_code, product_websites, out_of_stock_qty, qty, product_online, mgs_brand, estimated_delivery_text, supplier]\n",
       "Index: []\n",
       "\n",
       "[0 rows x 37 columns]"
      ]
     },
     "execution_count": 170,
     "metadata": {},
     "output_type": "execute_result"
    }
   ],
   "source": [
    "df"
   ]
  },
  {
   "cell_type": "code",
   "execution_count": 207,
   "id": "39935f80",
   "metadata": {},
   "outputs": [],
   "source": [
    "brand_excel = pd.read_excel('/home/wafistos/Downloads/Rugaib categories and brands.xlsx')"
   ]
  },
  {
   "cell_type": "code",
   "execution_count": 214,
   "id": "b29fe39f",
   "metadata": {},
   "outputs": [
    {
     "data": {
      "text/plain": [
       "(69, 26)"
      ]
     },
     "execution_count": 214,
     "metadata": {},
     "output_type": "execute_result"
    }
   ],
   "source": [
    "brand_excel.shape"
   ]
  },
  {
   "cell_type": "code",
   "execution_count": 211,
   "id": "0b994d90",
   "metadata": {},
   "outputs": [],
   "source": [
    "list_brands_dic = []\n",
    "for index, row in brand_excel.iterrows():\n",
    "    list_brands_dic.append([row['Name of category '], row['Num of category '], row['Discription ']])"
   ]
  },
  {
   "cell_type": "code",
   "execution_count": 244,
   "id": "8dd9de91",
   "metadata": {},
   "outputs": [
    {
     "data": {
      "text/html": [
       "<div>\n",
       "<style scoped>\n",
       "    .dataframe tbody tr th:only-of-type {\n",
       "        vertical-align: middle;\n",
       "    }\n",
       "\n",
       "    .dataframe tbody tr th {\n",
       "        vertical-align: top;\n",
       "    }\n",
       "\n",
       "    .dataframe thead th {\n",
       "        text-align: right;\n",
       "    }\n",
       "</style>\n",
       "<table border=\"1\" class=\"dataframe\">\n",
       "  <thead>\n",
       "    <tr style=\"text-align: right;\">\n",
       "      <th></th>\n",
       "      <th>sku</th>\n",
       "      <th>is_in_stock</th>\n",
       "      <th>name</th>\n",
       "      <th>price</th>\n",
       "      <th>special_price</th>\n",
       "      <th>short_description</th>\n",
       "      <th>free_colors</th>\n",
       "      <th>description</th>\n",
       "      <th>ts_dimensions_width</th>\n",
       "      <th>ts_dimensions_height</th>\n",
       "      <th>...</th>\n",
       "      <th>thumbnail_image</th>\n",
       "      <th>attribute_set_code</th>\n",
       "      <th>product_websites</th>\n",
       "      <th>out_of_stock_qty</th>\n",
       "      <th>qty</th>\n",
       "      <th>product_online</th>\n",
       "      <th>mgs_brand</th>\n",
       "      <th>estimated_delivery_text</th>\n",
       "      <th>supplier</th>\n",
       "      <th>categories</th>\n",
       "    </tr>\n",
       "  </thead>\n",
       "  <tbody>\n",
       "  </tbody>\n",
       "</table>\n",
       "<p>0 rows × 38 columns</p>\n",
       "</div>"
      ],
      "text/plain": [
       "Empty DataFrame\n",
       "Columns: [sku, is_in_stock, name, price, special_price, short_description, free_colors, description, ts_dimensions_width, ts_dimensions_height, ts_dimensions_length, collection, base_image, url_key, visibility, tax_class_name, manufacturer, news_from_date, news_to_date, additional_images, link_url, categories1, categories2, categories3, allow_backorders, estimated_delivery_enable, small_image, swatch_image, thumbnail_image, attribute_set_code, product_websites, out_of_stock_qty, qty, product_online, mgs_brand, estimated_delivery_text, supplier, categories]\n",
       "Index: []\n",
       "\n",
       "[0 rows x 38 columns]"
      ]
     },
     "execution_count": 244,
     "metadata": {},
     "output_type": "execute_result"
    }
   ],
   "source": [
    "df.loc[df['short_description'].isnull()]"
   ]
  },
  {
   "cell_type": "code",
   "execution_count": 248,
   "id": "b8903a88",
   "metadata": {},
   "outputs": [],
   "source": [
    "df_msg = pd.read_excel('/home/wafistos/Downloads/Rugaib categories and brands(1).xlsx')"
   ]
  },
  {
   "cell_type": "code",
   "execution_count": 249,
   "id": "9bc99b6a",
   "metadata": {},
   "outputs": [
    {
     "data": {
      "text/plain": [
       "Index(['collection', 'mgs_brand', 'Unnamed: 2', 'Unnamed: 3', 'Unnamed: 4',\n",
       "       'Unnamed: 5', 'Unnamed: 6', 'Unnamed: 7', 'Unnamed: 8', 'Unnamed: 9',\n",
       "       'Unnamed: 10', 'Unnamed: 11', 'Unnamed: 12', 'Unnamed: 13',\n",
       "       'Unnamed: 14', 'Unnamed: 15', 'Unnamed: 16', 'Unnamed: 17',\n",
       "       'Unnamed: 18', 'Unnamed: 19', 'Unnamed: 20', 'Unnamed: 21',\n",
       "       'Unnamed: 22', 'Unnamed: 23', 'Unnamed: 24', 'Unnamed: 25'],\n",
       "      dtype='object')"
      ]
     },
     "execution_count": 249,
     "metadata": {},
     "output_type": "execute_result"
    }
   ],
   "source": [
    "df_msg.columns"
   ]
  },
  {
   "cell_type": "code",
   "execution_count": 252,
   "id": "1e3d2454",
   "metadata": {},
   "outputs": [],
   "source": [
    "list_mgs_dic = []\n",
    "for index, row in df_msg.iterrows():\n",
    "    list_mgs_dic.append([row['collection'], row['mgs_brand']])"
   ]
  },
  {
   "cell_type": "code",
   "execution_count": 256,
   "id": "7a083f04",
   "metadata": {},
   "outputs": [],
   "source": [
    "for titi in list_mgs_dic:\n",
    "    df.loc[df['collection'] == titi[0], 'mgs_brand'] = titi[1] "
   ]
  },
  {
   "cell_type": "code",
   "execution_count": null,
   "id": "8eaab2e5",
   "metadata": {},
   "outputs": [],
   "source": []
  },
  {
   "cell_type": "code",
   "execution_count": 245,
   "id": "62e90892",
   "metadata": {},
   "outputs": [
    {
     "data": {
      "text/plain": [
       "Index(['sku', 'is_in_stock', 'name', 'price', 'special_price',\n",
       "       'short_description', 'free_colors', 'description',\n",
       "       'ts_dimensions_width', 'ts_dimensions_height', 'ts_dimensions_length',\n",
       "       'collection', 'base_image', 'url_key', 'visibility', 'tax_class_name',\n",
       "       'manufacturer', 'news_from_date', 'news_to_date', 'additional_images',\n",
       "       'link_url', 'categories1', 'categories2', 'categories3',\n",
       "       'allow_backorders', 'estimated_delivery_enable', 'small_image',\n",
       "       'swatch_image', 'thumbnail_image', 'attribute_set_code',\n",
       "       'product_websites', 'out_of_stock_qty', 'qty', 'product_online',\n",
       "       'mgs_brand', 'estimated_delivery_text', 'supplier', 'categories'],\n",
       "      dtype='object')"
      ]
     },
     "execution_count": 245,
     "metadata": {},
     "output_type": "execute_result"
    }
   ],
   "source": [
    "df.columns"
   ]
  },
  {
   "cell_type": "code",
   "execution_count": null,
   "id": "2d16788f",
   "metadata": {},
   "outputs": [],
   "source": []
  },
  {
   "cell_type": "code",
   "execution_count": null,
   "id": "f320bf72",
   "metadata": {},
   "outputs": [],
   "source": []
  },
  {
   "cell_type": "code",
   "execution_count": 257,
   "id": "bbd8e61b",
   "metadata": {},
   "outputs": [],
   "source": [
    "df.to_excel('toto.xlsx')"
   ]
  },
  {
   "cell_type": "code",
   "execution_count": 233,
   "id": "aedab6a6",
   "metadata": {},
   "outputs": [
    {
     "data": {
      "text/html": [
       "<div>\n",
       "<style scoped>\n",
       "    .dataframe tbody tr th:only-of-type {\n",
       "        vertical-align: middle;\n",
       "    }\n",
       "\n",
       "    .dataframe tbody tr th {\n",
       "        vertical-align: top;\n",
       "    }\n",
       "\n",
       "    .dataframe thead th {\n",
       "        text-align: right;\n",
       "    }\n",
       "</style>\n",
       "<table border=\"1\" class=\"dataframe\">\n",
       "  <thead>\n",
       "    <tr style=\"text-align: right;\">\n",
       "      <th></th>\n",
       "      <th>sku</th>\n",
       "      <th>is_in_stock</th>\n",
       "      <th>name</th>\n",
       "      <th>price</th>\n",
       "      <th>special_price</th>\n",
       "      <th>short_description</th>\n",
       "      <th>free_colors</th>\n",
       "      <th>description</th>\n",
       "      <th>ts_dimensions_width</th>\n",
       "      <th>ts_dimensions_height</th>\n",
       "      <th>...</th>\n",
       "      <th>thumbnail_image</th>\n",
       "      <th>attribute_set_code</th>\n",
       "      <th>product_websites</th>\n",
       "      <th>out_of_stock_qty</th>\n",
       "      <th>qty</th>\n",
       "      <th>product_online</th>\n",
       "      <th>mgs_brand</th>\n",
       "      <th>estimated_delivery_text</th>\n",
       "      <th>supplier</th>\n",
       "      <th>categories</th>\n",
       "    </tr>\n",
       "  </thead>\n",
       "  <tbody>\n",
       "    <tr>\n",
       "      <th>4658</th>\n",
       "      <td>ROG-13651-01</td>\n",
       "      <td>1</td>\n",
       "      <td>DECOR ITEM</td>\n",
       "      <td>110.00</td>\n",
       "      <td>__EMPTY__VALUE__</td>\n",
       "      <td>Material-METAL - MDF - PVC\\nColor-WHITE\\nWeigh...</td>\n",
       "      <td>WHITE</td>\n",
       "      <td>Material-METAL - MDF - PVC\\nColor-WHITE\\nWeigh...</td>\n",
       "      <td>__EMPTY__VALUE__</td>\n",
       "      <td>__EMPTY__VALUE__</td>\n",
       "      <td>...</td>\n",
       "      <td>https://cdn.shopify.com/s/files/1/0773/5495/pr...</td>\n",
       "      <td>Default</td>\n",
       "      <td>base</td>\n",
       "      <td>-5</td>\n",
       "      <td>0</td>\n",
       "      <td>1</td>\n",
       "      <td>__EMPTY__VALUE__</td>\n",
       "      <td>__EMPTY__VALUE__</td>\n",
       "      <td>ROG</td>\n",
       "      <td></td>\n",
       "    </tr>\n",
       "    <tr>\n",
       "      <th>4659</th>\n",
       "      <td>ROG-A2000159</td>\n",
       "      <td>1</td>\n",
       "      <td>Photo Frame (Set of 2)</td>\n",
       "      <td>465.75</td>\n",
       "      <td>__EMPTY__VALUE__</td>\n",
       "      <td>Fond memories don’t have to fade. Capture them...</td>\n",
       "      <td>__EMPTY__VALUE__</td>\n",
       "      <td>Fond memories don’t have to fade. Capture them...</td>\n",
       "      <td>__EMPTY__VALUE__</td>\n",
       "      <td>__EMPTY__VALUE__</td>\n",
       "      <td>...</td>\n",
       "      <td>https://cdn.shopify.com/s/files/1/0773/5495/pr...</td>\n",
       "      <td>Default</td>\n",
       "      <td>base</td>\n",
       "      <td>-5</td>\n",
       "      <td>0</td>\n",
       "      <td>1</td>\n",
       "      <td>__EMPTY__VALUE__</td>\n",
       "      <td>__EMPTY__VALUE__</td>\n",
       "      <td>ROG</td>\n",
       "      <td></td>\n",
       "    </tr>\n",
       "    <tr>\n",
       "      <th>4660</th>\n",
       "      <td>ROG-A2080001</td>\n",
       "      <td>1</td>\n",
       "      <td>PHOTO FRAME</td>\n",
       "      <td>115.00</td>\n",
       "      <td>__EMPTY__VALUE__</td>\n",
       "      <td>Master Item Number-\\nA2080001\\nCarton Contains...</td>\n",
       "      <td>White/Purple</td>\n",
       "      <td>Master Item Number-\\nA2080001\\nCarton Contains...</td>\n",
       "      <td>__EMPTY__VALUE__</td>\n",
       "      <td>__EMPTY__VALUE__</td>\n",
       "      <td>...</td>\n",
       "      <td>https://cdn.shopify.com/s/files/1/0773/5495/pr...</td>\n",
       "      <td>Default</td>\n",
       "      <td>base</td>\n",
       "      <td>-5</td>\n",
       "      <td>0</td>\n",
       "      <td>1</td>\n",
       "      <td>__EMPTY__VALUE__</td>\n",
       "      <td>__EMPTY__VALUE__</td>\n",
       "      <td>ROG</td>\n",
       "      <td></td>\n",
       "    </tr>\n",
       "    <tr>\n",
       "      <th>4661</th>\n",
       "      <td>ROG-15682-02</td>\n",
       "      <td>1</td>\n",
       "      <td>5X5 RESIN ROUND SWIRLS PHOTO FRAME-BLACK</td>\n",
       "      <td>150.00</td>\n",
       "      <td>__EMPTY__VALUE__</td>\n",
       "      <td>12.7 W inch X12.7 H Inch</td>\n",
       "      <td>__EMPTY__VALUE__</td>\n",
       "      <td>12.7 W inch X12.7 H Inch</td>\n",
       "      <td>__EMPTY__VALUE__</td>\n",
       "      <td>__EMPTY__VALUE__</td>\n",
       "      <td>...</td>\n",
       "      <td>https://cdn.shopify.com/s/files/1/0773/5495/pr...</td>\n",
       "      <td>Default</td>\n",
       "      <td>base</td>\n",
       "      <td>-5</td>\n",
       "      <td>0</td>\n",
       "      <td>1</td>\n",
       "      <td>__EMPTY__VALUE__</td>\n",
       "      <td>__EMPTY__VALUE__</td>\n",
       "      <td>ROG</td>\n",
       "      <td></td>\n",
       "    </tr>\n",
       "    <tr>\n",
       "      <th>4662</th>\n",
       "      <td>ROG-A2080005</td>\n",
       "      <td>1</td>\n",
       "      <td>PHOTO FRAME (SET OF 2)</td>\n",
       "      <td>115.00</td>\n",
       "      <td>__EMPTY__VALUE__</td>\n",
       "      <td>A2080005</td>\n",
       "      <td>__EMPTY__VALUE__</td>\n",
       "      <td>A2080005</td>\n",
       "      <td>__EMPTY__VALUE__</td>\n",
       "      <td>__EMPTY__VALUE__</td>\n",
       "      <td>...</td>\n",
       "      <td>https://cdn.shopify.com/s/files/1/0773/5495/pr...</td>\n",
       "      <td>Default</td>\n",
       "      <td>base</td>\n",
       "      <td>-5</td>\n",
       "      <td>0</td>\n",
       "      <td>1</td>\n",
       "      <td>__EMPTY__VALUE__</td>\n",
       "      <td>__EMPTY__VALUE__</td>\n",
       "      <td>ROG</td>\n",
       "      <td></td>\n",
       "    </tr>\n",
       "    <tr>\n",
       "      <th>4663</th>\n",
       "      <td>ROG-18567-UTT</td>\n",
       "      <td>1</td>\n",
       "      <td>Daria Photo Frames-S-3</td>\n",
       "      <td>759.00</td>\n",
       "      <td>__EMPTY__VALUE__</td>\n",
       "      <td>Display those special photos in these sophisti...</td>\n",
       "      <td>__EMPTY__VALUE__</td>\n",
       "      <td>Display those special photos in these sophisti...</td>\n",
       "      <td>__EMPTY__VALUE__</td>\n",
       "      <td>__EMPTY__VALUE__</td>\n",
       "      <td>...</td>\n",
       "      <td>https://cdn.shopify.com/s/files/1/0773/5495/pr...</td>\n",
       "      <td>Default</td>\n",
       "      <td>base</td>\n",
       "      <td>-5</td>\n",
       "      <td>0</td>\n",
       "      <td>1</td>\n",
       "      <td>__EMPTY__VALUE__</td>\n",
       "      <td>__EMPTY__VALUE__</td>\n",
       "      <td>ROG</td>\n",
       "      <td></td>\n",
       "    </tr>\n",
       "    <tr>\n",
       "      <th>4664</th>\n",
       "      <td>ROG-18564-UTT</td>\n",
       "      <td>1</td>\n",
       "      <td>Ambrosia Photo Frames-S-3</td>\n",
       "      <td>816.50</td>\n",
       "      <td>__EMPTY__VALUE__</td>\n",
       "      <td>Frames feature o-idized copper sheeting. The o...</td>\n",
       "      <td>__EMPTY__VALUE__</td>\n",
       "      <td>Frames feature o-idized copper sheeting. The o...</td>\n",
       "      <td>__EMPTY__VALUE__</td>\n",
       "      <td>__EMPTY__VALUE__</td>\n",
       "      <td>...</td>\n",
       "      <td>https://cdn.shopify.com/s/files/1/0773/5495/pr...</td>\n",
       "      <td>Default</td>\n",
       "      <td>base</td>\n",
       "      <td>-5</td>\n",
       "      <td>0</td>\n",
       "      <td>1</td>\n",
       "      <td>__EMPTY__VALUE__</td>\n",
       "      <td>__EMPTY__VALUE__</td>\n",
       "      <td>ROG</td>\n",
       "      <td></td>\n",
       "    </tr>\n",
       "    <tr>\n",
       "      <th>4665</th>\n",
       "      <td>ROG-14969-02</td>\n",
       "      <td>1</td>\n",
       "      <td>POLYRESIN 5X7- STARFISH PHOTO FRAME-SILVER</td>\n",
       "      <td>170.00</td>\n",
       "      <td>__EMPTY__VALUE__</td>\n",
       "      <td>COLOR-SILVER\\nMATERIAL1-POLYRESIN\\nTREND-COAST...</td>\n",
       "      <td>SILVER</td>\n",
       "      <td>COLOR-SILVER\\nMATERIAL1-POLYRESIN\\nTREND-COAST...</td>\n",
       "      <td>__EMPTY__VALUE__</td>\n",
       "      <td>__EMPTY__VALUE__</td>\n",
       "      <td>...</td>\n",
       "      <td>https://cdn.shopify.com/s/files/1/0773/5495/pr...</td>\n",
       "      <td>Default</td>\n",
       "      <td>base</td>\n",
       "      <td>-5</td>\n",
       "      <td>0</td>\n",
       "      <td>1</td>\n",
       "      <td>__EMPTY__VALUE__</td>\n",
       "      <td>__EMPTY__VALUE__</td>\n",
       "      <td>ROG</td>\n",
       "      <td></td>\n",
       "    </tr>\n",
       "    <tr>\n",
       "      <th>4666</th>\n",
       "      <td>ROG-13651-02</td>\n",
       "      <td>1</td>\n",
       "      <td>WHITE MARBLE-GOLD PHOTO FRAME17-</td>\n",
       "      <td>109.25</td>\n",
       "      <td>__EMPTY__VALUE__</td>\n",
       "      <td>Material-METAL - MDF - PVC\\nColor-WHITE\\nWeigh...</td>\n",
       "      <td>WHITE</td>\n",
       "      <td>Material-METAL - MDF - PVC\\nColor-WHITE\\nWeigh...</td>\n",
       "      <td>__EMPTY__VALUE__</td>\n",
       "      <td>__EMPTY__VALUE__</td>\n",
       "      <td>...</td>\n",
       "      <td>https://cdn.shopify.com/s/files/1/0773/5495/pr...</td>\n",
       "      <td>Default</td>\n",
       "      <td>base</td>\n",
       "      <td>-5</td>\n",
       "      <td>0</td>\n",
       "      <td>1</td>\n",
       "      <td>__EMPTY__VALUE__</td>\n",
       "      <td>__EMPTY__VALUE__</td>\n",
       "      <td>ROG</td>\n",
       "      <td></td>\n",
       "    </tr>\n",
       "    <tr>\n",
       "      <th>4667</th>\n",
       "      <td>ROG-A2000193</td>\n",
       "      <td>1</td>\n",
       "      <td>PHOTO FRAME</td>\n",
       "      <td>230.00</td>\n",
       "      <td>__EMPTY__VALUE__</td>\n",
       "      <td>A2000193</td>\n",
       "      <td>__EMPTY__VALUE__</td>\n",
       "      <td>A2000193</td>\n",
       "      <td>__EMPTY__VALUE__</td>\n",
       "      <td>__EMPTY__VALUE__</td>\n",
       "      <td>...</td>\n",
       "      <td>https://cdn.shopify.com/s/files/1/0773/5495/pr...</td>\n",
       "      <td>Default</td>\n",
       "      <td>base</td>\n",
       "      <td>-5</td>\n",
       "      <td>0</td>\n",
       "      <td>1</td>\n",
       "      <td>__EMPTY__VALUE__</td>\n",
       "      <td>__EMPTY__VALUE__</td>\n",
       "      <td>ROG</td>\n",
       "      <td></td>\n",
       "    </tr>\n",
       "    <tr>\n",
       "      <th>4668</th>\n",
       "      <td>ROG-A2000150</td>\n",
       "      <td>1</td>\n",
       "      <td>Photo Frame</td>\n",
       "      <td>172.50</td>\n",
       "      <td>__EMPTY__VALUE__</td>\n",
       "      <td>Master Item Number-\\nA2000150\\nCarton Contains...</td>\n",
       "      <td>Orange</td>\n",
       "      <td>Master Item Number-\\nA2000150\\nCarton Contains...</td>\n",
       "      <td>629.031</td>\n",
       "      <td>806.45</td>\n",
       "      <td>...</td>\n",
       "      <td>https://cdn.shopify.com/s/files/1/0773/5495/pr...</td>\n",
       "      <td>Default</td>\n",
       "      <td>base</td>\n",
       "      <td>-5</td>\n",
       "      <td>0</td>\n",
       "      <td>1</td>\n",
       "      <td>__EMPTY__VALUE__</td>\n",
       "      <td>__EMPTY__VALUE__</td>\n",
       "      <td>ROG</td>\n",
       "      <td></td>\n",
       "    </tr>\n",
       "    <tr>\n",
       "      <th>4669</th>\n",
       "      <td>ROG-A2000148</td>\n",
       "      <td>1</td>\n",
       "      <td>Photo Frame</td>\n",
       "      <td>172.50</td>\n",
       "      <td>__EMPTY__VALUE__</td>\n",
       "      <td>Master Item Number-\\nA2000148\\nCarton Contains...</td>\n",
       "      <td>Teal</td>\n",
       "      <td>Master Item Number-\\nA2000148\\nCarton Contains...</td>\n",
       "      <td>645.16</td>\n",
       "      <td>419.354</td>\n",
       "      <td>...</td>\n",
       "      <td>https://cdn.shopify.com/s/files/1/0773/5495/pr...</td>\n",
       "      <td>Default</td>\n",
       "      <td>base</td>\n",
       "      <td>-5</td>\n",
       "      <td>0</td>\n",
       "      <td>1</td>\n",
       "      <td>__EMPTY__VALUE__</td>\n",
       "      <td>__EMPTY__VALUE__</td>\n",
       "      <td>ROG</td>\n",
       "      <td></td>\n",
       "    </tr>\n",
       "  </tbody>\n",
       "</table>\n",
       "<p>12 rows × 38 columns</p>\n",
       "</div>"
      ],
      "text/plain": [
       "                sku  is_in_stock                                        name  \\\n",
       "4658   ROG-13651-01            1                                  DECOR ITEM   \n",
       "4659   ROG-A2000159            1                      Photo Frame (Set of 2)   \n",
       "4660   ROG-A2080001            1                                 PHOTO FRAME   \n",
       "4661   ROG-15682-02            1    5X5 RESIN ROUND SWIRLS PHOTO FRAME-BLACK   \n",
       "4662   ROG-A2080005            1                      PHOTO FRAME (SET OF 2)   \n",
       "4663  ROG-18567-UTT            1                      Daria Photo Frames-S-3   \n",
       "4664  ROG-18564-UTT            1                   Ambrosia Photo Frames-S-3   \n",
       "4665   ROG-14969-02            1  POLYRESIN 5X7- STARFISH PHOTO FRAME-SILVER   \n",
       "4666   ROG-13651-02            1            WHITE MARBLE-GOLD PHOTO FRAME17-   \n",
       "4667   ROG-A2000193            1                                 PHOTO FRAME   \n",
       "4668   ROG-A2000150            1                                 Photo Frame   \n",
       "4669   ROG-A2000148            1                                 Photo Frame   \n",
       "\n",
       "       price     special_price  \\\n",
       "4658  110.00  __EMPTY__VALUE__   \n",
       "4659  465.75  __EMPTY__VALUE__   \n",
       "4660  115.00  __EMPTY__VALUE__   \n",
       "4661  150.00  __EMPTY__VALUE__   \n",
       "4662  115.00  __EMPTY__VALUE__   \n",
       "4663  759.00  __EMPTY__VALUE__   \n",
       "4664  816.50  __EMPTY__VALUE__   \n",
       "4665  170.00  __EMPTY__VALUE__   \n",
       "4666  109.25  __EMPTY__VALUE__   \n",
       "4667  230.00  __EMPTY__VALUE__   \n",
       "4668  172.50  __EMPTY__VALUE__   \n",
       "4669  172.50  __EMPTY__VALUE__   \n",
       "\n",
       "                                      short_description       free_colors  \\\n",
       "4658  Material-METAL - MDF - PVC\\nColor-WHITE\\nWeigh...             WHITE   \n",
       "4659  Fond memories don’t have to fade. Capture them...  __EMPTY__VALUE__   \n",
       "4660  Master Item Number-\\nA2080001\\nCarton Contains...      White/Purple   \n",
       "4661                           12.7 W inch X12.7 H Inch  __EMPTY__VALUE__   \n",
       "4662                                           A2080005  __EMPTY__VALUE__   \n",
       "4663  Display those special photos in these sophisti...  __EMPTY__VALUE__   \n",
       "4664  Frames feature o-idized copper sheeting. The o...  __EMPTY__VALUE__   \n",
       "4665  COLOR-SILVER\\nMATERIAL1-POLYRESIN\\nTREND-COAST...            SILVER   \n",
       "4666  Material-METAL - MDF - PVC\\nColor-WHITE\\nWeigh...             WHITE   \n",
       "4667                                           A2000193  __EMPTY__VALUE__   \n",
       "4668  Master Item Number-\\nA2000150\\nCarton Contains...            Orange   \n",
       "4669  Master Item Number-\\nA2000148\\nCarton Contains...              Teal   \n",
       "\n",
       "                                            description ts_dimensions_width  \\\n",
       "4658  Material-METAL - MDF - PVC\\nColor-WHITE\\nWeigh...    __EMPTY__VALUE__   \n",
       "4659  Fond memories don’t have to fade. Capture them...    __EMPTY__VALUE__   \n",
       "4660  Master Item Number-\\nA2080001\\nCarton Contains...    __EMPTY__VALUE__   \n",
       "4661                           12.7 W inch X12.7 H Inch    __EMPTY__VALUE__   \n",
       "4662                                           A2080005    __EMPTY__VALUE__   \n",
       "4663  Display those special photos in these sophisti...    __EMPTY__VALUE__   \n",
       "4664  Frames feature o-idized copper sheeting. The o...    __EMPTY__VALUE__   \n",
       "4665  COLOR-SILVER\\nMATERIAL1-POLYRESIN\\nTREND-COAST...    __EMPTY__VALUE__   \n",
       "4666  Material-METAL - MDF - PVC\\nColor-WHITE\\nWeigh...    __EMPTY__VALUE__   \n",
       "4667                                           A2000193    __EMPTY__VALUE__   \n",
       "4668  Master Item Number-\\nA2000150\\nCarton Contains...             629.031   \n",
       "4669  Master Item Number-\\nA2000148\\nCarton Contains...              645.16   \n",
       "\n",
       "     ts_dimensions_height  ...  \\\n",
       "4658     __EMPTY__VALUE__  ...   \n",
       "4659     __EMPTY__VALUE__  ...   \n",
       "4660     __EMPTY__VALUE__  ...   \n",
       "4661     __EMPTY__VALUE__  ...   \n",
       "4662     __EMPTY__VALUE__  ...   \n",
       "4663     __EMPTY__VALUE__  ...   \n",
       "4664     __EMPTY__VALUE__  ...   \n",
       "4665     __EMPTY__VALUE__  ...   \n",
       "4666     __EMPTY__VALUE__  ...   \n",
       "4667     __EMPTY__VALUE__  ...   \n",
       "4668               806.45  ...   \n",
       "4669              419.354  ...   \n",
       "\n",
       "                                        thumbnail_image attribute_set_code  \\\n",
       "4658  https://cdn.shopify.com/s/files/1/0773/5495/pr...            Default   \n",
       "4659  https://cdn.shopify.com/s/files/1/0773/5495/pr...            Default   \n",
       "4660  https://cdn.shopify.com/s/files/1/0773/5495/pr...            Default   \n",
       "4661  https://cdn.shopify.com/s/files/1/0773/5495/pr...            Default   \n",
       "4662  https://cdn.shopify.com/s/files/1/0773/5495/pr...            Default   \n",
       "4663  https://cdn.shopify.com/s/files/1/0773/5495/pr...            Default   \n",
       "4664  https://cdn.shopify.com/s/files/1/0773/5495/pr...            Default   \n",
       "4665  https://cdn.shopify.com/s/files/1/0773/5495/pr...            Default   \n",
       "4666  https://cdn.shopify.com/s/files/1/0773/5495/pr...            Default   \n",
       "4667  https://cdn.shopify.com/s/files/1/0773/5495/pr...            Default   \n",
       "4668  https://cdn.shopify.com/s/files/1/0773/5495/pr...            Default   \n",
       "4669  https://cdn.shopify.com/s/files/1/0773/5495/pr...            Default   \n",
       "\n",
       "     product_websites out_of_stock_qty qty product_online         mgs_brand  \\\n",
       "4658             base               -5   0              1  __EMPTY__VALUE__   \n",
       "4659             base               -5   0              1  __EMPTY__VALUE__   \n",
       "4660             base               -5   0              1  __EMPTY__VALUE__   \n",
       "4661             base               -5   0              1  __EMPTY__VALUE__   \n",
       "4662             base               -5   0              1  __EMPTY__VALUE__   \n",
       "4663             base               -5   0              1  __EMPTY__VALUE__   \n",
       "4664             base               -5   0              1  __EMPTY__VALUE__   \n",
       "4665             base               -5   0              1  __EMPTY__VALUE__   \n",
       "4666             base               -5   0              1  __EMPTY__VALUE__   \n",
       "4667             base               -5   0              1  __EMPTY__VALUE__   \n",
       "4668             base               -5   0              1  __EMPTY__VALUE__   \n",
       "4669             base               -5   0              1  __EMPTY__VALUE__   \n",
       "\n",
       "     estimated_delivery_text supplier categories  \n",
       "4658        __EMPTY__VALUE__      ROG             \n",
       "4659        __EMPTY__VALUE__      ROG             \n",
       "4660        __EMPTY__VALUE__      ROG             \n",
       "4661        __EMPTY__VALUE__      ROG             \n",
       "4662        __EMPTY__VALUE__      ROG             \n",
       "4663        __EMPTY__VALUE__      ROG             \n",
       "4664        __EMPTY__VALUE__      ROG             \n",
       "4665        __EMPTY__VALUE__      ROG             \n",
       "4666        __EMPTY__VALUE__      ROG             \n",
       "4667        __EMPTY__VALUE__      ROG             \n",
       "4668        __EMPTY__VALUE__      ROG             \n",
       "4669        __EMPTY__VALUE__      ROG             \n",
       "\n",
       "[12 rows x 38 columns]"
      ]
     },
     "execution_count": 233,
     "metadata": {},
     "output_type": "execute_result"
    }
   ],
   "source": [
    "df.loc[df['categories2'] == 'إطارات الصور']"
   ]
  },
  {
   "cell_type": "code",
   "execution_count": null,
   "id": "42521dc4",
   "metadata": {},
   "outputs": [],
   "source": []
  },
  {
   "cell_type": "code",
   "execution_count": 154,
   "id": "e5ff4bde",
   "metadata": {},
   "outputs": [
    {
     "name": "stdout",
     "output_type": "stream",
     "text": [
      "https://cdn.shopify.com/s/files/1/0773/5495/products/70021AR_400x.jpg\n",
      "len list images 1\n",
      "\n",
      "\n"
     ]
    }
   ],
   "source": [
    "driver.get('https://www.alrugaibfurniture.com/ar/collections/paintings-pictures/products/painting-70021')\n",
    "list_images = []\n",
    "time.sleep(0.5)\n",
    "images_click = driver.find_elements_by_class_name('product-gallery__thumbnail')\n",
    "\n",
    "\n",
    "for ele in images_click:\n",
    "    #ele.click()\n",
    "    driver.execute_script(\"arguments[0].click();\", ele)\n",
    "    time.sleep(0.5)\n",
    "images = driver.find_elements_by_class_name('product-gallery__image')\n",
    "len(images)\n",
    "for img in images:\n",
    "    #list_images.append('https:'+img.get_attribute('data-srcset').split(' ')[0])\n",
    "#     print(':', img.get_attribute('srcset').split(', ')[0].split('?')[0])\n",
    "    time.sleep(1)\n",
    "    try:\n",
    "        t = 'https:'+img.get_attribute('data-srcset').split(', ')[0].split('?')[0]\n",
    "    except:\n",
    "        continue\n",
    "#     print(img.get_attribute('data-srcset'))\n",
    "#     soup = BeautifulSoup(img.get_attribute('innerHTML'), 'html.parser')\n",
    "#     print('toto',soup)\n",
    "    print(t)\n",
    "    list_images.append(t)\n",
    "print('len list images',len(list_images))\n",
    "try:\n",
    "    timage = ','.join(list_images[1:])\n",
    "#         list_input_images2.append(timage)\n",
    "    print(timage)\n",
    "except:\n",
    "    timage = ''\n",
    "print(timage)\n",
    "\n",
    "toto_images.append([list_images[0], timage],)"
   ]
  },
  {
   "cell_type": "code",
   "execution_count": 7,
   "id": "dc83961b",
   "metadata": {},
   "outputs": [],
   "source": [
    "list_scrape1 = df['link_url'].to_list()"
   ]
  },
  {
   "cell_type": "code",
   "execution_count": 8,
   "id": "4dcdee0e",
   "metadata": {},
   "outputs": [
    {
     "data": {
      "text/plain": [
       "10459"
      ]
     },
     "execution_count": 8,
     "metadata": {},
     "output_type": "execute_result"
    }
   ],
   "source": [
    "len(list_scrape1)"
   ]
  },
  {
   "cell_type": "code",
   "execution_count": null,
   "id": "3e468cb9",
   "metadata": {},
   "outputs": [],
   "source": []
  },
  {
   "cell_type": "code",
   "execution_count": null,
   "id": "cc843858",
   "metadata": {},
   "outputs": [],
   "source": []
  },
  {
   "cell_type": "code",
   "execution_count": null,
   "id": "eac65045",
   "metadata": {},
   "outputs": [],
   "source": []
  },
  {
   "cell_type": "code",
   "execution_count": null,
   "id": "a353100e",
   "metadata": {},
   "outputs": [],
   "source": []
  },
  {
   "cell_type": "code",
   "execution_count": 64,
   "id": "3a22a88f",
   "metadata": {},
   "outputs": [
    {
     "name": "stdout",
     "output_type": "stream",
     "text": [
      "https://cdn.shopify.com/s/files/1/0773/5495/products/20242_400x.jpg\n",
      "len list images 1\n",
      "https://cdn.shopify.com/s/files/1/0773/5495/products/20242_400x.jpg\n"
     ]
    }
   ],
   "source": [
    "list_images = []\n",
    "time.sleep(2)\n",
    "images_click = driver.find_elements_by_class_name('product-gallery__thumbnail')\n",
    "\n",
    "\n",
    "for ele in images_click:\n",
    "    #ele.click()\n",
    "    driver.execute_script(\"arguments[0].click();\", ele)\n",
    "    time.sleep(1)\n",
    "images = driver.find_elements_by_class_name('product-gallery__image')\n",
    "len(images)\n",
    "for img in images:\n",
    "    #list_images.append('https:'+img.get_attribute('data-srcset').split(' ')[0])\n",
    "#     print(':', img.get_attribute('srcset').split(', ')[0].split('?')[0])\n",
    "    time.sleep(1)\n",
    "    try:\n",
    "        t = 'https:'+img.get_attribute('data-srcset').split(', ')[0].split('?')[0]\n",
    "    except:\n",
    "        continue\n",
    "#     print(img.get_attribute('data-srcset'))\n",
    "#     soup = BeautifulSoup(img.get_attribute('innerHTML'), 'html.parser')\n",
    "#     print('toto',soup)\n",
    "    print(t)\n",
    "    list_images.append(t)\n",
    "print('len list images',len(list_images))\n",
    "print(list_images[0])"
   ]
  },
  {
   "cell_type": "code",
   "execution_count": 61,
   "id": "374b5546",
   "metadata": {},
   "outputs": [],
   "source": [
    "df.to_excel('update1_rugaib.xlsx')"
   ]
  },
  {
   "cell_type": "code",
   "execution_count": 58,
   "id": "2369c20a",
   "metadata": {},
   "outputs": [
    {
     "ename": "NoSuchElementException",
     "evalue": "Message: Unable to locate element: .expandable-content\n",
     "output_type": "error",
     "traceback": [
      "\u001b[0;31m---------------------------------------------------------------------------\u001b[0m",
      "\u001b[0;31mNoSuchElementException\u001b[0m                    Traceback (most recent call last)",
      "\u001b[0;32m<ipython-input-58-4ae6c8ec7ab5>\u001b[0m in \u001b[0;36m<module>\u001b[0;34m\u001b[0m\n\u001b[0;32m----> 1\u001b[0;31m \u001b[0mtoto_des\u001b[0m \u001b[0;34m=\u001b[0m \u001b[0mdriver\u001b[0m\u001b[0;34m.\u001b[0m\u001b[0mfind_element_by_class_name\u001b[0m\u001b[0;34m(\u001b[0m\u001b[0;34m'expandable-content'\u001b[0m\u001b[0;34m)\u001b[0m\u001b[0;34m.\u001b[0m\u001b[0mtext\u001b[0m\u001b[0;34m.\u001b[0m\u001b[0msplit\u001b[0m\u001b[0;34m(\u001b[0m\u001b[0;34m'\\n'\u001b[0m\u001b[0;34m)\u001b[0m\u001b[0;34m\u001b[0m\u001b[0;34m\u001b[0m\u001b[0m\n\u001b[0m",
      "\u001b[0;32m~/anaconda3/lib/python3.8/site-packages/selenium/webdriver/remote/webdriver.py\u001b[0m in \u001b[0;36mfind_element_by_class_name\u001b[0;34m(self, name)\u001b[0m\n\u001b[1;32m    562\u001b[0m             \u001b[0melement\u001b[0m \u001b[0;34m=\u001b[0m \u001b[0mdriver\u001b[0m\u001b[0;34m.\u001b[0m\u001b[0mfind_element_by_class_name\u001b[0m\u001b[0;34m(\u001b[0m\u001b[0;34m'foo'\u001b[0m\u001b[0;34m)\u001b[0m\u001b[0;34m\u001b[0m\u001b[0;34m\u001b[0m\u001b[0m\n\u001b[1;32m    563\u001b[0m         \"\"\"\n\u001b[0;32m--> 564\u001b[0;31m         \u001b[0;32mreturn\u001b[0m \u001b[0mself\u001b[0m\u001b[0;34m.\u001b[0m\u001b[0mfind_element\u001b[0m\u001b[0;34m(\u001b[0m\u001b[0mby\u001b[0m\u001b[0;34m=\u001b[0m\u001b[0mBy\u001b[0m\u001b[0;34m.\u001b[0m\u001b[0mCLASS_NAME\u001b[0m\u001b[0;34m,\u001b[0m \u001b[0mvalue\u001b[0m\u001b[0;34m=\u001b[0m\u001b[0mname\u001b[0m\u001b[0;34m)\u001b[0m\u001b[0;34m\u001b[0m\u001b[0;34m\u001b[0m\u001b[0m\n\u001b[0m\u001b[1;32m    565\u001b[0m \u001b[0;34m\u001b[0m\u001b[0m\n\u001b[1;32m    566\u001b[0m     \u001b[0;32mdef\u001b[0m \u001b[0mfind_elements_by_class_name\u001b[0m\u001b[0;34m(\u001b[0m\u001b[0mself\u001b[0m\u001b[0;34m,\u001b[0m \u001b[0mname\u001b[0m\u001b[0;34m)\u001b[0m\u001b[0;34m:\u001b[0m\u001b[0;34m\u001b[0m\u001b[0;34m\u001b[0m\u001b[0m\n",
      "\u001b[0;32m~/anaconda3/lib/python3.8/site-packages/selenium/webdriver/remote/webdriver.py\u001b[0m in \u001b[0;36mfind_element\u001b[0;34m(self, by, value)\u001b[0m\n\u001b[1;32m    974\u001b[0m                 \u001b[0mby\u001b[0m \u001b[0;34m=\u001b[0m \u001b[0mBy\u001b[0m\u001b[0;34m.\u001b[0m\u001b[0mCSS_SELECTOR\u001b[0m\u001b[0;34m\u001b[0m\u001b[0;34m\u001b[0m\u001b[0m\n\u001b[1;32m    975\u001b[0m                 \u001b[0mvalue\u001b[0m \u001b[0;34m=\u001b[0m \u001b[0;34m'[name=\"%s\"]'\u001b[0m \u001b[0;34m%\u001b[0m \u001b[0mvalue\u001b[0m\u001b[0;34m\u001b[0m\u001b[0;34m\u001b[0m\u001b[0m\n\u001b[0;32m--> 976\u001b[0;31m         return self.execute(Command.FIND_ELEMENT, {\n\u001b[0m\u001b[1;32m    977\u001b[0m             \u001b[0;34m'using'\u001b[0m\u001b[0;34m:\u001b[0m \u001b[0mby\u001b[0m\u001b[0;34m,\u001b[0m\u001b[0;34m\u001b[0m\u001b[0;34m\u001b[0m\u001b[0m\n\u001b[1;32m    978\u001b[0m             'value': value})['value']\n",
      "\u001b[0;32m~/anaconda3/lib/python3.8/site-packages/selenium/webdriver/remote/webdriver.py\u001b[0m in \u001b[0;36mexecute\u001b[0;34m(self, driver_command, params)\u001b[0m\n\u001b[1;32m    319\u001b[0m         \u001b[0mresponse\u001b[0m \u001b[0;34m=\u001b[0m \u001b[0mself\u001b[0m\u001b[0;34m.\u001b[0m\u001b[0mcommand_executor\u001b[0m\u001b[0;34m.\u001b[0m\u001b[0mexecute\u001b[0m\u001b[0;34m(\u001b[0m\u001b[0mdriver_command\u001b[0m\u001b[0;34m,\u001b[0m \u001b[0mparams\u001b[0m\u001b[0;34m)\u001b[0m\u001b[0;34m\u001b[0m\u001b[0;34m\u001b[0m\u001b[0m\n\u001b[1;32m    320\u001b[0m         \u001b[0;32mif\u001b[0m \u001b[0mresponse\u001b[0m\u001b[0;34m:\u001b[0m\u001b[0;34m\u001b[0m\u001b[0;34m\u001b[0m\u001b[0m\n\u001b[0;32m--> 321\u001b[0;31m             \u001b[0mself\u001b[0m\u001b[0;34m.\u001b[0m\u001b[0merror_handler\u001b[0m\u001b[0;34m.\u001b[0m\u001b[0mcheck_response\u001b[0m\u001b[0;34m(\u001b[0m\u001b[0mresponse\u001b[0m\u001b[0;34m)\u001b[0m\u001b[0;34m\u001b[0m\u001b[0;34m\u001b[0m\u001b[0m\n\u001b[0m\u001b[1;32m    322\u001b[0m             response['value'] = self._unwrap_value(\n\u001b[1;32m    323\u001b[0m                 response.get('value', None))\n",
      "\u001b[0;32m~/anaconda3/lib/python3.8/site-packages/selenium/webdriver/remote/errorhandler.py\u001b[0m in \u001b[0;36mcheck_response\u001b[0;34m(self, response)\u001b[0m\n\u001b[1;32m    240\u001b[0m                 \u001b[0malert_text\u001b[0m \u001b[0;34m=\u001b[0m \u001b[0mvalue\u001b[0m\u001b[0;34m[\u001b[0m\u001b[0;34m'alert'\u001b[0m\u001b[0;34m]\u001b[0m\u001b[0;34m.\u001b[0m\u001b[0mget\u001b[0m\u001b[0;34m(\u001b[0m\u001b[0;34m'text'\u001b[0m\u001b[0;34m)\u001b[0m\u001b[0;34m\u001b[0m\u001b[0;34m\u001b[0m\u001b[0m\n\u001b[1;32m    241\u001b[0m             \u001b[0;32mraise\u001b[0m \u001b[0mexception_class\u001b[0m\u001b[0;34m(\u001b[0m\u001b[0mmessage\u001b[0m\u001b[0;34m,\u001b[0m \u001b[0mscreen\u001b[0m\u001b[0;34m,\u001b[0m \u001b[0mstacktrace\u001b[0m\u001b[0;34m,\u001b[0m \u001b[0malert_text\u001b[0m\u001b[0;34m)\u001b[0m\u001b[0;34m\u001b[0m\u001b[0;34m\u001b[0m\u001b[0m\n\u001b[0;32m--> 242\u001b[0;31m         \u001b[0;32mraise\u001b[0m \u001b[0mexception_class\u001b[0m\u001b[0;34m(\u001b[0m\u001b[0mmessage\u001b[0m\u001b[0;34m,\u001b[0m \u001b[0mscreen\u001b[0m\u001b[0;34m,\u001b[0m \u001b[0mstacktrace\u001b[0m\u001b[0;34m)\u001b[0m\u001b[0;34m\u001b[0m\u001b[0;34m\u001b[0m\u001b[0m\n\u001b[0m\u001b[1;32m    243\u001b[0m \u001b[0;34m\u001b[0m\u001b[0m\n\u001b[1;32m    244\u001b[0m     \u001b[0;32mdef\u001b[0m \u001b[0m_value_or_default\u001b[0m\u001b[0;34m(\u001b[0m\u001b[0mself\u001b[0m\u001b[0;34m,\u001b[0m \u001b[0mobj\u001b[0m\u001b[0;34m,\u001b[0m \u001b[0mkey\u001b[0m\u001b[0;34m,\u001b[0m \u001b[0mdefault\u001b[0m\u001b[0;34m)\u001b[0m\u001b[0;34m:\u001b[0m\u001b[0;34m\u001b[0m\u001b[0;34m\u001b[0m\u001b[0m\n",
      "\u001b[0;31mNoSuchElementException\u001b[0m: Message: Unable to locate element: .expandable-content\n"
     ]
    }
   ],
   "source": [
    "toto_des = driver.find_element_by_class_name('expandable-content').text.split('\\n')"
   ]
  },
  {
   "cell_type": "code",
   "execution_count": null,
   "id": "53a97f1e",
   "metadata": {},
   "outputs": [],
   "source": []
  },
  {
   "cell_type": "code",
   "execution_count": null,
   "id": "800d2ed3",
   "metadata": {},
   "outputs": [],
   "source": []
  },
  {
   "cell_type": "code",
   "execution_count": null,
   "id": "23372af2",
   "metadata": {},
   "outputs": [],
   "source": []
  },
  {
   "cell_type": "code",
   "execution_count": 50,
   "id": "ee125233",
   "metadata": {},
   "outputs": [],
   "source": [
    "driver.get('https://www.alrugaibfurniture.com/ar/collections/rugs/products/fusion-rug-blue-multi-colored')"
   ]
  },
  {
   "cell_type": "code",
   "execution_count": 51,
   "id": "5a71234a",
   "metadata": {},
   "outputs": [
    {
     "data": {
      "text/plain": [
       "3"
      ]
     },
     "execution_count": 51,
     "metadata": {},
     "output_type": "execute_result"
    }
   ],
   "source": [
    "list_products_other = driver.find_elements_by_class_name('block-swatch__item-text')\n",
    "len(list_products_other)"
   ]
  },
  {
   "cell_type": "code",
   "execution_count": 52,
   "id": "1933edf4",
   "metadata": {},
   "outputs": [],
   "source": [
    "list_products_other[0].click()"
   ]
  },
  {
   "cell_type": "code",
   "execution_count": 114,
   "id": "2d9bba02",
   "metadata": {},
   "outputs": [],
   "source": [
    "list_des_cat1 = []"
   ]
  },
  {
   "cell_type": "code",
   "execution_count": 93,
   "id": "770e17a7",
   "metadata": {},
   "outputs": [
    {
     "data": {
      "text/plain": [
       "Index(['Unnamed: 0', 'liste', 'cat1', 'cat2', 'cat3'], dtype='object')"
      ]
     },
     "execution_count": 93,
     "metadata": {},
     "output_type": "execute_result"
    }
   ],
   "source": [
    "link_cat = pd.read_excel('link_all_product_cats-08-07-2021-21-18-36.xlsx')\n",
    "link_cat.columns"
   ]
  },
  {
   "cell_type": "code",
   "execution_count": 115,
   "id": "1f2cea67",
   "metadata": {},
   "outputs": [],
   "source": [
    "for index, row in link_cat.iterrows():\n",
    "    list_des_cat1.append([row['liste'], row['cat1'], row['cat2'], row['cat3'] ], )\n"
   ]
  },
  {
   "cell_type": "code",
   "execution_count": 121,
   "id": "e9367e21",
   "metadata": {},
   "outputs": [],
   "source": [
    "all_products = pd.read_excel('Rugaib_update_08_07_2021_v1.xlsx')"
   ]
  },
  {
   "cell_type": "code",
   "execution_count": 123,
   "id": "68270f8a",
   "metadata": {},
   "outputs": [
    {
     "data": {
      "text/plain": [
       "Index(['Unnamed: 0', 'sku', 'is_in_stock', 'name', 'price', 'special_price',\n",
       "       'short_description', 'free_colors', 'description', 'Width', 'Height',\n",
       "       'Length', 'mgs_brand', 'base_image', 'url_key', 'visibility',\n",
       "       'tax_class_name', 'manufacturer', 'news_from_date', 'news_to_date',\n",
       "       'additional_images ', 'link_url', 'categories1', 'categories2',\n",
       "       'categories3', 'Unnamed: 0.1', 'raw_materials', 'small_image',\n",
       "       'swatch_image', 'thumbnail_image', 'attribute_set_code',\n",
       "       'product_websites', 'allow_backorders', 'estimated_delivery_enable'],\n",
       "      dtype='object')"
      ]
     },
     "execution_count": 123,
     "metadata": {},
     "output_type": "execute_result"
    }
   ],
   "source": [
    "all_products.columns"
   ]
  },
  {
   "cell_type": "code",
   "execution_count": 147,
   "id": "76f85db5",
   "metadata": {},
   "outputs": [],
   "source": [
    "all_toto[['url1', 'url2', 'url3', 'url4', 'url5', 'url6', 'url7', 'url8']] =  all_toto['link_url'].str.split('/', expand=True)"
   ]
  },
  {
   "cell_type": "code",
   "execution_count": 148,
   "id": "e386110f",
   "metadata": {},
   "outputs": [],
   "source": [
    "all_toto[['url', 'toto']] = all_toto['url8'].str.split('?', expand=True)"
   ]
  },
  {
   "cell_type": "code",
   "execution_count": 151,
   "id": "b90b9e7f",
   "metadata": {},
   "outputs": [
    {
     "data": {
      "text/plain": [
       "0       الخزائن الجانبية\n",
       "1          طاولات الطعام\n",
       "2           كراسي الطعام\n",
       "3            طاولات مكتب\n",
       "4          خزائن وصناديق\n",
       "              ...       \n",
       "2168             المرايا\n",
       "2169          سرير اطفال\n",
       "2170       طاولات الخدمة\n",
       "2171      ديكورات الحائط\n",
       "2172           كنب طاولة\n",
       "Name: categories3, Length: 2173, dtype: object"
      ]
     },
     "execution_count": 151,
     "metadata": {},
     "output_type": "execute_result"
    }
   ],
   "source": [
    "all_toto['categories3']"
   ]
  },
  {
   "cell_type": "code",
   "execution_count": 150,
   "id": "8ea0b3be",
   "metadata": {},
   "outputs": [],
   "source": [
    "for cat in list_des_cat1:\n",
    "    #print(cat[1], 'toto', cat[0])\n",
    "    all_toto.loc[all_products['url'] == cat[0] , 'categories3'] = cat[3]"
   ]
  },
  {
   "cell_type": "code",
   "execution_count": 140,
   "id": "d67a793b",
   "metadata": {},
   "outputs": [],
   "source": [
    "for cat in list_des_cat1:\n",
    "    #print(cat[1], 'toto', cat[0])\n",
    "    all_products.loc[all_products['url'] == cat[0] , 'categories1'] = cat[1]"
   ]
  },
  {
   "cell_type": "code",
   "execution_count": 142,
   "id": "1e0754e6",
   "metadata": {},
   "outputs": [],
   "source": [
    "for cat in list_des_cat1:\n",
    "    #print(cat[1], 'toto', cat[0])\n",
    "    all_products.loc[all_products['url'] == cat[0] , 'categories2'] = cat[2]"
   ]
  },
  {
   "cell_type": "code",
   "execution_count": null,
   "id": "09fc6b5e",
   "metadata": {},
   "outputs": [],
   "source": []
  },
  {
   "cell_type": "code",
   "execution_count": 141,
   "id": "52de8e98",
   "metadata": {},
   "outputs": [
    {
     "data": {
      "text/plain": [
       "0         الخزائن الجانبية\n",
       "1            طاولات الطعام\n",
       "2             كراسي الطعام\n",
       "3              طاولات مكتب\n",
       "4            خزائن وصناديق\n",
       "               ...        \n",
       "9575             كنب زاوية\n",
       "9576       كرسي طاولة خدمة\n",
       "9577       كرسي طاولة خدمة\n",
       "9578    طاولات سرير جانبية\n",
       "9579        مجموعات الجدول\n",
       "Name: categories3, Length: 9580, dtype: object"
      ]
     },
     "execution_count": 141,
     "metadata": {},
     "output_type": "execute_result"
    }
   ],
   "source": [
    "all_products['categories3']"
   ]
  },
  {
   "cell_type": "code",
   "execution_count": 136,
   "id": "9d9cd92e",
   "metadata": {},
   "outputs": [
    {
     "data": {
      "text/plain": [
       "'gallah-candleholder'"
      ]
     },
     "execution_count": 136,
     "metadata": {},
     "output_type": "execute_result"
    }
   ],
   "source": [
    "list_des_cat1[100][0]"
   ]
  },
  {
   "cell_type": "code",
   "execution_count": 130,
   "id": "3ea0a4ee",
   "metadata": {},
   "outputs": [
    {
     "data": {
      "text/plain": [
       "'حامل شمعة'"
      ]
     },
     "execution_count": 130,
     "metadata": {},
     "output_type": "execute_result"
    }
   ],
   "source": [
    "list_des_cat1[1][3]"
   ]
  },
  {
   "cell_type": "code",
   "execution_count": 117,
   "id": "0ba4e69e",
   "metadata": {},
   "outputs": [],
   "source": [
    "for toto in list_des_cat1:\n",
    "    toto[0] = clean_url(toto[0])"
   ]
  },
  {
   "cell_type": "code",
   "execution_count": 106,
   "id": "dd23175e",
   "metadata": {},
   "outputs": [],
   "source": [
    "text1 = 'https://www.alrugaibfurniture.com/ar/collections/candle-holders/products/deus-candle-holder-set-of-3?lshst=collection'"
   ]
  },
  {
   "cell_type": "code",
   "execution_count": 101,
   "id": "cddb2888",
   "metadata": {},
   "outputs": [],
   "source": [
    "def clean_url(text):\n",
    "    text = text.split('/')[-1].split('?')[0]\n",
    "    return text"
   ]
  },
  {
   "cell_type": "code",
   "execution_count": 107,
   "id": "a23abcb0",
   "metadata": {},
   "outputs": [
    {
     "data": {
      "text/plain": [
       "'deus-candle-holder-set-of-3'"
      ]
     },
     "execution_count": 107,
     "metadata": {},
     "output_type": "execute_result"
    }
   ],
   "source": [
    "clean_url(text1)"
   ]
  },
  {
   "cell_type": "markdown",
   "id": "2fd70855",
   "metadata": {},
   "source": [
    "# Traitement "
   ]
  },
  {
   "cell_type": "code",
   "execution_count": 98,
   "id": "f2d17dd3",
   "metadata": {},
   "outputs": [],
   "source": [
    "df[['product_size','size']] = df['Width'].str.split(\";\",expand=True,)"
   ]
  },
  {
   "cell_type": "code",
   "execution_count": 99,
   "id": "e1fcc4fc",
   "metadata": {},
   "outputs": [],
   "source": [
    "df.to_excel('toto.xlsx')"
   ]
  },
  {
   "cell_type": "code",
   "execution_count": 100,
   "id": "6b51fd05",
   "metadata": {},
   "outputs": [],
   "source": [
    "df['size']  = df['size'].str.replace('كيلو غرام', '').str.strip()"
   ]
  },
  {
   "cell_type": "code",
   "execution_count": 101,
   "id": "d8e4b24a",
   "metadata": {},
   "outputs": [],
   "source": [
    "df['product_size']  = df['product_size'].str.replace('الشحنة', '').str.replace('المنتج', '').str.replace('سم', '').str.strip()"
   ]
  },
  {
   "cell_type": "code",
   "execution_count": 102,
   "id": "cb132f76",
   "metadata": {},
   "outputs": [],
   "source": [
    "df[['Width','Height', 'Length']] = df['product_size'].str.split(\"x\",expand=True,)"
   ]
  },
  {
   "cell_type": "code",
   "execution_count": 103,
   "id": "7ee58c8e",
   "metadata": {},
   "outputs": [],
   "source": [
    "df.rename(columns={'Width': 'ts_dimensions_width', 'Height': 'ts_dimensions_height', 'Length': 'ts_dimensions_length'}, inplace=True)"
   ]
  },
  {
   "cell_type": "code",
   "execution_count": 104,
   "id": "a71ba0ff",
   "metadata": {},
   "outputs": [],
   "source": [
    "df.loc[df['ts_dimensions_length'].isnull(), 'ts_dimensions_length'] = '__EMPTY__VALUE__'"
   ]
  },
  {
   "cell_type": "code",
   "execution_count": 105,
   "id": "3da1a60f",
   "metadata": {},
   "outputs": [],
   "source": [
    "df.loc[(df['ts_dimensions_width'] == 0) | (df['ts_dimensions_width'].isnull()), 'ts_dimensions_width'] = '__EMPTY__VALUE__'"
   ]
  },
  {
   "cell_type": "code",
   "execution_count": 106,
   "id": "68ebd065",
   "metadata": {},
   "outputs": [],
   "source": [
    "df.loc[(df['ts_dimensions_length'] == 0) | (df['ts_dimensions_length'].isnull()), 'ts_dimensions_length'] = '__EMPTY__VALUE__'"
   ]
  },
  {
   "cell_type": "code",
   "execution_count": 107,
   "id": "49382e5b",
   "metadata": {},
   "outputs": [],
   "source": [
    "df.loc[(df['ts_dimensions_height'] == 0) | (df['ts_dimensions_height'].isnull()), 'ts_dimensions_height'] = '__EMPTY__VALUE__'"
   ]
  },
  {
   "cell_type": "code",
   "execution_count": 108,
   "id": "3edc3c60",
   "metadata": {},
   "outputs": [],
   "source": [
    "df['supplier'] = 'ROG'"
   ]
  },
  {
   "cell_type": "code",
   "execution_count": 109,
   "id": "c047029f",
   "metadata": {},
   "outputs": [],
   "source": [
    "df['allow_backorders'] = df['is_in_stock']\n",
    "df['estimated_delivery_enable'] = 'Static, Text'"
   ]
  },
  {
   "cell_type": "code",
   "execution_count": 110,
   "id": "7c88119b",
   "metadata": {},
   "outputs": [],
   "source": [
    "df.rename(columns = {'Images2': 'additional_images'} ,inplace = True)"
   ]
  },
  {
   "cell_type": "code",
   "execution_count": 111,
   "id": "d6388c73",
   "metadata": {},
   "outputs": [],
   "source": [
    "df.rename(columns = {'Images1': 'base_image'} ,inplace = True)"
   ]
  },
  {
   "cell_type": "code",
   "execution_count": 112,
   "id": "b87c1eaf",
   "metadata": {},
   "outputs": [],
   "source": [
    "df['small_image'] =  df['base_image']\n",
    "df['swatch_image'] =  df['base_image']\n",
    "df['thumbnail_image'] =  df['base_image']\n",
    "df['attribute_set_code'] = 'Default'\n",
    "df['product_websites'] = 'base'"
   ]
  },
  {
   "cell_type": "code",
   "execution_count": 113,
   "id": "e4f34b56",
   "metadata": {},
   "outputs": [],
   "source": [
    "df['out_of_stock_qty'] = -5\n",
    "df['qty'] = 0\n",
    "df['product_online'] = df['is_in_stock']"
   ]
  },
  {
   "cell_type": "code",
   "execution_count": 26,
   "id": "ebfd9615",
   "metadata": {},
   "outputs": [],
   "source": []
  },
  {
   "cell_type": "code",
   "execution_count": 61,
   "id": "dfb3da72",
   "metadata": {},
   "outputs": [],
   "source": []
  },
  {
   "cell_type": "markdown",
   "id": "1909734b",
   "metadata": {},
   "source": [
    "# Traitement fonctions"
   ]
  },
  {
   "cell_type": "code",
   "execution_count": 57,
   "id": "38f0e9e5",
   "metadata": {},
   "outputs": [],
   "source": [
    "def toto_clean(name):\n",
    "    df[name] = df[name].str.replace('•', '-')\n",
    "    df[name] = df[name].str.replace(':', '-')\n",
    "    df[name] = df[name].str.replace('/', '-')\n",
    "    df[name] = df[name].str.replace('\"', '-')\n",
    "    df[name] = df[name].str.replace('%', '-')\n",
    "    df[name] = df[name].str.replace('&', '-')\n",
    "    df[name] = df[name].str.replace('?', '-', regex=False)\n",
    "    df[name] = df[name].str.replace('(', '-', regex=False)\n",
    "    df[name] = df[name].str.replace(')', '-', regex=False)\n",
    "    df[name] = df[name].str.replace('{', '-', regex=False)\n",
    "    df[name] = df[name].str.replace('}', '-', regex=False)\n",
    "    df[name] = df[name].str.replace(\"'\", '-', regex=False)\n",
    "    df[name] = df[name].str.replace('*', 'X', regex=False)\n",
    "    df[name] = df[name].str.replace('#', '-')\n",
    "    df[name] = df[name].str.replace('”', '-')\n",
    "    df[name] = df[name].str.replace('!', '-')\n",
    "    df[name] = df[name].str.replace('”', '-')\n",
    "    df[name] = df[name].str.replace('=', '-')\n",
    "    df[name] = df[name].str.replace('+', '-', regex=False)\n",
    "    df[name] = df[name].str.replace('،', '-', regex=False)\n",
    "    df[name] = df[name].str.replace('عرض أقل', '', regex=False)\n",
    "    df[name] = df[name].str.replace('،', '-', regex=False)\n",
    "    \n",
    "        \n",
    "    \n",
    "def ampty_value(name):\n",
    "    df.loc[df[name].isnull(), name] = '__EMPTY__VALUE__'\n",
    "    \n",
    "    \n",
    "def price_num(name):\n",
    "    try:\n",
    "        df[name] = df[name].str.replace('-', '')\n",
    "        df[name] = df[name].str.replace(',', '')\n",
    "    except:\n",
    "        pass\n",
    "    df.loc[df[name] == '__EMPTY__VALUE__', name] = 0\n",
    "    \n",
    "    df[name] = pd.to_numeric(df[name])\n",
    "    df.loc[df[name] == 0, name] = '__EMPTY__VALUE__'"
   ]
  },
  {
   "cell_type": "code",
   "execution_count": 70,
   "id": "739ce77d",
   "metadata": {},
   "outputs": [],
   "source": [
    "def clean_punct(name):\n",
    "    for c in string.punctuation:\n",
    "        df[name] = df[name].str.replace(c, '-', regex=False)"
   ]
  },
  {
   "cell_type": "code",
   "execution_count": 101,
   "id": "34f4e7d2",
   "metadata": {},
   "outputs": [
    {
     "data": {
      "text/plain": [
       "'!\"#$%&\\'()*+,-./:;<=>?@[\\\\]^_`{|}~'"
      ]
     },
     "execution_count": 101,
     "metadata": {},
     "output_type": "execute_result"
    }
   ],
   "source": [
    "string.punctuation"
   ]
  },
  {
   "cell_type": "code",
   "execution_count": 72,
   "id": "db216b12",
   "metadata": {},
   "outputs": [],
   "source": [
    "toto_clean('name')"
   ]
  },
  {
   "cell_type": "code",
   "execution_count": 75,
   "id": "2d1c347a",
   "metadata": {},
   "outputs": [],
   "source": [
    "def parse_name(text):\n",
    "    new_text = []\n",
    "    for i, t in enumerate(text):\n",
    "        if i == 0:\n",
    "            new_text.append(t.title())\n",
    "        else:\n",
    "            new_text.append(t.lower())\n",
    "    return ''.join(new_text)\n",
    "    "
   ]
  },
  {
   "cell_type": "code",
   "execution_count": 114,
   "id": "0ff83c18",
   "metadata": {},
   "outputs": [],
   "source": [
    "toto_clean('description')"
   ]
  },
  {
   "cell_type": "code",
   "execution_count": 115,
   "id": "6ac35932",
   "metadata": {},
   "outputs": [],
   "source": [
    "toto_clean('name')"
   ]
  },
  {
   "cell_type": "code",
   "execution_count": 125,
   "id": "511d2dd3",
   "metadata": {},
   "outputs": [],
   "source": [
    "df.to_excel('amazon_test.xlsx')"
   ]
  },
  {
   "cell_type": "code",
   "execution_count": 78,
   "id": "4e73222a",
   "metadata": {},
   "outputs": [],
   "source": [
    "df['url_key'] = df['sku'] + '-' + df['name']"
   ]
  },
  {
   "cell_type": "code",
   "execution_count": 104,
   "id": "7de169d0",
   "metadata": {},
   "outputs": [],
   "source": [
    "df['name'] = df['name'].str.replace(', ', '-')\n",
    "df['name'] = df['name'].str.replace('/', '-')\n",
    "df['name'] = df['name'].str.replace('\"', '-')\n",
    "df['name'] = df['name'].str.replace('%', '-')\n",
    "df['name'] = df['name'].str.replace('&', '-')\n",
    "df['name'] = df['name'].str.replace('+', '-', regex=False)"
   ]
  },
  {
   "cell_type": "code",
   "execution_count": 422,
   "id": "e9eb60dd",
   "metadata": {},
   "outputs": [],
   "source": [
    "df['url_key'] = df['url_key'].str.replace(', ', '-')\n",
    "df['url_key'] = df['url_key'].str.replace('/', '-')\n",
    "df['url_key'] = df['url_key'].str.replace('\"', '-')\n",
    "df['url_key'] = df['url_key'].str.replace('%', '-')\n",
    "df['url_key'] = df['url_key'].str.replace('&', '-')\n",
    "df['url_key'] = df['url_key'].str.replace('+', '-', regex=False)"
   ]
  },
  {
   "cell_type": "code",
   "execution_count": 114,
   "id": "f5fa2d20",
   "metadata": {},
   "outputs": [],
   "source": [
    "df['description'] = df['description'].str.replace(', ', '-')\n",
    "df['description'] = df['description'].str.replace('/', '-')\n",
    "df['description'] = df['description'].str.replace('\"', '-')\n",
    "df['description'] = df['description'].str.replace(\"'\", '-')\n",
    "df['description'] = df['description'].str.replace('%', '-')\n",
    "df['description'] = df['description'].str.replace('&', '-')\n",
    "df['description'] = df['description'].str.replace('+', '-', regex=False)"
   ]
  },
  {
   "cell_type": "code",
   "execution_count": 115,
   "id": "89660a0e",
   "metadata": {},
   "outputs": [],
   "source": [
    "df['short_description'] = df['short_description'].str.replace(', ', '-')\n",
    "df['short_description'] = df['short_description'].str.replace('/', '-')\n",
    "df['short_description'] = df['short_description'].str.replace('\"', '-')\n",
    "df['short_description'] = df['short_description'].str.replace(\"'\", '-')\n",
    "df['short_description'] = df['short_description'].str.replace('%', '-')\n",
    "df['short_description'] = df['short_description'].str.replace('&', '-')\n",
    "df['short_description'] = df['short_description'].str.replace('+', '-', regex=False)"
   ]
  },
  {
   "cell_type": "code",
   "execution_count": 79,
   "id": "c0eadd8a",
   "metadata": {},
   "outputs": [],
   "source": [
    "df['estimated_delivery_text'] = 'الوقت المقدر لشحن هذا المنتج أسبوعين'"
   ]
  },
  {
   "cell_type": "code",
   "execution_count": 117,
   "id": "4e01aac7",
   "metadata": {},
   "outputs": [],
   "source": [
    "df['estimated_delivery_enable'] = 'Static Text'"
   ]
  },
  {
   "cell_type": "code",
   "execution_count": 118,
   "id": "aaa50b3c",
   "metadata": {},
   "outputs": [],
   "source": [
    "df['categories'] = ''"
   ]
  },
  {
   "cell_type": "code",
   "execution_count": 119,
   "id": "36f286f9",
   "metadata": {},
   "outputs": [],
   "source": [
    "df['price'] = df['price'].str.replace(',', '')"
   ]
  },
  {
   "cell_type": "code",
   "execution_count": 120,
   "id": "aa6892d4",
   "metadata": {},
   "outputs": [],
   "source": [
    "df['special_price'] = df['special_price'].str.replace(',', '')"
   ]
  },
  {
   "cell_type": "code",
   "execution_count": 121,
   "id": "85fa8e5d",
   "metadata": {},
   "outputs": [],
   "source": [
    "df['price'] = pd.to_numeric(df['price'])"
   ]
  },
  {
   "cell_type": "code",
   "execution_count": 122,
   "id": "d0795c92",
   "metadata": {},
   "outputs": [],
   "source": [
    "df['special_price'] = pd.to_numeric(df['special_price'])"
   ]
  },
  {
   "cell_type": "code",
   "execution_count": 123,
   "id": "eac4791e",
   "metadata": {},
   "outputs": [],
   "source": [
    "df['collection'] = df['collection'].str.title()"
   ]
  },
  {
   "cell_type": "code",
   "execution_count": 124,
   "id": "ddca03f6",
   "metadata": {},
   "outputs": [],
   "source": [
    "df['supplier'] = 'ROG'"
   ]
  },
  {
   "cell_type": "markdown",
   "id": "e41794f3",
   "metadata": {},
   "source": [
    "# Categories add"
   ]
  },
  {
   "cell_type": "code",
   "execution_count": 464,
   "id": "0b6c766d",
   "metadata": {},
   "outputs": [],
   "source": [
    "df = pd.read_excel('/home/wafistos/Documents/Projects/scaping_wafi/scrapingalrugaibfurniture/sub_categories/Rugaib_update_27_08_2021_v3.xlsx')"
   ]
  },
  {
   "cell_type": "code",
   "execution_count": 481,
   "id": "225025e2",
   "metadata": {},
   "outputs": [],
   "source": [
    "list_df = pd.read_excel('/home/wafistos/Downloads/Missing description.xlsx')"
   ]
  },
  {
   "cell_type": "code",
   "execution_count": 468,
   "id": "80c59db8",
   "metadata": {},
   "outputs": [],
   "source": [
    "df_toto = df[['sku', 'categories1', 'categories2', 'categories3', 'categories'] ].copy()"
   ]
  },
  {
   "cell_type": "code",
   "execution_count": 95,
   "id": "48047293",
   "metadata": {},
   "outputs": [],
   "source": [
    "cats = pd.read_excel('/home/wafistos/Documents/Projects/scaping_wafi/scrapingalrugaibfurniture/sub_categories/categories/Rugaib categories .xlsx')"
   ]
  },
  {
   "cell_type": "code",
   "execution_count": 97,
   "id": "6ee9a7d4",
   "metadata": {},
   "outputs": [
    {
     "data": {
      "text/plain": [
       "Index(['Name of category ', 'Num of category ', 'Discription ', 'Unnamed: 3',\n",
       "       'Unnamed: 4', 'Unnamed: 5', 'Unnamed: 6', 'Unnamed: 7', 'Unnamed: 8',\n",
       "       'Unnamed: 9', 'Unnamed: 10', 'Unnamed: 11', 'Unnamed: 12',\n",
       "       'Unnamed: 13', 'Unnamed: 14', 'Unnamed: 15', 'Unnamed: 16',\n",
       "       'Unnamed: 17', 'Unnamed: 18', 'Unnamed: 19', 'Unnamed: 20',\n",
       "       'Unnamed: 21', 'Unnamed: 22', 'Unnamed: 23', 'Unnamed: 24',\n",
       "       'Unnamed: 25'],\n",
       "      dtype='object')"
      ]
     },
     "execution_count": 97,
     "metadata": {},
     "output_type": "execute_result"
    }
   ],
   "source": [
    "cats.columns"
   ]
  },
  {
   "cell_type": "code",
   "execution_count": 99,
   "id": "2483662f",
   "metadata": {},
   "outputs": [],
   "source": [
    "list_cats = []\n",
    "for index, row in cats.iterrows():\n",
    "    list_cats.append([ row['Name of category '], row['Num of category '], row['Discription ']])"
   ]
  },
  {
   "cell_type": "code",
   "execution_count": 100,
   "id": "e1f7f0aa",
   "metadata": {},
   "outputs": [
    {
     "data": {
      "text/plain": [
       "[['  غرفة المعيشة ',\n",
       "  '43441,42959,113',\n",
       "  'لكي نضمن راحتكم ولتوفير كافة مستلزمات غرفة المعيشة مع اختصار الوقت اللازم للبحث عنها في أماكن متفرقة وتجميع قطع الأثاث قام مصممو وفنانو بيتونيا بتحضير أفخم غرف المعيشة المميزة لكم والمتناسبة مع تشكيلة واسعة من تصاميم المنازل العصرية. القطع منتقاة بعناية وكلها مصنوعة من مواد عالية الجودة, مقاومة ومتينة.'],\n",
       " ['حامل شمعة',\n",
       "  '43816,43,113',\n",
       "  '        مصمم بأناقة لينمزج جيداً مع المكونات الداخلية للغرفة. مصنوعة من مواد فائقة الجودة لتعزيز المتانة وزجاج ذات ظلال متداخلة مزدوجة لتوفر كلاً من اللون والملمس'],\n",
       " ['شموع',\n",
       "  '43816,43506,113',\n",
       "  'شموع فاخرة تضفي على أمسياتك لمية من الدفء والشاعرية وتمنحك ساعات من الاسترخاء على ضوءها الخافت بعد ساعات من العمل الطويل الشاق. مثالية لعشاء رومانسي على ضوء الشموع أو لإضاءة خافتة في المناسبات الخاصة تخلق جوا عاما مفعما بالدفء والجمال.'],\n",
       " ['الساعات',\n",
       "  '42,43504,51,113',\n",
       "  'إذا كنت تريد أن تزيد غرفة المعيشة الخاصة بك توهجا وتألق ، فهذا التصميم سيعكس اختيارك ساعة حائط بيرام ساعة'],\n",
       " ['وسائد',\n",
       "  '43509,43213,113',\n",
       "  'إذا كنت تريد أن تزيد غرفة المعيشة الخاصة بك توهجا وتألق ، فهذا التصميم سيعكس اختيارك وسادة ديكور'],\n",
       " ['اغطية الوسائد',\n",
       "  '43509,43213,113',\n",
       "  'إذا كنت تريد أن تزيد غرفة المعيشة الخاصة بك توهجا وتألق ، فهذا التصميم سيعكس اختيارك وسادة ديكور'],\n",
       " ['معطرات غرفة',\n",
       "  '43816,43619,113',\n",
       "  'لان أناقة منزلك لا تكتمل إلى بلمسات عطرة تفوح من كل ركن وزاوية من المنزل اخترنا لك في بيتونيا مجموعة معطرات المنزل المتكاملة ذات التراكيز العالية تتيح لك المجموعة عدة خيارات لتعطير الجو والمنسوجات والبياضات كافة لتضفي أجواءً من السكينة والراحة لساعات طويلة، وتعطي أجواءً منعشة لأفراد الأسرة.'],\n",
       " ['الديكورات الأرضية',\n",
       "  '42,43994,113',\n",
       "  'أطلق العنان لمخيلتك في تصور الديكور الذي لطالما حلمت به وانطلق لتختار تحفتك الفريدة من بين العديد. اختر ما يناسب ذوقك كاختيارهذه القطعة المميزة'],\n",
       " ['اكسسوارات المطبخ', 'Do not scrap it ', nan],\n",
       " ['المرايا',\n",
       "  '42,14489,113',\n",
       "  'تعتبر المرايا أكثر من مجرد أداة مفيدة لملاحظة تسريحة شعرك. مع إطاراتها وأشكالها المميزة، يمكن أن تعزز شكل ديكور منزلك. المرايا الحائطية الكبيرة، أو المرايا الصغيرة المجمعة معاً تجعل الغرفة تبدو أكثر إشراقاً وأكبر حجماً.'],\n",
       " ['اللوحات والصور',\n",
       "  '42,53,113',\n",
       "  'قم بإضفاء لمستك الشخصية على جدران المنزل بتزينها باللوحات الموافقة لذوقك والعصرية. تعطي الحيوية والدفء للغرفة بسبب ألوانها المنتقاة بعناية لتريح الناظر إليها وتبرز جمال أي حائط. '],\n",
       " ['سجاد',\n",
       "  115113,\n",
       "  'سجاد أنيق بألوان ساحرة تضفي على الأرضيات نعومة ودفء مثاليين. سماكة السجاد مناسبة وثابتة مع الزمن والألوان لا تبهت بتأثير التنظيف أو العوامل الجوية. السجاد ثابت على الأرضيات, قوي ومرن, غير مسبب للحساسية. يمكن تنظيفه بسهولة من السوائل والأتربة فهي لا تبقى عالقة عليه.'],\n",
       " ['إطارات الصور',\n",
       "  '43743,113',\n",
       "  'إذا كنت تريد أن تزيد غرفة المعيشة الخاصة بك توهجا وتألق ، فهذا التصميم سيعكس اختيارك'],\n",
       " ['النباتات',\n",
       "  '42,44,113',\n",
       "  'ليست مجرد زهور صناعية إنها تحفة فنية مفعمة بالجمال وروح الطبيعة لا تذبل أبداً وتبدو نضرة مع مرور السنين لتزيد ديكور منزلك إشراقاً وألقاً. قم بوضعها في أي مكان من المنزل في غرفة المعيشة, المدخل المكتب وغرفة النوم لتشغل أي مساحة فارغة من الطاولة أو الرفوف وتضيف عليها لمسة من الأناقة والرقي. تعد هدية مناسبة للأصدقاء تناسب أصحاب الذوق الرفيع.'],\n",
       " ['بوفس',\n",
       "  '43441,43790,43769,113',\n",
       "  'إذا كنت تريد أن تزيد غرفة المعيشة الخاصة بك توهجا وتألق ، فهذا التصميم سيعكس اختيارك'],\n",
       " ['بارتشن',\n",
       "  '14488,113',\n",
       "  'استغل المساحة الخالية من الجدار واستخدمها لتساعدك في توضيب مقتنياتك التي تحتاجها في الحياة اليومية باستخدامك لوحدة رفوف التي تتيح لك توضيب الكتب والمجلات, الكؤوس والفناجين وغيرها وكذلك يمكنك استخدامها لوضع مقتنيات ذات طابع شخصي كالتحف والديكورات , النبتات , الإضاءات والصور الشخصية.'],\n",
       " ['أرفف',\n",
       "  '14488,113',\n",
       "  'استغل المساحة الخالية من الجدار واستخدمها لتساعدك في توضيب مقتنياتك التي تحتاجها في الحياة اليومية باستخدامك لوحدة رفوف التي تتيح لك توضيب الكتب والمجلات, الكؤوس والفناجين وغيرها وكذلك يمكنك استخدامها لوضع مقتنيات ذات طابع شخصي كالتحف والديكورات , النبتات , الإضاءات والصور الشخصية.'],\n",
       " ['الجدول الديكورات',\n",
       "  '42,48,113',\n",
       "  'أطلق العنان لمخيلتك في تصور الديكور الذي لطالما حلمت به وانطلق لتختار تحفتك الفريدة من بين العديد. اختر ما يناسب ذوقك كاختيار هذه القطعة المميزة '],\n",
       " ['اغطية', 'Do not scrap it ', nan],\n",
       " ['المزهريات والفازات',\n",
       "  '42,43741,113',\n",
       "  'تسوق اجمل تشكيلة من فازة الأكثر مبيعاً بأسعار تنافسية داخل السعودية'],\n",
       " ['ديكورات الحائط',\n",
       "  '42,43504,43527,113',\n",
       "  'ديكور جداري  يمكنه تجميل بيئة المعيشة وخلق جو دافئ ومريح في الأماكن المغلقة. هذا الديكور الجميل والأنيق للحائط هو خيارك الأفضل. نحن نعلم أنك تتطلع إلى إضافة بعض الحياة إلى ديكورك المعتاد ، لذا فإن هذا الفن الجداري هو الملائم المثالي لتحويل غرفة المعيشة الخاصة بك إلى معرض فني خلاب ، فهو يضيف لمسة ساحرة على بيتك و يمكن أن يكون فكرة رائعة لهدية لأصدقائك.'],\n",
       " ['غرفة نوم  ',\n",
       "  '23,43443,113',\n",
       "  'ما أجمل من غرفة نوم أنيقة ذات إحساس دافئ وأجواء مشرقة. ليس ذلك فحسب ، بل إنها مريحة وتعكس أسلوبك'],\n",
       " ['غرف الطعام',\n",
       "  '23,43440,113',\n",
       "  'لأن وقت تناول الوجبات هو الوقت الأهم لتجمع الأسرة ولقضاء الأوقات الجميلة خلال تناول الطعام الشهي نقدم لك طقم طاولة الطعام والكراسي الفاخر. الطقم له تصميم أوروبي عصري يضمن فخامة غرفة الطعام بالإضافة للراحة التامة عند تناوله فالطاولة ذات حجم مناسب لتضمن راحة كل فرد فهي توفر مساحة كافية ومريحة لجميع الكراسي والكراسي مصممة بحيث تضمن راحتك عند الجلوس لفترات طويلة مما يجعلها مناسبة أيضاً لجلسات تدريس أطفالك وحل الواجبات المدرسية وليس فقط لتناول الطعام. الطقم مصنوع من أجود أنواع الخشب وأكثرها متانة وسهل التنظيف.'],\n",
       " ['مكاتب',\n",
       "  '43649,43785,113',\n",
       "  'مكتب كمبيوتر يوفر مساحة تسهل عليك العمل، أو الدراسة أو ممارسة هواياتك ضمن المنزل. مكتب كمبيوتر مصنوع من الخشب العالي الجودة والمصقول ليحقق مقاومة عالية للخدش والصدمات ومقاومة للعوامل الجوية المختلفة. للمكتب رفوف تساعدك في توفير المساحة وتخزين الأدوات والمقتنيات التي تحتاجها عند العمل أو الدراسة قريبة من المتناول. تم تصميم المكتب بعناية واختيار ارتفاعه بشكل مثالي ليضمن راحتك عند الجلوس لساعات طويلة. قوائم المكتب متينة ومتحملة لوزن هيكل المكتب والمقتنيات التي توضع عليه ويسهل تصميمها المتباعد عليك تنظيف الأرضيات تحت المكتب.'],\n",
       " ['الثريات',\n",
       "  '6723,43456,113',\n",
       "  'إضاءة معلقة  ستقوم بتوزيع الإنارة على كامل مساحة الغرفة بشكل متساوٍ ناعم ومريح للعين إلى جانب لمسة الجمال والعصرية التي سيمنحها مظهرها لمنزلك. الإضاءة مناسبة للمطبخ ,غرفة الطعام , غرفة المعيشة وغرفة النوم وكذلك المطاعم والفنادق. سهلة التركيب ثابتة عند التعليق، بحيث تضمن جودة عالية وتشغيل آمن. لمبات الضوء تباع على حدة.'],\n",
       " ['أبجورات أرضية',\n",
       "  '6723,43668,113',\n",
       "  'إذا كنت تريد أن تزيد غرفة المعيشة الخاصة بك توهجا وتألق ، فهذا التصميم سيعكس اختيارك مصباح أرضي'],\n",
       " ['أبجورات',\n",
       "  '6723,6724,113',\n",
       "  'أبجور لإضاءة خافتة مثالية لقراءة الكتب قبل النوم أو للسهرات الهادئة نقدم لك. أبجور مصنوع بمهارة يدوية فائقة من أفضل أنواع المواد. أبجور بتصميم جذاب وراقي يخطف القلوب.'],\n",
       " ['شمعدان الحائط',\n",
       "  '6723,43459,113',\n",
       "  'عززي ديكور الغرفة وأضيفي لمسة من الرقي باستخدامك لأبجورة الجدارية بتصميمها العصري المميز. ستقوم بفضل غطاء المصباح ذو السطح المخروطي بتوزيع الإنارة على كامل مساحة الغرفة بشكل متساوٍ غير متوهج ومريح للعين. الإضاءة مناسبة للمطبخ ,غرفة الطعام , غرفة المعيشة وغرفة النوم وكذلك المكاتب والمطاعم والفنادق. سهلة التركيب ثابتة عند التعليق بفضل الحامل المعدني ذي اللون الذهبي، وهي تضمن جودة عالية وتشغيل آمن لفترات طويلة. لمبات الضوء تباع على حدة.'],\n",
       " ['المنتجات الفاخرة', 'Do not scrap it ', nan],\n",
       " ['كراسي',\n",
       "  '43441,43790,43791,113',\n",
       "  'كرسي بذراعين، مصنوع من أفضل أنواع الجودة، مريح حيث يمكنك أن تجلس وتسترخي أثناء القراءة أو مشاهدة التلفزيون،. ذو تصمبم عصري وعملي يكمل تصميم المناطق الداخلية لغرفة المعيشة.'],\n",
       " ['كنب طاولة',\n",
       "  '43790,24,113',\n",
       "  'كنب انسيابي مع لون متوافق مع العديد من الألوان. لها مظهر أوروربي مع قوائم جذابة. تعطي الوسائد الاضافية المصنوعة من القماش الناعم الحيوية والجمال. تجمع بين التصميم الفريد والعملي بذات الوقت لتمنحك أعلى مستويات الراحة والاسترخاء لتضفي على اجتماعاتك وجلساتك لمسة من الدفء والعصرية.'],\n",
       " ['طاولات الخدمة',\n",
       "  '43798,43526,113',\n",
       "  'طاولة جانبية فخمة تمثل موجة التصاميم العصرية الرائجة لتضفي على المنازل لمسات راقية. تتوافق مع تشكيلات متنوعة من ألوان الأثاث والديكورات. شكلها مثالي لتوفير المساحة ولزيادة جمال الاكسسوارات المنزلية التي يمكنك اختيارها حسب ذوقك. الطاولة مصنعة من خامات عالية الجودة ومتينة مقاومة للخدش والعوامل الجوية المختلفة. مصقولة بعناية لتكون سهلة التنظيف'],\n",
       " ['Bean bags',\n",
       "  '43441,43790,43769,113',\n",
       "  'إذا كنت تريد أن تزيد غرفة المعيشة الخاصة بك توهجا وتألق ، فهذا التصميم سيعكس اختيارك '],\n",
       " ['كرسي chaise',\n",
       "  '43441,43790,43791,113',\n",
       "  'كرسي بذراعين، مصنوع من أفضل أنواع الجودة، مريح حيث يمكنك أن تجلس وتسترخي أثناء القراءة أو مشاهدة التلفزيون،. ذو تصمبم عصري وعملي يكمل تصميم المناطق الداخلية لغرفة المعيشة.'],\n",
       " ['طاولات قهوة',\n",
       "  '23,43798,43525,113',\n",
       "  'تسوق اجمل تشكيلة من طاولة قهوة الأكثر مبيعاً بأسعار تنافسية داخل السعودية'],\n",
       " ['الخزائن الجانبية',\n",
       "  '23,43443,11098,113',\n",
       "  'خزانة جانبية الفخمة والعملية حل مثالي لتوفير المساحة واضفاء لمسة عصرية. يمكنك استخدامها في المطبخ لتخزين أدوات الطبخ والقدور وغيرها وتوفير المساحة. أو يمكنك استخدامها ك ركن قهوة وشاي في زواية غرفة المعيشة. كما يمكنك تزيينها بالاكسسوارات المختلفة واستغلالها لتخزين وعرض بعض التحف والاكسسوارات فهي متعددة الاستخدامات لتوافق حاجتك.'],\n",
       " ['أطقم غرف المعيشة',\n",
       "  '43441,42959,113',\n",
       "  'إذا كنت تريد أن تزيد غرفة المعيشة الخاصة بك توهجا وتألق ، فهذا التصميم سيعكس اختيارك'],\n",
       " ['Lounge Chairs',\n",
       "  '43441,43790,43769,113',\n",
       "  'إذا كنت تريد أن تزيد غرفة المعيشة الخاصة بك توهجا وتألق ، فهذا التصميم سيعكس اختيارك '],\n",
       " ['خزائن وصناديق',\n",
       "  '43507,6711,113',\n",
       "  'خزانة جانبية الفخمة والعملية حل مثالي لتوفير المساحة واضفاء لمسة عصرية. يمكنك استخدامها في المطبخ لتخزين أدوات الطبخ والقدور وغيرها وتوفير المساحة. أو يمكنك استخدامها ك ركن قهوة وشاي في زواية غرفة المعيشة. كما يمكنك تزيينها بالاكسسوارات المختلفة واستغلالها لتخزين وعرض بعض التحف والاكسسوارات فهي متعددة الاستخدامات لتوافق حاجتك.'],\n",
       " ['مقاعد',\n",
       "  '43441,43781,113',\n",
       "  'مقعد مميز بتصميم عصري مصنع من أجود الخامات ليضمن لكم كفاءة عالية طوال فترة الاستعمال.'],\n",
       " ['كرسي استرخاء',\n",
       "  '43441,43790,43769,113',\n",
       "  'إذا كنت تريد أن تزيد غرفة المعيشة الخاصة بك توهجا وتألق ، فهذا التصميم سيعكس اختيارك '],\n",
       " ['كنب زاوية',\n",
       "  '43790,43782,113',\n",
       "  'كنب بتصميم عصري وعملي يحقق راحتك القصوى مع عائلتك وأصدقائك عند السهرات أو مشاهدة التلفزيون والأفلام فهو فخم واقتصادي ومريح. هيكل الكنب مصنوع من هيكل متين ومتحمل للاوزان. حشوات المساند مصنوعة من الاسفنج النقي عالي الجودة لتأخذ شكل الجسم عند الجلوس وتحقق الراحة القصوى. غطاء المساند مصنوع من القماش الناعم بلون جذاب وأنيق. الجزء الطويل يمكنك من الاستلقاء ومشاهدة الأفلام براحة تامة.'],\n",
       " ['طاولات خدمة بعجلات',\n",
       "  '14487,43664,113',\n",
       "  'قم بإحضار الحفلة إلى ضيوفك باستخدام عربة البار الأنيقة والرائعة هذه. يضفي إطار مفتوح من الدعامات المعدنية'],\n",
       " ['كنب',\n",
       "  '43790,24,113',\n",
       "  'كنب انسيابي مع لون متوافق مع العديد من الألوان. لها مظهر أوروربي مع قوائم جذابة. تعطي الوسائد الاضافية المصنوعة من القماش الناعم الحيوية والجمال. تجمع بين التصميم الفريد والعملي بذات الوقت لتمنحك أعلى مستويات الراحة والاسترخاء لتضفي على اجتماعاتك وجلساتك لمسة من الدفء والعصرية.'],\n",
       " ['ينامون أريكة',\n",
       "  '43790,43747,113',\n",
       "  'كنب انسيابي مع لون متوافق مع العديد من الألوان. لها مظهر أوروربي مع قوائم جذابة. تعطي الوسائد الاضافية المصنوعة من القماش الناعم الحيوية والجمال. تجمع بين التصميم الفريد والعملي بذات الوقت لتمنحك أعلى مستويات الراحة والاسترخاء لتضفي على اجتماعاتك وجلساتك لمسة من الدفء والعصرية.'],\n",
       " ['كرسي بلا ظهر أو ذراعين',\n",
       "  '43441,43781,113',\n",
       "  'مقعد مميز بتصميم عصري مصنع من أجود الخامات ليضمن لكم كفاءة عالية طوال فترة الاستعمال.'],\n",
       " ['مجموعات الجدول',\n",
       "  '23,43441,43798,43784,113',\n",
       "  'أجهزة التحكم عن بُعد، المجلات، سلطانيات الفشار... طاولة غرفة الجلوس تحمل الكثير من الأغراض. اختر واحدة صغيرة جميلة أو طاولة بالغة التنظيم بتخزين خفي. في الحالتين، سوف تضفي الطاولة الأناقة على مساحتك. كما يحصل فنجان قهوتك على مكان مخصص جديد ومريح في الاستخدام.'],\n",
       " ['وحدات تلفزيون',\n",
       "  '23,43798,14485,113',\n",
       "  'لقد تقدم العالم بشكل كبير، من وحدات التلفزيون الأبيض والأسود إلى الألعاب، إلى الأفلام عند الطلب والتقنية ثلاثية الأبعاد. لكن شيء واحد لم يتغير - الحاجة إلى حامل أو خزانة لوحدة التلفزيون. تشكيلتنا تساعد في التخلص من الفوضى، وتنظيم الأسلاك والحصول على شكل جميل لكل شيء. حتى يمكنك الاسترخاء والاستمتاع بالتلفزيون، حتى في الأوقات التي لا تشاهده فيها.'],\n",
       " ['مقعد السرير',\n",
       "  '43441,43781,113',\n",
       "  'مقعد مميز بتصميم عصري مصنع من أجود الخامات ليضمن لكم كفاءة عالية طوال فترة الاستعمال.'],\n",
       " ['أطقم غرف النوم',\n",
       "  '43443,43746,113',\n",
       "  'ما أجمل من غرفة نوم أنيقة ذات إحساس دافئ وأجواء مشرقة. ليس ذلك فحسب ، بل إنها مريحة وتعكس أسلوبك'],\n",
       " ['سرير',\n",
       "  '43443,43452,113',\n",
       "  'لا يمكننا ضمان أن تتحقق أحلامك ، ولكن على الأقل يمكننا مساعدتك في الحلم بأناقة.'],\n",
       " ['مجموعات غطاء',\n",
       "  '56,43059,113',\n",
       "  'مفروشات سريرك تعكس الكثير من شخصيتك، سواء كنت تقوم بترتيب سريرك بعد الاستيقاظ من النوم أو لا. مع أغطية الألحف وأكياس الوسائد لدينا، يمكنك الحصول على تصميم بلون سادة أو بنقش مفعم بالمرح.'],\n",
       " ['تسريحة',\n",
       "  '43443,43278,113',\n",
       "  'طاولة زينة متعددة الاستعمالات تصميمها بأسلوب عصري وعملي لتلبي احتياجاتك لتحصلي على إطلالة أنيقة '],\n",
       " ['غرف نوم اطفال',\n",
       "  '43443,43746,113',\n",
       "  'ما أجمل من غرفة نوم أنيقة ذات إحساس دافئ وأجواء مشرقة. ليس ذلك فحسب ، بل إنها مريحة وتعكس أسلوبك'],\n",
       " ['مراتب',\n",
       "  '43443,43776,113',\n",
       "  'النوم الجيد ليلاً سوف يساعدك في الحفاظ على مستويات الطاقة لديك مع اقتراب فصل الخريف. فلماذا لا تشاهد مجموعتنا للحصول على مرتبة توفر الراحة والدعم والثبات الذي تحتاجه؟'],\n",
       " ['طاولات الطعام',\n",
       "  '43798,29637,113',\n",
       "  'لأن وقت تناول الوجبات هو الوقت الأهم لتجمع الأسرة ولقضاء الأوقات الجميلة خلال تناول الطعام الشهي نقدم لك طقم طاولة الطعام والكراسي الفاخر. الطقم له تصميم أوروبي عصري يضمن فخامة غرفة الطعام بالإضافة للراحة التامة عند تناوله فالطاولة ذات حجم مناسب لتضمن راحة كل فرد فهي توفر مساحة كافية ومريحة لجميع الكراسي والكراسي مصممة بحيث تضمن راحتك عند الجلوس لفترات طويلة مما يجعلها مناسبة أيضاً لجلسات تدريس أطفالك وحل الواجبات المدرسية وليس فقط لتناول الطعام. الطقم مصنوع من أجود أنواع الخشب وأكثرها متانة وسهل التنظيف.'],\n",
       " ['خزانة الكتب',\n",
       "  '23,43649,43734,113',\n",
       "  'اذا كنت تملك مجموعة كبيرة من الكتب تعد هذه الخزانة الخيار المثالي لك للحفاظ على كتبك بشكل منظم، حيث تساعدك هذه الخزانة المصنوعة من مواد عالية الجودة في الحفاظ على ترتيب منزلك بشكل انيق، لتتمكن من حفظ وتخزين فئات مختلفة من الكتب بشكل عملي.'],\n",
       " ['خزائن المكتب',\n",
       "  '43649,43803,113',\n",
       "  'اذا كنت تملك مجموعة كبيرة من الكتب تعد هذه الخزانة الخيار المثالي لك للحفاظ على كتبك بشكل منظم، حيث تساعدك هذه الخزانة المصنوعة من مواد عالية الجودة في الحفاظ على ترتيب منزلك بشكل انيق، لتتمكن من حفظ وتخزين فئات مختلفة من الكتب بشكل عملي.'],\n",
       " ['كراسي المكتب',\n",
       "  '43649,43745,113',\n",
       "  'كرسي، مصنوع من منتجات عالية الجودة، مريح حيث يمكنك أن تجلس وتسترخي أثناء القراءة أو تناول الطعام. ذو تصميم عصري وعملي يكمل تصميم المناطق الداخلية لغرفة المعيشة.'],\n",
       " ['طاولات مكتب',\n",
       "  '43649,43735,113',\n",
       "  'مكتب كمبيوتر يوفر مساحة تسهل عليك العمل، أو الدراسة أو ممارسة هواياتك ضمن المنزل. مكتب كمبيوتر مصنوع من الخشب العالي الجودة والمصقول ليحقق مقاومة عالية للخدش والصدمات ومقاومة للعوامل الجوية المختلفة. للمكتب رفوف تساعدك في توفير المساحة وتخزين الأدوات والمقتنيات التي تحتاجها عند العمل أو الدراسة قريبة من المتناول. تم تصميم المكتب بعناية واختيار ارتفاعه بشكل مثالي ليضمن راحتك عند الجلوس لساعات طويلة. قوائم المكتب متينة ومتحملة لوزن هيكل المكتب والمقتنيات التي توضع عليه ويسهل تصميمها المتباعد عليك تنظيف الأرضيات تحت المكتب.'],\n",
       " ['مصابيح المكتب',\n",
       "  '6723,6724,113',\n",
       "  'أبجور لإضاءة خافتة مثالية لقراءة الكتب قبل النوم أو للسهرات الهادئة نقدم لك. أبجور مصنوع بمهارة يدوية فائقة من أفضل أنواع المواد. أبجور بتصميم جذاب وراقي يخطف القلوب.'],\n",
       " ['طاولات سرير جانبية',\n",
       "  '43443,43727,113',\n",
       "  'طاولة جانبية فخمة تمثل موجة التصاميم العصرية الرائجة لتضفي على المنازل لمسات راقية. تتوافق مع تشكيلات متنوعة من ألوان الأثاث والديكورات. شكلها مثالي لتوفير المساحة ولزيادة جمال الاكسسوارات المنزلية التي يمكنك اختيارها حسب ذوقك. الطاولة مصنعة من خامات عالية الجودة ومتينة مقاومة للخدش والعوامل الجوية المختلفة. مصقولة بعناية لتكون سهلة التنظيف'],\n",
       " ['الوسائد',\n",
       "  '43509,43213,113',\n",
       "  'إذا كنت تريد أن تزيد غرفة المعيشة الخاصة بك توهجا وتألق ، فهذا التصميم سيعكس اختيارك وسادة ديكور'],\n",
       " ['دواليب',\n",
       "  '43443,43733,113',\n",
       "  'ماذا تحتاج أكثر من خزانة ملابس أنيقة مع ت أماكن متعددة للتخزين'],\n",
       " ['كرسي طاولة خدمة',\n",
       "  '43440,26,113',\n",
       "  'كرسي، مصنوع من منتجات عالية الجودة، مريح حيث يمكنك أن تجلس وتسترخي أثناء القراءة أو تناول الطعام. ذو تصميم عصري وعملي يكمل تصميم المناطق الداخلية لغرفة المعيشة.'],\n",
       " ['طاولات كاونتر',\n",
       "  '43798,43788,113',\n",
       "  'طاولة جانبية فخمة تمثل موجة التصاميم العصرية الرائجة لتضفي على المنازل لمسات راقية. تتوافق مع تشكيلات متنوعة من ألوان الأثاث والديكورات. شكلها مثالي لتوفير المساحة ولزيادة جمال الاكسسوارات المنزلية التي يمكنك اختيارها حسب ذوقك. الطاولة مصنعة من خامات عالية الجودة ومتينة مقاومة للخدش والعوامل الجوية المختلفة. مصقولة بعناية لتكون سهلة التنظيف'],\n",
       " ['مقاعد الطعام',\n",
       "  '43440,26,113',\n",
       "  'كرسي، مصنوع من منتجات عالية الجودة، مريح حيث يمكنك أن تجلس وتسترخي أثناء القراءة أو تناول الطعام. ذو تصميم عصري وعملي يكمل تصميم المناطق الداخلية لغرفة المعيشة.'],\n",
       " ['كراسي الطعام',\n",
       "  '43440,26,113',\n",
       "  'كرسي، مصنوع من منتجات عالية الجودة، مريح حيث يمكنك أن تجلس وتسترخي أثناء القراءة أو تناول الطعام. ذو تصميم عصري وعملي يكمل تصميم المناطق الداخلية لغرفة المعيشة.'],\n",
       " ['مجموعات غرفة الطعام',\n",
       "  '43440,43740,113',\n",
       "  'لأن وقت تناول الوجبات هو الوقت الأهم لتجمع الأسرة ولقضاء الأوقات الجميلة خلال تناول الطعام الشهي نقدم لك طقم طاولة الطعام والكراسي الفاخر. الطقم له تصميم أوروبي عصري يضمن فخامة غرفة الطعام بالإضافة للراحة التامة عند تناوله فالطاولة ذات حجم مناسب لتضمن راحة كل فرد فهي توفر مساحة كافية ومريحة لجميع الكراسي والكراسي مصممة بحيث تضمن راحتك عند الجلوس لفترات طويلة مما يجعلها مناسبة أيضاً لجلسات تدريس أطفالك وحل الواجبات المدرسية وليس فقط لتناول الطعام. الطقم مصنوع من أجود أنواع الخشب وأكثرها متانة وسهل التنظيف.'],\n",
       " ['اثاث خارجي', '14490,113', nan]]"
      ]
     },
     "execution_count": 100,
     "metadata": {},
     "output_type": "execute_result"
    }
   ],
   "source": [
    "list_cats"
   ]
  },
  {
   "cell_type": "code",
   "execution_count": 102,
   "id": "0715284f",
   "metadata": {},
   "outputs": [
    {
     "data": {
      "text/plain": [
       "'43441,42959,113'"
      ]
     },
     "execution_count": 102,
     "metadata": {},
     "output_type": "execute_result"
    }
   ],
   "source": [
    "list_cats[0][1]"
   ]
  },
  {
   "cell_type": "code",
   "execution_count": null,
   "id": "e25d6b7e",
   "metadata": {},
   "outputs": [],
   "source": []
  },
  {
   "cell_type": "code",
   "execution_count": 105,
   "id": "1c438ccd",
   "metadata": {},
   "outputs": [],
   "source": [
    "for ll in list_cats:\n",
    "    df.loc[df['categories3']== ll[0], 'categories'] = ll[1]"
   ]
  },
  {
   "cell_type": "code",
   "execution_count": null,
   "id": "e28b0559",
   "metadata": {},
   "outputs": [],
   "source": []
  },
  {
   "cell_type": "code",
   "execution_count": 108,
   "id": "2fd94661",
   "metadata": {},
   "outputs": [
    {
     "data": {
      "text/plain": [
       "11226    ألعاب\n",
       "11227    ألعاب\n",
       "11228    ألعاب\n",
       "11229    ألعاب\n",
       "11230    ألعاب\n",
       "11231    ألعاب\n",
       "Name: categories2, dtype: object"
      ]
     },
     "execution_count": 108,
     "metadata": {},
     "output_type": "execute_result"
    }
   ],
   "source": [
    "df.loc[df['categories']=='', 'categories2']"
   ]
  },
  {
   "cell_type": "code",
   "execution_count": 492,
   "id": "8c456e22",
   "metadata": {},
   "outputs": [
    {
     "data": {
      "text/html": [
       "<div>\n",
       "<style scoped>\n",
       "    .dataframe tbody tr th:only-of-type {\n",
       "        vertical-align: middle;\n",
       "    }\n",
       "\n",
       "    .dataframe tbody tr th {\n",
       "        vertical-align: top;\n",
       "    }\n",
       "\n",
       "    .dataframe thead th {\n",
       "        text-align: right;\n",
       "    }\n",
       "</style>\n",
       "<table border=\"1\" class=\"dataframe\">\n",
       "  <thead>\n",
       "    <tr style=\"text-align: right;\">\n",
       "      <th></th>\n",
       "      <th>sku</th>\n",
       "      <th>name</th>\n",
       "      <th>description</th>\n",
       "      <th>short_description</th>\n",
       "      <th>cat</th>\n",
       "    </tr>\n",
       "  </thead>\n",
       "  <tbody>\n",
       "    <tr>\n",
       "      <th>0</th>\n",
       "      <td>DAS-15414</td>\n",
       "      <td>بلمباجو جولد</td>\n",
       "      <td>NaN</td>\n",
       "      <td>NaN</td>\n",
       "      <td></td>\n",
       "    </tr>\n",
       "    <tr>\n",
       "      <th>1</th>\n",
       "      <td>DAS-82640</td>\n",
       "      <td>كرسى مكتب ظهر عالى نوبليزا</td>\n",
       "      <td>NaN</td>\n",
       "      <td>NaN</td>\n",
       "      <td></td>\n",
       "    </tr>\n",
       "    <tr>\n",
       "      <th>2</th>\n",
       "      <td>DAS-19337</td>\n",
       "      <td>انجى</td>\n",
       "      <td>NaN</td>\n",
       "      <td>NaN</td>\n",
       "      <td></td>\n",
       "    </tr>\n",
       "    <tr>\n",
       "      <th>3</th>\n",
       "      <td>DAS-129452</td>\n",
       "      <td>طقم فناجين قهوة 6 قطع فيناتينو</td>\n",
       "      <td>NaN</td>\n",
       "      <td>NaN</td>\n",
       "      <td></td>\n",
       "    </tr>\n",
       "    <tr>\n",
       "      <th>4</th>\n",
       "      <td>DAS-107469</td>\n",
       "      <td>بورتافاليس</td>\n",
       "      <td>NaN</td>\n",
       "      <td>NaN</td>\n",
       "      <td></td>\n",
       "    </tr>\n",
       "    <tr>\n",
       "      <th>...</th>\n",
       "      <td>...</td>\n",
       "      <td>...</td>\n",
       "      <td>...</td>\n",
       "      <td>...</td>\n",
       "      <td>...</td>\n",
       "    </tr>\n",
       "    <tr>\n",
       "      <th>3453</th>\n",
       "      <td>ROG-CVTOP2602</td>\n",
       "      <td>CVTOP2602 لوحة</td>\n",
       "      <td>NaN</td>\n",
       "      <td>NaN</td>\n",
       "      <td></td>\n",
       "    </tr>\n",
       "    <tr>\n",
       "      <th>3454</th>\n",
       "      <td>ROG-T341-9</td>\n",
       "      <td>Ezmonei Lift Top طاولة قهوة</td>\n",
       "      <td>NaN</td>\n",
       "      <td>NaN</td>\n",
       "      <td></td>\n",
       "    </tr>\n",
       "    <tr>\n",
       "      <th>3455</th>\n",
       "      <td>ROG-cas-coctab-001</td>\n",
       "      <td>cas-coctab-001</td>\n",
       "      <td>NaN</td>\n",
       "      <td>NaN</td>\n",
       "      <td></td>\n",
       "    </tr>\n",
       "    <tr>\n",
       "      <th>3456</th>\n",
       "      <td>ROG-D803-01A</td>\n",
       "      <td>Dining Chairكرسي</td>\n",
       "      <td>NaN</td>\n",
       "      <td>NaN</td>\n",
       "      <td></td>\n",
       "    </tr>\n",
       "    <tr>\n",
       "      <th>3457</th>\n",
       "      <td>ROG-M053-017-051</td>\n",
       "      <td>مودرن فيوجن - خزانة بأدراج</td>\n",
       "      <td>NaN</td>\n",
       "      <td>NaN</td>\n",
       "      <td></td>\n",
       "    </tr>\n",
       "  </tbody>\n",
       "</table>\n",
       "<p>3458 rows × 5 columns</p>\n",
       "</div>"
      ],
      "text/plain": [
       "                     sku                            name  description  \\\n",
       "0              DAS-15414                    بلمباجو جولد          NaN   \n",
       "1              DAS-82640      كرسى مكتب ظهر عالى نوبليزا          NaN   \n",
       "2              DAS-19337                            انجى          NaN   \n",
       "3             DAS-129452  طقم فناجين قهوة 6 قطع فيناتينو          NaN   \n",
       "4             DAS-107469                      بورتافاليس          NaN   \n",
       "...                  ...                             ...          ...   \n",
       "3453       ROG-CVTOP2602                  CVTOP2602 لوحة          NaN   \n",
       "3454          ROG-T341-9     Ezmonei Lift Top طاولة قهوة          NaN   \n",
       "3455  ROG-cas-coctab-001                  cas-coctab-001          NaN   \n",
       "3456        ROG-D803-01A                Dining Chairكرسي          NaN   \n",
       "3457    ROG-M053-017-051      مودرن فيوجن - خزانة بأدراج          NaN   \n",
       "\n",
       "      short_description cat  \n",
       "0                   NaN      \n",
       "1                   NaN      \n",
       "2                   NaN      \n",
       "3                   NaN      \n",
       "4                   NaN      \n",
       "...                 ...  ..  \n",
       "3453                NaN      \n",
       "3454                NaN      \n",
       "3455                NaN      \n",
       "3456                NaN      \n",
       "3457                NaN      \n",
       "\n",
       "[3458 rows x 5 columns]"
      ]
     },
     "execution_count": 492,
     "metadata": {},
     "output_type": "execute_result"
    }
   ],
   "source": [
    "list_df.loc[list_df['cat']=='']"
   ]
  },
  {
   "cell_type": "code",
   "execution_count": 491,
   "id": "d21cd6d8",
   "metadata": {},
   "outputs": [
    {
     "data": {
      "text/plain": [
       "Index(['sku', 'name', 'description', 'short_description', 'cat'], dtype='object')"
      ]
     },
     "execution_count": 491,
     "metadata": {},
     "output_type": "execute_result"
    }
   ],
   "source": [
    "list_df.columns"
   ]
  },
  {
   "cell_type": "code",
   "execution_count": 494,
   "id": "a188b2e7",
   "metadata": {},
   "outputs": [
    {
     "data": {
      "text/html": [
       "<div>\n",
       "<style scoped>\n",
       "    .dataframe tbody tr th:only-of-type {\n",
       "        vertical-align: middle;\n",
       "    }\n",
       "\n",
       "    .dataframe tbody tr th {\n",
       "        vertical-align: top;\n",
       "    }\n",
       "\n",
       "    .dataframe thead th {\n",
       "        text-align: right;\n",
       "    }\n",
       "</style>\n",
       "<table border=\"1\" class=\"dataframe\">\n",
       "  <thead>\n",
       "    <tr style=\"text-align: right;\">\n",
       "      <th></th>\n",
       "      <th>sku number only</th>\n",
       "      <th>sku</th>\n",
       "      <th>store_view_code</th>\n",
       "      <th>attribute_set_code</th>\n",
       "      <th>product_websites</th>\n",
       "      <th>name</th>\n",
       "      <th>description</th>\n",
       "      <th>short_description</th>\n",
       "      <th>link_url</th>\n",
       "      <th>categories1</th>\n",
       "      <th>...</th>\n",
       "      <th>thumbnail_image</th>\n",
       "      <th>additional_images</th>\n",
       "      <th>product_online</th>\n",
       "      <th>qty</th>\n",
       "      <th>out_of_stock_qty</th>\n",
       "      <th>allow_backorders</th>\n",
       "      <th>is_in_stock</th>\n",
       "      <th>estimated_delivery_enable</th>\n",
       "      <th>estimated_delivery_text</th>\n",
       "      <th>supplier</th>\n",
       "    </tr>\n",
       "  </thead>\n",
       "  <tbody>\n",
       "    <tr>\n",
       "      <th>1117</th>\n",
       "      <td>CVTOP2602</td>\n",
       "      <td>ROG-CVTOP2602</td>\n",
       "      <td>NaN</td>\n",
       "      <td>Default</td>\n",
       "      <td>base</td>\n",
       "      <td>CVTOP2602</td>\n",
       "      <td>47 X 47-- 100- HAND PAINTED CANVAS</td>\n",
       "      <td>47 X 47-- 100- HAND PAINTED CANVAS</td>\n",
       "      <td>https://www.alrugaibfurniture.com/ar/collectio...</td>\n",
       "      <td>اكسسوارات</td>\n",
       "      <td>...</td>\n",
       "      <td>https://cdn.shopify.com/s/files/1/0773/5495/pr...</td>\n",
       "      <td>NaN</td>\n",
       "      <td>1</td>\n",
       "      <td>0</td>\n",
       "      <td>-5</td>\n",
       "      <td>1</td>\n",
       "      <td>1</td>\n",
       "      <td>Static Text</td>\n",
       "      <td>الوقت المقدر لشحن هذا المنتج أسبوعين</td>\n",
       "      <td>ROG</td>\n",
       "    </tr>\n",
       "  </tbody>\n",
       "</table>\n",
       "<p>1 rows × 41 columns</p>\n",
       "</div>"
      ],
      "text/plain": [
       "     sku number only            sku  store_view_code attribute_set_code  \\\n",
       "1117       CVTOP2602  ROG-CVTOP2602              NaN            Default   \n",
       "\n",
       "     product_websites       name                         description  \\\n",
       "1117             base  CVTOP2602  47 X 47-- 100- HAND PAINTED CANVAS   \n",
       "\n",
       "                       short_description  \\\n",
       "1117  47 X 47-- 100- HAND PAINTED CANVAS   \n",
       "\n",
       "                                               link_url categories1  ...  \\\n",
       "1117  https://www.alrugaibfurniture.com/ar/collectio...   اكسسوارات  ...   \n",
       "\n",
       "                                        thumbnail_image additional_images  \\\n",
       "1117  https://cdn.shopify.com/s/files/1/0773/5495/pr...               NaN   \n",
       "\n",
       "     product_online qty out_of_stock_qty allow_backorders is_in_stock  \\\n",
       "1117              1   0               -5                1           1   \n",
       "\n",
       "     estimated_delivery_enable               estimated_delivery_text  supplier  \n",
       "1117               Static Text  الوقت المقدر لشحن هذا المنتج أسبوعين       ROG  \n",
       "\n",
       "[1 rows x 41 columns]"
      ]
     },
     "execution_count": 494,
     "metadata": {},
     "output_type": "execute_result"
    }
   ],
   "source": [
    "df.loc[df['sku']=='ROG-CVTOP2602']"
   ]
  },
  {
   "cell_type": "code",
   "execution_count": 526,
   "id": "5fd24a1a",
   "metadata": {},
   "outputs": [],
   "source": [
    "list_df.to_excel('updatetoto2.xlsx')"
   ]
  },
  {
   "cell_type": "code",
   "execution_count": 523,
   "id": "a0595d82",
   "metadata": {},
   "outputs": [
    {
     "data": {
      "text/html": [
       "<div>\n",
       "<style scoped>\n",
       "    .dataframe tbody tr th:only-of-type {\n",
       "        vertical-align: middle;\n",
       "    }\n",
       "\n",
       "    .dataframe tbody tr th {\n",
       "        vertical-align: top;\n",
       "    }\n",
       "\n",
       "    .dataframe thead th {\n",
       "        text-align: right;\n",
       "    }\n",
       "</style>\n",
       "<table border=\"1\" class=\"dataframe\">\n",
       "  <thead>\n",
       "    <tr style=\"text-align: right;\">\n",
       "      <th></th>\n",
       "      <th>sku</th>\n",
       "      <th>name</th>\n",
       "      <th>description</th>\n",
       "      <th>short_description</th>\n",
       "      <th>cat</th>\n",
       "    </tr>\n",
       "  </thead>\n",
       "  <tbody>\n",
       "    <tr>\n",
       "      <th>2438</th>\n",
       "      <td>ROG-100087074</td>\n",
       "      <td>Dallaty Vacuum Flask 1 Pieces Pot Either 1L</td>\n",
       "      <td>NaN</td>\n",
       "      <td>NaN</td>\n",
       "      <td></td>\n",
       "    </tr>\n",
       "    <tr>\n",
       "      <th>2961</th>\n",
       "      <td>ROG-100072575</td>\n",
       "      <td>Dallety Plastic Vacuum Flask 1 L</td>\n",
       "      <td>NaN</td>\n",
       "      <td>NaN</td>\n",
       "      <td></td>\n",
       "    </tr>\n",
       "    <tr>\n",
       "      <th>3345</th>\n",
       "      <td>ROG-14156B-UTT</td>\n",
       "      <td>مرآة جدارية بيرغامو</td>\n",
       "      <td>NaN</td>\n",
       "      <td>NaN</td>\n",
       "      <td></td>\n",
       "    </tr>\n",
       "  </tbody>\n",
       "</table>\n",
       "</div>"
      ],
      "text/plain": [
       "                 sku                                         name description  \\\n",
       "2438   ROG-100087074  Dallaty Vacuum Flask 1 Pieces Pot Either 1L         NaN   \n",
       "2961   ROG-100072575             Dallety Plastic Vacuum Flask 1 L         NaN   \n",
       "3345  ROG-14156B-UTT                          مرآة جدارية بيرغامو         NaN   \n",
       "\n",
       "     short_description cat  \n",
       "2438               NaN      \n",
       "2961               NaN      \n",
       "3345               NaN      "
      ]
     },
     "execution_count": 523,
     "metadata": {},
     "output_type": "execute_result"
    }
   ],
   "source": [
    "list_df.loc[list_df['cat']=='']"
   ]
  },
  {
   "cell_type": "code",
   "execution_count": 517,
   "id": "1d966065",
   "metadata": {},
   "outputs": [],
   "source": [
    "df1 = pd.read_excel('/home/wafistos/Documents/Projects/scaping_wafi/scrapingalrugaibfurniture/sub_categories/Rugaib_update_20_08_2021v6.xlsx')"
   ]
  },
  {
   "cell_type": "code",
   "execution_count": 518,
   "id": "2dba9cf7",
   "metadata": {},
   "outputs": [
    {
     "data": {
      "text/plain": [
       "Index(['Unnamed: 0', 'sku', 'store_view_code', 'attribute_set_code',\n",
       "       'product_websites', 'name', 'description', 'short_description',\n",
       "       'link_url', 'categories1', 'categories2', 'categories3', 'categories',\n",
       "       'free_colors', 'ts_dimensions_width', 'ts_dimensions_height',\n",
       "       'ts_dimensions_length', 'mgs_brand', 'url_key', 'cost', 'price',\n",
       "       'special_price', 'visibility', 'product_type', 'tax_class_name',\n",
       "       'manufacturer', 'news_from_date', 'news_to_date', 'base_image',\n",
       "       'small_image', 'swatch_image', 'thumbnail_image', 'additional_images',\n",
       "       'product_online', 'qty', 'out_of_stock_qty', 'allow_backorders',\n",
       "       'is_in_stock', 'estimated_delivery_enable', 'estimated_delivery_text',\n",
       "       'supplier'],\n",
       "      dtype='object')"
      ]
     },
     "execution_count": 518,
     "metadata": {},
     "output_type": "execute_result"
    }
   ],
   "source": [
    "df1.columns"
   ]
  },
  {
   "cell_type": "code",
   "execution_count": 519,
   "id": "708cdd3e",
   "metadata": {},
   "outputs": [],
   "source": [
    "toto_list = []\n",
    "for index, row in df1.iterrows():\n",
    "    toto_list.append([ row['sku'], row['categories']])\n",
    "    "
   ]
  },
  {
   "cell_type": "code",
   "execution_count": null,
   "id": "77c71a27",
   "metadata": {},
   "outputs": [],
   "source": []
  },
  {
   "cell_type": "code",
   "execution_count": 522,
   "id": "290a84a5",
   "metadata": {},
   "outputs": [],
   "source": [
    "for tt in toto_list:\n",
    "    list_df.loc[list_df['sku']==tt[0], 'cat'] = tt[1]"
   ]
  },
  {
   "cell_type": "code",
   "execution_count": 521,
   "id": "ba68caa3",
   "metadata": {},
   "outputs": [
    {
     "data": {
      "text/html": [
       "<div>\n",
       "<style scoped>\n",
       "    .dataframe tbody tr th:only-of-type {\n",
       "        vertical-align: middle;\n",
       "    }\n",
       "\n",
       "    .dataframe tbody tr th {\n",
       "        vertical-align: top;\n",
       "    }\n",
       "\n",
       "    .dataframe thead th {\n",
       "        text-align: right;\n",
       "    }\n",
       "</style>\n",
       "<table border=\"1\" class=\"dataframe\">\n",
       "  <thead>\n",
       "    <tr style=\"text-align: right;\">\n",
       "      <th></th>\n",
       "      <th>sku</th>\n",
       "      <th>name</th>\n",
       "      <th>description</th>\n",
       "      <th>short_description</th>\n",
       "      <th>cat</th>\n",
       "    </tr>\n",
       "  </thead>\n",
       "  <tbody>\n",
       "    <tr>\n",
       "      <th>1366</th>\n",
       "      <td>ROG-B777-46</td>\n",
       "      <td>وحده الادراج</td>\n",
       "      <td>NaN</td>\n",
       "      <td>NaN</td>\n",
       "      <td>43507,6711,113</td>\n",
       "    </tr>\n",
       "    <tr>\n",
       "      <th>1400</th>\n",
       "      <td>ROG-15852-03</td>\n",
       "      <td>116\"h textured olpe vase, black</td>\n",
       "      <td>NaN</td>\n",
       "      <td>NaN</td>\n",
       "      <td>42,43741,113</td>\n",
       "    </tr>\n",
       "    <tr>\n",
       "      <th>1491</th>\n",
       "      <td>ROG-B777-36</td>\n",
       "      <td>مرايا</td>\n",
       "      <td>NaN</td>\n",
       "      <td>NaN</td>\n",
       "      <td>42,14489,113</td>\n",
       "    </tr>\n",
       "    <tr>\n",
       "      <th>1648</th>\n",
       "      <td>ROG-B777-31</td>\n",
       "      <td>Baldridge Home Office Desk Chair</td>\n",
       "      <td>NaN</td>\n",
       "      <td>NaN</td>\n",
       "      <td>43443,43278,113</td>\n",
       "    </tr>\n",
       "    <tr>\n",
       "      <th>1790</th>\n",
       "      <td>ROG-B777-93</td>\n",
       "      <td>كومدينو -B777-93</td>\n",
       "      <td>NaN</td>\n",
       "      <td>NaN</td>\n",
       "      <td>43443,43727,113</td>\n",
       "    </tr>\n",
       "    <tr>\n",
       "      <th>1808</th>\n",
       "      <td>ROG-28260-1-UTT</td>\n",
       "      <td>Higgins Floor Lamp</td>\n",
       "      <td>NaN</td>\n",
       "      <td>NaN</td>\n",
       "      <td>6723,43668,113</td>\n",
       "    </tr>\n",
       "    <tr>\n",
       "      <th>2205</th>\n",
       "      <td>ROG-D120-130</td>\n",
       "      <td>Tall UPH Swivel كرسي مرتفع(2/CN)</td>\n",
       "      <td>NaN</td>\n",
       "      <td>NaN</td>\n",
       "      <td>43440,26,113</td>\n",
       "    </tr>\n",
       "    <tr>\n",
       "      <th>2376</th>\n",
       "      <td>ROG-H741-46</td>\n",
       "      <td>H741-46/49 Luxenford</td>\n",
       "      <td>NaN</td>\n",
       "      <td>NaN</td>\n",
       "      <td>23,43649,43734,113</td>\n",
       "    </tr>\n",
       "    <tr>\n",
       "      <th>2386</th>\n",
       "      <td>ROG-B267-36</td>\n",
       "      <td>مرايا b267-31</td>\n",
       "      <td>NaN</td>\n",
       "      <td>NaN</td>\n",
       "      <td>43443,43278,113</td>\n",
       "    </tr>\n",
       "    <tr>\n",
       "      <th>2438</th>\n",
       "      <td>ROG-100087074</td>\n",
       "      <td>Dallaty Vacuum Flask 1 Pieces Pot Either 1L</td>\n",
       "      <td>NaN</td>\n",
       "      <td>NaN</td>\n",
       "      <td></td>\n",
       "    </tr>\n",
       "    <tr>\n",
       "      <th>2809</th>\n",
       "      <td>ROG-a1000529</td>\n",
       "      <td>Himena Pouf</td>\n",
       "      <td>NaN</td>\n",
       "      <td>NaN</td>\n",
       "      <td>43441,43790,43769,113</td>\n",
       "    </tr>\n",
       "    <tr>\n",
       "      <th>2826</th>\n",
       "      <td>ROG-27845-UTT</td>\n",
       "      <td>مصباح طاولة</td>\n",
       "      <td>NaN</td>\n",
       "      <td>NaN</td>\n",
       "      <td>6723,6724,113</td>\n",
       "    </tr>\n",
       "    <tr>\n",
       "      <th>2853</th>\n",
       "      <td>ROG-B131-21</td>\n",
       "      <td>The Zayley - تسريحة مع مرايا جدارية</td>\n",
       "      <td>NaN</td>\n",
       "      <td>NaN</td>\n",
       "      <td>43443,43278,113</td>\n",
       "    </tr>\n",
       "    <tr>\n",
       "      <th>2961</th>\n",
       "      <td>ROG-100072575</td>\n",
       "      <td>Dallety Plastic Vacuum Flask 1 L</td>\n",
       "      <td>NaN</td>\n",
       "      <td>NaN</td>\n",
       "      <td></td>\n",
       "    </tr>\n",
       "    <tr>\n",
       "      <th>3075</th>\n",
       "      <td>ROG-B508-46</td>\n",
       "      <td>B508-46 Ashley Furniture Timbol - Warm Brown F...</td>\n",
       "      <td>NaN</td>\n",
       "      <td>NaN</td>\n",
       "      <td>43507,6711,113</td>\n",
       "    </tr>\n",
       "    <tr>\n",
       "      <th>3345</th>\n",
       "      <td>ROG-14156B-UTT</td>\n",
       "      <td>مرآة جدارية بيرغامو</td>\n",
       "      <td>NaN</td>\n",
       "      <td>NaN</td>\n",
       "      <td></td>\n",
       "    </tr>\n",
       "  </tbody>\n",
       "</table>\n",
       "</div>"
      ],
      "text/plain": [
       "                  sku                                               name  \\\n",
       "1366      ROG-B777-46                                       وحده الادراج   \n",
       "1400     ROG-15852-03                    116\"h textured olpe vase, black   \n",
       "1491      ROG-B777-36                                              مرايا   \n",
       "1648      ROG-B777-31                   Baldridge Home Office Desk Chair   \n",
       "1790      ROG-B777-93                                   كومدينو -B777-93   \n",
       "1808  ROG-28260-1-UTT                                 Higgins Floor Lamp   \n",
       "2205     ROG-D120-130                   Tall UPH Swivel كرسي مرتفع(2/CN)   \n",
       "2376      ROG-H741-46                               H741-46/49 Luxenford   \n",
       "2386      ROG-B267-36                                      مرايا b267-31   \n",
       "2438    ROG-100087074        Dallaty Vacuum Flask 1 Pieces Pot Either 1L   \n",
       "2809     ROG-a1000529                                        Himena Pouf   \n",
       "2826    ROG-27845-UTT                                        مصباح طاولة   \n",
       "2853      ROG-B131-21                The Zayley - تسريحة مع مرايا جدارية   \n",
       "2961    ROG-100072575                   Dallety Plastic Vacuum Flask 1 L   \n",
       "3075      ROG-B508-46  B508-46 Ashley Furniture Timbol - Warm Brown F...   \n",
       "3345   ROG-14156B-UTT                                مرآة جدارية بيرغامو   \n",
       "\n",
       "     description  short_description                    cat  \n",
       "1366         NaN                NaN         43507,6711,113  \n",
       "1400         NaN                NaN           42,43741,113  \n",
       "1491         NaN                NaN           42,14489,113  \n",
       "1648         NaN                NaN        43443,43278,113  \n",
       "1790         NaN                NaN        43443,43727,113  \n",
       "1808         NaN                NaN         6723,43668,113  \n",
       "2205         NaN                NaN           43440,26,113  \n",
       "2376         NaN                NaN     23,43649,43734,113  \n",
       "2386         NaN                NaN        43443,43278,113  \n",
       "2438         NaN                NaN                         \n",
       "2809         NaN                NaN  43441,43790,43769,113  \n",
       "2826         NaN                NaN          6723,6724,113  \n",
       "2853         NaN                NaN        43443,43278,113  \n",
       "2961         NaN                NaN                         \n",
       "3075         NaN                NaN         43507,6711,113  \n",
       "3345         NaN                NaN                         "
      ]
     },
     "execution_count": 521,
     "metadata": {},
     "output_type": "execute_result"
    }
   ],
   "source": [
    "toto"
   ]
  },
  {
   "cell_type": "code",
   "execution_count": null,
   "id": "336f5620",
   "metadata": {},
   "outputs": [],
   "source": []
  },
  {
   "cell_type": "code",
   "execution_count": null,
   "id": "06f53fac",
   "metadata": {},
   "outputs": [],
   "source": []
  },
  {
   "cell_type": "code",
   "execution_count": null,
   "id": "4a7459b2",
   "metadata": {},
   "outputs": [],
   "source": []
  },
  {
   "cell_type": "code",
   "execution_count": null,
   "id": "30d36adf",
   "metadata": {},
   "outputs": [],
   "source": []
  },
  {
   "cell_type": "code",
   "execution_count": 499,
   "id": "750b95ef",
   "metadata": {},
   "outputs": [],
   "source": [
    "midas_scrap = pd.read_excel('/home/wafistos/Documents/Projects/scaping_wafi/Scraping_Midas/update midas/Midas_update_27_08_2021v3.xlsx')"
   ]
  },
  {
   "cell_type": "code",
   "execution_count": 500,
   "id": "686887ea",
   "metadata": {},
   "outputs": [],
   "source": [
    "list_cats = []\n",
    "for index, row in midas_scrap.iterrows():\n",
    "    list_cats.append([ row['sku'], row['categories']])"
   ]
  },
  {
   "cell_type": "code",
   "execution_count": 501,
   "id": "95eebf88",
   "metadata": {},
   "outputs": [],
   "source": [
    "for ll in list_cats:\n",
    "    list_df.loc[list_df['sku']== ll[0], 'cat'] = ll[1]"
   ]
  },
  {
   "cell_type": "code",
   "execution_count": 507,
   "id": "411e4b6c",
   "metadata": {},
   "outputs": [
    {
     "data": {
      "text/plain": [
       "[['  غرفة المعيشة ',\n",
       "  '43441,42959,113',\n",
       "  'لكي نضمن راحتكم ولتوفير كافة مستلزمات غرفة المعيشة مع اختصار الوقت اللازم للبحث عنها في أماكن متفرقة وتجميع قطع الأثاث قام مصممو وفنانو بيتونيا بتحضير أفخم غرف المعيشة المميزة لكم والمتناسبة مع تشكيلة واسعة من تصاميم المنازل العصرية. القطع منتقاة بعناية وكلها مصنوعة من مواد عالية الجودة, مقاومة ومتينة.'],\n",
       " ['حامل شمعة',\n",
       "  '43816,43,113',\n",
       "  '        مصمم بأناقة لينمزج جيداً مع المكونات الداخلية للغرفة. مصنوعة من مواد فائقة الجودة لتعزيز المتانة وزجاج ذات ظلال متداخلة مزدوجة لتوفر كلاً من اللون والملمس'],\n",
       " ['شموع',\n",
       "  '43816,43506,113',\n",
       "  'شموع فاخرة تضفي على أمسياتك لمية من الدفء والشاعرية وتمنحك ساعات من الاسترخاء على ضوءها الخافت بعد ساعات من العمل الطويل الشاق. مثالية لعشاء رومانسي على ضوء الشموع أو لإضاءة خافتة في المناسبات الخاصة تخلق جوا عاما مفعما بالدفء والجمال.'],\n",
       " ['الساعات',\n",
       "  '42,43504,51,113',\n",
       "  'إذا كنت تريد أن تزيد غرفة المعيشة الخاصة بك توهجا وتألق ، فهذا التصميم سيعكس اختيارك ساعة حائط بيرام ساعة'],\n",
       " ['وسائد',\n",
       "  '43509,43213,113',\n",
       "  'إذا كنت تريد أن تزيد غرفة المعيشة الخاصة بك توهجا وتألق ، فهذا التصميم سيعكس اختيارك وسادة ديكور'],\n",
       " ['اغطية الوسائد',\n",
       "  '43509,43213,113',\n",
       "  'إذا كنت تريد أن تزيد غرفة المعيشة الخاصة بك توهجا وتألق ، فهذا التصميم سيعكس اختيارك وسادة ديكور'],\n",
       " ['معطرات غرفة',\n",
       "  '43816,43619,113',\n",
       "  'لان أناقة منزلك لا تكتمل إلى بلمسات عطرة تفوح من كل ركن وزاوية من المنزل اخترنا لك في بيتونيا مجموعة معطرات المنزل المتكاملة ذات التراكيز العالية تتيح لك المجموعة عدة خيارات لتعطير الجو والمنسوجات والبياضات كافة لتضفي أجواءً من السكينة والراحة لساعات طويلة، وتعطي أجواءً منعشة لأفراد الأسرة.'],\n",
       " ['الديكورات الأرضية',\n",
       "  '42,43994,113',\n",
       "  'أطلق العنان لمخيلتك في تصور الديكور الذي لطالما حلمت به وانطلق لتختار تحفتك الفريدة من بين العديد. اختر ما يناسب ذوقك كاختيارهذه القطعة المميزة'],\n",
       " ['اكسسوارات المطبخ', 'Do not scrap it ', nan],\n",
       " ['المرايا',\n",
       "  '42,14489,113',\n",
       "  'تعتبر المرايا أكثر من مجرد أداة مفيدة لملاحظة تسريحة شعرك. مع إطاراتها وأشكالها المميزة، يمكن أن تعزز شكل ديكور منزلك. المرايا الحائطية الكبيرة، أو المرايا الصغيرة المجمعة معاً تجعل الغرفة تبدو أكثر إشراقاً وأكبر حجماً.'],\n",
       " ['اللوحات والصور',\n",
       "  '42,53,113',\n",
       "  'قم بإضفاء لمستك الشخصية على جدران المنزل بتزينها باللوحات الموافقة لذوقك والعصرية. تعطي الحيوية والدفء للغرفة بسبب ألوانها المنتقاة بعناية لتريح الناظر إليها وتبرز جمال أي حائط. '],\n",
       " ['سجاد',\n",
       "  115113,\n",
       "  'سجاد أنيق بألوان ساحرة تضفي على الأرضيات نعومة ودفء مثاليين. سماكة السجاد مناسبة وثابتة مع الزمن والألوان لا تبهت بتأثير التنظيف أو العوامل الجوية. السجاد ثابت على الأرضيات, قوي ومرن, غير مسبب للحساسية. يمكن تنظيفه بسهولة من السوائل والأتربة فهي لا تبقى عالقة عليه.'],\n",
       " ['إطارات الصور',\n",
       "  '43743,113',\n",
       "  'إذا كنت تريد أن تزيد غرفة المعيشة الخاصة بك توهجا وتألق ، فهذا التصميم سيعكس اختيارك'],\n",
       " ['النباتات',\n",
       "  '42,44,113',\n",
       "  'ليست مجرد زهور صناعية إنها تحفة فنية مفعمة بالجمال وروح الطبيعة لا تذبل أبداً وتبدو نضرة مع مرور السنين لتزيد ديكور منزلك إشراقاً وألقاً. قم بوضعها في أي مكان من المنزل في غرفة المعيشة, المدخل المكتب وغرفة النوم لتشغل أي مساحة فارغة من الطاولة أو الرفوف وتضيف عليها لمسة من الأناقة والرقي. تعد هدية مناسبة للأصدقاء تناسب أصحاب الذوق الرفيع.'],\n",
       " ['بوفس',\n",
       "  '43441,43790,43769,113',\n",
       "  'إذا كنت تريد أن تزيد غرفة المعيشة الخاصة بك توهجا وتألق ، فهذا التصميم سيعكس اختيارك'],\n",
       " ['بارتشن',\n",
       "  '14488,113',\n",
       "  'استغل المساحة الخالية من الجدار واستخدمها لتساعدك في توضيب مقتنياتك التي تحتاجها في الحياة اليومية باستخدامك لوحدة رفوف التي تتيح لك توضيب الكتب والمجلات, الكؤوس والفناجين وغيرها وكذلك يمكنك استخدامها لوضع مقتنيات ذات طابع شخصي كالتحف والديكورات , النبتات , الإضاءات والصور الشخصية.'],\n",
       " ['أرفف',\n",
       "  '14488,113',\n",
       "  'استغل المساحة الخالية من الجدار واستخدمها لتساعدك في توضيب مقتنياتك التي تحتاجها في الحياة اليومية باستخدامك لوحدة رفوف التي تتيح لك توضيب الكتب والمجلات, الكؤوس والفناجين وغيرها وكذلك يمكنك استخدامها لوضع مقتنيات ذات طابع شخصي كالتحف والديكورات , النبتات , الإضاءات والصور الشخصية.'],\n",
       " ['الجدول الديكورات',\n",
       "  '42,48,113',\n",
       "  'أطلق العنان لمخيلتك في تصور الديكور الذي لطالما حلمت به وانطلق لتختار تحفتك الفريدة من بين العديد. اختر ما يناسب ذوقك كاختيار هذه القطعة المميزة '],\n",
       " ['اغطية', 'Do not scrap it ', nan],\n",
       " ['المزهريات والفازات',\n",
       "  '42,43741,113',\n",
       "  'تسوق اجمل تشكيلة من فازة الأكثر مبيعاً بأسعار تنافسية داخل السعودية'],\n",
       " ['ديكورات الحائط',\n",
       "  '42,43504,43527,113',\n",
       "  'ديكور جداري  يمكنه تجميل بيئة المعيشة وخلق جو دافئ ومريح في الأماكن المغلقة. هذا الديكور الجميل والأنيق للحائط هو خيارك الأفضل. نحن نعلم أنك تتطلع إلى إضافة بعض الحياة إلى ديكورك المعتاد ، لذا فإن هذا الفن الجداري هو الملائم المثالي لتحويل غرفة المعيشة الخاصة بك إلى معرض فني خلاب ، فهو يضيف لمسة ساحرة على بيتك و يمكن أن يكون فكرة رائعة لهدية لأصدقائك.'],\n",
       " ['غرفة نوم  ',\n",
       "  '23,43443,113',\n",
       "  'ما أجمل من غرفة نوم أنيقة ذات إحساس دافئ وأجواء مشرقة. ليس ذلك فحسب ، بل إنها مريحة وتعكس أسلوبك'],\n",
       " ['غرف الطعام',\n",
       "  '23,43440,113',\n",
       "  'لأن وقت تناول الوجبات هو الوقت الأهم لتجمع الأسرة ولقضاء الأوقات الجميلة خلال تناول الطعام الشهي نقدم لك طقم طاولة الطعام والكراسي الفاخر. الطقم له تصميم أوروبي عصري يضمن فخامة غرفة الطعام بالإضافة للراحة التامة عند تناوله فالطاولة ذات حجم مناسب لتضمن راحة كل فرد فهي توفر مساحة كافية ومريحة لجميع الكراسي والكراسي مصممة بحيث تضمن راحتك عند الجلوس لفترات طويلة مما يجعلها مناسبة أيضاً لجلسات تدريس أطفالك وحل الواجبات المدرسية وليس فقط لتناول الطعام. الطقم مصنوع من أجود أنواع الخشب وأكثرها متانة وسهل التنظيف.'],\n",
       " ['مكاتب',\n",
       "  '43649,43785,113',\n",
       "  'مكتب كمبيوتر يوفر مساحة تسهل عليك العمل، أو الدراسة أو ممارسة هواياتك ضمن المنزل. مكتب كمبيوتر مصنوع من الخشب العالي الجودة والمصقول ليحقق مقاومة عالية للخدش والصدمات ومقاومة للعوامل الجوية المختلفة. للمكتب رفوف تساعدك في توفير المساحة وتخزين الأدوات والمقتنيات التي تحتاجها عند العمل أو الدراسة قريبة من المتناول. تم تصميم المكتب بعناية واختيار ارتفاعه بشكل مثالي ليضمن راحتك عند الجلوس لساعات طويلة. قوائم المكتب متينة ومتحملة لوزن هيكل المكتب والمقتنيات التي توضع عليه ويسهل تصميمها المتباعد عليك تنظيف الأرضيات تحت المكتب.'],\n",
       " ['الثريات',\n",
       "  '6723,43456,113',\n",
       "  'إضاءة معلقة  ستقوم بتوزيع الإنارة على كامل مساحة الغرفة بشكل متساوٍ ناعم ومريح للعين إلى جانب لمسة الجمال والعصرية التي سيمنحها مظهرها لمنزلك. الإضاءة مناسبة للمطبخ ,غرفة الطعام , غرفة المعيشة وغرفة النوم وكذلك المطاعم والفنادق. سهلة التركيب ثابتة عند التعليق، بحيث تضمن جودة عالية وتشغيل آمن. لمبات الضوء تباع على حدة.'],\n",
       " ['أبجورات أرضية',\n",
       "  '6723,43668,113',\n",
       "  'إذا كنت تريد أن تزيد غرفة المعيشة الخاصة بك توهجا وتألق ، فهذا التصميم سيعكس اختيارك مصباح أرضي'],\n",
       " ['أبجورات',\n",
       "  '6723,6724,113',\n",
       "  'أبجور لإضاءة خافتة مثالية لقراءة الكتب قبل النوم أو للسهرات الهادئة نقدم لك. أبجور مصنوع بمهارة يدوية فائقة من أفضل أنواع المواد. أبجور بتصميم جذاب وراقي يخطف القلوب.'],\n",
       " ['شمعدان الحائط',\n",
       "  '6723,43459,113',\n",
       "  'عززي ديكور الغرفة وأضيفي لمسة من الرقي باستخدامك لأبجورة الجدارية بتصميمها العصري المميز. ستقوم بفضل غطاء المصباح ذو السطح المخروطي بتوزيع الإنارة على كامل مساحة الغرفة بشكل متساوٍ غير متوهج ومريح للعين. الإضاءة مناسبة للمطبخ ,غرفة الطعام , غرفة المعيشة وغرفة النوم وكذلك المكاتب والمطاعم والفنادق. سهلة التركيب ثابتة عند التعليق بفضل الحامل المعدني ذي اللون الذهبي، وهي تضمن جودة عالية وتشغيل آمن لفترات طويلة. لمبات الضوء تباع على حدة.'],\n",
       " ['المنتجات الفاخرة', 'Do not scrap it ', nan],\n",
       " ['كراسي',\n",
       "  '43441,43790,43791,113',\n",
       "  'كرسي بذراعين، مصنوع من أفضل أنواع الجودة، مريح حيث يمكنك أن تجلس وتسترخي أثناء القراءة أو مشاهدة التلفزيون،. ذو تصمبم عصري وعملي يكمل تصميم المناطق الداخلية لغرفة المعيشة.'],\n",
       " ['كنب طاولة',\n",
       "  '43790,24,113',\n",
       "  'كنب انسيابي مع لون متوافق مع العديد من الألوان. لها مظهر أوروربي مع قوائم جذابة. تعطي الوسائد الاضافية المصنوعة من القماش الناعم الحيوية والجمال. تجمع بين التصميم الفريد والعملي بذات الوقت لتمنحك أعلى مستويات الراحة والاسترخاء لتضفي على اجتماعاتك وجلساتك لمسة من الدفء والعصرية.'],\n",
       " ['طاولات الخدمة',\n",
       "  '43798,43526,113',\n",
       "  'طاولة جانبية فخمة تمثل موجة التصاميم العصرية الرائجة لتضفي على المنازل لمسات راقية. تتوافق مع تشكيلات متنوعة من ألوان الأثاث والديكورات. شكلها مثالي لتوفير المساحة ولزيادة جمال الاكسسوارات المنزلية التي يمكنك اختيارها حسب ذوقك. الطاولة مصنعة من خامات عالية الجودة ومتينة مقاومة للخدش والعوامل الجوية المختلفة. مصقولة بعناية لتكون سهلة التنظيف'],\n",
       " ['Bean bags',\n",
       "  '43441,43790,43769,113',\n",
       "  'إذا كنت تريد أن تزيد غرفة المعيشة الخاصة بك توهجا وتألق ، فهذا التصميم سيعكس اختيارك '],\n",
       " ['كرسي chaise',\n",
       "  '43441,43790,43791,113',\n",
       "  'كرسي بذراعين، مصنوع من أفضل أنواع الجودة، مريح حيث يمكنك أن تجلس وتسترخي أثناء القراءة أو مشاهدة التلفزيون،. ذو تصمبم عصري وعملي يكمل تصميم المناطق الداخلية لغرفة المعيشة.'],\n",
       " ['طاولات قهوة',\n",
       "  '23,43798,43525,113',\n",
       "  'تسوق اجمل تشكيلة من طاولة قهوة الأكثر مبيعاً بأسعار تنافسية داخل السعودية'],\n",
       " ['الخزائن الجانبية',\n",
       "  '23,43443,11098,113',\n",
       "  'خزانة جانبية الفخمة والعملية حل مثالي لتوفير المساحة واضفاء لمسة عصرية. يمكنك استخدامها في المطبخ لتخزين أدوات الطبخ والقدور وغيرها وتوفير المساحة. أو يمكنك استخدامها ك ركن قهوة وشاي في زواية غرفة المعيشة. كما يمكنك تزيينها بالاكسسوارات المختلفة واستغلالها لتخزين وعرض بعض التحف والاكسسوارات فهي متعددة الاستخدامات لتوافق حاجتك.'],\n",
       " ['أطقم غرف المعيشة',\n",
       "  '43441,42959,113',\n",
       "  'إذا كنت تريد أن تزيد غرفة المعيشة الخاصة بك توهجا وتألق ، فهذا التصميم سيعكس اختيارك'],\n",
       " ['Lounge Chairs',\n",
       "  '43441,43790,43769,113',\n",
       "  'إذا كنت تريد أن تزيد غرفة المعيشة الخاصة بك توهجا وتألق ، فهذا التصميم سيعكس اختيارك '],\n",
       " ['خزائن وصناديق',\n",
       "  '43507,6711,113',\n",
       "  'خزانة جانبية الفخمة والعملية حل مثالي لتوفير المساحة واضفاء لمسة عصرية. يمكنك استخدامها في المطبخ لتخزين أدوات الطبخ والقدور وغيرها وتوفير المساحة. أو يمكنك استخدامها ك ركن قهوة وشاي في زواية غرفة المعيشة. كما يمكنك تزيينها بالاكسسوارات المختلفة واستغلالها لتخزين وعرض بعض التحف والاكسسوارات فهي متعددة الاستخدامات لتوافق حاجتك.'],\n",
       " ['مقاعد',\n",
       "  '43441,43781,113',\n",
       "  'مقعد مميز بتصميم عصري مصنع من أجود الخامات ليضمن لكم كفاءة عالية طوال فترة الاستعمال.'],\n",
       " ['كرسي استرخاء',\n",
       "  '43441,43790,43769,113',\n",
       "  'إذا كنت تريد أن تزيد غرفة المعيشة الخاصة بك توهجا وتألق ، فهذا التصميم سيعكس اختيارك '],\n",
       " ['كنب زاوية',\n",
       "  '43790,43782,113',\n",
       "  'كنب بتصميم عصري وعملي يحقق راحتك القصوى مع عائلتك وأصدقائك عند السهرات أو مشاهدة التلفزيون والأفلام فهو فخم واقتصادي ومريح. هيكل الكنب مصنوع من هيكل متين ومتحمل للاوزان. حشوات المساند مصنوعة من الاسفنج النقي عالي الجودة لتأخذ شكل الجسم عند الجلوس وتحقق الراحة القصوى. غطاء المساند مصنوع من القماش الناعم بلون جذاب وأنيق. الجزء الطويل يمكنك من الاستلقاء ومشاهدة الأفلام براحة تامة.'],\n",
       " ['طاولات خدمة بعجلات',\n",
       "  '14487,43664,113',\n",
       "  'قم بإحضار الحفلة إلى ضيوفك باستخدام عربة البار الأنيقة والرائعة هذه. يضفي إطار مفتوح من الدعامات المعدنية'],\n",
       " ['كنب',\n",
       "  '43790,24,113',\n",
       "  'كنب انسيابي مع لون متوافق مع العديد من الألوان. لها مظهر أوروربي مع قوائم جذابة. تعطي الوسائد الاضافية المصنوعة من القماش الناعم الحيوية والجمال. تجمع بين التصميم الفريد والعملي بذات الوقت لتمنحك أعلى مستويات الراحة والاسترخاء لتضفي على اجتماعاتك وجلساتك لمسة من الدفء والعصرية.'],\n",
       " ['ينامون أريكة',\n",
       "  '43790,43747,113',\n",
       "  'كنب انسيابي مع لون متوافق مع العديد من الألوان. لها مظهر أوروربي مع قوائم جذابة. تعطي الوسائد الاضافية المصنوعة من القماش الناعم الحيوية والجمال. تجمع بين التصميم الفريد والعملي بذات الوقت لتمنحك أعلى مستويات الراحة والاسترخاء لتضفي على اجتماعاتك وجلساتك لمسة من الدفء والعصرية.'],\n",
       " ['كرسي بلا ظهر أو ذراعين',\n",
       "  '43441,43781,113',\n",
       "  'مقعد مميز بتصميم عصري مصنع من أجود الخامات ليضمن لكم كفاءة عالية طوال فترة الاستعمال.'],\n",
       " ['مجموعات الجدول',\n",
       "  '23,43441,43798,43784,113',\n",
       "  'أجهزة التحكم عن بُعد، المجلات، سلطانيات الفشار... طاولة غرفة الجلوس تحمل الكثير من الأغراض. اختر واحدة صغيرة جميلة أو طاولة بالغة التنظيم بتخزين خفي. في الحالتين، سوف تضفي الطاولة الأناقة على مساحتك. كما يحصل فنجان قهوتك على مكان مخصص جديد ومريح في الاستخدام.'],\n",
       " ['وحدات تلفزيون',\n",
       "  '23,43798,14485,113',\n",
       "  'لقد تقدم العالم بشكل كبير، من وحدات التلفزيون الأبيض والأسود إلى الألعاب، إلى الأفلام عند الطلب والتقنية ثلاثية الأبعاد. لكن شيء واحد لم يتغير - الحاجة إلى حامل أو خزانة لوحدة التلفزيون. تشكيلتنا تساعد في التخلص من الفوضى، وتنظيم الأسلاك والحصول على شكل جميل لكل شيء. حتى يمكنك الاسترخاء والاستمتاع بالتلفزيون، حتى في الأوقات التي لا تشاهده فيها.'],\n",
       " ['مقعد السرير',\n",
       "  '43441,43781,113',\n",
       "  'مقعد مميز بتصميم عصري مصنع من أجود الخامات ليضمن لكم كفاءة عالية طوال فترة الاستعمال.'],\n",
       " ['أطقم غرف النوم',\n",
       "  '43443,43746,113',\n",
       "  'ما أجمل من غرفة نوم أنيقة ذات إحساس دافئ وأجواء مشرقة. ليس ذلك فحسب ، بل إنها مريحة وتعكس أسلوبك'],\n",
       " ['سرير',\n",
       "  '43443,43452,113',\n",
       "  'لا يمكننا ضمان أن تتحقق أحلامك ، ولكن على الأقل يمكننا مساعدتك في الحلم بأناقة.'],\n",
       " ['مجموعات غطاء',\n",
       "  '56,43059,113',\n",
       "  'مفروشات سريرك تعكس الكثير من شخصيتك، سواء كنت تقوم بترتيب سريرك بعد الاستيقاظ من النوم أو لا. مع أغطية الألحف وأكياس الوسائد لدينا، يمكنك الحصول على تصميم بلون سادة أو بنقش مفعم بالمرح.'],\n",
       " ['تسريحة',\n",
       "  '43443,43278,113',\n",
       "  'طاولة زينة متعددة الاستعمالات تصميمها بأسلوب عصري وعملي لتلبي احتياجاتك لتحصلي على إطلالة أنيقة '],\n",
       " ['غرف نوم اطفال',\n",
       "  '43443,43746,113',\n",
       "  'ما أجمل من غرفة نوم أنيقة ذات إحساس دافئ وأجواء مشرقة. ليس ذلك فحسب ، بل إنها مريحة وتعكس أسلوبك'],\n",
       " ['مراتب',\n",
       "  '43443,43776,113',\n",
       "  'النوم الجيد ليلاً سوف يساعدك في الحفاظ على مستويات الطاقة لديك مع اقتراب فصل الخريف. فلماذا لا تشاهد مجموعتنا للحصول على مرتبة توفر الراحة والدعم والثبات الذي تحتاجه؟'],\n",
       " ['طاولات الطعام',\n",
       "  '43798,29637,113',\n",
       "  'لأن وقت تناول الوجبات هو الوقت الأهم لتجمع الأسرة ولقضاء الأوقات الجميلة خلال تناول الطعام الشهي نقدم لك طقم طاولة الطعام والكراسي الفاخر. الطقم له تصميم أوروبي عصري يضمن فخامة غرفة الطعام بالإضافة للراحة التامة عند تناوله فالطاولة ذات حجم مناسب لتضمن راحة كل فرد فهي توفر مساحة كافية ومريحة لجميع الكراسي والكراسي مصممة بحيث تضمن راحتك عند الجلوس لفترات طويلة مما يجعلها مناسبة أيضاً لجلسات تدريس أطفالك وحل الواجبات المدرسية وليس فقط لتناول الطعام. الطقم مصنوع من أجود أنواع الخشب وأكثرها متانة وسهل التنظيف.'],\n",
       " ['خزانة الكتب',\n",
       "  '23,43649,43734,113',\n",
       "  'اذا كنت تملك مجموعة كبيرة من الكتب تعد هذه الخزانة الخيار المثالي لك للحفاظ على كتبك بشكل منظم، حيث تساعدك هذه الخزانة المصنوعة من مواد عالية الجودة في الحفاظ على ترتيب منزلك بشكل انيق، لتتمكن من حفظ وتخزين فئات مختلفة من الكتب بشكل عملي.'],\n",
       " ['خزائن المكتب',\n",
       "  '43649,43803,113',\n",
       "  'اذا كنت تملك مجموعة كبيرة من الكتب تعد هذه الخزانة الخيار المثالي لك للحفاظ على كتبك بشكل منظم، حيث تساعدك هذه الخزانة المصنوعة من مواد عالية الجودة في الحفاظ على ترتيب منزلك بشكل انيق، لتتمكن من حفظ وتخزين فئات مختلفة من الكتب بشكل عملي.'],\n",
       " ['كراسي المكتب',\n",
       "  '43649,43745,113',\n",
       "  'كرسي، مصنوع من منتجات عالية الجودة، مريح حيث يمكنك أن تجلس وتسترخي أثناء القراءة أو تناول الطعام. ذو تصميم عصري وعملي يكمل تصميم المناطق الداخلية لغرفة المعيشة.'],\n",
       " ['طاولات مكتب',\n",
       "  '43649,43735,113',\n",
       "  'مكتب كمبيوتر يوفر مساحة تسهل عليك العمل، أو الدراسة أو ممارسة هواياتك ضمن المنزل. مكتب كمبيوتر مصنوع من الخشب العالي الجودة والمصقول ليحقق مقاومة عالية للخدش والصدمات ومقاومة للعوامل الجوية المختلفة. للمكتب رفوف تساعدك في توفير المساحة وتخزين الأدوات والمقتنيات التي تحتاجها عند العمل أو الدراسة قريبة من المتناول. تم تصميم المكتب بعناية واختيار ارتفاعه بشكل مثالي ليضمن راحتك عند الجلوس لساعات طويلة. قوائم المكتب متينة ومتحملة لوزن هيكل المكتب والمقتنيات التي توضع عليه ويسهل تصميمها المتباعد عليك تنظيف الأرضيات تحت المكتب.'],\n",
       " ['مصابيح المكتب',\n",
       "  '6723,6724,113',\n",
       "  'أبجور لإضاءة خافتة مثالية لقراءة الكتب قبل النوم أو للسهرات الهادئة نقدم لك. أبجور مصنوع بمهارة يدوية فائقة من أفضل أنواع المواد. أبجور بتصميم جذاب وراقي يخطف القلوب.'],\n",
       " ['طاولات سرير جانبية',\n",
       "  '43443,43727,113',\n",
       "  'طاولة جانبية فخمة تمثل موجة التصاميم العصرية الرائجة لتضفي على المنازل لمسات راقية. تتوافق مع تشكيلات متنوعة من ألوان الأثاث والديكورات. شكلها مثالي لتوفير المساحة ولزيادة جمال الاكسسوارات المنزلية التي يمكنك اختيارها حسب ذوقك. الطاولة مصنعة من خامات عالية الجودة ومتينة مقاومة للخدش والعوامل الجوية المختلفة. مصقولة بعناية لتكون سهلة التنظيف'],\n",
       " ['الوسائد',\n",
       "  '43509,43213,113',\n",
       "  'إذا كنت تريد أن تزيد غرفة المعيشة الخاصة بك توهجا وتألق ، فهذا التصميم سيعكس اختيارك وسادة ديكور'],\n",
       " ['دواليب',\n",
       "  '43443,43733,113',\n",
       "  'ماذا تحتاج أكثر من خزانة ملابس أنيقة مع ت أماكن متعددة للتخزين'],\n",
       " ['كرسي طاولة خدمة',\n",
       "  '43440,26,113',\n",
       "  'كرسي، مصنوع من منتجات عالية الجودة، مريح حيث يمكنك أن تجلس وتسترخي أثناء القراءة أو تناول الطعام. ذو تصميم عصري وعملي يكمل تصميم المناطق الداخلية لغرفة المعيشة.'],\n",
       " ['طاولات كاونتر',\n",
       "  '43798,43788,113',\n",
       "  'طاولة جانبية فخمة تمثل موجة التصاميم العصرية الرائجة لتضفي على المنازل لمسات راقية. تتوافق مع تشكيلات متنوعة من ألوان الأثاث والديكورات. شكلها مثالي لتوفير المساحة ولزيادة جمال الاكسسوارات المنزلية التي يمكنك اختيارها حسب ذوقك. الطاولة مصنعة من خامات عالية الجودة ومتينة مقاومة للخدش والعوامل الجوية المختلفة. مصقولة بعناية لتكون سهلة التنظيف'],\n",
       " ['مقاعد الطعام',\n",
       "  '43440,26,113',\n",
       "  'كرسي، مصنوع من منتجات عالية الجودة، مريح حيث يمكنك أن تجلس وتسترخي أثناء القراءة أو تناول الطعام. ذو تصميم عصري وعملي يكمل تصميم المناطق الداخلية لغرفة المعيشة.'],\n",
       " ['كراسي الطعام',\n",
       "  '43440,26,113',\n",
       "  'كرسي، مصنوع من منتجات عالية الجودة، مريح حيث يمكنك أن تجلس وتسترخي أثناء القراءة أو تناول الطعام. ذو تصميم عصري وعملي يكمل تصميم المناطق الداخلية لغرفة المعيشة.'],\n",
       " ['مجموعات غرفة الطعام',\n",
       "  '43440,43740,113',\n",
       "  'لأن وقت تناول الوجبات هو الوقت الأهم لتجمع الأسرة ولقضاء الأوقات الجميلة خلال تناول الطعام الشهي نقدم لك طقم طاولة الطعام والكراسي الفاخر. الطقم له تصميم أوروبي عصري يضمن فخامة غرفة الطعام بالإضافة للراحة التامة عند تناوله فالطاولة ذات حجم مناسب لتضمن راحة كل فرد فهي توفر مساحة كافية ومريحة لجميع الكراسي والكراسي مصممة بحيث تضمن راحتك عند الجلوس لفترات طويلة مما يجعلها مناسبة أيضاً لجلسات تدريس أطفالك وحل الواجبات المدرسية وليس فقط لتناول الطعام. الطقم مصنوع من أجود أنواع الخشب وأكثرها متانة وسهل التنظيف.'],\n",
       " ['اثاث خارجي', '14490,113', nan]]"
      ]
     },
     "execution_count": 507,
     "metadata": {},
     "output_type": "execute_result"
    }
   ],
   "source": [
    "list_cats"
   ]
  },
  {
   "cell_type": "code",
   "execution_count": 525,
   "id": "7e989ba2",
   "metadata": {},
   "outputs": [],
   "source": [
    "for ll in list_cats:\n",
    "    \n",
    "    list_df.loc[list_df['cat'] == ll[1] , 'short_description'] = ll[2]"
   ]
  },
  {
   "cell_type": "code",
   "execution_count": null,
   "id": "7f15038a",
   "metadata": {},
   "outputs": [],
   "source": [
    "list_df"
   ]
  },
  {
   "cell_type": "code",
   "execution_count": null,
   "id": "0756dd6f",
   "metadata": {},
   "outputs": [],
   "source": []
  },
  {
   "cell_type": "code",
   "execution_count": null,
   "id": "8f922bc7",
   "metadata": {},
   "outputs": [],
   "source": []
  },
  {
   "cell_type": "code",
   "execution_count": 504,
   "id": "2a5037de",
   "metadata": {},
   "outputs": [],
   "source": [
    "cats = pd.read_excel('/home/wafistos/Documents/Projects/scaping_wafi/scrapingalrugaibfurniture/sub_categories/categories/Rugaib categories .xlsx')"
   ]
  },
  {
   "cell_type": "code",
   "execution_count": 505,
   "id": "96d9e7c8",
   "metadata": {},
   "outputs": [],
   "source": [
    "list_cats = []\n",
    "for index, row in cats.iterrows():\n",
    "    list_cats.append([row['Name of category '], row['Num of category '], row['Discription ']] )\n",
    "    "
   ]
  },
  {
   "cell_type": "code",
   "execution_count": 182,
   "id": "9c5a5c62",
   "metadata": {},
   "outputs": [],
   "source": [
    "df.to_excel(\"Rugaib_update_27_08_2021v3.xlsx\")"
   ]
  },
  {
   "cell_type": "code",
   "execution_count": 129,
   "id": "812032fb",
   "metadata": {},
   "outputs": [],
   "source": [
    "df.drop(df.loc[df['categories'] == 'Do not scrap it '].index, inplace=True)\n"
   ]
  },
  {
   "cell_type": "code",
   "execution_count": 181,
   "id": "518db154",
   "metadata": {},
   "outputs": [
    {
     "data": {
      "text/html": [
       "<div>\n",
       "<style scoped>\n",
       "    .dataframe tbody tr th:only-of-type {\n",
       "        vertical-align: middle;\n",
       "    }\n",
       "\n",
       "    .dataframe tbody tr th {\n",
       "        vertical-align: top;\n",
       "    }\n",
       "\n",
       "    .dataframe thead th {\n",
       "        text-align: right;\n",
       "    }\n",
       "</style>\n",
       "<table border=\"1\" class=\"dataframe\">\n",
       "  <thead>\n",
       "    <tr style=\"text-align: right;\">\n",
       "      <th></th>\n",
       "      <th>sku</th>\n",
       "      <th>store_view_code</th>\n",
       "      <th>attribute_set_code</th>\n",
       "      <th>product_websites</th>\n",
       "      <th>name</th>\n",
       "      <th>description</th>\n",
       "      <th>short_description</th>\n",
       "      <th>link_url</th>\n",
       "      <th>categories1</th>\n",
       "      <th>categories2</th>\n",
       "      <th>...</th>\n",
       "      <th>thumbnail_image</th>\n",
       "      <th>additional_images</th>\n",
       "      <th>product_online</th>\n",
       "      <th>qty</th>\n",
       "      <th>out_of_stock_qty</th>\n",
       "      <th>allow_backorders</th>\n",
       "      <th>is_in_stock</th>\n",
       "      <th>estimated_delivery_enable</th>\n",
       "      <th>estimated_delivery_text</th>\n",
       "      <th>supplier</th>\n",
       "    </tr>\n",
       "  </thead>\n",
       "  <tbody>\n",
       "  </tbody>\n",
       "</table>\n",
       "<p>0 rows × 40 columns</p>\n",
       "</div>"
      ],
      "text/plain": [
       "Empty DataFrame\n",
       "Columns: [sku, store_view_code, attribute_set_code, product_websites, name, description, short_description, link_url, categories1, categories2, categories3, categories, free_colors, ts_dimensions_width, ts_dimensions_height, ts_dimensions_length, mgs_brand, url_key, cost, price, special_price, visibility, product_type, tax_class_name, manufacturer, news_from_date, news_to_date, base_image, small_image, swatch_image, thumbnail_image, additional_images, product_online, qty, out_of_stock_qty, allow_backorders, is_in_stock, estimated_delivery_enable, estimated_delivery_text, supplier]\n",
       "Index: []\n",
       "\n",
       "[0 rows x 40 columns]"
      ]
     },
     "execution_count": 181,
     "metadata": {},
     "output_type": "execute_result"
    }
   ],
   "source": [
    "df.loc[df['categories'] == 'Do not scrap it ']"
   ]
  },
  {
   "cell_type": "code",
   "execution_count": 362,
   "id": "27384175",
   "metadata": {},
   "outputs": [
    {
     "data": {
      "text/plain": [
       "'إطارات الصور'"
      ]
     },
     "execution_count": 362,
     "metadata": {},
     "output_type": "execute_result"
    }
   ],
   "source": [
    "list_cats[12][0]"
   ]
  },
  {
   "cell_type": "code",
   "execution_count": 228,
   "id": "fb95c701",
   "metadata": {},
   "outputs": [],
   "source": [
    "df = None "
   ]
  },
  {
   "cell_type": "code",
   "execution_count": 229,
   "id": "c59d72f2",
   "metadata": {},
   "outputs": [],
   "source": [
    "df = pd.read_excel('/home/wafistos/Documents/Projects/scaping_wafi/scrapingalrugaibfurniture/sub_categories/Rugaib_update_20_08_2021v6.xlsx')"
   ]
  },
  {
   "cell_type": "code",
   "execution_count": 435,
   "id": "16e593c7",
   "metadata": {},
   "outputs": [],
   "source": [
    "for ll in list_cats:\n",
    "    \n",
    "    df.loc[df['categories3'] == ll[0]  , 'categories'] = ll[1]"
   ]
  },
  {
   "cell_type": "code",
   "execution_count": 139,
   "id": "d08a3c5c",
   "metadata": {},
   "outputs": [],
   "source": [
    "for ll in list_cats:\n",
    "    \n",
    "    df.loc[(df['categories'] == ll[1]) & (df['description'].str.len() <= 20) , 'description'] = ll[2]"
   ]
  },
  {
   "cell_type": "code",
   "execution_count": 437,
   "id": "0f11cdf8",
   "metadata": {},
   "outputs": [],
   "source": [
    "for ll in list_cats:\n",
    "    \n",
    "    df.loc[(df['categories'] == ll[1]) & (df['short_description'].str.len() <= 20) , 'short_description'] = ll[2]"
   ]
  },
  {
   "cell_type": "code",
   "execution_count": 441,
   "id": "111136ec",
   "metadata": {},
   "outputs": [
    {
     "data": {
      "text/plain": [
       "9245    ألعاب\n",
       "9246    ألعاب\n",
       "9247    ألعاب\n",
       "9248    ألعاب\n",
       "9249    ألعاب\n",
       "9250    ألعاب\n",
       "9251    ألعاب\n",
       "Name: categories2, dtype: object"
      ]
     },
     "execution_count": 441,
     "metadata": {},
     "output_type": "execute_result"
    }
   ],
   "source": [
    " df.loc[ (df['categories'].isnull()) | (df['categories'] == '') , 'categories2']"
   ]
  },
  {
   "cell_type": "code",
   "execution_count": null,
   "id": "831252f7",
   "metadata": {},
   "outputs": [],
   "source": []
  },
  {
   "cell_type": "code",
   "execution_count": 140,
   "id": "b6b81850",
   "metadata": {
    "scrolled": true
   },
   "outputs": [
    {
     "data": {
      "text/html": [
       "<div>\n",
       "<style scoped>\n",
       "    .dataframe tbody tr th:only-of-type {\n",
       "        vertical-align: middle;\n",
       "    }\n",
       "\n",
       "    .dataframe tbody tr th {\n",
       "        vertical-align: top;\n",
       "    }\n",
       "\n",
       "    .dataframe thead th {\n",
       "        text-align: right;\n",
       "    }\n",
       "</style>\n",
       "<table border=\"1\" class=\"dataframe\">\n",
       "  <thead>\n",
       "    <tr style=\"text-align: right;\">\n",
       "      <th></th>\n",
       "      <th>sku number only</th>\n",
       "      <th>sku</th>\n",
       "      <th>store_view_code</th>\n",
       "      <th>attribute_set_code</th>\n",
       "      <th>product_websites</th>\n",
       "      <th>name</th>\n",
       "      <th>description</th>\n",
       "      <th>short_description</th>\n",
       "      <th>link_url</th>\n",
       "      <th>categories1</th>\n",
       "      <th>...</th>\n",
       "      <th>thumbnail_image</th>\n",
       "      <th>additional_images</th>\n",
       "      <th>product_online</th>\n",
       "      <th>qty</th>\n",
       "      <th>out_of_stock_qty</th>\n",
       "      <th>allow_backorders</th>\n",
       "      <th>is_in_stock</th>\n",
       "      <th>estimated_delivery_enable</th>\n",
       "      <th>estimated_delivery_text</th>\n",
       "      <th>supplier</th>\n",
       "    </tr>\n",
       "  </thead>\n",
       "  <tbody>\n",
       "  </tbody>\n",
       "</table>\n",
       "<p>0 rows × 41 columns</p>\n",
       "</div>"
      ],
      "text/plain": [
       "Empty DataFrame\n",
       "Columns: [sku number only, sku, store_view_code, attribute_set_code, product_websites, name, description, short_description, link_url, categories1, categories2, categories3, categories, free_colors, ts_dimensions_width, ts_dimensions_height, ts_dimensions_length, mgs_brand, url_key, cost, price, special_price, visibility, product_type, tax_class_name, manufacturer, news_from_date, news_to_date, base_image, small_image, swatch_image, thumbnail_image, additional_images, product_online, qty, out_of_stock_qty, allow_backorders, is_in_stock, estimated_delivery_enable, estimated_delivery_text, supplier]\n",
       "Index: []\n",
       "\n",
       "[0 rows x 41 columns]"
      ]
     },
     "execution_count": 140,
     "metadata": {},
     "output_type": "execute_result"
    }
   ],
   "source": [
    "df.loc[df['description'].str.len() <= 20]"
   ]
  },
  {
   "cell_type": "code",
   "execution_count": null,
   "id": "9a915365",
   "metadata": {},
   "outputs": [],
   "source": [
    "\n",
    "\n",
    "Try this:\n",
    "\n",
    "df.drop(df.loc[df.time< df.time.shift()].index, inplace=True)\n",
    "\n"
   ]
  },
  {
   "cell_type": "code",
   "execution_count": 214,
   "id": "a6102a63",
   "metadata": {},
   "outputs": [
    {
     "data": {
      "text/plain": [
       "(12042, 40)"
      ]
     },
     "execution_count": 214,
     "metadata": {},
     "output_type": "execute_result"
    }
   ],
   "source": [
    "df.shape"
   ]
  },
  {
   "cell_type": "code",
   "execution_count": 145,
   "id": "cb09d02e",
   "metadata": {},
   "outputs": [],
   "source": [
    "df.to_excel('Rugaib_update_27_08_2021v1.xlsx')"
   ]
  },
  {
   "cell_type": "code",
   "execution_count": null,
   "id": "c608161d",
   "metadata": {},
   "outputs": [],
   "source": []
  },
  {
   "cell_type": "code",
   "execution_count": 216,
   "id": "ff5b3a50",
   "metadata": {},
   "outputs": [
    {
     "data": {
      "text/html": [
       "<div>\n",
       "<style scoped>\n",
       "    .dataframe tbody tr th:only-of-type {\n",
       "        vertical-align: middle;\n",
       "    }\n",
       "\n",
       "    .dataframe tbody tr th {\n",
       "        vertical-align: top;\n",
       "    }\n",
       "\n",
       "    .dataframe thead th {\n",
       "        text-align: right;\n",
       "    }\n",
       "</style>\n",
       "<table border=\"1\" class=\"dataframe\">\n",
       "  <thead>\n",
       "    <tr style=\"text-align: right;\">\n",
       "      <th></th>\n",
       "      <th>sku</th>\n",
       "      <th>store_view_code</th>\n",
       "      <th>attribute_set_code</th>\n",
       "      <th>product_websites</th>\n",
       "      <th>name</th>\n",
       "      <th>description</th>\n",
       "      <th>short_description</th>\n",
       "      <th>link_url</th>\n",
       "      <th>categories1</th>\n",
       "      <th>categories2</th>\n",
       "      <th>...</th>\n",
       "      <th>thumbnail_image</th>\n",
       "      <th>additional_images</th>\n",
       "      <th>product_online</th>\n",
       "      <th>qty</th>\n",
       "      <th>out_of_stock_qty</th>\n",
       "      <th>allow_backorders</th>\n",
       "      <th>is_in_stock</th>\n",
       "      <th>estimated_delivery_enable</th>\n",
       "      <th>estimated_delivery_text</th>\n",
       "      <th>supplier</th>\n",
       "    </tr>\n",
       "  </thead>\n",
       "  <tbody>\n",
       "    <tr>\n",
       "      <th>46</th>\n",
       "      <td>ROG-100091152</td>\n",
       "      <td>NaN</td>\n",
       "      <td>Default</td>\n",
       "      <td>base</td>\n",
       "      <td>Glass Ribbed Candle Holder Solid Silver Finish</td>\n",
       "      <td>10X27 CM</td>\n",
       "      <td>10X27 CM</td>\n",
       "      <td>https://www.alrugaibfurniture.com/ar/collectio...</td>\n",
       "      <td>اكسسوارات</td>\n",
       "      <td>حامل شمعة</td>\n",
       "      <td>...</td>\n",
       "      <td>https://cdn.shopify.com/s/files/1/0773/5495/pr...</td>\n",
       "      <td>NaN</td>\n",
       "      <td>1</td>\n",
       "      <td>0</td>\n",
       "      <td>-5</td>\n",
       "      <td>1</td>\n",
       "      <td>1</td>\n",
       "      <td>Static Text</td>\n",
       "      <td>الوقت المقدر لشحن هذا المنتج أسبوعين</td>\n",
       "      <td>ROG</td>\n",
       "    </tr>\n",
       "    <tr>\n",
       "      <th>122</th>\n",
       "      <td>ROG-100090475</td>\n",
       "      <td>NaN</td>\n",
       "      <td>Default</td>\n",
       "      <td>base</td>\n",
       "      <td>Candle Holder Arabesque Design Gold and Wood Dia</td>\n",
       "      <td>23X32 CM</td>\n",
       "      <td>23X32 CM</td>\n",
       "      <td>https://www.alrugaibfurniture.com/ar/collectio...</td>\n",
       "      <td>اكسسوارات</td>\n",
       "      <td>حامل شمعة</td>\n",
       "      <td>...</td>\n",
       "      <td>https://cdn.shopify.com/s/files/1/0773/5495/pr...</td>\n",
       "      <td>NaN</td>\n",
       "      <td>1</td>\n",
       "      <td>0</td>\n",
       "      <td>-5</td>\n",
       "      <td>1</td>\n",
       "      <td>1</td>\n",
       "      <td>Static Text</td>\n",
       "      <td>الوقت المقدر لشحن هذا المنتج أسبوعين</td>\n",
       "      <td>ROG</td>\n",
       "    </tr>\n",
       "    <tr>\n",
       "      <th>123</th>\n",
       "      <td>ROG-100090476</td>\n",
       "      <td>NaN</td>\n",
       "      <td>Default</td>\n",
       "      <td>base</td>\n",
       "      <td>Candle Holder Arabesque Design Gold and Wood Dia</td>\n",
       "      <td>23X28 CM</td>\n",
       "      <td>23X28 CM</td>\n",
       "      <td>https://www.alrugaibfurniture.com/ar/collectio...</td>\n",
       "      <td>اكسسوارات</td>\n",
       "      <td>حامل شمعة</td>\n",
       "      <td>...</td>\n",
       "      <td>https://cdn.shopify.com/s/files/1/0773/5495/pr...</td>\n",
       "      <td>NaN</td>\n",
       "      <td>1</td>\n",
       "      <td>0</td>\n",
       "      <td>-5</td>\n",
       "      <td>1</td>\n",
       "      <td>1</td>\n",
       "      <td>Static Text</td>\n",
       "      <td>الوقت المقدر لشحن هذا المنتج أسبوعين</td>\n",
       "      <td>ROG</td>\n",
       "    </tr>\n",
       "    <tr>\n",
       "      <th>178</th>\n",
       "      <td>ROG-100090481</td>\n",
       "      <td>NaN</td>\n",
       "      <td>Default</td>\n",
       "      <td>base</td>\n",
       "      <td>Metal Candle Holder Gold Medium</td>\n",
       "      <td>13X18 CM</td>\n",
       "      <td>13X18 CM</td>\n",
       "      <td>https://www.alrugaibfurniture.com/ar/collectio...</td>\n",
       "      <td>اكسسوارات</td>\n",
       "      <td>حامل شمعة</td>\n",
       "      <td>...</td>\n",
       "      <td>https://cdn.shopify.com/s/files/1/0773/5495/pr...</td>\n",
       "      <td>NaN</td>\n",
       "      <td>1</td>\n",
       "      <td>0</td>\n",
       "      <td>-5</td>\n",
       "      <td>1</td>\n",
       "      <td>1</td>\n",
       "      <td>Static Text</td>\n",
       "      <td>الوقت المقدر لشحن هذا المنتج أسبوعين</td>\n",
       "      <td>ROG</td>\n",
       "    </tr>\n",
       "    <tr>\n",
       "      <th>180</th>\n",
       "      <td>ROG-100090480</td>\n",
       "      <td>NaN</td>\n",
       "      <td>Default</td>\n",
       "      <td>base</td>\n",
       "      <td>Metal Candle Holder Gold Large</td>\n",
       "      <td>16X25 CM</td>\n",
       "      <td>16X25 CM</td>\n",
       "      <td>https://www.alrugaibfurniture.com/ar/collectio...</td>\n",
       "      <td>اكسسوارات</td>\n",
       "      <td>حامل شمعة</td>\n",
       "      <td>...</td>\n",
       "      <td>https://cdn.shopify.com/s/files/1/0773/5495/pr...</td>\n",
       "      <td>NaN</td>\n",
       "      <td>1</td>\n",
       "      <td>0</td>\n",
       "      <td>-5</td>\n",
       "      <td>1</td>\n",
       "      <td>1</td>\n",
       "      <td>Static Text</td>\n",
       "      <td>الوقت المقدر لشحن هذا المنتج أسبوعين</td>\n",
       "      <td>ROG</td>\n",
       "    </tr>\n",
       "    <tr>\n",
       "      <th>...</th>\n",
       "      <td>...</td>\n",
       "      <td>...</td>\n",
       "      <td>...</td>\n",
       "      <td>...</td>\n",
       "      <td>...</td>\n",
       "      <td>...</td>\n",
       "      <td>...</td>\n",
       "      <td>...</td>\n",
       "      <td>...</td>\n",
       "      <td>...</td>\n",
       "      <td>...</td>\n",
       "      <td>...</td>\n",
       "      <td>...</td>\n",
       "      <td>...</td>\n",
       "      <td>...</td>\n",
       "      <td>...</td>\n",
       "      <td>...</td>\n",
       "      <td>...</td>\n",
       "      <td>...</td>\n",
       "      <td>...</td>\n",
       "      <td>...</td>\n",
       "    </tr>\n",
       "    <tr>\n",
       "      <th>11983</th>\n",
       "      <td>ROG-D394-024</td>\n",
       "      <td>NaN</td>\n",
       "      <td>Default</td>\n",
       "      <td>base</td>\n",
       "      <td>UPHOLSTERED STOOL</td>\n",
       "      <td>44x44x60</td>\n",
       "      <td>44x44x60</td>\n",
       "      <td>https://www.alrugaibfurniture.com/ar/collectio...</td>\n",
       "      <td>أثاث</td>\n",
       "      <td>غرف الطعام</td>\n",
       "      <td>...</td>\n",
       "      <td>https://cdn.shopify.com/s/files/1/0773/5495/pr...</td>\n",
       "      <td>NaN</td>\n",
       "      <td>1</td>\n",
       "      <td>0</td>\n",
       "      <td>-5</td>\n",
       "      <td>1</td>\n",
       "      <td>1</td>\n",
       "      <td>Static Text</td>\n",
       "      <td>الوقت المقدر لشحن هذا المنتج أسبوعين</td>\n",
       "      <td>ROG</td>\n",
       "    </tr>\n",
       "    <tr>\n",
       "      <th>12031</th>\n",
       "      <td>ROG-D813-124</td>\n",
       "      <td>NaN</td>\n",
       "      <td>Default</td>\n",
       "      <td>base</td>\n",
       "      <td>WYNDAHL COUNTER HEIGHT BAR STOOL</td>\n",
       "      <td>50x54x105</td>\n",
       "      <td>50x54x105</td>\n",
       "      <td>https://www.alrugaibfurniture.com/ar/collectio...</td>\n",
       "      <td>أثاث</td>\n",
       "      <td>غرف الطعام</td>\n",
       "      <td>...</td>\n",
       "      <td>https://cdn.shopify.com/s/files/1/0773/5495/pr...</td>\n",
       "      <td>NaN</td>\n",
       "      <td>1</td>\n",
       "      <td>0</td>\n",
       "      <td>-5</td>\n",
       "      <td>1</td>\n",
       "      <td>1</td>\n",
       "      <td>Static Text</td>\n",
       "      <td>الوقت المقدر لشحن هذا المنتج أسبوعين</td>\n",
       "      <td>ROG</td>\n",
       "    </tr>\n",
       "    <tr>\n",
       "      <th>12032</th>\n",
       "      <td>ROG-D743-124</td>\n",
       "      <td>NaN</td>\n",
       "      <td>Default</td>\n",
       "      <td>base</td>\n",
       "      <td>UPHOLSTERED BARSTOOL</td>\n",
       "      <td>50x60x106</td>\n",
       "      <td>50x60x106</td>\n",
       "      <td>https://www.alrugaibfurniture.com/ar/collectio...</td>\n",
       "      <td>أثاث</td>\n",
       "      <td>غرف الطعام</td>\n",
       "      <td>...</td>\n",
       "      <td>https://cdn.shopify.com/s/files/1/0773/5495/pr...</td>\n",
       "      <td>NaN</td>\n",
       "      <td>1</td>\n",
       "      <td>0</td>\n",
       "      <td>-5</td>\n",
       "      <td>1</td>\n",
       "      <td>1</td>\n",
       "      <td>Static Text</td>\n",
       "      <td>الوقت المقدر لشحن هذا المنتج أسبوعين</td>\n",
       "      <td>ROG</td>\n",
       "    </tr>\n",
       "    <tr>\n",
       "      <th>12033</th>\n",
       "      <td>ROG-D712-124</td>\n",
       "      <td>NaN</td>\n",
       "      <td>Default</td>\n",
       "      <td>base</td>\n",
       "      <td>STOOL</td>\n",
       "      <td>43x38x61</td>\n",
       "      <td>43x38x61</td>\n",
       "      <td>https://www.alrugaibfurniture.com/ar/collectio...</td>\n",
       "      <td>أثاث</td>\n",
       "      <td>غرف الطعام</td>\n",
       "      <td>...</td>\n",
       "      <td>https://cdn.shopify.com/s/files/1/0773/5495/pr...</td>\n",
       "      <td>NaN</td>\n",
       "      <td>1</td>\n",
       "      <td>0</td>\n",
       "      <td>-5</td>\n",
       "      <td>1</td>\n",
       "      <td>1</td>\n",
       "      <td>Static Text</td>\n",
       "      <td>الوقت المقدر لشحن هذا المنتج أسبوعين</td>\n",
       "      <td>ROG</td>\n",
       "    </tr>\n",
       "    <tr>\n",
       "      <th>12070</th>\n",
       "      <td>ROG-5820-75360-84</td>\n",
       "      <td>NaN</td>\n",
       "      <td>Default</td>\n",
       "      <td>base</td>\n",
       "      <td>Bar Stool</td>\n",
       "      <td>Bar Stool</td>\n",
       "      <td>Bar Stool</td>\n",
       "      <td>https://www.alrugaibfurniture.com/ar/collectio...</td>\n",
       "      <td>أثاث</td>\n",
       "      <td>غرف الطعام</td>\n",
       "      <td>...</td>\n",
       "      <td>https://cdn.shopify.com/s/files/1/0773/5495/pr...</td>\n",
       "      <td>NaN</td>\n",
       "      <td>1</td>\n",
       "      <td>0</td>\n",
       "      <td>-5</td>\n",
       "      <td>1</td>\n",
       "      <td>1</td>\n",
       "      <td>Static Text</td>\n",
       "      <td>الوقت المقدر لشحن هذا المنتج أسبوعين</td>\n",
       "      <td>ROG</td>\n",
       "    </tr>\n",
       "  </tbody>\n",
       "</table>\n",
       "<p>226 rows × 40 columns</p>\n",
       "</div>"
      ],
      "text/plain": [
       "                     sku  store_view_code attribute_set_code product_websites  \\\n",
       "46         ROG-100091152              NaN            Default             base   \n",
       "122        ROG-100090475              NaN            Default             base   \n",
       "123        ROG-100090476              NaN            Default             base   \n",
       "178        ROG-100090481              NaN            Default             base   \n",
       "180        ROG-100090480              NaN            Default             base   \n",
       "...                  ...              ...                ...              ...   \n",
       "11983       ROG-D394-024              NaN            Default             base   \n",
       "12031       ROG-D813-124              NaN            Default             base   \n",
       "12032       ROG-D743-124              NaN            Default             base   \n",
       "12033       ROG-D712-124              NaN            Default             base   \n",
       "12070  ROG-5820-75360-84              NaN            Default             base   \n",
       "\n",
       "                                                   name description  \\\n",
       "46       Glass Ribbed Candle Holder Solid Silver Finish    10X27 CM   \n",
       "122    Candle Holder Arabesque Design Gold and Wood Dia    23X32 CM   \n",
       "123    Candle Holder Arabesque Design Gold and Wood Dia    23X28 CM   \n",
       "178                     Metal Candle Holder Gold Medium    13X18 CM   \n",
       "180                      Metal Candle Holder Gold Large    16X25 CM   \n",
       "...                                                 ...         ...   \n",
       "11983                                 UPHOLSTERED STOOL    44x44x60   \n",
       "12031                  WYNDAHL COUNTER HEIGHT BAR STOOL   50x54x105   \n",
       "12032                              UPHOLSTERED BARSTOOL   50x60x106   \n",
       "12033                                             STOOL    43x38x61   \n",
       "12070                                         Bar Stool   Bar Stool   \n",
       "\n",
       "      short_description                                           link_url  \\\n",
       "46             10X27 CM  https://www.alrugaibfurniture.com/ar/collectio...   \n",
       "122            23X32 CM  https://www.alrugaibfurniture.com/ar/collectio...   \n",
       "123            23X28 CM  https://www.alrugaibfurniture.com/ar/collectio...   \n",
       "178            13X18 CM  https://www.alrugaibfurniture.com/ar/collectio...   \n",
       "180            16X25 CM  https://www.alrugaibfurniture.com/ar/collectio...   \n",
       "...                 ...                                                ...   \n",
       "11983          44x44x60  https://www.alrugaibfurniture.com/ar/collectio...   \n",
       "12031         50x54x105  https://www.alrugaibfurniture.com/ar/collectio...   \n",
       "12032         50x60x106  https://www.alrugaibfurniture.com/ar/collectio...   \n",
       "12033          43x38x61  https://www.alrugaibfurniture.com/ar/collectio...   \n",
       "12070         Bar Stool  https://www.alrugaibfurniture.com/ar/collectio...   \n",
       "\n",
       "      categories1 categories2  ...  \\\n",
       "46      اكسسوارات   حامل شمعة  ...   \n",
       "122     اكسسوارات   حامل شمعة  ...   \n",
       "123     اكسسوارات   حامل شمعة  ...   \n",
       "178     اكسسوارات   حامل شمعة  ...   \n",
       "180     اكسسوارات   حامل شمعة  ...   \n",
       "...           ...         ...  ...   \n",
       "11983        أثاث  غرف الطعام  ...   \n",
       "12031        أثاث  غرف الطعام  ...   \n",
       "12032        أثاث  غرف الطعام  ...   \n",
       "12033        أثاث  غرف الطعام  ...   \n",
       "12070        أثاث  غرف الطعام  ...   \n",
       "\n",
       "                                         thumbnail_image additional_images  \\\n",
       "46     https://cdn.shopify.com/s/files/1/0773/5495/pr...               NaN   \n",
       "122    https://cdn.shopify.com/s/files/1/0773/5495/pr...               NaN   \n",
       "123    https://cdn.shopify.com/s/files/1/0773/5495/pr...               NaN   \n",
       "178    https://cdn.shopify.com/s/files/1/0773/5495/pr...               NaN   \n",
       "180    https://cdn.shopify.com/s/files/1/0773/5495/pr...               NaN   \n",
       "...                                                  ...               ...   \n",
       "11983  https://cdn.shopify.com/s/files/1/0773/5495/pr...               NaN   \n",
       "12031  https://cdn.shopify.com/s/files/1/0773/5495/pr...               NaN   \n",
       "12032  https://cdn.shopify.com/s/files/1/0773/5495/pr...               NaN   \n",
       "12033  https://cdn.shopify.com/s/files/1/0773/5495/pr...               NaN   \n",
       "12070  https://cdn.shopify.com/s/files/1/0773/5495/pr...               NaN   \n",
       "\n",
       "      product_online qty out_of_stock_qty allow_backorders is_in_stock  \\\n",
       "46                 1   0               -5                1           1   \n",
       "122                1   0               -5                1           1   \n",
       "123                1   0               -5                1           1   \n",
       "178                1   0               -5                1           1   \n",
       "180                1   0               -5                1           1   \n",
       "...              ...  ..              ...              ...         ...   \n",
       "11983              1   0               -5                1           1   \n",
       "12031              1   0               -5                1           1   \n",
       "12032              1   0               -5                1           1   \n",
       "12033              1   0               -5                1           1   \n",
       "12070              1   0               -5                1           1   \n",
       "\n",
       "      estimated_delivery_enable               estimated_delivery_text supplier  \n",
       "46                  Static Text  الوقت المقدر لشحن هذا المنتج أسبوعين      ROG  \n",
       "122                 Static Text  الوقت المقدر لشحن هذا المنتج أسبوعين      ROG  \n",
       "123                 Static Text  الوقت المقدر لشحن هذا المنتج أسبوعين      ROG  \n",
       "178                 Static Text  الوقت المقدر لشحن هذا المنتج أسبوعين      ROG  \n",
       "180                 Static Text  الوقت المقدر لشحن هذا المنتج أسبوعين      ROG  \n",
       "...                         ...                                   ...      ...  \n",
       "11983               Static Text  الوقت المقدر لشحن هذا المنتج أسبوعين      ROG  \n",
       "12031               Static Text  الوقت المقدر لشحن هذا المنتج أسبوعين      ROG  \n",
       "12032               Static Text  الوقت المقدر لشحن هذا المنتج أسبوعين      ROG  \n",
       "12033               Static Text  الوقت المقدر لشحن هذا المنتج أسبوعين      ROG  \n",
       "12070               Static Text  الوقت المقدر لشحن هذا المنتج أسبوعين      ROG  \n",
       "\n",
       "[226 rows x 40 columns]"
      ]
     },
     "execution_count": 216,
     "metadata": {},
     "output_type": "execute_result"
    }
   ],
   "source": [
    "aa"
   ]
  },
  {
   "cell_type": "code",
   "execution_count": 213,
   "id": "ef4d787f",
   "metadata": {},
   "outputs": [
    {
     "data": {
      "text/plain": [
       "8211    14490,113\n",
       "8212    14490,113\n",
       "8213    14490,113\n",
       "8214    14490,113\n",
       "8215    14490,113\n",
       "          ...    \n",
       "8276    14490,113\n",
       "8277    14490,113\n",
       "8278    14490,113\n",
       "8279    14490,113\n",
       "8280    14490,113\n",
       "Name: categories, Length: 70, dtype: object"
      ]
     },
     "execution_count": 213,
     "metadata": {},
     "output_type": "execute_result"
    }
   ],
   "source": [
    "df.loc[df['categories2'] == 'اثاث خارجي', 'categories'] = '14490,113'"
   ]
  },
  {
   "cell_type": "code",
   "execution_count": 460,
   "id": "304d3db5",
   "metadata": {},
   "outputs": [],
   "source": [
    "\n",
    "\n",
    "df.drop(df.loc[df['categories'] == 'Do not scrap it '].index, inplace=True)\n",
    "\n"
   ]
  },
  {
   "cell_type": "code",
   "execution_count": 210,
   "id": "936fdb82",
   "metadata": {},
   "outputs": [],
   "source": [
    "df.to_excel('Rugaib_update_20_08_2021v6.xlsx')"
   ]
  },
  {
   "cell_type": "code",
   "execution_count": 116,
   "id": "b995b32e",
   "metadata": {},
   "outputs": [
    {
     "data": {
      "text/html": [
       "<div>\n",
       "<style scoped>\n",
       "    .dataframe tbody tr th:only-of-type {\n",
       "        vertical-align: middle;\n",
       "    }\n",
       "\n",
       "    .dataframe tbody tr th {\n",
       "        vertical-align: top;\n",
       "    }\n",
       "\n",
       "    .dataframe thead th {\n",
       "        text-align: right;\n",
       "    }\n",
       "</style>\n",
       "<table border=\"1\" class=\"dataframe\">\n",
       "  <thead>\n",
       "    <tr style=\"text-align: right;\">\n",
       "      <th></th>\n",
       "      <th>sku</th>\n",
       "      <th>is_in_stock</th>\n",
       "      <th>name</th>\n",
       "      <th>price</th>\n",
       "      <th>special_price</th>\n",
       "      <th>short_description</th>\n",
       "      <th>free_colors</th>\n",
       "      <th>description</th>\n",
       "      <th>ts_dimensions_width</th>\n",
       "      <th>ts_dimensions_height</th>\n",
       "      <th>...</th>\n",
       "      <th>swatch_image</th>\n",
       "      <th>thumbnail_image</th>\n",
       "      <th>attribute_set_code</th>\n",
       "      <th>product_websites</th>\n",
       "      <th>out_of_stock_qty</th>\n",
       "      <th>qty</th>\n",
       "      <th>product_online</th>\n",
       "      <th>estimated_delivery_text</th>\n",
       "      <th>mgs_brand</th>\n",
       "      <th>categories</th>\n",
       "    </tr>\n",
       "  </thead>\n",
       "  <tbody>\n",
       "  </tbody>\n",
       "</table>\n",
       "<p>0 rows × 38 columns</p>\n",
       "</div>"
      ],
      "text/plain": [
       "Empty DataFrame\n",
       "Columns: [sku, is_in_stock, name, price, special_price, short_description, free_colors, description, ts_dimensions_width, ts_dimensions_height, ts_dimensions_length, collection, base_image, url_key, visibility, tax_class_name, manufacturer, news_from_date, news_to_date, additional_images, link_url, categories1, categories2, categories3, supplier, allow_backorders, estimated_delivery_enable, small_image, swatch_image, thumbnail_image, attribute_set_code, product_websites, out_of_stock_qty, qty, product_online, estimated_delivery_text, mgs_brand, categories]\n",
       "Index: []\n",
       "\n",
       "[0 rows x 38 columns]"
      ]
     },
     "execution_count": 116,
     "metadata": {},
     "output_type": "execute_result"
    }
   ],
   "source": [
    "df.loc[df['short_description'].isnull()]"
   ]
  },
  {
   "cell_type": "markdown",
   "id": "4e235404",
   "metadata": {},
   "source": [
    "# Collections add "
   ]
  },
  {
   "cell_type": "code",
   "execution_count": 109,
   "id": "2f842910",
   "metadata": {},
   "outputs": [],
   "source": [
    "cols = pd.read_excel('/home/wafistos/Documents/Projects/scaping_wafi/scrapingalrugaibfurniture/sub_categories/categories/Rugaib brands.xlsx')"
   ]
  },
  {
   "cell_type": "code",
   "execution_count": 443,
   "id": "1b17c28f",
   "metadata": {},
   "outputs": [
    {
     "data": {
      "text/plain": [
       "Index(['collection', 'mgs_brand', 'Unnamed: 2', 'Unnamed: 3', 'Unnamed: 4',\n",
       "       'Unnamed: 5', 'Unnamed: 6', 'Unnamed: 7', 'Unnamed: 8', 'Unnamed: 9',\n",
       "       'Unnamed: 10', 'Unnamed: 11', 'Unnamed: 12', 'Unnamed: 13',\n",
       "       'Unnamed: 14', 'Unnamed: 15', 'Unnamed: 16', 'Unnamed: 17',\n",
       "       'Unnamed: 18', 'Unnamed: 19', 'Unnamed: 20', 'Unnamed: 21',\n",
       "       'Unnamed: 22', 'Unnamed: 23', 'Unnamed: 24', 'Unnamed: 25'],\n",
       "      dtype='object')"
      ]
     },
     "execution_count": 443,
     "metadata": {},
     "output_type": "execute_result"
    }
   ],
   "source": [
    "cols.columns"
   ]
  },
  {
   "cell_type": "code",
   "execution_count": 110,
   "id": "93c03e96",
   "metadata": {},
   "outputs": [],
   "source": [
    "list_cols = []\n",
    "for index, row in cols.iterrows():\n",
    "    list_cols.append([ row['collection'], row['mgs_brand']])"
   ]
  },
  {
   "cell_type": "code",
   "execution_count": 111,
   "id": "d05153ec",
   "metadata": {},
   "outputs": [],
   "source": [
    "for col in list_cols:\n",
    "    df.loc[df['collection'] == col[0], 'mgs_brand'] = col[1]"
   ]
  },
  {
   "cell_type": "code",
   "execution_count": 264,
   "id": "cde42d5f",
   "metadata": {},
   "outputs": [],
   "source": [
    "df['categories3'] = ''"
   ]
  },
  {
   "cell_type": "code",
   "execution_count": null,
   "id": "dea6d825",
   "metadata": {},
   "outputs": [],
   "source": []
  },
  {
   "cell_type": "code",
   "execution_count": 114,
   "id": "27392198",
   "metadata": {},
   "outputs": [
    {
     "data": {
      "text/plain": [
       "0        Ashley\n",
       "1        Ashley\n",
       "2           NaN\n",
       "3        Ashley\n",
       "4        Ashley\n",
       "          ...  \n",
       "12215       NaN\n",
       "12216       NaN\n",
       "12217       NaN\n",
       "12218       NaN\n",
       "12219       NaN\n",
       "Name: mgs_brand, Length: 12113, dtype: object"
      ]
     },
     "execution_count": 114,
     "metadata": {},
     "output_type": "execute_result"
    }
   ],
   "source": [
    "df['mgs_brand']"
   ]
  },
  {
   "cell_type": "code",
   "execution_count": 112,
   "id": "960ffdd0",
   "metadata": {},
   "outputs": [],
   "source": [
    "df['visibility'] = 'Catalog, Search'"
   ]
  },
  {
   "cell_type": "code",
   "execution_count": 113,
   "id": "dde7941d",
   "metadata": {},
   "outputs": [
    {
     "data": {
      "text/plain": [
       "0        Catalog, Search\n",
       "1        Catalog, Search\n",
       "2        Catalog, Search\n",
       "3        Catalog, Search\n",
       "4        Catalog, Search\n",
       "              ...       \n",
       "12215    Catalog, Search\n",
       "12216    Catalog, Search\n",
       "12217    Catalog, Search\n",
       "12218    Catalog, Search\n",
       "12219    Catalog, Search\n",
       "Name: visibility, Length: 12113, dtype: object"
      ]
     },
     "execution_count": 113,
     "metadata": {},
     "output_type": "execute_result"
    }
   ],
   "source": [
    "df['visibility']"
   ]
  },
  {
   "cell_type": "code",
   "execution_count": null,
   "id": "bbfe0523",
   "metadata": {},
   "outputs": [],
   "source": []
  },
  {
   "cell_type": "code",
   "execution_count": null,
   "id": "c3f95d67",
   "metadata": {},
   "outputs": [],
   "source": []
  },
  {
   "cell_type": "code",
   "execution_count": 115,
   "id": "b99fc8fd",
   "metadata": {},
   "outputs": [],
   "source": [
    "df['cost'] = df['price']"
   ]
  },
  {
   "cell_type": "code",
   "execution_count": 116,
   "id": "49095c9f",
   "metadata": {},
   "outputs": [],
   "source": [
    "df['store_view_code'] = ''"
   ]
  },
  {
   "cell_type": "code",
   "execution_count": 126,
   "id": "88a47b94",
   "metadata": {},
   "outputs": [],
   "source": [
    "df.loc[df['special_price'] == 0 , 'special_price'] = '__EMPTY__VALUE__'"
   ]
  },
  {
   "cell_type": "code",
   "execution_count": 119,
   "id": "20d22d12",
   "metadata": {},
   "outputs": [],
   "source": [
    "df['sku number only'] = df['sku'].str.replace('ROG-', '')"
   ]
  },
  {
   "cell_type": "code",
   "execution_count": 120,
   "id": "687b3863",
   "metadata": {},
   "outputs": [],
   "source": [
    "df['product_type'] = 'simple'"
   ]
  },
  {
   "cell_type": "code",
   "execution_count": 121,
   "id": "78da78dd",
   "metadata": {},
   "outputs": [],
   "source": [
    "df['price'] = df['price'] * 1.1"
   ]
  },
  {
   "cell_type": "code",
   "execution_count": 124,
   "id": "9fc24430",
   "metadata": {},
   "outputs": [],
   "source": [
    "df['special_price'] = df['special_price'] * 1.1"
   ]
  },
  {
   "cell_type": "code",
   "execution_count": 127,
   "id": "72eb9f32",
   "metadata": {},
   "outputs": [],
   "source": [
    "df = df[[ 'sku number only',\n",
    "        'sku', \n",
    "         'store_view_code',\n",
    "         'attribute_set_code',\n",
    "         'product_websites',\n",
    "         'name',   \n",
    "         'description', \n",
    "         'short_description', \n",
    "         'link_url', \n",
    "         'categories1', \n",
    "         'categories2', \n",
    "         'categories3', \n",
    "         'categories', \n",
    "         'free_colors', \n",
    "         'ts_dimensions_width', \n",
    "         'ts_dimensions_height', \n",
    "         'ts_dimensions_length',\n",
    "         'mgs_brand',\n",
    "         'url_key',\n",
    "         'cost',  \n",
    "         'price', \n",
    "         'special_price', \n",
    "         'visibility',\n",
    "         'product_type',\n",
    "         'tax_class_name', \n",
    "         'manufacturer',\n",
    "         'news_from_date', \n",
    "         'news_to_date', \n",
    "         'base_image', \n",
    "         'small_image', \n",
    "         'swatch_image' , \n",
    "         'thumbnail_image', \n",
    "         'additional_images', \n",
    "         'product_online', \n",
    "         'qty', \n",
    "         'out_of_stock_qty', \n",
    "         'allow_backorders', \n",
    "         'is_in_stock', \n",
    "         'estimated_delivery_enable',\n",
    "         'estimated_delivery_text',\n",
    "         'supplier',   \n",
    "        ]]"
   ]
  },
  {
   "cell_type": "code",
   "execution_count": 141,
   "id": "ac5eb586",
   "metadata": {},
   "outputs": [],
   "source": [
    "df.to_excel('Rugaib_update_03_09_2021_v2.xlsx', index=False)"
   ]
  },
  {
   "cell_type": "code",
   "execution_count": 135,
   "id": "48a985d7",
   "metadata": {},
   "outputs": [],
   "source": [
    "df = None"
   ]
  },
  {
   "cell_type": "code",
   "execution_count": 137,
   "id": "e75dd8e4",
   "metadata": {},
   "outputs": [],
   "source": [
    "df = pd.read_excel('Rugaib_update_03_09_2021_v1.xlsx')"
   ]
  },
  {
   "cell_type": "code",
   "execution_count": 133,
   "id": "91492e35",
   "metadata": {},
   "outputs": [],
   "source": []
  },
  {
   "cell_type": "code",
   "execution_count": 398,
   "id": "56bca058",
   "metadata": {},
   "outputs": [],
   "source": [
    "toto_clean('url_key')"
   ]
  },
  {
   "cell_type": "code",
   "execution_count": 457,
   "id": "588d6979",
   "metadata": {},
   "outputs": [],
   "source": [
    "df['url_key'] = df['url_key'].str.replace(' ', '-')"
   ]
  },
  {
   "cell_type": "code",
   "execution_count": 458,
   "id": "e0990a00",
   "metadata": {},
   "outputs": [],
   "source": [
    "df['url_key'] = df['url_key'].str.replace('  ', '-')"
   ]
  },
  {
   "cell_type": "code",
   "execution_count": null,
   "id": "c6c24823",
   "metadata": {},
   "outputs": [],
   "source": [
    "df.drop(df.loc[df['sku'] == 'NONE'].index, inplace=True)"
   ]
  },
  {
   "cell_type": "code",
   "execution_count": 461,
   "id": "1b1a84de",
   "metadata": {},
   "outputs": [
    {
     "data": {
      "text/html": [
       "<div>\n",
       "<style scoped>\n",
       "    .dataframe tbody tr th:only-of-type {\n",
       "        vertical-align: middle;\n",
       "    }\n",
       "\n",
       "    .dataframe tbody tr th {\n",
       "        vertical-align: top;\n",
       "    }\n",
       "\n",
       "    .dataframe thead th {\n",
       "        text-align: right;\n",
       "    }\n",
       "</style>\n",
       "<table border=\"1\" class=\"dataframe\">\n",
       "  <thead>\n",
       "    <tr style=\"text-align: right;\">\n",
       "      <th></th>\n",
       "      <th>sku number only</th>\n",
       "      <th>sku</th>\n",
       "      <th>store_view_code</th>\n",
       "      <th>attribute_set_code</th>\n",
       "      <th>product_websites</th>\n",
       "      <th>name</th>\n",
       "      <th>description</th>\n",
       "      <th>short_description</th>\n",
       "      <th>link_url</th>\n",
       "      <th>categories1</th>\n",
       "      <th>...</th>\n",
       "      <th>thumbnail_image</th>\n",
       "      <th>additional_images</th>\n",
       "      <th>product_online</th>\n",
       "      <th>qty</th>\n",
       "      <th>out_of_stock_qty</th>\n",
       "      <th>allow_backorders</th>\n",
       "      <th>is_in_stock</th>\n",
       "      <th>estimated_delivery_enable</th>\n",
       "      <th>estimated_delivery_text</th>\n",
       "      <th>supplier</th>\n",
       "    </tr>\n",
       "  </thead>\n",
       "  <tbody>\n",
       "    <tr>\n",
       "      <th>113</th>\n",
       "      <td>NONE</td>\n",
       "      <td>NONE</td>\n",
       "      <td></td>\n",
       "      <td>Default</td>\n",
       "      <td>base</td>\n",
       "      <td>Metal 5-Light Tealight Holder</td>\n",
       "      <td>Metal; The Country of Origin is China\\nTea lig...</td>\n",
       "      <td>Metal; The Country of Origin is China\\nTea lig...</td>\n",
       "      <td>https://www.alrugaibfurniture.com/ar/collectio...</td>\n",
       "      <td>اكسسوارات</td>\n",
       "      <td>...</td>\n",
       "      <td>https://cdn.shopify.com/s/files/1/0773/5495/pr...</td>\n",
       "      <td>NaN</td>\n",
       "      <td>1</td>\n",
       "      <td>0</td>\n",
       "      <td>-5</td>\n",
       "      <td>1</td>\n",
       "      <td>1</td>\n",
       "      <td>Static Text</td>\n",
       "      <td>الوقت المقدر لشحن هذا المنتج أسبوعين</td>\n",
       "      <td>ROG</td>\n",
       "    </tr>\n",
       "  </tbody>\n",
       "</table>\n",
       "<p>1 rows × 41 columns</p>\n",
       "</div>"
      ],
      "text/plain": [
       "    sku number only   sku store_view_code attribute_set_code product_websites  \\\n",
       "113            NONE  NONE                            Default             base   \n",
       "\n",
       "                              name  \\\n",
       "113  Metal 5-Light Tealight Holder   \n",
       "\n",
       "                                           description  \\\n",
       "113  Metal; The Country of Origin is China\\nTea lig...   \n",
       "\n",
       "                                     short_description  \\\n",
       "113  Metal; The Country of Origin is China\\nTea lig...   \n",
       "\n",
       "                                              link_url categories1  ...  \\\n",
       "113  https://www.alrugaibfurniture.com/ar/collectio...   اكسسوارات  ...   \n",
       "\n",
       "                                       thumbnail_image additional_images  \\\n",
       "113  https://cdn.shopify.com/s/files/1/0773/5495/pr...               NaN   \n",
       "\n",
       "    product_online qty out_of_stock_qty allow_backorders is_in_stock  \\\n",
       "113              1   0               -5                1           1   \n",
       "\n",
       "    estimated_delivery_enable               estimated_delivery_text  supplier  \n",
       "113               Static Text  الوقت المقدر لشحن هذا المنتج أسبوعين       ROG  \n",
       "\n",
       "[1 rows x 41 columns]"
      ]
     },
     "execution_count": 461,
     "metadata": {},
     "output_type": "execute_result"
    }
   ],
   "source": [
    "df.loc[df['sku'] == 'NONE']"
   ]
  },
  {
   "cell_type": "code",
   "execution_count": null,
   "id": "a86e663e",
   "metadata": {},
   "outputs": [],
   "source": []
  }
 ],
 "metadata": {
  "kernelspec": {
   "display_name": "Python 3",
   "language": "python",
   "name": "python3"
  },
  "language_info": {
   "codemirror_mode": {
    "name": "ipython",
    "version": 3
   },
   "file_extension": ".py",
   "mimetype": "text/x-python",
   "name": "python",
   "nbconvert_exporter": "python",
   "pygments_lexer": "ipython3",
   "version": "3.8.8"
  },
  "toc": {
   "base_numbering": 1,
   "nav_menu": {},
   "number_sections": true,
   "sideBar": true,
   "skip_h1_title": false,
   "title_cell": "Table of Contents",
   "title_sidebar": "Contents",
   "toc_cell": false,
   "toc_position": {
    "height": "calc(100% - 180px)",
    "left": "10px",
    "top": "150px",
    "width": "352px"
   },
   "toc_section_display": true,
   "toc_window_display": true
  }
 },
 "nbformat": 4,
 "nbformat_minor": 5
}
