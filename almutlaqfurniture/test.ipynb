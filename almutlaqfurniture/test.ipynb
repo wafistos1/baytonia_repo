{
 "cells": [
  {
   "cell_type": "code",
   "execution_count": 1,
   "metadata": {},
   "outputs": [],
   "source": [
    "from bs4 import BeautifulSoup\n",
    "import requests\n",
    "import time\n",
    "import pandas as pd\n",
    "from selenium import webdriver\n",
    "from selenium.webdriver.common.keys import Keys\n",
    "from selenium.webdriver.support import expected_conditions as EC\n",
    "from selenium.webdriver.common.by import By\n",
    "from selenium.webdriver.support.wait import WebDriverWait\n",
    "from selenium.webdriver.firefox.options import Options\n",
    "import time\n",
    "import re\n",
    "from fake_useragent import UserAgent\n",
    "from bs4 import BeautifulSoup"
   ]
  },
  {
   "cell_type": "code",
   "execution_count": 2,
   "metadata": {},
   "outputs": [
    {
     "name": "stdout",
     "output_type": "stream",
     "text": [
      "Mozilla/5.0 (Windows NT 5.1) AppleWebKit/537.36 (KHTML, like Gecko) Chrome/41.0.2224.3 Safari/537.36\n"
     ]
    },
    {
     "name": "stderr",
     "output_type": "stream",
     "text": [
      "<ipython-input-2-5cd918e09ffa>:7: DeprecationWarning: use options instead of firefox_options\n",
      "  driver = webdriver.Firefox(firefox_options=options)\n"
     ]
    }
   ],
   "source": [
    "options = Options()\n",
    "ua = UserAgent()\n",
    "userAgent = ua.random\n",
    "print(userAgent)\n",
    "options.add_argument(f'user-agent={userAgent}')\n",
    "#opti#     driver = webdriver.Firefox()ons.add_argument(\"--headless\")\n",
    "driver = webdriver.Firefox(firefox_options=options)\n"
   ]
  },
  {
   "cell_type": "code",
   "execution_count": 3,
   "metadata": {},
   "outputs": [],
   "source": [
    "driver.get('https://www.almutlaqfurniture.com/kuka-fabric-single-glider-swivel-recliner')\n",
    "time.sleep(5)\n",
    "r = driver.find_element_by_tag_name('body').get_attribute('innerHTML')\n",
    "soup = BeautifulSoup(r, \"html.parser\")\n"
   ]
  },
  {
   "cell_type": "code",
   "execution_count": null,
   "metadata": {},
   "outputs": [],
   "source": []
  },
  {
   "cell_type": "code",
   "execution_count": 28,
   "metadata": {},
   "outputs": [
    {
     "data": {
      "text/plain": [
       "24"
      ]
     },
     "execution_count": 28,
     "metadata": {},
     "output_type": "execute_result"
    }
   ],
   "source": [
    "products = soup.find_all('a', {'class': 'item-images-1xN'})\n",
    "len(products)\n"
   ]
  },
  {
   "cell_type": "code",
   "execution_count": null,
   "metadata": {},
   "outputs": [],
   "source": []
  },
  {
   "cell_type": "code",
   "execution_count": null,
   "metadata": {},
   "outputs": [],
   "source": []
  },
  {
   "cell_type": "code",
   "execution_count": 12,
   "metadata": {},
   "outputs": [
    {
     "data": {
      "text/plain": [
       "'true'"
      ]
     },
     "execution_count": 12,
     "metadata": {},
     "output_type": "execute_result"
    }
   ],
   "source": [
    "toto = driver.find_element_by_xpath('//button[@aria-label=\"move to the next page\"]')\n",
    "net_page = toto.get_attribute('disabled')\n",
    "net_page"
   ]
  },
  {
   "cell_type": "code",
   "execution_count": null,
   "metadata": {},
   "outputs": [],
   "source": [
    " #  special_price sku   images link_url "
   ]
  },
  {
   "cell_type": "code",
   "execution_count": 48,
   "metadata": {},
   "outputs": [
    {
     "name": "stdout",
     "output_type": "stream",
     "text": [
      "SAR 300.00 SAR 60.00\n"
     ]
    }
   ],
   "source": [
    "name = soup.find('h1', {'class': 'productFullDetail-productName-BbW'}).text.strip()\n",
    "price = soup.find_all('p', {'class': 'productFullDetail-productPrice-1Js'})[1].text.strip()\n",
    "special_price = soup.find_all('p', {'class': 'productFullDetail-productPrice-1Js'} )[0].text.strip()\n",
    "print(price, special_price)"
   ]
  },
  {
   "cell_type": "code",
   "execution_count": 47,
   "metadata": {},
   "outputs": [
    {
     "data": {
      "text/plain": [
       "'مزهرية -  لايت لايفنج'"
      ]
     },
     "execution_count": 47,
     "metadata": {},
     "output_type": "execute_result"
    }
   ],
   "source": [
    "description = soup.find('div', {'id': 'collapseOne'}).text.strip()\n",
    "description"
   ]
  },
  {
   "cell_type": "code",
   "execution_count": 56,
   "metadata": {},
   "outputs": [
    {
     "data": {
      "text/plain": [
       "'02-03661-KAN-00-10'"
      ]
     },
     "execution_count": 56,
     "metadata": {},
     "output_type": "execute_result"
    }
   ],
   "source": [
    "sku = soup.find('strong', text=re.compile(r'^رقم المنتج')).next_element.next_element\n",
    "sku"
   ]
  },
  {
   "cell_type": "code",
   "execution_count": 46,
   "metadata": {},
   "outputs": [
    {
     "data": {
      "text/plain": [
       "['https://backend.almutlaqfurniture.com/media/catalog/product/5/g/5g4a0671.jpg?auto=webp&format=pjpg&width=88&height=110',\n",
       " 'https://backend.almutlaqfurniture.com/media/catalog/product/5/g/5g4a0673.jpg?auto=webp&format=pjpg&width=88&height=110']"
      ]
     },
     "execution_count": 46,
     "metadata": {},
     "output_type": "execute_result"
    }
   ],
   "source": [
    "images = soup.find('div', {'class': 'image-gallery-content bottom'}).find_all('img')\n",
    "len(images)\n",
    "list_images = [img['src'] for img in images if 'width=700' not in img['src'] ]\n",
    "list_images"
   ]
  },
  {
   "cell_type": "code",
   "execution_count": 156,
   "metadata": {},
   "outputs": [],
   "source": [
    "driver.get('https://www.almutlaqfurniture.com/bedroom.html?page=1')\n",
    "time.sleep(5)\n",
    "r = driver.find_element_by_tag_name('body').get_attribute('innerHTML')\n",
    "soup = BeautifulSoup(r, \"html.parser\")\n"
   ]
  },
  {
   "cell_type": "code",
   "execution_count": null,
   "metadata": {},
   "outputs": [],
   "source": [
    "list_country = [\n",
    "    {'text1': 'صنع في الصين', 'text2': 'الصين'},\n",
    "    {'text1': 'صنع بالصين', 'text2': 'الصين'},\n",
    "    {'text1': 'صنع في ايطاليا', 'text2': 'ايطاليا'},\n",
    "    {'text1': 'صناعة هندية', 'text2': 'الهند'},\n",
    "    {'text1': 'صنع في فيتنام', 'text2': 'فيتنام'},\n",
    "    {'text1': 'MAde In China', 'text2': 'الصين'},\n",
    "    {'text1': 'صنع في فرنسا', 'text2': 'فرنسا'},\n",
    "    \n",
    "]"
   ]
  },
  {
   "cell_type": "code",
   "execution_count": 163,
   "metadata": {},
   "outputs": [],
   "source": [
    "def get_data(url):\n",
    "    print('Url:', url)\n",
    "    driver.get(url)\n",
    "\n",
    "    r = driver.find_element_by_tag_name('body').get_attribute('innerHTML')\n",
    "    soup = BeautifulSoup(r, \"html.parser\")\n",
    "    time.sleep(3)\n",
    "    products = soup.find_all('a', {'class': 'item-images-1xN'})\n",
    "    time.sleep(3)\n",
    "    \n",
    "    liens = ['https://www.almutlaqfurniture.com' + toto['href']  for toto in products]\n",
    "    print('Len products', len(liens))\n",
    "    list_liens = []\n",
    "    \n",
    "    for t in liens:\n",
    "        list_liens.append(t)\n",
    "\n",
    "    return list_liens"
   ]
  },
  {
   "cell_type": "code",
   "execution_count": 164,
   "metadata": {},
   "outputs": [
    {
     "name": "stdout",
     "output_type": "stream",
     "text": [
      "Url: https://www.almutlaqfurniture.com/bedroom.html?page=1\n",
      "Len products 24\n"
     ]
    },
    {
     "data": {
      "text/plain": [
       "['https://www.almutlaqfurniture.com/alabama-twin-kids-room',\n",
       " 'https://www.almutlaqfurniture.com/mirror-atlanta-j29155',\n",
       " 'https://www.almutlaqfurniture.com/exten-table-160-205a-vega-pjvg0615',\n",
       " 'https://www.almutlaqfurniture.com/athena-mirror-for-buffet-toulipier-kjat640',\n",
       " 'https://www.almutlaqfurniture.com/dining-mirror-gami',\n",
       " 'https://www.almutlaqfurniture.com/pillow-eclipse',\n",
       " 'https://www.almutlaqfurniture.com/filled-cushion-la-z-boy',\n",
       " 'https://www.almutlaqfurniture.com/wall-mirror-glorybuy',\n",
       " 'https://www.almutlaqfurniture.com/dining-mirror-gami-1',\n",
       " 'https://www.almutlaqfurniture.com/bed-cover-set-160-220-cm-leiper-7',\n",
       " 'https://www.almutlaqfurniture.com/bed-cover-set-160-220-cm-leiper-5',\n",
       " 'https://www.almutlaqfurniture.com/bed-cover-set-280-260-cm-leiper-5',\n",
       " 'https://www.almutlaqfurniture.com/bed-cover-set-240-260-cm-leiper-14',\n",
       " 'https://www.almutlaqfurniture.com/bed-cover-set-220-200-cm-leiper',\n",
       " 'https://www.almutlaqfurniture.com/bed-cover-set-220-200-cm-leiper-1',\n",
       " 'https://www.almutlaqfurniture.com/bed-cover-set-260-260-cm-leiper',\n",
       " 'https://www.almutlaqfurniture.com/bed-cover-set-260-260-cm-leiper-5',\n",
       " 'https://www.almutlaqfurniture.com/bed-cover-set-260-260-cm-leiper-4',\n",
       " 'https://www.almutlaqfurniture.com/bed-cover-set-240-260-cm-leiper-13',\n",
       " 'https://www.almutlaqfurniture.com/bed-cover-set-240-260-cm-leiper-12',\n",
       " 'https://www.almutlaqfurniture.com/bed-cover-set-240-260-cm-leiper-11',\n",
       " 'https://www.almutlaqfurniture.com/bed-cover-set-240-260-cm-leiper-10',\n",
       " 'https://www.almutlaqfurniture.com/bed-cover-set-240-260-cm-leiper-9',\n",
       " 'https://www.almutlaqfurniture.com/bed-cover-set-240-260-cm-leiper-8']"
      ]
     },
     "execution_count": 164,
     "metadata": {},
     "output_type": "execute_result"
    }
   ],
   "source": [
    "toto = get_data('https://www.almutlaqfurniture.com/bedroom.html?page=1')\n",
    "toto"
   ]
  },
  {
   "cell_type": "code",
   "execution_count": 90,
   "metadata": {},
   "outputs": [],
   "source": [
    "def extract_product_size():\n",
    "    r = driver.find_element_by_tag_name('body').get_attribute('innerHTML')\n",
    "    soup = BeautifulSoup(r, \"html.parser\")\n",
    "    regex_product_size = [\n",
    "        \n",
    "    {'find': [\"p\", \"span\"], 'regex': \"^الأبعاد:\"} ,\n",
    "    {'find': [\"p\", \"span\"], 'regex': \"الأبعاد :\"} ,\n",
    "    {'find': [\"p\", \"span\"], 'regex': \"الابعاد :\"} ,\n",
    "    {'find': [\"p\", \"span\"], 'regex': \"الابعاد\"} ,\n",
    "    ]\n",
    "    for i, regex in enumerate(regex_product_size):\n",
    "        print('Count: ', i)\n",
    "        regex1 = re.compile(regex['regex'])\n",
    "        find = regex['find']\n",
    "        print('find', find)\n",
    "        try:\n",
    "            product_size = soup.find(find, text=regex1).text.strip()\n",
    "            \n",
    "            return product_size\n",
    "        except:\n",
    "            continue\n",
    "    "
   ]
  },
  {
   "cell_type": "code",
   "execution_count": 148,
   "metadata": {},
   "outputs": [],
   "source": [
    "def extract_ele(list_name):\n",
    "\n",
    "    r = driver.find_element_by_tag_name('body').get_attribute('innerHTML')\n",
    "    soup = BeautifulSoup(r, \"html.parser\")\n",
    "    for name in list_name:\n",
    "        \n",
    "        elements = soup.find('div', {'class': 'richText-root-2t-'})\n",
    "        for ele in elements:\n",
    "            \n",
    "            try:\n",
    "                if name in ele.text:\n",
    "                    if len(ele.text.strip()) >= 20:\n",
    "                        return None\n",
    "                    return ele.text.replace(name, '').replace('•', '').strip()\n",
    "            except:\n",
    "                pass"
   ]
  },
  {
   "cell_type": "code",
   "execution_count": 133,
   "metadata": {},
   "outputs": [
    {
     "data": {
      "text/plain": [
       "(None, None, None)"
      ]
     },
     "execution_count": 133,
     "metadata": {},
     "output_type": "execute_result"
    }
   ],
   "source": [
    "def retrun_totoch(name):\n",
    "    r = driver.find_element_by_tag_name('body').get_attribute('innerHTML')\n",
    "    soup = BeautifulSoup(r, \"html.parser\")\n",
    "    try:\n",
    "        \n",
    "        return soup.find('strong', text=name).next_sibling\n",
    "    except:\n",
    "        pass\n",
    "     \n",
    "ts_dimensions_height = retrun_totoch('Height : ')\n",
    "ts_dimensions_width = retrun_totoch('Width : ')\n",
    "ts_dimensions_length = retrun_totoch('Depth : ')\n",
    "ts_dimensions_width, ts_dimensions_length, ts_dimensions_height"
   ]
  },
  {
   "cell_type": "code",
   "execution_count": 149,
   "metadata": {},
   "outputs": [
    {
     "name": "stdout",
     "output_type": "stream",
     "text": [
      "ele \n",
      "ele • رقم الموديل 10563\n",
      "ele • اللون بني\n",
      "ele • الخامة شعور جلدي\n",
      "ele •العمق بالسم  109\n",
      "ele • العرض بالسم 102\n",
      "ele \n",
      "ele • رقم الموديل 10563\n",
      "ele • اللون بني\n",
      "ele • الخامة شعور جلدي\n",
      "ele •العمق بالسم  109\n",
      "ele • العرض بالسم 102\n",
      "ele •الارتفاع بالسم 112\n",
      "ele \n",
      "ele • رقم الموديل 10563\n",
      "ele • اللون بني\n",
      "ele • الخامة شعور جلدي\n",
      "ele •العمق بالسم  109\n",
      "w 102 -l:  112 -H:  109\n"
     ]
    }
   ],
   "source": [
    "ts_dimensions_width = extract_ele(['العرض بالسم', 'Width'])\n",
    "ts_dimensions_length = extract_ele(['الارتفاع بالسم', 'الارتفاع بالسم'])\n",
    "\n",
    "ts_dimensions_height = extract_ele(['العمق بالسم', 'العمق بالسم'])\n",
    "print('w', ts_dimensions_width, '-l: ',ts_dimensions_length, '-H: ', ts_dimensions_height)"
   ]
  },
  {
   "cell_type": "code",
   "execution_count": 116,
   "metadata": {},
   "outputs": [
    {
     "name": "stdout",
     "output_type": "stream",
     "text": [
      "Count:  0\n",
      "find ['p', 'span']\n",
      "Count:  1\n",
      "find ['p', 'span']\n",
      "Count:  2\n",
      "find ['p', 'span']\n"
     ]
    },
    {
     "data": {
      "text/plain": [
       "'الابعاد : العرض 115 سم الارتفاع 105 سم العمق : 99 سم'"
      ]
     },
     "execution_count": 116,
     "metadata": {},
     "output_type": "execute_result"
    }
   ],
   "source": [
    "product_toto = extract_product_size()\n",
    "product_toto"
   ]
  },
  {
   "cell_type": "code",
   "execution_count": 118,
   "metadata": {},
   "outputs": [
    {
     "data": {
      "text/plain": [
       "'04-03295-008-00-RC'"
      ]
     },
     "execution_count": 118,
     "metadata": {},
     "output_type": "execute_result"
    }
   ],
   "source": [
    "sku = soup.find('strong', text=re.compile(r'رقم المنتج')).next_sibling\n",
    "sku"
   ]
  },
  {
   "cell_type": "code",
   "execution_count": 19,
   "metadata": {},
   "outputs": [
    {
     "data": {
      "text/plain": [
       "'• الأبعاد : الطول : 200 سم - العرض : 180 سم'"
      ]
     },
     "execution_count": 19,
     "metadata": {},
     "output_type": "execute_result"
    }
   ],
   "source": [
    "products_size = soup.find('p', text=re.compile(r'الابعاد')).text.replace('\\xa0', '').strip()\n",
    "products_size"
   ]
  },
  {
   "cell_type": "code",
   "execution_count": 18,
   "metadata": {},
   "outputs": [
    {
     "data": {
      "text/plain": [
       "<div class=\"richText-root-2t-\"><p>أضف سرير مزدوج من ريل كونسبت - 180* 207 سم موديل أريزونا لغرفة نومك لتنعم بالراحة وبتصميم عصري مصنوع من أجود الخامات مع ضمان لمدة 12 شهر</p>\n",
       "<p>• صنع في إيطاليا</p>\n",
       "<p>• الأبعاد : الطول : 200 سم - العرض : 180 سم </p></div>"
      ]
     },
     "execution_count": 18,
     "metadata": {},
     "output_type": "execute_result"
    }
   ],
   "source": [
    "toto = soup.find('div', {'class': 'richText-root-2t-'})\n",
    "toto"
   ]
  },
  {
   "cell_type": "code",
   "execution_count": 102,
   "metadata": {},
   "outputs": [
    {
     "ename": "AttributeError",
     "evalue": "'NoneType' object has no attribute 'text'",
     "output_type": "error",
     "traceback": [
      "\u001b[0;31m---------------------------------------------------------------------------\u001b[0m",
      "\u001b[0;31mAttributeError\u001b[0m                            Traceback (most recent call last)",
      "\u001b[0;32m<ipython-input-102-2b58f0987b4f>\u001b[0m in \u001b[0;36m<module>\u001b[0;34m\u001b[0m\n\u001b[1;32m      1\u001b[0m \u001b[0;32mtry\u001b[0m\u001b[0;34m:\u001b[0m\u001b[0;34m\u001b[0m\u001b[0;34m\u001b[0m\u001b[0m\n\u001b[0;32m----> 2\u001b[0;31m     \u001b[0mproducts_size\u001b[0m \u001b[0;34m=\u001b[0m \u001b[0msoup\u001b[0m\u001b[0;34m.\u001b[0m\u001b[0mfind\u001b[0m\u001b[0;34m(\u001b[0m\u001b[0;34m'span'\u001b[0m\u001b[0;34m,\u001b[0m \u001b[0mtext\u001b[0m\u001b[0;34m=\u001b[0m\u001b[0mre\u001b[0m\u001b[0;34m.\u001b[0m\u001b[0mcompile\u001b[0m\u001b[0;34m(\u001b[0m\u001b[0;34mr'^الابعاد'\u001b[0m\u001b[0;34m)\u001b[0m\u001b[0;34m)\u001b[0m\u001b[0;34m.\u001b[0m\u001b[0mtext\u001b[0m\u001b[0;34m.\u001b[0m\u001b[0mreplace\u001b[0m\u001b[0;34m(\u001b[0m\u001b[0;34m'\\xa0'\u001b[0m\u001b[0;34m,\u001b[0m \u001b[0;34m''\u001b[0m\u001b[0;34m)\u001b[0m\u001b[0;34m.\u001b[0m\u001b[0mstrip\u001b[0m\u001b[0;34m(\u001b[0m\u001b[0;34m)\u001b[0m\u001b[0;34m\u001b[0m\u001b[0;34m\u001b[0m\u001b[0m\n\u001b[0m\u001b[1;32m      3\u001b[0m \u001b[0;32mexcept\u001b[0m\u001b[0;34m:\u001b[0m\u001b[0;34m\u001b[0m\u001b[0;34m\u001b[0m\u001b[0m\n",
      "\u001b[0;31mAttributeError\u001b[0m: 'NoneType' object has no attribute 'text'",
      "\nDuring handling of the above exception, another exception occurred:\n",
      "\u001b[0;31mAttributeError\u001b[0m                            Traceback (most recent call last)",
      "\u001b[0;32m<ipython-input-102-2b58f0987b4f>\u001b[0m in \u001b[0;36m<module>\u001b[0;34m\u001b[0m\n\u001b[1;32m      2\u001b[0m     \u001b[0mproducts_size\u001b[0m \u001b[0;34m=\u001b[0m \u001b[0msoup\u001b[0m\u001b[0;34m.\u001b[0m\u001b[0mfind\u001b[0m\u001b[0;34m(\u001b[0m\u001b[0;34m'span'\u001b[0m\u001b[0;34m,\u001b[0m \u001b[0mtext\u001b[0m\u001b[0;34m=\u001b[0m\u001b[0mre\u001b[0m\u001b[0;34m.\u001b[0m\u001b[0mcompile\u001b[0m\u001b[0;34m(\u001b[0m\u001b[0;34mr'^الابعاد'\u001b[0m\u001b[0;34m)\u001b[0m\u001b[0;34m)\u001b[0m\u001b[0;34m.\u001b[0m\u001b[0mtext\u001b[0m\u001b[0;34m.\u001b[0m\u001b[0mreplace\u001b[0m\u001b[0;34m(\u001b[0m\u001b[0;34m'\\xa0'\u001b[0m\u001b[0;34m,\u001b[0m \u001b[0;34m''\u001b[0m\u001b[0;34m)\u001b[0m\u001b[0;34m.\u001b[0m\u001b[0mstrip\u001b[0m\u001b[0;34m(\u001b[0m\u001b[0;34m)\u001b[0m\u001b[0;34m\u001b[0m\u001b[0;34m\u001b[0m\u001b[0m\n\u001b[1;32m      3\u001b[0m \u001b[0;32mexcept\u001b[0m\u001b[0;34m:\u001b[0m\u001b[0;34m\u001b[0m\u001b[0;34m\u001b[0m\u001b[0m\n\u001b[0;32m----> 4\u001b[0;31m     \u001b[0mproducts_size\u001b[0m \u001b[0;34m=\u001b[0m \u001b[0msoup\u001b[0m\u001b[0;34m.\u001b[0m\u001b[0mfind\u001b[0m\u001b[0;34m(\u001b[0m\u001b[0;34m'p'\u001b[0m\u001b[0;34m,\u001b[0m \u001b[0mtext\u001b[0m\u001b[0;34m=\u001b[0m\u001b[0mre\u001b[0m\u001b[0;34m.\u001b[0m\u001b[0mcompile\u001b[0m\u001b[0;34m(\u001b[0m\u001b[0;34mr'^الابعاد'\u001b[0m\u001b[0;34m)\u001b[0m\u001b[0;34m)\u001b[0m\u001b[0;34m.\u001b[0m\u001b[0mtext\u001b[0m\u001b[0;34m.\u001b[0m\u001b[0mreplace\u001b[0m\u001b[0;34m(\u001b[0m\u001b[0;34m'\\xa0'\u001b[0m\u001b[0;34m,\u001b[0m \u001b[0;34m''\u001b[0m\u001b[0;34m)\u001b[0m\u001b[0;34m.\u001b[0m\u001b[0mstrip\u001b[0m\u001b[0;34m(\u001b[0m\u001b[0;34m)\u001b[0m\u001b[0;34m\u001b[0m\u001b[0;34m\u001b[0m\u001b[0m\n\u001b[0m\u001b[1;32m      5\u001b[0m \u001b[0mproducts_size\u001b[0m\u001b[0;34m\u001b[0m\u001b[0;34m\u001b[0m\u001b[0m\n",
      "\u001b[0;31mAttributeError\u001b[0m: 'NoneType' object has no attribute 'text'"
     ]
    }
   ],
   "source": [
    "try:\n",
    "    products_size = soup.find('span', text=re.compile(r'^الابعاد')).text.replace('\\xa0', '').strip()\n",
    "except:\n",
    "    products_size = soup.find('p', text=re.compile(r'^الابعاد')).text.replace('\\xa0', '').strip()\n",
    "products_size"
   ]
  },
  {
   "cell_type": "code",
   "execution_count": 92,
   "metadata": {},
   "outputs": [],
   "source": [
    "def extract_ele(name, soup):\n",
    "    elements = soup.find('div', {'class': 'richText-root-2t-'})\n",
    "    for ele in elements:\n",
    "        try:\n",
    "            if name in ele.text:\n",
    "                return ele.text.replace(name, '').replace('•', '').strip()\n",
    "        except:\n",
    "            pass"
   ]
  },
  {
   "cell_type": "code",
   "execution_count": 100,
   "metadata": {},
   "outputs": [
    {
     "name": "stdout",
     "output_type": "stream",
     "text": [
      "فرنسا 36 81 81 خشبي خشب طبيعي J0J087 None\n"
     ]
    }
   ],
   "source": [
    "manufacturer =  extract_ele('صنع في',soup)\n",
    "depth =  extract_ele('الارتفاع بالسم',soup)\n",
    "ts_dimensions_width =  extract_ele('العرض بالسم',soup)\n",
    "ts_dimensions_height =  extract_ele('العمق بالسم',soup)\n",
    "raw_materials =  extract_ele('الخامة',soup)\n",
    "free_colors =  extract_ele('اللون',soup)\n",
    "sku =  extract_ele('رقم الموديل',soup)\n",
    "guarantee = extract_ele('الضمان',soup)\n",
    "\n",
    "print(manufacturer, depth, ts_dimensions_height, ts_dimensions_width, raw_materials, free_colors, sku, guarantee)"
   ]
  },
  {
   "cell_type": "code",
   "execution_count": 50,
   "metadata": {},
   "outputs": [
    {
     "data": {
      "text/plain": [
       "'تشمل ضمان لكامل المنتجات لمدة عام ضد عيوب التصنيع.'"
      ]
     },
     "execution_count": 50,
     "metadata": {},
     "output_type": "execute_result"
    }
   ],
   "source": [
    "guarantee = soup.find('strong', {'class': 'productFullDetail-three_col_text_img-28a'}, text='ضمان').next_element.next_element.text.strip()\n",
    "guarantee"
   ]
  },
  {
   "cell_type": "code",
   "execution_count": 108,
   "metadata": {},
   "outputs": [
    {
     "data": {
      "text/plain": [
       "'85'"
      ]
     },
     "execution_count": 108,
     "metadata": {},
     "output_type": "execute_result"
    }
   ],
   "source": [
    "ts_dimensions_height = soup.find('strong', text=re.compile(r'Height :')).next_element.next_element\n",
    "ts_dimensions_width  = soup.find('strong', text=re.compile(r'Width :')).next_element.next_element     \n",
    "depth = soup.find('strong', text=re.compile(r'Depth :')).next_element.next_element\n",
    "depth         "
   ]
  },
  {
   "cell_type": "code",
   "execution_count": 110,
   "metadata": {},
   "outputs": [],
   "source": [
    "urls = [\n",
    "    \n",
    "    {'cat1': 'غرف النوم', 'cat2': 'أسِرَّة', 'cat3': 'سرير كينج', 'url':'https://www.almutlaqfurniture.com/bedroom/beds/king-doubled-bed.html?page=1'},\n",
    "    {'cat1': 'غرف النوم', 'cat2': 'أسِرَّة', 'cat3': 'سرير فردي', 'url':'https://www.almutlaqfurniture.com/bedroom/beds/single-bed.html?page=1'},\n",
    "    {'cat1': 'غرف النوم', 'cat2': 'دواليب الملابس', 'cat3': '', 'url':'https://www.almutlaqfurniture.com/bedroom/wardrobe.html?page=1'},\n",
    "    {'cat1': 'غرف النوم', 'cat2': 'المراتب', 'cat3': 'مراتب فردي', 'url':'https://www.almutlaqfurniture.com/bedroom/mattress/single-matteress.html?page=1'},\n",
    "    {'cat1': 'غرف النوم', 'cat2': 'المراتب', 'cat3': 'مراتب كوين', 'url':'https://www.almutlaqfurniture.com/bedroom/mattress/queen-matteress.html?page=1'},\n",
    "    {'cat1': 'غرف النوم', 'cat2': 'المراتب', 'cat3': 'مراتب كينج-مزدوج', 'url':'https://www.almutlaqfurniture.com/bedroom/mattress/king-matteress.html'},\n",
    "    {'cat1': 'غرف النوم', 'cat2': 'خزائن ذات أدراج', 'cat3': '', 'url':'https://www.almutlaqfurniture.com/bedroom/chest-of-drawers.html?page=1'},\n",
    "    {'cat1': 'غرف النوم', 'cat2': 'طاولات الزينة والمرايا', 'cat3': 'طاولات الزينة', 'url':'https://www.almutlaqfurniture.com/bedroom/dressers-mirrors/dressing-table.html?page=1'},\n",
    "    {'cat1': 'غرف النوم', 'cat2': 'طاولات الزينة والمرايا', 'cat3': 'مرايا', 'url':'https://www.almutlaqfurniture.com/bedroom/dressers-mirrors/dressing-mirror.html?page=1'},\n",
    "    {'cat1': 'غرف النوم', 'cat2': 'طاولات جانبية للسرير', 'cat3': '', 'url':'https://www.almutlaqfurniture.com/bedroom/night-stand.html?page=1'},\n",
    "    {'cat1': 'غرف النوم', 'cat2': 'مستلزمات غرف النوم', 'cat3': 'ألواح و قواعد للسرير', 'url':'https://www.almutlaqfurniture.com/bedroom/bedroom-essentials/bed-slats.html?page=1'},\n",
    "    {'cat1': 'غرف النوم', 'cat2': 'مستلزمات غرف النوم', 'cat3': 'أدراج للسرير', 'url':'https://www.almutlaqfurniture.com/bedroom/bedroom-essentials/bed-drawers.html?page=1'},\n",
    "    {'cat1': 'غرف النوم', 'cat2': 'مستلزمات غرف النوم', 'cat3': 'وحدات حائط', 'url':'https://www.almutlaqfurniture.com/bedroom/bedroom-essentials/wall-unit.html?page=1'},\n",
    "    {'cat1': 'غرف النوم', 'cat2': 'مفروشات السرير', 'cat3': 'وسائد', 'url':'https://www.almutlaqfurniture.com/bedroom/bedding/cushions.html?page=1'},\n",
    "    {'cat1': 'غرف النوم', 'cat2': 'مفروشات السرير', 'cat3': 'مفارش السرير', 'url':'https://www.almutlaqfurniture.com/bedroom/bedding/bed-covers.html?page=1'},\n",
    "    {'cat1': 'غرف النوم', 'cat2': 'غرف نوم كاملة', 'cat3': '', 'url':'https://www.almutlaqfurniture.com/bedroom/bedroom-sets.html?page=1'},\n",
    "    {'cat1': 'غرف النوم', 'cat2': 'غرف أطفال كاملة', 'cat3': '', 'url':'https://www.almutlaqfurniture.com/bedroom/kids-room-sets.html?page=1'},\n",
    "    \n",
    "    {'cat1': 'غرف السفرة', 'cat2': 'طاولات السفرة', 'cat3': '', 'url':'https://www.almutlaqfurniture.com/dining/dining-table.html?page=1'},\n",
    "    {'cat1': 'غرف السفرة', 'cat2': 'كراسي السفرة', 'cat3': '', 'url':'https://www.almutlaqfurniture.com/dining/dining-chair.html?page=1'},\n",
    "    {'cat1': 'غرف السفرة', 'cat2': 'وحدات عرض', 'cat3': '', 'url':'https://www.almutlaqfurniture.com/dining/display-cabinet.html?page=1'},\n",
    "    {'cat1': 'غرف السفرة', 'cat2': 'بوفيهات', 'cat3': '', 'url':'https://www.almutlaqfurniture.com/dining/buffet.html?page=1'},\n",
    "    {'cat1': 'غرف السفرة', 'cat2': 'مرايا لغرفة السفرة', 'cat3': '', 'url':'https://www.almutlaqfurniture.com/dining/dining-mirror.html?page=1'},\n",
    "    {'cat1': 'غرف السفرة', 'cat2': 'أطقم السفرة', 'cat3': '', 'url':'https://www.almutlaqfurniture.com/dining/dining-sets.html?page=1'},\n",
    "    {'cat1': 'غرف السفرة', 'cat2': 'كراسي استرخاء', 'cat3': '', 'url':'https://www.almutlaqfurniture.com/living/recliner.html?page=1'},\n",
    "    \n",
    "    {'cat1': 'غرف المعيشة', 'cat2': 'كنب ومقاعد', 'cat3': 'مساند للقدمين', 'url':'https://www.almutlaqfurniture.com/living/sofas-seating/footstools.html?page=1'},\n",
    "    {'cat1': 'غرف المعيشة', 'cat2': 'كنب ومقاعد', 'cat3': 'كراسي بذراعين', 'url':'https://www.almutlaqfurniture.com/living/sofas-seating/armchair.html?page=1'},\n",
    "    {'cat1': 'غرف المعيشة', 'cat2': 'كنب ومقاعد', 'cat3': 'كنب مقعد واحد', 'url':'https://www.almutlaqfurniture.com/living/sofas-seating/01-seater-sofa.html?page=1'},\n",
    "    {'cat1': 'غرف المعيشة', 'cat2': 'كنب ومقاعد', 'cat3': 'كنب مقعدين', 'url':'https://www.almutlaqfurniture.com/living/sofas-seating/02-seater-sofa.html?page=1'},\n",
    "    {'cat1': 'غرف المعيشة', 'cat2': 'كنب ومقاعد', 'cat3': 'كنب 3 مقاعد', 'url':'https://www.almutlaqfurniture.com/living/sofas-seating/03-seater-sofa.html?page=1'},\n",
    "    {'cat1': 'غرف المعيشة', 'cat2': 'كنب ومقاعد', 'cat3': 'أطقم كنب', 'url':'https://www.almutlaqfurniture.com/living/sofas-seating/sofa-sets.html?page=1'},\n",
    "    {'cat1': 'غرف المعيشة', 'cat2': 'طاولات القهوة', 'cat3': '', 'url':'https://www.almutlaqfurniture.com/living/coffee-table.html?page=1'},\n",
    "    {'cat1': 'غرف المعيشة', 'cat2': 'وحدات للتلفاز', 'cat3': '', 'url':'https://www.almutlaqfurniture.com/living/tv-unit.html?page=1'},\n",
    "    {'cat1': 'غرف المعيشة', 'cat2': 'وحدات حائط', 'cat3': '', 'url':'https://www.almutlaqfurniture.com/living/wall-unit.html?page=1'},\n",
    "    {'cat1': 'غرف المعيشة', 'cat2': 'أطقم غرف المعيشة', 'cat3': '', 'url':'https://www.almutlaqfurniture.com/living/living-sets.html?page=1'},\n",
    "\n",
    "    {'cat1': 'اكسسوارات وديكور المنزل', 'cat2': 'أكسسوارات للمنزل', 'cat3': 'مزهريات', 'url':'https://www.almutlaqfurniture.com/decor-and-furnnishings/home-accessories/vases-bowls.html?page=1'},\n",
    "    {'cat1': 'اكسسوارات وديكور المنزل', 'cat2': 'أكسسوارات للمنزل', 'cat3': 'ساعات حائط', 'url':'https://www.almutlaqfurniture.com/decor-and-furnnishings/home-accessories/clocks.html?page=1'},\n",
    "    {'cat1': 'اكسسوارات وديكور المنزل', 'cat2': 'السجاد والمفروشات', 'cat3': '', 'url':'https://www.almutlaqfurniture.com/decor-and-furnnishings/rugs-and-carpets.html?page=1'},\n",
    "    {'cat1': 'اكسسوارات وديكور المنزل', 'cat2': 'الاضاءة', 'cat3': 'مصابيح معلقة', 'url':'https://www.almutlaqfurniture.com/decor-and-furnnishings/lighting/hanging-lamp.html?page=1'},\n",
    "    {'cat1': 'اكسسوارات وديكور المنزل', 'cat2': 'الاضاءة', 'cat3': 'مصابيح طاولة', 'url':'https://www.almutlaqfurniture.com/decor-and-furnnishings/lighting/table-lamp.html?page=1'},\n",
    "    {'cat1': 'اكسسوارات وديكور المنزل', 'cat2': 'الاضاءة', 'cat3': 'مصابيح أرضية', 'url':'https://www.almutlaqfurniture.com/decor-and-furnnishings/lighting/floor-lamp.html?page=1'},\n",
    "    \n",
    "    {'cat1': 'الاثاث المكتبي', 'cat2': 'خزانات الكتب', 'cat3': '', 'url':'https://www.almutlaqfurniture.com/home-office/book-case.html?page=1'},\n",
    "    {'cat1': 'الاثاث المكتبي', 'cat2': 'مكاتب', 'cat3': '', 'url':'https://www.almutlaqfurniture.com/home-office/desk.html?page=1'},\n",
    "    \n",
    "    {'cat1': 'غرف كاملة', 'cat2': '', 'cat3': '', 'url':'https://www.almutlaqfurniture.com/full-rooms.html?page=1'},\n",
    "\n",
    "\n",
    "    \n",
    "]"
   ]
  },
  {
   "cell_type": "code",
   "execution_count": null,
   "metadata": {},
   "outputs": [],
   "source": [
    "df = pd.DataFrame(urls)\n",
    "df.to_excel('Almutaq_cats.xlsx')"
   ]
  },
  {
   "cell_type": "code",
   "execution_count": null,
   "metadata": {},
   "outputs": [],
   "source": []
  }
 ],
 "metadata": {
  "interpreter": {
   "hash": "901bbe481fb91f862c10b8e54f95d7da636ff35e7b7d7322c639cfaac06e5987"
  },
  "kernelspec": {
   "display_name": "Python 3.8.8 ('base')",
   "language": "python",
   "name": "python3"
  },
  "language_info": {
   "codemirror_mode": {
    "name": "ipython",
    "version": 3
   },
   "file_extension": ".py",
   "mimetype": "text/x-python",
   "name": "python",
   "nbconvert_exporter": "python",
   "pygments_lexer": "ipython3",
   "version": "3.8.8"
  },
  "orig_nbformat": 4
 },
 "nbformat": 4,
 "nbformat_minor": 2
}
