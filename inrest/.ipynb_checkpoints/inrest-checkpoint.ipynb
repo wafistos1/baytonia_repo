{
 "cells": [
  {
   "cell_type": "code",
   "execution_count": 1,
   "id": "51b0a636",
   "metadata": {},
   "outputs": [],
   "source": [
    "#imports here\n",
    "from selenium import webdriver\n",
    "from selenium.webdriver.common.keys import Keys\n",
    "from selenium.webdriver.support import expected_conditions as EC\n",
    "from selenium.webdriver.common.by import By\n",
    "from selenium.webdriver.support.wait import WebDriverWait\n",
    "from selenium.webdriver.firefox.options import Options\n",
    "import time\n",
    "import os\n",
    "from fake_useragent import UserAgent\n",
    "from random import randint\n",
    "import pandas as pd\n",
    "import re\n",
    "from datetime import datetime\n",
    "from datetime import timedelta\n",
    "from bs4 import BeautifulSoup\n",
    "import requests"
   ]
  },
  {
   "cell_type": "markdown",
   "id": "e09c5275",
   "metadata": {},
   "source": [
    "# firefox "
   ]
  },
  {
   "cell_type": "code",
   "execution_count": 138,
   "id": "e81ce385",
   "metadata": {},
   "outputs": [
    {
     "name": "stdout",
     "output_type": "stream",
     "text": [
      "Mozilla/5.0 (Macintosh; Intel Mac OS X 10_9_0) AppleWebKit/537.36 (KHTML, like Gecko) Chrome/32.0.1664.3 Safari/537.36\n"
     ]
    },
    {
     "name": "stderr",
     "output_type": "stream",
     "text": [
      "<ipython-input-138-5315509cced7>:7: DeprecationWarning: use options instead of firefox_options\n",
      "  driver = webdriver.Firefox(firefox_options=options)\n"
     ]
    }
   ],
   "source": [
    "options = Options()\n",
    "ua = UserAgent()\n",
    "userAgent = ua.random\n",
    "print(userAgent)\n",
    "options.add_argument(f'user-agent={userAgent}')\n",
    "#options.add_argument(\"--headless\")\n",
    "driver = webdriver.Firefox(firefox_options=options)\n",
    "#     driver = webdriver.Firefox()"
   ]
  },
  {
   "cell_type": "code",
   "execution_count": null,
   "id": "f8ce39de",
   "metadata": {},
   "outputs": [],
   "source": []
  },
  {
   "cell_type": "markdown",
   "id": "04e54c2a",
   "metadata": {},
   "source": [
    "# Traitement"
   ]
  },
  {
   "cell_type": "code",
   "execution_count": 51,
   "id": "2d9bba02",
   "metadata": {},
   "outputs": [],
   "source": [
    "df = None"
   ]
  },
  {
   "cell_type": "code",
   "execution_count": 55,
   "id": "770e17a7",
   "metadata": {},
   "outputs": [],
   "source": [
    "df1 = pd.read_excel('TamkeenUpdate_all.xlsx')\n",
    "df2 = pd.read_excel('TamkeenUpdate_all1.xlsx')\n",
    "\n",
    "\n",
    "\n",
    "\n",
    "\n"
   ]
  },
  {
   "cell_type": "code",
   "execution_count": 59,
   "id": "c68ecff5",
   "metadata": {},
   "outputs": [
    {
     "data": {
      "text/plain": [
       "(176, 41)"
      ]
     },
     "execution_count": 59,
     "metadata": {},
     "output_type": "execute_result"
    }
   ],
   "source": [
    "df2.shape"
   ]
  },
  {
   "cell_type": "code",
   "execution_count": 58,
   "id": "34fa7608",
   "metadata": {},
   "outputs": [
    {
     "data": {
      "text/plain": [
       "(466, 41)"
      ]
     },
     "execution_count": 58,
     "metadata": {},
     "output_type": "execute_result"
    }
   ],
   "source": [
    "df1.shape"
   ]
  },
  {
   "cell_type": "code",
   "execution_count": 56,
   "id": "075f608e",
   "metadata": {},
   "outputs": [],
   "source": [
    "df = pd.concat([df1, df2], ignore_index=True)"
   ]
  },
  {
   "cell_type": "code",
   "execution_count": 57,
   "id": "2c94070c",
   "metadata": {},
   "outputs": [
    {
     "data": {
      "text/plain": [
       "(642, 41)"
      ]
     },
     "execution_count": 57,
     "metadata": {},
     "output_type": "execute_result"
    }
   ],
   "source": [
    "df.shape"
   ]
  },
  {
   "cell_type": "code",
   "execution_count": 622,
   "id": "e1953e51",
   "metadata": {},
   "outputs": [],
   "source": [
    "df.to_excel('clean_data1.xlsx')"
   ]
  },
  {
   "cell_type": "code",
   "execution_count": 623,
   "id": "9ac414a1",
   "metadata": {},
   "outputs": [],
   "source": [
    "df['mgs_brand'] = df['mgs_brand'].str.replace('Brand:','').str.strip()"
   ]
  },
  {
   "cell_type": "code",
   "execution_count": 624,
   "id": "35e63d94",
   "metadata": {},
   "outputs": [],
   "source": [
    "df['out_of_stock_qty'] = df['out_of_stock_qty'].str.replace('متوفر في المخزون', '').str.strip()"
   ]
  },
  {
   "cell_type": "code",
   "execution_count": 625,
   "id": "eeb8c260",
   "metadata": {},
   "outputs": [],
   "source": [
    "df['is_in_stock'] = 1"
   ]
  },
  {
   "cell_type": "code",
   "execution_count": 626,
   "id": "2d8a299f",
   "metadata": {},
   "outputs": [],
   "source": [
    "df['allow_backorders'] = 1"
   ]
  },
  {
   "cell_type": "code",
   "execution_count": 627,
   "id": "163561f1",
   "metadata": {},
   "outputs": [],
   "source": [
    "df['product_online'] = 1"
   ]
  },
  {
   "cell_type": "code",
   "execution_count": 628,
   "id": "168afd56",
   "metadata": {},
   "outputs": [],
   "source": [
    "df.loc[df['out_of_stock_qty'] == 'غير', 'out_of_stock_qty'] = 0"
   ]
  },
  {
   "cell_type": "code",
   "execution_count": 629,
   "id": "2996f76c",
   "metadata": {},
   "outputs": [],
   "source": [
    "df.loc[df['out_of_stock_qty'] == 0, 'allow_backorders'] = 0"
   ]
  },
  {
   "cell_type": "code",
   "execution_count": 630,
   "id": "760f564e",
   "metadata": {},
   "outputs": [],
   "source": [
    "df.loc[df['out_of_stock_qty'] == 0, 'product_online'] = 2"
   ]
  },
  {
   "cell_type": "code",
   "execution_count": 631,
   "id": "e60e1a2f",
   "metadata": {},
   "outputs": [],
   "source": [
    "df.loc[df['out_of_stock_qty'] == 0, 'is_in_stock'] = 0"
   ]
  },
  {
   "cell_type": "code",
   "execution_count": 632,
   "id": "b504d602",
   "metadata": {},
   "outputs": [],
   "source": [
    "df.loc[df['out_of_stock_qty'] == 0, 'estimated_delivery_enable'] = 'Static Text'"
   ]
  },
  {
   "cell_type": "code",
   "execution_count": 633,
   "id": "de9e5efa",
   "metadata": {},
   "outputs": [],
   "source": [
    "df.loc[df['out_of_stock_qty'] == 0, 'estimated_delivery_enable'] = 'Static Text'"
   ]
  },
  {
   "cell_type": "code",
   "execution_count": 634,
   "id": "d3362da5",
   "metadata": {},
   "outputs": [],
   "source": [
    "df.to_excel('toto.xlsx')"
   ]
  },
  {
   "cell_type": "code",
   "execution_count": null,
   "id": "0aa345e5",
   "metadata": {},
   "outputs": [],
   "source": []
  },
  {
   "cell_type": "code",
   "execution_count": null,
   "id": "7f62b270",
   "metadata": {},
   "outputs": [],
   "source": []
  },
  {
   "cell_type": "code",
   "execution_count": null,
   "id": "e7bd127a",
   "metadata": {},
   "outputs": [],
   "source": []
  },
  {
   "cell_type": "code",
   "execution_count": 635,
   "id": "45363fd5",
   "metadata": {},
   "outputs": [],
   "source": [
    "df.drop_duplicates(subset=['sku'], inplace=True)"
   ]
  },
  {
   "cell_type": "code",
   "execution_count": 636,
   "id": "6b739214",
   "metadata": {},
   "outputs": [],
   "source": [
    "df.to_excel('Update_clean.xlsx')"
   ]
  },
  {
   "cell_type": "code",
   "execution_count": 637,
   "id": "7deef635",
   "metadata": {},
   "outputs": [],
   "source": [
    "df['allow_backorders'] = df['is_in_stock']\n",
    "df['estimated_delivery_enable'] = 'Static Text'"
   ]
  },
  {
   "cell_type": "code",
   "execution_count": 638,
   "id": "f2909c74",
   "metadata": {},
   "outputs": [],
   "source": [
    "df['url_key'] = df['url_key'].str.replace(', ', '-')\n",
    "df['url_key'] = df['url_key'].str.replace('/', '-')\n",
    "df['url_key'] = df['url_key'].str.replace('\"', '-')\n",
    "df['url_key'] = df['url_key'].str.replace('%', '-')\n",
    "df['url_key'] = df['url_key'].str.replace('+', '-', regex=False)"
   ]
  },
  {
   "cell_type": "code",
   "execution_count": null,
   "id": "c5fbd6f2",
   "metadata": {},
   "outputs": [],
   "source": []
  },
  {
   "cell_type": "code",
   "execution_count": null,
   "id": "07978719",
   "metadata": {},
   "outputs": [],
   "source": []
  },
  {
   "cell_type": "code",
   "execution_count": 642,
   "id": "c17d31e9",
   "metadata": {},
   "outputs": [],
   "source": [
    "df.loc[(df['raw_materials'] == 0) | (df['raw_materials'].isnull()), 'raw_materials'] = '__EMPTY__VALUE'"
   ]
  },
  {
   "cell_type": "code",
   "execution_count": 643,
   "id": "40aadb38",
   "metadata": {},
   "outputs": [],
   "source": [
    "df.loc[(df['weight'] == 0) | (df['weight'].isnull()), 'weight'] = '__EMPTY__VALUE'"
   ]
  },
  {
   "cell_type": "code",
   "execution_count": 644,
   "id": "8852be3f",
   "metadata": {},
   "outputs": [],
   "source": [
    "df.loc[(df['free_colors'] == 0) | (df['free_colors'].isnull()), 'free_colors'] = '__EMPTY__VALUE'"
   ]
  },
  {
   "cell_type": "code",
   "execution_count": 645,
   "id": "559e3590",
   "metadata": {},
   "outputs": [],
   "source": [
    "df.to_excel('toto5.xlsx')"
   ]
  },
  {
   "cell_type": "markdown",
   "id": "799c956d",
   "metadata": {},
   "source": [
    "# split name"
   ]
  },
  {
   "cell_type": "code",
   "execution_count": 646,
   "id": "a7d6372d",
   "metadata": {},
   "outputs": [],
   "source": [
    "df[['ts_dimensions_width','ts_dimensions_length', 'ts_dimensions_height']] = df['product_size'].str.split(\"×\",expand=True,)"
   ]
  },
  {
   "cell_type": "code",
   "execution_count": 651,
   "id": "18829ecd",
   "metadata": {},
   "outputs": [],
   "source": [
    "df[['toto','hertz']] = df['voltage'].str.split(\"فولت\",expand=True,)"
   ]
  },
  {
   "cell_type": "code",
   "execution_count": 653,
   "id": "71e5cc7c",
   "metadata": {},
   "outputs": [],
   "source": [
    "df['voltage'] = df['toto']"
   ]
  },
  {
   "cell_type": "code",
   "execution_count": 654,
   "id": "b8c8c8d5",
   "metadata": {},
   "outputs": [],
   "source": [
    "df.to_excel('toto.xlsx')"
   ]
  },
  {
   "cell_type": "code",
   "execution_count": 655,
   "id": "a23abcb0",
   "metadata": {},
   "outputs": [],
   "source": [
    "\n",
    "df.loc[(df['ts_dimensions_width'] == 0) | (df['ts_dimensions_width'].isnull()), 'ts_dimensions_width'] = '__EMPTY__VALUE__'\n",
    "df.loc[(df['ts_dimensions_height'] == 0) | (df['ts_dimensions_height'].isnull()), 'ts_dimensions_height'] = '__EMPTY__VALUE__'\n",
    "df.loc[(df['ts_dimensions_length'] == 0) | (df['ts_dimensions_length'].isnull()), 'ts_dimensions_length'] = '__EMPTY__VALUE__'\n",
    "\n"
   ]
  },
  {
   "cell_type": "code",
   "execution_count": 656,
   "id": "5fb33f3d",
   "metadata": {},
   "outputs": [],
   "source": [
    "df['allow_backorders'] = df['is_in_stock']\n",
    "df['estimated_delivery_enable'] = 'Static, Text'"
   ]
  },
  {
   "cell_type": "code",
   "execution_count": 657,
   "id": "3991cdec",
   "metadata": {},
   "outputs": [],
   "source": [
    "df['small_image'] =  df['base_image']\n",
    "df['swatch_image'] =  df['base_image']\n",
    "df['thumbnail_image'] =  df['base_image']\n",
    "df['attribute_set_code'] = 'Default'\n",
    "df['product_websites'] = 'base'"
   ]
  },
  {
   "cell_type": "code",
   "execution_count": 658,
   "id": "291a3247",
   "metadata": {},
   "outputs": [
    {
     "data": {
      "text/plain": [
       "0    1,364\n",
       "0    3,449\n",
       "0    4,499\n",
       "0    4,399\n",
       "0    2,699\n",
       "     ...  \n",
       "0      574\n",
       "0    1,021\n",
       "0      963\n",
       "0    2,299\n",
       "0    2,442\n",
       "Name: price, Length: 71, dtype: object"
      ]
     },
     "execution_count": 658,
     "metadata": {},
     "output_type": "execute_result"
    }
   ],
   "source": [
    "df['price'] "
   ]
  },
  {
   "cell_type": "code",
   "execution_count": 659,
   "id": "2ceacf9c",
   "metadata": {},
   "outputs": [],
   "source": [
    "def toto_clean(name):\n",
    "    df[name] = df[name].str.replace('•', '-')\n",
    "    df[name] = df[name].str.replace(':', '-')\n",
    "    df[name] = df[name].str.replace('/', '-')\n",
    "    df[name] = df[name].str.replace('\"', '-')\n",
    "    df[name] = df[name].str.replace('%', '-')\n",
    "    df[name] = df[name].str.replace('&', '-')\n",
    "    df[name] = df[name].str.replace('?', '-', regex=False)\n",
    "    df[name] = df[name].str.replace('(', '-', regex=False)\n",
    "    df[name] = df[name].str.replace(')', '-', regex=False)\n",
    "    df[name] = df[name].str.replace('{', '-', regex=False)\n",
    "    df[name] = df[name].str.replace('}', '-', regex=False)\n",
    "    df[name] = df[name].str.replace(\"'\", '-', regex=False)\n",
    "    df[name] = df[name].str.replace('*', 'X', regex=False)\n",
    "    df[name] = df[name].str.replace('#', '-')\n",
    "    df[name] = df[name].str.replace('”', '-')\n",
    "    df[name] = df[name].str.replace('!', '-')\n",
    "    df[name] = df[name].str.replace('”', '-')\n",
    "    df[name] = df[name].str.replace('=', '-')\n",
    "    df[name] = df[name].str.replace('+', '-', regex=False)\n",
    "    df[name] = df[name].str.replace('،', '-', regex=False)\n",
    "    df[name] = df[name].str.replace('عرض أقل', '', regex=False)\n",
    "    df[name] = df[name].str.replace('،', '-', regex=False)\n",
    "    \n",
    "def ampty_value(name):\n",
    "    df.loc[df[name].isnull(), name] = '__EMPTY__VALUE__'\n",
    "    \n",
    "    \n",
    "def price_num(name):\n",
    "    try:\n",
    "        df[name] = df[name].str.replace('-', '')\n",
    "        df[name] = df[name].str.replace(',', '')\n",
    "    except:\n",
    "        pass\n",
    "    df.loc[df[name] == '__EMPTY__VALUE__', name] = 0\n",
    "    \n",
    "    df[name] = pd.to_numeric(df[name])\n",
    "    df.loc[df[name] == 0, name] = '__EMPTY__VALUE__'\n",
    "def clean_punct(name):\n",
    "    for c in string.punctuation:\n",
    "        df[name] = df[name].str.replace(c, '-', regex=False)"
   ]
  },
  {
   "cell_type": "code",
   "execution_count": 660,
   "id": "6308ec78",
   "metadata": {},
   "outputs": [],
   "source": [
    "def parse_name(text):\n",
    "    new_text = []\n",
    "    for i, t in enumerate(text):\n",
    "        if i == 0:\n",
    "            new_text.append(t.title())\n",
    "        else:\n",
    "            new_text.append(t.lower())\n",
    "    return ''.join(new_text)"
   ]
  },
  {
   "cell_type": "code",
   "execution_count": 661,
   "id": "c0eed67c",
   "metadata": {},
   "outputs": [],
   "source": [
    "toto_clean('name')"
   ]
  },
  {
   "cell_type": "code",
   "execution_count": 662,
   "id": "7a9d8412",
   "metadata": {},
   "outputs": [],
   "source": [
    "toto_clean('description')"
   ]
  },
  {
   "cell_type": "code",
   "execution_count": 663,
   "id": "80ca98cf",
   "metadata": {},
   "outputs": [],
   "source": [
    "df['short_description'] = df['description']"
   ]
  },
  {
   "cell_type": "code",
   "execution_count": 664,
   "id": "53f9b991",
   "metadata": {},
   "outputs": [],
   "source": [
    "df.loc[df['short_description'].isnull(), 'short_description'] = df['description']"
   ]
  },
  {
   "cell_type": "code",
   "execution_count": 665,
   "id": "15550f0d",
   "metadata": {},
   "outputs": [],
   "source": [
    "df['price'] = df['price'].str.replace(',', '')\n",
    "df['special_price'] = df['special_price'].str.replace(',', '')"
   ]
  },
  {
   "cell_type": "code",
   "execution_count": 666,
   "id": "9baa0d22",
   "metadata": {},
   "outputs": [],
   "source": [
    "df['price'] = pd.to_numeric(df['price'])\n",
    "df['special_price'] = pd.to_numeric(df['special_price'])"
   ]
  },
  {
   "cell_type": "code",
   "execution_count": 667,
   "id": "6d7a6463",
   "metadata": {},
   "outputs": [],
   "source": [
    "# check if df price is correct si ils ne sont pas changer"
   ]
  },
  {
   "cell_type": "code",
   "execution_count": 668,
   "id": "a51907f2",
   "metadata": {},
   "outputs": [],
   "source": [
    "df['cost'] = df['price']"
   ]
  },
  {
   "cell_type": "code",
   "execution_count": 669,
   "id": "8d521372",
   "metadata": {},
   "outputs": [],
   "source": [
    "df['price'] = df['price'] * 1.05"
   ]
  },
  {
   "cell_type": "code",
   "execution_count": 670,
   "id": "a6e40ce8",
   "metadata": {},
   "outputs": [],
   "source": [
    "df['special_price'] = df['special_price'] * 1.05"
   ]
  },
  {
   "cell_type": "code",
   "execution_count": 120,
   "id": "f2899e3a",
   "metadata": {},
   "outputs": [],
   "source": [
    "df['supplier'] = 'KEN'"
   ]
  },
  {
   "cell_type": "code",
   "execution_count": 121,
   "id": "65ea282e",
   "metadata": {},
   "outputs": [],
   "source": [
    "df.to_excel('toto1.xlsx')"
   ]
  },
  {
   "cell_type": "code",
   "execution_count": 671,
   "id": "84cb34af",
   "metadata": {},
   "outputs": [],
   "source": [
    "df['sku'] = 'KEN-' + df['sku']"
   ]
  },
  {
   "cell_type": "code",
   "execution_count": 672,
   "id": "3f7a4306",
   "metadata": {},
   "outputs": [],
   "source": [
    "df['url_key'] = df['sku'] + '-' + df['name']"
   ]
  },
  {
   "cell_type": "markdown",
   "id": "ce0906dd",
   "metadata": {},
   "source": [
    "# ADD cats"
   ]
  },
  {
   "cell_type": "code",
   "execution_count": 673,
   "id": "505bdf20",
   "metadata": {},
   "outputs": [],
   "source": [
    "cats = pd.read_excel('/home/wafistos/Documents/Projects/scaping_wafi/tamkeenstores/categories/Cats_tam_keenstores.xlsx')"
   ]
  },
  {
   "cell_type": "code",
   "execution_count": null,
   "id": "a3c5e134",
   "metadata": {},
   "outputs": [],
   "source": []
  },
  {
   "cell_type": "code",
   "execution_count": 674,
   "id": "e9eb60dd",
   "metadata": {},
   "outputs": [],
   "source": [
    "list_cats = []\n",
    "for index, row in cats.iterrows():\n",
    "    list_cats.append([ row['cat'], row['id']])"
   ]
  },
  {
   "cell_type": "code",
   "execution_count": 675,
   "id": "ae838e09",
   "metadata": {},
   "outputs": [],
   "source": [
    "for ll in list_cats:\n",
    "    df.loc[df['categories3']== ll[0], 'categories'] = ll[1]"
   ]
  },
  {
   "cell_type": "code",
   "execution_count": 676,
   "id": "e9815160",
   "metadata": {},
   "outputs": [
    {
     "data": {
      "text/html": [
       "<div>\n",
       "<style scoped>\n",
       "    .dataframe tbody tr th:only-of-type {\n",
       "        vertical-align: middle;\n",
       "    }\n",
       "\n",
       "    .dataframe tbody tr th {\n",
       "        vertical-align: top;\n",
       "    }\n",
       "\n",
       "    .dataframe thead th {\n",
       "        text-align: right;\n",
       "    }\n",
       "</style>\n",
       "<table border=\"1\" class=\"dataframe\">\n",
       "  <thead>\n",
       "    <tr style=\"text-align: right;\">\n",
       "      <th></th>\n",
       "      <th>sku</th>\n",
       "      <th>store_view_code</th>\n",
       "      <th>attribute_set_code</th>\n",
       "      <th>product_websites</th>\n",
       "      <th>product_type</th>\n",
       "      <th>name</th>\n",
       "      <th>description</th>\n",
       "      <th>short_description</th>\n",
       "      <th>url_key</th>\n",
       "      <th>link_url</th>\n",
       "      <th>...</th>\n",
       "      <th>news_from_date</th>\n",
       "      <th>news_to_date</th>\n",
       "      <th>estimated_delivery_enable</th>\n",
       "      <th>estimated_delivery_text</th>\n",
       "      <th>supplier</th>\n",
       "      <th>ts_dimensions_width</th>\n",
       "      <th>ts_dimensions_length</th>\n",
       "      <th>ts_dimensions_height</th>\n",
       "      <th>hertz</th>\n",
       "      <th>toto</th>\n",
       "    </tr>\n",
       "  </thead>\n",
       "  <tbody>\n",
       "  </tbody>\n",
       "</table>\n",
       "<p>0 rows × 49 columns</p>\n",
       "</div>"
      ],
      "text/plain": [
       "Empty DataFrame\n",
       "Columns: [sku, store_view_code, attribute_set_code, product_websites, product_type, name, description, short_description, url_key, link_url, cost, price, special_price, categories1, categories2, categories3, categories, free_colors, raw_materials, weight, mgs_brand, product_size, refrigerator_height, compressor_type, type_, voltage, base_image, small_image, swatch_image, thumbnail_image, additional_images, is_in_stock, product_online, qty, out_of_stock_qty, allow_backorders, visibility, tax_class_name, manufacturer, news_from_date, news_to_date, estimated_delivery_enable, estimated_delivery_text, supplier, ts_dimensions_width, ts_dimensions_length, ts_dimensions_height, hertz, toto]\n",
       "Index: []\n",
       "\n",
       "[0 rows x 49 columns]"
      ]
     },
     "execution_count": 676,
     "metadata": {},
     "output_type": "execute_result"
    }
   ],
   "source": [
    "df.loc[df['categories'].isnull()]"
   ]
  },
  {
   "cell_type": "code",
   "execution_count": 677,
   "id": "acd7e039",
   "metadata": {},
   "outputs": [
    {
     "data": {
      "text/html": [
       "<div>\n",
       "<style scoped>\n",
       "    .dataframe tbody tr th:only-of-type {\n",
       "        vertical-align: middle;\n",
       "    }\n",
       "\n",
       "    .dataframe tbody tr th {\n",
       "        vertical-align: top;\n",
       "    }\n",
       "\n",
       "    .dataframe thead th {\n",
       "        text-align: right;\n",
       "    }\n",
       "</style>\n",
       "<table border=\"1\" class=\"dataframe\">\n",
       "  <thead>\n",
       "    <tr style=\"text-align: right;\">\n",
       "      <th></th>\n",
       "      <th>sku</th>\n",
       "      <th>store_view_code</th>\n",
       "      <th>attribute_set_code</th>\n",
       "      <th>product_websites</th>\n",
       "      <th>product_type</th>\n",
       "      <th>name</th>\n",
       "      <th>description</th>\n",
       "      <th>short_description</th>\n",
       "      <th>url_key</th>\n",
       "      <th>link_url</th>\n",
       "      <th>...</th>\n",
       "      <th>news_from_date</th>\n",
       "      <th>news_to_date</th>\n",
       "      <th>estimated_delivery_enable</th>\n",
       "      <th>estimated_delivery_text</th>\n",
       "      <th>supplier</th>\n",
       "      <th>ts_dimensions_width</th>\n",
       "      <th>ts_dimensions_length</th>\n",
       "      <th>ts_dimensions_height</th>\n",
       "      <th>hertz</th>\n",
       "      <th>toto</th>\n",
       "    </tr>\n",
       "  </thead>\n",
       "  <tbody>\n",
       "  </tbody>\n",
       "</table>\n",
       "<p>0 rows × 49 columns</p>\n",
       "</div>"
      ],
      "text/plain": [
       "Empty DataFrame\n",
       "Columns: [sku, store_view_code, attribute_set_code, product_websites, product_type, name, description, short_description, url_key, link_url, cost, price, special_price, categories1, categories2, categories3, categories, free_colors, raw_materials, weight, mgs_brand, product_size, refrigerator_height, compressor_type, type_, voltage, base_image, small_image, swatch_image, thumbnail_image, additional_images, is_in_stock, product_online, qty, out_of_stock_qty, allow_backorders, visibility, tax_class_name, manufacturer, news_from_date, news_to_date, estimated_delivery_enable, estimated_delivery_text, supplier, ts_dimensions_width, ts_dimensions_length, ts_dimensions_height, hertz, toto]\n",
       "Index: []\n",
       "\n",
       "[0 rows x 49 columns]"
      ]
     },
     "execution_count": 677,
     "metadata": {},
     "output_type": "execute_result"
    }
   ],
   "source": [
    "df.loc[df['description'].isnull()]"
   ]
  },
  {
   "cell_type": "code",
   "execution_count": 678,
   "id": "a3047b9f",
   "metadata": {},
   "outputs": [],
   "source": [
    "df.drop(df[df['description'].isnull()].index, inplace=True)"
   ]
  },
  {
   "cell_type": "code",
   "execution_count": 679,
   "id": "5d634dcb",
   "metadata": {},
   "outputs": [],
   "source": [
    "df.drop(df[df['categories'].isnull()].index, inplace=True)"
   ]
  },
  {
   "cell_type": "code",
   "execution_count": 680,
   "id": "85e758f8",
   "metadata": {},
   "outputs": [],
   "source": [
    "df.to_excel('toto4.xlsx')"
   ]
  },
  {
   "cell_type": "markdown",
   "id": "4a7a6444",
   "metadata": {},
   "source": [
    "# ADD brand"
   ]
  },
  {
   "cell_type": "code",
   "execution_count": null,
   "id": "d66565ba",
   "metadata": {},
   "outputs": [],
   "source": []
  },
  {
   "cell_type": "code",
   "execution_count": null,
   "id": "822c97d2",
   "metadata": {},
   "outputs": [],
   "source": []
  },
  {
   "cell_type": "code",
   "execution_count": null,
   "id": "3572e292",
   "metadata": {},
   "outputs": [],
   "source": []
  },
  {
   "cell_type": "code",
   "execution_count": 681,
   "id": "4ee84f3f",
   "metadata": {},
   "outputs": [],
   "source": [
    "cols = pd.read_excel('/home/wafistos/Documents/Projects/scaping_wafi/tamkeenstores/categories/brand_tam_keenstores.xlsx')"
   ]
  },
  {
   "cell_type": "code",
   "execution_count": 682,
   "id": "9218e921",
   "metadata": {},
   "outputs": [],
   "source": [
    "list_cols = []\n",
    "for index, row in cols.iterrows():\n",
    "    list_cols.append([ row['brand'], row['id']])"
   ]
  },
  {
   "cell_type": "code",
   "execution_count": 683,
   "id": "6847f131",
   "metadata": {},
   "outputs": [],
   "source": [
    "df['visibility'] = 'Catalog, Search'"
   ]
  },
  {
   "cell_type": "code",
   "execution_count": 684,
   "id": "d74694da",
   "metadata": {},
   "outputs": [],
   "source": [
    "df['tax_class_name'] = 'Taxable Goods'"
   ]
  },
  {
   "cell_type": "code",
   "execution_count": 685,
   "id": "880450c5",
   "metadata": {},
   "outputs": [],
   "source": [
    "df['product_type'] = 'simple'"
   ]
  },
  {
   "cell_type": "code",
   "execution_count": 686,
   "id": "2a7398e9",
   "metadata": {},
   "outputs": [],
   "source": [
    "two_month = datetime.now() + timedelta(days=60)\n",
    "two_month = two_month.strftime(\"%m/%d/%Y\")\n",
    "today = datetime.today().strftime(\"%m/%d/%Y\")"
   ]
  },
  {
   "cell_type": "code",
   "execution_count": 687,
   "id": "b3b341a0",
   "metadata": {},
   "outputs": [
    {
     "data": {
      "text/plain": [
       "'10/12/2021'"
      ]
     },
     "execution_count": 687,
     "metadata": {},
     "output_type": "execute_result"
    }
   ],
   "source": [
    "today"
   ]
  },
  {
   "cell_type": "code",
   "execution_count": 688,
   "id": "e7dab48e",
   "metadata": {},
   "outputs": [],
   "source": [
    "df['news_from_date'] = today"
   ]
  },
  {
   "cell_type": "code",
   "execution_count": 689,
   "id": "acced657",
   "metadata": {},
   "outputs": [],
   "source": [
    "df['news_to_date'] = two_month"
   ]
  },
  {
   "cell_type": "code",
   "execution_count": 690,
   "id": "917316d7",
   "metadata": {},
   "outputs": [],
   "source": [
    "for col in list_cols:\n",
    "    df.loc[df['mgs_brand'] == col[0], 'mgs_brand'] = col[1]"
   ]
  },
  {
   "cell_type": "code",
   "execution_count": 691,
   "id": "e78a7186",
   "metadata": {},
   "outputs": [],
   "source": [
    "df['out_of_stock_qty'] = df['out_of_stock_qty'].astype(str)"
   ]
  },
  {
   "cell_type": "code",
   "execution_count": 692,
   "id": "97416ac4",
   "metadata": {},
   "outputs": [],
   "source": [
    "df['out_of_stock_qty'] = '-' + df['out_of_stock_qty']"
   ]
  },
  {
   "cell_type": "code",
   "execution_count": 693,
   "id": "b1fcd704",
   "metadata": {},
   "outputs": [],
   "source": [
    "df['qty'] = 0"
   ]
  },
  {
   "cell_type": "code",
   "execution_count": 694,
   "id": "8b2e38b8",
   "metadata": {},
   "outputs": [],
   "source": [
    "df.loc[df['mgs_brand'].isnull(), 'mgs_brand'] = '__EMPTY__VALUE__'"
   ]
  },
  {
   "cell_type": "code",
   "execution_count": 695,
   "id": "8884c991",
   "metadata": {},
   "outputs": [],
   "source": [
    "df.loc[df['manufacturer'].isnull(), 'manufacturer']  = '‫مستوردة‬'"
   ]
  },
  {
   "cell_type": "code",
   "execution_count": 696,
   "id": "28a5a205",
   "metadata": {},
   "outputs": [],
   "source": [
    "df.loc[df['out_of_stock_qty']==-0, 'out_of_stock_qty' ] = 0"
   ]
  },
  {
   "cell_type": "code",
   "execution_count": 697,
   "id": "115983af",
   "metadata": {},
   "outputs": [],
   "source": [
    "df['estimated_delivery_text'] = 'التوصيل خلال 5-6 ايام عمل'"
   ]
  },
  {
   "cell_type": "code",
   "execution_count": 698,
   "id": "95c6e7fa",
   "metadata": {},
   "outputs": [],
   "source": [
    "df['estimated_delivery_enable'] = 'Static Text'"
   ]
  },
  {
   "cell_type": "code",
   "execution_count": 154,
   "id": "acf3ab70",
   "metadata": {},
   "outputs": [],
   "source": [
    "df.to_excel('Tamkeen_update_16_09.xlsx')"
   ]
  },
  {
   "cell_type": "code",
   "execution_count": 699,
   "id": "8cff1413",
   "metadata": {},
   "outputs": [],
   "source": [
    "df['sku number only'] = df['sku'].str.replace('KEN-', '')"
   ]
  },
  {
   "cell_type": "code",
   "execution_count": 182,
   "id": "089576d8",
   "metadata": {},
   "outputs": [],
   "source": [
    "df = df[[ 'sku number only',\n",
    "        'sku', \n",
    "         'store_view_code',\n",
    "         'attribute_set_code',\n",
    "         'product_websites',\n",
    "         'name',   \n",
    "         'description', \n",
    "         'short_description', \n",
    "         'link_url', \n",
    "         'categories1', \n",
    "         'categories2', \n",
    "         'categories3', \n",
    "         'categories', \n",
    "         'free_colors', \n",
    "         'ts_dimensions_width', \n",
    "         'ts_dimensions_height', \n",
    "         'ts_dimensions_length',\n",
    "         'mgs_brand',\n",
    "         'power',\n",
    "         'weight',\n",
    "         'url_key',\n",
    "         'cost',  \n",
    "         'price', \n",
    "         'special_price', \n",
    "         'visibility',\n",
    "         'product_type',\n",
    "         'tax_class_name', \n",
    "         'manufacturer',\n",
    "         'news_from_date', \n",
    "         'news_to_date', \n",
    "         'base_image', \n",
    "         'small_image', \n",
    "         'swatch_image' , \n",
    "         'thumbnail_image', \n",
    "         'additional_images', \n",
    "         'product_online', \n",
    "         'qty', \n",
    "         'out_of_stock_qty', \n",
    "         'allow_backorders', \n",
    "         'is_in_stock', \n",
    "         'estimated_delivery_enable',\n",
    "         'estimated_delivery_text',\n",
    "         'supplier',   \n",
    "        ]]"
   ]
  },
  {
   "cell_type": "code",
   "execution_count": 3,
   "id": "a1fb5a79",
   "metadata": {},
   "outputs": [],
   "source": [
    "df= pd.read_excel('/home/wafistos/Documents/Projects/scaping_wafi/tamkeenstores/testtoto.xlsx')"
   ]
  },
  {
   "cell_type": "code",
   "execution_count": 184,
   "id": "e26512f7",
   "metadata": {},
   "outputs": [],
   "source": [
    "df.to_excel('Tamkeen_clim.xlsx')"
   ]
  },
  {
   "cell_type": "code",
   "execution_count": 12,
   "id": "42384b3e",
   "metadata": {},
   "outputs": [],
   "source": [
    "df.loc[df['manufacturer'].isnull(), 'manufacturer'] = ''"
   ]
  },
  {
   "cell_type": "code",
   "execution_count": 14,
   "id": "5b8cc76d",
   "metadata": {},
   "outputs": [
    {
     "data": {
      "text/html": [
       "<div>\n",
       "<style scoped>\n",
       "    .dataframe tbody tr th:only-of-type {\n",
       "        vertical-align: middle;\n",
       "    }\n",
       "\n",
       "    .dataframe tbody tr th {\n",
       "        vertical-align: top;\n",
       "    }\n",
       "\n",
       "    .dataframe thead th {\n",
       "        text-align: right;\n",
       "    }\n",
       "</style>\n",
       "<table border=\"1\" class=\"dataframe\">\n",
       "  <thead>\n",
       "    <tr style=\"text-align: right;\">\n",
       "      <th></th>\n",
       "      <th>Unnamed: 0</th>\n",
       "      <th>Unnamed: 0.1</th>\n",
       "      <th>sku</th>\n",
       "      <th>store_view_code</th>\n",
       "      <th>attribute_set_code</th>\n",
       "      <th>product_websites</th>\n",
       "      <th>product_type</th>\n",
       "      <th>name</th>\n",
       "      <th>description</th>\n",
       "      <th>short_description</th>\n",
       "      <th>...</th>\n",
       "      <th>out_of_stock_qty</th>\n",
       "      <th>allow_backorders</th>\n",
       "      <th>visibility</th>\n",
       "      <th>tax_class_name</th>\n",
       "      <th>manufacturer</th>\n",
       "      <th>news_from_date</th>\n",
       "      <th>news_to_date</th>\n",
       "      <th>estimated_delivery_enable</th>\n",
       "      <th>estimated_delivery_text</th>\n",
       "      <th>supplier</th>\n",
       "    </tr>\n",
       "  </thead>\n",
       "  <tbody>\n",
       "    <tr>\n",
       "      <th>413</th>\n",
       "      <td>413</td>\n",
       "      <td>0</td>\n",
       "      <td>ZMK1705B</td>\n",
       "      <td>NaN</td>\n",
       "      <td>NaN</td>\n",
       "      <td>NaN</td>\n",
       "      <td>NaN</td>\n",
       "      <td>زيترست غلاية، 1.7لتر ، 1800-2150  وات – أزرق</td>\n",
       "      <td>السعة = (1,7) لتر – القوة (1800 – 2150) وات- ا...</td>\n",
       "      <td>السعة = (1,7) لتر – القوة (1800 – 2150) وات- ا...</td>\n",
       "      <td>...</td>\n",
       "      <td>غير متوفر في المخزون</td>\n",
       "      <td>NaN</td>\n",
       "      <td>NaN</td>\n",
       "      <td>NaN</td>\n",
       "      <td>السعة = (1,7) لتر – القوة (1800 – 2150) وات- ا...</td>\n",
       "      <td>NaN</td>\n",
       "      <td>NaN</td>\n",
       "      <td>NaN</td>\n",
       "      <td>NaN</td>\n",
       "      <td>NaN</td>\n",
       "    </tr>\n",
       "    <tr>\n",
       "      <th>414</th>\n",
       "      <td>414</td>\n",
       "      <td>0</td>\n",
       "      <td>ZMK17SG</td>\n",
       "      <td>NaN</td>\n",
       "      <td>NaN</td>\n",
       "      <td>NaN</td>\n",
       "      <td>NaN</td>\n",
       "      <td>زيترست غلاية ، 1.5لتر ، 1850-2200  وات – ذهبي</td>\n",
       "      <td>السعة = (1,5) لتر- القوة (1850 – 2200) وات- ال...</td>\n",
       "      <td>السعة = (1,5) لتر- القوة (1850 – 2200) وات- ال...</td>\n",
       "      <td>...</td>\n",
       "      <td>غير متوفر في المخزون</td>\n",
       "      <td>NaN</td>\n",
       "      <td>NaN</td>\n",
       "      <td>NaN</td>\n",
       "      <td>السعة = (1,5) لتر- القوة (1850 – 2200) وات- ال...</td>\n",
       "      <td>NaN</td>\n",
       "      <td>NaN</td>\n",
       "      <td>NaN</td>\n",
       "      <td>NaN</td>\n",
       "      <td>NaN</td>\n",
       "    </tr>\n",
       "    <tr>\n",
       "      <th>415</th>\n",
       "      <td>415</td>\n",
       "      <td>0</td>\n",
       "      <td>ZMK1705G</td>\n",
       "      <td>NaN</td>\n",
       "      <td>NaN</td>\n",
       "      <td>NaN</td>\n",
       "      <td>NaN</td>\n",
       "      <td>زيترست غلاية، 1.7لتر ، 1800-2150  وات – أخضر</td>\n",
       "      <td>السعة = (1,7) لتر- القوة (1800 – 2150) وات- ال...</td>\n",
       "      <td>السعة = (1,7) لتر- القوة (1800 – 2150) وات- ال...</td>\n",
       "      <td>...</td>\n",
       "      <td>غير متوفر في المخزون</td>\n",
       "      <td>NaN</td>\n",
       "      <td>NaN</td>\n",
       "      <td>NaN</td>\n",
       "      <td>السعة = (1,7) لتر- القوة (1800 – 2150) وات- ال...</td>\n",
       "      <td>NaN</td>\n",
       "      <td>NaN</td>\n",
       "      <td>NaN</td>\n",
       "      <td>NaN</td>\n",
       "      <td>NaN</td>\n",
       "    </tr>\n",
       "  </tbody>\n",
       "</table>\n",
       "<p>3 rows × 42 columns</p>\n",
       "</div>"
      ],
      "text/plain": [
       "     Unnamed: 0  Unnamed: 0.1       sku  store_view_code  attribute_set_code  \\\n",
       "413         413             0  ZMK1705B              NaN                 NaN   \n",
       "414         414             0   ZMK17SG              NaN                 NaN   \n",
       "415         415             0  ZMK1705G              NaN                 NaN   \n",
       "\n",
       "     product_websites  product_type  \\\n",
       "413               NaN           NaN   \n",
       "414               NaN           NaN   \n",
       "415               NaN           NaN   \n",
       "\n",
       "                                              name  \\\n",
       "413   زيترست غلاية، 1.7لتر ، 1800-2150  وات – أزرق   \n",
       "414  زيترست غلاية ، 1.5لتر ، 1850-2200  وات – ذهبي   \n",
       "415   زيترست غلاية، 1.7لتر ، 1800-2150  وات – أخضر   \n",
       "\n",
       "                                           description  \\\n",
       "413  السعة = (1,7) لتر – القوة (1800 – 2150) وات- ا...   \n",
       "414  السعة = (1,5) لتر- القوة (1850 – 2200) وات- ال...   \n",
       "415  السعة = (1,7) لتر- القوة (1800 – 2150) وات- ال...   \n",
       "\n",
       "                                     short_description  ...  \\\n",
       "413  السعة = (1,7) لتر – القوة (1800 – 2150) وات- ا...  ...   \n",
       "414  السعة = (1,5) لتر- القوة (1850 – 2200) وات- ال...  ...   \n",
       "415  السعة = (1,7) لتر- القوة (1800 – 2150) وات- ال...  ...   \n",
       "\n",
       "         out_of_stock_qty allow_backorders  visibility tax_class_name  \\\n",
       "413  غير متوفر في المخزون              NaN         NaN            NaN   \n",
       "414  غير متوفر في المخزون              NaN         NaN            NaN   \n",
       "415  غير متوفر في المخزون              NaN         NaN            NaN   \n",
       "\n",
       "                                          manufacturer news_from_date  \\\n",
       "413  السعة = (1,7) لتر – القوة (1800 – 2150) وات- ا...            NaN   \n",
       "414  السعة = (1,5) لتر- القوة (1850 – 2200) وات- ال...            NaN   \n",
       "415  السعة = (1,7) لتر- القوة (1800 – 2150) وات- ال...            NaN   \n",
       "\n",
       "    news_to_date estimated_delivery_enable  estimated_delivery_text supplier  \n",
       "413          NaN                       NaN                      NaN      NaN  \n",
       "414          NaN                       NaN                      NaN      NaN  \n",
       "415          NaN                       NaN                      NaN      NaN  \n",
       "\n",
       "[3 rows x 42 columns]"
      ]
     },
     "execution_count": 14,
     "metadata": {},
     "output_type": "execute_result"
    }
   ],
   "source": [
    "df.loc[df['manufacturer'].str.contains('السعة')]"
   ]
  },
  {
   "cell_type": "code",
   "execution_count": 15,
   "id": "de10cd3f",
   "metadata": {},
   "outputs": [],
   "source": [
    "df.drop(df[df['manufacturer'].str.contains('السعة')].index, inplace=True)"
   ]
  },
  {
   "cell_type": "code",
   "execution_count": null,
   "id": "b0f588a7",
   "metadata": {},
   "outputs": [],
   "source": [
    "df.drop(df[df.score < 50].index, inplace=True)"
   ]
  },
  {
   "cell_type": "code",
   "execution_count": 156,
   "id": "d4e96cb3",
   "metadata": {},
   "outputs": [],
   "source": [
    "brands = pd.read_excel('/home/wafistos/Documents/Projects/scaping_wafi/tamkeenstores/categories/brand_tam_keenstores.xlsx')"
   ]
  },
  {
   "cell_type": "code",
   "execution_count": 158,
   "id": "406921db",
   "metadata": {},
   "outputs": [],
   "source": [
    "list_brands = []\n",
    "for index, row in brands.iterrows():\n",
    "    list_brands.append('العلامة التجارية: ' + row['brand'])"
   ]
  },
  {
   "cell_type": "code",
   "execution_count": 159,
   "id": "072cdd0d",
   "metadata": {},
   "outputs": [
    {
     "data": {
      "text/plain": [
       "['العلامة التجارية: أل جي',\n",
       " 'العلامة التجارية: جنرال سوبريم',\n",
       " 'العلامة التجارية: جري',\n",
       " 'العلامة التجارية: وايت وستنجهاوس',\n",
       " 'العلامة التجارية: الزامل',\n",
       " 'العلامة التجارية: اوجنرال',\n",
       " 'العلامة التجارية: باناسونيك',\n",
       " 'العلامة التجارية: كارير',\n",
       " 'العلامة التجارية: كرافت',\n",
       " 'العلامة التجارية: سامسونج',\n",
       " 'العلامة التجارية: دايو',\n",
       " 'العلامة التجارية: اريستون',\n",
       " 'العلامة التجارية: وايربول',\n",
       " 'العلامة التجارية: توشيبا',\n",
       " 'العلامة التجارية: بوش',\n",
       " 'العلامة التجارية: إلكترولوكس',\n",
       " 'العلامة التجارية: مابي',\n",
       " 'العلامة التجارية: ميتاج',\n",
       " 'العلامة التجارية: هيتاشي',\n",
       " 'العلامة التجارية: جيبسون',\n",
       " 'العلامة التجارية: هايسنس',\n",
       " 'العلامة التجارية: كريازي',\n",
       " 'العلامة التجارية: بومبانى',\n",
       " 'العلامة التجارية: جليم غاز',\n",
       " 'العلامة التجارية: امجوي',\n",
       " 'العلامة التجارية: كولين',\n",
       " 'العلامة التجارية: اي تي سي',\n",
       " 'العلامة التجارية: لوكسيل',\n",
       " 'العلامة التجارية: تيفال',\n",
       " 'العلامة التجارية: اوكارينا',\n",
       " 'العلامة التجارية: فيليبس',\n",
       " 'العلامة التجارية: ماجيك بوليت',\n",
       " 'العلامة التجارية: مولينيكس',\n",
       " 'العلامة التجارية: ميديا',\n",
       " 'العلامة التجارية: زيترست',\n",
       " 'العلامة التجارية: دوتس',\n",
       " 'العلامة التجارية: راسل هوبز',\n",
       " 'العلامة التجارية: فاكير',\n",
       " 'العلامة التجارية: سنكور',\n",
       " 'العلامة التجارية: دورا',\n",
       " 'العلامة التجارية: نيوتري بوليت',\n",
       " 'العلامة التجارية: هومر',\n",
       " 'العلامة التجارية: اوبتيما',\n",
       " 'العلامة التجارية: نوتري كوك',\n",
       " 'العلامة التجارية: هوفر',\n",
       " 'العلامة التجارية: بيسيل',\n",
       " 'العلامة التجارية: شارب',\n",
       " 'العلامة التجارية: هيونداي',\n",
       " 'العلامة التجارية: إل جي',\n",
       " 'العلامة التجارية: جري']"
      ]
     },
     "execution_count": 159,
     "metadata": {},
     "output_type": "execute_result"
    }
   ],
   "source": [
    "list_brands"
   ]
  },
  {
   "cell_type": "code",
   "execution_count": 358,
   "id": "dd5a101f",
   "metadata": {},
   "outputs": [],
   "source": [
    "df['trouver'] = ''"
   ]
  },
  {
   "cell_type": "code",
   "execution_count": 161,
   "id": "b73207a2",
   "metadata": {},
   "outputs": [
    {
     "data": {
      "text/plain": [
       "Series([], Name: description, dtype: object)"
      ]
     },
     "execution_count": 161,
     "metadata": {},
     "output_type": "execute_result"
    }
   ],
   "source": [
    " df.loc[ df['description'].str.contains(list_brands[-1]),  'description' ] "
   ]
  },
  {
   "cell_type": "code",
   "execution_count": null,
   "id": "5772a17b",
   "metadata": {},
   "outputs": [],
   "source": [
    "# Dealete brand from description "
   ]
  },
  {
   "cell_type": "code",
   "execution_count": 168,
   "id": "e68da6fd",
   "metadata": {},
   "outputs": [],
   "source": [
    "for tt in list_brands:\n",
    "    \n",
    "    df.loc[ df['description'].str.contains(str(tt)),  'description' ] = df['description'].str.replace(tt, '', regex=False)"
   ]
  },
  {
   "cell_type": "code",
   "execution_count": null,
   "id": "835dafc4",
   "metadata": {},
   "outputs": [],
   "source": [
    "العلامة التجارية- إل جي"
   ]
  },
  {
   "cell_type": "code",
   "execution_count": 412,
   "id": "0ccb0eb3",
   "metadata": {},
   "outputs": [],
   "source": [
    " الصين"
   ]
  },
  {
   "cell_type": "code",
   "execution_count": 163,
   "id": "d841e824",
   "metadata": {},
   "outputs": [],
   "source": [
    "toto = df['manufacturer'].unique().tolist()"
   ]
  },
  {
   "cell_type": "code",
   "execution_count": 164,
   "id": "fc080b4a",
   "metadata": {},
   "outputs": [
    {
     "data": {
      "text/plain": [
       "['', 'السعودية', 'الصين']"
      ]
     },
     "execution_count": 164,
     "metadata": {},
     "output_type": "execute_result"
    }
   ],
   "source": [
    "toto"
   ]
  },
  {
   "cell_type": "code",
   "execution_count": 165,
   "id": "0f421567",
   "metadata": {},
   "outputs": [],
   "source": [
    "pa = ['صنع في '+ t for t in toto]"
   ]
  },
  {
   "cell_type": "code",
   "execution_count": 166,
   "id": "abdcdc25",
   "metadata": {},
   "outputs": [],
   "source": [
    "pa1 = ['بلد المنشأ :'+ t for t in toto]"
   ]
  },
  {
   "cell_type": "code",
   "execution_count": 177,
   "id": "0caad50d",
   "metadata": {},
   "outputs": [],
   "source": [
    "df['description'] = df['description'].str.replace('صنع في ', ' ')"
   ]
  },
  {
   "cell_type": "code",
   "execution_count": 175,
   "id": "a243f463",
   "metadata": {},
   "outputs": [],
   "source": [
    "for tt in toto:\n",
    "    df['description'] = df['description'].str.replace(tt, ' ')"
   ]
  },
  {
   "cell_type": "code",
   "execution_count": 174,
   "id": "181232ff",
   "metadata": {},
   "outputs": [
    {
     "data": {
      "text/plain": [
       "Series([], Name: description, dtype: object)"
      ]
     },
     "execution_count": 174,
     "metadata": {},
     "output_type": "execute_result"
    }
   ],
   "source": [
    "\n",
    "df.loc[ df['description'].str.contains('العلامة التجارية-'),  'description' ] "
   ]
  },
  {
   "cell_type": "code",
   "execution_count": 60,
   "id": "e4d5a946",
   "metadata": {},
   "outputs": [],
   "source": [
    "for tt in pa1:\n",
    "    \n",
    "    df.loc[ df['description'].str.contains(str(tt)),  'description' ] = df['description'].str.replace(tt, '', regex=False)"
   ]
  },
  {
   "cell_type": "code",
   "execution_count": 19,
   "id": "7ccebec8",
   "metadata": {},
   "outputs": [],
   "source": [
    "df['short_description'] = df['description']"
   ]
  },
  {
   "cell_type": "code",
   "execution_count": 470,
   "id": "00dde7b8",
   "metadata": {},
   "outputs": [],
   "source": [
    "df = None"
   ]
  },
  {
   "cell_type": "code",
   "execution_count": 178,
   "id": "626f4a07",
   "metadata": {},
   "outputs": [],
   "source": [
    "df = pd.read_excel('/home/wafistos/Documents/Projects/scaping_wafi/tamkeenstores/Tamkeen_updatew15_09_2021v3.xlsx')"
   ]
  },
  {
   "cell_type": "code",
   "execution_count": null,
   "id": "c9eabb45",
   "metadata": {},
   "outputs": [],
   "source": []
  },
  {
   "cell_type": "code",
   "execution_count": 180,
   "id": "29ed7107",
   "metadata": {},
   "outputs": [
    {
     "data": {
      "text/html": [
       "<div>\n",
       "<style scoped>\n",
       "    .dataframe tbody tr th:only-of-type {\n",
       "        vertical-align: middle;\n",
       "    }\n",
       "\n",
       "    .dataframe tbody tr th {\n",
       "        vertical-align: top;\n",
       "    }\n",
       "\n",
       "    .dataframe thead th {\n",
       "        text-align: right;\n",
       "    }\n",
       "</style>\n",
       "<table border=\"1\" class=\"dataframe\">\n",
       "  <thead>\n",
       "    <tr style=\"text-align: right;\">\n",
       "      <th></th>\n",
       "      <th>sku number only</th>\n",
       "      <th>sku</th>\n",
       "      <th>store_view_code</th>\n",
       "      <th>attribute_set_code</th>\n",
       "      <th>product_websites</th>\n",
       "      <th>name</th>\n",
       "      <th>description</th>\n",
       "      <th>short_description</th>\n",
       "      <th>link_url</th>\n",
       "      <th>categories1</th>\n",
       "      <th>...</th>\n",
       "      <th>thumbnail_image</th>\n",
       "      <th>additional_images</th>\n",
       "      <th>product_online</th>\n",
       "      <th>qty</th>\n",
       "      <th>out_of_stock_qty</th>\n",
       "      <th>allow_backorders</th>\n",
       "      <th>is_in_stock</th>\n",
       "      <th>estimated_delivery_enable</th>\n",
       "      <th>estimated_delivery_text</th>\n",
       "      <th>supplier</th>\n",
       "    </tr>\n",
       "  </thead>\n",
       "  <tbody>\n",
       "  </tbody>\n",
       "</table>\n",
       "<p>0 rows × 43 columns</p>\n",
       "</div>"
      ],
      "text/plain": [
       "Empty DataFrame\n",
       "Columns: [sku number only, sku, store_view_code, attribute_set_code, product_websites, name, description, short_description, link_url, categories1, categories2, categories3, categories, free_colors, ts_dimensions_width, ts_dimensions_height, ts_dimensions_length, mgs_brand, power, weight, url_key, cost, special_price, price, visibility, product_type, tax_class_name, manufacturer, news_from_date, news_to_date, base_image, small_image, swatch_image, thumbnail_image, additional_images, product_online, qty, out_of_stock_qty, allow_backorders, is_in_stock, estimated_delivery_enable, estimated_delivery_text, supplier]\n",
       "Index: []\n",
       "\n",
       "[0 rows x 43 columns]"
      ]
     },
     "execution_count": 180,
     "metadata": {},
     "output_type": "execute_result"
    }
   ],
   "source": [
    "df.loc[df['base_image'].str.contains('?', regex=False)]"
   ]
  },
  {
   "cell_type": "code",
   "execution_count": 181,
   "id": "78473db5",
   "metadata": {},
   "outputs": [],
   "source": [
    "df.to_excel('pap222.xlsx')"
   ]
  },
  {
   "cell_type": "code",
   "execution_count": null,
   "id": "6ad78239",
   "metadata": {},
   "outputs": [],
   "source": []
  },
  {
   "cell_type": "markdown",
   "id": "ef68e3bb",
   "metadata": {},
   "source": [
    "# Fonction bs4"
   ]
  },
  {
   "cell_type": "code",
   "execution_count": 73,
   "id": "9cb81b5e",
   "metadata": {},
   "outputs": [],
   "source": [
    "urls_categories = [\n",
    "    {\n",
    "        'url': 'https://tamkeenstores.com.sa/product-category/split-ac/',\n",
    "        'cat1': 'الأجهزة الكبيرة',\n",
    "        'cat2': 'مكيفات الهواء',\n",
    "        'cat3': 'اسبليت',\n",
    "    },\n",
    "    {\n",
    "        'url': 'https://tamkeenstores.com.sa/product-category/window-acs/',\n",
    "        'cat1': 'الأجهزة الكبيرة',\n",
    "        'cat2': 'مكيفات الهواء',\n",
    "        'cat3': 'شباك',\n",
    "    },\n",
    "\n",
    "    {\n",
    "        'url': 'https://tamkeenstores.com.sa/product-category/standing-ac/',\n",
    "        'cat1': 'الأجهزة الكبيرة',\n",
    "        'cat2': 'مكيفات الهواء',\n",
    "        'cat3': 'دولابي',\n",
    "    },\n",
    "]"
   ]
  },
  {
   "cell_type": "code",
   "execution_count": 530,
   "id": "5d1889fb",
   "metadata": {},
   "outputs": [],
   "source": [
    "urls_categories1 = [\n",
    "    {\n",
    "        'url': 'https://tamkeenstores.com.sa/product-category/two-door/',\n",
    "        'cat1': 'الأجهزة الكبيرة',\n",
    "        'cat2': 'الثلاجات',\n",
    "        'cat3': 'بابين',\n",
    "    },\n",
    "    {\n",
    "        'url': 'https://tamkeenstores.com.sa/product-category/side-by-side/',\n",
    "        'cat1': 'الأجهزة الكبيرة',\n",
    "        'cat2': 'الثلاجات',\n",
    "        'cat3': 'باب جانب باب',\n",
    "    },\n",
    "\n",
    "    {\n",
    "        'url': 'https://tamkeenstores.com.sa/product-category/single-door/',\n",
    "        'cat1': 'الأجهزة الكبيرة',\n",
    "        'cat2': 'الثلاجات',\n",
    "        'cat3': 'باب واحد',\n",
    "    },\n",
    "]"
   ]
  },
  {
   "cell_type": "code",
   "execution_count": 63,
   "id": "65af845b",
   "metadata": {},
   "outputs": [],
   "source": [
    "\n",
    "PROXY_LIST = [\n",
    "    '86.60.62.93:8080',\n",
    "    '20.81.106.180:8888',\n",
    "    '34.138.225.120:8888',\n",
    "    '52.90.42.128:49205',\n",
    "    '20.47.108.204:8888',\n",
    "    '64.124.38.140:8080',\n",
    "    '20.81.106.180:8888',\n",
    "    '34.138.225.120:8888',\n",
    "    '184.72.109.204:49205',\n",
    "    '64.124.38.142:8080',\n",
    "    '45.152.188.39:3128',\n",
    "    '45.152.188.48:3128',\n",
    "    '45.152.188.16:3128',\n",
    "    '34.138.225.120:8888',\n",
    "    '207.244.227.169:443',\n",
    "    '91.149.203.12:3128',\n",
    "    '3.20.236.208:49205',\n",
    "    '104.149.140.174:443',\n",
    "    '149.28.91.128:1088',\n",
    "    '168.91.234.183:80',\n",
    "    '207.244.170.103:8118',\n",
    "    '108.170.12.14:80',\n",
    "    '64.124.38.141:8080',\n",
    "    '158.177.253.24:80',\n",
    "    '64.124.38.138:8080',\n",
    "\n",
    "]"
   ]
  },
  {
   "cell_type": "code",
   "execution_count": 532,
   "id": "9f3fd95f",
   "metadata": {},
   "outputs": [],
   "source": [
    "def scrape_all_categories(pat):\n",
    "    list_urls_categories = []\n",
    "    \n",
    "    print('URL:', pat['url'])\n",
    "    # proxy = '64.124.38.140:8080'\n",
    "#     for tt in PROXY_LIST:\n",
    "#         print('proxy', tt)\n",
    "#         try:\n",
    "#             r = requests.get(pat['url'], proxies={'http': tt, 'https': tt}, timeout=10 )\n",
    "#             if r.status_code == 200:\n",
    "#                 print(r.status_code)\n",
    "#                 break\n",
    "#         except:\n",
    "#             pass\n",
    "        \n",
    "        \n",
    "    r = requests.get(pat['url'])\n",
    "    soup  = BeautifulSoup(r.text, 'html.parser')\n",
    "    \n",
    "    urls = soup.find_all('div', {'class': 'mf-product-thumbnail'})\n",
    "    len(urls)\n",
    "    cat1 = pat['cat1']\n",
    "    cat2 = pat['cat2']\n",
    "    cat3 = pat['cat3']\n",
    "    for url in urls:\n",
    "        list_urls_categories.append({ 'url': url.find('a')['href'],\n",
    "                                        'cat1': cat1,\n",
    "                                        'cat2': cat2,\n",
    "                                        'cat3': cat3,\n",
    "                                    })\n",
    "    return list_urls_categories"
   ]
  },
  {
   "cell_type": "code",
   "execution_count": null,
   "id": "e70407ef",
   "metadata": {},
   "outputs": [],
   "source": []
  },
  {
   "cell_type": "code",
   "execution_count": 533,
   "id": "69927527",
   "metadata": {},
   "outputs": [
    {
     "name": "stdout",
     "output_type": "stream",
     "text": [
      "URL: https://tamkeenstores.com.sa/product-category/two-door/\n",
      "URL: https://tamkeenstores.com.sa/product-category/side-by-side/\n",
      "URL: https://tamkeenstores.com.sa/product-category/single-door/\n"
     ]
    }
   ],
   "source": [
    "df = pd.read_excel(f'Tamkeen_url_model.xlsx')\n",
    "for url in urls_categories1:\n",
    "    data = scrape_all_categories(url)\n",
    "    df1 = pd.DataFrame(data)\n",
    "    df = pd.concat([df, df1], ignore_index=True)\n",
    "    df.to_excel(f'TamkeenUpdate_frigo.xlsx')"
   ]
  },
  {
   "cell_type": "code",
   "execution_count": 620,
   "id": "e8083d0d",
   "metadata": {},
   "outputs": [],
   "source": [
    "def extract_detail(detail, list_source):\n",
    "#     print('details', detail)\n",
    "    for tt in list_source:\n",
    "#         print(tt.text)\n",
    "        if detail in tt.text:\n",
    "            return tt.text.replace(detail, '').replace(':', '').strip()\n",
    "\n",
    "def scrape_product(toto):\n",
    "    \n",
    "    print(\"URL:\", toto['url'])\n",
    "    url = toto['url']\n",
    "    cat1 = toto['cat1']\n",
    "    cat2 = toto['cat2']\n",
    "    cat3 = toto['cat3']\n",
    "#     for tt in PROXY_LIST:\n",
    "#         print('proxy', tt)   \n",
    "#         try:\n",
    "#             r = requests.get(toto['url'], proxies={'http': tt, 'https': tt}, timeout=10 )\n",
    "#             if r.status_code == 200:\n",
    "#                 print(r.status_code)\n",
    "#                 break\n",
    "#         except:\n",
    "#             pass\n",
    "    r = requests.get(toto['url'])\n",
    "    manufacturer = ''\n",
    "    soup  = BeautifulSoup(r.text, 'html.parser')\n",
    "    #soup.find('', {'': ''}).text.strip()\n",
    "    sku = soup.find('span', {'class': 'sku'}).text.strip()\n",
    "    name = soup.find('h1', {'class': 'product_title entry-title'}).text.strip()\n",
    "    prices = soup.find('p', {'class': 'price'})\n",
    "    print('len', len(prices))\n",
    "    price = prices.text.split('ر.س')[1].strip()\n",
    "    try:\n",
    "        special_price = prices.text.split('ر.س')[2].strip()\n",
    "    except:\n",
    "        special_price = ''\n",
    "\n",
    "    list_images = []\n",
    "    free_colors = ''\n",
    "    manufacturer = ''\n",
    "    images_papa = soup.find_all('div', {'class': 'woocommerce-product-gallery__image'})\n",
    "    print('len images', len(images_papa))\n",
    "    for tt in images_papa:\n",
    "        list_images.append(tt.find('a')['href'].split('?')[0])\n",
    "    \n",
    "    base_image = list_images[0]\n",
    "    try:\n",
    "        additional_image = ','.join(list_images[1:])\n",
    "    except:\n",
    "        additional_image = ''\n",
    "\n",
    "    try:\n",
    "        description = soup.find('div', {'class': 'woocommerce-product-details__short-description'}).text.strip()\n",
    "    except:\n",
    "        description = ''\n",
    "    try:\n",
    "        short_description = soup.find('div', {'id': 'tab-description'}).text\n",
    "    except:\n",
    "        short_description = description\n",
    "    is_in_stock = ''\n",
    "    try:\n",
    "        out_of_qty = soup.find('p', {'class': 'stock in-stock'}).text.replace('Status:', '').strip()\n",
    "    except:\n",
    "        out_of_qty = soup.find('p', {'class': 'stock out-of-stock'}).text.replace('Status:', '').strip()\n",
    "    try:\n",
    "        mgs_brand = soup.find('li', {'class': 'meta-brand'}).text.replace('Brand:', '').strip()\n",
    "    except:\n",
    "        mgs_brand = ''\n",
    "    try:\n",
    "        details = soup.find('div', {'id': 'tab-description'}).find_all('li')\n",
    "        voltage = extract_detail('الجهد الكهربائي', details)\n",
    "        free_colors = extract_detail('اللون', details)\n",
    "        manufacturer = extract_detail('صنع في', details)\n",
    "        if manufacturer == None:\n",
    "            manufacturer = extract_detail('بلد المنشأ', details)\n",
    "    except:\n",
    "        voltage = None\n",
    "        manufacturer = None\n",
    "    # print(details1)\n",
    "    dimension = soup.find_all('td', {'class': 'woocommerce-product-attributes-item__value'})\n",
    "    # 1ER description \n",
    "    toto = soup.find('div', {'class': 'woocommerce-product-details__short-description'}).find_all('li')\n",
    "    if free_colors == None:\n",
    "        free_colors = extract_detail('اللون', toto)\n",
    "    if manufacturer == None:\n",
    "        manufacturer = extract_detail('صنع في', toto)\n",
    "        if manufacturer == None:\n",
    "            manufacturer = extract_detail('بلد المنشأ', toto)\n",
    "    type_ = extract_detail('نوع المنتج', toto)\n",
    "    compressor_type = extract_detail('نوع الضاغط', toto)\n",
    "\n",
    "    print('len dimension', len(dimension))\n",
    "    weight = extract_detail('kg', dimension)\n",
    "    product_size = extract_detail('cm', dimension)\n",
    "    refrigerator_height = extract_detail('Cu.ft.', dimension)\n",
    "\n",
    "    data = {\n",
    "        'sku': sku,\n",
    "        'store_view_code': '',\n",
    "        'attribute_set_code': '',\n",
    "        'product_websites': '',\n",
    "        'product_type': '',\n",
    "        'name': name,\n",
    "        'description': description,\n",
    "        'short_description': short_description,\n",
    "        'url_key': '',\n",
    "        'link_url': url,\n",
    "        'cost': '',\n",
    "        'price': price,\n",
    "        'special_price': special_price,\n",
    "        'categories1': cat1,\n",
    "        'categories2': cat2,\n",
    "        'categories3': cat3,\n",
    "        'categories': '',\n",
    "        'free_colors': free_colors,\n",
    "        'raw_materials': '',\n",
    "        'weight': weight,\n",
    "        'mgs_brand': mgs_brand,\n",
    "        \n",
    "        'product_size': product_size,\n",
    "        'refrigerator_height': refrigerator_height,\n",
    "        'compressor_type': compressor_type,\n",
    "        'type_': type_, \n",
    "        'voltage': voltage,\n",
    "        \n",
    "        'base_image': base_image,\n",
    "        'small_image': base_image,\n",
    "        'swatch_image': base_image,\n",
    "        'thumbnail_image': base_image,\n",
    "        'additional_images': additional_image,\n",
    "        'is_in_stock': '',\n",
    "        'product_online': '',\n",
    "        'qty': '',\n",
    "        'out_of_stock_qty': out_of_qty,\n",
    "        'allow_backorders': '',\n",
    "        'visibility': '',\n",
    "        'tax_class_name': '',\n",
    "        'manufacturer': manufacturer,\n",
    "        'news_from_date': '',\n",
    "        'news_to_date': '',\n",
    "        'estimated_delivery_enable': '',\n",
    "        'estimated_delivery_text': '',\n",
    "        'supplier': '',\n",
    "\n",
    "    }\n",
    "    return data"
   ]
  },
  {
   "cell_type": "code",
   "execution_count": null,
   "id": "f30d6e2e",
   "metadata": {},
   "outputs": [],
   "source": []
  },
  {
   "cell_type": "code",
   "execution_count": 593,
   "id": "8b8518ee",
   "metadata": {},
   "outputs": [
    {
     "name": "stdout",
     "output_type": "stream",
     "text": [
      "toto\n",
      "End to create list\n"
     ]
    }
   ],
   "source": [
    " print('toto')\n",
    "\n",
    "mes = ''\n",
    "papi_list = []\n",
    "df_toto = pd.read_excel('/home/wafistos/Documents/Projects/scaping_wafi/tamkeenstores/TamkeenUpdate_frigo.xlsx')\n",
    "for index, row in df_toto.iterrows():\n",
    "    papi_list.append({\n",
    "        'url': row['url'],\n",
    "        'cat1': row['cat1'],\n",
    "        'cat2': row['cat2'],\n",
    "        'cat3': row['cat3'],\n",
    "    })\n",
    "print('End to create list')\n",
    "\n",
    "    "
   ]
  },
  {
   "cell_type": "code",
   "execution_count": 621,
   "id": "5f50b1d2",
   "metadata": {},
   "outputs": [
    {
     "name": "stdout",
     "output_type": "stream",
     "text": [
      "Count: 0\n",
      "URL: https://tamkeenstores.com.sa/product/gsdf252s/\n",
      "len 2\n",
      "len images 2\n",
      "len dimension 2\n",
      "Count: 1\n",
      "URL: https://tamkeenstores.com.sa/product/gs_896ssi/\n",
      "len 2\n",
      "len images 1\n",
      "len dimension 3\n",
      "Count: 2\n",
      "URL: https://tamkeenstores.com.sa/product/gs1299ssi/\n",
      "len 2\n",
      "len images 5\n",
      "len dimension 3\n",
      "Count: 3\n",
      "URL: https://tamkeenstores.com.sa/product/lt22cbbsln/\n",
      "len 2\n",
      "len images 4\n",
      "len dimension 3\n",
      "Count: 4\n",
      "URL: https://tamkeenstores.com.sa/product/rt46k6100s8c/\n",
      "len 2\n",
      "len images 5\n",
      "len dimension 3\n",
      "Count: 5\n",
      "URL: https://tamkeenstores.com.sa/product/gs144/\n",
      "len 2\n",
      "len images 1\n",
      "len dimension 3\n",
      "Count: 6\n",
      "URL: https://tamkeenstores.com.sa/product/r-v600ps7ktwh/\n",
      "len 2\n",
      "len images 2\n",
      "len dimension 3\n",
      "Count: 7\n",
      "URL: https://tamkeenstores.com.sa/product/hit_v600ps7kbsl/\n",
      "len 2\n",
      "len images 2\n",
      "len dimension 3\n",
      "Count: 8\n",
      "URL: https://tamkeenstores.com.sa/product/r-v660ps7kbsl/\n",
      "len 2\n",
      "len images 2\n",
      "len dimension 3\n",
      "Count: 9\n",
      "URL: https://tamkeenstores.com.sa/product/r-v700ps7kbsl/\n",
      "len 2\n",
      "len images 1\n",
      "len dimension 3\n",
      "Count: 10\n",
      "URL: https://tamkeenstores.com.sa/product/r-v805ps1kvtwh/\n",
      "len 2\n",
      "len images 2\n",
      "len dimension 3\n",
      "Count: 11\n",
      "URL: https://tamkeenstores.com.sa/product/r-v805ps1kvbsl/\n",
      "len 2\n",
      "len images 2\n",
      "len dimension 3\n",
      "Count: 12\n",
      "URL: https://tamkeenstores.com.sa/product/r-v905ps1kvbsl/\n",
      "len 2\n",
      "len images 1\n",
      "len dimension 3\n",
      "Count: 13\n",
      "URL: https://tamkeenstores.com.sa/product/r-v905ps1kvtwh/\n",
      "len 2\n",
      "len images 2\n",
      "len dimension 3\n",
      "Count: 14\n",
      "URL: https://tamkeenstores.com.sa/product/lt22cbbwln/\n",
      "len 2\n",
      "len images 4\n",
      "len dimension 3\n",
      "Count: 15\n",
      "URL: https://tamkeenstores.com.sa/product/lt22cbbsln/\n",
      "len 2\n",
      "len images 4\n",
      "len dimension 3\n",
      "Count: 16\n",
      "URL: https://tamkeenstores.com.sa/product/nr-bc52swsa/\n",
      "len 2\n",
      "len images 4\n",
      "len dimension 3\n",
      "Count: 17\n",
      "URL: https://tamkeenstores.com.sa/product/nr-bc833vssa/\n",
      "len 2\n",
      "len images 3\n",
      "len dimension 3\n",
      "Count: 18\n",
      "URL: https://tamkeenstores.com.sa/product/gr-a820atew/\n",
      "len 2\n",
      "len images 2\n",
      "len dimension 2\n",
      "Count: 19\n",
      "URL: https://tamkeenstores.com.sa/product/gr-a33assk/\n",
      "len 2\n",
      "len images 3\n",
      "len dimension 3\n",
      "Count: 20\n",
      "URL: https://tamkeenstores.com.sa/product/gr-a720atebs/\n",
      "len 2\n",
      "len images 1\n",
      "len dimension 1\n",
      "Count: 21\n",
      "URL: https://tamkeenstores.com.sa/product/gr-a720ates/\n",
      "len 2\n",
      "len images 2\n",
      "len dimension 3\n",
      "Count: 22\n",
      "URL: https://tamkeenstores.com.sa/product/gr-a720atew/\n",
      "len 2\n",
      "len images 1\n",
      "len dimension 2\n",
      "Count: 23\n",
      "URL: https://tamkeenstores.com.sa/product/gr-a820atebs/\n",
      "len 2\n",
      "len images 3\n",
      "len dimension 2\n",
      "Count: 24\n",
      "URL: https://tamkeenstores.com.sa/product/gr-a820ates/\n",
      "len 2\n",
      "len images 2\n",
      "len dimension 3\n",
      "Count: 25\n",
      "URL: https://tamkeenstores.com.sa/product/gs1299ssi/\n",
      "len 2\n",
      "len images 5\n",
      "len dimension 3\n",
      "Count: 26\n",
      "URL: https://tamkeenstores.com.sa/product/gsdf252s/\n",
      "len 2\n",
      "len images 2\n",
      "len dimension 2\n",
      "Count: 27\n",
      "URL: https://tamkeenstores.com.sa/product/gs1180ss/\n",
      "len 2\n",
      "len images 1\n",
      "len dimension 2\n",
      "Count: 28\n",
      "URL: https://tamkeenstores.com.sa/product/gs38/\n",
      "len 2\n",
      "len images 1\n",
      "len dimension 3\n",
      "Count: 29\n",
      "URL: https://tamkeenstores.com.sa/product/gs42/\n",
      "len 2\n",
      "len images 1\n",
      "len dimension 3\n",
      "Count: 30\n",
      "URL: https://tamkeenstores.com.sa/product/gs46/\n",
      "len 2\n",
      "len images 1\n",
      "len dimension 3\n",
      "Count: 31\n",
      "URL: https://tamkeenstores.com.sa/product/gs46ss/\n",
      "len 2\n",
      "len images 1\n",
      "len dimension 3\n",
      "Count: 32\n",
      "URL: https://tamkeenstores.com.sa/product/gs49/\n",
      "len 2\n",
      "len images 1\n",
      "len dimension 3\n",
      "Count: 33\n",
      "URL: https://tamkeenstores.com.sa/product/gs59ss/\n",
      "len 2\n",
      "len images 1\n",
      "len dimension 3\n",
      "Count: 34\n",
      "URL: https://tamkeenstores.com.sa/product/gs64ss/\n",
      "len 2\n",
      "len images 1\n",
      "len dimension 3\n",
      "Count: 35\n",
      "URL: https://tamkeenstores.com.sa/product/gs64ssi/\n",
      "len 2\n",
      "len images 3\n",
      "len dimension 3\n",
      "Count: 36\n",
      "URL: https://tamkeenstores.com.sa/product/gs78/\n",
      "len 2\n",
      "len images 1\n",
      "len dimension 2\n",
      "Count: 37\n",
      "URL: https://tamkeenstores.com.sa/product/gs78ss/\n",
      "len 2\n",
      "len images 1\n",
      "len dimension 3\n",
      "Count: 38\n",
      "URL: https://tamkeenstores.com.sa/product/gs95ssi/\n",
      "len 2\n",
      "len images 3\n",
      "len dimension 3\n",
      "Count: 39\n",
      "URL: https://tamkeenstores.com.sa/product/gs_98/\n",
      "len 2\n",
      "len images 1\n",
      "len dimension 3\n",
      "Count: 40\n",
      "URL: https://tamkeenstores.com.sa/product/gs_98ss/\n",
      "len 2\n",
      "len images 1\n",
      "len dimension 3\n",
      "Count: 41\n",
      "URL: https://tamkeenstores.com.sa/product/gs104/\n",
      "len 1\n",
      "len images 1\n",
      "len dimension 3\n",
      "Count: 42\n",
      "URL: https://tamkeenstores.com.sa/product/gs144/\n",
      "len 2\n",
      "len images 1\n",
      "len dimension 3\n",
      "Count: 43\n",
      "URL: https://tamkeenstores.com.sa/product/gs-55/\n",
      "len 2\n",
      "len images 1\n",
      "len dimension 3\n",
      "Count: 44\n",
      "URL: https://tamkeenstores.com.sa/product/gs28/\n",
      "len 2\n",
      "len images 2\n",
      "len dimension 0\n",
      "Count: 45\n",
      "URL: https://tamkeenstores.com.sa/product/gs33/\n",
      "len 2\n",
      "len images 1\n",
      "len dimension 3\n",
      "Count: 46\n",
      "URL: https://tamkeenstores.com.sa/product/gs77ssi/\n",
      "len 2\n",
      "len images 2\n",
      "len dimension 0\n",
      "Count: 47\n",
      "URL: https://tamkeenstores.com.sa/product/gs84ss/\n",
      "len 2\n",
      "len images 3\n",
      "len dimension 3\n",
      "Count: 48\n",
      "URL: https://tamkeenstores.com.sa/product/gs84ssi/\n",
      "len 2\n",
      "len images 3\n",
      "len dimension 3\n",
      "Count: 49\n",
      "URL: https://tamkeenstores.com.sa/product/gs92ssi/\n",
      "len 2\n",
      "len images 1\n",
      "len dimension 0\n",
      "Count: 50\n",
      "URL: https://tamkeenstores.com.sa/product/gs55ss/\n",
      "len 2\n",
      "len images 1\n",
      "len dimension 3\n",
      "Count: 51\n",
      "URL: https://tamkeenstores.com.sa/product/gs_1099ssi/\n",
      "len 2\n",
      "len images 1\n",
      "len dimension 3\n",
      "Count: 52\n",
      "URL: https://tamkeenstores.com.sa/product/gs_896ssi/\n",
      "len 2\n",
      "len images 1\n",
      "len dimension 3\n",
      "Count: 53\n",
      "URL: https://tamkeenstores.com.sa/product/gs22ssi/\n",
      "len 2\n",
      "len images 3\n",
      "len dimension 3\n",
      "Count: 54\n",
      "URL: https://tamkeenstores.com.sa/product/rt38k5157slc/\n",
      "len 2\n",
      "len images 4\n",
      "len dimension 2\n",
      "Count: 55\n",
      "URL: https://tamkeenstores.com.sa/product/rt46k6100s8c/\n",
      "len 2\n",
      "len images 5\n",
      "len dimension 3\n",
      "Count: 56\n",
      "URL: https://tamkeenstores.com.sa/product/rt53k6100s8b/\n",
      "len 2\n",
      "len images 4\n",
      "len dimension 3\n",
      "Count: 57\n",
      "URL: https://tamkeenstores.com.sa/product/nr-bs700mssa/\n",
      "len 2\n",
      "len images 3\n",
      "len dimension 3\n",
      "Count: 58\n",
      "URL: https://tamkeenstores.com.sa/product/ls242bbwln/\n",
      "len 2\n",
      "len images 5\n",
      "len dimension 3\n",
      "Count: 59\n",
      "URL: https://tamkeenstores.com.sa/product/gs_999s/\n",
      "len 2\n",
      "len images 1\n",
      "len dimension 3\n",
      "Count: 60\n",
      "URL: https://tamkeenstores.com.sa/product/ls312bbsln/\n",
      "len 2\n",
      "len images 3\n",
      "len dimension 2\n",
      "Count: 61\n",
      "URL: https://tamkeenstores.com.sa/product/ls242bbwln/\n",
      "len 2\n",
      "len images 5\n",
      "len dimension 3\n",
      "Count: 62\n",
      "URL: https://tamkeenstores.com.sa/product/ls312bbsln/\n",
      "len 2\n",
      "len images 3\n",
      "len dimension 2\n",
      "Count: 63\n",
      "URL: https://tamkeenstores.com.sa/product/nr-bs700mssa/\n",
      "len 2\n",
      "len images 3\n",
      "len dimension 3\n",
      "Count: 64\n",
      "URL: https://tamkeenstores.com.sa/product/gs_999s/\n",
      "len 2\n",
      "len images 1\n",
      "len dimension 3\n",
      "Count: 65\n",
      "URL: https://tamkeenstores.com.sa/product/gs-128/\n",
      "len 2\n",
      "len images 1\n",
      "len dimension 2\n",
      "Count: 66\n",
      "URL: https://tamkeenstores.com.sa/product/gs132/\n",
      "len 2\n",
      "len images 1\n",
      "len dimension 3\n",
      "Count: 67\n",
      "URL: https://tamkeenstores.com.sa/product/gs121s/\n",
      "len 2\n",
      "len images 1\n",
      "len dimension 3\n",
      "Count: 68\n",
      "URL: https://tamkeenstores.com.sa/product/gs-119/\n",
      "len 2\n",
      "len images 1\n",
      "len dimension 3\n",
      "Count: 69\n",
      "URL: https://tamkeenstores.com.sa/product/gs211w/\n",
      "len 2\n",
      "len images 1\n",
      "len dimension 3\n",
      "Count: 70\n",
      "URL: https://tamkeenstores.com.sa/product/gs181s/\n",
      "len 2\n",
      "len images 1\n",
      "len dimension 3\n",
      "Count: 71\n",
      "URL: https://tamkeenstores.com.sa/product/gs22ssir/\n",
      "len 2\n",
      "len images 2\n",
      "len dimension 0\n",
      "Count: 72\n",
      "URL: https://tamkeenstores.com.sa/product/gs-60/\n",
      "len 2\n",
      "len images 1\n",
      "len dimension 3\n",
      "Count: 73\n",
      "URL: https://tamkeenstores.com.sa/product/gs312s/\n",
      "len 2\n",
      "len images 1\n",
      "len dimension 3\n",
      "Count: 74\n",
      "URL: https://tamkeenstores.com.sa/product/gsfl355s/\n",
      "len 2\n",
      "len images 2\n",
      "len dimension 0\n",
      "Count: 75\n",
      "URL: https://tamkeenstores.com.sa/product/gs118b/\n",
      "len 2\n",
      "len images 1\n",
      "len dimension 3\n",
      "Count: 76\n",
      "URL: https://tamkeenstores.com.sa/product/gs120b/\n",
      "len 2\n",
      "len images 1\n",
      "len dimension 0\n",
      "Count: 77\n",
      "URL: https://tamkeenstores.com.sa/product/gs-119/\n",
      "len 2\n",
      "len images 1\n",
      "len dimension 3\n",
      "Count: 78\n",
      "URL: https://tamkeenstores.com.sa/product/gs121s/\n",
      "len 2\n",
      "len images 1\n",
      "len dimension 3\n",
      "Count: 79\n",
      "URL: https://tamkeenstores.com.sa/product/gs181/\n",
      "len 2\n",
      "len images 1\n",
      "len dimension 3\n",
      "Count: 80\n",
      "URL: https://tamkeenstores.com.sa/product/gs181s/\n",
      "len 2\n",
      "len images 1\n",
      "len dimension 3\n",
      "Count: 81\n",
      "URL: https://tamkeenstores.com.sa/product/gs149s/\n",
      "len 2\n",
      "len images 1\n",
      "len dimension 3\n",
      "Count: 82\n",
      "URL: https://tamkeenstores.com.sa/product/gs-312x/\n",
      "len 2\n",
      "len images 1\n",
      "len dimension 2\n",
      "Count: 83\n",
      "URL: https://tamkeenstores.com.sa/product/gs-352x/\n",
      "len 1\n",
      "len images 1\n",
      "len dimension 2\n",
      "Count: 84\n",
      "URL: https://tamkeenstores.com.sa/product/gs-128/\n"
     ]
    },
    {
     "name": "stdout",
     "output_type": "stream",
     "text": [
      "len 2\n",
      "len images 1\n",
      "len dimension 2\n",
      "Count: 85\n",
      "URL: https://tamkeenstores.com.sa/product/gs132/\n",
      "len 2\n",
      "len images 1\n",
      "len dimension 3\n",
      "Count: 86\n",
      "URL: https://tamkeenstores.com.sa/product/gs211w/\n",
      "len 2\n",
      "len images 1\n",
      "len dimension 3\n"
     ]
    }
   ],
   "source": [
    "df = pd.read_excel('/home/wafistos/Documents/Projects/scaping_wafi/tamkeenstores/categories/model_tamkeenstores1.xlsx')\n",
    "for i, tt in enumerate(papi_list):\n",
    "    print('Count:', i)\n",
    "    df_dic = scrape_product(tt)\n",
    "    df1 = pd.DataFrame()\n",
    "    df1 = df1.append(df_dic, ignore_index=True)\n",
    "    df = pd.concat([df, df1], ignore_index=False)\n",
    "\n",
    "    df.to_excel(f'TamkeenUpdate_frigo_product12_2021.xlsx')"
   ]
  },
  {
   "cell_type": "code",
   "execution_count": null,
   "id": "cf43a98d",
   "metadata": {},
   "outputs": [],
   "source": []
  },
  {
   "cell_type": "code",
   "execution_count": 2,
   "id": "95fbd467",
   "metadata": {},
   "outputs": [
    {
     "ename": "SSLError",
     "evalue": "HTTPSConnectionPool(host='inrest.com', port=443): Max retries exceeded with url: /product-category/31/25/8/page/3 (Caused by SSLError(SSLError(\"bad handshake: Error([('SSL routines', 'tls_process_server_certificate', 'certificate verify failed')])\")))",
     "output_type": "error",
     "traceback": [
      "\u001b[0;31m---------------------------------------------------------------------------\u001b[0m",
      "\u001b[0;31mError\u001b[0m                                     Traceback (most recent call last)",
      "\u001b[0;32m~/anaconda3/lib/python3.8/site-packages/urllib3/contrib/pyopenssl.py\u001b[0m in \u001b[0;36mwrap_socket\u001b[0;34m(self, sock, server_side, do_handshake_on_connect, suppress_ragged_eofs, server_hostname)\u001b[0m\n\u001b[1;32m    487\u001b[0m             \u001b[0;32mtry\u001b[0m\u001b[0;34m:\u001b[0m\u001b[0;34m\u001b[0m\u001b[0;34m\u001b[0m\u001b[0m\n\u001b[0;32m--> 488\u001b[0;31m                 \u001b[0mcnx\u001b[0m\u001b[0;34m.\u001b[0m\u001b[0mdo_handshake\u001b[0m\u001b[0;34m(\u001b[0m\u001b[0;34m)\u001b[0m\u001b[0;34m\u001b[0m\u001b[0;34m\u001b[0m\u001b[0m\n\u001b[0m\u001b[1;32m    489\u001b[0m             \u001b[0;32mexcept\u001b[0m \u001b[0mOpenSSL\u001b[0m\u001b[0;34m.\u001b[0m\u001b[0mSSL\u001b[0m\u001b[0;34m.\u001b[0m\u001b[0mWantReadError\u001b[0m\u001b[0;34m:\u001b[0m\u001b[0;34m\u001b[0m\u001b[0;34m\u001b[0m\u001b[0m\n",
      "\u001b[0;32m~/anaconda3/lib/python3.8/site-packages/OpenSSL/SSL.py\u001b[0m in \u001b[0;36mdo_handshake\u001b[0;34m(self)\u001b[0m\n\u001b[1;32m   1827\u001b[0m         \u001b[0mresult\u001b[0m \u001b[0;34m=\u001b[0m \u001b[0m_lib\u001b[0m\u001b[0;34m.\u001b[0m\u001b[0mSSL_do_handshake\u001b[0m\u001b[0;34m(\u001b[0m\u001b[0mself\u001b[0m\u001b[0;34m.\u001b[0m\u001b[0m_ssl\u001b[0m\u001b[0;34m)\u001b[0m\u001b[0;34m\u001b[0m\u001b[0;34m\u001b[0m\u001b[0m\n\u001b[0;32m-> 1828\u001b[0;31m         \u001b[0mself\u001b[0m\u001b[0;34m.\u001b[0m\u001b[0m_raise_ssl_error\u001b[0m\u001b[0;34m(\u001b[0m\u001b[0mself\u001b[0m\u001b[0;34m.\u001b[0m\u001b[0m_ssl\u001b[0m\u001b[0;34m,\u001b[0m \u001b[0mresult\u001b[0m\u001b[0;34m)\u001b[0m\u001b[0;34m\u001b[0m\u001b[0;34m\u001b[0m\u001b[0m\n\u001b[0m\u001b[1;32m   1829\u001b[0m \u001b[0;34m\u001b[0m\u001b[0m\n",
      "\u001b[0;32m~/anaconda3/lib/python3.8/site-packages/OpenSSL/SSL.py\u001b[0m in \u001b[0;36m_raise_ssl_error\u001b[0;34m(self, ssl, result)\u001b[0m\n\u001b[1;32m   1565\u001b[0m         \u001b[0;32melse\u001b[0m\u001b[0;34m:\u001b[0m\u001b[0;34m\u001b[0m\u001b[0;34m\u001b[0m\u001b[0m\n\u001b[0;32m-> 1566\u001b[0;31m             \u001b[0m_raise_current_error\u001b[0m\u001b[0;34m(\u001b[0m\u001b[0;34m)\u001b[0m\u001b[0;34m\u001b[0m\u001b[0;34m\u001b[0m\u001b[0m\n\u001b[0m\u001b[1;32m   1567\u001b[0m \u001b[0;34m\u001b[0m\u001b[0m\n",
      "\u001b[0;32m~/anaconda3/lib/python3.8/site-packages/OpenSSL/_util.py\u001b[0m in \u001b[0;36mexception_from_error_queue\u001b[0;34m(exception_type)\u001b[0m\n\u001b[1;32m     56\u001b[0m \u001b[0;34m\u001b[0m\u001b[0m\n\u001b[0;32m---> 57\u001b[0;31m     \u001b[0;32mraise\u001b[0m \u001b[0mexception_type\u001b[0m\u001b[0;34m(\u001b[0m\u001b[0merrors\u001b[0m\u001b[0;34m)\u001b[0m\u001b[0;34m\u001b[0m\u001b[0;34m\u001b[0m\u001b[0m\n\u001b[0m\u001b[1;32m     58\u001b[0m \u001b[0;34m\u001b[0m\u001b[0m\n",
      "\u001b[0;31mError\u001b[0m: [('SSL routines', 'tls_process_server_certificate', 'certificate verify failed')]",
      "\nDuring handling of the above exception, another exception occurred:\n",
      "\u001b[0;31mSSLError\u001b[0m                                  Traceback (most recent call last)",
      "\u001b[0;32m~/anaconda3/lib/python3.8/site-packages/urllib3/connectionpool.py\u001b[0m in \u001b[0;36murlopen\u001b[0;34m(self, method, url, body, headers, retries, redirect, assert_same_host, timeout, pool_timeout, release_conn, chunked, body_pos, **response_kw)\u001b[0m\n\u001b[1;32m    669\u001b[0m             \u001b[0;31m# Make the request on the httplib connection object.\u001b[0m\u001b[0;34m\u001b[0m\u001b[0;34m\u001b[0m\u001b[0;34m\u001b[0m\u001b[0m\n\u001b[0;32m--> 670\u001b[0;31m             httplib_response = self._make_request(\n\u001b[0m\u001b[1;32m    671\u001b[0m                 \u001b[0mconn\u001b[0m\u001b[0;34m,\u001b[0m\u001b[0;34m\u001b[0m\u001b[0;34m\u001b[0m\u001b[0m\n",
      "\u001b[0;32m~/anaconda3/lib/python3.8/site-packages/urllib3/connectionpool.py\u001b[0m in \u001b[0;36m_make_request\u001b[0;34m(self, conn, method, url, timeout, chunked, **httplib_request_kw)\u001b[0m\n\u001b[1;32m    380\u001b[0m         \u001b[0;32mtry\u001b[0m\u001b[0;34m:\u001b[0m\u001b[0;34m\u001b[0m\u001b[0;34m\u001b[0m\u001b[0m\n\u001b[0;32m--> 381\u001b[0;31m             \u001b[0mself\u001b[0m\u001b[0;34m.\u001b[0m\u001b[0m_validate_conn\u001b[0m\u001b[0;34m(\u001b[0m\u001b[0mconn\u001b[0m\u001b[0;34m)\u001b[0m\u001b[0;34m\u001b[0m\u001b[0;34m\u001b[0m\u001b[0m\n\u001b[0m\u001b[1;32m    382\u001b[0m         \u001b[0;32mexcept\u001b[0m \u001b[0;34m(\u001b[0m\u001b[0mSocketTimeout\u001b[0m\u001b[0;34m,\u001b[0m \u001b[0mBaseSSLError\u001b[0m\u001b[0;34m)\u001b[0m \u001b[0;32mas\u001b[0m \u001b[0me\u001b[0m\u001b[0;34m:\u001b[0m\u001b[0;34m\u001b[0m\u001b[0;34m\u001b[0m\u001b[0m\n",
      "\u001b[0;32m~/anaconda3/lib/python3.8/site-packages/urllib3/connectionpool.py\u001b[0m in \u001b[0;36m_validate_conn\u001b[0;34m(self, conn)\u001b[0m\n\u001b[1;32m    977\u001b[0m         \u001b[0;32mif\u001b[0m \u001b[0;32mnot\u001b[0m \u001b[0mgetattr\u001b[0m\u001b[0;34m(\u001b[0m\u001b[0mconn\u001b[0m\u001b[0;34m,\u001b[0m \u001b[0;34m\"sock\"\u001b[0m\u001b[0;34m,\u001b[0m \u001b[0;32mNone\u001b[0m\u001b[0;34m)\u001b[0m\u001b[0;34m:\u001b[0m  \u001b[0;31m# AppEngine might not have  `.sock`\u001b[0m\u001b[0;34m\u001b[0m\u001b[0;34m\u001b[0m\u001b[0m\n\u001b[0;32m--> 978\u001b[0;31m             \u001b[0mconn\u001b[0m\u001b[0;34m.\u001b[0m\u001b[0mconnect\u001b[0m\u001b[0;34m(\u001b[0m\u001b[0;34m)\u001b[0m\u001b[0;34m\u001b[0m\u001b[0;34m\u001b[0m\u001b[0m\n\u001b[0m\u001b[1;32m    979\u001b[0m \u001b[0;34m\u001b[0m\u001b[0m\n",
      "\u001b[0;32m~/anaconda3/lib/python3.8/site-packages/urllib3/connection.py\u001b[0m in \u001b[0;36mconnect\u001b[0;34m(self)\u001b[0m\n\u001b[1;32m    361\u001b[0m \u001b[0;34m\u001b[0m\u001b[0m\n\u001b[0;32m--> 362\u001b[0;31m         self.sock = ssl_wrap_socket(\n\u001b[0m\u001b[1;32m    363\u001b[0m             \u001b[0msock\u001b[0m\u001b[0;34m=\u001b[0m\u001b[0mconn\u001b[0m\u001b[0;34m,\u001b[0m\u001b[0;34m\u001b[0m\u001b[0;34m\u001b[0m\u001b[0m\n",
      "\u001b[0;32m~/anaconda3/lib/python3.8/site-packages/urllib3/util/ssl_.py\u001b[0m in \u001b[0;36mssl_wrap_socket\u001b[0;34m(sock, keyfile, certfile, cert_reqs, ca_certs, server_hostname, ssl_version, ciphers, ssl_context, ca_cert_dir, key_password, ca_cert_data)\u001b[0m\n\u001b[1;32m    385\u001b[0m         \u001b[0;32mif\u001b[0m \u001b[0mHAS_SNI\u001b[0m \u001b[0;32mand\u001b[0m \u001b[0mserver_hostname\u001b[0m \u001b[0;32mis\u001b[0m \u001b[0;32mnot\u001b[0m \u001b[0;32mNone\u001b[0m\u001b[0;34m:\u001b[0m\u001b[0;34m\u001b[0m\u001b[0;34m\u001b[0m\u001b[0m\n\u001b[0;32m--> 386\u001b[0;31m             \u001b[0;32mreturn\u001b[0m \u001b[0mcontext\u001b[0m\u001b[0;34m.\u001b[0m\u001b[0mwrap_socket\u001b[0m\u001b[0;34m(\u001b[0m\u001b[0msock\u001b[0m\u001b[0;34m,\u001b[0m \u001b[0mserver_hostname\u001b[0m\u001b[0;34m=\u001b[0m\u001b[0mserver_hostname\u001b[0m\u001b[0;34m)\u001b[0m\u001b[0;34m\u001b[0m\u001b[0;34m\u001b[0m\u001b[0m\n\u001b[0m\u001b[1;32m    387\u001b[0m \u001b[0;34m\u001b[0m\u001b[0m\n",
      "\u001b[0;32m~/anaconda3/lib/python3.8/site-packages/urllib3/contrib/pyopenssl.py\u001b[0m in \u001b[0;36mwrap_socket\u001b[0;34m(self, sock, server_side, do_handshake_on_connect, suppress_ragged_eofs, server_hostname)\u001b[0m\n\u001b[1;32m    493\u001b[0m             \u001b[0;32mexcept\u001b[0m \u001b[0mOpenSSL\u001b[0m\u001b[0;34m.\u001b[0m\u001b[0mSSL\u001b[0m\u001b[0;34m.\u001b[0m\u001b[0mError\u001b[0m \u001b[0;32mas\u001b[0m \u001b[0me\u001b[0m\u001b[0;34m:\u001b[0m\u001b[0;34m\u001b[0m\u001b[0;34m\u001b[0m\u001b[0m\n\u001b[0;32m--> 494\u001b[0;31m                 \u001b[0;32mraise\u001b[0m \u001b[0mssl\u001b[0m\u001b[0;34m.\u001b[0m\u001b[0mSSLError\u001b[0m\u001b[0;34m(\u001b[0m\u001b[0;34m\"bad handshake: %r\"\u001b[0m \u001b[0;34m%\u001b[0m \u001b[0me\u001b[0m\u001b[0;34m)\u001b[0m\u001b[0;34m\u001b[0m\u001b[0;34m\u001b[0m\u001b[0m\n\u001b[0m\u001b[1;32m    495\u001b[0m             \u001b[0;32mbreak\u001b[0m\u001b[0;34m\u001b[0m\u001b[0;34m\u001b[0m\u001b[0m\n",
      "\u001b[0;31mSSLError\u001b[0m: (\"bad handshake: Error([('SSL routines', 'tls_process_server_certificate', 'certificate verify failed')])\",)",
      "\nDuring handling of the above exception, another exception occurred:\n",
      "\u001b[0;31mMaxRetryError\u001b[0m                             Traceback (most recent call last)",
      "\u001b[0;32m~/anaconda3/lib/python3.8/site-packages/requests/adapters.py\u001b[0m in \u001b[0;36msend\u001b[0;34m(self, request, stream, timeout, verify, cert, proxies)\u001b[0m\n\u001b[1;32m    438\u001b[0m             \u001b[0;32mif\u001b[0m \u001b[0;32mnot\u001b[0m \u001b[0mchunked\u001b[0m\u001b[0;34m:\u001b[0m\u001b[0;34m\u001b[0m\u001b[0;34m\u001b[0m\u001b[0m\n\u001b[0;32m--> 439\u001b[0;31m                 resp = conn.urlopen(\n\u001b[0m\u001b[1;32m    440\u001b[0m                     \u001b[0mmethod\u001b[0m\u001b[0;34m=\u001b[0m\u001b[0mrequest\u001b[0m\u001b[0;34m.\u001b[0m\u001b[0mmethod\u001b[0m\u001b[0;34m,\u001b[0m\u001b[0;34m\u001b[0m\u001b[0;34m\u001b[0m\u001b[0m\n",
      "\u001b[0;32m~/anaconda3/lib/python3.8/site-packages/urllib3/connectionpool.py\u001b[0m in \u001b[0;36murlopen\u001b[0;34m(self, method, url, body, headers, retries, redirect, assert_same_host, timeout, pool_timeout, release_conn, chunked, body_pos, **response_kw)\u001b[0m\n\u001b[1;32m    725\u001b[0m \u001b[0;34m\u001b[0m\u001b[0m\n\u001b[0;32m--> 726\u001b[0;31m             retries = retries.increment(\n\u001b[0m\u001b[1;32m    727\u001b[0m                 \u001b[0mmethod\u001b[0m\u001b[0;34m,\u001b[0m \u001b[0murl\u001b[0m\u001b[0;34m,\u001b[0m \u001b[0merror\u001b[0m\u001b[0;34m=\u001b[0m\u001b[0me\u001b[0m\u001b[0;34m,\u001b[0m \u001b[0m_pool\u001b[0m\u001b[0;34m=\u001b[0m\u001b[0mself\u001b[0m\u001b[0;34m,\u001b[0m \u001b[0m_stacktrace\u001b[0m\u001b[0;34m=\u001b[0m\u001b[0msys\u001b[0m\u001b[0;34m.\u001b[0m\u001b[0mexc_info\u001b[0m\u001b[0;34m(\u001b[0m\u001b[0;34m)\u001b[0m\u001b[0;34m[\u001b[0m\u001b[0;36m2\u001b[0m\u001b[0;34m]\u001b[0m\u001b[0;34m\u001b[0m\u001b[0;34m\u001b[0m\u001b[0m\n",
      "\u001b[0;32m~/anaconda3/lib/python3.8/site-packages/urllib3/util/retry.py\u001b[0m in \u001b[0;36mincrement\u001b[0;34m(self, method, url, response, error, _pool, _stacktrace)\u001b[0m\n\u001b[1;32m    445\u001b[0m         \u001b[0;32mif\u001b[0m \u001b[0mnew_retry\u001b[0m\u001b[0;34m.\u001b[0m\u001b[0mis_exhausted\u001b[0m\u001b[0;34m(\u001b[0m\u001b[0;34m)\u001b[0m\u001b[0;34m:\u001b[0m\u001b[0;34m\u001b[0m\u001b[0;34m\u001b[0m\u001b[0m\n\u001b[0;32m--> 446\u001b[0;31m             \u001b[0;32mraise\u001b[0m \u001b[0mMaxRetryError\u001b[0m\u001b[0;34m(\u001b[0m\u001b[0m_pool\u001b[0m\u001b[0;34m,\u001b[0m \u001b[0murl\u001b[0m\u001b[0;34m,\u001b[0m \u001b[0merror\u001b[0m \u001b[0;32mor\u001b[0m \u001b[0mResponseError\u001b[0m\u001b[0;34m(\u001b[0m\u001b[0mcause\u001b[0m\u001b[0;34m)\u001b[0m\u001b[0;34m)\u001b[0m\u001b[0;34m\u001b[0m\u001b[0;34m\u001b[0m\u001b[0m\n\u001b[0m\u001b[1;32m    447\u001b[0m \u001b[0;34m\u001b[0m\u001b[0m\n",
      "\u001b[0;31mMaxRetryError\u001b[0m: HTTPSConnectionPool(host='inrest.com', port=443): Max retries exceeded with url: /product-category/31/25/8/page/3 (Caused by SSLError(SSLError(\"bad handshake: Error([('SSL routines', 'tls_process_server_certificate', 'certificate verify failed')])\")))",
      "\nDuring handling of the above exception, another exception occurred:\n",
      "\u001b[0;31mSSLError\u001b[0m                                  Traceback (most recent call last)",
      "\u001b[0;32m<ipython-input-2-b1c48b5cf7a9>\u001b[0m in \u001b[0;36m<module>\u001b[0;34m\u001b[0m\n\u001b[0;32m----> 1\u001b[0;31m \u001b[0mr\u001b[0m \u001b[0;34m=\u001b[0m \u001b[0mrequests\u001b[0m\u001b[0;34m.\u001b[0m\u001b[0mget\u001b[0m\u001b[0;34m(\u001b[0m\u001b[0;34m'https://inrest.com/product-category/31/25/8/page/3'\u001b[0m\u001b[0;34m)\u001b[0m\u001b[0;34m\u001b[0m\u001b[0;34m\u001b[0m\u001b[0m\n\u001b[0m\u001b[1;32m      2\u001b[0m \u001b[0;34m\u001b[0m\u001b[0m\n\u001b[1;32m      3\u001b[0m \u001b[0msoup\u001b[0m  \u001b[0;34m=\u001b[0m \u001b[0mBeautifulSoup\u001b[0m\u001b[0;34m(\u001b[0m\u001b[0mr\u001b[0m\u001b[0;34m.\u001b[0m\u001b[0mtext\u001b[0m\u001b[0;34m,\u001b[0m \u001b[0;34m'html.parser'\u001b[0m\u001b[0;34m)\u001b[0m\u001b[0;34m\u001b[0m\u001b[0;34m\u001b[0m\u001b[0m\n",
      "\u001b[0;32m~/anaconda3/lib/python3.8/site-packages/requests/api.py\u001b[0m in \u001b[0;36mget\u001b[0;34m(url, params, **kwargs)\u001b[0m\n\u001b[1;32m     74\u001b[0m \u001b[0;34m\u001b[0m\u001b[0m\n\u001b[1;32m     75\u001b[0m     \u001b[0mkwargs\u001b[0m\u001b[0;34m.\u001b[0m\u001b[0msetdefault\u001b[0m\u001b[0;34m(\u001b[0m\u001b[0;34m'allow_redirects'\u001b[0m\u001b[0;34m,\u001b[0m \u001b[0;32mTrue\u001b[0m\u001b[0;34m)\u001b[0m\u001b[0;34m\u001b[0m\u001b[0;34m\u001b[0m\u001b[0m\n\u001b[0;32m---> 76\u001b[0;31m     \u001b[0;32mreturn\u001b[0m \u001b[0mrequest\u001b[0m\u001b[0;34m(\u001b[0m\u001b[0;34m'get'\u001b[0m\u001b[0;34m,\u001b[0m \u001b[0murl\u001b[0m\u001b[0;34m,\u001b[0m \u001b[0mparams\u001b[0m\u001b[0;34m=\u001b[0m\u001b[0mparams\u001b[0m\u001b[0;34m,\u001b[0m \u001b[0;34m**\u001b[0m\u001b[0mkwargs\u001b[0m\u001b[0;34m)\u001b[0m\u001b[0;34m\u001b[0m\u001b[0;34m\u001b[0m\u001b[0m\n\u001b[0m\u001b[1;32m     77\u001b[0m \u001b[0;34m\u001b[0m\u001b[0m\n\u001b[1;32m     78\u001b[0m \u001b[0;34m\u001b[0m\u001b[0m\n",
      "\u001b[0;32m~/anaconda3/lib/python3.8/site-packages/requests/api.py\u001b[0m in \u001b[0;36mrequest\u001b[0;34m(method, url, **kwargs)\u001b[0m\n\u001b[1;32m     59\u001b[0m     \u001b[0;31m# cases, and look like a memory leak in others.\u001b[0m\u001b[0;34m\u001b[0m\u001b[0;34m\u001b[0m\u001b[0;34m\u001b[0m\u001b[0m\n\u001b[1;32m     60\u001b[0m     \u001b[0;32mwith\u001b[0m \u001b[0msessions\u001b[0m\u001b[0;34m.\u001b[0m\u001b[0mSession\u001b[0m\u001b[0;34m(\u001b[0m\u001b[0;34m)\u001b[0m \u001b[0;32mas\u001b[0m \u001b[0msession\u001b[0m\u001b[0;34m:\u001b[0m\u001b[0;34m\u001b[0m\u001b[0;34m\u001b[0m\u001b[0m\n\u001b[0;32m---> 61\u001b[0;31m         \u001b[0;32mreturn\u001b[0m \u001b[0msession\u001b[0m\u001b[0;34m.\u001b[0m\u001b[0mrequest\u001b[0m\u001b[0;34m(\u001b[0m\u001b[0mmethod\u001b[0m\u001b[0;34m=\u001b[0m\u001b[0mmethod\u001b[0m\u001b[0;34m,\u001b[0m \u001b[0murl\u001b[0m\u001b[0;34m=\u001b[0m\u001b[0murl\u001b[0m\u001b[0;34m,\u001b[0m \u001b[0;34m**\u001b[0m\u001b[0mkwargs\u001b[0m\u001b[0;34m)\u001b[0m\u001b[0;34m\u001b[0m\u001b[0;34m\u001b[0m\u001b[0m\n\u001b[0m\u001b[1;32m     62\u001b[0m \u001b[0;34m\u001b[0m\u001b[0m\n\u001b[1;32m     63\u001b[0m \u001b[0;34m\u001b[0m\u001b[0m\n",
      "\u001b[0;32m~/anaconda3/lib/python3.8/site-packages/requests/sessions.py\u001b[0m in \u001b[0;36mrequest\u001b[0;34m(self, method, url, params, data, headers, cookies, files, auth, timeout, allow_redirects, proxies, hooks, stream, verify, cert, json)\u001b[0m\n\u001b[1;32m    528\u001b[0m         }\n\u001b[1;32m    529\u001b[0m         \u001b[0msend_kwargs\u001b[0m\u001b[0;34m.\u001b[0m\u001b[0mupdate\u001b[0m\u001b[0;34m(\u001b[0m\u001b[0msettings\u001b[0m\u001b[0;34m)\u001b[0m\u001b[0;34m\u001b[0m\u001b[0;34m\u001b[0m\u001b[0m\n\u001b[0;32m--> 530\u001b[0;31m         \u001b[0mresp\u001b[0m \u001b[0;34m=\u001b[0m \u001b[0mself\u001b[0m\u001b[0;34m.\u001b[0m\u001b[0msend\u001b[0m\u001b[0;34m(\u001b[0m\u001b[0mprep\u001b[0m\u001b[0;34m,\u001b[0m \u001b[0;34m**\u001b[0m\u001b[0msend_kwargs\u001b[0m\u001b[0;34m)\u001b[0m\u001b[0;34m\u001b[0m\u001b[0;34m\u001b[0m\u001b[0m\n\u001b[0m\u001b[1;32m    531\u001b[0m \u001b[0;34m\u001b[0m\u001b[0m\n\u001b[1;32m    532\u001b[0m         \u001b[0;32mreturn\u001b[0m \u001b[0mresp\u001b[0m\u001b[0;34m\u001b[0m\u001b[0;34m\u001b[0m\u001b[0m\n",
      "\u001b[0;32m~/anaconda3/lib/python3.8/site-packages/requests/sessions.py\u001b[0m in \u001b[0;36msend\u001b[0;34m(self, request, **kwargs)\u001b[0m\n\u001b[1;32m    641\u001b[0m \u001b[0;34m\u001b[0m\u001b[0m\n\u001b[1;32m    642\u001b[0m         \u001b[0;31m# Send the request\u001b[0m\u001b[0;34m\u001b[0m\u001b[0;34m\u001b[0m\u001b[0;34m\u001b[0m\u001b[0m\n\u001b[0;32m--> 643\u001b[0;31m         \u001b[0mr\u001b[0m \u001b[0;34m=\u001b[0m \u001b[0madapter\u001b[0m\u001b[0;34m.\u001b[0m\u001b[0msend\u001b[0m\u001b[0;34m(\u001b[0m\u001b[0mrequest\u001b[0m\u001b[0;34m,\u001b[0m \u001b[0;34m**\u001b[0m\u001b[0mkwargs\u001b[0m\u001b[0;34m)\u001b[0m\u001b[0;34m\u001b[0m\u001b[0;34m\u001b[0m\u001b[0m\n\u001b[0m\u001b[1;32m    644\u001b[0m \u001b[0;34m\u001b[0m\u001b[0m\n\u001b[1;32m    645\u001b[0m         \u001b[0;31m# Total elapsed time of the request (approximately)\u001b[0m\u001b[0;34m\u001b[0m\u001b[0;34m\u001b[0m\u001b[0;34m\u001b[0m\u001b[0m\n",
      "\u001b[0;32m~/anaconda3/lib/python3.8/site-packages/requests/adapters.py\u001b[0m in \u001b[0;36msend\u001b[0;34m(self, request, stream, timeout, verify, cert, proxies)\u001b[0m\n\u001b[1;32m    512\u001b[0m             \u001b[0;32mif\u001b[0m \u001b[0misinstance\u001b[0m\u001b[0;34m(\u001b[0m\u001b[0me\u001b[0m\u001b[0;34m.\u001b[0m\u001b[0mreason\u001b[0m\u001b[0;34m,\u001b[0m \u001b[0m_SSLError\u001b[0m\u001b[0;34m)\u001b[0m\u001b[0;34m:\u001b[0m\u001b[0;34m\u001b[0m\u001b[0;34m\u001b[0m\u001b[0m\n\u001b[1;32m    513\u001b[0m                 \u001b[0;31m# This branch is for urllib3 v1.22 and later.\u001b[0m\u001b[0;34m\u001b[0m\u001b[0;34m\u001b[0m\u001b[0;34m\u001b[0m\u001b[0m\n\u001b[0;32m--> 514\u001b[0;31m                 \u001b[0;32mraise\u001b[0m \u001b[0mSSLError\u001b[0m\u001b[0;34m(\u001b[0m\u001b[0me\u001b[0m\u001b[0;34m,\u001b[0m \u001b[0mrequest\u001b[0m\u001b[0;34m=\u001b[0m\u001b[0mrequest\u001b[0m\u001b[0;34m)\u001b[0m\u001b[0;34m\u001b[0m\u001b[0;34m\u001b[0m\u001b[0m\n\u001b[0m\u001b[1;32m    515\u001b[0m \u001b[0;34m\u001b[0m\u001b[0m\n\u001b[1;32m    516\u001b[0m             \u001b[0;32mraise\u001b[0m \u001b[0mConnectionError\u001b[0m\u001b[0;34m(\u001b[0m\u001b[0me\u001b[0m\u001b[0;34m,\u001b[0m \u001b[0mrequest\u001b[0m\u001b[0;34m=\u001b[0m\u001b[0mrequest\u001b[0m\u001b[0;34m)\u001b[0m\u001b[0;34m\u001b[0m\u001b[0;34m\u001b[0m\u001b[0m\n",
      "\u001b[0;31mSSLError\u001b[0m: HTTPSConnectionPool(host='inrest.com', port=443): Max retries exceeded with url: /product-category/31/25/8/page/3 (Caused by SSLError(SSLError(\"bad handshake: Error([('SSL routines', 'tls_process_server_certificate', 'certificate verify failed')])\")))"
     ]
    }
   ],
   "source": [
    "r = requests.get('https://inrest.com/product-category/31/25/8/page/3')\n",
    "\n",
    "soup  = BeautifulSoup(r.text, 'html.parser')"
   ]
  },
  {
   "cell_type": "code",
   "execution_count": 556,
   "id": "7a0e9b6b",
   "metadata": {},
   "outputs": [
    {
     "data": {
      "text/plain": [
       "[<td class=\"woocommerce-product-attributes-item__value\">55 kg</td>,\n",
       " <td class=\"woocommerce-product-attributes-item__value\">571 × 554 × 1768 cm</td>,\n",
       " <td class=\"woocommerce-product-attributes-item__value\"><p>13.8 Cu.ft.</p>\n",
       " </td>]"
      ]
     },
     "execution_count": 556,
     "metadata": {},
     "output_type": "execute_result"
    }
   ],
   "source": [
    "dimension = soup.find_all('td', {'class': 'woocommerce-product-attributes-item__value'})\n",
    "dimension"
   ]
  },
  {
   "cell_type": "code",
   "execution_count": 557,
   "id": "3c41d1ea",
   "metadata": {},
   "outputs": [
    {
     "data": {
      "text/plain": [
       "'13.8'"
      ]
     },
     "execution_count": 557,
     "metadata": {},
     "output_type": "execute_result"
    }
   ],
   "source": [
    "refrigerator_height = ''\n",
    "for dim in dimension:\n",
    "    if 'Cu.ft.' in dim.text:\n",
    "        refrigerator_height = dim.text.replace('Cu.ft.', '').strip()\n",
    "refrigerator_height"
   ]
  },
  {
   "cell_type": "code",
   "execution_count": null,
   "id": "be8b8e55",
   "metadata": {},
   "outputs": [],
   "source": []
  }
 ],
 "metadata": {
  "celltoolbar": "Raw Cell Format",
  "kernelspec": {
   "display_name": "Python 3",
   "language": "python",
   "name": "python3"
  },
  "language_info": {
   "codemirror_mode": {
    "name": "ipython",
    "version": 3
   },
   "file_extension": ".py",
   "mimetype": "text/x-python",
   "name": "python",
   "nbconvert_exporter": "python",
   "pygments_lexer": "ipython3",
   "version": "3.8.8"
  },
  "toc": {
   "base_numbering": 1,
   "nav_menu": {},
   "number_sections": true,
   "sideBar": true,
   "skip_h1_title": false,
   "title_cell": "Table of Contents",
   "title_sidebar": "Contents",
   "toc_cell": false,
   "toc_position": {
    "height": "calc(100% - 180px)",
    "left": "10px",
    "top": "150px",
    "width": "352px"
   },
   "toc_section_display": true,
   "toc_window_display": true
  }
 },
 "nbformat": 4,
 "nbformat_minor": 5
}
