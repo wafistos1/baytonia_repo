{
 "cells": [
  {
   "cell_type": "code",
   "execution_count": 1,
   "id": "51b0a636",
   "metadata": {},
   "outputs": [],
   "source": [
    "#imports here\n",
    "from selenium import webdriver\n",
    "from selenium.webdriver.common.keys import Keys\n",
    "from selenium.webdriver.support import expected_conditions as EC\n",
    "from selenium.webdriver.common.by import By\n",
    "from selenium.webdriver.support.wait import WebDriverWait\n",
    "from selenium.webdriver.firefox.options import Options\n",
    "import time\n",
    "import os\n",
    "from fake_useragent import UserAgent\n",
    "from random import randint\n",
    "import pandas as pd\n",
    "import re\n",
    "from datetime import datetime\n",
    "from datetime import timedelta\n",
    "from bs4 import BeautifulSoup\n",
    "import requests"
   ]
  },
  {
   "cell_type": "markdown",
   "id": "e09c5275",
   "metadata": {},
   "source": [
    "# firefox "
   ]
  },
  {
   "cell_type": "code",
   "execution_count": 4,
   "id": "e81ce385",
   "metadata": {},
   "outputs": [
    {
     "name": "stdout",
     "output_type": "stream",
     "text": [
      "Mozilla/5.0 (Windows NT 6.1; WOW64; rv:23.0) Gecko/20130406 Firefox/23.0\n"
     ]
    },
    {
     "name": "stderr",
     "output_type": "stream",
     "text": [
      "<ipython-input-4-5315509cced7>:7: DeprecationWarning: use options instead of firefox_options\n",
      "  driver = webdriver.Firefox(firefox_options=options)\n"
     ]
    }
   ],
   "source": [
    "options = Options()\n",
    "ua = UserAgent()\n",
    "userAgent = ua.random\n",
    "print(userAgent)\n",
    "options.add_argument(f'user-agent={userAgent}')\n",
    "#options.add_argument(\"--headless\")\n",
    "driver = webdriver.Firefox(firefox_options=options)\n",
    "#     driver = webdriver.Firefox()"
   ]
  },
  {
   "cell_type": "code",
   "execution_count": 5,
   "id": "f8ce39de",
   "metadata": {},
   "outputs": [],
   "source": [
    "driver.get('https://inrest.com/product-category/31/25/8/')"
   ]
  },
  {
   "cell_type": "code",
   "execution_count": 9,
   "id": "289f58ef",
   "metadata": {},
   "outputs": [],
   "source": [
    "driver.get('https://inrest.com/product-category/31/25/24/')"
   ]
  },
  {
   "cell_type": "markdown",
   "id": "2cf7df8a",
   "metadata": {},
   "source": [
    "# get url products"
   ]
  },
  {
   "cell_type": "code",
   "execution_count": 6,
   "id": "ac88beb2",
   "metadata": {},
   "outputs": [],
   "source": [
    "list_product = []"
   ]
  },
  {
   "cell_type": "code",
   "execution_count": 10,
   "id": "139cd3e8",
   "metadata": {},
   "outputs": [
    {
     "data": {
      "text/plain": [
       "46"
      ]
     },
     "execution_count": 10,
     "metadata": {},
     "output_type": "execute_result"
    }
   ],
   "source": [
    "product_urls = driver.find_elements_by_xpath('//a[@class=\"product-image-link\"]')\n",
    "len(product_urls)"
   ]
  },
  {
   "cell_type": "code",
   "execution_count": 11,
   "id": "74b621ef",
   "metadata": {},
   "outputs": [
    {
     "data": {
      "text/plain": [
       "101"
      ]
     },
     "execution_count": 11,
     "metadata": {},
     "output_type": "execute_result"
    }
   ],
   "source": [
    "\n",
    "for product in product_urls:\n",
    "    list_product.append(product.get_attribute('href'))\n",
    "len(list_product)"
   ]
  },
  {
   "cell_type": "markdown",
   "id": "04e54c2a",
   "metadata": {},
   "source": [
    "# Traitement"
   ]
  },
  {
   "cell_type": "code",
   "execution_count": 51,
   "id": "2d9bba02",
   "metadata": {},
   "outputs": [],
   "source": [
    "df = None"
   ]
  },
  {
   "cell_type": "code",
   "execution_count": 63,
   "id": "770e17a7",
   "metadata": {},
   "outputs": [],
   "source": [
    "df1 = pd.read_excel('/home/wafistos/Documents/Projects/scaping_wafi/inrest/Inrest_update.xlsx')\n",
    "df2 = pd.read_excel('/home/wafistos/Documents/Projects/scaping_wafi/inrest/Inrest_update1.xlsx')\n",
    "df3 = pd.read_excel('/home/wafistos/Documents/Projects/scaping_wafi/inrest/Inrest_update2.xlsx')\n",
    "\n",
    "\n",
    "\n",
    "\n",
    "\n"
   ]
  },
  {
   "cell_type": "code",
   "execution_count": 59,
   "id": "c68ecff5",
   "metadata": {},
   "outputs": [
    {
     "data": {
      "text/plain": [
       "(176, 41)"
      ]
     },
     "execution_count": 59,
     "metadata": {},
     "output_type": "execute_result"
    }
   ],
   "source": [
    "df2.shape"
   ]
  },
  {
   "cell_type": "code",
   "execution_count": 58,
   "id": "34fa7608",
   "metadata": {},
   "outputs": [
    {
     "data": {
      "text/plain": [
       "(466, 41)"
      ]
     },
     "execution_count": 58,
     "metadata": {},
     "output_type": "execute_result"
    }
   ],
   "source": [
    "df1.shape"
   ]
  },
  {
   "cell_type": "code",
   "execution_count": 65,
   "id": "075f608e",
   "metadata": {},
   "outputs": [],
   "source": [
    "df = pd.concat([df, df3], ignore_index=True)"
   ]
  },
  {
   "cell_type": "code",
   "execution_count": 57,
   "id": "2c94070c",
   "metadata": {},
   "outputs": [
    {
     "data": {
      "text/plain": [
       "(642, 41)"
      ]
     },
     "execution_count": 57,
     "metadata": {},
     "output_type": "execute_result"
    }
   ],
   "source": [
    "df.shape"
   ]
  },
  {
   "cell_type": "code",
   "execution_count": 66,
   "id": "e1953e51",
   "metadata": {},
   "outputs": [],
   "source": [
    "df.to_excel('clean_data1.xlsx')"
   ]
  },
  {
   "cell_type": "code",
   "execution_count": 69,
   "id": "a93d90ce",
   "metadata": {},
   "outputs": [],
   "source": [
    "color_list = [\n",
    "    'أبيض',\n",
    "    'بيج',\n",
    "    'رصاصي',\n",
    "    'زهري',\n",
    "    'عودي',\n",
    "    'كريمي',\n",
    "    'أخضر',\n",
    "    'زهري غامق',\n",
    "    'زهري فاتح',\n",
    "    'أزرق',\n",
    "    \n",
    "]"
   ]
  },
  {
   "cell_type": "code",
   "execution_count": 70,
   "id": "11e65bdc",
   "metadata": {},
   "outputs": [],
   "source": [
    "df['free_colors'] = ''\n",
    "for color in color_list:\n",
    "    df.loc[df['name'].str.contains(color), 'free_colors'] = color"
   ]
  },
  {
   "cell_type": "code",
   "execution_count": 71,
   "id": "8522d39c",
   "metadata": {},
   "outputs": [
    {
     "data": {
      "text/plain": [
       "0       أبيض\n",
       "1        بيج\n",
       "2      رصاصي\n",
       "3       زهري\n",
       "4       عودي\n",
       "       ...  \n",
       "97      أخضر\n",
       "98          \n",
       "99          \n",
       "100         \n",
       "101         \n",
       "Name: free_colors, Length: 102, dtype: object"
      ]
     },
     "execution_count": 71,
     "metadata": {},
     "output_type": "execute_result"
    }
   ],
   "source": []
  },
  {
   "cell_type": "code",
   "execution_count": 624,
   "id": "35e63d94",
   "metadata": {},
   "outputs": [],
   "source": [
    "df['out_of_stock_qty'] = df['out_of_stock_qty'].str.replace('متوفر في المخزون', '').str.strip()"
   ]
  },
  {
   "cell_type": "code",
   "execution_count": 72,
   "id": "eeb8c260",
   "metadata": {},
   "outputs": [],
   "source": [
    "df['qty'] = df['is_in_stock']\n"
   ]
  },
  {
   "cell_type": "code",
   "execution_count": 73,
   "id": "8de5ded9",
   "metadata": {},
   "outputs": [],
   "source": [
    "df['is_in_stock'] = 1"
   ]
  },
  {
   "cell_type": "code",
   "execution_count": 74,
   "id": "2d8a299f",
   "metadata": {},
   "outputs": [],
   "source": [
    "df['allow_backorders'] = 1"
   ]
  },
  {
   "cell_type": "code",
   "execution_count": 75,
   "id": "163561f1",
   "metadata": {},
   "outputs": [],
   "source": [
    "df['product_online'] = 1"
   ]
  },
  {
   "cell_type": "code",
   "execution_count": 78,
   "id": "168afd56",
   "metadata": {},
   "outputs": [],
   "source": [
    "df['out_of_stock_qty'] = -5"
   ]
  },
  {
   "cell_type": "code",
   "execution_count": 632,
   "id": "b504d602",
   "metadata": {},
   "outputs": [],
   "source": [
    "df.loc[df['out_of_stock_qty'] == 0, 'estimated_delivery_enable'] = 'Static Text'"
   ]
  },
  {
   "cell_type": "code",
   "execution_count": 79,
   "id": "de9e5efa",
   "metadata": {},
   "outputs": [],
   "source": [
    "df['estimated_delivery_enable'] = 'Static Text'"
   ]
  },
  {
   "cell_type": "code",
   "execution_count": 80,
   "id": "d3362da5",
   "metadata": {},
   "outputs": [],
   "source": [
    "df.to_excel('toto.xlsx')"
   ]
  },
  {
   "cell_type": "code",
   "execution_count": null,
   "id": "0aa345e5",
   "metadata": {},
   "outputs": [],
   "source": []
  },
  {
   "cell_type": "code",
   "execution_count": null,
   "id": "7f62b270",
   "metadata": {},
   "outputs": [],
   "source": []
  },
  {
   "cell_type": "code",
   "execution_count": null,
   "id": "e7bd127a",
   "metadata": {},
   "outputs": [],
   "source": []
  },
  {
   "cell_type": "code",
   "execution_count": 635,
   "id": "45363fd5",
   "metadata": {},
   "outputs": [],
   "source": [
    "df.drop_duplicates(subset=['sku'], inplace=True)"
   ]
  },
  {
   "cell_type": "code",
   "execution_count": 636,
   "id": "6b739214",
   "metadata": {},
   "outputs": [],
   "source": [
    "df.to_excel('Update_clean.xlsx')"
   ]
  },
  {
   "cell_type": "code",
   "execution_count": 637,
   "id": "7deef635",
   "metadata": {},
   "outputs": [],
   "source": [
    "df['allow_backorders'] = df['is_in_stock']\n",
    "df['estimated_delivery_enable'] = 'Static Text'"
   ]
  },
  {
   "cell_type": "code",
   "execution_count": 638,
   "id": "f2909c74",
   "metadata": {},
   "outputs": [],
   "source": [
    "df['url_key'] = df['url_key'].str.replace(', ', '-')\n",
    "df['url_key'] = df['url_key'].str.replace('/', '-')\n",
    "df['url_key'] = df['url_key'].str.replace('\"', '-')\n",
    "df['url_key'] = df['url_key'].str.replace('%', '-')\n",
    "df['url_key'] = df['url_key'].str.replace('+', '-', regex=False)"
   ]
  },
  {
   "cell_type": "code",
   "execution_count": null,
   "id": "c5fbd6f2",
   "metadata": {},
   "outputs": [],
   "source": []
  },
  {
   "cell_type": "code",
   "execution_count": null,
   "id": "07978719",
   "metadata": {},
   "outputs": [],
   "source": []
  },
  {
   "cell_type": "code",
   "execution_count": 642,
   "id": "c17d31e9",
   "metadata": {},
   "outputs": [],
   "source": [
    "df.loc[(df['raw_materials'] == 0) | (df['raw_materials'].isnull()), 'raw_materials'] = '__EMPTY__VALUE'"
   ]
  },
  {
   "cell_type": "code",
   "execution_count": 643,
   "id": "40aadb38",
   "metadata": {},
   "outputs": [],
   "source": [
    "df.loc[(df['weight'] == 0) | (df['weight'].isnull()), 'weight'] = '__EMPTY__VALUE'"
   ]
  },
  {
   "cell_type": "code",
   "execution_count": 644,
   "id": "8852be3f",
   "metadata": {},
   "outputs": [],
   "source": [
    "df.loc[(df['free_colors'] == 0) | (df['free_colors'].isnull()), 'free_colors'] = '__EMPTY__VALUE'"
   ]
  },
  {
   "cell_type": "code",
   "execution_count": 645,
   "id": "559e3590",
   "metadata": {},
   "outputs": [],
   "source": [
    "df.to_excel('toto5.xlsx')"
   ]
  },
  {
   "cell_type": "markdown",
   "id": "799c956d",
   "metadata": {},
   "source": [
    "# split name"
   ]
  },
  {
   "cell_type": "code",
   "execution_count": 646,
   "id": "a7d6372d",
   "metadata": {},
   "outputs": [],
   "source": [
    "df[['ts_dimensions_width','ts_dimensions_length', 'ts_dimensions_height']] = df['product_size'].str.split(\"×\",expand=True,)"
   ]
  },
  {
   "cell_type": "code",
   "execution_count": 651,
   "id": "18829ecd",
   "metadata": {},
   "outputs": [],
   "source": [
    "df[['toto','hertz']] = df['voltage'].str.split(\"فولت\",expand=True,)"
   ]
  },
  {
   "cell_type": "code",
   "execution_count": 653,
   "id": "71e5cc7c",
   "metadata": {},
   "outputs": [],
   "source": [
    "df['voltage'] = df['toto']"
   ]
  },
  {
   "cell_type": "code",
   "execution_count": 654,
   "id": "b8c8c8d5",
   "metadata": {},
   "outputs": [],
   "source": [
    "df.to_excel('toto.xlsx')"
   ]
  },
  {
   "cell_type": "code",
   "execution_count": 655,
   "id": "a23abcb0",
   "metadata": {},
   "outputs": [],
   "source": [
    "\n",
    "df.loc[(df['ts_dimensions_width'] == 0) | (df['ts_dimensions_width'].isnull()), 'ts_dimensions_width'] = '__EMPTY__VALUE__'\n",
    "df.loc[(df['ts_dimensions_height'] == 0) | (df['ts_dimensions_height'].isnull()), 'ts_dimensions_height'] = '__EMPTY__VALUE__'\n",
    "df.loc[(df['ts_dimensions_length'] == 0) | (df['ts_dimensions_length'].isnull()), 'ts_dimensions_length'] = '__EMPTY__VALUE__'\n",
    "\n"
   ]
  },
  {
   "cell_type": "code",
   "execution_count": 656,
   "id": "5fb33f3d",
   "metadata": {},
   "outputs": [],
   "source": [
    "df['allow_backorders'] = df['is_in_stock']\n",
    "df['estimated_delivery_enable'] = 'Static, Text'"
   ]
  },
  {
   "cell_type": "code",
   "execution_count": 657,
   "id": "3991cdec",
   "metadata": {},
   "outputs": [],
   "source": [
    "df['small_image'] =  df['base_image']\n",
    "df['swatch_image'] =  df['base_image']\n",
    "df['thumbnail_image'] =  df['base_image']\n",
    "df['attribute_set_code'] = 'Default'\n",
    "df['product_websites'] = 'base'"
   ]
  },
  {
   "cell_type": "code",
   "execution_count": 658,
   "id": "291a3247",
   "metadata": {},
   "outputs": [
    {
     "data": {
      "text/plain": [
       "0    1,364\n",
       "0    3,449\n",
       "0    4,499\n",
       "0    4,399\n",
       "0    2,699\n",
       "     ...  \n",
       "0      574\n",
       "0    1,021\n",
       "0      963\n",
       "0    2,299\n",
       "0    2,442\n",
       "Name: price, Length: 71, dtype: object"
      ]
     },
     "execution_count": 658,
     "metadata": {},
     "output_type": "execute_result"
    }
   ],
   "source": [
    "df['price'] "
   ]
  },
  {
   "cell_type": "code",
   "execution_count": 659,
   "id": "2ceacf9c",
   "metadata": {},
   "outputs": [],
   "source": [
    "def toto_clean(name):\n",
    "    df[name] = df[name].str.replace('•', '-')\n",
    "    df[name] = df[name].str.replace(':', '-')\n",
    "    df[name] = df[name].str.replace('/', '-')\n",
    "    df[name] = df[name].str.replace('\"', '-')\n",
    "    df[name] = df[name].str.replace('%', '-')\n",
    "    df[name] = df[name].str.replace('&', '-')\n",
    "    df[name] = df[name].str.replace('?', '-', regex=False)\n",
    "    df[name] = df[name].str.replace('(', '-', regex=False)\n",
    "    df[name] = df[name].str.replace(')', '-', regex=False)\n",
    "    df[name] = df[name].str.replace('{', '-', regex=False)\n",
    "    df[name] = df[name].str.replace('}', '-', regex=False)\n",
    "    df[name] = df[name].str.replace(\"'\", '-', regex=False)\n",
    "    df[name] = df[name].str.replace('*', 'X', regex=False)\n",
    "    df[name] = df[name].str.replace('#', '-')\n",
    "    df[name] = df[name].str.replace('”', '-')\n",
    "    df[name] = df[name].str.replace('!', '-')\n",
    "    df[name] = df[name].str.replace('”', '-')\n",
    "    df[name] = df[name].str.replace('=', '-')\n",
    "    df[name] = df[name].str.replace('+', '-', regex=False)\n",
    "    df[name] = df[name].str.replace('،', '-', regex=False)\n",
    "    df[name] = df[name].str.replace('عرض أقل', '', regex=False)\n",
    "    df[name] = df[name].str.replace('،', '-', regex=False)\n",
    "    \n",
    "def ampty_value(name):\n",
    "    df.loc[df[name].isnull(), name] = '__EMPTY__VALUE__'\n",
    "    \n",
    "    \n",
    "def price_num(name):\n",
    "    try:\n",
    "        df[name] = df[name].str.replace('-', '')\n",
    "        df[name] = df[name].str.replace(',', '')\n",
    "    except:\n",
    "        pass\n",
    "    df.loc[df[name] == '__EMPTY__VALUE__', name] = 0\n",
    "    \n",
    "    df[name] = pd.to_numeric(df[name])\n",
    "    df.loc[df[name] == 0, name] = '__EMPTY__VALUE__'\n",
    "def clean_punct(name):\n",
    "    for c in string.punctuation:\n",
    "        df[name] = df[name].str.replace(c, '-', regex=False)"
   ]
  },
  {
   "cell_type": "code",
   "execution_count": 660,
   "id": "6308ec78",
   "metadata": {},
   "outputs": [],
   "source": [
    "def parse_name(text):\n",
    "    new_text = []\n",
    "    for i, t in enumerate(text):\n",
    "        if i == 0:\n",
    "            new_text.append(t.title())\n",
    "        else:\n",
    "            new_text.append(t.lower())\n",
    "    return ''.join(new_text)"
   ]
  },
  {
   "cell_type": "code",
   "execution_count": 661,
   "id": "c0eed67c",
   "metadata": {},
   "outputs": [],
   "source": [
    "toto_clean('name')"
   ]
  },
  {
   "cell_type": "code",
   "execution_count": 662,
   "id": "7a9d8412",
   "metadata": {},
   "outputs": [],
   "source": [
    "toto_clean('description')"
   ]
  },
  {
   "cell_type": "code",
   "execution_count": 663,
   "id": "80ca98cf",
   "metadata": {},
   "outputs": [],
   "source": [
    "df['short_description'] = df['description']"
   ]
  },
  {
   "cell_type": "code",
   "execution_count": 664,
   "id": "53f9b991",
   "metadata": {},
   "outputs": [],
   "source": [
    "df.loc[df['short_description'].isnull(), 'short_description'] = df['description']"
   ]
  },
  {
   "cell_type": "code",
   "execution_count": 112,
   "id": "15550f0d",
   "metadata": {},
   "outputs": [
    {
     "name": "stderr",
     "output_type": "stream",
     "text": [
      "<ipython-input-112-934e9ae663de>:1: SettingWithCopyWarning: \n",
      "A value is trying to be set on a copy of a slice from a DataFrame.\n",
      "Try using .loc[row_indexer,col_indexer] = value instead\n",
      "\n",
      "See the caveats in the documentation: https://pandas.pydata.org/pandas-docs/stable/user_guide/indexing.html#returning-a-view-versus-a-copy\n",
      "  df['price'] = df['price'].str.replace(',', '')\n",
      "<ipython-input-112-934e9ae663de>:2: SettingWithCopyWarning: \n",
      "A value is trying to be set on a copy of a slice from a DataFrame.\n",
      "Try using .loc[row_indexer,col_indexer] = value instead\n",
      "\n",
      "See the caveats in the documentation: https://pandas.pydata.org/pandas-docs/stable/user_guide/indexing.html#returning-a-view-versus-a-copy\n",
      "  df['special_price'] = df['special_price'].str.replace(',', '')\n"
     ]
    }
   ],
   "source": [
    "df['price'] = df['price'].str.replace(',', '')\n",
    "df['special_price'] = df['special_price'].str.replace(',', '')"
   ]
  },
  {
   "cell_type": "code",
   "execution_count": 666,
   "id": "9baa0d22",
   "metadata": {},
   "outputs": [],
   "source": [
    "df['price'] = pd.to_numeric(df['price'])\n",
    "df['special_price'] = pd.to_numeric(df['special_price'])"
   ]
  },
  {
   "cell_type": "code",
   "execution_count": 667,
   "id": "6d7a6463",
   "metadata": {},
   "outputs": [],
   "source": [
    "# check if df price is correct si ils ne sont pas changer"
   ]
  },
  {
   "cell_type": "code",
   "execution_count": 113,
   "id": "a51907f2",
   "metadata": {},
   "outputs": [
    {
     "name": "stderr",
     "output_type": "stream",
     "text": [
      "<ipython-input-113-536ba60cc8d5>:1: SettingWithCopyWarning: \n",
      "A value is trying to be set on a copy of a slice from a DataFrame.\n",
      "Try using .loc[row_indexer,col_indexer] = value instead\n",
      "\n",
      "See the caveats in the documentation: https://pandas.pydata.org/pandas-docs/stable/user_guide/indexing.html#returning-a-view-versus-a-copy\n",
      "  df['cost'] = df['price']\n"
     ]
    }
   ],
   "source": [
    "df['cost'] = df['price']"
   ]
  },
  {
   "cell_type": "code",
   "execution_count": 669,
   "id": "8d521372",
   "metadata": {},
   "outputs": [],
   "source": [
    "df['price'] = df['price'] * 1.05"
   ]
  },
  {
   "cell_type": "code",
   "execution_count": 83,
   "id": "a6e40ce8",
   "metadata": {},
   "outputs": [],
   "source": [
    "df['special_price'] = ''"
   ]
  },
  {
   "cell_type": "code",
   "execution_count": 82,
   "id": "f2899e3a",
   "metadata": {},
   "outputs": [],
   "source": [
    "df['supplier'] = 'INS'"
   ]
  },
  {
   "cell_type": "code",
   "execution_count": 121,
   "id": "65ea282e",
   "metadata": {},
   "outputs": [],
   "source": [
    "df.to_excel('toto1.xlsx')"
   ]
  },
  {
   "cell_type": "code",
   "execution_count": 85,
   "id": "5ea55708",
   "metadata": {},
   "outputs": [],
   "source": []
  },
  {
   "cell_type": "code",
   "execution_count": 84,
   "id": "84cb34af",
   "metadata": {},
   "outputs": [],
   "source": [
    "df['sku'] = 'INS-' + df['sku']"
   ]
  },
  {
   "cell_type": "code",
   "execution_count": 86,
   "id": "3f7a4306",
   "metadata": {},
   "outputs": [],
   "source": [
    "df['url_key'] = df['sku'] + '-' + df['name']"
   ]
  },
  {
   "cell_type": "markdown",
   "id": "ce0906dd",
   "metadata": {},
   "source": [
    "# ADD cats"
   ]
  },
  {
   "cell_type": "code",
   "execution_count": 673,
   "id": "505bdf20",
   "metadata": {},
   "outputs": [],
   "source": [
    "cats = pd.read_excel('/home/wafistos/Documents/Projects/scaping_wafi/tamkeenstores/categories/Cats_tam_keenstores.xlsx')"
   ]
  },
  {
   "cell_type": "code",
   "execution_count": null,
   "id": "a3c5e134",
   "metadata": {},
   "outputs": [],
   "source": []
  },
  {
   "cell_type": "code",
   "execution_count": 674,
   "id": "e9eb60dd",
   "metadata": {},
   "outputs": [],
   "source": [
    "list_cats = []\n",
    "for index, row in cats.iterrows():\n",
    "    list_cats.append([ row['cat'], row['id']])"
   ]
  },
  {
   "cell_type": "code",
   "execution_count": 675,
   "id": "ae838e09",
   "metadata": {},
   "outputs": [],
   "source": [
    "for ll in list_cats:\n",
    "    df.loc[df['categories3']== ll[0], 'categories'] = ll[1]"
   ]
  },
  {
   "cell_type": "code",
   "execution_count": 676,
   "id": "e9815160",
   "metadata": {},
   "outputs": [
    {
     "data": {
      "text/html": [
       "<div>\n",
       "<style scoped>\n",
       "    .dataframe tbody tr th:only-of-type {\n",
       "        vertical-align: middle;\n",
       "    }\n",
       "\n",
       "    .dataframe tbody tr th {\n",
       "        vertical-align: top;\n",
       "    }\n",
       "\n",
       "    .dataframe thead th {\n",
       "        text-align: right;\n",
       "    }\n",
       "</style>\n",
       "<table border=\"1\" class=\"dataframe\">\n",
       "  <thead>\n",
       "    <tr style=\"text-align: right;\">\n",
       "      <th></th>\n",
       "      <th>sku</th>\n",
       "      <th>store_view_code</th>\n",
       "      <th>attribute_set_code</th>\n",
       "      <th>product_websites</th>\n",
       "      <th>product_type</th>\n",
       "      <th>name</th>\n",
       "      <th>description</th>\n",
       "      <th>short_description</th>\n",
       "      <th>url_key</th>\n",
       "      <th>link_url</th>\n",
       "      <th>...</th>\n",
       "      <th>news_from_date</th>\n",
       "      <th>news_to_date</th>\n",
       "      <th>estimated_delivery_enable</th>\n",
       "      <th>estimated_delivery_text</th>\n",
       "      <th>supplier</th>\n",
       "      <th>ts_dimensions_width</th>\n",
       "      <th>ts_dimensions_length</th>\n",
       "      <th>ts_dimensions_height</th>\n",
       "      <th>hertz</th>\n",
       "      <th>toto</th>\n",
       "    </tr>\n",
       "  </thead>\n",
       "  <tbody>\n",
       "  </tbody>\n",
       "</table>\n",
       "<p>0 rows × 49 columns</p>\n",
       "</div>"
      ],
      "text/plain": [
       "Empty DataFrame\n",
       "Columns: [sku, store_view_code, attribute_set_code, product_websites, product_type, name, description, short_description, url_key, link_url, cost, price, special_price, categories1, categories2, categories3, categories, free_colors, raw_materials, weight, mgs_brand, product_size, refrigerator_height, compressor_type, type_, voltage, base_image, small_image, swatch_image, thumbnail_image, additional_images, is_in_stock, product_online, qty, out_of_stock_qty, allow_backorders, visibility, tax_class_name, manufacturer, news_from_date, news_to_date, estimated_delivery_enable, estimated_delivery_text, supplier, ts_dimensions_width, ts_dimensions_length, ts_dimensions_height, hertz, toto]\n",
       "Index: []\n",
       "\n",
       "[0 rows x 49 columns]"
      ]
     },
     "execution_count": 676,
     "metadata": {},
     "output_type": "execute_result"
    }
   ],
   "source": [
    "df.loc[df['categories'].isnull()]"
   ]
  },
  {
   "cell_type": "code",
   "execution_count": 677,
   "id": "acd7e039",
   "metadata": {},
   "outputs": [
    {
     "data": {
      "text/html": [
       "<div>\n",
       "<style scoped>\n",
       "    .dataframe tbody tr th:only-of-type {\n",
       "        vertical-align: middle;\n",
       "    }\n",
       "\n",
       "    .dataframe tbody tr th {\n",
       "        vertical-align: top;\n",
       "    }\n",
       "\n",
       "    .dataframe thead th {\n",
       "        text-align: right;\n",
       "    }\n",
       "</style>\n",
       "<table border=\"1\" class=\"dataframe\">\n",
       "  <thead>\n",
       "    <tr style=\"text-align: right;\">\n",
       "      <th></th>\n",
       "      <th>sku</th>\n",
       "      <th>store_view_code</th>\n",
       "      <th>attribute_set_code</th>\n",
       "      <th>product_websites</th>\n",
       "      <th>product_type</th>\n",
       "      <th>name</th>\n",
       "      <th>description</th>\n",
       "      <th>short_description</th>\n",
       "      <th>url_key</th>\n",
       "      <th>link_url</th>\n",
       "      <th>...</th>\n",
       "      <th>news_from_date</th>\n",
       "      <th>news_to_date</th>\n",
       "      <th>estimated_delivery_enable</th>\n",
       "      <th>estimated_delivery_text</th>\n",
       "      <th>supplier</th>\n",
       "      <th>ts_dimensions_width</th>\n",
       "      <th>ts_dimensions_length</th>\n",
       "      <th>ts_dimensions_height</th>\n",
       "      <th>hertz</th>\n",
       "      <th>toto</th>\n",
       "    </tr>\n",
       "  </thead>\n",
       "  <tbody>\n",
       "  </tbody>\n",
       "</table>\n",
       "<p>0 rows × 49 columns</p>\n",
       "</div>"
      ],
      "text/plain": [
       "Empty DataFrame\n",
       "Columns: [sku, store_view_code, attribute_set_code, product_websites, product_type, name, description, short_description, url_key, link_url, cost, price, special_price, categories1, categories2, categories3, categories, free_colors, raw_materials, weight, mgs_brand, product_size, refrigerator_height, compressor_type, type_, voltage, base_image, small_image, swatch_image, thumbnail_image, additional_images, is_in_stock, product_online, qty, out_of_stock_qty, allow_backorders, visibility, tax_class_name, manufacturer, news_from_date, news_to_date, estimated_delivery_enable, estimated_delivery_text, supplier, ts_dimensions_width, ts_dimensions_length, ts_dimensions_height, hertz, toto]\n",
       "Index: []\n",
       "\n",
       "[0 rows x 49 columns]"
      ]
     },
     "execution_count": 677,
     "metadata": {},
     "output_type": "execute_result"
    }
   ],
   "source": [
    "df.loc[df['description'].isnull()]"
   ]
  },
  {
   "cell_type": "code",
   "execution_count": 678,
   "id": "a3047b9f",
   "metadata": {},
   "outputs": [],
   "source": [
    "df.drop(df[df['description'].isnull()].index, inplace=True)"
   ]
  },
  {
   "cell_type": "code",
   "execution_count": 679,
   "id": "5d634dcb",
   "metadata": {},
   "outputs": [],
   "source": [
    "df.drop(df[df['categories'].isnull()].index, inplace=True)"
   ]
  },
  {
   "cell_type": "code",
   "execution_count": 680,
   "id": "85e758f8",
   "metadata": {},
   "outputs": [],
   "source": [
    "df.to_excel('toto4.xlsx')"
   ]
  },
  {
   "cell_type": "markdown",
   "id": "4a7a6444",
   "metadata": {},
   "source": [
    "# ADD brand"
   ]
  },
  {
   "cell_type": "code",
   "execution_count": null,
   "id": "d66565ba",
   "metadata": {},
   "outputs": [],
   "source": []
  },
  {
   "cell_type": "code",
   "execution_count": null,
   "id": "822c97d2",
   "metadata": {},
   "outputs": [],
   "source": []
  },
  {
   "cell_type": "code",
   "execution_count": null,
   "id": "3572e292",
   "metadata": {},
   "outputs": [],
   "source": []
  },
  {
   "cell_type": "code",
   "execution_count": 681,
   "id": "4ee84f3f",
   "metadata": {},
   "outputs": [],
   "source": [
    "cols = pd.read_excel('/home/wafistos/Documents/Projects/scaping_wafi/tamkeenstores/categories/brand_tam_keenstores.xlsx')"
   ]
  },
  {
   "cell_type": "code",
   "execution_count": 682,
   "id": "9218e921",
   "metadata": {},
   "outputs": [],
   "source": [
    "list_cols = []\n",
    "for index, row in cols.iterrows():\n",
    "    list_cols.append([ row['brand'], row['id']])"
   ]
  },
  {
   "cell_type": "code",
   "execution_count": 87,
   "id": "6847f131",
   "metadata": {},
   "outputs": [],
   "source": [
    "df['visibility'] = 'Catalog, Search'"
   ]
  },
  {
   "cell_type": "code",
   "execution_count": 88,
   "id": "d74694da",
   "metadata": {},
   "outputs": [],
   "source": [
    "df['tax_class_name'] = 'Taxable Goods'"
   ]
  },
  {
   "cell_type": "code",
   "execution_count": 89,
   "id": "880450c5",
   "metadata": {},
   "outputs": [],
   "source": [
    "df['product_type'] = 'simple'"
   ]
  },
  {
   "cell_type": "code",
   "execution_count": 90,
   "id": "2a7398e9",
   "metadata": {},
   "outputs": [],
   "source": [
    "two_month = datetime.now() + timedelta(days=60)\n",
    "two_month = two_month.strftime(\"%m/%d/%Y\")\n",
    "today = datetime.today().strftime(\"%m/%d/%Y\")"
   ]
  },
  {
   "cell_type": "code",
   "execution_count": 91,
   "id": "b3b341a0",
   "metadata": {},
   "outputs": [
    {
     "data": {
      "text/plain": [
       "'10/15/2021'"
      ]
     },
     "execution_count": 91,
     "metadata": {},
     "output_type": "execute_result"
    }
   ],
   "source": [
    "today"
   ]
  },
  {
   "cell_type": "code",
   "execution_count": 92,
   "id": "e7dab48e",
   "metadata": {},
   "outputs": [],
   "source": [
    "df['news_from_date'] = today"
   ]
  },
  {
   "cell_type": "code",
   "execution_count": 93,
   "id": "acced657",
   "metadata": {},
   "outputs": [],
   "source": [
    "df['news_to_date'] = two_month"
   ]
  },
  {
   "cell_type": "code",
   "execution_count": 690,
   "id": "917316d7",
   "metadata": {},
   "outputs": [],
   "source": [
    "for col in list_cols:\n",
    "    df.loc[df['mgs_brand'] == col[0], 'mgs_brand'] = col[1]"
   ]
  },
  {
   "cell_type": "code",
   "execution_count": 691,
   "id": "e78a7186",
   "metadata": {},
   "outputs": [],
   "source": [
    "df['out_of_stock_qty'] = df['out_of_stock_qty'].astype(str)"
   ]
  },
  {
   "cell_type": "code",
   "execution_count": 692,
   "id": "97416ac4",
   "metadata": {},
   "outputs": [],
   "source": [
    "df['out_of_stock_qty'] = '-' + df['out_of_stock_qty']"
   ]
  },
  {
   "cell_type": "code",
   "execution_count": 693,
   "id": "b1fcd704",
   "metadata": {},
   "outputs": [],
   "source": [
    "df['qty'] = 0"
   ]
  },
  {
   "cell_type": "code",
   "execution_count": 694,
   "id": "8b2e38b8",
   "metadata": {},
   "outputs": [],
   "source": [
    "df.loc[df['mgs_brand'].isnull(), 'mgs_brand'] = '__EMPTY__VALUE__'"
   ]
  },
  {
   "cell_type": "code",
   "execution_count": 96,
   "id": "557a73ed",
   "metadata": {},
   "outputs": [],
   "source": [
    "df['manufacturer'] = '‫مستوردة‬'"
   ]
  },
  {
   "cell_type": "code",
   "execution_count": null,
   "id": "499136e7",
   "metadata": {},
   "outputs": [],
   "source": []
  },
  {
   "cell_type": "code",
   "execution_count": 97,
   "id": "115983af",
   "metadata": {},
   "outputs": [],
   "source": [
    "df['estimated_delivery_text'] = 'التوصيل خلال 5-6 ايام عمل'"
   ]
  },
  {
   "cell_type": "code",
   "execution_count": 98,
   "id": "95c6e7fa",
   "metadata": {},
   "outputs": [],
   "source": [
    "df['estimated_delivery_enable'] = 'Static Text'"
   ]
  },
  {
   "cell_type": "code",
   "execution_count": 100,
   "id": "acf3ab70",
   "metadata": {},
   "outputs": [],
   "source": [
    "df.to_excel('Insert_update_16_09.xlsx')"
   ]
  },
  {
   "cell_type": "code",
   "execution_count": 99,
   "id": "8cff1413",
   "metadata": {},
   "outputs": [],
   "source": [
    "df['sku number only'] = df['sku'].str.replace('INS-', '')"
   ]
  },
  {
   "cell_type": "code",
   "execution_count": 105,
   "id": "32737cdd",
   "metadata": {},
   "outputs": [],
   "source": [
    "df['product_websites'] = 'base'"
   ]
  },
  {
   "cell_type": "code",
   "execution_count": 106,
   "id": "2de1b061",
   "metadata": {},
   "outputs": [],
   "source": [
    "df['attribute_set_code'] = 'Default'"
   ]
  },
  {
   "cell_type": "code",
   "execution_count": 107,
   "id": "2813d237",
   "metadata": {},
   "outputs": [],
   "source": [
    "df['store_view_code'] = ''"
   ]
  },
  {
   "cell_type": "code",
   "execution_count": 103,
   "id": "0ca7f431",
   "metadata": {},
   "outputs": [],
   "source": [
    "df['categories'] = '56,43054,113'"
   ]
  },
  {
   "cell_type": "code",
   "execution_count": 110,
   "id": "976e2f42",
   "metadata": {},
   "outputs": [
    {
     "name": "stderr",
     "output_type": "stream",
     "text": [
      "/home/wafistos/anaconda3/lib/python3.8/site-packages/pandas/core/indexing.py:1720: SettingWithCopyWarning: \n",
      "A value is trying to be set on a copy of a slice from a DataFrame.\n",
      "Try using .loc[row_indexer,col_indexer] = value instead\n",
      "\n",
      "See the caveats in the documentation: https://pandas.pydata.org/pandas-docs/stable/user_guide/indexing.html#returning-a-view-versus-a-copy\n",
      "  self._setitem_single_column(loc, value, pi)\n"
     ]
    }
   ],
   "source": [
    "list_ampty = [\n",
    "    \n",
    "         'special_price', \n",
    "         'barcode',\n",
    "         'no_of_peices',\n",
    "         'duvit_info',\n",
    "         'bed_sheet1_info',\n",
    "         'pillow_size',\n",
    "         'small_pillow_info',\n",
    "        'fabric_type',\n",
    "         'stuffing_material',\n",
    "    'free_colors'\n",
    "]\n",
    "for toto in list_ampty:\n",
    "    df.loc[(df[toto] == '') | (df[toto].isnull()), toto] = '__EMPTY__VALUE__'"
   ]
  },
  {
   "cell_type": "code",
   "execution_count": 108,
   "id": "089576d8",
   "metadata": {},
   "outputs": [],
   "source": [
    "df = df[[ 'sku number only',\n",
    "        'sku', \n",
    "         'store_view_code',\n",
    "         'attribute_set_code',\n",
    "         'product_websites',\n",
    "         'product_type',\n",
    "         'name',   \n",
    "         'description', \n",
    "         'short_description', \n",
    "         'link_url', \n",
    "         'categories1', \n",
    "         'categories2', \n",
    "         'categories3', \n",
    "         'categories', \n",
    "         'free_colors',\n",
    "         'url_key',\n",
    "         'cost',  \n",
    "         'price',\n",
    "         'special_price', \n",
    "         'barcode',\n",
    "         'no_of_peices',\n",
    "         'duvit_info',\n",
    "         'bed_sheet1_info',\n",
    "         'pillow_size',\n",
    "         'small_pillow_info',\n",
    "        'fabric_type',\n",
    "         'stuffing_material',\n",
    "         'visibility',\n",
    "         \n",
    "         'tax_class_name', \n",
    "         'manufacturer',\n",
    "         'news_from_date', \n",
    "         'news_to_date', \n",
    "         'qty', \n",
    "         'out_of_stock_qty', \n",
    "         'allow_backorders', \n",
    "         'is_in_stock', \n",
    "         'estimated_delivery_enable',\n",
    "         'estimated_delivery_text',\n",
    "         'supplier',   \n",
    "        ]]"
   ]
  },
  {
   "cell_type": "code",
   "execution_count": 3,
   "id": "a1fb5a79",
   "metadata": {},
   "outputs": [],
   "source": [
    "df= pd.read_excel('/home/wafistos/Documents/Projects/scaping_wafi/tamkeenstores/testtoto.xlsx')"
   ]
  },
  {
   "cell_type": "code",
   "execution_count": 114,
   "id": "e26512f7",
   "metadata": {},
   "outputs": [],
   "source": [
    "df.to_excel('Insert_update.xlsx')"
   ]
  },
  {
   "cell_type": "code",
   "execution_count": 12,
   "id": "42384b3e",
   "metadata": {},
   "outputs": [],
   "source": [
    "df.loc[df['manufacturer'].isnull(), 'manufacturer'] = ''"
   ]
  },
  {
   "cell_type": "code",
   "execution_count": 14,
   "id": "5b8cc76d",
   "metadata": {},
   "outputs": [
    {
     "data": {
      "text/html": [
       "<div>\n",
       "<style scoped>\n",
       "    .dataframe tbody tr th:only-of-type {\n",
       "        vertical-align: middle;\n",
       "    }\n",
       "\n",
       "    .dataframe tbody tr th {\n",
       "        vertical-align: top;\n",
       "    }\n",
       "\n",
       "    .dataframe thead th {\n",
       "        text-align: right;\n",
       "    }\n",
       "</style>\n",
       "<table border=\"1\" class=\"dataframe\">\n",
       "  <thead>\n",
       "    <tr style=\"text-align: right;\">\n",
       "      <th></th>\n",
       "      <th>Unnamed: 0</th>\n",
       "      <th>Unnamed: 0.1</th>\n",
       "      <th>sku</th>\n",
       "      <th>store_view_code</th>\n",
       "      <th>attribute_set_code</th>\n",
       "      <th>product_websites</th>\n",
       "      <th>product_type</th>\n",
       "      <th>name</th>\n",
       "      <th>description</th>\n",
       "      <th>short_description</th>\n",
       "      <th>...</th>\n",
       "      <th>out_of_stock_qty</th>\n",
       "      <th>allow_backorders</th>\n",
       "      <th>visibility</th>\n",
       "      <th>tax_class_name</th>\n",
       "      <th>manufacturer</th>\n",
       "      <th>news_from_date</th>\n",
       "      <th>news_to_date</th>\n",
       "      <th>estimated_delivery_enable</th>\n",
       "      <th>estimated_delivery_text</th>\n",
       "      <th>supplier</th>\n",
       "    </tr>\n",
       "  </thead>\n",
       "  <tbody>\n",
       "    <tr>\n",
       "      <th>413</th>\n",
       "      <td>413</td>\n",
       "      <td>0</td>\n",
       "      <td>ZMK1705B</td>\n",
       "      <td>NaN</td>\n",
       "      <td>NaN</td>\n",
       "      <td>NaN</td>\n",
       "      <td>NaN</td>\n",
       "      <td>زيترست غلاية، 1.7لتر ، 1800-2150  وات – أزرق</td>\n",
       "      <td>السعة = (1,7) لتر – القوة (1800 – 2150) وات- ا...</td>\n",
       "      <td>السعة = (1,7) لتر – القوة (1800 – 2150) وات- ا...</td>\n",
       "      <td>...</td>\n",
       "      <td>غير متوفر في المخزون</td>\n",
       "      <td>NaN</td>\n",
       "      <td>NaN</td>\n",
       "      <td>NaN</td>\n",
       "      <td>السعة = (1,7) لتر – القوة (1800 – 2150) وات- ا...</td>\n",
       "      <td>NaN</td>\n",
       "      <td>NaN</td>\n",
       "      <td>NaN</td>\n",
       "      <td>NaN</td>\n",
       "      <td>NaN</td>\n",
       "    </tr>\n",
       "    <tr>\n",
       "      <th>414</th>\n",
       "      <td>414</td>\n",
       "      <td>0</td>\n",
       "      <td>ZMK17SG</td>\n",
       "      <td>NaN</td>\n",
       "      <td>NaN</td>\n",
       "      <td>NaN</td>\n",
       "      <td>NaN</td>\n",
       "      <td>زيترست غلاية ، 1.5لتر ، 1850-2200  وات – ذهبي</td>\n",
       "      <td>السعة = (1,5) لتر- القوة (1850 – 2200) وات- ال...</td>\n",
       "      <td>السعة = (1,5) لتر- القوة (1850 – 2200) وات- ال...</td>\n",
       "      <td>...</td>\n",
       "      <td>غير متوفر في المخزون</td>\n",
       "      <td>NaN</td>\n",
       "      <td>NaN</td>\n",
       "      <td>NaN</td>\n",
       "      <td>السعة = (1,5) لتر- القوة (1850 – 2200) وات- ال...</td>\n",
       "      <td>NaN</td>\n",
       "      <td>NaN</td>\n",
       "      <td>NaN</td>\n",
       "      <td>NaN</td>\n",
       "      <td>NaN</td>\n",
       "    </tr>\n",
       "    <tr>\n",
       "      <th>415</th>\n",
       "      <td>415</td>\n",
       "      <td>0</td>\n",
       "      <td>ZMK1705G</td>\n",
       "      <td>NaN</td>\n",
       "      <td>NaN</td>\n",
       "      <td>NaN</td>\n",
       "      <td>NaN</td>\n",
       "      <td>زيترست غلاية، 1.7لتر ، 1800-2150  وات – أخضر</td>\n",
       "      <td>السعة = (1,7) لتر- القوة (1800 – 2150) وات- ال...</td>\n",
       "      <td>السعة = (1,7) لتر- القوة (1800 – 2150) وات- ال...</td>\n",
       "      <td>...</td>\n",
       "      <td>غير متوفر في المخزون</td>\n",
       "      <td>NaN</td>\n",
       "      <td>NaN</td>\n",
       "      <td>NaN</td>\n",
       "      <td>السعة = (1,7) لتر- القوة (1800 – 2150) وات- ال...</td>\n",
       "      <td>NaN</td>\n",
       "      <td>NaN</td>\n",
       "      <td>NaN</td>\n",
       "      <td>NaN</td>\n",
       "      <td>NaN</td>\n",
       "    </tr>\n",
       "  </tbody>\n",
       "</table>\n",
       "<p>3 rows × 42 columns</p>\n",
       "</div>"
      ],
      "text/plain": [
       "     Unnamed: 0  Unnamed: 0.1       sku  store_view_code  attribute_set_code  \\\n",
       "413         413             0  ZMK1705B              NaN                 NaN   \n",
       "414         414             0   ZMK17SG              NaN                 NaN   \n",
       "415         415             0  ZMK1705G              NaN                 NaN   \n",
       "\n",
       "     product_websites  product_type  \\\n",
       "413               NaN           NaN   \n",
       "414               NaN           NaN   \n",
       "415               NaN           NaN   \n",
       "\n",
       "                                              name  \\\n",
       "413   زيترست غلاية، 1.7لتر ، 1800-2150  وات – أزرق   \n",
       "414  زيترست غلاية ، 1.5لتر ، 1850-2200  وات – ذهبي   \n",
       "415   زيترست غلاية، 1.7لتر ، 1800-2150  وات – أخضر   \n",
       "\n",
       "                                           description  \\\n",
       "413  السعة = (1,7) لتر – القوة (1800 – 2150) وات- ا...   \n",
       "414  السعة = (1,5) لتر- القوة (1850 – 2200) وات- ال...   \n",
       "415  السعة = (1,7) لتر- القوة (1800 – 2150) وات- ال...   \n",
       "\n",
       "                                     short_description  ...  \\\n",
       "413  السعة = (1,7) لتر – القوة (1800 – 2150) وات- ا...  ...   \n",
       "414  السعة = (1,5) لتر- القوة (1850 – 2200) وات- ال...  ...   \n",
       "415  السعة = (1,7) لتر- القوة (1800 – 2150) وات- ال...  ...   \n",
       "\n",
       "         out_of_stock_qty allow_backorders  visibility tax_class_name  \\\n",
       "413  غير متوفر في المخزون              NaN         NaN            NaN   \n",
       "414  غير متوفر في المخزون              NaN         NaN            NaN   \n",
       "415  غير متوفر في المخزون              NaN         NaN            NaN   \n",
       "\n",
       "                                          manufacturer news_from_date  \\\n",
       "413  السعة = (1,7) لتر – القوة (1800 – 2150) وات- ا...            NaN   \n",
       "414  السعة = (1,5) لتر- القوة (1850 – 2200) وات- ال...            NaN   \n",
       "415  السعة = (1,7) لتر- القوة (1800 – 2150) وات- ال...            NaN   \n",
       "\n",
       "    news_to_date estimated_delivery_enable  estimated_delivery_text supplier  \n",
       "413          NaN                       NaN                      NaN      NaN  \n",
       "414          NaN                       NaN                      NaN      NaN  \n",
       "415          NaN                       NaN                      NaN      NaN  \n",
       "\n",
       "[3 rows x 42 columns]"
      ]
     },
     "execution_count": 14,
     "metadata": {},
     "output_type": "execute_result"
    }
   ],
   "source": [
    "df.loc[df['manufacturer'].str.contains('السعة')]"
   ]
  },
  {
   "cell_type": "code",
   "execution_count": 15,
   "id": "de10cd3f",
   "metadata": {},
   "outputs": [],
   "source": [
    "df.drop(df[df['manufacturer'].str.contains('السعة')].index, inplace=True)"
   ]
  },
  {
   "cell_type": "code",
   "execution_count": null,
   "id": "b0f588a7",
   "metadata": {},
   "outputs": [],
   "source": [
    "df.drop(df[df.score < 50].index, inplace=True)"
   ]
  },
  {
   "cell_type": "code",
   "execution_count": 156,
   "id": "d4e96cb3",
   "metadata": {},
   "outputs": [],
   "source": [
    "brands = pd.read_excel('/home/wafistos/Documents/Projects/scaping_wafi/tamkeenstores/categories/brand_tam_keenstores.xlsx')"
   ]
  },
  {
   "cell_type": "code",
   "execution_count": 158,
   "id": "406921db",
   "metadata": {},
   "outputs": [],
   "source": [
    "list_brands = []\n",
    "for index, row in brands.iterrows():\n",
    "    list_brands.append('العلامة التجارية: ' + row['brand'])"
   ]
  },
  {
   "cell_type": "code",
   "execution_count": null,
   "id": "5772a17b",
   "metadata": {},
   "outputs": [],
   "source": [
    "# Dealete brand from description "
   ]
  },
  {
   "cell_type": "code",
   "execution_count": 168,
   "id": "e68da6fd",
   "metadata": {},
   "outputs": [],
   "source": [
    "for tt in list_brands:\n",
    "    \n",
    "    df.loc[ df['description'].str.contains(str(tt)),  'description' ] = df['description'].str.replace(tt, '', regex=False)"
   ]
  },
  {
   "cell_type": "code",
   "execution_count": 181,
   "id": "78473db5",
   "metadata": {},
   "outputs": [],
   "source": [
    "df.to_excel('pap222.xlsx')"
   ]
  },
  {
   "cell_type": "code",
   "execution_count": null,
   "id": "6ad78239",
   "metadata": {},
   "outputs": [],
   "source": []
  },
  {
   "cell_type": "markdown",
   "id": "ef68e3bb",
   "metadata": {},
   "source": [
    "# Fonction bs4"
   ]
  },
  {
   "cell_type": "code",
   "execution_count": 532,
   "id": "9f3fd95f",
   "metadata": {},
   "outputs": [],
   "source": [
    "def scrape_all_categories(pat):\n",
    "    list_urls_categories = []\n",
    "    \n",
    "    print('URL:', pat['url'])\n",
    "    # proxy = '64.124.38.140:8080'\n",
    "#     for tt in PROXY_LIST:\n",
    "#         print('proxy', tt)\n",
    "#         try:\n",
    "#             r = requests.get(pat['url'], proxies={'http': tt, 'https': tt}, timeout=10 )\n",
    "#             if r.status_code == 200:\n",
    "#                 print(r.status_code)\n",
    "#                 break\n",
    "#         except:\n",
    "#             pass\n",
    "        \n",
    "        \n",
    "    r = requests.get(pat['url'])\n",
    "    soup  = BeautifulSoup(r.text, 'html.parser')\n",
    "    \n",
    "    urls = soup.find_all('div', {'class': 'mf-product-thumbnail'})\n",
    "    len(urls)\n",
    "    cat1 = pat['cat1']\n",
    "    cat2 = pat['cat2']\n",
    "    cat3 = pat['cat3']\n",
    "    for url in urls:\n",
    "        list_urls_categories.append({ 'url': url.find('a')['href'],\n",
    "                                        'cat1': cat1,\n",
    "                                        'cat2': cat2,\n",
    "                                        'cat3': cat3,\n",
    "                                    })\n",
    "    return list_urls_categories"
   ]
  },
  {
   "cell_type": "code",
   "execution_count": null,
   "id": "e70407ef",
   "metadata": {},
   "outputs": [],
   "source": []
  },
  {
   "cell_type": "code",
   "execution_count": null,
   "id": "f30d6e2e",
   "metadata": {},
   "outputs": [],
   "source": []
  },
  {
   "cell_type": "code",
   "execution_count": 4,
   "id": "cf43a98d",
   "metadata": {},
   "outputs": [],
   "source": []
  },
  {
   "cell_type": "code",
   "execution_count": 93,
   "id": "95fbd467",
   "metadata": {},
   "outputs": [],
   "source": [
    "\n"
   ]
  },
  {
   "cell_type": "code",
   "execution_count": 13,
   "id": "7da5d700",
   "metadata": {},
   "outputs": [
    {
     "data": {
      "text/plain": [
       "12"
      ]
     },
     "execution_count": 13,
     "metadata": {},
     "output_type": "execute_result"
    }
   ],
   "source": [
    "products = soup.find_all('div', {'class': 'product-element-top'})\n",
    "len(products)"
   ]
  },
  {
   "cell_type": "markdown",
   "id": "810a4f6b",
   "metadata": {},
   "source": [
    "# Scrape products"
   ]
  },
  {
   "cell_type": "code",
   "execution_count": 12,
   "id": "b33d8120",
   "metadata": {},
   "outputs": [],
   "source": [
    "urls_products = [\n",
    "    'https://inrest.com/product/%d9%85%d9%81%d8%b1%d8%b4-%d9%82%d8%b7%d9%86-%d8%b3%d8%a7%d8%aa%d8%a7%d9%86-%d9%85%d9%88%d9%81-%d9%81%d8%a7%d8%aa%d8%ad/',\n",
    "    'https://inrest.com/product/%d8%ba%d8%b7%d8%a7%d8%a1-%d8%b3%d8%b1%d9%8a%d8%b1-%d9%86%d9%81%d8%b1%d9%8a%d9%86-%d8%aa%d8%a7%d9%8a%d9%84%d9%88%d8%b1/',\n",
    "    'https://inrest.com/product/%d8%ba%d8%b7%d8%a7%d8%a1-%d8%b3%d8%b1%d9%8a%d8%b1-%d9%85%d9%81%d8%b1%d8%af-%d9%85%d9%8a%d8%b1%d8%af%d9%8a%d8%a7%d9%86/',\n",
    "    'https://inrest.com/product/%d9%85%d9%81%d8%b1%d8%b4-%d8%a7%d9%86-%d8%b1%d9%8a%d8%b3%d8%aa-%d9%81%d9%86%d8%af%d9%82%d9%8a-%d9%85%d9%81%d8%b1%d8%af-%d8%b1%d8%b5%d8%a7%d8%b5%d9%8a/',\n",
    "    'https://inrest.com/product/%d8%ba%d8%b7%d8%a7%d8%a1-%d8%b3%d8%b1%d9%8a%d8%b1-%d9%86%d9%81%d8%b1%d9%8a%d9%86-%d8%a5%d9%8a%d9%84%d9%88%d8%b3/',\n",
    "    \n",
    "]"
   ]
  },
  {
   "cell_type": "code",
   "execution_count": 58,
   "id": "bc203f27",
   "metadata": {},
   "outputs": [],
   "source": [
    "import urllib3\n",
    "urllib3.disable_warnings(urllib3.exceptions.InsecureRequestWarning)\n",
    "\n",
    "def scrape_product(urls):\n",
    "    \n",
    "    headers = {'User-Agent': 'Mozilla/5.0 (Macintosh; Intel Mac OS X 10_10_1) AppleWebKit/537.36 (KHTML, like Gecko) Chrome/39.0.2171.95 Safari/537.36'}\n",
    "    cookies = {'session': '134-8228575-0334220'}\n",
    "    url = urls\n",
    "    r = requests.get(url, headers=headers, cookies=cookies,  verify=False, timeout=60)\n",
    "\n",
    "    soup  = BeautifulSoup(r.text, 'html.parser')\n",
    "    name = soup.find('h1', {'itemprop': 'name'}).text.strip()\n",
    "    price = soup.find('p', {'class': 'price'}).find('span', {'class': 'woocommerce-Price-amount amount'}).text.replace('ر.س','').strip()\n",
    "    in_stock = soup.find('p', {'class': 'stock in-stock'}).text.replace('متوفر في المخزون', '').strip()\n",
    "    sku = soup.find('span', {'class': 'sku'}).text.strip()\n",
    "    def extract_detail(detail, list_source):\n",
    "    #     print('details', detail)\n",
    "        for tt in list_source:\n",
    "    #         print(tt.text)\n",
    "            if detail in tt:\n",
    "                return tt.replace(detail, '').replace(':', '').strip()\n",
    "    details = soup.find('div', {'class': 'wc-tab-inner'}).text.strip().split('\\n')\n",
    "    description = soup.find('div', {'class': 'wc-tab-inner'}).text.strip()\n",
    "    short_description = soup.find('div', {'class': 'woocommerce-product-details__short-description'}).text.strip()\n",
    "    regex_num = re.compile(r'مكون من (?P<num>\\d*\\.?\\d*) قطع')\n",
    "    no_of_peices = ''\n",
    "    p = regex_num.search(short_description)\n",
    "    if p != None:\n",
    "        no_of_peices = p['num']\n",
    "    \n",
    "    duvit_info = extract_detail('لحاف –', details).replace('سم – قطعة واحدة', '').strip()\n",
    "    bed_sheet1_info = extract_detail('شرشف', details).replace('سم – قطعة واحدة', '').replace('مطاط – ', '').strip()\n",
    "    pillow_size = extract_detail('غطاء مخدة', details).replace('سم – أربعة قطع', '').replace('-', '').replace('–', '').strip()\n",
    "    small_pillow_info = extract_detail('غطاء وسادة', details)\n",
    "    if small_pillow_info != None:\n",
    "        small_pillow_info = small_pillow_info.replace('قطعتين', '').replace('سم', '').replace('–', '')\n",
    "    fabric_type = extract_detail('الغطاء مصنوع من', details)\n",
    "    stuffing_material = extract_detail('مكونات الحشوة', details)\n",
    "    barcode = sku\n",
    "    \n",
    "    cats = soup.find('nav', {'class': 'woocommerce-breadcrumb'}).find_all('a')\n",
    "    cat1 = cats[1].text.strip()\n",
    "    cat2 = cats[2].text.strip()\n",
    "    data = {\n",
    "        'sku': sku,\n",
    "        'name': name,\n",
    "        'link_url': url,\n",
    "        'description': description,\n",
    "        'short_description': short_description,\n",
    "        'is_in_stock': in_stock,\n",
    "        'categories1': cat1,\n",
    "        'categories2': cat2,\n",
    "        'categories3': '',\n",
    "        \n",
    "        'barcode': barcode,\n",
    "        'no_of_peices': no_of_peices,\n",
    "        'duvit_info': duvit_info,\n",
    "        'bed_sheet1_info': bed_sheet1_info,\n",
    "        'pillow_size': pillow_size,\n",
    "        'small_pillow_info': small_pillow_info,\n",
    "        'fabric_type': fabric_type,\n",
    "        'stuffing_material': stuffing_material,\n",
    "        \n",
    "        'price': price,\n",
    "        \n",
    "    }\n",
    "    return data"
   ]
  },
  {
   "cell_type": "code",
   "execution_count": 62,
   "id": "f20c8c8e",
   "metadata": {
    "scrolled": true
   },
   "outputs": [
    {
     "name": "stdout",
     "output_type": "stream",
     "text": [
      "Count: 0\n",
      "Count: 1\n"
     ]
    }
   ],
   "source": [
    "import urllib3\n",
    "urllib3.disable_warnings(urllib3.exceptions.InsecureRequestWarning)\n",
    "df = pd.read_excel('/home/wafistos/Documents/Projects/scaping_wafi/inrest/categories/inrest_model.xlsx')\n",
    "for i, url in enumerate(list_product[99:]):\n",
    "    print('Count:', i)\n",
    "    \n",
    "    data = scrape_product(url)\n",
    "    df1 = pd.DataFrame([data])\n",
    "    df = pd.concat([df, df1], ignore_index=True)\n",
    "    df.to_excel('Inrest_update2.xlsx')\n",
    "   "
   ]
  },
  {
   "cell_type": "code",
   "execution_count": 14,
   "id": "2c8120c2",
   "metadata": {},
   "outputs": [],
   "source": [
    "import urllib3\n",
    "urllib3.disable_warnings(urllib3.exceptions.InsecureRequestWarning)\n",
    "headers = {'User-Agent': 'Mozilla/5.0 (Macintosh; Intel Mac OS X 10_10_1) AppleWebKit/537.36 (KHTML, like Gecko) Chrome/39.0.2171.95 Safari/537.36'}\n",
    "cookies = {'session': '134-8225175-0355220'}\n",
    "url = 'https://inrest.com/product/%d9%85%d9%81%d8%b1%d8%b4-%d9%85%d9%81%d8%b1%d8%af-%d9%85%d9%88%d8%af%d8%b1%d9%86-%d9%84%d9%86%d8%af%d9%86/'\n",
    "r = requests.get(url, headers=headers, cookies=cookies,  verify=False)\n",
    "\n",
    "soup  = BeautifulSoup(r.text, 'html.parser')"
   ]
  },
  {
   "cell_type": "code",
   "execution_count": 19,
   "id": "43791825",
   "metadata": {},
   "outputs": [
    {
     "data": {
      "text/plain": [
       "'مفارش مفرد'"
      ]
     },
     "execution_count": 19,
     "metadata": {},
     "output_type": "execute_result"
    }
   ],
   "source": [
    "type_ = soup.find('span', {'class': 'posted_in'}).find_all('a')[-1].text\n",
    "type_"
   ]
  },
  {
   "cell_type": "code",
   "execution_count": null,
   "id": "5a1bef58",
   "metadata": {},
   "outputs": [],
   "source": [
    "duvit_info = 'لحاف – 160*230 سم – قطعة واحدة'"
   ]
  },
  {
   "cell_type": "code",
   "execution_count": null,
   "id": "3d9961fb",
   "metadata": {},
   "outputs": [],
   "source": [
    "regex = re.compile(r'')"
   ]
  },
  {
   "cell_type": "code",
   "execution_count": 22,
   "id": "f17423dd",
   "metadata": {},
   "outputs": [
    {
     "data": {
      "text/plain": [
       "['',\n",
       " '',\n",
       " 'مفرش مفرد مودرن لندن',\n",
       " 'طقم لحاف فاخر مفرد ( لندن ) مكون من 3 قطع, وهي :',\n",
       " 'لحاف – 160*230 سم – قطعة واحدة',\n",
       " 'شرشف مطاط – 120*200+25 سم – قطعة واحدة',\n",
       " 'غطاء مخدة – 48*74+4 سم – قطعة واحدة',\n",
       " 'الغطاء مصنوع من : 100% مايكروفايبر – بوليستر معالج',\n",
       " 'مكونات الحشوة : 100% مايكروفايبر – بوليستر معالج',\n",
       " '\\xa0',\n",
       " 'لعناية أفضل بمفرش مفرد مودرن لندن',\n",
       " 'العناية بالمنتج : \\xa0',\n",
       " '– حرصاً منا للحفاظ على جودة المنتج، يجب غسل المنتج بالبخار (Dry Clean) .',\n",
       " '– يمكن غسل بيوت المخدة وشرشف المرتبة بالغسالة العادية .',\n",
       " '– ممنوع استخدام المبيضات .',\n",
       " '',\n",
       " '']"
      ]
     },
     "execution_count": 22,
     "metadata": {},
     "output_type": "execute_result"
    }
   ],
   "source": [
    "papa = soup.find('div', {'class': 'wc-tab-inner'}).text.split('\\n')\n",
    "papa"
   ]
  },
  {
   "cell_type": "code",
   "execution_count": 31,
   "id": "c783e144",
   "metadata": {},
   "outputs": [
    {
     "name": "stdout",
     "output_type": "stream",
     "text": [
      "3\n"
     ]
    }
   ],
   "source": [
    "short_description = soup.find('div', {'class': 'woocommerce-product-details__short-description'}).text.strip()\n",
    "regex_num = re.compile(r'مكون من (?P<num>\\d*\\.?\\d*) قطع')\n",
    "no_of_peices = ''\n",
    "p = regex_num.search(short_description)\n",
    "if p != None:\n",
    "    no_of_peices = p['num']\n",
    "print(no_of_peices)"
   ]
  },
  {
   "cell_type": "code",
   "execution_count": 25,
   "id": "0d8fdf85",
   "metadata": {},
   "outputs": [],
   "source": []
  },
  {
   "cell_type": "code",
   "execution_count": 30,
   "id": "210ea5c9",
   "metadata": {},
   "outputs": [
    {
     "name": "stdout",
     "output_type": "stream",
     "text": [
      "3\n"
     ]
    }
   ],
   "source": [
    "\n",
    "print(p['num'])"
   ]
  },
  {
   "cell_type": "code",
   "execution_count": null,
   "id": "74f402a1",
   "metadata": {},
   "outputs": [],
   "source": []
  },
  {
   "cell_type": "code",
   "execution_count": 20,
   "id": "7dde2057",
   "metadata": {},
   "outputs": [],
   "source": [
    "bed_sheet1_info = 'شرشف مطاط – 120*200+25 سم – قطعة واحدة'"
   ]
  },
  {
   "cell_type": "code",
   "execution_count": null,
   "id": "9d24650f",
   "metadata": {},
   "outputs": [],
   "source": [
    "pillow_size = 'غطاء مخدة – 48*74+4 سم – قطعة واحدة'"
   ]
  },
  {
   "cell_type": "code",
   "execution_count": null,
   "id": "5796b07c",
   "metadata": {},
   "outputs": [],
   "source": [
    "small_pillow_info = ''"
   ]
  },
  {
   "cell_type": "code",
   "execution_count": null,
   "id": "12d35c31",
   "metadata": {},
   "outputs": [],
   "source": [
    "fabric_type = 'الغطاء مصنوع من : 100% مايكروفايبر – بوليستر معالج'"
   ]
  },
  {
   "cell_type": "code",
   "execution_count": null,
   "id": "04a5a4c5",
   "metadata": {},
   "outputs": [],
   "source": [
    "stuffing_material = 'مكونات الحشوة : 100% مايكروفايبر – بوليستر معالج'"
   ]
  },
  {
   "cell_type": "code",
   "execution_count": null,
   "id": "85cd0e12",
   "metadata": {},
   "outputs": [],
   "source": []
  },
  {
   "cell_type": "code",
   "execution_count": null,
   "id": "d7366c89",
   "metadata": {},
   "outputs": [],
   "source": []
  },
  {
   "cell_type": "code",
   "execution_count": 30,
   "id": "285f1cc9",
   "metadata": {},
   "outputs": [
    {
     "data": {
      "text/plain": [
       "'989.00'"
      ]
     },
     "execution_count": 30,
     "metadata": {},
     "output_type": "execute_result"
    }
   ],
   "source": [
    "price = soup.find('p', {'class': 'price'}).find('span', {'class': 'woocommerce-Price-amount amount'}).text.replace('ر.س','').strip()\n",
    "price"
   ]
  },
  {
   "cell_type": "code",
   "execution_count": 47,
   "id": "28fcc704",
   "metadata": {},
   "outputs": [
    {
     "data": {
      "text/plain": [
       "'14'"
      ]
     },
     "execution_count": 47,
     "metadata": {},
     "output_type": "execute_result"
    }
   ],
   "source": [
    "in_stock = soup.find('p', {'class': 'stock in-stock'}).text.replace('متوفر في المخزون', '').strip()\n",
    "in_stock"
   ]
  },
  {
   "cell_type": "code",
   "execution_count": 33,
   "id": "913bd11f",
   "metadata": {},
   "outputs": [
    {
     "data": {
      "text/plain": [
       "'AK-HL01-6PCBG'"
      ]
     },
     "execution_count": 33,
     "metadata": {},
     "output_type": "execute_result"
    }
   ],
   "source": [
    "sku = soup.find('span', {'class': 'sku'}).text.strip()\n",
    "sku"
   ]
  },
  {
   "cell_type": "code",
   "execution_count": 94,
   "id": "111996ad",
   "metadata": {},
   "outputs": [],
   "source": [
    "def extract_detail(detail, list_source):\n",
    "#     print('details', detail)\n",
    "    for tt in list_source:\n",
    "#         print(tt.text)\n",
    "        if detail in tt:\n",
    "            return tt.replace(detail, '').replace(':', '').strip()\n",
    "details = soup.find('div', {'class': 'wc-tab-inner'}).text.strip().split('\\n')\n",
    "description = soup.find('div', {'class': 'wc-tab-inner'}).text.strip()"
   ]
  },
  {
   "cell_type": "code",
   "execution_count": 103,
   "id": "332e36c2",
   "metadata": {},
   "outputs": [],
   "source": [
    "raw_materials = extract_detail('الغطاء مصنوع من :', details)\n",
    "\n"
   ]
  },
  {
   "cell_type": "code",
   "execution_count": 114,
   "id": "092407a3",
   "metadata": {},
   "outputs": [
    {
     "data": {
      "text/plain": [
       "['غطاء سرير مفرد أوثيلو',\n",
       " 'غطاء سرير خفيف مضغوط مناسب لأجواء الصيف',\n",
       " 'طقم غطاء سرير مفرد أوثيلو ( صيفي ) فاخر مكون من 3 قطع',\n",
       " 'لحاف – 160*210 سم – قطعة واحدة',\n",
       " 'شرشف مطاط – 120*200+25 سم – قطعة واحدة',\n",
       " 'غطاء مخدة – 50*75+5 سم – قطعة واحدة',\n",
       " 'الغطاء مصنوع من : 100% مايكروفايبر – بوليستر معالج',\n",
       " 'مكونات الحشوة : 100% مايكروفايبر – بوليستر معالج',\n",
       " 'العناية بالمنتج : \\xa0',\n",
       " '– امكانية الغسيل بالغسالة المنزلية',\n",
       " '– استخدام التجفيف بالهواء الساخن مع درجة الحرارة العادية.',\n",
       " '– عندي كي المفرش ، درجة الحرارة المستخدمة كحد اقصى درجة حرارة 30 درجة مئوية.']"
      ]
     },
     "execution_count": 114,
     "metadata": {},
     "output_type": "execute_result"
    }
   ],
   "source": [
    "details"
   ]
  },
  {
   "cell_type": "code",
   "execution_count": 97,
   "id": "17565a77",
   "metadata": {},
   "outputs": [
    {
     "data": {
      "text/plain": [
       "'100% مايكروفايبر – بوليستر معالج'"
      ]
     },
     "execution_count": 97,
     "metadata": {},
     "output_type": "execute_result"
    }
   ],
   "source": [
    "raw_materials = extract_detail('الغطاء مصنوع من :', details)\n",
    "raw_materials"
   ]
  },
  {
   "cell_type": "code",
   "execution_count": 98,
   "id": "d30411fd",
   "metadata": {},
   "outputs": [],
   "source": []
  },
  {
   "cell_type": "code",
   "execution_count": 101,
   "id": "92b911c6",
   "metadata": {},
   "outputs": [],
   "source": [
    "try:\n",
    "    garantee = details[retrun_ele_next('الضمان : ', details)].replace('.', '')\n",
    "    garantee\n",
    "except:\n",
    "    garantee = ''"
   ]
  },
  {
   "cell_type": "code",
   "execution_count": 102,
   "id": "e464df53",
   "metadata": {},
   "outputs": [],
   "source": [
    "toto = retrun_ele_next('الضمان : ', details)\n",
    "toto"
   ]
  },
  {
   "cell_type": "code",
   "execution_count": 121,
   "id": "b417715c",
   "metadata": {},
   "outputs": [
    {
     "data": {
      "text/plain": [
       "[<a class=\"breadcrumb-link\" href=\"https://inrest.com\">الرئيسية</a>,\n",
       " <a class=\"breadcrumb-link\" href=\"https://inrest.com/product-category/31/\">المفارش</a>,\n",
       " <a class=\"breadcrumb-link breadcrumb-link-last\" href=\"https://inrest.com/product-category/31/26/\">غطاء سرير</a>]"
      ]
     },
     "execution_count": 121,
     "metadata": {},
     "output_type": "execute_result"
    }
   ],
   "source": [
    "cats = soup.find('nav', {'class': 'woocommerce-breadcrumb'}).find_all('a')\n",
    "cat1 =cats[1].text.strip()\n",
    "cats"
   ]
  },
  {
   "cell_type": "code",
   "execution_count": 123,
   "id": "1dc3c556",
   "metadata": {},
   "outputs": [
    {
     "data": {
      "text/plain": [
       "'غطاء سرير'"
      ]
     },
     "execution_count": 123,
     "metadata": {},
     "output_type": "execute_result"
    }
   ],
   "source": [
    "cat1 =cats[1].text.strip()\n",
    "cat1"
   ]
  },
  {
   "cell_type": "code",
   "execution_count": null,
   "id": "f5bfe2e9",
   "metadata": {},
   "outputs": [],
   "source": []
  },
  {
   "cell_type": "code",
   "execution_count": null,
   "id": "ed5debce",
   "metadata": {},
   "outputs": [],
   "source": []
  },
  {
   "cell_type": "code",
   "execution_count": null,
   "id": "5dea8834",
   "metadata": {},
   "outputs": [],
   "source": []
  },
  {
   "cell_type": "code",
   "execution_count": null,
   "id": "06c50b66",
   "metadata": {},
   "outputs": [],
   "source": []
  },
  {
   "cell_type": "code",
   "execution_count": null,
   "id": "5f259918",
   "metadata": {},
   "outputs": [],
   "source": []
  },
  {
   "cell_type": "code",
   "execution_count": null,
   "id": "be8b8e55",
   "metadata": {},
   "outputs": [],
   "source": []
  }
 ],
 "metadata": {
  "celltoolbar": "Raw Cell Format",
  "kernelspec": {
   "display_name": "Python 3",
   "language": "python",
   "name": "python3"
  },
  "language_info": {
   "codemirror_mode": {
    "name": "ipython",
    "version": 3
   },
   "file_extension": ".py",
   "mimetype": "text/x-python",
   "name": "python",
   "nbconvert_exporter": "python",
   "pygments_lexer": "ipython3",
   "version": "3.8.8"
  },
  "toc": {
   "base_numbering": 1,
   "nav_menu": {},
   "number_sections": true,
   "sideBar": true,
   "skip_h1_title": false,
   "title_cell": "Table of Contents",
   "title_sidebar": "Contents",
   "toc_cell": false,
   "toc_position": {
    "height": "calc(100% - 180px)",
    "left": "10px",
    "top": "150px",
    "width": "352px"
   },
   "toc_section_display": true,
   "toc_window_display": true
  }
 },
 "nbformat": 4,
 "nbformat_minor": 5
}
