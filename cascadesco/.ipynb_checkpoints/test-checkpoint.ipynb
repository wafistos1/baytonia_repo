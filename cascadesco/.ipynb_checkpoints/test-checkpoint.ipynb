{
 "cells": [
  {
   "cell_type": "code",
   "execution_count": 1,
   "metadata": {},
   "outputs": [],
   "source": [
    "from bs4 import BeautifulSoup\n",
    "import requests\n",
    "import time\n",
    "import pandas as pd\n",
    "from selenium import webdriver\n",
    "from selenium.webdriver.common.keys import Keys\n",
    "from selenium.webdriver.support import expected_conditions as EC\n",
    "from selenium.webdriver.common.by import By\n",
    "from selenium.webdriver.support.wait import WebDriverWait\n",
    "from selenium.webdriver.firefox.options import Options\n",
    "import time\n",
    "import re\n",
    "from fake_useragent import UserAgent\n",
    "from bs4 import BeautifulSoup"
   ]
  },
  {
   "cell_type": "code",
   "execution_count": 38,
   "metadata": {},
   "outputs": [],
   "source": [
    "url = 'https://cascadesco.com/collections/mother-of-pearl/products/m-o-p-set-of-3-stands-with-acrylic-9'"
   ]
  },
  {
   "cell_type": "code",
   "execution_count": 39,
   "metadata": {},
   "outputs": [],
   "source": [
    "headers = {'User-Agent': 'Mozilla/5.0 (Macintosh; Intel Mac OS X 10_10_1) AppleWebKit/537.36 (KHTML, like Gecko) Chrome/39.0.2171.95 Safari/537.36'}\n",
    "cookies = {'session': '134-8225175-0355220'}\n",
    "r = requests.get(url, headers=headers, cookies=cookies)\n",
    "soup = BeautifulSoup(r.content, \"html.parser\")\n",
    "\n",
    "# products = soup.find('div', {'class': 'new-grid product-grid collection-grid'}).find_all('a', {'class': 'grid-item__link'})\n",
    "\n",
    "# liens = [toto['href'] for toto in products]\n",
    "# print('Len products', len(liens))\n",
    "# cats = soup.find('section', {'class': 'breadcrumb'}).find_all('span')\n",
    "# cat1 = cats[1].text.strip()\n",
    "# list_products = [product['href'] for product in products]"
   ]
  },
  {
   "cell_type": "code",
   "execution_count": 46,
   "metadata": {},
   "outputs": [
    {
     "data": {
      "text/plain": [
       "['black',\n",
       " 'pink',\n",
       " 'white',\n",
       " 'grey',\n",
       " 'green',\n",
       " 'off white',\n",
       " 'black.',\n",
       " 'dark grey',\n",
       " 'light grey',\n",
       " '.black']"
      ]
     },
     "execution_count": 46,
     "metadata": {},
     "output_type": "execute_result"
    }
   ],
   "source": [
    "colors = soup.find('fieldset', {'name': 'Color'}).find_all('input')\n",
    "len(colors)\n",
    "list_colors = [color['value'] for color in colors]\n",
    "list_colors"
   ]
  },
  {
   "cell_type": "code",
   "execution_count": null,
   "metadata": {},
   "outputs": [],
   "source": []
  },
  {
   "cell_type": "code",
   "execution_count": null,
   "metadata": {},
   "outputs": [],
   "source": []
  },
  {
   "cell_type": "code",
   "execution_count": 32,
   "metadata": {},
   "outputs": [
    {
     "data": {
      "text/plain": [
       "['https//cdn.shopify.com/s/files/1/0606/5576/3651/products/52001701-a_360x.jpg?v=1641105196 360w',\n",
       " 'https //cdn.shopify.com/s/files/1/0606/5576/3651/products/52001701-a_540x.jpg?v=1641105196 540w',\n",
       " 'https //cdn.shopify.com/s/files/1/0606/5576/3651/products/52001701-a_720x.jpg?v=1641105196 720w',\n",
       " 'https //cdn.shopify.com/s/files/1/0606/5576/3651/products/52001701-a_900x.jpg?v=1641105196 900w',\n",
       " 'https //cdn.shopify.com/s/files/1/0606/5576/3651/products/52001701-a_1080x.jpg?v=1641105196 1080w']"
      ]
     },
     "execution_count": 32,
     "metadata": {},
     "output_type": "execute_result"
    }
   ],
   "source": [
    "list_text = text.split(',')\n",
    "list_text1 = []\n",
    "for tt in list_text:\n",
    "    list_text1.append('https' + tt)\n",
    "list_text1"
   ]
  },
  {
   "cell_type": "code",
   "execution_count": 47,
   "metadata": {},
   "outputs": [
    {
     "data": {
      "text/plain": [
       "['https://cdn.shopify.com/s/files/1/0606/5576/3651/products/52001701-a_720x.jpg',\n",
       " 'https://cdn.shopify.com/s/files/1/0606/5576/3651/products/52001701-b_720x.jpg']"
      ]
     },
     "execution_count": 47,
     "metadata": {},
     "output_type": "execute_result"
    }
   ],
   "source": [
    "images = soup.find_all('div', {'class': 'image-wrap'})\n",
    "len(images)\n",
    "list_img = []\n",
    "for img in images:\n",
    "    \n",
    "    list_img.append('https:' + (img.find('img')['data-src'].replace('{width}', '720').split('?')[0]))\n",
    "\n",
    "list_img = list(dict.fromkeys(list_img))\n",
    "list_img"
   ]
  },
  {
   "cell_type": "code",
   "execution_count": null,
   "metadata": {},
   "outputs": [],
   "source": [
    "div.product-block:nth-child(3) > div:nth-child(1)"
   ]
  },
  {
   "cell_type": "code",
   "execution_count": 55,
   "metadata": {},
   "outputs": [
    {
     "data": {
      "text/plain": [
       "'14 سم'"
      ]
     },
     "execution_count": 55,
     "metadata": {},
     "output_type": "execute_result"
    }
   ],
   "source": [
    "descriptions = soup.find_all('div', {'class': 'product-block'})\n",
    "len(descriptions)\n",
    "description = descriptions[3].text.strip()\n",
    "description"
   ]
  },
  {
   "cell_type": "code",
   "execution_count": 47,
   "metadata": {},
   "outputs": [],
   "source": [
    "df = pd.read_excel('/home/wafistos/Documents/Projects/scaping_wafi/cascadesco/Cascadesco.updating.test.xlsx')"
   ]
  },
  {
   "cell_type": "code",
   "execution_count": 50,
   "metadata": {},
   "outputs": [],
   "source": [
    "df1 = df.loc[df['list_colors'] != '']\n",
    "urls = df1['link_url'].to_list()"
   ]
  },
  {
   "cell_type": "code",
   "execution_count": 170,
   "metadata": {},
   "outputs": [
    {
     "name": "stdout",
     "output_type": "stream",
     "text": [
      "Mozilla/5.0 (X11; Linux x86_64) AppleWebKit/537.36 (KHTML, like Gecko) Chrome/33.0.1750.517 Safari/537.36\n"
     ]
    },
    {
     "name": "stderr",
     "output_type": "stream",
     "text": [
      "<ipython-input-170-5cd918e09ffa>:7: DeprecationWarning: use options instead of firefox_options\n",
      "  driver = webdriver.Firefox(firefox_options=options)\n"
     ]
    }
   ],
   "source": [
    "options = Options()\n",
    "ua = UserAgent()\n",
    "userAgent = ua.random\n",
    "print(userAgent)\n",
    "options.add_argument(f'user-agent={userAgent}')\n",
    "#opti#     driver = webdriver.Firefox()ons.add_argument(\"--headless\")\n",
    "driver = webdriver.Firefox(firefox_options=options)"
   ]
  },
  {
   "cell_type": "code",
   "execution_count": 187,
   "metadata": {},
   "outputs": [],
   "source": [
    "driver.get('https://cascadesco.com/collections/mother-of-pearl/products/m-o-p-set-of-2-stands-6')"
   ]
  },
  {
   "cell_type": "code",
   "execution_count": 188,
   "metadata": {},
   "outputs": [
    {
     "name": "stdout",
     "output_type": "stream",
     "text": [
      "list_imag []\n",
      "len 2\n",
      "https://cdn.shopify.com/s/files/1/0606/5576/3651/products/59002072-59002073-a_1800x1800.jpg?v=1643727777\n",
      "https://cdn.shopify.com/s/files/1/0606/5576/3651/products/59002072-59002073-b_1800x1800.jpg?v=1643727777\n"
     ]
    }
   ],
   "source": [
    "colors = driver.find_elements_by_xpath('//div[@class=\"variant-input\"]')\n",
    "len(colors)\n",
    "list_img = []\n",
    "for color in colors:\n",
    "    print('colors: ', color.get_attribute('data-value'))\n",
    "    color.click()\n",
    "    time.sleep(2)\n",
    "    images = soup.find_all('img', {'class': 'photoswipe__image lazyautosizes lazyloaded'})\n",
    "    text = driver.find_element_by_tag_name('body').get_attribute('innerHTML')\n",
    "    soup = BeautifulSoup(text, 'html.parser')\n",
    "    print('len images', len(images))\n",
    "    \n",
    "    for img in images:\n",
    "\n",
    "        list_img.append('https:' + img['data-photoswipe-src'].split('?')[0])\n",
    "        # list_img.append('https:' + (img.find('img')['data-srcset'].replace('{width}', '720').split('?')[0]))\n",
    "\n",
    "\n",
    "  \n",
    "print('list_imag', list_img)\n",
    "if list_img == []:\n",
    "    text = driver.find_element_by_tag_name('body').get_attribute('innerHTML')\n",
    "    soup = BeautifulSoup(text, 'html.parser')\n",
    "    tootch = soup.find('div', {'class': 'product__thumbs--scroller'}).find_all('div', {'class': 'product__thumb-item'})\n",
    "    print('len',len(tootch))\n",
    "    for t in tootch:\n",
    "        print('https:' + t.find('a')['href'])"
   ]
  },
  {
   "cell_type": "code",
   "execution_count": null,
   "metadata": {},
   "outputs": [],
   "source": []
  },
  {
   "cell_type": "code",
   "execution_count": null,
   "metadata": {},
   "outputs": [],
   "source": []
  },
  {
   "cell_type": "code",
   "execution_count": null,
   "metadata": {},
   "outputs": [],
   "source": []
  },
  {
   "cell_type": "code",
   "execution_count": null,
   "metadata": {},
   "outputs": [],
   "source": []
  },
  {
   "cell_type": "code",
   "execution_count": null,
   "metadata": {},
   "outputs": [],
   "source": []
  },
  {
   "cell_type": "code",
   "execution_count": null,
   "metadata": {},
   "outputs": [],
   "source": []
  },
  {
   "cell_type": "code",
   "execution_count": null,
   "metadata": {},
   "outputs": [],
   "source": []
  },
  {
   "cell_type": "code",
   "execution_count": null,
   "metadata": {},
   "outputs": [],
   "source": []
  },
  {
   "cell_type": "code",
   "execution_count": null,
   "metadata": {},
   "outputs": [],
   "source": []
  },
  {
   "cell_type": "code",
   "execution_count": 168,
   "metadata": {},
   "outputs": [
    {
     "data": {
      "text/plain": [
       "'https://cdn.shopify.com/s/files/1/0606/5576/3651/products/59002017-59002018-59002019-b_1800x1800.jpg'"
      ]
     },
     "execution_count": 168,
     "metadata": {},
     "output_type": "execute_result"
    }
   ],
   "source": [
    "text = driver.find_element_by_tag_name('body').get_attribute('innerHTML')\n",
    "soup = BeautifulSoup(text, 'html.parser')\n",
    "\n",
    "try:\n",
    "    pricipal_img = soup.find('div', {'class': 'product-main-slide secondary-slide is-selected'}).find('img')['data-photoswipe-src']\n",
    "except:\n",
    "    pricipal_img = soup.find('div', {'class': 'product-main-slide secondary-slide'}).find('img')['data-photoswipe-src']\n",
    "    \n",
    "pricipal_img = 'https:' +  pricipal_img.split('?')[0]\n",
    "pricipal_img\n",
    "# toto1 = 'https:' + toto.split('?')[0]\n",
    "# toto1"
   ]
  },
  {
   "cell_type": "code",
   "execution_count": 109,
   "metadata": {},
   "outputs": [
    {
     "name": "stdout",
     "output_type": "stream",
     "text": [
      "len images 22\n"
     ]
    },
    {
     "data": {
      "text/plain": [
       "3"
      ]
     },
     "execution_count": 109,
     "metadata": {},
     "output_type": "execute_result"
    }
   ],
   "source": [
    "def return_image_link(text):\n",
    "    text1 = text.split(' ')\n",
    "    for t in text1:\n",
    "\n",
    "        if 'a_720x' in t:\n",
    "            return t\n"
   ]
  },
  {
   "cell_type": "code",
   "execution_count": 93,
   "metadata": {},
   "outputs": [],
   "source": [
    "\n",
    "\n",
    "    "
   ]
  },
  {
   "cell_type": "code",
   "execution_count": 92,
   "metadata": {},
   "outputs": [
    {
     "name": "stdout",
     "output_type": "stream",
     "text": [
      "*******88\n",
      "\n",
      "*******88\n",
      "\n",
      "*******88\n",
      "\n",
      "*******88\n",
      "\n",
      "*******88\n",
      "\n",
      "//cdn.shopify.com/s/files/1/0606/5576/3651/products/59002017-59002018-59002019-a_720x.jpg?v=1643728654\n",
      "*******88\n",
      "\n",
      "*******88\n",
      "\n",
      "*******88\n",
      "\n",
      "*******88\n",
      "\n",
      "*******88\n",
      "\n"
     ]
    }
   ],
   "source": []
  }
 ],
 "metadata": {
  "interpreter": {
   "hash": "901bbe481fb91f862c10b8e54f95d7da636ff35e7b7d7322c639cfaac06e5987"
  },
  "kernelspec": {
   "display_name": "Python 3 (ipykernel)",
   "language": "python",
   "name": "python3"
  },
  "language_info": {
   "codemirror_mode": {
    "name": "ipython",
    "version": 3
   },
   "file_extension": ".py",
   "mimetype": "text/x-python",
   "name": "python",
   "nbconvert_exporter": "python",
   "pygments_lexer": "ipython3",
   "version": "3.8.8"
  },
  "toc": {
   "base_numbering": 1,
   "nav_menu": {},
   "number_sections": true,
   "sideBar": true,
   "skip_h1_title": false,
   "title_cell": "Table of Contents",
   "title_sidebar": "Contents",
   "toc_cell": false,
   "toc_position": {},
   "toc_section_display": true,
   "toc_window_display": false
  }
 },
 "nbformat": 4,
 "nbformat_minor": 2
}
