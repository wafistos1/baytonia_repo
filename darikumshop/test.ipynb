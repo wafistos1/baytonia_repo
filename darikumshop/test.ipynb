{
    "cells": [
        {
            "cell_type": "code",
            "execution_count": 2,
            "metadata": {},
            "outputs": [],
            "source": [
                "from bs4 import BeautifulSoup\n",
                "from selenium import webdriver\n",
                "from selenium.webdriver.common.keys import Keys\n",
                "from selenium.webdriver.support import expected_conditions as EC\n",
                "from selenium.webdriver.common.by import By\n",
                "from selenium.webdriver.support.wait import WebDriverWait\n",
                "from selenium.webdriver.firefox.options import Options\n",
                "import time\n",
                "import os\n",
                "from fake_useragent import UserAgent\n",
                "from random import randint\n",
                "import pandas as pd\n",
                "import numpy as np\n",
                "import requests\n",
                "import pandas as pd\n",
                "import re"
            ]
        },
        {
            "cell_type": "code",
            "execution_count": 15,
            "metadata": {},
            "outputs": [],
            "source": [
                "url = 'https://darikumshop-fcs.com/category/wDgmn'"
            ]
        },
        {
            "cell_type": "code",
            "execution_count": 10,
            "metadata": {},
            "outputs": [],
            "source": [
                "headers = {'User-Agent': 'Mozilla/5.0 (Macintosh; Intel Mac OS X 10_10_1) AppleWebKit/537.36 (KHTML, like Gecko) Chrome/39.0.2171.95 Safari/537.36'}\n",
                "cookies = {'session': '134-8225175-0355220'}\n",
                "r = requests.get(url, headers=headers, cookies=cookies)\n",
                "soup = BeautifulSoup(r.content, \"html.parser\")"
            ]
        },
        {
            "cell_type": "code",
            "execution_count": 3,
            "metadata": {},
            "outputs": [
                {
                    "name": "stdout",
                    "output_type": "stream",
                    "text": [
                        "Mozilla/5.0 (Windows NT 5.1) AppleWebKit/537.36 (KHTML, like Gecko) Chrome/34.0.1847.116 Safari/537.36 Mozilla/5.0 (iPad; U; CPU OS 3_2 like Mac OS X; en-us) AppleWebKit/531.21.10 (KHTML, like Gecko) Version/4.0.4 Mobile/7B334b Safari/531.21.10\n"
                    ]
                }
            ],
            "source": [
                "options = Options()\n",
                "ua = UserAgent()\n",
                "userAgent = ua.random\n",
                "print(userAgent)\n",
                "options.add_argument(f'user-agent={userAgent}')\n",
                "#opti#     driver = webdriver.Firefox()ons.add_argument(\"--headless\")\n",
                "driver = webdriver.Firefox(firefox_options=options)\n"
            ]
        },
        {
            "cell_type": "code",
            "execution_count": 11,
            "metadata": {},
            "outputs": [
                {
                    "data": {
                        "text/plain": [
                            "0"
                        ]
                    },
                    "execution_count": 11,
                    "metadata": {},
                    "output_type": "execute_result"
                }
            ],
            "source": [
                "products = soup.find_all('div', {'class': 'product'})\n",
                "len(products)"
            ]
        },
        {
            "cell_type": "code",
            "execution_count": 2,
            "metadata": {},
            "outputs": [],
            "source": [
                "list_toto = [\n",
                "    {'cat1': 'مغاسل الديكور', 'cat2': 'كاربون فايبر', 'cat3': '',  'url': 'https://darikumshop-fcs.com/category/DWAQz'}, \n",
                "    {'cat1': 'مغاسل الديكور', 'cat2': 'خشب', 'cat3': '',  'url': 'https://darikumshop-fcs.com/category/wDgmn'}, \n",
                "    {'cat1': 'مغاسل الديكور', 'cat2': 'pvc', 'cat3': '',  'url': 'https://darikumshop-fcs.com/category/zQWRb'}, \n",
                "    {'cat1': 'مغاسل البورسلان', 'cat2': 'مغاسل بورسلان تعليق', 'cat3': '',  'url': 'https://darikumshop-fcs.com/category/gZlBqN'}, \n",
                "    {'cat1': 'البانيوات', 'cat2': 'بانيو كلاسيك', 'cat3': '',  'url': 'https://darikumshop-fcs.com/category/apxEG'}, \n",
                "    {'cat1': 'البانيوات', 'cat2': 'بانيو فوق البلاط', 'cat3': '',  'url': 'https://darikumshop-fcs.com/category/KVqGa'}, \n",
                "    {'cat1': 'البانيوات', 'cat2': 'بانيو تحت البلاط', 'cat3': '',  'url': 'https://darikumshop-fcs.com/category/RGBrO'}, \n",
                "    {'cat1': 'البانيوات', 'cat2': 'بانيو زاوية فوق البلاط', 'cat3': '',  'url': 'https://darikumshop-fcs.com/category/vWbmx'}, \n",
                "    {'cat1': 'البانيوات', 'cat2': 'قاعدة شاور فوق البلاط', 'cat3': '',  'url': 'https://darikumshop-fcs.com/category/bpEQn'}, \n",
                "    {'cat1': 'البانيوات', 'cat2': 'الإكسسوارات-الملحقات', 'cat3': '',  'url': 'https://darikumshop-fcs.com/category/nvrmV'}, \n",
                "    {'cat1': 'الرخام التفصيل على طبيعته غير', 'cat2': '', 'cat3': '',  'url': 'https://darikumshop-fcs.com/category/mvEVl'}, \n",
                "    {'cat1': 'لكراسي الإفرنجي', 'cat2': 'الكراسي المعلقة', 'cat3': '',  'url': 'https://darikumshop-fcs.com/category/nKgnv'}, \n",
                "    {'cat1': 'أحواض المطبخ', 'cat2': '', 'cat3': '',  'url': 'https://darikumshop-fcs.com/category/NbKZr'}, \n",
                "    {'cat1': 'الخلاطات', 'cat2': 'خلاطات المغاسل', 'cat3': '',  'url': 'https://darikumshop-fcs.com/category/QOznY'}, \n",
                "    {'cat1': 'الخلاطات', 'cat2': 'لاطات الشاور', 'cat3': '',  'url': 'https://darikumshop-fcs.com/category/XxzXO'}, \n",
                "    {'cat1': 'الخلاطات', 'cat2': 'مسطرة دش', 'cat3': '',  'url': 'https://darikumshop-fcs.com/category/AzRPwp'}, \n",
                "    {'cat1': 'الخلاطات', 'cat2': 'خلاطات الشطاف', 'cat3': '',  'url': 'https://darikumshop-fcs.com/category/qbGxA'}, \n",
                "    {'cat1': 'الخلاطات', 'cat2': 'خلاطات المطابخ', 'cat3': '',  'url': 'https://darikumshop-fcs.com/category/qbYgx'}, \n",
                "    {'cat1': 'الخلاطات', 'cat2': 'ملحقات -المخفي', 'cat3': '',  'url': 'https://darikumshop-fcs.com/category/XeeZEd'}, \n",
                "    {'cat1': 'الخلاطات', 'cat2': 'الملحقات -الهرابات', 'cat3': '',  'url': 'https://darikumshop-fcs.com/category/eGAev'}, \n",
                "    {'cat1': 'كبائن الشاور', 'cat2': '', 'cat3': '',  'url': 'https://darikumshop-fcs.com/category/yEnYB'}, \n",
                "    {'cat1': 'الإكسسوارت', 'cat2': 'أطقم الإكسسوارت', 'cat3': '',  'url': 'https://darikumshop-fcs.com/category/YgNeWQ'}, \n",
                "    {'cat1': 'الإكسسوارت', 'cat2': 'هوك تعليق مفرد', 'cat3': '',  'url': 'https://darikumshop-fcs.com/category/PdNQYz'}, \n",
                "    {'cat1': 'الإكسسوارت', 'cat2': 'حمالة مناشف', 'cat3': '',  'url': 'https://darikumshop-fcs.com/category/BrgxBy'}, \n",
                "    {'cat1': 'الإكسسوارت', 'cat2': 'علب الصابون', 'cat3': '',  'url': 'https://darikumshop-fcs.com/category/wWlonN'}, \n",
                "    {'cat1': 'الإكسسوارت', 'cat2': 'رفوف', 'cat3': '',  'url': 'https://darikumshop-fcs.com/category/WlNRZj'}, \n",
                "    {'cat1': 'الإكسسوارت', 'cat2': 'مسكات', 'cat3': '',  'url': 'https://darikumshop-fcs.com/category/qQloKA'}, \n",
                "    {'cat1': 'الإكسسوارت', 'cat2': 'وراقة مناديل مفرد', 'cat3': '',  'url': 'https://darikumshop-fcs.com/category/jZlRxY'}, \n",
                "    {'cat1': 'المراية المضيئة', 'cat2': 'مرايا الاستيل', 'cat3': '',  'url': 'https://darikumshop-fcs.com/category/wxqxW'}, \n",
                "    {'cat1': 'المراية المضيئة', 'cat2': 'مرايا تكبير', 'cat3': '',  'url': 'https://darikumshop-fcs.com/category/DGnOBW'}, \n",
                "\n",
                "]"
            ]
        },
        {
            "cell_type": "code",
            "execution_count": null,
            "metadata": {},
            "outputs": [],
            "source": [
                "df = pd.read_excel('darikumshop_url_models.xlsx')\n",
                "\n",
                "for i, url2 in enumerate(list_toto):\n",
                "    print('Count: ', i)\n",
                "    url = url2['url']\n",
                "    cat1 = url2['cat1']\n",
                "    cat2 = url2['cat2']\n",
                "    cat3 = url2['cat3']\n",
                "    count = 1\n",
                "    list_url = []\n",
                "    while True:\n",
                "        url1 = url + '?page=' + str(count)\n",
                "        headers = {'User-Agent': 'Mozilla/5.0 (Macintosh; Intel Mac OS X 10_10_1) AppleWebKit/537.36 (KHTML, like Gecko) Chrome/39.0.2171.95 Safari/537.36'}\n",
                "        cookies = {'session': '134-8225175-0355220'}\n",
                "        r = requests.get(url1, headers=headers, cookies=cookies)\n",
                "        soup = BeautifulSoup(r.content, \"html.parser\")\n",
                "        print('URL: ', url1)\n",
                "        products = soup.find_all('div', {'class': 'product'})\n",
                "        print('LEN: ', len(products))\n",
                "        if len(products) == 0:\n",
                "            break\n",
                "        #list_url += [pro.find('a')['href'] for pro in products ]\n",
                "        list_data = [pro.find('a')['href'] for pro in products ]\n",
                "        for data in list_data:\n",
                "            list_url.append(\n",
                "                {'url': data, 'cat1': cat1, 'cat2': cat2, 'cat3': cat3},\n",
                "            )\n",
                "        \n",
                "        count += 1\n",
                "        df1 = pd.DataFrame(list_url)\n",
                "        df = pd.concat([df, df1], ignore_index=True)\n",
                "        df.to_excel('Darikumshop_url_update1.xlsx')"
            ]
        },
        {
            "cell_type": "code",
            "execution_count": 4,
            "metadata": {},
            "outputs": [],
            "source": [
                "driver.get('https://darikumshop-fcs.com/bOewdP')"
            ]
        },
        {
            "cell_type": "code",
            "execution_count": 7,
            "metadata": {},
            "outputs": [],
            "source": [
                "def returnt_ele(name, soup):\n",
                "    try:\n",
                "        return soup.find('p', text=re.compile(f'^{name}')).text.replace(':', '').replace(name, '').replace(\"\\xa0\", ' ').strip()\n",
                "    except:\n",
                "        return ''"
            ]
        },
        {
            "cell_type": "code",
            "execution_count": 99,
            "metadata": {},
            "outputs": [
                {
                    "name": "stdout",
                    "output_type": "stream",
                    "text": [
                        "LEN:  3\n"
                    ]
                }
            ],
            "source": [
                "sizes = driver.find_elements_by_xpath('//ul[@class=\"dropdown-menu inner\"]//li')\n",
                "print('LEN: ', len(sizes))\n",
                "if len(sizes) >= 1:\n",
                "    for i in range(1, len(sizes)):\n",
                "        driver.find_element_by_xpath('//span[@class=\"caret\"]').click()\n",
                "        time.sleep(1)\n",
                "        driver.find_element_by_xpath(f'//li[@data-original-index=\"{i}\"]').click()\n",
                "        "
            ]
        },
        {
            "cell_type": "code",
            "execution_count": 103,
            "metadata": {},
            "outputs": [
                {
                    "data": {
                        "text/plain": [
                            "'https://cdn.salla.sa/EOwKY/MNb82YfTSEVkx7ZyGsw90Av2NwvOf5rYRjRL1Evf.jpg'"
                        ]
                    },
                    "execution_count": 103,
                    "metadata": {},
                    "output_type": "execute_result"
                }
            ],
            "source": [
                "images = soup.find('img', {'class': 'image_first_click product-details__thumb'})['src']\n",
                "images"
            ]
        },
        {
            "cell_type": "code",
            "execution_count": 94,
            "metadata": {},
            "outputs": [
                {
                    "data": {
                        "text/plain": [
                            "'https://cdn.salla.sa/EOwKY/MNb82YfTSEVkx7ZyGsw90Av2NwvOf5rYRjRL1Evf.jpg'"
                        ]
                    },
                    "execution_count": 94,
                    "metadata": {},
                    "output_type": "execute_result"
                }
            ],
            "source": [
                "\n",
                "def return_data(driver):\n",
                "    r = driver.find_element_by_tag_name('body').get_attribute('innerHTML')\n",
                "    soup = BeautifulSoup(r, 'html.parser')\n",
                "    name = soup.find('h1', {'class': 'product-details__title'}).text.strip()\n",
                "    price = soup.find('span', {'class': 'product-price'}).text.replace('ر.س', '').replace(',', '').strip()\n",
                "    description = soup.find('div', {'class': 'product-detials__desc'}).text.strip()\n",
                "    images = soup.find('img', {'class': 'image_first_click product-details__thumb'})['src']\n",
                "    base_images = images[0]\n",
                "    add_images = ''\n",
                "    sku = ''\n",
                "    data  = {\n",
                "        'name': name,\n",
                "        'price': price,\n",
                "        'description': description,\n",
                "        'base_images': base_images,\n",
                "        'add_images': add_images,\n",
                "        'sku': sku,\n",
                "    }\n",
                "    return data\n",
                "    "
            ]
        },
        {
            "cell_type": "code",
            "execution_count": 13,
            "metadata": {},
            "outputs": [],
            "source": [
                "r = driver.find_element_by_tag_name('body').get_attribute('innerHTML')\n",
                "soup = BeautifulSoup(r, 'html.parser')"
            ]
        },
        {
            "cell_type": "code",
            "execution_count": 14,
            "metadata": {},
            "outputs": [
                {
                    "data": {
                        "text/plain": [
                            "('الصين', '49*44سم', 'بورسلان')"
                        ]
                    },
                    "execution_count": 14,
                    "metadata": {},
                    "output_type": "execute_result"
                }
            ],
            "source": [
                "manufacturer = returnt_ele('بلد الصنع', soup)\n",
                "product_size = returnt_ele('المقاس', soup)\n",
                "raw_material = returnt_ele('المادة', soup)\n",
                "manufacturer, product_size, raw_material"
            ]
        },
        {
            "cell_type": "code",
            "execution_count": null,
            "metadata": {},
            "outputs": [],
            "source": []
        },
        {
            "cell_type": "code",
            "execution_count": null,
            "metadata": {},
            "outputs": [],
            "source": []
        }
    ],
    "metadata": {
        "interpreter": {
            "hash": "3c84e890491e19a1806ba6d8997d3a5373ca13adc3832f7ff9f28d04534d40f7"
        },
        "kernelspec": {
            "display_name": "Python 3.10.4 ('env310')",
            "language": "python",
            "name": "python3"
        },
        "language_info": {
            "codemirror_mode": {
                "name": "ipython",
                "version": 3
            },
            "file_extension": ".py",
            "mimetype": "text/x-python",
            "name": "python",
            "nbconvert_exporter": "python",
            "pygments_lexer": "ipython3",
            "version": "3.10.4"
        },
        "orig_nbformat": 4
    },
    "nbformat": 4,
    "nbformat_minor": 2
}
