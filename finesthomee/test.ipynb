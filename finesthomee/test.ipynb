{
 "cells": [
  {
   "cell_type": "code",
   "execution_count": 1,
   "metadata": {},
   "outputs": [],
   "source": [
    "from bs4 import BeautifulSoup\n",
    "import requests\n",
    "import time\n",
    "import pandas as pd\n",
    "from selenium import webdriver\n",
    "from selenium.webdriver.common.keys import Keys\n",
    "from selenium.webdriver.support import expected_conditions as EC\n",
    "from selenium.webdriver.common.by import By\n",
    "from selenium.webdriver.support.wait import WebDriverWait\n",
    "from selenium.webdriver.firefox.options import Options\n",
    "import time\n",
    "import re\n",
    "from fake_useragent import UserAgent\n",
    "from bs4 import BeautifulSoup"
   ]
  },
  {
   "cell_type": "code",
   "execution_count": 2,
   "metadata": {},
   "outputs": [
    {
     "name": "stdout",
     "output_type": "stream",
     "text": [
      "Mozilla/5.0 (Macintosh; Intel Mac OS X 10_9_0) AppleWebKit/537.36 (KHTML, like Gecko) Chrome/32.0.1664.3 Safari/537.36\n"
     ]
    },
    {
     "name": "stderr",
     "output_type": "stream",
     "text": [
      "/tmp/ipykernel_221066/465125870.py:7: DeprecationWarning: use options instead of firefox_options\n",
      "  driver = webdriver.Firefox(firefox_options=options)\n"
     ]
    }
   ],
   "source": [
    "options = Options()\n",
    "ua = UserAgent()\n",
    "userAgent = ua.random\n",
    "print(userAgent)\n",
    "options.add_argument(f'user-agent={userAgent}')\n",
    "#opti#     driver = webdriver.Firefox()ons.add_argument(\"--headless\")\n",
    "driver = webdriver.Firefox(firefox_options=options)"
   ]
  },
  {
   "cell_type": "code",
   "execution_count": 3,
   "metadata": {},
   "outputs": [],
   "source": [
    "driver.get('https://finesthomee.com/categories/317158/%D8%A3%D8%B6%D8%A7%D8%A1%D8%A7%D8%AA-%D9%82%D8%B1%D9%8A%D8%A8%D8%A7')"
   ]
  },
  {
   "cell_type": "code",
   "execution_count": 155,
   "metadata": {},
   "outputs": [
    {
     "data": {
      "text/plain": [
       "'<strong>رمز المنتج: </strong> <span>8022</span>'"
      ]
     },
     "execution_count": 155,
     "metadata": {},
     "output_type": "execute_result"
    }
   ],
   "source": [
    "driver.find_element_by_class_name('product-sku').get_attribute('innerHTML')"
   ]
  },
  {
   "cell_type": "code",
   "execution_count": 159,
   "metadata": {},
   "outputs": [
    {
     "data": {
      "text/plain": [
       "'8022'"
      ]
     },
     "execution_count": 159,
     "metadata": {},
     "output_type": "execute_result"
    }
   ],
   "source": [
    "sku1 = driver.find_element_by_xpath('//div[@class=\"product-sku\"]/span')\n",
    "sku = sku1.get_attribute('innerHTML')"
   ]
  },
  {
   "cell_type": "code",
   "execution_count": null,
   "metadata": {},
   "outputs": [],
   "source": [
    "('6723,6724,113',\t'اضاءات'),\n",
    "('42,42800'\t'مباخر'),\n",
    "('43816,43,113',\t'شمعدان'),\n",
    "('44100,44101',\t'بيالات /فناجيل /اكواب'),\n",
    "\n",
    "('42915,42916,42922,113','حامل'),\n",
    "('56,49,113',\t'غطاء خداديات '),\n",
    "('42915,42916',\t'أطقم منزلية وتقديمات'),\n",
    "('42927',\t'كوسترات'),\n",
    "\n"
   ]
  },
  {
   "cell_type": "code",
   "execution_count": 4,
   "metadata": {},
   "outputs": [],
   "source": [
    "urls = [\n",
    "    {'url': 'https://finesthomee.com/categories/317158', 'cat':'أضاءات', 'categories': '6723,6724,113',  'count': 2},\n",
    "    {'url': 'https://finesthomee.com/categories/317157', 'cat':'مباخر', 'categories': '42,42800',  'count': 3},\n",
    "    {'url': 'https://finesthomee.com/categories/317156', 'cat':'شمعدان', 'categories': '43816,43,113',  'count': 2},\n",
    "    {'url': 'https://finesthomee.com/categories/163856', 'cat':'أكواب | فناجيل | بيالات', 'categories': '44100,44101',  'count': 3},\n",
    "    {'url': 'https://finesthomee.com/categories/68206', 'cat':'أطقم منزلية وتقديمات', 'categories': '42915,42916',  'count': 3},\n",
    "    {'url': 'https://finesthomee.com/categories/68205', 'cat':'كوسترات',  'categories': '42927','count': 2},\n",
    "    {'url': 'https://finesthomee.com/categories/68203', 'cat':'غطاء خداديات', 'categories': '56,49,113', 'count': 2},\n",
    "\n",
    "\n",
    "]\n",
    "\n",
    "df = pd.DataFrame(urls)\n",
    "df.to_excel('Finesthomee_urls.xlsx')"
   ]
  },
  {
   "cell_type": "code",
   "execution_count": 7,
   "metadata": {},
   "outputs": [
    {
     "name": "stdout",
     "output_type": "stream",
     "text": [
      "Count:  0\n",
      "Count:  1\n",
      "Count:  2\n",
      "Count:  3\n",
      "Count:  4\n",
      "Count:  5\n",
      "Count:  6\n"
     ]
    }
   ],
   "source": [
    "urls = pd.read_excel('Finesthomee_urls.xlsx')\n",
    "df = pd.read_excel('/home/wafistos/Documents/Projects/scaping_wafi/finesthomee/model_urls.xlsx')\n",
    "list_urls = []\n",
    "for index, row in urls.iterrows():\n",
    "    list_urls.append({'url': row['url'], 'count': row['count'], 'cat': row['cat'], 'categories': row['categories']})\n",
    "for i, url in enumerate(list_urls):\n",
    "    print('Count: ', i)\n",
    "    time.sleep(1)\n",
    "    for i in range(1,url['count']):\n",
    "        driver.get(url['url']+f'?page={i}')\n",
    "        products = driver.find_elements_by_class_name('shop-thumbnail')\n",
    "        len(products)\n",
    "        list_products = [product.find_element_by_xpath('a').get_attribute('href') for product in products]\n",
    "        len(list_products)\n",
    "        for product in list_products:\n",
    "            data = {\n",
    "                'url': product,\n",
    "                'categories1': url['cat'],\n",
    "                'categories': url['categories'],\n",
    "            }\n",
    "            df1 = pd.DataFrame([data])\n",
    "            df = pd.concat([df, df1], ignore_index=True)\n",
    "            df.to_excel('Fines_list_urls.xlsx')\n",
    "# urls = [product.find_elements_by_xpath('a')]"
   ]
  },
  {
   "cell_type": "code",
   "execution_count": 105,
   "metadata": {},
   "outputs": [],
   "source": [
    "def extraire_ele(name, soup):\n",
    "    try:\n",
    "        toto = soup.find('li', text=re.compile(f'^{name}')).text.replace(name, '').replace(':', '').strip()\n",
    "    except:\n",
    "        toto = ''\n",
    "    if toto == '':\n",
    "        try:\n",
    "            toto = soup.find('p', text=re.compile(f'^{name}')).text.replace(name, '').replace(':', '').strip()\n",
    "            \n",
    "        except:\n",
    "            try:\n",
    "                toto = soup.find('li', text=re.compile(f'{name}')).text.replace(name, '').replace(':', '').strip()\n",
    "            except:\n",
    "                toto = ''\n",
    "    return toto"
   ]
  },
  {
   "cell_type": "code",
   "execution_count": 116,
   "metadata": {},
   "outputs": [
    {
     "data": {
      "text/plain": [
       "'4.5'"
      ]
     },
     "execution_count": 116,
     "metadata": {},
     "output_type": "execute_result"
    }
   ],
   "source": [
    "name = driver.find_element_by_class_name('product-title').text.strip()\n",
    "special_price = ''\n",
    "\n",
    "price = driver.find_element_by_id('product-old-price').text.replace('ر.س', '').strip()\n",
    "special_price = driver.find_element_by_id('product-price').text.replace('ر.س', '').strip()\n",
    "\n",
    "\n",
    "# weight = driver.find_element_by_class_name('product-meta').get_attribute('innerHTMl')\n",
    "# description = driver.find_element_by_id('description-tab').text\n",
    "details = driver.find_element_by_id('description-tab').get_attribute('innerHTML')\n",
    "soup = BeautifulSoup(details, 'html.parser')\n",
    "# height = extraire_ele('الارتفاع', soup)\n",
    "# diameter = extraire_ele('القطر', soup)\n",
    "# lenght = extraire_ele('الطول', soup)\n",
    "# ('price:', price , '----', 'sp price', special_price)\n",
    "amper = extraire_ele('سعة البطارية', soup)\n",
    "power = extraire_ele('الطاقة المقدرة', soup)\n",
    "rechargeable = extraire_ele('مدة الشحن', soup)\n",
    "no_of_lamps = extraire_ele('عدد لمبات المصباح', soup)\n",
    "try:\n",
    "    with_controller = soup.find('span', text=re.compile('ريموت لتحكم ')).text.strip()\n",
    "    with_controller  ='Yes'\n",
    "except:\n",
    "    with_controller = 'No'\n",
    "height = extraire_ele('الطول', soup)\n",
    "height"
   ]
  },
  {
   "cell_type": "code",
   "execution_count": 65,
   "metadata": {},
   "outputs": [
    {
     "name": "stdout",
     "output_type": "stream",
     "text": [
      "3\n",
      "https://media.zid.store/cdn-cgi/image/f=auto/https://media.zid.store/c11f34bd-67a0-4d98-abe5-df8d247f88d2/178f1889-3621-43b7-8b52-fcc7a8152bbb.jpg\n",
      "https://media.zid.store/cdn-cgi/image/f=auto/https://media.zid.store/c11f34bd-67a0-4d98-abe5-df8d247f88d2/2488d920-ec4b-4724-a020-d54274869022.jpg\n",
      "https://media.zid.store/cdn-cgi/image/f=auto/https://media.zid.store/c11f34bd-67a0-4d98-abe5-df8d247f88d2/13bf1324-ab24-4af6-ae5e-2e2990f4fbd4.jpg\n"
     ]
    }
   ],
   "source": [
    "images_thmbs = driver.find_element_by_class_name('image-thumbs').find_elements_by_tag_name('img')\n",
    "print(len(images_thmbs))\n",
    "list_images = []\n",
    "\n",
    "for img in images_thmbs:\n",
    "    img.click()\n",
    "    list_images.append(driver.find_element_by_id('main-img').get_attribute('src'))\n",
    "    time.sleep(0.3)"
   ]
  },
  {
   "cell_type": "code",
   "execution_count": 81,
   "metadata": {},
   "outputs": [],
   "source": [
    "\n",
    "\n",
    "def extract_colors(detail):\n",
    "    details = detail.split(' ')\n",
    "    for i, color in enumerate(details):\n",
    "        if 'لون' in color:\n",
    "            return (details[i+1])"
   ]
  },
  {
   "cell_type": "code",
   "execution_count": null,
   "metadata": {},
   "outputs": [],
   "source": [
    "co"
   ]
  },
  {
   "cell_type": "code",
   "execution_count": 4,
   "metadata": {},
   "outputs": [
    {
     "data": {
      "text/plain": [
       "0"
      ]
     },
     "execution_count": 4,
     "metadata": {},
     "output_type": "execute_result"
    }
   ],
   "source": [
    "r = requests.get('https://finesthomee.com/categories/317158/%D8%A3%D8%B6%D8%A7%D8%A1%D8%A7%D8%AA-%D9%82%D8%B1%D9%8A%D8%A8%D8%A7')\n",
    "soup = BeautifulSoup(r.text, 'html.parser')\n",
    "# print(soup.prettify())\n",
    "links = soup.find_all('div', {'class': 'zid-item product'})\n",
    "len(links)\n",
    "# name = soup.find('h1', {'class': 'productname'}).text.strip()\n",
    "# sku = soup.find('span', {'class': 'productname_small pb-3'}).find('p').text.strip()\n",
    "# price = soup.find('h3', {'class': 'productprice pb-3'}).find('span').text.strip()\n",
    "# description = soup.find('div', {'id': 'product_details'}).text\n",
    "# details = soup.find('div', {'id': 'product_details'})\n",
    "# images = soup.find('ul', {'class': 'slides'}).find_all('li')\n",
    "# list_images = [img.find('img')['src'] for img in images]\n"
   ]
  },
  {
   "cell_type": "code",
   "execution_count": 141,
   "metadata": {},
   "outputs": [],
   "source": [
    "df = pd.read_excel('/home/wafistos/Documents/Projects/finesthomee/-finesthomee_update_01_02.xlsx.xlsx')"
   ]
  },
  {
   "cell_type": "code",
   "execution_count": 167,
   "metadata": {},
   "outputs": [],
   "source": [
    "list_cate = [\n",
    "('6723,6724,113',\t'اضاءات'),\n",
    "('42,42800'\t'مباخر'),\n",
    "('43816,43,113',\t'شمعدان'),\n",
    "('44100,44101',\t'بيالات /فناجيل /اكواب'),\n",
    "\n",
    "('42915,42916,42922,113','حامل'),\n",
    "('56,49,113',\t'غطاء خداديات '),\n",
    "('42915,42916',\t'أطقم منزلية وتقديمات'),\n",
    "('42927',\t'كوسترات'),\n",
    "\n",
    "\n",
    "\n",
    "]"
   ]
  },
  {
   "cell_type": "code",
   "execution_count": 139,
   "metadata": {},
   "outputs": [],
   "source": [
    "count = 2000\n",
    "for index, row in df.iterrows():\n",
    "    row['sku'] = str(2000 + index)"
   ]
  },
  {
   "cell_type": "code",
   "execution_count": 142,
   "metadata": {},
   "outputs": [
    {
     "data": {
      "text/plain": [
       "0      FIN-0      2001\\n1      2001\\n2      2001\\n3  ...\n",
       "1      FIN-0      2001\\n1      2001\\n2      2001\\n3  ...\n",
       "2      FIN-0      2001\\n1      2001\\n2      2001\\n3  ...\n",
       "3      FIN-0      2001\\n1      2001\\n2      2001\\n3  ...\n",
       "4      FIN-0      2001\\n1      2001\\n2      2001\\n3  ...\n",
       "                             ...                        \n",
       "162    FIN-0      2001\\n1      2001\\n2      2001\\n3  ...\n",
       "163    FIN-0      2001\\n1      2001\\n2      2001\\n3  ...\n",
       "164    FIN-0      2001\\n1      2001\\n2      2001\\n3  ...\n",
       "165    FIN-0      2001\\n1      2001\\n2      2001\\n3  ...\n",
       "166    FIN-0      2001\\n1      2001\\n2      2001\\n3  ...\n",
       "Name: sku, Length: 167, dtype: object"
      ]
     },
     "execution_count": 142,
     "metadata": {},
     "output_type": "execute_result"
    }
   ],
   "source": [
    "df['sku']"
   ]
  },
  {
   "cell_type": "code",
   "execution_count": 124,
   "metadata": {},
   "outputs": [],
   "source": [
    "df.loc[df['price'].isnull(), 'price'] = df['special_price']\n",
    "df.loc[df['price'] == df['special_price'], 'special_price'] = '__EMPTY__VALUE__'"
   ]
  },
  {
   "cell_type": "code",
   "execution_count": null,
   "metadata": {},
   "outputs": [],
   "source": [
    "for cat in list_cat:\n",
    "    df.loc[df['categories']]"
   ]
  },
  {
   "cell_type": "code",
   "execution_count": null,
   "metadata": {},
   "outputs": [],
   "source": []
  },
  {
   "cell_type": "code",
   "execution_count": null,
   "metadata": {},
   "outputs": [],
   "source": []
  },
  {
   "cell_type": "code",
   "execution_count": null,
   "metadata": {},
   "outputs": [],
   "source": []
  }
 ],
 "metadata": {
  "interpreter": {
   "hash": "901bbe481fb91f862c10b8e54f95d7da636ff35e7b7d7322c639cfaac06e5987"
  },
  "kernelspec": {
   "display_name": "Python 3 (ipykernel)",
   "language": "python",
   "name": "python3"
  },
  "language_info": {
   "codemirror_mode": {
    "name": "ipython",
    "version": 3
   },
   "file_extension": ".py",
   "mimetype": "text/x-python",
   "name": "python",
   "nbconvert_exporter": "python",
   "pygments_lexer": "ipython3",
   "version": "3.8.8"
  },
  "toc": {
   "base_numbering": 1,
   "nav_menu": {},
   "number_sections": true,
   "sideBar": true,
   "skip_h1_title": false,
   "title_cell": "Table of Contents",
   "title_sidebar": "Contents",
   "toc_cell": false,
   "toc_position": {},
   "toc_section_display": true,
   "toc_window_display": false
  }
 },
 "nbformat": 4,
 "nbformat_minor": 2
}
