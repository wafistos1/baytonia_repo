{
 "cells": [
  {
   "cell_type": "code",
   "execution_count": 6,
   "metadata": {},
   "outputs": [],
   "source": [
    "from bs4 import BeautifulSoup\n",
    "import requests\n",
    "import time\n",
    "import pandas as pd\n",
    "from selenium import webdriver\n",
    "from selenium.webdriver.common.keys import Keys\n",
    "from selenium.webdriver.support import expected_conditions as EC\n",
    "from selenium.webdriver.common.by import By\n",
    "from selenium.webdriver.support.wait import WebDriverWait\n",
    "from selenium.webdriver.firefox.options import Options\n",
    "import time\n",
    "import re\n",
    "from fake_useragent import UserAgent\n",
    "from bs4 import BeautifulSoup"
   ]
  },
  {
   "cell_type": "code",
   "execution_count": 2,
   "metadata": {},
   "outputs": [
    {
     "name": "stdout",
     "output_type": "stream",
     "text": [
      "Mozilla/5.0 (Windows NT 6.3; WOW64) AppleWebKit/537.36 (KHTML, like Gecko) Chrome/41.0.2226.0 Safari/537.36\n"
     ]
    },
    {
     "name": "stderr",
     "output_type": "stream",
     "text": [
      "/tmp/ipykernel_76091/465125870.py:7: DeprecationWarning: use options instead of firefox_options\n",
      "  driver = webdriver.Firefox(firefox_options=options)\n"
     ]
    }
   ],
   "source": [
    "options = Options()\n",
    "ua = UserAgent()\n",
    "userAgent = ua.random\n",
    "print(userAgent)\n",
    "options.add_argument(f'user-agent={userAgent}')\n",
    "#opti#     driver = webdriver.Firefox()ons.add_argument(\"--headless\")\n",
    "driver = webdriver.Firefox(firefox_options=options)"
   ]
  },
  {
   "cell_type": "code",
   "execution_count": 3,
   "metadata": {},
   "outputs": [],
   "source": [
    "driver.get('https://finesthomee.com/categories/317158/%D8%A3%D8%B6%D8%A7%D8%A1%D8%A7%D8%AA-%D9%82%D8%B1%D9%8A%D8%A8%D8%A7')"
   ]
  },
  {
   "cell_type": "code",
   "execution_count": 155,
   "metadata": {},
   "outputs": [
    {
     "data": {
      "text/plain": [
       "'<strong>رمز المنتج: </strong> <span>8022</span>'"
      ]
     },
     "execution_count": 155,
     "metadata": {},
     "output_type": "execute_result"
    }
   ],
   "source": [
    "driver.find_element_by_class_name('product-sku').get_attribute('innerHTML')"
   ]
  },
  {
   "cell_type": "code",
   "execution_count": 159,
   "metadata": {},
   "outputs": [
    {
     "data": {
      "text/plain": [
       "'8022'"
      ]
     },
     "execution_count": 159,
     "metadata": {},
     "output_type": "execute_result"
    }
   ],
   "source": [
    "sku1 = driver.find_element_by_xpath('//div[@class=\"product-sku\"]/span')\n",
    "sku = sku1.get_attribute('innerHTML')"
   ]
  },
  {
   "cell_type": "code",
   "execution_count": null,
   "metadata": {},
   "outputs": [],
   "source": [
    "('6723,6724,113',\t'اضاءات'),\n",
    "('42,42800'\t'مباخر'),\n",
    "('43816,43,113',\t'شمعدان'),\n",
    "('44100,44101',\t'بيالات /فناجيل /اكواب'),\n",
    "\n",
    "('42915,42916,42922,113','حامل'),\n",
    "('56,49,113',\t'غطاء خداديات '),\n",
    "('42915,42916',\t'أطقم منزلية وتقديمات'),\n",
    "('42927',\t'كوسترات'),\n",
    "\n"
   ]
  },
  {
   "cell_type": "code",
   "execution_count": 4,
   "metadata": {},
   "outputs": [],
   "source": [
    "urls = [\n",
    "    {'url': 'https://finesthomee.com/categories/317158', 'cat':'أضاءات', 'categories': '6723,6724,113',  'count': 2},\n",
    "    {'url': 'https://finesthomee.com/categories/317157', 'cat':'مباخر', 'categories': '42,42800',  'count': 3},\n",
    "    {'url': 'https://finesthomee.com/categories/317156', 'cat':'شمعدان', 'categories': '43816,43,113',  'count': 2},\n",
    "    {'url': 'https://finesthomee.com/categories/163856', 'cat':'أكواب | فناجيل | بيالات', 'categories': '44100,44101',  'count': 3},\n",
    "    {'url': 'https://finesthomee.com/categories/68206', 'cat':'أطقم منزلية وتقديمات', 'categories': '42915,42916',  'count': 3},\n",
    "    {'url': 'https://finesthomee.com/categories/68205', 'cat':'كوسترات',  'categories': '42927','count': 2},\n",
    "    {'url': 'https://finesthomee.com/categories/68203', 'cat':'غطاء خداديات', 'categories': '56,49,113', 'count': 2},\n",
    "\n",
    "\n",
    "]\n",
    "\n",
    "df = pd.DataFrame(urls)\n",
    "df.to_excel('Finesthomee_urls.xlsx')"
   ]
  },
  {
   "cell_type": "code",
   "execution_count": 5,
   "metadata": {},
   "outputs": [
    {
     "ename": "FileNotFoundError",
     "evalue": "[Errno 2] No such file or directory: '/home/wafistos/Documents/Projects/finesthomee/model_urls.xlsx'",
     "output_type": "error",
     "traceback": [
      "\u001b[0;31m---------------------------------------------------------------------------\u001b[0m",
      "\u001b[0;31mFileNotFoundError\u001b[0m                         Traceback (most recent call last)",
      "Input \u001b[0;32mIn [5]\u001b[0m, in \u001b[0;36m<module>\u001b[0;34m\u001b[0m\n\u001b[1;32m      1\u001b[0m urls \u001b[38;5;241m=\u001b[39m pd\u001b[38;5;241m.\u001b[39mread_excel(\u001b[38;5;124m'\u001b[39m\u001b[38;5;124mFinesthomee_urls.xlsx\u001b[39m\u001b[38;5;124m'\u001b[39m)\n\u001b[0;32m----> 2\u001b[0m df \u001b[38;5;241m=\u001b[39m \u001b[43mpd\u001b[49m\u001b[38;5;241;43m.\u001b[39;49m\u001b[43mread_excel\u001b[49m\u001b[43m(\u001b[49m\u001b[38;5;124;43m'\u001b[39;49m\u001b[38;5;124;43m/home/wafistos/Documents/Projects/finesthomee/model_urls.xlsx\u001b[39;49m\u001b[38;5;124;43m'\u001b[39;49m\u001b[43m)\u001b[49m\n\u001b[1;32m      3\u001b[0m list_urls \u001b[38;5;241m=\u001b[39m []\n\u001b[1;32m      4\u001b[0m \u001b[38;5;28;01mfor\u001b[39;00m index, row \u001b[38;5;129;01min\u001b[39;00m urls\u001b[38;5;241m.\u001b[39miterrows():\n",
      "File \u001b[0;32m~/anaconda3/lib/python3.8/site-packages/pandas/util/_decorators.py:299\u001b[0m, in \u001b[0;36mdeprecate_nonkeyword_arguments.<locals>.decorate.<locals>.wrapper\u001b[0;34m(*args, **kwargs)\u001b[0m\n\u001b[1;32m    294\u001b[0m     msg \u001b[38;5;241m=\u001b[39m (\n\u001b[1;32m    295\u001b[0m         \u001b[38;5;124mf\u001b[39m\u001b[38;5;124m\"\u001b[39m\u001b[38;5;124mStarting with Pandas version \u001b[39m\u001b[38;5;132;01m{\u001b[39;00mversion\u001b[38;5;132;01m}\u001b[39;00m\u001b[38;5;124m all arguments of \u001b[39m\u001b[38;5;124m\"\u001b[39m\n\u001b[1;32m    296\u001b[0m         \u001b[38;5;124mf\u001b[39m\u001b[38;5;124m\"\u001b[39m\u001b[38;5;132;01m{\u001b[39;00mfunc\u001b[38;5;241m.\u001b[39m\u001b[38;5;18m__name__\u001b[39m\u001b[38;5;132;01m}\u001b[39;00m\u001b[38;5;132;01m{\u001b[39;00marguments\u001b[38;5;132;01m}\u001b[39;00m\u001b[38;5;124m will be keyword-only\u001b[39m\u001b[38;5;124m\"\u001b[39m\n\u001b[1;32m    297\u001b[0m     )\n\u001b[1;32m    298\u001b[0m     warnings\u001b[38;5;241m.\u001b[39mwarn(msg, \u001b[38;5;167;01mFutureWarning\u001b[39;00m, stacklevel\u001b[38;5;241m=\u001b[39mstacklevel)\n\u001b[0;32m--> 299\u001b[0m \u001b[38;5;28;01mreturn\u001b[39;00m \u001b[43mfunc\u001b[49m\u001b[43m(\u001b[49m\u001b[38;5;241;43m*\u001b[39;49m\u001b[43margs\u001b[49m\u001b[43m,\u001b[49m\u001b[43m \u001b[49m\u001b[38;5;241;43m*\u001b[39;49m\u001b[38;5;241;43m*\u001b[39;49m\u001b[43mkwargs\u001b[49m\u001b[43m)\u001b[49m\n",
      "File \u001b[0;32m~/anaconda3/lib/python3.8/site-packages/pandas/io/excel/_base.py:336\u001b[0m, in \u001b[0;36mread_excel\u001b[0;34m(io, sheet_name, header, names, index_col, usecols, squeeze, dtype, engine, converters, true_values, false_values, skiprows, nrows, na_values, keep_default_na, na_filter, verbose, parse_dates, date_parser, thousands, comment, skipfooter, convert_float, mangle_dupe_cols, storage_options)\u001b[0m\n\u001b[1;32m    334\u001b[0m \u001b[38;5;28;01mif\u001b[39;00m \u001b[38;5;129;01mnot\u001b[39;00m \u001b[38;5;28misinstance\u001b[39m(io, ExcelFile):\n\u001b[1;32m    335\u001b[0m     should_close \u001b[38;5;241m=\u001b[39m \u001b[38;5;28;01mTrue\u001b[39;00m\n\u001b[0;32m--> 336\u001b[0m     io \u001b[38;5;241m=\u001b[39m \u001b[43mExcelFile\u001b[49m\u001b[43m(\u001b[49m\u001b[43mio\u001b[49m\u001b[43m,\u001b[49m\u001b[43m \u001b[49m\u001b[43mstorage_options\u001b[49m\u001b[38;5;241;43m=\u001b[39;49m\u001b[43mstorage_options\u001b[49m\u001b[43m,\u001b[49m\u001b[43m \u001b[49m\u001b[43mengine\u001b[49m\u001b[38;5;241;43m=\u001b[39;49m\u001b[43mengine\u001b[49m\u001b[43m)\u001b[49m\n\u001b[1;32m    337\u001b[0m \u001b[38;5;28;01melif\u001b[39;00m engine \u001b[38;5;129;01mand\u001b[39;00m engine \u001b[38;5;241m!=\u001b[39m io\u001b[38;5;241m.\u001b[39mengine:\n\u001b[1;32m    338\u001b[0m     \u001b[38;5;28;01mraise\u001b[39;00m \u001b[38;5;167;01mValueError\u001b[39;00m(\n\u001b[1;32m    339\u001b[0m         \u001b[38;5;124m\"\u001b[39m\u001b[38;5;124mEngine should not be specified when passing \u001b[39m\u001b[38;5;124m\"\u001b[39m\n\u001b[1;32m    340\u001b[0m         \u001b[38;5;124m\"\u001b[39m\u001b[38;5;124man ExcelFile - ExcelFile already has the engine set\u001b[39m\u001b[38;5;124m\"\u001b[39m\n\u001b[1;32m    341\u001b[0m     )\n",
      "File \u001b[0;32m~/anaconda3/lib/python3.8/site-packages/pandas/io/excel/_base.py:1071\u001b[0m, in \u001b[0;36mExcelFile.__init__\u001b[0;34m(self, path_or_buffer, engine, storage_options)\u001b[0m\n\u001b[1;32m   1069\u001b[0m     ext \u001b[38;5;241m=\u001b[39m \u001b[38;5;124m\"\u001b[39m\u001b[38;5;124mxls\u001b[39m\u001b[38;5;124m\"\u001b[39m\n\u001b[1;32m   1070\u001b[0m \u001b[38;5;28;01melse\u001b[39;00m:\n\u001b[0;32m-> 1071\u001b[0m     ext \u001b[38;5;241m=\u001b[39m \u001b[43minspect_excel_format\u001b[49m\u001b[43m(\u001b[49m\n\u001b[1;32m   1072\u001b[0m \u001b[43m        \u001b[49m\u001b[43mcontent\u001b[49m\u001b[38;5;241;43m=\u001b[39;49m\u001b[43mpath_or_buffer\u001b[49m\u001b[43m,\u001b[49m\u001b[43m \u001b[49m\u001b[43mstorage_options\u001b[49m\u001b[38;5;241;43m=\u001b[39;49m\u001b[43mstorage_options\u001b[49m\n\u001b[1;32m   1073\u001b[0m \u001b[43m    \u001b[49m\u001b[43m)\u001b[49m\n\u001b[1;32m   1075\u001b[0m \u001b[38;5;28;01mif\u001b[39;00m ext \u001b[38;5;241m==\u001b[39m \u001b[38;5;124m\"\u001b[39m\u001b[38;5;124mods\u001b[39m\u001b[38;5;124m\"\u001b[39m:\n\u001b[1;32m   1076\u001b[0m     engine \u001b[38;5;241m=\u001b[39m \u001b[38;5;124m\"\u001b[39m\u001b[38;5;124modf\u001b[39m\u001b[38;5;124m\"\u001b[39m\n",
      "File \u001b[0;32m~/anaconda3/lib/python3.8/site-packages/pandas/io/excel/_base.py:949\u001b[0m, in \u001b[0;36minspect_excel_format\u001b[0;34m(path, content, storage_options)\u001b[0m\n\u001b[1;32m    946\u001b[0m     content_or_path \u001b[38;5;241m=\u001b[39m content \u001b[38;5;129;01mor\u001b[39;00m path\n\u001b[1;32m    947\u001b[0m \u001b[38;5;28;01massert\u001b[39;00m content_or_path \u001b[38;5;129;01mis\u001b[39;00m \u001b[38;5;129;01mnot\u001b[39;00m \u001b[38;5;28;01mNone\u001b[39;00m\n\u001b[0;32m--> 949\u001b[0m \u001b[38;5;28;01mwith\u001b[39;00m \u001b[43mget_handle\u001b[49m\u001b[43m(\u001b[49m\n\u001b[1;32m    950\u001b[0m \u001b[43m    \u001b[49m\u001b[43mcontent_or_path\u001b[49m\u001b[43m,\u001b[49m\u001b[43m \u001b[49m\u001b[38;5;124;43m\"\u001b[39;49m\u001b[38;5;124;43mrb\u001b[39;49m\u001b[38;5;124;43m\"\u001b[39;49m\u001b[43m,\u001b[49m\u001b[43m \u001b[49m\u001b[43mstorage_options\u001b[49m\u001b[38;5;241;43m=\u001b[39;49m\u001b[43mstorage_options\u001b[49m\u001b[43m,\u001b[49m\u001b[43m \u001b[49m\u001b[43mis_text\u001b[49m\u001b[38;5;241;43m=\u001b[39;49m\u001b[38;5;28;43;01mFalse\u001b[39;49;00m\n\u001b[1;32m    951\u001b[0m \u001b[43m\u001b[49m\u001b[43m)\u001b[49m \u001b[38;5;28;01mas\u001b[39;00m handle:\n\u001b[1;32m    952\u001b[0m     stream \u001b[38;5;241m=\u001b[39m handle\u001b[38;5;241m.\u001b[39mhandle\n\u001b[1;32m    953\u001b[0m     stream\u001b[38;5;241m.\u001b[39mseek(\u001b[38;5;241m0\u001b[39m)\n",
      "File \u001b[0;32m~/anaconda3/lib/python3.8/site-packages/pandas/io/common.py:651\u001b[0m, in \u001b[0;36mget_handle\u001b[0;34m(path_or_buf, mode, encoding, compression, memory_map, is_text, errors, storage_options)\u001b[0m\n\u001b[1;32m    642\u001b[0m         handle \u001b[38;5;241m=\u001b[39m \u001b[38;5;28mopen\u001b[39m(\n\u001b[1;32m    643\u001b[0m             handle,\n\u001b[1;32m    644\u001b[0m             ioargs\u001b[38;5;241m.\u001b[39mmode,\n\u001b[0;32m   (...)\u001b[0m\n\u001b[1;32m    647\u001b[0m             newline\u001b[38;5;241m=\u001b[39m\u001b[38;5;124m\"\u001b[39m\u001b[38;5;124m\"\u001b[39m,\n\u001b[1;32m    648\u001b[0m         )\n\u001b[1;32m    649\u001b[0m     \u001b[38;5;28;01melse\u001b[39;00m:\n\u001b[1;32m    650\u001b[0m         \u001b[38;5;66;03m# Binary mode\u001b[39;00m\n\u001b[0;32m--> 651\u001b[0m         handle \u001b[38;5;241m=\u001b[39m \u001b[38;5;28;43mopen\u001b[39;49m\u001b[43m(\u001b[49m\u001b[43mhandle\u001b[49m\u001b[43m,\u001b[49m\u001b[43m \u001b[49m\u001b[43mioargs\u001b[49m\u001b[38;5;241;43m.\u001b[39;49m\u001b[43mmode\u001b[49m\u001b[43m)\u001b[49m\n\u001b[1;32m    652\u001b[0m     handles\u001b[38;5;241m.\u001b[39mappend(handle)\n\u001b[1;32m    654\u001b[0m \u001b[38;5;66;03m# Convert BytesIO or file objects passed with an encoding\u001b[39;00m\n",
      "\u001b[0;31mFileNotFoundError\u001b[0m: [Errno 2] No such file or directory: '/home/wafistos/Documents/Projects/finesthomee/model_urls.xlsx'"
     ]
    }
   ],
   "source": [
    "urls = pd.read_excel('Finesthomee_urls.xlsx')\n",
    "df = pd.read_excel('/home/wafistos/Documents/Projects/finesthomee/model_urls.xlsx')\n",
    "list_urls = []\n",
    "for index, row in urls.iterrows():\n",
    "    list_urls.append({'url': row['url'], 'count': row['count'], 'cat': row['cat'], 'categories': row['categories']})\n",
    "for i, url in enumerate(list_urls):\n",
    "    print('Count: ', i)\n",
    "    time.sleep(1)\n",
    "    for i in range(1,url['count']):\n",
    "        driver.get(url['url']+f'?page={i}')\n",
    "        products = driver.find_elements_by_class_name('shop-thumbnail')\n",
    "        len(products)\n",
    "        list_products = [product.find_element_by_xpath('a').get_attribute('href') for product in products]\n",
    "        len(list_products)\n",
    "        for product in list_products:\n",
    "            data = {\n",
    "                'url': product,\n",
    "                'categories1': url['cat'],\n",
    "                'categories': url['categories'],\n",
    "            }\n",
    "            df1 = pd.DataFrame([data])\n",
    "            df = pd.concat([df, df1], ignore_index=True)\n",
    "            df.to_excel('Fines_list_urls.xlsx')\n",
    "# urls = [product.find_elements_by_xpath('a')]"
   ]
  },
  {
   "cell_type": "code",
   "execution_count": 105,
   "metadata": {},
   "outputs": [],
   "source": [
    "def extraire_ele(name, soup):\n",
    "    try:\n",
    "        toto = soup.find('li', text=re.compile(f'^{name}')).text.replace(name, '').replace(':', '').strip()\n",
    "    except:\n",
    "        toto = ''\n",
    "    if toto == '':\n",
    "        try:\n",
    "            toto = soup.find('p', text=re.compile(f'^{name}')).text.replace(name, '').replace(':', '').strip()\n",
    "            \n",
    "        except:\n",
    "            try:\n",
    "                toto = soup.find('li', text=re.compile(f'{name}')).text.replace(name, '').replace(':', '').strip()\n",
    "            except:\n",
    "                toto = ''\n",
    "    return toto"
   ]
  },
  {
   "cell_type": "code",
   "execution_count": 116,
   "metadata": {},
   "outputs": [
    {
     "data": {
      "text/plain": [
       "'4.5'"
      ]
     },
     "execution_count": 116,
     "metadata": {},
     "output_type": "execute_result"
    }
   ],
   "source": [
    "name = driver.find_element_by_class_name('product-title').text.strip()\n",
    "special_price = ''\n",
    "\n",
    "price = driver.find_element_by_id('product-old-price').text.replace('ر.س', '').strip()\n",
    "special_price = driver.find_element_by_id('product-price').text.replace('ر.س', '').strip()\n",
    "\n",
    "\n",
    "# weight = driver.find_element_by_class_name('product-meta').get_attribute('innerHTMl')\n",
    "# description = driver.find_element_by_id('description-tab').text\n",
    "details = driver.find_element_by_id('description-tab').get_attribute('innerHTML')\n",
    "soup = BeautifulSoup(details, 'html.parser')\n",
    "# height = extraire_ele('الارتفاع', soup)\n",
    "# diameter = extraire_ele('القطر', soup)\n",
    "# lenght = extraire_ele('الطول', soup)\n",
    "# ('price:', price , '----', 'sp price', special_price)\n",
    "amper = extraire_ele('سعة البطارية', soup)\n",
    "power = extraire_ele('الطاقة المقدرة', soup)\n",
    "rechargeable = extraire_ele('مدة الشحن', soup)\n",
    "no_of_lamps = extraire_ele('عدد لمبات المصباح', soup)\n",
    "try:\n",
    "    with_controller = soup.find('span', text=re.compile('ريموت لتحكم ')).text.strip()\n",
    "    with_controller  ='Yes'\n",
    "except:\n",
    "    with_controller = 'No'\n",
    "height = extraire_ele('الطول', soup)\n",
    "height"
   ]
  },
  {
   "cell_type": "code",
   "execution_count": 65,
   "metadata": {},
   "outputs": [
    {
     "name": "stdout",
     "output_type": "stream",
     "text": [
      "3\n",
      "https://media.zid.store/cdn-cgi/image/f=auto/https://media.zid.store/c11f34bd-67a0-4d98-abe5-df8d247f88d2/178f1889-3621-43b7-8b52-fcc7a8152bbb.jpg\n",
      "https://media.zid.store/cdn-cgi/image/f=auto/https://media.zid.store/c11f34bd-67a0-4d98-abe5-df8d247f88d2/2488d920-ec4b-4724-a020-d54274869022.jpg\n",
      "https://media.zid.store/cdn-cgi/image/f=auto/https://media.zid.store/c11f34bd-67a0-4d98-abe5-df8d247f88d2/13bf1324-ab24-4af6-ae5e-2e2990f4fbd4.jpg\n"
     ]
    }
   ],
   "source": [
    "images_thmbs = driver.find_element_by_class_name('image-thumbs').find_elements_by_tag_name('img')\n",
    "print(len(images_thmbs))\n",
    "list_images = []\n",
    "\n",
    "for img in images_thmbs:\n",
    "    img.click()\n",
    "    list_images.append(driver.find_element_by_id('main-img').get_attribute('src'))\n",
    "    time.sleep(0.3)"
   ]
  },
  {
   "cell_type": "code",
   "execution_count": 81,
   "metadata": {},
   "outputs": [],
   "source": [
    "\n",
    "\n",
    "def extract_colors(detail):\n",
    "    details = detail.split(' ')\n",
    "    for i, color in enumerate(details):\n",
    "        if 'لون' in color:\n",
    "            return (details[i+1])"
   ]
  },
  {
   "cell_type": "code",
   "execution_count": null,
   "metadata": {},
   "outputs": [],
   "source": [
    "co"
   ]
  },
  {
   "cell_type": "code",
   "execution_count": 4,
   "metadata": {},
   "outputs": [
    {
     "data": {
      "text/plain": [
       "0"
      ]
     },
     "execution_count": 4,
     "metadata": {},
     "output_type": "execute_result"
    }
   ],
   "source": [
    "r = requests.get('https://finesthomee.com/categories/317158/%D8%A3%D8%B6%D8%A7%D8%A1%D8%A7%D8%AA-%D9%82%D8%B1%D9%8A%D8%A8%D8%A7')\n",
    "soup = BeautifulSoup(r.text, 'html.parser')\n",
    "# print(soup.prettify())\n",
    "links = soup.find_all('div', {'class': 'zid-item product'})\n",
    "len(links)\n",
    "# name = soup.find('h1', {'class': 'productname'}).text.strip()\n",
    "# sku = soup.find('span', {'class': 'productname_small pb-3'}).find('p').text.strip()\n",
    "# price = soup.find('h3', {'class': 'productprice pb-3'}).find('span').text.strip()\n",
    "# description = soup.find('div', {'id': 'product_details'}).text\n",
    "# details = soup.find('div', {'id': 'product_details'})\n",
    "# images = soup.find('ul', {'class': 'slides'}).find_all('li')\n",
    "# list_images = [img.find('img')['src'] for img in images]\n"
   ]
  },
  {
   "cell_type": "code",
   "execution_count": 141,
   "metadata": {},
   "outputs": [],
   "source": [
    "df = pd.read_excel('/home/wafistos/Documents/Projects/finesthomee/-finesthomee_update_01_02.xlsx.xlsx')"
   ]
  },
  {
   "cell_type": "code",
   "execution_count": 167,
   "metadata": {},
   "outputs": [],
   "source": [
    "list_cate = [\n",
    "('6723,6724,113',\t'اضاءات'),\n",
    "('42,42800'\t'مباخر'),\n",
    "('43816,43,113',\t'شمعدان'),\n",
    "('44100,44101',\t'بيالات /فناجيل /اكواب'),\n",
    "\n",
    "('42915,42916,42922,113','حامل'),\n",
    "('56,49,113',\t'غطاء خداديات '),\n",
    "('42915,42916',\t'أطقم منزلية وتقديمات'),\n",
    "('42927',\t'كوسترات'),\n",
    "\n",
    "\n",
    "\n",
    "]"
   ]
  },
  {
   "cell_type": "code",
   "execution_count": 139,
   "metadata": {},
   "outputs": [],
   "source": [
    "count = 2000\n",
    "for index, row in df.iterrows():\n",
    "    row['sku'] = str(2000 + index)"
   ]
  },
  {
   "cell_type": "code",
   "execution_count": 142,
   "metadata": {},
   "outputs": [
    {
     "data": {
      "text/plain": [
       "0      FIN-0      2001\\n1      2001\\n2      2001\\n3  ...\n",
       "1      FIN-0      2001\\n1      2001\\n2      2001\\n3  ...\n",
       "2      FIN-0      2001\\n1      2001\\n2      2001\\n3  ...\n",
       "3      FIN-0      2001\\n1      2001\\n2      2001\\n3  ...\n",
       "4      FIN-0      2001\\n1      2001\\n2      2001\\n3  ...\n",
       "                             ...                        \n",
       "162    FIN-0      2001\\n1      2001\\n2      2001\\n3  ...\n",
       "163    FIN-0      2001\\n1      2001\\n2      2001\\n3  ...\n",
       "164    FIN-0      2001\\n1      2001\\n2      2001\\n3  ...\n",
       "165    FIN-0      2001\\n1      2001\\n2      2001\\n3  ...\n",
       "166    FIN-0      2001\\n1      2001\\n2      2001\\n3  ...\n",
       "Name: sku, Length: 167, dtype: object"
      ]
     },
     "execution_count": 142,
     "metadata": {},
     "output_type": "execute_result"
    }
   ],
   "source": [
    "df['sku']"
   ]
  },
  {
   "cell_type": "code",
   "execution_count": 124,
   "metadata": {},
   "outputs": [],
   "source": [
    "df.loc[df['price'].isnull(), 'price'] = df['special_price']\n",
    "df.loc[df['price'] == df['special_price'], 'special_price'] = '__EMPTY__VALUE__'"
   ]
  },
  {
   "cell_type": "code",
   "execution_count": null,
   "metadata": {},
   "outputs": [],
   "source": [
    "for cat in list_cat:\n",
    "    df.loc[df['categories']]"
   ]
  },
  {
   "cell_type": "code",
   "execution_count": null,
   "metadata": {},
   "outputs": [],
   "source": []
  },
  {
   "cell_type": "code",
   "execution_count": null,
   "metadata": {},
   "outputs": [],
   "source": []
  },
  {
   "cell_type": "code",
   "execution_count": null,
   "metadata": {},
   "outputs": [],
   "source": []
  }
 ],
 "metadata": {
  "interpreter": {
   "hash": "901bbe481fb91f862c10b8e54f95d7da636ff35e7b7d7322c639cfaac06e5987"
  },
  "kernelspec": {
   "display_name": "Python 3 (ipykernel)",
   "language": "python",
   "name": "python3"
  },
  "language_info": {
   "codemirror_mode": {
    "name": "ipython",
    "version": 3
   },
   "file_extension": ".py",
   "mimetype": "text/x-python",
   "name": "python",
   "nbconvert_exporter": "python",
   "pygments_lexer": "ipython3",
   "version": "3.8.8"
  },
  "toc": {
   "base_numbering": 1,
   "nav_menu": {},
   "number_sections": true,
   "sideBar": true,
   "skip_h1_title": false,
   "title_cell": "Table of Contents",
   "title_sidebar": "Contents",
   "toc_cell": false,
   "toc_position": {},
   "toc_section_display": true,
   "toc_window_display": false
  }
 },
 "nbformat": 4,
 "nbformat_minor": 2
}
