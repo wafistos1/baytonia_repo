{
 "cells": [
  {
   "cell_type": "code",
   "execution_count": 5,
   "metadata": {},
   "outputs": [],
   "source": [
    "from selenium import webdriver\n",
    "from selenium.webdriver.common.keys import Keys\n",
    "from webdriver_manager.chrome import ChromeDriverManager\n",
    "from selenium.webdriver.common.by import By\n",
    "\n",
    "import os, sys\n",
    "import time,requests\n",
    "from bs4 import BeautifulSoup"
   ]
  },
  {
   "cell_type": "code",
   "execution_count": null,
   "metadata": {},
   "outputs": [],
   "source": []
  },
  {
   "cell_type": "code",
   "execution_count": null,
   "metadata": {},
   "outputs": [],
   "source": []
  },
  {
   "cell_type": "code",
   "execution_count": null,
   "metadata": {},
   "outputs": [],
   "source": []
  },
  {
   "cell_type": "code",
   "execution_count": 8,
   "metadata": {},
   "outputs": [
    {
     "name": "stderr",
     "output_type": "stream",
     "text": [
      "\n",
      "\n",
      "====== WebDriver manager ======\n",
      "Current google-chrome version is 90.0.4430\n",
      "Get LATEST driver version for 90.0.4430\n",
      "Driver [/home/wafi/.wdm/drivers/chromedriver/linux64/90.0.4430.24/chromedriver] found in cache\n"
     ]
    },
    {
     "name": "stdout",
     "output_type": "stream",
     "text": [
      "Message: no such element: Unable to locate element: {\"method\":\"xpath\",\"selector\":\"//*[@id=\"root\"]/div/div[6]/div/div/div\"}\n",
      "  (Session info: chrome=90.0.4430.212)\n",
      "\n",
      "Caught. Need to change proxy now\n"
     ]
    }
   ],
   "source": [
    "\n",
    "\n",
    "delayTime = 2\n",
    "audioToTextDelay = 10\n",
    "filename = 'test.mp3'\n",
    "byPassUrl = 'https://sedeclave.dgt.gob.es/WEB_NCIT_CONSULTA/solicitarCita.faces'\n",
    "googleIBMLink = 'https://speech-to-text-demo.ng.bluemix.net/'\n",
    "\n",
    "option = webdriver.ChromeOptions()\n",
    "option.add_argument('--disable-notifications')\n",
    "option.add_argument(\"--mute-audio\")\n",
    "# option.add_experimental_option(\"debuggerAddress\", \"127.0.0.1:9222\")\n",
    "option.add_argument(\"user-agent=Mozilla/5.0 (iPhone; CPU iPhone OS 10_3 like Mac OS X) AppleWebKit/602.1.50 (KHTML, like Gecko) CriOS/56.0.2924.75 Mobile/14E5239e Safari/602.1\")\n",
    "\n",
    "def audioToText(mp3Path):\n",
    "    pri\n",
    "    \n",
    "    driver.execute_script('''window.open(\"\",\"_blank\");''')\n",
    "    driver.switch_to.window(driver.window_handles[1])\n",
    "\n",
    "    driver.get(googleIBMLink)\n",
    "\n",
    "    # Upload file \n",
    "    time.sleep(1)\n",
    "    root = driver.find_element_by_id('root').find_elements_by_class_name('dropzone _container _container_large')\n",
    "    btn = driver.find_element(By.XPATH, '//*[@id=\"root\"]/div/input')\n",
    "    btn.send_keys(mp3Path)\n",
    "\n",
    "    # Audio to text is processing\n",
    "    time.sleep(audioToTextDelay)\n",
    "\n",
    "    text = driver.find_element(By.XPATH, '//*[@id=\"root\"]/div/div[6]/div/div/div').find_elements_by_tag_name('span')\n",
    "    result = \" \".join( [ each.text for each in text ] )\n",
    "\n",
    "    driver.close()\n",
    "    driver.switch_to.window(driver.window_handles[0])\n",
    "\n",
    "    return result\n",
    "\n",
    "def saveFile(content,filename):\n",
    "    with open(filename, \"wb\") as handle:\n",
    "        for data in content.iter_content():\n",
    "            handle.write(data)\n",
    "\n",
    "\n",
    "driver = webdriver.Chrome(ChromeDriverManager().install(), options=option)\n",
    "driver.get(byPassUrl)\n",
    "\n",
    "googleClass = driver.find_elements_by_class_name('g-recaptcha')[0]\n",
    "outeriframe = googleClass.find_element_by_tag_name('iframe')\n",
    "outeriframe.click()\n",
    "\n",
    "allIframesLen = driver.find_elements_by_tag_name('iframe')\n",
    "audioBtnFound = False\n",
    "audioBtnIndex = -1\n",
    "\n",
    "for index in range(len(allIframesLen)):\n",
    "    driver.switch_to.default_content()\n",
    "    iframe = driver.find_elements_by_tag_name('iframe')[index]\n",
    "    driver.switch_to.frame(iframe)\n",
    "    driver.implicitly_wait(delayTime)\n",
    "    try:\n",
    "        audioBtn = driver.find_element_by_id('recaptcha-audio-button') or driver.find_element_by_id('recaptcha-anchor')\n",
    "        audioBtn.click()\n",
    "        audioBtnFound = True\n",
    "        audioBtnIndex = index\n",
    "        break\n",
    "    except Exception as e:\n",
    "        pass\n",
    "\n",
    "if audioBtnFound:\n",
    "    try:\n",
    "        while True:\n",
    "            href = driver.find_element_by_id('audio-source').get_attribute('src')\n",
    "            response = requests.get(href, stream=True)\n",
    "            saveFile(response,filename)\n",
    "            response = audioToText(os.getcwd() + '/' + filename)\n",
    "            print(response)\n",
    "\n",
    "            driver.switch_to.default_content()\n",
    "            iframe = driver.find_elements_by_tag_name('iframe')[audioBtnIndex]\n",
    "            driver.switch_to.frame(iframe)\n",
    "\n",
    "            inputbtn = driver.find_element_by_id('audio-response')\n",
    "            inputbtn.send_keys(response)\n",
    "            inputbtn.send_keys(Keys.ENTER)\n",
    "\n",
    "            time.sleep(2)\n",
    "            errorMsg = driver.find_elements_by_class_name('rc-audiochallenge-error-message')[0]\n",
    "\n",
    "            if errorMsg.text == \"\" or errorMsg.value_of_css_property('display') == 'none':\n",
    "                print(\"Success\")\n",
    "                break\n",
    "             \n",
    "    except Exception as e:\n",
    "        print(e)\n",
    "        print('Caught. Need to change proxy now')\n",
    "else:\n",
    "    print('Button not found. This should not happen.')"
   ]
  },
  {
   "cell_type": "code",
   "execution_count": null,
   "metadata": {},
   "outputs": [],
   "source": []
  },
  {
   "cell_type": "code",
   "execution_count": null,
   "metadata": {},
   "outputs": [],
   "source": []
  },
  {
   "cell_type": "code",
   "execution_count": null,
   "metadata": {},
   "outputs": [],
   "source": []
  },
  {
   "cell_type": "code",
   "execution_count": null,
   "metadata": {},
   "outputs": [],
   "source": []
  },
  {
   "cell_type": "code",
   "execution_count": null,
   "metadata": {},
   "outputs": [],
   "source": []
  }
 ],
 "metadata": {
  "kernelspec": {
   "display_name": "Python 3",
   "language": "python",
   "name": "python3"
  },
  "language_info": {
   "codemirror_mode": {
    "name": "ipython",
    "version": 3
   },
   "file_extension": ".py",
   "mimetype": "text/x-python",
   "name": "python",
   "nbconvert_exporter": "python",
   "pygments_lexer": "ipython3",
   "version": "3.8.5"
  }
 },
 "nbformat": 4,
 "nbformat_minor": 4
}
