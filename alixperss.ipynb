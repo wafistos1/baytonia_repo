{
 "cells": [
  {
   "cell_type": "code",
   "execution_count": 35,
   "metadata": {},
   "outputs": [],
   "source": [
    "#imports here\n",
    "from selenium import webdriver\n",
    "from selenium.webdriver.common.keys import Keys\n",
    "from selenium.webdriver.support import expected_conditions as EC\n",
    "from selenium.webdriver.common.by import By\n",
    "from selenium.webdriver.support.wait import WebDriverWait\n",
    "from selenium.webdriver.firefox.options import Options\n",
    "import time\n",
    "import os\n",
    "from fake_useragent import UserAgent\n",
    "from random import randint\n",
    "import pandas as pd"
   ]
  },
  {
   "cell_type": "code",
   "execution_count": 72,
   "metadata": {},
   "outputs": [],
   "source": [
    "df = pd.read_excel('toto.xlsx')"
   ]
  },
  {
   "cell_type": "code",
   "execution_count": 61,
   "metadata": {},
   "outputs": [],
   "source": [
    "remove_cols = [col for col in df.columns if 'Unnamed' in col]\n",
    "df.drop(remove_cols, axis='columns', inplace=True)\n"
   ]
  },
  {
   "cell_type": "code",
   "execution_count": 46,
   "metadata": {},
   "outputs": [
    {
     "data": {
      "text/plain": [
       "1417.0"
      ]
     },
     "execution_count": 46,
     "metadata": {},
     "output_type": "execute_result"
    }
   ],
   "source": [
    "df.iloc[0][5]"
   ]
  },
  {
   "cell_type": "code",
   "execution_count": 73,
   "metadata": {},
   "outputs": [
    {
     "data": {
      "text/html": [
       "<div>\n",
       "<style scoped>\n",
       "    .dataframe tbody tr th:only-of-type {\n",
       "        vertical-align: middle;\n",
       "    }\n",
       "\n",
       "    .dataframe tbody tr th {\n",
       "        vertical-align: top;\n",
       "    }\n",
       "\n",
       "    .dataframe thead th {\n",
       "        text-align: right;\n",
       "    }\n",
       "</style>\n",
       "<table border=\"1\" class=\"dataframe\">\n",
       "  <thead>\n",
       "    <tr style=\"text-align: right;\">\n",
       "      <th></th>\n",
       "      <th>user</th>\n",
       "      <th>date</th>\n",
       "      <th>type</th>\n",
       "      <th>earnings</th>\n",
       "      <th>clicks</th>\n",
       "      <th>ad_requests</th>\n",
       "      <th>domain</th>\n",
       "    </tr>\n",
       "  </thead>\n",
       "  <tbody>\n",
       "    <tr>\n",
       "      <th>0</th>\n",
       "      <td>1234.0</td>\n",
       "      <td>2022-08-07</td>\n",
       "      <td>NaN</td>\n",
       "      <td>47.65</td>\n",
       "      <td>42</td>\n",
       "      <td>1417</td>\n",
       "      <td>1.4tech0.com</td>\n",
       "    </tr>\n",
       "    <tr>\n",
       "      <th>1</th>\n",
       "      <td>NaN</td>\n",
       "      <td>2022-08-07</td>\n",
       "      <td>NaN</td>\n",
       "      <td>571.64</td>\n",
       "      <td>199</td>\n",
       "      <td>4251</td>\n",
       "      <td>1.dertech-team.com</td>\n",
       "    </tr>\n",
       "    <tr>\n",
       "      <th>2</th>\n",
       "      <td>NaN</td>\n",
       "      <td>2022-08-07</td>\n",
       "      <td>NaN</td>\n",
       "      <td>28.49</td>\n",
       "      <td>14</td>\n",
       "      <td>238</td>\n",
       "      <td>10.dertech-team.com</td>\n",
       "    </tr>\n",
       "    <tr>\n",
       "      <th>3</th>\n",
       "      <td>NaN</td>\n",
       "      <td>2022-08-07</td>\n",
       "      <td>NaN</td>\n",
       "      <td>8.52</td>\n",
       "      <td>11</td>\n",
       "      <td>727</td>\n",
       "      <td>11.dertech-team.com</td>\n",
       "    </tr>\n",
       "    <tr>\n",
       "      <th>4</th>\n",
       "      <td>NaN</td>\n",
       "      <td>2022-08-07</td>\n",
       "      <td>NaN</td>\n",
       "      <td>2.80</td>\n",
       "      <td>1</td>\n",
       "      <td>29</td>\n",
       "      <td>12.dertech-team.com</td>\n",
       "    </tr>\n",
       "    <tr>\n",
       "      <th>...</th>\n",
       "      <td>...</td>\n",
       "      <td>...</td>\n",
       "      <td>...</td>\n",
       "      <td>...</td>\n",
       "      <td>...</td>\n",
       "      <td>...</td>\n",
       "      <td>...</td>\n",
       "    </tr>\n",
       "    <tr>\n",
       "      <th>60</th>\n",
       "      <td>NaN</td>\n",
       "      <td>2022-08-07</td>\n",
       "      <td>NaN</td>\n",
       "      <td>611.43</td>\n",
       "      <td>255</td>\n",
       "      <td>6674</td>\n",
       "      <td>s5.dertech-team.com</td>\n",
       "    </tr>\n",
       "    <tr>\n",
       "      <th>61</th>\n",
       "      <td>NaN</td>\n",
       "      <td>2022-08-07</td>\n",
       "      <td>NaN</td>\n",
       "      <td>58.11</td>\n",
       "      <td>29</td>\n",
       "      <td>1570</td>\n",
       "      <td>s6.dertech-team.com</td>\n",
       "    </tr>\n",
       "    <tr>\n",
       "      <th>62</th>\n",
       "      <td>NaN</td>\n",
       "      <td>NaN</td>\n",
       "      <td>NaN</td>\n",
       "      <td>3476.38</td>\n",
       "      <td>1993</td>\n",
       "      <td>61828</td>\n",
       "      <td>NaN</td>\n",
       "    </tr>\n",
       "    <tr>\n",
       "      <th>63</th>\n",
       "      <td>1234.0</td>\n",
       "      <td>NaN</td>\n",
       "      <td>0.0</td>\n",
       "      <td>6952.76</td>\n",
       "      <td>3986</td>\n",
       "      <td>123656</td>\n",
       "      <td>NaN</td>\n",
       "    </tr>\n",
       "    <tr>\n",
       "      <th>64</th>\n",
       "      <td>NaN</td>\n",
       "      <td>NaN</td>\n",
       "      <td>NaN</td>\n",
       "      <td>27811.04</td>\n",
       "      <td>15944</td>\n",
       "      <td>494624</td>\n",
       "      <td>NaN</td>\n",
       "    </tr>\n",
       "  </tbody>\n",
       "</table>\n",
       "<p>65 rows × 7 columns</p>\n",
       "</div>"
      ],
      "text/plain": [
       "      user        date  type  earnings  clicks  ad_requests  \\\n",
       "0   1234.0  2022-08-07   NaN     47.65      42         1417   \n",
       "1      NaN  2022-08-07   NaN    571.64     199         4251   \n",
       "2      NaN  2022-08-07   NaN     28.49      14          238   \n",
       "3      NaN  2022-08-07   NaN      8.52      11          727   \n",
       "4      NaN  2022-08-07   NaN      2.80       1           29   \n",
       "..     ...         ...   ...       ...     ...          ...   \n",
       "60     NaN  2022-08-07   NaN    611.43     255         6674   \n",
       "61     NaN  2022-08-07   NaN     58.11      29         1570   \n",
       "62     NaN         NaN   NaN   3476.38    1993        61828   \n",
       "63  1234.0         NaN   0.0   6952.76    3986       123656   \n",
       "64     NaN         NaN   NaN  27811.04   15944       494624   \n",
       "\n",
       "                 domain  \n",
       "0          1.4tech0.com  \n",
       "1    1.dertech-team.com  \n",
       "2   10.dertech-team.com  \n",
       "3   11.dertech-team.com  \n",
       "4   12.dertech-team.com  \n",
       "..                  ...  \n",
       "60  s5.dertech-team.com  \n",
       "61  s6.dertech-team.com  \n",
       "62                  NaN  \n",
       "63                  NaN  \n",
       "64                  NaN  \n",
       "\n",
       "[65 rows x 7 columns]"
      ]
     },
     "execution_count": 73,
     "metadata": {},
     "output_type": "execute_result"
    }
   ],
   "source": [
    "df "
   ]
  },
  {
   "cell_type": "code",
   "execution_count": 68,
   "metadata": {},
   "outputs": [],
   "source": [
    "df.loc['Total'] = df.sum(numeric_only=True)"
   ]
  },
  {
   "cell_type": "code",
   "execution_count": 69,
   "metadata": {},
   "outputs": [],
   "source": [
    "df.loc['Total'] = df.loc[:,['earnings','clicks', 'ad_requests']].sum(axis = 0)"
   ]
  },
  {
   "cell_type": "code",
   "execution_count": 71,
   "metadata": {},
   "outputs": [],
   "source": [
    "df.to_excel('toto.xlsx', index=False)"
   ]
  },
  {
   "cell_type": "code",
   "execution_count": null,
   "metadata": {},
   "outputs": [],
   "source": []
  },
  {
   "cell_type": "code",
   "execution_count": null,
   "metadata": {},
   "outputs": [],
   "source": []
  },
  {
   "cell_type": "code",
   "execution_count": null,
   "metadata": {},
   "outputs": [],
   "source": []
  },
  {
   "cell_type": "code",
   "execution_count": null,
   "metadata": {},
   "outputs": [],
   "source": []
  },
  {
   "cell_type": "code",
   "execution_count": null,
   "metadata": {},
   "outputs": [],
   "source": []
  },
  {
   "cell_type": "code",
   "execution_count": 5,
   "metadata": {
    "scrolled": true
   },
   "outputs": [
    {
     "name": "stdout",
     "output_type": "stream",
     "text": [
      "Opera/9.80 (Windows NT 6.0) Presto/2.12.388 Version/12.14\n"
     ]
    },
    {
     "name": "stderr",
     "output_type": "stream",
     "text": [
      "<ipython-input-5-5315509cced7>:7: DeprecationWarning: use options instead of firefox_options\n",
      "  driver = webdriver.Firefox(firefox_options=options)\n"
     ]
    }
   ],
   "source": [
    "options = Options()\n",
    "ua = UserAgent()\n",
    "userAgent = ua.random\n",
    "print(userAgent)\n",
    "options.add_argument(f'user-agent={userAgent}')\n",
    "#options.add_argument(\"--headless\")\n",
    "driver = webdriver.Firefox(firefox_options=options)\n",
    "#     driver = webdriver.Firefox()\n"
   ]
  },
  {
   "cell_type": "code",
   "execution_count": null,
   "metadata": {},
   "outputs": [],
   "source": []
  },
  {
   "cell_type": "code",
   "execution_count": null,
   "metadata": {},
   "outputs": [],
   "source": []
  },
  {
   "cell_type": "code",
   "execution_count": null,
   "metadata": {},
   "outputs": [],
   "source": []
  },
  {
   "cell_type": "code",
   "execution_count": null,
   "metadata": {},
   "outputs": [],
   "source": []
  },
  {
   "cell_type": "code",
   "execution_count": null,
   "metadata": {},
   "outputs": [],
   "source": []
  },
  {
   "cell_type": "code",
   "execution_count": null,
   "metadata": {},
   "outputs": [],
   "source": []
  },
  {
   "cell_type": "code",
   "execution_count": null,
   "metadata": {},
   "outputs": [],
   "source": []
  },
  {
   "cell_type": "code",
   "execution_count": 6,
   "metadata": {},
   "outputs": [],
   "source": [
    "driver.get(f'https://www.aliexpress.com/store/group/Silicone-mold/2287068_509175263/7.html')"
   ]
  },
  {
   "cell_type": "code",
   "execution_count": 8,
   "metadata": {},
   "outputs": [
    {
     "data": {
      "text/plain": [
       "27"
      ]
     },
     "execution_count": 8,
     "metadata": {},
     "output_type": "execute_result"
    }
   ],
   "source": [
    "items = driver.find_elements_by_xpath('//li[@class=\"item\"]')\n",
    "len(items)"
   ]
  },
  {
   "cell_type": "code",
   "execution_count": null,
   "metadata": {},
   "outputs": [],
   "source": []
  },
  {
   "cell_type": "code",
   "execution_count": null,
   "metadata": {},
   "outputs": [],
   "source": []
  },
  {
   "cell_type": "code",
   "execution_count": null,
   "metadata": {},
   "outputs": [],
   "source": []
  },
  {
   "cell_type": "code",
   "execution_count": null,
   "metadata": {},
   "outputs": [],
   "source": []
  },
  {
   "cell_type": "code",
   "execution_count": null,
   "metadata": {},
   "outputs": [],
   "source": []
  },
  {
   "cell_type": "code",
   "execution_count": null,
   "metadata": {},
   "outputs": [],
   "source": []
  },
  {
   "cell_type": "code",
   "execution_count": 6,
   "metadata": {},
   "outputs": [
    {
     "ename": "KeyboardInterrupt",
     "evalue": "",
     "output_type": "error",
     "traceback": [
      "\u001b[0;31m---------------------------------------------------------------------------\u001b[0m",
      "\u001b[0;31mKeyboardInterrupt\u001b[0m                         Traceback (most recent call last)",
      "\u001b[0;32m<ipython-input-6-a674f789c5e9>\u001b[0m in \u001b[0;36m<module>\u001b[0;34m\u001b[0m\n\u001b[1;32m     16\u001b[0m \u001b[0;34m\u001b[0m\u001b[0m\n\u001b[1;32m     17\u001b[0m         \u001b[0mlinks_products\u001b[0m\u001b[0;34m.\u001b[0m\u001b[0mappend\u001b[0m\u001b[0;34m(\u001b[0m\u001b[0mproduct\u001b[0m\u001b[0;34m.\u001b[0m\u001b[0mget_attribute\u001b[0m\u001b[0;34m(\u001b[0m\u001b[0;34m'href'\u001b[0m\u001b[0;34m)\u001b[0m\u001b[0;34m)\u001b[0m\u001b[0;34m\u001b[0m\u001b[0;34m\u001b[0m\u001b[0m\n\u001b[0;32m---> 18\u001b[0;31m         \u001b[0mtime\u001b[0m\u001b[0;34m.\u001b[0m\u001b[0msleep\u001b[0m\u001b[0;34m(\u001b[0m\u001b[0;36m1\u001b[0m\u001b[0;34m)\u001b[0m\u001b[0;34m\u001b[0m\u001b[0;34m\u001b[0m\u001b[0m\n\u001b[0m\u001b[1;32m     19\u001b[0m     \u001b[0mtime\u001b[0m\u001b[0;34m.\u001b[0m\u001b[0msleep\u001b[0m\u001b[0;34m(\u001b[0m\u001b[0;36m1\u001b[0m\u001b[0;34m)\u001b[0m\u001b[0;34m\u001b[0m\u001b[0;34m\u001b[0m\u001b[0m\n\u001b[1;32m     20\u001b[0m \u001b[0mprint\u001b[0m\u001b[0;34m(\u001b[0m\u001b[0mlen\u001b[0m\u001b[0;34m(\u001b[0m\u001b[0mlinks_products\u001b[0m\u001b[0;34m)\u001b[0m\u001b[0;34m)\u001b[0m\u001b[0;34m\u001b[0m\u001b[0;34m\u001b[0m\u001b[0m\n",
      "\u001b[0;31mKeyboardInterrupt\u001b[0m: "
     ]
    }
   ],
   "source": [
    "\n",
    "links_products = []\n",
    "def return_details(value, list_dic):\n",
    "        val = ''\n",
    "        for i in list_dic:\n",
    "            if value in i:\n",
    "                val = i.replace(value, '')\n",
    "        return val\n",
    "for i in range(1, 21):\n",
    "    driver.get(f'https://midasfurniture.com/ksa_ar/accessories/artificial-flowers-and-trees/flowers-and-plants/page/{i}.html')\n",
    "    \n",
    "    products = driver.find_elements_by_class_name('product-image')\n",
    "    \n",
    "    \n",
    "    #Forloop to get all url products\n",
    "    for product in products:\n",
    "\n",
    "        links_products.append(product.get_attribute('href'))\n",
    "        time.sleep(1)\n",
    "    time.sleep(1)\n",
    "print(len(links_products))"
   ]
  },
  {
   "cell_type": "code",
   "execution_count": null,
   "metadata": {},
   "outputs": [],
   "source": []
  },
  {
   "cell_type": "code",
   "execution_count": null,
   "metadata": {},
   "outputs": [],
   "source": []
  },
  {
   "cell_type": "code",
   "execution_count": null,
   "metadata": {},
   "outputs": [],
   "source": []
  },
  {
   "cell_type": "code",
   "execution_count": null,
   "metadata": {},
   "outputs": [],
   "source": []
  },
  {
   "cell_type": "code",
   "execution_count": 5,
   "metadata": {},
   "outputs": [
    {
     "name": "stdout",
     "output_type": "stream",
     "text": [
      "Cat1: \n",
      "Cat2: \n",
      "Cat3: \n",
      "Mater \n",
      "Detail:     منشفة 1 قطعة\n",
      "Color:     وردى فاتح\n",
      "['منشفة ', ' عرض 30 ', ' عمق 30 ', ' إرتفاع سم']\n",
      "width 30\n",
      "Pas de height\n",
      "length 30\n",
      "Style:   معاصر\n",
      "Cat1: إكسسوارات\n",
      "Cat2: اكسسوارات الحمام\n",
      "Cat3: \n",
      "Mater \n",
      "Detail:     فوط عدد 1 قطعة\n",
      "Color:   بيج\n",
      "['   فوط عرض 140 ', ' عمق 70 سم']\n",
      "width 140\n",
      "Pas de height\n",
      "length 70\n",
      "Style: \n",
      "Cat1: إكسسوارات\n",
      "Cat2: اكسسوارات الحمام\n",
      "Cat3: \n",
      "Mater \n",
      "Detail:     فوط عدد 1 قطعة\n",
      "Color:   غير متاح\n",
      "['   فوط عرض 140 ', ' عمق 70 سم']\n",
      "width 140\n",
      "Pas de height\n",
      "length 70\n",
      "Style: \n",
      "Cat1: إكسسوارات\n",
      "Cat2: اكسسوارات الحمام\n",
      "Cat3: \n",
      "Mater \n",
      "Detail:     فوط عدد 1 قطعة\n",
      "Color:   أخضر فاتح\n",
      "['   فوط عرض 140 ', ' عمق 70 سم']\n",
      "width 140\n",
      "Pas de height\n",
      "length 70\n",
      "Style: \n",
      "Cat1: \n",
      "Cat2: \n",
      "Cat3: \n",
      "Mater \n",
      "Detail:     فوط عدد 1 قطعة\n",
      "Color:   بنفسجي ف\n",
      "['   فوط عرض 140 ', ' عمق 70 سم']\n",
      "width 140\n",
      "Pas de height\n",
      "length 70\n",
      "Style: \n",
      "Cat1: \n",
      "Cat2: \n",
      "Cat3: \n",
      "Mater \n",
      "Detail:     منشفة 1 قطعة\n",
      "Color:     أبيض\n",
      "['منشفة ', ' عرض 70 ', ' عمق 140 ', ' إرتفاع سم']\n",
      "width 70\n",
      "Pas de height\n",
      "length 140\n",
      "Style:   معاصر\n",
      "Cat1: إكسسوارات\n",
      "Cat2: اكسسوارات الحمام\n",
      "Cat3: \n",
      "Mater \n",
      "Detail:     فوط عدد 2 قطعة\n",
      "Color:   أزرق\n",
      "['   فوط عرض 70 ', ' عمق 50 سم']\n",
      "width 70\n",
      "Pas de height\n",
      "length 50\n",
      "Style: \n",
      "Cat1: إكسسوارات\n",
      "Cat2: اكسسوارات الحمام\n",
      "Cat3: \n",
      "Mater \n",
      "Detail:     طقم مناشف 2 قطعة\n",
      "Color:     أزرق فاتح\n",
      "['مناشف ', ' عرض 50 ', ' عمق 70 ', ' إرتفاع سم']\n",
      "width 50\n",
      "Pas de height\n",
      "length 70\n",
      "Style:   معاصر\n",
      "Cat1: إكسسوارات\n",
      "Cat2: اكسسوارات الحمام\n",
      "Cat3: \n",
      "Mater \n",
      "Detail:     فوط عدد 2 قطعة\n",
      "Color:   أخضر فاتح\n",
      "['   فوط عرض 70 ', ' عمق 50 سم']\n",
      "width 70\n",
      "Pas de height\n",
      "length 50\n",
      "Style: \n",
      "Cat1: إكسسوارات\n",
      "Cat2: اكسسوارات الحمام\n",
      "Cat3: \n",
      "Mater \n",
      "Detail:     فوط عدد 2 قطعة\n",
      "Color:   أبيض\n",
      "['   فوط عرض 70 ', ' عمق 50 سم']\n",
      "width 70\n",
      "Pas de height\n",
      "length 50\n",
      "Style: \n",
      "Cat1: إكسسوارات\n",
      "Cat2: اكسسوارات الحمام\n",
      "Cat3: \n",
      "Mater \n",
      "Detail:     فوط عدد 2 قطعة\n",
      "Color:   بنفسجي ف\n",
      "['   فوط عرض 70 ', ' عمق 50 سم']\n",
      "width 70\n",
      "Pas de height\n",
      "length 50\n",
      "Style: \n",
      "Cat1: إكسسوارات\n",
      "Cat2: اكسسوارات الحمام\n",
      "Cat3: \n",
      "Mater \n",
      "Detail:     فوط عدد 4 قطعة\n",
      "Color:   كحلي\n",
      "['   فوط عرض 30 ', ' عمق 30 سم']\n",
      "width 30\n",
      "Pas de height\n",
      "length 30\n",
      "Style: \n",
      "Cat1: إكسسوارات\n",
      "Cat2: اكسسوارات الحمام\n",
      "Cat3: \n",
      "Mater \n",
      "Detail:     طقم مناشف 4 قطعة\n",
      "Color:     أزرق فاتح\n",
      "['مناشف ', ' عرض 30 ', ' عمق 30 ', ' إرتفاع سم']\n",
      "width 30\n",
      "Pas de height\n",
      "length 30\n",
      "Style:   معاصر\n",
      "Cat1: إكسسوارات\n",
      "Cat2: اكسسوارات الحمام\n",
      "Cat3: \n",
      "Mater \n",
      "Detail:     فوط عدد 4 قطعة\n",
      "Color:   أخضر فاتح\n",
      "['   فوط عرض 30 ', ' عمق 30 سم']\n",
      "width 30\n",
      "Pas de height\n",
      "length 30\n",
      "Style: \n",
      "Cat1: إكسسوارات\n",
      "Cat2: اكسسوارات الحمام\n",
      "Cat3: \n",
      "Mater \n",
      "Detail:     فوط عدد 4 قطعة\n",
      "Color:   بنفسجي ف\n",
      "['   فوط عرض 30 ', ' عمق 30 سم']\n",
      "width 30\n",
      "Pas de height\n",
      "length 30\n",
      "Style: \n",
      "Cat1: إكسسوارات\n",
      "Cat2: اكسسوارات الحمام\n",
      "Cat3: \n",
      "Mater \n",
      "Detail:     علبة مناديل عدد 1 قطعة\n",
      "Color:   بني غامق\n",
      "['   علبة مناديل عرض 25 ', ' عمق 14 ', ' ارتفاع 8 سم']\n",
      "width 25\n",
      "height 8\n",
      "length 14\n",
      "Style: \n",
      "Cat1: \n",
      "Cat2: \n",
      "Cat3: \n",
      "Mater    لفائف الزنك& الزجاج\n",
      "Detail:     صندوق محارم 1 قطعة\n",
      "Color:     ذهبى\n",
      "['صندوق محارم ', ' عرض 27 ', ' عمق 16 ', ' إرتفاع 10 سم']\n",
      "width 27\n",
      "height 10\n",
      "length 16\n",
      "Style:   معاصر\n",
      "Cat1: إكسسوارات\n",
      "Cat2: اكسسوارات الحمام\n",
      "Cat3: \n",
      "Mater    لفائف الزنك& الزجاج\n",
      "Detail:     صندوق محارم 1 قطعة\n",
      "Color:     ذهبى، أبيض\n",
      "['صندوق محارم ', ' عرض 27 ', ' عمق 16 ', ' إرتفاع 10 سم']\n",
      "width 27\n",
      "height 10\n",
      "length 16\n",
      "Style:   معاصر\n",
      "Cat1: إكسسوارات\n",
      "Cat2: اكسسوارات الحمام\n",
      "Cat3: \n",
      "Mater \n",
      "Detail:     حصيرة أرضية الحمام عدد 1 قطعة\n",
      "Color:   بني\n",
      "['   حصيرة أرضية الحمام العرض 80 ', ' العمق 50 ', ' الارتفاع 2 سم']\n",
      "width 80\n",
      "height 2\n",
      "length 50\n",
      "Style: \n",
      "Cat1: إكسسوارات\n",
      "Cat2: اكسسوارات الحمام\n",
      "Cat3: \n",
      "Mater \n",
      "Detail:     سلة مهملات 1 قطعة\n",
      "Color:     فضى\n",
      "['   سلة مهملات ', ' عرض 22 ', ' عمق 22 ', ' ارتفاع 29 سم']\n",
      "width 22\n",
      "height 29\n",
      "length 22\n",
      "Style:   معاصر\n",
      "Cat1: إكسسوارات\n",
      "Cat2: اكسسوارات الحمام\n",
      "Cat3: \n",
      "Mater \n",
      "Detail:     صندوق نفايات عدد 1 قطعة\n",
      "Color:   ذهبي\n",
      "['   صندوق نفايات عرض 22 ', ' عمق 22 ', ' ارتفاع 29 سم']\n",
      "width 22\n",
      "height 29\n",
      "length 22\n",
      "Style: \n",
      "Cat1: إكسسوارات\n",
      "Cat2: اكسسوارات الحمام\n",
      "Cat3: \n",
      "Mater \n",
      "Detail:     علبة مناديل 1 قطعة\n",
      "Color:   فضي\n",
      "['    علبة مناديل ', ' عرض 25 ', ' عمق 14 ', ' ارتفاع 9 سم']\n",
      "width 25\n",
      "height 9\n",
      "length 14\n",
      "Style: \n",
      "Cat1: إكسسوارات\n",
      "Cat2: اكسسوارات الحمام\n",
      "Cat3: \n",
      "Mater \n",
      "Detail:     سلة غسيل 3 قطع\n",
      "Color:     ألوان متنوعة\n",
      "['   سلة غسيل ', ' عرض 38 ', ' عمق 38 ', ' ارتفاع 39 سم  سلة غسيل ', ' عرض 38 ', ' عمق 38 ', ' ارتفاع 39 سم  سلة غسيل ', ' عرض 38 ', ' عمق 38 ', ' ارتفاع 39 سم']\n",
      "width 38\n",
      "height 39\n",
      "length 38\n",
      "Style:   معاصر\n",
      "Cat1: إكسسوارات\n",
      "Cat2: اكسسوارات الحمام\n",
      "Cat3: \n",
      "Mater \n",
      "Detail:     سلة غسيل 3 قطع\n",
      "Color:     بنى\n",
      "['   سلة غسيل ', ' عرض 48 ', ' عمق 48 ', ' ارتفاع 34 سم  سلة غسيل ', ' عرض 48 ', ' عمق 48 ', ' ارتفاع 34 سم  سلة غسيل ', ' عرض 48 ', ' عمق 48 ', ' ارتفاع 34 سم']\n",
      "width 48\n",
      "height 34\n",
      "length 48\n",
      "Style:   معاصر\n",
      "Cat1: إكسسوارات\n",
      "Cat2: اكسسوارات الحمام\n",
      "Cat3: \n",
      "Mater \n",
      "Detail:     سلة غسيل 3 قطع\n",
      "Color:     بنى\n",
      "['   سلة غسيل ', ' عرض 41 ', ' عمق 41 ', ' ارتفاع 51 سم  سلة غسيل ', ' عرض 41 ', ' عمق 41 ', ' ارتفاع 51 سم  سلة غسيل ', ' عرض 41 ', ' عمق 41 ', ' ارتفاع 51 سم']\n",
      "width 41\n",
      "height 51\n",
      "length 41\n",
      "Style:   معاصر\n",
      "Cat1: إكسسوارات\n",
      "Cat2: اكسسوارات الحمام\n",
      "Cat3: \n",
      "Mater    أعشاب بحرية\n",
      "Detail:     سلة غسيل 2 قطعة\n",
      "Color:     بنى\n",
      "['   سلة غسيل ', ' عرض 45 ', ' عمق 45 ', ' ارتفاع 50 سم  سلة غسيل ', ' عرض 45 ', ' عمق 45 ', ' ارتفاع 50 سم']\n",
      "width 45\n",
      "height 50\n",
      "length 45\n",
      "Style:   معاصر\n",
      "Cat1: إكسسوارات\n",
      "Cat2: اكسسوارات الحمام\n",
      "Cat3: \n",
      "Mater \n",
      "Detail:     سلة غسيل 3 قطع\n",
      "Color:     بنى، أبيض\n",
      "['   سلة غسيل ', ' عرض 40 ', ' عمق 40 ', ' ارتفاع 54 سم  سلة غسيل ', ' عرض 40 ', ' عمق 40 ', ' ارتفاع 54 سم  سلة غسيل ', ' عرض 40 ', ' عمق 40 ', ' ارتفاع 54 سم']\n",
      "width 40\n",
      "height 54\n",
      "length 40\n",
      "Style:   معاصر\n",
      "Cat1: إكسسوارات\n",
      "Cat2: اكسسوارات الحمام\n",
      "Cat3: \n",
      "Mater \n",
      "Detail:     سلة غسيل 3 قطع\n",
      "Color:     بنى، أبيض\n",
      "['   سلة غسيل ', ' عرض 40 ', ' عمق 40 ', ' ارتفاع 42 سم  سلة غسيل ', ' عرض 40 ', ' عمق 40 ', ' ارتفاع 42 سم  سلة غسيل ', ' عرض 40 ', ' عمق 40 ', ' ارتفاع 42 سم']\n",
      "width 40\n",
      "height 42\n",
      "length 40\n",
      "Style:   معاصر\n",
      "Cat1: إكسسوارات\n",
      "Cat2: اكسسوارات الحمام\n",
      "Cat3: \n",
      "Mater \n",
      "Detail:     سلة غسيل 1 قطعة\n",
      "Color:     أسود، كريمي\n",
      "['   سلة غسيل ', ' عرض 25 ', ' عمق 25 ', ' ارتفاع 25 سم']\n",
      "width 25\n",
      "height 25\n",
      "length 25\n",
      "Style:   معاصر\n",
      "Cat1: إكسسوارات\n",
      "Cat2: اكسسوارات الحمام\n",
      "Cat3: \n",
      "Mater \n",
      "Detail:     سلة غسيل 1 قطعة\n",
      "Color:     أزرق، كريمي\n",
      "['   سلة غسيل ', ' عرض 25 ', ' عمق 25 ', ' ارتفاع 25 سم']\n",
      "width 25\n",
      "height 25\n",
      "length 25\n",
      "Style:   معاصر\n",
      "Cat1: إكسسوارات\n",
      "Cat2: اكسسوارات الحمام\n",
      "Cat3: \n",
      "Mater    معدن / بلاستيك\n",
      "Detail:     سلة مهملات 1 قطعة\n",
      "Color:     فضى، رمادى\n",
      "['   سلة مهملات ', ' عرض 26 ', ' عمق 34 ', ' ارتفاع 42 سم']\n",
      "width 26\n",
      "height 42\n",
      "length 34\n",
      "Style:   معاصر\n",
      "Cat1: إكسسوارات\n",
      "Cat2: اكسسوارات الحمام\n",
      "Cat3: \n",
      "Mater    بوليستر\n",
      "Detail:     سلة غسيل 1 قطعة\n",
      "Color:     بيج داكن، فضى\n",
      "['   سلة غسيل ', ' عرض 38 ', ' عمق 38 ', ' ارتفاع 54 سم']\n",
      "width 38\n",
      "height 54\n",
      "length 38\n",
      "Style:   معاصر\n",
      "Cat1: إكسسوارات\n",
      "Cat2: اكسسوارات الحمام\n",
      "Cat3: \n",
      "Mater \n",
      "Detail:     سلة غسيل 1 قطعة  سلة غسيل 1 قطعة  سلة غسيل 1 قطعة\n",
      "Color:     أسود\n",
      "['   سلة غسيل ', ' عرض 36 ', ' عمق 26 ', ' ارتفاع 19 سم  سلة غسيل ', ' عرض 33 ', ' عمق 23 ', ' ارتفاع 18 سم  سلة غسيل ', ' عرض 30 ', ' عمق 20 ', ' ارتفاع 16 سم']\n",
      "width 36\n",
      "height 19\n",
      "length 26\n",
      "Style:   معاصر\n",
      "Cat1: إكسسوارات\n",
      "Cat2: اكسسوارات الحمام\n",
      "Cat3: \n",
      "Mater    قطن / بوليستر\n",
      "Detail:     سلة غسيل 1 قطعة  سلة غسيل 1 قطعة\n",
      "Color:     رمادى داكن\n",
      "['   سلة غسيل ', ' عرض 26 ', ' عمق 19 ', ' ارتفاع 8 سم  سلة غسيل ', ' عرض 22 ', ' عمق 15 ', ' ارتفاع 6 سم']\n",
      "width 26\n",
      "height 8\n",
      "length 19\n",
      "Style:   معاصر\n",
      "Cat1: إكسسوارات\n",
      "Cat2: اكسسوارات الحمام\n",
      "Cat3: \n",
      "Mater    بوليستر\n",
      "Detail:     سلة غسيل 1 قطعة  سلة غسيل 1 قطعة\n",
      "Color:     أسود\n",
      "['   سلة غسيل ', ' عرض 18 ', ' عمق 18 ', ' ارتفاع 12 سم  سلة غسيل ', ' عرض 14 ', ' عمق 14 ', ' ارتفاع 10 سم']\n",
      "width 18\n",
      "height 12\n",
      "length 18\n",
      "Style:   معاصر\n",
      "Cat1: إكسسوارات\n",
      "Cat2: اكسسوارات الحمام\n",
      "Cat3: \n",
      "Mater    بوليستر / قطن\n",
      "Detail:     سلة غسيل 1 قطعة  سلة غسيل 1 قطعة\n",
      "Color:     أبيض\n",
      "['   سلة غسيل ', ' عرض 18 ', ' عمق 18 ', ' ارتفاع 12 سم  سلة غسيل ', ' عرض 14 ', ' عمق 14 ', ' ارتفاع 10 سم']\n",
      "width 18\n",
      "height 12\n",
      "length 18\n",
      "Style:   معاصر\n",
      "Cat1: إكسسوارات\n",
      "Cat2: اكسسوارات الحمام\n",
      "Cat3: \n",
      "Mater    بوليستر / معدن\n",
      "Detail:     سلة غسيل 1 قطعة\n",
      "Color:     أسود، فضى\n",
      "['   سلة غسيل ', ' عرض 38 ', ' عمق 38 ', ' ارتفاع 54 سم']\n",
      "width 38\n",
      "height 54\n",
      "length 38\n",
      "Style:   معاصر\n",
      "Cat1: إكسسوارات\n",
      "Cat2: اكسسوارات الحمام\n",
      "Cat3: \n",
      "Mater    أوراق النخيل\n",
      "Detail:     سلة غسيل 1 قطعة\n",
      "Color:     بيج، بنى فاتح\n",
      "['   سلة غسيل ', ' عرض 35 ', ' عمق 35 ', ' ارتفاع 52 سم']\n",
      "width 35\n",
      "height 52\n",
      "length 35\n",
      "Style:   معاصر\n"
     ]
    },
    {
     "name": "stdout",
     "output_type": "stream",
     "text": [
      "Cat1: إكسسوارات\n",
      "Cat2: اكسسوارات الحمام\n",
      "Cat3: \n",
      "Mater    مادة الجوت\n",
      "Detail:     سلة غسيل 1 قطعة\n",
      "Color:     بنى\n",
      "['   سلة غسيل ', ' عرض 38 ', ' عمق 52 ', ' ارتفاع 63 سم']\n",
      "width 38\n",
      "height 63\n",
      "length 52\n",
      "Style:   معاصر\n",
      "Cat1: إكسسوارات\n",
      "Cat2: اكسسوارات الحمام\n",
      "Cat3: \n",
      "Mater    بوليستر\n",
      "Detail:     سلة غسيل 1 قطعة\n",
      "Color:     أبيض، بنى فاتح\n",
      "['   سلة غسيل ', ' عرض 40 ', ' عمق 40 ', ' ارتفاع 50 سم']\n",
      "width 40\n",
      "height 50\n",
      "length 40\n",
      "Style:   معاصر\n",
      "Cat1: إكسسوارات\n",
      "Cat2: اكسسوارات الحمام\n",
      "Cat3: \n",
      "Mater     خشب\n",
      "Detail:     موزع سائل الصابون 1 قطعة\n",
      "Color:      بنى فاتح، أسود\n",
      "['   موزع سائل الصابون ', ' عرض 8 ', ' عمق 8 ', ' ارتفاع 11 سم']\n",
      "width 8\n",
      "height 11\n",
      "length 8\n",
      "Style:    معاصر\n",
      "Cat1: إكسسوارات\n",
      "Cat2: اكسسوارات الحمام\n",
      "Cat3: \n",
      "Mater     خشب\n",
      "Detail:     صحن صابون 1 قطعة\n",
      "Color:      بنى فاتح\n",
      "['   صحن صابون ', ' عرض 11 ', ' عمق 11 ', ' ارتفاع 2 سم']\n",
      "width 11\n",
      "height 2\n",
      "length 11\n",
      "Style:    معاصر\n",
      "Cat1: إكسسوارات\n",
      "Cat2: اكسسوارات الحمام\n",
      "Cat3: \n",
      "Mater     زجاج\n",
      "Detail:     موزع سائل الصابون 1 قطعة\n",
      "Color:      أخضر، برونزى\n",
      "['   موزع سائل الصابون ', ' عرض 7 ', ' عمق 7 ', ' ارتفاع 17 سم']\n",
      "width 7\n",
      "height 17\n",
      "length 7\n",
      "Style:    معاصر\n",
      "Cat1: إكسسوارات\n",
      "Cat2: اكسسوارات الحمام\n",
      "Cat3: \n",
      "Mater \n",
      "Detail:     سلة مهملات 1 قطعة\n",
      "Color:     بنى داكن\n",
      "['   سلة مهملات ', ' عرض 24 ', ' عمق 24 ', ' ارتفاع 29 سم']\n",
      "width 24\n",
      "height 29\n",
      "length 24\n",
      "Style:   معاصر\n",
      "Cat1: إكسسوارات\n",
      "Cat2: اكسسوارات الحمام\n",
      "Cat3: \n",
      "Mater \n",
      "Detail:     سلة مهملات 1 قطعة\n",
      "Color:     بنى داكن\n",
      "['   سلة مهملات ', ' عرض 27 ', ' عمق 27 ', ' ارتفاع 29 سم']\n",
      "width 27\n",
      "height 29\n",
      "length 27\n",
      "Style:   معاصر\n",
      "Cat1: إكسسوارات\n",
      "Cat2: اكسسوارات الحمام\n",
      "Cat3: \n",
      "Mater    مواد بلاستيكية\n",
      "Detail:     سلة غسيل 3 قطع\n",
      "Color:     بنى داكن، ألوان متنوعة\n",
      "['   سلة غسيل ', ' عرض 48 ', ' عمق 48 ', ' ارتفاع 33 سم']\n",
      "width 48\n",
      "height 33\n",
      "length 48\n",
      "Style:   معاصر\n",
      "Cat1: إكسسوارات\n",
      "Cat2: اكسسوارات الحمام\n",
      "Cat3: \n",
      "Mater     معدن\n",
      "Detail:     موزع سائل الصابون 1 قطعة\n",
      "Color:      أبيض، فضى\n",
      "['   موزع سائل الصابون ', ' عرض 8 ', ' عمق 6 ', ' ارتفاع 16 سم']\n",
      "width 8\n",
      "height 16\n",
      "length 6\n",
      "Style:    معاصر\n",
      "Cat1: إكسسوارات\n",
      "Cat2: اكسسوارات الحمام\n",
      "Cat3: \n",
      "Mater    معدن / خشب مصنع\n",
      "Detail:     حامل مناديل للمائدة 1 قطعة\n",
      "Color:     أسود, بنى\n",
      "['   حامل مناديل للمائدة ', ' عرض 18 ', ' عمق 18 ', ' ارتفاع 72 سم']\n",
      "width 18\n",
      "height 72\n",
      "length 18\n",
      "Style:   معاصر\n",
      "Cat1: إكسسوارات\n",
      "Cat2: اكسسوارات الحمام\n",
      "Cat3: \n",
      "Mater     معدن\n",
      "Detail:     موزع سائل الصابون 1 قطعة\n",
      "Color:      فضى\n",
      "['   موزع سائل الصابون ', ' عرض 6 ', ' عمق ', ' ارتفاع 17 سم']\n",
      "width 6\n",
      "height 17\n",
      "Pas de height\n",
      "Style:    معاصر\n",
      "Cat1: إكسسوارات\n",
      "Cat2: اكسسوارات الحمام\n",
      "Cat3: \n",
      "Mater     معدن / زجاج\n",
      "Detail:     موزع سائل الصابون 1 قطعة\n",
      "Color:      فضى، شفاف\n",
      "['   موزع سائل الصابون ', ' عرض 8 ', ' عمق 4 ', ' ارتفاع 20 سم']\n",
      "width 8\n",
      "height 20\n",
      "length 4\n",
      "Style:    معاصر\n",
      "Cat1: إكسسوارات\n",
      "Cat2: اكسسوارات الحمام\n",
      "Cat3: \n",
      "Mater     سيراميك\n",
      "Detail:     موزع سائل الصابون 1 قطعة\n",
      "Color:      بنى، فضى\n",
      "['   موزع سائل الصابون ', ' عرض 7 ', ' عمق ', ' ارتفاع 17 سم']\n",
      "width 7\n",
      "height 17\n",
      "Pas de height\n",
      "Style:    معاصر\n",
      "Cat1: إكسسوارات\n",
      "Cat2: اكسسوارات الحمام\n",
      "Cat3: \n",
      "Mater      سيراميك\n",
      "Detail:     حامل فرشاة أسنان 1 قطعة\n",
      "Color:     بنى\n",
      "['حامل فرشاة أسنان ', ' عرض 7 ', ' عمق ', ' إرتفاع 10 سم']\n",
      "width 7\n",
      "height 10\n",
      "Pas de height\n",
      "Style:   معاصر\n",
      "Cat1: إكسسوارات\n",
      "Cat2: اكسسوارات الحمام\n",
      "Cat3: \n",
      "Mater      رخام\n",
      "Detail:     حامل فرشاة أسنان 1 قطعة\n",
      "Color:     بنى فاتح\n",
      "['حامل فرشاة أسنان ', ' عرض 6 ', ' عمق 6 ', ' إرتفاع 10 سم']\n",
      "width 6\n",
      "height 10\n",
      "length 6\n",
      "Style:   معاصر\n",
      "Cat1: إكسسوارات\n",
      "Cat2: اكسسوارات الحمام\n",
      "Cat3: \n",
      "Mater     رخام\n",
      "Detail:     صحن صابون 1 قطعة\n",
      "Color:      بنى فاتح\n",
      "['   صحن صابون ', ' عرض 13 ', ' عمق 9 ', ' ارتفاع 2 سم']\n",
      "width 13\n",
      "height 2\n",
      "length 9\n",
      "Style:    معاصر\n",
      "Cat1: إكسسوارات\n",
      "Cat2: اكسسوارات الحمام\n",
      "Cat3: \n",
      "Mater    إستانلس ستيل\n",
      "Detail:     حامل او رف للمناشف 1 قطعة\n",
      "Color:     فضى\n",
      "['   حامل او رف للمناشف ', ' عرض 64 ', ' عمق 6 ', ' ارتفاع 7 سم']\n",
      "width 64\n",
      "height 7\n",
      "length 6\n",
      "Style:   معاصر\n",
      "Cat1: إكسسوارات\n",
      "Cat2: اكسسوارات الحمام\n",
      "Cat3: \n",
      "Mater     بلاستيك\n",
      "Detail:     موزع سائل الصابون 1 قطعة\n",
      "Color:      أبيض\n",
      "['   موزع سائل الصابون ', ' عرض 10 ', ' عمق 6 ', ' ارتفاع 21 سم']\n",
      "width 10\n",
      "height 21\n",
      "length 6\n",
      "Style:    معاصر\n",
      "Cat1: إكسسوارات\n",
      "Cat2: اكسسوارات الحمام\n",
      "Cat3: \n",
      "Mater    ألياف الجوت\n",
      "Detail:     سجادة 1 قطعة\n",
      "Color:     بيج\n",
      "['   سجادة ', ' عرض 80 ', ' عمق ', ' إرتفاع 60 سم']\n",
      "width 80\n",
      "height 60\n",
      "Pas de height\n",
      "Style:   معاصر\n",
      "Cat1: إكسسوارات\n",
      "Cat2: اكسسوارات الحمام\n",
      "Cat3: \n",
      "Mater \n",
      "Detail:     حامل عود أسنان 1 قطعة\n",
      "Color:     أبيض، ذهبى\n",
      "['حامل عود أسنان ', ' عرض 6 ', ' عمق 6 ', ' إرتفاع 10 سم']\n",
      "width 6\n",
      "height 10\n",
      "length 6\n",
      "Style:   معاصر\n",
      "Cat1: إكسسوارات\n",
      "Cat2: اكسسوارات الحمام\n",
      "Cat3: \n",
      "Mater \n",
      "Detail:     حامل عود أسنان 1 قطعة\n",
      "Color:     أبيض، ذهبى\n",
      "['حامل عود أسنان ', ' عرض 6 ', ' عمق 6 ', ' إرتفاع 12 سم']\n",
      "width 6\n",
      "height 12\n",
      "length 6\n",
      "Style:   معاصر\n",
      "Cat1: إكسسوارات\n",
      "Cat2: اكسسوارات الحمام\n",
      "Cat3: \n",
      "Mater \n",
      "Detail:     علبة مناديل 1 قطعة\n",
      "Color:     ذهبى\n",
      "['   علبة مناديل ', ' عرض 25 ', ' عمق 13 ', ' ارتفاع 9 سم']\n",
      "width 25\n",
      "height 9\n",
      "length 13\n",
      "Style:   معاصر\n",
      "Cat1: إكسسوارات\n",
      "Cat2: اكسسوارات الحمام\n",
      "Cat3: \n",
      "Mater \n",
      "Detail:     سجادة 1 قطعة\n",
      "Color:     أحمر\n",
      "['   سجادة ', ' عرض 90 ', ' عمق ', ' إرتفاع 60 سم']\n",
      "width 90\n",
      "height 60\n",
      "Pas de height\n",
      "Style:   إنتقالى\n",
      "Cat1: إكسسوارات\n",
      "Cat2: اكسسوارات الحمام\n",
      "Cat3: \n",
      "Mater \n",
      "Detail:     سجادة 1 قطعة\n",
      "Color:     وردى\n",
      "['   سجادة ', ' عرض 90 ', ' عمق ', ' إرتفاع 60 سم']\n",
      "width 90\n",
      "height 60\n",
      "Pas de height\n",
      "Style:   إنتقالى\n",
      "Cat1: إكسسوارات\n",
      "Cat2: اكسسوارات الحمام\n",
      "Cat3: \n",
      "Mater    خشب\n",
      "Detail:     سلة مهملات 1 قطعة\n",
      "Color:     بنى داكن\n",
      "['   سلة مهملات ', ' عرض 29 ', ' عمق 15 ', ' ارتفاع 30 سم']\n",
      "width 29\n",
      "height 30\n",
      "length 15\n",
      "Style:   معاصر\n",
      "Cat1: إكسسوارات\n",
      "Cat2: اكسسوارات الحمام\n",
      "Cat3: \n",
      "Mater     بورسلين / إستانلس ستيل\n",
      "Detail:     فرشاة تنظيف حمام 1 قطعة\n",
      "Color:      أسود، فضى\n",
      "['   فرشاة تنظيف حمام ', ' عرض 12 ', ' عمق 12 ', ' ارتفاع 38 سم']\n",
      "width 12\n",
      "height 38\n",
      "length 12\n",
      "Style:    معاصر\n",
      "Cat1: إكسسوارات\n",
      "Cat2: اكسسوارات الحمام\n",
      "Cat3: \n",
      "Mater     إستانلس ستيل\n",
      "Detail:     موزع سائل الصابون 1 قطعة\n",
      "Color:      فضى\n",
      "['   موزع سائل الصابون ', ' عرض 8 ', ' عمق 8 ', ' ارتفاع 17 سم']\n",
      "width 8\n",
      "height 17\n",
      "length 8\n",
      "Style:    معاصر\n",
      "Cat1: إكسسوارات\n",
      "Cat2: اكسسوارات الحمام\n",
      "Cat3: \n",
      "Mater     إستانلس ستيل\n",
      "Detail:     كوب فرشاة اسنان 1 قطعة\n",
      "Color:      فضى\n",
      "['   كوب فرشاة اسنان ', ' عرض 7 ', ' عمق 7 ', ' ارتفاع 10 سم']\n",
      "width 7\n",
      "height 10\n",
      "length 7\n",
      "Style:    معاصر\n",
      "Cat1: إكسسوارات\n",
      "Cat2: اكسسوارات الحمام\n",
      "Cat3: \n",
      "Mater     إستانلس ستيل\n",
      "Detail:     طبق صابون 1 قطعة\n",
      "Color:      فضى\n",
      "['   طبق صابون ', ' عرض 11 ', ' عمق 11 ', ' ارتفاع 2 سم']\n",
      "width 11\n",
      "height 2\n",
      "length 11\n",
      "Style:    معاصر\n",
      "Cat1: إكسسوارات\n",
      "Cat2: اكسسوارات الحمام\n",
      "Cat3: \n",
      "Mater     بورسلين / إستانلس ستيل\n",
      "Detail:     فرشاة تنظيف حمام 1 قطعة\n",
      "Color:      أسود، ذهبى\n",
      "['   فرشاة تنظيف حمام ', ' عرض 9 ', ' عمق 9 ', ' ارتفاع 40 سم']\n",
      "width 9\n",
      "height 40\n",
      "length 9\n",
      "Style:    معاصر\n",
      "Cat1: إكسسوارات\n",
      "Cat2: اكسسوارات الحمام\n",
      "Cat3: \n",
      "Mater     بورسلين\n",
      "Detail:     كوب فرشاة اسنان 1 قطعة\n",
      "Color:      أسود\n",
      "['   كوب فرشاة اسنان ', ' عرض 7 ', ' عمق 7 ', ' ارتفاع 9 سم']\n",
      "width 7\n",
      "height 9\n",
      "length 7\n",
      "Style:    معاصر\n",
      "Cat1: \n",
      "Cat2: \n",
      "Cat3: \n",
      "Mater   أسمنت/ معدن\n",
      "Detail:  \n",
      "Color:     رمادى, ذهبى\n",
      "['فرشاة حمام / حامل', ' عرض 10 ', ' عمق 10 ', ' إرتفاع 41 سم']\n",
      "width 10\n",
      "height 41\n",
      "length 10\n",
      "Style:   معاصر\n",
      "Cat1: إكسسوارات\n",
      "Cat2: اكسسوارات الحمام\n",
      "Cat3: \n",
      "Mater    أسمنت / معدن\n",
      "Detail:     موزع صابون 1 قطعة\n",
      "Color:     رمادى داكن, ذهبى\n",
      "['موزع صابون ', ' عرض 7 ', ' عمق 7 ', ' إرتفاع 16 سم']\n",
      "width 7\n",
      "height 16\n",
      "length 7\n",
      "Style:   معاصر\n",
      "Cat1: إكسسوارات\n",
      "Cat2: اكسسوارات الحمام\n",
      "Cat3: \n",
      "Mater    أسمنت\n",
      "Detail:     كوب فرشاة اسنان 1 قطعة\n",
      "Color:     رمادى داكن\n",
      "['   كوب فرشاة اسنان ', ' عرض 7 ', ' عمق 7 ', ' ارتفاع 10 سم']\n",
      "width 7\n",
      "height 10\n",
      "length 7\n",
      "Style:   معاصر\n",
      "Cat1: إكسسوارات\n",
      "Cat2: اكسسوارات الحمام\n",
      "Cat3: \n",
      "Mater    معدن\n",
      "Detail:     فرشاة حمام 1 قطعة\n",
      "Color:     فضى\n",
      "['   فرشاة حمام ', ' عرض 11 ', ' عمق 7 ', ' ارتفاع 53 سم']\n",
      "width 11\n",
      "height 53\n",
      "length 7\n",
      "Style:   معاصر\n",
      "Cat1: إكسسوارات\n",
      "Cat2: اكسسوارات الحمام\n",
      "Cat3: \n",
      "Mater    معدن\n",
      "Detail:     فرشاة حمام 1 قطعة\n",
      "Color:     أبيض، فضى\n",
      "['   فرشاة حمام ', ' عرض 11 ', ' عمق 7 ', ' ارتفاع 53 سم']\n",
      "width 11\n",
      "height 53\n",
      "length 7\n",
      "Style:   معاصر\n",
      "Cat1: إكسسوارات\n",
      "Cat2: اكسسوارات الحمام\n",
      "Cat3: \n",
      "Mater    خشب\n",
      "Detail:     حامل اكسسوارات حمام 1 قطعة\n",
      "Color:     بنى\n",
      "['   حامل اكسسوارات حمام ', ' عرض 70 ', ' عمق 4 ', ' ارتفاع 14 سم']\n",
      "width 70\n",
      "height 14\n",
      "length 4\n",
      "Style:   معاصر\n",
      "Cat1: إكسسوارات\n",
      "Cat2: اكسسوارات الحمام\n",
      "Cat3: \n",
      "Mater    إستانلس ستيل\n",
      "Detail:     سلة مهملات 1 قطعة\n",
      "Color:     فضى\n",
      "['   سلة مهملات ', ' عرض 26 ', ' عمق 19 ', ' ارتفاع 26 سم']\n",
      "width 26\n",
      "height 26\n",
      "length 19\n",
      "Style:   معاصر\n"
     ]
    },
    {
     "name": "stdout",
     "output_type": "stream",
     "text": [
      "Cat1: إكسسوارات\n",
      "Cat2: اكسسوارات الحمام\n",
      "Cat3: \n",
      "Mater    معدن\n",
      "Detail:     سلة مهملات 1 قطعة\n",
      "Color:     أبيض, فضى\n",
      "['   سلة مهملات ', ' عرض 26 ', ' عمق 19 ', ' ارتفاع 26 سم']\n",
      "width 26\n",
      "height 26\n",
      "length 19\n",
      "Style:   معاصر\n",
      "Cat1: إكسسوارات\n",
      "Cat2: اكسسوارات الحمام\n",
      "Cat3: \n",
      "Mater    بولي فينيل كولوريد\n",
      "Detail:     سجادة  1 قطعة\n",
      "Color:     شفاف\n",
      "['سجادة ', ' عرض 39 ', ' عمق 2 ', ' إرتفاع 69 سم']\n",
      "width 39\n",
      "height 69\n",
      "length 2\n",
      "Style:   معاصر\n",
      "Cat1: إكسسوارات\n",
      "Cat2: اكسسوارات الحمام\n",
      "Cat3: \n",
      "Mater    بولي فينيل كولريد\n",
      "Detail:     سجادة  1 قطعة\n",
      "Color:     شفاف\n",
      "['سجادة ', ' عرض 39 ', ' عمق 2 ', ' إرتفاع 69 سم']\n",
      "width 39\n",
      "height 69\n",
      "length 2\n",
      "Style:   معاصر\n",
      "Cat1: إكسسوارات\n",
      "Cat2: اكسسوارات الحمام\n",
      "Cat3: \n",
      "Mater    رخام / معدن\n",
      "Detail:     موزع صابون 1 قطعة\n",
      "Color:     أسود، ذهبى\n",
      "['   موزع صابون ', ' عرض 8 ', ' عمق 8 ', ' ارتفاع 17 سم']\n",
      "width 8\n",
      "height 17\n",
      "length 8\n",
      "Style:   معاصر\n",
      "Cat1: إكسسوارات\n",
      "Cat2: اكسسوارات الحمام\n",
      "Cat3: \n",
      "Mater    رخام / معدن\n",
      "Detail:     كوب فرشاة أسنان 1 قطعة\n",
      "Color:     أسود، ذهبى\n",
      "['   كوب فرشاة أسنان ', ' عرض 8 ', ' عمق 8 ', ' ارتفاع 12 سم']\n",
      "width 8\n",
      "height 12\n",
      "length 8\n",
      "Style:   معاصر\n",
      "Cat1: \n",
      "Cat2: \n",
      "Cat3: \n",
      "Mater    خشب\n",
      "Detail:     صندوق محارم 1 قطعة\n",
      "Color:     بنى فاتح\n",
      "['   صندوق محارم ', ' عرض 13 ', ' عمق 13 ', ' ارتفاع 14 سم']\n",
      "width 13\n",
      "height 14\n",
      "length 13\n",
      "Style:   معاصر\n",
      "Cat1: \n",
      "Cat2: \n",
      "Cat3: \n",
      "Mater    خشب\n",
      "Detail:     صندوق محارم 1 قطعة\n",
      "Color:     بنى فاتح\n",
      "['   صندوق محارم ', ' عرض 26 ', ' عمق 14 ', ' ارتفاع 7 سم']\n",
      "width 26\n",
      "height 7\n",
      "length 14\n",
      "Style:   معاصر\n",
      "Cat1: إكسسوارات\n",
      "Cat2: اكسسوارات الحمام\n",
      "Cat3: \n",
      "Mater    إستانلس ستيل\n",
      "Detail:     موزع صابون 1 قطعة\n",
      "Color:     فضى\n",
      "['   موزع صابون ', ' عرض 9 ', ' عمق 9 ', ' ارتفاع 12 سم']\n",
      "width 9\n",
      "height 12\n",
      "length 9\n",
      "Style:   معاصر\n",
      "Cat1: إكسسوارات\n",
      "Cat2: اكسسوارات الحمام\n",
      "Cat3: \n",
      "Mater    إستانلس ستيل\n",
      "Detail:     كوب فرشاة اسنان 1 قطعة\n",
      "Color:     فضى\n",
      "['   كوب فرشاة اسنان ', ' عرض 9 ', ' عمق 9 ', ' ارتفاع 8 سم']\n",
      "width 9\n",
      "height 8\n",
      "length 9\n",
      "Style:   معاصر\n",
      "Cat1: إكسسوارات\n",
      "Cat2: اكسسوارات الحمام\n",
      "Cat3: \n",
      "Mater \n",
      "Detail:     صندوق محارم 1 قطعة\n",
      "Color:     فضى، ذهبى\n",
      "['   صندوق محارم ', ' عرض 13 ', ' عمق 13 ', ' ارتفاع 14 سم']\n",
      "width 13\n",
      "height 14\n",
      "length 13\n",
      "Style:   معاصر\n",
      "Cat1: إكسسوارات\n",
      "Cat2: اكسسوارات الحمام\n",
      "Cat3: \n",
      "Mater    خشب\n",
      "Detail:     مراية حمام 1 قطعة\n",
      "Color:     بنى, فضى\n",
      "['مراية حمام ', ' عرض 19 ', ' عمق 5 ', ' إرتفاع 18 سم']\n",
      "width 19\n",
      "height 18\n",
      "length 5\n",
      "Style:   معاصر\n",
      "Cat1: إكسسوارات\n",
      "Cat2: اكسسوارات الحمام\n",
      "Cat3: \n",
      "Mater \n",
      "Detail:  وصف المنتج  ارفف مناشف    حامل او رف للمناشف 1 قطعة\n",
      "Color:   بني فاتح\n",
      "['   حامل او رف للمناشف ', ' عرض 75 ', ' عمق 44 ', ' ارتفاع 170 سم']\n",
      "width 75\n",
      "height 170\n",
      "length 44\n",
      "Style: \n",
      "Cat1: إكسسوارات\n",
      "Cat2: اكسسوارات الحمام\n",
      "Cat3: \n",
      "Mater \n",
      "Detail:  وصف المنتج  موزع سائل الجلي    موزع سائل الصابون 1 قطعة\n",
      "Color:   لا\n",
      "['   موزع سائل الصابون ', ' عرض 7 ', ' عمق 7 ', ' ارتفاع 18 سم']\n",
      "width 7\n",
      "height 18\n",
      "length 7\n",
      "Style: \n",
      "Cat1: إكسسوارات\n",
      "Cat2: اكسسوارات الحمام\n",
      "Cat3: \n",
      "Mater \n",
      "Detail:     فراشة للحمام او حامل لفرشات الحمام 1 قطعة\n",
      "Color:   فضي\n",
      "['   فراشة للحمام او حامل لفرشات الحمام ', ' عرض 8 ', ' عمق 8 ', ' ارتفاع 38 سم']\n",
      "width 8\n",
      "height 38\n",
      "length 8\n",
      "Style: \n",
      "Cat1: إكسسوارات\n",
      "Cat2: اكسسوارات الحمام\n",
      "Cat3: \n",
      "Mater \n",
      "Detail:     صندوق نفايات 1 قطعة\n",
      "Color:   ذهبي\n",
      "['   صندوق نفايات ', ' عرض 17 ', ' عمق 17 ', ' ارتفاع 29 سم']\n",
      "width 17\n",
      "height 29\n",
      "length 17\n",
      "Style: \n",
      "Cat1: إكسسوارات\n",
      "Cat2: اكسسوارات الحمام\n",
      "Cat3: \n",
      "Mater \n",
      "Detail:     علبة مناديل 1 قطعة\n",
      "Color:   ذهبي\n",
      "['   علبة مناديل ', ' عرض 26 ', ' عمق 12 ', ' ارتفاع 7 سم']\n",
      "width 26\n",
      "height 7\n",
      "length 12\n",
      "Style: \n",
      "Cat1: إكسسوارات\n",
      "Cat2: اكسسوارات الحمام\n",
      "Cat3: \n",
      "Mater \n",
      "Detail:     فراشة للحمام او حامل لفرشات الحمام 1 قطعة\n",
      "Color:   فضي\n",
      "['   فراشة للحمام او حامل لفرشات الحمام ', ' عرض 9 ', ' عمق 9 ', ' ارتفاع 41 سم']\n",
      "width 9\n",
      "height 41\n",
      "length 9\n",
      "Style: \n",
      "Cat1: إكسسوارات\n",
      "Cat2: اكسسوارات الحمام\n",
      "Cat3: \n",
      "Mater \n",
      "Detail:     موزع سائل الصابون 1 قطعة\n",
      "Color:   فضي\n",
      "['   موزع سائل الصابون ', ' عرض 6 ', ' عمق 6 ', ' ارتفاع 20 سم']\n",
      "width 6\n",
      "height 20\n",
      "length 6\n",
      "Style: \n",
      "Cat1: إكسسوارات\n",
      "Cat2: اكسسوارات الحمام\n",
      "Cat3: \n",
      "Mater \n",
      "Detail:     حامل فرشات الاسنان 1 قطعة\n",
      "Color:   فضي\n",
      "['   حامل فرشات الاسنان ', ' عرض 7 ', ' عمق 7 ', ' ارتفاع 10 سم']\n",
      "width 7\n",
      "height 10\n",
      "length 7\n",
      "Style: \n",
      "Cat1: إكسسوارات\n",
      "Cat2: اكسسوارات الحمام\n",
      "Cat3: \n",
      "Mater \n",
      "Detail:     مرآة للحمام 1 قطعة\n",
      "Color:   أبيض\n",
      "['   مرآة للحمام ', ' عرض 18 ', ' عمق 18 ', ' ارتفاع 20 سم']\n",
      "width 18\n",
      "height 20\n",
      "length 18\n",
      "Style: \n",
      "Cat1: \n",
      "Cat2: \n",
      "Cat3: \n",
      "Mater \n",
      "Detail:     حامل او رف للمناشف 1 قطعة\n",
      "Color:   ذهبي\n",
      "['   حامل او رف للمناشف ', ' عرض 45 ', ' عمق 30 ', ' ارتفاع 87 سم']\n",
      "width 45\n",
      "height 87\n",
      "length 30\n",
      "Style: \n",
      "Cat1: إكسسوارات\n",
      "Cat2: اكسسوارات الحمام\n",
      "Cat3: \n",
      "Mater \n",
      "Detail:     مرآة للحمام 1 قطعة\n",
      "Color:   ذهبي\n",
      "['   مرآة للحمام ', ' عرض 25 ', ' عمق 6 ', ' ارتفاع 40 سم']\n",
      "width 25\n",
      "height 40\n",
      "length 6\n",
      "Style: \n",
      "Cat1: إكسسوارات\n",
      "Cat2: اكسسوارات الحمام\n",
      "Cat3: \n",
      "Mater \n",
      "Detail:     حامل رول مناديل 1 قطعة\n",
      "Color:   ذهبي\n",
      "['   حامل رول مناديل ', ' عرض 27 ', ' عمق 22 ', ' ارتفاع 73 سم']\n",
      "width 27\n",
      "height 73\n",
      "length 22\n",
      "Style: \n",
      "Cat1: إكسسوارات\n",
      "Cat2: اكسسوارات الحمام\n",
      "Cat3: \n",
      "Mater \n",
      "Detail:     حامل رول مناديل 1 قطعة\n",
      "Color:   ذهبي\n",
      "['   حامل رول مناديل ', ' عرض 15 ', ' عمق 15 ', ' ارتفاع 46 سم']\n",
      "width 15\n",
      "height 46\n",
      "length 15\n",
      "Style: \n",
      "Cat1: إكسسوارات\n",
      "Cat2: اكسسوارات الحمام\n",
      "Cat3: \n",
      "Mater \n",
      "Detail:     موزع سائل الصابون 1 قطعة\n",
      "Color:   شفاف\n",
      "['   موزع سائل الصابون ', ' عرض 6 ', ' عمق 6 ', ' ارتفاع 18 سم']\n",
      "width 6\n",
      "height 18\n",
      "length 6\n",
      "Style: \n",
      "Cat1: \n",
      "Cat2: \n",
      "Cat3: \n",
      "Mater \n",
      "Detail:     حامل فرشات الاسنان 1 قطعة\n",
      "Color:   شفاف\n",
      "['   حامل فرشات الاسنان ', ' عرض 6 ', ' عمق 6 ', ' ارتفاع 11 سم']\n",
      "width 6\n",
      "height 11\n",
      "length 6\n",
      "Style: \n",
      "Cat1: إكسسوارات\n",
      "Cat2: اكسسوارات الحمام\n",
      "Cat3: \n",
      "Mater \n",
      "Detail:     فراشة للحمام او حامل لفرشات الحمام 1 قطعة\n",
      "Color:   أبيض\n",
      "['   فراشة للحمام او حامل لفرشات الحمام ', ' عرض 12 ', ' عمق 12 ', ' ارتفاع 27 سم']\n",
      "width 12\n",
      "height 27\n",
      "length 12\n",
      "Style: \n",
      "Cat1: إكسسوارات\n",
      "Cat2: اكسسوارات الحمام\n",
      "Cat3: \n",
      "Mater \n",
      "Detail:     حامل فرشات الاسنان 1 قطعة\n",
      "Color:   أبيض\n",
      "['   حامل فرشات الاسنان ', ' عرض 9 ', ' عمق 9 ', ' ارتفاع 13 سم']\n",
      "width 9\n",
      "height 13\n",
      "length 9\n",
      "Style: \n",
      "Cat1: إكسسوارات\n",
      "Cat2: اكسسوارات الحمام\n",
      "Cat3: \n",
      "Mater \n",
      "Detail:     صحن صابون 1 قطعة\n",
      "Color:   أبيض\n",
      "['   صحن صابون ', ' عرض 14 ', ' عمق 10 ', ' ارتفاع 4 سم']\n",
      "width 14\n",
      "height 4\n",
      "length 10\n",
      "Style: \n",
      "Cat1: إكسسوارات\n",
      "Cat2: اكسسوارات الحمام\n",
      "Cat3: \n",
      "Mater \n",
      "Detail:     موزع سائل الصابون 1 قطعة\n",
      "Color:   أبيض\n",
      "['   موزع سائل الصابون ', ' عرض 8 ', ' عمق 8 ', ' ارتفاع 17 سم']\n",
      "width 8\n",
      "height 17\n",
      "length 8\n",
      "Style: \n",
      "Cat1: إكسسوارات\n",
      "Cat2: اكسسوارات الحمام\n",
      "Cat3: \n",
      "Mater \n",
      "Detail:     حامل فرشات الاسنان 1 قطعة\n",
      "Color:   أبيض\n",
      "['   حامل فرشات الاسنان ', ' عرض 8 ', ' عمق 8 ', ' ارتفاع 11 سم']\n",
      "width 8\n",
      "height 11\n",
      "length 8\n",
      "Style: \n",
      "Cat1: إكسسوارات\n",
      "Cat2: اكسسوارات الحمام\n",
      "Cat3: \n",
      "Mater \n",
      "Detail:     صحن صابون 1 قطعة\n",
      "Color:   أبيض\n",
      "['   صحن صابون ', ' عرض 12 ', ' عمق 12 ', ' ارتفاع 2 سم']\n",
      "width 12\n",
      "height 2\n",
      "length 12\n",
      "Style: \n",
      "Cat1: إكسسوارات\n",
      "Cat2: اكسسوارات الحمام\n",
      "Cat3: \n",
      "Mater \n",
      "Detail:     موزع سائل الصابون 1 قطعة\n",
      "Color:   شفاف\n",
      "['   موزع سائل الصابون ', ' عرض 7 ', ' عمق 7 ', ' ارتفاع 12 سم']\n",
      "width 7\n",
      "height 12\n",
      "length 7\n",
      "Style: \n",
      "Cat1: إكسسوارات\n",
      "Cat2: اكسسوارات الحمام\n",
      "Cat3: \n",
      "Mater \n",
      "Detail:     حامل فرشات الاسنان 1 قطعة\n",
      "Color:   شفاف\n",
      "['   حامل فرشات الاسنان ', ' عرض 7 ', ' عمق 7 ', ' ارتفاع 11 سم']\n",
      "width 7\n",
      "height 11\n",
      "length 7\n",
      "Style: \n",
      "Cat1: إكسسوارات\n",
      "Cat2: اكسسوارات الحمام\n",
      "Cat3: \n",
      "Mater \n",
      "Detail:     صحن صابون 1 قطعة\n",
      "Color:   شفاف\n",
      "['   صحن صابون ', ' عرض 13 ', ' عمق 9 ', ' ارتفاع 3 سم']\n",
      "width 13\n",
      "height 3\n",
      "length 9\n",
      "Style: \n",
      "Cat1: إكسسوارات\n",
      "Cat2: اكسسوارات الحمام\n",
      "Cat3: \n",
      "Mater \n",
      "Detail:     موزع سائل الصابون 1 قطعة\n",
      "Color:   شفاف\n",
      "['   موزع سائل الصابون ', ' عرض 8 ', ' عمق 8 ', ' ارتفاع 17 سم']\n",
      "width 8\n",
      "height 17\n",
      "length 8\n",
      "Style: \n",
      "Cat1: إكسسوارات\n",
      "Cat2: اكسسوارات الحمام\n",
      "Cat3: \n",
      "Mater \n",
      "Detail:     حامل فرشات الاسنان 1 قطعة\n",
      "Color:   شفاف\n",
      "['   حامل فرشات الاسنان ', ' عرض 8 ', ' عمق 8 ', ' ارتفاع 9 سم']\n",
      "width 8\n",
      "height 9\n",
      "length 8\n",
      "Style: \n",
      "Cat1: إكسسوارات\n",
      "Cat2: اكسسوارات الحمام\n",
      "Cat3: \n",
      "Mater \n",
      "Detail:     صحن صابون 1 قطعة\n",
      "Color:   شفاف\n",
      "['   صحن صابون ', ' عرض 12 ', ' عمق 12 ', ' ارتفاع 3 سم']\n",
      "width 12\n",
      "height 3\n",
      "length 12\n",
      "Style: \n",
      "Cat1: إكسسوارات\n",
      "Cat2: اكسسوارات الحمام\n",
      "Cat3: \n",
      "Mater \n",
      "Detail:     موزع سائل الصابون 1 قطعة\n",
      "Color:   شفاف\n",
      "['   موزع سائل الصابون ', ' عرض 7 ', ' عمق 7 ', ' ارتفاع 16 سم']\n",
      "width 7\n",
      "height 16\n",
      "length 7\n",
      "Style: \n",
      "Cat1: إكسسوارات\n",
      "Cat2: اكسسوارات الحمام\n",
      "Cat3: \n",
      "Mater \n",
      "Detail:     حامل فرشات الاسنان 1 قطعة\n",
      "Color:   شفاف\n",
      "['   حامل فرشات الاسنان ', ' عرض 7 ', ' عمق 7 ', ' ارتفاع 9 سم']\n",
      "width 7\n",
      "height 9\n",
      "length 7\n",
      "Style: \n"
     ]
    },
    {
     "name": "stdout",
     "output_type": "stream",
     "text": [
      "Cat1: إكسسوارات\n",
      "Cat2: اكسسوارات الحمام\n",
      "Cat3: \n",
      "Mater \n",
      "Detail:     صحن صابون 1 قطعة\n",
      "Color:   شفاف\n",
      "['   صحن صابون ', ' عرض 10 ', ' عمق 10 ', ' ارتفاع 2 سم']\n",
      "width 10\n",
      "height 2\n",
      "length 10\n",
      "Style: \n",
      "Cat1: إكسسوارات\n",
      "Cat2: اكسسوارات الحمام\n",
      "Cat3: \n",
      "Mater \n",
      "Detail:     أرفف حمام 3 طبقات 1 قطعة\n",
      "Color:   أبيض\n",
      "['   أرفف حمام 3 طبقات حمام ', ' عرض 39 ', ' عمق 33 ', ' ارتفاع 95 سم']\n",
      "width 39\n",
      "height 95\n",
      "length 33\n",
      "Style: \n",
      "Cat1: إكسسوارات\n",
      "Cat2: اكسسوارات الحمام\n",
      "Cat3: \n",
      "Mater \n",
      "Detail:     أرفف حمام 3 طبقات 1 قطعة\n",
      "Color:   أبيض\n",
      "['   أرفف حمام 3 طبقات ', ' عرض 39 ', ' عمق 33 ', ' ارتفاع 70 سم']\n",
      "width 39\n",
      "height 70\n",
      "length 33\n",
      "Style: \n",
      "Cat1: إكسسوارات\n",
      "Cat2: اكسسوارات الحمام\n",
      "Cat3: \n",
      "Mater \n",
      "Detail:     حامل للمناشف 1 قطعة\n",
      "Color:   فضي\n",
      "['   حامل للمناشف ', ' عرض 40 ', ' عمق 20 ', ' ارتفاع 84 سم']\n",
      "width 40\n",
      "height 84\n",
      "length 20\n",
      "Style: \n",
      "Cat1: إكسسوارات\n",
      "Cat2: اكسسوارات الحمام\n",
      "Cat3: \n",
      "Mater \n",
      "Detail:     سلة غسيل 1 قطعة\n",
      "Color:   بني فاتح\n",
      "['   سلة غسيل ', ' عرض 33 ', ' عمق 33 ', ' ارتفاع 50 سم']\n",
      "width 33\n",
      "height 50\n",
      "length 33\n",
      "Style: \n",
      "Cat1: إكسسوارات\n",
      "Cat2: اكسسوارات الحمام\n",
      "Cat3: \n",
      "Mater \n",
      "Detail:     موزع سائل الصابون 1 قطعة\n",
      "Color:   شفاف\n",
      "['   موزع سائل الصابون ', ' عرض 7 ', ' عمق 7 ', ' ارتفاع 16 سم']\n",
      "width 7\n",
      "height 16\n",
      "length 7\n",
      "Style: \n",
      "Cat1: إكسسوارات\n",
      "Cat2: اكسسوارات الحمام\n",
      "Cat3: \n",
      "Mater \n",
      "Detail:     سلة غسيل 1 قطعة\n",
      "Color:   بني فاتح\n",
      "['   سلة غسيل ', ' عرض 37 ', ' عمق 37 ', ' ارتفاع 50 سم']\n",
      "width 37\n",
      "height 50\n",
      "length 37\n",
      "Style: \n",
      "Cat1: إكسسوارات\n",
      "Cat2: اكسسوارات الحمام\n",
      "Cat3: \n",
      "Mater \n",
      "Detail:     سلة غسيل 1 قطعة\n",
      "Color:   بني فاتح\n",
      "['   سلة غسيل ', ' عرض 41 ', ' عمق 31 ', ' ارتفاع 50 سم']\n",
      "width 41\n",
      "height 50\n",
      "length 31\n",
      "Style: \n",
      "Cat1: إكسسوارات\n",
      "Cat2: اكسسوارات الحمام\n",
      "Cat3: \n",
      "Mater \n",
      "Detail:     سلة غسيل 3 قطعة\n",
      "Color:   بني فاتح\n",
      "['   سلة غسيل ', ' عرض 45 ', ' عمق 35 ', ' ارتفاع 18 سم  سلة غسيل ', ' عرض 40 ', ' عمق 30 ', ' ارتفاع 16 سم  سلة غسيل ', ' عرض 36 ', ' عمق 26 ', ' ارتفاع 14 سم']\n",
      "width 45\n",
      "height 18\n",
      "length 35\n",
      "Style: \n",
      "Cat1: إكسسوارات\n",
      "Cat2: اكسسوارات الحمام\n",
      "Cat3: \n",
      "Mater \n",
      "Detail:     موزع سائل الصابون 1 قطعة\n",
      "Color:   شفاف\n",
      "['   موزع سائل الصابون ', ' عرض 8 ', ' عمق 6 ', ' ارتفاع 19 سم']\n",
      "width 8\n",
      "height 19\n",
      "length 6\n",
      "Style: \n",
      "Cat1: إكسسوارات\n",
      "Cat2: اكسسوارات الحمام\n",
      "Cat3: \n",
      "Mater \n",
      "Detail:     حامل فرشات الاسنان 1 قطعة\n",
      "Color:   شفاف\n",
      "['   حامل فرشات الاسنان ', ' عرض 8 ', ' عمق 6 ', ' ارتفاع 11 سم']\n",
      "width 8\n",
      "height 11\n",
      "length 6\n",
      "Style: \n",
      "Cat1: إكسسوارات\n",
      "Cat2: اكسسوارات الحمام\n",
      "Cat3: \n",
      "Mater \n",
      "Detail:     صحن صابون 1 قطعة\n",
      "Color:   شفاف\n",
      "['   صحن صابون ', ' عرض 13 ', ' عمق 9 ', ' ارتفاع 2 سم']\n",
      "width 13\n",
      "height 2\n",
      "length 9\n",
      "Style: \n",
      "Cat1: إكسسوارات\n",
      "Cat2: اكسسوارات الحمام\n",
      "Cat3: \n",
      "Mater \n",
      "Detail:     حامل للمناشف 1 قطعة\n",
      "Color:   فضي\n",
      "['   حامل للمناشف ', ' عرض 45 ', ' عمق 13 ', ' ارتفاع 11 سم']\n",
      "width 45\n",
      "height 11\n",
      "length 13\n",
      "Style: \n",
      "Cat1: إكسسوارات\n",
      "Cat2: اكسسوارات الحمام\n",
      "Cat3: \n",
      "Mater \n",
      "Detail:     موزع سائل الصابون 1 قطعة\n",
      "Color:   أبيض\n",
      "['   موزع سائل الصابون ', ' عرض 8 ', ' عمق 5 ', ' ارتفاع 16 سم']\n",
      "width 8\n",
      "height 16\n",
      "length 5\n",
      "Style: \n",
      "Cat1: إكسسوارات\n",
      "Cat2: اكسسوارات الحمام\n",
      "Cat3: \n",
      "Mater \n",
      "Detail:     موزع سائل الصابون 1 قطعة\n",
      "Color:   شفاف\n",
      "['   موزع سائل الصابون ', ' عرض 10 ', ' عمق 10 ', ' ارتفاع 15 سم']\n",
      "width 10\n",
      "height 15\n",
      "length 10\n",
      "Style: \n",
      "Cat1: إكسسوارات\n",
      "Cat2: اكسسوارات الحمام\n",
      "Cat3: \n",
      "Mater \n",
      "Detail:     حامل فرشات الاسنان 1 قطعة\n",
      "Color:   شفاف\n",
      "['   حامل فرشات الاسنان ', ' عرض 7 ', ' عمق 6 ', ' ارتفاع 10 سم']\n",
      "width 7\n",
      "height 10\n",
      "length 6\n",
      "Style: \n",
      "Cat1: إكسسوارات\n",
      "Cat2: اكسسوارات الحمام\n",
      "Cat3: \n",
      "Mater \n",
      "Detail:     حامل للمناشف 1 قطعة\n",
      "Color:   أبيض\n",
      "['   حامل للمناشف ', ' عرض 40 ', ' عمق 20 ', ' ارتفاع 81 سم']\n",
      "width 40\n",
      "height 81\n",
      "length 20\n",
      "Style: \n",
      "Cat1: إكسسوارات\n",
      "Cat2: اكسسوارات الحمام\n",
      "Cat3: \n",
      "Mater \n",
      "Detail:     حامل رول مناديل 1 قطعة\n",
      "Color:   أسود\n",
      "['   حامل رول مناديل ', ' عرض 20 ', ' عمق 16 ', ' ارتفاع 71 سم']\n",
      "width 20\n",
      "height 71\n",
      "length 16\n",
      "Style: \n",
      "Cat1: إكسسوارات\n",
      "Cat2: اكسسوارات الحمام\n",
      "Cat3: \n",
      "Mater \n",
      "Detail:     حامل للمناشف 1 قطعة\n",
      "Color:   فضي\n",
      "['   حامل للمناشف ', ' عرض 20 ', ' عمق 20 ', ' ارتفاع 72 سم']\n",
      "width 20\n",
      "height 72\n",
      "length 20\n",
      "Style: \n",
      "Cat1: إكسسوارات\n",
      "Cat2: اكسسوارات الحمام\n",
      "Cat3: \n",
      "Mater    لفائف الزنك& الزجاج\n",
      "Detail:     صندوق محارم 1 قطعة\n",
      "Color:     برونزى, ذهبى\n",
      "['صندوق محارم ', ' عرض 27 ', ' عمق 16 ', ' إرتفاع 10 سم']\n",
      "width 27\n",
      "height 10\n",
      "length 16\n",
      "Style:   معاصر\n",
      "Cat1: إكسسوارات\n",
      "Cat2: اكسسوارات الحمام\n",
      "Cat3: \n",
      "Mater    لفائف الزنك& الزجاج\n",
      "Detail:     صندوق محارم 1 قطعة\n",
      "Color:     أبيض لؤلؤى, ذهبى\n",
      "['صندوق محارم ', ' عرض 27 ', ' عمق 16 ', ' إرتفاع 10 سم']\n",
      "width 27\n",
      "height 10\n",
      "length 16\n",
      "Style:   معاصر\n",
      "Cat1: إكسسوارات\n",
      "Cat2: اكسسوارات الحمام\n",
      "Cat3: \n",
      "Mater      لفائف الزنك / إستانلس ستيل\n",
      "Detail:     طبق صابون 1 قطعة\n",
      "Color:     فضى، ذهبى\n",
      "['طبق صابون ', ' عرض 12 ', ' عمق 10 ', ' إرتفاع 2 سم']\n",
      "width 12\n",
      "height 2\n",
      "length 10\n",
      "Style:   معاصر\n",
      "Cat1: إكسسوارات\n",
      "Cat2: اكسسوارات الحمام\n",
      "Cat3: \n",
      "Mater    إستانلس ستيل / لفائف الزنك\n",
      "Detail:     صندوق محارم 1 قطعة\n",
      "Color:     فضى، ذهبى\n",
      "['   صندوق محارم ', ' عرض 25 ', ' عمق 12 ', ' ارتفاع 9 سم']\n",
      "width 25\n",
      "height 9\n",
      "length 12\n",
      "Style:   معاصر\n",
      "Cat1: إكسسوارات\n",
      "Cat2: اكسسوارات الحمام\n",
      "Cat3: \n",
      "Mater    إستانلس ستيل / لفائف الزنك\n",
      "Detail:     صندوق محارم 1 قطعة\n",
      "Color:     فضى، ذهبى\n",
      "['   صندوق محارم ', ' عرض 12 ', ' عمق 12 ', ' ارتفاع 14 سم']\n",
      "width 12\n",
      "height 14\n",
      "length 12\n",
      "Style:   معاصر\n",
      "Cat1: إكسسوارات\n",
      "Cat2: اكسسوارات الحمام\n",
      "Cat3: \n",
      "Mater     إستانلس ستيل / لفائف الزنك\n",
      "Detail:     حافظة قطن 1 قطعة\n",
      "Color:     فضى، ذهبى\n",
      "['حافظة قطن ', ' عرض 8 ', ' عمق 8 ', ' إرتفاع 6 سم']\n",
      "width 8\n",
      "height 6\n",
      "length 8\n",
      "Style:   معاصر\n",
      "Cat1: إكسسوارات\n",
      "Cat2: اكسسوارات الحمام\n",
      "Cat3: \n",
      "Mater \n",
      "Detail:     موزع سائل الصابون 1 قطعة\n",
      "Color:      فضى، ذهبى\n",
      "['   موزع سائل الصابون ', ' عرض 5 ', ' عمق 5 ', ' ارتفاع 19 سم']\n",
      "width 5\n",
      "height 19\n",
      "length 5\n",
      "Style:    معاصر\n",
      "Cat1: إكسسوارات\n",
      "Cat2: اكسسوارات الحمام\n",
      "Cat3: \n",
      "Mater      لفائف الزنك / إستانلس ستيل\n",
      "Detail:     حامل فرشاة أسنان 1 قطعة\n",
      "Color:     فضى، ذهبى\n",
      "['حامل فرشاة أسنان ', ' عرض 7 ', ' عمق 7 ', ' إرتفاع 13 سم']\n",
      "width 7\n",
      "height 13\n",
      "length 7\n",
      "Style:   معاصر\n",
      "Cat1: إكسسوارات\n",
      "Cat2: اكسسوارات الحمام\n",
      "Cat3: \n",
      "Mater      لفائف الزنك / إستانلس ستيل\n",
      "Detail:     حامل فرشاة أسنان 1 قطعة\n",
      "Color:     فضى، ذهبى\n",
      "['حامل فرشاة أسنان ', ' عرض 8 ', ' عمق 8 ', ' إرتفاع 9 سم']\n",
      "width 8\n",
      "height 9\n",
      "length 8\n",
      "Style:   معاصر\n",
      "Cat1: إكسسوارات\n",
      "Cat2: اكسسوارات الحمام\n",
      "Cat3: \n",
      "Mater      لفائف الزنك / إستانلس ستيل\n",
      "Detail:     حامل فرشاة حمام 1 قطعة\n",
      "Color:     فضى، ذهبى\n",
      "['حامل فرشاة حمام ', ' عرض 10 ', ' عمق 10 ', ' إرتفاع 37 سم']\n",
      "width 10\n",
      "height 37\n",
      "length 10\n",
      "Style:   معاصر\n",
      "Cat1: إكسسوارات\n",
      "Cat2: اكسسوارات الحمام\n",
      "Cat3: \n",
      "Mater \n",
      "Detail:     سلة مهملات 1 قطعة\n",
      "Color:     فضى، ذهبى\n",
      "['   سلة مهملات ', ' عرض 23 ', ' عمق 23 ', ' ارتفاع 31 سم']\n",
      "width 23\n",
      "height 31\n",
      "length 23\n",
      "Style:   معاصر\n",
      "Cat1: إكسسوارات\n",
      "Cat2: اكسسوارات الحمام\n",
      "Cat3: \n",
      "Mater \n",
      "Detail:     موزع سائل الصابون 1 قطعة\n",
      "Color:     ذهبى\n",
      "['موزع سائل الصابون ', ' عرض 10 ', ' عمق 6 ', ' ارتفاع 18 سم']\n",
      "width 10\n",
      "height 18\n",
      "length 6\n",
      "Style:   معاصر\n",
      "Cat1: إكسسوارات\n",
      "Cat2: اكسسوارات الحمام\n",
      "Cat3: \n",
      "Mater     فولاز / زجاج / لفائف الزنك / بلاستيك\n",
      "Detail:     موزع صابون 2 قطعة\n",
      "Color:     فضى\n",
      "['موزع صابون ', ' عرض 10 ', ' عمق 6 ', ' إرتفاع 18 سم']\n",
      "width 10\n",
      "height 18\n",
      "length 6\n",
      "Style:   معاصر\n",
      "Cat1: إكسسوارات\n",
      "Cat2: اكسسوارات الحمام\n",
      "Cat3: \n",
      "Mater \n",
      "Detail:     موزع سائل الصابون 1 قطعة\n",
      "Color:     ذهبى\n",
      "['موزع سائل الصابون ', ' عرض 10 ', ' عمق 6 ', ' ارتفاع 18 سم']\n",
      "width 10\n",
      "height 18\n",
      "length 6\n",
      "Style:   معاصر\n",
      "Cat1: إكسسوارات\n",
      "Cat2: اكسسوارات الحمام\n",
      "Cat3: \n",
      "Mater     فولاز / زجاج / لفائف الزنك / بلاستيك\n",
      "Detail:     موزع صابون 2 قطعة\n",
      "Color:     فضى\n",
      "['موزع صابون ', ' عرض 10 ', ' عمق 6 ', ' إرتفاع 18 سم']\n",
      "width 10\n",
      "height 18\n",
      "length 6\n",
      "Style:   معاصر\n",
      "Cat1: إكسسوارات\n",
      "Cat2: اكسسوارات الحمام\n",
      "Cat3: \n",
      "Mater \n",
      "Detail:     موزع سائل الصابون عدد 1 قطعة\n",
      "Color:   شفاف\n",
      "['   موزع سائل الصابون العرض 9 ', ' العمق 9 ', ' الارتفاع 16 سم']\n",
      "width 9\n",
      "height 16\n",
      "length 9\n",
      "Style: \n",
      "Cat1: إكسسوارات\n",
      "Cat2: اكسسوارات الحمام\n",
      "Cat3: \n",
      "Mater \n",
      "Detail:     سلة مهملات 1 قطعة\n",
      "Color:     ذهبى عتيق\n",
      "['   سلة مهملات ', ' عرض 22 ', ' عمق 22 ', ' ارتفاع 29 سم']\n",
      "width 22\n",
      "height 29\n",
      "length 22\n",
      "Style:   معاصر\n",
      "Cat1: إكسسوارات\n",
      "Cat2: اكسسوارات الحمام\n",
      "Cat3: \n",
      "Mater \n",
      "Detail:  \n",
      "Color:   ذهبي أنتيك\n",
      "['']\n",
      "Pas de width\n",
      "Pas de height\n",
      "Pas de height\n",
      "Style: \n",
      "Cat1: إكسسوارات\n",
      "Cat2: اكسسوارات الحمام\n",
      "Cat3: \n",
      "Mater \n",
      "Detail:     صندوق محارم 1 قطعة\n",
      "Color:     ذهبى، أسود\n",
      "['   صندوق محارم ', ' عرض 13 ', ' عمق 13 ', ' ارتفاع 13 سم']\n",
      "width 13\n",
      "height 13\n",
      "length 13\n",
      "Style:   معاصر\n",
      "Cat1: إكسسوارات\n",
      "Cat2: اكسسوارات الحمام\n",
      "Cat3: \n",
      "Mater \n",
      "Detail:     صندوق نفايات 1 قطعة\n"
     ]
    },
    {
     "name": "stdout",
     "output_type": "stream",
     "text": [
      "Color:   لا\n",
      "['   صندوق نفايات ', ' عرض 22 ', ' عمق 22 ', ' ارتفاع 29 سم']\n",
      "width 22\n",
      "height 29\n",
      "length 22\n",
      "Style: \n",
      "Cat1: إكسسوارات\n",
      "Cat2: اكسسوارات الحمام\n",
      "Cat3: \n",
      "Mater \n",
      "Detail:     علبة مناديل 1 قطعة\n",
      "Color:   لا\n",
      "['   علبة مناديل ', ' عرض 25 ', ' عمق 13 ', ' ارتفاع 9 سم']\n",
      "width 25\n",
      "height 9\n",
      "length 13\n",
      "Style: \n",
      "Cat1: إكسسوارات\n",
      "Cat2: اكسسوارات الحمام\n",
      "Cat3: \n",
      "Mater \n",
      "Detail:     صينية للحمام عدد 1 قطعة\n",
      "Color:   بيج\n",
      "['   صينية للحمام العرض 25 ', ' العمق 11 ', ' الارتفاع 2 سم']\n",
      "width 25\n",
      "height 2\n",
      "length 11\n",
      "Style: \n",
      "Cat1: إكسسوارات\n",
      "Cat2: اكسسوارات الحمام\n",
      "Cat3: \n",
      "Mater \n",
      "Detail:     موزع سائل الصابون عدد 1 قطعة\n",
      "Color:   بيج\n",
      "['   موزع سائل الصابون العرض 7 ', ' العمق 7 ', ' الارتفاع 18 سم']\n",
      "width 7\n",
      "height 18\n",
      "length 7\n",
      "Style: \n",
      "Cat1: إكسسوارات\n",
      "Cat2: اكسسوارات الحمام\n",
      "Cat3: \n",
      "Mater \n",
      "Detail:     حامل فرشات الاسنان عدد 1 قطعة\n",
      "Color:   بيج\n",
      "['   حامل فرشات الاسنان العرض 7 ', ' العمق 7 ', ' الارتفاع 10 سم']\n",
      "width 7\n",
      "height 10\n",
      "length 7\n",
      "Style: \n",
      "Cat1: إكسسوارات\n",
      "Cat2: اكسسوارات الحمام\n",
      "Cat3: \n",
      "Mater \n",
      "Detail:     صحن صابون عدد 1 قطعة\n",
      "Color:   بيج\n",
      "['   صحن صابون العرض 12 ', ' العمق 9 ', ' الارتفاع 2 سم']\n",
      "width 12\n",
      "height 2\n",
      "length 9\n",
      "Style: \n",
      "Cat1: إكسسوارات\n",
      "Cat2: اكسسوارات الحمام\n",
      "Cat3: \n",
      "Mater    لفائف الزنك& الزجاج\n",
      "Detail:     صندوق محارم 1 قطعة\n",
      "Color:     فضى, ذهبى\n",
      "['صندوق محارم ', ' عرض 27 ', ' عمق 16 ', ' إرتفاع 10 سم']\n",
      "width 27\n",
      "height 10\n",
      "length 16\n",
      "Style:   معاصر\n",
      "Cat1: إكسسوارات\n",
      "Cat2: اكسسوارات الحمام\n",
      "Cat3: \n",
      "Mater    لفائف الزنك& الزجاج\n",
      "Detail:     صندوق محارم 1 قطعة\n",
      "Color:     أبيض, ذهبى\n",
      "['صندوق محارم ', ' عرض 27 ', ' عمق 16 ', ' إرتفاع 10 سم']\n",
      "width 27\n",
      "height 10\n",
      "length 16\n",
      "Style:   معاصر\n",
      "Cat1: إكسسوارات\n",
      "Cat2: اكسسوارات الحمام\n",
      "Cat3: \n",
      "Mater    لفائف الزنك& الزجاج\n",
      "Detail:     صندوق محارم 1 قطعة\n",
      "Color:     أزرق فاتح، ذهبى\n",
      "['صندوق محارم ', ' عرض 27 ', ' عمق 16 ', ' إرتفاع 10 سم']\n",
      "width 27\n",
      "height 10\n",
      "length 16\n",
      "Style:   معاصر\n",
      "Cat1: إكسسوارات\n",
      "Cat2: اكسسوارات الحمام\n",
      "Cat3: \n",
      "Mater    إستانلس ستيل / لفائف الزنك\n",
      "Detail:     صندوق محارم 1 قطعة\n",
      "Color:     فضى\n",
      "['   صندوق محارم ', ' عرض 13 ', ' عمق 13 ', ' ارتفاع 14 سم']\n",
      "width 13\n",
      "height 14\n",
      "length 13\n",
      "Style:   معاصر\n",
      "Cat1: إكسسوارات\n",
      "Cat2: اكسسوارات الحمام\n",
      "Cat3: \n",
      "Mater    إستانلس ستيل / لفائف الزنك\n",
      "Detail:     صندوق محارم 1 قطعة\n",
      "Color:     فضى، ذهبى\n",
      "['   صندوق محارم ', ' عرض 13 ', ' عمق 13 ', ' ارتفاع 14 سم']\n",
      "width 13\n",
      "height 14\n",
      "length 13\n",
      "Style:   معاصر\n",
      "Cat1: إكسسوارات\n",
      "Cat2: اكسسوارات الحمام\n",
      "Cat3: \n",
      "Mater    إستانلس ستيل / لفائف الزنك\n",
      "Detail:     صندوق محارم 1 قطعة\n",
      "Color:     فضى\n",
      "['   صندوق محارم ', ' عرض 25 ', ' عمق 13 ', ' ارتفاع 9 سم']\n",
      "width 25\n",
      "height 9\n",
      "length 13\n",
      "Style:   معاصر\n",
      "Cat1: إكسسوارات\n",
      "Cat2: اكسسوارات الحمام\n",
      "Cat3: \n",
      "Mater    إستانلس ستيل / لفائف الزنك\n",
      "Detail:     صندوق محارم 1 قطعة\n",
      "Color:     فضى، ذهبى\n",
      "['   صندوق محارم ', ' عرض 25 ', ' عمق 13 ', ' ارتفاع 9 سم']\n",
      "width 25\n",
      "height 9\n",
      "length 13\n",
      "Style:   معاصر\n",
      "Cat1: إكسسوارات\n",
      "Cat2: اكسسوارات الحمام\n",
      "Cat3: \n",
      "Mater \n",
      "Detail:     موزع سائل الصابون عدد 1 قطعة\n",
      "Color:   فضي\n",
      "['   موزع سائل الصابون العرض 7 ', ' العمق 7 ', ' الارتفاع 18 سم']\n",
      "width 7\n",
      "height 18\n",
      "length 7\n",
      "Style: \n",
      "Cat1: \n",
      "Cat2: \n",
      "Cat3: \n",
      "Mater \n",
      "Detail:     علبة مناديل عدد 1 قطعة\n",
      "Color:   أبيض\n",
      "['   علبة مناديل العرض 24 ', ' العمق 13 ', ' الارتفاع 8 سم']\n",
      "width 24\n",
      "height 8\n",
      "length 13\n",
      "Style: \n",
      "Cat1: إكسسوارات\n",
      "Cat2: اكسسوارات الحمام\n",
      "Cat3: \n",
      "Mater \n",
      "Detail:     موزع سائل الصابون عدد 1 قطعة\n",
      "Color:   أبيض\n",
      "['   موزع سائل الصابون العرض 7 ', ' العمق 5 ', ' الارتفاع 18 سم']\n",
      "width 7\n",
      "height 18\n",
      "length 5\n",
      "Style: \n",
      "Cat1: إكسسوارات\n",
      "Cat2: اكسسوارات الحمام\n",
      "Cat3: \n",
      "Mater \n",
      "Detail:     حامل فرشات الاسنان عدد 1 قطعة\n",
      "Color:   أبيض\n",
      "['   حامل فرشات الاسنان العرض 7 ', ' العمق 5 ', ' الارتفاع 10 سم']\n",
      "width 7\n",
      "height 10\n",
      "length 5\n",
      "Style: \n",
      "Cat1: إكسسوارات\n",
      "Cat2: اكسسوارات الحمام\n",
      "Cat3: \n",
      "Mater \n",
      "Detail:     صحن صابون عدد 1 قطعة\n",
      "Color:   أبيض\n",
      "['   صحن صابون العرض 12 ', ' العمق 9 ', ' الارتفاع 3 سم']\n",
      "width 12\n",
      "height 3\n",
      "length 9\n",
      "Style: \n",
      "Cat1: إكسسوارات\n",
      "Cat2: اكسسوارات الحمام\n",
      "Cat3: \n",
      "Mater    خشب مصنع / زجاج\n",
      "Detail:     سلة مهملات 1 قطعة\n",
      "Color:     أخضر فاتح, ذهبى\n",
      "['   سلة مهملات ', ' عرض 22 ', ' عمق 22 ', ' ارتفاع 29 سم']\n",
      "width 22\n",
      "height 29\n",
      "length 22\n",
      "Style:   معاصر\n",
      "Cat1: إكسسوارات\n",
      "Cat2: اكسسوارات الحمام\n",
      "Cat3: \n",
      "Mater \n",
      "Detail:  \n",
      "Color:     فضى, أزرق\n",
      "['سلة مهملات ', ' عرض 22 ', ' عمق 22 ', ' إرتفاع 29 سم']\n",
      "width 22\n",
      "height 29\n",
      "length 22\n",
      "Style:   إنتقالى\n",
      "Cat1: إكسسوارات\n",
      "Cat2: اكسسوارات الحمام\n",
      "Cat3: \n",
      "Mater    معدن / زجاج\n",
      "Detail:     علبة مناديل 1 قطعة\n",
      "Color:     ذهبى، ألوان متنوعة\n",
      "['   علبة مناديل ', ' عرض 25 ', ' عمق 14 ', ' ارتفاع 9 سم']\n",
      "width 25\n",
      "height 9\n",
      "length 14\n",
      "Style:   معاصر\n",
      "Cat1: إكسسوارات\n",
      "Cat2: اكسسوارات الحمام\n",
      "Cat3: \n",
      "Mater    خشب مصنع / زجاج\n",
      "Detail:     سلة مهملات 1 قطعة\n",
      "Color:     ذهبى, ألوان متنوعة\n",
      "['   سلة مهملات ', ' عرض 22 ', ' عمق 22 ', ' ارتفاع 29 سم']\n",
      "width 22\n",
      "height 29\n",
      "length 22\n",
      "Style:   معاصر\n",
      "Cat1: إكسسوارات\n",
      "Cat2: اكسسوارات الحمام\n",
      "Cat3: \n",
      "Mater \n",
      "Detail:     علبة مناديل 1 قطعة\n",
      "Color:     ذهبى\n",
      "['   علبة مناديل ', ' عرض 13 ', ' عمق 13 ', ' ارتفاع 9 سم']\n",
      "width 13\n",
      "height 9\n",
      "length 13\n",
      "Style:   معاصر\n",
      "Cat1: إكسسوارات\n",
      "Cat2: اكسسوارات الحمام\n",
      "Cat3: \n",
      "Mater    خشب / معدن\n",
      "Detail:     سلة مهملات 1 قطعة\n",
      "Color:     أبيض\n",
      "['   سلة مهملات ', ' عرض 17 ', ' عمق 17 ', ' ارتفاع 26 سم']\n",
      "width 17\n",
      "height 26\n",
      "length 17\n",
      "Style:   معاصر\n"
     ]
    }
   ],
   "source": [
    "count = 0\n",
    "list_images = []\n",
    "list_input_title = []\n",
    "list_input_price = []\n",
    "list_input_images1 = []\n",
    "list_input_images2 = []\n",
    "list_input_images3 = []\n",
    "list_input_images4 = []\n",
    "list_input_price_was = []\n",
    "list_input_model = []\n",
    "list_input_size = []\n",
    "list_input_color = []\n",
    "list_input_sku = []\n",
    "list_input_style = []\n",
    "list_input_in_stock = []\n",
    "list_input_mater = []\n",
    "list_input_link_url = []\n",
    "list_input_category1 = []\n",
    "list_input_category2 = []\n",
    "list_input_category3 = []\n",
    "list_input_width = []\n",
    "list_input_height = []\n",
    "list_input_length = []\n",
    "\n",
    "#ForLoop main\n",
    "for product in links_products:\n",
    "    time.sleep(1)\n",
    "    try:\n",
    "        driver.get(product)\n",
    "        time.sleep(3)\n",
    "    except:\n",
    "        continue\n",
    "    try:\n",
    "        product_name = driver.find_element_by_class_name('product-name').text\n",
    "    \n",
    "        link_url = str(product)\n",
    "\n",
    "        in_stock = driver.find_element_by_class_name('availability').text\n",
    "\n",
    "        sku = driver.find_element_by_class_name('sku').text[4:]\n",
    "\n",
    "        old_price = driver.find_elements_by_class_name('price')[0].get_attribute('innerHTML').replace('SAR', '').replace('\\n', '').replace(' ', '')\n",
    "\n",
    "        price = driver.find_elements_by_class_name('price')[1].get_attribute('innerHTML').replace('SAR', '').replace('\\n', '').replace(' ', '')\n",
    "\n",
    "        combination = driver.find_element_by_class_name('std').text\n",
    "    except:\n",
    "        continue\n",
    "    combination_product_size_list = combination.split('\\n')\n",
    "    combination_product_size_list1 = driver.find_element_by_class_name('std').text.split('\\n\\n')\n",
    "    combination = combination_product_size_list[1].replace('♦', '')\n",
    "    #product_size = combination_product_size_list[4].replace('♦', '')\n",
    "    \n",
    " # CATEGORY  *******************************************   \n",
    " \n",
    "    try:\n",
    "        category1 = driver.find_element_by_class_name('category47').text\n",
    "    except:\n",
    "        category1 = ''\n",
    "    try:\n",
    "        category2 = driver.find_element_by_class_name('category61').text\n",
    "    except:\n",
    "        category2 = ''\n",
    "    try:\n",
    "        category3 = driver.find_element_by_class_name('').text\n",
    "    except:\n",
    "        category3 = ''\n",
    "    print('Cat1:', category1)\n",
    "    print('Cat2:', category2)\n",
    "    print('Cat3:', category3)\n",
    "\n",
    " # MATTER  *******************************************   \n",
    "  \n",
    "    mater = return_details('مواد التصنيع', combination_product_size_list1).replace(\"\\n\", \" \").replace(':', '').replace('♦', '')\n",
    "    if mater == '':\n",
    "        for  matter in combination_product_size_list1:\n",
    "            if matter.find('Materials') == 0:\n",
    "                \n",
    "                mater = matter.replace('Materials', '').replace(':', '').replace('♦', '')\n",
    "\n",
    "\n",
    "    print('Mater', mater)\n",
    "# DETAIL  *******************************************   \n",
    "    \n",
    "    detail = return_details('تفاصيل المنتج', combination_product_size_list1).replace(\"\\n\", \" \").replace(':', '').replace('♦', '')\n",
    "    if detail == '':\n",
    "        for dt in combination_product_size_list1:\n",
    "\n",
    "\n",
    "            if dt.find('Combination') == 0:\n",
    "                print('coucou')\n",
    "                detail = dt.replace('♦ ', '').replace('Combination', '').replace(':', '').replace('\\n', '')\n",
    "    print('Detail: ',detail)   \n",
    "# COLOR  *******************************************   \n",
    "\n",
    "    color = return_details('اللون', combination_product_size_list1).replace(\"\\n\", \" \").replace('♦', '').replace(':', '')\n",
    "    if color == '':\n",
    "        # Additional\n",
    "        try:\n",
    "            additional_tabbed = driver.find_element_by_id('product_tabs_additional_tabbed')\n",
    "            additional_tabbed.click()\n",
    "            time.sleep(1)\n",
    "            color = driver.find_element_by_id('product-attribute-specs-table').text.replace('اللون', '')\n",
    "            \n",
    "        except:\n",
    "            color = ''\n",
    "    print('Color: ', color)\n",
    "# SIZE  *******************************************   \n",
    "    size = return_details('حجم المنتج', combination_product_size_list1).replace(\"\\n\", \" \").replace('♦', '').replace(':', '').replace('مصباح طاولة', '').replace('مصباح أرضي', '').replace('مصباح أرضي:', '').replace('ثريا سقف', '')\n",
    "    if size == '':\n",
    "        for size_find in combination_product_size_list1:\n",
    "            if size_find.find('Product Size') == 0:\n",
    "                size = size_find.replace('Product Size', '').replace(':', '').replace('\\n', ''). replace('♦', '').replace('  ', '')\n",
    "    if size.find('Table Lamp') == 0:\n",
    "        size = size.replace('Table Lamp', '')\n",
    "    if size == '':\n",
    "        for size_find in combination_product_size_list1:\n",
    "            if size_find.find('الحجم') == 0:\n",
    "                size = size_find.replace('الحجم', '').replace(':', '').replace('\\n', ''). replace('♦', '').replace('  ', '')\n",
    "    toto = size.split('*')\n",
    "    print(toto)\n",
    "    #Width\n",
    "    try:\n",
    "        width1 = [x for x in toto if 'عرض' in x or 'العرض' in x]\n",
    "        width2 = width1[0].split(' ')\n",
    "        width3 =  [x for x in width2 if x.isdigit()]\n",
    "        width =  str(width3[0])\n",
    "        print('width',width)\n",
    "    except:\n",
    "        print('Pas de width')\n",
    "        width = ''\n",
    "    #height\n",
    "    try:\n",
    "        height1 = [x for x in toto if 'إرتفاع' in x or ' ارتفاع'in x or 'الارتفاع' in x  ]\n",
    "        height2 = height1[0].split(' ')\n",
    "        height3 = [x for x in height2 if x.isdigit()]\n",
    "        height = str(height3[0])\n",
    "        print('height',height)\n",
    "    except:\n",
    "        print('Pas de height')\n",
    "        height = ''\n",
    "\n",
    "    #length\n",
    "    try:\n",
    "        length1 = [x for x in toto if 'عمق' in x or 'العمق' in x]\n",
    "        length2 = length1[0].split(' ')\n",
    "        length3 = [x for x in length2 if x.isdigit()]\n",
    "        length = str(length3[0])\n",
    "        print('length',length)\n",
    "    except:\n",
    "        print('Pas de height')\n",
    "        height = ''\n",
    "    \n",
    "     \n",
    "    \n",
    "    \n",
    "    \n",
    "# STYLE  *******************************************   \n",
    "    style = return_details('النوع :', combination_product_size_list1).replace(\"\\n\", \" \").replace('♦', '')\n",
    "\n",
    "    if style == '':\n",
    "        try:\n",
    "\n",
    "\n",
    "            for styl in combination_product_size_list1:\n",
    "                \n",
    "\n",
    "                if styl.find('Concept') == 0:\n",
    "                    style = styl.replace('Concept :\\n♦', '').replace(':', '').replace('\\n', '')\n",
    "\n",
    "\n",
    "        except:\n",
    "            style = ''\n",
    "    if style.find('نوع المنتج') == 0:\n",
    "        style = style.replace('نوع المنتج', '').replace(':', '')\n",
    "    print('Style:', style)\n",
    "#     price = driver.find_element_by_id(\"product-attribute-specs-table\").text\n",
    "#     print(price)\n",
    "\n",
    "# IMAGES ***************************************************\n",
    "    list_images = []\n",
    "    \n",
    "    \n",
    "    images = driver.find_elements_by_class_name(\"gallery-image\")# 4 images.\n",
    "    for i in images:\n",
    "        list_images.append(i.get_attribute('src'))\n",
    "    list_input_title.append(product_name)\n",
    "    list_input_price.append(price)\n",
    "    list_input_price_was.append(old_price)\n",
    "    list_input_model.append(detail)\n",
    "    list_input_color.append(color)\n",
    "    list_input_size.append(size)\n",
    "    list_input_in_stock.append(in_stock)\n",
    "    list_input_sku.append(sku)\n",
    "    list_input_style.append(style)\n",
    "    list_input_mater.append(mater)\n",
    "    list_input_link_url.append(link_url)\n",
    "    list_input_category1.append(category1)\n",
    "    list_input_category2.append(category2)\n",
    "    list_input_category3.append(category3)\n",
    "    list_input_width.append(width)\n",
    "    list_input_height.append(height)\n",
    "    list_input_length.append(length)\n",
    "    try:\n",
    "        list_input_images1.append(list_images[0])\n",
    "    except:\n",
    "        list_input_images1.append('')\n",
    "        \n",
    "    try:\n",
    "        list_input_images2.append(list_images[1])\n",
    "    except:\n",
    "        list_input_images2.append('')\n",
    "        \n",
    "        \n",
    "    try:\n",
    "        list_input_images3.append(list_images[2])\n",
    "    except:\n",
    "        list_input_images3.append('')\n",
    "    try:\n",
    "        list_input_images4.append(list_images[3])\n",
    "    except:\n",
    "        list_input_images4.append('')\n",
    "    #df['Images'] = list_images\n",
    "    \n",
    "df = pd.DataFrame({'Sku': list_input_sku,\n",
    "                    'In Stock': list_input_in_stock,\n",
    "                    'Title': list_input_title,\n",
    "#                    'Price': list_input_price, \n",
    "#                    \"Price was\":list_input_price_was,  \n",
    "#                    'Model': list_input_model, \n",
    "#                    'Color': list_input_color, \n",
    "#                    'Width': list_input_width,\n",
    "#                    'Height': list_input_height,\n",
    "#                    'Length': list_input_length,\n",
    "#                    'Style': list_input_style,\n",
    "#                    'Matter': list_input_mater,\n",
    "                   'Images1': list_input_images1,\n",
    "                   'Images2': list_input_images2,\n",
    "                   'Images3': list_input_images3,\n",
    "                   'Images4': list_input_images4,\n",
    "                   'Link url': list_input_link_url,\n",
    "#                    'Category1': list_input_category1,\n",
    "#                    'Category2': list_input_category2,\n",
    "#                    'Category3': list_input_category3,\n",
    "\n",
    "                  })\n",
    "#     new_df = pd.concat([df])\n",
    "df.to_excel( 'result_bathroom_test2.xlsx', index = True)\n",
    "    \n",
    "    \n",
    "    \n",
    "    \n",
    "    \n",
    "    \n",
    "    "
   ]
  },
  {
   "cell_type": "code",
   "execution_count": null,
   "metadata": {},
   "outputs": [],
   "source": [
    "   0"
   ]
  },
  {
   "cell_type": "code",
   "execution_count": null,
   "metadata": {},
   "outputs": [],
   "source": [
    "///     .h xcrfv ssss12a34fvggh]4"
   ]
  },
  {
   "cell_type": "code",
   "execution_count": null,
   "metadata": {},
   "outputs": [],
   "source": []
  },
  {
   "cell_type": "code",
   "execution_count": null,
   "metadata": {},
   "outputs": [],
   "source": []
  },
  {
   "cell_type": "code",
   "execution_count": null,
   "metadata": {},
   "outputs": [],
   "source": []
  },
  {
   "cell_type": "code",
   "execution_count": null,
   "metadata": {},
   "outputs": [],
   "source": []
  },
  {
   "cell_type": "code",
   "execution_count": 8,
   "metadata": {},
   "outputs": [
    {
     "data": {
      "text/plain": [
       "'منشفة * عرض 30 * عمق 30 * إرتفاع سم'"
      ]
     },
     "execution_count": 8,
     "metadata": {},
     "output_type": "execute_result"
    }
   ],
   "source": [
    "size"
   ]
  },
  {
   "cell_type": "code",
   "execution_count": 35,
   "metadata": {},
   "outputs": [
    {
     "name": "stdout",
     "output_type": "stream",
     "text": [
      "['   سلة مهملات ', ' عرض 22 ', ' عمق 22 ', ' ارتفاع 29 سم']\n",
      "width 22\n",
      "Pas de height\n",
      "length 22\n"
     ]
    }
   ],
   "source": [
    "toto = ['   سلة مهملات ', ' عرض 22 ', ' عمق 22 ', ' ارتفاع 29 سم']\n",
    "print(toto)\n",
    "#Width\n",
    "try:\n",
    "    width1 = [x for x in toto if 'عرض' in x]\n",
    "    width2 = width1[0].split(' ')\n",
    "    width3 =  [x for x in width2 if x.isdigit()]\n",
    "    width =  str(width3[0])\n",
    "    print('width',width)\n",
    "except:\n",
    "    print('Pas de width')\n",
    "    width = ''\n",
    "#height\n",
    "    height1 = [x for x in toto if 'إرتفاع' in x]\n",
    "    height2 = height1[0].spblit(' ')\n",
    "    height3 = [x for x in height2 if x.isdigit()]\n",
    "    height = str(height3[0])\n",
    "    print('height',height)\n",
    "except:\n",
    "    print('Pas de height')\n",
    "    height = ''\n",
    "\n",
    "#length\n",
    "try:\n",
    "    length1 = [x for x in toto if 'عمق' in x]\n",
    "    length2 = length1[0].split(' ')\n",
    "    length3 = [x for x in length2 if x.isdigit()]\n",
    "    length = str(length3[0])\n",
    "    print('length',length)\n",
    "except:\n",
    "    print('Pas de height')\n",
    "    height = ''\n"
   ]
  },
  {
   "cell_type": "code",
   "execution_count": null,
   "metadata": {},
   "outputs": [],
   "source": []
  },
  {
   "cell_type": "code",
   "execution_count": null,
   "metadata": {},
   "outputs": [],
   "source": []
  },
  {
   "cell_type": "code",
   "execution_count": null,
   "metadata": {},
   "outputs": [],
   "source": []
  },
  {
   "cell_type": "code",
   "execution_count": null,
   "metadata": {},
   "outputs": [],
   "source": []
  },
  {
   "cell_type": "code",
   "execution_count": null,
   "metadata": {},
   "outputs": [],
   "source": []
  },
  {
   "cell_type": "code",
   "execution_count": null,
   "metadata": {},
   "outputs": [],
   "source": []
  },
  {
   "cell_type": "code",
   "execution_count": null,
   "metadata": {},
   "outputs": [],
   "source": []
  },
  {
   "cell_type": "code",
   "execution_count": null,
   "metadata": {},
   "outputs": [],
   "source": []
  },
  {
   "cell_type": "code",
   "execution_count": 21,
   "metadata": {},
   "outputs": [],
   "source": [
    "width1 = [x for x in toto if 'عرض' in x]\n",
    "width2 = width1[0].split(' ')"
   ]
  },
  {
   "cell_type": "code",
   "execution_count": 23,
   "metadata": {},
   "outputs": [
    {
     "data": {
      "text/plain": [
       "['', 'عرض', '30', '']"
      ]
     },
     "execution_count": 23,
     "metadata": {},
     "output_type": "execute_result"
    }
   ],
   "source": [
    "width2"
   ]
  },
  {
   "cell_type": "code",
   "execution_count": null,
   "metadata": {},
   "outputs": [],
   "source": []
  },
  {
   "cell_type": "code",
   "execution_count": 24,
   "metadata": {},
   "outputs": [],
   "source": [
    "width3 = [x for x in width2 if x.isdigit()]"
   ]
  },
  {
   "cell_type": "code",
   "execution_count": 25,
   "metadata": {},
   "outputs": [
    {
     "data": {
      "text/plain": [
       "['30']"
      ]
     },
     "execution_count": 25,
     "metadata": {},
     "output_type": "execute_result"
    }
   ],
   "source": [
    "width3"
   ]
  },
  {
   "cell_type": "code",
   "execution_count": null,
   "metadata": {},
   "outputs": [],
   "source": []
  },
  {
   "cell_type": "code",
   "execution_count": null,
   "metadata": {},
   "outputs": [],
   "source": []
  },
  {
   "cell_type": "code",
   "execution_count": null,
   "metadata": {},
   "outputs": [],
   "source": []
  },
  {
   "cell_type": "code",
   "execution_count": 18,
   "metadata": {},
   "outputs": [
    {
     "data": {
      "text/plain": [
       "['', 'عرض', '30', '']"
      ]
     },
     "execution_count": 18,
     "metadata": {},
     "output_type": "execute_result"
    }
   ],
   "source": [
    "width2"
   ]
  },
  {
   "cell_type": "code",
   "execution_count": null,
   "metadata": {},
   "outputs": [],
   "source": []
  },
  {
   "cell_type": "code",
   "execution_count": null,
   "metadata": {},
   "outputs": [],
   "source": []
  },
  {
   "cell_type": "code",
   "execution_count": null,
   "metadata": {},
   "outputs": [],
   "source": []
  },
  {
   "cell_type": "code",
   "execution_count": null,
   "metadata": {},
   "outputs": [],
   "source": []
  },
  {
   "cell_type": "code",
   "execution_count": 10,
   "metadata": {},
   "outputs": [
    {
     "data": {
      "text/plain": [
       "[' عمق 30 ']"
      ]
     },
     "execution_count": 10,
     "metadata": {},
     "output_type": "execute_result"
    }
   ],
   "source": [
    "[x for x in toto if 'عمق' in x]"
   ]
  },
  {
   "cell_type": "code",
   "execution_count": 11,
   "metadata": {},
   "outputs": [
    {
     "data": {
      "text/plain": [
       "['30']"
      ]
     },
     "execution_count": 11,
     "metadata": {},
     "output_type": "execute_result"
    }
   ],
   "source": [
    "length1[0].split(' ')"
   ]
  },
  {
   "cell_type": "code",
   "execution_count": null,
   "metadata": {},
   "outputs": [],
   "source": []
  },
  {
   "cell_type": "code",
   "execution_count": null,
   "metadata": {},
   "outputs": [],
   "source": []
  },
  {
   "cell_type": "code",
   "execution_count": null,
   "metadata": {},
   "outputs": [],
   "source": []
  },
  {
   "cell_type": "code",
   "execution_count": null,
   "metadata": {},
   "outputs": [],
   "source": []
  },
  {
   "cell_type": "code",
   "execution_count": null,
   "metadata": {},
   "outputs": [],
   "source": []
  },
  {
   "cell_type": "code",
   "execution_count": null,
   "metadata": {},
   "outputs": [],
   "source": []
  },
  {
   "cell_type": "code",
   "execution_count": null,
   "metadata": {},
   "outputs": [],
   "source": []
  },
  {
   "cell_type": "code",
   "execution_count": null,
   "metadata": {},
   "outputs": [],
   "source": []
  },
  {
   "cell_type": "code",
   "execution_count": 5,
   "metadata": {},
   "outputs": [],
   "source": [
    "df = pd.read_excel( 'result_bathroom.xlsx')"
   ]
  },
  {
   "cell_type": "code",
   "execution_count": null,
   "metadata": {},
   "outputs": [],
   "source": []
  },
  {
   "cell_type": "code",
   "execution_count": null,
   "metadata": {},
   "outputs": [],
   "source": []
  },
  {
   "cell_type": "code",
   "execution_count": null,
   "metadata": {},
   "outputs": [],
   "source": []
  },
  {
   "cell_type": "code",
   "execution_count": null,
   "metadata": {},
   "outputs": [],
   "source": []
  },
  {
   "cell_type": "code",
   "execution_count": null,
   "metadata": {},
   "outputs": [],
   "source": []
  },
  {
   "cell_type": "code",
   "execution_count": null,
   "metadata": {},
   "outputs": [],
   "source": []
  },
  {
   "cell_type": "code",
   "execution_count": null,
   "metadata": {},
   "outputs": [],
   "source": []
  },
  {
   "cell_type": "code",
   "execution_count": null,
   "metadata": {},
   "outputs": [],
   "source": []
  },
  {
   "cell_type": "code",
   "execution_count": null,
   "metadata": {},
   "outputs": [],
   "source": []
  },
  {
   "cell_type": "code",
   "execution_count": null,
   "metadata": {},
   "outputs": [],
   "source": []
  },
  {
   "cell_type": "code",
   "execution_count": null,
   "metadata": {},
   "outputs": [],
   "source": []
  },
  {
   "cell_type": "code",
   "execution_count": 85,
   "metadata": {},
   "outputs": [],
   "source": [
    "#data = pd.read_excel(\"resultMidasLight.xlsx\")"
   ]
  },
  {
   "cell_type": "code",
   "execution_count": 6,
   "metadata": {},
   "outputs": [],
   "source": [
    "data_colum_check = ['size', ]\n",
    "\n"
   ]
  },
  {
   "cell_type": "code",
   "execution_count": null,
   "metadata": {},
   "outputs": [],
   "source": []
  },
  {
   "cell_type": "code",
   "execution_count": 17,
   "metadata": {},
   "outputs": [],
   "source": [
    "df = pd.read_excel( 'result_bath1.xlsx')"
   ]
  },
  {
   "cell_type": "code",
   "execution_count": null,
   "metadata": {},
   "outputs": [],
   "source": []
  },
  {
   "cell_type": "code",
   "execution_count": null,
   "metadata": {},
   "outputs": [],
   "source": []
  },
  {
   "cell_type": "code",
   "execution_count": null,
   "metadata": {},
   "outputs": [],
   "source": []
  },
  {
   "cell_type": "code",
   "execution_count": null,
   "metadata": {},
   "outputs": [],
   "source": []
  },
  {
   "cell_type": "code",
   "execution_count": null,
   "metadata": {},
   "outputs": [],
   "source": []
  },
  {
   "cell_type": "code",
   "execution_count": 18,
   "metadata": {},
   "outputs": [],
   "source": [
    "df[data_colum_check] = df[data_colum_check].replace({'فوط':''}, regex=True).replace({'للمناشف':''}, regex=True).replace({'للمائدة':''}, regex=True).replace({'للمناشف':''}, regex=True).replace({'و رف':''}, regex=True).replace({'سجادة':''}, regex=True).replace({'علبة':''}, regex=True).replace({'عود':''}, regex=True).replace({'أسنان':''}, regex=True).replace({'/':' '}, regex=True).replace({'فرشاة':''}, regex=True).replace({'تنظيف':''}, regex=True).replace({'كوب فرشاة اسنان':''}, regex=True).replace({'موزع صابون':''}, regex=True).replace({'صندوق محارم':''}, regex=True).replace({'فراشة للحمام او  لفرشات':''}, regex=True).replace({'متنوعة':''}, regex=True).replace({'مسند':''}, regex=True).replace({'جمل':''}, regex=True).replace({'مفتاح':''}, regex=True).replace({'كتب':''}, regex=True).replace({'حامل':''}, regex=True).replace({'ببغاء':''}, regex=True).replace({'مصباح':''}, regex=True).replace({'يد':''}, regex=True)"
   ]
  },
  {
   "cell_type": "code",
   "execution_count": null,
   "metadata": {},
   "outputs": [],
   "source": []
  },
  {
   "cell_type": "code",
   "execution_count": null,
   "metadata": {},
   "outputs": [],
   "source": []
  },
  {
   "cell_type": "code",
   "execution_count": null,
   "metadata": {},
   "outputs": [],
   "source": []
  },
  {
   "cell_type": "code",
   "execution_count": null,
   "metadata": {},
   "outputs": [],
   "source": []
  },
  {
   "cell_type": "code",
   "execution_count": null,
   "metadata": {},
   "outputs": [],
   "source": []
  },
  {
   "cell_type": "code",
   "execution_count": null,
   "metadata": {},
   "outputs": [],
   "source": []
  },
  {
   "cell_type": "code",
   "execution_count": null,
   "metadata": {},
   "outputs": [],
   "source": []
  },
  {
   "cell_type": "code",
   "execution_count": null,
   "metadata": {},
   "outputs": [],
   "source": []
  },
  {
   "cell_type": "code",
   "execution_count": 19,
   "metadata": {},
   "outputs": [],
   "source": [
    "df.to_excel( 'result_bath1.xlsx')"
   ]
  },
  {
   "cell_type": "code",
   "execution_count": null,
   "metadata": {},
   "outputs": [],
   "source": []
  },
  {
   "cell_type": "code",
   "execution_count": null,
   "metadata": {},
   "outputs": [],
   "source": []
  },
  {
   "cell_type": "code",
   "execution_count": null,
   "metadata": {},
   "outputs": [],
   "source": []
  },
  {
   "cell_type": "code",
   "execution_count": null,
   "metadata": {},
   "outputs": [],
   "source": []
  },
  {
   "cell_type": "code",
   "execution_count": null,
   "metadata": {},
   "outputs": [],
   "source": []
  },
  {
   "cell_type": "code",
   "execution_count": null,
   "metadata": {},
   "outputs": [],
   "source": []
  },
  {
   "cell_type": "code",
   "execution_count": null,
   "metadata": {},
   "outputs": [],
   "source": []
  },
  {
   "cell_type": "code",
   "execution_count": null,
   "metadata": {},
   "outputs": [],
   "source": []
  },
  {
   "cell_type": "code",
   "execution_count": null,
   "metadata": {},
   "outputs": [],
   "source": []
  },
  {
   "cell_type": "code",
   "execution_count": null,
   "metadata": {},
   "outputs": [],
   "source": []
  },
  {
   "cell_type": "code",
   "execution_count": null,
   "metadata": {},
   "outputs": [],
   "source": [
    "df[data_colum_check] = df[data_colum_check].replace({'مسند':''}, regex=True).replace({'طاووس':''}, regex=True).replace({'مسند':''}, regex=True).replace({'اكسسوارات':''}, regex=True).replace({'متنوعة':''}, regex=True).replace({'مسند':''}, regex=True).replace({'جمل':''}, regex=True).replace({'مفتاح':''}, regex=True).replace({'كتب':''}, regex=True).replace({'حامل':''}, regex=True)"
   ]
  },
  {
   "cell_type": "code",
   "execution_count": 119,
   "metadata": {},
   "outputs": [],
   "source": [
    "toto = df.drop('In Stock',\n",
    "  axis='columns', inplace=True)"
   ]
  },
  {
   "cell_type": "code",
   "execution_count": null,
   "metadata": {},
   "outputs": [],
   "source": []
  },
  {
   "cell_type": "code",
   "execution_count": null,
   "metadata": {},
   "outputs": [],
   "source": []
  },
  {
   "cell_type": "code",
   "execution_count": null,
   "metadata": {},
   "outputs": [],
   "source": []
  },
  {
   "cell_type": "code",
   "execution_count": null,
   "metadata": {},
   "outputs": [],
   "source": []
  },
  {
   "cell_type": "code",
   "execution_count": 161,
   "metadata": {},
   "outputs": [],
   "source": [
    "combination = driver.find_element_by_class_name('std').text\n",
    "    \n",
    "combination_product_size_list = combination.split('\\n')\n",
    "combination_product_size_list1 = driver.find_element_by_class_name('std').text.split('\\n\\n')"
   ]
  },
  {
   "cell_type": "code",
   "execution_count": null,
   "metadata": {},
   "outputs": [],
   "source": []
  },
  {
   "cell_type": "code",
   "execution_count": null,
   "metadata": {},
   "outputs": [],
   "source": []
  },
  {
   "cell_type": "code",
   "execution_count": 162,
   "metadata": {},
   "outputs": [
    {
     "data": {
      "text/plain": [
       "['وصف المنتج: :\\nحامل فرشات الاسنان',\n",
       " 'تفاصيل المنتج :\\n♦ حامل فرشات الاسنان عدد 1 قطعة',\n",
       " 'حجم المنتج :\\n♦ حامل فرشات الاسنان: العرض 7 * العمق 7 * الارتفاع 10 سم',\n",
       " 'المواد الرئيسية:\\n♦بوليسترين / معدنى']"
      ]
     },
     "execution_count": 162,
     "metadata": {},
     "output_type": "execute_result"
    }
   ],
   "source": [
    "combination_product_size_list1"
   ]
  },
  {
   "cell_type": "code",
   "execution_count": 163,
   "metadata": {},
   "outputs": [
    {
     "name": "stdout",
     "output_type": "stream",
     "text": [
      "Mater  بوليسترين / معدنى\n"
     ]
    }
   ],
   "source": [
    "mater = return_details('المواد الرئيسية', combination_product_size_list1).replace(\"\\n\", \" \").replace(':', '').replace('♦', '')\n",
    "if mater == '':\n",
    "    for  matter in combination_product_size_list1:\n",
    "        if matter.find('Materials') == 0:\n",
    "\n",
    "            mater = matter.replace('Materials', '').replace(':', '').replace('♦', '')\n",
    "\n",
    "\n",
    "print('Mater', mater)"
   ]
  },
  {
   "cell_type": "code",
   "execution_count": null,
   "metadata": {},
   "outputs": [],
   "source": []
  },
  {
   "cell_type": "code",
   "execution_count": null,
   "metadata": {},
   "outputs": [],
   "source": []
  },
  {
   "cell_type": "code",
   "execution_count": null,
   "metadata": {},
   "outputs": [],
   "source": []
  },
  {
   "cell_type": "code",
   "execution_count": 72,
   "metadata": {},
   "outputs": [
    {
     "name": "stdout",
     "output_type": "stream",
     "text": [
      " عرض 35 * عمق 35 * ارتفاع 63 سم\n"
     ]
    }
   ],
   "source": [
    "size = return_details('حجم المنتج', combination_product_size_list1).replace(\"\\n\", \" \").replace('♦', '').replace(':', '').replace('مصباح طاولة', '').replace('مصباح أرضي', '').replace('مصباح أرضي:', '').replace('ثريا سقف', '')\n",
    "if size == '':\n",
    "    for size_find in combination_product_size_list1:\n",
    "        if size_find.find('Product Size') == 0:\n",
    "            size = size_find.replace('Product Size', '').replace(':', '').replace('\\n', ''). replace('♦', '').replace('  ', '')\n",
    "if size.find('Table Lamp') == 0:\n",
    "    size = size.replace('Table Lamp', '')\n",
    "if size.find('مصباح طاولة') == 0:\n",
    "    size = size.replace('مصباح طاولة', '')\n",
    "if size.find('مصباح أرضي') == 0:\n",
    "    size = size.replace('مصباح أرضي', '')\n",
    "if size.find('مصباح سقف') == 0:\n",
    "    size = size.replace('مصباح سقف', '')\n",
    "if size.find('مصباح حائط') == 0:\n",
    "    size = size.replace('مصباح حائط', '')\n",
    "if size.find('/معلقة/ ثريا ') == 0:\n",
    "    size = size.replace('/معلقة/ ثريا', '')\n",
    "print(size)"
   ]
  },
  {
   "cell_type": "code",
   "execution_count": null,
   "metadata": {},
   "outputs": [],
   "source": []
  },
  {
   "cell_type": "code",
   "execution_count": null,
   "metadata": {},
   "outputs": [],
   "source": []
  },
  {
   "cell_type": "code",
   "execution_count": 82,
   "metadata": {},
   "outputs": [
    {
     "name": "stdout",
     "output_type": "stream",
     "text": [
      "1\n",
      "style1 \n",
      "2\n",
      "3\n",
      "3\n",
      "Style: \n"
     ]
    }
   ],
   "source": [
    "style = return_details('النوع :', combination_product_size_list1).replace(\"\\n\", \" \").replace('♦', '')\n",
    "\n",
    "if style == '':\n",
    "    try:\n",
    "\n",
    "        \n",
    "        for styl in combination_product_size_list1:\n",
    "            print('3')\n",
    "            \n",
    "            if styl.find('Concept') == 0:\n",
    "                style = styl.replace('Concept :\\n♦', '').replace(':', '').replace('\\n', '')\n",
    "                \n",
    "\n",
    "    except:\n",
    "        style = ''\n",
    "if style.find('نوع المنتج') == 0:\n",
    "    style = style.replace('نوع المنتج', '').replace(':', '')\n",
    "print('Style:', style)"
   ]
  },
  {
   "cell_type": "code",
   "execution_count": null,
   "metadata": {},
   "outputs": [],
   "source": []
  },
  {
   "cell_type": "code",
   "execution_count": null,
   "metadata": {},
   "outputs": [],
   "source": []
  },
  {
   "cell_type": "code",
   "execution_count": null,
   "metadata": {},
   "outputs": [],
   "source": []
  },
  {
   "cell_type": "code",
   "execution_count": null,
   "metadata": {},
   "outputs": [],
   "source": []
  },
  {
   "cell_type": "code",
   "execution_count": null,
   "metadata": {},
   "outputs": [],
   "source": []
  },
  {
   "cell_type": "code",
   "execution_count": null,
   "metadata": {},
   "outputs": [],
   "source": []
  },
  {
   "cell_type": "code",
   "execution_count": null,
   "metadata": {},
   "outputs": [],
   "source": []
  },
  {
   "cell_type": "code",
   "execution_count": null,
   "metadata": {},
   "outputs": [],
   "source": []
  },
  {
   "cell_type": "code",
   "execution_count": null,
   "metadata": {},
   "outputs": [],
   "source": []
  },
  {
   "cell_type": "code",
   "execution_count": null,
   "metadata": {},
   "outputs": [],
   "source": []
  },
  {
   "cell_type": "code",
   "execution_count": null,
   "metadata": {},
   "outputs": [],
   "source": []
  },
  {
   "cell_type": "code",
   "execution_count": null,
   "metadata": {},
   "outputs": [],
   "source": []
  },
  {
   "cell_type": "code",
   "execution_count": null,
   "metadata": {},
   "outputs": [],
   "source": []
  },
  {
   "cell_type": "code",
   "execution_count": null,
   "metadata": {},
   "outputs": [],
   "source": []
  },
  {
   "cell_type": "code",
   "execution_count": null,
   "metadata": {},
   "outputs": [],
   "source": []
  },
  {
   "cell_type": "code",
   "execution_count": 64,
   "metadata": {},
   "outputs": [
    {
     "name": "stdout",
     "output_type": "stream",
     "text": [
      "Mater \n"
     ]
    }
   ],
   "source": [
    "mater = return_details('مواد التصنيع', combination_product_size_list1).replace(\"\\n\", \" \").replace(':', '').replace('♦', '')\n",
    "if mater == '':\n",
    "    for  matter in combination_product_size_list1:\n",
    "        if matter.find('Materials') == 0:\n",
    "\n",
    "            mater = matter.replace('Materials', '').replace(':', '').replace('♦', '')\n",
    "\n",
    "\n",
    "print('Mater', mater)"
   ]
  },
  {
   "cell_type": "code",
   "execution_count": null,
   "metadata": {},
   "outputs": [],
   "source": []
  },
  {
   "cell_type": "code",
   "execution_count": null,
   "metadata": {},
   "outputs": [],
   "source": []
  },
  {
   "cell_type": "code",
   "execution_count": null,
   "metadata": {},
   "outputs": [],
   "source": []
  },
  {
   "cell_type": "code",
   "execution_count": null,
   "metadata": {},
   "outputs": [],
   "source": []
  },
  {
   "cell_type": "code",
   "execution_count": null,
   "metadata": {},
   "outputs": [],
   "source": []
  },
  {
   "cell_type": "code",
   "execution_count": null,
   "metadata": {},
   "outputs": [],
   "source": []
  },
  {
   "cell_type": "code",
   "execution_count": null,
   "metadata": {},
   "outputs": [],
   "source": []
  },
  {
   "cell_type": "code",
   "execution_count": null,
   "metadata": {},
   "outputs": [],
   "source": []
  },
  {
   "cell_type": "code",
   "execution_count": null,
   "metadata": {},
   "outputs": [],
   "source": []
  },
  {
   "cell_type": "code",
   "execution_count": 44,
   "metadata": {},
   "outputs": [
    {
     "data": {
      "text/plain": [
       "['الصفحة', 'الرئيسية', 'MARISKA', 'TABLE', 'LAMP']"
      ]
     },
     "execution_count": 44,
     "metadata": {},
     "output_type": "execute_result"
    }
   ],
   "source": [
    "category"
   ]
  },
  {
   "cell_type": "code",
   "execution_count": null,
   "metadata": {},
   "outputs": [],
   "source": []
  },
  {
   "cell_type": "code",
   "execution_count": null,
   "metadata": {},
   "outputs": [],
   "source": []
  },
  {
   "cell_type": "code",
   "execution_count": null,
   "metadata": {},
   "outputs": [],
   "source": []
  },
  {
   "cell_type": "code",
   "execution_count": 40,
   "metadata": {},
   "outputs": [
    {
     "name": "stdout",
     "output_type": "stream",
     "text": [
      "إكسسوارات الإضاءة\n"
     ]
    }
   ],
   "source": [
    "category_1 = category[1]\n",
    "category_2 = category[2]\n",
    "print(category_1, category_2)"
   ]
  },
  {
   "cell_type": "code",
   "execution_count": null,
   "metadata": {},
   "outputs": [],
   "source": []
  },
  {
   "cell_type": "code",
   "execution_count": null,
   "metadata": {},
   "outputs": [],
   "source": []
  },
  {
   "cell_type": "code",
   "execution_count": null,
   "metadata": {},
   "outputs": [],
   "source": []
  },
  {
   "cell_type": "code",
   "execution_count": null,
   "metadata": {},
   "outputs": [],
   "source": []
  },
  {
   "cell_type": "code",
   "execution_count": null,
   "metadata": {},
   "outputs": [],
   "source": []
  },
  {
   "cell_type": "code",
   "execution_count": 30,
   "metadata": {},
   "outputs": [
    {
     "data": {
      "text/plain": [
       "['الوصف : مصباح طاولة',\n",
       " 'تفاصيل المنتج :\\n♦ مصباح طاولة 1 قطعة',\n",
       " 'حجم المنتج :\\n♦ مصباح طاولة * عرض 40 * عمق 40 * ارتفاع 67 سم',\n",
       " 'اللون :\\n♦ ذهبى، أبيض',\n",
       " 'النوع :\\n♦ معاصر']"
      ]
     },
     "execution_count": 30,
     "metadata": {},
     "output_type": "execute_result"
    }
   ],
   "source": [
    "combination_product_size_list1"
   ]
  },
  {
   "cell_type": "code",
   "execution_count": 34,
   "metadata": {},
   "outputs": [
    {
     "name": "stdout",
     "output_type": "stream",
     "text": [
      "Detail:     مصباح طاولة 1 قطعة\n"
     ]
    }
   ],
   "source": [
    "detail = return_details('تفاصيل المنتج', combination_product_size_list1).replace(\"\\n\", \" \").replace(':', '').replace('♦', '')\n",
    "if detail == '':\n",
    "    for dt in combination_product_size_list1:\n",
    "\n",
    "\n",
    "        if dt.find('Combination') == 0:\n",
    "            print('coucou')\n",
    "            detail = dt.replace('♦ ', '').replace('Combination', '').replace(':', '').replace('\\n', '')\n",
    "print('Detail: ',detail) "
   ]
  },
  {
   "cell_type": "code",
   "execution_count": null,
   "metadata": {},
   "outputs": [],
   "source": []
  },
  {
   "cell_type": "code",
   "execution_count": null,
   "metadata": {},
   "outputs": [],
   "source": []
  },
  {
   "cell_type": "code",
   "execution_count": null,
   "metadata": {},
   "outputs": [],
   "source": []
  },
  {
   "cell_type": "code",
   "execution_count": null,
   "metadata": {},
   "outputs": [],
   "source": []
  },
  {
   "cell_type": "code",
   "execution_count": null,
   "metadata": {},
   "outputs": [],
   "source": []
  },
  {
   "cell_type": "code",
   "execution_count": 25,
   "metadata": {},
   "outputs": [
    {
     "name": "stdout",
     "output_type": "stream",
     "text": [
      "Size Table Lamp * W34 * D34 * H80 CM\n"
     ]
    }
   ],
   "source": [
    "\n",
    "size = return_details('حجم المنتج', combination_product_size_list1).replace(\"\\n\", \" \").replace('♦', '').replace(':', '').replace('مصباح طاولة', '').replace('مصباح أرضي', '').replace('مصباح أرضي:', '').replace('ثريا سقف', '')\n",
    "if size == '':\n",
    "    for size_find in combination_product_size_list1:\n",
    "        if size_find.find('Product Size') == 0:\n",
    "            size = size_find.replace('Product Size', '').replace(':', '').replace('\\n', ''). replace('♦', '').replace('  ', '')\n",
    "\n",
    "print('Size',size)"
   ]
  },
  {
   "cell_type": "code",
   "execution_count": null,
   "metadata": {},
   "outputs": [],
   "source": []
  },
  {
   "cell_type": "code",
   "execution_count": null,
   "metadata": {},
   "outputs": [],
   "source": []
  },
  {
   "cell_type": "code",
   "execution_count": null,
   "metadata": {},
   "outputs": [],
   "source": []
  },
  {
   "cell_type": "code",
   "execution_count": null,
   "metadata": {},
   "outputs": [],
   "source": []
  },
  {
   "cell_type": "code",
   "execution_count": null,
   "metadata": {},
   "outputs": [],
   "source": []
  },
  {
   "cell_type": "code",
   "execution_count": 18,
   "metadata": {},
   "outputs": [
    {
     "name": "stdout",
     "output_type": "stream",
     "text": [
      "coucou\n",
      " Table Lamp 1 PCS\n"
     ]
    }
   ],
   "source": [
    "detail = return_details('الوصف', combination_product_size_list1).replace(\"\\n\", \" \").replace('♦', '')\n",
    "if detail == '':\n",
    "    for dt in combination_product_size_list1:\n",
    "        \n",
    "        \n",
    "        if dt.find('Combination') == 0:\n",
    "            print('coucou')\n",
    "            detail = dt.replace('♦ ', '').replace('Combination', '').replace(':', '').replace('\\n', '')\n",
    "print(detail)  "
   ]
  },
  {
   "cell_type": "code",
   "execution_count": null,
   "metadata": {},
   "outputs": [],
   "source": []
  },
  {
   "cell_type": "code",
   "execution_count": null,
   "metadata": {},
   "outputs": [],
   "source": []
  },
  {
   "cell_type": "code",
   "execution_count": null,
   "metadata": {},
   "outputs": [],
   "source": []
  },
  {
   "cell_type": "code",
   "execution_count": null,
   "metadata": {},
   "outputs": [],
   "source": []
  },
  {
   "cell_type": "code",
   "execution_count": null,
   "metadata": {},
   "outputs": [],
   "source": []
  },
  {
   "cell_type": "code",
   "execution_count": null,
   "metadata": {},
   "outputs": [],
   "source": []
  },
  {
   "cell_type": "code",
   "execution_count": null,
   "metadata": {},
   "outputs": [],
   "source": []
  },
  {
   "cell_type": "code",
   "execution_count": null,
   "metadata": {},
   "outputs": [],
   "source": []
  },
  {
   "cell_type": "code",
   "execution_count": null,
   "metadata": {},
   "outputs": [],
   "source": []
  },
  {
   "cell_type": "code",
   "execution_count": null,
   "metadata": {},
   "outputs": [],
   "source": []
  },
  {
   "cell_type": "code",
   "execution_count": null,
   "metadata": {},
   "outputs": [],
   "source": []
  },
  {
   "cell_type": "code",
   "execution_count": null,
   "metadata": {},
   "outputs": [],
   "source": []
  },
  {
   "cell_type": "code",
   "execution_count": null,
   "metadata": {},
   "outputs": [],
   "source": []
  },
  {
   "cell_type": "code",
   "execution_count": null,
   "metadata": {},
   "outputs": [],
   "source": []
  },
  {
   "cell_type": "code",
   "execution_count": null,
   "metadata": {},
   "outputs": [],
   "source": []
  },
  {
   "cell_type": "code",
   "execution_count": null,
   "metadata": {},
   "outputs": [],
   "source": []
  },
  {
   "cell_type": "code",
   "execution_count": null,
   "metadata": {},
   "outputs": [],
   "source": []
  },
  {
   "cell_type": "code",
   "execution_count": null,
   "metadata": {},
   "outputs": [],
   "source": []
  },
  {
   "cell_type": "code",
   "execution_count": null,
   "metadata": {},
   "outputs": [],
   "source": []
  },
  {
   "cell_type": "code",
   "execution_count": 424,
   "metadata": {},
   "outputs": [
    {
     "name": "stdout",
     "output_type": "stream",
     "text": [
      "TTTT \n",
      "couccou\n",
      "Mater  \n",
      " Metal\n"
     ]
    }
   ],
   "source": [
    "mater = return_details('مواد التصنيع', combination_product_size_list1).replace(\"\\n\", \" \").replace(':', '').replace('♦', '')\n",
    "print('TTTT', mater)\n",
    "if mater == '':\n",
    "    try:\n",
    "        for  matter in combination_product_size_list1:\n",
    "            if matter.find('Materials') == 0:\n",
    "                print('couccou')\n",
    "                mater = matter.replace('Materials', '').replace(':', '').replace('♦', '')\n",
    "                \n",
    "\n",
    "    except:\n",
    "        mater = ''\n",
    "print('Mater', mater)\n",
    "# DETAIL  ********************"
   ]
  },
  {
   "cell_type": "code",
   "execution_count": null,
   "metadata": {},
   "outputs": [],
   "source": []
  },
  {
   "cell_type": "code",
   "execution_count": null,
   "metadata": {},
   "outputs": [],
   "source": []
  },
  {
   "cell_type": "code",
   "execution_count": null,
   "metadata": {},
   "outputs": [],
   "source": []
  },
  {
   "cell_type": "code",
   "execution_count": null,
   "metadata": {},
   "outputs": [],
   "source": []
  },
  {
   "cell_type": "code",
   "execution_count": null,
   "metadata": {},
   "outputs": [],
   "source": []
  },
  {
   "cell_type": "code",
   "execution_count": null,
   "metadata": {},
   "outputs": [],
   "source": []
  },
  {
   "cell_type": "code",
   "execution_count": null,
   "metadata": {},
   "outputs": [],
   "source": []
  },
  {
   "cell_type": "code",
   "execution_count": null,
   "metadata": {},
   "outputs": [],
   "source": []
  },
  {
   "cell_type": "code",
   "execution_count": null,
   "metadata": {},
   "outputs": [],
   "source": []
  },
  {
   "cell_type": "code",
   "execution_count": null,
   "metadata": {},
   "outputs": [],
   "source": []
  },
  {
   "cell_type": "code",
   "execution_count": null,
   "metadata": {},
   "outputs": [],
   "source": []
  },
  {
   "cell_type": "code",
   "execution_count": null,
   "metadata": {},
   "outputs": [],
   "source": []
  },
  {
   "cell_type": "code",
   "execution_count": null,
   "metadata": {},
   "outputs": [],
   "source": []
  },
  {
   "cell_type": "code",
   "execution_count": null,
   "metadata": {},
   "outputs": [],
   "source": []
  },
  {
   "cell_type": "code",
   "execution_count": null,
   "metadata": {},
   "outputs": [],
   "source": []
  },
  {
   "cell_type": "code",
   "execution_count": 389,
   "metadata": {},
   "outputs": [
    {
     "data": {
      "text/plain": [
       "['Overview : StyleCraft Jane Seymour Westlake Table Lamp with round self fabric trimmed and round base',\n",
       " 'Combination :\\n♦ Table Lamp 1 PCS',\n",
       " 'Product Size :\\n♦ Table Lamp * W38 * D43 * H78 CM',\n",
       " 'Materials :\\n♦ Metal',\n",
       " 'Concept :\\n♦ Contemporary',\n",
       " 'Color :\\n♦ Cream',\n",
       " ' ']"
      ]
     },
     "execution_count": 389,
     "metadata": {},
     "output_type": "execute_result"
    }
   ],
   "source": [
    "combination_product_size_list1"
   ]
  },
  {
   "cell_type": "code",
   "execution_count": null,
   "metadata": {},
   "outputs": [],
   "source": []
  },
  {
   "cell_type": "code",
   "execution_count": null,
   "metadata": {},
   "outputs": [],
   "source": []
  },
  {
   "cell_type": "code",
   "execution_count": null,
   "metadata": {},
   "outputs": [],
   "source": []
  },
  {
   "cell_type": "code",
   "execution_count": null,
   "metadata": {},
   "outputs": [],
   "source": []
  },
  {
   "cell_type": "code",
   "execution_count": null,
   "metadata": {},
   "outputs": [],
   "source": []
  },
  {
   "cell_type": "code",
   "execution_count": null,
   "metadata": {},
   "outputs": [],
   "source": []
  },
  {
   "cell_type": "code",
   "execution_count": 375,
   "metadata": {},
   "outputs": [
    {
     "data": {
      "text/plain": [
       "'Metal'"
      ]
     },
     "execution_count": 375,
     "metadata": {},
     "output_type": "execute_result"
    }
   ],
   "source": [
    "size = combination_product_size_list1[3].replace('Materials :\\n♦ ', '')\n",
    "size"
   ]
  },
  {
   "cell_type": "code",
   "execution_count": null,
   "metadata": {},
   "outputs": [],
   "source": []
  },
  {
   "cell_type": "code",
   "execution_count": null,
   "metadata": {},
   "outputs": [],
   "source": []
  },
  {
   "cell_type": "code",
   "execution_count": null,
   "metadata": {},
   "outputs": [],
   "source": [
    "s"
   ]
  },
  {
   "cell_type": "code",
   "execution_count": null,
   "metadata": {},
   "outputs": [],
   "source": []
  },
  {
   "cell_type": "code",
   "execution_count": null,
   "metadata": {},
   "outputs": [],
   "source": []
  },
  {
   "cell_type": "code",
   "execution_count": null,
   "metadata": {},
   "outputs": [],
   "source": []
  },
  {
   "cell_type": "code",
   "execution_count": null,
   "metadata": {},
   "outputs": [],
   "source": []
  },
  {
   "cell_type": "code",
   "execution_count": 368,
   "metadata": {},
   "outputs": [
    {
     "data": {
      "text/plain": [
       "'* W38 * D49 * H101 CM'"
      ]
     },
     "execution_count": 368,
     "metadata": {},
     "output_type": "execute_result"
    }
   ],
   "source": [
    "size"
   ]
  },
  {
   "cell_type": "code",
   "execution_count": null,
   "metadata": {},
   "outputs": [],
   "source": []
  },
  {
   "cell_type": "code",
   "execution_count": null,
   "metadata": {},
   "outputs": [],
   "source": []
  },
  {
   "cell_type": "code",
   "execution_count": null,
   "metadata": {},
   "outputs": [],
   "source": []
  },
  {
   "cell_type": "code",
   "execution_count": 327,
   "metadata": {},
   "outputs": [
    {
     "data": {
      "text/plain": [
       "'Gold'"
      ]
     },
     "execution_count": 327,
     "metadata": {},
     "output_type": "execute_result"
    }
   ],
   "source": [
    "mater"
   ]
  },
  {
   "cell_type": "code",
   "execution_count": null,
   "metadata": {},
   "outputs": [],
   "source": []
  },
  {
   "cell_type": "code",
   "execution_count": null,
   "metadata": {},
   "outputs": [],
   "source": []
  },
  {
   "cell_type": "code",
   "execution_count": null,
   "metadata": {},
   "outputs": [],
   "source": []
  },
  {
   "cell_type": "code",
   "execution_count": 317,
   "metadata": {},
   "outputs": [
    {
     "data": {
      "text/plain": [
       "' Contemporary'"
      ]
     },
     "execution_count": 317,
     "metadata": {},
     "output_type": "execute_result"
    }
   ],
   "source": [
    "size"
   ]
  },
  {
   "cell_type": "code",
   "execution_count": null,
   "metadata": {},
   "outputs": [],
   "source": []
  },
  {
   "cell_type": "code",
   "execution_count": null,
   "metadata": {},
   "outputs": [],
   "source": []
  },
  {
   "cell_type": "code",
   "execution_count": 301,
   "metadata": {},
   "outputs": [
    {
     "data": {
      "text/plain": [
       "'Description  Table Lamp'"
      ]
     },
     "execution_count": 301,
     "metadata": {},
     "output_type": "execute_result"
    }
   ],
   "source": [
    "detail\n"
   ]
  },
  {
   "cell_type": "code",
   "execution_count": null,
   "metadata": {},
   "outputs": [],
   "source": []
  },
  {
   "cell_type": "code",
   "execution_count": null,
   "metadata": {},
   "outputs": [],
   "source": []
  },
  {
   "cell_type": "code",
   "execution_count": 288,
   "metadata": {},
   "outputs": [],
   "source": [
    "detail = driver.find_elements_by_class_name('std')[0].text.split('\\n')"
   ]
  },
  {
   "cell_type": "code",
   "execution_count": 294,
   "metadata": {},
   "outputs": [
    {
     "data": {
      "text/plain": [
       "'تفاصيل المنتج '"
      ]
     },
     "execution_count": 294,
     "metadata": {},
     "output_type": "execute_result"
    }
   ],
   "source": [
    "detail[2].replace('♦', '').replace(':', '')"
   ]
  },
  {
   "cell_type": "code",
   "execution_count": null,
   "metadata": {},
   "outputs": [],
   "source": []
  },
  {
   "cell_type": "code",
   "execution_count": 293,
   "metadata": {},
   "outputs": [
    {
     "data": {
      "text/plain": [
       "'تفاصيل المنتج  مصباح سقف 1 قطعة'"
      ]
     },
     "execution_count": 293,
     "metadata": {},
     "output_type": "execute_result"
    }
   ],
   "source": [
    "combination_product_size_list1[1].replace('Combination', '').replace(':', '').replace('♦', '').replace('\\n', '')"
   ]
  },
  {
   "cell_type": "code",
   "execution_count": null,
   "metadata": {},
   "outputs": [],
   "source": []
  },
  {
   "cell_type": "code",
   "execution_count": null,
   "metadata": {},
   "outputs": [],
   "source": []
  },
  {
   "cell_type": "code",
   "execution_count": null,
   "metadata": {},
   "outputs": [],
   "source": []
  },
  {
   "cell_type": "code",
   "execution_count": null,
   "metadata": {},
   "outputs": [],
   "source": []
  },
  {
   "cell_type": "code",
   "execution_count": 289,
   "metadata": {},
   "outputs": [
    {
     "data": {
      "text/plain": [
       "['وصف المنتج : مصباح سقف',\n",
       " '',\n",
       " 'تفاصيل المنتج :',\n",
       " '♦ مصباح سقف 1 قطعة',\n",
       " '',\n",
       " 'حجم المنتج :',\n",
       " '♦ مصباح سقف * عرض 96 * عمق * ارتفاع 70 سم',\n",
       " '',\n",
       " 'مواد التصنيع :',\n",
       " '♦ معدن / زجاج',\n",
       " '',\n",
       " 'اللون :',\n",
       " '♦ ذهبى, أبيض',\n",
       " '',\n",
       " 'النوع :',\n",
       " '♦ معاصر']"
      ]
     },
     "execution_count": 289,
     "metadata": {},
     "output_type": "execute_result"
    }
   ],
   "source": [
    "detail"
   ]
  },
  {
   "cell_type": "code",
   "execution_count": null,
   "metadata": {},
   "outputs": [],
   "source": []
  },
  {
   "cell_type": "code",
   "execution_count": null,
   "metadata": {},
   "outputs": [],
   "source": []
  },
  {
   "cell_type": "code",
   "execution_count": null,
   "metadata": {},
   "outputs": [],
   "source": []
  },
  {
   "cell_type": "code",
   "execution_count": null,
   "metadata": {},
   "outputs": [],
   "source": []
  },
  {
   "cell_type": "code",
   "execution_count": null,
   "metadata": {},
   "outputs": [],
   "source": []
  },
  {
   "cell_type": "code",
   "execution_count": null,
   "metadata": {},
   "outputs": [],
   "source": []
  },
  {
   "cell_type": "code",
   "execution_count": 246,
   "metadata": {},
   "outputs": [],
   "source": [
    "price = driver.find_elements_by_class_name('price')[0].get_attribute('innerHTML').replace('SAR', '').replace('\\n', '').replace(' ', '')"
   ]
  },
  {
   "cell_type": "code",
   "execution_count": 276,
   "metadata": {},
   "outputs": [
    {
     "name": "stdout",
     "output_type": "stream",
     "text": [
      "['Overview : The gracefully curved StyleCraft Jane Table Lamp features a filigree design in Bellevue silver finish and clear acrylic base. A flared white fabric hardback shade and filigree finial add the finishing touches to this table lamp.', 'Combination :\\n♦ Table Lamp 1 PCS', 'Product Size :\\n♦ Table Lamp * W38 * D49 * H101 CM', 'Concept :\\n♦ Contemporary', 'Color :\\n♦ Cream', ' ']\n"
     ]
    }
   ],
   "source": [
    "combination_product_size_list1 = driver.find_element_by_class_name('std').text.split('\\n\\n')\n",
    "print(combination)"
   ]
  },
  {
   "cell_type": "code",
   "execution_count": null,
   "metadata": {},
   "outputs": [],
   "source": []
  },
  {
   "cell_type": "code",
   "execution_count": 274,
   "metadata": {},
   "outputs": [
    {
     "name": "stdout",
     "output_type": "stream",
     "text": [
      " \n",
      " Table Lamp 1 PCS\n"
     ]
    }
   ],
   "source": [
    "detail = combination[1].replace('Combination', '').replace(':', '').replace('♦', '')\n",
    "print(detail)"
   ]
  },
  {
   "cell_type": "code",
   "execution_count": 281,
   "metadata": {},
   "outputs": [
    {
     "data": {
      "text/plain": [
       "'  Table Lamp 1 PCS'"
      ]
     },
     "execution_count": 281,
     "metadata": {},
     "output_type": "execute_result"
    }
   ],
   "source": [
    "combination_product_size_list1[1].replace('Combination', '').replace(':', '').replace('♦', '').replace('\\n', '')"
   ]
  },
  {
   "cell_type": "code",
   "execution_count": null,
   "metadata": {},
   "outputs": [],
   "source": []
  },
  {
   "cell_type": "code",
   "execution_count": null,
   "metadata": {},
   "outputs": [],
   "source": []
  },
  {
   "cell_type": "code",
   "execution_count": null,
   "metadata": {},
   "outputs": [],
   "source": []
  },
  {
   "cell_type": "code",
   "execution_count": null,
   "metadata": {},
   "outputs": [],
   "source": []
  },
  {
   "cell_type": "code",
   "execution_count": null,
   "metadata": {},
   "outputs": [],
   "source": []
  },
  {
   "cell_type": "code",
   "execution_count": null,
   "metadata": {},
   "outputs": [],
   "source": []
  },
  {
   "cell_type": "code",
   "execution_count": null,
   "metadata": {},
   "outputs": [],
   "source": []
  },
  {
   "cell_type": "code",
   "execution_count": null,
   "metadata": {},
   "outputs": [],
   "source": []
  },
  {
   "cell_type": "code",
   "execution_count": null,
   "metadata": {},
   "outputs": [],
   "source": []
  },
  {
   "cell_type": "code",
   "execution_count": null,
   "metadata": {},
   "outputs": [],
   "source": []
  },
  {
   "cell_type": "code",
   "execution_count": 270,
   "metadata": {},
   "outputs": [
    {
     "name": "stdout",
     "output_type": "stream",
     "text": [
      "['Overview : The gracefully curved StyleCraft Jane Table Lamp features a filigree design in Bellevue silver finish and clear acrylic base. A flared white fabric hardback shade and filigree finial add the finishing touches to this table lamp.', '', 'Combination :', '♦ Table Lamp 1 PCS', '', 'Product Size :', '♦ Table Lamp * W38 * D49 * H101 CM', '', 'Concept :', '♦ Contemporary', '', 'Color :', '♦ Cream', '', ' ']\n"
     ]
    }
   ],
   "source": [
    "size = driver.find_element_by_class_name('std').text.split('\\n')\n",
    "print(size)"
   ]
  },
  {
   "cell_type": "code",
   "execution_count": null,
   "metadata": {},
   "outputs": [],
   "source": []
  },
  {
   "cell_type": "code",
   "execution_count": null,
   "metadata": {},
   "outputs": [],
   "source": [
    "s"
   ]
  },
  {
   "cell_type": "code",
   "execution_count": null,
   "metadata": {},
   "outputs": [],
   "source": []
  },
  {
   "cell_type": "code",
   "execution_count": null,
   "metadata": {},
   "outputs": [],
   "source": []
  },
  {
   "cell_type": "code",
   "execution_count": null,
   "metadata": {},
   "outputs": [],
   "source": []
  },
  {
   "cell_type": "code",
   "execution_count": 266,
   "metadata": {},
   "outputs": [],
   "source": [
    "size = size[6].replace('♦', '').replace('Table Lamp', '')\n"
   ]
  },
  {
   "cell_type": "code",
   "execution_count": null,
   "metadata": {},
   "outputs": [],
   "source": []
  },
  {
   "cell_type": "code",
   "execution_count": null,
   "metadata": {},
   "outputs": [],
   "source": []
  },
  {
   "cell_type": "code",
   "execution_count": null,
   "metadata": {},
   "outputs": [],
   "source": []
  },
  {
   "cell_type": "code",
   "execution_count": null,
   "metadata": {},
   "outputs": [],
   "source": []
  },
  {
   "cell_type": "code",
   "execution_count": 263,
   "metadata": {},
   "outputs": [
    {
     "data": {
      "text/plain": [
       "'  * W38 * D43 * H78 CM'"
      ]
     },
     "execution_count": 263,
     "metadata": {},
     "output_type": "execute_result"
    }
   ],
   "source": [
    "size"
   ]
  },
  {
   "cell_type": "code",
   "execution_count": null,
   "metadata": {},
   "outputs": [],
   "source": []
  },
  {
   "cell_type": "code",
   "execution_count": null,
   "metadata": {},
   "outputs": [],
   "source": []
  },
  {
   "cell_type": "code",
   "execution_count": null,
   "metadata": {},
   "outputs": [],
   "source": []
  },
  {
   "cell_type": "code",
   "execution_count": null,
   "metadata": {},
   "outputs": [],
   "source": []
  },
  {
   "cell_type": "code",
   "execution_count": null,
   "metadata": {},
   "outputs": [],
   "source": []
  },
  {
   "cell_type": "code",
   "execution_count": null,
   "metadata": {},
   "outputs": [],
   "source": []
  },
  {
   "cell_type": "code",
   "execution_count": null,
   "metadata": {},
   "outputs": [],
   "source": []
  },
  {
   "cell_type": "code",
   "execution_count": null,
   "metadata": {},
   "outputs": [],
   "source": []
  },
  {
   "cell_type": "code",
   "execution_count": null,
   "metadata": {},
   "outputs": [],
   "source": []
  },
  {
   "cell_type": "code",
   "execution_count": null,
   "metadata": {},
   "outputs": [],
   "source": []
  },
  {
   "cell_type": "code",
   "execution_count": 247,
   "metadata": {},
   "outputs": [
    {
     "data": {
      "text/plain": [
       "'675.00'"
      ]
     },
     "execution_count": 247,
     "metadata": {},
     "output_type": "execute_result"
    }
   ],
   "source": [
    "price"
   ]
  },
  {
   "cell_type": "code",
   "execution_count": null,
   "metadata": {},
   "outputs": [],
   "source": []
  },
  {
   "cell_type": "code",
   "execution_count": null,
   "metadata": {},
   "outputs": [],
   "source": []
  },
  {
   "cell_type": "code",
   "execution_count": null,
   "metadata": {},
   "outputs": [],
   "source": []
  },
  {
   "cell_type": "code",
   "execution_count": null,
   "metadata": {},
   "outputs": [],
   "source": []
  },
  {
   "cell_type": "code",
   "execution_count": null,
   "metadata": {},
   "outputs": [],
   "source": []
  },
  {
   "cell_type": "code",
   "execution_count": null,
   "metadata": {},
   "outputs": [],
   "source": []
  },
  {
   "cell_type": "code",
   "execution_count": 229,
   "metadata": {},
   "outputs": [
    {
     "name": "stdout",
     "output_type": "stream",
     "text": [
      "   زجاج / معدن\n"
     ]
    }
   ],
   "source": [
    "combination_product_size_list1 = driver.find_element_by_class_name('std').text.split('\\n\\n')\n",
    "\n",
    "mater = return_details('مواد التصنيع', combination_product_size_list1).replace(\"\\n\", \" \").replace('♦', '').replace(':', '')\n",
    "print(mater)"
   ]
  },
  {
   "cell_type": "code",
   "execution_count": 230,
   "metadata": {},
   "outputs": [],
   "source": [
    "size = driver.find_elements_by_class_name('std')[0].text.split('\\n')\n"
   ]
  },
  {
   "cell_type": "code",
   "execution_count": 231,
   "metadata": {},
   "outputs": [
    {
     "data": {
      "text/plain": [
       "['الوصف : مصباح طاولة ',\n",
       " '',\n",
       " 'تفاصيل المنتج :',\n",
       " '♦ مصباح طاولة 1 قطعة',\n",
       " '',\n",
       " 'حجم المنتج :',\n",
       " '♦ مصباح طاولة * عرض 40 * عمق 40 * ارتفاع 64 سم',\n",
       " '',\n",
       " 'اللون :',\n",
       " '♦ ذهبى، أبيض',\n",
       " '',\n",
       " 'النوع :',\n",
       " '♦ معاصر']"
      ]
     },
     "execution_count": 231,
     "metadata": {},
     "output_type": "execute_result"
    }
   ],
   "source": [
    "size\n"
   ]
  },
  {
   "cell_type": "code",
   "execution_count": 234,
   "metadata": {},
   "outputs": [],
   "source": [
    "size = return_details('حجم المنتج', combination_product_size_list1).replace(\"\\n\", \" \").replace('♦', '').replace(':', '').replace('مصباح طاولة', '')\n"
   ]
  },
  {
   "cell_type": "code",
   "execution_count": null,
   "metadata": {},
   "outputs": [],
   "source": []
  },
  {
   "cell_type": "code",
   "execution_count": 235,
   "metadata": {},
   "outputs": [
    {
     "data": {
      "text/plain": [
       "'    * عرض 38 * عمق 38 * ارتفاع 71 سم'"
      ]
     },
     "execution_count": 235,
     "metadata": {},
     "output_type": "execute_result"
    }
   ],
   "source": [
    "size"
   ]
  },
  {
   "cell_type": "code",
   "execution_count": null,
   "metadata": {},
   "outputs": [],
   "source": []
  },
  {
   "cell_type": "code",
   "execution_count": null,
   "metadata": {},
   "outputs": [],
   "source": []
  },
  {
   "cell_type": "code",
   "execution_count": null,
   "metadata": {},
   "outputs": [],
   "source": []
  },
  {
   "cell_type": "code",
   "execution_count": null,
   "metadata": {},
   "outputs": [],
   "source": []
  },
  {
   "cell_type": "code",
   "execution_count": null,
   "metadata": {},
   "outputs": [],
   "source": []
  },
  {
   "cell_type": "code",
   "execution_count": null,
   "metadata": {},
   "outputs": [],
   "source": []
  },
  {
   "cell_type": "code",
   "execution_count": null,
   "metadata": {},
   "outputs": [],
   "source": []
  },
  {
   "cell_type": "code",
   "execution_count": 216,
   "metadata": {},
   "outputs": [
    {
     "data": {
      "text/plain": [
       "'\\n363.75 SAR '"
      ]
     },
     "execution_count": 216,
     "metadata": {},
     "output_type": "execute_result"
    }
   ],
   "source": [
    "\n",
    "driver.find_elements_by_class_name('price')[1].get_attribute('innerHTML')"
   ]
  },
  {
   "cell_type": "code",
   "execution_count": 224,
   "metadata": {},
   "outputs": [
    {
     "name": "stdout",
     "output_type": "stream",
     "text": [
      "الوصف : مصباح طاولة \n",
      "\n",
      "تفاصيل المنتج :\n",
      "♦ مصباح طاولة 1 قطعة\n",
      "\n",
      "حجم المنتج :\n",
      "♦ مصباح طاولة * عرض 38 * عمق 38 * ارتفاع 71 سم\n",
      "\n",
      "مواد التصنيع :\n",
      "♦ زجاج / معدن\n",
      "\n",
      "اللون :\n",
      "♦ ذهبى، أسود\n",
      "\n",
      "النوع :\n",
      "♦ معاصر\n"
     ]
    }
   ],
   "source": [
    "combination = driver.find_element_by_class_name('std').text\n",
    "print(combination)"
   ]
  },
  {
   "cell_type": "code",
   "execution_count": null,
   "metadata": {},
   "outputs": [],
   "source": []
  },
  {
   "cell_type": "code",
   "execution_count": null,
   "metadata": {},
   "outputs": [],
   "source": []
  },
  {
   "cell_type": "code",
   "execution_count": null,
   "metadata": {},
   "outputs": [],
   "source": []
  },
  {
   "cell_type": "code",
   "execution_count": 209,
   "metadata": {},
   "outputs": [],
   "source": [
    "size = driver.find_elements_by_class_name('std')[0].text.split('\\n')"
   ]
  },
  {
   "cell_type": "code",
   "execution_count": 210,
   "metadata": {},
   "outputs": [
    {
     "data": {
      "text/plain": [
       "['مصباح طاولة عدد 1 قطعة', '', '', 'العرض 38 * العمق 38 * الارتفاع 61 سم']"
      ]
     },
     "execution_count": 210,
     "metadata": {},
     "output_type": "execute_result"
    }
   ],
   "source": [
    "size"
   ]
  },
  {
   "cell_type": "code",
   "execution_count": 212,
   "metadata": {},
   "outputs": [
    {
     "data": {
      "text/plain": [
       "'العرض 38 * العمق 38 * الارتفاع 61 سم'"
      ]
     },
     "execution_count": 212,
     "metadata": {},
     "output_type": "execute_result"
    }
   ],
   "source": [
    "size[3]"
   ]
  },
  {
   "cell_type": "code",
   "execution_count": null,
   "metadata": {},
   "outputs": [],
   "source": []
  },
  {
   "cell_type": "code",
   "execution_count": null,
   "metadata": {},
   "outputs": [],
   "source": []
  },
  {
   "cell_type": "code",
   "execution_count": null,
   "metadata": {},
   "outputs": [],
   "source": []
  },
  {
   "cell_type": "code",
   "execution_count": null,
   "metadata": {},
   "outputs": [],
   "source": []
  },
  {
   "cell_type": "code",
   "execution_count": null,
   "metadata": {},
   "outputs": [],
   "source": []
  },
  {
   "cell_type": "code",
   "execution_count": null,
   "metadata": {},
   "outputs": [],
   "source": []
  },
  {
   "cell_type": "code",
   "execution_count": null,
   "metadata": {},
   "outputs": [],
   "source": []
  },
  {
   "cell_type": "code",
   "execution_count": null,
   "metadata": {},
   "outputs": [],
   "source": []
  },
  {
   "cell_type": "code",
   "execution_count": null,
   "metadata": {},
   "outputs": [],
   "source": []
  },
  {
   "cell_type": "code",
   "execution_count": null,
   "metadata": {},
   "outputs": [],
   "source": []
  },
  {
   "cell_type": "code",
   "execution_count": 156,
   "metadata": {},
   "outputs": [],
   "source": [
    "detail = return_details('Combination', combination_product_size_list).replace(\"\\n\", \" \").replace('♦', '')"
   ]
  },
  {
   "cell_type": "code",
   "execution_count": 159,
   "metadata": {},
   "outputs": [
    {
     "name": "stdout",
     "output_type": "stream",
     "text": [
      "Combination :\n",
      "♦ مصباح طاولة عدد 1 قطعة\n",
      "\n",
      "Product Size :\n",
      "♦ مصباح طاولة: عرض 35 * عمق 35 * ارتفاع 63 سم\n"
     ]
    }
   ],
   "source": [
    "print(driver.find_elements_by_class_name('std')[0].text)"
   ]
  },
  {
   "cell_type": "code",
   "execution_count": 177,
   "metadata": {},
   "outputs": [
    {
     "name": "stdout",
     "output_type": "stream",
     "text": [
      " عرض 35 * عمق 35 * ارتفاع 63 سم\n"
     ]
    }
   ],
   "source": [
    "detail = driver.find_elements_by_class_name('std')[0].text.split('\\n')\n",
    "print(detail[4].replace('♦ مصباح طاولة:', ''))"
   ]
  },
  {
   "cell_type": "code",
   "execution_count": 180,
   "metadata": {},
   "outputs": [],
   "source": [
    "olor = return_details('اللون', combination_product_size_list).replace(\"\\n\", \" \").replace('♦', '')"
   ]
  },
  {
   "cell_type": "code",
   "execution_count": 181,
   "metadata": {},
   "outputs": [
    {
     "data": {
      "text/plain": [
       "['Combination :',\n",
       " '♦ مصباح طاولة عدد 1 قطعة',\n",
       " '',\n",
       " 'Product Size :',\n",
       " '♦ مصباح طاولة: عرض 35 * عمق 35 * ارتفاع 63 سم']"
      ]
     },
     "execution_count": 181,
     "metadata": {},
     "output_type": "execute_result"
    }
   ],
   "source": [
    "combination_product_size_list"
   ]
  },
  {
   "cell_type": "code",
   "execution_count": null,
   "metadata": {},
   "outputs": [],
   "source": []
  },
  {
   "cell_type": "code",
   "execution_count": null,
   "metadata": {},
   "outputs": [],
   "source": []
  },
  {
   "cell_type": "code",
   "execution_count": 182,
   "metadata": {},
   "outputs": [],
   "source": [
    "combination = driver.find_element_by_class_name('std').text\n",
    "    \n",
    "combination_product_size_list = combination.split('\\n')"
   ]
  },
  {
   "cell_type": "code",
   "execution_count": 183,
   "metadata": {},
   "outputs": [
    {
     "data": {
      "text/plain": [
       "['نظرة عامة : أضئ منزلك بجمال هذا المصباح الرائع',\n",
       " '',\n",
       " 'الوصف : مصباح طاولة ',\n",
       " '',\n",
       " 'تفاصيل المنتج :',\n",
       " '♦ مصباح طاولة 1 قطعة',\n",
       " '',\n",
       " 'حجم المنتج :',\n",
       " '♦ مصباح طاولة * عرض 36 * عمق 36 * ارتفاع 68 سم',\n",
       " '',\n",
       " 'اللون :',\n",
       " '♦ ذهبى',\n",
       " '',\n",
       " 'النوع :',\n",
       " '♦ كلاسيكى']"
      ]
     },
     "execution_count": 183,
     "metadata": {},
     "output_type": "execute_result"
    }
   ],
   "source": [
    "combination_product_size_list"
   ]
  },
  {
   "cell_type": "code",
   "execution_count": null,
   "metadata": {},
   "outputs": [],
   "source": []
  },
  {
   "cell_type": "code",
   "execution_count": null,
   "metadata": {},
   "outputs": [],
   "source": []
  },
  {
   "cell_type": "code",
   "execution_count": null,
   "metadata": {},
   "outputs": [],
   "source": []
  },
  {
   "cell_type": "code",
   "execution_count": null,
   "metadata": {},
   "outputs": [],
   "source": []
  },
  {
   "cell_type": "code",
   "execution_count": null,
   "metadata": {},
   "outputs": [],
   "source": []
  },
  {
   "cell_type": "code",
   "execution_count": 193,
   "metadata": {},
   "outputs": [],
   "source": [
    "combination_product_size_list = driver.find_element_by_class_name('std').text.split('\\n\\n')"
   ]
  },
  {
   "cell_type": "code",
   "execution_count": null,
   "metadata": {},
   "outputs": [],
   "source": []
  },
  {
   "cell_type": "code",
   "execution_count": null,
   "metadata": {},
   "outputs": [],
   "source": []
  },
  {
   "cell_type": "code",
   "execution_count": null,
   "metadata": {},
   "outputs": [],
   "source": []
  },
  {
   "cell_type": "code",
   "execution_count": null,
   "metadata": {},
   "outputs": [],
   "source": []
  },
  {
   "cell_type": "code",
   "execution_count": null,
   "metadata": {},
   "outputs": [],
   "source": []
  },
  {
   "cell_type": "code",
   "execution_count": 194,
   "metadata": {},
   "outputs": [
    {
     "data": {
      "text/plain": [
       "' :\\n♦ ذهبى'"
      ]
     },
     "execution_count": 194,
     "metadata": {},
     "output_type": "execute_result"
    }
   ],
   "source": [
    "return_details('اللون', combination_product_size_list)"
   ]
  },
  {
   "cell_type": "code",
   "execution_count": null,
   "metadata": {},
   "outputs": [],
   "source": []
  },
  {
   "cell_type": "code",
   "execution_count": null,
   "metadata": {},
   "outputs": [],
   "source": []
  },
  {
   "cell_type": "code",
   "execution_count": 187,
   "metadata": {},
   "outputs": [
    {
     "name": "stdout",
     "output_type": "stream",
     "text": [
      "اللون :\n"
     ]
    }
   ],
   "source": [
    "for i in combination_product_size_list:\n",
    "    if 'اللون' in i:\n",
    "        print(i)"
   ]
  },
  {
   "cell_type": "code",
   "execution_count": null,
   "metadata": {},
   "outputs": [],
   "source": []
  },
  {
   "cell_type": "code",
   "execution_count": null,
   "metadata": {},
   "outputs": [],
   "source": []
  },
  {
   "cell_type": "code",
   "execution_count": null,
   "metadata": {},
   "outputs": [],
   "source": []
  },
  {
   "cell_type": "code",
   "execution_count": null,
   "metadata": {},
   "outputs": [],
   "source": []
  },
  {
   "cell_type": "code",
   "execution_count": null,
   "metadata": {},
   "outputs": [],
   "source": []
  },
  {
   "cell_type": "code",
   "execution_count": null,
   "metadata": {},
   "outputs": [],
   "source": []
  },
  {
   "cell_type": "code",
   "execution_count": 165,
   "metadata": {},
   "outputs": [
    {
     "data": {
      "text/plain": [
       "'Combination :\\n♦ مصباح طاولة عدد 1 قطعة\\n\\nProduct Size :\\n♦ مصباح طاولة: عرض 35 * عمق 35 * ارتفاع 63 سم'"
      ]
     },
     "execution_count": 165,
     "metadata": {},
     "output_type": "execute_result"
    }
   ],
   "source": [
    "driver.find_elements_by_class_name('std')[0].text"
   ]
  },
  {
   "cell_type": "code",
   "execution_count": null,
   "metadata": {},
   "outputs": [],
   "source": []
  },
  {
   "cell_type": "code",
   "execution_count": null,
   "metadata": {},
   "outputs": [],
   "source": []
  },
  {
   "cell_type": "code",
   "execution_count": null,
   "metadata": {},
   "outputs": [],
   "source": []
  },
  {
   "cell_type": "code",
   "execution_count": 161,
   "metadata": {},
   "outputs": [
    {
     "data": {
      "text/plain": [
       "''"
      ]
     },
     "execution_count": 161,
     "metadata": {},
     "output_type": "execute_result"
    }
   ],
   "source": [
    "detail"
   ]
  },
  {
   "cell_type": "code",
   "execution_count": null,
   "metadata": {},
   "outputs": [],
   "source": []
  },
  {
   "cell_type": "code",
   "execution_count": null,
   "metadata": {},
   "outputs": [],
   "source": []
  },
  {
   "cell_type": "code",
   "execution_count": null,
   "metadata": {},
   "outputs": [],
   "source": []
  },
  {
   "cell_type": "code",
   "execution_count": 157,
   "metadata": {},
   "outputs": [
    {
     "data": {
      "text/plain": [
       "' :'"
      ]
     },
     "execution_count": 157,
     "metadata": {},
     "output_type": "execute_result"
    }
   ],
   "source": [
    "detail"
   ]
  },
  {
   "cell_type": "code",
   "execution_count": null,
   "metadata": {},
   "outputs": [],
   "source": []
  },
  {
   "cell_type": "code",
   "execution_count": null,
   "metadata": {},
   "outputs": [],
   "source": []
  },
  {
   "cell_type": "code",
   "execution_count": null,
   "metadata": {},
   "outputs": [],
   "source": []
  },
  {
   "cell_type": "code",
   "execution_count": null,
   "metadata": {},
   "outputs": [],
   "source": []
  },
  {
   "cell_type": "code",
   "execution_count": null,
   "metadata": {},
   "outputs": [],
   "source": []
  },
  {
   "cell_type": "code",
   "execution_count": null,
   "metadata": {},
   "outputs": [],
   "source": []
  },
  {
   "cell_type": "code",
   "execution_count": null,
   "metadata": {},
   "outputs": [],
   "source": []
  },
  {
   "cell_type": "code",
   "execution_count": 198,
   "metadata": {},
   "outputs": [
    {
     "name": "stdout",
     "output_type": "stream",
     "text": [
      "اللون ذهبي\n"
     ]
    }
   ],
   "source": [
    "# Additional\n",
    "try:\n",
    "    additional_tabbed = driver.find_element_by_id('product_tabs_additional_tabbed')\n",
    "    additional_tabbed.click()\n",
    "    time.sleep(1)\n",
    "    addi = driver.find_element_by_id('product-attribute-specs-table').text\n",
    "    print(addi)\n",
    "except:\n",
    "    addi = ''"
   ]
  },
  {
   "cell_type": "code",
   "execution_count": null,
   "metadata": {},
   "outputs": [],
   "source": []
  },
  {
   "cell_type": "code",
   "execution_count": null,
   "metadata": {},
   "outputs": [],
   "source": []
  },
  {
   "cell_type": "code",
   "execution_count": null,
   "metadata": {},
   "outputs": [],
   "source": []
  },
  {
   "cell_type": "code",
   "execution_count": 72,
   "metadata": {},
   "outputs": [
    {
     "name": "stdout",
     "output_type": "stream",
     "text": [
      "اللون أبيض\n"
     ]
    }
   ],
   "source": [
    "# Additional\n",
    "try:\n",
    "    additional_description = driver.find_element_by_id('product_tabs_description_tabbed')\n",
    "    additional_description.click()\n",
    "    time.sleep(1)\n",
    "    discr = driver.find_element_by_id('product_tabs_description_tabbed_contents').text\n",
    "    print(addi)\n",
    "except:\n",
    "    discr = ''"
   ]
  },
  {
   "cell_type": "code",
   "execution_count": 74,
   "metadata": {},
   "outputs": [
    {
     "name": "stdout",
     "output_type": "stream",
     "text": [
      "الوصف : مصباح طاولة \n",
      "\n",
      "تفاصيل المنتج :\n",
      "♦ مصباح طاولة 1 قطعة\n",
      "\n",
      "حجم المنتج :\n",
      "♦ مصباح طاولة * عرض 42 * عمق 28 * ارتفاع 69 سم\n",
      "\n",
      "اللون :\n",
      "♦ أبيض، ذهبى\n",
      "\n",
      "النوع :\n",
      "♦ معاصر\n"
     ]
    }
   ],
   "source": [
    "combination = driver.find_element_by_class_name('std').text\n",
    "print(combination)"
   ]
  },
  {
   "cell_type": "code",
   "execution_count": 80,
   "metadata": {},
   "outputs": [],
   "source": [
    "combination_product_size_list = combination.split('\\n\\n')"
   ]
  },
  {
   "cell_type": "code",
   "execution_count": null,
   "metadata": {},
   "outputs": [],
   "source": []
  },
  {
   "cell_type": "code",
   "execution_count": 81,
   "metadata": {},
   "outputs": [
    {
     "data": {
      "text/plain": [
       "['الوصف : مصباح طاولة ',\n",
       " 'تفاصيل المنتج :\\n♦ مصباح طاولة 1 قطعة',\n",
       " 'حجم المنتج :\\n♦ مصباح طاولة * عرض 42 * عمق 28 * ارتفاع 69 سم',\n",
       " 'اللون :\\n♦ أبيض، ذهبى',\n",
       " 'النوع :\\n♦ معاصر']"
      ]
     },
     "execution_count": 81,
     "metadata": {},
     "output_type": "execute_result"
    }
   ],
   "source": [
    "combination_product_size_list"
   ]
  },
  {
   "cell_type": "code",
   "execution_count": null,
   "metadata": {},
   "outputs": [],
   "source": []
  },
  {
   "cell_type": "code",
   "execution_count": 86,
   "metadata": {},
   "outputs": [
    {
     "name": "stdout",
     "output_type": "stream",
     "text": [
      "\n",
      "♦ مصباح طاولة * عرض 42 * عمق 28 * ارتفاع 69 سم\n"
     ]
    }
   ],
   "source": [
    "for i in combination_product_size_list:\n",
    "    if 'حجم المنتج :' in i:\n",
    "        print(i.replace('حجم المنتج :', ''))\n",
    "    "
   ]
  },
  {
   "cell_type": "code",
   "execution_count": 100,
   "metadata": {},
   "outputs": [],
   "source": [
    "def return_details(value, list_dic):\n",
    "    val = ''\n",
    "    for i in list_dic:\n",
    "        if value in i:\n",
    "            val = i.replace(value, '').repalce(\"!@#$%^&*()[]{};:,./<>?\\|`~-=_+♦\\n\", \" \")\n",
    "    return val"
   ]
  },
  {
   "cell_type": "code",
   "execution_count": null,
   "metadata": {},
   "outputs": [],
   "source": []
  },
  {
   "cell_type": "code",
   "execution_count": null,
   "metadata": {},
   "outputs": [],
   "source": []
  },
  {
   "cell_type": "code",
   "execution_count": 94,
   "metadata": {},
   "outputs": [
    {
     "data": {
      "text/plain": [
       "['الوصف : مصباح طاولة ',\n",
       " 'تفاصيل المنتج :\\n♦ مصباح طاولة 1 قطعة',\n",
       " 'حجم المنتج :\\n♦ مصباح طاولة * عرض 42 * عمق 28 * ارتفاع 69 سم',\n",
       " 'اللون :\\n♦ أبيض، ذهبى',\n",
       " 'النوع :\\n♦ معاصر']"
      ]
     },
     "execution_count": 94,
     "metadata": {},
     "output_type": "execute_result"
    }
   ],
   "source": [
    "combination_product_size_list"
   ]
  },
  {
   "cell_type": "code",
   "execution_count": null,
   "metadata": {},
   "outputs": [],
   "source": []
  },
  {
   "cell_type": "code",
   "execution_count": null,
   "metadata": {},
   "outputs": [],
   "source": []
  },
  {
   "cell_type": "code",
   "execution_count": 112,
   "metadata": {},
   "outputs": [],
   "source": [
    "detail = return_details('الوصف :', combination_product_size_list).replace(\"\\n\", \" \").replace('♦', '')"
   ]
  },
  {
   "cell_type": "code",
   "execution_count": 92,
   "metadata": {},
   "outputs": [],
   "source": [
    "size = return_details('حجم المنتج :', combination_product_size_list).replace(\"\\n\", \" \").replace('♦', '')"
   ]
  },
  {
   "cell_type": "code",
   "execution_count": 120,
   "metadata": {},
   "outputs": [],
   "source": [
    "color = return_details('اللون :', combination_product_size_list).replace(\"\\n\", \" \").replace('♦', '')"
   ]
  },
  {
   "cell_type": "code",
   "execution_count": 122,
   "metadata": {},
   "outputs": [],
   "source": [
    "style = return_details('النوع :', combination_product_size_list).replace(\"\\n\", \" \").replace('♦', '')"
   ]
  },
  {
   "cell_type": "code",
   "execution_count": 123,
   "metadata": {},
   "outputs": [
    {
     "data": {
      "text/plain": [
       "'  معاصر'"
      ]
     },
     "execution_count": 123,
     "metadata": {},
     "output_type": "execute_result"
    }
   ],
   "source": []
  },
  {
   "cell_type": "code",
   "execution_count": null,
   "metadata": {},
   "outputs": [],
   "source": []
  },
  {
   "cell_type": "code",
   "execution_count": null,
   "metadata": {},
   "outputs": [],
   "source": []
  },
  {
   "cell_type": "code",
   "execution_count": null,
   "metadata": {},
   "outputs": [],
   "source": []
  },
  {
   "cell_type": "code",
   "execution_count": null,
   "metadata": {},
   "outputs": [],
   "source": []
  },
  {
   "cell_type": "code",
   "execution_count": 121,
   "metadata": {},
   "outputs": [
    {
     "data": {
      "text/plain": [
       "'  أبيض، ذهبى'"
      ]
     },
     "execution_count": 121,
     "metadata": {},
     "output_type": "execute_result"
    }
   ],
   "source": [
    "color"
   ]
  },
  {
   "cell_type": "code",
   "execution_count": null,
   "metadata": {},
   "outputs": [],
   "source": []
  },
  {
   "cell_type": "code",
   "execution_count": null,
   "metadata": {},
   "outputs": [],
   "source": []
  },
  {
   "cell_type": "code",
   "execution_count": null,
   "metadata": {},
   "outputs": [],
   "source": []
  },
  {
   "cell_type": "code",
   "execution_count": null,
   "metadata": {},
   "outputs": [],
   "source": []
  },
  {
   "cell_type": "code",
   "execution_count": 79,
   "metadata": {},
   "outputs": [
    {
     "data": {
      "text/plain": [
       "'الوصف : مصباح طاولة \\n\\nتفاصيل المنتج :\\n♦ مصباح طاولة 1 قطعة\\n\\nحجم المنتج :\\n♦ مصباح طاولة * عرض 42 * عمق 28 * ارتفاع 69 سم\\n\\nاللون :\\n♦ أبيض، ذهبى\\n\\nالنوع :\\n♦ معاصر'"
      ]
     },
     "execution_count": 79,
     "metadata": {},
     "output_type": "execute_result"
    }
   ],
   "source": [
    "combination"
   ]
  },
  {
   "cell_type": "code",
   "execution_count": null,
   "metadata": {},
   "outputs": [],
   "source": []
  },
  {
   "cell_type": "code",
   "execution_count": null,
   "metadata": {},
   "outputs": [],
   "source": []
  },
  {
   "cell_type": "code",
   "execution_count": null,
   "metadata": {},
   "outputs": [],
   "source": []
  },
  {
   "cell_type": "code",
   "execution_count": null,
   "metadata": {},
   "outputs": [],
   "source": []
  },
  {
   "cell_type": "code",
   "execution_count": null,
   "metadata": {},
   "outputs": [],
   "source": []
  },
  {
   "cell_type": "code",
   "execution_count": null,
   "metadata": {},
   "outputs": [],
   "source": []
  },
  {
   "cell_type": "code",
   "execution_count": null,
   "metadata": {},
   "outputs": [],
   "source": []
  },
  {
   "cell_type": "code",
   "execution_count": null,
   "metadata": {},
   "outputs": [],
   "source": []
  },
  {
   "cell_type": "code",
   "execution_count": null,
   "metadata": {},
   "outputs": [],
   "source": []
  },
  {
   "cell_type": "code",
   "execution_count": null,
   "metadata": {},
   "outputs": [],
   "source": []
  },
  {
   "cell_type": "code",
   "execution_count": null,
   "metadata": {},
   "outputs": [],
   "source": []
  },
  {
   "cell_type": "code",
   "execution_count": 5,
   "metadata": {},
   "outputs": [],
   "source": []
  },
  {
   "cell_type": "code",
   "execution_count": 10,
   "metadata": {},
   "outputs": [
    {
     "name": "stdout",
     "output_type": "stream",
     "text": [
      "27\n"
     ]
    }
   ],
   "source": []
  },
  {
   "cell_type": "code",
   "execution_count": 12,
   "metadata": {},
   "outputs": [],
   "source": [
    "\n",
    "    "
   ]
  },
  {
   "cell_type": "code",
   "execution_count": 15,
   "metadata": {},
   "outputs": [],
   "source": []
  },
  {
   "cell_type": "code",
   "execution_count": 17,
   "metadata": {},
   "outputs": [
    {
     "name": "stdout",
     "output_type": "stream",
     "text": [
      "فيلا\n"
     ]
    }
   ],
   "source": []
  },
  {
   "cell_type": "code",
   "execution_count": 20,
   "metadata": {},
   "outputs": [
    {
     "name": "stdout",
     "output_type": "stream",
     "text": [
      "7901\n"
     ]
    }
   ],
   "source": []
  },
  {
   "cell_type": "code",
   "execution_count": 31,
   "metadata": {},
   "outputs": [
    {
     "name": "stdout",
     "output_type": "stream",
     "text": [
      "\n",
      "450.00 SAR \n"
     ]
    }
   ],
   "source": []
  },
  {
   "cell_type": "code",
   "execution_count": 33,
   "metadata": {},
   "outputs": [
    {
     "name": "stdout",
     "output_type": "stream",
     "text": [
      "\n",
      "337.50 SAR \n"
     ]
    }
   ],
   "source": []
  },
  {
   "cell_type": "code",
   "execution_count": 40,
   "metadata": {},
   "outputs": [
    {
     "name": "stdout",
     "output_type": "stream",
     "text": [
      "['Combination :', '♦ مصباح طاولة عدد 1 قطعة', '', 'Product Size :', '♦ مصباح طاولة: عرض 37 * عمق 37 * ارتفاع 62 سم']\n"
     ]
    }
   ],
   "source": []
  },
  {
   "cell_type": "code",
   "execution_count": null,
   "metadata": {},
   "outputs": [],
   "source": []
  },
  {
   "cell_type": "code",
   "execution_count": null,
   "metadata": {},
   "outputs": [],
   "source": []
  },
  {
   "cell_type": "code",
   "execution_count": 42,
   "metadata": {},
   "outputs": [],
   "source": []
  },
  {
   "cell_type": "code",
   "execution_count": null,
   "metadata": {},
   "outputs": [],
   "source": []
  },
  {
   "cell_type": "code",
   "execution_count": 43,
   "metadata": {},
   "outputs": [
    {
     "data": {
      "text/plain": [
       "['Combination :',\n",
       " '♦ مصباح طاولة عدد 1 قطعة',\n",
       " '',\n",
       " 'Product Size :',\n",
       " '♦ مصباح طاولة: عرض 37 * عمق 37 * ارتفاع 62 سم']"
      ]
     },
     "execution_count": 43,
     "metadata": {},
     "output_type": "execute_result"
    }
   ],
   "source": [
    "combination_product_size_list"
   ]
  },
  {
   "cell_type": "code",
   "execution_count": 44,
   "metadata": {},
   "outputs": [],
   "source": []
  },
  {
   "cell_type": "code",
   "execution_count": 46,
   "metadata": {},
   "outputs": [],
   "source": []
  },
  {
   "cell_type": "code",
   "execution_count": 47,
   "metadata": {},
   "outputs": [
    {
     "data": {
      "text/plain": [
       "' مصباح طاولة: عرض 37 * عمق 37 * ارتفاع 62 سم'"
      ]
     },
     "execution_count": 47,
     "metadata": {},
     "output_type": "execute_result"
    }
   ],
   "source": [
    "product_size"
   ]
  },
  {
   "cell_type": "code",
   "execution_count": null,
   "metadata": {},
   "outputs": [],
   "source": [
    "product-attribute-specs-table"
   ]
  },
  {
   "cell_type": "code",
   "execution_count": 51,
   "metadata": {},
   "outputs": [
    {
     "name": "stdout",
     "output_type": "stream",
     "text": [
      "\n"
     ]
    }
   ],
   "source": []
  },
  {
   "cell_type": "code",
   "execution_count": 57,
   "metadata": {},
   "outputs": [],
   "source": []
  },
  {
   "cell_type": "code",
   "execution_count": null,
   "metadata": {},
   "outputs": [],
   "source": []
  },
  {
   "cell_type": "code",
   "execution_count": 58,
   "metadata": {},
   "outputs": [
    {
     "name": "stdout",
     "output_type": "stream",
     "text": [
      "https://cdn.midasfurniture.com/media/catalog/product/cache/6/image/0dc2d03fe217f8c83829496872af24a0/1/3/13-SR-ZY-9699TL1_A.jpg\n",
      "https://cdn.midasfurniture.com/media/catalog/product/cache/6/image/1800x/040ec09b1e35df139433887a97daa66f/1/3/13-SR-ZY-9699TL1_A.jpg\n",
      "https://cdn.midasfurniture.com/media/catalog/product/cache/6/image/1800x/040ec09b1e35df139433887a97daa66f/1/3/13-SR-ZY-9699TL1_C.jpg\n",
      "https://cdn.midasfurniture.com/media/catalog/product/cache/6/image/1800x/040ec09b1e35df139433887a97daa66f/1/3/13-SR-ZY-9699TL1_B.jpg\n"
     ]
    }
   ],
   "source": []
  },
  {
   "cell_type": "code",
   "execution_count": null,
   "metadata": {},
   "outputs": [],
   "source": []
  },
  {
   "cell_type": "code",
   "execution_count": 55,
   "metadata": {},
   "outputs": [
    {
     "data": {
      "text/plain": [
       "<selenium.webdriver.firefox.webelement.FirefoxWebElement (session=\"aa1614c6-b250-43e8-b9b0-7be35735b0cd\", element=\"5091dd3a-4653-4ddc-a404-88bd43d58d8a\")>"
      ]
     },
     "execution_count": 55,
     "metadata": {},
     "output_type": "execute_result"
    }
   ],
   "source": [
    "image"
   ]
  },
  {
   "cell_type": "code",
   "execution_count": null,
   "metadata": {},
   "outputs": [],
   "source": []
  },
  {
   "cell_type": "code",
   "execution_count": null,
   "metadata": {},
   "outputs": [],
   "source": []
  },
  {
   "cell_type": "code",
   "execution_count": null,
   "metadata": {},
   "outputs": [],
   "source": []
  },
  {
   "cell_type": "code",
   "execution_count": null,
   "metadata": {},
   "outputs": [],
   "source": []
  },
  {
   "cell_type": "code",
   "execution_count": null,
   "metadata": {},
   "outputs": [],
   "source": []
  },
  {
   "cell_type": "code",
   "execution_count": null,
   "metadata": {},
   "outputs": [],
   "source": []
  },
  {
   "cell_type": "code",
   "execution_count": null,
   "metadata": {},
   "outputs": [],
   "source": []
  },
  {
   "cell_type": "code",
   "execution_count": null,
   "metadata": {},
   "outputs": [],
   "source": []
  },
  {
   "cell_type": "code",
   "execution_count": null,
   "metadata": {},
   "outputs": [],
   "source": []
  },
  {
   "cell_type": "code",
   "execution_count": null,
   "metadata": {},
   "outputs": [],
   "source": []
  },
  {
   "cell_type": "code",
   "execution_count": null,
   "metadata": {},
   "outputs": [],
   "source": []
  },
  {
   "cell_type": "code",
   "execution_count": null,
   "metadata": {},
   "outputs": [],
   "source": []
  },
  {
   "cell_type": "code",
   "execution_count": null,
   "metadata": {},
   "outputs": [],
   "source": []
  },
  {
   "cell_type": "code",
   "execution_count": null,
   "metadata": {},
   "outputs": [],
   "source": []
  },
  {
   "cell_type": "code",
   "execution_count": null,
   "metadata": {},
   "outputs": [],
   "source": []
  },
  {
   "cell_type": "code",
   "execution_count": null,
   "metadata": {},
   "outputs": [],
   "source": []
  },
  {
   "cell_type": "code",
   "execution_count": null,
   "metadata": {},
   "outputs": [],
   "source": []
  },
  {
   "cell_type": "code",
   "execution_count": null,
   "metadata": {},
   "outputs": [],
   "source": []
  },
  {
   "cell_type": "code",
   "execution_count": null,
   "metadata": {},
   "outputs": [],
   "source": []
  },
  {
   "cell_type": "code",
   "execution_count": null,
   "metadata": {},
   "outputs": [],
   "source": []
  },
  {
   "cell_type": "code",
   "execution_count": null,
   "metadata": {},
   "outputs": [],
   "source": []
  },
  {
   "cell_type": "code",
   "execution_count": null,
   "metadata": {},
   "outputs": [],
   "source": []
  },
  {
   "cell_type": "code",
   "execution_count": null,
   "metadata": {},
   "outputs": [],
   "source": []
  },
  {
   "cell_type": "code",
   "execution_count": 16,
   "metadata": {},
   "outputs": [
    {
     "data": {
      "text/plain": [
       "'متوفر'"
      ]
     },
     "execution_count": 16,
     "metadata": {},
     "output_type": "execute_result"
    }
   ],
   "source": [
    "in_stock.text"
   ]
  },
  {
   "cell_type": "code",
   "execution_count": null,
   "metadata": {},
   "outputs": [],
   "source": []
  },
  {
   "cell_type": "code",
   "execution_count": null,
   "metadata": {},
   "outputs": [],
   "source": []
  },
  {
   "cell_type": "code",
   "execution_count": null,
   "metadata": {},
   "outputs": [],
   "source": []
  },
  {
   "cell_type": "code",
   "execution_count": null,
   "metadata": {},
   "outputs": [],
   "source": []
  },
  {
   "cell_type": "code",
   "execution_count": null,
   "metadata": {},
   "outputs": [],
   "source": []
  },
  {
   "cell_type": "code",
   "execution_count": null,
   "metadata": {},
   "outputs": [],
   "source": []
  },
  {
   "cell_type": "code",
   "execution_count": null,
   "metadata": {},
   "outputs": [],
   "source": []
  },
  {
   "cell_type": "code",
   "execution_count": null,
   "metadata": {},
   "outputs": [],
   "source": []
  }
 ],
 "metadata": {
  "kernelspec": {
   "display_name": "Python 3 (ipykernel)",
   "language": "python",
   "name": "python3"
  },
  "language_info": {
   "codemirror_mode": {
    "name": "ipython",
    "version": 3
   },
   "file_extension": ".py",
   "mimetype": "text/x-python",
   "name": "python",
   "nbconvert_exporter": "python",
   "pygments_lexer": "ipython3",
   "version": "3.8.8"
  },
  "toc": {
   "base_numbering": 1,
   "nav_menu": {},
   "number_sections": true,
   "sideBar": true,
   "skip_h1_title": false,
   "title_cell": "Table of Contents",
   "title_sidebar": "Contents",
   "toc_cell": false,
   "toc_position": {},
   "toc_section_display": true,
   "toc_window_display": false
  }
 },
 "nbformat": 4,
 "nbformat_minor": 4
}
