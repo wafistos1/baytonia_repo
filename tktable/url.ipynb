{
 "cells": [
  {
   "cell_type": "code",
   "execution_count": 2,
   "metadata": {},
   "outputs": [],
   "source": [
    "\n",
    "from bs4 import BeautifulSoup\n",
    "from selenium import webdriver\n",
    "from selenium.webdriver.common.keys import Keys\n",
    "from selenium.webdriver.support import expected_conditions as EC\n",
    "from selenium.webdriver.common.by import By\n",
    "from selenium.webdriver.support.wait import WebDriverWait\n",
    "from selenium.webdriver.firefox.options import Options\n",
    "import time\n",
    "import os\n",
    "from fake_useragent import UserAgent\n",
    "from random import randint\n",
    "import pandas as pd\n",
    "import numpy as np\n",
    "import requests\n",
    "import pandas as pd\n",
    "import re"
   ]
  },
  {
   "cell_type": "code",
   "execution_count": 12,
   "metadata": {},
   "outputs": [
    {
     "name": "stdout",
     "output_type": "stream",
     "text": [
      "Mozilla/5.0 (Windows NT 6.1) AppleWebKit/537.36 (KHTML, like Gecko) Chrome/27.0.1453.90 Safari/537.36\n"
     ]
    },
    {
     "name": "stderr",
     "output_type": "stream",
     "text": [
      "<ipython-input-12-5cd918e09ffa>:7: DeprecationWarning: use options instead of firefox_options\n",
      "  driver = webdriver.Firefox(firefox_options=options)\n"
     ]
    }
   ],
   "source": [
    "options = Options()\n",
    "ua = UserAgent()\n",
    "userAgent = ua.random\n",
    "print(userAgent)\n",
    "options.add_argument(f'user-agent={userAgent}')\n",
    "#opti#     driver = webdriver.Firefox()ons.add_argument(\"--headless\")\n",
    "driver = webdriver.Firefox(firefox_options=options)"
   ]
  },
  {
   "cell_type": "code",
   "execution_count": 7,
   "metadata": {},
   "outputs": [],
   "source": [
    "url = 'https://tktable.com/categories/283805/%D8%A7%D9%84%D8%B7%D8%A8%D8%AE-%D9%88-%D8%A7%D9%84%D8%AE%D8%A8%D8%B2-%D8%A7%D9%84%D9%83%D9%84'\n",
    "driver.get(url)"
   ]
  },
  {
   "cell_type": "code",
   "execution_count": 21,
   "metadata": {},
   "outputs": [],
   "source": [
    "\n",
    "text = driver.find_element_by_tag_name('body').get_attribute('innerHTML')\n",
    "soup = BeautifulSoup(text, \"html.parser\")"
   ]
  },
  {
   "cell_type": "code",
   "execution_count": 18,
   "metadata": {},
   "outputs": [],
   "source": [
    "list_liens = []"
   ]
  },
  {
   "cell_type": "code",
   "execution_count": 14,
   "metadata": {},
   "outputs": [],
   "source": [
    "urls_list = [\n",
    "    {'url': 'https://tktable.com/categories/186483', 'cat1': 'الطبخ والخبز', 'cat2': 'أواني الطبخ والخبز '},\n",
    "    {'url': 'https://tktable.com/categories/168573', 'cat1': 'الطبخ والخبز', 'cat2': 'سكاكين الطبخ'},\n",
    "    {'url': 'https://tktable.com/categories/186484/', 'cat1': 'الطبخ والخبز', 'cat2': 'أدوات الطبخ'},\n",
    "    {'url': 'https://tktable.com/categories/187129', 'cat1': 'الطبخ والخبز', 'cat2': 'أدوات الخبز'},\n",
    "    {'url': 'https://tktable.com/categories/186482', 'cat1': 'المائدة والتقديم', 'cat2': 'المائدة'},\n",
    "    {'url': 'https://tktable.com/categories/186472', 'cat1': 'المائدة والتقديم', 'cat2': 'أواني وأدوات التقديم'},\n",
    "    {'url': 'https://tktable.com/categories/186473', 'cat1': 'المائدة والتقديم', 'cat2': 'الكاسات والأكواب'},\n",
    "    {'url': 'https://tktable.com/categories/186476', 'cat1': 'التنظيم', 'cat2': 'حافظات الطعام '},\n",
    "    {'url': 'https://tktable.com/categories/368757', 'cat1': 'الأدوات الكهربائية', 'cat2': 'أدوات المطبخ'},\n",
    "    {'url': 'https://tktable.com/categories/186486', 'cat1': 'الأدوات الكهربائية', 'cat2': 'أدوات العناية الشخصية'},\n",
    "    {'url': 'https://tktable.com/categories/187135', 'cat1': 'السويس نايف', 'cat2': 'السويس نايف'},\n",
    "    {'url': 'https://tktable.com/categories/186481', 'cat1': 'السويس نايف', 'cat2': 'السويس كارد'},\n",
    "]"
   ]
  },
  {
   "cell_type": "code",
   "execution_count": 15,
   "metadata": {},
   "outputs": [
    {
     "name": "stdout",
     "output_type": "stream",
     "text": [
      "Count:  0\n",
      "URL:  https://tktable.com/categories/186483\n",
      "Len:  5\n",
      "No Next\n",
      "Count:  1\n",
      "URL:  https://tktable.com/categories/168573\n",
      "Len:  24\n",
      "Len:  5\n",
      "No Next\n",
      "Count:  2\n",
      "URL:  https://tktable.com/categories/186484/\n",
      "Len:  8\n",
      "No Next\n",
      "Count:  3\n",
      "URL:  https://tktable.com/categories/187129\n",
      "Len:  9\n",
      "No Next\n",
      "Count:  4\n",
      "URL:  https://tktable.com/categories/186482\n",
      "Len:  8\n",
      "No Next\n",
      "Count:  5\n",
      "URL:  https://tktable.com/categories/186472\n",
      "Len:  21\n",
      "No Next\n",
      "Count:  6\n",
      "URL:  https://tktable.com/categories/186473\n",
      "Len:  7\n",
      "No Next\n",
      "Count:  7\n",
      "URL:  https://tktable.com/categories/186476\n",
      "Len:  10\n",
      "No Next\n",
      "Count:  8\n",
      "URL:  https://tktable.com/categories/368757\n",
      "Len:  24\n",
      "Len:  24\n",
      "No Next\n",
      "Count:  9\n",
      "URL:  https://tktable.com/categories/186486\n",
      "Len:  4\n",
      "No Next\n",
      "Count:  10\n",
      "URL:  https://tktable.com/categories/187135\n",
      "Len:  24\n",
      "Len:  24\n",
      "Len:  24\n",
      "No Next\n",
      "Count:  11\n",
      "URL:  https://tktable.com/categories/186481\n",
      "Len:  8\n",
      "No Next\n"
     ]
    }
   ],
   "source": [
    "df = pd.read_excel('urls_models.xlsx')\n",
    "\n",
    "for i, url in enumerate(urls_list):\n",
    "    print('Count: ', i)\n",
    "    url1 = url['url']\n",
    "    cat1 = url['cat1']\n",
    "    cat2 = url['cat2']\n",
    "    print('URL: ', url1)\n",
    "\n",
    "    driver.get(url1)\n",
    "    while True:\n",
    "        text = driver.find_element_by_tag_name('body').get_attribute('innerHTML')\n",
    "        soup = BeautifulSoup(text, \"html.parser\")\n",
    "        time.sleep(1)\n",
    "        liens = soup.find_all('div', {'class': 'shop-thumbnail'})\n",
    "\n",
    "        data = []\n",
    "        list_liens = [p.find('a')['href'] for p in liens]\n",
    "        print('Len: ', len(list_liens))\n",
    "        \n",
    "        for toto in list_liens:\n",
    "            data.append({\n",
    "            'url':'https://tktable.com' + toto,\n",
    "            'categories1': cat1,\n",
    "            'categories2': cat2,\n",
    "            })\n",
    "        \n",
    "        df1 = pd.DataFrame(data)\n",
    "        df = pd.concat([df, df1], ignore_index=True)\n",
    "        df.to_excel('tktable_url1.xlsx')\n",
    "        try:\n",
    "            driver.find_element_by_xpath('//a[@rel=\"next\"]').click()\n",
    "        except:\n",
    "            print('No Next')\n",
    "            break\n"
   ]
  },
  {
   "cell_type": "code",
   "execution_count": null,
   "metadata": {},
   "outputs": [],
   "source": [
    " price special_price description images sku "
   ]
  },
  {
   "cell_type": "code",
   "execution_count": 38,
   "metadata": {},
   "outputs": [],
   "source": [
    "text = driver.find_element_by_tag_name('body').get_attribute('innerHTML')\n",
    "soup = BeautifulSoup(text, \"html.parser\")"
   ]
  },
  {
   "cell_type": "code",
   "execution_count": 51,
   "metadata": {},
   "outputs": [
    {
     "data": {
      "text/plain": [
       "['https://media.zid.store/cdn-cgi/image/f=auto/https://media.zid.store/5c67fc1c-ade3-496f-a199-80cf448983df/c86aa86e-c952-457a-b380-cf013020ea14.jpeg',\n",
       " 'https://media.zid.store/cdn-cgi/image/w=100,q=85,f=auto/https://media.zid.store/thumbs/5c67fc1c-ade3-496f-a199-80cf448983df/c86aa86e-c952-457a-b380-cf013020ea14-thumbnail-370x370-70.jpeg',\n",
       " 'https://media.zid.store/cdn-cgi/image/w=100,q=85,f=auto/https://media.zid.store/thumbs/5c67fc1c-ade3-496f-a199-80cf448983df/f7cf859c-654e-42b7-b2f6-d25ff9a688ac-thumbnail-370x370-70.jpeg']"
      ]
     },
     "execution_count": 51,
     "metadata": {},
     "output_type": "execute_result"
    }
   ],
   "source": [
    "name = soup.find('h1', {'class': 'h2 space-bottom-half product-title'}).text.strip()\n",
    "price = soup.find('span', {'id': 'product-price'}).text.replace('ر.س', '').strip()\n",
    "sku = soup.find('div', {'class': 'product-sku'}).find('span').text.strip()\n",
    "wight = soup.find('strong', text='الوزن: ').next_sibling.next_sibling.text.strip()\n",
    "list_images = []\n",
    "images = driver.find_elements_by_xpath('//div[@class=\"owl-stage-outer\"]//div[@class=\"owl-item active\"]')\n",
    "description = soup.find('div', {'id': 'description-tab'}).text.strip()\n",
    "len(images)\n",
    "for img in images:\n",
    "    try:\n",
    "        print(img.get_attribute('src'))\n",
    "        img.click()\n",
    "        image = driver.find_element_by_xpath('//img[@id=\"main-img\"]').get_attribute('src')\n",
    "        list_images.append(image)\n",
    "        time.sleep(1)\n",
    "    except:\n",
    "        pass\n",
    "    \n",
    "base_image = list_images[0]\n",
    "additionnel_images = ','.join(list_images[1:])\n",
    "\n",
    "data = {\n",
    "    'link_url': url1,\n",
    "    'name': name,\n",
    "    'sku': sku,\n",
    "    'price': price,\n",
    "    'wight': wight,\n",
    "    'description': description,\n",
    "    'base_images': base_image,\n",
    "    'additionnel_images': additionnel_images,\n",
    "    'categories1': cat1,\n",
    "    'categories2':\n",
    "    \n",
    "}"
   ]
  },
  {
   "cell_type": "code",
   "execution_count": 60,
   "metadata": {},
   "outputs": [
    {
     "name": "stdout",
     "output_type": "stream",
     "text": [
      "None\n",
      "None\n",
      "None\n"
     ]
    }
   ],
   "source": [
    "list_images = []\n",
    "images = driver.find_elements_by_xpath('//div[@class=\"owl-stage-outer\"]//div[@class=\"owl-item active\"]')\n",
    "len(images)\n",
    "for img in images:\n",
    "    try:\n",
    "        print(img.get_attribute('src'))\n",
    "        img.click()\n",
    "        image = driver.find_element_by_xpath('//img[@id=\"main-img\"]').get_attribute('src')\n",
    "        list_images.append(image)\n",
    "        time.sleep(1)\n",
    "    except:\n",
    "        pass"
   ]
  },
  {
   "cell_type": "code",
   "execution_count": 61,
   "metadata": {},
   "outputs": [
    {
     "data": {
      "text/plain": [
       "['https://media.zid.store/cdn-cgi/image/f=auto/https://media.zid.store/5c67fc1c-ade3-496f-a199-80cf448983df/c86aa86e-c952-457a-b380-cf013020ea14.jpeg',\n",
       " 'https://media.zid.store/cdn-cgi/image/f=auto/https://media.zid.store/5c67fc1c-ade3-496f-a199-80cf448983df/f7cf859c-654e-42b7-b2f6-d25ff9a688ac.jpeg']"
      ]
     },
     "execution_count": 61,
     "metadata": {},
     "output_type": "execute_result"
    }
   ],
   "source": [
    "list_images"
   ]
  }
 ],
 "metadata": {
  "interpreter": {
   "hash": "901bbe481fb91f862c10b8e54f95d7da636ff35e7b7d7322c639cfaac06e5987"
  },
  "kernelspec": {
   "display_name": "Python 3.8.8 ('base')",
   "language": "python",
   "name": "python3"
  },
  "language_info": {
   "codemirror_mode": {
    "name": "ipython",
    "version": 3
   },
   "file_extension": ".py",
   "mimetype": "text/x-python",
   "name": "python",
   "nbconvert_exporter": "python",
   "pygments_lexer": "ipython3",
   "version": "3.8.8"
  },
  "orig_nbformat": 4
 },
 "nbformat": 4,
 "nbformat_minor": 2
}
