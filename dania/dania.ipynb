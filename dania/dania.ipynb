{
 "cells": [
  {
   "cell_type": "code",
   "execution_count": 2,
   "id": "51b0a636",
   "metadata": {},
   "outputs": [],
   "source": [
    "#imports here\n",
    "from selenium.webdriver.common.proxy import Proxy, ProxyType\n",
    "from selenium import webdriver\n",
    "from selenium.webdriver.common.keys import Keys\n",
    "from selenium.webdriver.support import expected_conditions as EC\n",
    "from selenium.webdriver.common.by import By\n",
    "from selenium.webdriver.support.wait import WebDriverWait\n",
    "from selenium.webdriver.firefox.options import Options\n",
    "import time\n",
    "import os\n",
    "from fake_useragent import UserAgent\n",
    "from random import randint\n",
    "import pandas as pd\n",
    "import numpy as np\n",
    "import re\n",
    "from datetime import datetime\n",
    "from datetime import timedelta\n",
    "from bs4 import BeautifulSoup\n",
    "from urllib.parse import urljoin\n",
    "import requests\n",
    "import string"
   ]
  },
  {
   "cell_type": "markdown",
   "id": "bdae2a94",
   "metadata": {},
   "source": [
    "# Firefox"
   ]
  },
  {
   "cell_type": "code",
   "execution_count": 5,
   "id": "e81ce385",
   "metadata": {},
   "outputs": [
    {
     "name": "stdout",
     "output_type": "stream",
     "text": [
      "Mozilla/5.0 (Windows NT 6.2; Win64; x64;) Gecko/20100101 Firefox/20.0\n"
     ]
    },
    {
     "name": "stderr",
     "output_type": "stream",
     "text": [
      "<ipython-input-5-5315509cced7>:7: DeprecationWarning: use options instead of firefox_options\n",
      "  driver = webdriver.Firefox(firefox_options=options)\n"
     ]
    }
   ],
   "source": [
    "options = Options()\n",
    "ua = UserAgent()\n",
    "userAgent = ua.random\n",
    "print(userAgent)\n",
    "options.add_argument(f'user-agent={userAgent}')\n",
    "#options.add_argument(\"--headless\")\n",
    "driver = webdriver.Firefox(firefox_options=options)\n",
    "#     driver = webdriver.Firefox()"
   ]
  },
  {
   "cell_type": "markdown",
   "id": "ea4010fc",
   "metadata": {},
   "source": [
    "# caculate time"
   ]
  },
  {
   "cell_type": "code",
   "execution_count": 9,
   "id": "8df4f4ee",
   "metadata": {},
   "outputs": [],
   "source": [
    "driver.get('https://www.noon.com')\n"
   ]
  },
  {
   "cell_type": "code",
   "execution_count": 53,
   "id": "ec1a0d0c",
   "metadata": {},
   "outputs": [],
   "source": [
    "headers = {\n",
    "'User-Agent': 'Mozilla/5.0 (Macintosh; Intel Mac OS X 10_12_6) AppleWebKit/537.36 (KHTML, like Gecko) Chrome/74.0.3729.169 Safari/537.36', \n",
    "'Accept-Encoding': 'gzip, deflate', \n",
    "'Accept': 'text/html,application/xhtml+xml,application/xml;q=0.9,/;q=0.8', \n",
    "'Connection': 'keep-alive', \n",
    "'Accept-Language': 'en-US,en;q=0.5', \n",
    "'Upgrade-Insecure-Requests': '1', \n",
    "'Pragma': 'no-cache', \n",
    "'Cache-Control': 'no-cache'\n",
    "}"
   ]
  },
  {
   "cell_type": "code",
   "execution_count": 54,
   "id": "8bc23b29",
   "metadata": {},
   "outputs": [
    {
     "data": {
      "text/plain": [
       "28"
      ]
     },
     "execution_count": 54,
     "metadata": {},
     "output_type": "execute_result"
    }
   ],
   "source": [
    "r = requests.get(str('https://cointelegraph.com/'), headers=headers)\n",
    "soup = BeautifulSoup(r.text, 'html.parser')\n",
    "posts = soup.find_all('li', {'class': 'posts-listing__item'})\n",
    "len(posts)"
   ]
  },
  {
   "cell_type": "code",
   "execution_count": null,
   "id": "d8c0f82f",
   "metadata": {},
   "outputs": [],
   "source": []
  },
  {
   "cell_type": "code",
   "execution_count": 6,
   "id": "730d02a7",
   "metadata": {},
   "outputs": [],
   "source": [
    "driver.get('https://www.noon.com/uae-en/')"
   ]
  },
  {
   "cell_type": "code",
   "execution_count": null,
   "id": "4eec53e4",
   "metadata": {},
   "outputs": [],
   "source": []
  },
  {
   "cell_type": "code",
   "execution_count": 83,
   "id": "4905c5f4",
   "metadata": {},
   "outputs": [],
   "source": []
  },
  {
   "cell_type": "code",
   "execution_count": 5,
   "id": "90c219ec",
   "metadata": {},
   "outputs": [
    {
     "data": {
      "text/plain": [
       "'حامل شمعة'"
      ]
     },
     "execution_count": 5,
     "metadata": {},
     "output_type": "execute_result"
    }
   ],
   "source": [
    "list_accesoires[0][4] "
   ]
  },
  {
   "cell_type": "code",
   "execution_count": 10,
   "id": "ca6236fc",
   "metadata": {},
   "outputs": [],
   "source": []
  },
  {
   "cell_type": "code",
   "execution_count": 23,
   "id": "722cbf16",
   "metadata": {},
   "outputs": [
    {
     "name": "stdout",
     "output_type": "stream",
     "text": [
      "24\n"
     ]
    }
   ],
   "source": [
    "r = requests.get('https://www.amazon.sa/Dansat/b/ref=bl_dp_s_web_18140846031?ie=UTF8&node=18140846031&field-lbr_brands_browse-bin=Dansat')\n",
    "soup = BeautifulSoup(r.text, 'html.parser')\n",
    "sections = soup.find_all('div', {'class': 'a-section a-spacing-medium'})\n",
    "# print(sections[1])\n",
    "urls = sections[1].find_all('a', {'class': 'a-link-normal'}, href=True)\n",
    "print(len(urls))\n",
    "list_urls = []\n",
    "for url in urls:\n",
    "    list_urls.append('https://www.amazon.sa' + url['href'])"
   ]
  },
  {
   "cell_type": "code",
   "execution_count": 1,
   "id": "3b18a4fe",
   "metadata": {},
   "outputs": [],
   "source": [
    "\n",
    "\n",
    "list_cats = [\n",
    "    {'url': 'https://dania.co/index.php?route=product/category&path=102', 'cat1': 'اطقم شاي وقهوة', 'cat2': 'بيالات شاي و قهوة عربي', 'ca3': ''},\n",
    "    {'url': 'https://dania.co/index.php?route=product/category&path=106', 'cat1': 'اطقم شاي وقهوة', 'cat2': 'ترامس و اباريق', 'ca3': ''},\n",
    "    {'url': 'https://dania.co/index.php?route=product/category&path=112', 'cat1': 'اطقم شاي وقهوة', 'cat2': 'فناجين قهوة تركي', 'ca3': ''},\n",
    "    {'url': 'https://dania.co/index.php?route=product/category&path=120', 'cat1': 'اطقم شاي وقهوة', 'cat2': 'اكواب', 'ca3': ''},\n",
    "    {'url': 'https://dania.co/index.php?route=product/category&path=105', 'cat1': 'ادوات تقديم', 'cat2': 'صحون تقديم', 'ca3': ''},\n",
    "    {'url': 'https://dania.co/index.php?route=product/category&path=121', 'cat1': 'ادوات تقديم', 'cat2': 'تمريات', 'ca3': ''},\n",
    "    {'url': 'https://dania.co/index.php?route=product/category&path=122', 'cat1': 'ادوات تقديم', 'cat2': 'سكريات', 'ca3': ''},\n",
    "    {'url': 'https://dania.co/index.php?route=product/category&path=123', 'cat1': 'ادوات تقديم', 'cat2': 'اطقم كيك', 'ca3': ''},\n",
    "    {'url': 'https://dania.co/index.php?route=product/category&path=124', 'cat1': 'صواني تقديم ', 'cat2': 'صواني ستيل', 'ca3': ''},\n",
    "    {'url': 'https://dania.co/index.php?route=product/category&path=125', 'cat1': 'صواني تقديم ', 'cat2': 'صواني خشب', 'ca3': ''},\n",
    "    {'url': 'https://dania.co/index.php?route=product/category&path=126', 'cat1': 'صواني تقديم ', 'cat2': 'صواني رخام', 'ca3': ''},\n",
    "    {'url': 'https://dania.co/index.php?route=product/category&path=127', 'cat1': 'صواني تقديم ', 'cat2': 'صواني زجاج و بورسلان', 'ca3': ''},\n",
    "    {'url': 'https://dania.co/index.php?route=product/category&path=129', 'cat1': 'اواني المائدة ', 'cat2': 'اطقم شوربة', 'ca3': ''},\n",
    "    {'url': 'https://dania.co/index.php?route=product/category&path=101', 'cat1': 'اواني المائدة ', 'cat2': 'أطقم سفرة', 'ca3': ''},\n",
    "    {'url': 'https://dania.co/index.php?route=product/category&path=130', 'cat1': 'اواني المائدة ', 'cat2': 'مستلزمات بوفيه', 'ca3': ''},\n",
    "    {'url': 'https://dania.co/index.php?route=product/category&path=128', 'cat1': 'اواني المائدة ', 'cat2': 'اطقم جك وكاسات', 'ca3': ''},\n",
    "    {'url': 'https://dania.co/index.php?route=product/category&path=103', 'cat1': 'اواني المائدة ', 'cat2': ' اطقم ملاعق وسكاكين', 'ca3': ''},\n",
    "    {'url': 'https://dania.co/index.php?route=product/category&path=114', 'cat1': 'ادوات المطبخ ', 'cat2': 'قدور', 'ca3': ''},\n",
    "    {'url': 'https://dania.co/index.php?route=product/category&path=104', 'cat1': 'ادوات المطبخ ', 'cat2': 'طاوات', 'ca3': ''},\n",
    "    {'url': 'https://dania.co/index.php?route=product/category&path=131', 'cat1': 'ادوات المطبخ ', 'cat2': 'صواني فرن', 'ca3': ''},\n",
    "    {'url': 'https://dania.co/index.php?route=product/category&path=115', 'cat1': 'ادوات المطبخ ', 'cat2': 'اكسسوارات المطبخ', 'ca3': ''},\n",
    "    {'url': 'https://dania.co/index.php?route=product/category&path=113', 'cat1': 'مباخر و علب العود', 'cat2': '', 'ca3': ''},\n",
    "    {'url': 'https://dania.co/index.php?route=product/category&path=107', 'cat1': 'اكسسوارات و تحف', 'cat2': '', 'ca3': ''},\n",
    "    {'url': 'https://dania.co/index.php?route=product/category&path=109', 'cat1': ' كماليات المنزل', 'cat2': '', 'ca3': ''},\n",
    "    {'url': 'https://dania.co/index.php?route=product/category&path=116', 'cat1': 'عروض دانية', 'cat2': '', 'ca3': ''},\n",
    "   \n",
    "\n",
    "]"
   ]
  },
  {
   "cell_type": "code",
   "execution_count": null,
   "id": "3419833a",
   "metadata": {},
   "outputs": [],
   "source": []
  },
  {
   "cell_type": "code",
   "execution_count": 2,
   "id": "8f34102c",
   "metadata": {},
   "outputs": [],
   "source": [
    "list_cats = [\n",
    "    \n",
    "    {'cat1': 'ضيافة و تقديم', 'cat2': 'قهوة تركي', 'cat3': '', 'url': 'https://dania.co/category/mQjqNb', },\n",
    "    {'cat1': 'ضيافة و تقديم', 'cat2': 'اطقم قهوة عربي و شاي', 'cat3': '', 'url': 'https://dania.co/category/onrBVZ', },\n",
    "    {'cat1': 'ضيافة و تقديم', 'cat2': 'بيالات شاي و صحون', 'cat3': '', 'url': 'https://dania.co/category/YgxBdw', },\n",
    "    {'cat1': 'ضيافة و تقديم', 'cat2': 'اكواب', 'cat3': '', 'url': 'https://dania.co/category/PdKWmr', },\n",
    "    {'cat1': 'ضيافة و تقديم', 'cat2': 'ترامس و اباريق', 'cat3': '', 'url': 'https://dania.co/category/jZDQzR', },\n",
    "    {'cat1': 'ضيافة و تقديم', 'cat2': 'صحون تقديم', 'cat3': '', 'url': 'https://dania.co/category/ydRGPx', },\n",
    "    {'cat1': 'ضيافة و تقديم', 'cat2': 'تمريات', 'cat3': '', 'url': 'https://dania.co/category/KjrOen', },\n",
    "    {'cat1': 'ضيافة و تقديم', 'cat2': 'سكريات', 'cat3': '', 'url': 'https://dania.co/category/aevOnR', },\n",
    "    {'cat1': 'ضيافة و تقديم', 'cat2': 'اطقم كيك', 'cat3': '', 'url': 'https://dania.co/category/RAOrDn', },\n",
    "    \n",
    "    \n",
    "    {'cat1': 'صواني تقديم', 'cat2': 'صواني ستيل', 'cat3': '', 'url': 'https://dania.co/category/GYpdwz', },\n",
    "    {'cat1': 'صواني تقديم', 'cat2': 'صواني خشب', 'cat3': '', 'url': 'https://dania.co/category/KjrOQa', },\n",
    "    {'cat1': 'صواني تقديم', 'cat2': 'صواني رخام', 'cat3': '', 'url': 'https://dania.co/category/Oqvnor', },\n",
    "    {'cat1': 'صواني تقديم', 'cat2': 'صواني زجاج و بورسلان', 'cat3': '', 'url': 'https://dania.co/category/bRKbln', },\n",
    "    \n",
    "    \n",
    "    {'cat1': 'مباخر و علب العود', 'cat2': '', 'cat3': '', 'url': 'https://dania.co/category/xAgbPl', },\n",
    "    \n",
    "    \n",
    "    {'cat1': 'اواني المائدة', 'cat2': 'اطقم سفرة', 'cat3': '', 'url': 'https://dania.co/category/XeDjgB', },\n",
    "    {'cat1': 'اواني المائدة', 'cat2': 'اطقم ملاعق و سكاكين', 'cat3': '', 'url': 'https://dania.co/category/qQywAd', },\n",
    "    {'cat1': 'اواني المائدة', 'cat2': 'اطقم شوربة', 'cat3': '', 'url': 'https://dania.co/category/AzGaPP', },\n",
    "    {'cat1': 'اواني المائدة', 'cat2': 'اطقم جك و كاسات', 'cat3': '', 'url': 'https://dania.co/category/VqnXKK', },\n",
    "    {'cat1': 'اواني المائدة', 'cat2': 'مستلزمات بوفيه', 'cat3': '', 'url': 'https://dania.co/category/NKdRmv', },\n",
    "    \n",
    "    \n",
    "    {'cat1': 'أدوات و اكسسوارات المطبخ', 'cat2': 'قدور', 'cat3': '', 'url': 'https://dania.co/category/BrmOPA', },\n",
    "    {'cat1': 'أدوات و اكسسوارات المطبخ', 'cat2': 'طاوات', 'cat3': '', 'url': 'https://dania.co/category/rAdmQj', },\n",
    "    {'cat1': 'أدوات و اكسسوارات المطبخ', 'cat2': 'صواني فرن', 'cat3': '', 'url': 'https://dania.co/category/OqvzAR', },\n",
    "    {'cat1': 'أدوات و اكسسوارات المطبخ', 'cat2': 'اكسسورات المطبخ', 'cat3': '', 'url': 'https://dania.co/category/dPOXBl', },\n",
    "    \n",
    "    \n",
    "    {'cat1': 'تحف و اكسسورات', 'cat2': '', 'cat3': '', 'url': 'https://dania.co/category/zvGRWg', },\n",
    "    \n",
    "    \n",
    "\n",
    "]"
   ]
  },
  {
   "cell_type": "code",
   "execution_count": null,
   "id": "dcf83a61",
   "metadata": {},
   "outputs": [],
   "source": [
    "base_url = 'https://dania.co/index.php?route=product/'\n",
    "new_list_cats = []\n",
    "for toto in list_cats:\n",
    "   new_list_cats('https://dania.co/index.php?route=product/' + toto['url'] )"
   ]
  },
  {
   "cell_type": "code",
   "execution_count": null,
   "id": "06119b76",
   "metadata": {},
   "outputs": [],
   "source": []
  },
  {
   "cell_type": "code",
   "execution_count": 14,
   "id": "7acab1b3",
   "metadata": {},
   "outputs": [],
   "source": [
    "def get_data(url1):\n",
    "    \"\"\"\n",
    "    Fonction to scrape all urls from itch categories\n",
    "    Return Data\n",
    "    \"\"\"\n",
    "    \n",
    "    url = url1\n",
    "    print('Url:', url)\n",
    "    r = requests.get(str(url))\n",
    "    soup = BeautifulSoup(r.text, 'html.parser')\n",
    "    cats = soup.find_all('div', {'class': 'product'})\n",
    "    list_cats = [toto.find('a')['href'] for toto in cats]\n",
    "    \n",
    "    time.sleep(0.5)\n",
    "    print(len(list_cats))\n",
    "    return len(list_cats), list_cats\n",
    "\n",
    "\n",
    "# Extract new urls of Rugaib site from url categories\n",
    "\n",
    "# url = 'https://rawae.com/search?subsubcategory=Accessories-box-Q3HaJ&page=1'\n",
    "\n",
    "def scrap_url_product(url1):\n",
    "    cat1 = url1['cat1']\n",
    "    cat2 = url1['cat2']\n",
    "    cat3 = url1['cat3']\n",
    "    url = url1['url'] + '?page=1'\n",
    "    data = []\n",
    "    print(cat1, cat2, cat3)\n",
    "    count = 1\n",
    "    while True:\n",
    "        len, urls_list = get_data(url)\n",
    "        if len == 0:\n",
    "            break\n",
    "        \n",
    "        for toto in urls_list:\n",
    "            # print(f'URL:', toto)\n",
    "            data.append({\n",
    "            'url':toto,\n",
    "            'cat1': cat1,\n",
    "            'cat2': cat2,\n",
    "            'cat3': cat3,\n",
    "            })\n",
    "\n",
    "\n",
    "        count += 1\n",
    "        url = url.split('?')[0] + f'?page={count}'\n",
    "\n",
    "    # print(data)\n",
    "    print( f'Scrape done .')\n",
    "    return data"
   ]
  },
  {
   "cell_type": "code",
   "execution_count": 4,
   "id": "e2383a8b",
   "metadata": {},
   "outputs": [],
   "source": [
    "list_urls = []"
   ]
  },
  {
   "cell_type": "code",
   "execution_count": null,
   "id": "78d218b2",
   "metadata": {},
   "outputs": [],
   "source": [
    "df = pd.read_excel('/home/wafistos/Documents/Projects/scaping_wafi/dania/url_model.xlsx')\n",
    "for toto in list_cats:\n",
    "    data =   scrap_url_product(toto)\n",
    "    df1 = pd.DataFrame(data)\n",
    "    df = pd.concat([df, df1], ignore_index=True)\n",
    "    df.to_excel('test1.xlsx')"
   ]
  },
  {
   "cell_type": "code",
   "execution_count": 6,
   "id": "1460ccf5",
   "metadata": {},
   "outputs": [
    {
     "data": {
      "text/plain": [
       "(3520, 4)"
      ]
     },
     "execution_count": 6,
     "metadata": {},
     "output_type": "execute_result"
    }
   ],
   "source": [
    "df.shape"
   ]
  },
  {
   "cell_type": "code",
   "execution_count": 25,
   "id": "37a06dde",
   "metadata": {},
   "outputs": [],
   "source": [
    "toto = pd.read_excel('toto1.xlsx')"
   ]
  },
  {
   "cell_type": "code",
   "execution_count": 26,
   "id": "8edaedbf",
   "metadata": {},
   "outputs": [],
   "source": [
    "url_product = [{'url': row['url'], 'cat1': row['cat1'],'cat2': row['cat2'],'cat3': row['cat3'], } for index, row in toto.iterrows()]\n"
   ]
  },
  {
   "cell_type": "code",
   "execution_count": 27,
   "id": "9ddef47b",
   "metadata": {},
   "outputs": [
    {
     "data": {
      "text/plain": [
       "3520"
      ]
     },
     "execution_count": 27,
     "metadata": {},
     "output_type": "execute_result"
    }
   ],
   "source": [
    "len(url_product)"
   ]
  },
  {
   "cell_type": "markdown",
   "id": "3a1f4268",
   "metadata": {},
   "source": [
    "# Debut de la fonction"
   ]
  },
  {
   "cell_type": "code",
   "execution_count": null,
   "id": "14f4125f",
   "metadata": {
    "scrolled": true
   },
   "outputs": [],
   "source": [
    "def return_ele(ele, details):\n",
    "    for tt in details:\n",
    "        if ele in tt.text:\n",
    "            return tt.text.replace(ele, '').strip()\n",
    "now = datetime.now()\n",
    "dt_string = now.strftime(\"%d-%m-%Y-%H-%M-%S\")\n",
    "count = 0\n",
    "list_images = [] \n",
    "\n",
    "display_bool = False\n",
    "headers = {\n",
    "'User-Agent': 'Mozilla/5.0 (Macintosh; Intel Mac OS X 10_12_6) AppleWebKit/537.36 (KHTML, like Gecko) Chrome/74.0.3729.169 Safari/537.36', \n",
    "'Accept-Encoding': 'gzip, deflate', \n",
    "'Accept': 'text/html,application/xhtml+xml,application/xml;q=0.9,/;q=0.8', \n",
    "'Connection': 'keep-alive', \n",
    "'Accept-Language': 'en-US,en;q=0.5', \n",
    "'Upgrade-Insecure-Requests': '1', \n",
    "'Pragma': 'no-cache', \n",
    "'Cache-Control': 'no-cache'\n",
    "}\n",
    "\n",
    "#**********************************************************************\n",
    "#**********************************************************************\n",
    "#**********************************************************************\n",
    "#**********************************************************************\n",
    "#**********************************************************************\n",
    "#ForLoop main\n",
    "df = pd.read_excel('dania_model1.xlsx')\n",
    "for i, url1 in enumerate(url_product):\n",
    "    url = url1['url']\n",
    "    cat1 = url1['cat1']\n",
    "    cat2 = url1['cat2']\n",
    "    cat3 = url1['cat3']\n",
    "    print('Count:', i)\n",
    "    print('URL:', url)\n",
    "    r = requests.get(str(url))\n",
    "    soup = BeautifulSoup(r.text, 'html.parser')\n",
    "    try:\n",
    "        title = soup.find('h2', {'class': 'title-detail'}).text.strip()\n",
    "    except:\n",
    "        continue\n",
    "    try:\n",
    "        price = soup.find('span', {'class': 'original_display'}).text.replace('ريال', '').strip()\n",
    "        special_price = soup.find('span', {'class': 'price_display'}).text.replace('ريال', '').strip()\n",
    "    except:\n",
    "        price = soup.find('span', {'class': 'price_display'}).text.replace('ريال', '').strip()\n",
    "        special_price = 0\n",
    "    model = soup.find('span', {'class': 'model-name'}).text.replace('الموديل : ', '').strip()\n",
    "    sku = model\n",
    "    description = soup.find('div', {'class': 'content-detail-tab'}).text.strip()\n",
    "    images = soup.find('div', {'class': 'gallery-without-sidebar'}).find_all('img')\n",
    "    len(images)\n",
    "    list_img = [img['src'] for img in images]\n",
    "    list_img\n",
    "    list_img = list(dict.fromkeys(list_img))\n",
    "    images_base = list_img[0]\n",
    "    add_images = ','.join(list_img[1:])\n",
    "    is_in_stock = soup.find('div', {'class': 'product-info-stock-sku'}).text.replace('حالة التوفر :', '').strip()\n",
    "\n",
    "#************************************************************************** \n",
    "    print('Title:', title)\n",
    "    print('Price:', price)\n",
    "\n",
    "#     print('Size:',Dimensions)\n",
    "    print('Sku:',sku)\n",
    "\n",
    "\n",
    "\n",
    "#         list_input_images2.append(t)\n",
    "#*******************************************************\n",
    "    two_month = datetime.now() + timedelta(days=60)\n",
    "    two_month = two_month.strftime(\"%m/%d/%Y\")\n",
    "    today = datetime.today().strftime(\"%m/%d/%Y\")\n",
    "\n",
    "#*******************************************************\n",
    "\n",
    "#     url_key = f'{sku} {title}'\n",
    "\n",
    "#     url_key = url_key.replace(',', '-').replace('*', '-').replace('،', '-')\n",
    "\n",
    "\n",
    "    series = pd.Series([sku,\n",
    "                         title,\n",
    "                         price,\n",
    "                        special_price,\n",
    "                        model,\n",
    "                        description,\n",
    "                        images_base,\n",
    "                        \n",
    "                        add_images,\n",
    "                         today,\n",
    "                         two_month,\n",
    "                        is_in_stock,\n",
    "                         url,#link_url,\n",
    "                         cat1,#category1,\n",
    "                         cat2,#category2,\n",
    "                         cat3,#category3,\n",
    "\n",
    "                        ],  index=df.columns)\n",
    "    #df.append(df1)\n",
    "    df = df.append(series, ignore_index=True)\n",
    "    df.to_excel( f'dania_test2.xlsx', index = False)\n"
   ]
  },
  {
   "cell_type": "markdown",
   "id": "b7d8d492",
   "metadata": {},
   "source": [
    "# Fin de la fonction"
   ]
  },
  {
   "cell_type": "code",
   "execution_count": 13,
   "id": "731d2d00",
   "metadata": {},
   "outputs": [],
   "source": [
    "url = 'https://dania.co/mqGNVY'"
   ]
  },
  {
   "cell_type": "code",
   "execution_count": 14,
   "id": "dff4aa62",
   "metadata": {},
   "outputs": [],
   "source": [
    "headers = {'User-Agent': 'Mozilla/5.0 (Macintosh; Intel Mac OS X 10_10_1) AppleWebKit/537.36 (KHTML, like Gecko) Chrome/39.0.2171.95 Safari/537.36'}\n",
    "cookies = {'session': '134-8225175-0355220'}\n",
    "r = requests.get(url, headers=headers, cookies=cookies)\n",
    "soup = BeautifulSoup(r.content, \"html.parser\")"
   ]
  },
  {
   "cell_type": "code",
   "execution_count": 25,
   "id": "d069fe49",
   "metadata": {},
   "outputs": [],
   "source": [
    "def extract_ele(name, soup, all=False):\n",
    "    try:\n",
    "        if all:\n",
    "            return soup.find('p', text=re.compile(name)).text.strip()\n",
    "        return soup.find('p', text=re.compile(name)).text.replace(name, '').replace('مكون من', '').replace(':', '').strip()\n",
    "    except:\n",
    "        return ''\n",
    "raw_materials = extract_ele('مصنوع من', soup)\n",
    "free_colors = extract_ele('لون', soup)\n",
    "\n",
    "number_pieces = extract_ele('مقاس', soup, all=True)\n",
    "capacite =  extract_ele('سعة', soup, all=True)"
   ]
  },
  {
   "cell_type": "code",
   "execution_count": 29,
   "id": "dd1865a0",
   "metadata": {},
   "outputs": [
    {
     "data": {
      "text/plain": [
       "'-6 فناجين قهوة تركي سعة 100 مل'"
      ]
     },
     "execution_count": 29,
     "metadata": {},
     "output_type": "execute_result"
    }
   ],
   "source": [
    "\n",
    "capacite"
   ]
  },
  {
   "cell_type": "code",
   "execution_count": 24,
   "id": "70a1faf2",
   "metadata": {},
   "outputs": [],
   "source": [
    "x, y = pyautogui.locateCenterOnScreen('dania1.png', confidence=0.5)\n",
    "pyautogui.click(x, y)"
   ]
  },
  {
   "cell_type": "code",
   "execution_count": 1,
   "id": "f0da59d9",
   "metadata": {},
   "outputs": [
    {
     "ename": "NameError",
     "evalue": "name 'requests' is not defined",
     "output_type": "error",
     "traceback": [
      "\u001b[0;31m---------------------------------------------------------------------------\u001b[0m",
      "\u001b[0;31mNameError\u001b[0m                                 Traceback (most recent call last)",
      "\u001b[1;32m/home/wafistos/Documents/Projects/scaping_wafi/dania/dania.ipynb Cell 34\u001b[0m in \u001b[0;36m<module>\u001b[0;34m\u001b[0m\n\u001b[0;32m----> <a href='vscode-notebook-cell:/home/wafistos/Documents/Projects/scaping_wafi/dania/dania.ipynb#ch0000033?line=0'>1</a>\u001b[0m r \u001b[39m=\u001b[39m requests\u001b[39m.\u001b[39mget(\u001b[39m'\u001b[39m\u001b[39mhttps://dania.co/rbdgdX\u001b[39m\u001b[39m'\u001b[39m)\n\u001b[1;32m      <a href='vscode-notebook-cell:/home/wafistos/Documents/Projects/scaping_wafi/dania/dania.ipynb#ch0000033?line=1'>2</a>\u001b[0m soup \u001b[39m=\u001b[39m BeautifulSoup(r\u001b[39m.\u001b[39mtext, \u001b[39m'\u001b[39m\u001b[39mhtml.parser\u001b[39m\u001b[39m'\u001b[39m)\n",
      "\u001b[0;31mNameError\u001b[0m: name 'requests' is not defined"
     ]
    }
   ],
   "source": [
    "r = requests.get('https://dania.co/rbdgdX')\n",
    "soup = BeautifulSoup(r.text, 'html.parser')\n"
   ]
  },
  {
   "cell_type": "code",
   "execution_count": null,
   "id": "adcc0314",
   "metadata": {},
   "outputs": [],
   "source": []
  },
  {
   "cell_type": "code",
   "execution_count": null,
   "id": "d72cfd09",
   "metadata": {},
   "outputs": [],
   "source": []
  },
  {
   "cell_type": "code",
   "execution_count": null,
   "id": "41320030",
   "metadata": {},
   "outputs": [],
   "source": []
  },
  {
   "cell_type": "code",
   "execution_count": null,
   "id": "96182bb7",
   "metadata": {},
   "outputs": [],
   "source": []
  },
  {
   "cell_type": "code",
   "execution_count": null,
   "id": "8090b6be",
   "metadata": {},
   "outputs": [],
   "source": []
  },
  {
   "cell_type": "code",
   "execution_count": null,
   "id": "7f8d32b9",
   "metadata": {},
   "outputs": [],
   "source": [
    "len(links_products)"
   ]
  },
  {
   "cell_type": "code",
   "execution_count": null,
   "id": "3165d274",
   "metadata": {},
   "outputs": [],
   "source": []
  },
  {
   "cell_type": "markdown",
   "id": "e6608b45",
   "metadata": {},
   "source": [
    "# scrape images"
   ]
  },
  {
   "cell_type": "code",
   "execution_count": 5,
   "id": "aa518dea",
   "metadata": {},
   "outputs": [],
   "source": [
    "list_scrape1 = df['link_url'].to_list()"
   ]
  },
  {
   "cell_type": "code",
   "execution_count": 30,
   "id": "36774c43",
   "metadata": {},
   "outputs": [],
   "source": [
    "df.to_excel('toto.xlsx')"
   ]
  },
  {
   "cell_type": "code",
   "execution_count": null,
   "id": "2d16788f",
   "metadata": {},
   "outputs": [],
   "source": []
  },
  {
   "cell_type": "code",
   "execution_count": null,
   "id": "f320bf72",
   "metadata": {},
   "outputs": [],
   "source": []
  },
  {
   "cell_type": "code",
   "execution_count": 257,
   "id": "bbd8e61b",
   "metadata": {},
   "outputs": [],
   "source": [
    "df.to_excel('toto.xlsx')"
   ]
  },
  {
   "cell_type": "code",
   "execution_count": 233,
   "id": "aedab6a6",
   "metadata": {},
   "outputs": [
    {
     "data": {
      "text/html": [
       "<div>\n",
       "<style scoped>\n",
       "    .dataframe tbody tr th:only-of-type {\n",
       "        vertical-align: middle;\n",
       "    }\n",
       "\n",
       "    .dataframe tbody tr th {\n",
       "        vertical-align: top;\n",
       "    }\n",
       "\n",
       "    .dataframe thead th {\n",
       "        text-align: right;\n",
       "    }\n",
       "</style>\n",
       "<table border=\"1\" class=\"dataframe\">\n",
       "  <thead>\n",
       "    <tr style=\"text-align: right;\">\n",
       "      <th></th>\n",
       "      <th>sku</th>\n",
       "      <th>is_in_stock</th>\n",
       "      <th>name</th>\n",
       "      <th>price</th>\n",
       "      <th>special_price</th>\n",
       "      <th>short_description</th>\n",
       "      <th>free_colors</th>\n",
       "      <th>description</th>\n",
       "      <th>ts_dimensions_width</th>\n",
       "      <th>ts_dimensions_height</th>\n",
       "      <th>...</th>\n",
       "      <th>thumbnail_image</th>\n",
       "      <th>attribute_set_code</th>\n",
       "      <th>product_websites</th>\n",
       "      <th>out_of_stock_qty</th>\n",
       "      <th>qty</th>\n",
       "      <th>product_online</th>\n",
       "      <th>mgs_brand</th>\n",
       "      <th>estimated_delivery_text</th>\n",
       "      <th>supplier</th>\n",
       "      <th>categories</th>\n",
       "    </tr>\n",
       "  </thead>\n",
       "  <tbody>\n",
       "    <tr>\n",
       "      <th>4658</th>\n",
       "      <td>ROG-13651-01</td>\n",
       "      <td>1</td>\n",
       "      <td>DECOR ITEM</td>\n",
       "      <td>110.00</td>\n",
       "      <td>__EMPTY__VALUE__</td>\n",
       "      <td>Material-METAL - MDF - PVC\\nColor-WHITE\\nWeigh...</td>\n",
       "      <td>WHITE</td>\n",
       "      <td>Material-METAL - MDF - PVC\\nColor-WHITE\\nWeigh...</td>\n",
       "      <td>__EMPTY__VALUE__</td>\n",
       "      <td>__EMPTY__VALUE__</td>\n",
       "      <td>...</td>\n",
       "      <td>https://cdn.shopify.com/s/files/1/0773/5495/pr...</td>\n",
       "      <td>Default</td>\n",
       "      <td>base</td>\n",
       "      <td>-5</td>\n",
       "      <td>0</td>\n",
       "      <td>1</td>\n",
       "      <td>__EMPTY__VALUE__</td>\n",
       "      <td>__EMPTY__VALUE__</td>\n",
       "      <td>ROG</td>\n",
       "      <td></td>\n",
       "    </tr>\n",
       "    <tr>\n",
       "      <th>4659</th>\n",
       "      <td>ROG-A2000159</td>\n",
       "      <td>1</td>\n",
       "      <td>Photo Frame (Set of 2)</td>\n",
       "      <td>465.75</td>\n",
       "      <td>__EMPTY__VALUE__</td>\n",
       "      <td>Fond memories don’t have to fade. Capture them...</td>\n",
       "      <td>__EMPTY__VALUE__</td>\n",
       "      <td>Fond memories don’t have to fade. Capture them...</td>\n",
       "      <td>__EMPTY__VALUE__</td>\n",
       "      <td>__EMPTY__VALUE__</td>\n",
       "      <td>...</td>\n",
       "      <td>https://cdn.shopify.com/s/files/1/0773/5495/pr...</td>\n",
       "      <td>Default</td>\n",
       "      <td>base</td>\n",
       "      <td>-5</td>\n",
       "      <td>0</td>\n",
       "      <td>1</td>\n",
       "      <td>__EMPTY__VALUE__</td>\n",
       "      <td>__EMPTY__VALUE__</td>\n",
       "      <td>ROG</td>\n",
       "      <td></td>\n",
       "    </tr>\n",
       "    <tr>\n",
       "      <th>4660</th>\n",
       "      <td>ROG-A2080001</td>\n",
       "      <td>1</td>\n",
       "      <td>PHOTO FRAME</td>\n",
       "      <td>115.00</td>\n",
       "      <td>__EMPTY__VALUE__</td>\n",
       "      <td>Master Item Number-\\nA2080001\\nCarton Contains...</td>\n",
       "      <td>White/Purple</td>\n",
       "      <td>Master Item Number-\\nA2080001\\nCarton Contains...</td>\n",
       "      <td>__EMPTY__VALUE__</td>\n",
       "      <td>__EMPTY__VALUE__</td>\n",
       "      <td>...</td>\n",
       "      <td>https://cdn.shopify.com/s/files/1/0773/5495/pr...</td>\n",
       "      <td>Default</td>\n",
       "      <td>base</td>\n",
       "      <td>-5</td>\n",
       "      <td>0</td>\n",
       "      <td>1</td>\n",
       "      <td>__EMPTY__VALUE__</td>\n",
       "      <td>__EMPTY__VALUE__</td>\n",
       "      <td>ROG</td>\n",
       "      <td></td>\n",
       "    </tr>\n",
       "    <tr>\n",
       "      <th>4661</th>\n",
       "      <td>ROG-15682-02</td>\n",
       "      <td>1</td>\n",
       "      <td>5X5 RESIN ROUND SWIRLS PHOTO FRAME-BLACK</td>\n",
       "      <td>150.00</td>\n",
       "      <td>__EMPTY__VALUE__</td>\n",
       "      <td>12.7 W inch X12.7 H Inch</td>\n",
       "      <td>__EMPTY__VALUE__</td>\n",
       "      <td>12.7 W inch X12.7 H Inch</td>\n",
       "      <td>__EMPTY__VALUE__</td>\n",
       "      <td>__EMPTY__VALUE__</td>\n",
       "      <td>...</td>\n",
       "      <td>https://cdn.shopify.com/s/files/1/0773/5495/pr...</td>\n",
       "      <td>Default</td>\n",
       "      <td>base</td>\n",
       "      <td>-5</td>\n",
       "      <td>0</td>\n",
       "      <td>1</td>\n",
       "      <td>__EMPTY__VALUE__</td>\n",
       "      <td>__EMPTY__VALUE__</td>\n",
       "      <td>ROG</td>\n",
       "      <td></td>\n",
       "    </tr>\n",
       "    <tr>\n",
       "      <th>4662</th>\n",
       "      <td>ROG-A2080005</td>\n",
       "      <td>1</td>\n",
       "      <td>PHOTO FRAME (SET OF 2)</td>\n",
       "      <td>115.00</td>\n",
       "      <td>__EMPTY__VALUE__</td>\n",
       "      <td>A2080005</td>\n",
       "      <td>__EMPTY__VALUE__</td>\n",
       "      <td>A2080005</td>\n",
       "      <td>__EMPTY__VALUE__</td>\n",
       "      <td>__EMPTY__VALUE__</td>\n",
       "      <td>...</td>\n",
       "      <td>https://cdn.shopify.com/s/files/1/0773/5495/pr...</td>\n",
       "      <td>Default</td>\n",
       "      <td>base</td>\n",
       "      <td>-5</td>\n",
       "      <td>0</td>\n",
       "      <td>1</td>\n",
       "      <td>__EMPTY__VALUE__</td>\n",
       "      <td>__EMPTY__VALUE__</td>\n",
       "      <td>ROG</td>\n",
       "      <td></td>\n",
       "    </tr>\n",
       "    <tr>\n",
       "      <th>4663</th>\n",
       "      <td>ROG-18567-UTT</td>\n",
       "      <td>1</td>\n",
       "      <td>Daria Photo Frames-S-3</td>\n",
       "      <td>759.00</td>\n",
       "      <td>__EMPTY__VALUE__</td>\n",
       "      <td>Display those special photos in these sophisti...</td>\n",
       "      <td>__EMPTY__VALUE__</td>\n",
       "      <td>Display those special photos in these sophisti...</td>\n",
       "      <td>__EMPTY__VALUE__</td>\n",
       "      <td>__EMPTY__VALUE__</td>\n",
       "      <td>...</td>\n",
       "      <td>https://cdn.shopify.com/s/files/1/0773/5495/pr...</td>\n",
       "      <td>Default</td>\n",
       "      <td>base</td>\n",
       "      <td>-5</td>\n",
       "      <td>0</td>\n",
       "      <td>1</td>\n",
       "      <td>__EMPTY__VALUE__</td>\n",
       "      <td>__EMPTY__VALUE__</td>\n",
       "      <td>ROG</td>\n",
       "      <td></td>\n",
       "    </tr>\n",
       "    <tr>\n",
       "      <th>4664</th>\n",
       "      <td>ROG-18564-UTT</td>\n",
       "      <td>1</td>\n",
       "      <td>Ambrosia Photo Frames-S-3</td>\n",
       "      <td>816.50</td>\n",
       "      <td>__EMPTY__VALUE__</td>\n",
       "      <td>Frames feature o-idized copper sheeting. The o...</td>\n",
       "      <td>__EMPTY__VALUE__</td>\n",
       "      <td>Frames feature o-idized copper sheeting. The o...</td>\n",
       "      <td>__EMPTY__VALUE__</td>\n",
       "      <td>__EMPTY__VALUE__</td>\n",
       "      <td>...</td>\n",
       "      <td>https://cdn.shopify.com/s/files/1/0773/5495/pr...</td>\n",
       "      <td>Default</td>\n",
       "      <td>base</td>\n",
       "      <td>-5</td>\n",
       "      <td>0</td>\n",
       "      <td>1</td>\n",
       "      <td>__EMPTY__VALUE__</td>\n",
       "      <td>__EMPTY__VALUE__</td>\n",
       "      <td>ROG</td>\n",
       "      <td></td>\n",
       "    </tr>\n",
       "    <tr>\n",
       "      <th>4665</th>\n",
       "      <td>ROG-14969-02</td>\n",
       "      <td>1</td>\n",
       "      <td>POLYRESIN 5X7- STARFISH PHOTO FRAME-SILVER</td>\n",
       "      <td>170.00</td>\n",
       "      <td>__EMPTY__VALUE__</td>\n",
       "      <td>COLOR-SILVER\\nMATERIAL1-POLYRESIN\\nTREND-COAST...</td>\n",
       "      <td>SILVER</td>\n",
       "      <td>COLOR-SILVER\\nMATERIAL1-POLYRESIN\\nTREND-COAST...</td>\n",
       "      <td>__EMPTY__VALUE__</td>\n",
       "      <td>__EMPTY__VALUE__</td>\n",
       "      <td>...</td>\n",
       "      <td>https://cdn.shopify.com/s/files/1/0773/5495/pr...</td>\n",
       "      <td>Default</td>\n",
       "      <td>base</td>\n",
       "      <td>-5</td>\n",
       "      <td>0</td>\n",
       "      <td>1</td>\n",
       "      <td>__EMPTY__VALUE__</td>\n",
       "      <td>__EMPTY__VALUE__</td>\n",
       "      <td>ROG</td>\n",
       "      <td></td>\n",
       "    </tr>\n",
       "    <tr>\n",
       "      <th>4666</th>\n",
       "      <td>ROG-13651-02</td>\n",
       "      <td>1</td>\n",
       "      <td>WHITE MARBLE-GOLD PHOTO FRAME17-</td>\n",
       "      <td>109.25</td>\n",
       "      <td>__EMPTY__VALUE__</td>\n",
       "      <td>Material-METAL - MDF - PVC\\nColor-WHITE\\nWeigh...</td>\n",
       "      <td>WHITE</td>\n",
       "      <td>Material-METAL - MDF - PVC\\nColor-WHITE\\nWeigh...</td>\n",
       "      <td>__EMPTY__VALUE__</td>\n",
       "      <td>__EMPTY__VALUE__</td>\n",
       "      <td>...</td>\n",
       "      <td>https://cdn.shopify.com/s/files/1/0773/5495/pr...</td>\n",
       "      <td>Default</td>\n",
       "      <td>base</td>\n",
       "      <td>-5</td>\n",
       "      <td>0</td>\n",
       "      <td>1</td>\n",
       "      <td>__EMPTY__VALUE__</td>\n",
       "      <td>__EMPTY__VALUE__</td>\n",
       "      <td>ROG</td>\n",
       "      <td></td>\n",
       "    </tr>\n",
       "    <tr>\n",
       "      <th>4667</th>\n",
       "      <td>ROG-A2000193</td>\n",
       "      <td>1</td>\n",
       "      <td>PHOTO FRAME</td>\n",
       "      <td>230.00</td>\n",
       "      <td>__EMPTY__VALUE__</td>\n",
       "      <td>A2000193</td>\n",
       "      <td>__EMPTY__VALUE__</td>\n",
       "      <td>A2000193</td>\n",
       "      <td>__EMPTY__VALUE__</td>\n",
       "      <td>__EMPTY__VALUE__</td>\n",
       "      <td>...</td>\n",
       "      <td>https://cdn.shopify.com/s/files/1/0773/5495/pr...</td>\n",
       "      <td>Default</td>\n",
       "      <td>base</td>\n",
       "      <td>-5</td>\n",
       "      <td>0</td>\n",
       "      <td>1</td>\n",
       "      <td>__EMPTY__VALUE__</td>\n",
       "      <td>__EMPTY__VALUE__</td>\n",
       "      <td>ROG</td>\n",
       "      <td></td>\n",
       "    </tr>\n",
       "    <tr>\n",
       "      <th>4668</th>\n",
       "      <td>ROG-A2000150</td>\n",
       "      <td>1</td>\n",
       "      <td>Photo Frame</td>\n",
       "      <td>172.50</td>\n",
       "      <td>__EMPTY__VALUE__</td>\n",
       "      <td>Master Item Number-\\nA2000150\\nCarton Contains...</td>\n",
       "      <td>Orange</td>\n",
       "      <td>Master Item Number-\\nA2000150\\nCarton Contains...</td>\n",
       "      <td>629.031</td>\n",
       "      <td>806.45</td>\n",
       "      <td>...</td>\n",
       "      <td>https://cdn.shopify.com/s/files/1/0773/5495/pr...</td>\n",
       "      <td>Default</td>\n",
       "      <td>base</td>\n",
       "      <td>-5</td>\n",
       "      <td>0</td>\n",
       "      <td>1</td>\n",
       "      <td>__EMPTY__VALUE__</td>\n",
       "      <td>__EMPTY__VALUE__</td>\n",
       "      <td>ROG</td>\n",
       "      <td></td>\n",
       "    </tr>\n",
       "    <tr>\n",
       "      <th>4669</th>\n",
       "      <td>ROG-A2000148</td>\n",
       "      <td>1</td>\n",
       "      <td>Photo Frame</td>\n",
       "      <td>172.50</td>\n",
       "      <td>__EMPTY__VALUE__</td>\n",
       "      <td>Master Item Number-\\nA2000148\\nCarton Contains...</td>\n",
       "      <td>Teal</td>\n",
       "      <td>Master Item Number-\\nA2000148\\nCarton Contains...</td>\n",
       "      <td>645.16</td>\n",
       "      <td>419.354</td>\n",
       "      <td>...</td>\n",
       "      <td>https://cdn.shopify.com/s/files/1/0773/5495/pr...</td>\n",
       "      <td>Default</td>\n",
       "      <td>base</td>\n",
       "      <td>-5</td>\n",
       "      <td>0</td>\n",
       "      <td>1</td>\n",
       "      <td>__EMPTY__VALUE__</td>\n",
       "      <td>__EMPTY__VALUE__</td>\n",
       "      <td>ROG</td>\n",
       "      <td></td>\n",
       "    </tr>\n",
       "  </tbody>\n",
       "</table>\n",
       "<p>12 rows × 38 columns</p>\n",
       "</div>"
      ],
      "text/plain": [
       "                sku  is_in_stock                                        name  \\\n",
       "4658   ROG-13651-01            1                                  DECOR ITEM   \n",
       "4659   ROG-A2000159            1                      Photo Frame (Set of 2)   \n",
       "4660   ROG-A2080001            1                                 PHOTO FRAME   \n",
       "4661   ROG-15682-02            1    5X5 RESIN ROUND SWIRLS PHOTO FRAME-BLACK   \n",
       "4662   ROG-A2080005            1                      PHOTO FRAME (SET OF 2)   \n",
       "4663  ROG-18567-UTT            1                      Daria Photo Frames-S-3   \n",
       "4664  ROG-18564-UTT            1                   Ambrosia Photo Frames-S-3   \n",
       "4665   ROG-14969-02            1  POLYRESIN 5X7- STARFISH PHOTO FRAME-SILVER   \n",
       "4666   ROG-13651-02            1            WHITE MARBLE-GOLD PHOTO FRAME17-   \n",
       "4667   ROG-A2000193            1                                 PHOTO FRAME   \n",
       "4668   ROG-A2000150            1                                 Photo Frame   \n",
       "4669   ROG-A2000148            1                                 Photo Frame   \n",
       "\n",
       "       price     special_price  \\\n",
       "4658  110.00  __EMPTY__VALUE__   \n",
       "4659  465.75  __EMPTY__VALUE__   \n",
       "4660  115.00  __EMPTY__VALUE__   \n",
       "4661  150.00  __EMPTY__VALUE__   \n",
       "4662  115.00  __EMPTY__VALUE__   \n",
       "4663  759.00  __EMPTY__VALUE__   \n",
       "4664  816.50  __EMPTY__VALUE__   \n",
       "4665  170.00  __EMPTY__VALUE__   \n",
       "4666  109.25  __EMPTY__VALUE__   \n",
       "4667  230.00  __EMPTY__VALUE__   \n",
       "4668  172.50  __EMPTY__VALUE__   \n",
       "4669  172.50  __EMPTY__VALUE__   \n",
       "\n",
       "                                      short_description       free_colors  \\\n",
       "4658  Material-METAL - MDF - PVC\\nColor-WHITE\\nWeigh...             WHITE   \n",
       "4659  Fond memories don’t have to fade. Capture them...  __EMPTY__VALUE__   \n",
       "4660  Master Item Number-\\nA2080001\\nCarton Contains...      White/Purple   \n",
       "4661                           12.7 W inch X12.7 H Inch  __EMPTY__VALUE__   \n",
       "4662                                           A2080005  __EMPTY__VALUE__   \n",
       "4663  Display those special photos in these sophisti...  __EMPTY__VALUE__   \n",
       "4664  Frames feature o-idized copper sheeting. The o...  __EMPTY__VALUE__   \n",
       "4665  COLOR-SILVER\\nMATERIAL1-POLYRESIN\\nTREND-COAST...            SILVER   \n",
       "4666  Material-METAL - MDF - PVC\\nColor-WHITE\\nWeigh...             WHITE   \n",
       "4667                                           A2000193  __EMPTY__VALUE__   \n",
       "4668  Master Item Number-\\nA2000150\\nCarton Contains...            Orange   \n",
       "4669  Master Item Number-\\nA2000148\\nCarton Contains...              Teal   \n",
       "\n",
       "                                            description ts_dimensions_width  \\\n",
       "4658  Material-METAL - MDF - PVC\\nColor-WHITE\\nWeigh...    __EMPTY__VALUE__   \n",
       "4659  Fond memories don’t have to fade. Capture them...    __EMPTY__VALUE__   \n",
       "4660  Master Item Number-\\nA2080001\\nCarton Contains...    __EMPTY__VALUE__   \n",
       "4661                           12.7 W inch X12.7 H Inch    __EMPTY__VALUE__   \n",
       "4662                                           A2080005    __EMPTY__VALUE__   \n",
       "4663  Display those special photos in these sophisti...    __EMPTY__VALUE__   \n",
       "4664  Frames feature o-idized copper sheeting. The o...    __EMPTY__VALUE__   \n",
       "4665  COLOR-SILVER\\nMATERIAL1-POLYRESIN\\nTREND-COAST...    __EMPTY__VALUE__   \n",
       "4666  Material-METAL - MDF - PVC\\nColor-WHITE\\nWeigh...    __EMPTY__VALUE__   \n",
       "4667                                           A2000193    __EMPTY__VALUE__   \n",
       "4668  Master Item Number-\\nA2000150\\nCarton Contains...             629.031   \n",
       "4669  Master Item Number-\\nA2000148\\nCarton Contains...              645.16   \n",
       "\n",
       "     ts_dimensions_height  ...  \\\n",
       "4658     __EMPTY__VALUE__  ...   \n",
       "4659     __EMPTY__VALUE__  ...   \n",
       "4660     __EMPTY__VALUE__  ...   \n",
       "4661     __EMPTY__VALUE__  ...   \n",
       "4662     __EMPTY__VALUE__  ...   \n",
       "4663     __EMPTY__VALUE__  ...   \n",
       "4664     __EMPTY__VALUE__  ...   \n",
       "4665     __EMPTY__VALUE__  ...   \n",
       "4666     __EMPTY__VALUE__  ...   \n",
       "4667     __EMPTY__VALUE__  ...   \n",
       "4668               806.45  ...   \n",
       "4669              419.354  ...   \n",
       "\n",
       "                                        thumbnail_image attribute_set_code  \\\n",
       "4658  https://cdn.shopify.com/s/files/1/0773/5495/pr...            Default   \n",
       "4659  https://cdn.shopify.com/s/files/1/0773/5495/pr...            Default   \n",
       "4660  https://cdn.shopify.com/s/files/1/0773/5495/pr...            Default   \n",
       "4661  https://cdn.shopify.com/s/files/1/0773/5495/pr...            Default   \n",
       "4662  https://cdn.shopify.com/s/files/1/0773/5495/pr...            Default   \n",
       "4663  https://cdn.shopify.com/s/files/1/0773/5495/pr...            Default   \n",
       "4664  https://cdn.shopify.com/s/files/1/0773/5495/pr...            Default   \n",
       "4665  https://cdn.shopify.com/s/files/1/0773/5495/pr...            Default   \n",
       "4666  https://cdn.shopify.com/s/files/1/0773/5495/pr...            Default   \n",
       "4667  https://cdn.shopify.com/s/files/1/0773/5495/pr...            Default   \n",
       "4668  https://cdn.shopify.com/s/files/1/0773/5495/pr...            Default   \n",
       "4669  https://cdn.shopify.com/s/files/1/0773/5495/pr...            Default   \n",
       "\n",
       "     product_websites out_of_stock_qty qty product_online         mgs_brand  \\\n",
       "4658             base               -5   0              1  __EMPTY__VALUE__   \n",
       "4659             base               -5   0              1  __EMPTY__VALUE__   \n",
       "4660             base               -5   0              1  __EMPTY__VALUE__   \n",
       "4661             base               -5   0              1  __EMPTY__VALUE__   \n",
       "4662             base               -5   0              1  __EMPTY__VALUE__   \n",
       "4663             base               -5   0              1  __EMPTY__VALUE__   \n",
       "4664             base               -5   0              1  __EMPTY__VALUE__   \n",
       "4665             base               -5   0              1  __EMPTY__VALUE__   \n",
       "4666             base               -5   0              1  __EMPTY__VALUE__   \n",
       "4667             base               -5   0              1  __EMPTY__VALUE__   \n",
       "4668             base               -5   0              1  __EMPTY__VALUE__   \n",
       "4669             base               -5   0              1  __EMPTY__VALUE__   \n",
       "\n",
       "     estimated_delivery_text supplier categories  \n",
       "4658        __EMPTY__VALUE__      ROG             \n",
       "4659        __EMPTY__VALUE__      ROG             \n",
       "4660        __EMPTY__VALUE__      ROG             \n",
       "4661        __EMPTY__VALUE__      ROG             \n",
       "4662        __EMPTY__VALUE__      ROG             \n",
       "4663        __EMPTY__VALUE__      ROG             \n",
       "4664        __EMPTY__VALUE__      ROG             \n",
       "4665        __EMPTY__VALUE__      ROG             \n",
       "4666        __EMPTY__VALUE__      ROG             \n",
       "4667        __EMPTY__VALUE__      ROG             \n",
       "4668        __EMPTY__VALUE__      ROG             \n",
       "4669        __EMPTY__VALUE__      ROG             \n",
       "\n",
       "[12 rows x 38 columns]"
      ]
     },
     "execution_count": 233,
     "metadata": {},
     "output_type": "execute_result"
    }
   ],
   "source": [
    "df.loc[df['categories2'] == 'إطارات الصور']"
   ]
  },
  {
   "cell_type": "code",
   "execution_count": null,
   "id": "42521dc4",
   "metadata": {},
   "outputs": [],
   "source": []
  },
  {
   "cell_type": "code",
   "execution_count": 154,
   "id": "e5ff4bde",
   "metadata": {},
   "outputs": [
    {
     "name": "stdout",
     "output_type": "stream",
     "text": [
      "https://cdn.shopify.com/s/files/1/0773/5495/products/70021AR_400x.jpg\n",
      "len list images 1\n",
      "\n",
      "\n"
     ]
    }
   ],
   "source": [
    "driver.get('https://www.alrugaibfurniture.com/ar/collections/paintings-pictures/products/painting-70021')\n",
    "list_images = []\n",
    "time.sleep(0.5)\n",
    "images_click = driver.find_elements_by_class_name('product-gallery__thumbnail')\n",
    "\n",
    "\n",
    "for ele in images_click:\n",
    "    #ele.click()\n",
    "    driver.execute_script(\"arguments[0].click();\", ele)\n",
    "    time.sleep(0.5)\n",
    "images = driver.find_elements_by_class_name('product-gallery__image')\n",
    "len(images)\n",
    "for img in images:\n",
    "    #list_images.append('https:'+img.get_attribute('data-srcset').split(' ')[0])\n",
    "#     print(':', img.get_attribute('srcset').split(', ')[0].split('?')[0])\n",
    "    time.sleep(1)\n",
    "    try:\n",
    "        t = 'https:'+img.get_attribute('data-srcset').split(', ')[0].split('?')[0]\n",
    "    except:\n",
    "        continue\n",
    "#     print(img.get_attribute('data-srcset'))\n",
    "#     soup = BeautifulSoup(img.get_attribute('innerHTML'), 'html.parser')\n",
    "#     print('toto',soup)\n",
    "    print(t)\n",
    "    list_images.append(t)\n",
    "print('len list images',len(list_images))\n",
    "try:\n",
    "    timage = ','.join(list_images[1:])\n",
    "#         list_input_images2.append(timage)\n",
    "    print(timage)\n",
    "except:\n",
    "    timage = ''\n",
    "print(timage)\n",
    "\n",
    "toto_images.append([list_images[0], timage],)"
   ]
  },
  {
   "cell_type": "code",
   "execution_count": 7,
   "id": "dc83961b",
   "metadata": {},
   "outputs": [],
   "source": [
    "list_scrape1 = df['link_url'].to_list()"
   ]
  },
  {
   "cell_type": "code",
   "execution_count": 8,
   "id": "4dcdee0e",
   "metadata": {},
   "outputs": [
    {
     "data": {
      "text/plain": [
       "10459"
      ]
     },
     "execution_count": 8,
     "metadata": {},
     "output_type": "execute_result"
    }
   ],
   "source": [
    "len(list_scrape1)"
   ]
  },
  {
   "cell_type": "code",
   "execution_count": null,
   "id": "3e468cb9",
   "metadata": {},
   "outputs": [],
   "source": []
  },
  {
   "cell_type": "code",
   "execution_count": null,
   "id": "cc843858",
   "metadata": {},
   "outputs": [],
   "source": []
  },
  {
   "cell_type": "code",
   "execution_count": null,
   "id": "eac65045",
   "metadata": {},
   "outputs": [],
   "source": []
  },
  {
   "cell_type": "code",
   "execution_count": null,
   "id": "a353100e",
   "metadata": {},
   "outputs": [],
   "source": []
  },
  {
   "cell_type": "code",
   "execution_count": 64,
   "id": "3a22a88f",
   "metadata": {},
   "outputs": [
    {
     "name": "stdout",
     "output_type": "stream",
     "text": [
      "https://cdn.shopify.com/s/files/1/0773/5495/products/20242_400x.jpg\n",
      "len list images 1\n",
      "https://cdn.shopify.com/s/files/1/0773/5495/products/20242_400x.jpg\n"
     ]
    }
   ],
   "source": [
    "list_images = []\n",
    "time.sleep(2)\n",
    "images_click = driver.find_elements_by_class_name('product-gallery__thumbnail')\n",
    "\n",
    "\n",
    "for ele in images_click:\n",
    "    #ele.click()\n",
    "    driver.execute_script(\"arguments[0].click();\", ele)\n",
    "    time.sleep(1)\n",
    "images = driver.find_elements_by_class_name('product-gallery__image')\n",
    "len(images)\n",
    "for img in images:\n",
    "    #list_images.append('https:'+img.get_attribute('data-srcset').split(' ')[0])\n",
    "#     print(':', img.get_attribute('srcset').split(', ')[0].split('?')[0])\n",
    "    time.sleep(1)\n",
    "    try:\n",
    "        t = 'https:'+img.get_attribute('data-srcset').split(', ')[0].split('?')[0]\n",
    "    except:\n",
    "        continue\n",
    "#     print(img.get_attribute('data-srcset'))\n",
    "#     soup = BeautifulSoup(img.get_attribute('innerHTML'), 'html.parser')\n",
    "#     print('toto',soup)\n",
    "    print(t)\n",
    "    list_images.append(t)\n",
    "print('len list images',len(list_images))\n",
    "print(list_images[0])"
   ]
  },
  {
   "cell_type": "code",
   "execution_count": 61,
   "id": "374b5546",
   "metadata": {},
   "outputs": [],
   "source": [
    "df.to_excel('update1_rugaib.xlsx')"
   ]
  },
  {
   "cell_type": "code",
   "execution_count": 58,
   "id": "2369c20a",
   "metadata": {},
   "outputs": [
    {
     "ename": "NoSuchElementException",
     "evalue": "Message: Unable to locate element: .expandable-content\n",
     "output_type": "error",
     "traceback": [
      "\u001b[0;31m---------------------------------------------------------------------------\u001b[0m",
      "\u001b[0;31mNoSuchElementException\u001b[0m                    Traceback (most recent call last)",
      "\u001b[0;32m<ipython-input-58-4ae6c8ec7ab5>\u001b[0m in \u001b[0;36m<module>\u001b[0;34m\u001b[0m\n\u001b[0;32m----> 1\u001b[0;31m \u001b[0mtoto_des\u001b[0m \u001b[0;34m=\u001b[0m \u001b[0mdriver\u001b[0m\u001b[0;34m.\u001b[0m\u001b[0mfind_element_by_class_name\u001b[0m\u001b[0;34m(\u001b[0m\u001b[0;34m'expandable-content'\u001b[0m\u001b[0;34m)\u001b[0m\u001b[0;34m.\u001b[0m\u001b[0mtext\u001b[0m\u001b[0;34m.\u001b[0m\u001b[0msplit\u001b[0m\u001b[0;34m(\u001b[0m\u001b[0;34m'\\n'\u001b[0m\u001b[0;34m)\u001b[0m\u001b[0;34m\u001b[0m\u001b[0;34m\u001b[0m\u001b[0m\n\u001b[0m",
      "\u001b[0;32m~/anaconda3/lib/python3.8/site-packages/selenium/webdriver/remote/webdriver.py\u001b[0m in \u001b[0;36mfind_element_by_class_name\u001b[0;34m(self, name)\u001b[0m\n\u001b[1;32m    562\u001b[0m             \u001b[0melement\u001b[0m \u001b[0;34m=\u001b[0m \u001b[0mdriver\u001b[0m\u001b[0;34m.\u001b[0m\u001b[0mfind_element_by_class_name\u001b[0m\u001b[0;34m(\u001b[0m\u001b[0;34m'foo'\u001b[0m\u001b[0;34m)\u001b[0m\u001b[0;34m\u001b[0m\u001b[0;34m\u001b[0m\u001b[0m\n\u001b[1;32m    563\u001b[0m         \"\"\"\n\u001b[0;32m--> 564\u001b[0;31m         \u001b[0;32mreturn\u001b[0m \u001b[0mself\u001b[0m\u001b[0;34m.\u001b[0m\u001b[0mfind_element\u001b[0m\u001b[0;34m(\u001b[0m\u001b[0mby\u001b[0m\u001b[0;34m=\u001b[0m\u001b[0mBy\u001b[0m\u001b[0;34m.\u001b[0m\u001b[0mCLASS_NAME\u001b[0m\u001b[0;34m,\u001b[0m \u001b[0mvalue\u001b[0m\u001b[0;34m=\u001b[0m\u001b[0mname\u001b[0m\u001b[0;34m)\u001b[0m\u001b[0;34m\u001b[0m\u001b[0;34m\u001b[0m\u001b[0m\n\u001b[0m\u001b[1;32m    565\u001b[0m \u001b[0;34m\u001b[0m\u001b[0m\n\u001b[1;32m    566\u001b[0m     \u001b[0;32mdef\u001b[0m \u001b[0mfind_elements_by_class_name\u001b[0m\u001b[0;34m(\u001b[0m\u001b[0mself\u001b[0m\u001b[0;34m,\u001b[0m \u001b[0mname\u001b[0m\u001b[0;34m)\u001b[0m\u001b[0;34m:\u001b[0m\u001b[0;34m\u001b[0m\u001b[0;34m\u001b[0m\u001b[0m\n",
      "\u001b[0;32m~/anaconda3/lib/python3.8/site-packages/selenium/webdriver/remote/webdriver.py\u001b[0m in \u001b[0;36mfind_element\u001b[0;34m(self, by, value)\u001b[0m\n\u001b[1;32m    974\u001b[0m                 \u001b[0mby\u001b[0m \u001b[0;34m=\u001b[0m \u001b[0mBy\u001b[0m\u001b[0;34m.\u001b[0m\u001b[0mCSS_SELECTOR\u001b[0m\u001b[0;34m\u001b[0m\u001b[0;34m\u001b[0m\u001b[0m\n\u001b[1;32m    975\u001b[0m                 \u001b[0mvalue\u001b[0m \u001b[0;34m=\u001b[0m \u001b[0;34m'[name=\"%s\"]'\u001b[0m \u001b[0;34m%\u001b[0m \u001b[0mvalue\u001b[0m\u001b[0;34m\u001b[0m\u001b[0;34m\u001b[0m\u001b[0m\n\u001b[0;32m--> 976\u001b[0;31m         return self.execute(Command.FIND_ELEMENT, {\n\u001b[0m\u001b[1;32m    977\u001b[0m             \u001b[0;34m'using'\u001b[0m\u001b[0;34m:\u001b[0m \u001b[0mby\u001b[0m\u001b[0;34m,\u001b[0m\u001b[0;34m\u001b[0m\u001b[0;34m\u001b[0m\u001b[0m\n\u001b[1;32m    978\u001b[0m             'value': value})['value']\n",
      "\u001b[0;32m~/anaconda3/lib/python3.8/site-packages/selenium/webdriver/remote/webdriver.py\u001b[0m in \u001b[0;36mexecute\u001b[0;34m(self, driver_command, params)\u001b[0m\n\u001b[1;32m    319\u001b[0m         \u001b[0mresponse\u001b[0m \u001b[0;34m=\u001b[0m \u001b[0mself\u001b[0m\u001b[0;34m.\u001b[0m\u001b[0mcommand_executor\u001b[0m\u001b[0;34m.\u001b[0m\u001b[0mexecute\u001b[0m\u001b[0;34m(\u001b[0m\u001b[0mdriver_command\u001b[0m\u001b[0;34m,\u001b[0m \u001b[0mparams\u001b[0m\u001b[0;34m)\u001b[0m\u001b[0;34m\u001b[0m\u001b[0;34m\u001b[0m\u001b[0m\n\u001b[1;32m    320\u001b[0m         \u001b[0;32mif\u001b[0m \u001b[0mresponse\u001b[0m\u001b[0;34m:\u001b[0m\u001b[0;34m\u001b[0m\u001b[0;34m\u001b[0m\u001b[0m\n\u001b[0;32m--> 321\u001b[0;31m             \u001b[0mself\u001b[0m\u001b[0;34m.\u001b[0m\u001b[0merror_handler\u001b[0m\u001b[0;34m.\u001b[0m\u001b[0mcheck_response\u001b[0m\u001b[0;34m(\u001b[0m\u001b[0mresponse\u001b[0m\u001b[0;34m)\u001b[0m\u001b[0;34m\u001b[0m\u001b[0;34m\u001b[0m\u001b[0m\n\u001b[0m\u001b[1;32m    322\u001b[0m             response['value'] = self._unwrap_value(\n\u001b[1;32m    323\u001b[0m                 response.get('value', None))\n",
      "\u001b[0;32m~/anaconda3/lib/python3.8/site-packages/selenium/webdriver/remote/errorhandler.py\u001b[0m in \u001b[0;36mcheck_response\u001b[0;34m(self, response)\u001b[0m\n\u001b[1;32m    240\u001b[0m                 \u001b[0malert_text\u001b[0m \u001b[0;34m=\u001b[0m \u001b[0mvalue\u001b[0m\u001b[0;34m[\u001b[0m\u001b[0;34m'alert'\u001b[0m\u001b[0;34m]\u001b[0m\u001b[0;34m.\u001b[0m\u001b[0mget\u001b[0m\u001b[0;34m(\u001b[0m\u001b[0;34m'text'\u001b[0m\u001b[0;34m)\u001b[0m\u001b[0;34m\u001b[0m\u001b[0;34m\u001b[0m\u001b[0m\n\u001b[1;32m    241\u001b[0m             \u001b[0;32mraise\u001b[0m \u001b[0mexception_class\u001b[0m\u001b[0;34m(\u001b[0m\u001b[0mmessage\u001b[0m\u001b[0;34m,\u001b[0m \u001b[0mscreen\u001b[0m\u001b[0;34m,\u001b[0m \u001b[0mstacktrace\u001b[0m\u001b[0;34m,\u001b[0m \u001b[0malert_text\u001b[0m\u001b[0;34m)\u001b[0m\u001b[0;34m\u001b[0m\u001b[0;34m\u001b[0m\u001b[0m\n\u001b[0;32m--> 242\u001b[0;31m         \u001b[0;32mraise\u001b[0m \u001b[0mexception_class\u001b[0m\u001b[0;34m(\u001b[0m\u001b[0mmessage\u001b[0m\u001b[0;34m,\u001b[0m \u001b[0mscreen\u001b[0m\u001b[0;34m,\u001b[0m \u001b[0mstacktrace\u001b[0m\u001b[0;34m)\u001b[0m\u001b[0;34m\u001b[0m\u001b[0;34m\u001b[0m\u001b[0m\n\u001b[0m\u001b[1;32m    243\u001b[0m \u001b[0;34m\u001b[0m\u001b[0m\n\u001b[1;32m    244\u001b[0m     \u001b[0;32mdef\u001b[0m \u001b[0m_value_or_default\u001b[0m\u001b[0;34m(\u001b[0m\u001b[0mself\u001b[0m\u001b[0;34m,\u001b[0m \u001b[0mobj\u001b[0m\u001b[0;34m,\u001b[0m \u001b[0mkey\u001b[0m\u001b[0;34m,\u001b[0m \u001b[0mdefault\u001b[0m\u001b[0;34m)\u001b[0m\u001b[0;34m:\u001b[0m\u001b[0;34m\u001b[0m\u001b[0;34m\u001b[0m\u001b[0m\n",
      "\u001b[0;31mNoSuchElementException\u001b[0m: Message: Unable to locate element: .expandable-content\n"
     ]
    }
   ],
   "source": [
    "toto_des = driver.find_element_by_class_name('expandable-content').text.split('\\n')"
   ]
  },
  {
   "cell_type": "code",
   "execution_count": null,
   "id": "53a97f1e",
   "metadata": {},
   "outputs": [],
   "source": []
  },
  {
   "cell_type": "code",
   "execution_count": null,
   "id": "800d2ed3",
   "metadata": {},
   "outputs": [],
   "source": []
  },
  {
   "cell_type": "code",
   "execution_count": null,
   "id": "23372af2",
   "metadata": {},
   "outputs": [],
   "source": []
  },
  {
   "cell_type": "code",
   "execution_count": 50,
   "id": "ee125233",
   "metadata": {},
   "outputs": [],
   "source": [
    "driver.get('https://www.alrugaibfurniture.com/ar/collections/rugs/products/fusion-rug-blue-multi-colored')"
   ]
  },
  {
   "cell_type": "code",
   "execution_count": 51,
   "id": "5a71234a",
   "metadata": {},
   "outputs": [
    {
     "data": {
      "text/plain": [
       "3"
      ]
     },
     "execution_count": 51,
     "metadata": {},
     "output_type": "execute_result"
    }
   ],
   "source": [
    "list_products_other = driver.find_elements_by_class_name('block-swatch__item-text')\n",
    "len(list_products_other)"
   ]
  },
  {
   "cell_type": "code",
   "execution_count": 52,
   "id": "1933edf4",
   "metadata": {},
   "outputs": [],
   "source": [
    "list_products_other[0].click()"
   ]
  },
  {
   "cell_type": "code",
   "execution_count": 114,
   "id": "2d9bba02",
   "metadata": {},
   "outputs": [],
   "source": [
    "list_des_cat1 = []"
   ]
  },
  {
   "cell_type": "code",
   "execution_count": 93,
   "id": "770e17a7",
   "metadata": {},
   "outputs": [
    {
     "data": {
      "text/plain": [
       "Index(['Unnamed: 0', 'liste', 'cat1', 'cat2', 'cat3'], dtype='object')"
      ]
     },
     "execution_count": 93,
     "metadata": {},
     "output_type": "execute_result"
    }
   ],
   "source": [
    "link_cat = pd.read_excel('link_all_product_cats-08-07-2021-21-18-36.xlsx')\n",
    "link_cat.columns"
   ]
  },
  {
   "cell_type": "code",
   "execution_count": 115,
   "id": "1f2cea67",
   "metadata": {},
   "outputs": [],
   "source": [
    "for index, row in link_cat.iterrows():\n",
    "    list_des_cat1.append([row['liste'], row['cat1'], row['cat2'], row['cat3'] ], )\n"
   ]
  },
  {
   "cell_type": "code",
   "execution_count": 121,
   "id": "e9367e21",
   "metadata": {},
   "outputs": [],
   "source": [
    "all_products = pd.read_excel('Rugaib_update_08_07_2021_v1.xlsx')"
   ]
  },
  {
   "cell_type": "code",
   "execution_count": 123,
   "id": "68270f8a",
   "metadata": {},
   "outputs": [
    {
     "data": {
      "text/plain": [
       "Index(['Unnamed: 0', 'sku', 'is_in_stock', 'name', 'price', 'special_price',\n",
       "       'short_description', 'free_colors', 'description', 'Width', 'Height',\n",
       "       'Length', 'mgs_brand', 'base_image', 'url_key', 'visibility',\n",
       "       'tax_class_name', 'manufacturer', 'news_from_date', 'news_to_date',\n",
       "       'additional_images ', 'link_url', 'categories1', 'categories2',\n",
       "       'categories3', 'Unnamed: 0.1', 'raw_materials', 'small_image',\n",
       "       'swatch_image', 'thumbnail_image', 'attribute_set_code',\n",
       "       'product_websites', 'allow_backorders', 'estimated_delivery_enable'],\n",
       "      dtype='object')"
      ]
     },
     "execution_count": 123,
     "metadata": {},
     "output_type": "execute_result"
    }
   ],
   "source": [
    "all_products.columns"
   ]
  },
  {
   "cell_type": "code",
   "execution_count": 147,
   "id": "76f85db5",
   "metadata": {},
   "outputs": [],
   "source": [
    "all_toto[['url1', 'url2', 'url3', 'url4', 'url5', 'url6', 'url7', 'url8']] =  all_toto['link_url'].str.split('/', expand=True)"
   ]
  },
  {
   "cell_type": "code",
   "execution_count": 148,
   "id": "e386110f",
   "metadata": {},
   "outputs": [],
   "source": [
    "all_toto[['url', 'toto']] = all_toto['url8'].str.split('?', expand=True)"
   ]
  },
  {
   "cell_type": "code",
   "execution_count": 151,
   "id": "b90b9e7f",
   "metadata": {},
   "outputs": [
    {
     "data": {
      "text/plain": [
       "0       الخزائن الجانبية\n",
       "1          طاولات الطعام\n",
       "2           كراسي الطعام\n",
       "3            طاولات مكتب\n",
       "4          خزائن وصناديق\n",
       "              ...       \n",
       "2168             المرايا\n",
       "2169          سرير اطفال\n",
       "2170       طاولات الخدمة\n",
       "2171      ديكورات الحائط\n",
       "2172           كنب طاولة\n",
       "Name: categories3, Length: 2173, dtype: object"
      ]
     },
     "execution_count": 151,
     "metadata": {},
     "output_type": "execute_result"
    }
   ],
   "source": [
    "all_toto['categories3']"
   ]
  },
  {
   "cell_type": "code",
   "execution_count": 150,
   "id": "8ea0b3be",
   "metadata": {},
   "outputs": [],
   "source": [
    "for cat in list_des_cat1:\n",
    "    #print(cat[1], 'toto', cat[0])\n",
    "    all_toto.loc[all_products['url'] == cat[0] , 'categories3'] = cat[3]"
   ]
  },
  {
   "cell_type": "code",
   "execution_count": 140,
   "id": "d67a793b",
   "metadata": {},
   "outputs": [],
   "source": [
    "for cat in list_des_cat1:\n",
    "    #print(cat[1], 'toto', cat[0])\n",
    "    all_products.loc[all_products['url'] == cat[0] , 'categories1'] = cat[1]"
   ]
  },
  {
   "cell_type": "code",
   "execution_count": 142,
   "id": "1e0754e6",
   "metadata": {},
   "outputs": [],
   "source": [
    "for cat in list_des_cat1:\n",
    "    #print(cat[1], 'toto', cat[0])\n",
    "    all_products.loc[all_products['url'] == cat[0] , 'categories2'] = cat[2]"
   ]
  },
  {
   "cell_type": "code",
   "execution_count": null,
   "id": "09fc6b5e",
   "metadata": {},
   "outputs": [],
   "source": []
  },
  {
   "cell_type": "code",
   "execution_count": 141,
   "id": "52de8e98",
   "metadata": {},
   "outputs": [
    {
     "data": {
      "text/plain": [
       "0         الخزائن الجانبية\n",
       "1            طاولات الطعام\n",
       "2             كراسي الطعام\n",
       "3              طاولات مكتب\n",
       "4            خزائن وصناديق\n",
       "               ...        \n",
       "9575             كنب زاوية\n",
       "9576       كرسي طاولة خدمة\n",
       "9577       كرسي طاولة خدمة\n",
       "9578    طاولات سرير جانبية\n",
       "9579        مجموعات الجدول\n",
       "Name: categories3, Length: 9580, dtype: object"
      ]
     },
     "execution_count": 141,
     "metadata": {},
     "output_type": "execute_result"
    }
   ],
   "source": [
    "all_products['categories3']"
   ]
  },
  {
   "cell_type": "code",
   "execution_count": 136,
   "id": "9d9cd92e",
   "metadata": {},
   "outputs": [
    {
     "data": {
      "text/plain": [
       "'gallah-candleholder'"
      ]
     },
     "execution_count": 136,
     "metadata": {},
     "output_type": "execute_result"
    }
   ],
   "source": [
    "list_des_cat1[100][0]"
   ]
  },
  {
   "cell_type": "code",
   "execution_count": 130,
   "id": "3ea0a4ee",
   "metadata": {},
   "outputs": [
    {
     "data": {
      "text/plain": [
       "'حامل شمعة'"
      ]
     },
     "execution_count": 130,
     "metadata": {},
     "output_type": "execute_result"
    }
   ],
   "source": [
    "list_des_cat1[1][3]"
   ]
  },
  {
   "cell_type": "code",
   "execution_count": 117,
   "id": "0ba4e69e",
   "metadata": {},
   "outputs": [],
   "source": [
    "for toto in list_des_cat1:\n",
    "    toto[0] = clean_url(toto[0])"
   ]
  },
  {
   "cell_type": "code",
   "execution_count": 106,
   "id": "dd23175e",
   "metadata": {},
   "outputs": [],
   "source": [
    "text1 = 'https://www.alrugaibfurniture.com/ar/collections/candle-holders/products/deus-candle-holder-set-of-3?lshst=collection'"
   ]
  },
  {
   "cell_type": "code",
   "execution_count": 101,
   "id": "cddb2888",
   "metadata": {},
   "outputs": [],
   "source": [
    "def clean_url(text):\n",
    "    text = text.split('/')[-1].split('?')[0]\n",
    "    return text"
   ]
  },
  {
   "cell_type": "code",
   "execution_count": 107,
   "id": "a23abcb0",
   "metadata": {},
   "outputs": [
    {
     "data": {
      "text/plain": [
       "'deus-candle-holder-set-of-3'"
      ]
     },
     "execution_count": 107,
     "metadata": {},
     "output_type": "execute_result"
    }
   ],
   "source": [
    "clean_url(text1)"
   ]
  },
  {
   "cell_type": "code",
   "execution_count": 61,
   "id": "63ad7867",
   "metadata": {},
   "outputs": [],
   "source": [
    "df=None"
   ]
  },
  {
   "cell_type": "code",
   "execution_count": 62,
   "id": "c984e4d2",
   "metadata": {},
   "outputs": [],
   "source": [
    "df = pd.read_excel('/home/wafistos/Documents/Projects/scrapy_plawright/Dania_noon_scraping12.xlsx')"
   ]
  },
  {
   "cell_type": "code",
   "execution_count": 63,
   "id": "64b670bc",
   "metadata": {},
   "outputs": [],
   "source": [
    "df.drop_duplicates(subset=['sku'], inplace=True)"
   ]
  },
  {
   "cell_type": "code",
   "execution_count": 64,
   "id": "65c3c67d",
   "metadata": {},
   "outputs": [
    {
     "data": {
      "text/plain": [
       "(1280, 19)"
      ]
     },
     "execution_count": 64,
     "metadata": {},
     "output_type": "execute_result"
    }
   ],
   "source": [
    "df.shape"
   ]
  },
  {
   "cell_type": "markdown",
   "id": "2fd70855",
   "metadata": {},
   "source": [
    "# Traitement "
   ]
  },
  {
   "cell_type": "code",
   "execution_count": 65,
   "id": "f610cd59",
   "metadata": {},
   "outputs": [
    {
     "data": {
      "text/plain": [
       "Index(['Unnamed: 0', 'url', 'name', 'images', 'categories1', 'categories2',\n",
       "       'sku', 'price', 'special_price', 'code_bar', 'free_colors',\n",
       "       'product_size', 'description1', 'ts_dimensions_width',\n",
       "       'ts_dimensions_height', 'ts_dimensions_length', 'raw_material',\n",
       "       'capacity', 'number_pieces'],\n",
       "      dtype='object')"
      ]
     },
     "execution_count": 65,
     "metadata": {},
     "output_type": "execute_result"
    }
   ],
   "source": [
    "df.columns"
   ]
  },
  {
   "cell_type": "code",
   "execution_count": 115,
   "id": "e1fcc4fc",
   "metadata": {},
   "outputs": [],
   "source": [
    "df.to_excel('toto.xlsx')"
   ]
  },
  {
   "cell_type": "code",
   "execution_count": 8,
   "id": "7ee58c8e",
   "metadata": {},
   "outputs": [],
   "source": [
    "df.rename(columns={'title': 'name' }, inplace=True)"
   ]
  },
  {
   "cell_type": "code",
   "execution_count": 16,
   "id": "fed1bd08",
   "metadata": {},
   "outputs": [],
   "source": [
    "df.rename(columns={'images': 'base_image', 'additionnel_images': 'additionnal_images', }, inplace=True)"
   ]
  },
  {
   "cell_type": "code",
   "execution_count": null,
   "id": "946e1a6d",
   "metadata": {},
   "outputs": [],
   "source": []
  },
  {
   "cell_type": "code",
   "execution_count": 66,
   "id": "3edc3c60",
   "metadata": {},
   "outputs": [],
   "source": [
    "df['supplier'] = 'DA'"
   ]
  },
  {
   "cell_type": "code",
   "execution_count": 67,
   "id": "4c87730c",
   "metadata": {},
   "outputs": [],
   "source": [
    "df['is_in_stock'] = 1"
   ]
  },
  {
   "cell_type": "code",
   "execution_count": 68,
   "id": "d2fe5865",
   "metadata": {},
   "outputs": [],
   "source": [
    "#df.loc[df['is_in_stock'] == 'متوفر', 'is_in_stock'] = 1"
   ]
  },
  {
   "cell_type": "code",
   "execution_count": 69,
   "id": "c047029f",
   "metadata": {},
   "outputs": [],
   "source": [
    "df['allow_backorders'] = df['is_in_stock']\n",
    "df['product_online'] = df['is_in_stock']\n",
    "df['qty'] = df['is_in_stock']  \n",
    "df['estimated_delivery_enable'] = 'Static, Text'"
   ]
  },
  {
   "cell_type": "code",
   "execution_count": 70,
   "id": "21b303bc",
   "metadata": {},
   "outputs": [],
   "source": [
    "df.loc[df['product_online'] == 2, 'out_of_stock_qty'] = 0\n",
    "df.loc[df['product_online'] == 2, 'qty'] = 0\n",
    "df.loc[df['product_online'] == 2, 'allow_backorders'] = 0\n",
    "df.loc[df['product_online'] == 2, 'out_of_stock_qty'] = 0"
   ]
  },
  {
   "cell_type": "code",
   "execution_count": 13,
   "id": "a9a80515",
   "metadata": {},
   "outputs": [
    {
     "data": {
      "text/plain": [
       "0       https://z.nooncdn.com/products/tr:n-t_400/v161...\n",
       "1       https://z.nooncdn.com/products/tr:n-t_400/v163...\n",
       "2       https://z.nooncdn.com/products/tr:n-t_400/v163...\n",
       "3       https://z.nooncdn.com/products/tr:n-t_400/v163...\n",
       "4       https://z.nooncdn.com/products/tr:n-t_400/v161...\n",
       "                              ...                        \n",
       "1323    https://z.nooncdn.com/products/tr:n-t_400/v163...\n",
       "1324    https://z.nooncdn.com/products/tr:n-t_400/v163...\n",
       "1325    https://z.nooncdn.com/products/tr:n-t_400/v163...\n",
       "1326    https://z.nooncdn.com/products/tr:n-t_400/v163...\n",
       "1327    https://z.nooncdn.com/products/tr:n-t_400/v163...\n",
       "Name: base_image, Length: 1280, dtype: object"
      ]
     },
     "execution_count": 13,
     "metadata": {},
     "output_type": "execute_result"
    }
   ],
   "source": [
    "df['base_image']"
   ]
  },
  {
   "cell_type": "code",
   "execution_count": 71,
   "id": "45958b7a",
   "metadata": {},
   "outputs": [],
   "source": [
    "df[['base_image','additional_images']] = df['images'].str.split(\",\",n = 1, expand=True)"
   ]
  },
  {
   "cell_type": "code",
   "execution_count": null,
   "id": "f6dded3f",
   "metadata": {},
   "outputs": [],
   "source": []
  },
  {
   "cell_type": "code",
   "execution_count": 72,
   "id": "b87c1eaf",
   "metadata": {},
   "outputs": [],
   "source": [
    "df['small_image'] =  df['base_image']\n",
    "df['swatch_image'] =  df['base_image']\n",
    "df['thumbnail_image'] =  df['base_image']\n",
    "df['attribute_set_code'] = 'Default'\n",
    "df['product_websites'] = 'base'"
   ]
  },
  {
   "cell_type": "code",
   "execution_count": 73,
   "id": "e4f34b56",
   "metadata": {},
   "outputs": [],
   "source": [
    "df['out_of_stock_qty'] = -5\n"
   ]
  },
  {
   "cell_type": "code",
   "execution_count": null,
   "id": "ebfd9615",
   "metadata": {},
   "outputs": [],
   "source": []
  },
  {
   "cell_type": "code",
   "execution_count": null,
   "id": "dfb3da72",
   "metadata": {},
   "outputs": [],
   "source": []
  },
  {
   "cell_type": "markdown",
   "id": "1909734b",
   "metadata": {},
   "source": [
    "# Traitement fonctions"
   ]
  },
  {
   "cell_type": "code",
   "execution_count": 74,
   "id": "38f0e9e5",
   "metadata": {},
   "outputs": [],
   "source": [
    "def toto_clean(name):\n",
    "    df[name] = df[name].str.replace('•', '-')\n",
    "    df[name] = df[name].str.replace(':', '-')\n",
    "    df[name] = df[name].str.replace('/', '-')\n",
    "    df[name] = df[name].str.replace('\"', '-')\n",
    "    df[name] = df[name].str.replace('%', '-')\n",
    "    df[name] = df[name].str.replace('&', '-')\n",
    "    df[name] = df[name].str.replace('?', '-', regex=False)\n",
    "    df[name] = df[name].str.replace('(', '-', regex=False)\n",
    "    df[name] = df[name].str.replace(')', '-', regex=False)\n",
    "    df[name] = df[name].str.replace('{', '-', regex=False)\n",
    "    df[name] = df[name].str.replace('}', '-', regex=False)\n",
    "    df[name] = df[name].str.replace(\"'\", '-', regex=False)\n",
    "    df[name] = df[name].str.replace('*', 'X', regex=False)\n",
    "    df[name] = df[name].str.replace('#', '-')\n",
    "    df[name] = df[name].str.replace('”', '-')\n",
    "    df[name] = df[name].str.replace('!', '-')\n",
    "    df[name] = df[name].str.replace('”', '-')\n",
    "    df[name] = df[name].str.replace('=', '-')\n",
    "    df[name] = df[name].str.replace('+', '-', regex=False)\n",
    "    df[name] = df[name].str.replace('،', '-', regex=False)\n",
    "    df[name] = df[name].str.replace('عرض أقل', '', regex=False)\n",
    "    df[name] = df[name].str.replace('،', '-', regex=False)\n",
    "    \n",
    "        \n",
    "    \n",
    "def ampty_value(name):\n",
    "    df.loc[df[name].isnull(), name] = '__EMPTY__VALUE__'\n",
    "    \n",
    "    \n",
    "def price_num(name):\n",
    "    try:\n",
    "        df[name] = df[name].str.replace('-', '')\n",
    "        df[name] = df[name].str.replace(',', '')\n",
    "    except:\n",
    "        pass\n",
    "    df.loc[df[name] == '__EMPTY__VALUE__', name] = 0\n",
    "    \n",
    "    df[name] = pd.to_numeric(df[name])\n",
    "    df.loc[df[name] == 0, name] = '__EMPTY__VALUE__'"
   ]
  },
  {
   "cell_type": "code",
   "execution_count": 75,
   "id": "739ce77d",
   "metadata": {},
   "outputs": [],
   "source": [
    "def clean_punct(name):\n",
    "    for c in string.punctuation:\n",
    "        df[name] = df[name].str.replace(c, '-', regex=False)"
   ]
  },
  {
   "cell_type": "code",
   "execution_count": 76,
   "id": "34f4e7d2",
   "metadata": {},
   "outputs": [
    {
     "data": {
      "text/plain": [
       "'!\"#$%&\\'()*+,-./:;<=>?@[\\\\]^_`{|}~'"
      ]
     },
     "execution_count": 76,
     "metadata": {},
     "output_type": "execute_result"
    }
   ],
   "source": [
    "string.punctuation"
   ]
  },
  {
   "cell_type": "code",
   "execution_count": 77,
   "id": "db216b12",
   "metadata": {},
   "outputs": [],
   "source": [
    "toto_clean('name')"
   ]
  },
  {
   "cell_type": "code",
   "execution_count": 78,
   "id": "41841c66",
   "metadata": {},
   "outputs": [],
   "source": [
    "\n",
    "df['description'] = df['description1']\n"
   ]
  },
  {
   "cell_type": "code",
   "execution_count": 81,
   "id": "fcc53222",
   "metadata": {},
   "outputs": [
    {
     "data": {
      "text/plain": [
       "0       BT-368-1171G\n",
       "1           19S032-3\n",
       "2             96212S\n",
       "3           68715B-G\n",
       "4          KF140311C\n",
       "            ...     \n",
       "1323         DKS4489\n",
       "1324       T1343-3-G\n",
       "1325      W12B015-1A\n",
       "1326      TW-2068-GA\n",
       "1327       19S033-5A\n",
       "Name: sku, Length: 1280, dtype: object"
      ]
     },
     "execution_count": 81,
     "metadata": {},
     "output_type": "execute_result"
    }
   ],
   "source": [
    "df['sku']"
   ]
  },
  {
   "cell_type": "code",
   "execution_count": 82,
   "id": "6104efd1",
   "metadata": {},
   "outputs": [],
   "source": [
    "df['sku'] = df['sku'].str.replace('/', '-')"
   ]
  },
  {
   "cell_type": "code",
   "execution_count": 83,
   "id": "8f66735f",
   "metadata": {},
   "outputs": [],
   "source": [
    "df['sku'] = 'DA-' + df['sku']"
   ]
  },
  {
   "cell_type": "code",
   "execution_count": 84,
   "id": "0a01c0b5",
   "metadata": {},
   "outputs": [],
   "source": [
    "toto_clean('description')"
   ]
  },
  {
   "cell_type": "code",
   "execution_count": 85,
   "id": "511d2dd3",
   "metadata": {},
   "outputs": [],
   "source": [
    "df.to_excel('dania_test23.xlsx')"
   ]
  },
  {
   "cell_type": "code",
   "execution_count": 86,
   "id": "4e73222a",
   "metadata": {},
   "outputs": [],
   "source": [
    "df['url_key'] = df['sku'] + '-' + df['name']"
   ]
  },
  {
   "cell_type": "code",
   "execution_count": 87,
   "id": "c0eadd8a",
   "metadata": {},
   "outputs": [],
   "source": [
    "df['estimated_delivery_text'] = 'الوقت المقدر لشحن هذا المنتج أسبوعين'"
   ]
  },
  {
   "cell_type": "code",
   "execution_count": 88,
   "id": "4e01aac7",
   "metadata": {},
   "outputs": [],
   "source": [
    "df['estimated_delivery_enable'] = 'Static Text'"
   ]
  },
  {
   "cell_type": "code",
   "execution_count": 89,
   "id": "aaa50b3c",
   "metadata": {},
   "outputs": [],
   "source": [
    "df['categories'] = ''"
   ]
  },
  {
   "cell_type": "code",
   "execution_count": 90,
   "id": "1a5de528",
   "metadata": {},
   "outputs": [
    {
     "data": {
      "text/plain": [
       "0        ‏ 67.00\n",
       "1        ‏ 36.00\n",
       "2        ‏ 50.00\n",
       "3       ‏ 151.00\n",
       "4       ‏ 152.00\n",
       "          ...   \n",
       "1323     ‏ 23.00\n",
       "1324    ‏ 250.00\n",
       "1325    ‏ 109.00\n",
       "1326     ‏ 69.00\n",
       "1327    ‏ 135.00\n",
       "Name: price, Length: 1280, dtype: object"
      ]
     },
     "execution_count": 90,
     "metadata": {},
     "output_type": "execute_result"
    }
   ],
   "source": [
    "df['price'] "
   ]
  },
  {
   "cell_type": "code",
   "execution_count": 91,
   "id": "36f286f9",
   "metadata": {},
   "outputs": [],
   "source": [
    "df['price'] = df['price'].str.replace('\\u200f', '')"
   ]
  },
  {
   "cell_type": "code",
   "execution_count": 92,
   "id": "aa6892d4",
   "metadata": {},
   "outputs": [],
   "source": [
    "df['special_price'] = df['special_price'].str.replace('<!-- -', '')"
   ]
  },
  {
   "cell_type": "code",
   "execution_count": 93,
   "id": "adb64d09",
   "metadata": {},
   "outputs": [],
   "source": [
    "df['special_price'] = df['special_price'].str.replace('\\u200f', '')"
   ]
  },
  {
   "cell_type": "code",
   "execution_count": 66,
   "id": "7e093289",
   "metadata": {},
   "outputs": [],
   "source": [
    "df.loc[df['special_price'] == '__EMPTY__VALUE__', 'special_price'] = 0"
   ]
  },
  {
   "cell_type": "code",
   "execution_count": 94,
   "id": "85fa8e5d",
   "metadata": {},
   "outputs": [],
   "source": [
    "df['price'] = df['price'].astype(float)\n",
    "df['special_price'] = df['special_price'].astype(float)"
   ]
  },
  {
   "cell_type": "code",
   "execution_count": 95,
   "id": "4df7f942",
   "metadata": {},
   "outputs": [],
   "source": [
    "df['cost'] = df['price']"
   ]
  },
  {
   "cell_type": "code",
   "execution_count": 96,
   "id": "d0795c92",
   "metadata": {},
   "outputs": [],
   "source": [
    "df['special_price'] = pd.to_numeric(df['special_price'])"
   ]
  },
  {
   "cell_type": "code",
   "execution_count": 97,
   "id": "852f559e",
   "metadata": {},
   "outputs": [],
   "source": [
    "df['price'] = df['cost'] * 1.15*2"
   ]
  },
  {
   "cell_type": "code",
   "execution_count": 98,
   "id": "a69129b7",
   "metadata": {},
   "outputs": [],
   "source": [
    "df['special_price'] = df['price'] * 0.7"
   ]
  },
  {
   "cell_type": "code",
   "execution_count": 99,
   "id": "d6cae086",
   "metadata": {},
   "outputs": [],
   "source": [
    "df.loc[df['special_price'] == 0, 'special_price'] = '__EMPTY__VALUE__'"
   ]
  },
  {
   "cell_type": "markdown",
   "id": "e41794f3",
   "metadata": {},
   "source": [
    "# Categories add"
   ]
  },
  {
   "cell_type": "code",
   "execution_count": 100,
   "id": "8a722e68",
   "metadata": {},
   "outputs": [],
   "source": [
    "cats_list =  [\n",
    "    ('بيالات شاي و قهوة عربي','44100,44106,44107'),\n",
    "    ('ترامس و اباريق','44100,44106,44107'),\n",
    "    ('فناجين قهوة تركي','44100,44101,44105'),\n",
    "    ('اكواب','42915,42918'),\n",
    "    ('بيالات شاي و قهوة عربي','44100,44106,44107'),\n",
    "    ('فناجين قهوة تركي','44100,44101,44105'),\n",
    "    ('صحون تقديم', '42915,42916,43742,113'),\n",
    "    ('مباخر و علب العود', '42800,42'),\n",
    "    ('اكسسوارات و تحف', '43816,43,113'),\n",
    "    ('اطقم كيك', '42915,42916,42922,113'),\n",
    "    ('صواني خشب', '42915,42916,42921,113'),\n",
    "    ('اكسسوارات و تحف', '43816,43,113'),\n",
    "    ('كماليات المنزل', '43507,6711,113'),\n",
    "    ('صحون تقديم', '42915,42916,43742,113'),\n",
    "    (' كماليات المنزل', '43507,6711,113'),\n",
    "    ('تمريات', '42915,42916,42923,113'),\n",
    "    ('سكريات', '42915,42916,42923,113'),\n",
    "    ('أطقم سفرة', '42915,43458,6718'),\n",
    "    ('مستلزمات بوفيه', '29,30,43808'),\n",
    "    ('اطقم جك وكاسات', '42915,42918,42928,113'),\n",
    "    ('اطقم ملاعق وسكاكين', '42915,43458,42917'),\n",
    "    ('قدور', '29,43468,32'),\n",
    "    ('طاوات', '29,43468,34,113'),\n",
    "    ('اكسسوارات المطبخ', '29,30,43811'),\n",
    "    ('مباخر و علب العود', '42800'),\n",
    "    ('اكسسوارات و تحف', '42,43741,113'),\n",
    "    ('صواني فرن', '29,43468,43520,113'),\n",
    "    ('صواني رخام', '29,43468,43520,113'),\n",
    "    ('اطقم شوربة', '42915,42916,43053'),\n",
    "    ('صواني زجاج و بورسلان', '29,43468,43520,113'),\n",
    "]"
   ]
  },
  {
   "cell_type": "code",
   "execution_count": null,
   "id": "40b582f3",
   "metadata": {},
   "outputs": [],
   "source": []
  },
  {
   "cell_type": "code",
   "execution_count": null,
   "id": "e25d6b7e",
   "metadata": {},
   "outputs": [],
   "source": []
  },
  {
   "cell_type": "code",
   "execution_count": 101,
   "id": "1c438ccd",
   "metadata": {},
   "outputs": [],
   "source": [
    "for ll in cats_list:\n",
    "    df.loc[df['categories1']== ll[0], 'categories'] = ll[1]"
   ]
  },
  {
   "cell_type": "code",
   "execution_count": 102,
   "id": "e28b0559",
   "metadata": {},
   "outputs": [
    {
     "data": {
      "text/plain": [
       "0        \n",
       "1        \n",
       "2        \n",
       "3        \n",
       "4        \n",
       "       ..\n",
       "1323     \n",
       "1324     \n",
       "1325     \n",
       "1326     \n",
       "1327     \n",
       "Name: categories, Length: 1280, dtype: object"
      ]
     },
     "execution_count": 102,
     "metadata": {},
     "output_type": "execute_result"
    }
   ],
   "source": [
    "df['categories']"
   ]
  },
  {
   "cell_type": "code",
   "execution_count": 103,
   "id": "06f53fac",
   "metadata": {},
   "outputs": [
    {
     "data": {
      "text/plain": [
       "(1280, 38)"
      ]
     },
     "execution_count": 103,
     "metadata": {},
     "output_type": "execute_result"
    }
   ],
   "source": [
    "df.shape"
   ]
  },
  {
   "cell_type": "code",
   "execution_count": null,
   "id": "4a7459b2",
   "metadata": {},
   "outputs": [],
   "source": []
  },
  {
   "cell_type": "code",
   "execution_count": null,
   "id": "30d36adf",
   "metadata": {},
   "outputs": [],
   "source": []
  },
  {
   "cell_type": "code",
   "execution_count": 182,
   "id": "9c5a5c62",
   "metadata": {},
   "outputs": [],
   "source": [
    "df.to_excel(\"dania_update_22.xlsx\")"
   ]
  },
  {
   "cell_type": "code",
   "execution_count": 76,
   "id": "16e593c7",
   "metadata": {},
   "outputs": [
    {
     "ename": "KeyError",
     "evalue": "1",
     "output_type": "error",
     "traceback": [
      "\u001b[0;31m---------------------------------------------------------------------------\u001b[0m",
      "\u001b[0;31mKeyError\u001b[0m                                  Traceback (most recent call last)",
      "\u001b[0;32m<ipython-input-76-6df59b6b385e>\u001b[0m in \u001b[0;36m<module>\u001b[0;34m\u001b[0m\n\u001b[1;32m      1\u001b[0m \u001b[0;32mfor\u001b[0m \u001b[0mll\u001b[0m \u001b[0;32min\u001b[0m \u001b[0mlist_cats\u001b[0m\u001b[0;34m:\u001b[0m\u001b[0;34m\u001b[0m\u001b[0;34m\u001b[0m\u001b[0m\n\u001b[1;32m      2\u001b[0m \u001b[0;34m\u001b[0m\u001b[0m\n\u001b[0;32m----> 3\u001b[0;31m     \u001b[0mdf\u001b[0m\u001b[0;34m.\u001b[0m\u001b[0mloc\u001b[0m\u001b[0;34m[\u001b[0m\u001b[0mdf\u001b[0m\u001b[0;34m[\u001b[0m\u001b[0;34m'categories3'\u001b[0m\u001b[0;34m]\u001b[0m \u001b[0;34m==\u001b[0m \u001b[0mll\u001b[0m\u001b[0;34m[\u001b[0m\u001b[0;36m0\u001b[0m\u001b[0;34m]\u001b[0m  \u001b[0;34m,\u001b[0m \u001b[0;34m'categories'\u001b[0m\u001b[0;34m]\u001b[0m \u001b[0;34m=\u001b[0m \u001b[0mll\u001b[0m\u001b[0;34m[\u001b[0m\u001b[0;36m1\u001b[0m\u001b[0;34m]\u001b[0m\u001b[0;34m\u001b[0m\u001b[0;34m\u001b[0m\u001b[0m\n\u001b[0m",
      "\u001b[0;31mKeyError\u001b[0m: 1"
     ]
    }
   ],
   "source": [
    "for ll in list_cats:\n",
    "    \n",
    "    df.loc[df['categories3'] == ll[0]  , 'categories'] = ll[1]"
   ]
  },
  {
   "cell_type": "code",
   "execution_count": 139,
   "id": "d08a3c5c",
   "metadata": {},
   "outputs": [],
   "source": [
    "for ll in list_cats:\n",
    "    \n",
    "    df.loc[(df['categories'] == ll[1]) & (df['description'].str.len() <= 20) , 'description'] = ll[2]"
   ]
  },
  {
   "cell_type": "code",
   "execution_count": 437,
   "id": "0f11cdf8",
   "metadata": {},
   "outputs": [],
   "source": [
    "for ll in list_cats:\n",
    "    \n",
    "    df.loc[(df['categories'] == ll[1]) & (df['short_description'].str.len() <= 20) , 'short_description'] = ll[2]"
   ]
  },
  {
   "cell_type": "code",
   "execution_count": 441,
   "id": "111136ec",
   "metadata": {},
   "outputs": [
    {
     "data": {
      "text/plain": [
       "9245    ألعاب\n",
       "9246    ألعاب\n",
       "9247    ألعاب\n",
       "9248    ألعاب\n",
       "9249    ألعاب\n",
       "9250    ألعاب\n",
       "9251    ألعاب\n",
       "Name: categories2, dtype: object"
      ]
     },
     "execution_count": 441,
     "metadata": {},
     "output_type": "execute_result"
    }
   ],
   "source": [
    " df.loc[ (df['categories'].isnull()) | (df['categories'] == '') , 'categories2']"
   ]
  },
  {
   "cell_type": "code",
   "execution_count": null,
   "id": "831252f7",
   "metadata": {},
   "outputs": [],
   "source": []
  },
  {
   "cell_type": "code",
   "execution_count": 140,
   "id": "b6b81850",
   "metadata": {
    "scrolled": true
   },
   "outputs": [
    {
     "data": {
      "text/html": [
       "<div>\n",
       "<style scoped>\n",
       "    .dataframe tbody tr th:only-of-type {\n",
       "        vertical-align: middle;\n",
       "    }\n",
       "\n",
       "    .dataframe tbody tr th {\n",
       "        vertical-align: top;\n",
       "    }\n",
       "\n",
       "    .dataframe thead th {\n",
       "        text-align: right;\n",
       "    }\n",
       "</style>\n",
       "<table border=\"1\" class=\"dataframe\">\n",
       "  <thead>\n",
       "    <tr style=\"text-align: right;\">\n",
       "      <th></th>\n",
       "      <th>sku number only</th>\n",
       "      <th>sku</th>\n",
       "      <th>store_view_code</th>\n",
       "      <th>attribute_set_code</th>\n",
       "      <th>product_websites</th>\n",
       "      <th>name</th>\n",
       "      <th>description</th>\n",
       "      <th>short_description</th>\n",
       "      <th>link_url</th>\n",
       "      <th>categories1</th>\n",
       "      <th>...</th>\n",
       "      <th>thumbnail_image</th>\n",
       "      <th>additional_images</th>\n",
       "      <th>product_online</th>\n",
       "      <th>qty</th>\n",
       "      <th>out_of_stock_qty</th>\n",
       "      <th>allow_backorders</th>\n",
       "      <th>is_in_stock</th>\n",
       "      <th>estimated_delivery_enable</th>\n",
       "      <th>estimated_delivery_text</th>\n",
       "      <th>supplier</th>\n",
       "    </tr>\n",
       "  </thead>\n",
       "  <tbody>\n",
       "  </tbody>\n",
       "</table>\n",
       "<p>0 rows × 41 columns</p>\n",
       "</div>"
      ],
      "text/plain": [
       "Empty DataFrame\n",
       "Columns: [sku number only, sku, store_view_code, attribute_set_code, product_websites, name, description, short_description, link_url, categories1, categories2, categories3, categories, free_colors, ts_dimensions_width, ts_dimensions_height, ts_dimensions_length, mgs_brand, url_key, cost, price, special_price, visibility, product_type, tax_class_name, manufacturer, news_from_date, news_to_date, base_image, small_image, swatch_image, thumbnail_image, additional_images, product_online, qty, out_of_stock_qty, allow_backorders, is_in_stock, estimated_delivery_enable, estimated_delivery_text, supplier]\n",
       "Index: []\n",
       "\n",
       "[0 rows x 41 columns]"
      ]
     },
     "execution_count": 140,
     "metadata": {},
     "output_type": "execute_result"
    }
   ],
   "source": [
    "df.loc[df['description'].str.len() <= 20]"
   ]
  },
  {
   "cell_type": "code",
   "execution_count": null,
   "id": "9a915365",
   "metadata": {},
   "outputs": [],
   "source": [
    "\n",
    "\n",
    "Try this:\n",
    "\n",
    "df.drop(df.loc[df.time< df.time.shift()].index, inplace=True)\n",
    "\n"
   ]
  },
  {
   "cell_type": "code",
   "execution_count": 214,
   "id": "a6102a63",
   "metadata": {},
   "outputs": [
    {
     "data": {
      "text/plain": [
       "(12042, 40)"
      ]
     },
     "execution_count": 214,
     "metadata": {},
     "output_type": "execute_result"
    }
   ],
   "source": [
    "df.shape"
   ]
  },
  {
   "cell_type": "code",
   "execution_count": 77,
   "id": "cb09d02e",
   "metadata": {},
   "outputs": [],
   "source": [
    "df.to_excel('dania_update_27_08_2021v1.xlsx')"
   ]
  },
  {
   "cell_type": "code",
   "execution_count": null,
   "id": "c608161d",
   "metadata": {},
   "outputs": [],
   "source": []
  },
  {
   "cell_type": "code",
   "execution_count": 116,
   "id": "b995b32e",
   "metadata": {},
   "outputs": [
    {
     "data": {
      "text/html": [
       "<div>\n",
       "<style scoped>\n",
       "    .dataframe tbody tr th:only-of-type {\n",
       "        vertical-align: middle;\n",
       "    }\n",
       "\n",
       "    .dataframe tbody tr th {\n",
       "        vertical-align: top;\n",
       "    }\n",
       "\n",
       "    .dataframe thead th {\n",
       "        text-align: right;\n",
       "    }\n",
       "</style>\n",
       "<table border=\"1\" class=\"dataframe\">\n",
       "  <thead>\n",
       "    <tr style=\"text-align: right;\">\n",
       "      <th></th>\n",
       "      <th>sku</th>\n",
       "      <th>is_in_stock</th>\n",
       "      <th>name</th>\n",
       "      <th>price</th>\n",
       "      <th>special_price</th>\n",
       "      <th>short_description</th>\n",
       "      <th>free_colors</th>\n",
       "      <th>description</th>\n",
       "      <th>ts_dimensions_width</th>\n",
       "      <th>ts_dimensions_height</th>\n",
       "      <th>...</th>\n",
       "      <th>swatch_image</th>\n",
       "      <th>thumbnail_image</th>\n",
       "      <th>attribute_set_code</th>\n",
       "      <th>product_websites</th>\n",
       "      <th>out_of_stock_qty</th>\n",
       "      <th>qty</th>\n",
       "      <th>product_online</th>\n",
       "      <th>estimated_delivery_text</th>\n",
       "      <th>mgs_brand</th>\n",
       "      <th>categories</th>\n",
       "    </tr>\n",
       "  </thead>\n",
       "  <tbody>\n",
       "  </tbody>\n",
       "</table>\n",
       "<p>0 rows × 38 columns</p>\n",
       "</div>"
      ],
      "text/plain": [
       "Empty DataFrame\n",
       "Columns: [sku, is_in_stock, name, price, special_price, short_description, free_colors, description, ts_dimensions_width, ts_dimensions_height, ts_dimensions_length, collection, base_image, url_key, visibility, tax_class_name, manufacturer, news_from_date, news_to_date, additional_images, link_url, categories1, categories2, categories3, supplier, allow_backorders, estimated_delivery_enable, small_image, swatch_image, thumbnail_image, attribute_set_code, product_websites, out_of_stock_qty, qty, product_online, estimated_delivery_text, mgs_brand, categories]\n",
       "Index: []\n",
       "\n",
       "[0 rows x 38 columns]"
      ]
     },
     "execution_count": 116,
     "metadata": {},
     "output_type": "execute_result"
    }
   ],
   "source": [
    "df.loc[df['short_description'].isnull()]"
   ]
  },
  {
   "cell_type": "markdown",
   "id": "4e235404",
   "metadata": {},
   "source": [
    "# Collections add "
   ]
  },
  {
   "cell_type": "code",
   "execution_count": 37,
   "id": "2f842910",
   "metadata": {},
   "outputs": [],
   "source": [
    "cols = pd.read_excel('/home/wafistos/Documents/Projects/scaping_wafi/scrapingalrugaibfurniture/sub_categories/categories/Rugaib brands.xlsx')"
   ]
  },
  {
   "cell_type": "code",
   "execution_count": 443,
   "id": "1b17c28f",
   "metadata": {},
   "outputs": [
    {
     "data": {
      "text/plain": [
       "Index(['collection', 'mgs_brand', 'Unnamed: 2', 'Unnamed: 3', 'Unnamed: 4',\n",
       "       'Unnamed: 5', 'Unnamed: 6', 'Unnamed: 7', 'Unnamed: 8', 'Unnamed: 9',\n",
       "       'Unnamed: 10', 'Unnamed: 11', 'Unnamed: 12', 'Unnamed: 13',\n",
       "       'Unnamed: 14', 'Unnamed: 15', 'Unnamed: 16', 'Unnamed: 17',\n",
       "       'Unnamed: 18', 'Unnamed: 19', 'Unnamed: 20', 'Unnamed: 21',\n",
       "       'Unnamed: 22', 'Unnamed: 23', 'Unnamed: 24', 'Unnamed: 25'],\n",
       "      dtype='object')"
      ]
     },
     "execution_count": 443,
     "metadata": {},
     "output_type": "execute_result"
    }
   ],
   "source": [
    "cols.columns"
   ]
  },
  {
   "cell_type": "code",
   "execution_count": 110,
   "id": "93c03e96",
   "metadata": {},
   "outputs": [],
   "source": [
    "list_cols = []\n",
    "for index, row in cols.iterrows():\n",
    "    list_cols.append([ row['collection'], row['mgs_brand']])"
   ]
  },
  {
   "cell_type": "code",
   "execution_count": 111,
   "id": "d05153ec",
   "metadata": {},
   "outputs": [],
   "source": [
    "for col in list_cols:\n",
    "    df.loc[df['collection'] == col[0], 'mgs_brand'] = col[1]"
   ]
  },
  {
   "cell_type": "code",
   "execution_count": 264,
   "id": "cde42d5f",
   "metadata": {},
   "outputs": [],
   "source": [
    "df['categories3'] = ''"
   ]
  },
  {
   "cell_type": "code",
   "execution_count": 39,
   "id": "dea6d825",
   "metadata": {},
   "outputs": [
    {
     "data": {
      "text/plain": [
       "Index(['Unnamed: 0', 'sku1', 'name', 'url', 'images', 'price1',\n",
       "       'special_price1', 'code_bar', 'free_colors', 'product_size',\n",
       "       'description1', 'supplier', 'is_in_stock', 'allow_backorders',\n",
       "       'product_online', 'qty', 'estimated_delivery_enable',\n",
       "       'out_of_stock_qty', 'base_image', 'additional_images', 'small_image',\n",
       "       'swatch_image', 'thumbnail_image', 'attribute_set_code',\n",
       "       'product_websites', 'sku', 'description', 'price', 'special_price',\n",
       "       'url_key', 'estimated_delivery_text', 'categories', 'cost'],\n",
       "      dtype='object')"
      ]
     },
     "execution_count": 39,
     "metadata": {},
     "output_type": "execute_result"
    }
   ],
   "source": [
    "df.columns"
   ]
  },
  {
   "cell_type": "code",
   "execution_count": 38,
   "id": "27392198",
   "metadata": {},
   "outputs": [
    {
     "ename": "KeyError",
     "evalue": "'mgs_brand'",
     "output_type": "error",
     "traceback": [
      "\u001b[0;31m---------------------------------------------------------------------------\u001b[0m",
      "\u001b[0;31mKeyError\u001b[0m                                  Traceback (most recent call last)",
      "\u001b[0;32m~/anaconda3/lib/python3.8/site-packages/pandas/core/indexes/base.py\u001b[0m in \u001b[0;36mget_loc\u001b[0;34m(self, key, method, tolerance)\u001b[0m\n\u001b[1;32m   3079\u001b[0m             \u001b[0;32mtry\u001b[0m\u001b[0;34m:\u001b[0m\u001b[0;34m\u001b[0m\u001b[0;34m\u001b[0m\u001b[0m\n\u001b[0;32m-> 3080\u001b[0;31m                 \u001b[0;32mreturn\u001b[0m \u001b[0mself\u001b[0m\u001b[0;34m.\u001b[0m\u001b[0m_engine\u001b[0m\u001b[0;34m.\u001b[0m\u001b[0mget_loc\u001b[0m\u001b[0;34m(\u001b[0m\u001b[0mcasted_key\u001b[0m\u001b[0;34m)\u001b[0m\u001b[0;34m\u001b[0m\u001b[0;34m\u001b[0m\u001b[0m\n\u001b[0m\u001b[1;32m   3081\u001b[0m             \u001b[0;32mexcept\u001b[0m \u001b[0mKeyError\u001b[0m \u001b[0;32mas\u001b[0m \u001b[0merr\u001b[0m\u001b[0;34m:\u001b[0m\u001b[0;34m\u001b[0m\u001b[0;34m\u001b[0m\u001b[0m\n",
      "\u001b[0;32mpandas/_libs/index.pyx\u001b[0m in \u001b[0;36mpandas._libs.index.IndexEngine.get_loc\u001b[0;34m()\u001b[0m\n",
      "\u001b[0;32mpandas/_libs/index.pyx\u001b[0m in \u001b[0;36mpandas._libs.index.IndexEngine.get_loc\u001b[0;34m()\u001b[0m\n",
      "\u001b[0;32mpandas/_libs/hashtable_class_helper.pxi\u001b[0m in \u001b[0;36mpandas._libs.hashtable.PyObjectHashTable.get_item\u001b[0;34m()\u001b[0m\n",
      "\u001b[0;32mpandas/_libs/hashtable_class_helper.pxi\u001b[0m in \u001b[0;36mpandas._libs.hashtable.PyObjectHashTable.get_item\u001b[0;34m()\u001b[0m\n",
      "\u001b[0;31mKeyError\u001b[0m: 'mgs_brand'",
      "\nThe above exception was the direct cause of the following exception:\n",
      "\u001b[0;31mKeyError\u001b[0m                                  Traceback (most recent call last)",
      "\u001b[0;32m<ipython-input-38-7d3b664d2a01>\u001b[0m in \u001b[0;36m<module>\u001b[0;34m\u001b[0m\n\u001b[0;32m----> 1\u001b[0;31m \u001b[0mdf\u001b[0m\u001b[0;34m[\u001b[0m\u001b[0;34m'mgs_brand'\u001b[0m\u001b[0;34m]\u001b[0m\u001b[0;34m\u001b[0m\u001b[0;34m\u001b[0m\u001b[0m\n\u001b[0m",
      "\u001b[0;32m~/anaconda3/lib/python3.8/site-packages/pandas/core/frame.py\u001b[0m in \u001b[0;36m__getitem__\u001b[0;34m(self, key)\u001b[0m\n\u001b[1;32m   3022\u001b[0m             \u001b[0;32mif\u001b[0m \u001b[0mself\u001b[0m\u001b[0;34m.\u001b[0m\u001b[0mcolumns\u001b[0m\u001b[0;34m.\u001b[0m\u001b[0mnlevels\u001b[0m \u001b[0;34m>\u001b[0m \u001b[0;36m1\u001b[0m\u001b[0;34m:\u001b[0m\u001b[0;34m\u001b[0m\u001b[0;34m\u001b[0m\u001b[0m\n\u001b[1;32m   3023\u001b[0m                 \u001b[0;32mreturn\u001b[0m \u001b[0mself\u001b[0m\u001b[0;34m.\u001b[0m\u001b[0m_getitem_multilevel\u001b[0m\u001b[0;34m(\u001b[0m\u001b[0mkey\u001b[0m\u001b[0;34m)\u001b[0m\u001b[0;34m\u001b[0m\u001b[0;34m\u001b[0m\u001b[0m\n\u001b[0;32m-> 3024\u001b[0;31m             \u001b[0mindexer\u001b[0m \u001b[0;34m=\u001b[0m \u001b[0mself\u001b[0m\u001b[0;34m.\u001b[0m\u001b[0mcolumns\u001b[0m\u001b[0;34m.\u001b[0m\u001b[0mget_loc\u001b[0m\u001b[0;34m(\u001b[0m\u001b[0mkey\u001b[0m\u001b[0;34m)\u001b[0m\u001b[0;34m\u001b[0m\u001b[0;34m\u001b[0m\u001b[0m\n\u001b[0m\u001b[1;32m   3025\u001b[0m             \u001b[0;32mif\u001b[0m \u001b[0mis_integer\u001b[0m\u001b[0;34m(\u001b[0m\u001b[0mindexer\u001b[0m\u001b[0;34m)\u001b[0m\u001b[0;34m:\u001b[0m\u001b[0;34m\u001b[0m\u001b[0;34m\u001b[0m\u001b[0m\n\u001b[1;32m   3026\u001b[0m                 \u001b[0mindexer\u001b[0m \u001b[0;34m=\u001b[0m \u001b[0;34m[\u001b[0m\u001b[0mindexer\u001b[0m\u001b[0;34m]\u001b[0m\u001b[0;34m\u001b[0m\u001b[0;34m\u001b[0m\u001b[0m\n",
      "\u001b[0;32m~/anaconda3/lib/python3.8/site-packages/pandas/core/indexes/base.py\u001b[0m in \u001b[0;36mget_loc\u001b[0;34m(self, key, method, tolerance)\u001b[0m\n\u001b[1;32m   3080\u001b[0m                 \u001b[0;32mreturn\u001b[0m \u001b[0mself\u001b[0m\u001b[0;34m.\u001b[0m\u001b[0m_engine\u001b[0m\u001b[0;34m.\u001b[0m\u001b[0mget_loc\u001b[0m\u001b[0;34m(\u001b[0m\u001b[0mcasted_key\u001b[0m\u001b[0;34m)\u001b[0m\u001b[0;34m\u001b[0m\u001b[0;34m\u001b[0m\u001b[0m\n\u001b[1;32m   3081\u001b[0m             \u001b[0;32mexcept\u001b[0m \u001b[0mKeyError\u001b[0m \u001b[0;32mas\u001b[0m \u001b[0merr\u001b[0m\u001b[0;34m:\u001b[0m\u001b[0;34m\u001b[0m\u001b[0;34m\u001b[0m\u001b[0m\n\u001b[0;32m-> 3082\u001b[0;31m                 \u001b[0;32mraise\u001b[0m \u001b[0mKeyError\u001b[0m\u001b[0;34m(\u001b[0m\u001b[0mkey\u001b[0m\u001b[0;34m)\u001b[0m \u001b[0;32mfrom\u001b[0m \u001b[0merr\u001b[0m\u001b[0;34m\u001b[0m\u001b[0;34m\u001b[0m\u001b[0m\n\u001b[0m\u001b[1;32m   3083\u001b[0m \u001b[0;34m\u001b[0m\u001b[0m\n\u001b[1;32m   3084\u001b[0m         \u001b[0;32mif\u001b[0m \u001b[0mtolerance\u001b[0m \u001b[0;32mis\u001b[0m \u001b[0;32mnot\u001b[0m \u001b[0;32mNone\u001b[0m\u001b[0;34m:\u001b[0m\u001b[0;34m\u001b[0m\u001b[0;34m\u001b[0m\u001b[0m\n",
      "\u001b[0;31mKeyError\u001b[0m: 'mgs_brand'"
     ]
    }
   ],
   "source": [
    "df['mgs_brand']"
   ]
  },
  {
   "cell_type": "code",
   "execution_count": 104,
   "id": "960ffdd0",
   "metadata": {},
   "outputs": [],
   "source": [
    "df['visibility'] = 'Catalog, Search'"
   ]
  },
  {
   "cell_type": "code",
   "execution_count": 105,
   "id": "be3ccb2a",
   "metadata": {},
   "outputs": [],
   "source": [
    "df['tax_class_name'] = 'Taxable Goods'"
   ]
  },
  {
   "cell_type": "code",
   "execution_count": 106,
   "id": "21b6661c",
   "metadata": {},
   "outputs": [],
   "source": [
    "df['manufacturer'] = '‫مستوردة‬'"
   ]
  },
  {
   "cell_type": "code",
   "execution_count": 107,
   "id": "c3f95d67",
   "metadata": {},
   "outputs": [
    {
     "ename": "KeyError",
     "evalue": "'sku '",
     "output_type": "error",
     "traceback": [
      "\u001b[0;31m---------------------------------------------------------------------------\u001b[0m",
      "\u001b[0;31mKeyError\u001b[0m                                  Traceback (most recent call last)",
      "\u001b[0;32m~/anaconda3/lib/python3.8/site-packages/pandas/core/indexes/base.py\u001b[0m in \u001b[0;36mget_loc\u001b[0;34m(self, key, method, tolerance)\u001b[0m\n\u001b[1;32m   3079\u001b[0m             \u001b[0;32mtry\u001b[0m\u001b[0;34m:\u001b[0m\u001b[0;34m\u001b[0m\u001b[0;34m\u001b[0m\u001b[0m\n\u001b[0;32m-> 3080\u001b[0;31m                 \u001b[0;32mreturn\u001b[0m \u001b[0mself\u001b[0m\u001b[0;34m.\u001b[0m\u001b[0m_engine\u001b[0m\u001b[0;34m.\u001b[0m\u001b[0mget_loc\u001b[0m\u001b[0;34m(\u001b[0m\u001b[0mcasted_key\u001b[0m\u001b[0;34m)\u001b[0m\u001b[0;34m\u001b[0m\u001b[0;34m\u001b[0m\u001b[0m\n\u001b[0m\u001b[1;32m   3081\u001b[0m             \u001b[0;32mexcept\u001b[0m \u001b[0mKeyError\u001b[0m \u001b[0;32mas\u001b[0m \u001b[0merr\u001b[0m\u001b[0;34m:\u001b[0m\u001b[0;34m\u001b[0m\u001b[0;34m\u001b[0m\u001b[0m\n",
      "\u001b[0;32mpandas/_libs/index.pyx\u001b[0m in \u001b[0;36mpandas._libs.index.IndexEngine.get_loc\u001b[0;34m()\u001b[0m\n",
      "\u001b[0;32mpandas/_libs/index.pyx\u001b[0m in \u001b[0;36mpandas._libs.index.IndexEngine.get_loc\u001b[0;34m()\u001b[0m\n",
      "\u001b[0;32mpandas/_libs/hashtable_class_helper.pxi\u001b[0m in \u001b[0;36mpandas._libs.hashtable.PyObjectHashTable.get_item\u001b[0;34m()\u001b[0m\n",
      "\u001b[0;32mpandas/_libs/hashtable_class_helper.pxi\u001b[0m in \u001b[0;36mpandas._libs.hashtable.PyObjectHashTable.get_item\u001b[0;34m()\u001b[0m\n",
      "\u001b[0;31mKeyError\u001b[0m: 'sku '",
      "\nThe above exception was the direct cause of the following exception:\n",
      "\u001b[0;31mKeyError\u001b[0m                                  Traceback (most recent call last)",
      "\u001b[0;32m<ipython-input-107-6ae9a3f26938>\u001b[0m in \u001b[0;36m<module>\u001b[0;34m\u001b[0m\n\u001b[0;32m----> 1\u001b[0;31m \u001b[0mdf\u001b[0m\u001b[0;34m[\u001b[0m\u001b[0;34m'sku'\u001b[0m\u001b[0;34m]\u001b[0m \u001b[0;34m=\u001b[0m \u001b[0;34m'DA-'\u001b[0m \u001b[0;34m+\u001b[0m \u001b[0mdf\u001b[0m\u001b[0;34m[\u001b[0m\u001b[0;34m'sku '\u001b[0m\u001b[0;34m]\u001b[0m\u001b[0;34m\u001b[0m\u001b[0;34m\u001b[0m\u001b[0m\n\u001b[0m",
      "\u001b[0;32m~/anaconda3/lib/python3.8/site-packages/pandas/core/frame.py\u001b[0m in \u001b[0;36m__getitem__\u001b[0;34m(self, key)\u001b[0m\n\u001b[1;32m   3022\u001b[0m             \u001b[0;32mif\u001b[0m \u001b[0mself\u001b[0m\u001b[0;34m.\u001b[0m\u001b[0mcolumns\u001b[0m\u001b[0;34m.\u001b[0m\u001b[0mnlevels\u001b[0m \u001b[0;34m>\u001b[0m \u001b[0;36m1\u001b[0m\u001b[0;34m:\u001b[0m\u001b[0;34m\u001b[0m\u001b[0;34m\u001b[0m\u001b[0m\n\u001b[1;32m   3023\u001b[0m                 \u001b[0;32mreturn\u001b[0m \u001b[0mself\u001b[0m\u001b[0;34m.\u001b[0m\u001b[0m_getitem_multilevel\u001b[0m\u001b[0;34m(\u001b[0m\u001b[0mkey\u001b[0m\u001b[0;34m)\u001b[0m\u001b[0;34m\u001b[0m\u001b[0;34m\u001b[0m\u001b[0m\n\u001b[0;32m-> 3024\u001b[0;31m             \u001b[0mindexer\u001b[0m \u001b[0;34m=\u001b[0m \u001b[0mself\u001b[0m\u001b[0;34m.\u001b[0m\u001b[0mcolumns\u001b[0m\u001b[0;34m.\u001b[0m\u001b[0mget_loc\u001b[0m\u001b[0;34m(\u001b[0m\u001b[0mkey\u001b[0m\u001b[0;34m)\u001b[0m\u001b[0;34m\u001b[0m\u001b[0;34m\u001b[0m\u001b[0m\n\u001b[0m\u001b[1;32m   3025\u001b[0m             \u001b[0;32mif\u001b[0m \u001b[0mis_integer\u001b[0m\u001b[0;34m(\u001b[0m\u001b[0mindexer\u001b[0m\u001b[0;34m)\u001b[0m\u001b[0;34m:\u001b[0m\u001b[0;34m\u001b[0m\u001b[0;34m\u001b[0m\u001b[0m\n\u001b[1;32m   3026\u001b[0m                 \u001b[0mindexer\u001b[0m \u001b[0;34m=\u001b[0m \u001b[0;34m[\u001b[0m\u001b[0mindexer\u001b[0m\u001b[0;34m]\u001b[0m\u001b[0;34m\u001b[0m\u001b[0;34m\u001b[0m\u001b[0m\n",
      "\u001b[0;32m~/anaconda3/lib/python3.8/site-packages/pandas/core/indexes/base.py\u001b[0m in \u001b[0;36mget_loc\u001b[0;34m(self, key, method, tolerance)\u001b[0m\n\u001b[1;32m   3080\u001b[0m                 \u001b[0;32mreturn\u001b[0m \u001b[0mself\u001b[0m\u001b[0;34m.\u001b[0m\u001b[0m_engine\u001b[0m\u001b[0;34m.\u001b[0m\u001b[0mget_loc\u001b[0m\u001b[0;34m(\u001b[0m\u001b[0mcasted_key\u001b[0m\u001b[0;34m)\u001b[0m\u001b[0;34m\u001b[0m\u001b[0;34m\u001b[0m\u001b[0m\n\u001b[1;32m   3081\u001b[0m             \u001b[0;32mexcept\u001b[0m \u001b[0mKeyError\u001b[0m \u001b[0;32mas\u001b[0m \u001b[0merr\u001b[0m\u001b[0;34m:\u001b[0m\u001b[0;34m\u001b[0m\u001b[0;34m\u001b[0m\u001b[0m\n\u001b[0;32m-> 3082\u001b[0;31m                 \u001b[0;32mraise\u001b[0m \u001b[0mKeyError\u001b[0m\u001b[0;34m(\u001b[0m\u001b[0mkey\u001b[0m\u001b[0;34m)\u001b[0m \u001b[0;32mfrom\u001b[0m \u001b[0merr\u001b[0m\u001b[0;34m\u001b[0m\u001b[0;34m\u001b[0m\u001b[0m\n\u001b[0m\u001b[1;32m   3083\u001b[0m \u001b[0;34m\u001b[0m\u001b[0m\n\u001b[1;32m   3084\u001b[0m         \u001b[0;32mif\u001b[0m \u001b[0mtolerance\u001b[0m \u001b[0;32mis\u001b[0m \u001b[0;32mnot\u001b[0m \u001b[0;32mNone\u001b[0m\u001b[0;34m:\u001b[0m\u001b[0;34m\u001b[0m\u001b[0;34m\u001b[0m\u001b[0m\n",
      "\u001b[0;31mKeyError\u001b[0m: 'sku '"
     ]
    }
   ],
   "source": [
    "df['sku'] = 'DA-' + df['sku']"
   ]
  },
  {
   "cell_type": "code",
   "execution_count": 96,
   "id": "cbbc033c",
   "metadata": {},
   "outputs": [
    {
     "name": "stderr",
     "output_type": "stream",
     "text": [
      "<ipython-input-96-b3c3f4e209c7>:1: SettingWithCopyWarning: \n",
      "A value is trying to be set on a copy of a slice from a DataFrame.\n",
      "Try using .loc[row_indexer,col_indexer] = value instead\n",
      "\n",
      "See the caveats in the documentation: https://pandas.pydata.org/pandas-docs/stable/user_guide/indexing.html#returning-a-view-versus-a-copy\n",
      "  df['sku'] = df['sku'].str.replace('DA-DA', 'DA')\n"
     ]
    }
   ],
   "source": [
    "df['sku'] = df['sku'].str.replace('DA-DA', 'DA')"
   ]
  },
  {
   "cell_type": "code",
   "execution_count": 108,
   "id": "49095c9f",
   "metadata": {},
   "outputs": [],
   "source": [
    "df['store_view_code'] = ''"
   ]
  },
  {
   "cell_type": "code",
   "execution_count": 109,
   "id": "20d22d12",
   "metadata": {},
   "outputs": [],
   "source": [
    "df['sku number only'] = df['sku'].str.replace('DA-', '')"
   ]
  },
  {
   "cell_type": "code",
   "execution_count": 110,
   "id": "687b3863",
   "metadata": {},
   "outputs": [],
   "source": [
    "df['product_type'] = 'simple'"
   ]
  },
  {
   "cell_type": "code",
   "execution_count": 111,
   "id": "53dcd425",
   "metadata": {},
   "outputs": [],
   "source": [
    "two_month = datetime.now() + timedelta(days=60)\n",
    "two_month = two_month.strftime(\"%m/%d/%Y\")\n",
    "today = datetime.today().strftime(\"%m/%d/%Y\")"
   ]
  },
  {
   "cell_type": "code",
   "execution_count": 112,
   "id": "1cfd79b9",
   "metadata": {},
   "outputs": [],
   "source": [
    "df['news_from_date'] = today\n",
    "df['news_to_date'] = two_month"
   ]
  },
  {
   "cell_type": "code",
   "execution_count": 113,
   "id": "f3fd09b7",
   "metadata": {},
   "outputs": [
    {
     "data": {
      "text/plain": [
       "Index(['Unnamed: 0', 'url', 'name', 'images', 'categories1', 'categories2',\n",
       "       'sku', 'price', 'special_price', 'code_bar', 'free_colors',\n",
       "       'product_size', 'description1', 'ts_dimensions_width',\n",
       "       'ts_dimensions_height', 'ts_dimensions_length', 'raw_material',\n",
       "       'capacity', 'number_pieces', 'supplier', 'is_in_stock',\n",
       "       'allow_backorders', 'product_online', 'qty',\n",
       "       'estimated_delivery_enable', 'out_of_stock_qty', 'base_image',\n",
       "       'additional_images', 'small_image', 'swatch_image', 'thumbnail_image',\n",
       "       'attribute_set_code', 'product_websites', 'description', 'url_key',\n",
       "       'estimated_delivery_text', 'categories', 'cost', 'visibility',\n",
       "       'tax_class_name', 'manufacturer', 'store_view_code', 'sku number only',\n",
       "       'product_type', 'news_from_date', 'news_to_date'],\n",
       "      dtype='object')"
      ]
     },
     "execution_count": 113,
     "metadata": {},
     "output_type": "execute_result"
    }
   ],
   "source": [
    "df.columns"
   ]
  },
  {
   "cell_type": "code",
   "execution_count": 114,
   "id": "a2a41c59",
   "metadata": {},
   "outputs": [],
   "source": [
    "df['link_url'] = df['url']"
   ]
  },
  {
   "cell_type": "code",
   "execution_count": 115,
   "id": "72eb9f32",
   "metadata": {},
   "outputs": [],
   "source": [
    "df = df[[ 'sku number only',\n",
    "        'sku', \n",
    "         'store_view_code',\n",
    "         'attribute_set_code',\n",
    "         'product_websites',\n",
    "         'name',   \n",
    "         'description1', \n",
    "         'link_url', \n",
    "         'raw_material',\n",
    "         'capacity',\n",
    "         'code_bar',\n",
    "         'free_colors',\n",
    "         'number_pieces',\n",
    "         'ts_dimensions_width',\n",
    "            'ts_dimensions_height',\n",
    "            'ts_dimensions_length',\n",
    "         'categories1', \n",
    "         'categories2', \n",
    "#          'categorie3', \n",
    "         'categories', \n",
    "         'url_key',\n",
    "         'cost',  \n",
    "         'price', \n",
    "         'special_price', \n",
    "         'visibility',\n",
    "         'product_type',\n",
    "         'tax_class_name', \n",
    "         'manufacturer',\n",
    "         'news_from_date', \n",
    "         'news_to_date', \n",
    "         'base_image', \n",
    "         'small_image', \n",
    "         'swatch_image' , \n",
    "         'thumbnail_image', \n",
    "         'additional_images', \n",
    "         'product_online', \n",
    "         'qty', \n",
    "         'out_of_stock_qty', \n",
    "         'allow_backorders', \n",
    "         'is_in_stock', \n",
    "         'estimated_delivery_enable',\n",
    "         'estimated_delivery_text',\n",
    "         'supplier',   \n",
    "        ]]"
   ]
  },
  {
   "cell_type": "code",
   "execution_count": 116,
   "id": "ac5eb586",
   "metadata": {},
   "outputs": [],
   "source": [
    "df.to_excel('Dania_from_noom_11_01_2022_v2.xlsx', index=False)"
   ]
  },
  {
   "cell_type": "code",
   "execution_count": 97,
   "id": "9177afce",
   "metadata": {},
   "outputs": [],
   "source": [
    "df.to_excel('Dania__08_01_2021_v2.xlsx', index=False)"
   ]
  },
  {
   "cell_type": "code",
   "execution_count": 178,
   "id": "b9619ec6",
   "metadata": {},
   "outputs": [],
   "source": [
    "toto = pd.read_excel('/home/wafistos/Downloads/Noon_dania_update.xlsx')"
   ]
  },
  {
   "cell_type": "code",
   "execution_count": 186,
   "id": "d2b1a8ca",
   "metadata": {},
   "outputs": [],
   "source": [
    "df= pd.read_excel('Dania_from_noom_1_12_2021_v2.xlsx')"
   ]
  },
  {
   "cell_type": "code",
   "execution_count": 194,
   "id": "a46432f5",
   "metadata": {},
   "outputs": [],
   "source": [
    "toto['sku'] = toto['sku'].str.replace(' ', '')"
   ]
  },
  {
   "cell_type": "code",
   "execution_count": 195,
   "id": "53d9fb3f",
   "metadata": {},
   "outputs": [],
   "source": [
    "list_toto = toto['sku'].to_list()"
   ]
  },
  {
   "cell_type": "code",
   "execution_count": 196,
   "id": "b656cdf5",
   "metadata": {},
   "outputs": [
    {
     "data": {
      "text/plain": [
       "124"
      ]
     },
     "execution_count": 196,
     "metadata": {},
     "output_type": "execute_result"
    }
   ],
   "source": [
    "len(list_toto)"
   ]
  },
  {
   "cell_type": "code",
   "execution_count": 198,
   "id": "a1966401",
   "metadata": {},
   "outputs": [],
   "source": [
    "titi = df.loc[df['sku'].isin(list_toto)]"
   ]
  },
  {
   "cell_type": "code",
   "execution_count": 199,
   "id": "5bc69403",
   "metadata": {},
   "outputs": [],
   "source": [
    "titi.to_excel('Dania_update_v2.xlsx')"
   ]
  },
  {
   "cell_type": "code",
   "execution_count": 120,
   "id": "f2ebf197",
   "metadata": {},
   "outputs": [],
   "source": [
    "toto = df['categorie2'].unique().tolist()"
   ]
  },
  {
   "cell_type": "code",
   "execution_count": 123,
   "id": "e4cb409d",
   "metadata": {},
   "outputs": [],
   "source": [
    "tt = {'url': toto}\n"
   ]
  },
  {
   "cell_type": "code",
   "execution_count": 124,
   "id": "594384f6",
   "metadata": {},
   "outputs": [],
   "source": [
    "df1 = pd.DataFrame([tt])"
   ]
  },
  {
   "cell_type": "code",
   "execution_count": 125,
   "id": "5ba6c187",
   "metadata": {},
   "outputs": [],
   "source": [
    "df1.to_excel('List_cats_dania.xlsx')"
   ]
  },
  {
   "cell_type": "code",
   "execution_count": 135,
   "id": "48a985d7",
   "metadata": {},
   "outputs": [],
   "source": [
    "df = None"
   ]
  },
  {
   "cell_type": "code",
   "execution_count": 137,
   "id": "e75dd8e4",
   "metadata": {},
   "outputs": [],
   "source": [
    "df = pd.read_excel('Rugaib_update_03_09_2021_v1.xlsx')"
   ]
  },
  {
   "cell_type": "code",
   "execution_count": 133,
   "id": "91492e35",
   "metadata": {},
   "outputs": [],
   "source": []
  },
  {
   "cell_type": "code",
   "execution_count": 398,
   "id": "56bca058",
   "metadata": {},
   "outputs": [],
   "source": [
    "toto_clean('url_key')"
   ]
  },
  {
   "cell_type": "code",
   "execution_count": 457,
   "id": "588d6979",
   "metadata": {},
   "outputs": [],
   "source": [
    "df['url_key'] = df['url_key'].str.replace(' ', '-')"
   ]
  },
  {
   "cell_type": "code",
   "execution_count": 458,
   "id": "e0990a00",
   "metadata": {},
   "outputs": [],
   "source": [
    "df['url_key'] = df['url_key'].str.replace('  ', '-')"
   ]
  },
  {
   "cell_type": "code",
   "execution_count": null,
   "id": "c6c24823",
   "metadata": {},
   "outputs": [],
   "source": [
    "df.drop(df.loc[df['sku'] == 'NONE'].index, inplace=True)"
   ]
  },
  {
   "cell_type": "code",
   "execution_count": 461,
   "id": "1b1a84de",
   "metadata": {},
   "outputs": [
    {
     "data": {
      "text/html": [
       "<div>\n",
       "<style scoped>\n",
       "    .dataframe tbody tr th:only-of-type {\n",
       "        vertical-align: middle;\n",
       "    }\n",
       "\n",
       "    .dataframe tbody tr th {\n",
       "        vertical-align: top;\n",
       "    }\n",
       "\n",
       "    .dataframe thead th {\n",
       "        text-align: right;\n",
       "    }\n",
       "</style>\n",
       "<table border=\"1\" class=\"dataframe\">\n",
       "  <thead>\n",
       "    <tr style=\"text-align: right;\">\n",
       "      <th></th>\n",
       "      <th>sku number only</th>\n",
       "      <th>sku</th>\n",
       "      <th>store_view_code</th>\n",
       "      <th>attribute_set_code</th>\n",
       "      <th>product_websites</th>\n",
       "      <th>name</th>\n",
       "      <th>description</th>\n",
       "      <th>short_description</th>\n",
       "      <th>link_url</th>\n",
       "      <th>categories1</th>\n",
       "      <th>...</th>\n",
       "      <th>thumbnail_image</th>\n",
       "      <th>additional_images</th>\n",
       "      <th>product_online</th>\n",
       "      <th>qty</th>\n",
       "      <th>out_of_stock_qty</th>\n",
       "      <th>allow_backorders</th>\n",
       "      <th>is_in_stock</th>\n",
       "      <th>estimated_delivery_enable</th>\n",
       "      <th>estimated_delivery_text</th>\n",
       "      <th>supplier</th>\n",
       "    </tr>\n",
       "  </thead>\n",
       "  <tbody>\n",
       "    <tr>\n",
       "      <th>113</th>\n",
       "      <td>NONE</td>\n",
       "      <td>NONE</td>\n",
       "      <td></td>\n",
       "      <td>Default</td>\n",
       "      <td>base</td>\n",
       "      <td>Metal 5-Light Tealight Holder</td>\n",
       "      <td>Metal; The Country of Origin is China\\nTea lig...</td>\n",
       "      <td>Metal; The Country of Origin is China\\nTea lig...</td>\n",
       "      <td>https://www.alrugaibfurniture.com/ar/collectio...</td>\n",
       "      <td>اكسسوارات</td>\n",
       "      <td>...</td>\n",
       "      <td>https://cdn.shopify.com/s/files/1/0773/5495/pr...</td>\n",
       "      <td>NaN</td>\n",
       "      <td>1</td>\n",
       "      <td>0</td>\n",
       "      <td>-5</td>\n",
       "      <td>1</td>\n",
       "      <td>1</td>\n",
       "      <td>Static Text</td>\n",
       "      <td>الوقت المقدر لشحن هذا المنتج أسبوعين</td>\n",
       "      <td>ROG</td>\n",
       "    </tr>\n",
       "  </tbody>\n",
       "</table>\n",
       "<p>1 rows × 41 columns</p>\n",
       "</div>"
      ],
      "text/plain": [
       "    sku number only   sku store_view_code attribute_set_code product_websites  \\\n",
       "113            NONE  NONE                            Default             base   \n",
       "\n",
       "                              name  \\\n",
       "113  Metal 5-Light Tealight Holder   \n",
       "\n",
       "                                           description  \\\n",
       "113  Metal; The Country of Origin is China\\nTea lig...   \n",
       "\n",
       "                                     short_description  \\\n",
       "113  Metal; The Country of Origin is China\\nTea lig...   \n",
       "\n",
       "                                              link_url categories1  ...  \\\n",
       "113  https://www.alrugaibfurniture.com/ar/collectio...   اكسسوارات  ...   \n",
       "\n",
       "                                       thumbnail_image additional_images  \\\n",
       "113  https://cdn.shopify.com/s/files/1/0773/5495/pr...               NaN   \n",
       "\n",
       "    product_online qty out_of_stock_qty allow_backorders is_in_stock  \\\n",
       "113              1   0               -5                1           1   \n",
       "\n",
       "    estimated_delivery_enable               estimated_delivery_text  supplier  \n",
       "113               Static Text  الوقت المقدر لشحن هذا المنتج أسبوعين       ROG  \n",
       "\n",
       "[1 rows x 41 columns]"
      ]
     },
     "execution_count": 461,
     "metadata": {},
     "output_type": "execute_result"
    }
   ],
   "source": [
    "df.loc[df['sku'] == 'NONE']"
   ]
  },
  {
   "cell_type": "code",
   "execution_count": 3,
   "id": "a86e663e",
   "metadata": {},
   "outputs": [],
   "source": [
    "dania  = pd.read_excel('/home/wafistos/Downloads/Dania_update_23_12_2021_v1.xlsx')"
   ]
  },
  {
   "cell_type": "code",
   "execution_count": 4,
   "id": "d665b24b",
   "metadata": {},
   "outputs": [],
   "source": [
    "dania['price'] = dania['cost'] * 2*1.15"
   ]
  },
  {
   "cell_type": "code",
   "execution_count": 12,
   "id": "6797a5b5",
   "metadata": {},
   "outputs": [],
   "source": [
    "dania['special_price'] = dania['price'] * 0.7"
   ]
  },
  {
   "cell_type": "code",
   "execution_count": 9,
   "id": "7d5ed4f4",
   "metadata": {},
   "outputs": [],
   "source": [
    "dania['sku'] = dania['sku'].str.replace('/', '')"
   ]
  },
  {
   "cell_type": "code",
   "execution_count": 11,
   "id": "17ef3bf1",
   "metadata": {},
   "outputs": [],
   "source": [
    "dania['sku number only'] = dania['sku number only'].str.replace('/', '')"
   ]
  },
  {
   "cell_type": "code",
   "execution_count": 14,
   "id": "2145eeaa",
   "metadata": {},
   "outputs": [],
   "source": [
    "dania.to_excel('Updata_dania.xlsx')"
   ]
  },
  {
   "cell_type": "code",
   "execution_count": null,
   "id": "049ce678",
   "metadata": {},
   "outputs": [],
   "source": []
  }
 ],
 "metadata": {
  "kernelspec": {
   "display_name": "Python 3.8.8 ('base')",
   "language": "python",
   "name": "python3"
  },
  "language_info": {
   "codemirror_mode": {
    "name": "ipython",
    "version": 3
   },
   "file_extension": ".py",
   "mimetype": "text/x-python",
   "name": "python",
   "nbconvert_exporter": "python",
   "pygments_lexer": "ipython3",
   "version": "3.8.8"
  },
  "toc": {
   "base_numbering": 1,
   "nav_menu": {},
   "number_sections": true,
   "sideBar": true,
   "skip_h1_title": false,
   "title_cell": "Table of Contents",
   "title_sidebar": "Contents",
   "toc_cell": false,
   "toc_position": {
    "height": "calc(100% - 180px)",
    "left": "10px",
    "top": "150px",
    "width": "352px"
   },
   "toc_section_display": true,
   "toc_window_display": true
  },
  "vscode": {
   "interpreter": {
    "hash": "901bbe481fb91f862c10b8e54f95d7da636ff35e7b7d7322c639cfaac06e5987"
   }
  }
 },
 "nbformat": 4,
 "nbformat_minor": 5
}
