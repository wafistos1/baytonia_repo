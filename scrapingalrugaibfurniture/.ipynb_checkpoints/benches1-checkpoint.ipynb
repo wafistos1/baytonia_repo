{
 "cells": [
  {
   "cell_type": "code",
   "execution_count": 2,
   "id": "51b0a636",
   "metadata": {},
   "outputs": [],
   "source": [
    "#imports here\n",
    "from selenium import webdriver\n",
    "from selenium.webdriver.common.keys import Keys\n",
    "from selenium.webdriver.support import expected_conditions as EC\n",
    "from selenium.webdriver.common.by import By\n",
    "from selenium.webdriver.support.wait import WebDriverWait\n",
    "from selenium.webdriver.firefox.options import Options\n",
    "import time\n",
    "import os\n",
    "from fake_useragent import UserAgent\n",
    "from random import randint\n",
    "import pandas as pd\n",
    "import re"
   ]
  },
  {
   "cell_type": "code",
   "execution_count": null,
   "id": "d9e338bc",
   "metadata": {},
   "outputs": [],
   "source": []
  },
  {
   "cell_type": "code",
   "execution_count": null,
   "id": "18f749f5",
   "metadata": {},
   "outputs": [],
   "source": []
  },
  {
   "cell_type": "code",
   "execution_count": null,
   "id": "a6ebfd88",
   "metadata": {},
   "outputs": [],
   "source": []
  },
  {
   "cell_type": "code",
   "execution_count": 6,
   "id": "e81ce385",
   "metadata": {},
   "outputs": [
    {
     "name": "stdout",
     "output_type": "stream",
     "text": [
      "Mozilla/5.0 (Windows NT 6.1; rv:21.0) Gecko/20130401 Firefox/21.0\n"
     ]
    },
    {
     "name": "stderr",
     "output_type": "stream",
     "text": [
      "<ipython-input-6-5315509cced7>:7: DeprecationWarning: use options instead of firefox_options\n",
      "  driver = webdriver.Firefox(firefox_options=options)\n"
     ]
    }
   ],
   "source": [
    "options = Options()\n",
    "ua = UserAgent()\n",
    "userAgent = ua.random\n",
    "print(userAgent)\n",
    "options.add_argument(f'user-agent={userAgent}')\n",
    "#options.add_argument(\"--headless\")\n",
    "driver = webdriver.Firefox(firefox_options=options)\n",
    "#     driver = webdriver.Firefox()"
   ]
  },
  {
   "cell_type": "code",
   "execution_count": null,
   "id": "23092e60",
   "metadata": {},
   "outputs": [],
   "source": []
  },
  {
   "cell_type": "code",
   "execution_count": 4,
   "id": "d0e0e193",
   "metadata": {},
   "outputs": [],
   "source": [
    "driver.get('https://www.bet365.com/')"
   ]
  },
  {
   "cell_type": "code",
   "execution_count": null,
   "id": "91714ec0",
   "metadata": {},
   "outputs": [],
   "source": []
  },
  {
   "cell_type": "code",
   "execution_count": null,
   "id": "d8c0f82f",
   "metadata": {},
   "outputs": [],
   "source": []
  },
  {
   "cell_type": "code",
   "execution_count": null,
   "id": "730d02a7",
   "metadata": {},
   "outputs": [],
   "source": []
  },
  {
   "cell_type": "code",
   "execution_count": null,
   "id": "4eec53e4",
   "metadata": {},
   "outputs": [],
   "source": []
  },
  {
   "cell_type": "code",
   "execution_count": 9,
   "id": "fc76bf03",
   "metadata": {},
   "outputs": [
    {
     "name": "stdout",
     "output_type": "stream",
     "text": [
      "99\n"
     ]
    }
   ],
   "source": [
    "links_products = []\n",
    "def return_details(value, list_dic):\n",
    "        val = ''\n",
    "        for i in list_dic:\n",
    "            if value in i:\n",
    "                val = i.replace(value, '')\n",
    "        return val\n",
    "for i in range(1, 6):\n",
    "    driver.get(f'https://www.alrugaibfurniture.com/ar/collections/benches?page={i}')\n",
    "    \n",
    "    products = driver.find_elements_by_class_name('product-item__image-wrapper')\n",
    "    \n",
    "    \n",
    "    #Forloop to get all url products\n",
    "    for product in products:\n",
    "\n",
    "        links_products.append(product.get_attribute('href'))\n",
    "        time.sleep(1)\n",
    "    time.sleep(1)\n",
    "print(len(links_products))"
   ]
  },
  {
   "cell_type": "code",
   "execution_count": 10,
   "id": "9ce7418c",
   "metadata": {},
   "outputs": [],
   "source": [
    "driver.get(links_products[1])"
   ]
  },
  {
   "cell_type": "code",
   "execution_count": null,
   "id": "e2e35bfb",
   "metadata": {},
   "outputs": [],
   "source": []
  },
  {
   "cell_type": "code",
   "execution_count": 8,
   "id": "7b824d4f",
   "metadata": {},
   "outputs": [
    {
     "ename": "NameError",
     "evalue": "name 'links_products' is not defined",
     "output_type": "error",
     "traceback": [
      "\u001b[0;31m---------------------------------------------------------------------------\u001b[0m",
      "\u001b[0;31mNameError\u001b[0m                                 Traceback (most recent call last)",
      "\u001b[0;32m<ipython-input-8-d561516f2efa>\u001b[0m in \u001b[0;36m<module>\u001b[0;34m\u001b[0m\n\u001b[0;32m----> 1\u001b[0;31m \u001b[0mlinks_products\u001b[0m\u001b[0;34m\u001b[0m\u001b[0;34m\u001b[0m\u001b[0m\n\u001b[0m",
      "\u001b[0;31mNameError\u001b[0m: name 'links_products' is not defined"
     ]
    }
   ],
   "source": [
    "links_products"
   ]
  },
  {
   "cell_type": "code",
   "execution_count": null,
   "id": "b6187ef3",
   "metadata": {},
   "outputs": [],
   "source": []
  },
  {
   "cell_type": "code",
   "execution_count": null,
   "id": "687751b1",
   "metadata": {},
   "outputs": [],
   "source": []
  },
  {
   "cell_type": "code",
   "execution_count": null,
   "id": "2755c12f",
   "metadata": {},
   "outputs": [],
   "source": []
  },
  {
   "cell_type": "code",
   "execution_count": 50,
   "id": "14f4125f",
   "metadata": {
    "scrolled": true
   },
   "outputs": [
    {
     "name": "stdout",
     "output_type": "stream",
     "text": [
      "***********************************************************\n",
      "URl: https://www.alrugaibfurniture.com/ar/collections/benches/products/johnelle-dining-bench?lshst=collection\n",
      "Cat1: المنزل \n",
      "Cat2: مقاعد\n",
      "Cat3: \n",
      "Cas2\n",
      "H 19.75\n",
      "L 16.50\n",
      "W 63.00\n",
      "Title: Johnelle Dining Bench\n",
      "Price: 594.55\n",
      "Price old: 977.50\n",
      "ollection: اشلي هومستور\n",
      "Description: \n",
      "Colors: \n",
      "URl: https://www.alrugaibfurniture.com/ar/collections/benches/products/johnelle-dining-bench?lshst=collection\n",
      "Sku: D776-00\n",
      "H 19.75\n",
      "L 16.50\n",
      "W 63.00\n",
      "\n",
      "***********************************************************\n",
      "URl: https://www.alrugaibfurniture.com/ar/collections/benches/products/endora-bench-cappuccino?lshst=collection\n",
      "Cat1: المنزل \n",
      "Cat2: مقاعد\n",
      "Cat3: \n",
      "Cas4\n",
      "H 16.5\n",
      "L 19\n",
      "W 59\n",
      "Title: Endora Bench Cappuccino\n",
      "Price: 3,156.75\n",
      "Price old: \n",
      "ollection: مو\"ز\n",
      "Description: \n",
      "Colors: \n",
      "URl: https://www.alrugaibfurniture.com/ar/collections/benches/products/endora-bench-cappuccino?lshst=collection\n",
      "Sku: PK-1105-14\n",
      "H 16.5\n",
      "L 19\n",
      "W 59\n",
      "https://cdn.shopify.com/s/files/1/0773/5495/products/PK-1105-14-1_f838e3ff-9768-4ab5-ba79-53b096e2e38b_400x.jpg, https://cdn.shopify.com/s/files/1/0773/5495/products/PK-1105-14-2_400x.jpg, https://cdn.shopify.com/s/files/1/0773/5495/products/PK-1105-14-3_400x.jpg, https://cdn.shopify.com/s/files/1/0773/5495/products/PK-1105-14_400x.jpg\n",
      "***********************************************************\n",
      "URl: https://www.alrugaibfurniture.com/ar/collections/benches/products/tov-oc6431?lshst=collection\n",
      "Cat1: المنزل \n",
      "Cat2: مقاعد\n",
      "Cat3: \n",
      "Cas3\n",
      "H 19.7\n",
      "L 25.6\n",
      "W 56.3\n",
      "Title: Welsh Faux Shearling Bench\n",
      "Price: 1,661.00\n",
      "Price old: 1,955.00\n",
      "ollection: TOV\n",
      "Description: \n",
      "Colors: \n",
      "URl: https://www.alrugaibfurniture.com/ar/collections/benches/products/tov-oc6431?lshst=collection\n",
      "Sku: TOV-OC6431\n",
      "H 19.7\n",
      "L 25.6\n",
      "W 56.3\n",
      "https://cdn.shopify.com/s/files/1/0773/5495/products/TOV-OC6431_4-1-600x600_400x.jpg\n",
      "***********************************************************\n",
      "URl: https://www.alrugaibfurniture.com/ar/collections/benches/products/karline-bench?lshst=collection\n",
      "Cat1: المنزل \n",
      "Cat2: مقاعد\n",
      "Cat3: \n",
      "Cas4\n",
      "Change inches to cm\n",
      "H 48.26\n",
      "L 43.18\n",
      "W 106.68\n",
      "Title: KARLINE BENCH\n",
      "Price: 2,972.75\n",
      "Price old: \n",
      "ollection: UTTERMOST\n",
      "Description: \n",
      "Colors: \n",
      "URl: https://www.alrugaibfurniture.com/ar/collections/benches/products/karline-bench?lshst=collection\n",
      "Sku: 23075-UTT\n",
      "H 48.26\n",
      "L 43.18\n",
      "W 106.68\n",
      "https://cdn.shopify.com/s/files/1/0773/5495/products/23075_400x.jpg\n",
      "***********************************************************\n",
      "URl: https://www.alrugaibfurniture.com/ar/collections/benches/products/nomo-sheepskin-bench?lshst=collection\n",
      "Cat1: المنزل \n",
      "Cat2: مقاعد\n",
      "Cat3: \n",
      "else\n",
      "H \n",
      "L \n",
      "W \n",
      "Title: Nomo Sheepskin Bench\n",
      "Price: 1,021.00\n",
      "Price old: 1,201.75\n",
      "ollection: TOV\n",
      "Description: \n",
      "Colors: \n",
      "URl: https://www.alrugaibfurniture.com/ar/collections/benches/products/nomo-sheepskin-bench?lshst=collection\n",
      "Sku: TOV-O77\n",
      "H \n",
      "L \n",
      "W \n",
      "https://cdn.shopify.com/s/files/1/0773/5495/products/TOV-O77_3_400x.jpg, https://cdn.shopify.com/s/files/1/0773/5495/products/TOV-O771_400x.jpg\n",
      "***********************************************************\n",
      "URl: https://www.alrugaibfurniture.com/ar/collections/benches/products/tov-oc6464?lshst=collection\n",
      "Cat1: المنزل \n",
      "Cat2: مقاعد\n",
      "Cat3: \n",
      "Cas1\n",
      "H 16.5 بوصة\n",
      "L 14.8 بوصة\n",
      "W \n",
      "Title: مقعد تخزين Ziva Plum Velvet\n",
      "Price: 558.90\n",
      "Price old: \n",
      "ollection: TOV\n",
      "Description: \n",
      "Colors: \n",
      "URl: https://www.alrugaibfurniture.com/ar/collections/benches/products/tov-oc6464?lshst=collection\n",
      "Sku: TOV-OC6464\n",
      "H 16.5 بوصة\n",
      "L 14.8 بوصة\n",
      "W \n",
      "https://cdn.shopify.com/s/files/1/0773/5495/products/TOV-OC6464-TOV-B6338-600x600_1_400x.jpg, https://cdn.shopify.com/s/files/1/0773/5495/products/VWF19A230M-FUSRF88-14-4-1-600x600_400x.jpg\n",
      "***********************************************************\n",
      "URl: https://www.alrugaibfurniture.com/ar/collections/benches/products/claira-grey-lucite-bench?lshst=collection\n",
      "Cat1: المنزل \n",
      "Cat2: مقاعد\n",
      "Cat3: \n",
      "else\n",
      "H \n",
      "L \n",
      "W \n",
      "Title: Claira Grey Lucite Bench\n",
      "Price: 2,294.25\n",
      "Price old: \n",
      "ollection: TOV\n",
      "Description: \n",
      "Colors: \n",
      "URl: https://www.alrugaibfurniture.com/ar/collections/benches/products/claira-grey-lucite-bench?lshst=collection\n",
      "Sku: TOV-O37\n",
      "H \n",
      "L \n",
      "W \n",
      "https://cdn.shopify.com/s/files/1/0773/5495/products/TOV-O37_400x.jpg\n",
      "***********************************************************\n",
      "URl: https://www.alrugaibfurniture.com/ar/collections/benches/products/firth-bench?lshst=collection\n",
      "Cat1: المنزل \n",
      "Cat2: مقاعد\n",
      "Cat3: \n",
      "Cas4\n",
      "Change inches to cm\n",
      "H 53.34\n",
      "L 40.64\n",
      "W 121.92\n",
      "Title: Firth Bench\n",
      "Price: 2,587.50\n",
      "Price old: \n",
      "ollection: UTTERMOST\n",
      "Description: \n",
      "Colors: \n",
      "URl: https://www.alrugaibfurniture.com/ar/collections/benches/products/firth-bench?lshst=collection\n",
      "Sku: 23528-UTT\n",
      "H 53.34\n",
      "L 40.64\n",
      "W 121.92\n",
      "https://cdn.shopify.com/s/files/1/0773/5495/products/23528_400x.jpg\n",
      "***********************************************************\n",
      "URl: https://www.alrugaibfurniture.com/ar/collections/benches/products/tov-o64?lshst=collection\n",
      "Cat1: المنزل \n",
      "Cat2: مقاعد\n",
      "Cat3: \n",
      "Cas3\n",
      "H 18.5\n",
      "L 16.5\n",
      "W 41\n",
      "Title: Sherpa Sheepskin Bench with Gold Legs\n",
      "Price: 3,092.35\n",
      "Price old: \n",
      "ollection: TOV\n",
      "Description: \n",
      "Colors: \n",
      "URl: https://www.alrugaibfurniture.com/ar/collections/benches/products/tov-o64?lshst=collection\n",
      "Sku: TOV-O64\n",
      "H 18.5\n",
      "L 16.5\n",
      "W 41\n",
      "\n",
      "***********************************************************\n",
      "URl: https://www.alrugaibfurniture.com/ar/collections/benches/products/diva-white-vegan-leather-bench?lshst=collection\n",
      "Cat1: المنزل \n",
      "Cat2: مقاعد\n",
      "Cat3: \n",
      "Cas3\n",
      "H 15.7\n",
      "L 13.7\n",
      "W 13.7\n",
      "Title: Diva White Vegan Leather Bench\n",
      "Price: 1,477.75\n",
      "Price old: \n",
      "ollection: TOV\n",
      "Description: \n",
      "Colors: \n",
      "URl: https://www.alrugaibfurniture.com/ar/collections/benches/products/diva-white-vegan-leather-bench?lshst=collection\n",
      "Sku: TOV-OC3714\n",
      "H 15.7\n",
      "L 13.7\n",
      "W 13.7\n",
      "\n",
      "***********************************************************\n",
      "URl: https://www.alrugaibfurniture.com/ar/collections/benches/products/blue-and-gold-velveteen-bench-x-legs-kd?lshst=collection\n",
      "Cat1: المنزل \n",
      "Cat2: مقاعد\n",
      "Cat3: \n",
      "Cas4\n",
      "H 18\n",
      "L 39\n",
      "W 18\n",
      "Title: Blue and Gold Velveteen Bench, X Legs, Kd\n",
      "Price: 1,086.75\n",
      "Price old: \n",
      "ollection: SAGEBROOK HOME\n",
      "Description: \n",
      "Colors: \n",
      "URl: https://www.alrugaibfurniture.com/ar/collections/benches/products/blue-and-gold-velveteen-bench-x-legs-kd?lshst=collection\n",
      "Sku: 13478-01\n",
      "H 18\n",
      "L 39\n",
      "W 18\n",
      "\n",
      "***********************************************************\n",
      "URl: https://www.alrugaibfurniture.com/ar/collections/benches/products/bernhardt-interiors-bench-375-508?lshst=collection\n",
      "Cat1: المنزل \n",
      "Cat2: مقاعد\n",
      "Cat3: \n",
      "Cas2\n",
      "H 18 (45.7 )\n",
      "L 18 (45.7 )\n",
      "W 28 (71.1 )\n",
      "Title: Bernhardt Interiors Bench 375-508\n",
      "Price: 2,779.84\n",
      "Price old: 5,054.25\n",
      "ollection: برنهاردت\n",
      "Description: \n",
      "Colors: \n",
      "URl: https://www.alrugaibfurniture.com/ar/collections/benches/products/bernhardt-interiors-bench-375-508?lshst=collection\n",
      "Sku: 375-508\n",
      "H 18 (45.7 )\n",
      "L 18 (45.7 )\n",
      "W 28 (71.1 )\n",
      "\n",
      "***********************************************************\n",
      "URl: https://www.alrugaibfurniture.com/ar/collections/benches/products/firth-small-bench?lshst=collection\n",
      "Cat1: المنزل \n",
      "Cat2: مقاعد\n",
      "Cat3: \n",
      "Cas4\n",
      "Change inches to cm\n",
      "H 53.34\n",
      "L 40.64\n",
      "W 60.96\n",
      "Title: Firth Small Bench\n",
      "Price: 1,679.00\n",
      "Price old: \n",
      "ollection: UTTERMOST\n",
      "Description: \n",
      "Colors: \n",
      "URl: https://www.alrugaibfurniture.com/ar/collections/benches/products/firth-small-bench?lshst=collection\n",
      "Sku: 23566-UTT\n",
      "H 53.34\n",
      "L 40.64\n",
      "W 60.96\n",
      "https://cdn.shopify.com/s/files/1/0773/5495/products/23566_400x.jpg\n",
      "***********************************************************\n",
      "URl: https://www.alrugaibfurniture.com/ar/collections/benches/products/zelia-small-bench?lshst=collection\n",
      "Cat1: المنزل \n",
      "Cat2: مقاعد\n",
      "Cat3: \n",
      "Cas4\n",
      "Change inches to cm\n",
      "H 50.8\n",
      "L 40.64\n",
      "W 60.96\n",
      "Title: Zelia Small Bench\n",
      "Price: 1,489.25\n",
      "Price old: \n",
      "ollection: UTTERMOST\n",
      "Description: \n",
      "Colors: \n",
      "URl: https://www.alrugaibfurniture.com/ar/collections/benches/products/zelia-small-bench?lshst=collection\n",
      "Sku: 23410-UTT\n",
      "H 50.8\n",
      "L 40.64\n",
      "W 60.96\n",
      "https://cdn.shopify.com/s/files/1/0773/5495/products/23410_400x.jpg\n",
      "***********************************************************\n",
      "URl: https://www.alrugaibfurniture.com/ar/collections/benches/products/leggett-bench?lshst=collection\n",
      "Cat1: المنزل \n",
      "Cat2: مقاعد\n",
      "Cat3: \n",
      "Cas4\n",
      "Change inches to cm\n",
      "H 48.26\n",
      "L 48.26\n",
      "W 144.78\n",
      "Title: Leggett Bench\n",
      "Price: 2,742.75\n",
      "Price old: \n",
      "ollection: UTTERMOST\n",
      "Description: \n",
      "Colors: \n",
      "URl: https://www.alrugaibfurniture.com/ar/collections/benches/products/leggett-bench?lshst=collection\n",
      "Sku: 23196-UTT\n",
      "H 48.26\n",
      "L 48.26\n",
      "W 144.78\n",
      "https://cdn.shopify.com/s/files/1/0773/5495/products/23196-UTT_400x.jpg, https://cdn.shopify.com/s/files/1/0773/5495/products/23196-UTT-1_400x.jpg, https://cdn.shopify.com/s/files/1/0773/5495/products/23196-UTT-2_400x.jpg\n"
     ]
    },
    {
     "name": "stdout",
     "output_type": "stream",
     "text": [
      "***********************************************************\n",
      "URl: https://www.alrugaibfurniture.com/ar/collections/benches/products/viera-bench?lshst=collection\n",
      "Cat1: المنزل \n",
      "Cat2: مقاعد\n",
      "Cat3: \n",
      "Cas4\n",
      "Change inches to cm\n",
      "H 50.8\n",
      "L 43.18\n",
      "W 106.68\n",
      "Title: Viera Bench\n",
      "Price: 2,380.50\n",
      "Price old: \n",
      "ollection: UTTERMOST\n",
      "Description: \n",
      "Colors: \n",
      "URl: https://www.alrugaibfurniture.com/ar/collections/benches/products/viera-bench?lshst=collection\n",
      "Sku: 23099-UTT\n",
      "H 50.8\n",
      "L 43.18\n",
      "W 106.68\n",
      "https://cdn.shopify.com/s/files/1/0773/5495/products/23099_400x.jpg\n",
      "***********************************************************\n",
      "URl: https://www.alrugaibfurniture.com/ar/collections/benches/products/don-metal-bench?lshst=collection\n",
      "Cat1: المنزل \n",
      "Cat2: مقاعد\n",
      "Cat3: \n",
      "else\n",
      "H \n",
      "L \n",
      "W \n",
      "Title: DON METAL BENCH\n",
      "Price: 1,201.75\n",
      "Price old: \n",
      "ollection: IMAX CORPORATION\n",
      "Description: \n",
      "Colors: \n",
      "URl: https://www.alrugaibfurniture.com/ar/collections/benches/products/don-metal-bench?lshst=collection\n",
      "Sku: 85480\n",
      "H \n",
      "L \n",
      "W \n",
      "\n",
      "***********************************************************\n",
      "URl: https://www.alrugaibfurniture.com/ar/collections/benches/products/upholstered-bench?lshst=collection\n",
      "Cat1: المنزل \n",
      "Cat2: مقاعد\n",
      "Cat3: \n",
      "else\n",
      "H \n",
      "L \n",
      "W \n",
      "Title: Upholstered Bench\n",
      "Price: 3,108.45\n",
      "Price old: \n",
      "ollection: HOOKER\n",
      "Description: \n",
      "Colors: \n",
      "URl: https://www.alrugaibfurniture.com/ar/collections/benches/products/upholstered-bench?lshst=collection\n",
      "Sku: 1600-50006-DKW\n",
      "H \n",
      "L \n",
      "W \n",
      "\n",
      "***********************************************************\n",
      "URl: https://www.alrugaibfurniture.com/ar/collections/benches/products/appa-bench?lshst=collection\n",
      "Cat1: المنزل \n",
      "Cat2: مقاعد\n",
      "Cat3: \n",
      "else\n",
      "H \n",
      "L \n",
      "W \n",
      "Title: مقعد آبا\n",
      "Price: 2,734.70\n",
      "Price old: \n",
      "ollection: مو\"ز\n",
      "Description: \n",
      "Colors: \n",
      "URl: https://www.alrugaibfurniture.com/ar/collections/benches/products/appa-bench?lshst=collection\n",
      "Sku: OT-1006-30\n",
      "H \n",
      "L \n",
      "W \n",
      "https://cdn.shopify.com/s/files/1/0773/5495/products/ot-1006-30_2_400x.jpg, https://cdn.shopify.com/s/files/1/0773/5495/products/ot-1006-30_1_400x.jpg, https://cdn.shopify.com/s/files/1/0773/5495/products/ot-1006-30_395ef1f8-e6b5-446f-afe2-4b1191208868_400x.jpg\n",
      "***********************************************************\n",
      "URl: https://www.alrugaibfurniture.com/ar/collections/benches/products/tov-o56?lshst=collection\n",
      "Cat1: المنزل \n",
      "Cat2: مقاعد\n",
      "Cat3: \n",
      "Cas3\n",
      "H 18.3\n",
      "L 18.5\n",
      "W 48.8\n",
      "Title: Sal Woven Navy Velvet Bench\n",
      "Price: 2,586.35\n",
      "Price old: \n",
      "ollection: TOV\n",
      "Description: \n",
      "Colors: \n",
      "URl: https://www.alrugaibfurniture.com/ar/collections/benches/products/tov-o56?lshst=collection\n",
      "Sku: TOV-O56\n",
      "H 18.3\n",
      "L 18.5\n",
      "W 48.8\n",
      "\n",
      "***********************************************************\n",
      "URl: https://www.alrugaibfurniture.com/ar/collections/benches/products/tov-oc6379?lshst=collection\n",
      "Cat1: المنزل \n",
      "Cat2: مقاعد\n",
      "Cat3: \n",
      "Cas3\n",
      "H 18.1\n",
      "L 18.9\n",
      "W 48.8\n",
      "Title: Kenya Light Grey Velvet Bench\n",
      "Price: 2,173.50\n",
      "Price old: \n",
      "ollection: TOV\n",
      "Description: \n",
      "Colors: \n",
      "URl: https://www.alrugaibfurniture.com/ar/collections/benches/products/tov-oc6379?lshst=collection\n",
      "Sku: TOV-OC6379\n",
      "H 18.1\n",
      "L 18.9\n",
      "W 48.8\n",
      "\n",
      "***********************************************************\n",
      "URl: https://www.alrugaibfurniture.com/ar/collections/benches/products/tov-o28?lshst=collection\n",
      "Cat1: المنزل \n",
      "Cat2: مقاعد\n",
      "Cat3: \n",
      "Cas3\n",
      "H 17.15\n",
      "L 16.15\n",
      "W 53.5\n",
      "Title: Envy Brown Leather/Acrylic Bench\n",
      "Price: 2,049.30\n",
      "Price old: \n",
      "ollection: TOV\n",
      "Description: \n",
      "Colors: \n",
      "URl: https://www.alrugaibfurniture.com/ar/collections/benches/products/tov-o28?lshst=collection\n",
      "Sku: TOV-O28\n",
      "H 17.15\n",
      "L 16.15\n",
      "W 53.5\n",
      "\n",
      "***********************************************************\n",
      "URl: https://www.alrugaibfurniture.com/ar/collections/benches/products/diva-grey-velvet-bench?lshst=collection\n",
      "Cat1: المنزل \n",
      "Cat2: مقاعد\n",
      "Cat3: \n",
      "Cas3\n",
      "H 15.7\n",
      "L 13.7\n",
      "W 13.7\n",
      "Title: Diva Grey Velvet Bench\n",
      "Price: 1,366.20\n",
      "Price old: \n",
      "ollection: TOV\n",
      "Description: \n",
      "Colors: \n",
      "URl: https://www.alrugaibfurniture.com/ar/collections/benches/products/diva-grey-velvet-bench?lshst=collection\n",
      "Sku: TOV-OC5510\n",
      "H 15.7\n",
      "L 13.7\n",
      "W 13.7\n",
      "\n",
      "***********************************************************\n",
      "URl: https://www.alrugaibfurniture.com/ar/collections/benches/products/delilah-grey-velvet-bench?lshst=collection\n",
      "Cat1: المنزل \n",
      "Cat2: مقاعد\n",
      "Cat3: \n",
      "Cas3\n",
      "H 17.5\n",
      "L 18.1\n",
      "W 55.1\n",
      "Title: Delilah Grey Velvet Bench\n",
      "Price: 1,615.00\n",
      "Price old: 1,900.00\n",
      "ollection: TOV\n",
      "Description: \n",
      "Colors: \n",
      "URl: https://www.alrugaibfurniture.com/ar/collections/benches/products/delilah-grey-velvet-bench?lshst=collection\n",
      "Sku: TOV-O6269\n",
      "H 17.5\n",
      "L 18.1\n",
      "W 55.1\n",
      "\n",
      "***********************************************************\n",
      "URl: https://www.alrugaibfurniture.com/ar/collections/benches/products/delilah-blush-textured-velvet-bench?lshst=collection\n",
      "Cat1: المنزل \n",
      "Cat2: مقاعد\n",
      "Cat3: \n",
      "Cas3\n",
      "H 17.5\n",
      "L 18.1\n",
      "W 55.1\n",
      "Title: Delilah Blush Textured Velvet Bench\n",
      "Price: 1,614.00\n",
      "Price old: 1,899.80\n",
      "ollection: TOV\n",
      "Description: \n",
      "Colors: \n",
      "URl: https://www.alrugaibfurniture.com/ar/collections/benches/products/delilah-blush-textured-velvet-bench?lshst=collection\n",
      "Sku: TOV-O6266\n",
      "H 17.5\n",
      "L 18.1\n",
      "W 55.1\n",
      "\n",
      "***********************************************************\n",
      "URl: https://www.alrugaibfurniture.com/ar/collections/benches/products/churra-white-sheepskin-bench-with-gold-legs?lshst=collection\n",
      "Cat1: المنزل \n",
      "Cat2: مقاعد\n",
      "Cat3: \n",
      "Cas3\n",
      "H 17.4\n",
      "L 18\n",
      "W 44.1\n",
      "Title: Churra White Sheepskin Bench with Gold Legs\n",
      "Price: 2,523.00\n",
      "Price old: 2,968.15\n",
      "ollection: TOV\n",
      "Description: \n",
      "Colors: \n",
      "URl: https://www.alrugaibfurniture.com/ar/collections/benches/products/churra-white-sheepskin-bench-with-gold-legs?lshst=collection\n",
      "Sku: TOV-O88\n",
      "H 17.4\n",
      "L 18\n",
      "W 44.1\n",
      "\n",
      "***********************************************************\n",
      "URl: https://www.alrugaibfurniture.com/ar/collections/benches/products/modern-upholstery-end-to-end?lshst=collection\n",
      "Cat1: المنزل \n",
      "Cat2: مقاعد\n",
      "Cat3: \n",
      "else\n",
      "H \n",
      "L \n",
      "W \n",
      "Title: مودرن ابهولستري - اريكة\n",
      "Price: 4,766.75\n",
      "Price old: \n",
      "ollection: كاراكول\n",
      "Description: \n",
      "Colors: \n",
      "URl: https://www.alrugaibfurniture.com/ar/collections/benches/products/modern-upholstery-end-to-end?lshst=collection\n",
      "Sku: M090-018-071-A\n",
      "H \n",
      "L \n",
      "W \n",
      "https://cdn.shopify.com/s/files/1/0773/5495/products/M090-018-071-A_c8413ebb-9150-45ed-950d-1a0880c03c38_400x.jpg\n",
      "***********************************************************\n",
      "URl: https://www.alrugaibfurniture.com/ar/collections/benches/products/ashley-bench-with-cushion?lshst=collection\n",
      "Cat1: المنزل \n",
      "Cat2: مقاعد\n",
      "Cat3: \n",
      "else\n",
      "H \n",
      "L \n",
      "W \n",
      "Title: مقعد مع وسادة\n",
      "Price: 930.64\n",
      "Price old: 1,431.75\n",
      "ollection: اشلي هومستور\n",
      "Description: \n",
      "Colors: \n",
      "URl: https://www.alrugaibfurniture.com/ar/collections/benches/products/ashley-bench-with-cushion?lshst=collection\n",
      "Sku: P457-600\n",
      "H \n",
      "L \n",
      "W \n",
      "https://cdn.shopify.com/s/files/1/0773/5495/products/P457-625-MOOD-E_400x.jpg, https://cdn.shopify.com/s/files/1/0773/5495/products/P457-625-601A_4_-600_400x.jpg, https://cdn.shopify.com/s/files/1/0773/5495/products/P457-600-SW-P1-KO_400x.jpg, https://cdn.shopify.com/s/files/1/0773/5495/products/P457-625-601A_4_-600-SW-P1-KO_400x.jpg, https://cdn.shopify.com/s/files/1/0773/5495/products/P457-600-Moresdale-DIM_400x.jpg\n",
      "***********************************************************\n",
      "URl: https://www.alrugaibfurniture.com/ar/collections/benches/products/vanity-benches-fabric-black-1?lshst=collection\n",
      "Cat1: المنزل \n",
      "Cat2: مقاعد\n",
      "Cat3: \n",
      "Cas2\n",
      "H 45.72\n",
      "L 45.72\n",
      "W 99.06\n",
      "Title: Vanity Benches Fabric, Black\n",
      "Price: 1,086.75\n",
      "Price old: \n",
      "ollection: SAGEBROOK HOME\n",
      "Description: \n",
      "Colors: \n",
      "URl: https://www.alrugaibfurniture.com/ar/collections/benches/products/vanity-benches-fabric-black-1?lshst=collection\n",
      "Sku: 13479-02\n",
      "H 45.72\n",
      "L 45.72\n",
      "W 99.06\n",
      "\n",
      "***********************************************************\n",
      "URl: https://www.alrugaibfurniture.com/ar/collections/benches/products/velveteen-bench?lshst=collection\n",
      "Cat1: المنزل \n",
      "Cat2: مقاعد\n",
      "Cat3: \n",
      "else\n",
      "H \n",
      "L \n",
      "W \n",
      "Title: Velveteen Bench\n",
      "Price: 1,086.75\n",
      "Price old: \n",
      "ollection: SAGEBROOK HOME\n",
      "Description: \n",
      "Colors: \n",
      "URl: https://www.alrugaibfurniture.com/ar/collections/benches/products/velveteen-bench?lshst=collection\n",
      "Sku: 13478-02\n",
      "H \n",
      "L \n",
      "W \n",
      "\n",
      "***********************************************************\n",
      "URl: https://www.alrugaibfurniture.com/ar/collections/benches/products/vanity-benches-fabric-black?lshst=collection\n",
      "Cat1: المنزل \n",
      "Cat2: مقاعد\n",
      "Cat3: \n",
      "Cas2\n",
      "H 45.72\n",
      "L 45.72\n",
      "W 99.06\n",
      "Title: Vanity Benches Fabric, Black\n",
      "Price: 1,086.75\n",
      "Price old: \n",
      "ollection: SAGEBROOK HOME\n",
      "Description: \n",
      "Colors: \n",
      "URl: https://www.alrugaibfurniture.com/ar/collections/benches/products/vanity-benches-fabric-black?lshst=collection\n",
      "Sku: 13479-03\n",
      "H 45.72\n",
      "L 45.72\n",
      "W 99.06\n",
      "\n"
     ]
    },
    {
     "name": "stdout",
     "output_type": "stream",
     "text": [
      "***********************************************************\n",
      "URl: https://www.alrugaibfurniture.com/ar/collections/benches/products/benches-fabric-black-13480-04?lshst=collection\n",
      "Cat1: المنزل \n",
      "Cat2: مقاعد\n",
      "Cat3: \n",
      "Cas2\n",
      "H 43.18\n",
      "L 58.42\n",
      "W 58.42\n",
      "Title: Benches Fabric, Black - 13480-04\n",
      "Price: 1,144.25\n",
      "Price old: \n",
      "ollection: SAGEBROOK HOME\n",
      "Description: \n",
      "Colors: \n",
      "URl: https://www.alrugaibfurniture.com/ar/collections/benches/products/benches-fabric-black-13480-04?lshst=collection\n",
      "Sku: 13480-04\n",
      "H 43.18\n",
      "L 58.42\n",
      "W 58.42\n",
      "\n",
      "***********************************************************\n",
      "URl: https://www.alrugaibfurniture.com/ar/collections/benches/products/benches-fabric-blue?lshst=collection\n",
      "Cat1: المنزل \n",
      "Cat2: مقاعد\n",
      "Cat3: \n",
      "Cas2\n",
      "H 43.18\n",
      "L 58.42\n",
      "W 58.42\n",
      "Title: Benches Fabric, Blue\n",
      "Price: 1,144.25\n",
      "Price old: \n",
      "ollection: SAGEBROOK HOME\n",
      "Description: \n",
      "Colors: \n",
      "URl: https://www.alrugaibfurniture.com/ar/collections/benches/products/benches-fabric-blue?lshst=collection\n",
      "Sku: 13480-01\n",
      "H 43.18\n",
      "L 58.42\n",
      "W 58.42\n",
      "\n",
      "***********************************************************\n",
      "URl: https://www.alrugaibfurniture.com/ar/collections/benches/products/benches-fabric-black-12800-06?lshst=collection\n",
      "Cat1: المنزل \n",
      "Cat2: مقاعد\n",
      "Cat3: \n",
      "Cas2\n",
      "H 40.64\n",
      "L 53.34\n",
      "W 63.5\n",
      "Title: Benches Fabric, Black - 12800-06\n",
      "Price: 1,144.25\n",
      "Price old: \n",
      "ollection: SAGEBROOK HOME\n",
      "Description: \n",
      "Colors: \n",
      "URl: https://www.alrugaibfurniture.com/ar/collections/benches/products/benches-fabric-black-12800-06?lshst=collection\n",
      "Sku: 12800-05\n",
      "H 40.64\n",
      "L 53.34\n",
      "W 63.5\n",
      "\n",
      "***********************************************************\n",
      "URl: https://www.alrugaibfurniture.com/ar/collections/benches/products/vanity-benches-fabric-grey-13475-03?lshst=collection\n",
      "Cat1: المنزل \n",
      "Cat2: مقاعد\n",
      "Cat3: \n",
      "Cas2\n",
      "H 45.72\n",
      "L 50.8\n",
      "W 99.06\n",
      "Title: Vanity Benches Fabric, Grey - 13475-03\n",
      "Price: 2,409.25\n",
      "Price old: \n",
      "ollection: SAGEBROOK HOME\n",
      "Description: \n",
      "Colors: \n",
      "URl: https://www.alrugaibfurniture.com/ar/collections/benches/products/vanity-benches-fabric-grey-13475-03?lshst=collection\n",
      "Sku: 13475-03\n",
      "H 45.72\n",
      "L 50.8\n",
      "W 99.06\n",
      "\n",
      "***********************************************************\n",
      "URl: https://www.alrugaibfurniture.com/ar/collections/benches/products/vanity-benches-fabric-blue?lshst=collection\n",
      "Cat1: المنزل \n",
      "Cat2: مقاعد\n",
      "Cat3: \n",
      "Cas2\n",
      "H 45.27\n",
      "L 50.8\n",
      "W 99\n",
      "Title: Vanity Benches Fabric, Blue\n",
      "Price: 2,409.25\n",
      "Price old: \n",
      "ollection: SAGEBROOK HOME\n",
      "Description: \n",
      "Colors: \n",
      "URl: https://www.alrugaibfurniture.com/ar/collections/benches/products/vanity-benches-fabric-blue?lshst=collection\n",
      "Sku: 13475-01\n",
      "H 45.27\n",
      "L 50.8\n",
      "W 99\n",
      "\n",
      "***********************************************************\n",
      "URl: https://www.alrugaibfurniture.com/ar/collections/benches/products/uttermost-evert-small-bench?lshst=collection\n",
      "Cat1: المنزل \n",
      "Cat2: مقاعد\n",
      "Cat3: \n",
      "else\n",
      "H \n",
      "L \n",
      "W \n",
      "Title: Evert Small Bench\n",
      "Price: 1,679.00\n",
      "Price old: \n",
      "ollection: UTTERMOST\n",
      "Description: \n",
      "Colors: \n",
      "URl: https://www.alrugaibfurniture.com/ar/collections/benches/products/uttermost-evert-small-bench?lshst=collection\n",
      "Sku: 23398-UTT\n",
      "H \n",
      "L \n",
      "W \n",
      "\n",
      "***********************************************************\n",
      "URl: https://www.alrugaibfurniture.com/ar/collections/benches/products/beauland-accent-bench?lshst=collection\n",
      "Cat1: المنزل \n",
      "Cat2: مقاعد\n",
      "Cat3: \n",
      "Cas2\n",
      "H 41.38\n",
      "L 29.00\n",
      "W 43.63\n",
      "Title: Beauland Accent Bench\n",
      "Price: 1,791.55\n",
      "Price old: 2,226.93\n",
      "ollection: اشلي هومستور\n",
      "Description: \n",
      "Colors: \n",
      "URl: https://www.alrugaibfurniture.com/ar/collections/benches/products/beauland-accent-bench?lshst=collection\n",
      "Sku: A3000116\n",
      "H 41.38\n",
      "L 29.00\n",
      "W 43.63\n",
      "https://cdn.shopify.com/s/files/1/0773/5495/products/A3000116-Beauland-DIM_400x.jpg\n",
      "***********************************************************\n",
      "URl: https://www.alrugaibfurniture.com/ar/collections/benches/products/uphill-climb-bench?lshst=collection\n",
      "Cat1: المنزل \n",
      "Cat2: مقاعد\n",
      "Cat3: \n",
      "Cas4\n",
      "Change inches to cm\n",
      "H 53.34\n",
      "L 40.64\n",
      "W 121.92\n",
      "Title: Uphill Climb Bench\n",
      "Price: 2,587.50\n",
      "Price old: \n",
      "ollection: UTTERMOST\n",
      "Description: \n",
      "Colors: \n",
      "URl: https://www.alrugaibfurniture.com/ar/collections/benches/products/uphill-climb-bench?lshst=collection\n",
      "Sku: 23565-UTT\n",
      "H 53.34\n",
      "L 40.64\n",
      "W 121.92\n",
      "https://cdn.shopify.com/s/files/1/0773/5495/products/23565-UTT-2_400x.jpg, https://cdn.shopify.com/s/files/1/0773/5495/products/23565-UTT_400x.jpg, https://cdn.shopify.com/s/files/1/0773/5495/products/23565-UTT-3_400x.jpg, https://cdn.shopify.com/s/files/1/0773/5495/products/23565-UTT-4_400x.jpg\n",
      "***********************************************************\n",
      "URl: https://www.alrugaibfurniture.com/ar/collections/benches/products/arne-small-bench?lshst=collection\n",
      "Cat1: المنزل \n",
      "Cat2: مقاعد\n",
      "Cat3: \n",
      "Cas4\n",
      "Change inches to cm\n",
      "H 48.26\n",
      "L 43.18\n",
      "W 55.88\n",
      "Title: Arne Small Bench\n",
      "Price: 1,489.25\n",
      "Price old: \n",
      "ollection: UTTERMOST\n",
      "Description: \n",
      "Colors: \n",
      "URl: https://www.alrugaibfurniture.com/ar/collections/benches/products/arne-small-bench?lshst=collection\n",
      "Sku: 25462-UTT\n",
      "H 48.26\n",
      "L 43.18\n",
      "W 55.88\n",
      "https://cdn.shopify.com/s/files/1/0773/5495/products/25462_3_400x.jpg, https://cdn.shopify.com/s/files/1/0773/5495/products/25462_400x.jpg, https://cdn.shopify.com/s/files/1/0773/5495/products/25462_4_400x.jpg, https://cdn.shopify.com/s/files/1/0773/5495/products/25462_5_400x.jpg, https://cdn.shopify.com/s/files/1/0773/5495/products/25462_6_400x.jpg, https://cdn.shopify.com/s/files/1/0773/5495/products/25462_7_400x.jpg, https://cdn.shopify.com/s/files/1/0773/5495/products/25462_8_400x.jpg, https://cdn.shopify.com/s/files/1/0773/5495/products/25462_9_400x.jpg\n",
      "***********************************************************\n",
      "URl: https://www.alrugaibfurniture.com/ar/collections/benches/products/acai-bench?lshst=collection\n",
      "Cat1: المنزل \n",
      "Cat2: مقاعد\n",
      "Cat3: \n",
      "Cas4\n",
      "Change inches to cm\n",
      "H 40.64\n",
      "L 48.26\n",
      "W 152.4\n",
      "Title: Acai Bench\n",
      "Price: 3,570.75\n",
      "Price old: \n",
      "ollection: UTTERMOST\n",
      "Description: \n",
      "Colors: \n",
      "URl: https://www.alrugaibfurniture.com/ar/collections/benches/products/acai-bench?lshst=collection\n",
      "Sku: 25118-UTT\n",
      "H 40.64\n",
      "L 48.26\n",
      "W 152.4\n",
      "https://cdn.shopify.com/s/files/1/0773/5495/products/25118_400x.jpg, https://cdn.shopify.com/s/files/1/0773/5495/products/25118_3_400x.jpg, https://cdn.shopify.com/s/files/1/0773/5495/products/25118_4_400x.jpg, https://cdn.shopify.com/s/files/1/0773/5495/products/25118_5_400x.jpg\n",
      "***********************************************************\n",
      "URl: https://www.alrugaibfurniture.com/ar/collections/benches/products/herbert-bench?lshst=collection\n",
      "Cat1: المنزل \n",
      "Cat2: مقاعد\n",
      "Cat3: \n",
      "Cas4\n",
      "Change inches to cm\n",
      "H 66.04\n",
      "L 53.34\n",
      "W 203.2\n",
      "Title: Herbert Bench\n",
      "Price: 2,443.75\n",
      "Price old: \n",
      "ollection: UTTERMOST\n",
      "Description: \n",
      "Colors: \n",
      "URl: https://www.alrugaibfurniture.com/ar/collections/benches/products/herbert-bench?lshst=collection\n",
      "Sku: 24701-UTT\n",
      "H 66.04\n",
      "L 53.34\n",
      "W 203.2\n",
      "https://cdn.shopify.com/s/files/1/0773/5495/products/24701-UTT_400x.jpg, https://cdn.shopify.com/s/files/1/0773/5495/products/24701-UTT-1_100x.jpg, https://cdn.shopify.com/s/files/1/0773/5495/products/24701-UTT-2_400x.jpg\n",
      "***********************************************************\n",
      "URl: https://www.alrugaibfurniture.com/ar/collections/benches/products/stratford-bench?lshst=collection\n",
      "Cat1: المنزل \n",
      "Cat2: مقاعد\n",
      "Cat3: \n",
      "Cas4\n",
      "Change inches to cm\n",
      "H 48.26\n",
      "L 38.1\n",
      "W 193.04\n",
      "Title: Stratford Bench\n",
      "Price: 3,864.00\n",
      "Price old: \n",
      "ollection: UTTERMOST\n",
      "Description: \n",
      "Colors: \n",
      "URl: https://www.alrugaibfurniture.com/ar/collections/benches/products/stratford-bench?lshst=collection\n",
      "Sku: 24558-UTT\n",
      "H 48.26\n",
      "L 38.1\n",
      "W 193.04\n",
      "https://cdn.shopify.com/s/files/1/0773/5495/products/24558-UTT-1_400x.jpg, https://cdn.shopify.com/s/files/1/0773/5495/products/24558-UTT_400x.jpg, https://cdn.shopify.com/s/files/1/0773/5495/products/24558-UTT-2_400x.jpg, https://cdn.shopify.com/s/files/1/0773/5495/products/24558-UTT-3_400x.jpg, https://cdn.shopify.com/s/files/1/0773/5495/products/24558-UTT-4_400x.jpg, https://cdn.shopify.com/s/files/1/0773/5495/products/24558-UTT-5_400x.jpg\n",
      "***********************************************************\n",
      "URl: https://www.alrugaibfurniture.com/ar/collections/benches/products/chavi-small-bench?lshst=collection\n",
      "Cat1: المنزل \n",
      "Cat2: مقاعد\n",
      "Cat3: \n",
      "Cas4\n",
      "Change inches to cm\n",
      "H 48.26\n",
      "L 30.48\n",
      "W 55.88\n",
      "Title: Chavi Small Bench\n",
      "Price: 1,546.75\n",
      "Price old: \n",
      "ollection: UTTERMOST\n",
      "Description: \n",
      "Colors: \n",
      "URl: https://www.alrugaibfurniture.com/ar/collections/benches/products/chavi-small-bench?lshst=collection\n",
      "Sku: 23639-UTT\n",
      "H 48.26\n",
      "L 30.48\n",
      "W 55.88\n",
      "https://cdn.shopify.com/s/files/1/0773/5495/products/23639-UTT_400x.jpg, https://cdn.shopify.com/s/files/1/0773/5495/products/23639-UTT-1_400x.jpg, https://cdn.shopify.com/s/files/1/0773/5495/products/23639-UTT-2_400x.jpg\n"
     ]
    },
    {
     "name": "stdout",
     "output_type": "stream",
     "text": [
      "***********************************************************\n",
      "URl: https://www.alrugaibfurniture.com/ar/collections/benches/products/paradox-small-bench?lshst=collection\n",
      "Cat1: المنزل \n",
      "Cat2: مقاعد\n",
      "Cat3: \n",
      "Cas4\n",
      "Change inches to cm\n",
      "H 53.34\n",
      "L 40.64\n",
      "W 60.96\n",
      "Title: Paradox Small Bench\n",
      "Price: 1,782.50\n",
      "Price old: \n",
      "ollection: UTTERMOST\n",
      "Description: \n",
      "Colors: \n",
      "URl: https://www.alrugaibfurniture.com/ar/collections/benches/products/paradox-small-bench?lshst=collection\n",
      "Sku: 23580-UTT\n",
      "H 53.34\n",
      "L 40.64\n",
      "W 60.96\n",
      "https://cdn.shopify.com/s/files/1/0773/5495/products/23580_400x.jpg\n",
      "***********************************************************\n",
      "URl: https://www.alrugaibfurniture.com/ar/collections/benches/products/cabana-small-bench?lshst=collection\n",
      "Cat1: المنزل \n",
      "Cat2: مقاعد\n",
      "Cat3: \n",
      "Cas4\n",
      "Change inches to cm\n",
      "H 50.8\n",
      "L 40.64\n",
      "W 60.96\n",
      "Title: Cabana Small Bench\n",
      "Price: 1,960.75\n",
      "Price old: \n",
      "ollection: UTTERMOST\n",
      "Description: \n",
      "Colors: \n",
      "URl: https://www.alrugaibfurniture.com/ar/collections/benches/products/cabana-small-bench?lshst=collection\n",
      "Sku: 23581-UTT\n",
      "H 50.8\n",
      "L 40.64\n",
      "W 60.96\n",
      "https://cdn.shopify.com/s/files/1/0773/5495/products/23581_400x.jpg\n",
      "***********************************************************\n",
      "URl: https://www.alrugaibfurniture.com/ar/collections/benches/products/chahna-small-bench?lshst=collection\n",
      "Cat1: المنزل \n",
      "Cat2: مقاعد\n",
      "Cat3: \n",
      "Cas4\n",
      "Change inches to cm\n",
      "H 48.26\n",
      "L 45.72\n",
      "W 55.88\n",
      "Title: Chahna Small Bench\n",
      "Price: 1,788.25\n",
      "Price old: \n",
      "ollection: UTTERMOST\n",
      "Description: \n",
      "Colors: \n",
      "URl: https://www.alrugaibfurniture.com/ar/collections/benches/products/chahna-small-bench?lshst=collection\n",
      "Sku: 23605-UTT\n",
      "H 48.26\n",
      "L 45.72\n",
      "W 55.88\n",
      "https://cdn.shopify.com/s/files/1/0773/5495/products/23605_400x.jpg\n",
      "***********************************************************\n",
      "URl: https://www.alrugaibfurniture.com/ar/collections/benches/products/rancho-small-bench?lshst=collection\n",
      "Cat1: المنزل \n",
      "Cat2: مقاعد\n",
      "Cat3: \n",
      "Cas4\n",
      "Change inches to cm\n",
      "H 48.26\n",
      "L 45.72\n",
      "W 58.42\n",
      "Title: Rancho Small Bench\n",
      "Price: 1,903.25\n",
      "Price old: \n",
      "ollection: UTTERMOST\n",
      "Description: \n",
      "Colors: \n",
      "URl: https://www.alrugaibfurniture.com/ar/collections/benches/products/rancho-small-bench?lshst=collection\n",
      "Sku: 23589-UTT\n",
      "H 48.26\n",
      "L 45.72\n",
      "W 58.42\n",
      "https://cdn.shopify.com/s/files/1/0773/5495/products/23589_400x.jpg\n",
      "***********************************************************\n",
      "URl: https://www.alrugaibfurniture.com/ar/collections/benches/products/estes-small-bench?lshst=collection\n",
      "Cat1: المنزل \n",
      "Cat2: مقاعد\n",
      "Cat3: \n",
      "Cas4\n",
      "Change inches to cm\n",
      "H 48.26\n",
      "L 45.72\n",
      "W 58.42\n",
      "Title: Estes Small Bench\n",
      "Price: 1,960.75\n",
      "Price old: \n",
      "ollection: UTTERMOST\n",
      "Description: \n",
      "Colors: \n",
      "URl: https://www.alrugaibfurniture.com/ar/collections/benches/products/estes-small-bench?lshst=collection\n",
      "Sku: 23568-UTT\n",
      "H 48.26\n",
      "L 45.72\n",
      "W 58.42\n",
      "https://cdn.shopify.com/s/files/1/0773/5495/products/23568_400x.jpg\n",
      "***********************************************************\n",
      "URl: https://www.alrugaibfurniture.com/ar/collections/benches/products/farran-silver-small-bench?lshst=collection\n",
      "Cat1: المنزل \n",
      "Cat2: مقاعد\n",
      "Cat3: \n",
      "Cas4\n",
      "Change inches to cm\n",
      "H 50.8\n",
      "L 40.64\n",
      "W 60.96\n",
      "Title: Farran Silver Small Bench\n",
      "Price: 1,610.00\n",
      "Price old: \n",
      "ollection: UTTERMOST\n",
      "Description: \n",
      "Colors: \n",
      "URl: https://www.alrugaibfurniture.com/ar/collections/benches/products/farran-silver-small-bench?lshst=collection\n",
      "Sku: 23564-UTT\n",
      "H 50.8\n",
      "L 40.64\n",
      "W 60.96\n",
      "https://cdn.shopify.com/s/files/1/0773/5495/products/23564_400x.jpg\n",
      "***********************************************************\n",
      "URl: https://www.alrugaibfurniture.com/ar/collections/benches/products/lismore-small-bench?lshst=collection\n",
      "Cat1: المنزل \n",
      "Cat2: مقاعد\n",
      "Cat3: \n",
      "Cas4\n",
      "Change inches to cm\n",
      "H 48.26\n",
      "L 40.64\n",
      "W 60.96\n",
      "Title: Lismore Small Bench\n",
      "Price: 1,713.50\n",
      "Price old: \n",
      "ollection: UTTERMOST\n",
      "Description: \n",
      "Colors: \n",
      "URl: https://www.alrugaibfurniture.com/ar/collections/benches/products/lismore-small-bench?lshst=collection\n",
      "Sku: 23544-UTT\n",
      "H 48.26\n",
      "L 40.64\n",
      "W 60.96\n",
      "https://cdn.shopify.com/s/files/1/0773/5495/products/23544_400x.jpg\n",
      "***********************************************************\n",
      "URl: https://www.alrugaibfurniture.com/ar/collections/benches/products/braddock-bench?lshst=collection\n",
      "Cat1: المنزل \n",
      "Cat2: مقاعد\n",
      "Cat3: \n",
      "Cas4\n",
      "Change inches to cm\n",
      "H 53.34\n",
      "L 40.64\n",
      "W 121.92\n",
      "Title: Braddock Bench\n",
      "Price: 2,616.25\n",
      "Price old: \n",
      "ollection: UTTERMOST\n",
      "Description: \n",
      "Colors: \n",
      "URl: https://www.alrugaibfurniture.com/ar/collections/benches/products/braddock-bench?lshst=collection\n",
      "Sku: 23527-UTT\n",
      "H 53.34\n",
      "L 40.64\n",
      "W 121.92\n",
      "https://cdn.shopify.com/s/files/1/0773/5495/products/23527_400x.jpg\n",
      "***********************************************************\n",
      "URl: https://www.alrugaibfurniture.com/ar/collections/benches/products/channon-small-bench?lshst=collection\n",
      "Cat1: المنزل \n",
      "Cat2: مقاعد\n",
      "Cat3: \n",
      "else\n",
      "H \n",
      "L \n",
      "W \n",
      "Title: مقعد شانون الصغير\n",
      "Price: 1,483.50\n",
      "Price old: \n",
      "ollection: UTTERMOST\n",
      "Description: \n",
      "Colors: \n",
      "URl: https://www.alrugaibfurniture.com/ar/collections/benches/products/channon-small-bench?lshst=collection\n",
      "Sku: 23496-UTT\n",
      "H \n",
      "L \n",
      "W \n",
      "https://cdn.shopify.com/s/files/1/0773/5495/products/23496_400x.jpg\n",
      "***********************************************************\n",
      "URl: https://www.alrugaibfurniture.com/ar/collections/benches/products/bijou-bench?lshst=collection\n",
      "Cat1: المنزل \n",
      "Cat2: مقاعد\n",
      "Cat3: \n",
      "Cas4\n",
      "Change inches to cm\n",
      "H 50.8\n",
      "L 40.64\n",
      "W 121.92\n",
      "Title: Bijou Bench\n",
      "Price: 3,271.75\n",
      "Price old: \n",
      "ollection: UTTERMOST\n",
      "Description: \n",
      "Colors: \n",
      "URl: https://www.alrugaibfurniture.com/ar/collections/benches/products/bijou-bench?lshst=collection\n",
      "Sku: 23430-UTT\n",
      "H 50.8\n",
      "L 40.64\n",
      "W 121.92\n",
      "https://cdn.shopify.com/s/files/1/0773/5495/products/23430_400x.jpg\n",
      "***********************************************************\n",
      "URl: https://www.alrugaibfurniture.com/ar/collections/benches/products/shea-small-bench?lshst=collection\n",
      "Cat1: المنزل \n",
      "Cat2: مقاعد\n",
      "Cat3: \n",
      "else\n",
      "H \n",
      "L \n",
      "W \n",
      "Title: Shea Small Bench\n",
      "Price: 1,247.75\n",
      "Price old: \n",
      "ollection: UTTERMOST\n",
      "Description: \n",
      "Colors: \n",
      "URl: https://www.alrugaibfurniture.com/ar/collections/benches/products/shea-small-bench?lshst=collection\n",
      "Sku: 23091-UTT\n",
      "H \n",
      "L \n",
      "W \n",
      "\n",
      "***********************************************************\n",
      "URl: https://www.alrugaibfurniture.com/ar/collections/benches/products/brno-white-waived-velvet-bench?lshst=collection\n",
      "Cat1: المنزل \n",
      "Cat2: مقاعد\n",
      "Cat3: \n",
      "else\n",
      "H \n",
      "L \n",
      "W \n",
      "Title: مقعد مخملي BRNO WHITE\n",
      "Price: 2,347.15\n",
      "Price old: \n",
      "ollection: TOV\n",
      "Description: \n",
      "Colors: \n",
      "URl: https://www.alrugaibfurniture.com/ar/collections/benches/products/brno-white-waived-velvet-bench?lshst=collection\n",
      "Sku: TOV-OC6207\n",
      "H \n",
      "L \n",
      "W \n",
      "https://cdn.shopify.com/s/files/1/0773/5495/products/TOV-OC6207-5-600x600_400x.jpg, https://cdn.shopify.com/s/files/1/0773/5495/products/TOV-OC6207-3-1-600x580_400x.jpg\n",
      "***********************************************************\n",
      "URl: https://www.alrugaibfurniture.com/ar/collections/benches/products/katie-bench-dark-green?lshst=collection\n",
      "Cat1: المنزل \n",
      "Cat2: مقاعد\n",
      "Cat3: \n",
      "Cas4\n",
      "H 19.5\n",
      "L 20\n",
      "W 59\n",
      "Title: Katie Bench Dark Green\n",
      "Price: 2,451.80\n",
      "Price old: \n",
      "ollection: مو\"ز\n",
      "Description: \n",
      "Colors: \n",
      "URl: https://www.alrugaibfurniture.com/ar/collections/benches/products/katie-bench-dark-green?lshst=collection\n",
      "Sku: ZT-1026-27\n",
      "H 19.5\n",
      "L 20\n",
      "W 59\n",
      "https://cdn.shopify.com/s/files/1/0773/5495/products/ZT-1026-27-1_400x.jpg, https://cdn.shopify.com/s/files/1/0773/5495/products/ZT-1026-27-2_400x.jpg, https://cdn.shopify.com/s/files/1/0773/5495/products/ZT-1026-27-3_400x.jpg, https://cdn.shopify.com/s/files/1/0773/5495/products/ZT-1026-27-4_400x.jpg, https://cdn.shopify.com/s/files/1/0773/5495/products/ZT-1026-27-5_400x.jpg, https://cdn.shopify.com/s/files/1/0773/5495/products/ZT-1026-27-6_400x.jpg\n",
      "***********************************************************\n",
      "URl: https://www.alrugaibfurniture.com/ar/collections/benches/products/katie-bench-grey?lshst=collection\n",
      "Cat1: المنزل \n",
      "Cat2: مقاعد\n",
      "Cat3: \n",
      "Cas4\n",
      "H 19.5\n",
      "L 20\n",
      "W 59\n",
      "Title: Katie Bench Grey\n",
      "Price: 2,451.80\n",
      "Price old: \n",
      "ollection: مو\"ز\n",
      "Description: \n",
      "Colors: \n",
      "URl: https://www.alrugaibfurniture.com/ar/collections/benches/products/katie-bench-grey?lshst=collection\n",
      "Sku: ZT-1026-15\n",
      "H 19.5\n",
      "L 20\n",
      "W 59\n",
      "https://cdn.shopify.com/s/files/1/0773/5495/products/ZT-1026-15-2_400x.jpg, https://cdn.shopify.com/s/files/1/0773/5495/products/ZT-1026-15-3_400x.jpg, https://cdn.shopify.com/s/files/1/0773/5495/products/ZT-1026-15-4_400x.jpg, https://cdn.shopify.com/s/files/1/0773/5495/products/ZT-1026-15-5_400x.jpg, https://cdn.shopify.com/s/files/1/0773/5495/products/ZT-1026-15_400x.jpg\n"
     ]
    },
    {
     "name": "stdout",
     "output_type": "stream",
     "text": [
      "***********************************************************\n",
      "URl: https://www.alrugaibfurniture.com/ar/collections/benches/products/panchina-bed-bench?lshst=collection\n",
      "Cat1: المنزل \n",
      "Cat2: مقاعد\n",
      "Cat3: \n",
      "else\n",
      "H \n",
      "L \n",
      "W \n",
      "Title: Panchina Bed Bench\n",
      "Price: 3,412.05\n",
      "Price old: \n",
      "ollection: HOOKER\n",
      "Description: \n",
      "Colors: \n",
      "URl: https://www.alrugaibfurniture.com/ar/collections/benches/products/panchina-bed-bench?lshst=collection\n",
      "Sku: 6025-90019-90\n",
      "H \n",
      "L \n",
      "W \n",
      "\n",
      "***********************************************************\n",
      "URl: https://www.alrugaibfurniture.com/ar/collections/benches/products/marzano-dining-bench?lshst=collection\n",
      "Cat1: المنزل \n",
      "Cat2: مقاعد\n",
      "Cat3: \n",
      "else\n",
      "H \n",
      "L \n",
      "W \n",
      "Title: Marzano Dining Bench\n",
      "Price: 5,269.30\n",
      "Price old: \n",
      "ollection: HOOKER\n",
      "Description: \n",
      "Colors: \n",
      "URl: https://www.alrugaibfurniture.com/ar/collections/benches/products/marzano-dining-bench?lshst=collection\n",
      "Sku: 6025-50007-95\n",
      "H \n",
      "L \n",
      "W \n",
      "\n",
      "***********************************************************\n",
      "URl: https://www.alrugaibfurniture.com/ar/collections/benches/products/ozark-bed-bench?lshst=collection\n",
      "Cat1: المنزل \n",
      "Cat2: مقاعد\n",
      "Cat3: \n",
      "else\n",
      "H \n",
      "L \n",
      "W \n",
      "Title: Ozark Bed Bench\n",
      "Price: 5,327.95\n",
      "Price old: \n",
      "ollection: HOOKER\n",
      "Description: \n",
      "Colors: \n",
      "URl: https://www.alrugaibfurniture.com/ar/collections/benches/products/ozark-bed-bench?lshst=collection\n",
      "Sku: 5960-90019-MTL\n",
      "H \n",
      "L \n",
      "W \n",
      "\n",
      "***********************************************************\n",
      "URl: https://www.alrugaibfurniture.com/ar/collections/benches/products/helotes-dining-bench?lshst=collection\n",
      "Cat1: المنزل \n",
      "Cat2: مقاعد\n",
      "Cat3: \n",
      "else\n",
      "H \n",
      "L \n",
      "W \n",
      "Title: Helotes Dining Bench\n",
      "Price: 6,177.80\n",
      "Price old: \n",
      "ollection: HOOKER\n",
      "Description: \n",
      "Colors: \n",
      "URl: https://www.alrugaibfurniture.com/ar/collections/benches/products/helotes-dining-bench?lshst=collection\n",
      "Sku: 5960-75315-BRN\n",
      "H \n",
      "L \n",
      "W \n",
      "\n",
      "***********************************************************\n",
      "URl: https://www.alrugaibfurniture.com/ar/collections/benches/products/madera-bed-bench?lshst=collection\n",
      "Cat1: المنزل \n",
      "Cat2: مقاعد\n",
      "Cat3: \n",
      "else\n",
      "H \n",
      "L \n",
      "W \n",
      "Title: Madera Bed Bench\n",
      "Price: 2,346.00\n",
      "Price old: \n",
      "ollection: HOOKER\n",
      "Description: \n",
      "Colors: \n",
      "URl: https://www.alrugaibfurniture.com/ar/collections/benches/products/madera-bed-bench?lshst=collection\n",
      "Sku: 5750-90019-MWD\n",
      "H \n",
      "L \n",
      "W \n",
      "\n",
      "***********************************************************\n",
      "URl: https://www.alrugaibfurniture.com/ar/collections/benches/products/du-monde-ladderback-dining-bench?lshst=collection\n",
      "Cat1: المنزل \n",
      "Cat2: مقاعد\n",
      "Cat3: \n",
      "else\n",
      "H \n",
      "L \n",
      "W \n",
      "Title: Du Monde Ladderback Dining Bench\n",
      "Price: 5,855.80\n",
      "Price old: \n",
      "ollection: HOOKER\n",
      "Description: \n",
      "Colors: \n",
      "URl: https://www.alrugaibfurniture.com/ar/collections/benches/products/du-monde-ladderback-dining-bench?lshst=collection\n",
      "Sku: 5750-75315-LTWD\n",
      "H \n",
      "L \n",
      "W \n",
      "\n",
      "***********************************************************\n",
      "URl: https://www.alrugaibfurniture.com/ar/collections/benches/products/bench?lshst=collection\n",
      "Cat1: المنزل \n",
      "Cat2: مقاعد\n",
      "Cat3: \n",
      "else\n",
      "H \n",
      "L \n",
      "W \n",
      "Title: مقعد\n",
      "Price: 4,194.05\n",
      "Price old: \n",
      "ollection: HOOKER\n",
      "Description: \n",
      "Colors: \n",
      "URl: https://www.alrugaibfurniture.com/ar/collections/benches/products/bench?lshst=collection\n",
      "Sku: 5805-90019-99\n",
      "H \n",
      "L \n",
      "W \n",
      "\n",
      "***********************************************************\n",
      "URl: https://www.alrugaibfurniture.com/ar/collections/benches/products/bed-bench?lshst=collection\n",
      "Cat1: المنزل \n",
      "Cat2: مقاعد\n",
      "Cat3: \n",
      "else\n",
      "H \n",
      "L \n",
      "W \n",
      "Title: مقعد سرير\n",
      "Price: 3,412.05\n",
      "Price old: \n",
      "ollection: HOOKER\n",
      "Description: \n",
      "Colors: \n",
      "URl: https://www.alrugaibfurniture.com/ar/collections/benches/products/bed-bench?lshst=collection\n",
      "Sku: 5820-90019-84\n",
      "H \n",
      "L \n",
      "W \n",
      "\n",
      "***********************************************************\n",
      "URl: https://www.alrugaibfurniture.com/ar/collections/benches/products/storage-bench?lshst=collection\n",
      "Cat1: المنزل \n",
      "Cat2: مقاعد\n",
      "Cat3: \n",
      "else\n",
      "H \n",
      "L \n",
      "W \n",
      "Title: Storage Bench\n",
      "Price: 5,004.80\n",
      "Price old: \n",
      "ollection: HOOKER\n",
      "Description: \n",
      "Colors: \n",
      "URl: https://www.alrugaibfurniture.com/ar/collections/benches/products/storage-bench?lshst=collection\n",
      "Sku: 1610-90019-WH\n",
      "H \n",
      "L \n",
      "W \n",
      "\n",
      "***********************************************************\n",
      "URl: https://www.alrugaibfurniture.com/ar/collections/benches/products/von-rosenberg-bed-bench?lshst=collection\n",
      "Cat1: المنزل \n",
      "Cat2: مقاعد\n",
      "Cat3: \n",
      "else\n",
      "H \n",
      "L \n",
      "W \n",
      "Title: Von Rosenberg Bed Bench\n",
      "Price: 4,487.30\n",
      "Price old: \n",
      "ollection: HOOKER\n",
      "Description: \n",
      "Colors: \n",
      "URl: https://www.alrugaibfurniture.com/ar/collections/benches/products/von-rosenberg-bed-bench?lshst=collection\n",
      "Sku: 6960-90019-80\n",
      "H \n",
      "L \n",
      "W \n",
      "\n",
      "***********************************************************\n",
      "URl: https://www.alrugaibfurniture.com/ar/collections/benches/products/zebre-bed-bench?lshst=collection\n",
      "Cat1: المنزل \n",
      "Cat2: مقاعد\n",
      "Cat3: \n",
      "else\n",
      "H \n",
      "L \n",
      "W \n",
      "Title: مقعد سرير Zebre\n",
      "Price: 2,239.05\n",
      "Price old: \n",
      "ollection: HOOKER\n",
      "Description: \n",
      "Colors: \n",
      "URl: https://www.alrugaibfurniture.com/ar/collections/benches/products/zebre-bed-bench?lshst=collection\n",
      "Sku: 5845-90019-99\n",
      "H \n",
      "L \n",
      "W \n",
      "\n",
      "***********************************************************\n",
      "URl: https://www.alrugaibfurniture.com/ar/collections/benches/products/upholstered-dining-bench?lshst=collection\n",
      "Cat1: المنزل \n",
      "Cat2: مقاعد\n",
      "Cat3: \n",
      "else\n",
      "H \n",
      "L \n",
      "W \n",
      "Title: Upholstered Dining Bench\n",
      "Price: 5,327.95\n",
      "Price old: \n",
      "ollection: HOOKER\n",
      "Description: \n",
      "Colors: \n",
      "URl: https://www.alrugaibfurniture.com/ar/collections/benches/products/upholstered-dining-bench?lshst=collection\n",
      "Sku: 5751-75315-95\n",
      "H \n",
      "L \n",
      "W \n",
      "\n",
      "***********************************************************\n",
      "URl: https://www.alrugaibfurniture.com/ar/collections/benches/products/olivier-bench?lshst=collection\n",
      "Cat1: المنزل \n",
      "Cat2: مقاعد\n",
      "Cat3: \n",
      "Cas4\n",
      "Change inches to cm\n",
      "H 48.26\n",
      "L 50.8\n",
      "W 127.0\n",
      "Title: OLIVIER BENCH\n",
      "Price: 2,829.00\n",
      "Price old: \n",
      "ollection: UTTERMOST\n",
      "Description: \n",
      "Colors: \n",
      "URl: https://www.alrugaibfurniture.com/ar/collections/benches/products/olivier-bench?lshst=collection\n",
      "Sku: 23572-UTT\n",
      "H 48.26\n",
      "L 50.8\n",
      "W 127.0\n",
      "https://cdn.shopify.com/s/files/1/0773/5495/products/23572_400x.jpg\n",
      "***********************************************************\n",
      "URl: https://www.alrugaibfurniture.com/ar/collections/benches/products/x-marks-the-spot-small-bench?lshst=collection\n",
      "Cat1: المنزل \n",
      "Cat2: مقاعد\n",
      "Cat3: \n",
      "Cas4\n",
      "Change inches to cm\n",
      "H 53.34\n",
      "L 38.1\n",
      "W 48.26\n",
      "Title: X MARKS THE SPOT SMALL BENCH\n",
      "Price: 5,313.00\n",
      "Price old: \n",
      "ollection: UTTERMOST\n",
      "Description: \n",
      "Colors: \n",
      "URl: https://www.alrugaibfurniture.com/ar/collections/benches/products/x-marks-the-spot-small-bench?lshst=collection\n",
      "Sku: R25075-UTT\n",
      "H 53.34\n",
      "L 38.1\n",
      "W 48.26\n",
      "https://cdn.shopify.com/s/files/1/0773/5495/products/r25075_400x.jpg\n",
      "***********************************************************\n",
      "URl: https://www.alrugaibfurniture.com/ar/collections/benches/products/rossi-bench?lshst=collection\n",
      "Cat1: المنزل \n",
      "Cat2: مقاعد\n",
      "Cat3: \n",
      "Cas4\n",
      "H 18.5\n",
      "L 16\n",
      "W 60\n",
      "Title: Rossi Bench\n",
      "Price: 3,008.17\n",
      "Price old: \n",
      "ollection: مو\"ز\n",
      "Description: \n",
      "Colors: \n",
      "URl: https://www.alrugaibfurniture.com/ar/collections/benches/products/rossi-bench?lshst=collection\n",
      "Sku: OT-1011-15\n",
      "H 18.5\n",
      "L 16\n",
      "W 60\n",
      "https://cdn.shopify.com/s/files/1/0773/5495/products/ot-1011-15_1_400x.jpg, https://cdn.shopify.com/s/files/1/0773/5495/products/ot-1011-15_2_400x.jpg, https://cdn.shopify.com/s/files/1/0773/5495/products/ot-1011-15_04194e66-9d5c-4770-a69e-15c25fd922fa_400x.jpg\n",
      "***********************************************************\n",
      "URl: https://www.alrugaibfurniture.com/ar/collections/benches/products/scandi-bench?lshst=collection\n",
      "Cat1: المنزل \n",
      "Cat2: مقاعد\n",
      "Cat3: \n",
      "Cas4\n",
      "H 22\n",
      "L 16\n",
      "W 43\n",
      "Title: Scandi Bench\n",
      "Price: 1,895.43\n",
      "Price old: \n",
      "ollection: مو\"ز\n",
      "Description: \n",
      "Colors: \n",
      "URl: https://www.alrugaibfurniture.com/ar/collections/benches/products/scandi-bench?lshst=collection\n",
      "Sku: BZ-1063-03\n",
      "H 22\n",
      "L 16\n",
      "W 43\n",
      "https://cdn.shopify.com/s/files/1/0773/5495/products/bz-1063-03_1_400x.jpg, https://cdn.shopify.com/s/files/1/0773/5495/products/bz-1063-03_2cd6bcd5-e3cb-4b22-9fed-79b7fc49baf7_400x.jpg\n",
      "***********************************************************\n",
      "URl: https://www.alrugaibfurniture.com/ar/collections/benches/products/pommel-bench?lshst=collection\n",
      "Cat1: المنزل \n",
      "Cat2: مقاعد\n",
      "Cat3: \n",
      "Cas4\n",
      "H 18.5\n",
      "L 14.5\n",
      "W 52\n",
      "Title: Pommel Bench\n",
      "Price: 2,564.96\n",
      "Price old: \n",
      "ollection: مو\"ز\n",
      "Description: \n",
      "Colors: \n",
      "URl: https://www.alrugaibfurniture.com/ar/collections/benches/products/pommel-bench?lshst=collection\n",
      "Sku: QN-1008-03\n",
      "H 18.5\n",
      "L 14.5\n",
      "W 52\n",
      "https://cdn.shopify.com/s/files/1/0773/5495/products/qn-1008-03_1_400x.jpg, https://cdn.shopify.com/s/files/1/0773/5495/products/qn-1008-03_d83b668e-6cc1-4725-b4ed-60ee06da1547_400x.jpg\n"
     ]
    },
    {
     "name": "stdout",
     "output_type": "stream",
     "text": [
      "***********************************************************\n",
      "URl: https://www.alrugaibfurniture.com/ar/collections/benches/products/tov-o34?lshst=collection\n",
      "Cat1: المنزل \n",
      "Cat2: مقاعد\n",
      "Cat3: \n",
      "else\n",
      "H \n",
      "L \n",
      "W \n",
      "Title: مقعد زيلدا من جلد الغنم الأبيض\n",
      "Price: 1,216.70\n",
      "Price old: \n",
      "ollection: TOV\n",
      "Description: \n",
      "Colors: \n",
      "URl: https://www.alrugaibfurniture.com/ar/collections/benches/products/tov-o34?lshst=collection\n",
      "Sku: TOV-O34\n",
      "H \n",
      "L \n",
      "W \n",
      "https://cdn.shopify.com/s/files/1/0773/5495/products/O34_5_TOV2019-600x600_400x.jpg\n",
      "***********************************************************\n",
      "URl: https://www.alrugaibfurniture.com/ar/collections/benches/products/tov-o36?lshst=collection\n",
      "Cat1: المنزل \n",
      "Cat2: مقاعد\n",
      "Cat3: \n",
      "else\n",
      "H \n",
      "L \n",
      "W \n",
      "Title: مقعد زيلدا جراي من جلد الغنم\n",
      "Price: 1,150.00\n",
      "Price old: \n",
      "ollection: TOV\n",
      "Description: \n",
      "Colors: \n",
      "URl: https://www.alrugaibfurniture.com/ar/collections/benches/products/tov-o36?lshst=collection\n",
      "Sku: TOV-O36\n",
      "H \n",
      "L \n",
      "W \n",
      "\n",
      "***********************************************************\n",
      "URl: https://www.alrugaibfurniture.com/ar/collections/benches/products/tov-o7078?lshst=collection\n",
      "Cat1: المنزل \n",
      "Cat2: مقاعد\n",
      "Cat3: \n",
      "Cas3\n",
      "H 18\n",
      "L 15.8\n",
      "W 78.8\n",
      "Title: WAVE CONCRETE BENCH\n",
      "Price: 3,464.95\n",
      "Price old: \n",
      "ollection: TOV\n",
      "Description: \n",
      "Colors: \n",
      "URl: https://www.alrugaibfurniture.com/ar/collections/benches/products/tov-o7078?lshst=collection\n",
      "Sku: TOV-O7078\n",
      "H 18\n",
      "L 15.8\n",
      "W 78.8\n",
      "\n",
      "***********************************************************\n",
      "URl: https://www.alrugaibfurniture.com/ar/collections/benches/products/tov-o57?lshst=collection\n",
      "Cat1: المنزل \n",
      "Cat2: مقاعد\n",
      "Cat3: \n",
      "Cas3\n",
      "H 18.3\n",
      "L 18.5\n",
      "W 48.8\n",
      "Title: Sal Woven Grey Velvet Bench\n",
      "Price: 2,415.00\n",
      "Price old: \n",
      "ollection: TOV\n",
      "Description: \n",
      "Colors: \n",
      "URl: https://www.alrugaibfurniture.com/ar/collections/benches/products/tov-o57?lshst=collection\n",
      "Sku: TOV-O57\n",
      "H 18.3\n",
      "L 18.5\n",
      "W 48.8\n",
      "\n",
      "***********************************************************\n",
      "URl: https://www.alrugaibfurniture.com/ar/collections/benches/products/tov-o52?lshst=collection\n",
      "Cat1: المنزل \n",
      "Cat2: مقاعد\n",
      "Cat3: \n",
      "Cas3\n",
      "H 14.9\n",
      "L 24\n",
      "W 50\n",
      "Title: Oppland White Bench\n",
      "Price: 2,843.95\n",
      "Price old: \n",
      "ollection: TOV\n",
      "Description: \n",
      "Colors: \n",
      "URl: https://www.alrugaibfurniture.com/ar/collections/benches/products/tov-o52?lshst=collection\n",
      "Sku: TOV-O52\n",
      "H 14.9\n",
      "L 24\n",
      "W 50\n",
      "\n",
      "***********************************************************\n",
      "URl: https://www.alrugaibfurniture.com/ar/collections/benches/products/tov-o53?lshst=collection\n",
      "Cat1: المنزل \n",
      "Cat2: مقاعد\n",
      "Cat3: \n",
      "Cas3\n",
      "H 14.9\n",
      "L 24\n",
      "W 50\n",
      "Title: Oppland Black Bench\n",
      "Price: 2,645.00\n",
      "Price old: \n",
      "ollection: TOV\n",
      "Description: \n",
      "Colors: \n",
      "URl: https://www.alrugaibfurniture.com/ar/collections/benches/products/tov-o53?lshst=collection\n",
      "Sku: TOV-O53\n",
      "H 14.9\n",
      "L 24\n",
      "W 50\n",
      "\n",
      "***********************************************************\n",
      "URl: https://www.alrugaibfurniture.com/ar/collections/benches/products/tov-oc6309?lshst=collection\n",
      "Cat1: المنزل \n",
      "Cat2: مقاعد\n",
      "Cat3: \n",
      "Cas3\n",
      "H 21.3 Ottomans: 15.4W\n",
      "L 20.8\n",
      "W Bench: 40\n",
      "Title: Lila Tri Velvet Bench\n",
      "Price: 2,645.00\n",
      "Price old: \n",
      "ollection: TOV\n",
      "Description: \n",
      "Colors: \n",
      "URl: https://www.alrugaibfurniture.com/ar/collections/benches/products/tov-oc6309?lshst=collection\n",
      "Sku: TOV-OC6309\n",
      "H 21.3 Ottomans: 15.4W\n",
      "L 20.8\n",
      "W Bench: 40\n",
      "\n",
      "***********************************************************\n",
      "URl: https://www.alrugaibfurniture.com/ar/collections/benches/products/tov-oc6381?lshst=collection\n",
      "Cat1: المنزل \n",
      "Cat2: مقاعد\n",
      "Cat3: \n",
      "Cas3\n",
      "H 18.1\n",
      "L 18.9\n",
      "W 48.8\n",
      "Title: Kenya Sea Blue Velvet Bench\n",
      "Price: 2,070.00\n",
      "Price old: \n",
      "ollection: TOV\n",
      "Description: \n",
      "Colors: \n",
      "URl: https://www.alrugaibfurniture.com/ar/collections/benches/products/tov-oc6381?lshst=collection\n",
      "Sku: TOV-OC6381\n",
      "H 18.1\n",
      "L 18.9\n",
      "W 48.8\n",
      "\n",
      "***********************************************************\n",
      "URl: https://www.alrugaibfurniture.com/ar/collections/benches/products/tov-oc6378?lshst=collection\n",
      "Cat1: المنزل \n",
      "Cat2: مقاعد\n",
      "Cat3: \n",
      "Cas3\n",
      "H 18.1\n",
      "L 18.9\n",
      "W 48.8\n",
      "Title: Kenya Gilded Leopard Bench\n",
      "Price: 2,173.50\n",
      "Price old: \n",
      "ollection: TOV\n",
      "Description: \n",
      "Colors: \n",
      "URl: https://www.alrugaibfurniture.com/ar/collections/benches/products/tov-oc6378?lshst=collection\n",
      "Sku: TOV-OC6378\n",
      "H 18.1\n",
      "L 18.9\n",
      "W 48.8\n",
      "\n",
      "***********************************************************\n",
      "URl: https://www.alrugaibfurniture.com/ar/collections/benches/products/tov-oc6380?lshst=collection\n",
      "Cat1: المنزل \n",
      "Cat2: مقاعد\n",
      "Cat3: \n",
      "Cas3\n",
      "H 18.1\n",
      "L 18.9\n",
      "W 48.8\n",
      "Title: Kenya Bright Blue Velvet Bench\n",
      "Price: 2,070.00\n",
      "Price old: \n",
      "ollection: TOV\n",
      "Description: \n",
      "Colors: \n",
      "URl: https://www.alrugaibfurniture.com/ar/collections/benches/products/tov-oc6380?lshst=collection\n",
      "Sku: TOV-OC6380\n",
      "H 18.1\n",
      "L 18.9\n",
      "W 48.8\n",
      "\n",
      "***********************************************************\n",
      "URl: https://www.alrugaibfurniture.com/ar/collections/benches/products/tov-o106?lshst=collection\n",
      "Cat1: المنزل \n",
      "Cat2: مقاعد\n",
      "Cat3: \n",
      "Cas3\n",
      "H 18.5\n",
      "L 22.2\n",
      "W 52.6\n",
      "Title: Jax Grey Velvet Bench\n",
      "Price: 2,111.40\n",
      "Price old: \n",
      "ollection: TOV\n",
      "Description: \n",
      "Colors: \n",
      "URl: https://www.alrugaibfurniture.com/ar/collections/benches/products/tov-o106?lshst=collection\n",
      "Sku: TOV-O106\n",
      "H 18.5\n",
      "L 22.2\n",
      "W 52.6\n",
      "https://cdn.shopify.com/s/files/1/0773/5495/products/TOV-O106_3-600x489_400x.jpg\n",
      "***********************************************************\n",
      "URl: https://www.alrugaibfurniture.com/ar/collections/benches/products/tov-o29?lshst=collection\n",
      "Cat1: المنزل \n",
      "Cat2: مقاعد\n",
      "Cat3: \n",
      "Cas3\n",
      "H 17.15\n",
      "L 16.15\n",
      "W 53.5\n",
      "Title: Envy Paris Velvet/Acrylic Bench\n",
      "Price: 1,955.00\n",
      "Price old: \n",
      "ollection: TOV\n",
      "Description: \n",
      "Colors: \n",
      "URl: https://www.alrugaibfurniture.com/ar/collections/benches/products/tov-o29?lshst=collection\n",
      "Sku: TOV-O29\n",
      "H 17.15\n",
      "L 16.15\n",
      "W 53.5\n",
      "\n",
      "***********************************************************\n",
      "URl: https://www.alrugaibfurniture.com/ar/collections/benches/products/tov-o55?lshst=collection\n",
      "Cat1: المنزل \n",
      "Cat2: مقاعد\n",
      "Cat3: \n",
      "Cas3\n",
      "H 17.15\n",
      "L 16.15\n",
      "W 53.5\n",
      "Title: Envy Blue Velvet/Acrylic Bench\n",
      "Price: 1,955.00\n",
      "Price old: \n",
      "ollection: TOV\n",
      "Description: \n",
      "Colors: \n",
      "URl: https://www.alrugaibfurniture.com/ar/collections/benches/products/tov-o55?lshst=collection\n",
      "Sku: TOV-O55\n",
      "H 17.15\n",
      "L 16.15\n",
      "W 53.5\n",
      "\n",
      "***********************************************************\n",
      "URl: https://www.alrugaibfurniture.com/ar/collections/benches/products/tov-o54?lshst=collection\n",
      "Cat1: المنزل \n",
      "Cat2: مقاعد\n",
      "Cat3: \n",
      "Cas3\n",
      "H 17.15\n",
      "L 16.15\n",
      "W 53.5\n",
      "Title: Envy Antique Blue Leather/Acrylic Bench\n",
      "Price: 1,955.00\n",
      "Price old: \n",
      "ollection: TOV\n",
      "Description: \n",
      "Colors: \n",
      "URl: https://www.alrugaibfurniture.com/ar/collections/benches/products/tov-o54?lshst=collection\n",
      "Sku: TOV-O54\n",
      "H 17.15\n",
      "L 16.15\n",
      "W 53.5\n",
      "\n",
      "***********************************************************\n",
      "URl: https://www.alrugaibfurniture.com/ar/collections/benches/products/eileen-terrazzo-velvet-bench?lshst=collection\n",
      "Cat1: المنزل \n",
      "Cat2: مقاعد\n",
      "Cat3: \n",
      "Cas3\n",
      "H 20.3\n",
      "L 18\n",
      "W 47.6\n",
      "Title: Eileen Terrazzo Velvet Bench\n",
      "Price: 1,974.55\n",
      "Price old: \n",
      "ollection: TOV\n",
      "Description: \n",
      "Colors: \n",
      "URl: https://www.alrugaibfurniture.com/ar/collections/benches/products/eileen-terrazzo-velvet-bench?lshst=collection\n",
      "Sku: TOV-OC6436\n",
      "H 20.3\n",
      "L 18\n",
      "W 47.6\n",
      "\n",
      "***********************************************************\n",
      "URl: https://www.alrugaibfurniture.com/ar/collections/benches/products/eileen-slub-velvet-blush-bench?lshst=collection\n",
      "Cat1: المنزل \n",
      "Cat2: مقاعد\n",
      "Cat3: \n",
      "Cas3\n",
      "H 20.3\n",
      "L 18\n",
      "W 47.6\n",
      "Title: Eileen Blush Bench\n",
      "Price: 1,891.75\n",
      "Price old: \n",
      "ollection: TOV\n",
      "Description: \n",
      "Colors: \n",
      "URl: https://www.alrugaibfurniture.com/ar/collections/benches/products/eileen-slub-velvet-blush-bench?lshst=collection\n",
      "Sku: TOV-OC119\n",
      "H 20.3\n",
      "L 18\n",
      "W 47.6\n",
      "https://cdn.shopify.com/s/files/1/0773/5495/products/OC119_5_TOV2019-600x600_400x.jpg, https://cdn.shopify.com/s/files/1/0773/5495/products/OC164_1_TOV2019-600x474_400x.jpg, https://cdn.shopify.com/s/files/1/0773/5495/products/TOV-OC119.media.01_400x.jpg\n",
      "***********************************************************\n",
      "URl: https://www.alrugaibfurniture.com/ar/collections/benches/products/diva-shagreen-bench?lshst=collection\n",
      "Cat1: المنزل \n",
      "Cat2: مقاعد\n",
      "Cat3: \n",
      "Cas3\n",
      "H 15.7\n",
      "L 13.7\n",
      "W 13.7\n",
      "Title: Diva Shagreen Bench\n",
      "Price: 1,380.00\n",
      "Price old: \n",
      "ollection: TOV\n",
      "Description: \n",
      "Colors: \n",
      "URl: https://www.alrugaibfurniture.com/ar/collections/benches/products/diva-shagreen-bench?lshst=collection\n",
      "Sku: TOV-OC5512\n",
      "H 15.7\n",
      "L 13.7\n",
      "W 13.7\n",
      "\n",
      "***********************************************************\n",
      "URl: https://www.alrugaibfurniture.com/ar/collections/benches/products/diva-cream-velvet-bench?lshst=collection\n"
     ]
    },
    {
     "name": "stdout",
     "output_type": "stream",
     "text": [
      "Cat1: المنزل \n",
      "Cat2: مقاعد\n",
      "Cat3: \n",
      "Cas3\n",
      "H 15.7\n",
      "L 13.7\n",
      "W 13.7\n",
      "Title: Diva Cream Velvet Bench\n",
      "Price: 1,380.00\n",
      "Price old: \n",
      "ollection: TOV\n",
      "Description: \n",
      "Colors: \n",
      "URl: https://www.alrugaibfurniture.com/ar/collections/benches/products/diva-cream-velvet-bench?lshst=collection\n",
      "Sku: TOV-OC5511\n",
      "H 15.7\n",
      "L 13.7\n",
      "W 13.7\n",
      "\n",
      "***********************************************************\n",
      "URl: https://www.alrugaibfurniture.com/ar/collections/benches/products/claira-navy-lucite-bench?lshst=collection\n",
      "Cat1: المنزل \n",
      "Cat2: مقاعد\n",
      "Cat3: \n",
      "Cas3\n",
      "H 18.3\n",
      "L 18.1\n",
      "W 48.2\n",
      "Title: Claira Navy Lucite Bench\n",
      "Price: 2,185.00\n",
      "Price old: \n",
      "ollection: TOV\n",
      "Description: \n",
      "Colors: \n",
      "URl: https://www.alrugaibfurniture.com/ar/collections/benches/products/claira-navy-lucite-bench?lshst=collection\n",
      "Sku: TOV-O38\n",
      "H 18.3\n",
      "L 18.1\n",
      "W 48.2\n",
      "\n",
      "***********************************************************\n",
      "URl: https://www.alrugaibfurniture.com/ar/collections/benches/products/tov-oc6210?lshst=collection\n",
      "Cat1: المنزل \n",
      "Cat2: مقاعد\n",
      "Cat3: \n",
      "Cas1\n",
      "H 19.6 بوصة\n",
      "L 22 بوصة\n",
      "W \n",
      "Title: مقعد برنو موف المخملي\n",
      "Price: 2,347.15\n",
      "Price old: \n",
      "ollection: TOV\n",
      "Description: \n",
      "Colors: \n",
      "URl: https://www.alrugaibfurniture.com/ar/collections/benches/products/tov-oc6210?lshst=collection\n",
      "Sku: TOV-OC6210\n",
      "H 19.6 بوصة\n",
      "L 22 بوصة\n",
      "W \n",
      "\n",
      "***********************************************************\n",
      "URl: https://www.alrugaibfurniture.com/ar/collections/benches/products/caracol-signature-urban-the-fragment-bench?lshst=collection\n",
      "Cat1: المنزل \n",
      "Cat2: مقاعد\n",
      "Cat3: \n",
      "else\n",
      "H \n",
      "L \n",
      "W \n",
      "Title: Signature Urban - The Fragment Bench\n",
      "Price: 9,637.00\n",
      "Price old: \n",
      "ollection: كاراكول\n",
      "Description: \n",
      "Colors: \n",
      "URl: https://www.alrugaibfurniture.com/ar/collections/benches/products/caracol-signature-urban-the-fragment-bench?lshst=collection\n",
      "Sku: SGU-418-151-A\n",
      "H \n",
      "L \n",
      "W \n",
      "https://cdn.shopify.com/s/files/1/0773/5495/products/12_8cef0f7b-3d83-4c55-a482-6398e48730bf_400x.jpg, https://cdn.shopify.com/s/files/1/0773/5495/products/14_4dd79f67-edcb-463a-86b4-3be28c09f851_400x.jpg, https://cdn.shopify.com/s/files/1/0773/5495/products/13_657201fc-5ce3-42d2-af44-81fa6f8dc7f1_400x.jpg\n",
      "***********************************************************\n",
      "URl: https://www.alrugaibfurniture.com/ar/collections/benches/products/m100-419-441-a?lshst=collection\n",
      "Cat1: المنزل \n",
      "Cat2: مقاعد\n",
      "Cat3: \n",
      "Cas1\n",
      "H 50.17\n",
      "L 84.46\n",
      "W 193.68\n",
      "Title: مودرن إدج - مقعد\n",
      "Price: 14,202.50\n",
      "Price old: \n",
      "ollection: كاراكول\n",
      "Description: \n",
      "Colors: \n",
      "URl: https://www.alrugaibfurniture.com/ar/collections/benches/products/m100-419-441-a?lshst=collection\n",
      "Sku: M100-419-441-A\n",
      "H 50.17\n",
      "L 84.46\n",
      "W 193.68\n",
      "\n",
      "***********************************************************\n",
      "URl: https://www.alrugaibfurniture.com/ar/collections/benches/products/signature-debut-the-jewel-bench?lshst=collection\n",
      "Cat1: المنزل \n",
      "Cat2: مقاعد\n",
      "Cat3: \n",
      "else\n",
      "H \n",
      "L \n",
      "W \n",
      "Title: Signature Debut - The Jewel Bench\n",
      "Price: 5,054.25\n",
      "Price old: \n",
      "ollection: كاراكول\n",
      "Description: \n",
      "Colors: \n",
      "URl: https://www.alrugaibfurniture.com/ar/collections/benches/products/signature-debut-the-jewel-bench?lshst=collection\n",
      "Sku: SGU-416-151-A\n",
      "H \n",
      "L \n",
      "W \n",
      "https://cdn.shopify.com/s/files/1/0773/5495/products/SGU-416-151-A_7c084508-1a1b-4615-a51f-6079007be392_400x.jpg\n",
      "***********************************************************\n",
      "URl: https://www.alrugaibfurniture.com/ar/collections/benches/products/gold-beige-velveteen-bench?lshst=collection\n",
      "Cat1: المنزل \n",
      "Cat2: مقاعد\n",
      "Cat3: \n",
      "Cas4\n",
      "H \n",
      "L \n",
      "W \n",
      "Title: GOLD / BEIGE VELVETEEN BENCH\n",
      "Price: 914.25\n",
      "Price old: \n",
      "ollection: SAGEBROOK HOME\n",
      "Description: \n",
      "Colors: \n",
      "URl: https://www.alrugaibfurniture.com/ar/collections/benches/products/gold-beige-velveteen-bench?lshst=collection\n",
      "Sku: 12800-07\n",
      "H \n",
      "L \n",
      "W \n",
      "https://cdn.shopify.com/s/files/1/0773/5495/products/12800-07_7_400x.jpg\n"
     ]
    }
   ],
   "source": [
    "count = 0\n",
    "list_images = [] \n",
    "list_input_collection = []\n",
    "list_input_title = []\n",
    "list_input_price = []\n",
    "list_input_images1 = []\n",
    "list_input_images2 = []\n",
    "list_input_images3 = []\n",
    "list_input_images4 = []\n",
    "list_input_price_was = []\n",
    "list_input_model = []\n",
    "list_input_size = []\n",
    "list_input_color = []\n",
    "list_input_sku = []\n",
    "list_input_style = []\n",
    "list_input_in_stock = []\n",
    "list_input_mater = []\n",
    "list_input_link_url = []\n",
    "list_input_category1 = []\n",
    "list_input_category2 = []\n",
    "list_input_category3 = []\n",
    "list_input_width = []\n",
    "list_input_height = []\n",
    "list_input_length = []\n",
    "display_bool = False\n",
    "#ForLoop main\n",
    "for product in links_products[:100]:\n",
    "    time.sleep(1)\n",
    "    try:\n",
    "        print('***********************************************************')\n",
    "        print('URl:', product)\n",
    "        driver.get(product)\n",
    "        time.sleep(3)\n",
    "        display_bool = False\n",
    "    except:\n",
    "        continue\n",
    "\n",
    "    \n",
    "\n",
    "    link_url = str(product)\n",
    "    time.sleep(4)\n",
    "    try:\n",
    "        #click button more\n",
    "        click_more = driver.find_element_by_class_name('expandable-content__toggle')\n",
    "        click_more.click()\n",
    "        display_bool = True\n",
    "    except:\n",
    "        pass\n",
    "    \n",
    "     # CATEGORY  *******************************************   \n",
    " \n",
    "    try:\n",
    "        category1 =  'المنزل '#driver.find_element_by_class_name('category47').text\n",
    "    except:\n",
    "        category1 = ''\n",
    "    try:\n",
    "        category2 =  'مقاعد'#driver.find_element_by_class_name('category52').text\n",
    "    except:\n",
    "        category2 = ''\n",
    "    try:\n",
    "        category3 =  ''#driver.find_element_by_class_name('').text\n",
    "    except:\n",
    "        category3 = ''\n",
    "    print('Cat1:', category1)\n",
    "    print('Cat2:', category2)\n",
    "    print('Cat3:', category3)\n",
    "    \n",
    "    time.sleep(1)\n",
    "    \n",
    "    title = driver.find_element_by_class_name('product-meta__title').text\n",
    "    \n",
    "    sku = driver.find_element_by_class_name('product-meta__sku').text.replace('SKU: ', '')\n",
    "    \n",
    "\n",
    "    prices = driver.find_elements_by_class_name('money')\n",
    "\n",
    "    price = prices[0].text.replace(' SAR', '')\n",
    "    \n",
    "    old_price = prices[1].text.replace(' SAR', '')\n",
    "    \n",
    "\n",
    "  \n",
    "    time.sleep(3)\n",
    "    \n",
    "    descriptions = driver.find_elements_by_class_name('card__section')\n",
    "    description_list = descriptions[2].text.split('/n')[0]\n",
    "    description_list1 = description_list.split('\\n')\n",
    "# Master_Item_Number*********************************************************************************\n",
    "    try:\n",
    "        try:\n",
    "            Master_Item_Number = description_list1[description_list1.index('Master Item Number:')+1]\n",
    "        except:\n",
    "            Master_Item_Number = description_list1[description_list1.index('MATERIAL:')+1]\n",
    "            \n",
    "    except:\n",
    "        Master_Item_Number = ''\n",
    "        \n",
    "# Collection *******************************************************************************\n",
    "    try:\n",
    "        collection = driver.find_element_by_class_name('product-meta__vendor ').text\n",
    "    except:\n",
    "        pass\n",
    "    \n",
    "     \n",
    "# Description*********************************************************************************\n",
    "    try:\n",
    "        try:\n",
    "            Description = description_list1[description_list1.index('Description:')+1]\n",
    "        except:\n",
    "            Description = description_list1[description_list1.index('FEATURES:')+1]\n",
    "    except:\n",
    "        Description = ''\n",
    "        \n",
    "        \n",
    "        \n",
    "        \n",
    "# Series*********************************************************************************\n",
    "    try:\n",
    "        Series = description_list1[description_list1.index('Series:')+1]\n",
    "    except:\n",
    "        Series = ''\n",
    "        \n",
    "        \n",
    "        \n",
    "# Colors*********************************************************************************\n",
    "    try:\n",
    "        Colors = description_list1[description_list1.index('Colors:')+1]\n",
    "    except:\n",
    "        Colors = ''\n",
    "        \n",
    "        \n",
    "        \n",
    "# Size*********************************************************************************\n",
    "    time.sleep(2)\n",
    "    if display_bool == False:\n",
    "        try:\n",
    "            #click button more\n",
    "            click_more = driver.find_element_by_class_name('expandable-content__toggle')\n",
    "            click_more.click()\n",
    "            display_bool = True\n",
    "        except:\n",
    "            pass\n",
    "\n",
    "    def return_centimers(inches):\n",
    "        return int(inches) * 2.54\n",
    "\n",
    "\n",
    "    def return_string_width(dico):\n",
    "        Regex_width = re.compile(r'(\\d+.\\.\\d+)\"W x (\\d+.\\.\\d+)\"D x (\\d+.\\.\\d+)\"H')\n",
    "        for toto in dico:\n",
    "            if Regex_width.search(toto) != None:\n",
    "\n",
    "                lengnt = Regex_width.search(toto).group(1)\n",
    "                width = Regex_width.search(toto).group(2)\n",
    "                heigt = Regex_width.search(toto).group(3)\n",
    "                return lengnt, width, heigt\n",
    "    def check_string_width(dico):\n",
    "        Regex_width = re.compile(r'(\\d+.\\.\\d+)\"W x (\\d+.\\.\\d+)\"D x (\\d+.\\.\\d+)\"H')\n",
    "        for toto in dico:\n",
    "            if Regex_width.search(toto) != None:\n",
    "                return True     \n",
    "\n",
    "    def search_word_list(word, list_search):\n",
    "        for text in list_search:\n",
    "            if word in text:\n",
    "                return True\n",
    "\n",
    "    def return_i(text, y):\n",
    "        for i, toto in enumerate(text):\n",
    "            if y in toto:\n",
    "                return i\n",
    "    descriptions = driver.find_elements_by_class_name('card__section')\n",
    "\n",
    "\n",
    "    description_list = descriptions[2].text.split('/n')[0]\n",
    "    description_list1 = description_list.split('\\n')\n",
    "    #description_list1 = [x for x in description_list1 if x.isdigit()]\n",
    "    description_list1\n",
    "\n",
    "\n",
    "    #Cas1\n",
    "    if search_word_list('إرتفاع', description_list1[0].split('×')) or search_word_list('عمق', description_list1[0].split('×')) or search_word_list('عرض', description_list1[0].split('×')):\n",
    "        toto = description_list1[0].split('×')\n",
    "        print('Cas1')\n",
    "\n",
    "        try:\n",
    "            height = [x for x in toto if 'إرتفاع' in x or ' ارتفاع'in x or 'الارتفاع' in x  ][0].replace('الارتفاع', '').replace('سم', '').replace('ارتفاع', '').strip()\n",
    "        except:\n",
    "            height = ''\n",
    "        try:\n",
    "            length = [x for x in toto if 'عمق' in x or 'العمق' in x][0].replace('عمق', '').replace('العمق', '').replace('سم', '').strip()\n",
    "        except:\n",
    "            length = ''\n",
    "        try:\n",
    "            width = [x for x in toto if 'عرض' in x or 'العرض' in x][0].replace('العرض', '').replace('عرض', '').replace('سم', '').strip()\n",
    "        except:\n",
    "            width = ''\n",
    "\n",
    "    #Cas4\n",
    "    elif search_word_list('Dimensions:', description_list1) or  search_word_list('Product Dimensions', description_list1):\n",
    "        print('Cas4')\n",
    "        if search_word_list('Dimensions:', description_list1):\n",
    "            toto = description_list1[return_i(description_list1, 'Dimensions:')].replace('Dimensions:', '').split('x')\n",
    "        else:\n",
    "            toto = description_list1[return_i(description_list1, 'Product Dimensions')].replace('Product Dimensions', '').split('x')\n",
    "        if len(toto) == 1:\n",
    "            toto = toto[0].split('X')\n",
    "        try:\n",
    "            length = [x for x in toto if 'D' in x or 'L' in x][0].replace('L', '').replace('D', '').replace('\"', '').replace('(in)', '').replace('cm', '').strip()\n",
    "\n",
    "        except:\n",
    "            lenght = ''\n",
    "        try:\n",
    "            height = [x for x in toto if 'H' in x ][0].replace('H', '').replace('\"', '').replace('cm', '').replace('(in)', '').strip()\n",
    "        except:\n",
    "            height = ''\n",
    "        try:\n",
    "            width = [x for x in toto if 'W' in x ][0].replace('W', '').replace('\"', '').replace('cm', '').replace('(in)', '').strip()\n",
    "        except:\n",
    "            width = ''\n",
    "\n",
    "    #Cas2      \n",
    "    elif search_word_list('Depth', description_list1) or search_word_list('Height', description_list1) or search_word_list('Width', description_list1): \n",
    "        print('Cas2')\n",
    "\n",
    "        toto = description_list1\n",
    "        length = [x for x in toto if 'Depth' in x ][0].replace('Depth', '').replace(':', '').replace('cm', '').replace('(in)', '').replace('\"', '').strip()\n",
    "        height = [x for x in toto if 'Height:' in x ][0].replace('Height', '').replace(':', '').replace('cm', '').replace('(in)', '').replace('\"', '').strip()\n",
    "        width = [x for x in toto if 'Width' in x ][0].replace('Width', '').replace(':', '').replace('cm', '').replace('(in)', '').replace('\"', '').strip()\n",
    "\n",
    "\n",
    "\n",
    "    #Cas3\n",
    "    elif search_word_list('\"H', description_list1) or search_word_list('\"W', description_list1) or search_word_list('\"W', description_list1):\n",
    "        print('Cas3')\n",
    "\n",
    "        toto = description_list1[0].split('x')\n",
    "        length = [x for x in toto if 'D' in x ][0].replace('D', '').replace('\"', '').replace('cm', '').replace('(in)', '').strip()\n",
    "        height = [x for x in toto if 'H' in x ][0].replace('H', '').replace('\"', '').replace('cm', '').replace('(in)', '').strip()\n",
    "        width = [x for x in toto if 'W' in x ][0].replace('W', '').replace('\"', '').replace('cm', '').replace('(in)', '').strip()\n",
    "\n",
    "\n",
    "    #Cas5\n",
    "\n",
    "    elif check_string_width(description_list1):\n",
    "        print('Cas5')\n",
    "        width, height, length = return_string_width(description_list1)\n",
    "\n",
    "\n",
    "\n",
    "\n",
    "    else:\n",
    "        print('else')\n",
    "\n",
    "        height = ''\n",
    "        length = ''\n",
    "        width = ''\n",
    "    if search_word_list('(in)', description_list1):\n",
    "        height = return_centimers(height)\n",
    "        length = return_centimers(length)\n",
    "        width = return_centimers(width)\n",
    "        print('Change inches to cm')\n",
    "    print('H', height)\n",
    "    print('L',length)\n",
    "    print('W',width)\n",
    "\n",
    "# Images*********************************************************************************\n",
    "    list_images = []\n",
    "    images_click = driver.find_elements_by_class_name('product-gallery__thumbnail')\n",
    "\n",
    "\n",
    "    for ele in images_click:\n",
    "        #ele.click()\n",
    "        driver.execute_script(\"arguments[0].click();\", ele)\n",
    "        time.sleep(0.5)\n",
    "\n",
    "\n",
    "    images = driver.find_elements_by_class_name('product-gallery__image')\n",
    "\n",
    "    # print(len(images))\n",
    "    for img in images:\n",
    "        #list_images.append('https:'+img.get_attribute('data-srcset').split(' ')[0])\n",
    "        #print(':', img.get_attribute('data-srcset'))\n",
    "        t = 'https:'+img.get_attribute('data-srcset').split(', ')[0].split('?')[0]\n",
    "        #print(t)\n",
    "        list_images.append(t)\n",
    "    len(images)\n",
    "#************************************************************************** \n",
    "    print('Title:', title)\n",
    "    print('Price:', price)\n",
    "    print('Price old:',old_price)\n",
    "    print('ollection:',collection)\n",
    "    print('Description:',Description)\n",
    "    print('Colors:',Colors)\n",
    "#     print('Size:',Dimensions)\n",
    "    print('URl:',link_url)\n",
    "    print('Sku:',sku)\n",
    "    print('H', height)\n",
    "    print('L',length)\n",
    "    print('W',width)\n",
    "    list_input_title.append(title)\n",
    "    list_input_price.append(price)\n",
    "    list_input_price_was.append(old_price)\n",
    "    list_input_model.append(Description)\n",
    "    list_input_color.append(Colors)\n",
    "#     list_input_size.append(Dimensions)\n",
    "    list_input_sku.append(sku)\n",
    "    list_input_category1.append(category1)\n",
    "    list_input_category2.append(category2)\n",
    "    list_input_category3.append(category3)\n",
    "    list_input_link_url.append(link_url)\n",
    "    list_input_collection.append(collection)\n",
    "    list_input_width.append(width)\n",
    "    list_input_height.append(height)\n",
    "    list_input_length.append(length)\n",
    "    try:\n",
    "        list_input_images1.append(list_images[0])\n",
    "    except:\n",
    "        list_input_images1.append('')\n",
    "        \n",
    "    try:\n",
    "        t = ''\n",
    "        for i, img in enumerate(list_images[1:]):\n",
    "            if i == 0:\n",
    "                t += str(img)\n",
    "            else:\n",
    "                t += ', ' + str(img)\n",
    "        list_input_images2.append(t)\n",
    "        print(t)\n",
    "    except:\n",
    "        list_input_images2.append('')\n",
    "        \n",
    "\n",
    "    #df['Images'] = list_images\n",
    "    \n",
    "df = pd.DataFrame({'Sku': list_input_sku,\n",
    "                    'Title': list_input_title,\n",
    "                   'Price': list_input_price, \n",
    "                   \"Price was\":list_input_price_was,  \n",
    "                   'Model': list_input_model, \n",
    "                   'Color': list_input_color, \n",
    "                   'Width': list_input_width,\n",
    "                   'Height': list_input_height,\n",
    "                   'Length': list_input_length,\n",
    "                   'Collection': list_input_collection,\n",
    "                   'Images1': list_input_images1,\n",
    "                   \n",
    "                   'Images2': list_input_images2,\n",
    "                   'Category1': list_input_category1,\n",
    "                   'Category2': list_input_category2,\n",
    "                   'Category3': list_input_category3,\n",
    "#                    'Images3': list_input_images3,\n",
    "#                    'Images4': list_input_images4,\n",
    "                   'Link url': list_input_link_url,\n",
    "\n",
    "                  })\n",
    "#     new_df = pd.concat([df])\n",
    "df.to_excel( 'benches.xlsx', index = True)"
   ]
  },
  {
   "cell_type": "code",
   "execution_count": null,
   "id": "72216ffc",
   "metadata": {},
   "outputs": [],
   "source": []
  },
  {
   "cell_type": "code",
   "execution_count": null,
   "id": "8e0b1aaf",
   "metadata": {},
   "outputs": [],
   "source": []
  },
  {
   "cell_type": "code",
   "execution_count": null,
   "id": "bf4349c0",
   "metadata": {},
   "outputs": [],
   "source": []
  },
  {
   "cell_type": "code",
   "execution_count": null,
   "id": "ed0d899d",
   "metadata": {},
   "outputs": [],
   "source": []
  },
  {
   "cell_type": "code",
   "execution_count": null,
   "id": "c263b16c",
   "metadata": {},
   "outputs": [],
   "source": []
  },
  {
   "cell_type": "code",
   "execution_count": null,
   "id": "274e0721",
   "metadata": {},
   "outputs": [],
   "source": []
  },
  {
   "cell_type": "code",
   "execution_count": null,
   "id": "96b0ac74",
   "metadata": {},
   "outputs": [],
   "source": []
  },
  {
   "cell_type": "code",
   "execution_count": 49,
   "id": "0b6eef97",
   "metadata": {},
   "outputs": [],
   "source": [
    "try:\n",
    "    #click button more\n",
    "    click_more = driver.find_element_by_class_name('expandable-content__toggle')\n",
    "    click_more.click()\n",
    "    \n",
    "except:\n",
    "    pass"
   ]
  },
  {
   "cell_type": "code",
   "execution_count": null,
   "id": "a4e00161",
   "metadata": {},
   "outputs": [],
   "source": []
  },
  {
   "cell_type": "code",
   "execution_count": null,
   "id": "485b61c3",
   "metadata": {},
   "outputs": [],
   "source": []
  },
  {
   "cell_type": "code",
   "execution_count": null,
   "id": "4cbaaaae",
   "metadata": {},
   "outputs": [],
   "source": []
  },
  {
   "cell_type": "code",
   "execution_count": null,
   "id": "996e59a1",
   "metadata": {},
   "outputs": [],
   "source": []
  },
  {
   "cell_type": "code",
   "execution_count": null,
   "id": "33c42f7d",
   "metadata": {},
   "outputs": [],
   "source": []
  },
  {
   "cell_type": "code",
   "execution_count": null,
   "id": "03de1718",
   "metadata": {},
   "outputs": [],
   "source": []
  },
  {
   "cell_type": "code",
   "execution_count": null,
   "id": "a13322fa",
   "metadata": {},
   "outputs": [],
   "source": []
  },
  {
   "cell_type": "code",
   "execution_count": null,
   "id": "49444e4e",
   "metadata": {},
   "outputs": [],
   "source": []
  },
  {
   "cell_type": "code",
   "execution_count": null,
   "id": "a06dda90",
   "metadata": {},
   "outputs": [],
   "source": []
  },
  {
   "cell_type": "code",
   "execution_count": null,
   "id": "1c14de6d",
   "metadata": {},
   "outputs": [],
   "source": []
  },
  {
   "cell_type": "code",
   "execution_count": null,
   "id": "31cf132b",
   "metadata": {},
   "outputs": [],
   "source": []
  },
  {
   "cell_type": "code",
   "execution_count": 212,
   "id": "fc66eec8",
   "metadata": {},
   "outputs": [
    {
     "name": "stdout",
     "output_type": "stream",
     "text": [
      "['https://cdn.shopify.com/s/files/1/0773/5495/products/TOV-O53.media.01_400x.jpg']\n"
     ]
    }
   ],
   "source": [
    "list_images = []\n",
    "images_click = driver.find_elements_by_class_name('product-gallery__thumbnail')\n",
    "\n",
    "\n",
    "for ele in images_click:\n",
    "    #ele.click()\n",
    "    driver.execute_script(\"arguments[0].click();\", ele)\n",
    "    time.sleep(0.5)\n",
    "\n",
    "\n",
    "images = driver.find_elements_by_class_name('product-gallery__image')\n",
    "\n",
    "# print(len(images))\n",
    "for img in images:\n",
    "    #list_images.append('https:'+img.get_attribute('data-srcset').split(' ')[0])\n",
    "    #print(':', img.get_attribute('data-srcset'))\n",
    "    t = 'https:'+img.get_attribute('data-srcset').split(', ')[0].split('?')[0]\n",
    "    #print(t)\n",
    "    list_images.append(t)\n",
    "print(list_images)"
   ]
  },
  {
   "cell_type": "code",
   "execution_count": null,
   "id": "0e793143",
   "metadata": {},
   "outputs": [],
   "source": []
  },
  {
   "cell_type": "code",
   "execution_count": null,
   "id": "80da4907",
   "metadata": {},
   "outputs": [],
   "source": []
  },
  {
   "cell_type": "code",
   "execution_count": null,
   "id": "8f49948e",
   "metadata": {},
   "outputs": [],
   "source": []
  },
  {
   "cell_type": "code",
   "execution_count": null,
   "id": "1a951936",
   "metadata": {},
   "outputs": [],
   "source": []
  },
  {
   "cell_type": "code",
   "execution_count": 32,
   "id": "a47e9187",
   "metadata": {},
   "outputs": [],
   "source": [
    "driver.get('https://www.alrugaibfurniture.com/ar/collections/benches/products/tov-oc6464')"
   ]
  },
  {
   "cell_type": "code",
   "execution_count": null,
   "id": "8e1f75ea",
   "metadata": {},
   "outputs": [],
   "source": []
  },
  {
   "cell_type": "code",
   "execution_count": null,
   "id": "4544058d",
   "metadata": {},
   "outputs": [],
   "source": []
  },
  {
   "cell_type": "code",
   "execution_count": null,
   "id": "4223ae7d",
   "metadata": {},
   "outputs": [],
   "source": []
  },
  {
   "cell_type": "code",
   "execution_count": 222,
   "id": "2a6bb526",
   "metadata": {},
   "outputs": [],
   "source": [
    "#click button more\n",
    "click_more = driver.find_element_by_class_name('expandable-content__toggle-icon')\n",
    "driver.execute_script(\"arguments[0].click();\", click_more)"
   ]
  },
  {
   "cell_type": "code",
   "execution_count": 182,
   "id": "2e147718",
   "metadata": {},
   "outputs": [
    {
     "data": {
      "text/plain": [
       "['DESCRIPTION',\n",
       " 'Made with genuine sheepskin, the Nomo bench from TŌV Furniture is the perfect chic accessory that is versatile for a verity of uses and spaces. The fabulously fluffy top is perched upon a shapely gold stainless steel base. We love how this small-scale piece makes such a large-scale statement in any room.',\n",
       " 'Real sheepskin',\n",
       " 'Shapely gold stainless steel base',\n",
       " 'Handmade by skilled furniture craftsman',\n",
       " 'Ships assembled',\n",
       " '  Product Dimensions 19\"W x 19\"D x 20\"H',\n",
       " 'Net Weight 11.2',\n",
       " 'Product Color White, Gold',\n",
       " 'Product Material Sheepskin, Stainless Steel',\n",
       " 'Seat Width 19',\n",
       " 'Seat Depth 19',\n",
       " 'Seat Height 20',\n",
       " 'Leg Color Gold',\n",
       " 'Leg Material Stainless Steel',\n",
       " 'Weight Capacity 300',\n",
       " 'SKU TOV-O77',\n",
       " 'عرض أقل']"
      ]
     },
     "execution_count": 182,
     "metadata": {},
     "output_type": "execute_result"
    }
   ],
   "source": [
    "def search_word_list(word, list_search):\n",
    "    for text in list_search:\n",
    "        if word in text:\n",
    "            return True\n",
    "descriptions = driver.find_elements_by_class_name('card__section')\n",
    "    \n",
    "    \n",
    "description_list = descriptions[2].text.split('/n')[0]\n",
    "description_list1 = description_list.split('\\n')\n",
    "#description_list1 = [x for x in description_list1 if x.isdigit()]\n",
    "description_list1"
   ]
  },
  {
   "cell_type": "code",
   "execution_count": null,
   "id": "05614bb1",
   "metadata": {},
   "outputs": [],
   "source": []
  },
  {
   "cell_type": "code",
   "execution_count": null,
   "id": "010fb159",
   "metadata": {},
   "outputs": [],
   "source": []
  },
  {
   "cell_type": "code",
   "execution_count": null,
   "id": "349df047",
   "metadata": {},
   "outputs": [],
   "source": []
  },
  {
   "cell_type": "code",
   "execution_count": 46,
   "id": "25fe7e12",
   "metadata": {},
   "outputs": [
    {
     "name": "stdout",
     "output_type": "stream",
     "text": [
      "Cas4\n",
      "Change inches to cm\n",
      "H 50.8\n",
      "L 43.18\n",
      "W 106.68\n"
     ]
    }
   ],
   "source": [
    "try:\n",
    "    #click button more\n",
    "    click_more = driver.find_element_by_class_name('expandable-content__toggle')\n",
    "    click_more.click()\n",
    "except:\n",
    "    pass\n",
    "\n",
    "def return_centimers(inches):\n",
    "    return int(inches) * 2.54\n",
    "\n",
    "\n",
    "def return_string_width(dico):\n",
    "    Regex_width = re.compile(r'(\\d+.\\.\\d+)\"W x (\\d+.\\.\\d+)\"D x (\\d+.\\.\\d+)\"H')\n",
    "    for toto in dico:\n",
    "        if Regex_width.search(toto) != None:\n",
    "            \n",
    "            lengnt = Regex_width.search(toto).group(1)\n",
    "            width = Regex_width.search(toto).group(2)\n",
    "            heigt = Regex_width.search(toto).group(3)\n",
    "            return lengnt, width, heigt\n",
    "def check_string_width(dico):\n",
    "    Regex_width = re.compile(r'(\\d+.\\.\\d+)\"W x (\\d+.\\.\\d+)\"D x (\\d+.\\.\\d+)\"H')\n",
    "    for toto in dico:\n",
    "        if Regex_width.search(toto) != None:\n",
    "            return True     \n",
    "        \n",
    "def search_word_list(word, list_search):\n",
    "    for text in list_search:\n",
    "        if word in text:\n",
    "            return True\n",
    "        \n",
    "def return_i(text, y):\n",
    "    for i, toto in enumerate(text):\n",
    "        if y in toto:\n",
    "            return i\n",
    "descriptions = driver.find_elements_by_class_name('card__section')\n",
    "    \n",
    "    \n",
    "description_list = descriptions[2].text.split('/n')[0]\n",
    "description_list1 = description_list.split('\\n')\n",
    "#description_list1 = [x for x in description_list1 if x.isdigit()]\n",
    "description_list1\n",
    "\n",
    "\n",
    "#Cas1\n",
    "if search_word_list('إرتفاع', description_list1[0].split('×')) or search_word_list('عمق', description_list1[0].split('×')) or search_word_list('عرض', description_list1[0].split('×')):\n",
    "    toto = description_list1[0].split('×')\n",
    "    print('Cas1')\n",
    "\n",
    "    try:\n",
    "        height = [x for x in toto if 'إرتفاع' in x or ' ارتفاع'in x or 'الارتفاع' in x  ][0].replace('الارتفاع', '').replace('سم', '').replace('ارتفاع', '').strip()\n",
    "    except:\n",
    "        height = ''\n",
    "    try:\n",
    "        length = [x for x in toto if 'عمق' in x or 'العمق' in x][0].replace('عمق', '').replace('العمق', '').replace('سم', '').strip()\n",
    "    except:\n",
    "        length = ''\n",
    "    try:\n",
    "        width = [x for x in toto if 'عرض' in x or 'العرض' in x][0].replace('العرض', '').replace('عرض', '').replace('سم', '').strip()\n",
    "    except:\n",
    "        width = ''\n",
    "\n",
    "#Cas4\n",
    "elif search_word_list('Dimensions:', description_list1) or  search_word_list('Product Dimensions', description_list1):\n",
    "    print('Cas4')\n",
    "    if search_word_list('Dimensions:', description_list1):\n",
    "        toto = description_list1[return_i(description_list1, 'Dimensions:')].replace('Dimensions:', '').split('x')\n",
    "    else:\n",
    "        toto = description_list1[return_i(description_list1, 'Product Dimensions')].replace('Product Dimensions', '').split('x')\n",
    "    if len(toto) == 1:\n",
    "        toto = toto[0].split('X')\n",
    "    try:\n",
    "        length = [x for x in toto if 'D' in x or 'L' in x][0].replace('L', '').replace('D', '').replace('\"', '').replace('(in)', '').replace('cm', '').strip()\n",
    "        \n",
    "    except:\n",
    "        lenght = ''\n",
    "    try:\n",
    "        height = [x for x in toto if 'H' in x ][0].replace('H', '').replace('\"', '').replace('cm', '').replace('(in)', '').strip()\n",
    "    except:\n",
    "        height = ''\n",
    "    try:\n",
    "        width = [x for x in toto if 'W' in x ][0].replace('W', '').replace('\"', '').replace('cm', '').replace('(in)', '').strip()\n",
    "    except:\n",
    "        width = ''\n",
    "        \n",
    "#Cas2      \n",
    "elif search_word_list('Depth', description_list1) or search_word_list('Height', description_list1) or search_word_list('Width', description_list1): \n",
    "    print('Cas2')\n",
    "    \n",
    "    toto = description_list1\n",
    "    length = [x for x in toto if 'Depth' in x ][0].replace('Depth', '').replace(':', '').replace('cm', '').replace('(in)', '').replace('\"', '').strip()\n",
    "    height = [x for x in toto if 'Height:' in x ][0].replace('Height', '').replace(':', '').replace('cm', '').replace('(in)', '').replace('\"', '').strip()\n",
    "    width = [x for x in toto if 'Width' in x ][0].replace('Width', '').replace(':', '').replace('cm', '').replace('(in)', '').replace('\"', '').strip()\n",
    "\n",
    "\n",
    "    \n",
    "#Cas3\n",
    "elif search_word_list('\"H', description_list1) or search_word_list('\"W', description_list1) or search_word_list('\"W', description_list1):\n",
    "    print('Cas3')\n",
    "    \n",
    "    toto = description_list1[0].split('x')\n",
    "    length = [x for x in toto if 'D' in x ][0].replace('D', '').replace('\"', '').replace('cm', '').replace('(in)', '').strip()\n",
    "    height = [x for x in toto if 'H' in x ][0].replace('H', '').replace('\"', '').replace('cm', '').replace('(in)', '').strip()\n",
    "    width = [x for x in toto if 'W' in x ][0].replace('W', '').replace('\"', '').replace('cm', '').replace('(in)', '').strip()\n",
    "    \n",
    "\n",
    "#Cas5\n",
    "\n",
    "elif check_string_width(description_list1):\n",
    "    print('Cas5')\n",
    "    width, height, length = return_string_width(description_list1)\n",
    "     \n",
    "     \n",
    "     \n",
    "    \n",
    "else:\n",
    "    print('else')\n",
    "    \n",
    "    height = ''\n",
    "    length = ''\n",
    "    width = ''\n",
    "if search_word_list('(in)', description_list1):\n",
    "    height = return_centimers(height)\n",
    "    length = return_centimers(length)\n",
    "    width = return_centimers(width)\n",
    "    print('Change inches to cm')\n",
    "print('H', height)\n",
    "print('L',length)\n",
    "print('W',width)"
   ]
  },
  {
   "cell_type": "code",
   "execution_count": null,
   "id": "dabb6e97",
   "metadata": {},
   "outputs": [],
   "source": []
  },
  {
   "cell_type": "code",
   "execution_count": 45,
   "id": "273fd3f6",
   "metadata": {},
   "outputs": [],
   "source": [
    "driver.get(links_products[15])"
   ]
  },
  {
   "cell_type": "code",
   "execution_count": 18,
   "id": "5bb34858",
   "metadata": {},
   "outputs": [
    {
     "ename": "StaleElementReferenceException",
     "evalue": "Message: The element reference of [object String] \"{\\\"element-6066-11e4-a52e-4f735466cecf\\\":\\\"f0c4825c-11db-4baa-b589-d7f5e5da85d0\\\"}\" is stale; either the element is no longer attached to the DOM, it is not in the current frame context, or the document has been refreshed\n",
     "output_type": "error",
     "traceback": [
      "\u001b[0;31m---------------------------------------------------------------------------\u001b[0m",
      "\u001b[0;31mStaleElementReferenceException\u001b[0m            Traceback (most recent call last)",
      "\u001b[0;32m<ipython-input-18-945f696b1d8f>\u001b[0m in \u001b[0;36m<module>\u001b[0;34m\u001b[0m\n\u001b[0;32m----> 1\u001b[0;31m \u001b[0mdescription_list\u001b[0m \u001b[0;34m=\u001b[0m \u001b[0mdescriptions\u001b[0m\u001b[0;34m[\u001b[0m\u001b[0;36m2\u001b[0m\u001b[0;34m]\u001b[0m\u001b[0;34m.\u001b[0m\u001b[0mtext\u001b[0m\u001b[0;34m.\u001b[0m\u001b[0msplit\u001b[0m\u001b[0;34m(\u001b[0m\u001b[0;34m'/n'\u001b[0m\u001b[0;34m)\u001b[0m\u001b[0;34m[\u001b[0m\u001b[0;36m0\u001b[0m\u001b[0;34m]\u001b[0m\u001b[0;34m\u001b[0m\u001b[0;34m\u001b[0m\u001b[0m\n\u001b[0m\u001b[1;32m      2\u001b[0m \u001b[0mdescription_list1\u001b[0m \u001b[0;34m=\u001b[0m \u001b[0mdescription_list\u001b[0m\u001b[0;34m.\u001b[0m\u001b[0msplit\u001b[0m\u001b[0;34m(\u001b[0m\u001b[0;34m'\\n'\u001b[0m\u001b[0;34m)\u001b[0m\u001b[0;34m\u001b[0m\u001b[0;34m\u001b[0m\u001b[0m\n\u001b[1;32m      3\u001b[0m \u001b[0;31m#description_list1 = [x for x in description_list1 if x.isdigit()]\u001b[0m\u001b[0;34m\u001b[0m\u001b[0;34m\u001b[0m\u001b[0;34m\u001b[0m\u001b[0m\n\u001b[1;32m      4\u001b[0m \u001b[0mdescription_list1\u001b[0m\u001b[0;34m\u001b[0m\u001b[0;34m\u001b[0m\u001b[0m\n",
      "\u001b[0;32m~/anaconda3/lib/python3.8/site-packages/selenium/webdriver/remote/webelement.py\u001b[0m in \u001b[0;36mtext\u001b[0;34m(self)\u001b[0m\n\u001b[1;32m     74\u001b[0m     \u001b[0;32mdef\u001b[0m \u001b[0mtext\u001b[0m\u001b[0;34m(\u001b[0m\u001b[0mself\u001b[0m\u001b[0;34m)\u001b[0m\u001b[0;34m:\u001b[0m\u001b[0;34m\u001b[0m\u001b[0;34m\u001b[0m\u001b[0m\n\u001b[1;32m     75\u001b[0m         \u001b[0;34m\"\"\"The text of the element.\"\"\"\u001b[0m\u001b[0;34m\u001b[0m\u001b[0;34m\u001b[0m\u001b[0m\n\u001b[0;32m---> 76\u001b[0;31m         \u001b[0;32mreturn\u001b[0m \u001b[0mself\u001b[0m\u001b[0;34m.\u001b[0m\u001b[0m_execute\u001b[0m\u001b[0;34m(\u001b[0m\u001b[0mCommand\u001b[0m\u001b[0;34m.\u001b[0m\u001b[0mGET_ELEMENT_TEXT\u001b[0m\u001b[0;34m)\u001b[0m\u001b[0;34m[\u001b[0m\u001b[0;34m'value'\u001b[0m\u001b[0;34m]\u001b[0m\u001b[0;34m\u001b[0m\u001b[0;34m\u001b[0m\u001b[0m\n\u001b[0m\u001b[1;32m     77\u001b[0m \u001b[0;34m\u001b[0m\u001b[0m\n\u001b[1;32m     78\u001b[0m     \u001b[0;32mdef\u001b[0m \u001b[0mclick\u001b[0m\u001b[0;34m(\u001b[0m\u001b[0mself\u001b[0m\u001b[0;34m)\u001b[0m\u001b[0;34m:\u001b[0m\u001b[0;34m\u001b[0m\u001b[0;34m\u001b[0m\u001b[0m\n",
      "\u001b[0;32m~/anaconda3/lib/python3.8/site-packages/selenium/webdriver/remote/webelement.py\u001b[0m in \u001b[0;36m_execute\u001b[0;34m(self, command, params)\u001b[0m\n\u001b[1;32m    631\u001b[0m             \u001b[0mparams\u001b[0m \u001b[0;34m=\u001b[0m \u001b[0;34m{\u001b[0m\u001b[0;34m}\u001b[0m\u001b[0;34m\u001b[0m\u001b[0;34m\u001b[0m\u001b[0m\n\u001b[1;32m    632\u001b[0m         \u001b[0mparams\u001b[0m\u001b[0;34m[\u001b[0m\u001b[0;34m'id'\u001b[0m\u001b[0;34m]\u001b[0m \u001b[0;34m=\u001b[0m \u001b[0mself\u001b[0m\u001b[0;34m.\u001b[0m\u001b[0m_id\u001b[0m\u001b[0;34m\u001b[0m\u001b[0;34m\u001b[0m\u001b[0m\n\u001b[0;32m--> 633\u001b[0;31m         \u001b[0;32mreturn\u001b[0m \u001b[0mself\u001b[0m\u001b[0;34m.\u001b[0m\u001b[0m_parent\u001b[0m\u001b[0;34m.\u001b[0m\u001b[0mexecute\u001b[0m\u001b[0;34m(\u001b[0m\u001b[0mcommand\u001b[0m\u001b[0;34m,\u001b[0m \u001b[0mparams\u001b[0m\u001b[0;34m)\u001b[0m\u001b[0;34m\u001b[0m\u001b[0;34m\u001b[0m\u001b[0m\n\u001b[0m\u001b[1;32m    634\u001b[0m \u001b[0;34m\u001b[0m\u001b[0m\n\u001b[1;32m    635\u001b[0m     \u001b[0;32mdef\u001b[0m \u001b[0mfind_element\u001b[0m\u001b[0;34m(\u001b[0m\u001b[0mself\u001b[0m\u001b[0;34m,\u001b[0m \u001b[0mby\u001b[0m\u001b[0;34m=\u001b[0m\u001b[0mBy\u001b[0m\u001b[0;34m.\u001b[0m\u001b[0mID\u001b[0m\u001b[0;34m,\u001b[0m \u001b[0mvalue\u001b[0m\u001b[0;34m=\u001b[0m\u001b[0;32mNone\u001b[0m\u001b[0;34m)\u001b[0m\u001b[0;34m:\u001b[0m\u001b[0;34m\u001b[0m\u001b[0;34m\u001b[0m\u001b[0m\n",
      "\u001b[0;32m~/anaconda3/lib/python3.8/site-packages/selenium/webdriver/remote/webdriver.py\u001b[0m in \u001b[0;36mexecute\u001b[0;34m(self, driver_command, params)\u001b[0m\n\u001b[1;32m    319\u001b[0m         \u001b[0mresponse\u001b[0m \u001b[0;34m=\u001b[0m \u001b[0mself\u001b[0m\u001b[0;34m.\u001b[0m\u001b[0mcommand_executor\u001b[0m\u001b[0;34m.\u001b[0m\u001b[0mexecute\u001b[0m\u001b[0;34m(\u001b[0m\u001b[0mdriver_command\u001b[0m\u001b[0;34m,\u001b[0m \u001b[0mparams\u001b[0m\u001b[0;34m)\u001b[0m\u001b[0;34m\u001b[0m\u001b[0;34m\u001b[0m\u001b[0m\n\u001b[1;32m    320\u001b[0m         \u001b[0;32mif\u001b[0m \u001b[0mresponse\u001b[0m\u001b[0;34m:\u001b[0m\u001b[0;34m\u001b[0m\u001b[0;34m\u001b[0m\u001b[0m\n\u001b[0;32m--> 321\u001b[0;31m             \u001b[0mself\u001b[0m\u001b[0;34m.\u001b[0m\u001b[0merror_handler\u001b[0m\u001b[0;34m.\u001b[0m\u001b[0mcheck_response\u001b[0m\u001b[0;34m(\u001b[0m\u001b[0mresponse\u001b[0m\u001b[0;34m)\u001b[0m\u001b[0;34m\u001b[0m\u001b[0;34m\u001b[0m\u001b[0m\n\u001b[0m\u001b[1;32m    322\u001b[0m             response['value'] = self._unwrap_value(\n\u001b[1;32m    323\u001b[0m                 response.get('value', None))\n",
      "\u001b[0;32m~/anaconda3/lib/python3.8/site-packages/selenium/webdriver/remote/errorhandler.py\u001b[0m in \u001b[0;36mcheck_response\u001b[0;34m(self, response)\u001b[0m\n\u001b[1;32m    240\u001b[0m                 \u001b[0malert_text\u001b[0m \u001b[0;34m=\u001b[0m \u001b[0mvalue\u001b[0m\u001b[0;34m[\u001b[0m\u001b[0;34m'alert'\u001b[0m\u001b[0;34m]\u001b[0m\u001b[0;34m.\u001b[0m\u001b[0mget\u001b[0m\u001b[0;34m(\u001b[0m\u001b[0;34m'text'\u001b[0m\u001b[0;34m)\u001b[0m\u001b[0;34m\u001b[0m\u001b[0;34m\u001b[0m\u001b[0m\n\u001b[1;32m    241\u001b[0m             \u001b[0;32mraise\u001b[0m \u001b[0mexception_class\u001b[0m\u001b[0;34m(\u001b[0m\u001b[0mmessage\u001b[0m\u001b[0;34m,\u001b[0m \u001b[0mscreen\u001b[0m\u001b[0;34m,\u001b[0m \u001b[0mstacktrace\u001b[0m\u001b[0;34m,\u001b[0m \u001b[0malert_text\u001b[0m\u001b[0;34m)\u001b[0m\u001b[0;34m\u001b[0m\u001b[0;34m\u001b[0m\u001b[0m\n\u001b[0;32m--> 242\u001b[0;31m         \u001b[0;32mraise\u001b[0m \u001b[0mexception_class\u001b[0m\u001b[0;34m(\u001b[0m\u001b[0mmessage\u001b[0m\u001b[0;34m,\u001b[0m \u001b[0mscreen\u001b[0m\u001b[0;34m,\u001b[0m \u001b[0mstacktrace\u001b[0m\u001b[0;34m)\u001b[0m\u001b[0;34m\u001b[0m\u001b[0;34m\u001b[0m\u001b[0m\n\u001b[0m\u001b[1;32m    243\u001b[0m \u001b[0;34m\u001b[0m\u001b[0m\n\u001b[1;32m    244\u001b[0m     \u001b[0;32mdef\u001b[0m \u001b[0m_value_or_default\u001b[0m\u001b[0;34m(\u001b[0m\u001b[0mself\u001b[0m\u001b[0;34m,\u001b[0m \u001b[0mobj\u001b[0m\u001b[0;34m,\u001b[0m \u001b[0mkey\u001b[0m\u001b[0;34m,\u001b[0m \u001b[0mdefault\u001b[0m\u001b[0;34m)\u001b[0m\u001b[0;34m:\u001b[0m\u001b[0;34m\u001b[0m\u001b[0;34m\u001b[0m\u001b[0m\n",
      "\u001b[0;31mStaleElementReferenceException\u001b[0m: Message: The element reference of [object String] \"{\\\"element-6066-11e4-a52e-4f735466cecf\\\":\\\"f0c4825c-11db-4baa-b589-d7f5e5da85d0\\\"}\" is stale; either the element is no longer attached to the DOM, it is not in the current frame context, or the document has been refreshed\n"
     ]
    }
   ],
   "source": [
    "description_list = descriptions[2].text.split('/n')[0]\n",
    "description_list1 = description_list.split('\\n')\n",
    "#description_list1 = [x for x in description_list1 if x.isdigit()]\n",
    "description_list1\n"
   ]
  },
  {
   "cell_type": "code",
   "execution_count": 19,
   "id": "1cad9905",
   "metadata": {},
   "outputs": [
    {
     "data": {
      "text/plain": [
       "['Woven tailoring in shimmery sand features teflon(r) fabric protector, silver nail accents, on a solid wooden frame featuring a black crackle finish.',\n",
       " 'Dimensions:42 W X 20 H X 17 D (in)',\n",
       " 'Weight:29']"
      ]
     },
     "execution_count": 19,
     "metadata": {},
     "output_type": "execute_result"
    }
   ],
   "source": [
    "descriptions = driver.find_elements_by_class_name('card__section')\n",
    "    \n",
    "    \n",
    "description_list = descriptions[2].text.split('/n')[0]\n",
    "description_list1 = description_list.split('\\n')\n",
    "#description_list1 = [x for x in description_list1 if x.isdigit()]\n",
    "description_list1"
   ]
  },
  {
   "cell_type": "code",
   "execution_count": 20,
   "id": "4f3fa515",
   "metadata": {},
   "outputs": [
    {
     "data": {
      "text/plain": [
       "True"
      ]
     },
     "execution_count": 20,
     "metadata": {},
     "output_type": "execute_result"
    }
   ],
   "source": []
  },
  {
   "cell_type": "code",
   "execution_count": 21,
   "id": "69ec1489",
   "metadata": {},
   "outputs": [],
   "source": [
    "def return_centimers(inches):\n",
    "    return inches * 2.54"
   ]
  },
  {
   "cell_type": "code",
   "execution_count": null,
   "id": "a15c154d",
   "metadata": {},
   "outputs": [],
   "source": []
  },
  {
   "cell_type": "code",
   "execution_count": 22,
   "id": "666b6586",
   "metadata": {},
   "outputs": [
    {
     "data": {
      "text/plain": [
       "30.48"
      ]
     },
     "execution_count": 22,
     "metadata": {},
     "output_type": "execute_result"
    }
   ],
   "source": [
    "return_centimers(12)"
   ]
  },
  {
   "cell_type": "code",
   "execution_count": null,
   "id": "b9449ebe",
   "metadata": {},
   "outputs": [],
   "source": []
  },
  {
   "cell_type": "code",
   "execution_count": null,
   "id": "79004198",
   "metadata": {},
   "outputs": [],
   "source": []
  },
  {
   "cell_type": "code",
   "execution_count": null,
   "id": "2d361def",
   "metadata": {},
   "outputs": [],
   "source": []
  },
  {
   "cell_type": "code",
   "execution_count": null,
   "id": "12608054",
   "metadata": {},
   "outputs": [],
   "source": []
  },
  {
   "cell_type": "code",
   "execution_count": 197,
   "id": "deff2dce",
   "metadata": {},
   "outputs": [],
   "source": [
    "def return_i(text, y):\n",
    "    for i, toto in enumerate(text):\n",
    "        if y in toto:\n",
    "            return i"
   ]
  },
  {
   "cell_type": "code",
   "execution_count": null,
   "id": "44a9c88b",
   "metadata": {},
   "outputs": [],
   "source": []
  },
  {
   "cell_type": "code",
   "execution_count": null,
   "id": "23f807c2",
   "metadata": {},
   "outputs": [],
   "source": []
  },
  {
   "cell_type": "code",
   "execution_count": 198,
   "id": "a1878b50",
   "metadata": {},
   "outputs": [
    {
     "data": {
      "text/plain": [
       "'  Product Dimensions 19\"W x 19\"D x 20\"H'"
      ]
     },
     "execution_count": 198,
     "metadata": {},
     "output_type": "execute_result"
    }
   ],
   "source": [
    "toto = description_list1[return_i(description_list1, 'Dimensions')]\n",
    "toto"
   ]
  },
  {
   "cell_type": "code",
   "execution_count": null,
   "id": "f4472edf",
   "metadata": {},
   "outputs": [],
   "source": []
  },
  {
   "cell_type": "code",
   "execution_count": 196,
   "id": "6dc36c7a",
   "metadata": {},
   "outputs": [],
   "source": [
    "return_i(description_list1, 'Product Dimensions')"
   ]
  },
  {
   "cell_type": "code",
   "execution_count": null,
   "id": "7f9fea10",
   "metadata": {},
   "outputs": [],
   "source": []
  },
  {
   "cell_type": "code",
   "execution_count": null,
   "id": "ffc3495f",
   "metadata": {},
   "outputs": [],
   "source": []
  },
  {
   "cell_type": "code",
   "execution_count": 189,
   "id": "a03af7e8",
   "metadata": {},
   "outputs": [
    {
     "name": "stdout",
     "output_type": "stream",
     "text": [
      "None\n"
     ]
    }
   ],
   "source": [
    "print(return_i(description_list1, 'Product Dimensions'))"
   ]
  },
  {
   "cell_type": "code",
   "execution_count": 195,
   "id": "bec9af6d",
   "metadata": {},
   "outputs": [
    {
     "data": {
      "text/plain": [
       "'  Product Dimensions 19\"W x 19\"D x 20\"H'"
      ]
     },
     "execution_count": 195,
     "metadata": {},
     "output_type": "execute_result"
    }
   ],
   "source": [
    "description_list1[6]"
   ]
  },
  {
   "cell_type": "code",
   "execution_count": null,
   "id": "37346ae8",
   "metadata": {},
   "outputs": [],
   "source": []
  },
  {
   "cell_type": "code",
   "execution_count": null,
   "id": "257641f3",
   "metadata": {},
   "outputs": [],
   "source": []
  },
  {
   "cell_type": "code",
   "execution_count": null,
   "id": "9a9e3858",
   "metadata": {},
   "outputs": [],
   "source": []
  },
  {
   "cell_type": "code",
   "execution_count": null,
   "id": "d31028c2",
   "metadata": {},
   "outputs": [],
   "source": []
  },
  {
   "cell_type": "code",
   "execution_count": null,
   "id": "d6c23ffb",
   "metadata": {},
   "outputs": [],
   "source": []
  },
  {
   "cell_type": "code",
   "execution_count": null,
   "id": "298ecd56",
   "metadata": {},
   "outputs": [],
   "source": []
  },
  {
   "cell_type": "code",
   "execution_count": 172,
   "id": "3b0a4bb1",
   "metadata": {},
   "outputs": [
    {
     "data": {
      "text/plain": [
       "[\"There's no classier place to put on your feet. The Endora bench features a smooth, top-grain cowhide leather in a ribbed style quilting for a sophisticated look and feeling. The matte gold legs just refines the overall aesthetic.\",\n",
       " 'Dimensions: 59\"W x 19\"D x 16.5\"H',\n",
       " 'Materials:',\n",
       " 'Top Grain Leather',\n",
       " 'Iron Legs',\n",
       " 'Foam,Plywood',\n",
       " 'PK-14']"
      ]
     },
     "execution_count": 172,
     "metadata": {},
     "output_type": "execute_result"
    }
   ],
   "source": [
    "description_list1"
   ]
  },
  {
   "cell_type": "code",
   "execution_count": null,
   "id": "98490bac",
   "metadata": {},
   "outputs": [],
   "source": []
  },
  {
   "cell_type": "code",
   "execution_count": null,
   "id": "d8f8ef6e",
   "metadata": {},
   "outputs": [],
   "source": []
  },
  {
   "cell_type": "code",
   "execution_count": null,
   "id": "d04ba855",
   "metadata": {},
   "outputs": [],
   "source": []
  },
  {
   "cell_type": "code",
   "execution_count": 168,
   "id": "7bd1048a",
   "metadata": {},
   "outputs": [
    {
     "data": {
      "text/plain": [
       "1"
      ]
     },
     "execution_count": 168,
     "metadata": {},
     "output_type": "execute_result"
    }
   ],
   "source": [
    "return_i(description_list1, 'Dimensions:')"
   ]
  },
  {
   "cell_type": "code",
   "execution_count": null,
   "id": "00fb3b84",
   "metadata": {},
   "outputs": [],
   "source": []
  },
  {
   "cell_type": "code",
   "execution_count": null,
   "id": "691d7690",
   "metadata": {},
   "outputs": [],
   "source": []
  },
  {
   "cell_type": "code",
   "execution_count": null,
   "id": "97677f3d",
   "metadata": {},
   "outputs": [],
   "source": []
  },
  {
   "cell_type": "code",
   "execution_count": null,
   "id": "712b667e",
   "metadata": {},
   "outputs": [],
   "source": []
  },
  {
   "cell_type": "code",
   "execution_count": null,
   "id": "b15f1b80",
   "metadata": {},
   "outputs": [],
   "source": []
  },
  {
   "cell_type": "code",
   "execution_count": null,
   "id": "39f95ea7",
   "metadata": {},
   "outputs": [],
   "source": []
  },
  {
   "cell_type": "code",
   "execution_count": null,
   "id": "7657c799",
   "metadata": {},
   "outputs": [],
   "source": []
  },
  {
   "cell_type": "code",
   "execution_count": null,
   "id": "2d851d5d",
   "metadata": {},
   "outputs": [],
   "source": []
  },
  {
   "cell_type": "code",
   "execution_count": null,
   "id": "df64b147",
   "metadata": {},
   "outputs": [],
   "source": []
  },
  {
   "cell_type": "code",
   "execution_count": null,
   "id": "a11d5da5",
   "metadata": {},
   "outputs": [],
   "source": []
  },
  {
   "cell_type": "code",
   "execution_count": null,
   "id": "9b493c6e",
   "metadata": {},
   "outputs": [],
   "source": []
  },
  {
   "cell_type": "code",
   "execution_count": null,
   "id": "3a7b3a17",
   "metadata": {},
   "outputs": [],
   "source": []
  },
  {
   "cell_type": "code",
   "execution_count": null,
   "id": "b8e3e640",
   "metadata": {},
   "outputs": [],
   "source": []
  },
  {
   "cell_type": "code",
   "execution_count": null,
   "id": "e9c17499",
   "metadata": {},
   "outputs": [],
   "source": []
  },
  {
   "cell_type": "code",
   "execution_count": null,
   "id": "8ac9715c",
   "metadata": {},
   "outputs": [],
   "source": []
  },
  {
   "cell_type": "code",
   "execution_count": 127,
   "id": "04589525",
   "metadata": {},
   "outputs": [],
   "source": [
    "toto = description_list1[return_i(description_list1, 'Dimensions:')].replace('Dimensions:', '').split('x')\n",
    "if len(toto) == 1:\n",
    "    toto = toto[0].split('X')"
   ]
  },
  {
   "cell_type": "code",
   "execution_count": null,
   "id": "b968a48c",
   "metadata": {},
   "outputs": [],
   "source": []
  },
  {
   "cell_type": "code",
   "execution_count": 128,
   "id": "6b495a8b",
   "metadata": {},
   "outputs": [
    {
     "data": {
      "text/plain": [
       "['25 ', ' 15.5 ', ' 21 inch']"
      ]
     },
     "execution_count": 128,
     "metadata": {},
     "output_type": "execute_result"
    }
   ],
   "source": [
    "toto\n"
   ]
  },
  {
   "cell_type": "code",
   "execution_count": 131,
   "id": "99f05c9d",
   "metadata": {},
   "outputs": [],
   "source": [
    "length = [x for x in toto if 'D' in x or 'L' in x ]\n"
   ]
  },
  {
   "cell_type": "code",
   "execution_count": 132,
   "id": "ec9fca99",
   "metadata": {},
   "outputs": [
    {
     "data": {
      "text/plain": [
       "[]"
      ]
     },
     "execution_count": 132,
     "metadata": {},
     "output_type": "execute_result"
    }
   ],
   "source": [
    "length"
   ]
  },
  {
   "cell_type": "code",
   "execution_count": null,
   "id": "56a95506",
   "metadata": {},
   "outputs": [],
   "source": []
  },
  {
   "cell_type": "code",
   "execution_count": null,
   "id": "a2cc2fb1",
   "metadata": {},
   "outputs": [],
   "source": []
  },
  {
   "cell_type": "code",
   "execution_count": null,
   "id": "bfe339ee",
   "metadata": {},
   "outputs": [],
   "source": []
  },
  {
   "cell_type": "code",
   "execution_count": null,
   "id": "5c4e1d17",
   "metadata": {},
   "outputs": [],
   "source": []
  },
  {
   "cell_type": "code",
   "execution_count": null,
   "id": "c29659f1",
   "metadata": {},
   "outputs": [],
   "source": []
  },
  {
   "cell_type": "code",
   "execution_count": null,
   "id": "cfec7de3",
   "metadata": {},
   "outputs": [],
   "source": []
  },
  {
   "cell_type": "code",
   "execution_count": 129,
   "id": "15a538d0",
   "metadata": {},
   "outputs": [
    {
     "ename": "IndexError",
     "evalue": "list index out of range",
     "output_type": "error",
     "traceback": [
      "\u001b[0;31m---------------------------------------------------------------------------\u001b[0m",
      "\u001b[0;31mIndexError\u001b[0m                                Traceback (most recent call last)",
      "\u001b[0;32m<ipython-input-129-9704d1dc4ca6>\u001b[0m in \u001b[0;36m<module>\u001b[0;34m\u001b[0m\n\u001b[0;32m----> 1\u001b[0;31m \u001b[0mlength\u001b[0m \u001b[0;34m=\u001b[0m \u001b[0;34m[\u001b[0m\u001b[0mx\u001b[0m \u001b[0;32mfor\u001b[0m \u001b[0mx\u001b[0m \u001b[0;32min\u001b[0m \u001b[0mtoto\u001b[0m \u001b[0;32mif\u001b[0m \u001b[0;34m'D'\u001b[0m \u001b[0;32min\u001b[0m \u001b[0mx\u001b[0m \u001b[0;32mor\u001b[0m \u001b[0;34m'L'\u001b[0m \u001b[0;32min\u001b[0m \u001b[0mx\u001b[0m \u001b[0;34m]\u001b[0m\u001b[0;34m[\u001b[0m\u001b[0;36m0\u001b[0m\u001b[0;34m]\u001b[0m\u001b[0;34m.\u001b[0m\u001b[0mreplace\u001b[0m\u001b[0;34m(\u001b[0m\u001b[0;34m'D'\u001b[0m\u001b[0;34m,\u001b[0m \u001b[0;34m''\u001b[0m\u001b[0;34m)\u001b[0m\u001b[0;34m.\u001b[0m\u001b[0mreplace\u001b[0m\u001b[0;34m(\u001b[0m\u001b[0;34m'\"'\u001b[0m\u001b[0;34m,\u001b[0m \u001b[0;34m''\u001b[0m\u001b[0;34m)\u001b[0m\u001b[0;34m.\u001b[0m\u001b[0mreplace\u001b[0m\u001b[0;34m(\u001b[0m\u001b[0;34m'cm'\u001b[0m\u001b[0;34m,\u001b[0m \u001b[0;34m''\u001b[0m\u001b[0;34m)\u001b[0m\u001b[0;34m.\u001b[0m\u001b[0mstrip\u001b[0m\u001b[0;34m(\u001b[0m\u001b[0;34m)\u001b[0m\u001b[0;34m\u001b[0m\u001b[0;34m\u001b[0m\u001b[0m\n\u001b[0m\u001b[1;32m      2\u001b[0m \u001b[0mheight\u001b[0m \u001b[0;34m=\u001b[0m \u001b[0;34m[\u001b[0m\u001b[0mx\u001b[0m \u001b[0;32mfor\u001b[0m \u001b[0mx\u001b[0m \u001b[0;32min\u001b[0m \u001b[0mtoto\u001b[0m \u001b[0;32mif\u001b[0m \u001b[0;34m'H'\u001b[0m \u001b[0;32min\u001b[0m \u001b[0mx\u001b[0m \u001b[0;34m]\u001b[0m\u001b[0;34m[\u001b[0m\u001b[0;36m0\u001b[0m\u001b[0;34m]\u001b[0m\u001b[0;34m.\u001b[0m\u001b[0mreplace\u001b[0m\u001b[0;34m(\u001b[0m\u001b[0;34m'H'\u001b[0m\u001b[0;34m,\u001b[0m \u001b[0;34m''\u001b[0m\u001b[0;34m)\u001b[0m\u001b[0;34m.\u001b[0m\u001b[0mreplace\u001b[0m\u001b[0;34m(\u001b[0m\u001b[0;34m'\"'\u001b[0m\u001b[0;34m,\u001b[0m \u001b[0;34m''\u001b[0m\u001b[0;34m)\u001b[0m\u001b[0;34m.\u001b[0m\u001b[0mreplace\u001b[0m\u001b[0;34m(\u001b[0m\u001b[0;34m'cm'\u001b[0m\u001b[0;34m,\u001b[0m \u001b[0;34m''\u001b[0m\u001b[0;34m)\u001b[0m\u001b[0;34m.\u001b[0m\u001b[0mstrip\u001b[0m\u001b[0;34m(\u001b[0m\u001b[0;34m)\u001b[0m\u001b[0;34m\u001b[0m\u001b[0;34m\u001b[0m\u001b[0m\n\u001b[1;32m      3\u001b[0m \u001b[0mwidth\u001b[0m \u001b[0;34m=\u001b[0m \u001b[0;34m[\u001b[0m\u001b[0mx\u001b[0m \u001b[0;32mfor\u001b[0m \u001b[0mx\u001b[0m \u001b[0;32min\u001b[0m \u001b[0mtoto\u001b[0m \u001b[0;32mif\u001b[0m \u001b[0;34m'W'\u001b[0m \u001b[0;32min\u001b[0m \u001b[0mx\u001b[0m \u001b[0;34m]\u001b[0m\u001b[0;34m[\u001b[0m\u001b[0;36m0\u001b[0m\u001b[0;34m]\u001b[0m\u001b[0;34m.\u001b[0m\u001b[0mreplace\u001b[0m\u001b[0;34m(\u001b[0m\u001b[0;34m'W'\u001b[0m\u001b[0;34m,\u001b[0m \u001b[0;34m''\u001b[0m\u001b[0;34m)\u001b[0m\u001b[0;34m.\u001b[0m\u001b[0mreplace\u001b[0m\u001b[0;34m(\u001b[0m\u001b[0;34m'\"'\u001b[0m\u001b[0;34m,\u001b[0m \u001b[0;34m''\u001b[0m\u001b[0;34m)\u001b[0m\u001b[0;34m.\u001b[0m\u001b[0mreplace\u001b[0m\u001b[0;34m(\u001b[0m\u001b[0;34m'cm'\u001b[0m\u001b[0;34m,\u001b[0m \u001b[0;34m''\u001b[0m\u001b[0;34m)\u001b[0m\u001b[0;34m.\u001b[0m\u001b[0mstrip\u001b[0m\u001b[0;34m(\u001b[0m\u001b[0;34m)\u001b[0m\u001b[0;34m\u001b[0m\u001b[0;34m\u001b[0m\u001b[0m\n",
      "\u001b[0;31mIndexError\u001b[0m: list index out of range"
     ]
    }
   ],
   "source": [
    "length = [x for x in toto if 'D' in x or 'L' in x ][0].replace('D', '').replace('\"', '').replace('cm', '').strip()\n",
    "height = [x for x in toto if 'H' in x ][0].replace('H', '').replace('\"', '').replace('cm', '').strip()\n",
    "width = [x for x in toto if 'W' in x ][0].replace('W', '').replace('\"', '').replace('cm', '').strip()"
   ]
  },
  {
   "cell_type": "code",
   "execution_count": null,
   "id": "d41188a2",
   "metadata": {},
   "outputs": [],
   "source": []
  },
  {
   "cell_type": "code",
   "execution_count": 117,
   "id": "3e267bb4",
   "metadata": {},
   "outputs": [
    {
     "data": {
      "text/plain": [
       "'21'"
      ]
     },
     "execution_count": 117,
     "metadata": {},
     "output_type": "execute_result"
    }
   ],
   "source": [
    "height"
   ]
  },
  {
   "cell_type": "code",
   "execution_count": null,
   "id": "1e10a4d2",
   "metadata": {},
   "outputs": [],
   "source": []
  },
  {
   "cell_type": "code",
   "execution_count": 116,
   "id": "71ef8f34",
   "metadata": {},
   "outputs": [
    {
     "data": {
      "text/plain": [
       "'16  (in)'"
      ]
     },
     "execution_count": 116,
     "metadata": {},
     "output_type": "execute_result"
    }
   ],
   "source": [
    "length"
   ]
  },
  {
   "cell_type": "code",
   "execution_count": null,
   "id": "72f1b6ea",
   "metadata": {},
   "outputs": [],
   "source": []
  },
  {
   "cell_type": "code",
   "execution_count": null,
   "id": "b06743eb",
   "metadata": {},
   "outputs": [],
   "source": []
  },
  {
   "cell_type": "code",
   "execution_count": null,
   "id": "7ac27fea",
   "metadata": {},
   "outputs": [],
   "source": []
  },
  {
   "cell_type": "code",
   "execution_count": 99,
   "id": "420a2d36",
   "metadata": {},
   "outputs": [
    {
     "data": {
      "text/plain": [
       "'18'"
      ]
     },
     "execution_count": 99,
     "metadata": {},
     "output_type": "execute_result"
    }
   ],
   "source": [
    "height"
   ]
  },
  {
   "cell_type": "code",
   "execution_count": null,
   "id": "62e1a5f5",
   "metadata": {},
   "outputs": [],
   "source": []
  },
  {
   "cell_type": "code",
   "execution_count": null,
   "id": "d392d8e9",
   "metadata": {},
   "outputs": [],
   "source": []
  },
  {
   "cell_type": "code",
   "execution_count": null,
   "id": "cdc47866",
   "metadata": {},
   "outputs": [],
   "source": []
  },
  {
   "cell_type": "code",
   "execution_count": null,
   "id": "db974d60",
   "metadata": {},
   "outputs": [],
   "source": []
  },
  {
   "cell_type": "code",
   "execution_count": null,
   "id": "af2062cc",
   "metadata": {},
   "outputs": [],
   "source": []
  },
  {
   "cell_type": "code",
   "execution_count": 16,
   "id": "8457546a",
   "metadata": {},
   "outputs": [
    {
     "data": {
      "text/plain": [
       "[\"There's no classier place to put on your feet. The Endora bench features a smooth, top-grain cowhide leather in a ribbed style quilting for a sophisticated look and feeling. The matte gold legs just refines the overall aesthetic.\"]"
      ]
     },
     "execution_count": 16,
     "metadata": {},
     "output_type": "execute_result"
    }
   ],
   "source": [
    "toto = description_list1[return_i(description_list1, 'Dimensions:')].replace('Dimensions:', '').split('x')\n",
    "toto"
   ]
  },
  {
   "cell_type": "code",
   "execution_count": 17,
   "id": "a0f3bb15",
   "metadata": {},
   "outputs": [
    {
     "data": {
      "text/plain": [
       "0"
      ]
     },
     "execution_count": 17,
     "metadata": {},
     "output_type": "execute_result"
    }
   ],
   "source": [
    "return_i(description_list1, 'Dimensions:')"
   ]
  },
  {
   "cell_type": "code",
   "execution_count": 18,
   "id": "ac7cc695",
   "metadata": {},
   "outputs": [
    {
     "data": {
      "text/plain": [
       "[\"There's no classier place to put on your feet. The Endora bench features a smooth, top-grain cowhide leather in a ribbed style quilting for a sophisticated look and feeling. The matte gold legs just refines the overall aesthetic.\",\n",
       " 'Dimensions: 59\"W x 19\"D x 16.5\"H',\n",
       " 'Materials:',\n",
       " 'Top Grain Leather',\n",
       " 'Iron Legs',\n",
       " 'Foam,Plywood',\n",
       " 'PK-14']"
      ]
     },
     "execution_count": 18,
     "metadata": {},
     "output_type": "execute_result"
    }
   ],
   "source": [
    "description_list1"
   ]
  },
  {
   "cell_type": "code",
   "execution_count": null,
   "id": "96a15f77",
   "metadata": {},
   "outputs": [],
   "source": []
  },
  {
   "cell_type": "code",
   "execution_count": null,
   "id": "446639a9",
   "metadata": {},
   "outputs": [],
   "source": []
  },
  {
   "cell_type": "code",
   "execution_count": null,
   "id": "c16cd494",
   "metadata": {},
   "outputs": [],
   "source": []
  },
  {
   "cell_type": "code",
   "execution_count": null,
   "id": "b7a1ed22",
   "metadata": {},
   "outputs": [],
   "source": []
  },
  {
   "cell_type": "code",
   "execution_count": 8,
   "id": "a08a7938",
   "metadata": {},
   "outputs": [
    {
     "data": {
      "text/plain": [
       "[\"There's no classier place to put on your feet. The Endora bench features a smooth, top-grain cowhide leather in a ribbed style quilting for a sophisticated look and feeling. The matte gold legs just refines the overall aesthetic.\"]"
      ]
     },
     "execution_count": 8,
     "metadata": {},
     "output_type": "execute_result"
    }
   ],
   "source": [
    "toto = description_list1[0].replace('Dimensions:', '').split('x')\n",
    "toto"
   ]
  },
  {
   "cell_type": "code",
   "execution_count": 10,
   "id": "24d9ea7e",
   "metadata": {},
   "outputs": [
    {
     "name": "stdout",
     "output_type": "stream",
     "text": [
      "1\n"
     ]
    }
   ],
   "source": [
    "\n",
    "if search_word_list('Dimensions:', description_list1):\n",
    "    print('1')"
   ]
  },
  {
   "cell_type": "code",
   "execution_count": null,
   "id": "a637c1f2",
   "metadata": {},
   "outputs": [],
   "source": []
  },
  {
   "cell_type": "code",
   "execution_count": null,
   "id": "3cc42156",
   "metadata": {},
   "outputs": [],
   "source": []
  },
  {
   "cell_type": "code",
   "execution_count": null,
   "id": "2996e48b",
   "metadata": {},
   "outputs": [],
   "source": []
  },
  {
   "cell_type": "code",
   "execution_count": null,
   "id": "388a98ff",
   "metadata": {},
   "outputs": [],
   "source": []
  },
  {
   "cell_type": "code",
   "execution_count": null,
   "id": "bac0d239",
   "metadata": {},
   "outputs": [],
   "source": []
  },
  {
   "cell_type": "code",
   "execution_count": null,
   "id": "72b379e4",
   "metadata": {},
   "outputs": [],
   "source": []
  },
  {
   "cell_type": "code",
   "execution_count": null,
   "id": "884046cb",
   "metadata": {},
   "outputs": [],
   "source": []
  },
  {
   "cell_type": "code",
   "execution_count": null,
   "id": "208e95e2",
   "metadata": {},
   "outputs": [],
   "source": []
  },
  {
   "cell_type": "code",
   "execution_count": null,
   "id": "1772f1f1",
   "metadata": {},
   "outputs": [],
   "source": []
  },
  {
   "cell_type": "code",
   "execution_count": null,
   "id": "6b896e77",
   "metadata": {},
   "outputs": [],
   "source": []
  },
  {
   "cell_type": "code",
   "execution_count": 220,
   "id": "cb232881",
   "metadata": {},
   "outputs": [
    {
     "name": "stdout",
     "output_type": "stream",
     "text": [
      "toto\n"
     ]
    }
   ],
   "source": [
    "if search_word_list('إرتفاع', description_list1[0].split('×')) or search_word_list('عمق', description_list1[0].split('×')) or search_word_list('عرض', description_list1[0].split('×')):\n",
    "    description_list1\n",
    "    print('toto')"
   ]
  },
  {
   "cell_type": "code",
   "execution_count": null,
   "id": "03461cde",
   "metadata": {},
   "outputs": [],
   "source": []
  },
  {
   "cell_type": "code",
   "execution_count": null,
   "id": "e3d503f7",
   "metadata": {},
   "outputs": [],
   "source": []
  },
  {
   "cell_type": "code",
   "execution_count": null,
   "id": "57ceccc0",
   "metadata": {},
   "outputs": [],
   "source": []
  },
  {
   "cell_type": "code",
   "execution_count": null,
   "id": "f50b995c",
   "metadata": {},
   "outputs": [],
   "source": []
  },
  {
   "cell_type": "code",
   "execution_count": null,
   "id": "f4b16ec3",
   "metadata": {},
   "outputs": [],
   "source": []
  },
  {
   "cell_type": "code",
   "execution_count": null,
   "id": "7acedcc7",
   "metadata": {},
   "outputs": [],
   "source": []
  },
  {
   "cell_type": "code",
   "execution_count": null,
   "id": "2f5a733e",
   "metadata": {},
   "outputs": [],
   "source": []
  },
  {
   "cell_type": "code",
   "execution_count": 203,
   "id": "c497c8e5",
   "metadata": {},
   "outputs": [
    {
     "data": {
      "text/plain": [
       "7"
      ]
     },
     "execution_count": 203,
     "metadata": {},
     "output_type": "execute_result"
    }
   ],
   "source": [
    "list_images = []\n",
    "images_click = driver.find_elements_by_class_name('product-gallery__thumbnail')\n",
    "\n",
    "\n",
    "for ele in images_click:\n",
    "    ele.click()\n",
    "    time.sleep(0.5)\n",
    "\n",
    "\n",
    "images = driver.find_elements_by_class_name('product-gallery__image')\n",
    "\n",
    "# print(len(images))\n",
    "for img in images:\n",
    "    #list_images.append('https:'+img.get_attribute('data-srcset').split(' ')[0])\n",
    "    #print(':', img.get_attribute('data-srcset'))\n",
    "    t = 'https:'+img.get_attribute('data-srcset').split(', ')[0]\n",
    "    #print(t)\n",
    "    list_images.append(t)\n",
    "len(images)"
   ]
  },
  {
   "cell_type": "code",
   "execution_count": null,
   "id": "ebc0dc93",
   "metadata": {},
   "outputs": [],
   "source": []
  },
  {
   "cell_type": "code",
   "execution_count": null,
   "id": "e81bb235",
   "metadata": {},
   "outputs": [],
   "source": []
  },
  {
   "cell_type": "code",
   "execution_count": null,
   "id": "0917acb9",
   "metadata": {},
   "outputs": [],
   "source": []
  },
  {
   "cell_type": "code",
   "execution_count": null,
   "id": "b11c7e47",
   "metadata": {},
   "outputs": [],
   "source": []
  },
  {
   "cell_type": "code",
   "execution_count": null,
   "id": "9d581326",
   "metadata": {},
   "outputs": [],
   "source": []
  },
  {
   "cell_type": "code",
   "execution_count": 121,
   "id": "8d641471",
   "metadata": {},
   "outputs": [],
   "source": [
    "def search_word_list(word, list_search):\n",
    "    for text in list_search:\n",
    "        if text.find(text) == 0:\n",
    "            return True\n",
    "        "
   ]
  },
  {
   "cell_type": "code",
   "execution_count": null,
   "id": "0194c9be",
   "metadata": {},
   "outputs": [],
   "source": []
  },
  {
   "cell_type": "code",
   "execution_count": null,
   "id": "01509bf8",
   "metadata": {},
   "outputs": [],
   "source": []
  },
  {
   "cell_type": "code",
   "execution_count": null,
   "id": "5c5b80b1",
   "metadata": {},
   "outputs": [],
   "source": []
  },
  {
   "cell_type": "code",
   "execution_count": 106,
   "id": "774342c9",
   "metadata": {},
   "outputs": [
    {
     "name": "stdout",
     "output_type": "stream",
     "text": [
      "H 50.17\n",
      "L 84.46\n",
      "W 193.68\n"
     ]
    }
   ],
   "source": [
    "\n",
    "print('H', height1)\n",
    "print('L',length1)\n",
    "print('W',width1)"
   ]
  },
  {
   "cell_type": "code",
   "execution_count": null,
   "id": "61a2f79a",
   "metadata": {},
   "outputs": [],
   "source": []
  },
  {
   "cell_type": "code",
   "execution_count": null,
   "id": "4c824fc6",
   "metadata": {},
   "outputs": [],
   "source": []
  },
  {
   "cell_type": "code",
   "execution_count": 82,
   "id": "aad30deb",
   "metadata": {},
   "outputs": [
    {
     "data": {
      "text/plain": [
       "'Metal frame. Glass top. Shelf at bottom with trellis pattern.'"
      ]
     },
     "execution_count": 82,
     "metadata": {},
     "output_type": "execute_result"
    }
   ],
   "source": [
    "Description = description_list1[description_list1.index('FEATURES:')+1]\n",
    "Description"
   ]
  },
  {
   "cell_type": "code",
   "execution_count": 89,
   "id": "cfecc7c0",
   "metadata": {},
   "outputs": [
    {
     "data": {
      "text/plain": [
       "'127W x 127D x 47.63H cm'"
      ]
     },
     "execution_count": 89,
     "metadata": {},
     "output_type": "execute_result"
    }
   ],
   "source": [
    "Dimensions= description_list1[description_list1.index('DIMENSIONS (CM):')+1]\n",
    "Dimensions"
   ]
  },
  {
   "cell_type": "code",
   "execution_count": 90,
   "id": "897161da",
   "metadata": {},
   "outputs": [
    {
     "data": {
      "text/plain": [
       "'Steel Metal and Cast Iron'"
      ]
     },
     "execution_count": 90,
     "metadata": {},
     "output_type": "execute_result"
    }
   ],
   "source": [
    "Master_Item_Number = description_list1[description_list1.index('MATERIAL:')+1]\n",
    "Master_Item_Number\n"
   ]
  },
  {
   "cell_type": "code",
   "execution_count": 143,
   "id": "c2fcb0e8",
   "metadata": {},
   "outputs": [],
   "source": [
    "driver.get(links_products[78])"
   ]
  },
  {
   "cell_type": "code",
   "execution_count": 144,
   "id": "6debd022",
   "metadata": {},
   "outputs": [],
   "source": [
    "collection = driver.find_element_by_class_name('product-meta__vendor ').text"
   ]
  },
  {
   "cell_type": "code",
   "execution_count": 145,
   "id": "73b2097b",
   "metadata": {},
   "outputs": [
    {
     "data": {
      "text/plain": [
       "'TOV'"
      ]
     },
     "execution_count": 145,
     "metadata": {},
     "output_type": "execute_result"
    }
   ],
   "source": [
    "collection"
   ]
  },
  {
   "cell_type": "code",
   "execution_count": null,
   "id": "7c4067ff",
   "metadata": {},
   "outputs": [],
   "source": []
  },
  {
   "cell_type": "code",
   "execution_count": null,
   "id": "66fe91ed",
   "metadata": {},
   "outputs": [],
   "source": []
  },
  {
   "cell_type": "code",
   "execution_count": null,
   "id": "7f3698ee",
   "metadata": {},
   "outputs": [],
   "source": []
  },
  {
   "cell_type": "code",
   "execution_count": null,
   "id": "53822c10",
   "metadata": {},
   "outputs": [],
   "source": []
  },
  {
   "cell_type": "code",
   "execution_count": null,
   "id": "6ae9fdac",
   "metadata": {},
   "outputs": [],
   "source": [
    "#Cas 1:\n",
    "# 'الأبعاد (سم):',\n",
    " '162.56 عرض x 59.06 عمق x 66.68 ارتفاع \n",
    "    \n",
    "#Cas 2:\n",
    "\n",
    " ['Color: Blue', 'Depth: 50.8 cm', 'Height: 45.27 cm', 'Width: 99 cm']\n",
    "    \n",
    "#Cas 3:\n",
    "# 'الأبعاد (سم):',\n",
    " 'Dimensions:22 W X 19 H X 17 D (in)',\n",
    "    \n",
    "#Cas 4:\n",
    "# 'الأبعاد (سم):',\n",
    " '78.8\"W x 15.8\"D x 18\"H',"
   ]
  },
  {
   "cell_type": "code",
   "execution_count": 67,
   "id": "bbca90ea",
   "metadata": {},
   "outputs": [],
   "source": [
    "text = ['Color: Blue', 'Depth: 50.8 cm', 'Height: 45.27 cm', 'Width: 99 cm']"
   ]
  },
  {
   "cell_type": "code",
   "execution_count": 166,
   "id": "b6fc392d",
   "metadata": {},
   "outputs": [],
   "source": [
    "driver.get(links_products[80])"
   ]
  },
  {
   "cell_type": "code",
   "execution_count": null,
   "id": "3180920d",
   "metadata": {},
   "outputs": [],
   "source": []
  },
  {
   "cell_type": "code",
   "execution_count": 206,
   "id": "6922b186",
   "metadata": {},
   "outputs": [
    {
     "data": {
      "text/plain": [
       "['Material:METAL / FABRIC',\n",
       " 'Color:IVORY/BEIGE',\n",
       " 'Weight:11.2 lbs',\n",
       " 'Dimensions:25 x 15.5 x 21 inch']"
      ]
     },
     "execution_count": 206,
     "metadata": {},
     "output_type": "execute_result"
    }
   ],
   "source": [
    "\n",
    "descriptions = driver.find_elements_by_class_name('card__section')\n",
    "    \n",
    "    \n",
    "description_list = descriptions[2].text.split('/n')[0]\n",
    "description_list1 = description_list.split('\\n')\n",
    "#description_list1 = [x for x in description_list1 if x.isdigit()]\n",
    "description_list1"
   ]
  },
  {
   "cell_type": "code",
   "execution_count": null,
   "id": "704cd3a4",
   "metadata": {},
   "outputs": [],
   "source": []
  },
  {
   "cell_type": "code",
   "execution_count": 171,
   "id": "cc4f6f72",
   "metadata": {},
   "outputs": [
    {
     "data": {
      "text/plain": [
       "['50\"W ', ' 24\"D ', ' 14.9\"H']"
      ]
     },
     "execution_count": 171,
     "metadata": {},
     "output_type": "execute_result"
    }
   ],
   "source": [
    "toto = description_list1[0].split('x')\n",
    "toto"
   ]
  },
  {
   "cell_type": "code",
   "execution_count": null,
   "id": "b874bf72",
   "metadata": {},
   "outputs": [],
   "source": []
  },
  {
   "cell_type": "code",
   "execution_count": null,
   "id": "4c792236",
   "metadata": {},
   "outputs": [],
   "source": []
  },
  {
   "cell_type": "code",
   "execution_count": null,
   "id": "2bec2217",
   "metadata": {},
   "outputs": [],
   "source": []
  },
  {
   "cell_type": "code",
   "execution_count": 180,
   "id": "d4ae041d",
   "metadata": {},
   "outputs": [
    {
     "name": "stdout",
     "output_type": "stream",
     "text": [
      "height 14.9\n",
      "length 24\n",
      "width 50\n"
     ]
    }
   ],
   "source": [
    "if search_word_list('\"H', description_list1) or search_word_list('\"W', description_list1) or search_word_list('\"W', description_list1):\n",
    "\n",
    "    toto = description_list1[0].split('x')\n",
    "    length = [x for x in toto if 'D' in x ][0].replace('D', '').replace('\"', '').replace('cm', '').strip()\n",
    "    height = [x for x in toto if 'H' in x ][0].replace('H', '').replace('\"', '').replace('cm', '').strip()\n",
    "    width = [x for x in toto if 'W' in x ][0].replace('W', '').replace('\"', '').replace('cm', '').strip()\n",
    "\n",
    "\n",
    "\n",
    "    print('height', height)\n",
    "    print('length', length)\n",
    "    print('width', width)"
   ]
  },
  {
   "cell_type": "code",
   "execution_count": null,
   "id": "ed2eb491",
   "metadata": {},
   "outputs": [],
   "source": []
  },
  {
   "cell_type": "code",
   "execution_count": null,
   "id": "f23d8ec4",
   "metadata": {},
   "outputs": [],
   "source": []
  },
  {
   "cell_type": "code",
   "execution_count": null,
   "id": "fcd22f7a",
   "metadata": {},
   "outputs": [],
   "source": []
  },
  {
   "cell_type": "code",
   "execution_count": null,
   "id": "a719c288",
   "metadata": {},
   "outputs": [],
   "source": []
  },
  {
   "cell_type": "code",
   "execution_count": null,
   "id": "90d77340",
   "metadata": {},
   "outputs": [],
   "source": []
  },
  {
   "cell_type": "code",
   "execution_count": null,
   "id": "54de70b5",
   "metadata": {},
   "outputs": [],
   "source": [
    "my_regex_pattern = r\"https://subscene.com/subtitles/(?P<title>[\\w-]+)/(?P<language>[\\w-]+)/(?P<product_id>[\\w-]+)\"\n",
    "\n",
    "for lin in links:\n",
    "    try:\n",
    "        my_match = regex.match(lin.get_attribute('href'))\n",
    "        if my_match != None and my_match['language'] == 'arabic':\n",
    "            link_list.append(lin.get_attribute('href'))\n",
    "    except:\n",
    "        pass"
   ]
  },
  {
   "cell_type": "code",
   "execution_count": 38,
   "id": "2dc52a89",
   "metadata": {},
   "outputs": [],
   "source": [
    "def isfloat(value):\n",
    "    try:\n",
    "        float(value)\n",
    "        return True\n",
    "    except ValueError:\n",
    "        return False\n"
   ]
  },
  {
   "cell_type": "code",
   "execution_count": null,
   "id": "4551d8b2",
   "metadata": {},
   "outputs": [],
   "source": []
  },
  {
   "cell_type": "code",
   "execution_count": 146,
   "id": "ab6f7a42",
   "metadata": {},
   "outputs": [
    {
     "data": {
      "text/plain": [
       "['48.8\"W x 18.5\"D x 18.3\"H']"
      ]
     },
     "execution_count": 146,
     "metadata": {},
     "output_type": "execute_result"
    }
   ],
   "source": [
    "\n",
    "descriptions = driver.find_elements_by_class_name('card__section')\n",
    "    \n",
    "    \n",
    "description_list = descriptions[2].text.split('/n')[0]\n",
    "description_list1 = description_list.split('\\n')\n",
    "#description_list1 = [x for x in description_list1 if x.isdigit()]\n",
    "description_list1"
   ]
  },
  {
   "cell_type": "code",
   "execution_count": null,
   "id": "37a6d0ae",
   "metadata": {},
   "outputs": [],
   "source": []
  },
  {
   "cell_type": "code",
   "execution_count": null,
   "id": "322774cc",
   "metadata": {},
   "outputs": [],
   "source": []
  },
  {
   "cell_type": "code",
   "execution_count": null,
   "id": "0684b147",
   "metadata": {},
   "outputs": [],
   "source": []
  },
  {
   "cell_type": "code",
   "execution_count": null,
   "id": "ecf9ad9a",
   "metadata": {},
   "outputs": [],
   "source": []
  },
  {
   "cell_type": "code",
   "execution_count": 25,
   "id": "f7f35617",
   "metadata": {},
   "outputs": [
    {
     "data": {
      "text/plain": [
       "['Master Item Number:',\n",
       " 'D647-00',\n",
       " 'Description:',\n",
       " 'Large UPH Dining Room Bench',\n",
       " 'Series:',\n",
       " 'D647 Bolanburg',\n",
       " 'Colors:',\n",
       " 'Two-tone',\n",
       " 'Style:',\n",
       " 'Vintage Casual®',\n",
       " 'Dimensions (Confirmed):',\n",
       " 'Inches: 50.13\" W x 15.13\" D x 19.5\" H',\n",
       " 'Metric: 1273.3mm W x 384.3mm D x 495.3mm H',\n",
       " 'Carton:',\n",
       " 'Inches: 53.5\" W x 20.5\" D x 5.88\" H',\n",
       " 'Metric: 1358.9mm W x 520.7mm D x 149.35mm H',\n",
       " 'Weight (lbs/kgs):',\n",
       " '44 / 19.96',\n",
       " 'Cubes (ft/m):',\n",
       " '3.73 / 0.11',\n",
       " 'عرض أقل']"
      ]
     },
     "execution_count": 25,
     "metadata": {},
     "output_type": "execute_result"
    }
   ],
   "source": [
    "descriptions[2].text.split('\\n')"
   ]
  },
  {
   "cell_type": "code",
   "execution_count": null,
   "id": "c3c92b62",
   "metadata": {},
   "outputs": [],
   "source": []
  },
  {
   "cell_type": "code",
   "execution_count": 3,
   "id": "6b9b667c",
   "metadata": {},
   "outputs": [],
   "source": [
    "driver.get('https://www.alrugaibfurniture.com/ar/collections/benches/products/endora-bench-cappuccino')"
   ]
  },
  {
   "cell_type": "code",
   "execution_count": null,
   "id": "27010c28",
   "metadata": {},
   "outputs": [],
   "source": []
  },
  {
   "cell_type": "code",
   "execution_count": null,
   "id": "33aa9d43",
   "metadata": {},
   "outputs": [],
   "source": []
  },
  {
   "cell_type": "code",
   "execution_count": null,
   "id": "c5c2f1ef",
   "metadata": {},
   "outputs": [],
   "source": []
  },
  {
   "cell_type": "code",
   "execution_count": null,
   "id": "6b1f6224",
   "metadata": {},
   "outputs": [],
   "source": []
  },
  {
   "cell_type": "code",
   "execution_count": null,
   "id": "c92c9077",
   "metadata": {},
   "outputs": [],
   "source": []
  },
  {
   "cell_type": "code",
   "execution_count": 70,
   "id": "9c2e4aae",
   "metadata": {},
   "outputs": [],
   "source": [
    "click_more = driver.find_element_by_class_name('expandable-content__toggle-icon')\n",
    "click_more.click()"
   ]
  },
  {
   "cell_type": "code",
   "execution_count": null,
   "id": "57ec90a2",
   "metadata": {},
   "outputs": [],
   "source": []
  },
  {
   "cell_type": "code",
   "execution_count": null,
   "id": "e2255077",
   "metadata": {},
   "outputs": [],
   "source": []
  },
  {
   "cell_type": "code",
   "execution_count": null,
   "id": "e899a19f",
   "metadata": {},
   "outputs": [],
   "source": []
  },
  {
   "cell_type": "code",
   "execution_count": null,
   "id": "bb57e84d",
   "metadata": {},
   "outputs": [],
   "source": []
  },
  {
   "cell_type": "code",
   "execution_count": null,
   "id": "5c486818",
   "metadata": {},
   "outputs": [],
   "source": []
  },
  {
   "cell_type": "code",
   "execution_count": 30,
   "id": "09932391",
   "metadata": {},
   "outputs": [],
   "source": [
    "\n"
   ]
  },
  {
   "cell_type": "code",
   "execution_count": 75,
   "id": "4427c002",
   "metadata": {},
   "outputs": [
    {
     "data": {
      "text/plain": [
       "2"
      ]
     },
     "execution_count": 75,
     "metadata": {},
     "output_type": "execute_result"
    }
   ],
   "source": [
    "images = driver.find_elements_by_class_name('product-gallery__thumbnail')\n",
    "\n",
    "for ele in images:\n",
    "    ele.click()\n",
    "    time.sleep(0.5)\n",
    "\n",
    "images = driver.find_elements_by_class_name('product-gallery__image')\n",
    "images_tab = []\n",
    "# print(len(images))\n",
    "for img in images:\n",
    "    #list_images.append('https:'+img.get_attribute('data-srcset').split(' ')[0])\n",
    "    #print(':', img.get_attribute('data-srcset'))\n",
    "    t = 'https:'+img.get_attribute('data-srcset').split(', ')[0]\n",
    "    #print(t)\n",
    "    images_tab.append(t)\n",
    "images_tab\n",
    "len(images)"
   ]
  },
  {
   "cell_type": "code",
   "execution_count": null,
   "id": "91b717ea",
   "metadata": {},
   "outputs": [],
   "source": []
  },
  {
   "cell_type": "code",
   "execution_count": null,
   "id": "85d2be10",
   "metadata": {},
   "outputs": [],
   "source": []
  },
  {
   "cell_type": "code",
   "execution_count": null,
   "id": "a06fb935",
   "metadata": {},
   "outputs": [],
   "source": []
  },
  {
   "cell_type": "code",
   "execution_count": null,
   "id": "f521d0e5",
   "metadata": {},
   "outputs": [],
   "source": []
  },
  {
   "cell_type": "code",
   "execution_count": null,
   "id": "20f8d76e",
   "metadata": {},
   "outputs": [],
   "source": []
  },
  {
   "cell_type": "code",
   "execution_count": null,
   "id": "3ebdc3b2",
   "metadata": {},
   "outputs": [],
   "source": []
  },
  {
   "cell_type": "code",
   "execution_count": 72,
   "id": "66374633",
   "metadata": {},
   "outputs": [
    {
     "data": {
      "text/plain": [
       "9"
      ]
     },
     "execution_count": 72,
     "metadata": {},
     "output_type": "execute_result"
    }
   ],
   "source": []
  },
  {
   "cell_type": "code",
   "execution_count": null,
   "id": "a4c43738",
   "metadata": {},
   "outputs": [],
   "source": []
  },
  {
   "cell_type": "code",
   "execution_count": null,
   "id": "aadd65db",
   "metadata": {},
   "outputs": [],
   "source": []
  },
  {
   "cell_type": "code",
   "execution_count": 73,
   "id": "b7ec332d",
   "metadata": {},
   "outputs": [
    {
     "data": {
      "text/plain": [
       "['https://cdn.shopify.com/s/files/1/0773/5495/products/IK-1002-18_400x.jpg?v=1602243614 400w',\n",
       " 'https://cdn.shopify.com/s/files/1/0773/5495/products/ik-1002-18_1_400x.jpg?v=1602243616 400w',\n",
       " 'https://cdn.shopify.com/s/files/1/0773/5495/products/ik-1002-18_2_400x.jpg?v=1602243617 400w',\n",
       " 'https://cdn.shopify.com/s/files/1/0773/5495/products/ik-1002-18_3_400x.jpg?v=1602243618 400w',\n",
       " 'https://cdn.shopify.com/s/files/1/0773/5495/products/ik-1002-18_537bc3b1-16c9-4929-abc2-3d20e7a7e448_400x.jpg?v=1602243619 400w',\n",
       " 'https://cdn.shopify.com/s/files/1/0773/5495/products/IK-1002-02_1_400x.jpg?v=1602243620 400w',\n",
       " 'https://cdn.shopify.com/s/files/1/0773/5495/products/IK-1002-02_2_400x.jpg?v=1602243622 400w',\n",
       " 'https://cdn.shopify.com/s/files/1/0773/5495/products/IK-1002-02_3_400x.jpg?v=1602243623 400w',\n",
       " 'https://cdn.shopify.com/s/files/1/0773/5495/products/IK-1002-02_400x.jpg?v=1602243624 400w']"
      ]
     },
     "execution_count": 73,
     "metadata": {},
     "output_type": "execute_result"
    }
   ],
   "source": [
    "images_tab"
   ]
  },
  {
   "cell_type": "code",
   "execution_count": null,
   "id": "fd09fb9d",
   "metadata": {},
   "outputs": [],
   "source": []
  },
  {
   "cell_type": "code",
   "execution_count": null,
   "id": "9343c31b",
   "metadata": {},
   "outputs": [],
   "source": []
  },
  {
   "cell_type": "code",
   "execution_count": null,
   "id": "47b10cd7",
   "metadata": {},
   "outputs": [],
   "source": []
  },
  {
   "cell_type": "code",
   "execution_count": null,
   "id": "2717664c",
   "metadata": {},
   "outputs": [],
   "source": []
  },
  {
   "cell_type": "code",
   "execution_count": null,
   "id": "f539f2d8",
   "metadata": {},
   "outputs": [],
   "source": []
  },
  {
   "cell_type": "code",
   "execution_count": null,
   "id": "4f18c485",
   "metadata": {},
   "outputs": [],
   "source": []
  },
  {
   "cell_type": "code",
   "execution_count": null,
   "id": "f25ad542",
   "metadata": {},
   "outputs": [],
   "source": []
  },
  {
   "cell_type": "code",
   "execution_count": null,
   "id": "aea5911e",
   "metadata": {},
   "outputs": [],
   "source": []
  },
  {
   "cell_type": "code",
   "execution_count": null,
   "id": "87c37a4d",
   "metadata": {},
   "outputs": [],
   "source": []
  },
  {
   "cell_type": "code",
   "execution_count": null,
   "id": "7faf3414",
   "metadata": {},
   "outputs": [],
   "source": []
  },
  {
   "cell_type": "code",
   "execution_count": null,
   "id": "d44705a4",
   "metadata": {},
   "outputs": [],
   "source": []
  },
  {
   "cell_type": "code",
   "execution_count": null,
   "id": "4e4e306f",
   "metadata": {},
   "outputs": [],
   "source": []
  },
  {
   "cell_type": "code",
   "execution_count": null,
   "id": "6144cfe6",
   "metadata": {},
   "outputs": [],
   "source": []
  },
  {
   "cell_type": "code",
   "execution_count": null,
   "id": "ce39cefb",
   "metadata": {},
   "outputs": [],
   "source": []
  },
  {
   "cell_type": "code",
   "execution_count": null,
   "id": "8a5537a5",
   "metadata": {},
   "outputs": [],
   "source": []
  },
  {
   "cell_type": "code",
   "execution_count": 57,
   "id": "2284f244",
   "metadata": {},
   "outputs": [
    {
     "data": {
      "text/plain": [
       "[]"
      ]
     },
     "execution_count": 57,
     "metadata": {},
     "output_type": "execute_result"
    }
   ],
   "source": [
    "tab = images_tab\n",
    "tab"
   ]
  },
  {
   "cell_type": "code",
   "execution_count": null,
   "id": "700622bf",
   "metadata": {},
   "outputs": [],
   "source": []
  },
  {
   "cell_type": "code",
   "execution_count": null,
   "id": "6f8b00f6",
   "metadata": {},
   "outputs": [],
   "source": []
  },
  {
   "cell_type": "code",
   "execution_count": null,
   "id": "aad46be2",
   "metadata": {},
   "outputs": [],
   "source": []
  },
  {
   "cell_type": "code",
   "execution_count": null,
   "id": "33c10043",
   "metadata": {},
   "outputs": [],
   "source": []
  },
  {
   "cell_type": "code",
   "execution_count": null,
   "id": "838bf33a",
   "metadata": {},
   "outputs": [],
   "source": []
  },
  {
   "cell_type": "code",
   "execution_count": null,
   "id": "47e17800",
   "metadata": {},
   "outputs": [],
   "source": []
  },
  {
   "cell_type": "code",
   "execution_count": null,
   "id": "93b09299",
   "metadata": {},
   "outputs": [],
   "source": []
  },
  {
   "cell_type": "code",
   "execution_count": null,
   "id": "6dc119bd",
   "metadata": {},
   "outputs": [],
   "source": []
  },
  {
   "cell_type": "code",
   "execution_count": null,
   "id": "95f6447f",
   "metadata": {},
   "outputs": [],
   "source": []
  },
  {
   "cell_type": "code",
   "execution_count": null,
   "id": "2fdbbd05",
   "metadata": {},
   "outputs": [],
   "source": []
  },
  {
   "cell_type": "code",
   "execution_count": null,
   "id": "63175ae0",
   "metadata": {},
   "outputs": [],
   "source": []
  },
  {
   "cell_type": "code",
   "execution_count": null,
   "id": "3e9d577a",
   "metadata": {},
   "outputs": [],
   "source": []
  },
  {
   "cell_type": "code",
   "execution_count": null,
   "id": "a505510e",
   "metadata": {},
   "outputs": [],
   "source": []
  },
  {
   "cell_type": "code",
   "execution_count": null,
   "id": "4fe2ada2",
   "metadata": {},
   "outputs": [],
   "source": []
  },
  {
   "cell_type": "code",
   "execution_count": 25,
   "id": "661f2c69",
   "metadata": {},
   "outputs": [],
   "source": [
    "image2 = ': //cdn.shopify.com/s/files/1/0773/5495/products/coffee1_400x.jpg?v=1611220472 400w, //cdn.shopify.com/s/files/1/0773/5495/products/coffee1_500x.jpg?v=1611220472 500w, //cdn.shopify.com/s/files/1/0773/5495/products/coffee1_600x.jpg?v=1611220472 600w, //cdn.shopify.com/s/files/1/0773/5495/products/coffee1_700x.jpg?v=1611220472 700w, //cdn.shopify.com/s/files/1/0773/5495/products/coffee1_800x.jpg?v=1611220472 800w, //cdn.shopify.com/s/files/1/0773/5495/products/coffee1_900x.jpg?v=1611220472 900w, //cdn.shopify.com/s/files/1/0773/5495/products/coffee1_1000x.jpg?v=1611220472 1000w, //cdn.shopify.com/s/files/1/0773/5495/products/coffee1_1100x.jpg?v=1611220472 1100w, //cdn.shopify.com/s/files/1/0773/5495/products/coffee1_1200x.jpg?v=1611220472 1200w'"
   ]
  },
  {
   "cell_type": "code",
   "execution_count": 26,
   "id": "81253a76",
   "metadata": {},
   "outputs": [
    {
     "data": {
      "text/plain": [
       "[': //cdn.shopify.com/s/files/1/0773/5495/products/coffee1_400x.jpg?v=1611220472 400w',\n",
       " '//cdn.shopify.com/s/files/1/0773/5495/products/coffee1_500x.jpg?v=1611220472 500w',\n",
       " '//cdn.shopify.com/s/files/1/0773/5495/products/coffee1_600x.jpg?v=1611220472 600w',\n",
       " '//cdn.shopify.com/s/files/1/0773/5495/products/coffee1_700x.jpg?v=1611220472 700w',\n",
       " '//cdn.shopify.com/s/files/1/0773/5495/products/coffee1_800x.jpg?v=1611220472 800w',\n",
       " '//cdn.shopify.com/s/files/1/0773/5495/products/coffee1_900x.jpg?v=1611220472 900w',\n",
       " '//cdn.shopify.com/s/files/1/0773/5495/products/coffee1_1000x.jpg?v=1611220472 1000w',\n",
       " '//cdn.shopify.com/s/files/1/0773/5495/products/coffee1_1100x.jpg?v=1611220472 1100w',\n",
       " '//cdn.shopify.com/s/files/1/0773/5495/products/coffee1_1200x.jpg?v=1611220472 1200w']"
      ]
     },
     "execution_count": 26,
     "metadata": {},
     "output_type": "execute_result"
    }
   ],
   "source": [
    "\n"
   ]
  },
  {
   "cell_type": "code",
   "execution_count": null,
   "id": "5ba055c5",
   "metadata": {},
   "outputs": [],
   "source": []
  },
  {
   "cell_type": "code",
   "execution_count": null,
   "id": "15e47889",
   "metadata": {},
   "outputs": [],
   "source": []
  },
  {
   "cell_type": "code",
   "execution_count": null,
   "id": "bf833923",
   "metadata": {},
   "outputs": [],
   "source": []
  },
  {
   "cell_type": "code",
   "execution_count": null,
   "id": "27177ae2",
   "metadata": {},
   "outputs": [],
   "source": []
  },
  {
   "cell_type": "code",
   "execution_count": 23,
   "id": "f6eac34a",
   "metadata": {},
   "outputs": [
    {
     "data": {
      "text/plain": [
       "'https: //cdn.shopify.com/s/files/1/0773/5495/products/coffee1_400x.jpg?v=1611220472 400w, //cdn.shopify.com/s/files/1/0773/5495/products/coffee1_500x.jpg?v=1611220472 500w, //cdn.shopify.com/s/files/1/0773/5495/products/coffee1_600x.jpg?v=1611220472 600w, //cdn.shopify.com/s/files/1/0773/5495/products/coffee1_700x.jpg?v=1611220472 700w, //cdn.shopify.com/s/files/1/0773/5495/products/coffee1_800x.jpg?v=1611220472 800w, //cdn.shopify.com/s/files/1/0773/5495/products/coffee1_900x.jpg?v=1611220472 900w, //cdn.shopify.com/s/files/1/0773/5495/products/coffee1_1000x.jpg?v=1611220472 1000w, //cdn.shopify.com/s/files/1/0773/5495/products/coffee1_1100x.jpg?v=1611220472 1100w, //cdn.shopify.com/s/files/1/0773/5495/products/coffee1_1200x.jpg?v=1611220472 1200w'"
      ]
     },
     "execution_count": 23,
     "metadata": {},
     "output_type": "execute_result"
    }
   ],
   "source": [
    "image = 'https'+image1\n",
    "image"
   ]
  },
  {
   "cell_type": "code",
   "execution_count": 24,
   "id": "956e2c72",
   "metadata": {},
   "outputs": [
    {
     "data": {
      "text/plain": [
       "['https: //cdn.shopify.com/s/files/1/0773/5495/products/coffee1_400x.jpg?v=1611220472 400w',\n",
       " '//cdn.shopify.com/s/files/1/0773/5495/products/coffee1_500x.jpg?v=1611220472 500w',\n",
       " '//cdn.shopify.com/s/files/1/0773/5495/products/coffee1_600x.jpg?v=1611220472 600w',\n",
       " '//cdn.shopify.com/s/files/1/0773/5495/products/coffee1_700x.jpg?v=1611220472 700w',\n",
       " '//cdn.shopify.com/s/files/1/0773/5495/products/coffee1_800x.jpg?v=1611220472 800w',\n",
       " '//cdn.shopify.com/s/files/1/0773/5495/products/coffee1_900x.jpg?v=1611220472 900w',\n",
       " '//cdn.shopify.com/s/files/1/0773/5495/products/coffee1_1000x.jpg?v=1611220472 1000w',\n",
       " '//cdn.shopify.com/s/files/1/0773/5495/products/coffee1_1100x.jpg?v=1611220472 1100w',\n",
       " '//cdn.shopify.com/s/files/1/0773/5495/products/coffee1_1200x.jpg?v=1611220472 1200w']"
      ]
     },
     "execution_count": 24,
     "metadata": {},
     "output_type": "execute_result"
    }
   ],
   "source": [
    "tab = image.split(', ')\n",
    "tab\n"
   ]
  },
  {
   "cell_type": "code",
   "execution_count": null,
   "id": "5b91f116",
   "metadata": {},
   "outputs": [],
   "source": []
  },
  {
   "cell_type": "code",
   "execution_count": null,
   "id": "e3decb60",
   "metadata": {},
   "outputs": [],
   "source": []
  },
  {
   "cell_type": "code",
   "execution_count": null,
   "id": "6e982ce4",
   "metadata": {},
   "outputs": [],
   "source": []
  },
  {
   "cell_type": "code",
   "execution_count": null,
   "id": "60dde6a6",
   "metadata": {},
   "outputs": [],
   "source": []
  },
  {
   "cell_type": "code",
   "execution_count": 18,
   "id": "d55ed9ea",
   "metadata": {},
   "outputs": [
    {
     "data": {
      "text/plain": [
       "'httpshttps:: //cdn.shopify.com/s/files/1/0773/5495/products/coffee1_400x.jpg?v=1611220472 400w, //cdn.shopify.com/s/files/1/0773/5495/products/coffee1_500x.jpg?v=1611220472 500w, //cdn.shopify.com/s/files/1/0773/5495/products/coffee1_600x.jpg?v=1611220472 600w, //cdn.shopify.com/s/files/1/0773/5495/products/coffee1_700x.jpg?v=1611220472 700w, //cdn.shopify.com/s/files/1/0773/5495/products/coffee1_800x.jpg?v=1611220472 800w, //cdn.shopify.com/s/files/1/0773/5495/products/coffee1_900x.jpg?v=1611220472 900w, //cdn.shopify.com/s/files/1/0773/5495/products/coffee1_1000x.jpg?v=1611220472 1000w, //cdn.shopify.com/s/files/1/0773/5495/products/coffee1_1100x.jpg?v=1611220472 1100w, //cdn.shopify.com/s/files/1/0773/5495/products/coffee1_1200x.jpg?v=1611220472 1200w'"
      ]
     },
     "execution_count": 18,
     "metadata": {},
     "output_type": "execute_result"
    }
   ],
   "source": [
    "image"
   ]
  },
  {
   "cell_type": "code",
   "execution_count": null,
   "id": "12b96eac",
   "metadata": {},
   "outputs": [],
   "source": []
  },
  {
   "cell_type": "code",
   "execution_count": null,
   "id": "01989d84",
   "metadata": {},
   "outputs": [],
   "source": []
  },
  {
   "cell_type": "code",
   "execution_count": null,
   "id": "1850bdbd",
   "metadata": {},
   "outputs": [],
   "source": []
  },
  {
   "cell_type": "code",
   "execution_count": null,
   "id": "c1061dee",
   "metadata": {},
   "outputs": [],
   "source": []
  },
  {
   "cell_type": "code",
   "execution_count": null,
   "id": "aa699793",
   "metadata": {},
   "outputs": [],
   "source": []
  },
  {
   "cell_type": "code",
   "execution_count": null,
   "id": "3e9b7d9f",
   "metadata": {},
   "outputs": [],
   "source": []
  },
  {
   "cell_type": "code",
   "execution_count": null,
   "id": "aa6df0a6",
   "metadata": {},
   "outputs": [],
   "source": []
  },
  {
   "cell_type": "code",
   "execution_count": null,
   "id": "8898b8a5",
   "metadata": {},
   "outputs": [],
   "source": []
  },
  {
   "cell_type": "code",
   "execution_count": null,
   "id": "a21283ca",
   "metadata": {},
   "outputs": [],
   "source": []
  },
  {
   "cell_type": "code",
   "execution_count": null,
   "id": "60972fba",
   "metadata": {},
   "outputs": [],
   "source": []
  },
  {
   "cell_type": "code",
   "execution_count": null,
   "id": "60ca9538",
   "metadata": {},
   "outputs": [],
   "source": []
  },
  {
   "cell_type": "code",
   "execution_count": null,
   "id": "3565bc5b",
   "metadata": {},
   "outputs": [],
   "source": []
  },
  {
   "cell_type": "code",
   "execution_count": null,
   "id": "beeed655",
   "metadata": {},
   "outputs": [],
   "source": []
  },
  {
   "cell_type": "code",
   "execution_count": null,
   "id": "093feaa2",
   "metadata": {},
   "outputs": [],
   "source": []
  },
  {
   "cell_type": "code",
   "execution_count": null,
   "id": "f0ca5dd9",
   "metadata": {},
   "outputs": [],
   "source": []
  },
  {
   "cell_type": "code",
   "execution_count": null,
   "id": "74942fa7",
   "metadata": {},
   "outputs": [],
   "source": []
  },
  {
   "cell_type": "code",
   "execution_count": null,
   "id": "dc344e1c",
   "metadata": {},
   "outputs": [],
   "source": []
  },
  {
   "cell_type": "code",
   "execution_count": null,
   "id": "d47b5c13",
   "metadata": {},
   "outputs": [],
   "source": []
  },
  {
   "cell_type": "code",
   "execution_count": null,
   "id": "c4df1940",
   "metadata": {},
   "outputs": [],
   "source": []
  },
  {
   "cell_type": "code",
   "execution_count": null,
   "id": "425723ed",
   "metadata": {},
   "outputs": [],
   "source": []
  },
  {
   "cell_type": "code",
   "execution_count": null,
   "id": "6be401c9",
   "metadata": {},
   "outputs": [],
   "source": []
  },
  {
   "cell_type": "code",
   "execution_count": null,
   "id": "72a16941",
   "metadata": {},
   "outputs": [],
   "source": []
  },
  {
   "cell_type": "code",
   "execution_count": null,
   "id": "48b6258b",
   "metadata": {},
   "outputs": [],
   "source": []
  },
  {
   "cell_type": "code",
   "execution_count": null,
   "id": "7f904c23",
   "metadata": {},
   "outputs": [],
   "source": []
  },
  {
   "cell_type": "code",
   "execution_count": null,
   "id": "d5214192",
   "metadata": {},
   "outputs": [],
   "source": []
  },
  {
   "cell_type": "code",
   "execution_count": null,
   "id": "547e9af4",
   "metadata": {},
   "outputs": [],
   "source": []
  },
  {
   "cell_type": "code",
   "execution_count": 3,
   "id": "1a467aee",
   "metadata": {},
   "outputs": [],
   "source": [
    "driver.get(f'https://www.alrugaibfurniture.com/collections/coffee-tables?page=1')"
   ]
  },
  {
   "cell_type": "code",
   "execution_count": 19,
   "id": "b94a6cc0",
   "metadata": {},
   "outputs": [
    {
     "name": "stdout",
     "output_type": "stream",
     "text": [
      "24\n"
     ]
    }
   ],
   "source": [
    "products = driver.find_elements_by_class_name('product-item__image-wrapper')\n",
    "print(len(products))"
   ]
  },
  {
   "cell_type": "code",
   "execution_count": 20,
   "id": "a242c719",
   "metadata": {},
   "outputs": [],
   "source": [
    "driver.get(products[0].get_attribute('href'))"
   ]
  },
  {
   "cell_type": "code",
   "execution_count": 57,
   "id": "9317c232",
   "metadata": {},
   "outputs": [
    {
     "data": {
      "text/plain": [
       "2"
      ]
     },
     "execution_count": 57,
     "metadata": {},
     "output_type": "execute_result"
    }
   ],
   "source": [
    "\n",
    "images = driver.find_elements_by_class_name('product-gallery__image ')\n",
    "\n",
    "for img in images:\n",
    "    print('https:'+img.get_attribute('data-srcset').split(' ')[0])\n",
    "len(images)"
   ]
  },
  {
   "cell_type": "code",
   "execution_count": 67,
   "id": "c75981ad",
   "metadata": {},
   "outputs": [
    {
     "data": {
      "text/plain": [
       "'T743-0'"
      ]
     },
     "execution_count": 67,
     "metadata": {},
     "output_type": "execute_result"
    }
   ],
   "source": [
    "sku = driver.find_element_by_class_name('product-meta__sku').text.replace('SKU: ', '')\n",
    "sku"
   ]
  },
  {
   "cell_type": "code",
   "execution_count": 69,
   "id": "6eca3675",
   "metadata": {},
   "outputs": [
    {
     "data": {
      "text/plain": [
       "'Realyn Oval Cocktail Table'"
      ]
     },
     "execution_count": 69,
     "metadata": {},
     "output_type": "execute_result"
    }
   ],
   "source": [
    "title = driver.find_element_by_class_name('product-meta__title').text\n",
    "title"
   ]
  },
  {
   "cell_type": "code",
   "execution_count": 79,
   "id": "23e9e4e6",
   "metadata": {},
   "outputs": [],
   "source": [
    "prices = driver.find_elements_by_class_name('money')\n",
    "\n",
    "\n",
    "#price = prices[0].text.replace(' SAR', '')\n",
    "price_old = prices[1].text.replace(' SAR', '')"
   ]
  },
  {
   "cell_type": "code",
   "execution_count": 86,
   "id": "de86121f",
   "metadata": {},
   "outputs": [
    {
     "data": {
      "text/plain": [
       "5"
      ]
     },
     "execution_count": 86,
     "metadata": {},
     "output_type": "execute_result"
    }
   ],
   "source": [
    "descriptions = driver.find_elements_by_class_name('card__section')\n",
    "len(descriptions)"
   ]
  },
  {
   "cell_type": "code",
   "execution_count": null,
   "id": "c3fa1537",
   "metadata": {},
   "outputs": [],
   "source": []
  },
  {
   "cell_type": "code",
   "execution_count": null,
   "id": "60feaf32",
   "metadata": {},
   "outputs": [],
   "source": []
  },
  {
   "cell_type": "code",
   "execution_count": 87,
   "id": "5a15bbbf",
   "metadata": {},
   "outputs": [
    {
     "name": "stdout",
     "output_type": "stream",
     "text": [
      "\n",
      "Realyn Oval Cocktail Table\n",
      "Save 19%\n",
      "ASHLEY HOMESTORESKU: T743-0\n",
      "Price:\n",
      "1,710.81 SAR 2,111.07 SAR\n",
      "Quantity:\n",
      "1\n",
      "2\n",
      "3\n",
      "4\n",
      "5\n",
      "6\n",
      "7\n",
      "8\n",
      "9\n",
      "10+\n",
      "Add to wishlist\n",
      "Add to cart\n",
      "Master Item Number:\n",
      "T743-0\n",
      "Description:\n",
      "Oval Cocktail Table\n",
      "Series:\n",
      "T743 Realyn\n",
      "Colors:\n",
      "White/Brown\n",
      "Dimensions (Confirmed):\n",
      "Inches: 48.13\" W x 34\" D x 19.88\" H\n",
      "Metric: 1222.5mm W x 863.6mm D x 504.95mm H\n",
      "More Dimensions:\n",
      "View more\n",
      "Customer Reviews\n",
      "No reviews yet\n",
      "Write a review\n",
      "Your payment information is processed securely. We do not store credit card details nor have access to your credit card information.\n"
     ]
    }
   ],
   "source": [
    "for des in descriptions:\n",
    "    print(des.text)"
   ]
  },
  {
   "cell_type": "code",
   "execution_count": 104,
   "id": "12901c0c",
   "metadata": {},
   "outputs": [
    {
     "data": {
      "text/plain": [
       "'Master Item Number:\\nT743-0\\nDescription:\\nOval Cocktail Table\\nSeries:\\nT743 Realyn\\nColors:\\nWhite/Brown\\nDimensions (Confirmed):\\nInches: 48.13\" W x 34\" D x 19.88\" H\\nMetric: 1222.5mm W x 863.6mm D x 504.95mm H\\nMore Dimensions:\\nOpening: 43.25\" W x 31.13\" D x 12.5\" H\\nCarton:\\nInches: 52.88\" W x 36.63\" D x 6.88\" H\\nMetric: 1343.15mm W x 930.4mm D x 174.75mm H\\nExpress Shipped:\\nInches: 52.88\" W x 36.63\" D x 6.88\" H\\nMetric: 1343.15mm W x 930.4mm D x 174.75mm H\\nWeight (lbs/kgs):\\n65 / 29.48\\nView less'"
      ]
     },
     "execution_count": 104,
     "metadata": {},
     "output_type": "execute_result"
    }
   ],
   "source": [
    "description_list = descriptions[2].text.split('/n')[0]\n",
    "description_list1 = description_list.split('\\n')\n",
    "Master_Item_Number = description_list1[description_list1.index('Master Item Number:')+1]\n",
    "Description = description_list1[description_list1.index('Description:')+1]\n",
    "Series = description_list1[description_list1.index('Series:')+1]\n",
    "Colors = description_list1[description_list1.index('Colors:')+1]\n",
    "Dimensions= description_list1[description_list1.index('Dimensions (Confirmed):')+1]\n",
    "description_list"
   ]
  },
  {
   "cell_type": "code",
   "execution_count": null,
   "id": "22ae275f",
   "metadata": {},
   "outputs": [],
   "source": []
  },
  {
   "cell_type": "code",
   "execution_count": null,
   "id": "30b71c1b",
   "metadata": {},
   "outputs": [],
   "source": []
  },
  {
   "cell_type": "code",
   "execution_count": null,
   "id": "204ec3c7",
   "metadata": {},
   "outputs": [],
   "source": []
  },
  {
   "cell_type": "code",
   "execution_count": 105,
   "id": "2f1eb34d",
   "metadata": {},
   "outputs": [
    {
     "data": {
      "text/plain": [
       "['Master Item Number:',\n",
       " 'T743-0',\n",
       " 'Description:',\n",
       " 'Oval Cocktail Table',\n",
       " 'Series:',\n",
       " 'T743 Realyn',\n",
       " 'Colors:',\n",
       " 'White/Brown',\n",
       " 'Dimensions (Confirmed):',\n",
       " 'Inches: 48.13\" W x 34\" D x 19.88\" H',\n",
       " 'Metric: 1222.5mm W x 863.6mm D x 504.95mm H',\n",
       " 'More Dimensions:',\n",
       " 'Opening: 43.25\" W x 31.13\" D x 12.5\" H',\n",
       " 'Carton:',\n",
       " 'Inches: 52.88\" W x 36.63\" D x 6.88\" H',\n",
       " 'Metric: 1343.15mm W x 930.4mm D x 174.75mm H',\n",
       " 'Express Shipped:',\n",
       " 'Inches: 52.88\" W x 36.63\" D x 6.88\" H',\n",
       " 'Metric: 1343.15mm W x 930.4mm D x 174.75mm H',\n",
       " 'Weight (lbs/kgs):',\n",
       " '65 / 29.48',\n",
       " 'View less']"
      ]
     },
     "execution_count": 105,
     "metadata": {},
     "output_type": "execute_result"
    }
   ],
   "source": [
    "description_list1 = description_list.split('\\n')\n",
    "description_list1"
   ]
  },
  {
   "cell_type": "code",
   "execution_count": null,
   "id": "67e0a448",
   "metadata": {},
   "outputs": [],
   "source": []
  },
  {
   "cell_type": "code",
   "execution_count": 106,
   "id": "7be38b87",
   "metadata": {},
   "outputs": [
    {
     "data": {
      "text/plain": [
       "'T743-0'"
      ]
     },
     "execution_count": 106,
     "metadata": {},
     "output_type": "execute_result"
    }
   ],
   "source": [
    "Master_Item_Number = description_list1[description_list1.index('Master Item Number:')+1]\n",
    "Master_Item_Number"
   ]
  },
  {
   "cell_type": "code",
   "execution_count": 107,
   "id": "ec32eccf",
   "metadata": {},
   "outputs": [
    {
     "data": {
      "text/plain": [
       "'Oval Cocktail Table'"
      ]
     },
     "execution_count": 107,
     "metadata": {},
     "output_type": "execute_result"
    }
   ],
   "source": [
    "Description = description_list1[description_list1.index('Description:')+1]\n",
    "Description"
   ]
  },
  {
   "cell_type": "code",
   "execution_count": 109,
   "id": "8b452e04",
   "metadata": {},
   "outputs": [
    {
     "data": {
      "text/plain": [
       "'T743 Realyn'"
      ]
     },
     "execution_count": 109,
     "metadata": {},
     "output_type": "execute_result"
    }
   ],
   "source": [
    "Series = description_list1[description_list1.index('Series:')+1]\n",
    "Series"
   ]
  },
  {
   "cell_type": "code",
   "execution_count": 110,
   "id": "248600fc",
   "metadata": {},
   "outputs": [
    {
     "data": {
      "text/plain": [
       "'White/Brown'"
      ]
     },
     "execution_count": 110,
     "metadata": {},
     "output_type": "execute_result"
    }
   ],
   "source": [
    "Colors = description_list1[description_list1.index('Colors:')+1]\n",
    "Colors"
   ]
  },
  {
   "cell_type": "code",
   "execution_count": 111,
   "id": "513bedef",
   "metadata": {},
   "outputs": [
    {
     "data": {
      "text/plain": [
       "'Inches: 48.13\" W x 34\" D x 19.88\" H'"
      ]
     },
     "execution_count": 111,
     "metadata": {},
     "output_type": "execute_result"
    }
   ],
   "source": [
    "Dimensions= description_list1[description_list1.index('Dimensions (Confirmed):')+1]\n",
    "Dimensions"
   ]
  },
  {
   "cell_type": "code",
   "execution_count": null,
   "id": "6e4c06a4",
   "metadata": {},
   "outputs": [],
   "source": []
  },
  {
   "cell_type": "code",
   "execution_count": null,
   "id": "61414fa8",
   "metadata": {},
   "outputs": [],
   "source": []
  },
  {
   "cell_type": "code",
   "execution_count": null,
   "id": "2516a8b3",
   "metadata": {},
   "outputs": [],
   "source": []
  },
  {
   "cell_type": "code",
   "execution_count": null,
   "id": "8c7b2f45",
   "metadata": {},
   "outputs": [],
   "source": []
  },
  {
   "cell_type": "code",
   "execution_count": null,
   "id": "cf68fac7",
   "metadata": {},
   "outputs": [],
   "source": []
  },
  {
   "cell_type": "code",
   "execution_count": 100,
   "id": "2525e58d",
   "metadata": {},
   "outputs": [
    {
     "data": {
      "text/plain": [
       "0"
      ]
     },
     "execution_count": 100,
     "metadata": {},
     "output_type": "execute_result"
    }
   ],
   "source": [
    "description_list1.index('Master Item Number:')"
   ]
  },
  {
   "cell_type": "code",
   "execution_count": null,
   "id": "4d2e37c8",
   "metadata": {},
   "outputs": [],
   "source": []
  },
  {
   "cell_type": "code",
   "execution_count": null,
   "id": "7a3013f2",
   "metadata": {},
   "outputs": [],
   "source": []
  },
  {
   "cell_type": "code",
   "execution_count": null,
   "id": "d197b342",
   "metadata": {},
   "outputs": [],
   "source": []
  },
  {
   "cell_type": "code",
   "execution_count": null,
   "id": "11a1014e",
   "metadata": {},
   "outputs": [],
   "source": []
  },
  {
   "cell_type": "code",
   "execution_count": null,
   "id": "246b7c68",
   "metadata": {},
   "outputs": [],
   "source": []
  },
  {
   "cell_type": "code",
   "execution_count": null,
   "id": "bd10e9eb",
   "metadata": {},
   "outputs": [],
   "source": []
  },
  {
   "cell_type": "code",
   "execution_count": null,
   "id": "9cb9cd18",
   "metadata": {},
   "outputs": [],
   "source": []
  },
  {
   "cell_type": "code",
   "execution_count": null,
   "id": "a8b9f6db",
   "metadata": {},
   "outputs": [],
   "source": []
  },
  {
   "cell_type": "code",
   "execution_count": null,
   "id": "142799b2",
   "metadata": {},
   "outputs": [],
   "source": []
  },
  {
   "cell_type": "code",
   "execution_count": null,
   "id": "150f9b77",
   "metadata": {},
   "outputs": [],
   "source": []
  },
  {
   "cell_type": "code",
   "execution_count": null,
   "id": "82a4f316",
   "metadata": {},
   "outputs": [],
   "source": []
  },
  {
   "cell_type": "code",
   "execution_count": null,
   "id": "c881ebdd",
   "metadata": {},
   "outputs": [],
   "source": []
  },
  {
   "cell_type": "code",
   "execution_count": null,
   "id": "10f04942",
   "metadata": {},
   "outputs": [],
   "source": []
  },
  {
   "cell_type": "code",
   "execution_count": null,
   "id": "763362f4",
   "metadata": {},
   "outputs": [],
   "source": []
  },
  {
   "cell_type": "code",
   "execution_count": 80,
   "id": "8943649c",
   "metadata": {},
   "outputs": [
    {
     "data": {
      "text/plain": [
       "'2,111.07'"
      ]
     },
     "execution_count": 80,
     "metadata": {},
     "output_type": "execute_result"
    }
   ],
   "source": [
    "#price \n",
    "price_old"
   ]
  },
  {
   "cell_type": "code",
   "execution_count": null,
   "id": "9b915cbe",
   "metadata": {},
   "outputs": [],
   "source": []
  },
  {
   "cell_type": "code",
   "execution_count": null,
   "id": "08f18ee7",
   "metadata": {},
   "outputs": [],
   "source": []
  },
  {
   "cell_type": "code",
   "execution_count": null,
   "id": "0c099258",
   "metadata": {},
   "outputs": [],
   "source": []
  },
  {
   "cell_type": "code",
   "execution_count": null,
   "id": "f2761f46",
   "metadata": {},
   "outputs": [],
   "source": []
  },
  {
   "cell_type": "code",
   "execution_count": null,
   "id": "f6ac8aec",
   "metadata": {},
   "outputs": [],
   "source": []
  },
  {
   "cell_type": "code",
   "execution_count": null,
   "id": "e8a88a0e",
   "metadata": {},
   "outputs": [],
   "source": []
  },
  {
   "cell_type": "code",
   "execution_count": null,
   "id": "8988232b",
   "metadata": {},
   "outputs": [],
   "source": []
  },
  {
   "cell_type": "code",
   "execution_count": null,
   "id": "51ce26ae",
   "metadata": {},
   "outputs": [],
   "source": []
  },
  {
   "cell_type": "code",
   "execution_count": null,
   "id": "0be2bea3",
   "metadata": {},
   "outputs": [],
   "source": []
  },
  {
   "cell_type": "code",
   "execution_count": null,
   "id": "407f1e27",
   "metadata": {},
   "outputs": [],
   "source": []
  },
  {
   "cell_type": "code",
   "execution_count": null,
   "id": "c565356d",
   "metadata": {},
   "outputs": [],
   "source": []
  },
  {
   "cell_type": "code",
   "execution_count": null,
   "id": "a1302d6a",
   "metadata": {},
   "outputs": [],
   "source": []
  },
  {
   "cell_type": "code",
   "execution_count": null,
   "id": "780849e0",
   "metadata": {},
   "outputs": [],
   "source": []
  },
  {
   "cell_type": "code",
   "execution_count": null,
   "id": "559df172",
   "metadata": {},
   "outputs": [],
   "source": []
  },
  {
   "cell_type": "code",
   "execution_count": null,
   "id": "de9784ae",
   "metadata": {},
   "outputs": [],
   "source": []
  },
  {
   "cell_type": "code",
   "execution_count": null,
   "id": "8c54a738",
   "metadata": {},
   "outputs": [],
   "source": []
  },
  {
   "cell_type": "code",
   "execution_count": null,
   "id": "eb54f72a",
   "metadata": {},
   "outputs": [],
   "source": []
  },
  {
   "cell_type": "code",
   "execution_count": 64,
   "id": "e79a93e1",
   "metadata": {},
   "outputs": [
    {
     "name": "stdout",
     "output_type": "stream",
     "text": [
      "https://cdn.shopify.com/s/files/1/0773/5495/products/540801_1_400x.jpg?v=1602201517\n",
      "https://cdn.shopify.com/s/files/1/0773/5495/products/540801_7_400x.jpg?v=1602201518\n"
     ]
    }
   ],
   "source": []
  },
  {
   "cell_type": "code",
   "execution_count": null,
   "id": "e539793d",
   "metadata": {},
   "outputs": [],
   "source": []
  },
  {
   "cell_type": "code",
   "execution_count": null,
   "id": "1fe1d8ff",
   "metadata": {},
   "outputs": [],
   "source": []
  },
  {
   "cell_type": "code",
   "execution_count": null,
   "id": "25b38901",
   "metadata": {},
   "outputs": [],
   "source": []
  },
  {
   "cell_type": "code",
   "execution_count": null,
   "id": "9479fade",
   "metadata": {},
   "outputs": [],
   "source": []
  },
  {
   "cell_type": "code",
   "execution_count": null,
   "id": "36b8198c",
   "metadata": {},
   "outputs": [],
   "source": []
  },
  {
   "cell_type": "code",
   "execution_count": null,
   "id": "2c329fa5",
   "metadata": {},
   "outputs": [],
   "source": []
  },
  {
   "cell_type": "code",
   "execution_count": null,
   "id": "90f1cb8f",
   "metadata": {},
   "outputs": [],
   "source": []
  },
  {
   "cell_type": "code",
   "execution_count": null,
   "id": "5276741a",
   "metadata": {},
   "outputs": [],
   "source": []
  },
  {
   "cell_type": "code",
   "execution_count": null,
   "id": "d6c14f47",
   "metadata": {},
   "outputs": [],
   "source": []
  },
  {
   "cell_type": "code",
   "execution_count": null,
   "id": "8052ff85",
   "metadata": {},
   "outputs": [],
   "source": []
  },
  {
   "cell_type": "code",
   "execution_count": null,
   "id": "a741a9a2",
   "metadata": {},
   "outputs": [],
   "source": []
  },
  {
   "cell_type": "code",
   "execution_count": null,
   "id": "b0d2c758",
   "metadata": {},
   "outputs": [],
   "source": []
  },
  {
   "cell_type": "code",
   "execution_count": null,
   "id": "79bc9574",
   "metadata": {},
   "outputs": [],
   "source": []
  },
  {
   "cell_type": "code",
   "execution_count": null,
   "id": "2143e803",
   "metadata": {},
   "outputs": [],
   "source": []
  },
  {
   "cell_type": "code",
   "execution_count": null,
   "id": "7c22eef4",
   "metadata": {},
   "outputs": [],
   "source": []
  },
  {
   "cell_type": "code",
   "execution_count": null,
   "id": "0be23331",
   "metadata": {},
   "outputs": [],
   "source": []
  },
  {
   "cell_type": "code",
   "execution_count": null,
   "id": "43a0e625",
   "metadata": {},
   "outputs": [],
   "source": []
  },
  {
   "cell_type": "code",
   "execution_count": null,
   "id": "9749e1dc",
   "metadata": {},
   "outputs": [],
   "source": []
  },
  {
   "cell_type": "code",
   "execution_count": null,
   "id": "8d1e5858",
   "metadata": {},
   "outputs": [],
   "source": []
  },
  {
   "cell_type": "code",
   "execution_count": null,
   "id": "53ce9ec6",
   "metadata": {},
   "outputs": [],
   "source": []
  },
  {
   "cell_type": "code",
   "execution_count": null,
   "id": "5e281f83",
   "metadata": {},
   "outputs": [],
   "source": []
  },
  {
   "cell_type": "code",
   "execution_count": null,
   "id": "b9bbd396",
   "metadata": {},
   "outputs": [],
   "source": []
  },
  {
   "cell_type": "code",
   "execution_count": null,
   "id": "aa9ac683",
   "metadata": {},
   "outputs": [],
   "source": []
  },
  {
   "cell_type": "code",
   "execution_count": null,
   "id": "8f2674a7",
   "metadata": {},
   "outputs": [],
   "source": []
  },
  {
   "cell_type": "code",
   "execution_count": null,
   "id": "8555b4b5",
   "metadata": {},
   "outputs": [],
   "source": []
  },
  {
   "cell_type": "code",
   "execution_count": null,
   "id": "d53a04a7",
   "metadata": {},
   "outputs": [],
   "source": []
  },
  {
   "cell_type": "code",
   "execution_count": 29,
   "id": "af4bbd53",
   "metadata": {},
   "outputs": [
    {
     "data": {
      "text/plain": [
       "117"
      ]
     },
     "execution_count": 29,
     "metadata": {},
     "output_type": "execute_result"
    }
   ],
   "source": [
    "len(images)"
   ]
  },
  {
   "cell_type": "code",
   "execution_count": null,
   "id": "6173b144",
   "metadata": {},
   "outputs": [],
   "source": []
  },
  {
   "cell_type": "code",
   "execution_count": null,
   "id": "f709aace",
   "metadata": {},
   "outputs": [],
   "source": []
  },
  {
   "cell_type": "code",
   "execution_count": null,
   "id": "20e13f85",
   "metadata": {},
   "outputs": [],
   "source": []
  },
  {
   "cell_type": "code",
   "execution_count": null,
   "id": "c3a4d2a5",
   "metadata": {},
   "outputs": [],
   "source": []
  },
  {
   "cell_type": "code",
   "execution_count": 22,
   "id": "06f60a1a",
   "metadata": {},
   "outputs": [
    {
     "data": {
      "text/plain": [
       "2"
      ]
     },
     "execution_count": 22,
     "metadata": {},
     "output_type": "execute_result"
    }
   ],
   "source": [
    "len(images)"
   ]
  },
  {
   "cell_type": "code",
   "execution_count": 23,
   "id": "f1f949d8",
   "metadata": {},
   "outputs": [
    {
     "name": "stdout",
     "output_type": "stream",
     "text": [
      "https://cdn.shopify.com/s/files/1/0773/5495/products/540801_1_60x.jpg?v=1602201517\n",
      "https://cdn.shopify.com/s/files/1/0773/5495/products/540801_7_60x.jpg?v=1602201518\n"
     ]
    }
   ],
   "source": [
    "for img in images:\n",
    "    print(img.get_attribute('src'))"
   ]
  },
  {
   "cell_type": "code",
   "execution_count": null,
   "id": "67d9dda6",
   "metadata": {},
   "outputs": [],
   "source": []
  },
  {
   "cell_type": "code",
   "execution_count": null,
   "id": "39f5ac4d",
   "metadata": {},
   "outputs": [],
   "source": []
  },
  {
   "cell_type": "code",
   "execution_count": null,
   "id": "56de4721",
   "metadata": {},
   "outputs": [],
   "source": []
  },
  {
   "cell_type": "code",
   "execution_count": null,
   "id": "809ada81",
   "metadata": {},
   "outputs": [],
   "source": []
  },
  {
   "cell_type": "code",
   "execution_count": null,
   "id": "4336bdba",
   "metadata": {},
   "outputs": [],
   "source": []
  },
  {
   "cell_type": "code",
   "execution_count": null,
   "id": "8cffd72b",
   "metadata": {},
   "outputs": [],
   "source": []
  },
  {
   "cell_type": "code",
   "execution_count": null,
   "id": "97438dc6",
   "metadata": {},
   "outputs": [],
   "source": []
  },
  {
   "cell_type": "code",
   "execution_count": 18,
   "id": "421a7339",
   "metadata": {},
   "outputs": [
    {
     "name": "stdout",
     "output_type": "stream",
     "text": [
      "https://www.alrugaibfurniture.com/collections/coffee-tables/products/realyn-oval-cocktail-table?lshst=collection\n",
      "https://www.alrugaibfurniture.com/collections/coffee-tables/products/watson-rectangular-cocktail-table?lshst=collection\n",
      "https://www.alrugaibfurniture.com/collections/coffee-tables/products/coylin-square-cocktail-table?lshst=collection\n",
      "https://www.alrugaibfurniture.com/collections/coffee-tables/products/sociables?lshst=collection\n",
      "https://www.alrugaibfurniture.com/collections/coffee-tables/products/stainless-steel-glass-coffee-table-silver-kd?lshst=collection\n",
      "https://www.alrugaibfurniture.com/collections/coffee-tables/products/coralayne-silver-finish-oval-cocktail-table?lshst=collection\n",
      "https://www.alrugaibfurniture.com/collections/coffee-tables/products/wesling-rectangular-coctail-table?lshst=collection\n",
      "https://www.alrugaibfurniture.com/collections/coffee-tables/products/kisper-cocktail-table?lshst=collection\n",
      "https://www.alrugaibfurniture.com/collections/coffee-tables/products/terzo-white-marble-coffee-table?lshst=collection\n",
      "https://www.alrugaibfurniture.com/collections/coffee-tables/products/johnelle-coffee-table?lshst=collection\n",
      "https://www.alrugaibfurniture.com/collections/coffee-tables/products/henzler-coffee-table?lshst=collection\n",
      "https://www.alrugaibfurniture.com/collections/coffee-tables/products/provenance-round-cocktail-table-linen?lshst=collection\n",
      "https://www.alrugaibfurniture.com/collections/coffee-tables/products/havalance-cocktail-table?lshst=collection\n",
      "https://www.alrugaibfurniture.com/collections/coffee-tables/products/socialite?lshst=collection\n",
      "https://www.alrugaibfurniture.com/collections/coffee-tables/products/richard-marble-cocktail-table?lshst=collection\n",
      "https://www.alrugaibfurniture.com/collections/coffee-tables/products/gemma-black-marble-coffee-table?lshst=collection\n",
      "https://www.alrugaibfurniture.com/collections/coffee-tables/products/tempo-marble-cocktail-table?lshst=collection\n",
      "https://www.alrugaibfurniture.com/collections/coffee-tables/products/haroflyn-square-cocktail-table?lshst=collection\n",
      "https://www.alrugaibfurniture.com/collections/coffee-tables/products/volker-coffee-table?lshst=collection\n",
      "https://www.alrugaibfurniture.com/collections/coffee-tables/products/cocktail-couture?lshst=collection\n",
      "https://www.alrugaibfurniture.com/collections/coffee-tables/products/gately-lift-top-cocktail-table?lshst=collection\n",
      "https://www.alrugaibfurniture.com/collections/coffee-tables/products/taja-coffee-table?lshst=collection\n",
      "https://www.alrugaibfurniture.com/collections/coffee-tables/products/catali-coffee-table?lshst=collection\n",
      "https://www.alrugaibfurniture.com/collections/coffee-tables/products/borlofield-ottoman-cocktail-table?lshst=collection\n"
     ]
    }
   ],
   "source": [
    "for pro in products:\n",
    "    print(pro.get_attribute('href'))"
   ]
  },
  {
   "cell_type": "code",
   "execution_count": null,
   "id": "cb952115",
   "metadata": {},
   "outputs": [],
   "source": []
  },
  {
   "cell_type": "code",
   "execution_count": 17,
   "id": "e61fef2c",
   "metadata": {},
   "outputs": [
    {
     "data": {
      "text/plain": [
       "['https://www.alrugaibfurniture.com/collections/coffee-tables/products/realyn-oval-cocktail-table?lshst=collection',\n",
       " 'https://www.alrugaibfurniture.com/collections/coffee-tables/products/watson-rectangular-cocktail-table?lshst=collection',\n",
       " 'https://www.alrugaibfurniture.com/collections/coffee-tables/products/coylin-square-cocktail-table?lshst=collection',\n",
       " 'https://www.alrugaibfurniture.com/collections/coffee-tables/products/sociables?lshst=collection',\n",
       " 'https://www.alrugaibfurniture.com/collections/coffee-tables/products/stainless-steel-glass-coffee-table-silver-kd?lshst=collection',\n",
       " 'https://www.alrugaibfurniture.com/collections/coffee-tables/products/coralayne-silver-finish-oval-cocktail-table?lshst=collection',\n",
       " 'https://www.alrugaibfurniture.com/collections/coffee-tables/products/wesling-rectangular-coctail-table?lshst=collection',\n",
       " 'https://www.alrugaibfurniture.com/collections/coffee-tables/products/kisper-cocktail-table?lshst=collection',\n",
       " 'https://www.alrugaibfurniture.com/collections/coffee-tables/products/terzo-white-marble-coffee-table?lshst=collection',\n",
       " 'https://www.alrugaibfurniture.com/collections/coffee-tables/products/johnelle-coffee-table?lshst=collection',\n",
       " 'https://www.alrugaibfurniture.com/collections/coffee-tables/products/henzler-coffee-table?lshst=collection',\n",
       " 'https://www.alrugaibfurniture.com/collections/coffee-tables/products/provenance-round-cocktail-table-linen?lshst=collection',\n",
       " 'https://www.alrugaibfurniture.com/collections/coffee-tables/products/havalance-cocktail-table?lshst=collection',\n",
       " 'https://www.alrugaibfurniture.com/collections/coffee-tables/products/socialite?lshst=collection',\n",
       " 'https://www.alrugaibfurniture.com/collections/coffee-tables/products/richard-marble-cocktail-table?lshst=collection',\n",
       " 'https://www.alrugaibfurniture.com/collections/coffee-tables/products/gemma-black-marble-coffee-table?lshst=collection',\n",
       " 'https://www.alrugaibfurniture.com/collections/coffee-tables/products/tempo-marble-cocktail-table?lshst=collection',\n",
       " 'https://www.alrugaibfurniture.com/collections/coffee-tables/products/haroflyn-square-cocktail-table?lshst=collection',\n",
       " 'https://www.alrugaibfurniture.com/collections/coffee-tables/products/volker-coffee-table?lshst=collection',\n",
       " 'https://www.alrugaibfurniture.com/collections/coffee-tables/products/cocktail-couture?lshst=collection',\n",
       " 'https://www.alrugaibfurniture.com/collections/coffee-tables/products/gately-lift-top-cocktail-table?lshst=collection',\n",
       " 'https://www.alrugaibfurniture.com/collections/coffee-tables/products/taja-coffee-table?lshst=collection',\n",
       " 'https://www.alrugaibfurniture.com/collections/coffee-tables/products/catali-coffee-table?lshst=collection',\n",
       " 'https://www.alrugaibfurniture.com/collections/coffee-tables/products/borlofield-ottoman-cocktail-table?lshst=collection']"
      ]
     },
     "execution_count": 17,
     "metadata": {},
     "output_type": "execute_result"
    }
   ],
   "source": [
    "[pro.get_attribute('href') for pro in products ]"
   ]
  },
  {
   "cell_type": "code",
   "execution_count": null,
   "id": "74c74565",
   "metadata": {},
   "outputs": [],
   "source": []
  },
  {
   "cell_type": "code",
   "execution_count": null,
   "id": "05a69b61",
   "metadata": {},
   "outputs": [],
   "source": []
  },
  {
   "cell_type": "code",
   "execution_count": null,
   "id": "f607b0b1",
   "metadata": {},
   "outputs": [],
   "source": []
  },
  {
   "cell_type": "code",
   "execution_count": 13,
   "id": "f8c17279",
   "metadata": {},
   "outputs": [],
   "source": [
    "products[0].get_attribute('href')\n"
   ]
  },
  {
   "cell_type": "code",
   "execution_count": null,
   "id": "88135bcb",
   "metadata": {},
   "outputs": [],
   "source": []
  },
  {
   "cell_type": "code",
   "execution_count": null,
   "id": "fee5acab",
   "metadata": {},
   "outputs": [],
   "source": []
  },
  {
   "cell_type": "code",
   "execution_count": null,
   "id": "c578d937",
   "metadata": {},
   "outputs": [],
   "source": []
  },
  {
   "cell_type": "code",
   "execution_count": null,
   "id": "f397bf97",
   "metadata": {},
   "outputs": [],
   "source": []
  },
  {
   "cell_type": "code",
   "execution_count": null,
   "id": "f917293f",
   "metadata": {},
   "outputs": [],
   "source": []
  },
  {
   "cell_type": "code",
   "execution_count": null,
   "id": "916ac2f2",
   "metadata": {},
   "outputs": [],
   "source": []
  },
  {
   "cell_type": "code",
   "execution_count": null,
   "id": "7f7049a1",
   "metadata": {},
   "outputs": [],
   "source": []
  },
  {
   "cell_type": "code",
   "execution_count": null,
   "id": "49745982",
   "metadata": {},
   "outputs": [],
   "source": []
  },
  {
   "cell_type": "code",
   "execution_count": null,
   "id": "49f4372a",
   "metadata": {},
   "outputs": [],
   "source": []
  },
  {
   "cell_type": "code",
   "execution_count": null,
   "id": "e9eb60dd",
   "metadata": {},
   "outputs": [],
   "source": []
  }
 ],
 "metadata": {
  "kernelspec": {
   "display_name": "Python 3",
   "language": "python",
   "name": "python3"
  },
  "language_info": {
   "codemirror_mode": {
    "name": "ipython",
    "version": 3
   },
   "file_extension": ".py",
   "mimetype": "text/x-python",
   "name": "python",
   "nbconvert_exporter": "python",
   "pygments_lexer": "ipython3",
   "version": "3.8.8"
  },
  "toc": {
   "base_numbering": 1,
   "nav_menu": {},
   "number_sections": true,
   "sideBar": true,
   "skip_h1_title": false,
   "title_cell": "Table of Contents",
   "title_sidebar": "Contents",
   "toc_cell": false,
   "toc_position": {},
   "toc_section_display": true,
   "toc_window_display": false
  }
 },
 "nbformat": 4,
 "nbformat_minor": 5
}
