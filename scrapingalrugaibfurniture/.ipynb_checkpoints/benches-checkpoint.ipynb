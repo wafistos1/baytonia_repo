{
 "cells": [
  {
   "cell_type": "code",
   "execution_count": 1,
   "id": "51b0a636",
   "metadata": {},
   "outputs": [],
   "source": [
    "#imports here\n",
    "from selenium import webdriver\n",
    "from selenium.webdriver.common.keys import Keys\n",
    "from selenium.webdriver.support import expected_conditions as EC\n",
    "from selenium.webdriver.common.by import By\n",
    "from selenium.webdriver.support.wait import WebDriverWait\n",
    "from selenium.webdriver.firefox.options import Options\n",
    "import time\n",
    "import os\n",
    "from fake_useragent import UserAgent\n",
    "from random import randint\n",
    "import pandas as pd\n",
    "import re"
   ]
  },
  {
   "cell_type": "code",
   "execution_count": null,
   "id": "18f749f5",
   "metadata": {},
   "outputs": [],
   "source": []
  },
  {
   "cell_type": "code",
   "execution_count": null,
   "id": "a6ebfd88",
   "metadata": {},
   "outputs": [],
   "source": []
  },
  {
   "cell_type": "code",
   "execution_count": 2,
   "id": "e81ce385",
   "metadata": {},
   "outputs": [
    {
     "name": "stdout",
     "output_type": "stream",
     "text": [
      "Mozilla/5.0 (Windows NT 5.1) AppleWebKit/537.36 (KHTML, like Gecko) Chrome/36.0.1985.67 Safari/537.36\n"
     ]
    },
    {
     "name": "stderr",
     "output_type": "stream",
     "text": [
      "<ipython-input-2-5315509cced7>:7: DeprecationWarning: use options instead of firefox_options\n",
      "  driver = webdriver.Firefox(firefox_options=options)\n"
     ]
    }
   ],
   "source": [
    "options = Options()\n",
    "ua = UserAgent()\n",
    "userAgent = ua.random\n",
    "print(userAgent)\n",
    "options.add_argument(f'user-agent={userAgent}')\n",
    "#options.add_argument(\"--headless\")\n",
    "driver = webdriver.Firefox(firefox_options=options)\n",
    "#     driver = webdriver.Firefox()"
   ]
  },
  {
   "cell_type": "code",
   "execution_count": null,
   "id": "730d02a7",
   "metadata": {},
   "outputs": [],
   "source": []
  },
  {
   "cell_type": "code",
   "execution_count": null,
   "id": "695882ea",
   "metadata": {},
   "outputs": [],
   "source": []
  },
  {
   "cell_type": "code",
   "execution_count": null,
   "id": "4eec53e4",
   "metadata": {},
   "outputs": [],
   "source": []
  },
  {
   "cell_type": "code",
   "execution_count": null,
   "id": "370e2925",
   "metadata": {},
   "outputs": [],
   "source": []
  },
  {
   "cell_type": "code",
   "execution_count": null,
   "id": "25685c6f",
   "metadata": {},
   "outputs": [],
   "source": []
  },
  {
   "cell_type": "code",
   "execution_count": null,
   "id": "dd55b489",
   "metadata": {},
   "outputs": [],
   "source": []
  },
  {
   "cell_type": "code",
   "execution_count": null,
   "id": "fc76bf03",
   "metadata": {},
   "outputs": [],
   "source": [
    "links_products = []\n",
    "def return_details(value, list_dic):\n",
    "        val = ''\n",
    "        for i in list_dic:\n",
    "            if value in i:\n",
    "                val = i.replace(value, '')\n",
    "        return val\n",
    "for i in range(1, 6):\n",
    "    driver.get(f'https://www.alrugaibfurniture.com/ar/collections/benches?page={i}')\n",
    "    \n",
    "    products = driver.find_elements_by_class_name('product-item__image-wrapper')\n",
    "    \n",
    "    \n",
    "    #Forloop to get all url products\n",
    "    for product in products:\n",
    "\n",
    "        links_products.append(product.get_attribute('href'))\n",
    "        time.sleep(1)\n",
    "    time.sleep(1)\n",
    "print(len(links_products))"
   ]
  },
  {
   "cell_type": "code",
   "execution_count": null,
   "id": "35b890f8",
   "metadata": {},
   "outputs": [],
   "source": []
  },
  {
   "cell_type": "code",
   "execution_count": null,
   "id": "4c2afc6f",
   "metadata": {},
   "outputs": [],
   "source": []
  },
  {
   "cell_type": "code",
   "execution_count": null,
   "id": "af7eabad",
   "metadata": {},
   "outputs": [],
   "source": []
  },
  {
   "cell_type": "code",
   "execution_count": null,
   "id": "f238f4b6",
   "metadata": {},
   "outputs": [],
   "source": []
  },
  {
   "cell_type": "code",
   "execution_count": 126,
   "id": "396dbf6b",
   "metadata": {},
   "outputs": [
    {
     "data": {
      "text/plain": [
       "[]"
      ]
     },
     "execution_count": 126,
     "metadata": {},
     "output_type": "execute_result"
    }
   ],
   "source": [
    "links_products"
   ]
  },
  {
   "cell_type": "code",
   "execution_count": null,
   "id": "e4baa6fd",
   "metadata": {},
   "outputs": [],
   "source": []
  },
  {
   "cell_type": "code",
   "execution_count": null,
   "id": "2755c12f",
   "metadata": {},
   "outputs": [],
   "source": []
  },
  {
   "cell_type": "code",
   "execution_count": 94,
   "id": "14f4125f",
   "metadata": {},
   "outputs": [
    {
     "name": "stdout",
     "output_type": "stream",
     "text": [
      "URl: https://www.alrugaibfurniture.com/collections/coffee-tables/products/realyn-oval-cocktail-table?lshst=collection\n",
      "Price: 1,710.81\n",
      "Price old: 2,111.07\n",
      "Description: Oval Cocktail Table\n",
      "Colors: White/Brown\n",
      "Size: Inches: 48.13\" W x 34\" D x 19.88\" H\n",
      "URl: https://www.alrugaibfurniture.com/collections/coffee-tables/products/realyn-oval-cocktail-table?lshst=collection\n",
      "Sku: T743-0\n",
      "URl: https://www.alrugaibfurniture.com/collections/coffee-tables/products/watson-rectangular-cocktail-table?lshst=collection\n",
      "Price: 1,070.70\n",
      "Price old: 1,415.91\n",
      "Description: Rectangular Cocktail Table\n",
      "Colors: Dark Brown\n",
      "Size: Inches: 56.06\" W x 42.06\" D x 16.63\" H\n",
      "URl: https://www.alrugaibfurniture.com/collections/coffee-tables/products/watson-rectangular-cocktail-table?lshst=collection\n",
      "Sku: T481-1\n",
      "URl: https://www.alrugaibfurniture.com/collections/coffee-tables/products/coylin-square-cocktail-table?lshst=collection\n",
      "Price: 1,158.45\n",
      "Price old: \n",
      "Description: Square Cocktail Table\n",
      "Colors: Brushed Nickel Finish\n",
      "Size: Inches: 34.13\" W x 34\" D x 16.13\" H\n",
      "URl: https://www.alrugaibfurniture.com/collections/coffee-tables/products/coylin-square-cocktail-table?lshst=collection\n",
      "Sku: T136-8\n",
      "URl: https://www.alrugaibfurniture.com/collections/coffee-tables/products/sociables?lshst=collection\n",
      "Price: 5,629.25\n",
      "Price old: \n",
      "Description: Metal frame. Glass top. Shelf at bottom with trellis pattern.\n",
      "Colors: \n",
      "Size: 127W x 127D x 47.63H cm\n",
      "URl: https://www.alrugaibfurniture.com/collections/coffee-tables/products/sociables?lshst=collection\n",
      "Sku: CON-COCTAB-024\n",
      "URl: https://www.alrugaibfurniture.com/collections/coffee-tables/products/stainless-steel-glass-coffee-table-silver-kd?lshst=collection\n",
      "Price: 856.75\n",
      "Price old: 1,029.25\n",
      "Description: \n",
      "Colors: \n",
      "Size: \n",
      "URl: https://www.alrugaibfurniture.com/collections/coffee-tables/products/stainless-steel-glass-coffee-table-silver-kd?lshst=collection\n",
      "Sku: 13745-01\n",
      "URl: https://www.alrugaibfurniture.com/collections/coffee-tables/products/coralayne-silver-finish-oval-cocktail-table?lshst=collection\n",
      "Price: 1,788.88\n",
      "Price old: 2,368.53\n",
      "Description: \n",
      "Colors: \n",
      "Size: \n",
      "URl: https://www.alrugaibfurniture.com/collections/coffee-tables/products/coralayne-silver-finish-oval-cocktail-table?lshst=collection\n",
      "Sku: T820/0\n",
      "URl: https://www.alrugaibfurniture.com/collections/coffee-tables/products/wesling-rectangular-coctail-table?lshst=collection\n",
      "Price: 2,639.00\n",
      "Price old: 3,501.36\n",
      "Description: \n",
      "Colors: \n",
      "Size: \n",
      "URl: https://www.alrugaibfurniture.com/collections/coffee-tables/products/wesling-rectangular-coctail-table?lshst=collection\n",
      "Sku: T873-1\n",
      "URl: https://www.alrugaibfurniture.com/collections/coffee-tables/products/kisper-cocktail-table?lshst=collection\n",
      "Price: 1,094.75\n",
      "Price old: 1,544.65\n",
      "Description: \n",
      "Colors: \n",
      "Size: \n",
      "URl: https://www.alrugaibfurniture.com/collections/coffee-tables/products/kisper-cocktail-table?lshst=collection\n",
      "Sku: T802-1\n",
      "URl: https://www.alrugaibfurniture.com/collections/coffee-tables/products/terzo-white-marble-coffee-table?lshst=collection\n",
      "Price: 2,179.25\n",
      "Price old: \n",
      "Description: \n",
      "Colors: \n",
      "Size: \n",
      "URl: https://www.alrugaibfurniture.com/collections/coffee-tables/products/terzo-white-marble-coffee-table?lshst=collection\n",
      "Sku: TOV-OC18163\n",
      "URl: https://www.alrugaibfurniture.com/collections/coffee-tables/products/johnelle-coffee-table?lshst=collection\n",
      "Price: 2,164.68\n",
      "Price old: 2,664.61\n",
      "Description: Rectangular Cocktail Table\n",
      "Colors: Gray\n",
      "Size: Inches: 54\" W x 40\" D x 17.75\" H\n",
      "URl: https://www.alrugaibfurniture.com/collections/coffee-tables/products/johnelle-coffee-table?lshst=collection\n",
      "Sku: T776-1\n"
     ]
    }
   ],
   "source": [
    "count = 0\n",
    "list_images = []\n",
    "list_input_title = []\n",
    "list_input_price = []\n",
    "list_input_images1 = []\n",
    "list_input_images2 = []\n",
    "list_input_images3 = []\n",
    "list_input_images4 = []\n",
    "list_input_price_was = []\n",
    "list_input_model = []\n",
    "list_input_size = []\n",
    "list_input_color = []\n",
    "list_input_sku = []\n",
    "list_input_style = []\n",
    "list_input_in_stock = []\n",
    "list_input_mater = []\n",
    "list_input_link_url = []\n",
    "list_input_category1 = []\n",
    "list_input_category2 = []\n",
    "list_input_category3 = []\n",
    "list_input_width = []\n",
    "list_input_height = []\n",
    "list_input_length = []\n",
    "\n",
    "#ForLoop main\n",
    "for product in links_products[:10]:\n",
    "    time.sleep(1)\n",
    "    try:\n",
    "        print('URl:', product)\n",
    "        driver.get(product)\n",
    "        time.sleep(3)\n",
    "    except:\n",
    "        continue\n",
    "\n",
    "    \n",
    "\n",
    "    link_url = str(product)\n",
    "    time.sleep(1)\n",
    "    try:\n",
    "        #click button more\n",
    "        click_more = driver.find_element_by_class_name('expandable-content__toggle-icon')\n",
    "        click_more.click()\n",
    "    except:\n",
    "        pass\n",
    "    time.sleep(1)\n",
    "    \n",
    "    title = driver.find_element_by_class_name('product-meta__title').text\n",
    "    \n",
    "    sku = driver.find_element_by_class_name('product-meta__sku').text.replace('SKU: ', '')\n",
    "    \n",
    "\n",
    "    prices = driver.find_elements_by_class_name('money')\n",
    "\n",
    "    price = prices[0].text.replace(' SAR', '')\n",
    "    \n",
    "    old_price = prices[1].text.replace(' SAR', '')\n",
    "    \n",
    "\n",
    "  \n",
    "    time.sleep(3)\n",
    "    \n",
    "    descriptions = driver.find_elements_by_class_name('card__section')\n",
    "    \n",
    "    \n",
    "    description_list = descriptions[2].text.split('/n')[0]\n",
    "    description_list1 = description_list.split('\\n')\n",
    "# Master_Item_Number*********************************************************************************\n",
    "    try:\n",
    "        try:\n",
    "            Master_Item_Number = description_list1[description_list1.index('Master Item Number:')+1]\n",
    "        except:\n",
    "            Master_Item_Number = description_list1[description_list1.index('MATERIAL:')+1]\n",
    "            \n",
    "    except:\n",
    "        Master_Item_Number = ''\n",
    "        \n",
    "        \n",
    "        \n",
    "# Description*********************************************************************************\n",
    "    try:\n",
    "        try:\n",
    "            Description = description_list1[description_list1.index('Description:')+1]\n",
    "        except:\n",
    "            Description = description_list1[description_list1.index('FEATURES:')+1]\n",
    "    except:\n",
    "        Description = ''\n",
    "        \n",
    "        \n",
    "        \n",
    "        \n",
    "# Series*********************************************************************************\n",
    "    try:\n",
    "        Series = description_list1[description_list1.index('Series:')+1]\n",
    "    except:\n",
    "        Series = ''\n",
    "        \n",
    "        \n",
    "        \n",
    "# Colors*********************************************************************************\n",
    "    try:\n",
    "        Colors = description_list1[description_list1.index('Colors:')+1]\n",
    "    except:\n",
    "        Colors = ''\n",
    "        \n",
    "        \n",
    "        \n",
    "# Dimensions*********************************************************************************\n",
    "    try:\n",
    "        try:\n",
    "            Dimensions= description_list1[description_list1.index('Dimensions (Confirmed):')+1]\n",
    "        except:\n",
    "            Dimensions= description_list1[description_list1.index('DIMENSIONS (CM):')+1]\n",
    "            \n",
    "    except:\n",
    "        Dimensions = ''\n",
    "        \n",
    "    \n",
    "    \n",
    "# Images*********************************************************************************\n",
    "    list_images = []\n",
    "    images = driver.find_elements_by_class_name('product-gallery__thumbnail')\n",
    "\n",
    "    for ele in images:\n",
    "        ele.click()\n",
    "        time.sleep(0.5)\n",
    "\n",
    "    images = driver.find_elements_by_class_name('product-gallery__image')\n",
    "    \n",
    "    # print(len(images))\n",
    "    for img in images:\n",
    "        #list_images.append('https:'+img.get_attribute('data-srcset').split(' ')[0])\n",
    "        #print(':', img.get_attribute('data-srcset'))\n",
    "        t = 'https:'+img.get_attribute('data-srcset').split(', ')[0]\n",
    "        #print(t)\n",
    "        list_images.append(t)\n",
    "    len(images)\n",
    "#************************************************************************** \n",
    "    print('Price:', price)\n",
    "    print('Price old:',old_price)\n",
    "    print('Description:',Description)\n",
    "    print('Colors:',Colors)\n",
    "    print('Size:',Dimensions)\n",
    "    print('URl:',link_url)\n",
    "    print('Sku:',sku)\n",
    "   \n",
    "    list_input_title.append(title)\n",
    "    list_input_price.append(price)\n",
    "    list_input_price_was.append(old_price)\n",
    "    list_input_model.append(Description)\n",
    "    list_input_color.append(Colors)\n",
    "    list_input_size.append(Dimensions)\n",
    "    list_input_sku.append(sku)\n",
    "    list_input_link_url.append(link_url)\n",
    "    try:\n",
    "        list_input_images1.append(list_images[0])\n",
    "    except:\n",
    "        list_input_images1.append('')\n",
    "        \n",
    "    try:\n",
    "        list_input_images2.append(list_images[1:])\n",
    "    except:\n",
    "        list_input_images2.append('')\n",
    "        \n",
    "\n",
    "    #df['Images'] = list_images\n",
    "    \n",
    "df = pd.DataFrame({'Sku': list_input_sku,\n",
    "                    'Title': list_input_title,\n",
    "                   'Price': list_input_price, \n",
    "                   \"Price was\":list_input_price_was,  \n",
    "                   'Model': list_input_model, \n",
    "                   'Color': list_input_color, \n",
    "                   'Size': list_input_size,\n",
    "                   'Images1': list_input_images1,\n",
    "                   'Images2': list_input_images2,\n",
    "#                    'Images3': list_input_images3,\n",
    "#                    'Images4': list_input_images4,\n",
    "                   'Link url': list_input_link_url,\n",
    "\n",
    "                  })\n",
    "#     new_df = pd.concat([df])\n",
    "df.to_excel( 'coffee_tables.xlsx', index = True)"
   ]
  },
  {
   "cell_type": "code",
   "execution_count": null,
   "id": "02ddf475",
   "metadata": {},
   "outputs": [],
   "source": []
  },
  {
   "cell_type": "code",
   "execution_count": null,
   "id": "e990383b",
   "metadata": {},
   "outputs": [],
   "source": []
  },
  {
   "cell_type": "code",
   "execution_count": null,
   "id": "4f8ee879",
   "metadata": {},
   "outputs": [],
   "source": []
  },
  {
   "cell_type": "code",
   "execution_count": null,
   "id": "4d4428b7",
   "metadata": {},
   "outputs": [],
   "source": []
  },
  {
   "cell_type": "code",
   "execution_count": 83,
   "id": "9c19e96d",
   "metadata": {},
   "outputs": [],
   "source": [
    "Dimensions= description_list1[description_list1.index('DIMENSIONS (CM):')+1]"
   ]
  },
  {
   "cell_type": "code",
   "execution_count": null,
   "id": "9dcac315",
   "metadata": {},
   "outputs": [],
   "source": []
  },
  {
   "cell_type": "code",
   "execution_count": 85,
   "id": "12017f65",
   "metadata": {},
   "outputs": [
    {
     "data": {
      "text/plain": [
       "['DIMENSIONS + WEIGHT',\n",
       " 'WEIGHT:',\n",
       " 'CUBIC FEET:',\n",
       " '136 pounds',\n",
       " '11.36',\n",
       " 'PORTFOLIO:',\n",
       " 'CARACOLE',\n",
       " 'MATERIAL:',\n",
       " 'Steel Metal and Cast Iron',\n",
       " 'DIMENSIONS (IN):',\n",
       " '50W x 50D x 18.75H in',\n",
       " 'DIMENSIONS (CM):',\n",
       " '127W x 127D x 47.63H cm',\n",
       " 'CARTON DIMENSIONS:',\n",
       " '53.000W x 57.500D x 6.500H in',\n",
       " 'CONFIGURE TYPE:',\n",
       " 'NORMAL',\n",
       " 'PRODUCT OVERVIEW:',\n",
       " \"Sociables is one of Caracole's largest and most dramatic cocktail tables. The overall light and airy design and styling of this metal and glass top cocktail offers you the flexibility to take this contemporary or spice up a traditional room without being overwhelming. An unexpectedly warm Taupe Silver Leaf finish has been applied to the metal. We think this finish offers elegance and will make you look like a design genius! Below the glass top, a large-scale, stylized trellis pattern is sure to draw anyone's attention. Use this open air shelf to display books or keep it empty to show off the detailing.\",\n",
       " 'FEATURES:',\n",
       " 'Metal frame. Glass top. Shelf at bottom with trellis pattern.',\n",
       " 'View less']"
      ]
     },
     "execution_count": 85,
     "metadata": {},
     "output_type": "execute_result"
    }
   ],
   "source": [
    "description_list1"
   ]
  },
  {
   "cell_type": "code",
   "execution_count": null,
   "id": "4c824fc6",
   "metadata": {},
   "outputs": [],
   "source": []
  },
  {
   "cell_type": "code",
   "execution_count": 82,
   "id": "aad30deb",
   "metadata": {},
   "outputs": [
    {
     "data": {
      "text/plain": [
       "'Metal frame. Glass top. Shelf at bottom with trellis pattern.'"
      ]
     },
     "execution_count": 82,
     "metadata": {},
     "output_type": "execute_result"
    }
   ],
   "source": [
    "Description = description_list1[description_list1.index('FEATURES:')+1]\n",
    "Description"
   ]
  },
  {
   "cell_type": "code",
   "execution_count": 89,
   "id": "cfecc7c0",
   "metadata": {},
   "outputs": [
    {
     "data": {
      "text/plain": [
       "'127W x 127D x 47.63H cm'"
      ]
     },
     "execution_count": 89,
     "metadata": {},
     "output_type": "execute_result"
    }
   ],
   "source": [
    "Dimensions= description_list1[description_list1.index('DIMENSIONS (CM):')+1]\n",
    "Dimensions"
   ]
  },
  {
   "cell_type": "code",
   "execution_count": 90,
   "id": "897161da",
   "metadata": {},
   "outputs": [
    {
     "data": {
      "text/plain": [
       "'Steel Metal and Cast Iron'"
      ]
     },
     "execution_count": 90,
     "metadata": {},
     "output_type": "execute_result"
    }
   ],
   "source": [
    "Master_Item_Number = description_list1[description_list1.index('MATERIAL:')+1]\n",
    "Master_Item_Number\n"
   ]
  },
  {
   "cell_type": "code",
   "execution_count": null,
   "id": "c2fcb0e8",
   "metadata": {},
   "outputs": [],
   "source": []
  },
  {
   "cell_type": "code",
   "execution_count": null,
   "id": "f9e72d40",
   "metadata": {},
   "outputs": [],
   "source": []
  },
  {
   "cell_type": "code",
   "execution_count": null,
   "id": "c2f67fe1",
   "metadata": {},
   "outputs": [],
   "source": []
  },
  {
   "cell_type": "code",
   "execution_count": null,
   "id": "e4e69c67",
   "metadata": {},
   "outputs": [],
   "source": []
  },
  {
   "cell_type": "code",
   "execution_count": null,
   "id": "0247c2e2",
   "metadata": {},
   "outputs": [],
   "source": []
  },
  {
   "cell_type": "code",
   "execution_count": null,
   "id": "cf1f259a",
   "metadata": {},
   "outputs": [],
   "source": []
  },
  {
   "cell_type": "code",
   "execution_count": null,
   "id": "c58e3726",
   "metadata": {},
   "outputs": [],
   "source": []
  },
  {
   "cell_type": "code",
   "execution_count": null,
   "id": "25ad899d",
   "metadata": {},
   "outputs": [],
   "source": []
  },
  {
   "cell_type": "code",
   "execution_count": null,
   "id": "98d25c92",
   "metadata": {},
   "outputs": [],
   "source": []
  },
  {
   "cell_type": "code",
   "execution_count": 69,
   "id": "6b9b667c",
   "metadata": {},
   "outputs": [],
   "source": [
    "driver.get(links_products[30])"
   ]
  },
  {
   "cell_type": "code",
   "execution_count": null,
   "id": "33aa9d43",
   "metadata": {},
   "outputs": [],
   "source": []
  },
  {
   "cell_type": "code",
   "execution_count": null,
   "id": "c5c2f1ef",
   "metadata": {},
   "outputs": [],
   "source": []
  },
  {
   "cell_type": "code",
   "execution_count": null,
   "id": "6b1f6224",
   "metadata": {},
   "outputs": [],
   "source": []
  },
  {
   "cell_type": "code",
   "execution_count": null,
   "id": "c92c9077",
   "metadata": {},
   "outputs": [],
   "source": []
  },
  {
   "cell_type": "code",
   "execution_count": 70,
   "id": "9c2e4aae",
   "metadata": {},
   "outputs": [],
   "source": [
    "click_more = driver.find_element_by_class_name('expandable-content__toggle-icon')\n",
    "click_more.click()"
   ]
  },
  {
   "cell_type": "code",
   "execution_count": null,
   "id": "57ec90a2",
   "metadata": {},
   "outputs": [],
   "source": []
  },
  {
   "cell_type": "code",
   "execution_count": null,
   "id": "e2255077",
   "metadata": {},
   "outputs": [],
   "source": []
  },
  {
   "cell_type": "code",
   "execution_count": null,
   "id": "e899a19f",
   "metadata": {},
   "outputs": [],
   "source": []
  },
  {
   "cell_type": "code",
   "execution_count": null,
   "id": "bb57e84d",
   "metadata": {},
   "outputs": [],
   "source": []
  },
  {
   "cell_type": "code",
   "execution_count": null,
   "id": "5c486818",
   "metadata": {},
   "outputs": [],
   "source": []
  },
  {
   "cell_type": "code",
   "execution_count": 30,
   "id": "09932391",
   "metadata": {},
   "outputs": [],
   "source": [
    "\n"
   ]
  },
  {
   "cell_type": "code",
   "execution_count": 75,
   "id": "4427c002",
   "metadata": {},
   "outputs": [
    {
     "data": {
      "text/plain": [
       "2"
      ]
     },
     "execution_count": 75,
     "metadata": {},
     "output_type": "execute_result"
    }
   ],
   "source": [
    "images = driver.find_elements_by_class_name('product-gallery__thumbnail')\n",
    "\n",
    "for ele in images:\n",
    "    ele.click()\n",
    "    time.sleep(0.5)\n",
    "\n",
    "images = driver.find_elements_by_class_name('product-gallery__image')\n",
    "images_tab = []\n",
    "# print(len(images))\n",
    "for img in images:\n",
    "    #list_images.append('https:'+img.get_attribute('data-srcset').split(' ')[0])\n",
    "    #print(':', img.get_attribute('data-srcset'))\n",
    "    t = 'https:'+img.get_attribute('data-srcset').split(', ')[0]\n",
    "    #print(t)\n",
    "    images_tab.append(t)\n",
    "images_tab\n",
    "len(images)"
   ]
  },
  {
   "cell_type": "code",
   "execution_count": null,
   "id": "91b717ea",
   "metadata": {},
   "outputs": [],
   "source": []
  },
  {
   "cell_type": "code",
   "execution_count": null,
   "id": "85d2be10",
   "metadata": {},
   "outputs": [],
   "source": []
  },
  {
   "cell_type": "code",
   "execution_count": null,
   "id": "a06fb935",
   "metadata": {},
   "outputs": [],
   "source": []
  },
  {
   "cell_type": "code",
   "execution_count": null,
   "id": "f521d0e5",
   "metadata": {},
   "outputs": [],
   "source": []
  },
  {
   "cell_type": "code",
   "execution_count": null,
   "id": "20f8d76e",
   "metadata": {},
   "outputs": [],
   "source": []
  },
  {
   "cell_type": "code",
   "execution_count": null,
   "id": "3ebdc3b2",
   "metadata": {},
   "outputs": [],
   "source": []
  },
  {
   "cell_type": "code",
   "execution_count": 72,
   "id": "66374633",
   "metadata": {},
   "outputs": [
    {
     "data": {
      "text/plain": [
       "9"
      ]
     },
     "execution_count": 72,
     "metadata": {},
     "output_type": "execute_result"
    }
   ],
   "source": []
  },
  {
   "cell_type": "code",
   "execution_count": null,
   "id": "a4c43738",
   "metadata": {},
   "outputs": [],
   "source": []
  },
  {
   "cell_type": "code",
   "execution_count": null,
   "id": "aadd65db",
   "metadata": {},
   "outputs": [],
   "source": []
  },
  {
   "cell_type": "code",
   "execution_count": 73,
   "id": "b7ec332d",
   "metadata": {},
   "outputs": [
    {
     "data": {
      "text/plain": [
       "['https://cdn.shopify.com/s/files/1/0773/5495/products/IK-1002-18_400x.jpg?v=1602243614 400w',\n",
       " 'https://cdn.shopify.com/s/files/1/0773/5495/products/ik-1002-18_1_400x.jpg?v=1602243616 400w',\n",
       " 'https://cdn.shopify.com/s/files/1/0773/5495/products/ik-1002-18_2_400x.jpg?v=1602243617 400w',\n",
       " 'https://cdn.shopify.com/s/files/1/0773/5495/products/ik-1002-18_3_400x.jpg?v=1602243618 400w',\n",
       " 'https://cdn.shopify.com/s/files/1/0773/5495/products/ik-1002-18_537bc3b1-16c9-4929-abc2-3d20e7a7e448_400x.jpg?v=1602243619 400w',\n",
       " 'https://cdn.shopify.com/s/files/1/0773/5495/products/IK-1002-02_1_400x.jpg?v=1602243620 400w',\n",
       " 'https://cdn.shopify.com/s/files/1/0773/5495/products/IK-1002-02_2_400x.jpg?v=1602243622 400w',\n",
       " 'https://cdn.shopify.com/s/files/1/0773/5495/products/IK-1002-02_3_400x.jpg?v=1602243623 400w',\n",
       " 'https://cdn.shopify.com/s/files/1/0773/5495/products/IK-1002-02_400x.jpg?v=1602243624 400w']"
      ]
     },
     "execution_count": 73,
     "metadata": {},
     "output_type": "execute_result"
    }
   ],
   "source": [
    "images_tab"
   ]
  },
  {
   "cell_type": "code",
   "execution_count": null,
   "id": "fd09fb9d",
   "metadata": {},
   "outputs": [],
   "source": []
  },
  {
   "cell_type": "code",
   "execution_count": null,
   "id": "9343c31b",
   "metadata": {},
   "outputs": [],
   "source": []
  },
  {
   "cell_type": "code",
   "execution_count": null,
   "id": "47b10cd7",
   "metadata": {},
   "outputs": [],
   "source": []
  },
  {
   "cell_type": "code",
   "execution_count": null,
   "id": "2717664c",
   "metadata": {},
   "outputs": [],
   "source": []
  },
  {
   "cell_type": "code",
   "execution_count": null,
   "id": "f539f2d8",
   "metadata": {},
   "outputs": [],
   "source": []
  },
  {
   "cell_type": "code",
   "execution_count": null,
   "id": "4f18c485",
   "metadata": {},
   "outputs": [],
   "source": []
  },
  {
   "cell_type": "code",
   "execution_count": null,
   "id": "f25ad542",
   "metadata": {},
   "outputs": [],
   "source": []
  },
  {
   "cell_type": "code",
   "execution_count": null,
   "id": "aea5911e",
   "metadata": {},
   "outputs": [],
   "source": []
  },
  {
   "cell_type": "code",
   "execution_count": null,
   "id": "87c37a4d",
   "metadata": {},
   "outputs": [],
   "source": []
  },
  {
   "cell_type": "code",
   "execution_count": null,
   "id": "7faf3414",
   "metadata": {},
   "outputs": [],
   "source": []
  },
  {
   "cell_type": "code",
   "execution_count": null,
   "id": "d44705a4",
   "metadata": {},
   "outputs": [],
   "source": []
  },
  {
   "cell_type": "code",
   "execution_count": null,
   "id": "4e4e306f",
   "metadata": {},
   "outputs": [],
   "source": []
  },
  {
   "cell_type": "code",
   "execution_count": null,
   "id": "6144cfe6",
   "metadata": {},
   "outputs": [],
   "source": []
  },
  {
   "cell_type": "code",
   "execution_count": null,
   "id": "ce39cefb",
   "metadata": {},
   "outputs": [],
   "source": []
  },
  {
   "cell_type": "code",
   "execution_count": null,
   "id": "8a5537a5",
   "metadata": {},
   "outputs": [],
   "source": []
  },
  {
   "cell_type": "code",
   "execution_count": 57,
   "id": "2284f244",
   "metadata": {},
   "outputs": [
    {
     "data": {
      "text/plain": [
       "[]"
      ]
     },
     "execution_count": 57,
     "metadata": {},
     "output_type": "execute_result"
    }
   ],
   "source": [
    "tab = images_tab\n",
    "tab"
   ]
  },
  {
   "cell_type": "code",
   "execution_count": null,
   "id": "700622bf",
   "metadata": {},
   "outputs": [],
   "source": []
  },
  {
   "cell_type": "code",
   "execution_count": null,
   "id": "6f8b00f6",
   "metadata": {},
   "outputs": [],
   "source": []
  },
  {
   "cell_type": "code",
   "execution_count": null,
   "id": "aad46be2",
   "metadata": {},
   "outputs": [],
   "source": []
  },
  {
   "cell_type": "code",
   "execution_count": null,
   "id": "33c10043",
   "metadata": {},
   "outputs": [],
   "source": []
  },
  {
   "cell_type": "code",
   "execution_count": null,
   "id": "838bf33a",
   "metadata": {},
   "outputs": [],
   "source": []
  },
  {
   "cell_type": "code",
   "execution_count": null,
   "id": "47e17800",
   "metadata": {},
   "outputs": [],
   "source": []
  },
  {
   "cell_type": "code",
   "execution_count": null,
   "id": "93b09299",
   "metadata": {},
   "outputs": [],
   "source": []
  },
  {
   "cell_type": "code",
   "execution_count": null,
   "id": "6dc119bd",
   "metadata": {},
   "outputs": [],
   "source": []
  },
  {
   "cell_type": "code",
   "execution_count": null,
   "id": "95f6447f",
   "metadata": {},
   "outputs": [],
   "source": []
  },
  {
   "cell_type": "code",
   "execution_count": null,
   "id": "2fdbbd05",
   "metadata": {},
   "outputs": [],
   "source": []
  },
  {
   "cell_type": "code",
   "execution_count": null,
   "id": "63175ae0",
   "metadata": {},
   "outputs": [],
   "source": []
  },
  {
   "cell_type": "code",
   "execution_count": null,
   "id": "3e9d577a",
   "metadata": {},
   "outputs": [],
   "source": []
  },
  {
   "cell_type": "code",
   "execution_count": null,
   "id": "a505510e",
   "metadata": {},
   "outputs": [],
   "source": []
  },
  {
   "cell_type": "code",
   "execution_count": null,
   "id": "4fe2ada2",
   "metadata": {},
   "outputs": [],
   "source": []
  },
  {
   "cell_type": "code",
   "execution_count": 25,
   "id": "661f2c69",
   "metadata": {},
   "outputs": [],
   "source": [
    "image2 = ': //cdn.shopify.com/s/files/1/0773/5495/products/coffee1_400x.jpg?v=1611220472 400w, //cdn.shopify.com/s/files/1/0773/5495/products/coffee1_500x.jpg?v=1611220472 500w, //cdn.shopify.com/s/files/1/0773/5495/products/coffee1_600x.jpg?v=1611220472 600w, //cdn.shopify.com/s/files/1/0773/5495/products/coffee1_700x.jpg?v=1611220472 700w, //cdn.shopify.com/s/files/1/0773/5495/products/coffee1_800x.jpg?v=1611220472 800w, //cdn.shopify.com/s/files/1/0773/5495/products/coffee1_900x.jpg?v=1611220472 900w, //cdn.shopify.com/s/files/1/0773/5495/products/coffee1_1000x.jpg?v=1611220472 1000w, //cdn.shopify.com/s/files/1/0773/5495/products/coffee1_1100x.jpg?v=1611220472 1100w, //cdn.shopify.com/s/files/1/0773/5495/products/coffee1_1200x.jpg?v=1611220472 1200w'"
   ]
  },
  {
   "cell_type": "code",
   "execution_count": 26,
   "id": "81253a76",
   "metadata": {},
   "outputs": [
    {
     "data": {
      "text/plain": [
       "[': //cdn.shopify.com/s/files/1/0773/5495/products/coffee1_400x.jpg?v=1611220472 400w',\n",
       " '//cdn.shopify.com/s/files/1/0773/5495/products/coffee1_500x.jpg?v=1611220472 500w',\n",
       " '//cdn.shopify.com/s/files/1/0773/5495/products/coffee1_600x.jpg?v=1611220472 600w',\n",
       " '//cdn.shopify.com/s/files/1/0773/5495/products/coffee1_700x.jpg?v=1611220472 700w',\n",
       " '//cdn.shopify.com/s/files/1/0773/5495/products/coffee1_800x.jpg?v=1611220472 800w',\n",
       " '//cdn.shopify.com/s/files/1/0773/5495/products/coffee1_900x.jpg?v=1611220472 900w',\n",
       " '//cdn.shopify.com/s/files/1/0773/5495/products/coffee1_1000x.jpg?v=1611220472 1000w',\n",
       " '//cdn.shopify.com/s/files/1/0773/5495/products/coffee1_1100x.jpg?v=1611220472 1100w',\n",
       " '//cdn.shopify.com/s/files/1/0773/5495/products/coffee1_1200x.jpg?v=1611220472 1200w']"
      ]
     },
     "execution_count": 26,
     "metadata": {},
     "output_type": "execute_result"
    }
   ],
   "source": [
    "\n"
   ]
  },
  {
   "cell_type": "code",
   "execution_count": null,
   "id": "5ba055c5",
   "metadata": {},
   "outputs": [],
   "source": []
  },
  {
   "cell_type": "code",
   "execution_count": null,
   "id": "15e47889",
   "metadata": {},
   "outputs": [],
   "source": []
  },
  {
   "cell_type": "code",
   "execution_count": null,
   "id": "bf833923",
   "metadata": {},
   "outputs": [],
   "source": []
  },
  {
   "cell_type": "code",
   "execution_count": null,
   "id": "27177ae2",
   "metadata": {},
   "outputs": [],
   "source": []
  },
  {
   "cell_type": "code",
   "execution_count": 23,
   "id": "f6eac34a",
   "metadata": {},
   "outputs": [
    {
     "data": {
      "text/plain": [
       "'https: //cdn.shopify.com/s/files/1/0773/5495/products/coffee1_400x.jpg?v=1611220472 400w, //cdn.shopify.com/s/files/1/0773/5495/products/coffee1_500x.jpg?v=1611220472 500w, //cdn.shopify.com/s/files/1/0773/5495/products/coffee1_600x.jpg?v=1611220472 600w, //cdn.shopify.com/s/files/1/0773/5495/products/coffee1_700x.jpg?v=1611220472 700w, //cdn.shopify.com/s/files/1/0773/5495/products/coffee1_800x.jpg?v=1611220472 800w, //cdn.shopify.com/s/files/1/0773/5495/products/coffee1_900x.jpg?v=1611220472 900w, //cdn.shopify.com/s/files/1/0773/5495/products/coffee1_1000x.jpg?v=1611220472 1000w, //cdn.shopify.com/s/files/1/0773/5495/products/coffee1_1100x.jpg?v=1611220472 1100w, //cdn.shopify.com/s/files/1/0773/5495/products/coffee1_1200x.jpg?v=1611220472 1200w'"
      ]
     },
     "execution_count": 23,
     "metadata": {},
     "output_type": "execute_result"
    }
   ],
   "source": [
    "image = 'https'+image1\n",
    "image"
   ]
  },
  {
   "cell_type": "code",
   "execution_count": 24,
   "id": "956e2c72",
   "metadata": {},
   "outputs": [
    {
     "data": {
      "text/plain": [
       "['https: //cdn.shopify.com/s/files/1/0773/5495/products/coffee1_400x.jpg?v=1611220472 400w',\n",
       " '//cdn.shopify.com/s/files/1/0773/5495/products/coffee1_500x.jpg?v=1611220472 500w',\n",
       " '//cdn.shopify.com/s/files/1/0773/5495/products/coffee1_600x.jpg?v=1611220472 600w',\n",
       " '//cdn.shopify.com/s/files/1/0773/5495/products/coffee1_700x.jpg?v=1611220472 700w',\n",
       " '//cdn.shopify.com/s/files/1/0773/5495/products/coffee1_800x.jpg?v=1611220472 800w',\n",
       " '//cdn.shopify.com/s/files/1/0773/5495/products/coffee1_900x.jpg?v=1611220472 900w',\n",
       " '//cdn.shopify.com/s/files/1/0773/5495/products/coffee1_1000x.jpg?v=1611220472 1000w',\n",
       " '//cdn.shopify.com/s/files/1/0773/5495/products/coffee1_1100x.jpg?v=1611220472 1100w',\n",
       " '//cdn.shopify.com/s/files/1/0773/5495/products/coffee1_1200x.jpg?v=1611220472 1200w']"
      ]
     },
     "execution_count": 24,
     "metadata": {},
     "output_type": "execute_result"
    }
   ],
   "source": [
    "tab = image.split(', ')\n",
    "tab\n"
   ]
  },
  {
   "cell_type": "code",
   "execution_count": null,
   "id": "5b91f116",
   "metadata": {},
   "outputs": [],
   "source": []
  },
  {
   "cell_type": "code",
   "execution_count": null,
   "id": "e3decb60",
   "metadata": {},
   "outputs": [],
   "source": []
  },
  {
   "cell_type": "code",
   "execution_count": null,
   "id": "6e982ce4",
   "metadata": {},
   "outputs": [],
   "source": []
  },
  {
   "cell_type": "code",
   "execution_count": null,
   "id": "60dde6a6",
   "metadata": {},
   "outputs": [],
   "source": []
  },
  {
   "cell_type": "code",
   "execution_count": 18,
   "id": "d55ed9ea",
   "metadata": {},
   "outputs": [
    {
     "data": {
      "text/plain": [
       "'httpshttps:: //cdn.shopify.com/s/files/1/0773/5495/products/coffee1_400x.jpg?v=1611220472 400w, //cdn.shopify.com/s/files/1/0773/5495/products/coffee1_500x.jpg?v=1611220472 500w, //cdn.shopify.com/s/files/1/0773/5495/products/coffee1_600x.jpg?v=1611220472 600w, //cdn.shopify.com/s/files/1/0773/5495/products/coffee1_700x.jpg?v=1611220472 700w, //cdn.shopify.com/s/files/1/0773/5495/products/coffee1_800x.jpg?v=1611220472 800w, //cdn.shopify.com/s/files/1/0773/5495/products/coffee1_900x.jpg?v=1611220472 900w, //cdn.shopify.com/s/files/1/0773/5495/products/coffee1_1000x.jpg?v=1611220472 1000w, //cdn.shopify.com/s/files/1/0773/5495/products/coffee1_1100x.jpg?v=1611220472 1100w, //cdn.shopify.com/s/files/1/0773/5495/products/coffee1_1200x.jpg?v=1611220472 1200w'"
      ]
     },
     "execution_count": 18,
     "metadata": {},
     "output_type": "execute_result"
    }
   ],
   "source": [
    "image"
   ]
  },
  {
   "cell_type": "code",
   "execution_count": null,
   "id": "12b96eac",
   "metadata": {},
   "outputs": [],
   "source": []
  },
  {
   "cell_type": "code",
   "execution_count": null,
   "id": "01989d84",
   "metadata": {},
   "outputs": [],
   "source": []
  },
  {
   "cell_type": "code",
   "execution_count": null,
   "id": "1850bdbd",
   "metadata": {},
   "outputs": [],
   "source": []
  },
  {
   "cell_type": "code",
   "execution_count": null,
   "id": "c1061dee",
   "metadata": {},
   "outputs": [],
   "source": []
  },
  {
   "cell_type": "code",
   "execution_count": null,
   "id": "aa699793",
   "metadata": {},
   "outputs": [],
   "source": []
  },
  {
   "cell_type": "code",
   "execution_count": null,
   "id": "3e9b7d9f",
   "metadata": {},
   "outputs": [],
   "source": []
  },
  {
   "cell_type": "code",
   "execution_count": null,
   "id": "aa6df0a6",
   "metadata": {},
   "outputs": [],
   "source": []
  },
  {
   "cell_type": "code",
   "execution_count": null,
   "id": "8898b8a5",
   "metadata": {},
   "outputs": [],
   "source": []
  },
  {
   "cell_type": "code",
   "execution_count": null,
   "id": "a21283ca",
   "metadata": {},
   "outputs": [],
   "source": []
  },
  {
   "cell_type": "code",
   "execution_count": null,
   "id": "60972fba",
   "metadata": {},
   "outputs": [],
   "source": []
  },
  {
   "cell_type": "code",
   "execution_count": null,
   "id": "60ca9538",
   "metadata": {},
   "outputs": [],
   "source": []
  },
  {
   "cell_type": "code",
   "execution_count": null,
   "id": "3565bc5b",
   "metadata": {},
   "outputs": [],
   "source": []
  },
  {
   "cell_type": "code",
   "execution_count": null,
   "id": "beeed655",
   "metadata": {},
   "outputs": [],
   "source": []
  },
  {
   "cell_type": "code",
   "execution_count": null,
   "id": "093feaa2",
   "metadata": {},
   "outputs": [],
   "source": []
  },
  {
   "cell_type": "code",
   "execution_count": null,
   "id": "f0ca5dd9",
   "metadata": {},
   "outputs": [],
   "source": []
  },
  {
   "cell_type": "code",
   "execution_count": null,
   "id": "74942fa7",
   "metadata": {},
   "outputs": [],
   "source": []
  },
  {
   "cell_type": "code",
   "execution_count": null,
   "id": "dc344e1c",
   "metadata": {},
   "outputs": [],
   "source": []
  },
  {
   "cell_type": "code",
   "execution_count": null,
   "id": "d47b5c13",
   "metadata": {},
   "outputs": [],
   "source": []
  },
  {
   "cell_type": "code",
   "execution_count": null,
   "id": "c4df1940",
   "metadata": {},
   "outputs": [],
   "source": []
  },
  {
   "cell_type": "code",
   "execution_count": null,
   "id": "425723ed",
   "metadata": {},
   "outputs": [],
   "source": []
  },
  {
   "cell_type": "code",
   "execution_count": null,
   "id": "6be401c9",
   "metadata": {},
   "outputs": [],
   "source": []
  },
  {
   "cell_type": "code",
   "execution_count": null,
   "id": "72a16941",
   "metadata": {},
   "outputs": [],
   "source": []
  },
  {
   "cell_type": "code",
   "execution_count": null,
   "id": "48b6258b",
   "metadata": {},
   "outputs": [],
   "source": []
  },
  {
   "cell_type": "code",
   "execution_count": null,
   "id": "7f904c23",
   "metadata": {},
   "outputs": [],
   "source": []
  },
  {
   "cell_type": "code",
   "execution_count": null,
   "id": "d5214192",
   "metadata": {},
   "outputs": [],
   "source": []
  },
  {
   "cell_type": "code",
   "execution_count": null,
   "id": "547e9af4",
   "metadata": {},
   "outputs": [],
   "source": []
  },
  {
   "cell_type": "code",
   "execution_count": 3,
   "id": "1a467aee",
   "metadata": {},
   "outputs": [],
   "source": [
    "driver.get(f'https://www.alrugaibfurniture.com/collections/coffee-tables?page=1')"
   ]
  },
  {
   "cell_type": "code",
   "execution_count": 19,
   "id": "b94a6cc0",
   "metadata": {},
   "outputs": [
    {
     "name": "stdout",
     "output_type": "stream",
     "text": [
      "24\n"
     ]
    }
   ],
   "source": [
    "products = driver.find_elements_by_class_name('product-item__image-wrapper')\n",
    "print(len(products))"
   ]
  },
  {
   "cell_type": "code",
   "execution_count": 20,
   "id": "a242c719",
   "metadata": {},
   "outputs": [],
   "source": [
    "driver.get(products[0].get_attribute('href'))"
   ]
  },
  {
   "cell_type": "code",
   "execution_count": 57,
   "id": "9317c232",
   "metadata": {},
   "outputs": [
    {
     "data": {
      "text/plain": [
       "2"
      ]
     },
     "execution_count": 57,
     "metadata": {},
     "output_type": "execute_result"
    }
   ],
   "source": [
    "\n",
    "images = driver.find_elements_by_class_name('product-gallery__image ')\n",
    "\n",
    "for img in images:\n",
    "    print('https:'+img.get_attribute('data-srcset').split(' ')[0])\n",
    "len(images)"
   ]
  },
  {
   "cell_type": "code",
   "execution_count": 67,
   "id": "c75981ad",
   "metadata": {},
   "outputs": [
    {
     "data": {
      "text/plain": [
       "'T743-0'"
      ]
     },
     "execution_count": 67,
     "metadata": {},
     "output_type": "execute_result"
    }
   ],
   "source": [
    "sku = driver.find_element_by_class_name('product-meta__sku').text.replace('SKU: ', '')\n",
    "sku"
   ]
  },
  {
   "cell_type": "code",
   "execution_count": 69,
   "id": "6eca3675",
   "metadata": {},
   "outputs": [
    {
     "data": {
      "text/plain": [
       "'Realyn Oval Cocktail Table'"
      ]
     },
     "execution_count": 69,
     "metadata": {},
     "output_type": "execute_result"
    }
   ],
   "source": [
    "title = driver.find_element_by_class_name('product-meta__title').text\n",
    "title"
   ]
  },
  {
   "cell_type": "code",
   "execution_count": 79,
   "id": "23e9e4e6",
   "metadata": {},
   "outputs": [],
   "source": [
    "prices = driver.find_elements_by_class_name('money')\n",
    "\n",
    "\n",
    "#price = prices[0].text.replace(' SAR', '')\n",
    "price_old = prices[1].text.replace(' SAR', '')"
   ]
  },
  {
   "cell_type": "code",
   "execution_count": 86,
   "id": "de86121f",
   "metadata": {},
   "outputs": [
    {
     "data": {
      "text/plain": [
       "5"
      ]
     },
     "execution_count": 86,
     "metadata": {},
     "output_type": "execute_result"
    }
   ],
   "source": [
    "descriptions = driver.find_elements_by_class_name('card__section')\n",
    "len(descriptions)"
   ]
  },
  {
   "cell_type": "code",
   "execution_count": null,
   "id": "c3fa1537",
   "metadata": {},
   "outputs": [],
   "source": []
  },
  {
   "cell_type": "code",
   "execution_count": null,
   "id": "60feaf32",
   "metadata": {},
   "outputs": [],
   "source": []
  },
  {
   "cell_type": "code",
   "execution_count": 87,
   "id": "5a15bbbf",
   "metadata": {},
   "outputs": [
    {
     "name": "stdout",
     "output_type": "stream",
     "text": [
      "\n",
      "Realyn Oval Cocktail Table\n",
      "Save 19%\n",
      "ASHLEY HOMESTORESKU: T743-0\n",
      "Price:\n",
      "1,710.81 SAR 2,111.07 SAR\n",
      "Quantity:\n",
      "1\n",
      "2\n",
      "3\n",
      "4\n",
      "5\n",
      "6\n",
      "7\n",
      "8\n",
      "9\n",
      "10+\n",
      "Add to wishlist\n",
      "Add to cart\n",
      "Master Item Number:\n",
      "T743-0\n",
      "Description:\n",
      "Oval Cocktail Table\n",
      "Series:\n",
      "T743 Realyn\n",
      "Colors:\n",
      "White/Brown\n",
      "Dimensions (Confirmed):\n",
      "Inches: 48.13\" W x 34\" D x 19.88\" H\n",
      "Metric: 1222.5mm W x 863.6mm D x 504.95mm H\n",
      "More Dimensions:\n",
      "View more\n",
      "Customer Reviews\n",
      "No reviews yet\n",
      "Write a review\n",
      "Your payment information is processed securely. We do not store credit card details nor have access to your credit card information.\n"
     ]
    }
   ],
   "source": [
    "for des in descriptions:\n",
    "    print(des.text)"
   ]
  },
  {
   "cell_type": "code",
   "execution_count": 104,
   "id": "12901c0c",
   "metadata": {},
   "outputs": [
    {
     "data": {
      "text/plain": [
       "'Master Item Number:\\nT743-0\\nDescription:\\nOval Cocktail Table\\nSeries:\\nT743 Realyn\\nColors:\\nWhite/Brown\\nDimensions (Confirmed):\\nInches: 48.13\" W x 34\" D x 19.88\" H\\nMetric: 1222.5mm W x 863.6mm D x 504.95mm H\\nMore Dimensions:\\nOpening: 43.25\" W x 31.13\" D x 12.5\" H\\nCarton:\\nInches: 52.88\" W x 36.63\" D x 6.88\" H\\nMetric: 1343.15mm W x 930.4mm D x 174.75mm H\\nExpress Shipped:\\nInches: 52.88\" W x 36.63\" D x 6.88\" H\\nMetric: 1343.15mm W x 930.4mm D x 174.75mm H\\nWeight (lbs/kgs):\\n65 / 29.48\\nView less'"
      ]
     },
     "execution_count": 104,
     "metadata": {},
     "output_type": "execute_result"
    }
   ],
   "source": [
    "description_list = descriptions[2].text.split('/n')[0]\n",
    "description_list1 = description_list.split('\\n')\n",
    "Master_Item_Number = description_list1[description_list1.index('Master Item Number:')+1]\n",
    "Description = description_list1[description_list1.index('Description:')+1]\n",
    "Series = description_list1[description_list1.index('Series:')+1]\n",
    "Colors = description_list1[description_list1.index('Colors:')+1]\n",
    "Dimensions= description_list1[description_list1.index('Dimensions (Confirmed):')+1]\n",
    "description_list"
   ]
  },
  {
   "cell_type": "code",
   "execution_count": null,
   "id": "22ae275f",
   "metadata": {},
   "outputs": [],
   "source": []
  },
  {
   "cell_type": "code",
   "execution_count": null,
   "id": "30b71c1b",
   "metadata": {},
   "outputs": [],
   "source": []
  },
  {
   "cell_type": "code",
   "execution_count": null,
   "id": "204ec3c7",
   "metadata": {},
   "outputs": [],
   "source": []
  },
  {
   "cell_type": "code",
   "execution_count": 105,
   "id": "2f1eb34d",
   "metadata": {},
   "outputs": [
    {
     "data": {
      "text/plain": [
       "['Master Item Number:',\n",
       " 'T743-0',\n",
       " 'Description:',\n",
       " 'Oval Cocktail Table',\n",
       " 'Series:',\n",
       " 'T743 Realyn',\n",
       " 'Colors:',\n",
       " 'White/Brown',\n",
       " 'Dimensions (Confirmed):',\n",
       " 'Inches: 48.13\" W x 34\" D x 19.88\" H',\n",
       " 'Metric: 1222.5mm W x 863.6mm D x 504.95mm H',\n",
       " 'More Dimensions:',\n",
       " 'Opening: 43.25\" W x 31.13\" D x 12.5\" H',\n",
       " 'Carton:',\n",
       " 'Inches: 52.88\" W x 36.63\" D x 6.88\" H',\n",
       " 'Metric: 1343.15mm W x 930.4mm D x 174.75mm H',\n",
       " 'Express Shipped:',\n",
       " 'Inches: 52.88\" W x 36.63\" D x 6.88\" H',\n",
       " 'Metric: 1343.15mm W x 930.4mm D x 174.75mm H',\n",
       " 'Weight (lbs/kgs):',\n",
       " '65 / 29.48',\n",
       " 'View less']"
      ]
     },
     "execution_count": 105,
     "metadata": {},
     "output_type": "execute_result"
    }
   ],
   "source": [
    "description_list1 = description_list.split('\\n')\n",
    "description_list1"
   ]
  },
  {
   "cell_type": "code",
   "execution_count": null,
   "id": "67e0a448",
   "metadata": {},
   "outputs": [],
   "source": []
  },
  {
   "cell_type": "code",
   "execution_count": 106,
   "id": "7be38b87",
   "metadata": {},
   "outputs": [
    {
     "data": {
      "text/plain": [
       "'T743-0'"
      ]
     },
     "execution_count": 106,
     "metadata": {},
     "output_type": "execute_result"
    }
   ],
   "source": [
    "Master_Item_Number = description_list1[description_list1.index('Master Item Number:')+1]\n",
    "Master_Item_Number"
   ]
  },
  {
   "cell_type": "code",
   "execution_count": 107,
   "id": "ec32eccf",
   "metadata": {},
   "outputs": [
    {
     "data": {
      "text/plain": [
       "'Oval Cocktail Table'"
      ]
     },
     "execution_count": 107,
     "metadata": {},
     "output_type": "execute_result"
    }
   ],
   "source": [
    "Description = description_list1[description_list1.index('Description:')+1]\n",
    "Description"
   ]
  },
  {
   "cell_type": "code",
   "execution_count": 109,
   "id": "8b452e04",
   "metadata": {},
   "outputs": [
    {
     "data": {
      "text/plain": [
       "'T743 Realyn'"
      ]
     },
     "execution_count": 109,
     "metadata": {},
     "output_type": "execute_result"
    }
   ],
   "source": [
    "Series = description_list1[description_list1.index('Series:')+1]\n",
    "Series"
   ]
  },
  {
   "cell_type": "code",
   "execution_count": 110,
   "id": "248600fc",
   "metadata": {},
   "outputs": [
    {
     "data": {
      "text/plain": [
       "'White/Brown'"
      ]
     },
     "execution_count": 110,
     "metadata": {},
     "output_type": "execute_result"
    }
   ],
   "source": [
    "Colors = description_list1[description_list1.index('Colors:')+1]\n",
    "Colors"
   ]
  },
  {
   "cell_type": "code",
   "execution_count": 111,
   "id": "513bedef",
   "metadata": {},
   "outputs": [
    {
     "data": {
      "text/plain": [
       "'Inches: 48.13\" W x 34\" D x 19.88\" H'"
      ]
     },
     "execution_count": 111,
     "metadata": {},
     "output_type": "execute_result"
    }
   ],
   "source": [
    "Dimensions= description_list1[description_list1.index('Dimensions (Confirmed):')+1]\n",
    "Dimensions"
   ]
  },
  {
   "cell_type": "code",
   "execution_count": null,
   "id": "6e4c06a4",
   "metadata": {},
   "outputs": [],
   "source": []
  },
  {
   "cell_type": "code",
   "execution_count": null,
   "id": "61414fa8",
   "metadata": {},
   "outputs": [],
   "source": []
  },
  {
   "cell_type": "code",
   "execution_count": null,
   "id": "2516a8b3",
   "metadata": {},
   "outputs": [],
   "source": []
  },
  {
   "cell_type": "code",
   "execution_count": null,
   "id": "8c7b2f45",
   "metadata": {},
   "outputs": [],
   "source": []
  },
  {
   "cell_type": "code",
   "execution_count": null,
   "id": "cf68fac7",
   "metadata": {},
   "outputs": [],
   "source": []
  },
  {
   "cell_type": "code",
   "execution_count": 100,
   "id": "2525e58d",
   "metadata": {},
   "outputs": [
    {
     "data": {
      "text/plain": [
       "0"
      ]
     },
     "execution_count": 100,
     "metadata": {},
     "output_type": "execute_result"
    }
   ],
   "source": [
    "description_list1.index('Master Item Number:')"
   ]
  },
  {
   "cell_type": "code",
   "execution_count": null,
   "id": "4d2e37c8",
   "metadata": {},
   "outputs": [],
   "source": []
  },
  {
   "cell_type": "code",
   "execution_count": null,
   "id": "7a3013f2",
   "metadata": {},
   "outputs": [],
   "source": []
  },
  {
   "cell_type": "code",
   "execution_count": null,
   "id": "d197b342",
   "metadata": {},
   "outputs": [],
   "source": []
  },
  {
   "cell_type": "code",
   "execution_count": null,
   "id": "11a1014e",
   "metadata": {},
   "outputs": [],
   "source": []
  },
  {
   "cell_type": "code",
   "execution_count": null,
   "id": "246b7c68",
   "metadata": {},
   "outputs": [],
   "source": []
  },
  {
   "cell_type": "code",
   "execution_count": null,
   "id": "bd10e9eb",
   "metadata": {},
   "outputs": [],
   "source": []
  },
  {
   "cell_type": "code",
   "execution_count": null,
   "id": "9cb9cd18",
   "metadata": {},
   "outputs": [],
   "source": []
  },
  {
   "cell_type": "code",
   "execution_count": null,
   "id": "a8b9f6db",
   "metadata": {},
   "outputs": [],
   "source": []
  },
  {
   "cell_type": "code",
   "execution_count": null,
   "id": "142799b2",
   "metadata": {},
   "outputs": [],
   "source": []
  },
  {
   "cell_type": "code",
   "execution_count": null,
   "id": "150f9b77",
   "metadata": {},
   "outputs": [],
   "source": []
  },
  {
   "cell_type": "code",
   "execution_count": null,
   "id": "82a4f316",
   "metadata": {},
   "outputs": [],
   "source": []
  },
  {
   "cell_type": "code",
   "execution_count": null,
   "id": "c881ebdd",
   "metadata": {},
   "outputs": [],
   "source": []
  },
  {
   "cell_type": "code",
   "execution_count": null,
   "id": "10f04942",
   "metadata": {},
   "outputs": [],
   "source": []
  },
  {
   "cell_type": "code",
   "execution_count": null,
   "id": "763362f4",
   "metadata": {},
   "outputs": [],
   "source": []
  },
  {
   "cell_type": "code",
   "execution_count": 80,
   "id": "8943649c",
   "metadata": {},
   "outputs": [
    {
     "data": {
      "text/plain": [
       "'2,111.07'"
      ]
     },
     "execution_count": 80,
     "metadata": {},
     "output_type": "execute_result"
    }
   ],
   "source": [
    "#price \n",
    "price_old"
   ]
  },
  {
   "cell_type": "code",
   "execution_count": null,
   "id": "9b915cbe",
   "metadata": {},
   "outputs": [],
   "source": []
  },
  {
   "cell_type": "code",
   "execution_count": null,
   "id": "08f18ee7",
   "metadata": {},
   "outputs": [],
   "source": []
  },
  {
   "cell_type": "code",
   "execution_count": null,
   "id": "0c099258",
   "metadata": {},
   "outputs": [],
   "source": []
  },
  {
   "cell_type": "code",
   "execution_count": null,
   "id": "f2761f46",
   "metadata": {},
   "outputs": [],
   "source": []
  },
  {
   "cell_type": "code",
   "execution_count": null,
   "id": "f6ac8aec",
   "metadata": {},
   "outputs": [],
   "source": []
  },
  {
   "cell_type": "code",
   "execution_count": null,
   "id": "e8a88a0e",
   "metadata": {},
   "outputs": [],
   "source": []
  },
  {
   "cell_type": "code",
   "execution_count": null,
   "id": "8988232b",
   "metadata": {},
   "outputs": [],
   "source": []
  },
  {
   "cell_type": "code",
   "execution_count": null,
   "id": "51ce26ae",
   "metadata": {},
   "outputs": [],
   "source": []
  },
  {
   "cell_type": "code",
   "execution_count": null,
   "id": "0be2bea3",
   "metadata": {},
   "outputs": [],
   "source": []
  },
  {
   "cell_type": "code",
   "execution_count": null,
   "id": "407f1e27",
   "metadata": {},
   "outputs": [],
   "source": []
  },
  {
   "cell_type": "code",
   "execution_count": null,
   "id": "c565356d",
   "metadata": {},
   "outputs": [],
   "source": []
  },
  {
   "cell_type": "code",
   "execution_count": null,
   "id": "a1302d6a",
   "metadata": {},
   "outputs": [],
   "source": []
  },
  {
   "cell_type": "code",
   "execution_count": null,
   "id": "780849e0",
   "metadata": {},
   "outputs": [],
   "source": []
  },
  {
   "cell_type": "code",
   "execution_count": null,
   "id": "559df172",
   "metadata": {},
   "outputs": [],
   "source": []
  },
  {
   "cell_type": "code",
   "execution_count": null,
   "id": "de9784ae",
   "metadata": {},
   "outputs": [],
   "source": []
  },
  {
   "cell_type": "code",
   "execution_count": null,
   "id": "8c54a738",
   "metadata": {},
   "outputs": [],
   "source": []
  },
  {
   "cell_type": "code",
   "execution_count": null,
   "id": "eb54f72a",
   "metadata": {},
   "outputs": [],
   "source": []
  },
  {
   "cell_type": "code",
   "execution_count": 64,
   "id": "e79a93e1",
   "metadata": {},
   "outputs": [
    {
     "name": "stdout",
     "output_type": "stream",
     "text": [
      "https://cdn.shopify.com/s/files/1/0773/5495/products/540801_1_400x.jpg?v=1602201517\n",
      "https://cdn.shopify.com/s/files/1/0773/5495/products/540801_7_400x.jpg?v=1602201518\n"
     ]
    }
   ],
   "source": []
  },
  {
   "cell_type": "code",
   "execution_count": null,
   "id": "e539793d",
   "metadata": {},
   "outputs": [],
   "source": []
  },
  {
   "cell_type": "code",
   "execution_count": null,
   "id": "1fe1d8ff",
   "metadata": {},
   "outputs": [],
   "source": []
  },
  {
   "cell_type": "code",
   "execution_count": null,
   "id": "25b38901",
   "metadata": {},
   "outputs": [],
   "source": []
  },
  {
   "cell_type": "code",
   "execution_count": null,
   "id": "9479fade",
   "metadata": {},
   "outputs": [],
   "source": []
  },
  {
   "cell_type": "code",
   "execution_count": null,
   "id": "36b8198c",
   "metadata": {},
   "outputs": [],
   "source": []
  },
  {
   "cell_type": "code",
   "execution_count": null,
   "id": "2c329fa5",
   "metadata": {},
   "outputs": [],
   "source": []
  },
  {
   "cell_type": "code",
   "execution_count": null,
   "id": "90f1cb8f",
   "metadata": {},
   "outputs": [],
   "source": []
  },
  {
   "cell_type": "code",
   "execution_count": null,
   "id": "5276741a",
   "metadata": {},
   "outputs": [],
   "source": []
  },
  {
   "cell_type": "code",
   "execution_count": null,
   "id": "d6c14f47",
   "metadata": {},
   "outputs": [],
   "source": []
  },
  {
   "cell_type": "code",
   "execution_count": null,
   "id": "8052ff85",
   "metadata": {},
   "outputs": [],
   "source": []
  },
  {
   "cell_type": "code",
   "execution_count": null,
   "id": "a741a9a2",
   "metadata": {},
   "outputs": [],
   "source": []
  },
  {
   "cell_type": "code",
   "execution_count": null,
   "id": "b0d2c758",
   "metadata": {},
   "outputs": [],
   "source": []
  },
  {
   "cell_type": "code",
   "execution_count": null,
   "id": "79bc9574",
   "metadata": {},
   "outputs": [],
   "source": []
  },
  {
   "cell_type": "code",
   "execution_count": null,
   "id": "2143e803",
   "metadata": {},
   "outputs": [],
   "source": []
  },
  {
   "cell_type": "code",
   "execution_count": null,
   "id": "7c22eef4",
   "metadata": {},
   "outputs": [],
   "source": []
  },
  {
   "cell_type": "code",
   "execution_count": null,
   "id": "0be23331",
   "metadata": {},
   "outputs": [],
   "source": []
  },
  {
   "cell_type": "code",
   "execution_count": null,
   "id": "43a0e625",
   "metadata": {},
   "outputs": [],
   "source": []
  },
  {
   "cell_type": "code",
   "execution_count": null,
   "id": "9749e1dc",
   "metadata": {},
   "outputs": [],
   "source": []
  },
  {
   "cell_type": "code",
   "execution_count": null,
   "id": "8d1e5858",
   "metadata": {},
   "outputs": [],
   "source": []
  },
  {
   "cell_type": "code",
   "execution_count": null,
   "id": "53ce9ec6",
   "metadata": {},
   "outputs": [],
   "source": []
  },
  {
   "cell_type": "code",
   "execution_count": null,
   "id": "5e281f83",
   "metadata": {},
   "outputs": [],
   "source": []
  },
  {
   "cell_type": "code",
   "execution_count": null,
   "id": "b9bbd396",
   "metadata": {},
   "outputs": [],
   "source": []
  },
  {
   "cell_type": "code",
   "execution_count": null,
   "id": "aa9ac683",
   "metadata": {},
   "outputs": [],
   "source": []
  },
  {
   "cell_type": "code",
   "execution_count": null,
   "id": "8f2674a7",
   "metadata": {},
   "outputs": [],
   "source": []
  },
  {
   "cell_type": "code",
   "execution_count": null,
   "id": "8555b4b5",
   "metadata": {},
   "outputs": [],
   "source": []
  },
  {
   "cell_type": "code",
   "execution_count": null,
   "id": "d53a04a7",
   "metadata": {},
   "outputs": [],
   "source": []
  },
  {
   "cell_type": "code",
   "execution_count": 29,
   "id": "af4bbd53",
   "metadata": {},
   "outputs": [
    {
     "data": {
      "text/plain": [
       "117"
      ]
     },
     "execution_count": 29,
     "metadata": {},
     "output_type": "execute_result"
    }
   ],
   "source": [
    "len(images)"
   ]
  },
  {
   "cell_type": "code",
   "execution_count": null,
   "id": "6173b144",
   "metadata": {},
   "outputs": [],
   "source": []
  },
  {
   "cell_type": "code",
   "execution_count": null,
   "id": "f709aace",
   "metadata": {},
   "outputs": [],
   "source": []
  },
  {
   "cell_type": "code",
   "execution_count": null,
   "id": "20e13f85",
   "metadata": {},
   "outputs": [],
   "source": []
  },
  {
   "cell_type": "code",
   "execution_count": null,
   "id": "c3a4d2a5",
   "metadata": {},
   "outputs": [],
   "source": []
  },
  {
   "cell_type": "code",
   "execution_count": 22,
   "id": "06f60a1a",
   "metadata": {},
   "outputs": [
    {
     "data": {
      "text/plain": [
       "2"
      ]
     },
     "execution_count": 22,
     "metadata": {},
     "output_type": "execute_result"
    }
   ],
   "source": [
    "len(images)"
   ]
  },
  {
   "cell_type": "code",
   "execution_count": 23,
   "id": "f1f949d8",
   "metadata": {},
   "outputs": [
    {
     "name": "stdout",
     "output_type": "stream",
     "text": [
      "https://cdn.shopify.com/s/files/1/0773/5495/products/540801_1_60x.jpg?v=1602201517\n",
      "https://cdn.shopify.com/s/files/1/0773/5495/products/540801_7_60x.jpg?v=1602201518\n"
     ]
    }
   ],
   "source": [
    "for img in images:\n",
    "    print(img.get_attribute('src'))"
   ]
  },
  {
   "cell_type": "code",
   "execution_count": null,
   "id": "67d9dda6",
   "metadata": {},
   "outputs": [],
   "source": []
  },
  {
   "cell_type": "code",
   "execution_count": null,
   "id": "39f5ac4d",
   "metadata": {},
   "outputs": [],
   "source": []
  },
  {
   "cell_type": "code",
   "execution_count": null,
   "id": "56de4721",
   "metadata": {},
   "outputs": [],
   "source": []
  },
  {
   "cell_type": "code",
   "execution_count": null,
   "id": "809ada81",
   "metadata": {},
   "outputs": [],
   "source": []
  },
  {
   "cell_type": "code",
   "execution_count": null,
   "id": "4336bdba",
   "metadata": {},
   "outputs": [],
   "source": []
  },
  {
   "cell_type": "code",
   "execution_count": null,
   "id": "8cffd72b",
   "metadata": {},
   "outputs": [],
   "source": []
  },
  {
   "cell_type": "code",
   "execution_count": null,
   "id": "97438dc6",
   "metadata": {},
   "outputs": [],
   "source": []
  },
  {
   "cell_type": "code",
   "execution_count": 18,
   "id": "421a7339",
   "metadata": {},
   "outputs": [
    {
     "name": "stdout",
     "output_type": "stream",
     "text": [
      "https://www.alrugaibfurniture.com/collections/coffee-tables/products/realyn-oval-cocktail-table?lshst=collection\n",
      "https://www.alrugaibfurniture.com/collections/coffee-tables/products/watson-rectangular-cocktail-table?lshst=collection\n",
      "https://www.alrugaibfurniture.com/collections/coffee-tables/products/coylin-square-cocktail-table?lshst=collection\n",
      "https://www.alrugaibfurniture.com/collections/coffee-tables/products/sociables?lshst=collection\n",
      "https://www.alrugaibfurniture.com/collections/coffee-tables/products/stainless-steel-glass-coffee-table-silver-kd?lshst=collection\n",
      "https://www.alrugaibfurniture.com/collections/coffee-tables/products/coralayne-silver-finish-oval-cocktail-table?lshst=collection\n",
      "https://www.alrugaibfurniture.com/collections/coffee-tables/products/wesling-rectangular-coctail-table?lshst=collection\n",
      "https://www.alrugaibfurniture.com/collections/coffee-tables/products/kisper-cocktail-table?lshst=collection\n",
      "https://www.alrugaibfurniture.com/collections/coffee-tables/products/terzo-white-marble-coffee-table?lshst=collection\n",
      "https://www.alrugaibfurniture.com/collections/coffee-tables/products/johnelle-coffee-table?lshst=collection\n",
      "https://www.alrugaibfurniture.com/collections/coffee-tables/products/henzler-coffee-table?lshst=collection\n",
      "https://www.alrugaibfurniture.com/collections/coffee-tables/products/provenance-round-cocktail-table-linen?lshst=collection\n",
      "https://www.alrugaibfurniture.com/collections/coffee-tables/products/havalance-cocktail-table?lshst=collection\n",
      "https://www.alrugaibfurniture.com/collections/coffee-tables/products/socialite?lshst=collection\n",
      "https://www.alrugaibfurniture.com/collections/coffee-tables/products/richard-marble-cocktail-table?lshst=collection\n",
      "https://www.alrugaibfurniture.com/collections/coffee-tables/products/gemma-black-marble-coffee-table?lshst=collection\n",
      "https://www.alrugaibfurniture.com/collections/coffee-tables/products/tempo-marble-cocktail-table?lshst=collection\n",
      "https://www.alrugaibfurniture.com/collections/coffee-tables/products/haroflyn-square-cocktail-table?lshst=collection\n",
      "https://www.alrugaibfurniture.com/collections/coffee-tables/products/volker-coffee-table?lshst=collection\n",
      "https://www.alrugaibfurniture.com/collections/coffee-tables/products/cocktail-couture?lshst=collection\n",
      "https://www.alrugaibfurniture.com/collections/coffee-tables/products/gately-lift-top-cocktail-table?lshst=collection\n",
      "https://www.alrugaibfurniture.com/collections/coffee-tables/products/taja-coffee-table?lshst=collection\n",
      "https://www.alrugaibfurniture.com/collections/coffee-tables/products/catali-coffee-table?lshst=collection\n",
      "https://www.alrugaibfurniture.com/collections/coffee-tables/products/borlofield-ottoman-cocktail-table?lshst=collection\n"
     ]
    }
   ],
   "source": [
    "for pro in products:\n",
    "    print(pro.get_attribute('href'))"
   ]
  },
  {
   "cell_type": "code",
   "execution_count": null,
   "id": "cb952115",
   "metadata": {},
   "outputs": [],
   "source": []
  },
  {
   "cell_type": "code",
   "execution_count": 17,
   "id": "e61fef2c",
   "metadata": {},
   "outputs": [
    {
     "data": {
      "text/plain": [
       "['https://www.alrugaibfurniture.com/collections/coffee-tables/products/realyn-oval-cocktail-table?lshst=collection',\n",
       " 'https://www.alrugaibfurniture.com/collections/coffee-tables/products/watson-rectangular-cocktail-table?lshst=collection',\n",
       " 'https://www.alrugaibfurniture.com/collections/coffee-tables/products/coylin-square-cocktail-table?lshst=collection',\n",
       " 'https://www.alrugaibfurniture.com/collections/coffee-tables/products/sociables?lshst=collection',\n",
       " 'https://www.alrugaibfurniture.com/collections/coffee-tables/products/stainless-steel-glass-coffee-table-silver-kd?lshst=collection',\n",
       " 'https://www.alrugaibfurniture.com/collections/coffee-tables/products/coralayne-silver-finish-oval-cocktail-table?lshst=collection',\n",
       " 'https://www.alrugaibfurniture.com/collections/coffee-tables/products/wesling-rectangular-coctail-table?lshst=collection',\n",
       " 'https://www.alrugaibfurniture.com/collections/coffee-tables/products/kisper-cocktail-table?lshst=collection',\n",
       " 'https://www.alrugaibfurniture.com/collections/coffee-tables/products/terzo-white-marble-coffee-table?lshst=collection',\n",
       " 'https://www.alrugaibfurniture.com/collections/coffee-tables/products/johnelle-coffee-table?lshst=collection',\n",
       " 'https://www.alrugaibfurniture.com/collections/coffee-tables/products/henzler-coffee-table?lshst=collection',\n",
       " 'https://www.alrugaibfurniture.com/collections/coffee-tables/products/provenance-round-cocktail-table-linen?lshst=collection',\n",
       " 'https://www.alrugaibfurniture.com/collections/coffee-tables/products/havalance-cocktail-table?lshst=collection',\n",
       " 'https://www.alrugaibfurniture.com/collections/coffee-tables/products/socialite?lshst=collection',\n",
       " 'https://www.alrugaibfurniture.com/collections/coffee-tables/products/richard-marble-cocktail-table?lshst=collection',\n",
       " 'https://www.alrugaibfurniture.com/collections/coffee-tables/products/gemma-black-marble-coffee-table?lshst=collection',\n",
       " 'https://www.alrugaibfurniture.com/collections/coffee-tables/products/tempo-marble-cocktail-table?lshst=collection',\n",
       " 'https://www.alrugaibfurniture.com/collections/coffee-tables/products/haroflyn-square-cocktail-table?lshst=collection',\n",
       " 'https://www.alrugaibfurniture.com/collections/coffee-tables/products/volker-coffee-table?lshst=collection',\n",
       " 'https://www.alrugaibfurniture.com/collections/coffee-tables/products/cocktail-couture?lshst=collection',\n",
       " 'https://www.alrugaibfurniture.com/collections/coffee-tables/products/gately-lift-top-cocktail-table?lshst=collection',\n",
       " 'https://www.alrugaibfurniture.com/collections/coffee-tables/products/taja-coffee-table?lshst=collection',\n",
       " 'https://www.alrugaibfurniture.com/collections/coffee-tables/products/catali-coffee-table?lshst=collection',\n",
       " 'https://www.alrugaibfurniture.com/collections/coffee-tables/products/borlofield-ottoman-cocktail-table?lshst=collection']"
      ]
     },
     "execution_count": 17,
     "metadata": {},
     "output_type": "execute_result"
    }
   ],
   "source": [
    "[pro.get_attribute('href') for pro in products ]"
   ]
  },
  {
   "cell_type": "code",
   "execution_count": null,
   "id": "74c74565",
   "metadata": {},
   "outputs": [],
   "source": []
  },
  {
   "cell_type": "code",
   "execution_count": null,
   "id": "05a69b61",
   "metadata": {},
   "outputs": [],
   "source": []
  },
  {
   "cell_type": "code",
   "execution_count": null,
   "id": "f607b0b1",
   "metadata": {},
   "outputs": [],
   "source": []
  },
  {
   "cell_type": "code",
   "execution_count": 13,
   "id": "f8c17279",
   "metadata": {},
   "outputs": [],
   "source": [
    "products[0].get_attribute('href')\n"
   ]
  },
  {
   "cell_type": "code",
   "execution_count": null,
   "id": "88135bcb",
   "metadata": {},
   "outputs": [],
   "source": []
  },
  {
   "cell_type": "code",
   "execution_count": null,
   "id": "fee5acab",
   "metadata": {},
   "outputs": [],
   "source": []
  },
  {
   "cell_type": "code",
   "execution_count": null,
   "id": "c578d937",
   "metadata": {},
   "outputs": [],
   "source": []
  },
  {
   "cell_type": "code",
   "execution_count": null,
   "id": "f397bf97",
   "metadata": {},
   "outputs": [],
   "source": []
  },
  {
   "cell_type": "code",
   "execution_count": null,
   "id": "f917293f",
   "metadata": {},
   "outputs": [],
   "source": []
  },
  {
   "cell_type": "code",
   "execution_count": null,
   "id": "916ac2f2",
   "metadata": {},
   "outputs": [],
   "source": []
  },
  {
   "cell_type": "code",
   "execution_count": null,
   "id": "7f7049a1",
   "metadata": {},
   "outputs": [],
   "source": []
  },
  {
   "cell_type": "code",
   "execution_count": null,
   "id": "49745982",
   "metadata": {},
   "outputs": [],
   "source": []
  },
  {
   "cell_type": "code",
   "execution_count": null,
   "id": "49f4372a",
   "metadata": {},
   "outputs": [],
   "source": []
  },
  {
   "cell_type": "code",
   "execution_count": null,
   "id": "e9eb60dd",
   "metadata": {},
   "outputs": [],
   "source": []
  }
 ],
 "metadata": {
  "kernelspec": {
   "display_name": "Python 3",
   "language": "python",
   "name": "python3"
  },
  "language_info": {
   "codemirror_mode": {
    "name": "ipython",
    "version": 3
   },
   "file_extension": ".py",
   "mimetype": "text/x-python",
   "name": "python",
   "nbconvert_exporter": "python",
   "pygments_lexer": "ipython3",
   "version": "3.8.8"
  }
 },
 "nbformat": 4,
 "nbformat_minor": 5
}
