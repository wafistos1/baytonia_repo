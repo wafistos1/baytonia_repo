{
 "cells": [
  {
   "cell_type": "code",
   "execution_count": 5,
   "id": "798d9d0b",
   "metadata": {},
   "outputs": [],
   "source": [
    "#imports here\n",
    "from selenium import webdriver\n",
    "from selenium.webdriver.common.keys import Keys\n",
    "from selenium.webdriver.support import expected_conditions as EC\n",
    "from selenium.webdriver.common.by import By\n",
    "from selenium.webdriver.support.wait import WebDriverWait\n",
    "from selenium.webdriver.firefox.options import Options\n",
    "import time\n",
    "import os\n",
    "from fake_useragent import UserAgent\n",
    "from random import randint\n",
    "import pandas as pd\n",
    "import re\n",
    "import numpy as np"
   ]
  },
  {
   "cell_type": "code",
   "execution_count": 467,
   "id": "cba5e9aa",
   "metadata": {},
   "outputs": [],
   "source": [
    "df1 = pd.read_excel('living-rooms.xlsx')\n",
    "df2= pd.read_excel('living-rooms2.xlsx')\n",
    "df3 = pd.read_excel('living-rooms3.xlsx')\n",
    "df4 = pd.read_excel('living-rooms5.xlsx')"
   ]
  },
  {
   "cell_type": "code",
   "execution_count": 468,
   "id": "44f149f7",
   "metadata": {},
   "outputs": [],
   "source": [
    "df = pd.concat([df1, df2], ignore_index=True)\n",
    "df = pd.concat([df, df3], ignore_index=True)\n",
    "df = pd.concat([df, df4], ignore_index=True)\n"
   ]
  },
  {
   "cell_type": "code",
   "execution_count": 486,
   "id": "a416dd2f",
   "metadata": {},
   "outputs": [
    {
     "ename": "FileNotFoundError",
     "evalue": "[Errno 2] No such file or directory: 'all_accessoires_update6.xlsx'",
     "output_type": "error",
     "traceback": [
      "\u001b[0;31m---------------------------------------------------------------------------\u001b[0m",
      "\u001b[0;31mFileNotFoundError\u001b[0m                         Traceback (most recent call last)",
      "\u001b[0;32m<ipython-input-486-afbe8ba61181>\u001b[0m in \u001b[0;36m<module>\u001b[0;34m\u001b[0m\n\u001b[0;32m----> 1\u001b[0;31m \u001b[0mdf\u001b[0m \u001b[0;34m=\u001b[0m \u001b[0mpd\u001b[0m\u001b[0;34m.\u001b[0m\u001b[0mread_excel\u001b[0m\u001b[0;34m(\u001b[0m\u001b[0;34m'all_accessoires_update6.xlsx'\u001b[0m\u001b[0;34m)\u001b[0m\u001b[0;34m\u001b[0m\u001b[0;34m\u001b[0m\u001b[0m\n\u001b[0m",
      "\u001b[0;32m~/anaconda3/lib/python3.8/site-packages/pandas/util/_decorators.py\u001b[0m in \u001b[0;36mwrapper\u001b[0;34m(*args, **kwargs)\u001b[0m\n\u001b[1;32m    297\u001b[0m                 )\n\u001b[1;32m    298\u001b[0m                 \u001b[0mwarnings\u001b[0m\u001b[0;34m.\u001b[0m\u001b[0mwarn\u001b[0m\u001b[0;34m(\u001b[0m\u001b[0mmsg\u001b[0m\u001b[0;34m,\u001b[0m \u001b[0mFutureWarning\u001b[0m\u001b[0;34m,\u001b[0m \u001b[0mstacklevel\u001b[0m\u001b[0;34m=\u001b[0m\u001b[0mstacklevel\u001b[0m\u001b[0;34m)\u001b[0m\u001b[0;34m\u001b[0m\u001b[0;34m\u001b[0m\u001b[0m\n\u001b[0;32m--> 299\u001b[0;31m             \u001b[0;32mreturn\u001b[0m \u001b[0mfunc\u001b[0m\u001b[0;34m(\u001b[0m\u001b[0;34m*\u001b[0m\u001b[0margs\u001b[0m\u001b[0;34m,\u001b[0m \u001b[0;34m**\u001b[0m\u001b[0mkwargs\u001b[0m\u001b[0;34m)\u001b[0m\u001b[0;34m\u001b[0m\u001b[0;34m\u001b[0m\u001b[0m\n\u001b[0m\u001b[1;32m    300\u001b[0m \u001b[0;34m\u001b[0m\u001b[0m\n\u001b[1;32m    301\u001b[0m         \u001b[0;32mreturn\u001b[0m \u001b[0mwrapper\u001b[0m\u001b[0;34m\u001b[0m\u001b[0;34m\u001b[0m\u001b[0m\n",
      "\u001b[0;32m~/anaconda3/lib/python3.8/site-packages/pandas/io/excel/_base.py\u001b[0m in \u001b[0;36mread_excel\u001b[0;34m(io, sheet_name, header, names, index_col, usecols, squeeze, dtype, engine, converters, true_values, false_values, skiprows, nrows, na_values, keep_default_na, na_filter, verbose, parse_dates, date_parser, thousands, comment, skipfooter, convert_float, mangle_dupe_cols, storage_options)\u001b[0m\n\u001b[1;32m    334\u001b[0m     \u001b[0;32mif\u001b[0m \u001b[0;32mnot\u001b[0m \u001b[0misinstance\u001b[0m\u001b[0;34m(\u001b[0m\u001b[0mio\u001b[0m\u001b[0;34m,\u001b[0m \u001b[0mExcelFile\u001b[0m\u001b[0;34m)\u001b[0m\u001b[0;34m:\u001b[0m\u001b[0;34m\u001b[0m\u001b[0;34m\u001b[0m\u001b[0m\n\u001b[1;32m    335\u001b[0m         \u001b[0mshould_close\u001b[0m \u001b[0;34m=\u001b[0m \u001b[0;32mTrue\u001b[0m\u001b[0;34m\u001b[0m\u001b[0;34m\u001b[0m\u001b[0m\n\u001b[0;32m--> 336\u001b[0;31m         \u001b[0mio\u001b[0m \u001b[0;34m=\u001b[0m \u001b[0mExcelFile\u001b[0m\u001b[0;34m(\u001b[0m\u001b[0mio\u001b[0m\u001b[0;34m,\u001b[0m \u001b[0mstorage_options\u001b[0m\u001b[0;34m=\u001b[0m\u001b[0mstorage_options\u001b[0m\u001b[0;34m,\u001b[0m \u001b[0mengine\u001b[0m\u001b[0;34m=\u001b[0m\u001b[0mengine\u001b[0m\u001b[0;34m)\u001b[0m\u001b[0;34m\u001b[0m\u001b[0;34m\u001b[0m\u001b[0m\n\u001b[0m\u001b[1;32m    337\u001b[0m     \u001b[0;32melif\u001b[0m \u001b[0mengine\u001b[0m \u001b[0;32mand\u001b[0m \u001b[0mengine\u001b[0m \u001b[0;34m!=\u001b[0m \u001b[0mio\u001b[0m\u001b[0;34m.\u001b[0m\u001b[0mengine\u001b[0m\u001b[0;34m:\u001b[0m\u001b[0;34m\u001b[0m\u001b[0;34m\u001b[0m\u001b[0m\n\u001b[1;32m    338\u001b[0m         raise ValueError(\n",
      "\u001b[0;32m~/anaconda3/lib/python3.8/site-packages/pandas/io/excel/_base.py\u001b[0m in \u001b[0;36m__init__\u001b[0;34m(self, path_or_buffer, engine, storage_options)\u001b[0m\n\u001b[1;32m   1069\u001b[0m                 \u001b[0mext\u001b[0m \u001b[0;34m=\u001b[0m \u001b[0;34m\"xls\"\u001b[0m\u001b[0;34m\u001b[0m\u001b[0;34m\u001b[0m\u001b[0m\n\u001b[1;32m   1070\u001b[0m             \u001b[0;32melse\u001b[0m\u001b[0;34m:\u001b[0m\u001b[0;34m\u001b[0m\u001b[0;34m\u001b[0m\u001b[0m\n\u001b[0;32m-> 1071\u001b[0;31m                 ext = inspect_excel_format(\n\u001b[0m\u001b[1;32m   1072\u001b[0m                     \u001b[0mcontent\u001b[0m\u001b[0;34m=\u001b[0m\u001b[0mpath_or_buffer\u001b[0m\u001b[0;34m,\u001b[0m \u001b[0mstorage_options\u001b[0m\u001b[0;34m=\u001b[0m\u001b[0mstorage_options\u001b[0m\u001b[0;34m\u001b[0m\u001b[0;34m\u001b[0m\u001b[0m\n\u001b[1;32m   1073\u001b[0m                 )\n",
      "\u001b[0;32m~/anaconda3/lib/python3.8/site-packages/pandas/io/excel/_base.py\u001b[0m in \u001b[0;36minspect_excel_format\u001b[0;34m(path, content, storage_options)\u001b[0m\n\u001b[1;32m    947\u001b[0m     \u001b[0;32massert\u001b[0m \u001b[0mcontent_or_path\u001b[0m \u001b[0;32mis\u001b[0m \u001b[0;32mnot\u001b[0m \u001b[0;32mNone\u001b[0m\u001b[0;34m\u001b[0m\u001b[0;34m\u001b[0m\u001b[0m\n\u001b[1;32m    948\u001b[0m \u001b[0;34m\u001b[0m\u001b[0m\n\u001b[0;32m--> 949\u001b[0;31m     with get_handle(\n\u001b[0m\u001b[1;32m    950\u001b[0m         \u001b[0mcontent_or_path\u001b[0m\u001b[0;34m,\u001b[0m \u001b[0;34m\"rb\"\u001b[0m\u001b[0;34m,\u001b[0m \u001b[0mstorage_options\u001b[0m\u001b[0;34m=\u001b[0m\u001b[0mstorage_options\u001b[0m\u001b[0;34m,\u001b[0m \u001b[0mis_text\u001b[0m\u001b[0;34m=\u001b[0m\u001b[0;32mFalse\u001b[0m\u001b[0;34m\u001b[0m\u001b[0;34m\u001b[0m\u001b[0m\n\u001b[1;32m    951\u001b[0m     ) as handle:\n",
      "\u001b[0;32m~/anaconda3/lib/python3.8/site-packages/pandas/io/common.py\u001b[0m in \u001b[0;36mget_handle\u001b[0;34m(path_or_buf, mode, encoding, compression, memory_map, is_text, errors, storage_options)\u001b[0m\n\u001b[1;32m    649\u001b[0m         \u001b[0;32melse\u001b[0m\u001b[0;34m:\u001b[0m\u001b[0;34m\u001b[0m\u001b[0;34m\u001b[0m\u001b[0m\n\u001b[1;32m    650\u001b[0m             \u001b[0;31m# Binary mode\u001b[0m\u001b[0;34m\u001b[0m\u001b[0;34m\u001b[0m\u001b[0;34m\u001b[0m\u001b[0m\n\u001b[0;32m--> 651\u001b[0;31m             \u001b[0mhandle\u001b[0m \u001b[0;34m=\u001b[0m \u001b[0mopen\u001b[0m\u001b[0;34m(\u001b[0m\u001b[0mhandle\u001b[0m\u001b[0;34m,\u001b[0m \u001b[0mioargs\u001b[0m\u001b[0;34m.\u001b[0m\u001b[0mmode\u001b[0m\u001b[0;34m)\u001b[0m\u001b[0;34m\u001b[0m\u001b[0;34m\u001b[0m\u001b[0m\n\u001b[0m\u001b[1;32m    652\u001b[0m         \u001b[0mhandles\u001b[0m\u001b[0;34m.\u001b[0m\u001b[0mappend\u001b[0m\u001b[0;34m(\u001b[0m\u001b[0mhandle\u001b[0m\u001b[0;34m)\u001b[0m\u001b[0;34m\u001b[0m\u001b[0;34m\u001b[0m\u001b[0m\n\u001b[1;32m    653\u001b[0m \u001b[0;34m\u001b[0m\u001b[0m\n",
      "\u001b[0;31mFileNotFoundError\u001b[0m: [Errno 2] No such file or directory: 'all_accessoires_update6.xlsx'"
     ]
    }
   ],
   "source": [
    "df = pd.read_excel('all_accessoires_update6.xlsx')"
   ]
  },
  {
   "cell_type": "code",
   "execution_count": 10,
   "id": "9534579b",
   "metadata": {},
   "outputs": [
    {
     "ename": "NameError",
     "evalue": "name 'df_100' is not defined",
     "output_type": "error",
     "traceback": [
      "\u001b[0;31m---------------------------------------------------------------------------\u001b[0m",
      "\u001b[0;31mNameError\u001b[0m                                 Traceback (most recent call last)",
      "\u001b[0;32m<ipython-input-10-f9dfda07ba55>\u001b[0m in \u001b[0;36m<module>\u001b[0;34m\u001b[0m\n\u001b[0;32m----> 1\u001b[0;31m \u001b[0mdf_100\u001b[0m\u001b[0;34m.\u001b[0m\u001b[0mto_excel\u001b[0m\u001b[0;34m(\u001b[0m\u001b[0;34m'list_100_scrape_product.xlsx'\u001b[0m\u001b[0;34m)\u001b[0m\u001b[0;34m\u001b[0m\u001b[0;34m\u001b[0m\u001b[0m\n\u001b[0m",
      "\u001b[0;31mNameError\u001b[0m: name 'df_100' is not defined"
     ]
    }
   ],
   "source": [
    "df_100.to_excel('list_100_scrape_product.xlsx')"
   ]
  },
  {
   "cell_type": "code",
   "execution_count": 489,
   "id": "ce91d6a0",
   "metadata": {},
   "outputs": [
    {
     "data": {
      "text/plain": [
       "(3787, 30)"
      ]
     },
     "execution_count": 489,
     "metadata": {},
     "output_type": "execute_result"
    }
   ],
   "source": [
    "df.shape"
   ]
  },
  {
   "cell_type": "code",
   "execution_count": 269,
   "id": "e4342807",
   "metadata": {},
   "outputs": [],
   "source": [
    "df1 = pd.read_excel('accessoires_test1.xlsx')\n",
    "df2= pd.read_excel('accessoires_test2.xlsx')\n",
    "df3 = pd.read_excel('accessoires_test3.xlsx')\n",
    "\n"
   ]
  },
  {
   "cell_type": "code",
   "execution_count": 270,
   "id": "5c49ddec",
   "metadata": {},
   "outputs": [],
   "source": [
    "df = pd.concat([df1, df2], ignore_index=True)\n",
    "df = pd.concat([df, df3], ignore_index=True)"
   ]
  },
  {
   "cell_type": "code",
   "execution_count": 13,
   "id": "8fda93b7",
   "metadata": {},
   "outputs": [],
   "source": [
    "df_100 = pd.read_excel('/home/wafistos/Documents/Projects/scaping_wafi/scrapingalrugaibfurniture/sub_categories/products.xlsx')"
   ]
  },
  {
   "cell_type": "code",
   "execution_count": 14,
   "id": "0960d9d8",
   "metadata": {},
   "outputs": [
    {
     "data": {
      "text/plain": [
       "(97, 24)"
      ]
     },
     "execution_count": 14,
     "metadata": {},
     "output_type": "execute_result"
    }
   ],
   "source": [
    "df_100.shape"
   ]
  },
  {
   "cell_type": "code",
   "execution_count": null,
   "id": "f16ecbab",
   "metadata": {},
   "outputs": [],
   "source": []
  },
  {
   "cell_type": "code",
   "execution_count": 5,
   "id": "1d2a0f57",
   "metadata": {},
   "outputs": [
    {
     "data": {
      "text/plain": [
       "(97, 36)"
      ]
     },
     "execution_count": 5,
     "metadata": {},
     "output_type": "execute_result"
    }
   ],
   "source": [
    "df_100.shape"
   ]
  },
  {
   "cell_type": "code",
   "execution_count": null,
   "id": "ba265544",
   "metadata": {},
   "outputs": [],
   "source": []
  },
  {
   "cell_type": "code",
   "execution_count": 6,
   "id": "56626f62",
   "metadata": {
    "scrolled": true
   },
   "outputs": [
    {
     "data": {
      "text/plain": [
       "Index(['Unnamed: 0', 'Unnamed: 0.1', 'sku', 'is_in_stock', 'name', 'price',\n",
       "       'special_price', 'free_colors', 'short_description',\n",
       "       'ts_dimensions_width', 'ts_dimensions_height', 'ts_dimensions_length',\n",
       "       'mgs_brand', 'Images1', 'url_key', 'visibility', 'tax_class_name',\n",
       "       'manufacturer', 'news_from_date', 'news_to_date', 'Images2', 'link_url',\n",
       "       'categories1', 'categories2', 'categories3', 'short_description ',\n",
       "       'Unnamed: 7', 'estimated_delivery_enable', 'estimated_delivery_text',\n",
       "       'raw_materials', 'allow_backorders', 'out_of_stock_qty', 'qty',\n",
       "       'product_online', 'price1', 'url_find'],\n",
       "      dtype='object')"
      ]
     },
     "execution_count": 6,
     "metadata": {},
     "output_type": "execute_result"
    }
   ],
   "source": [
    "df_100.columns"
   ]
  },
  {
   "cell_type": "code",
   "execution_count": null,
   "id": "298a8b1f",
   "metadata": {},
   "outputs": [],
   "source": []
  },
  {
   "cell_type": "code",
   "execution_count": null,
   "id": "65a92bea",
   "metadata": {},
   "outputs": [],
   "source": []
  },
  {
   "cell_type": "code",
   "execution_count": null,
   "id": "7e16bef8",
   "metadata": {},
   "outputs": [],
   "source": []
  },
  {
   "cell_type": "code",
   "execution_count": null,
   "id": "74b8a306",
   "metadata": {},
   "outputs": [],
   "source": []
  },
  {
   "cell_type": "code",
   "execution_count": null,
   "id": "4fe68d91",
   "metadata": {},
   "outputs": [],
   "source": []
  },
  {
   "cell_type": "code",
   "execution_count": null,
   "id": "69434ab9",
   "metadata": {},
   "outputs": [],
   "source": []
  },
  {
   "cell_type": "code",
   "execution_count": null,
   "id": "339d8f69",
   "metadata": {},
   "outputs": [],
   "source": []
  },
  {
   "cell_type": "code",
   "execution_count": 272,
   "id": "f2931075",
   "metadata": {},
   "outputs": [],
   "source": [
    "df.rename(columns={'collection': 'mgs_brand', 'Width': 'ts_dimensions_width', 'Height': 'ts_dimensions_height', 'Length': 'ts_dimensions_length', 'free_colors': 'short_description', 'short_description': 'free_colors'}, inplace=True)"
   ]
  },
  {
   "cell_type": "code",
   "execution_count": 7,
   "id": "179d93fa",
   "metadata": {},
   "outputs": [],
   "source": [
    "df = df.loc[df['price'].str.contains(',', na=False, regex=False).str.replace(',', '')]"
   ]
  },
  {
   "cell_type": "code",
   "execution_count": null,
   "id": "cd261055",
   "metadata": {},
   "outputs": [],
   "source": [
    "df = df.loc[df['price'].str.contains(',', na=False, regex=False).str.replace(',', '')]"
   ]
  },
  {
   "cell_type": "code",
   "execution_count": 15,
   "id": "38ba3384",
   "metadata": {},
   "outputs": [
    {
     "data": {
      "text/plain": [
       "(97, 24)"
      ]
     },
     "execution_count": 15,
     "metadata": {},
     "output_type": "execute_result"
    }
   ],
   "source": [
    "df = df_100\n",
    "df.shape"
   ]
  },
  {
   "cell_type": "code",
   "execution_count": null,
   "id": "0ad8ebd6",
   "metadata": {},
   "outputs": [],
   "source": []
  },
  {
   "cell_type": "markdown",
   "id": "8d3952d6",
   "metadata": {},
   "source": [
    "# ADD Columns"
   ]
  },
  {
   "cell_type": "code",
   "execution_count": 16,
   "id": "58405006",
   "metadata": {},
   "outputs": [],
   "source": [
    "df['estimated_delivery_enable'] = 'Static Text'"
   ]
  },
  {
   "cell_type": "code",
   "execution_count": 17,
   "id": "758f931d",
   "metadata": {},
   "outputs": [],
   "source": [
    "df['estimated_delivery_text'] = 'الوقت المقدر لشحن هذا المنتج أسبوعين'"
   ]
  },
  {
   "cell_type": "code",
   "execution_count": 18,
   "id": "a457e05b",
   "metadata": {},
   "outputs": [],
   "source": [
    "df.rename(columns={'collection': 'mgs_brand', 'Width': 'ts_dimensions_width', 'Height': 'ts_dimensions_height', 'Length': 'ts_dimensions_length'}, inplace=True)"
   ]
  },
  {
   "cell_type": "code",
   "execution_count": 19,
   "id": "187c5f94",
   "metadata": {},
   "outputs": [],
   "source": [
    "df['raw_materials'] = ''"
   ]
  },
  {
   "cell_type": "code",
   "execution_count": 20,
   "id": "0138dee1",
   "metadata": {},
   "outputs": [],
   "source": [
    "df['allow_backorders'] = df['is_in_stock']"
   ]
  },
  {
   "cell_type": "code",
   "execution_count": 21,
   "id": "a5c74876",
   "metadata": {},
   "outputs": [],
   "source": [
    "df['out_of_stock_qty'] = -5"
   ]
  },
  {
   "cell_type": "code",
   "execution_count": 22,
   "id": "5da7e82b",
   "metadata": {},
   "outputs": [],
   "source": [
    "df['qty'] = 0"
   ]
  },
  {
   "cell_type": "code",
   "execution_count": 23,
   "id": "4d1560c5",
   "metadata": {},
   "outputs": [],
   "source": [
    "df['product_online'] = df['is_in_stock']"
   ]
  },
  {
   "cell_type": "code",
   "execution_count": 24,
   "id": "3eb8aa39",
   "metadata": {},
   "outputs": [],
   "source": [
    "df['free_colors'] = df['free_colors'].replace('', '__EMPTY__VALUE__')\n",
    "df['free_colors'] = df['free_colors'].replace(np.nan, '__EMPTY__VALUE__')"
   ]
  },
  {
   "cell_type": "code",
   "execution_count": 25,
   "id": "84974527",
   "metadata": {},
   "outputs": [],
   "source": [
    "df['raw_materials'] = df['raw_materials'].replace('', '__EMPTY__VALUE__')\n",
    "df['raw_materials'] = df['raw_materials'].replace(np.nan, '__EMPTY__VALUE__')"
   ]
  },
  {
   "cell_type": "code",
   "execution_count": 26,
   "id": "0266be1a",
   "metadata": {},
   "outputs": [],
   "source": [
    "df['url_key'] = df['url_key'].str.replace(', ', '-')\n",
    "df['url_key'] = df['url_key'].str.replace('/', '-')\n",
    "df['url_key'] = df['url_key'].str.replace('\"', '-')\n",
    "df['url_key'] = df['url_key'].str.replace('%', '-')\n",
    "df['url_key'] = df['url_key'].str.replace('+', '-', regex=False)"
   ]
  },
  {
   "cell_type": "code",
   "execution_count": 27,
   "id": "52838603",
   "metadata": {},
   "outputs": [],
   "source": [
    "df['price'] = df['price'].str.replace(',', '')\n",
    "\n",
    "df['special_price'] = df['special_price'].str.replace(',', '')\n"
   ]
  },
  {
   "cell_type": "code",
   "execution_count": 28,
   "id": "04c97852",
   "metadata": {},
   "outputs": [],
   "source": [
    "df.rename(columns = {'collection': 'mgs_brand'} ,inplace = True)"
   ]
  },
  {
   "cell_type": "code",
   "execution_count": 29,
   "id": "fe347201",
   "metadata": {},
   "outputs": [],
   "source": [
    "df[\"special_price\"] = pd.to_numeric(df[\"special_price\"])\n",
    "df[\"price\"] = pd.to_numeric(df[\"price\"])"
   ]
  },
  {
   "cell_type": "code",
   "execution_count": null,
   "id": "1983022e",
   "metadata": {},
   "outputs": [],
   "source": []
  },
  {
   "cell_type": "code",
   "execution_count": 427,
   "id": "aa4eb709",
   "metadata": {},
   "outputs": [],
   "source": [
    "df_acc = pd.read_excel('all_100product.xlsx')"
   ]
  },
  {
   "cell_type": "markdown",
   "id": "f0ae8f24",
   "metadata": {},
   "source": [
    "## AND columns"
   ]
  },
  {
   "cell_type": "markdown",
   "id": "9779d4bb",
   "metadata": {},
   "source": [
    "## add categories3 columns"
   ]
  },
  {
   "cell_type": "code",
   "execution_count": 36,
   "id": "0a600997",
   "metadata": {},
   "outputs": [],
   "source": [
    "link_cat1 = pd.read_excel('/home/wafistos/Documents/Projects/scaping_wafi/scrapingalrugaibfurniture/sub_categories/link_categories.xlsx')\n",
    "link_cat2 = pd.read_excel('/home/wafistos/Documents/Projects/scaping_wafi/scrapingalrugaibfurniture/sub_categories/link_categories1.xlsx')"
   ]
  },
  {
   "cell_type": "code",
   "execution_count": 47,
   "id": "da8ccf95",
   "metadata": {},
   "outputs": [
    {
     "data": {
      "text/plain": [
       "Index(['Unnamed: 0', 'listes', 'categories3'], dtype='object')"
      ]
     },
     "execution_count": 47,
     "metadata": {},
     "output_type": "execute_result"
    }
   ],
   "source": [
    "link_cat1.columns"
   ]
  },
  {
   "cell_type": "code",
   "execution_count": 37,
   "id": "460bed27",
   "metadata": {},
   "outputs": [
    {
     "data": {
      "text/plain": [
       "(3141, 3)"
      ]
     },
     "execution_count": 37,
     "metadata": {},
     "output_type": "execute_result"
    }
   ],
   "source": [
    "link_cat2.shape"
   ]
  },
  {
   "cell_type": "code",
   "execution_count": 40,
   "id": "58774a18",
   "metadata": {},
   "outputs": [],
   "source": [
    "link_cat1 = pd.concat([link_cat1, link_cat2], ignore_index=True)\n"
   ]
  },
  {
   "cell_type": "code",
   "execution_count": 46,
   "id": "8cec4018",
   "metadata": {},
   "outputs": [],
   "source": [
    "link_cat1.to_excel('all_link_categories3.xlsx')"
   ]
  },
  {
   "cell_type": "code",
   "execution_count": 76,
   "id": "beaaa46e",
   "metadata": {},
   "outputs": [],
   "source": [
    "listes_all_product1 = []\n",
    "for index, row in link_cat1.iterrows():\n",
    "    listes_all_product1.append([row['categories3'], row['listes']])\n",
    "    "
   ]
  },
  {
   "cell_type": "code",
   "execution_count": 104,
   "id": "b5afdac2",
   "metadata": {},
   "outputs": [
    {
     "ename": "SyntaxError",
     "evalue": "unexpected EOF while parsing (<ipython-input-104-e65b380c7836>, line 7)",
     "output_type": "error",
     "traceback": [
      "\u001b[0;36m  File \u001b[0;32m\"<ipython-input-104-e65b380c7836>\"\u001b[0;36m, line \u001b[0;32m7\u001b[0m\n\u001b[0;31m    \u001b[0m\n\u001b[0m    ^\u001b[0m\n\u001b[0;31mSyntaxError\u001b[0m\u001b[0;31m:\u001b[0m unexpected EOF while parsing\n"
     ]
    }
   ],
   "source": [
    "list_clean_all_product = []\n",
    "for toto in listes_all_product1[:100]:\n",
    "#     toti = toto[1].split('/')\n",
    "#     print(len(toti))\n",
    "#     toti = toto[1].split('/')[-1]  \n",
    "#     toto[1] = toti.split('?')[0]\n",
    "    "
   ]
  },
  {
   "cell_type": "code",
   "execution_count": null,
   "id": "5ce805b5",
   "metadata": {},
   "outputs": [],
   "source": []
  },
  {
   "cell_type": "code",
   "execution_count": null,
   "id": "6978e88d",
   "metadata": {},
   "outputs": [],
   "source": []
  },
  {
   "cell_type": "code",
   "execution_count": 94,
   "id": "13fb3ecb",
   "metadata": {},
   "outputs": [
    {
     "data": {
      "text/plain": [
       "9578"
      ]
     },
     "execution_count": 94,
     "metadata": {},
     "output_type": "execute_result"
    }
   ],
   "source": [
    "len(listes_all_product)"
   ]
  },
  {
   "cell_type": "code",
   "execution_count": 96,
   "id": "087a126e",
   "metadata": {},
   "outputs": [],
   "source": [
    "df_toto = pd.read_excel('/home/wafistos/Documents/Projects/scaping_wafi/scrapingalrugaibfurniture/all_update_06_27_2021_7.xlsx')"
   ]
  },
  {
   "cell_type": "code",
   "execution_count": null,
   "id": "c27e54e0",
   "metadata": {},
   "outputs": [],
   "source": []
  },
  {
   "cell_type": "code",
   "execution_count": 107,
   "id": "8978d09f",
   "metadata": {},
   "outputs": [],
   "source": [
    "for toto in listes_all_product:\n",
    "    df_toto.loc[df_toto['url_clean'] == toto[1], 'categories3'] = toto[0]\n",
    "    "
   ]
  },
  {
   "cell_type": "code",
   "execution_count": 105,
   "id": "69a57780",
   "metadata": {},
   "outputs": [],
   "source": [
    "df_toto[['url1', 'url2', 'url3', 'url4', 'url5', 'url6', 'url7', 'url8' ]] = df_toto['link_url'].str.split('/', expand=True)"
   ]
  },
  {
   "cell_type": "code",
   "execution_count": 106,
   "id": "67a804a7",
   "metadata": {},
   "outputs": [],
   "source": [
    "df_toto[['url_clean', 'extra']] = df_toto['url8'].str.split('?', expand=True)"
   ]
  },
  {
   "cell_type": "code",
   "execution_count": 108,
   "id": "80a660d7",
   "metadata": {},
   "outputs": [
    {
     "data": {
      "text/plain": [
       "0           كنب طاولة\n",
       "1       خزائن وصناديق\n",
       "2                 كنب\n",
       "3           كنب طاولة\n",
       "4                 كنب\n",
       "            ...      \n",
       "9475      خزانة الكتب\n",
       "9476      خزانة الكتب\n",
       "9477      خزانة الكتب\n",
       "9478      خزانة الكتب\n",
       "9479      خزانة الكتب\n",
       "Name: categories3, Length: 9480, dtype: object"
      ]
     },
     "execution_count": 108,
     "metadata": {},
     "output_type": "execute_result"
    }
   ],
   "source": [
    "df_toto['categories3']"
   ]
  },
  {
   "cell_type": "code",
   "execution_count": null,
   "id": "0f35ad3e",
   "metadata": {},
   "outputs": [],
   "source": []
  },
  {
   "cell_type": "code",
   "execution_count": 87,
   "id": "64aba876",
   "metadata": {},
   "outputs": [
    {
     "data": {
      "text/plain": [
       "'حامل شمعة'"
      ]
     },
     "execution_count": 87,
     "metadata": {},
     "output_type": "execute_result"
    }
   ],
   "source": [
    "listes_all_product[0][0]"
   ]
  },
  {
   "cell_type": "code",
   "execution_count": 109,
   "id": "69aa165e",
   "metadata": {},
   "outputs": [],
   "source": [
    "df_toto.to_excel('clean_all_product.xlsx')"
   ]
  },
  {
   "cell_type": "code",
   "execution_count": 92,
   "id": "c7ce88dd",
   "metadata": {},
   "outputs": [],
   "source": [
    "df_100['price1'] = df_100['price'] * 0.9"
   ]
  },
  {
   "cell_type": "code",
   "execution_count": null,
   "id": "16e0b901",
   "metadata": {},
   "outputs": [],
   "source": []
  },
  {
   "cell_type": "code",
   "execution_count": null,
   "id": "de669ff6",
   "metadata": {},
   "outputs": [],
   "source": []
  },
  {
   "cell_type": "code",
   "execution_count": null,
   "id": "fc5d402f",
   "metadata": {},
   "outputs": [],
   "source": []
  },
  {
   "cell_type": "code",
   "execution_count": null,
   "id": "2e8f64d8",
   "metadata": {},
   "outputs": [],
   "source": []
  },
  {
   "cell_type": "code",
   "execution_count": null,
   "id": "3ba84972",
   "metadata": {},
   "outputs": [],
   "source": []
  },
  {
   "cell_type": "code",
   "execution_count": null,
   "id": "38bb6eee",
   "metadata": {},
   "outputs": [],
   "source": []
  },
  {
   "cell_type": "code",
   "execution_count": null,
   "id": "8e8739f5",
   "metadata": {},
   "outputs": [],
   "source": []
  },
  {
   "cell_type": "code",
   "execution_count": null,
   "id": "8ad677ee",
   "metadata": {},
   "outputs": [],
   "source": []
  },
  {
   "cell_type": "code",
   "execution_count": null,
   "id": "2cbbc45e",
   "metadata": {},
   "outputs": [],
   "source": []
  },
  {
   "cell_type": "code",
   "execution_count": null,
   "id": "c6288863",
   "metadata": {},
   "outputs": [],
   "source": []
  },
  {
   "cell_type": "code",
   "execution_count": null,
   "id": "4d4c8c94",
   "metadata": {},
   "outputs": [],
   "source": []
  },
  {
   "cell_type": "code",
   "execution_count": null,
   "id": "973d576d",
   "metadata": {},
   "outputs": [],
   "source": []
  },
  {
   "cell_type": "code",
   "execution_count": null,
   "id": "f4307e9d",
   "metadata": {},
   "outputs": [],
   "source": []
  },
  {
   "cell_type": "code",
   "execution_count": 48,
   "id": "1a4c128d",
   "metadata": {},
   "outputs": [],
   "source": [
    "list_link_compare = link_cat1['listes'].to_list()"
   ]
  },
  {
   "cell_type": "code",
   "execution_count": 51,
   "id": "51ca2dda",
   "metadata": {},
   "outputs": [],
   "source": [
    "data_100_product = pd.read_excel('/home/wafistos/Documents/Projects/scaping_wafi/scrapingalrugaibfurniture/100_prod_clean.xlsx')"
   ]
  },
  {
   "cell_type": "code",
   "execution_count": null,
   "id": "39f05818",
   "metadata": {},
   "outputs": [],
   "source": [
    "for toto in "
   ]
  },
  {
   "cell_type": "code",
   "execution_count": null,
   "id": "652801f3",
   "metadata": {},
   "outputs": [],
   "source": []
  },
  {
   "cell_type": "code",
   "execution_count": 44,
   "id": "ad97ef64",
   "metadata": {},
   "outputs": [
    {
     "data": {
      "text/plain": [
       "0"
      ]
     },
     "execution_count": 44,
     "metadata": {},
     "output_type": "execute_result"
    }
   ],
   "source": [
    "link_cat1.duplicated(subset=['listes']).sum()"
   ]
  },
  {
   "cell_type": "code",
   "execution_count": null,
   "id": "48884839",
   "metadata": {},
   "outputs": [],
   "source": []
  },
  {
   "cell_type": "code",
   "execution_count": 374,
   "id": "31cd5bda",
   "metadata": {},
   "outputs": [
    {
     "data": {
      "text/plain": [
       "(1097, 30)"
      ]
     },
     "execution_count": 374,
     "metadata": {},
     "output_type": "execute_result"
    }
   ],
   "source": [
    "df_bed = pd.read_excel('all_bedrooms_update.xlsx')\n",
    "df_bed.shape"
   ]
  },
  {
   "cell_type": "code",
   "execution_count": 375,
   "id": "cbba4e0e",
   "metadata": {},
   "outputs": [
    {
     "data": {
      "text/plain": [
       "10"
      ]
     },
     "execution_count": 375,
     "metadata": {},
     "output_type": "execute_result"
    }
   ],
   "source": [
    "df_bed.duplicated(subset=['sku']).sum()"
   ]
  },
  {
   "cell_type": "code",
   "execution_count": 376,
   "id": "5b972143",
   "metadata": {},
   "outputs": [],
   "source": [
    "df_bed.drop_duplicates(subset=['sku'], inplace=True)"
   ]
  },
  {
   "cell_type": "code",
   "execution_count": 377,
   "id": "1ae594e9",
   "metadata": {},
   "outputs": [],
   "source": [
    "df_bed.to_excel('all_bedrooms_update1.xlsx', index=False)"
   ]
  },
  {
   "cell_type": "code",
   "execution_count": null,
   "id": "b8a2331c",
   "metadata": {},
   "outputs": [],
   "source": []
  },
  {
   "cell_type": "code",
   "execution_count": null,
   "id": "d060cbe4",
   "metadata": {},
   "outputs": [],
   "source": []
  },
  {
   "cell_type": "code",
   "execution_count": null,
   "id": "125659d5",
   "metadata": {},
   "outputs": [],
   "source": []
  },
  {
   "cell_type": "code",
   "execution_count": 387,
   "id": "ffd7b79d",
   "metadata": {},
   "outputs": [
    {
     "data": {
      "text/plain": [
       "(2008, 30)"
      ]
     },
     "execution_count": 387,
     "metadata": {},
     "output_type": "execute_result"
    }
   ],
   "source": [
    "df_liv = pd.read_excel('all_living_rooms.xlsx')\n",
    "df_liv.shape"
   ]
  },
  {
   "cell_type": "code",
   "execution_count": 389,
   "id": "9e1068a4",
   "metadata": {},
   "outputs": [],
   "source": [
    "df_liv.rename(columns={'free_colors': 'short_description', 'short_description': 'free_colors'}, inplace=True)"
   ]
  },
  {
   "cell_type": "code",
   "execution_count": 390,
   "id": "ccf55d2a",
   "metadata": {},
   "outputs": [
    {
     "data": {
      "text/plain": [
       "Index(['sku', 'is_in_stock', 'name', 'price', 'special_price', 'free_colors',\n",
       "       'short_description', 'Width', 'Height', 'Length', 'mgs_brand',\n",
       "       'Images1', 'url_key', 'visibility', 'tax_class_name', 'manufacturer',\n",
       "       'news_from_date', 'news_to_date', 'Images2', 'link_url', 'categories1',\n",
       "       'categories2', 'categories3', 'estimated_delivery_enable',\n",
       "       'estimated_delivery_text', 'raw_materials', 'allow_backorders',\n",
       "       'out_of_stock_qty', 'qty', 'product_online'],\n",
       "      dtype='object')"
      ]
     },
     "execution_count": 390,
     "metadata": {},
     "output_type": "execute_result"
    }
   ],
   "source": [
    "df_liv.columns\n"
   ]
  },
  {
   "cell_type": "code",
   "execution_count": 391,
   "id": "a1f92f61",
   "metadata": {},
   "outputs": [
    {
     "data": {
      "text/html": [
       "<div>\n",
       "<style scoped>\n",
       "    .dataframe tbody tr th:only-of-type {\n",
       "        vertical-align: middle;\n",
       "    }\n",
       "\n",
       "    .dataframe tbody tr th {\n",
       "        vertical-align: top;\n",
       "    }\n",
       "\n",
       "    .dataframe thead th {\n",
       "        text-align: right;\n",
       "    }\n",
       "</style>\n",
       "<table border=\"1\" class=\"dataframe\">\n",
       "  <thead>\n",
       "    <tr style=\"text-align: right;\">\n",
       "      <th></th>\n",
       "      <th>sku</th>\n",
       "      <th>is_in_stock</th>\n",
       "      <th>name</th>\n",
       "      <th>price</th>\n",
       "      <th>special_price</th>\n",
       "      <th>free_colors</th>\n",
       "      <th>short_description</th>\n",
       "      <th>Width</th>\n",
       "      <th>Height</th>\n",
       "      <th>Length</th>\n",
       "      <th>...</th>\n",
       "      <th>categories1</th>\n",
       "      <th>categories2</th>\n",
       "      <th>categories3</th>\n",
       "      <th>estimated_delivery_enable</th>\n",
       "      <th>estimated_delivery_text</th>\n",
       "      <th>raw_materials</th>\n",
       "      <th>allow_backorders</th>\n",
       "      <th>out_of_stock_qty</th>\n",
       "      <th>qty</th>\n",
       "      <th>product_online</th>\n",
       "    </tr>\n",
       "  </thead>\n",
       "  <tbody>\n",
       "    <tr>\n",
       "      <th>0</th>\n",
       "      <td>RAG-WHC00815</td>\n",
       "      <td>1</td>\n",
       "      <td>كنب مجزأ Agate</td>\n",
       "      <td>8452.50</td>\n",
       "      <td>NaN</td>\n",
       "      <td>__EMPTY__VALUE__</td>\n",
       "      <td>نتطلع إلى العودة إلى المنزل لهذه الأريكة متعدد...</td>\n",
       "      <td>NaN</td>\n",
       "      <td>NaN</td>\n",
       "      <td>NaN</td>\n",
       "      <td>...</td>\n",
       "      <td>المنزل</td>\n",
       "      <td>غرفة المعيشة</td>\n",
       "      <td>NaN</td>\n",
       "      <td>Static Text</td>\n",
       "      <td>الوقت المقدر لشحن هذا المنتج أسبوعين</td>\n",
       "      <td>__EMPTY__VALUE__</td>\n",
       "      <td>1</td>\n",
       "      <td>-5</td>\n",
       "      <td>0</td>\n",
       "      <td>1</td>\n",
       "    </tr>\n",
       "    <tr>\n",
       "      <th>1</th>\n",
       "      <td>RAG-T138-13</td>\n",
       "      <td>1</td>\n",
       "      <td>Frostine OCCASIONAL TABLE SET</td>\n",
       "      <td>1453.60</td>\n",
       "      <td>NaN</td>\n",
       "      <td>__EMPTY__VALUE__</td>\n",
       "      <td>Inches: 36.13” W x 36.13” D x 18.5” H 100/45.3...</td>\n",
       "      <td>0</td>\n",
       "      <td>0</td>\n",
       "      <td>0</td>\n",
       "      <td>...</td>\n",
       "      <td>المنزل</td>\n",
       "      <td>غرفة المعيشة</td>\n",
       "      <td>NaN</td>\n",
       "      <td>Static Text</td>\n",
       "      <td>الوقت المقدر لشحن هذا المنتج أسبوعين</td>\n",
       "      <td>__EMPTY__VALUE__</td>\n",
       "      <td>1</td>\n",
       "      <td>-5</td>\n",
       "      <td>0</td>\n",
       "      <td>1</td>\n",
       "    </tr>\n",
       "    <tr>\n",
       "      <th>2</th>\n",
       "      <td>RAG-T015-13</td>\n",
       "      <td>1</td>\n",
       "      <td>Madanere Occasional Table Set</td>\n",
       "      <td>1696.00</td>\n",
       "      <td>1879.35</td>\n",
       "      <td>Chrome Finish</td>\n",
       "      <td>__EMPTY__VALUE__</td>\n",
       "      <td>0</td>\n",
       "      <td>0</td>\n",
       "      <td>0</td>\n",
       "      <td>...</td>\n",
       "      <td>المنزل</td>\n",
       "      <td>غرفة المعيشة</td>\n",
       "      <td>NaN</td>\n",
       "      <td>Static Text</td>\n",
       "      <td>الوقت المقدر لشحن هذا المنتج أسبوعين</td>\n",
       "      <td>__EMPTY__VALUE__</td>\n",
       "      <td>1</td>\n",
       "      <td>-5</td>\n",
       "      <td>0</td>\n",
       "      <td>1</td>\n",
       "    </tr>\n",
       "    <tr>\n",
       "      <th>3</th>\n",
       "      <td>RAG-WHC00915</td>\n",
       "      <td>1</td>\n",
       "      <td>SECTIONAL [3-SEATER LEFT ARM + RIGHT CHAISE]</td>\n",
       "      <td>6175.50</td>\n",
       "      <td>NaN</td>\n",
       "      <td>__EMPTY__VALUE__</td>\n",
       "      <td>Look forward to coming home to this very versa...</td>\n",
       "      <td>NaN</td>\n",
       "      <td>NaN</td>\n",
       "      <td>NaN</td>\n",
       "      <td>...</td>\n",
       "      <td>المنزل</td>\n",
       "      <td>غرفة المعيشة</td>\n",
       "      <td>NaN</td>\n",
       "      <td>Static Text</td>\n",
       "      <td>الوقت المقدر لشحن هذا المنتج أسبوعين</td>\n",
       "      <td>__EMPTY__VALUE__</td>\n",
       "      <td>1</td>\n",
       "      <td>-5</td>\n",
       "      <td>0</td>\n",
       "      <td>1</td>\n",
       "    </tr>\n",
       "    <tr>\n",
       "      <th>4</th>\n",
       "      <td>RAG-T295-13</td>\n",
       "      <td>1</td>\n",
       "      <td>Occasional Table Set (3/CN)</td>\n",
       "      <td>1828.50</td>\n",
       "      <td>NaN</td>\n",
       "      <td>__EMPTY__VALUE__</td>\n",
       "      <td>__EMPTY__VALUE__</td>\n",
       "      <td>NaN</td>\n",
       "      <td>NaN</td>\n",
       "      <td>NaN</td>\n",
       "      <td>...</td>\n",
       "      <td>المنزل</td>\n",
       "      <td>غرفة المعيشة</td>\n",
       "      <td>NaN</td>\n",
       "      <td>Static Text</td>\n",
       "      <td>الوقت المقدر لشحن هذا المنتج أسبوعين</td>\n",
       "      <td>__EMPTY__VALUE__</td>\n",
       "      <td>1</td>\n",
       "      <td>-5</td>\n",
       "      <td>0</td>\n",
       "      <td>1</td>\n",
       "    </tr>\n",
       "    <tr>\n",
       "      <th>...</th>\n",
       "      <td>...</td>\n",
       "      <td>...</td>\n",
       "      <td>...</td>\n",
       "      <td>...</td>\n",
       "      <td>...</td>\n",
       "      <td>...</td>\n",
       "      <td>...</td>\n",
       "      <td>...</td>\n",
       "      <td>...</td>\n",
       "      <td>...</td>\n",
       "      <td>...</td>\n",
       "      <td>...</td>\n",
       "      <td>...</td>\n",
       "      <td>...</td>\n",
       "      <td>...</td>\n",
       "      <td>...</td>\n",
       "      <td>...</td>\n",
       "      <td>...</td>\n",
       "      <td>...</td>\n",
       "      <td>...</td>\n",
       "      <td>...</td>\n",
       "    </tr>\n",
       "    <tr>\n",
       "      <th>2003</th>\n",
       "      <td>RAG-23447-UTT</td>\n",
       "      <td>1</td>\n",
       "      <td>كرسي Delroy Armless ، كونياك ،</td>\n",
       "      <td>3760.50</td>\n",
       "      <td>NaN</td>\n",
       "      <td>__EMPTY__VALUE__</td>\n",
       "      <td>__EMPTY__VALUE__</td>\n",
       "      <td>NaN</td>\n",
       "      <td>0</td>\n",
       "      <td>0</td>\n",
       "      <td>...</td>\n",
       "      <td>المنزل</td>\n",
       "      <td>غرفة المعيشة</td>\n",
       "      <td>NaN</td>\n",
       "      <td>Static Text</td>\n",
       "      <td>الوقت المقدر لشحن هذا المنتج أسبوعين</td>\n",
       "      <td>__EMPTY__VALUE__</td>\n",
       "      <td>1</td>\n",
       "      <td>-5</td>\n",
       "      <td>0</td>\n",
       "      <td>1</td>\n",
       "    </tr>\n",
       "    <tr>\n",
       "      <th>2004</th>\n",
       "      <td>RAG-23443-UTT</td>\n",
       "      <td>1</td>\n",
       "      <td>Dariela Counter Stools</td>\n",
       "      <td>2984.25</td>\n",
       "      <td>NaN</td>\n",
       "      <td>__EMPTY__VALUE__</td>\n",
       "      <td>Sleek styling with a gently curved back, featu...</td>\n",
       "      <td>50.80</td>\n",
       "      <td>101.60</td>\n",
       "      <td>60.96</td>\n",
       "      <td>...</td>\n",
       "      <td>المنزل</td>\n",
       "      <td>غرفة المعيشة</td>\n",
       "      <td>NaN</td>\n",
       "      <td>Static Text</td>\n",
       "      <td>الوقت المقدر لشحن هذا المنتج أسبوعين</td>\n",
       "      <td>__EMPTY__VALUE__</td>\n",
       "      <td>1</td>\n",
       "      <td>-5</td>\n",
       "      <td>0</td>\n",
       "      <td>1</td>\n",
       "    </tr>\n",
       "    <tr>\n",
       "      <th>2005</th>\n",
       "      <td>RAG-23393-UTT</td>\n",
       "      <td>1</td>\n",
       "      <td>كراسي فارنر اللكنة</td>\n",
       "      <td>3634.00</td>\n",
       "      <td>NaN</td>\n",
       "      <td>__EMPTY__VALUE__</td>\n",
       "      <td>الأبعاد: 35 WX 32 HX 32 D (in)</td>\n",
       "      <td>NaN</td>\n",
       "      <td>0</td>\n",
       "      <td>0</td>\n",
       "      <td>...</td>\n",
       "      <td>المنزل</td>\n",
       "      <td>غرفة المعيشة</td>\n",
       "      <td>NaN</td>\n",
       "      <td>Static Text</td>\n",
       "      <td>الوقت المقدر لشحن هذا المنتج أسبوعين</td>\n",
       "      <td>__EMPTY__VALUE__</td>\n",
       "      <td>1</td>\n",
       "      <td>-5</td>\n",
       "      <td>0</td>\n",
       "      <td>1</td>\n",
       "    </tr>\n",
       "    <tr>\n",
       "      <th>2006</th>\n",
       "      <td>RAG-23430-UTT</td>\n",
       "      <td>1</td>\n",
       "      <td>Bijou Bench</td>\n",
       "      <td>3271.75</td>\n",
       "      <td>NaN</td>\n",
       "      <td>__EMPTY__VALUE__</td>\n",
       "      <td>Plush and comfortable button tufting in slate ...</td>\n",
       "      <td>121.92</td>\n",
       "      <td>50.80</td>\n",
       "      <td>40.64</td>\n",
       "      <td>...</td>\n",
       "      <td>المنزل</td>\n",
       "      <td>غرفة المعيشة</td>\n",
       "      <td>NaN</td>\n",
       "      <td>Static Text</td>\n",
       "      <td>الوقت المقدر لشحن هذا المنتج أسبوعين</td>\n",
       "      <td>__EMPTY__VALUE__</td>\n",
       "      <td>1</td>\n",
       "      <td>-5</td>\n",
       "      <td>0</td>\n",
       "      <td>1</td>\n",
       "    </tr>\n",
       "    <tr>\n",
       "      <th>2007</th>\n",
       "      <td>RAG-23426-UTT</td>\n",
       "      <td>1</td>\n",
       "      <td>Tilda Nesting Ottomanss, S/2</td>\n",
       "      <td>1362.75</td>\n",
       "      <td>NaN</td>\n",
       "      <td>__EMPTY__VALUE__</td>\n",
       "      <td>Pull out for extra seating, or tuck away for a...</td>\n",
       "      <td>48.26</td>\n",
       "      <td>48.26</td>\n",
       "      <td>48.26</td>\n",
       "      <td>...</td>\n",
       "      <td>المنزل</td>\n",
       "      <td>غرفة المعيشة</td>\n",
       "      <td>NaN</td>\n",
       "      <td>Static Text</td>\n",
       "      <td>الوقت المقدر لشحن هذا المنتج أسبوعين</td>\n",
       "      <td>__EMPTY__VALUE__</td>\n",
       "      <td>1</td>\n",
       "      <td>-5</td>\n",
       "      <td>0</td>\n",
       "      <td>1</td>\n",
       "    </tr>\n",
       "  </tbody>\n",
       "</table>\n",
       "<p>2008 rows × 30 columns</p>\n",
       "</div>"
      ],
      "text/plain": [
       "                sku  is_in_stock  \\\n",
       "0      RAG-WHC00815            1   \n",
       "1       RAG-T138-13            1   \n",
       "2       RAG-T015-13            1   \n",
       "3      RAG-WHC00915            1   \n",
       "4       RAG-T295-13            1   \n",
       "...             ...          ...   \n",
       "2003  RAG-23447-UTT            1   \n",
       "2004  RAG-23443-UTT            1   \n",
       "2005  RAG-23393-UTT            1   \n",
       "2006  RAG-23430-UTT            1   \n",
       "2007  RAG-23426-UTT            1   \n",
       "\n",
       "                                              name    price  special_price  \\\n",
       "0                                   كنب مجزأ Agate  8452.50            NaN   \n",
       "1                    Frostine OCCASIONAL TABLE SET  1453.60            NaN   \n",
       "2                    Madanere Occasional Table Set  1696.00        1879.35   \n",
       "3     SECTIONAL [3-SEATER LEFT ARM + RIGHT CHAISE]  6175.50            NaN   \n",
       "4                      Occasional Table Set (3/CN)  1828.50            NaN   \n",
       "...                                            ...      ...            ...   \n",
       "2003                كرسي Delroy Armless ، كونياك ،  3760.50            NaN   \n",
       "2004                        Dariela Counter Stools  2984.25            NaN   \n",
       "2005                            كراسي فارنر اللكنة  3634.00            NaN   \n",
       "2006                                   Bijou Bench  3271.75            NaN   \n",
       "2007                  Tilda Nesting Ottomanss, S/2  1362.75            NaN   \n",
       "\n",
       "           free_colors                                  short_description  \\\n",
       "0     __EMPTY__VALUE__  نتطلع إلى العودة إلى المنزل لهذه الأريكة متعدد...   \n",
       "1     __EMPTY__VALUE__  Inches: 36.13” W x 36.13” D x 18.5” H 100/45.3...   \n",
       "2        Chrome Finish                                   __EMPTY__VALUE__   \n",
       "3     __EMPTY__VALUE__  Look forward to coming home to this very versa...   \n",
       "4     __EMPTY__VALUE__                                   __EMPTY__VALUE__   \n",
       "...                ...                                                ...   \n",
       "2003  __EMPTY__VALUE__                                   __EMPTY__VALUE__   \n",
       "2004  __EMPTY__VALUE__  Sleek styling with a gently curved back, featu...   \n",
       "2005  __EMPTY__VALUE__                     الأبعاد: 35 WX 32 HX 32 D (in)   \n",
       "2006  __EMPTY__VALUE__  Plush and comfortable button tufting in slate ...   \n",
       "2007  __EMPTY__VALUE__  Pull out for extra seating, or tuck away for a...   \n",
       "\n",
       "       Width  Height Length  ... categories1   categories2 categories3  \\\n",
       "0        NaN     NaN    NaN  ...      المنزل  غرفة المعيشة         NaN   \n",
       "1          0       0      0  ...      المنزل  غرفة المعيشة         NaN   \n",
       "2          0       0      0  ...      المنزل  غرفة المعيشة         NaN   \n",
       "3        NaN     NaN    NaN  ...      المنزل  غرفة المعيشة         NaN   \n",
       "4        NaN     NaN    NaN  ...      المنزل  غرفة المعيشة         NaN   \n",
       "...      ...     ...    ...  ...         ...           ...         ...   \n",
       "2003     NaN       0      0  ...      المنزل  غرفة المعيشة         NaN   \n",
       "2004   50.80  101.60  60.96  ...      المنزل  غرفة المعيشة         NaN   \n",
       "2005     NaN       0      0  ...      المنزل  غرفة المعيشة         NaN   \n",
       "2006  121.92   50.80  40.64  ...      المنزل  غرفة المعيشة         NaN   \n",
       "2007   48.26   48.26  48.26  ...      المنزل  غرفة المعيشة         NaN   \n",
       "\n",
       "     estimated_delivery_enable               estimated_delivery_text  \\\n",
       "0                  Static Text  الوقت المقدر لشحن هذا المنتج أسبوعين   \n",
       "1                  Static Text  الوقت المقدر لشحن هذا المنتج أسبوعين   \n",
       "2                  Static Text  الوقت المقدر لشحن هذا المنتج أسبوعين   \n",
       "3                  Static Text  الوقت المقدر لشحن هذا المنتج أسبوعين   \n",
       "4                  Static Text  الوقت المقدر لشحن هذا المنتج أسبوعين   \n",
       "...                        ...                                   ...   \n",
       "2003               Static Text  الوقت المقدر لشحن هذا المنتج أسبوعين   \n",
       "2004               Static Text  الوقت المقدر لشحن هذا المنتج أسبوعين   \n",
       "2005               Static Text  الوقت المقدر لشحن هذا المنتج أسبوعين   \n",
       "2006               Static Text  الوقت المقدر لشحن هذا المنتج أسبوعين   \n",
       "2007               Static Text  الوقت المقدر لشحن هذا المنتج أسبوعين   \n",
       "\n",
       "         raw_materials allow_backorders out_of_stock_qty qty product_online  \n",
       "0     __EMPTY__VALUE__                1               -5   0              1  \n",
       "1     __EMPTY__VALUE__                1               -5   0              1  \n",
       "2     __EMPTY__VALUE__                1               -5   0              1  \n",
       "3     __EMPTY__VALUE__                1               -5   0              1  \n",
       "4     __EMPTY__VALUE__                1               -5   0              1  \n",
       "...                ...              ...              ...  ..            ...  \n",
       "2003  __EMPTY__VALUE__                1               -5   0              1  \n",
       "2004  __EMPTY__VALUE__                1               -5   0              1  \n",
       "2005  __EMPTY__VALUE__                1               -5   0              1  \n",
       "2006  __EMPTY__VALUE__                1               -5   0              1  \n",
       "2007  __EMPTY__VALUE__                1               -5   0              1  \n",
       "\n",
       "[2008 rows x 30 columns]"
      ]
     },
     "execution_count": 391,
     "metadata": {},
     "output_type": "execute_result"
    }
   ],
   "source": [
    "df_liv"
   ]
  },
  {
   "cell_type": "code",
   "execution_count": null,
   "id": "6f4db61f",
   "metadata": {},
   "outputs": [],
   "source": []
  },
  {
   "cell_type": "code",
   "execution_count": 392,
   "id": "65219cc9",
   "metadata": {},
   "outputs": [
    {
     "data": {
      "text/plain": [
       "(839, 30)"
      ]
     },
     "execution_count": 392,
     "metadata": {},
     "output_type": "execute_result"
    }
   ],
   "source": [
    "df_light = pd.read_excel('all_lighting_update.xlsx')\n",
    "df_light.shape"
   ]
  },
  {
   "cell_type": "code",
   "execution_count": 399,
   "id": "f033e5ff",
   "metadata": {},
   "outputs": [
    {
     "data": {
      "text/plain": [
       "0"
      ]
     },
     "execution_count": 399,
     "metadata": {},
     "output_type": "execute_result"
    }
   ],
   "source": [
    "df_light.duplicated(subset=['sku']).sum()"
   ]
  },
  {
   "cell_type": "code",
   "execution_count": 50,
   "id": "0f9b5b0f",
   "metadata": {},
   "outputs": [],
   "source": [
    "df.shape\n",
    "df.to_excel('100_prod_clean.xlsx')"
   ]
  },
  {
   "cell_type": "code",
   "execution_count": null,
   "id": "d5cadca8",
   "metadata": {},
   "outputs": [],
   "source": []
  },
  {
   "cell_type": "code",
   "execution_count": 398,
   "id": "7f4215e5",
   "metadata": {},
   "outputs": [],
   "source": [
    "df_light.drop_duplicates(subset=['sku'], inplace=True)"
   ]
  },
  {
   "cell_type": "code",
   "execution_count": 401,
   "id": "55e5b058",
   "metadata": {},
   "outputs": [],
   "source": [
    "df_light.to_excel('all_lighting_update1.xlsx', index=False)"
   ]
  },
  {
   "cell_type": "code",
   "execution_count": null,
   "id": "4b5b1372",
   "metadata": {},
   "outputs": [],
   "source": []
  },
  {
   "cell_type": "code",
   "execution_count": null,
   "id": "d4b910e7",
   "metadata": {},
   "outputs": [],
   "source": []
  },
  {
   "cell_type": "code",
   "execution_count": null,
   "id": "2fc2a95a",
   "metadata": {},
   "outputs": [],
   "source": []
  },
  {
   "cell_type": "code",
   "execution_count": null,
   "id": "391ba0c6",
   "metadata": {},
   "outputs": [],
   "source": []
  },
  {
   "cell_type": "code",
   "execution_count": null,
   "id": "a51ed6de",
   "metadata": {},
   "outputs": [],
   "source": []
  },
  {
   "cell_type": "code",
   "execution_count": null,
   "id": "151ebbe6",
   "metadata": {},
   "outputs": [],
   "source": []
  },
  {
   "cell_type": "code",
   "execution_count": null,
   "id": "4b0bf357",
   "metadata": {},
   "outputs": [],
   "source": []
  },
  {
   "cell_type": "code",
   "execution_count": null,
   "id": "780b113f",
   "metadata": {},
   "outputs": [],
   "source": []
  },
  {
   "cell_type": "code",
   "execution_count": null,
   "id": "877ce5a7",
   "metadata": {},
   "outputs": [],
   "source": []
  },
  {
   "cell_type": "code",
   "execution_count": null,
   "id": "f08af286",
   "metadata": {},
   "outputs": [],
   "source": []
  },
  {
   "cell_type": "code",
   "execution_count": null,
   "id": "8fde9ee5",
   "metadata": {},
   "outputs": [],
   "source": []
  },
  {
   "cell_type": "code",
   "execution_count": null,
   "id": "2776df40",
   "metadata": {},
   "outputs": [],
   "source": []
  },
  {
   "cell_type": "code",
   "execution_count": null,
   "id": "62993347",
   "metadata": {},
   "outputs": [],
   "source": []
  },
  {
   "cell_type": "code",
   "execution_count": null,
   "id": "89afc37e",
   "metadata": {},
   "outputs": [],
   "source": []
  },
  {
   "cell_type": "code",
   "execution_count": 331,
   "id": "ff37df22",
   "metadata": {},
   "outputs": [],
   "source": [
    "df_bed =  df_bed[:3] + df_bed[5:6] + df_bed[4:5] + df_bed[6:]"
   ]
  },
  {
   "cell_type": "code",
   "execution_count": null,
   "id": "0d275ca4",
   "metadata": {},
   "outputs": [],
   "source": []
  },
  {
   "cell_type": "code",
   "execution_count": 373,
   "id": "2041aab8",
   "metadata": {},
   "outputs": [
    {
     "data": {
      "text/plain": [
       "(906, 32)"
      ]
     },
     "execution_count": 373,
     "metadata": {},
     "output_type": "execute_result"
    }
   ],
   "source": [
    "df_ding = pd.read_excel('all_dining_room_update1.xlsx')\n",
    "df_ding.shape"
   ]
  },
  {
   "cell_type": "code",
   "execution_count": 370,
   "id": "94764573",
   "metadata": {},
   "outputs": [
    {
     "data": {
      "text/plain": [
       "0"
      ]
     },
     "execution_count": 370,
     "metadata": {},
     "output_type": "execute_result"
    }
   ],
   "source": [
    "df_ding.duplicated(subset=['sku']).sum()"
   ]
  },
  {
   "cell_type": "code",
   "execution_count": 369,
   "id": "fdc19c63",
   "metadata": {},
   "outputs": [],
   "source": [
    "df_ding.drop_duplicates(subset=['sku'], inplace=True)"
   ]
  },
  {
   "cell_type": "code",
   "execution_count": 371,
   "id": "55f38013",
   "metadata": {},
   "outputs": [
    {
     "data": {
      "text/plain": [
       "(906, 31)"
      ]
     },
     "execution_count": 371,
     "metadata": {},
     "output_type": "execute_result"
    }
   ],
   "source": [
    "df_ding.shape"
   ]
  },
  {
   "cell_type": "code",
   "execution_count": 372,
   "id": "02e0c426",
   "metadata": {},
   "outputs": [],
   "source": [
    "df_ding.to_excel('all_dining_room_update1.xlsx', index=False)"
   ]
  },
  {
   "cell_type": "code",
   "execution_count": 357,
   "id": "1fa856b4",
   "metadata": {},
   "outputs": [
    {
     "data": {
      "text/plain": [
       "Index(['sku', 'is_in_stock', 'name', 'price', 'special_price', 'free_colors',\n",
       "       'short_description', 'ts_dimensions_width', 'ts_dimensions_height',\n",
       "       'ts_dimensions_length', 'mgs_brand', 'Images1', 'url_key', 'visibility',\n",
       "       'tax_class_name', 'manufacturer', 'news_from_date', 'news_to_date',\n",
       "       'Images2', 'link_url', 'categories1', 'categories2', 'categories3',\n",
       "       'estimated_delivery_enable', 'estimated_delivery_text', 'raw_materials',\n",
       "       'qty', 'product_online', 'allow_backorders', 'out_of_stock_qty'],\n",
       "      dtype='object')"
      ]
     },
     "execution_count": 357,
     "metadata": {},
     "output_type": "execute_result"
    }
   ],
   "source": [
    "df_bed.columns"
   ]
  },
  {
   "cell_type": "code",
   "execution_count": null,
   "id": "acecc104",
   "metadata": {},
   "outputs": [],
   "source": []
  },
  {
   "cell_type": "code",
   "execution_count": null,
   "id": "30d7cb02",
   "metadata": {},
   "outputs": [],
   "source": []
  },
  {
   "cell_type": "code",
   "execution_count": null,
   "id": "19085eae",
   "metadata": {},
   "outputs": [],
   "source": []
  },
  {
   "cell_type": "code",
   "execution_count": 316,
   "id": "fa2c135c",
   "metadata": {},
   "outputs": [
    {
     "data": {
      "text/plain": [
       "(2684, 30)"
      ]
     },
     "execution_count": 316,
     "metadata": {},
     "output_type": "execute_result"
    }
   ],
   "source": [
    "df_acc.shape"
   ]
  },
  {
   "cell_type": "code",
   "execution_count": null,
   "id": "86303bca",
   "metadata": {},
   "outputs": [],
   "source": []
  },
  {
   "cell_type": "code",
   "execution_count": null,
   "id": "fe245bce",
   "metadata": {},
   "outputs": [],
   "source": []
  },
  {
   "cell_type": "code",
   "execution_count": 182,
   "id": "7ca0a3ae",
   "metadata": {},
   "outputs": [
    {
     "data": {
      "text/plain": [
       "Index(['sku', 'is_in_stock', 'name', 'price', 'special_price',\n",
       "       'short_description', 'free_colors', 'Width', 'Height', 'Length',\n",
       "       'mgs_brand', 'Images1', 'url_key', 'visibility', 'tax_class_name',\n",
       "       'manufacturer', 'news_from_date', 'news_to_date', 'Images2', 'link_url',\n",
       "       'categories1', 'categories2', 'categories3',\n",
       "       'estimated_delivery_enable', 'estimated_delivery_text', 'raw_materials',\n",
       "       'allow_backorders', 'out_of_stock_qty', 'qty', 'product_online'],\n",
       "      dtype='object')"
      ]
     },
     "execution_count": 182,
     "metadata": {},
     "output_type": "execute_result"
    }
   ],
   "source": [
    "df.columns"
   ]
  },
  {
   "cell_type": "code",
   "execution_count": null,
   "id": "6ddab8a5",
   "metadata": {},
   "outputs": [],
   "source": []
  },
  {
   "cell_type": "code",
   "execution_count": null,
   "id": "3825e9ae",
   "metadata": {},
   "outputs": [],
   "source": []
  },
  {
   "cell_type": "code",
   "execution_count": 267,
   "id": "7d7de721",
   "metadata": {},
   "outputs": [
    {
     "data": {
      "text/plain": [
       "(40, 30)"
      ]
     },
     "execution_count": 267,
     "metadata": {},
     "output_type": "execute_result"
    }
   ],
   "source": [
    "df.shape"
   ]
  },
  {
   "cell_type": "code",
   "execution_count": null,
   "id": "32e5f207",
   "metadata": {},
   "outputs": [],
   "source": []
  },
  {
   "cell_type": "code",
   "execution_count": null,
   "id": "b1cbf285",
   "metadata": {},
   "outputs": [],
   "source": []
  },
  {
   "cell_type": "code",
   "execution_count": null,
   "id": "7f18a749",
   "metadata": {},
   "outputs": [],
   "source": []
  },
  {
   "cell_type": "code",
   "execution_count": null,
   "id": "45b88a6d",
   "metadata": {},
   "outputs": [],
   "source": [
    "df.rename(columns = d, inplace = False)"
   ]
  },
  {
   "cell_type": "code",
   "execution_count": 34,
   "id": "01f903dd",
   "metadata": {},
   "outputs": [],
   "source": [
    "df.rename(columns = {'collection': 'mgs_brand'} ,inplace = True)"
   ]
  },
  {
   "cell_type": "code",
   "execution_count": 305,
   "id": "47e00297",
   "metadata": {},
   "outputs": [],
   "source": [
    "df_update.rename(columns={'free_colors': 'short_description', 'short_description': 'free_colors'}, inplace=True)"
   ]
  },
  {
   "cell_type": "code",
   "execution_count": null,
   "id": "0103916f",
   "metadata": {},
   "outputs": [],
   "source": []
  },
  {
   "cell_type": "code",
   "execution_count": 306,
   "id": "19eeebaa",
   "metadata": {},
   "outputs": [
    {
     "data": {
      "text/html": [
       "<div>\n",
       "<style scoped>\n",
       "    .dataframe tbody tr th:only-of-type {\n",
       "        vertical-align: middle;\n",
       "    }\n",
       "\n",
       "    .dataframe tbody tr th {\n",
       "        vertical-align: top;\n",
       "    }\n",
       "\n",
       "    .dataframe thead th {\n",
       "        text-align: right;\n",
       "    }\n",
       "</style>\n",
       "<table border=\"1\" class=\"dataframe\">\n",
       "  <thead>\n",
       "    <tr style=\"text-align: right;\">\n",
       "      <th></th>\n",
       "      <th>sku</th>\n",
       "      <th>is_in_stock</th>\n",
       "      <th>name</th>\n",
       "      <th>price</th>\n",
       "      <th>special_price</th>\n",
       "      <th>short_description</th>\n",
       "      <th>free_colors</th>\n",
       "      <th>Width</th>\n",
       "      <th>Height</th>\n",
       "      <th>Length</th>\n",
       "      <th>...</th>\n",
       "      <th>categories1</th>\n",
       "      <th>categories2</th>\n",
       "      <th>categories3</th>\n",
       "      <th>estimated_delivery_enable</th>\n",
       "      <th>estimated_delivery_text</th>\n",
       "      <th>raw_materials</th>\n",
       "      <th>allow_backorders</th>\n",
       "      <th>out_of_stock_qty</th>\n",
       "      <th>qty</th>\n",
       "      <th>product_online</th>\n",
       "    </tr>\n",
       "  </thead>\n",
       "  <tbody>\n",
       "    <tr>\n",
       "      <th>0</th>\n",
       "      <td>RAG-CVAER994</td>\n",
       "      <td>1</td>\n",
       "      <td>LAMP TABLE</td>\n",
       "      <td>569.25</td>\n",
       "      <td>NaN</td>\n",
       "      <td>NaN</td>\n",
       "      <td>__EMPTY__VALUE__</td>\n",
       "      <td>0</td>\n",
       "      <td>0</td>\n",
       "      <td>0</td>\n",
       "      <td>...</td>\n",
       "      <td>المنزل</td>\n",
       "      <td>عرض الكل</td>\n",
       "      <td>NaN</td>\n",
       "      <td>Static Text</td>\n",
       "      <td>الوقت المقدر لشحن هذا المنتج أسبوعين</td>\n",
       "      <td>__EMPTY__VALUE__</td>\n",
       "      <td>1</td>\n",
       "      <td>-5</td>\n",
       "      <td>0</td>\n",
       "      <td>1</td>\n",
       "    </tr>\n",
       "    <tr>\n",
       "      <th>1</th>\n",
       "      <td>RAG-CVABS382R</td>\n",
       "      <td>1</td>\n",
       "      <td>CRYSTAL LAMP</td>\n",
       "      <td>874.00</td>\n",
       "      <td>NaN</td>\n",
       "      <td>NaN</td>\n",
       "      <td>__EMPTY__VALUE__</td>\n",
       "      <td>0</td>\n",
       "      <td>0</td>\n",
       "      <td>0</td>\n",
       "      <td>...</td>\n",
       "      <td>المنزل</td>\n",
       "      <td>عرض الكل</td>\n",
       "      <td>NaN</td>\n",
       "      <td>Static Text</td>\n",
       "      <td>الوقت المقدر لشحن هذا المنتج أسبوعين</td>\n",
       "      <td>__EMPTY__VALUE__</td>\n",
       "      <td>1</td>\n",
       "      <td>-5</td>\n",
       "      <td>0</td>\n",
       "      <td>1</td>\n",
       "    </tr>\n",
       "    <tr>\n",
       "      <th>2</th>\n",
       "      <td>RAG-CVAVP1083</td>\n",
       "      <td>1</td>\n",
       "      <td>Potted Artichoke Table Lamp</td>\n",
       "      <td>168.19</td>\n",
       "      <td>224.25</td>\n",
       "      <td>NaN</td>\n",
       "      <td>__EMPTY__VALUE__</td>\n",
       "      <td>0</td>\n",
       "      <td>0</td>\n",
       "      <td>0</td>\n",
       "      <td>...</td>\n",
       "      <td>المنزل</td>\n",
       "      <td>عرض الكل</td>\n",
       "      <td>NaN</td>\n",
       "      <td>Static Text</td>\n",
       "      <td>الوقت المقدر لشحن هذا المنتج أسبوعين</td>\n",
       "      <td>__EMPTY__VALUE__</td>\n",
       "      <td>1</td>\n",
       "      <td>-5</td>\n",
       "      <td>0</td>\n",
       "      <td>1</td>\n",
       "    </tr>\n",
       "    <tr>\n",
       "      <th>3</th>\n",
       "      <td>RAG-CVAER315</td>\n",
       "      <td>1</td>\n",
       "      <td>مصباح طاولة أزتيكا 27 بوصة إتش تي</td>\n",
       "      <td>437.00</td>\n",
       "      <td>NaN</td>\n",
       "      <td>NaN</td>\n",
       "      <td>__EMPTY__VALUE__</td>\n",
       "      <td>0</td>\n",
       "      <td>0</td>\n",
       "      <td>0</td>\n",
       "      <td>...</td>\n",
       "      <td>المنزل</td>\n",
       "      <td>عرض الكل</td>\n",
       "      <td>NaN</td>\n",
       "      <td>Static Text</td>\n",
       "      <td>الوقت المقدر لشحن هذا المنتج أسبوعين</td>\n",
       "      <td>__EMPTY__VALUE__</td>\n",
       "      <td>1</td>\n",
       "      <td>-5</td>\n",
       "      <td>0</td>\n",
       "      <td>1</td>\n",
       "    </tr>\n",
       "    <tr>\n",
       "      <th>4</th>\n",
       "      <td>RAG-CVAER762</td>\n",
       "      <td>1</td>\n",
       "      <td>مصباح الطاولة</td>\n",
       "      <td>434.99</td>\n",
       "      <td>511.75</td>\n",
       "      <td>NaN</td>\n",
       "      <td>__EMPTY__VALUE__</td>\n",
       "      <td>0</td>\n",
       "      <td>0</td>\n",
       "      <td>0</td>\n",
       "      <td>...</td>\n",
       "      <td>المنزل</td>\n",
       "      <td>عرض الكل</td>\n",
       "      <td>NaN</td>\n",
       "      <td>Static Text</td>\n",
       "      <td>الوقت المقدر لشحن هذا المنتج أسبوعين</td>\n",
       "      <td>__EMPTY__VALUE__</td>\n",
       "      <td>1</td>\n",
       "      <td>-5</td>\n",
       "      <td>0</td>\n",
       "      <td>1</td>\n",
       "    </tr>\n",
       "    <tr>\n",
       "      <th>...</th>\n",
       "      <td>...</td>\n",
       "      <td>...</td>\n",
       "      <td>...</td>\n",
       "      <td>...</td>\n",
       "      <td>...</td>\n",
       "      <td>...</td>\n",
       "      <td>...</td>\n",
       "      <td>...</td>\n",
       "      <td>...</td>\n",
       "      <td>...</td>\n",
       "      <td>...</td>\n",
       "      <td>...</td>\n",
       "      <td>...</td>\n",
       "      <td>...</td>\n",
       "      <td>...</td>\n",
       "      <td>...</td>\n",
       "      <td>...</td>\n",
       "      <td>...</td>\n",
       "      <td>...</td>\n",
       "      <td>...</td>\n",
       "      <td>...</td>\n",
       "    </tr>\n",
       "    <tr>\n",
       "      <th>834</th>\n",
       "      <td>RAG-21268-UTT</td>\n",
       "      <td>1</td>\n",
       "      <td>تمورث ، 5 لتر ثريا</td>\n",
       "      <td>4755.25</td>\n",
       "      <td>NaN</td>\n",
       "      <td>تشطيب أوراق الشمبانيا الفضية المصقولة مع لمسات...</td>\n",
       "      <td>__EMPTY__VALUE__</td>\n",
       "      <td>NaN</td>\n",
       "      <td>NaN</td>\n",
       "      <td>NaN</td>\n",
       "      <td>...</td>\n",
       "      <td>المنزل</td>\n",
       "      <td>عرض الكل</td>\n",
       "      <td>NaN</td>\n",
       "      <td>Static Text</td>\n",
       "      <td>الوقت المقدر لشحن هذا المنتج أسبوعين</td>\n",
       "      <td>__EMPTY__VALUE__</td>\n",
       "      <td>1</td>\n",
       "      <td>-5</td>\n",
       "      <td>0</td>\n",
       "      <td>1</td>\n",
       "    </tr>\n",
       "    <tr>\n",
       "      <th>835</th>\n",
       "      <td>RAG-22138-UTT</td>\n",
       "      <td>1</td>\n",
       "      <td>ILONA, 1 LT PENDANT</td>\n",
       "      <td>1247.75</td>\n",
       "      <td>NaN</td>\n",
       "      <td>Clear seeded glass teardrop pendant with brush...</td>\n",
       "      <td>__EMPTY__VALUE__</td>\n",
       "      <td>0</td>\n",
       "      <td>48.26</td>\n",
       "      <td>NaN</td>\n",
       "      <td>...</td>\n",
       "      <td>المنزل</td>\n",
       "      <td>عرض الكل</td>\n",
       "      <td>NaN</td>\n",
       "      <td>Static Text</td>\n",
       "      <td>الوقت المقدر لشحن هذا المنتج أسبوعين</td>\n",
       "      <td>__EMPTY__VALUE__</td>\n",
       "      <td>1</td>\n",
       "      <td>-5</td>\n",
       "      <td>0</td>\n",
       "      <td>1</td>\n",
       "    </tr>\n",
       "    <tr>\n",
       "      <th>836</th>\n",
       "      <td>RAG-22158-UTT</td>\n",
       "      <td>1</td>\n",
       "      <td>ELM, 3 LT OUTDOOR PENDANT</td>\n",
       "      <td>1903.25</td>\n",
       "      <td>NaN</td>\n",
       "      <td>Highly styled 3 Lt. OUTDOOR pendant with ETL w...</td>\n",
       "      <td>__EMPTY__VALUE__</td>\n",
       "      <td>0</td>\n",
       "      <td>25.40</td>\n",
       "      <td>NaN</td>\n",
       "      <td>...</td>\n",
       "      <td>المنزل</td>\n",
       "      <td>عرض الكل</td>\n",
       "      <td>NaN</td>\n",
       "      <td>Static Text</td>\n",
       "      <td>الوقت المقدر لشحن هذا المنتج أسبوعين</td>\n",
       "      <td>__EMPTY__VALUE__</td>\n",
       "      <td>1</td>\n",
       "      <td>-5</td>\n",
       "      <td>0</td>\n",
       "      <td>1</td>\n",
       "    </tr>\n",
       "    <tr>\n",
       "      <th>837</th>\n",
       "      <td>RAG-R22076-UTT</td>\n",
       "      <td>1</td>\n",
       "      <td>FOLIA, 3 LT MINI PENDANT</td>\n",
       "      <td>1661.75</td>\n",
       "      <td>NaN</td>\n",
       "      <td>This leafy mini pendant features a warm antiqu...</td>\n",
       "      <td>__EMPTY__VALUE__</td>\n",
       "      <td>0</td>\n",
       "      <td>45.72</td>\n",
       "      <td>NaN</td>\n",
       "      <td>...</td>\n",
       "      <td>المنزل</td>\n",
       "      <td>عرض الكل</td>\n",
       "      <td>NaN</td>\n",
       "      <td>Static Text</td>\n",
       "      <td>الوقت المقدر لشحن هذا المنتج أسبوعين</td>\n",
       "      <td>__EMPTY__VALUE__</td>\n",
       "      <td>1</td>\n",
       "      <td>-5</td>\n",
       "      <td>0</td>\n",
       "      <td>1</td>\n",
       "    </tr>\n",
       "    <tr>\n",
       "      <th>838</th>\n",
       "      <td>RAG-R21277-UTT</td>\n",
       "      <td>1</td>\n",
       "      <td>ريديو ، ثريا 8 لتر</td>\n",
       "      <td>3754.75</td>\n",
       "      <td>NaN</td>\n",
       "      <td>اللف الناعم من الخيوط المعدنية يعطي شعوراً بال...</td>\n",
       "      <td>__EMPTY__VALUE__</td>\n",
       "      <td>NaN</td>\n",
       "      <td>NaN</td>\n",
       "      <td>NaN</td>\n",
       "      <td>...</td>\n",
       "      <td>المنزل</td>\n",
       "      <td>عرض الكل</td>\n",
       "      <td>NaN</td>\n",
       "      <td>Static Text</td>\n",
       "      <td>الوقت المقدر لشحن هذا المنتج أسبوعين</td>\n",
       "      <td>__EMPTY__VALUE__</td>\n",
       "      <td>1</td>\n",
       "      <td>-5</td>\n",
       "      <td>0</td>\n",
       "      <td>1</td>\n",
       "    </tr>\n",
       "  </tbody>\n",
       "</table>\n",
       "<p>839 rows × 30 columns</p>\n",
       "</div>"
      ],
      "text/plain": [
       "                sku  is_in_stock                               name    price  \\\n",
       "0      RAG-CVAER994            1                         LAMP TABLE   569.25   \n",
       "1     RAG-CVABS382R            1                       CRYSTAL LAMP   874.00   \n",
       "2     RAG-CVAVP1083            1        Potted Artichoke Table Lamp   168.19   \n",
       "3      RAG-CVAER315            1  مصباح طاولة أزتيكا 27 بوصة إتش تي   437.00   \n",
       "4      RAG-CVAER762            1                      مصباح الطاولة   434.99   \n",
       "..              ...          ...                                ...      ...   \n",
       "834   RAG-21268-UTT            1                 تمورث ، 5 لتر ثريا  4755.25   \n",
       "835   RAG-22138-UTT            1                ILONA, 1 LT PENDANT  1247.75   \n",
       "836   RAG-22158-UTT            1          ELM, 3 LT OUTDOOR PENDANT  1903.25   \n",
       "837  RAG-R22076-UTT            1           FOLIA, 3 LT MINI PENDANT  1661.75   \n",
       "838  RAG-R21277-UTT            1                 ريديو ، ثريا 8 لتر  3754.75   \n",
       "\n",
       "     special_price                                  short_description  \\\n",
       "0              NaN                                                NaN   \n",
       "1              NaN                                                NaN   \n",
       "2           224.25                                                NaN   \n",
       "3              NaN                                                NaN   \n",
       "4           511.75                                                NaN   \n",
       "..             ...                                                ...   \n",
       "834            NaN  تشطيب أوراق الشمبانيا الفضية المصقولة مع لمسات...   \n",
       "835            NaN  Clear seeded glass teardrop pendant with brush...   \n",
       "836            NaN  Highly styled 3 Lt. OUTDOOR pendant with ETL w...   \n",
       "837            NaN  This leafy mini pendant features a warm antiqu...   \n",
       "838            NaN  اللف الناعم من الخيوط المعدنية يعطي شعوراً بال...   \n",
       "\n",
       "          free_colors Width Height Length  ... categories1 categories2  \\\n",
       "0    __EMPTY__VALUE__     0      0      0  ...      المنزل    عرض الكل   \n",
       "1    __EMPTY__VALUE__     0      0      0  ...      المنزل    عرض الكل   \n",
       "2    __EMPTY__VALUE__     0      0      0  ...      المنزل    عرض الكل   \n",
       "3    __EMPTY__VALUE__     0      0      0  ...      المنزل    عرض الكل   \n",
       "4    __EMPTY__VALUE__     0      0      0  ...      المنزل    عرض الكل   \n",
       "..                ...   ...    ...    ...  ...         ...         ...   \n",
       "834  __EMPTY__VALUE__   NaN    NaN    NaN  ...      المنزل    عرض الكل   \n",
       "835  __EMPTY__VALUE__     0  48.26    NaN  ...      المنزل    عرض الكل   \n",
       "836  __EMPTY__VALUE__     0  25.40    NaN  ...      المنزل    عرض الكل   \n",
       "837  __EMPTY__VALUE__     0  45.72    NaN  ...      المنزل    عرض الكل   \n",
       "838  __EMPTY__VALUE__   NaN    NaN    NaN  ...      المنزل    عرض الكل   \n",
       "\n",
       "    categories3 estimated_delivery_enable  \\\n",
       "0           NaN               Static Text   \n",
       "1           NaN               Static Text   \n",
       "2           NaN               Static Text   \n",
       "3           NaN               Static Text   \n",
       "4           NaN               Static Text   \n",
       "..          ...                       ...   \n",
       "834         NaN               Static Text   \n",
       "835         NaN               Static Text   \n",
       "836         NaN               Static Text   \n",
       "837         NaN               Static Text   \n",
       "838         NaN               Static Text   \n",
       "\n",
       "                  estimated_delivery_text     raw_materials allow_backorders  \\\n",
       "0    الوقت المقدر لشحن هذا المنتج أسبوعين  __EMPTY__VALUE__                1   \n",
       "1    الوقت المقدر لشحن هذا المنتج أسبوعين  __EMPTY__VALUE__                1   \n",
       "2    الوقت المقدر لشحن هذا المنتج أسبوعين  __EMPTY__VALUE__                1   \n",
       "3    الوقت المقدر لشحن هذا المنتج أسبوعين  __EMPTY__VALUE__                1   \n",
       "4    الوقت المقدر لشحن هذا المنتج أسبوعين  __EMPTY__VALUE__                1   \n",
       "..                                    ...               ...              ...   \n",
       "834  الوقت المقدر لشحن هذا المنتج أسبوعين  __EMPTY__VALUE__                1   \n",
       "835  الوقت المقدر لشحن هذا المنتج أسبوعين  __EMPTY__VALUE__                1   \n",
       "836  الوقت المقدر لشحن هذا المنتج أسبوعين  __EMPTY__VALUE__                1   \n",
       "837  الوقت المقدر لشحن هذا المنتج أسبوعين  __EMPTY__VALUE__                1   \n",
       "838  الوقت المقدر لشحن هذا المنتج أسبوعين  __EMPTY__VALUE__                1   \n",
       "\n",
       "    out_of_stock_qty qty product_online  \n",
       "0                 -5   0              1  \n",
       "1                 -5   0              1  \n",
       "2                 -5   0              1  \n",
       "3                 -5   0              1  \n",
       "4                 -5   0              1  \n",
       "..               ...  ..            ...  \n",
       "834               -5   0              1  \n",
       "835               -5   0              1  \n",
       "836               -5   0              1  \n",
       "837               -5   0              1  \n",
       "838               -5   0              1  \n",
       "\n",
       "[839 rows x 30 columns]"
      ]
     },
     "execution_count": 306,
     "metadata": {},
     "output_type": "execute_result"
    }
   ],
   "source": [
    "df_update"
   ]
  },
  {
   "cell_type": "code",
   "execution_count": null,
   "id": "5c5da363",
   "metadata": {},
   "outputs": [],
   "source": []
  },
  {
   "cell_type": "code",
   "execution_count": null,
   "id": "7115aee0",
   "metadata": {},
   "outputs": [],
   "source": []
  },
  {
   "cell_type": "code",
   "execution_count": null,
   "id": "5cf40e43",
   "metadata": {},
   "outputs": [],
   "source": []
  },
  {
   "cell_type": "code",
   "execution_count": null,
   "id": "9e361ce5",
   "metadata": {},
   "outputs": [],
   "source": []
  },
  {
   "cell_type": "code",
   "execution_count": null,
   "id": "1b1ff38e",
   "metadata": {},
   "outputs": [],
   "source": []
  },
  {
   "cell_type": "code",
   "execution_count": 300,
   "id": "488271ed",
   "metadata": {},
   "outputs": [],
   "source": [
    "df.to_excel('all_dining_room_update.xlsx', index=False)\n"
   ]
  },
  {
   "cell_type": "code",
   "execution_count": null,
   "id": "ab205e6e",
   "metadata": {},
   "outputs": [],
   "source": []
  },
  {
   "cell_type": "code",
   "execution_count": null,
   "id": "b901ca2b",
   "metadata": {},
   "outputs": [],
   "source": []
  },
  {
   "cell_type": "code",
   "execution_count": 301,
   "id": "813cdc3e",
   "metadata": {},
   "outputs": [],
   "source": [
    "df_update = pd.read_excel('all_lighting_update.xlsx')"
   ]
  },
  {
   "cell_type": "code",
   "execution_count": 104,
   "id": "1aaddb79",
   "metadata": {},
   "outputs": [],
   "source": [
    "df_update['url_key'] = df_update['url_key'].str.replace(\"'\", '-')"
   ]
  },
  {
   "cell_type": "code",
   "execution_count": null,
   "id": "daf0a9a1",
   "metadata": {},
   "outputs": [],
   "source": []
  },
  {
   "cell_type": "code",
   "execution_count": 307,
   "id": "48bbb53f",
   "metadata": {},
   "outputs": [],
   "source": [
    "df1 = pd.read_excel('all_accessoires_update4.xlsx')\n",
    "df2= pd.read_excel('all_bedrooms_update.xlsx')\n",
    "df3 = pd.read_excel('all_dining_room_update1.xlsx')\n",
    "df4 = pd.read_excel('all_lighting_update.xlsx')\n",
    "df5 = pd.read_excel('all_living_rooms1.xlsx')\n",
    "df6 = pd.read_excel('all_exclusive-items.xlsx')"
   ]
  },
  {
   "cell_type": "code",
   "execution_count": 308,
   "id": "8f6870de",
   "metadata": {},
   "outputs": [],
   "source": [
    "df_update = pd.concat([df1, df2], ignore_index=True)\n",
    "df_update = pd.concat([df_update, df3], ignore_index=True)\n",
    "df_update = pd.concat([df_update, df4], ignore_index=True)\n",
    "df_update = pd.concat([df_update, df5], ignore_index=True)\n",
    "df_update = pd.concat([df_update, df6], ignore_index=True)\n"
   ]
  },
  {
   "cell_type": "code",
   "execution_count": 309,
   "id": "cf1aa2c7",
   "metadata": {},
   "outputs": [],
   "source": [
    "df_update.to_excel('all_update_06_27_2021_2.xlsx')"
   ]
  },
  {
   "cell_type": "code",
   "execution_count": 312,
   "id": "48b2d03b",
   "metadata": {},
   "outputs": [
    {
     "data": {
      "text/html": [
       "<div>\n",
       "<style scoped>\n",
       "    .dataframe tbody tr th:only-of-type {\n",
       "        vertical-align: middle;\n",
       "    }\n",
       "\n",
       "    .dataframe tbody tr th {\n",
       "        vertical-align: top;\n",
       "    }\n",
       "\n",
       "    .dataframe thead th {\n",
       "        text-align: right;\n",
       "    }\n",
       "</style>\n",
       "<table border=\"1\" class=\"dataframe\">\n",
       "  <thead>\n",
       "    <tr style=\"text-align: right;\">\n",
       "      <th></th>\n",
       "      <th>sku</th>\n",
       "      <th>is_in_stock</th>\n",
       "      <th>name</th>\n",
       "      <th>price</th>\n",
       "      <th>special_price</th>\n",
       "      <th>free_colors</th>\n",
       "      <th>short_description</th>\n",
       "      <th>ts_dimensions_width</th>\n",
       "      <th>ts_dimensions_height</th>\n",
       "      <th>ts_dimensions_length</th>\n",
       "      <th>...</th>\n",
       "      <th>estimated_delivery_enable</th>\n",
       "      <th>estimated_delivery_text</th>\n",
       "      <th>raw_materials</th>\n",
       "      <th>allow_backorders</th>\n",
       "      <th>out_of_stock_qty</th>\n",
       "      <th>qty</th>\n",
       "      <th>product_online</th>\n",
       "      <th>Width</th>\n",
       "      <th>Height</th>\n",
       "      <th>Length</th>\n",
       "    </tr>\n",
       "  </thead>\n",
       "  <tbody>\n",
       "    <tr>\n",
       "      <th>0</th>\n",
       "      <td>RAG-11130-01</td>\n",
       "      <td>1</td>\n",
       "      <td>FLOWER WALL PLAQUE</td>\n",
       "      <td>281.75</td>\n",
       "      <td>NaN</td>\n",
       "      <td>Gold</td>\n",
       "      <td>__EMPTY__VALUE__</td>\n",
       "      <td>39.37</td>\n",
       "      <td>11.43</td>\n",
       "      <td>39.37</td>\n",
       "      <td>...</td>\n",
       "      <td>Static Text</td>\n",
       "      <td>الوقت المقدر لشحن هذا المنتج أسبوعين</td>\n",
       "      <td>__EMPTY__VALUE__</td>\n",
       "      <td>1</td>\n",
       "      <td>-5</td>\n",
       "      <td>0</td>\n",
       "      <td>1</td>\n",
       "      <td>NaN</td>\n",
       "      <td>NaN</td>\n",
       "      <td>NaN</td>\n",
       "    </tr>\n",
       "    <tr>\n",
       "      <th>1</th>\n",
       "      <td>RAG-13007-03</td>\n",
       "      <td>1</td>\n",
       "      <td>زهرة اللوتس الزرقاء</td>\n",
       "      <td>224.25</td>\n",
       "      <td>NaN</td>\n",
       "      <td>أزرق</td>\n",
       "      <td>__EMPTY__VALUE__</td>\n",
       "      <td>NaN</td>\n",
       "      <td>12.06</td>\n",
       "      <td>33.02</td>\n",
       "      <td>...</td>\n",
       "      <td>Static Text</td>\n",
       "      <td>الوقت المقدر لشحن هذا المنتج أسبوعين</td>\n",
       "      <td>__EMPTY__VALUE__</td>\n",
       "      <td>1</td>\n",
       "      <td>-5</td>\n",
       "      <td>0</td>\n",
       "      <td>1</td>\n",
       "      <td>NaN</td>\n",
       "      <td>NaN</td>\n",
       "      <td>NaN</td>\n",
       "    </tr>\n",
       "    <tr>\n",
       "      <th>2</th>\n",
       "      <td>RAG-11131</td>\n",
       "      <td>1</td>\n",
       "      <td>زهرة الجدار الأسود / الذهبي 20 '11131</td>\n",
       "      <td>741.75</td>\n",
       "      <td>NaN</td>\n",
       "      <td>أسود</td>\n",
       "      <td>__EMPTY__VALUE__</td>\n",
       "      <td>NaN</td>\n",
       "      <td>13.97</td>\n",
       "      <td>50.80</td>\n",
       "      <td>...</td>\n",
       "      <td>Static Text</td>\n",
       "      <td>الوقت المقدر لشحن هذا المنتج أسبوعين</td>\n",
       "      <td>__EMPTY__VALUE__</td>\n",
       "      <td>1</td>\n",
       "      <td>-5</td>\n",
       "      <td>0</td>\n",
       "      <td>1</td>\n",
       "      <td>NaN</td>\n",
       "      <td>NaN</td>\n",
       "      <td>NaN</td>\n",
       "    </tr>\n",
       "    <tr>\n",
       "      <th>3</th>\n",
       "      <td>RAG-12040</td>\n",
       "      <td>1</td>\n",
       "      <td>White/Gold Wall Flower 15.5</td>\n",
       "      <td>396.75</td>\n",
       "      <td>NaN</td>\n",
       "      <td>WHITE</td>\n",
       "      <td>__EMPTY__VALUE__</td>\n",
       "      <td>15.5</td>\n",
       "      <td>4.5</td>\n",
       "      <td>15.5</td>\n",
       "      <td>...</td>\n",
       "      <td>Static Text</td>\n",
       "      <td>الوقت المقدر لشحن هذا المنتج أسبوعين</td>\n",
       "      <td>__EMPTY__VALUE__</td>\n",
       "      <td>1</td>\n",
       "      <td>-5</td>\n",
       "      <td>0</td>\n",
       "      <td>1</td>\n",
       "      <td>NaN</td>\n",
       "      <td>NaN</td>\n",
       "      <td>NaN</td>\n",
       "    </tr>\n",
       "    <tr>\n",
       "      <th>4</th>\n",
       "      <td>RAG-A0476285</td>\n",
       "      <td>1</td>\n",
       "      <td>لوحات زيتية بإطار - Ast 4</td>\n",
       "      <td>281.75</td>\n",
       "      <td>NaN</td>\n",
       "      <td>__EMPTY__VALUE__</td>\n",
       "      <td>الفراشات حرة في الطيران: حلق بعيدًا مع هذه الس...</td>\n",
       "      <td>45.09</td>\n",
       "      <td>45.09</td>\n",
       "      <td>0</td>\n",
       "      <td>...</td>\n",
       "      <td>Static Text</td>\n",
       "      <td>الوقت المقدر لشحن هذا المنتج أسبوعين</td>\n",
       "      <td>__EMPTY__VALUE__</td>\n",
       "      <td>1</td>\n",
       "      <td>-5</td>\n",
       "      <td>0</td>\n",
       "      <td>1</td>\n",
       "      <td>NaN</td>\n",
       "      <td>NaN</td>\n",
       "      <td>NaN</td>\n",
       "    </tr>\n",
       "    <tr>\n",
       "      <th>...</th>\n",
       "      <td>...</td>\n",
       "      <td>...</td>\n",
       "      <td>...</td>\n",
       "      <td>...</td>\n",
       "      <td>...</td>\n",
       "      <td>...</td>\n",
       "      <td>...</td>\n",
       "      <td>...</td>\n",
       "      <td>...</td>\n",
       "      <td>...</td>\n",
       "      <td>...</td>\n",
       "      <td>...</td>\n",
       "      <td>...</td>\n",
       "      <td>...</td>\n",
       "      <td>...</td>\n",
       "      <td>...</td>\n",
       "      <td>...</td>\n",
       "      <td>...</td>\n",
       "      <td>...</td>\n",
       "      <td>...</td>\n",
       "      <td>...</td>\n",
       "    </tr>\n",
       "    <tr>\n",
       "      <th>9311</th>\n",
       "      <td>RAG-23426-UTT</td>\n",
       "      <td>1</td>\n",
       "      <td>Tilda Nesting Ottomanss, S/2</td>\n",
       "      <td>1362.75</td>\n",
       "      <td>NaN</td>\n",
       "      <td>__EMPTY__VALUE__</td>\n",
       "      <td>Pull out for extra seating, or tuck away for a...</td>\n",
       "      <td>48.26</td>\n",
       "      <td>48.26</td>\n",
       "      <td>48.26</td>\n",
       "      <td>...</td>\n",
       "      <td>Static Text</td>\n",
       "      <td>الوقت المقدر لشحن هذا المنتج أسبوعين</td>\n",
       "      <td>__EMPTY__VALUE__</td>\n",
       "      <td>1</td>\n",
       "      <td>-5</td>\n",
       "      <td>0</td>\n",
       "      <td>1</td>\n",
       "      <td>NaN</td>\n",
       "      <td>NaN</td>\n",
       "      <td>NaN</td>\n",
       "    </tr>\n",
       "    <tr>\n",
       "      <th>9316</th>\n",
       "      <td>RAG-176541-5127AR</td>\n",
       "      <td>1</td>\n",
       "      <td>Charlotte - اريكة حمراء</td>\n",
       "      <td>8353.60</td>\n",
       "      <td>NaN</td>\n",
       "      <td>__EMPTY__VALUE__</td>\n",
       "      <td>NaN</td>\n",
       "      <td>0</td>\n",
       "      <td>0</td>\n",
       "      <td>0</td>\n",
       "      <td>...</td>\n",
       "      <td>Static Text</td>\n",
       "      <td>الوقت المقدر لشحن هذا المنتج أسبوعين</td>\n",
       "      <td>__EMPTY__VALUE__</td>\n",
       "      <td>1</td>\n",
       "      <td>-5</td>\n",
       "      <td>0</td>\n",
       "      <td>1</td>\n",
       "      <td>NaN</td>\n",
       "      <td>NaN</td>\n",
       "      <td>NaN</td>\n",
       "    </tr>\n",
       "    <tr>\n",
       "      <th>9317</th>\n",
       "      <td>RAG-176541-5227AR-set1</td>\n",
       "      <td>1</td>\n",
       "      <td>Provenance - Charlotte Grey - Set2</td>\n",
       "      <td>15962.00</td>\n",
       "      <td>NaN</td>\n",
       "      <td>__EMPTY__VALUE__</td>\n",
       "      <td>1- Sofa + 1-Accent Chair + 1-Chair</td>\n",
       "      <td>NaN</td>\n",
       "      <td>NaN</td>\n",
       "      <td>NaN</td>\n",
       "      <td>...</td>\n",
       "      <td>Static Text</td>\n",
       "      <td>الوقت المقدر لشحن هذا المنتج أسبوعين</td>\n",
       "      <td>__EMPTY__VALUE__</td>\n",
       "      <td>1</td>\n",
       "      <td>-5</td>\n",
       "      <td>0</td>\n",
       "      <td>1</td>\n",
       "      <td>NaN</td>\n",
       "      <td>NaN</td>\n",
       "      <td>NaN</td>\n",
       "    </tr>\n",
       "    <tr>\n",
       "      <th>9318</th>\n",
       "      <td>RAG-176541-5227AR-set</td>\n",
       "      <td>1</td>\n",
       "      <td>Provenance - Charlotte Grey Set</td>\n",
       "      <td>23431.25</td>\n",
       "      <td>NaN</td>\n",
       "      <td>__EMPTY__VALUE__</td>\n",
       "      <td>1-Sofa + 1-Loveseat + 1-Accent Chair + 1-Chair</td>\n",
       "      <td>NaN</td>\n",
       "      <td>NaN</td>\n",
       "      <td>NaN</td>\n",
       "      <td>...</td>\n",
       "      <td>Static Text</td>\n",
       "      <td>الوقت المقدر لشحن هذا المنتج أسبوعين</td>\n",
       "      <td>__EMPTY__VALUE__</td>\n",
       "      <td>1</td>\n",
       "      <td>-5</td>\n",
       "      <td>0</td>\n",
       "      <td>1</td>\n",
       "      <td>NaN</td>\n",
       "      <td>NaN</td>\n",
       "      <td>NaN</td>\n",
       "    </tr>\n",
       "    <tr>\n",
       "      <th>9319</th>\n",
       "      <td>RAG-513539-5127AA</td>\n",
       "      <td>1</td>\n",
       "      <td>Ava Bezel - Tufted Back Chair</td>\n",
       "      <td>5359.16</td>\n",
       "      <td>NaN</td>\n",
       "      <td>__EMPTY__VALUE__</td>\n",
       "      <td>NaN</td>\n",
       "      <td>NaN</td>\n",
       "      <td>NaN</td>\n",
       "      <td>NaN</td>\n",
       "      <td>...</td>\n",
       "      <td>Static Text</td>\n",
       "      <td>الوقت المقدر لشحن هذا المنتج أسبوعين</td>\n",
       "      <td>__EMPTY__VALUE__</td>\n",
       "      <td>1</td>\n",
       "      <td>-5</td>\n",
       "      <td>0</td>\n",
       "      <td>1</td>\n",
       "      <td>NaN</td>\n",
       "      <td>NaN</td>\n",
       "      <td>NaN</td>\n",
       "    </tr>\n",
       "  </tbody>\n",
       "</table>\n",
       "<p>6592 rows × 33 columns</p>\n",
       "</div>"
      ],
      "text/plain": [
       "                         sku  is_in_stock  \\\n",
       "0               RAG-11130-01            1   \n",
       "1               RAG-13007-03            1   \n",
       "2                  RAG-11131            1   \n",
       "3                  RAG-12040            1   \n",
       "4               RAG-A0476285            1   \n",
       "...                      ...          ...   \n",
       "9311           RAG-23426-UTT            1   \n",
       "9316       RAG-176541-5127AR            1   \n",
       "9317  RAG-176541-5227AR-set1            1   \n",
       "9318   RAG-176541-5227AR-set            1   \n",
       "9319       RAG-513539-5127AA            1   \n",
       "\n",
       "                                       name     price  special_price  \\\n",
       "0                        FLOWER WALL PLAQUE    281.75            NaN   \n",
       "1                       زهرة اللوتس الزرقاء    224.25            NaN   \n",
       "2     زهرة الجدار الأسود / الذهبي 20 '11131    741.75            NaN   \n",
       "3               White/Gold Wall Flower 15.5    396.75            NaN   \n",
       "4                 لوحات زيتية بإطار - Ast 4    281.75            NaN   \n",
       "...                                     ...       ...            ...   \n",
       "9311           Tilda Nesting Ottomanss, S/2   1362.75            NaN   \n",
       "9316                Charlotte - اريكة حمراء   8353.60            NaN   \n",
       "9317     Provenance - Charlotte Grey - Set2  15962.00            NaN   \n",
       "9318        Provenance - Charlotte Grey Set  23431.25            NaN   \n",
       "9319          Ava Bezel - Tufted Back Chair   5359.16            NaN   \n",
       "\n",
       "           free_colors                                  short_description  \\\n",
       "0                 Gold                                   __EMPTY__VALUE__   \n",
       "1                 أزرق                                   __EMPTY__VALUE__   \n",
       "2                 أسود                                   __EMPTY__VALUE__   \n",
       "3                WHITE                                   __EMPTY__VALUE__   \n",
       "4     __EMPTY__VALUE__  الفراشات حرة في الطيران: حلق بعيدًا مع هذه الس...   \n",
       "...                ...                                                ...   \n",
       "9311  __EMPTY__VALUE__  Pull out for extra seating, or tuck away for a...   \n",
       "9316  __EMPTY__VALUE__                                                NaN   \n",
       "9317  __EMPTY__VALUE__                 1- Sofa + 1-Accent Chair + 1-Chair   \n",
       "9318  __EMPTY__VALUE__     1-Sofa + 1-Loveseat + 1-Accent Chair + 1-Chair   \n",
       "9319  __EMPTY__VALUE__                                                NaN   \n",
       "\n",
       "     ts_dimensions_width ts_dimensions_height ts_dimensions_length  ...  \\\n",
       "0                  39.37                11.43                39.37  ...   \n",
       "1                    NaN                12.06                33.02  ...   \n",
       "2                    NaN                13.97                50.80  ...   \n",
       "3                  15.5                   4.5                15.5   ...   \n",
       "4                  45.09                45.09                    0  ...   \n",
       "...                  ...                  ...                  ...  ...   \n",
       "9311               48.26                48.26                48.26  ...   \n",
       "9316                   0                    0                    0  ...   \n",
       "9317                 NaN                  NaN                  NaN  ...   \n",
       "9318                 NaN                  NaN                  NaN  ...   \n",
       "9319                 NaN                  NaN                  NaN  ...   \n",
       "\n",
       "     estimated_delivery_enable               estimated_delivery_text  \\\n",
       "0                  Static Text  الوقت المقدر لشحن هذا المنتج أسبوعين   \n",
       "1                  Static Text  الوقت المقدر لشحن هذا المنتج أسبوعين   \n",
       "2                  Static Text  الوقت المقدر لشحن هذا المنتج أسبوعين   \n",
       "3                  Static Text  الوقت المقدر لشحن هذا المنتج أسبوعين   \n",
       "4                  Static Text  الوقت المقدر لشحن هذا المنتج أسبوعين   \n",
       "...                        ...                                   ...   \n",
       "9311               Static Text  الوقت المقدر لشحن هذا المنتج أسبوعين   \n",
       "9316               Static Text  الوقت المقدر لشحن هذا المنتج أسبوعين   \n",
       "9317               Static Text  الوقت المقدر لشحن هذا المنتج أسبوعين   \n",
       "9318               Static Text  الوقت المقدر لشحن هذا المنتج أسبوعين   \n",
       "9319               Static Text  الوقت المقدر لشحن هذا المنتج أسبوعين   \n",
       "\n",
       "         raw_materials allow_backorders out_of_stock_qty qty product_online  \\\n",
       "0     __EMPTY__VALUE__                1               -5   0              1   \n",
       "1     __EMPTY__VALUE__                1               -5   0              1   \n",
       "2     __EMPTY__VALUE__                1               -5   0              1   \n",
       "3     __EMPTY__VALUE__                1               -5   0              1   \n",
       "4     __EMPTY__VALUE__                1               -5   0              1   \n",
       "...                ...              ...              ...  ..            ...   \n",
       "9311  __EMPTY__VALUE__                1               -5   0              1   \n",
       "9316  __EMPTY__VALUE__                1               -5   0              1   \n",
       "9317  __EMPTY__VALUE__                1               -5   0              1   \n",
       "9318  __EMPTY__VALUE__                1               -5   0              1   \n",
       "9319  __EMPTY__VALUE__                1               -5   0              1   \n",
       "\n",
       "     Width Height Length  \n",
       "0      NaN    NaN    NaN  \n",
       "1      NaN    NaN    NaN  \n",
       "2      NaN    NaN    NaN  \n",
       "3      NaN    NaN    NaN  \n",
       "4      NaN    NaN    NaN  \n",
       "...    ...    ...    ...  \n",
       "9311   NaN    NaN    NaN  \n",
       "9316   NaN    NaN    NaN  \n",
       "9317   NaN    NaN    NaN  \n",
       "9318   NaN    NaN    NaN  \n",
       "9319   NaN    NaN    NaN  \n",
       "\n",
       "[6592 rows x 33 columns]"
      ]
     },
     "execution_count": 312,
     "metadata": {},
     "output_type": "execute_result"
    }
   ],
   "source": [
    "df_update.drop_duplicates(subset=['sku'])"
   ]
  },
  {
   "cell_type": "code",
   "execution_count": null,
   "id": "90630a16",
   "metadata": {},
   "outputs": [],
   "source": []
  },
  {
   "cell_type": "code",
   "execution_count": null,
   "id": "1ff79e8b",
   "metadata": {},
   "outputs": [],
   "source": []
  },
  {
   "cell_type": "code",
   "execution_count": 244,
   "id": "0ea32eff",
   "metadata": {},
   "outputs": [
    {
     "data": {
      "text/plain": [
       "Index(['sku', 'is_in_stock', 'name', 'price', 'special_price', 'free_colors',\n",
       "       'short_description', 'ts_dimensions_width', 'ts_dimensions_height',\n",
       "       'ts_dimensions_length', 'mgs_brand', 'Images1', 'url_key', 'visibility',\n",
       "       'tax_class_name', 'manufacturer', 'news_from_date', 'news_to_date',\n",
       "       'Images2', 'link_url', 'categories1', 'categories2', 'categories3',\n",
       "       'out_of_stock_qty', 'allow_backorders', 'estimated_delivery_enable',\n",
       "       'estimated_delivery_text', 'raw_materials', 'qty', 'product_online'],\n",
       "      dtype='object')"
      ]
     },
     "execution_count": 244,
     "metadata": {},
     "output_type": "execute_result"
    }
   ],
   "source": [
    "df1.columns"
   ]
  },
  {
   "cell_type": "code",
   "execution_count": null,
   "id": "c7c07d65",
   "metadata": {},
   "outputs": [],
   "source": []
  },
  {
   "cell_type": "code",
   "execution_count": null,
   "id": "ca908a92",
   "metadata": {},
   "outputs": [],
   "source": []
  },
  {
   "cell_type": "code",
   "execution_count": null,
   "id": "8556b4e6",
   "metadata": {},
   "outputs": [],
   "source": []
  },
  {
   "cell_type": "code",
   "execution_count": null,
   "id": "bdfd6d14",
   "metadata": {},
   "outputs": [],
   "source": []
  },
  {
   "cell_type": "code",
   "execution_count": null,
   "id": "84226e3c",
   "metadata": {},
   "outputs": [],
   "source": []
  },
  {
   "cell_type": "code",
   "execution_count": null,
   "id": "8e765659",
   "metadata": {},
   "outputs": [],
   "source": []
  },
  {
   "cell_type": "code",
   "execution_count": null,
   "id": "d188ee4f",
   "metadata": {},
   "outputs": [],
   "source": []
  }
 ],
 "metadata": {
  "kernelspec": {
   "display_name": "Python 3",
   "language": "python",
   "name": "python3"
  },
  "language_info": {
   "codemirror_mode": {
    "name": "ipython",
    "version": 3
   },
   "file_extension": ".py",
   "mimetype": "text/x-python",
   "name": "python",
   "nbconvert_exporter": "python",
   "pygments_lexer": "ipython3",
   "version": "3.8.8"
  },
  "toc": {
   "base_numbering": 1,
   "nav_menu": {},
   "number_sections": true,
   "sideBar": true,
   "skip_h1_title": false,
   "title_cell": "Table of Contents",
   "title_sidebar": "Contents",
   "toc_cell": false,
   "toc_position": {
    "height": "calc(100% - 180px)",
    "left": "10px",
    "top": "150px",
    "width": "352px"
   },
   "toc_section_display": true,
   "toc_window_display": true
  }
 },
 "nbformat": 4,
 "nbformat_minor": 5
}
